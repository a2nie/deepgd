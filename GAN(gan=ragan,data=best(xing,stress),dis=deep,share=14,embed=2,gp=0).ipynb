{
 "cells": [
  {
   "cell_type": "markdown",
   "metadata": {
    "id": "wZtYFEhHoBGp"
   },
   "source": [
    "# Import libraries"
   ]
  },
  {
   "cell_type": "code",
   "execution_count": 1,
   "metadata": {
    "id": "KJPfzpxLQI5O"
   },
   "outputs": [],
   "source": [
    "%load_ext autoreload\n",
    "%autoreload 2\n",
    "from deepgd import *"
   ]
  },
  {
   "cell_type": "markdown",
   "metadata": {
    "id": "z4eBEyB1oaJe"
   },
   "source": [
    "# Config"
   ]
  },
  {
   "cell_type": "code",
   "execution_count": 2,
   "metadata": {
    "id": "Q_-MLFhpNvxF"
   },
   "outputs": [],
   "source": [
    "cuda_idx = 0\n",
    "canonicalization = Canonicalization(normalize=Standardization(norm_ord=1),\n",
    "                                    scale=False)\n",
    "config = StaticConfig({\n",
    "    \"name\": 'GAN(gan=ragan,data=best(xing,stress),dis=deep,share=14,embed=2,gp=0)',\n",
    "    \"uid\": None,\n",
    "    \"link\": None,\n",
    "    \"generator\": {\n",
    "        \"params\": {\n",
    "            \"num_blocks\": 9,\n",
    "            \"normalize\": canonicalization\n",
    "        },\n",
    "        \"pretrained\": {\n",
    "            \"name\": None,\n",
    "            \"epoch\": -1,\n",
    "        },\n",
    "        \"optim\": torch.optim.AdamW,\n",
    "        \"lr\" : {\n",
    "            \"initial\": 1e-3,\n",
    "            \"decay\": 0.99,\n",
    "        },\n",
    "    },\n",
    "    \"discriminator\": {\n",
    "        \"params\": {\n",
    "            \"conv\": [2, 16, 16, 16],\n",
    "            \"dense\": [2],\n",
    "            \"shared_depth\": 14,\n",
    "            \"enet_depth\": 2,\n",
    "            \"enet_width\": 64,\n",
    "            \"aggr\": \"add\",\n",
    "            \"normalize\": canonicalization\n",
    "        },\n",
    "        \"pretrained\": {\n",
    "            \"name\": None,\n",
    "            \"epoch\": -1,\n",
    "        },\n",
    "        \"optim\": torch.optim.AdamW,\n",
    "        \"lr\" : {\n",
    "            \"initial\": 1e-3,\n",
    "            \"decay\": 0.99,\n",
    "        },\n",
    "        \"noise\": {\n",
    "            \"std\": 0,\n",
    "            \"decay\": 0.95,\n",
    "        },\n",
    "        \"repeat\": 1,\n",
    "        \"complete\": True,\n",
    "        \"adaptive\": True\n",
    "    },\n",
    "    \"alternate\": \"epoch\",\n",
    "    \"batchsize\": 24,\n",
    "    \"epoch\": {\n",
    "        \"start\": -1,\n",
    "        \"end\": None,\n",
    "    },\n",
    "    \"log_interval\": 1,\n",
    "    \"test\": {\n",
    "        \"name\": \"test\",\n",
    "        \"epoch\": -1,\n",
    "    },\n",
    "    \"gan_flavor\": \"ragan\",\n",
    "    \"gp_weight\": 0,\n",
    "})\n",
    "data_config = StaticConfig({\n",
    "    \"sparse\": False,\n",
    "    \"pivot\": None,\n",
    "    \"init\": \"pmds\",\n",
    "    \"edge\": {\n",
    "        \"index\": \"full_edge_index\",\n",
    "        \"attr\": \"full_edge_attr\",\n",
    "    },\n",
    "})\n",
    "loss_fns = {\n",
    "    Stress(): 1\n",
    "}\n",
    "ctrler_params = {\n",
    "    \"tau\": 0.95,\n",
    "    \"beta\": 1,\n",
    "    \"exploit_rate\": 0.5,\n",
    "    \"warmup\": 2,\n",
    "}\n",
    "paths = StaticConfig({\n",
    "    \"root\": \"artifacts\",\n",
    "    \"checkpoints\": lambda: f\"{paths.root}/checkpoints/{config.name}\",\n",
    "    \"gen_pretrain\": lambda: f\"{paths.root}/checkpoints/{config.generator.pretrained.name}\",\n",
    "    \"dis_pretrain\": lambda: f\"{paths.root}/checkpoints/{config.discriminator.pretrained.name}\",\n",
    "    \"tensorboard\": lambda: f\"{paths.root}/tensorboards/{config.name}\",\n",
    "    \"visualization\": lambda: f\"{paths.root}/visualizations/{config.name}_{config.test.name}\",\n",
    "    \"log\": lambda: f\"{paths.root}/logs/{config.name}.log\",\n",
    "    \"metrics\": lambda suffix: f\"{paths.root}/metrics/{config.name}_{suffix}.pickle\",\n",
    "})"
   ]
  },
  {
   "cell_type": "code",
   "execution_count": 3,
   "metadata": {
    "id": "mdMEAbH10Qaq"
   },
   "outputs": [],
   "source": [
    "if \" \" in config.name:\n",
    "    raise Exception(\"Space is not allowed in model name.\")"
   ]
  },
  {
   "cell_type": "markdown",
   "metadata": {
    "id": "WynW4ZAdBhep"
   },
   "source": [
    "# Prepare"
   ]
  },
  {
   "cell_type": "markdown",
   "metadata": {
    "id": "DR6-vYtr_i_P"
   },
   "source": [
    "## Get log command"
   ]
  },
  {
   "cell_type": "code",
   "execution_count": 4,
   "metadata": {
    "colab": {
     "base_uri": "https://localhost:8080/"
    },
    "id": "9-QpinlslcTO",
    "outputId": "48ae3716-212c-4d46-9efb-b7b4070f73de"
   },
   "outputs": [
    {
     "name": "stdout",
     "output_type": "stream",
     "text": [
      "cd /users/PAS0027/osu10203/deepgd && tail -n1000 -f 'artifacts/logs/GAN(gan=ragan,data=best(xing,stress),dis=deep,share=14,embed=2,gp=0).log'\n"
     ]
    }
   ],
   "source": [
    "print(f\"cd {os.getcwd()} && tail -n1000 -f '{paths.log()}'\")"
   ]
  },
  {
   "cell_type": "code",
   "execution_count": 5,
   "metadata": {},
   "outputs": [
    {
     "name": "stdout",
     "output_type": "stream",
     "text": [
      "tensorboard dev upload --logdir 'artifacts/tensorboards/GAN(gan=ragan,data=best(xing,stress),dis=deep,share=14,embed=2,gp=0)'\n"
     ]
    }
   ],
   "source": [
    "print(f\"tensorboard dev upload --logdir '{paths.tensorboard()}'\")"
   ]
  },
  {
   "cell_type": "markdown",
   "metadata": {
    "id": "innqkwvH_ydD"
   },
   "source": [
    "## Set globals"
   ]
  },
  {
   "cell_type": "code",
   "execution_count": 6,
   "metadata": {
    "id": "Qjq7JlSZlkQR"
   },
   "outputs": [],
   "source": [
    "if cuda_idx is not None and torch.cuda.is_available():\n",
    "    device = f'cuda:{cuda_idx}'\n",
    "    pynvml.nvmlInit()\n",
    "    cuda = pynvml.nvmlDeviceGetHandleByIndex(cuda_idx)\n",
    "else:\n",
    "    device = 'cpu'\n",
    "    cuda =  None\n",
    "np.set_printoptions(precision=2)\n",
    "warnings.filterwarnings(\"ignore\", category=RuntimeWarning)"
   ]
  },
  {
   "cell_type": "markdown",
   "metadata": {
    "id": "0da286l_ApEL"
   },
   "source": [
    "## Load data"
   ]
  },
  {
   "cell_type": "code",
   "execution_count": 7,
   "metadata": {
    "colab": {
     "base_uri": "https://localhost:8080/"
    },
    "id": "RFuSHiZJMU4x",
    "outputId": "54065609-aaea-4536-d79c-73bc73b3f576"
   },
   "outputs": [
    {
     "name": "stdout",
     "output_type": "stream",
     "text": [
      "Load from 'cache/G_list.pickle'\n",
      "Load from 'cache/generate_data_list(list,sparse=False,pivot_mode=None,init_mode=pmds,edge_index=full_edge_index,edge_attr=full_edge_attr,pmds_list=ndarray,gviz_list=ndarray,noisy_layout=True,device=cpu).pickle'\n"
     ]
    },
    {
     "name": "stderr",
     "output_type": "stream",
     "text": [
      "/users/PAS0027/osu10203/.conda/envs/deepgd/lib/python3.9/site-packages/torch_geometric/deprecation.py:13: UserWarning: 'data.DataLoader' is deprecated, use 'loader.DataLoader' instead\n",
      "  warnings.warn(out)\n"
     ]
    }
   ],
   "source": [
    "G_list = load_G_list(data_path='data/rome', index_file='data_index.txt', cache='G_list', cache_prefix='cache/')\n",
    "data_list = generate_data_list(G_list, \n",
    "                               sparse=data_config.sparse, \n",
    "                               pivot_mode=data_config.pivot,\n",
    "                               init_mode=data_config.init,\n",
    "                               edge_index=data_config.edge.index,\n",
    "                               edge_attr=data_config.edge.attr,\n",
    "                               pmds_list=np.load('layouts/rome/pmds.npy', allow_pickle=True),\n",
    "                               gviz_list=np.load('layouts/rome/gviz.npy', allow_pickle=True),\n",
    "                               noisy_layout=True,\n",
    "                               device='cpu', \n",
    "                               cache=True,\n",
    "                               cache_prefix='cache/')\n",
    "train_loader = LazyDeviceMappingDataLoader(data_list[:10000], batch_size=config.batchsize, shuffle=True, device=device)\n",
    "val_loader = LazyDeviceMappingDataLoader(data_list[11000:], batch_size=config.batchsize, shuffle=False, device=device)"
   ]
  },
  {
   "cell_type": "code",
   "execution_count": 8,
   "metadata": {
    "id": "djd1pLt2OxZq"
   },
   "outputs": [],
   "source": [
    "def draw_layout(G, method, draw=True):\n",
    "    if method == 'fa2':\n",
    "        layout = get_fa2_layout(G)\n",
    "    else:\n",
    "        try:\n",
    "            fn = getattr(nx.drawing.layout, f'{method}_layout')\n",
    "            layout = fn(G)\n",
    "        except:\n",
    "            layout = nx.drawing.nx_agraph.graphviz_layout(G, prog=method)\n",
    "    if draw:\n",
    "        nx.draw(G, pos=layout)\n",
    "    return layout"
   ]
  },
  {
   "cell_type": "code",
   "execution_count": 9,
   "metadata": {
    "id": "2vBBw77lR7Em"
   },
   "outputs": [],
   "source": [
    "methods = ['neato', 'dot', 'fdp', 'sfdp', 'twopi', 'circo', 'shell', 'spring', 'circular', 'spectral', 'kamada_kawai', 'fa2', 'pmds']"
   ]
  },
  {
   "cell_type": "code",
   "execution_count": 10,
   "metadata": {
    "id": "dx6VVA9XIc2O"
   },
   "outputs": [],
   "source": [
    "from functools import lru_cache\n",
    "\n",
    "@lru_cache(maxsize=None)\n",
    "def load_pos(method):\n",
    "    return np.load(f'layouts/rome/{method}.npy', allow_pickle=True)"
   ]
  },
  {
   "cell_type": "code",
   "execution_count": 11,
   "metadata": {
    "colab": {
     "base_uri": "https://localhost:8080/",
     "height": 1000,
     "referenced_widgets": [
      "05a37aeeb20049dfa2f97287b3990556",
      "a75afae3adfd4810a0b0991a062535ee",
      "a24ae105ed124595992f7e2e5f909247",
      "01b4cabaf8004dd4b9269b4e6889c498",
      "f3c7c84f2b314bd8b97a7358deaf4fa1",
      "35e4a83e692b4a7bafb46fdf192b2586",
      "62847b5e2678459f845159eef6d4feab",
      "143e81f00313436dacfa246a57108944",
      "e05833f11803400b95ff22246cdc8f2b",
      "53aeede91e074378b5d7f626165655ee",
      "79a43768c1794a10a788a49e5883aa2c"
     ]
    },
    "id": "MSmP-jem9I0X",
    "outputId": "c698f0bf-e96e-4de9-aeda-0b046fc0a03f",
    "scrolled": true,
    "tags": []
   },
   "outputs": [],
   "source": [
    "# best_list = []\n",
    "# best_layout_list = []\n",
    "# for idx, (G, data) in enumerate(zip(tqdm(G_list), data_list)):\n",
    "#     xing, stress, layout = {}, {}, {}\n",
    "#     for m in methods:\n",
    "#         batch = Batch.from_data_list([data])\n",
    "#         pos = load_pos(m)\n",
    "#         p = CanonicalizationByStress()(torch.tensor(pos[idx]).float(), batch)\n",
    "#         x = Xing()(p, batch).item()\n",
    "#         s = Stress()(p, batch).item()\n",
    "#         xing[m] = x\n",
    "#         stress[m] = s\n",
    "#         layout[m] = p.numpy()\n",
    "#         # plt.figure()\n",
    "#         # graph_vis(G, pos[idx])\n",
    "#         # plt.title(f'{m} stress={s:.2f} xing={x}')\n",
    "#     best, *_ = sorted(methods, key=lambda m: (xing[m], stress[m]))\n",
    "#     best_list.append(best)\n",
    "#     best_layout_list.append(layout[best])\n",
    "#     print(f'{best}, xing={xing[best]}, stress={stress[best]:.2f}')"
   ]
  },
  {
   "cell_type": "code",
   "execution_count": 12,
   "metadata": {
    "colab": {
     "base_uri": "https://localhost:8080/"
    },
    "id": "Mx2bZNugdTqa",
    "outputId": "cec05a67-18e8-492f-aaa1-057274a8341a"
   },
   "outputs": [],
   "source": [
    "# pickle.dump(best_list, open('layouts/rome/best[xing,stress].pkl', 'wb'))\n",
    "# np.save('layouts/rome/best[xing,stress].npy', best_layout_list)"
   ]
  },
  {
   "cell_type": "code",
   "execution_count": 13,
   "metadata": {
    "colab": {
     "base_uri": "https://localhost:8080/",
     "height": 49,
     "referenced_widgets": [
      "7e0ae84dd0f3458d893c81b029fe1729",
      "18bdc3bf80fb434abde68de5b72a8870",
      "2e3552ded9594635a51832387ae754a0",
      "54f4aa5080c6498080a63be2cdeefee5",
      "3937586d0879451da5e2138ca3bfd0a0",
      "a9df6e84ce8c499eb2b2cf984995d791",
      "7af6b718dd3d4e01b264377a2fa938e2",
      "a774c86e64004bd6951645f1c24abad4",
      "c86575117cd041f2837762f37d1f387b",
      "6e9907cefb1241688fbd248b8281ed9f",
      "9b8e5405d8264944acab57e81f2f5ad6"
     ]
    },
    "id": "A1-w1fspC53p",
    "outputId": "09c2d5c3-1eef-41eb-dcee-581af1294804"
   },
   "outputs": [
    {
     "data": {
      "application/vnd.jupyter.widget-view+json": {
       "model_id": "a73f483c1b0a4fc98b3a424518db18b1",
       "version_major": 2,
       "version_minor": 0
      },
      "text/plain": [
       "  0%|          | 0/11531 [00:00<?, ?it/s]"
      ]
     },
     "metadata": {},
     "output_type": "display_data"
    }
   ],
   "source": [
    "best_layout_list = np.load('layouts/rome/best[xing,stress].npy', allow_pickle=True)\n",
    "for data, layout in zip(tqdm(data_list), best_layout_list):\n",
    "    data.gt_pos = torch.tensor(layout)"
   ]
  },
  {
   "cell_type": "code",
   "execution_count": 14,
   "metadata": {
    "id": "y6EGh4U7exL_"
   },
   "outputs": [],
   "source": [
    "train_loader = LazyDeviceMappingDataLoader(data_list[:10000], batch_size=config.batchsize, shuffle=True, device=device)\n",
    "val_loader = LazyDeviceMappingDataLoader(data_list[11000:], batch_size=config.batchsize, shuffle=False, device=device)"
   ]
  },
  {
   "cell_type": "code",
   "execution_count": 15,
   "metadata": {
    "colab": {
     "base_uri": "https://localhost:8080/",
     "height": 103,
     "referenced_widgets": [
      "38a33cf69aff48f4aabd4902a7ce48b1",
      "57e277bcb44c4e2fa2a12105d75153d1",
      "20ce017c46bd4a7c9b420270ac579405",
      "13f2df4fe0ce4af88b6e3bd1637065b0",
      "2867faa145ca4860a198d4d0bf830f89",
      "02838cf669174ed9afa41a1a8e680765",
      "7e9e3c031667455f8baca163d3a213e5",
      "4000135e7dfa46529fa6244fccc5cb57",
      "e523e9faac5b4ec38643c05ac5ba99f7",
      "e8e3ee9741e4480dae5003ccc19a7891",
      "9a569045221b43acb3ba2fbf116b2c74"
     ]
    },
    "id": "YEfRRUK0NiNm",
    "outputId": "93f53d05-7667-4cda-a38e-c3a953124f79"
   },
   "outputs": [],
   "source": [
    "# for m in methods:\n",
    "#     layouts = []\n",
    "#     for G in tqdm(G_list):\n",
    "#         layout = draw_layout(G, method=m, draw=False)\n",
    "#         layouts.append(np.array(list(layout.values())))\n",
    "#     np.save(f'layouts/rome/{m}.npy', layouts)"
   ]
  },
  {
   "cell_type": "code",
   "execution_count": 16,
   "metadata": {
    "colab": {
     "base_uri": "https://localhost:8080/",
     "height": 564
    },
    "id": "upK7AHYqPmC5",
    "outputId": "29a88e61-f55f-409c-9194-12c6d5762528"
   },
   "outputs": [],
   "source": [
    "# from collections import Counter\n",
    "\n",
    "# letter_counts = Counter(best_list)\n",
    "# df = pd.DataFrame.from_dict(letter_counts, orient='index')\n",
    "# df.plot(kind='bar', figsize=[12, 8])"
   ]
  },
  {
   "cell_type": "markdown",
   "metadata": {
    "id": "f-ODE2k8BFV6"
   },
   "source": [
    "## Create folders"
   ]
  },
  {
   "cell_type": "code",
   "execution_count": 17,
   "metadata": {
    "id": "3ykUMINYBRog"
   },
   "outputs": [],
   "source": [
    "mkdirs(paths.checkpoints(), paths.tensorboard(), paths.visualization(), f\"{paths.root}/logs\", f\"{paths.root}/metrics\")"
   ]
  },
  {
   "cell_type": "markdown",
   "metadata": {
    "id": "BFq9k5nzBIh5"
   },
   "source": [
    "## Load checkpoints"
   ]
  },
  {
   "cell_type": "code",
   "execution_count": 18,
   "metadata": {
    "id": "W5NbsKkobIfA"
   },
   "outputs": [],
   "source": [
    "class EdgeFeatureDiscriminator(nn.Module):\n",
    "    def __init__(self, \n",
    "                 conv, \n",
    "                 dense,\n",
    "                 shared_depth,\n",
    "                 enet_depth,\n",
    "                 enet_width,\n",
    "                 aggr='add', \n",
    "                 root_weight=True,\n",
    "                 normalize=None):\n",
    "        super().__init__()\n",
    "        self.enet = nn.Sequential(*[\n",
    "            DenseLayer(in_dim=in_d,\n",
    "                       out_dim=out_d,\n",
    "                       skip=nonlin,\n",
    "                       bn=nonlin,\n",
    "                       act=nonlin,\n",
    "                       dp=None)\n",
    "            for in_d, out_d, nonlin \n",
    "            in zip([self._get_feature_dim()] + [enet_width] * (shared_depth-1),\n",
    "                   [enet_width] * shared_depth,\n",
    "                   [True] * (shared_depth-1) + [False])     \n",
    "        ])\n",
    "        self.blocks = nn.ModuleList([\n",
    "            GNNLayer(nfeat_dims=(in_d, out_d),\n",
    "                     efeat_dim=enet_width,\n",
    "                     edge_net=EdgeNet(nfeat_dims=(in_d, out_d), \n",
    "                                      efeat_dim=enet_width, \n",
    "                                      depth=enet_depth, \n",
    "                                      width=enet_width),\n",
    "                     aggr=aggr,\n",
    "                     dense=False,\n",
    "                     skip=nonlin,\n",
    "                     bn=nonlin,\n",
    "                     act=nonlin,\n",
    "                     root_weight=root_weight) \n",
    "            for in_d, out_d, nonlin \n",
    "            in zip(conv[:-1], conv[1:], [True] * (len(conv)-2) + [False])     \n",
    "        ])\n",
    "        self.pool = (gnn.global_mean_pool if aggr == 'mean' \n",
    "                     else gnn.global_add_pool if aggr == 'add' \n",
    "                     else None)\n",
    "        self.dense = nn.Identity() if not dense else nn.Sequential(*[\n",
    "            DenseLayer(in_dim=in_d,\n",
    "                       out_dim=out_d,\n",
    "                       skip=nonlin,\n",
    "                       bn=nonlin,\n",
    "                       act=nonlin,\n",
    "                       dp=None)\n",
    "            for in_d, out_d, nonlin \n",
    "            in zip(conv[-1:] + dense[:-1], dense, [True] * (len(dense)-1) + [False])     \n",
    "        ])\n",
    "        self.normalize = normalize or IdentityTransformation()\n",
    "    \n",
    "    def forward(self, batch):\n",
    "        x = torch.ones_like(batch.pos)\n",
    "        e = self.enet(self._get_features(self._get_edge_info(batch, layout='pos')))\n",
    "        for block in self.blocks:\n",
    "            x = block(x, e, batch)\n",
    "        x = self.pool(x, batch.batch)\n",
    "        x = self.dense(x)\n",
    "        return x\n",
    "    \n",
    "    def _get_edge_info(self, batch, layout='gt_pos'):\n",
    "        pos = self.normalize(batch[layout].float(), batch)\n",
    "        src, dst = get_edges(pos, batch)\n",
    "        v, u = l2_normalize(dst - src, return_norm=True)\n",
    "        d = batch.edge_attr[:, :1]\n",
    "        return {\n",
    "            \"src\": src,\n",
    "            \"dst\": dst,\n",
    "            \"v\": v,\n",
    "            \"u\": u,\n",
    "            \"d\": d,\n",
    "        }\n",
    "\n",
    "    def _get_features(self, edges):\n",
    "        return torch.cat([edges['src'], edges['dst'], edges['d']], dim=1)\n",
    "        \n",
    "    def _get_feature_dim(self):\n",
    "        return self._get_features({\n",
    "            \"src\": torch.zeros(1, 2),\n",
    "            \"dst\": torch.zeros(1, 2),\n",
    "            \"v\": torch.zeros(1, 2),\n",
    "            \"u\": torch.zeros(1, 1),\n",
    "            \"d\": torch.zeros(1, 1),\n",
    "        }).shape[-1]"
   ]
  },
  {
   "cell_type": "code",
   "execution_count": 19,
   "metadata": {
    "id": "96ZActxlL0fJ"
   },
   "outputs": [],
   "source": [
    "class StressDiscriminator(nn.Module):\n",
    "    def __init__(self, normalize=CanonicalizationByStress(), **kwargs):\n",
    "        super().__init__()\n",
    "        self.dummy = nn.Parameter(torch.zeros(1))\n",
    "        self.normalize = normalize\n",
    "        self.stress = Stress(reduce=None)\n",
    "\n",
    "    def forward(self, batch):\n",
    "        return -self.stress(self.normalize(batch.pos, batch), batch)"
   ]
  },
  {
   "cell_type": "code",
   "execution_count": 20,
   "metadata": {
    "id": "IJ6xCYBUuhcw"
   },
   "outputs": [],
   "source": [
    "def get_ckpt_epoch(folder, epoch):\n",
    "    if not os.path.isdir(folder):\n",
    "        os.mkdir(folder)\n",
    "    if epoch >= 0:\n",
    "        return epoch\n",
    "    ckpt_files = os.listdir(folder)\n",
    "    last_epoch = 0\n",
    "    if ckpt_files:\n",
    "        last_epoch = sorted(list(map(lambda x: int(re.search('(?<=epoch_)(\\d+)(?=\\.)', x).group(1)), ckpt_files)))[-1]\n",
    "    return last_epoch + epoch + 1\n",
    "\n",
    "def start_epoch():\n",
    "    return get_ckpt_epoch(paths.checkpoints(), config.epoch.start)"
   ]
  },
  {
   "cell_type": "code",
   "execution_count": 21,
   "metadata": {
    "colab": {
     "base_uri": "https://localhost:8080/"
    },
    "id": "JacDYXka9U01",
    "outputId": "ef4e31ab-2144-497c-8e4f-4d3740ce2d52"
   },
   "outputs": [
    {
     "name": "stdout",
     "output_type": "stream",
     "text": [
      "Loading from artifacts/checkpoints/GAN(gan=ragan,data=best(xing,stress),dis=deep,share=14,embed=2,gp=0)/gen_epoch_1104.pt...\n",
      "Loading from artifacts/checkpoints/GAN(gan=ragan,data=best(xing,stress),dis=deep,share=14,embed=2,gp=0)/gen_optim_epoch_1104.pt...\n"
     ]
    }
   ],
   "source": [
    "generator = Generator(**config.generator.params[...]).to(device)\n",
    "generator_optimizer = config.generator.optim(generator.parameters(), lr=config.generator.lr.initial * config.generator.lr.decay ** start_epoch())\n",
    "generator_scheduler = torch.optim.lr_scheduler.ExponentialLR(generator_optimizer, gamma=config.generator.lr.decay)\n",
    "if start_epoch() != 0:\n",
    "    gen_ckpt_epoch = start_epoch()\n",
    "elif config.generator.pretrained.name is not None and config.generator.pretrained.epoch != 0:\n",
    "    gen_pretrained_epoch = get_ckpt_epoch(paths.gen_pretrain(), config.generator.pretrained.epoch)\n",
    "    gen_ckpt_epoch = gen_pretrained_epoch \n",
    "else:\n",
    "    gen_ckpt_epoch = None\n",
    "if gen_ckpt_epoch is not None:\n",
    "    # Load generator\n",
    "    gen_ckpt_file = f\"{paths.checkpoints()}/gen_epoch_{gen_ckpt_epoch}.pt\"\n",
    "    print(f\"Loading from {gen_ckpt_file}...\")\n",
    "    generator.load_state_dict(torch.load(gen_ckpt_file, map_location=torch.device(device)))\n",
    "    # Load generator optimizer\n",
    "    gen_optim_ckpt_file = f\"{paths.checkpoints()}/gen_optim_epoch_{gen_ckpt_epoch}.pt\"\n",
    "    print(f\"Loading from {gen_optim_ckpt_file}...\")\n",
    "    generator_optimizer.load_state_dict(torch.load(gen_optim_ckpt_file, map_location=torch.device(device)))"
   ]
  },
  {
   "cell_type": "code",
   "execution_count": 22,
   "metadata": {
    "colab": {
     "base_uri": "https://localhost:8080/"
    },
    "id": "oWQhD7-88VXe",
    "outputId": "3ba01600-b546-4e45-a6bd-c7a65af1ae9e"
   },
   "outputs": [
    {
     "name": "stdout",
     "output_type": "stream",
     "text": [
      "Loading from artifacts/checkpoints/GAN(gan=ragan,data=best(xing,stress),dis=deep,share=14,embed=2,gp=0)/dis_epoch_1104.pt...\n",
      "Loading from artifacts/checkpoints/GAN(gan=ragan,data=best(xing,stress),dis=deep,share=14,embed=2,gp=0)/dis_optim_epoch_1104.pt...\n"
     ]
    }
   ],
   "source": [
    "discriminator = EdgeFeatureDiscriminator(**config.discriminator.params[...]).to(device)\n",
    "discriminator_optimizer = config.discriminator.optim(discriminator.parameters(), lr=config.discriminator.lr.initial * config.discriminator.lr.decay ** start_epoch())\n",
    "discriminator_scheduler = torch.optim.lr_scheduler.ExponentialLR(discriminator_optimizer, gamma=config.discriminator.lr.decay)\n",
    "if start_epoch() != 0:\n",
    "    dis_ckpt_epoch = start_epoch()\n",
    "elif config.discriminator.pretrained.name is not None and config.discriminator.pretrained.epoch != 0:\n",
    "    dis_pretrained_epoch = get_ckpt_epoch(paths.dis_pretrain(), config.discriminator.pretrained.epoch)\n",
    "    dis_ckpt_epoch = dis_pretrained_epoch # f\"{paths.dis_pretrain()}/dis_epoch_{dis_pretrained_epoch}.pt\"\n",
    "else:\n",
    "    dis_ckpt_epoch = None\n",
    "if dis_ckpt_epoch is not None:\n",
    "    # Load discriminator\n",
    "    dis_ckpt_file = f\"{paths.checkpoints()}/dis_epoch_{dis_ckpt_epoch}.pt\"\n",
    "    print(f\"Loading from {dis_ckpt_file}...\")\n",
    "    discriminator.load_state_dict(torch.load(dis_ckpt_file, map_location=torch.device(device)))\n",
    "    # Load discriminator optimizer\n",
    "    dis_optim_ckpt_file = f\"{paths.checkpoints()}/dis_optim_epoch_{dis_ckpt_epoch}.pt\"\n",
    "    print(f\"Loading from {dis_optim_ckpt_file}...\")\n",
    "    discriminator_optimizer.load_state_dict(torch.load(dis_optim_ckpt_file, map_location=torch.device(device)))"
   ]
  },
  {
   "cell_type": "markdown",
   "metadata": {
    "id": "N39dDHraedM6"
   },
   "source": [
    "# Train"
   ]
  },
  {
   "cell_type": "code",
   "execution_count": 23,
   "metadata": {
    "id": "BdIJSDSJedM-"
   },
   "outputs": [],
   "source": [
    "stress_criterion = StressDiscriminator().to(device)\n",
    "val_criterion = Stress(reduce=None)\n",
    "xing_criterion = Xing(reduce=None)\n",
    "dis_convert = DiscriminatorDataConverter(complete_graph=config.discriminator.complete, normalize=config.discriminator.params.normalize)\n",
    "tensorboard = SummaryWriter(log_dir=paths.tensorboard())\n",
    "epoch = start_epoch() + 1"
   ]
  },
  {
   "cell_type": "code",
   "execution_count": 24,
   "metadata": {
    "id": "OHRWj1h0edM-"
   },
   "outputs": [],
   "source": [
    "def gradient_penalty(interpolated, discriminator, weight=10):\n",
    "    interpolated.pos.requires_grad_()\n",
    "    prob_interpolated = discriminator(interpolated)\n",
    "    gradients = autograd.grad(outputs=prob_interpolated, \n",
    "                              inputs=interpolated.pos,\n",
    "                              grad_outputs=torch.ones_like(prob_interpolated),\n",
    "                              create_graph=True, \n",
    "                              retain_graph=True, \n",
    "                              allow_unused=True)[0]\n",
    "    gradients_norm = torch.sqrt(gnn.global_add_pool(gradients.square().sum(dim=1), batch.batch) + 1e-8)\n",
    "    return weight * ((gradients_norm - 1) ** 2).mean()"
   ]
  },
  {
   "cell_type": "code",
   "execution_count": 25,
   "metadata": {
    "id": "o5wJJN9AedM_"
   },
   "outputs": [],
   "source": [
    "def get_gp_loss(batch, fake_pos, weight):\n",
    "    if weight > 0:\n",
    "        interp = dis_convert(batch, fake_pos, random.random())\n",
    "        return gradient_penalty(interp, discriminator, weight).mean()\n",
    "    return 0"
   ]
  },
  {
   "cell_type": "code",
   "execution_count": 26,
   "metadata": {
    "id": "QwuA6sRoedM_"
   },
   "outputs": [],
   "source": [
    "def get_sgan_loss(batch, fake_pos, mode='discriminator'):\n",
    "    real = dis_convert(batch)\n",
    "    fake = dis_convert(batch, fake_pos)\n",
    "    pred = discriminator(merge_batch(real, fake)).view(2, -1).T\n",
    "    if mode == 'discriminator':\n",
    "        label = torch.zeros(pred.shape[0]).long()\n",
    "    elif mode == 'generator':\n",
    "        label = torch.ones(pred.shape[0]).long()\n",
    "    else:\n",
    "        raise Exception\n",
    "    return nn.CrossEntropyLoss()(pred, label)"
   ]
  },
  {
   "cell_type": "code",
   "execution_count": 27,
   "metadata": {
    "id": "GuAP1YchedNA"
   },
   "outputs": [],
   "source": [
    "def get_rgan_loss(batch, fake_pos, mode='discriminator'):\n",
    "    real = dis_convert(batch)\n",
    "    fake = dis_convert(batch, fake_pos)\n",
    "    pred = discriminator(merge_batch(real, fake)).view(2, -1).T\n",
    "    real_pred, fake_pred = pred[:,0], pred[:,1]\n",
    "    if mode == 'discriminator':\n",
    "        losses = - F.logsigmoid(real_pred - fake_pred)\n",
    "    elif mode == 'generator':\n",
    "        losses = - F.logsigmoid(fake_pred - real_pred)\n",
    "    else:\n",
    "        raise Exception\n",
    "    return losses.mean()"
   ]
  },
  {
   "cell_type": "code",
   "execution_count": 28,
   "metadata": {
    "id": "KFllQ7BredNA"
   },
   "outputs": [],
   "source": [
    "def get_wgan_loss(batch, fake_pos, mode='discriminator'):\n",
    "    real = dis_convert(batch)\n",
    "    fake = dis_convert(batch, fake_pos)\n",
    "    pred = discriminator(merge_batch(real, fake)).view(2, -1).T\n",
    "    real_pred, fake_pred = pred[:,0], pred[:,1]\n",
    "    if mode == 'discriminator':\n",
    "        losses = fake_pred - real_pred \n",
    "    elif mode == 'generator':\n",
    "        losses = real_pred - fake_pred\n",
    "    else:\n",
    "        raise Exception\n",
    "    return losses.mean()"
   ]
  },
  {
   "cell_type": "code",
   "execution_count": 29,
   "metadata": {
    "id": "r5Kg_tYEedNA"
   },
   "outputs": [],
   "source": [
    "def get_ragan_loss(batch, fake_pos, mode='discriminator'):\n",
    "    real = dis_convert(batch)\n",
    "    fake = dis_convert(batch, fake_pos)\n",
    "    pred = discriminator(merge_batch(real, fake)).view(2, -1).T\n",
    "    real_pred, fake_pred = pred[:,0], pred[:,1]\n",
    "    if mode == 'discriminator':\n",
    "        losses = - F.logsigmoid(real_pred - fake_pred.mean()) - F.logsigmoid(real_pred.mean() - fake_pred)\n",
    "    elif mode == 'generator':\n",
    "        losses = - F.logsigmoid(fake_pred - real_pred.mean()) - F.logsigmoid(fake_pred.mean() - real_pred)\n",
    "    else:\n",
    "        raise Exception\n",
    "    return losses.mean()"
   ]
  },
  {
   "cell_type": "code",
   "execution_count": 30,
   "metadata": {},
   "outputs": [],
   "source": [
    "def get_dgdv2_loss(batch, fake_pos, mode='discriminator'):\n",
    "    fake = dis_convert(batch, fake_pos)\n",
    "    pred = discriminator(fake)\n",
    "    if mode == 'discriminator':\n",
    "        gt = get_gt(batch, fake_pos)\n",
    "        loss = criterion(pred, gt)\n",
    "    elif mode == 'generator':\n",
    "        losses = pred.sum(dim=0)\n",
    "#         losses = torch.tensor(config.importance).to(device) * losses #/ losses.detach()\n",
    "        loss = losses.sum()\n",
    "    else:\n",
    "        raise Exception\n",
    "    return -loss"
   ]
  },
  {
   "cell_type": "code",
   "execution_count": 31,
   "metadata": {
    "id": "3IE_84f-edNB"
   },
   "outputs": [],
   "source": [
    "def get_gan_loss(batch, fake_pos, mode='discriminator'):\n",
    "    return {\"sgan\": get_sgan_loss,\n",
    "            \"wgan\": get_wgan_loss,\n",
    "            \"rgan\": get_rgan_loss,\n",
    "            \"ragan\": get_ragan_loss,\n",
    "            \"dgdv2\": get_dgdv2_loss}[config.gan_flavor](batch, fake_pos, mode)"
   ]
  },
  {
   "cell_type": "code",
   "execution_count": 32,
   "metadata": {
    "colab": {
     "background_save": true,
     "base_uri": "https://localhost:8080/",
     "height": 80
    },
    "id": "2NjekXgkedNB",
    "outputId": "da85b2ec-c0de-459c-c0dd-7ba3519419fa",
    "scrolled": true,
    "tags": []
   },
   "outputs": [
    {
     "data": {
      "application/vnd.jupyter.widget-view+json": {
       "model_id": "a5f5f5081b934d80be82459fc6b32ae5",
       "version_major": 2,
       "version_minor": 0
      },
      "text/plain": [
       "Tab(children=(VBox(children=(Wrapper(), Hud())), HBox(children=(Output(),), layout=Layout(height='500px', over…"
      ]
     },
     "metadata": {},
     "output_type": "display_data"
    },
    {
     "ename": "KeyboardInterrupt",
     "evalue": "",
     "output_type": "error",
     "traceback": [
      "\u001b[0;31m---------------------------------------------------------------------------\u001b[0m",
      "\u001b[0;31mKeyboardInterrupt\u001b[0m                         Traceback (most recent call last)",
      "\u001b[0;32m/tmp/slurmtmp.5826414/ipykernel_129856/801679965.py\u001b[0m in \u001b[0;36m<module>\u001b[0;34m\u001b[0m\n\u001b[1;32m    127\u001b[0m     \u001b[0;32mfor\u001b[0m \u001b[0m_\u001b[0m \u001b[0;32min\u001b[0m \u001b[0mrange\u001b[0m\u001b[0;34m(\u001b[0m\u001b[0mconfig\u001b[0m\u001b[0;34m.\u001b[0m\u001b[0mdiscriminator\u001b[0m\u001b[0;34m.\u001b[0m\u001b[0mrepeat\u001b[0m\u001b[0;34m)\u001b[0m\u001b[0;34m:\u001b[0m\u001b[0;34m\u001b[0m\u001b[0;34m\u001b[0m\u001b[0m\n\u001b[1;32m    128\u001b[0m         \u001b[0;32mfor\u001b[0m \u001b[0mbatch\u001b[0m \u001b[0;32min\u001b[0m \u001b[0mtrain_loader\u001b[0m\u001b[0;34m:\u001b[0m\u001b[0;34m\u001b[0m\u001b[0;34m\u001b[0m\u001b[0m\n\u001b[0;32m--> 129\u001b[0;31m             \u001b[0mtrain_dis\u001b[0m\u001b[0;34m(\u001b[0m\u001b[0mbatch\u001b[0m\u001b[0;34m,\u001b[0m \u001b[0mepoch\u001b[0m\u001b[0;34m)\u001b[0m\u001b[0;34m\u001b[0m\u001b[0;34m\u001b[0m\u001b[0m\n\u001b[0m\u001b[1;32m    130\u001b[0m             \u001b[0;32mif\u001b[0m \u001b[0mconfig\u001b[0m\u001b[0;34m.\u001b[0m\u001b[0malternate\u001b[0m \u001b[0;34m==\u001b[0m \u001b[0;34m'iteration'\u001b[0m\u001b[0;34m:\u001b[0m\u001b[0;34m\u001b[0m\u001b[0;34m\u001b[0m\u001b[0m\n\u001b[1;32m    131\u001b[0m                 \u001b[0mtrain_gen\u001b[0m\u001b[0;34m(\u001b[0m\u001b[0mbatch\u001b[0m\u001b[0;34m,\u001b[0m \u001b[0mepoch\u001b[0m\u001b[0;34m)\u001b[0m\u001b[0;34m\u001b[0m\u001b[0;34m\u001b[0m\u001b[0m\n",
      "\u001b[0;32m/tmp/slurmtmp.5826414/ipykernel_129856/801679965.py\u001b[0m in \u001b[0;36mtrain_dis\u001b[0;34m(batch, epoch)\u001b[0m\n\u001b[1;32m      5\u001b[0m     \u001b[0;32mif\u001b[0m \u001b[0mconfig\u001b[0m\u001b[0;34m.\u001b[0m\u001b[0mdiscriminator\u001b[0m\u001b[0;34m.\u001b[0m\u001b[0mnoise\u001b[0m\u001b[0;34m.\u001b[0m\u001b[0mstd\u001b[0m \u001b[0;34m>\u001b[0m \u001b[0;36m0\u001b[0m\u001b[0;34m:\u001b[0m\u001b[0;34m\u001b[0m\u001b[0;34m\u001b[0m\u001b[0m\n\u001b[1;32m      6\u001b[0m         \u001b[0mgenerator_output\u001b[0m \u001b[0;34m=\u001b[0m \u001b[0mgenerator_output\u001b[0m \u001b[0;34m+\u001b[0m \u001b[0mtorch\u001b[0m\u001b[0;34m.\u001b[0m\u001b[0mrandn_like\u001b[0m\u001b[0;34m(\u001b[0m\u001b[0mgenerator_output\u001b[0m\u001b[0;34m)\u001b[0m \u001b[0;34m*\u001b[0m \u001b[0mconfig\u001b[0m\u001b[0;34m.\u001b[0m\u001b[0mdiscriminator\u001b[0m\u001b[0;34m.\u001b[0m\u001b[0mnoise\u001b[0m\u001b[0;34m.\u001b[0m\u001b[0mstd\u001b[0m \u001b[0;34m*\u001b[0m \u001b[0mconfig\u001b[0m\u001b[0;34m.\u001b[0m\u001b[0mdiscriminator\u001b[0m\u001b[0;34m.\u001b[0m\u001b[0mnoise\u001b[0m\u001b[0;34m.\u001b[0m\u001b[0mdecay\u001b[0m \u001b[0;34m**\u001b[0m \u001b[0mepoch\u001b[0m\u001b[0;34m\u001b[0m\u001b[0;34m\u001b[0m\u001b[0m\n\u001b[0;32m----> 7\u001b[0;31m     \u001b[0mdiscriminator_loss\u001b[0m \u001b[0;34m=\u001b[0m \u001b[0mget_gan_loss\u001b[0m\u001b[0;34m(\u001b[0m\u001b[0mbatch\u001b[0m\u001b[0;34m,\u001b[0m \u001b[0mgenerator_output\u001b[0m\u001b[0;34m,\u001b[0m \u001b[0mmode\u001b[0m\u001b[0;34m=\u001b[0m\u001b[0;34m'discriminator'\u001b[0m\u001b[0;34m)\u001b[0m\u001b[0;34m\u001b[0m\u001b[0;34m\u001b[0m\u001b[0m\n\u001b[0m\u001b[1;32m      8\u001b[0m \u001b[0;34m\u001b[0m\u001b[0m\n\u001b[1;32m      9\u001b[0m     \u001b[0;31m# train discriminator\u001b[0m\u001b[0;34m\u001b[0m\u001b[0;34m\u001b[0m\u001b[0m\n",
      "\u001b[0;32m/tmp/slurmtmp.5826414/ipykernel_129856/4066978981.py\u001b[0m in \u001b[0;36mget_gan_loss\u001b[0;34m(batch, fake_pos, mode)\u001b[0m\n\u001b[1;32m      1\u001b[0m \u001b[0;32mdef\u001b[0m \u001b[0mget_gan_loss\u001b[0m\u001b[0;34m(\u001b[0m\u001b[0mbatch\u001b[0m\u001b[0;34m,\u001b[0m \u001b[0mfake_pos\u001b[0m\u001b[0;34m,\u001b[0m \u001b[0mmode\u001b[0m\u001b[0;34m=\u001b[0m\u001b[0;34m'discriminator'\u001b[0m\u001b[0;34m)\u001b[0m\u001b[0;34m:\u001b[0m\u001b[0;34m\u001b[0m\u001b[0;34m\u001b[0m\u001b[0m\n\u001b[0;32m----> 2\u001b[0;31m     return {\"sgan\": get_sgan_loss,\n\u001b[0m\u001b[1;32m      3\u001b[0m             \u001b[0;34m\"wgan\"\u001b[0m\u001b[0;34m:\u001b[0m \u001b[0mget_wgan_loss\u001b[0m\u001b[0;34m,\u001b[0m\u001b[0;34m\u001b[0m\u001b[0;34m\u001b[0m\u001b[0m\n\u001b[1;32m      4\u001b[0m             \u001b[0;34m\"rgan\"\u001b[0m\u001b[0;34m:\u001b[0m \u001b[0mget_rgan_loss\u001b[0m\u001b[0;34m,\u001b[0m\u001b[0;34m\u001b[0m\u001b[0;34m\u001b[0m\u001b[0m\n\u001b[1;32m      5\u001b[0m             \u001b[0;34m\"ragan\"\u001b[0m\u001b[0;34m:\u001b[0m \u001b[0mget_ragan_loss\u001b[0m\u001b[0;34m,\u001b[0m\u001b[0;34m\u001b[0m\u001b[0;34m\u001b[0m\u001b[0m\n",
      "\u001b[0;32m/tmp/slurmtmp.5826414/ipykernel_129856/2448263638.py\u001b[0m in \u001b[0;36mget_ragan_loss\u001b[0;34m(batch, fake_pos, mode)\u001b[0m\n\u001b[1;32m      2\u001b[0m     \u001b[0mreal\u001b[0m \u001b[0;34m=\u001b[0m \u001b[0mdis_convert\u001b[0m\u001b[0;34m(\u001b[0m\u001b[0mbatch\u001b[0m\u001b[0;34m)\u001b[0m\u001b[0;34m\u001b[0m\u001b[0;34m\u001b[0m\u001b[0m\n\u001b[1;32m      3\u001b[0m     \u001b[0mfake\u001b[0m \u001b[0;34m=\u001b[0m \u001b[0mdis_convert\u001b[0m\u001b[0;34m(\u001b[0m\u001b[0mbatch\u001b[0m\u001b[0;34m,\u001b[0m \u001b[0mfake_pos\u001b[0m\u001b[0;34m)\u001b[0m\u001b[0;34m\u001b[0m\u001b[0;34m\u001b[0m\u001b[0m\n\u001b[0;32m----> 4\u001b[0;31m     \u001b[0mpred\u001b[0m \u001b[0;34m=\u001b[0m \u001b[0mdiscriminator\u001b[0m\u001b[0;34m(\u001b[0m\u001b[0mmerge_batch\u001b[0m\u001b[0;34m(\u001b[0m\u001b[0mreal\u001b[0m\u001b[0;34m,\u001b[0m \u001b[0mfake\u001b[0m\u001b[0;34m)\u001b[0m\u001b[0;34m)\u001b[0m\u001b[0;34m.\u001b[0m\u001b[0mview\u001b[0m\u001b[0;34m(\u001b[0m\u001b[0;36m2\u001b[0m\u001b[0;34m,\u001b[0m \u001b[0;34m-\u001b[0m\u001b[0;36m1\u001b[0m\u001b[0;34m)\u001b[0m\u001b[0;34m.\u001b[0m\u001b[0mT\u001b[0m\u001b[0;34m\u001b[0m\u001b[0;34m\u001b[0m\u001b[0m\n\u001b[0m\u001b[1;32m      5\u001b[0m     \u001b[0mreal_pred\u001b[0m\u001b[0;34m,\u001b[0m \u001b[0mfake_pred\u001b[0m \u001b[0;34m=\u001b[0m \u001b[0mpred\u001b[0m\u001b[0;34m[\u001b[0m\u001b[0;34m:\u001b[0m\u001b[0;34m,\u001b[0m\u001b[0;36m0\u001b[0m\u001b[0;34m]\u001b[0m\u001b[0;34m,\u001b[0m \u001b[0mpred\u001b[0m\u001b[0;34m[\u001b[0m\u001b[0;34m:\u001b[0m\u001b[0;34m,\u001b[0m\u001b[0;36m1\u001b[0m\u001b[0;34m]\u001b[0m\u001b[0;34m\u001b[0m\u001b[0;34m\u001b[0m\u001b[0m\n\u001b[1;32m      6\u001b[0m     \u001b[0;32mif\u001b[0m \u001b[0mmode\u001b[0m \u001b[0;34m==\u001b[0m \u001b[0;34m'discriminator'\u001b[0m\u001b[0;34m:\u001b[0m\u001b[0;34m\u001b[0m\u001b[0;34m\u001b[0m\u001b[0m\n",
      "\u001b[0;32m~/.conda/envs/deepgd/lib/python3.9/site-packages/torch/nn/modules/module.py\u001b[0m in \u001b[0;36m_call_impl\u001b[0;34m(self, *input, **kwargs)\u001b[0m\n\u001b[1;32m   1049\u001b[0m         if not (self._backward_hooks or self._forward_hooks or self._forward_pre_hooks or _global_backward_hooks\n\u001b[1;32m   1050\u001b[0m                 or _global_forward_hooks or _global_forward_pre_hooks):\n\u001b[0;32m-> 1051\u001b[0;31m             \u001b[0;32mreturn\u001b[0m \u001b[0mforward_call\u001b[0m\u001b[0;34m(\u001b[0m\u001b[0;34m*\u001b[0m\u001b[0minput\u001b[0m\u001b[0;34m,\u001b[0m \u001b[0;34m**\u001b[0m\u001b[0mkwargs\u001b[0m\u001b[0;34m)\u001b[0m\u001b[0;34m\u001b[0m\u001b[0;34m\u001b[0m\u001b[0m\n\u001b[0m\u001b[1;32m   1052\u001b[0m         \u001b[0;31m# Do not call functions when jit is used\u001b[0m\u001b[0;34m\u001b[0m\u001b[0;34m\u001b[0m\u001b[0m\n\u001b[1;32m   1053\u001b[0m         \u001b[0mfull_backward_hooks\u001b[0m\u001b[0;34m,\u001b[0m \u001b[0mnon_full_backward_hooks\u001b[0m \u001b[0;34m=\u001b[0m \u001b[0;34m[\u001b[0m\u001b[0;34m]\u001b[0m\u001b[0;34m,\u001b[0m \u001b[0;34m[\u001b[0m\u001b[0;34m]\u001b[0m\u001b[0;34m\u001b[0m\u001b[0;34m\u001b[0m\u001b[0m\n",
      "\u001b[0;32m/tmp/slurmtmp.5826414/ipykernel_129856/3879066284.py\u001b[0m in \u001b[0;36mforward\u001b[0;34m(self, batch)\u001b[0m\n\u001b[1;32m     58\u001b[0m         \u001b[0;32mfor\u001b[0m \u001b[0mblock\u001b[0m \u001b[0;32min\u001b[0m \u001b[0mself\u001b[0m\u001b[0;34m.\u001b[0m\u001b[0mblocks\u001b[0m\u001b[0;34m:\u001b[0m\u001b[0;34m\u001b[0m\u001b[0;34m\u001b[0m\u001b[0m\n\u001b[1;32m     59\u001b[0m             \u001b[0mx\u001b[0m \u001b[0;34m=\u001b[0m \u001b[0mblock\u001b[0m\u001b[0;34m(\u001b[0m\u001b[0mx\u001b[0m\u001b[0;34m,\u001b[0m \u001b[0me\u001b[0m\u001b[0;34m,\u001b[0m \u001b[0mbatch\u001b[0m\u001b[0;34m)\u001b[0m\u001b[0;34m\u001b[0m\u001b[0;34m\u001b[0m\u001b[0m\n\u001b[0;32m---> 60\u001b[0;31m         \u001b[0mx\u001b[0m \u001b[0;34m=\u001b[0m \u001b[0mself\u001b[0m\u001b[0;34m.\u001b[0m\u001b[0mpool\u001b[0m\u001b[0;34m(\u001b[0m\u001b[0mx\u001b[0m\u001b[0;34m,\u001b[0m \u001b[0mbatch\u001b[0m\u001b[0;34m.\u001b[0m\u001b[0mbatch\u001b[0m\u001b[0;34m)\u001b[0m\u001b[0;34m\u001b[0m\u001b[0;34m\u001b[0m\u001b[0m\n\u001b[0m\u001b[1;32m     61\u001b[0m         \u001b[0mx\u001b[0m \u001b[0;34m=\u001b[0m \u001b[0mself\u001b[0m\u001b[0;34m.\u001b[0m\u001b[0mdense\u001b[0m\u001b[0;34m(\u001b[0m\u001b[0mx\u001b[0m\u001b[0;34m)\u001b[0m\u001b[0;34m\u001b[0m\u001b[0;34m\u001b[0m\u001b[0m\n\u001b[1;32m     62\u001b[0m         \u001b[0;32mreturn\u001b[0m \u001b[0mx\u001b[0m\u001b[0;34m\u001b[0m\u001b[0;34m\u001b[0m\u001b[0m\n",
      "\u001b[0;32m~/.conda/envs/deepgd/lib/python3.9/site-packages/torch_geometric/nn/glob/glob.py\u001b[0m in \u001b[0;36mglobal_add_pool\u001b[0;34m(x, batch, size)\u001b[0m\n\u001b[1;32m     23\u001b[0m     \"\"\"\n\u001b[1;32m     24\u001b[0m \u001b[0;34m\u001b[0m\u001b[0m\n\u001b[0;32m---> 25\u001b[0;31m     \u001b[0msize\u001b[0m \u001b[0;34m=\u001b[0m \u001b[0mint\u001b[0m\u001b[0;34m(\u001b[0m\u001b[0mbatch\u001b[0m\u001b[0;34m.\u001b[0m\u001b[0mmax\u001b[0m\u001b[0;34m(\u001b[0m\u001b[0;34m)\u001b[0m\u001b[0;34m.\u001b[0m\u001b[0mitem\u001b[0m\u001b[0;34m(\u001b[0m\u001b[0;34m)\u001b[0m \u001b[0;34m+\u001b[0m \u001b[0;36m1\u001b[0m\u001b[0;34m)\u001b[0m \u001b[0;32mif\u001b[0m \u001b[0msize\u001b[0m \u001b[0;32mis\u001b[0m \u001b[0;32mNone\u001b[0m \u001b[0;32melse\u001b[0m \u001b[0msize\u001b[0m\u001b[0;34m\u001b[0m\u001b[0;34m\u001b[0m\u001b[0m\n\u001b[0m\u001b[1;32m     26\u001b[0m     \u001b[0;32mreturn\u001b[0m \u001b[0mscatter\u001b[0m\u001b[0;34m(\u001b[0m\u001b[0mx\u001b[0m\u001b[0;34m,\u001b[0m \u001b[0mbatch\u001b[0m\u001b[0;34m,\u001b[0m \u001b[0mdim\u001b[0m\u001b[0;34m=\u001b[0m\u001b[0;36m0\u001b[0m\u001b[0;34m,\u001b[0m \u001b[0mdim_size\u001b[0m\u001b[0;34m=\u001b[0m\u001b[0msize\u001b[0m\u001b[0;34m,\u001b[0m \u001b[0mreduce\u001b[0m\u001b[0;34m=\u001b[0m\u001b[0;34m'add'\u001b[0m\u001b[0;34m)\u001b[0m\u001b[0;34m\u001b[0m\u001b[0;34m\u001b[0m\u001b[0m\n\u001b[1;32m     27\u001b[0m \u001b[0;34m\u001b[0m\u001b[0m\n",
      "\u001b[0;31mKeyboardInterrupt\u001b[0m: "
     ]
    }
   ],
   "source": [
    "def train_dis(batch, epoch):\n",
    "    generator.requires_grad_(False)\n",
    "    discriminator.zero_grad()\n",
    "    generator_output = generator(batch)\n",
    "    if config.discriminator.noise.std > 0:\n",
    "        generator_output = generator_output + torch.randn_like(generator_output) * config.discriminator.noise.std * config.discriminator.noise.decay ** epoch\n",
    "    discriminator_loss = get_gan_loss(batch, generator_output, mode='discriminator')\n",
    "    \n",
    "    # train discriminator\n",
    "    discriminator_loss.backward()\n",
    "    discriminator_optimizer.step()\n",
    "\n",
    "    # gradient penalty\n",
    "    if config.gp_weight > 0:\n",
    "        discriminator.zero_grad()\n",
    "        gp_loss = get_gp_loss(batch, generator_output, config.gp_weight)\n",
    "        gp_loss.backward()\n",
    "        discriminator_optimizer.step()\n",
    "\n",
    "    hud['dis_loss'] = format(discriminator_loss.item(), '.2e')\n",
    "    pbar().update()\n",
    "\n",
    "def train_gen(batch, epoch):\n",
    "    generator.requires_grad_(True)\n",
    "    generator.zero_grad()\n",
    "    discriminator.zero_grad()\n",
    "    generator_output = generator(batch)\n",
    "    if config.discriminator.noise.std > 0:\n",
    "        generator_output = generator_output + torch.randn_like(generator_output) * config.discriminator.noise.std * config.discriminator.noise.decay ** epoch\n",
    "    generator_loss = get_gan_loss(batch, generator_output, mode='generator') \n",
    "    \n",
    "    #train generator\n",
    "    generator_loss.backward()\n",
    "    generator_optimizer.step()\n",
    "\n",
    "    with torch.no_grad():\n",
    "        dis_batch = dis_convert(batch, generator_output)\n",
    "        stress = stress_criterion(dis_batch).mean()\n",
    "        critic = discriminator(dis_batch).mean()\n",
    "    hud.append({'gen_loss': format(generator_loss.item(), '.2e'),\n",
    "                'stress': format(stress.item(), '.2e'),\n",
    "                'critic': format(critic.item(), '.2e')})\n",
    "    pbar().update()\n",
    "\n",
    "def cuda_memsafe_map(fn, *iterables, summary=False):\n",
    "    total, failed = 0, 0\n",
    "    iterator = zip(*iterables)\n",
    "    items = None\n",
    "    while True:\n",
    "        try:\n",
    "            items = next(iterator)\n",
    "            yield fn(*items)\n",
    "        except StopIteration:\n",
    "            if summary:\n",
    "                print(f'Iteration finished. {failed} out of {total} failed!')\n",
    "            break\n",
    "        except RuntimeError:\n",
    "            print('CUDA memory overflow! Skip batch...')\n",
    "            del items\n",
    "            failed += 1\n",
    "        torch.cuda.empty_cache()\n",
    "        total += 1\n",
    "    \n",
    "def validate(model, data_loader, criterion=val_criterion):\n",
    "    def val_one_batch(batch):\n",
    "        batch = preprocess_batch(model, batch)\n",
    "        pred = CanonicalizationByStress()(model(batch), batch)\n",
    "        gt = CanonicalizationByStress()(batch.gt_pos, batch)\n",
    "        loss = criterion(pred, batch)\n",
    "        gt_loss = criterion(gt, batch)\n",
    "        spc = (loss - gt_loss) / torch.maximum(torch.maximum(loss, gt_loss), torch.ones_like(loss)*1e-5)\n",
    "        return loss.mean().item(), spc.mean().item()\n",
    "    loss_all, spc_all = zip(*cuda_memsafe_map(val_one_batch, data_loader))\n",
    "    return np.mean(loss_all), np.mean(spc_all)\n",
    "\n",
    "def log(msg):\n",
    "    msg = f\"[{epoch:03}] {msg}\"\n",
    "    print(msg, file=open(paths.log(), \"a\"))\n",
    "    with log_out: \n",
    "        print(msg)\n",
    "\n",
    "print(f\"{'='*10} {config.link} {'='*10}\", file=open(paths.log(), \"a\"))\n",
    "hud = Hud()\n",
    "pbar = Wrapper(tqdm, total=len(train_loader)*2, smoothing=0)\n",
    "plot_out = Output()\n",
    "log_out = Output()\n",
    "tabs = {\"status\": VBox([pbar, hud]), \n",
    "        \"plot\": HBox([plot_out], layout=Layout(height='500px', overflow_y='auto')),\n",
    "        \"log\": HBox([log_out], layout=Layout(height='500px', overflow_y='auto'))}\n",
    "tab_bar = Tab(children=list(tabs.values()))\n",
    "[tab_bar.set_title(i, name) for i, name in enumerate(tabs)]\n",
    "display(tab_bar)\n",
    "while True:\n",
    "    if epoch % config.log_interval == 0:\n",
    "        torch.save(generator.state_dict(), f\"{paths.checkpoints()}/gen_epoch_{epoch}.pt\")\n",
    "        torch.save(generator_optimizer.state_dict(), f\"{paths.checkpoints()}/gen_optim_epoch_{epoch}.pt\")\n",
    "        torch.save(discriminator.state_dict(), f\"{paths.checkpoints()}/dis_epoch_{epoch}.pt\")\n",
    "        torch.save(discriminator_optimizer.state_dict(), f\"{paths.checkpoints()}/dis_optim_epoch_{epoch}.pt\")\n",
    "        generator.eval()\n",
    "        with torch.no_grad():\n",
    "            val_stress, val_stress_spc = validate(model=generator, data_loader=val_loader)\n",
    "            val_xing, val_xing_spc = validate(model=generator, data_loader=val_loader, criterion=xing_criterion)\n",
    "            with plot_out:\n",
    "                fig = plt.figure()\n",
    "                graph_vis(G_list[11100], generator(make_batch(data_list[11100]).to(device)).cpu())\n",
    "                plt.show()\n",
    "        # tensorboard.add_scalars('loss', {'train': train_loss, \n",
    "        #                                  'validation': val_loss}, epoch)\n",
    "        # for i, fn in enumerate(loss_fns):\n",
    "        #     tensorboard.add_scalars(type(fn).__name__, {'train': train_loss_comp[i].item(), \n",
    "        #                                           'validation': val_loss_comp[i].item()}, epoch)\n",
    "        hud.append({\n",
    "            'val_stress': format(val_stress, '.2f'),\n",
    "            'val_stress_spc': format(val_stress_spc, '.2%'),\n",
    "            'val_xing': format(val_xing, '.2f'),\n",
    "            'val_xing_spc': format(val_xing_spc, '.2%'),\n",
    "        })\n",
    "        log(f\"stress={hud.data['val_stress']}({hud.data['val_stress_spc']}) xing={hud.data['val_xing']}({hud.data['val_xing_spc']})\")\n",
    "        \n",
    "    # handle.update(tab_bar)\n",
    "    pbar().reset()\n",
    "    pbar().set_description(desc=f\"[epoch {epoch}/{config.epoch.end}]\")\n",
    "    hud(title=f\"epoch {epoch}\")\n",
    "    generator.train()\n",
    "    discriminator.train()\n",
    "    # proper: proper layout\n",
    "    for _ in range(config.discriminator.repeat):\n",
    "        for batch in train_loader:\n",
    "            train_dis(batch, epoch)\n",
    "            if config.alternate == 'iteration':\n",
    "                train_gen(batch, epoch)\n",
    "\n",
    "    if config.alternate == 'epoch':\n",
    "        for batch in train_loader:\n",
    "            train_gen(batch, epoch)\n",
    "\n",
    "    discriminator_scheduler.step()\n",
    "    generator_scheduler.step()\n",
    "\n",
    "    if epoch == config.epoch.end:\n",
    "        break\n",
    "    epoch += 1"
   ]
  },
  {
   "cell_type": "markdown",
   "metadata": {
    "id": "0qYK_X_hrq9o"
   },
   "source": [
    "# Test"
   ]
  },
  {
   "cell_type": "code",
   "execution_count": 33,
   "metadata": {
    "colab": {
     "base_uri": "https://localhost:8080/"
    },
    "id": "XEvmAtNjWhcY",
    "outputId": "9f4c86a4-a4b0-48f1-cb58-ab3679173184"
   },
   "outputs": [
    {
     "name": "stdout",
     "output_type": "stream",
     "text": [
      "Loading from artifacts/checkpoints/GAN(gan=ragan,data=best(xing,stress),dis=deep,share=14,embed=2,gp=0)/gen_epoch_1105.pt...\n"
     ]
    },
    {
     "data": {
      "text/plain": [
       "<All keys matched successfully>"
      ]
     },
     "execution_count": 33,
     "metadata": {},
     "output_type": "execute_result"
    }
   ],
   "source": [
    "test_epoch = -1\n",
    "\n",
    "test_generator = Generator(**config.generator.params[...]).to(device)\n",
    "test_ckpt_epoch = get_ckpt_epoch(paths.checkpoints(), test_epoch)\n",
    "test_ckpt_file = f\"{paths.checkpoints()}/gen_epoch_{test_ckpt_epoch}.pt\"\n",
    "print(f\"Loading from {test_ckpt_file}...\")\n",
    "test_generator.load_state_dict(torch.load(test_ckpt_file, map_location=torch.device(device)))"
   ]
  },
  {
   "cell_type": "code",
   "execution_count": 34,
   "metadata": {
    "colab": {
     "background_save": true,
     "base_uri": "https://localhost:8080/",
     "height": 1000,
     "referenced_widgets": [
      "9b7d18992dbf4a84931f916fbaaa37d8",
      "2c664d7e1e6d474fb87094fc0da270d3",
      "d375f5f82a4645d7b29c541596dc1c7f",
      "ecfa311bb06b4f6fa504598263ff69d3",
      "d1859990877149eab2b414b4e2a0e0c7",
      "d2be6733734844bca3e1db9b49eb1c1e",
      "4d98072bdf674792a13d77e85dd285d1",
      "f7ed92c383d741a0a1cef2536ff2db13",
      "2ba110f835c64ec4b82974996aed10af",
      "09397ceac9014af0aebca848d4d96d48",
      "fd0709f48d6c4527bc00b5f407f3c1b9"
     ]
    },
    "id": "ZubmSTcYrq9o",
    "outputId": "fc2f65a2-2085-43ac-b110-cbfe742318a8",
    "scrolled": true,
    "tags": []
   },
   "outputs": [
    {
     "data": {
      "application/vnd.jupyter.widget-view+json": {
       "model_id": "4ccb0344ff0a4ccda5a1f90d5d9d0719",
       "version_major": 2,
       "version_minor": 0
      },
      "text/plain": [
       "  0%|          | 0/1000 [00:00<?, ?it/s]"
      ]
     },
     "metadata": {},
     "output_type": "display_data"
    }
   ],
   "source": [
    "rotate = RotateByPrincipalComponents()\n",
    "def test_callback(*, idx, pred, metrics):\n",
    "    # graph_vis(G_list[idx], pred, file_name=f\"{paths.visualization()}/{idx}_{metrics['stress']:.2f}_{metrics['resolution_score']:.2f}.png\")\n",
    "    pred = rotate(torch.tensor(pred), data_list[idx])\n",
    "    graph_vis(G_list[idx], pred)\n",
    "    plt.title(f\"[pred] idx: {idx}, stress: {metrics['stress']:.2f}({metrics['stress_spc']:.2%}), xing: {metrics['xing']:.2f}({metrics['xing_spc']:.2%})\")\n",
    "    plt.show()\n",
    "    gt_pos = rotate(data_list[idx].gt_pos, data_list[idx])\n",
    "    graph_vis(G_list[idx], gt_pos, node_color='orange')\n",
    "    plt.title(f\"[gt] idx: {idx}, stress: {metrics['gt_stress']:.2f}, xing: {metrics['gt_xing']:.2f}\")\n",
    "    plt.show()\n",
    "    \n",
    "test_metrics = test(model=test_generator, \n",
    "                    criteria_list=[], \n",
    "                    dataset=data_list, \n",
    "                    idx_range=range(10000, 11000), \n",
    "#                     callback=test_callback,\n",
    "                    gt_pos=None)\n",
    "pickle.dump(test_metrics, open(paths.metrics(\"test\"), \"wb\"))"
   ]
  },
  {
   "cell_type": "code",
   "execution_count": 35,
   "metadata": {
    "colab": {
     "base_uri": "https://localhost:8080/",
     "height": 318
    },
    "id": "t2rFXIr_PsrJ",
    "outputId": "6a4205b1-4630-4de4-ec72-bdba3d3ea114"
   },
   "outputs": [
    {
     "name": "stdout",
     "output_type": "stream",
     "text": [
      "stress: tensor(337.3470)\n",
      "stress_spc: tensor(0.1183, dtype=torch.float64)\n",
      "xing: tensor(26.8550)\n",
      "xing_spc: tensor(0.1929, dtype=torch.float64)\n",
      "l1_angle: tensor(79.9130)\n",
      "l1_angle_spc: tensor(0.0647, dtype=torch.float64)\n",
      "edge: tensor(0.2005)\n",
      "edge_spc: tensor(0.2503, dtype=torch.float64)\n",
      "ring: tensor(257.7328)\n",
      "ring_spc: tensor(0.0330, dtype=torch.float64)\n",
      "tsne: tensor(0.2104)\n",
      "tsne_spc: tensor(0.1162, dtype=torch.float64)\n",
      "reso_score: tensor(0.5928)\n",
      "min_angle: tensor(3.7096)\n"
     ]
    },
    {
     "data": {
      "text/html": [
       "<style type=\"text/css\">\n",
       "</style>\n",
       "<table id=\"T_39da4_\">\n",
       "  <thead>\n",
       "    <tr>\n",
       "      <th class=\"blank level0\" >&nbsp;</th>\n",
       "      <th class=\"col_heading level0 col0\" >stress</th>\n",
       "      <th class=\"col_heading level0 col1\" >stress_spc</th>\n",
       "      <th class=\"col_heading level0 col2\" >xing</th>\n",
       "      <th class=\"col_heading level0 col3\" >xing_spc</th>\n",
       "      <th class=\"col_heading level0 col4\" >l1_angle</th>\n",
       "      <th class=\"col_heading level0 col5\" >l1_angle_spc</th>\n",
       "      <th class=\"col_heading level0 col6\" >edge</th>\n",
       "      <th class=\"col_heading level0 col7\" >edge_spc</th>\n",
       "      <th class=\"col_heading level0 col8\" >ring</th>\n",
       "      <th class=\"col_heading level0 col9\" >ring_spc</th>\n",
       "      <th class=\"col_heading level0 col10\" >tsne</th>\n",
       "      <th class=\"col_heading level0 col11\" >tsne_spc</th>\n",
       "      <th class=\"col_heading level0 col12\" >reso_score</th>\n",
       "      <th class=\"col_heading level0 col13\" >min_angle</th>\n",
       "    </tr>\n",
       "  </thead>\n",
       "  <tbody>\n",
       "    <tr>\n",
       "      <th id=\"T_39da4_level0_row0\" class=\"row_heading level0 row0\" >0</th>\n",
       "      <td id=\"T_39da4_row0_col0\" class=\"data row0 col0\" >337.35</td>\n",
       "      <td id=\"T_39da4_row0_col1\" class=\"data row0 col1\" >11.83%</td>\n",
       "      <td id=\"T_39da4_row0_col2\" class=\"data row0 col2\" >26.85</td>\n",
       "      <td id=\"T_39da4_row0_col3\" class=\"data row0 col3\" >19.29%</td>\n",
       "      <td id=\"T_39da4_row0_col4\" class=\"data row0 col4\" >79.91</td>\n",
       "      <td id=\"T_39da4_row0_col5\" class=\"data row0 col5\" >6.47%</td>\n",
       "      <td id=\"T_39da4_row0_col6\" class=\"data row0 col6\" >0.20</td>\n",
       "      <td id=\"T_39da4_row0_col7\" class=\"data row0 col7\" >25.03%</td>\n",
       "      <td id=\"T_39da4_row0_col8\" class=\"data row0 col8\" >257.73</td>\n",
       "      <td id=\"T_39da4_row0_col9\" class=\"data row0 col9\" >3.30%</td>\n",
       "      <td id=\"T_39da4_row0_col10\" class=\"data row0 col10\" >0.21</td>\n",
       "      <td id=\"T_39da4_row0_col11\" class=\"data row0 col11\" >11.62%</td>\n",
       "      <td id=\"T_39da4_row0_col12\" class=\"data row0 col12\" >0.59</td>\n",
       "      <td id=\"T_39da4_row0_col13\" class=\"data row0 col13\" >3.71</td>\n",
       "    </tr>\n",
       "  </tbody>\n",
       "</table>\n"
      ],
      "text/plain": [
       "<pandas.io.formats.style.Styler at 0x2ab29a517940>"
      ]
     },
     "execution_count": 35,
     "metadata": {},
     "output_type": "execute_result"
    }
   ],
   "source": [
    "metrics = test_metrics\n",
    "print('stress:', metrics['stress'].mean())\n",
    "print('stress_spc:', metrics['stress_spc'].mean())\n",
    "print('xing:', metrics['xing'].mean())\n",
    "print('xing_spc:', metrics['xing_spc'].mean())\n",
    "print('l1_angle:', metrics['l1_angle'].mean())\n",
    "print('l1_angle_spc:', metrics['l1_angle_spc'].mean())\n",
    "print('edge:', metrics['edge'].mean())\n",
    "print('edge_spc:', metrics['edge_spc'].mean())\n",
    "print('ring:', metrics['ring'].mean())\n",
    "print('ring_spc:', metrics['ring_spc'].mean())\n",
    "print('tsne:', metrics['tsne'].mean())\n",
    "print('tsne_spc:', metrics['tsne_spc'].mean())\n",
    "print('reso_score:', metrics['resolution_score'].mean())\n",
    "print('min_angle:', metrics['min_angle'].mean())\n",
    "columns = [\n",
    "    'stress',\n",
    "    'stress_spc',\n",
    "    'xing',\n",
    "    'xing_spc',\n",
    "    'l1_angle',\n",
    "    'l1_angle_spc',\n",
    "    'edge',\n",
    "    'edge_spc',\n",
    "    'ring',\n",
    "    'ring_spc',\n",
    "    'tsne',\n",
    "    'tsne_spc',\n",
    "    'reso_score',\n",
    "    'min_angle'\n",
    "]\n",
    "df = pd.DataFrame(map(lambda m: metrics[m].mean().item(), list(metrics.keys())[:-1])).set_axis(columns).T\n",
    "df.style.format({c: \"{:.2f}\" for c in columns if 'spc' not in c} | {c: \"{:.2%}\" for c in columns if 'spc' in c})"
   ]
  },
  {
   "cell_type": "code",
   "execution_count": 36,
   "metadata": {
    "id": "5e7vPr0M3mmG"
   },
   "outputs": [],
   "source": [
    "metrics = {}"
   ]
  },
  {
   "cell_type": "code",
   "execution_count": 37,
   "metadata": {},
   "outputs": [],
   "source": [
    "methods = ['fa2']"
   ]
  },
  {
   "cell_type": "code",
   "execution_count": 38,
   "metadata": {
    "colab": {
     "base_uri": "https://localhost:8080/",
     "height": 433,
     "referenced_widgets": [
      "a0cf6e046add4e639e52db69656e0db9",
      "8e237731bb1241ac858581b25389c012",
      "0891547293ad4211a138a4d92e01bb0b",
      "34912c8e581e47a99a1c4829c38cb75c",
      "5aa034c99c94424e835a2ee954b829ed",
      "248f6393eff74c3eb8740ca6d698045b",
      "686687a29c7f4ec98c4d76ca2062b14b",
      "996a84d1c23b47e4a2af252c6b60f55d",
      "3507f883bb954412b21c1c5641763ed7",
      "9582a849d91e457cadd514c95d6e1b5b",
      "52bfe674c2c547e09b7400a32a96f703",
      "93d58b3a12394fe1aa6f0431fc7cb0db",
      "af1d7855c9d646b0bcc7d95c4cb147a6",
      "f820e2b898cd461da04a4f651d27273d",
      "c0a112cfaa3d4d0aa9530372de84d8fb",
      "fd03985495694fbf9feb3f31ef8d18ce",
      "e02a2b36aa4c4d6fb5d2ac6693c1a927",
      "06f388ff5e3a48828d465096fe69977b",
      "c0052778c9c940e88935593e9f94b83b",
      "99a5e77a192d4a989c4534237eb16730",
      "77c6da092a6647fc9e54f7e276d75616",
      "8c13c0e8b5934117a662a78296bcb1b6",
      "cdcc3bd4235247b48c468c0f6b7682cc",
      "a2c6fa6fef4549cc853fa93b4b18cf95",
      "15cc02a756314083801b5f6798a1948c",
      "24d1c67fe52f452ab0c767e3c1a818aa",
      "c117db25c6fd484a9d0c7f210ccb1ade",
      "b090b60b61084cf692b3066dfac7f0a8",
      "5eab9848059c491b9c6cbac88683f025",
      "e87ffbaa1f204b52b9226337a506b040",
      "cf52198a9e4b46c7b49537a79919c09e",
      "51501227bc064ccbab97c22a679a0750",
      "d1b794a997dc457888a90bf44faee9b4",
      "21a755b50e5047bea797eccf24b35a0c",
      "16e78c3823ec4faf9f9cd9095b218ff5",
      "4ccd332c6b734acd8eff236eaf568dfa",
      "bd60fd13748347e48629df78fa455765",
      "e9187e4ba80b4fafa0334dae2e39aded",
      "4c39ec7c92b4402e8eedcb27beabaab1",
      "59a8194269f943bba571f710ad856973",
      "8e41bc25b9f348b1b85b381547cd60d1",
      "34d0f1529e64437fb25e639b41096072",
      "7e832c7543df43668eb72c0aa6356349",
      "f94162c9c5fe4c2581e3b80beaeb820b",
      "0284946fccf34607b25e1d6d81d4f72a",
      "8e8d4243a3624ba58d760bdf601d5126",
      "b1f0932594fe44f4be4beb8880172871",
      "820bb554d139437b8f6a6997f9002261",
      "459e375d1fe4497cb4197ef88e303c6d",
      "5726814966da46bbba942a114de4b319",
      "448beea5445f4642809801da46aa7e7c",
      "3746c0f0daf04f51805b4c95db20063a",
      "2ff74d1c705348438a32da37910c3300",
      "52f03147b5ab4cb390f9802b7a17a508",
      "5428511d652a47348203e8f3cd2e076d",
      "7b58569bee2e44c5a61a81f9a32c4c01",
      "c5e05d74b9404333a8155304e3497ba2",
      "3ad4e058bde44d87abab780368d49118",
      "8e437049b5c74ff1beddad93e30b19aa",
      "0c61377f4cc34b27ae34bdd6d976d868",
      "9ce35f9a9a23436ea77604513b5c4659",
      "dafbc43ad79c4feda093aefe490fc4b3",
      "497160b6bf80469a89680a03a468c8bb",
      "3265725ecb914981b6f07f68b8a582df",
      "1f0ac20d99d04ffb9ee75613526d3de6",
      "dee0e5716560483b8e2b107566439d94",
      "ca99841a1abd4fbd94927c49aaa711cb",
      "163a44ff1be04583ae7bd62726c55204",
      "f3b727045a0b4b4fabd147ec9c843e14",
      "7c4b4fe859cf48ab99b7e2780a24a539",
      "d9700cffab66480cb81e3722faab4e8b",
      "2c49acc1e0a64aa4b8ec461b0596848e",
      "691817157f43412f9c36002167606b75",
      "d0ae688d71734b56bb348de54e841798",
      "07a364ebcdaa491dbcc2304e4a8dae96",
      "538b277307b1449eaa79a2a91b4741d3",
      "f7b7dd4cbaa5468687b988c5e416a154",
      "877be862a4f045ec8b221097626becb5",
      "1bf37012df0844338ac689d4f6cc8eab",
      "33fe06641be544d3aab2c25cb979416f",
      "68de0d9261fa4e6999967b6f196d149c",
      "7017c5ba1ffc467495aca2689e516f7d",
      "e0997460cc21428695a0c278c6691baf",
      "522443bef4904996b6361ea265c4c56f",
      "dfe044b67917466f971ba84a11956d5e",
      "70b2d0ba1c1d4102841fb963480de1c7",
      "7b158daacd754a40bc0a48fc9ea6fea2",
      "8904f61ff30741e488eacf0e49440f66",
      "685dee6f1e1f4c2983d2d0b8eb90ed00",
      "005155a4d62d48cbbaf3d69614b08d81",
      "d2779dfa620041e4b32a7731926a5982",
      "53048bf27cb24080b4cdf20379302223",
      "0b5bff7794a14a20964da70b87158c2c",
      "ec664e55ea16435590393ae1617cccea",
      "f10d62ef464a45a7935610d869c282e3",
      "5e7c09bc35db4a3a8b9847c6d8478883",
      "987ea331b617446facc81b08bab1f8c4",
      "446c5a687b0d43358ab036d43ce281c3",
      "d89e216f62ae4a9999da1a91dd5e48b9",
      "09d03e7e66f54cafacefbfeda5fd6e5c",
      "d58c680562a44bbd9252e7ec6eebc06c",
      "71ea2594fdd942acac1cc61055438544",
      "fecda4df301b437f9fbfb61a7b593dc0",
      "bcf6741d926248cb92acf627d6557d2b",
      "5bd9868b9bda4f68b500a43916e2d148",
      "4bc5e02035de44ad827c4f881fd75afc",
      "7d80033a955e4feb947ca9cea931d90b",
      "e975c796d80d498992a50f87a2b0105c",
      "028b2ff105904a19a9a3e8ebf66967bb",
      "10dbf2cbdb1943eda6a0acaf5da3fe85",
      "14d59c7acc5e4e07a289db44406a4851",
      "d9447df93d714907bc9c768eb4910352",
      "d4a9ace081bf488680a7e43e0eaed71d",
      "022a60cde19546bfa6ecfb4947615ad9",
      "10c01207d9ba4fe197dc80717fceecc0",
      "f4995936570d4ba1a65e9a66e410b505",
      "b4bf66303e61491385cd616076a11c04",
      "a24ab2bfe7a44263bf60936d6e53ec32",
      "59e2e8ecc9f84d57af7bf44f5bba5df7",
      "be2eb92aab8045a99fd19195c3546b60",
      "e6715db2b048434796e910952cb5eb62",
      "8de2335007ba4a6b9935fa0c514c9f6a",
      "493a4bbe8057437a8c8acf4d03f8dcb0",
      "20b03955acc74e238695717124705520",
      "a89f9507496b4cf8bdd63bdb9bff79c4",
      "9752a1f6c8b6488d9628b8e0c023f10f",
      "61a0bebc687341a7bb3352febc8d4986",
      "07e0ff9c82a444788c60edee70688ca7",
      "4427901f35e54cc48e08527bb402c22a",
      "bd9dafb825954091ba975d71ab8c89ea",
      "7ec0f07bfe51484da38c18dc66d77804",
      "03943afebc4d4b668b54c7a0fd014a37",
      "a7a6b38a76424d738146b6a5786cf2c8",
      "1d1aa4729784470584c0001c1a296008",
      "e0c68ac9b5b442eeb77e6d9ea3c1da42",
      "c858ef9fd9324ab0ab885d85e3c8582f",
      "627bc2899c994a0c96c5d43e89dc77ff",
      "0e2c2f21fa8041038151170992ecb848",
      "2d9bcbf7629a4671bf8755e790276eb7",
      "77a4edf6ab1848a6a6df20c1c07358c6",
      "acf2212d6bb44c729b63281a98377095",
      "0c7a72818da3454190bab7f30a29e249",
      "d865af915b8b4aaa8cec8d40f1f8351d"
     ]
    },
    "id": "s1UnzfID4Ai6",
    "outputId": "3e204e76-68fd-4111-f527-91f6e3b7a3ca"
   },
   "outputs": [
    {
     "data": {
      "application/vnd.jupyter.widget-view+json": {
       "model_id": "82333882a2da46f0a5828a1c3aa2c012",
       "version_major": 2,
       "version_minor": 0
      },
      "text/plain": [
       "  0%|          | 0/1000 [00:00<?, ?it/s]"
      ]
     },
     "metadata": {},
     "output_type": "display_data"
    }
   ],
   "source": [
    "for m in methods:\n",
    "    metrics[m] = test(model=test_generator, \n",
    "                      criteria_list=[], \n",
    "                      dataset=data_list, \n",
    "                      idx_range=range(10000, 11000), \n",
    "                      callback=None,\n",
    "                      gt_pos=load_pos(m))"
   ]
  },
  {
   "cell_type": "code",
   "execution_count": 39,
   "metadata": {
    "id": "dQ7hdCtk5u6K"
   },
   "outputs": [],
   "source": [
    "mean_metrics = {key : list(map(lambda m: metrics[key][m].mean().item(), list(metrics[key].keys())[:-1])) for key in metrics}"
   ]
  },
  {
   "cell_type": "code",
   "execution_count": 40,
   "metadata": {
    "colab": {
     "base_uri": "https://localhost:8080/",
     "height": 313
    },
    "id": "OGyaCmLXTuvA",
    "outputId": "6c42d9f3-9869-4504-bc9c-d0eedaecfd90"
   },
   "outputs": [
    {
     "data": {
      "text/html": [
       "<style type=\"text/css\">\n",
       "</style>\n",
       "<table id=\"T_8fffb_\">\n",
       "  <thead>\n",
       "    <tr>\n",
       "      <th class=\"blank level0\" >&nbsp;</th>\n",
       "      <th class=\"col_heading level0 col0\" >stress</th>\n",
       "      <th class=\"col_heading level0 col1\" >stress_spc</th>\n",
       "      <th class=\"col_heading level0 col2\" >xing</th>\n",
       "      <th class=\"col_heading level0 col3\" >xing_spc</th>\n",
       "      <th class=\"col_heading level0 col4\" >l1_angle</th>\n",
       "      <th class=\"col_heading level0 col5\" >l1_angle_spc</th>\n",
       "      <th class=\"col_heading level0 col6\" >edge</th>\n",
       "      <th class=\"col_heading level0 col7\" >edge_spc</th>\n",
       "      <th class=\"col_heading level0 col8\" >ring</th>\n",
       "      <th class=\"col_heading level0 col9\" >ring_spc</th>\n",
       "      <th class=\"col_heading level0 col10\" >tsne</th>\n",
       "      <th class=\"col_heading level0 col11\" >tsne_spc</th>\n",
       "      <th class=\"col_heading level0 col12\" >reso_score</th>\n",
       "      <th class=\"col_heading level0 col13\" >min_angle</th>\n",
       "    </tr>\n",
       "  </thead>\n",
       "  <tbody>\n",
       "    <tr>\n",
       "      <th id=\"T_8fffb_level0_row0\" class=\"row_heading level0 row0\" >fa2</th>\n",
       "      <td id=\"T_8fffb_row0_col0\" class=\"data row0 col0\" >337.35</td>\n",
       "      <td id=\"T_8fffb_row0_col1\" class=\"data row0 col1\" >-0.03%</td>\n",
       "      <td id=\"T_8fffb_row0_col2\" class=\"data row0 col2\" >26.82</td>\n",
       "      <td id=\"T_8fffb_row0_col3\" class=\"data row0 col3\" >7.06%</td>\n",
       "      <td id=\"T_8fffb_row0_col4\" class=\"data row0 col4\" >79.90</td>\n",
       "      <td id=\"T_8fffb_row0_col5\" class=\"data row0 col5\" >9.46%</td>\n",
       "      <td id=\"T_8fffb_row0_col6\" class=\"data row0 col6\" >0.20</td>\n",
       "      <td id=\"T_8fffb_row0_col7\" class=\"data row0 col7\" >2.75%</td>\n",
       "      <td id=\"T_8fffb_row0_col8\" class=\"data row0 col8\" >257.74</td>\n",
       "      <td id=\"T_8fffb_row0_col9\" class=\"data row0 col9\" >1.89%</td>\n",
       "      <td id=\"T_8fffb_row0_col10\" class=\"data row0 col10\" >0.21</td>\n",
       "      <td id=\"T_8fffb_row0_col11\" class=\"data row0 col11\" >9.11%</td>\n",
       "      <td id=\"T_8fffb_row0_col12\" class=\"data row0 col12\" >0.59</td>\n",
       "      <td id=\"T_8fffb_row0_col13\" class=\"data row0 col13\" >3.76</td>\n",
       "    </tr>\n",
       "  </tbody>\n",
       "</table>\n"
      ],
      "text/plain": [
       "<pandas.io.formats.style.Styler at 0x2ab29a0f1430>"
      ]
     },
     "execution_count": 40,
     "metadata": {},
     "output_type": "execute_result"
    }
   ],
   "source": [
    "columns = [\n",
    "    'stress',\n",
    "    'stress_spc',\n",
    "    'xing',\n",
    "    'xing_spc',\n",
    "    'l1_angle',\n",
    "    'l1_angle_spc',\n",
    "    'edge',\n",
    "    'edge_spc',\n",
    "    'ring',\n",
    "    'ring_spc',\n",
    "    'tsne',\n",
    "    'tsne_spc',\n",
    "    'reso_score',\n",
    "    'min_angle'\n",
    "]\n",
    "df = pd.DataFrame(mean_metrics).set_axis(columns).T\n",
    "df.style.format({c: \"{:.2f}\" for c in columns if 'spc' not in c} | {c: \"{:.2%}\" for c in columns if 'spc' in c})"
   ]
  },
  {
   "cell_type": "markdown",
   "metadata": {
    "id": "L5S1HWnHOWIl"
   },
   "source": [
    "# Large Graph"
   ]
  },
  {
   "cell_type": "code",
   "execution_count": null,
   "metadata": {
    "id": "_pefPcV1OZdD"
   },
   "outputs": [],
   "source": [
    "scalability = pd.read_csv(f\"/__artifacts__/data/scalability.csv\", index_col=\"index\")\n",
    "scalability"
   ]
  },
  {
   "cell_type": "code",
   "execution_count": null,
   "metadata": {
    "id": "oMhWAsdvPnTX"
   },
   "outputs": [],
   "source": [
    "rescale = CanonicalizationByStress()\n",
    "stressfn = Stress()\n",
    "rotate = RotateByPrincipalComponents()"
   ]
  },
  {
   "cell_type": "code",
   "execution_count": null,
   "metadata": {
    "id": "LR83OcAaPID5"
   },
   "outputs": [],
   "source": [
    "stress_list = []\n",
    "spc_list = []\n",
    "pmds_list = np.load(\"layouts/new_large_graph/pmds.npy\", allow_pickle=True)\n",
    "gviz_list = np.load(\"layouts/new_large_graph/gviz.npy\", allow_pickle=True)\n",
    "with torch.no_grad():\n",
    "    for idx, col in tqdm(scalability.iterrows(), total=len(scalability)):\n",
    "        # if idx not in [406, 516]: continue\n",
    "        torch.cuda.empty_cache()\n",
    "        G = load_mtx(col['file'])\n",
    "        G.remove_edges_from(nx.selfloop_edges(G))\n",
    "        data = generate_data_list(G, \n",
    "                                sparse=data_config.sparse, \n",
    "                                pivot_mode=data_config.pivot,\n",
    "                                init_mode=data_config.init,\n",
    "                                edge_index=data_config.edge.index,\n",
    "                                edge_attr=data_config.edge.attr,\n",
    "                                pmds_list=pmds_list[idx],\n",
    "                                gviz_list=gviz_list[idx],\n",
    "                                device=device)\n",
    "        batch = Batch.from_data_list([data]).to(device)\n",
    "        # generator.train()\n",
    "        # generator(batch)\n",
    "        generator.eval()\n",
    "        pred = generator(batch)\n",
    "        pos = rotate(rescale(pred, batch), batch)\n",
    "        gt = rotate(rescale(batch.gt_pos, batch), batch)\n",
    "        stress = stressfn(pos, batch).item()\n",
    "        gt_stress = stressfn(gt, batch).item()\n",
    "        spc = (stress - gt_stress) / np.maximum(stress, gt_stress)\n",
    "        stress_list.append(stress)\n",
    "        spc_list.append(spc)\n",
    "\n",
    "        np.save(f\"/__artifacts__/gan_result/data/scalability_{idx}.npy\", pos.cpu().numpy())\n",
    "        graph_attr = dict(node_size=1, \n",
    "                        with_labels=False, \n",
    "                        labels=dict(zip(list(G.nodes), map(lambda n: n if type(n) is int else n[1:], list(G.nodes)))),\n",
    "                        font_color=\"white\", \n",
    "                        font_weight=\"bold\",\n",
    "                        font_size=12,\n",
    "                        width=0.1)\n",
    "\n",
    "        # gt_pos = pickle.load(open(f\"/__artifacts__/data/scalability_{idx}_gt.pkl\", \"rb\"))\n",
    "\n",
    "        plt.figure(figsize=[12, 9])\n",
    "        nx.draw(G, pos=gt.cpu().numpy(), node_color='orange', **graph_attr)\n",
    "        plt.title(f\"neato: large_{idx}\")\n",
    "        plt.axis(\"equal\")\n",
    "        plt.savefig(f\"/__artifacts__/gan_result/output/{idx}_{col['name']}_{col['n']}_{spc}_nx.png\", dpi=300)\n",
    "        plt.show()\n",
    "\n",
    "        plt.figure(figsize=[12, 9])\n",
    "        graph_vis(G, pos.cpu().numpy(), **graph_attr)\n",
    "        plt.title(f\"dgd: large_{idx}, spc={spc:.2%}\")\n",
    "        plt.axis(\"equal\")\n",
    "        plt.savefig(f\"/__artifacts__/gan_result/output/{idx}_{col['name']}_{col['n']}_{spc}_dgd.png\", dpi=300)\n",
    "        plt.show()"
   ]
  },
  {
   "cell_type": "code",
   "execution_count": null,
   "metadata": {
    "id": "gRXTewkYeuq1"
   },
   "outputs": [],
   "source": []
  }
 ],
 "metadata": {
  "accelerator": "GPU",
  "colab": {
   "collapsed_sections": [
    "w_p3OD0woiSM",
    "DR6-vYtr_i_P",
    "innqkwvH_ydD",
    "f-ODE2k8BFV6",
    "N39dDHraedM6"
   ],
   "machine_shape": "hm",
   "name": "GAN(gan=rgan,data=best(xing,stress),dis=deep,share=16,embed=0,gp=0).ipynb",
   "provenance": []
  },
  "kernelspec": {
   "display_name": "DeepGD",
   "language": "python",
   "name": "deepgd"
  },
  "language_info": {
   "codemirror_mode": {
    "name": "ipython",
    "version": 3
   },
   "file_extension": ".py",
   "mimetype": "text/x-python",
   "name": "python",
   "nbconvert_exporter": "python",
   "pygments_lexer": "ipython3",
   "version": "3.9.7"
  },
  "widgets": {
   "application/vnd.jupyter.widget-state+json": {
    "state": {
     "01855db17ac24af284891154cf26b228": {
      "model_module": "@jupyter-widgets/base",
      "model_module_version": "1.2.0",
      "model_name": "LayoutModel",
      "state": {}
     },
     "08c1dbfc0e714f83888de93ca8535162": {
      "model_module": "@jupyter-widgets/controls",
      "model_module_version": "1.5.0",
      "model_name": "ProgressStyleModel",
      "state": {
       "description_width": ""
      }
     },
     "1093d6f03d314a5b9fb4252dd53eb8ca": {
      "model_module": "@jupyter-widgets/base",
      "model_module_version": "1.2.0",
      "model_name": "LayoutModel",
      "state": {}
     },
     "10bd509888b24ce0acfe1d731c5487f2": {
      "model_module": "@jupyter-widgets/controls",
      "model_module_version": "1.5.0",
      "model_name": "HBoxModel",
      "state": {
       "children": [
        "IPY_MODEL_f37ed123c95542b4beaa5233b8be5549",
        "IPY_MODEL_7f0549772b2a4738a5b8de96b61b6e2f",
        "IPY_MODEL_488d7bc286ea450a8d993cf829f21355"
       ],
       "layout": "IPY_MODEL_c2decb495af44425822a7f79532d3048"
      }
     },
     "12e734ac8b714b3c8f92cea5051c9bcd": {
      "model_module": "@jupyter-widgets/base",
      "model_module_version": "1.2.0",
      "model_name": "LayoutModel",
      "state": {}
     },
     "14a30529105a467694b76cbaef19aa8c": {
      "model_module": "@jupyter-widgets/controls",
      "model_module_version": "1.5.0",
      "model_name": "DescriptionStyleModel",
      "state": {
       "description_width": ""
      }
     },
     "1a5f042ee06d492e92750483b3b7e619": {
      "model_module": "@jupyter-widgets/controls",
      "model_module_version": "1.5.0",
      "model_name": "FloatProgressModel",
      "state": {
       "bar_style": "success",
       "layout": "IPY_MODEL_6ec62627dc234bd4a02dbed647573876",
       "max": 1000,
       "style": "IPY_MODEL_08c1dbfc0e714f83888de93ca8535162",
       "value": 1000
      }
     },
     "1b2cd1b91738495eb0eb7837ea99666d": {
      "model_module": "@jupyter-widgets/base",
      "model_module_version": "1.2.0",
      "model_name": "LayoutModel",
      "state": {}
     },
     "22a06fab11fa475e89b319c6a11c7f51": {
      "model_module": "@jupyter-widgets/output",
      "model_module_version": "1.0.0",
      "model_name": "OutputModel",
      "state": {
       "layout": "IPY_MODEL_ecf209180a8c4e9ea3311c84078657d3",
       "outputs": [
        {
         "data": {
          "application/vnd.jupyter.widget-view+json": {
           "model_id": "10bd509888b24ce0acfe1d731c5487f2",
           "version_major": 2,
           "version_minor": 0
          },
          "text/plain": "  0%|          | 0/834 [00:00<?, ?it/s]"
         },
         "metadata": {},
         "output_type": "display_data"
        }
       ]
      }
     },
     "26e4264e55ee4595ad2171ee1051d8cc": {
      "model_module": "@jupyter-widgets/controls",
      "model_module_version": "1.5.0",
      "model_name": "ProgressStyleModel",
      "state": {
       "description_width": ""
      }
     },
     "27498f3a96e4491194a265464890be9b": {
      "model_module": "@jupyter-widgets/base",
      "model_module_version": "1.2.0",
      "model_name": "LayoutModel",
      "state": {}
     },
     "2edfc8bb4ec6478da28a9eb9cbaeddcf": {
      "model_module": "@jupyter-widgets/controls",
      "model_module_version": "1.5.0",
      "model_name": "HTMLModel",
      "state": {
       "layout": "IPY_MODEL_9211e6fee4cc44e1a36f9825660d591b",
       "style": "IPY_MODEL_e3c053dfd1ee42fd98eb82576094c3f9",
       "value": "100%"
      }
     },
     "3269d2300c76405cad6817e0e5b46130": {
      "model_module": "@jupyter-widgets/base",
      "model_module_version": "1.2.0",
      "model_name": "LayoutModel",
      "state": {}
     },
     "33b9d485a42a4ceda29e7529b6bae0b6": {
      "model_module": "@jupyter-widgets/controls",
      "model_module_version": "1.5.0",
      "model_name": "VBoxModel",
      "state": {
       "children": [
        "IPY_MODEL_22a06fab11fa475e89b319c6a11c7f51",
        "IPY_MODEL_e44113a7e8de4ec1b1d82fd97f77ae04"
       ],
       "layout": "IPY_MODEL_3269d2300c76405cad6817e0e5b46130"
      }
     },
     "42d3c287c8ab4b4995166621084119ab": {
      "model_module": "@jupyter-widgets/controls",
      "model_module_version": "1.5.0",
      "model_name": "HTMLModel",
      "state": {
       "layout": "IPY_MODEL_01855db17ac24af284891154cf26b228",
       "style": "IPY_MODEL_fb51379d13624a90a0a329e3e3e44986",
       "value": " 1000/1000 [00:56&lt;00:00, 17.35it/s]"
      }
     },
     "47de1ff3777141bdaac9407bec90ee51": {
      "model_module": "@jupyter-widgets/controls",
      "model_module_version": "1.5.0",
      "model_name": "HTMLModel",
      "state": {
       "layout": "IPY_MODEL_7b3e7df39e314b8da21b1b9c59055c47",
       "style": "IPY_MODEL_d4d3667cea9e43b4a29770f59c9adf03",
       "value": " 1000/1000 [00:53&lt;00:00, 20.94it/s]"
      }
     },
     "488d7bc286ea450a8d993cf829f21355": {
      "model_module": "@jupyter-widgets/controls",
      "model_module_version": "1.5.0",
      "model_name": "HTMLModel",
      "state": {
       "layout": "IPY_MODEL_f998cfbaa2694884968035c45168f4c8",
       "style": "IPY_MODEL_99bfca385ac24e1c985c025e7b42dcf8",
       "value": " 140/834 [00:20&lt;01:42,  6.78it/s]"
      }
     },
     "4ccb0344ff0a4ccda5a1f90d5d9d0719": {
      "model_module": "@jupyter-widgets/controls",
      "model_module_version": "1.5.0",
      "model_name": "HBoxModel",
      "state": {
       "children": [
        "IPY_MODEL_ed5619a6335d4466bca00fa81077551d",
        "IPY_MODEL_1a5f042ee06d492e92750483b3b7e619",
        "IPY_MODEL_47de1ff3777141bdaac9407bec90ee51"
       ],
       "layout": "IPY_MODEL_b5cb15f672c149109da8cc9c562d1eb7"
      }
     },
     "509df02d7baa447ea9ef3c49561bcab6": {
      "model_module": "@jupyter-widgets/base",
      "model_module_version": "1.2.0",
      "model_name": "LayoutModel",
      "state": {}
     },
     "5c8b11f331ac4b6d87a43cf96b102566": {
      "model_module": "@jupyter-widgets/controls",
      "model_module_version": "1.5.0",
      "model_name": "FloatProgressModel",
      "state": {
       "bar_style": "success",
       "layout": "IPY_MODEL_1b2cd1b91738495eb0eb7837ea99666d",
       "max": 11531,
       "style": "IPY_MODEL_8a230e592ade4ad6869a027afc4b2f22",
       "value": 11531
      }
     },
     "6ec62627dc234bd4a02dbed647573876": {
      "model_module": "@jupyter-widgets/base",
      "model_module_version": "1.2.0",
      "model_name": "LayoutModel",
      "state": {}
     },
     "730baa7366f84c8283a5a37fcc3744fe": {
      "model_module": "@jupyter-widgets/base",
      "model_module_version": "1.2.0",
      "model_name": "LayoutModel",
      "state": {}
     },
     "730e855483514f2481c5480642db1740": {
      "model_module": "@jupyter-widgets/controls",
      "model_module_version": "1.5.0",
      "model_name": "HTMLModel",
      "state": {
       "layout": "IPY_MODEL_a0b32bc7756c4428b7b62c45879c4ab3",
       "style": "IPY_MODEL_d9094d65f74040998c0f90ab0c4ff85a",
       "value": "100%"
      }
     },
     "7b3e7df39e314b8da21b1b9c59055c47": {
      "model_module": "@jupyter-widgets/base",
      "model_module_version": "1.2.0",
      "model_name": "LayoutModel",
      "state": {}
     },
     "7c361620ca6c405b9697ac3ec733629b": {
      "model_module": "@jupyter-widgets/base",
      "model_module_version": "1.2.0",
      "model_name": "LayoutModel",
      "state": {}
     },
     "7f0549772b2a4738a5b8de96b61b6e2f": {
      "model_module": "@jupyter-widgets/controls",
      "model_module_version": "1.5.0",
      "model_name": "FloatProgressModel",
      "state": {
       "layout": "IPY_MODEL_509df02d7baa447ea9ef3c49561bcab6",
       "max": 834,
       "style": "IPY_MODEL_cbaf8f30ed6b4eea8c4ccf5f83c5ab93",
       "value": 140
      }
     },
     "82333882a2da46f0a5828a1c3aa2c012": {
      "model_module": "@jupyter-widgets/controls",
      "model_module_version": "1.5.0",
      "model_name": "HBoxModel",
      "state": {
       "children": [
        "IPY_MODEL_730e855483514f2481c5480642db1740",
        "IPY_MODEL_9be6504210d340a59c6f0c82578882c8",
        "IPY_MODEL_42d3c287c8ab4b4995166621084119ab"
       ],
       "layout": "IPY_MODEL_96655b752b9746afa6112428ead91288"
      }
     },
     "86d4216e71fd4ecd96d3429215856bbe": {
      "model_module": "@jupyter-widgets/base",
      "model_module_version": "1.2.0",
      "model_name": "LayoutModel",
      "state": {}
     },
     "8a230e592ade4ad6869a027afc4b2f22": {
      "model_module": "@jupyter-widgets/controls",
      "model_module_version": "1.5.0",
      "model_name": "ProgressStyleModel",
      "state": {
       "description_width": ""
      }
     },
     "9211e6fee4cc44e1a36f9825660d591b": {
      "model_module": "@jupyter-widgets/base",
      "model_module_version": "1.2.0",
      "model_name": "LayoutModel",
      "state": {}
     },
     "96655b752b9746afa6112428ead91288": {
      "model_module": "@jupyter-widgets/base",
      "model_module_version": "1.2.0",
      "model_name": "LayoutModel",
      "state": {}
     },
     "99bfca385ac24e1c985c025e7b42dcf8": {
      "model_module": "@jupyter-widgets/controls",
      "model_module_version": "1.5.0",
      "model_name": "DescriptionStyleModel",
      "state": {
       "description_width": ""
      }
     },
     "9be6504210d340a59c6f0c82578882c8": {
      "model_module": "@jupyter-widgets/controls",
      "model_module_version": "1.5.0",
      "model_name": "FloatProgressModel",
      "state": {
       "bar_style": "success",
       "layout": "IPY_MODEL_e12e129b94ca46139696e6db42697252",
       "max": 1000,
       "style": "IPY_MODEL_26e4264e55ee4595ad2171ee1051d8cc",
       "value": 1000
      }
     },
     "a0b32bc7756c4428b7b62c45879c4ab3": {
      "model_module": "@jupyter-widgets/base",
      "model_module_version": "1.2.0",
      "model_name": "LayoutModel",
      "state": {}
     },
     "a5f5f5081b934d80be82459fc6b32ae5": {
      "model_module": "@jupyter-widgets/controls",
      "model_module_version": "1.5.0",
      "model_name": "TabModel",
      "state": {
       "_titles": {
        "0": "status",
        "1": "plot",
        "2": "log"
       },
       "children": [
        "IPY_MODEL_33b9d485a42a4ceda29e7529b6bae0b6",
        "IPY_MODEL_f2d1f2e699824e739799cc323fc61af7",
        "IPY_MODEL_de27ed21795a40d49ad784c43b97f2ec"
       ],
       "layout": "IPY_MODEL_86d4216e71fd4ecd96d3429215856bbe"
      }
     },
     "a73f483c1b0a4fc98b3a424518db18b1": {
      "model_module": "@jupyter-widgets/controls",
      "model_module_version": "1.5.0",
      "model_name": "HBoxModel",
      "state": {
       "children": [
        "IPY_MODEL_2edfc8bb4ec6478da28a9eb9cbaeddcf",
        "IPY_MODEL_5c8b11f331ac4b6d87a43cf96b102566",
        "IPY_MODEL_aa0eda72cd834f23942db12dd79625ee"
       ],
       "layout": "IPY_MODEL_7c361620ca6c405b9697ac3ec733629b"
      }
     },
     "aa0eda72cd834f23942db12dd79625ee": {
      "model_module": "@jupyter-widgets/controls",
      "model_module_version": "1.5.0",
      "model_name": "HTMLModel",
      "state": {
       "layout": "IPY_MODEL_1093d6f03d314a5b9fb4252dd53eb8ca",
       "style": "IPY_MODEL_14a30529105a467694b76cbaef19aa8c",
       "value": " 11531/11531 [00:00&lt;00:00, 34095.15it/s]"
      }
     },
     "aa74fa95c44040f795509db516ff4b3f": {
      "model_module": "@jupyter-widgets/base",
      "model_module_version": "1.2.0",
      "model_name": "LayoutModel",
      "state": {
       "height": "500px",
       "overflow_y": "auto"
      }
     },
     "b1b56654e00647d2b8f2f1c4a6567af0": {
      "model_module": "@jupyter-widgets/controls",
      "model_module_version": "1.5.0",
      "model_name": "DescriptionStyleModel",
      "state": {
       "description_width": ""
      }
     },
     "b21a0c1a676a42b18063c5758a884f97": {
      "model_module": "@jupyter-widgets/output",
      "model_module_version": "1.0.0",
      "model_name": "OutputModel",
      "state": {
       "layout": "IPY_MODEL_d975bafa3bd04f3382404d2f45c8925c",
       "outputs": [
        {
         "name": "stdout",
         "output_type": "stream",
         "text": "[1105] stress=374.32(12.49%) xing=29.98(16.46%)\n"
        }
       ]
      }
     },
     "b5cb15f672c149109da8cc9c562d1eb7": {
      "model_module": "@jupyter-widgets/base",
      "model_module_version": "1.2.0",
      "model_name": "LayoutModel",
      "state": {}
     },
     "c2decb495af44425822a7f79532d3048": {
      "model_module": "@jupyter-widgets/base",
      "model_module_version": "1.2.0",
      "model_name": "LayoutModel",
      "state": {}
     },
     "c52015460c974d75ad2edcc14f2e2da9": {
      "model_module": "@jupyter-widgets/base",
      "model_module_version": "1.2.0",
      "model_name": "LayoutModel",
      "state": {}
     },
     "cbaf8f30ed6b4eea8c4ccf5f83c5ab93": {
      "model_module": "@jupyter-widgets/controls",
      "model_module_version": "1.5.0",
      "model_name": "ProgressStyleModel",
      "state": {
       "description_width": ""
      }
     },
     "d4d3667cea9e43b4a29770f59c9adf03": {
      "model_module": "@jupyter-widgets/controls",
      "model_module_version": "1.5.0",
      "model_name": "DescriptionStyleModel",
      "state": {
       "description_width": ""
      }
     },
     "d9094d65f74040998c0f90ab0c4ff85a": {
      "model_module": "@jupyter-widgets/controls",
      "model_module_version": "1.5.0",
      "model_name": "DescriptionStyleModel",
      "state": {
       "description_width": ""
      }
     },
     "d975bafa3bd04f3382404d2f45c8925c": {
      "model_module": "@jupyter-widgets/base",
      "model_module_version": "1.2.0",
      "model_name": "LayoutModel",
      "state": {}
     },
     "de27ed21795a40d49ad784c43b97f2ec": {
      "model_module": "@jupyter-widgets/controls",
      "model_module_version": "1.5.0",
      "model_name": "HBoxModel",
      "state": {
       "children": [
        "IPY_MODEL_b21a0c1a676a42b18063c5758a884f97"
       ],
       "layout": "IPY_MODEL_faaff1e60ad8470aa2b0e6c917a512d5"
      }
     },
     "e12e129b94ca46139696e6db42697252": {
      "model_module": "@jupyter-widgets/base",
      "model_module_version": "1.2.0",
      "model_name": "LayoutModel",
      "state": {}
     },
     "e32a31d53963441f9ae0f6f1516c62c5": {
      "model_module": "@jupyter-widgets/controls",
      "model_module_version": "1.5.0",
      "model_name": "DescriptionStyleModel",
      "state": {
       "description_width": ""
      }
     },
     "e3c053dfd1ee42fd98eb82576094c3f9": {
      "model_module": "@jupyter-widgets/controls",
      "model_module_version": "1.5.0",
      "model_name": "DescriptionStyleModel",
      "state": {
       "description_width": ""
      }
     },
     "e44113a7e8de4ec1b1d82fd97f77ae04": {
      "model_module": "@jupyter-widgets/output",
      "model_module_version": "1.0.0",
      "model_name": "OutputModel",
      "state": {
       "layout": "IPY_MODEL_730baa7366f84c8283a5a37fcc3744fe",
       "outputs": [
        {
         "data": {
          "text/html": "<div>\n<style scoped>\n    .dataframe tbody tr th:only-of-type {\n        vertical-align: middle;\n    }\n\n    .dataframe tbody tr th {\n        vertical-align: top;\n    }\n\n    .dataframe thead th {\n        text-align: right;\n    }\n</style>\n<table border=\"1\" class=\"dataframe\">\n  <thead>\n    <tr style=\"text-align: right;\">\n      <th></th>\n      <th>val_stress</th>\n      <th>val_stress_spc</th>\n      <th>val_xing</th>\n      <th>val_xing_spc</th>\n      <th>dis_loss</th>\n    </tr>\n  </thead>\n  <tbody>\n    <tr>\n      <th>epoch 1105</th>\n      <td>374.32</td>\n      <td>12.49%</td>\n      <td>29.98</td>\n      <td>16.46%</td>\n      <td>2.38e-03</td>\n    </tr>\n  </tbody>\n</table>\n</div>",
          "text/plain": "           val_stress val_stress_spc val_xing val_xing_spc  dis_loss\nepoch 1105     374.32         12.49%    29.98       16.46%  2.38e-03"
         },
         "metadata": {},
         "output_type": "display_data"
        }
       ]
      }
     },
     "e5c1ebc0e6484fd98f9d967f791446a7": {
      "model_module": "@jupyter-widgets/output",
      "model_module_version": "1.0.0",
      "model_name": "OutputModel",
      "state": {
       "layout": "IPY_MODEL_27498f3a96e4491194a265464890be9b",
       "outputs": [
        {
         "data": {
          "image/png": "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\n",
          "text/plain": "<Figure size 432x288 with 1 Axes>"
         },
         "metadata": {},
         "output_type": "display_data"
        }
       ]
      }
     },
     "ecf209180a8c4e9ea3311c84078657d3": {
      "model_module": "@jupyter-widgets/base",
      "model_module_version": "1.2.0",
      "model_name": "LayoutModel",
      "state": {}
     },
     "ed5619a6335d4466bca00fa81077551d": {
      "model_module": "@jupyter-widgets/controls",
      "model_module_version": "1.5.0",
      "model_name": "HTMLModel",
      "state": {
       "layout": "IPY_MODEL_c52015460c974d75ad2edcc14f2e2da9",
       "style": "IPY_MODEL_e32a31d53963441f9ae0f6f1516c62c5",
       "value": "100%"
      }
     },
     "f2d1f2e699824e739799cc323fc61af7": {
      "model_module": "@jupyter-widgets/controls",
      "model_module_version": "1.5.0",
      "model_name": "HBoxModel",
      "state": {
       "children": [
        "IPY_MODEL_e5c1ebc0e6484fd98f9d967f791446a7"
       ],
       "layout": "IPY_MODEL_aa74fa95c44040f795509db516ff4b3f"
      }
     },
     "f37ed123c95542b4beaa5233b8be5549": {
      "model_module": "@jupyter-widgets/controls",
      "model_module_version": "1.5.0",
      "model_name": "HTMLModel",
      "state": {
       "layout": "IPY_MODEL_12e734ac8b714b3c8f92cea5051c9bcd",
       "style": "IPY_MODEL_b1b56654e00647d2b8f2f1c4a6567af0",
       "value": "[epoch 1105/None]:  17%"
      }
     },
     "f998cfbaa2694884968035c45168f4c8": {
      "model_module": "@jupyter-widgets/base",
      "model_module_version": "1.2.0",
      "model_name": "LayoutModel",
      "state": {}
     },
     "faaff1e60ad8470aa2b0e6c917a512d5": {
      "model_module": "@jupyter-widgets/base",
      "model_module_version": "1.2.0",
      "model_name": "LayoutModel",
      "state": {
       "height": "500px",
       "overflow_y": "auto"
      }
     },
     "fb51379d13624a90a0a329e3e3e44986": {
      "model_module": "@jupyter-widgets/controls",
      "model_module_version": "1.5.0",
      "model_name": "DescriptionStyleModel",
      "state": {
       "description_width": ""
      }
     }
    },
    "version_major": 2,
    "version_minor": 0
   }
  }
 },
 "nbformat": 4,
 "nbformat_minor": 4
}
