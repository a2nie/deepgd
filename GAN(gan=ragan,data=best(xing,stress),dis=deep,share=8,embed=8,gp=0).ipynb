{
 "cells": [
  {
   "cell_type": "markdown",
   "metadata": {
    "id": "wZtYFEhHoBGp"
   },
   "source": [
    "# Import libraries"
   ]
  },
  {
   "cell_type": "code",
   "execution_count": 1,
   "metadata": {
    "id": "KJPfzpxLQI5O"
   },
   "outputs": [],
   "source": [
    "%load_ext autoreload\n",
    "%autoreload 2\n",
    "from deepgd import *"
   ]
  },
  {
   "cell_type": "markdown",
   "metadata": {
    "id": "z4eBEyB1oaJe"
   },
   "source": [
    "# Config"
   ]
  },
  {
   "cell_type": "code",
   "execution_count": 2,
   "metadata": {
    "id": "Q_-MLFhpNvxF"
   },
   "outputs": [],
   "source": [
    "cuda_idx = 0\n",
    "canonicalization = Canonicalization(normalize=Standardization(norm_ord=1),\n",
    "                                    scale=False)\n",
    "config = StaticConfig({\n",
    "    \"name\": 'GAN(gan=ragan,data=best(xing,stress),dis=deep,share=8,embed=8,gp=0)',\n",
    "    \"uid\": None,\n",
    "    \"link\": None,\n",
    "    \"generator\": {\n",
    "        \"params\": {\n",
    "            \"num_blocks\": 9,\n",
    "            \"normalize\": canonicalization\n",
    "        },\n",
    "        \"pretrained\": {\n",
    "            \"name\": None,\n",
    "            \"epoch\": -1,\n",
    "        },\n",
    "        \"optim\": torch.optim.AdamW,\n",
    "        \"lr\" : {\n",
    "            \"initial\": 1e-3,\n",
    "            \"decay\": 0.99,\n",
    "        },\n",
    "    },\n",
    "    \"discriminator\": {\n",
    "        \"params\": {\n",
    "            \"conv\": [2, 16, 16, 16],\n",
    "            \"dense\": [2],\n",
    "            \"shared_depth\": 8,\n",
    "            \"enet_depth\": 8,\n",
    "            \"enet_width\": 64,\n",
    "            \"aggr\": \"add\",\n",
    "            \"normalize\": canonicalization\n",
    "        },\n",
    "        \"pretrained\": {\n",
    "            \"name\": None,\n",
    "            \"epoch\": -1,\n",
    "        },\n",
    "        \"optim\": torch.optim.AdamW,\n",
    "        \"lr\" : {\n",
    "            \"initial\": 1e-3,\n",
    "            \"decay\": 0.99,\n",
    "        },\n",
    "        \"noise\": {\n",
    "            \"std\": 0,\n",
    "            \"decay\": 0.95,\n",
    "        },\n",
    "        \"repeat\": 1,\n",
    "        \"complete\": True,\n",
    "        \"adaptive\": True\n",
    "    },\n",
    "    \"alternate\": \"epoch\",\n",
    "    \"batchsize\": 24,\n",
    "    \"epoch\": {\n",
    "        \"start\": -1,\n",
    "        \"end\": None,\n",
    "    },\n",
    "    \"log_interval\": 1,\n",
    "    \"test\": {\n",
    "        \"name\": \"test\",\n",
    "        \"epoch\": -1,\n",
    "    },\n",
    "    \"gan_flavor\": \"ragan\",\n",
    "    \"gp_weight\": 0,\n",
    "})\n",
    "data_config = StaticConfig({\n",
    "    \"sparse\": False,\n",
    "    \"pivot\": None,\n",
    "    \"init\": \"pmds\",\n",
    "    \"edge\": {\n",
    "        \"index\": \"full_edge_index\",\n",
    "        \"attr\": \"full_edge_attr\",\n",
    "    },\n",
    "})\n",
    "loss_fns = {\n",
    "    Stress(): 1\n",
    "}\n",
    "ctrler_params = {\n",
    "    \"tau\": 0.95,\n",
    "    \"beta\": 1,\n",
    "    \"exploit_rate\": 0.5,\n",
    "    \"warmup\": 2,\n",
    "}\n",
    "paths = StaticConfig({\n",
    "    \"root\": \"artifacts\",\n",
    "    \"checkpoints\": lambda: f\"{paths.root}/checkpoints/{config.name}\",\n",
    "    \"gen_pretrain\": lambda: f\"{paths.root}/checkpoints/{config.generator.pretrained.name}\",\n",
    "    \"dis_pretrain\": lambda: f\"{paths.root}/checkpoints/{config.discriminator.pretrained.name}\",\n",
    "    \"tensorboard\": lambda: f\"{paths.root}/tensorboards/{config.name}\",\n",
    "    \"visualization\": lambda: f\"{paths.root}/visualizations/{config.name}_{config.test.name}\",\n",
    "    \"log\": lambda: f\"{paths.root}/logs/{config.name}.log\",\n",
    "    \"metrics\": lambda suffix: f\"{paths.root}/metrics/{config.name}_{suffix}.pickle\",\n",
    "})"
   ]
  },
  {
   "cell_type": "code",
   "execution_count": 3,
   "metadata": {
    "id": "mdMEAbH10Qaq"
   },
   "outputs": [],
   "source": [
    "if \" \" in config.name:\n",
    "    raise Exception(\"Space is not allowed in model name.\")"
   ]
  },
  {
   "cell_type": "markdown",
   "metadata": {
    "id": "WynW4ZAdBhep"
   },
   "source": [
    "# Prepare"
   ]
  },
  {
   "cell_type": "markdown",
   "metadata": {
    "id": "DR6-vYtr_i_P"
   },
   "source": [
    "## Get log command"
   ]
  },
  {
   "cell_type": "code",
   "execution_count": 4,
   "metadata": {
    "colab": {
     "base_uri": "https://localhost:8080/"
    },
    "id": "9-QpinlslcTO",
    "outputId": "48ae3716-212c-4d46-9efb-b7b4070f73de"
   },
   "outputs": [
    {
     "name": "stdout",
     "output_type": "stream",
     "text": [
      "cd /users/PAS0027/osu10203/deepgd && tail -n1000 -f 'artifacts/logs/GAN(gan=ragan,data=best(xing,stress),dis=deep,share=8,embed=8,gp=0).log'\n"
     ]
    }
   ],
   "source": [
    "print(f\"cd {os.getcwd()} && tail -n1000 -f '{paths.log()}'\")"
   ]
  },
  {
   "cell_type": "code",
   "execution_count": 5,
   "metadata": {},
   "outputs": [
    {
     "name": "stdout",
     "output_type": "stream",
     "text": [
      "tensorboard dev upload --logdir 'artifacts/tensorboards/GAN(gan=ragan,data=best(xing,stress),dis=deep,share=8,embed=8,gp=0)'\n"
     ]
    }
   ],
   "source": [
    "print(f\"tensorboard dev upload --logdir '{paths.tensorboard()}'\")"
   ]
  },
  {
   "cell_type": "markdown",
   "metadata": {
    "id": "innqkwvH_ydD"
   },
   "source": [
    "## Set globals"
   ]
  },
  {
   "cell_type": "code",
   "execution_count": 6,
   "metadata": {
    "id": "Qjq7JlSZlkQR"
   },
   "outputs": [],
   "source": [
    "if cuda_idx is not None and torch.cuda.is_available():\n",
    "    device = f'cuda:{cuda_idx}'\n",
    "    pynvml.nvmlInit()\n",
    "    cuda = pynvml.nvmlDeviceGetHandleByIndex(cuda_idx)\n",
    "else:\n",
    "    device = 'cpu'\n",
    "    cuda =  None\n",
    "np.set_printoptions(precision=2)\n",
    "warnings.filterwarnings(\"ignore\", category=RuntimeWarning)"
   ]
  },
  {
   "cell_type": "markdown",
   "metadata": {
    "id": "0da286l_ApEL"
   },
   "source": [
    "## Load data"
   ]
  },
  {
   "cell_type": "code",
   "execution_count": 7,
   "metadata": {
    "colab": {
     "base_uri": "https://localhost:8080/"
    },
    "id": "RFuSHiZJMU4x",
    "outputId": "54065609-aaea-4536-d79c-73bc73b3f576"
   },
   "outputs": [
    {
     "name": "stdout",
     "output_type": "stream",
     "text": [
      "Load from 'cache/G_list.pickle'\n",
      "Load from 'cache/generate_data_list(list,sparse=False,pivot_mode=None,init_mode=pmds,edge_index=full_edge_index,edge_attr=full_edge_attr,pmds_list=ndarray,gviz_list=ndarray,noisy_layout=True,device=cpu).pickle'\n"
     ]
    },
    {
     "name": "stderr",
     "output_type": "stream",
     "text": [
      "/users/PAS0027/osu10203/.conda/envs/deepgd/lib/python3.9/site-packages/torch_geometric/deprecation.py:13: UserWarning: 'data.DataLoader' is deprecated, use 'loader.DataLoader' instead\n",
      "  warnings.warn(out)\n"
     ]
    }
   ],
   "source": [
    "G_list = load_G_list(data_path='data/rome', index_file='data_index.txt', cache='G_list', cache_prefix='cache/')\n",
    "data_list = generate_data_list(G_list, \n",
    "                               sparse=data_config.sparse, \n",
    "                               pivot_mode=data_config.pivot,\n",
    "                               init_mode=data_config.init,\n",
    "                               edge_index=data_config.edge.index,\n",
    "                               edge_attr=data_config.edge.attr,\n",
    "                               pmds_list=np.load('layouts/rome/pmds.npy', allow_pickle=True),\n",
    "                               gviz_list=np.load('layouts/rome/gviz.npy', allow_pickle=True),\n",
    "                               noisy_layout=True,\n",
    "                               device='cpu', \n",
    "                               cache=True,\n",
    "                               cache_prefix='cache/')\n",
    "train_loader = LazyDeviceMappingDataLoader(data_list[:10000], batch_size=config.batchsize, shuffle=True, device=device)\n",
    "val_loader = LazyDeviceMappingDataLoader(data_list[11000:], batch_size=config.batchsize, shuffle=False, device=device)"
   ]
  },
  {
   "cell_type": "code",
   "execution_count": 8,
   "metadata": {
    "id": "djd1pLt2OxZq"
   },
   "outputs": [],
   "source": [
    "def draw_layout(G, method, draw=True):\n",
    "    if method == 'fa2':\n",
    "        layout = get_fa2_layout(G)\n",
    "    else:\n",
    "        try:\n",
    "            fn = getattr(nx.drawing.layout, f'{method}_layout')\n",
    "            layout = fn(G)\n",
    "        except:\n",
    "            layout = nx.drawing.nx_agraph.graphviz_layout(G, prog=method)\n",
    "    if draw:\n",
    "        nx.draw(G, pos=layout)\n",
    "    return layout"
   ]
  },
  {
   "cell_type": "code",
   "execution_count": 9,
   "metadata": {
    "id": "2vBBw77lR7Em"
   },
   "outputs": [],
   "source": [
    "methods = ['neato', 'dot', 'fdp', 'sfdp', 'twopi', 'circo', 'shell', 'spring', 'circular', 'spectral', 'kamada_kawai', 'fa2', 'pmds']"
   ]
  },
  {
   "cell_type": "code",
   "execution_count": 10,
   "metadata": {
    "id": "dx6VVA9XIc2O"
   },
   "outputs": [],
   "source": [
    "from functools import lru_cache\n",
    "\n",
    "@lru_cache(maxsize=None)\n",
    "def load_pos(method):\n",
    "    return np.load(f'layouts/rome/{method}.npy', allow_pickle=True)"
   ]
  },
  {
   "cell_type": "code",
   "execution_count": 11,
   "metadata": {
    "colab": {
     "base_uri": "https://localhost:8080/",
     "height": 1000,
     "referenced_widgets": [
      "05a37aeeb20049dfa2f97287b3990556",
      "a75afae3adfd4810a0b0991a062535ee",
      "a24ae105ed124595992f7e2e5f909247",
      "01b4cabaf8004dd4b9269b4e6889c498",
      "f3c7c84f2b314bd8b97a7358deaf4fa1",
      "35e4a83e692b4a7bafb46fdf192b2586",
      "62847b5e2678459f845159eef6d4feab",
      "143e81f00313436dacfa246a57108944",
      "e05833f11803400b95ff22246cdc8f2b",
      "53aeede91e074378b5d7f626165655ee",
      "79a43768c1794a10a788a49e5883aa2c"
     ]
    },
    "id": "MSmP-jem9I0X",
    "outputId": "c698f0bf-e96e-4de9-aeda-0b046fc0a03f",
    "scrolled": true,
    "tags": []
   },
   "outputs": [],
   "source": [
    "# best_list = []\n",
    "# best_layout_list = []\n",
    "# for idx, (G, data) in enumerate(zip(tqdm(G_list), data_list)):\n",
    "#     xing, stress, layout = {}, {}, {}\n",
    "#     for m in methods:\n",
    "#         batch = Batch.from_data_list([data])\n",
    "#         pos = load_pos(m)\n",
    "#         p = CanonicalizationByStress()(torch.tensor(pos[idx]).float(), batch)\n",
    "#         x = Xing()(p, batch).item()\n",
    "#         s = Stress()(p, batch).item()\n",
    "#         xing[m] = x\n",
    "#         stress[m] = s\n",
    "#         layout[m] = p.numpy()\n",
    "#         # plt.figure()\n",
    "#         # graph_vis(G, pos[idx])\n",
    "#         # plt.title(f'{m} stress={s:.2f} xing={x}')\n",
    "#     best, *_ = sorted(methods, key=lambda m: (xing[m], stress[m]))\n",
    "#     best_list.append(best)\n",
    "#     best_layout_list.append(layout[best])\n",
    "#     print(f'{best}, xing={xing[best]}, stress={stress[best]:.2f}')"
   ]
  },
  {
   "cell_type": "code",
   "execution_count": 12,
   "metadata": {
    "colab": {
     "base_uri": "https://localhost:8080/"
    },
    "id": "Mx2bZNugdTqa",
    "outputId": "cec05a67-18e8-492f-aaa1-057274a8341a"
   },
   "outputs": [],
   "source": [
    "# pickle.dump(best_list, open('layouts/rome/best[xing,stress].pkl', 'wb'))\n",
    "# np.save('layouts/rome/best[xing,stress].npy', best_layout_list)"
   ]
  },
  {
   "cell_type": "code",
   "execution_count": 13,
   "metadata": {
    "colab": {
     "base_uri": "https://localhost:8080/",
     "height": 49,
     "referenced_widgets": [
      "7e0ae84dd0f3458d893c81b029fe1729",
      "18bdc3bf80fb434abde68de5b72a8870",
      "2e3552ded9594635a51832387ae754a0",
      "54f4aa5080c6498080a63be2cdeefee5",
      "3937586d0879451da5e2138ca3bfd0a0",
      "a9df6e84ce8c499eb2b2cf984995d791",
      "7af6b718dd3d4e01b264377a2fa938e2",
      "a774c86e64004bd6951645f1c24abad4",
      "c86575117cd041f2837762f37d1f387b",
      "6e9907cefb1241688fbd248b8281ed9f",
      "9b8e5405d8264944acab57e81f2f5ad6"
     ]
    },
    "id": "A1-w1fspC53p",
    "outputId": "09c2d5c3-1eef-41eb-dcee-581af1294804"
   },
   "outputs": [
    {
     "data": {
      "application/vnd.jupyter.widget-view+json": {
       "model_id": "ba671856b546443bbfd75d150c1a2b7e",
       "version_major": 2,
       "version_minor": 0
      },
      "text/plain": [
       "  0%|          | 0/11531 [00:00<?, ?it/s]"
      ]
     },
     "metadata": {},
     "output_type": "display_data"
    }
   ],
   "source": [
    "best_layout_list = np.load('layouts/rome/best[xing,stress].npy', allow_pickle=True)\n",
    "for data, layout in zip(tqdm(data_list), best_layout_list):\n",
    "    data.gt_pos = torch.tensor(layout)"
   ]
  },
  {
   "cell_type": "code",
   "execution_count": 14,
   "metadata": {
    "id": "y6EGh4U7exL_"
   },
   "outputs": [],
   "source": [
    "train_loader = LazyDeviceMappingDataLoader(data_list[:10000], batch_size=config.batchsize, shuffle=True, device=device)\n",
    "val_loader = LazyDeviceMappingDataLoader(data_list[11000:], batch_size=config.batchsize, shuffle=False, device=device)"
   ]
  },
  {
   "cell_type": "code",
   "execution_count": 15,
   "metadata": {
    "colab": {
     "base_uri": "https://localhost:8080/",
     "height": 103,
     "referenced_widgets": [
      "38a33cf69aff48f4aabd4902a7ce48b1",
      "57e277bcb44c4e2fa2a12105d75153d1",
      "20ce017c46bd4a7c9b420270ac579405",
      "13f2df4fe0ce4af88b6e3bd1637065b0",
      "2867faa145ca4860a198d4d0bf830f89",
      "02838cf669174ed9afa41a1a8e680765",
      "7e9e3c031667455f8baca163d3a213e5",
      "4000135e7dfa46529fa6244fccc5cb57",
      "e523e9faac5b4ec38643c05ac5ba99f7",
      "e8e3ee9741e4480dae5003ccc19a7891",
      "9a569045221b43acb3ba2fbf116b2c74"
     ]
    },
    "id": "YEfRRUK0NiNm",
    "outputId": "93f53d05-7667-4cda-a38e-c3a953124f79"
   },
   "outputs": [],
   "source": [
    "# for m in methods:\n",
    "#     layouts = []\n",
    "#     for G in tqdm(G_list):\n",
    "#         layout = draw_layout(G, method=m, draw=False)\n",
    "#         layouts.append(np.array(list(layout.values())))\n",
    "#     np.save(f'layouts/rome/{m}.npy', layouts)"
   ]
  },
  {
   "cell_type": "code",
   "execution_count": 16,
   "metadata": {
    "colab": {
     "base_uri": "https://localhost:8080/",
     "height": 564
    },
    "id": "upK7AHYqPmC5",
    "outputId": "29a88e61-f55f-409c-9194-12c6d5762528"
   },
   "outputs": [],
   "source": [
    "# from collections import Counter\n",
    "\n",
    "# letter_counts = Counter(best_list)\n",
    "# df = pd.DataFrame.from_dict(letter_counts, orient='index')\n",
    "# df.plot(kind='bar', figsize=[12, 8])"
   ]
  },
  {
   "cell_type": "markdown",
   "metadata": {
    "id": "f-ODE2k8BFV6"
   },
   "source": [
    "## Create folders"
   ]
  },
  {
   "cell_type": "code",
   "execution_count": 17,
   "metadata": {
    "id": "3ykUMINYBRog"
   },
   "outputs": [],
   "source": [
    "mkdirs(paths.checkpoints(), paths.tensorboard(), paths.visualization(), f\"{paths.root}/logs\", f\"{paths.root}/metrics\")"
   ]
  },
  {
   "cell_type": "markdown",
   "metadata": {
    "id": "BFq9k5nzBIh5"
   },
   "source": [
    "## Load checkpoints"
   ]
  },
  {
   "cell_type": "code",
   "execution_count": 18,
   "metadata": {
    "id": "W5NbsKkobIfA"
   },
   "outputs": [],
   "source": [
    "class EdgeFeatureDiscriminator(nn.Module):\n",
    "    def __init__(self, \n",
    "                 conv, \n",
    "                 dense,\n",
    "                 shared_depth,\n",
    "                 enet_depth,\n",
    "                 enet_width,\n",
    "                 aggr='add', \n",
    "                 root_weight=True,\n",
    "                 normalize=None):\n",
    "        super().__init__()\n",
    "        self.enet = nn.Sequential(*[\n",
    "            DenseLayer(in_dim=in_d,\n",
    "                       out_dim=out_d,\n",
    "                       skip=nonlin,\n",
    "                       bn=nonlin,\n",
    "                       act=nonlin,\n",
    "                       dp=None)\n",
    "            for in_d, out_d, nonlin \n",
    "            in zip([self._get_feature_dim()] + [enet_width] * (shared_depth-1),\n",
    "                   [enet_width] * shared_depth,\n",
    "                   [True] * (shared_depth-1) + [False])     \n",
    "        ])\n",
    "        self.blocks = nn.ModuleList([\n",
    "            GNNLayer(nfeat_dims=(in_d, out_d),\n",
    "                     efeat_dim=enet_width,\n",
    "                     edge_net=EdgeNet(nfeat_dims=(in_d, out_d), \n",
    "                                      efeat_dim=enet_width, \n",
    "                                      depth=enet_depth, \n",
    "                                      width=enet_width),\n",
    "                     aggr=aggr,\n",
    "                     dense=False,\n",
    "                     skip=nonlin,\n",
    "                     bn=nonlin,\n",
    "                     act=nonlin,\n",
    "                     root_weight=root_weight) \n",
    "            for in_d, out_d, nonlin \n",
    "            in zip(conv[:-1], conv[1:], [True] * (len(conv)-2) + [False])     \n",
    "        ])\n",
    "        self.pool = (gnn.global_mean_pool if aggr == 'mean' \n",
    "                     else gnn.global_add_pool if aggr == 'add' \n",
    "                     else None)\n",
    "        self.dense = nn.Identity() if not dense else nn.Sequential(*[\n",
    "            DenseLayer(in_dim=in_d,\n",
    "                       out_dim=out_d,\n",
    "                       skip=nonlin,\n",
    "                       bn=nonlin,\n",
    "                       act=nonlin,\n",
    "                       dp=None)\n",
    "            for in_d, out_d, nonlin \n",
    "            in zip(conv[-1:] + dense[:-1], dense, [True] * (len(dense)-1) + [False])     \n",
    "        ])\n",
    "        self.normalize = normalize or IdentityTransformation()\n",
    "    \n",
    "    def forward(self, batch):\n",
    "        x = torch.ones_like(batch.pos)\n",
    "        e = self.enet(self._get_features(self._get_edge_info(batch, layout='pos')))\n",
    "        for block in self.blocks:\n",
    "            x = block(x, e, batch)\n",
    "        x = self.pool(x, batch.batch)\n",
    "        x = self.dense(x)\n",
    "        return x\n",
    "    \n",
    "    def _get_edge_info(self, batch, layout='gt_pos'):\n",
    "        pos = self.normalize(batch[layout].float(), batch)\n",
    "        src, dst = get_edges(pos, batch)\n",
    "        v, u = l2_normalize(dst - src, return_norm=True)\n",
    "        d = batch.edge_attr[:, :1]\n",
    "        return {\n",
    "            \"src\": src,\n",
    "            \"dst\": dst,\n",
    "            \"v\": v,\n",
    "            \"u\": u,\n",
    "            \"d\": d,\n",
    "        }\n",
    "\n",
    "    def _get_features(self, edges):\n",
    "        return torch.cat([edges['src'], edges['dst'], edges['d']], dim=1)\n",
    "        \n",
    "    def _get_feature_dim(self):\n",
    "        return self._get_features({\n",
    "            \"src\": torch.zeros(1, 2),\n",
    "            \"dst\": torch.zeros(1, 2),\n",
    "            \"v\": torch.zeros(1, 2),\n",
    "            \"u\": torch.zeros(1, 1),\n",
    "            \"d\": torch.zeros(1, 1),\n",
    "        }).shape[-1]"
   ]
  },
  {
   "cell_type": "code",
   "execution_count": 19,
   "metadata": {
    "id": "96ZActxlL0fJ"
   },
   "outputs": [],
   "source": [
    "class StressDiscriminator(nn.Module):\n",
    "    def __init__(self, normalize=CanonicalizationByStress(), **kwargs):\n",
    "        super().__init__()\n",
    "        self.dummy = nn.Parameter(torch.zeros(1))\n",
    "        self.normalize = normalize\n",
    "        self.stress = Stress(reduce=None)\n",
    "\n",
    "    def forward(self, batch):\n",
    "        return -self.stress(self.normalize(batch.pos, batch), batch)"
   ]
  },
  {
   "cell_type": "code",
   "execution_count": 20,
   "metadata": {
    "id": "IJ6xCYBUuhcw"
   },
   "outputs": [],
   "source": [
    "def get_ckpt_epoch(folder, epoch):\n",
    "    if not os.path.isdir(folder):\n",
    "        os.mkdir(folder)\n",
    "    if epoch >= 0:\n",
    "        return epoch\n",
    "    ckpt_files = os.listdir(folder)\n",
    "    last_epoch = 0\n",
    "    if ckpt_files:\n",
    "        last_epoch = sorted(list(map(lambda x: int(re.search('(?<=epoch_)(\\d+)(?=\\.)', x).group(1)), ckpt_files)))[-1]\n",
    "    return last_epoch + epoch + 1\n",
    "\n",
    "def start_epoch():\n",
    "    return get_ckpt_epoch(paths.checkpoints(), config.epoch.start)"
   ]
  },
  {
   "cell_type": "code",
   "execution_count": 21,
   "metadata": {
    "colab": {
     "base_uri": "https://localhost:8080/"
    },
    "id": "JacDYXka9U01",
    "outputId": "ef4e31ab-2144-497c-8e4f-4d3740ce2d52"
   },
   "outputs": [
    {
     "name": "stdout",
     "output_type": "stream",
     "text": [
      "Loading from artifacts/checkpoints/GAN(gan=ragan,data=best(xing,stress),dis=deep,share=8,embed=8,gp=0)/gen_epoch_1090.pt...\n",
      "Loading from artifacts/checkpoints/GAN(gan=ragan,data=best(xing,stress),dis=deep,share=8,embed=8,gp=0)/gen_optim_epoch_1090.pt...\n"
     ]
    }
   ],
   "source": [
    "generator = Generator(**config.generator.params[...]).to(device)\n",
    "generator_optimizer = config.generator.optim(generator.parameters(), lr=config.generator.lr.initial * config.generator.lr.decay ** start_epoch())\n",
    "generator_scheduler = torch.optim.lr_scheduler.ExponentialLR(generator_optimizer, gamma=config.generator.lr.decay)\n",
    "if start_epoch() != 0:\n",
    "    gen_ckpt_epoch = start_epoch()\n",
    "elif config.generator.pretrained.name is not None and config.generator.pretrained.epoch != 0:\n",
    "    gen_pretrained_epoch = get_ckpt_epoch(paths.gen_pretrain(), config.generator.pretrained.epoch)\n",
    "    gen_ckpt_epoch = gen_pretrained_epoch \n",
    "else:\n",
    "    gen_ckpt_epoch = None\n",
    "if gen_ckpt_epoch is not None:\n",
    "    # Load generator\n",
    "    gen_ckpt_file = f\"{paths.checkpoints()}/gen_epoch_{gen_ckpt_epoch}.pt\"\n",
    "    print(f\"Loading from {gen_ckpt_file}...\")\n",
    "    generator.load_state_dict(torch.load(gen_ckpt_file, map_location=torch.device(device)))\n",
    "    # Load generator optimizer\n",
    "    gen_optim_ckpt_file = f\"{paths.checkpoints()}/gen_optim_epoch_{gen_ckpt_epoch}.pt\"\n",
    "    print(f\"Loading from {gen_optim_ckpt_file}...\")\n",
    "    generator_optimizer.load_state_dict(torch.load(gen_optim_ckpt_file, map_location=torch.device(device)))"
   ]
  },
  {
   "cell_type": "code",
   "execution_count": 22,
   "metadata": {
    "colab": {
     "base_uri": "https://localhost:8080/"
    },
    "id": "oWQhD7-88VXe",
    "outputId": "3ba01600-b546-4e45-a6bd-c7a65af1ae9e"
   },
   "outputs": [
    {
     "name": "stdout",
     "output_type": "stream",
     "text": [
      "Loading from artifacts/checkpoints/GAN(gan=ragan,data=best(xing,stress),dis=deep,share=8,embed=8,gp=0)/dis_epoch_1090.pt...\n",
      "Loading from artifacts/checkpoints/GAN(gan=ragan,data=best(xing,stress),dis=deep,share=8,embed=8,gp=0)/dis_optim_epoch_1090.pt...\n"
     ]
    }
   ],
   "source": [
    "discriminator = EdgeFeatureDiscriminator(**config.discriminator.params[...]).to(device)\n",
    "discriminator_optimizer = config.discriminator.optim(discriminator.parameters(), lr=config.discriminator.lr.initial * config.discriminator.lr.decay ** start_epoch())\n",
    "discriminator_scheduler = torch.optim.lr_scheduler.ExponentialLR(discriminator_optimizer, gamma=config.discriminator.lr.decay)\n",
    "if start_epoch() != 0:\n",
    "    dis_ckpt_epoch = start_epoch()\n",
    "elif config.discriminator.pretrained.name is not None and config.discriminator.pretrained.epoch != 0:\n",
    "    dis_pretrained_epoch = get_ckpt_epoch(paths.dis_pretrain(), config.discriminator.pretrained.epoch)\n",
    "    dis_ckpt_epoch = dis_pretrained_epoch # f\"{paths.dis_pretrain()}/dis_epoch_{dis_pretrained_epoch}.pt\"\n",
    "else:\n",
    "    dis_ckpt_epoch = None\n",
    "if dis_ckpt_epoch is not None:\n",
    "    # Load discriminator\n",
    "    dis_ckpt_file = f\"{paths.checkpoints()}/dis_epoch_{dis_ckpt_epoch}.pt\"\n",
    "    print(f\"Loading from {dis_ckpt_file}...\")\n",
    "    discriminator.load_state_dict(torch.load(dis_ckpt_file, map_location=torch.device(device)))\n",
    "    # Load discriminator optimizer\n",
    "    dis_optim_ckpt_file = f\"{paths.checkpoints()}/dis_optim_epoch_{dis_ckpt_epoch}.pt\"\n",
    "    print(f\"Loading from {dis_optim_ckpt_file}...\")\n",
    "    discriminator_optimizer.load_state_dict(torch.load(dis_optim_ckpt_file, map_location=torch.device(device)))"
   ]
  },
  {
   "cell_type": "markdown",
   "metadata": {
    "id": "N39dDHraedM6"
   },
   "source": [
    "# Train"
   ]
  },
  {
   "cell_type": "code",
   "execution_count": 23,
   "metadata": {
    "id": "BdIJSDSJedM-"
   },
   "outputs": [],
   "source": [
    "stress_criterion = StressDiscriminator().to(device)\n",
    "val_criterion = Stress(reduce=None)\n",
    "xing_criterion = Xing(reduce=None)\n",
    "dis_convert = DiscriminatorDataConverter(complete_graph=config.discriminator.complete, normalize=config.discriminator.params.normalize)\n",
    "tensorboard = SummaryWriter(log_dir=paths.tensorboard())\n",
    "epoch = start_epoch() + 1"
   ]
  },
  {
   "cell_type": "code",
   "execution_count": 24,
   "metadata": {
    "id": "OHRWj1h0edM-"
   },
   "outputs": [],
   "source": [
    "def gradient_penalty(interpolated, discriminator, weight=10):\n",
    "    interpolated.pos.requires_grad_()\n",
    "    prob_interpolated = discriminator(interpolated)\n",
    "    gradients = autograd.grad(outputs=prob_interpolated, \n",
    "                              inputs=interpolated.pos,\n",
    "                              grad_outputs=torch.ones_like(prob_interpolated),\n",
    "                              create_graph=True, \n",
    "                              retain_graph=True, \n",
    "                              allow_unused=True)[0]\n",
    "    gradients_norm = torch.sqrt(gnn.global_add_pool(gradients.square().sum(dim=1), batch.batch) + 1e-8)\n",
    "    return weight * ((gradients_norm - 1) ** 2).mean()"
   ]
  },
  {
   "cell_type": "code",
   "execution_count": 25,
   "metadata": {
    "id": "o5wJJN9AedM_"
   },
   "outputs": [],
   "source": [
    "def get_gp_loss(batch, fake_pos, weight):\n",
    "    if weight > 0:\n",
    "        interp = dis_convert(batch, fake_pos, random.random())\n",
    "        return gradient_penalty(interp, discriminator, weight).mean()\n",
    "    return 0"
   ]
  },
  {
   "cell_type": "code",
   "execution_count": 26,
   "metadata": {
    "id": "QwuA6sRoedM_"
   },
   "outputs": [],
   "source": [
    "def get_sgan_loss(batch, fake_pos, mode='discriminator'):\n",
    "    real = dis_convert(batch)\n",
    "    fake = dis_convert(batch, fake_pos)\n",
    "    pred = discriminator(merge_batch(real, fake)).view(2, -1).T\n",
    "    if mode == 'discriminator':\n",
    "        label = torch.zeros(pred.shape[0]).long()\n",
    "    elif mode == 'generator':\n",
    "        label = torch.ones(pred.shape[0]).long()\n",
    "    else:\n",
    "        raise Exception\n",
    "    return nn.CrossEntropyLoss()(pred, label)"
   ]
  },
  {
   "cell_type": "code",
   "execution_count": 27,
   "metadata": {
    "id": "GuAP1YchedNA"
   },
   "outputs": [],
   "source": [
    "def get_rgan_loss(batch, fake_pos, mode='discriminator'):\n",
    "    real = dis_convert(batch)\n",
    "    fake = dis_convert(batch, fake_pos)\n",
    "    pred = discriminator(merge_batch(real, fake)).view(2, -1).T\n",
    "    real_pred, fake_pred = pred[:,0], pred[:,1]\n",
    "    if mode == 'discriminator':\n",
    "        losses = - F.logsigmoid(real_pred - fake_pred)\n",
    "    elif mode == 'generator':\n",
    "        losses = - F.logsigmoid(fake_pred - real_pred)\n",
    "    else:\n",
    "        raise Exception\n",
    "    return losses.mean()"
   ]
  },
  {
   "cell_type": "code",
   "execution_count": 28,
   "metadata": {
    "id": "KFllQ7BredNA"
   },
   "outputs": [],
   "source": [
    "def get_wgan_loss(batch, fake_pos, mode='discriminator'):\n",
    "    real = dis_convert(batch)\n",
    "    fake = dis_convert(batch, fake_pos)\n",
    "    pred = discriminator(merge_batch(real, fake)).view(2, -1).T\n",
    "    real_pred, fake_pred = pred[:,0], pred[:,1]\n",
    "    if mode == 'discriminator':\n",
    "        losses = fake_pred - real_pred \n",
    "    elif mode == 'generator':\n",
    "        losses = real_pred - fake_pred\n",
    "    else:\n",
    "        raise Exception\n",
    "    return losses.mean()"
   ]
  },
  {
   "cell_type": "code",
   "execution_count": 29,
   "metadata": {
    "id": "r5Kg_tYEedNA"
   },
   "outputs": [],
   "source": [
    "def get_ragan_loss(batch, fake_pos, mode='discriminator'):\n",
    "    real = dis_convert(batch)\n",
    "    fake = dis_convert(batch, fake_pos)\n",
    "    pred = discriminator(merge_batch(real, fake)).view(2, -1).T\n",
    "    real_pred, fake_pred = pred[:,0], pred[:,1]\n",
    "    if mode == 'discriminator':\n",
    "        losses = - F.logsigmoid(real_pred - fake_pred.mean()) - F.logsigmoid(real_pred.mean() - fake_pred)\n",
    "    elif mode == 'generator':\n",
    "        losses = - F.logsigmoid(fake_pred - real_pred.mean()) - F.logsigmoid(fake_pred.mean() - real_pred)\n",
    "    else:\n",
    "        raise Exception\n",
    "    return losses.mean()"
   ]
  },
  {
   "cell_type": "code",
   "execution_count": 30,
   "metadata": {},
   "outputs": [],
   "source": [
    "def get_dgdv2_loss(batch, fake_pos, mode='discriminator'):\n",
    "    fake = dis_convert(batch, fake_pos)\n",
    "    pred = discriminator(fake)\n",
    "    if mode == 'discriminator':\n",
    "        gt = get_gt(batch, fake_pos)\n",
    "        loss = criterion(pred, gt)\n",
    "    elif mode == 'generator':\n",
    "        losses = pred.sum(dim=0)\n",
    "#         losses = torch.tensor(config.importance).to(device) * losses #/ losses.detach()\n",
    "        loss = losses.sum()\n",
    "    else:\n",
    "        raise Exception\n",
    "    return -loss"
   ]
  },
  {
   "cell_type": "code",
   "execution_count": 31,
   "metadata": {
    "id": "3IE_84f-edNB"
   },
   "outputs": [],
   "source": [
    "def get_gan_loss(batch, fake_pos, mode='discriminator'):\n",
    "    return {\"sgan\": get_sgan_loss,\n",
    "            \"wgan\": get_wgan_loss,\n",
    "            \"rgan\": get_rgan_loss,\n",
    "            \"ragan\": get_ragan_loss,\n",
    "            \"dgdv2\": get_dgdv2_loss}[config.gan_flavor](batch, fake_pos, mode)"
   ]
  },
  {
   "cell_type": "code",
   "execution_count": 32,
   "metadata": {
    "colab": {
     "background_save": true,
     "base_uri": "https://localhost:8080/",
     "height": 80
    },
    "id": "2NjekXgkedNB",
    "outputId": "da85b2ec-c0de-459c-c0dd-7ba3519419fa",
    "scrolled": true,
    "tags": []
   },
   "outputs": [
    {
     "data": {
      "application/vnd.jupyter.widget-view+json": {
       "model_id": "f36f3a6ce9ea414cb65dc1344ad5bbf9",
       "version_major": 2,
       "version_minor": 0
      },
      "text/plain": [
       "Tab(children=(VBox(children=(Wrapper(), Hud())), HBox(children=(Output(),), layout=Layout(height='500px', over…"
      ]
     },
     "metadata": {},
     "output_type": "display_data"
    },
    {
     "ename": "KeyboardInterrupt",
     "evalue": "",
     "output_type": "error",
     "traceback": [
      "\u001b[0;31m---------------------------------------------------------------------------\u001b[0m",
      "\u001b[0;31mKeyboardInterrupt\u001b[0m                         Traceback (most recent call last)",
      "\u001b[0;32m/tmp/slurmtmp.5826414/ipykernel_130020/801679965.py\u001b[0m in \u001b[0;36m<module>\u001b[0;34m\u001b[0m\n\u001b[1;32m    127\u001b[0m     \u001b[0;32mfor\u001b[0m \u001b[0m_\u001b[0m \u001b[0;32min\u001b[0m \u001b[0mrange\u001b[0m\u001b[0;34m(\u001b[0m\u001b[0mconfig\u001b[0m\u001b[0;34m.\u001b[0m\u001b[0mdiscriminator\u001b[0m\u001b[0;34m.\u001b[0m\u001b[0mrepeat\u001b[0m\u001b[0;34m)\u001b[0m\u001b[0;34m:\u001b[0m\u001b[0;34m\u001b[0m\u001b[0;34m\u001b[0m\u001b[0m\n\u001b[1;32m    128\u001b[0m         \u001b[0;32mfor\u001b[0m \u001b[0mbatch\u001b[0m \u001b[0;32min\u001b[0m \u001b[0mtrain_loader\u001b[0m\u001b[0;34m:\u001b[0m\u001b[0;34m\u001b[0m\u001b[0;34m\u001b[0m\u001b[0m\n\u001b[0;32m--> 129\u001b[0;31m             \u001b[0mtrain_dis\u001b[0m\u001b[0;34m(\u001b[0m\u001b[0mbatch\u001b[0m\u001b[0;34m,\u001b[0m \u001b[0mepoch\u001b[0m\u001b[0;34m)\u001b[0m\u001b[0;34m\u001b[0m\u001b[0;34m\u001b[0m\u001b[0m\n\u001b[0m\u001b[1;32m    130\u001b[0m             \u001b[0;32mif\u001b[0m \u001b[0mconfig\u001b[0m\u001b[0;34m.\u001b[0m\u001b[0malternate\u001b[0m \u001b[0;34m==\u001b[0m \u001b[0;34m'iteration'\u001b[0m\u001b[0;34m:\u001b[0m\u001b[0;34m\u001b[0m\u001b[0;34m\u001b[0m\u001b[0m\n\u001b[1;32m    131\u001b[0m                 \u001b[0mtrain_gen\u001b[0m\u001b[0;34m(\u001b[0m\u001b[0mbatch\u001b[0m\u001b[0;34m,\u001b[0m \u001b[0mepoch\u001b[0m\u001b[0;34m)\u001b[0m\u001b[0;34m\u001b[0m\u001b[0;34m\u001b[0m\u001b[0m\n",
      "\u001b[0;32m/tmp/slurmtmp.5826414/ipykernel_130020/801679965.py\u001b[0m in \u001b[0;36mtrain_dis\u001b[0;34m(batch, epoch)\u001b[0m\n\u001b[1;32m      2\u001b[0m     \u001b[0mgenerator\u001b[0m\u001b[0;34m.\u001b[0m\u001b[0mrequires_grad_\u001b[0m\u001b[0;34m(\u001b[0m\u001b[0;32mFalse\u001b[0m\u001b[0;34m)\u001b[0m\u001b[0;34m\u001b[0m\u001b[0;34m\u001b[0m\u001b[0m\n\u001b[1;32m      3\u001b[0m     \u001b[0mdiscriminator\u001b[0m\u001b[0;34m.\u001b[0m\u001b[0mzero_grad\u001b[0m\u001b[0;34m(\u001b[0m\u001b[0;34m)\u001b[0m\u001b[0;34m\u001b[0m\u001b[0;34m\u001b[0m\u001b[0m\n\u001b[0;32m----> 4\u001b[0;31m     \u001b[0mgenerator_output\u001b[0m \u001b[0;34m=\u001b[0m \u001b[0mgenerator\u001b[0m\u001b[0;34m(\u001b[0m\u001b[0mbatch\u001b[0m\u001b[0;34m)\u001b[0m\u001b[0;34m\u001b[0m\u001b[0;34m\u001b[0m\u001b[0m\n\u001b[0m\u001b[1;32m      5\u001b[0m     \u001b[0;32mif\u001b[0m \u001b[0mconfig\u001b[0m\u001b[0;34m.\u001b[0m\u001b[0mdiscriminator\u001b[0m\u001b[0;34m.\u001b[0m\u001b[0mnoise\u001b[0m\u001b[0;34m.\u001b[0m\u001b[0mstd\u001b[0m \u001b[0;34m>\u001b[0m \u001b[0;36m0\u001b[0m\u001b[0;34m:\u001b[0m\u001b[0;34m\u001b[0m\u001b[0;34m\u001b[0m\u001b[0m\n\u001b[1;32m      6\u001b[0m         \u001b[0mgenerator_output\u001b[0m \u001b[0;34m=\u001b[0m \u001b[0mgenerator_output\u001b[0m \u001b[0;34m+\u001b[0m \u001b[0mtorch\u001b[0m\u001b[0;34m.\u001b[0m\u001b[0mrandn_like\u001b[0m\u001b[0;34m(\u001b[0m\u001b[0mgenerator_output\u001b[0m\u001b[0;34m)\u001b[0m \u001b[0;34m*\u001b[0m \u001b[0mconfig\u001b[0m\u001b[0;34m.\u001b[0m\u001b[0mdiscriminator\u001b[0m\u001b[0;34m.\u001b[0m\u001b[0mnoise\u001b[0m\u001b[0;34m.\u001b[0m\u001b[0mstd\u001b[0m \u001b[0;34m*\u001b[0m \u001b[0mconfig\u001b[0m\u001b[0;34m.\u001b[0m\u001b[0mdiscriminator\u001b[0m\u001b[0;34m.\u001b[0m\u001b[0mnoise\u001b[0m\u001b[0;34m.\u001b[0m\u001b[0mdecay\u001b[0m \u001b[0;34m**\u001b[0m \u001b[0mepoch\u001b[0m\u001b[0;34m\u001b[0m\u001b[0;34m\u001b[0m\u001b[0m\n",
      "\u001b[0;32m~/.conda/envs/deepgd/lib/python3.9/site-packages/torch/nn/modules/module.py\u001b[0m in \u001b[0;36m_call_impl\u001b[0;34m(self, *input, **kwargs)\u001b[0m\n\u001b[1;32m   1049\u001b[0m         if not (self._backward_hooks or self._forward_hooks or self._forward_pre_hooks or _global_backward_hooks\n\u001b[1;32m   1050\u001b[0m                 or _global_forward_hooks or _global_forward_pre_hooks):\n\u001b[0;32m-> 1051\u001b[0;31m             \u001b[0;32mreturn\u001b[0m \u001b[0mforward_call\u001b[0m\u001b[0;34m(\u001b[0m\u001b[0;34m*\u001b[0m\u001b[0minput\u001b[0m\u001b[0;34m,\u001b[0m \u001b[0;34m**\u001b[0m\u001b[0mkwargs\u001b[0m\u001b[0;34m)\u001b[0m\u001b[0;34m\u001b[0m\u001b[0;34m\u001b[0m\u001b[0m\n\u001b[0m\u001b[1;32m   1052\u001b[0m         \u001b[0;31m# Do not call functions when jit is used\u001b[0m\u001b[0;34m\u001b[0m\u001b[0;34m\u001b[0m\u001b[0m\n\u001b[1;32m   1053\u001b[0m         \u001b[0mfull_backward_hooks\u001b[0m\u001b[0;34m,\u001b[0m \u001b[0mnon_full_backward_hooks\u001b[0m \u001b[0;34m=\u001b[0m \u001b[0;34m[\u001b[0m\u001b[0;34m]\u001b[0m\u001b[0;34m,\u001b[0m \u001b[0;34m[\u001b[0m\u001b[0;34m]\u001b[0m\u001b[0;34m\u001b[0m\u001b[0;34m\u001b[0m\u001b[0m\n",
      "\u001b[0;32m~/deepgd/deepgd/modules.py\u001b[0m in \u001b[0;36mforward\u001b[0;34m(self, data, weights, output_hidden, numpy)\u001b[0m\n\u001b[1;32m    619\u001b[0m         \u001b[0mv\u001b[0m \u001b[0;34m=\u001b[0m \u001b[0mdata\u001b[0m\u001b[0;34m.\u001b[0m\u001b[0mpos\u001b[0m \u001b[0;32mif\u001b[0m \u001b[0mdata\u001b[0m\u001b[0;34m.\u001b[0m\u001b[0mpos\u001b[0m \u001b[0;32mis\u001b[0m \u001b[0;32mnot\u001b[0m \u001b[0;32mNone\u001b[0m \u001b[0;32melse\u001b[0m \u001b[0mgenerate_rand_pos\u001b[0m\u001b[0;34m(\u001b[0m\u001b[0mlen\u001b[0m\u001b[0;34m(\u001b[0m\u001b[0mdata\u001b[0m\u001b[0;34m.\u001b[0m\u001b[0mx\u001b[0m\u001b[0;34m)\u001b[0m\u001b[0;34m)\u001b[0m\u001b[0;34m.\u001b[0m\u001b[0mto\u001b[0m\u001b[0;34m(\u001b[0m\u001b[0mdata\u001b[0m\u001b[0;34m.\u001b[0m\u001b[0mx\u001b[0m\u001b[0;34m.\u001b[0m\u001b[0mdevice\u001b[0m\u001b[0;34m)\u001b[0m\u001b[0;34m\u001b[0m\u001b[0;34m\u001b[0m\u001b[0m\n\u001b[1;32m    620\u001b[0m         \u001b[0;32mif\u001b[0m \u001b[0mself\u001b[0m\u001b[0;34m.\u001b[0m\u001b[0mnormalize\u001b[0m \u001b[0;32mis\u001b[0m \u001b[0;32mnot\u001b[0m \u001b[0;32mNone\u001b[0m\u001b[0;34m:\u001b[0m\u001b[0;34m\u001b[0m\u001b[0;34m\u001b[0m\u001b[0m\n\u001b[0;32m--> 621\u001b[0;31m             \u001b[0mv\u001b[0m \u001b[0;34m=\u001b[0m \u001b[0mself\u001b[0m\u001b[0;34m.\u001b[0m\u001b[0mnormalize\u001b[0m\u001b[0;34m(\u001b[0m\u001b[0mv\u001b[0m\u001b[0;34m,\u001b[0m \u001b[0mdata\u001b[0m\u001b[0;34m)\u001b[0m\u001b[0;34m\u001b[0m\u001b[0;34m\u001b[0m\u001b[0m\n\u001b[0m\u001b[1;32m    622\u001b[0m \u001b[0;34m\u001b[0m\u001b[0m\n\u001b[1;32m    623\u001b[0m         \u001b[0mhidden\u001b[0m \u001b[0;34m=\u001b[0m \u001b[0;34m[\u001b[0m\u001b[0;34m]\u001b[0m\u001b[0;34m\u001b[0m\u001b[0;34m\u001b[0m\u001b[0m\n",
      "\u001b[0;32m~/.conda/envs/deepgd/lib/python3.9/site-packages/torch/nn/modules/module.py\u001b[0m in \u001b[0;36m_call_impl\u001b[0;34m(self, *input, **kwargs)\u001b[0m\n\u001b[1;32m   1049\u001b[0m         if not (self._backward_hooks or self._forward_hooks or self._forward_pre_hooks or _global_backward_hooks\n\u001b[1;32m   1050\u001b[0m                 or _global_forward_hooks or _global_forward_pre_hooks):\n\u001b[0;32m-> 1051\u001b[0;31m             \u001b[0;32mreturn\u001b[0m \u001b[0mforward_call\u001b[0m\u001b[0;34m(\u001b[0m\u001b[0;34m*\u001b[0m\u001b[0minput\u001b[0m\u001b[0;34m,\u001b[0m \u001b[0;34m**\u001b[0m\u001b[0mkwargs\u001b[0m\u001b[0;34m)\u001b[0m\u001b[0;34m\u001b[0m\u001b[0;34m\u001b[0m\u001b[0m\n\u001b[0m\u001b[1;32m   1052\u001b[0m         \u001b[0;31m# Do not call functions when jit is used\u001b[0m\u001b[0;34m\u001b[0m\u001b[0;34m\u001b[0m\u001b[0m\n\u001b[1;32m   1053\u001b[0m         \u001b[0mfull_backward_hooks\u001b[0m\u001b[0;34m,\u001b[0m \u001b[0mnon_full_backward_hooks\u001b[0m \u001b[0;34m=\u001b[0m \u001b[0;34m[\u001b[0m\u001b[0;34m]\u001b[0m\u001b[0;34m,\u001b[0m \u001b[0;34m[\u001b[0m\u001b[0;34m]\u001b[0m\u001b[0;34m\u001b[0m\u001b[0;34m\u001b[0m\u001b[0m\n",
      "\u001b[0;32m~/deepgd/deepgd/transform.py\u001b[0m in \u001b[0;36mforward\u001b[0;34m(self, pos, data)\u001b[0m\n\u001b[1;32m    150\u001b[0m     \u001b[0;32mdef\u001b[0m \u001b[0mforward\u001b[0m\u001b[0;34m(\u001b[0m\u001b[0mself\u001b[0m\u001b[0;34m,\u001b[0m \u001b[0mpos\u001b[0m\u001b[0;34m,\u001b[0m \u001b[0mdata\u001b[0m\u001b[0;34m)\u001b[0m\u001b[0;34m:\u001b[0m\u001b[0;34m\u001b[0m\u001b[0;34m\u001b[0m\u001b[0m\n\u001b[1;32m    151\u001b[0m         \u001b[0mbatch\u001b[0m \u001b[0;34m=\u001b[0m \u001b[0mmake_batch\u001b[0m\u001b[0;34m(\u001b[0m\u001b[0mdata\u001b[0m\u001b[0;34m)\u001b[0m\u001b[0;34m\u001b[0m\u001b[0;34m\u001b[0m\u001b[0m\n\u001b[0;32m--> 152\u001b[0;31m         \u001b[0mpos\u001b[0m \u001b[0;34m=\u001b[0m \u001b[0mself\u001b[0m\u001b[0;34m.\u001b[0m\u001b[0mtranslate\u001b[0m\u001b[0;34m(\u001b[0m\u001b[0mpos\u001b[0m\u001b[0;34m,\u001b[0m \u001b[0mbatch\u001b[0m\u001b[0;34m)\u001b[0m\u001b[0;34m\u001b[0m\u001b[0;34m\u001b[0m\u001b[0m\n\u001b[0m\u001b[1;32m    153\u001b[0m         \u001b[0mpos\u001b[0m \u001b[0;34m=\u001b[0m \u001b[0mself\u001b[0m\u001b[0;34m.\u001b[0m\u001b[0mrotate\u001b[0m\u001b[0;34m(\u001b[0m\u001b[0mpos\u001b[0m\u001b[0;34m,\u001b[0m \u001b[0mbatch\u001b[0m\u001b[0;34m)\u001b[0m\u001b[0;34m\u001b[0m\u001b[0;34m\u001b[0m\u001b[0m\n\u001b[1;32m    154\u001b[0m         \u001b[0mpos\u001b[0m \u001b[0;34m=\u001b[0m \u001b[0mself\u001b[0m\u001b[0;34m.\u001b[0m\u001b[0mnormalize\u001b[0m\u001b[0;34m(\u001b[0m\u001b[0mpos\u001b[0m\u001b[0;34m,\u001b[0m \u001b[0mbatch\u001b[0m\u001b[0;34m)\u001b[0m\u001b[0;34m\u001b[0m\u001b[0;34m\u001b[0m\u001b[0m\n",
      "\u001b[0;32m~/.conda/envs/deepgd/lib/python3.9/site-packages/torch/nn/modules/module.py\u001b[0m in \u001b[0;36m_call_impl\u001b[0;34m(self, *input, **kwargs)\u001b[0m\n\u001b[1;32m   1049\u001b[0m         if not (self._backward_hooks or self._forward_hooks or self._forward_pre_hooks or _global_backward_hooks\n\u001b[1;32m   1050\u001b[0m                 or _global_forward_hooks or _global_forward_pre_hooks):\n\u001b[0;32m-> 1051\u001b[0;31m             \u001b[0;32mreturn\u001b[0m \u001b[0mforward_call\u001b[0m\u001b[0;34m(\u001b[0m\u001b[0;34m*\u001b[0m\u001b[0minput\u001b[0m\u001b[0;34m,\u001b[0m \u001b[0;34m**\u001b[0m\u001b[0mkwargs\u001b[0m\u001b[0;34m)\u001b[0m\u001b[0;34m\u001b[0m\u001b[0;34m\u001b[0m\u001b[0m\n\u001b[0m\u001b[1;32m   1052\u001b[0m         \u001b[0;31m# Do not call functions when jit is used\u001b[0m\u001b[0;34m\u001b[0m\u001b[0;34m\u001b[0m\u001b[0m\n\u001b[1;32m   1053\u001b[0m         \u001b[0mfull_backward_hooks\u001b[0m\u001b[0;34m,\u001b[0m \u001b[0mnon_full_backward_hooks\u001b[0m \u001b[0;34m=\u001b[0m \u001b[0;34m[\u001b[0m\u001b[0;34m]\u001b[0m\u001b[0;34m,\u001b[0m \u001b[0;34m[\u001b[0m\u001b[0;34m]\u001b[0m\u001b[0;34m\u001b[0m\u001b[0;34m\u001b[0m\u001b[0m\n",
      "\u001b[0;32m~/deepgd/deepgd/transform.py\u001b[0m in \u001b[0;36mforward\u001b[0;34m(self, pos, data)\u001b[0m\n\u001b[1;32m     31\u001b[0m     \u001b[0;32mdef\u001b[0m \u001b[0mforward\u001b[0m\u001b[0;34m(\u001b[0m\u001b[0mself\u001b[0m\u001b[0;34m,\u001b[0m \u001b[0mpos\u001b[0m\u001b[0;34m,\u001b[0m \u001b[0mdata\u001b[0m\u001b[0;34m)\u001b[0m\u001b[0;34m:\u001b[0m\u001b[0;34m\u001b[0m\u001b[0;34m\u001b[0m\u001b[0m\n\u001b[1;32m     32\u001b[0m         \u001b[0mbatch\u001b[0m \u001b[0;34m=\u001b[0m \u001b[0mmake_batch\u001b[0m\u001b[0;34m(\u001b[0m\u001b[0mdata\u001b[0m\u001b[0;34m)\u001b[0m\u001b[0;34m\u001b[0m\u001b[0;34m\u001b[0m\u001b[0m\n\u001b[0;32m---> 33\u001b[0;31m         \u001b[0mcenter\u001b[0m \u001b[0;34m=\u001b[0m \u001b[0mtorch_scatter\u001b[0m\u001b[0;34m.\u001b[0m\u001b[0mscatter\u001b[0m\u001b[0;34m(\u001b[0m\u001b[0mpos\u001b[0m\u001b[0;34m,\u001b[0m \u001b[0mbatch\u001b[0m\u001b[0;34m.\u001b[0m\u001b[0mbatch\u001b[0m\u001b[0;34m,\u001b[0m \u001b[0mdim\u001b[0m\u001b[0;34m=\u001b[0m\u001b[0;36m0\u001b[0m\u001b[0;34m,\u001b[0m \u001b[0mreduce\u001b[0m\u001b[0;34m=\u001b[0m\u001b[0;34m'mean'\u001b[0m\u001b[0;34m)\u001b[0m\u001b[0;34m\u001b[0m\u001b[0;34m\u001b[0m\u001b[0m\n\u001b[0m\u001b[1;32m     34\u001b[0m         \u001b[0mcentered_pos\u001b[0m \u001b[0;34m=\u001b[0m \u001b[0mpos\u001b[0m \u001b[0;34m-\u001b[0m \u001b[0mcenter\u001b[0m\u001b[0;34m[\u001b[0m\u001b[0mbatch\u001b[0m\u001b[0;34m.\u001b[0m\u001b[0mbatch\u001b[0m\u001b[0;34m]\u001b[0m\u001b[0;34m\u001b[0m\u001b[0;34m\u001b[0m\u001b[0m\n\u001b[1;32m     35\u001b[0m         \u001b[0;32mif\u001b[0m \u001b[0mself\u001b[0m\u001b[0;34m.\u001b[0m\u001b[0mreturn_center\u001b[0m\u001b[0;34m:\u001b[0m\u001b[0;34m\u001b[0m\u001b[0;34m\u001b[0m\u001b[0m\n",
      "\u001b[0;32m~/.conda/envs/deepgd/lib/python3.9/site-packages/torch_scatter/scatter.py\u001b[0m in \u001b[0;36mscatter\u001b[0;34m(src, index, dim, out, dim_size, reduce)\u001b[0m\n\u001b[1;32m    155\u001b[0m         \u001b[0;32mreturn\u001b[0m \u001b[0mscatter_mul\u001b[0m\u001b[0;34m(\u001b[0m\u001b[0msrc\u001b[0m\u001b[0;34m,\u001b[0m \u001b[0mindex\u001b[0m\u001b[0;34m,\u001b[0m \u001b[0mdim\u001b[0m\u001b[0;34m,\u001b[0m \u001b[0mout\u001b[0m\u001b[0;34m,\u001b[0m \u001b[0mdim_size\u001b[0m\u001b[0;34m)\u001b[0m\u001b[0;34m\u001b[0m\u001b[0;34m\u001b[0m\u001b[0m\n\u001b[1;32m    156\u001b[0m     \u001b[0;32melif\u001b[0m \u001b[0mreduce\u001b[0m \u001b[0;34m==\u001b[0m \u001b[0;34m'mean'\u001b[0m\u001b[0;34m:\u001b[0m\u001b[0;34m\u001b[0m\u001b[0;34m\u001b[0m\u001b[0m\n\u001b[0;32m--> 157\u001b[0;31m         \u001b[0;32mreturn\u001b[0m \u001b[0mscatter_mean\u001b[0m\u001b[0;34m(\u001b[0m\u001b[0msrc\u001b[0m\u001b[0;34m,\u001b[0m \u001b[0mindex\u001b[0m\u001b[0;34m,\u001b[0m \u001b[0mdim\u001b[0m\u001b[0;34m,\u001b[0m \u001b[0mout\u001b[0m\u001b[0;34m,\u001b[0m \u001b[0mdim_size\u001b[0m\u001b[0;34m)\u001b[0m\u001b[0;34m\u001b[0m\u001b[0;34m\u001b[0m\u001b[0m\n\u001b[0m\u001b[1;32m    158\u001b[0m     \u001b[0;32melif\u001b[0m \u001b[0mreduce\u001b[0m \u001b[0;34m==\u001b[0m \u001b[0;34m'min'\u001b[0m\u001b[0;34m:\u001b[0m\u001b[0;34m\u001b[0m\u001b[0;34m\u001b[0m\u001b[0m\n\u001b[1;32m    159\u001b[0m         \u001b[0;32mreturn\u001b[0m \u001b[0mscatter_min\u001b[0m\u001b[0;34m(\u001b[0m\u001b[0msrc\u001b[0m\u001b[0;34m,\u001b[0m \u001b[0mindex\u001b[0m\u001b[0;34m,\u001b[0m \u001b[0mdim\u001b[0m\u001b[0;34m,\u001b[0m \u001b[0mout\u001b[0m\u001b[0;34m,\u001b[0m \u001b[0mdim_size\u001b[0m\u001b[0;34m)\u001b[0m\u001b[0;34m[\u001b[0m\u001b[0;36m0\u001b[0m\u001b[0;34m]\u001b[0m\u001b[0;34m\u001b[0m\u001b[0;34m\u001b[0m\u001b[0m\n",
      "\u001b[0;32m~/.conda/envs/deepgd/lib/python3.9/site-packages/torch_scatter/scatter.py\u001b[0m in \u001b[0;36mscatter_mean\u001b[0;34m(src, index, dim, out, dim_size)\u001b[0m\n\u001b[1;32m     52\u001b[0m     \u001b[0mcount\u001b[0m \u001b[0;34m=\u001b[0m \u001b[0mscatter_sum\u001b[0m\u001b[0;34m(\u001b[0m\u001b[0mones\u001b[0m\u001b[0;34m,\u001b[0m \u001b[0mindex\u001b[0m\u001b[0;34m,\u001b[0m \u001b[0mindex_dim\u001b[0m\u001b[0;34m,\u001b[0m \u001b[0;32mNone\u001b[0m\u001b[0;34m,\u001b[0m \u001b[0mdim_size\u001b[0m\u001b[0;34m)\u001b[0m\u001b[0;34m\u001b[0m\u001b[0;34m\u001b[0m\u001b[0m\n\u001b[1;32m     53\u001b[0m     \u001b[0mcount\u001b[0m\u001b[0;34m[\u001b[0m\u001b[0mcount\u001b[0m \u001b[0;34m<\u001b[0m \u001b[0;36m1\u001b[0m\u001b[0;34m]\u001b[0m \u001b[0;34m=\u001b[0m \u001b[0;36m1\u001b[0m\u001b[0;34m\u001b[0m\u001b[0;34m\u001b[0m\u001b[0m\n\u001b[0;32m---> 54\u001b[0;31m     \u001b[0mcount\u001b[0m \u001b[0;34m=\u001b[0m \u001b[0mbroadcast\u001b[0m\u001b[0;34m(\u001b[0m\u001b[0mcount\u001b[0m\u001b[0;34m,\u001b[0m \u001b[0mout\u001b[0m\u001b[0;34m,\u001b[0m \u001b[0mdim\u001b[0m\u001b[0;34m)\u001b[0m\u001b[0;34m\u001b[0m\u001b[0;34m\u001b[0m\u001b[0m\n\u001b[0m\u001b[1;32m     55\u001b[0m     \u001b[0;32mif\u001b[0m \u001b[0mout\u001b[0m\u001b[0;34m.\u001b[0m\u001b[0mis_floating_point\u001b[0m\u001b[0;34m(\u001b[0m\u001b[0;34m)\u001b[0m\u001b[0;34m:\u001b[0m\u001b[0;34m\u001b[0m\u001b[0;34m\u001b[0m\u001b[0m\n\u001b[1;32m     56\u001b[0m         \u001b[0mout\u001b[0m\u001b[0;34m.\u001b[0m\u001b[0mtrue_divide_\u001b[0m\u001b[0;34m(\u001b[0m\u001b[0mcount\u001b[0m\u001b[0;34m)\u001b[0m\u001b[0;34m\u001b[0m\u001b[0;34m\u001b[0m\u001b[0m\n",
      "\u001b[0;32m~/.conda/envs/deepgd/lib/python3.9/site-packages/torch_scatter/utils.py\u001b[0m in \u001b[0;36mbroadcast\u001b[0;34m(src, other, dim)\u001b[0m\n\u001b[1;32m      5\u001b[0m     \u001b[0;32mif\u001b[0m \u001b[0mdim\u001b[0m \u001b[0;34m<\u001b[0m \u001b[0;36m0\u001b[0m\u001b[0;34m:\u001b[0m\u001b[0;34m\u001b[0m\u001b[0;34m\u001b[0m\u001b[0m\n\u001b[1;32m      6\u001b[0m         \u001b[0mdim\u001b[0m \u001b[0;34m=\u001b[0m \u001b[0mother\u001b[0m\u001b[0;34m.\u001b[0m\u001b[0mdim\u001b[0m\u001b[0;34m(\u001b[0m\u001b[0;34m)\u001b[0m \u001b[0;34m+\u001b[0m \u001b[0mdim\u001b[0m\u001b[0;34m\u001b[0m\u001b[0;34m\u001b[0m\u001b[0m\n\u001b[0;32m----> 7\u001b[0;31m     \u001b[0;32mif\u001b[0m \u001b[0msrc\u001b[0m\u001b[0;34m.\u001b[0m\u001b[0mdim\u001b[0m\u001b[0;34m(\u001b[0m\u001b[0;34m)\u001b[0m \u001b[0;34m==\u001b[0m \u001b[0;36m1\u001b[0m\u001b[0;34m:\u001b[0m\u001b[0;34m\u001b[0m\u001b[0;34m\u001b[0m\u001b[0m\n\u001b[0m\u001b[1;32m      8\u001b[0m         \u001b[0;32mfor\u001b[0m \u001b[0m_\u001b[0m \u001b[0;32min\u001b[0m \u001b[0mrange\u001b[0m\u001b[0;34m(\u001b[0m\u001b[0;36m0\u001b[0m\u001b[0;34m,\u001b[0m \u001b[0mdim\u001b[0m\u001b[0;34m)\u001b[0m\u001b[0;34m:\u001b[0m\u001b[0;34m\u001b[0m\u001b[0;34m\u001b[0m\u001b[0m\n\u001b[1;32m      9\u001b[0m             \u001b[0msrc\u001b[0m \u001b[0;34m=\u001b[0m \u001b[0msrc\u001b[0m\u001b[0;34m.\u001b[0m\u001b[0munsqueeze\u001b[0m\u001b[0;34m(\u001b[0m\u001b[0;36m0\u001b[0m\u001b[0;34m)\u001b[0m\u001b[0;34m\u001b[0m\u001b[0;34m\u001b[0m\u001b[0m\n",
      "\u001b[0;31mKeyboardInterrupt\u001b[0m: "
     ]
    }
   ],
   "source": [
    "def train_dis(batch, epoch):\n",
    "    generator.requires_grad_(False)\n",
    "    discriminator.zero_grad()\n",
    "    generator_output = generator(batch)\n",
    "    if config.discriminator.noise.std > 0:\n",
    "        generator_output = generator_output + torch.randn_like(generator_output) * config.discriminator.noise.std * config.discriminator.noise.decay ** epoch\n",
    "    discriminator_loss = get_gan_loss(batch, generator_output, mode='discriminator')\n",
    "    \n",
    "    # train discriminator\n",
    "    discriminator_loss.backward()\n",
    "    discriminator_optimizer.step()\n",
    "\n",
    "    # gradient penalty\n",
    "    if config.gp_weight > 0:\n",
    "        discriminator.zero_grad()\n",
    "        gp_loss = get_gp_loss(batch, generator_output, config.gp_weight)\n",
    "        gp_loss.backward()\n",
    "        discriminator_optimizer.step()\n",
    "\n",
    "    hud['dis_loss'] = format(discriminator_loss.item(), '.2e')\n",
    "    pbar().update()\n",
    "\n",
    "def train_gen(batch, epoch):\n",
    "    generator.requires_grad_(True)\n",
    "    generator.zero_grad()\n",
    "    discriminator.zero_grad()\n",
    "    generator_output = generator(batch)\n",
    "    if config.discriminator.noise.std > 0:\n",
    "        generator_output = generator_output + torch.randn_like(generator_output) * config.discriminator.noise.std * config.discriminator.noise.decay ** epoch\n",
    "    generator_loss = get_gan_loss(batch, generator_output, mode='generator') \n",
    "    \n",
    "    #train generator\n",
    "    generator_loss.backward()\n",
    "    generator_optimizer.step()\n",
    "\n",
    "    with torch.no_grad():\n",
    "        dis_batch = dis_convert(batch, generator_output)\n",
    "        stress = stress_criterion(dis_batch).mean()\n",
    "        critic = discriminator(dis_batch).mean()\n",
    "    hud.append({'gen_loss': format(generator_loss.item(), '.2e'),\n",
    "                'stress': format(stress.item(), '.2e'),\n",
    "                'critic': format(critic.item(), '.2e')})\n",
    "    pbar().update()\n",
    "\n",
    "def cuda_memsafe_map(fn, *iterables, summary=False):\n",
    "    total, failed = 0, 0\n",
    "    iterator = zip(*iterables)\n",
    "    items = None\n",
    "    while True:\n",
    "        try:\n",
    "            items = next(iterator)\n",
    "            yield fn(*items)\n",
    "        except StopIteration:\n",
    "            if summary:\n",
    "                print(f'Iteration finished. {failed} out of {total} failed!')\n",
    "            break\n",
    "        except RuntimeError:\n",
    "            print('CUDA memory overflow! Skip batch...')\n",
    "            del items\n",
    "            failed += 1\n",
    "        torch.cuda.empty_cache()\n",
    "        total += 1\n",
    "    \n",
    "def validate(model, data_loader, criterion=val_criterion):\n",
    "    def val_one_batch(batch):\n",
    "        batch = preprocess_batch(model, batch)\n",
    "        pred = CanonicalizationByStress()(model(batch), batch)\n",
    "        gt = CanonicalizationByStress()(batch.gt_pos, batch)\n",
    "        loss = criterion(pred, batch)\n",
    "        gt_loss = criterion(gt, batch)\n",
    "        spc = (loss - gt_loss) / torch.maximum(torch.maximum(loss, gt_loss), torch.ones_like(loss)*1e-5)\n",
    "        return loss.mean().item(), spc.mean().item()\n",
    "    loss_all, spc_all = zip(*cuda_memsafe_map(val_one_batch, data_loader))\n",
    "    return np.mean(loss_all), np.mean(spc_all)\n",
    "\n",
    "def log(msg):\n",
    "    msg = f\"[{epoch:03}] {msg}\"\n",
    "    print(msg, file=open(paths.log(), \"a\"))\n",
    "    with log_out: \n",
    "        print(msg)\n",
    "\n",
    "print(f\"{'='*10} {config.link} {'='*10}\", file=open(paths.log(), \"a\"))\n",
    "hud = Hud()\n",
    "pbar = Wrapper(tqdm, total=len(train_loader)*2, smoothing=0)\n",
    "plot_out = Output()\n",
    "log_out = Output()\n",
    "tabs = {\"status\": VBox([pbar, hud]), \n",
    "        \"plot\": HBox([plot_out], layout=Layout(height='500px', overflow_y='auto')),\n",
    "        \"log\": HBox([log_out], layout=Layout(height='500px', overflow_y='auto'))}\n",
    "tab_bar = Tab(children=list(tabs.values()))\n",
    "[tab_bar.set_title(i, name) for i, name in enumerate(tabs)]\n",
    "display(tab_bar)\n",
    "while True:\n",
    "    if epoch % config.log_interval == 0:\n",
    "        torch.save(generator.state_dict(), f\"{paths.checkpoints()}/gen_epoch_{epoch}.pt\")\n",
    "        torch.save(generator_optimizer.state_dict(), f\"{paths.checkpoints()}/gen_optim_epoch_{epoch}.pt\")\n",
    "        torch.save(discriminator.state_dict(), f\"{paths.checkpoints()}/dis_epoch_{epoch}.pt\")\n",
    "        torch.save(discriminator_optimizer.state_dict(), f\"{paths.checkpoints()}/dis_optim_epoch_{epoch}.pt\")\n",
    "        generator.eval()\n",
    "        with torch.no_grad():\n",
    "            val_stress, val_stress_spc = validate(model=generator, data_loader=val_loader)\n",
    "            val_xing, val_xing_spc = validate(model=generator, data_loader=val_loader, criterion=xing_criterion)\n",
    "            with plot_out:\n",
    "                fig = plt.figure()\n",
    "                graph_vis(G_list[11100], generator(make_batch(data_list[11100]).to(device)).cpu())\n",
    "                plt.show()\n",
    "        # tensorboard.add_scalars('loss', {'train': train_loss, \n",
    "        #                                  'validation': val_loss}, epoch)\n",
    "        # for i, fn in enumerate(loss_fns):\n",
    "        #     tensorboard.add_scalars(type(fn).__name__, {'train': train_loss_comp[i].item(), \n",
    "        #                                           'validation': val_loss_comp[i].item()}, epoch)\n",
    "        hud.append({\n",
    "            'val_stress': format(val_stress, '.2f'),\n",
    "            'val_stress_spc': format(val_stress_spc, '.2%'),\n",
    "            'val_xing': format(val_xing, '.2f'),\n",
    "            'val_xing_spc': format(val_xing_spc, '.2%'),\n",
    "        })\n",
    "        log(f\"stress={hud.data['val_stress']}({hud.data['val_stress_spc']}) xing={hud.data['val_xing']}({hud.data['val_xing_spc']})\")\n",
    "        \n",
    "    # handle.update(tab_bar)\n",
    "    pbar().reset()\n",
    "    pbar().set_description(desc=f\"[epoch {epoch}/{config.epoch.end}]\")\n",
    "    hud(title=f\"epoch {epoch}\")\n",
    "    generator.train()\n",
    "    discriminator.train()\n",
    "    # proper: proper layout\n",
    "    for _ in range(config.discriminator.repeat):\n",
    "        for batch in train_loader:\n",
    "            train_dis(batch, epoch)\n",
    "            if config.alternate == 'iteration':\n",
    "                train_gen(batch, epoch)\n",
    "\n",
    "    if config.alternate == 'epoch':\n",
    "        for batch in train_loader:\n",
    "            train_gen(batch, epoch)\n",
    "\n",
    "    discriminator_scheduler.step()\n",
    "    generator_scheduler.step()\n",
    "\n",
    "    if epoch == config.epoch.end:\n",
    "        break\n",
    "    epoch += 1"
   ]
  },
  {
   "cell_type": "markdown",
   "metadata": {
    "id": "0qYK_X_hrq9o"
   },
   "source": [
    "# Test"
   ]
  },
  {
   "cell_type": "code",
   "execution_count": 33,
   "metadata": {
    "colab": {
     "base_uri": "https://localhost:8080/"
    },
    "id": "XEvmAtNjWhcY",
    "outputId": "9f4c86a4-a4b0-48f1-cb58-ab3679173184"
   },
   "outputs": [
    {
     "name": "stdout",
     "output_type": "stream",
     "text": [
      "Loading from artifacts/checkpoints/GAN(gan=ragan,data=best(xing,stress),dis=deep,share=8,embed=8,gp=0)/gen_epoch_1092.pt...\n"
     ]
    },
    {
     "data": {
      "text/plain": [
       "<All keys matched successfully>"
      ]
     },
     "execution_count": 33,
     "metadata": {},
     "output_type": "execute_result"
    }
   ],
   "source": [
    "test_epoch = -1\n",
    "\n",
    "test_generator = Generator(**config.generator.params[...]).to(device)\n",
    "test_ckpt_epoch = get_ckpt_epoch(paths.checkpoints(), test_epoch)\n",
    "test_ckpt_file = f\"{paths.checkpoints()}/gen_epoch_{test_ckpt_epoch}.pt\"\n",
    "print(f\"Loading from {test_ckpt_file}...\")\n",
    "test_generator.load_state_dict(torch.load(test_ckpt_file, map_location=torch.device(device)))"
   ]
  },
  {
   "cell_type": "code",
   "execution_count": 34,
   "metadata": {
    "colab": {
     "background_save": true,
     "base_uri": "https://localhost:8080/",
     "height": 1000,
     "referenced_widgets": [
      "9b7d18992dbf4a84931f916fbaaa37d8",
      "2c664d7e1e6d474fb87094fc0da270d3",
      "d375f5f82a4645d7b29c541596dc1c7f",
      "ecfa311bb06b4f6fa504598263ff69d3",
      "d1859990877149eab2b414b4e2a0e0c7",
      "d2be6733734844bca3e1db9b49eb1c1e",
      "4d98072bdf674792a13d77e85dd285d1",
      "f7ed92c383d741a0a1cef2536ff2db13",
      "2ba110f835c64ec4b82974996aed10af",
      "09397ceac9014af0aebca848d4d96d48",
      "fd0709f48d6c4527bc00b5f407f3c1b9"
     ]
    },
    "id": "ZubmSTcYrq9o",
    "outputId": "fc2f65a2-2085-43ac-b110-cbfe742318a8",
    "scrolled": true,
    "tags": []
   },
   "outputs": [
    {
     "data": {
      "application/vnd.jupyter.widget-view+json": {
       "model_id": "051d10e1fe4d4f5da7dba9ad23b6b10d",
       "version_major": 2,
       "version_minor": 0
      },
      "text/plain": [
       "  0%|          | 0/1000 [00:00<?, ?it/s]"
      ]
     },
     "metadata": {},
     "output_type": "display_data"
    }
   ],
   "source": [
    "rotate = RotateByPrincipalComponents()\n",
    "def test_callback(*, idx, pred, metrics):\n",
    "    # graph_vis(G_list[idx], pred, file_name=f\"{paths.visualization()}/{idx}_{metrics['stress']:.2f}_{metrics['resolution_score']:.2f}.png\")\n",
    "    pred = rotate(torch.tensor(pred), data_list[idx])\n",
    "    graph_vis(G_list[idx], pred)\n",
    "    plt.title(f\"[pred] idx: {idx}, stress: {metrics['stress']:.2f}({metrics['stress_spc']:.2%}), xing: {metrics['xing']:.2f}({metrics['xing_spc']:.2%})\")\n",
    "    plt.show()\n",
    "    gt_pos = rotate(data_list[idx].gt_pos, data_list[idx])\n",
    "    graph_vis(G_list[idx], gt_pos, node_color='orange')\n",
    "    plt.title(f\"[gt] idx: {idx}, stress: {metrics['gt_stress']:.2f}, xing: {metrics['gt_xing']:.2f}\")\n",
    "    plt.show()\n",
    "    \n",
    "test_metrics = test(model=test_generator, \n",
    "                    criteria_list=[], \n",
    "                    dataset=data_list, \n",
    "                    idx_range=range(10000, 11000), \n",
    "#                     callback=test_callback,\n",
    "                    gt_pos=None)\n",
    "pickle.dump(test_metrics, open(paths.metrics(\"test\"), \"wb\"))"
   ]
  },
  {
   "cell_type": "code",
   "execution_count": 35,
   "metadata": {
    "colab": {
     "base_uri": "https://localhost:8080/",
     "height": 318
    },
    "id": "t2rFXIr_PsrJ",
    "outputId": "6a4205b1-4630-4de4-ec72-bdba3d3ea114"
   },
   "outputs": [
    {
     "name": "stdout",
     "output_type": "stream",
     "text": [
      "stress: tensor(337.3053)\n",
      "stress_spc: tensor(0.1398, dtype=torch.float64)\n",
      "xing: tensor(26.9210)\n",
      "xing_spc: tensor(0.2044, dtype=torch.float64)\n",
      "l1_angle: tensor(79.8992)\n",
      "l1_angle_spc: tensor(0.0678, dtype=torch.float64)\n",
      "edge: tensor(0.2163)\n",
      "edge_spc: tensor(0.2676, dtype=torch.float64)\n",
      "ring: tensor(256.4998)\n",
      "ring_spc: tensor(0.0379, dtype=torch.float64)\n",
      "tsne: tensor(0.2082)\n",
      "tsne_spc: tensor(0.1106, dtype=torch.float64)\n",
      "reso_score: tensor(0.5917)\n",
      "min_angle: tensor(4.1028)\n"
     ]
    },
    {
     "data": {
      "text/html": [
       "<style type=\"text/css\">\n",
       "</style>\n",
       "<table id=\"T_4045b_\">\n",
       "  <thead>\n",
       "    <tr>\n",
       "      <th class=\"blank level0\" >&nbsp;</th>\n",
       "      <th class=\"col_heading level0 col0\" >stress</th>\n",
       "      <th class=\"col_heading level0 col1\" >stress_spc</th>\n",
       "      <th class=\"col_heading level0 col2\" >xing</th>\n",
       "      <th class=\"col_heading level0 col3\" >xing_spc</th>\n",
       "      <th class=\"col_heading level0 col4\" >l1_angle</th>\n",
       "      <th class=\"col_heading level0 col5\" >l1_angle_spc</th>\n",
       "      <th class=\"col_heading level0 col6\" >edge</th>\n",
       "      <th class=\"col_heading level0 col7\" >edge_spc</th>\n",
       "      <th class=\"col_heading level0 col8\" >ring</th>\n",
       "      <th class=\"col_heading level0 col9\" >ring_spc</th>\n",
       "      <th class=\"col_heading level0 col10\" >tsne</th>\n",
       "      <th class=\"col_heading level0 col11\" >tsne_spc</th>\n",
       "      <th class=\"col_heading level0 col12\" >reso_score</th>\n",
       "      <th class=\"col_heading level0 col13\" >min_angle</th>\n",
       "    </tr>\n",
       "  </thead>\n",
       "  <tbody>\n",
       "    <tr>\n",
       "      <th id=\"T_4045b_level0_row0\" class=\"row_heading level0 row0\" >0</th>\n",
       "      <td id=\"T_4045b_row0_col0\" class=\"data row0 col0\" >337.31</td>\n",
       "      <td id=\"T_4045b_row0_col1\" class=\"data row0 col1\" >13.98%</td>\n",
       "      <td id=\"T_4045b_row0_col2\" class=\"data row0 col2\" >26.92</td>\n",
       "      <td id=\"T_4045b_row0_col3\" class=\"data row0 col3\" >20.44%</td>\n",
       "      <td id=\"T_4045b_row0_col4\" class=\"data row0 col4\" >79.90</td>\n",
       "      <td id=\"T_4045b_row0_col5\" class=\"data row0 col5\" >6.78%</td>\n",
       "      <td id=\"T_4045b_row0_col6\" class=\"data row0 col6\" >0.22</td>\n",
       "      <td id=\"T_4045b_row0_col7\" class=\"data row0 col7\" >26.76%</td>\n",
       "      <td id=\"T_4045b_row0_col8\" class=\"data row0 col8\" >256.50</td>\n",
       "      <td id=\"T_4045b_row0_col9\" class=\"data row0 col9\" >3.79%</td>\n",
       "      <td id=\"T_4045b_row0_col10\" class=\"data row0 col10\" >0.21</td>\n",
       "      <td id=\"T_4045b_row0_col11\" class=\"data row0 col11\" >11.06%</td>\n",
       "      <td id=\"T_4045b_row0_col12\" class=\"data row0 col12\" >0.59</td>\n",
       "      <td id=\"T_4045b_row0_col13\" class=\"data row0 col13\" >4.10</td>\n",
       "    </tr>\n",
       "  </tbody>\n",
       "</table>\n"
      ],
      "text/plain": [
       "<pandas.io.formats.style.Styler at 0x2b3263c56880>"
      ]
     },
     "execution_count": 35,
     "metadata": {},
     "output_type": "execute_result"
    }
   ],
   "source": [
    "metrics = test_metrics\n",
    "print('stress:', metrics['stress'].mean())\n",
    "print('stress_spc:', metrics['stress_spc'].mean())\n",
    "print('xing:', metrics['xing'].mean())\n",
    "print('xing_spc:', metrics['xing_spc'].mean())\n",
    "print('l1_angle:', metrics['l1_angle'].mean())\n",
    "print('l1_angle_spc:', metrics['l1_angle_spc'].mean())\n",
    "print('edge:', metrics['edge'].mean())\n",
    "print('edge_spc:', metrics['edge_spc'].mean())\n",
    "print('ring:', metrics['ring'].mean())\n",
    "print('ring_spc:', metrics['ring_spc'].mean())\n",
    "print('tsne:', metrics['tsne'].mean())\n",
    "print('tsne_spc:', metrics['tsne_spc'].mean())\n",
    "print('reso_score:', metrics['resolution_score'].mean())\n",
    "print('min_angle:', metrics['min_angle'].mean())\n",
    "columns = [\n",
    "    'stress',\n",
    "    'stress_spc',\n",
    "    'xing',\n",
    "    'xing_spc',\n",
    "    'l1_angle',\n",
    "    'l1_angle_spc',\n",
    "    'edge',\n",
    "    'edge_spc',\n",
    "    'ring',\n",
    "    'ring_spc',\n",
    "    'tsne',\n",
    "    'tsne_spc',\n",
    "    'reso_score',\n",
    "    'min_angle'\n",
    "]\n",
    "df = pd.DataFrame(map(lambda m: metrics[m].mean().item(), list(metrics.keys())[:-1])).set_axis(columns).T\n",
    "df.style.format({c: \"{:.2f}\" for c in columns if 'spc' not in c} | {c: \"{:.2%}\" for c in columns if 'spc' in c})"
   ]
  },
  {
   "cell_type": "code",
   "execution_count": 36,
   "metadata": {
    "id": "5e7vPr0M3mmG"
   },
   "outputs": [],
   "source": [
    "metrics = {}"
   ]
  },
  {
   "cell_type": "code",
   "execution_count": 37,
   "metadata": {},
   "outputs": [],
   "source": [
    "methods = ['fa2']"
   ]
  },
  {
   "cell_type": "code",
   "execution_count": 38,
   "metadata": {
    "colab": {
     "base_uri": "https://localhost:8080/",
     "height": 433,
     "referenced_widgets": [
      "a0cf6e046add4e639e52db69656e0db9",
      "8e237731bb1241ac858581b25389c012",
      "0891547293ad4211a138a4d92e01bb0b",
      "34912c8e581e47a99a1c4829c38cb75c",
      "5aa034c99c94424e835a2ee954b829ed",
      "248f6393eff74c3eb8740ca6d698045b",
      "686687a29c7f4ec98c4d76ca2062b14b",
      "996a84d1c23b47e4a2af252c6b60f55d",
      "3507f883bb954412b21c1c5641763ed7",
      "9582a849d91e457cadd514c95d6e1b5b",
      "52bfe674c2c547e09b7400a32a96f703",
      "93d58b3a12394fe1aa6f0431fc7cb0db",
      "af1d7855c9d646b0bcc7d95c4cb147a6",
      "f820e2b898cd461da04a4f651d27273d",
      "c0a112cfaa3d4d0aa9530372de84d8fb",
      "fd03985495694fbf9feb3f31ef8d18ce",
      "e02a2b36aa4c4d6fb5d2ac6693c1a927",
      "06f388ff5e3a48828d465096fe69977b",
      "c0052778c9c940e88935593e9f94b83b",
      "99a5e77a192d4a989c4534237eb16730",
      "77c6da092a6647fc9e54f7e276d75616",
      "8c13c0e8b5934117a662a78296bcb1b6",
      "cdcc3bd4235247b48c468c0f6b7682cc",
      "a2c6fa6fef4549cc853fa93b4b18cf95",
      "15cc02a756314083801b5f6798a1948c",
      "24d1c67fe52f452ab0c767e3c1a818aa",
      "c117db25c6fd484a9d0c7f210ccb1ade",
      "b090b60b61084cf692b3066dfac7f0a8",
      "5eab9848059c491b9c6cbac88683f025",
      "e87ffbaa1f204b52b9226337a506b040",
      "cf52198a9e4b46c7b49537a79919c09e",
      "51501227bc064ccbab97c22a679a0750",
      "d1b794a997dc457888a90bf44faee9b4",
      "21a755b50e5047bea797eccf24b35a0c",
      "16e78c3823ec4faf9f9cd9095b218ff5",
      "4ccd332c6b734acd8eff236eaf568dfa",
      "bd60fd13748347e48629df78fa455765",
      "e9187e4ba80b4fafa0334dae2e39aded",
      "4c39ec7c92b4402e8eedcb27beabaab1",
      "59a8194269f943bba571f710ad856973",
      "8e41bc25b9f348b1b85b381547cd60d1",
      "34d0f1529e64437fb25e639b41096072",
      "7e832c7543df43668eb72c0aa6356349",
      "f94162c9c5fe4c2581e3b80beaeb820b",
      "0284946fccf34607b25e1d6d81d4f72a",
      "8e8d4243a3624ba58d760bdf601d5126",
      "b1f0932594fe44f4be4beb8880172871",
      "820bb554d139437b8f6a6997f9002261",
      "459e375d1fe4497cb4197ef88e303c6d",
      "5726814966da46bbba942a114de4b319",
      "448beea5445f4642809801da46aa7e7c",
      "3746c0f0daf04f51805b4c95db20063a",
      "2ff74d1c705348438a32da37910c3300",
      "52f03147b5ab4cb390f9802b7a17a508",
      "5428511d652a47348203e8f3cd2e076d",
      "7b58569bee2e44c5a61a81f9a32c4c01",
      "c5e05d74b9404333a8155304e3497ba2",
      "3ad4e058bde44d87abab780368d49118",
      "8e437049b5c74ff1beddad93e30b19aa",
      "0c61377f4cc34b27ae34bdd6d976d868",
      "9ce35f9a9a23436ea77604513b5c4659",
      "dafbc43ad79c4feda093aefe490fc4b3",
      "497160b6bf80469a89680a03a468c8bb",
      "3265725ecb914981b6f07f68b8a582df",
      "1f0ac20d99d04ffb9ee75613526d3de6",
      "dee0e5716560483b8e2b107566439d94",
      "ca99841a1abd4fbd94927c49aaa711cb",
      "163a44ff1be04583ae7bd62726c55204",
      "f3b727045a0b4b4fabd147ec9c843e14",
      "7c4b4fe859cf48ab99b7e2780a24a539",
      "d9700cffab66480cb81e3722faab4e8b",
      "2c49acc1e0a64aa4b8ec461b0596848e",
      "691817157f43412f9c36002167606b75",
      "d0ae688d71734b56bb348de54e841798",
      "07a364ebcdaa491dbcc2304e4a8dae96",
      "538b277307b1449eaa79a2a91b4741d3",
      "f7b7dd4cbaa5468687b988c5e416a154",
      "877be862a4f045ec8b221097626becb5",
      "1bf37012df0844338ac689d4f6cc8eab",
      "33fe06641be544d3aab2c25cb979416f",
      "68de0d9261fa4e6999967b6f196d149c",
      "7017c5ba1ffc467495aca2689e516f7d",
      "e0997460cc21428695a0c278c6691baf",
      "522443bef4904996b6361ea265c4c56f",
      "dfe044b67917466f971ba84a11956d5e",
      "70b2d0ba1c1d4102841fb963480de1c7",
      "7b158daacd754a40bc0a48fc9ea6fea2",
      "8904f61ff30741e488eacf0e49440f66",
      "685dee6f1e1f4c2983d2d0b8eb90ed00",
      "005155a4d62d48cbbaf3d69614b08d81",
      "d2779dfa620041e4b32a7731926a5982",
      "53048bf27cb24080b4cdf20379302223",
      "0b5bff7794a14a20964da70b87158c2c",
      "ec664e55ea16435590393ae1617cccea",
      "f10d62ef464a45a7935610d869c282e3",
      "5e7c09bc35db4a3a8b9847c6d8478883",
      "987ea331b617446facc81b08bab1f8c4",
      "446c5a687b0d43358ab036d43ce281c3",
      "d89e216f62ae4a9999da1a91dd5e48b9",
      "09d03e7e66f54cafacefbfeda5fd6e5c",
      "d58c680562a44bbd9252e7ec6eebc06c",
      "71ea2594fdd942acac1cc61055438544",
      "fecda4df301b437f9fbfb61a7b593dc0",
      "bcf6741d926248cb92acf627d6557d2b",
      "5bd9868b9bda4f68b500a43916e2d148",
      "4bc5e02035de44ad827c4f881fd75afc",
      "7d80033a955e4feb947ca9cea931d90b",
      "e975c796d80d498992a50f87a2b0105c",
      "028b2ff105904a19a9a3e8ebf66967bb",
      "10dbf2cbdb1943eda6a0acaf5da3fe85",
      "14d59c7acc5e4e07a289db44406a4851",
      "d9447df93d714907bc9c768eb4910352",
      "d4a9ace081bf488680a7e43e0eaed71d",
      "022a60cde19546bfa6ecfb4947615ad9",
      "10c01207d9ba4fe197dc80717fceecc0",
      "f4995936570d4ba1a65e9a66e410b505",
      "b4bf66303e61491385cd616076a11c04",
      "a24ab2bfe7a44263bf60936d6e53ec32",
      "59e2e8ecc9f84d57af7bf44f5bba5df7",
      "be2eb92aab8045a99fd19195c3546b60",
      "e6715db2b048434796e910952cb5eb62",
      "8de2335007ba4a6b9935fa0c514c9f6a",
      "493a4bbe8057437a8c8acf4d03f8dcb0",
      "20b03955acc74e238695717124705520",
      "a89f9507496b4cf8bdd63bdb9bff79c4",
      "9752a1f6c8b6488d9628b8e0c023f10f",
      "61a0bebc687341a7bb3352febc8d4986",
      "07e0ff9c82a444788c60edee70688ca7",
      "4427901f35e54cc48e08527bb402c22a",
      "bd9dafb825954091ba975d71ab8c89ea",
      "7ec0f07bfe51484da38c18dc66d77804",
      "03943afebc4d4b668b54c7a0fd014a37",
      "a7a6b38a76424d738146b6a5786cf2c8",
      "1d1aa4729784470584c0001c1a296008",
      "e0c68ac9b5b442eeb77e6d9ea3c1da42",
      "c858ef9fd9324ab0ab885d85e3c8582f",
      "627bc2899c994a0c96c5d43e89dc77ff",
      "0e2c2f21fa8041038151170992ecb848",
      "2d9bcbf7629a4671bf8755e790276eb7",
      "77a4edf6ab1848a6a6df20c1c07358c6",
      "acf2212d6bb44c729b63281a98377095",
      "0c7a72818da3454190bab7f30a29e249",
      "d865af915b8b4aaa8cec8d40f1f8351d"
     ]
    },
    "id": "s1UnzfID4Ai6",
    "outputId": "3e204e76-68fd-4111-f527-91f6e3b7a3ca"
   },
   "outputs": [
    {
     "data": {
      "application/vnd.jupyter.widget-view+json": {
       "model_id": "c1c46aa8e8204c6aa8b839b785129eae",
       "version_major": 2,
       "version_minor": 0
      },
      "text/plain": [
       "  0%|          | 0/1000 [00:00<?, ?it/s]"
      ]
     },
     "metadata": {},
     "output_type": "display_data"
    }
   ],
   "source": [
    "for m in methods:\n",
    "    metrics[m] = test(model=test_generator, \n",
    "                      criteria_list=[], \n",
    "                      dataset=data_list, \n",
    "                      idx_range=range(10000, 11000), \n",
    "                      callback=None,\n",
    "                      gt_pos=load_pos(m))"
   ]
  },
  {
   "cell_type": "code",
   "execution_count": 39,
   "metadata": {
    "id": "dQ7hdCtk5u6K"
   },
   "outputs": [],
   "source": [
    "mean_metrics = {key : list(map(lambda m: metrics[key][m].mean().item(), list(metrics[key].keys())[:-1])) for key in metrics}"
   ]
  },
  {
   "cell_type": "code",
   "execution_count": 40,
   "metadata": {
    "colab": {
     "base_uri": "https://localhost:8080/",
     "height": 313
    },
    "id": "OGyaCmLXTuvA",
    "outputId": "6c42d9f3-9869-4504-bc9c-d0eedaecfd90"
   },
   "outputs": [
    {
     "data": {
      "text/html": [
       "<style type=\"text/css\">\n",
       "</style>\n",
       "<table id=\"T_25a65_\">\n",
       "  <thead>\n",
       "    <tr>\n",
       "      <th class=\"blank level0\" >&nbsp;</th>\n",
       "      <th class=\"col_heading level0 col0\" >stress</th>\n",
       "      <th class=\"col_heading level0 col1\" >stress_spc</th>\n",
       "      <th class=\"col_heading level0 col2\" >xing</th>\n",
       "      <th class=\"col_heading level0 col3\" >xing_spc</th>\n",
       "      <th class=\"col_heading level0 col4\" >l1_angle</th>\n",
       "      <th class=\"col_heading level0 col5\" >l1_angle_spc</th>\n",
       "      <th class=\"col_heading level0 col6\" >edge</th>\n",
       "      <th class=\"col_heading level0 col7\" >edge_spc</th>\n",
       "      <th class=\"col_heading level0 col8\" >ring</th>\n",
       "      <th class=\"col_heading level0 col9\" >ring_spc</th>\n",
       "      <th class=\"col_heading level0 col10\" >tsne</th>\n",
       "      <th class=\"col_heading level0 col11\" >tsne_spc</th>\n",
       "      <th class=\"col_heading level0 col12\" >reso_score</th>\n",
       "      <th class=\"col_heading level0 col13\" >min_angle</th>\n",
       "    </tr>\n",
       "  </thead>\n",
       "  <tbody>\n",
       "    <tr>\n",
       "      <th id=\"T_25a65_level0_row0\" class=\"row_heading level0 row0\" >fa2</th>\n",
       "      <td id=\"T_25a65_row0_col0\" class=\"data row0 col0\" >337.26</td>\n",
       "      <td id=\"T_25a65_row0_col1\" class=\"data row0 col1\" >3.23%</td>\n",
       "      <td id=\"T_25a65_row0_col2\" class=\"data row0 col2\" >26.91</td>\n",
       "      <td id=\"T_25a65_row0_col3\" class=\"data row0 col3\" >8.83%</td>\n",
       "      <td id=\"T_25a65_row0_col4\" class=\"data row0 col4\" >79.88</td>\n",
       "      <td id=\"T_25a65_row0_col5\" class=\"data row0 col5\" >9.84%</td>\n",
       "      <td id=\"T_25a65_row0_col6\" class=\"data row0 col6\" >0.22</td>\n",
       "      <td id=\"T_25a65_row0_col7\" class=\"data row0 col7\" >6.53%</td>\n",
       "      <td id=\"T_25a65_row0_col8\" class=\"data row0 col8\" >256.48</td>\n",
       "      <td id=\"T_25a65_row0_col9\" class=\"data row0 col9\" >2.43%</td>\n",
       "      <td id=\"T_25a65_row0_col10\" class=\"data row0 col10\" >0.21</td>\n",
       "      <td id=\"T_25a65_row0_col11\" class=\"data row0 col11\" >8.67%</td>\n",
       "      <td id=\"T_25a65_row0_col12\" class=\"data row0 col12\" >0.59</td>\n",
       "      <td id=\"T_25a65_row0_col13\" class=\"data row0 col13\" >4.13</td>\n",
       "    </tr>\n",
       "  </tbody>\n",
       "</table>\n"
      ],
      "text/plain": [
       "<pandas.io.formats.style.Styler at 0x2b32640d9c10>"
      ]
     },
     "execution_count": 40,
     "metadata": {},
     "output_type": "execute_result"
    }
   ],
   "source": [
    "columns = [\n",
    "    'stress',\n",
    "    'stress_spc',\n",
    "    'xing',\n",
    "    'xing_spc',\n",
    "    'l1_angle',\n",
    "    'l1_angle_spc',\n",
    "    'edge',\n",
    "    'edge_spc',\n",
    "    'ring',\n",
    "    'ring_spc',\n",
    "    'tsne',\n",
    "    'tsne_spc',\n",
    "    'reso_score',\n",
    "    'min_angle'\n",
    "]\n",
    "df = pd.DataFrame(mean_metrics).set_axis(columns).T\n",
    "df.style.format({c: \"{:.2f}\" for c in columns if 'spc' not in c} | {c: \"{:.2%}\" for c in columns if 'spc' in c})"
   ]
  },
  {
   "cell_type": "markdown",
   "metadata": {
    "id": "L5S1HWnHOWIl"
   },
   "source": [
    "# Large Graph"
   ]
  },
  {
   "cell_type": "code",
   "execution_count": null,
   "metadata": {
    "id": "_pefPcV1OZdD"
   },
   "outputs": [],
   "source": [
    "scalability = pd.read_csv(f\"/__artifacts__/data/scalability.csv\", index_col=\"index\")\n",
    "scalability"
   ]
  },
  {
   "cell_type": "code",
   "execution_count": null,
   "metadata": {
    "id": "oMhWAsdvPnTX"
   },
   "outputs": [],
   "source": [
    "rescale = CanonicalizationByStress()\n",
    "stressfn = Stress()\n",
    "rotate = RotateByPrincipalComponents()"
   ]
  },
  {
   "cell_type": "code",
   "execution_count": null,
   "metadata": {
    "id": "LR83OcAaPID5"
   },
   "outputs": [],
   "source": [
    "stress_list = []\n",
    "spc_list = []\n",
    "pmds_list = np.load(\"layouts/new_large_graph/pmds.npy\", allow_pickle=True)\n",
    "gviz_list = np.load(\"layouts/new_large_graph/gviz.npy\", allow_pickle=True)\n",
    "with torch.no_grad():\n",
    "    for idx, col in tqdm(scalability.iterrows(), total=len(scalability)):\n",
    "        # if idx not in [406, 516]: continue\n",
    "        torch.cuda.empty_cache()\n",
    "        G = load_mtx(col['file'])\n",
    "        G.remove_edges_from(nx.selfloop_edges(G))\n",
    "        data = generate_data_list(G, \n",
    "                                sparse=data_config.sparse, \n",
    "                                pivot_mode=data_config.pivot,\n",
    "                                init_mode=data_config.init,\n",
    "                                edge_index=data_config.edge.index,\n",
    "                                edge_attr=data_config.edge.attr,\n",
    "                                pmds_list=pmds_list[idx],\n",
    "                                gviz_list=gviz_list[idx],\n",
    "                                device=device)\n",
    "        batch = Batch.from_data_list([data]).to(device)\n",
    "        # generator.train()\n",
    "        # generator(batch)\n",
    "        generator.eval()\n",
    "        pred = generator(batch)\n",
    "        pos = rotate(rescale(pred, batch), batch)\n",
    "        gt = rotate(rescale(batch.gt_pos, batch), batch)\n",
    "        stress = stressfn(pos, batch).item()\n",
    "        gt_stress = stressfn(gt, batch).item()\n",
    "        spc = (stress - gt_stress) / np.maximum(stress, gt_stress)\n",
    "        stress_list.append(stress)\n",
    "        spc_list.append(spc)\n",
    "\n",
    "        np.save(f\"/__artifacts__/gan_result/data/scalability_{idx}.npy\", pos.cpu().numpy())\n",
    "        graph_attr = dict(node_size=1, \n",
    "                        with_labels=False, \n",
    "                        labels=dict(zip(list(G.nodes), map(lambda n: n if type(n) is int else n[1:], list(G.nodes)))),\n",
    "                        font_color=\"white\", \n",
    "                        font_weight=\"bold\",\n",
    "                        font_size=12,\n",
    "                        width=0.1)\n",
    "\n",
    "        # gt_pos = pickle.load(open(f\"/__artifacts__/data/scalability_{idx}_gt.pkl\", \"rb\"))\n",
    "\n",
    "        plt.figure(figsize=[12, 9])\n",
    "        nx.draw(G, pos=gt.cpu().numpy(), node_color='orange', **graph_attr)\n",
    "        plt.title(f\"neato: large_{idx}\")\n",
    "        plt.axis(\"equal\")\n",
    "        plt.savefig(f\"/__artifacts__/gan_result/output/{idx}_{col['name']}_{col['n']}_{spc}_nx.png\", dpi=300)\n",
    "        plt.show()\n",
    "\n",
    "        plt.figure(figsize=[12, 9])\n",
    "        graph_vis(G, pos.cpu().numpy(), **graph_attr)\n",
    "        plt.title(f\"dgd: large_{idx}, spc={spc:.2%}\")\n",
    "        plt.axis(\"equal\")\n",
    "        plt.savefig(f\"/__artifacts__/gan_result/output/{idx}_{col['name']}_{col['n']}_{spc}_dgd.png\", dpi=300)\n",
    "        plt.show()"
   ]
  },
  {
   "cell_type": "code",
   "execution_count": null,
   "metadata": {
    "id": "gRXTewkYeuq1"
   },
   "outputs": [],
   "source": []
  }
 ],
 "metadata": {
  "accelerator": "GPU",
  "colab": {
   "collapsed_sections": [
    "w_p3OD0woiSM",
    "DR6-vYtr_i_P",
    "innqkwvH_ydD",
    "f-ODE2k8BFV6",
    "N39dDHraedM6"
   ],
   "machine_shape": "hm",
   "name": "GAN(gan=rgan,data=best(xing,stress),dis=deep,share=16,embed=0,gp=0).ipynb",
   "provenance": []
  },
  "kernelspec": {
   "display_name": "DeepGD",
   "language": "python",
   "name": "deepgd"
  },
  "language_info": {
   "codemirror_mode": {
    "name": "ipython",
    "version": 3
   },
   "file_extension": ".py",
   "mimetype": "text/x-python",
   "name": "python",
   "nbconvert_exporter": "python",
   "pygments_lexer": "ipython3",
   "version": "3.9.7"
  },
  "widgets": {
   "application/vnd.jupyter.widget-state+json": {
    "state": {
     "014e541edf5d496ca0981f8121120aff": {
      "model_module": "@jupyter-widgets/base",
      "model_module_version": "1.2.0",
      "model_name": "LayoutModel",
      "state": {}
     },
     "051d10e1fe4d4f5da7dba9ad23b6b10d": {
      "model_module": "@jupyter-widgets/controls",
      "model_module_version": "1.5.0",
      "model_name": "HBoxModel",
      "state": {
       "children": [
        "IPY_MODEL_4580785748f74fefbf6bc6d35a914b33",
        "IPY_MODEL_891acc2567a04a94967fb48b1a86826f",
        "IPY_MODEL_5ec332707f6140159c9c0f0f655e45df"
       ],
       "layout": "IPY_MODEL_998778578433414a8bc80f05af193bb0"
      }
     },
     "0ceceac679684f7ab47409fad3c9b494": {
      "model_module": "@jupyter-widgets/base",
      "model_module_version": "1.2.0",
      "model_name": "LayoutModel",
      "state": {}
     },
     "103a8e3b94d444cd9d42d4835abbb2e3": {
      "model_module": "@jupyter-widgets/base",
      "model_module_version": "1.2.0",
      "model_name": "LayoutModel",
      "state": {}
     },
     "176c7c5771b448f2b57dc0316dd2a929": {
      "model_module": "@jupyter-widgets/controls",
      "model_module_version": "1.5.0",
      "model_name": "FloatProgressModel",
      "state": {
       "bar_style": "success",
       "layout": "IPY_MODEL_fd111acbadd54527877319f530174acf",
       "max": 1000,
       "style": "IPY_MODEL_674b90930c9941e29590ec51f524ce30",
       "value": 1000
      }
     },
     "1e555c8243074106933fbb6001d0852e": {
      "model_module": "@jupyter-widgets/controls",
      "model_module_version": "1.5.0",
      "model_name": "DescriptionStyleModel",
      "state": {
       "description_width": ""
      }
     },
     "1ed4d5e8f77c441981a3eb4258c68e9b": {
      "model_module": "@jupyter-widgets/base",
      "model_module_version": "1.2.0",
      "model_name": "LayoutModel",
      "state": {}
     },
     "23b25065d55e49b594e70cb1bf888143": {
      "model_module": "@jupyter-widgets/base",
      "model_module_version": "1.2.0",
      "model_name": "LayoutModel",
      "state": {}
     },
     "2a73b8f4b07a46888e21ff1f2f2c18c0": {
      "model_module": "@jupyter-widgets/controls",
      "model_module_version": "1.5.0",
      "model_name": "HBoxModel",
      "state": {
       "children": [
        "IPY_MODEL_e6630d2fbb7e47a7be2f71dc89f92420"
       ],
       "layout": "IPY_MODEL_ffe806706b16417ab1f1c345f2d03c0b"
      }
     },
     "2c68a30a8aac4adfb223c25ea15accd3": {
      "model_module": "@jupyter-widgets/base",
      "model_module_version": "1.2.0",
      "model_name": "LayoutModel",
      "state": {}
     },
     "2dc0db2fdb054cf08611313916badb06": {
      "model_module": "@jupyter-widgets/base",
      "model_module_version": "1.2.0",
      "model_name": "LayoutModel",
      "state": {}
     },
     "32c562de83a847ee825834a48e2c1a2e": {
      "model_module": "@jupyter-widgets/controls",
      "model_module_version": "1.5.0",
      "model_name": "DescriptionStyleModel",
      "state": {
       "description_width": ""
      }
     },
     "336cf10eb07b42e4990d4229103710d2": {
      "model_module": "@jupyter-widgets/controls",
      "model_module_version": "1.5.0",
      "model_name": "HTMLModel",
      "state": {
       "layout": "IPY_MODEL_9c0de984b12949088adff4dd0875d742",
       "style": "IPY_MODEL_32c562de83a847ee825834a48e2c1a2e",
       "value": "100%"
      }
     },
     "340ef3292bc34aa9844ab5ae9966895d": {
      "model_module": "@jupyter-widgets/base",
      "model_module_version": "1.2.0",
      "model_name": "LayoutModel",
      "state": {}
     },
     "34c1fa7bfe9547a6b425c20dad96e7da": {
      "model_module": "@jupyter-widgets/controls",
      "model_module_version": "1.5.0",
      "model_name": "HTMLModel",
      "state": {
       "layout": "IPY_MODEL_014e541edf5d496ca0981f8121120aff",
       "style": "IPY_MODEL_f49ffa53facb4b85aaee71999e263f76",
       "value": "[epoch 1092/None]:  19%"
      }
     },
     "37a51e9c8a9241ffb5b2ea6a9cd186c3": {
      "model_module": "@jupyter-widgets/base",
      "model_module_version": "1.2.0",
      "model_name": "LayoutModel",
      "state": {}
     },
     "38ed30762b28473896ea66b4e221ce1d": {
      "model_module": "@jupyter-widgets/base",
      "model_module_version": "1.2.0",
      "model_name": "LayoutModel",
      "state": {}
     },
     "3cc553c652d3463f89c023763f6ca4fb": {
      "model_module": "@jupyter-widgets/base",
      "model_module_version": "1.2.0",
      "model_name": "LayoutModel",
      "state": {}
     },
     "4580785748f74fefbf6bc6d35a914b33": {
      "model_module": "@jupyter-widgets/controls",
      "model_module_version": "1.5.0",
      "model_name": "HTMLModel",
      "state": {
       "layout": "IPY_MODEL_103a8e3b94d444cd9d42d4835abbb2e3",
       "style": "IPY_MODEL_1e555c8243074106933fbb6001d0852e",
       "value": "100%"
      }
     },
     "4594f2e07e244576bc64a3ca7aae418e": {
      "model_module": "@jupyter-widgets/controls",
      "model_module_version": "1.5.0",
      "model_name": "HBoxModel",
      "state": {
       "children": [
        "IPY_MODEL_c9870c6d104e460e916438bb14cc6f5c"
       ],
       "layout": "IPY_MODEL_a20555932221472aa751dfb1a4020fb3"
      }
     },
     "46b68cfa125742968a7489c28baaf48c": {
      "model_module": "@jupyter-widgets/base",
      "model_module_version": "1.2.0",
      "model_name": "LayoutModel",
      "state": {}
     },
     "4c87c5c87c814ca08752dd53c2465b58": {
      "model_module": "@jupyter-widgets/controls",
      "model_module_version": "1.5.0",
      "model_name": "DescriptionStyleModel",
      "state": {
       "description_width": ""
      }
     },
     "58af1d74cda94dc4ac4a428de7fb0a34": {
      "model_module": "@jupyter-widgets/base",
      "model_module_version": "1.2.0",
      "model_name": "LayoutModel",
      "state": {}
     },
     "5ec332707f6140159c9c0f0f655e45df": {
      "model_module": "@jupyter-widgets/controls",
      "model_module_version": "1.5.0",
      "model_name": "HTMLModel",
      "state": {
       "layout": "IPY_MODEL_1ed4d5e8f77c441981a3eb4258c68e9b",
       "style": "IPY_MODEL_4c87c5c87c814ca08752dd53c2465b58",
       "value": " 1000/1000 [00:52&lt;00:00, 19.05it/s]"
      }
     },
     "5f9c6b8a475b4401afbe45ff08b77fb2": {
      "model_module": "@jupyter-widgets/output",
      "model_module_version": "1.0.0",
      "model_name": "OutputModel",
      "state": {
       "layout": "IPY_MODEL_2c68a30a8aac4adfb223c25ea15accd3",
       "outputs": [
        {
         "data": {
          "text/html": "<div>\n<style scoped>\n    .dataframe tbody tr th:only-of-type {\n        vertical-align: middle;\n    }\n\n    .dataframe tbody tr th {\n        vertical-align: top;\n    }\n\n    .dataframe thead th {\n        text-align: right;\n    }\n</style>\n<table border=\"1\" class=\"dataframe\">\n  <thead>\n    <tr style=\"text-align: right;\">\n      <th></th>\n      <th>val_stress</th>\n      <th>val_stress_spc</th>\n      <th>val_xing</th>\n      <th>val_xing_spc</th>\n      <th>dis_loss</th>\n      <th>gen_loss</th>\n      <th>stress</th>\n      <th>critic</th>\n    </tr>\n  </thead>\n  <tbody>\n    <tr>\n      <th>epoch 1092</th>\n      <td>368.47</td>\n      <td>13.47%</td>\n      <td>30.53</td>\n      <td>19.37%</td>\n      <td>2.60e-04</td>\n      <td>8.34e+01</td>\n      <td>-2.58e+02</td>\n      <td>-4.13e+00</td>\n    </tr>\n  </tbody>\n</table>\n</div>",
          "text/plain": "           val_stress val_stress_spc val_xing val_xing_spc  dis_loss  \\\nepoch 1092     368.47         13.47%    30.53       19.37%  2.60e-04   \n\n            gen_loss     stress     critic  \nepoch 1092  8.34e+01  -2.58e+02  -4.13e+00  "
         },
         "metadata": {},
         "output_type": "display_data"
        }
       ]
      }
     },
     "674b90930c9941e29590ec51f524ce30": {
      "model_module": "@jupyter-widgets/controls",
      "model_module_version": "1.5.0",
      "model_name": "ProgressStyleModel",
      "state": {
       "description_width": ""
      }
     },
     "68ac64a7ef1f4120a74fe27b3df7abfa": {
      "model_module": "@jupyter-widgets/base",
      "model_module_version": "1.2.0",
      "model_name": "LayoutModel",
      "state": {}
     },
     "76fc963b575340fd9be3d9b3782ecb26": {
      "model_module": "@jupyter-widgets/controls",
      "model_module_version": "1.5.0",
      "model_name": "DescriptionStyleModel",
      "state": {
       "description_width": ""
      }
     },
     "7afbf32acfbe48a09e6bac2e24ab8ef6": {
      "model_module": "@jupyter-widgets/base",
      "model_module_version": "1.2.0",
      "model_name": "LayoutModel",
      "state": {}
     },
     "7d0aa90012f44d618e0c45b3a47d49c6": {
      "model_module": "@jupyter-widgets/controls",
      "model_module_version": "1.5.0",
      "model_name": "HTMLModel",
      "state": {
       "layout": "IPY_MODEL_dbf9c675528748eb93b3cfa1564dd4dc",
       "style": "IPY_MODEL_76fc963b575340fd9be3d9b3782ecb26",
       "value": " 162/834 [00:26&lt;01:51,  6.01it/s]"
      }
     },
     "86415251a70d422fa5866f71c28a2925": {
      "model_module": "@jupyter-widgets/base",
      "model_module_version": "1.2.0",
      "model_name": "LayoutModel",
      "state": {}
     },
     "891acc2567a04a94967fb48b1a86826f": {
      "model_module": "@jupyter-widgets/controls",
      "model_module_version": "1.5.0",
      "model_name": "FloatProgressModel",
      "state": {
       "bar_style": "success",
       "layout": "IPY_MODEL_340ef3292bc34aa9844ab5ae9966895d",
       "max": 1000,
       "style": "IPY_MODEL_c1b46982fd4246ab82522fa16538748c",
       "value": 1000
      }
     },
     "9469ae012c404d3189cbfee72a9b2224": {
      "model_module": "@jupyter-widgets/base",
      "model_module_version": "1.2.0",
      "model_name": "LayoutModel",
      "state": {}
     },
     "95af5947288c4b15902161c2df8aa1a8": {
      "model_module": "@jupyter-widgets/controls",
      "model_module_version": "1.5.0",
      "model_name": "HBoxModel",
      "state": {
       "children": [
        "IPY_MODEL_34c1fa7bfe9547a6b425c20dad96e7da",
        "IPY_MODEL_eacfec7fa1554a9f874d27fbb628959c",
        "IPY_MODEL_7d0aa90012f44d618e0c45b3a47d49c6"
       ],
       "layout": "IPY_MODEL_38ed30762b28473896ea66b4e221ce1d"
      }
     },
     "998778578433414a8bc80f05af193bb0": {
      "model_module": "@jupyter-widgets/base",
      "model_module_version": "1.2.0",
      "model_name": "LayoutModel",
      "state": {}
     },
     "9c0de984b12949088adff4dd0875d742": {
      "model_module": "@jupyter-widgets/base",
      "model_module_version": "1.2.0",
      "model_name": "LayoutModel",
      "state": {}
     },
     "a0dd2b45a489409db0a9816a0b943d9c": {
      "model_module": "@jupyter-widgets/base",
      "model_module_version": "1.2.0",
      "model_name": "LayoutModel",
      "state": {}
     },
     "a20555932221472aa751dfb1a4020fb3": {
      "model_module": "@jupyter-widgets/base",
      "model_module_version": "1.2.0",
      "model_name": "LayoutModel",
      "state": {
       "height": "500px",
       "overflow_y": "auto"
      }
     },
     "a85e3a8204e04295862501fd4bbbf14e": {
      "model_module": "@jupyter-widgets/controls",
      "model_module_version": "1.5.0",
      "model_name": "HTMLModel",
      "state": {
       "layout": "IPY_MODEL_0ceceac679684f7ab47409fad3c9b494",
       "style": "IPY_MODEL_f1f90157de824190911ba1edb7feb853",
       "value": "100%"
      }
     },
     "b6340a71ab9f47149ea08fe876b2bdb3": {
      "model_module": "@jupyter-widgets/controls",
      "model_module_version": "1.5.0",
      "model_name": "ProgressStyleModel",
      "state": {
       "description_width": ""
      }
     },
     "ba671856b546443bbfd75d150c1a2b7e": {
      "model_module": "@jupyter-widgets/controls",
      "model_module_version": "1.5.0",
      "model_name": "HBoxModel",
      "state": {
       "children": [
        "IPY_MODEL_336cf10eb07b42e4990d4229103710d2",
        "IPY_MODEL_d094347c02924f43955139bd543083ba",
        "IPY_MODEL_fe1a493f7b6e40609495d30444792fb7"
       ],
       "layout": "IPY_MODEL_7afbf32acfbe48a09e6bac2e24ab8ef6"
      }
     },
     "bd0b784c799047a3af6953c322a5b9bf": {
      "model_module": "@jupyter-widgets/controls",
      "model_module_version": "1.5.0",
      "model_name": "VBoxModel",
      "state": {
       "children": [
        "IPY_MODEL_fd2efeb4ee444ea39c19e700a9b4ddfa",
        "IPY_MODEL_5f9c6b8a475b4401afbe45ff08b77fb2"
       ],
       "layout": "IPY_MODEL_86415251a70d422fa5866f71c28a2925"
      }
     },
     "bfadc9a862e54cee83f6f5a6395834f5": {
      "model_module": "@jupyter-widgets/controls",
      "model_module_version": "1.5.0",
      "model_name": "HTMLModel",
      "state": {
       "layout": "IPY_MODEL_23b25065d55e49b594e70cb1bf888143",
       "style": "IPY_MODEL_e35e351e0fbf4884a12ec08b575dedc2",
       "value": " 1000/1000 [00:49&lt;00:00, 21.12it/s]"
      }
     },
     "c1b46982fd4246ab82522fa16538748c": {
      "model_module": "@jupyter-widgets/controls",
      "model_module_version": "1.5.0",
      "model_name": "ProgressStyleModel",
      "state": {
       "description_width": ""
      }
     },
     "c1c46aa8e8204c6aa8b839b785129eae": {
      "model_module": "@jupyter-widgets/controls",
      "model_module_version": "1.5.0",
      "model_name": "HBoxModel",
      "state": {
       "children": [
        "IPY_MODEL_a85e3a8204e04295862501fd4bbbf14e",
        "IPY_MODEL_176c7c5771b448f2b57dc0316dd2a929",
        "IPY_MODEL_bfadc9a862e54cee83f6f5a6395834f5"
       ],
       "layout": "IPY_MODEL_37a51e9c8a9241ffb5b2ea6a9cd186c3"
      }
     },
     "c9870c6d104e460e916438bb14cc6f5c": {
      "model_module": "@jupyter-widgets/output",
      "model_module_version": "1.0.0",
      "model_name": "OutputModel",
      "state": {
       "layout": "IPY_MODEL_68ac64a7ef1f4120a74fe27b3df7abfa",
       "outputs": [
        {
         "name": "stdout",
         "output_type": "stream",
         "text": "[1091] stress=368.60(13.79%) xing=30.77(20.37%)\n[1092] stress=368.47(13.47%) xing=30.53(19.37%)\n"
        }
       ]
      }
     },
     "cc12587198d14272b0ef979431b5b0ba": {
      "model_module": "@jupyter-widgets/controls",
      "model_module_version": "1.5.0",
      "model_name": "DescriptionStyleModel",
      "state": {
       "description_width": ""
      }
     },
     "d094347c02924f43955139bd543083ba": {
      "model_module": "@jupyter-widgets/controls",
      "model_module_version": "1.5.0",
      "model_name": "FloatProgressModel",
      "state": {
       "bar_style": "success",
       "layout": "IPY_MODEL_a0dd2b45a489409db0a9816a0b943d9c",
       "max": 11531,
       "style": "IPY_MODEL_b6340a71ab9f47149ea08fe876b2bdb3",
       "value": 11531
      }
     },
     "dbf9c675528748eb93b3cfa1564dd4dc": {
      "model_module": "@jupyter-widgets/base",
      "model_module_version": "1.2.0",
      "model_name": "LayoutModel",
      "state": {}
     },
     "e0473ac20adf4a4b8452783a2689a83d": {
      "model_module": "@jupyter-widgets/controls",
      "model_module_version": "1.5.0",
      "model_name": "ProgressStyleModel",
      "state": {
       "description_width": ""
      }
     },
     "e35e351e0fbf4884a12ec08b575dedc2": {
      "model_module": "@jupyter-widgets/controls",
      "model_module_version": "1.5.0",
      "model_name": "DescriptionStyleModel",
      "state": {
       "description_width": ""
      }
     },
     "e6630d2fbb7e47a7be2f71dc89f92420": {
      "model_module": "@jupyter-widgets/output",
      "model_module_version": "1.0.0",
      "model_name": "OutputModel",
      "state": {
       "layout": "IPY_MODEL_46b68cfa125742968a7489c28baaf48c",
       "outputs": [
        {
         "data": {
          "image/png": "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\n",
          "text/plain": "<Figure size 432x288 with 1 Axes>"
         },
         "metadata": {},
         "output_type": "display_data"
        },
        {
         "data": {
          "image/png": "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\n",
          "text/plain": "<Figure size 432x288 with 1 Axes>"
         },
         "metadata": {},
         "output_type": "display_data"
        }
       ]
      }
     },
     "eacfec7fa1554a9f874d27fbb628959c": {
      "model_module": "@jupyter-widgets/controls",
      "model_module_version": "1.5.0",
      "model_name": "FloatProgressModel",
      "state": {
       "layout": "IPY_MODEL_58af1d74cda94dc4ac4a428de7fb0a34",
       "max": 834,
       "style": "IPY_MODEL_e0473ac20adf4a4b8452783a2689a83d",
       "value": 162
      }
     },
     "f1f90157de824190911ba1edb7feb853": {
      "model_module": "@jupyter-widgets/controls",
      "model_module_version": "1.5.0",
      "model_name": "DescriptionStyleModel",
      "state": {
       "description_width": ""
      }
     },
     "f36f3a6ce9ea414cb65dc1344ad5bbf9": {
      "model_module": "@jupyter-widgets/controls",
      "model_module_version": "1.5.0",
      "model_name": "TabModel",
      "state": {
       "_titles": {
        "0": "status",
        "1": "plot",
        "2": "log"
       },
       "children": [
        "IPY_MODEL_bd0b784c799047a3af6953c322a5b9bf",
        "IPY_MODEL_2a73b8f4b07a46888e21ff1f2f2c18c0",
        "IPY_MODEL_4594f2e07e244576bc64a3ca7aae418e"
       ],
       "layout": "IPY_MODEL_2dc0db2fdb054cf08611313916badb06"
      }
     },
     "f49ffa53facb4b85aaee71999e263f76": {
      "model_module": "@jupyter-widgets/controls",
      "model_module_version": "1.5.0",
      "model_name": "DescriptionStyleModel",
      "state": {
       "description_width": ""
      }
     },
     "fd111acbadd54527877319f530174acf": {
      "model_module": "@jupyter-widgets/base",
      "model_module_version": "1.2.0",
      "model_name": "LayoutModel",
      "state": {}
     },
     "fd2efeb4ee444ea39c19e700a9b4ddfa": {
      "model_module": "@jupyter-widgets/output",
      "model_module_version": "1.0.0",
      "model_name": "OutputModel",
      "state": {
       "layout": "IPY_MODEL_9469ae012c404d3189cbfee72a9b2224",
       "outputs": [
        {
         "data": {
          "application/vnd.jupyter.widget-view+json": {
           "model_id": "95af5947288c4b15902161c2df8aa1a8",
           "version_major": 2,
           "version_minor": 0
          },
          "text/plain": "  0%|          | 0/834 [00:00<?, ?it/s]"
         },
         "metadata": {},
         "output_type": "display_data"
        }
       ]
      }
     },
     "fe1a493f7b6e40609495d30444792fb7": {
      "model_module": "@jupyter-widgets/controls",
      "model_module_version": "1.5.0",
      "model_name": "HTMLModel",
      "state": {
       "layout": "IPY_MODEL_3cc553c652d3463f89c023763f6ca4fb",
       "style": "IPY_MODEL_cc12587198d14272b0ef979431b5b0ba",
       "value": " 11531/11531 [00:00&lt;00:00, 64533.91it/s]"
      }
     },
     "ffe806706b16417ab1f1c345f2d03c0b": {
      "model_module": "@jupyter-widgets/base",
      "model_module_version": "1.2.0",
      "model_name": "LayoutModel",
      "state": {
       "height": "500px",
       "overflow_y": "auto"
      }
     }
    },
    "version_major": 2,
    "version_minor": 0
   }
  }
 },
 "nbformat": 4,
 "nbformat_minor": 4
}
