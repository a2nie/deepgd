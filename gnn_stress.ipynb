{
 "cells": [
  {
   "cell_type": "code",
   "execution_count": 6,
   "metadata": {},
   "outputs": [],
   "source": [
    "import torch\n",
    "from torch_geometric.data import Data, DataLoader, Dataset\n",
    "import torch.nn.functional as F\n",
    "import random \n",
    "import networkx as nx\n",
    "import numpy as np\n",
    "from torch_geometric.nn import NNConv\n",
    "from torch.nn import Linear\n",
    "from matplotlib import pyplot as plt\n",
    "import torch.nn as nn\n",
    "import glob\n",
    "import random"
   ]
  },
  {
   "cell_type": "code",
   "execution_count": 68,
   "metadata": {},
   "outputs": [],
   "source": [
    "#generate random graph\n",
    "ngraph = 1000\n",
    "ngraph_size = [random.randint(20,40) for i in range(ngraph)]\n",
    "data_list = []\n",
    "for i in range(ngraph):\n",
    "    G, data = generate_graph(ngraph_size[i])\n",
    "    data_list.append(data)"
   ]
  },
  {
   "cell_type": "code",
   "execution_count": 2,
   "metadata": {},
   "outputs": [
    {
     "data": {
      "text/plain": [
       "True"
      ]
     },
     "execution_count": 2,
     "metadata": {},
     "output_type": "execute_result"
    }
   ],
   "source": [
    "torch.cuda.is_available()"
   ]
  },
  {
   "cell_type": "code",
   "execution_count": 1,
   "metadata": {},
   "outputs": [
    {
     "ename": "NameError",
     "evalue": "name 'torch' is not defined",
     "output_type": "error",
     "traceback": [
      "\u001b[0;31m---------------------------------------------------------------------------\u001b[0m",
      "\u001b[0;31mNameError\u001b[0m                                 Traceback (most recent call last)",
      "\u001b[0;32m<ipython-input-1-be51349919d3>\u001b[0m in \u001b[0;36m<module>\u001b[0;34m\u001b[0m\n\u001b[1;32m     99\u001b[0m         \u001b[0;32mreturn\u001b[0m \u001b[0mG\u001b[0m\u001b[0;34m,\u001b[0m \u001b[0mdata\u001b[0m\u001b[0;34m\u001b[0m\u001b[0;34m\u001b[0m\u001b[0m\n\u001b[1;32m    100\u001b[0m \u001b[0;34m\u001b[0m\u001b[0m\n\u001b[0;32m--> 101\u001b[0;31m \u001b[0;32mclass\u001b[0m \u001b[0mEnergyLoss\u001b[0m\u001b[0;34m(\u001b[0m\u001b[0mtorch\u001b[0m\u001b[0;34m.\u001b[0m\u001b[0mnn\u001b[0m\u001b[0;34m.\u001b[0m\u001b[0mModule\u001b[0m\u001b[0;34m)\u001b[0m\u001b[0;34m:\u001b[0m\u001b[0;34m\u001b[0m\u001b[0;34m\u001b[0m\u001b[0m\n\u001b[0m\u001b[1;32m    102\u001b[0m     \u001b[0;32mdef\u001b[0m \u001b[0m__init__\u001b[0m\u001b[0;34m(\u001b[0m\u001b[0mself\u001b[0m\u001b[0;34m)\u001b[0m\u001b[0;34m:\u001b[0m\u001b[0;34m\u001b[0m\u001b[0;34m\u001b[0m\u001b[0m\n\u001b[1;32m    103\u001b[0m         \u001b[0msuper\u001b[0m\u001b[0;34m(\u001b[0m\u001b[0;34m)\u001b[0m\u001b[0;34m.\u001b[0m\u001b[0m__init__\u001b[0m\u001b[0;34m(\u001b[0m\u001b[0;34m)\u001b[0m\u001b[0;34m\u001b[0m\u001b[0;34m\u001b[0m\u001b[0m\n",
      "\u001b[0;31mNameError\u001b[0m: name 'torch' is not defined"
     ]
    }
   ],
   "source": [
    "def generate_polygon(n, radius=1):\n",
    "    node_pos = [(radius * np.cos(2 * np.pi * i / n),\n",
    "                 radius * np.sin(2 * np.pi * i / n)) for i in range(n)]\n",
    "    x = torch.tensor(node_pos,dtype=torch.float)\n",
    "    return x\n",
    "\n",
    "def generate_randPos(n, radius=1):\n",
    "    node_pos = [(random.uniform(-1, 1),\n",
    "                 random.uniform(-1, 1)) for i in range(n)]\n",
    "    x = torch.tensor(node_pos,dtype=torch.float)\n",
    "    return x\n",
    "\n",
    "def generate_edgelist(size):\n",
    "    edge_list = []\n",
    "    for i in range(size):\n",
    "        for j in range(size):\n",
    "#             p = random.random()\n",
    "#             if p > 0.5:\n",
    "#                 edge_list.append((i,j))\n",
    "#             else:\n",
    "#                 edge_list.append((j,i))  \n",
    "            if i != j:\n",
    "                edge_list.append((i,j))\n",
    "    return edge_list\n",
    "\n",
    "def node2edge(node_pos, batch):\n",
    "    # find sizes for each graph in batch\n",
    "    graph_sizes = list(map(lambda d: d.x.size()[0], batch.to_data_list()))\n",
    "    # get split indices\n",
    "    start_idx = np.insert(np.cumsum(graph_sizes), 0, 0)\n",
    "    start_pos = []\n",
    "    end_pos = []\n",
    "    for i, num_nodes in enumerate(graph_sizes):\n",
    "        # get edge list for current graph\n",
    "        edgelist = np.array(generate_edgelist(num_nodes))\n",
    "        # get node positions for current graph\n",
    "        graph_node_pos = node_pos[start_idx[i]:start_idx[i+1]]\n",
    "        # get edge start positions for current graph\n",
    "        start_pos += [graph_node_pos[edgelist[:, 0]]]\n",
    "        # get edge end positions for current graph\n",
    "        end_pos += [graph_node_pos[edgelist[:, 1]]]\n",
    "    # concatenate the results\n",
    "    return torch.cat(start_pos, 0), torch.cat(end_pos, 0)\n",
    "\n",
    "def generate_eAttr(G, com_edge_list):\n",
    "    path_length = dict(nx.all_pairs_shortest_path_length(G))\n",
    "    max_length = 0\n",
    "    for source in path_length:\n",
    "        for target in path_length[source]:\n",
    "            if path_length[source][target] > max_length:\n",
    "                max_length = path_length[source][target]\n",
    "    L = 2/max_length\n",
    "    K = 1\n",
    "    edge_attr = []\n",
    "    for i in com_edge_list:\n",
    "        start = \"n\" + str(i[0])\n",
    "        end = \"n\" + str(i[1])\n",
    "        d = path_length[start][end]\n",
    "        l = L * d #l = L * d\n",
    "        k = K/(d**2) \n",
    "        start_degree = G.degree(start)\n",
    "#         end_degree = G.degree(end)\n",
    "        edge_attr.append([l,k])\n",
    "    out = torch.tensor(edge_attr, dtype=torch.float)\n",
    "    return out\n",
    "\n",
    "def generate_graph(size):\n",
    "    while True:\n",
    "        G = nx.binomial_graph(size, random.uniform(0,0.2),directed=False)\n",
    "#         G = nx.random_powerlaw_tree(size,3,tries=10000)\n",
    "        com_edge_list = generate_edgelist(size)\n",
    "        try:\n",
    "            edge_attr = generate_eAttr(G, com_edge_list)\n",
    "        except KeyError:\n",
    "            continue\n",
    "        except ZeroDivisionError:\n",
    "            continue\n",
    "#         nx.write_edgelist(G, file_name, data=False)\n",
    "        edge_index = torch.tensor(com_edge_list, dtype=torch.long)\n",
    "        x = generate_randPos(size)\n",
    "        data = Data(x=x, edge_index=edge_index.t().contiguous(), edge_attr=edge_attr)\n",
    "        return G, data\n",
    "\n",
    "def generate_testgraph(size,prob):\n",
    "    while True:\n",
    "        G = nx.binomial_graph(size, prob,directed=False)\n",
    "#         G = nx.random_powerlaw_tree(size,3,tries=10000)\n",
    "        com_edge_list = generate_edgelist(size)\n",
    "        try:\n",
    "            edge_attr = generate_eAttr(G, com_edge_list)\n",
    "        except KeyError:\n",
    "            continue\n",
    "        except ZeroDivisionError:\n",
    "            continue\n",
    "#         nx.write_edgelist(G, file_name, data=False)\n",
    "        edge_index = torch.tensor(com_edge_list, dtype=torch.long)\n",
    "        x = generate_randPos(size)\n",
    "        data = Data(x=x, edge_index=edge_index.t().contiguous(), edge_attr=edge_attr)\n",
    "        return G, data\n",
    "\n",
    "class EnergyLoss(torch.nn.Module):\n",
    "    def __init__(self):\n",
    "        super().__init__()\n",
    "        \n",
    "    def forward(self, p, data_batch):\n",
    "        energy = 0\n",
    "        offset = 0\n",
    "        for data in data_batch.to_data_list():\n",
    "            edge_attr = data.edge_attr\n",
    "            n = data.x.size()[0]\n",
    "            x = p[offset:offset+n, 0]\n",
    "            y = p[offset:offset+n, 1]\n",
    "            offset += n\n",
    "            l = edge_attr[:, 0]\n",
    "            k = edge_attr[:, 1]\n",
    "            for e, (i, j) in enumerate(generate_edgelist(n)):\n",
    "                term1 = (x[i] - x[j]) ** 2\n",
    "                term2 = (y[i] - y[j]) ** 2\n",
    "                term3 = l[e] ** 2\n",
    "                term4 = 2 * l[e] * (term1 + term2).sqrt()\n",
    "                energy += k[e] / 2 * (term1 + term2 + term3 - term4)\n",
    "        return energy\n",
    "\n",
    "    \n",
    "class EnergyLossVectorized(torch.nn.Module):\n",
    "    def __init__(self):\n",
    "        super().__init__()\n",
    "        \n",
    "    def forward(self, p, data):\n",
    "        edge_attr = data.edge_attr\n",
    "        # convert per-node positions to per-edge positions\n",
    "        start, end = node2edge(p, data)\n",
    "        \n",
    "        start_x = start[:, 0]\n",
    "        start_y = start[:, 1]\n",
    "        end_x = end[:, 0]\n",
    "        end_y = end[:, 1]\n",
    "        \n",
    "        l = edge_attr[:, 0]\n",
    "        k = edge_attr[:, 1]\n",
    "        \n",
    "        term1 = (start_x - end_x) ** 2\n",
    "        term2 = (start_y - end_y) ** 2\n",
    "        term3 = l ** 2\n",
    "        term4 = 2 * l * (term1 + term2).sqrt()\n",
    "        energy = k / 2 * (term1 + term2 + term3 - term4)\n",
    "        return energy.sum()/2\n",
    "    \n",
    "def train(model, criterion, optimizer,loader,data_list):\n",
    "    model.train()\n",
    "    loss_all = 0\n",
    "    for data in loader:\n",
    "        data = data.to(device)\n",
    "        optimizer.zero_grad()\n",
    "        output = model(data)\n",
    "        loss = criterion(output,data)\n",
    "        loss.backward()\n",
    "        loss_all += data.num_graphs * loss.item()\n",
    "        optimizer.step()\n",
    "    return loss_all / len(data_list)\n",
    "\n",
    "def evaluate(model,data):\n",
    "    model.eval()\n",
    "    with torch.no_grad():\n",
    "        data = data.to(device)\n",
    "        pred = model(data).detach().cpu().numpy()\n",
    "    return pred\n",
    "\n",
    "def load_rome(ngraph):\n",
    "    files = glob.glob('../rome/*.graphml')\n",
    "    random.shuffle(files)\n",
    "    G_list = []\n",
    "    count = 0\n",
    "    for file in files:\n",
    "        G = nx.read_graphml(file)\n",
    "        G_list.append(G)\n",
    "    return G_list\n",
    "\n",
    "def graph_vis(G, node_pos, file_name):\n",
    "    i = 0\n",
    "    for n, p in node_pos:\n",
    "        node = 'n' +str(i)\n",
    "        G.nodes[node]['pos'] = (n,p)\n",
    "        i += 1\n",
    "    pos = nx.get_node_attributes(G,'pos')\n",
    "    plt.figure()\n",
    "    nx.draw(G, pos)\n",
    "    plt.savefig(file_name) \n",
    "    \n",
    "class Net(torch.nn.Module):\n",
    "    def __init__(self):\n",
    "        super(Net, self).__init__()\n",
    "        self.conv1 = NNConv(2, 16, Linear(2,2*16),aggr='mean')\n",
    "        self.conv2 = NNConv(16, 16, Linear(2, 16*16),aggr='mean')\n",
    "        self.conv3 = NNConv(4*16, 2, Linear(2, 4*16*2),aggr='mean')\n",
    "        self.relu = nn.LeakyReLU()\n",
    "#         self.conv4 = NNConv(16+32+64, 128, Linear(2, (16+32+64)*128))\n",
    "#         self.conv5 = NNConv(128,2,Linear(2,128*2))\n",
    "#         self.conv2 = NNConv(16,2,Linear(2,16*2))\n",
    "\n",
    "    def forward(self, data):\n",
    "        x, edge_index, edge_attr = data.x, data.edge_index, data.edge_attr\n",
    "\n",
    "        x1 = self.relu(self.conv1(x, edge_index, edge_attr))\n",
    "        x2 = self.relu(self.conv2(x1, edge_index, edge_attr))\n",
    "        x3 = self.relu(self.conv2(x2, edge_index, edge_attr))\n",
    "        x4 = self.relu(self.conv2(x3, edge_index, edge_attr))\n",
    "        x5 = torch.cat((x1, x2, x3, x4), dim=1)\n",
    "        x6 = self.conv3(x5, edge_index, edge_attr)\n",
    "#         x2 = F.relu(self.conv2(x1, edge_index, edge_attr))\n",
    "#         x3 = F.relu(self.conv3(x2, edge_index, edge_attr))\n",
    "        \n",
    "#         x4 = F.relu(self.conv4(x, edge_index, edge_attr))\n",
    "#         x5 = F.relu(self.conv5(x4,edge_index,edge_attr))\n",
    "        return x6\n",
    "\n",
    "\n",
    "def convert_datalist(rome,ngraph):\n",
    "    count = 0\n",
    "    data_list = []\n",
    "    G_list = []\n",
    "    for G in rome:\n",
    "        size = G.number_of_nodes()\n",
    "        com_edge_list = generate_edgelist(size)\n",
    "        try:\n",
    "            edge_attr = generate_eAttr(G, com_edge_list)\n",
    "        except KeyError:\n",
    "            continue\n",
    "        except ZeroDivisionError:\n",
    "            continue\n",
    "        edge_index = torch.tensor(com_edge_list, dtype=torch.long)\n",
    "        x = generate_randPos(size)\n",
    "        data = Data(x=x, edge_index=edge_index.t().contiguous(), edge_attr=edge_attr)\n",
    "        count += 1\n",
    "        data_list.append(data)\n",
    "        G_list.append(G)\n",
    "        if count >= ngraph:\n",
    "            return G_list,data_list\n",
    "    return G_list,data_list"
   ]
  },
  {
   "cell_type": "code",
   "execution_count": 8,
   "metadata": {
    "scrolled": true
   },
   "outputs": [],
   "source": [
    "#load specific number of graph from rome dataset\n",
    "ngraph = 1000\n",
    "rome = load_rome(ngraph)"
   ]
  },
  {
   "cell_type": "code",
   "execution_count": 9,
   "metadata": {
    "scrolled": true
   },
   "outputs": [],
   "source": [
    "G_list,data_list = convert_datalist(rome,ngraph)"
   ]
  },
  {
   "cell_type": "code",
   "execution_count": 10,
   "metadata": {},
   "outputs": [],
   "source": [
    "loader = DataLoader(data_list[:-1], batch_size=32,shuffle=True)\n",
    "loss_ep = []\n"
   ]
  },
  {
   "cell_type": "code",
   "execution_count": null,
   "metadata": {
    "scrolled": true
   },
   "outputs": [
    {
     "name": "stderr",
     "output_type": "stream",
     "text": [
      "/opt/conda/lib/python3.7/site-packages/torch/serialization.py:360: UserWarning: Couldn't retrieve source code for container of type Net. It won't be checked for correctness upon loading.\n",
      "  \"type \" + obj.__name__ + \". It won't be checked \"\n",
      "/opt/conda/lib/python3.7/site-packages/ipykernel_launcher.py:184: RuntimeWarning: More than 20 figures have been opened. Figures created through the pyplot interface (`matplotlib.pyplot.figure`) are retained until explicitly closed and may consume too much memory. (To control this warning, see the rcParam `figure.max_open_warning`).\n"
     ]
    }
   ],
   "source": [
    "start_epoch = 1\n",
    "num_epochs = 11000\n",
    "device = torch.device('cuda' if torch.cuda.is_available() else 'cpu')\n",
    "if start_epoch == 1:\n",
    "    model = Net().to(device)\n",
    "else:\n",
    "    model = torch.load(f'../ckpt_nod_de_mean/epoch_{start_epoch}.pt').to(device)\n",
    "criterion = EnergyLossVectorized()\n",
    "optimizer = torch.optim.AdamW(model.parameters(), lr=0.01)\n",
    "scheduler = torch.optim.lr_scheduler.StepLR(optimizer, 50, 0.9)\n",
    "for epoch in range(start_epoch, num_epochs):\n",
    "    loss = train(model, criterion, optimizer,loader,data_list)\n",
    "    loss_ep.append(loss)\n",
    "    scheduler.step()\n",
    "    if epoch % 10 == 0:\n",
    "        torch.save(model, f'../ckpt_nod_de_mean/epoch_{epoch}.pt')\n",
    "        node_pos = evaluate(model, data_list[-1])\n",
    "        graph_vis(G_list[-1], node_pos, f'../rome_nod_de_mean/epoch_{epoch}.png')\n",
    "        print(epoch, loss, file=open(\"rome_nod_de_mean.log\", \"a\"))"
   ]
  },
  {
   "cell_type": "code",
   "execution_count": 29,
   "metadata": {},
   "outputs": [
    {
     "name": "stdout",
     "output_type": "stream",
     "text": [
      "tensor(1.7223e+19, device='cuda:0')\n"
     ]
    }
   ],
   "source": [
    "#test\n",
    "loader = DataLoader(data_list, batch_size=1, shuffle=True)\n",
    "model = Net().to(device)\n",
    "criterion = EnergyLossVectorized()\n",
    "model.eval()\n",
    "with torch.no_grad():\n",
    "    data = next(iter(loader)).to(device)\n",
    "    pred = model(data).detach()\n",
    "    loss = criterion(pred,data)\n",
    "    print(loss)"
   ]
  },
  {
   "cell_type": "code",
   "execution_count": 11,
   "metadata": {},
   "outputs": [
    {
     "data": {
      "image/png": "[encoded data removed]",
      "text/plain": [
       "<Figure size 432x288 with 1 Axes>"
      ]
     },
     "metadata": {},
     "output_type": "display_data"
    }
   ],
   "source": [
    "G_vis = G_list[-5]\n",
    "node_pos = evaluate(model, data_list[-5])\n",
    "graph_vis(G_vis, node_pos, f'model_-5.png') "
   ]
  },
  {
   "cell_type": "code",
   "execution_count": 12,
   "metadata": {},
   "outputs": [
    {
     "name": "stderr",
     "output_type": "stream",
     "text": [
      "/opt/conda/lib/python3.7/site-packages/pygraphviz/agraph.py:1341: RuntimeWarning: Error: node n0, position (-0.06744841, 0.2486881), expected two doubles\n",
      "Error: node n22, position (-0.12114087, 0.040030833), expected two doubles\n",
      "Error: node n36, position (-0.18036142, 0.35609153), expected two doubles\n",
      "Error: node n40, position (-0.11910941, 0.23892733), expected two doubles\n",
      "Error: node n1, position (-0.271518, -0.14236857), expected two doubles\n",
      "Error: node n13, position (-0.16683167, 0.0130901765), expected two doubles\n",
      "Error: node n32, position (-0.2501976, -0.25907105), expected two doubles\n",
      "Error: node n2, position (0.15262315, -0.3803688), expected two doubles\n",
      "Error: node n11, position (0.17110884, -0.5943825), expected two doubles\n",
      "Error: node n12, position (0.37478584, -0.23737627), expected two doubles\n",
      "Error: node n3, position (0.45587718, -0.08283261), expected two doubles\n",
      "Error: node n30, position (0.34121692, 0.19223173), expected two doubles\n",
      "Error: node n4, position (0.11227367, 0.61424553), expected two doubles\n",
      "Error: node n19, position (0.003385, 0.4525914), expected two doubles\n",
      "Error: node n5, position (-0.140948, 0.58209836), expected two doubles\n",
      "Error: node n20, position (-0.072071284, 0.535464), expected two doubles\n",
      "Error: node n37, position (-0.094307855, 0.5948054), expected two doubles\n",
      "Error: node n48, position (-0.0069067404, 0.42898288), expected two doubles\n",
      "Error: node n6, position (-0.08810656, 0.082419276), expected two doubles\n",
      "Error: node n8, position (-0.021890726, 0.28709447), expected two doubles\n",
      "Error: node n7, position (0.18987975, 0.3018484), expected two doubles\n",
      "Error: node n18, position (0.30024686, 0.33647174), expected two doubles\n",
      "Error: node n25, position (0.09618922, 0.5057797), expected two doubles\n",
      "Error: node n51, position (0.057040416, 0.32478088), expected two doubles\n",
      "Error: node n21, position (-0.029624663, 0.35981968), expected two doubles\n",
      "Error: node n23, position (-0.036493205, 0.27266222), expected two doubles\n",
      "Error: node n24, position (-0.054062396, 0.41936752), expected two doubles\n",
      "Error: node n43, position (0.045971215, 0.39245516), expected two doubles\n",
      "Error: node n9, position (-0.13912565, 0.011384073), expected two doubles\n",
      "Error: node n10, position (0.19923198, 0.59351665), expected two doubles\n",
      "Error: node n17, position (0.0065261945, 0.6806307), expected two doubles\n",
      "Error: node n14, position (-0.33554882, -0.530687), expected two doubles\n",
      "Error: node n27, position (-0.057439826, -0.39324874), expected two doubles\n",
      "Error: node n42, position (-0.45476913, -0.6085911), expected two doubles\n",
      "Error: node n15, position (0.084192134, 0.5025167), expected two doubles\n",
      "Error: node n31, position (-0.051361445, 0.48780233), expected two doubles\n",
      "Error: node n41, position (0.1543949, 0.61955327), expected two doubles\n",
      "Error: node n16, position (-0.16461995, 0.5137718), expected two doubles\n",
      "Error: node n38, position (-0.023879796, 0.4503264), expected two doubles\n",
      "Error: node n29, position (0.2806669, 0.31191045), expected two doubles\n",
      "Error: node n45, position (-0.099441946, 0.5388025), expected two doubles\n",
      "Error: node n33, position (-0.20440212, 0.022116918), expected two doubles\n",
      "Error: node n39, position (-0.09143527, 0.20115286), expected two doubles\n",
      "Error: node n26, position (0.023987353, 0.30233705), expected two doubles\n",
      "Error: node n52, position (-0.38071656, -0.49313992), expected two doubles\n",
      "Error: node n28, position (-0.09282248, 0.36033413), expected two doubles\n",
      "Error: node n35, position (-0.17335469, 0.25972858), expected two doubles\n",
      "Error: node n49, position (-0.024028532, 0.34098127), expected two doubles\n",
      "Error: node n50, position (0.34247467, 0.1601544), expected two doubles\n",
      "Error: node n34, position (-0.25302327, 0.09217969), expected two doubles\n",
      "Error: node n47, position (0.25508684, 0.2130514), expected two doubles\n",
      "Error: node n46, position (0.21742174, 0.40036896), expected two doubles\n",
      "Error: node n44, position (0.13053101, 0.5475081), expected two doubles\n",
      "\n",
      "  warnings.warn(b\"\".join(errors).decode(self.encoding), RuntimeWarning)\n"
     ]
    }
   ],
   "source": [
    "from networkx.drawing.nx_agraph import graphviz_layout, to_agraph\n",
    "import pygraphviz as pgv\n",
    "A = to_agraph(G_vis)\n",
    "A.layout('neato')\n",
    "A.draw('-5.png')\n"
   ]
  },
  {
   "cell_type": "code",
   "execution_count": 174,
   "metadata": {},
   "outputs": [
    {
     "data": {
      "image/png": "[encoded data removed]",
      "text/plain": [
       "<Figure size 432x288 with 1 Axes>"
      ]
     },
     "metadata": {
      "needs_background": "light"
     },
     "output_type": "display_data"
    }
   ],
   "source": [
    "plt.xlabel(\"epochs\")\n",
    "plt.ylabel(\"loss\")\n",
    "plt.plot(loss_ep[:1000])\n",
    "plt.show()"
   ]
  },
  {
   "cell_type": "code",
   "execution_count": 12,
   "metadata": {
    "scrolled": true
   },
   "outputs": [
    {
     "data": {
      "text/plain": [
       "tensor([[0.4000, 0.2500, 2.0000],\n",
       "        [1.2000, 0.0278, 2.0000],\n",
       "        [0.8000, 0.0625, 2.0000],\n",
       "        ...,\n",
       "        [0.6000, 0.1111, 3.0000],\n",
       "        [1.0000, 0.0400, 3.0000],\n",
       "        [1.2000, 0.0278, 3.0000]])"
      ]
     },
     "execution_count": 12,
     "metadata": {},
     "output_type": "execute_result"
    }
   ],
   "source": []
  },
  {
   "cell_type": "code",
   "execution_count": null,
   "metadata": {},
   "outputs": [],
   "source": []
  }
 ],
 "metadata": {
  "kernelspec": {
   "display_name": "Python 3",
   "language": "python",
   "name": "python3"
  },
  "language_info": {
   "codemirror_mode": {
    "name": "ipython",
    "version": 3
   },
   "file_extension": ".py",
   "mimetype": "text/x-python",
   "name": "python",
   "nbconvert_exporter": "python",
   "pygments_lexer": "ipython3",
   "version": "3.7.6"
  }
 },
 "nbformat": 4,
 "nbformat_minor": 4
}
