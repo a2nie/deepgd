{
 "cells": [
  {
   "cell_type": "code",
   "execution_count": 2,
   "metadata": {},
   "outputs": [],
   "source": [
    "import torch\n",
    "from torch_geometric.data import Data, DataLoader, Dataset\n",
    "import torch.nn.functional as F\n",
    "import random \n",
    "import networkx as nx\n",
    "import numpy as np\n",
    "from torch_geometric.nn import NNConv\n",
    "from torch.nn import Linear\n",
    "from matplotlib import pyplot as plt\n",
    "import torch.nn as nn\n",
    "import glob\n",
    "import random"
   ]
  },
  {
   "cell_type": "code",
   "execution_count": 3,
   "metadata": {},
   "outputs": [
    {
     "ename": "KeyboardInterrupt",
     "evalue": "",
     "output_type": "error",
     "traceback": [
      "\u001b[0;31m---------------------------------------------------------------------------\u001b[0m",
      "\u001b[0;31mKeyboardInterrupt\u001b[0m                         Traceback (most recent call last)",
      "\u001b[0;32m<ipython-input-3-073e8a6c407f>\u001b[0m in \u001b[0;36m<module>\u001b[0;34m\u001b[0m\n\u001b[1;32m      4\u001b[0m \u001b[0mdata_list\u001b[0m \u001b[0;34m=\u001b[0m \u001b[0;34m[\u001b[0m\u001b[0;34m]\u001b[0m\u001b[0;34m\u001b[0m\u001b[0;34m\u001b[0m\u001b[0m\n\u001b[1;32m      5\u001b[0m \u001b[0;32mfor\u001b[0m \u001b[0mi\u001b[0m \u001b[0;32min\u001b[0m \u001b[0mrange\u001b[0m\u001b[0;34m(\u001b[0m\u001b[0mngraph\u001b[0m\u001b[0;34m)\u001b[0m\u001b[0;34m:\u001b[0m\u001b[0;34m\u001b[0m\u001b[0;34m\u001b[0m\u001b[0m\n\u001b[0;32m----> 6\u001b[0;31m     \u001b[0mG\u001b[0m\u001b[0;34m,\u001b[0m \u001b[0mdata\u001b[0m \u001b[0;34m=\u001b[0m \u001b[0mgenerate_graph\u001b[0m\u001b[0;34m(\u001b[0m\u001b[0mngraph_size\u001b[0m\u001b[0;34m[\u001b[0m\u001b[0mi\u001b[0m\u001b[0;34m]\u001b[0m\u001b[0;34m)\u001b[0m\u001b[0;34m\u001b[0m\u001b[0;34m\u001b[0m\u001b[0m\n\u001b[0m\u001b[1;32m      7\u001b[0m     \u001b[0mdata_list\u001b[0m\u001b[0;34m.\u001b[0m\u001b[0mappend\u001b[0m\u001b[0;34m(\u001b[0m\u001b[0mdata\u001b[0m\u001b[0;34m)\u001b[0m\u001b[0;34m\u001b[0m\u001b[0;34m\u001b[0m\u001b[0m\n",
      "\u001b[0;32m<ipython-input-1-be51349919d3>\u001b[0m in \u001b[0;36mgenerate_graph\u001b[0;34m(size)\u001b[0m\n\u001b[1;32m     71\u001b[0m         \u001b[0mcom_edge_list\u001b[0m \u001b[0;34m=\u001b[0m \u001b[0mgenerate_edgelist\u001b[0m\u001b[0;34m(\u001b[0m\u001b[0msize\u001b[0m\u001b[0;34m)\u001b[0m\u001b[0;34m\u001b[0m\u001b[0;34m\u001b[0m\u001b[0m\n\u001b[1;32m     72\u001b[0m         \u001b[0;32mtry\u001b[0m\u001b[0;34m:\u001b[0m\u001b[0;34m\u001b[0m\u001b[0;34m\u001b[0m\u001b[0m\n\u001b[0;32m---> 73\u001b[0;31m             \u001b[0medge_attr\u001b[0m \u001b[0;34m=\u001b[0m \u001b[0mgenerate_eAttr\u001b[0m\u001b[0;34m(\u001b[0m\u001b[0mG\u001b[0m\u001b[0;34m,\u001b[0m \u001b[0mcom_edge_list\u001b[0m\u001b[0;34m)\u001b[0m\u001b[0;34m\u001b[0m\u001b[0;34m\u001b[0m\u001b[0m\n\u001b[0m\u001b[1;32m     74\u001b[0m         \u001b[0;32mexcept\u001b[0m \u001b[0mKeyError\u001b[0m\u001b[0;34m:\u001b[0m\u001b[0;34m\u001b[0m\u001b[0;34m\u001b[0m\u001b[0m\n\u001b[1;32m     75\u001b[0m             \u001b[0;32mcontinue\u001b[0m\u001b[0;34m\u001b[0m\u001b[0;34m\u001b[0m\u001b[0m\n",
      "\u001b[0;32m<ipython-input-1-be51349919d3>\u001b[0m in \u001b[0;36mgenerate_eAttr\u001b[0;34m(G, com_edge_list)\u001b[0m\n\u001b[1;32m     44\u001b[0m \u001b[0;34m\u001b[0m\u001b[0m\n\u001b[1;32m     45\u001b[0m \u001b[0;32mdef\u001b[0m \u001b[0mgenerate_eAttr\u001b[0m\u001b[0;34m(\u001b[0m\u001b[0mG\u001b[0m\u001b[0;34m,\u001b[0m \u001b[0mcom_edge_list\u001b[0m\u001b[0;34m)\u001b[0m\u001b[0;34m:\u001b[0m\u001b[0;34m\u001b[0m\u001b[0;34m\u001b[0m\u001b[0m\n\u001b[0;32m---> 46\u001b[0;31m     \u001b[0mpath_length\u001b[0m \u001b[0;34m=\u001b[0m \u001b[0mdict\u001b[0m\u001b[0;34m(\u001b[0m\u001b[0mnx\u001b[0m\u001b[0;34m.\u001b[0m\u001b[0mall_pairs_shortest_path_length\u001b[0m\u001b[0;34m(\u001b[0m\u001b[0mG\u001b[0m\u001b[0;34m)\u001b[0m\u001b[0;34m)\u001b[0m\u001b[0;34m\u001b[0m\u001b[0;34m\u001b[0m\u001b[0m\n\u001b[0m\u001b[1;32m     47\u001b[0m     \u001b[0mmax_length\u001b[0m \u001b[0;34m=\u001b[0m \u001b[0;36m0\u001b[0m\u001b[0;34m\u001b[0m\u001b[0;34m\u001b[0m\u001b[0m\n\u001b[1;32m     48\u001b[0m     \u001b[0;32mfor\u001b[0m \u001b[0msource\u001b[0m \u001b[0;32min\u001b[0m \u001b[0mpath_length\u001b[0m\u001b[0;34m:\u001b[0m\u001b[0;34m\u001b[0m\u001b[0;34m\u001b[0m\u001b[0m\n",
      "\u001b[0;32m/opt/conda/lib/python3.7/site-packages/networkx/algorithms/shortest_paths/unweighted.py\u001b[0m in \u001b[0;36mall_pairs_shortest_path_length\u001b[0;34m(G, cutoff)\u001b[0m\n\u001b[1;32m    184\u001b[0m     \u001b[0;31m# TODO This can be trivially parallelized.\u001b[0m\u001b[0;34m\u001b[0m\u001b[0;34m\u001b[0m\u001b[0;34m\u001b[0m\u001b[0m\n\u001b[1;32m    185\u001b[0m     \u001b[0;32mfor\u001b[0m \u001b[0mn\u001b[0m \u001b[0;32min\u001b[0m \u001b[0mG\u001b[0m\u001b[0;34m:\u001b[0m\u001b[0;34m\u001b[0m\u001b[0;34m\u001b[0m\u001b[0m\n\u001b[0;32m--> 186\u001b[0;31m         \u001b[0;32myield\u001b[0m \u001b[0;34m(\u001b[0m\u001b[0mn\u001b[0m\u001b[0;34m,\u001b[0m \u001b[0mlength\u001b[0m\u001b[0;34m(\u001b[0m\u001b[0mG\u001b[0m\u001b[0;34m,\u001b[0m \u001b[0mn\u001b[0m\u001b[0;34m,\u001b[0m \u001b[0mcutoff\u001b[0m\u001b[0;34m=\u001b[0m\u001b[0mcutoff\u001b[0m\u001b[0;34m)\u001b[0m\u001b[0;34m)\u001b[0m\u001b[0;34m\u001b[0m\u001b[0;34m\u001b[0m\u001b[0m\n\u001b[0m\u001b[1;32m    187\u001b[0m \u001b[0;34m\u001b[0m\u001b[0m\n\u001b[1;32m    188\u001b[0m \u001b[0;34m\u001b[0m\u001b[0m\n",
      "\u001b[0;32m/opt/conda/lib/python3.7/site-packages/networkx/algorithms/shortest_paths/unweighted.py\u001b[0m in \u001b[0;36msingle_source_shortest_path_length\u001b[0;34m(G, source, cutoff)\u001b[0m\n\u001b[1;32m     64\u001b[0m         \u001b[0mcutoff\u001b[0m \u001b[0;34m=\u001b[0m \u001b[0mfloat\u001b[0m\u001b[0;34m(\u001b[0m\u001b[0;34m'inf'\u001b[0m\u001b[0;34m)\u001b[0m\u001b[0;34m\u001b[0m\u001b[0;34m\u001b[0m\u001b[0m\n\u001b[1;32m     65\u001b[0m     \u001b[0mnextlevel\u001b[0m \u001b[0;34m=\u001b[0m \u001b[0;34m{\u001b[0m\u001b[0msource\u001b[0m\u001b[0;34m:\u001b[0m \u001b[0;36m1\u001b[0m\u001b[0;34m}\u001b[0m\u001b[0;34m\u001b[0m\u001b[0;34m\u001b[0m\u001b[0m\n\u001b[0;32m---> 66\u001b[0;31m     \u001b[0;32mreturn\u001b[0m \u001b[0mdict\u001b[0m\u001b[0;34m(\u001b[0m\u001b[0m_single_shortest_path_length\u001b[0m\u001b[0;34m(\u001b[0m\u001b[0mG\u001b[0m\u001b[0;34m.\u001b[0m\u001b[0madj\u001b[0m\u001b[0;34m,\u001b[0m \u001b[0mnextlevel\u001b[0m\u001b[0;34m,\u001b[0m \u001b[0mcutoff\u001b[0m\u001b[0;34m)\u001b[0m\u001b[0;34m)\u001b[0m\u001b[0;34m\u001b[0m\u001b[0;34m\u001b[0m\u001b[0m\n\u001b[0m\u001b[1;32m     67\u001b[0m \u001b[0;34m\u001b[0m\u001b[0m\n\u001b[1;32m     68\u001b[0m \u001b[0;34m\u001b[0m\u001b[0m\n",
      "\u001b[0;32m/opt/conda/lib/python3.7/site-packages/networkx/algorithms/shortest_paths/unweighted.py\u001b[0m in \u001b[0;36m_single_shortest_path_length\u001b[0;34m(adj, firstlevel, cutoff)\u001b[0m\n\u001b[1;32m     90\u001b[0m             \u001b[0;32mif\u001b[0m \u001b[0mv\u001b[0m \u001b[0;32mnot\u001b[0m \u001b[0;32min\u001b[0m \u001b[0mseen\u001b[0m\u001b[0;34m:\u001b[0m\u001b[0;34m\u001b[0m\u001b[0;34m\u001b[0m\u001b[0m\n\u001b[1;32m     91\u001b[0m                 \u001b[0mseen\u001b[0m\u001b[0;34m[\u001b[0m\u001b[0mv\u001b[0m\u001b[0;34m]\u001b[0m \u001b[0;34m=\u001b[0m \u001b[0mlevel\u001b[0m  \u001b[0;31m# set the level of vertex v\u001b[0m\u001b[0;34m\u001b[0m\u001b[0;34m\u001b[0m\u001b[0m\n\u001b[0;32m---> 92\u001b[0;31m                 \u001b[0mnextlevel\u001b[0m\u001b[0;34m.\u001b[0m\u001b[0mupdate\u001b[0m\u001b[0;34m(\u001b[0m\u001b[0madj\u001b[0m\u001b[0;34m[\u001b[0m\u001b[0mv\u001b[0m\u001b[0;34m]\u001b[0m\u001b[0;34m)\u001b[0m  \u001b[0;31m# add neighbors of v\u001b[0m\u001b[0;34m\u001b[0m\u001b[0;34m\u001b[0m\u001b[0m\n\u001b[0m\u001b[1;32m     93\u001b[0m                 \u001b[0;32myield\u001b[0m \u001b[0;34m(\u001b[0m\u001b[0mv\u001b[0m\u001b[0;34m,\u001b[0m \u001b[0mlevel\u001b[0m\u001b[0;34m)\u001b[0m\u001b[0;34m\u001b[0m\u001b[0;34m\u001b[0m\u001b[0m\n\u001b[1;32m     94\u001b[0m         \u001b[0mlevel\u001b[0m \u001b[0;34m+=\u001b[0m \u001b[0;36m1\u001b[0m\u001b[0;34m\u001b[0m\u001b[0;34m\u001b[0m\u001b[0m\n",
      "\u001b[0;32m/opt/conda/lib/python3.7/_collections_abc.py\u001b[0m in \u001b[0;36mkeys\u001b[0;34m(self)\u001b[0m\n\u001b[1;32m    670\u001b[0m             \u001b[0;32mreturn\u001b[0m \u001b[0;32mTrue\u001b[0m\u001b[0;34m\u001b[0m\u001b[0;34m\u001b[0m\u001b[0m\n\u001b[1;32m    671\u001b[0m \u001b[0;34m\u001b[0m\u001b[0m\n\u001b[0;32m--> 672\u001b[0;31m     \u001b[0;32mdef\u001b[0m \u001b[0mkeys\u001b[0m\u001b[0;34m(\u001b[0m\u001b[0mself\u001b[0m\u001b[0;34m)\u001b[0m\u001b[0;34m:\u001b[0m\u001b[0;34m\u001b[0m\u001b[0;34m\u001b[0m\u001b[0m\n\u001b[0m\u001b[1;32m    673\u001b[0m         \u001b[0;34m\"D.keys() -> a set-like object providing a view on D's keys\"\u001b[0m\u001b[0;34m\u001b[0m\u001b[0;34m\u001b[0m\u001b[0m\n\u001b[1;32m    674\u001b[0m         \u001b[0;32mreturn\u001b[0m \u001b[0mKeysView\u001b[0m\u001b[0;34m(\u001b[0m\u001b[0mself\u001b[0m\u001b[0;34m)\u001b[0m\u001b[0;34m\u001b[0m\u001b[0;34m\u001b[0m\u001b[0m\n",
      "\u001b[0;31mKeyboardInterrupt\u001b[0m: "
     ]
    }
   ],
   "source": [
    "#generate random graph\n",
    "ngraph = 1000\n",
    "ngraph_size = [random.randint(20,40) for i in range(ngraph)]\n",
    "data_list = []\n",
    "for i in range(ngraph):\n",
    "    G, data = generate_graph(ngraph_size[i])\n",
    "    data_list.append(data)"
   ]
  },
  {
   "cell_type": "code",
   "execution_count": 3,
   "metadata": {},
   "outputs": [
    {
     "data": {
      "text/plain": [
       "True"
      ]
     },
     "execution_count": 3,
     "metadata": {},
     "output_type": "execute_result"
    }
   ],
   "source": [
    "torch.cuda.is_available()"
   ]
  },
  {
   "cell_type": "code",
   "execution_count": 4,
   "metadata": {},
   "outputs": [],
   "source": [
    "def generate_polygon(n, radius=1):\n",
    "    node_pos = [(radius * np.cos(2 * np.pi * i / n),\n",
    "                 radius * np.sin(2 * np.pi * i / n)) for i in range(n)]\n",
    "    x = torch.tensor(node_pos,dtype=torch.float)\n",
    "    return x\n",
    "\n",
    "def generate_randPos(n, radius=1):\n",
    "    node_pos = [(random.uniform(-1, 1),\n",
    "                 random.uniform(-1, 1)) for i in range(n)]\n",
    "    x = torch.tensor(node_pos,dtype=torch.float)\n",
    "    return x\n",
    "\n",
    "def generate_edgelist(size):\n",
    "    edge_list = []\n",
    "    for i in range(size):\n",
    "        for j in range(size):\n",
    "#             p = random.random()\n",
    "#             if p > 0.5:\n",
    "#                 edge_list.append((i,j))\n",
    "#             else:\n",
    "#                 edge_list.append((j,i))  \n",
    "            if i != j:\n",
    "                edge_list.append((i,j))\n",
    "    return edge_list\n",
    "\n",
    "def node2edge(node_pos, batch):\n",
    "    # find sizes for each graph in batch\n",
    "    graph_sizes = list(map(lambda d: d.x.size()[0], batch.to_data_list()))\n",
    "    # get split indices\n",
    "    start_idx = np.insert(np.cumsum(graph_sizes), 0, 0)\n",
    "    start_pos = []\n",
    "    end_pos = []\n",
    "    for i, num_nodes in enumerate(graph_sizes):\n",
    "        # get edge list for current graph\n",
    "        edgelist = np.array(generate_edgelist(num_nodes))\n",
    "        # get node positions for current graph\n",
    "        graph_node_pos = node_pos[start_idx[i]:start_idx[i+1]]\n",
    "        # get edge start positions for current graph\n",
    "        start_pos += [graph_node_pos[edgelist[:, 0]]]\n",
    "        # get edge end positions for current graph\n",
    "        end_pos += [graph_node_pos[edgelist[:, 1]]]\n",
    "    # concatenate the results\n",
    "    return torch.cat(start_pos, 0), torch.cat(end_pos, 0)\n",
    "\n",
    "def generate_eAttr(G, com_edge_list):\n",
    "    path_length = dict(nx.all_pairs_shortest_path_length(G))\n",
    "    max_length = 0\n",
    "    for source in path_length:\n",
    "        for target in path_length[source]:\n",
    "            if path_length[source][target] > max_length:\n",
    "                max_length = path_length[source][target]\n",
    "    L = 2/max_length\n",
    "    K = 1\n",
    "    edge_attr = []\n",
    "    for i in com_edge_list:\n",
    "        start = \"n\" + str(i[0])\n",
    "        end = \"n\" + str(i[1])\n",
    "        d = path_length[start][end]\n",
    "        l = L * d #l = L * d\n",
    "        k = K/(d**2) \n",
    "        start_degree = G.degree(start)\n",
    "#         end_degree = G.degree(end)\n",
    "        edge_attr.append([l,k,start_degree])\n",
    "    out = torch.tensor(edge_attr, dtype=torch.float)\n",
    "    return out\n",
    "\n",
    "def generate_graph(size):\n",
    "    while True:\n",
    "        G = nx.binomial_graph(size, random.uniform(0,0.2),directed=False)\n",
    "#         G = nx.random_powerlaw_tree(size,3,tries=10000)\n",
    "        com_edge_list = generate_edgelist(size)\n",
    "        try:\n",
    "            edge_attr = generate_eAttr(G, com_edge_list)\n",
    "        except KeyError:\n",
    "            continue\n",
    "        except ZeroDivisionError:\n",
    "            continue\n",
    "#         nx.write_edgelist(G, file_name, data=False)\n",
    "        edge_index = torch.tensor(com_edge_list, dtype=torch.long)\n",
    "        x = generate_randPos(size)\n",
    "        data = Data(x=x, edge_index=edge_index.t().contiguous(), edge_attr=edge_attr)\n",
    "        return G, data\n",
    "\n",
    "def generate_testgraph(size,prob):\n",
    "    while True:\n",
    "        G = nx.binomial_graph(size, prob,directed=False)\n",
    "#         G = nx.random_powerlaw_tree(size,3,tries=10000)\n",
    "        com_edge_list = generate_edgelist(size)\n",
    "        try:\n",
    "            edge_attr = generate_eAttr(G, com_edge_list)\n",
    "        except KeyError:\n",
    "            continue\n",
    "        except ZeroDivisionError:\n",
    "            continue\n",
    "#         nx.write_edgelist(G, file_name, data=False)\n",
    "        edge_index = torch.tensor(com_edge_list, dtype=torch.long)\n",
    "        x = generate_randPos(size)\n",
    "        data = Data(x=x, edge_index=edge_index.t().contiguous(), edge_attr=edge_attr)\n",
    "        return G, data\n",
    "\n",
    "class EnergyLoss(torch.nn.Module):\n",
    "    def __init__(self):\n",
    "        super().__init__()\n",
    "        \n",
    "    def forward(self, p, data_batch):\n",
    "        energy = 0\n",
    "        offset = 0\n",
    "        for data in data_batch.to_data_list():\n",
    "            edge_attr = data.edge_attr\n",
    "            n = data.x.size()[0]\n",
    "            x = p[offset:offset+n, 0]\n",
    "            y = p[offset:offset+n, 1]\n",
    "            offset += n\n",
    "            l = edge_attr[:, 0]\n",
    "            k = edge_attr[:, 1]\n",
    "            for e, (i, j) in enumerate(generate_edgelist(n)):\n",
    "                term1 = (x[i] - x[j]) ** 2\n",
    "                term2 = (y[i] - y[j]) ** 2\n",
    "                term3 = l[e] ** 2\n",
    "                term4 = 2 * l[e] * (term1 + term2).sqrt()\n",
    "                energy += k[e] / 2 * (term1 + term2 + term3 - term4)\n",
    "        return energy\n",
    "\n",
    "    \n",
    "class EnergyLossVectorized(torch.nn.Module):\n",
    "    def __init__(self):\n",
    "        super().__init__()\n",
    "        \n",
    "    def forward(self, p, data):\n",
    "        edge_attr = data.edge_attr\n",
    "        # convert per-node positions to per-edge positions\n",
    "        start, end = node2edge(p, data)\n",
    "        \n",
    "        start_x = start[:, 0]\n",
    "        start_y = start[:, 1]\n",
    "        end_x = end[:, 0]\n",
    "        end_y = end[:, 1]\n",
    "        \n",
    "        l = edge_attr[:, 0]\n",
    "        k = edge_attr[:, 1]\n",
    "        \n",
    "        term1 = (start_x - end_x) ** 2\n",
    "        term2 = (start_y - end_y) ** 2\n",
    "        term3 = l ** 2\n",
    "        term4 = 2 * l * (term1 + term2).sqrt()\n",
    "        energy = k / 2 * (term1 + term2 + term3 - term4)\n",
    "        return energy.sum()/2\n",
    "    \n",
    "def train(model, criterion, optimizer,loader,data_list):\n",
    "    model.train()\n",
    "    loss_all = 0\n",
    "    for data in loader:\n",
    "        data = data.to(device)\n",
    "        optimizer.zero_grad()\n",
    "        output = model(data)\n",
    "        loss = criterion(output,data)\n",
    "        loss.backward()\n",
    "        loss_all += data.num_graphs * loss.item()\n",
    "        optimizer.step()\n",
    "    return loss_all / len(data_list)\n",
    "\n",
    "def evaluate(model,data):\n",
    "    model.eval()\n",
    "    with torch.no_grad():\n",
    "        data = data.to(device)\n",
    "        pred = model(data).detach().cpu().numpy()\n",
    "    return pred\n",
    "\n",
    "def load_rome(ngraph):\n",
    "    files = glob.glob('../rome/*.graphml')\n",
    "    random.shuffle(files)\n",
    "    G_list = []\n",
    "    count = 0\n",
    "    for file in files:\n",
    "        G = nx.read_graphml(file)\n",
    "        G_list.append(G)\n",
    "    return G_list\n",
    "\n",
    "def graph_vis(G, node_pos, file_name):\n",
    "    i = 0\n",
    "    for n, p in node_pos:\n",
    "        node = 'n' +str(i)\n",
    "        G.nodes[node]['pos'] = (n,p)\n",
    "        i += 1\n",
    "    pos = nx.get_node_attributes(G,'pos')\n",
    "    plt.figure()\n",
    "    nx.draw(G, pos)\n",
    "    plt.savefig(file_name) \n",
    "    \n",
    "class Net(torch.nn.Module):\n",
    "    def __init__(self):\n",
    "        super(Net, self).__init__()\n",
    "        self.conv1 = NNConv(2, 16, Linear(3,2*16),aggr='mean')\n",
    "        self.conv2 = NNConv(16, 16, Linear(3, 16*16),aggr='mean')\n",
    "        self.conv3 = NNConv(4*16, 2, Linear(3, 4*16*2),aggr='mean')\n",
    "        self.relu = nn.LeakyReLU()\n",
    "#         self.conv4 = NNConv(16+32+64, 128, Linear(2, (16+32+64)*128))\n",
    "#         self.conv5 = NNConv(128,2,Linear(2,128*2))\n",
    "#         self.conv2 = NNConv(16,2,Linear(2,16*2))\n",
    "\n",
    "    def forward(self, data):\n",
    "        x, edge_index, edge_attr = data.x, data.edge_index, data.edge_attr\n",
    "\n",
    "        x1 = self.relu(self.conv1(x, edge_index, edge_attr))\n",
    "        x2 = self.relu(self.conv2(x1, edge_index, edge_attr))\n",
    "        x3 = self.relu(self.conv2(x2, edge_index, edge_attr))\n",
    "        x4 = self.relu(self.conv2(x3, edge_index, edge_attr))\n",
    "        x5 = torch.cat((x1, x2, x3, x4), dim=1)\n",
    "        x6 = self.conv3(x5, edge_index, edge_attr)\n",
    "#         x2 = F.relu(self.conv2(x1, edge_index, edge_attr))\n",
    "#         x3 = F.relu(self.conv3(x2, edge_index, edge_attr))\n",
    "        \n",
    "#         x4 = F.relu(self.conv4(x, edge_index, edge_attr))\n",
    "#         x5 = F.relu(self.conv5(x4,edge_index,edge_attr))\n",
    "        return x6\n",
    "\n",
    "\n",
    "def convert_datalist(rome,ngraph):\n",
    "    count = 0\n",
    "    data_list = []\n",
    "    G_list = []\n",
    "    for G in rome:\n",
    "        size = G.number_of_nodes()\n",
    "        com_edge_list = generate_edgelist(size)\n",
    "        try:\n",
    "            edge_attr = generate_eAttr(G, com_edge_list)\n",
    "        except KeyError:\n",
    "            continue\n",
    "        except ZeroDivisionError:\n",
    "            continue\n",
    "        edge_index = torch.tensor(com_edge_list, dtype=torch.long)\n",
    "        x = generate_randPos(size)\n",
    "        data = Data(x=x, edge_index=edge_index.t().contiguous(), edge_attr=edge_attr)\n",
    "        count += 1\n",
    "        data_list.append(data)\n",
    "        G_list.append(G)\n",
    "        if count >= ngraph:\n",
    "            return G_list,data_list\n",
    "    return G_list,data_list"
   ]
  },
  {
   "cell_type": "code",
   "execution_count": 5,
   "metadata": {
    "scrolled": true
   },
   "outputs": [],
   "source": [
    "#load specific number of graph from rome dataset\n",
    "ngraph = 1000\n",
    "rome = load_rome(ngraph)"
   ]
  },
  {
   "cell_type": "code",
   "execution_count": 6,
   "metadata": {
    "scrolled": true
   },
   "outputs": [],
   "source": [
    "G_list,data_list = convert_datalist(rome,ngraph)"
   ]
  },
  {
   "cell_type": "code",
   "execution_count": 7,
   "metadata": {},
   "outputs": [],
   "source": [
    "loader = DataLoader(data_list[:-1], batch_size=32,shuffle=True)\n",
    "loss_ep = []\n"
   ]
  },
  {
   "cell_type": "code",
   "execution_count": null,
   "metadata": {
    "scrolled": true
   },
   "outputs": [
    {
     "name": "stderr",
     "output_type": "stream",
     "text": [
      "/opt/conda/lib/python3.7/site-packages/torch/serialization.py:360: UserWarning: Couldn't retrieve source code for container of type Net. It won't be checked for correctness upon loading.\n",
      "  \"type \" + obj.__name__ + \". It won't be checked \"\n"
     ]
    }
   ],
   "source": [
    "start_epoch = 1\n",
    "num_epochs = 11000\n",
    "device = torch.device('cuda' if torch.cuda.is_available() else 'cpu')\n",
    "if start_epoch == 1:\n",
    "    model = Net().to(device)\n",
    "else:\n",
    "    model = torch.load(f'../ckpt_wd_de_mean/epoch_{start_epoch}.pt').to(device)\n",
    "criterion = EnergyLossVectorized()\n",
    "optimizer = torch.optim.AdamW(model.parameters(), lr=0.1)\n",
    "scheduler = torch.optim.lr_scheduler.StepLR(optimizer, 50, 0.9)\n",
    "for epoch in range(start_epoch, num_epochs):\n",
    "    loss = train(model, criterion, optimizer,loader,data_list)\n",
    "    loss_ep.append(loss)\n",
    "    scheduler.step()\n",
    "    if epoch % 10 == 0:\n",
    "        torch.save(model, f'../ckpt_wd_de_mean/epoch_{epoch}.pt')\n",
    "        node_pos = evaluate(model, data_list[-1])\n",
    "        graph_vis(G_list[-1], node_pos, f'../wd_de_mean/epoch_{epoch}.png')\n",
    "        print(epoch, loss, file=open(\"wd_de_mean.log\", \"a\"))"
   ]
  },
  {
   "cell_type": "code",
   "execution_count": 29,
   "metadata": {},
   "outputs": [
    {
     "name": "stdout",
     "output_type": "stream",
     "text": [
      "tensor(1.7223e+19, device='cuda:0')\n"
     ]
    }
   ],
   "source": [
    "#test\n",
    "loader = DataLoader(data_list, batch_size=1, shuffle=True)\n",
    "model = Net().to(device)\n",
    "criterion = EnergyLossVectorized()\n",
    "model.eval()\n",
    "with torch.no_grad():\n",
    "    data = next(iter(loader)).to(device)\n",
    "    pred = model(data).detach()\n",
    "    loss = criterion(pred,data)\n",
    "    print(loss)"
   ]
  },
  {
   "cell_type": "code",
   "execution_count": 62,
   "metadata": {},
   "outputs": [],
   "source": [
    "from networkx.drawing.nx_agraph import graphviz_layout, to_agraph\n",
    "import pygraphviz as pgv"
   ]
  },
  {
   "cell_type": "code",
   "execution_count": null,
   "metadata": {},
   "outputs": [],
   "source": [
    "test_name = 'rome_re_nod_mean'\n",
    "for test_idx in range(130, 1000, 10):\n",
    "    G_vis = G_list[test_idx]\n",
    "    node_pos = evaluate(model, data_list[test_idx])\n",
    "    graph_vis(G_vis, node_pos, f'{test_name}_test/model_{test_idx}.png') \n",
    "    \n",
    "    A = to_agraph(G_vis)\n",
    "    A.layout('neato')\n",
    "    A.draw(f'{test_name}_test/{test_idx}.png')"
   ]
  },
  {
   "cell_type": "code",
   "execution_count": 61,
   "metadata": {},
   "outputs": [
    {
     "name": "stderr",
     "output_type": "stream",
     "text": [
      "/opt/conda/lib/python3.7/site-packages/pygraphviz/agraph.py:1341: RuntimeWarning: Error: node n0, position (-0.02873075, -0.5133702), expected two doubles\n",
      "Error: node n2, position (0.15387438, -0.70529056), expected two doubles\n",
      "Error: node n3, position (0.16815737, -0.6805927), expected two doubles\n",
      "Error: node n35, position (-0.03802213, -0.3690682), expected two doubles\n",
      "Error: node n46, position (-0.07946339, -0.38688606), expected two doubles\n",
      "Error: node n1, position (0.48341286, 0.057617083), expected two doubles\n",
      "Error: node n55, position (0.46812585, -0.13919279), expected two doubles\n",
      "Error: node n6, position (0.21406534, -0.85265636), expected two doubles\n",
      "Error: node n14, position (0.23457836, -0.7718097), expected two doubles\n",
      "Error: node n44, position (0.25850007, -0.764943), expected two doubles\n",
      "Error: node n4, position (-0.037736565, -0.19862947), expected two doubles\n",
      "Error: node n8, position (0.11123196, -0.009732842), expected two doubles\n",
      "Error: node n51, position (0.176461, -0.13352199), expected two doubles\n",
      "Error: node n5, position (0.31458804, -0.95928514), expected two doubles\n",
      "Error: node n41, position (0.40714806, -1.0819241), expected two doubles\n",
      "Error: node n7, position (0.24072948, -0.9872739), expected two doubles\n",
      "Error: node n11, position (0.11008547, 0.10740347), expected two doubles\n",
      "Error: node n28, position (0.21974307, 0.082563356), expected two doubles\n",
      "Error: node n9, position (0.48623675, -1.2816279), expected two doubles\n",
      "Error: node n42, position (0.46969545, -1.1844236), expected two doubles\n",
      "Error: node n52, position (0.45998582, -1.3756828), expected two doubles\n",
      "Error: node n10, position (0.10382797, -0.26943937), expected two doubles\n",
      "Error: node n45, position (0.278864, -0.54613006), expected two doubles\n",
      "Error: node n50, position (-0.09614962, -0.17445081), expected two doubles\n",
      "Error: node n15, position (0.065676324, 0.2153552), expected two doubles\n",
      "Error: node n16, position (0.13232414, 0.18461384), expected two doubles\n",
      "Error: node n17, position (0.09310991, 0.21520852), expected two doubles\n",
      "Error: node n18, position (0.13491562, 0.17351897), expected two doubles\n",
      "Error: node n53, position (0.023238584, -0.04593672), expected two doubles\n",
      "Error: node n12, position (-0.04407978, 0.07045291), expected two doubles\n",
      "Error: node n13, position (-0.039551735, -0.09391447), expected two doubles\n",
      "Error: node n56, position (0.030393004, -0.17515522), expected two doubles\n",
      "Error: node n43, position (0.32400015, -0.7142777), expected two doubles\n",
      "Error: node n21, position (0.17761907, 0.07049696), expected two doubles\n",
      "Error: node n40, position (0.037569523, 0.38286394), expected two doubles\n",
      "Error: node n26, position (0.099517435, 0.117302164), expected two doubles\n",
      "Error: node n19, position (0.3143627, -0.12150247), expected two doubles\n",
      "Error: node n20, position (0.2042562, -0.07935238), expected two doubles\n",
      "Error: node n22, position (0.20687488, -0.12389964), expected two doubles\n",
      "Error: node n29, position (0.29834592, -0.37411368), expected two doubles\n",
      "Error: node n33, position (0.46088398, -0.28154176), expected two doubles\n",
      "Error: node n47, position (0.06954896, 0.17492224), expected two doubles\n",
      "Error: node n23, position (-0.16725045, -0.13316), expected two doubles\n",
      "Error: node n24, position (0.40630993, 0.3094709), expected two doubles\n",
      "Error: node n25, position (0.3241258, 0.20511843), expected two doubles\n",
      "Error: node n39, position (0.5092478, 0.36136287), expected two doubles\n",
      "Error: node n27, position (-0.009319931, -0.10420142), expected two doubles\n",
      "Error: node n49, position (0.0039539933, -0.11824125), expected two doubles\n",
      "Error: node n30, position (0.09842418, -0.33818924), expected two doubles\n",
      "Error: node n32, position (0.37996346, -0.5379849), expected two doubles\n",
      "Error: node n48, position (0.091045395, -0.29717585), expected two doubles\n",
      "Error: node n31, position (0.3881626, -0.73792773), expected two doubles\n",
      "Error: node n34, position (0.48333657, -0.47432435), expected two doubles\n",
      "Error: node n36, position (-0.254821, -0.3354275), expected two doubles\n",
      "Error: node n37, position (-0.49360496, -0.28878748), expected two doubles\n",
      "Error: node n54, position (-0.49766278, -0.30438954), expected two doubles\n",
      "Error: node n38, position (0.52496684, 0.48570824), expected two doubles\n",
      "\n",
      "  warnings.warn(b\"\".join(errors).decode(self.encoding), RuntimeWarning)\n"
     ]
    }
   ],
   "source": [
    "\n",
    "\n"
   ]
  },
  {
   "cell_type": "code",
   "execution_count": 174,
   "metadata": {},
   "outputs": [
    {
     "data": {
      "image/png": "[encoded data removed]",
      "text/plain": [
       "<Figure size 432x288 with 1 Axes>"
      ]
     },
     "metadata": {
      "needs_background": "light"
     },
     "output_type": "display_data"
    }
   ],
   "source": [
    "plt.xlabel(\"epochs\")\n",
    "plt.ylabel(\"loss\")\n",
    "plt.plot(loss_ep[:1000])\n",
    "plt.show()"
   ]
  },
  {
   "cell_type": "code",
   "execution_count": 12,
   "metadata": {
    "scrolled": true
   },
   "outputs": [
    {
     "data": {
      "text/plain": [
       "tensor([[0.4000, 0.2500, 2.0000],\n",
       "        [1.2000, 0.0278, 2.0000],\n",
       "        [0.8000, 0.0625, 2.0000],\n",
       "        ...,\n",
       "        [0.6000, 0.1111, 3.0000],\n",
       "        [1.0000, 0.0400, 3.0000],\n",
       "        [1.2000, 0.0278, 3.0000]])"
      ]
     },
     "execution_count": 12,
     "metadata": {},
     "output_type": "execute_result"
    }
   ],
   "source": []
  },
  {
   "cell_type": "code",
   "execution_count": null,
   "metadata": {},
   "outputs": [],
   "source": []
  }
 ],
 "metadata": {
  "kernelspec": {
   "display_name": "Python 3",
   "language": "python",
   "name": "python3"
  },
  "language_info": {
   "codemirror_mode": {
    "name": "ipython",
    "version": 3
   },
   "file_extension": ".py",
   "mimetype": "text/x-python",
   "name": "python",
   "nbconvert_exporter": "python",
   "pygments_lexer": "ipython3",
   "version": "3.7.6"
  }
 },
 "nbformat": 4,
 "nbformat_minor": 4
}
