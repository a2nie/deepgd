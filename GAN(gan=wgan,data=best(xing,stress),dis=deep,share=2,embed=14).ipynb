{
 "cells": [
  {
   "cell_type": "markdown",
   "metadata": {
    "id": "wZtYFEhHoBGp"
   },
   "source": [
    "# Import libraries"
   ]
  },
  {
   "cell_type": "code",
   "execution_count": 1,
   "metadata": {
    "id": "KJPfzpxLQI5O"
   },
   "outputs": [],
   "source": [
    "%load_ext autoreload\n",
    "%autoreload 2\n",
    "from deepgd import *"
   ]
  },
  {
   "cell_type": "markdown",
   "metadata": {
    "id": "z4eBEyB1oaJe"
   },
   "source": [
    "# Config"
   ]
  },
  {
   "cell_type": "code",
   "execution_count": 2,
   "metadata": {
    "id": "Q_-MLFhpNvxF"
   },
   "outputs": [],
   "source": [
    "cuda_idx = 0\n",
    "canonicalization = Canonicalization(normalize=Standardization(norm_ord=1),\n",
    "                                    scale=False)\n",
    "config = StaticConfig({\n",
    "    \"name\": 'GAN(gan=wgan,data=best(xing,stress),dis=deep,share=2,embed=14)',\n",
    "    \"uid\": None,\n",
    "    \"link\": None,\n",
    "    \"generator\": {\n",
    "        \"params\": {\n",
    "            \"num_blocks\": 9,\n",
    "            \"normalize\": canonicalization\n",
    "        },\n",
    "        \"pretrained\": {\n",
    "            \"name\": None,\n",
    "            \"epoch\": -1,\n",
    "        },\n",
    "        \"optim\": torch.optim.AdamW,\n",
    "        \"lr\" : {\n",
    "            \"initial\": 1e-3,\n",
    "            \"decay\": 0.99,\n",
    "        },\n",
    "    },\n",
    "    \"discriminator\": {\n",
    "        \"params\": {\n",
    "            \"conv\": [2, 16, 16, 16],\n",
    "            \"dense\": [2],\n",
    "            \"shared_depth\": 2,\n",
    "            \"enet_depth\": 14,\n",
    "            \"enet_width\": 64,\n",
    "            \"aggr\": \"add\",\n",
    "            \"normalize\": canonicalization\n",
    "        },\n",
    "        \"pretrained\": {\n",
    "            \"name\": None,\n",
    "            \"epoch\": -1,\n",
    "        },\n",
    "        \"optim\": torch.optim.AdamW,\n",
    "        \"lr\" : {\n",
    "            \"initial\": 1e-3,\n",
    "            \"decay\": 0.99,\n",
    "        },\n",
    "        \"noise\": {\n",
    "            \"std\": 0,\n",
    "            \"decay\": 0.95,\n",
    "        },\n",
    "        \"repeat\": 1,\n",
    "        \"complete\": True,\n",
    "        \"adaptive\": True\n",
    "    },\n",
    "    \"alternate\": \"epoch\",\n",
    "    \"batchsize\": 24,\n",
    "    \"epoch\": {\n",
    "        \"start\": -1,\n",
    "        \"end\": None,\n",
    "    },\n",
    "    \"log_interval\": 1,\n",
    "    \"test\": {\n",
    "        \"name\": \"test\",\n",
    "        \"epoch\": -1,\n",
    "    },\n",
    "    \"gan_flavor\": \"wgan\",\n",
    "    \"gp_weight\": 0,\n",
    "})\n",
    "data_config = StaticConfig({\n",
    "    \"sparse\": False,\n",
    "    \"pivot\": None,\n",
    "    \"init\": \"pmds\",\n",
    "    \"edge\": {\n",
    "        \"index\": \"full_edge_index\",\n",
    "        \"attr\": \"full_edge_attr\",\n",
    "    },\n",
    "})\n",
    "loss_fns = {\n",
    "    Stress(): 1\n",
    "}\n",
    "ctrler_params = {\n",
    "    \"tau\": 0.95,\n",
    "    \"beta\": 1,\n",
    "    \"exploit_rate\": 0.5,\n",
    "    \"warmup\": 2,\n",
    "}\n",
    "paths = StaticConfig({\n",
    "    \"root\": \"artifacts\",\n",
    "    \"checkpoints\": lambda: f\"{paths.root}/checkpoints/{config.name}\",\n",
    "    \"gen_pretrain\": lambda: f\"{paths.root}/checkpoints/{config.generator.pretrained.name}\",\n",
    "    \"dis_pretrain\": lambda: f\"{paths.root}/checkpoints/{config.discriminator.pretrained.name}\",\n",
    "    \"tensorboard\": lambda: f\"{paths.root}/tensorboards/{config.name}\",\n",
    "    \"visualization\": lambda: f\"{paths.root}/visualizations/{config.name}_{config.test.name}\",\n",
    "    \"log\": lambda: f\"{paths.root}/logs/{config.name}.log\",\n",
    "    \"metrics\": lambda suffix: f\"{paths.root}/metrics/{config.name}_{suffix}.pickle\",\n",
    "})"
   ]
  },
  {
   "cell_type": "code",
   "execution_count": 3,
   "metadata": {
    "id": "mdMEAbH10Qaq"
   },
   "outputs": [],
   "source": [
    "if \" \" in config.name:\n",
    "    raise Exception(\"Space is not allowed in model name.\")"
   ]
  },
  {
   "cell_type": "markdown",
   "metadata": {
    "id": "WynW4ZAdBhep"
   },
   "source": [
    "# Prepare"
   ]
  },
  {
   "cell_type": "markdown",
   "metadata": {
    "id": "DR6-vYtr_i_P"
   },
   "source": [
    "## Get log command"
   ]
  },
  {
   "cell_type": "code",
   "execution_count": 4,
   "metadata": {
    "colab": {
     "base_uri": "https://localhost:8080/"
    },
    "id": "9-QpinlslcTO",
    "outputId": "48ae3716-212c-4d46-9efb-b7b4070f73de"
   },
   "outputs": [
    {
     "name": "stdout",
     "output_type": "stream",
     "text": [
      "cd /users/PAS0027/osu10203/deepgd && tail -n1000 -f 'artifacts/logs/GAN(gan=wgan,data=best(xing,stress),dis=deep,share=2,embed=14).log'\n"
     ]
    }
   ],
   "source": [
    "print(f\"cd {os.getcwd()} && tail -n1000 -f '{paths.log()}'\")"
   ]
  },
  {
   "cell_type": "code",
   "execution_count": 5,
   "metadata": {},
   "outputs": [
    {
     "name": "stdout",
     "output_type": "stream",
     "text": [
      "tensorboard dev upload --logdir 'artifacts/tensorboards/GAN(gan=wgan,data=best(xing,stress),dis=deep,share=2,embed=14)'\n"
     ]
    }
   ],
   "source": [
    "print(f\"tensorboard dev upload --logdir '{paths.tensorboard()}'\")"
   ]
  },
  {
   "cell_type": "markdown",
   "metadata": {
    "id": "innqkwvH_ydD"
   },
   "source": [
    "## Set globals"
   ]
  },
  {
   "cell_type": "code",
   "execution_count": 6,
   "metadata": {
    "id": "Qjq7JlSZlkQR"
   },
   "outputs": [],
   "source": [
    "if cuda_idx is not None and torch.cuda.is_available():\n",
    "    device = f'cuda:{cuda_idx}'\n",
    "    pynvml.nvmlInit()\n",
    "    cuda = pynvml.nvmlDeviceGetHandleByIndex(cuda_idx)\n",
    "else:\n",
    "    device = 'cpu'\n",
    "    cuda =  None\n",
    "np.set_printoptions(precision=2)\n",
    "warnings.filterwarnings(\"ignore\", category=RuntimeWarning)"
   ]
  },
  {
   "cell_type": "markdown",
   "metadata": {
    "id": "0da286l_ApEL"
   },
   "source": [
    "## Load data"
   ]
  },
  {
   "cell_type": "code",
   "execution_count": 7,
   "metadata": {
    "colab": {
     "base_uri": "https://localhost:8080/"
    },
    "id": "RFuSHiZJMU4x",
    "outputId": "54065609-aaea-4536-d79c-73bc73b3f576"
   },
   "outputs": [
    {
     "name": "stdout",
     "output_type": "stream",
     "text": [
      "Load from 'cache/G_list.pickle'\n",
      "Load from 'cache/generate_data_list(list,sparse=False,pivot_mode=None,init_mode=pmds,edge_index=full_edge_index,edge_attr=full_edge_attr,pmds_list=ndarray,gviz_list=ndarray,noisy_layout=True,device=cpu).pickle'\n"
     ]
    },
    {
     "name": "stderr",
     "output_type": "stream",
     "text": [
      "/users/PAS0027/osu10203/.conda/envs/deepgd/lib/python3.9/site-packages/torch_geometric/deprecation.py:13: UserWarning: 'data.DataLoader' is deprecated, use 'loader.DataLoader' instead\n",
      "  warnings.warn(out)\n"
     ]
    }
   ],
   "source": [
    "G_list = load_G_list(data_path='data/rome', index_file='data_index.txt', cache='G_list', cache_prefix='cache/')\n",
    "data_list = generate_data_list(G_list, \n",
    "                               sparse=data_config.sparse, \n",
    "                               pivot_mode=data_config.pivot,\n",
    "                               init_mode=data_config.init,\n",
    "                               edge_index=data_config.edge.index,\n",
    "                               edge_attr=data_config.edge.attr,\n",
    "                               pmds_list=np.load('layouts/rome/pmds.npy', allow_pickle=True),\n",
    "                               gviz_list=np.load('layouts/rome/gviz.npy', allow_pickle=True),\n",
    "                               noisy_layout=True,\n",
    "                               device='cpu', \n",
    "                               cache=True,\n",
    "                               cache_prefix='cache/')\n",
    "train_loader = LazyDeviceMappingDataLoader(data_list[:10000], batch_size=config.batchsize, shuffle=True, device=device)\n",
    "val_loader = LazyDeviceMappingDataLoader(data_list[11000:], batch_size=config.batchsize, shuffle=False, device=device)"
   ]
  },
  {
   "cell_type": "code",
   "execution_count": 8,
   "metadata": {
    "id": "djd1pLt2OxZq"
   },
   "outputs": [],
   "source": [
    "def draw_layout(G, method, draw=True):\n",
    "    if method == 'fa2':\n",
    "        layout = get_fa2_layout(G)\n",
    "    else:\n",
    "        try:\n",
    "            fn = getattr(nx.drawing.layout, f'{method}_layout')\n",
    "            layout = fn(G)\n",
    "        except:\n",
    "            layout = nx.drawing.nx_agraph.graphviz_layout(G, prog=method)\n",
    "    if draw:\n",
    "        nx.draw(G, pos=layout)\n",
    "    return layout"
   ]
  },
  {
   "cell_type": "code",
   "execution_count": 9,
   "metadata": {
    "id": "2vBBw77lR7Em"
   },
   "outputs": [],
   "source": [
    "methods = ['neato', 'dot', 'fdp', 'sfdp', 'twopi', 'circo', 'shell', 'spring', 'circular', 'spectral', 'kamada_kawai', 'fa2', 'pmds']"
   ]
  },
  {
   "cell_type": "code",
   "execution_count": 10,
   "metadata": {
    "id": "dx6VVA9XIc2O"
   },
   "outputs": [],
   "source": [
    "from functools import lru_cache\n",
    "\n",
    "@lru_cache(maxsize=None)\n",
    "def load_pos(method):\n",
    "    return np.load(f'layouts/rome/{method}.npy', allow_pickle=True)"
   ]
  },
  {
   "cell_type": "code",
   "execution_count": 11,
   "metadata": {
    "colab": {
     "base_uri": "https://localhost:8080/",
     "height": 1000,
     "referenced_widgets": [
      "05a37aeeb20049dfa2f97287b3990556",
      "a75afae3adfd4810a0b0991a062535ee",
      "a24ae105ed124595992f7e2e5f909247",
      "01b4cabaf8004dd4b9269b4e6889c498",
      "f3c7c84f2b314bd8b97a7358deaf4fa1",
      "35e4a83e692b4a7bafb46fdf192b2586",
      "62847b5e2678459f845159eef6d4feab",
      "143e81f00313436dacfa246a57108944",
      "e05833f11803400b95ff22246cdc8f2b",
      "53aeede91e074378b5d7f626165655ee",
      "79a43768c1794a10a788a49e5883aa2c"
     ]
    },
    "id": "MSmP-jem9I0X",
    "outputId": "c698f0bf-e96e-4de9-aeda-0b046fc0a03f",
    "scrolled": true,
    "tags": []
   },
   "outputs": [],
   "source": [
    "# best_list = []\n",
    "# best_layout_list = []\n",
    "# for idx, (G, data) in enumerate(zip(tqdm(G_list), data_list)):\n",
    "#     xing, stress, layout = {}, {}, {}\n",
    "#     for m in methods:\n",
    "#         batch = Batch.from_data_list([data])\n",
    "#         pos = load_pos(m)\n",
    "#         p = CanonicalizationByStress()(torch.tensor(pos[idx]).float(), batch)\n",
    "#         x = Xing()(p, batch).item()\n",
    "#         s = Stress()(p, batch).item()\n",
    "#         xing[m] = x\n",
    "#         stress[m] = s\n",
    "#         layout[m] = p.numpy()\n",
    "#         # plt.figure()\n",
    "#         # graph_vis(G, pos[idx])\n",
    "#         # plt.title(f'{m} stress={s:.2f} xing={x}')\n",
    "#     best, *_ = sorted(methods, key=lambda m: (xing[m], stress[m]))\n",
    "#     best_list.append(best)\n",
    "#     best_layout_list.append(layout[best])\n",
    "#     print(f'{best}, xing={xing[best]}, stress={stress[best]:.2f}')"
   ]
  },
  {
   "cell_type": "code",
   "execution_count": 12,
   "metadata": {
    "colab": {
     "base_uri": "https://localhost:8080/"
    },
    "id": "Mx2bZNugdTqa",
    "outputId": "cec05a67-18e8-492f-aaa1-057274a8341a"
   },
   "outputs": [],
   "source": [
    "# pickle.dump(best_list, open('layouts/rome/best[xing,stress].pkl', 'wb'))\n",
    "# np.save('layouts/rome/best[xing,stress].npy', best_layout_list)"
   ]
  },
  {
   "cell_type": "code",
   "execution_count": 13,
   "metadata": {
    "colab": {
     "base_uri": "https://localhost:8080/",
     "height": 49,
     "referenced_widgets": [
      "7e0ae84dd0f3458d893c81b029fe1729",
      "18bdc3bf80fb434abde68de5b72a8870",
      "2e3552ded9594635a51832387ae754a0",
      "54f4aa5080c6498080a63be2cdeefee5",
      "3937586d0879451da5e2138ca3bfd0a0",
      "a9df6e84ce8c499eb2b2cf984995d791",
      "7af6b718dd3d4e01b264377a2fa938e2",
      "a774c86e64004bd6951645f1c24abad4",
      "c86575117cd041f2837762f37d1f387b",
      "6e9907cefb1241688fbd248b8281ed9f",
      "9b8e5405d8264944acab57e81f2f5ad6"
     ]
    },
    "id": "A1-w1fspC53p",
    "outputId": "09c2d5c3-1eef-41eb-dcee-581af1294804"
   },
   "outputs": [
    {
     "data": {
      "application/vnd.jupyter.widget-view+json": {
       "model_id": "db492af9637749cbbe31b33f04bfdcdb",
       "version_major": 2,
       "version_minor": 0
      },
      "text/plain": [
       "  0%|          | 0/11531 [00:00<?, ?it/s]"
      ]
     },
     "metadata": {},
     "output_type": "display_data"
    }
   ],
   "source": [
    "best_layout_list = np.load('layouts/rome/best[xing,stress].npy', allow_pickle=True)\n",
    "for data, layout in zip(tqdm(data_list), best_layout_list):\n",
    "    data.gt_pos = torch.tensor(layout)"
   ]
  },
  {
   "cell_type": "code",
   "execution_count": 14,
   "metadata": {
    "id": "y6EGh4U7exL_"
   },
   "outputs": [],
   "source": [
    "train_loader = LazyDeviceMappingDataLoader(data_list[:10000], batch_size=config.batchsize, shuffle=True, device=device)\n",
    "val_loader = LazyDeviceMappingDataLoader(data_list[11000:], batch_size=config.batchsize, shuffle=False, device=device)"
   ]
  },
  {
   "cell_type": "code",
   "execution_count": 15,
   "metadata": {
    "colab": {
     "base_uri": "https://localhost:8080/",
     "height": 103,
     "referenced_widgets": [
      "38a33cf69aff48f4aabd4902a7ce48b1",
      "57e277bcb44c4e2fa2a12105d75153d1",
      "20ce017c46bd4a7c9b420270ac579405",
      "13f2df4fe0ce4af88b6e3bd1637065b0",
      "2867faa145ca4860a198d4d0bf830f89",
      "02838cf669174ed9afa41a1a8e680765",
      "7e9e3c031667455f8baca163d3a213e5",
      "4000135e7dfa46529fa6244fccc5cb57",
      "e523e9faac5b4ec38643c05ac5ba99f7",
      "e8e3ee9741e4480dae5003ccc19a7891",
      "9a569045221b43acb3ba2fbf116b2c74"
     ]
    },
    "id": "YEfRRUK0NiNm",
    "outputId": "93f53d05-7667-4cda-a38e-c3a953124f79"
   },
   "outputs": [],
   "source": [
    "# for m in methods:\n",
    "#     layouts = []\n",
    "#     for G in tqdm(G_list):\n",
    "#         layout = draw_layout(G, method=m, draw=False)\n",
    "#         layouts.append(np.array(list(layout.values())))\n",
    "#     np.save(f'layouts/rome/{m}.npy', layouts)"
   ]
  },
  {
   "cell_type": "code",
   "execution_count": 16,
   "metadata": {
    "colab": {
     "base_uri": "https://localhost:8080/",
     "height": 564
    },
    "id": "upK7AHYqPmC5",
    "outputId": "29a88e61-f55f-409c-9194-12c6d5762528"
   },
   "outputs": [],
   "source": [
    "# from collections import Counter\n",
    "\n",
    "# letter_counts = Counter(best_list)\n",
    "# df = pd.DataFrame.from_dict(letter_counts, orient='index')\n",
    "# df.plot(kind='bar', figsize=[12, 8])"
   ]
  },
  {
   "cell_type": "markdown",
   "metadata": {
    "id": "f-ODE2k8BFV6"
   },
   "source": [
    "## Create folders"
   ]
  },
  {
   "cell_type": "code",
   "execution_count": 17,
   "metadata": {
    "id": "3ykUMINYBRog"
   },
   "outputs": [],
   "source": [
    "mkdirs(paths.checkpoints(), paths.tensorboard(), paths.visualization(), f\"{paths.root}/logs\", f\"{paths.root}/metrics\")"
   ]
  },
  {
   "cell_type": "markdown",
   "metadata": {
    "id": "BFq9k5nzBIh5"
   },
   "source": [
    "## Load checkpoints"
   ]
  },
  {
   "cell_type": "code",
   "execution_count": 18,
   "metadata": {
    "id": "W5NbsKkobIfA"
   },
   "outputs": [],
   "source": [
    "class EdgeFeatureDiscriminator(nn.Module):\n",
    "    def __init__(self, \n",
    "                 conv, \n",
    "                 dense,\n",
    "                 shared_depth,\n",
    "                 enet_depth,\n",
    "                 enet_width,\n",
    "                 aggr='add', \n",
    "                 root_weight=True,\n",
    "                 normalize=None):\n",
    "        super().__init__()\n",
    "        self.enet = nn.Sequential(*[\n",
    "            DenseLayer(in_dim=in_d,\n",
    "                       out_dim=out_d,\n",
    "                       skip=nonlin,\n",
    "                       bn=nonlin,\n",
    "                       act=nonlin,\n",
    "                       dp=None)\n",
    "            for in_d, out_d, nonlin \n",
    "            in zip([self._get_feature_dim()] + [enet_width] * (shared_depth-1),\n",
    "                   [enet_width] * shared_depth,\n",
    "                   [True] * (shared_depth-1) + [False])     \n",
    "        ])\n",
    "        self.blocks = nn.ModuleList([\n",
    "            GNNLayer(nfeat_dims=(in_d, out_d),\n",
    "                     efeat_dim=enet_width,\n",
    "                     edge_net=EdgeNet(nfeat_dims=(in_d, out_d), \n",
    "                                      efeat_dim=enet_width, \n",
    "                                      depth=enet_depth, \n",
    "                                      width=enet_width),\n",
    "                     aggr=aggr,\n",
    "                     dense=False,\n",
    "                     skip=nonlin,\n",
    "                     bn=nonlin,\n",
    "                     act=nonlin,\n",
    "                     root_weight=root_weight) \n",
    "            for in_d, out_d, nonlin \n",
    "            in zip(conv[:-1], conv[1:], [True] * (len(conv)-2) + [False])     \n",
    "        ])\n",
    "        self.pool = (gnn.global_mean_pool if aggr == 'mean' \n",
    "                     else gnn.global_add_pool if aggr == 'add' \n",
    "                     else None)\n",
    "        self.dense = nn.Identity() if not dense else nn.Sequential(*[\n",
    "            DenseLayer(in_dim=in_d,\n",
    "                       out_dim=out_d,\n",
    "                       skip=nonlin,\n",
    "                       bn=nonlin,\n",
    "                       act=nonlin,\n",
    "                       dp=None)\n",
    "            for in_d, out_d, nonlin \n",
    "            in zip(conv[-1:] + dense[:-1], dense, [True] * (len(dense)-1) + [False])     \n",
    "        ])\n",
    "        self.normalize = normalize or IdentityTransformation()\n",
    "    \n",
    "    def forward(self, batch):\n",
    "        x = torch.ones_like(batch.pos)\n",
    "        e = self.enet(self._get_features(self._get_edge_info(batch, layout='pos')))\n",
    "        for block in self.blocks:\n",
    "            x = block(x, e, batch)\n",
    "        x = self.pool(x, batch.batch)\n",
    "        x = self.dense(x)\n",
    "        return x\n",
    "    \n",
    "    def _get_edge_info(self, batch, layout='gt_pos'):\n",
    "        pos = self.normalize(batch[layout].float(), batch)\n",
    "        src, dst = get_edges(pos, batch)\n",
    "        v, u = l2_normalize(dst - src, return_norm=True)\n",
    "        d = batch.edge_attr[:, :1]\n",
    "        return {\n",
    "            \"src\": src,\n",
    "            \"dst\": dst,\n",
    "            \"v\": v,\n",
    "            \"u\": u,\n",
    "            \"d\": d,\n",
    "        }\n",
    "\n",
    "    def _get_features(self, edges):\n",
    "        return torch.cat([edges['src'], edges['dst'], edges['d']], dim=1)\n",
    "        \n",
    "    def _get_feature_dim(self):\n",
    "        return self._get_features({\n",
    "            \"src\": torch.zeros(1, 2),\n",
    "            \"dst\": torch.zeros(1, 2),\n",
    "            \"v\": torch.zeros(1, 2),\n",
    "            \"u\": torch.zeros(1, 1),\n",
    "            \"d\": torch.zeros(1, 1),\n",
    "        }).shape[-1]"
   ]
  },
  {
   "cell_type": "code",
   "execution_count": 19,
   "metadata": {
    "id": "96ZActxlL0fJ"
   },
   "outputs": [],
   "source": [
    "class StressDiscriminator(nn.Module):\n",
    "    def __init__(self, normalize=CanonicalizationByStress(), **kwargs):\n",
    "        super().__init__()\n",
    "        self.dummy = nn.Parameter(torch.zeros(1))\n",
    "        self.normalize = normalize\n",
    "        self.stress = Stress(reduce=None)\n",
    "\n",
    "    def forward(self, batch):\n",
    "        return -self.stress(self.normalize(batch.pos, batch), batch)"
   ]
  },
  {
   "cell_type": "code",
   "execution_count": 20,
   "metadata": {
    "id": "IJ6xCYBUuhcw"
   },
   "outputs": [],
   "source": [
    "def get_ckpt_epoch(folder, epoch):\n",
    "    if not os.path.isdir(folder):\n",
    "        os.mkdir(folder)\n",
    "    if epoch >= 0:\n",
    "        return epoch\n",
    "    ckpt_files = os.listdir(folder)\n",
    "    last_epoch = 0\n",
    "    if ckpt_files:\n",
    "        last_epoch = sorted(list(map(lambda x: int(re.search('(?<=epoch_)(\\d+)(?=\\.)', x).group(1)), ckpt_files)))[-1]\n",
    "    return last_epoch + epoch + 1\n",
    "\n",
    "def start_epoch():\n",
    "    return get_ckpt_epoch(paths.checkpoints(), config.epoch.start)"
   ]
  },
  {
   "cell_type": "code",
   "execution_count": 21,
   "metadata": {
    "colab": {
     "base_uri": "https://localhost:8080/"
    },
    "id": "JacDYXka9U01",
    "outputId": "ef4e31ab-2144-497c-8e4f-4d3740ce2d52"
   },
   "outputs": [
    {
     "name": "stdout",
     "output_type": "stream",
     "text": [
      "Loading from artifacts/checkpoints/GAN(gan=wgan,data=best(xing,stress),dis=deep,share=2,embed=14)/gen_epoch_246.pt...\n",
      "Loading from artifacts/checkpoints/GAN(gan=wgan,data=best(xing,stress),dis=deep,share=2,embed=14)/gen_optim_epoch_246.pt...\n"
     ]
    }
   ],
   "source": [
    "generator = Generator(**config.generator.params[...]).to(device)\n",
    "generator_optimizer = config.generator.optim(generator.parameters(), lr=config.generator.lr.initial * config.generator.lr.decay ** start_epoch())\n",
    "generator_scheduler = torch.optim.lr_scheduler.ExponentialLR(generator_optimizer, gamma=config.generator.lr.decay)\n",
    "if start_epoch() != 0:\n",
    "    gen_ckpt_epoch = start_epoch()\n",
    "elif config.generator.pretrained.name is not None and config.generator.pretrained.epoch != 0:\n",
    "    gen_pretrained_epoch = get_ckpt_epoch(paths.gen_pretrain(), config.generator.pretrained.epoch)\n",
    "    gen_ckpt_epoch = gen_pretrained_epoch \n",
    "else:\n",
    "    gen_ckpt_epoch = None\n",
    "if gen_ckpt_epoch is not None:\n",
    "    # Load generator\n",
    "    gen_ckpt_file = f\"{paths.checkpoints()}/gen_epoch_{gen_ckpt_epoch}.pt\"\n",
    "    print(f\"Loading from {gen_ckpt_file}...\")\n",
    "    generator.load_state_dict(torch.load(gen_ckpt_file, map_location=torch.device(device)))\n",
    "    # Load generator optimizer\n",
    "    gen_optim_ckpt_file = f\"{paths.checkpoints()}/gen_optim_epoch_{gen_ckpt_epoch}.pt\"\n",
    "    print(f\"Loading from {gen_optim_ckpt_file}...\")\n",
    "    generator_optimizer.load_state_dict(torch.load(gen_optim_ckpt_file, map_location=torch.device(device)))"
   ]
  },
  {
   "cell_type": "code",
   "execution_count": 22,
   "metadata": {
    "colab": {
     "base_uri": "https://localhost:8080/"
    },
    "id": "oWQhD7-88VXe",
    "outputId": "3ba01600-b546-4e45-a6bd-c7a65af1ae9e"
   },
   "outputs": [
    {
     "name": "stdout",
     "output_type": "stream",
     "text": [
      "Loading from artifacts/checkpoints/GAN(gan=wgan,data=best(xing,stress),dis=deep,share=2,embed=14)/dis_epoch_246.pt...\n",
      "Loading from artifacts/checkpoints/GAN(gan=wgan,data=best(xing,stress),dis=deep,share=2,embed=14)/dis_optim_epoch_246.pt...\n"
     ]
    }
   ],
   "source": [
    "discriminator = EdgeFeatureDiscriminator(**config.discriminator.params[...]).to(device)\n",
    "discriminator_optimizer = config.discriminator.optim(discriminator.parameters(), lr=config.discriminator.lr.initial * config.discriminator.lr.decay ** start_epoch())\n",
    "discriminator_scheduler = torch.optim.lr_scheduler.ExponentialLR(discriminator_optimizer, gamma=config.discriminator.lr.decay)\n",
    "if start_epoch() != 0:\n",
    "    dis_ckpt_epoch = start_epoch()\n",
    "elif config.discriminator.pretrained.name is not None and config.discriminator.pretrained.epoch != 0:\n",
    "    dis_pretrained_epoch = get_ckpt_epoch(paths.dis_pretrain(), config.discriminator.pretrained.epoch)\n",
    "    dis_ckpt_epoch = dis_pretrained_epoch # f\"{paths.dis_pretrain()}/dis_epoch_{dis_pretrained_epoch}.pt\"\n",
    "else:\n",
    "    dis_ckpt_epoch = None\n",
    "if dis_ckpt_epoch is not None:\n",
    "    # Load discriminator\n",
    "    dis_ckpt_file = f\"{paths.checkpoints()}/dis_epoch_{dis_ckpt_epoch}.pt\"\n",
    "    print(f\"Loading from {dis_ckpt_file}...\")\n",
    "    discriminator.load_state_dict(torch.load(dis_ckpt_file, map_location=torch.device(device)))\n",
    "    # Load discriminator optimizer\n",
    "    dis_optim_ckpt_file = f\"{paths.checkpoints()}/dis_optim_epoch_{dis_ckpt_epoch}.pt\"\n",
    "    print(f\"Loading from {dis_optim_ckpt_file}...\")\n",
    "    discriminator_optimizer.load_state_dict(torch.load(dis_optim_ckpt_file, map_location=torch.device(device)))"
   ]
  },
  {
   "cell_type": "markdown",
   "metadata": {
    "id": "N39dDHraedM6"
   },
   "source": [
    "# Train"
   ]
  },
  {
   "cell_type": "code",
   "execution_count": 23,
   "metadata": {
    "id": "BdIJSDSJedM-"
   },
   "outputs": [],
   "source": [
    "stress_criterion = StressDiscriminator().to(device)\n",
    "val_criterion = Stress(reduce=None)\n",
    "xing_criterion = Xing(reduce=None)\n",
    "dis_convert = DiscriminatorDataConverter(complete_graph=config.discriminator.complete, normalize=config.discriminator.params.normalize)\n",
    "tensorboard = SummaryWriter(log_dir=paths.tensorboard())\n",
    "epoch = start_epoch() + 1"
   ]
  },
  {
   "cell_type": "code",
   "execution_count": 24,
   "metadata": {
    "id": "OHRWj1h0edM-"
   },
   "outputs": [],
   "source": [
    "def gradient_penalty(interpolated, discriminator, weight=10):\n",
    "    interpolated.pos.requires_grad_()\n",
    "    prob_interpolated = discriminator(interpolated)\n",
    "    gradients = autograd.grad(outputs=prob_interpolated, \n",
    "                              inputs=interpolated.pos,\n",
    "                              grad_outputs=torch.ones_like(prob_interpolated),\n",
    "                              create_graph=True, \n",
    "                              retain_graph=True, \n",
    "                              allow_unused=True)[0]\n",
    "    gradients_norm = torch.sqrt(gnn.global_add_pool(gradients.square().sum(dim=1), batch.batch) + 1e-8)\n",
    "    return weight * ((gradients_norm - 1) ** 2).mean()"
   ]
  },
  {
   "cell_type": "code",
   "execution_count": 25,
   "metadata": {
    "id": "o5wJJN9AedM_"
   },
   "outputs": [],
   "source": [
    "def get_gp_loss(batch, fake_pos, weight):\n",
    "    if weight > 0:\n",
    "        interp = dis_convert(batch, fake_pos, random.random())\n",
    "        return gradient_penalty(interp, discriminator, weight).mean()\n",
    "    return 0"
   ]
  },
  {
   "cell_type": "code",
   "execution_count": 26,
   "metadata": {
    "id": "QwuA6sRoedM_"
   },
   "outputs": [],
   "source": [
    "def get_sgan_loss(batch, fake_pos, mode='discriminator'):\n",
    "    real = dis_convert(batch)\n",
    "    fake = dis_convert(batch, fake_pos)\n",
    "    pred = discriminator(merge_batch(real, fake)).view(2, -1).T\n",
    "    if mode == 'discriminator':\n",
    "        label = torch.zeros(pred.shape[0]).long()\n",
    "    elif mode == 'generator':\n",
    "        label = torch.ones(pred.shape[0]).long()\n",
    "    else:\n",
    "        raise Exception\n",
    "    return nn.CrossEntropyLoss()(pred, label)"
   ]
  },
  {
   "cell_type": "code",
   "execution_count": 27,
   "metadata": {
    "id": "GuAP1YchedNA"
   },
   "outputs": [],
   "source": [
    "def get_rgan_loss(batch, fake_pos, mode='discriminator'):\n",
    "    real = dis_convert(batch)\n",
    "    fake = dis_convert(batch, fake_pos)\n",
    "    pred = discriminator(merge_batch(real, fake)).view(2, -1).T\n",
    "    real_pred, fake_pred = pred[:,0], pred[:,1]\n",
    "    if mode == 'discriminator':\n",
    "        losses = - F.logsigmoid(real_pred - fake_pred)\n",
    "    elif mode == 'generator':\n",
    "        losses = - F.logsigmoid(fake_pred - real_pred)\n",
    "    else:\n",
    "        raise Exception\n",
    "    return losses.mean()"
   ]
  },
  {
   "cell_type": "code",
   "execution_count": 28,
   "metadata": {
    "id": "KFllQ7BredNA"
   },
   "outputs": [],
   "source": [
    "def get_wgan_loss(batch, fake_pos, mode='discriminator'):\n",
    "    real = dis_convert(batch)\n",
    "    fake = dis_convert(batch, fake_pos)\n",
    "    pred = discriminator(merge_batch(real, fake)).view(2, -1).T\n",
    "    real_pred, fake_pred = pred[:,0], pred[:,1]\n",
    "    if mode == 'discriminator':\n",
    "        losses = fake_pred - real_pred \n",
    "    elif mode == 'generator':\n",
    "        losses = real_pred - fake_pred\n",
    "    else:\n",
    "        raise Exception\n",
    "    return losses.mean()"
   ]
  },
  {
   "cell_type": "code",
   "execution_count": 29,
   "metadata": {
    "id": "r5Kg_tYEedNA"
   },
   "outputs": [],
   "source": [
    "def get_ragan_loss(batch, fake_pos, mode='discriminator'):\n",
    "    real = dis_convert(batch)\n",
    "    fake = dis_convert(batch, fake_pos)\n",
    "    pred = discriminator(merge_batch(real, fake)).view(2, -1).T\n",
    "    real_pred, fake_pred = pred[:,0], pred[:,1]\n",
    "    if mode == 'discriminator':\n",
    "        losses = - F.logsigmoid(real_pred - fake_pred.mean()) - F.logsigmoid(real_pred.mean() - fake_pred)\n",
    "    elif mode == 'generator':\n",
    "        losses = - F.logsigmoid(fake_pred - real_pred.mean()) - F.logsigmoid(fake_pred.mean() - real_pred)\n",
    "    else:\n",
    "        raise Exception\n",
    "    return losses.mean()"
   ]
  },
  {
   "cell_type": "code",
   "execution_count": 30,
   "metadata": {},
   "outputs": [],
   "source": [
    "def get_dgdv2_loss(batch, fake_pos, mode='discriminator'):\n",
    "    fake = dis_convert(batch, fake_pos)\n",
    "    pred = discriminator(fake)\n",
    "    if mode == 'discriminator':\n",
    "        gt = get_gt(batch, fake_pos)\n",
    "        loss = criterion(pred, gt)\n",
    "    elif mode == 'generator':\n",
    "        losses = pred.sum(dim=0)\n",
    "#         losses = torch.tensor(config.importance).to(device) * losses #/ losses.detach()\n",
    "        loss = losses.sum()\n",
    "    else:\n",
    "        raise Exception\n",
    "    return -loss"
   ]
  },
  {
   "cell_type": "code",
   "execution_count": 31,
   "metadata": {
    "id": "3IE_84f-edNB"
   },
   "outputs": [],
   "source": [
    "def get_gan_loss(batch, fake_pos, mode='discriminator'):\n",
    "    return {\"sgan\": get_sgan_loss,\n",
    "            \"wgan\": get_wgan_loss,\n",
    "            \"rgan\": get_rgan_loss,\n",
    "            \"ragan\": get_ragan_loss,\n",
    "            \"dgdv2\": get_dgdv2_loss}[config.gan_flavor](batch, fake_pos, mode)"
   ]
  },
  {
   "cell_type": "code",
   "execution_count": 32,
   "metadata": {
    "colab": {
     "background_save": true,
     "base_uri": "https://localhost:8080/",
     "height": 80
    },
    "id": "2NjekXgkedNB",
    "outputId": "da85b2ec-c0de-459c-c0dd-7ba3519419fa",
    "scrolled": true,
    "tags": []
   },
   "outputs": [
    {
     "data": {
      "application/vnd.jupyter.widget-view+json": {
       "model_id": "9519286952d8464cb2da4e094caad82c",
       "version_major": 2,
       "version_minor": 0
      },
      "text/plain": [
       "Tab(children=(VBox(children=(Wrapper(), Hud())), HBox(children=(Output(),), layout=Layout(height='500px', over…"
      ]
     },
     "metadata": {},
     "output_type": "display_data"
    },
    {
     "ename": "KeyboardInterrupt",
     "evalue": "",
     "output_type": "error",
     "traceback": [
      "\u001b[0;31m---------------------------------------------------------------------------\u001b[0m",
      "\u001b[0;31mKeyboardInterrupt\u001b[0m                         Traceback (most recent call last)",
      "\u001b[0;32m/tmp/slurmtmp.5826417/ipykernel_249930/801679965.py\u001b[0m in \u001b[0;36m<module>\u001b[0;34m\u001b[0m\n\u001b[1;32m    127\u001b[0m     \u001b[0;32mfor\u001b[0m \u001b[0m_\u001b[0m \u001b[0;32min\u001b[0m \u001b[0mrange\u001b[0m\u001b[0;34m(\u001b[0m\u001b[0mconfig\u001b[0m\u001b[0;34m.\u001b[0m\u001b[0mdiscriminator\u001b[0m\u001b[0;34m.\u001b[0m\u001b[0mrepeat\u001b[0m\u001b[0;34m)\u001b[0m\u001b[0;34m:\u001b[0m\u001b[0;34m\u001b[0m\u001b[0;34m\u001b[0m\u001b[0m\n\u001b[1;32m    128\u001b[0m         \u001b[0;32mfor\u001b[0m \u001b[0mbatch\u001b[0m \u001b[0;32min\u001b[0m \u001b[0mtrain_loader\u001b[0m\u001b[0;34m:\u001b[0m\u001b[0;34m\u001b[0m\u001b[0;34m\u001b[0m\u001b[0m\n\u001b[0;32m--> 129\u001b[0;31m             \u001b[0mtrain_dis\u001b[0m\u001b[0;34m(\u001b[0m\u001b[0mbatch\u001b[0m\u001b[0;34m,\u001b[0m \u001b[0mepoch\u001b[0m\u001b[0;34m)\u001b[0m\u001b[0;34m\u001b[0m\u001b[0;34m\u001b[0m\u001b[0m\n\u001b[0m\u001b[1;32m    130\u001b[0m             \u001b[0;32mif\u001b[0m \u001b[0mconfig\u001b[0m\u001b[0;34m.\u001b[0m\u001b[0malternate\u001b[0m \u001b[0;34m==\u001b[0m \u001b[0;34m'iteration'\u001b[0m\u001b[0;34m:\u001b[0m\u001b[0;34m\u001b[0m\u001b[0;34m\u001b[0m\u001b[0m\n\u001b[1;32m    131\u001b[0m                 \u001b[0mtrain_gen\u001b[0m\u001b[0;34m(\u001b[0m\u001b[0mbatch\u001b[0m\u001b[0;34m,\u001b[0m \u001b[0mepoch\u001b[0m\u001b[0;34m)\u001b[0m\u001b[0;34m\u001b[0m\u001b[0;34m\u001b[0m\u001b[0m\n",
      "\u001b[0;32m/tmp/slurmtmp.5826417/ipykernel_249930/801679965.py\u001b[0m in \u001b[0;36mtrain_dis\u001b[0;34m(batch, epoch)\u001b[0m\n\u001b[1;32m      5\u001b[0m     \u001b[0;32mif\u001b[0m \u001b[0mconfig\u001b[0m\u001b[0;34m.\u001b[0m\u001b[0mdiscriminator\u001b[0m\u001b[0;34m.\u001b[0m\u001b[0mnoise\u001b[0m\u001b[0;34m.\u001b[0m\u001b[0mstd\u001b[0m \u001b[0;34m>\u001b[0m \u001b[0;36m0\u001b[0m\u001b[0;34m:\u001b[0m\u001b[0;34m\u001b[0m\u001b[0;34m\u001b[0m\u001b[0m\n\u001b[1;32m      6\u001b[0m         \u001b[0mgenerator_output\u001b[0m \u001b[0;34m=\u001b[0m \u001b[0mgenerator_output\u001b[0m \u001b[0;34m+\u001b[0m \u001b[0mtorch\u001b[0m\u001b[0;34m.\u001b[0m\u001b[0mrandn_like\u001b[0m\u001b[0;34m(\u001b[0m\u001b[0mgenerator_output\u001b[0m\u001b[0;34m)\u001b[0m \u001b[0;34m*\u001b[0m \u001b[0mconfig\u001b[0m\u001b[0;34m.\u001b[0m\u001b[0mdiscriminator\u001b[0m\u001b[0;34m.\u001b[0m\u001b[0mnoise\u001b[0m\u001b[0;34m.\u001b[0m\u001b[0mstd\u001b[0m \u001b[0;34m*\u001b[0m \u001b[0mconfig\u001b[0m\u001b[0;34m.\u001b[0m\u001b[0mdiscriminator\u001b[0m\u001b[0;34m.\u001b[0m\u001b[0mnoise\u001b[0m\u001b[0;34m.\u001b[0m\u001b[0mdecay\u001b[0m \u001b[0;34m**\u001b[0m \u001b[0mepoch\u001b[0m\u001b[0;34m\u001b[0m\u001b[0;34m\u001b[0m\u001b[0m\n\u001b[0;32m----> 7\u001b[0;31m     \u001b[0mdiscriminator_loss\u001b[0m \u001b[0;34m=\u001b[0m \u001b[0mget_gan_loss\u001b[0m\u001b[0;34m(\u001b[0m\u001b[0mbatch\u001b[0m\u001b[0;34m,\u001b[0m \u001b[0mgenerator_output\u001b[0m\u001b[0;34m,\u001b[0m \u001b[0mmode\u001b[0m\u001b[0;34m=\u001b[0m\u001b[0;34m'discriminator'\u001b[0m\u001b[0;34m)\u001b[0m\u001b[0;34m\u001b[0m\u001b[0;34m\u001b[0m\u001b[0m\n\u001b[0m\u001b[1;32m      8\u001b[0m \u001b[0;34m\u001b[0m\u001b[0m\n\u001b[1;32m      9\u001b[0m     \u001b[0;31m# train discriminator\u001b[0m\u001b[0;34m\u001b[0m\u001b[0;34m\u001b[0m\u001b[0m\n",
      "\u001b[0;32m/tmp/slurmtmp.5826417/ipykernel_249930/4066978981.py\u001b[0m in \u001b[0;36mget_gan_loss\u001b[0;34m(batch, fake_pos, mode)\u001b[0m\n\u001b[1;32m      1\u001b[0m \u001b[0;32mdef\u001b[0m \u001b[0mget_gan_loss\u001b[0m\u001b[0;34m(\u001b[0m\u001b[0mbatch\u001b[0m\u001b[0;34m,\u001b[0m \u001b[0mfake_pos\u001b[0m\u001b[0;34m,\u001b[0m \u001b[0mmode\u001b[0m\u001b[0;34m=\u001b[0m\u001b[0;34m'discriminator'\u001b[0m\u001b[0;34m)\u001b[0m\u001b[0;34m:\u001b[0m\u001b[0;34m\u001b[0m\u001b[0;34m\u001b[0m\u001b[0m\n\u001b[0;32m----> 2\u001b[0;31m     return {\"sgan\": get_sgan_loss,\n\u001b[0m\u001b[1;32m      3\u001b[0m             \u001b[0;34m\"wgan\"\u001b[0m\u001b[0;34m:\u001b[0m \u001b[0mget_wgan_loss\u001b[0m\u001b[0;34m,\u001b[0m\u001b[0;34m\u001b[0m\u001b[0;34m\u001b[0m\u001b[0m\n\u001b[1;32m      4\u001b[0m             \u001b[0;34m\"rgan\"\u001b[0m\u001b[0;34m:\u001b[0m \u001b[0mget_rgan_loss\u001b[0m\u001b[0;34m,\u001b[0m\u001b[0;34m\u001b[0m\u001b[0;34m\u001b[0m\u001b[0m\n\u001b[1;32m      5\u001b[0m             \u001b[0;34m\"ragan\"\u001b[0m\u001b[0;34m:\u001b[0m \u001b[0mget_ragan_loss\u001b[0m\u001b[0;34m,\u001b[0m\u001b[0;34m\u001b[0m\u001b[0;34m\u001b[0m\u001b[0m\n",
      "\u001b[0;32m/tmp/slurmtmp.5826417/ipykernel_249930/2128097677.py\u001b[0m in \u001b[0;36mget_wgan_loss\u001b[0;34m(batch, fake_pos, mode)\u001b[0m\n\u001b[1;32m      2\u001b[0m     \u001b[0mreal\u001b[0m \u001b[0;34m=\u001b[0m \u001b[0mdis_convert\u001b[0m\u001b[0;34m(\u001b[0m\u001b[0mbatch\u001b[0m\u001b[0;34m)\u001b[0m\u001b[0;34m\u001b[0m\u001b[0;34m\u001b[0m\u001b[0m\n\u001b[1;32m      3\u001b[0m     \u001b[0mfake\u001b[0m \u001b[0;34m=\u001b[0m \u001b[0mdis_convert\u001b[0m\u001b[0;34m(\u001b[0m\u001b[0mbatch\u001b[0m\u001b[0;34m,\u001b[0m \u001b[0mfake_pos\u001b[0m\u001b[0;34m)\u001b[0m\u001b[0;34m\u001b[0m\u001b[0;34m\u001b[0m\u001b[0m\n\u001b[0;32m----> 4\u001b[0;31m     \u001b[0mpred\u001b[0m \u001b[0;34m=\u001b[0m \u001b[0mdiscriminator\u001b[0m\u001b[0;34m(\u001b[0m\u001b[0mmerge_batch\u001b[0m\u001b[0;34m(\u001b[0m\u001b[0mreal\u001b[0m\u001b[0;34m,\u001b[0m \u001b[0mfake\u001b[0m\u001b[0;34m)\u001b[0m\u001b[0;34m)\u001b[0m\u001b[0;34m.\u001b[0m\u001b[0mview\u001b[0m\u001b[0;34m(\u001b[0m\u001b[0;36m2\u001b[0m\u001b[0;34m,\u001b[0m \u001b[0;34m-\u001b[0m\u001b[0;36m1\u001b[0m\u001b[0;34m)\u001b[0m\u001b[0;34m.\u001b[0m\u001b[0mT\u001b[0m\u001b[0;34m\u001b[0m\u001b[0;34m\u001b[0m\u001b[0m\n\u001b[0m\u001b[1;32m      5\u001b[0m     \u001b[0mreal_pred\u001b[0m\u001b[0;34m,\u001b[0m \u001b[0mfake_pred\u001b[0m \u001b[0;34m=\u001b[0m \u001b[0mpred\u001b[0m\u001b[0;34m[\u001b[0m\u001b[0;34m:\u001b[0m\u001b[0;34m,\u001b[0m\u001b[0;36m0\u001b[0m\u001b[0;34m]\u001b[0m\u001b[0;34m,\u001b[0m \u001b[0mpred\u001b[0m\u001b[0;34m[\u001b[0m\u001b[0;34m:\u001b[0m\u001b[0;34m,\u001b[0m\u001b[0;36m1\u001b[0m\u001b[0;34m]\u001b[0m\u001b[0;34m\u001b[0m\u001b[0;34m\u001b[0m\u001b[0m\n\u001b[1;32m      6\u001b[0m     \u001b[0;32mif\u001b[0m \u001b[0mmode\u001b[0m \u001b[0;34m==\u001b[0m \u001b[0;34m'discriminator'\u001b[0m\u001b[0;34m:\u001b[0m\u001b[0;34m\u001b[0m\u001b[0;34m\u001b[0m\u001b[0m\n",
      "\u001b[0;32m~/.conda/envs/deepgd/lib/python3.9/site-packages/torch/nn/modules/module.py\u001b[0m in \u001b[0;36m_call_impl\u001b[0;34m(self, *input, **kwargs)\u001b[0m\n\u001b[1;32m   1049\u001b[0m         if not (self._backward_hooks or self._forward_hooks or self._forward_pre_hooks or _global_backward_hooks\n\u001b[1;32m   1050\u001b[0m                 or _global_forward_hooks or _global_forward_pre_hooks):\n\u001b[0;32m-> 1051\u001b[0;31m             \u001b[0;32mreturn\u001b[0m \u001b[0mforward_call\u001b[0m\u001b[0;34m(\u001b[0m\u001b[0;34m*\u001b[0m\u001b[0minput\u001b[0m\u001b[0;34m,\u001b[0m \u001b[0;34m**\u001b[0m\u001b[0mkwargs\u001b[0m\u001b[0;34m)\u001b[0m\u001b[0;34m\u001b[0m\u001b[0;34m\u001b[0m\u001b[0m\n\u001b[0m\u001b[1;32m   1052\u001b[0m         \u001b[0;31m# Do not call functions when jit is used\u001b[0m\u001b[0;34m\u001b[0m\u001b[0;34m\u001b[0m\u001b[0m\n\u001b[1;32m   1053\u001b[0m         \u001b[0mfull_backward_hooks\u001b[0m\u001b[0;34m,\u001b[0m \u001b[0mnon_full_backward_hooks\u001b[0m \u001b[0;34m=\u001b[0m \u001b[0;34m[\u001b[0m\u001b[0;34m]\u001b[0m\u001b[0;34m,\u001b[0m \u001b[0;34m[\u001b[0m\u001b[0;34m]\u001b[0m\u001b[0;34m\u001b[0m\u001b[0;34m\u001b[0m\u001b[0m\n",
      "\u001b[0;32m/tmp/slurmtmp.5826417/ipykernel_249930/3879066284.py\u001b[0m in \u001b[0;36mforward\u001b[0;34m(self, batch)\u001b[0m\n\u001b[1;32m     58\u001b[0m         \u001b[0;32mfor\u001b[0m \u001b[0mblock\u001b[0m \u001b[0;32min\u001b[0m \u001b[0mself\u001b[0m\u001b[0;34m.\u001b[0m\u001b[0mblocks\u001b[0m\u001b[0;34m:\u001b[0m\u001b[0;34m\u001b[0m\u001b[0;34m\u001b[0m\u001b[0m\n\u001b[1;32m     59\u001b[0m             \u001b[0mx\u001b[0m \u001b[0;34m=\u001b[0m \u001b[0mblock\u001b[0m\u001b[0;34m(\u001b[0m\u001b[0mx\u001b[0m\u001b[0;34m,\u001b[0m \u001b[0me\u001b[0m\u001b[0;34m,\u001b[0m \u001b[0mbatch\u001b[0m\u001b[0;34m)\u001b[0m\u001b[0;34m\u001b[0m\u001b[0;34m\u001b[0m\u001b[0m\n\u001b[0;32m---> 60\u001b[0;31m         \u001b[0mx\u001b[0m \u001b[0;34m=\u001b[0m \u001b[0mself\u001b[0m\u001b[0;34m.\u001b[0m\u001b[0mpool\u001b[0m\u001b[0;34m(\u001b[0m\u001b[0mx\u001b[0m\u001b[0;34m,\u001b[0m \u001b[0mbatch\u001b[0m\u001b[0;34m.\u001b[0m\u001b[0mbatch\u001b[0m\u001b[0;34m)\u001b[0m\u001b[0;34m\u001b[0m\u001b[0;34m\u001b[0m\u001b[0m\n\u001b[0m\u001b[1;32m     61\u001b[0m         \u001b[0mx\u001b[0m \u001b[0;34m=\u001b[0m \u001b[0mself\u001b[0m\u001b[0;34m.\u001b[0m\u001b[0mdense\u001b[0m\u001b[0;34m(\u001b[0m\u001b[0mx\u001b[0m\u001b[0;34m)\u001b[0m\u001b[0;34m\u001b[0m\u001b[0;34m\u001b[0m\u001b[0m\n\u001b[1;32m     62\u001b[0m         \u001b[0;32mreturn\u001b[0m \u001b[0mx\u001b[0m\u001b[0;34m\u001b[0m\u001b[0;34m\u001b[0m\u001b[0m\n",
      "\u001b[0;32m~/.conda/envs/deepgd/lib/python3.9/site-packages/torch_geometric/nn/glob/glob.py\u001b[0m in \u001b[0;36mglobal_add_pool\u001b[0;34m(x, batch, size)\u001b[0m\n\u001b[1;32m     23\u001b[0m     \"\"\"\n\u001b[1;32m     24\u001b[0m \u001b[0;34m\u001b[0m\u001b[0m\n\u001b[0;32m---> 25\u001b[0;31m     \u001b[0msize\u001b[0m \u001b[0;34m=\u001b[0m \u001b[0mint\u001b[0m\u001b[0;34m(\u001b[0m\u001b[0mbatch\u001b[0m\u001b[0;34m.\u001b[0m\u001b[0mmax\u001b[0m\u001b[0;34m(\u001b[0m\u001b[0;34m)\u001b[0m\u001b[0;34m.\u001b[0m\u001b[0mitem\u001b[0m\u001b[0;34m(\u001b[0m\u001b[0;34m)\u001b[0m \u001b[0;34m+\u001b[0m \u001b[0;36m1\u001b[0m\u001b[0;34m)\u001b[0m \u001b[0;32mif\u001b[0m \u001b[0msize\u001b[0m \u001b[0;32mis\u001b[0m \u001b[0;32mNone\u001b[0m \u001b[0;32melse\u001b[0m \u001b[0msize\u001b[0m\u001b[0;34m\u001b[0m\u001b[0;34m\u001b[0m\u001b[0m\n\u001b[0m\u001b[1;32m     26\u001b[0m     \u001b[0;32mreturn\u001b[0m \u001b[0mscatter\u001b[0m\u001b[0;34m(\u001b[0m\u001b[0mx\u001b[0m\u001b[0;34m,\u001b[0m \u001b[0mbatch\u001b[0m\u001b[0;34m,\u001b[0m \u001b[0mdim\u001b[0m\u001b[0;34m=\u001b[0m\u001b[0;36m0\u001b[0m\u001b[0;34m,\u001b[0m \u001b[0mdim_size\u001b[0m\u001b[0;34m=\u001b[0m\u001b[0msize\u001b[0m\u001b[0;34m,\u001b[0m \u001b[0mreduce\u001b[0m\u001b[0;34m=\u001b[0m\u001b[0;34m'add'\u001b[0m\u001b[0;34m)\u001b[0m\u001b[0;34m\u001b[0m\u001b[0;34m\u001b[0m\u001b[0m\n\u001b[1;32m     27\u001b[0m \u001b[0;34m\u001b[0m\u001b[0m\n",
      "\u001b[0;31mKeyboardInterrupt\u001b[0m: "
     ]
    }
   ],
   "source": [
    "def train_dis(batch, epoch):\n",
    "    generator.requires_grad_(False)\n",
    "    discriminator.zero_grad()\n",
    "    generator_output = generator(batch)\n",
    "    if config.discriminator.noise.std > 0:\n",
    "        generator_output = generator_output + torch.randn_like(generator_output) * config.discriminator.noise.std * config.discriminator.noise.decay ** epoch\n",
    "    discriminator_loss = get_gan_loss(batch, generator_output, mode='discriminator')\n",
    "    \n",
    "    # train discriminator\n",
    "    discriminator_loss.backward()\n",
    "    discriminator_optimizer.step()\n",
    "\n",
    "    # gradient penalty\n",
    "    if config.gp_weight > 0:\n",
    "        discriminator.zero_grad()\n",
    "        gp_loss = get_gp_loss(batch, generator_output, config.gp_weight)\n",
    "        gp_loss.backward()\n",
    "        discriminator_optimizer.step()\n",
    "\n",
    "    hud['dis_loss'] = format(discriminator_loss.item(), '.2e')\n",
    "    pbar().update()\n",
    "\n",
    "def train_gen(batch, epoch):\n",
    "    generator.requires_grad_(True)\n",
    "    generator.zero_grad()\n",
    "    discriminator.zero_grad()\n",
    "    generator_output = generator(batch)\n",
    "    if config.discriminator.noise.std > 0:\n",
    "        generator_output = generator_output + torch.randn_like(generator_output) * config.discriminator.noise.std * config.discriminator.noise.decay ** epoch\n",
    "    generator_loss = get_gan_loss(batch, generator_output, mode='generator') \n",
    "    \n",
    "    #train generator\n",
    "    generator_loss.backward()\n",
    "    generator_optimizer.step()\n",
    "\n",
    "    with torch.no_grad():\n",
    "        dis_batch = dis_convert(batch, generator_output)\n",
    "        stress = stress_criterion(dis_batch).mean()\n",
    "        critic = discriminator(dis_batch).mean()\n",
    "    hud.append({'gen_loss': format(generator_loss.item(), '.2e'),\n",
    "                'stress': format(stress.item(), '.2e'),\n",
    "                'critic': format(critic.item(), '.2e')})\n",
    "    pbar().update()\n",
    "\n",
    "def cuda_memsafe_map(fn, *iterables, summary=False):\n",
    "    total, failed = 0, 0\n",
    "    iterator = zip(*iterables)\n",
    "    items = None\n",
    "    while True:\n",
    "        try:\n",
    "            items = next(iterator)\n",
    "            yield fn(*items)\n",
    "        except StopIteration:\n",
    "            if summary:\n",
    "                print(f'Iteration finished. {failed} out of {total} failed!')\n",
    "            break\n",
    "        except RuntimeError:\n",
    "            print('CUDA memory overflow! Skip batch...')\n",
    "            del items\n",
    "            failed += 1\n",
    "        torch.cuda.empty_cache()\n",
    "        total += 1\n",
    "    \n",
    "def validate(model, data_loader, criterion=val_criterion):\n",
    "    def val_one_batch(batch):\n",
    "        batch = preprocess_batch(model, batch)\n",
    "        pred = CanonicalizationByStress()(model(batch), batch)\n",
    "        gt = CanonicalizationByStress()(batch.gt_pos, batch)\n",
    "        loss = criterion(pred, batch)\n",
    "        gt_loss = criterion(gt, batch)\n",
    "        spc = (loss - gt_loss) / torch.maximum(torch.maximum(loss, gt_loss), torch.ones_like(loss)*1e-5)\n",
    "        return loss.mean().item(), spc.mean().item()\n",
    "    loss_all, spc_all = zip(*cuda_memsafe_map(val_one_batch, data_loader))\n",
    "    return np.mean(loss_all), np.mean(spc_all)\n",
    "\n",
    "def log(msg):\n",
    "    msg = f\"[{epoch:03}] {msg}\"\n",
    "    print(msg, file=open(paths.log(), \"a\"))\n",
    "    with log_out: \n",
    "        print(msg)\n",
    "\n",
    "print(f\"{'='*10} {config.link} {'='*10}\", file=open(paths.log(), \"a\"))\n",
    "hud = Hud()\n",
    "pbar = Wrapper(tqdm, total=len(train_loader)*2, smoothing=0)\n",
    "plot_out = Output()\n",
    "log_out = Output()\n",
    "tabs = {\"status\": VBox([pbar, hud]), \n",
    "        \"plot\": HBox([plot_out], layout=Layout(height='500px', overflow_y='auto')),\n",
    "        \"log\": HBox([log_out], layout=Layout(height='500px', overflow_y='auto'))}\n",
    "tab_bar = Tab(children=list(tabs.values()))\n",
    "[tab_bar.set_title(i, name) for i, name in enumerate(tabs)]\n",
    "display(tab_bar)\n",
    "while True:\n",
    "    if epoch % config.log_interval == 0:\n",
    "        torch.save(generator.state_dict(), f\"{paths.checkpoints()}/gen_epoch_{epoch}.pt\")\n",
    "        torch.save(generator_optimizer.state_dict(), f\"{paths.checkpoints()}/gen_optim_epoch_{epoch}.pt\")\n",
    "        torch.save(discriminator.state_dict(), f\"{paths.checkpoints()}/dis_epoch_{epoch}.pt\")\n",
    "        torch.save(discriminator_optimizer.state_dict(), f\"{paths.checkpoints()}/dis_optim_epoch_{epoch}.pt\")\n",
    "        generator.eval()\n",
    "        with torch.no_grad():\n",
    "            val_stress, val_stress_spc = validate(model=generator, data_loader=val_loader)\n",
    "            val_xing, val_xing_spc = validate(model=generator, data_loader=val_loader, criterion=xing_criterion)\n",
    "            with plot_out:\n",
    "                fig = plt.figure()\n",
    "                graph_vis(G_list[11100], generator(make_batch(data_list[11100]).to(device)).cpu())\n",
    "                plt.show()\n",
    "        # tensorboard.add_scalars('loss', {'train': train_loss, \n",
    "        #                                  'validation': val_loss}, epoch)\n",
    "        # for i, fn in enumerate(loss_fns):\n",
    "        #     tensorboard.add_scalars(type(fn).__name__, {'train': train_loss_comp[i].item(), \n",
    "        #                                           'validation': val_loss_comp[i].item()}, epoch)\n",
    "        hud.append({\n",
    "            'val_stress': format(val_stress, '.2f'),\n",
    "            'val_stress_spc': format(val_stress_spc, '.2%'),\n",
    "            'val_xing': format(val_xing, '.2f'),\n",
    "            'val_xing_spc': format(val_xing_spc, '.2%'),\n",
    "        })\n",
    "        log(f\"stress={hud.data['val_stress']}({hud.data['val_stress_spc']}) xing={hud.data['val_xing']}({hud.data['val_xing_spc']})\")\n",
    "        \n",
    "    # handle.update(tab_bar)\n",
    "    pbar().reset()\n",
    "    pbar().set_description(desc=f\"[epoch {epoch}/{config.epoch.end}]\")\n",
    "    hud(title=f\"epoch {epoch}\")\n",
    "    generator.train()\n",
    "    discriminator.train()\n",
    "    # proper: proper layout\n",
    "    for _ in range(config.discriminator.repeat):\n",
    "        for batch in train_loader:\n",
    "            train_dis(batch, epoch)\n",
    "            if config.alternate == 'iteration':\n",
    "                train_gen(batch, epoch)\n",
    "\n",
    "    if config.alternate == 'epoch':\n",
    "        for batch in train_loader:\n",
    "            train_gen(batch, epoch)\n",
    "\n",
    "    discriminator_scheduler.step()\n",
    "    generator_scheduler.step()\n",
    "\n",
    "    if epoch == config.epoch.end:\n",
    "        break\n",
    "    epoch += 1"
   ]
  },
  {
   "cell_type": "markdown",
   "metadata": {
    "id": "0qYK_X_hrq9o"
   },
   "source": [
    "# Test"
   ]
  },
  {
   "cell_type": "code",
   "execution_count": 33,
   "metadata": {
    "colab": {
     "base_uri": "https://localhost:8080/"
    },
    "id": "XEvmAtNjWhcY",
    "outputId": "9f4c86a4-a4b0-48f1-cb58-ab3679173184"
   },
   "outputs": [
    {
     "name": "stdout",
     "output_type": "stream",
     "text": [
      "Loading from artifacts/checkpoints/GAN(gan=wgan,data=best(xing,stress),dis=deep,share=2,embed=14)/gen_epoch_248.pt...\n"
     ]
    },
    {
     "data": {
      "text/plain": [
       "<All keys matched successfully>"
      ]
     },
     "execution_count": 33,
     "metadata": {},
     "output_type": "execute_result"
    }
   ],
   "source": [
    "test_epoch = -1\n",
    "\n",
    "test_generator = Generator(**config.generator.params[...]).to(device)\n",
    "test_ckpt_epoch = get_ckpt_epoch(paths.checkpoints(), test_epoch)\n",
    "test_ckpt_file = f\"{paths.checkpoints()}/gen_epoch_{test_ckpt_epoch}.pt\"\n",
    "print(f\"Loading from {test_ckpt_file}...\")\n",
    "test_generator.load_state_dict(torch.load(test_ckpt_file, map_location=torch.device(device)))"
   ]
  },
  {
   "cell_type": "code",
   "execution_count": 34,
   "metadata": {
    "colab": {
     "background_save": true,
     "base_uri": "https://localhost:8080/",
     "height": 1000,
     "referenced_widgets": [
      "9b7d18992dbf4a84931f916fbaaa37d8",
      "2c664d7e1e6d474fb87094fc0da270d3",
      "d375f5f82a4645d7b29c541596dc1c7f",
      "ecfa311bb06b4f6fa504598263ff69d3",
      "d1859990877149eab2b414b4e2a0e0c7",
      "d2be6733734844bca3e1db9b49eb1c1e",
      "4d98072bdf674792a13d77e85dd285d1",
      "f7ed92c383d741a0a1cef2536ff2db13",
      "2ba110f835c64ec4b82974996aed10af",
      "09397ceac9014af0aebca848d4d96d48",
      "fd0709f48d6c4527bc00b5f407f3c1b9"
     ]
    },
    "id": "ZubmSTcYrq9o",
    "outputId": "fc2f65a2-2085-43ac-b110-cbfe742318a8",
    "scrolled": true,
    "tags": []
   },
   "outputs": [
    {
     "data": {
      "application/vnd.jupyter.widget-view+json": {
       "model_id": "4439812a59aa44e68d94f557eb9c4258",
       "version_major": 2,
       "version_minor": 0
      },
      "text/plain": [
       "  0%|          | 0/1000 [00:00<?, ?it/s]"
      ]
     },
     "metadata": {},
     "output_type": "display_data"
    }
   ],
   "source": [
    "rotate = RotateByPrincipalComponents()\n",
    "def test_callback(*, idx, pred, metrics):\n",
    "    # graph_vis(G_list[idx], pred, file_name=f\"{paths.visualization()}/{idx}_{metrics['stress']:.2f}_{metrics['resolution_score']:.2f}.png\")\n",
    "    pred = rotate(torch.tensor(pred), data_list[idx])\n",
    "    graph_vis(G_list[idx], pred)\n",
    "    plt.title(f\"[pred] idx: {idx}, stress: {metrics['stress']:.2f}({metrics['stress_spc']:.2%}), xing: {metrics['xing']:.2f}({metrics['xing_spc']:.2%})\")\n",
    "    plt.show()\n",
    "    gt_pos = rotate(data_list[idx].gt_pos, data_list[idx])\n",
    "    graph_vis(G_list[idx], gt_pos, node_color='orange')\n",
    "    plt.title(f\"[gt] idx: {idx}, stress: {metrics['gt_stress']:.2f}, xing: {metrics['gt_xing']:.2f}\")\n",
    "    plt.show()\n",
    "    \n",
    "test_metrics = test(model=test_generator, \n",
    "                    criteria_list=[], \n",
    "                    dataset=data_list, \n",
    "                    idx_range=range(10000, 11000), \n",
    "#                     callback=test_callback,\n",
    "                    gt_pos=None)\n",
    "pickle.dump(test_metrics, open(paths.metrics(\"test\"), \"wb\"))"
   ]
  },
  {
   "cell_type": "code",
   "execution_count": 35,
   "metadata": {
    "colab": {
     "base_uri": "https://localhost:8080/",
     "height": 318
    },
    "id": "t2rFXIr_PsrJ",
    "outputId": "6a4205b1-4630-4de4-ec72-bdba3d3ea114"
   },
   "outputs": [
    {
     "name": "stdout",
     "output_type": "stream",
     "text": [
      "stress: tensor(413.8699)\n",
      "stress_spc: tensor(0.2443, dtype=torch.float64)\n",
      "xing: tensor(33.0050)\n",
      "xing_spc: tensor(0.2808, dtype=torch.float64)\n",
      "l1_angle: tensor(88.9134)\n",
      "l1_angle_spc: tensor(0.1355, dtype=torch.float64)\n",
      "edge: tensor(0.2961)\n",
      "edge_spc: tensor(0.4818, dtype=torch.float64)\n",
      "ring: tensor(279.5657)\n",
      "ring_spc: tensor(0.0724, dtype=torch.float64)\n",
      "tsne: tensor(0.2379)\n",
      "tsne_spc: tensor(0.1953, dtype=torch.float64)\n",
      "reso_score: tensor(0.5661)\n",
      "min_angle: tensor(3.8514)\n"
     ]
    },
    {
     "data": {
      "text/html": [
       "<style type=\"text/css\">\n",
       "</style>\n",
       "<table id=\"T_80207_\">\n",
       "  <thead>\n",
       "    <tr>\n",
       "      <th class=\"blank level0\" >&nbsp;</th>\n",
       "      <th class=\"col_heading level0 col0\" >stress</th>\n",
       "      <th class=\"col_heading level0 col1\" >stress_spc</th>\n",
       "      <th class=\"col_heading level0 col2\" >xing</th>\n",
       "      <th class=\"col_heading level0 col3\" >xing_spc</th>\n",
       "      <th class=\"col_heading level0 col4\" >l1_angle</th>\n",
       "      <th class=\"col_heading level0 col5\" >l1_angle_spc</th>\n",
       "      <th class=\"col_heading level0 col6\" >edge</th>\n",
       "      <th class=\"col_heading level0 col7\" >edge_spc</th>\n",
       "      <th class=\"col_heading level0 col8\" >ring</th>\n",
       "      <th class=\"col_heading level0 col9\" >ring_spc</th>\n",
       "      <th class=\"col_heading level0 col10\" >tsne</th>\n",
       "      <th class=\"col_heading level0 col11\" >tsne_spc</th>\n",
       "      <th class=\"col_heading level0 col12\" >reso_score</th>\n",
       "      <th class=\"col_heading level0 col13\" >min_angle</th>\n",
       "    </tr>\n",
       "  </thead>\n",
       "  <tbody>\n",
       "    <tr>\n",
       "      <th id=\"T_80207_level0_row0\" class=\"row_heading level0 row0\" >0</th>\n",
       "      <td id=\"T_80207_row0_col0\" class=\"data row0 col0\" >413.87</td>\n",
       "      <td id=\"T_80207_row0_col1\" class=\"data row0 col1\" >24.43%</td>\n",
       "      <td id=\"T_80207_row0_col2\" class=\"data row0 col2\" >33.01</td>\n",
       "      <td id=\"T_80207_row0_col3\" class=\"data row0 col3\" >28.08%</td>\n",
       "      <td id=\"T_80207_row0_col4\" class=\"data row0 col4\" >88.91</td>\n",
       "      <td id=\"T_80207_row0_col5\" class=\"data row0 col5\" >13.55%</td>\n",
       "      <td id=\"T_80207_row0_col6\" class=\"data row0 col6\" >0.30</td>\n",
       "      <td id=\"T_80207_row0_col7\" class=\"data row0 col7\" >48.18%</td>\n",
       "      <td id=\"T_80207_row0_col8\" class=\"data row0 col8\" >279.57</td>\n",
       "      <td id=\"T_80207_row0_col9\" class=\"data row0 col9\" >7.24%</td>\n",
       "      <td id=\"T_80207_row0_col10\" class=\"data row0 col10\" >0.24</td>\n",
       "      <td id=\"T_80207_row0_col11\" class=\"data row0 col11\" >19.53%</td>\n",
       "      <td id=\"T_80207_row0_col12\" class=\"data row0 col12\" >0.57</td>\n",
       "      <td id=\"T_80207_row0_col13\" class=\"data row0 col13\" >3.85</td>\n",
       "    </tr>\n",
       "  </tbody>\n",
       "</table>\n"
      ],
      "text/plain": [
       "<pandas.io.formats.style.Styler at 0x2ad1464fabe0>"
      ]
     },
     "execution_count": 35,
     "metadata": {},
     "output_type": "execute_result"
    }
   ],
   "source": [
    "metrics = test_metrics\n",
    "print('stress:', metrics['stress'].mean())\n",
    "print('stress_spc:', metrics['stress_spc'].mean())\n",
    "print('xing:', metrics['xing'].mean())\n",
    "print('xing_spc:', metrics['xing_spc'].mean())\n",
    "print('l1_angle:', metrics['l1_angle'].mean())\n",
    "print('l1_angle_spc:', metrics['l1_angle_spc'].mean())\n",
    "print('edge:', metrics['edge'].mean())\n",
    "print('edge_spc:', metrics['edge_spc'].mean())\n",
    "print('ring:', metrics['ring'].mean())\n",
    "print('ring_spc:', metrics['ring_spc'].mean())\n",
    "print('tsne:', metrics['tsne'].mean())\n",
    "print('tsne_spc:', metrics['tsne_spc'].mean())\n",
    "print('reso_score:', metrics['resolution_score'].mean())\n",
    "print('min_angle:', metrics['min_angle'].mean())\n",
    "columns = [\n",
    "    'stress',\n",
    "    'stress_spc',\n",
    "    'xing',\n",
    "    'xing_spc',\n",
    "    'l1_angle',\n",
    "    'l1_angle_spc',\n",
    "    'edge',\n",
    "    'edge_spc',\n",
    "    'ring',\n",
    "    'ring_spc',\n",
    "    'tsne',\n",
    "    'tsne_spc',\n",
    "    'reso_score',\n",
    "    'min_angle'\n",
    "]\n",
    "df = pd.DataFrame(map(lambda m: metrics[m].mean().item(), list(metrics.keys())[:-1])).set_axis(columns).T\n",
    "df.style.format({c: \"{:.2f}\" for c in columns if 'spc' not in c} | {c: \"{:.2%}\" for c in columns if 'spc' in c})"
   ]
  },
  {
   "cell_type": "code",
   "execution_count": 36,
   "metadata": {
    "id": "5e7vPr0M3mmG"
   },
   "outputs": [],
   "source": [
    "metrics = {}"
   ]
  },
  {
   "cell_type": "code",
   "execution_count": 37,
   "metadata": {},
   "outputs": [],
   "source": [
    "methods = ['fa2']"
   ]
  },
  {
   "cell_type": "code",
   "execution_count": 38,
   "metadata": {
    "colab": {
     "base_uri": "https://localhost:8080/",
     "height": 433,
     "referenced_widgets": [
      "a0cf6e046add4e639e52db69656e0db9",
      "8e237731bb1241ac858581b25389c012",
      "0891547293ad4211a138a4d92e01bb0b",
      "34912c8e581e47a99a1c4829c38cb75c",
      "5aa034c99c94424e835a2ee954b829ed",
      "248f6393eff74c3eb8740ca6d698045b",
      "686687a29c7f4ec98c4d76ca2062b14b",
      "996a84d1c23b47e4a2af252c6b60f55d",
      "3507f883bb954412b21c1c5641763ed7",
      "9582a849d91e457cadd514c95d6e1b5b",
      "52bfe674c2c547e09b7400a32a96f703",
      "93d58b3a12394fe1aa6f0431fc7cb0db",
      "af1d7855c9d646b0bcc7d95c4cb147a6",
      "f820e2b898cd461da04a4f651d27273d",
      "c0a112cfaa3d4d0aa9530372de84d8fb",
      "fd03985495694fbf9feb3f31ef8d18ce",
      "e02a2b36aa4c4d6fb5d2ac6693c1a927",
      "06f388ff5e3a48828d465096fe69977b",
      "c0052778c9c940e88935593e9f94b83b",
      "99a5e77a192d4a989c4534237eb16730",
      "77c6da092a6647fc9e54f7e276d75616",
      "8c13c0e8b5934117a662a78296bcb1b6",
      "cdcc3bd4235247b48c468c0f6b7682cc",
      "a2c6fa6fef4549cc853fa93b4b18cf95",
      "15cc02a756314083801b5f6798a1948c",
      "24d1c67fe52f452ab0c767e3c1a818aa",
      "c117db25c6fd484a9d0c7f210ccb1ade",
      "b090b60b61084cf692b3066dfac7f0a8",
      "5eab9848059c491b9c6cbac88683f025",
      "e87ffbaa1f204b52b9226337a506b040",
      "cf52198a9e4b46c7b49537a79919c09e",
      "51501227bc064ccbab97c22a679a0750",
      "d1b794a997dc457888a90bf44faee9b4",
      "21a755b50e5047bea797eccf24b35a0c",
      "16e78c3823ec4faf9f9cd9095b218ff5",
      "4ccd332c6b734acd8eff236eaf568dfa",
      "bd60fd13748347e48629df78fa455765",
      "e9187e4ba80b4fafa0334dae2e39aded",
      "4c39ec7c92b4402e8eedcb27beabaab1",
      "59a8194269f943bba571f710ad856973",
      "8e41bc25b9f348b1b85b381547cd60d1",
      "34d0f1529e64437fb25e639b41096072",
      "7e832c7543df43668eb72c0aa6356349",
      "f94162c9c5fe4c2581e3b80beaeb820b",
      "0284946fccf34607b25e1d6d81d4f72a",
      "8e8d4243a3624ba58d760bdf601d5126",
      "b1f0932594fe44f4be4beb8880172871",
      "820bb554d139437b8f6a6997f9002261",
      "459e375d1fe4497cb4197ef88e303c6d",
      "5726814966da46bbba942a114de4b319",
      "448beea5445f4642809801da46aa7e7c",
      "3746c0f0daf04f51805b4c95db20063a",
      "2ff74d1c705348438a32da37910c3300",
      "52f03147b5ab4cb390f9802b7a17a508",
      "5428511d652a47348203e8f3cd2e076d",
      "7b58569bee2e44c5a61a81f9a32c4c01",
      "c5e05d74b9404333a8155304e3497ba2",
      "3ad4e058bde44d87abab780368d49118",
      "8e437049b5c74ff1beddad93e30b19aa",
      "0c61377f4cc34b27ae34bdd6d976d868",
      "9ce35f9a9a23436ea77604513b5c4659",
      "dafbc43ad79c4feda093aefe490fc4b3",
      "497160b6bf80469a89680a03a468c8bb",
      "3265725ecb914981b6f07f68b8a582df",
      "1f0ac20d99d04ffb9ee75613526d3de6",
      "dee0e5716560483b8e2b107566439d94",
      "ca99841a1abd4fbd94927c49aaa711cb",
      "163a44ff1be04583ae7bd62726c55204",
      "f3b727045a0b4b4fabd147ec9c843e14",
      "7c4b4fe859cf48ab99b7e2780a24a539",
      "d9700cffab66480cb81e3722faab4e8b",
      "2c49acc1e0a64aa4b8ec461b0596848e",
      "691817157f43412f9c36002167606b75",
      "d0ae688d71734b56bb348de54e841798",
      "07a364ebcdaa491dbcc2304e4a8dae96",
      "538b277307b1449eaa79a2a91b4741d3",
      "f7b7dd4cbaa5468687b988c5e416a154",
      "877be862a4f045ec8b221097626becb5",
      "1bf37012df0844338ac689d4f6cc8eab",
      "33fe06641be544d3aab2c25cb979416f",
      "68de0d9261fa4e6999967b6f196d149c",
      "7017c5ba1ffc467495aca2689e516f7d",
      "e0997460cc21428695a0c278c6691baf",
      "522443bef4904996b6361ea265c4c56f",
      "dfe044b67917466f971ba84a11956d5e",
      "70b2d0ba1c1d4102841fb963480de1c7",
      "7b158daacd754a40bc0a48fc9ea6fea2",
      "8904f61ff30741e488eacf0e49440f66",
      "685dee6f1e1f4c2983d2d0b8eb90ed00",
      "005155a4d62d48cbbaf3d69614b08d81",
      "d2779dfa620041e4b32a7731926a5982",
      "53048bf27cb24080b4cdf20379302223",
      "0b5bff7794a14a20964da70b87158c2c",
      "ec664e55ea16435590393ae1617cccea",
      "f10d62ef464a45a7935610d869c282e3",
      "5e7c09bc35db4a3a8b9847c6d8478883",
      "987ea331b617446facc81b08bab1f8c4",
      "446c5a687b0d43358ab036d43ce281c3",
      "d89e216f62ae4a9999da1a91dd5e48b9",
      "09d03e7e66f54cafacefbfeda5fd6e5c",
      "d58c680562a44bbd9252e7ec6eebc06c",
      "71ea2594fdd942acac1cc61055438544",
      "fecda4df301b437f9fbfb61a7b593dc0",
      "bcf6741d926248cb92acf627d6557d2b",
      "5bd9868b9bda4f68b500a43916e2d148",
      "4bc5e02035de44ad827c4f881fd75afc",
      "7d80033a955e4feb947ca9cea931d90b",
      "e975c796d80d498992a50f87a2b0105c",
      "028b2ff105904a19a9a3e8ebf66967bb",
      "10dbf2cbdb1943eda6a0acaf5da3fe85",
      "14d59c7acc5e4e07a289db44406a4851",
      "d9447df93d714907bc9c768eb4910352",
      "d4a9ace081bf488680a7e43e0eaed71d",
      "022a60cde19546bfa6ecfb4947615ad9",
      "10c01207d9ba4fe197dc80717fceecc0",
      "f4995936570d4ba1a65e9a66e410b505",
      "b4bf66303e61491385cd616076a11c04",
      "a24ab2bfe7a44263bf60936d6e53ec32",
      "59e2e8ecc9f84d57af7bf44f5bba5df7",
      "be2eb92aab8045a99fd19195c3546b60",
      "e6715db2b048434796e910952cb5eb62",
      "8de2335007ba4a6b9935fa0c514c9f6a",
      "493a4bbe8057437a8c8acf4d03f8dcb0",
      "20b03955acc74e238695717124705520",
      "a89f9507496b4cf8bdd63bdb9bff79c4",
      "9752a1f6c8b6488d9628b8e0c023f10f",
      "61a0bebc687341a7bb3352febc8d4986",
      "07e0ff9c82a444788c60edee70688ca7",
      "4427901f35e54cc48e08527bb402c22a",
      "bd9dafb825954091ba975d71ab8c89ea",
      "7ec0f07bfe51484da38c18dc66d77804",
      "03943afebc4d4b668b54c7a0fd014a37",
      "a7a6b38a76424d738146b6a5786cf2c8",
      "1d1aa4729784470584c0001c1a296008",
      "e0c68ac9b5b442eeb77e6d9ea3c1da42",
      "c858ef9fd9324ab0ab885d85e3c8582f",
      "627bc2899c994a0c96c5d43e89dc77ff",
      "0e2c2f21fa8041038151170992ecb848",
      "2d9bcbf7629a4671bf8755e790276eb7",
      "77a4edf6ab1848a6a6df20c1c07358c6",
      "acf2212d6bb44c729b63281a98377095",
      "0c7a72818da3454190bab7f30a29e249",
      "d865af915b8b4aaa8cec8d40f1f8351d"
     ]
    },
    "id": "s1UnzfID4Ai6",
    "outputId": "3e204e76-68fd-4111-f527-91f6e3b7a3ca"
   },
   "outputs": [
    {
     "data": {
      "application/vnd.jupyter.widget-view+json": {
       "model_id": "42a5def392b34516b6b52d588d1634c2",
       "version_major": 2,
       "version_minor": 0
      },
      "text/plain": [
       "  0%|          | 0/1000 [00:00<?, ?it/s]"
      ]
     },
     "metadata": {},
     "output_type": "display_data"
    }
   ],
   "source": [
    "for m in methods:\n",
    "    metrics[m] = test(model=test_generator, \n",
    "                      criteria_list=[], \n",
    "                      dataset=data_list, \n",
    "                      idx_range=range(10000, 11000), \n",
    "                      callback=None,\n",
    "                      gt_pos=load_pos(m))"
   ]
  },
  {
   "cell_type": "code",
   "execution_count": 39,
   "metadata": {
    "id": "dQ7hdCtk5u6K"
   },
   "outputs": [],
   "source": [
    "mean_metrics = {key : list(map(lambda m: metrics[key][m].mean().item(), list(metrics[key].keys())[:-1])) for key in metrics}"
   ]
  },
  {
   "cell_type": "code",
   "execution_count": 40,
   "metadata": {
    "colab": {
     "base_uri": "https://localhost:8080/",
     "height": 313
    },
    "id": "OGyaCmLXTuvA",
    "outputId": "6c42d9f3-9869-4504-bc9c-d0eedaecfd90"
   },
   "outputs": [
    {
     "data": {
      "text/html": [
       "<style type=\"text/css\">\n",
       "</style>\n",
       "<table id=\"T_42f97_\">\n",
       "  <thead>\n",
       "    <tr>\n",
       "      <th class=\"blank level0\" >&nbsp;</th>\n",
       "      <th class=\"col_heading level0 col0\" >stress</th>\n",
       "      <th class=\"col_heading level0 col1\" >stress_spc</th>\n",
       "      <th class=\"col_heading level0 col2\" >xing</th>\n",
       "      <th class=\"col_heading level0 col3\" >xing_spc</th>\n",
       "      <th class=\"col_heading level0 col4\" >l1_angle</th>\n",
       "      <th class=\"col_heading level0 col5\" >l1_angle_spc</th>\n",
       "      <th class=\"col_heading level0 col6\" >edge</th>\n",
       "      <th class=\"col_heading level0 col7\" >edge_spc</th>\n",
       "      <th class=\"col_heading level0 col8\" >ring</th>\n",
       "      <th class=\"col_heading level0 col9\" >ring_spc</th>\n",
       "      <th class=\"col_heading level0 col10\" >tsne</th>\n",
       "      <th class=\"col_heading level0 col11\" >tsne_spc</th>\n",
       "      <th class=\"col_heading level0 col12\" >reso_score</th>\n",
       "      <th class=\"col_heading level0 col13\" >min_angle</th>\n",
       "    </tr>\n",
       "  </thead>\n",
       "  <tbody>\n",
       "    <tr>\n",
       "      <th id=\"T_42f97_level0_row0\" class=\"row_heading level0 row0\" >fa2</th>\n",
       "      <td id=\"T_42f97_row0_col0\" class=\"data row0 col0\" >413.89</td>\n",
       "      <td id=\"T_42f97_row0_col1\" class=\"data row0 col1\" >15.15%</td>\n",
       "      <td id=\"T_42f97_row0_col2\" class=\"data row0 col2\" >32.99</td>\n",
       "      <td id=\"T_42f97_row0_col3\" class=\"data row0 col3\" >16.26%</td>\n",
       "      <td id=\"T_42f97_row0_col4\" class=\"data row0 col4\" >88.90</td>\n",
       "      <td id=\"T_42f97_row0_col5\" class=\"data row0 col5\" >16.51%</td>\n",
       "      <td id=\"T_42f97_row0_col6\" class=\"data row0 col6\" >0.30</td>\n",
       "      <td id=\"T_42f97_row0_col7\" class=\"data row0 col7\" >35.04%</td>\n",
       "      <td id=\"T_42f97_row0_col8\" class=\"data row0 col8\" >279.57</td>\n",
       "      <td id=\"T_42f97_row0_col9\" class=\"data row0 col9\" >6.27%</td>\n",
       "      <td id=\"T_42f97_row0_col10\" class=\"data row0 col10\" >0.24</td>\n",
       "      <td id=\"T_42f97_row0_col11\" class=\"data row0 col11\" >17.73%</td>\n",
       "      <td id=\"T_42f97_row0_col12\" class=\"data row0 col12\" >0.57</td>\n",
       "      <td id=\"T_42f97_row0_col13\" class=\"data row0 col13\" >3.89</td>\n",
       "    </tr>\n",
       "  </tbody>\n",
       "</table>\n"
      ],
      "text/plain": [
       "<pandas.io.formats.style.Styler at 0x2ad146a467f0>"
      ]
     },
     "execution_count": 40,
     "metadata": {},
     "output_type": "execute_result"
    }
   ],
   "source": [
    "columns = [\n",
    "    'stress',\n",
    "    'stress_spc',\n",
    "    'xing',\n",
    "    'xing_spc',\n",
    "    'l1_angle',\n",
    "    'l1_angle_spc',\n",
    "    'edge',\n",
    "    'edge_spc',\n",
    "    'ring',\n",
    "    'ring_spc',\n",
    "    'tsne',\n",
    "    'tsne_spc',\n",
    "    'reso_score',\n",
    "    'min_angle'\n",
    "]\n",
    "df = pd.DataFrame(mean_metrics).set_axis(columns).T\n",
    "df.style.format({c: \"{:.2f}\" for c in columns if 'spc' not in c} | {c: \"{:.2%}\" for c in columns if 'spc' in c})"
   ]
  },
  {
   "cell_type": "markdown",
   "metadata": {
    "id": "L5S1HWnHOWIl"
   },
   "source": [
    "# Large Graph"
   ]
  },
  {
   "cell_type": "code",
   "execution_count": null,
   "metadata": {
    "id": "_pefPcV1OZdD"
   },
   "outputs": [],
   "source": [
    "scalability = pd.read_csv(f\"/__artifacts__/data/scalability.csv\", index_col=\"index\")\n",
    "scalability"
   ]
  },
  {
   "cell_type": "code",
   "execution_count": null,
   "metadata": {
    "id": "oMhWAsdvPnTX"
   },
   "outputs": [],
   "source": [
    "rescale = CanonicalizationByStress()\n",
    "stressfn = Stress()\n",
    "rotate = RotateByPrincipalComponents()"
   ]
  },
  {
   "cell_type": "code",
   "execution_count": null,
   "metadata": {
    "id": "LR83OcAaPID5"
   },
   "outputs": [],
   "source": [
    "stress_list = []\n",
    "spc_list = []\n",
    "pmds_list = np.load(\"layouts/new_large_graph/pmds.npy\", allow_pickle=True)\n",
    "gviz_list = np.load(\"layouts/new_large_graph/gviz.npy\", allow_pickle=True)\n",
    "with torch.no_grad():\n",
    "    for idx, col in tqdm(scalability.iterrows(), total=len(scalability)):\n",
    "        # if idx not in [406, 516]: continue\n",
    "        torch.cuda.empty_cache()\n",
    "        G = load_mtx(col['file'])\n",
    "        G.remove_edges_from(nx.selfloop_edges(G))\n",
    "        data = generate_data_list(G, \n",
    "                                sparse=data_config.sparse, \n",
    "                                pivot_mode=data_config.pivot,\n",
    "                                init_mode=data_config.init,\n",
    "                                edge_index=data_config.edge.index,\n",
    "                                edge_attr=data_config.edge.attr,\n",
    "                                pmds_list=pmds_list[idx],\n",
    "                                gviz_list=gviz_list[idx],\n",
    "                                device=device)\n",
    "        batch = Batch.from_data_list([data]).to(device)\n",
    "        # generator.train()\n",
    "        # generator(batch)\n",
    "        generator.eval()\n",
    "        pred = generator(batch)\n",
    "        pos = rotate(rescale(pred, batch), batch)\n",
    "        gt = rotate(rescale(batch.gt_pos, batch), batch)\n",
    "        stress = stressfn(pos, batch).item()\n",
    "        gt_stress = stressfn(gt, batch).item()\n",
    "        spc = (stress - gt_stress) / np.maximum(stress, gt_stress)\n",
    "        stress_list.append(stress)\n",
    "        spc_list.append(spc)\n",
    "\n",
    "        np.save(f\"/__artifacts__/gan_result/data/scalability_{idx}.npy\", pos.cpu().numpy())\n",
    "        graph_attr = dict(node_size=1, \n",
    "                        with_labels=False, \n",
    "                        labels=dict(zip(list(G.nodes), map(lambda n: n if type(n) is int else n[1:], list(G.nodes)))),\n",
    "                        font_color=\"white\", \n",
    "                        font_weight=\"bold\",\n",
    "                        font_size=12,\n",
    "                        width=0.1)\n",
    "\n",
    "        # gt_pos = pickle.load(open(f\"/__artifacts__/data/scalability_{idx}_gt.pkl\", \"rb\"))\n",
    "\n",
    "        plt.figure(figsize=[12, 9])\n",
    "        nx.draw(G, pos=gt.cpu().numpy(), node_color='orange', **graph_attr)\n",
    "        plt.title(f\"neato: large_{idx}\")\n",
    "        plt.axis(\"equal\")\n",
    "        plt.savefig(f\"/__artifacts__/gan_result/output/{idx}_{col['name']}_{col['n']}_{spc}_nx.png\", dpi=300)\n",
    "        plt.show()\n",
    "\n",
    "        plt.figure(figsize=[12, 9])\n",
    "        graph_vis(G, pos.cpu().numpy(), **graph_attr)\n",
    "        plt.title(f\"dgd: large_{idx}, spc={spc:.2%}\")\n",
    "        plt.axis(\"equal\")\n",
    "        plt.savefig(f\"/__artifacts__/gan_result/output/{idx}_{col['name']}_{col['n']}_{spc}_dgd.png\", dpi=300)\n",
    "        plt.show()"
   ]
  },
  {
   "cell_type": "code",
   "execution_count": null,
   "metadata": {
    "id": "gRXTewkYeuq1"
   },
   "outputs": [],
   "source": []
  }
 ],
 "metadata": {
  "accelerator": "GPU",
  "colab": {
   "collapsed_sections": [
    "w_p3OD0woiSM",
    "DR6-vYtr_i_P",
    "innqkwvH_ydD",
    "f-ODE2k8BFV6",
    "N39dDHraedM6"
   ],
   "machine_shape": "hm",
   "name": "GAN(gan=rgan,data=best(xing,stress),dis=deep,share=16,embed=0,gp=0).ipynb",
   "provenance": []
  },
  "kernelspec": {
   "display_name": "DeepGD",
   "language": "python",
   "name": "deepgd"
  },
  "language_info": {
   "codemirror_mode": {
    "name": "ipython",
    "version": 3
   },
   "file_extension": ".py",
   "mimetype": "text/x-python",
   "name": "python",
   "nbconvert_exporter": "python",
   "pygments_lexer": "ipython3",
   "version": "3.9.7"
  },
  "widgets": {
   "application/vnd.jupyter.widget-state+json": {
    "state": {
     "01fb0859d6f54a14aebc2d6b7f0126c9": {
      "model_module": "@jupyter-widgets/base",
      "model_module_version": "1.2.0",
      "model_name": "LayoutModel",
      "state": {}
     },
     "065e9d482d614db0ad5f57e924c701e0": {
      "model_module": "@jupyter-widgets/base",
      "model_module_version": "1.2.0",
      "model_name": "LayoutModel",
      "state": {}
     },
     "07e1642fdd6a48aca5a6966c1241d60b": {
      "model_module": "@jupyter-widgets/controls",
      "model_module_version": "1.5.0",
      "model_name": "FloatProgressModel",
      "state": {
       "layout": "IPY_MODEL_ad6d0aa9260d45a7a8cea409ce82cf5f",
       "max": 834,
       "style": "IPY_MODEL_c6fe6290f27e49d7ba0a37c48ece7c3d",
       "value": 302
      }
     },
     "08c9c0fd8dd146caa2d665a1bb50fc5e": {
      "model_module": "@jupyter-widgets/output",
      "model_module_version": "1.0.0",
      "model_name": "OutputModel",
      "state": {
       "layout": "IPY_MODEL_47d8bc514f854abd9b721b891b7801aa",
       "outputs": [
        {
         "data": {
          "application/vnd.jupyter.widget-view+json": {
           "model_id": "5c06272647c349778e3cdf2fff4611ac",
           "version_major": 2,
           "version_minor": 0
          },
          "text/plain": "  0%|          | 0/834 [00:00<?, ?it/s]"
         },
         "metadata": {},
         "output_type": "display_data"
        }
       ]
      }
     },
     "08c9f2a2d7ad40639cd35ad012000c0e": {
      "model_module": "@jupyter-widgets/controls",
      "model_module_version": "1.5.0",
      "model_name": "HTMLModel",
      "state": {
       "layout": "IPY_MODEL_8eee5cd3406a4657880e138af8c0969d",
       "style": "IPY_MODEL_7803e59a67ed4d4b93076db82dbec144",
       "value": " 1000/1000 [00:46&lt;00:00, 21.29it/s]"
      }
     },
     "12960e5344da41ae9949a87d84d1440e": {
      "model_module": "@jupyter-widgets/controls",
      "model_module_version": "1.5.0",
      "model_name": "HTMLModel",
      "state": {
       "layout": "IPY_MODEL_c2c0311a16c74a95ae6a5bc8d6725e99",
       "style": "IPY_MODEL_659175b702954483a2e6240a00cd942e",
       "value": " 1000/1000 [00:46&lt;00:00, 21.39it/s]"
      }
     },
     "14de63c9fbeb464681df3f3f3730c16b": {
      "model_module": "@jupyter-widgets/base",
      "model_module_version": "1.2.0",
      "model_name": "LayoutModel",
      "state": {}
     },
     "14df06d5e2554535b14436cc368cb180": {
      "model_module": "@jupyter-widgets/controls",
      "model_module_version": "1.5.0",
      "model_name": "HTMLModel",
      "state": {
       "layout": "IPY_MODEL_2b7ab755463647d8b08a682a06ec24c0",
       "style": "IPY_MODEL_64a7ec90fca04c75962b52874c9c8163",
       "value": "100%"
      }
     },
     "21d54e67583145e7909b1c5c77464682": {
      "model_module": "@jupyter-widgets/base",
      "model_module_version": "1.2.0",
      "model_name": "LayoutModel",
      "state": {}
     },
     "2262669afab441d492b1153aa2432d89": {
      "model_module": "@jupyter-widgets/base",
      "model_module_version": "1.2.0",
      "model_name": "LayoutModel",
      "state": {}
     },
     "25799aec0fd3485793b7ae5ba37ade09": {
      "model_module": "@jupyter-widgets/base",
      "model_module_version": "1.2.0",
      "model_name": "LayoutModel",
      "state": {}
     },
     "2b065949c7954feb88f7872b4377ca25": {
      "model_module": "@jupyter-widgets/base",
      "model_module_version": "1.2.0",
      "model_name": "LayoutModel",
      "state": {}
     },
     "2b7ab755463647d8b08a682a06ec24c0": {
      "model_module": "@jupyter-widgets/base",
      "model_module_version": "1.2.0",
      "model_name": "LayoutModel",
      "state": {}
     },
     "36ea26ba599d4072930e82581a9657b2": {
      "model_module": "@jupyter-widgets/controls",
      "model_module_version": "1.5.0",
      "model_name": "DescriptionStyleModel",
      "state": {
       "description_width": ""
      }
     },
     "4261c050ba17497384460c1f2687ada9": {
      "model_module": "@jupyter-widgets/output",
      "model_module_version": "1.0.0",
      "model_name": "OutputModel",
      "state": {
       "layout": "IPY_MODEL_83c9bd777c79425b9fa385981c27bb54",
       "outputs": [
        {
         "name": "stdout",
         "output_type": "stream",
         "text": "[247] stress=451.56(23.83%) xing=36.33(28.08%)\n[248] stress=455.77(25.18%) xing=37.84(30.84%)\n"
        }
       ]
      }
     },
     "42a5def392b34516b6b52d588d1634c2": {
      "model_module": "@jupyter-widgets/controls",
      "model_module_version": "1.5.0",
      "model_name": "HBoxModel",
      "state": {
       "children": [
        "IPY_MODEL_14df06d5e2554535b14436cc368cb180",
        "IPY_MODEL_b355f04eb27148b3ba8766de90ad68e3",
        "IPY_MODEL_08c9f2a2d7ad40639cd35ad012000c0e"
       ],
       "layout": "IPY_MODEL_af14f76248c94869b9c2310176b0e615"
      }
     },
     "4439812a59aa44e68d94f557eb9c4258": {
      "model_module": "@jupyter-widgets/controls",
      "model_module_version": "1.5.0",
      "model_name": "HBoxModel",
      "state": {
       "children": [
        "IPY_MODEL_e470652ecd7146868f2d18fdfeea0f22",
        "IPY_MODEL_e61786ec0cfe4b73b1806bb2a4726389",
        "IPY_MODEL_12960e5344da41ae9949a87d84d1440e"
       ],
       "layout": "IPY_MODEL_2262669afab441d492b1153aa2432d89"
      }
     },
     "47d8bc514f854abd9b721b891b7801aa": {
      "model_module": "@jupyter-widgets/base",
      "model_module_version": "1.2.0",
      "model_name": "LayoutModel",
      "state": {}
     },
     "4ca18e783618445693f2480510d5e36a": {
      "model_module": "@jupyter-widgets/base",
      "model_module_version": "1.2.0",
      "model_name": "LayoutModel",
      "state": {}
     },
     "58ef7a1582254d92bb58d7ce92c2f226": {
      "model_module": "@jupyter-widgets/controls",
      "model_module_version": "1.5.0",
      "model_name": "ProgressStyleModel",
      "state": {
       "description_width": ""
      }
     },
     "5c06272647c349778e3cdf2fff4611ac": {
      "model_module": "@jupyter-widgets/controls",
      "model_module_version": "1.5.0",
      "model_name": "HBoxModel",
      "state": {
       "children": [
        "IPY_MODEL_ddda9217fcbf4756bad3fc6a718d911e",
        "IPY_MODEL_07e1642fdd6a48aca5a6966c1241d60b",
        "IPY_MODEL_93aef579e2534bc2b72e1ebbb5273db4"
       ],
       "layout": "IPY_MODEL_cb7b1b467e4e4e24b2a1fb9aaadb4e93"
      }
     },
     "64a7ec90fca04c75962b52874c9c8163": {
      "model_module": "@jupyter-widgets/controls",
      "model_module_version": "1.5.0",
      "model_name": "DescriptionStyleModel",
      "state": {
       "description_width": ""
      }
     },
     "6579191391cb4d77b5e31f82e826a775": {
      "model_module": "@jupyter-widgets/controls",
      "model_module_version": "1.5.0",
      "model_name": "DescriptionStyleModel",
      "state": {
       "description_width": ""
      }
     },
     "659175b702954483a2e6240a00cd942e": {
      "model_module": "@jupyter-widgets/controls",
      "model_module_version": "1.5.0",
      "model_name": "DescriptionStyleModel",
      "state": {
       "description_width": ""
      }
     },
     "65d971dce1b84893ab2ef3655daecc91": {
      "model_module": "@jupyter-widgets/controls",
      "model_module_version": "1.5.0",
      "model_name": "HTMLModel",
      "state": {
       "layout": "IPY_MODEL_21d54e67583145e7909b1c5c77464682",
       "style": "IPY_MODEL_36ea26ba599d4072930e82581a9657b2",
       "value": " 11531/11531 [00:00&lt;00:00, 94476.35it/s]"
      }
     },
     "76c2b67eafea436082ffcb2d75137eb2": {
      "model_module": "@jupyter-widgets/controls",
      "model_module_version": "1.5.0",
      "model_name": "DescriptionStyleModel",
      "state": {
       "description_width": ""
      }
     },
     "7803e59a67ed4d4b93076db82dbec144": {
      "model_module": "@jupyter-widgets/controls",
      "model_module_version": "1.5.0",
      "model_name": "DescriptionStyleModel",
      "state": {
       "description_width": ""
      }
     },
     "80d478de7d704a4eb1de064068eda588": {
      "model_module": "@jupyter-widgets/base",
      "model_module_version": "1.2.0",
      "model_name": "LayoutModel",
      "state": {}
     },
     "817e9f1de2774a808fff0617f8853e3d": {
      "model_module": "@jupyter-widgets/output",
      "model_module_version": "1.0.0",
      "model_name": "OutputModel",
      "state": {
       "layout": "IPY_MODEL_065e9d482d614db0ad5f57e924c701e0",
       "outputs": [
        {
         "data": {
          "text/html": "<div>\n<style scoped>\n    .dataframe tbody tr th:only-of-type {\n        vertical-align: middle;\n    }\n\n    .dataframe tbody tr th {\n        vertical-align: top;\n    }\n\n    .dataframe thead th {\n        text-align: right;\n    }\n</style>\n<table border=\"1\" class=\"dataframe\">\n  <thead>\n    <tr style=\"text-align: right;\">\n      <th></th>\n      <th>val_stress</th>\n      <th>val_stress_spc</th>\n      <th>val_xing</th>\n      <th>val_xing_spc</th>\n      <th>dis_loss</th>\n      <th>gen_loss</th>\n      <th>stress</th>\n      <th>critic</th>\n    </tr>\n  </thead>\n  <tbody>\n    <tr>\n      <th>epoch 248</th>\n      <td>455.77</td>\n      <td>25.18%</td>\n      <td>37.84</td>\n      <td>30.84%</td>\n      <td>7.85e+11</td>\n      <td>-4.29e+12</td>\n      <td>-5.30e+02</td>\n      <td>1.95e+14</td>\n    </tr>\n  </tbody>\n</table>\n</div>",
          "text/plain": "          val_stress val_stress_spc val_xing val_xing_spc  dis_loss  \\\nepoch 248     455.77         25.18%    37.84       30.84%  7.85e+11   \n\n            gen_loss     stress    critic  \nepoch 248  -4.29e+12  -5.30e+02  1.95e+14  "
         },
         "metadata": {},
         "output_type": "display_data"
        }
       ]
      }
     },
     "83c9bd777c79425b9fa385981c27bb54": {
      "model_module": "@jupyter-widgets/base",
      "model_module_version": "1.2.0",
      "model_name": "LayoutModel",
      "state": {}
     },
     "87ea0169e85e463ba074829e89583b8e": {
      "model_module": "@jupyter-widgets/output",
      "model_module_version": "1.0.0",
      "model_name": "OutputModel",
      "state": {
       "layout": "IPY_MODEL_4ca18e783618445693f2480510d5e36a",
       "outputs": [
        {
         "data": {
          "image/png": "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\n",
          "text/plain": "<Figure size 432x288 with 1 Axes>"
         },
         "metadata": {},
         "output_type": "display_data"
        },
        {
         "data": {
          "image/png": "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\n",
          "text/plain": "<Figure size 432x288 with 1 Axes>"
         },
         "metadata": {},
         "output_type": "display_data"
        }
       ]
      }
     },
     "8e717012897b44d29e94898589acbdfb": {
      "model_module": "@jupyter-widgets/base",
      "model_module_version": "1.2.0",
      "model_name": "LayoutModel",
      "state": {}
     },
     "8eee5cd3406a4657880e138af8c0969d": {
      "model_module": "@jupyter-widgets/base",
      "model_module_version": "1.2.0",
      "model_name": "LayoutModel",
      "state": {}
     },
     "8f4dbaa1b68b498380c9ecde717eb16a": {
      "model_module": "@jupyter-widgets/controls",
      "model_module_version": "1.5.0",
      "model_name": "HTMLModel",
      "state": {
       "layout": "IPY_MODEL_25799aec0fd3485793b7ae5ba37ade09",
       "style": "IPY_MODEL_dadb24389e024fae9e3c433d4efe8bc0",
       "value": "100%"
      }
     },
     "93aef579e2534bc2b72e1ebbb5273db4": {
      "model_module": "@jupyter-widgets/controls",
      "model_module_version": "1.5.0",
      "model_name": "HTMLModel",
      "state": {
       "layout": "IPY_MODEL_af2f49079aea4544bdebcf20da99849f",
       "style": "IPY_MODEL_76c2b67eafea436082ffcb2d75137eb2",
       "value": " 302/834 [00:53&lt;01:34,  5.65it/s]"
      }
     },
     "9519286952d8464cb2da4e094caad82c": {
      "model_module": "@jupyter-widgets/controls",
      "model_module_version": "1.5.0",
      "model_name": "TabModel",
      "state": {
       "_titles": {
        "0": "status",
        "1": "plot",
        "2": "log"
       },
       "children": [
        "IPY_MODEL_f8b4ba31c2834299970db2f386a07923",
        "IPY_MODEL_ba96636c15b74850b18d81d99e25e9da",
        "IPY_MODEL_dcb453295a344f01afbe9d55a415888d"
       ],
       "layout": "IPY_MODEL_e530902b89cd496d848e232b5c2f004d"
      }
     },
     "998770bab8b94467acc89d62c807c5e8": {
      "model_module": "@jupyter-widgets/controls",
      "model_module_version": "1.5.0",
      "model_name": "ProgressStyleModel",
      "state": {
       "description_width": ""
      }
     },
     "a1de2ae5f8f449e28d9dc29283dd58db": {
      "model_module": "@jupyter-widgets/controls",
      "model_module_version": "1.5.0",
      "model_name": "ProgressStyleModel",
      "state": {
       "description_width": ""
      }
     },
     "a82c14cd9d484ef9a137e3139ce5c8e2": {
      "model_module": "@jupyter-widgets/controls",
      "model_module_version": "1.5.0",
      "model_name": "FloatProgressModel",
      "state": {
       "bar_style": "success",
       "layout": "IPY_MODEL_80d478de7d704a4eb1de064068eda588",
       "max": 11531,
       "style": "IPY_MODEL_58ef7a1582254d92bb58d7ce92c2f226",
       "value": 11531
      }
     },
     "ad6d0aa9260d45a7a8cea409ce82cf5f": {
      "model_module": "@jupyter-widgets/base",
      "model_module_version": "1.2.0",
      "model_name": "LayoutModel",
      "state": {}
     },
     "af14f76248c94869b9c2310176b0e615": {
      "model_module": "@jupyter-widgets/base",
      "model_module_version": "1.2.0",
      "model_name": "LayoutModel",
      "state": {}
     },
     "af2f49079aea4544bdebcf20da99849f": {
      "model_module": "@jupyter-widgets/base",
      "model_module_version": "1.2.0",
      "model_name": "LayoutModel",
      "state": {}
     },
     "b355f04eb27148b3ba8766de90ad68e3": {
      "model_module": "@jupyter-widgets/controls",
      "model_module_version": "1.5.0",
      "model_name": "FloatProgressModel",
      "state": {
       "bar_style": "success",
       "layout": "IPY_MODEL_8e717012897b44d29e94898589acbdfb",
       "max": 1000,
       "style": "IPY_MODEL_a1de2ae5f8f449e28d9dc29283dd58db",
       "value": 1000
      }
     },
     "ba96636c15b74850b18d81d99e25e9da": {
      "model_module": "@jupyter-widgets/controls",
      "model_module_version": "1.5.0",
      "model_name": "HBoxModel",
      "state": {
       "children": [
        "IPY_MODEL_87ea0169e85e463ba074829e89583b8e"
       ],
       "layout": "IPY_MODEL_cc85a534ccf74fe6a830545f82a3178c"
      }
     },
     "be75f66febcf4fbdbe2030ace7fe940d": {
      "model_module": "@jupyter-widgets/controls",
      "model_module_version": "1.5.0",
      "model_name": "DescriptionStyleModel",
      "state": {
       "description_width": ""
      }
     },
     "c2c0311a16c74a95ae6a5bc8d6725e99": {
      "model_module": "@jupyter-widgets/base",
      "model_module_version": "1.2.0",
      "model_name": "LayoutModel",
      "state": {}
     },
     "c6b11af3dd1a44efbe9bb956beaaa988": {
      "model_module": "@jupyter-widgets/base",
      "model_module_version": "1.2.0",
      "model_name": "LayoutModel",
      "state": {
       "height": "500px",
       "overflow_y": "auto"
      }
     },
     "c6fe6290f27e49d7ba0a37c48ece7c3d": {
      "model_module": "@jupyter-widgets/controls",
      "model_module_version": "1.5.0",
      "model_name": "ProgressStyleModel",
      "state": {
       "description_width": ""
      }
     },
     "cb7b1b467e4e4e24b2a1fb9aaadb4e93": {
      "model_module": "@jupyter-widgets/base",
      "model_module_version": "1.2.0",
      "model_name": "LayoutModel",
      "state": {}
     },
     "cc85a534ccf74fe6a830545f82a3178c": {
      "model_module": "@jupyter-widgets/base",
      "model_module_version": "1.2.0",
      "model_name": "LayoutModel",
      "state": {
       "height": "500px",
       "overflow_y": "auto"
      }
     },
     "d0890f68e7754480adfbcb6ba1018824": {
      "model_module": "@jupyter-widgets/base",
      "model_module_version": "1.2.0",
      "model_name": "LayoutModel",
      "state": {}
     },
     "dadb24389e024fae9e3c433d4efe8bc0": {
      "model_module": "@jupyter-widgets/controls",
      "model_module_version": "1.5.0",
      "model_name": "DescriptionStyleModel",
      "state": {
       "description_width": ""
      }
     },
     "db492af9637749cbbe31b33f04bfdcdb": {
      "model_module": "@jupyter-widgets/controls",
      "model_module_version": "1.5.0",
      "model_name": "HBoxModel",
      "state": {
       "children": [
        "IPY_MODEL_8f4dbaa1b68b498380c9ecde717eb16a",
        "IPY_MODEL_a82c14cd9d484ef9a137e3139ce5c8e2",
        "IPY_MODEL_65d971dce1b84893ab2ef3655daecc91"
       ],
       "layout": "IPY_MODEL_d0890f68e7754480adfbcb6ba1018824"
      }
     },
     "dcb453295a344f01afbe9d55a415888d": {
      "model_module": "@jupyter-widgets/controls",
      "model_module_version": "1.5.0",
      "model_name": "HBoxModel",
      "state": {
       "children": [
        "IPY_MODEL_4261c050ba17497384460c1f2687ada9"
       ],
       "layout": "IPY_MODEL_c6b11af3dd1a44efbe9bb956beaaa988"
      }
     },
     "ddda9217fcbf4756bad3fc6a718d911e": {
      "model_module": "@jupyter-widgets/controls",
      "model_module_version": "1.5.0",
      "model_name": "HTMLModel",
      "state": {
       "layout": "IPY_MODEL_14de63c9fbeb464681df3f3f3730c16b",
       "style": "IPY_MODEL_be75f66febcf4fbdbe2030ace7fe940d",
       "value": "[epoch 248/None]:  36%"
      }
     },
     "e470652ecd7146868f2d18fdfeea0f22": {
      "model_module": "@jupyter-widgets/controls",
      "model_module_version": "1.5.0",
      "model_name": "HTMLModel",
      "state": {
       "layout": "IPY_MODEL_2b065949c7954feb88f7872b4377ca25",
       "style": "IPY_MODEL_6579191391cb4d77b5e31f82e826a775",
       "value": "100%"
      }
     },
     "e530902b89cd496d848e232b5c2f004d": {
      "model_module": "@jupyter-widgets/base",
      "model_module_version": "1.2.0",
      "model_name": "LayoutModel",
      "state": {}
     },
     "e61786ec0cfe4b73b1806bb2a4726389": {
      "model_module": "@jupyter-widgets/controls",
      "model_module_version": "1.5.0",
      "model_name": "FloatProgressModel",
      "state": {
       "bar_style": "success",
       "layout": "IPY_MODEL_01fb0859d6f54a14aebc2d6b7f0126c9",
       "max": 1000,
       "style": "IPY_MODEL_998770bab8b94467acc89d62c807c5e8",
       "value": 1000
      }
     },
     "e83df1fc04e04efc804cf34138140ea4": {
      "model_module": "@jupyter-widgets/base",
      "model_module_version": "1.2.0",
      "model_name": "LayoutModel",
      "state": {}
     },
     "f8b4ba31c2834299970db2f386a07923": {
      "model_module": "@jupyter-widgets/controls",
      "model_module_version": "1.5.0",
      "model_name": "VBoxModel",
      "state": {
       "children": [
        "IPY_MODEL_08c9c0fd8dd146caa2d665a1bb50fc5e",
        "IPY_MODEL_817e9f1de2774a808fff0617f8853e3d"
       ],
       "layout": "IPY_MODEL_e83df1fc04e04efc804cf34138140ea4"
      }
     }
    },
    "version_major": 2,
    "version_minor": 0
   }
  }
 },
 "nbformat": 4,
 "nbformat_minor": 4
}
