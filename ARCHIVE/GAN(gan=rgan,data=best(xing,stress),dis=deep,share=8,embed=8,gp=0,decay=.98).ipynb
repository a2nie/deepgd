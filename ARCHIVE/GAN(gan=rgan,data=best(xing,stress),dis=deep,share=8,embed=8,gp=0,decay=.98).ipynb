{
 "cells": [
  {
   "cell_type": "markdown",
   "metadata": {
    "id": "wZtYFEhHoBGp"
   },
   "source": [
    "# Import libraries"
   ]
  },
  {
   "cell_type": "code",
   "execution_count": 1,
   "metadata": {
    "id": "KJPfzpxLQI5O"
   },
   "outputs": [],
   "source": [
    "%load_ext autoreload\n",
    "%autoreload 2\n",
    "from deepgd import *"
   ]
  },
  {
   "cell_type": "markdown",
   "metadata": {
    "id": "z4eBEyB1oaJe"
   },
   "source": [
    "# Config"
   ]
  },
  {
   "cell_type": "code",
   "execution_count": 2,
   "metadata": {
    "id": "Q_-MLFhpNvxF"
   },
   "outputs": [],
   "source": [
    "cuda_idx = 0\n",
    "canonicalization = Canonicalization(normalize=Standardization(norm_ord=1),\n",
    "                                    scale=False)\n",
    "config = StaticConfig({\n",
    "    \"name\": 'GAN(gan=rgan,data=best(xing,stress),dis=deep,share=8,embed=8,gp=0,decay=.98)',\n",
    "    \"uid\": None,\n",
    "    \"link\": None,\n",
    "    \"generator\": {\n",
    "        \"params\": {\n",
    "            \"num_blocks\": 9,\n",
    "            \"normalize\": canonicalization\n",
    "        },\n",
    "        \"pretrained\": {\n",
    "            \"name\": None,\n",
    "            \"epoch\": -1,\n",
    "        },\n",
    "        \"optim\": torch.optim.AdamW,\n",
    "        \"lr\" : {\n",
    "            \"initial\": 1e-3,\n",
    "            \"decay\": 0.98,\n",
    "        },\n",
    "    },\n",
    "    \"discriminator\": {\n",
    "        \"params\": {\n",
    "            \"conv\": [2, 16, 16, 16],\n",
    "            \"dense\": [2],\n",
    "            \"shared_depth\": 8,\n",
    "            \"enet_depth\": 8,\n",
    "            \"enet_width\": 64,\n",
    "            \"aggr\": \"add\",\n",
    "            \"normalize\": canonicalization\n",
    "        },\n",
    "        \"pretrained\": {\n",
    "            \"name\": None,\n",
    "            \"epoch\": -1,\n",
    "        },\n",
    "        \"optim\": torch.optim.AdamW,\n",
    "        \"lr\" : {\n",
    "            \"initial\": 1e-3,\n",
    "            \"decay\": 0.98,\n",
    "        },\n",
    "        \"noise\": {\n",
    "            \"std\": 0,\n",
    "            \"decay\": 0.95,\n",
    "        },\n",
    "        \"repeat\": 1,\n",
    "        \"complete\": True,\n",
    "        \"adaptive\": True\n",
    "    },\n",
    "    \"alternate\": \"epoch\",\n",
    "    \"batchsize\": 24,\n",
    "    \"epoch\": {\n",
    "        \"start\": -1,\n",
    "        \"end\": None,\n",
    "    },\n",
    "    \"log_interval\": 1,\n",
    "    \"test\": {\n",
    "        \"name\": \"test\",\n",
    "        \"epoch\": -1,\n",
    "    },\n",
    "    \"gan_flavor\": \"rgan\",\n",
    "    \"gp_weight\": 0,\n",
    "})\n",
    "data_config = StaticConfig({\n",
    "    \"sparse\": False,\n",
    "    \"pivot\": None,\n",
    "    \"init\": \"pmds\",\n",
    "    \"edge\": {\n",
    "        \"index\": \"full_edge_index\",\n",
    "        \"attr\": \"full_edge_attr\",\n",
    "    },\n",
    "})\n",
    "loss_fns = {\n",
    "    Stress(): 1\n",
    "}\n",
    "ctrler_params = {\n",
    "    \"tau\": 0.95,\n",
    "    \"beta\": 1,\n",
    "    \"exploit_rate\": 0.5,\n",
    "    \"warmup\": 2,\n",
    "}\n",
    "paths = StaticConfig({\n",
    "    \"root\": \"artifacts\",\n",
    "    \"checkpoints\": lambda: f\"{paths.root}/checkpoints/{config.name}\",\n",
    "    \"gen_pretrain\": lambda: f\"{paths.root}/checkpoints/{config.generator.pretrained.name}\",\n",
    "    \"dis_pretrain\": lambda: f\"{paths.root}/checkpoints/{config.discriminator.pretrained.name}\",\n",
    "    \"tensorboard\": lambda: f\"{paths.root}/tensorboards/{config.name}\",\n",
    "    \"visualization\": lambda: f\"{paths.root}/visualizations/{config.name}_{config.test.name}\",\n",
    "    \"log\": lambda: f\"{paths.root}/logs/{config.name}.log\",\n",
    "    \"metrics\": lambda suffix: f\"{paths.root}/metrics/{config.name}_{suffix}.pickle\",\n",
    "})"
   ]
  },
  {
   "cell_type": "code",
   "execution_count": 3,
   "metadata": {
    "id": "mdMEAbH10Qaq"
   },
   "outputs": [],
   "source": [
    "if \" \" in config.name:\n",
    "    raise Exception(\"Space is not allowed in model name.\")"
   ]
  },
  {
   "cell_type": "markdown",
   "metadata": {
    "id": "WynW4ZAdBhep"
   },
   "source": [
    "# Prepare"
   ]
  },
  {
   "cell_type": "markdown",
   "metadata": {
    "id": "DR6-vYtr_i_P"
   },
   "source": [
    "## Get log command"
   ]
  },
  {
   "cell_type": "code",
   "execution_count": 4,
   "metadata": {
    "colab": {
     "base_uri": "https://localhost:8080/"
    },
    "id": "9-QpinlslcTO",
    "outputId": "48ae3716-212c-4d46-9efb-b7b4070f73de"
   },
   "outputs": [
    {
     "name": "stdout",
     "output_type": "stream",
     "text": [
      "cd /users/PAS0027/osu10203/deepgd && tail -n1000 -f 'artifacts/logs/GAN(gan=rgan,data=best(xing,stress),dis=deep,share=8,embed=8,gp=0,decay=.98).log'\n"
     ]
    }
   ],
   "source": [
    "print(f\"cd {os.getcwd()} && tail -n1000 -f '{paths.log()}'\")"
   ]
  },
  {
   "cell_type": "code",
   "execution_count": 5,
   "metadata": {},
   "outputs": [
    {
     "name": "stdout",
     "output_type": "stream",
     "text": [
      "tensorboard dev upload --logdir 'artifacts/tensorboards/GAN(gan=rgan,data=best(xing,stress),dis=deep,share=8,embed=8,gp=0,decay=.98)'\n"
     ]
    }
   ],
   "source": [
    "print(f\"tensorboard dev upload --logdir '{paths.tensorboard()}'\")"
   ]
  },
  {
   "cell_type": "markdown",
   "metadata": {
    "id": "innqkwvH_ydD"
   },
   "source": [
    "## Set globals"
   ]
  },
  {
   "cell_type": "code",
   "execution_count": 6,
   "metadata": {
    "id": "Qjq7JlSZlkQR"
   },
   "outputs": [],
   "source": [
    "if cuda_idx is not None and torch.cuda.is_available():\n",
    "    device = f'cuda:{cuda_idx}'\n",
    "    pynvml.nvmlInit()\n",
    "    cuda = pynvml.nvmlDeviceGetHandleByIndex(cuda_idx)\n",
    "else:\n",
    "    device = 'cpu'\n",
    "    cuda =  None\n",
    "np.set_printoptions(precision=2)\n",
    "warnings.filterwarnings(\"ignore\", category=RuntimeWarning)"
   ]
  },
  {
   "cell_type": "markdown",
   "metadata": {
    "id": "0da286l_ApEL"
   },
   "source": [
    "## Load data"
   ]
  },
  {
   "cell_type": "code",
   "execution_count": 7,
   "metadata": {
    "colab": {
     "base_uri": "https://localhost:8080/"
    },
    "id": "RFuSHiZJMU4x",
    "outputId": "54065609-aaea-4536-d79c-73bc73b3f576"
   },
   "outputs": [
    {
     "name": "stdout",
     "output_type": "stream",
     "text": [
      "Load from 'cache/G_list.pickle'\n",
      "Load from 'cache/generate_data_list(list,sparse=False,pivot_mode=None,init_mode=pmds,edge_index=full_edge_index,edge_attr=full_edge_attr,pmds_list=ndarray,gviz_list=ndarray,noisy_layout=True,device=cpu).pickle'\n"
     ]
    },
    {
     "name": "stderr",
     "output_type": "stream",
     "text": [
      "/users/PAS0027/osu10203/.conda/envs/deepgd/lib/python3.9/site-packages/torch_geometric/deprecation.py:13: UserWarning: 'data.DataLoader' is deprecated, use 'loader.DataLoader' instead\n",
      "  warnings.warn(out)\n"
     ]
    }
   ],
   "source": [
    "G_list = load_G_list(data_path='data/rome', index_file='data_index.txt', cache='G_list', cache_prefix='cache/')\n",
    "data_list = generate_data_list(G_list, \n",
    "                               sparse=data_config.sparse, \n",
    "                               pivot_mode=data_config.pivot,\n",
    "                               init_mode=data_config.init,\n",
    "                               edge_index=data_config.edge.index,\n",
    "                               edge_attr=data_config.edge.attr,\n",
    "                               pmds_list=np.load('layouts/rome/pmds.npy', allow_pickle=True),\n",
    "                               gviz_list=np.load('layouts/rome/gviz.npy', allow_pickle=True),\n",
    "                               noisy_layout=True,\n",
    "                               device='cpu', \n",
    "                               cache=True,\n",
    "                               cache_prefix='cache/')\n",
    "train_loader = LazyDeviceMappingDataLoader(data_list[:10000], batch_size=config.batchsize, shuffle=True, device=device)\n",
    "val_loader = LazyDeviceMappingDataLoader(data_list[11000:], batch_size=config.batchsize, shuffle=False, device=device)"
   ]
  },
  {
   "cell_type": "code",
   "execution_count": 8,
   "metadata": {
    "id": "djd1pLt2OxZq"
   },
   "outputs": [],
   "source": [
    "def draw_layout(G, method, draw=True):\n",
    "    if method == 'fa2':\n",
    "        layout = get_fa2_layout(G)\n",
    "    else:\n",
    "        try:\n",
    "            fn = getattr(nx.drawing.layout, f'{method}_layout')\n",
    "            layout = fn(G)\n",
    "        except:\n",
    "            layout = nx.drawing.nx_agraph.graphviz_layout(G, prog=method)\n",
    "    if draw:\n",
    "        nx.draw(G, pos=layout)\n",
    "    return layout"
   ]
  },
  {
   "cell_type": "code",
   "execution_count": 9,
   "metadata": {
    "id": "2vBBw77lR7Em"
   },
   "outputs": [],
   "source": [
    "methods = ['neato', 'dot', 'fdp', 'sfdp', 'twopi', 'circo', 'shell', 'spring', 'circular', 'spectral', 'kamada_kawai', 'fa2', 'pmds']"
   ]
  },
  {
   "cell_type": "code",
   "execution_count": 10,
   "metadata": {
    "id": "dx6VVA9XIc2O"
   },
   "outputs": [],
   "source": [
    "from functools import lru_cache\n",
    "\n",
    "@lru_cache(maxsize=None)\n",
    "def load_pos(method):\n",
    "    return np.load(f'layouts/rome/{method}.npy', allow_pickle=True)"
   ]
  },
  {
   "cell_type": "code",
   "execution_count": 11,
   "metadata": {
    "colab": {
     "base_uri": "https://localhost:8080/",
     "height": 1000,
     "referenced_widgets": [
      "05a37aeeb20049dfa2f97287b3990556",
      "a75afae3adfd4810a0b0991a062535ee",
      "a24ae105ed124595992f7e2e5f909247",
      "01b4cabaf8004dd4b9269b4e6889c498",
      "f3c7c84f2b314bd8b97a7358deaf4fa1",
      "35e4a83e692b4a7bafb46fdf192b2586",
      "62847b5e2678459f845159eef6d4feab",
      "143e81f00313436dacfa246a57108944",
      "e05833f11803400b95ff22246cdc8f2b",
      "53aeede91e074378b5d7f626165655ee",
      "79a43768c1794a10a788a49e5883aa2c"
     ]
    },
    "id": "MSmP-jem9I0X",
    "outputId": "c698f0bf-e96e-4de9-aeda-0b046fc0a03f",
    "scrolled": true,
    "tags": []
   },
   "outputs": [],
   "source": [
    "# best_list = []\n",
    "# best_layout_list = []\n",
    "# for idx, (G, data) in enumerate(zip(tqdm(G_list), data_list)):\n",
    "#     xing, stress, layout = {}, {}, {}\n",
    "#     for m in methods:\n",
    "#         batch = Batch.from_data_list([data])\n",
    "#         pos = load_pos(m)\n",
    "#         p = CanonicalizationByStress()(torch.tensor(pos[idx]).float(), batch)\n",
    "#         x = Xing()(p, batch).item()\n",
    "#         s = Stress()(p, batch).item()\n",
    "#         xing[m] = x\n",
    "#         stress[m] = s\n",
    "#         layout[m] = p.numpy()\n",
    "#         # plt.figure()\n",
    "#         # graph_vis(G, pos[idx])\n",
    "#         # plt.title(f'{m} stress={s:.2f} xing={x}')\n",
    "#     best, *_ = sorted(methods, key=lambda m: (xing[m], stress[m]))\n",
    "#     best_list.append(best)\n",
    "#     best_layout_list.append(layout[best])\n",
    "#     print(f'{best}, xing={xing[best]}, stress={stress[best]:.2f}')"
   ]
  },
  {
   "cell_type": "code",
   "execution_count": 12,
   "metadata": {
    "colab": {
     "base_uri": "https://localhost:8080/"
    },
    "id": "Mx2bZNugdTqa",
    "outputId": "cec05a67-18e8-492f-aaa1-057274a8341a"
   },
   "outputs": [],
   "source": [
    "# pickle.dump(best_list, open('layouts/rome/best[xing,stress].pkl', 'wb'))\n",
    "# np.save('layouts/rome/best[xing,stress].npy', best_layout_list)"
   ]
  },
  {
   "cell_type": "code",
   "execution_count": 13,
   "metadata": {
    "colab": {
     "base_uri": "https://localhost:8080/",
     "height": 49,
     "referenced_widgets": [
      "7e0ae84dd0f3458d893c81b029fe1729",
      "18bdc3bf80fb434abde68de5b72a8870",
      "2e3552ded9594635a51832387ae754a0",
      "54f4aa5080c6498080a63be2cdeefee5",
      "3937586d0879451da5e2138ca3bfd0a0",
      "a9df6e84ce8c499eb2b2cf984995d791",
      "7af6b718dd3d4e01b264377a2fa938e2",
      "a774c86e64004bd6951645f1c24abad4",
      "c86575117cd041f2837762f37d1f387b",
      "6e9907cefb1241688fbd248b8281ed9f",
      "9b8e5405d8264944acab57e81f2f5ad6"
     ]
    },
    "id": "A1-w1fspC53p",
    "outputId": "09c2d5c3-1eef-41eb-dcee-581af1294804"
   },
   "outputs": [
    {
     "data": {
      "application/vnd.jupyter.widget-view+json": {
       "model_id": "0df1e60feaa140a2a26286cb20cba3a5",
       "version_major": 2,
       "version_minor": 0
      },
      "text/plain": [
       "  0%|          | 0/11531 [00:00<?, ?it/s]"
      ]
     },
     "metadata": {},
     "output_type": "display_data"
    }
   ],
   "source": [
    "best_layout_list = np.load('layouts/rome/best[xing,stress].npy', allow_pickle=True)\n",
    "for data, layout in zip(tqdm(data_list), best_layout_list):\n",
    "    data.gt_pos = torch.tensor(layout)"
   ]
  },
  {
   "cell_type": "code",
   "execution_count": 14,
   "metadata": {
    "id": "y6EGh4U7exL_"
   },
   "outputs": [],
   "source": [
    "train_loader = LazyDeviceMappingDataLoader(data_list[:10000], batch_size=config.batchsize, shuffle=True, device=device)\n",
    "val_loader = LazyDeviceMappingDataLoader(data_list[11000:], batch_size=config.batchsize, shuffle=False, device=device)"
   ]
  },
  {
   "cell_type": "code",
   "execution_count": 15,
   "metadata": {
    "colab": {
     "base_uri": "https://localhost:8080/",
     "height": 103,
     "referenced_widgets": [
      "38a33cf69aff48f4aabd4902a7ce48b1",
      "57e277bcb44c4e2fa2a12105d75153d1",
      "20ce017c46bd4a7c9b420270ac579405",
      "13f2df4fe0ce4af88b6e3bd1637065b0",
      "2867faa145ca4860a198d4d0bf830f89",
      "02838cf669174ed9afa41a1a8e680765",
      "7e9e3c031667455f8baca163d3a213e5",
      "4000135e7dfa46529fa6244fccc5cb57",
      "e523e9faac5b4ec38643c05ac5ba99f7",
      "e8e3ee9741e4480dae5003ccc19a7891",
      "9a569045221b43acb3ba2fbf116b2c74"
     ]
    },
    "id": "YEfRRUK0NiNm",
    "outputId": "93f53d05-7667-4cda-a38e-c3a953124f79"
   },
   "outputs": [],
   "source": [
    "# for m in methods:\n",
    "#     layouts = []\n",
    "#     for G in tqdm(G_list):\n",
    "#         layout = draw_layout(G, method=m, draw=False)\n",
    "#         layouts.append(np.array(list(layout.values())))\n",
    "#     np.save(f'layouts/rome/{m}.npy', layouts)"
   ]
  },
  {
   "cell_type": "code",
   "execution_count": 16,
   "metadata": {
    "colab": {
     "base_uri": "https://localhost:8080/",
     "height": 564
    },
    "id": "upK7AHYqPmC5",
    "outputId": "29a88e61-f55f-409c-9194-12c6d5762528"
   },
   "outputs": [],
   "source": [
    "# from collections import Counter\n",
    "\n",
    "# letter_counts = Counter(best_list)\n",
    "# df = pd.DataFrame.from_dict(letter_counts, orient='index')\n",
    "# df.plot(kind='bar', figsize=[12, 8])"
   ]
  },
  {
   "cell_type": "markdown",
   "metadata": {
    "id": "f-ODE2k8BFV6"
   },
   "source": [
    "## Create folders"
   ]
  },
  {
   "cell_type": "code",
   "execution_count": 17,
   "metadata": {
    "id": "3ykUMINYBRog"
   },
   "outputs": [],
   "source": [
    "mkdirs(paths.checkpoints(), paths.tensorboard(), paths.visualization(), f\"{paths.root}/logs\", f\"{paths.root}/metrics\")"
   ]
  },
  {
   "cell_type": "markdown",
   "metadata": {
    "id": "BFq9k5nzBIh5"
   },
   "source": [
    "## Load checkpoints"
   ]
  },
  {
   "cell_type": "code",
   "execution_count": 18,
   "metadata": {
    "id": "W5NbsKkobIfA"
   },
   "outputs": [],
   "source": [
    "class EdgeFeatureDiscriminator(nn.Module):\n",
    "    def __init__(self, \n",
    "                 conv, \n",
    "                 dense,\n",
    "                 shared_depth,\n",
    "                 enet_depth,\n",
    "                 enet_width,\n",
    "                 aggr='add', \n",
    "                 root_weight=True,\n",
    "                 normalize=None):\n",
    "        super().__init__()\n",
    "        self.enet = nn.Sequential(*[\n",
    "            DenseLayer(in_dim=in_d,\n",
    "                       out_dim=out_d,\n",
    "                       skip=nonlin,\n",
    "                       bn=nonlin,\n",
    "                       act=nonlin,\n",
    "                       dp=None)\n",
    "            for in_d, out_d, nonlin \n",
    "            in zip([self._get_feature_dim()] + [enet_width] * (shared_depth-1),\n",
    "                   [enet_width] * shared_depth,\n",
    "                   [True] * (shared_depth-1) + [False])     \n",
    "        ])\n",
    "        self.blocks = nn.ModuleList([\n",
    "            GNNLayer(nfeat_dims=(in_d, out_d),\n",
    "                     efeat_dim=enet_width,\n",
    "                     edge_net=EdgeNet(nfeat_dims=(in_d, out_d), \n",
    "                                      efeat_dim=enet_width, \n",
    "                                      depth=enet_depth, \n",
    "                                      width=enet_width),\n",
    "                     aggr=aggr,\n",
    "                     dense=False,\n",
    "                     skip=nonlin,\n",
    "                     bn=nonlin,\n",
    "                     act=nonlin,\n",
    "                     root_weight=root_weight) \n",
    "            for in_d, out_d, nonlin \n",
    "            in zip(conv[:-1], conv[1:], [True] * (len(conv)-2) + [False])     \n",
    "        ])\n",
    "        self.pool = (gnn.global_mean_pool if aggr == 'mean' \n",
    "                     else gnn.global_add_pool if aggr == 'add' \n",
    "                     else None)\n",
    "        self.dense = nn.Identity() if not dense else nn.Sequential(*[\n",
    "            DenseLayer(in_dim=in_d,\n",
    "                       out_dim=out_d,\n",
    "                       skip=nonlin,\n",
    "                       bn=nonlin,\n",
    "                       act=nonlin,\n",
    "                       dp=None)\n",
    "            for in_d, out_d, nonlin \n",
    "            in zip(conv[-1:] + dense[:-1], dense, [True] * (len(dense)-1) + [False])     \n",
    "        ])\n",
    "        self.normalize = normalize or IdentityTransformation()\n",
    "    \n",
    "    def forward(self, batch):\n",
    "        x = torch.ones_like(batch.pos)\n",
    "        e = self.enet(self._get_features(self._get_edge_info(batch, layout='pos')))\n",
    "        for block in self.blocks:\n",
    "            x = block(x, e, batch)\n",
    "        x = self.pool(x, batch.batch)\n",
    "        x = self.dense(x)\n",
    "        return x\n",
    "    \n",
    "    def _get_edge_info(self, batch, layout='gt_pos'):\n",
    "        pos = self.normalize(batch[layout].float(), batch)\n",
    "        src, dst = get_edges(pos, batch)\n",
    "        v, u = l2_normalize(dst - src, return_norm=True)\n",
    "        d = batch.edge_attr[:, :1]\n",
    "        return {\n",
    "            \"src\": src,\n",
    "            \"dst\": dst,\n",
    "            \"v\": v,\n",
    "            \"u\": u,\n",
    "            \"d\": d,\n",
    "        }\n",
    "\n",
    "    def _get_features(self, edges):\n",
    "        return torch.cat([edges['src'], edges['dst'], edges['d']], dim=1)\n",
    "        \n",
    "    def _get_feature_dim(self):\n",
    "        return self._get_features({\n",
    "            \"src\": torch.zeros(1, 2),\n",
    "            \"dst\": torch.zeros(1, 2),\n",
    "            \"v\": torch.zeros(1, 2),\n",
    "            \"u\": torch.zeros(1, 1),\n",
    "            \"d\": torch.zeros(1, 1),\n",
    "        }).shape[-1]"
   ]
  },
  {
   "cell_type": "code",
   "execution_count": 19,
   "metadata": {
    "id": "96ZActxlL0fJ"
   },
   "outputs": [],
   "source": [
    "class StressDiscriminator(nn.Module):\n",
    "    def __init__(self, normalize=CanonicalizationByStress(), **kwargs):\n",
    "        super().__init__()\n",
    "        self.dummy = nn.Parameter(torch.zeros(1))\n",
    "        self.normalize = normalize\n",
    "        self.stress = Stress(reduce=None)\n",
    "\n",
    "    def forward(self, batch):\n",
    "        return -self.stress(self.normalize(batch.pos, batch), batch)"
   ]
  },
  {
   "cell_type": "code",
   "execution_count": 20,
   "metadata": {
    "id": "IJ6xCYBUuhcw"
   },
   "outputs": [],
   "source": [
    "def get_ckpt_epoch(folder, epoch):\n",
    "    if not os.path.isdir(folder):\n",
    "        os.mkdir(folder)\n",
    "    if epoch >= 0:\n",
    "        return epoch\n",
    "    ckpt_files = os.listdir(folder)\n",
    "    last_epoch = 0\n",
    "    if ckpt_files:\n",
    "        last_epoch = sorted(list(map(lambda x: int(re.search('(?<=epoch_)(\\d+)(?=\\.)', x).group(1)), ckpt_files)))[-1]\n",
    "    return last_epoch + epoch + 1\n",
    "\n",
    "def start_epoch():\n",
    "    return get_ckpt_epoch(paths.checkpoints(), config.epoch.start)"
   ]
  },
  {
   "cell_type": "code",
   "execution_count": 21,
   "metadata": {
    "colab": {
     "base_uri": "https://localhost:8080/"
    },
    "id": "JacDYXka9U01",
    "outputId": "ef4e31ab-2144-497c-8e4f-4d3740ce2d52"
   },
   "outputs": [
    {
     "name": "stdout",
     "output_type": "stream",
     "text": [
      "Loading from artifacts/checkpoints/GAN(gan=rgan,data=best(xing,stress),dis=deep,share=8,embed=8,gp=0,decay=.98)/gen_epoch_1119.pt...\n",
      "Loading from artifacts/checkpoints/GAN(gan=rgan,data=best(xing,stress),dis=deep,share=8,embed=8,gp=0,decay=.98)/gen_optim_epoch_1119.pt...\n"
     ]
    }
   ],
   "source": [
    "generator = Generator(**config.generator.params[...]).to(device)\n",
    "generator_optimizer = config.generator.optim(generator.parameters(), lr=config.generator.lr.initial * config.generator.lr.decay ** start_epoch())\n",
    "generator_scheduler = torch.optim.lr_scheduler.ExponentialLR(generator_optimizer, gamma=config.generator.lr.decay)\n",
    "if start_epoch() != 0:\n",
    "    gen_ckpt_epoch = start_epoch()\n",
    "elif config.generator.pretrained.name is not None and config.generator.pretrained.epoch != 0:\n",
    "    gen_pretrained_epoch = get_ckpt_epoch(paths.gen_pretrain(), config.generator.pretrained.epoch)\n",
    "    gen_ckpt_epoch = gen_pretrained_epoch \n",
    "else:\n",
    "    gen_ckpt_epoch = None\n",
    "if gen_ckpt_epoch is not None:\n",
    "    # Load generator\n",
    "    gen_ckpt_file = f\"{paths.checkpoints()}/gen_epoch_{gen_ckpt_epoch}.pt\"\n",
    "    print(f\"Loading from {gen_ckpt_file}...\")\n",
    "    generator.load_state_dict(torch.load(gen_ckpt_file, map_location=torch.device(device)))\n",
    "    # Load generator optimizer\n",
    "    gen_optim_ckpt_file = f\"{paths.checkpoints()}/gen_optim_epoch_{gen_ckpt_epoch}.pt\"\n",
    "    print(f\"Loading from {gen_optim_ckpt_file}...\")\n",
    "    generator_optimizer.load_state_dict(torch.load(gen_optim_ckpt_file, map_location=torch.device(device)))"
   ]
  },
  {
   "cell_type": "code",
   "execution_count": 22,
   "metadata": {
    "colab": {
     "base_uri": "https://localhost:8080/"
    },
    "id": "oWQhD7-88VXe",
    "outputId": "3ba01600-b546-4e45-a6bd-c7a65af1ae9e"
   },
   "outputs": [
    {
     "name": "stdout",
     "output_type": "stream",
     "text": [
      "Loading from artifacts/checkpoints/GAN(gan=rgan,data=best(xing,stress),dis=deep,share=8,embed=8,gp=0,decay=.98)/dis_epoch_1119.pt...\n",
      "Loading from artifacts/checkpoints/GAN(gan=rgan,data=best(xing,stress),dis=deep,share=8,embed=8,gp=0,decay=.98)/dis_optim_epoch_1119.pt...\n"
     ]
    }
   ],
   "source": [
    "discriminator = EdgeFeatureDiscriminator(**config.discriminator.params[...]).to(device)\n",
    "discriminator_optimizer = config.discriminator.optim(discriminator.parameters(), lr=config.discriminator.lr.initial * config.discriminator.lr.decay ** start_epoch())\n",
    "discriminator_scheduler = torch.optim.lr_scheduler.ExponentialLR(discriminator_optimizer, gamma=config.discriminator.lr.decay)\n",
    "if start_epoch() != 0:\n",
    "    dis_ckpt_epoch = start_epoch()\n",
    "elif config.discriminator.pretrained.name is not None and config.discriminator.pretrained.epoch != 0:\n",
    "    dis_pretrained_epoch = get_ckpt_epoch(paths.dis_pretrain(), config.discriminator.pretrained.epoch)\n",
    "    dis_ckpt_epoch = dis_pretrained_epoch # f\"{paths.dis_pretrain()}/dis_epoch_{dis_pretrained_epoch}.pt\"\n",
    "else:\n",
    "    dis_ckpt_epoch = None\n",
    "if dis_ckpt_epoch is not None:\n",
    "    # Load discriminator\n",
    "    dis_ckpt_file = f\"{paths.checkpoints()}/dis_epoch_{dis_ckpt_epoch}.pt\"\n",
    "    print(f\"Loading from {dis_ckpt_file}...\")\n",
    "    discriminator.load_state_dict(torch.load(dis_ckpt_file, map_location=torch.device(device)))\n",
    "    # Load discriminator optimizer\n",
    "    dis_optim_ckpt_file = f\"{paths.checkpoints()}/dis_optim_epoch_{dis_ckpt_epoch}.pt\"\n",
    "    print(f\"Loading from {dis_optim_ckpt_file}...\")\n",
    "    discriminator_optimizer.load_state_dict(torch.load(dis_optim_ckpt_file, map_location=torch.device(device)))"
   ]
  },
  {
   "cell_type": "markdown",
   "metadata": {
    "id": "N39dDHraedM6"
   },
   "source": [
    "# Train"
   ]
  },
  {
   "cell_type": "code",
   "execution_count": 23,
   "metadata": {
    "id": "BdIJSDSJedM-"
   },
   "outputs": [],
   "source": [
    "stress_criterion = StressDiscriminator().to(device)\n",
    "val_criterion = Stress(reduce=None)\n",
    "xing_criterion = Xing(reduce=None)\n",
    "dis_convert = DiscriminatorDataConverter(complete_graph=config.discriminator.complete, normalize=config.discriminator.params.normalize)\n",
    "tensorboard = SummaryWriter(log_dir=paths.tensorboard())\n",
    "epoch = start_epoch() + 1"
   ]
  },
  {
   "cell_type": "code",
   "execution_count": 24,
   "metadata": {
    "id": "OHRWj1h0edM-"
   },
   "outputs": [],
   "source": [
    "def gradient_penalty(interpolated, discriminator, weight=10):\n",
    "    interpolated.pos.requires_grad_()\n",
    "    prob_interpolated = discriminator(interpolated)\n",
    "    gradients = autograd.grad(outputs=prob_interpolated, \n",
    "                              inputs=interpolated.pos,\n",
    "                              grad_outputs=torch.ones_like(prob_interpolated),\n",
    "                              create_graph=True, \n",
    "                              retain_graph=True, \n",
    "                              allow_unused=True)[0]\n",
    "    gradients_norm = torch.sqrt(gnn.global_add_pool(gradients.square().sum(dim=1), batch.batch) + 1e-8)\n",
    "    return weight * ((gradients_norm - 1) ** 2).mean()"
   ]
  },
  {
   "cell_type": "code",
   "execution_count": 25,
   "metadata": {
    "id": "o5wJJN9AedM_"
   },
   "outputs": [],
   "source": [
    "def get_gp_loss(batch, fake_pos, weight):\n",
    "    if weight > 0:\n",
    "        interp = dis_convert(batch, fake_pos, random.random())\n",
    "        return gradient_penalty(interp, discriminator, weight).mean()\n",
    "    return 0"
   ]
  },
  {
   "cell_type": "code",
   "execution_count": 26,
   "metadata": {
    "id": "QwuA6sRoedM_"
   },
   "outputs": [],
   "source": [
    "def get_sgan_loss(batch, fake_pos, mode='discriminator'):\n",
    "    real = dis_convert(batch)\n",
    "    fake = dis_convert(batch, fake_pos)\n",
    "    pred = discriminator(merge_batch(real, fake)).view(2, -1).T\n",
    "    if mode == 'discriminator':\n",
    "        label = torch.zeros(pred.shape[0]).long()\n",
    "    elif mode == 'generator':\n",
    "        label = torch.ones(pred.shape[0]).long()\n",
    "    else:\n",
    "        raise Exception\n",
    "    return nn.CrossEntropyLoss()(pred, label)"
   ]
  },
  {
   "cell_type": "code",
   "execution_count": 27,
   "metadata": {
    "id": "GuAP1YchedNA"
   },
   "outputs": [],
   "source": [
    "def get_rgan_loss(batch, fake_pos, mode='discriminator'):\n",
    "    real = dis_convert(batch)\n",
    "    fake = dis_convert(batch, fake_pos)\n",
    "    pred = discriminator(merge_batch(real, fake)).view(2, -1).T\n",
    "    real_pred, fake_pred = pred[:,0], pred[:,1]\n",
    "    if mode == 'discriminator':\n",
    "        losses = - F.logsigmoid(real_pred - fake_pred)\n",
    "    elif mode == 'generator':\n",
    "        losses = - F.logsigmoid(fake_pred - real_pred)\n",
    "    else:\n",
    "        raise Exception\n",
    "    return losses.mean()"
   ]
  },
  {
   "cell_type": "code",
   "execution_count": 28,
   "metadata": {
    "id": "KFllQ7BredNA"
   },
   "outputs": [],
   "source": [
    "def get_wgan_loss(batch, fake_pos, mode='discriminator'):\n",
    "    real = dis_convert(batch)\n",
    "    fake = dis_convert(batch, fake_pos)\n",
    "    pred = discriminator(merge_batch(real, fake)).view(2, -1).T\n",
    "    real_pred, fake_pred = pred[:,0], pred[:,1]\n",
    "    if mode == 'discriminator':\n",
    "        losses = fake_pred - real_pred \n",
    "    elif mode == 'generator':\n",
    "        losses = real_pred - fake_pred\n",
    "    else:\n",
    "        raise Exception\n",
    "    return losses.mean()"
   ]
  },
  {
   "cell_type": "code",
   "execution_count": 29,
   "metadata": {
    "id": "r5Kg_tYEedNA"
   },
   "outputs": [],
   "source": [
    "def get_ragan_loss(batch, fake_pos, mode='discriminator'):\n",
    "    real = dis_convert(batch)\n",
    "    fake = dis_convert(batch, fake_pos)\n",
    "    pred = discriminator(merge_batch(real, fake)).view(2, -1).T\n",
    "    real_pred, fake_pred = pred[:,0], pred[:,1]\n",
    "    if mode == 'discriminator':\n",
    "        losses = - F.logsigmoid(real_pred - fake_pred.mean()) - F.logsigmoid(real_pred.mean() - fake_pred)\n",
    "    elif mode == 'generator':\n",
    "        losses = - F.logsigmoid(fake_pred - real_pred.mean()) - F.logsigmoid(fake_pred.mean() - real_pred)\n",
    "    else:\n",
    "        raise Exception\n",
    "    return losses.mean()"
   ]
  },
  {
   "cell_type": "code",
   "execution_count": 30,
   "metadata": {},
   "outputs": [],
   "source": [
    "def get_dgdv2_loss(batch, fake_pos, mode='discriminator'):\n",
    "    fake = dis_convert(batch, fake_pos)\n",
    "    pred = discriminator(fake)\n",
    "    if mode == 'discriminator':\n",
    "        gt = get_gt(batch, fake_pos)\n",
    "        loss = criterion(pred, gt)\n",
    "    elif mode == 'generator':\n",
    "        losses = pred.sum(dim=0)\n",
    "#         losses = torch.tensor(config.importance).to(device) * losses #/ losses.detach()\n",
    "        loss = losses.sum()\n",
    "    else:\n",
    "        raise Exception\n",
    "    return -loss"
   ]
  },
  {
   "cell_type": "code",
   "execution_count": 31,
   "metadata": {
    "id": "3IE_84f-edNB"
   },
   "outputs": [],
   "source": [
    "def get_gan_loss(batch, fake_pos, mode='discriminator'):\n",
    "    return {\"sgan\": get_sgan_loss,\n",
    "            \"wgan\": get_wgan_loss,\n",
    "            \"rgan\": get_rgan_loss,\n",
    "            \"ragan\": get_ragan_loss,\n",
    "            \"dgdv2\": get_dgdv2_loss}[config.gan_flavor](batch, fake_pos, mode)"
   ]
  },
  {
   "cell_type": "code",
   "execution_count": 32,
   "metadata": {
    "colab": {
     "background_save": true,
     "base_uri": "https://localhost:8080/",
     "height": 80
    },
    "id": "2NjekXgkedNB",
    "outputId": "da85b2ec-c0de-459c-c0dd-7ba3519419fa",
    "scrolled": true,
    "tags": []
   },
   "outputs": [
    {
     "data": {
      "application/vnd.jupyter.widget-view+json": {
       "model_id": "54c682e57d074065837b87ec2628ca71",
       "version_major": 2,
       "version_minor": 0
      },
      "text/plain": [
       "Tab(children=(VBox(children=(Wrapper(), Hud())), HBox(children=(Output(),), layout=Layout(height='500px', over…"
      ]
     },
     "metadata": {},
     "output_type": "display_data"
    },
    {
     "ename": "KeyboardInterrupt",
     "evalue": "",
     "output_type": "error",
     "traceback": [
      "\u001b[0;31m---------------------------------------------------------------------------\u001b[0m",
      "\u001b[0;31mKeyboardInterrupt\u001b[0m                         Traceback (most recent call last)",
      "\u001b[0;32m/tmp/slurmtmp.5715224/ipykernel_66494/801679965.py\u001b[0m in \u001b[0;36m<module>\u001b[0;34m\u001b[0m\n\u001b[1;32m    127\u001b[0m     \u001b[0;32mfor\u001b[0m \u001b[0m_\u001b[0m \u001b[0;32min\u001b[0m \u001b[0mrange\u001b[0m\u001b[0;34m(\u001b[0m\u001b[0mconfig\u001b[0m\u001b[0;34m.\u001b[0m\u001b[0mdiscriminator\u001b[0m\u001b[0;34m.\u001b[0m\u001b[0mrepeat\u001b[0m\u001b[0;34m)\u001b[0m\u001b[0;34m:\u001b[0m\u001b[0;34m\u001b[0m\u001b[0;34m\u001b[0m\u001b[0m\n\u001b[1;32m    128\u001b[0m         \u001b[0;32mfor\u001b[0m \u001b[0mbatch\u001b[0m \u001b[0;32min\u001b[0m \u001b[0mtrain_loader\u001b[0m\u001b[0;34m:\u001b[0m\u001b[0;34m\u001b[0m\u001b[0;34m\u001b[0m\u001b[0m\n\u001b[0;32m--> 129\u001b[0;31m             \u001b[0mtrain_dis\u001b[0m\u001b[0;34m(\u001b[0m\u001b[0mbatch\u001b[0m\u001b[0;34m,\u001b[0m \u001b[0mepoch\u001b[0m\u001b[0;34m)\u001b[0m\u001b[0;34m\u001b[0m\u001b[0;34m\u001b[0m\u001b[0m\n\u001b[0m\u001b[1;32m    130\u001b[0m             \u001b[0;32mif\u001b[0m \u001b[0mconfig\u001b[0m\u001b[0;34m.\u001b[0m\u001b[0malternate\u001b[0m \u001b[0;34m==\u001b[0m \u001b[0;34m'iteration'\u001b[0m\u001b[0;34m:\u001b[0m\u001b[0;34m\u001b[0m\u001b[0;34m\u001b[0m\u001b[0m\n\u001b[1;32m    131\u001b[0m                 \u001b[0mtrain_gen\u001b[0m\u001b[0;34m(\u001b[0m\u001b[0mbatch\u001b[0m\u001b[0;34m,\u001b[0m \u001b[0mepoch\u001b[0m\u001b[0;34m)\u001b[0m\u001b[0;34m\u001b[0m\u001b[0;34m\u001b[0m\u001b[0m\n",
      "\u001b[0;32m/tmp/slurmtmp.5715224/ipykernel_66494/801679965.py\u001b[0m in \u001b[0;36mtrain_dis\u001b[0;34m(batch, epoch)\u001b[0m\n\u001b[1;32m      5\u001b[0m     \u001b[0;32mif\u001b[0m \u001b[0mconfig\u001b[0m\u001b[0;34m.\u001b[0m\u001b[0mdiscriminator\u001b[0m\u001b[0;34m.\u001b[0m\u001b[0mnoise\u001b[0m\u001b[0;34m.\u001b[0m\u001b[0mstd\u001b[0m \u001b[0;34m>\u001b[0m \u001b[0;36m0\u001b[0m\u001b[0;34m:\u001b[0m\u001b[0;34m\u001b[0m\u001b[0;34m\u001b[0m\u001b[0m\n\u001b[1;32m      6\u001b[0m         \u001b[0mgenerator_output\u001b[0m \u001b[0;34m=\u001b[0m \u001b[0mgenerator_output\u001b[0m \u001b[0;34m+\u001b[0m \u001b[0mtorch\u001b[0m\u001b[0;34m.\u001b[0m\u001b[0mrandn_like\u001b[0m\u001b[0;34m(\u001b[0m\u001b[0mgenerator_output\u001b[0m\u001b[0;34m)\u001b[0m \u001b[0;34m*\u001b[0m \u001b[0mconfig\u001b[0m\u001b[0;34m.\u001b[0m\u001b[0mdiscriminator\u001b[0m\u001b[0;34m.\u001b[0m\u001b[0mnoise\u001b[0m\u001b[0;34m.\u001b[0m\u001b[0mstd\u001b[0m \u001b[0;34m*\u001b[0m \u001b[0mconfig\u001b[0m\u001b[0;34m.\u001b[0m\u001b[0mdiscriminator\u001b[0m\u001b[0;34m.\u001b[0m\u001b[0mnoise\u001b[0m\u001b[0;34m.\u001b[0m\u001b[0mdecay\u001b[0m \u001b[0;34m**\u001b[0m \u001b[0mepoch\u001b[0m\u001b[0;34m\u001b[0m\u001b[0;34m\u001b[0m\u001b[0m\n\u001b[0;32m----> 7\u001b[0;31m     \u001b[0mdiscriminator_loss\u001b[0m \u001b[0;34m=\u001b[0m \u001b[0mget_gan_loss\u001b[0m\u001b[0;34m(\u001b[0m\u001b[0mbatch\u001b[0m\u001b[0;34m,\u001b[0m \u001b[0mgenerator_output\u001b[0m\u001b[0;34m,\u001b[0m \u001b[0mmode\u001b[0m\u001b[0;34m=\u001b[0m\u001b[0;34m'discriminator'\u001b[0m\u001b[0;34m)\u001b[0m\u001b[0;34m\u001b[0m\u001b[0;34m\u001b[0m\u001b[0m\n\u001b[0m\u001b[1;32m      8\u001b[0m \u001b[0;34m\u001b[0m\u001b[0m\n\u001b[1;32m      9\u001b[0m     \u001b[0;31m# train discriminator\u001b[0m\u001b[0;34m\u001b[0m\u001b[0;34m\u001b[0m\u001b[0m\n",
      "\u001b[0;32m/tmp/slurmtmp.5715224/ipykernel_66494/4066978981.py\u001b[0m in \u001b[0;36mget_gan_loss\u001b[0;34m(batch, fake_pos, mode)\u001b[0m\n\u001b[1;32m      1\u001b[0m \u001b[0;32mdef\u001b[0m \u001b[0mget_gan_loss\u001b[0m\u001b[0;34m(\u001b[0m\u001b[0mbatch\u001b[0m\u001b[0;34m,\u001b[0m \u001b[0mfake_pos\u001b[0m\u001b[0;34m,\u001b[0m \u001b[0mmode\u001b[0m\u001b[0;34m=\u001b[0m\u001b[0;34m'discriminator'\u001b[0m\u001b[0;34m)\u001b[0m\u001b[0;34m:\u001b[0m\u001b[0;34m\u001b[0m\u001b[0;34m\u001b[0m\u001b[0m\n\u001b[0;32m----> 2\u001b[0;31m     return {\"sgan\": get_sgan_loss,\n\u001b[0m\u001b[1;32m      3\u001b[0m             \u001b[0;34m\"wgan\"\u001b[0m\u001b[0;34m:\u001b[0m \u001b[0mget_wgan_loss\u001b[0m\u001b[0;34m,\u001b[0m\u001b[0;34m\u001b[0m\u001b[0;34m\u001b[0m\u001b[0m\n\u001b[1;32m      4\u001b[0m             \u001b[0;34m\"rgan\"\u001b[0m\u001b[0;34m:\u001b[0m \u001b[0mget_rgan_loss\u001b[0m\u001b[0;34m,\u001b[0m\u001b[0;34m\u001b[0m\u001b[0;34m\u001b[0m\u001b[0m\n\u001b[1;32m      5\u001b[0m             \u001b[0;34m\"ragan\"\u001b[0m\u001b[0;34m:\u001b[0m \u001b[0mget_ragan_loss\u001b[0m\u001b[0;34m,\u001b[0m\u001b[0;34m\u001b[0m\u001b[0;34m\u001b[0m\u001b[0m\n",
      "\u001b[0;32m/tmp/slurmtmp.5715224/ipykernel_66494/3696265815.py\u001b[0m in \u001b[0;36mget_rgan_loss\u001b[0;34m(batch, fake_pos, mode)\u001b[0m\n\u001b[1;32m      2\u001b[0m     \u001b[0mreal\u001b[0m \u001b[0;34m=\u001b[0m \u001b[0mdis_convert\u001b[0m\u001b[0;34m(\u001b[0m\u001b[0mbatch\u001b[0m\u001b[0;34m)\u001b[0m\u001b[0;34m\u001b[0m\u001b[0;34m\u001b[0m\u001b[0m\n\u001b[1;32m      3\u001b[0m     \u001b[0mfake\u001b[0m \u001b[0;34m=\u001b[0m \u001b[0mdis_convert\u001b[0m\u001b[0;34m(\u001b[0m\u001b[0mbatch\u001b[0m\u001b[0;34m,\u001b[0m \u001b[0mfake_pos\u001b[0m\u001b[0;34m)\u001b[0m\u001b[0;34m\u001b[0m\u001b[0;34m\u001b[0m\u001b[0m\n\u001b[0;32m----> 4\u001b[0;31m     \u001b[0mpred\u001b[0m \u001b[0;34m=\u001b[0m \u001b[0mdiscriminator\u001b[0m\u001b[0;34m(\u001b[0m\u001b[0mmerge_batch\u001b[0m\u001b[0;34m(\u001b[0m\u001b[0mreal\u001b[0m\u001b[0;34m,\u001b[0m \u001b[0mfake\u001b[0m\u001b[0;34m)\u001b[0m\u001b[0;34m)\u001b[0m\u001b[0;34m.\u001b[0m\u001b[0mview\u001b[0m\u001b[0;34m(\u001b[0m\u001b[0;36m2\u001b[0m\u001b[0;34m,\u001b[0m \u001b[0;34m-\u001b[0m\u001b[0;36m1\u001b[0m\u001b[0;34m)\u001b[0m\u001b[0;34m.\u001b[0m\u001b[0mT\u001b[0m\u001b[0;34m\u001b[0m\u001b[0;34m\u001b[0m\u001b[0m\n\u001b[0m\u001b[1;32m      5\u001b[0m     \u001b[0mreal_pred\u001b[0m\u001b[0;34m,\u001b[0m \u001b[0mfake_pred\u001b[0m \u001b[0;34m=\u001b[0m \u001b[0mpred\u001b[0m\u001b[0;34m[\u001b[0m\u001b[0;34m:\u001b[0m\u001b[0;34m,\u001b[0m\u001b[0;36m0\u001b[0m\u001b[0;34m]\u001b[0m\u001b[0;34m,\u001b[0m \u001b[0mpred\u001b[0m\u001b[0;34m[\u001b[0m\u001b[0;34m:\u001b[0m\u001b[0;34m,\u001b[0m\u001b[0;36m1\u001b[0m\u001b[0;34m]\u001b[0m\u001b[0;34m\u001b[0m\u001b[0;34m\u001b[0m\u001b[0m\n\u001b[1;32m      6\u001b[0m     \u001b[0;32mif\u001b[0m \u001b[0mmode\u001b[0m \u001b[0;34m==\u001b[0m \u001b[0;34m'discriminator'\u001b[0m\u001b[0;34m:\u001b[0m\u001b[0;34m\u001b[0m\u001b[0;34m\u001b[0m\u001b[0m\n",
      "\u001b[0;32m~/.conda/envs/deepgd/lib/python3.9/site-packages/torch/nn/modules/module.py\u001b[0m in \u001b[0;36m_call_impl\u001b[0;34m(self, *input, **kwargs)\u001b[0m\n\u001b[1;32m   1049\u001b[0m         if not (self._backward_hooks or self._forward_hooks or self._forward_pre_hooks or _global_backward_hooks\n\u001b[1;32m   1050\u001b[0m                 or _global_forward_hooks or _global_forward_pre_hooks):\n\u001b[0;32m-> 1051\u001b[0;31m             \u001b[0;32mreturn\u001b[0m \u001b[0mforward_call\u001b[0m\u001b[0;34m(\u001b[0m\u001b[0;34m*\u001b[0m\u001b[0minput\u001b[0m\u001b[0;34m,\u001b[0m \u001b[0;34m**\u001b[0m\u001b[0mkwargs\u001b[0m\u001b[0;34m)\u001b[0m\u001b[0;34m\u001b[0m\u001b[0;34m\u001b[0m\u001b[0m\n\u001b[0m\u001b[1;32m   1052\u001b[0m         \u001b[0;31m# Do not call functions when jit is used\u001b[0m\u001b[0;34m\u001b[0m\u001b[0;34m\u001b[0m\u001b[0m\n\u001b[1;32m   1053\u001b[0m         \u001b[0mfull_backward_hooks\u001b[0m\u001b[0;34m,\u001b[0m \u001b[0mnon_full_backward_hooks\u001b[0m \u001b[0;34m=\u001b[0m \u001b[0;34m[\u001b[0m\u001b[0;34m]\u001b[0m\u001b[0;34m,\u001b[0m \u001b[0;34m[\u001b[0m\u001b[0;34m]\u001b[0m\u001b[0;34m\u001b[0m\u001b[0;34m\u001b[0m\u001b[0m\n",
      "\u001b[0;32m/tmp/slurmtmp.5715224/ipykernel_66494/3879066284.py\u001b[0m in \u001b[0;36mforward\u001b[0;34m(self, batch)\u001b[0m\n\u001b[1;32m     58\u001b[0m         \u001b[0;32mfor\u001b[0m \u001b[0mblock\u001b[0m \u001b[0;32min\u001b[0m \u001b[0mself\u001b[0m\u001b[0;34m.\u001b[0m\u001b[0mblocks\u001b[0m\u001b[0;34m:\u001b[0m\u001b[0;34m\u001b[0m\u001b[0;34m\u001b[0m\u001b[0m\n\u001b[1;32m     59\u001b[0m             \u001b[0mx\u001b[0m \u001b[0;34m=\u001b[0m \u001b[0mblock\u001b[0m\u001b[0;34m(\u001b[0m\u001b[0mx\u001b[0m\u001b[0;34m,\u001b[0m \u001b[0me\u001b[0m\u001b[0;34m,\u001b[0m \u001b[0mbatch\u001b[0m\u001b[0;34m)\u001b[0m\u001b[0;34m\u001b[0m\u001b[0;34m\u001b[0m\u001b[0m\n\u001b[0;32m---> 60\u001b[0;31m         \u001b[0mx\u001b[0m \u001b[0;34m=\u001b[0m \u001b[0mself\u001b[0m\u001b[0;34m.\u001b[0m\u001b[0mpool\u001b[0m\u001b[0;34m(\u001b[0m\u001b[0mx\u001b[0m\u001b[0;34m,\u001b[0m \u001b[0mbatch\u001b[0m\u001b[0;34m.\u001b[0m\u001b[0mbatch\u001b[0m\u001b[0;34m)\u001b[0m\u001b[0;34m\u001b[0m\u001b[0;34m\u001b[0m\u001b[0m\n\u001b[0m\u001b[1;32m     61\u001b[0m         \u001b[0mx\u001b[0m \u001b[0;34m=\u001b[0m \u001b[0mself\u001b[0m\u001b[0;34m.\u001b[0m\u001b[0mdense\u001b[0m\u001b[0;34m(\u001b[0m\u001b[0mx\u001b[0m\u001b[0;34m)\u001b[0m\u001b[0;34m\u001b[0m\u001b[0;34m\u001b[0m\u001b[0m\n\u001b[1;32m     62\u001b[0m         \u001b[0;32mreturn\u001b[0m \u001b[0mx\u001b[0m\u001b[0;34m\u001b[0m\u001b[0;34m\u001b[0m\u001b[0m\n",
      "\u001b[0;32m~/.conda/envs/deepgd/lib/python3.9/site-packages/torch_geometric/nn/glob/glob.py\u001b[0m in \u001b[0;36mglobal_add_pool\u001b[0;34m(x, batch, size)\u001b[0m\n\u001b[1;32m     23\u001b[0m     \"\"\"\n\u001b[1;32m     24\u001b[0m \u001b[0;34m\u001b[0m\u001b[0m\n\u001b[0;32m---> 25\u001b[0;31m     \u001b[0msize\u001b[0m \u001b[0;34m=\u001b[0m \u001b[0mint\u001b[0m\u001b[0;34m(\u001b[0m\u001b[0mbatch\u001b[0m\u001b[0;34m.\u001b[0m\u001b[0mmax\u001b[0m\u001b[0;34m(\u001b[0m\u001b[0;34m)\u001b[0m\u001b[0;34m.\u001b[0m\u001b[0mitem\u001b[0m\u001b[0;34m(\u001b[0m\u001b[0;34m)\u001b[0m \u001b[0;34m+\u001b[0m \u001b[0;36m1\u001b[0m\u001b[0;34m)\u001b[0m \u001b[0;32mif\u001b[0m \u001b[0msize\u001b[0m \u001b[0;32mis\u001b[0m \u001b[0;32mNone\u001b[0m \u001b[0;32melse\u001b[0m \u001b[0msize\u001b[0m\u001b[0;34m\u001b[0m\u001b[0;34m\u001b[0m\u001b[0m\n\u001b[0m\u001b[1;32m     26\u001b[0m     \u001b[0;32mreturn\u001b[0m \u001b[0mscatter\u001b[0m\u001b[0;34m(\u001b[0m\u001b[0mx\u001b[0m\u001b[0;34m,\u001b[0m \u001b[0mbatch\u001b[0m\u001b[0;34m,\u001b[0m \u001b[0mdim\u001b[0m\u001b[0;34m=\u001b[0m\u001b[0;36m0\u001b[0m\u001b[0;34m,\u001b[0m \u001b[0mdim_size\u001b[0m\u001b[0;34m=\u001b[0m\u001b[0msize\u001b[0m\u001b[0;34m,\u001b[0m \u001b[0mreduce\u001b[0m\u001b[0;34m=\u001b[0m\u001b[0;34m'add'\u001b[0m\u001b[0;34m)\u001b[0m\u001b[0;34m\u001b[0m\u001b[0;34m\u001b[0m\u001b[0m\n\u001b[1;32m     27\u001b[0m \u001b[0;34m\u001b[0m\u001b[0m\n",
      "\u001b[0;31mKeyboardInterrupt\u001b[0m: "
     ]
    }
   ],
   "source": [
    "def train_dis(batch, epoch):\n",
    "    generator.requires_grad_(False)\n",
    "    discriminator.zero_grad()\n",
    "    generator_output = generator(batch)\n",
    "    if config.discriminator.noise.std > 0:\n",
    "        generator_output = generator_output + torch.randn_like(generator_output) * config.discriminator.noise.std * config.discriminator.noise.decay ** epoch\n",
    "    discriminator_loss = get_gan_loss(batch, generator_output, mode='discriminator')\n",
    "    \n",
    "    # train discriminator\n",
    "    discriminator_loss.backward()\n",
    "    discriminator_optimizer.step()\n",
    "\n",
    "    # gradient penalty\n",
    "    if config.gp_weight > 0:\n",
    "        discriminator.zero_grad()\n",
    "        gp_loss = get_gp_loss(batch, generator_output, config.gp_weight)\n",
    "        gp_loss.backward()\n",
    "        discriminator_optimizer.step()\n",
    "\n",
    "    hud['dis_loss'] = format(discriminator_loss.item(), '.2e')\n",
    "    pbar().update()\n",
    "\n",
    "def train_gen(batch, epoch):\n",
    "    generator.requires_grad_(True)\n",
    "    generator.zero_grad()\n",
    "    discriminator.zero_grad()\n",
    "    generator_output = generator(batch)\n",
    "    if config.discriminator.noise.std > 0:\n",
    "        generator_output = generator_output + torch.randn_like(generator_output) * config.discriminator.noise.std * config.discriminator.noise.decay ** epoch\n",
    "    generator_loss = get_gan_loss(batch, generator_output, mode='generator') \n",
    "    \n",
    "    #train generator\n",
    "    generator_loss.backward()\n",
    "    generator_optimizer.step()\n",
    "\n",
    "    with torch.no_grad():\n",
    "        dis_batch = dis_convert(batch, generator_output)\n",
    "        stress = stress_criterion(dis_batch).mean()\n",
    "        critic = discriminator(dis_batch).mean()\n",
    "    hud.append({'gen_loss': format(generator_loss.item(), '.2e'),\n",
    "                'stress': format(stress.item(), '.2e'),\n",
    "                'critic': format(critic.item(), '.2e')})\n",
    "    pbar().update()\n",
    "\n",
    "def cuda_memsafe_map(fn, *iterables, summary=False):\n",
    "    total, failed = 0, 0\n",
    "    iterator = zip(*iterables)\n",
    "    items = None\n",
    "    while True:\n",
    "        try:\n",
    "            items = next(iterator)\n",
    "            yield fn(*items)\n",
    "        except StopIteration:\n",
    "            if summary:\n",
    "                print(f'Iteration finished. {failed} out of {total} failed!')\n",
    "            break\n",
    "        except RuntimeError:\n",
    "            print('CUDA memory overflow! Skip batch...')\n",
    "            del items\n",
    "            failed += 1\n",
    "        torch.cuda.empty_cache()\n",
    "        total += 1\n",
    "    \n",
    "def validate(model, data_loader, criterion=val_criterion):\n",
    "    def val_one_batch(batch):\n",
    "        batch = preprocess_batch(model, batch)\n",
    "        pred = CanonicalizationByStress()(model(batch), batch)\n",
    "        gt = CanonicalizationByStress()(batch.gt_pos, batch)\n",
    "        loss = criterion(pred, batch)\n",
    "        gt_loss = criterion(gt, batch)\n",
    "        spc = (loss - gt_loss) / torch.maximum(torch.maximum(loss, gt_loss), torch.ones_like(loss)*1e-5)\n",
    "        return loss.mean().item(), spc.mean().item()\n",
    "    loss_all, spc_all = zip(*cuda_memsafe_map(val_one_batch, data_loader))\n",
    "    return np.mean(loss_all), np.mean(spc_all)\n",
    "\n",
    "def log(msg):\n",
    "    msg = f\"[{epoch:03}] {msg}\"\n",
    "    print(msg, file=open(paths.log(), \"a\"))\n",
    "    with log_out: \n",
    "        print(msg)\n",
    "\n",
    "print(f\"{'='*10} {config.link} {'='*10}\", file=open(paths.log(), \"a\"))\n",
    "hud = Hud()\n",
    "pbar = Wrapper(tqdm, total=len(train_loader)*2, smoothing=0)\n",
    "plot_out = Output()\n",
    "log_out = Output()\n",
    "tabs = {\"status\": VBox([pbar, hud]), \n",
    "        \"plot\": HBox([plot_out], layout=Layout(height='500px', overflow_y='auto')),\n",
    "        \"log\": HBox([log_out], layout=Layout(height='500px', overflow_y='auto'))}\n",
    "tab_bar = Tab(children=list(tabs.values()))\n",
    "[tab_bar.set_title(i, name) for i, name in enumerate(tabs)]\n",
    "display(tab_bar)\n",
    "while True:\n",
    "    if epoch % config.log_interval == 0:\n",
    "        torch.save(generator.state_dict(), f\"{paths.checkpoints()}/gen_epoch_{epoch}.pt\")\n",
    "        torch.save(generator_optimizer.state_dict(), f\"{paths.checkpoints()}/gen_optim_epoch_{epoch}.pt\")\n",
    "        torch.save(discriminator.state_dict(), f\"{paths.checkpoints()}/dis_epoch_{epoch}.pt\")\n",
    "        torch.save(discriminator_optimizer.state_dict(), f\"{paths.checkpoints()}/dis_optim_epoch_{epoch}.pt\")\n",
    "        generator.eval()\n",
    "        with torch.no_grad():\n",
    "            val_stress, val_stress_spc = validate(model=generator, data_loader=val_loader)\n",
    "            val_xing, val_xing_spc = validate(model=generator, data_loader=val_loader, criterion=xing_criterion)\n",
    "            with plot_out:\n",
    "                fig = plt.figure()\n",
    "                graph_vis(G_list[11100], generator(make_batch(data_list[11100]).to(device)).cpu())\n",
    "                plt.show()\n",
    "        # tensorboard.add_scalars('loss', {'train': train_loss, \n",
    "        #                                  'validation': val_loss}, epoch)\n",
    "        # for i, fn in enumerate(loss_fns):\n",
    "        #     tensorboard.add_scalars(type(fn).__name__, {'train': train_loss_comp[i].item(), \n",
    "        #                                           'validation': val_loss_comp[i].item()}, epoch)\n",
    "        hud.append({\n",
    "            'val_stress': format(val_stress, '.2f'),\n",
    "            'val_stress_spc': format(val_stress_spc, '.2%'),\n",
    "            'val_xing': format(val_xing, '.2f'),\n",
    "            'val_xing_spc': format(val_xing_spc, '.2%'),\n",
    "        })\n",
    "        log(f\"stress={hud.data['val_stress']}({hud.data['val_stress_spc']}) xing={hud.data['val_xing']}({hud.data['val_xing_spc']})\")\n",
    "        \n",
    "    # handle.update(tab_bar)\n",
    "    pbar().reset()\n",
    "    pbar().set_description(desc=f\"[epoch {epoch}/{config.epoch.end}]\")\n",
    "    hud(title=f\"epoch {epoch}\")\n",
    "    generator.train()\n",
    "    discriminator.train()\n",
    "    # proper: proper layout\n",
    "    for _ in range(config.discriminator.repeat):\n",
    "        for batch in train_loader:\n",
    "            train_dis(batch, epoch)\n",
    "            if config.alternate == 'iteration':\n",
    "                train_gen(batch, epoch)\n",
    "\n",
    "    if config.alternate == 'epoch':\n",
    "        for batch in train_loader:\n",
    "            train_gen(batch, epoch)\n",
    "\n",
    "    discriminator_scheduler.step()\n",
    "    generator_scheduler.step()\n",
    "\n",
    "    if epoch == config.epoch.end:\n",
    "        break\n",
    "    epoch += 1"
   ]
  },
  {
   "cell_type": "markdown",
   "metadata": {
    "id": "0qYK_X_hrq9o"
   },
   "source": [
    "# Test"
   ]
  },
  {
   "cell_type": "code",
   "execution_count": 33,
   "metadata": {
    "colab": {
     "base_uri": "https://localhost:8080/"
    },
    "id": "XEvmAtNjWhcY",
    "outputId": "9f4c86a4-a4b0-48f1-cb58-ab3679173184"
   },
   "outputs": [
    {
     "name": "stdout",
     "output_type": "stream",
     "text": [
      "Loading from artifacts/checkpoints/GAN(gan=rgan,data=best(xing,stress),dis=deep,share=8,embed=8,gp=0,decay=.98)/gen_epoch_1120.pt...\n"
     ]
    },
    {
     "data": {
      "text/plain": [
       "<All keys matched successfully>"
      ]
     },
     "execution_count": 33,
     "metadata": {},
     "output_type": "execute_result"
    }
   ],
   "source": [
    "test_epoch = -1\n",
    "\n",
    "test_generator = Generator(**config.generator.params[...]).to(device)\n",
    "test_ckpt_epoch = get_ckpt_epoch(paths.checkpoints(), test_epoch)\n",
    "test_ckpt_file = f\"{paths.checkpoints()}/gen_epoch_{test_ckpt_epoch}.pt\"\n",
    "print(f\"Loading from {test_ckpt_file}...\")\n",
    "test_generator.load_state_dict(torch.load(test_ckpt_file, map_location=torch.device(device)))"
   ]
  },
  {
   "cell_type": "code",
   "execution_count": 34,
   "metadata": {
    "colab": {
     "background_save": true,
     "base_uri": "https://localhost:8080/",
     "height": 1000,
     "referenced_widgets": [
      "9b7d18992dbf4a84931f916fbaaa37d8",
      "2c664d7e1e6d474fb87094fc0da270d3",
      "d375f5f82a4645d7b29c541596dc1c7f",
      "ecfa311bb06b4f6fa504598263ff69d3",
      "d1859990877149eab2b414b4e2a0e0c7",
      "d2be6733734844bca3e1db9b49eb1c1e",
      "4d98072bdf674792a13d77e85dd285d1",
      "f7ed92c383d741a0a1cef2536ff2db13",
      "2ba110f835c64ec4b82974996aed10af",
      "09397ceac9014af0aebca848d4d96d48",
      "fd0709f48d6c4527bc00b5f407f3c1b9"
     ]
    },
    "id": "ZubmSTcYrq9o",
    "outputId": "fc2f65a2-2085-43ac-b110-cbfe742318a8",
    "scrolled": true,
    "tags": []
   },
   "outputs": [
    {
     "data": {
      "application/vnd.jupyter.widget-view+json": {
       "model_id": "994bb631384f4302a5927ee506c5d257",
       "version_major": 2,
       "version_minor": 0
      },
      "text/plain": [
       "  0%|          | 0/1000 [00:00<?, ?it/s]"
      ]
     },
     "metadata": {},
     "output_type": "display_data"
    }
   ],
   "source": [
    "rotate = RotateByPrincipalComponents()\n",
    "def test_callback(*, idx, pred, metrics):\n",
    "    # graph_vis(G_list[idx], pred, file_name=f\"{paths.visualization()}/{idx}_{metrics['stress']:.2f}_{metrics['resolution_score']:.2f}.png\")\n",
    "    pred = rotate(torch.tensor(pred), data_list[idx])\n",
    "    graph_vis(G_list[idx], pred)\n",
    "    plt.title(f\"[pred] idx: {idx}, stress: {metrics['stress']:.2f}({metrics['stress_spc']:.2%}), xing: {metrics['xing']:.2f}({metrics['xing_spc']:.2%})\")\n",
    "    plt.show()\n",
    "    gt_pos = rotate(data_list[idx].gt_pos, data_list[idx])\n",
    "    graph_vis(G_list[idx], gt_pos, node_color='orange')\n",
    "    plt.title(f\"[gt] idx: {idx}, stress: {metrics['gt_stress']:.2f}, xing: {metrics['gt_xing']:.2f}\")\n",
    "    plt.show()\n",
    "    \n",
    "test_metrics = test(model=test_generator, \n",
    "                    criteria_list=[], \n",
    "                    dataset=data_list, \n",
    "                    idx_range=range(10000, 11000), \n",
    "#                     callback=test_callback,\n",
    "                    gt_pos=None)\n",
    "pickle.dump(test_metrics, open(paths.metrics(\"test\"), \"wb\"))"
   ]
  },
  {
   "cell_type": "code",
   "execution_count": 35,
   "metadata": {
    "colab": {
     "base_uri": "https://localhost:8080/",
     "height": 318
    },
    "id": "t2rFXIr_PsrJ",
    "outputId": "6a4205b1-4630-4de4-ec72-bdba3d3ea114"
   },
   "outputs": [
    {
     "name": "stdout",
     "output_type": "stream",
     "text": [
      "stress: tensor(316.8614)\n",
      "stress_spc: tensor(0.0258, dtype=torch.float64)\n",
      "xing: tensor(28.2150)\n",
      "xing_spc: tensor(0.1983, dtype=torch.float64)\n",
      "l1_angle: tensor(81.0301)\n",
      "l1_angle_spc: tensor(0.0547, dtype=torch.float64)\n",
      "edge: tensor(0.1527)\n",
      "edge_spc: tensor(0.1168, dtype=torch.float64)\n",
      "ring: tensor(251.2505)\n",
      "ring_spc: tensor(-0.0093, dtype=torch.float64)\n",
      "tsne: tensor(0.2050)\n",
      "tsne_spc: tensor(0.0850, dtype=torch.float64)\n",
      "reso_score: tensor(0.6010)\n",
      "min_angle: tensor(5.7875)\n"
     ]
    },
    {
     "data": {
      "text/html": [
       "<style type=\"text/css\">\n",
       "</style>\n",
       "<table id=\"T_9e855_\">\n",
       "  <thead>\n",
       "    <tr>\n",
       "      <th class=\"blank level0\" >&nbsp;</th>\n",
       "      <th class=\"col_heading level0 col0\" >stress</th>\n",
       "      <th class=\"col_heading level0 col1\" >stress_spc</th>\n",
       "      <th class=\"col_heading level0 col2\" >xing</th>\n",
       "      <th class=\"col_heading level0 col3\" >xing_spc</th>\n",
       "      <th class=\"col_heading level0 col4\" >l1_angle</th>\n",
       "      <th class=\"col_heading level0 col5\" >l1_angle_spc</th>\n",
       "      <th class=\"col_heading level0 col6\" >edge</th>\n",
       "      <th class=\"col_heading level0 col7\" >edge_spc</th>\n",
       "      <th class=\"col_heading level0 col8\" >ring</th>\n",
       "      <th class=\"col_heading level0 col9\" >ring_spc</th>\n",
       "      <th class=\"col_heading level0 col10\" >tsne</th>\n",
       "      <th class=\"col_heading level0 col11\" >tsne_spc</th>\n",
       "      <th class=\"col_heading level0 col12\" >reso_score</th>\n",
       "      <th class=\"col_heading level0 col13\" >min_angle</th>\n",
       "    </tr>\n",
       "  </thead>\n",
       "  <tbody>\n",
       "    <tr>\n",
       "      <th id=\"T_9e855_level0_row0\" class=\"row_heading level0 row0\" >0</th>\n",
       "      <td id=\"T_9e855_row0_col0\" class=\"data row0 col0\" >316.86</td>\n",
       "      <td id=\"T_9e855_row0_col1\" class=\"data row0 col1\" >2.58%</td>\n",
       "      <td id=\"T_9e855_row0_col2\" class=\"data row0 col2\" >28.22</td>\n",
       "      <td id=\"T_9e855_row0_col3\" class=\"data row0 col3\" >19.83%</td>\n",
       "      <td id=\"T_9e855_row0_col4\" class=\"data row0 col4\" >81.03</td>\n",
       "      <td id=\"T_9e855_row0_col5\" class=\"data row0 col5\" >5.47%</td>\n",
       "      <td id=\"T_9e855_row0_col6\" class=\"data row0 col6\" >0.15</td>\n",
       "      <td id=\"T_9e855_row0_col7\" class=\"data row0 col7\" >11.68%</td>\n",
       "      <td id=\"T_9e855_row0_col8\" class=\"data row0 col8\" >251.25</td>\n",
       "      <td id=\"T_9e855_row0_col9\" class=\"data row0 col9\" >-0.93%</td>\n",
       "      <td id=\"T_9e855_row0_col10\" class=\"data row0 col10\" >0.20</td>\n",
       "      <td id=\"T_9e855_row0_col11\" class=\"data row0 col11\" >8.50%</td>\n",
       "      <td id=\"T_9e855_row0_col12\" class=\"data row0 col12\" >0.60</td>\n",
       "      <td id=\"T_9e855_row0_col13\" class=\"data row0 col13\" >5.79</td>\n",
       "    </tr>\n",
       "  </tbody>\n",
       "</table>\n"
      ],
      "text/plain": [
       "<pandas.io.formats.style.Styler at 0x2b3e6834fb20>"
      ]
     },
     "execution_count": 35,
     "metadata": {},
     "output_type": "execute_result"
    }
   ],
   "source": [
    "metrics = test_metrics\n",
    "print('stress:', metrics['stress'].mean())\n",
    "print('stress_spc:', metrics['stress_spc'].mean())\n",
    "print('xing:', metrics['xing'].mean())\n",
    "print('xing_spc:', metrics['xing_spc'].mean())\n",
    "print('l1_angle:', metrics['l1_angle'].mean())\n",
    "print('l1_angle_spc:', metrics['l1_angle_spc'].mean())\n",
    "print('edge:', metrics['edge'].mean())\n",
    "print('edge_spc:', metrics['edge_spc'].mean())\n",
    "print('ring:', metrics['ring'].mean())\n",
    "print('ring_spc:', metrics['ring_spc'].mean())\n",
    "print('tsne:', metrics['tsne'].mean())\n",
    "print('tsne_spc:', metrics['tsne_spc'].mean())\n",
    "print('reso_score:', metrics['resolution_score'].mean())\n",
    "print('min_angle:', metrics['min_angle'].mean())\n",
    "columns = [\n",
    "    'stress',\n",
    "    'stress_spc',\n",
    "    'xing',\n",
    "    'xing_spc',\n",
    "    'l1_angle',\n",
    "    'l1_angle_spc',\n",
    "    'edge',\n",
    "    'edge_spc',\n",
    "    'ring',\n",
    "    'ring_spc',\n",
    "    'tsne',\n",
    "    'tsne_spc',\n",
    "    'reso_score',\n",
    "    'min_angle'\n",
    "]\n",
    "df = pd.DataFrame(map(lambda m: metrics[m].mean().item(), list(metrics.keys())[:-1])).set_axis(columns).T\n",
    "df.style.format({c: \"{:.2f}\" for c in columns if 'spc' not in c} | {c: \"{:.2%}\" for c in columns if 'spc' in c})"
   ]
  },
  {
   "cell_type": "code",
   "execution_count": 36,
   "metadata": {
    "id": "5e7vPr0M3mmG"
   },
   "outputs": [],
   "source": [
    "metrics = {}"
   ]
  },
  {
   "cell_type": "code",
   "execution_count": 37,
   "metadata": {},
   "outputs": [],
   "source": [
    "methods = ['fa2']"
   ]
  },
  {
   "cell_type": "code",
   "execution_count": 38,
   "metadata": {
    "colab": {
     "base_uri": "https://localhost:8080/",
     "height": 433,
     "referenced_widgets": [
      "a0cf6e046add4e639e52db69656e0db9",
      "8e237731bb1241ac858581b25389c012",
      "0891547293ad4211a138a4d92e01bb0b",
      "34912c8e581e47a99a1c4829c38cb75c",
      "5aa034c99c94424e835a2ee954b829ed",
      "248f6393eff74c3eb8740ca6d698045b",
      "686687a29c7f4ec98c4d76ca2062b14b",
      "996a84d1c23b47e4a2af252c6b60f55d",
      "3507f883bb954412b21c1c5641763ed7",
      "9582a849d91e457cadd514c95d6e1b5b",
      "52bfe674c2c547e09b7400a32a96f703",
      "93d58b3a12394fe1aa6f0431fc7cb0db",
      "af1d7855c9d646b0bcc7d95c4cb147a6",
      "f820e2b898cd461da04a4f651d27273d",
      "c0a112cfaa3d4d0aa9530372de84d8fb",
      "fd03985495694fbf9feb3f31ef8d18ce",
      "e02a2b36aa4c4d6fb5d2ac6693c1a927",
      "06f388ff5e3a48828d465096fe69977b",
      "c0052778c9c940e88935593e9f94b83b",
      "99a5e77a192d4a989c4534237eb16730",
      "77c6da092a6647fc9e54f7e276d75616",
      "8c13c0e8b5934117a662a78296bcb1b6",
      "cdcc3bd4235247b48c468c0f6b7682cc",
      "a2c6fa6fef4549cc853fa93b4b18cf95",
      "15cc02a756314083801b5f6798a1948c",
      "24d1c67fe52f452ab0c767e3c1a818aa",
      "c117db25c6fd484a9d0c7f210ccb1ade",
      "b090b60b61084cf692b3066dfac7f0a8",
      "5eab9848059c491b9c6cbac88683f025",
      "e87ffbaa1f204b52b9226337a506b040",
      "cf52198a9e4b46c7b49537a79919c09e",
      "51501227bc064ccbab97c22a679a0750",
      "d1b794a997dc457888a90bf44faee9b4",
      "21a755b50e5047bea797eccf24b35a0c",
      "16e78c3823ec4faf9f9cd9095b218ff5",
      "4ccd332c6b734acd8eff236eaf568dfa",
      "bd60fd13748347e48629df78fa455765",
      "e9187e4ba80b4fafa0334dae2e39aded",
      "4c39ec7c92b4402e8eedcb27beabaab1",
      "59a8194269f943bba571f710ad856973",
      "8e41bc25b9f348b1b85b381547cd60d1",
      "34d0f1529e64437fb25e639b41096072",
      "7e832c7543df43668eb72c0aa6356349",
      "f94162c9c5fe4c2581e3b80beaeb820b",
      "0284946fccf34607b25e1d6d81d4f72a",
      "8e8d4243a3624ba58d760bdf601d5126",
      "b1f0932594fe44f4be4beb8880172871",
      "820bb554d139437b8f6a6997f9002261",
      "459e375d1fe4497cb4197ef88e303c6d",
      "5726814966da46bbba942a114de4b319",
      "448beea5445f4642809801da46aa7e7c",
      "3746c0f0daf04f51805b4c95db20063a",
      "2ff74d1c705348438a32da37910c3300",
      "52f03147b5ab4cb390f9802b7a17a508",
      "5428511d652a47348203e8f3cd2e076d",
      "7b58569bee2e44c5a61a81f9a32c4c01",
      "c5e05d74b9404333a8155304e3497ba2",
      "3ad4e058bde44d87abab780368d49118",
      "8e437049b5c74ff1beddad93e30b19aa",
      "0c61377f4cc34b27ae34bdd6d976d868",
      "9ce35f9a9a23436ea77604513b5c4659",
      "dafbc43ad79c4feda093aefe490fc4b3",
      "497160b6bf80469a89680a03a468c8bb",
      "3265725ecb914981b6f07f68b8a582df",
      "1f0ac20d99d04ffb9ee75613526d3de6",
      "dee0e5716560483b8e2b107566439d94",
      "ca99841a1abd4fbd94927c49aaa711cb",
      "163a44ff1be04583ae7bd62726c55204",
      "f3b727045a0b4b4fabd147ec9c843e14",
      "7c4b4fe859cf48ab99b7e2780a24a539",
      "d9700cffab66480cb81e3722faab4e8b",
      "2c49acc1e0a64aa4b8ec461b0596848e",
      "691817157f43412f9c36002167606b75",
      "d0ae688d71734b56bb348de54e841798",
      "07a364ebcdaa491dbcc2304e4a8dae96",
      "538b277307b1449eaa79a2a91b4741d3",
      "f7b7dd4cbaa5468687b988c5e416a154",
      "877be862a4f045ec8b221097626becb5",
      "1bf37012df0844338ac689d4f6cc8eab",
      "33fe06641be544d3aab2c25cb979416f",
      "68de0d9261fa4e6999967b6f196d149c",
      "7017c5ba1ffc467495aca2689e516f7d",
      "e0997460cc21428695a0c278c6691baf",
      "522443bef4904996b6361ea265c4c56f",
      "dfe044b67917466f971ba84a11956d5e",
      "70b2d0ba1c1d4102841fb963480de1c7",
      "7b158daacd754a40bc0a48fc9ea6fea2",
      "8904f61ff30741e488eacf0e49440f66",
      "685dee6f1e1f4c2983d2d0b8eb90ed00",
      "005155a4d62d48cbbaf3d69614b08d81",
      "d2779dfa620041e4b32a7731926a5982",
      "53048bf27cb24080b4cdf20379302223",
      "0b5bff7794a14a20964da70b87158c2c",
      "ec664e55ea16435590393ae1617cccea",
      "f10d62ef464a45a7935610d869c282e3",
      "5e7c09bc35db4a3a8b9847c6d8478883",
      "987ea331b617446facc81b08bab1f8c4",
      "446c5a687b0d43358ab036d43ce281c3",
      "d89e216f62ae4a9999da1a91dd5e48b9",
      "09d03e7e66f54cafacefbfeda5fd6e5c",
      "d58c680562a44bbd9252e7ec6eebc06c",
      "71ea2594fdd942acac1cc61055438544",
      "fecda4df301b437f9fbfb61a7b593dc0",
      "bcf6741d926248cb92acf627d6557d2b",
      "5bd9868b9bda4f68b500a43916e2d148",
      "4bc5e02035de44ad827c4f881fd75afc",
      "7d80033a955e4feb947ca9cea931d90b",
      "e975c796d80d498992a50f87a2b0105c",
      "028b2ff105904a19a9a3e8ebf66967bb",
      "10dbf2cbdb1943eda6a0acaf5da3fe85",
      "14d59c7acc5e4e07a289db44406a4851",
      "d9447df93d714907bc9c768eb4910352",
      "d4a9ace081bf488680a7e43e0eaed71d",
      "022a60cde19546bfa6ecfb4947615ad9",
      "10c01207d9ba4fe197dc80717fceecc0",
      "f4995936570d4ba1a65e9a66e410b505",
      "b4bf66303e61491385cd616076a11c04",
      "a24ab2bfe7a44263bf60936d6e53ec32",
      "59e2e8ecc9f84d57af7bf44f5bba5df7",
      "be2eb92aab8045a99fd19195c3546b60",
      "e6715db2b048434796e910952cb5eb62",
      "8de2335007ba4a6b9935fa0c514c9f6a",
      "493a4bbe8057437a8c8acf4d03f8dcb0",
      "20b03955acc74e238695717124705520",
      "a89f9507496b4cf8bdd63bdb9bff79c4",
      "9752a1f6c8b6488d9628b8e0c023f10f",
      "61a0bebc687341a7bb3352febc8d4986",
      "07e0ff9c82a444788c60edee70688ca7",
      "4427901f35e54cc48e08527bb402c22a",
      "bd9dafb825954091ba975d71ab8c89ea",
      "7ec0f07bfe51484da38c18dc66d77804",
      "03943afebc4d4b668b54c7a0fd014a37",
      "a7a6b38a76424d738146b6a5786cf2c8",
      "1d1aa4729784470584c0001c1a296008",
      "e0c68ac9b5b442eeb77e6d9ea3c1da42",
      "c858ef9fd9324ab0ab885d85e3c8582f",
      "627bc2899c994a0c96c5d43e89dc77ff",
      "0e2c2f21fa8041038151170992ecb848",
      "2d9bcbf7629a4671bf8755e790276eb7",
      "77a4edf6ab1848a6a6df20c1c07358c6",
      "acf2212d6bb44c729b63281a98377095",
      "0c7a72818da3454190bab7f30a29e249",
      "d865af915b8b4aaa8cec8d40f1f8351d"
     ]
    },
    "id": "s1UnzfID4Ai6",
    "outputId": "3e204e76-68fd-4111-f527-91f6e3b7a3ca"
   },
   "outputs": [
    {
     "data": {
      "application/vnd.jupyter.widget-view+json": {
       "model_id": "573a6db3091a4f6ea25645cd9083b0b7",
       "version_major": 2,
       "version_minor": 0
      },
      "text/plain": [
       "  0%|          | 0/1000 [00:00<?, ?it/s]"
      ]
     },
     "metadata": {},
     "output_type": "display_data"
    }
   ],
   "source": [
    "for m in methods:\n",
    "    metrics[m] = test(model=test_generator, \n",
    "                      criteria_list=[], \n",
    "                      dataset=data_list, \n",
    "                      idx_range=range(10000, 11000), \n",
    "                      callback=None,\n",
    "                      gt_pos=load_pos(m))"
   ]
  },
  {
   "cell_type": "code",
   "execution_count": 39,
   "metadata": {
    "id": "dQ7hdCtk5u6K"
   },
   "outputs": [],
   "source": [
    "mean_metrics = {key : list(map(lambda m: metrics[key][m].mean().item(), list(metrics[key].keys())[:-1])) for key in metrics}"
   ]
  },
  {
   "cell_type": "code",
   "execution_count": 40,
   "metadata": {
    "colab": {
     "base_uri": "https://localhost:8080/",
     "height": 313
    },
    "id": "OGyaCmLXTuvA",
    "outputId": "6c42d9f3-9869-4504-bc9c-d0eedaecfd90"
   },
   "outputs": [
    {
     "data": {
      "text/html": [
       "<style type=\"text/css\">\n",
       "</style>\n",
       "<table id=\"T_a9221_\">\n",
       "  <thead>\n",
       "    <tr>\n",
       "      <th class=\"blank level0\" >&nbsp;</th>\n",
       "      <th class=\"col_heading level0 col0\" >stress</th>\n",
       "      <th class=\"col_heading level0 col1\" >stress_spc</th>\n",
       "      <th class=\"col_heading level0 col2\" >xing</th>\n",
       "      <th class=\"col_heading level0 col3\" >xing_spc</th>\n",
       "      <th class=\"col_heading level0 col4\" >l1_angle</th>\n",
       "      <th class=\"col_heading level0 col5\" >l1_angle_spc</th>\n",
       "      <th class=\"col_heading level0 col6\" >edge</th>\n",
       "      <th class=\"col_heading level0 col7\" >edge_spc</th>\n",
       "      <th class=\"col_heading level0 col8\" >ring</th>\n",
       "      <th class=\"col_heading level0 col9\" >ring_spc</th>\n",
       "      <th class=\"col_heading level0 col10\" >tsne</th>\n",
       "      <th class=\"col_heading level0 col11\" >tsne_spc</th>\n",
       "      <th class=\"col_heading level0 col12\" >reso_score</th>\n",
       "      <th class=\"col_heading level0 col13\" >min_angle</th>\n",
       "    </tr>\n",
       "  </thead>\n",
       "  <tbody>\n",
       "    <tr>\n",
       "      <th id=\"T_a9221_level0_row0\" class=\"row_heading level0 row0\" >fa2</th>\n",
       "      <td id=\"T_a9221_row0_col0\" class=\"data row0 col0\" >316.88</td>\n",
       "      <td id=\"T_a9221_row0_col1\" class=\"data row0 col1\" >-13.49%</td>\n",
       "      <td id=\"T_a9221_row0_col2\" class=\"data row0 col2\" >28.19</td>\n",
       "      <td id=\"T_a9221_row0_col3\" class=\"data row0 col3\" >7.24%</td>\n",
       "      <td id=\"T_a9221_row0_col4\" class=\"data row0 col4\" >81.05</td>\n",
       "      <td id=\"T_a9221_row0_col5\" class=\"data row0 col5\" >8.79%</td>\n",
       "      <td id=\"T_a9221_row0_col6\" class=\"data row0 col6\" >0.15</td>\n",
       "      <td id=\"T_a9221_row0_col7\" class=\"data row0 col7\" >-18.40%</td>\n",
       "      <td id=\"T_a9221_row0_col8\" class=\"data row0 col8\" >251.27</td>\n",
       "      <td id=\"T_a9221_row0_col9\" class=\"data row0 col9\" >-2.97%</td>\n",
       "      <td id=\"T_a9221_row0_col10\" class=\"data row0 col10\" >0.21</td>\n",
       "      <td id=\"T_a9221_row0_col11\" class=\"data row0 col11\" >5.27%</td>\n",
       "      <td id=\"T_a9221_row0_col12\" class=\"data row0 col12\" >0.60</td>\n",
       "      <td id=\"T_a9221_row0_col13\" class=\"data row0 col13\" >5.72</td>\n",
       "    </tr>\n",
       "  </tbody>\n",
       "</table>\n"
      ],
      "text/plain": [
       "<pandas.io.formats.style.Styler at 0x2b3e67ec7460>"
      ]
     },
     "execution_count": 40,
     "metadata": {},
     "output_type": "execute_result"
    }
   ],
   "source": [
    "columns = [\n",
    "    'stress',\n",
    "    'stress_spc',\n",
    "    'xing',\n",
    "    'xing_spc',\n",
    "    'l1_angle',\n",
    "    'l1_angle_spc',\n",
    "    'edge',\n",
    "    'edge_spc',\n",
    "    'ring',\n",
    "    'ring_spc',\n",
    "    'tsne',\n",
    "    'tsne_spc',\n",
    "    'reso_score',\n",
    "    'min_angle'\n",
    "]\n",
    "df = pd.DataFrame(mean_metrics).set_axis(columns).T\n",
    "df.style.format({c: \"{:.2f}\" for c in columns if 'spc' not in c} | {c: \"{:.2%}\" for c in columns if 'spc' in c})"
   ]
  },
  {
   "cell_type": "markdown",
   "metadata": {
    "id": "L5S1HWnHOWIl"
   },
   "source": [
    "# Large Graph"
   ]
  },
  {
   "cell_type": "code",
   "execution_count": null,
   "metadata": {
    "id": "_pefPcV1OZdD"
   },
   "outputs": [],
   "source": [
    "scalability = pd.read_csv(f\"/__artifacts__/data/scalability.csv\", index_col=\"index\")\n",
    "scalability"
   ]
  },
  {
   "cell_type": "code",
   "execution_count": null,
   "metadata": {
    "id": "oMhWAsdvPnTX"
   },
   "outputs": [],
   "source": [
    "rescale = CanonicalizationByStress()\n",
    "stressfn = Stress()\n",
    "rotate = RotateByPrincipalComponents()"
   ]
  },
  {
   "cell_type": "code",
   "execution_count": null,
   "metadata": {
    "id": "LR83OcAaPID5"
   },
   "outputs": [],
   "source": [
    "stress_list = []\n",
    "spc_list = []\n",
    "pmds_list = np.load(\"layouts/new_large_graph/pmds.npy\", allow_pickle=True)\n",
    "gviz_list = np.load(\"layouts/new_large_graph/gviz.npy\", allow_pickle=True)\n",
    "with torch.no_grad():\n",
    "    for idx, col in tqdm(scalability.iterrows(), total=len(scalability)):\n",
    "        # if idx not in [406, 516]: continue\n",
    "        torch.cuda.empty_cache()\n",
    "        G = load_mtx(col['file'])\n",
    "        G.remove_edges_from(nx.selfloop_edges(G))\n",
    "        data = generate_data_list(G, \n",
    "                                sparse=data_config.sparse, \n",
    "                                pivot_mode=data_config.pivot,\n",
    "                                init_mode=data_config.init,\n",
    "                                edge_index=data_config.edge.index,\n",
    "                                edge_attr=data_config.edge.attr,\n",
    "                                pmds_list=pmds_list[idx],\n",
    "                                gviz_list=gviz_list[idx],\n",
    "                                device=device)\n",
    "        batch = Batch.from_data_list([data]).to(device)\n",
    "        # generator.train()\n",
    "        # generator(batch)\n",
    "        generator.eval()\n",
    "        pred = generator(batch)\n",
    "        pos = rotate(rescale(pred, batch), batch)\n",
    "        gt = rotate(rescale(batch.gt_pos, batch), batch)\n",
    "        stress = stressfn(pos, batch).item()\n",
    "        gt_stress = stressfn(gt, batch).item()\n",
    "        spc = (stress - gt_stress) / np.maximum(stress, gt_stress)\n",
    "        stress_list.append(stress)\n",
    "        spc_list.append(spc)\n",
    "\n",
    "        np.save(f\"/__artifacts__/gan_result/data/scalability_{idx}.npy\", pos.cpu().numpy())\n",
    "        graph_attr = dict(node_size=1, \n",
    "                        with_labels=False, \n",
    "                        labels=dict(zip(list(G.nodes), map(lambda n: n if type(n) is int else n[1:], list(G.nodes)))),\n",
    "                        font_color=\"white\", \n",
    "                        font_weight=\"bold\",\n",
    "                        font_size=12,\n",
    "                        width=0.1)\n",
    "\n",
    "        # gt_pos = pickle.load(open(f\"/__artifacts__/data/scalability_{idx}_gt.pkl\", \"rb\"))\n",
    "\n",
    "        plt.figure(figsize=[12, 9])\n",
    "        nx.draw(G, pos=gt.cpu().numpy(), node_color='orange', **graph_attr)\n",
    "        plt.title(f\"neato: large_{idx}\")\n",
    "        plt.axis(\"equal\")\n",
    "        plt.savefig(f\"/__artifacts__/gan_result/output/{idx}_{col['name']}_{col['n']}_{spc}_nx.png\", dpi=300)\n",
    "        plt.show()\n",
    "\n",
    "        plt.figure(figsize=[12, 9])\n",
    "        graph_vis(G, pos.cpu().numpy(), **graph_attr)\n",
    "        plt.title(f\"dgd: large_{idx}, spc={spc:.2%}\")\n",
    "        plt.axis(\"equal\")\n",
    "        plt.savefig(f\"/__artifacts__/gan_result/output/{idx}_{col['name']}_{col['n']}_{spc}_dgd.png\", dpi=300)\n",
    "        plt.show()"
   ]
  },
  {
   "cell_type": "code",
   "execution_count": null,
   "metadata": {
    "id": "gRXTewkYeuq1"
   },
   "outputs": [],
   "source": []
  }
 ],
 "metadata": {
  "accelerator": "GPU",
  "colab": {
   "collapsed_sections": [
    "w_p3OD0woiSM",
    "DR6-vYtr_i_P",
    "innqkwvH_ydD",
    "f-ODE2k8BFV6",
    "N39dDHraedM6"
   ],
   "machine_shape": "hm",
   "name": "GAN(gan=rgan,data=best(xing,stress),dis=deep,share=16,embed=0,gp=0).ipynb",
   "provenance": []
  },
  "kernelspec": {
   "display_name": "DeepGD",
   "language": "python",
   "name": "deepgd"
  },
  "language_info": {
   "codemirror_mode": {
    "name": "ipython",
    "version": 3
   },
   "file_extension": ".py",
   "mimetype": "text/x-python",
   "name": "python",
   "nbconvert_exporter": "python",
   "pygments_lexer": "ipython3",
   "version": "3.9.7"
  },
  "widgets": {
   "application/vnd.jupyter.widget-state+json": {
    "state": {
     "043cb3598d2c4ede978660766a68db03": {
      "model_module": "@jupyter-widgets/controls",
      "model_module_version": "1.5.0",
      "model_name": "DescriptionStyleModel",
      "state": {
       "description_width": ""
      }
     },
     "07ec376a276541e09680dc6f65b5b1ec": {
      "model_module": "@jupyter-widgets/controls",
      "model_module_version": "1.5.0",
      "model_name": "HTMLModel",
      "state": {
       "layout": "IPY_MODEL_2c33b466ee504152a3ec2e5bdf82cf52",
       "style": "IPY_MODEL_950306892b6441948d23404a70bf1691",
       "value": " 233/834 [00:33&lt;01:26,  6.95it/s]"
      }
     },
     "0df1e60feaa140a2a26286cb20cba3a5": {
      "model_module": "@jupyter-widgets/controls",
      "model_module_version": "1.5.0",
      "model_name": "HBoxModel",
      "state": {
       "children": [
        "IPY_MODEL_ba14512c67ef4b409e7a92812feeb764",
        "IPY_MODEL_2c99561c4e094015b7ece2bd1c65bb4f",
        "IPY_MODEL_aef9f274abba4423a872b7785b7f7bf3"
       ],
       "layout": "IPY_MODEL_472f7af7911d4f6690f9befce8ee0fbd"
      }
     },
     "0f98673d3fb84c54a5a6915c92f46f15": {
      "model_module": "@jupyter-widgets/controls",
      "model_module_version": "1.5.0",
      "model_name": "HTMLModel",
      "state": {
       "layout": "IPY_MODEL_3453a615971d41a3b284b4d43fe2b8c8",
       "style": "IPY_MODEL_86dde191d8314638be14b9b4f78c39fe",
       "value": "100%"
      }
     },
     "13c31eb1797a45d98bc792badec381e4": {
      "model_module": "@jupyter-widgets/base",
      "model_module_version": "1.2.0",
      "model_name": "LayoutModel",
      "state": {}
     },
     "1e71e05643da46fb9061145a00f15916": {
      "model_module": "@jupyter-widgets/controls",
      "model_module_version": "1.5.0",
      "model_name": "HBoxModel",
      "state": {
       "children": [
        "IPY_MODEL_2857df4238b846718247e17086069233"
       ],
       "layout": "IPY_MODEL_84d474a330e04f439467fa271a2d8b06"
      }
     },
     "1ed53e827b91422190cc5d07eb2b18ea": {
      "model_module": "@jupyter-widgets/controls",
      "model_module_version": "1.5.0",
      "model_name": "DescriptionStyleModel",
      "state": {
       "description_width": ""
      }
     },
     "22e578dc2c7a4d1b836541eeab547988": {
      "model_module": "@jupyter-widgets/base",
      "model_module_version": "1.2.0",
      "model_name": "LayoutModel",
      "state": {
       "height": "500px",
       "overflow_y": "auto"
      }
     },
     "24d3466ae461456690d780f4c01b9b0e": {
      "model_module": "@jupyter-widgets/base",
      "model_module_version": "1.2.0",
      "model_name": "LayoutModel",
      "state": {}
     },
     "2857df4238b846718247e17086069233": {
      "model_module": "@jupyter-widgets/output",
      "model_module_version": "1.0.0",
      "model_name": "OutputModel",
      "state": {
       "layout": "IPY_MODEL_4cea0e2e8e5f47329a8243027c320975",
       "outputs": [
        {
         "name": "stdout",
         "output_type": "stream",
         "text": "[1120] stress=351.76(2.95%) xing=31.88(19.51%)\n"
        }
       ]
      }
     },
     "28a0a1d332314b56a7e5ccbb9d3c5bad": {
      "model_module": "@jupyter-widgets/controls",
      "model_module_version": "1.5.0",
      "model_name": "ProgressStyleModel",
      "state": {
       "description_width": ""
      }
     },
     "2c33b466ee504152a3ec2e5bdf82cf52": {
      "model_module": "@jupyter-widgets/base",
      "model_module_version": "1.2.0",
      "model_name": "LayoutModel",
      "state": {}
     },
     "2c99561c4e094015b7ece2bd1c65bb4f": {
      "model_module": "@jupyter-widgets/controls",
      "model_module_version": "1.5.0",
      "model_name": "FloatProgressModel",
      "state": {
       "bar_style": "success",
       "layout": "IPY_MODEL_f130627ce9a04727bf957f5d0390823e",
       "max": 11531,
       "style": "IPY_MODEL_28a0a1d332314b56a7e5ccbb9d3c5bad",
       "value": 11531
      }
     },
     "2d8cc89562464773b265864909713712": {
      "model_module": "@jupyter-widgets/base",
      "model_module_version": "1.2.0",
      "model_name": "LayoutModel",
      "state": {}
     },
     "3453a615971d41a3b284b4d43fe2b8c8": {
      "model_module": "@jupyter-widgets/base",
      "model_module_version": "1.2.0",
      "model_name": "LayoutModel",
      "state": {}
     },
     "37094e6dc2f34e7f9f552b79ff7cb8e2": {
      "model_module": "@jupyter-widgets/controls",
      "model_module_version": "1.5.0",
      "model_name": "FloatProgressModel",
      "state": {
       "layout": "IPY_MODEL_f7a55d01563a43a68cc88df3a3eae660",
       "max": 834,
       "style": "IPY_MODEL_932439a9b614447cb2d5337300a47c50",
       "value": 233
      }
     },
     "4051a856141143f188d1ce0ef68334b1": {
      "model_module": "@jupyter-widgets/output",
      "model_module_version": "1.0.0",
      "model_name": "OutputModel",
      "state": {
       "layout": "IPY_MODEL_8fc46f2906cf445aa3da790fc6b3a58f",
       "outputs": [
        {
         "data": {
          "image/png": "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\n",
          "text/plain": "<Figure size 432x288 with 1 Axes>"
         },
         "metadata": {},
         "output_type": "display_data"
        }
       ]
      }
     },
     "4364606ae8bd40d49c2a7f5526100238": {
      "model_module": "@jupyter-widgets/controls",
      "model_module_version": "1.5.0",
      "model_name": "VBoxModel",
      "state": {
       "children": [
        "IPY_MODEL_5c3fcd4ba88f4130a1646c3501337cca",
        "IPY_MODEL_963327f2859744ebb2d9bb36cdd7a3c6"
       ],
       "layout": "IPY_MODEL_829d7d2ce77846b3a649783226793696"
      }
     },
     "472f7af7911d4f6690f9befce8ee0fbd": {
      "model_module": "@jupyter-widgets/base",
      "model_module_version": "1.2.0",
      "model_name": "LayoutModel",
      "state": {}
     },
     "4cea0e2e8e5f47329a8243027c320975": {
      "model_module": "@jupyter-widgets/base",
      "model_module_version": "1.2.0",
      "model_name": "LayoutModel",
      "state": {}
     },
     "4d1b0c291f7b4be2917b9749a9f5e3f2": {
      "model_module": "@jupyter-widgets/base",
      "model_module_version": "1.2.0",
      "model_name": "LayoutModel",
      "state": {}
     },
     "4dbf409791a34912b8d758ab1fb59492": {
      "model_module": "@jupyter-widgets/base",
      "model_module_version": "1.2.0",
      "model_name": "LayoutModel",
      "state": {}
     },
     "54c682e57d074065837b87ec2628ca71": {
      "model_module": "@jupyter-widgets/controls",
      "model_module_version": "1.5.0",
      "model_name": "TabModel",
      "state": {
       "_titles": {
        "0": "status",
        "1": "plot",
        "2": "log"
       },
       "children": [
        "IPY_MODEL_4364606ae8bd40d49c2a7f5526100238",
        "IPY_MODEL_c22f5efd002e4cbdbc1c80b945ad992f",
        "IPY_MODEL_1e71e05643da46fb9061145a00f15916"
       ],
       "layout": "IPY_MODEL_56580328259646a1ab2ebf7cd86ebd51"
      }
     },
     "56580328259646a1ab2ebf7cd86ebd51": {
      "model_module": "@jupyter-widgets/base",
      "model_module_version": "1.2.0",
      "model_name": "LayoutModel",
      "state": {}
     },
     "56e9779f35244fb0810e6b9242807740": {
      "model_module": "@jupyter-widgets/controls",
      "model_module_version": "1.5.0",
      "model_name": "HTMLModel",
      "state": {
       "layout": "IPY_MODEL_765635bd0996403caa169e7d66ebcdaf",
       "style": "IPY_MODEL_043cb3598d2c4ede978660766a68db03",
       "value": "[epoch 1120/None]:  28%"
      }
     },
     "573a6db3091a4f6ea25645cd9083b0b7": {
      "model_module": "@jupyter-widgets/controls",
      "model_module_version": "1.5.0",
      "model_name": "HBoxModel",
      "state": {
       "children": [
        "IPY_MODEL_0f98673d3fb84c54a5a6915c92f46f15",
        "IPY_MODEL_7daacaea9fea4076a89876d37cc76654",
        "IPY_MODEL_e21af95127a54cddb7f7809b3fe679e3"
       ],
       "layout": "IPY_MODEL_c4001392deca420d910e27d0f9511636"
      }
     },
     "580e7e1decf94d829fc94d7ff2c68b21": {
      "model_module": "@jupyter-widgets/base",
      "model_module_version": "1.2.0",
      "model_name": "LayoutModel",
      "state": {}
     },
     "5c3fcd4ba88f4130a1646c3501337cca": {
      "model_module": "@jupyter-widgets/output",
      "model_module_version": "1.0.0",
      "model_name": "OutputModel",
      "state": {
       "layout": "IPY_MODEL_f3641d865b444444980f67b42ca62409",
       "outputs": [
        {
         "data": {
          "application/vnd.jupyter.widget-view+json": {
           "model_id": "b3de545d182a49e7b3c516ad9548ec80",
           "version_major": 2,
           "version_minor": 0
          },
          "text/plain": "  0%|          | 0/834 [00:00<?, ?it/s]"
         },
         "metadata": {},
         "output_type": "display_data"
        }
       ]
      }
     },
     "64a7a4d12d344ec0b34137ecf28a839c": {
      "model_module": "@jupyter-widgets/controls",
      "model_module_version": "1.5.0",
      "model_name": "FloatProgressModel",
      "state": {
       "bar_style": "success",
       "layout": "IPY_MODEL_8f2c41e1133b44db8d81bd80b84ddd66",
       "max": 1000,
       "style": "IPY_MODEL_93fb90722f5347589df85c793de6ecf5",
       "value": 1000
      }
     },
     "6f9d87e4db2e4251ba324bb0c27ce295": {
      "model_module": "@jupyter-widgets/controls",
      "model_module_version": "1.5.0",
      "model_name": "ProgressStyleModel",
      "state": {
       "description_width": ""
      }
     },
     "765635bd0996403caa169e7d66ebcdaf": {
      "model_module": "@jupyter-widgets/base",
      "model_module_version": "1.2.0",
      "model_name": "LayoutModel",
      "state": {}
     },
     "7daacaea9fea4076a89876d37cc76654": {
      "model_module": "@jupyter-widgets/controls",
      "model_module_version": "1.5.0",
      "model_name": "FloatProgressModel",
      "state": {
       "bar_style": "success",
       "layout": "IPY_MODEL_9813152c14134cd086d9e4c46a9736fc",
       "max": 1000,
       "style": "IPY_MODEL_6f9d87e4db2e4251ba324bb0c27ce295",
       "value": 1000
      }
     },
     "829d7d2ce77846b3a649783226793696": {
      "model_module": "@jupyter-widgets/base",
      "model_module_version": "1.2.0",
      "model_name": "LayoutModel",
      "state": {}
     },
     "846cd61834694d44b8862475aa03c84e": {
      "model_module": "@jupyter-widgets/controls",
      "model_module_version": "1.5.0",
      "model_name": "HTMLModel",
      "state": {
       "layout": "IPY_MODEL_13c31eb1797a45d98bc792badec381e4",
       "style": "IPY_MODEL_b7fac59d9d14407e86a4dc22be7ef34d",
       "value": "100%"
      }
     },
     "84d474a330e04f439467fa271a2d8b06": {
      "model_module": "@jupyter-widgets/base",
      "model_module_version": "1.2.0",
      "model_name": "LayoutModel",
      "state": {
       "height": "500px",
       "overflow_y": "auto"
      }
     },
     "86dde191d8314638be14b9b4f78c39fe": {
      "model_module": "@jupyter-widgets/controls",
      "model_module_version": "1.5.0",
      "model_name": "DescriptionStyleModel",
      "state": {
       "description_width": ""
      }
     },
     "8f2c41e1133b44db8d81bd80b84ddd66": {
      "model_module": "@jupyter-widgets/base",
      "model_module_version": "1.2.0",
      "model_name": "LayoutModel",
      "state": {}
     },
     "8fc46f2906cf445aa3da790fc6b3a58f": {
      "model_module": "@jupyter-widgets/base",
      "model_module_version": "1.2.0",
      "model_name": "LayoutModel",
      "state": {}
     },
     "932439a9b614447cb2d5337300a47c50": {
      "model_module": "@jupyter-widgets/controls",
      "model_module_version": "1.5.0",
      "model_name": "ProgressStyleModel",
      "state": {
       "description_width": ""
      }
     },
     "93fb90722f5347589df85c793de6ecf5": {
      "model_module": "@jupyter-widgets/controls",
      "model_module_version": "1.5.0",
      "model_name": "ProgressStyleModel",
      "state": {
       "description_width": ""
      }
     },
     "950306892b6441948d23404a70bf1691": {
      "model_module": "@jupyter-widgets/controls",
      "model_module_version": "1.5.0",
      "model_name": "DescriptionStyleModel",
      "state": {
       "description_width": ""
      }
     },
     "963327f2859744ebb2d9bb36cdd7a3c6": {
      "model_module": "@jupyter-widgets/output",
      "model_module_version": "1.0.0",
      "model_name": "OutputModel",
      "state": {
       "layout": "IPY_MODEL_2d8cc89562464773b265864909713712",
       "outputs": [
        {
         "data": {
          "text/html": "<div>\n<style scoped>\n    .dataframe tbody tr th:only-of-type {\n        vertical-align: middle;\n    }\n\n    .dataframe tbody tr th {\n        vertical-align: top;\n    }\n\n    .dataframe thead th {\n        text-align: right;\n    }\n</style>\n<table border=\"1\" class=\"dataframe\">\n  <thead>\n    <tr style=\"text-align: right;\">\n      <th></th>\n      <th>val_stress</th>\n      <th>val_stress_spc</th>\n      <th>val_xing</th>\n      <th>val_xing_spc</th>\n      <th>dis_loss</th>\n    </tr>\n  </thead>\n  <tbody>\n    <tr>\n      <th>epoch 1120</th>\n      <td>351.76</td>\n      <td>2.95%</td>\n      <td>31.88</td>\n      <td>19.51%</td>\n      <td>1.53e-01</td>\n    </tr>\n  </tbody>\n</table>\n</div>",
          "text/plain": "           val_stress val_stress_spc val_xing val_xing_spc  dis_loss\nepoch 1120     351.76          2.95%    31.88       19.51%  1.53e-01"
         },
         "metadata": {},
         "output_type": "display_data"
        }
       ]
      }
     },
     "9813152c14134cd086d9e4c46a9736fc": {
      "model_module": "@jupyter-widgets/base",
      "model_module_version": "1.2.0",
      "model_name": "LayoutModel",
      "state": {}
     },
     "994bb631384f4302a5927ee506c5d257": {
      "model_module": "@jupyter-widgets/controls",
      "model_module_version": "1.5.0",
      "model_name": "HBoxModel",
      "state": {
       "children": [
        "IPY_MODEL_846cd61834694d44b8862475aa03c84e",
        "IPY_MODEL_64a7a4d12d344ec0b34137ecf28a839c",
        "IPY_MODEL_ac567714096e4fa79c81395d2c9b8e9c"
       ],
       "layout": "IPY_MODEL_4d1b0c291f7b4be2917b9749a9f5e3f2"
      }
     },
     "a41633b4863f42e4a90422741fb5b5ab": {
      "model_module": "@jupyter-widgets/base",
      "model_module_version": "1.2.0",
      "model_name": "LayoutModel",
      "state": {}
     },
     "ac567714096e4fa79c81395d2c9b8e9c": {
      "model_module": "@jupyter-widgets/controls",
      "model_module_version": "1.5.0",
      "model_name": "HTMLModel",
      "state": {
       "layout": "IPY_MODEL_a41633b4863f42e4a90422741fb5b5ab",
       "style": "IPY_MODEL_f4d3a3a1d70d44669e9b9f19cdf5385b",
       "value": " 1000/1000 [00:47&lt;00:00, 20.79it/s]"
      }
     },
     "aef9f274abba4423a872b7785b7f7bf3": {
      "model_module": "@jupyter-widgets/controls",
      "model_module_version": "1.5.0",
      "model_name": "HTMLModel",
      "state": {
       "layout": "IPY_MODEL_b9b6e5c141ab4d088e5db8be4223b2b9",
       "style": "IPY_MODEL_d967a2433c00471d869f13e4ba98d11b",
       "value": " 11531/11531 [00:00&lt;00:00, 48714.94it/s]"
      }
     },
     "b3de545d182a49e7b3c516ad9548ec80": {
      "model_module": "@jupyter-widgets/controls",
      "model_module_version": "1.5.0",
      "model_name": "HBoxModel",
      "state": {
       "children": [
        "IPY_MODEL_56e9779f35244fb0810e6b9242807740",
        "IPY_MODEL_37094e6dc2f34e7f9f552b79ff7cb8e2",
        "IPY_MODEL_07ec376a276541e09680dc6f65b5b1ec"
       ],
       "layout": "IPY_MODEL_24d3466ae461456690d780f4c01b9b0e"
      }
     },
     "b7fac59d9d14407e86a4dc22be7ef34d": {
      "model_module": "@jupyter-widgets/controls",
      "model_module_version": "1.5.0",
      "model_name": "DescriptionStyleModel",
      "state": {
       "description_width": ""
      }
     },
     "b9b6e5c141ab4d088e5db8be4223b2b9": {
      "model_module": "@jupyter-widgets/base",
      "model_module_version": "1.2.0",
      "model_name": "LayoutModel",
      "state": {}
     },
     "ba14512c67ef4b409e7a92812feeb764": {
      "model_module": "@jupyter-widgets/controls",
      "model_module_version": "1.5.0",
      "model_name": "HTMLModel",
      "state": {
       "layout": "IPY_MODEL_4dbf409791a34912b8d758ab1fb59492",
       "style": "IPY_MODEL_ff39116fc56645a796eca9f7deb1c868",
       "value": "100%"
      }
     },
     "c22f5efd002e4cbdbc1c80b945ad992f": {
      "model_module": "@jupyter-widgets/controls",
      "model_module_version": "1.5.0",
      "model_name": "HBoxModel",
      "state": {
       "children": [
        "IPY_MODEL_4051a856141143f188d1ce0ef68334b1"
       ],
       "layout": "IPY_MODEL_22e578dc2c7a4d1b836541eeab547988"
      }
     },
     "c4001392deca420d910e27d0f9511636": {
      "model_module": "@jupyter-widgets/base",
      "model_module_version": "1.2.0",
      "model_name": "LayoutModel",
      "state": {}
     },
     "d967a2433c00471d869f13e4ba98d11b": {
      "model_module": "@jupyter-widgets/controls",
      "model_module_version": "1.5.0",
      "model_name": "DescriptionStyleModel",
      "state": {
       "description_width": ""
      }
     },
     "e21af95127a54cddb7f7809b3fe679e3": {
      "model_module": "@jupyter-widgets/controls",
      "model_module_version": "1.5.0",
      "model_name": "HTMLModel",
      "state": {
       "layout": "IPY_MODEL_580e7e1decf94d829fc94d7ff2c68b21",
       "style": "IPY_MODEL_1ed53e827b91422190cc5d07eb2b18ea",
       "value": " 1000/1000 [00:47&lt;00:00, 21.36it/s]"
      }
     },
     "f130627ce9a04727bf957f5d0390823e": {
      "model_module": "@jupyter-widgets/base",
      "model_module_version": "1.2.0",
      "model_name": "LayoutModel",
      "state": {}
     },
     "f3641d865b444444980f67b42ca62409": {
      "model_module": "@jupyter-widgets/base",
      "model_module_version": "1.2.0",
      "model_name": "LayoutModel",
      "state": {}
     },
     "f4d3a3a1d70d44669e9b9f19cdf5385b": {
      "model_module": "@jupyter-widgets/controls",
      "model_module_version": "1.5.0",
      "model_name": "DescriptionStyleModel",
      "state": {
       "description_width": ""
      }
     },
     "f7a55d01563a43a68cc88df3a3eae660": {
      "model_module": "@jupyter-widgets/base",
      "model_module_version": "1.2.0",
      "model_name": "LayoutModel",
      "state": {}
     },
     "ff39116fc56645a796eca9f7deb1c868": {
      "model_module": "@jupyter-widgets/controls",
      "model_module_version": "1.5.0",
      "model_name": "DescriptionStyleModel",
      "state": {
       "description_width": ""
      }
     }
    },
    "version_major": 2,
    "version_minor": 0
   }
  }
 },
 "nbformat": 4,
 "nbformat_minor": 4
}
