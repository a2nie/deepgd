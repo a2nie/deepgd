{
 "cells": [
  {
   "cell_type": "markdown",
   "metadata": {
    "id": "wZtYFEhHoBGp"
   },
   "source": [
    "# Import libraries"
   ]
  },
  {
   "cell_type": "code",
   "execution_count": 1,
   "metadata": {
    "id": "KJPfzpxLQI5O"
   },
   "outputs": [],
   "source": [
    "%load_ext autoreload\n",
    "%autoreload 2\n",
    "from deepgd import *"
   ]
  },
  {
   "cell_type": "markdown",
   "metadata": {
    "id": "z4eBEyB1oaJe"
   },
   "source": [
    "# Config"
   ]
  },
  {
   "cell_type": "code",
   "execution_count": 2,
   "metadata": {
    "id": "Q_-MLFhpNvxF"
   },
   "outputs": [],
   "source": [
    "cuda_idx = 0\n",
    "canonicalization = Canonicalization(normalize=Standardization(norm_ord=1),\n",
    "                                    scale=False)\n",
    "config = StaticConfig({\n",
    "    \"name\": 'GAN(gan=rgan,data=best(xing,stress),dis=deep,share=8,embed=8,gp=0,lr=1e-4)',\n",
    "    \"uid\": None,\n",
    "    \"link\": None,\n",
    "    \"generator\": {\n",
    "        \"params\": {\n",
    "            \"num_blocks\": 9,\n",
    "            \"normalize\": canonicalization\n",
    "        },\n",
    "        \"pretrained\": {\n",
    "            \"name\": None,\n",
    "            \"epoch\": -1,\n",
    "        },\n",
    "        \"optim\": torch.optim.AdamW,\n",
    "        \"lr\" : {\n",
    "            \"initial\": 1e-4,\n",
    "            \"decay\": 0.99,\n",
    "        },\n",
    "    },\n",
    "    \"discriminator\": {\n",
    "        \"params\": {\n",
    "            \"conv\": [2, 16, 16, 16],\n",
    "            \"dense\": [2],\n",
    "            \"shared_depth\": 8,\n",
    "            \"enet_depth\": 8,\n",
    "            \"enet_width\": 64,\n",
    "            \"aggr\": \"add\",\n",
    "            \"normalize\": canonicalization\n",
    "        },\n",
    "        \"pretrained\": {\n",
    "            \"name\": None,\n",
    "            \"epoch\": -1,\n",
    "        },\n",
    "        \"optim\": torch.optim.AdamW,\n",
    "        \"lr\" : {\n",
    "            \"initial\": 1e-4,\n",
    "            \"decay\": 0.99,\n",
    "        },\n",
    "        \"noise\": {\n",
    "            \"std\": 0,\n",
    "            \"decay\": 0.95,\n",
    "        },\n",
    "        \"repeat\": 1,\n",
    "        \"complete\": True,\n",
    "        \"adaptive\": True\n",
    "    },\n",
    "    \"alternate\": \"epoch\",\n",
    "    \"batchsize\": 24,\n",
    "    \"epoch\": {\n",
    "        \"start\": -1,\n",
    "        \"end\": None,\n",
    "    },\n",
    "    \"log_interval\": 1,\n",
    "    \"test\": {\n",
    "        \"name\": \"test\",\n",
    "        \"epoch\": -1,\n",
    "    },\n",
    "    \"gan_flavor\": \"rgan\",\n",
    "    \"gp_weight\": 0,\n",
    "})\n",
    "data_config = StaticConfig({\n",
    "    \"sparse\": False,\n",
    "    \"pivot\": None,\n",
    "    \"init\": \"pmds\",\n",
    "    \"edge\": {\n",
    "        \"index\": \"full_edge_index\",\n",
    "        \"attr\": \"full_edge_attr\",\n",
    "    },\n",
    "})\n",
    "loss_fns = {\n",
    "    Stress(): 1\n",
    "}\n",
    "ctrler_params = {\n",
    "    \"tau\": 0.95,\n",
    "    \"beta\": 1,\n",
    "    \"exploit_rate\": 0.5,\n",
    "    \"warmup\": 2,\n",
    "}\n",
    "paths = StaticConfig({\n",
    "    \"root\": \"artifacts\",\n",
    "    \"checkpoints\": lambda: f\"{paths.root}/checkpoints/{config.name}\",\n",
    "    \"gen_pretrain\": lambda: f\"{paths.root}/checkpoints/{config.generator.pretrained.name}\",\n",
    "    \"dis_pretrain\": lambda: f\"{paths.root}/checkpoints/{config.discriminator.pretrained.name}\",\n",
    "    \"tensorboard\": lambda: f\"{paths.root}/tensorboards/{config.name}\",\n",
    "    \"visualization\": lambda: f\"{paths.root}/visualizations/{config.name}_{config.test.name}\",\n",
    "    \"log\": lambda: f\"{paths.root}/logs/{config.name}.log\",\n",
    "    \"metrics\": lambda suffix: f\"{paths.root}/metrics/{config.name}_{suffix}.pickle\",\n",
    "})"
   ]
  },
  {
   "cell_type": "code",
   "execution_count": 3,
   "metadata": {
    "id": "mdMEAbH10Qaq"
   },
   "outputs": [],
   "source": [
    "if \" \" in config.name:\n",
    "    raise Exception(\"Space is not allowed in model name.\")"
   ]
  },
  {
   "cell_type": "markdown",
   "metadata": {
    "id": "WynW4ZAdBhep"
   },
   "source": [
    "# Prepare"
   ]
  },
  {
   "cell_type": "markdown",
   "metadata": {
    "id": "DR6-vYtr_i_P"
   },
   "source": [
    "## Get log command"
   ]
  },
  {
   "cell_type": "code",
   "execution_count": 4,
   "metadata": {
    "colab": {
     "base_uri": "https://localhost:8080/"
    },
    "id": "9-QpinlslcTO",
    "outputId": "48ae3716-212c-4d46-9efb-b7b4070f73de"
   },
   "outputs": [
    {
     "name": "stdout",
     "output_type": "stream",
     "text": [
      "cd /users/PAS0027/osu10203/deepgd && tail -n1000 -f 'artifacts/logs/GAN(gan=rgan,data=best(xing,stress),dis=deep,share=8,embed=8,gp=0,lr=1e-4).log'\n"
     ]
    }
   ],
   "source": [
    "print(f\"cd {os.getcwd()} && tail -n1000 -f '{paths.log()}'\")"
   ]
  },
  {
   "cell_type": "code",
   "execution_count": 5,
   "metadata": {},
   "outputs": [
    {
     "name": "stdout",
     "output_type": "stream",
     "text": [
      "tensorboard dev upload --logdir 'artifacts/tensorboards/GAN(gan=rgan,data=best(xing,stress),dis=deep,share=8,embed=8,gp=0,lr=1e-4)'\n"
     ]
    }
   ],
   "source": [
    "print(f\"tensorboard dev upload --logdir '{paths.tensorboard()}'\")"
   ]
  },
  {
   "cell_type": "markdown",
   "metadata": {
    "id": "innqkwvH_ydD"
   },
   "source": [
    "## Set globals"
   ]
  },
  {
   "cell_type": "code",
   "execution_count": 6,
   "metadata": {
    "id": "Qjq7JlSZlkQR"
   },
   "outputs": [],
   "source": [
    "if cuda_idx is not None and torch.cuda.is_available():\n",
    "    device = f'cuda:{cuda_idx}'\n",
    "    pynvml.nvmlInit()\n",
    "    cuda = pynvml.nvmlDeviceGetHandleByIndex(cuda_idx)\n",
    "else:\n",
    "    device = 'cpu'\n",
    "    cuda =  None\n",
    "np.set_printoptions(precision=2)\n",
    "warnings.filterwarnings(\"ignore\", category=RuntimeWarning)"
   ]
  },
  {
   "cell_type": "markdown",
   "metadata": {
    "id": "0da286l_ApEL"
   },
   "source": [
    "## Load data"
   ]
  },
  {
   "cell_type": "code",
   "execution_count": 7,
   "metadata": {
    "colab": {
     "base_uri": "https://localhost:8080/"
    },
    "id": "RFuSHiZJMU4x",
    "outputId": "54065609-aaea-4536-d79c-73bc73b3f576"
   },
   "outputs": [
    {
     "name": "stdout",
     "output_type": "stream",
     "text": [
      "Load from 'cache/G_list.pickle'\n",
      "Load from 'cache/generate_data_list(list,sparse=False,pivot_mode=None,init_mode=pmds,edge_index=full_edge_index,edge_attr=full_edge_attr,pmds_list=ndarray,gviz_list=ndarray,noisy_layout=True,device=cpu).pickle'\n"
     ]
    },
    {
     "name": "stderr",
     "output_type": "stream",
     "text": [
      "/users/PAS0027/osu10203/.conda/envs/deepgd/lib/python3.9/site-packages/torch_geometric/deprecation.py:13: UserWarning: 'data.DataLoader' is deprecated, use 'loader.DataLoader' instead\n",
      "  warnings.warn(out)\n"
     ]
    }
   ],
   "source": [
    "G_list = load_G_list(data_path='data/rome', index_file='data_index.txt', cache='G_list', cache_prefix='cache/')\n",
    "data_list = generate_data_list(G_list, \n",
    "                               sparse=data_config.sparse, \n",
    "                               pivot_mode=data_config.pivot,\n",
    "                               init_mode=data_config.init,\n",
    "                               edge_index=data_config.edge.index,\n",
    "                               edge_attr=data_config.edge.attr,\n",
    "                               pmds_list=np.load('layouts/rome/pmds.npy', allow_pickle=True),\n",
    "                               gviz_list=np.load('layouts/rome/gviz.npy', allow_pickle=True),\n",
    "                               noisy_layout=True,\n",
    "                               device='cpu', \n",
    "                               cache=True,\n",
    "                               cache_prefix='cache/')\n",
    "train_loader = LazyDeviceMappingDataLoader(data_list[:10000], batch_size=config.batchsize, shuffle=True, device=device)\n",
    "val_loader = LazyDeviceMappingDataLoader(data_list[11000:], batch_size=config.batchsize, shuffle=False, device=device)"
   ]
  },
  {
   "cell_type": "code",
   "execution_count": 8,
   "metadata": {
    "id": "djd1pLt2OxZq"
   },
   "outputs": [],
   "source": [
    "def draw_layout(G, method, draw=True):\n",
    "    if method == 'fa2':\n",
    "        layout = get_fa2_layout(G)\n",
    "    else:\n",
    "        try:\n",
    "            fn = getattr(nx.drawing.layout, f'{method}_layout')\n",
    "            layout = fn(G)\n",
    "        except:\n",
    "            layout = nx.drawing.nx_agraph.graphviz_layout(G, prog=method)\n",
    "    if draw:\n",
    "        nx.draw(G, pos=layout)\n",
    "    return layout"
   ]
  },
  {
   "cell_type": "code",
   "execution_count": 9,
   "metadata": {
    "id": "2vBBw77lR7Em"
   },
   "outputs": [],
   "source": [
    "methods = ['neato', 'dot', 'fdp', 'sfdp', 'twopi', 'circo', 'shell', 'spring', 'circular', 'spectral', 'kamada_kawai', 'fa2', 'pmds']"
   ]
  },
  {
   "cell_type": "code",
   "execution_count": 10,
   "metadata": {
    "id": "dx6VVA9XIc2O"
   },
   "outputs": [],
   "source": [
    "from functools import lru_cache\n",
    "\n",
    "@lru_cache(maxsize=None)\n",
    "def load_pos(method):\n",
    "    return np.load(f'layouts/rome/{method}.npy', allow_pickle=True)"
   ]
  },
  {
   "cell_type": "code",
   "execution_count": 11,
   "metadata": {
    "colab": {
     "base_uri": "https://localhost:8080/",
     "height": 1000,
     "referenced_widgets": [
      "05a37aeeb20049dfa2f97287b3990556",
      "a75afae3adfd4810a0b0991a062535ee",
      "a24ae105ed124595992f7e2e5f909247",
      "01b4cabaf8004dd4b9269b4e6889c498",
      "f3c7c84f2b314bd8b97a7358deaf4fa1",
      "35e4a83e692b4a7bafb46fdf192b2586",
      "62847b5e2678459f845159eef6d4feab",
      "143e81f00313436dacfa246a57108944",
      "e05833f11803400b95ff22246cdc8f2b",
      "53aeede91e074378b5d7f626165655ee",
      "79a43768c1794a10a788a49e5883aa2c"
     ]
    },
    "id": "MSmP-jem9I0X",
    "outputId": "c698f0bf-e96e-4de9-aeda-0b046fc0a03f",
    "scrolled": true,
    "tags": []
   },
   "outputs": [],
   "source": [
    "# best_list = []\n",
    "# best_layout_list = []\n",
    "# for idx, (G, data) in enumerate(zip(tqdm(G_list), data_list)):\n",
    "#     xing, stress, layout = {}, {}, {}\n",
    "#     for m in methods:\n",
    "#         batch = Batch.from_data_list([data])\n",
    "#         pos = load_pos(m)\n",
    "#         p = CanonicalizationByStress()(torch.tensor(pos[idx]).float(), batch)\n",
    "#         x = Xing()(p, batch).item()\n",
    "#         s = Stress()(p, batch).item()\n",
    "#         xing[m] = x\n",
    "#         stress[m] = s\n",
    "#         layout[m] = p.numpy()\n",
    "#         # plt.figure()\n",
    "#         # graph_vis(G, pos[idx])\n",
    "#         # plt.title(f'{m} stress={s:.2f} xing={x}')\n",
    "#     best, *_ = sorted(methods, key=lambda m: (xing[m], stress[m]))\n",
    "#     best_list.append(best)\n",
    "#     best_layout_list.append(layout[best])\n",
    "#     print(f'{best}, xing={xing[best]}, stress={stress[best]:.2f}')"
   ]
  },
  {
   "cell_type": "code",
   "execution_count": 12,
   "metadata": {
    "colab": {
     "base_uri": "https://localhost:8080/"
    },
    "id": "Mx2bZNugdTqa",
    "outputId": "cec05a67-18e8-492f-aaa1-057274a8341a"
   },
   "outputs": [],
   "source": [
    "# pickle.dump(best_list, open('layouts/rome/best[xing,stress].pkl', 'wb'))\n",
    "# np.save('layouts/rome/best[xing,stress].npy', best_layout_list)"
   ]
  },
  {
   "cell_type": "code",
   "execution_count": 13,
   "metadata": {
    "colab": {
     "base_uri": "https://localhost:8080/",
     "height": 49,
     "referenced_widgets": [
      "7e0ae84dd0f3458d893c81b029fe1729",
      "18bdc3bf80fb434abde68de5b72a8870",
      "2e3552ded9594635a51832387ae754a0",
      "54f4aa5080c6498080a63be2cdeefee5",
      "3937586d0879451da5e2138ca3bfd0a0",
      "a9df6e84ce8c499eb2b2cf984995d791",
      "7af6b718dd3d4e01b264377a2fa938e2",
      "a774c86e64004bd6951645f1c24abad4",
      "c86575117cd041f2837762f37d1f387b",
      "6e9907cefb1241688fbd248b8281ed9f",
      "9b8e5405d8264944acab57e81f2f5ad6"
     ]
    },
    "id": "A1-w1fspC53p",
    "outputId": "09c2d5c3-1eef-41eb-dcee-581af1294804"
   },
   "outputs": [
    {
     "data": {
      "application/vnd.jupyter.widget-view+json": {
       "model_id": "27fabec551f4424aaa1fa405660f23bc",
       "version_major": 2,
       "version_minor": 0
      },
      "text/plain": [
       "  0%|          | 0/11531 [00:00<?, ?it/s]"
      ]
     },
     "metadata": {},
     "output_type": "display_data"
    }
   ],
   "source": [
    "best_layout_list = np.load('layouts/rome/best[xing,stress].npy', allow_pickle=True)\n",
    "for data, layout in zip(tqdm(data_list), best_layout_list):\n",
    "    data.gt_pos = torch.tensor(layout)"
   ]
  },
  {
   "cell_type": "code",
   "execution_count": 14,
   "metadata": {
    "id": "y6EGh4U7exL_"
   },
   "outputs": [],
   "source": [
    "train_loader = LazyDeviceMappingDataLoader(data_list[:10000], batch_size=config.batchsize, shuffle=True, device=device)\n",
    "val_loader = LazyDeviceMappingDataLoader(data_list[11000:], batch_size=config.batchsize, shuffle=False, device=device)"
   ]
  },
  {
   "cell_type": "code",
   "execution_count": 15,
   "metadata": {
    "colab": {
     "base_uri": "https://localhost:8080/",
     "height": 103,
     "referenced_widgets": [
      "38a33cf69aff48f4aabd4902a7ce48b1",
      "57e277bcb44c4e2fa2a12105d75153d1",
      "20ce017c46bd4a7c9b420270ac579405",
      "13f2df4fe0ce4af88b6e3bd1637065b0",
      "2867faa145ca4860a198d4d0bf830f89",
      "02838cf669174ed9afa41a1a8e680765",
      "7e9e3c031667455f8baca163d3a213e5",
      "4000135e7dfa46529fa6244fccc5cb57",
      "e523e9faac5b4ec38643c05ac5ba99f7",
      "e8e3ee9741e4480dae5003ccc19a7891",
      "9a569045221b43acb3ba2fbf116b2c74"
     ]
    },
    "id": "YEfRRUK0NiNm",
    "outputId": "93f53d05-7667-4cda-a38e-c3a953124f79"
   },
   "outputs": [],
   "source": [
    "# for m in methods:\n",
    "#     layouts = []\n",
    "#     for G in tqdm(G_list):\n",
    "#         layout = draw_layout(G, method=m, draw=False)\n",
    "#         layouts.append(np.array(list(layout.values())))\n",
    "#     np.save(f'layouts/rome/{m}.npy', layouts)"
   ]
  },
  {
   "cell_type": "code",
   "execution_count": 16,
   "metadata": {
    "colab": {
     "base_uri": "https://localhost:8080/",
     "height": 564
    },
    "id": "upK7AHYqPmC5",
    "outputId": "29a88e61-f55f-409c-9194-12c6d5762528"
   },
   "outputs": [],
   "source": [
    "# from collections import Counter\n",
    "\n",
    "# letter_counts = Counter(best_list)\n",
    "# df = pd.DataFrame.from_dict(letter_counts, orient='index')\n",
    "# df.plot(kind='bar', figsize=[12, 8])"
   ]
  },
  {
   "cell_type": "markdown",
   "metadata": {
    "id": "f-ODE2k8BFV6"
   },
   "source": [
    "## Create folders"
   ]
  },
  {
   "cell_type": "code",
   "execution_count": 17,
   "metadata": {
    "id": "3ykUMINYBRog"
   },
   "outputs": [],
   "source": [
    "mkdirs(paths.checkpoints(), paths.tensorboard(), paths.visualization(), f\"{paths.root}/logs\", f\"{paths.root}/metrics\")"
   ]
  },
  {
   "cell_type": "markdown",
   "metadata": {
    "id": "BFq9k5nzBIh5"
   },
   "source": [
    "## Load checkpoints"
   ]
  },
  {
   "cell_type": "code",
   "execution_count": 18,
   "metadata": {
    "id": "W5NbsKkobIfA"
   },
   "outputs": [],
   "source": [
    "class EdgeFeatureDiscriminator(nn.Module):\n",
    "    def __init__(self, \n",
    "                 conv, \n",
    "                 dense,\n",
    "                 shared_depth,\n",
    "                 enet_depth,\n",
    "                 enet_width,\n",
    "                 aggr='add', \n",
    "                 root_weight=True,\n",
    "                 normalize=None):\n",
    "        super().__init__()\n",
    "        self.enet = nn.Sequential(*[\n",
    "            DenseLayer(in_dim=in_d,\n",
    "                       out_dim=out_d,\n",
    "                       skip=nonlin,\n",
    "                       bn=nonlin,\n",
    "                       act=nonlin,\n",
    "                       dp=None)\n",
    "            for in_d, out_d, nonlin \n",
    "            in zip([self._get_feature_dim()] + [enet_width] * (shared_depth-1),\n",
    "                   [enet_width] * shared_depth,\n",
    "                   [True] * (shared_depth-1) + [False])     \n",
    "        ])\n",
    "        self.blocks = nn.ModuleList([\n",
    "            GNNLayer(nfeat_dims=(in_d, out_d),\n",
    "                     efeat_dim=enet_width,\n",
    "                     edge_net=EdgeNet(nfeat_dims=(in_d, out_d), \n",
    "                                      efeat_dim=enet_width, \n",
    "                                      depth=enet_depth, \n",
    "                                      width=enet_width),\n",
    "                     aggr=aggr,\n",
    "                     dense=False,\n",
    "                     skip=nonlin,\n",
    "                     bn=nonlin,\n",
    "                     act=nonlin,\n",
    "                     root_weight=root_weight) \n",
    "            for in_d, out_d, nonlin \n",
    "            in zip(conv[:-1], conv[1:], [True] * (len(conv)-2) + [False])     \n",
    "        ])\n",
    "        self.pool = (gnn.global_mean_pool if aggr == 'mean' \n",
    "                     else gnn.global_add_pool if aggr == 'add' \n",
    "                     else None)\n",
    "        self.dense = nn.Identity() if not dense else nn.Sequential(*[\n",
    "            DenseLayer(in_dim=in_d,\n",
    "                       out_dim=out_d,\n",
    "                       skip=nonlin,\n",
    "                       bn=nonlin,\n",
    "                       act=nonlin,\n",
    "                       dp=None)\n",
    "            for in_d, out_d, nonlin \n",
    "            in zip(conv[-1:] + dense[:-1], dense, [True] * (len(dense)-1) + [False])     \n",
    "        ])\n",
    "        self.normalize = normalize or IdentityTransformation()\n",
    "    \n",
    "    def forward(self, batch):\n",
    "        x = torch.ones_like(batch.pos)\n",
    "        e = self.enet(self._get_features(self._get_edge_info(batch, layout='pos')))\n",
    "        for block in self.blocks:\n",
    "            x = block(x, e, batch)\n",
    "        x = self.pool(x, batch.batch)\n",
    "        x = self.dense(x)\n",
    "        return x\n",
    "    \n",
    "    def _get_edge_info(self, batch, layout='gt_pos'):\n",
    "        pos = self.normalize(batch[layout].float(), batch)\n",
    "        src, dst = get_edges(pos, batch)\n",
    "        v, u = l2_normalize(dst - src, return_norm=True)\n",
    "        d = batch.edge_attr[:, :1]\n",
    "        return {\n",
    "            \"src\": src,\n",
    "            \"dst\": dst,\n",
    "            \"v\": v,\n",
    "            \"u\": u,\n",
    "            \"d\": d,\n",
    "        }\n",
    "\n",
    "    def _get_features(self, edges):\n",
    "        return torch.cat([edges['src'], edges['dst'], edges['d']], dim=1)\n",
    "        \n",
    "    def _get_feature_dim(self):\n",
    "        return self._get_features({\n",
    "            \"src\": torch.zeros(1, 2),\n",
    "            \"dst\": torch.zeros(1, 2),\n",
    "            \"v\": torch.zeros(1, 2),\n",
    "            \"u\": torch.zeros(1, 1),\n",
    "            \"d\": torch.zeros(1, 1),\n",
    "        }).shape[-1]"
   ]
  },
  {
   "cell_type": "code",
   "execution_count": 19,
   "metadata": {
    "id": "96ZActxlL0fJ"
   },
   "outputs": [],
   "source": [
    "class StressDiscriminator(nn.Module):\n",
    "    def __init__(self, normalize=CanonicalizationByStress(), **kwargs):\n",
    "        super().__init__()\n",
    "        self.dummy = nn.Parameter(torch.zeros(1))\n",
    "        self.normalize = normalize\n",
    "        self.stress = Stress(reduce=None)\n",
    "\n",
    "    def forward(self, batch):\n",
    "        return -self.stress(self.normalize(batch.pos, batch), batch)"
   ]
  },
  {
   "cell_type": "code",
   "execution_count": 20,
   "metadata": {
    "id": "IJ6xCYBUuhcw"
   },
   "outputs": [],
   "source": [
    "def get_ckpt_epoch(folder, epoch):\n",
    "    if not os.path.isdir(folder):\n",
    "        os.mkdir(folder)\n",
    "    if epoch >= 0:\n",
    "        return epoch\n",
    "    ckpt_files = os.listdir(folder)\n",
    "    last_epoch = 0\n",
    "    if ckpt_files:\n",
    "        last_epoch = sorted(list(map(lambda x: int(re.search('(?<=epoch_)(\\d+)(?=\\.)', x).group(1)), ckpt_files)))[-1]\n",
    "    return last_epoch + epoch + 1\n",
    "\n",
    "def start_epoch():\n",
    "    return get_ckpt_epoch(paths.checkpoints(), config.epoch.start)"
   ]
  },
  {
   "cell_type": "code",
   "execution_count": 21,
   "metadata": {
    "colab": {
     "base_uri": "https://localhost:8080/"
    },
    "id": "JacDYXka9U01",
    "outputId": "ef4e31ab-2144-497c-8e4f-4d3740ce2d52"
   },
   "outputs": [
    {
     "name": "stdout",
     "output_type": "stream",
     "text": [
      "Loading from artifacts/checkpoints/GAN(gan=rgan,data=best(xing,stress),dis=deep,share=8,embed=8,gp=0,lr=1e-4)/gen_epoch_663.pt...\n",
      "Loading from artifacts/checkpoints/GAN(gan=rgan,data=best(xing,stress),dis=deep,share=8,embed=8,gp=0,lr=1e-4)/gen_optim_epoch_663.pt...\n"
     ]
    }
   ],
   "source": [
    "generator = Generator(**config.generator.params[...]).to(device)\n",
    "generator_optimizer = config.generator.optim(generator.parameters(), lr=config.generator.lr.initial * config.generator.lr.decay ** start_epoch())\n",
    "generator_scheduler = torch.optim.lr_scheduler.ExponentialLR(generator_optimizer, gamma=config.generator.lr.decay)\n",
    "if start_epoch() != 0:\n",
    "    gen_ckpt_epoch = start_epoch()\n",
    "elif config.generator.pretrained.name is not None and config.generator.pretrained.epoch != 0:\n",
    "    gen_pretrained_epoch = get_ckpt_epoch(paths.gen_pretrain(), config.generator.pretrained.epoch)\n",
    "    gen_ckpt_epoch = gen_pretrained_epoch \n",
    "else:\n",
    "    gen_ckpt_epoch = None\n",
    "if gen_ckpt_epoch is not None:\n",
    "    # Load generator\n",
    "    gen_ckpt_file = f\"{paths.checkpoints()}/gen_epoch_{gen_ckpt_epoch}.pt\"\n",
    "    print(f\"Loading from {gen_ckpt_file}...\")\n",
    "    generator.load_state_dict(torch.load(gen_ckpt_file, map_location=torch.device(device)))\n",
    "    # Load generator optimizer\n",
    "    gen_optim_ckpt_file = f\"{paths.checkpoints()}/gen_optim_epoch_{gen_ckpt_epoch}.pt\"\n",
    "    print(f\"Loading from {gen_optim_ckpt_file}...\")\n",
    "    generator_optimizer.load_state_dict(torch.load(gen_optim_ckpt_file, map_location=torch.device(device)))"
   ]
  },
  {
   "cell_type": "code",
   "execution_count": 22,
   "metadata": {
    "colab": {
     "base_uri": "https://localhost:8080/"
    },
    "id": "oWQhD7-88VXe",
    "outputId": "3ba01600-b546-4e45-a6bd-c7a65af1ae9e"
   },
   "outputs": [
    {
     "name": "stdout",
     "output_type": "stream",
     "text": [
      "Loading from artifacts/checkpoints/GAN(gan=rgan,data=best(xing,stress),dis=deep,share=8,embed=8,gp=0,lr=1e-4)/dis_epoch_663.pt...\n",
      "Loading from artifacts/checkpoints/GAN(gan=rgan,data=best(xing,stress),dis=deep,share=8,embed=8,gp=0,lr=1e-4)/dis_optim_epoch_663.pt...\n"
     ]
    }
   ],
   "source": [
    "discriminator = EdgeFeatureDiscriminator(**config.discriminator.params[...]).to(device)\n",
    "discriminator_optimizer = config.discriminator.optim(discriminator.parameters(), lr=config.discriminator.lr.initial * config.discriminator.lr.decay ** start_epoch())\n",
    "discriminator_scheduler = torch.optim.lr_scheduler.ExponentialLR(discriminator_optimizer, gamma=config.discriminator.lr.decay)\n",
    "if start_epoch() != 0:\n",
    "    dis_ckpt_epoch = start_epoch()\n",
    "elif config.discriminator.pretrained.name is not None and config.discriminator.pretrained.epoch != 0:\n",
    "    dis_pretrained_epoch = get_ckpt_epoch(paths.dis_pretrain(), config.discriminator.pretrained.epoch)\n",
    "    dis_ckpt_epoch = dis_pretrained_epoch # f\"{paths.dis_pretrain()}/dis_epoch_{dis_pretrained_epoch}.pt\"\n",
    "else:\n",
    "    dis_ckpt_epoch = None\n",
    "if dis_ckpt_epoch is not None:\n",
    "    # Load discriminator\n",
    "    dis_ckpt_file = f\"{paths.checkpoints()}/dis_epoch_{dis_ckpt_epoch}.pt\"\n",
    "    print(f\"Loading from {dis_ckpt_file}...\")\n",
    "    discriminator.load_state_dict(torch.load(dis_ckpt_file, map_location=torch.device(device)))\n",
    "    # Load discriminator optimizer\n",
    "    dis_optim_ckpt_file = f\"{paths.checkpoints()}/dis_optim_epoch_{dis_ckpt_epoch}.pt\"\n",
    "    print(f\"Loading from {dis_optim_ckpt_file}...\")\n",
    "    discriminator_optimizer.load_state_dict(torch.load(dis_optim_ckpt_file, map_location=torch.device(device)))"
   ]
  },
  {
   "cell_type": "markdown",
   "metadata": {
    "id": "N39dDHraedM6"
   },
   "source": [
    "# Train"
   ]
  },
  {
   "cell_type": "code",
   "execution_count": 23,
   "metadata": {
    "id": "BdIJSDSJedM-"
   },
   "outputs": [],
   "source": [
    "stress_criterion = StressDiscriminator().to(device)\n",
    "val_criterion = Stress(reduce=None)\n",
    "xing_criterion = Xing(reduce=None)\n",
    "dis_convert = DiscriminatorDataConverter(complete_graph=config.discriminator.complete, normalize=config.discriminator.params.normalize)\n",
    "tensorboard = SummaryWriter(log_dir=paths.tensorboard())\n",
    "epoch = start_epoch() + 1"
   ]
  },
  {
   "cell_type": "code",
   "execution_count": 24,
   "metadata": {
    "id": "OHRWj1h0edM-"
   },
   "outputs": [],
   "source": [
    "def gradient_penalty(interpolated, discriminator, weight=10):\n",
    "    interpolated.pos.requires_grad_()\n",
    "    prob_interpolated = discriminator(interpolated)\n",
    "    gradients = autograd.grad(outputs=prob_interpolated, \n",
    "                              inputs=interpolated.pos,\n",
    "                              grad_outputs=torch.ones_like(prob_interpolated),\n",
    "                              create_graph=True, \n",
    "                              retain_graph=True, \n",
    "                              allow_unused=True)[0]\n",
    "    gradients_norm = torch.sqrt(gnn.global_add_pool(gradients.square().sum(dim=1), batch.batch) + 1e-8)\n",
    "    return weight * ((gradients_norm - 1) ** 2).mean()"
   ]
  },
  {
   "cell_type": "code",
   "execution_count": 25,
   "metadata": {
    "id": "o5wJJN9AedM_"
   },
   "outputs": [],
   "source": [
    "def get_gp_loss(batch, fake_pos, weight):\n",
    "    if weight > 0:\n",
    "        interp = dis_convert(batch, fake_pos, random.random())\n",
    "        return gradient_penalty(interp, discriminator, weight).mean()\n",
    "    return 0"
   ]
  },
  {
   "cell_type": "code",
   "execution_count": 26,
   "metadata": {
    "id": "QwuA6sRoedM_"
   },
   "outputs": [],
   "source": [
    "def get_sgan_loss(batch, fake_pos, mode='discriminator'):\n",
    "    real = dis_convert(batch)\n",
    "    fake = dis_convert(batch, fake_pos)\n",
    "    pred = discriminator(merge_batch(real, fake)).view(2, -1).T\n",
    "    if mode == 'discriminator':\n",
    "        label = torch.zeros(pred.shape[0]).long()\n",
    "    elif mode == 'generator':\n",
    "        label = torch.ones(pred.shape[0]).long()\n",
    "    else:\n",
    "        raise Exception\n",
    "    return nn.CrossEntropyLoss()(pred, label)"
   ]
  },
  {
   "cell_type": "code",
   "execution_count": 27,
   "metadata": {
    "id": "GuAP1YchedNA"
   },
   "outputs": [],
   "source": [
    "def get_rgan_loss(batch, fake_pos, mode='discriminator'):\n",
    "    real = dis_convert(batch)\n",
    "    fake = dis_convert(batch, fake_pos)\n",
    "    pred = discriminator(merge_batch(real, fake)).view(2, -1).T\n",
    "    real_pred, fake_pred = pred[:,0], pred[:,1]\n",
    "    if mode == 'discriminator':\n",
    "        losses = - F.logsigmoid(real_pred - fake_pred)\n",
    "    elif mode == 'generator':\n",
    "        losses = - F.logsigmoid(fake_pred - real_pred)\n",
    "    else:\n",
    "        raise Exception\n",
    "    return losses.mean()"
   ]
  },
  {
   "cell_type": "code",
   "execution_count": 28,
   "metadata": {
    "id": "KFllQ7BredNA"
   },
   "outputs": [],
   "source": [
    "def get_wgan_loss(batch, fake_pos, mode='discriminator'):\n",
    "    real = dis_convert(batch)\n",
    "    fake = dis_convert(batch, fake_pos)\n",
    "    pred = discriminator(merge_batch(real, fake)).view(2, -1).T\n",
    "    real_pred, fake_pred = pred[:,0], pred[:,1]\n",
    "    if mode == 'discriminator':\n",
    "        losses = fake_pred - real_pred \n",
    "    elif mode == 'generator':\n",
    "        losses = real_pred - fake_pred\n",
    "    else:\n",
    "        raise Exception\n",
    "    return losses.mean()"
   ]
  },
  {
   "cell_type": "code",
   "execution_count": 29,
   "metadata": {
    "id": "r5Kg_tYEedNA"
   },
   "outputs": [],
   "source": [
    "def get_ragan_loss(batch, fake_pos, mode='discriminator'):\n",
    "    real = dis_convert(batch)\n",
    "    fake = dis_convert(batch, fake_pos)\n",
    "    pred = discriminator(merge_batch(real, fake)).view(2, -1).T\n",
    "    real_pred, fake_pred = pred[:,0], pred[:,1]\n",
    "    if mode == 'discriminator':\n",
    "        losses = - F.logsigmoid(real_pred - fake_pred.mean()) - F.logsigmoid(real_pred.mean() - fake_pred)\n",
    "    elif mode == 'generator':\n",
    "        losses = - F.logsigmoid(fake_pred - real_pred.mean()) - F.logsigmoid(fake_pred.mean() - real_pred)\n",
    "    else:\n",
    "        raise Exception\n",
    "    return losses.mean()"
   ]
  },
  {
   "cell_type": "code",
   "execution_count": 30,
   "metadata": {},
   "outputs": [],
   "source": [
    "def get_dgdv2_loss(batch, fake_pos, mode='discriminator'):\n",
    "    fake = dis_convert(batch, fake_pos)\n",
    "    pred = discriminator(fake)\n",
    "    if mode == 'discriminator':\n",
    "        gt = get_gt(batch, fake_pos)\n",
    "        loss = criterion(pred, gt)\n",
    "    elif mode == 'generator':\n",
    "        losses = pred.sum(dim=0)\n",
    "#         losses = torch.tensor(config.importance).to(device) * losses #/ losses.detach()\n",
    "        loss = losses.sum()\n",
    "    else:\n",
    "        raise Exception\n",
    "    return -loss"
   ]
  },
  {
   "cell_type": "code",
   "execution_count": 31,
   "metadata": {
    "id": "3IE_84f-edNB"
   },
   "outputs": [],
   "source": [
    "def get_gan_loss(batch, fake_pos, mode='discriminator'):\n",
    "    return {\"sgan\": get_sgan_loss,\n",
    "            \"wgan\": get_wgan_loss,\n",
    "            \"rgan\": get_rgan_loss,\n",
    "            \"ragan\": get_ragan_loss,\n",
    "            \"dgdv2\": get_dgdv2_loss}[config.gan_flavor](batch, fake_pos, mode)"
   ]
  },
  {
   "cell_type": "code",
   "execution_count": 32,
   "metadata": {
    "colab": {
     "background_save": true,
     "base_uri": "https://localhost:8080/",
     "height": 80
    },
    "id": "2NjekXgkedNB",
    "outputId": "da85b2ec-c0de-459c-c0dd-7ba3519419fa",
    "scrolled": true,
    "tags": []
   },
   "outputs": [
    {
     "data": {
      "application/vnd.jupyter.widget-view+json": {
       "model_id": "54094fcde3204e40a690b1d78c19aca6",
       "version_major": 2,
       "version_minor": 0
      },
      "text/plain": [
       "Tab(children=(VBox(children=(Wrapper(), Hud())), HBox(children=(Output(),), layout=Layout(height='500px', over…"
      ]
     },
     "metadata": {},
     "output_type": "display_data"
    },
    {
     "ename": "KeyboardInterrupt",
     "evalue": "",
     "output_type": "error",
     "traceback": [
      "\u001b[0;31m---------------------------------------------------------------------------\u001b[0m",
      "\u001b[0;31mKeyboardInterrupt\u001b[0m                         Traceback (most recent call last)",
      "\u001b[0;32m/tmp/slurmtmp.5650544/ipykernel_104027/801679965.py\u001b[0m in \u001b[0;36m<module>\u001b[0;34m\u001b[0m\n\u001b[1;32m    133\u001b[0m     \u001b[0;32mif\u001b[0m \u001b[0mconfig\u001b[0m\u001b[0;34m.\u001b[0m\u001b[0malternate\u001b[0m \u001b[0;34m==\u001b[0m \u001b[0;34m'epoch'\u001b[0m\u001b[0;34m:\u001b[0m\u001b[0;34m\u001b[0m\u001b[0;34m\u001b[0m\u001b[0m\n\u001b[1;32m    134\u001b[0m         \u001b[0;32mfor\u001b[0m \u001b[0mbatch\u001b[0m \u001b[0;32min\u001b[0m \u001b[0mtrain_loader\u001b[0m\u001b[0;34m:\u001b[0m\u001b[0;34m\u001b[0m\u001b[0;34m\u001b[0m\u001b[0m\n\u001b[0;32m--> 135\u001b[0;31m             \u001b[0mtrain_gen\u001b[0m\u001b[0;34m(\u001b[0m\u001b[0mbatch\u001b[0m\u001b[0;34m,\u001b[0m \u001b[0mepoch\u001b[0m\u001b[0;34m)\u001b[0m\u001b[0;34m\u001b[0m\u001b[0;34m\u001b[0m\u001b[0m\n\u001b[0m\u001b[1;32m    136\u001b[0m \u001b[0;34m\u001b[0m\u001b[0m\n\u001b[1;32m    137\u001b[0m     \u001b[0mdiscriminator_scheduler\u001b[0m\u001b[0;34m.\u001b[0m\u001b[0mstep\u001b[0m\u001b[0;34m(\u001b[0m\u001b[0;34m)\u001b[0m\u001b[0;34m\u001b[0m\u001b[0;34m\u001b[0m\u001b[0m\n",
      "\u001b[0;32m/tmp/slurmtmp.5650544/ipykernel_104027/801679965.py\u001b[0m in \u001b[0;36mtrain_gen\u001b[0;34m(batch, epoch)\u001b[0m\n\u001b[1;32m     28\u001b[0m     \u001b[0;32mif\u001b[0m \u001b[0mconfig\u001b[0m\u001b[0;34m.\u001b[0m\u001b[0mdiscriminator\u001b[0m\u001b[0;34m.\u001b[0m\u001b[0mnoise\u001b[0m\u001b[0;34m.\u001b[0m\u001b[0mstd\u001b[0m \u001b[0;34m>\u001b[0m \u001b[0;36m0\u001b[0m\u001b[0;34m:\u001b[0m\u001b[0;34m\u001b[0m\u001b[0;34m\u001b[0m\u001b[0m\n\u001b[1;32m     29\u001b[0m         \u001b[0mgenerator_output\u001b[0m \u001b[0;34m=\u001b[0m \u001b[0mgenerator_output\u001b[0m \u001b[0;34m+\u001b[0m \u001b[0mtorch\u001b[0m\u001b[0;34m.\u001b[0m\u001b[0mrandn_like\u001b[0m\u001b[0;34m(\u001b[0m\u001b[0mgenerator_output\u001b[0m\u001b[0;34m)\u001b[0m \u001b[0;34m*\u001b[0m \u001b[0mconfig\u001b[0m\u001b[0;34m.\u001b[0m\u001b[0mdiscriminator\u001b[0m\u001b[0;34m.\u001b[0m\u001b[0mnoise\u001b[0m\u001b[0;34m.\u001b[0m\u001b[0mstd\u001b[0m \u001b[0;34m*\u001b[0m \u001b[0mconfig\u001b[0m\u001b[0;34m.\u001b[0m\u001b[0mdiscriminator\u001b[0m\u001b[0;34m.\u001b[0m\u001b[0mnoise\u001b[0m\u001b[0;34m.\u001b[0m\u001b[0mdecay\u001b[0m \u001b[0;34m**\u001b[0m \u001b[0mepoch\u001b[0m\u001b[0;34m\u001b[0m\u001b[0;34m\u001b[0m\u001b[0m\n\u001b[0;32m---> 30\u001b[0;31m     \u001b[0mgenerator_loss\u001b[0m \u001b[0;34m=\u001b[0m \u001b[0mget_gan_loss\u001b[0m\u001b[0;34m(\u001b[0m\u001b[0mbatch\u001b[0m\u001b[0;34m,\u001b[0m \u001b[0mgenerator_output\u001b[0m\u001b[0;34m,\u001b[0m \u001b[0mmode\u001b[0m\u001b[0;34m=\u001b[0m\u001b[0;34m'generator'\u001b[0m\u001b[0;34m)\u001b[0m\u001b[0;34m\u001b[0m\u001b[0;34m\u001b[0m\u001b[0m\n\u001b[0m\u001b[1;32m     31\u001b[0m \u001b[0;34m\u001b[0m\u001b[0m\n\u001b[1;32m     32\u001b[0m     \u001b[0;31m#train generator\u001b[0m\u001b[0;34m\u001b[0m\u001b[0;34m\u001b[0m\u001b[0m\n",
      "\u001b[0;32m/tmp/slurmtmp.5650544/ipykernel_104027/4066978981.py\u001b[0m in \u001b[0;36mget_gan_loss\u001b[0;34m(batch, fake_pos, mode)\u001b[0m\n\u001b[1;32m      1\u001b[0m \u001b[0;32mdef\u001b[0m \u001b[0mget_gan_loss\u001b[0m\u001b[0;34m(\u001b[0m\u001b[0mbatch\u001b[0m\u001b[0;34m,\u001b[0m \u001b[0mfake_pos\u001b[0m\u001b[0;34m,\u001b[0m \u001b[0mmode\u001b[0m\u001b[0;34m=\u001b[0m\u001b[0;34m'discriminator'\u001b[0m\u001b[0;34m)\u001b[0m\u001b[0;34m:\u001b[0m\u001b[0;34m\u001b[0m\u001b[0;34m\u001b[0m\u001b[0m\n\u001b[0;32m----> 2\u001b[0;31m     return {\"sgan\": get_sgan_loss,\n\u001b[0m\u001b[1;32m      3\u001b[0m             \u001b[0;34m\"wgan\"\u001b[0m\u001b[0;34m:\u001b[0m \u001b[0mget_wgan_loss\u001b[0m\u001b[0;34m,\u001b[0m\u001b[0;34m\u001b[0m\u001b[0;34m\u001b[0m\u001b[0m\n\u001b[1;32m      4\u001b[0m             \u001b[0;34m\"rgan\"\u001b[0m\u001b[0;34m:\u001b[0m \u001b[0mget_rgan_loss\u001b[0m\u001b[0;34m,\u001b[0m\u001b[0;34m\u001b[0m\u001b[0;34m\u001b[0m\u001b[0m\n\u001b[1;32m      5\u001b[0m             \u001b[0;34m\"ragan\"\u001b[0m\u001b[0;34m:\u001b[0m \u001b[0mget_ragan_loss\u001b[0m\u001b[0;34m,\u001b[0m\u001b[0;34m\u001b[0m\u001b[0;34m\u001b[0m\u001b[0m\n",
      "\u001b[0;32m/tmp/slurmtmp.5650544/ipykernel_104027/3696265815.py\u001b[0m in \u001b[0;36mget_rgan_loss\u001b[0;34m(batch, fake_pos, mode)\u001b[0m\n\u001b[1;32m      2\u001b[0m     \u001b[0mreal\u001b[0m \u001b[0;34m=\u001b[0m \u001b[0mdis_convert\u001b[0m\u001b[0;34m(\u001b[0m\u001b[0mbatch\u001b[0m\u001b[0;34m)\u001b[0m\u001b[0;34m\u001b[0m\u001b[0;34m\u001b[0m\u001b[0m\n\u001b[1;32m      3\u001b[0m     \u001b[0mfake\u001b[0m \u001b[0;34m=\u001b[0m \u001b[0mdis_convert\u001b[0m\u001b[0;34m(\u001b[0m\u001b[0mbatch\u001b[0m\u001b[0;34m,\u001b[0m \u001b[0mfake_pos\u001b[0m\u001b[0;34m)\u001b[0m\u001b[0;34m\u001b[0m\u001b[0;34m\u001b[0m\u001b[0m\n\u001b[0;32m----> 4\u001b[0;31m     \u001b[0mpred\u001b[0m \u001b[0;34m=\u001b[0m \u001b[0mdiscriminator\u001b[0m\u001b[0;34m(\u001b[0m\u001b[0mmerge_batch\u001b[0m\u001b[0;34m(\u001b[0m\u001b[0mreal\u001b[0m\u001b[0;34m,\u001b[0m \u001b[0mfake\u001b[0m\u001b[0;34m)\u001b[0m\u001b[0;34m)\u001b[0m\u001b[0;34m.\u001b[0m\u001b[0mview\u001b[0m\u001b[0;34m(\u001b[0m\u001b[0;36m2\u001b[0m\u001b[0;34m,\u001b[0m \u001b[0;34m-\u001b[0m\u001b[0;36m1\u001b[0m\u001b[0;34m)\u001b[0m\u001b[0;34m.\u001b[0m\u001b[0mT\u001b[0m\u001b[0;34m\u001b[0m\u001b[0;34m\u001b[0m\u001b[0m\n\u001b[0m\u001b[1;32m      5\u001b[0m     \u001b[0mreal_pred\u001b[0m\u001b[0;34m,\u001b[0m \u001b[0mfake_pred\u001b[0m \u001b[0;34m=\u001b[0m \u001b[0mpred\u001b[0m\u001b[0;34m[\u001b[0m\u001b[0;34m:\u001b[0m\u001b[0;34m,\u001b[0m\u001b[0;36m0\u001b[0m\u001b[0;34m]\u001b[0m\u001b[0;34m,\u001b[0m \u001b[0mpred\u001b[0m\u001b[0;34m[\u001b[0m\u001b[0;34m:\u001b[0m\u001b[0;34m,\u001b[0m\u001b[0;36m1\u001b[0m\u001b[0;34m]\u001b[0m\u001b[0;34m\u001b[0m\u001b[0;34m\u001b[0m\u001b[0m\n\u001b[1;32m      6\u001b[0m     \u001b[0;32mif\u001b[0m \u001b[0mmode\u001b[0m \u001b[0;34m==\u001b[0m \u001b[0;34m'discriminator'\u001b[0m\u001b[0;34m:\u001b[0m\u001b[0;34m\u001b[0m\u001b[0;34m\u001b[0m\u001b[0m\n",
      "\u001b[0;32m~/.conda/envs/deepgd/lib/python3.9/site-packages/torch/nn/modules/module.py\u001b[0m in \u001b[0;36m_call_impl\u001b[0;34m(self, *input, **kwargs)\u001b[0m\n\u001b[1;32m   1049\u001b[0m         if not (self._backward_hooks or self._forward_hooks or self._forward_pre_hooks or _global_backward_hooks\n\u001b[1;32m   1050\u001b[0m                 or _global_forward_hooks or _global_forward_pre_hooks):\n\u001b[0;32m-> 1051\u001b[0;31m             \u001b[0;32mreturn\u001b[0m \u001b[0mforward_call\u001b[0m\u001b[0;34m(\u001b[0m\u001b[0;34m*\u001b[0m\u001b[0minput\u001b[0m\u001b[0;34m,\u001b[0m \u001b[0;34m**\u001b[0m\u001b[0mkwargs\u001b[0m\u001b[0;34m)\u001b[0m\u001b[0;34m\u001b[0m\u001b[0;34m\u001b[0m\u001b[0m\n\u001b[0m\u001b[1;32m   1052\u001b[0m         \u001b[0;31m# Do not call functions when jit is used\u001b[0m\u001b[0;34m\u001b[0m\u001b[0;34m\u001b[0m\u001b[0m\n\u001b[1;32m   1053\u001b[0m         \u001b[0mfull_backward_hooks\u001b[0m\u001b[0;34m,\u001b[0m \u001b[0mnon_full_backward_hooks\u001b[0m \u001b[0;34m=\u001b[0m \u001b[0;34m[\u001b[0m\u001b[0;34m]\u001b[0m\u001b[0;34m,\u001b[0m \u001b[0;34m[\u001b[0m\u001b[0;34m]\u001b[0m\u001b[0;34m\u001b[0m\u001b[0;34m\u001b[0m\u001b[0m\n",
      "\u001b[0;32m/tmp/slurmtmp.5650544/ipykernel_104027/3879066284.py\u001b[0m in \u001b[0;36mforward\u001b[0;34m(self, batch)\u001b[0m\n\u001b[1;32m     58\u001b[0m         \u001b[0;32mfor\u001b[0m \u001b[0mblock\u001b[0m \u001b[0;32min\u001b[0m \u001b[0mself\u001b[0m\u001b[0;34m.\u001b[0m\u001b[0mblocks\u001b[0m\u001b[0;34m:\u001b[0m\u001b[0;34m\u001b[0m\u001b[0;34m\u001b[0m\u001b[0m\n\u001b[1;32m     59\u001b[0m             \u001b[0mx\u001b[0m \u001b[0;34m=\u001b[0m \u001b[0mblock\u001b[0m\u001b[0;34m(\u001b[0m\u001b[0mx\u001b[0m\u001b[0;34m,\u001b[0m \u001b[0me\u001b[0m\u001b[0;34m,\u001b[0m \u001b[0mbatch\u001b[0m\u001b[0;34m)\u001b[0m\u001b[0;34m\u001b[0m\u001b[0;34m\u001b[0m\u001b[0m\n\u001b[0;32m---> 60\u001b[0;31m         \u001b[0mx\u001b[0m \u001b[0;34m=\u001b[0m \u001b[0mself\u001b[0m\u001b[0;34m.\u001b[0m\u001b[0mpool\u001b[0m\u001b[0;34m(\u001b[0m\u001b[0mx\u001b[0m\u001b[0;34m,\u001b[0m \u001b[0mbatch\u001b[0m\u001b[0;34m.\u001b[0m\u001b[0mbatch\u001b[0m\u001b[0;34m)\u001b[0m\u001b[0;34m\u001b[0m\u001b[0;34m\u001b[0m\u001b[0m\n\u001b[0m\u001b[1;32m     61\u001b[0m         \u001b[0mx\u001b[0m \u001b[0;34m=\u001b[0m \u001b[0mself\u001b[0m\u001b[0;34m.\u001b[0m\u001b[0mdense\u001b[0m\u001b[0;34m(\u001b[0m\u001b[0mx\u001b[0m\u001b[0;34m)\u001b[0m\u001b[0;34m\u001b[0m\u001b[0;34m\u001b[0m\u001b[0m\n\u001b[1;32m     62\u001b[0m         \u001b[0;32mreturn\u001b[0m \u001b[0mx\u001b[0m\u001b[0;34m\u001b[0m\u001b[0;34m\u001b[0m\u001b[0m\n",
      "\u001b[0;32m~/.conda/envs/deepgd/lib/python3.9/site-packages/torch_geometric/nn/glob/glob.py\u001b[0m in \u001b[0;36mglobal_add_pool\u001b[0;34m(x, batch, size)\u001b[0m\n\u001b[1;32m     23\u001b[0m     \"\"\"\n\u001b[1;32m     24\u001b[0m \u001b[0;34m\u001b[0m\u001b[0m\n\u001b[0;32m---> 25\u001b[0;31m     \u001b[0msize\u001b[0m \u001b[0;34m=\u001b[0m \u001b[0mint\u001b[0m\u001b[0;34m(\u001b[0m\u001b[0mbatch\u001b[0m\u001b[0;34m.\u001b[0m\u001b[0mmax\u001b[0m\u001b[0;34m(\u001b[0m\u001b[0;34m)\u001b[0m\u001b[0;34m.\u001b[0m\u001b[0mitem\u001b[0m\u001b[0;34m(\u001b[0m\u001b[0;34m)\u001b[0m \u001b[0;34m+\u001b[0m \u001b[0;36m1\u001b[0m\u001b[0;34m)\u001b[0m \u001b[0;32mif\u001b[0m \u001b[0msize\u001b[0m \u001b[0;32mis\u001b[0m \u001b[0;32mNone\u001b[0m \u001b[0;32melse\u001b[0m \u001b[0msize\u001b[0m\u001b[0;34m\u001b[0m\u001b[0;34m\u001b[0m\u001b[0m\n\u001b[0m\u001b[1;32m     26\u001b[0m     \u001b[0;32mreturn\u001b[0m \u001b[0mscatter\u001b[0m\u001b[0;34m(\u001b[0m\u001b[0mx\u001b[0m\u001b[0;34m,\u001b[0m \u001b[0mbatch\u001b[0m\u001b[0;34m,\u001b[0m \u001b[0mdim\u001b[0m\u001b[0;34m=\u001b[0m\u001b[0;36m0\u001b[0m\u001b[0;34m,\u001b[0m \u001b[0mdim_size\u001b[0m\u001b[0;34m=\u001b[0m\u001b[0msize\u001b[0m\u001b[0;34m,\u001b[0m \u001b[0mreduce\u001b[0m\u001b[0;34m=\u001b[0m\u001b[0;34m'add'\u001b[0m\u001b[0;34m)\u001b[0m\u001b[0;34m\u001b[0m\u001b[0;34m\u001b[0m\u001b[0m\n\u001b[1;32m     27\u001b[0m \u001b[0;34m\u001b[0m\u001b[0m\n",
      "\u001b[0;31mKeyboardInterrupt\u001b[0m: "
     ]
    }
   ],
   "source": [
    "def train_dis(batch, epoch):\n",
    "    generator.requires_grad_(False)\n",
    "    discriminator.zero_grad()\n",
    "    generator_output = generator(batch)\n",
    "    if config.discriminator.noise.std > 0:\n",
    "        generator_output = generator_output + torch.randn_like(generator_output) * config.discriminator.noise.std * config.discriminator.noise.decay ** epoch\n",
    "    discriminator_loss = get_gan_loss(batch, generator_output, mode='discriminator')\n",
    "    \n",
    "    # train discriminator\n",
    "    discriminator_loss.backward()\n",
    "    discriminator_optimizer.step()\n",
    "\n",
    "    # gradient penalty\n",
    "    if config.gp_weight > 0:\n",
    "        discriminator.zero_grad()\n",
    "        gp_loss = get_gp_loss(batch, generator_output, config.gp_weight)\n",
    "        gp_loss.backward()\n",
    "        discriminator_optimizer.step()\n",
    "\n",
    "    hud['dis_loss'] = format(discriminator_loss.item(), '.2e')\n",
    "    pbar().update()\n",
    "\n",
    "def train_gen(batch, epoch):\n",
    "    generator.requires_grad_(True)\n",
    "    generator.zero_grad()\n",
    "    discriminator.zero_grad()\n",
    "    generator_output = generator(batch)\n",
    "    if config.discriminator.noise.std > 0:\n",
    "        generator_output = generator_output + torch.randn_like(generator_output) * config.discriminator.noise.std * config.discriminator.noise.decay ** epoch\n",
    "    generator_loss = get_gan_loss(batch, generator_output, mode='generator') \n",
    "    \n",
    "    #train generator\n",
    "    generator_loss.backward()\n",
    "    generator_optimizer.step()\n",
    "\n",
    "    with torch.no_grad():\n",
    "        dis_batch = dis_convert(batch, generator_output)\n",
    "        stress = stress_criterion(dis_batch).mean()\n",
    "        critic = discriminator(dis_batch).mean()\n",
    "    hud.append({'gen_loss': format(generator_loss.item(), '.2e'),\n",
    "                'stress': format(stress.item(), '.2e'),\n",
    "                'critic': format(critic.item(), '.2e')})\n",
    "    pbar().update()\n",
    "\n",
    "def cuda_memsafe_map(fn, *iterables, summary=False):\n",
    "    total, failed = 0, 0\n",
    "    iterator = zip(*iterables)\n",
    "    items = None\n",
    "    while True:\n",
    "        try:\n",
    "            items = next(iterator)\n",
    "            yield fn(*items)\n",
    "        except StopIteration:\n",
    "            if summary:\n",
    "                print(f'Iteration finished. {failed} out of {total} failed!')\n",
    "            break\n",
    "        except RuntimeError:\n",
    "            print('CUDA memory overflow! Skip batch...')\n",
    "            del items\n",
    "            failed += 1\n",
    "        torch.cuda.empty_cache()\n",
    "        total += 1\n",
    "    \n",
    "def validate(model, data_loader, criterion=val_criterion):\n",
    "    def val_one_batch(batch):\n",
    "        batch = preprocess_batch(model, batch)\n",
    "        pred = CanonicalizationByStress()(model(batch), batch)\n",
    "        gt = CanonicalizationByStress()(batch.gt_pos, batch)\n",
    "        loss = criterion(pred, batch)\n",
    "        gt_loss = criterion(gt, batch)\n",
    "        spc = (loss - gt_loss) / torch.maximum(torch.maximum(loss, gt_loss), torch.ones_like(loss)*1e-5)\n",
    "        return loss.mean().item(), spc.mean().item()\n",
    "    loss_all, spc_all = zip(*cuda_memsafe_map(val_one_batch, data_loader))\n",
    "    return np.mean(loss_all), np.mean(spc_all)\n",
    "\n",
    "def log(msg):\n",
    "    msg = f\"[{epoch:03}] {msg}\"\n",
    "    print(msg, file=open(paths.log(), \"a\"))\n",
    "    with log_out: \n",
    "        print(msg)\n",
    "\n",
    "print(f\"{'='*10} {config.link} {'='*10}\", file=open(paths.log(), \"a\"))\n",
    "hud = Hud()\n",
    "pbar = Wrapper(tqdm, total=len(train_loader)*2, smoothing=0)\n",
    "plot_out = Output()\n",
    "log_out = Output()\n",
    "tabs = {\"status\": VBox([pbar, hud]), \n",
    "        \"plot\": HBox([plot_out], layout=Layout(height='500px', overflow_y='auto')),\n",
    "        \"log\": HBox([log_out], layout=Layout(height='500px', overflow_y='auto'))}\n",
    "tab_bar = Tab(children=list(tabs.values()))\n",
    "[tab_bar.set_title(i, name) for i, name in enumerate(tabs)]\n",
    "display(tab_bar)\n",
    "while True:\n",
    "    if epoch % config.log_interval == 0:\n",
    "        torch.save(generator.state_dict(), f\"{paths.checkpoints()}/gen_epoch_{epoch}.pt\")\n",
    "        torch.save(generator_optimizer.state_dict(), f\"{paths.checkpoints()}/gen_optim_epoch_{epoch}.pt\")\n",
    "        torch.save(discriminator.state_dict(), f\"{paths.checkpoints()}/dis_epoch_{epoch}.pt\")\n",
    "        torch.save(discriminator_optimizer.state_dict(), f\"{paths.checkpoints()}/dis_optim_epoch_{epoch}.pt\")\n",
    "        generator.eval()\n",
    "        with torch.no_grad():\n",
    "            val_stress, val_stress_spc = validate(model=generator, data_loader=val_loader)\n",
    "            val_xing, val_xing_spc = validate(model=generator, data_loader=val_loader, criterion=xing_criterion)\n",
    "            with plot_out:\n",
    "                fig = plt.figure()\n",
    "                graph_vis(G_list[11100], generator(make_batch(data_list[11100]).to(device)).cpu())\n",
    "                plt.show()\n",
    "        # tensorboard.add_scalars('loss', {'train': train_loss, \n",
    "        #                                  'validation': val_loss}, epoch)\n",
    "        # for i, fn in enumerate(loss_fns):\n",
    "        #     tensorboard.add_scalars(type(fn).__name__, {'train': train_loss_comp[i].item(), \n",
    "        #                                           'validation': val_loss_comp[i].item()}, epoch)\n",
    "        hud.append({\n",
    "            'val_stress': format(val_stress, '.2f'),\n",
    "            'val_stress_spc': format(val_stress_spc, '.2%'),\n",
    "            'val_xing': format(val_xing, '.2f'),\n",
    "            'val_xing_spc': format(val_xing_spc, '.2%'),\n",
    "        })\n",
    "        log(f\"stress={hud.data['val_stress']}({hud.data['val_stress_spc']}) xing={hud.data['val_xing']}({hud.data['val_xing_spc']})\")\n",
    "        \n",
    "    # handle.update(tab_bar)\n",
    "    pbar().reset()\n",
    "    pbar().set_description(desc=f\"[epoch {epoch}/{config.epoch.end}]\")\n",
    "    hud(title=f\"epoch {epoch}\")\n",
    "    generator.train()\n",
    "    discriminator.train()\n",
    "    # proper: proper layout\n",
    "    for _ in range(config.discriminator.repeat):\n",
    "        for batch in train_loader:\n",
    "            train_dis(batch, epoch)\n",
    "            if config.alternate == 'iteration':\n",
    "                train_gen(batch, epoch)\n",
    "\n",
    "    if config.alternate == 'epoch':\n",
    "        for batch in train_loader:\n",
    "            train_gen(batch, epoch)\n",
    "\n",
    "    discriminator_scheduler.step()\n",
    "    generator_scheduler.step()\n",
    "\n",
    "    if epoch == config.epoch.end:\n",
    "        break\n",
    "    epoch += 1"
   ]
  },
  {
   "cell_type": "markdown",
   "metadata": {
    "id": "0qYK_X_hrq9o"
   },
   "source": [
    "# Test"
   ]
  },
  {
   "cell_type": "code",
   "execution_count": 33,
   "metadata": {
    "colab": {
     "base_uri": "https://localhost:8080/"
    },
    "id": "XEvmAtNjWhcY",
    "outputId": "9f4c86a4-a4b0-48f1-cb58-ab3679173184"
   },
   "outputs": [
    {
     "name": "stdout",
     "output_type": "stream",
     "text": [
      "Loading from artifacts/checkpoints/GAN(gan=rgan,data=best(xing,stress),dis=deep,share=8,embed=8,gp=0,lr=1e-4)/gen_epoch_667.pt...\n"
     ]
    },
    {
     "data": {
      "text/plain": [
       "<All keys matched successfully>"
      ]
     },
     "execution_count": 33,
     "metadata": {},
     "output_type": "execute_result"
    }
   ],
   "source": [
    "test_epoch = -1\n",
    "\n",
    "test_generator = Generator(**config.generator.params[...]).to(device)\n",
    "test_ckpt_epoch = get_ckpt_epoch(paths.checkpoints(), test_epoch)\n",
    "test_ckpt_file = f\"{paths.checkpoints()}/gen_epoch_{test_ckpt_epoch}.pt\"\n",
    "print(f\"Loading from {test_ckpt_file}...\")\n",
    "test_generator.load_state_dict(torch.load(test_ckpt_file, map_location=torch.device(device)))"
   ]
  },
  {
   "cell_type": "code",
   "execution_count": 35,
   "metadata": {
    "colab": {
     "background_save": true,
     "base_uri": "https://localhost:8080/",
     "height": 1000,
     "referenced_widgets": [
      "9b7d18992dbf4a84931f916fbaaa37d8",
      "2c664d7e1e6d474fb87094fc0da270d3",
      "d375f5f82a4645d7b29c541596dc1c7f",
      "ecfa311bb06b4f6fa504598263ff69d3",
      "d1859990877149eab2b414b4e2a0e0c7",
      "d2be6733734844bca3e1db9b49eb1c1e",
      "4d98072bdf674792a13d77e85dd285d1",
      "f7ed92c383d741a0a1cef2536ff2db13",
      "2ba110f835c64ec4b82974996aed10af",
      "09397ceac9014af0aebca848d4d96d48",
      "fd0709f48d6c4527bc00b5f407f3c1b9"
     ]
    },
    "id": "ZubmSTcYrq9o",
    "outputId": "fc2f65a2-2085-43ac-b110-cbfe742318a8",
    "scrolled": true,
    "tags": []
   },
   "outputs": [
    {
     "data": {
      "application/vnd.jupyter.widget-view+json": {
       "model_id": "869fb01520be4895bb1e29da8e084f0e",
       "version_major": 2,
       "version_minor": 0
      },
      "text/plain": [
       "  0%|          | 0/1000 [00:00<?, ?it/s]"
      ]
     },
     "metadata": {},
     "output_type": "display_data"
    }
   ],
   "source": [
    "rotate = RotateByPrincipalComponents()\n",
    "def test_callback(*, idx, pred, metrics):\n",
    "    # graph_vis(G_list[idx], pred, file_name=f\"{paths.visualization()}/{idx}_{metrics['stress']:.2f}_{metrics['resolution_score']:.2f}.png\")\n",
    "    pred = rotate(torch.tensor(pred), data_list[idx])\n",
    "    graph_vis(G_list[idx], pred)\n",
    "    plt.title(f\"[pred] idx: {idx}, stress: {metrics['stress']:.2f}({metrics['stress_spc']:.2%}), xing: {metrics['xing']:.2f}({metrics['xing_spc']:.2%})\")\n",
    "    plt.show()\n",
    "    gt_pos = rotate(data_list[idx].gt_pos, data_list[idx])\n",
    "    graph_vis(G_list[idx], gt_pos, node_color='orange')\n",
    "    plt.title(f\"[gt] idx: {idx}, stress: {metrics['gt_stress']:.2f}, xing: {metrics['gt_xing']:.2f}\")\n",
    "    plt.show()\n",
    "    \n",
    "test_metrics = test(model=test_generator, \n",
    "                    criteria_list=[], \n",
    "                    dataset=data_list, \n",
    "                    idx_range=range(10000, 11000), \n",
    "#                     callback=test_callback,\n",
    "                    gt_pos=None)\n",
    "pickle.dump(test_metrics, open(paths.metrics(\"test\"), \"wb\"))"
   ]
  },
  {
   "cell_type": "code",
   "execution_count": 36,
   "metadata": {
    "colab": {
     "base_uri": "https://localhost:8080/",
     "height": 318
    },
    "id": "t2rFXIr_PsrJ",
    "outputId": "6a4205b1-4630-4de4-ec72-bdba3d3ea114"
   },
   "outputs": [
    {
     "name": "stdout",
     "output_type": "stream",
     "text": [
      "stress: tensor(332.0902)\n",
      "stress_spc: tensor(0.1353, dtype=torch.float64)\n",
      "xing: tensor(30.9520)\n",
      "xing_spc: tensor(0.2939, dtype=torch.float64)\n",
      "l1_angle: tensor(85.3485)\n",
      "l1_angle_spc: tensor(0.1171, dtype=torch.float64)\n",
      "edge: tensor(0.2072)\n",
      "edge_spc: tensor(0.2722, dtype=torch.float64)\n",
      "ring: tensor(258.0719)\n",
      "ring_spc: tensor(0.0527, dtype=torch.float64)\n",
      "tsne: tensor(0.2274)\n",
      "tsne_spc: tensor(0.1707, dtype=torch.float64)\n",
      "reso_score: tensor(0.5694)\n",
      "min_angle: tensor(2.5410)\n"
     ]
    },
    {
     "data": {
      "text/html": [
       "<style type=\"text/css\">\n",
       "</style>\n",
       "<table id=\"T_3839b_\">\n",
       "  <thead>\n",
       "    <tr>\n",
       "      <th class=\"blank level0\" >&nbsp;</th>\n",
       "      <th class=\"col_heading level0 col0\" >stress</th>\n",
       "      <th class=\"col_heading level0 col1\" >stress_spc</th>\n",
       "      <th class=\"col_heading level0 col2\" >xing</th>\n",
       "      <th class=\"col_heading level0 col3\" >xing_spc</th>\n",
       "      <th class=\"col_heading level0 col4\" >l1_angle</th>\n",
       "      <th class=\"col_heading level0 col5\" >l1_angle_spc</th>\n",
       "      <th class=\"col_heading level0 col6\" >edge</th>\n",
       "      <th class=\"col_heading level0 col7\" >edge_spc</th>\n",
       "      <th class=\"col_heading level0 col8\" >ring</th>\n",
       "      <th class=\"col_heading level0 col9\" >ring_spc</th>\n",
       "      <th class=\"col_heading level0 col10\" >tsne</th>\n",
       "      <th class=\"col_heading level0 col11\" >tsne_spc</th>\n",
       "      <th class=\"col_heading level0 col12\" >reso_score</th>\n",
       "      <th class=\"col_heading level0 col13\" >min_angle</th>\n",
       "    </tr>\n",
       "  </thead>\n",
       "  <tbody>\n",
       "    <tr>\n",
       "      <th id=\"T_3839b_level0_row0\" class=\"row_heading level0 row0\" >0</th>\n",
       "      <td id=\"T_3839b_row0_col0\" class=\"data row0 col0\" >332.09</td>\n",
       "      <td id=\"T_3839b_row0_col1\" class=\"data row0 col1\" >13.53%</td>\n",
       "      <td id=\"T_3839b_row0_col2\" class=\"data row0 col2\" >30.95</td>\n",
       "      <td id=\"T_3839b_row0_col3\" class=\"data row0 col3\" >29.39%</td>\n",
       "      <td id=\"T_3839b_row0_col4\" class=\"data row0 col4\" >85.35</td>\n",
       "      <td id=\"T_3839b_row0_col5\" class=\"data row0 col5\" >11.71%</td>\n",
       "      <td id=\"T_3839b_row0_col6\" class=\"data row0 col6\" >0.21</td>\n",
       "      <td id=\"T_3839b_row0_col7\" class=\"data row0 col7\" >27.22%</td>\n",
       "      <td id=\"T_3839b_row0_col8\" class=\"data row0 col8\" >258.07</td>\n",
       "      <td id=\"T_3839b_row0_col9\" class=\"data row0 col9\" >5.27%</td>\n",
       "      <td id=\"T_3839b_row0_col10\" class=\"data row0 col10\" >0.23</td>\n",
       "      <td id=\"T_3839b_row0_col11\" class=\"data row0 col11\" >17.07%</td>\n",
       "      <td id=\"T_3839b_row0_col12\" class=\"data row0 col12\" >0.57</td>\n",
       "      <td id=\"T_3839b_row0_col13\" class=\"data row0 col13\" >2.54</td>\n",
       "    </tr>\n",
       "  </tbody>\n",
       "</table>\n"
      ],
      "text/plain": [
       "<pandas.io.formats.style.Styler at 0x2b1ce5b58730>"
      ]
     },
     "execution_count": 36,
     "metadata": {},
     "output_type": "execute_result"
    }
   ],
   "source": [
    "metrics = test_metrics\n",
    "print('stress:', metrics['stress'].mean())\n",
    "print('stress_spc:', metrics['stress_spc'].mean())\n",
    "print('xing:', metrics['xing'].mean())\n",
    "print('xing_spc:', metrics['xing_spc'].mean())\n",
    "print('l1_angle:', metrics['l1_angle'].mean())\n",
    "print('l1_angle_spc:', metrics['l1_angle_spc'].mean())\n",
    "print('edge:', metrics['edge'].mean())\n",
    "print('edge_spc:', metrics['edge_spc'].mean())\n",
    "print('ring:', metrics['ring'].mean())\n",
    "print('ring_spc:', metrics['ring_spc'].mean())\n",
    "print('tsne:', metrics['tsne'].mean())\n",
    "print('tsne_spc:', metrics['tsne_spc'].mean())\n",
    "print('reso_score:', metrics['resolution_score'].mean())\n",
    "print('min_angle:', metrics['min_angle'].mean())\n",
    "columns = [\n",
    "    'stress',\n",
    "    'stress_spc',\n",
    "    'xing',\n",
    "    'xing_spc',\n",
    "    'l1_angle',\n",
    "    'l1_angle_spc',\n",
    "    'edge',\n",
    "    'edge_spc',\n",
    "    'ring',\n",
    "    'ring_spc',\n",
    "    'tsne',\n",
    "    'tsne_spc',\n",
    "    'reso_score',\n",
    "    'min_angle'\n",
    "]\n",
    "df = pd.DataFrame(map(lambda m: metrics[m].mean().item(), list(metrics.keys())[:-1])).set_axis(columns).T\n",
    "df.style.format({c: \"{:.2f}\" for c in columns if 'spc' not in c} | {c: \"{:.2%}\" for c in columns if 'spc' in c})"
   ]
  },
  {
   "cell_type": "code",
   "execution_count": 37,
   "metadata": {
    "id": "5e7vPr0M3mmG"
   },
   "outputs": [],
   "source": [
    "metrics = {}"
   ]
  },
  {
   "cell_type": "code",
   "execution_count": 38,
   "metadata": {},
   "outputs": [],
   "source": [
    "methods = ['fa2']"
   ]
  },
  {
   "cell_type": "code",
   "execution_count": 39,
   "metadata": {
    "colab": {
     "base_uri": "https://localhost:8080/",
     "height": 433,
     "referenced_widgets": [
      "a0cf6e046add4e639e52db69656e0db9",
      "8e237731bb1241ac858581b25389c012",
      "0891547293ad4211a138a4d92e01bb0b",
      "34912c8e581e47a99a1c4829c38cb75c",
      "5aa034c99c94424e835a2ee954b829ed",
      "248f6393eff74c3eb8740ca6d698045b",
      "686687a29c7f4ec98c4d76ca2062b14b",
      "996a84d1c23b47e4a2af252c6b60f55d",
      "3507f883bb954412b21c1c5641763ed7",
      "9582a849d91e457cadd514c95d6e1b5b",
      "52bfe674c2c547e09b7400a32a96f703",
      "93d58b3a12394fe1aa6f0431fc7cb0db",
      "af1d7855c9d646b0bcc7d95c4cb147a6",
      "f820e2b898cd461da04a4f651d27273d",
      "c0a112cfaa3d4d0aa9530372de84d8fb",
      "fd03985495694fbf9feb3f31ef8d18ce",
      "e02a2b36aa4c4d6fb5d2ac6693c1a927",
      "06f388ff5e3a48828d465096fe69977b",
      "c0052778c9c940e88935593e9f94b83b",
      "99a5e77a192d4a989c4534237eb16730",
      "77c6da092a6647fc9e54f7e276d75616",
      "8c13c0e8b5934117a662a78296bcb1b6",
      "cdcc3bd4235247b48c468c0f6b7682cc",
      "a2c6fa6fef4549cc853fa93b4b18cf95",
      "15cc02a756314083801b5f6798a1948c",
      "24d1c67fe52f452ab0c767e3c1a818aa",
      "c117db25c6fd484a9d0c7f210ccb1ade",
      "b090b60b61084cf692b3066dfac7f0a8",
      "5eab9848059c491b9c6cbac88683f025",
      "e87ffbaa1f204b52b9226337a506b040",
      "cf52198a9e4b46c7b49537a79919c09e",
      "51501227bc064ccbab97c22a679a0750",
      "d1b794a997dc457888a90bf44faee9b4",
      "21a755b50e5047bea797eccf24b35a0c",
      "16e78c3823ec4faf9f9cd9095b218ff5",
      "4ccd332c6b734acd8eff236eaf568dfa",
      "bd60fd13748347e48629df78fa455765",
      "e9187e4ba80b4fafa0334dae2e39aded",
      "4c39ec7c92b4402e8eedcb27beabaab1",
      "59a8194269f943bba571f710ad856973",
      "8e41bc25b9f348b1b85b381547cd60d1",
      "34d0f1529e64437fb25e639b41096072",
      "7e832c7543df43668eb72c0aa6356349",
      "f94162c9c5fe4c2581e3b80beaeb820b",
      "0284946fccf34607b25e1d6d81d4f72a",
      "8e8d4243a3624ba58d760bdf601d5126",
      "b1f0932594fe44f4be4beb8880172871",
      "820bb554d139437b8f6a6997f9002261",
      "459e375d1fe4497cb4197ef88e303c6d",
      "5726814966da46bbba942a114de4b319",
      "448beea5445f4642809801da46aa7e7c",
      "3746c0f0daf04f51805b4c95db20063a",
      "2ff74d1c705348438a32da37910c3300",
      "52f03147b5ab4cb390f9802b7a17a508",
      "5428511d652a47348203e8f3cd2e076d",
      "7b58569bee2e44c5a61a81f9a32c4c01",
      "c5e05d74b9404333a8155304e3497ba2",
      "3ad4e058bde44d87abab780368d49118",
      "8e437049b5c74ff1beddad93e30b19aa",
      "0c61377f4cc34b27ae34bdd6d976d868",
      "9ce35f9a9a23436ea77604513b5c4659",
      "dafbc43ad79c4feda093aefe490fc4b3",
      "497160b6bf80469a89680a03a468c8bb",
      "3265725ecb914981b6f07f68b8a582df",
      "1f0ac20d99d04ffb9ee75613526d3de6",
      "dee0e5716560483b8e2b107566439d94",
      "ca99841a1abd4fbd94927c49aaa711cb",
      "163a44ff1be04583ae7bd62726c55204",
      "f3b727045a0b4b4fabd147ec9c843e14",
      "7c4b4fe859cf48ab99b7e2780a24a539",
      "d9700cffab66480cb81e3722faab4e8b",
      "2c49acc1e0a64aa4b8ec461b0596848e",
      "691817157f43412f9c36002167606b75",
      "d0ae688d71734b56bb348de54e841798",
      "07a364ebcdaa491dbcc2304e4a8dae96",
      "538b277307b1449eaa79a2a91b4741d3",
      "f7b7dd4cbaa5468687b988c5e416a154",
      "877be862a4f045ec8b221097626becb5",
      "1bf37012df0844338ac689d4f6cc8eab",
      "33fe06641be544d3aab2c25cb979416f",
      "68de0d9261fa4e6999967b6f196d149c",
      "7017c5ba1ffc467495aca2689e516f7d",
      "e0997460cc21428695a0c278c6691baf",
      "522443bef4904996b6361ea265c4c56f",
      "dfe044b67917466f971ba84a11956d5e",
      "70b2d0ba1c1d4102841fb963480de1c7",
      "7b158daacd754a40bc0a48fc9ea6fea2",
      "8904f61ff30741e488eacf0e49440f66",
      "685dee6f1e1f4c2983d2d0b8eb90ed00",
      "005155a4d62d48cbbaf3d69614b08d81",
      "d2779dfa620041e4b32a7731926a5982",
      "53048bf27cb24080b4cdf20379302223",
      "0b5bff7794a14a20964da70b87158c2c",
      "ec664e55ea16435590393ae1617cccea",
      "f10d62ef464a45a7935610d869c282e3",
      "5e7c09bc35db4a3a8b9847c6d8478883",
      "987ea331b617446facc81b08bab1f8c4",
      "446c5a687b0d43358ab036d43ce281c3",
      "d89e216f62ae4a9999da1a91dd5e48b9",
      "09d03e7e66f54cafacefbfeda5fd6e5c",
      "d58c680562a44bbd9252e7ec6eebc06c",
      "71ea2594fdd942acac1cc61055438544",
      "fecda4df301b437f9fbfb61a7b593dc0",
      "bcf6741d926248cb92acf627d6557d2b",
      "5bd9868b9bda4f68b500a43916e2d148",
      "4bc5e02035de44ad827c4f881fd75afc",
      "7d80033a955e4feb947ca9cea931d90b",
      "e975c796d80d498992a50f87a2b0105c",
      "028b2ff105904a19a9a3e8ebf66967bb",
      "10dbf2cbdb1943eda6a0acaf5da3fe85",
      "14d59c7acc5e4e07a289db44406a4851",
      "d9447df93d714907bc9c768eb4910352",
      "d4a9ace081bf488680a7e43e0eaed71d",
      "022a60cde19546bfa6ecfb4947615ad9",
      "10c01207d9ba4fe197dc80717fceecc0",
      "f4995936570d4ba1a65e9a66e410b505",
      "b4bf66303e61491385cd616076a11c04",
      "a24ab2bfe7a44263bf60936d6e53ec32",
      "59e2e8ecc9f84d57af7bf44f5bba5df7",
      "be2eb92aab8045a99fd19195c3546b60",
      "e6715db2b048434796e910952cb5eb62",
      "8de2335007ba4a6b9935fa0c514c9f6a",
      "493a4bbe8057437a8c8acf4d03f8dcb0",
      "20b03955acc74e238695717124705520",
      "a89f9507496b4cf8bdd63bdb9bff79c4",
      "9752a1f6c8b6488d9628b8e0c023f10f",
      "61a0bebc687341a7bb3352febc8d4986",
      "07e0ff9c82a444788c60edee70688ca7",
      "4427901f35e54cc48e08527bb402c22a",
      "bd9dafb825954091ba975d71ab8c89ea",
      "7ec0f07bfe51484da38c18dc66d77804",
      "03943afebc4d4b668b54c7a0fd014a37",
      "a7a6b38a76424d738146b6a5786cf2c8",
      "1d1aa4729784470584c0001c1a296008",
      "e0c68ac9b5b442eeb77e6d9ea3c1da42",
      "c858ef9fd9324ab0ab885d85e3c8582f",
      "627bc2899c994a0c96c5d43e89dc77ff",
      "0e2c2f21fa8041038151170992ecb848",
      "2d9bcbf7629a4671bf8755e790276eb7",
      "77a4edf6ab1848a6a6df20c1c07358c6",
      "acf2212d6bb44c729b63281a98377095",
      "0c7a72818da3454190bab7f30a29e249",
      "d865af915b8b4aaa8cec8d40f1f8351d"
     ]
    },
    "id": "s1UnzfID4Ai6",
    "outputId": "3e204e76-68fd-4111-f527-91f6e3b7a3ca"
   },
   "outputs": [
    {
     "data": {
      "application/vnd.jupyter.widget-view+json": {
       "model_id": "bd7a2a2f6fa7463baebe191fda73ee35",
       "version_major": 2,
       "version_minor": 0
      },
      "text/plain": [
       "  0%|          | 0/1000 [00:00<?, ?it/s]"
      ]
     },
     "metadata": {},
     "output_type": "display_data"
    }
   ],
   "source": [
    "for m in methods:\n",
    "    metrics[m] = test(model=test_generator, \n",
    "                      criteria_list=[], \n",
    "                      dataset=data_list, \n",
    "                      idx_range=range(10000, 11000), \n",
    "                      callback=None,\n",
    "                      gt_pos=load_pos(m))"
   ]
  },
  {
   "cell_type": "code",
   "execution_count": 40,
   "metadata": {
    "id": "dQ7hdCtk5u6K"
   },
   "outputs": [],
   "source": [
    "mean_metrics = {key : list(map(lambda m: metrics[key][m].mean().item(), list(metrics[key].keys())[:-1])) for key in metrics}"
   ]
  },
  {
   "cell_type": "code",
   "execution_count": 41,
   "metadata": {
    "colab": {
     "base_uri": "https://localhost:8080/",
     "height": 313
    },
    "id": "OGyaCmLXTuvA",
    "outputId": "6c42d9f3-9869-4504-bc9c-d0eedaecfd90"
   },
   "outputs": [
    {
     "data": {
      "text/html": [
       "<style type=\"text/css\">\n",
       "</style>\n",
       "<table id=\"T_b328b_\">\n",
       "  <thead>\n",
       "    <tr>\n",
       "      <th class=\"blank level0\" >&nbsp;</th>\n",
       "      <th class=\"col_heading level0 col0\" >stress</th>\n",
       "      <th class=\"col_heading level0 col1\" >stress_spc</th>\n",
       "      <th class=\"col_heading level0 col2\" >xing</th>\n",
       "      <th class=\"col_heading level0 col3\" >xing_spc</th>\n",
       "      <th class=\"col_heading level0 col4\" >l1_angle</th>\n",
       "      <th class=\"col_heading level0 col5\" >l1_angle_spc</th>\n",
       "      <th class=\"col_heading level0 col6\" >edge</th>\n",
       "      <th class=\"col_heading level0 col7\" >edge_spc</th>\n",
       "      <th class=\"col_heading level0 col8\" >ring</th>\n",
       "      <th class=\"col_heading level0 col9\" >ring_spc</th>\n",
       "      <th class=\"col_heading level0 col10\" >tsne</th>\n",
       "      <th class=\"col_heading level0 col11\" >tsne_spc</th>\n",
       "      <th class=\"col_heading level0 col12\" >reso_score</th>\n",
       "      <th class=\"col_heading level0 col13\" >min_angle</th>\n",
       "    </tr>\n",
       "  </thead>\n",
       "  <tbody>\n",
       "    <tr>\n",
       "      <th id=\"T_b328b_level0_row0\" class=\"row_heading level0 row0\" >fa2</th>\n",
       "      <td id=\"T_b328b_row0_col0\" class=\"data row0 col0\" >332.09</td>\n",
       "      <td id=\"T_b328b_row0_col1\" class=\"data row0 col1\" >2.29%</td>\n",
       "      <td id=\"T_b328b_row0_col2\" class=\"data row0 col2\" >30.95</td>\n",
       "      <td id=\"T_b328b_row0_col3\" class=\"data row0 col3\" >17.95%</td>\n",
       "      <td id=\"T_b328b_row0_col4\" class=\"data row0 col4\" >85.35</td>\n",
       "      <td id=\"T_b328b_row0_col5\" class=\"data row0 col5\" >14.98%</td>\n",
       "      <td id=\"T_b328b_row0_col6\" class=\"data row0 col6\" >0.21</td>\n",
       "      <td id=\"T_b328b_row0_col7\" class=\"data row0 col7\" >6.11%</td>\n",
       "      <td id=\"T_b328b_row0_col8\" class=\"data row0 col8\" >258.07</td>\n",
       "      <td id=\"T_b328b_row0_col9\" class=\"data row0 col9\" >3.80%</td>\n",
       "      <td id=\"T_b328b_row0_col10\" class=\"data row0 col10\" >0.23</td>\n",
       "      <td id=\"T_b328b_row0_col11\" class=\"data row0 col11\" >15.36%</td>\n",
       "      <td id=\"T_b328b_row0_col12\" class=\"data row0 col12\" >0.57</td>\n",
       "      <td id=\"T_b328b_row0_col13\" class=\"data row0 col13\" >2.55</td>\n",
       "    </tr>\n",
       "  </tbody>\n",
       "</table>\n"
      ],
      "text/plain": [
       "<pandas.io.formats.style.Styler at 0x2b1ce5e15b80>"
      ]
     },
     "execution_count": 41,
     "metadata": {},
     "output_type": "execute_result"
    }
   ],
   "source": [
    "columns = [\n",
    "    'stress',\n",
    "    'stress_spc',\n",
    "    'xing',\n",
    "    'xing_spc',\n",
    "    'l1_angle',\n",
    "    'l1_angle_spc',\n",
    "    'edge',\n",
    "    'edge_spc',\n",
    "    'ring',\n",
    "    'ring_spc',\n",
    "    'tsne',\n",
    "    'tsne_spc',\n",
    "    'reso_score',\n",
    "    'min_angle'\n",
    "]\n",
    "df = pd.DataFrame(mean_metrics).set_axis(columns).T\n",
    "df.style.format({c: \"{:.2f}\" for c in columns if 'spc' not in c} | {c: \"{:.2%}\" for c in columns if 'spc' in c})"
   ]
  },
  {
   "cell_type": "markdown",
   "metadata": {
    "id": "L5S1HWnHOWIl"
   },
   "source": [
    "# Large Graph"
   ]
  },
  {
   "cell_type": "code",
   "execution_count": null,
   "metadata": {
    "id": "_pefPcV1OZdD"
   },
   "outputs": [],
   "source": [
    "scalability = pd.read_csv(f\"/__artifacts__/data/scalability.csv\", index_col=\"index\")\n",
    "scalability"
   ]
  },
  {
   "cell_type": "code",
   "execution_count": null,
   "metadata": {
    "id": "oMhWAsdvPnTX"
   },
   "outputs": [],
   "source": [
    "rescale = CanonicalizationByStress()\n",
    "stressfn = Stress()\n",
    "rotate = RotateByPrincipalComponents()"
   ]
  },
  {
   "cell_type": "code",
   "execution_count": null,
   "metadata": {
    "id": "LR83OcAaPID5"
   },
   "outputs": [],
   "source": [
    "stress_list = []\n",
    "spc_list = []\n",
    "pmds_list = np.load(\"layouts/new_large_graph/pmds.npy\", allow_pickle=True)\n",
    "gviz_list = np.load(\"layouts/new_large_graph/gviz.npy\", allow_pickle=True)\n",
    "with torch.no_grad():\n",
    "    for idx, col in tqdm(scalability.iterrows(), total=len(scalability)):\n",
    "        # if idx not in [406, 516]: continue\n",
    "        torch.cuda.empty_cache()\n",
    "        G = load_mtx(col['file'])\n",
    "        G.remove_edges_from(nx.selfloop_edges(G))\n",
    "        data = generate_data_list(G, \n",
    "                                sparse=data_config.sparse, \n",
    "                                pivot_mode=data_config.pivot,\n",
    "                                init_mode=data_config.init,\n",
    "                                edge_index=data_config.edge.index,\n",
    "                                edge_attr=data_config.edge.attr,\n",
    "                                pmds_list=pmds_list[idx],\n",
    "                                gviz_list=gviz_list[idx],\n",
    "                                device=device)\n",
    "        batch = Batch.from_data_list([data]).to(device)\n",
    "        # generator.train()\n",
    "        # generator(batch)\n",
    "        generator.eval()\n",
    "        pred = generator(batch)\n",
    "        pos = rotate(rescale(pred, batch), batch)\n",
    "        gt = rotate(rescale(batch.gt_pos, batch), batch)\n",
    "        stress = stressfn(pos, batch).item()\n",
    "        gt_stress = stressfn(gt, batch).item()\n",
    "        spc = (stress - gt_stress) / np.maximum(stress, gt_stress)\n",
    "        stress_list.append(stress)\n",
    "        spc_list.append(spc)\n",
    "\n",
    "        np.save(f\"/__artifacts__/gan_result/data/scalability_{idx}.npy\", pos.cpu().numpy())\n",
    "        graph_attr = dict(node_size=1, \n",
    "                        with_labels=False, \n",
    "                        labels=dict(zip(list(G.nodes), map(lambda n: n if type(n) is int else n[1:], list(G.nodes)))),\n",
    "                        font_color=\"white\", \n",
    "                        font_weight=\"bold\",\n",
    "                        font_size=12,\n",
    "                        width=0.1)\n",
    "\n",
    "        # gt_pos = pickle.load(open(f\"/__artifacts__/data/scalability_{idx}_gt.pkl\", \"rb\"))\n",
    "\n",
    "        plt.figure(figsize=[12, 9])\n",
    "        nx.draw(G, pos=gt.cpu().numpy(), node_color='orange', **graph_attr)\n",
    "        plt.title(f\"neato: large_{idx}\")\n",
    "        plt.axis(\"equal\")\n",
    "        plt.savefig(f\"/__artifacts__/gan_result/output/{idx}_{col['name']}_{col['n']}_{spc}_nx.png\", dpi=300)\n",
    "        plt.show()\n",
    "\n",
    "        plt.figure(figsize=[12, 9])\n",
    "        graph_vis(G, pos.cpu().numpy(), **graph_attr)\n",
    "        plt.title(f\"dgd: large_{idx}, spc={spc:.2%}\")\n",
    "        plt.axis(\"equal\")\n",
    "        plt.savefig(f\"/__artifacts__/gan_result/output/{idx}_{col['name']}_{col['n']}_{spc}_dgd.png\", dpi=300)\n",
    "        plt.show()"
   ]
  },
  {
   "cell_type": "code",
   "execution_count": null,
   "metadata": {
    "id": "gRXTewkYeuq1"
   },
   "outputs": [],
   "source": []
  }
 ],
 "metadata": {
  "accelerator": "GPU",
  "colab": {
   "collapsed_sections": [
    "w_p3OD0woiSM",
    "DR6-vYtr_i_P",
    "innqkwvH_ydD",
    "f-ODE2k8BFV6",
    "N39dDHraedM6"
   ],
   "machine_shape": "hm",
   "name": "GAN(gan=rgan,data=best(xing,stress),dis=deep,share=16,embed=0,gp=0).ipynb",
   "provenance": []
  },
  "kernelspec": {
   "display_name": "DeepGD",
   "language": "python",
   "name": "deepgd"
  },
  "language_info": {
   "codemirror_mode": {
    "name": "ipython",
    "version": 3
   },
   "file_extension": ".py",
   "mimetype": "text/x-python",
   "name": "python",
   "nbconvert_exporter": "python",
   "pygments_lexer": "ipython3",
   "version": "3.9.7"
  },
  "widgets": {
   "application/vnd.jupyter.widget-state+json": {
    "state": {
     "00405e594615414da500e1bf8dc7a9a9": {
      "model_module": "@jupyter-widgets/controls",
      "model_module_version": "1.5.0",
      "model_name": "HTMLModel",
      "state": {
       "layout": "IPY_MODEL_77c96577b32d4bab8f5a074ce4350a0b",
       "style": "IPY_MODEL_365cbcf2e5d54d69b296b8414361a494",
       "value": " 670/834 [02:08&lt;00:31,  5.19it/s]"
      }
     },
     "044b37514d554904abf3ea919a3ff597": {
      "model_module": "@jupyter-widgets/base",
      "model_module_version": "1.2.0",
      "model_name": "LayoutModel",
      "state": {}
     },
     "04c4a8cd6a67416c97c7a06afe4bbb9c": {
      "model_module": "@jupyter-widgets/base",
      "model_module_version": "1.2.0",
      "model_name": "LayoutModel",
      "state": {}
     },
     "061067e23bf14650a3d2be7af8550972": {
      "model_module": "@jupyter-widgets/controls",
      "model_module_version": "1.5.0",
      "model_name": "DescriptionStyleModel",
      "state": {
       "description_width": ""
      }
     },
     "0c62a03831c7451a9295f31699bc4d06": {
      "model_module": "@jupyter-widgets/base",
      "model_module_version": "1.2.0",
      "model_name": "LayoutModel",
      "state": {}
     },
     "0dc67eab82d44545ae6510f6cb914df4": {
      "model_module": "@jupyter-widgets/controls",
      "model_module_version": "1.5.0",
      "model_name": "HBoxModel",
      "state": {
       "children": [
        "IPY_MODEL_72f3907512354d1faf32ab174970df4c"
       ],
       "layout": "IPY_MODEL_47eddc3131314c0a992c37ade3c9217d"
      }
     },
     "1354ce62640d468297c50e739ef56fb6": {
      "model_module": "@jupyter-widgets/controls",
      "model_module_version": "1.5.0",
      "model_name": "HTMLModel",
      "state": {
       "layout": "IPY_MODEL_d01b9e001d8e414bb94553ac088b8604",
       "style": "IPY_MODEL_b494d8b5560c45a8bd786b89b538a9a6",
       "value": "[epoch 667/None]:  80%"
      }
     },
     "1b708139025b426c950d0a61deea5f74": {
      "model_module": "@jupyter-widgets/controls",
      "model_module_version": "1.5.0",
      "model_name": "HTMLModel",
      "state": {
       "layout": "IPY_MODEL_1f7bd20266ec4337be912a5173b6bef6",
       "style": "IPY_MODEL_6bf70284734541e38df9fa5887bf74e5",
       "value": "100%"
      }
     },
     "1f7bd20266ec4337be912a5173b6bef6": {
      "model_module": "@jupyter-widgets/base",
      "model_module_version": "1.2.0",
      "model_name": "LayoutModel",
      "state": {}
     },
     "22610984efb54c829b1eab0c9a6f4d58": {
      "model_module": "@jupyter-widgets/controls",
      "model_module_version": "1.5.0",
      "model_name": "ProgressStyleModel",
      "state": {
       "description_width": ""
      }
     },
     "23dfde5a206a4997a1d7a536125826b1": {
      "model_module": "@jupyter-widgets/base",
      "model_module_version": "1.2.0",
      "model_name": "LayoutModel",
      "state": {}
     },
     "27fabec551f4424aaa1fa405660f23bc": {
      "model_module": "@jupyter-widgets/controls",
      "model_module_version": "1.5.0",
      "model_name": "HBoxModel",
      "state": {
       "children": [
        "IPY_MODEL_e8307b8a6b2040958fce2ff3a21904bf",
        "IPY_MODEL_e1d3dfabe620405ab1a91faece126f70",
        "IPY_MODEL_2e05dfb4e4c3459c94b7cba877e25527"
       ],
       "layout": "IPY_MODEL_58baaad2bebd43d1aa1b26d15d86950d"
      }
     },
     "29c33aaec95d4d1ca2d200cab7673088": {
      "model_module": "@jupyter-widgets/base",
      "model_module_version": "1.2.0",
      "model_name": "LayoutModel",
      "state": {}
     },
     "2e05dfb4e4c3459c94b7cba877e25527": {
      "model_module": "@jupyter-widgets/controls",
      "model_module_version": "1.5.0",
      "model_name": "HTMLModel",
      "state": {
       "layout": "IPY_MODEL_781ce738581343c7a83650cb0c0f9afe",
       "style": "IPY_MODEL_061067e23bf14650a3d2be7af8550972",
       "value": " 11531/11531 [00:00&lt;00:00, 50091.93it/s]"
      }
     },
     "2e0b0e0fc4c6413998e5a4aa2d6ef632": {
      "model_module": "@jupyter-widgets/output",
      "model_module_version": "1.0.0",
      "model_name": "OutputModel",
      "state": {
       "layout": "IPY_MODEL_04c4a8cd6a67416c97c7a06afe4bbb9c",
       "outputs": [
        {
         "data": {
          "image/png": "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\n",
          "text/plain": "<Figure size 432x288 with 1 Axes>"
         },
         "metadata": {},
         "output_type": "display_data"
        },
        {
         "data": {
          "image/png": "iVBORw0KGgoAAAANSUhEUgAAAb4AAAEuCAYAAADx63eqAAAAOXRFWHRTb2Z0d2FyZQBNYXRwbG90bGliIHZlcnNpb24zLjQuMywgaHR0cHM6Ly9tYXRwbG90bGliLm9yZy/MnkTPAAAACXBIWXMAAAsTAAALEwEAmpwYAABaa0lEQVR4nO3dd1QU19sH8O82imAvRIxSVBQbSKwgdn9iAXsBaxRjF2uMLWqMJYmJomJEwBIFLFFAQbFCRBEFewuIICjYwIIgsG3eP3whUnaZXXbZhX0+53iOgdmZu0L2O/fOvc/lMAzDgBBCCNERXE03gBBCCKlIFHyEEEJ0CgUfIYQQnULBRwghRKdQ8BFCCNEpFHyEEEJ0CgUfIYQQnULBRwghRKdQ8BFCCNEpFHyEEEJ0CgUfIYQQnULBRwghRKdQ8BFCCNEpFHyEEEJ0CgUfIYQQnULBRwghRKdQ8BFCCNEpFHyEEEJ0CgUfIYQQnULBRwghRKdQ8BFCCNEpFHyEEEJ0CgUfIYQQnULBRwghRKdQ8BFCCNEpFHyEEEJ0Cl/TDSCEEKK8lMwc+EQlIfh2OnLyxTDS52OorSmmOVrCrK6RppunlTgMwzCabgQhhBDFRcS/xiz/mxBJpBBL//so53M5EPC42DnODr1aNNBgC7UTBR8hhFRCKZk5cPKMQq5IIvMYQwEP4R6O1PMrhp7xEUJIJeQTlQSRRCr3GJFECt/LyRXUosqDgo8QQiqh4NvpRYY3SyOWMgi6lVZBLao8KPgIIaQSyskXsztOyO44XULBRwghlZCRPrtJ+UZ6NHm/OAo+QgiphIbamoLHkX8Mn8vBsPaNKqZBlQgFHyGEVELjvmkIiUgo9xgBjwv3bhYV1KLKg4KPEEIqGYZh8OPCmWiXdR2GAh743KJdPz6XA0MBDzvH2dFShlLQ4C8hhFQy69evx7NnzxB54ABe5UjgezkZQbfSkCMUw0iPj2HtG8G9mwWFngy0gJ0QQiqRkJAQzJ49G7GxsWjYsKGmm1MpUfARQkglcf/+ffTq1QthYWHo1KmTpptTadEzPkIIqQTevn2LoUOH4vfff6fQKyfq8RFCiBYpbbeFITYNcdnvJ3RoYYbff/9d002s9Cj4CCFES8jabYHDSAGpBL6TO6NPK3quV14UfIQQogVot4WKQ8/4CCFEC9BuCxWHgo8QQrQA7bZQcSj4CCFEC9BuCxWHgo8QQrQA7bZQcSj4CCFECwy1NQUX8oc6abcF1aDgI4QQDWMYBrm3wiAV024LFYGCjxBCNEgoFGLy5MmIOn0cW0a0od0WKgANFhNCiIa8f/8ew4cPR82aNREZGYlq1arBrnkj2m1BzWgBOyGEaMDTp08xcOBA9O/fH5s3bwaPx9N0k3QGDXUSQkgFi4uLg4ODA2bMmIEtW7ZQ6FUwGuokhJAKdOLECbi7u8PHxwdDhgzRdHN0EgUfIYRUkG3btuGXX35BWFgYOnbsqOnm6CwKPkIIUTOJRIJFixbh7NmzuHLlCszNzTXdJJ1GwUcIIWr06dMnjBs3Du/fv8eVK1dQu3ZtTTdJ59HkFkIIUZNXr16hZ8+eqF69Os6cOUOhpyUo+AghRA0ePXqErl27YtCgQdi/fz/09PQ03STy/2iokxBCVCwyMhJjxozBr7/+ikmTJmm6OaQYCj5CCFGhAwcOYNGiRTh06BB69+6t6eaQUlDwEUKICjAMg3Xr1mHPnj2IiIhA69atNd0kIgMFHyGElJNQKMT06dNx7949xMTE4KuvvtJ0k4gcFHyEEFIO79+/x8iRI1GtWjX8888/MDKiQtLajmZ1EkKIklJSUtCtWzdYW1sjKCiIQq+SoOAjhBAlxMXFwd7eHu7u7ti2bRsVmq5EaKiTEEJkSMnMgU9UEoJvpyMnXwwjfT6G2prCUvQUS2dNwe7duzFs2DBNN5MoiPbjI4SQUkTEv8Ys/5sQSaQQS//7mOSCgUQkxLLu9THDxVGDLSTKoqFOQggpJiUzB7P8byJXJCkSegAgBQccgT4843KQkpmjoRaS8qDgI4SQYnyikiCSSOUeI5JI4Xs5uYJaRFSJgo8QQooJvp1eoqdXnFjKIOhWWgW1iKgSBR8hhBSTky9md5yQ3XFEu1DwEUJIMdX02H00GunRxPjKiIKPEEK+cObMGWTdvQgOI/8ZH5/LwbD2jSqoVUSVKPgIIQRAXl4ePDw8MG3aNGx2d4K+QP6CdAGPC/duFhXUOqJKFHyEEJ137949dOzYES9fvsSdO3cwZlAffJUYCj6k4HM5RY7lczkwFPCwc5wdzOpSibLKiIKPEKKzpFIptmzZgt69e2PJkiU4dOgQateujdDQULy4eQHhHo5w7dQExvp8cDiAsT4frp2aINzDEb1aNNB084mSqHILIUQnpaenY/LkycjOzsbBgwdhaWkJ4POQZ5s2bbBz507873//03AriTpQj48QonOCgoJgZ2cHBwcHXLp0qTD0AGDz5s1o164dhV4VRj0+QojOyM7OxoIFC3Dx4kX4+/ujS5cuRb6fkpKCb775BnFxcTA3N9dMI4naUY+PEKITYmNjYWdnB7FYjNu3b5cIPQBYuHAhPDw8KPSqOFp9SQip0iQSCTZt2oRt27Zhx44dGDVqVKnHnT17Frdv34a/v38Ft5BUNAo+QkiV9fTpU0yYMAF6enq4ceMGvv7661KPEwqFmDdvHrZu3QoDA4MKbiWpaDTUSQipkvz9/dGpUycMGTIE586dkxl6ALB161Y0a9YMzs7OFdhCoik0uYUQUqW8f/8es2bNKhy2bN++vdzj09LSYGNjg5iYGDRr1qyCWkk0iXp8hJAq49KlS7C1tUWdOnUQFxdXZugBwJIlSzBjxgwKPR1CPT5CSKUnEomwZs0a7N27Fz4+Phg0aBCr10VGRmLSpEl4+PAhjIyo/JiuoMkthJBKLSEhAePGjUODBg1w69YtmJiYlHpcSmYOfKKSEHw7HTn5YlTT50EYfxnLN2yh0NMxNNRJCKmUGIaBj48PHBwc8O233yI0NFRm6EXEv4aTZxQOxT5Ddr4YDICcfAlETTpha3w1RMS/rtjGE42ioU5CSKWTkZEBd3d3pKSkICAgANbW1jKPTcnMgZNnFHJFEpnHGAp4CPdwpN0WdAT1+AghlcqZM2dgY2MDKysrxMTEyA09APCJSoJIIn9TWZFECt/LyapsJtFiFHyEkEohLy8P8+fPh7u7Ow4cOIBff/0V+vr6Zb4u+HY6xFL5A1tiKYOgW2mqairRchR8hBCtV7BRbHp6Ou7cuYPevXuzfm1OvpjdcUJ2x5HKj2Z1EkI0qvhsSyN9PobammKaoyUa1zbEtm3bsH79emzevBkTJ04Eh8Mp+6RfMNLnI5tF+Bnp0cehrqCfNCFEYyLiX2OW/02IJNLC4cjsfDEOxT7D3zeeo+6j45Cm3UdMTAyaNm2q1DWG2poi8HoqJHJGO/lcDoa1b6TU+UnlQ0OdhBCNSMnMwSz/m8gVSUo8gxNLGeSJpXjV3BkHQ84oHXoA0EycCrEwX+4xAh4X7t0slL4GqVwo+AjRcimZOVgZfA9t1pyBxbIwtFlzBiuD7yElM0fTTSsXNrMtweVj39VUpa9x9OhRLJ09Bcu614ehgAc+t+gwKY8DMKJ8fG9fm5Yy6BBax0eIFittKBD4PDQn4HGxc5wderVooMEWKq/NmjOsnr0Z6/Nxf03/Il+T91ywIMD27duH5cuX4/Tp07CxsUFKZg58Lycj6FYacoRiGOnxMax9IzR4ex9b1i3H9evXUa9ePbW8V6JdKPgI0VJVfeG1xbIwsPnw4XCA5A3/1d5kczPw8PxRbNq0CefOnUPLli3LvMbSpUsRFxeHM2fOgM+nqQ9VHQ11EqKlqvrCayN9dgHz5WzLsp4L5ookmLbvGn73/guXLl1iFXoAsGHDBujp6WHx4sXs3wCptCj4CNFSVX3h9VBb0xLP3IorPtuSzc2AWCrF0B88YWHBfrIKj8dDYGAgTp06hb1797J+HamcKPgI0VJVfeH1NEfLMoOv+GxLNjcD4PJxNuGDwu2pVasWQkJCsHTpUsTExCj8elJ5UPARooWEQiH0uOwev+txpMjKylJzi1SvSZ1qqB8fDB4kJQKQz+XAUMDDznF2RZ5fqvtmwNraGn5+fhg5ciTS09OVOgfRfhR8hGiRt2/fYuPGjbCwsID+i9sAI3tiCwBwwcA44xEaN26MkSNH4tixY8jLy6uYxpaTl5cX8p/ewpn5PeDaqQmM9fngcD7P4nTt1AThHo4lZqwq81xQUc7Ozpg5cyaGDx9eaf4tiWJoVichWiAhIQGenp4IDAyEi4sLZs+ejU07/HDDpD/A05P5uoJZnTW4Qhw/fhwBAQG4desWXFxc4Obmht69e2vlLMWHDx+ie/fuiI6OhpWVFevXrQy+x6oKi2unJlg3pI3S7WMYBmPGjEG1atWwd+9ehcukEe1GPT5CNIRhGERGRsLFxQXdunVDnTp18ODBA2zevBkLFy4EJycDu8Z3KHXhdfGhwNq1a2Pq1Km4cOEC7t+/D1tbW6xatQqNGjXC3LlzER0dDW25x83Pz4ebmxs2btyoUOgBwAAL/QqpwsLhcLB3717cunUL27ZtK9e5iPahHh8hFUwoFOLw4cPYsmULcnNzMX/+fEyYMAHVqlVDQkICBg0ahBEjRmDDhg3gcrkyF167d7Moc/1eYmIiDh06hICAAOTm5mLs2LFwc3ND27ZtK+jdlrRkyRI8fvwYQUFBCvWk3r59CwcHB/QePxenPjQEw+UBHF7h99WxqP/p06fo0qUL/P390adPH5Wck2geBR8hFeTt27fw9vbGjh07YG1tjYULF8LJyQlc7ueBl3/++QejR4/G+vXr4e7urtJrMwyDu3fvIiAgAIcOHUL16tXh5uaGsWPHwtLSUqXXkufixYuYMGEC7ty5o1CVlNzcXPTr1w/t27fHtWvX0LKjI5r0m/y5couCNwOKioyMxNixY3E0PBJnnorkVoshlQMFHyFqlpCQgK1btyIwMBBDhw7F/PnzYWNjU+SYv/76C4sXL0ZAQAD69u2r1vZIpVJER0cjMDAQR48eRdOmTeHq6orRo0fjq6++Utt13759CxsbG/j6+qJ///5lv+D/SSQSjBo1CgzD4MmTJ+jfvz9+/fXXCn3utnCzH46/qgO+nh7EXywjrAql43QRBR8hCmJTJ7Lg+d2WLVsQExODGTNmYNasWSWChWEYrF69GgcOHEBoaChat25doe9FJBLhwoULCAgIwMmTJ9GhQwe4urpi+PDhqFWrlsquUzBZpGHDhvD09FTodfPmzcONGzeQkZGB8ePHY9WqVRUaelW9dJwuouAjRAFl1YncNqYdXt68gD/++AN5eXlYsGABJkyYAENDwxLnysvLw9SpU/HkyROEhITAxMSkIt9KCbm5uQgNDUVgYCAuXLiA3r17w83NDYMHDy61/YrYv38/fvvtN8TGxip0rl9//RV+fn7Iy8vDvHnzsGjRonK1Qxkrg+/hUOwzuQvnVTGTlFQcCj5CWGJz58+I8mH+bwB+mD0V/fv3L3x+V1xGRgaGDh2Khg0b4q+//ip3sKja+/fvERQUhICAAMTFxcHZ2Rmurq7o27cvBAKBQudKSkpC586dceHCBbRr14716wICArB48WIwDIM1a9Zg+vTpir4NlSjPLhJEO1HwEcISmzt/Hgdw62wG924WModD8zKeY9CgQRg1ahTWr18vMxy1xcuXL3HkyBEEBgbiyZMnGDlyJNzc3GBvb19m28ViMbp3746RI0di4cKFrK954cIFjBo1CjweD1u2bMH48ePL+zaUpuwuEkR7UfARwhLbO38DPhccDqfU4VAuGHwM34KfZ7li6tSp6myuWiQlJRUuj8jKyoKrqytcXV1hY2NT6nO3n376CVFRUThz5gzrgL979y569OgBAPDz88Pw4cNV+h4URT2+qke7bzUJ0SJs60TmiaUyt80RSoHqTgvQd+hYdTRR7SwtLbF8+XLcv38fYWFh4HK5GDp0KFq3bo1169YhMTGx8NiYmBh4eXlh3759rEMvNTUVffr0gVQqRWBgoMZDD1BuFwmi3ajHRwhLbO/8y1LVJkIwDIOrV68iMDAQR44cgZmZGYYPH45du3bh999/x4gRI0q8prSZsQOs6+Lw2u/w7tljhIaGFvb6NI1mdVY9FHyEsMTmGR9bVXVYTCwW4+LFi5g9ezZSU1PRrVs3uLq6YsSIEahduzYA2TNjIRWDkYixrHsDzHBx1NA7KF1E/GtM/ysWQrEE4Kq3WgxRP+2rXkuIlprmaImjcalQxe532rSHHpt1iWzx+XxkZ2eDYRg8e/YMUVFRCAwMxKJFi9CzZ0/0HzEO2xKrI09UymayXD44XD4843IwwCFHq3pPvVo0QLPHh2HYfjDi82uqvVoMUS/q8RHC0qdPn2AzwA1wcAfD4RbprTBSKTgKzM7Ulh5fWesSFe3JpKWlwc7ODiEhIejSpUvh1z98+IDg4GD8cSkd7+u2Aocn+55bG4eCX758CWtra6SmpqJ69eqabg4pJ5rcQghLS5YsQefGxji/qFfh/nEFFCkkoi0TIVIyczDL/6bMiTi5Iglm+d9ESmYOq/NJpVJMnjwZs2bNQpcuXSAWi/HmzRs8evQId+/eRY0aNZBr0kZu6BVcO+hWmtLvSx3279+PESNGUOhVEdTjI4SF06dPY8aMGbhz505hKS82kx5Koy0TIRSpSLJmsDXevXuHjIyMwj+ZmZlF/vv69etITU1Fw4YNkZGRgaysLNSuXRt169ZFvXr1UK9ePdxu6c7qLkGb1sQxDAMrKyscOHCgSC+WVF70jI+QMmRkZMDd3R3+/v5F6lf6RCVBJCnlWZUMXw4fajr0ACD4dnqZE3XEUgZ/XXqEjSNsUatWrSIhVq9ePdStWxf169eHsbExjh07hj179qBdu3aoV68eatWqBR6PV+R8bGfGlmcHdVW7dOkSDAwM0LlzZ003haiI9vx2kSpFlRMmNIlhGEybNg1ubm7o2bNnke+xCY4CxvraNxGC7bpErl415OfnlwixAnl5eejYsSO2bduGUaNGyTyPWCyGqfA54iX1ynzGpw1DwQV8fX3h7u5Ou7BXIRR8ROVKmzCRnS/GodhnOHYzrVJN/d67d29htZLi2AYHhwOtmMhSnJE+n13vS58vM/QA4IcffkDLli0xadIkmcekpaXBzc0NqF4fhu2nIk8su6cs4HHKvYO6qrx79w4nT57E1q1bNd0UokI0uYWolKonTGhSUlISli5dCn9/f+jr65f4vpE+u/tGbRq2K/DhwwcYvXkISOUHX1m9r7Nnz+LYsWPw9vaW2SMKDw9Hhw4d0K9fP1wMOYw/x38DQwGvRDUUPpcDjlQE67fRaFKnmuJvSg0CAgIwYMAA1K1bV9NNISpEwUdUis1zL5FECt/LyRXUIuWIxWJMmDABy5cvR5s2pU+rZ1fKClo1bAcAly9fhq2tLaw56TDQ15N7rIDHldn7ysjIwLfffot9+/ahTp06Jb4vFouxbNkyuLu749ChQ1i5ciV4PB56tWiAcA/HwpmxHM7noWDXTk0QOqsrEiKDsH37dpW81/JgGAY+Pj5wd3fXdFOIitGsTqJSVaWg7/r16xEREYGzZ8/KrDP5NCMbvTdfgJQjp0cnEeLkzC5oa9FQTS1lTywW46effsLu3buxe/duuLi4KL2Oj2EYDB8+HE2bNsXmzZtLfP/Zs2dwdXWFsbExDhw4gPr167NuZ3JyMuzt7bFv3z6FdmpXtRs3bmDUqFFITEzU+h00iGLop0lUiu1zL22qXFJcXFwcPD09yyyuvHf7b6h+5zAMBNxSh+0MBTx0Fd/HpBGDkJGRoe5my5WUlARHR0dcu3YNt27dgouLCwDI7X2FezjKfBa7Z88eJCcnY/369SW+FxYWho4dO2Lw4ME4deqUQqEHABYWFjh69CgmTJiAR48eKf5mVcTX1xdTp06l0KuCqMdHVKqy9/g+ffoEOzs7rF27FmPGjJF53O7du/Hrr78iOjoauTwj+F5ORtCttBKlrJrUqYaVK1ciODgY58+fR8OGFdvzYxgGBw8exMKFC7F8+XJ4eHiU+4P88ePHsLe3R2RkJFq3bl34dZFIhOXLl+Pw4cMICAhAt27dynWdffv24eeff8a1a9cq/BlbTk4OGjdujHv37qFRI+0aqiblR8FHVIrNomiGYcAFgxG2X2Fuv1ZaM70fAGbPno0PHz7g4MGDMo85efIkvvvuO0RFRaFZs2aszrthwwbs3bsX58+fh5mZmaqaK9eHDx8wc+ZM3L59GwEBAbC1tS33OUUiEbp164bx48dj7ty5hV9PSUnB2LFjUbduXezfv19lQbVkyRLExcXhzJkz0NOT/zxSlfbv34+///4bJ0+erLBrkopDfXiiUtMcLSHgyf+14nA4YDhcHL2Zjj6bLyDs1tMSx6Rk5mBl8D20WXMGFsvC0GbNGawMvqfW2aCnT59GaGgoduzYIfOYa9euYerUqQgJCWEdegCwfPlyzJ49Gz169MDjx49V0Vy5Ciaw1K5dG3FxcSoJPQBYt24d6tSpgzlz5hR+LSQkBJ06dcKIESNw4sQJlfbONm3aBGNjY8ydOxcVeY9esHaPVE3U4yMqJ3PbGRkYUT4m1n+G5fO+g6GhocoLJ7Px5s0b2Nrawt/fv8RC9QIJCQno0aMHfH19MWiQcuW0fHx8sGbNGpw9e7bIMKGqfDmBxcfHB87Ozio795UrVzBy5EjcunULX331FYRCIb7//nsEBwfj0KFDaivnlZWVBQcHB0ybNg3z5s1TyzW+9O+//6JXr15ITU2FQCBQ+/VIxaPgI2qRkpkD38vJOBSbCpFE/q8YjwPUefcQL056Ytb3q3Eg42vklrZtzf9Tda3LghmKzZo1w2+//VbqMa9evYK9vX3h9Pzy8Pf3x6JFi3Dq1CnY2dmV61xfSkpKwrhx41CjRg3s27dPpc8Ts7KyYGtri61bt8LFxQXJyckYM2YMGjZsiL1795a6nEGVnj59iq5du2Lv3r1wcnJS67WWLFkCPp+PjRs3qvU6RHNoqJOohVldI6wb0gb6fNkVPwpIGCDXpB2Cg4Nx5G4GcvOEco9X9TrAguosP//8c6nfz87OxqBBgzBx4kSVDH+NGzcOf/75JwYMGICrV6+W+3wMw+DAgQPo3LkzxowZg9OnT6t8Es3cuXPRr18/uLi44Pjx4+jcuTPc3NwQHBys9tADAHNzcxw9ehQTJ05U60xPoVCIv/76C1OmTFHbNYjmaV9JCVKlKLK8oUOHDhB/nQmU8ZqCbWtUsV9bQXWWiIiIUquziEQijBo1Cu3bt8ePP/5Y7usVGDZsGAwNDTFkyBAcPnwYvXr1Uuo8BRNY7ty5g/Pnz8PGxqZc7Sqtxmqb6rm4ee8xYs6HYu7cuQgLCytcslCRunXrhl9//RXOzs5qm+l58uRJtGrVCs2bN1f5uYn2oB4fUStFy3pV5DrAsqqzMAyD7777DlwuF3/++afKixQ7OTnhyJEjGD16NE6dOqXw67+cwBIbG1vu0IuIfw0nzygcin2G7HwxGHyusXr1FQcYsBw9XGfhxYsXuHnzZoWHXoHJkydj+PDhGDlyJIRC+SMDyqBJLbqBgo+oFbuyXv/Vg6zI+pebNm2CoaEhPDw8Sv3+6tWr8eDBAxw5cgR8vnoGR3r27ImTJ0/i22+/xbFjx1i9RiwW48cff8TIkSOxbds2eHl5oVq18tW2lFdjlcPjQyjlIPebcdi8a1+RrZk0YePGjWqZ6ZmamorY2FgMHz5cZeck2omCj6gVq+UNDIOsPBHrxe+q2LYmLi4O27Ztk1mdxdvbG4GBgQgNDYWRkXrXGXbp0gXh4eGYM2eO3PWDQMkKLKqatclqb0EOD35XnqrkeuXB4/EQEBCA6Oholdb03Lt3L1xdXWFoaKiycxLtRMFH1MqsrhF2jrOTWY2fzwGEIhFC76SzCj0A4DDScm1b8+nTJ4wfPx7bt2/H119/XeL7J06cwNq1a3H69Gk0aFAx2ye1b98eFy5cwA8//IDdu3eX+L66J7Cw3ZQ26Faayq5ZHtWrV8fJkyexceNGhIeHl/t8EokEe/bsoWFOHUHBR9ROVj3Iwe0ags/jgsMXoIwVDwA+B6U+jwPJJW94rl8FsVi553xLlixBhw4dSi1JFhMTA3d3d4UXqKtCq1atEBkZiQ0bNmDLli2FX3///j3GjRuHTZs24fz585g/f77K60dWxhqrqpzpef78eTRo0KDcz0lJ5UCzOkmFKFje8OVMzJXB95Tawbz6wi5wdXWFk5MTDh8+rNDsvlOnTiE0NBR37twp8b2EhAQMHToU+/bt09jkjWbNmuHSpUvo06cPcnJy0KNHD0yYMAGDBg1CbGxsuZ/lycJ6U1ot21tQVTM9afsh3UIL2InGsH2mZ8jn4NK8jqhXr17hzMqCvd6OHTuGkJAQtG3btszzvHnzBjY2NggICChRneXly5ewt7fHihUrMHXqVKXejyo9e/YM33zzDT59+oSAgIDC3RTUZf7Bqwi+9wbgyl53yedy4NqpiUqWkaja999/j9jYWKVqer5+/RpWVlZITU1FjRo1VNKe0paFDLU1xTRHS62qTaurKPhIhWIYBvfv38epU6fw57vWAJslAowUH7wnQiqVolmzZkX+JCUlYefOnfD29sbIkSPlXldWdZaPHz+iZ8+eGDJkiErX6imroAKLgYEBMjMz0atXL2zZskVt2+OcOXMGk+cshtHIDRDLefqh6oo5qiSRSDB06FA0bNhQ7m7wQMlQ4kOC+jnJCFztrpL3pomSe0QxFHyENWXvYrOzs3HhwgWcOnUKp06dgkAgwMCBA3G+1gDkScq+bsEWRm/fvsXjx4+RmJhY5M+///6LDx8+oH79+nBwcEDD5m3xolYrPMwxRr4EMNLnoYX+R8Sf2IkbkeFFFqqLRCI4OzujSZMmZX5gqtuXWwitWLEC8+bNw8ePHzFw4EBYW1vD29sbPF7ZlXDYkkgkWLduHXx8fBAQEADpV9aV+gP748ePsLe3h7u7u8wlKrJCiccB9Pi8cr/HlMwcOHlGIVck+xdbm28gdAUFH2FFkbtYhmEQHx9fGHTXrl1Dly5dMHDgQAwcOBBWVlbgcDistjDicQC3zmZlDq89fvwYo0ePhrhBC3yyc4OU+bwDRAFGIgIXgD3zEI5N66BZs2Zo2rQp1qxZg8zMTAQHB6ttrR4b79+/x6xZs3Dnzh0EBAQUmWSRnZ2NIUOGwMTEBPv371dJ4eQ3b95g/PjxyM/PR2BgYOEM0YIaq/5XHoPhCWCkLyh8tloZPqjl1fSsiFBi8zutzUPGuoKCrwpT1XMGNh8YBgIultlIERtxGqdOnYJIJCoMut69e6N69epKnZcR5cN7qBmcun1TZjsTX75H/63/QMKRHWB8SNH57XmkJ9zFjRs3kJ2djWbNmsHKyqrEMKqZmZnKqvMX/1kY6vHQqJYh0t7n4pNQAohy0UT6GrsXjkHLr0tO0MjNzcXIkSMhEAhw+PDhUsursXX16lWMGTMG48aNw7p160oNfBcXF7i7u6v92aI6XL58GcOHD8c///wDa2vrwq+XN5REIhGysrLk/tn91goiFnMGtXUjZl1BwVdFqfI5A6vNZSVi1HhzFxOs9TFgwAC0adOG1bBhWe10a5KD7ctnsqpnqcgHW6MXl/H777/jwoUL+PjxY4nh08TERKSnp6Nx48YlArFZs2awsLBgHT5st2kq62cjFArh5uaGjx8/IigoSOEZngzDYNu2bdiwYQN8fX3lLn7v378/FixYoPadENRl//79WLduXZGZnmwnU3ElQpjHbS8RakKhEDVq1JD7529BTwBl/95zOEDyBuW2tiLlR8FXBalqSEckEuHFixfo73MPuSyWbyl7F1swvBZ0Kw05QjGM9PhFhtciIiIwZswYeHl5YdSoUTLPw/aDzYDHIGvP5x3UmzZtKvO4/Px8PH36tNRQTE1NRcOGDUsNRUtLy8JQYvOzKE7ez0YsFmPKlClISUlBaGhoqT3p0mRlZWHq1KlISkrC0aNHYWlpKff4Xr164ccff1S6eLY2KD7T02JZGNh82HHAwLevYWGY1axZEzVq1IChoWGZN3Nsfwepx6dZFHxVENuez0CrGhjWRIS0tDQ8f/4cz58/L/L3zMxMmJiYgDfuT1azL9V5F3v79m0MHjwYy5Ytw+zZs0s9hu0HG8NI0eLmdnTt2hVWVlZo0aIFrKysFJrKLhKJkJqaWmooJicno169emjWrBnEtiOQZmgORoFaEWU9A5JKpZg9ezZu3ryJ8PBw1K5dW+757t27h5EjR6JXr17YunUrDAwMymyDvb09fvvtNzg4OLBut7aRSCQYPHgwhEIh6tevj6uNRoCjV3YvuTyhRM/4KgftWo1KVIJt+akT917izp7taNSoEb7++mtYWVmhd+/ehf9tYmICPp/P+i5WnYubbW1tERUVhf79++PFixdYt25dkbvv58+fg8eIIZbzfK+APpfBpEmTEB8fjxMnTiAhIQEJCQmoUaMGWrRoURiEBX+3sLAo8RxMIBCgadOmaNq0Kfr3L/ohKZFI8Pz5cyQmJmLmhU9gGMWWIZS17RKXy8XOnTuxePFi9OrVC2fPnpVZWu2vv/7CokWL8Mcff2DChAms25Cfn1+u54ialJKSghMnTuDEiROIiYkBh8PBgAEDMOKbJjjxILPMUCpPHdhpjpY4djMNYqnsHr6Axy1XyT1SfhR8VRDb8lMcPUP8888/ZR431NaU1V1seQtHl8XCwgJXrlzBoEGD8OLFC3h7e+PBgwf4/fffERoaCpupG/BM0BhiOZnPBYMxnS0xrlioSKVSpKWlIT4+HgkJCYiPj8e5c+eQkJCA9PR0mJublxqK9evXLzH8xePxYGZmBjMzM4jOhyn1XssqDcbhcLB582asXr0aPXr0wPnz59Go0X///nl5eZg3bx7++ecfRERElLrtkjxCoVDhheCawjAMbt68iRMnTiAkJARpaWkYNGgQZs2ahaCgIGRkZMDe3h6/jJ2M0zyuWkOpoDZtWc/XK8MM2aqMgq8KUnX5KW26i61fvz4uXLiA3r17w9TUFDweD/Pnz4enpyeypHpw8oyCWM7zNH0Bv9R2crlcNG7cGI0bN0bfvn2LfC8vLw+JiYmFgXj58mX4+fkhPj4eDMMUCcKCvzdv3hyGhoasfxbFyfvZFJkhKuoM/tAOcJi/Hf4rp8DBxgpJSUkYOXIkmjdvjri4ONbPAb+k7T2+/Px8REZGIiQkBCdOnCjc1Hf79s9D2F/20I2NjXH06FEMGzYMmwNOY+OlN2oNpYLatPKeWxPNomd8VZA6njNoQzUKkUiEw4cPY/PmzRCJRKhVqxakUinCwsJQp04dpGTmYM3JB4iIfwMwTJHnkhxGCgM9gcrbmZGRUaSXWPAnKSkJJiYmqNV3OrLqty2yprAs8n42sn4OXDCQiIUY1fAD/tq0FKtWrcKcOXOUXpBvbm6OyMhImJubK/V6dXj79i1Onz6NkJAQnD17Fq1bt4aLiwtcXFzQsmXLMt9rwUzPv8/8g2P33yHoVhqy80XgS8VwtW9GoaRDKPiqIHUt1C1r9qW6ZGVlwcfHB1u3boWVlRUWL14MJycnMAyDH374AaGhoVi7+yh+PPus5JKB///17tmiPta6tKmwDzaxWIyUlBRcvv0v1sVJ5ZYCK07Wz4bVukeGgU1NIbZ/179c77Vhw4a4ceMGTE1NlT6HKiQlJRUOYd64cQO9evWCi4sLBg8eDBMTE4XPt3TpUly7dg1nz56Fnp4ezp8/j59//hmRkZGqbzzRWhR8VZQ29NDK6/nz5/D09MSePXvQv39/LFq0CN98U3Ih+4+/bcf+143A4csemtNkmSjZ6/gYfLnmi5GIAakE9RNCYNtAUGQI1dLSEj+dii+zJw98nrVqwOdi14SOSv+M69ati4SEBKV3O1CWVCpFXFxcYdi9fv0agwcPxpAhQ9C3b99y704hkUgwbNgwfPXVV/D29sbz58/RqVMnvHjxQkXvgFQGFHxVmKZ6aOV1586dwgkrkydPhoeHB8zMzGQevzL4HgKupUAqZ+GwpqeQF/wsjsY+RZ7483PYRrUN8fxdLnJFks8/G1tTOLcwRs7Lp0WGThMSEvDs2TN8NccfEJS9FKGAHg84t6CnUj9rY2NjvHjxgvXzwfJUCcrLy8PFixcREhKCkydPombNmhgyZAhcXFzQuXNnldYnBT7X9HRwcMCISdMhbOqIA5fiwdOvRjso6BAKPsKaMh9ubF/DMAzOnz+PzZs34/79+5g3bx6+++67MteoAZVr0fDp06fh6emp8K7hQqEQLVafY7VOsQAjEcO2eg52TumBr776SqEAEQgEyMnJYTWzU5nRhYyMDISFheHEiRM4f/48bGxsCp/XWVlZsX+TSjocdR/fhySAL9DHlwPHlWlEhCiPZnUSVkr7cMvOF+NQ7DMcu5lW6gcFm9d0s6xdOGFFLBZj8eLFcHV1VWhGYWXaPVwgECi1c7yenp7CM0Q5PD5uveOjbdu2yM7OhomJCb7++mt8/fXXaNy4ceHfC/40bNgQAoEAUqkUYrGYVZ3SlMwczPK/WepzR7GUgVgqwSz/mwj3cITwbXrhEOadO3fQp08fDBkyBLt27UL9+vUV+vcoj5TMHKw59xycYqFXWpup51c1UfCRMiny4VbwQcHmNdP2XUN+8I+wMq2DjRs3wsnJSalZiJVp93A+nw+RSKTUa9mspyyOq28EgUCA/fv3w97eHs+ePSuszJOamoro6OjC/379+jXq1auHRo0agcvlYv78+UWCsXHjxjA1NS3SC/SJSoJIIpXbhjyhCL1nrcenS3vh4uKCpUuXok+fPqwqyKgDmzaLJFL4Xk6m6ipVlOY/CYjWU+aDgs1rxAyDQYt+xy733uVqH5tA4HGg9gX2bCjb4wPYracsjs/l4Ny5c3BycsLGjRsxadKkwuHn89npyDEUw6gNH5NtTTG5axPoC7MQHx8PFxcXmJub4/nz54iNjS0Mx5cvX6JOnTqFYXi/5WSIOfJ7hgyHCz2rbngc+LPaNtNVBNvKRvKq55DKjYKPlIntB8WxG6kY0igP+fn5+DvuPcTycw/g8HD5uXK9ny+xCQSxMB+p5/bhreNy1KlTp9zXVFZ5enxfVgVhW/SawwHatWuHixcvol+/friXIUHYB1O5w882NjaoVq0aFixYUOJ8EokEr169KgzChbHsPkLyJIxWhB5QuYbGiXpox28i0WpsPyg+CSWYMWMGlixZgjx5dcO+PLcKPlwKAkHAYcBIioYKn8uBoYCHHWNtYMzkolWrVvDz84NUWlYqq0d5enzAf1VB2BJLPv8cWrZsiYCT5/D3y1rIFUlK3MiIpQxyRZ+HrJPefJT5jJXH48HU1BSdOnXC8OHDYazPbr9CbRhmLmCkz64t2tRmoloUfKRMbD8ojA30EBcXh6CgIAg47IJFVR8uvVo0wFe3/GDw/Ab4jAgAA2N9Plw7NUG4hyOcOzSFl5cXwsLC4OPjAwcHB9y8eVMl11ZEeXp8BczqGsGY7Yf3F8edeSoCXyB/0pBIIkXAjRes63QOtTUFnyv/uWxF1HFVRGVsM1EtCj5SJrYfFPamPIwfPx7W1tb4Ki8VvDLmqaj6w+X25fP4tp0RrO7uxnZ7BvfX9Me6IUWrtXzzzTeIjo6Gu7s7BgwYgDlz5uDdu3cqa0NZytvjK6DMh3fw7XS5BbyBzz2/c48/sJ5VO83REgKe/I8RbduNoDK2magWBR8pE5sPCrEoH+d3rICdnR2ePHmCgyu/hR5f/roxVX64xMfHIzs7GzNnzkR8fLzctWBcLhdTp07Fo0ePIJFIYG1tjb1791bI8KcqenyAch/ebIesc0UM6x5fwTCzHheAtOj5C4aZtW03goI2Gwp4JW8epBKtbDNRLQo+UiZ5HxSMRAyORIRZbfWQePsqFi5ciNq1a8t9jTo+ELdt2wYTExMYGBggLS2tzB3GAaBOnTr4888/ERoaij///BPdunXDrVu3VNIeWVTV45P/74tS/33ZDlkb8DkKraPs1aIB2j4/CRujbBjr88HhoMgwszYuBC94VuraqUmRNjOPo/Bb71pa2WaiOlS5hbD2NCMb645eQUTyJ0i4fAggwQDrelg8uL3cyi0VUTbNwsICXbt2xcqVKzFs2DDEx8cr9HqpVAo/Pz+sXLkSo0ePxrp161CrVi2Vta/A8+fP0blzZ6SlpankfMX/fbliIdpU/4Rts4aW+Pdlu2tHz8YCPDqwBleuXGHVhnfv3sHCwgJPnjyp8NqeqvbLL7/g33//xd69ezXdFKJGFHw6SpHyYzk5OfD398eOHTsgFosxZ84cTJgwQal93tRBKBTCwMAAV65cwcuXL7Fnzx6cPHlSqXNlZmZixYoVCAkJwcaNGzFx4kSVTsN/9eoV2rVrh1evXqnsnF+Kjo7GxIkTER8fX6JEGdtdO37syIPPlo24ePEiq2vu2LEDV65cQWBgYLnarg0yMjLQvHlzJCYmVvoQJ7LRUKcOioh/DSfPKByKfYbsfDEY/LeWy8kzChHxrwEAT548waJFi2BmZoZTp05hy5YtePDgAWbNmqU1oQcABw4cgJ6eHrp27YqEhAS0aNFC6XPVrVsXu3btwokTJ+Dl5QVHR0fcvn1bZW1V1TM+Wbp27YratWvj1KlTJb4nb3iUCwb6fC66WNbB2mtCJHVaiDZrzmBl8D2kZObIvB7DMPDx8YG7u7vK34sm1KtXD0OGDIGfn5+mm0LUiHp8OobNXb8eFzB75I/bUecwZcoUzJw5U6s2JAWK9liz80TgSIQY59AciWG70adTO0ybNq3c15BIJIXDn2PHjsVPP/1U7uHPDx8+oHHjxsjKyip3+2Tx9/fHnj17cOHChVK/X3x41JDPwccnt1DN0g4SKaPQNlZxcXEYPXo0EhMTtWaBennFxcVh5MiRePLkicp3hiDagYJPx7B5zgOpGB1qC3HAYzAMDQ0rrnEsydsNQCLKx4JONTBvZB+VXS8jIwPLly/HyZMn8csvv2DChAlK72z+6dMn1KtXD58+fVJZ+4oTCoUwNzfHmTNn0LZt2zKPT8nMQa9fz0PKlT35RdZ+htOnT0eTJk2wYsWKcrdbm3Tu3BkrV66Es7OzpptC1KBq3KJVYimZOVgZfA9t1pyBxbIwVsNL5cGm/Bi4fPybV0MrQ+/L4telVR9heHrYeUeo0n+/evXqYffu3QgODsa2bdvQvXt33L17V6lzqXuoE/i8k8OsWbPg6enJ6nifqCRwePJnfBbUYv1SdnY2jhw5gsmTJyvbVK01Z84c7NixQ9PNIGpCPT4NUucu6VKpFGlpaUhMTMSTJ0+QmJiIxMRExDWb/LmAYxk4HCB5wyClrq1OrHqsAKwaGMNnYgeVr8WSSCTw8fHBjz/+CDc3N6xduxY1a9Zk/XqpVAoejwepVKp0r5GNN2/ewMrKCgkJCWVu+aPsfoZ79+7F8ePHlZ5IpM3y8vJgZmaGqKioCtkfkFQs6vFpSFk9l4K6ifJ6LmKxGMnJyTh37hz+/PNPLFq0CEOGDEHr1q1hZGSEzp07Y/Xq1YiOjkaNGjUwevRoGArY/ci1tU4hqx4rgITX2UUm6qgKj8fDjBkz8PDhQ+Tk5MDa2hoHDhwA2/tHLpcLLpcLiYT9DgvKqF+/PoYPH47du3eXeayyRZt9fX2rzKSW4gwMDDB16lTs3LlT000hakA9Pg1hu6ZqzDeNMKmNYWGP7cveW0pKCkxMTNCsWbMSfywtLWFkVLK3w/a6rp2aaOWWLBbLwhTahVzWsylViYmJwezZs2FkZAQvLy9Wz9QMDAzw/v17te9Hd/fuXQwYMADJyclyK7Eo0+N7+PAh+vbti5SUFFYb1lZGqampaN++PVJSUmBsbKzp5hAV0s7beh3AdqufA5cTcPj7ZWjatGlhqPXt2xfNmjWDhYWFwh+ebLbw0eY6hYruQq7uDUW7dOmC69evY/fu3ejTpw/GjRuHNWvWyB3+LHjOp+7ga9euHVq0aIG///4bbm5uMo9js59h8bqffn5+mDx5cpUNPQBo0qQJevTogYMHD2LGjBmabg5RIRrq1IC8vDzWH948g2pITEzEmTNn4OXlhQULFsDZ2RnW1tZKfXBWdCkxVWNTnPlLBRuKqhOPx8PMmTPx4MEDfPz4EdbW1vD395c5/KmqsmVszJ8/H1u3bpU7FKto3c/8/HwcOHAAU6ZMUWlbtdHs2bPh5eXFeiibVA401FkGRSqcyPLq1StER0fjypUriI6Oxp07d9Bg1l9g+GUHV/EJBapSUaXEVI3NOsTiKnqiztWrVzF79mxUr14dXl5eaNPmc2+z4HfpQFQ8uHqGSv0uKUoikcDKygoHDx5E165dZR5XMNEqTygCw/kvBEubaHX06FH8+eefrCu7VGYMw6BVq1bYtWsXevTooenmEBWh4JNDmVmXEokEDx8+LBJ0b9++RdeuXWFvbw8HBwd07NgRG88lVepnbZpU8HNhG37qunmQRyKRwNvbG6tXr8aECRPQZ8I8LA76Vy0zeMvi6emJ6OhoHD58WO5xKZk56DH9J1Rr1QO5Iikgzsd4Byu4Fwvm/v37Y9KkSXKHT6sSLy8vREZG4ujRo5puClERCj4Z2NY1POZuhxeP7xWGXExMDExMTApDzt7eHi1btixR1YLt+dU5MaMyS8nMwbS/4pDwOlvucZq+eXj9+jXmrViHqzV7gSNnE1h1/qyzsrJgbm6OO3fuoHHjxjKPS05ORteuXfHixQtIpVLY2tpi/fr1cHFxKTzm6dOn6NChA54/f672Z5TaouDf7969e2jUiDanrQroGZ8MPlFJEEnk78+Wm5+PXjPWYc2aNcjJycGsWbPw+PFjxMfHY+/evXB3d0erVq1KLeVU2Z+1aZpZXSP4TOwAQ4H8klJSsRCTusj+sFe3Bg0aoNmg78DXK3vn8+ILxFWlRo0amDhxIry8vOQeFxERgV69eoHD4YDH42HDhg1Yvnx5kaUXe/bsgZubm86EHvD538/NzQ3e3t6abgpREerxycB+ijcP99c4KX2dyvqsTVvIHo4GxMJ8VLsViKaGeThy5IjGKtEou0BclZ48eYLOnTsjJSWl1GUuADBhwgR07969sM4pwzDo2s8ZjftNxqPc6sjJF0MqzMXAVvXww9COOvX7+ejRI/Tu3RspKSmsN+kl2ouCTwa268W0tcKJLpF189CnETBmUB9YW1uDy+UiJCREI7tKaMvv0pAhQzBw4EBMnz69xPcYhsHXX3+NS5cuoWnTpgA+31RMPxCLfKG4SEmzinguqY369u2LqVOnwtXVVdNNIeVEQ50ysN2tWlsrnOgSs7pGWDekDe6v6Y/kDYNwf01/rBvSBj07tMHx48fx4MED1K5dG/369cPbt28rvH3a8rs0f/58eHp6ljo1PyEhAXw+v3Dn+oLKQkIJStTxZFtZqKqZPXs21e+sIij4ZGCzXqz4ol6ifRwcHLBjxw5cu3YNNjY26NmzJ16+fFmhbdCW36WePXtCIBDg3LlzJb538eJF9O7du7B+KJtn3Op8LqmNnJ2d8ezZM9y8eVPTTSHlRMEng6KLeon2GjNmDObNm4erV6/CxcUF3bt3R2pqaoVdX1t+lzgcDjw8PLB169YS37t48SJ69epV+N9sKwupuziANuHz+Zg5c2aZk4SI9qPgk4FmXVYtS5YsgYODA2JjYzF9+nQ4OjoiISGhQq5d1u8SRyKCzcfYCvldcnNzw40bNxAfH1/4NalUisjIyCLBp2zh6qrO3d0dx48f18iQOVEdCj45erVogHAPR7h2agJjfT44nM8z71w7NUG4h6NOPdiv7DgcDrZv3w6BQIBHjx5h1apV6Nmzp9L76ilK3u/SiZmdcfdMYIU8PzIwMMB3332Hbdu2FX7t/v37qF27dpE1ftryXFLb1K9fH87OztizZ4+mm0LKgWZ1Ep2SnZ2N7t27Y+TIkWjatCnmzZuHEydOoHPnzhptV3JyMuzt7eHr64tBg9Q7Szg9PR2tW7dGUlISateuja1bt+Lff//Frl27Co/54e9bOBT7DODKXiep6eIAmnL9+nWMHTsWjx8/Bo8nfx0p0U7U4yM6xdjYGKGhodi9ezckEgn27NkDZ2dnREREaLRdFhYWCAoKwrfffos7d+6o9VqmpqYYNGgQ/Pz8APw3saXAhw8f8I/3j+CWsQhDV59xd+rUCXXr1kV4eLimm0KURMFHdI6pqSlCQ0Mxf/58GBsb48iRIxgzZgxCQ0M12q4uXbrAy8sLzs7OSEtT76SR+fPnY/v27cjLy8OlS5fQs2dPAJ9LrPXq1QsdrS3gO7lLqc8leRyAEeVjZc+vdPYZ95w5c2hpQyVGQ51EZ124cAFubm6IjIzEx48f4ezsjG3btmHMmDEabdfGjRtx9OhRXLp0Sa0boDo4OMDFxQUHDx7EvXv38Pz5c/Tt2xejRo3CTz/9BA6HI7M4gH7yZYT4+yE6OrpK78knS15eHpo0aYIrV66gefPmmm4OURAFH9Fp+/fvx9q1a3H16lW8fv0aTk5OWLt2Ldzd3TXWJoZh4O7ujjdv3iAoKEhtz5H+PPg3fgmOBb+ZPSQcPhhRLtoY58Jr7vAye3IMw2Dw4MGwsbHBhg0b1NI+bffDDz9AKBTijz/+0HRTiIIo+IjOW7NmDcLCwhAZGYn09HT069cPHh4eWLBggcbaJBQK4eTkBBsbG2zZskXl5/9c4/QGPuXlg8P7r8emSDmy169fw9bWFgEBAYVDpbrk6dOn+Oabb5Camiqz/inRTvSMj+i81atXo3Xr1nBzc4OlpSUuXbqEXbt2Ye3atRrbeVtPTw/Hjh1DeHg4du7cqdJzF5QjyxVJi4QeoFg5sgYNGsDPzw8TJ07Eu3fvVNrGysDc3ByOjo7w9/fXdFOIgij4iM7jcDjYvXs3srOzsWDBAjRu3BiXLl1CUFAQFi1apLHwq127NsLCwrBu3TqcPn1aZedVZTmyAQMGYOjQoZg+fbrG/p00afbs2fDy8tLJ916ZUfARgv96WBcvXsTWrVthYmKCiIgIXL16Fd99912RPekqkqWlJY4fP45JkyapbLG9qsuR/frrr3j06BH279+viuZVKn369EF+fj4uX76s6aYQBVDwEfL/atWqhbCwMGzevBnHjx9H7dq1ce7cOSQlJWHcuHEQCoUaaVfXrl2xfft2ODs7Iz09vdzny84XsTqObTkyAwMDBAQEYMmSJUhMTCxP0yodLpdLuzZUQhR8hHzBzMwMJ0+exPTp0xETEwNjY2OEhYXh06dPGD58OHJzczXSrjFjxuC7776Ds7MzcnKU3wrIy8sLjDCP1bGKlCNr27YtVq1ahXHjxkEkYhesVcXEiRNx7tw5ldyUkIpBwUdIMXZ2dti/fz+GDRuGJ0+ewMDAAMeOHUONGjUwcOBAfPz4USPtWr58Odq1a4dx48YpPPTKMAw2bNiA33//HbU/PAak8ntzymyTNHfuXNSpUwdr165V6HWVXc2aNTF27Fjs3r1b000hLFHwEVKKgQMHYvXq1Rg4cCAyMzMhEAhw4MABNG/eHH379tVIdX4OhwNvb29kZWXh+++/Z/06hmGwdOlS7N27FwBgY5AJHqeM/QF5HIXLkXE4HOzbtw9+fn64dOmSQq+t7GbPno3du3drbDicKIaCjxAZZsyYgaFDh2Lo0KHIy8sDj8eDt7c3HB0dNbKhLfDfJJywsLAiRaVlkUgkmD59Oo4dO4a3b99i3bp12L9jM2rcOwI9LkrdJonLiPF1cjga1zZUuH0mJibw9fXFhAkT8P79e4VfX1m1bt0aLVq0QFBQkKabQligBeyEyCGVSuHq6goOh4OAgABwuVwwDIOff/4ZBw4cwPnz59GkSZMKb9eTJ0/QrVs37Nu3Dy07dINPVBKCb6cjJ18MI30+htqaYnLXJlg2xx3R0dGoVq0agoKC0KZNG2RlZaFRo0a4EZ+CA7HpJcqRTezUCJNGDEL//v2xevVqpdo3Z84cZGRkIDAwsHBX96ru2LFj2Lp1K6KiojTdFFIGCj5CypCXl4e+ffuiW7du2LRpU+HXt27dii1btuDcuXOwsrKq8HZduXIFI+b+iJoDF0HCoMgSBT6XA4lIiI/hW9C9WV3s27cPNWrUAACEhYXhjz/+wIULF2Se++XLl+jYsSM8PT0xfPhwhduWm5uLDh06YOnSpZg4caLib64SEovFsGjbEYMXb0HUs/wiNyHTHC11tqC3NqLgI4SFzMxMdO3aFYsWLcL06dMLv+7n54dVq1YhPDwc7dq1q9A2pWTmoO/vERAxsntUfEhxflEvmNf7r9j1okWLUKdOHaxYsULu+ePi4jBgwABcvHgRbdu2Vbh9d+/eRZ8+fRATE4OmTZsq/PrKJiL+Nabti4GE4YDh/PcUSZEycKRiUPARwlJiYiIcHR3h5+eHgQMHFn798OHDhRvaftWsTanDjuq4418ZfA+HYp/JXYxesFmsezeLwnZl54lgKOBgxDdNymxXQEAAVq5cievXr6NevXoKt3Hr1q04dOgQoqKiqvQuDimZOXDyjEKuSPZsW0MBD+EejtTz0wIUfIQo4OrVq3BxccHZs2fRvn37wq+HhYVh6qo/UGPAQkjBKTHsqI47/jZrziA7v+xF5gZ8LjgcDkQSqVLtWrp0Ka5fv46zZ88qHF5SqRQDBgxA586d8dNPPyn02spEkZsQXduxXhtR8BGioGPHjsHDwwPR0dGFE1tSMnPQb0skhHKW1yl6xy+RSJCRkYHXr1/j1atXePXqVZG/R5iMAFQwcaSsdkkkEri4uMDCwkKpCiUvXryAnZ0djh49im7dupW3uVqJ7U2IsT4f99f0r4AWEXnYl2YghAAARowYgZSUFAwaNAiXL19GzZo14ROVBCnDASD7PlIkkcL7n8eY0aFOkRCTFWzv3r1DrVq1YGJiggYNGsDExKTw72ZmZohKkUDM5n9hhpEbkAUFqWX1RHg8HgICAtC5c2f4+Phg2rRpZV/zCw0bNsTu3bsxYcIE3Lp1C7Vq1VLo9ZVBDovQA9iXgSPqRT0+QpTAMAzmzZuHR48e4dSpU7DbEMHqjl+anwPpkYVFQqy0YDMxMUG9evXA5xcNtocPH8Lb2xsHDx5Ek+FL8KFeG0hR/l4fm55IQkICunXrhuPHjyvVc5s1axY+fPhQJbfxoR5f5ULBR4iSJBIJhg0bhrp16yLyq5Fy+nr/4XCA5A2DFLpOfn4+jh8/jl27diEhIQFTpkzBtGnTwKlev8wJFWyxbVd4eDimTJmCmJgYhdcvfvr0CR06dMDy5csxfvx4ZZuqldg84+NACreOTbB+uE0FtoyUhiq3EKIkHo+HwMBA3L9/H3ywCx9FCj8nJibi+++/R+PGjeHn54e5c+ciNTUV69evh7m5OczqGmHnODsYCnglam9yIAXEQhjw2f0vzrZdTk5OWLhwIYYOHYpPnz6xfi8AUK1aNQQEBGDBggVISkpS6LXabpqjJQS8Mv6tpRIc/Xkmzp8/XzGNIjJR8BFSDkZGRjh58iREj6+AW0afj03hZ5FIhOPHj+N///sfunbtCoZhcOXKFZw/fx4jR44sMauyV4sGCPdwxKe756DPlYLD+TycNr6zOTq8OYsamQ9LlCVTpl1fWrRoEVq3bo0pU6YovAGrra0tli1bhvHjx0MsrjrPu8zqGmGHqy0gzgeHKbrJL5/LgaGAhz1T7LF5zQ+YNm0axo4dS7s5aBANdRKiAheu38WUI4ngCPRlHiNv9mRqaip8fHzg5+eHpk2bYsaMGRgxYgQMDAzKvHZaWhq+/vprZGdnw8jov3Pn5eXBwWkoPnSdBTF4SrVLltzcXPTo0QPDhg3DsmXLWL8O+LzEwcnJCfb29lizZo1Cr9VmJ0+exOrftsPAdhAyjS0hBLewDJx7N4vCf99Pnz5hw4YN2LVrF1asWIG5c+eWeJZL1IuCjxAV2Xb0PH6/lgW+nj4kxf6v4nE52DC0DcZ0/O+5mEQiwenTp+Ht7Y3o6GiMGzcO06dPR+vWrcu8VvSTDKw+8QCPX2cDYMAwgJVJdax1aQ37pv8tNH/x4gU6Df0WBn3ngAFXpesL09LS0KlTJ+zatQvOzs4KvTY9PR12dnY4fvw47O3tFb62NurTpw+mTJkCHx8frFq1Cn369JF7fHx8PGbPno03b95g586dcHBwqKCWEgo+QlRowbbDCEozALhF7+B5HECPz8POcXZoWUMCPz8/+Pj4wMTEBDNmzMCYMWOK9Nbk8byQgC3nH8tuQ9/m8OjzX+3QuLg4DBw9ESNX7MSlZ/nIzheBz4jh2rVZkZ6IMmJiYuDi4oLIyEi0atVKodeGhIRgwYIFuHXrFmrWrKl0G7TBvXv30L9/fzx9+hTNmzdHREQELC0ty3wdwzA4cuQIFi5ciP79++OXX35B/fr1AXxeG1pRVYB0DQUfISrCpmwVVyrCh0NLMdKpJ6ZPnw47OzuFrhH9JANuvtfKPC7AvXORnt/hw4cLK7AkJiZi9uzZuHXrlkLXlmXfvn1Yv349rl+/jtq1ayv02hkzZiAnJwcHDhxQSVs0Zdx0D2TWt8UzXkNk54tgbCDAMNtGrEMqKysLa9aswcGDB7Fu3To06z4EcwJvK11th8hHwUeIirCZ0s4Fg1F2pvhllGKBV6Dfln/+f3hTPisTY5yd36No+1auRGRkJE6fPg1TU1OkpqYqHFSyLFiwAA8ePMCpU6cUel716dMn2NnZ4ccff4Sbm5tK2lLRQmITMe/wHQj0DSD+Yl6LMiF19+5dfLdwOV7aTQV4ejKPo7qf5UOzOglRkeDb6XJDDwCk4CDswRulr8Em9AAg4VXJ43766SfUr18f8+fPR6dOnXD58mWl21Hcb7/9BgAK7QwPfF7iEBgYCA8PDzx9+lRl7akoKZk5WHT8ITiCoqEHfN4mKlckwSz/m0jJzGF1vnbt2qHPnA3g8uTXRC2otkOUQ8FHiIpoe9kqLpeLAwcOIC4uDnp6evjnn39Udm4+n49Dhw7h5MmT2L9/v0Kvbd++PZYuXVoplzh4/5MIUfGZTMUoGlIht1+UWY1HLGUQdCuN9TlJURR8hKiIkT67IT5FFrGrmrGxMUJCQnD9+nWcOHFCpeeuU6cOQkJCsHjxYsTExCj02oULF8LAwAAbNmxQaZvUKS8vD0djU8Dhyf95KhpS2n4DVRVQ8BGiIkNtTVW+WLy45g2Myz4In5/xyWJubo7Dhw/j8ePHuHHjhtJtKU2rVq2wZ88ejBgxAmlp7D/suVwu9u/fDy8vL1y9elWlbSqv/Px83L17F4GBgVi5ciWGDRuGFi1aoFatWhDK2QT4S4qEVGW4garsKPgIURE2ZasEPC7cu1kofY21LmWv8QOANc7yj+vbty+srKzg4uKCd+/eKd2e0jg7O2P27NkYNmwY8vLyWL+uUaNG2LVrF8aPH4+srCyVtomN/Px83Lt3D4cOHcKqVaswfPhwtGjRAjVr1sSYMWNw7Ngx8Hg8uLq64vjx4zh37hw44nxW51YkpCriBkrX0axOQlQoIv41ZvnfLDENnQsGjEQMv2+7ore1Sbmuoeg6PllWr16NsLAw1KlTR+HZmGVhGAaurq7Q09PD/v37wVFg38DvvvsO78V8WLnMVMsaNqFQiISEBDx48KDIn6dPn8Lc3BytW7cu8sfKygp6eiVnWLq6uiK75WA8EtZW6Qa0tJu7+lHwEaJiKZk58L2cjKBbacgRimGk9/lD+/TWJZgxboTC+9mVJvpJBtacfFBk9qaViTHWOBet3CJPREQEfvjhB9SsWRPW1tbw9PQsd7u+9OnTJ3Tr1g3jxo3DokWLWL8u/E4qZhyMA5evV2SSh6LLA4RCIR4/flwi4JKTk2Fubo5WrVqVCDh9fdkl576UlpaGtm3b4tLNhxi157bKQ0rWDRSt41MNCj5CKsi9e/fQu3dv3LlzB6ampppuDnJzc1G/fn08evQIffv2xZIlS+Du7q7Sa6SmpqJLly7Yu3cv+vcvex86ZXo7IpGo1IBLSkqCmZlZiYBr0aIF64CTZcWKFcjKysL27dvVFlKl3UAVr/tJlEPBR0gFWrVqFR4+fIhjx45puikAAEdHR6xatQpmZmZwdHTE33//je7du6v0GpcvX8aIESMQFRUFKyv5Q7BsiwBY8V6jRkJ4YcA1bty41IBjU+RbUbm5uTAzM8OVK1fQvHlzABRSlQ0FHyEVKC8vD7a2ttiwYQOGDx+u6eZg5cqVYBgG69evx9mzZzFx4kTExMTA3Nxcpdfx8fHB77//jr/DI3Ho9huZz+7Y7mQugBhr2mQXBpyhoaFK2yuPr68vgoODERoaWmHXJKpFwUdIBYuKisLYsWPx4MED1KpVS6NtOXfuHNauXVtYxcXT0xN+fn64cuUKqlevrtJrjfZYg1gDW/D4ejKHBKfsi1XbTvaqwDAM2rVrhz/++AP9+vWr8OsT1aDgI0QDZs6cCalUCm9vb422IycnByYmJnj9+jWqVasGhmEwbdo0ZGRk4Pjx4+ByVbPi6fOzu0vIFUllHsOHFGKxCOCX/fzNWJ+P+2vKfmaoahcuXMC8efNw//59hWaqEu1C6/gI0YBNmzYhLCxMpWXDlGFkZIS2bdsWVlrhcDjYuXMnMjMz8eOPP6rsOj5RSWWW9pIwwNe1DbV6DZunpyc8PDwo9Co5Cj5CNKBmzZrw8vLCtGnTFFrkrQ49evQoEsB6eno4duwYDh48iMDAQJVcg00Bb4bDxdt8jtqLACgrMTERV69exfjx4yv82kS1KPgI0ZAhQ4bAxsYG69at02g7evTogcjIyCJfa9CgAUJCQjBv3jzExsaW+xps609+yhfDyfg59LgMeMU6VXwuB4aCz5v5amKm5Pbt2+Hu7o5q1apV+LWJatEzPkI06OXLl2jXrh3OnTsHGxsbjbQhKysLDRs2RGZmZonp/0FBQZg3bx6uXbum8NpDqVSKCxcuYNOmTXhsMwNc/bIDQ48jwf+yziI+/S2S9SwgNLUFR88AXLEQ9XKSYFftA9qYm8Dc3BwWFhYwMzNT+SScAsV3QJcKczGsfSMsGNCOlihUchR8hGiYn58fdu3ahZiYGPB4PI20oVOnTvjtt9/Qo0ePEt/7+eefcfxcFP439xeE3n9VZgmxlJQUrF+/HocPH8anT5/QsGFDtJq4Fo+lDSDvMV9ppb0YhkFGRgaePn1a5E9ycnLh36tVqwZzc/PCMCz4u7m5OczMzGBszK6w95eockrVRsFHiIYxDIM+ffrA2dkZCxYs0EgblixZgurVq5c6oSXi31eYujcGUg4H4PwXzF+GQFezGvDy8sLOnTvx9OlTVK9eHaNHj8bChQvRsmVLPHqWgYHbL4ORs8GqMqW9GIbBmzdvSoThl3+MjY1LBOKXPcbiQ5dUK7Pqo+AjRAs8fvwYXbt2RWxsLCwsKn7iRmhoKLZs2YILFy4U+TqbEOBIhEjfMxf4+AZ9+vTB8uXL4eDgUDjzMTs7G4MGDUIta3skNOhRob0ohmHw6tUrmT3GlJQU1KxZs0ggJtRoj7vZ1SH7HSteeJpoFwo+QrTEL7/8gosXLyI8PLzCp8u/f/8ejRs3RmZmZpGdCNiUEINUjM71JAhYOKTEUG1B6DVt2hS+vr549i4XvpeTceT6U+RLAGMDgUZLe0ml0iLBmJycDL8PrSDhyu6ZFtDUWkJSfhR8hGgJkUiETp06YdGiRRqZMm9nZ4ft27fDwcGh8GtsS4iVFgLZ2dkYOHAgmjdvDh8fnyKL4Q8fPoxjx47hyJEjqnsDKmKxLEyrq8eQ8qPlDIRoCYFAAF9fXyxevBhv3ryp8OsXX88HsF+GUHyHcXmhB0CrF4DTDuhVHwUfIVrkm2++wYQJEzQyyaUg+MRiMU6cOAFnZ2dIhbmsXvtlCBSEnpWVVamhV0BbB5toB/Sqj4KPEC2zdu1aXL16FadPn66wa6Zk5uDUmxp41NodTVeGwyNKDH2HSRjc3kyhEMjOzsaAAQNgZWWF3bt3yww9be7xTXO0LLN6DI8LjVSPIapBwUeIlqlWrRq8vb0xc+ZMZGdnl/2CcsjLy8Pa3UfR85dzOPP4I7j61cDhcMDw9XH7YzWcj88At4zgKygh9vHjRwwYMAAtW7aUG3oFtLXHZ1bXCDvH2cFQwCsR+nwuBwKOFPnnd4D76a2GWkjKi4KPEC3Ut29f9OrVCytXrlTL+e/fv4/58+ejSSs77EsUgOEJwOEVfWYlljLIF0sBBjDgc+WWEKujJ8WAAQNgbW0Nb2/vMkNPm3t8ANCrRQOEezjCtVMTGOvzweF8nsDj2qkJzi/qjXmj+qJfv34aeRZLyo9mdRKipTIzM9GmTRsEBwejc+fO5T5fdnY2Dh8+/HlZwbNn+Pbbb/HBagBO/fte7nIFPpeDwe0a4unjf3HvoyGkPEGRHcYLQq9Vq1bYtWsXq62M/v77bwQGBmrNTvTKWLVqFcLCwhAREYGaNWtqujlEATQtiRAtVbduXWzduhXu7u64ceNGkfV1bDEMg9jYWPj6+uLvv/9G9+7dsWLFCjg5OYHP56PNmjNl7pogljI4/+g12iWcxIq+fTFlypTC7xUMb7Zu3Rp//vkn6/37OByO1g51svXTTz/h/fv3cHZ2Rnh4OBWvrkQo+AjRYqNHj8bBgwexctNW6LUbUFgwWV6tTAB4+/Yt/P394evri+zsbLi7u+PBgwdo2LBhkeMUWa5w5coVrF69uvBrHz9+hJOTE9q2bYudO3cqtGmttg91ssHhcODp6YnJkydj5MiRCA4OVurmhFQ8esZHiBbjcDiYuHQTDmc1Q+D1VGTni8EAyM4X41DsMzh5RiEi/jWAz727yMhIjB8/HpaWlrh69Sq2bNmCx48fY9myZSVCD2C/Zq2agIucnBxYWVkB+Lyjg7KhV6Cy9/gAgMvlws/PDwKBABMnToREIq/QGdEWFHyEaLGUzBz8ePYZOAL9EjsbiKUMckUSzDx4A8s3bIGVlRXmzJmDjh074smTJwgICEDv3r3lhhLbNWvtauTD3t4eHA6nMPTatWundOhVhR5fAYFAgMOHD+P169eYOXNmlQj0qo6CjxAt5hOVBJFEKveY3HwhLr3m4eDBg7h37x48PDxQt25dVudns2ZNLGVw/Q0HkvYj8SDlFZycnGBrawsvLy+lQq9AVQoIAwMDhISE4M6dO1i6dGmVem9VEQUfIVos+HZ6mZNPODw+3tdqgc6dOyvck5K3Zu1LEg4f/wrrYrBXNEw79MOOHTvKFXpVqcdXoHr16jh16hROnTqFTZs2abo5RA6a3EKIFmM7+SQ7T4S5c+fC1NQUpqamaNSoUeHfa9asKTdoCtas+V5OxuHrKRBKmM8VmIuRAABPDw9qdcWzd7nl3k2hKvaK6tati7Nnz8LR0RG1atXCzJkzNd0kUgoKPkK0mJE+n9XuCAY8oHnz5khPT8fDhw+Rnp6O9PR0pKWlQSKRlBqIxf973ZA2ePLkCaJfcwDI3gleJJHC93Jyufaiq4o9vgKmpqY4d+4cunfvjpo1a8LNzU3TTSLFUPARosWG2pqWuR8en8vBqE5mmDdkcKnf//jxI168eIG0tLTCQExNTUVMTEyRrxkZGaH6t7vB0TOU2yaxlEHQrbRyb8JaFXt8BSwtLXHmzBn06dMHNWrUwODBpf9siGZQ8BGixaY5WuLYzTSIpbKnyRfUypSlevXqqF69euFShNIwDIPMzEx0+D2GVbuKb0OkqKrc4yvQunVrnDhxAoMHD8aRI0fQs2dPTTeJ/D8qWUaIlouIf41Z/jchkkiL9Pz4XA4EPC52jrNDrxYNVHKt5stOQCRnmLOAsruPp2TmwCcqCUfjUpAv/rwDu7yF+FVBREQExowZg1OnTqG+hTV8opJYFyIg6kHBR0glkJKZA9/LyQi6lYYcobhIrUxVfmD2X7EHCdL6YORM+OZzOXDt1EThoc6KDHBtc+LECcxYuw3VByyEhIHOvX9tQ8FHCCk0Y/FKnBd0hlhO8BkKeAj3cFQocFMyc+DkGYVckewhW2XOW1mkZOag7+8REDGyh3ir8vvXNrSOjxDyn+wMDK2fIXMvuoJtiBT9cGazEL9gtmhV5BOVBIYj/+O2Kr9/bUPBRwgplJ2dDZv6/MK96CDKBQf/7UUX7uGo1HAcm4X4BbNFqyJdf//ahmZ1EkIK5eTkwMjICGZ1jTCnS31sn9QNb9++LVeVFkCxXSCqIl1//9qGenyEkELZ2dkwNjYGAERHR6Nr167lDj2A/S4QRnpV815c19+/tqHgI4QUei8W4EgSF23WnMGCawIk2s7EyuB7SMnMKdd52e4CMax9o3JdR1vp+vvXNhR8hBAAn5cbvOkwDRGp+Z/LpHE4EIFXYt8/ZbDZBaKshfiVma6/f21DwUeIjkvJzIHHoZv4dl8swNeTue/fLP+bSvf85O0CUZ7ZopWFrr9/bUPr+AjRYQWLyvNEEpT1QaDswvUvVdRCfG2l6+9fW1DwEaKj2CwqL07ZUmWEaBMa6iRER7FZVF4cTbcnVQEFHyE6is2i6uJouj2pCij4CNFRbBdVF6Dp9qSqoOAjREexXVRdgKbbk6qCgo8QHcVmUTUAcACabk+qFAo+QnQUm0XVADDE1lTp4tSEaCNazkCIDtPlzWGJ7qLgI0TH0aJqomso+AghhOgUesZHCCFEp1DwEUII0SkUfIQQQnQKBR8hhBCdQsFHCCFEp1DwEUII0SkUfIQQQnQKBR8hhBCdQsFHCCFEp1DwEUII0SkUfIQQQnQKBR8hhBCdQsFHCCFEp1DwEUII0SkUfIQQQnQKBR8hhBCdQsFHCCFEp1DwEUII0SkUfIQQQnQKBR8hhBCdQsFHCCFEp1DwEUII0SkUfIQQQnQKBR8hhBCdQsFHCCFEp/wfvfBcpGWrH8cAAAAASUVORK5CYII=\n",
          "text/plain": "<Figure size 432x288 with 1 Axes>"
         },
         "metadata": {},
         "output_type": "display_data"
        },
        {
         "data": {
          "image/png": "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\n",
          "text/plain": "<Figure size 432x288 with 1 Axes>"
         },
         "metadata": {},
         "output_type": "display_data"
        },
        {
         "data": {
          "image/png": "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\n",
          "text/plain": "<Figure size 432x288 with 1 Axes>"
         },
         "metadata": {},
         "output_type": "display_data"
        }
       ]
      }
     },
     "32d077e0a13e49988f3c24c46451f5e9": {
      "model_module": "@jupyter-widgets/controls",
      "model_module_version": "1.5.0",
      "model_name": "HTMLModel",
      "state": {
       "layout": "IPY_MODEL_b11ed8ef276b478ca81cc8c469c77a55",
       "style": "IPY_MODEL_8ef0d704cb124f76b0e558cd233b269a",
       "value": " 1000/1000 [00:47&lt;00:00, 20.17it/s]"
      }
     },
     "365cbcf2e5d54d69b296b8414361a494": {
      "model_module": "@jupyter-widgets/controls",
      "model_module_version": "1.5.0",
      "model_name": "DescriptionStyleModel",
      "state": {
       "description_width": ""
      }
     },
     "38e8cbfbf801468ba70149dfb613f57a": {
      "model_module": "@jupyter-widgets/base",
      "model_module_version": "1.2.0",
      "model_name": "LayoutModel",
      "state": {}
     },
     "3be36d78110649dca3cf04e89e792bf7": {
      "model_module": "@jupyter-widgets/base",
      "model_module_version": "1.2.0",
      "model_name": "LayoutModel",
      "state": {}
     },
     "43b1f75db8ce46b188dc7e9365f989f6": {
      "model_module": "@jupyter-widgets/base",
      "model_module_version": "1.2.0",
      "model_name": "LayoutModel",
      "state": {}
     },
     "43bd07d876184caeab10533007aff289": {
      "model_module": "@jupyter-widgets/base",
      "model_module_version": "1.2.0",
      "model_name": "LayoutModel",
      "state": {}
     },
     "475d5181a4b549b7ba84500707cbdbf6": {
      "model_module": "@jupyter-widgets/controls",
      "model_module_version": "1.5.0",
      "model_name": "DescriptionStyleModel",
      "state": {
       "description_width": ""
      }
     },
     "47eddc3131314c0a992c37ade3c9217d": {
      "model_module": "@jupyter-widgets/base",
      "model_module_version": "1.2.0",
      "model_name": "LayoutModel",
      "state": {
       "height": "500px",
       "overflow_y": "auto"
      }
     },
     "480ed778b9b4469a85c4c6c82344e9b0": {
      "model_module": "@jupyter-widgets/controls",
      "model_module_version": "1.5.0",
      "model_name": "ProgressStyleModel",
      "state": {
       "description_width": ""
      }
     },
     "4c8feaa8cfcc4f4d9d67683226934a56": {
      "model_module": "@jupyter-widgets/base",
      "model_module_version": "1.2.0",
      "model_name": "LayoutModel",
      "state": {}
     },
     "5175fae0901c4613a59947fabfc9e70b": {
      "model_module": "@jupyter-widgets/controls",
      "model_module_version": "1.5.0",
      "model_name": "HBoxModel",
      "state": {
       "children": [
        "IPY_MODEL_2e0b0e0fc4c6413998e5a4aa2d6ef632"
       ],
       "layout": "IPY_MODEL_b6520ddb00e745fe8badb39838a4dea9"
      }
     },
     "52371641a296489c90aeb5ca5e0cd3ae": {
      "model_module": "@jupyter-widgets/controls",
      "model_module_version": "1.5.0",
      "model_name": "ProgressStyleModel",
      "state": {
       "description_width": ""
      }
     },
     "54094fcde3204e40a690b1d78c19aca6": {
      "model_module": "@jupyter-widgets/controls",
      "model_module_version": "1.5.0",
      "model_name": "TabModel",
      "state": {
       "_titles": {
        "0": "status",
        "1": "plot",
        "2": "log"
       },
       "children": [
        "IPY_MODEL_8e8320d33d7b4dc3853460f17200cffa",
        "IPY_MODEL_5175fae0901c4613a59947fabfc9e70b",
        "IPY_MODEL_0dc67eab82d44545ae6510f6cb914df4"
       ],
       "layout": "IPY_MODEL_0c62a03831c7451a9295f31699bc4d06"
      }
     },
     "58baaad2bebd43d1aa1b26d15d86950d": {
      "model_module": "@jupyter-widgets/base",
      "model_module_version": "1.2.0",
      "model_name": "LayoutModel",
      "state": {}
     },
     "5d6da3fd2ee5492e93f4c2e1950ac36d": {
      "model_module": "@jupyter-widgets/controls",
      "model_module_version": "1.5.0",
      "model_name": "HBoxModel",
      "state": {
       "children": [
        "IPY_MODEL_a6a814e9bcdf4914b0ad8b8f96fb79e2",
        "IPY_MODEL_a39cbcb77e8e4b5db81a91e932084ae3",
        "IPY_MODEL_feead330ef8b4cbaa94afc7963b3382b"
       ],
       "layout": "IPY_MODEL_967397da46fd4d54b0538112e9ce3ad2"
      }
     },
     "5f3e013388554f7499555f531178caac": {
      "model_module": "@jupyter-widgets/output",
      "model_module_version": "1.0.0",
      "model_name": "OutputModel",
      "state": {
       "layout": "IPY_MODEL_7f439e6d457f45fc8991f83e544584f7",
       "outputs": [
        {
         "data": {
          "application/vnd.jupyter.widget-view+json": {
           "model_id": "98d1963fc26f4b5f85cf1641614c389d",
           "version_major": 2,
           "version_minor": 0
          },
          "text/plain": "  0%|          | 0/834 [00:00<?, ?it/s]"
         },
         "metadata": {},
         "output_type": "display_data"
        }
       ]
      }
     },
     "6bf70284734541e38df9fa5887bf74e5": {
      "model_module": "@jupyter-widgets/controls",
      "model_module_version": "1.5.0",
      "model_name": "DescriptionStyleModel",
      "state": {
       "description_width": ""
      }
     },
     "6f2fa2c85fc64453adcab3494dcc7d08": {
      "model_module": "@jupyter-widgets/base",
      "model_module_version": "1.2.0",
      "model_name": "LayoutModel",
      "state": {}
     },
     "706cc688bdb0405ba2a236f9b2687bd0": {
      "model_module": "@jupyter-widgets/output",
      "model_module_version": "1.0.0",
      "model_name": "OutputModel",
      "state": {
       "layout": "IPY_MODEL_43b1f75db8ce46b188dc7e9365f989f6",
       "outputs": [
        {
         "data": {
          "text/html": "<div>\n<style scoped>\n    .dataframe tbody tr th:only-of-type {\n        vertical-align: middle;\n    }\n\n    .dataframe tbody tr th {\n        vertical-align: top;\n    }\n\n    .dataframe thead th {\n        text-align: right;\n    }\n</style>\n<table border=\"1\" class=\"dataframe\">\n  <thead>\n    <tr style=\"text-align: right;\">\n      <th></th>\n      <th>val_stress</th>\n      <th>val_stress_spc</th>\n      <th>val_xing</th>\n      <th>val_xing_spc</th>\n      <th>dis_loss</th>\n      <th>gen_loss</th>\n      <th>stress</th>\n      <th>critic</th>\n    </tr>\n  </thead>\n  <tbody>\n    <tr>\n      <th>epoch 667</th>\n      <td>365.83</td>\n      <td>13.62%</td>\n      <td>34.69</td>\n      <td>26.83%</td>\n      <td>7.69e-05</td>\n      <td>8.83e+01</td>\n      <td>-3.23e+02</td>\n      <td>-3.34e+02</td>\n    </tr>\n  </tbody>\n</table>\n</div>",
          "text/plain": "          val_stress val_stress_spc val_xing val_xing_spc  dis_loss  gen_loss  \\\nepoch 667     365.83         13.62%    34.69       26.83%  7.69e-05  8.83e+01   \n\n              stress     critic  \nepoch 667  -3.23e+02  -3.34e+02  "
         },
         "metadata": {},
         "output_type": "display_data"
        }
       ]
      }
     },
     "71649637ad214a5e8ace3fcb107a5374": {
      "model_module": "@jupyter-widgets/base",
      "model_module_version": "1.2.0",
      "model_name": "LayoutModel",
      "state": {}
     },
     "72f3907512354d1faf32ab174970df4c": {
      "model_module": "@jupyter-widgets/output",
      "model_module_version": "1.0.0",
      "model_name": "OutputModel",
      "state": {
       "layout": "IPY_MODEL_f257b4180534466ab28b4722ca6e71bd",
       "outputs": [
        {
         "name": "stdout",
         "output_type": "stream",
         "text": "[664] stress=367.64(14.09%) xing=34.86(28.01%)\n[665] stress=367.36(14.17%) xing=35.14(28.78%)\n[666] stress=365.68(13.59%) xing=34.78(27.65%)\n[667] stress=365.83(13.62%) xing=34.69(26.83%)\n"
        }
       ]
      }
     },
     "77c96577b32d4bab8f5a074ce4350a0b": {
      "model_module": "@jupyter-widgets/base",
      "model_module_version": "1.2.0",
      "model_name": "LayoutModel",
      "state": {}
     },
     "781ce738581343c7a83650cb0c0f9afe": {
      "model_module": "@jupyter-widgets/base",
      "model_module_version": "1.2.0",
      "model_name": "LayoutModel",
      "state": {}
     },
     "7f439e6d457f45fc8991f83e544584f7": {
      "model_module": "@jupyter-widgets/base",
      "model_module_version": "1.2.0",
      "model_name": "LayoutModel",
      "state": {}
     },
     "817d6f7fb03b4ac6a6c87f06a5b4766e": {
      "model_module": "@jupyter-widgets/controls",
      "model_module_version": "1.5.0",
      "model_name": "DescriptionStyleModel",
      "state": {
       "description_width": ""
      }
     },
     "869fb01520be4895bb1e29da8e084f0e": {
      "model_module": "@jupyter-widgets/controls",
      "model_module_version": "1.5.0",
      "model_name": "HBoxModel",
      "state": {
       "children": [
        "IPY_MODEL_f9db9172d4f8456e8e25206b20231158",
        "IPY_MODEL_d24c089087d44eee8c660c1d87a41be6",
        "IPY_MODEL_9e9628bc19e84bdcb66b3c306c89d729"
       ],
       "layout": "IPY_MODEL_23dfde5a206a4997a1d7a536125826b1"
      }
     },
     "8e8320d33d7b4dc3853460f17200cffa": {
      "model_module": "@jupyter-widgets/controls",
      "model_module_version": "1.5.0",
      "model_name": "VBoxModel",
      "state": {
       "children": [
        "IPY_MODEL_5f3e013388554f7499555f531178caac",
        "IPY_MODEL_706cc688bdb0405ba2a236f9b2687bd0"
       ],
       "layout": "IPY_MODEL_3be36d78110649dca3cf04e89e792bf7"
      }
     },
     "8ef0d704cb124f76b0e558cd233b269a": {
      "model_module": "@jupyter-widgets/controls",
      "model_module_version": "1.5.0",
      "model_name": "DescriptionStyleModel",
      "state": {
       "description_width": ""
      }
     },
     "967397da46fd4d54b0538112e9ce3ad2": {
      "model_module": "@jupyter-widgets/base",
      "model_module_version": "1.2.0",
      "model_name": "LayoutModel",
      "state": {}
     },
     "98d1963fc26f4b5f85cf1641614c389d": {
      "model_module": "@jupyter-widgets/controls",
      "model_module_version": "1.5.0",
      "model_name": "HBoxModel",
      "state": {
       "children": [
        "IPY_MODEL_1354ce62640d468297c50e739ef56fb6",
        "IPY_MODEL_f71e2033fe0746078b9bbb0d09c42f21",
        "IPY_MODEL_00405e594615414da500e1bf8dc7a9a9"
       ],
       "layout": "IPY_MODEL_43bd07d876184caeab10533007aff289"
      }
     },
     "9e9628bc19e84bdcb66b3c306c89d729": {
      "model_module": "@jupyter-widgets/controls",
      "model_module_version": "1.5.0",
      "model_name": "HTMLModel",
      "state": {
       "layout": "IPY_MODEL_addbdb49868a4e30993d705f041c984c",
       "style": "IPY_MODEL_daa2ca60ef2b4446acaa7f6a5ed6ed06",
       "value": " 1000/1000 [00:46&lt;00:00, 21.56it/s]"
      }
     },
     "a39cbcb77e8e4b5db81a91e932084ae3": {
      "model_module": "@jupyter-widgets/controls",
      "model_module_version": "1.5.0",
      "model_name": "FloatProgressModel",
      "state": {
       "bar_style": "danger",
       "layout": "IPY_MODEL_38e8cbfbf801468ba70149dfb613f57a",
       "max": 1000,
       "style": "IPY_MODEL_480ed778b9b4469a85c4c6c82344e9b0",
       "value": 23
      }
     },
     "a6a814e9bcdf4914b0ad8b8f96fb79e2": {
      "model_module": "@jupyter-widgets/controls",
      "model_module_version": "1.5.0",
      "model_name": "HTMLModel",
      "state": {
       "layout": "IPY_MODEL_29c33aaec95d4d1ca2d200cab7673088",
       "style": "IPY_MODEL_475d5181a4b549b7ba84500707cbdbf6",
       "value": "  2%"
      }
     },
     "addbdb49868a4e30993d705f041c984c": {
      "model_module": "@jupyter-widgets/base",
      "model_module_version": "1.2.0",
      "model_name": "LayoutModel",
      "state": {}
     },
     "b04960363b104dff9231773cbb6f51cf": {
      "model_module": "@jupyter-widgets/controls",
      "model_module_version": "1.5.0",
      "model_name": "FloatProgressModel",
      "state": {
       "bar_style": "success",
       "layout": "IPY_MODEL_044b37514d554904abf3ea919a3ff597",
       "max": 1000,
       "style": "IPY_MODEL_ea900a8bd531441ca65e2151a6e0e85c",
       "value": 1000
      }
     },
     "b11ed8ef276b478ca81cc8c469c77a55": {
      "model_module": "@jupyter-widgets/base",
      "model_module_version": "1.2.0",
      "model_name": "LayoutModel",
      "state": {}
     },
     "b494d8b5560c45a8bd786b89b538a9a6": {
      "model_module": "@jupyter-widgets/controls",
      "model_module_version": "1.5.0",
      "model_name": "DescriptionStyleModel",
      "state": {
       "description_width": ""
      }
     },
     "b6520ddb00e745fe8badb39838a4dea9": {
      "model_module": "@jupyter-widgets/base",
      "model_module_version": "1.2.0",
      "model_name": "LayoutModel",
      "state": {
       "height": "500px",
       "overflow_y": "auto"
      }
     },
     "bb75452798d44acaababbb2bd7f2fa77": {
      "model_module": "@jupyter-widgets/base",
      "model_module_version": "1.2.0",
      "model_name": "LayoutModel",
      "state": {}
     },
     "bd7a2a2f6fa7463baebe191fda73ee35": {
      "model_module": "@jupyter-widgets/controls",
      "model_module_version": "1.5.0",
      "model_name": "HBoxModel",
      "state": {
       "children": [
        "IPY_MODEL_1b708139025b426c950d0a61deea5f74",
        "IPY_MODEL_b04960363b104dff9231773cbb6f51cf",
        "IPY_MODEL_32d077e0a13e49988f3c24c46451f5e9"
       ],
       "layout": "IPY_MODEL_71649637ad214a5e8ace3fcb107a5374"
      }
     },
     "bdc918bdf444410380f44225f173b4d8": {
      "model_module": "@jupyter-widgets/base",
      "model_module_version": "1.2.0",
      "model_name": "LayoutModel",
      "state": {}
     },
     "c2bd800949734dbabc81049c47f98d75": {
      "model_module": "@jupyter-widgets/controls",
      "model_module_version": "1.5.0",
      "model_name": "ProgressStyleModel",
      "state": {
       "description_width": ""
      }
     },
     "c6c52305e9744f138cd505125e790a5b": {
      "model_module": "@jupyter-widgets/base",
      "model_module_version": "1.2.0",
      "model_name": "LayoutModel",
      "state": {}
     },
     "cb0c85e18ff5409ba096154179e252be": {
      "model_module": "@jupyter-widgets/controls",
      "model_module_version": "1.5.0",
      "model_name": "DescriptionStyleModel",
      "state": {
       "description_width": ""
      }
     },
     "d01b9e001d8e414bb94553ac088b8604": {
      "model_module": "@jupyter-widgets/base",
      "model_module_version": "1.2.0",
      "model_name": "LayoutModel",
      "state": {}
     },
     "d24c089087d44eee8c660c1d87a41be6": {
      "model_module": "@jupyter-widgets/controls",
      "model_module_version": "1.5.0",
      "model_name": "FloatProgressModel",
      "state": {
       "bar_style": "success",
       "layout": "IPY_MODEL_e2f6a3b7ff644c6580335e64945441db",
       "max": 1000,
       "style": "IPY_MODEL_52371641a296489c90aeb5ca5e0cd3ae",
       "value": 1000
      }
     },
     "daa2ca60ef2b4446acaa7f6a5ed6ed06": {
      "model_module": "@jupyter-widgets/controls",
      "model_module_version": "1.5.0",
      "model_name": "DescriptionStyleModel",
      "state": {
       "description_width": ""
      }
     },
     "dbdd7487cb6d4bb9a73e58d17a115002": {
      "model_module": "@jupyter-widgets/controls",
      "model_module_version": "1.5.0",
      "model_name": "DescriptionStyleModel",
      "state": {
       "description_width": ""
      }
     },
     "e1d3dfabe620405ab1a91faece126f70": {
      "model_module": "@jupyter-widgets/controls",
      "model_module_version": "1.5.0",
      "model_name": "FloatProgressModel",
      "state": {
       "bar_style": "success",
       "layout": "IPY_MODEL_6f2fa2c85fc64453adcab3494dcc7d08",
       "max": 11531,
       "style": "IPY_MODEL_c2bd800949734dbabc81049c47f98d75",
       "value": 11531
      }
     },
     "e2f6a3b7ff644c6580335e64945441db": {
      "model_module": "@jupyter-widgets/base",
      "model_module_version": "1.2.0",
      "model_name": "LayoutModel",
      "state": {}
     },
     "e8307b8a6b2040958fce2ff3a21904bf": {
      "model_module": "@jupyter-widgets/controls",
      "model_module_version": "1.5.0",
      "model_name": "HTMLModel",
      "state": {
       "layout": "IPY_MODEL_4c8feaa8cfcc4f4d9d67683226934a56",
       "style": "IPY_MODEL_cb0c85e18ff5409ba096154179e252be",
       "value": "100%"
      }
     },
     "ea900a8bd531441ca65e2151a6e0e85c": {
      "model_module": "@jupyter-widgets/controls",
      "model_module_version": "1.5.0",
      "model_name": "ProgressStyleModel",
      "state": {
       "description_width": ""
      }
     },
     "f257b4180534466ab28b4722ca6e71bd": {
      "model_module": "@jupyter-widgets/base",
      "model_module_version": "1.2.0",
      "model_name": "LayoutModel",
      "state": {}
     },
     "f71e2033fe0746078b9bbb0d09c42f21": {
      "model_module": "@jupyter-widgets/controls",
      "model_module_version": "1.5.0",
      "model_name": "FloatProgressModel",
      "state": {
       "layout": "IPY_MODEL_bb75452798d44acaababbb2bd7f2fa77",
       "max": 834,
       "style": "IPY_MODEL_22610984efb54c829b1eab0c9a6f4d58",
       "value": 670
      }
     },
     "f9db9172d4f8456e8e25206b20231158": {
      "model_module": "@jupyter-widgets/controls",
      "model_module_version": "1.5.0",
      "model_name": "HTMLModel",
      "state": {
       "layout": "IPY_MODEL_c6c52305e9744f138cd505125e790a5b",
       "style": "IPY_MODEL_dbdd7487cb6d4bb9a73e58d17a115002",
       "value": "100%"
      }
     },
     "feead330ef8b4cbaa94afc7963b3382b": {
      "model_module": "@jupyter-widgets/controls",
      "model_module_version": "1.5.0",
      "model_name": "HTMLModel",
      "state": {
       "layout": "IPY_MODEL_bdc918bdf444410380f44225f173b4d8",
       "style": "IPY_MODEL_817d6f7fb03b4ac6a6c87f06a5b4766e",
       "value": " 23/1000 [00:04&lt;02:51,  5.71it/s]"
      }
     }
    },
    "version_major": 2,
    "version_minor": 0
   }
  }
 },
 "nbformat": 4,
 "nbformat_minor": 4
}
