{
 "cells": [
  {
   "cell_type": "code",
   "execution_count": 1,
   "metadata": {},
   "outputs": [],
   "source": [
    "%load_ext autoreload\n",
    "%autoreload 2"
   ]
  },
  {
   "cell_type": "code",
   "execution_count": 2,
   "metadata": {},
   "outputs": [],
   "source": [
    "from modules import *"
   ]
  },
  {
   "cell_type": "code",
   "execution_count": 3,
   "metadata": {},
   "outputs": [
    {
     "data": {
      "text/plain": [
       "True"
      ]
     },
     "execution_count": 3,
     "metadata": {},
     "output_type": "execute_result"
    }
   ],
   "source": [
    "torch.cuda.is_available()"
   ]
  },
  {
   "cell_type": "code",
   "execution_count": 4,
   "metadata": {},
   "outputs": [],
   "source": [
    "config = Config('config-Copy3.json')"
   ]
  },
  {
   "cell_type": "code",
   "execution_count": 5,
   "metadata": {},
   "outputs": [],
   "source": [
    "device = 'cuda' if torch.cuda.is_available() else 'cpu'"
   ]
  },
  {
   "cell_type": "code",
   "execution_count": 6,
   "metadata": {},
   "outputs": [
    {
     "data": {
      "text/plain": [
       "{'name': 'skip_noshare_deep',\n",
       " 'batchsize': 16,\n",
       " 'epoch': {'start': 1, 'end': 11000},\n",
       " 'lr': {'initial': 0.001,\n",
       "  'decay_rate': 0.95,\n",
       "  'decay_step': 10,\n",
       "  'override': None},\n",
       " 'log_period': 10,\n",
       " 'test': {'name': 'skip_noshare_deep',\n",
       "  'epoch': 470,\n",
       "  'out_prefix': 'dp_skip_nsd'}}"
      ]
     },
     "execution_count": 6,
     "metadata": {},
     "output_type": "execute_result"
    }
   ],
   "source": [
    "config[...]"
   ]
  },
  {
   "cell_type": "code",
   "execution_count": 7,
   "metadata": {
    "scrolled": true
   },
   "outputs": [],
   "source": [
    "class Net_NOD_BN_Skip_Deep(torch.nn.Module):\n",
    "    def __init__(self):\n",
    "        super().__init__()\n",
    "        edge_feats = 2\n",
    "        \n",
    "        self.conv1 = NNConv(2, 16, nn.Linear(edge_feats, 2*16), aggr='mean')\n",
    "        self.conv2 = NNConv(16, 64, nn.Linear(edge_feats, 16*64), aggr='mean')\n",
    "        self.conv3 = NNConv(64, 64, nn.Linear(edge_feats, 64*64), aggr='mean')\n",
    "        self.conv4 = NNConv(64, 64, nn.Linear(edge_feats, 64*64), aggr='mean')\n",
    "        self.conv5 = NNConv(64, 64, nn.Linear(edge_feats, 64*64), aggr='mean')\n",
    "        self.conv6 = NNConv(64, 64, nn.Linear(edge_feats, 64*64), aggr='mean')\n",
    "        self.conv7 = NNConv(64, 64, nn.Linear(edge_feats, 64*64), aggr='mean')\n",
    "        self.conv8 = NNConv(64, 64, nn.Linear(edge_feats, 64*64), aggr='mean')\n",
    "        self.conv9 = NNConv(64, 16, nn.Linear(edge_feats, 16*64), aggr='mean')\n",
    "        self.conv10 = NNConv(16, 2, nn.Linear(edge_feats, 2*16), aggr='mean')\n",
    "\n",
    "        self.relu = nn.LeakyReLU()\n",
    "        self.bn1 = BatchNorm(16)\n",
    "        self.bn2 = BatchNorm(64)\n",
    "        self.bn3 = BatchNorm(64)\n",
    "        self.bn4 = BatchNorm(64)\n",
    "        self.bn5 = BatchNorm(64)\n",
    "        self.bn6 = BatchNorm(64)\n",
    "        self.bn7 = BatchNorm(64)\n",
    "        self.bn8 = BatchNorm(64)\n",
    "        self.bn9 = BatchNorm(16)\n",
    "\n",
    "#         self.conv4 = NNConv(16+32+64, 128, Linear(2, (16+32+64)*128))\n",
    "#         self.conv5 = NNConv(128,2,Linear(2,128*2))\n",
    "#         self.conv2 = NNConv(16,2,Linear(2,16*2))\n",
    "\n",
    "    def forward(self, data):\n",
    "        x, edge_index, edge_attr = data.x, data.edge_index, data.edge_attr\n",
    "\n",
    "        x1 = self.relu(self.bn1(self.conv1(x, edge_index, edge_attr)))\n",
    "        x2 = self.relu(self.bn2(self.conv2(x1, edge_index, edge_attr)))\n",
    "        x3 = self.relu(self.bn3(self.conv3(x2, edge_index, edge_attr)))\n",
    "        x4 = self.relu(self.bn4(self.conv4(x3, edge_index, edge_attr)))\n",
    "        \n",
    "        res_x4 = x2+x4\n",
    "        \n",
    "        x5 = self.relu(self.bn5(self.conv5(res_x4, edge_index, edge_attr)))\n",
    "        x6 = self.relu(self.bn6(self.conv6(x5, edge_index, edge_attr)))\n",
    "                            \n",
    "        res_x6 = res_x4+x6\n",
    "                         \n",
    "        x7 = self.relu(self.bn7(self.conv7(res_x6, edge_index, edge_attr)))\n",
    "        x8 = self.relu(self.bn8(self.conv8(x7, edge_index, edge_attr)))\n",
    "                            \n",
    "        res_x8 = res_x6+x8\n",
    "                            \n",
    "        x9 = self.relu(self.bn9(self.conv9(res_x8, edge_index, edge_attr)))\n",
    "        x10 = self.conv10(x9, edge_index, edge_attr)\n",
    "\n",
    "        return x10"
   ]
  },
  {
   "cell_type": "code",
   "execution_count": 8,
   "metadata": {},
   "outputs": [],
   "source": [
    "def load_processed_data():\n",
    "    if os.path.isfile('G_list.pickle') and os.path.isfile('data_list.pickle'):\n",
    "        G_list = pickle.load(open('G_list.pickle', 'rb'))\n",
    "        data_list = pickle.load(open('data_list.pickle', 'rb'))\n",
    "    else:\n",
    "        if not os.path.isfile('data_index.txt'):\n",
    "            shuffle_rome('data_index.txt')\n",
    "        rome = load_rome('data_index.txt')\n",
    "        G_list, data_list = convert_datalist(rome)\n",
    "        pickle.dump(G_list, open('G_list.pickle', 'wb'))\n",
    "        pickle.dump(data_list, open('data_list.pickle', 'wb'))\n",
    "    return G_list, data_list"
   ]
  },
  {
   "cell_type": "code",
   "execution_count": 9,
   "metadata": {},
   "outputs": [],
   "source": [
    "G_list, data_list = load_processed_data()"
   ]
  },
  {
   "cell_type": "code",
   "execution_count": 10,
   "metadata": {},
   "outputs": [],
   "source": [
    "loader = DataLoader(data_list[:10000], batch_size=config['batchsize'],shuffle=True)\n",
    "loss_ep = []"
   ]
  },
  {
   "cell_type": "code",
   "execution_count": null,
   "metadata": {
    "scrolled": true
   },
   "outputs": [],
   "source": [
    "start_epoch = config['epoch']['start']\n",
    "if start_epoch == 1:\n",
    "    model = Net_NOD_BN_Skip_Deep().to(device)\n",
    "else:\n",
    "    model = torch.load(f\"../ckpt_{config['name']}/epoch_{start_epoch}.pt\").to(device)\n",
    "criterion = EnergyLossVectorized()\n",
    "optimizer = torch.optim.AdamW(model.parameters(), lr=config['lr']['initial'])\n",
    "scheduler = torch.optim.lr_scheduler.StepLR(optimizer=optimizer, \n",
    "                                            step_size=config['lr']['decay_step'], \n",
    "                                            gamma=config['lr']['decay_rate'])\n",
    "print(\"=\" * 50, file=open(f\"{config['name']}.log\", \"a\"))\n",
    "epoch = start_epoch\n",
    "while True:\n",
    "    if config['lr']['override'] is not None:\n",
    "        optimizer = torch.optim.AdamW(model.parameters(), lr=config['lr']['override'])\n",
    "        scheduler = torch.optim.lr_scheduler.StepLR(optimizer=optimizer, \n",
    "                                                    step_size=config['lr']['decay_step'], \n",
    "                                                    gamma=config['lr']['decay_rate'])\n",
    "    loss = train(model, criterion, optimizer, loader, data_list, device)\n",
    "    loss_ep.append(loss)\n",
    "    scheduler.step()\n",
    "    if epoch == 1:\n",
    "        print(epoch, loss, scheduler.get_lr(), file=open(f\"{config['name']}.log\", \"a\"))\n",
    "    if epoch % config['log_period'] == 0:\n",
    "        torch.save(model, f\"../ckpt_{config['name']}/epoch_{epoch}.pt\")\n",
    "        print(epoch, loss, scheduler.get_lr(), file=open(f\"{config['name']}.log\", \"a\"))\n",
    "    if epoch == config['epoch']['end']:\n",
    "        break\n",
    "    epoch += 1"
   ]
  },
  {
   "cell_type": "markdown",
   "metadata": {},
   "source": [
    "# Performance Testing"
   ]
  },
  {
   "cell_type": "code",
   "execution_count": 11,
   "metadata": {},
   "outputs": [],
   "source": [
    "model = torch.load(f'../ckpt_{config[\"test\"][\"name\"]}/epoch_{config[\"test\"][\"epoch\"]}.pt').to(device)\n",
    "criterion = EnergyLossVectorized()\n",
    "warnings.filterwarnings(\"ignore\", category=RuntimeWarning)"
   ]
  },
  {
   "cell_type": "code",
   "execution_count": null,
   "metadata": {
    "scrolled": true
   },
   "outputs": [
    {
     "data": {
      "application/vnd.jupyter.widget-view+json": {
       "model_id": "15753c3d704d478d9a975ca56bf7a303",
       "version_major": 2,
       "version_minor": 0
      },
      "text/plain": [
       "HBox(children=(FloatProgress(value=0.0, max=2531.0), HTML(value='')))"
      ]
     },
     "metadata": {},
     "output_type": "display_data"
    }
   ],
   "source": [
    "folder_name = f'{config[\"test\"][\"name\"]}_test'\n",
    "for test_idx in tqdm(list(chain(range(0, 10000, 10), range(10000, len(G_list))))):\n",
    "    G_vis = G_list[test_idx]\n",
    "    node_pos,loss = evaluate(model, data_list[test_idx],criterion,device)\n",
    "    graph_vis(G_vis, node_pos, f'{folder_name}/{config[\"test\"][\"out_prefix\"]}_model_{test_idx}_{loss}.png') \n",
    "    node_pos = nx.nx_agraph.graphviz_layout(G_vis, prog='neato')\n",
    "    plt.figure()\n",
    "    nx.draw(G_vis, node_pos)\n",
    "    plt.savefig(f'{folder_name}/{test_idx}.png')"
   ]
  },
  {
   "cell_type": "code",
   "execution_count": null,
   "metadata": {},
   "outputs": [],
   "source": [
    "losses = []\n",
    "for test_idx in tqdm(range(10000, len(G_list))):\n",
    "    G_vis = G_list[test_idx]\n",
    "    node_pos, loss = evaluate(model, data_list[test_idx], criterion, device)\n",
    "    losses += [loss]"
   ]
  },
  {
   "cell_type": "code",
   "execution_count": null,
   "metadata": {},
   "outputs": [],
   "source": [
    "np.mean(losses), np.std(losses)"
   ]
  },
  {
   "cell_type": "code",
   "execution_count": null,
   "metadata": {},
   "outputs": [],
   "source": []
  },
  {
   "cell_type": "code",
   "execution_count": 149,
   "metadata": {},
   "outputs": [
    {
     "data": {
      "text/plain": [
       "1000"
      ]
     },
     "execution_count": 149,
     "metadata": {},
     "output_type": "execute_result"
    }
   ],
   "source": []
  },
  {
   "cell_type": "code",
   "execution_count": 174,
   "metadata": {},
   "outputs": [
    {
     "data": {
      "image/png": "[encoded data removed]",
      "text/plain": [
       "<Figure size 432x288 with 1 Axes>"
      ]
     },
     "metadata": {
      "needs_background": "light"
     },
     "output_type": "display_data"
    }
   ],
   "source": [
    "plt.xlabel(\"epochs\")\n",
    "plt.ylabel(\"loss\")\n",
    "plt.plot(loss_ep[:1000])\n",
    "plt.show()"
   ]
  },
  {
   "cell_type": "code",
   "execution_count": 12,
   "metadata": {
    "scrolled": true
   },
   "outputs": [
    {
     "data": {
      "text/plain": [
       "tensor([[0.4000, 0.2500, 2.0000],\n",
       "        [1.2000, 0.0278, 2.0000],\n",
       "        [0.8000, 0.0625, 2.0000],\n",
       "        ...,\n",
       "        [0.6000, 0.1111, 3.0000],\n",
       "        [1.0000, 0.0400, 3.0000],\n",
       "        [1.2000, 0.0278, 3.0000]])"
      ]
     },
     "execution_count": 12,
     "metadata": {},
     "output_type": "execute_result"
    }
   ],
   "source": []
  },
  {
   "cell_type": "code",
   "execution_count": 8,
   "metadata": {},
   "outputs": [
    {
     "data": {
      "text/plain": [
       "10"
      ]
     },
     "execution_count": 8,
     "metadata": {},
     "output_type": "execute_result"
    }
   ],
   "source": [
    "len(range(10))"
   ]
  },
  {
   "cell_type": "code",
   "execution_count": null,
   "metadata": {},
   "outputs": [],
   "source": []
  }
 ],
 "metadata": {
  "kernelspec": {
   "display_name": "Python 3",
   "language": "python",
   "name": "python3"
  },
  "language_info": {
   "codemirror_mode": {
    "name": "ipython",
    "version": 3
   },
   "file_extension": ".py",
   "mimetype": "text/x-python",
   "name": "python",
   "nbconvert_exporter": "python",
   "pygments_lexer": "ipython3",
   "version": "3.7.6"
  }
 },
 "nbformat": 4,
 "nbformat_minor": 4
}
