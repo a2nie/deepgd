{
 "cells": [
  {
   "cell_type": "markdown",
   "metadata": {
    "id": "wZtYFEhHoBGp"
   },
   "source": [
    "# Import libraries"
   ]
  },
  {
   "cell_type": "code",
   "execution_count": 1,
   "metadata": {
    "id": "KJPfzpxLQI5O"
   },
   "outputs": [],
   "source": [
    "%load_ext autoreload\n",
    "%autoreload 2\n",
    "from deepgd import *"
   ]
  },
  {
   "cell_type": "markdown",
   "metadata": {
    "id": "z4eBEyB1oaJe"
   },
   "source": [
    "# Config"
   ]
  },
  {
   "cell_type": "code",
   "execution_count": 2,
   "metadata": {
    "id": "Q_-MLFhpNvxF"
   },
   "outputs": [],
   "source": [
    "cuda_idx = 0\n",
    "canonicalization = Canonicalization(normalize=Standardization(norm_ord=1),\n",
    "                                    scale=False)\n",
    "config = StaticConfig({\n",
    "    \"name\": 'GAN(gan=rgan,data=best(xing,stress),dis=deep,share=12,embed=4,gp=0,lr=1e-2,decay=.98)',\n",
    "    \"uid\": None,\n",
    "    \"link\": None,\n",
    "    \"generator\": {\n",
    "        \"params\": {\n",
    "            \"num_blocks\": 9,\n",
    "            \"normalize\": canonicalization\n",
    "        },\n",
    "        \"pretrained\": {\n",
    "            \"name\": None,\n",
    "            \"epoch\": -1,\n",
    "        },\n",
    "        \"optim\": torch.optim.AdamW,\n",
    "        \"lr\" : {\n",
    "            \"initial\": 1e-2,\n",
    "            \"decay\": 0.98,\n",
    "        },\n",
    "    },\n",
    "    \"discriminator\": {\n",
    "        \"params\": {\n",
    "            \"conv\": [2, 16, 16, 16],\n",
    "            \"dense\": [2],\n",
    "            \"shared_depth\": 12,\n",
    "            \"enet_depth\": 4,\n",
    "            \"enet_width\": 64,\n",
    "            \"aggr\": \"add\",\n",
    "            \"normalize\": canonicalization\n",
    "        },\n",
    "        \"pretrained\": {\n",
    "            \"name\": None,\n",
    "            \"epoch\": -1,\n",
    "        },\n",
    "        \"optim\": torch.optim.AdamW,\n",
    "        \"lr\" : {\n",
    "            \"initial\": 1e-2,\n",
    "            \"decay\": 0.98,\n",
    "        },\n",
    "        \"noise\": {\n",
    "            \"std\": 0,\n",
    "            \"decay\": 0.95,\n",
    "        },\n",
    "        \"repeat\": 1,\n",
    "        \"complete\": True,\n",
    "        \"adaptive\": True\n",
    "    },\n",
    "    \"alternate\": \"epoch\",\n",
    "    \"batchsize\": 24,\n",
    "    \"epoch\": {\n",
    "        \"start\": -1,\n",
    "        \"end\": None,\n",
    "    },\n",
    "    \"log_interval\": 1,\n",
    "    \"test\": {\n",
    "        \"name\": \"test\",\n",
    "        \"epoch\": -1,\n",
    "    },\n",
    "    \"gan_flavor\": \"rgan\",\n",
    "    \"gp_weight\": 0,\n",
    "})\n",
    "data_config = StaticConfig({\n",
    "    \"sparse\": False,\n",
    "    \"pivot\": None,\n",
    "    \"init\": \"pmds\",\n",
    "    \"edge\": {\n",
    "        \"index\": \"full_edge_index\",\n",
    "        \"attr\": \"full_edge_attr\",\n",
    "    },\n",
    "})\n",
    "loss_fns = {\n",
    "    Stress(): 1\n",
    "}\n",
    "ctrler_params = {\n",
    "    \"tau\": 0.95,\n",
    "    \"beta\": 1,\n",
    "    \"exploit_rate\": 0.5,\n",
    "    \"warmup\": 2,\n",
    "}\n",
    "paths = StaticConfig({\n",
    "    \"root\": \"artifacts\",\n",
    "    \"checkpoints\": lambda: f\"{paths.root}/checkpoints/{config.name}\",\n",
    "    \"gen_pretrain\": lambda: f\"{paths.root}/checkpoints/{config.generator.pretrained.name}\",\n",
    "    \"dis_pretrain\": lambda: f\"{paths.root}/checkpoints/{config.discriminator.pretrained.name}\",\n",
    "    \"tensorboard\": lambda: f\"{paths.root}/tensorboards/{config.name}\",\n",
    "    \"visualization\": lambda: f\"{paths.root}/visualizations/{config.name}_{config.test.name}\",\n",
    "    \"log\": lambda: f\"{paths.root}/logs/{config.name}.log\",\n",
    "    \"metrics\": lambda suffix: f\"{paths.root}/metrics/{config.name}_{suffix}.pickle\",\n",
    "})"
   ]
  },
  {
   "cell_type": "code",
   "execution_count": 3,
   "metadata": {
    "id": "mdMEAbH10Qaq"
   },
   "outputs": [],
   "source": [
    "if \" \" in config.name:\n",
    "    raise Exception(\"Space is not allowed in model name.\")"
   ]
  },
  {
   "cell_type": "markdown",
   "metadata": {
    "id": "WynW4ZAdBhep"
   },
   "source": [
    "# Prepare"
   ]
  },
  {
   "cell_type": "markdown",
   "metadata": {
    "id": "DR6-vYtr_i_P"
   },
   "source": [
    "## Get log command"
   ]
  },
  {
   "cell_type": "code",
   "execution_count": 4,
   "metadata": {
    "colab": {
     "base_uri": "https://localhost:8080/"
    },
    "id": "9-QpinlslcTO",
    "outputId": "48ae3716-212c-4d46-9efb-b7b4070f73de"
   },
   "outputs": [
    {
     "name": "stdout",
     "output_type": "stream",
     "text": [
      "cd /users/PAS0027/osu10203/deepgd && tail -n1000 -f 'artifacts/logs/GAN(gan=rgan,data=best(xing,stress),dis=deep,share=12,embed=4,gp=0,lr=1e-2,decay=.98).log'\n"
     ]
    }
   ],
   "source": [
    "print(f\"cd {os.getcwd()} && tail -n1000 -f '{paths.log()}'\")"
   ]
  },
  {
   "cell_type": "code",
   "execution_count": 5,
   "metadata": {},
   "outputs": [
    {
     "name": "stdout",
     "output_type": "stream",
     "text": [
      "tensorboard dev upload --logdir 'artifacts/tensorboards/GAN(gan=rgan,data=best(xing,stress),dis=deep,share=12,embed=4,gp=0,lr=1e-2,decay=.98)'\n"
     ]
    }
   ],
   "source": [
    "print(f\"tensorboard dev upload --logdir '{paths.tensorboard()}'\")"
   ]
  },
  {
   "cell_type": "markdown",
   "metadata": {
    "id": "innqkwvH_ydD"
   },
   "source": [
    "## Set globals"
   ]
  },
  {
   "cell_type": "code",
   "execution_count": 6,
   "metadata": {
    "id": "Qjq7JlSZlkQR"
   },
   "outputs": [],
   "source": [
    "if cuda_idx is not None and torch.cuda.is_available():\n",
    "    device = f'cuda:{cuda_idx}'\n",
    "    pynvml.nvmlInit()\n",
    "    cuda = pynvml.nvmlDeviceGetHandleByIndex(cuda_idx)\n",
    "else:\n",
    "    device = 'cpu'\n",
    "    cuda =  None\n",
    "np.set_printoptions(precision=2)\n",
    "warnings.filterwarnings(\"ignore\", category=RuntimeWarning)"
   ]
  },
  {
   "cell_type": "markdown",
   "metadata": {
    "id": "0da286l_ApEL"
   },
   "source": [
    "## Load data"
   ]
  },
  {
   "cell_type": "code",
   "execution_count": 7,
   "metadata": {
    "colab": {
     "base_uri": "https://localhost:8080/"
    },
    "id": "RFuSHiZJMU4x",
    "outputId": "54065609-aaea-4536-d79c-73bc73b3f576"
   },
   "outputs": [
    {
     "name": "stdout",
     "output_type": "stream",
     "text": [
      "Load from 'cache/G_list.pickle'\n",
      "Load from 'cache/generate_data_list(list,sparse=False,pivot_mode=None,init_mode=pmds,edge_index=full_edge_index,edge_attr=full_edge_attr,pmds_list=ndarray,gviz_list=ndarray,noisy_layout=True,device=cpu).pickle'\n"
     ]
    },
    {
     "name": "stderr",
     "output_type": "stream",
     "text": [
      "/users/PAS0027/osu10203/.conda/envs/deepgd/lib/python3.9/site-packages/torch_geometric/deprecation.py:13: UserWarning: 'data.DataLoader' is deprecated, use 'loader.DataLoader' instead\n",
      "  warnings.warn(out)\n"
     ]
    }
   ],
   "source": [
    "G_list = load_G_list(data_path='data/rome', index_file='data_index.txt', cache='G_list', cache_prefix='cache/')\n",
    "data_list = generate_data_list(G_list, \n",
    "                               sparse=data_config.sparse, \n",
    "                               pivot_mode=data_config.pivot,\n",
    "                               init_mode=data_config.init,\n",
    "                               edge_index=data_config.edge.index,\n",
    "                               edge_attr=data_config.edge.attr,\n",
    "                               pmds_list=np.load('layouts/rome/pmds.npy', allow_pickle=True),\n",
    "                               gviz_list=np.load('layouts/rome/gviz.npy', allow_pickle=True),\n",
    "                               noisy_layout=True,\n",
    "                               device='cpu', \n",
    "                               cache=True,\n",
    "                               cache_prefix='cache/')\n",
    "train_loader = LazyDeviceMappingDataLoader(data_list[:10000], batch_size=config.batchsize, shuffle=True, device=device)\n",
    "val_loader = LazyDeviceMappingDataLoader(data_list[11000:], batch_size=config.batchsize, shuffle=False, device=device)"
   ]
  },
  {
   "cell_type": "code",
   "execution_count": 8,
   "metadata": {
    "id": "djd1pLt2OxZq"
   },
   "outputs": [],
   "source": [
    "def draw_layout(G, method, draw=True):\n",
    "    if method == 'fa2':\n",
    "        layout = get_fa2_layout(G)\n",
    "    else:\n",
    "        try:\n",
    "            fn = getattr(nx.drawing.layout, f'{method}_layout')\n",
    "            layout = fn(G)\n",
    "        except:\n",
    "            layout = nx.drawing.nx_agraph.graphviz_layout(G, prog=method)\n",
    "    if draw:\n",
    "        nx.draw(G, pos=layout)\n",
    "    return layout"
   ]
  },
  {
   "cell_type": "code",
   "execution_count": 9,
   "metadata": {
    "id": "2vBBw77lR7Em"
   },
   "outputs": [],
   "source": [
    "methods = ['neato', 'dot', 'fdp', 'sfdp', 'twopi', 'circo', 'shell', 'spring', 'circular', 'spectral', 'kamada_kawai', 'fa2', 'pmds']"
   ]
  },
  {
   "cell_type": "code",
   "execution_count": 10,
   "metadata": {
    "id": "dx6VVA9XIc2O"
   },
   "outputs": [],
   "source": [
    "from functools import lru_cache\n",
    "\n",
    "@lru_cache(maxsize=None)\n",
    "def load_pos(method):\n",
    "    return np.load(f'layouts/rome/{method}.npy', allow_pickle=True)"
   ]
  },
  {
   "cell_type": "code",
   "execution_count": 11,
   "metadata": {
    "colab": {
     "base_uri": "https://localhost:8080/",
     "height": 1000,
     "referenced_widgets": [
      "05a37aeeb20049dfa2f97287b3990556",
      "a75afae3adfd4810a0b0991a062535ee",
      "a24ae105ed124595992f7e2e5f909247",
      "01b4cabaf8004dd4b9269b4e6889c498",
      "f3c7c84f2b314bd8b97a7358deaf4fa1",
      "35e4a83e692b4a7bafb46fdf192b2586",
      "62847b5e2678459f845159eef6d4feab",
      "143e81f00313436dacfa246a57108944",
      "e05833f11803400b95ff22246cdc8f2b",
      "53aeede91e074378b5d7f626165655ee",
      "79a43768c1794a10a788a49e5883aa2c"
     ]
    },
    "id": "MSmP-jem9I0X",
    "outputId": "c698f0bf-e96e-4de9-aeda-0b046fc0a03f",
    "scrolled": true,
    "tags": []
   },
   "outputs": [],
   "source": [
    "# best_list = []\n",
    "# best_layout_list = []\n",
    "# for idx, (G, data) in enumerate(zip(tqdm(G_list), data_list)):\n",
    "#     xing, stress, layout = {}, {}, {}\n",
    "#     for m in methods:\n",
    "#         batch = Batch.from_data_list([data])\n",
    "#         pos = load_pos(m)\n",
    "#         p = CanonicalizationByStress()(torch.tensor(pos[idx]).float(), batch)\n",
    "#         x = Xing()(p, batch).item()\n",
    "#         s = Stress()(p, batch).item()\n",
    "#         xing[m] = x\n",
    "#         stress[m] = s\n",
    "#         layout[m] = p.numpy()\n",
    "#         # plt.figure()\n",
    "#         # graph_vis(G, pos[idx])\n",
    "#         # plt.title(f'{m} stress={s:.2f} xing={x}')\n",
    "#     best, *_ = sorted(methods, key=lambda m: (xing[m], stress[m]))\n",
    "#     best_list.append(best)\n",
    "#     best_layout_list.append(layout[best])\n",
    "#     print(f'{best}, xing={xing[best]}, stress={stress[best]:.2f}')"
   ]
  },
  {
   "cell_type": "code",
   "execution_count": 12,
   "metadata": {
    "colab": {
     "base_uri": "https://localhost:8080/"
    },
    "id": "Mx2bZNugdTqa",
    "outputId": "cec05a67-18e8-492f-aaa1-057274a8341a"
   },
   "outputs": [],
   "source": [
    "# pickle.dump(best_list, open('layouts/rome/best[xing,stress].pkl', 'wb'))\n",
    "# np.save('layouts/rome/best[xing,stress].npy', best_layout_list)"
   ]
  },
  {
   "cell_type": "code",
   "execution_count": 13,
   "metadata": {
    "colab": {
     "base_uri": "https://localhost:8080/",
     "height": 49,
     "referenced_widgets": [
      "7e0ae84dd0f3458d893c81b029fe1729",
      "18bdc3bf80fb434abde68de5b72a8870",
      "2e3552ded9594635a51832387ae754a0",
      "54f4aa5080c6498080a63be2cdeefee5",
      "3937586d0879451da5e2138ca3bfd0a0",
      "a9df6e84ce8c499eb2b2cf984995d791",
      "7af6b718dd3d4e01b264377a2fa938e2",
      "a774c86e64004bd6951645f1c24abad4",
      "c86575117cd041f2837762f37d1f387b",
      "6e9907cefb1241688fbd248b8281ed9f",
      "9b8e5405d8264944acab57e81f2f5ad6"
     ]
    },
    "id": "A1-w1fspC53p",
    "outputId": "09c2d5c3-1eef-41eb-dcee-581af1294804"
   },
   "outputs": [
    {
     "data": {
      "application/vnd.jupyter.widget-view+json": {
       "model_id": "973062fb5beb4f4f9f1f9abbe31c35d2",
       "version_major": 2,
       "version_minor": 0
      },
      "text/plain": [
       "  0%|          | 0/11531 [00:00<?, ?it/s]"
      ]
     },
     "metadata": {},
     "output_type": "display_data"
    }
   ],
   "source": [
    "best_layout_list = np.load('layouts/rome/best[xing,stress].npy', allow_pickle=True)\n",
    "for data, layout in zip(tqdm(data_list), best_layout_list):\n",
    "    data.gt_pos = torch.tensor(layout)"
   ]
  },
  {
   "cell_type": "code",
   "execution_count": 14,
   "metadata": {
    "id": "y6EGh4U7exL_"
   },
   "outputs": [],
   "source": [
    "train_loader = LazyDeviceMappingDataLoader(data_list[:10000], batch_size=config.batchsize, shuffle=True, device=device)\n",
    "val_loader = LazyDeviceMappingDataLoader(data_list[11000:], batch_size=config.batchsize, shuffle=False, device=device)"
   ]
  },
  {
   "cell_type": "code",
   "execution_count": 15,
   "metadata": {
    "colab": {
     "base_uri": "https://localhost:8080/",
     "height": 103,
     "referenced_widgets": [
      "38a33cf69aff48f4aabd4902a7ce48b1",
      "57e277bcb44c4e2fa2a12105d75153d1",
      "20ce017c46bd4a7c9b420270ac579405",
      "13f2df4fe0ce4af88b6e3bd1637065b0",
      "2867faa145ca4860a198d4d0bf830f89",
      "02838cf669174ed9afa41a1a8e680765",
      "7e9e3c031667455f8baca163d3a213e5",
      "4000135e7dfa46529fa6244fccc5cb57",
      "e523e9faac5b4ec38643c05ac5ba99f7",
      "e8e3ee9741e4480dae5003ccc19a7891",
      "9a569045221b43acb3ba2fbf116b2c74"
     ]
    },
    "id": "YEfRRUK0NiNm",
    "outputId": "93f53d05-7667-4cda-a38e-c3a953124f79"
   },
   "outputs": [],
   "source": [
    "# for m in methods:\n",
    "#     layouts = []\n",
    "#     for G in tqdm(G_list):\n",
    "#         layout = draw_layout(G, method=m, draw=False)\n",
    "#         layouts.append(np.array(list(layout.values())))\n",
    "#     np.save(f'layouts/rome/{m}.npy', layouts)"
   ]
  },
  {
   "cell_type": "code",
   "execution_count": 16,
   "metadata": {
    "colab": {
     "base_uri": "https://localhost:8080/",
     "height": 564
    },
    "id": "upK7AHYqPmC5",
    "outputId": "29a88e61-f55f-409c-9194-12c6d5762528"
   },
   "outputs": [],
   "source": [
    "# from collections import Counter\n",
    "\n",
    "# letter_counts = Counter(best_list)\n",
    "# df = pd.DataFrame.from_dict(letter_counts, orient='index')\n",
    "# df.plot(kind='bar', figsize=[12, 8])"
   ]
  },
  {
   "cell_type": "markdown",
   "metadata": {
    "id": "f-ODE2k8BFV6"
   },
   "source": [
    "## Create folders"
   ]
  },
  {
   "cell_type": "code",
   "execution_count": 17,
   "metadata": {
    "id": "3ykUMINYBRog"
   },
   "outputs": [],
   "source": [
    "mkdirs(paths.checkpoints(), paths.tensorboard(), paths.visualization(), f\"{paths.root}/logs\", f\"{paths.root}/metrics\")"
   ]
  },
  {
   "cell_type": "markdown",
   "metadata": {
    "id": "BFq9k5nzBIh5"
   },
   "source": [
    "## Load checkpoints"
   ]
  },
  {
   "cell_type": "code",
   "execution_count": 18,
   "metadata": {
    "id": "W5NbsKkobIfA"
   },
   "outputs": [],
   "source": [
    "class EdgeFeatureDiscriminator(nn.Module):\n",
    "    def __init__(self, \n",
    "                 conv, \n",
    "                 dense,\n",
    "                 shared_depth,\n",
    "                 enet_depth,\n",
    "                 enet_width,\n",
    "                 aggr='add', \n",
    "                 root_weight=True,\n",
    "                 normalize=None):\n",
    "        super().__init__()\n",
    "        self.enet = nn.Sequential(*[\n",
    "            DenseLayer(in_dim=in_d,\n",
    "                       out_dim=out_d,\n",
    "                       skip=nonlin,\n",
    "                       bn=nonlin,\n",
    "                       act=nonlin,\n",
    "                       dp=None)\n",
    "            for in_d, out_d, nonlin \n",
    "            in zip([self._get_feature_dim()] + [enet_width] * (shared_depth-1),\n",
    "                   [enet_width] * shared_depth,\n",
    "                   [True] * (shared_depth-1) + [False])     \n",
    "        ])\n",
    "        self.blocks = nn.ModuleList([\n",
    "            GNNLayer(nfeat_dims=(in_d, out_d),\n",
    "                     efeat_dim=enet_width,\n",
    "                     edge_net=EdgeNet(nfeat_dims=(in_d, out_d), \n",
    "                                      efeat_dim=enet_width, \n",
    "                                      depth=enet_depth, \n",
    "                                      width=enet_width),\n",
    "                     aggr=aggr,\n",
    "                     dense=False,\n",
    "                     skip=nonlin,\n",
    "                     bn=nonlin,\n",
    "                     act=nonlin,\n",
    "                     root_weight=root_weight) \n",
    "            for in_d, out_d, nonlin \n",
    "            in zip(conv[:-1], conv[1:], [True] * (len(conv)-2) + [False])     \n",
    "        ])\n",
    "        self.pool = (gnn.global_mean_pool if aggr == 'mean' \n",
    "                     else gnn.global_add_pool if aggr == 'add' \n",
    "                     else None)\n",
    "        self.dense = nn.Identity() if not dense else nn.Sequential(*[\n",
    "            DenseLayer(in_dim=in_d,\n",
    "                       out_dim=out_d,\n",
    "                       skip=nonlin,\n",
    "                       bn=nonlin,\n",
    "                       act=nonlin,\n",
    "                       dp=None)\n",
    "            for in_d, out_d, nonlin \n",
    "            in zip(conv[-1:] + dense[:-1], dense, [True] * (len(dense)-1) + [False])     \n",
    "        ])\n",
    "        self.normalize = normalize or IdentityTransformation()\n",
    "    \n",
    "    def forward(self, batch):\n",
    "        x = torch.ones_like(batch.pos)\n",
    "        e = self.enet(self._get_features(self._get_edge_info(batch, layout='pos')))\n",
    "        for block in self.blocks:\n",
    "            x = block(x, e, batch)\n",
    "        x = self.pool(x, batch.batch)\n",
    "        x = self.dense(x)\n",
    "        return x\n",
    "    \n",
    "    def _get_edge_info(self, batch, layout='gt_pos'):\n",
    "        pos = self.normalize(batch[layout].float(), batch)\n",
    "        src, dst = get_edges(pos, batch)\n",
    "        v, u = l2_normalize(dst - src, return_norm=True)\n",
    "        d = batch.edge_attr[:, :1]\n",
    "        return {\n",
    "            \"src\": src,\n",
    "            \"dst\": dst,\n",
    "            \"v\": v,\n",
    "            \"u\": u,\n",
    "            \"d\": d,\n",
    "        }\n",
    "\n",
    "    def _get_features(self, edges):\n",
    "        return torch.cat([edges['src'], edges['dst'], edges['d']], dim=1)\n",
    "        \n",
    "    def _get_feature_dim(self):\n",
    "        return self._get_features({\n",
    "            \"src\": torch.zeros(1, 2),\n",
    "            \"dst\": torch.zeros(1, 2),\n",
    "            \"v\": torch.zeros(1, 2),\n",
    "            \"u\": torch.zeros(1, 1),\n",
    "            \"d\": torch.zeros(1, 1),\n",
    "        }).shape[-1]"
   ]
  },
  {
   "cell_type": "code",
   "execution_count": 19,
   "metadata": {
    "id": "96ZActxlL0fJ"
   },
   "outputs": [],
   "source": [
    "class StressDiscriminator(nn.Module):\n",
    "    def __init__(self, normalize=CanonicalizationByStress(), **kwargs):\n",
    "        super().__init__()\n",
    "        self.dummy = nn.Parameter(torch.zeros(1))\n",
    "        self.normalize = normalize\n",
    "        self.stress = Stress(reduce=None)\n",
    "\n",
    "    def forward(self, batch):\n",
    "        return -self.stress(self.normalize(batch.pos, batch), batch)"
   ]
  },
  {
   "cell_type": "code",
   "execution_count": 20,
   "metadata": {
    "id": "IJ6xCYBUuhcw"
   },
   "outputs": [],
   "source": [
    "def get_ckpt_epoch(folder, epoch):\n",
    "    if not os.path.isdir(folder):\n",
    "        os.mkdir(folder)\n",
    "    if epoch >= 0:\n",
    "        return epoch\n",
    "    ckpt_files = os.listdir(folder)\n",
    "    last_epoch = 0\n",
    "    if ckpt_files:\n",
    "        last_epoch = sorted(list(map(lambda x: int(re.search('(?<=epoch_)(\\d+)(?=\\.)', x).group(1)), ckpt_files)))[-1]\n",
    "    return last_epoch + epoch + 1\n",
    "\n",
    "def start_epoch():\n",
    "    return get_ckpt_epoch(paths.checkpoints(), config.epoch.start)"
   ]
  },
  {
   "cell_type": "code",
   "execution_count": 21,
   "metadata": {
    "colab": {
     "base_uri": "https://localhost:8080/"
    },
    "id": "JacDYXka9U01",
    "outputId": "ef4e31ab-2144-497c-8e4f-4d3740ce2d52"
   },
   "outputs": [
    {
     "name": "stdout",
     "output_type": "stream",
     "text": [
      "Loading from artifacts/checkpoints/GAN(gan=rgan,data=best(xing,stress),dis=deep,share=12,embed=4,gp=0,lr=1e-2,decay=.98)/gen_epoch_1186.pt...\n",
      "Loading from artifacts/checkpoints/GAN(gan=rgan,data=best(xing,stress),dis=deep,share=12,embed=4,gp=0,lr=1e-2,decay=.98)/gen_optim_epoch_1186.pt...\n"
     ]
    }
   ],
   "source": [
    "generator = Generator(**config.generator.params[...]).to(device)\n",
    "generator_optimizer = config.generator.optim(generator.parameters(), lr=config.generator.lr.initial * config.generator.lr.decay ** start_epoch())\n",
    "generator_scheduler = torch.optim.lr_scheduler.ExponentialLR(generator_optimizer, gamma=config.generator.lr.decay)\n",
    "if start_epoch() != 0:\n",
    "    gen_ckpt_epoch = start_epoch()\n",
    "elif config.generator.pretrained.name is not None and config.generator.pretrained.epoch != 0:\n",
    "    gen_pretrained_epoch = get_ckpt_epoch(paths.gen_pretrain(), config.generator.pretrained.epoch)\n",
    "    gen_ckpt_epoch = gen_pretrained_epoch \n",
    "else:\n",
    "    gen_ckpt_epoch = None\n",
    "if gen_ckpt_epoch is not None:\n",
    "    # Load generator\n",
    "    gen_ckpt_file = f\"{paths.checkpoints()}/gen_epoch_{gen_ckpt_epoch}.pt\"\n",
    "    print(f\"Loading from {gen_ckpt_file}...\")\n",
    "    generator.load_state_dict(torch.load(gen_ckpt_file, map_location=torch.device(device)))\n",
    "    # Load generator optimizer\n",
    "    gen_optim_ckpt_file = f\"{paths.checkpoints()}/gen_optim_epoch_{gen_ckpt_epoch}.pt\"\n",
    "    print(f\"Loading from {gen_optim_ckpt_file}...\")\n",
    "    generator_optimizer.load_state_dict(torch.load(gen_optim_ckpt_file, map_location=torch.device(device)))"
   ]
  },
  {
   "cell_type": "code",
   "execution_count": 22,
   "metadata": {
    "colab": {
     "base_uri": "https://localhost:8080/"
    },
    "id": "oWQhD7-88VXe",
    "outputId": "3ba01600-b546-4e45-a6bd-c7a65af1ae9e"
   },
   "outputs": [
    {
     "name": "stdout",
     "output_type": "stream",
     "text": [
      "Loading from artifacts/checkpoints/GAN(gan=rgan,data=best(xing,stress),dis=deep,share=12,embed=4,gp=0,lr=1e-2,decay=.98)/dis_epoch_1186.pt...\n",
      "Loading from artifacts/checkpoints/GAN(gan=rgan,data=best(xing,stress),dis=deep,share=12,embed=4,gp=0,lr=1e-2,decay=.98)/dis_optim_epoch_1186.pt...\n"
     ]
    }
   ],
   "source": [
    "discriminator = EdgeFeatureDiscriminator(**config.discriminator.params[...]).to(device)\n",
    "discriminator_optimizer = config.discriminator.optim(discriminator.parameters(), lr=config.discriminator.lr.initial * config.discriminator.lr.decay ** start_epoch())\n",
    "discriminator_scheduler = torch.optim.lr_scheduler.ExponentialLR(discriminator_optimizer, gamma=config.discriminator.lr.decay)\n",
    "if start_epoch() != 0:\n",
    "    dis_ckpt_epoch = start_epoch()\n",
    "elif config.discriminator.pretrained.name is not None and config.discriminator.pretrained.epoch != 0:\n",
    "    dis_pretrained_epoch = get_ckpt_epoch(paths.dis_pretrain(), config.discriminator.pretrained.epoch)\n",
    "    dis_ckpt_epoch = dis_pretrained_epoch # f\"{paths.dis_pretrain()}/dis_epoch_{dis_pretrained_epoch}.pt\"\n",
    "else:\n",
    "    dis_ckpt_epoch = None\n",
    "if dis_ckpt_epoch is not None:\n",
    "    # Load discriminator\n",
    "    dis_ckpt_file = f\"{paths.checkpoints()}/dis_epoch_{dis_ckpt_epoch}.pt\"\n",
    "    print(f\"Loading from {dis_ckpt_file}...\")\n",
    "    discriminator.load_state_dict(torch.load(dis_ckpt_file, map_location=torch.device(device)))\n",
    "    # Load discriminator optimizer\n",
    "    dis_optim_ckpt_file = f\"{paths.checkpoints()}/dis_optim_epoch_{dis_ckpt_epoch}.pt\"\n",
    "    print(f\"Loading from {dis_optim_ckpt_file}...\")\n",
    "    discriminator_optimizer.load_state_dict(torch.load(dis_optim_ckpt_file, map_location=torch.device(device)))"
   ]
  },
  {
   "cell_type": "markdown",
   "metadata": {
    "id": "N39dDHraedM6"
   },
   "source": [
    "# Train"
   ]
  },
  {
   "cell_type": "code",
   "execution_count": 23,
   "metadata": {
    "id": "BdIJSDSJedM-"
   },
   "outputs": [],
   "source": [
    "stress_criterion = StressDiscriminator().to(device)\n",
    "val_criterion = Stress(reduce=None)\n",
    "xing_criterion = Xing(reduce=None)\n",
    "dis_convert = DiscriminatorDataConverter(complete_graph=config.discriminator.complete, normalize=config.discriminator.params.normalize)\n",
    "tensorboard = SummaryWriter(log_dir=paths.tensorboard())\n",
    "epoch = start_epoch() + 1"
   ]
  },
  {
   "cell_type": "code",
   "execution_count": 24,
   "metadata": {
    "id": "OHRWj1h0edM-"
   },
   "outputs": [],
   "source": [
    "def gradient_penalty(interpolated, discriminator, weight=10):\n",
    "    interpolated.pos.requires_grad_()\n",
    "    prob_interpolated = discriminator(interpolated)\n",
    "    gradients = autograd.grad(outputs=prob_interpolated, \n",
    "                              inputs=interpolated.pos,\n",
    "                              grad_outputs=torch.ones_like(prob_interpolated),\n",
    "                              create_graph=True, \n",
    "                              retain_graph=True, \n",
    "                              allow_unused=True)[0]\n",
    "    gradients_norm = torch.sqrt(gnn.global_add_pool(gradients.square().sum(dim=1), batch.batch) + 1e-8)\n",
    "    return weight * ((gradients_norm - 1) ** 2).mean()"
   ]
  },
  {
   "cell_type": "code",
   "execution_count": 25,
   "metadata": {
    "id": "o5wJJN9AedM_"
   },
   "outputs": [],
   "source": [
    "def get_gp_loss(batch, fake_pos, weight):\n",
    "    if weight > 0:\n",
    "        interp = dis_convert(batch, fake_pos, random.random())\n",
    "        return gradient_penalty(interp, discriminator, weight).mean()\n",
    "    return 0"
   ]
  },
  {
   "cell_type": "code",
   "execution_count": 26,
   "metadata": {
    "id": "QwuA6sRoedM_"
   },
   "outputs": [],
   "source": [
    "def get_sgan_loss(batch, fake_pos, mode='discriminator'):\n",
    "    real = dis_convert(batch)\n",
    "    fake = dis_convert(batch, fake_pos)\n",
    "    pred = discriminator(merge_batch(real, fake)).view(2, -1).T\n",
    "    if mode == 'discriminator':\n",
    "        label = torch.zeros(pred.shape[0]).long()\n",
    "    elif mode == 'generator':\n",
    "        label = torch.ones(pred.shape[0]).long()\n",
    "    else:\n",
    "        raise Exception\n",
    "    return nn.CrossEntropyLoss()(pred, label)"
   ]
  },
  {
   "cell_type": "code",
   "execution_count": 27,
   "metadata": {
    "id": "GuAP1YchedNA"
   },
   "outputs": [],
   "source": [
    "def get_rgan_loss(batch, fake_pos, mode='discriminator'):\n",
    "    real = dis_convert(batch)\n",
    "    fake = dis_convert(batch, fake_pos)\n",
    "    pred = discriminator(merge_batch(real, fake)).view(2, -1).T\n",
    "    real_pred, fake_pred = pred[:,0], pred[:,1]\n",
    "    if mode == 'discriminator':\n",
    "        losses = - F.logsigmoid(real_pred - fake_pred)\n",
    "    elif mode == 'generator':\n",
    "        losses = - F.logsigmoid(fake_pred - real_pred)\n",
    "    else:\n",
    "        raise Exception\n",
    "    return losses.mean()"
   ]
  },
  {
   "cell_type": "code",
   "execution_count": 28,
   "metadata": {
    "id": "KFllQ7BredNA"
   },
   "outputs": [],
   "source": [
    "def get_wgan_loss(batch, fake_pos, mode='discriminator'):\n",
    "    real = dis_convert(batch)\n",
    "    fake = dis_convert(batch, fake_pos)\n",
    "    pred = discriminator(merge_batch(real, fake)).view(2, -1).T\n",
    "    real_pred, fake_pred = pred[:,0], pred[:,1]\n",
    "    if mode == 'discriminator':\n",
    "        losses = fake_pred - real_pred \n",
    "    elif mode == 'generator':\n",
    "        losses = real_pred - fake_pred\n",
    "    else:\n",
    "        raise Exception\n",
    "    return losses.mean()"
   ]
  },
  {
   "cell_type": "code",
   "execution_count": 29,
   "metadata": {
    "id": "r5Kg_tYEedNA"
   },
   "outputs": [],
   "source": [
    "def get_ragan_loss(batch, fake_pos, mode='discriminator'):\n",
    "    real = dis_convert(batch)\n",
    "    fake = dis_convert(batch, fake_pos)\n",
    "    pred = discriminator(merge_batch(real, fake)).view(2, -1).T\n",
    "    real_pred, fake_pred = pred[:,0], pred[:,1]\n",
    "    if mode == 'discriminator':\n",
    "        losses = - F.logsigmoid(real_pred - fake_pred.mean()) - F.logsigmoid(real_pred.mean() - fake_pred)\n",
    "    elif mode == 'generator':\n",
    "        losses = - F.logsigmoid(fake_pred - real_pred.mean()) - F.logsigmoid(fake_pred.mean() - real_pred)\n",
    "    else:\n",
    "        raise Exception\n",
    "    return losses.mean()"
   ]
  },
  {
   "cell_type": "code",
   "execution_count": 30,
   "metadata": {},
   "outputs": [],
   "source": [
    "def get_dgdv2_loss(batch, fake_pos, mode='discriminator'):\n",
    "    fake = dis_convert(batch, fake_pos)\n",
    "    pred = discriminator(fake)\n",
    "    if mode == 'discriminator':\n",
    "        gt = get_gt(batch, fake_pos)\n",
    "        loss = criterion(pred, gt)\n",
    "    elif mode == 'generator':\n",
    "        losses = pred.sum(dim=0)\n",
    "#         losses = torch.tensor(config.importance).to(device) * losses #/ losses.detach()\n",
    "        loss = losses.sum()\n",
    "    else:\n",
    "        raise Exception\n",
    "    return -loss"
   ]
  },
  {
   "cell_type": "code",
   "execution_count": 31,
   "metadata": {
    "id": "3IE_84f-edNB"
   },
   "outputs": [],
   "source": [
    "def get_gan_loss(batch, fake_pos, mode='discriminator'):\n",
    "    return {\"sgan\": get_sgan_loss,\n",
    "            \"wgan\": get_wgan_loss,\n",
    "            \"rgan\": get_rgan_loss,\n",
    "            \"ragan\": get_ragan_loss,\n",
    "            \"dgdv2\": get_dgdv2_loss}[config.gan_flavor](batch, fake_pos, mode)"
   ]
  },
  {
   "cell_type": "code",
   "execution_count": 32,
   "metadata": {
    "colab": {
     "background_save": true,
     "base_uri": "https://localhost:8080/",
     "height": 80
    },
    "id": "2NjekXgkedNB",
    "outputId": "da85b2ec-c0de-459c-c0dd-7ba3519419fa",
    "scrolled": true,
    "tags": []
   },
   "outputs": [
    {
     "data": {
      "application/vnd.jupyter.widget-view+json": {
       "model_id": "8528e1027a644394b70f5e4e080f7a03",
       "version_major": 2,
       "version_minor": 0
      },
      "text/plain": [
       "Tab(children=(VBox(children=(Wrapper(), Hud())), HBox(children=(Output(),), layout=Layout(height='500px', over…"
      ]
     },
     "metadata": {},
     "output_type": "display_data"
    },
    {
     "ename": "KeyboardInterrupt",
     "evalue": "",
     "output_type": "error",
     "traceback": [
      "\u001b[0;31m---------------------------------------------------------------------------\u001b[0m",
      "\u001b[0;31mKeyboardInterrupt\u001b[0m                         Traceback (most recent call last)",
      "\u001b[0;32m/tmp/slurmtmp.5715224/ipykernel_59700/801679965.py\u001b[0m in \u001b[0;36m<module>\u001b[0;34m\u001b[0m\n\u001b[1;32m    127\u001b[0m     \u001b[0;32mfor\u001b[0m \u001b[0m_\u001b[0m \u001b[0;32min\u001b[0m \u001b[0mrange\u001b[0m\u001b[0;34m(\u001b[0m\u001b[0mconfig\u001b[0m\u001b[0;34m.\u001b[0m\u001b[0mdiscriminator\u001b[0m\u001b[0;34m.\u001b[0m\u001b[0mrepeat\u001b[0m\u001b[0;34m)\u001b[0m\u001b[0;34m:\u001b[0m\u001b[0;34m\u001b[0m\u001b[0;34m\u001b[0m\u001b[0m\n\u001b[1;32m    128\u001b[0m         \u001b[0;32mfor\u001b[0m \u001b[0mbatch\u001b[0m \u001b[0;32min\u001b[0m \u001b[0mtrain_loader\u001b[0m\u001b[0;34m:\u001b[0m\u001b[0;34m\u001b[0m\u001b[0;34m\u001b[0m\u001b[0m\n\u001b[0;32m--> 129\u001b[0;31m             \u001b[0mtrain_dis\u001b[0m\u001b[0;34m(\u001b[0m\u001b[0mbatch\u001b[0m\u001b[0;34m,\u001b[0m \u001b[0mepoch\u001b[0m\u001b[0;34m)\u001b[0m\u001b[0;34m\u001b[0m\u001b[0;34m\u001b[0m\u001b[0m\n\u001b[0m\u001b[1;32m    130\u001b[0m             \u001b[0;32mif\u001b[0m \u001b[0mconfig\u001b[0m\u001b[0;34m.\u001b[0m\u001b[0malternate\u001b[0m \u001b[0;34m==\u001b[0m \u001b[0;34m'iteration'\u001b[0m\u001b[0;34m:\u001b[0m\u001b[0;34m\u001b[0m\u001b[0;34m\u001b[0m\u001b[0m\n\u001b[1;32m    131\u001b[0m                 \u001b[0mtrain_gen\u001b[0m\u001b[0;34m(\u001b[0m\u001b[0mbatch\u001b[0m\u001b[0;34m,\u001b[0m \u001b[0mepoch\u001b[0m\u001b[0;34m)\u001b[0m\u001b[0;34m\u001b[0m\u001b[0;34m\u001b[0m\u001b[0m\n",
      "\u001b[0;32m/tmp/slurmtmp.5715224/ipykernel_59700/801679965.py\u001b[0m in \u001b[0;36mtrain_dis\u001b[0;34m(batch, epoch)\u001b[0m\n\u001b[1;32m      9\u001b[0m     \u001b[0;31m# train discriminator\u001b[0m\u001b[0;34m\u001b[0m\u001b[0;34m\u001b[0m\u001b[0m\n\u001b[1;32m     10\u001b[0m     \u001b[0mdiscriminator_loss\u001b[0m\u001b[0;34m.\u001b[0m\u001b[0mbackward\u001b[0m\u001b[0;34m(\u001b[0m\u001b[0;34m)\u001b[0m\u001b[0;34m\u001b[0m\u001b[0;34m\u001b[0m\u001b[0m\n\u001b[0;32m---> 11\u001b[0;31m     \u001b[0mdiscriminator_optimizer\u001b[0m\u001b[0;34m.\u001b[0m\u001b[0mstep\u001b[0m\u001b[0;34m(\u001b[0m\u001b[0;34m)\u001b[0m\u001b[0;34m\u001b[0m\u001b[0;34m\u001b[0m\u001b[0m\n\u001b[0m\u001b[1;32m     12\u001b[0m \u001b[0;34m\u001b[0m\u001b[0m\n\u001b[1;32m     13\u001b[0m     \u001b[0;31m# gradient penalty\u001b[0m\u001b[0;34m\u001b[0m\u001b[0;34m\u001b[0m\u001b[0m\n",
      "\u001b[0;32m~/.conda/envs/deepgd/lib/python3.9/site-packages/torch/optim/lr_scheduler.py\u001b[0m in \u001b[0;36mwrapper\u001b[0;34m(*args, **kwargs)\u001b[0m\n\u001b[1;32m     63\u001b[0m                 \u001b[0minstance\u001b[0m\u001b[0;34m.\u001b[0m\u001b[0m_step_count\u001b[0m \u001b[0;34m+=\u001b[0m \u001b[0;36m1\u001b[0m\u001b[0;34m\u001b[0m\u001b[0;34m\u001b[0m\u001b[0m\n\u001b[1;32m     64\u001b[0m                 \u001b[0mwrapped\u001b[0m \u001b[0;34m=\u001b[0m \u001b[0mfunc\u001b[0m\u001b[0;34m.\u001b[0m\u001b[0m__get__\u001b[0m\u001b[0;34m(\u001b[0m\u001b[0minstance\u001b[0m\u001b[0;34m,\u001b[0m \u001b[0mcls\u001b[0m\u001b[0;34m)\u001b[0m\u001b[0;34m\u001b[0m\u001b[0;34m\u001b[0m\u001b[0m\n\u001b[0;32m---> 65\u001b[0;31m                 \u001b[0;32mreturn\u001b[0m \u001b[0mwrapped\u001b[0m\u001b[0;34m(\u001b[0m\u001b[0;34m*\u001b[0m\u001b[0margs\u001b[0m\u001b[0;34m,\u001b[0m \u001b[0;34m**\u001b[0m\u001b[0mkwargs\u001b[0m\u001b[0;34m)\u001b[0m\u001b[0;34m\u001b[0m\u001b[0;34m\u001b[0m\u001b[0m\n\u001b[0m\u001b[1;32m     66\u001b[0m \u001b[0;34m\u001b[0m\u001b[0m\n\u001b[1;32m     67\u001b[0m             \u001b[0;31m# Note that the returned function here is no longer a bound method,\u001b[0m\u001b[0;34m\u001b[0m\u001b[0;34m\u001b[0m\u001b[0m\n",
      "\u001b[0;32m~/.conda/envs/deepgd/lib/python3.9/site-packages/torch/optim/optimizer.py\u001b[0m in \u001b[0;36mwrapper\u001b[0;34m(*args, **kwargs)\u001b[0m\n\u001b[1;32m     86\u001b[0m                 \u001b[0mprofile_name\u001b[0m \u001b[0;34m=\u001b[0m \u001b[0;34m\"Optimizer.step#{}.step\"\u001b[0m\u001b[0;34m.\u001b[0m\u001b[0mformat\u001b[0m\u001b[0;34m(\u001b[0m\u001b[0mobj\u001b[0m\u001b[0;34m.\u001b[0m\u001b[0m__class__\u001b[0m\u001b[0;34m.\u001b[0m\u001b[0m__name__\u001b[0m\u001b[0;34m)\u001b[0m\u001b[0;34m\u001b[0m\u001b[0;34m\u001b[0m\u001b[0m\n\u001b[1;32m     87\u001b[0m                 \u001b[0;32mwith\u001b[0m \u001b[0mtorch\u001b[0m\u001b[0;34m.\u001b[0m\u001b[0mautograd\u001b[0m\u001b[0;34m.\u001b[0m\u001b[0mprofiler\u001b[0m\u001b[0;34m.\u001b[0m\u001b[0mrecord_function\u001b[0m\u001b[0;34m(\u001b[0m\u001b[0mprofile_name\u001b[0m\u001b[0;34m)\u001b[0m\u001b[0;34m:\u001b[0m\u001b[0;34m\u001b[0m\u001b[0;34m\u001b[0m\u001b[0m\n\u001b[0;32m---> 88\u001b[0;31m                     \u001b[0;32mreturn\u001b[0m \u001b[0mfunc\u001b[0m\u001b[0;34m(\u001b[0m\u001b[0;34m*\u001b[0m\u001b[0margs\u001b[0m\u001b[0;34m,\u001b[0m \u001b[0;34m**\u001b[0m\u001b[0mkwargs\u001b[0m\u001b[0;34m)\u001b[0m\u001b[0;34m\u001b[0m\u001b[0;34m\u001b[0m\u001b[0m\n\u001b[0m\u001b[1;32m     89\u001b[0m             \u001b[0;32mreturn\u001b[0m \u001b[0mwrapper\u001b[0m\u001b[0;34m\u001b[0m\u001b[0;34m\u001b[0m\u001b[0m\n\u001b[1;32m     90\u001b[0m \u001b[0;34m\u001b[0m\u001b[0m\n",
      "\u001b[0;32m~/.conda/envs/deepgd/lib/python3.9/site-packages/torch/autograd/grad_mode.py\u001b[0m in \u001b[0;36mdecorate_context\u001b[0;34m(*args, **kwargs)\u001b[0m\n\u001b[1;32m     26\u001b[0m         \u001b[0;32mdef\u001b[0m \u001b[0mdecorate_context\u001b[0m\u001b[0;34m(\u001b[0m\u001b[0;34m*\u001b[0m\u001b[0margs\u001b[0m\u001b[0;34m,\u001b[0m \u001b[0;34m**\u001b[0m\u001b[0mkwargs\u001b[0m\u001b[0;34m)\u001b[0m\u001b[0;34m:\u001b[0m\u001b[0;34m\u001b[0m\u001b[0;34m\u001b[0m\u001b[0m\n\u001b[1;32m     27\u001b[0m             \u001b[0;32mwith\u001b[0m \u001b[0mself\u001b[0m\u001b[0;34m.\u001b[0m\u001b[0m__class__\u001b[0m\u001b[0;34m(\u001b[0m\u001b[0;34m)\u001b[0m\u001b[0;34m:\u001b[0m\u001b[0;34m\u001b[0m\u001b[0;34m\u001b[0m\u001b[0m\n\u001b[0;32m---> 28\u001b[0;31m                 \u001b[0;32mreturn\u001b[0m \u001b[0mfunc\u001b[0m\u001b[0;34m(\u001b[0m\u001b[0;34m*\u001b[0m\u001b[0margs\u001b[0m\u001b[0;34m,\u001b[0m \u001b[0;34m**\u001b[0m\u001b[0mkwargs\u001b[0m\u001b[0;34m)\u001b[0m\u001b[0;34m\u001b[0m\u001b[0;34m\u001b[0m\u001b[0m\n\u001b[0m\u001b[1;32m     29\u001b[0m         \u001b[0;32mreturn\u001b[0m \u001b[0mcast\u001b[0m\u001b[0;34m(\u001b[0m\u001b[0mF\u001b[0m\u001b[0;34m,\u001b[0m \u001b[0mdecorate_context\u001b[0m\u001b[0;34m)\u001b[0m\u001b[0;34m\u001b[0m\u001b[0;34m\u001b[0m\u001b[0m\n\u001b[1;32m     30\u001b[0m \u001b[0;34m\u001b[0m\u001b[0m\n",
      "\u001b[0;32m~/.conda/envs/deepgd/lib/python3.9/site-packages/torch/optim/adamw.py\u001b[0m in \u001b[0;36mstep\u001b[0;34m(self, closure)\u001b[0m\n\u001b[1;32m    108\u001b[0m                 \u001b[0mstate_steps\u001b[0m\u001b[0;34m.\u001b[0m\u001b[0mappend\u001b[0m\u001b[0;34m(\u001b[0m\u001b[0mstate\u001b[0m\u001b[0;34m[\u001b[0m\u001b[0;34m'step'\u001b[0m\u001b[0;34m]\u001b[0m\u001b[0;34m)\u001b[0m\u001b[0;34m\u001b[0m\u001b[0;34m\u001b[0m\u001b[0m\n\u001b[1;32m    109\u001b[0m \u001b[0;34m\u001b[0m\u001b[0m\n\u001b[0;32m--> 110\u001b[0;31m             F.adamw(params_with_grad,\n\u001b[0m\u001b[1;32m    111\u001b[0m                     \u001b[0mgrads\u001b[0m\u001b[0;34m,\u001b[0m\u001b[0;34m\u001b[0m\u001b[0;34m\u001b[0m\u001b[0m\n\u001b[1;32m    112\u001b[0m                     \u001b[0mexp_avgs\u001b[0m\u001b[0;34m,\u001b[0m\u001b[0;34m\u001b[0m\u001b[0;34m\u001b[0m\u001b[0m\n",
      "\u001b[0;32m~/.conda/envs/deepgd/lib/python3.9/site-packages/torch/optim/_functional.py\u001b[0m in \u001b[0;36madamw\u001b[0;34m(params, grads, exp_avgs, exp_avg_sqs, max_exp_avg_sqs, state_steps, amsgrad, beta1, beta2, lr, weight_decay, eps)\u001b[0m\n\u001b[1;32m    130\u001b[0m         \u001b[0;31m# Decay the first and second moment running average coefficient\u001b[0m\u001b[0;34m\u001b[0m\u001b[0;34m\u001b[0m\u001b[0m\n\u001b[1;32m    131\u001b[0m         \u001b[0mexp_avg\u001b[0m\u001b[0;34m.\u001b[0m\u001b[0mmul_\u001b[0m\u001b[0;34m(\u001b[0m\u001b[0mbeta1\u001b[0m\u001b[0;34m)\u001b[0m\u001b[0;34m.\u001b[0m\u001b[0madd_\u001b[0m\u001b[0;34m(\u001b[0m\u001b[0mgrad\u001b[0m\u001b[0;34m,\u001b[0m \u001b[0malpha\u001b[0m\u001b[0;34m=\u001b[0m\u001b[0;36m1\u001b[0m \u001b[0;34m-\u001b[0m \u001b[0mbeta1\u001b[0m\u001b[0;34m)\u001b[0m\u001b[0;34m\u001b[0m\u001b[0;34m\u001b[0m\u001b[0m\n\u001b[0;32m--> 132\u001b[0;31m         \u001b[0mexp_avg_sq\u001b[0m\u001b[0;34m.\u001b[0m\u001b[0mmul_\u001b[0m\u001b[0;34m(\u001b[0m\u001b[0mbeta2\u001b[0m\u001b[0;34m)\u001b[0m\u001b[0;34m.\u001b[0m\u001b[0maddcmul_\u001b[0m\u001b[0;34m(\u001b[0m\u001b[0mgrad\u001b[0m\u001b[0;34m,\u001b[0m \u001b[0mgrad\u001b[0m\u001b[0;34m,\u001b[0m \u001b[0mvalue\u001b[0m\u001b[0;34m=\u001b[0m\u001b[0;36m1\u001b[0m \u001b[0;34m-\u001b[0m \u001b[0mbeta2\u001b[0m\u001b[0;34m)\u001b[0m\u001b[0;34m\u001b[0m\u001b[0;34m\u001b[0m\u001b[0m\n\u001b[0m\u001b[1;32m    133\u001b[0m         \u001b[0;32mif\u001b[0m \u001b[0mamsgrad\u001b[0m\u001b[0;34m:\u001b[0m\u001b[0;34m\u001b[0m\u001b[0;34m\u001b[0m\u001b[0m\n\u001b[1;32m    134\u001b[0m             \u001b[0;31m# Maintains the maximum of all 2nd moment running avg. till now\u001b[0m\u001b[0;34m\u001b[0m\u001b[0;34m\u001b[0m\u001b[0m\n",
      "\u001b[0;31mKeyboardInterrupt\u001b[0m: "
     ]
    }
   ],
   "source": [
    "def train_dis(batch, epoch):\n",
    "    generator.requires_grad_(False)\n",
    "    discriminator.zero_grad()\n",
    "    generator_output = generator(batch)\n",
    "    if config.discriminator.noise.std > 0:\n",
    "        generator_output = generator_output + torch.randn_like(generator_output) * config.discriminator.noise.std * config.discriminator.noise.decay ** epoch\n",
    "    discriminator_loss = get_gan_loss(batch, generator_output, mode='discriminator')\n",
    "    \n",
    "    # train discriminator\n",
    "    discriminator_loss.backward()\n",
    "    discriminator_optimizer.step()\n",
    "\n",
    "    # gradient penalty\n",
    "    if config.gp_weight > 0:\n",
    "        discriminator.zero_grad()\n",
    "        gp_loss = get_gp_loss(batch, generator_output, config.gp_weight)\n",
    "        gp_loss.backward()\n",
    "        discriminator_optimizer.step()\n",
    "\n",
    "    hud['dis_loss'] = format(discriminator_loss.item(), '.2e')\n",
    "    pbar().update()\n",
    "\n",
    "def train_gen(batch, epoch):\n",
    "    generator.requires_grad_(True)\n",
    "    generator.zero_grad()\n",
    "    discriminator.zero_grad()\n",
    "    generator_output = generator(batch)\n",
    "    if config.discriminator.noise.std > 0:\n",
    "        generator_output = generator_output + torch.randn_like(generator_output) * config.discriminator.noise.std * config.discriminator.noise.decay ** epoch\n",
    "    generator_loss = get_gan_loss(batch, generator_output, mode='generator') \n",
    "    \n",
    "    #train generator\n",
    "    generator_loss.backward()\n",
    "    generator_optimizer.step()\n",
    "\n",
    "    with torch.no_grad():\n",
    "        dis_batch = dis_convert(batch, generator_output)\n",
    "        stress = stress_criterion(dis_batch).mean()\n",
    "        critic = discriminator(dis_batch).mean()\n",
    "    hud.append({'gen_loss': format(generator_loss.item(), '.2e'),\n",
    "                'stress': format(stress.item(), '.2e'),\n",
    "                'critic': format(critic.item(), '.2e')})\n",
    "    pbar().update()\n",
    "\n",
    "def cuda_memsafe_map(fn, *iterables, summary=False):\n",
    "    total, failed = 0, 0\n",
    "    iterator = zip(*iterables)\n",
    "    items = None\n",
    "    while True:\n",
    "        try:\n",
    "            items = next(iterator)\n",
    "            yield fn(*items)\n",
    "        except StopIteration:\n",
    "            if summary:\n",
    "                print(f'Iteration finished. {failed} out of {total} failed!')\n",
    "            break\n",
    "        except RuntimeError:\n",
    "            print('CUDA memory overflow! Skip batch...')\n",
    "            del items\n",
    "            failed += 1\n",
    "        torch.cuda.empty_cache()\n",
    "        total += 1\n",
    "    \n",
    "def validate(model, data_loader, criterion=val_criterion):\n",
    "    def val_one_batch(batch):\n",
    "        batch = preprocess_batch(model, batch)\n",
    "        pred = CanonicalizationByStress()(model(batch), batch)\n",
    "        gt = CanonicalizationByStress()(batch.gt_pos, batch)\n",
    "        loss = criterion(pred, batch)\n",
    "        gt_loss = criterion(gt, batch)\n",
    "        spc = (loss - gt_loss) / torch.maximum(torch.maximum(loss, gt_loss), torch.ones_like(loss)*1e-5)\n",
    "        return loss.mean().item(), spc.mean().item()\n",
    "    loss_all, spc_all = zip(*cuda_memsafe_map(val_one_batch, data_loader))\n",
    "    return np.mean(loss_all), np.mean(spc_all)\n",
    "\n",
    "def log(msg):\n",
    "    msg = f\"[{epoch:03}] {msg}\"\n",
    "    print(msg, file=open(paths.log(), \"a\"))\n",
    "    with log_out: \n",
    "        print(msg)\n",
    "\n",
    "print(f\"{'='*10} {config.link} {'='*10}\", file=open(paths.log(), \"a\"))\n",
    "hud = Hud()\n",
    "pbar = Wrapper(tqdm, total=len(train_loader)*2, smoothing=0)\n",
    "plot_out = Output()\n",
    "log_out = Output()\n",
    "tabs = {\"status\": VBox([pbar, hud]), \n",
    "        \"plot\": HBox([plot_out], layout=Layout(height='500px', overflow_y='auto')),\n",
    "        \"log\": HBox([log_out], layout=Layout(height='500px', overflow_y='auto'))}\n",
    "tab_bar = Tab(children=list(tabs.values()))\n",
    "[tab_bar.set_title(i, name) for i, name in enumerate(tabs)]\n",
    "display(tab_bar)\n",
    "while True:\n",
    "    if epoch % config.log_interval == 0:\n",
    "        torch.save(generator.state_dict(), f\"{paths.checkpoints()}/gen_epoch_{epoch}.pt\")\n",
    "        torch.save(generator_optimizer.state_dict(), f\"{paths.checkpoints()}/gen_optim_epoch_{epoch}.pt\")\n",
    "        torch.save(discriminator.state_dict(), f\"{paths.checkpoints()}/dis_epoch_{epoch}.pt\")\n",
    "        torch.save(discriminator_optimizer.state_dict(), f\"{paths.checkpoints()}/dis_optim_epoch_{epoch}.pt\")\n",
    "        generator.eval()\n",
    "        with torch.no_grad():\n",
    "            val_stress, val_stress_spc = validate(model=generator, data_loader=val_loader)\n",
    "            val_xing, val_xing_spc = validate(model=generator, data_loader=val_loader, criterion=xing_criterion)\n",
    "            with plot_out:\n",
    "                fig = plt.figure()\n",
    "                graph_vis(G_list[11100], generator(make_batch(data_list[11100]).to(device)).cpu())\n",
    "                plt.show()\n",
    "        # tensorboard.add_scalars('loss', {'train': train_loss, \n",
    "        #                                  'validation': val_loss}, epoch)\n",
    "        # for i, fn in enumerate(loss_fns):\n",
    "        #     tensorboard.add_scalars(type(fn).__name__, {'train': train_loss_comp[i].item(), \n",
    "        #                                           'validation': val_loss_comp[i].item()}, epoch)\n",
    "        hud.append({\n",
    "            'val_stress': format(val_stress, '.2f'),\n",
    "            'val_stress_spc': format(val_stress_spc, '.2%'),\n",
    "            'val_xing': format(val_xing, '.2f'),\n",
    "            'val_xing_spc': format(val_xing_spc, '.2%'),\n",
    "        })\n",
    "        log(f\"stress={hud.data['val_stress']}({hud.data['val_stress_spc']}) xing={hud.data['val_xing']}({hud.data['val_xing_spc']})\")\n",
    "        \n",
    "    # handle.update(tab_bar)\n",
    "    pbar().reset()\n",
    "    pbar().set_description(desc=f\"[epoch {epoch}/{config.epoch.end}]\")\n",
    "    hud(title=f\"epoch {epoch}\")\n",
    "    generator.train()\n",
    "    discriminator.train()\n",
    "    # proper: proper layout\n",
    "    for _ in range(config.discriminator.repeat):\n",
    "        for batch in train_loader:\n",
    "            train_dis(batch, epoch)\n",
    "            if config.alternate == 'iteration':\n",
    "                train_gen(batch, epoch)\n",
    "\n",
    "    if config.alternate == 'epoch':\n",
    "        for batch in train_loader:\n",
    "            train_gen(batch, epoch)\n",
    "\n",
    "    discriminator_scheduler.step()\n",
    "    generator_scheduler.step()\n",
    "\n",
    "    if epoch == config.epoch.end:\n",
    "        break\n",
    "    epoch += 1"
   ]
  },
  {
   "cell_type": "markdown",
   "metadata": {
    "id": "0qYK_X_hrq9o"
   },
   "source": [
    "# Test"
   ]
  },
  {
   "cell_type": "code",
   "execution_count": 33,
   "metadata": {
    "colab": {
     "base_uri": "https://localhost:8080/"
    },
    "id": "XEvmAtNjWhcY",
    "outputId": "9f4c86a4-a4b0-48f1-cb58-ab3679173184"
   },
   "outputs": [
    {
     "name": "stdout",
     "output_type": "stream",
     "text": [
      "Loading from artifacts/checkpoints/GAN(gan=rgan,data=best(xing,stress),dis=deep,share=12,embed=4,gp=0,lr=1e-2,decay=.98)/gen_epoch_1187.pt...\n"
     ]
    },
    {
     "data": {
      "text/plain": [
       "<All keys matched successfully>"
      ]
     },
     "execution_count": 33,
     "metadata": {},
     "output_type": "execute_result"
    }
   ],
   "source": [
    "test_epoch = -1\n",
    "\n",
    "test_generator = Generator(**config.generator.params[...]).to(device)\n",
    "test_ckpt_epoch = get_ckpt_epoch(paths.checkpoints(), test_epoch)\n",
    "test_ckpt_file = f\"{paths.checkpoints()}/gen_epoch_{test_ckpt_epoch}.pt\"\n",
    "print(f\"Loading from {test_ckpt_file}...\")\n",
    "test_generator.load_state_dict(torch.load(test_ckpt_file, map_location=torch.device(device)))"
   ]
  },
  {
   "cell_type": "code",
   "execution_count": 34,
   "metadata": {
    "colab": {
     "background_save": true,
     "base_uri": "https://localhost:8080/",
     "height": 1000,
     "referenced_widgets": [
      "9b7d18992dbf4a84931f916fbaaa37d8",
      "2c664d7e1e6d474fb87094fc0da270d3",
      "d375f5f82a4645d7b29c541596dc1c7f",
      "ecfa311bb06b4f6fa504598263ff69d3",
      "d1859990877149eab2b414b4e2a0e0c7",
      "d2be6733734844bca3e1db9b49eb1c1e",
      "4d98072bdf674792a13d77e85dd285d1",
      "f7ed92c383d741a0a1cef2536ff2db13",
      "2ba110f835c64ec4b82974996aed10af",
      "09397ceac9014af0aebca848d4d96d48",
      "fd0709f48d6c4527bc00b5f407f3c1b9"
     ]
    },
    "id": "ZubmSTcYrq9o",
    "outputId": "fc2f65a2-2085-43ac-b110-cbfe742318a8",
    "scrolled": true,
    "tags": []
   },
   "outputs": [
    {
     "data": {
      "application/vnd.jupyter.widget-view+json": {
       "model_id": "89ad39d3024b46c9b43c1e51ff101947",
       "version_major": 2,
       "version_minor": 0
      },
      "text/plain": [
       "  0%|          | 0/1000 [00:00<?, ?it/s]"
      ]
     },
     "metadata": {},
     "output_type": "display_data"
    }
   ],
   "source": [
    "rotate = RotateByPrincipalComponents()\n",
    "def test_callback(*, idx, pred, metrics):\n",
    "    # graph_vis(G_list[idx], pred, file_name=f\"{paths.visualization()}/{idx}_{metrics['stress']:.2f}_{metrics['resolution_score']:.2f}.png\")\n",
    "    pred = rotate(torch.tensor(pred), data_list[idx])\n",
    "    graph_vis(G_list[idx], pred)\n",
    "    plt.title(f\"[pred] idx: {idx}, stress: {metrics['stress']:.2f}({metrics['stress_spc']:.2%}), xing: {metrics['xing']:.2f}({metrics['xing_spc']:.2%})\")\n",
    "    plt.show()\n",
    "    gt_pos = rotate(data_list[idx].gt_pos, data_list[idx])\n",
    "    graph_vis(G_list[idx], gt_pos, node_color='orange')\n",
    "    plt.title(f\"[gt] idx: {idx}, stress: {metrics['gt_stress']:.2f}, xing: {metrics['gt_xing']:.2f}\")\n",
    "    plt.show()\n",
    "    \n",
    "test_metrics = test(model=test_generator, \n",
    "                    criteria_list=[], \n",
    "                    dataset=data_list, \n",
    "                    idx_range=range(10000, 11000), \n",
    "#                     callback=test_callback,\n",
    "                    gt_pos=None)\n",
    "pickle.dump(test_metrics, open(paths.metrics(\"test\"), \"wb\"))"
   ]
  },
  {
   "cell_type": "code",
   "execution_count": 35,
   "metadata": {
    "colab": {
     "base_uri": "https://localhost:8080/",
     "height": 318
    },
    "id": "t2rFXIr_PsrJ",
    "outputId": "6a4205b1-4630-4de4-ec72-bdba3d3ea114"
   },
   "outputs": [
    {
     "name": "stdout",
     "output_type": "stream",
     "text": [
      "stress: tensor(332.5014)\n",
      "stress_spc: tensor(0.0840, dtype=torch.float64)\n",
      "xing: tensor(29.2830)\n",
      "xing_spc: tensor(0.2192, dtype=torch.float64)\n",
      "l1_angle: tensor(80.7379)\n",
      "l1_angle_spc: tensor(0.0565, dtype=torch.float64)\n",
      "edge: tensor(0.1651)\n",
      "edge_spc: tensor(0.1628, dtype=torch.float64)\n",
      "ring: tensor(260.1379)\n",
      "ring_spc: tensor(0.0249, dtype=torch.float64)\n",
      "tsne: tensor(0.2109)\n",
      "tsne_spc: tensor(0.1153, dtype=torch.float64)\n",
      "reso_score: tensor(0.5982)\n",
      "min_angle: tensor(4.8682)\n"
     ]
    },
    {
     "data": {
      "text/html": [
       "<div>\n",
       "<style scoped>\n",
       "    .dataframe tbody tr th:only-of-type {\n",
       "        vertical-align: middle;\n",
       "    }\n",
       "\n",
       "    .dataframe tbody tr th {\n",
       "        vertical-align: top;\n",
       "    }\n",
       "\n",
       "    .dataframe thead th {\n",
       "        text-align: right;\n",
       "    }\n",
       "</style>\n",
       "<table border=\"1\" class=\"dataframe\">\n",
       "  <thead>\n",
       "    <tr style=\"text-align: right;\">\n",
       "      <th></th>\n",
       "      <th>0</th>\n",
       "      <th>1</th>\n",
       "      <th>2</th>\n",
       "      <th>3</th>\n",
       "      <th>4</th>\n",
       "      <th>5</th>\n",
       "      <th>6</th>\n",
       "      <th>7</th>\n",
       "      <th>8</th>\n",
       "      <th>9</th>\n",
       "      <th>10</th>\n",
       "      <th>11</th>\n",
       "      <th>12</th>\n",
       "      <th>13</th>\n",
       "    </tr>\n",
       "  </thead>\n",
       "  <tbody>\n",
       "    <tr>\n",
       "      <th>0</th>\n",
       "      <td>332.5014</td>\n",
       "      <td>0.0840</td>\n",
       "      <td>29.2830</td>\n",
       "      <td>0.2192</td>\n",
       "      <td>80.7379</td>\n",
       "      <td>0.0565</td>\n",
       "      <td>0.1651</td>\n",
       "      <td>0.1628</td>\n",
       "      <td>260.1379</td>\n",
       "      <td>0.0249</td>\n",
       "      <td>0.2109</td>\n",
       "      <td>0.1153</td>\n",
       "      <td>0.5982</td>\n",
       "      <td>4.8682</td>\n",
       "    </tr>\n",
       "  </tbody>\n",
       "</table>\n",
       "</div>"
      ],
      "text/plain": [
       "         0       1        2       3        4       5       6       7   \\\n",
       "0  332.5014  0.0840  29.2830  0.2192  80.7379  0.0565  0.1651  0.1628   \n",
       "\n",
       "         8       9       10      11      12      13  \n",
       "0  260.1379  0.0249  0.2109  0.1153  0.5982  4.8682  "
      ]
     },
     "execution_count": 35,
     "metadata": {},
     "output_type": "execute_result"
    }
   ],
   "source": [
    "metrics = test_metrics\n",
    "print('stress:', metrics['stress'].mean())\n",
    "print('stress_spc:', metrics['stress_spc'].mean())\n",
    "print('xing:', metrics['xing'].mean())\n",
    "print('xing_spc:', metrics['xing_spc'].mean())\n",
    "print('l1_angle:', metrics['l1_angle'].mean())\n",
    "print('l1_angle_spc:', metrics['l1_angle_spc'].mean())\n",
    "print('edge:', metrics['edge'].mean())\n",
    "print('edge_spc:', metrics['edge_spc'].mean())\n",
    "print('ring:', metrics['ring'].mean())\n",
    "print('ring_spc:', metrics['ring_spc'].mean())\n",
    "print('tsne:', metrics['tsne'].mean())\n",
    "print('tsne_spc:', metrics['tsne_spc'].mean())\n",
    "print('reso_score:', metrics['resolution_score'].mean())\n",
    "print('min_angle:', metrics['min_angle'].mean())\n",
    "pd.DataFrame(map(lambda m: f\"{metrics[m].mean().item():.4f}\", list(metrics.keys())[:-1])).T"
   ]
  },
  {
   "cell_type": "code",
   "execution_count": 36,
   "metadata": {
    "id": "5e7vPr0M3mmG"
   },
   "outputs": [],
   "source": [
    "metrics = {}"
   ]
  },
  {
   "cell_type": "code",
   "execution_count": 37,
   "metadata": {},
   "outputs": [],
   "source": [
    "methods = ['fa2']"
   ]
  },
  {
   "cell_type": "code",
   "execution_count": 38,
   "metadata": {
    "colab": {
     "base_uri": "https://localhost:8080/",
     "height": 433,
     "referenced_widgets": [
      "a0cf6e046add4e639e52db69656e0db9",
      "8e237731bb1241ac858581b25389c012",
      "0891547293ad4211a138a4d92e01bb0b",
      "34912c8e581e47a99a1c4829c38cb75c",
      "5aa034c99c94424e835a2ee954b829ed",
      "248f6393eff74c3eb8740ca6d698045b",
      "686687a29c7f4ec98c4d76ca2062b14b",
      "996a84d1c23b47e4a2af252c6b60f55d",
      "3507f883bb954412b21c1c5641763ed7",
      "9582a849d91e457cadd514c95d6e1b5b",
      "52bfe674c2c547e09b7400a32a96f703",
      "93d58b3a12394fe1aa6f0431fc7cb0db",
      "af1d7855c9d646b0bcc7d95c4cb147a6",
      "f820e2b898cd461da04a4f651d27273d",
      "c0a112cfaa3d4d0aa9530372de84d8fb",
      "fd03985495694fbf9feb3f31ef8d18ce",
      "e02a2b36aa4c4d6fb5d2ac6693c1a927",
      "06f388ff5e3a48828d465096fe69977b",
      "c0052778c9c940e88935593e9f94b83b",
      "99a5e77a192d4a989c4534237eb16730",
      "77c6da092a6647fc9e54f7e276d75616",
      "8c13c0e8b5934117a662a78296bcb1b6",
      "cdcc3bd4235247b48c468c0f6b7682cc",
      "a2c6fa6fef4549cc853fa93b4b18cf95",
      "15cc02a756314083801b5f6798a1948c",
      "24d1c67fe52f452ab0c767e3c1a818aa",
      "c117db25c6fd484a9d0c7f210ccb1ade",
      "b090b60b61084cf692b3066dfac7f0a8",
      "5eab9848059c491b9c6cbac88683f025",
      "e87ffbaa1f204b52b9226337a506b040",
      "cf52198a9e4b46c7b49537a79919c09e",
      "51501227bc064ccbab97c22a679a0750",
      "d1b794a997dc457888a90bf44faee9b4",
      "21a755b50e5047bea797eccf24b35a0c",
      "16e78c3823ec4faf9f9cd9095b218ff5",
      "4ccd332c6b734acd8eff236eaf568dfa",
      "bd60fd13748347e48629df78fa455765",
      "e9187e4ba80b4fafa0334dae2e39aded",
      "4c39ec7c92b4402e8eedcb27beabaab1",
      "59a8194269f943bba571f710ad856973",
      "8e41bc25b9f348b1b85b381547cd60d1",
      "34d0f1529e64437fb25e639b41096072",
      "7e832c7543df43668eb72c0aa6356349",
      "f94162c9c5fe4c2581e3b80beaeb820b",
      "0284946fccf34607b25e1d6d81d4f72a",
      "8e8d4243a3624ba58d760bdf601d5126",
      "b1f0932594fe44f4be4beb8880172871",
      "820bb554d139437b8f6a6997f9002261",
      "459e375d1fe4497cb4197ef88e303c6d",
      "5726814966da46bbba942a114de4b319",
      "448beea5445f4642809801da46aa7e7c",
      "3746c0f0daf04f51805b4c95db20063a",
      "2ff74d1c705348438a32da37910c3300",
      "52f03147b5ab4cb390f9802b7a17a508",
      "5428511d652a47348203e8f3cd2e076d",
      "7b58569bee2e44c5a61a81f9a32c4c01",
      "c5e05d74b9404333a8155304e3497ba2",
      "3ad4e058bde44d87abab780368d49118",
      "8e437049b5c74ff1beddad93e30b19aa",
      "0c61377f4cc34b27ae34bdd6d976d868",
      "9ce35f9a9a23436ea77604513b5c4659",
      "dafbc43ad79c4feda093aefe490fc4b3",
      "497160b6bf80469a89680a03a468c8bb",
      "3265725ecb914981b6f07f68b8a582df",
      "1f0ac20d99d04ffb9ee75613526d3de6",
      "dee0e5716560483b8e2b107566439d94",
      "ca99841a1abd4fbd94927c49aaa711cb",
      "163a44ff1be04583ae7bd62726c55204",
      "f3b727045a0b4b4fabd147ec9c843e14",
      "7c4b4fe859cf48ab99b7e2780a24a539",
      "d9700cffab66480cb81e3722faab4e8b",
      "2c49acc1e0a64aa4b8ec461b0596848e",
      "691817157f43412f9c36002167606b75",
      "d0ae688d71734b56bb348de54e841798",
      "07a364ebcdaa491dbcc2304e4a8dae96",
      "538b277307b1449eaa79a2a91b4741d3",
      "f7b7dd4cbaa5468687b988c5e416a154",
      "877be862a4f045ec8b221097626becb5",
      "1bf37012df0844338ac689d4f6cc8eab",
      "33fe06641be544d3aab2c25cb979416f",
      "68de0d9261fa4e6999967b6f196d149c",
      "7017c5ba1ffc467495aca2689e516f7d",
      "e0997460cc21428695a0c278c6691baf",
      "522443bef4904996b6361ea265c4c56f",
      "dfe044b67917466f971ba84a11956d5e",
      "70b2d0ba1c1d4102841fb963480de1c7",
      "7b158daacd754a40bc0a48fc9ea6fea2",
      "8904f61ff30741e488eacf0e49440f66",
      "685dee6f1e1f4c2983d2d0b8eb90ed00",
      "005155a4d62d48cbbaf3d69614b08d81",
      "d2779dfa620041e4b32a7731926a5982",
      "53048bf27cb24080b4cdf20379302223",
      "0b5bff7794a14a20964da70b87158c2c",
      "ec664e55ea16435590393ae1617cccea",
      "f10d62ef464a45a7935610d869c282e3",
      "5e7c09bc35db4a3a8b9847c6d8478883",
      "987ea331b617446facc81b08bab1f8c4",
      "446c5a687b0d43358ab036d43ce281c3",
      "d89e216f62ae4a9999da1a91dd5e48b9",
      "09d03e7e66f54cafacefbfeda5fd6e5c",
      "d58c680562a44bbd9252e7ec6eebc06c",
      "71ea2594fdd942acac1cc61055438544",
      "fecda4df301b437f9fbfb61a7b593dc0",
      "bcf6741d926248cb92acf627d6557d2b",
      "5bd9868b9bda4f68b500a43916e2d148",
      "4bc5e02035de44ad827c4f881fd75afc",
      "7d80033a955e4feb947ca9cea931d90b",
      "e975c796d80d498992a50f87a2b0105c",
      "028b2ff105904a19a9a3e8ebf66967bb",
      "10dbf2cbdb1943eda6a0acaf5da3fe85",
      "14d59c7acc5e4e07a289db44406a4851",
      "d9447df93d714907bc9c768eb4910352",
      "d4a9ace081bf488680a7e43e0eaed71d",
      "022a60cde19546bfa6ecfb4947615ad9",
      "10c01207d9ba4fe197dc80717fceecc0",
      "f4995936570d4ba1a65e9a66e410b505",
      "b4bf66303e61491385cd616076a11c04",
      "a24ab2bfe7a44263bf60936d6e53ec32",
      "59e2e8ecc9f84d57af7bf44f5bba5df7",
      "be2eb92aab8045a99fd19195c3546b60",
      "e6715db2b048434796e910952cb5eb62",
      "8de2335007ba4a6b9935fa0c514c9f6a",
      "493a4bbe8057437a8c8acf4d03f8dcb0",
      "20b03955acc74e238695717124705520",
      "a89f9507496b4cf8bdd63bdb9bff79c4",
      "9752a1f6c8b6488d9628b8e0c023f10f",
      "61a0bebc687341a7bb3352febc8d4986",
      "07e0ff9c82a444788c60edee70688ca7",
      "4427901f35e54cc48e08527bb402c22a",
      "bd9dafb825954091ba975d71ab8c89ea",
      "7ec0f07bfe51484da38c18dc66d77804",
      "03943afebc4d4b668b54c7a0fd014a37",
      "a7a6b38a76424d738146b6a5786cf2c8",
      "1d1aa4729784470584c0001c1a296008",
      "e0c68ac9b5b442eeb77e6d9ea3c1da42",
      "c858ef9fd9324ab0ab885d85e3c8582f",
      "627bc2899c994a0c96c5d43e89dc77ff",
      "0e2c2f21fa8041038151170992ecb848",
      "2d9bcbf7629a4671bf8755e790276eb7",
      "77a4edf6ab1848a6a6df20c1c07358c6",
      "acf2212d6bb44c729b63281a98377095",
      "0c7a72818da3454190bab7f30a29e249",
      "d865af915b8b4aaa8cec8d40f1f8351d"
     ]
    },
    "id": "s1UnzfID4Ai6",
    "outputId": "3e204e76-68fd-4111-f527-91f6e3b7a3ca"
   },
   "outputs": [
    {
     "data": {
      "application/vnd.jupyter.widget-view+json": {
       "model_id": "fbc5cd7d1f08427d8c4ea7130dc57797",
       "version_major": 2,
       "version_minor": 0
      },
      "text/plain": [
       "  0%|          | 0/1000 [00:00<?, ?it/s]"
      ]
     },
     "metadata": {},
     "output_type": "display_data"
    }
   ],
   "source": [
    "for m in methods:\n",
    "    metrics[m] = test(model=test_generator, \n",
    "                      criteria_list=[], \n",
    "                      dataset=data_list, \n",
    "                      idx_range=range(10000, 11000), \n",
    "                      callback=None,\n",
    "                      gt_pos=load_pos(m))"
   ]
  },
  {
   "cell_type": "code",
   "execution_count": 39,
   "metadata": {
    "id": "dQ7hdCtk5u6K"
   },
   "outputs": [],
   "source": [
    "mean_metrics = {key : list(map(lambda m: metrics[key][m].mean().item(), list(metrics[key].keys())[:-1])) for key in metrics}"
   ]
  },
  {
   "cell_type": "code",
   "execution_count": 40,
   "metadata": {
    "colab": {
     "base_uri": "https://localhost:8080/",
     "height": 313
    },
    "id": "OGyaCmLXTuvA",
    "outputId": "6c42d9f3-9869-4504-bc9c-d0eedaecfd90"
   },
   "outputs": [
    {
     "data": {
      "text/html": [
       "<style type=\"text/css\">\n",
       "</style>\n",
       "<table id=\"T_c9cad_\">\n",
       "  <thead>\n",
       "    <tr>\n",
       "      <th class=\"blank level0\" >&nbsp;</th>\n",
       "      <th class=\"col_heading level0 col0\" >stress</th>\n",
       "      <th class=\"col_heading level0 col1\" >stress_spc</th>\n",
       "      <th class=\"col_heading level0 col2\" >xing</th>\n",
       "      <th class=\"col_heading level0 col3\" >xing_spc</th>\n",
       "      <th class=\"col_heading level0 col4\" >l1_angle</th>\n",
       "      <th class=\"col_heading level0 col5\" >l1_angle_spc</th>\n",
       "      <th class=\"col_heading level0 col6\" >edge</th>\n",
       "      <th class=\"col_heading level0 col7\" >edge_spc</th>\n",
       "      <th class=\"col_heading level0 col8\" >ring</th>\n",
       "      <th class=\"col_heading level0 col9\" >ring_spc</th>\n",
       "      <th class=\"col_heading level0 col10\" >tsne</th>\n",
       "      <th class=\"col_heading level0 col11\" >tsne_spc</th>\n",
       "      <th class=\"col_heading level0 col12\" >reso_score</th>\n",
       "      <th class=\"col_heading level0 col13\" >min_angle</th>\n",
       "    </tr>\n",
       "  </thead>\n",
       "  <tbody>\n",
       "    <tr>\n",
       "      <th id=\"T_c9cad_level0_row0\" class=\"row_heading level0 row0\" >fa2</th>\n",
       "      <td id=\"T_c9cad_row0_col0\" class=\"data row0 col0\" >332.504883</td>\n",
       "      <td id=\"T_c9cad_row0_col1\" class=\"data row0 col1\" >-6.26%</td>\n",
       "      <td id=\"T_c9cad_row0_col2\" class=\"data row0 col2\" >29.306999</td>\n",
       "      <td id=\"T_c9cad_row0_col3\" class=\"data row0 col3\" >9.69%</td>\n",
       "      <td id=\"T_c9cad_row0_col4\" class=\"data row0 col4\" >80.738029</td>\n",
       "      <td id=\"T_c9cad_row0_col5\" class=\"data row0 col5\" >8.93%</td>\n",
       "      <td id=\"T_c9cad_row0_col6\" class=\"data row0 col6\" >0.165071</td>\n",
       "      <td id=\"T_c9cad_row0_col7\" class=\"data row0 col7\" >-11.39%</td>\n",
       "      <td id=\"T_c9cad_row0_col8\" class=\"data row0 col8\" >260.144958</td>\n",
       "      <td id=\"T_c9cad_row0_col9\" class=\"data row0 col9\" >0.71%</td>\n",
       "      <td id=\"T_c9cad_row0_col10\" class=\"data row0 col10\" >0.210898</td>\n",
       "      <td id=\"T_c9cad_row0_col11\" class=\"data row0 col11\" >8.57%</td>\n",
       "      <td id=\"T_c9cad_row0_col12\" class=\"data row0 col12\" >0.598376</td>\n",
       "      <td id=\"T_c9cad_row0_col13\" class=\"data row0 col13\" >4.979469</td>\n",
       "    </tr>\n",
       "  </tbody>\n",
       "</table>\n"
      ],
      "text/plain": [
       "<pandas.io.formats.style.Styler at 0x2ab603191280>"
      ]
     },
     "execution_count": 40,
     "metadata": {},
     "output_type": "execute_result"
    }
   ],
   "source": [
    "columns = [\n",
    "    'stress',\n",
    "    'stress_spc',\n",
    "    'xing',\n",
    "    'xing_spc',\n",
    "    'l1_angle',\n",
    "    'l1_angle_spc',\n",
    "    'edge',\n",
    "    'edge_spc',\n",
    "    'ring',\n",
    "    'ring_spc',\n",
    "    'tsne',\n",
    "    'tsne_spc',\n",
    "    'reso_score',\n",
    "    'min_angle'\n",
    "]\n",
    "df = pd.DataFrame(mean_metrics).set_axis(columns).T\n",
    "df.style.format({c: \"{:.2%}\" for c in columns if 'spc' in c})"
   ]
  },
  {
   "cell_type": "markdown",
   "metadata": {
    "id": "L5S1HWnHOWIl"
   },
   "source": [
    "# Large Graph"
   ]
  },
  {
   "cell_type": "code",
   "execution_count": null,
   "metadata": {
    "id": "_pefPcV1OZdD"
   },
   "outputs": [],
   "source": [
    "scalability = pd.read_csv(f\"/__artifacts__/data/scalability.csv\", index_col=\"index\")\n",
    "scalability"
   ]
  },
  {
   "cell_type": "code",
   "execution_count": null,
   "metadata": {
    "id": "oMhWAsdvPnTX"
   },
   "outputs": [],
   "source": [
    "rescale = CanonicalizationByStress()\n",
    "stressfn = Stress()\n",
    "rotate = RotateByPrincipalComponents()"
   ]
  },
  {
   "cell_type": "code",
   "execution_count": null,
   "metadata": {
    "id": "LR83OcAaPID5"
   },
   "outputs": [],
   "source": [
    "stress_list = []\n",
    "spc_list = []\n",
    "pmds_list = np.load(\"layouts/new_large_graph/pmds.npy\", allow_pickle=True)\n",
    "gviz_list = np.load(\"layouts/new_large_graph/gviz.npy\", allow_pickle=True)\n",
    "with torch.no_grad():\n",
    "    for idx, col in tqdm(scalability.iterrows(), total=len(scalability)):\n",
    "        # if idx not in [406, 516]: continue\n",
    "        torch.cuda.empty_cache()\n",
    "        G = load_mtx(col['file'])\n",
    "        G.remove_edges_from(nx.selfloop_edges(G))\n",
    "        data = generate_data_list(G, \n",
    "                                sparse=data_config.sparse, \n",
    "                                pivot_mode=data_config.pivot,\n",
    "                                init_mode=data_config.init,\n",
    "                                edge_index=data_config.edge.index,\n",
    "                                edge_attr=data_config.edge.attr,\n",
    "                                pmds_list=pmds_list[idx],\n",
    "                                gviz_list=gviz_list[idx],\n",
    "                                device=device)\n",
    "        batch = Batch.from_data_list([data]).to(device)\n",
    "        # generator.train()\n",
    "        # generator(batch)\n",
    "        generator.eval()\n",
    "        pred = generator(batch)\n",
    "        pos = rotate(rescale(pred, batch), batch)\n",
    "        gt = rotate(rescale(batch.gt_pos, batch), batch)\n",
    "        stress = stressfn(pos, batch).item()\n",
    "        gt_stress = stressfn(gt, batch).item()\n",
    "        spc = (stress - gt_stress) / np.maximum(stress, gt_stress)\n",
    "        stress_list.append(stress)\n",
    "        spc_list.append(spc)\n",
    "\n",
    "        np.save(f\"/__artifacts__/gan_result/data/scalability_{idx}.npy\", pos.cpu().numpy())\n",
    "        graph_attr = dict(node_size=1, \n",
    "                        with_labels=False, \n",
    "                        labels=dict(zip(list(G.nodes), map(lambda n: n if type(n) is int else n[1:], list(G.nodes)))),\n",
    "                        font_color=\"white\", \n",
    "                        font_weight=\"bold\",\n",
    "                        font_size=12,\n",
    "                        width=0.1)\n",
    "\n",
    "        # gt_pos = pickle.load(open(f\"/__artifacts__/data/scalability_{idx}_gt.pkl\", \"rb\"))\n",
    "\n",
    "        plt.figure(figsize=[12, 9])\n",
    "        nx.draw(G, pos=gt.cpu().numpy(), node_color='orange', **graph_attr)\n",
    "        plt.title(f\"neato: large_{idx}\")\n",
    "        plt.axis(\"equal\")\n",
    "        plt.savefig(f\"/__artifacts__/gan_result/output/{idx}_{col['name']}_{col['n']}_{spc}_nx.png\", dpi=300)\n",
    "        plt.show()\n",
    "\n",
    "        plt.figure(figsize=[12, 9])\n",
    "        graph_vis(G, pos.cpu().numpy(), **graph_attr)\n",
    "        plt.title(f\"dgd: large_{idx}, spc={spc:.2%}\")\n",
    "        plt.axis(\"equal\")\n",
    "        plt.savefig(f\"/__artifacts__/gan_result/output/{idx}_{col['name']}_{col['n']}_{spc}_dgd.png\", dpi=300)\n",
    "        plt.show()"
   ]
  },
  {
   "cell_type": "code",
   "execution_count": null,
   "metadata": {
    "id": "gRXTewkYeuq1"
   },
   "outputs": [],
   "source": []
  }
 ],
 "metadata": {
  "accelerator": "GPU",
  "colab": {
   "collapsed_sections": [
    "w_p3OD0woiSM",
    "DR6-vYtr_i_P",
    "innqkwvH_ydD",
    "f-ODE2k8BFV6",
    "N39dDHraedM6"
   ],
   "machine_shape": "hm",
   "name": "GAN(gan=rgan,data=best(xing,stress),dis=deep,share=16,embed=0,gp=0).ipynb",
   "provenance": []
  },
  "kernelspec": {
   "display_name": "DeepGD",
   "language": "python",
   "name": "deepgd"
  },
  "language_info": {
   "codemirror_mode": {
    "name": "ipython",
    "version": 3
   },
   "file_extension": ".py",
   "mimetype": "text/x-python",
   "name": "python",
   "nbconvert_exporter": "python",
   "pygments_lexer": "ipython3",
   "version": "3.9.7"
  },
  "widgets": {
   "application/vnd.jupyter.widget-state+json": {
    "state": {
     "009ca9db85d443959440e208767f7515": {
      "model_module": "@jupyter-widgets/controls",
      "model_module_version": "1.5.0",
      "model_name": "HBoxModel",
      "state": {
       "children": [
        "IPY_MODEL_cd23f87023f94529ae68dd4fe734dae3",
        "IPY_MODEL_7eb6cfa86bb34cc28feab7b196576655",
        "IPY_MODEL_4d0532646d1448d188f18d4737d48f30"
       ],
       "layout": "IPY_MODEL_828fe593f05343db96f130f765a5a7d7"
      }
     },
     "01fe782d486445cdadc207e712062554": {
      "model_module": "@jupyter-widgets/base",
      "model_module_version": "1.2.0",
      "model_name": "LayoutModel",
      "state": {
       "height": "500px",
       "overflow_y": "auto"
      }
     },
     "03150ff73cb34857905ce96c02d2039c": {
      "model_module": "@jupyter-widgets/base",
      "model_module_version": "1.2.0",
      "model_name": "LayoutModel",
      "state": {}
     },
     "07e4031aa14246f9a312c57c52a108cc": {
      "model_module": "@jupyter-widgets/controls",
      "model_module_version": "1.5.0",
      "model_name": "HTMLModel",
      "state": {
       "layout": "IPY_MODEL_2902deb18a294393aea003183375b7fe",
       "style": "IPY_MODEL_291518db1940488aa049a26dd5a41ce5",
       "value": " 1000/1000 [00:46&lt;00:00, 21.49it/s]"
      }
     },
     "0e33c44a493a4f9abfc780d00adc752d": {
      "model_module": "@jupyter-widgets/controls",
      "model_module_version": "1.5.0",
      "model_name": "ProgressStyleModel",
      "state": {
       "description_width": ""
      }
     },
     "115ea9fd9c644647a33b91d7be29db37": {
      "model_module": "@jupyter-widgets/base",
      "model_module_version": "1.2.0",
      "model_name": "LayoutModel",
      "state": {}
     },
     "1780259ec22847d1a01dac019159bc2b": {
      "model_module": "@jupyter-widgets/output",
      "model_module_version": "1.0.0",
      "model_name": "OutputModel",
      "state": {
       "layout": "IPY_MODEL_2521177afa41494eaf6f0912255e9439"
      }
     },
     "17a3e3acf3254fab9206b887ee36e005": {
      "model_module": "@jupyter-widgets/base",
      "model_module_version": "1.2.0",
      "model_name": "LayoutModel",
      "state": {}
     },
     "19d7012412ee463ab73f97af6a804e15": {
      "model_module": "@jupyter-widgets/base",
      "model_module_version": "1.2.0",
      "model_name": "LayoutModel",
      "state": {}
     },
     "1d1ed9ffc1014fc4aa1061643084d909": {
      "model_module": "@jupyter-widgets/base",
      "model_module_version": "1.2.0",
      "model_name": "LayoutModel",
      "state": {}
     },
     "1f8c47f091864cd886f2ccf60563c616": {
      "model_module": "@jupyter-widgets/base",
      "model_module_version": "1.2.0",
      "model_name": "LayoutModel",
      "state": {}
     },
     "232bb29dfea8451aba45223db60ccc22": {
      "model_module": "@jupyter-widgets/output",
      "model_module_version": "1.0.0",
      "model_name": "OutputModel",
      "state": {
       "layout": "IPY_MODEL_fb3ccfe50f23407192c0f4c37052e6fa",
       "outputs": [
        {
         "data": {
          "text/html": "<div>\n<style scoped>\n    .dataframe tbody tr th:only-of-type {\n        vertical-align: middle;\n    }\n\n    .dataframe tbody tr th {\n        vertical-align: top;\n    }\n\n    .dataframe thead th {\n        text-align: right;\n    }\n</style>\n<table border=\"1\" class=\"dataframe\">\n  <thead>\n    <tr style=\"text-align: right;\">\n      <th></th>\n      <th>val_stress</th>\n      <th>val_stress_spc</th>\n      <th>val_xing</th>\n      <th>val_xing_spc</th>\n      <th>dis_loss</th>\n    </tr>\n  </thead>\n  <tbody>\n    <tr>\n      <th>epoch 1187</th>\n      <td>369.50</td>\n      <td>8.66%</td>\n      <td>33.05</td>\n      <td>19.85%</td>\n      <td>2.62e-01</td>\n    </tr>\n  </tbody>\n</table>\n</div>",
          "text/plain": "           val_stress val_stress_spc val_xing val_xing_spc  dis_loss\nepoch 1187     369.50          8.66%    33.05       19.85%  2.62e-01"
         },
         "metadata": {},
         "output_type": "display_data"
        }
       ]
      }
     },
     "2473462ac6bb4b759a2a599b523897c7": {
      "model_module": "@jupyter-widgets/base",
      "model_module_version": "1.2.0",
      "model_name": "LayoutModel",
      "state": {}
     },
     "2521177afa41494eaf6f0912255e9439": {
      "model_module": "@jupyter-widgets/base",
      "model_module_version": "1.2.0",
      "model_name": "LayoutModel",
      "state": {}
     },
     "25de520937334faa89685639c528159c": {
      "model_module": "@jupyter-widgets/controls",
      "model_module_version": "1.5.0",
      "model_name": "VBoxModel",
      "state": {
       "children": [
        "IPY_MODEL_5cd29edb70854ac59bde7673c8a2899e",
        "IPY_MODEL_b93d0681fa404a0a85ec49a640676a86"
       ],
       "layout": "IPY_MODEL_30e380ee337d42a8a643633540e30ca1"
      }
     },
     "28e6994b9ba94fb7991a9685bda54414": {
      "model_module": "@jupyter-widgets/base",
      "model_module_version": "1.2.0",
      "model_name": "LayoutModel",
      "state": {}
     },
     "2902deb18a294393aea003183375b7fe": {
      "model_module": "@jupyter-widgets/base",
      "model_module_version": "1.2.0",
      "model_name": "LayoutModel",
      "state": {}
     },
     "291518db1940488aa049a26dd5a41ce5": {
      "model_module": "@jupyter-widgets/controls",
      "model_module_version": "1.5.0",
      "model_name": "DescriptionStyleModel",
      "state": {
       "description_width": ""
      }
     },
     "2b37a2ff890d4641b9eb74abc3dbf5eb": {
      "model_module": "@jupyter-widgets/controls",
      "model_module_version": "1.5.0",
      "model_name": "TabModel",
      "state": {
       "_titles": {
        "0": "status",
        "1": "plot",
        "2": "log"
       },
       "children": [
        "IPY_MODEL_25de520937334faa89685639c528159c",
        "IPY_MODEL_f49f8e00f3954109b075ecdda35531a5",
        "IPY_MODEL_6d63159e3d854f0db4c724a56f664690"
       ],
       "layout": "IPY_MODEL_19d7012412ee463ab73f97af6a804e15"
      }
     },
     "2c54de31e0844903bbfa055aec0fa659": {
      "model_module": "@jupyter-widgets/base",
      "model_module_version": "1.2.0",
      "model_name": "LayoutModel",
      "state": {
       "height": "500px",
       "overflow_y": "auto"
      }
     },
     "30e380ee337d42a8a643633540e30ca1": {
      "model_module": "@jupyter-widgets/base",
      "model_module_version": "1.2.0",
      "model_name": "LayoutModel",
      "state": {}
     },
     "3c036fb873124b2aa4d0865da0813b34": {
      "model_module": "@jupyter-widgets/base",
      "model_module_version": "1.2.0",
      "model_name": "LayoutModel",
      "state": {}
     },
     "3cc468ebdbaa4565b90b0921d4e6c3c9": {
      "model_module": "@jupyter-widgets/output",
      "model_module_version": "1.0.0",
      "model_name": "OutputModel",
      "state": {
       "layout": "IPY_MODEL_2473462ac6bb4b759a2a599b523897c7",
       "outputs": [
        {
         "name": "stdout",
         "output_type": "stream",
         "text": "[1187] stress=369.50(8.66%) xing=33.05(19.85%)\n"
        }
       ]
      }
     },
     "402a2356e0f140968424a3917e09cd48": {
      "model_module": "@jupyter-widgets/controls",
      "model_module_version": "1.5.0",
      "model_name": "DescriptionStyleModel",
      "state": {
       "description_width": ""
      }
     },
     "415b28142c014512942551951d68bd0f": {
      "model_module": "@jupyter-widgets/controls",
      "model_module_version": "1.5.0",
      "model_name": "HTMLModel",
      "state": {
       "layout": "IPY_MODEL_9f187e73fbe342f48beca31387e1a062",
       "style": "IPY_MODEL_402a2356e0f140968424a3917e09cd48",
       "value": "100%"
      }
     },
     "440d30542a3147be99a87e5d73a36017": {
      "model_module": "@jupyter-widgets/controls",
      "model_module_version": "1.5.0",
      "model_name": "HBoxModel",
      "state": {
       "children": [
        "IPY_MODEL_3cc468ebdbaa4565b90b0921d4e6c3c9"
       ],
       "layout": "IPY_MODEL_01fe782d486445cdadc207e712062554"
      }
     },
     "443a9e8e250840e096981e914a12225b": {
      "model_module": "@jupyter-widgets/base",
      "model_module_version": "1.2.0",
      "model_name": "LayoutModel",
      "state": {}
     },
     "455a19172a4542e0b4f169dc4a4d26c0": {
      "model_module": "@jupyter-widgets/controls",
      "model_module_version": "1.5.0",
      "model_name": "HTMLModel",
      "state": {
       "layout": "IPY_MODEL_17a3e3acf3254fab9206b887ee36e005",
       "style": "IPY_MODEL_adea7485840746388df7c06f50859f8d",
       "value": " 1000/1000 [00:47&lt;00:00, 21.76it/s]"
      }
     },
     "488c26a2a957406db42facb4b92d5899": {
      "model_module": "@jupyter-widgets/base",
      "model_module_version": "1.2.0",
      "model_name": "LayoutModel",
      "state": {}
     },
     "49fde4abf05b4b1391149134097d9082": {
      "model_module": "@jupyter-widgets/controls",
      "model_module_version": "1.5.0",
      "model_name": "DescriptionStyleModel",
      "state": {
       "description_width": ""
      }
     },
     "4a8f66eef3b245178dacc577796091d6": {
      "model_module": "@jupyter-widgets/controls",
      "model_module_version": "1.5.0",
      "model_name": "HBoxModel",
      "state": {
       "children": [
        "IPY_MODEL_c2206d2715874ea9a218331b646ef2e4",
        "IPY_MODEL_a510384ba28b4a078fb076453a262cbb",
        "IPY_MODEL_b554753a826048bb9e73daae6635f6be"
       ],
       "layout": "IPY_MODEL_03150ff73cb34857905ce96c02d2039c"
      }
     },
     "4c37a60384d3495d92f5dd738ee43c2c": {
      "model_module": "@jupyter-widgets/controls",
      "model_module_version": "1.5.0",
      "model_name": "DescriptionStyleModel",
      "state": {
       "description_width": ""
      }
     },
     "4d0532646d1448d188f18d4737d48f30": {
      "model_module": "@jupyter-widgets/controls",
      "model_module_version": "1.5.0",
      "model_name": "HTMLModel",
      "state": {
       "layout": "IPY_MODEL_1d1ed9ffc1014fc4aa1061643084d909",
       "style": "IPY_MODEL_49fde4abf05b4b1391149134097d9082",
       "value": " 0/834 [00:00&lt;?, ?it/s]"
      }
     },
     "4ef19ea161074e4a9d8bf4129252dab5": {
      "model_module": "@jupyter-widgets/controls",
      "model_module_version": "1.5.0",
      "model_name": "HBoxModel",
      "state": {
       "children": [
        "IPY_MODEL_b8d49aa3ffa444afaa5481254a7ff2a8",
        "IPY_MODEL_c7c88856d9db4a70a1c6ab4be0a8a9b8",
        "IPY_MODEL_97d037c2c1694463b18ab224e7bb38ec"
       ],
       "layout": "IPY_MODEL_443a9e8e250840e096981e914a12225b"
      }
     },
     "50cafe1bb16e4732a3479c36ccb84ae0": {
      "model_module": "@jupyter-widgets/base",
      "model_module_version": "1.2.0",
      "model_name": "LayoutModel",
      "state": {}
     },
     "513e6b436b1647a68ab94e6fef2ad676": {
      "model_module": "@jupyter-widgets/base",
      "model_module_version": "1.2.0",
      "model_name": "LayoutModel",
      "state": {}
     },
     "5bbbded76cc84562aca852fafb9f7314": {
      "model_module": "@jupyter-widgets/base",
      "model_module_version": "1.2.0",
      "model_name": "LayoutModel",
      "state": {}
     },
     "5cd29edb70854ac59bde7673c8a2899e": {
      "model_module": "@jupyter-widgets/output",
      "model_module_version": "1.0.0",
      "model_name": "OutputModel",
      "state": {
       "layout": "IPY_MODEL_f081d926bc994d5bba3a03f25cebf072",
       "outputs": [
        {
         "data": {
          "application/vnd.jupyter.widget-view+json": {
           "model_id": "",
           "version_major": 2,
           "version_minor": 0
          },
          "text/plain": "  0%|          | 0/834 [00:00<?, ?it/s]"
         },
         "metadata": {},
         "output_type": "display_data"
        }
       ]
      }
     },
     "5d7a597a92974b44936b38e35474a7cf": {
      "model_module": "@jupyter-widgets/base",
      "model_module_version": "1.2.0",
      "model_name": "LayoutModel",
      "state": {}
     },
     "5de11dd73bcc4d2ab9ba6863f75cff10": {
      "model_module": "@jupyter-widgets/controls",
      "model_module_version": "1.5.0",
      "model_name": "DescriptionStyleModel",
      "state": {
       "description_width": ""
      }
     },
     "600cc35984964760958b7543df3fb84d": {
      "model_module": "@jupyter-widgets/base",
      "model_module_version": "1.2.0",
      "model_name": "LayoutModel",
      "state": {}
     },
     "61c14779ab424efb925fc7cfd0c1e7dc": {
      "model_module": "@jupyter-widgets/controls",
      "model_module_version": "1.5.0",
      "model_name": "DescriptionStyleModel",
      "state": {
       "description_width": ""
      }
     },
     "651bdf655a434ff3a084a41f3b9bc1a6": {
      "model_module": "@jupyter-widgets/controls",
      "model_module_version": "1.5.0",
      "model_name": "ProgressStyleModel",
      "state": {
       "description_width": ""
      }
     },
     "68a6f08f7bbc4380ad43b3322bce564d": {
      "model_module": "@jupyter-widgets/controls",
      "model_module_version": "1.5.0",
      "model_name": "FloatProgressModel",
      "state": {
       "bar_style": "success",
       "layout": "IPY_MODEL_5bbbded76cc84562aca852fafb9f7314",
       "max": 1000,
       "style": "IPY_MODEL_651bdf655a434ff3a084a41f3b9bc1a6",
       "value": 1000
      }
     },
     "6c20b70b29bb4fc5a1520cfaaffd8d19": {
      "model_module": "@jupyter-widgets/base",
      "model_module_version": "1.2.0",
      "model_name": "LayoutModel",
      "state": {}
     },
     "6d63159e3d854f0db4c724a56f664690": {
      "model_module": "@jupyter-widgets/controls",
      "model_module_version": "1.5.0",
      "model_name": "HBoxModel",
      "state": {
       "children": [
        "IPY_MODEL_1780259ec22847d1a01dac019159bc2b"
       ],
       "layout": "IPY_MODEL_e316695e6b7e49be982852c751dcf825"
      }
     },
     "73e6acc8431a47f087aa0bdc98b86f08": {
      "model_module": "@jupyter-widgets/base",
      "model_module_version": "1.2.0",
      "model_name": "LayoutModel",
      "state": {}
     },
     "7eb6cfa86bb34cc28feab7b196576655": {
      "model_module": "@jupyter-widgets/controls",
      "model_module_version": "1.5.0",
      "model_name": "FloatProgressModel",
      "state": {
       "layout": "IPY_MODEL_e6f882d2ab4f48a980e8ed03b2e3735c",
       "max": 834,
       "style": "IPY_MODEL_0e33c44a493a4f9abfc780d00adc752d"
      }
     },
     "7f9fdcc1a6934fb0a9e211bc9e133ee7": {
      "model_module": "@jupyter-widgets/controls",
      "model_module_version": "1.5.0",
      "model_name": "HTMLModel",
      "state": {
       "layout": "IPY_MODEL_e0b6f17969764f9eb9ee69fb934ad289",
       "style": "IPY_MODEL_9053884b329c4c71922b4ca489a9300c",
       "value": "100%"
      }
     },
     "819e9dbcf8a646b097635045ea5f11f6": {
      "model_module": "@jupyter-widgets/base",
      "model_module_version": "1.2.0",
      "model_name": "LayoutModel",
      "state": {}
     },
     "819edc14b8e34687ac1389a05c61f8b2": {
      "model_module": "@jupyter-widgets/controls",
      "model_module_version": "1.5.0",
      "model_name": "DescriptionStyleModel",
      "state": {
       "description_width": ""
      }
     },
     "828fe593f05343db96f130f765a5a7d7": {
      "model_module": "@jupyter-widgets/base",
      "model_module_version": "1.2.0",
      "model_name": "LayoutModel",
      "state": {}
     },
     "8528e1027a644394b70f5e4e080f7a03": {
      "model_module": "@jupyter-widgets/controls",
      "model_module_version": "1.5.0",
      "model_name": "TabModel",
      "state": {
       "_titles": {
        "0": "status",
        "1": "plot",
        "2": "log"
       },
       "children": [
        "IPY_MODEL_b2a8427f9b6045018b1e485ec73d2b2a",
        "IPY_MODEL_ecb71544555d461dbd3c714169853dba",
        "IPY_MODEL_440d30542a3147be99a87e5d73a36017"
       ],
       "layout": "IPY_MODEL_debbe479849b49a68565a6230152ffce"
      }
     },
     "89ad39d3024b46c9b43c1e51ff101947": {
      "model_module": "@jupyter-widgets/controls",
      "model_module_version": "1.5.0",
      "model_name": "HBoxModel",
      "state": {
       "children": [
        "IPY_MODEL_415b28142c014512942551951d68bd0f",
        "IPY_MODEL_ea23e2e9a1774fefa25f0741c42708b4",
        "IPY_MODEL_455a19172a4542e0b4f169dc4a4d26c0"
       ],
       "layout": "IPY_MODEL_819e9dbcf8a646b097635045ea5f11f6"
      }
     },
     "8bd395736df44ad7a2a565d9aa45b231": {
      "model_module": "@jupyter-widgets/controls",
      "model_module_version": "1.5.0",
      "model_name": "ProgressStyleModel",
      "state": {
       "description_width": ""
      }
     },
     "9032bad74d6c4958a194cd4d4c723921": {
      "model_module": "@jupyter-widgets/controls",
      "model_module_version": "1.5.0",
      "model_name": "ProgressStyleModel",
      "state": {
       "description_width": ""
      }
     },
     "9053884b329c4c71922b4ca489a9300c": {
      "model_module": "@jupyter-widgets/controls",
      "model_module_version": "1.5.0",
      "model_name": "DescriptionStyleModel",
      "state": {
       "description_width": ""
      }
     },
     "9128b8530ef0462495346408eea423ac": {
      "model_module": "@jupyter-widgets/controls",
      "model_module_version": "1.5.0",
      "model_name": "HTMLModel",
      "state": {
       "layout": "IPY_MODEL_28e6994b9ba94fb7991a9685bda54414",
       "style": "IPY_MODEL_61c14779ab424efb925fc7cfd0c1e7dc",
       "value": " 11531/11531 [00:00&lt;00:00, 85393.57it/s]"
      }
     },
     "959059f62ef54ef6aea629c03633b348": {
      "model_module": "@jupyter-widgets/base",
      "model_module_version": "1.2.0",
      "model_name": "LayoutModel",
      "state": {}
     },
     "973062fb5beb4f4f9f1f9abbe31c35d2": {
      "model_module": "@jupyter-widgets/controls",
      "model_module_version": "1.5.0",
      "model_name": "HBoxModel",
      "state": {
       "children": [
        "IPY_MODEL_c5a25b8eecc4441090a64d806d7228fd",
        "IPY_MODEL_9a0a068f57014ef49081df941a9cb2d3",
        "IPY_MODEL_9128b8530ef0462495346408eea423ac"
       ],
       "layout": "IPY_MODEL_aaa2503eefbf4319a4d67fc1fd933fe4"
      }
     },
     "97d037c2c1694463b18ab224e7bb38ec": {
      "model_module": "@jupyter-widgets/controls",
      "model_module_version": "1.5.0",
      "model_name": "HTMLModel",
      "state": {
       "layout": "IPY_MODEL_5d7a597a92974b44936b38e35474a7cf",
       "style": "IPY_MODEL_c69bd273cd624b9484927a2ddfaef570",
       "value": " 11531/11531 [00:00&lt;00:00, 42613.22it/s]"
      }
     },
     "987cb359729043e795587ac39e46e941": {
      "model_module": "@jupyter-widgets/output",
      "model_module_version": "1.0.0",
      "model_name": "OutputModel",
      "state": {
       "layout": "IPY_MODEL_50cafe1bb16e4732a3479c36ccb84ae0"
      }
     },
     "996120733f664c58b7b2d4880d26f71e": {
      "model_module": "@jupyter-widgets/output",
      "model_module_version": "1.0.0",
      "model_name": "OutputModel",
      "state": {
       "layout": "IPY_MODEL_f8cfeb4f71bf4cbfb843a5a6eb988f3f",
       "outputs": [
        {
         "data": {
          "image/png": "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\n",
          "text/plain": "<Figure size 432x288 with 1 Axes>"
         },
         "metadata": {},
         "output_type": "display_data"
        }
       ]
      }
     },
     "9a0a068f57014ef49081df941a9cb2d3": {
      "model_module": "@jupyter-widgets/controls",
      "model_module_version": "1.5.0",
      "model_name": "FloatProgressModel",
      "state": {
       "bar_style": "success",
       "layout": "IPY_MODEL_ba5fb31f87c447739daa6c05572306b7",
       "max": 11531,
       "style": "IPY_MODEL_9032bad74d6c4958a194cd4d4c723921",
       "value": 11531
      }
     },
     "9b08c14af1e14cf0a78591be5ce13133": {
      "model_module": "@jupyter-widgets/controls",
      "model_module_version": "1.5.0",
      "model_name": "DescriptionStyleModel",
      "state": {
       "description_width": ""
      }
     },
     "9e9e62a4065b4c00928e9257b5db8736": {
      "model_module": "@jupyter-widgets/base",
      "model_module_version": "1.2.0",
      "model_name": "LayoutModel",
      "state": {}
     },
     "9f187e73fbe342f48beca31387e1a062": {
      "model_module": "@jupyter-widgets/base",
      "model_module_version": "1.2.0",
      "model_name": "LayoutModel",
      "state": {}
     },
     "a0cce3c8849b4f62acf0c48b9df98163": {
      "model_module": "@jupyter-widgets/output",
      "model_module_version": "1.0.0",
      "model_name": "OutputModel",
      "state": {
       "layout": "IPY_MODEL_959059f62ef54ef6aea629c03633b348",
       "outputs": [
        {
         "data": {
          "application/vnd.jupyter.widget-view+json": {
           "model_id": "4a8f66eef3b245178dacc577796091d6",
           "version_major": 2,
           "version_minor": 0
          },
          "text/plain": "  0%|          | 0/834 [00:00<?, ?it/s]"
         },
         "metadata": {},
         "output_type": "display_data"
        }
       ]
      }
     },
     "a510384ba28b4a078fb076453a262cbb": {
      "model_module": "@jupyter-widgets/controls",
      "model_module_version": "1.5.0",
      "model_name": "FloatProgressModel",
      "state": {
       "layout": "IPY_MODEL_1f8c47f091864cd886f2ccf60563c616",
       "max": 834,
       "style": "IPY_MODEL_8bd395736df44ad7a2a565d9aa45b231",
       "value": 76
      }
     },
     "aaa2503eefbf4319a4d67fc1fd933fe4": {
      "model_module": "@jupyter-widgets/base",
      "model_module_version": "1.2.0",
      "model_name": "LayoutModel",
      "state": {}
     },
     "adea7485840746388df7c06f50859f8d": {
      "model_module": "@jupyter-widgets/controls",
      "model_module_version": "1.5.0",
      "model_name": "DescriptionStyleModel",
      "state": {
       "description_width": ""
      }
     },
     "b2a8427f9b6045018b1e485ec73d2b2a": {
      "model_module": "@jupyter-widgets/controls",
      "model_module_version": "1.5.0",
      "model_name": "VBoxModel",
      "state": {
       "children": [
        "IPY_MODEL_a0cce3c8849b4f62acf0c48b9df98163",
        "IPY_MODEL_232bb29dfea8451aba45223db60ccc22"
       ],
       "layout": "IPY_MODEL_cf1d522971b7452183ef1e91616e3513"
      }
     },
     "b554753a826048bb9e73daae6635f6be": {
      "model_module": "@jupyter-widgets/controls",
      "model_module_version": "1.5.0",
      "model_name": "HTMLModel",
      "state": {
       "layout": "IPY_MODEL_600cc35984964760958b7543df3fb84d",
       "style": "IPY_MODEL_f2242c6972b14f65bdb7164dad8723bc",
       "value": " 76/834 [00:10&lt;01:43,  7.31it/s]"
      }
     },
     "b8d49aa3ffa444afaa5481254a7ff2a8": {
      "model_module": "@jupyter-widgets/controls",
      "model_module_version": "1.5.0",
      "model_name": "HTMLModel",
      "state": {
       "layout": "IPY_MODEL_ce12402ec39c4e0cba6d930c9d2c32bd",
       "style": "IPY_MODEL_819edc14b8e34687ac1389a05c61f8b2",
       "value": "100%"
      }
     },
     "b93d0681fa404a0a85ec49a640676a86": {
      "model_module": "@jupyter-widgets/output",
      "model_module_version": "1.0.0",
      "model_name": "OutputModel",
      "state": {
       "layout": "IPY_MODEL_115ea9fd9c644647a33b91d7be29db37",
       "outputs": [
        {
         "data": {
          "text/html": "<div>\n<style scoped>\n    .dataframe tbody tr th:only-of-type {\n        vertical-align: middle;\n    }\n\n    .dataframe tbody tr th {\n        vertical-align: top;\n    }\n\n    .dataframe thead th {\n        text-align: right;\n    }\n</style>\n<table border=\"1\" class=\"dataframe\">\n  <thead>\n    <tr style=\"text-align: right;\">\n      <th></th>\n    </tr>\n  </thead>\n  <tbody>\n    <tr>\n      <th></th>\n    </tr>\n  </tbody>\n</table>\n</div>",
          "text/plain": "Empty DataFrame\nColumns: []\nIndex: []"
         },
         "metadata": {},
         "output_type": "display_data"
        }
       ]
      }
     },
     "ba5fb31f87c447739daa6c05572306b7": {
      "model_module": "@jupyter-widgets/base",
      "model_module_version": "1.2.0",
      "model_name": "LayoutModel",
      "state": {}
     },
     "c2206d2715874ea9a218331b646ef2e4": {
      "model_module": "@jupyter-widgets/controls",
      "model_module_version": "1.5.0",
      "model_name": "HTMLModel",
      "state": {
       "layout": "IPY_MODEL_6c20b70b29bb4fc5a1520cfaaffd8d19",
       "style": "IPY_MODEL_9b08c14af1e14cf0a78591be5ce13133",
       "value": "[epoch 1187/None]:   9%"
      }
     },
     "c5a25b8eecc4441090a64d806d7228fd": {
      "model_module": "@jupyter-widgets/controls",
      "model_module_version": "1.5.0",
      "model_name": "HTMLModel",
      "state": {
       "layout": "IPY_MODEL_73e6acc8431a47f087aa0bdc98b86f08",
       "style": "IPY_MODEL_4c37a60384d3495d92f5dd738ee43c2c",
       "value": "100%"
      }
     },
     "c69bd273cd624b9484927a2ddfaef570": {
      "model_module": "@jupyter-widgets/controls",
      "model_module_version": "1.5.0",
      "model_name": "DescriptionStyleModel",
      "state": {
       "description_width": ""
      }
     },
     "c7c88856d9db4a70a1c6ab4be0a8a9b8": {
      "model_module": "@jupyter-widgets/controls",
      "model_module_version": "1.5.0",
      "model_name": "FloatProgressModel",
      "state": {
       "bar_style": "success",
       "layout": "IPY_MODEL_488c26a2a957406db42facb4b92d5899",
       "max": 11531,
       "style": "IPY_MODEL_e1a19920a27f459e8a79895f40e8549d",
       "value": 11531
      }
     },
     "cd23f87023f94529ae68dd4fe734dae3": {
      "model_module": "@jupyter-widgets/controls",
      "model_module_version": "1.5.0",
      "model_name": "HTMLModel",
      "state": {
       "layout": "IPY_MODEL_513e6b436b1647a68ab94e6fef2ad676",
       "style": "IPY_MODEL_5de11dd73bcc4d2ab9ba6863f75cff10",
       "value": "  0%"
      }
     },
     "ce12402ec39c4e0cba6d930c9d2c32bd": {
      "model_module": "@jupyter-widgets/base",
      "model_module_version": "1.2.0",
      "model_name": "LayoutModel",
      "state": {}
     },
     "cf1d522971b7452183ef1e91616e3513": {
      "model_module": "@jupyter-widgets/base",
      "model_module_version": "1.2.0",
      "model_name": "LayoutModel",
      "state": {}
     },
     "d6eb1257152c4cf6b0682cbfc090dcdd": {
      "model_module": "@jupyter-widgets/base",
      "model_module_version": "1.2.0",
      "model_name": "LayoutModel",
      "state": {
       "height": "500px",
       "overflow_y": "auto"
      }
     },
     "debbe479849b49a68565a6230152ffce": {
      "model_module": "@jupyter-widgets/base",
      "model_module_version": "1.2.0",
      "model_name": "LayoutModel",
      "state": {}
     },
     "e0b6f17969764f9eb9ee69fb934ad289": {
      "model_module": "@jupyter-widgets/base",
      "model_module_version": "1.2.0",
      "model_name": "LayoutModel",
      "state": {}
     },
     "e1a19920a27f459e8a79895f40e8549d": {
      "model_module": "@jupyter-widgets/controls",
      "model_module_version": "1.5.0",
      "model_name": "ProgressStyleModel",
      "state": {
       "description_width": ""
      }
     },
     "e316695e6b7e49be982852c751dcf825": {
      "model_module": "@jupyter-widgets/base",
      "model_module_version": "1.2.0",
      "model_name": "LayoutModel",
      "state": {
       "height": "500px",
       "overflow_y": "auto"
      }
     },
     "e60f049133004d33adfc124e5599bf86": {
      "model_module": "@jupyter-widgets/controls",
      "model_module_version": "1.5.0",
      "model_name": "ProgressStyleModel",
      "state": {
       "description_width": ""
      }
     },
     "e6f882d2ab4f48a980e8ed03b2e3735c": {
      "model_module": "@jupyter-widgets/base",
      "model_module_version": "1.2.0",
      "model_name": "LayoutModel",
      "state": {}
     },
     "ea23e2e9a1774fefa25f0741c42708b4": {
      "model_module": "@jupyter-widgets/controls",
      "model_module_version": "1.5.0",
      "model_name": "FloatProgressModel",
      "state": {
       "bar_style": "success",
       "layout": "IPY_MODEL_9e9e62a4065b4c00928e9257b5db8736",
       "max": 1000,
       "style": "IPY_MODEL_e60f049133004d33adfc124e5599bf86",
       "value": 1000
      }
     },
     "ecb71544555d461dbd3c714169853dba": {
      "model_module": "@jupyter-widgets/controls",
      "model_module_version": "1.5.0",
      "model_name": "HBoxModel",
      "state": {
       "children": [
        "IPY_MODEL_996120733f664c58b7b2d4880d26f71e"
       ],
       "layout": "IPY_MODEL_d6eb1257152c4cf6b0682cbfc090dcdd"
      }
     },
     "f081d926bc994d5bba3a03f25cebf072": {
      "model_module": "@jupyter-widgets/base",
      "model_module_version": "1.2.0",
      "model_name": "LayoutModel",
      "state": {}
     },
     "f2242c6972b14f65bdb7164dad8723bc": {
      "model_module": "@jupyter-widgets/controls",
      "model_module_version": "1.5.0",
      "model_name": "DescriptionStyleModel",
      "state": {
       "description_width": ""
      }
     },
     "f49f8e00f3954109b075ecdda35531a5": {
      "model_module": "@jupyter-widgets/controls",
      "model_module_version": "1.5.0",
      "model_name": "HBoxModel",
      "state": {
       "children": [
        "IPY_MODEL_987cb359729043e795587ac39e46e941"
       ],
       "layout": "IPY_MODEL_2c54de31e0844903bbfa055aec0fa659"
      }
     },
     "f8cfeb4f71bf4cbfb843a5a6eb988f3f": {
      "model_module": "@jupyter-widgets/base",
      "model_module_version": "1.2.0",
      "model_name": "LayoutModel",
      "state": {}
     },
     "fb3ccfe50f23407192c0f4c37052e6fa": {
      "model_module": "@jupyter-widgets/base",
      "model_module_version": "1.2.0",
      "model_name": "LayoutModel",
      "state": {}
     },
     "fbc5cd7d1f08427d8c4ea7130dc57797": {
      "model_module": "@jupyter-widgets/controls",
      "model_module_version": "1.5.0",
      "model_name": "HBoxModel",
      "state": {
       "children": [
        "IPY_MODEL_7f9fdcc1a6934fb0a9e211bc9e133ee7",
        "IPY_MODEL_68a6f08f7bbc4380ad43b3322bce564d",
        "IPY_MODEL_07e4031aa14246f9a312c57c52a108cc"
       ],
       "layout": "IPY_MODEL_3c036fb873124b2aa4d0865da0813b34"
      }
     }
    },
    "version_major": 2,
    "version_minor": 0
   }
  }
 },
 "nbformat": 4,
 "nbformat_minor": 4
}
