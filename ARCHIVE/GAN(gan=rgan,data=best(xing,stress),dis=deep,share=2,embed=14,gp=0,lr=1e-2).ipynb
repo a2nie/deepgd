{
 "cells": [
  {
   "cell_type": "markdown",
   "metadata": {
    "id": "wZtYFEhHoBGp"
   },
   "source": [
    "# Import libraries"
   ]
  },
  {
   "cell_type": "code",
   "execution_count": 1,
   "metadata": {
    "id": "KJPfzpxLQI5O"
   },
   "outputs": [],
   "source": [
    "%load_ext autoreload\n",
    "%autoreload 2\n",
    "from deepgd import *"
   ]
  },
  {
   "cell_type": "markdown",
   "metadata": {
    "id": "z4eBEyB1oaJe"
   },
   "source": [
    "# Config"
   ]
  },
  {
   "cell_type": "code",
   "execution_count": 2,
   "metadata": {
    "id": "Q_-MLFhpNvxF"
   },
   "outputs": [],
   "source": [
    "cuda_idx = 0\n",
    "canonicalization = Canonicalization(normalize=Standardization(norm_ord=1),\n",
    "                                    scale=False)\n",
    "config = StaticConfig({\n",
    "    \"name\": 'GAN(gan=rgan,data=best(xing,stress),dis=deep,share=2,embed=14,gp=0,lr=1e-2)',\n",
    "    \"uid\": None,\n",
    "    \"link\": None,\n",
    "    \"generator\": {\n",
    "        \"params\": {\n",
    "            \"num_blocks\": 9,\n",
    "            \"normalize\": canonicalization\n",
    "        },\n",
    "        \"pretrained\": {\n",
    "            \"name\": None,\n",
    "            \"epoch\": -1,\n",
    "        },\n",
    "        \"optim\": torch.optim.AdamW,\n",
    "        \"lr\" : {\n",
    "            \"initial\": 1e-2,\n",
    "            \"decay\": 0.99,\n",
    "        },\n",
    "    },\n",
    "    \"discriminator\": {\n",
    "        \"params\": {\n",
    "            \"conv\": [2, 16, 16, 16],\n",
    "            \"dense\": [2],\n",
    "            \"shared_depth\": 2,\n",
    "            \"enet_depth\": 14,\n",
    "            \"enet_width\": 64,\n",
    "            \"aggr\": \"add\",\n",
    "            \"normalize\": canonicalization\n",
    "        },\n",
    "        \"pretrained\": {\n",
    "            \"name\": None,\n",
    "            \"epoch\": -1,\n",
    "        },\n",
    "        \"optim\": torch.optim.AdamW,\n",
    "        \"lr\" : {\n",
    "            \"initial\": 1e-2,\n",
    "            \"decay\": 0.99,\n",
    "        },\n",
    "        \"noise\": {\n",
    "            \"std\": 0,\n",
    "            \"decay\": 0.95,\n",
    "        },\n",
    "        \"repeat\": 1,\n",
    "        \"complete\": True,\n",
    "        \"adaptive\": True\n",
    "    },\n",
    "    \"alternate\": \"epoch\",\n",
    "    \"batchsize\": 24,\n",
    "    \"epoch\": {\n",
    "        \"start\": -1,\n",
    "        \"end\": None,\n",
    "    },\n",
    "    \"log_interval\": 1,\n",
    "    \"test\": {\n",
    "        \"name\": \"test\",\n",
    "        \"epoch\": -1,\n",
    "    },\n",
    "    \"gan_flavor\": \"rgan\",\n",
    "    \"gp_weight\": 0,\n",
    "})\n",
    "data_config = StaticConfig({\n",
    "    \"sparse\": False,\n",
    "    \"pivot\": None,\n",
    "    \"init\": \"pmds\",\n",
    "    \"edge\": {\n",
    "        \"index\": \"full_edge_index\",\n",
    "        \"attr\": \"full_edge_attr\",\n",
    "    },\n",
    "})\n",
    "loss_fns = {\n",
    "    Stress(): 1\n",
    "}\n",
    "ctrler_params = {\n",
    "    \"tau\": 0.95,\n",
    "    \"beta\": 1,\n",
    "    \"exploit_rate\": 0.5,\n",
    "    \"warmup\": 2,\n",
    "}\n",
    "paths = StaticConfig({\n",
    "    \"root\": \"artifacts\",\n",
    "    \"checkpoints\": lambda: f\"{paths.root}/checkpoints/{config.name}\",\n",
    "    \"gen_pretrain\": lambda: f\"{paths.root}/checkpoints/{config.generator.pretrained.name}\",\n",
    "    \"dis_pretrain\": lambda: f\"{paths.root}/checkpoints/{config.discriminator.pretrained.name}\",\n",
    "    \"tensorboard\": lambda: f\"{paths.root}/tensorboards/{config.name}\",\n",
    "    \"visualization\": lambda: f\"{paths.root}/visualizations/{config.name}_{config.test.name}\",\n",
    "    \"log\": lambda: f\"{paths.root}/logs/{config.name}.log\",\n",
    "    \"metrics\": lambda suffix: f\"{paths.root}/metrics/{config.name}_{suffix}.pickle\",\n",
    "})"
   ]
  },
  {
   "cell_type": "code",
   "execution_count": 3,
   "metadata": {
    "id": "mdMEAbH10Qaq"
   },
   "outputs": [],
   "source": [
    "if \" \" in config.name:\n",
    "    raise Exception(\"Space is not allowed in model name.\")"
   ]
  },
  {
   "cell_type": "markdown",
   "metadata": {
    "id": "WynW4ZAdBhep"
   },
   "source": [
    "# Prepare"
   ]
  },
  {
   "cell_type": "markdown",
   "metadata": {
    "id": "DR6-vYtr_i_P"
   },
   "source": [
    "## Get log command"
   ]
  },
  {
   "cell_type": "code",
   "execution_count": 4,
   "metadata": {
    "colab": {
     "base_uri": "https://localhost:8080/"
    },
    "id": "9-QpinlslcTO",
    "outputId": "48ae3716-212c-4d46-9efb-b7b4070f73de"
   },
   "outputs": [
    {
     "name": "stdout",
     "output_type": "stream",
     "text": [
      "cd /users/PAS0027/osu10203/deepgd && tail -n1000 -f 'artifacts/logs/GAN(gan=rgan,data=best(xing,stress),dis=deep,share=2,embed=14,gp=0,lr=1e-2).log'\n"
     ]
    }
   ],
   "source": [
    "print(f\"cd {os.getcwd()} && tail -n1000 -f '{paths.log()}'\")"
   ]
  },
  {
   "cell_type": "code",
   "execution_count": 5,
   "metadata": {},
   "outputs": [
    {
     "name": "stdout",
     "output_type": "stream",
     "text": [
      "tensorboard dev upload --logdir 'artifacts/tensorboards/GAN(gan=rgan,data=best(xing,stress),dis=deep,share=2,embed=14,gp=0,lr=1e-2)'\n"
     ]
    }
   ],
   "source": [
    "print(f\"tensorboard dev upload --logdir '{paths.tensorboard()}'\")"
   ]
  },
  {
   "cell_type": "markdown",
   "metadata": {
    "id": "innqkwvH_ydD"
   },
   "source": [
    "## Set globals"
   ]
  },
  {
   "cell_type": "code",
   "execution_count": 6,
   "metadata": {
    "id": "Qjq7JlSZlkQR"
   },
   "outputs": [],
   "source": [
    "if cuda_idx is not None and torch.cuda.is_available():\n",
    "    device = f'cuda:{cuda_idx}'\n",
    "    pynvml.nvmlInit()\n",
    "    cuda = pynvml.nvmlDeviceGetHandleByIndex(cuda_idx)\n",
    "else:\n",
    "    device = 'cpu'\n",
    "    cuda =  None\n",
    "np.set_printoptions(precision=2)\n",
    "warnings.filterwarnings(\"ignore\", category=RuntimeWarning)"
   ]
  },
  {
   "cell_type": "markdown",
   "metadata": {
    "id": "0da286l_ApEL"
   },
   "source": [
    "## Load data"
   ]
  },
  {
   "cell_type": "code",
   "execution_count": 7,
   "metadata": {
    "colab": {
     "base_uri": "https://localhost:8080/"
    },
    "id": "RFuSHiZJMU4x",
    "outputId": "54065609-aaea-4536-d79c-73bc73b3f576"
   },
   "outputs": [
    {
     "name": "stdout",
     "output_type": "stream",
     "text": [
      "Load from 'cache/G_list.pickle'\n",
      "Load from 'cache/generate_data_list(list,sparse=False,pivot_mode=None,init_mode=pmds,edge_index=full_edge_index,edge_attr=full_edge_attr,pmds_list=ndarray,gviz_list=ndarray,noisy_layout=True,device=cpu).pickle'\n"
     ]
    },
    {
     "name": "stderr",
     "output_type": "stream",
     "text": [
      "/users/PAS0027/osu10203/.conda/envs/deepgd/lib/python3.9/site-packages/torch_geometric/deprecation.py:13: UserWarning: 'data.DataLoader' is deprecated, use 'loader.DataLoader' instead\n",
      "  warnings.warn(out)\n"
     ]
    }
   ],
   "source": [
    "G_list = load_G_list(data_path='data/rome', index_file='data_index.txt', cache='G_list', cache_prefix='cache/')\n",
    "data_list = generate_data_list(G_list, \n",
    "                               sparse=data_config.sparse, \n",
    "                               pivot_mode=data_config.pivot,\n",
    "                               init_mode=data_config.init,\n",
    "                               edge_index=data_config.edge.index,\n",
    "                               edge_attr=data_config.edge.attr,\n",
    "                               pmds_list=np.load('layouts/rome/pmds.npy', allow_pickle=True),\n",
    "                               gviz_list=np.load('layouts/rome/gviz.npy', allow_pickle=True),\n",
    "                               noisy_layout=True,\n",
    "                               device='cpu', \n",
    "                               cache=True,\n",
    "                               cache_prefix='cache/')\n",
    "train_loader = LazyDeviceMappingDataLoader(data_list[:10000], batch_size=config.batchsize, shuffle=True, device=device)\n",
    "val_loader = LazyDeviceMappingDataLoader(data_list[11000:], batch_size=config.batchsize, shuffle=False, device=device)"
   ]
  },
  {
   "cell_type": "code",
   "execution_count": 8,
   "metadata": {
    "id": "djd1pLt2OxZq"
   },
   "outputs": [],
   "source": [
    "def draw_layout(G, method, draw=True):\n",
    "    if method == 'fa2':\n",
    "        layout = get_fa2_layout(G)\n",
    "    else:\n",
    "        try:\n",
    "            fn = getattr(nx.drawing.layout, f'{method}_layout')\n",
    "            layout = fn(G)\n",
    "        except:\n",
    "            layout = nx.drawing.nx_agraph.graphviz_layout(G, prog=method)\n",
    "    if draw:\n",
    "        nx.draw(G, pos=layout)\n",
    "    return layout"
   ]
  },
  {
   "cell_type": "code",
   "execution_count": 9,
   "metadata": {
    "id": "2vBBw77lR7Em"
   },
   "outputs": [],
   "source": [
    "methods = ['neato', 'dot', 'fdp', 'sfdp', 'twopi', 'circo', 'shell', 'spring', 'circular', 'spectral', 'kamada_kawai', 'fa2', 'pmds']"
   ]
  },
  {
   "cell_type": "code",
   "execution_count": 10,
   "metadata": {
    "id": "dx6VVA9XIc2O"
   },
   "outputs": [],
   "source": [
    "from functools import lru_cache\n",
    "\n",
    "@lru_cache(maxsize=None)\n",
    "def load_pos(method):\n",
    "    return np.load(f'layouts/rome/{method}.npy', allow_pickle=True)"
   ]
  },
  {
   "cell_type": "code",
   "execution_count": 11,
   "metadata": {
    "colab": {
     "base_uri": "https://localhost:8080/",
     "height": 1000,
     "referenced_widgets": [
      "05a37aeeb20049dfa2f97287b3990556",
      "a75afae3adfd4810a0b0991a062535ee",
      "a24ae105ed124595992f7e2e5f909247",
      "01b4cabaf8004dd4b9269b4e6889c498",
      "f3c7c84f2b314bd8b97a7358deaf4fa1",
      "35e4a83e692b4a7bafb46fdf192b2586",
      "62847b5e2678459f845159eef6d4feab",
      "143e81f00313436dacfa246a57108944",
      "e05833f11803400b95ff22246cdc8f2b",
      "53aeede91e074378b5d7f626165655ee",
      "79a43768c1794a10a788a49e5883aa2c"
     ]
    },
    "id": "MSmP-jem9I0X",
    "outputId": "c698f0bf-e96e-4de9-aeda-0b046fc0a03f",
    "scrolled": true,
    "tags": []
   },
   "outputs": [],
   "source": [
    "# best_list = []\n",
    "# best_layout_list = []\n",
    "# for idx, (G, data) in enumerate(zip(tqdm(G_list), data_list)):\n",
    "#     xing, stress, layout = {}, {}, {}\n",
    "#     for m in methods:\n",
    "#         batch = Batch.from_data_list([data])\n",
    "#         pos = load_pos(m)\n",
    "#         p = CanonicalizationByStress()(torch.tensor(pos[idx]).float(), batch)\n",
    "#         x = Xing()(p, batch).item()\n",
    "#         s = Stress()(p, batch).item()\n",
    "#         xing[m] = x\n",
    "#         stress[m] = s\n",
    "#         layout[m] = p.numpy()\n",
    "#         # plt.figure()\n",
    "#         # graph_vis(G, pos[idx])\n",
    "#         # plt.title(f'{m} stress={s:.2f} xing={x}')\n",
    "#     best, *_ = sorted(methods, key=lambda m: (xing[m], stress[m]))\n",
    "#     best_list.append(best)\n",
    "#     best_layout_list.append(layout[best])\n",
    "#     print(f'{best}, xing={xing[best]}, stress={stress[best]:.2f}')"
   ]
  },
  {
   "cell_type": "code",
   "execution_count": 12,
   "metadata": {
    "colab": {
     "base_uri": "https://localhost:8080/"
    },
    "id": "Mx2bZNugdTqa",
    "outputId": "cec05a67-18e8-492f-aaa1-057274a8341a"
   },
   "outputs": [],
   "source": [
    "# pickle.dump(best_list, open('layouts/rome/best[xing,stress].pkl', 'wb'))\n",
    "# np.save('layouts/rome/best[xing,stress].npy', best_layout_list)"
   ]
  },
  {
   "cell_type": "code",
   "execution_count": 13,
   "metadata": {
    "colab": {
     "base_uri": "https://localhost:8080/",
     "height": 49,
     "referenced_widgets": [
      "7e0ae84dd0f3458d893c81b029fe1729",
      "18bdc3bf80fb434abde68de5b72a8870",
      "2e3552ded9594635a51832387ae754a0",
      "54f4aa5080c6498080a63be2cdeefee5",
      "3937586d0879451da5e2138ca3bfd0a0",
      "a9df6e84ce8c499eb2b2cf984995d791",
      "7af6b718dd3d4e01b264377a2fa938e2",
      "a774c86e64004bd6951645f1c24abad4",
      "c86575117cd041f2837762f37d1f387b",
      "6e9907cefb1241688fbd248b8281ed9f",
      "9b8e5405d8264944acab57e81f2f5ad6"
     ]
    },
    "id": "A1-w1fspC53p",
    "outputId": "09c2d5c3-1eef-41eb-dcee-581af1294804"
   },
   "outputs": [
    {
     "data": {
      "application/vnd.jupyter.widget-view+json": {
       "model_id": "bb4547b0f9534c998b11bbabff89ecb7",
       "version_major": 2,
       "version_minor": 0
      },
      "text/plain": [
       "  0%|          | 0/11531 [00:00<?, ?it/s]"
      ]
     },
     "metadata": {},
     "output_type": "display_data"
    }
   ],
   "source": [
    "best_layout_list = np.load('layouts/rome/best[xing,stress].npy', allow_pickle=True)\n",
    "for data, layout in zip(tqdm(data_list), best_layout_list):\n",
    "    data.gt_pos = torch.tensor(layout)"
   ]
  },
  {
   "cell_type": "code",
   "execution_count": 14,
   "metadata": {
    "id": "y6EGh4U7exL_"
   },
   "outputs": [],
   "source": [
    "train_loader = LazyDeviceMappingDataLoader(data_list[:10000], batch_size=config.batchsize, shuffle=True, device=device)\n",
    "val_loader = LazyDeviceMappingDataLoader(data_list[11000:], batch_size=config.batchsize, shuffle=False, device=device)"
   ]
  },
  {
   "cell_type": "code",
   "execution_count": 15,
   "metadata": {
    "colab": {
     "base_uri": "https://localhost:8080/",
     "height": 103,
     "referenced_widgets": [
      "38a33cf69aff48f4aabd4902a7ce48b1",
      "57e277bcb44c4e2fa2a12105d75153d1",
      "20ce017c46bd4a7c9b420270ac579405",
      "13f2df4fe0ce4af88b6e3bd1637065b0",
      "2867faa145ca4860a198d4d0bf830f89",
      "02838cf669174ed9afa41a1a8e680765",
      "7e9e3c031667455f8baca163d3a213e5",
      "4000135e7dfa46529fa6244fccc5cb57",
      "e523e9faac5b4ec38643c05ac5ba99f7",
      "e8e3ee9741e4480dae5003ccc19a7891",
      "9a569045221b43acb3ba2fbf116b2c74"
     ]
    },
    "id": "YEfRRUK0NiNm",
    "outputId": "93f53d05-7667-4cda-a38e-c3a953124f79"
   },
   "outputs": [],
   "source": [
    "# for m in methods:\n",
    "#     layouts = []\n",
    "#     for G in tqdm(G_list):\n",
    "#         layout = draw_layout(G, method=m, draw=False)\n",
    "#         layouts.append(np.array(list(layout.values())))\n",
    "#     np.save(f'layouts/rome/{m}.npy', layouts)"
   ]
  },
  {
   "cell_type": "code",
   "execution_count": 16,
   "metadata": {
    "colab": {
     "base_uri": "https://localhost:8080/",
     "height": 564
    },
    "id": "upK7AHYqPmC5",
    "outputId": "29a88e61-f55f-409c-9194-12c6d5762528"
   },
   "outputs": [],
   "source": [
    "# from collections import Counter\n",
    "\n",
    "# letter_counts = Counter(best_list)\n",
    "# df = pd.DataFrame.from_dict(letter_counts, orient='index')\n",
    "# df.plot(kind='bar', figsize=[12, 8])"
   ]
  },
  {
   "cell_type": "markdown",
   "metadata": {
    "id": "f-ODE2k8BFV6"
   },
   "source": [
    "## Create folders"
   ]
  },
  {
   "cell_type": "code",
   "execution_count": 17,
   "metadata": {
    "id": "3ykUMINYBRog"
   },
   "outputs": [],
   "source": [
    "mkdirs(paths.checkpoints(), paths.tensorboard(), paths.visualization(), f\"{paths.root}/logs\", f\"{paths.root}/metrics\")"
   ]
  },
  {
   "cell_type": "markdown",
   "metadata": {
    "id": "BFq9k5nzBIh5"
   },
   "source": [
    "## Load checkpoints"
   ]
  },
  {
   "cell_type": "code",
   "execution_count": 18,
   "metadata": {
    "id": "W5NbsKkobIfA"
   },
   "outputs": [],
   "source": [
    "class EdgeFeatureDiscriminator(nn.Module):\n",
    "    def __init__(self, \n",
    "                 conv, \n",
    "                 dense,\n",
    "                 shared_depth,\n",
    "                 enet_depth,\n",
    "                 enet_width,\n",
    "                 aggr='add', \n",
    "                 root_weight=True,\n",
    "                 normalize=None):\n",
    "        super().__init__()\n",
    "        self.enet = nn.Sequential(*[\n",
    "            DenseLayer(in_dim=in_d,\n",
    "                       out_dim=out_d,\n",
    "                       skip=nonlin,\n",
    "                       bn=nonlin,\n",
    "                       act=nonlin,\n",
    "                       dp=None)\n",
    "            for in_d, out_d, nonlin \n",
    "            in zip([self._get_feature_dim()] + [enet_width] * (shared_depth-1),\n",
    "                   [enet_width] * shared_depth,\n",
    "                   [True] * (shared_depth-1) + [False])     \n",
    "        ])\n",
    "        self.blocks = nn.ModuleList([\n",
    "            GNNLayer(nfeat_dims=(in_d, out_d),\n",
    "                     efeat_dim=enet_width,\n",
    "                     edge_net=EdgeNet(nfeat_dims=(in_d, out_d), \n",
    "                                      efeat_dim=enet_width, \n",
    "                                      depth=enet_depth, \n",
    "                                      width=enet_width),\n",
    "                     aggr=aggr,\n",
    "                     dense=False,\n",
    "                     skip=nonlin,\n",
    "                     bn=nonlin,\n",
    "                     act=nonlin,\n",
    "                     root_weight=root_weight) \n",
    "            for in_d, out_d, nonlin \n",
    "            in zip(conv[:-1], conv[1:], [True] * (len(conv)-2) + [False])     \n",
    "        ])\n",
    "        self.pool = (gnn.global_mean_pool if aggr == 'mean' \n",
    "                     else gnn.global_add_pool if aggr == 'add' \n",
    "                     else None)\n",
    "        self.dense = nn.Identity() if not dense else nn.Sequential(*[\n",
    "            DenseLayer(in_dim=in_d,\n",
    "                       out_dim=out_d,\n",
    "                       skip=nonlin,\n",
    "                       bn=nonlin,\n",
    "                       act=nonlin,\n",
    "                       dp=None)\n",
    "            for in_d, out_d, nonlin \n",
    "            in zip(conv[-1:] + dense[:-1], dense, [True] * (len(dense)-1) + [False])     \n",
    "        ])\n",
    "        self.normalize = normalize or IdentityTransformation()\n",
    "    \n",
    "    def forward(self, batch):\n",
    "        x = torch.ones_like(batch.pos)\n",
    "        e = self.enet(self._get_features(self._get_edge_info(batch, layout='pos')))\n",
    "        for block in self.blocks:\n",
    "            x = block(x, e, batch)\n",
    "        x = self.pool(x, batch.batch)\n",
    "        x = self.dense(x)\n",
    "        return x\n",
    "    \n",
    "    def _get_edge_info(self, batch, layout='gt_pos'):\n",
    "        pos = self.normalize(batch[layout].float(), batch)\n",
    "        src, dst = get_edges(pos, batch)\n",
    "        v, u = l2_normalize(dst - src, return_norm=True)\n",
    "        d = batch.edge_attr[:, :1]\n",
    "        return {\n",
    "            \"src\": src,\n",
    "            \"dst\": dst,\n",
    "            \"v\": v,\n",
    "            \"u\": u,\n",
    "            \"d\": d,\n",
    "        }\n",
    "\n",
    "    def _get_features(self, edges):\n",
    "        return torch.cat([edges['src'], edges['dst'], edges['d']], dim=1)\n",
    "        \n",
    "    def _get_feature_dim(self):\n",
    "        return self._get_features({\n",
    "            \"src\": torch.zeros(1, 2),\n",
    "            \"dst\": torch.zeros(1, 2),\n",
    "            \"v\": torch.zeros(1, 2),\n",
    "            \"u\": torch.zeros(1, 1),\n",
    "            \"d\": torch.zeros(1, 1),\n",
    "        }).shape[-1]"
   ]
  },
  {
   "cell_type": "code",
   "execution_count": 19,
   "metadata": {
    "id": "96ZActxlL0fJ"
   },
   "outputs": [],
   "source": [
    "class StressDiscriminator(nn.Module):\n",
    "    def __init__(self, normalize=CanonicalizationByStress(), **kwargs):\n",
    "        super().__init__()\n",
    "        self.dummy = nn.Parameter(torch.zeros(1))\n",
    "        self.normalize = normalize\n",
    "        self.stress = Stress(reduce=None)\n",
    "\n",
    "    def forward(self, batch):\n",
    "        return -self.stress(self.normalize(batch.pos, batch), batch)"
   ]
  },
  {
   "cell_type": "code",
   "execution_count": 20,
   "metadata": {
    "id": "IJ6xCYBUuhcw"
   },
   "outputs": [],
   "source": [
    "def get_ckpt_epoch(folder, epoch):\n",
    "    if not os.path.isdir(folder):\n",
    "        os.mkdir(folder)\n",
    "    if epoch >= 0:\n",
    "        return epoch\n",
    "    ckpt_files = os.listdir(folder)\n",
    "    last_epoch = 0\n",
    "    if ckpt_files:\n",
    "        last_epoch = sorted(list(map(lambda x: int(re.search('(?<=epoch_)(\\d+)(?=\\.)', x).group(1)), ckpt_files)))[-1]\n",
    "    return last_epoch + epoch + 1\n",
    "\n",
    "def start_epoch():\n",
    "    return get_ckpt_epoch(paths.checkpoints(), config.epoch.start)"
   ]
  },
  {
   "cell_type": "code",
   "execution_count": 21,
   "metadata": {
    "colab": {
     "base_uri": "https://localhost:8080/"
    },
    "id": "JacDYXka9U01",
    "outputId": "ef4e31ab-2144-497c-8e4f-4d3740ce2d52"
   },
   "outputs": [
    {
     "name": "stdout",
     "output_type": "stream",
     "text": [
      "Loading from artifacts/checkpoints/GAN(gan=rgan,data=best(xing,stress),dis=deep,share=2,embed=14,gp=0,lr=1e-2)/gen_epoch_882.pt...\n",
      "Loading from artifacts/checkpoints/GAN(gan=rgan,data=best(xing,stress),dis=deep,share=2,embed=14,gp=0,lr=1e-2)/gen_optim_epoch_882.pt...\n"
     ]
    }
   ],
   "source": [
    "generator = Generator(**config.generator.params[...]).to(device)\n",
    "generator_optimizer = config.generator.optim(generator.parameters(), lr=config.generator.lr.initial * config.generator.lr.decay ** start_epoch())\n",
    "generator_scheduler = torch.optim.lr_scheduler.ExponentialLR(generator_optimizer, gamma=config.generator.lr.decay)\n",
    "if start_epoch() != 0:\n",
    "    gen_ckpt_epoch = start_epoch()\n",
    "elif config.generator.pretrained.name is not None and config.generator.pretrained.epoch != 0:\n",
    "    gen_pretrained_epoch = get_ckpt_epoch(paths.gen_pretrain(), config.generator.pretrained.epoch)\n",
    "    gen_ckpt_epoch = gen_pretrained_epoch \n",
    "else:\n",
    "    gen_ckpt_epoch = None\n",
    "if gen_ckpt_epoch is not None:\n",
    "    # Load generator\n",
    "    gen_ckpt_file = f\"{paths.checkpoints()}/gen_epoch_{gen_ckpt_epoch}.pt\"\n",
    "    print(f\"Loading from {gen_ckpt_file}...\")\n",
    "    generator.load_state_dict(torch.load(gen_ckpt_file, map_location=torch.device(device)))\n",
    "    # Load generator optimizer\n",
    "    gen_optim_ckpt_file = f\"{paths.checkpoints()}/gen_optim_epoch_{gen_ckpt_epoch}.pt\"\n",
    "    print(f\"Loading from {gen_optim_ckpt_file}...\")\n",
    "    generator_optimizer.load_state_dict(torch.load(gen_optim_ckpt_file, map_location=torch.device(device)))"
   ]
  },
  {
   "cell_type": "code",
   "execution_count": 22,
   "metadata": {
    "colab": {
     "base_uri": "https://localhost:8080/"
    },
    "id": "oWQhD7-88VXe",
    "outputId": "3ba01600-b546-4e45-a6bd-c7a65af1ae9e"
   },
   "outputs": [
    {
     "name": "stdout",
     "output_type": "stream",
     "text": [
      "Loading from artifacts/checkpoints/GAN(gan=rgan,data=best(xing,stress),dis=deep,share=2,embed=14,gp=0,lr=1e-2)/dis_epoch_882.pt...\n",
      "Loading from artifacts/checkpoints/GAN(gan=rgan,data=best(xing,stress),dis=deep,share=2,embed=14,gp=0,lr=1e-2)/dis_optim_epoch_882.pt...\n"
     ]
    }
   ],
   "source": [
    "discriminator = EdgeFeatureDiscriminator(**config.discriminator.params[...]).to(device)\n",
    "discriminator_optimizer = config.discriminator.optim(discriminator.parameters(), lr=config.discriminator.lr.initial * config.discriminator.lr.decay ** start_epoch())\n",
    "discriminator_scheduler = torch.optim.lr_scheduler.ExponentialLR(discriminator_optimizer, gamma=config.discriminator.lr.decay)\n",
    "if start_epoch() != 0:\n",
    "    dis_ckpt_epoch = start_epoch()\n",
    "elif config.discriminator.pretrained.name is not None and config.discriminator.pretrained.epoch != 0:\n",
    "    dis_pretrained_epoch = get_ckpt_epoch(paths.dis_pretrain(), config.discriminator.pretrained.epoch)\n",
    "    dis_ckpt_epoch = dis_pretrained_epoch # f\"{paths.dis_pretrain()}/dis_epoch_{dis_pretrained_epoch}.pt\"\n",
    "else:\n",
    "    dis_ckpt_epoch = None\n",
    "if dis_ckpt_epoch is not None:\n",
    "    # Load discriminator\n",
    "    dis_ckpt_file = f\"{paths.checkpoints()}/dis_epoch_{dis_ckpt_epoch}.pt\"\n",
    "    print(f\"Loading from {dis_ckpt_file}...\")\n",
    "    discriminator.load_state_dict(torch.load(dis_ckpt_file, map_location=torch.device(device)))\n",
    "    # Load discriminator optimizer\n",
    "    dis_optim_ckpt_file = f\"{paths.checkpoints()}/dis_optim_epoch_{dis_ckpt_epoch}.pt\"\n",
    "    print(f\"Loading from {dis_optim_ckpt_file}...\")\n",
    "    discriminator_optimizer.load_state_dict(torch.load(dis_optim_ckpt_file, map_location=torch.device(device)))"
   ]
  },
  {
   "cell_type": "markdown",
   "metadata": {
    "id": "N39dDHraedM6"
   },
   "source": [
    "# Train"
   ]
  },
  {
   "cell_type": "code",
   "execution_count": 23,
   "metadata": {
    "id": "BdIJSDSJedM-"
   },
   "outputs": [],
   "source": [
    "stress_criterion = StressDiscriminator().to(device)\n",
    "val_criterion = Stress(reduce=None)\n",
    "xing_criterion = Xing(reduce=None)\n",
    "dis_convert = DiscriminatorDataConverter(complete_graph=config.discriminator.complete, normalize=config.discriminator.params.normalize)\n",
    "tensorboard = SummaryWriter(log_dir=paths.tensorboard())\n",
    "epoch = start_epoch() + 1"
   ]
  },
  {
   "cell_type": "code",
   "execution_count": 24,
   "metadata": {
    "id": "OHRWj1h0edM-"
   },
   "outputs": [],
   "source": [
    "def gradient_penalty(interpolated, discriminator, weight=10):\n",
    "    interpolated.pos.requires_grad_()\n",
    "    prob_interpolated = discriminator(interpolated)\n",
    "    gradients = autograd.grad(outputs=prob_interpolated, \n",
    "                              inputs=interpolated.pos,\n",
    "                              grad_outputs=torch.ones_like(prob_interpolated),\n",
    "                              create_graph=True, \n",
    "                              retain_graph=True, \n",
    "                              allow_unused=True)[0]\n",
    "    gradients_norm = torch.sqrt(gnn.global_add_pool(gradients.square().sum(dim=1), batch.batch) + 1e-8)\n",
    "    return weight * ((gradients_norm - 1) ** 2).mean()"
   ]
  },
  {
   "cell_type": "code",
   "execution_count": 25,
   "metadata": {
    "id": "o5wJJN9AedM_"
   },
   "outputs": [],
   "source": [
    "def get_gp_loss(batch, fake_pos, weight):\n",
    "    if weight > 0:\n",
    "        interp = dis_convert(batch, fake_pos, random.random())\n",
    "        return gradient_penalty(interp, discriminator, weight).mean()\n",
    "    return 0"
   ]
  },
  {
   "cell_type": "code",
   "execution_count": 26,
   "metadata": {
    "id": "QwuA6sRoedM_"
   },
   "outputs": [],
   "source": [
    "def get_sgan_loss(batch, fake_pos, mode='discriminator'):\n",
    "    real = dis_convert(batch)\n",
    "    fake = dis_convert(batch, fake_pos)\n",
    "    pred = discriminator(merge_batch(real, fake)).view(2, -1).T\n",
    "    if mode == 'discriminator':\n",
    "        label = torch.zeros(pred.shape[0]).long()\n",
    "    elif mode == 'generator':\n",
    "        label = torch.ones(pred.shape[0]).long()\n",
    "    else:\n",
    "        raise Exception\n",
    "    return nn.CrossEntropyLoss()(pred, label)"
   ]
  },
  {
   "cell_type": "code",
   "execution_count": 27,
   "metadata": {
    "id": "GuAP1YchedNA"
   },
   "outputs": [],
   "source": [
    "def get_rgan_loss(batch, fake_pos, mode='discriminator'):\n",
    "    real = dis_convert(batch)\n",
    "    fake = dis_convert(batch, fake_pos)\n",
    "    pred = discriminator(merge_batch(real, fake)).view(2, -1).T\n",
    "    real_pred, fake_pred = pred[:,0], pred[:,1]\n",
    "    if mode == 'discriminator':\n",
    "        losses = - F.logsigmoid(real_pred - fake_pred)\n",
    "    elif mode == 'generator':\n",
    "        losses = - F.logsigmoid(fake_pred - real_pred)\n",
    "    else:\n",
    "        raise Exception\n",
    "    return losses.mean()"
   ]
  },
  {
   "cell_type": "code",
   "execution_count": 28,
   "metadata": {
    "id": "KFllQ7BredNA"
   },
   "outputs": [],
   "source": [
    "def get_wgan_loss(batch, fake_pos, mode='discriminator'):\n",
    "    real = dis_convert(batch)\n",
    "    fake = dis_convert(batch, fake_pos)\n",
    "    pred = discriminator(merge_batch(real, fake)).view(2, -1).T\n",
    "    real_pred, fake_pred = pred[:,0], pred[:,1]\n",
    "    if mode == 'discriminator':\n",
    "        losses = fake_pred - real_pred \n",
    "    elif mode == 'generator':\n",
    "        losses = real_pred - fake_pred\n",
    "    else:\n",
    "        raise Exception\n",
    "    return losses.mean()"
   ]
  },
  {
   "cell_type": "code",
   "execution_count": 29,
   "metadata": {
    "id": "r5Kg_tYEedNA"
   },
   "outputs": [],
   "source": [
    "def get_ragan_loss(batch, fake_pos, mode='discriminator'):\n",
    "    real = dis_convert(batch)\n",
    "    fake = dis_convert(batch, fake_pos)\n",
    "    pred = discriminator(merge_batch(real, fake)).view(2, -1).T\n",
    "    real_pred, fake_pred = pred[:,0], pred[:,1]\n",
    "    if mode == 'discriminator':\n",
    "        losses = - F.logsigmoid(real_pred - fake_pred.mean()) - F.logsigmoid(real_pred.mean() - fake_pred)\n",
    "    elif mode == 'generator':\n",
    "        losses = - F.logsigmoid(fake_pred - real_pred.mean()) - F.logsigmoid(fake_pred.mean() - real_pred)\n",
    "    else:\n",
    "        raise Exception\n",
    "    return losses.mean()"
   ]
  },
  {
   "cell_type": "code",
   "execution_count": 30,
   "metadata": {},
   "outputs": [],
   "source": [
    "def get_dgdv2_loss(batch, fake_pos, mode='discriminator'):\n",
    "    fake = dis_convert(batch, fake_pos)\n",
    "    pred = discriminator(fake)\n",
    "    if mode == 'discriminator':\n",
    "        gt = get_gt(batch, fake_pos)\n",
    "        loss = criterion(pred, gt)\n",
    "    elif mode == 'generator':\n",
    "        losses = pred.sum(dim=0)\n",
    "#         losses = torch.tensor(config.importance).to(device) * losses #/ losses.detach()\n",
    "        loss = losses.sum()\n",
    "    else:\n",
    "        raise Exception\n",
    "    return -loss"
   ]
  },
  {
   "cell_type": "code",
   "execution_count": 31,
   "metadata": {
    "id": "3IE_84f-edNB"
   },
   "outputs": [],
   "source": [
    "def get_gan_loss(batch, fake_pos, mode='discriminator'):\n",
    "    return {\"sgan\": get_sgan_loss,\n",
    "            \"wgan\": get_wgan_loss,\n",
    "            \"rgan\": get_rgan_loss,\n",
    "            \"ragan\": get_ragan_loss,\n",
    "            \"dgdv2\": get_dgdv2_loss}[config.gan_flavor](batch, fake_pos, mode)"
   ]
  },
  {
   "cell_type": "code",
   "execution_count": 32,
   "metadata": {
    "colab": {
     "background_save": true,
     "base_uri": "https://localhost:8080/",
     "height": 80
    },
    "id": "2NjekXgkedNB",
    "outputId": "da85b2ec-c0de-459c-c0dd-7ba3519419fa",
    "scrolled": true,
    "tags": []
   },
   "outputs": [
    {
     "data": {
      "application/vnd.jupyter.widget-view+json": {
       "model_id": "00be20e24757434bb7db6062d98b6b6a",
       "version_major": 2,
       "version_minor": 0
      },
      "text/plain": [
       "Tab(children=(VBox(children=(Wrapper(), Hud())), HBox(children=(Output(),), layout=Layout(height='500px', over…"
      ]
     },
     "metadata": {},
     "output_type": "display_data"
    },
    {
     "ename": "KeyboardInterrupt",
     "evalue": "",
     "output_type": "error",
     "traceback": [
      "\u001b[0;31m---------------------------------------------------------------------------\u001b[0m",
      "\u001b[0;31mKeyboardInterrupt\u001b[0m                         Traceback (most recent call last)",
      "\u001b[0;32m/tmp/slurmtmp.5715224/ipykernel_69010/801679965.py\u001b[0m in \u001b[0;36m<module>\u001b[0;34m\u001b[0m\n\u001b[1;32m    127\u001b[0m     \u001b[0;32mfor\u001b[0m \u001b[0m_\u001b[0m \u001b[0;32min\u001b[0m \u001b[0mrange\u001b[0m\u001b[0;34m(\u001b[0m\u001b[0mconfig\u001b[0m\u001b[0;34m.\u001b[0m\u001b[0mdiscriminator\u001b[0m\u001b[0;34m.\u001b[0m\u001b[0mrepeat\u001b[0m\u001b[0;34m)\u001b[0m\u001b[0;34m:\u001b[0m\u001b[0;34m\u001b[0m\u001b[0;34m\u001b[0m\u001b[0m\n\u001b[1;32m    128\u001b[0m         \u001b[0;32mfor\u001b[0m \u001b[0mbatch\u001b[0m \u001b[0;32min\u001b[0m \u001b[0mtrain_loader\u001b[0m\u001b[0;34m:\u001b[0m\u001b[0;34m\u001b[0m\u001b[0;34m\u001b[0m\u001b[0m\n\u001b[0;32m--> 129\u001b[0;31m             \u001b[0mtrain_dis\u001b[0m\u001b[0;34m(\u001b[0m\u001b[0mbatch\u001b[0m\u001b[0;34m,\u001b[0m \u001b[0mepoch\u001b[0m\u001b[0;34m)\u001b[0m\u001b[0;34m\u001b[0m\u001b[0;34m\u001b[0m\u001b[0m\n\u001b[0m\u001b[1;32m    130\u001b[0m             \u001b[0;32mif\u001b[0m \u001b[0mconfig\u001b[0m\u001b[0;34m.\u001b[0m\u001b[0malternate\u001b[0m \u001b[0;34m==\u001b[0m \u001b[0;34m'iteration'\u001b[0m\u001b[0;34m:\u001b[0m\u001b[0;34m\u001b[0m\u001b[0;34m\u001b[0m\u001b[0m\n\u001b[1;32m    131\u001b[0m                 \u001b[0mtrain_gen\u001b[0m\u001b[0;34m(\u001b[0m\u001b[0mbatch\u001b[0m\u001b[0;34m,\u001b[0m \u001b[0mepoch\u001b[0m\u001b[0;34m)\u001b[0m\u001b[0;34m\u001b[0m\u001b[0;34m\u001b[0m\u001b[0m\n",
      "\u001b[0;32m/tmp/slurmtmp.5715224/ipykernel_69010/801679965.py\u001b[0m in \u001b[0;36mtrain_dis\u001b[0;34m(batch, epoch)\u001b[0m\n\u001b[1;32m      2\u001b[0m     \u001b[0mgenerator\u001b[0m\u001b[0;34m.\u001b[0m\u001b[0mrequires_grad_\u001b[0m\u001b[0;34m(\u001b[0m\u001b[0;32mFalse\u001b[0m\u001b[0;34m)\u001b[0m\u001b[0;34m\u001b[0m\u001b[0;34m\u001b[0m\u001b[0m\n\u001b[1;32m      3\u001b[0m     \u001b[0mdiscriminator\u001b[0m\u001b[0;34m.\u001b[0m\u001b[0mzero_grad\u001b[0m\u001b[0;34m(\u001b[0m\u001b[0;34m)\u001b[0m\u001b[0;34m\u001b[0m\u001b[0;34m\u001b[0m\u001b[0m\n\u001b[0;32m----> 4\u001b[0;31m     \u001b[0mgenerator_output\u001b[0m \u001b[0;34m=\u001b[0m \u001b[0mgenerator\u001b[0m\u001b[0;34m(\u001b[0m\u001b[0mbatch\u001b[0m\u001b[0;34m)\u001b[0m\u001b[0;34m\u001b[0m\u001b[0;34m\u001b[0m\u001b[0m\n\u001b[0m\u001b[1;32m      5\u001b[0m     \u001b[0;32mif\u001b[0m \u001b[0mconfig\u001b[0m\u001b[0;34m.\u001b[0m\u001b[0mdiscriminator\u001b[0m\u001b[0;34m.\u001b[0m\u001b[0mnoise\u001b[0m\u001b[0;34m.\u001b[0m\u001b[0mstd\u001b[0m \u001b[0;34m>\u001b[0m \u001b[0;36m0\u001b[0m\u001b[0;34m:\u001b[0m\u001b[0;34m\u001b[0m\u001b[0;34m\u001b[0m\u001b[0m\n\u001b[1;32m      6\u001b[0m         \u001b[0mgenerator_output\u001b[0m \u001b[0;34m=\u001b[0m \u001b[0mgenerator_output\u001b[0m \u001b[0;34m+\u001b[0m \u001b[0mtorch\u001b[0m\u001b[0;34m.\u001b[0m\u001b[0mrandn_like\u001b[0m\u001b[0;34m(\u001b[0m\u001b[0mgenerator_output\u001b[0m\u001b[0;34m)\u001b[0m \u001b[0;34m*\u001b[0m \u001b[0mconfig\u001b[0m\u001b[0;34m.\u001b[0m\u001b[0mdiscriminator\u001b[0m\u001b[0;34m.\u001b[0m\u001b[0mnoise\u001b[0m\u001b[0;34m.\u001b[0m\u001b[0mstd\u001b[0m \u001b[0;34m*\u001b[0m \u001b[0mconfig\u001b[0m\u001b[0;34m.\u001b[0m\u001b[0mdiscriminator\u001b[0m\u001b[0;34m.\u001b[0m\u001b[0mnoise\u001b[0m\u001b[0;34m.\u001b[0m\u001b[0mdecay\u001b[0m \u001b[0;34m**\u001b[0m \u001b[0mepoch\u001b[0m\u001b[0;34m\u001b[0m\u001b[0;34m\u001b[0m\u001b[0m\n",
      "\u001b[0;32m~/.conda/envs/deepgd/lib/python3.9/site-packages/torch/nn/modules/module.py\u001b[0m in \u001b[0;36m_call_impl\u001b[0;34m(self, *input, **kwargs)\u001b[0m\n\u001b[1;32m   1049\u001b[0m         if not (self._backward_hooks or self._forward_hooks or self._forward_pre_hooks or _global_backward_hooks\n\u001b[1;32m   1050\u001b[0m                 or _global_forward_hooks or _global_forward_pre_hooks):\n\u001b[0;32m-> 1051\u001b[0;31m             \u001b[0;32mreturn\u001b[0m \u001b[0mforward_call\u001b[0m\u001b[0;34m(\u001b[0m\u001b[0;34m*\u001b[0m\u001b[0minput\u001b[0m\u001b[0;34m,\u001b[0m \u001b[0;34m**\u001b[0m\u001b[0mkwargs\u001b[0m\u001b[0;34m)\u001b[0m\u001b[0;34m\u001b[0m\u001b[0;34m\u001b[0m\u001b[0m\n\u001b[0m\u001b[1;32m   1052\u001b[0m         \u001b[0;31m# Do not call functions when jit is used\u001b[0m\u001b[0;34m\u001b[0m\u001b[0;34m\u001b[0m\u001b[0m\n\u001b[1;32m   1053\u001b[0m         \u001b[0mfull_backward_hooks\u001b[0m\u001b[0;34m,\u001b[0m \u001b[0mnon_full_backward_hooks\u001b[0m \u001b[0;34m=\u001b[0m \u001b[0;34m[\u001b[0m\u001b[0;34m]\u001b[0m\u001b[0;34m,\u001b[0m \u001b[0;34m[\u001b[0m\u001b[0;34m]\u001b[0m\u001b[0;34m\u001b[0m\u001b[0;34m\u001b[0m\u001b[0m\n",
      "\u001b[0;32m~/deepgd/deepgd/modules.py\u001b[0m in \u001b[0;36mforward\u001b[0;34m(self, data, weights, output_hidden, numpy)\u001b[0m\n\u001b[1;32m    625\u001b[0m                            \u001b[0mself\u001b[0m\u001b[0;34m.\u001b[0m\u001b[0mhid_blocks\u001b[0m\u001b[0;34m,\u001b[0m\u001b[0;34m\u001b[0m\u001b[0;34m\u001b[0m\u001b[0m\n\u001b[1;32m    626\u001b[0m                            self.out_blocks):\n\u001b[0;32m--> 627\u001b[0;31m             \u001b[0mv\u001b[0m \u001b[0;34m=\u001b[0m \u001b[0mblock\u001b[0m\u001b[0;34m(\u001b[0m\u001b[0mv\u001b[0m\u001b[0;34m,\u001b[0m \u001b[0mdata\u001b[0m\u001b[0;34m,\u001b[0m \u001b[0mweights\u001b[0m\u001b[0;34m)\u001b[0m\u001b[0;34m\u001b[0m\u001b[0;34m\u001b[0m\u001b[0m\n\u001b[0m\u001b[1;32m    628\u001b[0m             \u001b[0;32mif\u001b[0m \u001b[0moutput_hidden\u001b[0m\u001b[0;34m:\u001b[0m\u001b[0;34m\u001b[0m\u001b[0;34m\u001b[0m\u001b[0m\n\u001b[1;32m    629\u001b[0m                 \u001b[0mhidden\u001b[0m\u001b[0;34m.\u001b[0m\u001b[0mappend\u001b[0m\u001b[0;34m(\u001b[0m\u001b[0mv\u001b[0m\u001b[0;34m.\u001b[0m\u001b[0mdetach\u001b[0m\u001b[0;34m(\u001b[0m\u001b[0;34m)\u001b[0m\u001b[0;34m.\u001b[0m\u001b[0mcpu\u001b[0m\u001b[0;34m(\u001b[0m\u001b[0;34m)\u001b[0m\u001b[0;34m.\u001b[0m\u001b[0mnumpy\u001b[0m\u001b[0;34m(\u001b[0m\u001b[0;34m)\u001b[0m \u001b[0;32mif\u001b[0m \u001b[0mnumpy\u001b[0m \u001b[0;32melse\u001b[0m \u001b[0mv\u001b[0m\u001b[0;34m)\u001b[0m\u001b[0;34m\u001b[0m\u001b[0;34m\u001b[0m\u001b[0m\n",
      "\u001b[0;32m~/.conda/envs/deepgd/lib/python3.9/site-packages/torch/nn/modules/module.py\u001b[0m in \u001b[0;36m_call_impl\u001b[0;34m(self, *input, **kwargs)\u001b[0m\n\u001b[1;32m   1049\u001b[0m         if not (self._backward_hooks or self._forward_hooks or self._forward_pre_hooks or _global_backward_hooks\n\u001b[1;32m   1050\u001b[0m                 or _global_forward_hooks or _global_forward_pre_hooks):\n\u001b[0;32m-> 1051\u001b[0;31m             \u001b[0;32mreturn\u001b[0m \u001b[0mforward_call\u001b[0m\u001b[0;34m(\u001b[0m\u001b[0;34m*\u001b[0m\u001b[0minput\u001b[0m\u001b[0;34m,\u001b[0m \u001b[0;34m**\u001b[0m\u001b[0mkwargs\u001b[0m\u001b[0;34m)\u001b[0m\u001b[0;34m\u001b[0m\u001b[0;34m\u001b[0m\u001b[0m\n\u001b[0m\u001b[1;32m   1052\u001b[0m         \u001b[0;31m# Do not call functions when jit is used\u001b[0m\u001b[0;34m\u001b[0m\u001b[0;34m\u001b[0m\u001b[0m\n\u001b[1;32m   1053\u001b[0m         \u001b[0mfull_backward_hooks\u001b[0m\u001b[0;34m,\u001b[0m \u001b[0mnon_full_backward_hooks\u001b[0m \u001b[0;34m=\u001b[0m \u001b[0;34m[\u001b[0m\u001b[0;34m]\u001b[0m\u001b[0;34m,\u001b[0m \u001b[0;34m[\u001b[0m\u001b[0;34m]\u001b[0m\u001b[0;34m\u001b[0m\u001b[0;34m\u001b[0m\u001b[0m\n",
      "\u001b[0;32m~/deepgd/deepgd/modules.py\u001b[0m in \u001b[0;36mforward\u001b[0;34m(self, v, data, weights)\u001b[0m\n\u001b[1;32m    423\u001b[0m                          \u001b[0mdirection\u001b[0m\u001b[0;34m=\u001b[0m\u001b[0mself\u001b[0m\u001b[0;34m.\u001b[0m\u001b[0mdirection\u001b[0m \u001b[0;32mand\u001b[0m \u001b[0mget_extra\u001b[0m\u001b[0;34m,\u001b[0m\u001b[0;34m\u001b[0m\u001b[0;34m\u001b[0m\u001b[0m\n\u001b[1;32m    424\u001b[0m                          weights=weights if get_extra and self.n_weights > 0 else None)\n\u001b[0;32m--> 425\u001b[0;31m             \u001b[0mv\u001b[0m \u001b[0;34m=\u001b[0m \u001b[0mself\u001b[0m\u001b[0;34m.\u001b[0m\u001b[0mgnn\u001b[0m\u001b[0;34m[\u001b[0m\u001b[0mlayer\u001b[0m\u001b[0;34m]\u001b[0m\u001b[0;34m(\u001b[0m\u001b[0mv\u001b[0m\u001b[0;34m,\u001b[0m \u001b[0me\u001b[0m\u001b[0;34m,\u001b[0m \u001b[0mdata\u001b[0m\u001b[0;34m)\u001b[0m\u001b[0;34m\u001b[0m\u001b[0;34m\u001b[0m\u001b[0m\n\u001b[0m\u001b[1;32m    426\u001b[0m         \u001b[0;32mreturn\u001b[0m \u001b[0mv\u001b[0m \u001b[0;34m+\u001b[0m \u001b[0mvres\u001b[0m \u001b[0;32mif\u001b[0m \u001b[0mself\u001b[0m\u001b[0;34m.\u001b[0m\u001b[0mresidual\u001b[0m \u001b[0;32melse\u001b[0m \u001b[0mv\u001b[0m\u001b[0;34m\u001b[0m\u001b[0;34m\u001b[0m\u001b[0m\n\u001b[1;32m    427\u001b[0m \u001b[0;34m\u001b[0m\u001b[0m\n",
      "\u001b[0;32m~/.conda/envs/deepgd/lib/python3.9/site-packages/torch/nn/modules/module.py\u001b[0m in \u001b[0;36m_call_impl\u001b[0;34m(self, *input, **kwargs)\u001b[0m\n\u001b[1;32m   1049\u001b[0m         if not (self._backward_hooks or self._forward_hooks or self._forward_pre_hooks or _global_backward_hooks\n\u001b[1;32m   1050\u001b[0m                 or _global_forward_hooks or _global_forward_pre_hooks):\n\u001b[0;32m-> 1051\u001b[0;31m             \u001b[0;32mreturn\u001b[0m \u001b[0mforward_call\u001b[0m\u001b[0;34m(\u001b[0m\u001b[0;34m*\u001b[0m\u001b[0minput\u001b[0m\u001b[0;34m,\u001b[0m \u001b[0;34m**\u001b[0m\u001b[0mkwargs\u001b[0m\u001b[0;34m)\u001b[0m\u001b[0;34m\u001b[0m\u001b[0;34m\u001b[0m\u001b[0m\n\u001b[0m\u001b[1;32m   1052\u001b[0m         \u001b[0;31m# Do not call functions when jit is used\u001b[0m\u001b[0;34m\u001b[0m\u001b[0;34m\u001b[0m\u001b[0m\n\u001b[1;32m   1053\u001b[0m         \u001b[0mfull_backward_hooks\u001b[0m\u001b[0;34m,\u001b[0m \u001b[0mnon_full_backward_hooks\u001b[0m \u001b[0;34m=\u001b[0m \u001b[0;34m[\u001b[0m\u001b[0;34m]\u001b[0m\u001b[0;34m,\u001b[0m \u001b[0;34m[\u001b[0m\u001b[0;34m]\u001b[0m\u001b[0;34m\u001b[0m\u001b[0;34m\u001b[0m\u001b[0m\n",
      "\u001b[0;32m~/deepgd/deepgd/modules.py\u001b[0m in \u001b[0;36mforward\u001b[0;34m(self, v, e, data)\u001b[0m\n\u001b[1;32m    228\u001b[0m     \u001b[0;32mdef\u001b[0m \u001b[0mforward\u001b[0m\u001b[0;34m(\u001b[0m\u001b[0mself\u001b[0m\u001b[0;34m,\u001b[0m \u001b[0mv\u001b[0m\u001b[0;34m,\u001b[0m \u001b[0me\u001b[0m\u001b[0;34m,\u001b[0m \u001b[0mdata\u001b[0m\u001b[0;34m)\u001b[0m\u001b[0;34m:\u001b[0m\u001b[0;34m\u001b[0m\u001b[0;34m\u001b[0m\u001b[0m\n\u001b[1;32m    229\u001b[0m         \u001b[0mv_\u001b[0m \u001b[0;34m=\u001b[0m \u001b[0mv\u001b[0m\u001b[0;34m\u001b[0m\u001b[0;34m\u001b[0m\u001b[0m\n\u001b[0;32m--> 230\u001b[0;31m         \u001b[0mv\u001b[0m \u001b[0;34m=\u001b[0m \u001b[0mself\u001b[0m\u001b[0;34m.\u001b[0m\u001b[0mconv\u001b[0m\u001b[0;34m(\u001b[0m\u001b[0mv\u001b[0m\u001b[0;34m,\u001b[0m \u001b[0mdata\u001b[0m\u001b[0;34m.\u001b[0m\u001b[0medge_index\u001b[0m\u001b[0;34m,\u001b[0m \u001b[0me\u001b[0m\u001b[0;34m)\u001b[0m\u001b[0;34m\u001b[0m\u001b[0;34m\u001b[0m\u001b[0m\n\u001b[0m\u001b[1;32m    231\u001b[0m         \u001b[0mv\u001b[0m \u001b[0;34m=\u001b[0m \u001b[0mself\u001b[0m\u001b[0;34m.\u001b[0m\u001b[0mdense\u001b[0m\u001b[0;34m(\u001b[0m\u001b[0mv\u001b[0m\u001b[0;34m)\u001b[0m\u001b[0;34m\u001b[0m\u001b[0;34m\u001b[0m\u001b[0m\n\u001b[1;32m    232\u001b[0m         \u001b[0mv\u001b[0m \u001b[0;34m=\u001b[0m \u001b[0mself\u001b[0m\u001b[0;34m.\u001b[0m\u001b[0mbn\u001b[0m\u001b[0;34m(\u001b[0m\u001b[0mv\u001b[0m\u001b[0;34m)\u001b[0m\u001b[0;34m\u001b[0m\u001b[0;34m\u001b[0m\u001b[0m\n",
      "\u001b[0;32m~/.conda/envs/deepgd/lib/python3.9/site-packages/torch/nn/modules/module.py\u001b[0m in \u001b[0;36m_call_impl\u001b[0;34m(self, *input, **kwargs)\u001b[0m\n\u001b[1;32m   1049\u001b[0m         if not (self._backward_hooks or self._forward_hooks or self._forward_pre_hooks or _global_backward_hooks\n\u001b[1;32m   1050\u001b[0m                 or _global_forward_hooks or _global_forward_pre_hooks):\n\u001b[0;32m-> 1051\u001b[0;31m             \u001b[0;32mreturn\u001b[0m \u001b[0mforward_call\u001b[0m\u001b[0;34m(\u001b[0m\u001b[0;34m*\u001b[0m\u001b[0minput\u001b[0m\u001b[0;34m,\u001b[0m \u001b[0;34m**\u001b[0m\u001b[0mkwargs\u001b[0m\u001b[0;34m)\u001b[0m\u001b[0;34m\u001b[0m\u001b[0;34m\u001b[0m\u001b[0m\n\u001b[0m\u001b[1;32m   1052\u001b[0m         \u001b[0;31m# Do not call functions when jit is used\u001b[0m\u001b[0;34m\u001b[0m\u001b[0;34m\u001b[0m\u001b[0m\n\u001b[1;32m   1053\u001b[0m         \u001b[0mfull_backward_hooks\u001b[0m\u001b[0;34m,\u001b[0m \u001b[0mnon_full_backward_hooks\u001b[0m \u001b[0;34m=\u001b[0m \u001b[0;34m[\u001b[0m\u001b[0;34m]\u001b[0m\u001b[0;34m,\u001b[0m \u001b[0;34m[\u001b[0m\u001b[0;34m]\u001b[0m\u001b[0;34m\u001b[0m\u001b[0;34m\u001b[0m\u001b[0m\n",
      "\u001b[0;32m~/.conda/envs/deepgd/lib/python3.9/site-packages/torch_geometric/nn/conv/nn_conv.py\u001b[0m in \u001b[0;36mforward\u001b[0;34m(self, x, edge_index, edge_attr, size)\u001b[0m\n\u001b[1;32m     88\u001b[0m \u001b[0;34m\u001b[0m\u001b[0m\n\u001b[1;32m     89\u001b[0m         \u001b[0;31m# propagate_type: (x: OptPairTensor, edge_attr: OptTensor)\u001b[0m\u001b[0;34m\u001b[0m\u001b[0;34m\u001b[0m\u001b[0m\n\u001b[0;32m---> 90\u001b[0;31m         \u001b[0mout\u001b[0m \u001b[0;34m=\u001b[0m \u001b[0mself\u001b[0m\u001b[0;34m.\u001b[0m\u001b[0mpropagate\u001b[0m\u001b[0;34m(\u001b[0m\u001b[0medge_index\u001b[0m\u001b[0;34m,\u001b[0m \u001b[0mx\u001b[0m\u001b[0;34m=\u001b[0m\u001b[0mx\u001b[0m\u001b[0;34m,\u001b[0m \u001b[0medge_attr\u001b[0m\u001b[0;34m=\u001b[0m\u001b[0medge_attr\u001b[0m\u001b[0;34m,\u001b[0m \u001b[0msize\u001b[0m\u001b[0;34m=\u001b[0m\u001b[0msize\u001b[0m\u001b[0;34m)\u001b[0m\u001b[0;34m\u001b[0m\u001b[0;34m\u001b[0m\u001b[0m\n\u001b[0m\u001b[1;32m     91\u001b[0m \u001b[0;34m\u001b[0m\u001b[0m\n\u001b[1;32m     92\u001b[0m         \u001b[0mx_r\u001b[0m \u001b[0;34m=\u001b[0m \u001b[0mx\u001b[0m\u001b[0;34m[\u001b[0m\u001b[0;36m1\u001b[0m\u001b[0;34m]\u001b[0m\u001b[0;34m\u001b[0m\u001b[0;34m\u001b[0m\u001b[0m\n",
      "\u001b[0;32m~/.conda/envs/deepgd/lib/python3.9/site-packages/torch_geometric/nn/conv/message_passing.py\u001b[0m in \u001b[0;36mpropagate\u001b[0;34m(self, edge_index, size, **kwargs)\u001b[0m\n\u001b[1;32m    292\u001b[0m                 \u001b[0;32mif\u001b[0m \u001b[0mres\u001b[0m \u001b[0;32mis\u001b[0m \u001b[0;32mnot\u001b[0m \u001b[0;32mNone\u001b[0m\u001b[0;34m:\u001b[0m\u001b[0;34m\u001b[0m\u001b[0;34m\u001b[0m\u001b[0m\n\u001b[1;32m    293\u001b[0m                     \u001b[0maggr_kwargs\u001b[0m \u001b[0;34m=\u001b[0m \u001b[0mres\u001b[0m\u001b[0;34m[\u001b[0m\u001b[0;36m0\u001b[0m\u001b[0;34m]\u001b[0m \u001b[0;32mif\u001b[0m \u001b[0misinstance\u001b[0m\u001b[0;34m(\u001b[0m\u001b[0mres\u001b[0m\u001b[0;34m,\u001b[0m \u001b[0mtuple\u001b[0m\u001b[0;34m)\u001b[0m \u001b[0;32melse\u001b[0m \u001b[0mres\u001b[0m\u001b[0;34m\u001b[0m\u001b[0;34m\u001b[0m\u001b[0m\n\u001b[0;32m--> 294\u001b[0;31m             \u001b[0mout\u001b[0m \u001b[0;34m=\u001b[0m \u001b[0mself\u001b[0m\u001b[0;34m.\u001b[0m\u001b[0maggregate\u001b[0m\u001b[0;34m(\u001b[0m\u001b[0mout\u001b[0m\u001b[0;34m,\u001b[0m \u001b[0;34m**\u001b[0m\u001b[0maggr_kwargs\u001b[0m\u001b[0;34m)\u001b[0m\u001b[0;34m\u001b[0m\u001b[0;34m\u001b[0m\u001b[0m\n\u001b[0m\u001b[1;32m    295\u001b[0m             \u001b[0;32mfor\u001b[0m \u001b[0mhook\u001b[0m \u001b[0;32min\u001b[0m \u001b[0mself\u001b[0m\u001b[0;34m.\u001b[0m\u001b[0m_aggregate_forward_hooks\u001b[0m\u001b[0;34m.\u001b[0m\u001b[0mvalues\u001b[0m\u001b[0;34m(\u001b[0m\u001b[0;34m)\u001b[0m\u001b[0;34m:\u001b[0m\u001b[0;34m\u001b[0m\u001b[0;34m\u001b[0m\u001b[0m\n\u001b[1;32m    296\u001b[0m                 \u001b[0mres\u001b[0m \u001b[0;34m=\u001b[0m \u001b[0mhook\u001b[0m\u001b[0;34m(\u001b[0m\u001b[0mself\u001b[0m\u001b[0;34m,\u001b[0m \u001b[0;34m(\u001b[0m\u001b[0maggr_kwargs\u001b[0m\u001b[0;34m,\u001b[0m \u001b[0;34m)\u001b[0m\u001b[0;34m,\u001b[0m \u001b[0mout\u001b[0m\u001b[0;34m)\u001b[0m\u001b[0;34m\u001b[0m\u001b[0;34m\u001b[0m\u001b[0m\n",
      "\u001b[0;32m~/.conda/envs/deepgd/lib/python3.9/site-packages/torch_geometric/nn/conv/message_passing.py\u001b[0m in \u001b[0;36maggregate\u001b[0;34m(self, inputs, index, ptr, dim_size)\u001b[0m\n\u001b[1;32m    337\u001b[0m             \u001b[0;32mreturn\u001b[0m \u001b[0msegment_csr\u001b[0m\u001b[0;34m(\u001b[0m\u001b[0minputs\u001b[0m\u001b[0;34m,\u001b[0m \u001b[0mptr\u001b[0m\u001b[0;34m,\u001b[0m \u001b[0mreduce\u001b[0m\u001b[0;34m=\u001b[0m\u001b[0mself\u001b[0m\u001b[0;34m.\u001b[0m\u001b[0maggr\u001b[0m\u001b[0;34m)\u001b[0m\u001b[0;34m\u001b[0m\u001b[0;34m\u001b[0m\u001b[0m\n\u001b[1;32m    338\u001b[0m         \u001b[0;32melse\u001b[0m\u001b[0;34m:\u001b[0m\u001b[0;34m\u001b[0m\u001b[0;34m\u001b[0m\u001b[0m\n\u001b[0;32m--> 339\u001b[0;31m             return scatter(inputs, index, dim=self.node_dim, dim_size=dim_size,\n\u001b[0m\u001b[1;32m    340\u001b[0m                            reduce=self.aggr)\n\u001b[1;32m    341\u001b[0m \u001b[0;34m\u001b[0m\u001b[0m\n",
      "\u001b[0;32m~/.conda/envs/deepgd/lib/python3.9/site-packages/torch_scatter/scatter.py\u001b[0m in \u001b[0;36mscatter\u001b[0;34m(src, index, dim, out, dim_size, reduce)\u001b[0m\n\u001b[1;32m    155\u001b[0m         \u001b[0;32mreturn\u001b[0m \u001b[0mscatter_mul\u001b[0m\u001b[0;34m(\u001b[0m\u001b[0msrc\u001b[0m\u001b[0;34m,\u001b[0m \u001b[0mindex\u001b[0m\u001b[0;34m,\u001b[0m \u001b[0mdim\u001b[0m\u001b[0;34m,\u001b[0m \u001b[0mout\u001b[0m\u001b[0;34m,\u001b[0m \u001b[0mdim_size\u001b[0m\u001b[0;34m)\u001b[0m\u001b[0;34m\u001b[0m\u001b[0;34m\u001b[0m\u001b[0m\n\u001b[1;32m    156\u001b[0m     \u001b[0;32melif\u001b[0m \u001b[0mreduce\u001b[0m \u001b[0;34m==\u001b[0m \u001b[0;34m'mean'\u001b[0m\u001b[0;34m:\u001b[0m\u001b[0;34m\u001b[0m\u001b[0;34m\u001b[0m\u001b[0m\n\u001b[0;32m--> 157\u001b[0;31m         \u001b[0;32mreturn\u001b[0m \u001b[0mscatter_mean\u001b[0m\u001b[0;34m(\u001b[0m\u001b[0msrc\u001b[0m\u001b[0;34m,\u001b[0m \u001b[0mindex\u001b[0m\u001b[0;34m,\u001b[0m \u001b[0mdim\u001b[0m\u001b[0;34m,\u001b[0m \u001b[0mout\u001b[0m\u001b[0;34m,\u001b[0m \u001b[0mdim_size\u001b[0m\u001b[0;34m)\u001b[0m\u001b[0;34m\u001b[0m\u001b[0;34m\u001b[0m\u001b[0m\n\u001b[0m\u001b[1;32m    158\u001b[0m     \u001b[0;32melif\u001b[0m \u001b[0mreduce\u001b[0m \u001b[0;34m==\u001b[0m \u001b[0;34m'min'\u001b[0m\u001b[0;34m:\u001b[0m\u001b[0;34m\u001b[0m\u001b[0;34m\u001b[0m\u001b[0m\n\u001b[1;32m    159\u001b[0m         \u001b[0;32mreturn\u001b[0m \u001b[0mscatter_min\u001b[0m\u001b[0;34m(\u001b[0m\u001b[0msrc\u001b[0m\u001b[0;34m,\u001b[0m \u001b[0mindex\u001b[0m\u001b[0;34m,\u001b[0m \u001b[0mdim\u001b[0m\u001b[0;34m,\u001b[0m \u001b[0mout\u001b[0m\u001b[0;34m,\u001b[0m \u001b[0mdim_size\u001b[0m\u001b[0;34m)\u001b[0m\u001b[0;34m[\u001b[0m\u001b[0;36m0\u001b[0m\u001b[0;34m]\u001b[0m\u001b[0;34m\u001b[0m\u001b[0;34m\u001b[0m\u001b[0m\n",
      "\u001b[0;32m~/.conda/envs/deepgd/lib/python3.9/site-packages/torch_scatter/scatter.py\u001b[0m in \u001b[0;36mscatter_mean\u001b[0;34m(src, index, dim, out, dim_size)\u001b[0m\n\u001b[1;32m     51\u001b[0m     \u001b[0mones\u001b[0m \u001b[0;34m=\u001b[0m \u001b[0mtorch\u001b[0m\u001b[0;34m.\u001b[0m\u001b[0mones\u001b[0m\u001b[0;34m(\u001b[0m\u001b[0mindex\u001b[0m\u001b[0;34m.\u001b[0m\u001b[0msize\u001b[0m\u001b[0;34m(\u001b[0m\u001b[0;34m)\u001b[0m\u001b[0;34m,\u001b[0m \u001b[0mdtype\u001b[0m\u001b[0;34m=\u001b[0m\u001b[0msrc\u001b[0m\u001b[0;34m.\u001b[0m\u001b[0mdtype\u001b[0m\u001b[0;34m,\u001b[0m \u001b[0mdevice\u001b[0m\u001b[0;34m=\u001b[0m\u001b[0msrc\u001b[0m\u001b[0;34m.\u001b[0m\u001b[0mdevice\u001b[0m\u001b[0;34m)\u001b[0m\u001b[0;34m\u001b[0m\u001b[0;34m\u001b[0m\u001b[0m\n\u001b[1;32m     52\u001b[0m     \u001b[0mcount\u001b[0m \u001b[0;34m=\u001b[0m \u001b[0mscatter_sum\u001b[0m\u001b[0;34m(\u001b[0m\u001b[0mones\u001b[0m\u001b[0;34m,\u001b[0m \u001b[0mindex\u001b[0m\u001b[0;34m,\u001b[0m \u001b[0mindex_dim\u001b[0m\u001b[0;34m,\u001b[0m \u001b[0;32mNone\u001b[0m\u001b[0;34m,\u001b[0m \u001b[0mdim_size\u001b[0m\u001b[0;34m)\u001b[0m\u001b[0;34m\u001b[0m\u001b[0;34m\u001b[0m\u001b[0m\n\u001b[0;32m---> 53\u001b[0;31m     \u001b[0mcount\u001b[0m\u001b[0;34m[\u001b[0m\u001b[0mcount\u001b[0m \u001b[0;34m<\u001b[0m \u001b[0;36m1\u001b[0m\u001b[0;34m]\u001b[0m \u001b[0;34m=\u001b[0m \u001b[0;36m1\u001b[0m\u001b[0;34m\u001b[0m\u001b[0;34m\u001b[0m\u001b[0m\n\u001b[0m\u001b[1;32m     54\u001b[0m     \u001b[0mcount\u001b[0m \u001b[0;34m=\u001b[0m \u001b[0mbroadcast\u001b[0m\u001b[0;34m(\u001b[0m\u001b[0mcount\u001b[0m\u001b[0;34m,\u001b[0m \u001b[0mout\u001b[0m\u001b[0;34m,\u001b[0m \u001b[0mdim\u001b[0m\u001b[0;34m)\u001b[0m\u001b[0;34m\u001b[0m\u001b[0;34m\u001b[0m\u001b[0m\n\u001b[1;32m     55\u001b[0m     \u001b[0;32mif\u001b[0m \u001b[0mout\u001b[0m\u001b[0;34m.\u001b[0m\u001b[0mis_floating_point\u001b[0m\u001b[0;34m(\u001b[0m\u001b[0;34m)\u001b[0m\u001b[0;34m:\u001b[0m\u001b[0;34m\u001b[0m\u001b[0;34m\u001b[0m\u001b[0m\n",
      "\u001b[0;31mKeyboardInterrupt\u001b[0m: "
     ]
    }
   ],
   "source": [
    "def train_dis(batch, epoch):\n",
    "    generator.requires_grad_(False)\n",
    "    discriminator.zero_grad()\n",
    "    generator_output = generator(batch)\n",
    "    if config.discriminator.noise.std > 0:\n",
    "        generator_output = generator_output + torch.randn_like(generator_output) * config.discriminator.noise.std * config.discriminator.noise.decay ** epoch\n",
    "    discriminator_loss = get_gan_loss(batch, generator_output, mode='discriminator')\n",
    "    \n",
    "    # train discriminator\n",
    "    discriminator_loss.backward()\n",
    "    discriminator_optimizer.step()\n",
    "\n",
    "    # gradient penalty\n",
    "    if config.gp_weight > 0:\n",
    "        discriminator.zero_grad()\n",
    "        gp_loss = get_gp_loss(batch, generator_output, config.gp_weight)\n",
    "        gp_loss.backward()\n",
    "        discriminator_optimizer.step()\n",
    "\n",
    "    hud['dis_loss'] = format(discriminator_loss.item(), '.2e')\n",
    "    pbar().update()\n",
    "\n",
    "def train_gen(batch, epoch):\n",
    "    generator.requires_grad_(True)\n",
    "    generator.zero_grad()\n",
    "    discriminator.zero_grad()\n",
    "    generator_output = generator(batch)\n",
    "    if config.discriminator.noise.std > 0:\n",
    "        generator_output = generator_output + torch.randn_like(generator_output) * config.discriminator.noise.std * config.discriminator.noise.decay ** epoch\n",
    "    generator_loss = get_gan_loss(batch, generator_output, mode='generator') \n",
    "    \n",
    "    #train generator\n",
    "    generator_loss.backward()\n",
    "    generator_optimizer.step()\n",
    "\n",
    "    with torch.no_grad():\n",
    "        dis_batch = dis_convert(batch, generator_output)\n",
    "        stress = stress_criterion(dis_batch).mean()\n",
    "        critic = discriminator(dis_batch).mean()\n",
    "    hud.append({'gen_loss': format(generator_loss.item(), '.2e'),\n",
    "                'stress': format(stress.item(), '.2e'),\n",
    "                'critic': format(critic.item(), '.2e')})\n",
    "    pbar().update()\n",
    "\n",
    "def cuda_memsafe_map(fn, *iterables, summary=False):\n",
    "    total, failed = 0, 0\n",
    "    iterator = zip(*iterables)\n",
    "    items = None\n",
    "    while True:\n",
    "        try:\n",
    "            items = next(iterator)\n",
    "            yield fn(*items)\n",
    "        except StopIteration:\n",
    "            if summary:\n",
    "                print(f'Iteration finished. {failed} out of {total} failed!')\n",
    "            break\n",
    "        except RuntimeError:\n",
    "            print('CUDA memory overflow! Skip batch...')\n",
    "            del items\n",
    "            failed += 1\n",
    "        torch.cuda.empty_cache()\n",
    "        total += 1\n",
    "    \n",
    "def validate(model, data_loader, criterion=val_criterion):\n",
    "    def val_one_batch(batch):\n",
    "        batch = preprocess_batch(model, batch)\n",
    "        pred = CanonicalizationByStress()(model(batch), batch)\n",
    "        gt = CanonicalizationByStress()(batch.gt_pos, batch)\n",
    "        loss = criterion(pred, batch)\n",
    "        gt_loss = criterion(gt, batch)\n",
    "        spc = (loss - gt_loss) / torch.maximum(torch.maximum(loss, gt_loss), torch.ones_like(loss)*1e-5)\n",
    "        return loss.mean().item(), spc.mean().item()\n",
    "    loss_all, spc_all = zip(*cuda_memsafe_map(val_one_batch, data_loader))\n",
    "    return np.mean(loss_all), np.mean(spc_all)\n",
    "\n",
    "def log(msg):\n",
    "    msg = f\"[{epoch:03}] {msg}\"\n",
    "    print(msg, file=open(paths.log(), \"a\"))\n",
    "    with log_out: \n",
    "        print(msg)\n",
    "\n",
    "print(f\"{'='*10} {config.link} {'='*10}\", file=open(paths.log(), \"a\"))\n",
    "hud = Hud()\n",
    "pbar = Wrapper(tqdm, total=len(train_loader)*2, smoothing=0)\n",
    "plot_out = Output()\n",
    "log_out = Output()\n",
    "tabs = {\"status\": VBox([pbar, hud]), \n",
    "        \"plot\": HBox([plot_out], layout=Layout(height='500px', overflow_y='auto')),\n",
    "        \"log\": HBox([log_out], layout=Layout(height='500px', overflow_y='auto'))}\n",
    "tab_bar = Tab(children=list(tabs.values()))\n",
    "[tab_bar.set_title(i, name) for i, name in enumerate(tabs)]\n",
    "display(tab_bar)\n",
    "while True:\n",
    "    if epoch % config.log_interval == 0:\n",
    "        torch.save(generator.state_dict(), f\"{paths.checkpoints()}/gen_epoch_{epoch}.pt\")\n",
    "        torch.save(generator_optimizer.state_dict(), f\"{paths.checkpoints()}/gen_optim_epoch_{epoch}.pt\")\n",
    "        torch.save(discriminator.state_dict(), f\"{paths.checkpoints()}/dis_epoch_{epoch}.pt\")\n",
    "        torch.save(discriminator_optimizer.state_dict(), f\"{paths.checkpoints()}/dis_optim_epoch_{epoch}.pt\")\n",
    "        generator.eval()\n",
    "        with torch.no_grad():\n",
    "            val_stress, val_stress_spc = validate(model=generator, data_loader=val_loader)\n",
    "            val_xing, val_xing_spc = validate(model=generator, data_loader=val_loader, criterion=xing_criterion)\n",
    "            with plot_out:\n",
    "                fig = plt.figure()\n",
    "                graph_vis(G_list[11100], generator(make_batch(data_list[11100]).to(device)).cpu())\n",
    "                plt.show()\n",
    "        # tensorboard.add_scalars('loss', {'train': train_loss, \n",
    "        #                                  'validation': val_loss}, epoch)\n",
    "        # for i, fn in enumerate(loss_fns):\n",
    "        #     tensorboard.add_scalars(type(fn).__name__, {'train': train_loss_comp[i].item(), \n",
    "        #                                           'validation': val_loss_comp[i].item()}, epoch)\n",
    "        hud.append({\n",
    "            'val_stress': format(val_stress, '.2f'),\n",
    "            'val_stress_spc': format(val_stress_spc, '.2%'),\n",
    "            'val_xing': format(val_xing, '.2f'),\n",
    "            'val_xing_spc': format(val_xing_spc, '.2%'),\n",
    "        })\n",
    "        log(f\"stress={hud.data['val_stress']}({hud.data['val_stress_spc']}) xing={hud.data['val_xing']}({hud.data['val_xing_spc']})\")\n",
    "        \n",
    "    # handle.update(tab_bar)\n",
    "    pbar().reset()\n",
    "    pbar().set_description(desc=f\"[epoch {epoch}/{config.epoch.end}]\")\n",
    "    hud(title=f\"epoch {epoch}\")\n",
    "    generator.train()\n",
    "    discriminator.train()\n",
    "    # proper: proper layout\n",
    "    for _ in range(config.discriminator.repeat):\n",
    "        for batch in train_loader:\n",
    "            train_dis(batch, epoch)\n",
    "            if config.alternate == 'iteration':\n",
    "                train_gen(batch, epoch)\n",
    "\n",
    "    if config.alternate == 'epoch':\n",
    "        for batch in train_loader:\n",
    "            train_gen(batch, epoch)\n",
    "\n",
    "    discriminator_scheduler.step()\n",
    "    generator_scheduler.step()\n",
    "\n",
    "    if epoch == config.epoch.end:\n",
    "        break\n",
    "    epoch += 1"
   ]
  },
  {
   "cell_type": "markdown",
   "metadata": {
    "id": "0qYK_X_hrq9o"
   },
   "source": [
    "# Test"
   ]
  },
  {
   "cell_type": "code",
   "execution_count": 33,
   "metadata": {
    "colab": {
     "base_uri": "https://localhost:8080/"
    },
    "id": "XEvmAtNjWhcY",
    "outputId": "9f4c86a4-a4b0-48f1-cb58-ab3679173184"
   },
   "outputs": [
    {
     "name": "stdout",
     "output_type": "stream",
     "text": [
      "Loading from artifacts/checkpoints/GAN(gan=rgan,data=best(xing,stress),dis=deep,share=2,embed=14,gp=0,lr=1e-2)/gen_epoch_883.pt...\n"
     ]
    },
    {
     "data": {
      "text/plain": [
       "<All keys matched successfully>"
      ]
     },
     "execution_count": 33,
     "metadata": {},
     "output_type": "execute_result"
    }
   ],
   "source": [
    "test_epoch = -1\n",
    "\n",
    "test_generator = Generator(**config.generator.params[...]).to(device)\n",
    "test_ckpt_epoch = get_ckpt_epoch(paths.checkpoints(), test_epoch)\n",
    "test_ckpt_file = f\"{paths.checkpoints()}/gen_epoch_{test_ckpt_epoch}.pt\"\n",
    "print(f\"Loading from {test_ckpt_file}...\")\n",
    "test_generator.load_state_dict(torch.load(test_ckpt_file, map_location=torch.device(device)))"
   ]
  },
  {
   "cell_type": "code",
   "execution_count": 34,
   "metadata": {
    "colab": {
     "background_save": true,
     "base_uri": "https://localhost:8080/",
     "height": 1000,
     "referenced_widgets": [
      "9b7d18992dbf4a84931f916fbaaa37d8",
      "2c664d7e1e6d474fb87094fc0da270d3",
      "d375f5f82a4645d7b29c541596dc1c7f",
      "ecfa311bb06b4f6fa504598263ff69d3",
      "d1859990877149eab2b414b4e2a0e0c7",
      "d2be6733734844bca3e1db9b49eb1c1e",
      "4d98072bdf674792a13d77e85dd285d1",
      "f7ed92c383d741a0a1cef2536ff2db13",
      "2ba110f835c64ec4b82974996aed10af",
      "09397ceac9014af0aebca848d4d96d48",
      "fd0709f48d6c4527bc00b5f407f3c1b9"
     ]
    },
    "id": "ZubmSTcYrq9o",
    "outputId": "fc2f65a2-2085-43ac-b110-cbfe742318a8",
    "scrolled": true,
    "tags": []
   },
   "outputs": [
    {
     "data": {
      "application/vnd.jupyter.widget-view+json": {
       "model_id": "cc417b0bca734a5e96b175c647f98f4d",
       "version_major": 2,
       "version_minor": 0
      },
      "text/plain": [
       "  0%|          | 0/1000 [00:00<?, ?it/s]"
      ]
     },
     "metadata": {},
     "output_type": "display_data"
    }
   ],
   "source": [
    "rotate = RotateByPrincipalComponents()\n",
    "def test_callback(*, idx, pred, metrics):\n",
    "    # graph_vis(G_list[idx], pred, file_name=f\"{paths.visualization()}/{idx}_{metrics['stress']:.2f}_{metrics['resolution_score']:.2f}.png\")\n",
    "    pred = rotate(torch.tensor(pred), data_list[idx])\n",
    "    graph_vis(G_list[idx], pred)\n",
    "    plt.title(f\"[pred] idx: {idx}, stress: {metrics['stress']:.2f}({metrics['stress_spc']:.2%}), xing: {metrics['xing']:.2f}({metrics['xing_spc']:.2%})\")\n",
    "    plt.show()\n",
    "    gt_pos = rotate(data_list[idx].gt_pos, data_list[idx])\n",
    "    graph_vis(G_list[idx], gt_pos, node_color='orange')\n",
    "    plt.title(f\"[gt] idx: {idx}, stress: {metrics['gt_stress']:.2f}, xing: {metrics['gt_xing']:.2f}\")\n",
    "    plt.show()\n",
    "    \n",
    "test_metrics = test(model=test_generator, \n",
    "                    criteria_list=[], \n",
    "                    dataset=data_list, \n",
    "                    idx_range=range(10000, 11000), \n",
    "#                     callback=test_callback,\n",
    "                    gt_pos=None)\n",
    "pickle.dump(test_metrics, open(paths.metrics(\"test\"), \"wb\"))"
   ]
  },
  {
   "cell_type": "code",
   "execution_count": 35,
   "metadata": {
    "colab": {
     "base_uri": "https://localhost:8080/",
     "height": 318
    },
    "id": "t2rFXIr_PsrJ",
    "outputId": "6a4205b1-4630-4de4-ec72-bdba3d3ea114"
   },
   "outputs": [
    {
     "name": "stdout",
     "output_type": "stream",
     "text": [
      "stress: tensor(319.3729)\n",
      "stress_spc: tensor(0.0300, dtype=torch.float64)\n",
      "xing: tensor(27.5650)\n",
      "xing_spc: tensor(0.1713, dtype=torch.float64)\n",
      "l1_angle: tensor(79.1021)\n",
      "l1_angle_spc: tensor(0.0349, dtype=torch.float64)\n",
      "edge: tensor(0.1627)\n",
      "edge_spc: tensor(0.1580, dtype=torch.float64)\n",
      "ring: tensor(252.5005)\n",
      "ring_spc: tensor(-0.0081, dtype=torch.float64)\n",
      "tsne: tensor(0.2025)\n",
      "tsne_spc: tensor(0.0775, dtype=torch.float64)\n",
      "reso_score: tensor(0.6077)\n",
      "min_angle: tensor(5.4292)\n"
     ]
    },
    {
     "data": {
      "text/html": [
       "<style type=\"text/css\">\n",
       "</style>\n",
       "<table id=\"T_68a30_\">\n",
       "  <thead>\n",
       "    <tr>\n",
       "      <th class=\"blank level0\" >&nbsp;</th>\n",
       "      <th class=\"col_heading level0 col0\" >stress</th>\n",
       "      <th class=\"col_heading level0 col1\" >stress_spc</th>\n",
       "      <th class=\"col_heading level0 col2\" >xing</th>\n",
       "      <th class=\"col_heading level0 col3\" >xing_spc</th>\n",
       "      <th class=\"col_heading level0 col4\" >l1_angle</th>\n",
       "      <th class=\"col_heading level0 col5\" >l1_angle_spc</th>\n",
       "      <th class=\"col_heading level0 col6\" >edge</th>\n",
       "      <th class=\"col_heading level0 col7\" >edge_spc</th>\n",
       "      <th class=\"col_heading level0 col8\" >ring</th>\n",
       "      <th class=\"col_heading level0 col9\" >ring_spc</th>\n",
       "      <th class=\"col_heading level0 col10\" >tsne</th>\n",
       "      <th class=\"col_heading level0 col11\" >tsne_spc</th>\n",
       "      <th class=\"col_heading level0 col12\" >reso_score</th>\n",
       "      <th class=\"col_heading level0 col13\" >min_angle</th>\n",
       "    </tr>\n",
       "  </thead>\n",
       "  <tbody>\n",
       "    <tr>\n",
       "      <th id=\"T_68a30_level0_row0\" class=\"row_heading level0 row0\" >0</th>\n",
       "      <td id=\"T_68a30_row0_col0\" class=\"data row0 col0\" >319.37</td>\n",
       "      <td id=\"T_68a30_row0_col1\" class=\"data row0 col1\" >3.00%</td>\n",
       "      <td id=\"T_68a30_row0_col2\" class=\"data row0 col2\" >27.57</td>\n",
       "      <td id=\"T_68a30_row0_col3\" class=\"data row0 col3\" >17.13%</td>\n",
       "      <td id=\"T_68a30_row0_col4\" class=\"data row0 col4\" >79.10</td>\n",
       "      <td id=\"T_68a30_row0_col5\" class=\"data row0 col5\" >3.49%</td>\n",
       "      <td id=\"T_68a30_row0_col6\" class=\"data row0 col6\" >0.16</td>\n",
       "      <td id=\"T_68a30_row0_col7\" class=\"data row0 col7\" >15.80%</td>\n",
       "      <td id=\"T_68a30_row0_col8\" class=\"data row0 col8\" >252.50</td>\n",
       "      <td id=\"T_68a30_row0_col9\" class=\"data row0 col9\" >-0.81%</td>\n",
       "      <td id=\"T_68a30_row0_col10\" class=\"data row0 col10\" >0.20</td>\n",
       "      <td id=\"T_68a30_row0_col11\" class=\"data row0 col11\" >7.75%</td>\n",
       "      <td id=\"T_68a30_row0_col12\" class=\"data row0 col12\" >0.61</td>\n",
       "      <td id=\"T_68a30_row0_col13\" class=\"data row0 col13\" >5.43</td>\n",
       "    </tr>\n",
       "  </tbody>\n",
       "</table>\n"
      ],
      "text/plain": [
       "<pandas.io.formats.style.Styler at 0x2b2cf4a859a0>"
      ]
     },
     "execution_count": 35,
     "metadata": {},
     "output_type": "execute_result"
    }
   ],
   "source": [
    "metrics = test_metrics\n",
    "print('stress:', metrics['stress'].mean())\n",
    "print('stress_spc:', metrics['stress_spc'].mean())\n",
    "print('xing:', metrics['xing'].mean())\n",
    "print('xing_spc:', metrics['xing_spc'].mean())\n",
    "print('l1_angle:', metrics['l1_angle'].mean())\n",
    "print('l1_angle_spc:', metrics['l1_angle_spc'].mean())\n",
    "print('edge:', metrics['edge'].mean())\n",
    "print('edge_spc:', metrics['edge_spc'].mean())\n",
    "print('ring:', metrics['ring'].mean())\n",
    "print('ring_spc:', metrics['ring_spc'].mean())\n",
    "print('tsne:', metrics['tsne'].mean())\n",
    "print('tsne_spc:', metrics['tsne_spc'].mean())\n",
    "print('reso_score:', metrics['resolution_score'].mean())\n",
    "print('min_angle:', metrics['min_angle'].mean())\n",
    "columns = [\n",
    "    'stress',\n",
    "    'stress_spc',\n",
    "    'xing',\n",
    "    'xing_spc',\n",
    "    'l1_angle',\n",
    "    'l1_angle_spc',\n",
    "    'edge',\n",
    "    'edge_spc',\n",
    "    'ring',\n",
    "    'ring_spc',\n",
    "    'tsne',\n",
    "    'tsne_spc',\n",
    "    'reso_score',\n",
    "    'min_angle'\n",
    "]\n",
    "df = pd.DataFrame(map(lambda m: metrics[m].mean().item(), list(metrics.keys())[:-1])).set_axis(columns).T\n",
    "df.style.format({c: \"{:.2f}\" for c in columns if 'spc' not in c} | {c: \"{:.2%}\" for c in columns if 'spc' in c})"
   ]
  },
  {
   "cell_type": "code",
   "execution_count": 36,
   "metadata": {
    "id": "5e7vPr0M3mmG"
   },
   "outputs": [],
   "source": [
    "metrics = {}"
   ]
  },
  {
   "cell_type": "code",
   "execution_count": 37,
   "metadata": {},
   "outputs": [],
   "source": [
    "methods = ['fa2']"
   ]
  },
  {
   "cell_type": "code",
   "execution_count": 38,
   "metadata": {
    "colab": {
     "base_uri": "https://localhost:8080/",
     "height": 433,
     "referenced_widgets": [
      "a0cf6e046add4e639e52db69656e0db9",
      "8e237731bb1241ac858581b25389c012",
      "0891547293ad4211a138a4d92e01bb0b",
      "34912c8e581e47a99a1c4829c38cb75c",
      "5aa034c99c94424e835a2ee954b829ed",
      "248f6393eff74c3eb8740ca6d698045b",
      "686687a29c7f4ec98c4d76ca2062b14b",
      "996a84d1c23b47e4a2af252c6b60f55d",
      "3507f883bb954412b21c1c5641763ed7",
      "9582a849d91e457cadd514c95d6e1b5b",
      "52bfe674c2c547e09b7400a32a96f703",
      "93d58b3a12394fe1aa6f0431fc7cb0db",
      "af1d7855c9d646b0bcc7d95c4cb147a6",
      "f820e2b898cd461da04a4f651d27273d",
      "c0a112cfaa3d4d0aa9530372de84d8fb",
      "fd03985495694fbf9feb3f31ef8d18ce",
      "e02a2b36aa4c4d6fb5d2ac6693c1a927",
      "06f388ff5e3a48828d465096fe69977b",
      "c0052778c9c940e88935593e9f94b83b",
      "99a5e77a192d4a989c4534237eb16730",
      "77c6da092a6647fc9e54f7e276d75616",
      "8c13c0e8b5934117a662a78296bcb1b6",
      "cdcc3bd4235247b48c468c0f6b7682cc",
      "a2c6fa6fef4549cc853fa93b4b18cf95",
      "15cc02a756314083801b5f6798a1948c",
      "24d1c67fe52f452ab0c767e3c1a818aa",
      "c117db25c6fd484a9d0c7f210ccb1ade",
      "b090b60b61084cf692b3066dfac7f0a8",
      "5eab9848059c491b9c6cbac88683f025",
      "e87ffbaa1f204b52b9226337a506b040",
      "cf52198a9e4b46c7b49537a79919c09e",
      "51501227bc064ccbab97c22a679a0750",
      "d1b794a997dc457888a90bf44faee9b4",
      "21a755b50e5047bea797eccf24b35a0c",
      "16e78c3823ec4faf9f9cd9095b218ff5",
      "4ccd332c6b734acd8eff236eaf568dfa",
      "bd60fd13748347e48629df78fa455765",
      "e9187e4ba80b4fafa0334dae2e39aded",
      "4c39ec7c92b4402e8eedcb27beabaab1",
      "59a8194269f943bba571f710ad856973",
      "8e41bc25b9f348b1b85b381547cd60d1",
      "34d0f1529e64437fb25e639b41096072",
      "7e832c7543df43668eb72c0aa6356349",
      "f94162c9c5fe4c2581e3b80beaeb820b",
      "0284946fccf34607b25e1d6d81d4f72a",
      "8e8d4243a3624ba58d760bdf601d5126",
      "b1f0932594fe44f4be4beb8880172871",
      "820bb554d139437b8f6a6997f9002261",
      "459e375d1fe4497cb4197ef88e303c6d",
      "5726814966da46bbba942a114de4b319",
      "448beea5445f4642809801da46aa7e7c",
      "3746c0f0daf04f51805b4c95db20063a",
      "2ff74d1c705348438a32da37910c3300",
      "52f03147b5ab4cb390f9802b7a17a508",
      "5428511d652a47348203e8f3cd2e076d",
      "7b58569bee2e44c5a61a81f9a32c4c01",
      "c5e05d74b9404333a8155304e3497ba2",
      "3ad4e058bde44d87abab780368d49118",
      "8e437049b5c74ff1beddad93e30b19aa",
      "0c61377f4cc34b27ae34bdd6d976d868",
      "9ce35f9a9a23436ea77604513b5c4659",
      "dafbc43ad79c4feda093aefe490fc4b3",
      "497160b6bf80469a89680a03a468c8bb",
      "3265725ecb914981b6f07f68b8a582df",
      "1f0ac20d99d04ffb9ee75613526d3de6",
      "dee0e5716560483b8e2b107566439d94",
      "ca99841a1abd4fbd94927c49aaa711cb",
      "163a44ff1be04583ae7bd62726c55204",
      "f3b727045a0b4b4fabd147ec9c843e14",
      "7c4b4fe859cf48ab99b7e2780a24a539",
      "d9700cffab66480cb81e3722faab4e8b",
      "2c49acc1e0a64aa4b8ec461b0596848e",
      "691817157f43412f9c36002167606b75",
      "d0ae688d71734b56bb348de54e841798",
      "07a364ebcdaa491dbcc2304e4a8dae96",
      "538b277307b1449eaa79a2a91b4741d3",
      "f7b7dd4cbaa5468687b988c5e416a154",
      "877be862a4f045ec8b221097626becb5",
      "1bf37012df0844338ac689d4f6cc8eab",
      "33fe06641be544d3aab2c25cb979416f",
      "68de0d9261fa4e6999967b6f196d149c",
      "7017c5ba1ffc467495aca2689e516f7d",
      "e0997460cc21428695a0c278c6691baf",
      "522443bef4904996b6361ea265c4c56f",
      "dfe044b67917466f971ba84a11956d5e",
      "70b2d0ba1c1d4102841fb963480de1c7",
      "7b158daacd754a40bc0a48fc9ea6fea2",
      "8904f61ff30741e488eacf0e49440f66",
      "685dee6f1e1f4c2983d2d0b8eb90ed00",
      "005155a4d62d48cbbaf3d69614b08d81",
      "d2779dfa620041e4b32a7731926a5982",
      "53048bf27cb24080b4cdf20379302223",
      "0b5bff7794a14a20964da70b87158c2c",
      "ec664e55ea16435590393ae1617cccea",
      "f10d62ef464a45a7935610d869c282e3",
      "5e7c09bc35db4a3a8b9847c6d8478883",
      "987ea331b617446facc81b08bab1f8c4",
      "446c5a687b0d43358ab036d43ce281c3",
      "d89e216f62ae4a9999da1a91dd5e48b9",
      "09d03e7e66f54cafacefbfeda5fd6e5c",
      "d58c680562a44bbd9252e7ec6eebc06c",
      "71ea2594fdd942acac1cc61055438544",
      "fecda4df301b437f9fbfb61a7b593dc0",
      "bcf6741d926248cb92acf627d6557d2b",
      "5bd9868b9bda4f68b500a43916e2d148",
      "4bc5e02035de44ad827c4f881fd75afc",
      "7d80033a955e4feb947ca9cea931d90b",
      "e975c796d80d498992a50f87a2b0105c",
      "028b2ff105904a19a9a3e8ebf66967bb",
      "10dbf2cbdb1943eda6a0acaf5da3fe85",
      "14d59c7acc5e4e07a289db44406a4851",
      "d9447df93d714907bc9c768eb4910352",
      "d4a9ace081bf488680a7e43e0eaed71d",
      "022a60cde19546bfa6ecfb4947615ad9",
      "10c01207d9ba4fe197dc80717fceecc0",
      "f4995936570d4ba1a65e9a66e410b505",
      "b4bf66303e61491385cd616076a11c04",
      "a24ab2bfe7a44263bf60936d6e53ec32",
      "59e2e8ecc9f84d57af7bf44f5bba5df7",
      "be2eb92aab8045a99fd19195c3546b60",
      "e6715db2b048434796e910952cb5eb62",
      "8de2335007ba4a6b9935fa0c514c9f6a",
      "493a4bbe8057437a8c8acf4d03f8dcb0",
      "20b03955acc74e238695717124705520",
      "a89f9507496b4cf8bdd63bdb9bff79c4",
      "9752a1f6c8b6488d9628b8e0c023f10f",
      "61a0bebc687341a7bb3352febc8d4986",
      "07e0ff9c82a444788c60edee70688ca7",
      "4427901f35e54cc48e08527bb402c22a",
      "bd9dafb825954091ba975d71ab8c89ea",
      "7ec0f07bfe51484da38c18dc66d77804",
      "03943afebc4d4b668b54c7a0fd014a37",
      "a7a6b38a76424d738146b6a5786cf2c8",
      "1d1aa4729784470584c0001c1a296008",
      "e0c68ac9b5b442eeb77e6d9ea3c1da42",
      "c858ef9fd9324ab0ab885d85e3c8582f",
      "627bc2899c994a0c96c5d43e89dc77ff",
      "0e2c2f21fa8041038151170992ecb848",
      "2d9bcbf7629a4671bf8755e790276eb7",
      "77a4edf6ab1848a6a6df20c1c07358c6",
      "acf2212d6bb44c729b63281a98377095",
      "0c7a72818da3454190bab7f30a29e249",
      "d865af915b8b4aaa8cec8d40f1f8351d"
     ]
    },
    "id": "s1UnzfID4Ai6",
    "outputId": "3e204e76-68fd-4111-f527-91f6e3b7a3ca"
   },
   "outputs": [
    {
     "data": {
      "application/vnd.jupyter.widget-view+json": {
       "model_id": "1bf4c2734eed44b9bff37ec7ce3c890f",
       "version_major": 2,
       "version_minor": 0
      },
      "text/plain": [
       "  0%|          | 0/1000 [00:00<?, ?it/s]"
      ]
     },
     "metadata": {},
     "output_type": "display_data"
    }
   ],
   "source": [
    "for m in methods:\n",
    "    metrics[m] = test(model=test_generator, \n",
    "                      criteria_list=[], \n",
    "                      dataset=data_list, \n",
    "                      idx_range=range(10000, 11000), \n",
    "                      callback=None,\n",
    "                      gt_pos=load_pos(m))"
   ]
  },
  {
   "cell_type": "code",
   "execution_count": 39,
   "metadata": {
    "id": "dQ7hdCtk5u6K"
   },
   "outputs": [],
   "source": [
    "mean_metrics = {key : list(map(lambda m: metrics[key][m].mean().item(), list(metrics[key].keys())[:-1])) for key in metrics}"
   ]
  },
  {
   "cell_type": "code",
   "execution_count": 40,
   "metadata": {
    "colab": {
     "base_uri": "https://localhost:8080/",
     "height": 313
    },
    "id": "OGyaCmLXTuvA",
    "outputId": "6c42d9f3-9869-4504-bc9c-d0eedaecfd90"
   },
   "outputs": [
    {
     "data": {
      "text/html": [
       "<style type=\"text/css\">\n",
       "</style>\n",
       "<table id=\"T_5fdc6_\">\n",
       "  <thead>\n",
       "    <tr>\n",
       "      <th class=\"blank level0\" >&nbsp;</th>\n",
       "      <th class=\"col_heading level0 col0\" >stress</th>\n",
       "      <th class=\"col_heading level0 col1\" >stress_spc</th>\n",
       "      <th class=\"col_heading level0 col2\" >xing</th>\n",
       "      <th class=\"col_heading level0 col3\" >xing_spc</th>\n",
       "      <th class=\"col_heading level0 col4\" >l1_angle</th>\n",
       "      <th class=\"col_heading level0 col5\" >l1_angle_spc</th>\n",
       "      <th class=\"col_heading level0 col6\" >edge</th>\n",
       "      <th class=\"col_heading level0 col7\" >edge_spc</th>\n",
       "      <th class=\"col_heading level0 col8\" >ring</th>\n",
       "      <th class=\"col_heading level0 col9\" >ring_spc</th>\n",
       "      <th class=\"col_heading level0 col10\" >tsne</th>\n",
       "      <th class=\"col_heading level0 col11\" >tsne_spc</th>\n",
       "      <th class=\"col_heading level0 col12\" >reso_score</th>\n",
       "      <th class=\"col_heading level0 col13\" >min_angle</th>\n",
       "    </tr>\n",
       "  </thead>\n",
       "  <tbody>\n",
       "    <tr>\n",
       "      <th id=\"T_5fdc6_level0_row0\" class=\"row_heading level0 row0\" >fa2</th>\n",
       "      <td id=\"T_5fdc6_row0_col0\" class=\"data row0 col0\" >319.36</td>\n",
       "      <td id=\"T_5fdc6_row0_col1\" class=\"data row0 col1\" >-12.63%</td>\n",
       "      <td id=\"T_5fdc6_row0_col2\" class=\"data row0 col2\" >27.55</td>\n",
       "      <td id=\"T_5fdc6_row0_col3\" class=\"data row0 col3\" >5.16%</td>\n",
       "      <td id=\"T_5fdc6_row0_col4\" class=\"data row0 col4\" >79.09</td>\n",
       "      <td id=\"T_5fdc6_row0_col5\" class=\"data row0 col5\" >6.78%</td>\n",
       "      <td id=\"T_5fdc6_row0_col6\" class=\"data row0 col6\" >0.16</td>\n",
       "      <td id=\"T_5fdc6_row0_col7\" class=\"data row0 col7\" >-12.57%</td>\n",
       "      <td id=\"T_5fdc6_row0_col8\" class=\"data row0 col8\" >252.50</td>\n",
       "      <td id=\"T_5fdc6_row0_col9\" class=\"data row0 col9\" >-2.82%</td>\n",
       "      <td id=\"T_5fdc6_row0_col10\" class=\"data row0 col10\" >0.20</td>\n",
       "      <td id=\"T_5fdc6_row0_col11\" class=\"data row0 col11\" >4.56%</td>\n",
       "      <td id=\"T_5fdc6_row0_col12\" class=\"data row0 col12\" >0.61</td>\n",
       "      <td id=\"T_5fdc6_row0_col13\" class=\"data row0 col13\" >5.43</td>\n",
       "    </tr>\n",
       "  </tbody>\n",
       "</table>\n"
      ],
      "text/plain": [
       "<pandas.io.formats.style.Styler at 0x2b2cf4eb7250>"
      ]
     },
     "execution_count": 40,
     "metadata": {},
     "output_type": "execute_result"
    }
   ],
   "source": [
    "columns = [\n",
    "    'stress',\n",
    "    'stress_spc',\n",
    "    'xing',\n",
    "    'xing_spc',\n",
    "    'l1_angle',\n",
    "    'l1_angle_spc',\n",
    "    'edge',\n",
    "    'edge_spc',\n",
    "    'ring',\n",
    "    'ring_spc',\n",
    "    'tsne',\n",
    "    'tsne_spc',\n",
    "    'reso_score',\n",
    "    'min_angle'\n",
    "]\n",
    "df = pd.DataFrame(mean_metrics).set_axis(columns).T\n",
    "df.style.format({c: \"{:.2f}\" for c in columns if 'spc' not in c} | {c: \"{:.2%}\" for c in columns if 'spc' in c})"
   ]
  },
  {
   "cell_type": "markdown",
   "metadata": {
    "id": "L5S1HWnHOWIl"
   },
   "source": [
    "# Large Graph"
   ]
  },
  {
   "cell_type": "code",
   "execution_count": null,
   "metadata": {
    "id": "_pefPcV1OZdD"
   },
   "outputs": [],
   "source": [
    "scalability = pd.read_csv(f\"/__artifacts__/data/scalability.csv\", index_col=\"index\")\n",
    "scalability"
   ]
  },
  {
   "cell_type": "code",
   "execution_count": null,
   "metadata": {
    "id": "oMhWAsdvPnTX"
   },
   "outputs": [],
   "source": [
    "rescale = CanonicalizationByStress()\n",
    "stressfn = Stress()\n",
    "rotate = RotateByPrincipalComponents()"
   ]
  },
  {
   "cell_type": "code",
   "execution_count": null,
   "metadata": {
    "id": "LR83OcAaPID5"
   },
   "outputs": [],
   "source": [
    "stress_list = []\n",
    "spc_list = []\n",
    "pmds_list = np.load(\"layouts/new_large_graph/pmds.npy\", allow_pickle=True)\n",
    "gviz_list = np.load(\"layouts/new_large_graph/gviz.npy\", allow_pickle=True)\n",
    "with torch.no_grad():\n",
    "    for idx, col in tqdm(scalability.iterrows(), total=len(scalability)):\n",
    "        # if idx not in [406, 516]: continue\n",
    "        torch.cuda.empty_cache()\n",
    "        G = load_mtx(col['file'])\n",
    "        G.remove_edges_from(nx.selfloop_edges(G))\n",
    "        data = generate_data_list(G, \n",
    "                                sparse=data_config.sparse, \n",
    "                                pivot_mode=data_config.pivot,\n",
    "                                init_mode=data_config.init,\n",
    "                                edge_index=data_config.edge.index,\n",
    "                                edge_attr=data_config.edge.attr,\n",
    "                                pmds_list=pmds_list[idx],\n",
    "                                gviz_list=gviz_list[idx],\n",
    "                                device=device)\n",
    "        batch = Batch.from_data_list([data]).to(device)\n",
    "        # generator.train()\n",
    "        # generator(batch)\n",
    "        generator.eval()\n",
    "        pred = generator(batch)\n",
    "        pos = rotate(rescale(pred, batch), batch)\n",
    "        gt = rotate(rescale(batch.gt_pos, batch), batch)\n",
    "        stress = stressfn(pos, batch).item()\n",
    "        gt_stress = stressfn(gt, batch).item()\n",
    "        spc = (stress - gt_stress) / np.maximum(stress, gt_stress)\n",
    "        stress_list.append(stress)\n",
    "        spc_list.append(spc)\n",
    "\n",
    "        np.save(f\"/__artifacts__/gan_result/data/scalability_{idx}.npy\", pos.cpu().numpy())\n",
    "        graph_attr = dict(node_size=1, \n",
    "                        with_labels=False, \n",
    "                        labels=dict(zip(list(G.nodes), map(lambda n: n if type(n) is int else n[1:], list(G.nodes)))),\n",
    "                        font_color=\"white\", \n",
    "                        font_weight=\"bold\",\n",
    "                        font_size=12,\n",
    "                        width=0.1)\n",
    "\n",
    "        # gt_pos = pickle.load(open(f\"/__artifacts__/data/scalability_{idx}_gt.pkl\", \"rb\"))\n",
    "\n",
    "        plt.figure(figsize=[12, 9])\n",
    "        nx.draw(G, pos=gt.cpu().numpy(), node_color='orange', **graph_attr)\n",
    "        plt.title(f\"neato: large_{idx}\")\n",
    "        plt.axis(\"equal\")\n",
    "        plt.savefig(f\"/__artifacts__/gan_result/output/{idx}_{col['name']}_{col['n']}_{spc}_nx.png\", dpi=300)\n",
    "        plt.show()\n",
    "\n",
    "        plt.figure(figsize=[12, 9])\n",
    "        graph_vis(G, pos.cpu().numpy(), **graph_attr)\n",
    "        plt.title(f\"dgd: large_{idx}, spc={spc:.2%}\")\n",
    "        plt.axis(\"equal\")\n",
    "        plt.savefig(f\"/__artifacts__/gan_result/output/{idx}_{col['name']}_{col['n']}_{spc}_dgd.png\", dpi=300)\n",
    "        plt.show()"
   ]
  },
  {
   "cell_type": "code",
   "execution_count": null,
   "metadata": {
    "id": "gRXTewkYeuq1"
   },
   "outputs": [],
   "source": []
  }
 ],
 "metadata": {
  "accelerator": "GPU",
  "colab": {
   "collapsed_sections": [
    "w_p3OD0woiSM",
    "DR6-vYtr_i_P",
    "innqkwvH_ydD",
    "f-ODE2k8BFV6",
    "N39dDHraedM6"
   ],
   "machine_shape": "hm",
   "name": "GAN(gan=rgan,data=best(xing,stress),dis=deep,share=16,embed=0,gp=0).ipynb",
   "provenance": []
  },
  "kernelspec": {
   "display_name": "DeepGD",
   "language": "python",
   "name": "deepgd"
  },
  "language_info": {
   "codemirror_mode": {
    "name": "ipython",
    "version": 3
   },
   "file_extension": ".py",
   "mimetype": "text/x-python",
   "name": "python",
   "nbconvert_exporter": "python",
   "pygments_lexer": "ipython3",
   "version": "3.9.7"
  },
  "widgets": {
   "application/vnd.jupyter.widget-state+json": {
    "state": {
     "00be20e24757434bb7db6062d98b6b6a": {
      "model_module": "@jupyter-widgets/controls",
      "model_module_version": "1.5.0",
      "model_name": "TabModel",
      "state": {
       "_titles": {
        "0": "status",
        "1": "plot",
        "2": "log"
       },
       "children": [
        "IPY_MODEL_240e13e9d8074a0fa075e5a0cbe6ffc8",
        "IPY_MODEL_7a4ffbee6c8446c0a0f31014514e9f5d",
        "IPY_MODEL_8b5469d6123d49058b1f7ef16f2c3cd1"
       ],
       "layout": "IPY_MODEL_2b3751b3824f4169ab567fc6675703a1"
      }
     },
     "034ca910d655407daa9fac002f6ba77e": {
      "model_module": "@jupyter-widgets/base",
      "model_module_version": "1.2.0",
      "model_name": "LayoutModel",
      "state": {}
     },
     "056a311e8c3049d4ab56165669cc8004": {
      "model_module": "@jupyter-widgets/controls",
      "model_module_version": "1.5.0",
      "model_name": "ProgressStyleModel",
      "state": {
       "description_width": ""
      }
     },
     "0e66f1b9c2184380a420ab429a67b632": {
      "model_module": "@jupyter-widgets/output",
      "model_module_version": "1.0.0",
      "model_name": "OutputModel",
      "state": {
       "layout": "IPY_MODEL_d7d2ccf2c6ed4594ac4d94dfe9c6ac41",
       "outputs": [
        {
         "data": {
          "application/vnd.jupyter.widget-view+json": {
           "model_id": "2a959809dd8247768edee230a2bd66f6",
           "version_major": 2,
           "version_minor": 0
          },
          "text/plain": "  0%|          | 0/834 [00:00<?, ?it/s]"
         },
         "metadata": {},
         "output_type": "display_data"
        }
       ]
      }
     },
     "11347dd214f441748c22e9aa77ec63be": {
      "model_module": "@jupyter-widgets/controls",
      "model_module_version": "1.5.0",
      "model_name": "HTMLModel",
      "state": {
       "layout": "IPY_MODEL_9feee0a3a2af412b8b90943b818c8f6f",
       "style": "IPY_MODEL_60843b4952254c25abfeaac4af8db683",
       "value": " 1000/1000 [00:47&lt;00:00, 21.41it/s]"
      }
     },
     "11cd350a7e584532a5298cba35d67237": {
      "model_module": "@jupyter-widgets/base",
      "model_module_version": "1.2.0",
      "model_name": "LayoutModel",
      "state": {}
     },
     "128bf5bd3dca4ea3a19cc15368c29c68": {
      "model_module": "@jupyter-widgets/controls",
      "model_module_version": "1.5.0",
      "model_name": "ProgressStyleModel",
      "state": {
       "description_width": ""
      }
     },
     "162159677f00426aa5c670bfaeb225c3": {
      "model_module": "@jupyter-widgets/output",
      "model_module_version": "1.0.0",
      "model_name": "OutputModel",
      "state": {
       "layout": "IPY_MODEL_cb0a07888f9c4b6483f75162bbef1d3b",
       "outputs": [
        {
         "data": {
          "text/html": "<div>\n<style scoped>\n    .dataframe tbody tr th:only-of-type {\n        vertical-align: middle;\n    }\n\n    .dataframe tbody tr th {\n        vertical-align: top;\n    }\n\n    .dataframe thead th {\n        text-align: right;\n    }\n</style>\n<table border=\"1\" class=\"dataframe\">\n  <thead>\n    <tr style=\"text-align: right;\">\n      <th></th>\n      <th>val_stress</th>\n      <th>val_stress_spc</th>\n      <th>val_xing</th>\n      <th>val_xing_spc</th>\n      <th>dis_loss</th>\n    </tr>\n  </thead>\n  <tbody>\n    <tr>\n      <th>epoch 883</th>\n      <td>357.72</td>\n      <td>4.25%</td>\n      <td>31.40</td>\n      <td>17.70%</td>\n      <td>1.73e-01</td>\n    </tr>\n  </tbody>\n</table>\n</div>",
          "text/plain": "          val_stress val_stress_spc val_xing val_xing_spc  dis_loss\nepoch 883     357.72          4.25%    31.40       17.70%  1.73e-01"
         },
         "metadata": {},
         "output_type": "display_data"
        }
       ]
      }
     },
     "16f4b272eca746d7b605dee384c0a9e5": {
      "model_module": "@jupyter-widgets/base",
      "model_module_version": "1.2.0",
      "model_name": "LayoutModel",
      "state": {}
     },
     "1b8a473f32704b038ba6d4a66385ba38": {
      "model_module": "@jupyter-widgets/base",
      "model_module_version": "1.2.0",
      "model_name": "LayoutModel",
      "state": {}
     },
     "1bf4c2734eed44b9bff37ec7ce3c890f": {
      "model_module": "@jupyter-widgets/controls",
      "model_module_version": "1.5.0",
      "model_name": "HBoxModel",
      "state": {
       "children": [
        "IPY_MODEL_24a7a0ea92e743bc99dd9571e68c305b",
        "IPY_MODEL_9c5ddfa2e51b4bc58dce2bd829a03b7a",
        "IPY_MODEL_11347dd214f441748c22e9aa77ec63be"
       ],
       "layout": "IPY_MODEL_583cb65b4c5c412090c3769d046d09ce"
      }
     },
     "1d3ba223832247a29a4fc421910e0fb5": {
      "model_module": "@jupyter-widgets/controls",
      "model_module_version": "1.5.0",
      "model_name": "DescriptionStyleModel",
      "state": {
       "description_width": ""
      }
     },
     "23f0d5fc82a84941afb726a8e9a46bb3": {
      "model_module": "@jupyter-widgets/base",
      "model_module_version": "1.2.0",
      "model_name": "LayoutModel",
      "state": {}
     },
     "240e13e9d8074a0fa075e5a0cbe6ffc8": {
      "model_module": "@jupyter-widgets/controls",
      "model_module_version": "1.5.0",
      "model_name": "VBoxModel",
      "state": {
       "children": [
        "IPY_MODEL_0e66f1b9c2184380a420ab429a67b632",
        "IPY_MODEL_162159677f00426aa5c670bfaeb225c3"
       ],
       "layout": "IPY_MODEL_cba2037faa4840388354bcc5e3adcb16"
      }
     },
     "24a7a0ea92e743bc99dd9571e68c305b": {
      "model_module": "@jupyter-widgets/controls",
      "model_module_version": "1.5.0",
      "model_name": "HTMLModel",
      "state": {
       "layout": "IPY_MODEL_11cd350a7e584532a5298cba35d67237",
       "style": "IPY_MODEL_30ac87e3460c412ba0a89ce4b5a33921",
       "value": "100%"
      }
     },
     "282891ac78f943f78f9fa38772597815": {
      "model_module": "@jupyter-widgets/controls",
      "model_module_version": "1.5.0",
      "model_name": "DescriptionStyleModel",
      "state": {
       "description_width": ""
      }
     },
     "287e62c367f54bada54463a103c8d396": {
      "model_module": "@jupyter-widgets/base",
      "model_module_version": "1.2.0",
      "model_name": "LayoutModel",
      "state": {
       "height": "500px",
       "overflow_y": "auto"
      }
     },
     "2a959809dd8247768edee230a2bd66f6": {
      "model_module": "@jupyter-widgets/controls",
      "model_module_version": "1.5.0",
      "model_name": "HBoxModel",
      "state": {
       "children": [
        "IPY_MODEL_91e018fb50fd4bf6857c775b9bd83d95",
        "IPY_MODEL_f8c6e95544154232b84470b47847d8fd",
        "IPY_MODEL_5083efd57b29484a9600fbca309c962c"
       ],
       "layout": "IPY_MODEL_b03bc9e983884c0bb1c748e1cc52d3a1"
      }
     },
     "2b3751b3824f4169ab567fc6675703a1": {
      "model_module": "@jupyter-widgets/base",
      "model_module_version": "1.2.0",
      "model_name": "LayoutModel",
      "state": {}
     },
     "30ac87e3460c412ba0a89ce4b5a33921": {
      "model_module": "@jupyter-widgets/controls",
      "model_module_version": "1.5.0",
      "model_name": "DescriptionStyleModel",
      "state": {
       "description_width": ""
      }
     },
     "367ab0f9ff404181b4cfea362356bc6b": {
      "model_module": "@jupyter-widgets/output",
      "model_module_version": "1.0.0",
      "model_name": "OutputModel",
      "state": {
       "layout": "IPY_MODEL_1b8a473f32704b038ba6d4a66385ba38",
       "outputs": [
        {
         "name": "stdout",
         "output_type": "stream",
         "text": "[883] stress=357.72(4.25%) xing=31.40(17.70%)\n"
        }
       ]
      }
     },
     "3ec0278824364a608e37cfcc4f64cb7b": {
      "model_module": "@jupyter-widgets/controls",
      "model_module_version": "1.5.0",
      "model_name": "FloatProgressModel",
      "state": {
       "bar_style": "success",
       "layout": "IPY_MODEL_034ca910d655407daa9fac002f6ba77e",
       "max": 11531,
       "style": "IPY_MODEL_056a311e8c3049d4ab56165669cc8004",
       "value": 11531
      }
     },
     "422407e7d8d24c75ad63191f0f352486": {
      "model_module": "@jupyter-widgets/output",
      "model_module_version": "1.0.0",
      "model_name": "OutputModel",
      "state": {
       "layout": "IPY_MODEL_5bd45feac1854e5985375f18b6400e02",
       "outputs": [
        {
         "data": {
          "image/png": "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\n",
          "text/plain": "<Figure size 432x288 with 1 Axes>"
         },
         "metadata": {},
         "output_type": "display_data"
        }
       ]
      }
     },
     "4dc3080815144ea6b2c00cf3e3a2d642": {
      "model_module": "@jupyter-widgets/base",
      "model_module_version": "1.2.0",
      "model_name": "LayoutModel",
      "state": {}
     },
     "4fda84d4fae9439bb684abe0b6af2d29": {
      "model_module": "@jupyter-widgets/controls",
      "model_module_version": "1.5.0",
      "model_name": "FloatProgressModel",
      "state": {
       "bar_style": "success",
       "layout": "IPY_MODEL_98d7cb1aa7684c07b656b7e8ab64a718",
       "max": 1000,
       "style": "IPY_MODEL_8798ec89dd1f4cf29528b0a695ec1951",
       "value": 1000
      }
     },
     "5083efd57b29484a9600fbca309c962c": {
      "model_module": "@jupyter-widgets/controls",
      "model_module_version": "1.5.0",
      "model_name": "HTMLModel",
      "state": {
       "layout": "IPY_MODEL_4dc3080815144ea6b2c00cf3e3a2d642",
       "style": "IPY_MODEL_282891ac78f943f78f9fa38772597815",
       "value": " 32/834 [00:05&lt;02:08,  6.24it/s]"
      }
     },
     "53527255b3ae452e82c56f90ed93600e": {
      "model_module": "@jupyter-widgets/base",
      "model_module_version": "1.2.0",
      "model_name": "LayoutModel",
      "state": {}
     },
     "54c293c2b73a41dea6ed61de4bea4361": {
      "model_module": "@jupyter-widgets/controls",
      "model_module_version": "1.5.0",
      "model_name": "ProgressStyleModel",
      "state": {
       "description_width": ""
      }
     },
     "583cb65b4c5c412090c3769d046d09ce": {
      "model_module": "@jupyter-widgets/base",
      "model_module_version": "1.2.0",
      "model_name": "LayoutModel",
      "state": {}
     },
     "5bd45feac1854e5985375f18b6400e02": {
      "model_module": "@jupyter-widgets/base",
      "model_module_version": "1.2.0",
      "model_name": "LayoutModel",
      "state": {}
     },
     "60843b4952254c25abfeaac4af8db683": {
      "model_module": "@jupyter-widgets/controls",
      "model_module_version": "1.5.0",
      "model_name": "DescriptionStyleModel",
      "state": {
       "description_width": ""
      }
     },
     "6acb8a7413cd41a6b9a73b3174c87217": {
      "model_module": "@jupyter-widgets/base",
      "model_module_version": "1.2.0",
      "model_name": "LayoutModel",
      "state": {}
     },
     "6cb00dfda4464c8ab7d369341660740d": {
      "model_module": "@jupyter-widgets/controls",
      "model_module_version": "1.5.0",
      "model_name": "HTMLModel",
      "state": {
       "layout": "IPY_MODEL_a31bc6baa372451296a9168fa5e49229",
       "style": "IPY_MODEL_b0cb36ae739e433691d84867f4635536",
       "value": "100%"
      }
     },
     "754bc21c48084ef19802ec28595642ec": {
      "model_module": "@jupyter-widgets/base",
      "model_module_version": "1.2.0",
      "model_name": "LayoutModel",
      "state": {}
     },
     "7a4ffbee6c8446c0a0f31014514e9f5d": {
      "model_module": "@jupyter-widgets/controls",
      "model_module_version": "1.5.0",
      "model_name": "HBoxModel",
      "state": {
       "children": [
        "IPY_MODEL_422407e7d8d24c75ad63191f0f352486"
       ],
       "layout": "IPY_MODEL_9d4adc3762ac47f2ba4b5023dbbd252e"
      }
     },
     "7e5eb64be25e4dc0a8e150370d04bc7d": {
      "model_module": "@jupyter-widgets/base",
      "model_module_version": "1.2.0",
      "model_name": "LayoutModel",
      "state": {}
     },
     "81694ddf0a9f44ff804adf01b43d1d0b": {
      "model_module": "@jupyter-widgets/controls",
      "model_module_version": "1.5.0",
      "model_name": "DescriptionStyleModel",
      "state": {
       "description_width": ""
      }
     },
     "8798ec89dd1f4cf29528b0a695ec1951": {
      "model_module": "@jupyter-widgets/controls",
      "model_module_version": "1.5.0",
      "model_name": "ProgressStyleModel",
      "state": {
       "description_width": ""
      }
     },
     "8a1e37043d6e487c875011f6cf2fa842": {
      "model_module": "@jupyter-widgets/controls",
      "model_module_version": "1.5.0",
      "model_name": "HTMLModel",
      "state": {
       "layout": "IPY_MODEL_16f4b272eca746d7b605dee384c0a9e5",
       "style": "IPY_MODEL_af26e34df9904094b7a3dad95ef026a1",
       "value": " 1000/1000 [00:47&lt;00:00, 20.28it/s]"
      }
     },
     "8b5469d6123d49058b1f7ef16f2c3cd1": {
      "model_module": "@jupyter-widgets/controls",
      "model_module_version": "1.5.0",
      "model_name": "HBoxModel",
      "state": {
       "children": [
        "IPY_MODEL_367ab0f9ff404181b4cfea362356bc6b"
       ],
       "layout": "IPY_MODEL_287e62c367f54bada54463a103c8d396"
      }
     },
     "9001caa31bff4170aa55bb4e253e947c": {
      "model_module": "@jupyter-widgets/controls",
      "model_module_version": "1.5.0",
      "model_name": "DescriptionStyleModel",
      "state": {
       "description_width": ""
      }
     },
     "91e018fb50fd4bf6857c775b9bd83d95": {
      "model_module": "@jupyter-widgets/controls",
      "model_module_version": "1.5.0",
      "model_name": "HTMLModel",
      "state": {
       "layout": "IPY_MODEL_7e5eb64be25e4dc0a8e150370d04bc7d",
       "style": "IPY_MODEL_1d3ba223832247a29a4fc421910e0fb5",
       "value": "[epoch 883/None]:   4%"
      }
     },
     "98d7cb1aa7684c07b656b7e8ab64a718": {
      "model_module": "@jupyter-widgets/base",
      "model_module_version": "1.2.0",
      "model_name": "LayoutModel",
      "state": {}
     },
     "9c5ddfa2e51b4bc58dce2bd829a03b7a": {
      "model_module": "@jupyter-widgets/controls",
      "model_module_version": "1.5.0",
      "model_name": "FloatProgressModel",
      "state": {
       "bar_style": "success",
       "layout": "IPY_MODEL_9f6f0642c37e46f29b1ecac125e9ffcc",
       "max": 1000,
       "style": "IPY_MODEL_54c293c2b73a41dea6ed61de4bea4361",
       "value": 1000
      }
     },
     "9d4adc3762ac47f2ba4b5023dbbd252e": {
      "model_module": "@jupyter-widgets/base",
      "model_module_version": "1.2.0",
      "model_name": "LayoutModel",
      "state": {
       "height": "500px",
       "overflow_y": "auto"
      }
     },
     "9f6f0642c37e46f29b1ecac125e9ffcc": {
      "model_module": "@jupyter-widgets/base",
      "model_module_version": "1.2.0",
      "model_name": "LayoutModel",
      "state": {}
     },
     "9feee0a3a2af412b8b90943b818c8f6f": {
      "model_module": "@jupyter-widgets/base",
      "model_module_version": "1.2.0",
      "model_name": "LayoutModel",
      "state": {}
     },
     "a31bc6baa372451296a9168fa5e49229": {
      "model_module": "@jupyter-widgets/base",
      "model_module_version": "1.2.0",
      "model_name": "LayoutModel",
      "state": {}
     },
     "ab26e33c149642daaf512aa54ea0c5cc": {
      "model_module": "@jupyter-widgets/controls",
      "model_module_version": "1.5.0",
      "model_name": "HTMLModel",
      "state": {
       "layout": "IPY_MODEL_754bc21c48084ef19802ec28595642ec",
       "style": "IPY_MODEL_81694ddf0a9f44ff804adf01b43d1d0b",
       "value": "100%"
      }
     },
     "af26e34df9904094b7a3dad95ef026a1": {
      "model_module": "@jupyter-widgets/controls",
      "model_module_version": "1.5.0",
      "model_name": "DescriptionStyleModel",
      "state": {
       "description_width": ""
      }
     },
     "b03bc9e983884c0bb1c748e1cc52d3a1": {
      "model_module": "@jupyter-widgets/base",
      "model_module_version": "1.2.0",
      "model_name": "LayoutModel",
      "state": {}
     },
     "b0cb36ae739e433691d84867f4635536": {
      "model_module": "@jupyter-widgets/controls",
      "model_module_version": "1.5.0",
      "model_name": "DescriptionStyleModel",
      "state": {
       "description_width": ""
      }
     },
     "bb4547b0f9534c998b11bbabff89ecb7": {
      "model_module": "@jupyter-widgets/controls",
      "model_module_version": "1.5.0",
      "model_name": "HBoxModel",
      "state": {
       "children": [
        "IPY_MODEL_6cb00dfda4464c8ab7d369341660740d",
        "IPY_MODEL_3ec0278824364a608e37cfcc4f64cb7b",
        "IPY_MODEL_d39065599cd04cd39cc9c2cfa73c55c0"
       ],
       "layout": "IPY_MODEL_53527255b3ae452e82c56f90ed93600e"
      }
     },
     "cb0a07888f9c4b6483f75162bbef1d3b": {
      "model_module": "@jupyter-widgets/base",
      "model_module_version": "1.2.0",
      "model_name": "LayoutModel",
      "state": {}
     },
     "cba2037faa4840388354bcc5e3adcb16": {
      "model_module": "@jupyter-widgets/base",
      "model_module_version": "1.2.0",
      "model_name": "LayoutModel",
      "state": {}
     },
     "cc417b0bca734a5e96b175c647f98f4d": {
      "model_module": "@jupyter-widgets/controls",
      "model_module_version": "1.5.0",
      "model_name": "HBoxModel",
      "state": {
       "children": [
        "IPY_MODEL_ab26e33c149642daaf512aa54ea0c5cc",
        "IPY_MODEL_4fda84d4fae9439bb684abe0b6af2d29",
        "IPY_MODEL_8a1e37043d6e487c875011f6cf2fa842"
       ],
       "layout": "IPY_MODEL_e211e8ec16ad45bf8e197c1218c917ce"
      }
     },
     "d39065599cd04cd39cc9c2cfa73c55c0": {
      "model_module": "@jupyter-widgets/controls",
      "model_module_version": "1.5.0",
      "model_name": "HTMLModel",
      "state": {
       "layout": "IPY_MODEL_6acb8a7413cd41a6b9a73b3174c87217",
       "style": "IPY_MODEL_9001caa31bff4170aa55bb4e253e947c",
       "value": " 11531/11531 [00:00&lt;00:00, 64296.11it/s]"
      }
     },
     "d7d2ccf2c6ed4594ac4d94dfe9c6ac41": {
      "model_module": "@jupyter-widgets/base",
      "model_module_version": "1.2.0",
      "model_name": "LayoutModel",
      "state": {}
     },
     "e211e8ec16ad45bf8e197c1218c917ce": {
      "model_module": "@jupyter-widgets/base",
      "model_module_version": "1.2.0",
      "model_name": "LayoutModel",
      "state": {}
     },
     "f8c6e95544154232b84470b47847d8fd": {
      "model_module": "@jupyter-widgets/controls",
      "model_module_version": "1.5.0",
      "model_name": "FloatProgressModel",
      "state": {
       "layout": "IPY_MODEL_23f0d5fc82a84941afb726a8e9a46bb3",
       "max": 834,
       "style": "IPY_MODEL_128bf5bd3dca4ea3a19cc15368c29c68",
       "value": 32
      }
     }
    },
    "version_major": 2,
    "version_minor": 0
   }
  }
 },
 "nbformat": 4,
 "nbformat_minor": 4
}
