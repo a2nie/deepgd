{
 "cells": [
  {
   "cell_type": "markdown",
   "metadata": {
    "id": "wZtYFEhHoBGp"
   },
   "source": [
    "# Import libraries"
   ]
  },
  {
   "cell_type": "code",
   "execution_count": 1,
   "metadata": {
    "id": "KJPfzpxLQI5O"
   },
   "outputs": [],
   "source": [
    "%load_ext autoreload\n",
    "%autoreload 2\n",
    "from deepgd import *"
   ]
  },
  {
   "cell_type": "markdown",
   "metadata": {
    "id": "z4eBEyB1oaJe"
   },
   "source": [
    "# Config"
   ]
  },
  {
   "cell_type": "code",
   "execution_count": 2,
   "metadata": {
    "id": "Q_-MLFhpNvxF"
   },
   "outputs": [],
   "source": [
    "cuda_idx = 0\n",
    "canonicalization = Canonicalization(normalize=Standardization(norm_ord=1),\n",
    "                                    scale=False)\n",
    "config = StaticConfig({\n",
    "    \"name\": 'GAN(gan=rgan,data=best(xing,stress),dis=deep,share=10,embed=6,gp=0,lr=1e-2,decay=.98)',\n",
    "    \"uid\": None,\n",
    "    \"link\": None,\n",
    "    \"generator\": {\n",
    "        \"params\": {\n",
    "            \"num_blocks\": 9,\n",
    "            \"normalize\": canonicalization\n",
    "        },\n",
    "        \"pretrained\": {\n",
    "            \"name\": None,\n",
    "            \"epoch\": -1,\n",
    "        },\n",
    "        \"optim\": torch.optim.AdamW,\n",
    "        \"lr\" : {\n",
    "            \"initial\": 1e-2,\n",
    "            \"decay\": 0.98,\n",
    "        },\n",
    "    },\n",
    "    \"discriminator\": {\n",
    "        \"params\": {\n",
    "            \"conv\": [2, 16, 16, 16],\n",
    "            \"dense\": [2],\n",
    "            \"shared_depth\": 10,\n",
    "            \"enet_depth\": 6,\n",
    "            \"enet_width\": 64,\n",
    "            \"aggr\": \"add\",\n",
    "            \"normalize\": canonicalization\n",
    "        },\n",
    "        \"pretrained\": {\n",
    "            \"name\": None,\n",
    "            \"epoch\": -1,\n",
    "        },\n",
    "        \"optim\": torch.optim.AdamW,\n",
    "        \"lr\" : {\n",
    "            \"initial\": 1e-2,\n",
    "            \"decay\": 0.98,\n",
    "        },\n",
    "        \"noise\": {\n",
    "            \"std\": 0,\n",
    "            \"decay\": 0.95,\n",
    "        },\n",
    "        \"repeat\": 1,\n",
    "        \"complete\": True,\n",
    "        \"adaptive\": True\n",
    "    },\n",
    "    \"alternate\": \"epoch\",\n",
    "    \"batchsize\": 24,\n",
    "    \"epoch\": {\n",
    "        \"start\": -1,\n",
    "        \"end\": None,\n",
    "    },\n",
    "    \"log_interval\": 1,\n",
    "    \"test\": {\n",
    "        \"name\": \"test\",\n",
    "        \"epoch\": -1,\n",
    "    },\n",
    "    \"gan_flavor\": \"rgan\",\n",
    "    \"gp_weight\": 0,\n",
    "})\n",
    "data_config = StaticConfig({\n",
    "    \"sparse\": False,\n",
    "    \"pivot\": None,\n",
    "    \"init\": \"pmds\",\n",
    "    \"edge\": {\n",
    "        \"index\": \"full_edge_index\",\n",
    "        \"attr\": \"full_edge_attr\",\n",
    "    },\n",
    "})\n",
    "loss_fns = {\n",
    "    Stress(): 1\n",
    "}\n",
    "ctrler_params = {\n",
    "    \"tau\": 0.95,\n",
    "    \"beta\": 1,\n",
    "    \"exploit_rate\": 0.5,\n",
    "    \"warmup\": 2,\n",
    "}\n",
    "paths = StaticConfig({\n",
    "    \"root\": \"artifacts\",\n",
    "    \"checkpoints\": lambda: f\"{paths.root}/checkpoints/{config.name}\",\n",
    "    \"gen_pretrain\": lambda: f\"{paths.root}/checkpoints/{config.generator.pretrained.name}\",\n",
    "    \"dis_pretrain\": lambda: f\"{paths.root}/checkpoints/{config.discriminator.pretrained.name}\",\n",
    "    \"tensorboard\": lambda: f\"{paths.root}/tensorboards/{config.name}\",\n",
    "    \"visualization\": lambda: f\"{paths.root}/visualizations/{config.name}_{config.test.name}\",\n",
    "    \"log\": lambda: f\"{paths.root}/logs/{config.name}.log\",\n",
    "    \"metrics\": lambda suffix: f\"{paths.root}/metrics/{config.name}_{suffix}.pickle\",\n",
    "})"
   ]
  },
  {
   "cell_type": "code",
   "execution_count": 3,
   "metadata": {
    "id": "mdMEAbH10Qaq"
   },
   "outputs": [],
   "source": [
    "if \" \" in config.name:\n",
    "    raise Exception(\"Space is not allowed in model name.\")"
   ]
  },
  {
   "cell_type": "markdown",
   "metadata": {
    "id": "WynW4ZAdBhep"
   },
   "source": [
    "# Prepare"
   ]
  },
  {
   "cell_type": "markdown",
   "metadata": {
    "id": "DR6-vYtr_i_P"
   },
   "source": [
    "## Get log command"
   ]
  },
  {
   "cell_type": "code",
   "execution_count": 4,
   "metadata": {
    "colab": {
     "base_uri": "https://localhost:8080/"
    },
    "id": "9-QpinlslcTO",
    "outputId": "48ae3716-212c-4d46-9efb-b7b4070f73de"
   },
   "outputs": [
    {
     "name": "stdout",
     "output_type": "stream",
     "text": [
      "cd /users/PAS0027/osu10203/deepgd && tail -n1000 -f 'artifacts/logs/GAN(gan=rgan,data=best(xing,stress),dis=deep,share=10,embed=6,gp=0,lr=1e-2,decay=.98).log'\n"
     ]
    }
   ],
   "source": [
    "print(f\"cd {os.getcwd()} && tail -n1000 -f '{paths.log()}'\")"
   ]
  },
  {
   "cell_type": "code",
   "execution_count": 5,
   "metadata": {},
   "outputs": [
    {
     "name": "stdout",
     "output_type": "stream",
     "text": [
      "tensorboard dev upload --logdir 'artifacts/tensorboards/GAN(gan=rgan,data=best(xing,stress),dis=deep,share=10,embed=6,gp=0,lr=1e-2,decay=.98)'\n"
     ]
    }
   ],
   "source": [
    "print(f\"tensorboard dev upload --logdir '{paths.tensorboard()}'\")"
   ]
  },
  {
   "cell_type": "markdown",
   "metadata": {
    "id": "innqkwvH_ydD"
   },
   "source": [
    "## Set globals"
   ]
  },
  {
   "cell_type": "code",
   "execution_count": 6,
   "metadata": {
    "id": "Qjq7JlSZlkQR"
   },
   "outputs": [],
   "source": [
    "if cuda_idx is not None and torch.cuda.is_available():\n",
    "    device = f'cuda:{cuda_idx}'\n",
    "    pynvml.nvmlInit()\n",
    "    cuda = pynvml.nvmlDeviceGetHandleByIndex(cuda_idx)\n",
    "else:\n",
    "    device = 'cpu'\n",
    "    cuda =  None\n",
    "np.set_printoptions(precision=2)\n",
    "warnings.filterwarnings(\"ignore\", category=RuntimeWarning)"
   ]
  },
  {
   "cell_type": "markdown",
   "metadata": {
    "id": "0da286l_ApEL"
   },
   "source": [
    "## Load data"
   ]
  },
  {
   "cell_type": "code",
   "execution_count": 7,
   "metadata": {
    "colab": {
     "base_uri": "https://localhost:8080/"
    },
    "id": "RFuSHiZJMU4x",
    "outputId": "54065609-aaea-4536-d79c-73bc73b3f576"
   },
   "outputs": [
    {
     "name": "stdout",
     "output_type": "stream",
     "text": [
      "Load from 'cache/G_list.pickle'\n",
      "Load from 'cache/generate_data_list(list,sparse=False,pivot_mode=None,init_mode=pmds,edge_index=full_edge_index,edge_attr=full_edge_attr,pmds_list=ndarray,gviz_list=ndarray,noisy_layout=True,device=cpu).pickle'\n"
     ]
    },
    {
     "name": "stderr",
     "output_type": "stream",
     "text": [
      "/users/PAS0027/osu10203/.conda/envs/deepgd/lib/python3.9/site-packages/torch_geometric/deprecation.py:13: UserWarning: 'data.DataLoader' is deprecated, use 'loader.DataLoader' instead\n",
      "  warnings.warn(out)\n"
     ]
    }
   ],
   "source": [
    "G_list = load_G_list(data_path='data/rome', index_file='data_index.txt', cache='G_list', cache_prefix='cache/')\n",
    "data_list = generate_data_list(G_list, \n",
    "                               sparse=data_config.sparse, \n",
    "                               pivot_mode=data_config.pivot,\n",
    "                               init_mode=data_config.init,\n",
    "                               edge_index=data_config.edge.index,\n",
    "                               edge_attr=data_config.edge.attr,\n",
    "                               pmds_list=np.load('layouts/rome/pmds.npy', allow_pickle=True),\n",
    "                               gviz_list=np.load('layouts/rome/gviz.npy', allow_pickle=True),\n",
    "                               noisy_layout=True,\n",
    "                               device='cpu', \n",
    "                               cache=True,\n",
    "                               cache_prefix='cache/')\n",
    "train_loader = LazyDeviceMappingDataLoader(data_list[:10000], batch_size=config.batchsize, shuffle=True, device=device)\n",
    "val_loader = LazyDeviceMappingDataLoader(data_list[11000:], batch_size=config.batchsize, shuffle=False, device=device)"
   ]
  },
  {
   "cell_type": "code",
   "execution_count": 8,
   "metadata": {
    "id": "djd1pLt2OxZq"
   },
   "outputs": [],
   "source": [
    "def draw_layout(G, method, draw=True):\n",
    "    if method == 'fa2':\n",
    "        layout = get_fa2_layout(G)\n",
    "    else:\n",
    "        try:\n",
    "            fn = getattr(nx.drawing.layout, f'{method}_layout')\n",
    "            layout = fn(G)\n",
    "        except:\n",
    "            layout = nx.drawing.nx_agraph.graphviz_layout(G, prog=method)\n",
    "    if draw:\n",
    "        nx.draw(G, pos=layout)\n",
    "    return layout"
   ]
  },
  {
   "cell_type": "code",
   "execution_count": 9,
   "metadata": {
    "id": "2vBBw77lR7Em"
   },
   "outputs": [],
   "source": [
    "methods = ['neato', 'dot', 'fdp', 'sfdp', 'twopi', 'circo', 'shell', 'spring', 'circular', 'spectral', 'kamada_kawai', 'fa2', 'pmds']"
   ]
  },
  {
   "cell_type": "code",
   "execution_count": 10,
   "metadata": {
    "id": "dx6VVA9XIc2O"
   },
   "outputs": [],
   "source": [
    "from functools import lru_cache\n",
    "\n",
    "@lru_cache(maxsize=None)\n",
    "def load_pos(method):\n",
    "    return np.load(f'layouts/rome/{method}.npy', allow_pickle=True)"
   ]
  },
  {
   "cell_type": "code",
   "execution_count": 11,
   "metadata": {
    "colab": {
     "base_uri": "https://localhost:8080/",
     "height": 1000,
     "referenced_widgets": [
      "05a37aeeb20049dfa2f97287b3990556",
      "a75afae3adfd4810a0b0991a062535ee",
      "a24ae105ed124595992f7e2e5f909247",
      "01b4cabaf8004dd4b9269b4e6889c498",
      "f3c7c84f2b314bd8b97a7358deaf4fa1",
      "35e4a83e692b4a7bafb46fdf192b2586",
      "62847b5e2678459f845159eef6d4feab",
      "143e81f00313436dacfa246a57108944",
      "e05833f11803400b95ff22246cdc8f2b",
      "53aeede91e074378b5d7f626165655ee",
      "79a43768c1794a10a788a49e5883aa2c"
     ]
    },
    "id": "MSmP-jem9I0X",
    "outputId": "c698f0bf-e96e-4de9-aeda-0b046fc0a03f",
    "scrolled": true,
    "tags": []
   },
   "outputs": [],
   "source": [
    "# best_list = []\n",
    "# best_layout_list = []\n",
    "# for idx, (G, data) in enumerate(zip(tqdm(G_list), data_list)):\n",
    "#     xing, stress, layout = {}, {}, {}\n",
    "#     for m in methods:\n",
    "#         batch = Batch.from_data_list([data])\n",
    "#         pos = load_pos(m)\n",
    "#         p = CanonicalizationByStress()(torch.tensor(pos[idx]).float(), batch)\n",
    "#         x = Xing()(p, batch).item()\n",
    "#         s = Stress()(p, batch).item()\n",
    "#         xing[m] = x\n",
    "#         stress[m] = s\n",
    "#         layout[m] = p.numpy()\n",
    "#         # plt.figure()\n",
    "#         # graph_vis(G, pos[idx])\n",
    "#         # plt.title(f'{m} stress={s:.2f} xing={x}')\n",
    "#     best, *_ = sorted(methods, key=lambda m: (xing[m], stress[m]))\n",
    "#     best_list.append(best)\n",
    "#     best_layout_list.append(layout[best])\n",
    "#     print(f'{best}, xing={xing[best]}, stress={stress[best]:.2f}')"
   ]
  },
  {
   "cell_type": "code",
   "execution_count": 12,
   "metadata": {
    "colab": {
     "base_uri": "https://localhost:8080/"
    },
    "id": "Mx2bZNugdTqa",
    "outputId": "cec05a67-18e8-492f-aaa1-057274a8341a"
   },
   "outputs": [],
   "source": [
    "# pickle.dump(best_list, open('layouts/rome/best[xing,stress].pkl', 'wb'))\n",
    "# np.save('layouts/rome/best[xing,stress].npy', best_layout_list)"
   ]
  },
  {
   "cell_type": "code",
   "execution_count": 13,
   "metadata": {
    "colab": {
     "base_uri": "https://localhost:8080/",
     "height": 49,
     "referenced_widgets": [
      "7e0ae84dd0f3458d893c81b029fe1729",
      "18bdc3bf80fb434abde68de5b72a8870",
      "2e3552ded9594635a51832387ae754a0",
      "54f4aa5080c6498080a63be2cdeefee5",
      "3937586d0879451da5e2138ca3bfd0a0",
      "a9df6e84ce8c499eb2b2cf984995d791",
      "7af6b718dd3d4e01b264377a2fa938e2",
      "a774c86e64004bd6951645f1c24abad4",
      "c86575117cd041f2837762f37d1f387b",
      "6e9907cefb1241688fbd248b8281ed9f",
      "9b8e5405d8264944acab57e81f2f5ad6"
     ]
    },
    "id": "A1-w1fspC53p",
    "outputId": "09c2d5c3-1eef-41eb-dcee-581af1294804"
   },
   "outputs": [
    {
     "data": {
      "application/vnd.jupyter.widget-view+json": {
       "model_id": "ea3798a538df45f7b3d49da331774895",
       "version_major": 2,
       "version_minor": 0
      },
      "text/plain": [
       "  0%|          | 0/11531 [00:00<?, ?it/s]"
      ]
     },
     "metadata": {},
     "output_type": "display_data"
    }
   ],
   "source": [
    "best_layout_list = np.load('layouts/rome/best[xing,stress].npy', allow_pickle=True)\n",
    "for data, layout in zip(tqdm(data_list), best_layout_list):\n",
    "    data.gt_pos = torch.tensor(layout)"
   ]
  },
  {
   "cell_type": "code",
   "execution_count": 14,
   "metadata": {
    "id": "y6EGh4U7exL_"
   },
   "outputs": [],
   "source": [
    "train_loader = LazyDeviceMappingDataLoader(data_list[:10000], batch_size=config.batchsize, shuffle=True, device=device)\n",
    "val_loader = LazyDeviceMappingDataLoader(data_list[11000:], batch_size=config.batchsize, shuffle=False, device=device)"
   ]
  },
  {
   "cell_type": "code",
   "execution_count": 15,
   "metadata": {
    "colab": {
     "base_uri": "https://localhost:8080/",
     "height": 103,
     "referenced_widgets": [
      "38a33cf69aff48f4aabd4902a7ce48b1",
      "57e277bcb44c4e2fa2a12105d75153d1",
      "20ce017c46bd4a7c9b420270ac579405",
      "13f2df4fe0ce4af88b6e3bd1637065b0",
      "2867faa145ca4860a198d4d0bf830f89",
      "02838cf669174ed9afa41a1a8e680765",
      "7e9e3c031667455f8baca163d3a213e5",
      "4000135e7dfa46529fa6244fccc5cb57",
      "e523e9faac5b4ec38643c05ac5ba99f7",
      "e8e3ee9741e4480dae5003ccc19a7891",
      "9a569045221b43acb3ba2fbf116b2c74"
     ]
    },
    "id": "YEfRRUK0NiNm",
    "outputId": "93f53d05-7667-4cda-a38e-c3a953124f79"
   },
   "outputs": [],
   "source": [
    "# for m in methods:\n",
    "#     layouts = []\n",
    "#     for G in tqdm(G_list):\n",
    "#         layout = draw_layout(G, method=m, draw=False)\n",
    "#         layouts.append(np.array(list(layout.values())))\n",
    "#     np.save(f'layouts/rome/{m}.npy', layouts)"
   ]
  },
  {
   "cell_type": "code",
   "execution_count": 16,
   "metadata": {
    "colab": {
     "base_uri": "https://localhost:8080/",
     "height": 564
    },
    "id": "upK7AHYqPmC5",
    "outputId": "29a88e61-f55f-409c-9194-12c6d5762528"
   },
   "outputs": [],
   "source": [
    "# from collections import Counter\n",
    "\n",
    "# letter_counts = Counter(best_list)\n",
    "# df = pd.DataFrame.from_dict(letter_counts, orient='index')\n",
    "# df.plot(kind='bar', figsize=[12, 8])"
   ]
  },
  {
   "cell_type": "markdown",
   "metadata": {
    "id": "f-ODE2k8BFV6"
   },
   "source": [
    "## Create folders"
   ]
  },
  {
   "cell_type": "code",
   "execution_count": 17,
   "metadata": {
    "id": "3ykUMINYBRog"
   },
   "outputs": [],
   "source": [
    "mkdirs(paths.checkpoints(), paths.tensorboard(), paths.visualization(), f\"{paths.root}/logs\", f\"{paths.root}/metrics\")"
   ]
  },
  {
   "cell_type": "markdown",
   "metadata": {
    "id": "BFq9k5nzBIh5"
   },
   "source": [
    "## Load checkpoints"
   ]
  },
  {
   "cell_type": "code",
   "execution_count": 18,
   "metadata": {
    "id": "W5NbsKkobIfA"
   },
   "outputs": [],
   "source": [
    "class EdgeFeatureDiscriminator(nn.Module):\n",
    "    def __init__(self, \n",
    "                 conv, \n",
    "                 dense,\n",
    "                 shared_depth,\n",
    "                 enet_depth,\n",
    "                 enet_width,\n",
    "                 aggr='add', \n",
    "                 root_weight=True,\n",
    "                 normalize=None):\n",
    "        super().__init__()\n",
    "        self.enet = nn.Sequential(*[\n",
    "            DenseLayer(in_dim=in_d,\n",
    "                       out_dim=out_d,\n",
    "                       skip=nonlin,\n",
    "                       bn=nonlin,\n",
    "                       act=nonlin,\n",
    "                       dp=None)\n",
    "            for in_d, out_d, nonlin \n",
    "            in zip([self._get_feature_dim()] + [enet_width] * (shared_depth-1),\n",
    "                   [enet_width] * shared_depth,\n",
    "                   [True] * (shared_depth-1) + [False])     \n",
    "        ])\n",
    "        self.blocks = nn.ModuleList([\n",
    "            GNNLayer(nfeat_dims=(in_d, out_d),\n",
    "                     efeat_dim=enet_width,\n",
    "                     edge_net=EdgeNet(nfeat_dims=(in_d, out_d), \n",
    "                                      efeat_dim=enet_width, \n",
    "                                      depth=enet_depth, \n",
    "                                      width=enet_width),\n",
    "                     aggr=aggr,\n",
    "                     dense=False,\n",
    "                     skip=nonlin,\n",
    "                     bn=nonlin,\n",
    "                     act=nonlin,\n",
    "                     root_weight=root_weight) \n",
    "            for in_d, out_d, nonlin \n",
    "            in zip(conv[:-1], conv[1:], [True] * (len(conv)-2) + [False])     \n",
    "        ])\n",
    "        self.pool = (gnn.global_mean_pool if aggr == 'mean' \n",
    "                     else gnn.global_add_pool if aggr == 'add' \n",
    "                     else None)\n",
    "        self.dense = nn.Identity() if not dense else nn.Sequential(*[\n",
    "            DenseLayer(in_dim=in_d,\n",
    "                       out_dim=out_d,\n",
    "                       skip=nonlin,\n",
    "                       bn=nonlin,\n",
    "                       act=nonlin,\n",
    "                       dp=None)\n",
    "            for in_d, out_d, nonlin \n",
    "            in zip(conv[-1:] + dense[:-1], dense, [True] * (len(dense)-1) + [False])     \n",
    "        ])\n",
    "        self.normalize = normalize or IdentityTransformation()\n",
    "    \n",
    "    def forward(self, batch):\n",
    "        x = torch.ones_like(batch.pos)\n",
    "        e = self.enet(self._get_features(self._get_edge_info(batch, layout='pos')))\n",
    "        for block in self.blocks:\n",
    "            x = block(x, e, batch)\n",
    "        x = self.pool(x, batch.batch)\n",
    "        x = self.dense(x)\n",
    "        return x\n",
    "    \n",
    "    def _get_edge_info(self, batch, layout='gt_pos'):\n",
    "        pos = self.normalize(batch[layout].float(), batch)\n",
    "        src, dst = get_edges(pos, batch)\n",
    "        v, u = l2_normalize(dst - src, return_norm=True)\n",
    "        d = batch.edge_attr[:, :1]\n",
    "        return {\n",
    "            \"src\": src,\n",
    "            \"dst\": dst,\n",
    "            \"v\": v,\n",
    "            \"u\": u,\n",
    "            \"d\": d,\n",
    "        }\n",
    "\n",
    "    def _get_features(self, edges):\n",
    "        return torch.cat([edges['src'], edges['dst'], edges['d']], dim=1)\n",
    "        \n",
    "    def _get_feature_dim(self):\n",
    "        return self._get_features({\n",
    "            \"src\": torch.zeros(1, 2),\n",
    "            \"dst\": torch.zeros(1, 2),\n",
    "            \"v\": torch.zeros(1, 2),\n",
    "            \"u\": torch.zeros(1, 1),\n",
    "            \"d\": torch.zeros(1, 1),\n",
    "        }).shape[-1]"
   ]
  },
  {
   "cell_type": "code",
   "execution_count": 19,
   "metadata": {
    "id": "96ZActxlL0fJ"
   },
   "outputs": [],
   "source": [
    "class StressDiscriminator(nn.Module):\n",
    "    def __init__(self, normalize=CanonicalizationByStress(), **kwargs):\n",
    "        super().__init__()\n",
    "        self.dummy = nn.Parameter(torch.zeros(1))\n",
    "        self.normalize = normalize\n",
    "        self.stress = Stress(reduce=None)\n",
    "\n",
    "    def forward(self, batch):\n",
    "        return -self.stress(self.normalize(batch.pos, batch), batch)"
   ]
  },
  {
   "cell_type": "code",
   "execution_count": 20,
   "metadata": {
    "id": "IJ6xCYBUuhcw"
   },
   "outputs": [],
   "source": [
    "def get_ckpt_epoch(folder, epoch):\n",
    "    if not os.path.isdir(folder):\n",
    "        os.mkdir(folder)\n",
    "    if epoch >= 0:\n",
    "        return epoch\n",
    "    ckpt_files = os.listdir(folder)\n",
    "    last_epoch = 0\n",
    "    if ckpt_files:\n",
    "        last_epoch = sorted(list(map(lambda x: int(re.search('(?<=epoch_)(\\d+)(?=\\.)', x).group(1)), ckpt_files)))[-1]\n",
    "    return last_epoch + epoch + 1\n",
    "\n",
    "def start_epoch():\n",
    "    return get_ckpt_epoch(paths.checkpoints(), config.epoch.start)"
   ]
  },
  {
   "cell_type": "code",
   "execution_count": 21,
   "metadata": {
    "colab": {
     "base_uri": "https://localhost:8080/"
    },
    "id": "JacDYXka9U01",
    "outputId": "ef4e31ab-2144-497c-8e4f-4d3740ce2d52"
   },
   "outputs": [
    {
     "name": "stdout",
     "output_type": "stream",
     "text": [
      "Loading from artifacts/checkpoints/GAN(gan=rgan,data=best(xing,stress),dis=deep,share=10,embed=6,gp=0,lr=1e-2,decay=.98)/gen_epoch_1150.pt...\n",
      "Loading from artifacts/checkpoints/GAN(gan=rgan,data=best(xing,stress),dis=deep,share=10,embed=6,gp=0,lr=1e-2,decay=.98)/gen_optim_epoch_1150.pt...\n"
     ]
    }
   ],
   "source": [
    "generator = Generator(**config.generator.params[...]).to(device)\n",
    "generator_optimizer = config.generator.optim(generator.parameters(), lr=config.generator.lr.initial * config.generator.lr.decay ** start_epoch())\n",
    "generator_scheduler = torch.optim.lr_scheduler.ExponentialLR(generator_optimizer, gamma=config.generator.lr.decay)\n",
    "if start_epoch() != 0:\n",
    "    gen_ckpt_epoch = start_epoch()\n",
    "elif config.generator.pretrained.name is not None and config.generator.pretrained.epoch != 0:\n",
    "    gen_pretrained_epoch = get_ckpt_epoch(paths.gen_pretrain(), config.generator.pretrained.epoch)\n",
    "    gen_ckpt_epoch = gen_pretrained_epoch \n",
    "else:\n",
    "    gen_ckpt_epoch = None\n",
    "if gen_ckpt_epoch is not None:\n",
    "    # Load generator\n",
    "    gen_ckpt_file = f\"{paths.checkpoints()}/gen_epoch_{gen_ckpt_epoch}.pt\"\n",
    "    print(f\"Loading from {gen_ckpt_file}...\")\n",
    "    generator.load_state_dict(torch.load(gen_ckpt_file, map_location=torch.device(device)))\n",
    "    # Load generator optimizer\n",
    "    gen_optim_ckpt_file = f\"{paths.checkpoints()}/gen_optim_epoch_{gen_ckpt_epoch}.pt\"\n",
    "    print(f\"Loading from {gen_optim_ckpt_file}...\")\n",
    "    generator_optimizer.load_state_dict(torch.load(gen_optim_ckpt_file, map_location=torch.device(device)))"
   ]
  },
  {
   "cell_type": "code",
   "execution_count": 22,
   "metadata": {
    "colab": {
     "base_uri": "https://localhost:8080/"
    },
    "id": "oWQhD7-88VXe",
    "outputId": "3ba01600-b546-4e45-a6bd-c7a65af1ae9e"
   },
   "outputs": [
    {
     "name": "stdout",
     "output_type": "stream",
     "text": [
      "Loading from artifacts/checkpoints/GAN(gan=rgan,data=best(xing,stress),dis=deep,share=10,embed=6,gp=0,lr=1e-2,decay=.98)/dis_epoch_1150.pt...\n",
      "Loading from artifacts/checkpoints/GAN(gan=rgan,data=best(xing,stress),dis=deep,share=10,embed=6,gp=0,lr=1e-2,decay=.98)/dis_optim_epoch_1150.pt...\n"
     ]
    }
   ],
   "source": [
    "discriminator = EdgeFeatureDiscriminator(**config.discriminator.params[...]).to(device)\n",
    "discriminator_optimizer = config.discriminator.optim(discriminator.parameters(), lr=config.discriminator.lr.initial * config.discriminator.lr.decay ** start_epoch())\n",
    "discriminator_scheduler = torch.optim.lr_scheduler.ExponentialLR(discriminator_optimizer, gamma=config.discriminator.lr.decay)\n",
    "if start_epoch() != 0:\n",
    "    dis_ckpt_epoch = start_epoch()\n",
    "elif config.discriminator.pretrained.name is not None and config.discriminator.pretrained.epoch != 0:\n",
    "    dis_pretrained_epoch = get_ckpt_epoch(paths.dis_pretrain(), config.discriminator.pretrained.epoch)\n",
    "    dis_ckpt_epoch = dis_pretrained_epoch # f\"{paths.dis_pretrain()}/dis_epoch_{dis_pretrained_epoch}.pt\"\n",
    "else:\n",
    "    dis_ckpt_epoch = None\n",
    "if dis_ckpt_epoch is not None:\n",
    "    # Load discriminator\n",
    "    dis_ckpt_file = f\"{paths.checkpoints()}/dis_epoch_{dis_ckpt_epoch}.pt\"\n",
    "    print(f\"Loading from {dis_ckpt_file}...\")\n",
    "    discriminator.load_state_dict(torch.load(dis_ckpt_file, map_location=torch.device(device)))\n",
    "    # Load discriminator optimizer\n",
    "    dis_optim_ckpt_file = f\"{paths.checkpoints()}/dis_optim_epoch_{dis_ckpt_epoch}.pt\"\n",
    "    print(f\"Loading from {dis_optim_ckpt_file}...\")\n",
    "    discriminator_optimizer.load_state_dict(torch.load(dis_optim_ckpt_file, map_location=torch.device(device)))"
   ]
  },
  {
   "cell_type": "markdown",
   "metadata": {
    "id": "N39dDHraedM6"
   },
   "source": [
    "# Train"
   ]
  },
  {
   "cell_type": "code",
   "execution_count": 23,
   "metadata": {
    "id": "BdIJSDSJedM-"
   },
   "outputs": [],
   "source": [
    "stress_criterion = StressDiscriminator().to(device)\n",
    "val_criterion = Stress(reduce=None)\n",
    "xing_criterion = Xing(reduce=None)\n",
    "dis_convert = DiscriminatorDataConverter(complete_graph=config.discriminator.complete, normalize=config.discriminator.params.normalize)\n",
    "tensorboard = SummaryWriter(log_dir=paths.tensorboard())\n",
    "epoch = start_epoch() + 1"
   ]
  },
  {
   "cell_type": "code",
   "execution_count": 24,
   "metadata": {
    "id": "OHRWj1h0edM-"
   },
   "outputs": [],
   "source": [
    "def gradient_penalty(interpolated, discriminator, weight=10):\n",
    "    interpolated.pos.requires_grad_()\n",
    "    prob_interpolated = discriminator(interpolated)\n",
    "    gradients = autograd.grad(outputs=prob_interpolated, \n",
    "                              inputs=interpolated.pos,\n",
    "                              grad_outputs=torch.ones_like(prob_interpolated),\n",
    "                              create_graph=True, \n",
    "                              retain_graph=True, \n",
    "                              allow_unused=True)[0]\n",
    "    gradients_norm = torch.sqrt(gnn.global_add_pool(gradients.square().sum(dim=1), batch.batch) + 1e-8)\n",
    "    return weight * ((gradients_norm - 1) ** 2).mean()"
   ]
  },
  {
   "cell_type": "code",
   "execution_count": 25,
   "metadata": {
    "id": "o5wJJN9AedM_"
   },
   "outputs": [],
   "source": [
    "def get_gp_loss(batch, fake_pos, weight):\n",
    "    if weight > 0:\n",
    "        interp = dis_convert(batch, fake_pos, random.random())\n",
    "        return gradient_penalty(interp, discriminator, weight).mean()\n",
    "    return 0"
   ]
  },
  {
   "cell_type": "code",
   "execution_count": 26,
   "metadata": {
    "id": "QwuA6sRoedM_"
   },
   "outputs": [],
   "source": [
    "def get_sgan_loss(batch, fake_pos, mode='discriminator'):\n",
    "    real = dis_convert(batch)\n",
    "    fake = dis_convert(batch, fake_pos)\n",
    "    pred = discriminator(merge_batch(real, fake)).view(2, -1).T\n",
    "    if mode == 'discriminator':\n",
    "        label = torch.zeros(pred.shape[0]).long()\n",
    "    elif mode == 'generator':\n",
    "        label = torch.ones(pred.shape[0]).long()\n",
    "    else:\n",
    "        raise Exception\n",
    "    return nn.CrossEntropyLoss()(pred, label)"
   ]
  },
  {
   "cell_type": "code",
   "execution_count": 27,
   "metadata": {
    "id": "GuAP1YchedNA"
   },
   "outputs": [],
   "source": [
    "def get_rgan_loss(batch, fake_pos, mode='discriminator'):\n",
    "    real = dis_convert(batch)\n",
    "    fake = dis_convert(batch, fake_pos)\n",
    "    pred = discriminator(merge_batch(real, fake)).view(2, -1).T\n",
    "    real_pred, fake_pred = pred[:,0], pred[:,1]\n",
    "    if mode == 'discriminator':\n",
    "        losses = - F.logsigmoid(real_pred - fake_pred)\n",
    "    elif mode == 'generator':\n",
    "        losses = - F.logsigmoid(fake_pred - real_pred)\n",
    "    else:\n",
    "        raise Exception\n",
    "    return losses.mean()"
   ]
  },
  {
   "cell_type": "code",
   "execution_count": 28,
   "metadata": {
    "id": "KFllQ7BredNA"
   },
   "outputs": [],
   "source": [
    "def get_wgan_loss(batch, fake_pos, mode='discriminator'):\n",
    "    real = dis_convert(batch)\n",
    "    fake = dis_convert(batch, fake_pos)\n",
    "    pred = discriminator(merge_batch(real, fake)).view(2, -1).T\n",
    "    real_pred, fake_pred = pred[:,0], pred[:,1]\n",
    "    if mode == 'discriminator':\n",
    "        losses = fake_pred - real_pred \n",
    "    elif mode == 'generator':\n",
    "        losses = real_pred - fake_pred\n",
    "    else:\n",
    "        raise Exception\n",
    "    return losses.mean()"
   ]
  },
  {
   "cell_type": "code",
   "execution_count": 29,
   "metadata": {
    "id": "r5Kg_tYEedNA"
   },
   "outputs": [],
   "source": [
    "def get_ragan_loss(batch, fake_pos, mode='discriminator'):\n",
    "    real = dis_convert(batch)\n",
    "    fake = dis_convert(batch, fake_pos)\n",
    "    pred = discriminator(merge_batch(real, fake)).view(2, -1).T\n",
    "    real_pred, fake_pred = pred[:,0], pred[:,1]\n",
    "    if mode == 'discriminator':\n",
    "        losses = - F.logsigmoid(real_pred - fake_pred.mean()) - F.logsigmoid(real_pred.mean() - fake_pred)\n",
    "    elif mode == 'generator':\n",
    "        losses = - F.logsigmoid(fake_pred - real_pred.mean()) - F.logsigmoid(fake_pred.mean() - real_pred)\n",
    "    else:\n",
    "        raise Exception\n",
    "    return losses.mean()"
   ]
  },
  {
   "cell_type": "code",
   "execution_count": 30,
   "metadata": {},
   "outputs": [],
   "source": [
    "def get_dgdv2_loss(batch, fake_pos, mode='discriminator'):\n",
    "    fake = dis_convert(batch, fake_pos)\n",
    "    pred = discriminator(fake)\n",
    "    if mode == 'discriminator':\n",
    "        gt = get_gt(batch, fake_pos)\n",
    "        loss = criterion(pred, gt)\n",
    "    elif mode == 'generator':\n",
    "        losses = pred.sum(dim=0)\n",
    "#         losses = torch.tensor(config.importance).to(device) * losses #/ losses.detach()\n",
    "        loss = losses.sum()\n",
    "    else:\n",
    "        raise Exception\n",
    "    return -loss"
   ]
  },
  {
   "cell_type": "code",
   "execution_count": 31,
   "metadata": {
    "id": "3IE_84f-edNB"
   },
   "outputs": [],
   "source": [
    "def get_gan_loss(batch, fake_pos, mode='discriminator'):\n",
    "    return {\"sgan\": get_sgan_loss,\n",
    "            \"wgan\": get_wgan_loss,\n",
    "            \"rgan\": get_rgan_loss,\n",
    "            \"ragan\": get_ragan_loss,\n",
    "            \"dgdv2\": get_dgdv2_loss}[config.gan_flavor](batch, fake_pos, mode)"
   ]
  },
  {
   "cell_type": "code",
   "execution_count": 32,
   "metadata": {
    "colab": {
     "background_save": true,
     "base_uri": "https://localhost:8080/",
     "height": 80
    },
    "id": "2NjekXgkedNB",
    "outputId": "da85b2ec-c0de-459c-c0dd-7ba3519419fa",
    "scrolled": true,
    "tags": []
   },
   "outputs": [
    {
     "data": {
      "application/vnd.jupyter.widget-view+json": {
       "model_id": "a800a4eff0ef4fbaabe6522824c368c7",
       "version_major": 2,
       "version_minor": 0
      },
      "text/plain": [
       "Tab(children=(VBox(children=(Wrapper(), Hud())), HBox(children=(Output(),), layout=Layout(height='500px', over…"
      ]
     },
     "metadata": {},
     "output_type": "display_data"
    },
    {
     "ename": "KeyboardInterrupt",
     "evalue": "",
     "output_type": "error",
     "traceback": [
      "\u001b[0;31m---------------------------------------------------------------------------\u001b[0m",
      "\u001b[0;31mKeyboardInterrupt\u001b[0m                         Traceback (most recent call last)",
      "\u001b[0;32m/tmp/slurmtmp.5715224/ipykernel_51621/801679965.py\u001b[0m in \u001b[0;36m<module>\u001b[0;34m\u001b[0m\n\u001b[1;32m    127\u001b[0m     \u001b[0;32mfor\u001b[0m \u001b[0m_\u001b[0m \u001b[0;32min\u001b[0m \u001b[0mrange\u001b[0m\u001b[0;34m(\u001b[0m\u001b[0mconfig\u001b[0m\u001b[0;34m.\u001b[0m\u001b[0mdiscriminator\u001b[0m\u001b[0;34m.\u001b[0m\u001b[0mrepeat\u001b[0m\u001b[0;34m)\u001b[0m\u001b[0;34m:\u001b[0m\u001b[0;34m\u001b[0m\u001b[0;34m\u001b[0m\u001b[0m\n\u001b[1;32m    128\u001b[0m         \u001b[0;32mfor\u001b[0m \u001b[0mbatch\u001b[0m \u001b[0;32min\u001b[0m \u001b[0mtrain_loader\u001b[0m\u001b[0;34m:\u001b[0m\u001b[0;34m\u001b[0m\u001b[0;34m\u001b[0m\u001b[0m\n\u001b[0;32m--> 129\u001b[0;31m             \u001b[0mtrain_dis\u001b[0m\u001b[0;34m(\u001b[0m\u001b[0mbatch\u001b[0m\u001b[0;34m,\u001b[0m \u001b[0mepoch\u001b[0m\u001b[0;34m)\u001b[0m\u001b[0;34m\u001b[0m\u001b[0;34m\u001b[0m\u001b[0m\n\u001b[0m\u001b[1;32m    130\u001b[0m             \u001b[0;32mif\u001b[0m \u001b[0mconfig\u001b[0m\u001b[0;34m.\u001b[0m\u001b[0malternate\u001b[0m \u001b[0;34m==\u001b[0m \u001b[0;34m'iteration'\u001b[0m\u001b[0;34m:\u001b[0m\u001b[0;34m\u001b[0m\u001b[0;34m\u001b[0m\u001b[0m\n\u001b[1;32m    131\u001b[0m                 \u001b[0mtrain_gen\u001b[0m\u001b[0;34m(\u001b[0m\u001b[0mbatch\u001b[0m\u001b[0;34m,\u001b[0m \u001b[0mepoch\u001b[0m\u001b[0;34m)\u001b[0m\u001b[0;34m\u001b[0m\u001b[0;34m\u001b[0m\u001b[0m\n",
      "\u001b[0;32m/tmp/slurmtmp.5715224/ipykernel_51621/801679965.py\u001b[0m in \u001b[0;36mtrain_dis\u001b[0;34m(batch, epoch)\u001b[0m\n\u001b[1;32m      2\u001b[0m     \u001b[0mgenerator\u001b[0m\u001b[0;34m.\u001b[0m\u001b[0mrequires_grad_\u001b[0m\u001b[0;34m(\u001b[0m\u001b[0;32mFalse\u001b[0m\u001b[0;34m)\u001b[0m\u001b[0;34m\u001b[0m\u001b[0;34m\u001b[0m\u001b[0m\n\u001b[1;32m      3\u001b[0m     \u001b[0mdiscriminator\u001b[0m\u001b[0;34m.\u001b[0m\u001b[0mzero_grad\u001b[0m\u001b[0;34m(\u001b[0m\u001b[0;34m)\u001b[0m\u001b[0;34m\u001b[0m\u001b[0;34m\u001b[0m\u001b[0m\n\u001b[0;32m----> 4\u001b[0;31m     \u001b[0mgenerator_output\u001b[0m \u001b[0;34m=\u001b[0m \u001b[0mgenerator\u001b[0m\u001b[0;34m(\u001b[0m\u001b[0mbatch\u001b[0m\u001b[0;34m)\u001b[0m\u001b[0;34m\u001b[0m\u001b[0;34m\u001b[0m\u001b[0m\n\u001b[0m\u001b[1;32m      5\u001b[0m     \u001b[0;32mif\u001b[0m \u001b[0mconfig\u001b[0m\u001b[0;34m.\u001b[0m\u001b[0mdiscriminator\u001b[0m\u001b[0;34m.\u001b[0m\u001b[0mnoise\u001b[0m\u001b[0;34m.\u001b[0m\u001b[0mstd\u001b[0m \u001b[0;34m>\u001b[0m \u001b[0;36m0\u001b[0m\u001b[0;34m:\u001b[0m\u001b[0;34m\u001b[0m\u001b[0;34m\u001b[0m\u001b[0m\n\u001b[1;32m      6\u001b[0m         \u001b[0mgenerator_output\u001b[0m \u001b[0;34m=\u001b[0m \u001b[0mgenerator_output\u001b[0m \u001b[0;34m+\u001b[0m \u001b[0mtorch\u001b[0m\u001b[0;34m.\u001b[0m\u001b[0mrandn_like\u001b[0m\u001b[0;34m(\u001b[0m\u001b[0mgenerator_output\u001b[0m\u001b[0;34m)\u001b[0m \u001b[0;34m*\u001b[0m \u001b[0mconfig\u001b[0m\u001b[0;34m.\u001b[0m\u001b[0mdiscriminator\u001b[0m\u001b[0;34m.\u001b[0m\u001b[0mnoise\u001b[0m\u001b[0;34m.\u001b[0m\u001b[0mstd\u001b[0m \u001b[0;34m*\u001b[0m \u001b[0mconfig\u001b[0m\u001b[0;34m.\u001b[0m\u001b[0mdiscriminator\u001b[0m\u001b[0;34m.\u001b[0m\u001b[0mnoise\u001b[0m\u001b[0;34m.\u001b[0m\u001b[0mdecay\u001b[0m \u001b[0;34m**\u001b[0m \u001b[0mepoch\u001b[0m\u001b[0;34m\u001b[0m\u001b[0;34m\u001b[0m\u001b[0m\n",
      "\u001b[0;32m~/.conda/envs/deepgd/lib/python3.9/site-packages/torch/nn/modules/module.py\u001b[0m in \u001b[0;36m_call_impl\u001b[0;34m(self, *input, **kwargs)\u001b[0m\n\u001b[1;32m   1049\u001b[0m         if not (self._backward_hooks or self._forward_hooks or self._forward_pre_hooks or _global_backward_hooks\n\u001b[1;32m   1050\u001b[0m                 or _global_forward_hooks or _global_forward_pre_hooks):\n\u001b[0;32m-> 1051\u001b[0;31m             \u001b[0;32mreturn\u001b[0m \u001b[0mforward_call\u001b[0m\u001b[0;34m(\u001b[0m\u001b[0;34m*\u001b[0m\u001b[0minput\u001b[0m\u001b[0;34m,\u001b[0m \u001b[0;34m**\u001b[0m\u001b[0mkwargs\u001b[0m\u001b[0;34m)\u001b[0m\u001b[0;34m\u001b[0m\u001b[0;34m\u001b[0m\u001b[0m\n\u001b[0m\u001b[1;32m   1052\u001b[0m         \u001b[0;31m# Do not call functions when jit is used\u001b[0m\u001b[0;34m\u001b[0m\u001b[0;34m\u001b[0m\u001b[0m\n\u001b[1;32m   1053\u001b[0m         \u001b[0mfull_backward_hooks\u001b[0m\u001b[0;34m,\u001b[0m \u001b[0mnon_full_backward_hooks\u001b[0m \u001b[0;34m=\u001b[0m \u001b[0;34m[\u001b[0m\u001b[0;34m]\u001b[0m\u001b[0;34m,\u001b[0m \u001b[0;34m[\u001b[0m\u001b[0;34m]\u001b[0m\u001b[0;34m\u001b[0m\u001b[0;34m\u001b[0m\u001b[0m\n",
      "\u001b[0;32m~/deepgd/deepgd/modules.py\u001b[0m in \u001b[0;36mforward\u001b[0;34m(self, data, weights, output_hidden, numpy)\u001b[0m\n\u001b[1;32m    619\u001b[0m         \u001b[0mv\u001b[0m \u001b[0;34m=\u001b[0m \u001b[0mdata\u001b[0m\u001b[0;34m.\u001b[0m\u001b[0mpos\u001b[0m \u001b[0;32mif\u001b[0m \u001b[0mdata\u001b[0m\u001b[0;34m.\u001b[0m\u001b[0mpos\u001b[0m \u001b[0;32mis\u001b[0m \u001b[0;32mnot\u001b[0m \u001b[0;32mNone\u001b[0m \u001b[0;32melse\u001b[0m \u001b[0mgenerate_rand_pos\u001b[0m\u001b[0;34m(\u001b[0m\u001b[0mlen\u001b[0m\u001b[0;34m(\u001b[0m\u001b[0mdata\u001b[0m\u001b[0;34m.\u001b[0m\u001b[0mx\u001b[0m\u001b[0;34m)\u001b[0m\u001b[0;34m)\u001b[0m\u001b[0;34m.\u001b[0m\u001b[0mto\u001b[0m\u001b[0;34m(\u001b[0m\u001b[0mdata\u001b[0m\u001b[0;34m.\u001b[0m\u001b[0mx\u001b[0m\u001b[0;34m.\u001b[0m\u001b[0mdevice\u001b[0m\u001b[0;34m)\u001b[0m\u001b[0;34m\u001b[0m\u001b[0;34m\u001b[0m\u001b[0m\n\u001b[1;32m    620\u001b[0m         \u001b[0;32mif\u001b[0m \u001b[0mself\u001b[0m\u001b[0;34m.\u001b[0m\u001b[0mnormalize\u001b[0m \u001b[0;32mis\u001b[0m \u001b[0;32mnot\u001b[0m \u001b[0;32mNone\u001b[0m\u001b[0;34m:\u001b[0m\u001b[0;34m\u001b[0m\u001b[0;34m\u001b[0m\u001b[0m\n\u001b[0;32m--> 621\u001b[0;31m             \u001b[0mv\u001b[0m \u001b[0;34m=\u001b[0m \u001b[0mself\u001b[0m\u001b[0;34m.\u001b[0m\u001b[0mnormalize\u001b[0m\u001b[0;34m(\u001b[0m\u001b[0mv\u001b[0m\u001b[0;34m,\u001b[0m \u001b[0mdata\u001b[0m\u001b[0;34m)\u001b[0m\u001b[0;34m\u001b[0m\u001b[0;34m\u001b[0m\u001b[0m\n\u001b[0m\u001b[1;32m    622\u001b[0m \u001b[0;34m\u001b[0m\u001b[0m\n\u001b[1;32m    623\u001b[0m         \u001b[0mhidden\u001b[0m \u001b[0;34m=\u001b[0m \u001b[0;34m[\u001b[0m\u001b[0;34m]\u001b[0m\u001b[0;34m\u001b[0m\u001b[0;34m\u001b[0m\u001b[0m\n",
      "\u001b[0;32m~/.conda/envs/deepgd/lib/python3.9/site-packages/torch/nn/modules/module.py\u001b[0m in \u001b[0;36m_call_impl\u001b[0;34m(self, *input, **kwargs)\u001b[0m\n\u001b[1;32m   1049\u001b[0m         if not (self._backward_hooks or self._forward_hooks or self._forward_pre_hooks or _global_backward_hooks\n\u001b[1;32m   1050\u001b[0m                 or _global_forward_hooks or _global_forward_pre_hooks):\n\u001b[0;32m-> 1051\u001b[0;31m             \u001b[0;32mreturn\u001b[0m \u001b[0mforward_call\u001b[0m\u001b[0;34m(\u001b[0m\u001b[0;34m*\u001b[0m\u001b[0minput\u001b[0m\u001b[0;34m,\u001b[0m \u001b[0;34m**\u001b[0m\u001b[0mkwargs\u001b[0m\u001b[0;34m)\u001b[0m\u001b[0;34m\u001b[0m\u001b[0;34m\u001b[0m\u001b[0m\n\u001b[0m\u001b[1;32m   1052\u001b[0m         \u001b[0;31m# Do not call functions when jit is used\u001b[0m\u001b[0;34m\u001b[0m\u001b[0;34m\u001b[0m\u001b[0m\n\u001b[1;32m   1053\u001b[0m         \u001b[0mfull_backward_hooks\u001b[0m\u001b[0;34m,\u001b[0m \u001b[0mnon_full_backward_hooks\u001b[0m \u001b[0;34m=\u001b[0m \u001b[0;34m[\u001b[0m\u001b[0;34m]\u001b[0m\u001b[0;34m,\u001b[0m \u001b[0;34m[\u001b[0m\u001b[0;34m]\u001b[0m\u001b[0;34m\u001b[0m\u001b[0;34m\u001b[0m\u001b[0m\n",
      "\u001b[0;32m~/deepgd/deepgd/transform.py\u001b[0m in \u001b[0;36mforward\u001b[0;34m(self, pos, data)\u001b[0m\n\u001b[1;32m    152\u001b[0m         \u001b[0mpos\u001b[0m \u001b[0;34m=\u001b[0m \u001b[0mself\u001b[0m\u001b[0;34m.\u001b[0m\u001b[0mtranslate\u001b[0m\u001b[0;34m(\u001b[0m\u001b[0mpos\u001b[0m\u001b[0;34m,\u001b[0m \u001b[0mbatch\u001b[0m\u001b[0;34m)\u001b[0m\u001b[0;34m\u001b[0m\u001b[0;34m\u001b[0m\u001b[0m\n\u001b[1;32m    153\u001b[0m         \u001b[0mpos\u001b[0m \u001b[0;34m=\u001b[0m \u001b[0mself\u001b[0m\u001b[0;34m.\u001b[0m\u001b[0mrotate\u001b[0m\u001b[0;34m(\u001b[0m\u001b[0mpos\u001b[0m\u001b[0;34m,\u001b[0m \u001b[0mbatch\u001b[0m\u001b[0;34m)\u001b[0m\u001b[0;34m\u001b[0m\u001b[0;34m\u001b[0m\u001b[0m\n\u001b[0;32m--> 154\u001b[0;31m         \u001b[0mpos\u001b[0m \u001b[0;34m=\u001b[0m \u001b[0mself\u001b[0m\u001b[0;34m.\u001b[0m\u001b[0mnormalize\u001b[0m\u001b[0;34m(\u001b[0m\u001b[0mpos\u001b[0m\u001b[0;34m,\u001b[0m \u001b[0mbatch\u001b[0m\u001b[0;34m)\u001b[0m\u001b[0;34m\u001b[0m\u001b[0;34m\u001b[0m\u001b[0m\n\u001b[0m\u001b[1;32m    155\u001b[0m         \u001b[0mpos\u001b[0m \u001b[0;34m=\u001b[0m \u001b[0mself\u001b[0m\u001b[0;34m.\u001b[0m\u001b[0mscale\u001b[0m\u001b[0;34m(\u001b[0m\u001b[0mpos\u001b[0m\u001b[0;34m,\u001b[0m \u001b[0mbatch\u001b[0m\u001b[0;34m)\u001b[0m\u001b[0;34m\u001b[0m\u001b[0;34m\u001b[0m\u001b[0m\n\u001b[1;32m    156\u001b[0m         \u001b[0;32mreturn\u001b[0m \u001b[0mpos\u001b[0m\u001b[0;34m\u001b[0m\u001b[0;34m\u001b[0m\u001b[0m\n",
      "\u001b[0;32m~/.conda/envs/deepgd/lib/python3.9/site-packages/torch/nn/modules/module.py\u001b[0m in \u001b[0;36m_call_impl\u001b[0;34m(self, *input, **kwargs)\u001b[0m\n\u001b[1;32m   1049\u001b[0m         if not (self._backward_hooks or self._forward_hooks or self._forward_pre_hooks or _global_backward_hooks\n\u001b[1;32m   1050\u001b[0m                 or _global_forward_hooks or _global_forward_pre_hooks):\n\u001b[0;32m-> 1051\u001b[0;31m             \u001b[0;32mreturn\u001b[0m \u001b[0mforward_call\u001b[0m\u001b[0;34m(\u001b[0m\u001b[0;34m*\u001b[0m\u001b[0minput\u001b[0m\u001b[0;34m,\u001b[0m \u001b[0;34m**\u001b[0m\u001b[0mkwargs\u001b[0m\u001b[0;34m)\u001b[0m\u001b[0;34m\u001b[0m\u001b[0;34m\u001b[0m\u001b[0m\n\u001b[0m\u001b[1;32m   1052\u001b[0m         \u001b[0;31m# Do not call functions when jit is used\u001b[0m\u001b[0;34m\u001b[0m\u001b[0;34m\u001b[0m\u001b[0m\n\u001b[1;32m   1053\u001b[0m         \u001b[0mfull_backward_hooks\u001b[0m\u001b[0;34m,\u001b[0m \u001b[0mnon_full_backward_hooks\u001b[0m \u001b[0;34m=\u001b[0m \u001b[0;34m[\u001b[0m\u001b[0;34m]\u001b[0m\u001b[0;34m,\u001b[0m \u001b[0;34m[\u001b[0m\u001b[0;34m]\u001b[0m\u001b[0;34m\u001b[0m\u001b[0;34m\u001b[0m\u001b[0m\n",
      "\u001b[0;32m~/deepgd/deepgd/transform.py\u001b[0m in \u001b[0;36mforward\u001b[0;34m(self, pos, data)\u001b[0m\n\u001b[1;32m     89\u001b[0m     \u001b[0;32mdef\u001b[0m \u001b[0mforward\u001b[0m\u001b[0;34m(\u001b[0m\u001b[0mself\u001b[0m\u001b[0;34m,\u001b[0m \u001b[0mpos\u001b[0m\u001b[0;34m,\u001b[0m \u001b[0mdata\u001b[0m\u001b[0;34m)\u001b[0m\u001b[0;34m:\u001b[0m\u001b[0;34m\u001b[0m\u001b[0;34m\u001b[0m\u001b[0m\n\u001b[1;32m     90\u001b[0m         \u001b[0mbatch\u001b[0m \u001b[0;34m=\u001b[0m \u001b[0mmake_batch\u001b[0m\u001b[0;34m(\u001b[0m\u001b[0mdata\u001b[0m\u001b[0;34m)\u001b[0m\u001b[0;34m\u001b[0m\u001b[0;34m\u001b[0m\u001b[0m\n\u001b[0;32m---> 91\u001b[0;31m         \u001b[0mcenter\u001b[0m \u001b[0;34m=\u001b[0m \u001b[0mtorch_scatter\u001b[0m\u001b[0;34m.\u001b[0m\u001b[0mscatter\u001b[0m\u001b[0;34m(\u001b[0m\u001b[0mpos\u001b[0m\u001b[0;34m,\u001b[0m \u001b[0mbatch\u001b[0m\u001b[0;34m.\u001b[0m\u001b[0mbatch\u001b[0m\u001b[0;34m,\u001b[0m \u001b[0mdim\u001b[0m\u001b[0;34m=\u001b[0m\u001b[0;36m0\u001b[0m\u001b[0;34m,\u001b[0m \u001b[0mreduce\u001b[0m\u001b[0;34m=\u001b[0m\u001b[0;34m'mean'\u001b[0m\u001b[0;34m)\u001b[0m\u001b[0;34m\u001b[0m\u001b[0;34m\u001b[0m\u001b[0m\n\u001b[0m\u001b[1;32m     92\u001b[0m         \u001b[0mcentered_pos\u001b[0m \u001b[0;34m=\u001b[0m \u001b[0mpos\u001b[0m \u001b[0;34m-\u001b[0m \u001b[0mcenter\u001b[0m\u001b[0;34m[\u001b[0m\u001b[0mbatch\u001b[0m\u001b[0;34m.\u001b[0m\u001b[0mbatch\u001b[0m\u001b[0;34m]\u001b[0m\u001b[0;34m\u001b[0m\u001b[0;34m\u001b[0m\u001b[0m\n\u001b[1;32m     93\u001b[0m         \u001b[0msquare\u001b[0m \u001b[0;34m=\u001b[0m \u001b[0mcentered_pos\u001b[0m\u001b[0;34m.\u001b[0m\u001b[0msquare\u001b[0m\u001b[0;34m(\u001b[0m\u001b[0;34m)\u001b[0m\u001b[0;34m\u001b[0m\u001b[0;34m\u001b[0m\u001b[0m\n",
      "\u001b[0;32m~/.conda/envs/deepgd/lib/python3.9/site-packages/torch_scatter/scatter.py\u001b[0m in \u001b[0;36mscatter\u001b[0;34m(src, index, dim, out, dim_size, reduce)\u001b[0m\n\u001b[1;32m    155\u001b[0m         \u001b[0;32mreturn\u001b[0m \u001b[0mscatter_mul\u001b[0m\u001b[0;34m(\u001b[0m\u001b[0msrc\u001b[0m\u001b[0;34m,\u001b[0m \u001b[0mindex\u001b[0m\u001b[0;34m,\u001b[0m \u001b[0mdim\u001b[0m\u001b[0;34m,\u001b[0m \u001b[0mout\u001b[0m\u001b[0;34m,\u001b[0m \u001b[0mdim_size\u001b[0m\u001b[0;34m)\u001b[0m\u001b[0;34m\u001b[0m\u001b[0;34m\u001b[0m\u001b[0m\n\u001b[1;32m    156\u001b[0m     \u001b[0;32melif\u001b[0m \u001b[0mreduce\u001b[0m \u001b[0;34m==\u001b[0m \u001b[0;34m'mean'\u001b[0m\u001b[0;34m:\u001b[0m\u001b[0;34m\u001b[0m\u001b[0;34m\u001b[0m\u001b[0m\n\u001b[0;32m--> 157\u001b[0;31m         \u001b[0;32mreturn\u001b[0m \u001b[0mscatter_mean\u001b[0m\u001b[0;34m(\u001b[0m\u001b[0msrc\u001b[0m\u001b[0;34m,\u001b[0m \u001b[0mindex\u001b[0m\u001b[0;34m,\u001b[0m \u001b[0mdim\u001b[0m\u001b[0;34m,\u001b[0m \u001b[0mout\u001b[0m\u001b[0;34m,\u001b[0m \u001b[0mdim_size\u001b[0m\u001b[0;34m)\u001b[0m\u001b[0;34m\u001b[0m\u001b[0;34m\u001b[0m\u001b[0m\n\u001b[0m\u001b[1;32m    158\u001b[0m     \u001b[0;32melif\u001b[0m \u001b[0mreduce\u001b[0m \u001b[0;34m==\u001b[0m \u001b[0;34m'min'\u001b[0m\u001b[0;34m:\u001b[0m\u001b[0;34m\u001b[0m\u001b[0;34m\u001b[0m\u001b[0m\n\u001b[1;32m    159\u001b[0m         \u001b[0;32mreturn\u001b[0m \u001b[0mscatter_min\u001b[0m\u001b[0;34m(\u001b[0m\u001b[0msrc\u001b[0m\u001b[0;34m,\u001b[0m \u001b[0mindex\u001b[0m\u001b[0;34m,\u001b[0m \u001b[0mdim\u001b[0m\u001b[0;34m,\u001b[0m \u001b[0mout\u001b[0m\u001b[0;34m,\u001b[0m \u001b[0mdim_size\u001b[0m\u001b[0;34m)\u001b[0m\u001b[0;34m[\u001b[0m\u001b[0;36m0\u001b[0m\u001b[0;34m]\u001b[0m\u001b[0;34m\u001b[0m\u001b[0;34m\u001b[0m\u001b[0m\n",
      "\u001b[0;32m~/.conda/envs/deepgd/lib/python3.9/site-packages/torch_scatter/scatter.py\u001b[0m in \u001b[0;36mscatter_mean\u001b[0;34m(src, index, dim, out, dim_size)\u001b[0m\n\u001b[1;32m     50\u001b[0m \u001b[0;34m\u001b[0m\u001b[0m\n\u001b[1;32m     51\u001b[0m     \u001b[0mones\u001b[0m \u001b[0;34m=\u001b[0m \u001b[0mtorch\u001b[0m\u001b[0;34m.\u001b[0m\u001b[0mones\u001b[0m\u001b[0;34m(\u001b[0m\u001b[0mindex\u001b[0m\u001b[0;34m.\u001b[0m\u001b[0msize\u001b[0m\u001b[0;34m(\u001b[0m\u001b[0;34m)\u001b[0m\u001b[0;34m,\u001b[0m \u001b[0mdtype\u001b[0m\u001b[0;34m=\u001b[0m\u001b[0msrc\u001b[0m\u001b[0;34m.\u001b[0m\u001b[0mdtype\u001b[0m\u001b[0;34m,\u001b[0m \u001b[0mdevice\u001b[0m\u001b[0;34m=\u001b[0m\u001b[0msrc\u001b[0m\u001b[0;34m.\u001b[0m\u001b[0mdevice\u001b[0m\u001b[0;34m)\u001b[0m\u001b[0;34m\u001b[0m\u001b[0;34m\u001b[0m\u001b[0m\n\u001b[0;32m---> 52\u001b[0;31m     \u001b[0mcount\u001b[0m \u001b[0;34m=\u001b[0m \u001b[0mscatter_sum\u001b[0m\u001b[0;34m(\u001b[0m\u001b[0mones\u001b[0m\u001b[0;34m,\u001b[0m \u001b[0mindex\u001b[0m\u001b[0;34m,\u001b[0m \u001b[0mindex_dim\u001b[0m\u001b[0;34m,\u001b[0m \u001b[0;32mNone\u001b[0m\u001b[0;34m,\u001b[0m \u001b[0mdim_size\u001b[0m\u001b[0;34m)\u001b[0m\u001b[0;34m\u001b[0m\u001b[0;34m\u001b[0m\u001b[0m\n\u001b[0m\u001b[1;32m     53\u001b[0m     \u001b[0mcount\u001b[0m\u001b[0;34m[\u001b[0m\u001b[0mcount\u001b[0m \u001b[0;34m<\u001b[0m \u001b[0;36m1\u001b[0m\u001b[0;34m]\u001b[0m \u001b[0;34m=\u001b[0m \u001b[0;36m1\u001b[0m\u001b[0;34m\u001b[0m\u001b[0;34m\u001b[0m\u001b[0m\n\u001b[1;32m     54\u001b[0m     \u001b[0mcount\u001b[0m \u001b[0;34m=\u001b[0m \u001b[0mbroadcast\u001b[0m\u001b[0;34m(\u001b[0m\u001b[0mcount\u001b[0m\u001b[0;34m,\u001b[0m \u001b[0mout\u001b[0m\u001b[0;34m,\u001b[0m \u001b[0mdim\u001b[0m\u001b[0;34m)\u001b[0m\u001b[0;34m\u001b[0m\u001b[0;34m\u001b[0m\u001b[0m\n",
      "\u001b[0;32m~/.conda/envs/deepgd/lib/python3.9/site-packages/torch_scatter/scatter.py\u001b[0m in \u001b[0;36mscatter_sum\u001b[0;34m(src, index, dim, out, dim_size)\u001b[0m\n\u001b[1;32m     19\u001b[0m             \u001b[0msize\u001b[0m\u001b[0;34m[\u001b[0m\u001b[0mdim\u001b[0m\u001b[0;34m]\u001b[0m \u001b[0;34m=\u001b[0m \u001b[0mint\u001b[0m\u001b[0;34m(\u001b[0m\u001b[0mindex\u001b[0m\u001b[0;34m.\u001b[0m\u001b[0mmax\u001b[0m\u001b[0;34m(\u001b[0m\u001b[0;34m)\u001b[0m\u001b[0;34m)\u001b[0m \u001b[0;34m+\u001b[0m \u001b[0;36m1\u001b[0m\u001b[0;34m\u001b[0m\u001b[0;34m\u001b[0m\u001b[0m\n\u001b[1;32m     20\u001b[0m         \u001b[0mout\u001b[0m \u001b[0;34m=\u001b[0m \u001b[0mtorch\u001b[0m\u001b[0;34m.\u001b[0m\u001b[0mzeros\u001b[0m\u001b[0;34m(\u001b[0m\u001b[0msize\u001b[0m\u001b[0;34m,\u001b[0m \u001b[0mdtype\u001b[0m\u001b[0;34m=\u001b[0m\u001b[0msrc\u001b[0m\u001b[0;34m.\u001b[0m\u001b[0mdtype\u001b[0m\u001b[0;34m,\u001b[0m \u001b[0mdevice\u001b[0m\u001b[0;34m=\u001b[0m\u001b[0msrc\u001b[0m\u001b[0;34m.\u001b[0m\u001b[0mdevice\u001b[0m\u001b[0;34m)\u001b[0m\u001b[0;34m\u001b[0m\u001b[0;34m\u001b[0m\u001b[0m\n\u001b[0;32m---> 21\u001b[0;31m         \u001b[0;32mreturn\u001b[0m \u001b[0mout\u001b[0m\u001b[0;34m.\u001b[0m\u001b[0mscatter_add_\u001b[0m\u001b[0;34m(\u001b[0m\u001b[0mdim\u001b[0m\u001b[0;34m,\u001b[0m \u001b[0mindex\u001b[0m\u001b[0;34m,\u001b[0m \u001b[0msrc\u001b[0m\u001b[0;34m)\u001b[0m\u001b[0;34m\u001b[0m\u001b[0;34m\u001b[0m\u001b[0m\n\u001b[0m\u001b[1;32m     22\u001b[0m     \u001b[0;32melse\u001b[0m\u001b[0;34m:\u001b[0m\u001b[0;34m\u001b[0m\u001b[0;34m\u001b[0m\u001b[0m\n\u001b[1;32m     23\u001b[0m         \u001b[0;32mreturn\u001b[0m \u001b[0mout\u001b[0m\u001b[0;34m.\u001b[0m\u001b[0mscatter_add_\u001b[0m\u001b[0;34m(\u001b[0m\u001b[0mdim\u001b[0m\u001b[0;34m,\u001b[0m \u001b[0mindex\u001b[0m\u001b[0;34m,\u001b[0m \u001b[0msrc\u001b[0m\u001b[0;34m)\u001b[0m\u001b[0;34m\u001b[0m\u001b[0;34m\u001b[0m\u001b[0m\n",
      "\u001b[0;31mKeyboardInterrupt\u001b[0m: "
     ]
    }
   ],
   "source": [
    "def train_dis(batch, epoch):\n",
    "    generator.requires_grad_(False)\n",
    "    discriminator.zero_grad()\n",
    "    generator_output = generator(batch)\n",
    "    if config.discriminator.noise.std > 0:\n",
    "        generator_output = generator_output + torch.randn_like(generator_output) * config.discriminator.noise.std * config.discriminator.noise.decay ** epoch\n",
    "    discriminator_loss = get_gan_loss(batch, generator_output, mode='discriminator')\n",
    "    \n",
    "    # train discriminator\n",
    "    discriminator_loss.backward()\n",
    "    discriminator_optimizer.step()\n",
    "\n",
    "    # gradient penalty\n",
    "    if config.gp_weight > 0:\n",
    "        discriminator.zero_grad()\n",
    "        gp_loss = get_gp_loss(batch, generator_output, config.gp_weight)\n",
    "        gp_loss.backward()\n",
    "        discriminator_optimizer.step()\n",
    "\n",
    "    hud['dis_loss'] = format(discriminator_loss.item(), '.2e')\n",
    "    pbar().update()\n",
    "\n",
    "def train_gen(batch, epoch):\n",
    "    generator.requires_grad_(True)\n",
    "    generator.zero_grad()\n",
    "    discriminator.zero_grad()\n",
    "    generator_output = generator(batch)\n",
    "    if config.discriminator.noise.std > 0:\n",
    "        generator_output = generator_output + torch.randn_like(generator_output) * config.discriminator.noise.std * config.discriminator.noise.decay ** epoch\n",
    "    generator_loss = get_gan_loss(batch, generator_output, mode='generator') \n",
    "    \n",
    "    #train generator\n",
    "    generator_loss.backward()\n",
    "    generator_optimizer.step()\n",
    "\n",
    "    with torch.no_grad():\n",
    "        dis_batch = dis_convert(batch, generator_output)\n",
    "        stress = stress_criterion(dis_batch).mean()\n",
    "        critic = discriminator(dis_batch).mean()\n",
    "    hud.append({'gen_loss': format(generator_loss.item(), '.2e'),\n",
    "                'stress': format(stress.item(), '.2e'),\n",
    "                'critic': format(critic.item(), '.2e')})\n",
    "    pbar().update()\n",
    "\n",
    "def cuda_memsafe_map(fn, *iterables, summary=False):\n",
    "    total, failed = 0, 0\n",
    "    iterator = zip(*iterables)\n",
    "    items = None\n",
    "    while True:\n",
    "        try:\n",
    "            items = next(iterator)\n",
    "            yield fn(*items)\n",
    "        except StopIteration:\n",
    "            if summary:\n",
    "                print(f'Iteration finished. {failed} out of {total} failed!')\n",
    "            break\n",
    "        except RuntimeError:\n",
    "            print('CUDA memory overflow! Skip batch...')\n",
    "            del items\n",
    "            failed += 1\n",
    "        torch.cuda.empty_cache()\n",
    "        total += 1\n",
    "    \n",
    "def validate(model, data_loader, criterion=val_criterion):\n",
    "    def val_one_batch(batch):\n",
    "        batch = preprocess_batch(model, batch)\n",
    "        pred = CanonicalizationByStress()(model(batch), batch)\n",
    "        gt = CanonicalizationByStress()(batch.gt_pos, batch)\n",
    "        loss = criterion(pred, batch)\n",
    "        gt_loss = criterion(gt, batch)\n",
    "        spc = (loss - gt_loss) / torch.maximum(torch.maximum(loss, gt_loss), torch.ones_like(loss)*1e-5)\n",
    "        return loss.mean().item(), spc.mean().item()\n",
    "    loss_all, spc_all = zip(*cuda_memsafe_map(val_one_batch, data_loader))\n",
    "    return np.mean(loss_all), np.mean(spc_all)\n",
    "\n",
    "def log(msg):\n",
    "    msg = f\"[{epoch:03}] {msg}\"\n",
    "    print(msg, file=open(paths.log(), \"a\"))\n",
    "    with log_out: \n",
    "        print(msg)\n",
    "\n",
    "print(f\"{'='*10} {config.link} {'='*10}\", file=open(paths.log(), \"a\"))\n",
    "hud = Hud()\n",
    "pbar = Wrapper(tqdm, total=len(train_loader)*2, smoothing=0)\n",
    "plot_out = Output()\n",
    "log_out = Output()\n",
    "tabs = {\"status\": VBox([pbar, hud]), \n",
    "        \"plot\": HBox([plot_out], layout=Layout(height='500px', overflow_y='auto')),\n",
    "        \"log\": HBox([log_out], layout=Layout(height='500px', overflow_y='auto'))}\n",
    "tab_bar = Tab(children=list(tabs.values()))\n",
    "[tab_bar.set_title(i, name) for i, name in enumerate(tabs)]\n",
    "display(tab_bar)\n",
    "while True:\n",
    "    if epoch % config.log_interval == 0:\n",
    "        torch.save(generator.state_dict(), f\"{paths.checkpoints()}/gen_epoch_{epoch}.pt\")\n",
    "        torch.save(generator_optimizer.state_dict(), f\"{paths.checkpoints()}/gen_optim_epoch_{epoch}.pt\")\n",
    "        torch.save(discriminator.state_dict(), f\"{paths.checkpoints()}/dis_epoch_{epoch}.pt\")\n",
    "        torch.save(discriminator_optimizer.state_dict(), f\"{paths.checkpoints()}/dis_optim_epoch_{epoch}.pt\")\n",
    "        generator.eval()\n",
    "        with torch.no_grad():\n",
    "            val_stress, val_stress_spc = validate(model=generator, data_loader=val_loader)\n",
    "            val_xing, val_xing_spc = validate(model=generator, data_loader=val_loader, criterion=xing_criterion)\n",
    "            with plot_out:\n",
    "                fig = plt.figure()\n",
    "                graph_vis(G_list[11100], generator(make_batch(data_list[11100]).to(device)).cpu())\n",
    "                plt.show()\n",
    "        # tensorboard.add_scalars('loss', {'train': train_loss, \n",
    "        #                                  'validation': val_loss}, epoch)\n",
    "        # for i, fn in enumerate(loss_fns):\n",
    "        #     tensorboard.add_scalars(type(fn).__name__, {'train': train_loss_comp[i].item(), \n",
    "        #                                           'validation': val_loss_comp[i].item()}, epoch)\n",
    "        hud.append({\n",
    "            'val_stress': format(val_stress, '.2f'),\n",
    "            'val_stress_spc': format(val_stress_spc, '.2%'),\n",
    "            'val_xing': format(val_xing, '.2f'),\n",
    "            'val_xing_spc': format(val_xing_spc, '.2%'),\n",
    "        })\n",
    "        log(f\"stress={hud.data['val_stress']}({hud.data['val_stress_spc']}) xing={hud.data['val_xing']}({hud.data['val_xing_spc']})\")\n",
    "        \n",
    "    # handle.update(tab_bar)\n",
    "    pbar().reset()\n",
    "    pbar().set_description(desc=f\"[epoch {epoch}/{config.epoch.end}]\")\n",
    "    hud(title=f\"epoch {epoch}\")\n",
    "    generator.train()\n",
    "    discriminator.train()\n",
    "    # proper: proper layout\n",
    "    for _ in range(config.discriminator.repeat):\n",
    "        for batch in train_loader:\n",
    "            train_dis(batch, epoch)\n",
    "            if config.alternate == 'iteration':\n",
    "                train_gen(batch, epoch)\n",
    "\n",
    "    if config.alternate == 'epoch':\n",
    "        for batch in train_loader:\n",
    "            train_gen(batch, epoch)\n",
    "\n",
    "    discriminator_scheduler.step()\n",
    "    generator_scheduler.step()\n",
    "\n",
    "    if epoch == config.epoch.end:\n",
    "        break\n",
    "    epoch += 1"
   ]
  },
  {
   "cell_type": "markdown",
   "metadata": {
    "id": "0qYK_X_hrq9o"
   },
   "source": [
    "# Test"
   ]
  },
  {
   "cell_type": "code",
   "execution_count": 33,
   "metadata": {
    "colab": {
     "base_uri": "https://localhost:8080/"
    },
    "id": "XEvmAtNjWhcY",
    "outputId": "9f4c86a4-a4b0-48f1-cb58-ab3679173184"
   },
   "outputs": [
    {
     "name": "stdout",
     "output_type": "stream",
     "text": [
      "Loading from artifacts/checkpoints/GAN(gan=rgan,data=best(xing,stress),dis=deep,share=10,embed=6,gp=0,lr=1e-2,decay=.98)/gen_epoch_1151.pt...\n"
     ]
    },
    {
     "data": {
      "text/plain": [
       "<All keys matched successfully>"
      ]
     },
     "execution_count": 33,
     "metadata": {},
     "output_type": "execute_result"
    }
   ],
   "source": [
    "test_epoch = -1\n",
    "\n",
    "test_generator = Generator(**config.generator.params[...]).to(device)\n",
    "test_ckpt_epoch = get_ckpt_epoch(paths.checkpoints(), test_epoch)\n",
    "test_ckpt_file = f\"{paths.checkpoints()}/gen_epoch_{test_ckpt_epoch}.pt\"\n",
    "print(f\"Loading from {test_ckpt_file}...\")\n",
    "test_generator.load_state_dict(torch.load(test_ckpt_file, map_location=torch.device(device)))"
   ]
  },
  {
   "cell_type": "code",
   "execution_count": 34,
   "metadata": {
    "colab": {
     "background_save": true,
     "base_uri": "https://localhost:8080/",
     "height": 1000,
     "referenced_widgets": [
      "9b7d18992dbf4a84931f916fbaaa37d8",
      "2c664d7e1e6d474fb87094fc0da270d3",
      "d375f5f82a4645d7b29c541596dc1c7f",
      "ecfa311bb06b4f6fa504598263ff69d3",
      "d1859990877149eab2b414b4e2a0e0c7",
      "d2be6733734844bca3e1db9b49eb1c1e",
      "4d98072bdf674792a13d77e85dd285d1",
      "f7ed92c383d741a0a1cef2536ff2db13",
      "2ba110f835c64ec4b82974996aed10af",
      "09397ceac9014af0aebca848d4d96d48",
      "fd0709f48d6c4527bc00b5f407f3c1b9"
     ]
    },
    "id": "ZubmSTcYrq9o",
    "outputId": "fc2f65a2-2085-43ac-b110-cbfe742318a8",
    "scrolled": true,
    "tags": []
   },
   "outputs": [
    {
     "data": {
      "application/vnd.jupyter.widget-view+json": {
       "model_id": "d25df3e336f0445493bd892a3b45c3a3",
       "version_major": 2,
       "version_minor": 0
      },
      "text/plain": [
       "  0%|          | 0/1000 [00:00<?, ?it/s]"
      ]
     },
     "metadata": {},
     "output_type": "display_data"
    }
   ],
   "source": [
    "rotate = RotateByPrincipalComponents()\n",
    "def test_callback(*, idx, pred, metrics):\n",
    "    # graph_vis(G_list[idx], pred, file_name=f\"{paths.visualization()}/{idx}_{metrics['stress']:.2f}_{metrics['resolution_score']:.2f}.png\")\n",
    "    pred = rotate(torch.tensor(pred), data_list[idx])\n",
    "    graph_vis(G_list[idx], pred)\n",
    "    plt.title(f\"[pred] idx: {idx}, stress: {metrics['stress']:.2f}({metrics['stress_spc']:.2%}), xing: {metrics['xing']:.2f}({metrics['xing_spc']:.2%})\")\n",
    "    plt.show()\n",
    "    gt_pos = rotate(data_list[idx].gt_pos, data_list[idx])\n",
    "    graph_vis(G_list[idx], gt_pos, node_color='orange')\n",
    "    plt.title(f\"[gt] idx: {idx}, stress: {metrics['gt_stress']:.2f}, xing: {metrics['gt_xing']:.2f}\")\n",
    "    plt.show()\n",
    "    \n",
    "test_metrics = test(model=test_generator, \n",
    "                    criteria_list=[], \n",
    "                    dataset=data_list, \n",
    "                    idx_range=range(10000, 11000), \n",
    "#                     callback=test_callback,\n",
    "                    gt_pos=None)\n",
    "pickle.dump(test_metrics, open(paths.metrics(\"test\"), \"wb\"))"
   ]
  },
  {
   "cell_type": "code",
   "execution_count": 35,
   "metadata": {
    "colab": {
     "base_uri": "https://localhost:8080/",
     "height": 318
    },
    "id": "t2rFXIr_PsrJ",
    "outputId": "6a4205b1-4630-4de4-ec72-bdba3d3ea114"
   },
   "outputs": [
    {
     "name": "stdout",
     "output_type": "stream",
     "text": [
      "stress: tensor(352.1086)\n",
      "stress_spc: tensor(0.0726, dtype=torch.float64)\n",
      "xing: tensor(29.1920)\n",
      "xing_spc: tensor(0.2099, dtype=torch.float64)\n",
      "l1_angle: tensor(82.1702)\n",
      "l1_angle_spc: tensor(0.0647, dtype=torch.float64)\n",
      "edge: tensor(0.1649)\n",
      "edge_spc: tensor(0.1607, dtype=torch.float64)\n",
      "ring: tensor(265.5577)\n",
      "ring_spc: tensor(0.0193, dtype=torch.float64)\n",
      "tsne: tensor(0.2118)\n",
      "tsne_spc: tensor(0.1084, dtype=torch.float64)\n",
      "reso_score: tensor(0.5968)\n",
      "min_angle: tensor(5.4713)\n"
     ]
    },
    {
     "data": {
      "text/html": [
       "<style type=\"text/css\">\n",
       "</style>\n",
       "<table id=\"T_f2237_\">\n",
       "  <thead>\n",
       "    <tr>\n",
       "      <th class=\"blank level0\" >&nbsp;</th>\n",
       "      <th class=\"col_heading level0 col0\" >stress</th>\n",
       "      <th class=\"col_heading level0 col1\" >stress_spc</th>\n",
       "      <th class=\"col_heading level0 col2\" >xing</th>\n",
       "      <th class=\"col_heading level0 col3\" >xing_spc</th>\n",
       "      <th class=\"col_heading level0 col4\" >l1_angle</th>\n",
       "      <th class=\"col_heading level0 col5\" >l1_angle_spc</th>\n",
       "      <th class=\"col_heading level0 col6\" >edge</th>\n",
       "      <th class=\"col_heading level0 col7\" >edge_spc</th>\n",
       "      <th class=\"col_heading level0 col8\" >ring</th>\n",
       "      <th class=\"col_heading level0 col9\" >ring_spc</th>\n",
       "      <th class=\"col_heading level0 col10\" >tsne</th>\n",
       "      <th class=\"col_heading level0 col11\" >tsne_spc</th>\n",
       "      <th class=\"col_heading level0 col12\" >reso_score</th>\n",
       "      <th class=\"col_heading level0 col13\" >min_angle</th>\n",
       "    </tr>\n",
       "  </thead>\n",
       "  <tbody>\n",
       "    <tr>\n",
       "      <th id=\"T_f2237_level0_row0\" class=\"row_heading level0 row0\" >0</th>\n",
       "      <td id=\"T_f2237_row0_col0\" class=\"data row0 col0\" >352.11</td>\n",
       "      <td id=\"T_f2237_row0_col1\" class=\"data row0 col1\" >7.26%</td>\n",
       "      <td id=\"T_f2237_row0_col2\" class=\"data row0 col2\" >29.19</td>\n",
       "      <td id=\"T_f2237_row0_col3\" class=\"data row0 col3\" >20.99%</td>\n",
       "      <td id=\"T_f2237_row0_col4\" class=\"data row0 col4\" >82.17</td>\n",
       "      <td id=\"T_f2237_row0_col5\" class=\"data row0 col5\" >6.47%</td>\n",
       "      <td id=\"T_f2237_row0_col6\" class=\"data row0 col6\" >0.16</td>\n",
       "      <td id=\"T_f2237_row0_col7\" class=\"data row0 col7\" >16.07%</td>\n",
       "      <td id=\"T_f2237_row0_col8\" class=\"data row0 col8\" >265.56</td>\n",
       "      <td id=\"T_f2237_row0_col9\" class=\"data row0 col9\" >1.93%</td>\n",
       "      <td id=\"T_f2237_row0_col10\" class=\"data row0 col10\" >0.21</td>\n",
       "      <td id=\"T_f2237_row0_col11\" class=\"data row0 col11\" >10.84%</td>\n",
       "      <td id=\"T_f2237_row0_col12\" class=\"data row0 col12\" >0.60</td>\n",
       "      <td id=\"T_f2237_row0_col13\" class=\"data row0 col13\" >5.47</td>\n",
       "    </tr>\n",
       "  </tbody>\n",
       "</table>\n"
      ],
      "text/plain": [
       "<pandas.io.formats.style.Styler at 0x2b75f8c116d0>"
      ]
     },
     "execution_count": 35,
     "metadata": {},
     "output_type": "execute_result"
    }
   ],
   "source": [
    "metrics = test_metrics\n",
    "print('stress:', metrics['stress'].mean())\n",
    "print('stress_spc:', metrics['stress_spc'].mean())\n",
    "print('xing:', metrics['xing'].mean())\n",
    "print('xing_spc:', metrics['xing_spc'].mean())\n",
    "print('l1_angle:', metrics['l1_angle'].mean())\n",
    "print('l1_angle_spc:', metrics['l1_angle_spc'].mean())\n",
    "print('edge:', metrics['edge'].mean())\n",
    "print('edge_spc:', metrics['edge_spc'].mean())\n",
    "print('ring:', metrics['ring'].mean())\n",
    "print('ring_spc:', metrics['ring_spc'].mean())\n",
    "print('tsne:', metrics['tsne'].mean())\n",
    "print('tsne_spc:', metrics['tsne_spc'].mean())\n",
    "print('reso_score:', metrics['resolution_score'].mean())\n",
    "print('min_angle:', metrics['min_angle'].mean())\n",
    "columns = [\n",
    "    'stress',\n",
    "    'stress_spc',\n",
    "    'xing',\n",
    "    'xing_spc',\n",
    "    'l1_angle',\n",
    "    'l1_angle_spc',\n",
    "    'edge',\n",
    "    'edge_spc',\n",
    "    'ring',\n",
    "    'ring_spc',\n",
    "    'tsne',\n",
    "    'tsne_spc',\n",
    "    'reso_score',\n",
    "    'min_angle'\n",
    "]\n",
    "df = pd.DataFrame(map(lambda m: metrics[m].mean().item(), list(metrics.keys())[:-1])).set_axis(columns).T\n",
    "df.style.format({c: \"{:.2f}\" for c in columns if 'spc' not in c} | {c: \"{:.2%}\" for c in columns if 'spc' in c})"
   ]
  },
  {
   "cell_type": "code",
   "execution_count": 36,
   "metadata": {
    "id": "5e7vPr0M3mmG"
   },
   "outputs": [],
   "source": [
    "metrics = {}"
   ]
  },
  {
   "cell_type": "code",
   "execution_count": 37,
   "metadata": {},
   "outputs": [],
   "source": [
    "methods = ['fa2']"
   ]
  },
  {
   "cell_type": "code",
   "execution_count": 38,
   "metadata": {
    "colab": {
     "base_uri": "https://localhost:8080/",
     "height": 433,
     "referenced_widgets": [
      "a0cf6e046add4e639e52db69656e0db9",
      "8e237731bb1241ac858581b25389c012",
      "0891547293ad4211a138a4d92e01bb0b",
      "34912c8e581e47a99a1c4829c38cb75c",
      "5aa034c99c94424e835a2ee954b829ed",
      "248f6393eff74c3eb8740ca6d698045b",
      "686687a29c7f4ec98c4d76ca2062b14b",
      "996a84d1c23b47e4a2af252c6b60f55d",
      "3507f883bb954412b21c1c5641763ed7",
      "9582a849d91e457cadd514c95d6e1b5b",
      "52bfe674c2c547e09b7400a32a96f703",
      "93d58b3a12394fe1aa6f0431fc7cb0db",
      "af1d7855c9d646b0bcc7d95c4cb147a6",
      "f820e2b898cd461da04a4f651d27273d",
      "c0a112cfaa3d4d0aa9530372de84d8fb",
      "fd03985495694fbf9feb3f31ef8d18ce",
      "e02a2b36aa4c4d6fb5d2ac6693c1a927",
      "06f388ff5e3a48828d465096fe69977b",
      "c0052778c9c940e88935593e9f94b83b",
      "99a5e77a192d4a989c4534237eb16730",
      "77c6da092a6647fc9e54f7e276d75616",
      "8c13c0e8b5934117a662a78296bcb1b6",
      "cdcc3bd4235247b48c468c0f6b7682cc",
      "a2c6fa6fef4549cc853fa93b4b18cf95",
      "15cc02a756314083801b5f6798a1948c",
      "24d1c67fe52f452ab0c767e3c1a818aa",
      "c117db25c6fd484a9d0c7f210ccb1ade",
      "b090b60b61084cf692b3066dfac7f0a8",
      "5eab9848059c491b9c6cbac88683f025",
      "e87ffbaa1f204b52b9226337a506b040",
      "cf52198a9e4b46c7b49537a79919c09e",
      "51501227bc064ccbab97c22a679a0750",
      "d1b794a997dc457888a90bf44faee9b4",
      "21a755b50e5047bea797eccf24b35a0c",
      "16e78c3823ec4faf9f9cd9095b218ff5",
      "4ccd332c6b734acd8eff236eaf568dfa",
      "bd60fd13748347e48629df78fa455765",
      "e9187e4ba80b4fafa0334dae2e39aded",
      "4c39ec7c92b4402e8eedcb27beabaab1",
      "59a8194269f943bba571f710ad856973",
      "8e41bc25b9f348b1b85b381547cd60d1",
      "34d0f1529e64437fb25e639b41096072",
      "7e832c7543df43668eb72c0aa6356349",
      "f94162c9c5fe4c2581e3b80beaeb820b",
      "0284946fccf34607b25e1d6d81d4f72a",
      "8e8d4243a3624ba58d760bdf601d5126",
      "b1f0932594fe44f4be4beb8880172871",
      "820bb554d139437b8f6a6997f9002261",
      "459e375d1fe4497cb4197ef88e303c6d",
      "5726814966da46bbba942a114de4b319",
      "448beea5445f4642809801da46aa7e7c",
      "3746c0f0daf04f51805b4c95db20063a",
      "2ff74d1c705348438a32da37910c3300",
      "52f03147b5ab4cb390f9802b7a17a508",
      "5428511d652a47348203e8f3cd2e076d",
      "7b58569bee2e44c5a61a81f9a32c4c01",
      "c5e05d74b9404333a8155304e3497ba2",
      "3ad4e058bde44d87abab780368d49118",
      "8e437049b5c74ff1beddad93e30b19aa",
      "0c61377f4cc34b27ae34bdd6d976d868",
      "9ce35f9a9a23436ea77604513b5c4659",
      "dafbc43ad79c4feda093aefe490fc4b3",
      "497160b6bf80469a89680a03a468c8bb",
      "3265725ecb914981b6f07f68b8a582df",
      "1f0ac20d99d04ffb9ee75613526d3de6",
      "dee0e5716560483b8e2b107566439d94",
      "ca99841a1abd4fbd94927c49aaa711cb",
      "163a44ff1be04583ae7bd62726c55204",
      "f3b727045a0b4b4fabd147ec9c843e14",
      "7c4b4fe859cf48ab99b7e2780a24a539",
      "d9700cffab66480cb81e3722faab4e8b",
      "2c49acc1e0a64aa4b8ec461b0596848e",
      "691817157f43412f9c36002167606b75",
      "d0ae688d71734b56bb348de54e841798",
      "07a364ebcdaa491dbcc2304e4a8dae96",
      "538b277307b1449eaa79a2a91b4741d3",
      "f7b7dd4cbaa5468687b988c5e416a154",
      "877be862a4f045ec8b221097626becb5",
      "1bf37012df0844338ac689d4f6cc8eab",
      "33fe06641be544d3aab2c25cb979416f",
      "68de0d9261fa4e6999967b6f196d149c",
      "7017c5ba1ffc467495aca2689e516f7d",
      "e0997460cc21428695a0c278c6691baf",
      "522443bef4904996b6361ea265c4c56f",
      "dfe044b67917466f971ba84a11956d5e",
      "70b2d0ba1c1d4102841fb963480de1c7",
      "7b158daacd754a40bc0a48fc9ea6fea2",
      "8904f61ff30741e488eacf0e49440f66",
      "685dee6f1e1f4c2983d2d0b8eb90ed00",
      "005155a4d62d48cbbaf3d69614b08d81",
      "d2779dfa620041e4b32a7731926a5982",
      "53048bf27cb24080b4cdf20379302223",
      "0b5bff7794a14a20964da70b87158c2c",
      "ec664e55ea16435590393ae1617cccea",
      "f10d62ef464a45a7935610d869c282e3",
      "5e7c09bc35db4a3a8b9847c6d8478883",
      "987ea331b617446facc81b08bab1f8c4",
      "446c5a687b0d43358ab036d43ce281c3",
      "d89e216f62ae4a9999da1a91dd5e48b9",
      "09d03e7e66f54cafacefbfeda5fd6e5c",
      "d58c680562a44bbd9252e7ec6eebc06c",
      "71ea2594fdd942acac1cc61055438544",
      "fecda4df301b437f9fbfb61a7b593dc0",
      "bcf6741d926248cb92acf627d6557d2b",
      "5bd9868b9bda4f68b500a43916e2d148",
      "4bc5e02035de44ad827c4f881fd75afc",
      "7d80033a955e4feb947ca9cea931d90b",
      "e975c796d80d498992a50f87a2b0105c",
      "028b2ff105904a19a9a3e8ebf66967bb",
      "10dbf2cbdb1943eda6a0acaf5da3fe85",
      "14d59c7acc5e4e07a289db44406a4851",
      "d9447df93d714907bc9c768eb4910352",
      "d4a9ace081bf488680a7e43e0eaed71d",
      "022a60cde19546bfa6ecfb4947615ad9",
      "10c01207d9ba4fe197dc80717fceecc0",
      "f4995936570d4ba1a65e9a66e410b505",
      "b4bf66303e61491385cd616076a11c04",
      "a24ab2bfe7a44263bf60936d6e53ec32",
      "59e2e8ecc9f84d57af7bf44f5bba5df7",
      "be2eb92aab8045a99fd19195c3546b60",
      "e6715db2b048434796e910952cb5eb62",
      "8de2335007ba4a6b9935fa0c514c9f6a",
      "493a4bbe8057437a8c8acf4d03f8dcb0",
      "20b03955acc74e238695717124705520",
      "a89f9507496b4cf8bdd63bdb9bff79c4",
      "9752a1f6c8b6488d9628b8e0c023f10f",
      "61a0bebc687341a7bb3352febc8d4986",
      "07e0ff9c82a444788c60edee70688ca7",
      "4427901f35e54cc48e08527bb402c22a",
      "bd9dafb825954091ba975d71ab8c89ea",
      "7ec0f07bfe51484da38c18dc66d77804",
      "03943afebc4d4b668b54c7a0fd014a37",
      "a7a6b38a76424d738146b6a5786cf2c8",
      "1d1aa4729784470584c0001c1a296008",
      "e0c68ac9b5b442eeb77e6d9ea3c1da42",
      "c858ef9fd9324ab0ab885d85e3c8582f",
      "627bc2899c994a0c96c5d43e89dc77ff",
      "0e2c2f21fa8041038151170992ecb848",
      "2d9bcbf7629a4671bf8755e790276eb7",
      "77a4edf6ab1848a6a6df20c1c07358c6",
      "acf2212d6bb44c729b63281a98377095",
      "0c7a72818da3454190bab7f30a29e249",
      "d865af915b8b4aaa8cec8d40f1f8351d"
     ]
    },
    "id": "s1UnzfID4Ai6",
    "outputId": "3e204e76-68fd-4111-f527-91f6e3b7a3ca"
   },
   "outputs": [
    {
     "data": {
      "application/vnd.jupyter.widget-view+json": {
       "model_id": "78b86af3169742cca945d48b1b0dfbc7",
       "version_major": 2,
       "version_minor": 0
      },
      "text/plain": [
       "  0%|          | 0/1000 [00:00<?, ?it/s]"
      ]
     },
     "metadata": {},
     "output_type": "display_data"
    }
   ],
   "source": [
    "for m in methods:\n",
    "    metrics[m] = test(model=test_generator, \n",
    "                      criteria_list=[], \n",
    "                      dataset=data_list, \n",
    "                      idx_range=range(10000, 11000), \n",
    "                      callback=None,\n",
    "                      gt_pos=load_pos(m))"
   ]
  },
  {
   "cell_type": "code",
   "execution_count": 39,
   "metadata": {
    "id": "dQ7hdCtk5u6K"
   },
   "outputs": [],
   "source": [
    "mean_metrics = {key : list(map(lambda m: metrics[key][m].mean().item(), list(metrics[key].keys())[:-1])) for key in metrics}"
   ]
  },
  {
   "cell_type": "code",
   "execution_count": 40,
   "metadata": {
    "colab": {
     "base_uri": "https://localhost:8080/",
     "height": 313
    },
    "id": "OGyaCmLXTuvA",
    "outputId": "6c42d9f3-9869-4504-bc9c-d0eedaecfd90"
   },
   "outputs": [
    {
     "data": {
      "text/html": [
       "<style type=\"text/css\">\n",
       "</style>\n",
       "<table id=\"T_a53e4_\">\n",
       "  <thead>\n",
       "    <tr>\n",
       "      <th class=\"blank level0\" >&nbsp;</th>\n",
       "      <th class=\"col_heading level0 col0\" >stress</th>\n",
       "      <th class=\"col_heading level0 col1\" >stress_spc</th>\n",
       "      <th class=\"col_heading level0 col2\" >xing</th>\n",
       "      <th class=\"col_heading level0 col3\" >xing_spc</th>\n",
       "      <th class=\"col_heading level0 col4\" >l1_angle</th>\n",
       "      <th class=\"col_heading level0 col5\" >l1_angle_spc</th>\n",
       "      <th class=\"col_heading level0 col6\" >edge</th>\n",
       "      <th class=\"col_heading level0 col7\" >edge_spc</th>\n",
       "      <th class=\"col_heading level0 col8\" >ring</th>\n",
       "      <th class=\"col_heading level0 col9\" >ring_spc</th>\n",
       "      <th class=\"col_heading level0 col10\" >tsne</th>\n",
       "      <th class=\"col_heading level0 col11\" >tsne_spc</th>\n",
       "      <th class=\"col_heading level0 col12\" >reso_score</th>\n",
       "      <th class=\"col_heading level0 col13\" >min_angle</th>\n",
       "    </tr>\n",
       "  </thead>\n",
       "  <tbody>\n",
       "    <tr>\n",
       "      <th id=\"T_a53e4_level0_row0\" class=\"row_heading level0 row0\" >fa2</th>\n",
       "      <td id=\"T_a53e4_row0_col0\" class=\"data row0 col0\" >352.09</td>\n",
       "      <td id=\"T_a53e4_row0_col1\" class=\"data row0 col1\" >-8.14%</td>\n",
       "      <td id=\"T_a53e4_row0_col2\" class=\"data row0 col2\" >29.20</td>\n",
       "      <td id=\"T_a53e4_row0_col3\" class=\"data row0 col3\" >8.87%</td>\n",
       "      <td id=\"T_a53e4_row0_col4\" class=\"data row0 col4\" >82.15</td>\n",
       "      <td id=\"T_a53e4_row0_col5\" class=\"data row0 col5\" >9.74%</td>\n",
       "      <td id=\"T_a53e4_row0_col6\" class=\"data row0 col6\" >0.16</td>\n",
       "      <td id=\"T_a53e4_row0_col7\" class=\"data row0 col7\" >-12.78%</td>\n",
       "      <td id=\"T_a53e4_row0_col8\" class=\"data row0 col8\" >265.55</td>\n",
       "      <td id=\"T_a53e4_row0_col9\" class=\"data row0 col9\" >0.19%</td>\n",
       "      <td id=\"T_a53e4_row0_col10\" class=\"data row0 col10\" >0.21</td>\n",
       "      <td id=\"T_a53e4_row0_col11\" class=\"data row0 col11\" >7.75%</td>\n",
       "      <td id=\"T_a53e4_row0_col12\" class=\"data row0 col12\" >0.60</td>\n",
       "      <td id=\"T_a53e4_row0_col13\" class=\"data row0 col13\" >5.43</td>\n",
       "    </tr>\n",
       "  </tbody>\n",
       "</table>\n"
      ],
      "text/plain": [
       "<pandas.io.formats.style.Styler at 0x2b75f8e59850>"
      ]
     },
     "execution_count": 40,
     "metadata": {},
     "output_type": "execute_result"
    }
   ],
   "source": [
    "columns = [\n",
    "    'stress',\n",
    "    'stress_spc',\n",
    "    'xing',\n",
    "    'xing_spc',\n",
    "    'l1_angle',\n",
    "    'l1_angle_spc',\n",
    "    'edge',\n",
    "    'edge_spc',\n",
    "    'ring',\n",
    "    'ring_spc',\n",
    "    'tsne',\n",
    "    'tsne_spc',\n",
    "    'reso_score',\n",
    "    'min_angle'\n",
    "]\n",
    "df = pd.DataFrame(mean_metrics).set_axis(columns).T\n",
    "df.style.format({c: \"{:.2f}\" for c in columns if 'spc' not in c} | {c: \"{:.2%}\" for c in columns if 'spc' in c})"
   ]
  },
  {
   "cell_type": "markdown",
   "metadata": {
    "id": "L5S1HWnHOWIl"
   },
   "source": [
    "# Large Graph"
   ]
  },
  {
   "cell_type": "code",
   "execution_count": null,
   "metadata": {
    "id": "_pefPcV1OZdD"
   },
   "outputs": [],
   "source": [
    "scalability = pd.read_csv(f\"/__artifacts__/data/scalability.csv\", index_col=\"index\")\n",
    "scalability"
   ]
  },
  {
   "cell_type": "code",
   "execution_count": null,
   "metadata": {
    "id": "oMhWAsdvPnTX"
   },
   "outputs": [],
   "source": [
    "rescale = CanonicalizationByStress()\n",
    "stressfn = Stress()\n",
    "rotate = RotateByPrincipalComponents()"
   ]
  },
  {
   "cell_type": "code",
   "execution_count": null,
   "metadata": {
    "id": "LR83OcAaPID5"
   },
   "outputs": [],
   "source": [
    "stress_list = []\n",
    "spc_list = []\n",
    "pmds_list = np.load(\"layouts/new_large_graph/pmds.npy\", allow_pickle=True)\n",
    "gviz_list = np.load(\"layouts/new_large_graph/gviz.npy\", allow_pickle=True)\n",
    "with torch.no_grad():\n",
    "    for idx, col in tqdm(scalability.iterrows(), total=len(scalability)):\n",
    "        # if idx not in [406, 516]: continue\n",
    "        torch.cuda.empty_cache()\n",
    "        G = load_mtx(col['file'])\n",
    "        G.remove_edges_from(nx.selfloop_edges(G))\n",
    "        data = generate_data_list(G, \n",
    "                                sparse=data_config.sparse, \n",
    "                                pivot_mode=data_config.pivot,\n",
    "                                init_mode=data_config.init,\n",
    "                                edge_index=data_config.edge.index,\n",
    "                                edge_attr=data_config.edge.attr,\n",
    "                                pmds_list=pmds_list[idx],\n",
    "                                gviz_list=gviz_list[idx],\n",
    "                                device=device)\n",
    "        batch = Batch.from_data_list([data]).to(device)\n",
    "        # generator.train()\n",
    "        # generator(batch)\n",
    "        generator.eval()\n",
    "        pred = generator(batch)\n",
    "        pos = rotate(rescale(pred, batch), batch)\n",
    "        gt = rotate(rescale(batch.gt_pos, batch), batch)\n",
    "        stress = stressfn(pos, batch).item()\n",
    "        gt_stress = stressfn(gt, batch).item()\n",
    "        spc = (stress - gt_stress) / np.maximum(stress, gt_stress)\n",
    "        stress_list.append(stress)\n",
    "        spc_list.append(spc)\n",
    "\n",
    "        np.save(f\"/__artifacts__/gan_result/data/scalability_{idx}.npy\", pos.cpu().numpy())\n",
    "        graph_attr = dict(node_size=1, \n",
    "                        with_labels=False, \n",
    "                        labels=dict(zip(list(G.nodes), map(lambda n: n if type(n) is int else n[1:], list(G.nodes)))),\n",
    "                        font_color=\"white\", \n",
    "                        font_weight=\"bold\",\n",
    "                        font_size=12,\n",
    "                        width=0.1)\n",
    "\n",
    "        # gt_pos = pickle.load(open(f\"/__artifacts__/data/scalability_{idx}_gt.pkl\", \"rb\"))\n",
    "\n",
    "        plt.figure(figsize=[12, 9])\n",
    "        nx.draw(G, pos=gt.cpu().numpy(), node_color='orange', **graph_attr)\n",
    "        plt.title(f\"neato: large_{idx}\")\n",
    "        plt.axis(\"equal\")\n",
    "        plt.savefig(f\"/__artifacts__/gan_result/output/{idx}_{col['name']}_{col['n']}_{spc}_nx.png\", dpi=300)\n",
    "        plt.show()\n",
    "\n",
    "        plt.figure(figsize=[12, 9])\n",
    "        graph_vis(G, pos.cpu().numpy(), **graph_attr)\n",
    "        plt.title(f\"dgd: large_{idx}, spc={spc:.2%}\")\n",
    "        plt.axis(\"equal\")\n",
    "        plt.savefig(f\"/__artifacts__/gan_result/output/{idx}_{col['name']}_{col['n']}_{spc}_dgd.png\", dpi=300)\n",
    "        plt.show()"
   ]
  },
  {
   "cell_type": "code",
   "execution_count": null,
   "metadata": {
    "id": "gRXTewkYeuq1"
   },
   "outputs": [],
   "source": []
  }
 ],
 "metadata": {
  "accelerator": "GPU",
  "colab": {
   "collapsed_sections": [
    "w_p3OD0woiSM",
    "DR6-vYtr_i_P",
    "innqkwvH_ydD",
    "f-ODE2k8BFV6",
    "N39dDHraedM6"
   ],
   "machine_shape": "hm",
   "name": "GAN(gan=rgan,data=best(xing,stress),dis=deep,share=16,embed=0,gp=0).ipynb",
   "provenance": []
  },
  "kernelspec": {
   "display_name": "DeepGD",
   "language": "python",
   "name": "deepgd"
  },
  "language_info": {
   "codemirror_mode": {
    "name": "ipython",
    "version": 3
   },
   "file_extension": ".py",
   "mimetype": "text/x-python",
   "name": "python",
   "nbconvert_exporter": "python",
   "pygments_lexer": "ipython3",
   "version": "3.9.7"
  },
  "widgets": {
   "application/vnd.jupyter.widget-state+json": {
    "state": {
     "0df952bd70e149bb8bb762482da8206a": {
      "model_module": "@jupyter-widgets/controls",
      "model_module_version": "1.5.0",
      "model_name": "HBoxModel",
      "state": {
       "children": [
        "IPY_MODEL_d5483e8b5bdd4b19a4196902064274c7",
        "IPY_MODEL_2b66535eeb6943fc957cd8db642e197f",
        "IPY_MODEL_826944fb129f4b38bf7b9c42d0a362eb"
       ],
       "layout": "IPY_MODEL_44e5391e7ccc438db5f00cec2df5a109"
      }
     },
     "0dfeab207703466e92283f05a56642ef": {
      "model_module": "@jupyter-widgets/controls",
      "model_module_version": "1.5.0",
      "model_name": "FloatProgressModel",
      "state": {
       "bar_style": "success",
       "layout": "IPY_MODEL_980b47def9914a73800a4945b5bac475",
       "max": 1000,
       "style": "IPY_MODEL_bddf46ff92fc4e3fa1e84dca7ba06e8c",
       "value": 1000
      }
     },
     "16b9519cd07041bd9db00ba51104c39b": {
      "model_module": "@jupyter-widgets/controls",
      "model_module_version": "1.5.0",
      "model_name": "DescriptionStyleModel",
      "state": {
       "description_width": ""
      }
     },
     "16c0510e7e6a430582fb0f8b1f95ca66": {
      "model_module": "@jupyter-widgets/controls",
      "model_module_version": "1.5.0",
      "model_name": "VBoxModel",
      "state": {
       "children": [
        "IPY_MODEL_ec5bdec7c3cf42b28c8e28837afa27f9",
        "IPY_MODEL_3d94f278d6b8467fb4d5aced35418a01"
       ],
       "layout": "IPY_MODEL_6b6393457e5d47edb53d3d885e426b79"
      }
     },
     "195e6d90e4754b00847a7c3643fe0d57": {
      "model_module": "@jupyter-widgets/controls",
      "model_module_version": "1.5.0",
      "model_name": "FloatProgressModel",
      "state": {
       "bar_style": "success",
       "layout": "IPY_MODEL_3e42949bae424f6b91bfe6b6e531895d",
       "max": 11531,
       "style": "IPY_MODEL_91843eaf29a54c78985ec2d2669bb68c",
       "value": 11531
      }
     },
     "284d4368a7a640378e45c1ba287c192e": {
      "model_module": "@jupyter-widgets/controls",
      "model_module_version": "1.5.0",
      "model_name": "ProgressStyleModel",
      "state": {
       "description_width": ""
      }
     },
     "2b66535eeb6943fc957cd8db642e197f": {
      "model_module": "@jupyter-widgets/controls",
      "model_module_version": "1.5.0",
      "model_name": "FloatProgressModel",
      "state": {
       "layout": "IPY_MODEL_975e8edbd6e341b282e667f41cb234cd",
       "max": 834,
       "style": "IPY_MODEL_284d4368a7a640378e45c1ba287c192e",
       "value": 72
      }
     },
     "2cd8b7512cb9484181c23bd9484f7bbb": {
      "model_module": "@jupyter-widgets/base",
      "model_module_version": "1.2.0",
      "model_name": "LayoutModel",
      "state": {
       "height": "500px",
       "overflow_y": "auto"
      }
     },
     "2f59fc68f37744c28157515e86867f93": {
      "model_module": "@jupyter-widgets/controls",
      "model_module_version": "1.5.0",
      "model_name": "DescriptionStyleModel",
      "state": {
       "description_width": ""
      }
     },
     "2f74865f6af84d548d566a5237e4eb49": {
      "model_module": "@jupyter-widgets/base",
      "model_module_version": "1.2.0",
      "model_name": "LayoutModel",
      "state": {}
     },
     "3310ecc0953c4b7e942aa9023d7b4761": {
      "model_module": "@jupyter-widgets/controls",
      "model_module_version": "1.5.0",
      "model_name": "DescriptionStyleModel",
      "state": {
       "description_width": ""
      }
     },
     "3d60886d51e44d2a8f6ffa4221e4e68e": {
      "model_module": "@jupyter-widgets/controls",
      "model_module_version": "1.5.0",
      "model_name": "HBoxModel",
      "state": {
       "children": [
        "IPY_MODEL_ee6af82d00f842888544827bb9caa8b5"
       ],
       "layout": "IPY_MODEL_2cd8b7512cb9484181c23bd9484f7bbb"
      }
     },
     "3d94f278d6b8467fb4d5aced35418a01": {
      "model_module": "@jupyter-widgets/output",
      "model_module_version": "1.0.0",
      "model_name": "OutputModel",
      "state": {
       "layout": "IPY_MODEL_3d98adca71f54361b2801e9036ea1708",
       "outputs": [
        {
         "data": {
          "text/html": "<div>\n<style scoped>\n    .dataframe tbody tr th:only-of-type {\n        vertical-align: middle;\n    }\n\n    .dataframe tbody tr th {\n        vertical-align: top;\n    }\n\n    .dataframe thead th {\n        text-align: right;\n    }\n</style>\n<table border=\"1\" class=\"dataframe\">\n  <thead>\n    <tr style=\"text-align: right;\">\n      <th></th>\n      <th>val_stress</th>\n      <th>val_stress_spc</th>\n      <th>val_xing</th>\n      <th>val_xing_spc</th>\n      <th>dis_loss</th>\n    </tr>\n  </thead>\n  <tbody>\n    <tr>\n      <th>epoch 1151</th>\n      <td>396.61</td>\n      <td>8.70%</td>\n      <td>33.50</td>\n      <td>21.86%</td>\n      <td>3.22e-01</td>\n    </tr>\n  </tbody>\n</table>\n</div>",
          "text/plain": "           val_stress val_stress_spc val_xing val_xing_spc  dis_loss\nepoch 1151     396.61          8.70%    33.50       21.86%  3.22e-01"
         },
         "metadata": {},
         "output_type": "display_data"
        }
       ]
      }
     },
     "3d98adca71f54361b2801e9036ea1708": {
      "model_module": "@jupyter-widgets/base",
      "model_module_version": "1.2.0",
      "model_name": "LayoutModel",
      "state": {}
     },
     "3e42949bae424f6b91bfe6b6e531895d": {
      "model_module": "@jupyter-widgets/base",
      "model_module_version": "1.2.0",
      "model_name": "LayoutModel",
      "state": {}
     },
     "44e5391e7ccc438db5f00cec2df5a109": {
      "model_module": "@jupyter-widgets/base",
      "model_module_version": "1.2.0",
      "model_name": "LayoutModel",
      "state": {}
     },
     "481235f3764f47c89333eb3fa292f506": {
      "model_module": "@jupyter-widgets/output",
      "model_module_version": "1.0.0",
      "model_name": "OutputModel",
      "state": {
       "layout": "IPY_MODEL_2f74865f6af84d548d566a5237e4eb49",
       "outputs": [
        {
         "data": {
          "image/png": "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\n",
          "text/plain": "<Figure size 432x288 with 1 Axes>"
         },
         "metadata": {},
         "output_type": "display_data"
        }
       ]
      }
     },
     "5499ed163c634acbb16d1324ce632cdf": {
      "model_module": "@jupyter-widgets/controls",
      "model_module_version": "1.5.0",
      "model_name": "DescriptionStyleModel",
      "state": {
       "description_width": ""
      }
     },
     "61a1f6bc17de482987ac43ca4e69d065": {
      "model_module": "@jupyter-widgets/base",
      "model_module_version": "1.2.0",
      "model_name": "LayoutModel",
      "state": {
       "height": "500px",
       "overflow_y": "auto"
      }
     },
     "6212b7ac27394f7aa4fcf382f1621ce9": {
      "model_module": "@jupyter-widgets/base",
      "model_module_version": "1.2.0",
      "model_name": "LayoutModel",
      "state": {}
     },
     "64f39ff5f0154be7ac9251fd9a0d2ed4": {
      "model_module": "@jupyter-widgets/base",
      "model_module_version": "1.2.0",
      "model_name": "LayoutModel",
      "state": {}
     },
     "6567c2dd858b44c29b3b2562fced3b99": {
      "model_module": "@jupyter-widgets/base",
      "model_module_version": "1.2.0",
      "model_name": "LayoutModel",
      "state": {}
     },
     "665d3c7f20b94dc8a81b4e0ed3f3f0de": {
      "model_module": "@jupyter-widgets/controls",
      "model_module_version": "1.5.0",
      "model_name": "HTMLModel",
      "state": {
       "layout": "IPY_MODEL_6212b7ac27394f7aa4fcf382f1621ce9",
       "style": "IPY_MODEL_703089c6235f4fc7b959e704668cc592",
       "value": "100%"
      }
     },
     "6682a609c18a4d3eadbf7eafc28f9575": {
      "model_module": "@jupyter-widgets/controls",
      "model_module_version": "1.5.0",
      "model_name": "DescriptionStyleModel",
      "state": {
       "description_width": ""
      }
     },
     "6b6393457e5d47edb53d3d885e426b79": {
      "model_module": "@jupyter-widgets/base",
      "model_module_version": "1.2.0",
      "model_name": "LayoutModel",
      "state": {}
     },
     "703089c6235f4fc7b959e704668cc592": {
      "model_module": "@jupyter-widgets/controls",
      "model_module_version": "1.5.0",
      "model_name": "DescriptionStyleModel",
      "state": {
       "description_width": ""
      }
     },
     "78b86af3169742cca945d48b1b0dfbc7": {
      "model_module": "@jupyter-widgets/controls",
      "model_module_version": "1.5.0",
      "model_name": "HBoxModel",
      "state": {
       "children": [
        "IPY_MODEL_d2bebe4b52574475b6a9a644c10978ae",
        "IPY_MODEL_fe0d13448b154099a12bda2b44a4fdad",
        "IPY_MODEL_8a3cbcd4773e4b759300211b7b5ad230"
       ],
       "layout": "IPY_MODEL_ba04421300c64507a710b9100ad11137"
      }
     },
     "8052055f08c941f495cdd66a20e885c5": {
      "model_module": "@jupyter-widgets/controls",
      "model_module_version": "1.5.0",
      "model_name": "HTMLModel",
      "state": {
       "layout": "IPY_MODEL_baea43d532134123975efb6ce935482b",
       "style": "IPY_MODEL_3310ecc0953c4b7e942aa9023d7b4761",
       "value": " 11531/11531 [00:00&lt;00:00, 51381.84it/s]"
      }
     },
     "826944fb129f4b38bf7b9c42d0a362eb": {
      "model_module": "@jupyter-widgets/controls",
      "model_module_version": "1.5.0",
      "model_name": "HTMLModel",
      "state": {
       "layout": "IPY_MODEL_fc7972beff9a4c6997dfeb9071f2116a",
       "style": "IPY_MODEL_16b9519cd07041bd9db00ba51104c39b",
       "value": " 72/834 [00:10&lt;01:49,  6.95it/s]"
      }
     },
     "84cf22c7dca249938fee3f8041a8c826": {
      "model_module": "@jupyter-widgets/controls",
      "model_module_version": "1.5.0",
      "model_name": "DescriptionStyleModel",
      "state": {
       "description_width": ""
      }
     },
     "8a3cbcd4773e4b759300211b7b5ad230": {
      "model_module": "@jupyter-widgets/controls",
      "model_module_version": "1.5.0",
      "model_name": "HTMLModel",
      "state": {
       "layout": "IPY_MODEL_6567c2dd858b44c29b3b2562fced3b99",
       "style": "IPY_MODEL_6682a609c18a4d3eadbf7eafc28f9575",
       "value": " 1000/1000 [00:47&lt;00:00, 21.22it/s]"
      }
     },
     "8d228f7464bc495687452bcf986933d7": {
      "model_module": "@jupyter-widgets/base",
      "model_module_version": "1.2.0",
      "model_name": "LayoutModel",
      "state": {}
     },
     "8d75a1c31dbd4421a7e993fd7e789f8d": {
      "model_module": "@jupyter-widgets/controls",
      "model_module_version": "1.5.0",
      "model_name": "ProgressStyleModel",
      "state": {
       "description_width": ""
      }
     },
     "8d96b7a604b348d2ba5556df3891a954": {
      "model_module": "@jupyter-widgets/base",
      "model_module_version": "1.2.0",
      "model_name": "LayoutModel",
      "state": {}
     },
     "91843eaf29a54c78985ec2d2669bb68c": {
      "model_module": "@jupyter-widgets/controls",
      "model_module_version": "1.5.0",
      "model_name": "ProgressStyleModel",
      "state": {
       "description_width": ""
      }
     },
     "975e8edbd6e341b282e667f41cb234cd": {
      "model_module": "@jupyter-widgets/base",
      "model_module_version": "1.2.0",
      "model_name": "LayoutModel",
      "state": {}
     },
     "980b47def9914a73800a4945b5bac475": {
      "model_module": "@jupyter-widgets/base",
      "model_module_version": "1.2.0",
      "model_name": "LayoutModel",
      "state": {}
     },
     "9d909cc739054ee0879725c823173dc0": {
      "model_module": "@jupyter-widgets/base",
      "model_module_version": "1.2.0",
      "model_name": "LayoutModel",
      "state": {}
     },
     "a4ebe2efb73f4062bbe9d1fcfc2e3d17": {
      "model_module": "@jupyter-widgets/base",
      "model_module_version": "1.2.0",
      "model_name": "LayoutModel",
      "state": {}
     },
     "a800a4eff0ef4fbaabe6522824c368c7": {
      "model_module": "@jupyter-widgets/controls",
      "model_module_version": "1.5.0",
      "model_name": "TabModel",
      "state": {
       "_titles": {
        "0": "status",
        "1": "plot",
        "2": "log"
       },
       "children": [
        "IPY_MODEL_16c0510e7e6a430582fb0f8b1f95ca66",
        "IPY_MODEL_aff6d7ea06e74b119ce43d6136387885",
        "IPY_MODEL_3d60886d51e44d2a8f6ffa4221e4e68e"
       ],
       "layout": "IPY_MODEL_8d228f7464bc495687452bcf986933d7"
      }
     },
     "ad551c5d716d4ffcbd9a9d30543b0f16": {
      "model_module": "@jupyter-widgets/base",
      "model_module_version": "1.2.0",
      "model_name": "LayoutModel",
      "state": {}
     },
     "afb72568eac84ae7af0661a4be989b5e": {
      "model_module": "@jupyter-widgets/base",
      "model_module_version": "1.2.0",
      "model_name": "LayoutModel",
      "state": {}
     },
     "aff6d7ea06e74b119ce43d6136387885": {
      "model_module": "@jupyter-widgets/controls",
      "model_module_version": "1.5.0",
      "model_name": "HBoxModel",
      "state": {
       "children": [
        "IPY_MODEL_481235f3764f47c89333eb3fa292f506"
       ],
       "layout": "IPY_MODEL_61a1f6bc17de482987ac43ca4e69d065"
      }
     },
     "b21227eed1fe441e87b80c10e7f9ada4": {
      "model_module": "@jupyter-widgets/base",
      "model_module_version": "1.2.0",
      "model_name": "LayoutModel",
      "state": {}
     },
     "ba04421300c64507a710b9100ad11137": {
      "model_module": "@jupyter-widgets/base",
      "model_module_version": "1.2.0",
      "model_name": "LayoutModel",
      "state": {}
     },
     "baea43d532134123975efb6ce935482b": {
      "model_module": "@jupyter-widgets/base",
      "model_module_version": "1.2.0",
      "model_name": "LayoutModel",
      "state": {}
     },
     "bddf46ff92fc4e3fa1e84dca7ba06e8c": {
      "model_module": "@jupyter-widgets/controls",
      "model_module_version": "1.5.0",
      "model_name": "ProgressStyleModel",
      "state": {
       "description_width": ""
      }
     },
     "cc2b1e8a2e674e7389a984e49c18ad09": {
      "model_module": "@jupyter-widgets/base",
      "model_module_version": "1.2.0",
      "model_name": "LayoutModel",
      "state": {}
     },
     "d25df3e336f0445493bd892a3b45c3a3": {
      "model_module": "@jupyter-widgets/controls",
      "model_module_version": "1.5.0",
      "model_name": "HBoxModel",
      "state": {
       "children": [
        "IPY_MODEL_665d3c7f20b94dc8a81b4e0ed3f3f0de",
        "IPY_MODEL_0dfeab207703466e92283f05a56642ef",
        "IPY_MODEL_dc86394c1b794af1b9597fcadc9c0a67"
       ],
       "layout": "IPY_MODEL_afb72568eac84ae7af0661a4be989b5e"
      }
     },
     "d2bebe4b52574475b6a9a644c10978ae": {
      "model_module": "@jupyter-widgets/controls",
      "model_module_version": "1.5.0",
      "model_name": "HTMLModel",
      "state": {
       "layout": "IPY_MODEL_a4ebe2efb73f4062bbe9d1fcfc2e3d17",
       "style": "IPY_MODEL_ebcf281c90d447f394c1e80cab0a6625",
       "value": "100%"
      }
     },
     "d5483e8b5bdd4b19a4196902064274c7": {
      "model_module": "@jupyter-widgets/controls",
      "model_module_version": "1.5.0",
      "model_name": "HTMLModel",
      "state": {
       "layout": "IPY_MODEL_9d909cc739054ee0879725c823173dc0",
       "style": "IPY_MODEL_5499ed163c634acbb16d1324ce632cdf",
       "value": "[epoch 1151/None]:   9%"
      }
     },
     "da53705e131f49788bdb9ae85b985183": {
      "model_module": "@jupyter-widgets/base",
      "model_module_version": "1.2.0",
      "model_name": "LayoutModel",
      "state": {}
     },
     "dacffb4b1c8c425999edfc82770ddf9e": {
      "model_module": "@jupyter-widgets/controls",
      "model_module_version": "1.5.0",
      "model_name": "HTMLModel",
      "state": {
       "layout": "IPY_MODEL_cc2b1e8a2e674e7389a984e49c18ad09",
       "style": "IPY_MODEL_2f59fc68f37744c28157515e86867f93",
       "value": "100%"
      }
     },
     "dc86394c1b794af1b9597fcadc9c0a67": {
      "model_module": "@jupyter-widgets/controls",
      "model_module_version": "1.5.0",
      "model_name": "HTMLModel",
      "state": {
       "layout": "IPY_MODEL_8d96b7a604b348d2ba5556df3891a954",
       "style": "IPY_MODEL_84cf22c7dca249938fee3f8041a8c826",
       "value": " 1000/1000 [00:47&lt;00:00, 20.03it/s]"
      }
     },
     "ea3798a538df45f7b3d49da331774895": {
      "model_module": "@jupyter-widgets/controls",
      "model_module_version": "1.5.0",
      "model_name": "HBoxModel",
      "state": {
       "children": [
        "IPY_MODEL_dacffb4b1c8c425999edfc82770ddf9e",
        "IPY_MODEL_195e6d90e4754b00847a7c3643fe0d57",
        "IPY_MODEL_8052055f08c941f495cdd66a20e885c5"
       ],
       "layout": "IPY_MODEL_64f39ff5f0154be7ac9251fd9a0d2ed4"
      }
     },
     "ebcf281c90d447f394c1e80cab0a6625": {
      "model_module": "@jupyter-widgets/controls",
      "model_module_version": "1.5.0",
      "model_name": "DescriptionStyleModel",
      "state": {
       "description_width": ""
      }
     },
     "ec5bdec7c3cf42b28c8e28837afa27f9": {
      "model_module": "@jupyter-widgets/output",
      "model_module_version": "1.0.0",
      "model_name": "OutputModel",
      "state": {
       "layout": "IPY_MODEL_b21227eed1fe441e87b80c10e7f9ada4",
       "outputs": [
        {
         "data": {
          "application/vnd.jupyter.widget-view+json": {
           "model_id": "0df952bd70e149bb8bb762482da8206a",
           "version_major": 2,
           "version_minor": 0
          },
          "text/plain": "  0%|          | 0/834 [00:00<?, ?it/s]"
         },
         "metadata": {},
         "output_type": "display_data"
        }
       ]
      }
     },
     "ee6af82d00f842888544827bb9caa8b5": {
      "model_module": "@jupyter-widgets/output",
      "model_module_version": "1.0.0",
      "model_name": "OutputModel",
      "state": {
       "layout": "IPY_MODEL_da53705e131f49788bdb9ae85b985183",
       "outputs": [
        {
         "name": "stdout",
         "output_type": "stream",
         "text": "[1151] stress=396.61(8.70%) xing=33.50(21.86%)\n"
        }
       ]
      }
     },
     "fc7972beff9a4c6997dfeb9071f2116a": {
      "model_module": "@jupyter-widgets/base",
      "model_module_version": "1.2.0",
      "model_name": "LayoutModel",
      "state": {}
     },
     "fe0d13448b154099a12bda2b44a4fdad": {
      "model_module": "@jupyter-widgets/controls",
      "model_module_version": "1.5.0",
      "model_name": "FloatProgressModel",
      "state": {
       "bar_style": "success",
       "layout": "IPY_MODEL_ad551c5d716d4ffcbd9a9d30543b0f16",
       "max": 1000,
       "style": "IPY_MODEL_8d75a1c31dbd4421a7e993fd7e789f8d",
       "value": 1000
      }
     }
    },
    "version_major": 2,
    "version_minor": 0
   }
  }
 },
 "nbformat": 4,
 "nbformat_minor": 4
}
