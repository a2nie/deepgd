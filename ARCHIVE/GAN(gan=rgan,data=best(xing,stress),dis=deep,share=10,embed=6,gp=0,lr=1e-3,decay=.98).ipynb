{
 "cells": [
  {
   "cell_type": "markdown",
   "metadata": {
    "id": "wZtYFEhHoBGp"
   },
   "source": [
    "# Import libraries"
   ]
  },
  {
   "cell_type": "code",
   "execution_count": 1,
   "metadata": {
    "id": "KJPfzpxLQI5O"
   },
   "outputs": [],
   "source": [
    "%load_ext autoreload\n",
    "%autoreload 2\n",
    "from deepgd import *"
   ]
  },
  {
   "cell_type": "markdown",
   "metadata": {
    "id": "z4eBEyB1oaJe"
   },
   "source": [
    "# Config"
   ]
  },
  {
   "cell_type": "code",
   "execution_count": 2,
   "metadata": {
    "id": "Q_-MLFhpNvxF"
   },
   "outputs": [],
   "source": [
    "cuda_idx = 0\n",
    "canonicalization = Canonicalization(normalize=Standardization(norm_ord=1),\n",
    "                                    scale=False)\n",
    "config = StaticConfig({\n",
    "    \"name\": 'GAN(gan=rgan,data=best(xing,stress),dis=deep,share=10,embed=6,gp=0,lr=1e-3,decay=.98)',\n",
    "    \"uid\": None,\n",
    "    \"link\": None,\n",
    "    \"generator\": {\n",
    "        \"params\": {\n",
    "            \"num_blocks\": 9,\n",
    "            \"normalize\": canonicalization\n",
    "        },\n",
    "        \"pretrained\": {\n",
    "            \"name\": None,\n",
    "            \"epoch\": -1,\n",
    "        },\n",
    "        \"optim\": torch.optim.AdamW,\n",
    "        \"lr\" : {\n",
    "            \"initial\": 1e-3,\n",
    "            \"decay\": 0.98,\n",
    "        },\n",
    "    },\n",
    "    \"discriminator\": {\n",
    "        \"params\": {\n",
    "            \"conv\": [2, 16, 16, 16],\n",
    "            \"dense\": [2],\n",
    "            \"shared_depth\": 10,\n",
    "            \"enet_depth\": 6,\n",
    "            \"enet_width\": 64,\n",
    "            \"aggr\": \"add\",\n",
    "            \"normalize\": canonicalization\n",
    "        },\n",
    "        \"pretrained\": {\n",
    "            \"name\": None,\n",
    "            \"epoch\": -1,\n",
    "        },\n",
    "        \"optim\": torch.optim.AdamW,\n",
    "        \"lr\" : {\n",
    "            \"initial\": 1e-3,\n",
    "            \"decay\": 0.98,\n",
    "        },\n",
    "        \"noise\": {\n",
    "            \"std\": 0,\n",
    "            \"decay\": 0.95,\n",
    "        },\n",
    "        \"repeat\": 1,\n",
    "        \"complete\": True,\n",
    "        \"adaptive\": True\n",
    "    },\n",
    "    \"alternate\": \"epoch\",\n",
    "    \"batchsize\": 24,\n",
    "    \"epoch\": {\n",
    "        \"start\": -1,\n",
    "        \"end\": None,\n",
    "    },\n",
    "    \"log_interval\": 1,\n",
    "    \"test\": {\n",
    "        \"name\": \"test\",\n",
    "        \"epoch\": -1,\n",
    "    },\n",
    "    \"gan_flavor\": \"rgan\",\n",
    "    \"gp_weight\": 0,\n",
    "})\n",
    "data_config = StaticConfig({\n",
    "    \"sparse\": False,\n",
    "    \"pivot\": None,\n",
    "    \"init\": \"pmds\",\n",
    "    \"edge\": {\n",
    "        \"index\": \"full_edge_index\",\n",
    "        \"attr\": \"full_edge_attr\",\n",
    "    },\n",
    "})\n",
    "loss_fns = {\n",
    "    Stress(): 1\n",
    "}\n",
    "ctrler_params = {\n",
    "    \"tau\": 0.95,\n",
    "    \"beta\": 1,\n",
    "    \"exploit_rate\": 0.5,\n",
    "    \"warmup\": 2,\n",
    "}\n",
    "paths = StaticConfig({\n",
    "    \"root\": \"artifacts\",\n",
    "    \"checkpoints\": lambda: f\"{paths.root}/checkpoints/{config.name}\",\n",
    "    \"gen_pretrain\": lambda: f\"{paths.root}/checkpoints/{config.generator.pretrained.name}\",\n",
    "    \"dis_pretrain\": lambda: f\"{paths.root}/checkpoints/{config.discriminator.pretrained.name}\",\n",
    "    \"tensorboard\": lambda: f\"{paths.root}/tensorboards/{config.name}\",\n",
    "    \"visualization\": lambda: f\"{paths.root}/visualizations/{config.name}_{config.test.name}\",\n",
    "    \"log\": lambda: f\"{paths.root}/logs/{config.name}.log\",\n",
    "    \"metrics\": lambda suffix: f\"{paths.root}/metrics/{config.name}_{suffix}.pickle\",\n",
    "})"
   ]
  },
  {
   "cell_type": "code",
   "execution_count": 3,
   "metadata": {
    "id": "mdMEAbH10Qaq"
   },
   "outputs": [],
   "source": [
    "if \" \" in config.name:\n",
    "    raise Exception(\"Space is not allowed in model name.\")"
   ]
  },
  {
   "cell_type": "markdown",
   "metadata": {
    "id": "WynW4ZAdBhep"
   },
   "source": [
    "# Prepare"
   ]
  },
  {
   "cell_type": "markdown",
   "metadata": {
    "id": "DR6-vYtr_i_P"
   },
   "source": [
    "## Get log command"
   ]
  },
  {
   "cell_type": "code",
   "execution_count": 4,
   "metadata": {
    "colab": {
     "base_uri": "https://localhost:8080/"
    },
    "id": "9-QpinlslcTO",
    "outputId": "48ae3716-212c-4d46-9efb-b7b4070f73de"
   },
   "outputs": [
    {
     "name": "stdout",
     "output_type": "stream",
     "text": [
      "cd /users/PAS0027/osu10203/deepgd && tail -n1000 -f 'artifacts/logs/GAN(gan=rgan,data=best(xing,stress),dis=deep,share=10,embed=6,gp=0,lr=1e-3,decay=.98).log'\n"
     ]
    }
   ],
   "source": [
    "print(f\"cd {os.getcwd()} && tail -n1000 -f '{paths.log()}'\")"
   ]
  },
  {
   "cell_type": "code",
   "execution_count": 5,
   "metadata": {},
   "outputs": [
    {
     "name": "stdout",
     "output_type": "stream",
     "text": [
      "tensorboard dev upload --logdir 'artifacts/tensorboards/GAN(gan=rgan,data=best(xing,stress),dis=deep,share=10,embed=6,gp=0,lr=1e-3,decay=.98)'\n"
     ]
    }
   ],
   "source": [
    "print(f\"tensorboard dev upload --logdir '{paths.tensorboard()}'\")"
   ]
  },
  {
   "cell_type": "markdown",
   "metadata": {
    "id": "innqkwvH_ydD"
   },
   "source": [
    "## Set globals"
   ]
  },
  {
   "cell_type": "code",
   "execution_count": 6,
   "metadata": {
    "id": "Qjq7JlSZlkQR"
   },
   "outputs": [],
   "source": [
    "if cuda_idx is not None and torch.cuda.is_available():\n",
    "    device = f'cuda:{cuda_idx}'\n",
    "    pynvml.nvmlInit()\n",
    "    cuda = pynvml.nvmlDeviceGetHandleByIndex(cuda_idx)\n",
    "else:\n",
    "    device = 'cpu'\n",
    "    cuda =  None\n",
    "np.set_printoptions(precision=2)\n",
    "warnings.filterwarnings(\"ignore\", category=RuntimeWarning)"
   ]
  },
  {
   "cell_type": "markdown",
   "metadata": {
    "id": "0da286l_ApEL"
   },
   "source": [
    "## Load data"
   ]
  },
  {
   "cell_type": "code",
   "execution_count": 7,
   "metadata": {
    "colab": {
     "base_uri": "https://localhost:8080/"
    },
    "id": "RFuSHiZJMU4x",
    "outputId": "54065609-aaea-4536-d79c-73bc73b3f576"
   },
   "outputs": [
    {
     "name": "stdout",
     "output_type": "stream",
     "text": [
      "Load from 'cache/G_list.pickle'\n",
      "Load from 'cache/generate_data_list(list,sparse=False,pivot_mode=None,init_mode=pmds,edge_index=full_edge_index,edge_attr=full_edge_attr,pmds_list=ndarray,gviz_list=ndarray,noisy_layout=True,device=cpu).pickle'\n"
     ]
    },
    {
     "name": "stderr",
     "output_type": "stream",
     "text": [
      "/users/PAS0027/osu10203/.conda/envs/deepgd/lib/python3.9/site-packages/torch_geometric/deprecation.py:13: UserWarning: 'data.DataLoader' is deprecated, use 'loader.DataLoader' instead\n",
      "  warnings.warn(out)\n"
     ]
    }
   ],
   "source": [
    "G_list = load_G_list(data_path='data/rome', index_file='data_index.txt', cache='G_list', cache_prefix='cache/')\n",
    "data_list = generate_data_list(G_list, \n",
    "                               sparse=data_config.sparse, \n",
    "                               pivot_mode=data_config.pivot,\n",
    "                               init_mode=data_config.init,\n",
    "                               edge_index=data_config.edge.index,\n",
    "                               edge_attr=data_config.edge.attr,\n",
    "                               pmds_list=np.load('layouts/rome/pmds.npy', allow_pickle=True),\n",
    "                               gviz_list=np.load('layouts/rome/gviz.npy', allow_pickle=True),\n",
    "                               noisy_layout=True,\n",
    "                               device='cpu', \n",
    "                               cache=True,\n",
    "                               cache_prefix='cache/')\n",
    "train_loader = LazyDeviceMappingDataLoader(data_list[:10000], batch_size=config.batchsize, shuffle=True, device=device)\n",
    "val_loader = LazyDeviceMappingDataLoader(data_list[11000:], batch_size=config.batchsize, shuffle=False, device=device)"
   ]
  },
  {
   "cell_type": "code",
   "execution_count": 8,
   "metadata": {
    "id": "djd1pLt2OxZq"
   },
   "outputs": [],
   "source": [
    "def draw_layout(G, method, draw=True):\n",
    "    if method == 'fa2':\n",
    "        layout = get_fa2_layout(G)\n",
    "    else:\n",
    "        try:\n",
    "            fn = getattr(nx.drawing.layout, f'{method}_layout')\n",
    "            layout = fn(G)\n",
    "        except:\n",
    "            layout = nx.drawing.nx_agraph.graphviz_layout(G, prog=method)\n",
    "    if draw:\n",
    "        nx.draw(G, pos=layout)\n",
    "    return layout"
   ]
  },
  {
   "cell_type": "code",
   "execution_count": 9,
   "metadata": {
    "id": "2vBBw77lR7Em"
   },
   "outputs": [],
   "source": [
    "methods = ['neato', 'dot', 'fdp', 'sfdp', 'twopi', 'circo', 'shell', 'spring', 'circular', 'spectral', 'kamada_kawai', 'fa2', 'pmds']"
   ]
  },
  {
   "cell_type": "code",
   "execution_count": 10,
   "metadata": {
    "id": "dx6VVA9XIc2O"
   },
   "outputs": [],
   "source": [
    "from functools import lru_cache\n",
    "\n",
    "@lru_cache(maxsize=None)\n",
    "def load_pos(method):\n",
    "    return np.load(f'layouts/rome/{method}.npy', allow_pickle=True)"
   ]
  },
  {
   "cell_type": "code",
   "execution_count": 11,
   "metadata": {
    "colab": {
     "base_uri": "https://localhost:8080/",
     "height": 1000,
     "referenced_widgets": [
      "05a37aeeb20049dfa2f97287b3990556",
      "a75afae3adfd4810a0b0991a062535ee",
      "a24ae105ed124595992f7e2e5f909247",
      "01b4cabaf8004dd4b9269b4e6889c498",
      "f3c7c84f2b314bd8b97a7358deaf4fa1",
      "35e4a83e692b4a7bafb46fdf192b2586",
      "62847b5e2678459f845159eef6d4feab",
      "143e81f00313436dacfa246a57108944",
      "e05833f11803400b95ff22246cdc8f2b",
      "53aeede91e074378b5d7f626165655ee",
      "79a43768c1794a10a788a49e5883aa2c"
     ]
    },
    "id": "MSmP-jem9I0X",
    "outputId": "c698f0bf-e96e-4de9-aeda-0b046fc0a03f",
    "scrolled": true,
    "tags": []
   },
   "outputs": [],
   "source": [
    "# best_list = []\n",
    "# best_layout_list = []\n",
    "# for idx, (G, data) in enumerate(zip(tqdm(G_list), data_list)):\n",
    "#     xing, stress, layout = {}, {}, {}\n",
    "#     for m in methods:\n",
    "#         batch = Batch.from_data_list([data])\n",
    "#         pos = load_pos(m)\n",
    "#         p = CanonicalizationByStress()(torch.tensor(pos[idx]).float(), batch)\n",
    "#         x = Xing()(p, batch).item()\n",
    "#         s = Stress()(p, batch).item()\n",
    "#         xing[m] = x\n",
    "#         stress[m] = s\n",
    "#         layout[m] = p.numpy()\n",
    "#         # plt.figure()\n",
    "#         # graph_vis(G, pos[idx])\n",
    "#         # plt.title(f'{m} stress={s:.2f} xing={x}')\n",
    "#     best, *_ = sorted(methods, key=lambda m: (xing[m], stress[m]))\n",
    "#     best_list.append(best)\n",
    "#     best_layout_list.append(layout[best])\n",
    "#     print(f'{best}, xing={xing[best]}, stress={stress[best]:.2f}')"
   ]
  },
  {
   "cell_type": "code",
   "execution_count": 12,
   "metadata": {
    "colab": {
     "base_uri": "https://localhost:8080/"
    },
    "id": "Mx2bZNugdTqa",
    "outputId": "cec05a67-18e8-492f-aaa1-057274a8341a"
   },
   "outputs": [],
   "source": [
    "# pickle.dump(best_list, open('layouts/rome/best[xing,stress].pkl', 'wb'))\n",
    "# np.save('layouts/rome/best[xing,stress].npy', best_layout_list)"
   ]
  },
  {
   "cell_type": "code",
   "execution_count": 13,
   "metadata": {
    "colab": {
     "base_uri": "https://localhost:8080/",
     "height": 49,
     "referenced_widgets": [
      "7e0ae84dd0f3458d893c81b029fe1729",
      "18bdc3bf80fb434abde68de5b72a8870",
      "2e3552ded9594635a51832387ae754a0",
      "54f4aa5080c6498080a63be2cdeefee5",
      "3937586d0879451da5e2138ca3bfd0a0",
      "a9df6e84ce8c499eb2b2cf984995d791",
      "7af6b718dd3d4e01b264377a2fa938e2",
      "a774c86e64004bd6951645f1c24abad4",
      "c86575117cd041f2837762f37d1f387b",
      "6e9907cefb1241688fbd248b8281ed9f",
      "9b8e5405d8264944acab57e81f2f5ad6"
     ]
    },
    "id": "A1-w1fspC53p",
    "outputId": "09c2d5c3-1eef-41eb-dcee-581af1294804"
   },
   "outputs": [
    {
     "data": {
      "application/vnd.jupyter.widget-view+json": {
       "model_id": "6e7283230a3446d3a0e6194acca25f94",
       "version_major": 2,
       "version_minor": 0
      },
      "text/plain": [
       "  0%|          | 0/11531 [00:00<?, ?it/s]"
      ]
     },
     "metadata": {},
     "output_type": "display_data"
    }
   ],
   "source": [
    "best_layout_list = np.load('layouts/rome/best[xing,stress].npy', allow_pickle=True)\n",
    "for data, layout in zip(tqdm(data_list), best_layout_list):\n",
    "    data.gt_pos = torch.tensor(layout)"
   ]
  },
  {
   "cell_type": "code",
   "execution_count": 14,
   "metadata": {
    "id": "y6EGh4U7exL_"
   },
   "outputs": [],
   "source": [
    "train_loader = LazyDeviceMappingDataLoader(data_list[:10000], batch_size=config.batchsize, shuffle=True, device=device)\n",
    "val_loader = LazyDeviceMappingDataLoader(data_list[11000:], batch_size=config.batchsize, shuffle=False, device=device)"
   ]
  },
  {
   "cell_type": "code",
   "execution_count": 15,
   "metadata": {
    "colab": {
     "base_uri": "https://localhost:8080/",
     "height": 103,
     "referenced_widgets": [
      "38a33cf69aff48f4aabd4902a7ce48b1",
      "57e277bcb44c4e2fa2a12105d75153d1",
      "20ce017c46bd4a7c9b420270ac579405",
      "13f2df4fe0ce4af88b6e3bd1637065b0",
      "2867faa145ca4860a198d4d0bf830f89",
      "02838cf669174ed9afa41a1a8e680765",
      "7e9e3c031667455f8baca163d3a213e5",
      "4000135e7dfa46529fa6244fccc5cb57",
      "e523e9faac5b4ec38643c05ac5ba99f7",
      "e8e3ee9741e4480dae5003ccc19a7891",
      "9a569045221b43acb3ba2fbf116b2c74"
     ]
    },
    "id": "YEfRRUK0NiNm",
    "outputId": "93f53d05-7667-4cda-a38e-c3a953124f79"
   },
   "outputs": [],
   "source": [
    "# for m in methods:\n",
    "#     layouts = []\n",
    "#     for G in tqdm(G_list):\n",
    "#         layout = draw_layout(G, method=m, draw=False)\n",
    "#         layouts.append(np.array(list(layout.values())))\n",
    "#     np.save(f'layouts/rome/{m}.npy', layouts)"
   ]
  },
  {
   "cell_type": "code",
   "execution_count": 16,
   "metadata": {
    "colab": {
     "base_uri": "https://localhost:8080/",
     "height": 564
    },
    "id": "upK7AHYqPmC5",
    "outputId": "29a88e61-f55f-409c-9194-12c6d5762528"
   },
   "outputs": [],
   "source": [
    "# from collections import Counter\n",
    "\n",
    "# letter_counts = Counter(best_list)\n",
    "# df = pd.DataFrame.from_dict(letter_counts, orient='index')\n",
    "# df.plot(kind='bar', figsize=[12, 8])"
   ]
  },
  {
   "cell_type": "markdown",
   "metadata": {
    "id": "f-ODE2k8BFV6"
   },
   "source": [
    "## Create folders"
   ]
  },
  {
   "cell_type": "code",
   "execution_count": 17,
   "metadata": {
    "id": "3ykUMINYBRog"
   },
   "outputs": [],
   "source": [
    "mkdirs(paths.checkpoints(), paths.tensorboard(), paths.visualization(), f\"{paths.root}/logs\", f\"{paths.root}/metrics\")"
   ]
  },
  {
   "cell_type": "markdown",
   "metadata": {
    "id": "BFq9k5nzBIh5"
   },
   "source": [
    "## Load checkpoints"
   ]
  },
  {
   "cell_type": "code",
   "execution_count": 18,
   "metadata": {
    "id": "W5NbsKkobIfA"
   },
   "outputs": [],
   "source": [
    "class EdgeFeatureDiscriminator(nn.Module):\n",
    "    def __init__(self, \n",
    "                 conv, \n",
    "                 dense,\n",
    "                 shared_depth,\n",
    "                 enet_depth,\n",
    "                 enet_width,\n",
    "                 aggr='add', \n",
    "                 root_weight=True,\n",
    "                 normalize=None):\n",
    "        super().__init__()\n",
    "        self.enet = nn.Sequential(*[\n",
    "            DenseLayer(in_dim=in_d,\n",
    "                       out_dim=out_d,\n",
    "                       skip=nonlin,\n",
    "                       bn=nonlin,\n",
    "                       act=nonlin,\n",
    "                       dp=None)\n",
    "            for in_d, out_d, nonlin \n",
    "            in zip([self._get_feature_dim()] + [enet_width] * (shared_depth-1),\n",
    "                   [enet_width] * shared_depth,\n",
    "                   [True] * (shared_depth-1) + [False])     \n",
    "        ])\n",
    "        self.blocks = nn.ModuleList([\n",
    "            GNNLayer(nfeat_dims=(in_d, out_d),\n",
    "                     efeat_dim=enet_width,\n",
    "                     edge_net=EdgeNet(nfeat_dims=(in_d, out_d), \n",
    "                                      efeat_dim=enet_width, \n",
    "                                      depth=enet_depth, \n",
    "                                      width=enet_width),\n",
    "                     aggr=aggr,\n",
    "                     dense=False,\n",
    "                     skip=nonlin,\n",
    "                     bn=nonlin,\n",
    "                     act=nonlin,\n",
    "                     root_weight=root_weight) \n",
    "            for in_d, out_d, nonlin \n",
    "            in zip(conv[:-1], conv[1:], [True] * (len(conv)-2) + [False])     \n",
    "        ])\n",
    "        self.pool = (gnn.global_mean_pool if aggr == 'mean' \n",
    "                     else gnn.global_add_pool if aggr == 'add' \n",
    "                     else None)\n",
    "        self.dense = nn.Identity() if not dense else nn.Sequential(*[\n",
    "            DenseLayer(in_dim=in_d,\n",
    "                       out_dim=out_d,\n",
    "                       skip=nonlin,\n",
    "                       bn=nonlin,\n",
    "                       act=nonlin,\n",
    "                       dp=None)\n",
    "            for in_d, out_d, nonlin \n",
    "            in zip(conv[-1:] + dense[:-1], dense, [True] * (len(dense)-1) + [False])     \n",
    "        ])\n",
    "        self.normalize = normalize or IdentityTransformation()\n",
    "    \n",
    "    def forward(self, batch):\n",
    "        x = torch.ones_like(batch.pos)\n",
    "        e = self.enet(self._get_features(self._get_edge_info(batch, layout='pos')))\n",
    "        for block in self.blocks:\n",
    "            x = block(x, e, batch)\n",
    "        x = self.pool(x, batch.batch)\n",
    "        x = self.dense(x)\n",
    "        return x\n",
    "    \n",
    "    def _get_edge_info(self, batch, layout='gt_pos'):\n",
    "        pos = self.normalize(batch[layout].float(), batch)\n",
    "        src, dst = get_edges(pos, batch)\n",
    "        v, u = l2_normalize(dst - src, return_norm=True)\n",
    "        d = batch.edge_attr[:, :1]\n",
    "        return {\n",
    "            \"src\": src,\n",
    "            \"dst\": dst,\n",
    "            \"v\": v,\n",
    "            \"u\": u,\n",
    "            \"d\": d,\n",
    "        }\n",
    "\n",
    "    def _get_features(self, edges):\n",
    "        return torch.cat([edges['src'], edges['dst'], edges['d']], dim=1)\n",
    "        \n",
    "    def _get_feature_dim(self):\n",
    "        return self._get_features({\n",
    "            \"src\": torch.zeros(1, 2),\n",
    "            \"dst\": torch.zeros(1, 2),\n",
    "            \"v\": torch.zeros(1, 2),\n",
    "            \"u\": torch.zeros(1, 1),\n",
    "            \"d\": torch.zeros(1, 1),\n",
    "        }).shape[-1]"
   ]
  },
  {
   "cell_type": "code",
   "execution_count": 19,
   "metadata": {
    "id": "96ZActxlL0fJ"
   },
   "outputs": [],
   "source": [
    "class StressDiscriminator(nn.Module):\n",
    "    def __init__(self, normalize=CanonicalizationByStress(), **kwargs):\n",
    "        super().__init__()\n",
    "        self.dummy = nn.Parameter(torch.zeros(1))\n",
    "        self.normalize = normalize\n",
    "        self.stress = Stress(reduce=None)\n",
    "\n",
    "    def forward(self, batch):\n",
    "        return -self.stress(self.normalize(batch.pos, batch), batch)"
   ]
  },
  {
   "cell_type": "code",
   "execution_count": 20,
   "metadata": {
    "id": "IJ6xCYBUuhcw"
   },
   "outputs": [],
   "source": [
    "def get_ckpt_epoch(folder, epoch):\n",
    "    if not os.path.isdir(folder):\n",
    "        os.mkdir(folder)\n",
    "    if epoch >= 0:\n",
    "        return epoch\n",
    "    ckpt_files = os.listdir(folder)\n",
    "    last_epoch = 0\n",
    "    if ckpt_files:\n",
    "        last_epoch = sorted(list(map(lambda x: int(re.search('(?<=epoch_)(\\d+)(?=\\.)', x).group(1)), ckpt_files)))[-1]\n",
    "    return last_epoch + epoch + 1\n",
    "\n",
    "def start_epoch():\n",
    "    return get_ckpt_epoch(paths.checkpoints(), config.epoch.start)"
   ]
  },
  {
   "cell_type": "code",
   "execution_count": 21,
   "metadata": {
    "colab": {
     "base_uri": "https://localhost:8080/"
    },
    "id": "JacDYXka9U01",
    "outputId": "ef4e31ab-2144-497c-8e4f-4d3740ce2d52"
   },
   "outputs": [
    {
     "name": "stdout",
     "output_type": "stream",
     "text": [
      "Loading from artifacts/checkpoints/GAN(gan=rgan,data=best(xing,stress),dis=deep,share=10,embed=6,gp=0,lr=1e-3,decay=.98)/gen_epoch_992.pt...\n",
      "Loading from artifacts/checkpoints/GAN(gan=rgan,data=best(xing,stress),dis=deep,share=10,embed=6,gp=0,lr=1e-3,decay=.98)/gen_optim_epoch_992.pt...\n"
     ]
    }
   ],
   "source": [
    "generator = Generator(**config.generator.params[...]).to(device)\n",
    "generator_optimizer = config.generator.optim(generator.parameters(), lr=config.generator.lr.initial * config.generator.lr.decay ** start_epoch())\n",
    "generator_scheduler = torch.optim.lr_scheduler.ExponentialLR(generator_optimizer, gamma=config.generator.lr.decay)\n",
    "if start_epoch() != 0:\n",
    "    gen_ckpt_epoch = start_epoch()\n",
    "elif config.generator.pretrained.name is not None and config.generator.pretrained.epoch != 0:\n",
    "    gen_pretrained_epoch = get_ckpt_epoch(paths.gen_pretrain(), config.generator.pretrained.epoch)\n",
    "    gen_ckpt_epoch = gen_pretrained_epoch \n",
    "else:\n",
    "    gen_ckpt_epoch = None\n",
    "if gen_ckpt_epoch is not None:\n",
    "    # Load generator\n",
    "    gen_ckpt_file = f\"{paths.checkpoints()}/gen_epoch_{gen_ckpt_epoch}.pt\"\n",
    "    print(f\"Loading from {gen_ckpt_file}...\")\n",
    "    generator.load_state_dict(torch.load(gen_ckpt_file, map_location=torch.device(device)))\n",
    "    # Load generator optimizer\n",
    "    gen_optim_ckpt_file = f\"{paths.checkpoints()}/gen_optim_epoch_{gen_ckpt_epoch}.pt\"\n",
    "    print(f\"Loading from {gen_optim_ckpt_file}...\")\n",
    "    generator_optimizer.load_state_dict(torch.load(gen_optim_ckpt_file, map_location=torch.device(device)))"
   ]
  },
  {
   "cell_type": "code",
   "execution_count": 22,
   "metadata": {
    "colab": {
     "base_uri": "https://localhost:8080/"
    },
    "id": "oWQhD7-88VXe",
    "outputId": "3ba01600-b546-4e45-a6bd-c7a65af1ae9e"
   },
   "outputs": [
    {
     "name": "stdout",
     "output_type": "stream",
     "text": [
      "Loading from artifacts/checkpoints/GAN(gan=rgan,data=best(xing,stress),dis=deep,share=10,embed=6,gp=0,lr=1e-3,decay=.98)/dis_epoch_992.pt...\n",
      "Loading from artifacts/checkpoints/GAN(gan=rgan,data=best(xing,stress),dis=deep,share=10,embed=6,gp=0,lr=1e-3,decay=.98)/dis_optim_epoch_992.pt...\n"
     ]
    }
   ],
   "source": [
    "discriminator = EdgeFeatureDiscriminator(**config.discriminator.params[...]).to(device)\n",
    "discriminator_optimizer = config.discriminator.optim(discriminator.parameters(), lr=config.discriminator.lr.initial * config.discriminator.lr.decay ** start_epoch())\n",
    "discriminator_scheduler = torch.optim.lr_scheduler.ExponentialLR(discriminator_optimizer, gamma=config.discriminator.lr.decay)\n",
    "if start_epoch() != 0:\n",
    "    dis_ckpt_epoch = start_epoch()\n",
    "elif config.discriminator.pretrained.name is not None and config.discriminator.pretrained.epoch != 0:\n",
    "    dis_pretrained_epoch = get_ckpt_epoch(paths.dis_pretrain(), config.discriminator.pretrained.epoch)\n",
    "    dis_ckpt_epoch = dis_pretrained_epoch # f\"{paths.dis_pretrain()}/dis_epoch_{dis_pretrained_epoch}.pt\"\n",
    "else:\n",
    "    dis_ckpt_epoch = None\n",
    "if dis_ckpt_epoch is not None:\n",
    "    # Load discriminator\n",
    "    dis_ckpt_file = f\"{paths.checkpoints()}/dis_epoch_{dis_ckpt_epoch}.pt\"\n",
    "    print(f\"Loading from {dis_ckpt_file}...\")\n",
    "    discriminator.load_state_dict(torch.load(dis_ckpt_file, map_location=torch.device(device)))\n",
    "    # Load discriminator optimizer\n",
    "    dis_optim_ckpt_file = f\"{paths.checkpoints()}/dis_optim_epoch_{dis_ckpt_epoch}.pt\"\n",
    "    print(f\"Loading from {dis_optim_ckpt_file}...\")\n",
    "    discriminator_optimizer.load_state_dict(torch.load(dis_optim_ckpt_file, map_location=torch.device(device)))"
   ]
  },
  {
   "cell_type": "markdown",
   "metadata": {
    "id": "N39dDHraedM6"
   },
   "source": [
    "# Train"
   ]
  },
  {
   "cell_type": "code",
   "execution_count": 23,
   "metadata": {
    "id": "BdIJSDSJedM-"
   },
   "outputs": [],
   "source": [
    "stress_criterion = StressDiscriminator().to(device)\n",
    "val_criterion = Stress(reduce=None)\n",
    "xing_criterion = Xing(reduce=None)\n",
    "dis_convert = DiscriminatorDataConverter(complete_graph=config.discriminator.complete, normalize=config.discriminator.params.normalize)\n",
    "tensorboard = SummaryWriter(log_dir=paths.tensorboard())\n",
    "epoch = start_epoch() + 1"
   ]
  },
  {
   "cell_type": "code",
   "execution_count": 24,
   "metadata": {
    "id": "OHRWj1h0edM-"
   },
   "outputs": [],
   "source": [
    "def gradient_penalty(interpolated, discriminator, weight=10):\n",
    "    interpolated.pos.requires_grad_()\n",
    "    prob_interpolated = discriminator(interpolated)\n",
    "    gradients = autograd.grad(outputs=prob_interpolated, \n",
    "                              inputs=interpolated.pos,\n",
    "                              grad_outputs=torch.ones_like(prob_interpolated),\n",
    "                              create_graph=True, \n",
    "                              retain_graph=True, \n",
    "                              allow_unused=True)[0]\n",
    "    gradients_norm = torch.sqrt(gnn.global_add_pool(gradients.square().sum(dim=1), batch.batch) + 1e-8)\n",
    "    return weight * ((gradients_norm - 1) ** 2).mean()"
   ]
  },
  {
   "cell_type": "code",
   "execution_count": 25,
   "metadata": {
    "id": "o5wJJN9AedM_"
   },
   "outputs": [],
   "source": [
    "def get_gp_loss(batch, fake_pos, weight):\n",
    "    if weight > 0:\n",
    "        interp = dis_convert(batch, fake_pos, random.random())\n",
    "        return gradient_penalty(interp, discriminator, weight).mean()\n",
    "    return 0"
   ]
  },
  {
   "cell_type": "code",
   "execution_count": 26,
   "metadata": {
    "id": "QwuA6sRoedM_"
   },
   "outputs": [],
   "source": [
    "def get_sgan_loss(batch, fake_pos, mode='discriminator'):\n",
    "    real = dis_convert(batch)\n",
    "    fake = dis_convert(batch, fake_pos)\n",
    "    pred = discriminator(merge_batch(real, fake)).view(2, -1).T\n",
    "    if mode == 'discriminator':\n",
    "        label = torch.zeros(pred.shape[0]).long()\n",
    "    elif mode == 'generator':\n",
    "        label = torch.ones(pred.shape[0]).long()\n",
    "    else:\n",
    "        raise Exception\n",
    "    return nn.CrossEntropyLoss()(pred, label)"
   ]
  },
  {
   "cell_type": "code",
   "execution_count": 27,
   "metadata": {
    "id": "GuAP1YchedNA"
   },
   "outputs": [],
   "source": [
    "def get_rgan_loss(batch, fake_pos, mode='discriminator'):\n",
    "    real = dis_convert(batch)\n",
    "    fake = dis_convert(batch, fake_pos)\n",
    "    pred = discriminator(merge_batch(real, fake)).view(2, -1).T\n",
    "    real_pred, fake_pred = pred[:,0], pred[:,1]\n",
    "    if mode == 'discriminator':\n",
    "        losses = - F.logsigmoid(real_pred - fake_pred)\n",
    "    elif mode == 'generator':\n",
    "        losses = - F.logsigmoid(fake_pred - real_pred)\n",
    "    else:\n",
    "        raise Exception\n",
    "    return losses.mean()"
   ]
  },
  {
   "cell_type": "code",
   "execution_count": 28,
   "metadata": {
    "id": "KFllQ7BredNA"
   },
   "outputs": [],
   "source": [
    "def get_wgan_loss(batch, fake_pos, mode='discriminator'):\n",
    "    real = dis_convert(batch)\n",
    "    fake = dis_convert(batch, fake_pos)\n",
    "    pred = discriminator(merge_batch(real, fake)).view(2, -1).T\n",
    "    real_pred, fake_pred = pred[:,0], pred[:,1]\n",
    "    if mode == 'discriminator':\n",
    "        losses = fake_pred - real_pred \n",
    "    elif mode == 'generator':\n",
    "        losses = real_pred - fake_pred\n",
    "    else:\n",
    "        raise Exception\n",
    "    return losses.mean()"
   ]
  },
  {
   "cell_type": "code",
   "execution_count": 29,
   "metadata": {
    "id": "r5Kg_tYEedNA"
   },
   "outputs": [],
   "source": [
    "def get_ragan_loss(batch, fake_pos, mode='discriminator'):\n",
    "    real = dis_convert(batch)\n",
    "    fake = dis_convert(batch, fake_pos)\n",
    "    pred = discriminator(merge_batch(real, fake)).view(2, -1).T\n",
    "    real_pred, fake_pred = pred[:,0], pred[:,1]\n",
    "    if mode == 'discriminator':\n",
    "        losses = - F.logsigmoid(real_pred - fake_pred.mean()) - F.logsigmoid(real_pred.mean() - fake_pred)\n",
    "    elif mode == 'generator':\n",
    "        losses = - F.logsigmoid(fake_pred - real_pred.mean()) - F.logsigmoid(fake_pred.mean() - real_pred)\n",
    "    else:\n",
    "        raise Exception\n",
    "    return losses.mean()"
   ]
  },
  {
   "cell_type": "code",
   "execution_count": 30,
   "metadata": {},
   "outputs": [],
   "source": [
    "def get_dgdv2_loss(batch, fake_pos, mode='discriminator'):\n",
    "    fake = dis_convert(batch, fake_pos)\n",
    "    pred = discriminator(fake)\n",
    "    if mode == 'discriminator':\n",
    "        gt = get_gt(batch, fake_pos)\n",
    "        loss = criterion(pred, gt)\n",
    "    elif mode == 'generator':\n",
    "        losses = pred.sum(dim=0)\n",
    "#         losses = torch.tensor(config.importance).to(device) * losses #/ losses.detach()\n",
    "        loss = losses.sum()\n",
    "    else:\n",
    "        raise Exception\n",
    "    return -loss"
   ]
  },
  {
   "cell_type": "code",
   "execution_count": 31,
   "metadata": {
    "id": "3IE_84f-edNB"
   },
   "outputs": [],
   "source": [
    "def get_gan_loss(batch, fake_pos, mode='discriminator'):\n",
    "    return {\"sgan\": get_sgan_loss,\n",
    "            \"wgan\": get_wgan_loss,\n",
    "            \"rgan\": get_rgan_loss,\n",
    "            \"ragan\": get_ragan_loss,\n",
    "            \"dgdv2\": get_dgdv2_loss}[config.gan_flavor](batch, fake_pos, mode)"
   ]
  },
  {
   "cell_type": "code",
   "execution_count": 32,
   "metadata": {
    "colab": {
     "background_save": true,
     "base_uri": "https://localhost:8080/",
     "height": 80
    },
    "id": "2NjekXgkedNB",
    "outputId": "da85b2ec-c0de-459c-c0dd-7ba3519419fa",
    "scrolled": true,
    "tags": []
   },
   "outputs": [
    {
     "data": {
      "application/vnd.jupyter.widget-view+json": {
       "model_id": "091a346b5fa9420ea981d7a719e4d12d",
       "version_major": 2,
       "version_minor": 0
      },
      "text/plain": [
       "Tab(children=(VBox(children=(Wrapper(), Hud())), HBox(children=(Output(),), layout=Layout(height='500px', over…"
      ]
     },
     "metadata": {},
     "output_type": "display_data"
    },
    {
     "ename": "KeyboardInterrupt",
     "evalue": "",
     "output_type": "error",
     "traceback": [
      "\u001b[0;31m---------------------------------------------------------------------------\u001b[0m",
      "\u001b[0;31mKeyboardInterrupt\u001b[0m                         Traceback (most recent call last)",
      "\u001b[0;32m/tmp/slurmtmp.5715224/ipykernel_53145/801679965.py\u001b[0m in \u001b[0;36m<module>\u001b[0;34m\u001b[0m\n\u001b[1;32m    133\u001b[0m     \u001b[0;32mif\u001b[0m \u001b[0mconfig\u001b[0m\u001b[0;34m.\u001b[0m\u001b[0malternate\u001b[0m \u001b[0;34m==\u001b[0m \u001b[0;34m'epoch'\u001b[0m\u001b[0;34m:\u001b[0m\u001b[0;34m\u001b[0m\u001b[0;34m\u001b[0m\u001b[0m\n\u001b[1;32m    134\u001b[0m         \u001b[0;32mfor\u001b[0m \u001b[0mbatch\u001b[0m \u001b[0;32min\u001b[0m \u001b[0mtrain_loader\u001b[0m\u001b[0;34m:\u001b[0m\u001b[0;34m\u001b[0m\u001b[0;34m\u001b[0m\u001b[0m\n\u001b[0;32m--> 135\u001b[0;31m             \u001b[0mtrain_gen\u001b[0m\u001b[0;34m(\u001b[0m\u001b[0mbatch\u001b[0m\u001b[0;34m,\u001b[0m \u001b[0mepoch\u001b[0m\u001b[0;34m)\u001b[0m\u001b[0;34m\u001b[0m\u001b[0;34m\u001b[0m\u001b[0m\n\u001b[0m\u001b[1;32m    136\u001b[0m \u001b[0;34m\u001b[0m\u001b[0m\n\u001b[1;32m    137\u001b[0m     \u001b[0mdiscriminator_scheduler\u001b[0m\u001b[0;34m.\u001b[0m\u001b[0mstep\u001b[0m\u001b[0;34m(\u001b[0m\u001b[0;34m)\u001b[0m\u001b[0;34m\u001b[0m\u001b[0;34m\u001b[0m\u001b[0m\n",
      "\u001b[0;32m/tmp/slurmtmp.5715224/ipykernel_53145/801679965.py\u001b[0m in \u001b[0;36mtrain_gen\u001b[0;34m(batch, epoch)\u001b[0m\n\u001b[1;32m     28\u001b[0m     \u001b[0;32mif\u001b[0m \u001b[0mconfig\u001b[0m\u001b[0;34m.\u001b[0m\u001b[0mdiscriminator\u001b[0m\u001b[0;34m.\u001b[0m\u001b[0mnoise\u001b[0m\u001b[0;34m.\u001b[0m\u001b[0mstd\u001b[0m \u001b[0;34m>\u001b[0m \u001b[0;36m0\u001b[0m\u001b[0;34m:\u001b[0m\u001b[0;34m\u001b[0m\u001b[0;34m\u001b[0m\u001b[0m\n\u001b[1;32m     29\u001b[0m         \u001b[0mgenerator_output\u001b[0m \u001b[0;34m=\u001b[0m \u001b[0mgenerator_output\u001b[0m \u001b[0;34m+\u001b[0m \u001b[0mtorch\u001b[0m\u001b[0;34m.\u001b[0m\u001b[0mrandn_like\u001b[0m\u001b[0;34m(\u001b[0m\u001b[0mgenerator_output\u001b[0m\u001b[0;34m)\u001b[0m \u001b[0;34m*\u001b[0m \u001b[0mconfig\u001b[0m\u001b[0;34m.\u001b[0m\u001b[0mdiscriminator\u001b[0m\u001b[0;34m.\u001b[0m\u001b[0mnoise\u001b[0m\u001b[0;34m.\u001b[0m\u001b[0mstd\u001b[0m \u001b[0;34m*\u001b[0m \u001b[0mconfig\u001b[0m\u001b[0;34m.\u001b[0m\u001b[0mdiscriminator\u001b[0m\u001b[0;34m.\u001b[0m\u001b[0mnoise\u001b[0m\u001b[0;34m.\u001b[0m\u001b[0mdecay\u001b[0m \u001b[0;34m**\u001b[0m \u001b[0mepoch\u001b[0m\u001b[0;34m\u001b[0m\u001b[0;34m\u001b[0m\u001b[0m\n\u001b[0;32m---> 30\u001b[0;31m     \u001b[0mgenerator_loss\u001b[0m \u001b[0;34m=\u001b[0m \u001b[0mget_gan_loss\u001b[0m\u001b[0;34m(\u001b[0m\u001b[0mbatch\u001b[0m\u001b[0;34m,\u001b[0m \u001b[0mgenerator_output\u001b[0m\u001b[0;34m,\u001b[0m \u001b[0mmode\u001b[0m\u001b[0;34m=\u001b[0m\u001b[0;34m'generator'\u001b[0m\u001b[0;34m)\u001b[0m\u001b[0;34m\u001b[0m\u001b[0;34m\u001b[0m\u001b[0m\n\u001b[0m\u001b[1;32m     31\u001b[0m \u001b[0;34m\u001b[0m\u001b[0m\n\u001b[1;32m     32\u001b[0m     \u001b[0;31m#train generator\u001b[0m\u001b[0;34m\u001b[0m\u001b[0;34m\u001b[0m\u001b[0m\n",
      "\u001b[0;32m/tmp/slurmtmp.5715224/ipykernel_53145/4066978981.py\u001b[0m in \u001b[0;36mget_gan_loss\u001b[0;34m(batch, fake_pos, mode)\u001b[0m\n\u001b[1;32m      1\u001b[0m \u001b[0;32mdef\u001b[0m \u001b[0mget_gan_loss\u001b[0m\u001b[0;34m(\u001b[0m\u001b[0mbatch\u001b[0m\u001b[0;34m,\u001b[0m \u001b[0mfake_pos\u001b[0m\u001b[0;34m,\u001b[0m \u001b[0mmode\u001b[0m\u001b[0;34m=\u001b[0m\u001b[0;34m'discriminator'\u001b[0m\u001b[0;34m)\u001b[0m\u001b[0;34m:\u001b[0m\u001b[0;34m\u001b[0m\u001b[0;34m\u001b[0m\u001b[0m\n\u001b[0;32m----> 2\u001b[0;31m     return {\"sgan\": get_sgan_loss,\n\u001b[0m\u001b[1;32m      3\u001b[0m             \u001b[0;34m\"wgan\"\u001b[0m\u001b[0;34m:\u001b[0m \u001b[0mget_wgan_loss\u001b[0m\u001b[0;34m,\u001b[0m\u001b[0;34m\u001b[0m\u001b[0;34m\u001b[0m\u001b[0m\n\u001b[1;32m      4\u001b[0m             \u001b[0;34m\"rgan\"\u001b[0m\u001b[0;34m:\u001b[0m \u001b[0mget_rgan_loss\u001b[0m\u001b[0;34m,\u001b[0m\u001b[0;34m\u001b[0m\u001b[0;34m\u001b[0m\u001b[0m\n\u001b[1;32m      5\u001b[0m             \u001b[0;34m\"ragan\"\u001b[0m\u001b[0;34m:\u001b[0m \u001b[0mget_ragan_loss\u001b[0m\u001b[0;34m,\u001b[0m\u001b[0;34m\u001b[0m\u001b[0;34m\u001b[0m\u001b[0m\n",
      "\u001b[0;32m/tmp/slurmtmp.5715224/ipykernel_53145/3696265815.py\u001b[0m in \u001b[0;36mget_rgan_loss\u001b[0;34m(batch, fake_pos, mode)\u001b[0m\n\u001b[1;32m      1\u001b[0m \u001b[0;32mdef\u001b[0m \u001b[0mget_rgan_loss\u001b[0m\u001b[0;34m(\u001b[0m\u001b[0mbatch\u001b[0m\u001b[0;34m,\u001b[0m \u001b[0mfake_pos\u001b[0m\u001b[0;34m,\u001b[0m \u001b[0mmode\u001b[0m\u001b[0;34m=\u001b[0m\u001b[0;34m'discriminator'\u001b[0m\u001b[0;34m)\u001b[0m\u001b[0;34m:\u001b[0m\u001b[0;34m\u001b[0m\u001b[0;34m\u001b[0m\u001b[0m\n\u001b[0;32m----> 2\u001b[0;31m     \u001b[0mreal\u001b[0m \u001b[0;34m=\u001b[0m \u001b[0mdis_convert\u001b[0m\u001b[0;34m(\u001b[0m\u001b[0mbatch\u001b[0m\u001b[0;34m)\u001b[0m\u001b[0;34m\u001b[0m\u001b[0;34m\u001b[0m\u001b[0m\n\u001b[0m\u001b[1;32m      3\u001b[0m     \u001b[0mfake\u001b[0m \u001b[0;34m=\u001b[0m \u001b[0mdis_convert\u001b[0m\u001b[0;34m(\u001b[0m\u001b[0mbatch\u001b[0m\u001b[0;34m,\u001b[0m \u001b[0mfake_pos\u001b[0m\u001b[0;34m)\u001b[0m\u001b[0;34m\u001b[0m\u001b[0;34m\u001b[0m\u001b[0m\n\u001b[1;32m      4\u001b[0m     \u001b[0mpred\u001b[0m \u001b[0;34m=\u001b[0m \u001b[0mdiscriminator\u001b[0m\u001b[0;34m(\u001b[0m\u001b[0mmerge_batch\u001b[0m\u001b[0;34m(\u001b[0m\u001b[0mreal\u001b[0m\u001b[0;34m,\u001b[0m \u001b[0mfake\u001b[0m\u001b[0;34m)\u001b[0m\u001b[0;34m)\u001b[0m\u001b[0;34m.\u001b[0m\u001b[0mview\u001b[0m\u001b[0;34m(\u001b[0m\u001b[0;36m2\u001b[0m\u001b[0;34m,\u001b[0m \u001b[0;34m-\u001b[0m\u001b[0;36m1\u001b[0m\u001b[0;34m)\u001b[0m\u001b[0;34m.\u001b[0m\u001b[0mT\u001b[0m\u001b[0;34m\u001b[0m\u001b[0;34m\u001b[0m\u001b[0m\n\u001b[1;32m      5\u001b[0m     \u001b[0mreal_pred\u001b[0m\u001b[0;34m,\u001b[0m \u001b[0mfake_pred\u001b[0m \u001b[0;34m=\u001b[0m \u001b[0mpred\u001b[0m\u001b[0;34m[\u001b[0m\u001b[0;34m:\u001b[0m\u001b[0;34m,\u001b[0m\u001b[0;36m0\u001b[0m\u001b[0;34m]\u001b[0m\u001b[0;34m,\u001b[0m \u001b[0mpred\u001b[0m\u001b[0;34m[\u001b[0m\u001b[0;34m:\u001b[0m\u001b[0;34m,\u001b[0m\u001b[0;36m1\u001b[0m\u001b[0;34m]\u001b[0m\u001b[0;34m\u001b[0m\u001b[0;34m\u001b[0m\u001b[0m\n",
      "\u001b[0;32m~/.conda/envs/deepgd/lib/python3.9/site-packages/torch/nn/modules/module.py\u001b[0m in \u001b[0;36m_call_impl\u001b[0;34m(self, *input, **kwargs)\u001b[0m\n\u001b[1;32m   1049\u001b[0m         if not (self._backward_hooks or self._forward_hooks or self._forward_pre_hooks or _global_backward_hooks\n\u001b[1;32m   1050\u001b[0m                 or _global_forward_hooks or _global_forward_pre_hooks):\n\u001b[0;32m-> 1051\u001b[0;31m             \u001b[0;32mreturn\u001b[0m \u001b[0mforward_call\u001b[0m\u001b[0;34m(\u001b[0m\u001b[0;34m*\u001b[0m\u001b[0minput\u001b[0m\u001b[0;34m,\u001b[0m \u001b[0;34m**\u001b[0m\u001b[0mkwargs\u001b[0m\u001b[0;34m)\u001b[0m\u001b[0;34m\u001b[0m\u001b[0;34m\u001b[0m\u001b[0m\n\u001b[0m\u001b[1;32m   1052\u001b[0m         \u001b[0;31m# Do not call functions when jit is used\u001b[0m\u001b[0;34m\u001b[0m\u001b[0;34m\u001b[0m\u001b[0m\n\u001b[1;32m   1053\u001b[0m         \u001b[0mfull_backward_hooks\u001b[0m\u001b[0;34m,\u001b[0m \u001b[0mnon_full_backward_hooks\u001b[0m \u001b[0;34m=\u001b[0m \u001b[0;34m[\u001b[0m\u001b[0;34m]\u001b[0m\u001b[0;34m,\u001b[0m \u001b[0;34m[\u001b[0m\u001b[0;34m]\u001b[0m\u001b[0;34m\u001b[0m\u001b[0;34m\u001b[0m\u001b[0m\n",
      "\u001b[0;32m~/deepgd/deepgd/data.py\u001b[0m in \u001b[0;36mforward\u001b[0;34m(self, data, pos, interpolate)\u001b[0m\n\u001b[1;32m    531\u001b[0m         \u001b[0;32melse\u001b[0m\u001b[0;34m:\u001b[0m\u001b[0;34m\u001b[0m\u001b[0;34m\u001b[0m\u001b[0m\n\u001b[1;32m    532\u001b[0m             \u001b[0mdis_data\u001b[0m\u001b[0;34m.\u001b[0m\u001b[0medge_index\u001b[0m \u001b[0;34m=\u001b[0m \u001b[0mdis_data\u001b[0m\u001b[0;34m.\u001b[0m\u001b[0mraw_edge_index\u001b[0m\u001b[0;34m\u001b[0m\u001b[0;34m\u001b[0m\u001b[0m\n\u001b[0;32m--> 533\u001b[0;31m         \u001b[0mdis_data\u001b[0m\u001b[0;34m.\u001b[0m\u001b[0mpos\u001b[0m \u001b[0;34m=\u001b[0m \u001b[0mself\u001b[0m\u001b[0;34m.\u001b[0m\u001b[0mnormalize\u001b[0m\u001b[0;34m(\u001b[0m\u001b[0mdis_data\u001b[0m\u001b[0;34m.\u001b[0m\u001b[0mgt_pos\u001b[0m\u001b[0;34m,\u001b[0m \u001b[0mdis_data\u001b[0m\u001b[0;34m)\u001b[0m\u001b[0;34m\u001b[0m\u001b[0;34m\u001b[0m\u001b[0m\n\u001b[0m\u001b[1;32m    534\u001b[0m         \u001b[0;32mif\u001b[0m \u001b[0mpos\u001b[0m \u001b[0;32mis\u001b[0m \u001b[0;32mnot\u001b[0m \u001b[0;32mNone\u001b[0m\u001b[0;34m:\u001b[0m\u001b[0;34m\u001b[0m\u001b[0;34m\u001b[0m\u001b[0m\n\u001b[1;32m    535\u001b[0m             \u001b[0mpos\u001b[0m \u001b[0;34m=\u001b[0m \u001b[0mself\u001b[0m\u001b[0;34m.\u001b[0m\u001b[0mnormalize\u001b[0m\u001b[0;34m(\u001b[0m\u001b[0mpos\u001b[0m\u001b[0;34m,\u001b[0m \u001b[0mdis_data\u001b[0m\u001b[0;34m)\u001b[0m\u001b[0;34m\u001b[0m\u001b[0;34m\u001b[0m\u001b[0m\n",
      "\u001b[0;32m~/.conda/envs/deepgd/lib/python3.9/site-packages/torch/nn/modules/module.py\u001b[0m in \u001b[0;36m_call_impl\u001b[0;34m(self, *input, **kwargs)\u001b[0m\n\u001b[1;32m   1049\u001b[0m         if not (self._backward_hooks or self._forward_hooks or self._forward_pre_hooks or _global_backward_hooks\n\u001b[1;32m   1050\u001b[0m                 or _global_forward_hooks or _global_forward_pre_hooks):\n\u001b[0;32m-> 1051\u001b[0;31m             \u001b[0;32mreturn\u001b[0m \u001b[0mforward_call\u001b[0m\u001b[0;34m(\u001b[0m\u001b[0;34m*\u001b[0m\u001b[0minput\u001b[0m\u001b[0;34m,\u001b[0m \u001b[0;34m**\u001b[0m\u001b[0mkwargs\u001b[0m\u001b[0;34m)\u001b[0m\u001b[0;34m\u001b[0m\u001b[0;34m\u001b[0m\u001b[0m\n\u001b[0m\u001b[1;32m   1052\u001b[0m         \u001b[0;31m# Do not call functions when jit is used\u001b[0m\u001b[0;34m\u001b[0m\u001b[0;34m\u001b[0m\u001b[0m\n\u001b[1;32m   1053\u001b[0m         \u001b[0mfull_backward_hooks\u001b[0m\u001b[0;34m,\u001b[0m \u001b[0mnon_full_backward_hooks\u001b[0m \u001b[0;34m=\u001b[0m \u001b[0;34m[\u001b[0m\u001b[0;34m]\u001b[0m\u001b[0;34m,\u001b[0m \u001b[0;34m[\u001b[0m\u001b[0;34m]\u001b[0m\u001b[0;34m\u001b[0m\u001b[0;34m\u001b[0m\u001b[0m\n",
      "\u001b[0;32m~/deepgd/deepgd/transform.py\u001b[0m in \u001b[0;36mforward\u001b[0;34m(self, pos, data)\u001b[0m\n\u001b[1;32m    151\u001b[0m         \u001b[0mbatch\u001b[0m \u001b[0;34m=\u001b[0m \u001b[0mmake_batch\u001b[0m\u001b[0;34m(\u001b[0m\u001b[0mdata\u001b[0m\u001b[0;34m)\u001b[0m\u001b[0;34m\u001b[0m\u001b[0;34m\u001b[0m\u001b[0m\n\u001b[1;32m    152\u001b[0m         \u001b[0mpos\u001b[0m \u001b[0;34m=\u001b[0m \u001b[0mself\u001b[0m\u001b[0;34m.\u001b[0m\u001b[0mtranslate\u001b[0m\u001b[0;34m(\u001b[0m\u001b[0mpos\u001b[0m\u001b[0;34m,\u001b[0m \u001b[0mbatch\u001b[0m\u001b[0;34m)\u001b[0m\u001b[0;34m\u001b[0m\u001b[0;34m\u001b[0m\u001b[0m\n\u001b[0;32m--> 153\u001b[0;31m         \u001b[0mpos\u001b[0m \u001b[0;34m=\u001b[0m \u001b[0mself\u001b[0m\u001b[0;34m.\u001b[0m\u001b[0mrotate\u001b[0m\u001b[0;34m(\u001b[0m\u001b[0mpos\u001b[0m\u001b[0;34m,\u001b[0m \u001b[0mbatch\u001b[0m\u001b[0;34m)\u001b[0m\u001b[0;34m\u001b[0m\u001b[0;34m\u001b[0m\u001b[0m\n\u001b[0m\u001b[1;32m    154\u001b[0m         \u001b[0mpos\u001b[0m \u001b[0;34m=\u001b[0m \u001b[0mself\u001b[0m\u001b[0;34m.\u001b[0m\u001b[0mnormalize\u001b[0m\u001b[0;34m(\u001b[0m\u001b[0mpos\u001b[0m\u001b[0;34m,\u001b[0m \u001b[0mbatch\u001b[0m\u001b[0;34m)\u001b[0m\u001b[0;34m\u001b[0m\u001b[0;34m\u001b[0m\u001b[0m\n\u001b[1;32m    155\u001b[0m         \u001b[0mpos\u001b[0m \u001b[0;34m=\u001b[0m \u001b[0mself\u001b[0m\u001b[0;34m.\u001b[0m\u001b[0mscale\u001b[0m\u001b[0;34m(\u001b[0m\u001b[0mpos\u001b[0m\u001b[0;34m,\u001b[0m \u001b[0mbatch\u001b[0m\u001b[0;34m)\u001b[0m\u001b[0;34m\u001b[0m\u001b[0;34m\u001b[0m\u001b[0m\n",
      "\u001b[0;32m~/.conda/envs/deepgd/lib/python3.9/site-packages/torch/nn/modules/module.py\u001b[0m in \u001b[0;36m_call_impl\u001b[0;34m(self, *input, **kwargs)\u001b[0m\n\u001b[1;32m   1049\u001b[0m         if not (self._backward_hooks or self._forward_hooks or self._forward_pre_hooks or _global_backward_hooks\n\u001b[1;32m   1050\u001b[0m                 or _global_forward_hooks or _global_forward_pre_hooks):\n\u001b[0;32m-> 1051\u001b[0;31m             \u001b[0;32mreturn\u001b[0m \u001b[0mforward_call\u001b[0m\u001b[0;34m(\u001b[0m\u001b[0;34m*\u001b[0m\u001b[0minput\u001b[0m\u001b[0;34m,\u001b[0m \u001b[0;34m**\u001b[0m\u001b[0mkwargs\u001b[0m\u001b[0;34m)\u001b[0m\u001b[0;34m\u001b[0m\u001b[0;34m\u001b[0m\u001b[0m\n\u001b[0m\u001b[1;32m   1052\u001b[0m         \u001b[0;31m# Do not call functions when jit is used\u001b[0m\u001b[0;34m\u001b[0m\u001b[0;34m\u001b[0m\u001b[0m\n\u001b[1;32m   1053\u001b[0m         \u001b[0mfull_backward_hooks\u001b[0m\u001b[0;34m,\u001b[0m \u001b[0mnon_full_backward_hooks\u001b[0m \u001b[0;34m=\u001b[0m \u001b[0;34m[\u001b[0m\u001b[0;34m]\u001b[0m\u001b[0;34m,\u001b[0m \u001b[0;34m[\u001b[0m\u001b[0;34m]\u001b[0m\u001b[0;34m\u001b[0m\u001b[0;34m\u001b[0m\u001b[0m\n",
      "\u001b[0;32m~/deepgd/deepgd/transform.py\u001b[0m in \u001b[0;36mforward\u001b[0;34m(self, pos, data)\u001b[0m\n\u001b[1;32m     51\u001b[0m         \u001b[0mXXT\u001b[0m \u001b[0;34m=\u001b[0m \u001b[0mtorch\u001b[0m\u001b[0;34m.\u001b[0m\u001b[0meinsum\u001b[0m\u001b[0;34m(\u001b[0m\u001b[0;34m'ni,nj->nij'\u001b[0m\u001b[0;34m,\u001b[0m \u001b[0mpos\u001b[0m\u001b[0;34m,\u001b[0m \u001b[0mpos\u001b[0m\u001b[0;34m)\u001b[0m\u001b[0;34m\u001b[0m\u001b[0;34m\u001b[0m\u001b[0m\n\u001b[1;32m     52\u001b[0m         \u001b[0mcov\u001b[0m \u001b[0;34m=\u001b[0m \u001b[0mtorch_scatter\u001b[0m\u001b[0;34m.\u001b[0m\u001b[0mscatter\u001b[0m\u001b[0;34m(\u001b[0m\u001b[0mXXT\u001b[0m\u001b[0;34m,\u001b[0m \u001b[0mbatch\u001b[0m\u001b[0;34m.\u001b[0m\u001b[0mbatch\u001b[0m\u001b[0;34m,\u001b[0m \u001b[0mdim\u001b[0m\u001b[0;34m=\u001b[0m\u001b[0;36m0\u001b[0m\u001b[0;34m,\u001b[0m \u001b[0mreduce\u001b[0m\u001b[0;34m=\u001b[0m\u001b[0;34m'mean'\u001b[0m\u001b[0;34m)\u001b[0m\u001b[0;34m\u001b[0m\u001b[0;34m\u001b[0m\u001b[0m\n\u001b[0;32m---> 53\u001b[0;31m         \u001b[0mcomponents\u001b[0m \u001b[0;34m=\u001b[0m \u001b[0mtorch\u001b[0m\u001b[0;34m.\u001b[0m\u001b[0mlinalg\u001b[0m\u001b[0;34m.\u001b[0m\u001b[0meigh\u001b[0m\u001b[0;34m(\u001b[0m\u001b[0mcov\u001b[0m\u001b[0;34m)\u001b[0m\u001b[0;34m.\u001b[0m\u001b[0meigenvectors\u001b[0m\u001b[0;34m\u001b[0m\u001b[0;34m\u001b[0m\u001b[0m\n\u001b[0m\u001b[1;32m     54\u001b[0m         rotated_pos = torch.einsum('ij,njk,nk->ni', \n\u001b[1;32m     55\u001b[0m                                    \u001b[0mself\u001b[0m\u001b[0;34m.\u001b[0m\u001b[0mbase_rotation\u001b[0m\u001b[0;34m.\u001b[0m\u001b[0mto\u001b[0m\u001b[0;34m(\u001b[0m\u001b[0mpos\u001b[0m\u001b[0;34m.\u001b[0m\u001b[0mdevice\u001b[0m\u001b[0;34m)\u001b[0m\u001b[0;34m,\u001b[0m\u001b[0;34m\u001b[0m\u001b[0;34m\u001b[0m\u001b[0m\n",
      "\u001b[0;31mKeyboardInterrupt\u001b[0m: "
     ]
    }
   ],
   "source": [
    "def train_dis(batch, epoch):\n",
    "    generator.requires_grad_(False)\n",
    "    discriminator.zero_grad()\n",
    "    generator_output = generator(batch)\n",
    "    if config.discriminator.noise.std > 0:\n",
    "        generator_output = generator_output + torch.randn_like(generator_output) * config.discriminator.noise.std * config.discriminator.noise.decay ** epoch\n",
    "    discriminator_loss = get_gan_loss(batch, generator_output, mode='discriminator')\n",
    "    \n",
    "    # train discriminator\n",
    "    discriminator_loss.backward()\n",
    "    discriminator_optimizer.step()\n",
    "\n",
    "    # gradient penalty\n",
    "    if config.gp_weight > 0:\n",
    "        discriminator.zero_grad()\n",
    "        gp_loss = get_gp_loss(batch, generator_output, config.gp_weight)\n",
    "        gp_loss.backward()\n",
    "        discriminator_optimizer.step()\n",
    "\n",
    "    hud['dis_loss'] = format(discriminator_loss.item(), '.2e')\n",
    "    pbar().update()\n",
    "\n",
    "def train_gen(batch, epoch):\n",
    "    generator.requires_grad_(True)\n",
    "    generator.zero_grad()\n",
    "    discriminator.zero_grad()\n",
    "    generator_output = generator(batch)\n",
    "    if config.discriminator.noise.std > 0:\n",
    "        generator_output = generator_output + torch.randn_like(generator_output) * config.discriminator.noise.std * config.discriminator.noise.decay ** epoch\n",
    "    generator_loss = get_gan_loss(batch, generator_output, mode='generator') \n",
    "    \n",
    "    #train generator\n",
    "    generator_loss.backward()\n",
    "    generator_optimizer.step()\n",
    "\n",
    "    with torch.no_grad():\n",
    "        dis_batch = dis_convert(batch, generator_output)\n",
    "        stress = stress_criterion(dis_batch).mean()\n",
    "        critic = discriminator(dis_batch).mean()\n",
    "    hud.append({'gen_loss': format(generator_loss.item(), '.2e'),\n",
    "                'stress': format(stress.item(), '.2e'),\n",
    "                'critic': format(critic.item(), '.2e')})\n",
    "    pbar().update()\n",
    "\n",
    "def cuda_memsafe_map(fn, *iterables, summary=False):\n",
    "    total, failed = 0, 0\n",
    "    iterator = zip(*iterables)\n",
    "    items = None\n",
    "    while True:\n",
    "        try:\n",
    "            items = next(iterator)\n",
    "            yield fn(*items)\n",
    "        except StopIteration:\n",
    "            if summary:\n",
    "                print(f'Iteration finished. {failed} out of {total} failed!')\n",
    "            break\n",
    "        except RuntimeError:\n",
    "            print('CUDA memory overflow! Skip batch...')\n",
    "            del items\n",
    "            failed += 1\n",
    "        torch.cuda.empty_cache()\n",
    "        total += 1\n",
    "    \n",
    "def validate(model, data_loader, criterion=val_criterion):\n",
    "    def val_one_batch(batch):\n",
    "        batch = preprocess_batch(model, batch)\n",
    "        pred = CanonicalizationByStress()(model(batch), batch)\n",
    "        gt = CanonicalizationByStress()(batch.gt_pos, batch)\n",
    "        loss = criterion(pred, batch)\n",
    "        gt_loss = criterion(gt, batch)\n",
    "        spc = (loss - gt_loss) / torch.maximum(torch.maximum(loss, gt_loss), torch.ones_like(loss)*1e-5)\n",
    "        return loss.mean().item(), spc.mean().item()\n",
    "    loss_all, spc_all = zip(*cuda_memsafe_map(val_one_batch, data_loader))\n",
    "    return np.mean(loss_all), np.mean(spc_all)\n",
    "\n",
    "def log(msg):\n",
    "    msg = f\"[{epoch:03}] {msg}\"\n",
    "    print(msg, file=open(paths.log(), \"a\"))\n",
    "    with log_out: \n",
    "        print(msg)\n",
    "\n",
    "print(f\"{'='*10} {config.link} {'='*10}\", file=open(paths.log(), \"a\"))\n",
    "hud = Hud()\n",
    "pbar = Wrapper(tqdm, total=len(train_loader)*2, smoothing=0)\n",
    "plot_out = Output()\n",
    "log_out = Output()\n",
    "tabs = {\"status\": VBox([pbar, hud]), \n",
    "        \"plot\": HBox([plot_out], layout=Layout(height='500px', overflow_y='auto')),\n",
    "        \"log\": HBox([log_out], layout=Layout(height='500px', overflow_y='auto'))}\n",
    "tab_bar = Tab(children=list(tabs.values()))\n",
    "[tab_bar.set_title(i, name) for i, name in enumerate(tabs)]\n",
    "display(tab_bar)\n",
    "while True:\n",
    "    if epoch % config.log_interval == 0:\n",
    "        torch.save(generator.state_dict(), f\"{paths.checkpoints()}/gen_epoch_{epoch}.pt\")\n",
    "        torch.save(generator_optimizer.state_dict(), f\"{paths.checkpoints()}/gen_optim_epoch_{epoch}.pt\")\n",
    "        torch.save(discriminator.state_dict(), f\"{paths.checkpoints()}/dis_epoch_{epoch}.pt\")\n",
    "        torch.save(discriminator_optimizer.state_dict(), f\"{paths.checkpoints()}/dis_optim_epoch_{epoch}.pt\")\n",
    "        generator.eval()\n",
    "        with torch.no_grad():\n",
    "            val_stress, val_stress_spc = validate(model=generator, data_loader=val_loader)\n",
    "            val_xing, val_xing_spc = validate(model=generator, data_loader=val_loader, criterion=xing_criterion)\n",
    "            with plot_out:\n",
    "                fig = plt.figure()\n",
    "                graph_vis(G_list[11100], generator(make_batch(data_list[11100]).to(device)).cpu())\n",
    "                plt.show()\n",
    "        # tensorboard.add_scalars('loss', {'train': train_loss, \n",
    "        #                                  'validation': val_loss}, epoch)\n",
    "        # for i, fn in enumerate(loss_fns):\n",
    "        #     tensorboard.add_scalars(type(fn).__name__, {'train': train_loss_comp[i].item(), \n",
    "        #                                           'validation': val_loss_comp[i].item()}, epoch)\n",
    "        hud.append({\n",
    "            'val_stress': format(val_stress, '.2f'),\n",
    "            'val_stress_spc': format(val_stress_spc, '.2%'),\n",
    "            'val_xing': format(val_xing, '.2f'),\n",
    "            'val_xing_spc': format(val_xing_spc, '.2%'),\n",
    "        })\n",
    "        log(f\"stress={hud.data['val_stress']}({hud.data['val_stress_spc']}) xing={hud.data['val_xing']}({hud.data['val_xing_spc']})\")\n",
    "        \n",
    "    # handle.update(tab_bar)\n",
    "    pbar().reset()\n",
    "    pbar().set_description(desc=f\"[epoch {epoch}/{config.epoch.end}]\")\n",
    "    hud(title=f\"epoch {epoch}\")\n",
    "    generator.train()\n",
    "    discriminator.train()\n",
    "    # proper: proper layout\n",
    "    for _ in range(config.discriminator.repeat):\n",
    "        for batch in train_loader:\n",
    "            train_dis(batch, epoch)\n",
    "            if config.alternate == 'iteration':\n",
    "                train_gen(batch, epoch)\n",
    "\n",
    "    if config.alternate == 'epoch':\n",
    "        for batch in train_loader:\n",
    "            train_gen(batch, epoch)\n",
    "\n",
    "    discriminator_scheduler.step()\n",
    "    generator_scheduler.step()\n",
    "\n",
    "    if epoch == config.epoch.end:\n",
    "        break\n",
    "    epoch += 1"
   ]
  },
  {
   "cell_type": "markdown",
   "metadata": {
    "id": "0qYK_X_hrq9o"
   },
   "source": [
    "# Test"
   ]
  },
  {
   "cell_type": "code",
   "execution_count": 33,
   "metadata": {
    "colab": {
     "base_uri": "https://localhost:8080/"
    },
    "id": "XEvmAtNjWhcY",
    "outputId": "9f4c86a4-a4b0-48f1-cb58-ab3679173184"
   },
   "outputs": [
    {
     "name": "stdout",
     "output_type": "stream",
     "text": [
      "Loading from artifacts/checkpoints/GAN(gan=rgan,data=best(xing,stress),dis=deep,share=10,embed=6,gp=0,lr=1e-3,decay=.98)/gen_epoch_993.pt...\n"
     ]
    },
    {
     "data": {
      "text/plain": [
       "<All keys matched successfully>"
      ]
     },
     "execution_count": 33,
     "metadata": {},
     "output_type": "execute_result"
    }
   ],
   "source": [
    "test_epoch = -1\n",
    "\n",
    "test_generator = Generator(**config.generator.params[...]).to(device)\n",
    "test_ckpt_epoch = get_ckpt_epoch(paths.checkpoints(), test_epoch)\n",
    "test_ckpt_file = f\"{paths.checkpoints()}/gen_epoch_{test_ckpt_epoch}.pt\"\n",
    "print(f\"Loading from {test_ckpt_file}...\")\n",
    "test_generator.load_state_dict(torch.load(test_ckpt_file, map_location=torch.device(device)))"
   ]
  },
  {
   "cell_type": "code",
   "execution_count": 34,
   "metadata": {
    "colab": {
     "background_save": true,
     "base_uri": "https://localhost:8080/",
     "height": 1000,
     "referenced_widgets": [
      "9b7d18992dbf4a84931f916fbaaa37d8",
      "2c664d7e1e6d474fb87094fc0da270d3",
      "d375f5f82a4645d7b29c541596dc1c7f",
      "ecfa311bb06b4f6fa504598263ff69d3",
      "d1859990877149eab2b414b4e2a0e0c7",
      "d2be6733734844bca3e1db9b49eb1c1e",
      "4d98072bdf674792a13d77e85dd285d1",
      "f7ed92c383d741a0a1cef2536ff2db13",
      "2ba110f835c64ec4b82974996aed10af",
      "09397ceac9014af0aebca848d4d96d48",
      "fd0709f48d6c4527bc00b5f407f3c1b9"
     ]
    },
    "id": "ZubmSTcYrq9o",
    "outputId": "fc2f65a2-2085-43ac-b110-cbfe742318a8",
    "scrolled": true,
    "tags": []
   },
   "outputs": [
    {
     "data": {
      "application/vnd.jupyter.widget-view+json": {
       "model_id": "11b40f9e0a82476caae279a56882900c",
       "version_major": 2,
       "version_minor": 0
      },
      "text/plain": [
       "  0%|          | 0/1000 [00:00<?, ?it/s]"
      ]
     },
     "metadata": {},
     "output_type": "display_data"
    }
   ],
   "source": [
    "rotate = RotateByPrincipalComponents()\n",
    "def test_callback(*, idx, pred, metrics):\n",
    "    # graph_vis(G_list[idx], pred, file_name=f\"{paths.visualization()}/{idx}_{metrics['stress']:.2f}_{metrics['resolution_score']:.2f}.png\")\n",
    "    pred = rotate(torch.tensor(pred), data_list[idx])\n",
    "    graph_vis(G_list[idx], pred)\n",
    "    plt.title(f\"[pred] idx: {idx}, stress: {metrics['stress']:.2f}({metrics['stress_spc']:.2%}), xing: {metrics['xing']:.2f}({metrics['xing_spc']:.2%})\")\n",
    "    plt.show()\n",
    "    gt_pos = rotate(data_list[idx].gt_pos, data_list[idx])\n",
    "    graph_vis(G_list[idx], gt_pos, node_color='orange')\n",
    "    plt.title(f\"[gt] idx: {idx}, stress: {metrics['gt_stress']:.2f}, xing: {metrics['gt_xing']:.2f}\")\n",
    "    plt.show()\n",
    "    \n",
    "test_metrics = test(model=test_generator, \n",
    "                    criteria_list=[], \n",
    "                    dataset=data_list, \n",
    "                    idx_range=range(10000, 11000), \n",
    "#                     callback=test_callback,\n",
    "                    gt_pos=None)\n",
    "pickle.dump(test_metrics, open(paths.metrics(\"test\"), \"wb\"))"
   ]
  },
  {
   "cell_type": "code",
   "execution_count": 35,
   "metadata": {
    "colab": {
     "base_uri": "https://localhost:8080/",
     "height": 318
    },
    "id": "t2rFXIr_PsrJ",
    "outputId": "6a4205b1-4630-4de4-ec72-bdba3d3ea114"
   },
   "outputs": [
    {
     "name": "stdout",
     "output_type": "stream",
     "text": [
      "stress: tensor(335.2422)\n",
      "stress_spc: tensor(0.0748, dtype=torch.float64)\n",
      "xing: tensor(27.4890)\n",
      "xing_spc: tensor(0.1758, dtype=torch.float64)\n",
      "l1_angle: tensor(79.4467)\n",
      "l1_angle_spc: tensor(0.0370, dtype=torch.float64)\n",
      "edge: tensor(0.1702)\n",
      "edge_spc: tensor(0.1851, dtype=torch.float64)\n",
      "ring: tensor(256.3890)\n",
      "ring_spc: tensor(0.0080, dtype=torch.float64)\n",
      "tsne: tensor(0.2048)\n",
      "tsne_spc: tensor(0.0858, dtype=torch.float64)\n",
      "reso_score: tensor(0.6058)\n",
      "min_angle: tensor(5.8207)\n"
     ]
    },
    {
     "data": {
      "text/html": [
       "<style type=\"text/css\">\n",
       "</style>\n",
       "<table id=\"T_c6185_\">\n",
       "  <thead>\n",
       "    <tr>\n",
       "      <th class=\"blank level0\" >&nbsp;</th>\n",
       "      <th class=\"col_heading level0 col0\" >stress</th>\n",
       "      <th class=\"col_heading level0 col1\" >stress_spc</th>\n",
       "      <th class=\"col_heading level0 col2\" >xing</th>\n",
       "      <th class=\"col_heading level0 col3\" >xing_spc</th>\n",
       "      <th class=\"col_heading level0 col4\" >l1_angle</th>\n",
       "      <th class=\"col_heading level0 col5\" >l1_angle_spc</th>\n",
       "      <th class=\"col_heading level0 col6\" >edge</th>\n",
       "      <th class=\"col_heading level0 col7\" >edge_spc</th>\n",
       "      <th class=\"col_heading level0 col8\" >ring</th>\n",
       "      <th class=\"col_heading level0 col9\" >ring_spc</th>\n",
       "      <th class=\"col_heading level0 col10\" >tsne</th>\n",
       "      <th class=\"col_heading level0 col11\" >tsne_spc</th>\n",
       "      <th class=\"col_heading level0 col12\" >reso_score</th>\n",
       "      <th class=\"col_heading level0 col13\" >min_angle</th>\n",
       "    </tr>\n",
       "  </thead>\n",
       "  <tbody>\n",
       "    <tr>\n",
       "      <th id=\"T_c6185_level0_row0\" class=\"row_heading level0 row0\" >0</th>\n",
       "      <td id=\"T_c6185_row0_col0\" class=\"data row0 col0\" >335.24</td>\n",
       "      <td id=\"T_c6185_row0_col1\" class=\"data row0 col1\" >7.48%</td>\n",
       "      <td id=\"T_c6185_row0_col2\" class=\"data row0 col2\" >27.49</td>\n",
       "      <td id=\"T_c6185_row0_col3\" class=\"data row0 col3\" >17.58%</td>\n",
       "      <td id=\"T_c6185_row0_col4\" class=\"data row0 col4\" >79.45</td>\n",
       "      <td id=\"T_c6185_row0_col5\" class=\"data row0 col5\" >3.70%</td>\n",
       "      <td id=\"T_c6185_row0_col6\" class=\"data row0 col6\" >0.17</td>\n",
       "      <td id=\"T_c6185_row0_col7\" class=\"data row0 col7\" >18.51%</td>\n",
       "      <td id=\"T_c6185_row0_col8\" class=\"data row0 col8\" >256.39</td>\n",
       "      <td id=\"T_c6185_row0_col9\" class=\"data row0 col9\" >0.80%</td>\n",
       "      <td id=\"T_c6185_row0_col10\" class=\"data row0 col10\" >0.20</td>\n",
       "      <td id=\"T_c6185_row0_col11\" class=\"data row0 col11\" >8.58%</td>\n",
       "      <td id=\"T_c6185_row0_col12\" class=\"data row0 col12\" >0.61</td>\n",
       "      <td id=\"T_c6185_row0_col13\" class=\"data row0 col13\" >5.82</td>\n",
       "    </tr>\n",
       "  </tbody>\n",
       "</table>\n"
      ],
      "text/plain": [
       "<pandas.io.formats.style.Styler at 0x2b3c0099d400>"
      ]
     },
     "execution_count": 35,
     "metadata": {},
     "output_type": "execute_result"
    }
   ],
   "source": [
    "metrics = test_metrics\n",
    "print('stress:', metrics['stress'].mean())\n",
    "print('stress_spc:', metrics['stress_spc'].mean())\n",
    "print('xing:', metrics['xing'].mean())\n",
    "print('xing_spc:', metrics['xing_spc'].mean())\n",
    "print('l1_angle:', metrics['l1_angle'].mean())\n",
    "print('l1_angle_spc:', metrics['l1_angle_spc'].mean())\n",
    "print('edge:', metrics['edge'].mean())\n",
    "print('edge_spc:', metrics['edge_spc'].mean())\n",
    "print('ring:', metrics['ring'].mean())\n",
    "print('ring_spc:', metrics['ring_spc'].mean())\n",
    "print('tsne:', metrics['tsne'].mean())\n",
    "print('tsne_spc:', metrics['tsne_spc'].mean())\n",
    "print('reso_score:', metrics['resolution_score'].mean())\n",
    "print('min_angle:', metrics['min_angle'].mean())\n",
    "columns = [\n",
    "    'stress',\n",
    "    'stress_spc',\n",
    "    'xing',\n",
    "    'xing_spc',\n",
    "    'l1_angle',\n",
    "    'l1_angle_spc',\n",
    "    'edge',\n",
    "    'edge_spc',\n",
    "    'ring',\n",
    "    'ring_spc',\n",
    "    'tsne',\n",
    "    'tsne_spc',\n",
    "    'reso_score',\n",
    "    'min_angle'\n",
    "]\n",
    "df = pd.DataFrame(map(lambda m: metrics[m].mean().item(), list(metrics.keys())[:-1])).set_axis(columns).T\n",
    "df.style.format({c: \"{:.2f}\" for c in columns if 'spc' not in c} | {c: \"{:.2%}\" for c in columns if 'spc' in c})"
   ]
  },
  {
   "cell_type": "code",
   "execution_count": 36,
   "metadata": {
    "id": "5e7vPr0M3mmG"
   },
   "outputs": [],
   "source": [
    "metrics = {}"
   ]
  },
  {
   "cell_type": "code",
   "execution_count": 37,
   "metadata": {},
   "outputs": [],
   "source": [
    "methods = ['fa2']"
   ]
  },
  {
   "cell_type": "code",
   "execution_count": 38,
   "metadata": {
    "colab": {
     "base_uri": "https://localhost:8080/",
     "height": 433,
     "referenced_widgets": [
      "a0cf6e046add4e639e52db69656e0db9",
      "8e237731bb1241ac858581b25389c012",
      "0891547293ad4211a138a4d92e01bb0b",
      "34912c8e581e47a99a1c4829c38cb75c",
      "5aa034c99c94424e835a2ee954b829ed",
      "248f6393eff74c3eb8740ca6d698045b",
      "686687a29c7f4ec98c4d76ca2062b14b",
      "996a84d1c23b47e4a2af252c6b60f55d",
      "3507f883bb954412b21c1c5641763ed7",
      "9582a849d91e457cadd514c95d6e1b5b",
      "52bfe674c2c547e09b7400a32a96f703",
      "93d58b3a12394fe1aa6f0431fc7cb0db",
      "af1d7855c9d646b0bcc7d95c4cb147a6",
      "f820e2b898cd461da04a4f651d27273d",
      "c0a112cfaa3d4d0aa9530372de84d8fb",
      "fd03985495694fbf9feb3f31ef8d18ce",
      "e02a2b36aa4c4d6fb5d2ac6693c1a927",
      "06f388ff5e3a48828d465096fe69977b",
      "c0052778c9c940e88935593e9f94b83b",
      "99a5e77a192d4a989c4534237eb16730",
      "77c6da092a6647fc9e54f7e276d75616",
      "8c13c0e8b5934117a662a78296bcb1b6",
      "cdcc3bd4235247b48c468c0f6b7682cc",
      "a2c6fa6fef4549cc853fa93b4b18cf95",
      "15cc02a756314083801b5f6798a1948c",
      "24d1c67fe52f452ab0c767e3c1a818aa",
      "c117db25c6fd484a9d0c7f210ccb1ade",
      "b090b60b61084cf692b3066dfac7f0a8",
      "5eab9848059c491b9c6cbac88683f025",
      "e87ffbaa1f204b52b9226337a506b040",
      "cf52198a9e4b46c7b49537a79919c09e",
      "51501227bc064ccbab97c22a679a0750",
      "d1b794a997dc457888a90bf44faee9b4",
      "21a755b50e5047bea797eccf24b35a0c",
      "16e78c3823ec4faf9f9cd9095b218ff5",
      "4ccd332c6b734acd8eff236eaf568dfa",
      "bd60fd13748347e48629df78fa455765",
      "e9187e4ba80b4fafa0334dae2e39aded",
      "4c39ec7c92b4402e8eedcb27beabaab1",
      "59a8194269f943bba571f710ad856973",
      "8e41bc25b9f348b1b85b381547cd60d1",
      "34d0f1529e64437fb25e639b41096072",
      "7e832c7543df43668eb72c0aa6356349",
      "f94162c9c5fe4c2581e3b80beaeb820b",
      "0284946fccf34607b25e1d6d81d4f72a",
      "8e8d4243a3624ba58d760bdf601d5126",
      "b1f0932594fe44f4be4beb8880172871",
      "820bb554d139437b8f6a6997f9002261",
      "459e375d1fe4497cb4197ef88e303c6d",
      "5726814966da46bbba942a114de4b319",
      "448beea5445f4642809801da46aa7e7c",
      "3746c0f0daf04f51805b4c95db20063a",
      "2ff74d1c705348438a32da37910c3300",
      "52f03147b5ab4cb390f9802b7a17a508",
      "5428511d652a47348203e8f3cd2e076d",
      "7b58569bee2e44c5a61a81f9a32c4c01",
      "c5e05d74b9404333a8155304e3497ba2",
      "3ad4e058bde44d87abab780368d49118",
      "8e437049b5c74ff1beddad93e30b19aa",
      "0c61377f4cc34b27ae34bdd6d976d868",
      "9ce35f9a9a23436ea77604513b5c4659",
      "dafbc43ad79c4feda093aefe490fc4b3",
      "497160b6bf80469a89680a03a468c8bb",
      "3265725ecb914981b6f07f68b8a582df",
      "1f0ac20d99d04ffb9ee75613526d3de6",
      "dee0e5716560483b8e2b107566439d94",
      "ca99841a1abd4fbd94927c49aaa711cb",
      "163a44ff1be04583ae7bd62726c55204",
      "f3b727045a0b4b4fabd147ec9c843e14",
      "7c4b4fe859cf48ab99b7e2780a24a539",
      "d9700cffab66480cb81e3722faab4e8b",
      "2c49acc1e0a64aa4b8ec461b0596848e",
      "691817157f43412f9c36002167606b75",
      "d0ae688d71734b56bb348de54e841798",
      "07a364ebcdaa491dbcc2304e4a8dae96",
      "538b277307b1449eaa79a2a91b4741d3",
      "f7b7dd4cbaa5468687b988c5e416a154",
      "877be862a4f045ec8b221097626becb5",
      "1bf37012df0844338ac689d4f6cc8eab",
      "33fe06641be544d3aab2c25cb979416f",
      "68de0d9261fa4e6999967b6f196d149c",
      "7017c5ba1ffc467495aca2689e516f7d",
      "e0997460cc21428695a0c278c6691baf",
      "522443bef4904996b6361ea265c4c56f",
      "dfe044b67917466f971ba84a11956d5e",
      "70b2d0ba1c1d4102841fb963480de1c7",
      "7b158daacd754a40bc0a48fc9ea6fea2",
      "8904f61ff30741e488eacf0e49440f66",
      "685dee6f1e1f4c2983d2d0b8eb90ed00",
      "005155a4d62d48cbbaf3d69614b08d81",
      "d2779dfa620041e4b32a7731926a5982",
      "53048bf27cb24080b4cdf20379302223",
      "0b5bff7794a14a20964da70b87158c2c",
      "ec664e55ea16435590393ae1617cccea",
      "f10d62ef464a45a7935610d869c282e3",
      "5e7c09bc35db4a3a8b9847c6d8478883",
      "987ea331b617446facc81b08bab1f8c4",
      "446c5a687b0d43358ab036d43ce281c3",
      "d89e216f62ae4a9999da1a91dd5e48b9",
      "09d03e7e66f54cafacefbfeda5fd6e5c",
      "d58c680562a44bbd9252e7ec6eebc06c",
      "71ea2594fdd942acac1cc61055438544",
      "fecda4df301b437f9fbfb61a7b593dc0",
      "bcf6741d926248cb92acf627d6557d2b",
      "5bd9868b9bda4f68b500a43916e2d148",
      "4bc5e02035de44ad827c4f881fd75afc",
      "7d80033a955e4feb947ca9cea931d90b",
      "e975c796d80d498992a50f87a2b0105c",
      "028b2ff105904a19a9a3e8ebf66967bb",
      "10dbf2cbdb1943eda6a0acaf5da3fe85",
      "14d59c7acc5e4e07a289db44406a4851",
      "d9447df93d714907bc9c768eb4910352",
      "d4a9ace081bf488680a7e43e0eaed71d",
      "022a60cde19546bfa6ecfb4947615ad9",
      "10c01207d9ba4fe197dc80717fceecc0",
      "f4995936570d4ba1a65e9a66e410b505",
      "b4bf66303e61491385cd616076a11c04",
      "a24ab2bfe7a44263bf60936d6e53ec32",
      "59e2e8ecc9f84d57af7bf44f5bba5df7",
      "be2eb92aab8045a99fd19195c3546b60",
      "e6715db2b048434796e910952cb5eb62",
      "8de2335007ba4a6b9935fa0c514c9f6a",
      "493a4bbe8057437a8c8acf4d03f8dcb0",
      "20b03955acc74e238695717124705520",
      "a89f9507496b4cf8bdd63bdb9bff79c4",
      "9752a1f6c8b6488d9628b8e0c023f10f",
      "61a0bebc687341a7bb3352febc8d4986",
      "07e0ff9c82a444788c60edee70688ca7",
      "4427901f35e54cc48e08527bb402c22a",
      "bd9dafb825954091ba975d71ab8c89ea",
      "7ec0f07bfe51484da38c18dc66d77804",
      "03943afebc4d4b668b54c7a0fd014a37",
      "a7a6b38a76424d738146b6a5786cf2c8",
      "1d1aa4729784470584c0001c1a296008",
      "e0c68ac9b5b442eeb77e6d9ea3c1da42",
      "c858ef9fd9324ab0ab885d85e3c8582f",
      "627bc2899c994a0c96c5d43e89dc77ff",
      "0e2c2f21fa8041038151170992ecb848",
      "2d9bcbf7629a4671bf8755e790276eb7",
      "77a4edf6ab1848a6a6df20c1c07358c6",
      "acf2212d6bb44c729b63281a98377095",
      "0c7a72818da3454190bab7f30a29e249",
      "d865af915b8b4aaa8cec8d40f1f8351d"
     ]
    },
    "id": "s1UnzfID4Ai6",
    "outputId": "3e204e76-68fd-4111-f527-91f6e3b7a3ca"
   },
   "outputs": [
    {
     "data": {
      "application/vnd.jupyter.widget-view+json": {
       "model_id": "bb887cde230a487a83e1d8461352a02c",
       "version_major": 2,
       "version_minor": 0
      },
      "text/plain": [
       "  0%|          | 0/1000 [00:00<?, ?it/s]"
      ]
     },
     "metadata": {},
     "output_type": "display_data"
    }
   ],
   "source": [
    "for m in methods:\n",
    "    metrics[m] = test(model=test_generator, \n",
    "                      criteria_list=[], \n",
    "                      dataset=data_list, \n",
    "                      idx_range=range(10000, 11000), \n",
    "                      callback=None,\n",
    "                      gt_pos=load_pos(m))"
   ]
  },
  {
   "cell_type": "code",
   "execution_count": 39,
   "metadata": {
    "id": "dQ7hdCtk5u6K"
   },
   "outputs": [],
   "source": [
    "mean_metrics = {key : list(map(lambda m: metrics[key][m].mean().item(), list(metrics[key].keys())[:-1])) for key in metrics}"
   ]
  },
  {
   "cell_type": "code",
   "execution_count": 40,
   "metadata": {
    "colab": {
     "base_uri": "https://localhost:8080/",
     "height": 313
    },
    "id": "OGyaCmLXTuvA",
    "outputId": "6c42d9f3-9869-4504-bc9c-d0eedaecfd90"
   },
   "outputs": [
    {
     "data": {
      "text/html": [
       "<style type=\"text/css\">\n",
       "</style>\n",
       "<table id=\"T_493c6_\">\n",
       "  <thead>\n",
       "    <tr>\n",
       "      <th class=\"blank level0\" >&nbsp;</th>\n",
       "      <th class=\"col_heading level0 col0\" >stress</th>\n",
       "      <th class=\"col_heading level0 col1\" >stress_spc</th>\n",
       "      <th class=\"col_heading level0 col2\" >xing</th>\n",
       "      <th class=\"col_heading level0 col3\" >xing_spc</th>\n",
       "      <th class=\"col_heading level0 col4\" >l1_angle</th>\n",
       "      <th class=\"col_heading level0 col5\" >l1_angle_spc</th>\n",
       "      <th class=\"col_heading level0 col6\" >edge</th>\n",
       "      <th class=\"col_heading level0 col7\" >edge_spc</th>\n",
       "      <th class=\"col_heading level0 col8\" >ring</th>\n",
       "      <th class=\"col_heading level0 col9\" >ring_spc</th>\n",
       "      <th class=\"col_heading level0 col10\" >tsne</th>\n",
       "      <th class=\"col_heading level0 col11\" >tsne_spc</th>\n",
       "      <th class=\"col_heading level0 col12\" >reso_score</th>\n",
       "      <th class=\"col_heading level0 col13\" >min_angle</th>\n",
       "    </tr>\n",
       "  </thead>\n",
       "  <tbody>\n",
       "    <tr>\n",
       "      <th id=\"T_493c6_level0_row0\" class=\"row_heading level0 row0\" >fa2</th>\n",
       "      <td id=\"T_493c6_row0_col0\" class=\"data row0 col0\" >335.24</td>\n",
       "      <td id=\"T_493c6_row0_col1\" class=\"data row0 col1\" >-8.00%</td>\n",
       "      <td id=\"T_493c6_row0_col2\" class=\"data row0 col2\" >27.47</td>\n",
       "      <td id=\"T_493c6_row0_col3\" class=\"data row0 col3\" >4.88%</td>\n",
       "      <td id=\"T_493c6_row0_col4\" class=\"data row0 col4\" >79.44</td>\n",
       "      <td id=\"T_493c6_row0_col5\" class=\"data row0 col5\" >6.96%</td>\n",
       "      <td id=\"T_493c6_row0_col6\" class=\"data row0 col6\" >0.17</td>\n",
       "      <td id=\"T_493c6_row0_col7\" class=\"data row0 col7\" >-9.94%</td>\n",
       "      <td id=\"T_493c6_row0_col8\" class=\"data row0 col8\" >256.39</td>\n",
       "      <td id=\"T_493c6_row0_col9\" class=\"data row0 col9\" >-1.05%</td>\n",
       "      <td id=\"T_493c6_row0_col10\" class=\"data row0 col10\" >0.20</td>\n",
       "      <td id=\"T_493c6_row0_col11\" class=\"data row0 col11\" >5.29%</td>\n",
       "      <td id=\"T_493c6_row0_col12\" class=\"data row0 col12\" >0.61</td>\n",
       "      <td id=\"T_493c6_row0_col13\" class=\"data row0 col13\" >5.87</td>\n",
       "    </tr>\n",
       "  </tbody>\n",
       "</table>\n"
      ],
      "text/plain": [
       "<pandas.io.formats.style.Styler at 0x2b3c00967370>"
      ]
     },
     "execution_count": 40,
     "metadata": {},
     "output_type": "execute_result"
    }
   ],
   "source": [
    "columns = [\n",
    "    'stress',\n",
    "    'stress_spc',\n",
    "    'xing',\n",
    "    'xing_spc',\n",
    "    'l1_angle',\n",
    "    'l1_angle_spc',\n",
    "    'edge',\n",
    "    'edge_spc',\n",
    "    'ring',\n",
    "    'ring_spc',\n",
    "    'tsne',\n",
    "    'tsne_spc',\n",
    "    'reso_score',\n",
    "    'min_angle'\n",
    "]\n",
    "df = pd.DataFrame(mean_metrics).set_axis(columns).T\n",
    "df.style.format({c: \"{:.2f}\" for c in columns if 'spc' not in c} | {c: \"{:.2%}\" for c in columns if 'spc' in c})"
   ]
  },
  {
   "cell_type": "markdown",
   "metadata": {
    "id": "L5S1HWnHOWIl"
   },
   "source": [
    "# Large Graph"
   ]
  },
  {
   "cell_type": "code",
   "execution_count": null,
   "metadata": {
    "id": "_pefPcV1OZdD"
   },
   "outputs": [],
   "source": [
    "scalability = pd.read_csv(f\"/__artifacts__/data/scalability.csv\", index_col=\"index\")\n",
    "scalability"
   ]
  },
  {
   "cell_type": "code",
   "execution_count": null,
   "metadata": {
    "id": "oMhWAsdvPnTX"
   },
   "outputs": [],
   "source": [
    "rescale = CanonicalizationByStress()\n",
    "stressfn = Stress()\n",
    "rotate = RotateByPrincipalComponents()"
   ]
  },
  {
   "cell_type": "code",
   "execution_count": null,
   "metadata": {
    "id": "LR83OcAaPID5"
   },
   "outputs": [],
   "source": [
    "stress_list = []\n",
    "spc_list = []\n",
    "pmds_list = np.load(\"layouts/new_large_graph/pmds.npy\", allow_pickle=True)\n",
    "gviz_list = np.load(\"layouts/new_large_graph/gviz.npy\", allow_pickle=True)\n",
    "with torch.no_grad():\n",
    "    for idx, col in tqdm(scalability.iterrows(), total=len(scalability)):\n",
    "        # if idx not in [406, 516]: continue\n",
    "        torch.cuda.empty_cache()\n",
    "        G = load_mtx(col['file'])\n",
    "        G.remove_edges_from(nx.selfloop_edges(G))\n",
    "        data = generate_data_list(G, \n",
    "                                sparse=data_config.sparse, \n",
    "                                pivot_mode=data_config.pivot,\n",
    "                                init_mode=data_config.init,\n",
    "                                edge_index=data_config.edge.index,\n",
    "                                edge_attr=data_config.edge.attr,\n",
    "                                pmds_list=pmds_list[idx],\n",
    "                                gviz_list=gviz_list[idx],\n",
    "                                device=device)\n",
    "        batch = Batch.from_data_list([data]).to(device)\n",
    "        # generator.train()\n",
    "        # generator(batch)\n",
    "        generator.eval()\n",
    "        pred = generator(batch)\n",
    "        pos = rotate(rescale(pred, batch), batch)\n",
    "        gt = rotate(rescale(batch.gt_pos, batch), batch)\n",
    "        stress = stressfn(pos, batch).item()\n",
    "        gt_stress = stressfn(gt, batch).item()\n",
    "        spc = (stress - gt_stress) / np.maximum(stress, gt_stress)\n",
    "        stress_list.append(stress)\n",
    "        spc_list.append(spc)\n",
    "\n",
    "        np.save(f\"/__artifacts__/gan_result/data/scalability_{idx}.npy\", pos.cpu().numpy())\n",
    "        graph_attr = dict(node_size=1, \n",
    "                        with_labels=False, \n",
    "                        labels=dict(zip(list(G.nodes), map(lambda n: n if type(n) is int else n[1:], list(G.nodes)))),\n",
    "                        font_color=\"white\", \n",
    "                        font_weight=\"bold\",\n",
    "                        font_size=12,\n",
    "                        width=0.1)\n",
    "\n",
    "        # gt_pos = pickle.load(open(f\"/__artifacts__/data/scalability_{idx}_gt.pkl\", \"rb\"))\n",
    "\n",
    "        plt.figure(figsize=[12, 9])\n",
    "        nx.draw(G, pos=gt.cpu().numpy(), node_color='orange', **graph_attr)\n",
    "        plt.title(f\"neato: large_{idx}\")\n",
    "        plt.axis(\"equal\")\n",
    "        plt.savefig(f\"/__artifacts__/gan_result/output/{idx}_{col['name']}_{col['n']}_{spc}_nx.png\", dpi=300)\n",
    "        plt.show()\n",
    "\n",
    "        plt.figure(figsize=[12, 9])\n",
    "        graph_vis(G, pos.cpu().numpy(), **graph_attr)\n",
    "        plt.title(f\"dgd: large_{idx}, spc={spc:.2%}\")\n",
    "        plt.axis(\"equal\")\n",
    "        plt.savefig(f\"/__artifacts__/gan_result/output/{idx}_{col['name']}_{col['n']}_{spc}_dgd.png\", dpi=300)\n",
    "        plt.show()"
   ]
  },
  {
   "cell_type": "code",
   "execution_count": null,
   "metadata": {
    "id": "gRXTewkYeuq1"
   },
   "outputs": [],
   "source": []
  }
 ],
 "metadata": {
  "accelerator": "GPU",
  "colab": {
   "collapsed_sections": [
    "w_p3OD0woiSM",
    "DR6-vYtr_i_P",
    "innqkwvH_ydD",
    "f-ODE2k8BFV6",
    "N39dDHraedM6"
   ],
   "machine_shape": "hm",
   "name": "GAN(gan=rgan,data=best(xing,stress),dis=deep,share=16,embed=0,gp=0).ipynb",
   "provenance": []
  },
  "kernelspec": {
   "display_name": "DeepGD",
   "language": "python",
   "name": "deepgd"
  },
  "language_info": {
   "codemirror_mode": {
    "name": "ipython",
    "version": 3
   },
   "file_extension": ".py",
   "mimetype": "text/x-python",
   "name": "python",
   "nbconvert_exporter": "python",
   "pygments_lexer": "ipython3",
   "version": "3.9.7"
  },
  "widgets": {
   "application/vnd.jupyter.widget-state+json": {
    "state": {
     "05fa4c149aca4bbc82dad8fc4f2ff4b7": {
      "model_module": "@jupyter-widgets/base",
      "model_module_version": "1.2.0",
      "model_name": "LayoutModel",
      "state": {}
     },
     "091a346b5fa9420ea981d7a719e4d12d": {
      "model_module": "@jupyter-widgets/controls",
      "model_module_version": "1.5.0",
      "model_name": "TabModel",
      "state": {
       "_titles": {
        "0": "status",
        "1": "plot",
        "2": "log"
       },
       "children": [
        "IPY_MODEL_808177af0804443494548c80b690df05",
        "IPY_MODEL_27cb8b5185b64dfc8879ede80a84b783",
        "IPY_MODEL_c053f5b1f345428d94115b508586c409"
       ],
       "layout": "IPY_MODEL_8113d8dc8eef4764af5ba1c416009681"
      }
     },
     "0a517b6d0cab4d2892b6a329b298c1c9": {
      "model_module": "@jupyter-widgets/controls",
      "model_module_version": "1.5.0",
      "model_name": "HTMLModel",
      "state": {
       "layout": "IPY_MODEL_4cef1d12eb114384aa59374fc52fc02a",
       "style": "IPY_MODEL_ae4b80ec2a75419fbf78afd6278db75a",
       "value": "100%"
      }
     },
     "0dc62cb575704a09a55d2f03c29b46e3": {
      "model_module": "@jupyter-widgets/controls",
      "model_module_version": "1.5.0",
      "model_name": "DescriptionStyleModel",
      "state": {
       "description_width": ""
      }
     },
     "116518c4800b4dd4813d35b5bc2c93f9": {
      "model_module": "@jupyter-widgets/base",
      "model_module_version": "1.2.0",
      "model_name": "LayoutModel",
      "state": {}
     },
     "11b40f9e0a82476caae279a56882900c": {
      "model_module": "@jupyter-widgets/controls",
      "model_module_version": "1.5.0",
      "model_name": "HBoxModel",
      "state": {
       "children": [
        "IPY_MODEL_0a517b6d0cab4d2892b6a329b298c1c9",
        "IPY_MODEL_588cacf5d79642579ff58cfd4bf820c4",
        "IPY_MODEL_d5c79275b21a4755985b92fdffdf557f"
       ],
       "layout": "IPY_MODEL_d1e0cd7362c946f4a6d41d2fb48ed450"
      }
     },
     "13e7d29ab1dd47a8929bdf34786205d3": {
      "model_module": "@jupyter-widgets/controls",
      "model_module_version": "1.5.0",
      "model_name": "FloatProgressModel",
      "state": {
       "bar_style": "success",
       "layout": "IPY_MODEL_ee04e9c19cb74f3d83bc2bf37010db4d",
       "max": 1000,
       "style": "IPY_MODEL_14c05baa38c54244b6a0ccd6f4247337",
       "value": 1000
      }
     },
     "14c05baa38c54244b6a0ccd6f4247337": {
      "model_module": "@jupyter-widgets/controls",
      "model_module_version": "1.5.0",
      "model_name": "ProgressStyleModel",
      "state": {
       "description_width": ""
      }
     },
     "16d473e945dd4b31b643bb42e4c787e2": {
      "model_module": "@jupyter-widgets/output",
      "model_module_version": "1.0.0",
      "model_name": "OutputModel",
      "state": {
       "layout": "IPY_MODEL_dbd19e94c5ab4abea6399860ae2ba88b",
       "outputs": [
        {
         "data": {
          "image/png": "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\n",
          "text/plain": "<Figure size 432x288 with 1 Axes>"
         },
         "metadata": {},
         "output_type": "display_data"
        }
       ]
      }
     },
     "1d0b53aac9ef4329bcb6b830b57a29a4": {
      "model_module": "@jupyter-widgets/base",
      "model_module_version": "1.2.0",
      "model_name": "LayoutModel",
      "state": {
       "height": "500px",
       "overflow_y": "auto"
      }
     },
     "1e9ddaa455b043fc9f4fccb5ef1bb1da": {
      "model_module": "@jupyter-widgets/controls",
      "model_module_version": "1.5.0",
      "model_name": "DescriptionStyleModel",
      "state": {
       "description_width": ""
      }
     },
     "22be8c96e35b40f6b583d96df28a87a1": {
      "model_module": "@jupyter-widgets/base",
      "model_module_version": "1.2.0",
      "model_name": "LayoutModel",
      "state": {}
     },
     "27cb8b5185b64dfc8879ede80a84b783": {
      "model_module": "@jupyter-widgets/controls",
      "model_module_version": "1.5.0",
      "model_name": "HBoxModel",
      "state": {
       "children": [
        "IPY_MODEL_16d473e945dd4b31b643bb42e4c787e2"
       ],
       "layout": "IPY_MODEL_1d0b53aac9ef4329bcb6b830b57a29a4"
      }
     },
     "29dad6bd11fb4ad991e11a4d36d9ca86": {
      "model_module": "@jupyter-widgets/controls",
      "model_module_version": "1.5.0",
      "model_name": "ProgressStyleModel",
      "state": {
       "description_width": ""
      }
     },
     "321c8bfefed248838a89c895a2c7b751": {
      "model_module": "@jupyter-widgets/base",
      "model_module_version": "1.2.0",
      "model_name": "LayoutModel",
      "state": {}
     },
     "388fb5ea0d2644dda4323906d5b4b7b1": {
      "model_module": "@jupyter-widgets/output",
      "model_module_version": "1.0.0",
      "model_name": "OutputModel",
      "state": {
       "layout": "IPY_MODEL_c7817d20490f400595dd8443238f91d3",
       "outputs": [
        {
         "name": "stdout",
         "output_type": "stream",
         "text": "[993] stress=370.61(7.73%) xing=31.39(17.67%)\n"
        }
       ]
      }
     },
     "4b5c8b52d6a843579715de54255516d2": {
      "model_module": "@jupyter-widgets/base",
      "model_module_version": "1.2.0",
      "model_name": "LayoutModel",
      "state": {}
     },
     "4b7747c7deb24a42ad55127f3b89bbe3": {
      "model_module": "@jupyter-widgets/controls",
      "model_module_version": "1.5.0",
      "model_name": "HTMLModel",
      "state": {
       "layout": "IPY_MODEL_7edf166d4f4642d58ed1ca51df44b7ef",
       "style": "IPY_MODEL_960359ae8da74886b091e0effdc9dbfb",
       "value": "100%"
      }
     },
     "4cef1d12eb114384aa59374fc52fc02a": {
      "model_module": "@jupyter-widgets/base",
      "model_module_version": "1.2.0",
      "model_name": "LayoutModel",
      "state": {}
     },
     "554cb422fd724713bb03bf7bacadc860": {
      "model_module": "@jupyter-widgets/output",
      "model_module_version": "1.0.0",
      "model_name": "OutputModel",
      "state": {
       "layout": "IPY_MODEL_da662b9c380f4d1e84798894dc9b6cad",
       "outputs": [
        {
         "data": {
          "application/vnd.jupyter.widget-view+json": {
           "model_id": "7da477092b424c41a06f8db42237526f",
           "version_major": 2,
           "version_minor": 0
          },
          "text/plain": "  0%|          | 0/834 [00:00<?, ?it/s]"
         },
         "metadata": {},
         "output_type": "display_data"
        }
       ]
      }
     },
     "588cacf5d79642579ff58cfd4bf820c4": {
      "model_module": "@jupyter-widgets/controls",
      "model_module_version": "1.5.0",
      "model_name": "FloatProgressModel",
      "state": {
       "bar_style": "success",
       "layout": "IPY_MODEL_c6a9cbb197e1483f84049b6cf248e9c1",
       "max": 1000,
       "style": "IPY_MODEL_77440d2d5a18472f9d18b22bc25be01f",
       "value": 1000
      }
     },
     "589f24222628463a908d189059b3428d": {
      "model_module": "@jupyter-widgets/base",
      "model_module_version": "1.2.0",
      "model_name": "LayoutModel",
      "state": {}
     },
     "5b30c2ce48d3400ba9b5f9bf4cf710c2": {
      "model_module": "@jupyter-widgets/controls",
      "model_module_version": "1.5.0",
      "model_name": "DescriptionStyleModel",
      "state": {
       "description_width": ""
      }
     },
     "5ea8cf61382e4102a0fa31fdb0d882aa": {
      "model_module": "@jupyter-widgets/base",
      "model_module_version": "1.2.0",
      "model_name": "LayoutModel",
      "state": {}
     },
     "5f5f33cdc98e461ea6f5c46afe2dcca9": {
      "model_module": "@jupyter-widgets/controls",
      "model_module_version": "1.5.0",
      "model_name": "HTMLModel",
      "state": {
       "layout": "IPY_MODEL_321c8bfefed248838a89c895a2c7b751",
       "style": "IPY_MODEL_0dc62cb575704a09a55d2f03c29b46e3",
       "value": "100%"
      }
     },
     "6c37c9b7c54a4461854783de95490125": {
      "model_module": "@jupyter-widgets/base",
      "model_module_version": "1.2.0",
      "model_name": "LayoutModel",
      "state": {}
     },
     "6e7283230a3446d3a0e6194acca25f94": {
      "model_module": "@jupyter-widgets/controls",
      "model_module_version": "1.5.0",
      "model_name": "HBoxModel",
      "state": {
       "children": [
        "IPY_MODEL_4b7747c7deb24a42ad55127f3b89bbe3",
        "IPY_MODEL_bfc7ee88381e4c1e9314ef0bf4e4e520",
        "IPY_MODEL_e3e9088b3fa946858d94fcca4a5fb053"
       ],
       "layout": "IPY_MODEL_6c37c9b7c54a4461854783de95490125"
      }
     },
     "77440d2d5a18472f9d18b22bc25be01f": {
      "model_module": "@jupyter-widgets/controls",
      "model_module_version": "1.5.0",
      "model_name": "ProgressStyleModel",
      "state": {
       "description_width": ""
      }
     },
     "77e4a8db36f84de9898f09f42d4757f1": {
      "model_module": "@jupyter-widgets/controls",
      "model_module_version": "1.5.0",
      "model_name": "DescriptionStyleModel",
      "state": {
       "description_width": ""
      }
     },
     "7da477092b424c41a06f8db42237526f": {
      "model_module": "@jupyter-widgets/controls",
      "model_module_version": "1.5.0",
      "model_name": "HBoxModel",
      "state": {
       "children": [
        "IPY_MODEL_b16ae7e7ce8b4b9694bc45f082656b1c",
        "IPY_MODEL_d46ef54e42fb4371b3323d5a0f42b3e9",
        "IPY_MODEL_e413f8afc10a4c9db9891ff233a878fb"
       ],
       "layout": "IPY_MODEL_5ea8cf61382e4102a0fa31fdb0d882aa"
      }
     },
     "7edf166d4f4642d58ed1ca51df44b7ef": {
      "model_module": "@jupyter-widgets/base",
      "model_module_version": "1.2.0",
      "model_name": "LayoutModel",
      "state": {}
     },
     "808177af0804443494548c80b690df05": {
      "model_module": "@jupyter-widgets/controls",
      "model_module_version": "1.5.0",
      "model_name": "VBoxModel",
      "state": {
       "children": [
        "IPY_MODEL_554cb422fd724713bb03bf7bacadc860",
        "IPY_MODEL_c7c5f9b4e00449c9b234dba3a723ea4b"
       ],
       "layout": "IPY_MODEL_589f24222628463a908d189059b3428d"
      }
     },
     "8113d8dc8eef4764af5ba1c416009681": {
      "model_module": "@jupyter-widgets/base",
      "model_module_version": "1.2.0",
      "model_name": "LayoutModel",
      "state": {}
     },
     "84ed9465830d4a34b64206067edf02d9": {
      "model_module": "@jupyter-widgets/base",
      "model_module_version": "1.2.0",
      "model_name": "LayoutModel",
      "state": {}
     },
     "8ae3ba48a51f4c33b04279c9a07a872a": {
      "model_module": "@jupyter-widgets/base",
      "model_module_version": "1.2.0",
      "model_name": "LayoutModel",
      "state": {}
     },
     "960359ae8da74886b091e0effdc9dbfb": {
      "model_module": "@jupyter-widgets/controls",
      "model_module_version": "1.5.0",
      "model_name": "DescriptionStyleModel",
      "state": {
       "description_width": ""
      }
     },
     "a624a8005d8945748d150345b5c883bd": {
      "model_module": "@jupyter-widgets/base",
      "model_module_version": "1.2.0",
      "model_name": "LayoutModel",
      "state": {}
     },
     "a6508f99c7f74fbb94211b4f94edb87f": {
      "model_module": "@jupyter-widgets/controls",
      "model_module_version": "1.5.0",
      "model_name": "DescriptionStyleModel",
      "state": {
       "description_width": ""
      }
     },
     "ae4b80ec2a75419fbf78afd6278db75a": {
      "model_module": "@jupyter-widgets/controls",
      "model_module_version": "1.5.0",
      "model_name": "DescriptionStyleModel",
      "state": {
       "description_width": ""
      }
     },
     "b0f7ebcf59c6428aa8a217f0fbe09e39": {
      "model_module": "@jupyter-widgets/base",
      "model_module_version": "1.2.0",
      "model_name": "LayoutModel",
      "state": {
       "height": "500px",
       "overflow_y": "auto"
      }
     },
     "b16ae7e7ce8b4b9694bc45f082656b1c": {
      "model_module": "@jupyter-widgets/controls",
      "model_module_version": "1.5.0",
      "model_name": "HTMLModel",
      "state": {
       "layout": "IPY_MODEL_84ed9465830d4a34b64206067edf02d9",
       "style": "IPY_MODEL_77e4a8db36f84de9898f09f42d4757f1",
       "value": "[epoch 993/None]:  85%"
      }
     },
     "bb887cde230a487a83e1d8461352a02c": {
      "model_module": "@jupyter-widgets/controls",
      "model_module_version": "1.5.0",
      "model_name": "HBoxModel",
      "state": {
       "children": [
        "IPY_MODEL_5f5f33cdc98e461ea6f5c46afe2dcca9",
        "IPY_MODEL_13e7d29ab1dd47a8929bdf34786205d3",
        "IPY_MODEL_ca7333497c2a4286b26c3455b69286ea"
       ],
       "layout": "IPY_MODEL_d084b1fe67ed4df1950b3d1b41f515d4"
      }
     },
     "bfc7ee88381e4c1e9314ef0bf4e4e520": {
      "model_module": "@jupyter-widgets/controls",
      "model_module_version": "1.5.0",
      "model_name": "FloatProgressModel",
      "state": {
       "bar_style": "success",
       "layout": "IPY_MODEL_8ae3ba48a51f4c33b04279c9a07a872a",
       "max": 11531,
       "style": "IPY_MODEL_29dad6bd11fb4ad991e11a4d36d9ca86",
       "value": 11531
      }
     },
     "c053f5b1f345428d94115b508586c409": {
      "model_module": "@jupyter-widgets/controls",
      "model_module_version": "1.5.0",
      "model_name": "HBoxModel",
      "state": {
       "children": [
        "IPY_MODEL_388fb5ea0d2644dda4323906d5b4b7b1"
       ],
       "layout": "IPY_MODEL_b0f7ebcf59c6428aa8a217f0fbe09e39"
      }
     },
     "c467c939bc2949adb4755ad4b2799f1e": {
      "model_module": "@jupyter-widgets/controls",
      "model_module_version": "1.5.0",
      "model_name": "ProgressStyleModel",
      "state": {
       "description_width": ""
      }
     },
     "c6a9cbb197e1483f84049b6cf248e9c1": {
      "model_module": "@jupyter-widgets/base",
      "model_module_version": "1.2.0",
      "model_name": "LayoutModel",
      "state": {}
     },
     "c7817d20490f400595dd8443238f91d3": {
      "model_module": "@jupyter-widgets/base",
      "model_module_version": "1.2.0",
      "model_name": "LayoutModel",
      "state": {}
     },
     "c7c5f9b4e00449c9b234dba3a723ea4b": {
      "model_module": "@jupyter-widgets/output",
      "model_module_version": "1.0.0",
      "model_name": "OutputModel",
      "state": {
       "layout": "IPY_MODEL_116518c4800b4dd4813d35b5bc2c93f9",
       "outputs": [
        {
         "data": {
          "text/html": "<div>\n<style scoped>\n    .dataframe tbody tr th:only-of-type {\n        vertical-align: middle;\n    }\n\n    .dataframe tbody tr th {\n        vertical-align: top;\n    }\n\n    .dataframe thead th {\n        text-align: right;\n    }\n</style>\n<table border=\"1\" class=\"dataframe\">\n  <thead>\n    <tr style=\"text-align: right;\">\n      <th></th>\n      <th>val_stress</th>\n      <th>val_stress_spc</th>\n      <th>val_xing</th>\n      <th>val_xing_spc</th>\n      <th>dis_loss</th>\n      <th>gen_loss</th>\n      <th>stress</th>\n      <th>critic</th>\n    </tr>\n  </thead>\n  <tbody>\n    <tr>\n      <th>epoch 993</th>\n      <td>370.61</td>\n      <td>7.73%</td>\n      <td>31.39</td>\n      <td>17.67%</td>\n      <td>8.35e-02</td>\n      <td>9.79e+00</td>\n      <td>-4.56e+02</td>\n      <td>5.85e+01</td>\n    </tr>\n  </tbody>\n</table>\n</div>",
          "text/plain": "          val_stress val_stress_spc val_xing val_xing_spc  dis_loss  gen_loss  \\\nepoch 993     370.61          7.73%    31.39       17.67%  8.35e-02  9.79e+00   \n\n              stress    critic  \nepoch 993  -4.56e+02  5.85e+01  "
         },
         "metadata": {},
         "output_type": "display_data"
        }
       ]
      }
     },
     "ca7333497c2a4286b26c3455b69286ea": {
      "model_module": "@jupyter-widgets/controls",
      "model_module_version": "1.5.0",
      "model_name": "HTMLModel",
      "state": {
       "layout": "IPY_MODEL_22be8c96e35b40f6b583d96df28a87a1",
       "style": "IPY_MODEL_db20fe3087bf474996748bf8b593a03e",
       "value": " 1000/1000 [00:47&lt;00:00, 18.35it/s]"
      }
     },
     "d084b1fe67ed4df1950b3d1b41f515d4": {
      "model_module": "@jupyter-widgets/base",
      "model_module_version": "1.2.0",
      "model_name": "LayoutModel",
      "state": {}
     },
     "d1e0cd7362c946f4a6d41d2fb48ed450": {
      "model_module": "@jupyter-widgets/base",
      "model_module_version": "1.2.0",
      "model_name": "LayoutModel",
      "state": {}
     },
     "d46ef54e42fb4371b3323d5a0f42b3e9": {
      "model_module": "@jupyter-widgets/controls",
      "model_module_version": "1.5.0",
      "model_name": "FloatProgressModel",
      "state": {
       "layout": "IPY_MODEL_05fa4c149aca4bbc82dad8fc4f2ff4b7",
       "max": 834,
       "style": "IPY_MODEL_c467c939bc2949adb4755ad4b2799f1e",
       "value": 709
      }
     },
     "d5c79275b21a4755985b92fdffdf557f": {
      "model_module": "@jupyter-widgets/controls",
      "model_module_version": "1.5.0",
      "model_name": "HTMLModel",
      "state": {
       "layout": "IPY_MODEL_a624a8005d8945748d150345b5c883bd",
       "style": "IPY_MODEL_1e9ddaa455b043fc9f4fccb5ef1bb1da",
       "value": " 1000/1000 [00:47&lt;00:00, 20.70it/s]"
      }
     },
     "da662b9c380f4d1e84798894dc9b6cad": {
      "model_module": "@jupyter-widgets/base",
      "model_module_version": "1.2.0",
      "model_name": "LayoutModel",
      "state": {}
     },
     "db20fe3087bf474996748bf8b593a03e": {
      "model_module": "@jupyter-widgets/controls",
      "model_module_version": "1.5.0",
      "model_name": "DescriptionStyleModel",
      "state": {
       "description_width": ""
      }
     },
     "dbd19e94c5ab4abea6399860ae2ba88b": {
      "model_module": "@jupyter-widgets/base",
      "model_module_version": "1.2.0",
      "model_name": "LayoutModel",
      "state": {}
     },
     "e3e9088b3fa946858d94fcca4a5fb053": {
      "model_module": "@jupyter-widgets/controls",
      "model_module_version": "1.5.0",
      "model_name": "HTMLModel",
      "state": {
       "layout": "IPY_MODEL_fbdaad160cc044b4b67e3c8a887062fa",
       "style": "IPY_MODEL_a6508f99c7f74fbb94211b4f94edb87f",
       "value": " 11531/11531 [00:00&lt;00:00, 70983.64it/s]"
      }
     },
     "e413f8afc10a4c9db9891ff233a878fb": {
      "model_module": "@jupyter-widgets/controls",
      "model_module_version": "1.5.0",
      "model_name": "HTMLModel",
      "state": {
       "layout": "IPY_MODEL_4b5c8b52d6a843579715de54255516d2",
       "style": "IPY_MODEL_5b30c2ce48d3400ba9b5f9bf4cf710c2",
       "value": " 709/834 [02:02&lt;00:21,  5.81it/s]"
      }
     },
     "ee04e9c19cb74f3d83bc2bf37010db4d": {
      "model_module": "@jupyter-widgets/base",
      "model_module_version": "1.2.0",
      "model_name": "LayoutModel",
      "state": {}
     },
     "fbdaad160cc044b4b67e3c8a887062fa": {
      "model_module": "@jupyter-widgets/base",
      "model_module_version": "1.2.0",
      "model_name": "LayoutModel",
      "state": {}
     }
    },
    "version_major": 2,
    "version_minor": 0
   }
  }
 },
 "nbformat": 4,
 "nbformat_minor": 4
}
