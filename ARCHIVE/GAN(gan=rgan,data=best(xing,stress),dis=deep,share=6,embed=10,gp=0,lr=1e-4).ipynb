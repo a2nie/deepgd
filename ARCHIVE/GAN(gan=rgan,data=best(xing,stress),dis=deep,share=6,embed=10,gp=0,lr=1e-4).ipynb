{
 "cells": [
  {
   "cell_type": "markdown",
   "metadata": {
    "id": "wZtYFEhHoBGp"
   },
   "source": [
    "# Import libraries"
   ]
  },
  {
   "cell_type": "code",
   "execution_count": 1,
   "metadata": {
    "id": "KJPfzpxLQI5O"
   },
   "outputs": [],
   "source": [
    "%load_ext autoreload\n",
    "%autoreload 2\n",
    "from deepgd import *"
   ]
  },
  {
   "cell_type": "markdown",
   "metadata": {
    "id": "z4eBEyB1oaJe"
   },
   "source": [
    "# Config"
   ]
  },
  {
   "cell_type": "code",
   "execution_count": 2,
   "metadata": {
    "id": "Q_-MLFhpNvxF"
   },
   "outputs": [],
   "source": [
    "cuda_idx = 0\n",
    "canonicalization = Canonicalization(normalize=Standardization(norm_ord=1),\n",
    "                                    scale=False)\n",
    "config = StaticConfig({\n",
    "    \"name\": 'GAN(gan=rgan,data=best(xing,stress),dis=deep,share=6,embed=10,gp=0,lr=1e-4)',\n",
    "    \"uid\": None,\n",
    "    \"link\": None,\n",
    "    \"generator\": {\n",
    "        \"params\": {\n",
    "            \"num_blocks\": 9,\n",
    "            \"normalize\": canonicalization\n",
    "        },\n",
    "        \"pretrained\": {\n",
    "            \"name\": None,\n",
    "            \"epoch\": -1,\n",
    "        },\n",
    "        \"optim\": torch.optim.AdamW,\n",
    "        \"lr\" : {\n",
    "            \"initial\": 1e-4,\n",
    "            \"decay\": 0.99,\n",
    "        },\n",
    "    },\n",
    "    \"discriminator\": {\n",
    "        \"params\": {\n",
    "            \"conv\": [2, 16, 16, 16],\n",
    "            \"dense\": [2],\n",
    "            \"shared_depth\": 6,\n",
    "            \"enet_depth\": 10,\n",
    "            \"enet_width\": 64,\n",
    "            \"aggr\": \"add\",\n",
    "            \"normalize\": canonicalization\n",
    "        },\n",
    "        \"pretrained\": {\n",
    "            \"name\": None,\n",
    "            \"epoch\": -1,\n",
    "        },\n",
    "        \"optim\": torch.optim.AdamW,\n",
    "        \"lr\" : {\n",
    "            \"initial\": 1e-4,\n",
    "            \"decay\": 0.99,\n",
    "        },\n",
    "        \"noise\": {\n",
    "            \"std\": 0,\n",
    "            \"decay\": 0.95,\n",
    "        },\n",
    "        \"repeat\": 1,\n",
    "        \"complete\": True,\n",
    "        \"adaptive\": True\n",
    "    },\n",
    "    \"alternate\": \"epoch\",\n",
    "    \"batchsize\": 24,\n",
    "    \"epoch\": {\n",
    "        \"start\": -1,\n",
    "        \"end\": None,\n",
    "    },\n",
    "    \"log_interval\": 1,\n",
    "    \"test\": {\n",
    "        \"name\": \"test\",\n",
    "        \"epoch\": -1,\n",
    "    },\n",
    "    \"gan_flavor\": \"rgan\",\n",
    "    \"gp_weight\": 0,\n",
    "})\n",
    "data_config = StaticConfig({\n",
    "    \"sparse\": False,\n",
    "    \"pivot\": None,\n",
    "    \"init\": \"pmds\",\n",
    "    \"edge\": {\n",
    "        \"index\": \"full_edge_index\",\n",
    "        \"attr\": \"full_edge_attr\",\n",
    "    },\n",
    "})\n",
    "loss_fns = {\n",
    "    Stress(): 1\n",
    "}\n",
    "ctrler_params = {\n",
    "    \"tau\": 0.95,\n",
    "    \"beta\": 1,\n",
    "    \"exploit_rate\": 0.5,\n",
    "    \"warmup\": 2,\n",
    "}\n",
    "paths = StaticConfig({\n",
    "    \"root\": \"artifacts\",\n",
    "    \"checkpoints\": lambda: f\"{paths.root}/checkpoints/{config.name}\",\n",
    "    \"gen_pretrain\": lambda: f\"{paths.root}/checkpoints/{config.generator.pretrained.name}\",\n",
    "    \"dis_pretrain\": lambda: f\"{paths.root}/checkpoints/{config.discriminator.pretrained.name}\",\n",
    "    \"tensorboard\": lambda: f\"{paths.root}/tensorboards/{config.name}\",\n",
    "    \"visualization\": lambda: f\"{paths.root}/visualizations/{config.name}_{config.test.name}\",\n",
    "    \"log\": lambda: f\"{paths.root}/logs/{config.name}.log\",\n",
    "    \"metrics\": lambda suffix: f\"{paths.root}/metrics/{config.name}_{suffix}.pickle\",\n",
    "})"
   ]
  },
  {
   "cell_type": "code",
   "execution_count": 3,
   "metadata": {
    "id": "mdMEAbH10Qaq"
   },
   "outputs": [],
   "source": [
    "if \" \" in config.name:\n",
    "    raise Exception(\"Space is not allowed in model name.\")"
   ]
  },
  {
   "cell_type": "markdown",
   "metadata": {
    "id": "WynW4ZAdBhep"
   },
   "source": [
    "# Prepare"
   ]
  },
  {
   "cell_type": "markdown",
   "metadata": {
    "id": "DR6-vYtr_i_P"
   },
   "source": [
    "## Get log command"
   ]
  },
  {
   "cell_type": "code",
   "execution_count": 4,
   "metadata": {
    "colab": {
     "base_uri": "https://localhost:8080/"
    },
    "id": "9-QpinlslcTO",
    "outputId": "48ae3716-212c-4d46-9efb-b7b4070f73de"
   },
   "outputs": [
    {
     "name": "stdout",
     "output_type": "stream",
     "text": [
      "cd /users/PAS0027/osu10203/deepgd && tail -n1000 -f 'artifacts/logs/GAN(gan=rgan,data=best(xing,stress),dis=deep,share=6,embed=10,gp=0,lr=1e-4).log'\n"
     ]
    }
   ],
   "source": [
    "print(f\"cd {os.getcwd()} && tail -n1000 -f '{paths.log()}'\")"
   ]
  },
  {
   "cell_type": "code",
   "execution_count": 5,
   "metadata": {},
   "outputs": [
    {
     "name": "stdout",
     "output_type": "stream",
     "text": [
      "tensorboard dev upload --logdir 'artifacts/tensorboards/GAN(gan=rgan,data=best(xing,stress),dis=deep,share=6,embed=10,gp=0,lr=1e-4)'\n"
     ]
    }
   ],
   "source": [
    "print(f\"tensorboard dev upload --logdir '{paths.tensorboard()}'\")"
   ]
  },
  {
   "cell_type": "markdown",
   "metadata": {
    "id": "innqkwvH_ydD"
   },
   "source": [
    "## Set globals"
   ]
  },
  {
   "cell_type": "code",
   "execution_count": 6,
   "metadata": {
    "id": "Qjq7JlSZlkQR"
   },
   "outputs": [],
   "source": [
    "if cuda_idx is not None and torch.cuda.is_available():\n",
    "    device = f'cuda:{cuda_idx}'\n",
    "    pynvml.nvmlInit()\n",
    "    cuda = pynvml.nvmlDeviceGetHandleByIndex(cuda_idx)\n",
    "else:\n",
    "    device = 'cpu'\n",
    "    cuda =  None\n",
    "np.set_printoptions(precision=2)\n",
    "warnings.filterwarnings(\"ignore\", category=RuntimeWarning)"
   ]
  },
  {
   "cell_type": "markdown",
   "metadata": {
    "id": "0da286l_ApEL"
   },
   "source": [
    "## Load data"
   ]
  },
  {
   "cell_type": "code",
   "execution_count": 7,
   "metadata": {
    "colab": {
     "base_uri": "https://localhost:8080/"
    },
    "id": "RFuSHiZJMU4x",
    "outputId": "54065609-aaea-4536-d79c-73bc73b3f576"
   },
   "outputs": [
    {
     "name": "stdout",
     "output_type": "stream",
     "text": [
      "Load from 'cache/G_list.pickle'\n",
      "Load from 'cache/generate_data_list(list,sparse=False,pivot_mode=None,init_mode=pmds,edge_index=full_edge_index,edge_attr=full_edge_attr,pmds_list=ndarray,gviz_list=ndarray,noisy_layout=True,device=cpu).pickle'\n"
     ]
    },
    {
     "name": "stderr",
     "output_type": "stream",
     "text": [
      "/users/PAS0027/osu10203/.conda/envs/deepgd/lib/python3.9/site-packages/torch_geometric/deprecation.py:13: UserWarning: 'data.DataLoader' is deprecated, use 'loader.DataLoader' instead\n",
      "  warnings.warn(out)\n"
     ]
    }
   ],
   "source": [
    "G_list = load_G_list(data_path='data/rome', index_file='data_index.txt', cache='G_list', cache_prefix='cache/')\n",
    "data_list = generate_data_list(G_list, \n",
    "                               sparse=data_config.sparse, \n",
    "                               pivot_mode=data_config.pivot,\n",
    "                               init_mode=data_config.init,\n",
    "                               edge_index=data_config.edge.index,\n",
    "                               edge_attr=data_config.edge.attr,\n",
    "                               pmds_list=np.load('layouts/rome/pmds.npy', allow_pickle=True),\n",
    "                               gviz_list=np.load('layouts/rome/gviz.npy', allow_pickle=True),\n",
    "                               noisy_layout=True,\n",
    "                               device='cpu', \n",
    "                               cache=True,\n",
    "                               cache_prefix='cache/')\n",
    "train_loader = LazyDeviceMappingDataLoader(data_list[:10000], batch_size=config.batchsize, shuffle=True, device=device)\n",
    "val_loader = LazyDeviceMappingDataLoader(data_list[11000:], batch_size=config.batchsize, shuffle=False, device=device)"
   ]
  },
  {
   "cell_type": "code",
   "execution_count": 8,
   "metadata": {
    "id": "djd1pLt2OxZq"
   },
   "outputs": [],
   "source": [
    "def draw_layout(G, method, draw=True):\n",
    "    if method == 'fa2':\n",
    "        layout = get_fa2_layout(G)\n",
    "    else:\n",
    "        try:\n",
    "            fn = getattr(nx.drawing.layout, f'{method}_layout')\n",
    "            layout = fn(G)\n",
    "        except:\n",
    "            layout = nx.drawing.nx_agraph.graphviz_layout(G, prog=method)\n",
    "    if draw:\n",
    "        nx.draw(G, pos=layout)\n",
    "    return layout"
   ]
  },
  {
   "cell_type": "code",
   "execution_count": 9,
   "metadata": {
    "id": "2vBBw77lR7Em"
   },
   "outputs": [],
   "source": [
    "methods = ['neato', 'dot', 'fdp', 'sfdp', 'twopi', 'circo', 'shell', 'spring', 'circular', 'spectral', 'kamada_kawai', 'fa2', 'pmds']"
   ]
  },
  {
   "cell_type": "code",
   "execution_count": 10,
   "metadata": {
    "id": "dx6VVA9XIc2O"
   },
   "outputs": [],
   "source": [
    "from functools import lru_cache\n",
    "\n",
    "@lru_cache(maxsize=None)\n",
    "def load_pos(method):\n",
    "    return np.load(f'layouts/rome/{method}.npy', allow_pickle=True)"
   ]
  },
  {
   "cell_type": "code",
   "execution_count": 11,
   "metadata": {
    "colab": {
     "base_uri": "https://localhost:8080/",
     "height": 1000,
     "referenced_widgets": [
      "05a37aeeb20049dfa2f97287b3990556",
      "a75afae3adfd4810a0b0991a062535ee",
      "a24ae105ed124595992f7e2e5f909247",
      "01b4cabaf8004dd4b9269b4e6889c498",
      "f3c7c84f2b314bd8b97a7358deaf4fa1",
      "35e4a83e692b4a7bafb46fdf192b2586",
      "62847b5e2678459f845159eef6d4feab",
      "143e81f00313436dacfa246a57108944",
      "e05833f11803400b95ff22246cdc8f2b",
      "53aeede91e074378b5d7f626165655ee",
      "79a43768c1794a10a788a49e5883aa2c"
     ]
    },
    "id": "MSmP-jem9I0X",
    "outputId": "c698f0bf-e96e-4de9-aeda-0b046fc0a03f",
    "scrolled": true,
    "tags": []
   },
   "outputs": [],
   "source": [
    "# best_list = []\n",
    "# best_layout_list = []\n",
    "# for idx, (G, data) in enumerate(zip(tqdm(G_list), data_list)):\n",
    "#     xing, stress, layout = {}, {}, {}\n",
    "#     for m in methods:\n",
    "#         batch = Batch.from_data_list([data])\n",
    "#         pos = load_pos(m)\n",
    "#         p = CanonicalizationByStress()(torch.tensor(pos[idx]).float(), batch)\n",
    "#         x = Xing()(p, batch).item()\n",
    "#         s = Stress()(p, batch).item()\n",
    "#         xing[m] = x\n",
    "#         stress[m] = s\n",
    "#         layout[m] = p.numpy()\n",
    "#         # plt.figure()\n",
    "#         # graph_vis(G, pos[idx])\n",
    "#         # plt.title(f'{m} stress={s:.2f} xing={x}')\n",
    "#     best, *_ = sorted(methods, key=lambda m: (xing[m], stress[m]))\n",
    "#     best_list.append(best)\n",
    "#     best_layout_list.append(layout[best])\n",
    "#     print(f'{best}, xing={xing[best]}, stress={stress[best]:.2f}')"
   ]
  },
  {
   "cell_type": "code",
   "execution_count": 12,
   "metadata": {
    "colab": {
     "base_uri": "https://localhost:8080/"
    },
    "id": "Mx2bZNugdTqa",
    "outputId": "cec05a67-18e8-492f-aaa1-057274a8341a"
   },
   "outputs": [],
   "source": [
    "# pickle.dump(best_list, open('layouts/rome/best[xing,stress].pkl', 'wb'))\n",
    "# np.save('layouts/rome/best[xing,stress].npy', best_layout_list)"
   ]
  },
  {
   "cell_type": "code",
   "execution_count": 13,
   "metadata": {
    "colab": {
     "base_uri": "https://localhost:8080/",
     "height": 49,
     "referenced_widgets": [
      "7e0ae84dd0f3458d893c81b029fe1729",
      "18bdc3bf80fb434abde68de5b72a8870",
      "2e3552ded9594635a51832387ae754a0",
      "54f4aa5080c6498080a63be2cdeefee5",
      "3937586d0879451da5e2138ca3bfd0a0",
      "a9df6e84ce8c499eb2b2cf984995d791",
      "7af6b718dd3d4e01b264377a2fa938e2",
      "a774c86e64004bd6951645f1c24abad4",
      "c86575117cd041f2837762f37d1f387b",
      "6e9907cefb1241688fbd248b8281ed9f",
      "9b8e5405d8264944acab57e81f2f5ad6"
     ]
    },
    "id": "A1-w1fspC53p",
    "outputId": "09c2d5c3-1eef-41eb-dcee-581af1294804"
   },
   "outputs": [
    {
     "data": {
      "application/vnd.jupyter.widget-view+json": {
       "model_id": "d31fd1e2eaa44f9aa418985021f6153c",
       "version_major": 2,
       "version_minor": 0
      },
      "text/plain": [
       "  0%|          | 0/11531 [00:00<?, ?it/s]"
      ]
     },
     "metadata": {},
     "output_type": "display_data"
    }
   ],
   "source": [
    "best_layout_list = np.load('layouts/rome/best[xing,stress].npy', allow_pickle=True)\n",
    "for data, layout in zip(tqdm(data_list), best_layout_list):\n",
    "    data.gt_pos = torch.tensor(layout)"
   ]
  },
  {
   "cell_type": "code",
   "execution_count": 14,
   "metadata": {
    "id": "y6EGh4U7exL_"
   },
   "outputs": [],
   "source": [
    "train_loader = LazyDeviceMappingDataLoader(data_list[:10000], batch_size=config.batchsize, shuffle=True, device=device)\n",
    "val_loader = LazyDeviceMappingDataLoader(data_list[11000:], batch_size=config.batchsize, shuffle=False, device=device)"
   ]
  },
  {
   "cell_type": "code",
   "execution_count": 15,
   "metadata": {
    "colab": {
     "base_uri": "https://localhost:8080/",
     "height": 103,
     "referenced_widgets": [
      "38a33cf69aff48f4aabd4902a7ce48b1",
      "57e277bcb44c4e2fa2a12105d75153d1",
      "20ce017c46bd4a7c9b420270ac579405",
      "13f2df4fe0ce4af88b6e3bd1637065b0",
      "2867faa145ca4860a198d4d0bf830f89",
      "02838cf669174ed9afa41a1a8e680765",
      "7e9e3c031667455f8baca163d3a213e5",
      "4000135e7dfa46529fa6244fccc5cb57",
      "e523e9faac5b4ec38643c05ac5ba99f7",
      "e8e3ee9741e4480dae5003ccc19a7891",
      "9a569045221b43acb3ba2fbf116b2c74"
     ]
    },
    "id": "YEfRRUK0NiNm",
    "outputId": "93f53d05-7667-4cda-a38e-c3a953124f79"
   },
   "outputs": [],
   "source": [
    "# for m in methods:\n",
    "#     layouts = []\n",
    "#     for G in tqdm(G_list):\n",
    "#         layout = draw_layout(G, method=m, draw=False)\n",
    "#         layouts.append(np.array(list(layout.values())))\n",
    "#     np.save(f'layouts/rome/{m}.npy', layouts)"
   ]
  },
  {
   "cell_type": "code",
   "execution_count": 16,
   "metadata": {
    "colab": {
     "base_uri": "https://localhost:8080/",
     "height": 564
    },
    "id": "upK7AHYqPmC5",
    "outputId": "29a88e61-f55f-409c-9194-12c6d5762528"
   },
   "outputs": [],
   "source": [
    "# from collections import Counter\n",
    "\n",
    "# letter_counts = Counter(best_list)\n",
    "# df = pd.DataFrame.from_dict(letter_counts, orient='index')\n",
    "# df.plot(kind='bar', figsize=[12, 8])"
   ]
  },
  {
   "cell_type": "markdown",
   "metadata": {
    "id": "f-ODE2k8BFV6"
   },
   "source": [
    "## Create folders"
   ]
  },
  {
   "cell_type": "code",
   "execution_count": 17,
   "metadata": {
    "id": "3ykUMINYBRog"
   },
   "outputs": [],
   "source": [
    "mkdirs(paths.checkpoints(), paths.tensorboard(), paths.visualization(), f\"{paths.root}/logs\", f\"{paths.root}/metrics\")"
   ]
  },
  {
   "cell_type": "markdown",
   "metadata": {
    "id": "BFq9k5nzBIh5"
   },
   "source": [
    "## Load checkpoints"
   ]
  },
  {
   "cell_type": "code",
   "execution_count": 18,
   "metadata": {
    "id": "W5NbsKkobIfA"
   },
   "outputs": [],
   "source": [
    "class EdgeFeatureDiscriminator(nn.Module):\n",
    "    def __init__(self, \n",
    "                 conv, \n",
    "                 dense,\n",
    "                 shared_depth,\n",
    "                 enet_depth,\n",
    "                 enet_width,\n",
    "                 aggr='add', \n",
    "                 root_weight=True,\n",
    "                 normalize=None):\n",
    "        super().__init__()\n",
    "        self.enet = nn.Sequential(*[\n",
    "            DenseLayer(in_dim=in_d,\n",
    "                       out_dim=out_d,\n",
    "                       skip=nonlin,\n",
    "                       bn=nonlin,\n",
    "                       act=nonlin,\n",
    "                       dp=None)\n",
    "            for in_d, out_d, nonlin \n",
    "            in zip([self._get_feature_dim()] + [enet_width] * (shared_depth-1),\n",
    "                   [enet_width] * shared_depth,\n",
    "                   [True] * (shared_depth-1) + [False])     \n",
    "        ])\n",
    "        self.blocks = nn.ModuleList([\n",
    "            GNNLayer(nfeat_dims=(in_d, out_d),\n",
    "                     efeat_dim=enet_width,\n",
    "                     edge_net=EdgeNet(nfeat_dims=(in_d, out_d), \n",
    "                                      efeat_dim=enet_width, \n",
    "                                      depth=enet_depth, \n",
    "                                      width=enet_width),\n",
    "                     aggr=aggr,\n",
    "                     dense=False,\n",
    "                     skip=nonlin,\n",
    "                     bn=nonlin,\n",
    "                     act=nonlin,\n",
    "                     root_weight=root_weight) \n",
    "            for in_d, out_d, nonlin \n",
    "            in zip(conv[:-1], conv[1:], [True] * (len(conv)-2) + [False])     \n",
    "        ])\n",
    "        self.pool = (gnn.global_mean_pool if aggr == 'mean' \n",
    "                     else gnn.global_add_pool if aggr == 'add' \n",
    "                     else None)\n",
    "        self.dense = nn.Identity() if not dense else nn.Sequential(*[\n",
    "            DenseLayer(in_dim=in_d,\n",
    "                       out_dim=out_d,\n",
    "                       skip=nonlin,\n",
    "                       bn=nonlin,\n",
    "                       act=nonlin,\n",
    "                       dp=None)\n",
    "            for in_d, out_d, nonlin \n",
    "            in zip(conv[-1:] + dense[:-1], dense, [True] * (len(dense)-1) + [False])     \n",
    "        ])\n",
    "        self.normalize = normalize or IdentityTransformation()\n",
    "    \n",
    "    def forward(self, batch):\n",
    "        x = torch.ones_like(batch.pos)\n",
    "        e = self.enet(self._get_features(self._get_edge_info(batch, layout='pos')))\n",
    "        for block in self.blocks:\n",
    "            x = block(x, e, batch)\n",
    "        x = self.pool(x, batch.batch)\n",
    "        x = self.dense(x)\n",
    "        return x\n",
    "    \n",
    "    def _get_edge_info(self, batch, layout='gt_pos'):\n",
    "        pos = self.normalize(batch[layout].float(), batch)\n",
    "        src, dst = get_edges(pos, batch)\n",
    "        v, u = l2_normalize(dst - src, return_norm=True)\n",
    "        d = batch.edge_attr[:, :1]\n",
    "        return {\n",
    "            \"src\": src,\n",
    "            \"dst\": dst,\n",
    "            \"v\": v,\n",
    "            \"u\": u,\n",
    "            \"d\": d,\n",
    "        }\n",
    "\n",
    "    def _get_features(self, edges):\n",
    "        return torch.cat([edges['src'], edges['dst'], edges['d']], dim=1)\n",
    "        \n",
    "    def _get_feature_dim(self):\n",
    "        return self._get_features({\n",
    "            \"src\": torch.zeros(1, 2),\n",
    "            \"dst\": torch.zeros(1, 2),\n",
    "            \"v\": torch.zeros(1, 2),\n",
    "            \"u\": torch.zeros(1, 1),\n",
    "            \"d\": torch.zeros(1, 1),\n",
    "        }).shape[-1]"
   ]
  },
  {
   "cell_type": "code",
   "execution_count": 19,
   "metadata": {
    "id": "96ZActxlL0fJ"
   },
   "outputs": [],
   "source": [
    "class StressDiscriminator(nn.Module):\n",
    "    def __init__(self, normalize=CanonicalizationByStress(), **kwargs):\n",
    "        super().__init__()\n",
    "        self.dummy = nn.Parameter(torch.zeros(1))\n",
    "        self.normalize = normalize\n",
    "        self.stress = Stress(reduce=None)\n",
    "\n",
    "    def forward(self, batch):\n",
    "        return -self.stress(self.normalize(batch.pos, batch), batch)"
   ]
  },
  {
   "cell_type": "code",
   "execution_count": 20,
   "metadata": {
    "id": "IJ6xCYBUuhcw"
   },
   "outputs": [],
   "source": [
    "def get_ckpt_epoch(folder, epoch):\n",
    "    if not os.path.isdir(folder):\n",
    "        os.mkdir(folder)\n",
    "    if epoch >= 0:\n",
    "        return epoch\n",
    "    ckpt_files = os.listdir(folder)\n",
    "    last_epoch = 0\n",
    "    if ckpt_files:\n",
    "        last_epoch = sorted(list(map(lambda x: int(re.search('(?<=epoch_)(\\d+)(?=\\.)', x).group(1)), ckpt_files)))[-1]\n",
    "    return last_epoch + epoch + 1\n",
    "\n",
    "def start_epoch():\n",
    "    return get_ckpt_epoch(paths.checkpoints(), config.epoch.start)"
   ]
  },
  {
   "cell_type": "code",
   "execution_count": 21,
   "metadata": {
    "colab": {
     "base_uri": "https://localhost:8080/"
    },
    "id": "JacDYXka9U01",
    "outputId": "ef4e31ab-2144-497c-8e4f-4d3740ce2d52"
   },
   "outputs": [
    {
     "name": "stdout",
     "output_type": "stream",
     "text": [
      "Loading from artifacts/checkpoints/GAN(gan=rgan,data=best(xing,stress),dis=deep,share=6,embed=10,gp=0,lr=1e-4)/gen_epoch_667.pt...\n",
      "Loading from artifacts/checkpoints/GAN(gan=rgan,data=best(xing,stress),dis=deep,share=6,embed=10,gp=0,lr=1e-4)/gen_optim_epoch_667.pt...\n"
     ]
    }
   ],
   "source": [
    "generator = Generator(**config.generator.params[...]).to(device)\n",
    "generator_optimizer = config.generator.optim(generator.parameters(), lr=config.generator.lr.initial * config.generator.lr.decay ** start_epoch())\n",
    "generator_scheduler = torch.optim.lr_scheduler.ExponentialLR(generator_optimizer, gamma=config.generator.lr.decay)\n",
    "if start_epoch() != 0:\n",
    "    gen_ckpt_epoch = start_epoch()\n",
    "elif config.generator.pretrained.name is not None and config.generator.pretrained.epoch != 0:\n",
    "    gen_pretrained_epoch = get_ckpt_epoch(paths.gen_pretrain(), config.generator.pretrained.epoch)\n",
    "    gen_ckpt_epoch = gen_pretrained_epoch \n",
    "else:\n",
    "    gen_ckpt_epoch = None\n",
    "if gen_ckpt_epoch is not None:\n",
    "    # Load generator\n",
    "    gen_ckpt_file = f\"{paths.checkpoints()}/gen_epoch_{gen_ckpt_epoch}.pt\"\n",
    "    print(f\"Loading from {gen_ckpt_file}...\")\n",
    "    generator.load_state_dict(torch.load(gen_ckpt_file, map_location=torch.device(device)))\n",
    "    # Load generator optimizer\n",
    "    gen_optim_ckpt_file = f\"{paths.checkpoints()}/gen_optim_epoch_{gen_ckpt_epoch}.pt\"\n",
    "    print(f\"Loading from {gen_optim_ckpt_file}...\")\n",
    "    generator_optimizer.load_state_dict(torch.load(gen_optim_ckpt_file, map_location=torch.device(device)))"
   ]
  },
  {
   "cell_type": "code",
   "execution_count": 22,
   "metadata": {
    "colab": {
     "base_uri": "https://localhost:8080/"
    },
    "id": "oWQhD7-88VXe",
    "outputId": "3ba01600-b546-4e45-a6bd-c7a65af1ae9e"
   },
   "outputs": [
    {
     "name": "stdout",
     "output_type": "stream",
     "text": [
      "Loading from artifacts/checkpoints/GAN(gan=rgan,data=best(xing,stress),dis=deep,share=6,embed=10,gp=0,lr=1e-4)/dis_epoch_667.pt...\n",
      "Loading from artifacts/checkpoints/GAN(gan=rgan,data=best(xing,stress),dis=deep,share=6,embed=10,gp=0,lr=1e-4)/dis_optim_epoch_667.pt...\n"
     ]
    }
   ],
   "source": [
    "discriminator = EdgeFeatureDiscriminator(**config.discriminator.params[...]).to(device)\n",
    "discriminator_optimizer = config.discriminator.optim(discriminator.parameters(), lr=config.discriminator.lr.initial * config.discriminator.lr.decay ** start_epoch())\n",
    "discriminator_scheduler = torch.optim.lr_scheduler.ExponentialLR(discriminator_optimizer, gamma=config.discriminator.lr.decay)\n",
    "if start_epoch() != 0:\n",
    "    dis_ckpt_epoch = start_epoch()\n",
    "elif config.discriminator.pretrained.name is not None and config.discriminator.pretrained.epoch != 0:\n",
    "    dis_pretrained_epoch = get_ckpt_epoch(paths.dis_pretrain(), config.discriminator.pretrained.epoch)\n",
    "    dis_ckpt_epoch = dis_pretrained_epoch # f\"{paths.dis_pretrain()}/dis_epoch_{dis_pretrained_epoch}.pt\"\n",
    "else:\n",
    "    dis_ckpt_epoch = None\n",
    "if dis_ckpt_epoch is not None:\n",
    "    # Load discriminator\n",
    "    dis_ckpt_file = f\"{paths.checkpoints()}/dis_epoch_{dis_ckpt_epoch}.pt\"\n",
    "    print(f\"Loading from {dis_ckpt_file}...\")\n",
    "    discriminator.load_state_dict(torch.load(dis_ckpt_file, map_location=torch.device(device)))\n",
    "    # Load discriminator optimizer\n",
    "    dis_optim_ckpt_file = f\"{paths.checkpoints()}/dis_optim_epoch_{dis_ckpt_epoch}.pt\"\n",
    "    print(f\"Loading from {dis_optim_ckpt_file}...\")\n",
    "    discriminator_optimizer.load_state_dict(torch.load(dis_optim_ckpt_file, map_location=torch.device(device)))"
   ]
  },
  {
   "cell_type": "markdown",
   "metadata": {
    "id": "N39dDHraedM6"
   },
   "source": [
    "# Train"
   ]
  },
  {
   "cell_type": "code",
   "execution_count": 23,
   "metadata": {
    "id": "BdIJSDSJedM-"
   },
   "outputs": [],
   "source": [
    "stress_criterion = StressDiscriminator().to(device)\n",
    "val_criterion = Stress(reduce=None)\n",
    "xing_criterion = Xing(reduce=None)\n",
    "dis_convert = DiscriminatorDataConverter(complete_graph=config.discriminator.complete, normalize=config.discriminator.params.normalize)\n",
    "tensorboard = SummaryWriter(log_dir=paths.tensorboard())\n",
    "epoch = start_epoch() + 1"
   ]
  },
  {
   "cell_type": "code",
   "execution_count": 24,
   "metadata": {
    "id": "OHRWj1h0edM-"
   },
   "outputs": [],
   "source": [
    "def gradient_penalty(interpolated, discriminator, weight=10):\n",
    "    interpolated.pos.requires_grad_()\n",
    "    prob_interpolated = discriminator(interpolated)\n",
    "    gradients = autograd.grad(outputs=prob_interpolated, \n",
    "                              inputs=interpolated.pos,\n",
    "                              grad_outputs=torch.ones_like(prob_interpolated),\n",
    "                              create_graph=True, \n",
    "                              retain_graph=True, \n",
    "                              allow_unused=True)[0]\n",
    "    gradients_norm = torch.sqrt(gnn.global_add_pool(gradients.square().sum(dim=1), batch.batch) + 1e-8)\n",
    "    return weight * ((gradients_norm - 1) ** 2).mean()"
   ]
  },
  {
   "cell_type": "code",
   "execution_count": 25,
   "metadata": {
    "id": "o5wJJN9AedM_"
   },
   "outputs": [],
   "source": [
    "def get_gp_loss(batch, fake_pos, weight):\n",
    "    if weight > 0:\n",
    "        interp = dis_convert(batch, fake_pos, random.random())\n",
    "        return gradient_penalty(interp, discriminator, weight).mean()\n",
    "    return 0"
   ]
  },
  {
   "cell_type": "code",
   "execution_count": 26,
   "metadata": {
    "id": "QwuA6sRoedM_"
   },
   "outputs": [],
   "source": [
    "def get_sgan_loss(batch, fake_pos, mode='discriminator'):\n",
    "    real = dis_convert(batch)\n",
    "    fake = dis_convert(batch, fake_pos)\n",
    "    pred = discriminator(merge_batch(real, fake)).view(2, -1).T\n",
    "    if mode == 'discriminator':\n",
    "        label = torch.zeros(pred.shape[0]).long()\n",
    "    elif mode == 'generator':\n",
    "        label = torch.ones(pred.shape[0]).long()\n",
    "    else:\n",
    "        raise Exception\n",
    "    return nn.CrossEntropyLoss()(pred, label)"
   ]
  },
  {
   "cell_type": "code",
   "execution_count": 27,
   "metadata": {
    "id": "GuAP1YchedNA"
   },
   "outputs": [],
   "source": [
    "def get_rgan_loss(batch, fake_pos, mode='discriminator'):\n",
    "    real = dis_convert(batch)\n",
    "    fake = dis_convert(batch, fake_pos)\n",
    "    pred = discriminator(merge_batch(real, fake)).view(2, -1).T\n",
    "    real_pred, fake_pred = pred[:,0], pred[:,1]\n",
    "    if mode == 'discriminator':\n",
    "        losses = - F.logsigmoid(real_pred - fake_pred)\n",
    "    elif mode == 'generator':\n",
    "        losses = - F.logsigmoid(fake_pred - real_pred)\n",
    "    else:\n",
    "        raise Exception\n",
    "    return losses.mean()"
   ]
  },
  {
   "cell_type": "code",
   "execution_count": 28,
   "metadata": {
    "id": "KFllQ7BredNA"
   },
   "outputs": [],
   "source": [
    "def get_wgan_loss(batch, fake_pos, mode='discriminator'):\n",
    "    real = dis_convert(batch)\n",
    "    fake = dis_convert(batch, fake_pos)\n",
    "    pred = discriminator(merge_batch(real, fake)).view(2, -1).T\n",
    "    real_pred, fake_pred = pred[:,0], pred[:,1]\n",
    "    if mode == 'discriminator':\n",
    "        losses = fake_pred - real_pred \n",
    "    elif mode == 'generator':\n",
    "        losses = real_pred - fake_pred\n",
    "    else:\n",
    "        raise Exception\n",
    "    return losses.mean()"
   ]
  },
  {
   "cell_type": "code",
   "execution_count": 29,
   "metadata": {
    "id": "r5Kg_tYEedNA"
   },
   "outputs": [],
   "source": [
    "def get_ragan_loss(batch, fake_pos, mode='discriminator'):\n",
    "    real = dis_convert(batch)\n",
    "    fake = dis_convert(batch, fake_pos)\n",
    "    pred = discriminator(merge_batch(real, fake)).view(2, -1).T\n",
    "    real_pred, fake_pred = pred[:,0], pred[:,1]\n",
    "    if mode == 'discriminator':\n",
    "        losses = - F.logsigmoid(real_pred - fake_pred.mean()) - F.logsigmoid(real_pred.mean() - fake_pred)\n",
    "    elif mode == 'generator':\n",
    "        losses = - F.logsigmoid(fake_pred - real_pred.mean()) - F.logsigmoid(fake_pred.mean() - real_pred)\n",
    "    else:\n",
    "        raise Exception\n",
    "    return losses.mean()"
   ]
  },
  {
   "cell_type": "code",
   "execution_count": 30,
   "metadata": {},
   "outputs": [],
   "source": [
    "def get_dgdv2_loss(batch, fake_pos, mode='discriminator'):\n",
    "    fake = dis_convert(batch, fake_pos)\n",
    "    pred = discriminator(fake)\n",
    "    if mode == 'discriminator':\n",
    "        gt = get_gt(batch, fake_pos)\n",
    "        loss = criterion(pred, gt)\n",
    "    elif mode == 'generator':\n",
    "        losses = pred.sum(dim=0)\n",
    "#         losses = torch.tensor(config.importance).to(device) * losses #/ losses.detach()\n",
    "        loss = losses.sum()\n",
    "    else:\n",
    "        raise Exception\n",
    "    return -loss"
   ]
  },
  {
   "cell_type": "code",
   "execution_count": 31,
   "metadata": {
    "id": "3IE_84f-edNB"
   },
   "outputs": [],
   "source": [
    "def get_gan_loss(batch, fake_pos, mode='discriminator'):\n",
    "    return {\"sgan\": get_sgan_loss,\n",
    "            \"wgan\": get_wgan_loss,\n",
    "            \"rgan\": get_rgan_loss,\n",
    "            \"ragan\": get_ragan_loss,\n",
    "            \"dgdv2\": get_dgdv2_loss}[config.gan_flavor](batch, fake_pos, mode)"
   ]
  },
  {
   "cell_type": "code",
   "execution_count": 32,
   "metadata": {
    "colab": {
     "background_save": true,
     "base_uri": "https://localhost:8080/",
     "height": 80
    },
    "id": "2NjekXgkedNB",
    "outputId": "da85b2ec-c0de-459c-c0dd-7ba3519419fa",
    "scrolled": true,
    "tags": []
   },
   "outputs": [
    {
     "data": {
      "application/vnd.jupyter.widget-view+json": {
       "model_id": "1c5c85ae99604f68b42acacbe06395dd",
       "version_major": 2,
       "version_minor": 0
      },
      "text/plain": [
       "Tab(children=(VBox(children=(Wrapper(), Hud())), HBox(children=(Output(),), layout=Layout(height='500px', over…"
      ]
     },
     "metadata": {},
     "output_type": "display_data"
    },
    {
     "ename": "KeyboardInterrupt",
     "evalue": "",
     "output_type": "error",
     "traceback": [
      "\u001b[0;31m---------------------------------------------------------------------------\u001b[0m",
      "\u001b[0;31mKeyboardInterrupt\u001b[0m                         Traceback (most recent call last)",
      "\u001b[0;32m/tmp/slurmtmp.5650544/ipykernel_102767/801679965.py\u001b[0m in \u001b[0;36m<module>\u001b[0;34m\u001b[0m\n\u001b[1;32m    127\u001b[0m     \u001b[0;32mfor\u001b[0m \u001b[0m_\u001b[0m \u001b[0;32min\u001b[0m \u001b[0mrange\u001b[0m\u001b[0;34m(\u001b[0m\u001b[0mconfig\u001b[0m\u001b[0;34m.\u001b[0m\u001b[0mdiscriminator\u001b[0m\u001b[0;34m.\u001b[0m\u001b[0mrepeat\u001b[0m\u001b[0;34m)\u001b[0m\u001b[0;34m:\u001b[0m\u001b[0;34m\u001b[0m\u001b[0;34m\u001b[0m\u001b[0m\n\u001b[1;32m    128\u001b[0m         \u001b[0;32mfor\u001b[0m \u001b[0mbatch\u001b[0m \u001b[0;32min\u001b[0m \u001b[0mtrain_loader\u001b[0m\u001b[0;34m:\u001b[0m\u001b[0;34m\u001b[0m\u001b[0;34m\u001b[0m\u001b[0m\n\u001b[0;32m--> 129\u001b[0;31m             \u001b[0mtrain_dis\u001b[0m\u001b[0;34m(\u001b[0m\u001b[0mbatch\u001b[0m\u001b[0;34m,\u001b[0m \u001b[0mepoch\u001b[0m\u001b[0;34m)\u001b[0m\u001b[0;34m\u001b[0m\u001b[0;34m\u001b[0m\u001b[0m\n\u001b[0m\u001b[1;32m    130\u001b[0m             \u001b[0;32mif\u001b[0m \u001b[0mconfig\u001b[0m\u001b[0;34m.\u001b[0m\u001b[0malternate\u001b[0m \u001b[0;34m==\u001b[0m \u001b[0;34m'iteration'\u001b[0m\u001b[0;34m:\u001b[0m\u001b[0;34m\u001b[0m\u001b[0;34m\u001b[0m\u001b[0m\n\u001b[1;32m    131\u001b[0m                 \u001b[0mtrain_gen\u001b[0m\u001b[0;34m(\u001b[0m\u001b[0mbatch\u001b[0m\u001b[0;34m,\u001b[0m \u001b[0mepoch\u001b[0m\u001b[0;34m)\u001b[0m\u001b[0;34m\u001b[0m\u001b[0;34m\u001b[0m\u001b[0m\n",
      "\u001b[0;32m/tmp/slurmtmp.5650544/ipykernel_102767/801679965.py\u001b[0m in \u001b[0;36mtrain_dis\u001b[0;34m(batch, epoch)\u001b[0m\n\u001b[1;32m      2\u001b[0m     \u001b[0mgenerator\u001b[0m\u001b[0;34m.\u001b[0m\u001b[0mrequires_grad_\u001b[0m\u001b[0;34m(\u001b[0m\u001b[0;32mFalse\u001b[0m\u001b[0;34m)\u001b[0m\u001b[0;34m\u001b[0m\u001b[0;34m\u001b[0m\u001b[0m\n\u001b[1;32m      3\u001b[0m     \u001b[0mdiscriminator\u001b[0m\u001b[0;34m.\u001b[0m\u001b[0mzero_grad\u001b[0m\u001b[0;34m(\u001b[0m\u001b[0;34m)\u001b[0m\u001b[0;34m\u001b[0m\u001b[0;34m\u001b[0m\u001b[0m\n\u001b[0;32m----> 4\u001b[0;31m     \u001b[0mgenerator_output\u001b[0m \u001b[0;34m=\u001b[0m \u001b[0mgenerator\u001b[0m\u001b[0;34m(\u001b[0m\u001b[0mbatch\u001b[0m\u001b[0;34m)\u001b[0m\u001b[0;34m\u001b[0m\u001b[0;34m\u001b[0m\u001b[0m\n\u001b[0m\u001b[1;32m      5\u001b[0m     \u001b[0;32mif\u001b[0m \u001b[0mconfig\u001b[0m\u001b[0;34m.\u001b[0m\u001b[0mdiscriminator\u001b[0m\u001b[0;34m.\u001b[0m\u001b[0mnoise\u001b[0m\u001b[0;34m.\u001b[0m\u001b[0mstd\u001b[0m \u001b[0;34m>\u001b[0m \u001b[0;36m0\u001b[0m\u001b[0;34m:\u001b[0m\u001b[0;34m\u001b[0m\u001b[0;34m\u001b[0m\u001b[0m\n\u001b[1;32m      6\u001b[0m         \u001b[0mgenerator_output\u001b[0m \u001b[0;34m=\u001b[0m \u001b[0mgenerator_output\u001b[0m \u001b[0;34m+\u001b[0m \u001b[0mtorch\u001b[0m\u001b[0;34m.\u001b[0m\u001b[0mrandn_like\u001b[0m\u001b[0;34m(\u001b[0m\u001b[0mgenerator_output\u001b[0m\u001b[0;34m)\u001b[0m \u001b[0;34m*\u001b[0m \u001b[0mconfig\u001b[0m\u001b[0;34m.\u001b[0m\u001b[0mdiscriminator\u001b[0m\u001b[0;34m.\u001b[0m\u001b[0mnoise\u001b[0m\u001b[0;34m.\u001b[0m\u001b[0mstd\u001b[0m \u001b[0;34m*\u001b[0m \u001b[0mconfig\u001b[0m\u001b[0;34m.\u001b[0m\u001b[0mdiscriminator\u001b[0m\u001b[0;34m.\u001b[0m\u001b[0mnoise\u001b[0m\u001b[0;34m.\u001b[0m\u001b[0mdecay\u001b[0m \u001b[0;34m**\u001b[0m \u001b[0mepoch\u001b[0m\u001b[0;34m\u001b[0m\u001b[0;34m\u001b[0m\u001b[0m\n",
      "\u001b[0;32m~/.conda/envs/deepgd/lib/python3.9/site-packages/torch/nn/modules/module.py\u001b[0m in \u001b[0;36m_call_impl\u001b[0;34m(self, *input, **kwargs)\u001b[0m\n\u001b[1;32m   1049\u001b[0m         if not (self._backward_hooks or self._forward_hooks or self._forward_pre_hooks or _global_backward_hooks\n\u001b[1;32m   1050\u001b[0m                 or _global_forward_hooks or _global_forward_pre_hooks):\n\u001b[0;32m-> 1051\u001b[0;31m             \u001b[0;32mreturn\u001b[0m \u001b[0mforward_call\u001b[0m\u001b[0;34m(\u001b[0m\u001b[0;34m*\u001b[0m\u001b[0minput\u001b[0m\u001b[0;34m,\u001b[0m \u001b[0;34m**\u001b[0m\u001b[0mkwargs\u001b[0m\u001b[0;34m)\u001b[0m\u001b[0;34m\u001b[0m\u001b[0;34m\u001b[0m\u001b[0m\n\u001b[0m\u001b[1;32m   1052\u001b[0m         \u001b[0;31m# Do not call functions when jit is used\u001b[0m\u001b[0;34m\u001b[0m\u001b[0;34m\u001b[0m\u001b[0m\n\u001b[1;32m   1053\u001b[0m         \u001b[0mfull_backward_hooks\u001b[0m\u001b[0;34m,\u001b[0m \u001b[0mnon_full_backward_hooks\u001b[0m \u001b[0;34m=\u001b[0m \u001b[0;34m[\u001b[0m\u001b[0;34m]\u001b[0m\u001b[0;34m,\u001b[0m \u001b[0;34m[\u001b[0m\u001b[0;34m]\u001b[0m\u001b[0;34m\u001b[0m\u001b[0;34m\u001b[0m\u001b[0m\n",
      "\u001b[0;32m~/deepgd/deepgd/modules.py\u001b[0m in \u001b[0;36mforward\u001b[0;34m(self, data, weights, output_hidden, numpy)\u001b[0m\n\u001b[1;32m    625\u001b[0m                            \u001b[0mself\u001b[0m\u001b[0;34m.\u001b[0m\u001b[0mhid_blocks\u001b[0m\u001b[0;34m,\u001b[0m\u001b[0;34m\u001b[0m\u001b[0;34m\u001b[0m\u001b[0m\n\u001b[1;32m    626\u001b[0m                            self.out_blocks):\n\u001b[0;32m--> 627\u001b[0;31m             \u001b[0mv\u001b[0m \u001b[0;34m=\u001b[0m \u001b[0mblock\u001b[0m\u001b[0;34m(\u001b[0m\u001b[0mv\u001b[0m\u001b[0;34m,\u001b[0m \u001b[0mdata\u001b[0m\u001b[0;34m,\u001b[0m \u001b[0mweights\u001b[0m\u001b[0;34m)\u001b[0m\u001b[0;34m\u001b[0m\u001b[0;34m\u001b[0m\u001b[0m\n\u001b[0m\u001b[1;32m    628\u001b[0m             \u001b[0;32mif\u001b[0m \u001b[0moutput_hidden\u001b[0m\u001b[0;34m:\u001b[0m\u001b[0;34m\u001b[0m\u001b[0;34m\u001b[0m\u001b[0m\n\u001b[1;32m    629\u001b[0m                 \u001b[0mhidden\u001b[0m\u001b[0;34m.\u001b[0m\u001b[0mappend\u001b[0m\u001b[0;34m(\u001b[0m\u001b[0mv\u001b[0m\u001b[0;34m.\u001b[0m\u001b[0mdetach\u001b[0m\u001b[0;34m(\u001b[0m\u001b[0;34m)\u001b[0m\u001b[0;34m.\u001b[0m\u001b[0mcpu\u001b[0m\u001b[0;34m(\u001b[0m\u001b[0;34m)\u001b[0m\u001b[0;34m.\u001b[0m\u001b[0mnumpy\u001b[0m\u001b[0;34m(\u001b[0m\u001b[0;34m)\u001b[0m \u001b[0;32mif\u001b[0m \u001b[0mnumpy\u001b[0m \u001b[0;32melse\u001b[0m \u001b[0mv\u001b[0m\u001b[0;34m)\u001b[0m\u001b[0;34m\u001b[0m\u001b[0;34m\u001b[0m\u001b[0m\n",
      "\u001b[0;32m~/.conda/envs/deepgd/lib/python3.9/site-packages/torch/nn/modules/module.py\u001b[0m in \u001b[0;36m_call_impl\u001b[0;34m(self, *input, **kwargs)\u001b[0m\n\u001b[1;32m   1049\u001b[0m         if not (self._backward_hooks or self._forward_hooks or self._forward_pre_hooks or _global_backward_hooks\n\u001b[1;32m   1050\u001b[0m                 or _global_forward_hooks or _global_forward_pre_hooks):\n\u001b[0;32m-> 1051\u001b[0;31m             \u001b[0;32mreturn\u001b[0m \u001b[0mforward_call\u001b[0m\u001b[0;34m(\u001b[0m\u001b[0;34m*\u001b[0m\u001b[0minput\u001b[0m\u001b[0;34m,\u001b[0m \u001b[0;34m**\u001b[0m\u001b[0mkwargs\u001b[0m\u001b[0;34m)\u001b[0m\u001b[0;34m\u001b[0m\u001b[0;34m\u001b[0m\u001b[0m\n\u001b[0m\u001b[1;32m   1052\u001b[0m         \u001b[0;31m# Do not call functions when jit is used\u001b[0m\u001b[0;34m\u001b[0m\u001b[0;34m\u001b[0m\u001b[0m\n\u001b[1;32m   1053\u001b[0m         \u001b[0mfull_backward_hooks\u001b[0m\u001b[0;34m,\u001b[0m \u001b[0mnon_full_backward_hooks\u001b[0m \u001b[0;34m=\u001b[0m \u001b[0;34m[\u001b[0m\u001b[0;34m]\u001b[0m\u001b[0;34m,\u001b[0m \u001b[0;34m[\u001b[0m\u001b[0;34m]\u001b[0m\u001b[0;34m\u001b[0m\u001b[0;34m\u001b[0m\u001b[0m\n",
      "\u001b[0;32m~/deepgd/deepgd/modules.py\u001b[0m in \u001b[0;36mforward\u001b[0;34m(self, v, data, weights)\u001b[0m\n\u001b[1;32m    423\u001b[0m                          \u001b[0mdirection\u001b[0m\u001b[0;34m=\u001b[0m\u001b[0mself\u001b[0m\u001b[0;34m.\u001b[0m\u001b[0mdirection\u001b[0m \u001b[0;32mand\u001b[0m \u001b[0mget_extra\u001b[0m\u001b[0;34m,\u001b[0m\u001b[0;34m\u001b[0m\u001b[0;34m\u001b[0m\u001b[0m\n\u001b[1;32m    424\u001b[0m                          weights=weights if get_extra and self.n_weights > 0 else None)\n\u001b[0;32m--> 425\u001b[0;31m             \u001b[0mv\u001b[0m \u001b[0;34m=\u001b[0m \u001b[0mself\u001b[0m\u001b[0;34m.\u001b[0m\u001b[0mgnn\u001b[0m\u001b[0;34m[\u001b[0m\u001b[0mlayer\u001b[0m\u001b[0;34m]\u001b[0m\u001b[0;34m(\u001b[0m\u001b[0mv\u001b[0m\u001b[0;34m,\u001b[0m \u001b[0me\u001b[0m\u001b[0;34m,\u001b[0m \u001b[0mdata\u001b[0m\u001b[0;34m)\u001b[0m\u001b[0;34m\u001b[0m\u001b[0;34m\u001b[0m\u001b[0m\n\u001b[0m\u001b[1;32m    426\u001b[0m         \u001b[0;32mreturn\u001b[0m \u001b[0mv\u001b[0m \u001b[0;34m+\u001b[0m \u001b[0mvres\u001b[0m \u001b[0;32mif\u001b[0m \u001b[0mself\u001b[0m\u001b[0;34m.\u001b[0m\u001b[0mresidual\u001b[0m \u001b[0;32melse\u001b[0m \u001b[0mv\u001b[0m\u001b[0;34m\u001b[0m\u001b[0;34m\u001b[0m\u001b[0m\n\u001b[1;32m    427\u001b[0m \u001b[0;34m\u001b[0m\u001b[0m\n",
      "\u001b[0;32m~/.conda/envs/deepgd/lib/python3.9/site-packages/torch/nn/modules/module.py\u001b[0m in \u001b[0;36m_call_impl\u001b[0;34m(self, *input, **kwargs)\u001b[0m\n\u001b[1;32m   1049\u001b[0m         if not (self._backward_hooks or self._forward_hooks or self._forward_pre_hooks or _global_backward_hooks\n\u001b[1;32m   1050\u001b[0m                 or _global_forward_hooks or _global_forward_pre_hooks):\n\u001b[0;32m-> 1051\u001b[0;31m             \u001b[0;32mreturn\u001b[0m \u001b[0mforward_call\u001b[0m\u001b[0;34m(\u001b[0m\u001b[0;34m*\u001b[0m\u001b[0minput\u001b[0m\u001b[0;34m,\u001b[0m \u001b[0;34m**\u001b[0m\u001b[0mkwargs\u001b[0m\u001b[0;34m)\u001b[0m\u001b[0;34m\u001b[0m\u001b[0;34m\u001b[0m\u001b[0m\n\u001b[0m\u001b[1;32m   1052\u001b[0m         \u001b[0;31m# Do not call functions when jit is used\u001b[0m\u001b[0;34m\u001b[0m\u001b[0;34m\u001b[0m\u001b[0m\n\u001b[1;32m   1053\u001b[0m         \u001b[0mfull_backward_hooks\u001b[0m\u001b[0;34m,\u001b[0m \u001b[0mnon_full_backward_hooks\u001b[0m \u001b[0;34m=\u001b[0m \u001b[0;34m[\u001b[0m\u001b[0;34m]\u001b[0m\u001b[0;34m,\u001b[0m \u001b[0;34m[\u001b[0m\u001b[0;34m]\u001b[0m\u001b[0;34m\u001b[0m\u001b[0;34m\u001b[0m\u001b[0m\n",
      "\u001b[0;32m~/deepgd/deepgd/modules.py\u001b[0m in \u001b[0;36mforward\u001b[0;34m(self, v, e, data)\u001b[0m\n\u001b[1;32m    228\u001b[0m     \u001b[0;32mdef\u001b[0m \u001b[0mforward\u001b[0m\u001b[0;34m(\u001b[0m\u001b[0mself\u001b[0m\u001b[0;34m,\u001b[0m \u001b[0mv\u001b[0m\u001b[0;34m,\u001b[0m \u001b[0me\u001b[0m\u001b[0;34m,\u001b[0m \u001b[0mdata\u001b[0m\u001b[0;34m)\u001b[0m\u001b[0;34m:\u001b[0m\u001b[0;34m\u001b[0m\u001b[0;34m\u001b[0m\u001b[0m\n\u001b[1;32m    229\u001b[0m         \u001b[0mv_\u001b[0m \u001b[0;34m=\u001b[0m \u001b[0mv\u001b[0m\u001b[0;34m\u001b[0m\u001b[0;34m\u001b[0m\u001b[0m\n\u001b[0;32m--> 230\u001b[0;31m         \u001b[0mv\u001b[0m \u001b[0;34m=\u001b[0m \u001b[0mself\u001b[0m\u001b[0;34m.\u001b[0m\u001b[0mconv\u001b[0m\u001b[0;34m(\u001b[0m\u001b[0mv\u001b[0m\u001b[0;34m,\u001b[0m \u001b[0mdata\u001b[0m\u001b[0;34m.\u001b[0m\u001b[0medge_index\u001b[0m\u001b[0;34m,\u001b[0m \u001b[0me\u001b[0m\u001b[0;34m)\u001b[0m\u001b[0;34m\u001b[0m\u001b[0;34m\u001b[0m\u001b[0m\n\u001b[0m\u001b[1;32m    231\u001b[0m         \u001b[0mv\u001b[0m \u001b[0;34m=\u001b[0m \u001b[0mself\u001b[0m\u001b[0;34m.\u001b[0m\u001b[0mdense\u001b[0m\u001b[0;34m(\u001b[0m\u001b[0mv\u001b[0m\u001b[0;34m)\u001b[0m\u001b[0;34m\u001b[0m\u001b[0;34m\u001b[0m\u001b[0m\n\u001b[1;32m    232\u001b[0m         \u001b[0mv\u001b[0m \u001b[0;34m=\u001b[0m \u001b[0mself\u001b[0m\u001b[0;34m.\u001b[0m\u001b[0mbn\u001b[0m\u001b[0;34m(\u001b[0m\u001b[0mv\u001b[0m\u001b[0;34m)\u001b[0m\u001b[0;34m\u001b[0m\u001b[0;34m\u001b[0m\u001b[0m\n",
      "\u001b[0;32m~/.conda/envs/deepgd/lib/python3.9/site-packages/torch/nn/modules/module.py\u001b[0m in \u001b[0;36m_call_impl\u001b[0;34m(self, *input, **kwargs)\u001b[0m\n\u001b[1;32m   1049\u001b[0m         if not (self._backward_hooks or self._forward_hooks or self._forward_pre_hooks or _global_backward_hooks\n\u001b[1;32m   1050\u001b[0m                 or _global_forward_hooks or _global_forward_pre_hooks):\n\u001b[0;32m-> 1051\u001b[0;31m             \u001b[0;32mreturn\u001b[0m \u001b[0mforward_call\u001b[0m\u001b[0;34m(\u001b[0m\u001b[0;34m*\u001b[0m\u001b[0minput\u001b[0m\u001b[0;34m,\u001b[0m \u001b[0;34m**\u001b[0m\u001b[0mkwargs\u001b[0m\u001b[0;34m)\u001b[0m\u001b[0;34m\u001b[0m\u001b[0;34m\u001b[0m\u001b[0m\n\u001b[0m\u001b[1;32m   1052\u001b[0m         \u001b[0;31m# Do not call functions when jit is used\u001b[0m\u001b[0;34m\u001b[0m\u001b[0;34m\u001b[0m\u001b[0m\n\u001b[1;32m   1053\u001b[0m         \u001b[0mfull_backward_hooks\u001b[0m\u001b[0;34m,\u001b[0m \u001b[0mnon_full_backward_hooks\u001b[0m \u001b[0;34m=\u001b[0m \u001b[0;34m[\u001b[0m\u001b[0;34m]\u001b[0m\u001b[0;34m,\u001b[0m \u001b[0;34m[\u001b[0m\u001b[0;34m]\u001b[0m\u001b[0;34m\u001b[0m\u001b[0;34m\u001b[0m\u001b[0m\n",
      "\u001b[0;32m~/.conda/envs/deepgd/lib/python3.9/site-packages/torch_geometric/nn/conv/nn_conv.py\u001b[0m in \u001b[0;36mforward\u001b[0;34m(self, x, edge_index, edge_attr, size)\u001b[0m\n\u001b[1;32m     88\u001b[0m \u001b[0;34m\u001b[0m\u001b[0m\n\u001b[1;32m     89\u001b[0m         \u001b[0;31m# propagate_type: (x: OptPairTensor, edge_attr: OptTensor)\u001b[0m\u001b[0;34m\u001b[0m\u001b[0;34m\u001b[0m\u001b[0m\n\u001b[0;32m---> 90\u001b[0;31m         \u001b[0mout\u001b[0m \u001b[0;34m=\u001b[0m \u001b[0mself\u001b[0m\u001b[0;34m.\u001b[0m\u001b[0mpropagate\u001b[0m\u001b[0;34m(\u001b[0m\u001b[0medge_index\u001b[0m\u001b[0;34m,\u001b[0m \u001b[0mx\u001b[0m\u001b[0;34m=\u001b[0m\u001b[0mx\u001b[0m\u001b[0;34m,\u001b[0m \u001b[0medge_attr\u001b[0m\u001b[0;34m=\u001b[0m\u001b[0medge_attr\u001b[0m\u001b[0;34m,\u001b[0m \u001b[0msize\u001b[0m\u001b[0;34m=\u001b[0m\u001b[0msize\u001b[0m\u001b[0;34m)\u001b[0m\u001b[0;34m\u001b[0m\u001b[0;34m\u001b[0m\u001b[0m\n\u001b[0m\u001b[1;32m     91\u001b[0m \u001b[0;34m\u001b[0m\u001b[0m\n\u001b[1;32m     92\u001b[0m         \u001b[0mx_r\u001b[0m \u001b[0;34m=\u001b[0m \u001b[0mx\u001b[0m\u001b[0;34m[\u001b[0m\u001b[0;36m1\u001b[0m\u001b[0;34m]\u001b[0m\u001b[0;34m\u001b[0m\u001b[0;34m\u001b[0m\u001b[0m\n",
      "\u001b[0;32m~/.conda/envs/deepgd/lib/python3.9/site-packages/torch_geometric/nn/conv/message_passing.py\u001b[0m in \u001b[0;36mpropagate\u001b[0;34m(self, edge_index, size, **kwargs)\u001b[0m\n\u001b[1;32m    292\u001b[0m                 \u001b[0;32mif\u001b[0m \u001b[0mres\u001b[0m \u001b[0;32mis\u001b[0m \u001b[0;32mnot\u001b[0m \u001b[0;32mNone\u001b[0m\u001b[0;34m:\u001b[0m\u001b[0;34m\u001b[0m\u001b[0;34m\u001b[0m\u001b[0m\n\u001b[1;32m    293\u001b[0m                     \u001b[0maggr_kwargs\u001b[0m \u001b[0;34m=\u001b[0m \u001b[0mres\u001b[0m\u001b[0;34m[\u001b[0m\u001b[0;36m0\u001b[0m\u001b[0;34m]\u001b[0m \u001b[0;32mif\u001b[0m \u001b[0misinstance\u001b[0m\u001b[0;34m(\u001b[0m\u001b[0mres\u001b[0m\u001b[0;34m,\u001b[0m \u001b[0mtuple\u001b[0m\u001b[0;34m)\u001b[0m \u001b[0;32melse\u001b[0m \u001b[0mres\u001b[0m\u001b[0;34m\u001b[0m\u001b[0;34m\u001b[0m\u001b[0m\n\u001b[0;32m--> 294\u001b[0;31m             \u001b[0mout\u001b[0m \u001b[0;34m=\u001b[0m \u001b[0mself\u001b[0m\u001b[0;34m.\u001b[0m\u001b[0maggregate\u001b[0m\u001b[0;34m(\u001b[0m\u001b[0mout\u001b[0m\u001b[0;34m,\u001b[0m \u001b[0;34m**\u001b[0m\u001b[0maggr_kwargs\u001b[0m\u001b[0;34m)\u001b[0m\u001b[0;34m\u001b[0m\u001b[0;34m\u001b[0m\u001b[0m\n\u001b[0m\u001b[1;32m    295\u001b[0m             \u001b[0;32mfor\u001b[0m \u001b[0mhook\u001b[0m \u001b[0;32min\u001b[0m \u001b[0mself\u001b[0m\u001b[0;34m.\u001b[0m\u001b[0m_aggregate_forward_hooks\u001b[0m\u001b[0;34m.\u001b[0m\u001b[0mvalues\u001b[0m\u001b[0;34m(\u001b[0m\u001b[0;34m)\u001b[0m\u001b[0;34m:\u001b[0m\u001b[0;34m\u001b[0m\u001b[0;34m\u001b[0m\u001b[0m\n\u001b[1;32m    296\u001b[0m                 \u001b[0mres\u001b[0m \u001b[0;34m=\u001b[0m \u001b[0mhook\u001b[0m\u001b[0;34m(\u001b[0m\u001b[0mself\u001b[0m\u001b[0;34m,\u001b[0m \u001b[0;34m(\u001b[0m\u001b[0maggr_kwargs\u001b[0m\u001b[0;34m,\u001b[0m \u001b[0;34m)\u001b[0m\u001b[0;34m,\u001b[0m \u001b[0mout\u001b[0m\u001b[0;34m)\u001b[0m\u001b[0;34m\u001b[0m\u001b[0;34m\u001b[0m\u001b[0m\n",
      "\u001b[0;32m~/.conda/envs/deepgd/lib/python3.9/site-packages/torch_geometric/nn/conv/message_passing.py\u001b[0m in \u001b[0;36maggregate\u001b[0;34m(self, inputs, index, ptr, dim_size)\u001b[0m\n\u001b[1;32m    337\u001b[0m             \u001b[0;32mreturn\u001b[0m \u001b[0msegment_csr\u001b[0m\u001b[0;34m(\u001b[0m\u001b[0minputs\u001b[0m\u001b[0;34m,\u001b[0m \u001b[0mptr\u001b[0m\u001b[0;34m,\u001b[0m \u001b[0mreduce\u001b[0m\u001b[0;34m=\u001b[0m\u001b[0mself\u001b[0m\u001b[0;34m.\u001b[0m\u001b[0maggr\u001b[0m\u001b[0;34m)\u001b[0m\u001b[0;34m\u001b[0m\u001b[0;34m\u001b[0m\u001b[0m\n\u001b[1;32m    338\u001b[0m         \u001b[0;32melse\u001b[0m\u001b[0;34m:\u001b[0m\u001b[0;34m\u001b[0m\u001b[0;34m\u001b[0m\u001b[0m\n\u001b[0;32m--> 339\u001b[0;31m             return scatter(inputs, index, dim=self.node_dim, dim_size=dim_size,\n\u001b[0m\u001b[1;32m    340\u001b[0m                            reduce=self.aggr)\n\u001b[1;32m    341\u001b[0m \u001b[0;34m\u001b[0m\u001b[0m\n",
      "\u001b[0;32m~/.conda/envs/deepgd/lib/python3.9/site-packages/torch_scatter/scatter.py\u001b[0m in \u001b[0;36mscatter\u001b[0;34m(src, index, dim, out, dim_size, reduce)\u001b[0m\n\u001b[1;32m    155\u001b[0m         \u001b[0;32mreturn\u001b[0m \u001b[0mscatter_mul\u001b[0m\u001b[0;34m(\u001b[0m\u001b[0msrc\u001b[0m\u001b[0;34m,\u001b[0m \u001b[0mindex\u001b[0m\u001b[0;34m,\u001b[0m \u001b[0mdim\u001b[0m\u001b[0;34m,\u001b[0m \u001b[0mout\u001b[0m\u001b[0;34m,\u001b[0m \u001b[0mdim_size\u001b[0m\u001b[0;34m)\u001b[0m\u001b[0;34m\u001b[0m\u001b[0;34m\u001b[0m\u001b[0m\n\u001b[1;32m    156\u001b[0m     \u001b[0;32melif\u001b[0m \u001b[0mreduce\u001b[0m \u001b[0;34m==\u001b[0m \u001b[0;34m'mean'\u001b[0m\u001b[0;34m:\u001b[0m\u001b[0;34m\u001b[0m\u001b[0;34m\u001b[0m\u001b[0m\n\u001b[0;32m--> 157\u001b[0;31m         \u001b[0;32mreturn\u001b[0m \u001b[0mscatter_mean\u001b[0m\u001b[0;34m(\u001b[0m\u001b[0msrc\u001b[0m\u001b[0;34m,\u001b[0m \u001b[0mindex\u001b[0m\u001b[0;34m,\u001b[0m \u001b[0mdim\u001b[0m\u001b[0;34m,\u001b[0m \u001b[0mout\u001b[0m\u001b[0;34m,\u001b[0m \u001b[0mdim_size\u001b[0m\u001b[0;34m)\u001b[0m\u001b[0;34m\u001b[0m\u001b[0;34m\u001b[0m\u001b[0m\n\u001b[0m\u001b[1;32m    158\u001b[0m     \u001b[0;32melif\u001b[0m \u001b[0mreduce\u001b[0m \u001b[0;34m==\u001b[0m \u001b[0;34m'min'\u001b[0m\u001b[0;34m:\u001b[0m\u001b[0;34m\u001b[0m\u001b[0;34m\u001b[0m\u001b[0m\n\u001b[1;32m    159\u001b[0m         \u001b[0;32mreturn\u001b[0m \u001b[0mscatter_min\u001b[0m\u001b[0;34m(\u001b[0m\u001b[0msrc\u001b[0m\u001b[0;34m,\u001b[0m \u001b[0mindex\u001b[0m\u001b[0;34m,\u001b[0m \u001b[0mdim\u001b[0m\u001b[0;34m,\u001b[0m \u001b[0mout\u001b[0m\u001b[0;34m,\u001b[0m \u001b[0mdim_size\u001b[0m\u001b[0;34m)\u001b[0m\u001b[0;34m[\u001b[0m\u001b[0;36m0\u001b[0m\u001b[0;34m]\u001b[0m\u001b[0;34m\u001b[0m\u001b[0;34m\u001b[0m\u001b[0m\n",
      "\u001b[0;32m~/.conda/envs/deepgd/lib/python3.9/site-packages/torch_scatter/scatter.py\u001b[0m in \u001b[0;36mscatter_mean\u001b[0;34m(src, index, dim, out, dim_size)\u001b[0m\n\u001b[1;32m     51\u001b[0m     \u001b[0mones\u001b[0m \u001b[0;34m=\u001b[0m \u001b[0mtorch\u001b[0m\u001b[0;34m.\u001b[0m\u001b[0mones\u001b[0m\u001b[0;34m(\u001b[0m\u001b[0mindex\u001b[0m\u001b[0;34m.\u001b[0m\u001b[0msize\u001b[0m\u001b[0;34m(\u001b[0m\u001b[0;34m)\u001b[0m\u001b[0;34m,\u001b[0m \u001b[0mdtype\u001b[0m\u001b[0;34m=\u001b[0m\u001b[0msrc\u001b[0m\u001b[0;34m.\u001b[0m\u001b[0mdtype\u001b[0m\u001b[0;34m,\u001b[0m \u001b[0mdevice\u001b[0m\u001b[0;34m=\u001b[0m\u001b[0msrc\u001b[0m\u001b[0;34m.\u001b[0m\u001b[0mdevice\u001b[0m\u001b[0;34m)\u001b[0m\u001b[0;34m\u001b[0m\u001b[0;34m\u001b[0m\u001b[0m\n\u001b[1;32m     52\u001b[0m     \u001b[0mcount\u001b[0m \u001b[0;34m=\u001b[0m \u001b[0mscatter_sum\u001b[0m\u001b[0;34m(\u001b[0m\u001b[0mones\u001b[0m\u001b[0;34m,\u001b[0m \u001b[0mindex\u001b[0m\u001b[0;34m,\u001b[0m \u001b[0mindex_dim\u001b[0m\u001b[0;34m,\u001b[0m \u001b[0;32mNone\u001b[0m\u001b[0;34m,\u001b[0m \u001b[0mdim_size\u001b[0m\u001b[0;34m)\u001b[0m\u001b[0;34m\u001b[0m\u001b[0;34m\u001b[0m\u001b[0m\n\u001b[0;32m---> 53\u001b[0;31m     \u001b[0mcount\u001b[0m\u001b[0;34m[\u001b[0m\u001b[0mcount\u001b[0m \u001b[0;34m<\u001b[0m \u001b[0;36m1\u001b[0m\u001b[0;34m]\u001b[0m \u001b[0;34m=\u001b[0m \u001b[0;36m1\u001b[0m\u001b[0;34m\u001b[0m\u001b[0;34m\u001b[0m\u001b[0m\n\u001b[0m\u001b[1;32m     54\u001b[0m     \u001b[0mcount\u001b[0m \u001b[0;34m=\u001b[0m \u001b[0mbroadcast\u001b[0m\u001b[0;34m(\u001b[0m\u001b[0mcount\u001b[0m\u001b[0;34m,\u001b[0m \u001b[0mout\u001b[0m\u001b[0;34m,\u001b[0m \u001b[0mdim\u001b[0m\u001b[0;34m)\u001b[0m\u001b[0;34m\u001b[0m\u001b[0;34m\u001b[0m\u001b[0m\n\u001b[1;32m     55\u001b[0m     \u001b[0;32mif\u001b[0m \u001b[0mout\u001b[0m\u001b[0;34m.\u001b[0m\u001b[0mis_floating_point\u001b[0m\u001b[0;34m(\u001b[0m\u001b[0;34m)\u001b[0m\u001b[0;34m:\u001b[0m\u001b[0;34m\u001b[0m\u001b[0;34m\u001b[0m\u001b[0m\n",
      "\u001b[0;31mKeyboardInterrupt\u001b[0m: "
     ]
    }
   ],
   "source": [
    "def train_dis(batch, epoch):\n",
    "    generator.requires_grad_(False)\n",
    "    discriminator.zero_grad()\n",
    "    generator_output = generator(batch)\n",
    "    if config.discriminator.noise.std > 0:\n",
    "        generator_output = generator_output + torch.randn_like(generator_output) * config.discriminator.noise.std * config.discriminator.noise.decay ** epoch\n",
    "    discriminator_loss = get_gan_loss(batch, generator_output, mode='discriminator')\n",
    "    \n",
    "    # train discriminator\n",
    "    discriminator_loss.backward()\n",
    "    discriminator_optimizer.step()\n",
    "\n",
    "    # gradient penalty\n",
    "    if config.gp_weight > 0:\n",
    "        discriminator.zero_grad()\n",
    "        gp_loss = get_gp_loss(batch, generator_output, config.gp_weight)\n",
    "        gp_loss.backward()\n",
    "        discriminator_optimizer.step()\n",
    "\n",
    "    hud['dis_loss'] = format(discriminator_loss.item(), '.2e')\n",
    "    pbar().update()\n",
    "\n",
    "def train_gen(batch, epoch):\n",
    "    generator.requires_grad_(True)\n",
    "    generator.zero_grad()\n",
    "    discriminator.zero_grad()\n",
    "    generator_output = generator(batch)\n",
    "    if config.discriminator.noise.std > 0:\n",
    "        generator_output = generator_output + torch.randn_like(generator_output) * config.discriminator.noise.std * config.discriminator.noise.decay ** epoch\n",
    "    generator_loss = get_gan_loss(batch, generator_output, mode='generator') \n",
    "    \n",
    "    #train generator\n",
    "    generator_loss.backward()\n",
    "    generator_optimizer.step()\n",
    "\n",
    "    with torch.no_grad():\n",
    "        dis_batch = dis_convert(batch, generator_output)\n",
    "        stress = stress_criterion(dis_batch).mean()\n",
    "        critic = discriminator(dis_batch).mean()\n",
    "    hud.append({'gen_loss': format(generator_loss.item(), '.2e'),\n",
    "                'stress': format(stress.item(), '.2e'),\n",
    "                'critic': format(critic.item(), '.2e')})\n",
    "    pbar().update()\n",
    "\n",
    "def cuda_memsafe_map(fn, *iterables, summary=False):\n",
    "    total, failed = 0, 0\n",
    "    iterator = zip(*iterables)\n",
    "    items = None\n",
    "    while True:\n",
    "        try:\n",
    "            items = next(iterator)\n",
    "            yield fn(*items)\n",
    "        except StopIteration:\n",
    "            if summary:\n",
    "                print(f'Iteration finished. {failed} out of {total} failed!')\n",
    "            break\n",
    "        except RuntimeError:\n",
    "            print('CUDA memory overflow! Skip batch...')\n",
    "            del items\n",
    "            failed += 1\n",
    "        torch.cuda.empty_cache()\n",
    "        total += 1\n",
    "    \n",
    "def validate(model, data_loader, criterion=val_criterion):\n",
    "    def val_one_batch(batch):\n",
    "        batch = preprocess_batch(model, batch)\n",
    "        pred = CanonicalizationByStress()(model(batch), batch)\n",
    "        gt = CanonicalizationByStress()(batch.gt_pos, batch)\n",
    "        loss = criterion(pred, batch)\n",
    "        gt_loss = criterion(gt, batch)\n",
    "        spc = (loss - gt_loss) / torch.maximum(torch.maximum(loss, gt_loss), torch.ones_like(loss)*1e-5)\n",
    "        return loss.mean().item(), spc.mean().item()\n",
    "    loss_all, spc_all = zip(*cuda_memsafe_map(val_one_batch, data_loader))\n",
    "    return np.mean(loss_all), np.mean(spc_all)\n",
    "\n",
    "def log(msg):\n",
    "    msg = f\"[{epoch:03}] {msg}\"\n",
    "    print(msg, file=open(paths.log(), \"a\"))\n",
    "    with log_out: \n",
    "        print(msg)\n",
    "\n",
    "print(f\"{'='*10} {config.link} {'='*10}\", file=open(paths.log(), \"a\"))\n",
    "hud = Hud()\n",
    "pbar = Wrapper(tqdm, total=len(train_loader)*2, smoothing=0)\n",
    "plot_out = Output()\n",
    "log_out = Output()\n",
    "tabs = {\"status\": VBox([pbar, hud]), \n",
    "        \"plot\": HBox([plot_out], layout=Layout(height='500px', overflow_y='auto')),\n",
    "        \"log\": HBox([log_out], layout=Layout(height='500px', overflow_y='auto'))}\n",
    "tab_bar = Tab(children=list(tabs.values()))\n",
    "[tab_bar.set_title(i, name) for i, name in enumerate(tabs)]\n",
    "display(tab_bar)\n",
    "while True:\n",
    "    if epoch % config.log_interval == 0:\n",
    "        torch.save(generator.state_dict(), f\"{paths.checkpoints()}/gen_epoch_{epoch}.pt\")\n",
    "        torch.save(generator_optimizer.state_dict(), f\"{paths.checkpoints()}/gen_optim_epoch_{epoch}.pt\")\n",
    "        torch.save(discriminator.state_dict(), f\"{paths.checkpoints()}/dis_epoch_{epoch}.pt\")\n",
    "        torch.save(discriminator_optimizer.state_dict(), f\"{paths.checkpoints()}/dis_optim_epoch_{epoch}.pt\")\n",
    "        generator.eval()\n",
    "        with torch.no_grad():\n",
    "            val_stress, val_stress_spc = validate(model=generator, data_loader=val_loader)\n",
    "            val_xing, val_xing_spc = validate(model=generator, data_loader=val_loader, criterion=xing_criterion)\n",
    "            with plot_out:\n",
    "                fig = plt.figure()\n",
    "                graph_vis(G_list[11100], generator(make_batch(data_list[11100]).to(device)).cpu())\n",
    "                plt.show()\n",
    "        # tensorboard.add_scalars('loss', {'train': train_loss, \n",
    "        #                                  'validation': val_loss}, epoch)\n",
    "        # for i, fn in enumerate(loss_fns):\n",
    "        #     tensorboard.add_scalars(type(fn).__name__, {'train': train_loss_comp[i].item(), \n",
    "        #                                           'validation': val_loss_comp[i].item()}, epoch)\n",
    "        hud.append({\n",
    "            'val_stress': format(val_stress, '.2f'),\n",
    "            'val_stress_spc': format(val_stress_spc, '.2%'),\n",
    "            'val_xing': format(val_xing, '.2f'),\n",
    "            'val_xing_spc': format(val_xing_spc, '.2%'),\n",
    "        })\n",
    "        log(f\"stress={hud.data['val_stress']}({hud.data['val_stress_spc']}) xing={hud.data['val_xing']}({hud.data['val_xing_spc']})\")\n",
    "        \n",
    "    # handle.update(tab_bar)\n",
    "    pbar().reset()\n",
    "    pbar().set_description(desc=f\"[epoch {epoch}/{config.epoch.end}]\")\n",
    "    hud(title=f\"epoch {epoch}\")\n",
    "    generator.train()\n",
    "    discriminator.train()\n",
    "    # proper: proper layout\n",
    "    for _ in range(config.discriminator.repeat):\n",
    "        for batch in train_loader:\n",
    "            train_dis(batch, epoch)\n",
    "            if config.alternate == 'iteration':\n",
    "                train_gen(batch, epoch)\n",
    "\n",
    "    if config.alternate == 'epoch':\n",
    "        for batch in train_loader:\n",
    "            train_gen(batch, epoch)\n",
    "\n",
    "    discriminator_scheduler.step()\n",
    "    generator_scheduler.step()\n",
    "\n",
    "    if epoch == config.epoch.end:\n",
    "        break\n",
    "    epoch += 1"
   ]
  },
  {
   "cell_type": "markdown",
   "metadata": {
    "id": "0qYK_X_hrq9o"
   },
   "source": [
    "# Test"
   ]
  },
  {
   "cell_type": "code",
   "execution_count": 33,
   "metadata": {
    "colab": {
     "base_uri": "https://localhost:8080/"
    },
    "id": "XEvmAtNjWhcY",
    "outputId": "9f4c86a4-a4b0-48f1-cb58-ab3679173184"
   },
   "outputs": [
    {
     "name": "stdout",
     "output_type": "stream",
     "text": [
      "Loading from artifacts/checkpoints/GAN(gan=rgan,data=best(xing,stress),dis=deep,share=6,embed=10,gp=0,lr=1e-4)/gen_epoch_668.pt...\n"
     ]
    },
    {
     "data": {
      "text/plain": [
       "<All keys matched successfully>"
      ]
     },
     "execution_count": 33,
     "metadata": {},
     "output_type": "execute_result"
    }
   ],
   "source": [
    "test_epoch = -1\n",
    "\n",
    "test_generator = Generator(**config.generator.params[...]).to(device)\n",
    "test_ckpt_epoch = get_ckpt_epoch(paths.checkpoints(), test_epoch)\n",
    "test_ckpt_file = f\"{paths.checkpoints()}/gen_epoch_{test_ckpt_epoch}.pt\"\n",
    "print(f\"Loading from {test_ckpt_file}...\")\n",
    "test_generator.load_state_dict(torch.load(test_ckpt_file, map_location=torch.device(device)))"
   ]
  },
  {
   "cell_type": "code",
   "execution_count": 34,
   "metadata": {
    "colab": {
     "background_save": true,
     "base_uri": "https://localhost:8080/",
     "height": 1000,
     "referenced_widgets": [
      "9b7d18992dbf4a84931f916fbaaa37d8",
      "2c664d7e1e6d474fb87094fc0da270d3",
      "d375f5f82a4645d7b29c541596dc1c7f",
      "ecfa311bb06b4f6fa504598263ff69d3",
      "d1859990877149eab2b414b4e2a0e0c7",
      "d2be6733734844bca3e1db9b49eb1c1e",
      "4d98072bdf674792a13d77e85dd285d1",
      "f7ed92c383d741a0a1cef2536ff2db13",
      "2ba110f835c64ec4b82974996aed10af",
      "09397ceac9014af0aebca848d4d96d48",
      "fd0709f48d6c4527bc00b5f407f3c1b9"
     ]
    },
    "id": "ZubmSTcYrq9o",
    "outputId": "fc2f65a2-2085-43ac-b110-cbfe742318a8",
    "scrolled": true,
    "tags": []
   },
   "outputs": [
    {
     "data": {
      "application/vnd.jupyter.widget-view+json": {
       "model_id": "601b38eea8254a6fac62a8d06797b6ae",
       "version_major": 2,
       "version_minor": 0
      },
      "text/plain": [
       "  0%|          | 0/1000 [00:00<?, ?it/s]"
      ]
     },
     "metadata": {},
     "output_type": "display_data"
    }
   ],
   "source": [
    "rotate = RotateByPrincipalComponents()\n",
    "def test_callback(*, idx, pred, metrics):\n",
    "    # graph_vis(G_list[idx], pred, file_name=f\"{paths.visualization()}/{idx}_{metrics['stress']:.2f}_{metrics['resolution_score']:.2f}.png\")\n",
    "    pred = rotate(torch.tensor(pred), data_list[idx])\n",
    "    graph_vis(G_list[idx], pred)\n",
    "    plt.title(f\"[pred] idx: {idx}, stress: {metrics['stress']:.2f}({metrics['stress_spc']:.2%}), xing: {metrics['xing']:.2f}({metrics['xing_spc']:.2%})\")\n",
    "    plt.show()\n",
    "    gt_pos = rotate(data_list[idx].gt_pos, data_list[idx])\n",
    "    graph_vis(G_list[idx], gt_pos, node_color='orange')\n",
    "    plt.title(f\"[gt] idx: {idx}, stress: {metrics['gt_stress']:.2f}, xing: {metrics['gt_xing']:.2f}\")\n",
    "    plt.show()\n",
    "    \n",
    "test_metrics = test(model=test_generator, \n",
    "                    criteria_list=[], \n",
    "                    dataset=data_list, \n",
    "                    idx_range=range(10000, 11000), \n",
    "#                     callback=test_callback,\n",
    "                    gt_pos=None)\n",
    "pickle.dump(test_metrics, open(paths.metrics(\"test\"), \"wb\"))"
   ]
  },
  {
   "cell_type": "code",
   "execution_count": 35,
   "metadata": {
    "colab": {
     "base_uri": "https://localhost:8080/",
     "height": 318
    },
    "id": "t2rFXIr_PsrJ",
    "outputId": "6a4205b1-4630-4de4-ec72-bdba3d3ea114"
   },
   "outputs": [
    {
     "name": "stdout",
     "output_type": "stream",
     "text": [
      "stress: tensor(353.2167)\n",
      "stress_spc: tensor(0.1538, dtype=torch.float64)\n",
      "xing: tensor(33.2170)\n",
      "xing_spc: tensor(0.3348, dtype=torch.float64)\n",
      "l1_angle: tensor(87.5414)\n",
      "l1_angle_spc: tensor(0.1416, dtype=torch.float64)\n",
      "edge: tensor(0.2543)\n",
      "edge_spc: tensor(0.2857, dtype=torch.float64)\n",
      "ring: tensor(270.5286)\n",
      "ring_spc: tensor(0.0853, dtype=torch.float64)\n",
      "tsne: tensor(0.2487)\n",
      "tsne_spc: tensor(0.1819, dtype=torch.float64)\n",
      "reso_score: tensor(0.5515)\n",
      "min_angle: tensor(2.2559)\n"
     ]
    },
    {
     "data": {
      "text/html": [
       "<style type=\"text/css\">\n",
       "</style>\n",
       "<table id=\"T_5c1f6_\">\n",
       "  <thead>\n",
       "    <tr>\n",
       "      <th class=\"blank level0\" >&nbsp;</th>\n",
       "      <th class=\"col_heading level0 col0\" >stress</th>\n",
       "      <th class=\"col_heading level0 col1\" >stress_spc</th>\n",
       "      <th class=\"col_heading level0 col2\" >xing</th>\n",
       "      <th class=\"col_heading level0 col3\" >xing_spc</th>\n",
       "      <th class=\"col_heading level0 col4\" >l1_angle</th>\n",
       "      <th class=\"col_heading level0 col5\" >l1_angle_spc</th>\n",
       "      <th class=\"col_heading level0 col6\" >edge</th>\n",
       "      <th class=\"col_heading level0 col7\" >edge_spc</th>\n",
       "      <th class=\"col_heading level0 col8\" >ring</th>\n",
       "      <th class=\"col_heading level0 col9\" >ring_spc</th>\n",
       "      <th class=\"col_heading level0 col10\" >tsne</th>\n",
       "      <th class=\"col_heading level0 col11\" >tsne_spc</th>\n",
       "      <th class=\"col_heading level0 col12\" >reso_score</th>\n",
       "      <th class=\"col_heading level0 col13\" >min_angle</th>\n",
       "    </tr>\n",
       "  </thead>\n",
       "  <tbody>\n",
       "    <tr>\n",
       "      <th id=\"T_5c1f6_level0_row0\" class=\"row_heading level0 row0\" >0</th>\n",
       "      <td id=\"T_5c1f6_row0_col0\" class=\"data row0 col0\" >353.22</td>\n",
       "      <td id=\"T_5c1f6_row0_col1\" class=\"data row0 col1\" >15.38%</td>\n",
       "      <td id=\"T_5c1f6_row0_col2\" class=\"data row0 col2\" >33.22</td>\n",
       "      <td id=\"T_5c1f6_row0_col3\" class=\"data row0 col3\" >33.48%</td>\n",
       "      <td id=\"T_5c1f6_row0_col4\" class=\"data row0 col4\" >87.54</td>\n",
       "      <td id=\"T_5c1f6_row0_col5\" class=\"data row0 col5\" >14.16%</td>\n",
       "      <td id=\"T_5c1f6_row0_col6\" class=\"data row0 col6\" >0.25</td>\n",
       "      <td id=\"T_5c1f6_row0_col7\" class=\"data row0 col7\" >28.57%</td>\n",
       "      <td id=\"T_5c1f6_row0_col8\" class=\"data row0 col8\" >270.53</td>\n",
       "      <td id=\"T_5c1f6_row0_col9\" class=\"data row0 col9\" >8.53%</td>\n",
       "      <td id=\"T_5c1f6_row0_col10\" class=\"data row0 col10\" >0.25</td>\n",
       "      <td id=\"T_5c1f6_row0_col11\" class=\"data row0 col11\" >18.19%</td>\n",
       "      <td id=\"T_5c1f6_row0_col12\" class=\"data row0 col12\" >0.55</td>\n",
       "      <td id=\"T_5c1f6_row0_col13\" class=\"data row0 col13\" >2.26</td>\n",
       "    </tr>\n",
       "  </tbody>\n",
       "</table>\n"
      ],
      "text/plain": [
       "<pandas.io.formats.style.Styler at 0x2ba2c9ded070>"
      ]
     },
     "execution_count": 35,
     "metadata": {},
     "output_type": "execute_result"
    }
   ],
   "source": [
    "metrics = test_metrics\n",
    "print('stress:', metrics['stress'].mean())\n",
    "print('stress_spc:', metrics['stress_spc'].mean())\n",
    "print('xing:', metrics['xing'].mean())\n",
    "print('xing_spc:', metrics['xing_spc'].mean())\n",
    "print('l1_angle:', metrics['l1_angle'].mean())\n",
    "print('l1_angle_spc:', metrics['l1_angle_spc'].mean())\n",
    "print('edge:', metrics['edge'].mean())\n",
    "print('edge_spc:', metrics['edge_spc'].mean())\n",
    "print('ring:', metrics['ring'].mean())\n",
    "print('ring_spc:', metrics['ring_spc'].mean())\n",
    "print('tsne:', metrics['tsne'].mean())\n",
    "print('tsne_spc:', metrics['tsne_spc'].mean())\n",
    "print('reso_score:', metrics['resolution_score'].mean())\n",
    "print('min_angle:', metrics['min_angle'].mean())\n",
    "columns = [\n",
    "    'stress',\n",
    "    'stress_spc',\n",
    "    'xing',\n",
    "    'xing_spc',\n",
    "    'l1_angle',\n",
    "    'l1_angle_spc',\n",
    "    'edge',\n",
    "    'edge_spc',\n",
    "    'ring',\n",
    "    'ring_spc',\n",
    "    'tsne',\n",
    "    'tsne_spc',\n",
    "    'reso_score',\n",
    "    'min_angle'\n",
    "]\n",
    "df = pd.DataFrame(map(lambda m: metrics[m].mean().item(), list(metrics.keys())[:-1])).set_axis(columns).T\n",
    "df.style.format({c: \"{:.2f}\" for c in columns if 'spc' not in c} | {c: \"{:.2%}\" for c in columns if 'spc' in c})"
   ]
  },
  {
   "cell_type": "code",
   "execution_count": 36,
   "metadata": {
    "id": "5e7vPr0M3mmG"
   },
   "outputs": [],
   "source": [
    "metrics = {}"
   ]
  },
  {
   "cell_type": "code",
   "execution_count": 38,
   "metadata": {},
   "outputs": [],
   "source": [
    "methods = ['fa2']"
   ]
  },
  {
   "cell_type": "code",
   "execution_count": 39,
   "metadata": {
    "colab": {
     "base_uri": "https://localhost:8080/",
     "height": 433,
     "referenced_widgets": [
      "a0cf6e046add4e639e52db69656e0db9",
      "8e237731bb1241ac858581b25389c012",
      "0891547293ad4211a138a4d92e01bb0b",
      "34912c8e581e47a99a1c4829c38cb75c",
      "5aa034c99c94424e835a2ee954b829ed",
      "248f6393eff74c3eb8740ca6d698045b",
      "686687a29c7f4ec98c4d76ca2062b14b",
      "996a84d1c23b47e4a2af252c6b60f55d",
      "3507f883bb954412b21c1c5641763ed7",
      "9582a849d91e457cadd514c95d6e1b5b",
      "52bfe674c2c547e09b7400a32a96f703",
      "93d58b3a12394fe1aa6f0431fc7cb0db",
      "af1d7855c9d646b0bcc7d95c4cb147a6",
      "f820e2b898cd461da04a4f651d27273d",
      "c0a112cfaa3d4d0aa9530372de84d8fb",
      "fd03985495694fbf9feb3f31ef8d18ce",
      "e02a2b36aa4c4d6fb5d2ac6693c1a927",
      "06f388ff5e3a48828d465096fe69977b",
      "c0052778c9c940e88935593e9f94b83b",
      "99a5e77a192d4a989c4534237eb16730",
      "77c6da092a6647fc9e54f7e276d75616",
      "8c13c0e8b5934117a662a78296bcb1b6",
      "cdcc3bd4235247b48c468c0f6b7682cc",
      "a2c6fa6fef4549cc853fa93b4b18cf95",
      "15cc02a756314083801b5f6798a1948c",
      "24d1c67fe52f452ab0c767e3c1a818aa",
      "c117db25c6fd484a9d0c7f210ccb1ade",
      "b090b60b61084cf692b3066dfac7f0a8",
      "5eab9848059c491b9c6cbac88683f025",
      "e87ffbaa1f204b52b9226337a506b040",
      "cf52198a9e4b46c7b49537a79919c09e",
      "51501227bc064ccbab97c22a679a0750",
      "d1b794a997dc457888a90bf44faee9b4",
      "21a755b50e5047bea797eccf24b35a0c",
      "16e78c3823ec4faf9f9cd9095b218ff5",
      "4ccd332c6b734acd8eff236eaf568dfa",
      "bd60fd13748347e48629df78fa455765",
      "e9187e4ba80b4fafa0334dae2e39aded",
      "4c39ec7c92b4402e8eedcb27beabaab1",
      "59a8194269f943bba571f710ad856973",
      "8e41bc25b9f348b1b85b381547cd60d1",
      "34d0f1529e64437fb25e639b41096072",
      "7e832c7543df43668eb72c0aa6356349",
      "f94162c9c5fe4c2581e3b80beaeb820b",
      "0284946fccf34607b25e1d6d81d4f72a",
      "8e8d4243a3624ba58d760bdf601d5126",
      "b1f0932594fe44f4be4beb8880172871",
      "820bb554d139437b8f6a6997f9002261",
      "459e375d1fe4497cb4197ef88e303c6d",
      "5726814966da46bbba942a114de4b319",
      "448beea5445f4642809801da46aa7e7c",
      "3746c0f0daf04f51805b4c95db20063a",
      "2ff74d1c705348438a32da37910c3300",
      "52f03147b5ab4cb390f9802b7a17a508",
      "5428511d652a47348203e8f3cd2e076d",
      "7b58569bee2e44c5a61a81f9a32c4c01",
      "c5e05d74b9404333a8155304e3497ba2",
      "3ad4e058bde44d87abab780368d49118",
      "8e437049b5c74ff1beddad93e30b19aa",
      "0c61377f4cc34b27ae34bdd6d976d868",
      "9ce35f9a9a23436ea77604513b5c4659",
      "dafbc43ad79c4feda093aefe490fc4b3",
      "497160b6bf80469a89680a03a468c8bb",
      "3265725ecb914981b6f07f68b8a582df",
      "1f0ac20d99d04ffb9ee75613526d3de6",
      "dee0e5716560483b8e2b107566439d94",
      "ca99841a1abd4fbd94927c49aaa711cb",
      "163a44ff1be04583ae7bd62726c55204",
      "f3b727045a0b4b4fabd147ec9c843e14",
      "7c4b4fe859cf48ab99b7e2780a24a539",
      "d9700cffab66480cb81e3722faab4e8b",
      "2c49acc1e0a64aa4b8ec461b0596848e",
      "691817157f43412f9c36002167606b75",
      "d0ae688d71734b56bb348de54e841798",
      "07a364ebcdaa491dbcc2304e4a8dae96",
      "538b277307b1449eaa79a2a91b4741d3",
      "f7b7dd4cbaa5468687b988c5e416a154",
      "877be862a4f045ec8b221097626becb5",
      "1bf37012df0844338ac689d4f6cc8eab",
      "33fe06641be544d3aab2c25cb979416f",
      "68de0d9261fa4e6999967b6f196d149c",
      "7017c5ba1ffc467495aca2689e516f7d",
      "e0997460cc21428695a0c278c6691baf",
      "522443bef4904996b6361ea265c4c56f",
      "dfe044b67917466f971ba84a11956d5e",
      "70b2d0ba1c1d4102841fb963480de1c7",
      "7b158daacd754a40bc0a48fc9ea6fea2",
      "8904f61ff30741e488eacf0e49440f66",
      "685dee6f1e1f4c2983d2d0b8eb90ed00",
      "005155a4d62d48cbbaf3d69614b08d81",
      "d2779dfa620041e4b32a7731926a5982",
      "53048bf27cb24080b4cdf20379302223",
      "0b5bff7794a14a20964da70b87158c2c",
      "ec664e55ea16435590393ae1617cccea",
      "f10d62ef464a45a7935610d869c282e3",
      "5e7c09bc35db4a3a8b9847c6d8478883",
      "987ea331b617446facc81b08bab1f8c4",
      "446c5a687b0d43358ab036d43ce281c3",
      "d89e216f62ae4a9999da1a91dd5e48b9",
      "09d03e7e66f54cafacefbfeda5fd6e5c",
      "d58c680562a44bbd9252e7ec6eebc06c",
      "71ea2594fdd942acac1cc61055438544",
      "fecda4df301b437f9fbfb61a7b593dc0",
      "bcf6741d926248cb92acf627d6557d2b",
      "5bd9868b9bda4f68b500a43916e2d148",
      "4bc5e02035de44ad827c4f881fd75afc",
      "7d80033a955e4feb947ca9cea931d90b",
      "e975c796d80d498992a50f87a2b0105c",
      "028b2ff105904a19a9a3e8ebf66967bb",
      "10dbf2cbdb1943eda6a0acaf5da3fe85",
      "14d59c7acc5e4e07a289db44406a4851",
      "d9447df93d714907bc9c768eb4910352",
      "d4a9ace081bf488680a7e43e0eaed71d",
      "022a60cde19546bfa6ecfb4947615ad9",
      "10c01207d9ba4fe197dc80717fceecc0",
      "f4995936570d4ba1a65e9a66e410b505",
      "b4bf66303e61491385cd616076a11c04",
      "a24ab2bfe7a44263bf60936d6e53ec32",
      "59e2e8ecc9f84d57af7bf44f5bba5df7",
      "be2eb92aab8045a99fd19195c3546b60",
      "e6715db2b048434796e910952cb5eb62",
      "8de2335007ba4a6b9935fa0c514c9f6a",
      "493a4bbe8057437a8c8acf4d03f8dcb0",
      "20b03955acc74e238695717124705520",
      "a89f9507496b4cf8bdd63bdb9bff79c4",
      "9752a1f6c8b6488d9628b8e0c023f10f",
      "61a0bebc687341a7bb3352febc8d4986",
      "07e0ff9c82a444788c60edee70688ca7",
      "4427901f35e54cc48e08527bb402c22a",
      "bd9dafb825954091ba975d71ab8c89ea",
      "7ec0f07bfe51484da38c18dc66d77804",
      "03943afebc4d4b668b54c7a0fd014a37",
      "a7a6b38a76424d738146b6a5786cf2c8",
      "1d1aa4729784470584c0001c1a296008",
      "e0c68ac9b5b442eeb77e6d9ea3c1da42",
      "c858ef9fd9324ab0ab885d85e3c8582f",
      "627bc2899c994a0c96c5d43e89dc77ff",
      "0e2c2f21fa8041038151170992ecb848",
      "2d9bcbf7629a4671bf8755e790276eb7",
      "77a4edf6ab1848a6a6df20c1c07358c6",
      "acf2212d6bb44c729b63281a98377095",
      "0c7a72818da3454190bab7f30a29e249",
      "d865af915b8b4aaa8cec8d40f1f8351d"
     ]
    },
    "id": "s1UnzfID4Ai6",
    "outputId": "3e204e76-68fd-4111-f527-91f6e3b7a3ca"
   },
   "outputs": [
    {
     "data": {
      "application/vnd.jupyter.widget-view+json": {
       "model_id": "4cbe32136d304b2082e3caa7cf2840b9",
       "version_major": 2,
       "version_minor": 0
      },
      "text/plain": [
       "  0%|          | 0/1000 [00:00<?, ?it/s]"
      ]
     },
     "metadata": {},
     "output_type": "display_data"
    }
   ],
   "source": [
    "for m in methods:\n",
    "    metrics[m] = test(model=test_generator, \n",
    "                      criteria_list=[], \n",
    "                      dataset=data_list, \n",
    "                      idx_range=range(10000, 11000), \n",
    "                      callback=None,\n",
    "                      gt_pos=load_pos(m))"
   ]
  },
  {
   "cell_type": "code",
   "execution_count": 40,
   "metadata": {
    "id": "dQ7hdCtk5u6K"
   },
   "outputs": [],
   "source": [
    "mean_metrics = {key : list(map(lambda m: metrics[key][m].mean().item(), list(metrics[key].keys())[:-1])) for key in metrics}"
   ]
  },
  {
   "cell_type": "code",
   "execution_count": 41,
   "metadata": {
    "colab": {
     "base_uri": "https://localhost:8080/",
     "height": 313
    },
    "id": "OGyaCmLXTuvA",
    "outputId": "6c42d9f3-9869-4504-bc9c-d0eedaecfd90"
   },
   "outputs": [
    {
     "data": {
      "text/html": [
       "<style type=\"text/css\">\n",
       "</style>\n",
       "<table id=\"T_1dac0_\">\n",
       "  <thead>\n",
       "    <tr>\n",
       "      <th class=\"blank level0\" >&nbsp;</th>\n",
       "      <th class=\"col_heading level0 col0\" >stress</th>\n",
       "      <th class=\"col_heading level0 col1\" >stress_spc</th>\n",
       "      <th class=\"col_heading level0 col2\" >xing</th>\n",
       "      <th class=\"col_heading level0 col3\" >xing_spc</th>\n",
       "      <th class=\"col_heading level0 col4\" >l1_angle</th>\n",
       "      <th class=\"col_heading level0 col5\" >l1_angle_spc</th>\n",
       "      <th class=\"col_heading level0 col6\" >edge</th>\n",
       "      <th class=\"col_heading level0 col7\" >edge_spc</th>\n",
       "      <th class=\"col_heading level0 col8\" >ring</th>\n",
       "      <th class=\"col_heading level0 col9\" >ring_spc</th>\n",
       "      <th class=\"col_heading level0 col10\" >tsne</th>\n",
       "      <th class=\"col_heading level0 col11\" >tsne_spc</th>\n",
       "      <th class=\"col_heading level0 col12\" >reso_score</th>\n",
       "      <th class=\"col_heading level0 col13\" >min_angle</th>\n",
       "    </tr>\n",
       "  </thead>\n",
       "  <tbody>\n",
       "    <tr>\n",
       "      <th id=\"T_1dac0_level0_row0\" class=\"row_heading level0 row0\" >neato</th>\n",
       "      <td id=\"T_1dac0_row0_col0\" class=\"data row0 col0\" >353.21</td>\n",
       "      <td id=\"T_1dac0_row0_col1\" class=\"data row0 col1\" >36.78%</td>\n",
       "      <td id=\"T_1dac0_row0_col2\" class=\"data row0 col2\" >33.20</td>\n",
       "      <td id=\"T_1dac0_row0_col3\" class=\"data row0 col3\" >9.00%</td>\n",
       "      <td id=\"T_1dac0_row0_col4\" class=\"data row0 col4\" >87.54</td>\n",
       "      <td id=\"T_1dac0_row0_col5\" class=\"data row0 col5\" >10.97%</td>\n",
       "      <td id=\"T_1dac0_row0_col6\" class=\"data row0 col6\" >0.25</td>\n",
       "      <td id=\"T_1dac0_row0_col7\" class=\"data row0 col7\" >58.24%</td>\n",
       "      <td id=\"T_1dac0_row0_col8\" class=\"data row0 col8\" >270.52</td>\n",
       "      <td id=\"T_1dac0_row0_col9\" class=\"data row0 col9\" >21.71%</td>\n",
       "      <td id=\"T_1dac0_row0_col10\" class=\"data row0 col10\" >0.25</td>\n",
       "      <td id=\"T_1dac0_row0_col11\" class=\"data row0 col11\" >22.77%</td>\n",
       "      <td id=\"T_1dac0_row0_col12\" class=\"data row0 col12\" >0.55</td>\n",
       "      <td id=\"T_1dac0_row0_col13\" class=\"data row0 col13\" >2.29</td>\n",
       "    </tr>\n",
       "    <tr>\n",
       "      <th id=\"T_1dac0_level0_row1\" class=\"row_heading level0 row1\" >dot</th>\n",
       "      <td id=\"T_1dac0_row1_col0\" class=\"data row1 col0\" >353.21</td>\n",
       "      <td id=\"T_1dac0_row1_col1\" class=\"data row1 col1\" >-50.55%</td>\n",
       "      <td id=\"T_1dac0_row1_col2\" class=\"data row1 col2\" >33.20</td>\n",
       "      <td id=\"T_1dac0_row1_col3\" class=\"data row1 col3\" >-47.32%</td>\n",
       "      <td id=\"T_1dac0_row1_col4\" class=\"data row1 col4\" >87.54</td>\n",
       "      <td id=\"T_1dac0_row1_col5\" class=\"data row1 col5\" >-27.11%</td>\n",
       "      <td id=\"T_1dac0_row1_col6\" class=\"data row1 col6\" >0.25</td>\n",
       "      <td id=\"T_1dac0_row1_col7\" class=\"data row1 col7\" >-55.33%</td>\n",
       "      <td id=\"T_1dac0_row1_col8\" class=\"data row1 col8\" >270.52</td>\n",
       "      <td id=\"T_1dac0_row1_col9\" class=\"data row1 col9\" >-31.07%</td>\n",
       "      <td id=\"T_1dac0_row1_col10\" class=\"data row1 col10\" >0.25</td>\n",
       "      <td id=\"T_1dac0_row1_col11\" class=\"data row1 col11\" >-25.31%</td>\n",
       "      <td id=\"T_1dac0_row1_col12\" class=\"data row1 col12\" >0.55</td>\n",
       "      <td id=\"T_1dac0_row1_col13\" class=\"data row1 col13\" >2.33</td>\n",
       "    </tr>\n",
       "    <tr>\n",
       "      <th id=\"T_1dac0_level0_row2\" class=\"row_heading level0 row2\" >fdp</th>\n",
       "      <td id=\"T_1dac0_row2_col0\" class=\"data row2 col0\" >353.21</td>\n",
       "      <td id=\"T_1dac0_row2_col1\" class=\"data row2 col1\" >10.98%</td>\n",
       "      <td id=\"T_1dac0_row2_col2\" class=\"data row2 col2\" >33.21</td>\n",
       "      <td id=\"T_1dac0_row2_col3\" class=\"data row2 col3\" >-12.04%</td>\n",
       "      <td id=\"T_1dac0_row2_col4\" class=\"data row2 col4\" >87.54</td>\n",
       "      <td id=\"T_1dac0_row2_col5\" class=\"data row2 col5\" >-0.06%</td>\n",
       "      <td id=\"T_1dac0_row2_col6\" class=\"data row2 col6\" >0.25</td>\n",
       "      <td id=\"T_1dac0_row2_col7\" class=\"data row2 col7\" >61.22%</td>\n",
       "      <td id=\"T_1dac0_row2_col8\" class=\"data row2 col8\" >270.53</td>\n",
       "      <td id=\"T_1dac0_row2_col9\" class=\"data row2 col9\" >11.11%</td>\n",
       "      <td id=\"T_1dac0_row2_col10\" class=\"data row2 col10\" >0.25</td>\n",
       "      <td id=\"T_1dac0_row2_col11\" class=\"data row2 col11\" >2.27%</td>\n",
       "      <td id=\"T_1dac0_row2_col12\" class=\"data row2 col12\" >0.55</td>\n",
       "      <td id=\"T_1dac0_row2_col13\" class=\"data row2 col13\" >2.31</td>\n",
       "    </tr>\n",
       "    <tr>\n",
       "      <th id=\"T_1dac0_level0_row3\" class=\"row_heading level0 row3\" >fa2</th>\n",
       "      <td id=\"T_1dac0_row3_col0\" class=\"data row3 col0\" >353.21</td>\n",
       "      <td id=\"T_1dac0_row3_col1\" class=\"data row3 col1\" >5.98%</td>\n",
       "      <td id=\"T_1dac0_row3_col2\" class=\"data row3 col2\" >33.19</td>\n",
       "      <td id=\"T_1dac0_row3_col3\" class=\"data row3 col3\" >22.77%</td>\n",
       "      <td id=\"T_1dac0_row3_col4\" class=\"data row3 col4\" >87.54</td>\n",
       "      <td id=\"T_1dac0_row3_col5\" class=\"data row3 col5\" >17.37%</td>\n",
       "      <td id=\"T_1dac0_row3_col6\" class=\"data row3 col6\" >0.25</td>\n",
       "      <td id=\"T_1dac0_row3_col7\" class=\"data row3 col7\" >9.72%</td>\n",
       "      <td id=\"T_1dac0_row3_col8\" class=\"data row3 col8\" >270.52</td>\n",
       "      <td id=\"T_1dac0_row3_col9\" class=\"data row3 col9\" >7.67%</td>\n",
       "      <td id=\"T_1dac0_row3_col10\" class=\"data row3 col10\" >0.25</td>\n",
       "      <td id=\"T_1dac0_row3_col11\" class=\"data row3 col11\" >17.17%</td>\n",
       "      <td id=\"T_1dac0_row3_col12\" class=\"data row3 col12\" >0.55</td>\n",
       "      <td id=\"T_1dac0_row3_col13\" class=\"data row3 col13\" >2.34</td>\n",
       "    </tr>\n",
       "  </tbody>\n",
       "</table>\n"
      ],
      "text/plain": [
       "<pandas.io.formats.style.Styler at 0x2ba2c9c620a0>"
      ]
     },
     "execution_count": 41,
     "metadata": {},
     "output_type": "execute_result"
    }
   ],
   "source": [
    "columns = [\n",
    "    'stress',\n",
    "    'stress_spc',\n",
    "    'xing',\n",
    "    'xing_spc',\n",
    "    'l1_angle',\n",
    "    'l1_angle_spc',\n",
    "    'edge',\n",
    "    'edge_spc',\n",
    "    'ring',\n",
    "    'ring_spc',\n",
    "    'tsne',\n",
    "    'tsne_spc',\n",
    "    'reso_score',\n",
    "    'min_angle'\n",
    "]\n",
    "df = pd.DataFrame(mean_metrics).set_axis(columns).T\n",
    "df.style.format({c: \"{:.2f}\" for c in columns if 'spc' not in c} | {c: \"{:.2%}\" for c in columns if 'spc' in c})"
   ]
  },
  {
   "cell_type": "markdown",
   "metadata": {
    "id": "L5S1HWnHOWIl"
   },
   "source": [
    "# Large Graph"
   ]
  },
  {
   "cell_type": "code",
   "execution_count": null,
   "metadata": {
    "id": "_pefPcV1OZdD"
   },
   "outputs": [],
   "source": [
    "scalability = pd.read_csv(f\"/__artifacts__/data/scalability.csv\", index_col=\"index\")\n",
    "scalability"
   ]
  },
  {
   "cell_type": "code",
   "execution_count": null,
   "metadata": {
    "id": "oMhWAsdvPnTX"
   },
   "outputs": [],
   "source": [
    "rescale = CanonicalizationByStress()\n",
    "stressfn = Stress()\n",
    "rotate = RotateByPrincipalComponents()"
   ]
  },
  {
   "cell_type": "code",
   "execution_count": null,
   "metadata": {
    "id": "LR83OcAaPID5"
   },
   "outputs": [],
   "source": [
    "stress_list = []\n",
    "spc_list = []\n",
    "pmds_list = np.load(\"layouts/new_large_graph/pmds.npy\", allow_pickle=True)\n",
    "gviz_list = np.load(\"layouts/new_large_graph/gviz.npy\", allow_pickle=True)\n",
    "with torch.no_grad():\n",
    "    for idx, col in tqdm(scalability.iterrows(), total=len(scalability)):\n",
    "        # if idx not in [406, 516]: continue\n",
    "        torch.cuda.empty_cache()\n",
    "        G = load_mtx(col['file'])\n",
    "        G.remove_edges_from(nx.selfloop_edges(G))\n",
    "        data = generate_data_list(G, \n",
    "                                sparse=data_config.sparse, \n",
    "                                pivot_mode=data_config.pivot,\n",
    "                                init_mode=data_config.init,\n",
    "                                edge_index=data_config.edge.index,\n",
    "                                edge_attr=data_config.edge.attr,\n",
    "                                pmds_list=pmds_list[idx],\n",
    "                                gviz_list=gviz_list[idx],\n",
    "                                device=device)\n",
    "        batch = Batch.from_data_list([data]).to(device)\n",
    "        # generator.train()\n",
    "        # generator(batch)\n",
    "        generator.eval()\n",
    "        pred = generator(batch)\n",
    "        pos = rotate(rescale(pred, batch), batch)\n",
    "        gt = rotate(rescale(batch.gt_pos, batch), batch)\n",
    "        stress = stressfn(pos, batch).item()\n",
    "        gt_stress = stressfn(gt, batch).item()\n",
    "        spc = (stress - gt_stress) / np.maximum(stress, gt_stress)\n",
    "        stress_list.append(stress)\n",
    "        spc_list.append(spc)\n",
    "\n",
    "        np.save(f\"/__artifacts__/gan_result/data/scalability_{idx}.npy\", pos.cpu().numpy())\n",
    "        graph_attr = dict(node_size=1, \n",
    "                        with_labels=False, \n",
    "                        labels=dict(zip(list(G.nodes), map(lambda n: n if type(n) is int else n[1:], list(G.nodes)))),\n",
    "                        font_color=\"white\", \n",
    "                        font_weight=\"bold\",\n",
    "                        font_size=12,\n",
    "                        width=0.1)\n",
    "\n",
    "        # gt_pos = pickle.load(open(f\"/__artifacts__/data/scalability_{idx}_gt.pkl\", \"rb\"))\n",
    "\n",
    "        plt.figure(figsize=[12, 9])\n",
    "        nx.draw(G, pos=gt.cpu().numpy(), node_color='orange', **graph_attr)\n",
    "        plt.title(f\"neato: large_{idx}\")\n",
    "        plt.axis(\"equal\")\n",
    "        plt.savefig(f\"/__artifacts__/gan_result/output/{idx}_{col['name']}_{col['n']}_{spc}_nx.png\", dpi=300)\n",
    "        plt.show()\n",
    "\n",
    "        plt.figure(figsize=[12, 9])\n",
    "        graph_vis(G, pos.cpu().numpy(), **graph_attr)\n",
    "        plt.title(f\"dgd: large_{idx}, spc={spc:.2%}\")\n",
    "        plt.axis(\"equal\")\n",
    "        plt.savefig(f\"/__artifacts__/gan_result/output/{idx}_{col['name']}_{col['n']}_{spc}_dgd.png\", dpi=300)\n",
    "        plt.show()"
   ]
  },
  {
   "cell_type": "code",
   "execution_count": null,
   "metadata": {
    "id": "gRXTewkYeuq1"
   },
   "outputs": [],
   "source": []
  }
 ],
 "metadata": {
  "accelerator": "GPU",
  "colab": {
   "collapsed_sections": [
    "w_p3OD0woiSM",
    "DR6-vYtr_i_P",
    "innqkwvH_ydD",
    "f-ODE2k8BFV6",
    "N39dDHraedM6"
   ],
   "machine_shape": "hm",
   "name": "GAN(gan=rgan,data=best(xing,stress),dis=deep,share=16,embed=0,gp=0).ipynb",
   "provenance": []
  },
  "kernelspec": {
   "display_name": "DeepGD",
   "language": "python",
   "name": "deepgd"
  },
  "language_info": {
   "codemirror_mode": {
    "name": "ipython",
    "version": 3
   },
   "file_extension": ".py",
   "mimetype": "text/x-python",
   "name": "python",
   "nbconvert_exporter": "python",
   "pygments_lexer": "ipython3",
   "version": "3.9.7"
  },
  "widgets": {
   "application/vnd.jupyter.widget-state+json": {
    "state": {
     "0040971ef89e485cae84fe94b99518c0": {
      "model_module": "@jupyter-widgets/base",
      "model_module_version": "1.2.0",
      "model_name": "LayoutModel",
      "state": {}
     },
     "022918a89f3a4062a1cf79e843e4dd1a": {
      "model_module": "@jupyter-widgets/output",
      "model_module_version": "1.0.0",
      "model_name": "OutputModel",
      "state": {
       "layout": "IPY_MODEL_7545bd7639dc4be7ad8011d6c2869bd0",
       "outputs": [
        {
         "data": {
          "text/html": "<div>\n<style scoped>\n    .dataframe tbody tr th:only-of-type {\n        vertical-align: middle;\n    }\n\n    .dataframe tbody tr th {\n        vertical-align: top;\n    }\n\n    .dataframe thead th {\n        text-align: right;\n    }\n</style>\n<table border=\"1\" class=\"dataframe\">\n  <thead>\n    <tr style=\"text-align: right;\">\n      <th></th>\n      <th>val_stress</th>\n      <th>val_stress_spc</th>\n      <th>val_xing</th>\n      <th>val_xing_spc</th>\n      <th>dis_loss</th>\n    </tr>\n  </thead>\n  <tbody>\n    <tr>\n      <th>epoch 668</th>\n      <td>385.28</td>\n      <td>15.51%</td>\n      <td>36.76</td>\n      <td>32.63%</td>\n      <td>3.55e-04</td>\n    </tr>\n  </tbody>\n</table>\n</div>",
          "text/plain": "          val_stress val_stress_spc val_xing val_xing_spc  dis_loss\nepoch 668     385.28         15.51%    36.76       32.63%  3.55e-04"
         },
         "metadata": {},
         "output_type": "display_data"
        }
       ]
      }
     },
     "06a277ac3fd244c99a801cbcdc24fc12": {
      "model_module": "@jupyter-widgets/controls",
      "model_module_version": "1.5.0",
      "model_name": "HTMLModel",
      "state": {
       "layout": "IPY_MODEL_42d89b2a9ef1405a80f9907a43aebb88",
       "style": "IPY_MODEL_70db51663b154a28971bcae7dcd0eaed",
       "value": "100%"
      }
     },
     "06f735fe56fb437a9064754ba24e85bd": {
      "model_module": "@jupyter-widgets/controls",
      "model_module_version": "1.5.0",
      "model_name": "HTMLModel",
      "state": {
       "layout": "IPY_MODEL_6b3b3341430d4f0b861b140579338af6",
       "style": "IPY_MODEL_f2cd784f82624ccf96eb0ac3a1231704",
       "value": " 307/834 [00:45&lt;01:18,  6.68it/s]"
      }
     },
     "07f2673a211342c5b0c17080a96363a4": {
      "model_module": "@jupyter-widgets/controls",
      "model_module_version": "1.5.0",
      "model_name": "HTMLModel",
      "state": {
       "layout": "IPY_MODEL_9d60eed8a52149929ebd4904ef4ec12a",
       "style": "IPY_MODEL_dbae8142fe1343aaa6acfb94229188a7",
       "value": " 1000/1000 [00:47&lt;00:00, 21.81it/s]"
      }
     },
     "0976c046248842099b61aaff7f682ab7": {
      "model_module": "@jupyter-widgets/base",
      "model_module_version": "1.2.0",
      "model_name": "LayoutModel",
      "state": {}
     },
     "09b07e64e8874d2cb0a04fc9dad28f59": {
      "model_module": "@jupyter-widgets/base",
      "model_module_version": "1.2.0",
      "model_name": "LayoutModel",
      "state": {}
     },
     "0a9ca7603c844957865d5fab3a077c7b": {
      "model_module": "@jupyter-widgets/controls",
      "model_module_version": "1.5.0",
      "model_name": "HTMLModel",
      "state": {
       "layout": "IPY_MODEL_ac3b7dfd2bc84dc4828479b3dc8a4d50",
       "style": "IPY_MODEL_94719085c5354677bdab6660fc4788a5",
       "value": " 11531/11531 [00:00&lt;00:00, 79813.80it/s]"
      }
     },
     "0b6c851b10cb47ec80321708a9596b93": {
      "model_module": "@jupyter-widgets/controls",
      "model_module_version": "1.5.0",
      "model_name": "HBoxModel",
      "state": {
       "children": [
        "IPY_MODEL_1c996f0f3c274d41b2d3b842484165ea",
        "IPY_MODEL_31ad2699475a430ca7a044c437e2e7a2",
        "IPY_MODEL_bbd4f926c05c45d69f6d5ed2bc575d32"
       ],
       "layout": "IPY_MODEL_16fc28a9b889475c986dba24413a50c2"
      }
     },
     "0b83fa81e95046b399bb1127a0ce9910": {
      "model_module": "@jupyter-widgets/base",
      "model_module_version": "1.2.0",
      "model_name": "LayoutModel",
      "state": {}
     },
     "0dcb8f28389c4363a8ff639c7d774c8c": {
      "model_module": "@jupyter-widgets/controls",
      "model_module_version": "1.5.0",
      "model_name": "ProgressStyleModel",
      "state": {
       "description_width": ""
      }
     },
     "0f51c538af3e474bbc46d4fa82923b4e": {
      "model_module": "@jupyter-widgets/controls",
      "model_module_version": "1.5.0",
      "model_name": "DescriptionStyleModel",
      "state": {
       "description_width": ""
      }
     },
     "16fc28a9b889475c986dba24413a50c2": {
      "model_module": "@jupyter-widgets/base",
      "model_module_version": "1.2.0",
      "model_name": "LayoutModel",
      "state": {}
     },
     "1c5c85ae99604f68b42acacbe06395dd": {
      "model_module": "@jupyter-widgets/controls",
      "model_module_version": "1.5.0",
      "model_name": "TabModel",
      "state": {
       "_titles": {
        "0": "status",
        "1": "plot",
        "2": "log"
       },
       "children": [
        "IPY_MODEL_ead5da65065d49868712ed6ce7138c2e",
        "IPY_MODEL_9a809ef1e5a8493b857eb9e7e3f60c18",
        "IPY_MODEL_74cf02f902e54d89b1df4493fb957256"
       ],
       "layout": "IPY_MODEL_d8071fb7039d4c3f9b2fd02634499ab3"
      }
     },
     "1c996f0f3c274d41b2d3b842484165ea": {
      "model_module": "@jupyter-widgets/controls",
      "model_module_version": "1.5.0",
      "model_name": "HTMLModel",
      "state": {
       "layout": "IPY_MODEL_22a60194dcc74e80af2a7bd159c5fea1",
       "style": "IPY_MODEL_736b80ea503e406abb37430ec8be2dd4",
       "value": "100%"
      }
     },
     "1e9f630d92e24492a0d3ca443ad58342": {
      "model_module": "@jupyter-widgets/controls",
      "model_module_version": "1.5.0",
      "model_name": "FloatProgressModel",
      "state": {
       "layout": "IPY_MODEL_a2c9c7b80e304a759511f9789b81c416",
       "max": 834,
       "style": "IPY_MODEL_2786d24460b541879e61f0cd27ab9aab",
       "value": 307
      }
     },
     "22a60194dcc74e80af2a7bd159c5fea1": {
      "model_module": "@jupyter-widgets/base",
      "model_module_version": "1.2.0",
      "model_name": "LayoutModel",
      "state": {}
     },
     "23f25500cea340349ca9c339700d05c6": {
      "model_module": "@jupyter-widgets/controls",
      "model_module_version": "1.5.0",
      "model_name": "DescriptionStyleModel",
      "state": {
       "description_width": ""
      }
     },
     "254de4a132884e1eaa18842c8eba0272": {
      "model_module": "@jupyter-widgets/controls",
      "model_module_version": "1.5.0",
      "model_name": "DescriptionStyleModel",
      "state": {
       "description_width": ""
      }
     },
     "2786d24460b541879e61f0cd27ab9aab": {
      "model_module": "@jupyter-widgets/controls",
      "model_module_version": "1.5.0",
      "model_name": "ProgressStyleModel",
      "state": {
       "description_width": ""
      }
     },
     "295bcb5d8aaf4adcafafe78f8e02cf79": {
      "model_module": "@jupyter-widgets/controls",
      "model_module_version": "1.5.0",
      "model_name": "FloatProgressModel",
      "state": {
       "bar_style": "success",
       "layout": "IPY_MODEL_99077acb9b0f42dc9817f0a2ad3d8807",
       "max": 1000,
       "style": "IPY_MODEL_f9d198189aef42dc98024b5f1e59f9ef",
       "value": 1000
      }
     },
     "2c8c0d58678a458ebb5072ccf9f87845": {
      "model_module": "@jupyter-widgets/controls",
      "model_module_version": "1.5.0",
      "model_name": "HTMLModel",
      "state": {
       "layout": "IPY_MODEL_cfe815a6aad544fabcf675930d8e8f3b",
       "style": "IPY_MODEL_cf5b9f7503784b00a60dc0982bd3670a",
       "value": " 1000/1000 [00:47&lt;00:00, 21.62it/s]"
      }
     },
     "2d7c42698b524e60bfa832c8dba40665": {
      "model_module": "@jupyter-widgets/output",
      "model_module_version": "1.0.0",
      "model_name": "OutputModel",
      "state": {
       "layout": "IPY_MODEL_2fc4986101ef4bad99eab14d56b77915",
       "outputs": [
        {
         "data": {
          "image/png": "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\n",
          "text/plain": "<Figure size 432x288 with 1 Axes>"
         },
         "metadata": {},
         "output_type": "display_data"
        }
       ]
      }
     },
     "2fc4986101ef4bad99eab14d56b77915": {
      "model_module": "@jupyter-widgets/base",
      "model_module_version": "1.2.0",
      "model_name": "LayoutModel",
      "state": {}
     },
     "31ad2699475a430ca7a044c437e2e7a2": {
      "model_module": "@jupyter-widgets/controls",
      "model_module_version": "1.5.0",
      "model_name": "FloatProgressModel",
      "state": {
       "bar_style": "success",
       "layout": "IPY_MODEL_9a7066920fb344babbb1c9e9987c33ec",
       "max": 1000,
       "style": "IPY_MODEL_64fa2df175a1470dbe8dd4645fc9570b",
       "value": 1000
      }
     },
     "32019414deee495c8b4c64bdafda07eb": {
      "model_module": "@jupyter-widgets/base",
      "model_module_version": "1.2.0",
      "model_name": "LayoutModel",
      "state": {}
     },
     "42d89b2a9ef1405a80f9907a43aebb88": {
      "model_module": "@jupyter-widgets/base",
      "model_module_version": "1.2.0",
      "model_name": "LayoutModel",
      "state": {}
     },
     "4cbe32136d304b2082e3caa7cf2840b9": {
      "model_module": "@jupyter-widgets/controls",
      "model_module_version": "1.5.0",
      "model_name": "HBoxModel",
      "state": {
       "children": [
        "IPY_MODEL_aec4d9f2723647439773246137cf9156",
        "IPY_MODEL_295bcb5d8aaf4adcafafe78f8e02cf79",
        "IPY_MODEL_afa6a1a5a2564e3d90aafad36fa8907b"
       ],
       "layout": "IPY_MODEL_db1293ca931b4c0f962de6bc08d32cf3"
      }
     },
     "4dfc59b944894056ba0f3588772534de": {
      "model_module": "@jupyter-widgets/controls",
      "model_module_version": "1.5.0",
      "model_name": "ProgressStyleModel",
      "state": {
       "description_width": ""
      }
     },
     "4e0799faaee44d8fbcdeb1ec5f9c8684": {
      "model_module": "@jupyter-widgets/controls",
      "model_module_version": "1.5.0",
      "model_name": "HTMLModel",
      "state": {
       "layout": "IPY_MODEL_cfc992d042c441dd98a0bf38c12b4128",
       "style": "IPY_MODEL_bb0286f4fb7e436780dce2d1f0596453",
       "value": "100%"
      }
     },
     "4ebfd5c90ec347c58dd8537c8506764a": {
      "model_module": "@jupyter-widgets/controls",
      "model_module_version": "1.5.0",
      "model_name": "FloatProgressModel",
      "state": {
       "bar_style": "success",
       "layout": "IPY_MODEL_32019414deee495c8b4c64bdafda07eb",
       "max": 1000,
       "style": "IPY_MODEL_93d83ca5828e4883b366324ff48bfa05",
       "value": 1000
      }
     },
     "519bcbdfa86241f79b6f1861e1175f93": {
      "model_module": "@jupyter-widgets/base",
      "model_module_version": "1.2.0",
      "model_name": "LayoutModel",
      "state": {}
     },
     "5d5f7960be45416187e75289f57b8544": {
      "model_module": "@jupyter-widgets/base",
      "model_module_version": "1.2.0",
      "model_name": "LayoutModel",
      "state": {}
     },
     "5e143668d4e74c0db015d2c59ff915da": {
      "model_module": "@jupyter-widgets/base",
      "model_module_version": "1.2.0",
      "model_name": "LayoutModel",
      "state": {}
     },
     "6004c12abddb4e5597c00c1b2a5edd85": {
      "model_module": "@jupyter-widgets/base",
      "model_module_version": "1.2.0",
      "model_name": "LayoutModel",
      "state": {}
     },
     "601b38eea8254a6fac62a8d06797b6ae": {
      "model_module": "@jupyter-widgets/controls",
      "model_module_version": "1.5.0",
      "model_name": "HBoxModel",
      "state": {
       "children": [
        "IPY_MODEL_84b1f00647b449e9842182232ab7445b",
        "IPY_MODEL_4ebfd5c90ec347c58dd8537c8506764a",
        "IPY_MODEL_90d57bd804a64e3da2df43af61b303da"
       ],
       "layout": "IPY_MODEL_ec06f9323c2d4ffc825c85cfdd69925c"
      }
     },
     "64fa2df175a1470dbe8dd4645fc9570b": {
      "model_module": "@jupyter-widgets/controls",
      "model_module_version": "1.5.0",
      "model_name": "ProgressStyleModel",
      "state": {
       "description_width": ""
      }
     },
     "6aa516e9b16f48429c7aa9f424c4587d": {
      "model_module": "@jupyter-widgets/controls",
      "model_module_version": "1.5.0",
      "model_name": "HBoxModel",
      "state": {
       "children": [
        "IPY_MODEL_e53cdc65c6bd410ab20b6dd6d81351c5",
        "IPY_MODEL_7007b3de222d49ff8f41a012da57d595",
        "IPY_MODEL_819cbad16dde4193aac4679b02746679"
       ],
       "layout": "IPY_MODEL_5e143668d4e74c0db015d2c59ff915da"
      }
     },
     "6b3b3341430d4f0b861b140579338af6": {
      "model_module": "@jupyter-widgets/base",
      "model_module_version": "1.2.0",
      "model_name": "LayoutModel",
      "state": {}
     },
     "6bbb0662b74141028ab8998d4f9089a8": {
      "model_module": "@jupyter-widgets/base",
      "model_module_version": "1.2.0",
      "model_name": "LayoutModel",
      "state": {
       "height": "500px",
       "overflow_y": "auto"
      }
     },
     "6d82cb95e62c47e7b0a34bd63a15d4c1": {
      "model_module": "@jupyter-widgets/base",
      "model_module_version": "1.2.0",
      "model_name": "LayoutModel",
      "state": {}
     },
     "6f1555d4218f46bbafb5d0ec9a9eb1a0": {
      "model_module": "@jupyter-widgets/controls",
      "model_module_version": "1.5.0",
      "model_name": "DescriptionStyleModel",
      "state": {
       "description_width": ""
      }
     },
     "7007b3de222d49ff8f41a012da57d595": {
      "model_module": "@jupyter-widgets/controls",
      "model_module_version": "1.5.0",
      "model_name": "FloatProgressModel",
      "state": {
       "bar_style": "danger",
       "layout": "IPY_MODEL_87491de7f4b0443a874a583c04a2d627",
       "max": 1000,
       "style": "IPY_MODEL_b1db592c9016477f91b1f213def72164",
       "value": 469
      }
     },
     "70db51663b154a28971bcae7dcd0eaed": {
      "model_module": "@jupyter-widgets/controls",
      "model_module_version": "1.5.0",
      "model_name": "DescriptionStyleModel",
      "state": {
       "description_width": ""
      }
     },
     "736b80ea503e406abb37430ec8be2dd4": {
      "model_module": "@jupyter-widgets/controls",
      "model_module_version": "1.5.0",
      "model_name": "DescriptionStyleModel",
      "state": {
       "description_width": ""
      }
     },
     "74cf02f902e54d89b1df4493fb957256": {
      "model_module": "@jupyter-widgets/controls",
      "model_module_version": "1.5.0",
      "model_name": "HBoxModel",
      "state": {
       "children": [
        "IPY_MODEL_abd510e60dda48669dc59982c1341bcd"
       ],
       "layout": "IPY_MODEL_ef01c770dcac469f97f93f4416a3cf03"
      }
     },
     "7545bd7639dc4be7ad8011d6c2869bd0": {
      "model_module": "@jupyter-widgets/base",
      "model_module_version": "1.2.0",
      "model_name": "LayoutModel",
      "state": {}
     },
     "7828187df20f45c888c6e45d1062584b": {
      "model_module": "@jupyter-widgets/base",
      "model_module_version": "1.2.0",
      "model_name": "LayoutModel",
      "state": {}
     },
     "819cbad16dde4193aac4679b02746679": {
      "model_module": "@jupyter-widgets/controls",
      "model_module_version": "1.5.0",
      "model_name": "HTMLModel",
      "state": {
       "layout": "IPY_MODEL_d2f87f98e5df4a9b8d6379384e27a2cc",
       "style": "IPY_MODEL_84817258849f4247a351749c13a6de7c",
       "value": " 469/1000 [00:22&lt;00:26, 20.20it/s]"
      }
     },
     "83a58540bbef4a6791200287e306be40": {
      "model_module": "@jupyter-widgets/base",
      "model_module_version": "1.2.0",
      "model_name": "LayoutModel",
      "state": {}
     },
     "83e0ff2b82d84d90b6f155477b4aaddd": {
      "model_module": "@jupyter-widgets/base",
      "model_module_version": "1.2.0",
      "model_name": "LayoutModel",
      "state": {}
     },
     "84817258849f4247a351749c13a6de7c": {
      "model_module": "@jupyter-widgets/controls",
      "model_module_version": "1.5.0",
      "model_name": "DescriptionStyleModel",
      "state": {
       "description_width": ""
      }
     },
     "84b1f00647b449e9842182232ab7445b": {
      "model_module": "@jupyter-widgets/controls",
      "model_module_version": "1.5.0",
      "model_name": "HTMLModel",
      "state": {
       "layout": "IPY_MODEL_92d75f3b82c647fd88fedb24871b7b93",
       "style": "IPY_MODEL_0f51c538af3e474bbc46d4fa82923b4e",
       "value": "100%"
      }
     },
     "87491de7f4b0443a874a583c04a2d627": {
      "model_module": "@jupyter-widgets/base",
      "model_module_version": "1.2.0",
      "model_name": "LayoutModel",
      "state": {}
     },
     "8beb569fc24b422a84c30b9a40f44ead": {
      "model_module": "@jupyter-widgets/base",
      "model_module_version": "1.2.0",
      "model_name": "LayoutModel",
      "state": {}
     },
     "8e36db94832c47878d7c81777340a8fe": {
      "model_module": "@jupyter-widgets/base",
      "model_module_version": "1.2.0",
      "model_name": "LayoutModel",
      "state": {}
     },
     "90d57bd804a64e3da2df43af61b303da": {
      "model_module": "@jupyter-widgets/controls",
      "model_module_version": "1.5.0",
      "model_name": "HTMLModel",
      "state": {
       "layout": "IPY_MODEL_d6037da67d0841cab1b077c05ec6843d",
       "style": "IPY_MODEL_9e85bf489df940c8b85814200a8bc1d8",
       "value": " 1000/1000 [00:46&lt;00:00, 21.63it/s]"
      }
     },
     "92d75f3b82c647fd88fedb24871b7b93": {
      "model_module": "@jupyter-widgets/base",
      "model_module_version": "1.2.0",
      "model_name": "LayoutModel",
      "state": {}
     },
     "93d83ca5828e4883b366324ff48bfa05": {
      "model_module": "@jupyter-widgets/controls",
      "model_module_version": "1.5.0",
      "model_name": "ProgressStyleModel",
      "state": {
       "description_width": ""
      }
     },
     "94719085c5354677bdab6660fc4788a5": {
      "model_module": "@jupyter-widgets/controls",
      "model_module_version": "1.5.0",
      "model_name": "DescriptionStyleModel",
      "state": {
       "description_width": ""
      }
     },
     "96e40f549ca044f4a0a298b345bed592": {
      "model_module": "@jupyter-widgets/controls",
      "model_module_version": "1.5.0",
      "model_name": "HBoxModel",
      "state": {
       "children": [
        "IPY_MODEL_d7559add2a3a4165927054e23376f0dc",
        "IPY_MODEL_1e9f630d92e24492a0d3ca443ad58342",
        "IPY_MODEL_06f735fe56fb437a9064754ba24e85bd"
       ],
       "layout": "IPY_MODEL_0040971ef89e485cae84fe94b99518c0"
      }
     },
     "99077acb9b0f42dc9817f0a2ad3d8807": {
      "model_module": "@jupyter-widgets/base",
      "model_module_version": "1.2.0",
      "model_name": "LayoutModel",
      "state": {}
     },
     "9a7066920fb344babbb1c9e9987c33ec": {
      "model_module": "@jupyter-widgets/base",
      "model_module_version": "1.2.0",
      "model_name": "LayoutModel",
      "state": {}
     },
     "9a809ef1e5a8493b857eb9e7e3f60c18": {
      "model_module": "@jupyter-widgets/controls",
      "model_module_version": "1.5.0",
      "model_name": "HBoxModel",
      "state": {
       "children": [
        "IPY_MODEL_2d7c42698b524e60bfa832c8dba40665"
       ],
       "layout": "IPY_MODEL_6bbb0662b74141028ab8998d4f9089a8"
      }
     },
     "9d60eed8a52149929ebd4904ef4ec12a": {
      "model_module": "@jupyter-widgets/base",
      "model_module_version": "1.2.0",
      "model_name": "LayoutModel",
      "state": {}
     },
     "9e85bf489df940c8b85814200a8bc1d8": {
      "model_module": "@jupyter-widgets/controls",
      "model_module_version": "1.5.0",
      "model_name": "DescriptionStyleModel",
      "state": {
       "description_width": ""
      }
     },
     "a2c9c7b80e304a759511f9789b81c416": {
      "model_module": "@jupyter-widgets/base",
      "model_module_version": "1.2.0",
      "model_name": "LayoutModel",
      "state": {}
     },
     "a33cfddcfcfb408bb96ff590226f9fc7": {
      "model_module": "@jupyter-widgets/output",
      "model_module_version": "1.0.0",
      "model_name": "OutputModel",
      "state": {
       "layout": "IPY_MODEL_09b07e64e8874d2cb0a04fc9dad28f59",
       "outputs": [
        {
         "data": {
          "application/vnd.jupyter.widget-view+json": {
           "model_id": "96e40f549ca044f4a0a298b345bed592",
           "version_major": 2,
           "version_minor": 0
          },
          "text/plain": "  0%|          | 0/834 [00:00<?, ?it/s]"
         },
         "metadata": {},
         "output_type": "display_data"
        }
       ]
      }
     },
     "a352816956964cd89fa17be8a56e2674": {
      "model_module": "@jupyter-widgets/controls",
      "model_module_version": "1.5.0",
      "model_name": "ProgressStyleModel",
      "state": {
       "description_width": ""
      }
     },
     "a52792c192f34e519f41cf53ea0d920f": {
      "model_module": "@jupyter-widgets/controls",
      "model_module_version": "1.5.0",
      "model_name": "HBoxModel",
      "state": {
       "children": [
        "IPY_MODEL_d63a7cfbc8fc44798b37f942e7b4f261",
        "IPY_MODEL_ffd17145c1f64478b78779d10f3a1db9",
        "IPY_MODEL_2c8c0d58678a458ebb5072ccf9f87845"
       ],
       "layout": "IPY_MODEL_7828187df20f45c888c6e45d1062584b"
      }
     },
     "abd510e60dda48669dc59982c1341bcd": {
      "model_module": "@jupyter-widgets/output",
      "model_module_version": "1.0.0",
      "model_name": "OutputModel",
      "state": {
       "layout": "IPY_MODEL_e8fc3fe57aa048ceafee3ea1870e5f79",
       "outputs": [
        {
         "name": "stdout",
         "output_type": "stream",
         "text": "[668] stress=385.28(15.51%) xing=36.76(32.63%)\n"
        }
       ]
      }
     },
     "ac3b7dfd2bc84dc4828479b3dc8a4d50": {
      "model_module": "@jupyter-widgets/base",
      "model_module_version": "1.2.0",
      "model_name": "LayoutModel",
      "state": {}
     },
     "aec4d9f2723647439773246137cf9156": {
      "model_module": "@jupyter-widgets/controls",
      "model_module_version": "1.5.0",
      "model_name": "HTMLModel",
      "state": {
       "layout": "IPY_MODEL_cb6061af97394c748d9f592ae214e91b",
       "style": "IPY_MODEL_d0bc010ae7064414a791b7835c05d5f6",
       "value": "100%"
      }
     },
     "afa6a1a5a2564e3d90aafad36fa8907b": {
      "model_module": "@jupyter-widgets/controls",
      "model_module_version": "1.5.0",
      "model_name": "HTMLModel",
      "state": {
       "layout": "IPY_MODEL_519bcbdfa86241f79b6f1861e1175f93",
       "style": "IPY_MODEL_254de4a132884e1eaa18842c8eba0272",
       "value": " 1000/1000 [00:47&lt;00:00, 21.82it/s]"
      }
     },
     "b1db592c9016477f91b1f213def72164": {
      "model_module": "@jupyter-widgets/controls",
      "model_module_version": "1.5.0",
      "model_name": "ProgressStyleModel",
      "state": {
       "description_width": ""
      }
     },
     "bb0286f4fb7e436780dce2d1f0596453": {
      "model_module": "@jupyter-widgets/controls",
      "model_module_version": "1.5.0",
      "model_name": "DescriptionStyleModel",
      "state": {
       "description_width": ""
      }
     },
     "bbd4f926c05c45d69f6d5ed2bc575d32": {
      "model_module": "@jupyter-widgets/controls",
      "model_module_version": "1.5.0",
      "model_name": "HTMLModel",
      "state": {
       "layout": "IPY_MODEL_83e0ff2b82d84d90b6f155477b4aaddd",
       "style": "IPY_MODEL_e341f9f286434d83a8dcbff171b60f85",
       "value": " 1000/1000 [00:47&lt;00:00, 21.29it/s]"
      }
     },
     "c1da6c3650174c97a52b54cc91e00863": {
      "model_module": "@jupyter-widgets/controls",
      "model_module_version": "1.5.0",
      "model_name": "FloatProgressModel",
      "state": {
       "bar_style": "success",
       "layout": "IPY_MODEL_83a58540bbef4a6791200287e306be40",
       "max": 11531,
       "style": "IPY_MODEL_0dcb8f28389c4363a8ff639c7d774c8c",
       "value": 11531
      }
     },
     "ca8649f8c7df46458ec0fb115e46ff66": {
      "model_module": "@jupyter-widgets/base",
      "model_module_version": "1.2.0",
      "model_name": "LayoutModel",
      "state": {}
     },
     "cb6061af97394c748d9f592ae214e91b": {
      "model_module": "@jupyter-widgets/base",
      "model_module_version": "1.2.0",
      "model_name": "LayoutModel",
      "state": {}
     },
     "cf5b9f7503784b00a60dc0982bd3670a": {
      "model_module": "@jupyter-widgets/controls",
      "model_module_version": "1.5.0",
      "model_name": "DescriptionStyleModel",
      "state": {
       "description_width": ""
      }
     },
     "cfc992d042c441dd98a0bf38c12b4128": {
      "model_module": "@jupyter-widgets/base",
      "model_module_version": "1.2.0",
      "model_name": "LayoutModel",
      "state": {}
     },
     "cfe815a6aad544fabcf675930d8e8f3b": {
      "model_module": "@jupyter-widgets/base",
      "model_module_version": "1.2.0",
      "model_name": "LayoutModel",
      "state": {}
     },
     "d0bc010ae7064414a791b7835c05d5f6": {
      "model_module": "@jupyter-widgets/controls",
      "model_module_version": "1.5.0",
      "model_name": "DescriptionStyleModel",
      "state": {
       "description_width": ""
      }
     },
     "d2f87f98e5df4a9b8d6379384e27a2cc": {
      "model_module": "@jupyter-widgets/base",
      "model_module_version": "1.2.0",
      "model_name": "LayoutModel",
      "state": {}
     },
     "d31fd1e2eaa44f9aa418985021f6153c": {
      "model_module": "@jupyter-widgets/controls",
      "model_module_version": "1.5.0",
      "model_name": "HBoxModel",
      "state": {
       "children": [
        "IPY_MODEL_06a277ac3fd244c99a801cbcdc24fc12",
        "IPY_MODEL_c1da6c3650174c97a52b54cc91e00863",
        "IPY_MODEL_0a9ca7603c844957865d5fab3a077c7b"
       ],
       "layout": "IPY_MODEL_0976c046248842099b61aaff7f682ab7"
      }
     },
     "d6037da67d0841cab1b077c05ec6843d": {
      "model_module": "@jupyter-widgets/base",
      "model_module_version": "1.2.0",
      "model_name": "LayoutModel",
      "state": {}
     },
     "d63a7cfbc8fc44798b37f942e7b4f261": {
      "model_module": "@jupyter-widgets/controls",
      "model_module_version": "1.5.0",
      "model_name": "HTMLModel",
      "state": {
       "layout": "IPY_MODEL_6d82cb95e62c47e7b0a34bd63a15d4c1",
       "style": "IPY_MODEL_23f25500cea340349ca9c339700d05c6",
       "value": "100%"
      }
     },
     "d7559add2a3a4165927054e23376f0dc": {
      "model_module": "@jupyter-widgets/controls",
      "model_module_version": "1.5.0",
      "model_name": "HTMLModel",
      "state": {
       "layout": "IPY_MODEL_5d5f7960be45416187e75289f57b8544",
       "style": "IPY_MODEL_6f1555d4218f46bbafb5d0ec9a9eb1a0",
       "value": "[epoch 668/None]:  37%"
      }
     },
     "d8071fb7039d4c3f9b2fd02634499ab3": {
      "model_module": "@jupyter-widgets/base",
      "model_module_version": "1.2.0",
      "model_name": "LayoutModel",
      "state": {}
     },
     "db1293ca931b4c0f962de6bc08d32cf3": {
      "model_module": "@jupyter-widgets/base",
      "model_module_version": "1.2.0",
      "model_name": "LayoutModel",
      "state": {}
     },
     "dbae8142fe1343aaa6acfb94229188a7": {
      "model_module": "@jupyter-widgets/controls",
      "model_module_version": "1.5.0",
      "model_name": "DescriptionStyleModel",
      "state": {
       "description_width": ""
      }
     },
     "e341f9f286434d83a8dcbff171b60f85": {
      "model_module": "@jupyter-widgets/controls",
      "model_module_version": "1.5.0",
      "model_name": "DescriptionStyleModel",
      "state": {
       "description_width": ""
      }
     },
     "e53cdc65c6bd410ab20b6dd6d81351c5": {
      "model_module": "@jupyter-widgets/controls",
      "model_module_version": "1.5.0",
      "model_name": "HTMLModel",
      "state": {
       "layout": "IPY_MODEL_8beb569fc24b422a84c30b9a40f44ead",
       "style": "IPY_MODEL_f78d533b64ae4b64803520570b3b0766",
       "value": " 47%"
      }
     },
     "e81abf1cbf4f4a2aa3e359e83de7df95": {
      "model_module": "@jupyter-widgets/controls",
      "model_module_version": "1.5.0",
      "model_name": "HBoxModel",
      "state": {
       "children": [
        "IPY_MODEL_4e0799faaee44d8fbcdeb1ec5f9c8684",
        "IPY_MODEL_f8ada1f76ff04eaf84040a0546aa77b1",
        "IPY_MODEL_07f2673a211342c5b0c17080a96363a4"
       ],
       "layout": "IPY_MODEL_0b83fa81e95046b399bb1127a0ce9910"
      }
     },
     "e8fc3fe57aa048ceafee3ea1870e5f79": {
      "model_module": "@jupyter-widgets/base",
      "model_module_version": "1.2.0",
      "model_name": "LayoutModel",
      "state": {}
     },
     "ead5da65065d49868712ed6ce7138c2e": {
      "model_module": "@jupyter-widgets/controls",
      "model_module_version": "1.5.0",
      "model_name": "VBoxModel",
      "state": {
       "children": [
        "IPY_MODEL_a33cfddcfcfb408bb96ff590226f9fc7",
        "IPY_MODEL_022918a89f3a4062a1cf79e843e4dd1a"
       ],
       "layout": "IPY_MODEL_ca8649f8c7df46458ec0fb115e46ff66"
      }
     },
     "ec06f9323c2d4ffc825c85cfdd69925c": {
      "model_module": "@jupyter-widgets/base",
      "model_module_version": "1.2.0",
      "model_name": "LayoutModel",
      "state": {}
     },
     "ef01c770dcac469f97f93f4416a3cf03": {
      "model_module": "@jupyter-widgets/base",
      "model_module_version": "1.2.0",
      "model_name": "LayoutModel",
      "state": {
       "height": "500px",
       "overflow_y": "auto"
      }
     },
     "f2cd784f82624ccf96eb0ac3a1231704": {
      "model_module": "@jupyter-widgets/controls",
      "model_module_version": "1.5.0",
      "model_name": "DescriptionStyleModel",
      "state": {
       "description_width": ""
      }
     },
     "f78d533b64ae4b64803520570b3b0766": {
      "model_module": "@jupyter-widgets/controls",
      "model_module_version": "1.5.0",
      "model_name": "DescriptionStyleModel",
      "state": {
       "description_width": ""
      }
     },
     "f8ada1f76ff04eaf84040a0546aa77b1": {
      "model_module": "@jupyter-widgets/controls",
      "model_module_version": "1.5.0",
      "model_name": "FloatProgressModel",
      "state": {
       "bar_style": "success",
       "layout": "IPY_MODEL_8e36db94832c47878d7c81777340a8fe",
       "max": 1000,
       "style": "IPY_MODEL_a352816956964cd89fa17be8a56e2674",
       "value": 1000
      }
     },
     "f9d198189aef42dc98024b5f1e59f9ef": {
      "model_module": "@jupyter-widgets/controls",
      "model_module_version": "1.5.0",
      "model_name": "ProgressStyleModel",
      "state": {
       "description_width": ""
      }
     },
     "ffd17145c1f64478b78779d10f3a1db9": {
      "model_module": "@jupyter-widgets/controls",
      "model_module_version": "1.5.0",
      "model_name": "FloatProgressModel",
      "state": {
       "bar_style": "success",
       "layout": "IPY_MODEL_6004c12abddb4e5597c00c1b2a5edd85",
       "max": 1000,
       "style": "IPY_MODEL_4dfc59b944894056ba0f3588772534de",
       "value": 1000
      }
     }
    },
    "version_major": 2,
    "version_minor": 0
   }
  }
 },
 "nbformat": 4,
 "nbformat_minor": 4
}
