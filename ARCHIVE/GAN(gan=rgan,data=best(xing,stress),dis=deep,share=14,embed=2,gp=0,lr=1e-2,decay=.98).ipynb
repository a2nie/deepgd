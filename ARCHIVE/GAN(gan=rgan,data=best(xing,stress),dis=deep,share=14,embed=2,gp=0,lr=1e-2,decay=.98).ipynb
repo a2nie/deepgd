{
 "cells": [
  {
   "cell_type": "markdown",
   "metadata": {
    "id": "wZtYFEhHoBGp"
   },
   "source": [
    "# Import libraries"
   ]
  },
  {
   "cell_type": "code",
   "execution_count": 1,
   "metadata": {
    "id": "KJPfzpxLQI5O"
   },
   "outputs": [],
   "source": [
    "%load_ext autoreload\n",
    "%autoreload 2\n",
    "from deepgd import *"
   ]
  },
  {
   "cell_type": "markdown",
   "metadata": {
    "id": "z4eBEyB1oaJe"
   },
   "source": [
    "# Config"
   ]
  },
  {
   "cell_type": "code",
   "execution_count": 2,
   "metadata": {
    "id": "Q_-MLFhpNvxF"
   },
   "outputs": [],
   "source": [
    "cuda_idx = 0\n",
    "canonicalization = Canonicalization(normalize=Standardization(norm_ord=1),\n",
    "                                    scale=False)\n",
    "config = StaticConfig({\n",
    "    \"name\": 'GAN(gan=rgan,data=best(xing,stress),dis=deep,share=14,embed=2,gp=0,lr=1e-2,decay=.98)',\n",
    "    \"uid\": None,\n",
    "    \"link\": None,\n",
    "    \"generator\": {\n",
    "        \"params\": {\n",
    "            \"num_blocks\": 9,\n",
    "            \"normalize\": canonicalization\n",
    "        },\n",
    "        \"pretrained\": {\n",
    "            \"name\": None,\n",
    "            \"epoch\": -1,\n",
    "        },\n",
    "        \"optim\": torch.optim.AdamW,\n",
    "        \"lr\" : {\n",
    "            \"initial\": 1e-2,\n",
    "            \"decay\": 0.98,\n",
    "        },\n",
    "    },\n",
    "    \"discriminator\": {\n",
    "        \"params\": {\n",
    "            \"conv\": [2, 16, 16, 16],\n",
    "            \"dense\": [2],\n",
    "            \"shared_depth\": 14,\n",
    "            \"enet_depth\": 2,\n",
    "            \"enet_width\": 64,\n",
    "            \"aggr\": \"add\",\n",
    "            \"normalize\": canonicalization\n",
    "        },\n",
    "        \"pretrained\": {\n",
    "            \"name\": None,\n",
    "            \"epoch\": -1,\n",
    "        },\n",
    "        \"optim\": torch.optim.AdamW,\n",
    "        \"lr\" : {\n",
    "            \"initial\": 1e-2,\n",
    "            \"decay\": 0.98,\n",
    "        },\n",
    "        \"noise\": {\n",
    "            \"std\": 0,\n",
    "            \"decay\": 0.95,\n",
    "        },\n",
    "        \"repeat\": 1,\n",
    "        \"complete\": True,\n",
    "        \"adaptive\": True\n",
    "    },\n",
    "    \"alternate\": \"epoch\",\n",
    "    \"batchsize\": 24,\n",
    "    \"epoch\": {\n",
    "        \"start\": -1,\n",
    "        \"end\": None,\n",
    "    },\n",
    "    \"log_interval\": 1,\n",
    "    \"test\": {\n",
    "        \"name\": \"test\",\n",
    "        \"epoch\": -1,\n",
    "    },\n",
    "    \"gan_flavor\": \"rgan\",\n",
    "    \"gp_weight\": 0,\n",
    "})\n",
    "data_config = StaticConfig({\n",
    "    \"sparse\": False,\n",
    "    \"pivot\": None,\n",
    "    \"init\": \"pmds\",\n",
    "    \"edge\": {\n",
    "        \"index\": \"full_edge_index\",\n",
    "        \"attr\": \"full_edge_attr\",\n",
    "    },\n",
    "})\n",
    "loss_fns = {\n",
    "    Stress(): 1\n",
    "}\n",
    "ctrler_params = {\n",
    "    \"tau\": 0.95,\n",
    "    \"beta\": 1,\n",
    "    \"exploit_rate\": 0.5,\n",
    "    \"warmup\": 2,\n",
    "}\n",
    "paths = StaticConfig({\n",
    "    \"root\": \"artifacts\",\n",
    "    \"checkpoints\": lambda: f\"{paths.root}/checkpoints/{config.name}\",\n",
    "    \"gen_pretrain\": lambda: f\"{paths.root}/checkpoints/{config.generator.pretrained.name}\",\n",
    "    \"dis_pretrain\": lambda: f\"{paths.root}/checkpoints/{config.discriminator.pretrained.name}\",\n",
    "    \"tensorboard\": lambda: f\"{paths.root}/tensorboards/{config.name}\",\n",
    "    \"visualization\": lambda: f\"{paths.root}/visualizations/{config.name}_{config.test.name}\",\n",
    "    \"log\": lambda: f\"{paths.root}/logs/{config.name}.log\",\n",
    "    \"metrics\": lambda suffix: f\"{paths.root}/metrics/{config.name}_{suffix}.pickle\",\n",
    "})"
   ]
  },
  {
   "cell_type": "code",
   "execution_count": 3,
   "metadata": {
    "id": "mdMEAbH10Qaq"
   },
   "outputs": [],
   "source": [
    "if \" \" in config.name:\n",
    "    raise Exception(\"Space is not allowed in model name.\")"
   ]
  },
  {
   "cell_type": "markdown",
   "metadata": {
    "id": "WynW4ZAdBhep"
   },
   "source": [
    "# Prepare"
   ]
  },
  {
   "cell_type": "markdown",
   "metadata": {
    "id": "DR6-vYtr_i_P"
   },
   "source": [
    "## Get log command"
   ]
  },
  {
   "cell_type": "code",
   "execution_count": 4,
   "metadata": {
    "colab": {
     "base_uri": "https://localhost:8080/"
    },
    "id": "9-QpinlslcTO",
    "outputId": "48ae3716-212c-4d46-9efb-b7b4070f73de"
   },
   "outputs": [
    {
     "name": "stdout",
     "output_type": "stream",
     "text": [
      "cd /users/PAS0027/osu10203/deepgd && tail -n1000 -f 'artifacts/logs/GAN(gan=rgan,data=best(xing,stress),dis=deep,share=14,embed=2,gp=0,lr=1e-2,decay=.98).log'\n"
     ]
    }
   ],
   "source": [
    "print(f\"cd {os.getcwd()} && tail -n1000 -f '{paths.log()}'\")"
   ]
  },
  {
   "cell_type": "code",
   "execution_count": 5,
   "metadata": {},
   "outputs": [
    {
     "name": "stdout",
     "output_type": "stream",
     "text": [
      "tensorboard dev upload --logdir 'artifacts/tensorboards/GAN(gan=rgan,data=best(xing,stress),dis=deep,share=14,embed=2,gp=0,lr=1e-2,decay=.98)'\n"
     ]
    }
   ],
   "source": [
    "print(f\"tensorboard dev upload --logdir '{paths.tensorboard()}'\")"
   ]
  },
  {
   "cell_type": "markdown",
   "metadata": {
    "id": "innqkwvH_ydD"
   },
   "source": [
    "## Set globals"
   ]
  },
  {
   "cell_type": "code",
   "execution_count": 6,
   "metadata": {
    "id": "Qjq7JlSZlkQR"
   },
   "outputs": [],
   "source": [
    "if cuda_idx is not None and torch.cuda.is_available():\n",
    "    device = f'cuda:{cuda_idx}'\n",
    "    pynvml.nvmlInit()\n",
    "    cuda = pynvml.nvmlDeviceGetHandleByIndex(cuda_idx)\n",
    "else:\n",
    "    device = 'cpu'\n",
    "    cuda =  None\n",
    "np.set_printoptions(precision=2)\n",
    "warnings.filterwarnings(\"ignore\", category=RuntimeWarning)"
   ]
  },
  {
   "cell_type": "markdown",
   "metadata": {
    "id": "0da286l_ApEL"
   },
   "source": [
    "## Load data"
   ]
  },
  {
   "cell_type": "code",
   "execution_count": 7,
   "metadata": {
    "colab": {
     "base_uri": "https://localhost:8080/"
    },
    "id": "RFuSHiZJMU4x",
    "outputId": "54065609-aaea-4536-d79c-73bc73b3f576"
   },
   "outputs": [
    {
     "name": "stdout",
     "output_type": "stream",
     "text": [
      "Load from 'cache/G_list.pickle'\n",
      "Load from 'cache/generate_data_list(list,sparse=False,pivot_mode=None,init_mode=pmds,edge_index=full_edge_index,edge_attr=full_edge_attr,pmds_list=ndarray,gviz_list=ndarray,noisy_layout=True,device=cpu).pickle'\n"
     ]
    },
    {
     "name": "stderr",
     "output_type": "stream",
     "text": [
      "/users/PAS0027/osu10203/.conda/envs/deepgd/lib/python3.9/site-packages/torch_geometric/deprecation.py:13: UserWarning: 'data.DataLoader' is deprecated, use 'loader.DataLoader' instead\n",
      "  warnings.warn(out)\n"
     ]
    }
   ],
   "source": [
    "G_list = load_G_list(data_path='data/rome', index_file='data_index.txt', cache='G_list', cache_prefix='cache/')\n",
    "data_list = generate_data_list(G_list, \n",
    "                               sparse=data_config.sparse, \n",
    "                               pivot_mode=data_config.pivot,\n",
    "                               init_mode=data_config.init,\n",
    "                               edge_index=data_config.edge.index,\n",
    "                               edge_attr=data_config.edge.attr,\n",
    "                               pmds_list=np.load('layouts/rome/pmds.npy', allow_pickle=True),\n",
    "                               gviz_list=np.load('layouts/rome/gviz.npy', allow_pickle=True),\n",
    "                               noisy_layout=True,\n",
    "                               device='cpu', \n",
    "                               cache=True,\n",
    "                               cache_prefix='cache/')\n",
    "train_loader = LazyDeviceMappingDataLoader(data_list[:10000], batch_size=config.batchsize, shuffle=True, device=device)\n",
    "val_loader = LazyDeviceMappingDataLoader(data_list[11000:], batch_size=config.batchsize, shuffle=False, device=device)"
   ]
  },
  {
   "cell_type": "code",
   "execution_count": 8,
   "metadata": {
    "id": "djd1pLt2OxZq"
   },
   "outputs": [],
   "source": [
    "def draw_layout(G, method, draw=True):\n",
    "    if method == 'fa2':\n",
    "        layout = get_fa2_layout(G)\n",
    "    else:\n",
    "        try:\n",
    "            fn = getattr(nx.drawing.layout, f'{method}_layout')\n",
    "            layout = fn(G)\n",
    "        except:\n",
    "            layout = nx.drawing.nx_agraph.graphviz_layout(G, prog=method)\n",
    "    if draw:\n",
    "        nx.draw(G, pos=layout)\n",
    "    return layout"
   ]
  },
  {
   "cell_type": "code",
   "execution_count": 9,
   "metadata": {
    "id": "2vBBw77lR7Em"
   },
   "outputs": [],
   "source": [
    "methods = ['neato', 'dot', 'fdp', 'sfdp', 'twopi', 'circo', 'shell', 'spring', 'circular', 'spectral', 'kamada_kawai', 'fa2', 'pmds']"
   ]
  },
  {
   "cell_type": "code",
   "execution_count": 10,
   "metadata": {
    "id": "dx6VVA9XIc2O"
   },
   "outputs": [],
   "source": [
    "from functools import lru_cache\n",
    "\n",
    "@lru_cache(maxsize=None)\n",
    "def load_pos(method):\n",
    "    return np.load(f'layouts/rome/{method}.npy', allow_pickle=True)"
   ]
  },
  {
   "cell_type": "code",
   "execution_count": 11,
   "metadata": {
    "colab": {
     "base_uri": "https://localhost:8080/",
     "height": 1000,
     "referenced_widgets": [
      "05a37aeeb20049dfa2f97287b3990556",
      "a75afae3adfd4810a0b0991a062535ee",
      "a24ae105ed124595992f7e2e5f909247",
      "01b4cabaf8004dd4b9269b4e6889c498",
      "f3c7c84f2b314bd8b97a7358deaf4fa1",
      "35e4a83e692b4a7bafb46fdf192b2586",
      "62847b5e2678459f845159eef6d4feab",
      "143e81f00313436dacfa246a57108944",
      "e05833f11803400b95ff22246cdc8f2b",
      "53aeede91e074378b5d7f626165655ee",
      "79a43768c1794a10a788a49e5883aa2c"
     ]
    },
    "id": "MSmP-jem9I0X",
    "outputId": "c698f0bf-e96e-4de9-aeda-0b046fc0a03f",
    "scrolled": true,
    "tags": []
   },
   "outputs": [],
   "source": [
    "# best_list = []\n",
    "# best_layout_list = []\n",
    "# for idx, (G, data) in enumerate(zip(tqdm(G_list), data_list)):\n",
    "#     xing, stress, layout = {}, {}, {}\n",
    "#     for m in methods:\n",
    "#         batch = Batch.from_data_list([data])\n",
    "#         pos = load_pos(m)\n",
    "#         p = CanonicalizationByStress()(torch.tensor(pos[idx]).float(), batch)\n",
    "#         x = Xing()(p, batch).item()\n",
    "#         s = Stress()(p, batch).item()\n",
    "#         xing[m] = x\n",
    "#         stress[m] = s\n",
    "#         layout[m] = p.numpy()\n",
    "#         # plt.figure()\n",
    "#         # graph_vis(G, pos[idx])\n",
    "#         # plt.title(f'{m} stress={s:.2f} xing={x}')\n",
    "#     best, *_ = sorted(methods, key=lambda m: (xing[m], stress[m]))\n",
    "#     best_list.append(best)\n",
    "#     best_layout_list.append(layout[best])\n",
    "#     print(f'{best}, xing={xing[best]}, stress={stress[best]:.2f}')"
   ]
  },
  {
   "cell_type": "code",
   "execution_count": 12,
   "metadata": {
    "colab": {
     "base_uri": "https://localhost:8080/"
    },
    "id": "Mx2bZNugdTqa",
    "outputId": "cec05a67-18e8-492f-aaa1-057274a8341a"
   },
   "outputs": [],
   "source": [
    "# pickle.dump(best_list, open('layouts/rome/best[xing,stress].pkl', 'wb'))\n",
    "# np.save('layouts/rome/best[xing,stress].npy', best_layout_list)"
   ]
  },
  {
   "cell_type": "code",
   "execution_count": 13,
   "metadata": {
    "colab": {
     "base_uri": "https://localhost:8080/",
     "height": 49,
     "referenced_widgets": [
      "7e0ae84dd0f3458d893c81b029fe1729",
      "18bdc3bf80fb434abde68de5b72a8870",
      "2e3552ded9594635a51832387ae754a0",
      "54f4aa5080c6498080a63be2cdeefee5",
      "3937586d0879451da5e2138ca3bfd0a0",
      "a9df6e84ce8c499eb2b2cf984995d791",
      "7af6b718dd3d4e01b264377a2fa938e2",
      "a774c86e64004bd6951645f1c24abad4",
      "c86575117cd041f2837762f37d1f387b",
      "6e9907cefb1241688fbd248b8281ed9f",
      "9b8e5405d8264944acab57e81f2f5ad6"
     ]
    },
    "id": "A1-w1fspC53p",
    "outputId": "09c2d5c3-1eef-41eb-dcee-581af1294804"
   },
   "outputs": [
    {
     "data": {
      "application/vnd.jupyter.widget-view+json": {
       "model_id": "d4b8403cec9d4a0b8352af2ef37db473",
       "version_major": 2,
       "version_minor": 0
      },
      "text/plain": [
       "  0%|          | 0/11531 [00:00<?, ?it/s]"
      ]
     },
     "metadata": {},
     "output_type": "display_data"
    }
   ],
   "source": [
    "best_layout_list = np.load('layouts/rome/best[xing,stress].npy', allow_pickle=True)\n",
    "for data, layout in zip(tqdm(data_list), best_layout_list):\n",
    "    data.gt_pos = torch.tensor(layout)"
   ]
  },
  {
   "cell_type": "code",
   "execution_count": 14,
   "metadata": {
    "id": "y6EGh4U7exL_"
   },
   "outputs": [],
   "source": [
    "train_loader = LazyDeviceMappingDataLoader(data_list[:10000], batch_size=config.batchsize, shuffle=True, device=device)\n",
    "val_loader = LazyDeviceMappingDataLoader(data_list[11000:], batch_size=config.batchsize, shuffle=False, device=device)"
   ]
  },
  {
   "cell_type": "code",
   "execution_count": 15,
   "metadata": {
    "colab": {
     "base_uri": "https://localhost:8080/",
     "height": 103,
     "referenced_widgets": [
      "38a33cf69aff48f4aabd4902a7ce48b1",
      "57e277bcb44c4e2fa2a12105d75153d1",
      "20ce017c46bd4a7c9b420270ac579405",
      "13f2df4fe0ce4af88b6e3bd1637065b0",
      "2867faa145ca4860a198d4d0bf830f89",
      "02838cf669174ed9afa41a1a8e680765",
      "7e9e3c031667455f8baca163d3a213e5",
      "4000135e7dfa46529fa6244fccc5cb57",
      "e523e9faac5b4ec38643c05ac5ba99f7",
      "e8e3ee9741e4480dae5003ccc19a7891",
      "9a569045221b43acb3ba2fbf116b2c74"
     ]
    },
    "id": "YEfRRUK0NiNm",
    "outputId": "93f53d05-7667-4cda-a38e-c3a953124f79"
   },
   "outputs": [],
   "source": [
    "# for m in methods:\n",
    "#     layouts = []\n",
    "#     for G in tqdm(G_list):\n",
    "#         layout = draw_layout(G, method=m, draw=False)\n",
    "#         layouts.append(np.array(list(layout.values())))\n",
    "#     np.save(f'layouts/rome/{m}.npy', layouts)"
   ]
  },
  {
   "cell_type": "code",
   "execution_count": 16,
   "metadata": {
    "colab": {
     "base_uri": "https://localhost:8080/",
     "height": 564
    },
    "id": "upK7AHYqPmC5",
    "outputId": "29a88e61-f55f-409c-9194-12c6d5762528"
   },
   "outputs": [],
   "source": [
    "# from collections import Counter\n",
    "\n",
    "# letter_counts = Counter(best_list)\n",
    "# df = pd.DataFrame.from_dict(letter_counts, orient='index')\n",
    "# df.plot(kind='bar', figsize=[12, 8])"
   ]
  },
  {
   "cell_type": "markdown",
   "metadata": {
    "id": "f-ODE2k8BFV6"
   },
   "source": [
    "## Create folders"
   ]
  },
  {
   "cell_type": "code",
   "execution_count": 17,
   "metadata": {
    "id": "3ykUMINYBRog"
   },
   "outputs": [],
   "source": [
    "mkdirs(paths.checkpoints(), paths.tensorboard(), paths.visualization(), f\"{paths.root}/logs\", f\"{paths.root}/metrics\")"
   ]
  },
  {
   "cell_type": "markdown",
   "metadata": {
    "id": "BFq9k5nzBIh5"
   },
   "source": [
    "## Load checkpoints"
   ]
  },
  {
   "cell_type": "code",
   "execution_count": 18,
   "metadata": {
    "id": "W5NbsKkobIfA"
   },
   "outputs": [],
   "source": [
    "class EdgeFeatureDiscriminator(nn.Module):\n",
    "    def __init__(self, \n",
    "                 conv, \n",
    "                 dense,\n",
    "                 shared_depth,\n",
    "                 enet_depth,\n",
    "                 enet_width,\n",
    "                 aggr='add', \n",
    "                 root_weight=True,\n",
    "                 normalize=None):\n",
    "        super().__init__()\n",
    "        self.enet = nn.Sequential(*[\n",
    "            DenseLayer(in_dim=in_d,\n",
    "                       out_dim=out_d,\n",
    "                       skip=nonlin,\n",
    "                       bn=nonlin,\n",
    "                       act=nonlin,\n",
    "                       dp=None)\n",
    "            for in_d, out_d, nonlin \n",
    "            in zip([self._get_feature_dim()] + [enet_width] * (shared_depth-1),\n",
    "                   [enet_width] * shared_depth,\n",
    "                   [True] * (shared_depth-1) + [False])     \n",
    "        ])\n",
    "        self.blocks = nn.ModuleList([\n",
    "            GNNLayer(nfeat_dims=(in_d, out_d),\n",
    "                     efeat_dim=enet_width,\n",
    "                     edge_net=EdgeNet(nfeat_dims=(in_d, out_d), \n",
    "                                      efeat_dim=enet_width, \n",
    "                                      depth=enet_depth, \n",
    "                                      width=enet_width),\n",
    "                     aggr=aggr,\n",
    "                     dense=False,\n",
    "                     skip=nonlin,\n",
    "                     bn=nonlin,\n",
    "                     act=nonlin,\n",
    "                     root_weight=root_weight) \n",
    "            for in_d, out_d, nonlin \n",
    "            in zip(conv[:-1], conv[1:], [True] * (len(conv)-2) + [False])     \n",
    "        ])\n",
    "        self.pool = (gnn.global_mean_pool if aggr == 'mean' \n",
    "                     else gnn.global_add_pool if aggr == 'add' \n",
    "                     else None)\n",
    "        self.dense = nn.Identity() if not dense else nn.Sequential(*[\n",
    "            DenseLayer(in_dim=in_d,\n",
    "                       out_dim=out_d,\n",
    "                       skip=nonlin,\n",
    "                       bn=nonlin,\n",
    "                       act=nonlin,\n",
    "                       dp=None)\n",
    "            for in_d, out_d, nonlin \n",
    "            in zip(conv[-1:] + dense[:-1], dense, [True] * (len(dense)-1) + [False])     \n",
    "        ])\n",
    "        self.normalize = normalize or IdentityTransformation()\n",
    "    \n",
    "    def forward(self, batch):\n",
    "        x = torch.ones_like(batch.pos)\n",
    "        e = self.enet(self._get_features(self._get_edge_info(batch, layout='pos')))\n",
    "        for block in self.blocks:\n",
    "            x = block(x, e, batch)\n",
    "        x = self.pool(x, batch.batch)\n",
    "        x = self.dense(x)\n",
    "        return x\n",
    "    \n",
    "    def _get_edge_info(self, batch, layout='gt_pos'):\n",
    "        pos = self.normalize(batch[layout].float(), batch)\n",
    "        src, dst = get_edges(pos, batch)\n",
    "        v, u = l2_normalize(dst - src, return_norm=True)\n",
    "        d = batch.edge_attr[:, :1]\n",
    "        return {\n",
    "            \"src\": src,\n",
    "            \"dst\": dst,\n",
    "            \"v\": v,\n",
    "            \"u\": u,\n",
    "            \"d\": d,\n",
    "        }\n",
    "\n",
    "    def _get_features(self, edges):\n",
    "        return torch.cat([edges['src'], edges['dst'], edges['d']], dim=1)\n",
    "        \n",
    "    def _get_feature_dim(self):\n",
    "        return self._get_features({\n",
    "            \"src\": torch.zeros(1, 2),\n",
    "            \"dst\": torch.zeros(1, 2),\n",
    "            \"v\": torch.zeros(1, 2),\n",
    "            \"u\": torch.zeros(1, 1),\n",
    "            \"d\": torch.zeros(1, 1),\n",
    "        }).shape[-1]"
   ]
  },
  {
   "cell_type": "code",
   "execution_count": 19,
   "metadata": {
    "id": "96ZActxlL0fJ"
   },
   "outputs": [],
   "source": [
    "class StressDiscriminator(nn.Module):\n",
    "    def __init__(self, normalize=CanonicalizationByStress(), **kwargs):\n",
    "        super().__init__()\n",
    "        self.dummy = nn.Parameter(torch.zeros(1))\n",
    "        self.normalize = normalize\n",
    "        self.stress = Stress(reduce=None)\n",
    "\n",
    "    def forward(self, batch):\n",
    "        return -self.stress(self.normalize(batch.pos, batch), batch)"
   ]
  },
  {
   "cell_type": "code",
   "execution_count": 20,
   "metadata": {
    "id": "IJ6xCYBUuhcw"
   },
   "outputs": [],
   "source": [
    "def get_ckpt_epoch(folder, epoch):\n",
    "    if not os.path.isdir(folder):\n",
    "        os.mkdir(folder)\n",
    "    if epoch >= 0:\n",
    "        return epoch\n",
    "    ckpt_files = os.listdir(folder)\n",
    "    last_epoch = 0\n",
    "    if ckpt_files:\n",
    "        last_epoch = sorted(list(map(lambda x: int(re.search('(?<=epoch_)(\\d+)(?=\\.)', x).group(1)), ckpt_files)))[-1]\n",
    "    return last_epoch + epoch + 1\n",
    "\n",
    "def start_epoch():\n",
    "    return get_ckpt_epoch(paths.checkpoints(), config.epoch.start)"
   ]
  },
  {
   "cell_type": "code",
   "execution_count": 21,
   "metadata": {
    "colab": {
     "base_uri": "https://localhost:8080/"
    },
    "id": "JacDYXka9U01",
    "outputId": "ef4e31ab-2144-497c-8e4f-4d3740ce2d52"
   },
   "outputs": [
    {
     "name": "stdout",
     "output_type": "stream",
     "text": [
      "Loading from artifacts/checkpoints/GAN(gan=rgan,data=best(xing,stress),dis=deep,share=14,embed=2,gp=0,lr=1e-2,decay=.98)/gen_epoch_1223.pt...\n",
      "Loading from artifacts/checkpoints/GAN(gan=rgan,data=best(xing,stress),dis=deep,share=14,embed=2,gp=0,lr=1e-2,decay=.98)/gen_optim_epoch_1223.pt...\n"
     ]
    }
   ],
   "source": [
    "generator = Generator(**config.generator.params[...]).to(device)\n",
    "generator_optimizer = config.generator.optim(generator.parameters(), lr=config.generator.lr.initial * config.generator.lr.decay ** start_epoch())\n",
    "generator_scheduler = torch.optim.lr_scheduler.ExponentialLR(generator_optimizer, gamma=config.generator.lr.decay)\n",
    "if start_epoch() != 0:\n",
    "    gen_ckpt_epoch = start_epoch()\n",
    "elif config.generator.pretrained.name is not None and config.generator.pretrained.epoch != 0:\n",
    "    gen_pretrained_epoch = get_ckpt_epoch(paths.gen_pretrain(), config.generator.pretrained.epoch)\n",
    "    gen_ckpt_epoch = gen_pretrained_epoch \n",
    "else:\n",
    "    gen_ckpt_epoch = None\n",
    "if gen_ckpt_epoch is not None:\n",
    "    # Load generator\n",
    "    gen_ckpt_file = f\"{paths.checkpoints()}/gen_epoch_{gen_ckpt_epoch}.pt\"\n",
    "    print(f\"Loading from {gen_ckpt_file}...\")\n",
    "    generator.load_state_dict(torch.load(gen_ckpt_file, map_location=torch.device(device)))\n",
    "    # Load generator optimizer\n",
    "    gen_optim_ckpt_file = f\"{paths.checkpoints()}/gen_optim_epoch_{gen_ckpt_epoch}.pt\"\n",
    "    print(f\"Loading from {gen_optim_ckpt_file}...\")\n",
    "    generator_optimizer.load_state_dict(torch.load(gen_optim_ckpt_file, map_location=torch.device(device)))"
   ]
  },
  {
   "cell_type": "code",
   "execution_count": 22,
   "metadata": {
    "colab": {
     "base_uri": "https://localhost:8080/"
    },
    "id": "oWQhD7-88VXe",
    "outputId": "3ba01600-b546-4e45-a6bd-c7a65af1ae9e"
   },
   "outputs": [
    {
     "name": "stdout",
     "output_type": "stream",
     "text": [
      "Loading from artifacts/checkpoints/GAN(gan=rgan,data=best(xing,stress),dis=deep,share=14,embed=2,gp=0,lr=1e-2,decay=.98)/dis_epoch_1223.pt...\n",
      "Loading from artifacts/checkpoints/GAN(gan=rgan,data=best(xing,stress),dis=deep,share=14,embed=2,gp=0,lr=1e-2,decay=.98)/dis_optim_epoch_1223.pt...\n"
     ]
    }
   ],
   "source": [
    "discriminator = EdgeFeatureDiscriminator(**config.discriminator.params[...]).to(device)\n",
    "discriminator_optimizer = config.discriminator.optim(discriminator.parameters(), lr=config.discriminator.lr.initial * config.discriminator.lr.decay ** start_epoch())\n",
    "discriminator_scheduler = torch.optim.lr_scheduler.ExponentialLR(discriminator_optimizer, gamma=config.discriminator.lr.decay)\n",
    "if start_epoch() != 0:\n",
    "    dis_ckpt_epoch = start_epoch()\n",
    "elif config.discriminator.pretrained.name is not None and config.discriminator.pretrained.epoch != 0:\n",
    "    dis_pretrained_epoch = get_ckpt_epoch(paths.dis_pretrain(), config.discriminator.pretrained.epoch)\n",
    "    dis_ckpt_epoch = dis_pretrained_epoch # f\"{paths.dis_pretrain()}/dis_epoch_{dis_pretrained_epoch}.pt\"\n",
    "else:\n",
    "    dis_ckpt_epoch = None\n",
    "if dis_ckpt_epoch is not None:\n",
    "    # Load discriminator\n",
    "    dis_ckpt_file = f\"{paths.checkpoints()}/dis_epoch_{dis_ckpt_epoch}.pt\"\n",
    "    print(f\"Loading from {dis_ckpt_file}...\")\n",
    "    discriminator.load_state_dict(torch.load(dis_ckpt_file, map_location=torch.device(device)))\n",
    "    # Load discriminator optimizer\n",
    "    dis_optim_ckpt_file = f\"{paths.checkpoints()}/dis_optim_epoch_{dis_ckpt_epoch}.pt\"\n",
    "    print(f\"Loading from {dis_optim_ckpt_file}...\")\n",
    "    discriminator_optimizer.load_state_dict(torch.load(dis_optim_ckpt_file, map_location=torch.device(device)))"
   ]
  },
  {
   "cell_type": "markdown",
   "metadata": {
    "id": "N39dDHraedM6"
   },
   "source": [
    "# Train"
   ]
  },
  {
   "cell_type": "code",
   "execution_count": 23,
   "metadata": {
    "id": "BdIJSDSJedM-"
   },
   "outputs": [],
   "source": [
    "stress_criterion = StressDiscriminator().to(device)\n",
    "val_criterion = Stress(reduce=None)\n",
    "xing_criterion = Xing(reduce=None)\n",
    "dis_convert = DiscriminatorDataConverter(complete_graph=config.discriminator.complete, normalize=config.discriminator.params.normalize)\n",
    "tensorboard = SummaryWriter(log_dir=paths.tensorboard())\n",
    "epoch = start_epoch() + 1"
   ]
  },
  {
   "cell_type": "code",
   "execution_count": 24,
   "metadata": {
    "id": "OHRWj1h0edM-"
   },
   "outputs": [],
   "source": [
    "def gradient_penalty(interpolated, discriminator, weight=10):\n",
    "    interpolated.pos.requires_grad_()\n",
    "    prob_interpolated = discriminator(interpolated)\n",
    "    gradients = autograd.grad(outputs=prob_interpolated, \n",
    "                              inputs=interpolated.pos,\n",
    "                              grad_outputs=torch.ones_like(prob_interpolated),\n",
    "                              create_graph=True, \n",
    "                              retain_graph=True, \n",
    "                              allow_unused=True)[0]\n",
    "    gradients_norm = torch.sqrt(gnn.global_add_pool(gradients.square().sum(dim=1), batch.batch) + 1e-8)\n",
    "    return weight * ((gradients_norm - 1) ** 2).mean()"
   ]
  },
  {
   "cell_type": "code",
   "execution_count": 25,
   "metadata": {
    "id": "o5wJJN9AedM_"
   },
   "outputs": [],
   "source": [
    "def get_gp_loss(batch, fake_pos, weight):\n",
    "    if weight > 0:\n",
    "        interp = dis_convert(batch, fake_pos, random.random())\n",
    "        return gradient_penalty(interp, discriminator, weight).mean()\n",
    "    return 0"
   ]
  },
  {
   "cell_type": "code",
   "execution_count": 26,
   "metadata": {
    "id": "QwuA6sRoedM_"
   },
   "outputs": [],
   "source": [
    "def get_sgan_loss(batch, fake_pos, mode='discriminator'):\n",
    "    real = dis_convert(batch)\n",
    "    fake = dis_convert(batch, fake_pos)\n",
    "    pred = discriminator(merge_batch(real, fake)).view(2, -1).T\n",
    "    if mode == 'discriminator':\n",
    "        label = torch.zeros(pred.shape[0]).long()\n",
    "    elif mode == 'generator':\n",
    "        label = torch.ones(pred.shape[0]).long()\n",
    "    else:\n",
    "        raise Exception\n",
    "    return nn.CrossEntropyLoss()(pred, label)"
   ]
  },
  {
   "cell_type": "code",
   "execution_count": 27,
   "metadata": {
    "id": "GuAP1YchedNA"
   },
   "outputs": [],
   "source": [
    "def get_rgan_loss(batch, fake_pos, mode='discriminator'):\n",
    "    real = dis_convert(batch)\n",
    "    fake = dis_convert(batch, fake_pos)\n",
    "    pred = discriminator(merge_batch(real, fake)).view(2, -1).T\n",
    "    real_pred, fake_pred = pred[:,0], pred[:,1]\n",
    "    if mode == 'discriminator':\n",
    "        losses = - F.logsigmoid(real_pred - fake_pred)\n",
    "    elif mode == 'generator':\n",
    "        losses = - F.logsigmoid(fake_pred - real_pred)\n",
    "    else:\n",
    "        raise Exception\n",
    "    return losses.mean()"
   ]
  },
  {
   "cell_type": "code",
   "execution_count": 28,
   "metadata": {
    "id": "KFllQ7BredNA"
   },
   "outputs": [],
   "source": [
    "def get_wgan_loss(batch, fake_pos, mode='discriminator'):\n",
    "    real = dis_convert(batch)\n",
    "    fake = dis_convert(batch, fake_pos)\n",
    "    pred = discriminator(merge_batch(real, fake)).view(2, -1).T\n",
    "    real_pred, fake_pred = pred[:,0], pred[:,1]\n",
    "    if mode == 'discriminator':\n",
    "        losses = fake_pred - real_pred \n",
    "    elif mode == 'generator':\n",
    "        losses = real_pred - fake_pred\n",
    "    else:\n",
    "        raise Exception\n",
    "    return losses.mean()"
   ]
  },
  {
   "cell_type": "code",
   "execution_count": 29,
   "metadata": {
    "id": "r5Kg_tYEedNA"
   },
   "outputs": [],
   "source": [
    "def get_ragan_loss(batch, fake_pos, mode='discriminator'):\n",
    "    real = dis_convert(batch)\n",
    "    fake = dis_convert(batch, fake_pos)\n",
    "    pred = discriminator(merge_batch(real, fake)).view(2, -1).T\n",
    "    real_pred, fake_pred = pred[:,0], pred[:,1]\n",
    "    if mode == 'discriminator':\n",
    "        losses = - F.logsigmoid(real_pred - fake_pred.mean()) - F.logsigmoid(real_pred.mean() - fake_pred)\n",
    "    elif mode == 'generator':\n",
    "        losses = - F.logsigmoid(fake_pred - real_pred.mean()) - F.logsigmoid(fake_pred.mean() - real_pred)\n",
    "    else:\n",
    "        raise Exception\n",
    "    return losses.mean()"
   ]
  },
  {
   "cell_type": "code",
   "execution_count": 30,
   "metadata": {},
   "outputs": [],
   "source": [
    "def get_dgdv2_loss(batch, fake_pos, mode='discriminator'):\n",
    "    fake = dis_convert(batch, fake_pos)\n",
    "    pred = discriminator(fake)\n",
    "    if mode == 'discriminator':\n",
    "        gt = get_gt(batch, fake_pos)\n",
    "        loss = criterion(pred, gt)\n",
    "    elif mode == 'generator':\n",
    "        losses = pred.sum(dim=0)\n",
    "#         losses = torch.tensor(config.importance).to(device) * losses #/ losses.detach()\n",
    "        loss = losses.sum()\n",
    "    else:\n",
    "        raise Exception\n",
    "    return -loss"
   ]
  },
  {
   "cell_type": "code",
   "execution_count": 31,
   "metadata": {
    "id": "3IE_84f-edNB"
   },
   "outputs": [],
   "source": [
    "def get_gan_loss(batch, fake_pos, mode='discriminator'):\n",
    "    return {\"sgan\": get_sgan_loss,\n",
    "            \"wgan\": get_wgan_loss,\n",
    "            \"rgan\": get_rgan_loss,\n",
    "            \"ragan\": get_ragan_loss,\n",
    "            \"dgdv2\": get_dgdv2_loss}[config.gan_flavor](batch, fake_pos, mode)"
   ]
  },
  {
   "cell_type": "code",
   "execution_count": 32,
   "metadata": {
    "colab": {
     "background_save": true,
     "base_uri": "https://localhost:8080/",
     "height": 80
    },
    "id": "2NjekXgkedNB",
    "outputId": "da85b2ec-c0de-459c-c0dd-7ba3519419fa",
    "scrolled": true,
    "tags": []
   },
   "outputs": [
    {
     "data": {
      "application/vnd.jupyter.widget-view+json": {
       "model_id": "444e94c47d424ccd96c08bc8ffdd3887",
       "version_major": 2,
       "version_minor": 0
      },
      "text/plain": [
       "Tab(children=(VBox(children=(Wrapper(), Hud())), HBox(children=(Output(),), layout=Layout(height='500px', over…"
      ]
     },
     "metadata": {},
     "output_type": "display_data"
    },
    {
     "ename": "KeyboardInterrupt",
     "evalue": "",
     "output_type": "error",
     "traceback": [
      "\u001b[0;31m---------------------------------------------------------------------------\u001b[0m",
      "\u001b[0;31mKeyboardInterrupt\u001b[0m                         Traceback (most recent call last)",
      "\u001b[0;32m/tmp/slurmtmp.5715224/ipykernel_60397/801679965.py\u001b[0m in \u001b[0;36m<module>\u001b[0;34m\u001b[0m\n\u001b[1;32m    133\u001b[0m     \u001b[0;32mif\u001b[0m \u001b[0mconfig\u001b[0m\u001b[0;34m.\u001b[0m\u001b[0malternate\u001b[0m \u001b[0;34m==\u001b[0m \u001b[0;34m'epoch'\u001b[0m\u001b[0;34m:\u001b[0m\u001b[0;34m\u001b[0m\u001b[0;34m\u001b[0m\u001b[0m\n\u001b[1;32m    134\u001b[0m         \u001b[0;32mfor\u001b[0m \u001b[0mbatch\u001b[0m \u001b[0;32min\u001b[0m \u001b[0mtrain_loader\u001b[0m\u001b[0;34m:\u001b[0m\u001b[0;34m\u001b[0m\u001b[0;34m\u001b[0m\u001b[0m\n\u001b[0;32m--> 135\u001b[0;31m             \u001b[0mtrain_gen\u001b[0m\u001b[0;34m(\u001b[0m\u001b[0mbatch\u001b[0m\u001b[0;34m,\u001b[0m \u001b[0mepoch\u001b[0m\u001b[0;34m)\u001b[0m\u001b[0;34m\u001b[0m\u001b[0;34m\u001b[0m\u001b[0m\n\u001b[0m\u001b[1;32m    136\u001b[0m \u001b[0;34m\u001b[0m\u001b[0m\n\u001b[1;32m    137\u001b[0m     \u001b[0mdiscriminator_scheduler\u001b[0m\u001b[0;34m.\u001b[0m\u001b[0mstep\u001b[0m\u001b[0;34m(\u001b[0m\u001b[0;34m)\u001b[0m\u001b[0;34m\u001b[0m\u001b[0;34m\u001b[0m\u001b[0m\n",
      "\u001b[0;32m/tmp/slurmtmp.5715224/ipykernel_60397/801679965.py\u001b[0m in \u001b[0;36mtrain_gen\u001b[0;34m(batch, epoch)\u001b[0m\n\u001b[1;32m     35\u001b[0m \u001b[0;34m\u001b[0m\u001b[0m\n\u001b[1;32m     36\u001b[0m     \u001b[0;32mwith\u001b[0m \u001b[0mtorch\u001b[0m\u001b[0;34m.\u001b[0m\u001b[0mno_grad\u001b[0m\u001b[0;34m(\u001b[0m\u001b[0;34m)\u001b[0m\u001b[0;34m:\u001b[0m\u001b[0;34m\u001b[0m\u001b[0;34m\u001b[0m\u001b[0m\n\u001b[0;32m---> 37\u001b[0;31m         \u001b[0mdis_batch\u001b[0m \u001b[0;34m=\u001b[0m \u001b[0mdis_convert\u001b[0m\u001b[0;34m(\u001b[0m\u001b[0mbatch\u001b[0m\u001b[0;34m,\u001b[0m \u001b[0mgenerator_output\u001b[0m\u001b[0;34m)\u001b[0m\u001b[0;34m\u001b[0m\u001b[0;34m\u001b[0m\u001b[0m\n\u001b[0m\u001b[1;32m     38\u001b[0m         \u001b[0mstress\u001b[0m \u001b[0;34m=\u001b[0m \u001b[0mstress_criterion\u001b[0m\u001b[0;34m(\u001b[0m\u001b[0mdis_batch\u001b[0m\u001b[0;34m)\u001b[0m\u001b[0;34m.\u001b[0m\u001b[0mmean\u001b[0m\u001b[0;34m(\u001b[0m\u001b[0;34m)\u001b[0m\u001b[0;34m\u001b[0m\u001b[0;34m\u001b[0m\u001b[0m\n\u001b[1;32m     39\u001b[0m         \u001b[0mcritic\u001b[0m \u001b[0;34m=\u001b[0m \u001b[0mdiscriminator\u001b[0m\u001b[0;34m(\u001b[0m\u001b[0mdis_batch\u001b[0m\u001b[0;34m)\u001b[0m\u001b[0;34m.\u001b[0m\u001b[0mmean\u001b[0m\u001b[0;34m(\u001b[0m\u001b[0;34m)\u001b[0m\u001b[0;34m\u001b[0m\u001b[0;34m\u001b[0m\u001b[0m\n",
      "\u001b[0;32m~/.conda/envs/deepgd/lib/python3.9/site-packages/torch/nn/modules/module.py\u001b[0m in \u001b[0;36m_call_impl\u001b[0;34m(self, *input, **kwargs)\u001b[0m\n\u001b[1;32m   1049\u001b[0m         if not (self._backward_hooks or self._forward_hooks or self._forward_pre_hooks or _global_backward_hooks\n\u001b[1;32m   1050\u001b[0m                 or _global_forward_hooks or _global_forward_pre_hooks):\n\u001b[0;32m-> 1051\u001b[0;31m             \u001b[0;32mreturn\u001b[0m \u001b[0mforward_call\u001b[0m\u001b[0;34m(\u001b[0m\u001b[0;34m*\u001b[0m\u001b[0minput\u001b[0m\u001b[0;34m,\u001b[0m \u001b[0;34m**\u001b[0m\u001b[0mkwargs\u001b[0m\u001b[0;34m)\u001b[0m\u001b[0;34m\u001b[0m\u001b[0;34m\u001b[0m\u001b[0m\n\u001b[0m\u001b[1;32m   1052\u001b[0m         \u001b[0;31m# Do not call functions when jit is used\u001b[0m\u001b[0;34m\u001b[0m\u001b[0;34m\u001b[0m\u001b[0m\n\u001b[1;32m   1053\u001b[0m         \u001b[0mfull_backward_hooks\u001b[0m\u001b[0;34m,\u001b[0m \u001b[0mnon_full_backward_hooks\u001b[0m \u001b[0;34m=\u001b[0m \u001b[0;34m[\u001b[0m\u001b[0;34m]\u001b[0m\u001b[0;34m,\u001b[0m \u001b[0;34m[\u001b[0m\u001b[0;34m]\u001b[0m\u001b[0;34m\u001b[0m\u001b[0;34m\u001b[0m\u001b[0m\n",
      "\u001b[0;32m~/deepgd/deepgd/data.py\u001b[0m in \u001b[0;36mforward\u001b[0;34m(self, data, pos, interpolate)\u001b[0m\n\u001b[1;32m    533\u001b[0m         \u001b[0mdis_data\u001b[0m\u001b[0;34m.\u001b[0m\u001b[0mpos\u001b[0m \u001b[0;34m=\u001b[0m \u001b[0mself\u001b[0m\u001b[0;34m.\u001b[0m\u001b[0mnormalize\u001b[0m\u001b[0;34m(\u001b[0m\u001b[0mdis_data\u001b[0m\u001b[0;34m.\u001b[0m\u001b[0mgt_pos\u001b[0m\u001b[0;34m,\u001b[0m \u001b[0mdis_data\u001b[0m\u001b[0;34m)\u001b[0m\u001b[0;34m\u001b[0m\u001b[0;34m\u001b[0m\u001b[0m\n\u001b[1;32m    534\u001b[0m         \u001b[0;32mif\u001b[0m \u001b[0mpos\u001b[0m \u001b[0;32mis\u001b[0m \u001b[0;32mnot\u001b[0m \u001b[0;32mNone\u001b[0m\u001b[0;34m:\u001b[0m\u001b[0;34m\u001b[0m\u001b[0;34m\u001b[0m\u001b[0m\n\u001b[0;32m--> 535\u001b[0;31m             \u001b[0mpos\u001b[0m \u001b[0;34m=\u001b[0m \u001b[0mself\u001b[0m\u001b[0;34m.\u001b[0m\u001b[0mnormalize\u001b[0m\u001b[0;34m(\u001b[0m\u001b[0mpos\u001b[0m\u001b[0;34m,\u001b[0m \u001b[0mdis_data\u001b[0m\u001b[0;34m)\u001b[0m\u001b[0;34m\u001b[0m\u001b[0;34m\u001b[0m\u001b[0m\n\u001b[0m\u001b[1;32m    536\u001b[0m             \u001b[0mdis_data\u001b[0m\u001b[0;34m.\u001b[0m\u001b[0mpos\u001b[0m \u001b[0;34m=\u001b[0m \u001b[0minterpolate\u001b[0m \u001b[0;34m*\u001b[0m \u001b[0mdis_data\u001b[0m\u001b[0;34m.\u001b[0m\u001b[0mpos\u001b[0m \u001b[0;34m+\u001b[0m \u001b[0;34m(\u001b[0m\u001b[0;36m1\u001b[0m \u001b[0;34m-\u001b[0m \u001b[0minterpolate\u001b[0m\u001b[0;34m)\u001b[0m \u001b[0;34m*\u001b[0m \u001b[0mpos\u001b[0m\u001b[0;34m\u001b[0m\u001b[0;34m\u001b[0m\u001b[0m\n\u001b[1;32m    537\u001b[0m             \u001b[0mdis_data\u001b[0m\u001b[0;34m.\u001b[0m\u001b[0mpos\u001b[0m \u001b[0;34m=\u001b[0m \u001b[0mself\u001b[0m\u001b[0;34m.\u001b[0m\u001b[0mnormalize\u001b[0m\u001b[0;34m(\u001b[0m\u001b[0mdis_data\u001b[0m\u001b[0;34m.\u001b[0m\u001b[0mpos\u001b[0m\u001b[0;34m,\u001b[0m \u001b[0mdis_data\u001b[0m\u001b[0;34m)\u001b[0m\u001b[0;34m\u001b[0m\u001b[0;34m\u001b[0m\u001b[0m\n",
      "\u001b[0;32m~/.conda/envs/deepgd/lib/python3.9/site-packages/torch/nn/modules/module.py\u001b[0m in \u001b[0;36m_call_impl\u001b[0;34m(self, *input, **kwargs)\u001b[0m\n\u001b[1;32m   1049\u001b[0m         if not (self._backward_hooks or self._forward_hooks or self._forward_pre_hooks or _global_backward_hooks\n\u001b[1;32m   1050\u001b[0m                 or _global_forward_hooks or _global_forward_pre_hooks):\n\u001b[0;32m-> 1051\u001b[0;31m             \u001b[0;32mreturn\u001b[0m \u001b[0mforward_call\u001b[0m\u001b[0;34m(\u001b[0m\u001b[0;34m*\u001b[0m\u001b[0minput\u001b[0m\u001b[0;34m,\u001b[0m \u001b[0;34m**\u001b[0m\u001b[0mkwargs\u001b[0m\u001b[0;34m)\u001b[0m\u001b[0;34m\u001b[0m\u001b[0;34m\u001b[0m\u001b[0m\n\u001b[0m\u001b[1;32m   1052\u001b[0m         \u001b[0;31m# Do not call functions when jit is used\u001b[0m\u001b[0;34m\u001b[0m\u001b[0;34m\u001b[0m\u001b[0m\n\u001b[1;32m   1053\u001b[0m         \u001b[0mfull_backward_hooks\u001b[0m\u001b[0;34m,\u001b[0m \u001b[0mnon_full_backward_hooks\u001b[0m \u001b[0;34m=\u001b[0m \u001b[0;34m[\u001b[0m\u001b[0;34m]\u001b[0m\u001b[0;34m,\u001b[0m \u001b[0;34m[\u001b[0m\u001b[0;34m]\u001b[0m\u001b[0;34m\u001b[0m\u001b[0;34m\u001b[0m\u001b[0m\n",
      "\u001b[0;32m~/deepgd/deepgd/transform.py\u001b[0m in \u001b[0;36mforward\u001b[0;34m(self, pos, data)\u001b[0m\n\u001b[1;32m    150\u001b[0m     \u001b[0;32mdef\u001b[0m \u001b[0mforward\u001b[0m\u001b[0;34m(\u001b[0m\u001b[0mself\u001b[0m\u001b[0;34m,\u001b[0m \u001b[0mpos\u001b[0m\u001b[0;34m,\u001b[0m \u001b[0mdata\u001b[0m\u001b[0;34m)\u001b[0m\u001b[0;34m:\u001b[0m\u001b[0;34m\u001b[0m\u001b[0;34m\u001b[0m\u001b[0m\n\u001b[1;32m    151\u001b[0m         \u001b[0mbatch\u001b[0m \u001b[0;34m=\u001b[0m \u001b[0mmake_batch\u001b[0m\u001b[0;34m(\u001b[0m\u001b[0mdata\u001b[0m\u001b[0;34m)\u001b[0m\u001b[0;34m\u001b[0m\u001b[0;34m\u001b[0m\u001b[0m\n\u001b[0;32m--> 152\u001b[0;31m         \u001b[0mpos\u001b[0m \u001b[0;34m=\u001b[0m \u001b[0mself\u001b[0m\u001b[0;34m.\u001b[0m\u001b[0mtranslate\u001b[0m\u001b[0;34m(\u001b[0m\u001b[0mpos\u001b[0m\u001b[0;34m,\u001b[0m \u001b[0mbatch\u001b[0m\u001b[0;34m)\u001b[0m\u001b[0;34m\u001b[0m\u001b[0;34m\u001b[0m\u001b[0m\n\u001b[0m\u001b[1;32m    153\u001b[0m         \u001b[0mpos\u001b[0m \u001b[0;34m=\u001b[0m \u001b[0mself\u001b[0m\u001b[0;34m.\u001b[0m\u001b[0mrotate\u001b[0m\u001b[0;34m(\u001b[0m\u001b[0mpos\u001b[0m\u001b[0;34m,\u001b[0m \u001b[0mbatch\u001b[0m\u001b[0;34m)\u001b[0m\u001b[0;34m\u001b[0m\u001b[0;34m\u001b[0m\u001b[0m\n\u001b[1;32m    154\u001b[0m         \u001b[0mpos\u001b[0m \u001b[0;34m=\u001b[0m \u001b[0mself\u001b[0m\u001b[0;34m.\u001b[0m\u001b[0mnormalize\u001b[0m\u001b[0;34m(\u001b[0m\u001b[0mpos\u001b[0m\u001b[0;34m,\u001b[0m \u001b[0mbatch\u001b[0m\u001b[0;34m)\u001b[0m\u001b[0;34m\u001b[0m\u001b[0;34m\u001b[0m\u001b[0m\n",
      "\u001b[0;32m~/.conda/envs/deepgd/lib/python3.9/site-packages/torch/nn/modules/module.py\u001b[0m in \u001b[0;36m_call_impl\u001b[0;34m(self, *input, **kwargs)\u001b[0m\n\u001b[1;32m   1049\u001b[0m         if not (self._backward_hooks or self._forward_hooks or self._forward_pre_hooks or _global_backward_hooks\n\u001b[1;32m   1050\u001b[0m                 or _global_forward_hooks or _global_forward_pre_hooks):\n\u001b[0;32m-> 1051\u001b[0;31m             \u001b[0;32mreturn\u001b[0m \u001b[0mforward_call\u001b[0m\u001b[0;34m(\u001b[0m\u001b[0;34m*\u001b[0m\u001b[0minput\u001b[0m\u001b[0;34m,\u001b[0m \u001b[0;34m**\u001b[0m\u001b[0mkwargs\u001b[0m\u001b[0;34m)\u001b[0m\u001b[0;34m\u001b[0m\u001b[0;34m\u001b[0m\u001b[0m\n\u001b[0m\u001b[1;32m   1052\u001b[0m         \u001b[0;31m# Do not call functions when jit is used\u001b[0m\u001b[0;34m\u001b[0m\u001b[0;34m\u001b[0m\u001b[0m\n\u001b[1;32m   1053\u001b[0m         \u001b[0mfull_backward_hooks\u001b[0m\u001b[0;34m,\u001b[0m \u001b[0mnon_full_backward_hooks\u001b[0m \u001b[0;34m=\u001b[0m \u001b[0;34m[\u001b[0m\u001b[0;34m]\u001b[0m\u001b[0;34m,\u001b[0m \u001b[0;34m[\u001b[0m\u001b[0;34m]\u001b[0m\u001b[0;34m\u001b[0m\u001b[0;34m\u001b[0m\u001b[0m\n",
      "\u001b[0;32m~/deepgd/deepgd/transform.py\u001b[0m in \u001b[0;36mforward\u001b[0;34m(self, pos, data)\u001b[0m\n\u001b[1;32m     31\u001b[0m     \u001b[0;32mdef\u001b[0m \u001b[0mforward\u001b[0m\u001b[0;34m(\u001b[0m\u001b[0mself\u001b[0m\u001b[0;34m,\u001b[0m \u001b[0mpos\u001b[0m\u001b[0;34m,\u001b[0m \u001b[0mdata\u001b[0m\u001b[0;34m)\u001b[0m\u001b[0;34m:\u001b[0m\u001b[0;34m\u001b[0m\u001b[0;34m\u001b[0m\u001b[0m\n\u001b[1;32m     32\u001b[0m         \u001b[0mbatch\u001b[0m \u001b[0;34m=\u001b[0m \u001b[0mmake_batch\u001b[0m\u001b[0;34m(\u001b[0m\u001b[0mdata\u001b[0m\u001b[0;34m)\u001b[0m\u001b[0;34m\u001b[0m\u001b[0;34m\u001b[0m\u001b[0m\n\u001b[0;32m---> 33\u001b[0;31m         \u001b[0mcenter\u001b[0m \u001b[0;34m=\u001b[0m \u001b[0mtorch_scatter\u001b[0m\u001b[0;34m.\u001b[0m\u001b[0mscatter\u001b[0m\u001b[0;34m(\u001b[0m\u001b[0mpos\u001b[0m\u001b[0;34m,\u001b[0m \u001b[0mbatch\u001b[0m\u001b[0;34m.\u001b[0m\u001b[0mbatch\u001b[0m\u001b[0;34m,\u001b[0m \u001b[0mdim\u001b[0m\u001b[0;34m=\u001b[0m\u001b[0;36m0\u001b[0m\u001b[0;34m,\u001b[0m \u001b[0mreduce\u001b[0m\u001b[0;34m=\u001b[0m\u001b[0;34m'mean'\u001b[0m\u001b[0;34m)\u001b[0m\u001b[0;34m\u001b[0m\u001b[0;34m\u001b[0m\u001b[0m\n\u001b[0m\u001b[1;32m     34\u001b[0m         \u001b[0mcentered_pos\u001b[0m \u001b[0;34m=\u001b[0m \u001b[0mpos\u001b[0m \u001b[0;34m-\u001b[0m \u001b[0mcenter\u001b[0m\u001b[0;34m[\u001b[0m\u001b[0mbatch\u001b[0m\u001b[0;34m.\u001b[0m\u001b[0mbatch\u001b[0m\u001b[0;34m]\u001b[0m\u001b[0;34m\u001b[0m\u001b[0;34m\u001b[0m\u001b[0m\n\u001b[1;32m     35\u001b[0m         \u001b[0;32mif\u001b[0m \u001b[0mself\u001b[0m\u001b[0;34m.\u001b[0m\u001b[0mreturn_center\u001b[0m\u001b[0;34m:\u001b[0m\u001b[0;34m\u001b[0m\u001b[0;34m\u001b[0m\u001b[0m\n",
      "\u001b[0;32m~/.conda/envs/deepgd/lib/python3.9/site-packages/torch_scatter/scatter.py\u001b[0m in \u001b[0;36mscatter\u001b[0;34m(src, index, dim, out, dim_size, reduce)\u001b[0m\n\u001b[1;32m    155\u001b[0m         \u001b[0;32mreturn\u001b[0m \u001b[0mscatter_mul\u001b[0m\u001b[0;34m(\u001b[0m\u001b[0msrc\u001b[0m\u001b[0;34m,\u001b[0m \u001b[0mindex\u001b[0m\u001b[0;34m,\u001b[0m \u001b[0mdim\u001b[0m\u001b[0;34m,\u001b[0m \u001b[0mout\u001b[0m\u001b[0;34m,\u001b[0m \u001b[0mdim_size\u001b[0m\u001b[0;34m)\u001b[0m\u001b[0;34m\u001b[0m\u001b[0;34m\u001b[0m\u001b[0m\n\u001b[1;32m    156\u001b[0m     \u001b[0;32melif\u001b[0m \u001b[0mreduce\u001b[0m \u001b[0;34m==\u001b[0m \u001b[0;34m'mean'\u001b[0m\u001b[0;34m:\u001b[0m\u001b[0;34m\u001b[0m\u001b[0;34m\u001b[0m\u001b[0m\n\u001b[0;32m--> 157\u001b[0;31m         \u001b[0;32mreturn\u001b[0m \u001b[0mscatter_mean\u001b[0m\u001b[0;34m(\u001b[0m\u001b[0msrc\u001b[0m\u001b[0;34m,\u001b[0m \u001b[0mindex\u001b[0m\u001b[0;34m,\u001b[0m \u001b[0mdim\u001b[0m\u001b[0;34m,\u001b[0m \u001b[0mout\u001b[0m\u001b[0;34m,\u001b[0m \u001b[0mdim_size\u001b[0m\u001b[0;34m)\u001b[0m\u001b[0;34m\u001b[0m\u001b[0;34m\u001b[0m\u001b[0m\n\u001b[0m\u001b[1;32m    158\u001b[0m     \u001b[0;32melif\u001b[0m \u001b[0mreduce\u001b[0m \u001b[0;34m==\u001b[0m \u001b[0;34m'min'\u001b[0m\u001b[0;34m:\u001b[0m\u001b[0;34m\u001b[0m\u001b[0;34m\u001b[0m\u001b[0m\n\u001b[1;32m    159\u001b[0m         \u001b[0;32mreturn\u001b[0m \u001b[0mscatter_min\u001b[0m\u001b[0;34m(\u001b[0m\u001b[0msrc\u001b[0m\u001b[0;34m,\u001b[0m \u001b[0mindex\u001b[0m\u001b[0;34m,\u001b[0m \u001b[0mdim\u001b[0m\u001b[0;34m,\u001b[0m \u001b[0mout\u001b[0m\u001b[0;34m,\u001b[0m \u001b[0mdim_size\u001b[0m\u001b[0;34m)\u001b[0m\u001b[0;34m[\u001b[0m\u001b[0;36m0\u001b[0m\u001b[0;34m]\u001b[0m\u001b[0;34m\u001b[0m\u001b[0;34m\u001b[0m\u001b[0m\n",
      "\u001b[0;32m~/.conda/envs/deepgd/lib/python3.9/site-packages/torch_scatter/scatter.py\u001b[0m in \u001b[0;36mscatter_mean\u001b[0;34m(src, index, dim, out, dim_size)\u001b[0m\n\u001b[1;32m     40\u001b[0m                  dim_size: Optional[int] = None) -> torch.Tensor:\n\u001b[1;32m     41\u001b[0m \u001b[0;34m\u001b[0m\u001b[0m\n\u001b[0;32m---> 42\u001b[0;31m     \u001b[0mout\u001b[0m \u001b[0;34m=\u001b[0m \u001b[0mscatter_sum\u001b[0m\u001b[0;34m(\u001b[0m\u001b[0msrc\u001b[0m\u001b[0;34m,\u001b[0m \u001b[0mindex\u001b[0m\u001b[0;34m,\u001b[0m \u001b[0mdim\u001b[0m\u001b[0;34m,\u001b[0m \u001b[0mout\u001b[0m\u001b[0;34m,\u001b[0m \u001b[0mdim_size\u001b[0m\u001b[0;34m)\u001b[0m\u001b[0;34m\u001b[0m\u001b[0;34m\u001b[0m\u001b[0m\n\u001b[0m\u001b[1;32m     43\u001b[0m     \u001b[0mdim_size\u001b[0m \u001b[0;34m=\u001b[0m \u001b[0mout\u001b[0m\u001b[0;34m.\u001b[0m\u001b[0msize\u001b[0m\u001b[0;34m(\u001b[0m\u001b[0mdim\u001b[0m\u001b[0;34m)\u001b[0m\u001b[0;34m\u001b[0m\u001b[0;34m\u001b[0m\u001b[0m\n\u001b[1;32m     44\u001b[0m \u001b[0;34m\u001b[0m\u001b[0m\n",
      "\u001b[0;32m~/.conda/envs/deepgd/lib/python3.9/site-packages/torch_scatter/scatter.py\u001b[0m in \u001b[0;36mscatter_sum\u001b[0;34m(src, index, dim, out, dim_size)\u001b[0m\n\u001b[1;32m     17\u001b[0m             \u001b[0msize\u001b[0m\u001b[0;34m[\u001b[0m\u001b[0mdim\u001b[0m\u001b[0;34m]\u001b[0m \u001b[0;34m=\u001b[0m \u001b[0;36m0\u001b[0m\u001b[0;34m\u001b[0m\u001b[0;34m\u001b[0m\u001b[0m\n\u001b[1;32m     18\u001b[0m         \u001b[0;32melse\u001b[0m\u001b[0;34m:\u001b[0m\u001b[0;34m\u001b[0m\u001b[0;34m\u001b[0m\u001b[0m\n\u001b[0;32m---> 19\u001b[0;31m             \u001b[0msize\u001b[0m\u001b[0;34m[\u001b[0m\u001b[0mdim\u001b[0m\u001b[0;34m]\u001b[0m \u001b[0;34m=\u001b[0m \u001b[0mint\u001b[0m\u001b[0;34m(\u001b[0m\u001b[0mindex\u001b[0m\u001b[0;34m.\u001b[0m\u001b[0mmax\u001b[0m\u001b[0;34m(\u001b[0m\u001b[0;34m)\u001b[0m\u001b[0;34m)\u001b[0m \u001b[0;34m+\u001b[0m \u001b[0;36m1\u001b[0m\u001b[0;34m\u001b[0m\u001b[0;34m\u001b[0m\u001b[0m\n\u001b[0m\u001b[1;32m     20\u001b[0m         \u001b[0mout\u001b[0m \u001b[0;34m=\u001b[0m \u001b[0mtorch\u001b[0m\u001b[0;34m.\u001b[0m\u001b[0mzeros\u001b[0m\u001b[0;34m(\u001b[0m\u001b[0msize\u001b[0m\u001b[0;34m,\u001b[0m \u001b[0mdtype\u001b[0m\u001b[0;34m=\u001b[0m\u001b[0msrc\u001b[0m\u001b[0;34m.\u001b[0m\u001b[0mdtype\u001b[0m\u001b[0;34m,\u001b[0m \u001b[0mdevice\u001b[0m\u001b[0;34m=\u001b[0m\u001b[0msrc\u001b[0m\u001b[0;34m.\u001b[0m\u001b[0mdevice\u001b[0m\u001b[0;34m)\u001b[0m\u001b[0;34m\u001b[0m\u001b[0;34m\u001b[0m\u001b[0m\n\u001b[1;32m     21\u001b[0m         \u001b[0;32mreturn\u001b[0m \u001b[0mout\u001b[0m\u001b[0;34m.\u001b[0m\u001b[0mscatter_add_\u001b[0m\u001b[0;34m(\u001b[0m\u001b[0mdim\u001b[0m\u001b[0;34m,\u001b[0m \u001b[0mindex\u001b[0m\u001b[0;34m,\u001b[0m \u001b[0msrc\u001b[0m\u001b[0;34m)\u001b[0m\u001b[0;34m\u001b[0m\u001b[0;34m\u001b[0m\u001b[0m\n",
      "\u001b[0;31mKeyboardInterrupt\u001b[0m: "
     ]
    }
   ],
   "source": [
    "def train_dis(batch, epoch):\n",
    "    generator.requires_grad_(False)\n",
    "    discriminator.zero_grad()\n",
    "    generator_output = generator(batch)\n",
    "    if config.discriminator.noise.std > 0:\n",
    "        generator_output = generator_output + torch.randn_like(generator_output) * config.discriminator.noise.std * config.discriminator.noise.decay ** epoch\n",
    "    discriminator_loss = get_gan_loss(batch, generator_output, mode='discriminator')\n",
    "    \n",
    "    # train discriminator\n",
    "    discriminator_loss.backward()\n",
    "    discriminator_optimizer.step()\n",
    "\n",
    "    # gradient penalty\n",
    "    if config.gp_weight > 0:\n",
    "        discriminator.zero_grad()\n",
    "        gp_loss = get_gp_loss(batch, generator_output, config.gp_weight)\n",
    "        gp_loss.backward()\n",
    "        discriminator_optimizer.step()\n",
    "\n",
    "    hud['dis_loss'] = format(discriminator_loss.item(), '.2e')\n",
    "    pbar().update()\n",
    "\n",
    "def train_gen(batch, epoch):\n",
    "    generator.requires_grad_(True)\n",
    "    generator.zero_grad()\n",
    "    discriminator.zero_grad()\n",
    "    generator_output = generator(batch)\n",
    "    if config.discriminator.noise.std > 0:\n",
    "        generator_output = generator_output + torch.randn_like(generator_output) * config.discriminator.noise.std * config.discriminator.noise.decay ** epoch\n",
    "    generator_loss = get_gan_loss(batch, generator_output, mode='generator') \n",
    "    \n",
    "    #train generator\n",
    "    generator_loss.backward()\n",
    "    generator_optimizer.step()\n",
    "\n",
    "    with torch.no_grad():\n",
    "        dis_batch = dis_convert(batch, generator_output)\n",
    "        stress = stress_criterion(dis_batch).mean()\n",
    "        critic = discriminator(dis_batch).mean()\n",
    "    hud.append({'gen_loss': format(generator_loss.item(), '.2e'),\n",
    "                'stress': format(stress.item(), '.2e'),\n",
    "                'critic': format(critic.item(), '.2e')})\n",
    "    pbar().update()\n",
    "\n",
    "def cuda_memsafe_map(fn, *iterables, summary=False):\n",
    "    total, failed = 0, 0\n",
    "    iterator = zip(*iterables)\n",
    "    items = None\n",
    "    while True:\n",
    "        try:\n",
    "            items = next(iterator)\n",
    "            yield fn(*items)\n",
    "        except StopIteration:\n",
    "            if summary:\n",
    "                print(f'Iteration finished. {failed} out of {total} failed!')\n",
    "            break\n",
    "        except RuntimeError:\n",
    "            print('CUDA memory overflow! Skip batch...')\n",
    "            del items\n",
    "            failed += 1\n",
    "        torch.cuda.empty_cache()\n",
    "        total += 1\n",
    "    \n",
    "def validate(model, data_loader, criterion=val_criterion):\n",
    "    def val_one_batch(batch):\n",
    "        batch = preprocess_batch(model, batch)\n",
    "        pred = CanonicalizationByStress()(model(batch), batch)\n",
    "        gt = CanonicalizationByStress()(batch.gt_pos, batch)\n",
    "        loss = criterion(pred, batch)\n",
    "        gt_loss = criterion(gt, batch)\n",
    "        spc = (loss - gt_loss) / torch.maximum(torch.maximum(loss, gt_loss), torch.ones_like(loss)*1e-5)\n",
    "        return loss.mean().item(), spc.mean().item()\n",
    "    loss_all, spc_all = zip(*cuda_memsafe_map(val_one_batch, data_loader))\n",
    "    return np.mean(loss_all), np.mean(spc_all)\n",
    "\n",
    "def log(msg):\n",
    "    msg = f\"[{epoch:03}] {msg}\"\n",
    "    print(msg, file=open(paths.log(), \"a\"))\n",
    "    with log_out: \n",
    "        print(msg)\n",
    "\n",
    "print(f\"{'='*10} {config.link} {'='*10}\", file=open(paths.log(), \"a\"))\n",
    "hud = Hud()\n",
    "pbar = Wrapper(tqdm, total=len(train_loader)*2, smoothing=0)\n",
    "plot_out = Output()\n",
    "log_out = Output()\n",
    "tabs = {\"status\": VBox([pbar, hud]), \n",
    "        \"plot\": HBox([plot_out], layout=Layout(height='500px', overflow_y='auto')),\n",
    "        \"log\": HBox([log_out], layout=Layout(height='500px', overflow_y='auto'))}\n",
    "tab_bar = Tab(children=list(tabs.values()))\n",
    "[tab_bar.set_title(i, name) for i, name in enumerate(tabs)]\n",
    "display(tab_bar)\n",
    "while True:\n",
    "    if epoch % config.log_interval == 0:\n",
    "        torch.save(generator.state_dict(), f\"{paths.checkpoints()}/gen_epoch_{epoch}.pt\")\n",
    "        torch.save(generator_optimizer.state_dict(), f\"{paths.checkpoints()}/gen_optim_epoch_{epoch}.pt\")\n",
    "        torch.save(discriminator.state_dict(), f\"{paths.checkpoints()}/dis_epoch_{epoch}.pt\")\n",
    "        torch.save(discriminator_optimizer.state_dict(), f\"{paths.checkpoints()}/dis_optim_epoch_{epoch}.pt\")\n",
    "        generator.eval()\n",
    "        with torch.no_grad():\n",
    "            val_stress, val_stress_spc = validate(model=generator, data_loader=val_loader)\n",
    "            val_xing, val_xing_spc = validate(model=generator, data_loader=val_loader, criterion=xing_criterion)\n",
    "            with plot_out:\n",
    "                fig = plt.figure()\n",
    "                graph_vis(G_list[11100], generator(make_batch(data_list[11100]).to(device)).cpu())\n",
    "                plt.show()\n",
    "        # tensorboard.add_scalars('loss', {'train': train_loss, \n",
    "        #                                  'validation': val_loss}, epoch)\n",
    "        # for i, fn in enumerate(loss_fns):\n",
    "        #     tensorboard.add_scalars(type(fn).__name__, {'train': train_loss_comp[i].item(), \n",
    "        #                                           'validation': val_loss_comp[i].item()}, epoch)\n",
    "        hud.append({\n",
    "            'val_stress': format(val_stress, '.2f'),\n",
    "            'val_stress_spc': format(val_stress_spc, '.2%'),\n",
    "            'val_xing': format(val_xing, '.2f'),\n",
    "            'val_xing_spc': format(val_xing_spc, '.2%'),\n",
    "        })\n",
    "        log(f\"stress={hud.data['val_stress']}({hud.data['val_stress_spc']}) xing={hud.data['val_xing']}({hud.data['val_xing_spc']})\")\n",
    "        \n",
    "    # handle.update(tab_bar)\n",
    "    pbar().reset()\n",
    "    pbar().set_description(desc=f\"[epoch {epoch}/{config.epoch.end}]\")\n",
    "    hud(title=f\"epoch {epoch}\")\n",
    "    generator.train()\n",
    "    discriminator.train()\n",
    "    # proper: proper layout\n",
    "    for _ in range(config.discriminator.repeat):\n",
    "        for batch in train_loader:\n",
    "            train_dis(batch, epoch)\n",
    "            if config.alternate == 'iteration':\n",
    "                train_gen(batch, epoch)\n",
    "\n",
    "    if config.alternate == 'epoch':\n",
    "        for batch in train_loader:\n",
    "            train_gen(batch, epoch)\n",
    "\n",
    "    discriminator_scheduler.step()\n",
    "    generator_scheduler.step()\n",
    "\n",
    "    if epoch == config.epoch.end:\n",
    "        break\n",
    "    epoch += 1"
   ]
  },
  {
   "cell_type": "markdown",
   "metadata": {
    "id": "0qYK_X_hrq9o"
   },
   "source": [
    "# Test"
   ]
  },
  {
   "cell_type": "code",
   "execution_count": 35,
   "metadata": {
    "colab": {
     "base_uri": "https://localhost:8080/"
    },
    "id": "XEvmAtNjWhcY",
    "outputId": "9f4c86a4-a4b0-48f1-cb58-ab3679173184"
   },
   "outputs": [
    {
     "name": "stdout",
     "output_type": "stream",
     "text": [
      "Loading from artifacts/checkpoints/GAN(gan=rgan,data=best(xing,stress),dis=deep,share=14,embed=2,gp=0,lr=1e-2,decay=.98)/gen_epoch_1224.pt...\n"
     ]
    },
    {
     "data": {
      "text/plain": [
       "<All keys matched successfully>"
      ]
     },
     "execution_count": 35,
     "metadata": {},
     "output_type": "execute_result"
    }
   ],
   "source": [
    "test_epoch = -1\n",
    "\n",
    "test_generator = Generator(**config.generator.params[...]).to(device)\n",
    "test_ckpt_epoch = get_ckpt_epoch(paths.checkpoints(), test_epoch)\n",
    "test_ckpt_file = f\"{paths.checkpoints()}/gen_epoch_{test_ckpt_epoch}.pt\"\n",
    "print(f\"Loading from {test_ckpt_file}...\")\n",
    "test_generator.load_state_dict(torch.load(test_ckpt_file, map_location=torch.device(device)))"
   ]
  },
  {
   "cell_type": "code",
   "execution_count": 36,
   "metadata": {
    "colab": {
     "background_save": true,
     "base_uri": "https://localhost:8080/",
     "height": 1000,
     "referenced_widgets": [
      "9b7d18992dbf4a84931f916fbaaa37d8",
      "2c664d7e1e6d474fb87094fc0da270d3",
      "d375f5f82a4645d7b29c541596dc1c7f",
      "ecfa311bb06b4f6fa504598263ff69d3",
      "d1859990877149eab2b414b4e2a0e0c7",
      "d2be6733734844bca3e1db9b49eb1c1e",
      "4d98072bdf674792a13d77e85dd285d1",
      "f7ed92c383d741a0a1cef2536ff2db13",
      "2ba110f835c64ec4b82974996aed10af",
      "09397ceac9014af0aebca848d4d96d48",
      "fd0709f48d6c4527bc00b5f407f3c1b9"
     ]
    },
    "id": "ZubmSTcYrq9o",
    "outputId": "fc2f65a2-2085-43ac-b110-cbfe742318a8",
    "scrolled": true,
    "tags": []
   },
   "outputs": [
    {
     "data": {
      "application/vnd.jupyter.widget-view+json": {
       "model_id": "d8f346e2fdd7491e88d76076eb0654a3",
       "version_major": 2,
       "version_minor": 0
      },
      "text/plain": [
       "  0%|          | 0/1000 [00:00<?, ?it/s]"
      ]
     },
     "metadata": {},
     "output_type": "display_data"
    }
   ],
   "source": [
    "rotate = RotateByPrincipalComponents()\n",
    "def test_callback(*, idx, pred, metrics):\n",
    "    # graph_vis(G_list[idx], pred, file_name=f\"{paths.visualization()}/{idx}_{metrics['stress']:.2f}_{metrics['resolution_score']:.2f}.png\")\n",
    "    pred = rotate(torch.tensor(pred), data_list[idx])\n",
    "    graph_vis(G_list[idx], pred)\n",
    "    plt.title(f\"[pred] idx: {idx}, stress: {metrics['stress']:.2f}({metrics['stress_spc']:.2%}), xing: {metrics['xing']:.2f}({metrics['xing_spc']:.2%})\")\n",
    "    plt.show()\n",
    "    gt_pos = rotate(data_list[idx].gt_pos, data_list[idx])\n",
    "    graph_vis(G_list[idx], gt_pos, node_color='orange')\n",
    "    plt.title(f\"[gt] idx: {idx}, stress: {metrics['gt_stress']:.2f}, xing: {metrics['gt_xing']:.2f}\")\n",
    "    plt.show()\n",
    "    \n",
    "test_metrics = test(model=test_generator, \n",
    "                    criteria_list=[], \n",
    "                    dataset=data_list, \n",
    "                    idx_range=range(10000, 11000), \n",
    "#                     callback=test_callback,\n",
    "                    gt_pos=None)\n",
    "pickle.dump(test_metrics, open(paths.metrics(\"test\"), \"wb\"))"
   ]
  },
  {
   "cell_type": "code",
   "execution_count": 37,
   "metadata": {
    "colab": {
     "base_uri": "https://localhost:8080/",
     "height": 318
    },
    "id": "t2rFXIr_PsrJ",
    "outputId": "6a4205b1-4630-4de4-ec72-bdba3d3ea114"
   },
   "outputs": [
    {
     "name": "stdout",
     "output_type": "stream",
     "text": [
      "stress: tensor(338.6042)\n",
      "stress_spc: tensor(0.0734, dtype=torch.float64)\n",
      "xing: tensor(29.6260)\n",
      "xing_spc: tensor(0.2275, dtype=torch.float64)\n",
      "l1_angle: tensor(82.4448)\n",
      "l1_angle_spc: tensor(0.0697, dtype=torch.float64)\n",
      "edge: tensor(0.1670)\n",
      "edge_spc: tensor(0.1745, dtype=torch.float64)\n",
      "ring: tensor(261.9537)\n",
      "ring_spc: tensor(0.0207, dtype=torch.float64)\n",
      "tsne: tensor(0.2111)\n",
      "tsne_spc: tensor(0.1121, dtype=torch.float64)\n",
      "reso_score: tensor(0.5934)\n",
      "min_angle: tensor(4.8682)\n"
     ]
    },
    {
     "data": {
      "text/html": [
       "<style type=\"text/css\">\n",
       "</style>\n",
       "<table id=\"T_0e090_\">\n",
       "  <thead>\n",
       "    <tr>\n",
       "      <th class=\"blank level0\" >&nbsp;</th>\n",
       "      <th class=\"col_heading level0 col0\" >stress</th>\n",
       "      <th class=\"col_heading level0 col1\" >stress_spc</th>\n",
       "      <th class=\"col_heading level0 col2\" >xing</th>\n",
       "      <th class=\"col_heading level0 col3\" >xing_spc</th>\n",
       "      <th class=\"col_heading level0 col4\" >l1_angle</th>\n",
       "      <th class=\"col_heading level0 col5\" >l1_angle_spc</th>\n",
       "      <th class=\"col_heading level0 col6\" >edge</th>\n",
       "      <th class=\"col_heading level0 col7\" >edge_spc</th>\n",
       "      <th class=\"col_heading level0 col8\" >ring</th>\n",
       "      <th class=\"col_heading level0 col9\" >ring_spc</th>\n",
       "      <th class=\"col_heading level0 col10\" >tsne</th>\n",
       "      <th class=\"col_heading level0 col11\" >tsne_spc</th>\n",
       "      <th class=\"col_heading level0 col12\" >reso_score</th>\n",
       "      <th class=\"col_heading level0 col13\" >min_angle</th>\n",
       "    </tr>\n",
       "  </thead>\n",
       "  <tbody>\n",
       "    <tr>\n",
       "      <th id=\"T_0e090_level0_row0\" class=\"row_heading level0 row0\" >0</th>\n",
       "      <td id=\"T_0e090_row0_col0\" class=\"data row0 col0\" >338.60</td>\n",
       "      <td id=\"T_0e090_row0_col1\" class=\"data row0 col1\" >7.34%</td>\n",
       "      <td id=\"T_0e090_row0_col2\" class=\"data row0 col2\" >29.63</td>\n",
       "      <td id=\"T_0e090_row0_col3\" class=\"data row0 col3\" >22.75%</td>\n",
       "      <td id=\"T_0e090_row0_col4\" class=\"data row0 col4\" >82.44</td>\n",
       "      <td id=\"T_0e090_row0_col5\" class=\"data row0 col5\" >6.97%</td>\n",
       "      <td id=\"T_0e090_row0_col6\" class=\"data row0 col6\" >0.17</td>\n",
       "      <td id=\"T_0e090_row0_col7\" class=\"data row0 col7\" >17.45%</td>\n",
       "      <td id=\"T_0e090_row0_col8\" class=\"data row0 col8\" >261.95</td>\n",
       "      <td id=\"T_0e090_row0_col9\" class=\"data row0 col9\" >2.07%</td>\n",
       "      <td id=\"T_0e090_row0_col10\" class=\"data row0 col10\" >0.21</td>\n",
       "      <td id=\"T_0e090_row0_col11\" class=\"data row0 col11\" >11.21%</td>\n",
       "      <td id=\"T_0e090_row0_col12\" class=\"data row0 col12\" >0.59</td>\n",
       "      <td id=\"T_0e090_row0_col13\" class=\"data row0 col13\" >4.87</td>\n",
       "    </tr>\n",
       "  </tbody>\n",
       "</table>\n"
      ],
      "text/plain": [
       "<pandas.io.formats.style.Styler at 0x2ac237161df0>"
      ]
     },
     "execution_count": 37,
     "metadata": {},
     "output_type": "execute_result"
    }
   ],
   "source": [
    "metrics = test_metrics\n",
    "print('stress:', metrics['stress'].mean())\n",
    "print('stress_spc:', metrics['stress_spc'].mean())\n",
    "print('xing:', metrics['xing'].mean())\n",
    "print('xing_spc:', metrics['xing_spc'].mean())\n",
    "print('l1_angle:', metrics['l1_angle'].mean())\n",
    "print('l1_angle_spc:', metrics['l1_angle_spc'].mean())\n",
    "print('edge:', metrics['edge'].mean())\n",
    "print('edge_spc:', metrics['edge_spc'].mean())\n",
    "print('ring:', metrics['ring'].mean())\n",
    "print('ring_spc:', metrics['ring_spc'].mean())\n",
    "print('tsne:', metrics['tsne'].mean())\n",
    "print('tsne_spc:', metrics['tsne_spc'].mean())\n",
    "print('reso_score:', metrics['resolution_score'].mean())\n",
    "print('min_angle:', metrics['min_angle'].mean())\n",
    "columns = [\n",
    "    'stress',\n",
    "    'stress_spc',\n",
    "    'xing',\n",
    "    'xing_spc',\n",
    "    'l1_angle',\n",
    "    'l1_angle_spc',\n",
    "    'edge',\n",
    "    'edge_spc',\n",
    "    'ring',\n",
    "    'ring_spc',\n",
    "    'tsne',\n",
    "    'tsne_spc',\n",
    "    'reso_score',\n",
    "    'min_angle'\n",
    "]\n",
    "df = pd.DataFrame(map(lambda m: metrics[m].mean().item(), list(metrics.keys())[:-1])).set_axis(columns).T\n",
    "df.style.format({c: \"{:.2f}\" for c in columns if 'spc' not in c} | {c: \"{:.2%}\" for c in columns if 'spc' in c})"
   ]
  },
  {
   "cell_type": "code",
   "execution_count": 38,
   "metadata": {
    "id": "5e7vPr0M3mmG"
   },
   "outputs": [],
   "source": [
    "metrics = {}"
   ]
  },
  {
   "cell_type": "code",
   "execution_count": 39,
   "metadata": {},
   "outputs": [],
   "source": [
    "methods = ['fa2']"
   ]
  },
  {
   "cell_type": "code",
   "execution_count": 40,
   "metadata": {
    "colab": {
     "base_uri": "https://localhost:8080/",
     "height": 433,
     "referenced_widgets": [
      "a0cf6e046add4e639e52db69656e0db9",
      "8e237731bb1241ac858581b25389c012",
      "0891547293ad4211a138a4d92e01bb0b",
      "34912c8e581e47a99a1c4829c38cb75c",
      "5aa034c99c94424e835a2ee954b829ed",
      "248f6393eff74c3eb8740ca6d698045b",
      "686687a29c7f4ec98c4d76ca2062b14b",
      "996a84d1c23b47e4a2af252c6b60f55d",
      "3507f883bb954412b21c1c5641763ed7",
      "9582a849d91e457cadd514c95d6e1b5b",
      "52bfe674c2c547e09b7400a32a96f703",
      "93d58b3a12394fe1aa6f0431fc7cb0db",
      "af1d7855c9d646b0bcc7d95c4cb147a6",
      "f820e2b898cd461da04a4f651d27273d",
      "c0a112cfaa3d4d0aa9530372de84d8fb",
      "fd03985495694fbf9feb3f31ef8d18ce",
      "e02a2b36aa4c4d6fb5d2ac6693c1a927",
      "06f388ff5e3a48828d465096fe69977b",
      "c0052778c9c940e88935593e9f94b83b",
      "99a5e77a192d4a989c4534237eb16730",
      "77c6da092a6647fc9e54f7e276d75616",
      "8c13c0e8b5934117a662a78296bcb1b6",
      "cdcc3bd4235247b48c468c0f6b7682cc",
      "a2c6fa6fef4549cc853fa93b4b18cf95",
      "15cc02a756314083801b5f6798a1948c",
      "24d1c67fe52f452ab0c767e3c1a818aa",
      "c117db25c6fd484a9d0c7f210ccb1ade",
      "b090b60b61084cf692b3066dfac7f0a8",
      "5eab9848059c491b9c6cbac88683f025",
      "e87ffbaa1f204b52b9226337a506b040",
      "cf52198a9e4b46c7b49537a79919c09e",
      "51501227bc064ccbab97c22a679a0750",
      "d1b794a997dc457888a90bf44faee9b4",
      "21a755b50e5047bea797eccf24b35a0c",
      "16e78c3823ec4faf9f9cd9095b218ff5",
      "4ccd332c6b734acd8eff236eaf568dfa",
      "bd60fd13748347e48629df78fa455765",
      "e9187e4ba80b4fafa0334dae2e39aded",
      "4c39ec7c92b4402e8eedcb27beabaab1",
      "59a8194269f943bba571f710ad856973",
      "8e41bc25b9f348b1b85b381547cd60d1",
      "34d0f1529e64437fb25e639b41096072",
      "7e832c7543df43668eb72c0aa6356349",
      "f94162c9c5fe4c2581e3b80beaeb820b",
      "0284946fccf34607b25e1d6d81d4f72a",
      "8e8d4243a3624ba58d760bdf601d5126",
      "b1f0932594fe44f4be4beb8880172871",
      "820bb554d139437b8f6a6997f9002261",
      "459e375d1fe4497cb4197ef88e303c6d",
      "5726814966da46bbba942a114de4b319",
      "448beea5445f4642809801da46aa7e7c",
      "3746c0f0daf04f51805b4c95db20063a",
      "2ff74d1c705348438a32da37910c3300",
      "52f03147b5ab4cb390f9802b7a17a508",
      "5428511d652a47348203e8f3cd2e076d",
      "7b58569bee2e44c5a61a81f9a32c4c01",
      "c5e05d74b9404333a8155304e3497ba2",
      "3ad4e058bde44d87abab780368d49118",
      "8e437049b5c74ff1beddad93e30b19aa",
      "0c61377f4cc34b27ae34bdd6d976d868",
      "9ce35f9a9a23436ea77604513b5c4659",
      "dafbc43ad79c4feda093aefe490fc4b3",
      "497160b6bf80469a89680a03a468c8bb",
      "3265725ecb914981b6f07f68b8a582df",
      "1f0ac20d99d04ffb9ee75613526d3de6",
      "dee0e5716560483b8e2b107566439d94",
      "ca99841a1abd4fbd94927c49aaa711cb",
      "163a44ff1be04583ae7bd62726c55204",
      "f3b727045a0b4b4fabd147ec9c843e14",
      "7c4b4fe859cf48ab99b7e2780a24a539",
      "d9700cffab66480cb81e3722faab4e8b",
      "2c49acc1e0a64aa4b8ec461b0596848e",
      "691817157f43412f9c36002167606b75",
      "d0ae688d71734b56bb348de54e841798",
      "07a364ebcdaa491dbcc2304e4a8dae96",
      "538b277307b1449eaa79a2a91b4741d3",
      "f7b7dd4cbaa5468687b988c5e416a154",
      "877be862a4f045ec8b221097626becb5",
      "1bf37012df0844338ac689d4f6cc8eab",
      "33fe06641be544d3aab2c25cb979416f",
      "68de0d9261fa4e6999967b6f196d149c",
      "7017c5ba1ffc467495aca2689e516f7d",
      "e0997460cc21428695a0c278c6691baf",
      "522443bef4904996b6361ea265c4c56f",
      "dfe044b67917466f971ba84a11956d5e",
      "70b2d0ba1c1d4102841fb963480de1c7",
      "7b158daacd754a40bc0a48fc9ea6fea2",
      "8904f61ff30741e488eacf0e49440f66",
      "685dee6f1e1f4c2983d2d0b8eb90ed00",
      "005155a4d62d48cbbaf3d69614b08d81",
      "d2779dfa620041e4b32a7731926a5982",
      "53048bf27cb24080b4cdf20379302223",
      "0b5bff7794a14a20964da70b87158c2c",
      "ec664e55ea16435590393ae1617cccea",
      "f10d62ef464a45a7935610d869c282e3",
      "5e7c09bc35db4a3a8b9847c6d8478883",
      "987ea331b617446facc81b08bab1f8c4",
      "446c5a687b0d43358ab036d43ce281c3",
      "d89e216f62ae4a9999da1a91dd5e48b9",
      "09d03e7e66f54cafacefbfeda5fd6e5c",
      "d58c680562a44bbd9252e7ec6eebc06c",
      "71ea2594fdd942acac1cc61055438544",
      "fecda4df301b437f9fbfb61a7b593dc0",
      "bcf6741d926248cb92acf627d6557d2b",
      "5bd9868b9bda4f68b500a43916e2d148",
      "4bc5e02035de44ad827c4f881fd75afc",
      "7d80033a955e4feb947ca9cea931d90b",
      "e975c796d80d498992a50f87a2b0105c",
      "028b2ff105904a19a9a3e8ebf66967bb",
      "10dbf2cbdb1943eda6a0acaf5da3fe85",
      "14d59c7acc5e4e07a289db44406a4851",
      "d9447df93d714907bc9c768eb4910352",
      "d4a9ace081bf488680a7e43e0eaed71d",
      "022a60cde19546bfa6ecfb4947615ad9",
      "10c01207d9ba4fe197dc80717fceecc0",
      "f4995936570d4ba1a65e9a66e410b505",
      "b4bf66303e61491385cd616076a11c04",
      "a24ab2bfe7a44263bf60936d6e53ec32",
      "59e2e8ecc9f84d57af7bf44f5bba5df7",
      "be2eb92aab8045a99fd19195c3546b60",
      "e6715db2b048434796e910952cb5eb62",
      "8de2335007ba4a6b9935fa0c514c9f6a",
      "493a4bbe8057437a8c8acf4d03f8dcb0",
      "20b03955acc74e238695717124705520",
      "a89f9507496b4cf8bdd63bdb9bff79c4",
      "9752a1f6c8b6488d9628b8e0c023f10f",
      "61a0bebc687341a7bb3352febc8d4986",
      "07e0ff9c82a444788c60edee70688ca7",
      "4427901f35e54cc48e08527bb402c22a",
      "bd9dafb825954091ba975d71ab8c89ea",
      "7ec0f07bfe51484da38c18dc66d77804",
      "03943afebc4d4b668b54c7a0fd014a37",
      "a7a6b38a76424d738146b6a5786cf2c8",
      "1d1aa4729784470584c0001c1a296008",
      "e0c68ac9b5b442eeb77e6d9ea3c1da42",
      "c858ef9fd9324ab0ab885d85e3c8582f",
      "627bc2899c994a0c96c5d43e89dc77ff",
      "0e2c2f21fa8041038151170992ecb848",
      "2d9bcbf7629a4671bf8755e790276eb7",
      "77a4edf6ab1848a6a6df20c1c07358c6",
      "acf2212d6bb44c729b63281a98377095",
      "0c7a72818da3454190bab7f30a29e249",
      "d865af915b8b4aaa8cec8d40f1f8351d"
     ]
    },
    "id": "s1UnzfID4Ai6",
    "outputId": "3e204e76-68fd-4111-f527-91f6e3b7a3ca"
   },
   "outputs": [
    {
     "data": {
      "application/vnd.jupyter.widget-view+json": {
       "model_id": "bca5d5687d57405596bd93ef355b1fe9",
       "version_major": 2,
       "version_minor": 0
      },
      "text/plain": [
       "  0%|          | 0/1000 [00:00<?, ?it/s]"
      ]
     },
     "metadata": {},
     "output_type": "display_data"
    }
   ],
   "source": [
    "for m in methods:\n",
    "    metrics[m] = test(model=test_generator, \n",
    "                      criteria_list=[], \n",
    "                      dataset=data_list, \n",
    "                      idx_range=range(10000, 11000), \n",
    "                      callback=None,\n",
    "                      gt_pos=load_pos(m))"
   ]
  },
  {
   "cell_type": "code",
   "execution_count": 41,
   "metadata": {
    "id": "dQ7hdCtk5u6K"
   },
   "outputs": [],
   "source": [
    "mean_metrics = {key : list(map(lambda m: metrics[key][m].mean().item(), list(metrics[key].keys())[:-1])) for key in metrics}"
   ]
  },
  {
   "cell_type": "code",
   "execution_count": 42,
   "metadata": {
    "colab": {
     "base_uri": "https://localhost:8080/",
     "height": 313
    },
    "id": "OGyaCmLXTuvA",
    "outputId": "6c42d9f3-9869-4504-bc9c-d0eedaecfd90"
   },
   "outputs": [
    {
     "data": {
      "text/html": [
       "<style type=\"text/css\">\n",
       "</style>\n",
       "<table id=\"T_78a6a_\">\n",
       "  <thead>\n",
       "    <tr>\n",
       "      <th class=\"blank level0\" >&nbsp;</th>\n",
       "      <th class=\"col_heading level0 col0\" >stress</th>\n",
       "      <th class=\"col_heading level0 col1\" >stress_spc</th>\n",
       "      <th class=\"col_heading level0 col2\" >xing</th>\n",
       "      <th class=\"col_heading level0 col3\" >xing_spc</th>\n",
       "      <th class=\"col_heading level0 col4\" >l1_angle</th>\n",
       "      <th class=\"col_heading level0 col5\" >l1_angle_spc</th>\n",
       "      <th class=\"col_heading level0 col6\" >edge</th>\n",
       "      <th class=\"col_heading level0 col7\" >edge_spc</th>\n",
       "      <th class=\"col_heading level0 col8\" >ring</th>\n",
       "      <th class=\"col_heading level0 col9\" >ring_spc</th>\n",
       "      <th class=\"col_heading level0 col10\" >tsne</th>\n",
       "      <th class=\"col_heading level0 col11\" >tsne_spc</th>\n",
       "      <th class=\"col_heading level0 col12\" >reso_score</th>\n",
       "      <th class=\"col_heading level0 col13\" >min_angle</th>\n",
       "    </tr>\n",
       "  </thead>\n",
       "  <tbody>\n",
       "    <tr>\n",
       "      <th id=\"T_78a6a_level0_row0\" class=\"row_heading level0 row0\" >fa2</th>\n",
       "      <td id=\"T_78a6a_row0_col0\" class=\"data row0 col0\" >338.61</td>\n",
       "      <td id=\"T_78a6a_row0_col1\" class=\"data row0 col1\" >-7.93%</td>\n",
       "      <td id=\"T_78a6a_row0_col2\" class=\"data row0 col2\" >29.63</td>\n",
       "      <td id=\"T_78a6a_row0_col3\" class=\"data row0 col3\" >10.42%</td>\n",
       "      <td id=\"T_78a6a_row0_col4\" class=\"data row0 col4\" >82.45</td>\n",
       "      <td id=\"T_78a6a_row0_col5\" class=\"data row0 col5\" >10.24%</td>\n",
       "      <td id=\"T_78a6a_row0_col6\" class=\"data row0 col6\" >0.17</td>\n",
       "      <td id=\"T_78a6a_row0_col7\" class=\"data row0 col7\" >-10.35%</td>\n",
       "      <td id=\"T_78a6a_row0_col8\" class=\"data row0 col8\" >261.95</td>\n",
       "      <td id=\"T_78a6a_row0_col9\" class=\"data row0 col9\" >0.25%</td>\n",
       "      <td id=\"T_78a6a_row0_col10\" class=\"data row0 col10\" >0.21</td>\n",
       "      <td id=\"T_78a6a_row0_col11\" class=\"data row0 col11\" >8.20%</td>\n",
       "      <td id=\"T_78a6a_row0_col12\" class=\"data row0 col12\" >0.59</td>\n",
       "      <td id=\"T_78a6a_row0_col13\" class=\"data row0 col13\" >4.91</td>\n",
       "    </tr>\n",
       "  </tbody>\n",
       "</table>\n"
      ],
      "text/plain": [
       "<pandas.io.formats.style.Styler at 0x2ac2370b8a60>"
      ]
     },
     "execution_count": 42,
     "metadata": {},
     "output_type": "execute_result"
    }
   ],
   "source": [
    "columns = [\n",
    "    'stress',\n",
    "    'stress_spc',\n",
    "    'xing',\n",
    "    'xing_spc',\n",
    "    'l1_angle',\n",
    "    'l1_angle_spc',\n",
    "    'edge',\n",
    "    'edge_spc',\n",
    "    'ring',\n",
    "    'ring_spc',\n",
    "    'tsne',\n",
    "    'tsne_spc',\n",
    "    'reso_score',\n",
    "    'min_angle'\n",
    "]\n",
    "df = pd.DataFrame(mean_metrics).set_axis(columns).T\n",
    "df.style.format({c: \"{:.2f}\" for c in columns if 'spc' not in c} | {c: \"{:.2%}\" for c in columns if 'spc' in c})"
   ]
  },
  {
   "cell_type": "markdown",
   "metadata": {
    "id": "L5S1HWnHOWIl"
   },
   "source": [
    "# Large Graph"
   ]
  },
  {
   "cell_type": "code",
   "execution_count": null,
   "metadata": {
    "id": "_pefPcV1OZdD"
   },
   "outputs": [],
   "source": [
    "scalability = pd.read_csv(f\"/__artifacts__/data/scalability.csv\", index_col=\"index\")\n",
    "scalability"
   ]
  },
  {
   "cell_type": "code",
   "execution_count": null,
   "metadata": {
    "id": "oMhWAsdvPnTX"
   },
   "outputs": [],
   "source": [
    "rescale = CanonicalizationByStress()\n",
    "stressfn = Stress()\n",
    "rotate = RotateByPrincipalComponents()"
   ]
  },
  {
   "cell_type": "code",
   "execution_count": null,
   "metadata": {
    "id": "LR83OcAaPID5"
   },
   "outputs": [],
   "source": [
    "stress_list = []\n",
    "spc_list = []\n",
    "pmds_list = np.load(\"layouts/new_large_graph/pmds.npy\", allow_pickle=True)\n",
    "gviz_list = np.load(\"layouts/new_large_graph/gviz.npy\", allow_pickle=True)\n",
    "with torch.no_grad():\n",
    "    for idx, col in tqdm(scalability.iterrows(), total=len(scalability)):\n",
    "        # if idx not in [406, 516]: continue\n",
    "        torch.cuda.empty_cache()\n",
    "        G = load_mtx(col['file'])\n",
    "        G.remove_edges_from(nx.selfloop_edges(G))\n",
    "        data = generate_data_list(G, \n",
    "                                sparse=data_config.sparse, \n",
    "                                pivot_mode=data_config.pivot,\n",
    "                                init_mode=data_config.init,\n",
    "                                edge_index=data_config.edge.index,\n",
    "                                edge_attr=data_config.edge.attr,\n",
    "                                pmds_list=pmds_list[idx],\n",
    "                                gviz_list=gviz_list[idx],\n",
    "                                device=device)\n",
    "        batch = Batch.from_data_list([data]).to(device)\n",
    "        # generator.train()\n",
    "        # generator(batch)\n",
    "        generator.eval()\n",
    "        pred = generator(batch)\n",
    "        pos = rotate(rescale(pred, batch), batch)\n",
    "        gt = rotate(rescale(batch.gt_pos, batch), batch)\n",
    "        stress = stressfn(pos, batch).item()\n",
    "        gt_stress = stressfn(gt, batch).item()\n",
    "        spc = (stress - gt_stress) / np.maximum(stress, gt_stress)\n",
    "        stress_list.append(stress)\n",
    "        spc_list.append(spc)\n",
    "\n",
    "        np.save(f\"/__artifacts__/gan_result/data/scalability_{idx}.npy\", pos.cpu().numpy())\n",
    "        graph_attr = dict(node_size=1, \n",
    "                        with_labels=False, \n",
    "                        labels=dict(zip(list(G.nodes), map(lambda n: n if type(n) is int else n[1:], list(G.nodes)))),\n",
    "                        font_color=\"white\", \n",
    "                        font_weight=\"bold\",\n",
    "                        font_size=12,\n",
    "                        width=0.1)\n",
    "\n",
    "        # gt_pos = pickle.load(open(f\"/__artifacts__/data/scalability_{idx}_gt.pkl\", \"rb\"))\n",
    "\n",
    "        plt.figure(figsize=[12, 9])\n",
    "        nx.draw(G, pos=gt.cpu().numpy(), node_color='orange', **graph_attr)\n",
    "        plt.title(f\"neato: large_{idx}\")\n",
    "        plt.axis(\"equal\")\n",
    "        plt.savefig(f\"/__artifacts__/gan_result/output/{idx}_{col['name']}_{col['n']}_{spc}_nx.png\", dpi=300)\n",
    "        plt.show()\n",
    "\n",
    "        plt.figure(figsize=[12, 9])\n",
    "        graph_vis(G, pos.cpu().numpy(), **graph_attr)\n",
    "        plt.title(f\"dgd: large_{idx}, spc={spc:.2%}\")\n",
    "        plt.axis(\"equal\")\n",
    "        plt.savefig(f\"/__artifacts__/gan_result/output/{idx}_{col['name']}_{col['n']}_{spc}_dgd.png\", dpi=300)\n",
    "        plt.show()"
   ]
  },
  {
   "cell_type": "code",
   "execution_count": null,
   "metadata": {
    "id": "gRXTewkYeuq1"
   },
   "outputs": [],
   "source": []
  }
 ],
 "metadata": {
  "accelerator": "GPU",
  "colab": {
   "collapsed_sections": [
    "w_p3OD0woiSM",
    "DR6-vYtr_i_P",
    "innqkwvH_ydD",
    "f-ODE2k8BFV6",
    "N39dDHraedM6"
   ],
   "machine_shape": "hm",
   "name": "GAN(gan=rgan,data=best(xing,stress),dis=deep,share=16,embed=0,gp=0).ipynb",
   "provenance": []
  },
  "kernelspec": {
   "display_name": "DeepGD",
   "language": "python",
   "name": "deepgd"
  },
  "language_info": {
   "codemirror_mode": {
    "name": "ipython",
    "version": 3
   },
   "file_extension": ".py",
   "mimetype": "text/x-python",
   "name": "python",
   "nbconvert_exporter": "python",
   "pygments_lexer": "ipython3",
   "version": "3.9.7"
  },
  "widgets": {
   "application/vnd.jupyter.widget-state+json": {
    "state": {
     "0080bf6be6ef42faa4ad05b8b0de5a0c": {
      "model_module": "@jupyter-widgets/controls",
      "model_module_version": "1.5.0",
      "model_name": "HTMLModel",
      "state": {
       "layout": "IPY_MODEL_8c0cf884b8b54c83becbec51be052c6e",
       "style": "IPY_MODEL_b16dfa9253ec4846b5f253ee08c12eff",
       "value": " 1000/1000 [00:47&lt;00:00, 21.28it/s]"
      }
     },
     "01bcc7dd2c9140fb9df6f45165baf4c6": {
      "model_module": "@jupyter-widgets/controls",
      "model_module_version": "1.5.0",
      "model_name": "DescriptionStyleModel",
      "state": {
       "description_width": ""
      }
     },
     "03371c8c0c6c4bd38374c5b7ff77b84f": {
      "model_module": "@jupyter-widgets/output",
      "model_module_version": "1.0.0",
      "model_name": "OutputModel",
      "state": {
       "layout": "IPY_MODEL_211c19807f8941c0ba347fcd9cf769ba",
       "outputs": [
        {
         "name": "stdout",
         "output_type": "stream",
         "text": "[1224] stress=376.54(7.85%) xing=33.20(21.46%)\n"
        }
       ]
      }
     },
     "0388c0fb196a4fd78c52d8a7727981cd": {
      "model_module": "@jupyter-widgets/controls",
      "model_module_version": "1.5.0",
      "model_name": "ProgressStyleModel",
      "state": {
       "description_width": ""
      }
     },
     "07760fdea5244751bf20900e6e7a4c6a": {
      "model_module": "@jupyter-widgets/base",
      "model_module_version": "1.2.0",
      "model_name": "LayoutModel",
      "state": {}
     },
     "090918c5a51447f29e21546700b0628e": {
      "model_module": "@jupyter-widgets/base",
      "model_module_version": "1.2.0",
      "model_name": "LayoutModel",
      "state": {}
     },
     "0f32a5bfcfca42e9afb62b10f1773176": {
      "model_module": "@jupyter-widgets/base",
      "model_module_version": "1.2.0",
      "model_name": "LayoutModel",
      "state": {}
     },
     "10bf303107f44641a24d9a765b562548": {
      "model_module": "@jupyter-widgets/controls",
      "model_module_version": "1.5.0",
      "model_name": "VBoxModel",
      "state": {
       "children": [
        "IPY_MODEL_4938eb5ef4fc4d75a552e5726ae5fc56",
        "IPY_MODEL_6f976c1f0ab54c08b75f36441849a682"
       ],
       "layout": "IPY_MODEL_a749de988b2c4169abdf088c58aa053f"
      }
     },
     "1291cee26ba8458594b6ae7470986d03": {
      "model_module": "@jupyter-widgets/base",
      "model_module_version": "1.2.0",
      "model_name": "LayoutModel",
      "state": {
       "height": "500px",
       "overflow_y": "auto"
      }
     },
     "18f14a25540e480e9eb3b2a610c23299": {
      "model_module": "@jupyter-widgets/controls",
      "model_module_version": "1.5.0",
      "model_name": "ProgressStyleModel",
      "state": {
       "description_width": ""
      }
     },
     "1d8b76a1eb414e6eacbe6a98396aa824": {
      "model_module": "@jupyter-widgets/controls",
      "model_module_version": "1.5.0",
      "model_name": "DescriptionStyleModel",
      "state": {
       "description_width": ""
      }
     },
     "1e02180b4964410b9c2b082d7e459967": {
      "model_module": "@jupyter-widgets/controls",
      "model_module_version": "1.5.0",
      "model_name": "DescriptionStyleModel",
      "state": {
       "description_width": ""
      }
     },
     "211c19807f8941c0ba347fcd9cf769ba": {
      "model_module": "@jupyter-widgets/base",
      "model_module_version": "1.2.0",
      "model_name": "LayoutModel",
      "state": {}
     },
     "2474963ec3fa40c5be2803d7f849953d": {
      "model_module": "@jupyter-widgets/controls",
      "model_module_version": "1.5.0",
      "model_name": "HTMLModel",
      "state": {
       "layout": "IPY_MODEL_0f32a5bfcfca42e9afb62b10f1773176",
       "style": "IPY_MODEL_3dd8e5fd71af494881200a85df6d204a",
       "value": " 17/1000 [00:02&lt;02:32,  6.45it/s]"
      }
     },
     "2b6dcfb2dbc44257a19df51cf2798eca": {
      "model_module": "@jupyter-widgets/base",
      "model_module_version": "1.2.0",
      "model_name": "LayoutModel",
      "state": {}
     },
     "31b58db3a1ad4632a34a7b6b3063d624": {
      "model_module": "@jupyter-widgets/controls",
      "model_module_version": "1.5.0",
      "model_name": "FloatProgressModel",
      "state": {
       "bar_style": "success",
       "layout": "IPY_MODEL_d82a1ac72dd24ceba294f827760491ea",
       "max": 1000,
       "style": "IPY_MODEL_d00904a981fb4782bb1df6ebfd43626d",
       "value": 1000
      }
     },
     "32a494be08a2416b93cec2a6d7e84924": {
      "model_module": "@jupyter-widgets/controls",
      "model_module_version": "1.5.0",
      "model_name": "HTMLModel",
      "state": {
       "layout": "IPY_MODEL_07760fdea5244751bf20900e6e7a4c6a",
       "style": "IPY_MODEL_5c2e9fef907342428c35bf5a714071c9",
       "value": " 1000/1000 [00:47&lt;00:00, 21.82it/s]"
      }
     },
     "3d1a84d4cbc34b2a93bb81bba971e232": {
      "model_module": "@jupyter-widgets/base",
      "model_module_version": "1.2.0",
      "model_name": "LayoutModel",
      "state": {}
     },
     "3dd8e5fd71af494881200a85df6d204a": {
      "model_module": "@jupyter-widgets/controls",
      "model_module_version": "1.5.0",
      "model_name": "DescriptionStyleModel",
      "state": {
       "description_width": ""
      }
     },
     "3e6e9ac7692b4acb8a48f8c0b005fa42": {
      "model_module": "@jupyter-widgets/base",
      "model_module_version": "1.2.0",
      "model_name": "LayoutModel",
      "state": {}
     },
     "444e94c47d424ccd96c08bc8ffdd3887": {
      "model_module": "@jupyter-widgets/controls",
      "model_module_version": "1.5.0",
      "model_name": "TabModel",
      "state": {
       "_titles": {
        "0": "status",
        "1": "plot",
        "2": "log"
       },
       "children": [
        "IPY_MODEL_10bf303107f44641a24d9a765b562548",
        "IPY_MODEL_50455714f2e44445b2376be049c99f2e",
        "IPY_MODEL_74c29dbdb79849329e74a7a5ab42cf3a"
       ],
       "layout": "IPY_MODEL_9765ec22579941f1ac76564fd49d85d5"
      }
     },
     "47cb5a9f750e4ebdb7465225445ed6b1": {
      "model_module": "@jupyter-widgets/base",
      "model_module_version": "1.2.0",
      "model_name": "LayoutModel",
      "state": {}
     },
     "48203d966a77454b97340f6abfc37a23": {
      "model_module": "@jupyter-widgets/controls",
      "model_module_version": "1.5.0",
      "model_name": "HBoxModel",
      "state": {
       "children": [
        "IPY_MODEL_ca4491329e9246538e70eaaa838aa171",
        "IPY_MODEL_8f601d6cb3974dd58c04bcc1452d2227",
        "IPY_MODEL_2474963ec3fa40c5be2803d7f849953d"
       ],
       "layout": "IPY_MODEL_3e6e9ac7692b4acb8a48f8c0b005fa42"
      }
     },
     "4938eb5ef4fc4d75a552e5726ae5fc56": {
      "model_module": "@jupyter-widgets/output",
      "model_module_version": "1.0.0",
      "model_name": "OutputModel",
      "state": {
       "layout": "IPY_MODEL_9da21aa5f3d647a2bfbdb89b96c4f735",
       "outputs": [
        {
         "data": {
          "application/vnd.jupyter.widget-view+json": {
           "model_id": "c9791cbab1d94ae7a1f92873b9899d66",
           "version_major": 2,
           "version_minor": 0
          },
          "text/plain": "  0%|          | 0/834 [00:00<?, ?it/s]"
         },
         "metadata": {},
         "output_type": "display_data"
        }
       ]
      }
     },
     "4b22189c49d945b698d03bf7692fa415": {
      "model_module": "@jupyter-widgets/base",
      "model_module_version": "1.2.0",
      "model_name": "LayoutModel",
      "state": {}
     },
     "4bf0453f4341435fb4e6e7dde1fcbf58": {
      "model_module": "@jupyter-widgets/output",
      "model_module_version": "1.0.0",
      "model_name": "OutputModel",
      "state": {
       "layout": "IPY_MODEL_b060ca0dd4ca4f3e90b987645d977008",
       "outputs": [
        {
         "data": {
          "image/png": "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\n",
          "text/plain": "<Figure size 432x288 with 1 Axes>"
         },
         "metadata": {},
         "output_type": "display_data"
        }
       ]
      }
     },
     "50455714f2e44445b2376be049c99f2e": {
      "model_module": "@jupyter-widgets/controls",
      "model_module_version": "1.5.0",
      "model_name": "HBoxModel",
      "state": {
       "children": [
        "IPY_MODEL_4bf0453f4341435fb4e6e7dde1fcbf58"
       ],
       "layout": "IPY_MODEL_1291cee26ba8458594b6ae7470986d03"
      }
     },
     "506368d9551d42f8a4a89a5d3e690149": {
      "model_module": "@jupyter-widgets/controls",
      "model_module_version": "1.5.0",
      "model_name": "HTMLModel",
      "state": {
       "layout": "IPY_MODEL_5b6735336f16474fb5113b2c916ba873",
       "style": "IPY_MODEL_9f41373fbc8541969c12fd28bd985c63",
       "value": "100%"
      }
     },
     "53b9144e8ba84241bb93f03b40d5b5fd": {
      "model_module": "@jupyter-widgets/base",
      "model_module_version": "1.2.0",
      "model_name": "LayoutModel",
      "state": {}
     },
     "58eea813947e4e59a25f12ddd1e47739": {
      "model_module": "@jupyter-widgets/controls",
      "model_module_version": "1.5.0",
      "model_name": "DescriptionStyleModel",
      "state": {
       "description_width": ""
      }
     },
     "5b6735336f16474fb5113b2c916ba873": {
      "model_module": "@jupyter-widgets/base",
      "model_module_version": "1.2.0",
      "model_name": "LayoutModel",
      "state": {}
     },
     "5c2c9408caf44ab78eb9179531a67862": {
      "model_module": "@jupyter-widgets/base",
      "model_module_version": "1.2.0",
      "model_name": "LayoutModel",
      "state": {}
     },
     "5c2e9fef907342428c35bf5a714071c9": {
      "model_module": "@jupyter-widgets/controls",
      "model_module_version": "1.5.0",
      "model_name": "DescriptionStyleModel",
      "state": {
       "description_width": ""
      }
     },
     "6293472ebb1041088d6e2698d7139c85": {
      "model_module": "@jupyter-widgets/controls",
      "model_module_version": "1.5.0",
      "model_name": "HTMLModel",
      "state": {
       "layout": "IPY_MODEL_7bf05b614f224f89b743da3dbf5db388",
       "style": "IPY_MODEL_da7c110331ac447db55f0e3bfe36760a",
       "value": " 11531/11531 [00:00&lt;00:00, 55345.57it/s]"
      }
     },
     "6836e31341374803982ef24db3ae3082": {
      "model_module": "@jupyter-widgets/base",
      "model_module_version": "1.2.0",
      "model_name": "LayoutModel",
      "state": {
       "height": "500px",
       "overflow_y": "auto"
      }
     },
     "6b300f0c76b949879fafa77ede42d9de": {
      "model_module": "@jupyter-widgets/base",
      "model_module_version": "1.2.0",
      "model_name": "LayoutModel",
      "state": {}
     },
     "6b4ccf1e7cbb4d56883fa884db69f3e8": {
      "model_module": "@jupyter-widgets/controls",
      "model_module_version": "1.5.0",
      "model_name": "DescriptionStyleModel",
      "state": {
       "description_width": ""
      }
     },
     "6f976c1f0ab54c08b75f36441849a682": {
      "model_module": "@jupyter-widgets/output",
      "model_module_version": "1.0.0",
      "model_name": "OutputModel",
      "state": {
       "layout": "IPY_MODEL_7e8a88d4127343b7b669c2ee05596202",
       "outputs": [
        {
         "data": {
          "text/html": "<div>\n<style scoped>\n    .dataframe tbody tr th:only-of-type {\n        vertical-align: middle;\n    }\n\n    .dataframe tbody tr th {\n        vertical-align: top;\n    }\n\n    .dataframe thead th {\n        text-align: right;\n    }\n</style>\n<table border=\"1\" class=\"dataframe\">\n  <thead>\n    <tr style=\"text-align: right;\">\n      <th></th>\n      <th>val_stress</th>\n      <th>val_stress_spc</th>\n      <th>val_xing</th>\n      <th>val_xing_spc</th>\n      <th>dis_loss</th>\n      <th>gen_loss</th>\n      <th>stress</th>\n      <th>critic</th>\n    </tr>\n  </thead>\n  <tbody>\n    <tr>\n      <th>epoch 1224</th>\n      <td>376.54</td>\n      <td>7.85%</td>\n      <td>33.20</td>\n      <td>21.46%</td>\n      <td>1.63e-01</td>\n      <td>3.14e+00</td>\n      <td>-3.81e+02</td>\n      <td>-7.00e+03</td>\n    </tr>\n  </tbody>\n</table>\n</div>",
          "text/plain": "           val_stress val_stress_spc val_xing val_xing_spc  dis_loss  \\\nepoch 1224     376.54          7.85%    33.20       21.46%  1.63e-01   \n\n            gen_loss     stress     critic  \nepoch 1224  3.14e+00  -3.81e+02  -7.00e+03  "
         },
         "metadata": {},
         "output_type": "display_data"
        }
       ]
      }
     },
     "74c29dbdb79849329e74a7a5ab42cf3a": {
      "model_module": "@jupyter-widgets/controls",
      "model_module_version": "1.5.0",
      "model_name": "HBoxModel",
      "state": {
       "children": [
        "IPY_MODEL_03371c8c0c6c4bd38374c5b7ff77b84f"
       ],
       "layout": "IPY_MODEL_6836e31341374803982ef24db3ae3082"
      }
     },
     "75bf0c60cee84dc59a48e4ba0be7674d": {
      "model_module": "@jupyter-widgets/base",
      "model_module_version": "1.2.0",
      "model_name": "LayoutModel",
      "state": {}
     },
     "7bf05b614f224f89b743da3dbf5db388": {
      "model_module": "@jupyter-widgets/base",
      "model_module_version": "1.2.0",
      "model_name": "LayoutModel",
      "state": {}
     },
     "7e8a88d4127343b7b669c2ee05596202": {
      "model_module": "@jupyter-widgets/base",
      "model_module_version": "1.2.0",
      "model_name": "LayoutModel",
      "state": {}
     },
     "8683e92a7f604b36b4dea248991361cd": {
      "model_module": "@jupyter-widgets/controls",
      "model_module_version": "1.5.0",
      "model_name": "FloatProgressModel",
      "state": {
       "bar_style": "success",
       "layout": "IPY_MODEL_4b22189c49d945b698d03bf7692fa415",
       "max": 11531,
       "style": "IPY_MODEL_18f14a25540e480e9eb3b2a610c23299",
       "value": 11531
      }
     },
     "8c0cf884b8b54c83becbec51be052c6e": {
      "model_module": "@jupyter-widgets/base",
      "model_module_version": "1.2.0",
      "model_name": "LayoutModel",
      "state": {}
     },
     "8cfc0cdf56e945aa9326fb9d78ef2f1b": {
      "model_module": "@jupyter-widgets/controls",
      "model_module_version": "1.5.0",
      "model_name": "HTMLModel",
      "state": {
       "layout": "IPY_MODEL_6b300f0c76b949879fafa77ede42d9de",
       "style": "IPY_MODEL_6b4ccf1e7cbb4d56883fa884db69f3e8",
       "value": "[epoch 1224/None]:  73%"
      }
     },
     "8f601d6cb3974dd58c04bcc1452d2227": {
      "model_module": "@jupyter-widgets/controls",
      "model_module_version": "1.5.0",
      "model_name": "FloatProgressModel",
      "state": {
       "bar_style": "danger",
       "layout": "IPY_MODEL_53b9144e8ba84241bb93f03b40d5b5fd",
       "max": 1000,
       "style": "IPY_MODEL_0388c0fb196a4fd78c52d8a7727981cd",
       "value": 17
      }
     },
     "90eb54aebded4f419e95f9a1f17ef9ea": {
      "model_module": "@jupyter-widgets/base",
      "model_module_version": "1.2.0",
      "model_name": "LayoutModel",
      "state": {}
     },
     "95b95c7684cf4089a2e95bca98f77d8e": {
      "model_module": "@jupyter-widgets/controls",
      "model_module_version": "1.5.0",
      "model_name": "FloatProgressModel",
      "state": {
       "layout": "IPY_MODEL_90eb54aebded4f419e95f9a1f17ef9ea",
       "max": 834,
       "style": "IPY_MODEL_b832c559099d40f78363b62419ba9c39",
       "value": 609
      }
     },
     "9765ec22579941f1ac76564fd49d85d5": {
      "model_module": "@jupyter-widgets/base",
      "model_module_version": "1.2.0",
      "model_name": "LayoutModel",
      "state": {}
     },
     "990cd574357b49adaf25b686b1c739e7": {
      "model_module": "@jupyter-widgets/base",
      "model_module_version": "1.2.0",
      "model_name": "LayoutModel",
      "state": {}
     },
     "9b42e2f4a7e04214b5eaa361b9f853cf": {
      "model_module": "@jupyter-widgets/controls",
      "model_module_version": "1.5.0",
      "model_name": "HTMLModel",
      "state": {
       "layout": "IPY_MODEL_090918c5a51447f29e21546700b0628e",
       "style": "IPY_MODEL_01bcc7dd2c9140fb9df6f45165baf4c6",
       "value": "100%"
      }
     },
     "9da21aa5f3d647a2bfbdb89b96c4f735": {
      "model_module": "@jupyter-widgets/base",
      "model_module_version": "1.2.0",
      "model_name": "LayoutModel",
      "state": {}
     },
     "9f41373fbc8541969c12fd28bd985c63": {
      "model_module": "@jupyter-widgets/controls",
      "model_module_version": "1.5.0",
      "model_name": "DescriptionStyleModel",
      "state": {
       "description_width": ""
      }
     },
     "a5b389b9929848ba8e5b516532634817": {
      "model_module": "@jupyter-widgets/controls",
      "model_module_version": "1.5.0",
      "model_name": "FloatProgressModel",
      "state": {
       "bar_style": "success",
       "layout": "IPY_MODEL_75bf0c60cee84dc59a48e4ba0be7674d",
       "max": 1000,
       "style": "IPY_MODEL_fa99118953f04d6e86239b2f996c3b22",
       "value": 1000
      }
     },
     "a749de988b2c4169abdf088c58aa053f": {
      "model_module": "@jupyter-widgets/base",
      "model_module_version": "1.2.0",
      "model_name": "LayoutModel",
      "state": {}
     },
     "b060ca0dd4ca4f3e90b987645d977008": {
      "model_module": "@jupyter-widgets/base",
      "model_module_version": "1.2.0",
      "model_name": "LayoutModel",
      "state": {}
     },
     "b16dfa9253ec4846b5f253ee08c12eff": {
      "model_module": "@jupyter-widgets/controls",
      "model_module_version": "1.5.0",
      "model_name": "DescriptionStyleModel",
      "state": {
       "description_width": ""
      }
     },
     "b832c559099d40f78363b62419ba9c39": {
      "model_module": "@jupyter-widgets/controls",
      "model_module_version": "1.5.0",
      "model_name": "ProgressStyleModel",
      "state": {
       "description_width": ""
      }
     },
     "bca5d5687d57405596bd93ef355b1fe9": {
      "model_module": "@jupyter-widgets/controls",
      "model_module_version": "1.5.0",
      "model_name": "HBoxModel",
      "state": {
       "children": [
        "IPY_MODEL_f0f18ca2a27848f894cb1f08c5032308",
        "IPY_MODEL_a5b389b9929848ba8e5b516532634817",
        "IPY_MODEL_0080bf6be6ef42faa4ad05b8b0de5a0c"
       ],
       "layout": "IPY_MODEL_990cd574357b49adaf25b686b1c739e7"
      }
     },
     "c3b7be47ef684190be160815aaeeff8d": {
      "model_module": "@jupyter-widgets/base",
      "model_module_version": "1.2.0",
      "model_name": "LayoutModel",
      "state": {}
     },
     "c7aa7b3f41d3416f9594ae355f16802c": {
      "model_module": "@jupyter-widgets/controls",
      "model_module_version": "1.5.0",
      "model_name": "HTMLModel",
      "state": {
       "layout": "IPY_MODEL_2b6dcfb2dbc44257a19df51cf2798eca",
       "style": "IPY_MODEL_58eea813947e4e59a25f12ddd1e47739",
       "value": " 609/834 [01:51&lt;00:41,  5.44it/s]"
      }
     },
     "c9791cbab1d94ae7a1f92873b9899d66": {
      "model_module": "@jupyter-widgets/controls",
      "model_module_version": "1.5.0",
      "model_name": "HBoxModel",
      "state": {
       "children": [
        "IPY_MODEL_8cfc0cdf56e945aa9326fb9d78ef2f1b",
        "IPY_MODEL_95b95c7684cf4089a2e95bca98f77d8e",
        "IPY_MODEL_c7aa7b3f41d3416f9594ae355f16802c"
       ],
       "layout": "IPY_MODEL_47cb5a9f750e4ebdb7465225445ed6b1"
      }
     },
     "ca4491329e9246538e70eaaa838aa171": {
      "model_module": "@jupyter-widgets/controls",
      "model_module_version": "1.5.0",
      "model_name": "HTMLModel",
      "state": {
       "layout": "IPY_MODEL_3d1a84d4cbc34b2a93bb81bba971e232",
       "style": "IPY_MODEL_1e02180b4964410b9c2b082d7e459967",
       "value": "  2%"
      }
     },
     "d00904a981fb4782bb1df6ebfd43626d": {
      "model_module": "@jupyter-widgets/controls",
      "model_module_version": "1.5.0",
      "model_name": "ProgressStyleModel",
      "state": {
       "description_width": ""
      }
     },
     "d4b8403cec9d4a0b8352af2ef37db473": {
      "model_module": "@jupyter-widgets/controls",
      "model_module_version": "1.5.0",
      "model_name": "HBoxModel",
      "state": {
       "children": [
        "IPY_MODEL_506368d9551d42f8a4a89a5d3e690149",
        "IPY_MODEL_8683e92a7f604b36b4dea248991361cd",
        "IPY_MODEL_6293472ebb1041088d6e2698d7139c85"
       ],
       "layout": "IPY_MODEL_5c2c9408caf44ab78eb9179531a67862"
      }
     },
     "d82a1ac72dd24ceba294f827760491ea": {
      "model_module": "@jupyter-widgets/base",
      "model_module_version": "1.2.0",
      "model_name": "LayoutModel",
      "state": {}
     },
     "d8f346e2fdd7491e88d76076eb0654a3": {
      "model_module": "@jupyter-widgets/controls",
      "model_module_version": "1.5.0",
      "model_name": "HBoxModel",
      "state": {
       "children": [
        "IPY_MODEL_9b42e2f4a7e04214b5eaa361b9f853cf",
        "IPY_MODEL_31b58db3a1ad4632a34a7b6b3063d624",
        "IPY_MODEL_32a494be08a2416b93cec2a6d7e84924"
       ],
       "layout": "IPY_MODEL_dc481274d64848de8d15d553328a782f"
      }
     },
     "da7c110331ac447db55f0e3bfe36760a": {
      "model_module": "@jupyter-widgets/controls",
      "model_module_version": "1.5.0",
      "model_name": "DescriptionStyleModel",
      "state": {
       "description_width": ""
      }
     },
     "dc481274d64848de8d15d553328a782f": {
      "model_module": "@jupyter-widgets/base",
      "model_module_version": "1.2.0",
      "model_name": "LayoutModel",
      "state": {}
     },
     "f0f18ca2a27848f894cb1f08c5032308": {
      "model_module": "@jupyter-widgets/controls",
      "model_module_version": "1.5.0",
      "model_name": "HTMLModel",
      "state": {
       "layout": "IPY_MODEL_c3b7be47ef684190be160815aaeeff8d",
       "style": "IPY_MODEL_1d8b76a1eb414e6eacbe6a98396aa824",
       "value": "100%"
      }
     },
     "fa99118953f04d6e86239b2f996c3b22": {
      "model_module": "@jupyter-widgets/controls",
      "model_module_version": "1.5.0",
      "model_name": "ProgressStyleModel",
      "state": {
       "description_width": ""
      }
     }
    },
    "version_major": 2,
    "version_minor": 0
   }
  }
 },
 "nbformat": 4,
 "nbformat_minor": 4
}
