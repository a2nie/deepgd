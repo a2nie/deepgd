{
 "cells": [
  {
   "cell_type": "markdown",
   "metadata": {
    "id": "wZtYFEhHoBGp"
   },
   "source": [
    "# Import libraries"
   ]
  },
  {
   "cell_type": "code",
   "execution_count": 1,
   "metadata": {
    "id": "KJPfzpxLQI5O"
   },
   "outputs": [],
   "source": [
    "%load_ext autoreload\n",
    "%autoreload 2\n",
    "from deepgd import *"
   ]
  },
  {
   "cell_type": "markdown",
   "metadata": {
    "id": "z4eBEyB1oaJe"
   },
   "source": [
    "# Config"
   ]
  },
  {
   "cell_type": "code",
   "execution_count": 2,
   "metadata": {
    "id": "Q_-MLFhpNvxF"
   },
   "outputs": [],
   "source": [
    "cuda_idx = 0\n",
    "canonicalization = Canonicalization(normalize=Standardization(norm_ord=1),\n",
    "                                    scale=False)\n",
    "config = StaticConfig({\n",
    "    \"name\": 'GAN(gan=rgan,data=best(xing,stress),dis=deep,share=0,embed=16,gp=0,lr=1e-2)',\n",
    "    \"uid\": None,\n",
    "    \"link\": None,\n",
    "    \"generator\": {\n",
    "        \"params\": {\n",
    "            \"num_blocks\": 9,\n",
    "            \"normalize\": canonicalization\n",
    "        },\n",
    "        \"pretrained\": {\n",
    "            \"name\": None,\n",
    "            \"epoch\": -1,\n",
    "        },\n",
    "        \"optim\": torch.optim.AdamW,\n",
    "        \"lr\" : {\n",
    "            \"initial\": 1e-2,\n",
    "            \"decay\": 0.99,\n",
    "        },\n",
    "    },\n",
    "    \"discriminator\": {\n",
    "        \"params\": {\n",
    "            \"conv\": [2, 16, 16, 16],\n",
    "            \"dense\": [2],\n",
    "            \"shared_depth\": 0,\n",
    "            \"enet_depth\": 16,\n",
    "            \"enet_width\": 64,\n",
    "            \"aggr\": \"add\",\n",
    "            \"normalize\": canonicalization\n",
    "        },\n",
    "        \"pretrained\": {\n",
    "            \"name\": None,\n",
    "            \"epoch\": -1,\n",
    "        },\n",
    "        \"optim\": torch.optim.AdamW,\n",
    "        \"lr\" : {\n",
    "            \"initial\": 1e-2,\n",
    "            \"decay\": 0.99,\n",
    "        },\n",
    "        \"noise\": {\n",
    "            \"std\": 0,\n",
    "            \"decay\": 0.95,\n",
    "        },\n",
    "        \"repeat\": 1,\n",
    "        \"complete\": True,\n",
    "        \"adaptive\": True\n",
    "    },\n",
    "    \"alternate\": \"epoch\",\n",
    "    \"batchsize\": 24,\n",
    "    \"epoch\": {\n",
    "        \"start\": -1,\n",
    "        \"end\": None,\n",
    "    },\n",
    "    \"log_interval\": 1,\n",
    "    \"test\": {\n",
    "        \"name\": \"test\",\n",
    "        \"epoch\": -1,\n",
    "    },\n",
    "    \"gan_flavor\": \"rgan\",\n",
    "    \"gp_weight\": 0,\n",
    "})\n",
    "data_config = StaticConfig({\n",
    "    \"sparse\": False,\n",
    "    \"pivot\": None,\n",
    "    \"init\": \"pmds\",\n",
    "    \"edge\": {\n",
    "        \"index\": \"full_edge_index\",\n",
    "        \"attr\": \"full_edge_attr\",\n",
    "    },\n",
    "})\n",
    "loss_fns = {\n",
    "    Stress(): 1\n",
    "}\n",
    "ctrler_params = {\n",
    "    \"tau\": 0.95,\n",
    "    \"beta\": 1,\n",
    "    \"exploit_rate\": 0.5,\n",
    "    \"warmup\": 2,\n",
    "}\n",
    "paths = StaticConfig({\n",
    "    \"root\": \"artifacts\",\n",
    "    \"checkpoints\": lambda: f\"{paths.root}/checkpoints/{config.name}\",\n",
    "    \"gen_pretrain\": lambda: f\"{paths.root}/checkpoints/{config.generator.pretrained.name}\",\n",
    "    \"dis_pretrain\": lambda: f\"{paths.root}/checkpoints/{config.discriminator.pretrained.name}\",\n",
    "    \"tensorboard\": lambda: f\"{paths.root}/tensorboards/{config.name}\",\n",
    "    \"visualization\": lambda: f\"{paths.root}/visualizations/{config.name}_{config.test.name}\",\n",
    "    \"log\": lambda: f\"{paths.root}/logs/{config.name}.log\",\n",
    "    \"metrics\": lambda suffix: f\"{paths.root}/metrics/{config.name}_{suffix}.pickle\",\n",
    "})"
   ]
  },
  {
   "cell_type": "code",
   "execution_count": 3,
   "metadata": {
    "id": "mdMEAbH10Qaq"
   },
   "outputs": [],
   "source": [
    "if \" \" in config.name:\n",
    "    raise Exception(\"Space is not allowed in model name.\")"
   ]
  },
  {
   "cell_type": "markdown",
   "metadata": {
    "id": "WynW4ZAdBhep"
   },
   "source": [
    "# Prepare"
   ]
  },
  {
   "cell_type": "markdown",
   "metadata": {
    "id": "DR6-vYtr_i_P"
   },
   "source": [
    "## Get log command"
   ]
  },
  {
   "cell_type": "code",
   "execution_count": 4,
   "metadata": {
    "colab": {
     "base_uri": "https://localhost:8080/"
    },
    "id": "9-QpinlslcTO",
    "outputId": "48ae3716-212c-4d46-9efb-b7b4070f73de"
   },
   "outputs": [
    {
     "name": "stdout",
     "output_type": "stream",
     "text": [
      "cd /users/PAS0027/osu10203/deepgd && tail -n1000 -f 'artifacts/logs/GAN(gan=rgan,data=best(xing,stress),dis=deep,share=0,embed=16,gp=0,lr=1e-2).log'\n"
     ]
    }
   ],
   "source": [
    "print(f\"cd {os.getcwd()} && tail -n1000 -f '{paths.log()}'\")"
   ]
  },
  {
   "cell_type": "code",
   "execution_count": 5,
   "metadata": {},
   "outputs": [
    {
     "name": "stdout",
     "output_type": "stream",
     "text": [
      "tensorboard dev upload --logdir 'artifacts/tensorboards/GAN(gan=rgan,data=best(xing,stress),dis=deep,share=0,embed=16,gp=0,lr=1e-2)'\n"
     ]
    }
   ],
   "source": [
    "print(f\"tensorboard dev upload --logdir '{paths.tensorboard()}'\")"
   ]
  },
  {
   "cell_type": "markdown",
   "metadata": {
    "id": "innqkwvH_ydD"
   },
   "source": [
    "## Set globals"
   ]
  },
  {
   "cell_type": "code",
   "execution_count": 6,
   "metadata": {
    "id": "Qjq7JlSZlkQR"
   },
   "outputs": [],
   "source": [
    "if cuda_idx is not None and torch.cuda.is_available():\n",
    "    device = f'cuda:{cuda_idx}'\n",
    "    pynvml.nvmlInit()\n",
    "    cuda = pynvml.nvmlDeviceGetHandleByIndex(cuda_idx)\n",
    "else:\n",
    "    device = 'cpu'\n",
    "    cuda =  None\n",
    "np.set_printoptions(precision=2)\n",
    "warnings.filterwarnings(\"ignore\", category=RuntimeWarning)"
   ]
  },
  {
   "cell_type": "markdown",
   "metadata": {
    "id": "0da286l_ApEL"
   },
   "source": [
    "## Load data"
   ]
  },
  {
   "cell_type": "code",
   "execution_count": 7,
   "metadata": {
    "colab": {
     "base_uri": "https://localhost:8080/"
    },
    "id": "RFuSHiZJMU4x",
    "outputId": "54065609-aaea-4536-d79c-73bc73b3f576"
   },
   "outputs": [
    {
     "name": "stdout",
     "output_type": "stream",
     "text": [
      "Load from 'cache/G_list.pickle'\n",
      "Load from 'cache/generate_data_list(list,sparse=False,pivot_mode=None,init_mode=pmds,edge_index=full_edge_index,edge_attr=full_edge_attr,pmds_list=ndarray,gviz_list=ndarray,noisy_layout=True,device=cpu).pickle'\n"
     ]
    },
    {
     "name": "stderr",
     "output_type": "stream",
     "text": [
      "/users/PAS0027/osu10203/.conda/envs/deepgd/lib/python3.9/site-packages/torch_geometric/deprecation.py:13: UserWarning: 'data.DataLoader' is deprecated, use 'loader.DataLoader' instead\n",
      "  warnings.warn(out)\n"
     ]
    }
   ],
   "source": [
    "G_list = load_G_list(data_path='data/rome', index_file='data_index.txt', cache='G_list', cache_prefix='cache/')\n",
    "data_list = generate_data_list(G_list, \n",
    "                               sparse=data_config.sparse, \n",
    "                               pivot_mode=data_config.pivot,\n",
    "                               init_mode=data_config.init,\n",
    "                               edge_index=data_config.edge.index,\n",
    "                               edge_attr=data_config.edge.attr,\n",
    "                               pmds_list=np.load('layouts/rome/pmds.npy', allow_pickle=True),\n",
    "                               gviz_list=np.load('layouts/rome/gviz.npy', allow_pickle=True),\n",
    "                               noisy_layout=True,\n",
    "                               device='cpu', \n",
    "                               cache=True,\n",
    "                               cache_prefix='cache/')\n",
    "train_loader = LazyDeviceMappingDataLoader(data_list[:10000], batch_size=config.batchsize, shuffle=True, device=device)\n",
    "val_loader = LazyDeviceMappingDataLoader(data_list[11000:], batch_size=config.batchsize, shuffle=False, device=device)"
   ]
  },
  {
   "cell_type": "code",
   "execution_count": 8,
   "metadata": {
    "id": "djd1pLt2OxZq"
   },
   "outputs": [],
   "source": [
    "def draw_layout(G, method, draw=True):\n",
    "    if method == 'fa2':\n",
    "        layout = get_fa2_layout(G)\n",
    "    else:\n",
    "        try:\n",
    "            fn = getattr(nx.drawing.layout, f'{method}_layout')\n",
    "            layout = fn(G)\n",
    "        except:\n",
    "            layout = nx.drawing.nx_agraph.graphviz_layout(G, prog=method)\n",
    "    if draw:\n",
    "        nx.draw(G, pos=layout)\n",
    "    return layout"
   ]
  },
  {
   "cell_type": "code",
   "execution_count": 9,
   "metadata": {
    "id": "2vBBw77lR7Em"
   },
   "outputs": [],
   "source": [
    "methods = ['neato', 'dot', 'fdp', 'sfdp', 'twopi', 'circo', 'shell', 'spring', 'circular', 'spectral', 'kamada_kawai', 'fa2', 'pmds']"
   ]
  },
  {
   "cell_type": "code",
   "execution_count": 10,
   "metadata": {
    "id": "dx6VVA9XIc2O"
   },
   "outputs": [],
   "source": [
    "from functools import lru_cache\n",
    "\n",
    "@lru_cache(maxsize=None)\n",
    "def load_pos(method):\n",
    "    return np.load(f'layouts/rome/{method}.npy', allow_pickle=True)"
   ]
  },
  {
   "cell_type": "code",
   "execution_count": 11,
   "metadata": {
    "colab": {
     "base_uri": "https://localhost:8080/",
     "height": 1000,
     "referenced_widgets": [
      "05a37aeeb20049dfa2f97287b3990556",
      "a75afae3adfd4810a0b0991a062535ee",
      "a24ae105ed124595992f7e2e5f909247",
      "01b4cabaf8004dd4b9269b4e6889c498",
      "f3c7c84f2b314bd8b97a7358deaf4fa1",
      "35e4a83e692b4a7bafb46fdf192b2586",
      "62847b5e2678459f845159eef6d4feab",
      "143e81f00313436dacfa246a57108944",
      "e05833f11803400b95ff22246cdc8f2b",
      "53aeede91e074378b5d7f626165655ee",
      "79a43768c1794a10a788a49e5883aa2c"
     ]
    },
    "id": "MSmP-jem9I0X",
    "outputId": "c698f0bf-e96e-4de9-aeda-0b046fc0a03f",
    "scrolled": true,
    "tags": []
   },
   "outputs": [],
   "source": [
    "# best_list = []\n",
    "# best_layout_list = []\n",
    "# for idx, (G, data) in enumerate(zip(tqdm(G_list), data_list)):\n",
    "#     xing, stress, layout = {}, {}, {}\n",
    "#     for m in methods:\n",
    "#         batch = Batch.from_data_list([data])\n",
    "#         pos = load_pos(m)\n",
    "#         p = CanonicalizationByStress()(torch.tensor(pos[idx]).float(), batch)\n",
    "#         x = Xing()(p, batch).item()\n",
    "#         s = Stress()(p, batch).item()\n",
    "#         xing[m] = x\n",
    "#         stress[m] = s\n",
    "#         layout[m] = p.numpy()\n",
    "#         # plt.figure()\n",
    "#         # graph_vis(G, pos[idx])\n",
    "#         # plt.title(f'{m} stress={s:.2f} xing={x}')\n",
    "#     best, *_ = sorted(methods, key=lambda m: (xing[m], stress[m]))\n",
    "#     best_list.append(best)\n",
    "#     best_layout_list.append(layout[best])\n",
    "#     print(f'{best}, xing={xing[best]}, stress={stress[best]:.2f}')"
   ]
  },
  {
   "cell_type": "code",
   "execution_count": 12,
   "metadata": {
    "colab": {
     "base_uri": "https://localhost:8080/"
    },
    "id": "Mx2bZNugdTqa",
    "outputId": "cec05a67-18e8-492f-aaa1-057274a8341a"
   },
   "outputs": [],
   "source": [
    "# pickle.dump(best_list, open('layouts/rome/best[xing,stress].pkl', 'wb'))\n",
    "# np.save('layouts/rome/best[xing,stress].npy', best_layout_list)"
   ]
  },
  {
   "cell_type": "code",
   "execution_count": 13,
   "metadata": {
    "colab": {
     "base_uri": "https://localhost:8080/",
     "height": 49,
     "referenced_widgets": [
      "7e0ae84dd0f3458d893c81b029fe1729",
      "18bdc3bf80fb434abde68de5b72a8870",
      "2e3552ded9594635a51832387ae754a0",
      "54f4aa5080c6498080a63be2cdeefee5",
      "3937586d0879451da5e2138ca3bfd0a0",
      "a9df6e84ce8c499eb2b2cf984995d791",
      "7af6b718dd3d4e01b264377a2fa938e2",
      "a774c86e64004bd6951645f1c24abad4",
      "c86575117cd041f2837762f37d1f387b",
      "6e9907cefb1241688fbd248b8281ed9f",
      "9b8e5405d8264944acab57e81f2f5ad6"
     ]
    },
    "id": "A1-w1fspC53p",
    "outputId": "09c2d5c3-1eef-41eb-dcee-581af1294804"
   },
   "outputs": [
    {
     "data": {
      "application/vnd.jupyter.widget-view+json": {
       "model_id": "15166f971c3241d2af4dc5f17b91d22a",
       "version_major": 2,
       "version_minor": 0
      },
      "text/plain": [
       "  0%|          | 0/11531 [00:00<?, ?it/s]"
      ]
     },
     "metadata": {},
     "output_type": "display_data"
    }
   ],
   "source": [
    "best_layout_list = np.load('layouts/rome/best[xing,stress].npy', allow_pickle=True)\n",
    "for data, layout in zip(tqdm(data_list), best_layout_list):\n",
    "    data.gt_pos = torch.tensor(layout)"
   ]
  },
  {
   "cell_type": "code",
   "execution_count": 14,
   "metadata": {
    "id": "y6EGh4U7exL_"
   },
   "outputs": [],
   "source": [
    "train_loader = LazyDeviceMappingDataLoader(data_list[:10000], batch_size=config.batchsize, shuffle=True, device=device)\n",
    "val_loader = LazyDeviceMappingDataLoader(data_list[11000:], batch_size=config.batchsize, shuffle=False, device=device)"
   ]
  },
  {
   "cell_type": "code",
   "execution_count": 15,
   "metadata": {
    "colab": {
     "base_uri": "https://localhost:8080/",
     "height": 103,
     "referenced_widgets": [
      "38a33cf69aff48f4aabd4902a7ce48b1",
      "57e277bcb44c4e2fa2a12105d75153d1",
      "20ce017c46bd4a7c9b420270ac579405",
      "13f2df4fe0ce4af88b6e3bd1637065b0",
      "2867faa145ca4860a198d4d0bf830f89",
      "02838cf669174ed9afa41a1a8e680765",
      "7e9e3c031667455f8baca163d3a213e5",
      "4000135e7dfa46529fa6244fccc5cb57",
      "e523e9faac5b4ec38643c05ac5ba99f7",
      "e8e3ee9741e4480dae5003ccc19a7891",
      "9a569045221b43acb3ba2fbf116b2c74"
     ]
    },
    "id": "YEfRRUK0NiNm",
    "outputId": "93f53d05-7667-4cda-a38e-c3a953124f79"
   },
   "outputs": [],
   "source": [
    "# for m in methods:\n",
    "#     layouts = []\n",
    "#     for G in tqdm(G_list):\n",
    "#         layout = draw_layout(G, method=m, draw=False)\n",
    "#         layouts.append(np.array(list(layout.values())))\n",
    "#     np.save(f'layouts/rome/{m}.npy', layouts)"
   ]
  },
  {
   "cell_type": "code",
   "execution_count": 16,
   "metadata": {
    "colab": {
     "base_uri": "https://localhost:8080/",
     "height": 564
    },
    "id": "upK7AHYqPmC5",
    "outputId": "29a88e61-f55f-409c-9194-12c6d5762528"
   },
   "outputs": [],
   "source": [
    "# from collections import Counter\n",
    "\n",
    "# letter_counts = Counter(best_list)\n",
    "# df = pd.DataFrame.from_dict(letter_counts, orient='index')\n",
    "# df.plot(kind='bar', figsize=[12, 8])"
   ]
  },
  {
   "cell_type": "markdown",
   "metadata": {
    "id": "f-ODE2k8BFV6"
   },
   "source": [
    "## Create folders"
   ]
  },
  {
   "cell_type": "code",
   "execution_count": 17,
   "metadata": {
    "id": "3ykUMINYBRog"
   },
   "outputs": [],
   "source": [
    "mkdirs(paths.checkpoints(), paths.tensorboard(), paths.visualization(), f\"{paths.root}/logs\", f\"{paths.root}/metrics\")"
   ]
  },
  {
   "cell_type": "markdown",
   "metadata": {
    "id": "BFq9k5nzBIh5"
   },
   "source": [
    "## Load checkpoints"
   ]
  },
  {
   "cell_type": "code",
   "execution_count": 18,
   "metadata": {
    "id": "W5NbsKkobIfA"
   },
   "outputs": [],
   "source": [
    "class EdgeFeatureDiscriminator(nn.Module):\n",
    "    def __init__(self, \n",
    "                 conv, \n",
    "                 dense,\n",
    "                 shared_depth,\n",
    "                 enet_depth,\n",
    "                 enet_width,\n",
    "                 aggr='add', \n",
    "                 root_weight=True,\n",
    "                 normalize=None):\n",
    "        super().__init__()\n",
    "        self.enet = nn.Sequential(*[\n",
    "            DenseLayer(in_dim=in_d,\n",
    "                       out_dim=out_d,\n",
    "                       skip=nonlin,\n",
    "                       bn=nonlin,\n",
    "                       act=nonlin,\n",
    "                       dp=None)\n",
    "            for in_d, out_d, nonlin \n",
    "            in zip([self._get_feature_dim()] + [enet_width] * (shared_depth-1),\n",
    "                   [enet_width] * shared_depth,\n",
    "                   [True] * (shared_depth-1) + [False])     \n",
    "        ]) if shared_depth > 0 else nn.Linear(self._get_feature_dim(), enet_width)\n",
    "        self.blocks = nn.ModuleList([\n",
    "            GNNLayer(nfeat_dims=(in_d, out_d),\n",
    "                     efeat_dim=enet_width,\n",
    "                     edge_net=EdgeNet(nfeat_dims=(in_d, out_d), \n",
    "                                      efeat_dim=enet_width, \n",
    "                                      depth=enet_depth, \n",
    "                                      width=enet_width),\n",
    "                     aggr=aggr,\n",
    "                     dense=False,\n",
    "                     skip=nonlin,\n",
    "                     bn=nonlin,\n",
    "                     act=nonlin,\n",
    "                     root_weight=root_weight) \n",
    "            for in_d, out_d, nonlin \n",
    "            in zip(conv[:-1], conv[1:], [True] * (len(conv)-2) + [False])     \n",
    "        ])\n",
    "        self.pool = (gnn.global_mean_pool if aggr == 'mean' \n",
    "                     else gnn.global_add_pool if aggr == 'add' \n",
    "                     else None)\n",
    "        self.dense = nn.Identity() if not dense else nn.Sequential(*[\n",
    "            DenseLayer(in_dim=in_d,\n",
    "                       out_dim=out_d,\n",
    "                       skip=nonlin,\n",
    "                       bn=nonlin,\n",
    "                       act=nonlin,\n",
    "                       dp=None)\n",
    "            for in_d, out_d, nonlin \n",
    "            in zip(conv[-1:] + dense[:-1], dense, [True] * (len(dense)-1) + [False])     \n",
    "        ])\n",
    "        self.normalize = normalize or IdentityTransformation()\n",
    "    \n",
    "    def forward(self, batch):\n",
    "        x = torch.ones_like(batch.pos)\n",
    "        e = self.enet(self._get_features(self._get_edge_info(batch, layout='pos')))\n",
    "        for block in self.blocks:\n",
    "            x = block(x, e, batch)\n",
    "        x = self.pool(x, batch.batch)\n",
    "        x = self.dense(x)\n",
    "        return x\n",
    "    \n",
    "    def _get_edge_info(self, batch, layout='gt_pos'):\n",
    "        pos = self.normalize(batch[layout].float(), batch)\n",
    "        src, dst = get_edges(pos, batch)\n",
    "        v, u = l2_normalize(dst - src, return_norm=True)\n",
    "        d = batch.edge_attr[:, :1]\n",
    "        return {\n",
    "            \"src\": src,\n",
    "            \"dst\": dst,\n",
    "            \"v\": v,\n",
    "            \"u\": u,\n",
    "            \"d\": d,\n",
    "        }\n",
    "\n",
    "    def _get_features(self, edges):\n",
    "        return torch.cat([edges['src'], edges['dst'], edges['d']], dim=1)\n",
    "        \n",
    "    def _get_feature_dim(self):\n",
    "        return self._get_features({\n",
    "            \"src\": torch.zeros(1, 2),\n",
    "            \"dst\": torch.zeros(1, 2),\n",
    "            \"v\": torch.zeros(1, 2),\n",
    "            \"u\": torch.zeros(1, 1),\n",
    "            \"d\": torch.zeros(1, 1),\n",
    "        }).shape[-1]"
   ]
  },
  {
   "cell_type": "code",
   "execution_count": 19,
   "metadata": {
    "id": "96ZActxlL0fJ"
   },
   "outputs": [],
   "source": [
    "class StressDiscriminator(nn.Module):\n",
    "    def __init__(self, normalize=CanonicalizationByStress(), **kwargs):\n",
    "        super().__init__()\n",
    "        self.dummy = nn.Parameter(torch.zeros(1))\n",
    "        self.normalize = normalize\n",
    "        self.stress = Stress(reduce=None)\n",
    "\n",
    "    def forward(self, batch):\n",
    "        return -self.stress(self.normalize(batch.pos, batch), batch)"
   ]
  },
  {
   "cell_type": "code",
   "execution_count": 20,
   "metadata": {
    "id": "IJ6xCYBUuhcw"
   },
   "outputs": [],
   "source": [
    "def get_ckpt_epoch(folder, epoch):\n",
    "    if not os.path.isdir(folder):\n",
    "        os.mkdir(folder)\n",
    "    if epoch >= 0:\n",
    "        return epoch\n",
    "    ckpt_files = os.listdir(folder)\n",
    "    last_epoch = 0\n",
    "    if ckpt_files:\n",
    "        last_epoch = sorted(list(map(lambda x: int(re.search('(?<=epoch_)(\\d+)(?=\\.)', x).group(1)), ckpt_files)))[-1]\n",
    "    return last_epoch + epoch + 1\n",
    "\n",
    "def start_epoch():\n",
    "    return get_ckpt_epoch(paths.checkpoints(), config.epoch.start)"
   ]
  },
  {
   "cell_type": "code",
   "execution_count": 22,
   "metadata": {
    "colab": {
     "base_uri": "https://localhost:8080/"
    },
    "id": "JacDYXka9U01",
    "outputId": "ef4e31ab-2144-497c-8e4f-4d3740ce2d52"
   },
   "outputs": [
    {
     "name": "stdout",
     "output_type": "stream",
     "text": [
      "Loading from artifacts/checkpoints/GAN(gan=rgan,data=best(xing,stress),dis=deep,share=0,embed=16,gp=0,lr=1e-2)/gen_epoch_862.pt...\n",
      "Loading from artifacts/checkpoints/GAN(gan=rgan,data=best(xing,stress),dis=deep,share=0,embed=16,gp=0,lr=1e-2)/gen_optim_epoch_862.pt...\n"
     ]
    }
   ],
   "source": [
    "generator = Generator(**config.generator.params[...]).to(device)\n",
    "generator_optimizer = config.generator.optim(generator.parameters(), lr=config.generator.lr.initial * config.generator.lr.decay ** start_epoch())\n",
    "generator_scheduler = torch.optim.lr_scheduler.ExponentialLR(generator_optimizer, gamma=config.generator.lr.decay)\n",
    "if start_epoch() != 0:\n",
    "    gen_ckpt_epoch = start_epoch()\n",
    "elif config.generator.pretrained.name is not None and config.generator.pretrained.epoch != 0:\n",
    "    gen_pretrained_epoch = get_ckpt_epoch(paths.gen_pretrain(), config.generator.pretrained.epoch)\n",
    "    gen_ckpt_epoch = gen_pretrained_epoch \n",
    "else:\n",
    "    gen_ckpt_epoch = None\n",
    "if gen_ckpt_epoch is not None:\n",
    "    # Load generator\n",
    "    gen_ckpt_file = f\"{paths.checkpoints()}/gen_epoch_{gen_ckpt_epoch}.pt\"\n",
    "    print(f\"Loading from {gen_ckpt_file}...\")\n",
    "    generator.load_state_dict(torch.load(gen_ckpt_file, map_location=torch.device(device)))\n",
    "    # Load generator optimizer\n",
    "    gen_optim_ckpt_file = f\"{paths.checkpoints()}/gen_optim_epoch_{gen_ckpt_epoch}.pt\"\n",
    "    print(f\"Loading from {gen_optim_ckpt_file}...\")\n",
    "    generator_optimizer.load_state_dict(torch.load(gen_optim_ckpt_file, map_location=torch.device(device)))"
   ]
  },
  {
   "cell_type": "code",
   "execution_count": 23,
   "metadata": {
    "colab": {
     "base_uri": "https://localhost:8080/"
    },
    "id": "oWQhD7-88VXe",
    "outputId": "3ba01600-b546-4e45-a6bd-c7a65af1ae9e"
   },
   "outputs": [
    {
     "name": "stdout",
     "output_type": "stream",
     "text": [
      "Loading from artifacts/checkpoints/GAN(gan=rgan,data=best(xing,stress),dis=deep,share=0,embed=16,gp=0,lr=1e-2)/dis_epoch_862.pt...\n",
      "Loading from artifacts/checkpoints/GAN(gan=rgan,data=best(xing,stress),dis=deep,share=0,embed=16,gp=0,lr=1e-2)/dis_optim_epoch_862.pt...\n"
     ]
    }
   ],
   "source": [
    "discriminator = EdgeFeatureDiscriminator(**config.discriminator.params[...]).to(device)\n",
    "discriminator_optimizer = config.discriminator.optim(discriminator.parameters(), lr=config.discriminator.lr.initial * config.discriminator.lr.decay ** start_epoch())\n",
    "discriminator_scheduler = torch.optim.lr_scheduler.ExponentialLR(discriminator_optimizer, gamma=config.discriminator.lr.decay)\n",
    "if start_epoch() != 0:\n",
    "    dis_ckpt_epoch = start_epoch()\n",
    "elif config.discriminator.pretrained.name is not None and config.discriminator.pretrained.epoch != 0:\n",
    "    dis_pretrained_epoch = get_ckpt_epoch(paths.dis_pretrain(), config.discriminator.pretrained.epoch)\n",
    "    dis_ckpt_epoch = dis_pretrained_epoch # f\"{paths.dis_pretrain()}/dis_epoch_{dis_pretrained_epoch}.pt\"\n",
    "else:\n",
    "    dis_ckpt_epoch = None\n",
    "if dis_ckpt_epoch is not None:\n",
    "    # Load discriminator\n",
    "    dis_ckpt_file = f\"{paths.checkpoints()}/dis_epoch_{dis_ckpt_epoch}.pt\"\n",
    "    print(f\"Loading from {dis_ckpt_file}...\")\n",
    "    discriminator.load_state_dict(torch.load(dis_ckpt_file, map_location=torch.device(device)))\n",
    "    # Load discriminator optimizer\n",
    "    dis_optim_ckpt_file = f\"{paths.checkpoints()}/dis_optim_epoch_{dis_ckpt_epoch}.pt\"\n",
    "    print(f\"Loading from {dis_optim_ckpt_file}...\")\n",
    "    discriminator_optimizer.load_state_dict(torch.load(dis_optim_ckpt_file, map_location=torch.device(device)))"
   ]
  },
  {
   "cell_type": "markdown",
   "metadata": {
    "id": "N39dDHraedM6"
   },
   "source": [
    "# Train"
   ]
  },
  {
   "cell_type": "code",
   "execution_count": 24,
   "metadata": {
    "id": "BdIJSDSJedM-"
   },
   "outputs": [],
   "source": [
    "stress_criterion = StressDiscriminator().to(device)\n",
    "val_criterion = Stress(reduce=None)\n",
    "xing_criterion = Xing(reduce=None)\n",
    "dis_convert = DiscriminatorDataConverter(complete_graph=config.discriminator.complete, normalize=config.discriminator.params.normalize)\n",
    "tensorboard = SummaryWriter(log_dir=paths.tensorboard())\n",
    "epoch = start_epoch() + 1"
   ]
  },
  {
   "cell_type": "code",
   "execution_count": 25,
   "metadata": {
    "id": "OHRWj1h0edM-"
   },
   "outputs": [],
   "source": [
    "def gradient_penalty(interpolated, discriminator, weight=10):\n",
    "    interpolated.pos.requires_grad_()\n",
    "    prob_interpolated = discriminator(interpolated)\n",
    "    gradients = autograd.grad(outputs=prob_interpolated, \n",
    "                              inputs=interpolated.pos,\n",
    "                              grad_outputs=torch.ones_like(prob_interpolated),\n",
    "                              create_graph=True, \n",
    "                              retain_graph=True, \n",
    "                              allow_unused=True)[0]\n",
    "    gradients_norm = torch.sqrt(gnn.global_add_pool(gradients.square().sum(dim=1), batch.batch) + 1e-8)\n",
    "    return weight * ((gradients_norm - 1) ** 2).mean()"
   ]
  },
  {
   "cell_type": "code",
   "execution_count": 26,
   "metadata": {
    "id": "o5wJJN9AedM_"
   },
   "outputs": [],
   "source": [
    "def get_gp_loss(batch, fake_pos, weight):\n",
    "    if weight > 0:\n",
    "        interp = dis_convert(batch, fake_pos, random.random())\n",
    "        return gradient_penalty(interp, discriminator, weight).mean()\n",
    "    return 0"
   ]
  },
  {
   "cell_type": "code",
   "execution_count": 27,
   "metadata": {
    "id": "QwuA6sRoedM_"
   },
   "outputs": [],
   "source": [
    "def get_sgan_loss(batch, fake_pos, mode='discriminator'):\n",
    "    real = dis_convert(batch)\n",
    "    fake = dis_convert(batch, fake_pos)\n",
    "    pred = discriminator(merge_batch(real, fake)).view(2, -1).T\n",
    "    if mode == 'discriminator':\n",
    "        label = torch.zeros(pred.shape[0]).long()\n",
    "    elif mode == 'generator':\n",
    "        label = torch.ones(pred.shape[0]).long()\n",
    "    else:\n",
    "        raise Exception\n",
    "    return nn.CrossEntropyLoss()(pred, label)"
   ]
  },
  {
   "cell_type": "code",
   "execution_count": 28,
   "metadata": {
    "id": "GuAP1YchedNA"
   },
   "outputs": [],
   "source": [
    "def get_rgan_loss(batch, fake_pos, mode='discriminator'):\n",
    "    real = dis_convert(batch)\n",
    "    fake = dis_convert(batch, fake_pos)\n",
    "    pred = discriminator(merge_batch(real, fake)).view(2, -1).T\n",
    "    real_pred, fake_pred = pred[:,0], pred[:,1]\n",
    "    if mode == 'discriminator':\n",
    "        losses = - F.logsigmoid(real_pred - fake_pred)\n",
    "    elif mode == 'generator':\n",
    "        losses = - F.logsigmoid(fake_pred - real_pred)\n",
    "    else:\n",
    "        raise Exception\n",
    "    return losses.mean()"
   ]
  },
  {
   "cell_type": "code",
   "execution_count": 29,
   "metadata": {
    "id": "KFllQ7BredNA"
   },
   "outputs": [],
   "source": [
    "def get_wgan_loss(batch, fake_pos, mode='discriminator'):\n",
    "    real = dis_convert(batch)\n",
    "    fake = dis_convert(batch, fake_pos)\n",
    "    pred = discriminator(merge_batch(real, fake)).view(2, -1).T\n",
    "    real_pred, fake_pred = pred[:,0], pred[:,1]\n",
    "    if mode == 'discriminator':\n",
    "        losses = fake_pred - real_pred \n",
    "    elif mode == 'generator':\n",
    "        losses = real_pred - fake_pred\n",
    "    else:\n",
    "        raise Exception\n",
    "    return losses.mean()"
   ]
  },
  {
   "cell_type": "code",
   "execution_count": 30,
   "metadata": {
    "id": "r5Kg_tYEedNA"
   },
   "outputs": [],
   "source": [
    "def get_ragan_loss(batch, fake_pos, mode='discriminator'):\n",
    "    real = dis_convert(batch)\n",
    "    fake = dis_convert(batch, fake_pos)\n",
    "    pred = discriminator(merge_batch(real, fake)).view(2, -1).T\n",
    "    real_pred, fake_pred = pred[:,0], pred[:,1]\n",
    "    if mode == 'discriminator':\n",
    "        losses = - F.logsigmoid(real_pred - fake_pred.mean()) - F.logsigmoid(real_pred.mean() - fake_pred)\n",
    "    elif mode == 'generator':\n",
    "        losses = - F.logsigmoid(fake_pred - real_pred.mean()) - F.logsigmoid(fake_pred.mean() - real_pred)\n",
    "    else:\n",
    "        raise Exception\n",
    "    return losses.mean()"
   ]
  },
  {
   "cell_type": "code",
   "execution_count": 31,
   "metadata": {},
   "outputs": [],
   "source": [
    "def get_dgdv2_loss(batch, fake_pos, mode='discriminator'):\n",
    "    fake = dis_convert(batch, fake_pos)\n",
    "    pred = discriminator(fake)\n",
    "    if mode == 'discriminator':\n",
    "        gt = get_gt(batch, fake_pos)\n",
    "        loss = criterion(pred, gt)\n",
    "    elif mode == 'generator':\n",
    "        losses = pred.sum(dim=0)\n",
    "#         losses = torch.tensor(config.importance).to(device) * losses #/ losses.detach()\n",
    "        loss = losses.sum()\n",
    "    else:\n",
    "        raise Exception\n",
    "    return -loss"
   ]
  },
  {
   "cell_type": "code",
   "execution_count": 32,
   "metadata": {
    "id": "3IE_84f-edNB"
   },
   "outputs": [],
   "source": [
    "def get_gan_loss(batch, fake_pos, mode='discriminator'):\n",
    "    return {\"sgan\": get_sgan_loss,\n",
    "            \"wgan\": get_wgan_loss,\n",
    "            \"rgan\": get_rgan_loss,\n",
    "            \"ragan\": get_ragan_loss,\n",
    "            \"dgdv2\": get_dgdv2_loss}[config.gan_flavor](batch, fake_pos, mode)"
   ]
  },
  {
   "cell_type": "code",
   "execution_count": 33,
   "metadata": {
    "colab": {
     "background_save": true,
     "base_uri": "https://localhost:8080/",
     "height": 80
    },
    "id": "2NjekXgkedNB",
    "outputId": "da85b2ec-c0de-459c-c0dd-7ba3519419fa",
    "scrolled": true,
    "tags": []
   },
   "outputs": [
    {
     "data": {
      "application/vnd.jupyter.widget-view+json": {
       "model_id": "ff1144ea2dee4fa2855d5a3eab7143f6",
       "version_major": 2,
       "version_minor": 0
      },
      "text/plain": [
       "Tab(children=(VBox(children=(Wrapper(), Hud())), HBox(children=(Output(),), layout=Layout(height='500px', over…"
      ]
     },
     "metadata": {},
     "output_type": "display_data"
    },
    {
     "ename": "KeyboardInterrupt",
     "evalue": "",
     "output_type": "error",
     "traceback": [
      "\u001b[0;31m---------------------------------------------------------------------------\u001b[0m",
      "\u001b[0;31mKeyboardInterrupt\u001b[0m                         Traceback (most recent call last)",
      "\u001b[0;32m/tmp/slurmtmp.5715224/ipykernel_67788/801679965.py\u001b[0m in \u001b[0;36m<module>\u001b[0;34m\u001b[0m\n\u001b[1;32m    127\u001b[0m     \u001b[0;32mfor\u001b[0m \u001b[0m_\u001b[0m \u001b[0;32min\u001b[0m \u001b[0mrange\u001b[0m\u001b[0;34m(\u001b[0m\u001b[0mconfig\u001b[0m\u001b[0;34m.\u001b[0m\u001b[0mdiscriminator\u001b[0m\u001b[0;34m.\u001b[0m\u001b[0mrepeat\u001b[0m\u001b[0;34m)\u001b[0m\u001b[0;34m:\u001b[0m\u001b[0;34m\u001b[0m\u001b[0;34m\u001b[0m\u001b[0m\n\u001b[1;32m    128\u001b[0m         \u001b[0;32mfor\u001b[0m \u001b[0mbatch\u001b[0m \u001b[0;32min\u001b[0m \u001b[0mtrain_loader\u001b[0m\u001b[0;34m:\u001b[0m\u001b[0;34m\u001b[0m\u001b[0;34m\u001b[0m\u001b[0m\n\u001b[0;32m--> 129\u001b[0;31m             \u001b[0mtrain_dis\u001b[0m\u001b[0;34m(\u001b[0m\u001b[0mbatch\u001b[0m\u001b[0;34m,\u001b[0m \u001b[0mepoch\u001b[0m\u001b[0;34m)\u001b[0m\u001b[0;34m\u001b[0m\u001b[0;34m\u001b[0m\u001b[0m\n\u001b[0m\u001b[1;32m    130\u001b[0m             \u001b[0;32mif\u001b[0m \u001b[0mconfig\u001b[0m\u001b[0;34m.\u001b[0m\u001b[0malternate\u001b[0m \u001b[0;34m==\u001b[0m \u001b[0;34m'iteration'\u001b[0m\u001b[0;34m:\u001b[0m\u001b[0;34m\u001b[0m\u001b[0;34m\u001b[0m\u001b[0m\n\u001b[1;32m    131\u001b[0m                 \u001b[0mtrain_gen\u001b[0m\u001b[0;34m(\u001b[0m\u001b[0mbatch\u001b[0m\u001b[0;34m,\u001b[0m \u001b[0mepoch\u001b[0m\u001b[0;34m)\u001b[0m\u001b[0;34m\u001b[0m\u001b[0;34m\u001b[0m\u001b[0m\n",
      "\u001b[0;32m/tmp/slurmtmp.5715224/ipykernel_67788/801679965.py\u001b[0m in \u001b[0;36mtrain_dis\u001b[0;34m(batch, epoch)\u001b[0m\n\u001b[1;32m      2\u001b[0m     \u001b[0mgenerator\u001b[0m\u001b[0;34m.\u001b[0m\u001b[0mrequires_grad_\u001b[0m\u001b[0;34m(\u001b[0m\u001b[0;32mFalse\u001b[0m\u001b[0;34m)\u001b[0m\u001b[0;34m\u001b[0m\u001b[0;34m\u001b[0m\u001b[0m\n\u001b[1;32m      3\u001b[0m     \u001b[0mdiscriminator\u001b[0m\u001b[0;34m.\u001b[0m\u001b[0mzero_grad\u001b[0m\u001b[0;34m(\u001b[0m\u001b[0;34m)\u001b[0m\u001b[0;34m\u001b[0m\u001b[0;34m\u001b[0m\u001b[0m\n\u001b[0;32m----> 4\u001b[0;31m     \u001b[0mgenerator_output\u001b[0m \u001b[0;34m=\u001b[0m \u001b[0mgenerator\u001b[0m\u001b[0;34m(\u001b[0m\u001b[0mbatch\u001b[0m\u001b[0;34m)\u001b[0m\u001b[0;34m\u001b[0m\u001b[0;34m\u001b[0m\u001b[0m\n\u001b[0m\u001b[1;32m      5\u001b[0m     \u001b[0;32mif\u001b[0m \u001b[0mconfig\u001b[0m\u001b[0;34m.\u001b[0m\u001b[0mdiscriminator\u001b[0m\u001b[0;34m.\u001b[0m\u001b[0mnoise\u001b[0m\u001b[0;34m.\u001b[0m\u001b[0mstd\u001b[0m \u001b[0;34m>\u001b[0m \u001b[0;36m0\u001b[0m\u001b[0;34m:\u001b[0m\u001b[0;34m\u001b[0m\u001b[0;34m\u001b[0m\u001b[0m\n\u001b[1;32m      6\u001b[0m         \u001b[0mgenerator_output\u001b[0m \u001b[0;34m=\u001b[0m \u001b[0mgenerator_output\u001b[0m \u001b[0;34m+\u001b[0m \u001b[0mtorch\u001b[0m\u001b[0;34m.\u001b[0m\u001b[0mrandn_like\u001b[0m\u001b[0;34m(\u001b[0m\u001b[0mgenerator_output\u001b[0m\u001b[0;34m)\u001b[0m \u001b[0;34m*\u001b[0m \u001b[0mconfig\u001b[0m\u001b[0;34m.\u001b[0m\u001b[0mdiscriminator\u001b[0m\u001b[0;34m.\u001b[0m\u001b[0mnoise\u001b[0m\u001b[0;34m.\u001b[0m\u001b[0mstd\u001b[0m \u001b[0;34m*\u001b[0m \u001b[0mconfig\u001b[0m\u001b[0;34m.\u001b[0m\u001b[0mdiscriminator\u001b[0m\u001b[0;34m.\u001b[0m\u001b[0mnoise\u001b[0m\u001b[0;34m.\u001b[0m\u001b[0mdecay\u001b[0m \u001b[0;34m**\u001b[0m \u001b[0mepoch\u001b[0m\u001b[0;34m\u001b[0m\u001b[0;34m\u001b[0m\u001b[0m\n",
      "\u001b[0;32m~/.conda/envs/deepgd/lib/python3.9/site-packages/torch/nn/modules/module.py\u001b[0m in \u001b[0;36m_call_impl\u001b[0;34m(self, *input, **kwargs)\u001b[0m\n\u001b[1;32m   1049\u001b[0m         if not (self._backward_hooks or self._forward_hooks or self._forward_pre_hooks or _global_backward_hooks\n\u001b[1;32m   1050\u001b[0m                 or _global_forward_hooks or _global_forward_pre_hooks):\n\u001b[0;32m-> 1051\u001b[0;31m             \u001b[0;32mreturn\u001b[0m \u001b[0mforward_call\u001b[0m\u001b[0;34m(\u001b[0m\u001b[0;34m*\u001b[0m\u001b[0minput\u001b[0m\u001b[0;34m,\u001b[0m \u001b[0;34m**\u001b[0m\u001b[0mkwargs\u001b[0m\u001b[0;34m)\u001b[0m\u001b[0;34m\u001b[0m\u001b[0;34m\u001b[0m\u001b[0m\n\u001b[0m\u001b[1;32m   1052\u001b[0m         \u001b[0;31m# Do not call functions when jit is used\u001b[0m\u001b[0;34m\u001b[0m\u001b[0;34m\u001b[0m\u001b[0m\n\u001b[1;32m   1053\u001b[0m         \u001b[0mfull_backward_hooks\u001b[0m\u001b[0;34m,\u001b[0m \u001b[0mnon_full_backward_hooks\u001b[0m \u001b[0;34m=\u001b[0m \u001b[0;34m[\u001b[0m\u001b[0;34m]\u001b[0m\u001b[0;34m,\u001b[0m \u001b[0;34m[\u001b[0m\u001b[0;34m]\u001b[0m\u001b[0;34m\u001b[0m\u001b[0;34m\u001b[0m\u001b[0m\n",
      "\u001b[0;32m~/deepgd/deepgd/modules.py\u001b[0m in \u001b[0;36mforward\u001b[0;34m(self, data, weights, output_hidden, numpy)\u001b[0m\n\u001b[1;32m    625\u001b[0m                            \u001b[0mself\u001b[0m\u001b[0;34m.\u001b[0m\u001b[0mhid_blocks\u001b[0m\u001b[0;34m,\u001b[0m\u001b[0;34m\u001b[0m\u001b[0;34m\u001b[0m\u001b[0m\n\u001b[1;32m    626\u001b[0m                            self.out_blocks):\n\u001b[0;32m--> 627\u001b[0;31m             \u001b[0mv\u001b[0m \u001b[0;34m=\u001b[0m \u001b[0mblock\u001b[0m\u001b[0;34m(\u001b[0m\u001b[0mv\u001b[0m\u001b[0;34m,\u001b[0m \u001b[0mdata\u001b[0m\u001b[0;34m,\u001b[0m \u001b[0mweights\u001b[0m\u001b[0;34m)\u001b[0m\u001b[0;34m\u001b[0m\u001b[0;34m\u001b[0m\u001b[0m\n\u001b[0m\u001b[1;32m    628\u001b[0m             \u001b[0;32mif\u001b[0m \u001b[0moutput_hidden\u001b[0m\u001b[0;34m:\u001b[0m\u001b[0;34m\u001b[0m\u001b[0;34m\u001b[0m\u001b[0m\n\u001b[1;32m    629\u001b[0m                 \u001b[0mhidden\u001b[0m\u001b[0;34m.\u001b[0m\u001b[0mappend\u001b[0m\u001b[0;34m(\u001b[0m\u001b[0mv\u001b[0m\u001b[0;34m.\u001b[0m\u001b[0mdetach\u001b[0m\u001b[0;34m(\u001b[0m\u001b[0;34m)\u001b[0m\u001b[0;34m.\u001b[0m\u001b[0mcpu\u001b[0m\u001b[0;34m(\u001b[0m\u001b[0;34m)\u001b[0m\u001b[0;34m.\u001b[0m\u001b[0mnumpy\u001b[0m\u001b[0;34m(\u001b[0m\u001b[0;34m)\u001b[0m \u001b[0;32mif\u001b[0m \u001b[0mnumpy\u001b[0m \u001b[0;32melse\u001b[0m \u001b[0mv\u001b[0m\u001b[0;34m)\u001b[0m\u001b[0;34m\u001b[0m\u001b[0;34m\u001b[0m\u001b[0m\n",
      "\u001b[0;32m~/.conda/envs/deepgd/lib/python3.9/site-packages/torch/nn/modules/module.py\u001b[0m in \u001b[0;36m_call_impl\u001b[0;34m(self, *input, **kwargs)\u001b[0m\n\u001b[1;32m   1049\u001b[0m         if not (self._backward_hooks or self._forward_hooks or self._forward_pre_hooks or _global_backward_hooks\n\u001b[1;32m   1050\u001b[0m                 or _global_forward_hooks or _global_forward_pre_hooks):\n\u001b[0;32m-> 1051\u001b[0;31m             \u001b[0;32mreturn\u001b[0m \u001b[0mforward_call\u001b[0m\u001b[0;34m(\u001b[0m\u001b[0;34m*\u001b[0m\u001b[0minput\u001b[0m\u001b[0;34m,\u001b[0m \u001b[0;34m**\u001b[0m\u001b[0mkwargs\u001b[0m\u001b[0;34m)\u001b[0m\u001b[0;34m\u001b[0m\u001b[0;34m\u001b[0m\u001b[0m\n\u001b[0m\u001b[1;32m   1052\u001b[0m         \u001b[0;31m# Do not call functions when jit is used\u001b[0m\u001b[0;34m\u001b[0m\u001b[0;34m\u001b[0m\u001b[0m\n\u001b[1;32m   1053\u001b[0m         \u001b[0mfull_backward_hooks\u001b[0m\u001b[0;34m,\u001b[0m \u001b[0mnon_full_backward_hooks\u001b[0m \u001b[0;34m=\u001b[0m \u001b[0;34m[\u001b[0m\u001b[0;34m]\u001b[0m\u001b[0;34m,\u001b[0m \u001b[0;34m[\u001b[0m\u001b[0;34m]\u001b[0m\u001b[0;34m\u001b[0m\u001b[0;34m\u001b[0m\u001b[0m\n",
      "\u001b[0;32m~/deepgd/deepgd/modules.py\u001b[0m in \u001b[0;36mforward\u001b[0;34m(self, v, data, weights)\u001b[0m\n\u001b[1;32m    418\u001b[0m             \u001b[0mefeat_fn\u001b[0m \u001b[0;34m=\u001b[0m \u001b[0mself\u001b[0m\u001b[0;34m.\u001b[0m\u001b[0m_get_dynamic_edge_feat\u001b[0m \u001b[0;32mif\u001b[0m \u001b[0mself\u001b[0m\u001b[0;34m.\u001b[0m\u001b[0mstatic_efeats\u001b[0m \u001b[0;34m==\u001b[0m \u001b[0;36m0\u001b[0m \u001b[0;32melse\u001b[0m \u001b[0mself\u001b[0m\u001b[0;34m.\u001b[0m\u001b[0m_get_edge_feat\u001b[0m\u001b[0;34m\u001b[0m\u001b[0;34m\u001b[0m\u001b[0m\n\u001b[1;32m    419\u001b[0m \u001b[0;34m\u001b[0m\u001b[0m\n\u001b[0;32m--> 420\u001b[0;31m             e = efeat_fn(vsrc, data,\n\u001b[0m\u001b[1;32m    421\u001b[0m                          \u001b[0mrich_efeats\u001b[0m\u001b[0;34m=\u001b[0m\u001b[0mself\u001b[0m\u001b[0;34m.\u001b[0m\u001b[0mrich_efeats\u001b[0m \u001b[0;32mand\u001b[0m \u001b[0mget_extra\u001b[0m\u001b[0;34m,\u001b[0m\u001b[0;34m\u001b[0m\u001b[0;34m\u001b[0m\u001b[0m\n\u001b[1;32m    422\u001b[0m                          \u001b[0meuclidian\u001b[0m\u001b[0;34m=\u001b[0m\u001b[0mself\u001b[0m\u001b[0;34m.\u001b[0m\u001b[0meuclidian\u001b[0m \u001b[0;32mand\u001b[0m \u001b[0mget_extra\u001b[0m\u001b[0;34m,\u001b[0m\u001b[0;34m\u001b[0m\u001b[0;34m\u001b[0m\u001b[0m\n",
      "\u001b[0;32m~/deepgd/deepgd/modules.py\u001b[0m in \u001b[0;36m_get_edge_feat\u001b[0;34m(self, pos, data, rich_efeats, euclidian, direction, weights)\u001b[0m\n\u001b[1;32m    373\u001b[0m         \u001b[0;32mif\u001b[0m \u001b[0meuclidian\u001b[0m \u001b[0;32mor\u001b[0m \u001b[0mdirection\u001b[0m\u001b[0;34m:\u001b[0m\u001b[0;34m\u001b[0m\u001b[0;34m\u001b[0m\u001b[0m\n\u001b[1;32m    374\u001b[0m             \u001b[0mstart_pos\u001b[0m\u001b[0;34m,\u001b[0m \u001b[0mend_pos\u001b[0m \u001b[0;34m=\u001b[0m \u001b[0mget_edges\u001b[0m\u001b[0;34m(\u001b[0m\u001b[0mpos\u001b[0m\u001b[0;34m,\u001b[0m \u001b[0mdata\u001b[0m\u001b[0;34m)\u001b[0m\u001b[0;34m\u001b[0m\u001b[0;34m\u001b[0m\u001b[0m\n\u001b[0;32m--> 375\u001b[0;31m             \u001b[0mv\u001b[0m\u001b[0;34m,\u001b[0m \u001b[0mu\u001b[0m \u001b[0;34m=\u001b[0m \u001b[0ml2_normalize\u001b[0m\u001b[0;34m(\u001b[0m\u001b[0mend_pos\u001b[0m \u001b[0;34m-\u001b[0m \u001b[0mstart_pos\u001b[0m\u001b[0;34m,\u001b[0m \u001b[0mreturn_norm\u001b[0m\u001b[0;34m=\u001b[0m\u001b[0;32mTrue\u001b[0m\u001b[0;34m)\u001b[0m\u001b[0;34m\u001b[0m\u001b[0;34m\u001b[0m\u001b[0m\n\u001b[0m\u001b[1;32m    376\u001b[0m             \u001b[0;32mif\u001b[0m \u001b[0meuclidian\u001b[0m\u001b[0;34m:\u001b[0m\u001b[0;34m\u001b[0m\u001b[0;34m\u001b[0m\u001b[0m\n\u001b[1;32m    377\u001b[0m                 \u001b[0me\u001b[0m \u001b[0;34m=\u001b[0m \u001b[0mtorch\u001b[0m\u001b[0;34m.\u001b[0m\u001b[0mcat\u001b[0m\u001b[0;34m(\u001b[0m\u001b[0;34m[\u001b[0m\u001b[0me\u001b[0m\u001b[0;34m,\u001b[0m \u001b[0mu\u001b[0m\u001b[0;34m]\u001b[0m\u001b[0;34m,\u001b[0m \u001b[0mdim\u001b[0m\u001b[0;34m=\u001b[0m\u001b[0;36m1\u001b[0m\u001b[0;34m)\u001b[0m\u001b[0;34m\u001b[0m\u001b[0;34m\u001b[0m\u001b[0m\n",
      "\u001b[0;32m~/deepgd/deepgd/functions.py\u001b[0m in \u001b[0;36ml2_normalize\u001b[0;34m(x, return_norm, eps)\u001b[0m\n\u001b[1;32m     13\u001b[0m     \u001b[0;32melse\u001b[0m\u001b[0;34m:\u001b[0m\u001b[0;34m\u001b[0m\u001b[0;34m\u001b[0m\u001b[0m\n\u001b[1;32m     14\u001b[0m         \u001b[0mnorm\u001b[0m \u001b[0;34m=\u001b[0m \u001b[0mnp\u001b[0m\u001b[0;34m.\u001b[0m\u001b[0mlinalg\u001b[0m\u001b[0;34m.\u001b[0m\u001b[0mnorm\u001b[0m\u001b[0;34m(\u001b[0m\u001b[0mx\u001b[0m\u001b[0;34m,\u001b[0m \u001b[0maxis\u001b[0m\u001b[0;34m=\u001b[0m\u001b[0;36m1\u001b[0m\u001b[0;34m,\u001b[0m \u001b[0mkeepdims\u001b[0m\u001b[0;34m=\u001b[0m\u001b[0;32mTrue\u001b[0m\u001b[0;34m)\u001b[0m\u001b[0;34m\u001b[0m\u001b[0;34m\u001b[0m\u001b[0m\n\u001b[0;32m---> 15\u001b[0;31m     \u001b[0munit_vec\u001b[0m \u001b[0;34m=\u001b[0m \u001b[0mx\u001b[0m \u001b[0;34m/\u001b[0m \u001b[0;34m(\u001b[0m\u001b[0mnorm\u001b[0m \u001b[0;34m+\u001b[0m \u001b[0meps\u001b[0m\u001b[0;34m)\u001b[0m\u001b[0;34m\u001b[0m\u001b[0;34m\u001b[0m\u001b[0m\n\u001b[0m\u001b[1;32m     16\u001b[0m     \u001b[0;32mif\u001b[0m \u001b[0mreturn_norm\u001b[0m\u001b[0;34m:\u001b[0m\u001b[0;34m\u001b[0m\u001b[0;34m\u001b[0m\u001b[0m\n\u001b[1;32m     17\u001b[0m         \u001b[0;32mreturn\u001b[0m \u001b[0munit_vec\u001b[0m\u001b[0;34m,\u001b[0m \u001b[0mnorm\u001b[0m\u001b[0;34m\u001b[0m\u001b[0;34m\u001b[0m\u001b[0m\n",
      "\u001b[0;31mKeyboardInterrupt\u001b[0m: "
     ]
    }
   ],
   "source": [
    "def train_dis(batch, epoch):\n",
    "    generator.requires_grad_(False)\n",
    "    discriminator.zero_grad()\n",
    "    generator_output = generator(batch)\n",
    "    if config.discriminator.noise.std > 0:\n",
    "        generator_output = generator_output + torch.randn_like(generator_output) * config.discriminator.noise.std * config.discriminator.noise.decay ** epoch\n",
    "    discriminator_loss = get_gan_loss(batch, generator_output, mode='discriminator')\n",
    "    \n",
    "    # train discriminator\n",
    "    discriminator_loss.backward()\n",
    "    discriminator_optimizer.step()\n",
    "\n",
    "    # gradient penalty\n",
    "    if config.gp_weight > 0:\n",
    "        discriminator.zero_grad()\n",
    "        gp_loss = get_gp_loss(batch, generator_output, config.gp_weight)\n",
    "        gp_loss.backward()\n",
    "        discriminator_optimizer.step()\n",
    "\n",
    "    hud['dis_loss'] = format(discriminator_loss.item(), '.2e')\n",
    "    pbar().update()\n",
    "\n",
    "def train_gen(batch, epoch):\n",
    "    generator.requires_grad_(True)\n",
    "    generator.zero_grad()\n",
    "    discriminator.zero_grad()\n",
    "    generator_output = generator(batch)\n",
    "    if config.discriminator.noise.std > 0:\n",
    "        generator_output = generator_output + torch.randn_like(generator_output) * config.discriminator.noise.std * config.discriminator.noise.decay ** epoch\n",
    "    generator_loss = get_gan_loss(batch, generator_output, mode='generator') \n",
    "    \n",
    "    #train generator\n",
    "    generator_loss.backward()\n",
    "    generator_optimizer.step()\n",
    "\n",
    "    with torch.no_grad():\n",
    "        dis_batch = dis_convert(batch, generator_output)\n",
    "        stress = stress_criterion(dis_batch).mean()\n",
    "        critic = discriminator(dis_batch).mean()\n",
    "    hud.append({'gen_loss': format(generator_loss.item(), '.2e'),\n",
    "                'stress': format(stress.item(), '.2e'),\n",
    "                'critic': format(critic.item(), '.2e')})\n",
    "    pbar().update()\n",
    "\n",
    "def cuda_memsafe_map(fn, *iterables, summary=False):\n",
    "    total, failed = 0, 0\n",
    "    iterator = zip(*iterables)\n",
    "    items = None\n",
    "    while True:\n",
    "        try:\n",
    "            items = next(iterator)\n",
    "            yield fn(*items)\n",
    "        except StopIteration:\n",
    "            if summary:\n",
    "                print(f'Iteration finished. {failed} out of {total} failed!')\n",
    "            break\n",
    "        except RuntimeError:\n",
    "            print('CUDA memory overflow! Skip batch...')\n",
    "            del items\n",
    "            failed += 1\n",
    "        torch.cuda.empty_cache()\n",
    "        total += 1\n",
    "    \n",
    "def validate(model, data_loader, criterion=val_criterion):\n",
    "    def val_one_batch(batch):\n",
    "        batch = preprocess_batch(model, batch)\n",
    "        pred = CanonicalizationByStress()(model(batch), batch)\n",
    "        gt = CanonicalizationByStress()(batch.gt_pos, batch)\n",
    "        loss = criterion(pred, batch)\n",
    "        gt_loss = criterion(gt, batch)\n",
    "        spc = (loss - gt_loss) / torch.maximum(torch.maximum(loss, gt_loss), torch.ones_like(loss)*1e-5)\n",
    "        return loss.mean().item(), spc.mean().item()\n",
    "    loss_all, spc_all = zip(*cuda_memsafe_map(val_one_batch, data_loader))\n",
    "    return np.mean(loss_all), np.mean(spc_all)\n",
    "\n",
    "def log(msg):\n",
    "    msg = f\"[{epoch:03}] {msg}\"\n",
    "    print(msg, file=open(paths.log(), \"a\"))\n",
    "    with log_out: \n",
    "        print(msg)\n",
    "\n",
    "print(f\"{'='*10} {config.link} {'='*10}\", file=open(paths.log(), \"a\"))\n",
    "hud = Hud()\n",
    "pbar = Wrapper(tqdm, total=len(train_loader)*2, smoothing=0)\n",
    "plot_out = Output()\n",
    "log_out = Output()\n",
    "tabs = {\"status\": VBox([pbar, hud]), \n",
    "        \"plot\": HBox([plot_out], layout=Layout(height='500px', overflow_y='auto')),\n",
    "        \"log\": HBox([log_out], layout=Layout(height='500px', overflow_y='auto'))}\n",
    "tab_bar = Tab(children=list(tabs.values()))\n",
    "[tab_bar.set_title(i, name) for i, name in enumerate(tabs)]\n",
    "display(tab_bar)\n",
    "while True:\n",
    "    if epoch % config.log_interval == 0:\n",
    "        torch.save(generator.state_dict(), f\"{paths.checkpoints()}/gen_epoch_{epoch}.pt\")\n",
    "        torch.save(generator_optimizer.state_dict(), f\"{paths.checkpoints()}/gen_optim_epoch_{epoch}.pt\")\n",
    "        torch.save(discriminator.state_dict(), f\"{paths.checkpoints()}/dis_epoch_{epoch}.pt\")\n",
    "        torch.save(discriminator_optimizer.state_dict(), f\"{paths.checkpoints()}/dis_optim_epoch_{epoch}.pt\")\n",
    "        generator.eval()\n",
    "        with torch.no_grad():\n",
    "            val_stress, val_stress_spc = validate(model=generator, data_loader=val_loader)\n",
    "            val_xing, val_xing_spc = validate(model=generator, data_loader=val_loader, criterion=xing_criterion)\n",
    "            with plot_out:\n",
    "                fig = plt.figure()\n",
    "                graph_vis(G_list[11100], generator(make_batch(data_list[11100]).to(device)).cpu())\n",
    "                plt.show()\n",
    "        # tensorboard.add_scalars('loss', {'train': train_loss, \n",
    "        #                                  'validation': val_loss}, epoch)\n",
    "        # for i, fn in enumerate(loss_fns):\n",
    "        #     tensorboard.add_scalars(type(fn).__name__, {'train': train_loss_comp[i].item(), \n",
    "        #                                           'validation': val_loss_comp[i].item()}, epoch)\n",
    "        hud.append({\n",
    "            'val_stress': format(val_stress, '.2f'),\n",
    "            'val_stress_spc': format(val_stress_spc, '.2%'),\n",
    "            'val_xing': format(val_xing, '.2f'),\n",
    "            'val_xing_spc': format(val_xing_spc, '.2%'),\n",
    "        })\n",
    "        log(f\"stress={hud.data['val_stress']}({hud.data['val_stress_spc']}) xing={hud.data['val_xing']}({hud.data['val_xing_spc']})\")\n",
    "        \n",
    "    # handle.update(tab_bar)\n",
    "    pbar().reset()\n",
    "    pbar().set_description(desc=f\"[epoch {epoch}/{config.epoch.end}]\")\n",
    "    hud(title=f\"epoch {epoch}\")\n",
    "    generator.train()\n",
    "    discriminator.train()\n",
    "    # proper: proper layout\n",
    "    for _ in range(config.discriminator.repeat):\n",
    "        for batch in train_loader:\n",
    "            train_dis(batch, epoch)\n",
    "            if config.alternate == 'iteration':\n",
    "                train_gen(batch, epoch)\n",
    "\n",
    "    if config.alternate == 'epoch':\n",
    "        for batch in train_loader:\n",
    "            train_gen(batch, epoch)\n",
    "\n",
    "    discriminator_scheduler.step()\n",
    "    generator_scheduler.step()\n",
    "\n",
    "    if epoch == config.epoch.end:\n",
    "        break\n",
    "    epoch += 1"
   ]
  },
  {
   "cell_type": "markdown",
   "metadata": {
    "id": "0qYK_X_hrq9o"
   },
   "source": [
    "# Test"
   ]
  },
  {
   "cell_type": "code",
   "execution_count": 34,
   "metadata": {
    "colab": {
     "base_uri": "https://localhost:8080/"
    },
    "id": "XEvmAtNjWhcY",
    "outputId": "9f4c86a4-a4b0-48f1-cb58-ab3679173184"
   },
   "outputs": [
    {
     "name": "stdout",
     "output_type": "stream",
     "text": [
      "Loading from artifacts/checkpoints/GAN(gan=rgan,data=best(xing,stress),dis=deep,share=0,embed=16,gp=0,lr=1e-2)/gen_epoch_863.pt...\n"
     ]
    },
    {
     "data": {
      "text/plain": [
       "<All keys matched successfully>"
      ]
     },
     "execution_count": 34,
     "metadata": {},
     "output_type": "execute_result"
    }
   ],
   "source": [
    "test_epoch = -1\n",
    "\n",
    "test_generator = Generator(**config.generator.params[...]).to(device)\n",
    "test_ckpt_epoch = get_ckpt_epoch(paths.checkpoints(), test_epoch)\n",
    "test_ckpt_file = f\"{paths.checkpoints()}/gen_epoch_{test_ckpt_epoch}.pt\"\n",
    "print(f\"Loading from {test_ckpt_file}...\")\n",
    "test_generator.load_state_dict(torch.load(test_ckpt_file, map_location=torch.device(device)))"
   ]
  },
  {
   "cell_type": "code",
   "execution_count": 35,
   "metadata": {
    "colab": {
     "background_save": true,
     "base_uri": "https://localhost:8080/",
     "height": 1000,
     "referenced_widgets": [
      "9b7d18992dbf4a84931f916fbaaa37d8",
      "2c664d7e1e6d474fb87094fc0da270d3",
      "d375f5f82a4645d7b29c541596dc1c7f",
      "ecfa311bb06b4f6fa504598263ff69d3",
      "d1859990877149eab2b414b4e2a0e0c7",
      "d2be6733734844bca3e1db9b49eb1c1e",
      "4d98072bdf674792a13d77e85dd285d1",
      "f7ed92c383d741a0a1cef2536ff2db13",
      "2ba110f835c64ec4b82974996aed10af",
      "09397ceac9014af0aebca848d4d96d48",
      "fd0709f48d6c4527bc00b5f407f3c1b9"
     ]
    },
    "id": "ZubmSTcYrq9o",
    "outputId": "fc2f65a2-2085-43ac-b110-cbfe742318a8",
    "scrolled": true,
    "tags": []
   },
   "outputs": [
    {
     "data": {
      "application/vnd.jupyter.widget-view+json": {
       "model_id": "9bedfcdaa68e45bf8cd5916cd1469973",
       "version_major": 2,
       "version_minor": 0
      },
      "text/plain": [
       "  0%|          | 0/1000 [00:00<?, ?it/s]"
      ]
     },
     "metadata": {},
     "output_type": "display_data"
    }
   ],
   "source": [
    "rotate = RotateByPrincipalComponents()\n",
    "def test_callback(*, idx, pred, metrics):\n",
    "    # graph_vis(G_list[idx], pred, file_name=f\"{paths.visualization()}/{idx}_{metrics['stress']:.2f}_{metrics['resolution_score']:.2f}.png\")\n",
    "    pred = rotate(torch.tensor(pred), data_list[idx])\n",
    "    graph_vis(G_list[idx], pred)\n",
    "    plt.title(f\"[pred] idx: {idx}, stress: {metrics['stress']:.2f}({metrics['stress_spc']:.2%}), xing: {metrics['xing']:.2f}({metrics['xing_spc']:.2%})\")\n",
    "    plt.show()\n",
    "    gt_pos = rotate(data_list[idx].gt_pos, data_list[idx])\n",
    "    graph_vis(G_list[idx], gt_pos, node_color='orange')\n",
    "    plt.title(f\"[gt] idx: {idx}, stress: {metrics['gt_stress']:.2f}, xing: {metrics['gt_xing']:.2f}\")\n",
    "    plt.show()\n",
    "    \n",
    "test_metrics = test(model=test_generator, \n",
    "                    criteria_list=[], \n",
    "                    dataset=data_list, \n",
    "                    idx_range=range(10000, 11000), \n",
    "#                     callback=test_callback,\n",
    "                    gt_pos=None)\n",
    "pickle.dump(test_metrics, open(paths.metrics(\"test\"), \"wb\"))"
   ]
  },
  {
   "cell_type": "code",
   "execution_count": 36,
   "metadata": {
    "colab": {
     "base_uri": "https://localhost:8080/",
     "height": 318
    },
    "id": "t2rFXIr_PsrJ",
    "outputId": "6a4205b1-4630-4de4-ec72-bdba3d3ea114"
   },
   "outputs": [
    {
     "name": "stdout",
     "output_type": "stream",
     "text": [
      "stress: tensor(350.9308)\n",
      "stress_spc: tensor(0.1047, dtype=torch.float64)\n",
      "xing: tensor(29.9160)\n",
      "xing_spc: tensor(0.2356, dtype=torch.float64)\n",
      "l1_angle: tensor(82.5914)\n",
      "l1_angle_spc: tensor(0.0737, dtype=torch.float64)\n",
      "edge: tensor(0.1772)\n",
      "edge_spc: tensor(0.2105, dtype=torch.float64)\n",
      "ring: tensor(268.2251)\n",
      "ring_spc: tensor(0.0387, dtype=torch.float64)\n",
      "tsne: tensor(0.2158)\n",
      "tsne_spc: tensor(0.1289, dtype=torch.float64)\n",
      "reso_score: tensor(0.5940)\n",
      "min_angle: tensor(5.0730)\n"
     ]
    },
    {
     "data": {
      "text/html": [
       "<style type=\"text/css\">\n",
       "</style>\n",
       "<table id=\"T_ee13e_\">\n",
       "  <thead>\n",
       "    <tr>\n",
       "      <th class=\"blank level0\" >&nbsp;</th>\n",
       "      <th class=\"col_heading level0 col0\" >stress</th>\n",
       "      <th class=\"col_heading level0 col1\" >stress_spc</th>\n",
       "      <th class=\"col_heading level0 col2\" >xing</th>\n",
       "      <th class=\"col_heading level0 col3\" >xing_spc</th>\n",
       "      <th class=\"col_heading level0 col4\" >l1_angle</th>\n",
       "      <th class=\"col_heading level0 col5\" >l1_angle_spc</th>\n",
       "      <th class=\"col_heading level0 col6\" >edge</th>\n",
       "      <th class=\"col_heading level0 col7\" >edge_spc</th>\n",
       "      <th class=\"col_heading level0 col8\" >ring</th>\n",
       "      <th class=\"col_heading level0 col9\" >ring_spc</th>\n",
       "      <th class=\"col_heading level0 col10\" >tsne</th>\n",
       "      <th class=\"col_heading level0 col11\" >tsne_spc</th>\n",
       "      <th class=\"col_heading level0 col12\" >reso_score</th>\n",
       "      <th class=\"col_heading level0 col13\" >min_angle</th>\n",
       "    </tr>\n",
       "  </thead>\n",
       "  <tbody>\n",
       "    <tr>\n",
       "      <th id=\"T_ee13e_level0_row0\" class=\"row_heading level0 row0\" >0</th>\n",
       "      <td id=\"T_ee13e_row0_col0\" class=\"data row0 col0\" >350.93</td>\n",
       "      <td id=\"T_ee13e_row0_col1\" class=\"data row0 col1\" >10.47%</td>\n",
       "      <td id=\"T_ee13e_row0_col2\" class=\"data row0 col2\" >29.92</td>\n",
       "      <td id=\"T_ee13e_row0_col3\" class=\"data row0 col3\" >23.56%</td>\n",
       "      <td id=\"T_ee13e_row0_col4\" class=\"data row0 col4\" >82.59</td>\n",
       "      <td id=\"T_ee13e_row0_col5\" class=\"data row0 col5\" >7.37%</td>\n",
       "      <td id=\"T_ee13e_row0_col6\" class=\"data row0 col6\" >0.18</td>\n",
       "      <td id=\"T_ee13e_row0_col7\" class=\"data row0 col7\" >21.05%</td>\n",
       "      <td id=\"T_ee13e_row0_col8\" class=\"data row0 col8\" >268.23</td>\n",
       "      <td id=\"T_ee13e_row0_col9\" class=\"data row0 col9\" >3.87%</td>\n",
       "      <td id=\"T_ee13e_row0_col10\" class=\"data row0 col10\" >0.22</td>\n",
       "      <td id=\"T_ee13e_row0_col11\" class=\"data row0 col11\" >12.89%</td>\n",
       "      <td id=\"T_ee13e_row0_col12\" class=\"data row0 col12\" >0.59</td>\n",
       "      <td id=\"T_ee13e_row0_col13\" class=\"data row0 col13\" >5.07</td>\n",
       "    </tr>\n",
       "  </tbody>\n",
       "</table>\n"
      ],
      "text/plain": [
       "<pandas.io.formats.style.Styler at 0x2b167e9b89d0>"
      ]
     },
     "execution_count": 36,
     "metadata": {},
     "output_type": "execute_result"
    }
   ],
   "source": [
    "metrics = test_metrics\n",
    "print('stress:', metrics['stress'].mean())\n",
    "print('stress_spc:', metrics['stress_spc'].mean())\n",
    "print('xing:', metrics['xing'].mean())\n",
    "print('xing_spc:', metrics['xing_spc'].mean())\n",
    "print('l1_angle:', metrics['l1_angle'].mean())\n",
    "print('l1_angle_spc:', metrics['l1_angle_spc'].mean())\n",
    "print('edge:', metrics['edge'].mean())\n",
    "print('edge_spc:', metrics['edge_spc'].mean())\n",
    "print('ring:', metrics['ring'].mean())\n",
    "print('ring_spc:', metrics['ring_spc'].mean())\n",
    "print('tsne:', metrics['tsne'].mean())\n",
    "print('tsne_spc:', metrics['tsne_spc'].mean())\n",
    "print('reso_score:', metrics['resolution_score'].mean())\n",
    "print('min_angle:', metrics['min_angle'].mean())\n",
    "columns = [\n",
    "    'stress',\n",
    "    'stress_spc',\n",
    "    'xing',\n",
    "    'xing_spc',\n",
    "    'l1_angle',\n",
    "    'l1_angle_spc',\n",
    "    'edge',\n",
    "    'edge_spc',\n",
    "    'ring',\n",
    "    'ring_spc',\n",
    "    'tsne',\n",
    "    'tsne_spc',\n",
    "    'reso_score',\n",
    "    'min_angle'\n",
    "]\n",
    "df = pd.DataFrame(map(lambda m: metrics[m].mean().item(), list(metrics.keys())[:-1])).set_axis(columns).T\n",
    "df.style.format({c: \"{:.2f}\" for c in columns if 'spc' not in c} | {c: \"{:.2%}\" for c in columns if 'spc' in c})"
   ]
  },
  {
   "cell_type": "code",
   "execution_count": 37,
   "metadata": {
    "id": "5e7vPr0M3mmG"
   },
   "outputs": [],
   "source": [
    "metrics = {}"
   ]
  },
  {
   "cell_type": "code",
   "execution_count": 38,
   "metadata": {},
   "outputs": [],
   "source": [
    "methods = ['fa2']"
   ]
  },
  {
   "cell_type": "code",
   "execution_count": 39,
   "metadata": {
    "colab": {
     "base_uri": "https://localhost:8080/",
     "height": 433,
     "referenced_widgets": [
      "a0cf6e046add4e639e52db69656e0db9",
      "8e237731bb1241ac858581b25389c012",
      "0891547293ad4211a138a4d92e01bb0b",
      "34912c8e581e47a99a1c4829c38cb75c",
      "5aa034c99c94424e835a2ee954b829ed",
      "248f6393eff74c3eb8740ca6d698045b",
      "686687a29c7f4ec98c4d76ca2062b14b",
      "996a84d1c23b47e4a2af252c6b60f55d",
      "3507f883bb954412b21c1c5641763ed7",
      "9582a849d91e457cadd514c95d6e1b5b",
      "52bfe674c2c547e09b7400a32a96f703",
      "93d58b3a12394fe1aa6f0431fc7cb0db",
      "af1d7855c9d646b0bcc7d95c4cb147a6",
      "f820e2b898cd461da04a4f651d27273d",
      "c0a112cfaa3d4d0aa9530372de84d8fb",
      "fd03985495694fbf9feb3f31ef8d18ce",
      "e02a2b36aa4c4d6fb5d2ac6693c1a927",
      "06f388ff5e3a48828d465096fe69977b",
      "c0052778c9c940e88935593e9f94b83b",
      "99a5e77a192d4a989c4534237eb16730",
      "77c6da092a6647fc9e54f7e276d75616",
      "8c13c0e8b5934117a662a78296bcb1b6",
      "cdcc3bd4235247b48c468c0f6b7682cc",
      "a2c6fa6fef4549cc853fa93b4b18cf95",
      "15cc02a756314083801b5f6798a1948c",
      "24d1c67fe52f452ab0c767e3c1a818aa",
      "c117db25c6fd484a9d0c7f210ccb1ade",
      "b090b60b61084cf692b3066dfac7f0a8",
      "5eab9848059c491b9c6cbac88683f025",
      "e87ffbaa1f204b52b9226337a506b040",
      "cf52198a9e4b46c7b49537a79919c09e",
      "51501227bc064ccbab97c22a679a0750",
      "d1b794a997dc457888a90bf44faee9b4",
      "21a755b50e5047bea797eccf24b35a0c",
      "16e78c3823ec4faf9f9cd9095b218ff5",
      "4ccd332c6b734acd8eff236eaf568dfa",
      "bd60fd13748347e48629df78fa455765",
      "e9187e4ba80b4fafa0334dae2e39aded",
      "4c39ec7c92b4402e8eedcb27beabaab1",
      "59a8194269f943bba571f710ad856973",
      "8e41bc25b9f348b1b85b381547cd60d1",
      "34d0f1529e64437fb25e639b41096072",
      "7e832c7543df43668eb72c0aa6356349",
      "f94162c9c5fe4c2581e3b80beaeb820b",
      "0284946fccf34607b25e1d6d81d4f72a",
      "8e8d4243a3624ba58d760bdf601d5126",
      "b1f0932594fe44f4be4beb8880172871",
      "820bb554d139437b8f6a6997f9002261",
      "459e375d1fe4497cb4197ef88e303c6d",
      "5726814966da46bbba942a114de4b319",
      "448beea5445f4642809801da46aa7e7c",
      "3746c0f0daf04f51805b4c95db20063a",
      "2ff74d1c705348438a32da37910c3300",
      "52f03147b5ab4cb390f9802b7a17a508",
      "5428511d652a47348203e8f3cd2e076d",
      "7b58569bee2e44c5a61a81f9a32c4c01",
      "c5e05d74b9404333a8155304e3497ba2",
      "3ad4e058bde44d87abab780368d49118",
      "8e437049b5c74ff1beddad93e30b19aa",
      "0c61377f4cc34b27ae34bdd6d976d868",
      "9ce35f9a9a23436ea77604513b5c4659",
      "dafbc43ad79c4feda093aefe490fc4b3",
      "497160b6bf80469a89680a03a468c8bb",
      "3265725ecb914981b6f07f68b8a582df",
      "1f0ac20d99d04ffb9ee75613526d3de6",
      "dee0e5716560483b8e2b107566439d94",
      "ca99841a1abd4fbd94927c49aaa711cb",
      "163a44ff1be04583ae7bd62726c55204",
      "f3b727045a0b4b4fabd147ec9c843e14",
      "7c4b4fe859cf48ab99b7e2780a24a539",
      "d9700cffab66480cb81e3722faab4e8b",
      "2c49acc1e0a64aa4b8ec461b0596848e",
      "691817157f43412f9c36002167606b75",
      "d0ae688d71734b56bb348de54e841798",
      "07a364ebcdaa491dbcc2304e4a8dae96",
      "538b277307b1449eaa79a2a91b4741d3",
      "f7b7dd4cbaa5468687b988c5e416a154",
      "877be862a4f045ec8b221097626becb5",
      "1bf37012df0844338ac689d4f6cc8eab",
      "33fe06641be544d3aab2c25cb979416f",
      "68de0d9261fa4e6999967b6f196d149c",
      "7017c5ba1ffc467495aca2689e516f7d",
      "e0997460cc21428695a0c278c6691baf",
      "522443bef4904996b6361ea265c4c56f",
      "dfe044b67917466f971ba84a11956d5e",
      "70b2d0ba1c1d4102841fb963480de1c7",
      "7b158daacd754a40bc0a48fc9ea6fea2",
      "8904f61ff30741e488eacf0e49440f66",
      "685dee6f1e1f4c2983d2d0b8eb90ed00",
      "005155a4d62d48cbbaf3d69614b08d81",
      "d2779dfa620041e4b32a7731926a5982",
      "53048bf27cb24080b4cdf20379302223",
      "0b5bff7794a14a20964da70b87158c2c",
      "ec664e55ea16435590393ae1617cccea",
      "f10d62ef464a45a7935610d869c282e3",
      "5e7c09bc35db4a3a8b9847c6d8478883",
      "987ea331b617446facc81b08bab1f8c4",
      "446c5a687b0d43358ab036d43ce281c3",
      "d89e216f62ae4a9999da1a91dd5e48b9",
      "09d03e7e66f54cafacefbfeda5fd6e5c",
      "d58c680562a44bbd9252e7ec6eebc06c",
      "71ea2594fdd942acac1cc61055438544",
      "fecda4df301b437f9fbfb61a7b593dc0",
      "bcf6741d926248cb92acf627d6557d2b",
      "5bd9868b9bda4f68b500a43916e2d148",
      "4bc5e02035de44ad827c4f881fd75afc",
      "7d80033a955e4feb947ca9cea931d90b",
      "e975c796d80d498992a50f87a2b0105c",
      "028b2ff105904a19a9a3e8ebf66967bb",
      "10dbf2cbdb1943eda6a0acaf5da3fe85",
      "14d59c7acc5e4e07a289db44406a4851",
      "d9447df93d714907bc9c768eb4910352",
      "d4a9ace081bf488680a7e43e0eaed71d",
      "022a60cde19546bfa6ecfb4947615ad9",
      "10c01207d9ba4fe197dc80717fceecc0",
      "f4995936570d4ba1a65e9a66e410b505",
      "b4bf66303e61491385cd616076a11c04",
      "a24ab2bfe7a44263bf60936d6e53ec32",
      "59e2e8ecc9f84d57af7bf44f5bba5df7",
      "be2eb92aab8045a99fd19195c3546b60",
      "e6715db2b048434796e910952cb5eb62",
      "8de2335007ba4a6b9935fa0c514c9f6a",
      "493a4bbe8057437a8c8acf4d03f8dcb0",
      "20b03955acc74e238695717124705520",
      "a89f9507496b4cf8bdd63bdb9bff79c4",
      "9752a1f6c8b6488d9628b8e0c023f10f",
      "61a0bebc687341a7bb3352febc8d4986",
      "07e0ff9c82a444788c60edee70688ca7",
      "4427901f35e54cc48e08527bb402c22a",
      "bd9dafb825954091ba975d71ab8c89ea",
      "7ec0f07bfe51484da38c18dc66d77804",
      "03943afebc4d4b668b54c7a0fd014a37",
      "a7a6b38a76424d738146b6a5786cf2c8",
      "1d1aa4729784470584c0001c1a296008",
      "e0c68ac9b5b442eeb77e6d9ea3c1da42",
      "c858ef9fd9324ab0ab885d85e3c8582f",
      "627bc2899c994a0c96c5d43e89dc77ff",
      "0e2c2f21fa8041038151170992ecb848",
      "2d9bcbf7629a4671bf8755e790276eb7",
      "77a4edf6ab1848a6a6df20c1c07358c6",
      "acf2212d6bb44c729b63281a98377095",
      "0c7a72818da3454190bab7f30a29e249",
      "d865af915b8b4aaa8cec8d40f1f8351d"
     ]
    },
    "id": "s1UnzfID4Ai6",
    "outputId": "3e204e76-68fd-4111-f527-91f6e3b7a3ca"
   },
   "outputs": [
    {
     "data": {
      "application/vnd.jupyter.widget-view+json": {
       "model_id": "ba25f870d76d434880a0ec7da91c978d",
       "version_major": 2,
       "version_minor": 0
      },
      "text/plain": [
       "  0%|          | 0/1000 [00:00<?, ?it/s]"
      ]
     },
     "metadata": {},
     "output_type": "display_data"
    }
   ],
   "source": [
    "for m in methods:\n",
    "    metrics[m] = test(model=test_generator, \n",
    "                      criteria_list=[], \n",
    "                      dataset=data_list, \n",
    "                      idx_range=range(10000, 11000), \n",
    "                      callback=None,\n",
    "                      gt_pos=load_pos(m))"
   ]
  },
  {
   "cell_type": "code",
   "execution_count": 40,
   "metadata": {
    "id": "dQ7hdCtk5u6K"
   },
   "outputs": [],
   "source": [
    "mean_metrics = {key : list(map(lambda m: metrics[key][m].mean().item(), list(metrics[key].keys())[:-1])) for key in metrics}"
   ]
  },
  {
   "cell_type": "code",
   "execution_count": 41,
   "metadata": {
    "colab": {
     "base_uri": "https://localhost:8080/",
     "height": 313
    },
    "id": "OGyaCmLXTuvA",
    "outputId": "6c42d9f3-9869-4504-bc9c-d0eedaecfd90"
   },
   "outputs": [
    {
     "data": {
      "text/html": [
       "<style type=\"text/css\">\n",
       "</style>\n",
       "<table id=\"T_f664e_\">\n",
       "  <thead>\n",
       "    <tr>\n",
       "      <th class=\"blank level0\" >&nbsp;</th>\n",
       "      <th class=\"col_heading level0 col0\" >stress</th>\n",
       "      <th class=\"col_heading level0 col1\" >stress_spc</th>\n",
       "      <th class=\"col_heading level0 col2\" >xing</th>\n",
       "      <th class=\"col_heading level0 col3\" >xing_spc</th>\n",
       "      <th class=\"col_heading level0 col4\" >l1_angle</th>\n",
       "      <th class=\"col_heading level0 col5\" >l1_angle_spc</th>\n",
       "      <th class=\"col_heading level0 col6\" >edge</th>\n",
       "      <th class=\"col_heading level0 col7\" >edge_spc</th>\n",
       "      <th class=\"col_heading level0 col8\" >ring</th>\n",
       "      <th class=\"col_heading level0 col9\" >ring_spc</th>\n",
       "      <th class=\"col_heading level0 col10\" >tsne</th>\n",
       "      <th class=\"col_heading level0 col11\" >tsne_spc</th>\n",
       "      <th class=\"col_heading level0 col12\" >reso_score</th>\n",
       "      <th class=\"col_heading level0 col13\" >min_angle</th>\n",
       "    </tr>\n",
       "  </thead>\n",
       "  <tbody>\n",
       "    <tr>\n",
       "      <th id=\"T_f664e_level0_row0\" class=\"row_heading level0 row0\" >fa2</th>\n",
       "      <td id=\"T_f664e_row0_col0\" class=\"data row0 col0\" >350.95</td>\n",
       "      <td id=\"T_f664e_row0_col1\" class=\"data row0 col1\" >-4.25%</td>\n",
       "      <td id=\"T_f664e_row0_col2\" class=\"data row0 col2\" >29.91</td>\n",
       "      <td id=\"T_f664e_row0_col3\" class=\"data row0 col3\" >11.47%</td>\n",
       "      <td id=\"T_f664e_row0_col4\" class=\"data row0 col4\" >82.59</td>\n",
       "      <td id=\"T_f664e_row0_col5\" class=\"data row0 col5\" >10.65%</td>\n",
       "      <td id=\"T_f664e_row0_col6\" class=\"data row0 col6\" >0.18</td>\n",
       "      <td id=\"T_f664e_row0_col7\" class=\"data row0 col7\" >-5.16%</td>\n",
       "      <td id=\"T_f664e_row0_col8\" class=\"data row0 col8\" >268.23</td>\n",
       "      <td id=\"T_f664e_row0_col9\" class=\"data row0 col9\" >2.29%</td>\n",
       "      <td id=\"T_f664e_row0_col10\" class=\"data row0 col10\" >0.22</td>\n",
       "      <td id=\"T_f664e_row0_col11\" class=\"data row0 col11\" >9.99%</td>\n",
       "      <td id=\"T_f664e_row0_col12\" class=\"data row0 col12\" >0.59</td>\n",
       "      <td id=\"T_f664e_row0_col13\" class=\"data row0 col13\" >5.06</td>\n",
       "    </tr>\n",
       "  </tbody>\n",
       "</table>\n"
      ],
      "text/plain": [
       "<pandas.io.formats.style.Styler at 0x2b167e758dc0>"
      ]
     },
     "execution_count": 41,
     "metadata": {},
     "output_type": "execute_result"
    }
   ],
   "source": [
    "columns = [\n",
    "    'stress',\n",
    "    'stress_spc',\n",
    "    'xing',\n",
    "    'xing_spc',\n",
    "    'l1_angle',\n",
    "    'l1_angle_spc',\n",
    "    'edge',\n",
    "    'edge_spc',\n",
    "    'ring',\n",
    "    'ring_spc',\n",
    "    'tsne',\n",
    "    'tsne_spc',\n",
    "    'reso_score',\n",
    "    'min_angle'\n",
    "]\n",
    "df = pd.DataFrame(mean_metrics).set_axis(columns).T\n",
    "df.style.format({c: \"{:.2f}\" for c in columns if 'spc' not in c} | {c: \"{:.2%}\" for c in columns if 'spc' in c})"
   ]
  },
  {
   "cell_type": "markdown",
   "metadata": {
    "id": "L5S1HWnHOWIl"
   },
   "source": [
    "# Large Graph"
   ]
  },
  {
   "cell_type": "code",
   "execution_count": null,
   "metadata": {
    "id": "_pefPcV1OZdD"
   },
   "outputs": [],
   "source": [
    "scalability = pd.read_csv(f\"/__artifacts__/data/scalability.csv\", index_col=\"index\")\n",
    "scalability"
   ]
  },
  {
   "cell_type": "code",
   "execution_count": null,
   "metadata": {
    "id": "oMhWAsdvPnTX"
   },
   "outputs": [],
   "source": [
    "rescale = CanonicalizationByStress()\n",
    "stressfn = Stress()\n",
    "rotate = RotateByPrincipalComponents()"
   ]
  },
  {
   "cell_type": "code",
   "execution_count": null,
   "metadata": {
    "id": "LR83OcAaPID5"
   },
   "outputs": [],
   "source": [
    "stress_list = []\n",
    "spc_list = []\n",
    "pmds_list = np.load(\"layouts/new_large_graph/pmds.npy\", allow_pickle=True)\n",
    "gviz_list = np.load(\"layouts/new_large_graph/gviz.npy\", allow_pickle=True)\n",
    "with torch.no_grad():\n",
    "    for idx, col in tqdm(scalability.iterrows(), total=len(scalability)):\n",
    "        # if idx not in [406, 516]: continue\n",
    "        torch.cuda.empty_cache()\n",
    "        G = load_mtx(col['file'])\n",
    "        G.remove_edges_from(nx.selfloop_edges(G))\n",
    "        data = generate_data_list(G, \n",
    "                                sparse=data_config.sparse, \n",
    "                                pivot_mode=data_config.pivot,\n",
    "                                init_mode=data_config.init,\n",
    "                                edge_index=data_config.edge.index,\n",
    "                                edge_attr=data_config.edge.attr,\n",
    "                                pmds_list=pmds_list[idx],\n",
    "                                gviz_list=gviz_list[idx],\n",
    "                                device=device)\n",
    "        batch = Batch.from_data_list([data]).to(device)\n",
    "        # generator.train()\n",
    "        # generator(batch)\n",
    "        generator.eval()\n",
    "        pred = generator(batch)\n",
    "        pos = rotate(rescale(pred, batch), batch)\n",
    "        gt = rotate(rescale(batch.gt_pos, batch), batch)\n",
    "        stress = stressfn(pos, batch).item()\n",
    "        gt_stress = stressfn(gt, batch).item()\n",
    "        spc = (stress - gt_stress) / np.maximum(stress, gt_stress)\n",
    "        stress_list.append(stress)\n",
    "        spc_list.append(spc)\n",
    "\n",
    "        np.save(f\"/__artifacts__/gan_result/data/scalability_{idx}.npy\", pos.cpu().numpy())\n",
    "        graph_attr = dict(node_size=1, \n",
    "                        with_labels=False, \n",
    "                        labels=dict(zip(list(G.nodes), map(lambda n: n if type(n) is int else n[1:], list(G.nodes)))),\n",
    "                        font_color=\"white\", \n",
    "                        font_weight=\"bold\",\n",
    "                        font_size=12,\n",
    "                        width=0.1)\n",
    "\n",
    "        # gt_pos = pickle.load(open(f\"/__artifacts__/data/scalability_{idx}_gt.pkl\", \"rb\"))\n",
    "\n",
    "        plt.figure(figsize=[12, 9])\n",
    "        nx.draw(G, pos=gt.cpu().numpy(), node_color='orange', **graph_attr)\n",
    "        plt.title(f\"neato: large_{idx}\")\n",
    "        plt.axis(\"equal\")\n",
    "        plt.savefig(f\"/__artifacts__/gan_result/output/{idx}_{col['name']}_{col['n']}_{spc}_nx.png\", dpi=300)\n",
    "        plt.show()\n",
    "\n",
    "        plt.figure(figsize=[12, 9])\n",
    "        graph_vis(G, pos.cpu().numpy(), **graph_attr)\n",
    "        plt.title(f\"dgd: large_{idx}, spc={spc:.2%}\")\n",
    "        plt.axis(\"equal\")\n",
    "        plt.savefig(f\"/__artifacts__/gan_result/output/{idx}_{col['name']}_{col['n']}_{spc}_dgd.png\", dpi=300)\n",
    "        plt.show()"
   ]
  },
  {
   "cell_type": "code",
   "execution_count": null,
   "metadata": {
    "id": "gRXTewkYeuq1"
   },
   "outputs": [],
   "source": []
  }
 ],
 "metadata": {
  "accelerator": "GPU",
  "colab": {
   "collapsed_sections": [
    "w_p3OD0woiSM",
    "DR6-vYtr_i_P",
    "innqkwvH_ydD",
    "f-ODE2k8BFV6",
    "N39dDHraedM6"
   ],
   "machine_shape": "hm",
   "name": "GAN(gan=rgan,data=best(xing,stress),dis=deep,share=16,embed=0,gp=0).ipynb",
   "provenance": []
  },
  "kernelspec": {
   "display_name": "DeepGD",
   "language": "python",
   "name": "deepgd"
  },
  "language_info": {
   "codemirror_mode": {
    "name": "ipython",
    "version": 3
   },
   "file_extension": ".py",
   "mimetype": "text/x-python",
   "name": "python",
   "nbconvert_exporter": "python",
   "pygments_lexer": "ipython3",
   "version": "3.9.7"
  },
  "widgets": {
   "application/vnd.jupyter.widget-state+json": {
    "state": {
     "018d3d4a546b4e8788997e2bc8f0ce24": {
      "model_module": "@jupyter-widgets/output",
      "model_module_version": "1.0.0",
      "model_name": "OutputModel",
      "state": {
       "layout": "IPY_MODEL_4da2433ee52b4525b58d360bd00a2a76",
       "outputs": [
        {
         "data": {
          "text/html": "<div>\n<style scoped>\n    .dataframe tbody tr th:only-of-type {\n        vertical-align: middle;\n    }\n\n    .dataframe tbody tr th {\n        vertical-align: top;\n    }\n\n    .dataframe thead th {\n        text-align: right;\n    }\n</style>\n<table border=\"1\" class=\"dataframe\">\n  <thead>\n    <tr style=\"text-align: right;\">\n      <th></th>\n      <th>val_stress</th>\n      <th>val_stress_spc</th>\n      <th>val_xing</th>\n      <th>val_xing_spc</th>\n      <th>dis_loss</th>\n    </tr>\n  </thead>\n  <tbody>\n    <tr>\n      <th>epoch 863</th>\n      <td>386.06</td>\n      <td>10.82%</td>\n      <td>33.71</td>\n      <td>22.96%</td>\n      <td>1.12e-01</td>\n    </tr>\n  </tbody>\n</table>\n</div>",
          "text/plain": "          val_stress val_stress_spc val_xing val_xing_spc  dis_loss\nepoch 863     386.06         10.82%    33.71       22.96%  1.12e-01"
         },
         "metadata": {},
         "output_type": "display_data"
        }
       ]
      }
     },
     "02418ff1d46b40b1b5c67acac8313ee4": {
      "model_module": "@jupyter-widgets/base",
      "model_module_version": "1.2.0",
      "model_name": "LayoutModel",
      "state": {}
     },
     "14bc5b061b294012b6479421c3587cc1": {
      "model_module": "@jupyter-widgets/controls",
      "model_module_version": "1.5.0",
      "model_name": "HTMLModel",
      "state": {
       "layout": "IPY_MODEL_4a6b7fc352894967a89553bb62efa8e5",
       "style": "IPY_MODEL_2c9ab0e934df49389cc41e58e8ef9cc0",
       "value": "100%"
      }
     },
     "15166f971c3241d2af4dc5f17b91d22a": {
      "model_module": "@jupyter-widgets/controls",
      "model_module_version": "1.5.0",
      "model_name": "HBoxModel",
      "state": {
       "children": [
        "IPY_MODEL_14bc5b061b294012b6479421c3587cc1",
        "IPY_MODEL_90598f554b894c9e97b13c00e42f36ca",
        "IPY_MODEL_74a06e082fc04a0d8c2e2b63bde4d5f5"
       ],
       "layout": "IPY_MODEL_23b1dc5ca330413b8b3438e2276241bf"
      }
     },
     "16b4da57780f4373b0198da10dd5f55d": {
      "model_module": "@jupyter-widgets/controls",
      "model_module_version": "1.5.0",
      "model_name": "DescriptionStyleModel",
      "state": {
       "description_width": ""
      }
     },
     "1ed2eff187794be6a26b758af7e8ace3": {
      "model_module": "@jupyter-widgets/base",
      "model_module_version": "1.2.0",
      "model_name": "LayoutModel",
      "state": {}
     },
     "1f467ea655d8453188f6fde580153534": {
      "model_module": "@jupyter-widgets/controls",
      "model_module_version": "1.5.0",
      "model_name": "DescriptionStyleModel",
      "state": {
       "description_width": ""
      }
     },
     "23b1dc5ca330413b8b3438e2276241bf": {
      "model_module": "@jupyter-widgets/base",
      "model_module_version": "1.2.0",
      "model_name": "LayoutModel",
      "state": {}
     },
     "23caa4b5908243f19ed544489416c491": {
      "model_module": "@jupyter-widgets/controls",
      "model_module_version": "1.5.0",
      "model_name": "HTMLModel",
      "state": {
       "layout": "IPY_MODEL_ea0432c682b84dc8948f342ce86c4b2d",
       "style": "IPY_MODEL_1f467ea655d8453188f6fde580153534",
       "value": "100%"
      }
     },
     "26fc83196b1c4979ae60df92be2009eb": {
      "model_module": "@jupyter-widgets/controls",
      "model_module_version": "1.5.0",
      "model_name": "FloatProgressModel",
      "state": {
       "bar_style": "success",
       "layout": "IPY_MODEL_9a164adee7b34ca4bdffa9f96e7dbdbf",
       "max": 1000,
       "style": "IPY_MODEL_fd07fe032ae74a7d85335c110d0566ae",
       "value": 1000
      }
     },
     "271e328cc3454e4a8467a83b1cc8b74a": {
      "model_module": "@jupyter-widgets/base",
      "model_module_version": "1.2.0",
      "model_name": "LayoutModel",
      "state": {}
     },
     "279fc244cf114de4820f3a25c32d4ac4": {
      "model_module": "@jupyter-widgets/controls",
      "model_module_version": "1.5.0",
      "model_name": "HBoxModel",
      "state": {
       "children": [
        "IPY_MODEL_cdb52673e8fe4c27a7d8d21655c329f9"
       ],
       "layout": "IPY_MODEL_5b430adff6c843ab8fd2c83b1bb44452"
      }
     },
     "2c9ab0e934df49389cc41e58e8ef9cc0": {
      "model_module": "@jupyter-widgets/controls",
      "model_module_version": "1.5.0",
      "model_name": "DescriptionStyleModel",
      "state": {
       "description_width": ""
      }
     },
     "33a86ab4d93045deb2078c8e3a59a3cd": {
      "model_module": "@jupyter-widgets/base",
      "model_module_version": "1.2.0",
      "model_name": "LayoutModel",
      "state": {}
     },
     "3d3ec91153874e978f3379815e91749d": {
      "model_module": "@jupyter-widgets/base",
      "model_module_version": "1.2.0",
      "model_name": "LayoutModel",
      "state": {}
     },
     "40daec3a09e7446091404ca5bdd0489b": {
      "model_module": "@jupyter-widgets/base",
      "model_module_version": "1.2.0",
      "model_name": "LayoutModel",
      "state": {}
     },
     "410adac1cc6f48e7b404f562762d1a88": {
      "model_module": "@jupyter-widgets/controls",
      "model_module_version": "1.5.0",
      "model_name": "FloatProgressModel",
      "state": {
       "layout": "IPY_MODEL_c84ebb9be4ac40319fd78c8333f31480",
       "max": 834,
       "style": "IPY_MODEL_a007c7d970604bc58378e221c1b7a488",
       "value": 25
      }
     },
     "46523c03d8e44a9aaa778571a06371b6": {
      "model_module": "@jupyter-widgets/controls",
      "model_module_version": "1.5.0",
      "model_name": "HTMLModel",
      "state": {
       "layout": "IPY_MODEL_50f8d029c0e141f7b6cd922d964473dc",
       "style": "IPY_MODEL_a6f9c81e67014d92afcb0d0d3989f5ea",
       "value": " 1000/1000 [00:47&lt;00:00, 20.86it/s]"
      }
     },
     "49cee2fd5ba24964b22bf7d00e92aa99": {
      "model_module": "@jupyter-widgets/controls",
      "model_module_version": "1.5.0",
      "model_name": "ProgressStyleModel",
      "state": {
       "description_width": ""
      }
     },
     "4a6b7fc352894967a89553bb62efa8e5": {
      "model_module": "@jupyter-widgets/base",
      "model_module_version": "1.2.0",
      "model_name": "LayoutModel",
      "state": {}
     },
     "4da2433ee52b4525b58d360bd00a2a76": {
      "model_module": "@jupyter-widgets/base",
      "model_module_version": "1.2.0",
      "model_name": "LayoutModel",
      "state": {}
     },
     "50497ccf19ab4d40ace03e0e56c3a602": {
      "model_module": "@jupyter-widgets/controls",
      "model_module_version": "1.5.0",
      "model_name": "HTMLModel",
      "state": {
       "layout": "IPY_MODEL_02418ff1d46b40b1b5c67acac8313ee4",
       "style": "IPY_MODEL_d22ce5c10b4d4ea899a59918dfebc65d",
       "value": "100%"
      }
     },
     "50f8d029c0e141f7b6cd922d964473dc": {
      "model_module": "@jupyter-widgets/base",
      "model_module_version": "1.2.0",
      "model_name": "LayoutModel",
      "state": {}
     },
     "56b603178cdd4f3f9872f9791c35530a": {
      "model_module": "@jupyter-widgets/output",
      "model_module_version": "1.0.0",
      "model_name": "OutputModel",
      "state": {
       "layout": "IPY_MODEL_f5edecc919cf4241bae9a2f1012cf689",
       "outputs": [
        {
         "data": {
          "application/vnd.jupyter.widget-view+json": {
           "model_id": "aa3c958b80de4af7b57fe54f3523d7d2",
           "version_major": 2,
           "version_minor": 0
          },
          "text/plain": "  0%|          | 0/834 [00:00<?, ?it/s]"
         },
         "metadata": {},
         "output_type": "display_data"
        }
       ]
      }
     },
     "5b430adff6c843ab8fd2c83b1bb44452": {
      "model_module": "@jupyter-widgets/base",
      "model_module_version": "1.2.0",
      "model_name": "LayoutModel",
      "state": {
       "height": "500px",
       "overflow_y": "auto"
      }
     },
     "60c82346be664a4580dc45f416b3a7b1": {
      "model_module": "@jupyter-widgets/controls",
      "model_module_version": "1.5.0",
      "model_name": "HBoxModel",
      "state": {
       "children": [
        "IPY_MODEL_6b39b0e7aeff46379b226ea1d321577d"
       ],
       "layout": "IPY_MODEL_694c32f2dd3148489149c9f25d44d0b5"
      }
     },
     "694c32f2dd3148489149c9f25d44d0b5": {
      "model_module": "@jupyter-widgets/base",
      "model_module_version": "1.2.0",
      "model_name": "LayoutModel",
      "state": {
       "height": "500px",
       "overflow_y": "auto"
      }
     },
     "6b39b0e7aeff46379b226ea1d321577d": {
      "model_module": "@jupyter-widgets/output",
      "model_module_version": "1.0.0",
      "model_name": "OutputModel",
      "state": {
       "layout": "IPY_MODEL_8a47eee4c42347aebd3798b1ec1b6d03",
       "outputs": [
        {
         "name": "stdout",
         "output_type": "stream",
         "text": "[863] stress=386.06(10.82%) xing=33.71(22.96%)\n"
        }
       ]
      }
     },
     "6c63d14acdd147a1a43d77b9d40ee0fe": {
      "model_module": "@jupyter-widgets/base",
      "model_module_version": "1.2.0",
      "model_name": "LayoutModel",
      "state": {}
     },
     "6f8e34a92214491c893727a2c1dddc53": {
      "model_module": "@jupyter-widgets/controls",
      "model_module_version": "1.5.0",
      "model_name": "HTMLModel",
      "state": {
       "layout": "IPY_MODEL_271e328cc3454e4a8467a83b1cc8b74a",
       "style": "IPY_MODEL_7394d58658b349a0bd82f5492c4fb5b6",
       "value": "[epoch 863/None]:   3%"
      }
     },
     "70a7abe160374600b2d5fb983e292862": {
      "model_module": "@jupyter-widgets/controls",
      "model_module_version": "1.5.0",
      "model_name": "HTMLModel",
      "state": {
       "layout": "IPY_MODEL_cda713a6af984a37ace7df62741d0bf7",
       "style": "IPY_MODEL_e0bfa46cb9314db09534ea008563ef95",
       "value": " 1000/1000 [00:48&lt;00:00, 21.03it/s]"
      }
     },
     "7394d58658b349a0bd82f5492c4fb5b6": {
      "model_module": "@jupyter-widgets/controls",
      "model_module_version": "1.5.0",
      "model_name": "DescriptionStyleModel",
      "state": {
       "description_width": ""
      }
     },
     "74a06e082fc04a0d8c2e2b63bde4d5f5": {
      "model_module": "@jupyter-widgets/controls",
      "model_module_version": "1.5.0",
      "model_name": "HTMLModel",
      "state": {
       "layout": "IPY_MODEL_40daec3a09e7446091404ca5bdd0489b",
       "style": "IPY_MODEL_16b4da57780f4373b0198da10dd5f55d",
       "value": " 11531/11531 [00:00&lt;00:00, 77701.74it/s]"
      }
     },
     "8a47eee4c42347aebd3798b1ec1b6d03": {
      "model_module": "@jupyter-widgets/base",
      "model_module_version": "1.2.0",
      "model_name": "LayoutModel",
      "state": {}
     },
     "90598f554b894c9e97b13c00e42f36ca": {
      "model_module": "@jupyter-widgets/controls",
      "model_module_version": "1.5.0",
      "model_name": "FloatProgressModel",
      "state": {
       "bar_style": "success",
       "layout": "IPY_MODEL_dc5fe5e7f29747e7b73e861e5b892901",
       "max": 11531,
       "style": "IPY_MODEL_d24f3ff9e37b400092ded256e30fcdeb",
       "value": 11531
      }
     },
     "93820dc575c04bac9d764d3690e10586": {
      "model_module": "@jupyter-widgets/base",
      "model_module_version": "1.2.0",
      "model_name": "LayoutModel",
      "state": {}
     },
     "9a164adee7b34ca4bdffa9f96e7dbdbf": {
      "model_module": "@jupyter-widgets/base",
      "model_module_version": "1.2.0",
      "model_name": "LayoutModel",
      "state": {}
     },
     "9bedfcdaa68e45bf8cd5916cd1469973": {
      "model_module": "@jupyter-widgets/controls",
      "model_module_version": "1.5.0",
      "model_name": "HBoxModel",
      "state": {
       "children": [
        "IPY_MODEL_50497ccf19ab4d40ace03e0e56c3a602",
        "IPY_MODEL_aaf1e342d0dc4a65a697515244124aba",
        "IPY_MODEL_46523c03d8e44a9aaa778571a06371b6"
       ],
       "layout": "IPY_MODEL_6c63d14acdd147a1a43d77b9d40ee0fe"
      }
     },
     "a007c7d970604bc58378e221c1b7a488": {
      "model_module": "@jupyter-widgets/controls",
      "model_module_version": "1.5.0",
      "model_name": "ProgressStyleModel",
      "state": {
       "description_width": ""
      }
     },
     "a6f9c81e67014d92afcb0d0d3989f5ea": {
      "model_module": "@jupyter-widgets/controls",
      "model_module_version": "1.5.0",
      "model_name": "DescriptionStyleModel",
      "state": {
       "description_width": ""
      }
     },
     "aa3c958b80de4af7b57fe54f3523d7d2": {
      "model_module": "@jupyter-widgets/controls",
      "model_module_version": "1.5.0",
      "model_name": "HBoxModel",
      "state": {
       "children": [
        "IPY_MODEL_6f8e34a92214491c893727a2c1dddc53",
        "IPY_MODEL_410adac1cc6f48e7b404f562762d1a88",
        "IPY_MODEL_aef16c3e6fb34371bd62935cf7617fe9"
       ],
       "layout": "IPY_MODEL_3d3ec91153874e978f3379815e91749d"
      }
     },
     "aaf1e342d0dc4a65a697515244124aba": {
      "model_module": "@jupyter-widgets/controls",
      "model_module_version": "1.5.0",
      "model_name": "FloatProgressModel",
      "state": {
       "bar_style": "success",
       "layout": "IPY_MODEL_aba257686e7a412cbe224674d09a9af4",
       "max": 1000,
       "style": "IPY_MODEL_49cee2fd5ba24964b22bf7d00e92aa99",
       "value": 1000
      }
     },
     "aba257686e7a412cbe224674d09a9af4": {
      "model_module": "@jupyter-widgets/base",
      "model_module_version": "1.2.0",
      "model_name": "LayoutModel",
      "state": {}
     },
     "aef16c3e6fb34371bd62935cf7617fe9": {
      "model_module": "@jupyter-widgets/controls",
      "model_module_version": "1.5.0",
      "model_name": "HTMLModel",
      "state": {
       "layout": "IPY_MODEL_93820dc575c04bac9d764d3690e10586",
       "style": "IPY_MODEL_c6009c31b8834fc1ad78a73302111339",
       "value": " 25/834 [00:04&lt;02:23,  5.62it/s]"
      }
     },
     "ba25f870d76d434880a0ec7da91c978d": {
      "model_module": "@jupyter-widgets/controls",
      "model_module_version": "1.5.0",
      "model_name": "HBoxModel",
      "state": {
       "children": [
        "IPY_MODEL_23caa4b5908243f19ed544489416c491",
        "IPY_MODEL_26fc83196b1c4979ae60df92be2009eb",
        "IPY_MODEL_70a7abe160374600b2d5fb983e292862"
       ],
       "layout": "IPY_MODEL_d83854d04e6d466b85c539e7cdd4820a"
      }
     },
     "c6009c31b8834fc1ad78a73302111339": {
      "model_module": "@jupyter-widgets/controls",
      "model_module_version": "1.5.0",
      "model_name": "DescriptionStyleModel",
      "state": {
       "description_width": ""
      }
     },
     "c84ebb9be4ac40319fd78c8333f31480": {
      "model_module": "@jupyter-widgets/base",
      "model_module_version": "1.2.0",
      "model_name": "LayoutModel",
      "state": {}
     },
     "cda713a6af984a37ace7df62741d0bf7": {
      "model_module": "@jupyter-widgets/base",
      "model_module_version": "1.2.0",
      "model_name": "LayoutModel",
      "state": {}
     },
     "cdb52673e8fe4c27a7d8d21655c329f9": {
      "model_module": "@jupyter-widgets/output",
      "model_module_version": "1.0.0",
      "model_name": "OutputModel",
      "state": {
       "layout": "IPY_MODEL_33a86ab4d93045deb2078c8e3a59a3cd",
       "outputs": [
        {
         "data": {
          "image/png": "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\n",
          "text/plain": "<Figure size 432x288 with 1 Axes>"
         },
         "metadata": {},
         "output_type": "display_data"
        }
       ]
      }
     },
     "ce1e48770e7044988dc203b79f15ad29": {
      "model_module": "@jupyter-widgets/base",
      "model_module_version": "1.2.0",
      "model_name": "LayoutModel",
      "state": {}
     },
     "d22ce5c10b4d4ea899a59918dfebc65d": {
      "model_module": "@jupyter-widgets/controls",
      "model_module_version": "1.5.0",
      "model_name": "DescriptionStyleModel",
      "state": {
       "description_width": ""
      }
     },
     "d24f3ff9e37b400092ded256e30fcdeb": {
      "model_module": "@jupyter-widgets/controls",
      "model_module_version": "1.5.0",
      "model_name": "ProgressStyleModel",
      "state": {
       "description_width": ""
      }
     },
     "d83854d04e6d466b85c539e7cdd4820a": {
      "model_module": "@jupyter-widgets/base",
      "model_module_version": "1.2.0",
      "model_name": "LayoutModel",
      "state": {}
     },
     "dc5fe5e7f29747e7b73e861e5b892901": {
      "model_module": "@jupyter-widgets/base",
      "model_module_version": "1.2.0",
      "model_name": "LayoutModel",
      "state": {}
     },
     "e0bfa46cb9314db09534ea008563ef95": {
      "model_module": "@jupyter-widgets/controls",
      "model_module_version": "1.5.0",
      "model_name": "DescriptionStyleModel",
      "state": {
       "description_width": ""
      }
     },
     "ea0432c682b84dc8948f342ce86c4b2d": {
      "model_module": "@jupyter-widgets/base",
      "model_module_version": "1.2.0",
      "model_name": "LayoutModel",
      "state": {}
     },
     "f5edecc919cf4241bae9a2f1012cf689": {
      "model_module": "@jupyter-widgets/base",
      "model_module_version": "1.2.0",
      "model_name": "LayoutModel",
      "state": {}
     },
     "f959d610a7b1498f99a687ecd890714c": {
      "model_module": "@jupyter-widgets/controls",
      "model_module_version": "1.5.0",
      "model_name": "VBoxModel",
      "state": {
       "children": [
        "IPY_MODEL_56b603178cdd4f3f9872f9791c35530a",
        "IPY_MODEL_018d3d4a546b4e8788997e2bc8f0ce24"
       ],
       "layout": "IPY_MODEL_ce1e48770e7044988dc203b79f15ad29"
      }
     },
     "fd07fe032ae74a7d85335c110d0566ae": {
      "model_module": "@jupyter-widgets/controls",
      "model_module_version": "1.5.0",
      "model_name": "ProgressStyleModel",
      "state": {
       "description_width": ""
      }
     },
     "ff1144ea2dee4fa2855d5a3eab7143f6": {
      "model_module": "@jupyter-widgets/controls",
      "model_module_version": "1.5.0",
      "model_name": "TabModel",
      "state": {
       "_titles": {
        "0": "status",
        "1": "plot",
        "2": "log"
       },
       "children": [
        "IPY_MODEL_f959d610a7b1498f99a687ecd890714c",
        "IPY_MODEL_279fc244cf114de4820f3a25c32d4ac4",
        "IPY_MODEL_60c82346be664a4580dc45f416b3a7b1"
       ],
       "layout": "IPY_MODEL_1ed2eff187794be6a26b758af7e8ace3"
      }
     }
    },
    "version_major": 2,
    "version_minor": 0
   }
  }
 },
 "nbformat": 4,
 "nbformat_minor": 4
}
