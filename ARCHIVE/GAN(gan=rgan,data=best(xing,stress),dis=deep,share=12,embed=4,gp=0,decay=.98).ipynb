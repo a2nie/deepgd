{
 "cells": [
  {
   "cell_type": "markdown",
   "metadata": {
    "id": "wZtYFEhHoBGp"
   },
   "source": [
    "# Import libraries"
   ]
  },
  {
   "cell_type": "code",
   "execution_count": 1,
   "metadata": {
    "id": "KJPfzpxLQI5O"
   },
   "outputs": [],
   "source": [
    "%load_ext autoreload\n",
    "%autoreload 2\n",
    "from deepgd import *"
   ]
  },
  {
   "cell_type": "markdown",
   "metadata": {
    "id": "z4eBEyB1oaJe"
   },
   "source": [
    "# Config"
   ]
  },
  {
   "cell_type": "code",
   "execution_count": 2,
   "metadata": {
    "id": "Q_-MLFhpNvxF"
   },
   "outputs": [],
   "source": [
    "cuda_idx = 0\n",
    "canonicalization = Canonicalization(normalize=Standardization(norm_ord=1),\n",
    "                                    scale=False)\n",
    "config = StaticConfig({\n",
    "    \"name\": 'GAN(gan=rgan,data=best(xing,stress),dis=deep,share=12,embed=4,gp=0,decay=.98)',\n",
    "    \"uid\": None,\n",
    "    \"link\": None,\n",
    "    \"generator\": {\n",
    "        \"params\": {\n",
    "            \"num_blocks\": 9,\n",
    "            \"normalize\": canonicalization\n",
    "        },\n",
    "        \"pretrained\": {\n",
    "            \"name\": None,\n",
    "            \"epoch\": -1,\n",
    "        },\n",
    "        \"optim\": torch.optim.AdamW,\n",
    "        \"lr\" : {\n",
    "            \"initial\": 1e-3,\n",
    "            \"decay\": 0.98,\n",
    "        },\n",
    "    },\n",
    "    \"discriminator\": {\n",
    "        \"params\": {\n",
    "            \"conv\": [2, 16, 16, 16],\n",
    "            \"dense\": [2],\n",
    "            \"shared_depth\": 12,\n",
    "            \"enet_depth\": 4,\n",
    "            \"enet_width\": 64,\n",
    "            \"aggr\": \"add\",\n",
    "            \"normalize\": canonicalization\n",
    "        },\n",
    "        \"pretrained\": {\n",
    "            \"name\": None,\n",
    "            \"epoch\": -1,\n",
    "        },\n",
    "        \"optim\": torch.optim.AdamW,\n",
    "        \"lr\" : {\n",
    "            \"initial\": 1e-3,\n",
    "            \"decay\": 0.98,\n",
    "        },\n",
    "        \"noise\": {\n",
    "            \"std\": 0,\n",
    "            \"decay\": 0.95,\n",
    "        },\n",
    "        \"repeat\": 1,\n",
    "        \"complete\": True,\n",
    "        \"adaptive\": True\n",
    "    },\n",
    "    \"alternate\": \"epoch\",\n",
    "    \"batchsize\": 24,\n",
    "    \"epoch\": {\n",
    "        \"start\": -1,\n",
    "        \"end\": None,\n",
    "    },\n",
    "    \"log_interval\": 1,\n",
    "    \"test\": {\n",
    "        \"name\": \"test\",\n",
    "        \"epoch\": -1,\n",
    "    },\n",
    "    \"gan_flavor\": \"rgan\",\n",
    "    \"gp_weight\": 0,\n",
    "})\n",
    "data_config = StaticConfig({\n",
    "    \"sparse\": False,\n",
    "    \"pivot\": None,\n",
    "    \"init\": \"pmds\",\n",
    "    \"edge\": {\n",
    "        \"index\": \"full_edge_index\",\n",
    "        \"attr\": \"full_edge_attr\",\n",
    "    },\n",
    "})\n",
    "loss_fns = {\n",
    "    Stress(): 1\n",
    "}\n",
    "ctrler_params = {\n",
    "    \"tau\": 0.95,\n",
    "    \"beta\": 1,\n",
    "    \"exploit_rate\": 0.5,\n",
    "    \"warmup\": 2,\n",
    "}\n",
    "paths = StaticConfig({\n",
    "    \"root\": \"artifacts\",\n",
    "    \"checkpoints\": lambda: f\"{paths.root}/checkpoints/{config.name}\",\n",
    "    \"gen_pretrain\": lambda: f\"{paths.root}/checkpoints/{config.generator.pretrained.name}\",\n",
    "    \"dis_pretrain\": lambda: f\"{paths.root}/checkpoints/{config.discriminator.pretrained.name}\",\n",
    "    \"tensorboard\": lambda: f\"{paths.root}/tensorboards/{config.name}\",\n",
    "    \"visualization\": lambda: f\"{paths.root}/visualizations/{config.name}_{config.test.name}\",\n",
    "    \"log\": lambda: f\"{paths.root}/logs/{config.name}.log\",\n",
    "    \"metrics\": lambda suffix: f\"{paths.root}/metrics/{config.name}_{suffix}.pickle\",\n",
    "})"
   ]
  },
  {
   "cell_type": "code",
   "execution_count": 3,
   "metadata": {
    "id": "mdMEAbH10Qaq"
   },
   "outputs": [],
   "source": [
    "if \" \" in config.name:\n",
    "    raise Exception(\"Space is not allowed in model name.\")"
   ]
  },
  {
   "cell_type": "markdown",
   "metadata": {
    "id": "WynW4ZAdBhep"
   },
   "source": [
    "# Prepare"
   ]
  },
  {
   "cell_type": "markdown",
   "metadata": {
    "id": "DR6-vYtr_i_P"
   },
   "source": [
    "## Get log command"
   ]
  },
  {
   "cell_type": "code",
   "execution_count": 4,
   "metadata": {
    "colab": {
     "base_uri": "https://localhost:8080/"
    },
    "id": "9-QpinlslcTO",
    "outputId": "48ae3716-212c-4d46-9efb-b7b4070f73de"
   },
   "outputs": [
    {
     "name": "stdout",
     "output_type": "stream",
     "text": [
      "cd /users/PAS0027/osu10203/deepgd && tail -n1000 -f 'artifacts/logs/GAN(gan=rgan,data=best(xing,stress),dis=deep,share=12,embed=4,gp=0,decay=.98).log'\n"
     ]
    }
   ],
   "source": [
    "print(f\"cd {os.getcwd()} && tail -n1000 -f '{paths.log()}'\")"
   ]
  },
  {
   "cell_type": "code",
   "execution_count": 5,
   "metadata": {},
   "outputs": [
    {
     "name": "stdout",
     "output_type": "stream",
     "text": [
      "tensorboard dev upload --logdir 'artifacts/tensorboards/GAN(gan=rgan,data=best(xing,stress),dis=deep,share=12,embed=4,gp=0,decay=.98)'\n"
     ]
    }
   ],
   "source": [
    "print(f\"tensorboard dev upload --logdir '{paths.tensorboard()}'\")"
   ]
  },
  {
   "cell_type": "markdown",
   "metadata": {
    "id": "innqkwvH_ydD"
   },
   "source": [
    "## Set globals"
   ]
  },
  {
   "cell_type": "code",
   "execution_count": 6,
   "metadata": {
    "id": "Qjq7JlSZlkQR"
   },
   "outputs": [],
   "source": [
    "if cuda_idx is not None and torch.cuda.is_available():\n",
    "    device = f'cuda:{cuda_idx}'\n",
    "    pynvml.nvmlInit()\n",
    "    cuda = pynvml.nvmlDeviceGetHandleByIndex(cuda_idx)\n",
    "else:\n",
    "    device = 'cpu'\n",
    "    cuda =  None\n",
    "np.set_printoptions(precision=2)\n",
    "warnings.filterwarnings(\"ignore\", category=RuntimeWarning)"
   ]
  },
  {
   "cell_type": "markdown",
   "metadata": {
    "id": "0da286l_ApEL"
   },
   "source": [
    "## Load data"
   ]
  },
  {
   "cell_type": "code",
   "execution_count": 7,
   "metadata": {
    "colab": {
     "base_uri": "https://localhost:8080/"
    },
    "id": "RFuSHiZJMU4x",
    "outputId": "54065609-aaea-4536-d79c-73bc73b3f576"
   },
   "outputs": [
    {
     "name": "stdout",
     "output_type": "stream",
     "text": [
      "Load from 'cache/G_list.pickle'\n",
      "Load from 'cache/generate_data_list(list,sparse=False,pivot_mode=None,init_mode=pmds,edge_index=full_edge_index,edge_attr=full_edge_attr,pmds_list=ndarray,gviz_list=ndarray,noisy_layout=True,device=cpu).pickle'\n"
     ]
    },
    {
     "name": "stderr",
     "output_type": "stream",
     "text": [
      "/users/PAS0027/osu10203/.conda/envs/deepgd/lib/python3.9/site-packages/torch_geometric/deprecation.py:13: UserWarning: 'data.DataLoader' is deprecated, use 'loader.DataLoader' instead\n",
      "  warnings.warn(out)\n"
     ]
    }
   ],
   "source": [
    "G_list = load_G_list(data_path='data/rome', index_file='data_index.txt', cache='G_list', cache_prefix='cache/')\n",
    "data_list = generate_data_list(G_list, \n",
    "                               sparse=data_config.sparse, \n",
    "                               pivot_mode=data_config.pivot,\n",
    "                               init_mode=data_config.init,\n",
    "                               edge_index=data_config.edge.index,\n",
    "                               edge_attr=data_config.edge.attr,\n",
    "                               pmds_list=np.load('layouts/rome/pmds.npy', allow_pickle=True),\n",
    "                               gviz_list=np.load('layouts/rome/gviz.npy', allow_pickle=True),\n",
    "                               noisy_layout=True,\n",
    "                               device='cpu', \n",
    "                               cache=True,\n",
    "                               cache_prefix='cache/')\n",
    "train_loader = LazyDeviceMappingDataLoader(data_list[:10000], batch_size=config.batchsize, shuffle=True, device=device)\n",
    "val_loader = LazyDeviceMappingDataLoader(data_list[11000:], batch_size=config.batchsize, shuffle=False, device=device)"
   ]
  },
  {
   "cell_type": "code",
   "execution_count": 8,
   "metadata": {
    "id": "djd1pLt2OxZq"
   },
   "outputs": [],
   "source": [
    "def draw_layout(G, method, draw=True):\n",
    "    if method == 'fa2':\n",
    "        layout = get_fa2_layout(G)\n",
    "    else:\n",
    "        try:\n",
    "            fn = getattr(nx.drawing.layout, f'{method}_layout')\n",
    "            layout = fn(G)\n",
    "        except:\n",
    "            layout = nx.drawing.nx_agraph.graphviz_layout(G, prog=method)\n",
    "    if draw:\n",
    "        nx.draw(G, pos=layout)\n",
    "    return layout"
   ]
  },
  {
   "cell_type": "code",
   "execution_count": 9,
   "metadata": {
    "id": "2vBBw77lR7Em"
   },
   "outputs": [],
   "source": [
    "methods = ['neato', 'dot', 'fdp', 'sfdp', 'twopi', 'circo', 'shell', 'spring', 'circular', 'spectral', 'kamada_kawai', 'fa2', 'pmds']"
   ]
  },
  {
   "cell_type": "code",
   "execution_count": 10,
   "metadata": {
    "id": "dx6VVA9XIc2O"
   },
   "outputs": [],
   "source": [
    "from functools import lru_cache\n",
    "\n",
    "@lru_cache(maxsize=None)\n",
    "def load_pos(method):\n",
    "    return np.load(f'layouts/rome/{method}.npy', allow_pickle=True)"
   ]
  },
  {
   "cell_type": "code",
   "execution_count": 11,
   "metadata": {
    "colab": {
     "base_uri": "https://localhost:8080/",
     "height": 1000,
     "referenced_widgets": [
      "05a37aeeb20049dfa2f97287b3990556",
      "a75afae3adfd4810a0b0991a062535ee",
      "a24ae105ed124595992f7e2e5f909247",
      "01b4cabaf8004dd4b9269b4e6889c498",
      "f3c7c84f2b314bd8b97a7358deaf4fa1",
      "35e4a83e692b4a7bafb46fdf192b2586",
      "62847b5e2678459f845159eef6d4feab",
      "143e81f00313436dacfa246a57108944",
      "e05833f11803400b95ff22246cdc8f2b",
      "53aeede91e074378b5d7f626165655ee",
      "79a43768c1794a10a788a49e5883aa2c"
     ]
    },
    "id": "MSmP-jem9I0X",
    "outputId": "c698f0bf-e96e-4de9-aeda-0b046fc0a03f",
    "scrolled": true,
    "tags": []
   },
   "outputs": [],
   "source": [
    "# best_list = []\n",
    "# best_layout_list = []\n",
    "# for idx, (G, data) in enumerate(zip(tqdm(G_list), data_list)):\n",
    "#     xing, stress, layout = {}, {}, {}\n",
    "#     for m in methods:\n",
    "#         batch = Batch.from_data_list([data])\n",
    "#         pos = load_pos(m)\n",
    "#         p = CanonicalizationByStress()(torch.tensor(pos[idx]).float(), batch)\n",
    "#         x = Xing()(p, batch).item()\n",
    "#         s = Stress()(p, batch).item()\n",
    "#         xing[m] = x\n",
    "#         stress[m] = s\n",
    "#         layout[m] = p.numpy()\n",
    "#         # plt.figure()\n",
    "#         # graph_vis(G, pos[idx])\n",
    "#         # plt.title(f'{m} stress={s:.2f} xing={x}')\n",
    "#     best, *_ = sorted(methods, key=lambda m: (xing[m], stress[m]))\n",
    "#     best_list.append(best)\n",
    "#     best_layout_list.append(layout[best])\n",
    "#     print(f'{best}, xing={xing[best]}, stress={stress[best]:.2f}')"
   ]
  },
  {
   "cell_type": "code",
   "execution_count": 12,
   "metadata": {
    "colab": {
     "base_uri": "https://localhost:8080/"
    },
    "id": "Mx2bZNugdTqa",
    "outputId": "cec05a67-18e8-492f-aaa1-057274a8341a"
   },
   "outputs": [],
   "source": [
    "# pickle.dump(best_list, open('layouts/rome/best[xing,stress].pkl', 'wb'))\n",
    "# np.save('layouts/rome/best[xing,stress].npy', best_layout_list)"
   ]
  },
  {
   "cell_type": "code",
   "execution_count": 13,
   "metadata": {
    "colab": {
     "base_uri": "https://localhost:8080/",
     "height": 49,
     "referenced_widgets": [
      "7e0ae84dd0f3458d893c81b029fe1729",
      "18bdc3bf80fb434abde68de5b72a8870",
      "2e3552ded9594635a51832387ae754a0",
      "54f4aa5080c6498080a63be2cdeefee5",
      "3937586d0879451da5e2138ca3bfd0a0",
      "a9df6e84ce8c499eb2b2cf984995d791",
      "7af6b718dd3d4e01b264377a2fa938e2",
      "a774c86e64004bd6951645f1c24abad4",
      "c86575117cd041f2837762f37d1f387b",
      "6e9907cefb1241688fbd248b8281ed9f",
      "9b8e5405d8264944acab57e81f2f5ad6"
     ]
    },
    "id": "A1-w1fspC53p",
    "outputId": "09c2d5c3-1eef-41eb-dcee-581af1294804"
   },
   "outputs": [
    {
     "data": {
      "application/vnd.jupyter.widget-view+json": {
       "model_id": "db42d3a6c9904dc18b2b5c8176ea957f",
       "version_major": 2,
       "version_minor": 0
      },
      "text/plain": [
       "  0%|          | 0/11531 [00:00<?, ?it/s]"
      ]
     },
     "metadata": {},
     "output_type": "display_data"
    }
   ],
   "source": [
    "best_layout_list = np.load('layouts/rome/best[xing,stress].npy', allow_pickle=True)\n",
    "for data, layout in zip(tqdm(data_list), best_layout_list):\n",
    "    data.gt_pos = torch.tensor(layout)"
   ]
  },
  {
   "cell_type": "code",
   "execution_count": 14,
   "metadata": {
    "id": "y6EGh4U7exL_"
   },
   "outputs": [],
   "source": [
    "train_loader = LazyDeviceMappingDataLoader(data_list[:10000], batch_size=config.batchsize, shuffle=True, device=device)\n",
    "val_loader = LazyDeviceMappingDataLoader(data_list[11000:], batch_size=config.batchsize, shuffle=False, device=device)"
   ]
  },
  {
   "cell_type": "code",
   "execution_count": 15,
   "metadata": {
    "colab": {
     "base_uri": "https://localhost:8080/",
     "height": 103,
     "referenced_widgets": [
      "38a33cf69aff48f4aabd4902a7ce48b1",
      "57e277bcb44c4e2fa2a12105d75153d1",
      "20ce017c46bd4a7c9b420270ac579405",
      "13f2df4fe0ce4af88b6e3bd1637065b0",
      "2867faa145ca4860a198d4d0bf830f89",
      "02838cf669174ed9afa41a1a8e680765",
      "7e9e3c031667455f8baca163d3a213e5",
      "4000135e7dfa46529fa6244fccc5cb57",
      "e523e9faac5b4ec38643c05ac5ba99f7",
      "e8e3ee9741e4480dae5003ccc19a7891",
      "9a569045221b43acb3ba2fbf116b2c74"
     ]
    },
    "id": "YEfRRUK0NiNm",
    "outputId": "93f53d05-7667-4cda-a38e-c3a953124f79"
   },
   "outputs": [],
   "source": [
    "# for m in methods:\n",
    "#     layouts = []\n",
    "#     for G in tqdm(G_list):\n",
    "#         layout = draw_layout(G, method=m, draw=False)\n",
    "#         layouts.append(np.array(list(layout.values())))\n",
    "#     np.save(f'layouts/rome/{m}.npy', layouts)"
   ]
  },
  {
   "cell_type": "code",
   "execution_count": 16,
   "metadata": {
    "colab": {
     "base_uri": "https://localhost:8080/",
     "height": 564
    },
    "id": "upK7AHYqPmC5",
    "outputId": "29a88e61-f55f-409c-9194-12c6d5762528"
   },
   "outputs": [],
   "source": [
    "# from collections import Counter\n",
    "\n",
    "# letter_counts = Counter(best_list)\n",
    "# df = pd.DataFrame.from_dict(letter_counts, orient='index')\n",
    "# df.plot(kind='bar', figsize=[12, 8])"
   ]
  },
  {
   "cell_type": "markdown",
   "metadata": {
    "id": "f-ODE2k8BFV6"
   },
   "source": [
    "## Create folders"
   ]
  },
  {
   "cell_type": "code",
   "execution_count": 17,
   "metadata": {
    "id": "3ykUMINYBRog"
   },
   "outputs": [],
   "source": [
    "mkdirs(paths.checkpoints(), paths.tensorboard(), paths.visualization(), f\"{paths.root}/logs\", f\"{paths.root}/metrics\")"
   ]
  },
  {
   "cell_type": "markdown",
   "metadata": {
    "id": "BFq9k5nzBIh5"
   },
   "source": [
    "## Load checkpoints"
   ]
  },
  {
   "cell_type": "code",
   "execution_count": 18,
   "metadata": {
    "id": "W5NbsKkobIfA"
   },
   "outputs": [],
   "source": [
    "class EdgeFeatureDiscriminator(nn.Module):\n",
    "    def __init__(self, \n",
    "                 conv, \n",
    "                 dense,\n",
    "                 shared_depth,\n",
    "                 enet_depth,\n",
    "                 enet_width,\n",
    "                 aggr='add', \n",
    "                 root_weight=True,\n",
    "                 normalize=None):\n",
    "        super().__init__()\n",
    "        self.enet = nn.Sequential(*[\n",
    "            DenseLayer(in_dim=in_d,\n",
    "                       out_dim=out_d,\n",
    "                       skip=nonlin,\n",
    "                       bn=nonlin,\n",
    "                       act=nonlin,\n",
    "                       dp=None)\n",
    "            for in_d, out_d, nonlin \n",
    "            in zip([self._get_feature_dim()] + [enet_width] * (shared_depth-1),\n",
    "                   [enet_width] * shared_depth,\n",
    "                   [True] * (shared_depth-1) + [False])     \n",
    "        ])\n",
    "        self.blocks = nn.ModuleList([\n",
    "            GNNLayer(nfeat_dims=(in_d, out_d),\n",
    "                     efeat_dim=enet_width,\n",
    "                     edge_net=EdgeNet(nfeat_dims=(in_d, out_d), \n",
    "                                      efeat_dim=enet_width, \n",
    "                                      depth=enet_depth, \n",
    "                                      width=enet_width),\n",
    "                     aggr=aggr,\n",
    "                     dense=False,\n",
    "                     skip=nonlin,\n",
    "                     bn=nonlin,\n",
    "                     act=nonlin,\n",
    "                     root_weight=root_weight) \n",
    "            for in_d, out_d, nonlin \n",
    "            in zip(conv[:-1], conv[1:], [True] * (len(conv)-2) + [False])     \n",
    "        ])\n",
    "        self.pool = (gnn.global_mean_pool if aggr == 'mean' \n",
    "                     else gnn.global_add_pool if aggr == 'add' \n",
    "                     else None)\n",
    "        self.dense = nn.Identity() if not dense else nn.Sequential(*[\n",
    "            DenseLayer(in_dim=in_d,\n",
    "                       out_dim=out_d,\n",
    "                       skip=nonlin,\n",
    "                       bn=nonlin,\n",
    "                       act=nonlin,\n",
    "                       dp=None)\n",
    "            for in_d, out_d, nonlin \n",
    "            in zip(conv[-1:] + dense[:-1], dense, [True] * (len(dense)-1) + [False])     \n",
    "        ])\n",
    "        self.normalize = normalize or IdentityTransformation()\n",
    "    \n",
    "    def forward(self, batch):\n",
    "        x = torch.ones_like(batch.pos)\n",
    "        e = self.enet(self._get_features(self._get_edge_info(batch, layout='pos')))\n",
    "        for block in self.blocks:\n",
    "            x = block(x, e, batch)\n",
    "        x = self.pool(x, batch.batch)\n",
    "        x = self.dense(x)\n",
    "        return x\n",
    "    \n",
    "    def _get_edge_info(self, batch, layout='gt_pos'):\n",
    "        pos = self.normalize(batch[layout].float(), batch)\n",
    "        src, dst = get_edges(pos, batch)\n",
    "        v, u = l2_normalize(dst - src, return_norm=True)\n",
    "        d = batch.edge_attr[:, :1]\n",
    "        return {\n",
    "            \"src\": src,\n",
    "            \"dst\": dst,\n",
    "            \"v\": v,\n",
    "            \"u\": u,\n",
    "            \"d\": d,\n",
    "        }\n",
    "\n",
    "    def _get_features(self, edges):\n",
    "        return torch.cat([edges['src'], edges['dst'], edges['d']], dim=1)\n",
    "        \n",
    "    def _get_feature_dim(self):\n",
    "        return self._get_features({\n",
    "            \"src\": torch.zeros(1, 2),\n",
    "            \"dst\": torch.zeros(1, 2),\n",
    "            \"v\": torch.zeros(1, 2),\n",
    "            \"u\": torch.zeros(1, 1),\n",
    "            \"d\": torch.zeros(1, 1),\n",
    "        }).shape[-1]"
   ]
  },
  {
   "cell_type": "code",
   "execution_count": 19,
   "metadata": {
    "id": "96ZActxlL0fJ"
   },
   "outputs": [],
   "source": [
    "class StressDiscriminator(nn.Module):\n",
    "    def __init__(self, normalize=CanonicalizationByStress(), **kwargs):\n",
    "        super().__init__()\n",
    "        self.dummy = nn.Parameter(torch.zeros(1))\n",
    "        self.normalize = normalize\n",
    "        self.stress = Stress(reduce=None)\n",
    "\n",
    "    def forward(self, batch):\n",
    "        return -self.stress(self.normalize(batch.pos, batch), batch)"
   ]
  },
  {
   "cell_type": "code",
   "execution_count": 20,
   "metadata": {
    "id": "IJ6xCYBUuhcw"
   },
   "outputs": [],
   "source": [
    "def get_ckpt_epoch(folder, epoch):\n",
    "    if not os.path.isdir(folder):\n",
    "        os.mkdir(folder)\n",
    "    if epoch >= 0:\n",
    "        return epoch\n",
    "    ckpt_files = os.listdir(folder)\n",
    "    last_epoch = 0\n",
    "    if ckpt_files:\n",
    "        last_epoch = sorted(list(map(lambda x: int(re.search('(?<=epoch_)(\\d+)(?=\\.)', x).group(1)), ckpt_files)))[-1]\n",
    "    return last_epoch + epoch + 1\n",
    "\n",
    "def start_epoch():\n",
    "    return get_ckpt_epoch(paths.checkpoints(), config.epoch.start)"
   ]
  },
  {
   "cell_type": "code",
   "execution_count": 21,
   "metadata": {
    "colab": {
     "base_uri": "https://localhost:8080/"
    },
    "id": "JacDYXka9U01",
    "outputId": "ef4e31ab-2144-497c-8e4f-4d3740ce2d52"
   },
   "outputs": [
    {
     "name": "stdout",
     "output_type": "stream",
     "text": [
      "Loading from artifacts/checkpoints/GAN(gan=rgan,data=best(xing,stress),dis=deep,share=12,embed=4,gp=0,decay=.98)/gen_epoch_1181.pt...\n",
      "Loading from artifacts/checkpoints/GAN(gan=rgan,data=best(xing,stress),dis=deep,share=12,embed=4,gp=0,decay=.98)/gen_optim_epoch_1181.pt...\n"
     ]
    }
   ],
   "source": [
    "generator = Generator(**config.generator.params[...]).to(device)\n",
    "generator_optimizer = config.generator.optim(generator.parameters(), lr=config.generator.lr.initial * config.generator.lr.decay ** start_epoch())\n",
    "generator_scheduler = torch.optim.lr_scheduler.ExponentialLR(generator_optimizer, gamma=config.generator.lr.decay)\n",
    "if start_epoch() != 0:\n",
    "    gen_ckpt_epoch = start_epoch()\n",
    "elif config.generator.pretrained.name is not None and config.generator.pretrained.epoch != 0:\n",
    "    gen_pretrained_epoch = get_ckpt_epoch(paths.gen_pretrain(), config.generator.pretrained.epoch)\n",
    "    gen_ckpt_epoch = gen_pretrained_epoch \n",
    "else:\n",
    "    gen_ckpt_epoch = None\n",
    "if gen_ckpt_epoch is not None:\n",
    "    # Load generator\n",
    "    gen_ckpt_file = f\"{paths.checkpoints()}/gen_epoch_{gen_ckpt_epoch}.pt\"\n",
    "    print(f\"Loading from {gen_ckpt_file}...\")\n",
    "    generator.load_state_dict(torch.load(gen_ckpt_file, map_location=torch.device(device)))\n",
    "    # Load generator optimizer\n",
    "    gen_optim_ckpt_file = f\"{paths.checkpoints()}/gen_optim_epoch_{gen_ckpt_epoch}.pt\"\n",
    "    print(f\"Loading from {gen_optim_ckpt_file}...\")\n",
    "    generator_optimizer.load_state_dict(torch.load(gen_optim_ckpt_file, map_location=torch.device(device)))"
   ]
  },
  {
   "cell_type": "code",
   "execution_count": 22,
   "metadata": {
    "colab": {
     "base_uri": "https://localhost:8080/"
    },
    "id": "oWQhD7-88VXe",
    "outputId": "3ba01600-b546-4e45-a6bd-c7a65af1ae9e"
   },
   "outputs": [
    {
     "name": "stdout",
     "output_type": "stream",
     "text": [
      "Loading from artifacts/checkpoints/GAN(gan=rgan,data=best(xing,stress),dis=deep,share=12,embed=4,gp=0,decay=.98)/dis_epoch_1181.pt...\n",
      "Loading from artifacts/checkpoints/GAN(gan=rgan,data=best(xing,stress),dis=deep,share=12,embed=4,gp=0,decay=.98)/dis_optim_epoch_1181.pt...\n"
     ]
    }
   ],
   "source": [
    "discriminator = EdgeFeatureDiscriminator(**config.discriminator.params[...]).to(device)\n",
    "discriminator_optimizer = config.discriminator.optim(discriminator.parameters(), lr=config.discriminator.lr.initial * config.discriminator.lr.decay ** start_epoch())\n",
    "discriminator_scheduler = torch.optim.lr_scheduler.ExponentialLR(discriminator_optimizer, gamma=config.discriminator.lr.decay)\n",
    "if start_epoch() != 0:\n",
    "    dis_ckpt_epoch = start_epoch()\n",
    "elif config.discriminator.pretrained.name is not None and config.discriminator.pretrained.epoch != 0:\n",
    "    dis_pretrained_epoch = get_ckpt_epoch(paths.dis_pretrain(), config.discriminator.pretrained.epoch)\n",
    "    dis_ckpt_epoch = dis_pretrained_epoch # f\"{paths.dis_pretrain()}/dis_epoch_{dis_pretrained_epoch}.pt\"\n",
    "else:\n",
    "    dis_ckpt_epoch = None\n",
    "if dis_ckpt_epoch is not None:\n",
    "    # Load discriminator\n",
    "    dis_ckpt_file = f\"{paths.checkpoints()}/dis_epoch_{dis_ckpt_epoch}.pt\"\n",
    "    print(f\"Loading from {dis_ckpt_file}...\")\n",
    "    discriminator.load_state_dict(torch.load(dis_ckpt_file, map_location=torch.device(device)))\n",
    "    # Load discriminator optimizer\n",
    "    dis_optim_ckpt_file = f\"{paths.checkpoints()}/dis_optim_epoch_{dis_ckpt_epoch}.pt\"\n",
    "    print(f\"Loading from {dis_optim_ckpt_file}...\")\n",
    "    discriminator_optimizer.load_state_dict(torch.load(dis_optim_ckpt_file, map_location=torch.device(device)))"
   ]
  },
  {
   "cell_type": "markdown",
   "metadata": {
    "id": "N39dDHraedM6"
   },
   "source": [
    "# Train"
   ]
  },
  {
   "cell_type": "code",
   "execution_count": 23,
   "metadata": {
    "id": "BdIJSDSJedM-"
   },
   "outputs": [],
   "source": [
    "stress_criterion = StressDiscriminator().to(device)\n",
    "val_criterion = Stress(reduce=None)\n",
    "xing_criterion = Xing(reduce=None)\n",
    "dis_convert = DiscriminatorDataConverter(complete_graph=config.discriminator.complete, normalize=config.discriminator.params.normalize)\n",
    "tensorboard = SummaryWriter(log_dir=paths.tensorboard())\n",
    "epoch = start_epoch() + 1"
   ]
  },
  {
   "cell_type": "code",
   "execution_count": 24,
   "metadata": {
    "id": "OHRWj1h0edM-"
   },
   "outputs": [],
   "source": [
    "def gradient_penalty(interpolated, discriminator, weight=10):\n",
    "    interpolated.pos.requires_grad_()\n",
    "    prob_interpolated = discriminator(interpolated)\n",
    "    gradients = autograd.grad(outputs=prob_interpolated, \n",
    "                              inputs=interpolated.pos,\n",
    "                              grad_outputs=torch.ones_like(prob_interpolated),\n",
    "                              create_graph=True, \n",
    "                              retain_graph=True, \n",
    "                              allow_unused=True)[0]\n",
    "    gradients_norm = torch.sqrt(gnn.global_add_pool(gradients.square().sum(dim=1), batch.batch) + 1e-8)\n",
    "    return weight * ((gradients_norm - 1) ** 2).mean()"
   ]
  },
  {
   "cell_type": "code",
   "execution_count": 25,
   "metadata": {
    "id": "o5wJJN9AedM_"
   },
   "outputs": [],
   "source": [
    "def get_gp_loss(batch, fake_pos, weight):\n",
    "    if weight > 0:\n",
    "        interp = dis_convert(batch, fake_pos, random.random())\n",
    "        return gradient_penalty(interp, discriminator, weight).mean()\n",
    "    return 0"
   ]
  },
  {
   "cell_type": "code",
   "execution_count": 26,
   "metadata": {
    "id": "QwuA6sRoedM_"
   },
   "outputs": [],
   "source": [
    "def get_sgan_loss(batch, fake_pos, mode='discriminator'):\n",
    "    real = dis_convert(batch)\n",
    "    fake = dis_convert(batch, fake_pos)\n",
    "    pred = discriminator(merge_batch(real, fake)).view(2, -1).T\n",
    "    if mode == 'discriminator':\n",
    "        label = torch.zeros(pred.shape[0]).long()\n",
    "    elif mode == 'generator':\n",
    "        label = torch.ones(pred.shape[0]).long()\n",
    "    else:\n",
    "        raise Exception\n",
    "    return nn.CrossEntropyLoss()(pred, label)"
   ]
  },
  {
   "cell_type": "code",
   "execution_count": 27,
   "metadata": {
    "id": "GuAP1YchedNA"
   },
   "outputs": [],
   "source": [
    "def get_rgan_loss(batch, fake_pos, mode='discriminator'):\n",
    "    real = dis_convert(batch)\n",
    "    fake = dis_convert(batch, fake_pos)\n",
    "    pred = discriminator(merge_batch(real, fake)).view(2, -1).T\n",
    "    real_pred, fake_pred = pred[:,0], pred[:,1]\n",
    "    if mode == 'discriminator':\n",
    "        losses = - F.logsigmoid(real_pred - fake_pred)\n",
    "    elif mode == 'generator':\n",
    "        losses = - F.logsigmoid(fake_pred - real_pred)\n",
    "    else:\n",
    "        raise Exception\n",
    "    return losses.mean()"
   ]
  },
  {
   "cell_type": "code",
   "execution_count": 28,
   "metadata": {
    "id": "KFllQ7BredNA"
   },
   "outputs": [],
   "source": [
    "def get_wgan_loss(batch, fake_pos, mode='discriminator'):\n",
    "    real = dis_convert(batch)\n",
    "    fake = dis_convert(batch, fake_pos)\n",
    "    pred = discriminator(merge_batch(real, fake)).view(2, -1).T\n",
    "    real_pred, fake_pred = pred[:,0], pred[:,1]\n",
    "    if mode == 'discriminator':\n",
    "        losses = fake_pred - real_pred \n",
    "    elif mode == 'generator':\n",
    "        losses = real_pred - fake_pred\n",
    "    else:\n",
    "        raise Exception\n",
    "    return losses.mean()"
   ]
  },
  {
   "cell_type": "code",
   "execution_count": 29,
   "metadata": {
    "id": "r5Kg_tYEedNA"
   },
   "outputs": [],
   "source": [
    "def get_ragan_loss(batch, fake_pos, mode='discriminator'):\n",
    "    real = dis_convert(batch)\n",
    "    fake = dis_convert(batch, fake_pos)\n",
    "    pred = discriminator(merge_batch(real, fake)).view(2, -1).T\n",
    "    real_pred, fake_pred = pred[:,0], pred[:,1]\n",
    "    if mode == 'discriminator':\n",
    "        losses = - F.logsigmoid(real_pred - fake_pred.mean()) - F.logsigmoid(real_pred.mean() - fake_pred)\n",
    "    elif mode == 'generator':\n",
    "        losses = - F.logsigmoid(fake_pred - real_pred.mean()) - F.logsigmoid(fake_pred.mean() - real_pred)\n",
    "    else:\n",
    "        raise Exception\n",
    "    return losses.mean()"
   ]
  },
  {
   "cell_type": "code",
   "execution_count": 30,
   "metadata": {},
   "outputs": [],
   "source": [
    "def get_dgdv2_loss(batch, fake_pos, mode='discriminator'):\n",
    "    fake = dis_convert(batch, fake_pos)\n",
    "    pred = discriminator(fake)\n",
    "    if mode == 'discriminator':\n",
    "        gt = get_gt(batch, fake_pos)\n",
    "        loss = criterion(pred, gt)\n",
    "    elif mode == 'generator':\n",
    "        losses = pred.sum(dim=0)\n",
    "#         losses = torch.tensor(config.importance).to(device) * losses #/ losses.detach()\n",
    "        loss = losses.sum()\n",
    "    else:\n",
    "        raise Exception\n",
    "    return -loss"
   ]
  },
  {
   "cell_type": "code",
   "execution_count": 31,
   "metadata": {
    "id": "3IE_84f-edNB"
   },
   "outputs": [],
   "source": [
    "def get_gan_loss(batch, fake_pos, mode='discriminator'):\n",
    "    return {\"sgan\": get_sgan_loss,\n",
    "            \"wgan\": get_wgan_loss,\n",
    "            \"rgan\": get_rgan_loss,\n",
    "            \"ragan\": get_ragan_loss,\n",
    "            \"dgdv2\": get_dgdv2_loss}[config.gan_flavor](batch, fake_pos, mode)"
   ]
  },
  {
   "cell_type": "code",
   "execution_count": 32,
   "metadata": {
    "colab": {
     "background_save": true,
     "base_uri": "https://localhost:8080/",
     "height": 80
    },
    "id": "2NjekXgkedNB",
    "outputId": "da85b2ec-c0de-459c-c0dd-7ba3519419fa",
    "scrolled": true,
    "tags": []
   },
   "outputs": [
    {
     "data": {
      "application/vnd.jupyter.widget-view+json": {
       "model_id": "1249b0a612464be1b8d98eec6d221fcb",
       "version_major": 2,
       "version_minor": 0
      },
      "text/plain": [
       "Tab(children=(VBox(children=(Wrapper(), Hud())), HBox(children=(Output(),), layout=Layout(height='500px', over…"
      ]
     },
     "metadata": {},
     "output_type": "display_data"
    },
    {
     "ename": "KeyboardInterrupt",
     "evalue": "",
     "output_type": "error",
     "traceback": [
      "\u001b[0;31m---------------------------------------------------------------------------\u001b[0m",
      "\u001b[0;31mKeyboardInterrupt\u001b[0m                         Traceback (most recent call last)",
      "\u001b[0;32m/tmp/slurmtmp.5715224/ipykernel_55389/801679965.py\u001b[0m in \u001b[0;36m<module>\u001b[0;34m\u001b[0m\n\u001b[1;32m    133\u001b[0m     \u001b[0;32mif\u001b[0m \u001b[0mconfig\u001b[0m\u001b[0;34m.\u001b[0m\u001b[0malternate\u001b[0m \u001b[0;34m==\u001b[0m \u001b[0;34m'epoch'\u001b[0m\u001b[0;34m:\u001b[0m\u001b[0;34m\u001b[0m\u001b[0;34m\u001b[0m\u001b[0m\n\u001b[1;32m    134\u001b[0m         \u001b[0;32mfor\u001b[0m \u001b[0mbatch\u001b[0m \u001b[0;32min\u001b[0m \u001b[0mtrain_loader\u001b[0m\u001b[0;34m:\u001b[0m\u001b[0;34m\u001b[0m\u001b[0;34m\u001b[0m\u001b[0m\n\u001b[0;32m--> 135\u001b[0;31m             \u001b[0mtrain_gen\u001b[0m\u001b[0;34m(\u001b[0m\u001b[0mbatch\u001b[0m\u001b[0;34m,\u001b[0m \u001b[0mepoch\u001b[0m\u001b[0;34m)\u001b[0m\u001b[0;34m\u001b[0m\u001b[0;34m\u001b[0m\u001b[0m\n\u001b[0m\u001b[1;32m    136\u001b[0m \u001b[0;34m\u001b[0m\u001b[0m\n\u001b[1;32m    137\u001b[0m     \u001b[0mdiscriminator_scheduler\u001b[0m\u001b[0;34m.\u001b[0m\u001b[0mstep\u001b[0m\u001b[0;34m(\u001b[0m\u001b[0;34m)\u001b[0m\u001b[0;34m\u001b[0m\u001b[0;34m\u001b[0m\u001b[0m\n",
      "\u001b[0;32m/tmp/slurmtmp.5715224/ipykernel_55389/801679965.py\u001b[0m in \u001b[0;36mtrain_gen\u001b[0;34m(batch, epoch)\u001b[0m\n\u001b[1;32m     25\u001b[0m     \u001b[0mgenerator\u001b[0m\u001b[0;34m.\u001b[0m\u001b[0mzero_grad\u001b[0m\u001b[0;34m(\u001b[0m\u001b[0;34m)\u001b[0m\u001b[0;34m\u001b[0m\u001b[0;34m\u001b[0m\u001b[0m\n\u001b[1;32m     26\u001b[0m     \u001b[0mdiscriminator\u001b[0m\u001b[0;34m.\u001b[0m\u001b[0mzero_grad\u001b[0m\u001b[0;34m(\u001b[0m\u001b[0;34m)\u001b[0m\u001b[0;34m\u001b[0m\u001b[0;34m\u001b[0m\u001b[0m\n\u001b[0;32m---> 27\u001b[0;31m     \u001b[0mgenerator_output\u001b[0m \u001b[0;34m=\u001b[0m \u001b[0mgenerator\u001b[0m\u001b[0;34m(\u001b[0m\u001b[0mbatch\u001b[0m\u001b[0;34m)\u001b[0m\u001b[0;34m\u001b[0m\u001b[0;34m\u001b[0m\u001b[0m\n\u001b[0m\u001b[1;32m     28\u001b[0m     \u001b[0;32mif\u001b[0m \u001b[0mconfig\u001b[0m\u001b[0;34m.\u001b[0m\u001b[0mdiscriminator\u001b[0m\u001b[0;34m.\u001b[0m\u001b[0mnoise\u001b[0m\u001b[0;34m.\u001b[0m\u001b[0mstd\u001b[0m \u001b[0;34m>\u001b[0m \u001b[0;36m0\u001b[0m\u001b[0;34m:\u001b[0m\u001b[0;34m\u001b[0m\u001b[0;34m\u001b[0m\u001b[0m\n\u001b[1;32m     29\u001b[0m         \u001b[0mgenerator_output\u001b[0m \u001b[0;34m=\u001b[0m \u001b[0mgenerator_output\u001b[0m \u001b[0;34m+\u001b[0m \u001b[0mtorch\u001b[0m\u001b[0;34m.\u001b[0m\u001b[0mrandn_like\u001b[0m\u001b[0;34m(\u001b[0m\u001b[0mgenerator_output\u001b[0m\u001b[0;34m)\u001b[0m \u001b[0;34m*\u001b[0m \u001b[0mconfig\u001b[0m\u001b[0;34m.\u001b[0m\u001b[0mdiscriminator\u001b[0m\u001b[0;34m.\u001b[0m\u001b[0mnoise\u001b[0m\u001b[0;34m.\u001b[0m\u001b[0mstd\u001b[0m \u001b[0;34m*\u001b[0m \u001b[0mconfig\u001b[0m\u001b[0;34m.\u001b[0m\u001b[0mdiscriminator\u001b[0m\u001b[0;34m.\u001b[0m\u001b[0mnoise\u001b[0m\u001b[0;34m.\u001b[0m\u001b[0mdecay\u001b[0m \u001b[0;34m**\u001b[0m \u001b[0mepoch\u001b[0m\u001b[0;34m\u001b[0m\u001b[0;34m\u001b[0m\u001b[0m\n",
      "\u001b[0;32m~/.conda/envs/deepgd/lib/python3.9/site-packages/torch/nn/modules/module.py\u001b[0m in \u001b[0;36m_call_impl\u001b[0;34m(self, *input, **kwargs)\u001b[0m\n\u001b[1;32m   1049\u001b[0m         if not (self._backward_hooks or self._forward_hooks or self._forward_pre_hooks or _global_backward_hooks\n\u001b[1;32m   1050\u001b[0m                 or _global_forward_hooks or _global_forward_pre_hooks):\n\u001b[0;32m-> 1051\u001b[0;31m             \u001b[0;32mreturn\u001b[0m \u001b[0mforward_call\u001b[0m\u001b[0;34m(\u001b[0m\u001b[0;34m*\u001b[0m\u001b[0minput\u001b[0m\u001b[0;34m,\u001b[0m \u001b[0;34m**\u001b[0m\u001b[0mkwargs\u001b[0m\u001b[0;34m)\u001b[0m\u001b[0;34m\u001b[0m\u001b[0;34m\u001b[0m\u001b[0m\n\u001b[0m\u001b[1;32m   1052\u001b[0m         \u001b[0;31m# Do not call functions when jit is used\u001b[0m\u001b[0;34m\u001b[0m\u001b[0;34m\u001b[0m\u001b[0m\n\u001b[1;32m   1053\u001b[0m         \u001b[0mfull_backward_hooks\u001b[0m\u001b[0;34m,\u001b[0m \u001b[0mnon_full_backward_hooks\u001b[0m \u001b[0;34m=\u001b[0m \u001b[0;34m[\u001b[0m\u001b[0;34m]\u001b[0m\u001b[0;34m,\u001b[0m \u001b[0;34m[\u001b[0m\u001b[0;34m]\u001b[0m\u001b[0;34m\u001b[0m\u001b[0;34m\u001b[0m\u001b[0m\n",
      "\u001b[0;32m~/deepgd/deepgd/modules.py\u001b[0m in \u001b[0;36mforward\u001b[0;34m(self, data, weights, output_hidden, numpy)\u001b[0m\n\u001b[1;32m    625\u001b[0m                            \u001b[0mself\u001b[0m\u001b[0;34m.\u001b[0m\u001b[0mhid_blocks\u001b[0m\u001b[0;34m,\u001b[0m\u001b[0;34m\u001b[0m\u001b[0;34m\u001b[0m\u001b[0m\n\u001b[1;32m    626\u001b[0m                            self.out_blocks):\n\u001b[0;32m--> 627\u001b[0;31m             \u001b[0mv\u001b[0m \u001b[0;34m=\u001b[0m \u001b[0mblock\u001b[0m\u001b[0;34m(\u001b[0m\u001b[0mv\u001b[0m\u001b[0;34m,\u001b[0m \u001b[0mdata\u001b[0m\u001b[0;34m,\u001b[0m \u001b[0mweights\u001b[0m\u001b[0;34m)\u001b[0m\u001b[0;34m\u001b[0m\u001b[0;34m\u001b[0m\u001b[0m\n\u001b[0m\u001b[1;32m    628\u001b[0m             \u001b[0;32mif\u001b[0m \u001b[0moutput_hidden\u001b[0m\u001b[0;34m:\u001b[0m\u001b[0;34m\u001b[0m\u001b[0;34m\u001b[0m\u001b[0m\n\u001b[1;32m    629\u001b[0m                 \u001b[0mhidden\u001b[0m\u001b[0;34m.\u001b[0m\u001b[0mappend\u001b[0m\u001b[0;34m(\u001b[0m\u001b[0mv\u001b[0m\u001b[0;34m.\u001b[0m\u001b[0mdetach\u001b[0m\u001b[0;34m(\u001b[0m\u001b[0;34m)\u001b[0m\u001b[0;34m.\u001b[0m\u001b[0mcpu\u001b[0m\u001b[0;34m(\u001b[0m\u001b[0;34m)\u001b[0m\u001b[0;34m.\u001b[0m\u001b[0mnumpy\u001b[0m\u001b[0;34m(\u001b[0m\u001b[0;34m)\u001b[0m \u001b[0;32mif\u001b[0m \u001b[0mnumpy\u001b[0m \u001b[0;32melse\u001b[0m \u001b[0mv\u001b[0m\u001b[0;34m)\u001b[0m\u001b[0;34m\u001b[0m\u001b[0;34m\u001b[0m\u001b[0m\n",
      "\u001b[0;32m~/.conda/envs/deepgd/lib/python3.9/site-packages/torch/nn/modules/module.py\u001b[0m in \u001b[0;36m_call_impl\u001b[0;34m(self, *input, **kwargs)\u001b[0m\n\u001b[1;32m   1049\u001b[0m         if not (self._backward_hooks or self._forward_hooks or self._forward_pre_hooks or _global_backward_hooks\n\u001b[1;32m   1050\u001b[0m                 or _global_forward_hooks or _global_forward_pre_hooks):\n\u001b[0;32m-> 1051\u001b[0;31m             \u001b[0;32mreturn\u001b[0m \u001b[0mforward_call\u001b[0m\u001b[0;34m(\u001b[0m\u001b[0;34m*\u001b[0m\u001b[0minput\u001b[0m\u001b[0;34m,\u001b[0m \u001b[0;34m**\u001b[0m\u001b[0mkwargs\u001b[0m\u001b[0;34m)\u001b[0m\u001b[0;34m\u001b[0m\u001b[0;34m\u001b[0m\u001b[0m\n\u001b[0m\u001b[1;32m   1052\u001b[0m         \u001b[0;31m# Do not call functions when jit is used\u001b[0m\u001b[0;34m\u001b[0m\u001b[0;34m\u001b[0m\u001b[0m\n\u001b[1;32m   1053\u001b[0m         \u001b[0mfull_backward_hooks\u001b[0m\u001b[0;34m,\u001b[0m \u001b[0mnon_full_backward_hooks\u001b[0m \u001b[0;34m=\u001b[0m \u001b[0;34m[\u001b[0m\u001b[0;34m]\u001b[0m\u001b[0;34m,\u001b[0m \u001b[0;34m[\u001b[0m\u001b[0;34m]\u001b[0m\u001b[0;34m\u001b[0m\u001b[0;34m\u001b[0m\u001b[0m\n",
      "\u001b[0;32m~/deepgd/deepgd/modules.py\u001b[0m in \u001b[0;36mforward\u001b[0;34m(self, v, data, weights)\u001b[0m\n\u001b[1;32m    423\u001b[0m                          \u001b[0mdirection\u001b[0m\u001b[0;34m=\u001b[0m\u001b[0mself\u001b[0m\u001b[0;34m.\u001b[0m\u001b[0mdirection\u001b[0m \u001b[0;32mand\u001b[0m \u001b[0mget_extra\u001b[0m\u001b[0;34m,\u001b[0m\u001b[0;34m\u001b[0m\u001b[0;34m\u001b[0m\u001b[0m\n\u001b[1;32m    424\u001b[0m                          weights=weights if get_extra and self.n_weights > 0 else None)\n\u001b[0;32m--> 425\u001b[0;31m             \u001b[0mv\u001b[0m \u001b[0;34m=\u001b[0m \u001b[0mself\u001b[0m\u001b[0;34m.\u001b[0m\u001b[0mgnn\u001b[0m\u001b[0;34m[\u001b[0m\u001b[0mlayer\u001b[0m\u001b[0;34m]\u001b[0m\u001b[0;34m(\u001b[0m\u001b[0mv\u001b[0m\u001b[0;34m,\u001b[0m \u001b[0me\u001b[0m\u001b[0;34m,\u001b[0m \u001b[0mdata\u001b[0m\u001b[0;34m)\u001b[0m\u001b[0;34m\u001b[0m\u001b[0;34m\u001b[0m\u001b[0m\n\u001b[0m\u001b[1;32m    426\u001b[0m         \u001b[0;32mreturn\u001b[0m \u001b[0mv\u001b[0m \u001b[0;34m+\u001b[0m \u001b[0mvres\u001b[0m \u001b[0;32mif\u001b[0m \u001b[0mself\u001b[0m\u001b[0;34m.\u001b[0m\u001b[0mresidual\u001b[0m \u001b[0;32melse\u001b[0m \u001b[0mv\u001b[0m\u001b[0;34m\u001b[0m\u001b[0;34m\u001b[0m\u001b[0m\n\u001b[1;32m    427\u001b[0m \u001b[0;34m\u001b[0m\u001b[0m\n",
      "\u001b[0;32m~/.conda/envs/deepgd/lib/python3.9/site-packages/torch/nn/modules/module.py\u001b[0m in \u001b[0;36m_call_impl\u001b[0;34m(self, *input, **kwargs)\u001b[0m\n\u001b[1;32m   1049\u001b[0m         if not (self._backward_hooks or self._forward_hooks or self._forward_pre_hooks or _global_backward_hooks\n\u001b[1;32m   1050\u001b[0m                 or _global_forward_hooks or _global_forward_pre_hooks):\n\u001b[0;32m-> 1051\u001b[0;31m             \u001b[0;32mreturn\u001b[0m \u001b[0mforward_call\u001b[0m\u001b[0;34m(\u001b[0m\u001b[0;34m*\u001b[0m\u001b[0minput\u001b[0m\u001b[0;34m,\u001b[0m \u001b[0;34m**\u001b[0m\u001b[0mkwargs\u001b[0m\u001b[0;34m)\u001b[0m\u001b[0;34m\u001b[0m\u001b[0;34m\u001b[0m\u001b[0m\n\u001b[0m\u001b[1;32m   1052\u001b[0m         \u001b[0;31m# Do not call functions when jit is used\u001b[0m\u001b[0;34m\u001b[0m\u001b[0;34m\u001b[0m\u001b[0m\n\u001b[1;32m   1053\u001b[0m         \u001b[0mfull_backward_hooks\u001b[0m\u001b[0;34m,\u001b[0m \u001b[0mnon_full_backward_hooks\u001b[0m \u001b[0;34m=\u001b[0m \u001b[0;34m[\u001b[0m\u001b[0;34m]\u001b[0m\u001b[0;34m,\u001b[0m \u001b[0;34m[\u001b[0m\u001b[0;34m]\u001b[0m\u001b[0;34m\u001b[0m\u001b[0;34m\u001b[0m\u001b[0m\n",
      "\u001b[0;32m~/deepgd/deepgd/modules.py\u001b[0m in \u001b[0;36mforward\u001b[0;34m(self, v, e, data)\u001b[0m\n\u001b[1;32m    228\u001b[0m     \u001b[0;32mdef\u001b[0m \u001b[0mforward\u001b[0m\u001b[0;34m(\u001b[0m\u001b[0mself\u001b[0m\u001b[0;34m,\u001b[0m \u001b[0mv\u001b[0m\u001b[0;34m,\u001b[0m \u001b[0me\u001b[0m\u001b[0;34m,\u001b[0m \u001b[0mdata\u001b[0m\u001b[0;34m)\u001b[0m\u001b[0;34m:\u001b[0m\u001b[0;34m\u001b[0m\u001b[0;34m\u001b[0m\u001b[0m\n\u001b[1;32m    229\u001b[0m         \u001b[0mv_\u001b[0m \u001b[0;34m=\u001b[0m \u001b[0mv\u001b[0m\u001b[0;34m\u001b[0m\u001b[0;34m\u001b[0m\u001b[0m\n\u001b[0;32m--> 230\u001b[0;31m         \u001b[0mv\u001b[0m \u001b[0;34m=\u001b[0m \u001b[0mself\u001b[0m\u001b[0;34m.\u001b[0m\u001b[0mconv\u001b[0m\u001b[0;34m(\u001b[0m\u001b[0mv\u001b[0m\u001b[0;34m,\u001b[0m \u001b[0mdata\u001b[0m\u001b[0;34m.\u001b[0m\u001b[0medge_index\u001b[0m\u001b[0;34m,\u001b[0m \u001b[0me\u001b[0m\u001b[0;34m)\u001b[0m\u001b[0;34m\u001b[0m\u001b[0;34m\u001b[0m\u001b[0m\n\u001b[0m\u001b[1;32m    231\u001b[0m         \u001b[0mv\u001b[0m \u001b[0;34m=\u001b[0m \u001b[0mself\u001b[0m\u001b[0;34m.\u001b[0m\u001b[0mdense\u001b[0m\u001b[0;34m(\u001b[0m\u001b[0mv\u001b[0m\u001b[0;34m)\u001b[0m\u001b[0;34m\u001b[0m\u001b[0;34m\u001b[0m\u001b[0m\n\u001b[1;32m    232\u001b[0m         \u001b[0mv\u001b[0m \u001b[0;34m=\u001b[0m \u001b[0mself\u001b[0m\u001b[0;34m.\u001b[0m\u001b[0mbn\u001b[0m\u001b[0;34m(\u001b[0m\u001b[0mv\u001b[0m\u001b[0;34m)\u001b[0m\u001b[0;34m\u001b[0m\u001b[0;34m\u001b[0m\u001b[0m\n",
      "\u001b[0;32m~/.conda/envs/deepgd/lib/python3.9/site-packages/torch/nn/modules/module.py\u001b[0m in \u001b[0;36m_call_impl\u001b[0;34m(self, *input, **kwargs)\u001b[0m\n\u001b[1;32m   1049\u001b[0m         if not (self._backward_hooks or self._forward_hooks or self._forward_pre_hooks or _global_backward_hooks\n\u001b[1;32m   1050\u001b[0m                 or _global_forward_hooks or _global_forward_pre_hooks):\n\u001b[0;32m-> 1051\u001b[0;31m             \u001b[0;32mreturn\u001b[0m \u001b[0mforward_call\u001b[0m\u001b[0;34m(\u001b[0m\u001b[0;34m*\u001b[0m\u001b[0minput\u001b[0m\u001b[0;34m,\u001b[0m \u001b[0;34m**\u001b[0m\u001b[0mkwargs\u001b[0m\u001b[0;34m)\u001b[0m\u001b[0;34m\u001b[0m\u001b[0;34m\u001b[0m\u001b[0m\n\u001b[0m\u001b[1;32m   1052\u001b[0m         \u001b[0;31m# Do not call functions when jit is used\u001b[0m\u001b[0;34m\u001b[0m\u001b[0;34m\u001b[0m\u001b[0m\n\u001b[1;32m   1053\u001b[0m         \u001b[0mfull_backward_hooks\u001b[0m\u001b[0;34m,\u001b[0m \u001b[0mnon_full_backward_hooks\u001b[0m \u001b[0;34m=\u001b[0m \u001b[0;34m[\u001b[0m\u001b[0;34m]\u001b[0m\u001b[0;34m,\u001b[0m \u001b[0;34m[\u001b[0m\u001b[0;34m]\u001b[0m\u001b[0;34m\u001b[0m\u001b[0;34m\u001b[0m\u001b[0m\n",
      "\u001b[0;32m~/.conda/envs/deepgd/lib/python3.9/site-packages/torch_geometric/nn/conv/nn_conv.py\u001b[0m in \u001b[0;36mforward\u001b[0;34m(self, x, edge_index, edge_attr, size)\u001b[0m\n\u001b[1;32m     92\u001b[0m         \u001b[0mx_r\u001b[0m \u001b[0;34m=\u001b[0m \u001b[0mx\u001b[0m\u001b[0;34m[\u001b[0m\u001b[0;36m1\u001b[0m\u001b[0;34m]\u001b[0m\u001b[0;34m\u001b[0m\u001b[0;34m\u001b[0m\u001b[0m\n\u001b[1;32m     93\u001b[0m         \u001b[0;32mif\u001b[0m \u001b[0mx_r\u001b[0m \u001b[0;32mis\u001b[0m \u001b[0;32mnot\u001b[0m \u001b[0;32mNone\u001b[0m \u001b[0;32mand\u001b[0m \u001b[0mself\u001b[0m\u001b[0;34m.\u001b[0m\u001b[0mroot_weight\u001b[0m\u001b[0;34m:\u001b[0m\u001b[0;34m\u001b[0m\u001b[0;34m\u001b[0m\u001b[0m\n\u001b[0;32m---> 94\u001b[0;31m             \u001b[0mout\u001b[0m \u001b[0;34m+=\u001b[0m \u001b[0mself\u001b[0m\u001b[0;34m.\u001b[0m\u001b[0mlin\u001b[0m\u001b[0;34m(\u001b[0m\u001b[0mx_r\u001b[0m\u001b[0;34m)\u001b[0m\u001b[0;34m\u001b[0m\u001b[0;34m\u001b[0m\u001b[0m\n\u001b[0m\u001b[1;32m     95\u001b[0m \u001b[0;34m\u001b[0m\u001b[0m\n\u001b[1;32m     96\u001b[0m         \u001b[0;32mif\u001b[0m \u001b[0mself\u001b[0m\u001b[0;34m.\u001b[0m\u001b[0mbias\u001b[0m \u001b[0;32mis\u001b[0m \u001b[0;32mnot\u001b[0m \u001b[0;32mNone\u001b[0m\u001b[0;34m:\u001b[0m\u001b[0;34m\u001b[0m\u001b[0;34m\u001b[0m\u001b[0m\n",
      "\u001b[0;32m~/.conda/envs/deepgd/lib/python3.9/site-packages/torch/nn/modules/module.py\u001b[0m in \u001b[0;36m_call_impl\u001b[0;34m(self, *input, **kwargs)\u001b[0m\n\u001b[1;32m   1049\u001b[0m         if not (self._backward_hooks or self._forward_hooks or self._forward_pre_hooks or _global_backward_hooks\n\u001b[1;32m   1050\u001b[0m                 or _global_forward_hooks or _global_forward_pre_hooks):\n\u001b[0;32m-> 1051\u001b[0;31m             \u001b[0;32mreturn\u001b[0m \u001b[0mforward_call\u001b[0m\u001b[0;34m(\u001b[0m\u001b[0;34m*\u001b[0m\u001b[0minput\u001b[0m\u001b[0;34m,\u001b[0m \u001b[0;34m**\u001b[0m\u001b[0mkwargs\u001b[0m\u001b[0;34m)\u001b[0m\u001b[0;34m\u001b[0m\u001b[0;34m\u001b[0m\u001b[0m\n\u001b[0m\u001b[1;32m   1052\u001b[0m         \u001b[0;31m# Do not call functions when jit is used\u001b[0m\u001b[0;34m\u001b[0m\u001b[0;34m\u001b[0m\u001b[0m\n\u001b[1;32m   1053\u001b[0m         \u001b[0mfull_backward_hooks\u001b[0m\u001b[0;34m,\u001b[0m \u001b[0mnon_full_backward_hooks\u001b[0m \u001b[0;34m=\u001b[0m \u001b[0;34m[\u001b[0m\u001b[0;34m]\u001b[0m\u001b[0;34m,\u001b[0m \u001b[0;34m[\u001b[0m\u001b[0;34m]\u001b[0m\u001b[0;34m\u001b[0m\u001b[0;34m\u001b[0m\u001b[0m\n",
      "\u001b[0;32m~/.conda/envs/deepgd/lib/python3.9/site-packages/torch_geometric/nn/dense/linear.py\u001b[0m in \u001b[0;36mforward\u001b[0;34m(self, x)\u001b[0m\n\u001b[1;32m    100\u001b[0m \u001b[0;34m\u001b[0m\u001b[0m\n\u001b[1;32m    101\u001b[0m     \u001b[0;32mdef\u001b[0m \u001b[0mforward\u001b[0m\u001b[0;34m(\u001b[0m\u001b[0mself\u001b[0m\u001b[0;34m,\u001b[0m \u001b[0mx\u001b[0m\u001b[0;34m:\u001b[0m \u001b[0mTensor\u001b[0m\u001b[0;34m)\u001b[0m \u001b[0;34m->\u001b[0m \u001b[0mTensor\u001b[0m\u001b[0;34m:\u001b[0m\u001b[0;34m\u001b[0m\u001b[0;34m\u001b[0m\u001b[0m\n\u001b[0;32m--> 102\u001b[0;31m         \u001b[0;32mreturn\u001b[0m \u001b[0mF\u001b[0m\u001b[0;34m.\u001b[0m\u001b[0mlinear\u001b[0m\u001b[0;34m(\u001b[0m\u001b[0mx\u001b[0m\u001b[0;34m,\u001b[0m \u001b[0mself\u001b[0m\u001b[0;34m.\u001b[0m\u001b[0mweight\u001b[0m\u001b[0;34m,\u001b[0m \u001b[0mself\u001b[0m\u001b[0;34m.\u001b[0m\u001b[0mbias\u001b[0m\u001b[0;34m)\u001b[0m\u001b[0;34m\u001b[0m\u001b[0;34m\u001b[0m\u001b[0m\n\u001b[0m\u001b[1;32m    103\u001b[0m \u001b[0;34m\u001b[0m\u001b[0m\n\u001b[1;32m    104\u001b[0m     \u001b[0;34m@\u001b[0m\u001b[0mtorch\u001b[0m\u001b[0;34m.\u001b[0m\u001b[0mno_grad\u001b[0m\u001b[0;34m(\u001b[0m\u001b[0;34m)\u001b[0m\u001b[0;34m\u001b[0m\u001b[0;34m\u001b[0m\u001b[0m\n",
      "\u001b[0;32m~/.conda/envs/deepgd/lib/python3.9/site-packages/torch/nn/modules/module.py\u001b[0m in \u001b[0;36m__getattr__\u001b[0;34m(self, name)\u001b[0m\n\u001b[1;32m   1115\u001b[0m             \u001b[0mself\u001b[0m\u001b[0;34m.\u001b[0m\u001b[0m_is_full_backward_hook\u001b[0m \u001b[0;34m=\u001b[0m \u001b[0;32mNone\u001b[0m\u001b[0;34m\u001b[0m\u001b[0;34m\u001b[0m\u001b[0m\n\u001b[1;32m   1116\u001b[0m \u001b[0;34m\u001b[0m\u001b[0m\n\u001b[0;32m-> 1117\u001b[0;31m     \u001b[0;32mdef\u001b[0m \u001b[0m__getattr__\u001b[0m\u001b[0;34m(\u001b[0m\u001b[0mself\u001b[0m\u001b[0;34m,\u001b[0m \u001b[0mname\u001b[0m\u001b[0;34m:\u001b[0m \u001b[0mstr\u001b[0m\u001b[0;34m)\u001b[0m \u001b[0;34m->\u001b[0m \u001b[0mUnion\u001b[0m\u001b[0;34m[\u001b[0m\u001b[0mTensor\u001b[0m\u001b[0;34m,\u001b[0m \u001b[0;34m'Module'\u001b[0m\u001b[0;34m]\u001b[0m\u001b[0;34m:\u001b[0m\u001b[0;34m\u001b[0m\u001b[0;34m\u001b[0m\u001b[0m\n\u001b[0m\u001b[1;32m   1118\u001b[0m         \u001b[0;32mif\u001b[0m \u001b[0;34m'_parameters'\u001b[0m \u001b[0;32min\u001b[0m \u001b[0mself\u001b[0m\u001b[0;34m.\u001b[0m\u001b[0m__dict__\u001b[0m\u001b[0;34m:\u001b[0m\u001b[0;34m\u001b[0m\u001b[0;34m\u001b[0m\u001b[0m\n\u001b[1;32m   1119\u001b[0m             \u001b[0m_parameters\u001b[0m \u001b[0;34m=\u001b[0m \u001b[0mself\u001b[0m\u001b[0;34m.\u001b[0m\u001b[0m__dict__\u001b[0m\u001b[0;34m[\u001b[0m\u001b[0;34m'_parameters'\u001b[0m\u001b[0;34m]\u001b[0m\u001b[0;34m\u001b[0m\u001b[0;34m\u001b[0m\u001b[0m\n",
      "\u001b[0;31mKeyboardInterrupt\u001b[0m: "
     ]
    }
   ],
   "source": [
    "def train_dis(batch, epoch):\n",
    "    generator.requires_grad_(False)\n",
    "    discriminator.zero_grad()\n",
    "    generator_output = generator(batch)\n",
    "    if config.discriminator.noise.std > 0:\n",
    "        generator_output = generator_output + torch.randn_like(generator_output) * config.discriminator.noise.std * config.discriminator.noise.decay ** epoch\n",
    "    discriminator_loss = get_gan_loss(batch, generator_output, mode='discriminator')\n",
    "    \n",
    "    # train discriminator\n",
    "    discriminator_loss.backward()\n",
    "    discriminator_optimizer.step()\n",
    "\n",
    "    # gradient penalty\n",
    "    if config.gp_weight > 0:\n",
    "        discriminator.zero_grad()\n",
    "        gp_loss = get_gp_loss(batch, generator_output, config.gp_weight)\n",
    "        gp_loss.backward()\n",
    "        discriminator_optimizer.step()\n",
    "\n",
    "    hud['dis_loss'] = format(discriminator_loss.item(), '.2e')\n",
    "    pbar().update()\n",
    "\n",
    "def train_gen(batch, epoch):\n",
    "    generator.requires_grad_(True)\n",
    "    generator.zero_grad()\n",
    "    discriminator.zero_grad()\n",
    "    generator_output = generator(batch)\n",
    "    if config.discriminator.noise.std > 0:\n",
    "        generator_output = generator_output + torch.randn_like(generator_output) * config.discriminator.noise.std * config.discriminator.noise.decay ** epoch\n",
    "    generator_loss = get_gan_loss(batch, generator_output, mode='generator') \n",
    "    \n",
    "    #train generator\n",
    "    generator_loss.backward()\n",
    "    generator_optimizer.step()\n",
    "\n",
    "    with torch.no_grad():\n",
    "        dis_batch = dis_convert(batch, generator_output)\n",
    "        stress = stress_criterion(dis_batch).mean()\n",
    "        critic = discriminator(dis_batch).mean()\n",
    "    hud.append({'gen_loss': format(generator_loss.item(), '.2e'),\n",
    "                'stress': format(stress.item(), '.2e'),\n",
    "                'critic': format(critic.item(), '.2e')})\n",
    "    pbar().update()\n",
    "\n",
    "def cuda_memsafe_map(fn, *iterables, summary=False):\n",
    "    total, failed = 0, 0\n",
    "    iterator = zip(*iterables)\n",
    "    items = None\n",
    "    while True:\n",
    "        try:\n",
    "            items = next(iterator)\n",
    "            yield fn(*items)\n",
    "        except StopIteration:\n",
    "            if summary:\n",
    "                print(f'Iteration finished. {failed} out of {total} failed!')\n",
    "            break\n",
    "        except RuntimeError:\n",
    "            print('CUDA memory overflow! Skip batch...')\n",
    "            del items\n",
    "            failed += 1\n",
    "        torch.cuda.empty_cache()\n",
    "        total += 1\n",
    "    \n",
    "def validate(model, data_loader, criterion=val_criterion):\n",
    "    def val_one_batch(batch):\n",
    "        batch = preprocess_batch(model, batch)\n",
    "        pred = CanonicalizationByStress()(model(batch), batch)\n",
    "        gt = CanonicalizationByStress()(batch.gt_pos, batch)\n",
    "        loss = criterion(pred, batch)\n",
    "        gt_loss = criterion(gt, batch)\n",
    "        spc = (loss - gt_loss) / torch.maximum(torch.maximum(loss, gt_loss), torch.ones_like(loss)*1e-5)\n",
    "        return loss.mean().item(), spc.mean().item()\n",
    "    loss_all, spc_all = zip(*cuda_memsafe_map(val_one_batch, data_loader))\n",
    "    return np.mean(loss_all), np.mean(spc_all)\n",
    "\n",
    "def log(msg):\n",
    "    msg = f\"[{epoch:03}] {msg}\"\n",
    "    print(msg, file=open(paths.log(), \"a\"))\n",
    "    with log_out: \n",
    "        print(msg)\n",
    "\n",
    "print(f\"{'='*10} {config.link} {'='*10}\", file=open(paths.log(), \"a\"))\n",
    "hud = Hud()\n",
    "pbar = Wrapper(tqdm, total=len(train_loader)*2, smoothing=0)\n",
    "plot_out = Output()\n",
    "log_out = Output()\n",
    "tabs = {\"status\": VBox([pbar, hud]), \n",
    "        \"plot\": HBox([plot_out], layout=Layout(height='500px', overflow_y='auto')),\n",
    "        \"log\": HBox([log_out], layout=Layout(height='500px', overflow_y='auto'))}\n",
    "tab_bar = Tab(children=list(tabs.values()))\n",
    "[tab_bar.set_title(i, name) for i, name in enumerate(tabs)]\n",
    "display(tab_bar)\n",
    "while True:\n",
    "    if epoch % config.log_interval == 0:\n",
    "        torch.save(generator.state_dict(), f\"{paths.checkpoints()}/gen_epoch_{epoch}.pt\")\n",
    "        torch.save(generator_optimizer.state_dict(), f\"{paths.checkpoints()}/gen_optim_epoch_{epoch}.pt\")\n",
    "        torch.save(discriminator.state_dict(), f\"{paths.checkpoints()}/dis_epoch_{epoch}.pt\")\n",
    "        torch.save(discriminator_optimizer.state_dict(), f\"{paths.checkpoints()}/dis_optim_epoch_{epoch}.pt\")\n",
    "        generator.eval()\n",
    "        with torch.no_grad():\n",
    "            val_stress, val_stress_spc = validate(model=generator, data_loader=val_loader)\n",
    "            val_xing, val_xing_spc = validate(model=generator, data_loader=val_loader, criterion=xing_criterion)\n",
    "            with plot_out:\n",
    "                fig = plt.figure()\n",
    "                graph_vis(G_list[11100], generator(make_batch(data_list[11100]).to(device)).cpu())\n",
    "                plt.show()\n",
    "        # tensorboard.add_scalars('loss', {'train': train_loss, \n",
    "        #                                  'validation': val_loss}, epoch)\n",
    "        # for i, fn in enumerate(loss_fns):\n",
    "        #     tensorboard.add_scalars(type(fn).__name__, {'train': train_loss_comp[i].item(), \n",
    "        #                                           'validation': val_loss_comp[i].item()}, epoch)\n",
    "        hud.append({\n",
    "            'val_stress': format(val_stress, '.2f'),\n",
    "            'val_stress_spc': format(val_stress_spc, '.2%'),\n",
    "            'val_xing': format(val_xing, '.2f'),\n",
    "            'val_xing_spc': format(val_xing_spc, '.2%'),\n",
    "        })\n",
    "        log(f\"stress={hud.data['val_stress']}({hud.data['val_stress_spc']}) xing={hud.data['val_xing']}({hud.data['val_xing_spc']})\")\n",
    "        \n",
    "    # handle.update(tab_bar)\n",
    "    pbar().reset()\n",
    "    pbar().set_description(desc=f\"[epoch {epoch}/{config.epoch.end}]\")\n",
    "    hud(title=f\"epoch {epoch}\")\n",
    "    generator.train()\n",
    "    discriminator.train()\n",
    "    # proper: proper layout\n",
    "    for _ in range(config.discriminator.repeat):\n",
    "        for batch in train_loader:\n",
    "            train_dis(batch, epoch)\n",
    "            if config.alternate == 'iteration':\n",
    "                train_gen(batch, epoch)\n",
    "\n",
    "    if config.alternate == 'epoch':\n",
    "        for batch in train_loader:\n",
    "            train_gen(batch, epoch)\n",
    "\n",
    "    discriminator_scheduler.step()\n",
    "    generator_scheduler.step()\n",
    "\n",
    "    if epoch == config.epoch.end:\n",
    "        break\n",
    "    epoch += 1"
   ]
  },
  {
   "cell_type": "markdown",
   "metadata": {
    "id": "0qYK_X_hrq9o"
   },
   "source": [
    "# Test"
   ]
  },
  {
   "cell_type": "code",
   "execution_count": 35,
   "metadata": {
    "colab": {
     "base_uri": "https://localhost:8080/"
    },
    "id": "XEvmAtNjWhcY",
    "outputId": "9f4c86a4-a4b0-48f1-cb58-ab3679173184"
   },
   "outputs": [
    {
     "name": "stdout",
     "output_type": "stream",
     "text": [
      "Loading from artifacts/checkpoints/GAN(gan=rgan,data=best(xing,stress),dis=deep,share=12,embed=4,gp=0,decay=.98)/gen_epoch_1182.pt...\n"
     ]
    },
    {
     "data": {
      "text/plain": [
       "<All keys matched successfully>"
      ]
     },
     "execution_count": 35,
     "metadata": {},
     "output_type": "execute_result"
    }
   ],
   "source": [
    "test_epoch = -1\n",
    "\n",
    "test_generator = Generator(**config.generator.params[...]).to(device)\n",
    "test_ckpt_epoch = get_ckpt_epoch(paths.checkpoints(), test_epoch)\n",
    "test_ckpt_file = f\"{paths.checkpoints()}/gen_epoch_{test_ckpt_epoch}.pt\"\n",
    "print(f\"Loading from {test_ckpt_file}...\")\n",
    "test_generator.load_state_dict(torch.load(test_ckpt_file, map_location=torch.device(device)))"
   ]
  },
  {
   "cell_type": "code",
   "execution_count": 36,
   "metadata": {
    "colab": {
     "background_save": true,
     "base_uri": "https://localhost:8080/",
     "height": 1000,
     "referenced_widgets": [
      "9b7d18992dbf4a84931f916fbaaa37d8",
      "2c664d7e1e6d474fb87094fc0da270d3",
      "d375f5f82a4645d7b29c541596dc1c7f",
      "ecfa311bb06b4f6fa504598263ff69d3",
      "d1859990877149eab2b414b4e2a0e0c7",
      "d2be6733734844bca3e1db9b49eb1c1e",
      "4d98072bdf674792a13d77e85dd285d1",
      "f7ed92c383d741a0a1cef2536ff2db13",
      "2ba110f835c64ec4b82974996aed10af",
      "09397ceac9014af0aebca848d4d96d48",
      "fd0709f48d6c4527bc00b5f407f3c1b9"
     ]
    },
    "id": "ZubmSTcYrq9o",
    "outputId": "fc2f65a2-2085-43ac-b110-cbfe742318a8",
    "scrolled": true,
    "tags": []
   },
   "outputs": [
    {
     "data": {
      "application/vnd.jupyter.widget-view+json": {
       "model_id": "f90a83c4ec9d4ab28427ed14ddf40b60",
       "version_major": 2,
       "version_minor": 0
      },
      "text/plain": [
       "  0%|          | 0/1000 [00:00<?, ?it/s]"
      ]
     },
     "metadata": {},
     "output_type": "display_data"
    }
   ],
   "source": [
    "rotate = RotateByPrincipalComponents()\n",
    "def test_callback(*, idx, pred, metrics):\n",
    "    # graph_vis(G_list[idx], pred, file_name=f\"{paths.visualization()}/{idx}_{metrics['stress']:.2f}_{metrics['resolution_score']:.2f}.png\")\n",
    "    pred = rotate(torch.tensor(pred), data_list[idx])\n",
    "    graph_vis(G_list[idx], pred)\n",
    "    plt.title(f\"[pred] idx: {idx}, stress: {metrics['stress']:.2f}({metrics['stress_spc']:.2%}), xing: {metrics['xing']:.2f}({metrics['xing_spc']:.2%})\")\n",
    "    plt.show()\n",
    "    gt_pos = rotate(data_list[idx].gt_pos, data_list[idx])\n",
    "    graph_vis(G_list[idx], gt_pos, node_color='orange')\n",
    "    plt.title(f\"[gt] idx: {idx}, stress: {metrics['gt_stress']:.2f}, xing: {metrics['gt_xing']:.2f}\")\n",
    "    plt.show()\n",
    "    \n",
    "test_metrics = test(model=test_generator, \n",
    "                    criteria_list=[], \n",
    "                    dataset=data_list, \n",
    "                    idx_range=range(10000, 11000), \n",
    "#                     callback=test_callback,\n",
    "                    gt_pos=None)\n",
    "pickle.dump(test_metrics, open(paths.metrics(\"test\"), \"wb\"))"
   ]
  },
  {
   "cell_type": "code",
   "execution_count": 37,
   "metadata": {
    "colab": {
     "base_uri": "https://localhost:8080/",
     "height": 318
    },
    "id": "t2rFXIr_PsrJ",
    "outputId": "6a4205b1-4630-4de4-ec72-bdba3d3ea114"
   },
   "outputs": [
    {
     "name": "stdout",
     "output_type": "stream",
     "text": [
      "stress: tensor(327.2992)\n",
      "stress_spc: tensor(0.0491, dtype=torch.float64)\n",
      "xing: tensor(27.9160)\n",
      "xing_spc: tensor(0.1802, dtype=torch.float64)\n",
      "l1_angle: tensor(79.9404)\n",
      "l1_angle_spc: tensor(0.0412, dtype=torch.float64)\n",
      "edge: tensor(0.1601)\n",
      "edge_spc: tensor(0.1460, dtype=torch.float64)\n",
      "ring: tensor(252.6336)\n",
      "ring_spc: tensor(-0.0038, dtype=torch.float64)\n",
      "tsne: tensor(0.1993)\n",
      "tsne_spc: tensor(0.0596, dtype=torch.float64)\n",
      "reso_score: tensor(0.6043)\n",
      "min_angle: tensor(5.8738)\n"
     ]
    },
    {
     "data": {
      "text/html": [
       "<div>\n",
       "<style scoped>\n",
       "    .dataframe tbody tr th:only-of-type {\n",
       "        vertical-align: middle;\n",
       "    }\n",
       "\n",
       "    .dataframe tbody tr th {\n",
       "        vertical-align: top;\n",
       "    }\n",
       "\n",
       "    .dataframe thead th {\n",
       "        text-align: right;\n",
       "    }\n",
       "</style>\n",
       "<table border=\"1\" class=\"dataframe\">\n",
       "  <thead>\n",
       "    <tr style=\"text-align: right;\">\n",
       "      <th></th>\n",
       "      <th>0</th>\n",
       "      <th>1</th>\n",
       "      <th>2</th>\n",
       "      <th>3</th>\n",
       "      <th>4</th>\n",
       "      <th>5</th>\n",
       "      <th>6</th>\n",
       "      <th>7</th>\n",
       "      <th>8</th>\n",
       "      <th>9</th>\n",
       "      <th>10</th>\n",
       "      <th>11</th>\n",
       "      <th>12</th>\n",
       "      <th>13</th>\n",
       "    </tr>\n",
       "  </thead>\n",
       "  <tbody>\n",
       "    <tr>\n",
       "      <th>0</th>\n",
       "      <td>327.2992</td>\n",
       "      <td>0.0491</td>\n",
       "      <td>27.9160</td>\n",
       "      <td>0.1802</td>\n",
       "      <td>79.9404</td>\n",
       "      <td>0.0412</td>\n",
       "      <td>0.1601</td>\n",
       "      <td>0.1460</td>\n",
       "      <td>252.6336</td>\n",
       "      <td>-0.0038</td>\n",
       "      <td>0.1993</td>\n",
       "      <td>0.0596</td>\n",
       "      <td>0.6043</td>\n",
       "      <td>5.8738</td>\n",
       "    </tr>\n",
       "  </tbody>\n",
       "</table>\n",
       "</div>"
      ],
      "text/plain": [
       "         0       1        2       3        4       5       6       7   \\\n",
       "0  327.2992  0.0491  27.9160  0.1802  79.9404  0.0412  0.1601  0.1460   \n",
       "\n",
       "         8        9       10      11      12      13  \n",
       "0  252.6336  -0.0038  0.1993  0.0596  0.6043  5.8738  "
      ]
     },
     "execution_count": 37,
     "metadata": {},
     "output_type": "execute_result"
    }
   ],
   "source": [
    "metrics = test_metrics\n",
    "print('stress:', metrics['stress'].mean())\n",
    "print('stress_spc:', metrics['stress_spc'].mean())\n",
    "print('xing:', metrics['xing'].mean())\n",
    "print('xing_spc:', metrics['xing_spc'].mean())\n",
    "print('l1_angle:', metrics['l1_angle'].mean())\n",
    "print('l1_angle_spc:', metrics['l1_angle_spc'].mean())\n",
    "print('edge:', metrics['edge'].mean())\n",
    "print('edge_spc:', metrics['edge_spc'].mean())\n",
    "print('ring:', metrics['ring'].mean())\n",
    "print('ring_spc:', metrics['ring_spc'].mean())\n",
    "print('tsne:', metrics['tsne'].mean())\n",
    "print('tsne_spc:', metrics['tsne_spc'].mean())\n",
    "print('reso_score:', metrics['resolution_score'].mean())\n",
    "print('min_angle:', metrics['min_angle'].mean())\n",
    "pd.DataFrame(map(lambda m: f\"{metrics[m].mean().item():.4f}\", list(metrics.keys())[:-1])).T"
   ]
  },
  {
   "cell_type": "code",
   "execution_count": 38,
   "metadata": {
    "id": "5e7vPr0M3mmG"
   },
   "outputs": [],
   "source": [
    "metrics = {}"
   ]
  },
  {
   "cell_type": "code",
   "execution_count": 39,
   "metadata": {},
   "outputs": [],
   "source": [
    "methods = ['fa2']"
   ]
  },
  {
   "cell_type": "code",
   "execution_count": 40,
   "metadata": {
    "colab": {
     "base_uri": "https://localhost:8080/",
     "height": 433,
     "referenced_widgets": [
      "a0cf6e046add4e639e52db69656e0db9",
      "8e237731bb1241ac858581b25389c012",
      "0891547293ad4211a138a4d92e01bb0b",
      "34912c8e581e47a99a1c4829c38cb75c",
      "5aa034c99c94424e835a2ee954b829ed",
      "248f6393eff74c3eb8740ca6d698045b",
      "686687a29c7f4ec98c4d76ca2062b14b",
      "996a84d1c23b47e4a2af252c6b60f55d",
      "3507f883bb954412b21c1c5641763ed7",
      "9582a849d91e457cadd514c95d6e1b5b",
      "52bfe674c2c547e09b7400a32a96f703",
      "93d58b3a12394fe1aa6f0431fc7cb0db",
      "af1d7855c9d646b0bcc7d95c4cb147a6",
      "f820e2b898cd461da04a4f651d27273d",
      "c0a112cfaa3d4d0aa9530372de84d8fb",
      "fd03985495694fbf9feb3f31ef8d18ce",
      "e02a2b36aa4c4d6fb5d2ac6693c1a927",
      "06f388ff5e3a48828d465096fe69977b",
      "c0052778c9c940e88935593e9f94b83b",
      "99a5e77a192d4a989c4534237eb16730",
      "77c6da092a6647fc9e54f7e276d75616",
      "8c13c0e8b5934117a662a78296bcb1b6",
      "cdcc3bd4235247b48c468c0f6b7682cc",
      "a2c6fa6fef4549cc853fa93b4b18cf95",
      "15cc02a756314083801b5f6798a1948c",
      "24d1c67fe52f452ab0c767e3c1a818aa",
      "c117db25c6fd484a9d0c7f210ccb1ade",
      "b090b60b61084cf692b3066dfac7f0a8",
      "5eab9848059c491b9c6cbac88683f025",
      "e87ffbaa1f204b52b9226337a506b040",
      "cf52198a9e4b46c7b49537a79919c09e",
      "51501227bc064ccbab97c22a679a0750",
      "d1b794a997dc457888a90bf44faee9b4",
      "21a755b50e5047bea797eccf24b35a0c",
      "16e78c3823ec4faf9f9cd9095b218ff5",
      "4ccd332c6b734acd8eff236eaf568dfa",
      "bd60fd13748347e48629df78fa455765",
      "e9187e4ba80b4fafa0334dae2e39aded",
      "4c39ec7c92b4402e8eedcb27beabaab1",
      "59a8194269f943bba571f710ad856973",
      "8e41bc25b9f348b1b85b381547cd60d1",
      "34d0f1529e64437fb25e639b41096072",
      "7e832c7543df43668eb72c0aa6356349",
      "f94162c9c5fe4c2581e3b80beaeb820b",
      "0284946fccf34607b25e1d6d81d4f72a",
      "8e8d4243a3624ba58d760bdf601d5126",
      "b1f0932594fe44f4be4beb8880172871",
      "820bb554d139437b8f6a6997f9002261",
      "459e375d1fe4497cb4197ef88e303c6d",
      "5726814966da46bbba942a114de4b319",
      "448beea5445f4642809801da46aa7e7c",
      "3746c0f0daf04f51805b4c95db20063a",
      "2ff74d1c705348438a32da37910c3300",
      "52f03147b5ab4cb390f9802b7a17a508",
      "5428511d652a47348203e8f3cd2e076d",
      "7b58569bee2e44c5a61a81f9a32c4c01",
      "c5e05d74b9404333a8155304e3497ba2",
      "3ad4e058bde44d87abab780368d49118",
      "8e437049b5c74ff1beddad93e30b19aa",
      "0c61377f4cc34b27ae34bdd6d976d868",
      "9ce35f9a9a23436ea77604513b5c4659",
      "dafbc43ad79c4feda093aefe490fc4b3",
      "497160b6bf80469a89680a03a468c8bb",
      "3265725ecb914981b6f07f68b8a582df",
      "1f0ac20d99d04ffb9ee75613526d3de6",
      "dee0e5716560483b8e2b107566439d94",
      "ca99841a1abd4fbd94927c49aaa711cb",
      "163a44ff1be04583ae7bd62726c55204",
      "f3b727045a0b4b4fabd147ec9c843e14",
      "7c4b4fe859cf48ab99b7e2780a24a539",
      "d9700cffab66480cb81e3722faab4e8b",
      "2c49acc1e0a64aa4b8ec461b0596848e",
      "691817157f43412f9c36002167606b75",
      "d0ae688d71734b56bb348de54e841798",
      "07a364ebcdaa491dbcc2304e4a8dae96",
      "538b277307b1449eaa79a2a91b4741d3",
      "f7b7dd4cbaa5468687b988c5e416a154",
      "877be862a4f045ec8b221097626becb5",
      "1bf37012df0844338ac689d4f6cc8eab",
      "33fe06641be544d3aab2c25cb979416f",
      "68de0d9261fa4e6999967b6f196d149c",
      "7017c5ba1ffc467495aca2689e516f7d",
      "e0997460cc21428695a0c278c6691baf",
      "522443bef4904996b6361ea265c4c56f",
      "dfe044b67917466f971ba84a11956d5e",
      "70b2d0ba1c1d4102841fb963480de1c7",
      "7b158daacd754a40bc0a48fc9ea6fea2",
      "8904f61ff30741e488eacf0e49440f66",
      "685dee6f1e1f4c2983d2d0b8eb90ed00",
      "005155a4d62d48cbbaf3d69614b08d81",
      "d2779dfa620041e4b32a7731926a5982",
      "53048bf27cb24080b4cdf20379302223",
      "0b5bff7794a14a20964da70b87158c2c",
      "ec664e55ea16435590393ae1617cccea",
      "f10d62ef464a45a7935610d869c282e3",
      "5e7c09bc35db4a3a8b9847c6d8478883",
      "987ea331b617446facc81b08bab1f8c4",
      "446c5a687b0d43358ab036d43ce281c3",
      "d89e216f62ae4a9999da1a91dd5e48b9",
      "09d03e7e66f54cafacefbfeda5fd6e5c",
      "d58c680562a44bbd9252e7ec6eebc06c",
      "71ea2594fdd942acac1cc61055438544",
      "fecda4df301b437f9fbfb61a7b593dc0",
      "bcf6741d926248cb92acf627d6557d2b",
      "5bd9868b9bda4f68b500a43916e2d148",
      "4bc5e02035de44ad827c4f881fd75afc",
      "7d80033a955e4feb947ca9cea931d90b",
      "e975c796d80d498992a50f87a2b0105c",
      "028b2ff105904a19a9a3e8ebf66967bb",
      "10dbf2cbdb1943eda6a0acaf5da3fe85",
      "14d59c7acc5e4e07a289db44406a4851",
      "d9447df93d714907bc9c768eb4910352",
      "d4a9ace081bf488680a7e43e0eaed71d",
      "022a60cde19546bfa6ecfb4947615ad9",
      "10c01207d9ba4fe197dc80717fceecc0",
      "f4995936570d4ba1a65e9a66e410b505",
      "b4bf66303e61491385cd616076a11c04",
      "a24ab2bfe7a44263bf60936d6e53ec32",
      "59e2e8ecc9f84d57af7bf44f5bba5df7",
      "be2eb92aab8045a99fd19195c3546b60",
      "e6715db2b048434796e910952cb5eb62",
      "8de2335007ba4a6b9935fa0c514c9f6a",
      "493a4bbe8057437a8c8acf4d03f8dcb0",
      "20b03955acc74e238695717124705520",
      "a89f9507496b4cf8bdd63bdb9bff79c4",
      "9752a1f6c8b6488d9628b8e0c023f10f",
      "61a0bebc687341a7bb3352febc8d4986",
      "07e0ff9c82a444788c60edee70688ca7",
      "4427901f35e54cc48e08527bb402c22a",
      "bd9dafb825954091ba975d71ab8c89ea",
      "7ec0f07bfe51484da38c18dc66d77804",
      "03943afebc4d4b668b54c7a0fd014a37",
      "a7a6b38a76424d738146b6a5786cf2c8",
      "1d1aa4729784470584c0001c1a296008",
      "e0c68ac9b5b442eeb77e6d9ea3c1da42",
      "c858ef9fd9324ab0ab885d85e3c8582f",
      "627bc2899c994a0c96c5d43e89dc77ff",
      "0e2c2f21fa8041038151170992ecb848",
      "2d9bcbf7629a4671bf8755e790276eb7",
      "77a4edf6ab1848a6a6df20c1c07358c6",
      "acf2212d6bb44c729b63281a98377095",
      "0c7a72818da3454190bab7f30a29e249",
      "d865af915b8b4aaa8cec8d40f1f8351d"
     ]
    },
    "id": "s1UnzfID4Ai6",
    "outputId": "3e204e76-68fd-4111-f527-91f6e3b7a3ca"
   },
   "outputs": [
    {
     "data": {
      "application/vnd.jupyter.widget-view+json": {
       "model_id": "a23d35dbde4441149b4785af28d1fb89",
       "version_major": 2,
       "version_minor": 0
      },
      "text/plain": [
       "  0%|          | 0/1000 [00:00<?, ?it/s]"
      ]
     },
     "metadata": {},
     "output_type": "display_data"
    }
   ],
   "source": [
    "for m in methods:\n",
    "    metrics[m] = test(model=test_generator, \n",
    "                      criteria_list=[], \n",
    "                      dataset=data_list, \n",
    "                      idx_range=range(10000, 11000), \n",
    "                      callback=None,\n",
    "                      gt_pos=load_pos(m))"
   ]
  },
  {
   "cell_type": "code",
   "execution_count": 41,
   "metadata": {
    "id": "dQ7hdCtk5u6K"
   },
   "outputs": [],
   "source": [
    "mean_metrics = {key : list(map(lambda m: metrics[key][m].mean().item(), list(metrics[key].keys())[:-1])) for key in metrics}"
   ]
  },
  {
   "cell_type": "code",
   "execution_count": 42,
   "metadata": {
    "colab": {
     "base_uri": "https://localhost:8080/",
     "height": 313
    },
    "id": "OGyaCmLXTuvA",
    "outputId": "6c42d9f3-9869-4504-bc9c-d0eedaecfd90"
   },
   "outputs": [
    {
     "data": {
      "text/html": [
       "<style type=\"text/css\">\n",
       "</style>\n",
       "<table id=\"T_16b72_\">\n",
       "  <thead>\n",
       "    <tr>\n",
       "      <th class=\"blank level0\" >&nbsp;</th>\n",
       "      <th class=\"col_heading level0 col0\" >stress</th>\n",
       "      <th class=\"col_heading level0 col1\" >stress_spc</th>\n",
       "      <th class=\"col_heading level0 col2\" >xing</th>\n",
       "      <th class=\"col_heading level0 col3\" >xing_spc</th>\n",
       "      <th class=\"col_heading level0 col4\" >l1_angle</th>\n",
       "      <th class=\"col_heading level0 col5\" >l1_angle_spc</th>\n",
       "      <th class=\"col_heading level0 col6\" >edge</th>\n",
       "      <th class=\"col_heading level0 col7\" >edge_spc</th>\n",
       "      <th class=\"col_heading level0 col8\" >ring</th>\n",
       "      <th class=\"col_heading level0 col9\" >ring_spc</th>\n",
       "      <th class=\"col_heading level0 col10\" >tsne</th>\n",
       "      <th class=\"col_heading level0 col11\" >tsne_spc</th>\n",
       "      <th class=\"col_heading level0 col12\" >reso_score</th>\n",
       "      <th class=\"col_heading level0 col13\" >min_angle</th>\n",
       "    </tr>\n",
       "  </thead>\n",
       "  <tbody>\n",
       "    <tr>\n",
       "      <th id=\"T_16b72_level0_row0\" class=\"row_heading level0 row0\" >fa2</th>\n",
       "      <td id=\"T_16b72_row0_col0\" class=\"data row0 col0\" >327.294159</td>\n",
       "      <td id=\"T_16b72_row0_col1\" class=\"data row0 col1\" >-10.84%</td>\n",
       "      <td id=\"T_16b72_row0_col2\" class=\"data row0 col2\" >27.922001</td>\n",
       "      <td id=\"T_16b72_row0_col3\" class=\"data row0 col3\" >5.87%</td>\n",
       "      <td id=\"T_16b72_row0_col4\" class=\"data row0 col4\" >79.946281</td>\n",
       "      <td id=\"T_16b72_row0_col5\" class=\"data row0 col5\" >7.41%</td>\n",
       "      <td id=\"T_16b72_row0_col6\" class=\"data row0 col6\" >0.160156</td>\n",
       "      <td id=\"T_16b72_row0_col7\" class=\"data row0 col7\" >-14.64%</td>\n",
       "      <td id=\"T_16b72_row0_col8\" class=\"data row0 col8\" >252.631454</td>\n",
       "      <td id=\"T_16b72_row0_col9\" class=\"data row0 col9\" >-2.38%</td>\n",
       "      <td id=\"T_16b72_row0_col10\" class=\"data row0 col10\" >0.199261</td>\n",
       "      <td id=\"T_16b72_row0_col11\" class=\"data row0 col11\" >2.50%</td>\n",
       "      <td id=\"T_16b72_row0_col12\" class=\"data row0 col12\" >0.604387</td>\n",
       "      <td id=\"T_16b72_row0_col13\" class=\"data row0 col13\" >5.856698</td>\n",
       "    </tr>\n",
       "  </tbody>\n",
       "</table>\n"
      ],
      "text/plain": [
       "<pandas.io.formats.style.Styler at 0x2b4ca7622cd0>"
      ]
     },
     "execution_count": 42,
     "metadata": {},
     "output_type": "execute_result"
    }
   ],
   "source": [
    "columns = [\n",
    "    'stress',\n",
    "    'stress_spc',\n",
    "    'xing',\n",
    "    'xing_spc',\n",
    "    'l1_angle',\n",
    "    'l1_angle_spc',\n",
    "    'edge',\n",
    "    'edge_spc',\n",
    "    'ring',\n",
    "    'ring_spc',\n",
    "    'tsne',\n",
    "    'tsne_spc',\n",
    "    'reso_score',\n",
    "    'min_angle'\n",
    "]\n",
    "df = pd.DataFrame(mean_metrics).set_axis(columns).T\n",
    "df.style.format({c: \"{:.2%}\" for c in columns if 'spc' in c})"
   ]
  },
  {
   "cell_type": "markdown",
   "metadata": {
    "id": "L5S1HWnHOWIl"
   },
   "source": [
    "# Large Graph"
   ]
  },
  {
   "cell_type": "code",
   "execution_count": null,
   "metadata": {
    "id": "_pefPcV1OZdD"
   },
   "outputs": [],
   "source": [
    "scalability = pd.read_csv(f\"/__artifacts__/data/scalability.csv\", index_col=\"index\")\n",
    "scalability"
   ]
  },
  {
   "cell_type": "code",
   "execution_count": null,
   "metadata": {
    "id": "oMhWAsdvPnTX"
   },
   "outputs": [],
   "source": [
    "rescale = CanonicalizationByStress()\n",
    "stressfn = Stress()\n",
    "rotate = RotateByPrincipalComponents()"
   ]
  },
  {
   "cell_type": "code",
   "execution_count": null,
   "metadata": {
    "id": "LR83OcAaPID5"
   },
   "outputs": [],
   "source": [
    "stress_list = []\n",
    "spc_list = []\n",
    "pmds_list = np.load(\"layouts/new_large_graph/pmds.npy\", allow_pickle=True)\n",
    "gviz_list = np.load(\"layouts/new_large_graph/gviz.npy\", allow_pickle=True)\n",
    "with torch.no_grad():\n",
    "    for idx, col in tqdm(scalability.iterrows(), total=len(scalability)):\n",
    "        # if idx not in [406, 516]: continue\n",
    "        torch.cuda.empty_cache()\n",
    "        G = load_mtx(col['file'])\n",
    "        G.remove_edges_from(nx.selfloop_edges(G))\n",
    "        data = generate_data_list(G, \n",
    "                                sparse=data_config.sparse, \n",
    "                                pivot_mode=data_config.pivot,\n",
    "                                init_mode=data_config.init,\n",
    "                                edge_index=data_config.edge.index,\n",
    "                                edge_attr=data_config.edge.attr,\n",
    "                                pmds_list=pmds_list[idx],\n",
    "                                gviz_list=gviz_list[idx],\n",
    "                                device=device)\n",
    "        batch = Batch.from_data_list([data]).to(device)\n",
    "        # generator.train()\n",
    "        # generator(batch)\n",
    "        generator.eval()\n",
    "        pred = generator(batch)\n",
    "        pos = rotate(rescale(pred, batch), batch)\n",
    "        gt = rotate(rescale(batch.gt_pos, batch), batch)\n",
    "        stress = stressfn(pos, batch).item()\n",
    "        gt_stress = stressfn(gt, batch).item()\n",
    "        spc = (stress - gt_stress) / np.maximum(stress, gt_stress)\n",
    "        stress_list.append(stress)\n",
    "        spc_list.append(spc)\n",
    "\n",
    "        np.save(f\"/__artifacts__/gan_result/data/scalability_{idx}.npy\", pos.cpu().numpy())\n",
    "        graph_attr = dict(node_size=1, \n",
    "                        with_labels=False, \n",
    "                        labels=dict(zip(list(G.nodes), map(lambda n: n if type(n) is int else n[1:], list(G.nodes)))),\n",
    "                        font_color=\"white\", \n",
    "                        font_weight=\"bold\",\n",
    "                        font_size=12,\n",
    "                        width=0.1)\n",
    "\n",
    "        # gt_pos = pickle.load(open(f\"/__artifacts__/data/scalability_{idx}_gt.pkl\", \"rb\"))\n",
    "\n",
    "        plt.figure(figsize=[12, 9])\n",
    "        nx.draw(G, pos=gt.cpu().numpy(), node_color='orange', **graph_attr)\n",
    "        plt.title(f\"neato: large_{idx}\")\n",
    "        plt.axis(\"equal\")\n",
    "        plt.savefig(f\"/__artifacts__/gan_result/output/{idx}_{col['name']}_{col['n']}_{spc}_nx.png\", dpi=300)\n",
    "        plt.show()\n",
    "\n",
    "        plt.figure(figsize=[12, 9])\n",
    "        graph_vis(G, pos.cpu().numpy(), **graph_attr)\n",
    "        plt.title(f\"dgd: large_{idx}, spc={spc:.2%}\")\n",
    "        plt.axis(\"equal\")\n",
    "        plt.savefig(f\"/__artifacts__/gan_result/output/{idx}_{col['name']}_{col['n']}_{spc}_dgd.png\", dpi=300)\n",
    "        plt.show()"
   ]
  },
  {
   "cell_type": "code",
   "execution_count": null,
   "metadata": {
    "id": "gRXTewkYeuq1"
   },
   "outputs": [],
   "source": []
  }
 ],
 "metadata": {
  "accelerator": "GPU",
  "colab": {
   "collapsed_sections": [
    "w_p3OD0woiSM",
    "DR6-vYtr_i_P",
    "innqkwvH_ydD",
    "f-ODE2k8BFV6",
    "N39dDHraedM6"
   ],
   "machine_shape": "hm",
   "name": "GAN(gan=rgan,data=best(xing,stress),dis=deep,share=16,embed=0,gp=0).ipynb",
   "provenance": []
  },
  "kernelspec": {
   "display_name": "DeepGD",
   "language": "python",
   "name": "deepgd"
  },
  "language_info": {
   "codemirror_mode": {
    "name": "ipython",
    "version": 3
   },
   "file_extension": ".py",
   "mimetype": "text/x-python",
   "name": "python",
   "nbconvert_exporter": "python",
   "pygments_lexer": "ipython3",
   "version": "3.9.7"
  },
  "widgets": {
   "application/vnd.jupyter.widget-state+json": {
    "state": {
     "06f8ff35a6e34567867200818bca84d0": {
      "model_module": "@jupyter-widgets/controls",
      "model_module_version": "1.5.0",
      "model_name": "DescriptionStyleModel",
      "state": {
       "description_width": ""
      }
     },
     "072c3e4f94bc4af5a8e93356c85287c7": {
      "model_module": "@jupyter-widgets/base",
      "model_module_version": "1.2.0",
      "model_name": "LayoutModel",
      "state": {}
     },
     "0bbb9af8cf6e4503bbdf3b0264fdc10e": {
      "model_module": "@jupyter-widgets/controls",
      "model_module_version": "1.5.0",
      "model_name": "HBoxModel",
      "state": {
       "children": [
        "IPY_MODEL_e4ee44e78f5a4051a5106e097a6104e2"
       ],
       "layout": "IPY_MODEL_93d4de55aac14474ac4289a1cff33e44"
      }
     },
     "0be02131100b4d9399a60ed89ef73952": {
      "model_module": "@jupyter-widgets/controls",
      "model_module_version": "1.5.0",
      "model_name": "DescriptionStyleModel",
      "state": {
       "description_width": ""
      }
     },
     "0bfc4179484e47e689da3585134046c5": {
      "model_module": "@jupyter-widgets/controls",
      "model_module_version": "1.5.0",
      "model_name": "HTMLModel",
      "state": {
       "layout": "IPY_MODEL_a2fe717683634a85abd0fe9967b2b7b2",
       "style": "IPY_MODEL_e243505bd6ce4a9d872b389c642484c6",
       "value": "100%"
      }
     },
     "0d26d7ddd7b2482a821645a6cfe30c4d": {
      "model_module": "@jupyter-widgets/base",
      "model_module_version": "1.2.0",
      "model_name": "LayoutModel",
      "state": {}
     },
     "0d65b31c36a04b1d88c7fca8ff9d553a": {
      "model_module": "@jupyter-widgets/controls",
      "model_module_version": "1.5.0",
      "model_name": "DescriptionStyleModel",
      "state": {
       "description_width": ""
      }
     },
     "0e8342982bd6426ca55c6019b839b891": {
      "model_module": "@jupyter-widgets/base",
      "model_module_version": "1.2.0",
      "model_name": "LayoutModel",
      "state": {}
     },
     "11cb0a20f6db4af798c80007febfcbf7": {
      "model_module": "@jupyter-widgets/controls",
      "model_module_version": "1.5.0",
      "model_name": "DescriptionStyleModel",
      "state": {
       "description_width": ""
      }
     },
     "1249b0a612464be1b8d98eec6d221fcb": {
      "model_module": "@jupyter-widgets/controls",
      "model_module_version": "1.5.0",
      "model_name": "TabModel",
      "state": {
       "_titles": {
        "0": "status",
        "1": "plot",
        "2": "log"
       },
       "children": [
        "IPY_MODEL_ee4fe42b4d454ceebf2f75d36e75ef0a",
        "IPY_MODEL_b64416eb5cc94139b833c56a8f6f4e1e",
        "IPY_MODEL_91e6b39219054967b9fcf898a2b43c8f"
       ],
       "layout": "IPY_MODEL_653adaad5644485a92e6722563f7f15b"
      }
     },
     "144c292d630a4e21ae88f49e67ea98bf": {
      "model_module": "@jupyter-widgets/base",
      "model_module_version": "1.2.0",
      "model_name": "LayoutModel",
      "state": {}
     },
     "159121cbeb9d4aaebc7e35525b8dbb14": {
      "model_module": "@jupyter-widgets/base",
      "model_module_version": "1.2.0",
      "model_name": "LayoutModel",
      "state": {}
     },
     "178ee8ae07284446ac512e528d780d62": {
      "model_module": "@jupyter-widgets/controls",
      "model_module_version": "1.5.0",
      "model_name": "ProgressStyleModel",
      "state": {
       "description_width": ""
      }
     },
     "1bcc56387daf462385c696a3c6453034": {
      "model_module": "@jupyter-widgets/controls",
      "model_module_version": "1.5.0",
      "model_name": "HTMLModel",
      "state": {
       "layout": "IPY_MODEL_d3b5b541d02d4580b3b14447933bec25",
       "style": "IPY_MODEL_9d67b3d495714fdfa6a3c671a3a65dd4",
       "value": "100%"
      }
     },
     "1d2fb66e6c554629b7219a563aa989d8": {
      "model_module": "@jupyter-widgets/base",
      "model_module_version": "1.2.0",
      "model_name": "LayoutModel",
      "state": {}
     },
     "1db96c8c35904ce5b4eaad88243e84e5": {
      "model_module": "@jupyter-widgets/base",
      "model_module_version": "1.2.0",
      "model_name": "LayoutModel",
      "state": {}
     },
     "1ee832e1743c42639d52a585b394ffd2": {
      "model_module": "@jupyter-widgets/controls",
      "model_module_version": "1.5.0",
      "model_name": "DescriptionStyleModel",
      "state": {
       "description_width": ""
      }
     },
     "201cf5b9d95045d7a3aa39d860c6b59d": {
      "model_module": "@jupyter-widgets/base",
      "model_module_version": "1.2.0",
      "model_name": "LayoutModel",
      "state": {}
     },
     "22acedf1e75146d3a1b5361557fe48c3": {
      "model_module": "@jupyter-widgets/controls",
      "model_module_version": "1.5.0",
      "model_name": "ProgressStyleModel",
      "state": {
       "description_width": ""
      }
     },
     "281454dd0d6e4c0f95c5e35efc328db5": {
      "model_module": "@jupyter-widgets/controls",
      "model_module_version": "1.5.0",
      "model_name": "DescriptionStyleModel",
      "state": {
       "description_width": ""
      }
     },
     "28e053b93ff94fc6b4b97639e30eb1db": {
      "model_module": "@jupyter-widgets/base",
      "model_module_version": "1.2.0",
      "model_name": "LayoutModel",
      "state": {}
     },
     "29ed7f7f0cac48e6b2a51bcef626eb1d": {
      "model_module": "@jupyter-widgets/output",
      "model_module_version": "1.0.0",
      "model_name": "OutputModel",
      "state": {
       "layout": "IPY_MODEL_28e053b93ff94fc6b4b97639e30eb1db"
      }
     },
     "2dc49f0a8d15407ba9cd1e7cd322438c": {
      "model_module": "@jupyter-widgets/base",
      "model_module_version": "1.2.0",
      "model_name": "LayoutModel",
      "state": {}
     },
     "3249a8c1709241ea8e3a83d250ebc0a9": {
      "model_module": "@jupyter-widgets/controls",
      "model_module_version": "1.5.0",
      "model_name": "FloatProgressModel",
      "state": {
       "layout": "IPY_MODEL_144c292d630a4e21ae88f49e67ea98bf",
       "max": 834,
       "style": "IPY_MODEL_22acedf1e75146d3a1b5361557fe48c3",
       "value": 448
      }
     },
     "335b6c858f8941e4b13a36e0389813b4": {
      "model_module": "@jupyter-widgets/base",
      "model_module_version": "1.2.0",
      "model_name": "LayoutModel",
      "state": {}
     },
     "345afeb058304608b11cde76c015a46d": {
      "model_module": "@jupyter-widgets/controls",
      "model_module_version": "1.5.0",
      "model_name": "HTMLModel",
      "state": {
       "layout": "IPY_MODEL_1db96c8c35904ce5b4eaad88243e84e5",
       "style": "IPY_MODEL_b439d565a6de43f0812dd02c324c5ce4",
       "value": " 18/1000 [00:03&lt;02:34,  6.35it/s]"
      }
     },
     "35baf3867547475bb65e7446ffb137fc": {
      "model_module": "@jupyter-widgets/controls",
      "model_module_version": "1.5.0",
      "model_name": "DescriptionStyleModel",
      "state": {
       "description_width": ""
      }
     },
     "3a37cb2c0e17420394edf182d67c453a": {
      "model_module": "@jupyter-widgets/controls",
      "model_module_version": "1.5.0",
      "model_name": "HTMLModel",
      "state": {
       "layout": "IPY_MODEL_e7d2b3d445b44482bdf190de0d88b771",
       "style": "IPY_MODEL_35baf3867547475bb65e7446ffb137fc",
       "value": " 1000/1000 [00:47&lt;00:00, 19.66it/s]"
      }
     },
     "3ba933a5b6c44138a1726fdaff11940a": {
      "model_module": "@jupyter-widgets/base",
      "model_module_version": "1.2.0",
      "model_name": "LayoutModel",
      "state": {
       "height": "500px",
       "overflow_y": "auto"
      }
     },
     "3d722547e69c4a0e95e01b9803b855e8": {
      "model_module": "@jupyter-widgets/base",
      "model_module_version": "1.2.0",
      "model_name": "LayoutModel",
      "state": {}
     },
     "42df7c2728c94f03aded4a8490bb77dc": {
      "model_module": "@jupyter-widgets/base",
      "model_module_version": "1.2.0",
      "model_name": "LayoutModel",
      "state": {}
     },
     "434ec35c3e744a1488608e61529db0be": {
      "model_module": "@jupyter-widgets/base",
      "model_module_version": "1.2.0",
      "model_name": "LayoutModel",
      "state": {}
     },
     "4469fcd81b3b4a29be2bd29cc0d7da06": {
      "model_module": "@jupyter-widgets/controls",
      "model_module_version": "1.5.0",
      "model_name": "TabModel",
      "state": {
       "_titles": {
        "0": "status",
        "1": "plot",
        "2": "log"
       },
       "children": [
        "IPY_MODEL_ff77ae4602e04b8a84b3d0ee3a8a43ac",
        "IPY_MODEL_0bbb9af8cf6e4503bbdf3b0264fdc10e",
        "IPY_MODEL_a003403a90644132b92d1d1e89c2cc1b"
       ],
       "layout": "IPY_MODEL_46a0ae6a6eeb41088699805ed4a19876"
      }
     },
     "46a0ae6a6eeb41088699805ed4a19876": {
      "model_module": "@jupyter-widgets/base",
      "model_module_version": "1.2.0",
      "model_name": "LayoutModel",
      "state": {}
     },
     "49cd712575104b9f836be21ecc9d686a": {
      "model_module": "@jupyter-widgets/controls",
      "model_module_version": "1.5.0",
      "model_name": "HTMLModel",
      "state": {
       "layout": "IPY_MODEL_072c3e4f94bc4af5a8e93356c85287c7",
       "style": "IPY_MODEL_1ee832e1743c42639d52a585b394ffd2",
       "value": "[epoch 1182/None]:  54%"
      }
     },
     "4b7d0a9ca5b34a4ba61bfdf239ef3faa": {
      "model_module": "@jupyter-widgets/controls",
      "model_module_version": "1.5.0",
      "model_name": "HTMLModel",
      "state": {
       "layout": "IPY_MODEL_d679b44448054302bc52c7b6cab843c3",
       "style": "IPY_MODEL_0be02131100b4d9399a60ed89ef73952",
       "value": " 11531/11531 [00:00&lt;00:00, 69220.49it/s]"
      }
     },
     "4b8527c1366d414bab607bee774d6502": {
      "model_module": "@jupyter-widgets/controls",
      "model_module_version": "1.5.0",
      "model_name": "HTMLModel",
      "state": {
       "layout": "IPY_MODEL_2dc49f0a8d15407ba9cd1e7cd322438c",
       "style": "IPY_MODEL_63e5891836f641b08613e88a4bdbcc41",
       "value": "  0%"
      }
     },
     "4bd469eec0f440cebbb5a4ab9e65e0ff": {
      "model_module": "@jupyter-widgets/base",
      "model_module_version": "1.2.0",
      "model_name": "LayoutModel",
      "state": {
       "height": "500px",
       "overflow_y": "auto"
      }
     },
     "529862fc84a04d38af094f3a8697487b": {
      "model_module": "@jupyter-widgets/base",
      "model_module_version": "1.2.0",
      "model_name": "LayoutModel",
      "state": {}
     },
     "571c560d6561421f87fc2128e4cf5bcf": {
      "model_module": "@jupyter-widgets/controls",
      "model_module_version": "1.5.0",
      "model_name": "HBoxModel",
      "state": {
       "children": [
        "IPY_MODEL_49cd712575104b9f836be21ecc9d686a",
        "IPY_MODEL_3249a8c1709241ea8e3a83d250ebc0a9",
        "IPY_MODEL_fd31ba7324934d069cb18eee7cc27914"
       ],
       "layout": "IPY_MODEL_8aa38dd075a940a984bc5ac06ae366dd"
      }
     },
     "5a3f0808ffea4e74b92dadfeb369f0f1": {
      "model_module": "@jupyter-widgets/controls",
      "model_module_version": "1.5.0",
      "model_name": "DescriptionStyleModel",
      "state": {
       "description_width": ""
      }
     },
     "5dfbb6834c5c40a7b210a9f5bd92b804": {
      "model_module": "@jupyter-widgets/base",
      "model_module_version": "1.2.0",
      "model_name": "LayoutModel",
      "state": {}
     },
     "602ab5c80aee42f291fd403c8d52c7ab": {
      "model_module": "@jupyter-widgets/base",
      "model_module_version": "1.2.0",
      "model_name": "LayoutModel",
      "state": {}
     },
     "632de75fcb2243c292e56f381270cb17": {
      "model_module": "@jupyter-widgets/base",
      "model_module_version": "1.2.0",
      "model_name": "LayoutModel",
      "state": {}
     },
     "636e99a90e4e4bbcbb95034c222fcab6": {
      "model_module": "@jupyter-widgets/output",
      "model_module_version": "1.0.0",
      "model_name": "OutputModel",
      "state": {
       "layout": "IPY_MODEL_cfd721e441294006a29a60ecca7b0fd5",
       "outputs": [
        {
         "data": {
          "text/html": "<div>\n<style scoped>\n    .dataframe tbody tr th:only-of-type {\n        vertical-align: middle;\n    }\n\n    .dataframe tbody tr th {\n        vertical-align: top;\n    }\n\n    .dataframe thead th {\n        text-align: right;\n    }\n</style>\n<table border=\"1\" class=\"dataframe\">\n  <thead>\n    <tr style=\"text-align: right;\">\n      <th></th>\n    </tr>\n  </thead>\n  <tbody>\n    <tr>\n      <th></th>\n    </tr>\n  </tbody>\n</table>\n</div>",
          "text/plain": "Empty DataFrame\nColumns: []\nIndex: []"
         },
         "metadata": {},
         "output_type": "display_data"
        }
       ]
      }
     },
     "63e5891836f641b08613e88a4bdbcc41": {
      "model_module": "@jupyter-widgets/controls",
      "model_module_version": "1.5.0",
      "model_name": "DescriptionStyleModel",
      "state": {
       "description_width": ""
      }
     },
     "653adaad5644485a92e6722563f7f15b": {
      "model_module": "@jupyter-widgets/base",
      "model_module_version": "1.2.0",
      "model_name": "LayoutModel",
      "state": {}
     },
     "65552b5126374f34a274e3120503c5f9": {
      "model_module": "@jupyter-widgets/controls",
      "model_module_version": "1.5.0",
      "model_name": "HTMLModel",
      "state": {
       "layout": "IPY_MODEL_6c6d17c9d85c4aa1b085c9d0a5f189e8",
       "style": "IPY_MODEL_8808c1ea6a774d54848fe702d71aad40",
       "value": " 11531/11531 [00:00&lt;00:00, 48325.18it/s]"
      }
     },
     "65d6158baad24582864b6e22c2632d05": {
      "model_module": "@jupyter-widgets/output",
      "model_module_version": "1.0.0",
      "model_name": "OutputModel",
      "state": {
       "layout": "IPY_MODEL_0d26d7ddd7b2482a821645a6cfe30c4d",
       "outputs": [
        {
         "data": {
          "application/vnd.jupyter.widget-view+json": {
           "model_id": "",
           "version_major": 2,
           "version_minor": 0
          },
          "text/plain": "  0%|          | 0/834 [00:00<?, ?it/s]"
         },
         "metadata": {},
         "output_type": "display_data"
        }
       ]
      }
     },
     "68358296488146b59adb2f50f346b477": {
      "model_module": "@jupyter-widgets/base",
      "model_module_version": "1.2.0",
      "model_name": "LayoutModel",
      "state": {}
     },
     "6c412d9e7ec9483fa80ac52ee44a4f00": {
      "model_module": "@jupyter-widgets/controls",
      "model_module_version": "1.5.0",
      "model_name": "HBoxModel",
      "state": {
       "children": [
        "IPY_MODEL_4b8527c1366d414bab607bee774d6502",
        "IPY_MODEL_90ca96e8690042c9a8bc8cf61e71b25d",
        "IPY_MODEL_a7ce1dc2267948558838e9c0eba32bf6"
       ],
       "layout": "IPY_MODEL_a872f43450c54d2291821cc09559ba0e"
      }
     },
     "6c6d17c9d85c4aa1b085c9d0a5f189e8": {
      "model_module": "@jupyter-widgets/base",
      "model_module_version": "1.2.0",
      "model_name": "LayoutModel",
      "state": {}
     },
     "6db8b5bacfd94b30a116c3092d1b2ecf": {
      "model_module": "@jupyter-widgets/controls",
      "model_module_version": "1.5.0",
      "model_name": "FloatProgressModel",
      "state": {
       "bar_style": "success",
       "layout": "IPY_MODEL_3d722547e69c4a0e95e01b9803b855e8",
       "max": 11531,
       "style": "IPY_MODEL_178ee8ae07284446ac512e528d780d62",
       "value": 11531
      }
     },
     "7008c4dbbd294750af7b2ab7f3622fb9": {
      "model_module": "@jupyter-widgets/controls",
      "model_module_version": "1.5.0",
      "model_name": "FloatProgressModel",
      "state": {
       "bar_style": "danger",
       "layout": "IPY_MODEL_a4697ec9394e4e6d978ca5deb1326286",
       "max": 1000,
       "style": "IPY_MODEL_78d63d972b1a47ee8a4a9436b6b737f3",
       "value": 18
      }
     },
     "720a532fbf784174a0d52dac14d84b51": {
      "model_module": "@jupyter-widgets/controls",
      "model_module_version": "1.5.0",
      "model_name": "FloatProgressModel",
      "state": {
       "bar_style": "success",
       "layout": "IPY_MODEL_602ab5c80aee42f291fd403c8d52c7ab",
       "max": 1000,
       "style": "IPY_MODEL_983029db3a454c8b969ac1858cb8e3cc",
       "value": 1000
      }
     },
     "78d63d972b1a47ee8a4a9436b6b737f3": {
      "model_module": "@jupyter-widgets/controls",
      "model_module_version": "1.5.0",
      "model_name": "ProgressStyleModel",
      "state": {
       "description_width": ""
      }
     },
     "7dc1cd8e4b9447d1b34f04f7596663da": {
      "model_module": "@jupyter-widgets/base",
      "model_module_version": "1.2.0",
      "model_name": "LayoutModel",
      "state": {}
     },
     "842f282f7b0f4548b2c55e8958e1d06a": {
      "model_module": "@jupyter-widgets/base",
      "model_module_version": "1.2.0",
      "model_name": "LayoutModel",
      "state": {}
     },
     "85e65220c5084308a4f52e212ef8f90e": {
      "model_module": "@jupyter-widgets/base",
      "model_module_version": "1.2.0",
      "model_name": "LayoutModel",
      "state": {}
     },
     "8808c1ea6a774d54848fe702d71aad40": {
      "model_module": "@jupyter-widgets/controls",
      "model_module_version": "1.5.0",
      "model_name": "DescriptionStyleModel",
      "state": {
       "description_width": ""
      }
     },
     "8aa38dd075a940a984bc5ac06ae366dd": {
      "model_module": "@jupyter-widgets/base",
      "model_module_version": "1.2.0",
      "model_name": "LayoutModel",
      "state": {}
     },
     "90ca96e8690042c9a8bc8cf61e71b25d": {
      "model_module": "@jupyter-widgets/controls",
      "model_module_version": "1.5.0",
      "model_name": "FloatProgressModel",
      "state": {
       "layout": "IPY_MODEL_85e65220c5084308a4f52e212ef8f90e",
       "max": 834,
       "style": "IPY_MODEL_e5a037b14b4e4e1ab88395389d9273bc"
      }
     },
     "91e6b39219054967b9fcf898a2b43c8f": {
      "model_module": "@jupyter-widgets/controls",
      "model_module_version": "1.5.0",
      "model_name": "HBoxModel",
      "state": {
       "children": [
        "IPY_MODEL_a22a0ed56c0d4611adecb2c947ee2fcd"
       ],
       "layout": "IPY_MODEL_3ba933a5b6c44138a1726fdaff11940a"
      }
     },
     "91f9a27cb98b45cf8df09b0ad0b1e99d": {
      "model_module": "@jupyter-widgets/base",
      "model_module_version": "1.2.0",
      "model_name": "LayoutModel",
      "state": {}
     },
     "93d4de55aac14474ac4289a1cff33e44": {
      "model_module": "@jupyter-widgets/base",
      "model_module_version": "1.2.0",
      "model_name": "LayoutModel",
      "state": {
       "height": "500px",
       "overflow_y": "auto"
      }
     },
     "974527e867c94733896b75fc73929408": {
      "model_module": "@jupyter-widgets/controls",
      "model_module_version": "1.5.0",
      "model_name": "HTMLModel",
      "state": {
       "layout": "IPY_MODEL_529862fc84a04d38af094f3a8697487b",
       "style": "IPY_MODEL_06f8ff35a6e34567867200818bca84d0",
       "value": "100%"
      }
     },
     "983029db3a454c8b969ac1858cb8e3cc": {
      "model_module": "@jupyter-widgets/controls",
      "model_module_version": "1.5.0",
      "model_name": "ProgressStyleModel",
      "state": {
       "description_width": ""
      }
     },
     "9926e422f9384bc895a4ca2c5ca8c1e6": {
      "model_module": "@jupyter-widgets/base",
      "model_module_version": "1.2.0",
      "model_name": "LayoutModel",
      "state": {}
     },
     "9d59db84bd77417093b74be51578d3cd": {
      "model_module": "@jupyter-widgets/controls",
      "model_module_version": "1.5.0",
      "model_name": "ProgressStyleModel",
      "state": {
       "description_width": ""
      }
     },
     "9d67b3d495714fdfa6a3c671a3a65dd4": {
      "model_module": "@jupyter-widgets/controls",
      "model_module_version": "1.5.0",
      "model_name": "DescriptionStyleModel",
      "state": {
       "description_width": ""
      }
     },
     "a003403a90644132b92d1d1e89c2cc1b": {
      "model_module": "@jupyter-widgets/controls",
      "model_module_version": "1.5.0",
      "model_name": "HBoxModel",
      "state": {
       "children": [
        "IPY_MODEL_29ed7f7f0cac48e6b2a51bcef626eb1d"
       ],
       "layout": "IPY_MODEL_eb69b14b6b814cbfa909b2f18d491aa4"
      }
     },
     "a1224d833e3c4f5e9f9e35fa3c63b6a4": {
      "model_module": "@jupyter-widgets/controls",
      "model_module_version": "1.5.0",
      "model_name": "HTMLModel",
      "state": {
       "layout": "IPY_MODEL_201cf5b9d95045d7a3aa39d860c6b59d",
       "style": "IPY_MODEL_5a3f0808ffea4e74b92dadfeb369f0f1",
       "value": "100%"
      }
     },
     "a22a0ed56c0d4611adecb2c947ee2fcd": {
      "model_module": "@jupyter-widgets/output",
      "model_module_version": "1.0.0",
      "model_name": "OutputModel",
      "state": {
       "layout": "IPY_MODEL_fd6279ef37c449ca8d1da08155a8e2a9",
       "outputs": [
        {
         "name": "stdout",
         "output_type": "stream",
         "text": "[1182] stress=358.48(5.28%) xing=31.72(17.35%)\n"
        }
       ]
      }
     },
     "a23d35dbde4441149b4785af28d1fb89": {
      "model_module": "@jupyter-widgets/controls",
      "model_module_version": "1.5.0",
      "model_name": "HBoxModel",
      "state": {
       "children": [
        "IPY_MODEL_974527e867c94733896b75fc73929408",
        "IPY_MODEL_720a532fbf784174a0d52dac14d84b51",
        "IPY_MODEL_e42c71a5a705449da72a4f9b96757ef0"
       ],
       "layout": "IPY_MODEL_ccd40baf085e4b0493a27edbcaf1a798"
      }
     },
     "a281c36b5d0446d6b1cba94105c2230c": {
      "model_module": "@jupyter-widgets/controls",
      "model_module_version": "1.5.0",
      "model_name": "DescriptionStyleModel",
      "state": {
       "description_width": ""
      }
     },
     "a2fe717683634a85abd0fe9967b2b7b2": {
      "model_module": "@jupyter-widgets/base",
      "model_module_version": "1.2.0",
      "model_name": "LayoutModel",
      "state": {}
     },
     "a4697ec9394e4e6d978ca5deb1326286": {
      "model_module": "@jupyter-widgets/base",
      "model_module_version": "1.2.0",
      "model_name": "LayoutModel",
      "state": {}
     },
     "a7ce1dc2267948558838e9c0eba32bf6": {
      "model_module": "@jupyter-widgets/controls",
      "model_module_version": "1.5.0",
      "model_name": "HTMLModel",
      "state": {
       "layout": "IPY_MODEL_7dc1cd8e4b9447d1b34f04f7596663da",
       "style": "IPY_MODEL_11cb0a20f6db4af798c80007febfcbf7",
       "value": " 0/834 [00:00&lt;?, ?it/s]"
      }
     },
     "a872f43450c54d2291821cc09559ba0e": {
      "model_module": "@jupyter-widgets/base",
      "model_module_version": "1.2.0",
      "model_name": "LayoutModel",
      "state": {}
     },
     "ac91ad1a3db64f139417ef5ed6fcdb9c": {
      "model_module": "@jupyter-widgets/output",
      "model_module_version": "1.0.0",
      "model_name": "OutputModel",
      "state": {
       "layout": "IPY_MODEL_335b6c858f8941e4b13a36e0389813b4",
       "outputs": [
        {
         "data": {
          "image/png": "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\n",
          "text/plain": "<Figure size 432x288 with 1 Axes>"
         },
         "metadata": {},
         "output_type": "display_data"
        }
       ]
      }
     },
     "b439d565a6de43f0812dd02c324c5ce4": {
      "model_module": "@jupyter-widgets/controls",
      "model_module_version": "1.5.0",
      "model_name": "DescriptionStyleModel",
      "state": {
       "description_width": ""
      }
     },
     "b581aaec8c8d4caebee4333dcf9ac6f4": {
      "model_module": "@jupyter-widgets/base",
      "model_module_version": "1.2.0",
      "model_name": "LayoutModel",
      "state": {}
     },
     "b64416eb5cc94139b833c56a8f6f4e1e": {
      "model_module": "@jupyter-widgets/controls",
      "model_module_version": "1.5.0",
      "model_name": "HBoxModel",
      "state": {
       "children": [
        "IPY_MODEL_ac91ad1a3db64f139417ef5ed6fcdb9c"
       ],
       "layout": "IPY_MODEL_4bd469eec0f440cebbb5a4ab9e65e0ff"
      }
     },
     "b672581e462f4c218349283da214f95e": {
      "model_module": "@jupyter-widgets/base",
      "model_module_version": "1.2.0",
      "model_name": "LayoutModel",
      "state": {}
     },
     "be37e2f370d64dd8bc4c3ec0f5b67e7d": {
      "model_module": "@jupyter-widgets/output",
      "model_module_version": "1.0.0",
      "model_name": "OutputModel",
      "state": {
       "layout": "IPY_MODEL_b672581e462f4c218349283da214f95e",
       "outputs": [
        {
         "data": {
          "text/html": "<div>\n<style scoped>\n    .dataframe tbody tr th:only-of-type {\n        vertical-align: middle;\n    }\n\n    .dataframe tbody tr th {\n        vertical-align: top;\n    }\n\n    .dataframe thead th {\n        text-align: right;\n    }\n</style>\n<table border=\"1\" class=\"dataframe\">\n  <thead>\n    <tr style=\"text-align: right;\">\n      <th></th>\n      <th>val_stress</th>\n      <th>val_stress_spc</th>\n      <th>val_xing</th>\n      <th>val_xing_spc</th>\n      <th>dis_loss</th>\n      <th>gen_loss</th>\n      <th>stress</th>\n      <th>critic</th>\n    </tr>\n  </thead>\n  <tbody>\n    <tr>\n      <th>epoch 1182</th>\n      <td>358.48</td>\n      <td>5.28%</td>\n      <td>31.72</td>\n      <td>17.35%</td>\n      <td>1.56e-01</td>\n      <td>9.03e+00</td>\n      <td>-4.10e+02</td>\n      <td>3.62e+02</td>\n    </tr>\n  </tbody>\n</table>\n</div>",
          "text/plain": "           val_stress val_stress_spc val_xing val_xing_spc  dis_loss  \\\nepoch 1182     358.48          5.28%    31.72       17.35%  1.56e-01   \n\n            gen_loss     stress    critic  \nepoch 1182  9.03e+00  -4.10e+02  3.62e+02  "
         },
         "metadata": {},
         "output_type": "display_data"
        }
       ]
      }
     },
     "c0467e049b4b4579911c433013cc4d53": {
      "model_module": "@jupyter-widgets/controls",
      "model_module_version": "1.5.0",
      "model_name": "HBoxModel",
      "state": {
       "children": [
        "IPY_MODEL_ee12ea49d0954fe09082a3a0b26fdcc4",
        "IPY_MODEL_7008c4dbbd294750af7b2ab7f3622fb9",
        "IPY_MODEL_345afeb058304608b11cde76c015a46d"
       ],
       "layout": "IPY_MODEL_42df7c2728c94f03aded4a8490bb77dc"
      }
     },
     "ccd40baf085e4b0493a27edbcaf1a798": {
      "model_module": "@jupyter-widgets/base",
      "model_module_version": "1.2.0",
      "model_name": "LayoutModel",
      "state": {}
     },
     "cfd721e441294006a29a60ecca7b0fd5": {
      "model_module": "@jupyter-widgets/base",
      "model_module_version": "1.2.0",
      "model_name": "LayoutModel",
      "state": {}
     },
     "d2a7d1e0b6114b94ad5d1bd71b3b4798": {
      "model_module": "@jupyter-widgets/controls",
      "model_module_version": "1.5.0",
      "model_name": "HBoxModel",
      "state": {
       "children": [
        "IPY_MODEL_0bfc4179484e47e689da3585134046c5",
        "IPY_MODEL_e9f8c3f0444943c48e2fac0cbe9b9ac6",
        "IPY_MODEL_65552b5126374f34a274e3120503c5f9"
       ],
       "layout": "IPY_MODEL_842f282f7b0f4548b2c55e8958e1d06a"
      }
     },
     "d3b5b541d02d4580b3b14447933bec25": {
      "model_module": "@jupyter-widgets/base",
      "model_module_version": "1.2.0",
      "model_name": "LayoutModel",
      "state": {}
     },
     "d679b44448054302bc52c7b6cab843c3": {
      "model_module": "@jupyter-widgets/base",
      "model_module_version": "1.2.0",
      "model_name": "LayoutModel",
      "state": {}
     },
     "db42d3a6c9904dc18b2b5c8176ea957f": {
      "model_module": "@jupyter-widgets/controls",
      "model_module_version": "1.5.0",
      "model_name": "HBoxModel",
      "state": {
       "children": [
        "IPY_MODEL_a1224d833e3c4f5e9f9e35fa3c63b6a4",
        "IPY_MODEL_6db8b5bacfd94b30a116c3092d1b2ecf",
        "IPY_MODEL_4b7d0a9ca5b34a4ba61bfdf239ef3faa"
       ],
       "layout": "IPY_MODEL_b581aaec8c8d4caebee4333dcf9ac6f4"
      }
     },
     "e243505bd6ce4a9d872b389c642484c6": {
      "model_module": "@jupyter-widgets/controls",
      "model_module_version": "1.5.0",
      "model_name": "DescriptionStyleModel",
      "state": {
       "description_width": ""
      }
     },
     "e42c71a5a705449da72a4f9b96757ef0": {
      "model_module": "@jupyter-widgets/controls",
      "model_module_version": "1.5.0",
      "model_name": "HTMLModel",
      "state": {
       "layout": "IPY_MODEL_632de75fcb2243c292e56f381270cb17",
       "style": "IPY_MODEL_281454dd0d6e4c0f95c5e35efc328db5",
       "value": " 1000/1000 [00:47&lt;00:00, 20.96it/s]"
      }
     },
     "e4ee44e78f5a4051a5106e097a6104e2": {
      "model_module": "@jupyter-widgets/output",
      "model_module_version": "1.0.0",
      "model_name": "OutputModel",
      "state": {
       "layout": "IPY_MODEL_68358296488146b59adb2f50f346b477"
      }
     },
     "e5a037b14b4e4e1ab88395389d9273bc": {
      "model_module": "@jupyter-widgets/controls",
      "model_module_version": "1.5.0",
      "model_name": "ProgressStyleModel",
      "state": {
       "description_width": ""
      }
     },
     "e5f6e8e85f824c8f9e3e6c6b27b216a5": {
      "model_module": "@jupyter-widgets/controls",
      "model_module_version": "1.5.0",
      "model_name": "ProgressStyleModel",
      "state": {
       "description_width": ""
      }
     },
     "e7d2b3d445b44482bdf190de0d88b771": {
      "model_module": "@jupyter-widgets/base",
      "model_module_version": "1.2.0",
      "model_name": "LayoutModel",
      "state": {}
     },
     "e9f8c3f0444943c48e2fac0cbe9b9ac6": {
      "model_module": "@jupyter-widgets/controls",
      "model_module_version": "1.5.0",
      "model_name": "FloatProgressModel",
      "state": {
       "bar_style": "success",
       "layout": "IPY_MODEL_9926e422f9384bc895a4ca2c5ca8c1e6",
       "max": 11531,
       "style": "IPY_MODEL_e5f6e8e85f824c8f9e3e6c6b27b216a5",
       "value": 11531
      }
     },
     "eb69b14b6b814cbfa909b2f18d491aa4": {
      "model_module": "@jupyter-widgets/base",
      "model_module_version": "1.2.0",
      "model_name": "LayoutModel",
      "state": {
       "height": "500px",
       "overflow_y": "auto"
      }
     },
     "ee12ea49d0954fe09082a3a0b26fdcc4": {
      "model_module": "@jupyter-widgets/controls",
      "model_module_version": "1.5.0",
      "model_name": "HTMLModel",
      "state": {
       "layout": "IPY_MODEL_91f9a27cb98b45cf8df09b0ad0b1e99d",
       "style": "IPY_MODEL_0d65b31c36a04b1d88c7fca8ff9d553a",
       "value": "  2%"
      }
     },
     "ee4fe42b4d454ceebf2f75d36e75ef0a": {
      "model_module": "@jupyter-widgets/controls",
      "model_module_version": "1.5.0",
      "model_name": "VBoxModel",
      "state": {
       "children": [
        "IPY_MODEL_f0f3a780babf481789479af1d271cbf9",
        "IPY_MODEL_be37e2f370d64dd8bc4c3ec0f5b67e7d"
       ],
       "layout": "IPY_MODEL_1d2fb66e6c554629b7219a563aa989d8"
      }
     },
     "f0f3a780babf481789479af1d271cbf9": {
      "model_module": "@jupyter-widgets/output",
      "model_module_version": "1.0.0",
      "model_name": "OutputModel",
      "state": {
       "layout": "IPY_MODEL_159121cbeb9d4aaebc7e35525b8dbb14",
       "outputs": [
        {
         "data": {
          "application/vnd.jupyter.widget-view+json": {
           "model_id": "571c560d6561421f87fc2128e4cf5bcf",
           "version_major": 2,
           "version_minor": 0
          },
          "text/plain": "  0%|          | 0/834 [00:00<?, ?it/s]"
         },
         "metadata": {},
         "output_type": "display_data"
        }
       ]
      }
     },
     "f90a83c4ec9d4ab28427ed14ddf40b60": {
      "model_module": "@jupyter-widgets/controls",
      "model_module_version": "1.5.0",
      "model_name": "HBoxModel",
      "state": {
       "children": [
        "IPY_MODEL_1bcc56387daf462385c696a3c6453034",
        "IPY_MODEL_fa7e5b5eb0684843bdbb19da324a8d5f",
        "IPY_MODEL_3a37cb2c0e17420394edf182d67c453a"
       ],
       "layout": "IPY_MODEL_fa4d684b4d5540d3b35c6b257f220379"
      }
     },
     "fa4d684b4d5540d3b35c6b257f220379": {
      "model_module": "@jupyter-widgets/base",
      "model_module_version": "1.2.0",
      "model_name": "LayoutModel",
      "state": {}
     },
     "fa7e5b5eb0684843bdbb19da324a8d5f": {
      "model_module": "@jupyter-widgets/controls",
      "model_module_version": "1.5.0",
      "model_name": "FloatProgressModel",
      "state": {
       "bar_style": "success",
       "layout": "IPY_MODEL_5dfbb6834c5c40a7b210a9f5bd92b804",
       "max": 1000,
       "style": "IPY_MODEL_9d59db84bd77417093b74be51578d3cd",
       "value": 1000
      }
     },
     "fd31ba7324934d069cb18eee7cc27914": {
      "model_module": "@jupyter-widgets/controls",
      "model_module_version": "1.5.0",
      "model_name": "HTMLModel",
      "state": {
       "layout": "IPY_MODEL_0e8342982bd6426ca55c6019b839b891",
       "style": "IPY_MODEL_a281c36b5d0446d6b1cba94105c2230c",
       "value": " 448/834 [01:03&lt;00:54,  7.09it/s]"
      }
     },
     "fd6279ef37c449ca8d1da08155a8e2a9": {
      "model_module": "@jupyter-widgets/base",
      "model_module_version": "1.2.0",
      "model_name": "LayoutModel",
      "state": {}
     },
     "ff77ae4602e04b8a84b3d0ee3a8a43ac": {
      "model_module": "@jupyter-widgets/controls",
      "model_module_version": "1.5.0",
      "model_name": "VBoxModel",
      "state": {
       "children": [
        "IPY_MODEL_65d6158baad24582864b6e22c2632d05",
        "IPY_MODEL_636e99a90e4e4bbcbb95034c222fcab6"
       ],
       "layout": "IPY_MODEL_434ec35c3e744a1488608e61529db0be"
      }
     }
    },
    "version_major": 2,
    "version_minor": 0
   }
  }
 },
 "nbformat": 4,
 "nbformat_minor": 4
}
