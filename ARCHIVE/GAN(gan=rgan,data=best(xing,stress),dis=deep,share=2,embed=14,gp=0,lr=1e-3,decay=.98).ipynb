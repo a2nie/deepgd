{
 "cells": [
  {
   "cell_type": "markdown",
   "metadata": {
    "id": "wZtYFEhHoBGp"
   },
   "source": [
    "# Import libraries"
   ]
  },
  {
   "cell_type": "code",
   "execution_count": 1,
   "metadata": {
    "id": "KJPfzpxLQI5O"
   },
   "outputs": [],
   "source": [
    "%load_ext autoreload\n",
    "%autoreload 2\n",
    "from deepgd import *"
   ]
  },
  {
   "cell_type": "markdown",
   "metadata": {
    "id": "z4eBEyB1oaJe"
   },
   "source": [
    "# Config"
   ]
  },
  {
   "cell_type": "code",
   "execution_count": 2,
   "metadata": {
    "id": "Q_-MLFhpNvxF"
   },
   "outputs": [],
   "source": [
    "cuda_idx = 0\n",
    "canonicalization = Canonicalization(normalize=Standardization(norm_ord=1),\n",
    "                                    scale=False)\n",
    "config = StaticConfig({\n",
    "    \"name\": 'GAN(gan=rgan,data=best(xing,stress),dis=deep,share=2,embed=14,gp=0,lr=1e-3,decay=.98)',\n",
    "    \"uid\": None,\n",
    "    \"link\": None,\n",
    "    \"generator\": {\n",
    "        \"params\": {\n",
    "            \"num_blocks\": 9,\n",
    "            \"normalize\": canonicalization\n",
    "        },\n",
    "        \"pretrained\": {\n",
    "            \"name\": None,\n",
    "            \"epoch\": -1,\n",
    "        },\n",
    "        \"optim\": torch.optim.AdamW,\n",
    "        \"lr\" : {\n",
    "            \"initial\": 1e-3,\n",
    "            \"decay\": 0.98,\n",
    "        },\n",
    "    },\n",
    "    \"discriminator\": {\n",
    "        \"params\": {\n",
    "            \"conv\": [2, 16, 16, 16],\n",
    "            \"dense\": [2],\n",
    "            \"shared_depth\": 2,\n",
    "            \"enet_depth\": 14,\n",
    "            \"enet_width\": 64,\n",
    "            \"aggr\": \"add\",\n",
    "            \"normalize\": canonicalization\n",
    "        },\n",
    "        \"pretrained\": {\n",
    "            \"name\": None,\n",
    "            \"epoch\": -1,\n",
    "        },\n",
    "        \"optim\": torch.optim.AdamW,\n",
    "        \"lr\" : {\n",
    "            \"initial\": 1e-3,\n",
    "            \"decay\": 0.98,\n",
    "        },\n",
    "        \"noise\": {\n",
    "            \"std\": 0,\n",
    "            \"decay\": 0.95,\n",
    "        },\n",
    "        \"repeat\": 1,\n",
    "        \"complete\": True,\n",
    "        \"adaptive\": True\n",
    "    },\n",
    "    \"alternate\": \"epoch\",\n",
    "    \"batchsize\": 24,\n",
    "    \"epoch\": {\n",
    "        \"start\": -1,\n",
    "        \"end\": None,\n",
    "    },\n",
    "    \"log_interval\": 1,\n",
    "    \"test\": {\n",
    "        \"name\": \"test\",\n",
    "        \"epoch\": -1,\n",
    "    },\n",
    "    \"gan_flavor\": \"rgan\",\n",
    "    \"gp_weight\": 0,\n",
    "})\n",
    "data_config = StaticConfig({\n",
    "    \"sparse\": False,\n",
    "    \"pivot\": None,\n",
    "    \"init\": \"pmds\",\n",
    "    \"edge\": {\n",
    "        \"index\": \"full_edge_index\",\n",
    "        \"attr\": \"full_edge_attr\",\n",
    "    },\n",
    "})\n",
    "loss_fns = {\n",
    "    Stress(): 1\n",
    "}\n",
    "ctrler_params = {\n",
    "    \"tau\": 0.95,\n",
    "    \"beta\": 1,\n",
    "    \"exploit_rate\": 0.5,\n",
    "    \"warmup\": 2,\n",
    "}\n",
    "paths = StaticConfig({\n",
    "    \"root\": \"artifacts\",\n",
    "    \"checkpoints\": lambda: f\"{paths.root}/checkpoints/{config.name}\",\n",
    "    \"gen_pretrain\": lambda: f\"{paths.root}/checkpoints/{config.generator.pretrained.name}\",\n",
    "    \"dis_pretrain\": lambda: f\"{paths.root}/checkpoints/{config.discriminator.pretrained.name}\",\n",
    "    \"tensorboard\": lambda: f\"{paths.root}/tensorboards/{config.name}\",\n",
    "    \"visualization\": lambda: f\"{paths.root}/visualizations/{config.name}_{config.test.name}\",\n",
    "    \"log\": lambda: f\"{paths.root}/logs/{config.name}.log\",\n",
    "    \"metrics\": lambda suffix: f\"{paths.root}/metrics/{config.name}_{suffix}.pickle\",\n",
    "})"
   ]
  },
  {
   "cell_type": "code",
   "execution_count": 3,
   "metadata": {
    "id": "mdMEAbH10Qaq"
   },
   "outputs": [],
   "source": [
    "if \" \" in config.name:\n",
    "    raise Exception(\"Space is not allowed in model name.\")"
   ]
  },
  {
   "cell_type": "markdown",
   "metadata": {
    "id": "WynW4ZAdBhep"
   },
   "source": [
    "# Prepare"
   ]
  },
  {
   "cell_type": "markdown",
   "metadata": {
    "id": "DR6-vYtr_i_P"
   },
   "source": [
    "## Get log command"
   ]
  },
  {
   "cell_type": "code",
   "execution_count": 4,
   "metadata": {
    "colab": {
     "base_uri": "https://localhost:8080/"
    },
    "id": "9-QpinlslcTO",
    "outputId": "48ae3716-212c-4d46-9efb-b7b4070f73de"
   },
   "outputs": [
    {
     "name": "stdout",
     "output_type": "stream",
     "text": [
      "cd /users/PAS0027/osu10203/deepgd && tail -n1000 -f 'artifacts/logs/GAN(gan=rgan,data=best(xing,stress),dis=deep,share=2,embed=14,gp=0,lr=1e-3,decay=.98).log'\n"
     ]
    }
   ],
   "source": [
    "print(f\"cd {os.getcwd()} && tail -n1000 -f '{paths.log()}'\")"
   ]
  },
  {
   "cell_type": "code",
   "execution_count": 5,
   "metadata": {},
   "outputs": [
    {
     "name": "stdout",
     "output_type": "stream",
     "text": [
      "tensorboard dev upload --logdir 'artifacts/tensorboards/GAN(gan=rgan,data=best(xing,stress),dis=deep,share=2,embed=14,gp=0,lr=1e-3,decay=.98)'\n"
     ]
    }
   ],
   "source": [
    "print(f\"tensorboard dev upload --logdir '{paths.tensorboard()}'\")"
   ]
  },
  {
   "cell_type": "markdown",
   "metadata": {
    "id": "innqkwvH_ydD"
   },
   "source": [
    "## Set globals"
   ]
  },
  {
   "cell_type": "code",
   "execution_count": 6,
   "metadata": {
    "id": "Qjq7JlSZlkQR"
   },
   "outputs": [],
   "source": [
    "if cuda_idx is not None and torch.cuda.is_available():\n",
    "    device = f'cuda:{cuda_idx}'\n",
    "    pynvml.nvmlInit()\n",
    "    cuda = pynvml.nvmlDeviceGetHandleByIndex(cuda_idx)\n",
    "else:\n",
    "    device = 'cpu'\n",
    "    cuda =  None\n",
    "np.set_printoptions(precision=2)\n",
    "warnings.filterwarnings(\"ignore\", category=RuntimeWarning)"
   ]
  },
  {
   "cell_type": "markdown",
   "metadata": {
    "id": "0da286l_ApEL"
   },
   "source": [
    "## Load data"
   ]
  },
  {
   "cell_type": "code",
   "execution_count": 7,
   "metadata": {
    "colab": {
     "base_uri": "https://localhost:8080/"
    },
    "id": "RFuSHiZJMU4x",
    "outputId": "54065609-aaea-4536-d79c-73bc73b3f576"
   },
   "outputs": [
    {
     "name": "stdout",
     "output_type": "stream",
     "text": [
      "Load from 'cache/G_list.pickle'\n",
      "Load from 'cache/generate_data_list(list,sparse=False,pivot_mode=None,init_mode=pmds,edge_index=full_edge_index,edge_attr=full_edge_attr,pmds_list=ndarray,gviz_list=ndarray,noisy_layout=True,device=cpu).pickle'\n"
     ]
    },
    {
     "name": "stderr",
     "output_type": "stream",
     "text": [
      "/users/PAS0027/osu10203/.conda/envs/deepgd/lib/python3.9/site-packages/torch_geometric/deprecation.py:13: UserWarning: 'data.DataLoader' is deprecated, use 'loader.DataLoader' instead\n",
      "  warnings.warn(out)\n"
     ]
    }
   ],
   "source": [
    "G_list = load_G_list(data_path='data/rome', index_file='data_index.txt', cache='G_list', cache_prefix='cache/')\n",
    "data_list = generate_data_list(G_list, \n",
    "                               sparse=data_config.sparse, \n",
    "                               pivot_mode=data_config.pivot,\n",
    "                               init_mode=data_config.init,\n",
    "                               edge_index=data_config.edge.index,\n",
    "                               edge_attr=data_config.edge.attr,\n",
    "                               pmds_list=np.load('layouts/rome/pmds.npy', allow_pickle=True),\n",
    "                               gviz_list=np.load('layouts/rome/gviz.npy', allow_pickle=True),\n",
    "                               noisy_layout=True,\n",
    "                               device='cpu', \n",
    "                               cache=True,\n",
    "                               cache_prefix='cache/')\n",
    "train_loader = LazyDeviceMappingDataLoader(data_list[:10000], batch_size=config.batchsize, shuffle=True, device=device)\n",
    "val_loader = LazyDeviceMappingDataLoader(data_list[11000:], batch_size=config.batchsize, shuffle=False, device=device)"
   ]
  },
  {
   "cell_type": "code",
   "execution_count": 8,
   "metadata": {
    "id": "djd1pLt2OxZq"
   },
   "outputs": [],
   "source": [
    "def draw_layout(G, method, draw=True):\n",
    "    if method == 'fa2':\n",
    "        layout = get_fa2_layout(G)\n",
    "    else:\n",
    "        try:\n",
    "            fn = getattr(nx.drawing.layout, f'{method}_layout')\n",
    "            layout = fn(G)\n",
    "        except:\n",
    "            layout = nx.drawing.nx_agraph.graphviz_layout(G, prog=method)\n",
    "    if draw:\n",
    "        nx.draw(G, pos=layout)\n",
    "    return layout"
   ]
  },
  {
   "cell_type": "code",
   "execution_count": 9,
   "metadata": {
    "id": "2vBBw77lR7Em"
   },
   "outputs": [],
   "source": [
    "methods = ['neato', 'dot', 'fdp', 'sfdp', 'twopi', 'circo', 'shell', 'spring', 'circular', 'spectral', 'kamada_kawai', 'fa2', 'pmds']"
   ]
  },
  {
   "cell_type": "code",
   "execution_count": 10,
   "metadata": {
    "id": "dx6VVA9XIc2O"
   },
   "outputs": [],
   "source": [
    "from functools import lru_cache\n",
    "\n",
    "@lru_cache(maxsize=None)\n",
    "def load_pos(method):\n",
    "    return np.load(f'layouts/rome/{method}.npy', allow_pickle=True)"
   ]
  },
  {
   "cell_type": "code",
   "execution_count": 11,
   "metadata": {
    "colab": {
     "base_uri": "https://localhost:8080/",
     "height": 1000,
     "referenced_widgets": [
      "05a37aeeb20049dfa2f97287b3990556",
      "a75afae3adfd4810a0b0991a062535ee",
      "a24ae105ed124595992f7e2e5f909247",
      "01b4cabaf8004dd4b9269b4e6889c498",
      "f3c7c84f2b314bd8b97a7358deaf4fa1",
      "35e4a83e692b4a7bafb46fdf192b2586",
      "62847b5e2678459f845159eef6d4feab",
      "143e81f00313436dacfa246a57108944",
      "e05833f11803400b95ff22246cdc8f2b",
      "53aeede91e074378b5d7f626165655ee",
      "79a43768c1794a10a788a49e5883aa2c"
     ]
    },
    "id": "MSmP-jem9I0X",
    "outputId": "c698f0bf-e96e-4de9-aeda-0b046fc0a03f",
    "scrolled": true,
    "tags": []
   },
   "outputs": [],
   "source": [
    "# best_list = []\n",
    "# best_layout_list = []\n",
    "# for idx, (G, data) in enumerate(zip(tqdm(G_list), data_list)):\n",
    "#     xing, stress, layout = {}, {}, {}\n",
    "#     for m in methods:\n",
    "#         batch = Batch.from_data_list([data])\n",
    "#         pos = load_pos(m)\n",
    "#         p = CanonicalizationByStress()(torch.tensor(pos[idx]).float(), batch)\n",
    "#         x = Xing()(p, batch).item()\n",
    "#         s = Stress()(p, batch).item()\n",
    "#         xing[m] = x\n",
    "#         stress[m] = s\n",
    "#         layout[m] = p.numpy()\n",
    "#         # plt.figure()\n",
    "#         # graph_vis(G, pos[idx])\n",
    "#         # plt.title(f'{m} stress={s:.2f} xing={x}')\n",
    "#     best, *_ = sorted(methods, key=lambda m: (xing[m], stress[m]))\n",
    "#     best_list.append(best)\n",
    "#     best_layout_list.append(layout[best])\n",
    "#     print(f'{best}, xing={xing[best]}, stress={stress[best]:.2f}')"
   ]
  },
  {
   "cell_type": "code",
   "execution_count": 12,
   "metadata": {
    "colab": {
     "base_uri": "https://localhost:8080/"
    },
    "id": "Mx2bZNugdTqa",
    "outputId": "cec05a67-18e8-492f-aaa1-057274a8341a"
   },
   "outputs": [],
   "source": [
    "# pickle.dump(best_list, open('layouts/rome/best[xing,stress].pkl', 'wb'))\n",
    "# np.save('layouts/rome/best[xing,stress].npy', best_layout_list)"
   ]
  },
  {
   "cell_type": "code",
   "execution_count": 13,
   "metadata": {
    "colab": {
     "base_uri": "https://localhost:8080/",
     "height": 49,
     "referenced_widgets": [
      "7e0ae84dd0f3458d893c81b029fe1729",
      "18bdc3bf80fb434abde68de5b72a8870",
      "2e3552ded9594635a51832387ae754a0",
      "54f4aa5080c6498080a63be2cdeefee5",
      "3937586d0879451da5e2138ca3bfd0a0",
      "a9df6e84ce8c499eb2b2cf984995d791",
      "7af6b718dd3d4e01b264377a2fa938e2",
      "a774c86e64004bd6951645f1c24abad4",
      "c86575117cd041f2837762f37d1f387b",
      "6e9907cefb1241688fbd248b8281ed9f",
      "9b8e5405d8264944acab57e81f2f5ad6"
     ]
    },
    "id": "A1-w1fspC53p",
    "outputId": "09c2d5c3-1eef-41eb-dcee-581af1294804"
   },
   "outputs": [
    {
     "data": {
      "application/vnd.jupyter.widget-view+json": {
       "model_id": "db14ec1257da4d798fcc9c32653462fc",
       "version_major": 2,
       "version_minor": 0
      },
      "text/plain": [
       "  0%|          | 0/11531 [00:00<?, ?it/s]"
      ]
     },
     "metadata": {},
     "output_type": "display_data"
    }
   ],
   "source": [
    "best_layout_list = np.load('layouts/rome/best[xing,stress].npy', allow_pickle=True)\n",
    "for data, layout in zip(tqdm(data_list), best_layout_list):\n",
    "    data.gt_pos = torch.tensor(layout)"
   ]
  },
  {
   "cell_type": "code",
   "execution_count": 14,
   "metadata": {
    "id": "y6EGh4U7exL_"
   },
   "outputs": [],
   "source": [
    "train_loader = LazyDeviceMappingDataLoader(data_list[:10000], batch_size=config.batchsize, shuffle=True, device=device)\n",
    "val_loader = LazyDeviceMappingDataLoader(data_list[11000:], batch_size=config.batchsize, shuffle=False, device=device)"
   ]
  },
  {
   "cell_type": "code",
   "execution_count": 15,
   "metadata": {
    "colab": {
     "base_uri": "https://localhost:8080/",
     "height": 103,
     "referenced_widgets": [
      "38a33cf69aff48f4aabd4902a7ce48b1",
      "57e277bcb44c4e2fa2a12105d75153d1",
      "20ce017c46bd4a7c9b420270ac579405",
      "13f2df4fe0ce4af88b6e3bd1637065b0",
      "2867faa145ca4860a198d4d0bf830f89",
      "02838cf669174ed9afa41a1a8e680765",
      "7e9e3c031667455f8baca163d3a213e5",
      "4000135e7dfa46529fa6244fccc5cb57",
      "e523e9faac5b4ec38643c05ac5ba99f7",
      "e8e3ee9741e4480dae5003ccc19a7891",
      "9a569045221b43acb3ba2fbf116b2c74"
     ]
    },
    "id": "YEfRRUK0NiNm",
    "outputId": "93f53d05-7667-4cda-a38e-c3a953124f79"
   },
   "outputs": [],
   "source": [
    "# for m in methods:\n",
    "#     layouts = []\n",
    "#     for G in tqdm(G_list):\n",
    "#         layout = draw_layout(G, method=m, draw=False)\n",
    "#         layouts.append(np.array(list(layout.values())))\n",
    "#     np.save(f'layouts/rome/{m}.npy', layouts)"
   ]
  },
  {
   "cell_type": "code",
   "execution_count": 16,
   "metadata": {
    "colab": {
     "base_uri": "https://localhost:8080/",
     "height": 564
    },
    "id": "upK7AHYqPmC5",
    "outputId": "29a88e61-f55f-409c-9194-12c6d5762528"
   },
   "outputs": [],
   "source": [
    "# from collections import Counter\n",
    "\n",
    "# letter_counts = Counter(best_list)\n",
    "# df = pd.DataFrame.from_dict(letter_counts, orient='index')\n",
    "# df.plot(kind='bar', figsize=[12, 8])"
   ]
  },
  {
   "cell_type": "markdown",
   "metadata": {
    "id": "f-ODE2k8BFV6"
   },
   "source": [
    "## Create folders"
   ]
  },
  {
   "cell_type": "code",
   "execution_count": 17,
   "metadata": {
    "id": "3ykUMINYBRog"
   },
   "outputs": [],
   "source": [
    "mkdirs(paths.checkpoints(), paths.tensorboard(), paths.visualization(), f\"{paths.root}/logs\", f\"{paths.root}/metrics\")"
   ]
  },
  {
   "cell_type": "markdown",
   "metadata": {
    "id": "BFq9k5nzBIh5"
   },
   "source": [
    "## Load checkpoints"
   ]
  },
  {
   "cell_type": "code",
   "execution_count": 18,
   "metadata": {
    "id": "W5NbsKkobIfA"
   },
   "outputs": [],
   "source": [
    "class EdgeFeatureDiscriminator(nn.Module):\n",
    "    def __init__(self, \n",
    "                 conv, \n",
    "                 dense,\n",
    "                 shared_depth,\n",
    "                 enet_depth,\n",
    "                 enet_width,\n",
    "                 aggr='add', \n",
    "                 root_weight=True,\n",
    "                 normalize=None):\n",
    "        super().__init__()\n",
    "        self.enet = nn.Sequential(*[\n",
    "            DenseLayer(in_dim=in_d,\n",
    "                       out_dim=out_d,\n",
    "                       skip=nonlin,\n",
    "                       bn=nonlin,\n",
    "                       act=nonlin,\n",
    "                       dp=None)\n",
    "            for in_d, out_d, nonlin \n",
    "            in zip([self._get_feature_dim()] + [enet_width] * (shared_depth-1),\n",
    "                   [enet_width] * shared_depth,\n",
    "                   [True] * (shared_depth-1) + [False])     \n",
    "        ])\n",
    "        self.blocks = nn.ModuleList([\n",
    "            GNNLayer(nfeat_dims=(in_d, out_d),\n",
    "                     efeat_dim=enet_width,\n",
    "                     edge_net=EdgeNet(nfeat_dims=(in_d, out_d), \n",
    "                                      efeat_dim=enet_width, \n",
    "                                      depth=enet_depth, \n",
    "                                      width=enet_width),\n",
    "                     aggr=aggr,\n",
    "                     dense=False,\n",
    "                     skip=nonlin,\n",
    "                     bn=nonlin,\n",
    "                     act=nonlin,\n",
    "                     root_weight=root_weight) \n",
    "            for in_d, out_d, nonlin \n",
    "            in zip(conv[:-1], conv[1:], [True] * (len(conv)-2) + [False])     \n",
    "        ])\n",
    "        self.pool = (gnn.global_mean_pool if aggr == 'mean' \n",
    "                     else gnn.global_add_pool if aggr == 'add' \n",
    "                     else None)\n",
    "        self.dense = nn.Identity() if not dense else nn.Sequential(*[\n",
    "            DenseLayer(in_dim=in_d,\n",
    "                       out_dim=out_d,\n",
    "                       skip=nonlin,\n",
    "                       bn=nonlin,\n",
    "                       act=nonlin,\n",
    "                       dp=None)\n",
    "            for in_d, out_d, nonlin \n",
    "            in zip(conv[-1:] + dense[:-1], dense, [True] * (len(dense)-1) + [False])     \n",
    "        ])\n",
    "        self.normalize = normalize or IdentityTransformation()\n",
    "    \n",
    "    def forward(self, batch):\n",
    "        x = torch.ones_like(batch.pos)\n",
    "        e = self.enet(self._get_features(self._get_edge_info(batch, layout='pos')))\n",
    "        for block in self.blocks:\n",
    "            x = block(x, e, batch)\n",
    "        x = self.pool(x, batch.batch)\n",
    "        x = self.dense(x)\n",
    "        return x\n",
    "    \n",
    "    def _get_edge_info(self, batch, layout='gt_pos'):\n",
    "        pos = self.normalize(batch[layout].float(), batch)\n",
    "        src, dst = get_edges(pos, batch)\n",
    "        v, u = l2_normalize(dst - src, return_norm=True)\n",
    "        d = batch.edge_attr[:, :1]\n",
    "        return {\n",
    "            \"src\": src,\n",
    "            \"dst\": dst,\n",
    "            \"v\": v,\n",
    "            \"u\": u,\n",
    "            \"d\": d,\n",
    "        }\n",
    "\n",
    "    def _get_features(self, edges):\n",
    "        return torch.cat([edges['src'], edges['dst'], edges['d']], dim=1)\n",
    "        \n",
    "    def _get_feature_dim(self):\n",
    "        return self._get_features({\n",
    "            \"src\": torch.zeros(1, 2),\n",
    "            \"dst\": torch.zeros(1, 2),\n",
    "            \"v\": torch.zeros(1, 2),\n",
    "            \"u\": torch.zeros(1, 1),\n",
    "            \"d\": torch.zeros(1, 1),\n",
    "        }).shape[-1]"
   ]
  },
  {
   "cell_type": "code",
   "execution_count": 19,
   "metadata": {
    "id": "96ZActxlL0fJ"
   },
   "outputs": [],
   "source": [
    "class StressDiscriminator(nn.Module):\n",
    "    def __init__(self, normalize=CanonicalizationByStress(), **kwargs):\n",
    "        super().__init__()\n",
    "        self.dummy = nn.Parameter(torch.zeros(1))\n",
    "        self.normalize = normalize\n",
    "        self.stress = Stress(reduce=None)\n",
    "\n",
    "    def forward(self, batch):\n",
    "        return -self.stress(self.normalize(batch.pos, batch), batch)"
   ]
  },
  {
   "cell_type": "code",
   "execution_count": 20,
   "metadata": {
    "id": "IJ6xCYBUuhcw"
   },
   "outputs": [],
   "source": [
    "def get_ckpt_epoch(folder, epoch):\n",
    "    if not os.path.isdir(folder):\n",
    "        os.mkdir(folder)\n",
    "    if epoch >= 0:\n",
    "        return epoch\n",
    "    ckpt_files = os.listdir(folder)\n",
    "    last_epoch = 0\n",
    "    if ckpt_files:\n",
    "        last_epoch = sorted(list(map(lambda x: int(re.search('(?<=epoch_)(\\d+)(?=\\.)', x).group(1)), ckpt_files)))[-1]\n",
    "    return last_epoch + epoch + 1\n",
    "\n",
    "def start_epoch():\n",
    "    return get_ckpt_epoch(paths.checkpoints(), config.epoch.start)"
   ]
  },
  {
   "cell_type": "code",
   "execution_count": 21,
   "metadata": {
    "colab": {
     "base_uri": "https://localhost:8080/"
    },
    "id": "JacDYXka9U01",
    "outputId": "ef4e31ab-2144-497c-8e4f-4d3740ce2d52"
   },
   "outputs": [
    {
     "name": "stdout",
     "output_type": "stream",
     "text": [
      "Loading from artifacts/checkpoints/GAN(gan=rgan,data=best(xing,stress),dis=deep,share=2,embed=14,gp=0,lr=1e-3,decay=.98)/gen_epoch_985.pt...\n",
      "Loading from artifacts/checkpoints/GAN(gan=rgan,data=best(xing,stress),dis=deep,share=2,embed=14,gp=0,lr=1e-3,decay=.98)/gen_optim_epoch_985.pt...\n"
     ]
    }
   ],
   "source": [
    "generator = Generator(**config.generator.params[...]).to(device)\n",
    "generator_optimizer = config.generator.optim(generator.parameters(), lr=config.generator.lr.initial * config.generator.lr.decay ** start_epoch())\n",
    "generator_scheduler = torch.optim.lr_scheduler.ExponentialLR(generator_optimizer, gamma=config.generator.lr.decay)\n",
    "if start_epoch() != 0:\n",
    "    gen_ckpt_epoch = start_epoch()\n",
    "elif config.generator.pretrained.name is not None and config.generator.pretrained.epoch != 0:\n",
    "    gen_pretrained_epoch = get_ckpt_epoch(paths.gen_pretrain(), config.generator.pretrained.epoch)\n",
    "    gen_ckpt_epoch = gen_pretrained_epoch \n",
    "else:\n",
    "    gen_ckpt_epoch = None\n",
    "if gen_ckpt_epoch is not None:\n",
    "    # Load generator\n",
    "    gen_ckpt_file = f\"{paths.checkpoints()}/gen_epoch_{gen_ckpt_epoch}.pt\"\n",
    "    print(f\"Loading from {gen_ckpt_file}...\")\n",
    "    generator.load_state_dict(torch.load(gen_ckpt_file, map_location=torch.device(device)))\n",
    "    # Load generator optimizer\n",
    "    gen_optim_ckpt_file = f\"{paths.checkpoints()}/gen_optim_epoch_{gen_ckpt_epoch}.pt\"\n",
    "    print(f\"Loading from {gen_optim_ckpt_file}...\")\n",
    "    generator_optimizer.load_state_dict(torch.load(gen_optim_ckpt_file, map_location=torch.device(device)))"
   ]
  },
  {
   "cell_type": "code",
   "execution_count": 22,
   "metadata": {
    "colab": {
     "base_uri": "https://localhost:8080/"
    },
    "id": "oWQhD7-88VXe",
    "outputId": "3ba01600-b546-4e45-a6bd-c7a65af1ae9e"
   },
   "outputs": [
    {
     "name": "stdout",
     "output_type": "stream",
     "text": [
      "Loading from artifacts/checkpoints/GAN(gan=rgan,data=best(xing,stress),dis=deep,share=2,embed=14,gp=0,lr=1e-3,decay=.98)/dis_epoch_985.pt...\n",
      "Loading from artifacts/checkpoints/GAN(gan=rgan,data=best(xing,stress),dis=deep,share=2,embed=14,gp=0,lr=1e-3,decay=.98)/dis_optim_epoch_985.pt...\n"
     ]
    }
   ],
   "source": [
    "discriminator = EdgeFeatureDiscriminator(**config.discriminator.params[...]).to(device)\n",
    "discriminator_optimizer = config.discriminator.optim(discriminator.parameters(), lr=config.discriminator.lr.initial * config.discriminator.lr.decay ** start_epoch())\n",
    "discriminator_scheduler = torch.optim.lr_scheduler.ExponentialLR(discriminator_optimizer, gamma=config.discriminator.lr.decay)\n",
    "if start_epoch() != 0:\n",
    "    dis_ckpt_epoch = start_epoch()\n",
    "elif config.discriminator.pretrained.name is not None and config.discriminator.pretrained.epoch != 0:\n",
    "    dis_pretrained_epoch = get_ckpt_epoch(paths.dis_pretrain(), config.discriminator.pretrained.epoch)\n",
    "    dis_ckpt_epoch = dis_pretrained_epoch # f\"{paths.dis_pretrain()}/dis_epoch_{dis_pretrained_epoch}.pt\"\n",
    "else:\n",
    "    dis_ckpt_epoch = None\n",
    "if dis_ckpt_epoch is not None:\n",
    "    # Load discriminator\n",
    "    dis_ckpt_file = f\"{paths.checkpoints()}/dis_epoch_{dis_ckpt_epoch}.pt\"\n",
    "    print(f\"Loading from {dis_ckpt_file}...\")\n",
    "    discriminator.load_state_dict(torch.load(dis_ckpt_file, map_location=torch.device(device)))\n",
    "    # Load discriminator optimizer\n",
    "    dis_optim_ckpt_file = f\"{paths.checkpoints()}/dis_optim_epoch_{dis_ckpt_epoch}.pt\"\n",
    "    print(f\"Loading from {dis_optim_ckpt_file}...\")\n",
    "    discriminator_optimizer.load_state_dict(torch.load(dis_optim_ckpt_file, map_location=torch.device(device)))"
   ]
  },
  {
   "cell_type": "markdown",
   "metadata": {
    "id": "N39dDHraedM6"
   },
   "source": [
    "# Train"
   ]
  },
  {
   "cell_type": "code",
   "execution_count": 23,
   "metadata": {
    "id": "BdIJSDSJedM-"
   },
   "outputs": [],
   "source": [
    "stress_criterion = StressDiscriminator().to(device)\n",
    "val_criterion = Stress(reduce=None)\n",
    "xing_criterion = Xing(reduce=None)\n",
    "dis_convert = DiscriminatorDataConverter(complete_graph=config.discriminator.complete, normalize=config.discriminator.params.normalize)\n",
    "tensorboard = SummaryWriter(log_dir=paths.tensorboard())\n",
    "epoch = start_epoch() + 1"
   ]
  },
  {
   "cell_type": "code",
   "execution_count": 24,
   "metadata": {
    "id": "OHRWj1h0edM-"
   },
   "outputs": [],
   "source": [
    "def gradient_penalty(interpolated, discriminator, weight=10):\n",
    "    interpolated.pos.requires_grad_()\n",
    "    prob_interpolated = discriminator(interpolated)\n",
    "    gradients = autograd.grad(outputs=prob_interpolated, \n",
    "                              inputs=interpolated.pos,\n",
    "                              grad_outputs=torch.ones_like(prob_interpolated),\n",
    "                              create_graph=True, \n",
    "                              retain_graph=True, \n",
    "                              allow_unused=True)[0]\n",
    "    gradients_norm = torch.sqrt(gnn.global_add_pool(gradients.square().sum(dim=1), batch.batch) + 1e-8)\n",
    "    return weight * ((gradients_norm - 1) ** 2).mean()"
   ]
  },
  {
   "cell_type": "code",
   "execution_count": 25,
   "metadata": {
    "id": "o5wJJN9AedM_"
   },
   "outputs": [],
   "source": [
    "def get_gp_loss(batch, fake_pos, weight):\n",
    "    if weight > 0:\n",
    "        interp = dis_convert(batch, fake_pos, random.random())\n",
    "        return gradient_penalty(interp, discriminator, weight).mean()\n",
    "    return 0"
   ]
  },
  {
   "cell_type": "code",
   "execution_count": 26,
   "metadata": {
    "id": "QwuA6sRoedM_"
   },
   "outputs": [],
   "source": [
    "def get_sgan_loss(batch, fake_pos, mode='discriminator'):\n",
    "    real = dis_convert(batch)\n",
    "    fake = dis_convert(batch, fake_pos)\n",
    "    pred = discriminator(merge_batch(real, fake)).view(2, -1).T\n",
    "    if mode == 'discriminator':\n",
    "        label = torch.zeros(pred.shape[0]).long()\n",
    "    elif mode == 'generator':\n",
    "        label = torch.ones(pred.shape[0]).long()\n",
    "    else:\n",
    "        raise Exception\n",
    "    return nn.CrossEntropyLoss()(pred, label)"
   ]
  },
  {
   "cell_type": "code",
   "execution_count": 27,
   "metadata": {
    "id": "GuAP1YchedNA"
   },
   "outputs": [],
   "source": [
    "def get_rgan_loss(batch, fake_pos, mode='discriminator'):\n",
    "    real = dis_convert(batch)\n",
    "    fake = dis_convert(batch, fake_pos)\n",
    "    pred = discriminator(merge_batch(real, fake)).view(2, -1).T\n",
    "    real_pred, fake_pred = pred[:,0], pred[:,1]\n",
    "    if mode == 'discriminator':\n",
    "        losses = - F.logsigmoid(real_pred - fake_pred)\n",
    "    elif mode == 'generator':\n",
    "        losses = - F.logsigmoid(fake_pred - real_pred)\n",
    "    else:\n",
    "        raise Exception\n",
    "    return losses.mean()"
   ]
  },
  {
   "cell_type": "code",
   "execution_count": 28,
   "metadata": {
    "id": "KFllQ7BredNA"
   },
   "outputs": [],
   "source": [
    "def get_wgan_loss(batch, fake_pos, mode='discriminator'):\n",
    "    real = dis_convert(batch)\n",
    "    fake = dis_convert(batch, fake_pos)\n",
    "    pred = discriminator(merge_batch(real, fake)).view(2, -1).T\n",
    "    real_pred, fake_pred = pred[:,0], pred[:,1]\n",
    "    if mode == 'discriminator':\n",
    "        losses = fake_pred - real_pred \n",
    "    elif mode == 'generator':\n",
    "        losses = real_pred - fake_pred\n",
    "    else:\n",
    "        raise Exception\n",
    "    return losses.mean()"
   ]
  },
  {
   "cell_type": "code",
   "execution_count": 29,
   "metadata": {
    "id": "r5Kg_tYEedNA"
   },
   "outputs": [],
   "source": [
    "def get_ragan_loss(batch, fake_pos, mode='discriminator'):\n",
    "    real = dis_convert(batch)\n",
    "    fake = dis_convert(batch, fake_pos)\n",
    "    pred = discriminator(merge_batch(real, fake)).view(2, -1).T\n",
    "    real_pred, fake_pred = pred[:,0], pred[:,1]\n",
    "    if mode == 'discriminator':\n",
    "        losses = - F.logsigmoid(real_pred - fake_pred.mean()) - F.logsigmoid(real_pred.mean() - fake_pred)\n",
    "    elif mode == 'generator':\n",
    "        losses = - F.logsigmoid(fake_pred - real_pred.mean()) - F.logsigmoid(fake_pred.mean() - real_pred)\n",
    "    else:\n",
    "        raise Exception\n",
    "    return losses.mean()"
   ]
  },
  {
   "cell_type": "code",
   "execution_count": 30,
   "metadata": {},
   "outputs": [],
   "source": [
    "def get_dgdv2_loss(batch, fake_pos, mode='discriminator'):\n",
    "    fake = dis_convert(batch, fake_pos)\n",
    "    pred = discriminator(fake)\n",
    "    if mode == 'discriminator':\n",
    "        gt = get_gt(batch, fake_pos)\n",
    "        loss = criterion(pred, gt)\n",
    "    elif mode == 'generator':\n",
    "        losses = pred.sum(dim=0)\n",
    "#         losses = torch.tensor(config.importance).to(device) * losses #/ losses.detach()\n",
    "        loss = losses.sum()\n",
    "    else:\n",
    "        raise Exception\n",
    "    return -loss"
   ]
  },
  {
   "cell_type": "code",
   "execution_count": 31,
   "metadata": {
    "id": "3IE_84f-edNB"
   },
   "outputs": [],
   "source": [
    "def get_gan_loss(batch, fake_pos, mode='discriminator'):\n",
    "    return {\"sgan\": get_sgan_loss,\n",
    "            \"wgan\": get_wgan_loss,\n",
    "            \"rgan\": get_rgan_loss,\n",
    "            \"ragan\": get_ragan_loss,\n",
    "            \"dgdv2\": get_dgdv2_loss}[config.gan_flavor](batch, fake_pos, mode)"
   ]
  },
  {
   "cell_type": "code",
   "execution_count": 32,
   "metadata": {
    "colab": {
     "background_save": true,
     "base_uri": "https://localhost:8080/",
     "height": 80
    },
    "id": "2NjekXgkedNB",
    "outputId": "da85b2ec-c0de-459c-c0dd-7ba3519419fa",
    "scrolled": true,
    "tags": []
   },
   "outputs": [
    {
     "data": {
      "application/vnd.jupyter.widget-view+json": {
       "model_id": "5d9f1ca5bb534337b185178276b5f2b8",
       "version_major": 2,
       "version_minor": 0
      },
      "text/plain": [
       "Tab(children=(VBox(children=(Wrapper(), Hud())), HBox(children=(Output(),), layout=Layout(height='500px', over…"
      ]
     },
     "metadata": {},
     "output_type": "display_data"
    },
    {
     "ename": "KeyboardInterrupt",
     "evalue": "",
     "output_type": "error",
     "traceback": [
      "\u001b[0;31m---------------------------------------------------------------------------\u001b[0m",
      "\u001b[0;31mKeyboardInterrupt\u001b[0m                         Traceback (most recent call last)",
      "\u001b[0;32m/tmp/slurmtmp.5715224/ipykernel_63628/801679965.py\u001b[0m in \u001b[0;36m<module>\u001b[0;34m\u001b[0m\n\u001b[1;32m    127\u001b[0m     \u001b[0;32mfor\u001b[0m \u001b[0m_\u001b[0m \u001b[0;32min\u001b[0m \u001b[0mrange\u001b[0m\u001b[0;34m(\u001b[0m\u001b[0mconfig\u001b[0m\u001b[0;34m.\u001b[0m\u001b[0mdiscriminator\u001b[0m\u001b[0;34m.\u001b[0m\u001b[0mrepeat\u001b[0m\u001b[0;34m)\u001b[0m\u001b[0;34m:\u001b[0m\u001b[0;34m\u001b[0m\u001b[0;34m\u001b[0m\u001b[0m\n\u001b[1;32m    128\u001b[0m         \u001b[0;32mfor\u001b[0m \u001b[0mbatch\u001b[0m \u001b[0;32min\u001b[0m \u001b[0mtrain_loader\u001b[0m\u001b[0;34m:\u001b[0m\u001b[0;34m\u001b[0m\u001b[0;34m\u001b[0m\u001b[0m\n\u001b[0;32m--> 129\u001b[0;31m             \u001b[0mtrain_dis\u001b[0m\u001b[0;34m(\u001b[0m\u001b[0mbatch\u001b[0m\u001b[0;34m,\u001b[0m \u001b[0mepoch\u001b[0m\u001b[0;34m)\u001b[0m\u001b[0;34m\u001b[0m\u001b[0;34m\u001b[0m\u001b[0m\n\u001b[0m\u001b[1;32m    130\u001b[0m             \u001b[0;32mif\u001b[0m \u001b[0mconfig\u001b[0m\u001b[0;34m.\u001b[0m\u001b[0malternate\u001b[0m \u001b[0;34m==\u001b[0m \u001b[0;34m'iteration'\u001b[0m\u001b[0;34m:\u001b[0m\u001b[0;34m\u001b[0m\u001b[0;34m\u001b[0m\u001b[0m\n\u001b[1;32m    131\u001b[0m                 \u001b[0mtrain_gen\u001b[0m\u001b[0;34m(\u001b[0m\u001b[0mbatch\u001b[0m\u001b[0;34m,\u001b[0m \u001b[0mepoch\u001b[0m\u001b[0;34m)\u001b[0m\u001b[0;34m\u001b[0m\u001b[0;34m\u001b[0m\u001b[0m\n",
      "\u001b[0;32m/tmp/slurmtmp.5715224/ipykernel_63628/801679965.py\u001b[0m in \u001b[0;36mtrain_dis\u001b[0;34m(batch, epoch)\u001b[0m\n\u001b[1;32m      9\u001b[0m     \u001b[0;31m# train discriminator\u001b[0m\u001b[0;34m\u001b[0m\u001b[0;34m\u001b[0m\u001b[0m\n\u001b[1;32m     10\u001b[0m     \u001b[0mdiscriminator_loss\u001b[0m\u001b[0;34m.\u001b[0m\u001b[0mbackward\u001b[0m\u001b[0;34m(\u001b[0m\u001b[0;34m)\u001b[0m\u001b[0;34m\u001b[0m\u001b[0;34m\u001b[0m\u001b[0m\n\u001b[0;32m---> 11\u001b[0;31m     \u001b[0mdiscriminator_optimizer\u001b[0m\u001b[0;34m.\u001b[0m\u001b[0mstep\u001b[0m\u001b[0;34m(\u001b[0m\u001b[0;34m)\u001b[0m\u001b[0;34m\u001b[0m\u001b[0;34m\u001b[0m\u001b[0m\n\u001b[0m\u001b[1;32m     12\u001b[0m \u001b[0;34m\u001b[0m\u001b[0m\n\u001b[1;32m     13\u001b[0m     \u001b[0;31m# gradient penalty\u001b[0m\u001b[0;34m\u001b[0m\u001b[0;34m\u001b[0m\u001b[0m\n",
      "\u001b[0;32m~/.conda/envs/deepgd/lib/python3.9/site-packages/torch/optim/lr_scheduler.py\u001b[0m in \u001b[0;36mwrapper\u001b[0;34m(*args, **kwargs)\u001b[0m\n\u001b[1;32m     63\u001b[0m                 \u001b[0minstance\u001b[0m\u001b[0;34m.\u001b[0m\u001b[0m_step_count\u001b[0m \u001b[0;34m+=\u001b[0m \u001b[0;36m1\u001b[0m\u001b[0;34m\u001b[0m\u001b[0;34m\u001b[0m\u001b[0m\n\u001b[1;32m     64\u001b[0m                 \u001b[0mwrapped\u001b[0m \u001b[0;34m=\u001b[0m \u001b[0mfunc\u001b[0m\u001b[0;34m.\u001b[0m\u001b[0m__get__\u001b[0m\u001b[0;34m(\u001b[0m\u001b[0minstance\u001b[0m\u001b[0;34m,\u001b[0m \u001b[0mcls\u001b[0m\u001b[0;34m)\u001b[0m\u001b[0;34m\u001b[0m\u001b[0;34m\u001b[0m\u001b[0m\n\u001b[0;32m---> 65\u001b[0;31m                 \u001b[0;32mreturn\u001b[0m \u001b[0mwrapped\u001b[0m\u001b[0;34m(\u001b[0m\u001b[0;34m*\u001b[0m\u001b[0margs\u001b[0m\u001b[0;34m,\u001b[0m \u001b[0;34m**\u001b[0m\u001b[0mkwargs\u001b[0m\u001b[0;34m)\u001b[0m\u001b[0;34m\u001b[0m\u001b[0;34m\u001b[0m\u001b[0m\n\u001b[0m\u001b[1;32m     66\u001b[0m \u001b[0;34m\u001b[0m\u001b[0m\n\u001b[1;32m     67\u001b[0m             \u001b[0;31m# Note that the returned function here is no longer a bound method,\u001b[0m\u001b[0;34m\u001b[0m\u001b[0;34m\u001b[0m\u001b[0m\n",
      "\u001b[0;32m~/.conda/envs/deepgd/lib/python3.9/site-packages/torch/optim/optimizer.py\u001b[0m in \u001b[0;36mwrapper\u001b[0;34m(*args, **kwargs)\u001b[0m\n\u001b[1;32m     86\u001b[0m                 \u001b[0mprofile_name\u001b[0m \u001b[0;34m=\u001b[0m \u001b[0;34m\"Optimizer.step#{}.step\"\u001b[0m\u001b[0;34m.\u001b[0m\u001b[0mformat\u001b[0m\u001b[0;34m(\u001b[0m\u001b[0mobj\u001b[0m\u001b[0;34m.\u001b[0m\u001b[0m__class__\u001b[0m\u001b[0;34m.\u001b[0m\u001b[0m__name__\u001b[0m\u001b[0;34m)\u001b[0m\u001b[0;34m\u001b[0m\u001b[0;34m\u001b[0m\u001b[0m\n\u001b[1;32m     87\u001b[0m                 \u001b[0;32mwith\u001b[0m \u001b[0mtorch\u001b[0m\u001b[0;34m.\u001b[0m\u001b[0mautograd\u001b[0m\u001b[0;34m.\u001b[0m\u001b[0mprofiler\u001b[0m\u001b[0;34m.\u001b[0m\u001b[0mrecord_function\u001b[0m\u001b[0;34m(\u001b[0m\u001b[0mprofile_name\u001b[0m\u001b[0;34m)\u001b[0m\u001b[0;34m:\u001b[0m\u001b[0;34m\u001b[0m\u001b[0;34m\u001b[0m\u001b[0m\n\u001b[0;32m---> 88\u001b[0;31m                     \u001b[0;32mreturn\u001b[0m \u001b[0mfunc\u001b[0m\u001b[0;34m(\u001b[0m\u001b[0;34m*\u001b[0m\u001b[0margs\u001b[0m\u001b[0;34m,\u001b[0m \u001b[0;34m**\u001b[0m\u001b[0mkwargs\u001b[0m\u001b[0;34m)\u001b[0m\u001b[0;34m\u001b[0m\u001b[0;34m\u001b[0m\u001b[0m\n\u001b[0m\u001b[1;32m     89\u001b[0m             \u001b[0;32mreturn\u001b[0m \u001b[0mwrapper\u001b[0m\u001b[0;34m\u001b[0m\u001b[0;34m\u001b[0m\u001b[0m\n\u001b[1;32m     90\u001b[0m \u001b[0;34m\u001b[0m\u001b[0m\n",
      "\u001b[0;32m~/.conda/envs/deepgd/lib/python3.9/site-packages/torch/autograd/grad_mode.py\u001b[0m in \u001b[0;36mdecorate_context\u001b[0;34m(*args, **kwargs)\u001b[0m\n\u001b[1;32m     26\u001b[0m         \u001b[0;32mdef\u001b[0m \u001b[0mdecorate_context\u001b[0m\u001b[0;34m(\u001b[0m\u001b[0;34m*\u001b[0m\u001b[0margs\u001b[0m\u001b[0;34m,\u001b[0m \u001b[0;34m**\u001b[0m\u001b[0mkwargs\u001b[0m\u001b[0;34m)\u001b[0m\u001b[0;34m:\u001b[0m\u001b[0;34m\u001b[0m\u001b[0;34m\u001b[0m\u001b[0m\n\u001b[1;32m     27\u001b[0m             \u001b[0;32mwith\u001b[0m \u001b[0mself\u001b[0m\u001b[0;34m.\u001b[0m\u001b[0m__class__\u001b[0m\u001b[0;34m(\u001b[0m\u001b[0;34m)\u001b[0m\u001b[0;34m:\u001b[0m\u001b[0;34m\u001b[0m\u001b[0;34m\u001b[0m\u001b[0m\n\u001b[0;32m---> 28\u001b[0;31m                 \u001b[0;32mreturn\u001b[0m \u001b[0mfunc\u001b[0m\u001b[0;34m(\u001b[0m\u001b[0;34m*\u001b[0m\u001b[0margs\u001b[0m\u001b[0;34m,\u001b[0m \u001b[0;34m**\u001b[0m\u001b[0mkwargs\u001b[0m\u001b[0;34m)\u001b[0m\u001b[0;34m\u001b[0m\u001b[0;34m\u001b[0m\u001b[0m\n\u001b[0m\u001b[1;32m     29\u001b[0m         \u001b[0;32mreturn\u001b[0m \u001b[0mcast\u001b[0m\u001b[0;34m(\u001b[0m\u001b[0mF\u001b[0m\u001b[0;34m,\u001b[0m \u001b[0mdecorate_context\u001b[0m\u001b[0;34m)\u001b[0m\u001b[0;34m\u001b[0m\u001b[0;34m\u001b[0m\u001b[0m\n\u001b[1;32m     30\u001b[0m \u001b[0;34m\u001b[0m\u001b[0m\n",
      "\u001b[0;32m~/.conda/envs/deepgd/lib/python3.9/site-packages/torch/optim/adamw.py\u001b[0m in \u001b[0;36mstep\u001b[0;34m(self, closure)\u001b[0m\n\u001b[1;32m    108\u001b[0m                 \u001b[0mstate_steps\u001b[0m\u001b[0;34m.\u001b[0m\u001b[0mappend\u001b[0m\u001b[0;34m(\u001b[0m\u001b[0mstate\u001b[0m\u001b[0;34m[\u001b[0m\u001b[0;34m'step'\u001b[0m\u001b[0;34m]\u001b[0m\u001b[0;34m)\u001b[0m\u001b[0;34m\u001b[0m\u001b[0;34m\u001b[0m\u001b[0m\n\u001b[1;32m    109\u001b[0m \u001b[0;34m\u001b[0m\u001b[0m\n\u001b[0;32m--> 110\u001b[0;31m             F.adamw(params_with_grad,\n\u001b[0m\u001b[1;32m    111\u001b[0m                     \u001b[0mgrads\u001b[0m\u001b[0;34m,\u001b[0m\u001b[0;34m\u001b[0m\u001b[0;34m\u001b[0m\u001b[0m\n\u001b[1;32m    112\u001b[0m                     \u001b[0mexp_avgs\u001b[0m\u001b[0;34m,\u001b[0m\u001b[0;34m\u001b[0m\u001b[0;34m\u001b[0m\u001b[0m\n",
      "\u001b[0;32m~/.conda/envs/deepgd/lib/python3.9/site-packages/torch/optim/_functional.py\u001b[0m in \u001b[0;36madamw\u001b[0;34m(params, grads, exp_avgs, exp_avg_sqs, max_exp_avg_sqs, state_steps, amsgrad, beta1, beta2, lr, weight_decay, eps)\u001b[0m\n\u001b[1;32m    137\u001b[0m             \u001b[0mdenom\u001b[0m \u001b[0;34m=\u001b[0m \u001b[0;34m(\u001b[0m\u001b[0mmax_exp_avg_sqs\u001b[0m\u001b[0;34m[\u001b[0m\u001b[0mi\u001b[0m\u001b[0;34m]\u001b[0m\u001b[0;34m.\u001b[0m\u001b[0msqrt\u001b[0m\u001b[0;34m(\u001b[0m\u001b[0;34m)\u001b[0m \u001b[0;34m/\u001b[0m \u001b[0mmath\u001b[0m\u001b[0;34m.\u001b[0m\u001b[0msqrt\u001b[0m\u001b[0;34m(\u001b[0m\u001b[0mbias_correction2\u001b[0m\u001b[0;34m)\u001b[0m\u001b[0;34m)\u001b[0m\u001b[0;34m.\u001b[0m\u001b[0madd_\u001b[0m\u001b[0;34m(\u001b[0m\u001b[0meps\u001b[0m\u001b[0;34m)\u001b[0m\u001b[0;34m\u001b[0m\u001b[0;34m\u001b[0m\u001b[0m\n\u001b[1;32m    138\u001b[0m         \u001b[0;32melse\u001b[0m\u001b[0;34m:\u001b[0m\u001b[0;34m\u001b[0m\u001b[0;34m\u001b[0m\u001b[0m\n\u001b[0;32m--> 139\u001b[0;31m             \u001b[0mdenom\u001b[0m \u001b[0;34m=\u001b[0m \u001b[0;34m(\u001b[0m\u001b[0mexp_avg_sq\u001b[0m\u001b[0;34m.\u001b[0m\u001b[0msqrt\u001b[0m\u001b[0;34m(\u001b[0m\u001b[0;34m)\u001b[0m \u001b[0;34m/\u001b[0m \u001b[0mmath\u001b[0m\u001b[0;34m.\u001b[0m\u001b[0msqrt\u001b[0m\u001b[0;34m(\u001b[0m\u001b[0mbias_correction2\u001b[0m\u001b[0;34m)\u001b[0m\u001b[0;34m)\u001b[0m\u001b[0;34m.\u001b[0m\u001b[0madd_\u001b[0m\u001b[0;34m(\u001b[0m\u001b[0meps\u001b[0m\u001b[0;34m)\u001b[0m\u001b[0;34m\u001b[0m\u001b[0;34m\u001b[0m\u001b[0m\n\u001b[0m\u001b[1;32m    140\u001b[0m \u001b[0;34m\u001b[0m\u001b[0m\n\u001b[1;32m    141\u001b[0m         \u001b[0mstep_size\u001b[0m \u001b[0;34m=\u001b[0m \u001b[0mlr\u001b[0m \u001b[0;34m/\u001b[0m \u001b[0mbias_correction1\u001b[0m\u001b[0;34m\u001b[0m\u001b[0;34m\u001b[0m\u001b[0m\n",
      "\u001b[0;31mKeyboardInterrupt\u001b[0m: "
     ]
    }
   ],
   "source": [
    "def train_dis(batch, epoch):\n",
    "    generator.requires_grad_(False)\n",
    "    discriminator.zero_grad()\n",
    "    generator_output = generator(batch)\n",
    "    if config.discriminator.noise.std > 0:\n",
    "        generator_output = generator_output + torch.randn_like(generator_output) * config.discriminator.noise.std * config.discriminator.noise.decay ** epoch\n",
    "    discriminator_loss = get_gan_loss(batch, generator_output, mode='discriminator')\n",
    "    \n",
    "    # train discriminator\n",
    "    discriminator_loss.backward()\n",
    "    discriminator_optimizer.step()\n",
    "\n",
    "    # gradient penalty\n",
    "    if config.gp_weight > 0:\n",
    "        discriminator.zero_grad()\n",
    "        gp_loss = get_gp_loss(batch, generator_output, config.gp_weight)\n",
    "        gp_loss.backward()\n",
    "        discriminator_optimizer.step()\n",
    "\n",
    "    hud['dis_loss'] = format(discriminator_loss.item(), '.2e')\n",
    "    pbar().update()\n",
    "\n",
    "def train_gen(batch, epoch):\n",
    "    generator.requires_grad_(True)\n",
    "    generator.zero_grad()\n",
    "    discriminator.zero_grad()\n",
    "    generator_output = generator(batch)\n",
    "    if config.discriminator.noise.std > 0:\n",
    "        generator_output = generator_output + torch.randn_like(generator_output) * config.discriminator.noise.std * config.discriminator.noise.decay ** epoch\n",
    "    generator_loss = get_gan_loss(batch, generator_output, mode='generator') \n",
    "    \n",
    "    #train generator\n",
    "    generator_loss.backward()\n",
    "    generator_optimizer.step()\n",
    "\n",
    "    with torch.no_grad():\n",
    "        dis_batch = dis_convert(batch, generator_output)\n",
    "        stress = stress_criterion(dis_batch).mean()\n",
    "        critic = discriminator(dis_batch).mean()\n",
    "    hud.append({'gen_loss': format(generator_loss.item(), '.2e'),\n",
    "                'stress': format(stress.item(), '.2e'),\n",
    "                'critic': format(critic.item(), '.2e')})\n",
    "    pbar().update()\n",
    "\n",
    "def cuda_memsafe_map(fn, *iterables, summary=False):\n",
    "    total, failed = 0, 0\n",
    "    iterator = zip(*iterables)\n",
    "    items = None\n",
    "    while True:\n",
    "        try:\n",
    "            items = next(iterator)\n",
    "            yield fn(*items)\n",
    "        except StopIteration:\n",
    "            if summary:\n",
    "                print(f'Iteration finished. {failed} out of {total} failed!')\n",
    "            break\n",
    "        except RuntimeError:\n",
    "            print('CUDA memory overflow! Skip batch...')\n",
    "            del items\n",
    "            failed += 1\n",
    "        torch.cuda.empty_cache()\n",
    "        total += 1\n",
    "    \n",
    "def validate(model, data_loader, criterion=val_criterion):\n",
    "    def val_one_batch(batch):\n",
    "        batch = preprocess_batch(model, batch)\n",
    "        pred = CanonicalizationByStress()(model(batch), batch)\n",
    "        gt = CanonicalizationByStress()(batch.gt_pos, batch)\n",
    "        loss = criterion(pred, batch)\n",
    "        gt_loss = criterion(gt, batch)\n",
    "        spc = (loss - gt_loss) / torch.maximum(torch.maximum(loss, gt_loss), torch.ones_like(loss)*1e-5)\n",
    "        return loss.mean().item(), spc.mean().item()\n",
    "    loss_all, spc_all = zip(*cuda_memsafe_map(val_one_batch, data_loader))\n",
    "    return np.mean(loss_all), np.mean(spc_all)\n",
    "\n",
    "def log(msg):\n",
    "    msg = f\"[{epoch:03}] {msg}\"\n",
    "    print(msg, file=open(paths.log(), \"a\"))\n",
    "    with log_out: \n",
    "        print(msg)\n",
    "\n",
    "print(f\"{'='*10} {config.link} {'='*10}\", file=open(paths.log(), \"a\"))\n",
    "hud = Hud()\n",
    "pbar = Wrapper(tqdm, total=len(train_loader)*2, smoothing=0)\n",
    "plot_out = Output()\n",
    "log_out = Output()\n",
    "tabs = {\"status\": VBox([pbar, hud]), \n",
    "        \"plot\": HBox([plot_out], layout=Layout(height='500px', overflow_y='auto')),\n",
    "        \"log\": HBox([log_out], layout=Layout(height='500px', overflow_y='auto'))}\n",
    "tab_bar = Tab(children=list(tabs.values()))\n",
    "[tab_bar.set_title(i, name) for i, name in enumerate(tabs)]\n",
    "display(tab_bar)\n",
    "while True:\n",
    "    if epoch % config.log_interval == 0:\n",
    "        torch.save(generator.state_dict(), f\"{paths.checkpoints()}/gen_epoch_{epoch}.pt\")\n",
    "        torch.save(generator_optimizer.state_dict(), f\"{paths.checkpoints()}/gen_optim_epoch_{epoch}.pt\")\n",
    "        torch.save(discriminator.state_dict(), f\"{paths.checkpoints()}/dis_epoch_{epoch}.pt\")\n",
    "        torch.save(discriminator_optimizer.state_dict(), f\"{paths.checkpoints()}/dis_optim_epoch_{epoch}.pt\")\n",
    "        generator.eval()\n",
    "        with torch.no_grad():\n",
    "            val_stress, val_stress_spc = validate(model=generator, data_loader=val_loader)\n",
    "            val_xing, val_xing_spc = validate(model=generator, data_loader=val_loader, criterion=xing_criterion)\n",
    "            with plot_out:\n",
    "                fig = plt.figure()\n",
    "                graph_vis(G_list[11100], generator(make_batch(data_list[11100]).to(device)).cpu())\n",
    "                plt.show()\n",
    "        # tensorboard.add_scalars('loss', {'train': train_loss, \n",
    "        #                                  'validation': val_loss}, epoch)\n",
    "        # for i, fn in enumerate(loss_fns):\n",
    "        #     tensorboard.add_scalars(type(fn).__name__, {'train': train_loss_comp[i].item(), \n",
    "        #                                           'validation': val_loss_comp[i].item()}, epoch)\n",
    "        hud.append({\n",
    "            'val_stress': format(val_stress, '.2f'),\n",
    "            'val_stress_spc': format(val_stress_spc, '.2%'),\n",
    "            'val_xing': format(val_xing, '.2f'),\n",
    "            'val_xing_spc': format(val_xing_spc, '.2%'),\n",
    "        })\n",
    "        log(f\"stress={hud.data['val_stress']}({hud.data['val_stress_spc']}) xing={hud.data['val_xing']}({hud.data['val_xing_spc']})\")\n",
    "        \n",
    "    # handle.update(tab_bar)\n",
    "    pbar().reset()\n",
    "    pbar().set_description(desc=f\"[epoch {epoch}/{config.epoch.end}]\")\n",
    "    hud(title=f\"epoch {epoch}\")\n",
    "    generator.train()\n",
    "    discriminator.train()\n",
    "    # proper: proper layout\n",
    "    for _ in range(config.discriminator.repeat):\n",
    "        for batch in train_loader:\n",
    "            train_dis(batch, epoch)\n",
    "            if config.alternate == 'iteration':\n",
    "                train_gen(batch, epoch)\n",
    "\n",
    "    if config.alternate == 'epoch':\n",
    "        for batch in train_loader:\n",
    "            train_gen(batch, epoch)\n",
    "\n",
    "    discriminator_scheduler.step()\n",
    "    generator_scheduler.step()\n",
    "\n",
    "    if epoch == config.epoch.end:\n",
    "        break\n",
    "    epoch += 1"
   ]
  },
  {
   "cell_type": "markdown",
   "metadata": {
    "id": "0qYK_X_hrq9o"
   },
   "source": [
    "# Test"
   ]
  },
  {
   "cell_type": "code",
   "execution_count": 33,
   "metadata": {
    "colab": {
     "base_uri": "https://localhost:8080/"
    },
    "id": "XEvmAtNjWhcY",
    "outputId": "9f4c86a4-a4b0-48f1-cb58-ab3679173184"
   },
   "outputs": [
    {
     "name": "stdout",
     "output_type": "stream",
     "text": [
      "Loading from artifacts/checkpoints/GAN(gan=rgan,data=best(xing,stress),dis=deep,share=2,embed=14,gp=0,lr=1e-3,decay=.98)/gen_epoch_986.pt...\n"
     ]
    },
    {
     "data": {
      "text/plain": [
       "<All keys matched successfully>"
      ]
     },
     "execution_count": 33,
     "metadata": {},
     "output_type": "execute_result"
    }
   ],
   "source": [
    "test_epoch = -1\n",
    "\n",
    "test_generator = Generator(**config.generator.params[...]).to(device)\n",
    "test_ckpt_epoch = get_ckpt_epoch(paths.checkpoints(), test_epoch)\n",
    "test_ckpt_file = f\"{paths.checkpoints()}/gen_epoch_{test_ckpt_epoch}.pt\"\n",
    "print(f\"Loading from {test_ckpt_file}...\")\n",
    "test_generator.load_state_dict(torch.load(test_ckpt_file, map_location=torch.device(device)))"
   ]
  },
  {
   "cell_type": "code",
   "execution_count": 34,
   "metadata": {
    "colab": {
     "background_save": true,
     "base_uri": "https://localhost:8080/",
     "height": 1000,
     "referenced_widgets": [
      "9b7d18992dbf4a84931f916fbaaa37d8",
      "2c664d7e1e6d474fb87094fc0da270d3",
      "d375f5f82a4645d7b29c541596dc1c7f",
      "ecfa311bb06b4f6fa504598263ff69d3",
      "d1859990877149eab2b414b4e2a0e0c7",
      "d2be6733734844bca3e1db9b49eb1c1e",
      "4d98072bdf674792a13d77e85dd285d1",
      "f7ed92c383d741a0a1cef2536ff2db13",
      "2ba110f835c64ec4b82974996aed10af",
      "09397ceac9014af0aebca848d4d96d48",
      "fd0709f48d6c4527bc00b5f407f3c1b9"
     ]
    },
    "id": "ZubmSTcYrq9o",
    "outputId": "fc2f65a2-2085-43ac-b110-cbfe742318a8",
    "scrolled": true,
    "tags": []
   },
   "outputs": [
    {
     "data": {
      "application/vnd.jupyter.widget-view+json": {
       "model_id": "afb7846ed70f4db5915a5ef42458e9bf",
       "version_major": 2,
       "version_minor": 0
      },
      "text/plain": [
       "  0%|          | 0/1000 [00:00<?, ?it/s]"
      ]
     },
     "metadata": {},
     "output_type": "display_data"
    }
   ],
   "source": [
    "rotate = RotateByPrincipalComponents()\n",
    "def test_callback(*, idx, pred, metrics):\n",
    "    # graph_vis(G_list[idx], pred, file_name=f\"{paths.visualization()}/{idx}_{metrics['stress']:.2f}_{metrics['resolution_score']:.2f}.png\")\n",
    "    pred = rotate(torch.tensor(pred), data_list[idx])\n",
    "    graph_vis(G_list[idx], pred)\n",
    "    plt.title(f\"[pred] idx: {idx}, stress: {metrics['stress']:.2f}({metrics['stress_spc']:.2%}), xing: {metrics['xing']:.2f}({metrics['xing_spc']:.2%})\")\n",
    "    plt.show()\n",
    "    gt_pos = rotate(data_list[idx].gt_pos, data_list[idx])\n",
    "    graph_vis(G_list[idx], gt_pos, node_color='orange')\n",
    "    plt.title(f\"[gt] idx: {idx}, stress: {metrics['gt_stress']:.2f}, xing: {metrics['gt_xing']:.2f}\")\n",
    "    plt.show()\n",
    "    \n",
    "test_metrics = test(model=test_generator, \n",
    "                    criteria_list=[], \n",
    "                    dataset=data_list, \n",
    "                    idx_range=range(10000, 11000), \n",
    "#                     callback=test_callback,\n",
    "                    gt_pos=None)\n",
    "pickle.dump(test_metrics, open(paths.metrics(\"test\"), \"wb\"))"
   ]
  },
  {
   "cell_type": "code",
   "execution_count": 35,
   "metadata": {
    "colab": {
     "base_uri": "https://localhost:8080/",
     "height": 318
    },
    "id": "t2rFXIr_PsrJ",
    "outputId": "6a4205b1-4630-4de4-ec72-bdba3d3ea114"
   },
   "outputs": [
    {
     "name": "stdout",
     "output_type": "stream",
     "text": [
      "stress: tensor(310.2796)\n",
      "stress_spc: tensor(0.0166, dtype=torch.float64)\n",
      "xing: tensor(29.1910)\n",
      "xing_spc: tensor(0.2111, dtype=torch.float64)\n",
      "l1_angle: tensor(81.7994)\n",
      "l1_angle_spc: tensor(0.0617, dtype=torch.float64)\n",
      "edge: tensor(0.1499)\n",
      "edge_spc: tensor(0.1081, dtype=torch.float64)\n",
      "ring: tensor(247.8435)\n",
      "ring_spc: tensor(-0.0167, dtype=torch.float64)\n",
      "tsne: tensor(0.2026)\n",
      "tsne_spc: tensor(0.0795, dtype=torch.float64)\n",
      "reso_score: tensor(0.5969)\n",
      "min_angle: tensor(5.4990)\n"
     ]
    },
    {
     "data": {
      "text/html": [
       "<style type=\"text/css\">\n",
       "</style>\n",
       "<table id=\"T_ada60_\">\n",
       "  <thead>\n",
       "    <tr>\n",
       "      <th class=\"blank level0\" >&nbsp;</th>\n",
       "      <th class=\"col_heading level0 col0\" >stress</th>\n",
       "      <th class=\"col_heading level0 col1\" >stress_spc</th>\n",
       "      <th class=\"col_heading level0 col2\" >xing</th>\n",
       "      <th class=\"col_heading level0 col3\" >xing_spc</th>\n",
       "      <th class=\"col_heading level0 col4\" >l1_angle</th>\n",
       "      <th class=\"col_heading level0 col5\" >l1_angle_spc</th>\n",
       "      <th class=\"col_heading level0 col6\" >edge</th>\n",
       "      <th class=\"col_heading level0 col7\" >edge_spc</th>\n",
       "      <th class=\"col_heading level0 col8\" >ring</th>\n",
       "      <th class=\"col_heading level0 col9\" >ring_spc</th>\n",
       "      <th class=\"col_heading level0 col10\" >tsne</th>\n",
       "      <th class=\"col_heading level0 col11\" >tsne_spc</th>\n",
       "      <th class=\"col_heading level0 col12\" >reso_score</th>\n",
       "      <th class=\"col_heading level0 col13\" >min_angle</th>\n",
       "    </tr>\n",
       "  </thead>\n",
       "  <tbody>\n",
       "    <tr>\n",
       "      <th id=\"T_ada60_level0_row0\" class=\"row_heading level0 row0\" >0</th>\n",
       "      <td id=\"T_ada60_row0_col0\" class=\"data row0 col0\" >310.28</td>\n",
       "      <td id=\"T_ada60_row0_col1\" class=\"data row0 col1\" >1.66%</td>\n",
       "      <td id=\"T_ada60_row0_col2\" class=\"data row0 col2\" >29.19</td>\n",
       "      <td id=\"T_ada60_row0_col3\" class=\"data row0 col3\" >21.11%</td>\n",
       "      <td id=\"T_ada60_row0_col4\" class=\"data row0 col4\" >81.80</td>\n",
       "      <td id=\"T_ada60_row0_col5\" class=\"data row0 col5\" >6.17%</td>\n",
       "      <td id=\"T_ada60_row0_col6\" class=\"data row0 col6\" >0.15</td>\n",
       "      <td id=\"T_ada60_row0_col7\" class=\"data row0 col7\" >10.81%</td>\n",
       "      <td id=\"T_ada60_row0_col8\" class=\"data row0 col8\" >247.84</td>\n",
       "      <td id=\"T_ada60_row0_col9\" class=\"data row0 col9\" >-1.67%</td>\n",
       "      <td id=\"T_ada60_row0_col10\" class=\"data row0 col10\" >0.20</td>\n",
       "      <td id=\"T_ada60_row0_col11\" class=\"data row0 col11\" >7.95%</td>\n",
       "      <td id=\"T_ada60_row0_col12\" class=\"data row0 col12\" >0.60</td>\n",
       "      <td id=\"T_ada60_row0_col13\" class=\"data row0 col13\" >5.50</td>\n",
       "    </tr>\n",
       "  </tbody>\n",
       "</table>\n"
      ],
      "text/plain": [
       "<pandas.io.formats.style.Styler at 0x2ab66e4486a0>"
      ]
     },
     "execution_count": 35,
     "metadata": {},
     "output_type": "execute_result"
    }
   ],
   "source": [
    "metrics = test_metrics\n",
    "print('stress:', metrics['stress'].mean())\n",
    "print('stress_spc:', metrics['stress_spc'].mean())\n",
    "print('xing:', metrics['xing'].mean())\n",
    "print('xing_spc:', metrics['xing_spc'].mean())\n",
    "print('l1_angle:', metrics['l1_angle'].mean())\n",
    "print('l1_angle_spc:', metrics['l1_angle_spc'].mean())\n",
    "print('edge:', metrics['edge'].mean())\n",
    "print('edge_spc:', metrics['edge_spc'].mean())\n",
    "print('ring:', metrics['ring'].mean())\n",
    "print('ring_spc:', metrics['ring_spc'].mean())\n",
    "print('tsne:', metrics['tsne'].mean())\n",
    "print('tsne_spc:', metrics['tsne_spc'].mean())\n",
    "print('reso_score:', metrics['resolution_score'].mean())\n",
    "print('min_angle:', metrics['min_angle'].mean())\n",
    "columns = [\n",
    "    'stress',\n",
    "    'stress_spc',\n",
    "    'xing',\n",
    "    'xing_spc',\n",
    "    'l1_angle',\n",
    "    'l1_angle_spc',\n",
    "    'edge',\n",
    "    'edge_spc',\n",
    "    'ring',\n",
    "    'ring_spc',\n",
    "    'tsne',\n",
    "    'tsne_spc',\n",
    "    'reso_score',\n",
    "    'min_angle'\n",
    "]\n",
    "df = pd.DataFrame(map(lambda m: metrics[m].mean().item(), list(metrics.keys())[:-1])).set_axis(columns).T\n",
    "df.style.format({c: \"{:.2f}\" for c in columns if 'spc' not in c} | {c: \"{:.2%}\" for c in columns if 'spc' in c})"
   ]
  },
  {
   "cell_type": "code",
   "execution_count": 36,
   "metadata": {
    "id": "5e7vPr0M3mmG"
   },
   "outputs": [],
   "source": [
    "metrics = {}"
   ]
  },
  {
   "cell_type": "code",
   "execution_count": 37,
   "metadata": {},
   "outputs": [],
   "source": [
    "methods = ['fa2']"
   ]
  },
  {
   "cell_type": "code",
   "execution_count": 38,
   "metadata": {
    "colab": {
     "base_uri": "https://localhost:8080/",
     "height": 433,
     "referenced_widgets": [
      "a0cf6e046add4e639e52db69656e0db9",
      "8e237731bb1241ac858581b25389c012",
      "0891547293ad4211a138a4d92e01bb0b",
      "34912c8e581e47a99a1c4829c38cb75c",
      "5aa034c99c94424e835a2ee954b829ed",
      "248f6393eff74c3eb8740ca6d698045b",
      "686687a29c7f4ec98c4d76ca2062b14b",
      "996a84d1c23b47e4a2af252c6b60f55d",
      "3507f883bb954412b21c1c5641763ed7",
      "9582a849d91e457cadd514c95d6e1b5b",
      "52bfe674c2c547e09b7400a32a96f703",
      "93d58b3a12394fe1aa6f0431fc7cb0db",
      "af1d7855c9d646b0bcc7d95c4cb147a6",
      "f820e2b898cd461da04a4f651d27273d",
      "c0a112cfaa3d4d0aa9530372de84d8fb",
      "fd03985495694fbf9feb3f31ef8d18ce",
      "e02a2b36aa4c4d6fb5d2ac6693c1a927",
      "06f388ff5e3a48828d465096fe69977b",
      "c0052778c9c940e88935593e9f94b83b",
      "99a5e77a192d4a989c4534237eb16730",
      "77c6da092a6647fc9e54f7e276d75616",
      "8c13c0e8b5934117a662a78296bcb1b6",
      "cdcc3bd4235247b48c468c0f6b7682cc",
      "a2c6fa6fef4549cc853fa93b4b18cf95",
      "15cc02a756314083801b5f6798a1948c",
      "24d1c67fe52f452ab0c767e3c1a818aa",
      "c117db25c6fd484a9d0c7f210ccb1ade",
      "b090b60b61084cf692b3066dfac7f0a8",
      "5eab9848059c491b9c6cbac88683f025",
      "e87ffbaa1f204b52b9226337a506b040",
      "cf52198a9e4b46c7b49537a79919c09e",
      "51501227bc064ccbab97c22a679a0750",
      "d1b794a997dc457888a90bf44faee9b4",
      "21a755b50e5047bea797eccf24b35a0c",
      "16e78c3823ec4faf9f9cd9095b218ff5",
      "4ccd332c6b734acd8eff236eaf568dfa",
      "bd60fd13748347e48629df78fa455765",
      "e9187e4ba80b4fafa0334dae2e39aded",
      "4c39ec7c92b4402e8eedcb27beabaab1",
      "59a8194269f943bba571f710ad856973",
      "8e41bc25b9f348b1b85b381547cd60d1",
      "34d0f1529e64437fb25e639b41096072",
      "7e832c7543df43668eb72c0aa6356349",
      "f94162c9c5fe4c2581e3b80beaeb820b",
      "0284946fccf34607b25e1d6d81d4f72a",
      "8e8d4243a3624ba58d760bdf601d5126",
      "b1f0932594fe44f4be4beb8880172871",
      "820bb554d139437b8f6a6997f9002261",
      "459e375d1fe4497cb4197ef88e303c6d",
      "5726814966da46bbba942a114de4b319",
      "448beea5445f4642809801da46aa7e7c",
      "3746c0f0daf04f51805b4c95db20063a",
      "2ff74d1c705348438a32da37910c3300",
      "52f03147b5ab4cb390f9802b7a17a508",
      "5428511d652a47348203e8f3cd2e076d",
      "7b58569bee2e44c5a61a81f9a32c4c01",
      "c5e05d74b9404333a8155304e3497ba2",
      "3ad4e058bde44d87abab780368d49118",
      "8e437049b5c74ff1beddad93e30b19aa",
      "0c61377f4cc34b27ae34bdd6d976d868",
      "9ce35f9a9a23436ea77604513b5c4659",
      "dafbc43ad79c4feda093aefe490fc4b3",
      "497160b6bf80469a89680a03a468c8bb",
      "3265725ecb914981b6f07f68b8a582df",
      "1f0ac20d99d04ffb9ee75613526d3de6",
      "dee0e5716560483b8e2b107566439d94",
      "ca99841a1abd4fbd94927c49aaa711cb",
      "163a44ff1be04583ae7bd62726c55204",
      "f3b727045a0b4b4fabd147ec9c843e14",
      "7c4b4fe859cf48ab99b7e2780a24a539",
      "d9700cffab66480cb81e3722faab4e8b",
      "2c49acc1e0a64aa4b8ec461b0596848e",
      "691817157f43412f9c36002167606b75",
      "d0ae688d71734b56bb348de54e841798",
      "07a364ebcdaa491dbcc2304e4a8dae96",
      "538b277307b1449eaa79a2a91b4741d3",
      "f7b7dd4cbaa5468687b988c5e416a154",
      "877be862a4f045ec8b221097626becb5",
      "1bf37012df0844338ac689d4f6cc8eab",
      "33fe06641be544d3aab2c25cb979416f",
      "68de0d9261fa4e6999967b6f196d149c",
      "7017c5ba1ffc467495aca2689e516f7d",
      "e0997460cc21428695a0c278c6691baf",
      "522443bef4904996b6361ea265c4c56f",
      "dfe044b67917466f971ba84a11956d5e",
      "70b2d0ba1c1d4102841fb963480de1c7",
      "7b158daacd754a40bc0a48fc9ea6fea2",
      "8904f61ff30741e488eacf0e49440f66",
      "685dee6f1e1f4c2983d2d0b8eb90ed00",
      "005155a4d62d48cbbaf3d69614b08d81",
      "d2779dfa620041e4b32a7731926a5982",
      "53048bf27cb24080b4cdf20379302223",
      "0b5bff7794a14a20964da70b87158c2c",
      "ec664e55ea16435590393ae1617cccea",
      "f10d62ef464a45a7935610d869c282e3",
      "5e7c09bc35db4a3a8b9847c6d8478883",
      "987ea331b617446facc81b08bab1f8c4",
      "446c5a687b0d43358ab036d43ce281c3",
      "d89e216f62ae4a9999da1a91dd5e48b9",
      "09d03e7e66f54cafacefbfeda5fd6e5c",
      "d58c680562a44bbd9252e7ec6eebc06c",
      "71ea2594fdd942acac1cc61055438544",
      "fecda4df301b437f9fbfb61a7b593dc0",
      "bcf6741d926248cb92acf627d6557d2b",
      "5bd9868b9bda4f68b500a43916e2d148",
      "4bc5e02035de44ad827c4f881fd75afc",
      "7d80033a955e4feb947ca9cea931d90b",
      "e975c796d80d498992a50f87a2b0105c",
      "028b2ff105904a19a9a3e8ebf66967bb",
      "10dbf2cbdb1943eda6a0acaf5da3fe85",
      "14d59c7acc5e4e07a289db44406a4851",
      "d9447df93d714907bc9c768eb4910352",
      "d4a9ace081bf488680a7e43e0eaed71d",
      "022a60cde19546bfa6ecfb4947615ad9",
      "10c01207d9ba4fe197dc80717fceecc0",
      "f4995936570d4ba1a65e9a66e410b505",
      "b4bf66303e61491385cd616076a11c04",
      "a24ab2bfe7a44263bf60936d6e53ec32",
      "59e2e8ecc9f84d57af7bf44f5bba5df7",
      "be2eb92aab8045a99fd19195c3546b60",
      "e6715db2b048434796e910952cb5eb62",
      "8de2335007ba4a6b9935fa0c514c9f6a",
      "493a4bbe8057437a8c8acf4d03f8dcb0",
      "20b03955acc74e238695717124705520",
      "a89f9507496b4cf8bdd63bdb9bff79c4",
      "9752a1f6c8b6488d9628b8e0c023f10f",
      "61a0bebc687341a7bb3352febc8d4986",
      "07e0ff9c82a444788c60edee70688ca7",
      "4427901f35e54cc48e08527bb402c22a",
      "bd9dafb825954091ba975d71ab8c89ea",
      "7ec0f07bfe51484da38c18dc66d77804",
      "03943afebc4d4b668b54c7a0fd014a37",
      "a7a6b38a76424d738146b6a5786cf2c8",
      "1d1aa4729784470584c0001c1a296008",
      "e0c68ac9b5b442eeb77e6d9ea3c1da42",
      "c858ef9fd9324ab0ab885d85e3c8582f",
      "627bc2899c994a0c96c5d43e89dc77ff",
      "0e2c2f21fa8041038151170992ecb848",
      "2d9bcbf7629a4671bf8755e790276eb7",
      "77a4edf6ab1848a6a6df20c1c07358c6",
      "acf2212d6bb44c729b63281a98377095",
      "0c7a72818da3454190bab7f30a29e249",
      "d865af915b8b4aaa8cec8d40f1f8351d"
     ]
    },
    "id": "s1UnzfID4Ai6",
    "outputId": "3e204e76-68fd-4111-f527-91f6e3b7a3ca"
   },
   "outputs": [
    {
     "data": {
      "application/vnd.jupyter.widget-view+json": {
       "model_id": "23c812dc8a2b4cb8b801f9a469705cc5",
       "version_major": 2,
       "version_minor": 0
      },
      "text/plain": [
       "  0%|          | 0/1000 [00:00<?, ?it/s]"
      ]
     },
     "metadata": {},
     "output_type": "display_data"
    }
   ],
   "source": [
    "for m in methods:\n",
    "    metrics[m] = test(model=test_generator, \n",
    "                      criteria_list=[], \n",
    "                      dataset=data_list, \n",
    "                      idx_range=range(10000, 11000), \n",
    "                      callback=None,\n",
    "                      gt_pos=load_pos(m))"
   ]
  },
  {
   "cell_type": "code",
   "execution_count": 39,
   "metadata": {
    "id": "dQ7hdCtk5u6K"
   },
   "outputs": [],
   "source": [
    "mean_metrics = {key : list(map(lambda m: metrics[key][m].mean().item(), list(metrics[key].keys())[:-1])) for key in metrics}"
   ]
  },
  {
   "cell_type": "code",
   "execution_count": 40,
   "metadata": {
    "colab": {
     "base_uri": "https://localhost:8080/",
     "height": 313
    },
    "id": "OGyaCmLXTuvA",
    "outputId": "6c42d9f3-9869-4504-bc9c-d0eedaecfd90"
   },
   "outputs": [
    {
     "data": {
      "text/html": [
       "<style type=\"text/css\">\n",
       "</style>\n",
       "<table id=\"T_3c99a_\">\n",
       "  <thead>\n",
       "    <tr>\n",
       "      <th class=\"blank level0\" >&nbsp;</th>\n",
       "      <th class=\"col_heading level0 col0\" >stress</th>\n",
       "      <th class=\"col_heading level0 col1\" >stress_spc</th>\n",
       "      <th class=\"col_heading level0 col2\" >xing</th>\n",
       "      <th class=\"col_heading level0 col3\" >xing_spc</th>\n",
       "      <th class=\"col_heading level0 col4\" >l1_angle</th>\n",
       "      <th class=\"col_heading level0 col5\" >l1_angle_spc</th>\n",
       "      <th class=\"col_heading level0 col6\" >edge</th>\n",
       "      <th class=\"col_heading level0 col7\" >edge_spc</th>\n",
       "      <th class=\"col_heading level0 col8\" >ring</th>\n",
       "      <th class=\"col_heading level0 col9\" >ring_spc</th>\n",
       "      <th class=\"col_heading level0 col10\" >tsne</th>\n",
       "      <th class=\"col_heading level0 col11\" >tsne_spc</th>\n",
       "      <th class=\"col_heading level0 col12\" >reso_score</th>\n",
       "      <th class=\"col_heading level0 col13\" >min_angle</th>\n",
       "    </tr>\n",
       "  </thead>\n",
       "  <tbody>\n",
       "    <tr>\n",
       "      <th id=\"T_3c99a_level0_row0\" class=\"row_heading level0 row0\" >fa2</th>\n",
       "      <td id=\"T_3c99a_row0_col0\" class=\"data row0 col0\" >310.28</td>\n",
       "      <td id=\"T_3c99a_row0_col1\" class=\"data row0 col1\" >-14.23%</td>\n",
       "      <td id=\"T_3c99a_row0_col2\" class=\"data row0 col2\" >29.19</td>\n",
       "      <td id=\"T_3c99a_row0_col3\" class=\"data row0 col3\" >8.98%</td>\n",
       "      <td id=\"T_3c99a_row0_col4\" class=\"data row0 col4\" >81.80</td>\n",
       "      <td id=\"T_3c99a_row0_col5\" class=\"data row0 col5\" >9.38%</td>\n",
       "      <td id=\"T_3c99a_row0_col6\" class=\"data row0 col6\" >0.15</td>\n",
       "      <td id=\"T_3c99a_row0_col7\" class=\"data row0 col7\" >-19.13%</td>\n",
       "      <td id=\"T_3c99a_row0_col8\" class=\"data row0 col8\" >247.84</td>\n",
       "      <td id=\"T_3c99a_row0_col9\" class=\"data row0 col9\" >-3.77%</td>\n",
       "      <td id=\"T_3c99a_row0_col10\" class=\"data row0 col10\" >0.20</td>\n",
       "      <td id=\"T_3c99a_row0_col11\" class=\"data row0 col11\" >4.63%</td>\n",
       "      <td id=\"T_3c99a_row0_col12\" class=\"data row0 col12\" >0.60</td>\n",
       "      <td id=\"T_3c99a_row0_col13\" class=\"data row0 col13\" >5.58</td>\n",
       "    </tr>\n",
       "  </tbody>\n",
       "</table>\n"
      ],
      "text/plain": [
       "<pandas.io.formats.style.Styler at 0x2ab66e06a520>"
      ]
     },
     "execution_count": 40,
     "metadata": {},
     "output_type": "execute_result"
    }
   ],
   "source": [
    "columns = [\n",
    "    'stress',\n",
    "    'stress_spc',\n",
    "    'xing',\n",
    "    'xing_spc',\n",
    "    'l1_angle',\n",
    "    'l1_angle_spc',\n",
    "    'edge',\n",
    "    'edge_spc',\n",
    "    'ring',\n",
    "    'ring_spc',\n",
    "    'tsne',\n",
    "    'tsne_spc',\n",
    "    'reso_score',\n",
    "    'min_angle'\n",
    "]\n",
    "df = pd.DataFrame(mean_metrics).set_axis(columns).T\n",
    "df.style.format({c: \"{:.2f}\" for c in columns if 'spc' not in c} | {c: \"{:.2%}\" for c in columns if 'spc' in c})"
   ]
  },
  {
   "cell_type": "markdown",
   "metadata": {
    "id": "L5S1HWnHOWIl"
   },
   "source": [
    "# Large Graph"
   ]
  },
  {
   "cell_type": "code",
   "execution_count": null,
   "metadata": {
    "id": "_pefPcV1OZdD"
   },
   "outputs": [],
   "source": [
    "scalability = pd.read_csv(f\"/__artifacts__/data/scalability.csv\", index_col=\"index\")\n",
    "scalability"
   ]
  },
  {
   "cell_type": "code",
   "execution_count": null,
   "metadata": {
    "id": "oMhWAsdvPnTX"
   },
   "outputs": [],
   "source": [
    "rescale = CanonicalizationByStress()\n",
    "stressfn = Stress()\n",
    "rotate = RotateByPrincipalComponents()"
   ]
  },
  {
   "cell_type": "code",
   "execution_count": null,
   "metadata": {
    "id": "LR83OcAaPID5"
   },
   "outputs": [],
   "source": [
    "stress_list = []\n",
    "spc_list = []\n",
    "pmds_list = np.load(\"layouts/new_large_graph/pmds.npy\", allow_pickle=True)\n",
    "gviz_list = np.load(\"layouts/new_large_graph/gviz.npy\", allow_pickle=True)\n",
    "with torch.no_grad():\n",
    "    for idx, col in tqdm(scalability.iterrows(), total=len(scalability)):\n",
    "        # if idx not in [406, 516]: continue\n",
    "        torch.cuda.empty_cache()\n",
    "        G = load_mtx(col['file'])\n",
    "        G.remove_edges_from(nx.selfloop_edges(G))\n",
    "        data = generate_data_list(G, \n",
    "                                sparse=data_config.sparse, \n",
    "                                pivot_mode=data_config.pivot,\n",
    "                                init_mode=data_config.init,\n",
    "                                edge_index=data_config.edge.index,\n",
    "                                edge_attr=data_config.edge.attr,\n",
    "                                pmds_list=pmds_list[idx],\n",
    "                                gviz_list=gviz_list[idx],\n",
    "                                device=device)\n",
    "        batch = Batch.from_data_list([data]).to(device)\n",
    "        # generator.train()\n",
    "        # generator(batch)\n",
    "        generator.eval()\n",
    "        pred = generator(batch)\n",
    "        pos = rotate(rescale(pred, batch), batch)\n",
    "        gt = rotate(rescale(batch.gt_pos, batch), batch)\n",
    "        stress = stressfn(pos, batch).item()\n",
    "        gt_stress = stressfn(gt, batch).item()\n",
    "        spc = (stress - gt_stress) / np.maximum(stress, gt_stress)\n",
    "        stress_list.append(stress)\n",
    "        spc_list.append(spc)\n",
    "\n",
    "        np.save(f\"/__artifacts__/gan_result/data/scalability_{idx}.npy\", pos.cpu().numpy())\n",
    "        graph_attr = dict(node_size=1, \n",
    "                        with_labels=False, \n",
    "                        labels=dict(zip(list(G.nodes), map(lambda n: n if type(n) is int else n[1:], list(G.nodes)))),\n",
    "                        font_color=\"white\", \n",
    "                        font_weight=\"bold\",\n",
    "                        font_size=12,\n",
    "                        width=0.1)\n",
    "\n",
    "        # gt_pos = pickle.load(open(f\"/__artifacts__/data/scalability_{idx}_gt.pkl\", \"rb\"))\n",
    "\n",
    "        plt.figure(figsize=[12, 9])\n",
    "        nx.draw(G, pos=gt.cpu().numpy(), node_color='orange', **graph_attr)\n",
    "        plt.title(f\"neato: large_{idx}\")\n",
    "        plt.axis(\"equal\")\n",
    "        plt.savefig(f\"/__artifacts__/gan_result/output/{idx}_{col['name']}_{col['n']}_{spc}_nx.png\", dpi=300)\n",
    "        plt.show()\n",
    "\n",
    "        plt.figure(figsize=[12, 9])\n",
    "        graph_vis(G, pos.cpu().numpy(), **graph_attr)\n",
    "        plt.title(f\"dgd: large_{idx}, spc={spc:.2%}\")\n",
    "        plt.axis(\"equal\")\n",
    "        plt.savefig(f\"/__artifacts__/gan_result/output/{idx}_{col['name']}_{col['n']}_{spc}_dgd.png\", dpi=300)\n",
    "        plt.show()"
   ]
  },
  {
   "cell_type": "code",
   "execution_count": null,
   "metadata": {
    "id": "gRXTewkYeuq1"
   },
   "outputs": [],
   "source": []
  }
 ],
 "metadata": {
  "accelerator": "GPU",
  "colab": {
   "collapsed_sections": [
    "w_p3OD0woiSM",
    "DR6-vYtr_i_P",
    "innqkwvH_ydD",
    "f-ODE2k8BFV6",
    "N39dDHraedM6"
   ],
   "machine_shape": "hm",
   "name": "GAN(gan=rgan,data=best(xing,stress),dis=deep,share=16,embed=0,gp=0).ipynb",
   "provenance": []
  },
  "kernelspec": {
   "display_name": "DeepGD",
   "language": "python",
   "name": "deepgd"
  },
  "language_info": {
   "codemirror_mode": {
    "name": "ipython",
    "version": 3
   },
   "file_extension": ".py",
   "mimetype": "text/x-python",
   "name": "python",
   "nbconvert_exporter": "python",
   "pygments_lexer": "ipython3",
   "version": "3.9.7"
  },
  "widgets": {
   "application/vnd.jupyter.widget-state+json": {
    "state": {
     "06edc243ffd34b738be80a0b08369c71": {
      "model_module": "@jupyter-widgets/base",
      "model_module_version": "1.2.0",
      "model_name": "LayoutModel",
      "state": {}
     },
     "06ff14d9f91f421084d24e34b162d5b2": {
      "model_module": "@jupyter-widgets/controls",
      "model_module_version": "1.5.0",
      "model_name": "VBoxModel",
      "state": {
       "children": [
        "IPY_MODEL_9dd2ca04297d47ba84f1c5db86d33a1e",
        "IPY_MODEL_212e7068f9d94e32a4b1e00bf78abd68"
       ],
       "layout": "IPY_MODEL_7a8ada63879c45b08e82ba98325709b4"
      }
     },
     "098fa5671590431ca5b0b31931ba6059": {
      "model_module": "@jupyter-widgets/base",
      "model_module_version": "1.2.0",
      "model_name": "LayoutModel",
      "state": {}
     },
     "0f5386f8544c44efa9496e5561d143bd": {
      "model_module": "@jupyter-widgets/base",
      "model_module_version": "1.2.0",
      "model_name": "LayoutModel",
      "state": {}
     },
     "16cba592c9ce4048ae68a37647f711d6": {
      "model_module": "@jupyter-widgets/base",
      "model_module_version": "1.2.0",
      "model_name": "LayoutModel",
      "state": {}
     },
     "180b3c57d7e440acbd67631a5d78312a": {
      "model_module": "@jupyter-widgets/controls",
      "model_module_version": "1.5.0",
      "model_name": "HBoxModel",
      "state": {
       "children": [
        "IPY_MODEL_4fe4c688416d410a8d195e1b2f133cc4"
       ],
       "layout": "IPY_MODEL_eb1bf99c5a694d298f05d4e7bf5696bc"
      }
     },
     "18cc58202cb949598f053c854440b313": {
      "model_module": "@jupyter-widgets/base",
      "model_module_version": "1.2.0",
      "model_name": "LayoutModel",
      "state": {}
     },
     "193ca538a2734637a6c57983bce9b016": {
      "model_module": "@jupyter-widgets/base",
      "model_module_version": "1.2.0",
      "model_name": "LayoutModel",
      "state": {}
     },
     "207e6ffeb9864504b10f4545acdd5df7": {
      "model_module": "@jupyter-widgets/base",
      "model_module_version": "1.2.0",
      "model_name": "LayoutModel",
      "state": {}
     },
     "2100b616e405490daa07dc91a0cf2d2f": {
      "model_module": "@jupyter-widgets/base",
      "model_module_version": "1.2.0",
      "model_name": "LayoutModel",
      "state": {}
     },
     "212e7068f9d94e32a4b1e00bf78abd68": {
      "model_module": "@jupyter-widgets/output",
      "model_module_version": "1.0.0",
      "model_name": "OutputModel",
      "state": {
       "layout": "IPY_MODEL_16cba592c9ce4048ae68a37647f711d6",
       "outputs": [
        {
         "data": {
          "text/html": "<div>\n<style scoped>\n    .dataframe tbody tr th:only-of-type {\n        vertical-align: middle;\n    }\n\n    .dataframe tbody tr th {\n        vertical-align: top;\n    }\n\n    .dataframe thead th {\n        text-align: right;\n    }\n</style>\n<table border=\"1\" class=\"dataframe\">\n  <thead>\n    <tr style=\"text-align: right;\">\n      <th></th>\n      <th>val_stress</th>\n      <th>val_stress_spc</th>\n      <th>val_xing</th>\n      <th>val_xing_spc</th>\n      <th>dis_loss</th>\n    </tr>\n  </thead>\n  <tbody>\n    <tr>\n      <th>epoch 986</th>\n      <td>343.06</td>\n      <td>2.57%</td>\n      <td>33.35</td>\n      <td>23.06%</td>\n      <td>2.62e-01</td>\n    </tr>\n  </tbody>\n</table>\n</div>",
          "text/plain": "          val_stress val_stress_spc val_xing val_xing_spc  dis_loss\nepoch 986     343.06          2.57%    33.35       23.06%  2.62e-01"
         },
         "metadata": {},
         "output_type": "display_data"
        }
       ]
      }
     },
     "23c812dc8a2b4cb8b801f9a469705cc5": {
      "model_module": "@jupyter-widgets/controls",
      "model_module_version": "1.5.0",
      "model_name": "HBoxModel",
      "state": {
       "children": [
        "IPY_MODEL_da7314aeff854667a8bbb20fb49b54dc",
        "IPY_MODEL_f4388e3f781241079043a35f7a57a6a0",
        "IPY_MODEL_3c73b094b51e4c3997e00aa524071f1f"
       ],
       "layout": "IPY_MODEL_862ff7fd9df84372beca0041d7528803"
      }
     },
     "2b2d8fcf2de341f3be7c4c2133bc9231": {
      "model_module": "@jupyter-widgets/output",
      "model_module_version": "1.0.0",
      "model_name": "OutputModel",
      "state": {
       "layout": "IPY_MODEL_098fa5671590431ca5b0b31931ba6059",
       "outputs": [
        {
         "data": {
          "image/png": "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\n",
          "text/plain": "<Figure size 432x288 with 1 Axes>"
         },
         "metadata": {},
         "output_type": "display_data"
        }
       ]
      }
     },
     "2b31088852e94b099ddcf34b9b66d039": {
      "model_module": "@jupyter-widgets/controls",
      "model_module_version": "1.5.0",
      "model_name": "HTMLModel",
      "state": {
       "layout": "IPY_MODEL_fb34f47510a442e0b4c0ba2debf0f975",
       "style": "IPY_MODEL_75f4c4b47c6b44f0a2bdcaef7b77bee5",
       "value": "[epoch 986/None]:   1%"
      }
     },
     "2e0c50ab2ead4a9fa7b1228142e6d103": {
      "model_module": "@jupyter-widgets/base",
      "model_module_version": "1.2.0",
      "model_name": "LayoutModel",
      "state": {}
     },
     "3126e1c1d8d944d9ab350766f79c105e": {
      "model_module": "@jupyter-widgets/controls",
      "model_module_version": "1.5.0",
      "model_name": "DescriptionStyleModel",
      "state": {
       "description_width": ""
      }
     },
     "3155be19e8de4e7fa89b48c62a57e622": {
      "model_module": "@jupyter-widgets/controls",
      "model_module_version": "1.5.0",
      "model_name": "HTMLModel",
      "state": {
       "layout": "IPY_MODEL_9e8fd2bed0894c0aa373deaab6e4dda5",
       "style": "IPY_MODEL_8c2fe8ba0d3f4401a9c2e328fe0d214a",
       "value": "100%"
      }
     },
     "384d55c24b0445b5ac05af5c31f139c9": {
      "model_module": "@jupyter-widgets/controls",
      "model_module_version": "1.5.0",
      "model_name": "DescriptionStyleModel",
      "state": {
       "description_width": ""
      }
     },
     "3c73b094b51e4c3997e00aa524071f1f": {
      "model_module": "@jupyter-widgets/controls",
      "model_module_version": "1.5.0",
      "model_name": "HTMLModel",
      "state": {
       "layout": "IPY_MODEL_18cc58202cb949598f053c854440b313",
       "style": "IPY_MODEL_59f8012815ed48fcb0c801a10ea90c5e",
       "value": " 1000/1000 [00:47&lt;00:00, 19.66it/s]"
      }
     },
     "3dd5d3f8231f4beab6c676e090b89801": {
      "model_module": "@jupyter-widgets/controls",
      "model_module_version": "1.5.0",
      "model_name": "HTMLModel",
      "state": {
       "layout": "IPY_MODEL_6215edb6f56149feb6d72dc097cedae1",
       "style": "IPY_MODEL_648335c139c74b56a0264817922344c4",
       "value": " 1000/1000 [00:47&lt;00:00, 20.83it/s]"
      }
     },
     "3fbe158393d049d587ada2e55710aac3": {
      "model_module": "@jupyter-widgets/base",
      "model_module_version": "1.2.0",
      "model_name": "LayoutModel",
      "state": {}
     },
     "4321730250844e4b9b1a7c328ea5d978": {
      "model_module": "@jupyter-widgets/controls",
      "model_module_version": "1.5.0",
      "model_name": "FloatProgressModel",
      "state": {
       "bar_style": "success",
       "layout": "IPY_MODEL_193ca538a2734637a6c57983bce9b016",
       "max": 11531,
       "style": "IPY_MODEL_f1b1ff3609834dc280c98671826a919d",
       "value": 11531
      }
     },
     "4836e93c4ec641c992efee96459ad8cd": {
      "model_module": "@jupyter-widgets/base",
      "model_module_version": "1.2.0",
      "model_name": "LayoutModel",
      "state": {
       "height": "500px",
       "overflow_y": "auto"
      }
     },
     "4917779d477f48a4806309aa221df935": {
      "model_module": "@jupyter-widgets/base",
      "model_module_version": "1.2.0",
      "model_name": "LayoutModel",
      "state": {}
     },
     "4fe4c688416d410a8d195e1b2f133cc4": {
      "model_module": "@jupyter-widgets/output",
      "model_module_version": "1.0.0",
      "model_name": "OutputModel",
      "state": {
       "layout": "IPY_MODEL_aaca4a5e56364f578150a527ad12f0be",
       "outputs": [
        {
         "name": "stdout",
         "output_type": "stream",
         "text": "[986] stress=343.06(2.57%) xing=33.35(23.06%)\n"
        }
       ]
      }
     },
     "59f8012815ed48fcb0c801a10ea90c5e": {
      "model_module": "@jupyter-widgets/controls",
      "model_module_version": "1.5.0",
      "model_name": "DescriptionStyleModel",
      "state": {
       "description_width": ""
      }
     },
     "5d9f1ca5bb534337b185178276b5f2b8": {
      "model_module": "@jupyter-widgets/controls",
      "model_module_version": "1.5.0",
      "model_name": "TabModel",
      "state": {
       "_titles": {
        "0": "status",
        "1": "plot",
        "2": "log"
       },
       "children": [
        "IPY_MODEL_06ff14d9f91f421084d24e34b162d5b2",
        "IPY_MODEL_845b828c734c4ee4ada6caf080787550",
        "IPY_MODEL_180b3c57d7e440acbd67631a5d78312a"
       ],
       "layout": "IPY_MODEL_3fbe158393d049d587ada2e55710aac3"
      }
     },
     "6207c8ad02734dcf86089f9757ff08be": {
      "model_module": "@jupyter-widgets/controls",
      "model_module_version": "1.5.0",
      "model_name": "FloatProgressModel",
      "state": {
       "bar_style": "success",
       "layout": "IPY_MODEL_2100b616e405490daa07dc91a0cf2d2f",
       "max": 1000,
       "style": "IPY_MODEL_8d8f79ad25644b1390c5ce2ca64ea5ed",
       "value": 1000
      }
     },
     "6215edb6f56149feb6d72dc097cedae1": {
      "model_module": "@jupyter-widgets/base",
      "model_module_version": "1.2.0",
      "model_name": "LayoutModel",
      "state": {}
     },
     "648335c139c74b56a0264817922344c4": {
      "model_module": "@jupyter-widgets/controls",
      "model_module_version": "1.5.0",
      "model_name": "DescriptionStyleModel",
      "state": {
       "description_width": ""
      }
     },
     "64e813485c314d3b9d3c551daad29a48": {
      "model_module": "@jupyter-widgets/base",
      "model_module_version": "1.2.0",
      "model_name": "LayoutModel",
      "state": {}
     },
     "67f34fce145e4a9f8fb878e8f305bb75": {
      "model_module": "@jupyter-widgets/controls",
      "model_module_version": "1.5.0",
      "model_name": "ProgressStyleModel",
      "state": {
       "description_width": ""
      }
     },
     "6a96c8b0f1ac4b9bb56974d204eee8b5": {
      "model_module": "@jupyter-widgets/controls",
      "model_module_version": "1.5.0",
      "model_name": "HTMLModel",
      "state": {
       "layout": "IPY_MODEL_0f5386f8544c44efa9496e5561d143bd",
       "style": "IPY_MODEL_f82e75ed140a4788813d4fa94cdfc291",
       "value": " 11531/11531 [00:00&lt;00:00, 60351.42it/s]"
      }
     },
     "720a2783491741f1a2b738e22849e25e": {
      "model_module": "@jupyter-widgets/controls",
      "model_module_version": "1.5.0",
      "model_name": "DescriptionStyleModel",
      "state": {
       "description_width": ""
      }
     },
     "75f4c4b47c6b44f0a2bdcaef7b77bee5": {
      "model_module": "@jupyter-widgets/controls",
      "model_module_version": "1.5.0",
      "model_name": "DescriptionStyleModel",
      "state": {
       "description_width": ""
      }
     },
     "7a8ada63879c45b08e82ba98325709b4": {
      "model_module": "@jupyter-widgets/base",
      "model_module_version": "1.2.0",
      "model_name": "LayoutModel",
      "state": {}
     },
     "7bd0958d2c514329b3969db876cd9d7c": {
      "model_module": "@jupyter-widgets/controls",
      "model_module_version": "1.5.0",
      "model_name": "FloatProgressModel",
      "state": {
       "layout": "IPY_MODEL_ee74dc4842704f33aad51c0354ea09d4",
       "max": 834,
       "style": "IPY_MODEL_9c0a695f8bc54dad9b5f6ac735de1319",
       "value": 5
      }
     },
     "845b828c734c4ee4ada6caf080787550": {
      "model_module": "@jupyter-widgets/controls",
      "model_module_version": "1.5.0",
      "model_name": "HBoxModel",
      "state": {
       "children": [
        "IPY_MODEL_2b2d8fcf2de341f3be7c4c2133bc9231"
       ],
       "layout": "IPY_MODEL_4836e93c4ec641c992efee96459ad8cd"
      }
     },
     "862ff7fd9df84372beca0041d7528803": {
      "model_module": "@jupyter-widgets/base",
      "model_module_version": "1.2.0",
      "model_name": "LayoutModel",
      "state": {}
     },
     "8c2fe8ba0d3f4401a9c2e328fe0d214a": {
      "model_module": "@jupyter-widgets/controls",
      "model_module_version": "1.5.0",
      "model_name": "DescriptionStyleModel",
      "state": {
       "description_width": ""
      }
     },
     "8d8f79ad25644b1390c5ce2ca64ea5ed": {
      "model_module": "@jupyter-widgets/controls",
      "model_module_version": "1.5.0",
      "model_name": "ProgressStyleModel",
      "state": {
       "description_width": ""
      }
     },
     "9c0a695f8bc54dad9b5f6ac735de1319": {
      "model_module": "@jupyter-widgets/controls",
      "model_module_version": "1.5.0",
      "model_name": "ProgressStyleModel",
      "state": {
       "description_width": ""
      }
     },
     "9dd2ca04297d47ba84f1c5db86d33a1e": {
      "model_module": "@jupyter-widgets/output",
      "model_module_version": "1.0.0",
      "model_name": "OutputModel",
      "state": {
       "layout": "IPY_MODEL_d9fa361491fa409a9e1dfd512e15b1bb",
       "outputs": [
        {
         "data": {
          "application/vnd.jupyter.widget-view+json": {
           "model_id": "b4f994287a9d48ecbc6dd500777d14ce",
           "version_major": 2,
           "version_minor": 0
          },
          "text/plain": "  0%|          | 0/834 [00:00<?, ?it/s]"
         },
         "metadata": {},
         "output_type": "display_data"
        }
       ]
      }
     },
     "9e8fd2bed0894c0aa373deaab6e4dda5": {
      "model_module": "@jupyter-widgets/base",
      "model_module_version": "1.2.0",
      "model_name": "LayoutModel",
      "state": {}
     },
     "aa4f43c843e748a19b755b16ea012b2a": {
      "model_module": "@jupyter-widgets/base",
      "model_module_version": "1.2.0",
      "model_name": "LayoutModel",
      "state": {}
     },
     "aaca4a5e56364f578150a527ad12f0be": {
      "model_module": "@jupyter-widgets/base",
      "model_module_version": "1.2.0",
      "model_name": "LayoutModel",
      "state": {}
     },
     "af5aa2ed931d4ba69781a640f978c04d": {
      "model_module": "@jupyter-widgets/controls",
      "model_module_version": "1.5.0",
      "model_name": "HTMLModel",
      "state": {
       "layout": "IPY_MODEL_64e813485c314d3b9d3c551daad29a48",
       "style": "IPY_MODEL_720a2783491741f1a2b738e22849e25e",
       "value": "100%"
      }
     },
     "afb7846ed70f4db5915a5ef42458e9bf": {
      "model_module": "@jupyter-widgets/controls",
      "model_module_version": "1.5.0",
      "model_name": "HBoxModel",
      "state": {
       "children": [
        "IPY_MODEL_3155be19e8de4e7fa89b48c62a57e622",
        "IPY_MODEL_6207c8ad02734dcf86089f9757ff08be",
        "IPY_MODEL_3dd5d3f8231f4beab6c676e090b89801"
       ],
       "layout": "IPY_MODEL_aa4f43c843e748a19b755b16ea012b2a"
      }
     },
     "b1d45d406d7c44fd90602ec2a18ab3a9": {
      "model_module": "@jupyter-widgets/controls",
      "model_module_version": "1.5.0",
      "model_name": "HTMLModel",
      "state": {
       "layout": "IPY_MODEL_06edc243ffd34b738be80a0b08369c71",
       "style": "IPY_MODEL_3126e1c1d8d944d9ab350766f79c105e",
       "value": " 5/834 [00:01&lt;04:18,  3.21it/s]"
      }
     },
     "b4f994287a9d48ecbc6dd500777d14ce": {
      "model_module": "@jupyter-widgets/controls",
      "model_module_version": "1.5.0",
      "model_name": "HBoxModel",
      "state": {
       "children": [
        "IPY_MODEL_2b31088852e94b099ddcf34b9b66d039",
        "IPY_MODEL_7bd0958d2c514329b3969db876cd9d7c",
        "IPY_MODEL_b1d45d406d7c44fd90602ec2a18ab3a9"
       ],
       "layout": "IPY_MODEL_2e0c50ab2ead4a9fa7b1228142e6d103"
      }
     },
     "d9fa361491fa409a9e1dfd512e15b1bb": {
      "model_module": "@jupyter-widgets/base",
      "model_module_version": "1.2.0",
      "model_name": "LayoutModel",
      "state": {}
     },
     "da7314aeff854667a8bbb20fb49b54dc": {
      "model_module": "@jupyter-widgets/controls",
      "model_module_version": "1.5.0",
      "model_name": "HTMLModel",
      "state": {
       "layout": "IPY_MODEL_f6edf0f846da4297bf57f98f02543a17",
       "style": "IPY_MODEL_384d55c24b0445b5ac05af5c31f139c9",
       "value": "100%"
      }
     },
     "db14ec1257da4d798fcc9c32653462fc": {
      "model_module": "@jupyter-widgets/controls",
      "model_module_version": "1.5.0",
      "model_name": "HBoxModel",
      "state": {
       "children": [
        "IPY_MODEL_af5aa2ed931d4ba69781a640f978c04d",
        "IPY_MODEL_4321730250844e4b9b1a7c328ea5d978",
        "IPY_MODEL_6a96c8b0f1ac4b9bb56974d204eee8b5"
       ],
       "layout": "IPY_MODEL_207e6ffeb9864504b10f4545acdd5df7"
      }
     },
     "eb1bf99c5a694d298f05d4e7bf5696bc": {
      "model_module": "@jupyter-widgets/base",
      "model_module_version": "1.2.0",
      "model_name": "LayoutModel",
      "state": {
       "height": "500px",
       "overflow_y": "auto"
      }
     },
     "ee74dc4842704f33aad51c0354ea09d4": {
      "model_module": "@jupyter-widgets/base",
      "model_module_version": "1.2.0",
      "model_name": "LayoutModel",
      "state": {}
     },
     "f1b1ff3609834dc280c98671826a919d": {
      "model_module": "@jupyter-widgets/controls",
      "model_module_version": "1.5.0",
      "model_name": "ProgressStyleModel",
      "state": {
       "description_width": ""
      }
     },
     "f4388e3f781241079043a35f7a57a6a0": {
      "model_module": "@jupyter-widgets/controls",
      "model_module_version": "1.5.0",
      "model_name": "FloatProgressModel",
      "state": {
       "bar_style": "success",
       "layout": "IPY_MODEL_4917779d477f48a4806309aa221df935",
       "max": 1000,
       "style": "IPY_MODEL_67f34fce145e4a9f8fb878e8f305bb75",
       "value": 1000
      }
     },
     "f6edf0f846da4297bf57f98f02543a17": {
      "model_module": "@jupyter-widgets/base",
      "model_module_version": "1.2.0",
      "model_name": "LayoutModel",
      "state": {}
     },
     "f82e75ed140a4788813d4fa94cdfc291": {
      "model_module": "@jupyter-widgets/controls",
      "model_module_version": "1.5.0",
      "model_name": "DescriptionStyleModel",
      "state": {
       "description_width": ""
      }
     },
     "fb34f47510a442e0b4c0ba2debf0f975": {
      "model_module": "@jupyter-widgets/base",
      "model_module_version": "1.2.0",
      "model_name": "LayoutModel",
      "state": {}
     }
    },
    "version_major": 2,
    "version_minor": 0
   }
  }
 },
 "nbformat": 4,
 "nbformat_minor": 4
}
