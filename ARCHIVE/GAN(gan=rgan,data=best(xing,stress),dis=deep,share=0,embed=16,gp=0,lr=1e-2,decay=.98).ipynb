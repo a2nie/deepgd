{
 "cells": [
  {
   "cell_type": "markdown",
   "metadata": {
    "id": "wZtYFEhHoBGp"
   },
   "source": [
    "# Import libraries"
   ]
  },
  {
   "cell_type": "code",
   "execution_count": 1,
   "metadata": {
    "id": "KJPfzpxLQI5O"
   },
   "outputs": [],
   "source": [
    "%load_ext autoreload\n",
    "%autoreload 2\n",
    "from deepgd import *"
   ]
  },
  {
   "cell_type": "markdown",
   "metadata": {
    "id": "z4eBEyB1oaJe"
   },
   "source": [
    "# Config"
   ]
  },
  {
   "cell_type": "code",
   "execution_count": 2,
   "metadata": {
    "id": "Q_-MLFhpNvxF"
   },
   "outputs": [],
   "source": [
    "cuda_idx = 0\n",
    "canonicalization = Canonicalization(normalize=Standardization(norm_ord=1),\n",
    "                                    scale=False)\n",
    "config = StaticConfig({\n",
    "    \"name\": 'GAN(gan=rgan,data=best(xing,stress),dis=deep,share=0,embed=16,gp=0,lr=1e-2,decay=.98)',\n",
    "    \"uid\": None,\n",
    "    \"link\": None,\n",
    "    \"generator\": {\n",
    "        \"params\": {\n",
    "            \"num_blocks\": 9,\n",
    "            \"normalize\": canonicalization\n",
    "        },\n",
    "        \"pretrained\": {\n",
    "            \"name\": None,\n",
    "            \"epoch\": -1,\n",
    "        },\n",
    "        \"optim\": torch.optim.AdamW,\n",
    "        \"lr\" : {\n",
    "            \"initial\": 1e-2,\n",
    "            \"decay\": 0.98,\n",
    "        },\n",
    "    },\n",
    "    \"discriminator\": {\n",
    "        \"params\": {\n",
    "            \"conv\": [2, 16, 16, 16],\n",
    "            \"dense\": [2],\n",
    "            \"shared_depth\": 0,\n",
    "            \"enet_depth\": 16,\n",
    "            \"enet_width\": 64,\n",
    "            \"aggr\": \"add\",\n",
    "            \"normalize\": canonicalization\n",
    "        },\n",
    "        \"pretrained\": {\n",
    "            \"name\": None,\n",
    "            \"epoch\": -1,\n",
    "        },\n",
    "        \"optim\": torch.optim.AdamW,\n",
    "        \"lr\" : {\n",
    "            \"initial\": 1e-2,\n",
    "            \"decay\": 0.98,\n",
    "        },\n",
    "        \"noise\": {\n",
    "            \"std\": 0,\n",
    "            \"decay\": 0.95,\n",
    "        },\n",
    "        \"repeat\": 1,\n",
    "        \"complete\": True,\n",
    "        \"adaptive\": True\n",
    "    },\n",
    "    \"alternate\": \"epoch\",\n",
    "    \"batchsize\": 24,\n",
    "    \"epoch\": {\n",
    "        \"start\": -1,\n",
    "        \"end\": None,\n",
    "    },\n",
    "    \"log_interval\": 1,\n",
    "    \"test\": {\n",
    "        \"name\": \"test\",\n",
    "        \"epoch\": -1,\n",
    "    },\n",
    "    \"gan_flavor\": \"rgan\",\n",
    "    \"gp_weight\": 0,\n",
    "})\n",
    "data_config = StaticConfig({\n",
    "    \"sparse\": False,\n",
    "    \"pivot\": None,\n",
    "    \"init\": \"pmds\",\n",
    "    \"edge\": {\n",
    "        \"index\": \"full_edge_index\",\n",
    "        \"attr\": \"full_edge_attr\",\n",
    "    },\n",
    "})\n",
    "loss_fns = {\n",
    "    Stress(): 1\n",
    "}\n",
    "ctrler_params = {\n",
    "    \"tau\": 0.95,\n",
    "    \"beta\": 1,\n",
    "    \"exploit_rate\": 0.5,\n",
    "    \"warmup\": 2,\n",
    "}\n",
    "paths = StaticConfig({\n",
    "    \"root\": \"artifacts\",\n",
    "    \"checkpoints\": lambda: f\"{paths.root}/checkpoints/{config.name}\",\n",
    "    \"gen_pretrain\": lambda: f\"{paths.root}/checkpoints/{config.generator.pretrained.name}\",\n",
    "    \"dis_pretrain\": lambda: f\"{paths.root}/checkpoints/{config.discriminator.pretrained.name}\",\n",
    "    \"tensorboard\": lambda: f\"{paths.root}/tensorboards/{config.name}\",\n",
    "    \"visualization\": lambda: f\"{paths.root}/visualizations/{config.name}_{config.test.name}\",\n",
    "    \"log\": lambda: f\"{paths.root}/logs/{config.name}.log\",\n",
    "    \"metrics\": lambda suffix: f\"{paths.root}/metrics/{config.name}_{suffix}.pickle\",\n",
    "})"
   ]
  },
  {
   "cell_type": "code",
   "execution_count": 3,
   "metadata": {
    "id": "mdMEAbH10Qaq"
   },
   "outputs": [],
   "source": [
    "if \" \" in config.name:\n",
    "    raise Exception(\"Space is not allowed in model name.\")"
   ]
  },
  {
   "cell_type": "markdown",
   "metadata": {
    "id": "WynW4ZAdBhep"
   },
   "source": [
    "# Prepare"
   ]
  },
  {
   "cell_type": "markdown",
   "metadata": {
    "id": "DR6-vYtr_i_P"
   },
   "source": [
    "## Get log command"
   ]
  },
  {
   "cell_type": "code",
   "execution_count": 4,
   "metadata": {
    "colab": {
     "base_uri": "https://localhost:8080/"
    },
    "id": "9-QpinlslcTO",
    "outputId": "48ae3716-212c-4d46-9efb-b7b4070f73de"
   },
   "outputs": [
    {
     "name": "stdout",
     "output_type": "stream",
     "text": [
      "cd /users/PAS0027/osu10203/deepgd && tail -n1000 -f 'artifacts/logs/GAN(gan=rgan,data=best(xing,stress),dis=deep,share=0,embed=16,gp=0,lr=1e-2,decay=.98).log'\n"
     ]
    }
   ],
   "source": [
    "print(f\"cd {os.getcwd()} && tail -n1000 -f '{paths.log()}'\")"
   ]
  },
  {
   "cell_type": "code",
   "execution_count": 5,
   "metadata": {},
   "outputs": [
    {
     "name": "stdout",
     "output_type": "stream",
     "text": [
      "tensorboard dev upload --logdir 'artifacts/tensorboards/GAN(gan=rgan,data=best(xing,stress),dis=deep,share=0,embed=16,gp=0,lr=1e-2,decay=.98)'\n"
     ]
    }
   ],
   "source": [
    "print(f\"tensorboard dev upload --logdir '{paths.tensorboard()}'\")"
   ]
  },
  {
   "cell_type": "markdown",
   "metadata": {
    "id": "innqkwvH_ydD"
   },
   "source": [
    "## Set globals"
   ]
  },
  {
   "cell_type": "code",
   "execution_count": 6,
   "metadata": {
    "id": "Qjq7JlSZlkQR"
   },
   "outputs": [],
   "source": [
    "if cuda_idx is not None and torch.cuda.is_available():\n",
    "    device = f'cuda:{cuda_idx}'\n",
    "    pynvml.nvmlInit()\n",
    "    cuda = pynvml.nvmlDeviceGetHandleByIndex(cuda_idx)\n",
    "else:\n",
    "    device = 'cpu'\n",
    "    cuda =  None\n",
    "np.set_printoptions(precision=2)\n",
    "warnings.filterwarnings(\"ignore\", category=RuntimeWarning)"
   ]
  },
  {
   "cell_type": "markdown",
   "metadata": {
    "id": "0da286l_ApEL"
   },
   "source": [
    "## Load data"
   ]
  },
  {
   "cell_type": "code",
   "execution_count": 7,
   "metadata": {
    "colab": {
     "base_uri": "https://localhost:8080/"
    },
    "id": "RFuSHiZJMU4x",
    "outputId": "54065609-aaea-4536-d79c-73bc73b3f576"
   },
   "outputs": [
    {
     "name": "stdout",
     "output_type": "stream",
     "text": [
      "Load from 'cache/G_list.pickle'\n",
      "Load from 'cache/generate_data_list(list,sparse=False,pivot_mode=None,init_mode=pmds,edge_index=full_edge_index,edge_attr=full_edge_attr,pmds_list=ndarray,gviz_list=ndarray,noisy_layout=True,device=cpu).pickle'\n"
     ]
    },
    {
     "name": "stderr",
     "output_type": "stream",
     "text": [
      "/users/PAS0027/osu10203/.conda/envs/deepgd/lib/python3.9/site-packages/torch_geometric/deprecation.py:13: UserWarning: 'data.DataLoader' is deprecated, use 'loader.DataLoader' instead\n",
      "  warnings.warn(out)\n"
     ]
    }
   ],
   "source": [
    "G_list = load_G_list(data_path='data/rome', index_file='data_index.txt', cache='G_list', cache_prefix='cache/')\n",
    "data_list = generate_data_list(G_list, \n",
    "                               sparse=data_config.sparse, \n",
    "                               pivot_mode=data_config.pivot,\n",
    "                               init_mode=data_config.init,\n",
    "                               edge_index=data_config.edge.index,\n",
    "                               edge_attr=data_config.edge.attr,\n",
    "                               pmds_list=np.load('layouts/rome/pmds.npy', allow_pickle=True),\n",
    "                               gviz_list=np.load('layouts/rome/gviz.npy', allow_pickle=True),\n",
    "                               noisy_layout=True,\n",
    "                               device='cpu', \n",
    "                               cache=True,\n",
    "                               cache_prefix='cache/')\n",
    "train_loader = LazyDeviceMappingDataLoader(data_list[:10000], batch_size=config.batchsize, shuffle=True, device=device)\n",
    "val_loader = LazyDeviceMappingDataLoader(data_list[11000:], batch_size=config.batchsize, shuffle=False, device=device)"
   ]
  },
  {
   "cell_type": "code",
   "execution_count": 8,
   "metadata": {
    "id": "djd1pLt2OxZq"
   },
   "outputs": [],
   "source": [
    "def draw_layout(G, method, draw=True):\n",
    "    if method == 'fa2':\n",
    "        layout = get_fa2_layout(G)\n",
    "    else:\n",
    "        try:\n",
    "            fn = getattr(nx.drawing.layout, f'{method}_layout')\n",
    "            layout = fn(G)\n",
    "        except:\n",
    "            layout = nx.drawing.nx_agraph.graphviz_layout(G, prog=method)\n",
    "    if draw:\n",
    "        nx.draw(G, pos=layout)\n",
    "    return layout"
   ]
  },
  {
   "cell_type": "code",
   "execution_count": 9,
   "metadata": {
    "id": "2vBBw77lR7Em"
   },
   "outputs": [],
   "source": [
    "methods = ['neato', 'dot', 'fdp', 'sfdp', 'twopi', 'circo', 'shell', 'spring', 'circular', 'spectral', 'kamada_kawai', 'fa2', 'pmds']"
   ]
  },
  {
   "cell_type": "code",
   "execution_count": 10,
   "metadata": {
    "id": "dx6VVA9XIc2O"
   },
   "outputs": [],
   "source": [
    "from functools import lru_cache\n",
    "\n",
    "@lru_cache(maxsize=None)\n",
    "def load_pos(method):\n",
    "    return np.load(f'layouts/rome/{method}.npy', allow_pickle=True)"
   ]
  },
  {
   "cell_type": "code",
   "execution_count": 11,
   "metadata": {
    "colab": {
     "base_uri": "https://localhost:8080/",
     "height": 1000,
     "referenced_widgets": [
      "05a37aeeb20049dfa2f97287b3990556",
      "a75afae3adfd4810a0b0991a062535ee",
      "a24ae105ed124595992f7e2e5f909247",
      "01b4cabaf8004dd4b9269b4e6889c498",
      "f3c7c84f2b314bd8b97a7358deaf4fa1",
      "35e4a83e692b4a7bafb46fdf192b2586",
      "62847b5e2678459f845159eef6d4feab",
      "143e81f00313436dacfa246a57108944",
      "e05833f11803400b95ff22246cdc8f2b",
      "53aeede91e074378b5d7f626165655ee",
      "79a43768c1794a10a788a49e5883aa2c"
     ]
    },
    "id": "MSmP-jem9I0X",
    "outputId": "c698f0bf-e96e-4de9-aeda-0b046fc0a03f",
    "scrolled": true,
    "tags": []
   },
   "outputs": [],
   "source": [
    "# best_list = []\n",
    "# best_layout_list = []\n",
    "# for idx, (G, data) in enumerate(zip(tqdm(G_list), data_list)):\n",
    "#     xing, stress, layout = {}, {}, {}\n",
    "#     for m in methods:\n",
    "#         batch = Batch.from_data_list([data])\n",
    "#         pos = load_pos(m)\n",
    "#         p = CanonicalizationByStress()(torch.tensor(pos[idx]).float(), batch)\n",
    "#         x = Xing()(p, batch).item()\n",
    "#         s = Stress()(p, batch).item()\n",
    "#         xing[m] = x\n",
    "#         stress[m] = s\n",
    "#         layout[m] = p.numpy()\n",
    "#         # plt.figure()\n",
    "#         # graph_vis(G, pos[idx])\n",
    "#         # plt.title(f'{m} stress={s:.2f} xing={x}')\n",
    "#     best, *_ = sorted(methods, key=lambda m: (xing[m], stress[m]))\n",
    "#     best_list.append(best)\n",
    "#     best_layout_list.append(layout[best])\n",
    "#     print(f'{best}, xing={xing[best]}, stress={stress[best]:.2f}')"
   ]
  },
  {
   "cell_type": "code",
   "execution_count": 12,
   "metadata": {
    "colab": {
     "base_uri": "https://localhost:8080/"
    },
    "id": "Mx2bZNugdTqa",
    "outputId": "cec05a67-18e8-492f-aaa1-057274a8341a"
   },
   "outputs": [],
   "source": [
    "# pickle.dump(best_list, open('layouts/rome/best[xing,stress].pkl', 'wb'))\n",
    "# np.save('layouts/rome/best[xing,stress].npy', best_layout_list)"
   ]
  },
  {
   "cell_type": "code",
   "execution_count": 13,
   "metadata": {
    "colab": {
     "base_uri": "https://localhost:8080/",
     "height": 49,
     "referenced_widgets": [
      "7e0ae84dd0f3458d893c81b029fe1729",
      "18bdc3bf80fb434abde68de5b72a8870",
      "2e3552ded9594635a51832387ae754a0",
      "54f4aa5080c6498080a63be2cdeefee5",
      "3937586d0879451da5e2138ca3bfd0a0",
      "a9df6e84ce8c499eb2b2cf984995d791",
      "7af6b718dd3d4e01b264377a2fa938e2",
      "a774c86e64004bd6951645f1c24abad4",
      "c86575117cd041f2837762f37d1f387b",
      "6e9907cefb1241688fbd248b8281ed9f",
      "9b8e5405d8264944acab57e81f2f5ad6"
     ]
    },
    "id": "A1-w1fspC53p",
    "outputId": "09c2d5c3-1eef-41eb-dcee-581af1294804"
   },
   "outputs": [
    {
     "data": {
      "application/vnd.jupyter.widget-view+json": {
       "model_id": "adfa44f933f445a5b79945ea4d49785f",
       "version_major": 2,
       "version_minor": 0
      },
      "text/plain": [
       "  0%|          | 0/11531 [00:00<?, ?it/s]"
      ]
     },
     "metadata": {},
     "output_type": "display_data"
    }
   ],
   "source": [
    "best_layout_list = np.load('layouts/rome/best[xing,stress].npy', allow_pickle=True)\n",
    "for data, layout in zip(tqdm(data_list), best_layout_list):\n",
    "    data.gt_pos = torch.tensor(layout)"
   ]
  },
  {
   "cell_type": "code",
   "execution_count": 14,
   "metadata": {
    "id": "y6EGh4U7exL_"
   },
   "outputs": [],
   "source": [
    "train_loader = LazyDeviceMappingDataLoader(data_list[:10000], batch_size=config.batchsize, shuffle=True, device=device)\n",
    "val_loader = LazyDeviceMappingDataLoader(data_list[11000:], batch_size=config.batchsize, shuffle=False, device=device)"
   ]
  },
  {
   "cell_type": "code",
   "execution_count": 15,
   "metadata": {
    "colab": {
     "base_uri": "https://localhost:8080/",
     "height": 103,
     "referenced_widgets": [
      "38a33cf69aff48f4aabd4902a7ce48b1",
      "57e277bcb44c4e2fa2a12105d75153d1",
      "20ce017c46bd4a7c9b420270ac579405",
      "13f2df4fe0ce4af88b6e3bd1637065b0",
      "2867faa145ca4860a198d4d0bf830f89",
      "02838cf669174ed9afa41a1a8e680765",
      "7e9e3c031667455f8baca163d3a213e5",
      "4000135e7dfa46529fa6244fccc5cb57",
      "e523e9faac5b4ec38643c05ac5ba99f7",
      "e8e3ee9741e4480dae5003ccc19a7891",
      "9a569045221b43acb3ba2fbf116b2c74"
     ]
    },
    "id": "YEfRRUK0NiNm",
    "outputId": "93f53d05-7667-4cda-a38e-c3a953124f79"
   },
   "outputs": [],
   "source": [
    "# for m in methods:\n",
    "#     layouts = []\n",
    "#     for G in tqdm(G_list):\n",
    "#         layout = draw_layout(G, method=m, draw=False)\n",
    "#         layouts.append(np.array(list(layout.values())))\n",
    "#     np.save(f'layouts/rome/{m}.npy', layouts)"
   ]
  },
  {
   "cell_type": "code",
   "execution_count": 16,
   "metadata": {
    "colab": {
     "base_uri": "https://localhost:8080/",
     "height": 564
    },
    "id": "upK7AHYqPmC5",
    "outputId": "29a88e61-f55f-409c-9194-12c6d5762528"
   },
   "outputs": [],
   "source": [
    "# from collections import Counter\n",
    "\n",
    "# letter_counts = Counter(best_list)\n",
    "# df = pd.DataFrame.from_dict(letter_counts, orient='index')\n",
    "# df.plot(kind='bar', figsize=[12, 8])"
   ]
  },
  {
   "cell_type": "markdown",
   "metadata": {
    "id": "f-ODE2k8BFV6"
   },
   "source": [
    "## Create folders"
   ]
  },
  {
   "cell_type": "code",
   "execution_count": 17,
   "metadata": {
    "id": "3ykUMINYBRog"
   },
   "outputs": [],
   "source": [
    "mkdirs(paths.checkpoints(), paths.tensorboard(), paths.visualization(), f\"{paths.root}/logs\", f\"{paths.root}/metrics\")"
   ]
  },
  {
   "cell_type": "markdown",
   "metadata": {
    "id": "BFq9k5nzBIh5"
   },
   "source": [
    "## Load checkpoints"
   ]
  },
  {
   "cell_type": "code",
   "execution_count": 18,
   "metadata": {
    "id": "W5NbsKkobIfA"
   },
   "outputs": [],
   "source": [
    "class EdgeFeatureDiscriminator(nn.Module):\n",
    "    def __init__(self, \n",
    "                 conv, \n",
    "                 dense,\n",
    "                 shared_depth,\n",
    "                 enet_depth,\n",
    "                 enet_width,\n",
    "                 aggr='add', \n",
    "                 root_weight=True,\n",
    "                 normalize=None):\n",
    "        super().__init__()\n",
    "        self.enet = nn.Sequential(*[\n",
    "            DenseLayer(in_dim=in_d,\n",
    "                       out_dim=out_d,\n",
    "                       skip=nonlin,\n",
    "                       bn=nonlin,\n",
    "                       act=nonlin,\n",
    "                       dp=None)\n",
    "            for in_d, out_d, nonlin \n",
    "            in zip([self._get_feature_dim()] + [enet_width] * (shared_depth-1),\n",
    "                   [enet_width] * shared_depth,\n",
    "                   [True] * (shared_depth-1) + [False])     \n",
    "        ]) if shared_depth > 0 else nn.Linear(self._get_feature_dim(), enet_width)\n",
    "        self.blocks = nn.ModuleList([\n",
    "            GNNLayer(nfeat_dims=(in_d, out_d),\n",
    "                     efeat_dim=enet_width,\n",
    "                     edge_net=EdgeNet(nfeat_dims=(in_d, out_d), \n",
    "                                      efeat_dim=enet_width, \n",
    "                                      depth=enet_depth, \n",
    "                                      width=enet_width),\n",
    "                     aggr=aggr,\n",
    "                     dense=False,\n",
    "                     skip=nonlin,\n",
    "                     bn=nonlin,\n",
    "                     act=nonlin,\n",
    "                     root_weight=root_weight) \n",
    "            for in_d, out_d, nonlin \n",
    "            in zip(conv[:-1], conv[1:], [True] * (len(conv)-2) + [False])     \n",
    "        ])\n",
    "        self.pool = (gnn.global_mean_pool if aggr == 'mean' \n",
    "                     else gnn.global_add_pool if aggr == 'add' \n",
    "                     else None)\n",
    "        self.dense = nn.Identity() if not dense else nn.Sequential(*[\n",
    "            DenseLayer(in_dim=in_d,\n",
    "                       out_dim=out_d,\n",
    "                       skip=nonlin,\n",
    "                       bn=nonlin,\n",
    "                       act=nonlin,\n",
    "                       dp=None)\n",
    "            for in_d, out_d, nonlin \n",
    "            in zip(conv[-1:] + dense[:-1], dense, [True] * (len(dense)-1) + [False])     \n",
    "        ])\n",
    "        self.normalize = normalize or IdentityTransformation()\n",
    "    \n",
    "    def forward(self, batch):\n",
    "        x = torch.ones_like(batch.pos)\n",
    "        e = self.enet(self._get_features(self._get_edge_info(batch, layout='pos')))\n",
    "        for block in self.blocks:\n",
    "            x = block(x, e, batch)\n",
    "        x = self.pool(x, batch.batch)\n",
    "        x = self.dense(x)\n",
    "        return x\n",
    "    \n",
    "    def _get_edge_info(self, batch, layout='gt_pos'):\n",
    "        pos = self.normalize(batch[layout].float(), batch)\n",
    "        src, dst = get_edges(pos, batch)\n",
    "        v, u = l2_normalize(dst - src, return_norm=True)\n",
    "        d = batch.edge_attr[:, :1]\n",
    "        return {\n",
    "            \"src\": src,\n",
    "            \"dst\": dst,\n",
    "            \"v\": v,\n",
    "            \"u\": u,\n",
    "            \"d\": d,\n",
    "        }\n",
    "\n",
    "    def _get_features(self, edges):\n",
    "        return torch.cat([edges['src'], edges['dst'], edges['d']], dim=1)\n",
    "        \n",
    "    def _get_feature_dim(self):\n",
    "        return self._get_features({\n",
    "            \"src\": torch.zeros(1, 2),\n",
    "            \"dst\": torch.zeros(1, 2),\n",
    "            \"v\": torch.zeros(1, 2),\n",
    "            \"u\": torch.zeros(1, 1),\n",
    "            \"d\": torch.zeros(1, 1),\n",
    "        }).shape[-1]"
   ]
  },
  {
   "cell_type": "code",
   "execution_count": 19,
   "metadata": {
    "id": "96ZActxlL0fJ"
   },
   "outputs": [],
   "source": [
    "class StressDiscriminator(nn.Module):\n",
    "    def __init__(self, normalize=CanonicalizationByStress(), **kwargs):\n",
    "        super().__init__()\n",
    "        self.dummy = nn.Parameter(torch.zeros(1))\n",
    "        self.normalize = normalize\n",
    "        self.stress = Stress(reduce=None)\n",
    "\n",
    "    def forward(self, batch):\n",
    "        return -self.stress(self.normalize(batch.pos, batch), batch)"
   ]
  },
  {
   "cell_type": "code",
   "execution_count": 20,
   "metadata": {
    "id": "IJ6xCYBUuhcw"
   },
   "outputs": [],
   "source": [
    "def get_ckpt_epoch(folder, epoch):\n",
    "    if not os.path.isdir(folder):\n",
    "        os.mkdir(folder)\n",
    "    if epoch >= 0:\n",
    "        return epoch\n",
    "    ckpt_files = os.listdir(folder)\n",
    "    last_epoch = 0\n",
    "    if ckpt_files:\n",
    "        last_epoch = sorted(list(map(lambda x: int(re.search('(?<=epoch_)(\\d+)(?=\\.)', x).group(1)), ckpt_files)))[-1]\n",
    "    return last_epoch + epoch + 1\n",
    "\n",
    "def start_epoch():\n",
    "    return get_ckpt_epoch(paths.checkpoints(), config.epoch.start)"
   ]
  },
  {
   "cell_type": "code",
   "execution_count": 21,
   "metadata": {
    "colab": {
     "base_uri": "https://localhost:8080/"
    },
    "id": "JacDYXka9U01",
    "outputId": "ef4e31ab-2144-497c-8e4f-4d3740ce2d52"
   },
   "outputs": [
    {
     "name": "stdout",
     "output_type": "stream",
     "text": [
      "Loading from artifacts/checkpoints/GAN(gan=rgan,data=best(xing,stress),dis=deep,share=0,embed=16,gp=0,lr=1e-2,decay=.98)/gen_epoch_947.pt...\n",
      "Loading from artifacts/checkpoints/GAN(gan=rgan,data=best(xing,stress),dis=deep,share=0,embed=16,gp=0,lr=1e-2,decay=.98)/gen_optim_epoch_947.pt...\n"
     ]
    }
   ],
   "source": [
    "generator = Generator(**config.generator.params[...]).to(device)\n",
    "generator_optimizer = config.generator.optim(generator.parameters(), lr=config.generator.lr.initial * config.generator.lr.decay ** start_epoch())\n",
    "generator_scheduler = torch.optim.lr_scheduler.ExponentialLR(generator_optimizer, gamma=config.generator.lr.decay)\n",
    "if start_epoch() != 0:\n",
    "    gen_ckpt_epoch = start_epoch()\n",
    "elif config.generator.pretrained.name is not None and config.generator.pretrained.epoch != 0:\n",
    "    gen_pretrained_epoch = get_ckpt_epoch(paths.gen_pretrain(), config.generator.pretrained.epoch)\n",
    "    gen_ckpt_epoch = gen_pretrained_epoch \n",
    "else:\n",
    "    gen_ckpt_epoch = None\n",
    "if gen_ckpt_epoch is not None:\n",
    "    # Load generator\n",
    "    gen_ckpt_file = f\"{paths.checkpoints()}/gen_epoch_{gen_ckpt_epoch}.pt\"\n",
    "    print(f\"Loading from {gen_ckpt_file}...\")\n",
    "    generator.load_state_dict(torch.load(gen_ckpt_file, map_location=torch.device(device)))\n",
    "    # Load generator optimizer\n",
    "    gen_optim_ckpt_file = f\"{paths.checkpoints()}/gen_optim_epoch_{gen_ckpt_epoch}.pt\"\n",
    "    print(f\"Loading from {gen_optim_ckpt_file}...\")\n",
    "    generator_optimizer.load_state_dict(torch.load(gen_optim_ckpt_file, map_location=torch.device(device)))"
   ]
  },
  {
   "cell_type": "code",
   "execution_count": 22,
   "metadata": {
    "colab": {
     "base_uri": "https://localhost:8080/"
    },
    "id": "oWQhD7-88VXe",
    "outputId": "3ba01600-b546-4e45-a6bd-c7a65af1ae9e"
   },
   "outputs": [
    {
     "name": "stdout",
     "output_type": "stream",
     "text": [
      "Loading from artifacts/checkpoints/GAN(gan=rgan,data=best(xing,stress),dis=deep,share=0,embed=16,gp=0,lr=1e-2,decay=.98)/dis_epoch_947.pt...\n",
      "Loading from artifacts/checkpoints/GAN(gan=rgan,data=best(xing,stress),dis=deep,share=0,embed=16,gp=0,lr=1e-2,decay=.98)/dis_optim_epoch_947.pt...\n"
     ]
    }
   ],
   "source": [
    "discriminator = EdgeFeatureDiscriminator(**config.discriminator.params[...]).to(device)\n",
    "discriminator_optimizer = config.discriminator.optim(discriminator.parameters(), lr=config.discriminator.lr.initial * config.discriminator.lr.decay ** start_epoch())\n",
    "discriminator_scheduler = torch.optim.lr_scheduler.ExponentialLR(discriminator_optimizer, gamma=config.discriminator.lr.decay)\n",
    "if start_epoch() != 0:\n",
    "    dis_ckpt_epoch = start_epoch()\n",
    "elif config.discriminator.pretrained.name is not None and config.discriminator.pretrained.epoch != 0:\n",
    "    dis_pretrained_epoch = get_ckpt_epoch(paths.dis_pretrain(), config.discriminator.pretrained.epoch)\n",
    "    dis_ckpt_epoch = dis_pretrained_epoch # f\"{paths.dis_pretrain()}/dis_epoch_{dis_pretrained_epoch}.pt\"\n",
    "else:\n",
    "    dis_ckpt_epoch = None\n",
    "if dis_ckpt_epoch is not None:\n",
    "    # Load discriminator\n",
    "    dis_ckpt_file = f\"{paths.checkpoints()}/dis_epoch_{dis_ckpt_epoch}.pt\"\n",
    "    print(f\"Loading from {dis_ckpt_file}...\")\n",
    "    discriminator.load_state_dict(torch.load(dis_ckpt_file, map_location=torch.device(device)))\n",
    "    # Load discriminator optimizer\n",
    "    dis_optim_ckpt_file = f\"{paths.checkpoints()}/dis_optim_epoch_{dis_ckpt_epoch}.pt\"\n",
    "    print(f\"Loading from {dis_optim_ckpt_file}...\")\n",
    "    discriminator_optimizer.load_state_dict(torch.load(dis_optim_ckpt_file, map_location=torch.device(device)))"
   ]
  },
  {
   "cell_type": "markdown",
   "metadata": {
    "id": "N39dDHraedM6"
   },
   "source": [
    "# Train"
   ]
  },
  {
   "cell_type": "code",
   "execution_count": 23,
   "metadata": {
    "id": "BdIJSDSJedM-"
   },
   "outputs": [],
   "source": [
    "stress_criterion = StressDiscriminator().to(device)\n",
    "val_criterion = Stress(reduce=None)\n",
    "xing_criterion = Xing(reduce=None)\n",
    "dis_convert = DiscriminatorDataConverter(complete_graph=config.discriminator.complete, normalize=config.discriminator.params.normalize)\n",
    "tensorboard = SummaryWriter(log_dir=paths.tensorboard())\n",
    "epoch = start_epoch() + 1"
   ]
  },
  {
   "cell_type": "code",
   "execution_count": 24,
   "metadata": {
    "id": "OHRWj1h0edM-"
   },
   "outputs": [],
   "source": [
    "def gradient_penalty(interpolated, discriminator, weight=10):\n",
    "    interpolated.pos.requires_grad_()\n",
    "    prob_interpolated = discriminator(interpolated)\n",
    "    gradients = autograd.grad(outputs=prob_interpolated, \n",
    "                              inputs=interpolated.pos,\n",
    "                              grad_outputs=torch.ones_like(prob_interpolated),\n",
    "                              create_graph=True, \n",
    "                              retain_graph=True, \n",
    "                              allow_unused=True)[0]\n",
    "    gradients_norm = torch.sqrt(gnn.global_add_pool(gradients.square().sum(dim=1), batch.batch) + 1e-8)\n",
    "    return weight * ((gradients_norm - 1) ** 2).mean()"
   ]
  },
  {
   "cell_type": "code",
   "execution_count": 25,
   "metadata": {
    "id": "o5wJJN9AedM_"
   },
   "outputs": [],
   "source": [
    "def get_gp_loss(batch, fake_pos, weight):\n",
    "    if weight > 0:\n",
    "        interp = dis_convert(batch, fake_pos, random.random())\n",
    "        return gradient_penalty(interp, discriminator, weight).mean()\n",
    "    return 0"
   ]
  },
  {
   "cell_type": "code",
   "execution_count": 26,
   "metadata": {
    "id": "QwuA6sRoedM_"
   },
   "outputs": [],
   "source": [
    "def get_sgan_loss(batch, fake_pos, mode='discriminator'):\n",
    "    real = dis_convert(batch)\n",
    "    fake = dis_convert(batch, fake_pos)\n",
    "    pred = discriminator(merge_batch(real, fake)).view(2, -1).T\n",
    "    if mode == 'discriminator':\n",
    "        label = torch.zeros(pred.shape[0]).long()\n",
    "    elif mode == 'generator':\n",
    "        label = torch.ones(pred.shape[0]).long()\n",
    "    else:\n",
    "        raise Exception\n",
    "    return nn.CrossEntropyLoss()(pred, label)"
   ]
  },
  {
   "cell_type": "code",
   "execution_count": 27,
   "metadata": {
    "id": "GuAP1YchedNA"
   },
   "outputs": [],
   "source": [
    "def get_rgan_loss(batch, fake_pos, mode='discriminator'):\n",
    "    real = dis_convert(batch)\n",
    "    fake = dis_convert(batch, fake_pos)\n",
    "    pred = discriminator(merge_batch(real, fake)).view(2, -1).T\n",
    "    real_pred, fake_pred = pred[:,0], pred[:,1]\n",
    "    if mode == 'discriminator':\n",
    "        losses = - F.logsigmoid(real_pred - fake_pred)\n",
    "    elif mode == 'generator':\n",
    "        losses = - F.logsigmoid(fake_pred - real_pred)\n",
    "    else:\n",
    "        raise Exception\n",
    "    return losses.mean()"
   ]
  },
  {
   "cell_type": "code",
   "execution_count": 28,
   "metadata": {
    "id": "KFllQ7BredNA"
   },
   "outputs": [],
   "source": [
    "def get_wgan_loss(batch, fake_pos, mode='discriminator'):\n",
    "    real = dis_convert(batch)\n",
    "    fake = dis_convert(batch, fake_pos)\n",
    "    pred = discriminator(merge_batch(real, fake)).view(2, -1).T\n",
    "    real_pred, fake_pred = pred[:,0], pred[:,1]\n",
    "    if mode == 'discriminator':\n",
    "        losses = fake_pred - real_pred \n",
    "    elif mode == 'generator':\n",
    "        losses = real_pred - fake_pred\n",
    "    else:\n",
    "        raise Exception\n",
    "    return losses.mean()"
   ]
  },
  {
   "cell_type": "code",
   "execution_count": 29,
   "metadata": {
    "id": "r5Kg_tYEedNA"
   },
   "outputs": [],
   "source": [
    "def get_ragan_loss(batch, fake_pos, mode='discriminator'):\n",
    "    real = dis_convert(batch)\n",
    "    fake = dis_convert(batch, fake_pos)\n",
    "    pred = discriminator(merge_batch(real, fake)).view(2, -1).T\n",
    "    real_pred, fake_pred = pred[:,0], pred[:,1]\n",
    "    if mode == 'discriminator':\n",
    "        losses = - F.logsigmoid(real_pred - fake_pred.mean()) - F.logsigmoid(real_pred.mean() - fake_pred)\n",
    "    elif mode == 'generator':\n",
    "        losses = - F.logsigmoid(fake_pred - real_pred.mean()) - F.logsigmoid(fake_pred.mean() - real_pred)\n",
    "    else:\n",
    "        raise Exception\n",
    "    return losses.mean()"
   ]
  },
  {
   "cell_type": "code",
   "execution_count": 30,
   "metadata": {},
   "outputs": [],
   "source": [
    "def get_dgdv2_loss(batch, fake_pos, mode='discriminator'):\n",
    "    fake = dis_convert(batch, fake_pos)\n",
    "    pred = discriminator(fake)\n",
    "    if mode == 'discriminator':\n",
    "        gt = get_gt(batch, fake_pos)\n",
    "        loss = criterion(pred, gt)\n",
    "    elif mode == 'generator':\n",
    "        losses = pred.sum(dim=0)\n",
    "#         losses = torch.tensor(config.importance).to(device) * losses #/ losses.detach()\n",
    "        loss = losses.sum()\n",
    "    else:\n",
    "        raise Exception\n",
    "    return -loss"
   ]
  },
  {
   "cell_type": "code",
   "execution_count": 31,
   "metadata": {
    "id": "3IE_84f-edNB"
   },
   "outputs": [],
   "source": [
    "def get_gan_loss(batch, fake_pos, mode='discriminator'):\n",
    "    return {\"sgan\": get_sgan_loss,\n",
    "            \"wgan\": get_wgan_loss,\n",
    "            \"rgan\": get_rgan_loss,\n",
    "            \"ragan\": get_ragan_loss,\n",
    "            \"dgdv2\": get_dgdv2_loss}[config.gan_flavor](batch, fake_pos, mode)"
   ]
  },
  {
   "cell_type": "code",
   "execution_count": 32,
   "metadata": {
    "colab": {
     "background_save": true,
     "base_uri": "https://localhost:8080/",
     "height": 80
    },
    "id": "2NjekXgkedNB",
    "outputId": "da85b2ec-c0de-459c-c0dd-7ba3519419fa",
    "tags": []
   },
   "outputs": [
    {
     "data": {
      "application/vnd.jupyter.widget-view+json": {
       "model_id": "a894b2595ae24a4c95e44a6a643acfc2",
       "version_major": 2,
       "version_minor": 0
      },
      "text/plain": [
       "Tab(children=(VBox(children=(Wrapper(), Hud())), HBox(children=(Output(),), layout=Layout(height='500px', over…"
      ]
     },
     "metadata": {},
     "output_type": "display_data"
    },
    {
     "ename": "KeyboardInterrupt",
     "evalue": "",
     "output_type": "error",
     "traceback": [
      "\u001b[0;31m---------------------------------------------------------------------------\u001b[0m",
      "\u001b[0;31mKeyboardInterrupt\u001b[0m                         Traceback (most recent call last)",
      "\u001b[0;32m/tmp/slurmtmp.5715224/ipykernel_43282/801679965.py\u001b[0m in \u001b[0;36m<module>\u001b[0;34m\u001b[0m\n\u001b[1;32m    133\u001b[0m     \u001b[0;32mif\u001b[0m \u001b[0mconfig\u001b[0m\u001b[0;34m.\u001b[0m\u001b[0malternate\u001b[0m \u001b[0;34m==\u001b[0m \u001b[0;34m'epoch'\u001b[0m\u001b[0;34m:\u001b[0m\u001b[0;34m\u001b[0m\u001b[0;34m\u001b[0m\u001b[0m\n\u001b[1;32m    134\u001b[0m         \u001b[0;32mfor\u001b[0m \u001b[0mbatch\u001b[0m \u001b[0;32min\u001b[0m \u001b[0mtrain_loader\u001b[0m\u001b[0;34m:\u001b[0m\u001b[0;34m\u001b[0m\u001b[0;34m\u001b[0m\u001b[0m\n\u001b[0;32m--> 135\u001b[0;31m             \u001b[0mtrain_gen\u001b[0m\u001b[0;34m(\u001b[0m\u001b[0mbatch\u001b[0m\u001b[0;34m,\u001b[0m \u001b[0mepoch\u001b[0m\u001b[0;34m)\u001b[0m\u001b[0;34m\u001b[0m\u001b[0;34m\u001b[0m\u001b[0m\n\u001b[0m\u001b[1;32m    136\u001b[0m \u001b[0;34m\u001b[0m\u001b[0m\n\u001b[1;32m    137\u001b[0m     \u001b[0mdiscriminator_scheduler\u001b[0m\u001b[0;34m.\u001b[0m\u001b[0mstep\u001b[0m\u001b[0;34m(\u001b[0m\u001b[0;34m)\u001b[0m\u001b[0;34m\u001b[0m\u001b[0;34m\u001b[0m\u001b[0m\n",
      "\u001b[0;32m/tmp/slurmtmp.5715224/ipykernel_43282/801679965.py\u001b[0m in \u001b[0;36mtrain_gen\u001b[0;34m(batch, epoch)\u001b[0m\n\u001b[1;32m     31\u001b[0m \u001b[0;34m\u001b[0m\u001b[0m\n\u001b[1;32m     32\u001b[0m     \u001b[0;31m#train generator\u001b[0m\u001b[0;34m\u001b[0m\u001b[0;34m\u001b[0m\u001b[0m\n\u001b[0;32m---> 33\u001b[0;31m     \u001b[0mgenerator_loss\u001b[0m\u001b[0;34m.\u001b[0m\u001b[0mbackward\u001b[0m\u001b[0;34m(\u001b[0m\u001b[0;34m)\u001b[0m\u001b[0;34m\u001b[0m\u001b[0;34m\u001b[0m\u001b[0m\n\u001b[0m\u001b[1;32m     34\u001b[0m     \u001b[0mgenerator_optimizer\u001b[0m\u001b[0;34m.\u001b[0m\u001b[0mstep\u001b[0m\u001b[0;34m(\u001b[0m\u001b[0;34m)\u001b[0m\u001b[0;34m\u001b[0m\u001b[0;34m\u001b[0m\u001b[0m\n\u001b[1;32m     35\u001b[0m \u001b[0;34m\u001b[0m\u001b[0m\n",
      "\u001b[0;32m~/.conda/envs/deepgd/lib/python3.9/site-packages/torch/_tensor.py\u001b[0m in \u001b[0;36mbackward\u001b[0;34m(self, gradient, retain_graph, create_graph, inputs)\u001b[0m\n\u001b[1;32m    253\u001b[0m                 \u001b[0mcreate_graph\u001b[0m\u001b[0;34m=\u001b[0m\u001b[0mcreate_graph\u001b[0m\u001b[0;34m,\u001b[0m\u001b[0;34m\u001b[0m\u001b[0;34m\u001b[0m\u001b[0m\n\u001b[1;32m    254\u001b[0m                 inputs=inputs)\n\u001b[0;32m--> 255\u001b[0;31m         \u001b[0mtorch\u001b[0m\u001b[0;34m.\u001b[0m\u001b[0mautograd\u001b[0m\u001b[0;34m.\u001b[0m\u001b[0mbackward\u001b[0m\u001b[0;34m(\u001b[0m\u001b[0mself\u001b[0m\u001b[0;34m,\u001b[0m \u001b[0mgradient\u001b[0m\u001b[0;34m,\u001b[0m \u001b[0mretain_graph\u001b[0m\u001b[0;34m,\u001b[0m \u001b[0mcreate_graph\u001b[0m\u001b[0;34m,\u001b[0m \u001b[0minputs\u001b[0m\u001b[0;34m=\u001b[0m\u001b[0minputs\u001b[0m\u001b[0;34m)\u001b[0m\u001b[0;34m\u001b[0m\u001b[0;34m\u001b[0m\u001b[0m\n\u001b[0m\u001b[1;32m    256\u001b[0m \u001b[0;34m\u001b[0m\u001b[0m\n\u001b[1;32m    257\u001b[0m     \u001b[0;32mdef\u001b[0m \u001b[0mregister_hook\u001b[0m\u001b[0;34m(\u001b[0m\u001b[0mself\u001b[0m\u001b[0;34m,\u001b[0m \u001b[0mhook\u001b[0m\u001b[0;34m)\u001b[0m\u001b[0;34m:\u001b[0m\u001b[0;34m\u001b[0m\u001b[0;34m\u001b[0m\u001b[0m\n",
      "\u001b[0;32m~/.conda/envs/deepgd/lib/python3.9/site-packages/torch/autograd/__init__.py\u001b[0m in \u001b[0;36mbackward\u001b[0;34m(tensors, grad_tensors, retain_graph, create_graph, grad_variables, inputs)\u001b[0m\n\u001b[1;32m    145\u001b[0m         \u001b[0mretain_graph\u001b[0m \u001b[0;34m=\u001b[0m \u001b[0mcreate_graph\u001b[0m\u001b[0;34m\u001b[0m\u001b[0;34m\u001b[0m\u001b[0m\n\u001b[1;32m    146\u001b[0m \u001b[0;34m\u001b[0m\u001b[0m\n\u001b[0;32m--> 147\u001b[0;31m     Variable._execution_engine.run_backward(\n\u001b[0m\u001b[1;32m    148\u001b[0m         \u001b[0mtensors\u001b[0m\u001b[0;34m,\u001b[0m \u001b[0mgrad_tensors_\u001b[0m\u001b[0;34m,\u001b[0m \u001b[0mretain_graph\u001b[0m\u001b[0;34m,\u001b[0m \u001b[0mcreate_graph\u001b[0m\u001b[0;34m,\u001b[0m \u001b[0minputs\u001b[0m\u001b[0;34m,\u001b[0m\u001b[0;34m\u001b[0m\u001b[0;34m\u001b[0m\u001b[0m\n\u001b[1;32m    149\u001b[0m         allow_unreachable=True, accumulate_grad=True)  # allow_unreachable flag\n",
      "\u001b[0;31mKeyboardInterrupt\u001b[0m: "
     ]
    }
   ],
   "source": [
    "def train_dis(batch, epoch):\n",
    "    generator.requires_grad_(False)\n",
    "    discriminator.zero_grad()\n",
    "    generator_output = generator(batch)\n",
    "    if config.discriminator.noise.std > 0:\n",
    "        generator_output = generator_output + torch.randn_like(generator_output) * config.discriminator.noise.std * config.discriminator.noise.decay ** epoch\n",
    "    discriminator_loss = get_gan_loss(batch, generator_output, mode='discriminator')\n",
    "    \n",
    "    # train discriminator\n",
    "    discriminator_loss.backward()\n",
    "    discriminator_optimizer.step()\n",
    "\n",
    "    # gradient penalty\n",
    "    if config.gp_weight > 0:\n",
    "        discriminator.zero_grad()\n",
    "        gp_loss = get_gp_loss(batch, generator_output, config.gp_weight)\n",
    "        gp_loss.backward()\n",
    "        discriminator_optimizer.step()\n",
    "\n",
    "    hud['dis_loss'] = format(discriminator_loss.item(), '.2e')\n",
    "    pbar().update()\n",
    "\n",
    "def train_gen(batch, epoch):\n",
    "    generator.requires_grad_(True)\n",
    "    generator.zero_grad()\n",
    "    discriminator.zero_grad()\n",
    "    generator_output = generator(batch)\n",
    "    if config.discriminator.noise.std > 0:\n",
    "        generator_output = generator_output + torch.randn_like(generator_output) * config.discriminator.noise.std * config.discriminator.noise.decay ** epoch\n",
    "    generator_loss = get_gan_loss(batch, generator_output, mode='generator') \n",
    "    \n",
    "    #train generator\n",
    "    generator_loss.backward()\n",
    "    generator_optimizer.step()\n",
    "\n",
    "    with torch.no_grad():\n",
    "        dis_batch = dis_convert(batch, generator_output)\n",
    "        stress = stress_criterion(dis_batch).mean()\n",
    "        critic = discriminator(dis_batch).mean()\n",
    "    hud.append({'gen_loss': format(generator_loss.item(), '.2e'),\n",
    "                'stress': format(stress.item(), '.2e'),\n",
    "                'critic': format(critic.item(), '.2e')})\n",
    "    pbar().update()\n",
    "\n",
    "def cuda_memsafe_map(fn, *iterables, summary=False):\n",
    "    total, failed = 0, 0\n",
    "    iterator = zip(*iterables)\n",
    "    items = None\n",
    "    while True:\n",
    "        try:\n",
    "            items = next(iterator)\n",
    "            yield fn(*items)\n",
    "        except StopIteration:\n",
    "            if summary:\n",
    "                print(f'Iteration finished. {failed} out of {total} failed!')\n",
    "            break\n",
    "        except RuntimeError:\n",
    "            print('CUDA memory overflow! Skip batch...')\n",
    "            del items\n",
    "            failed += 1\n",
    "        torch.cuda.empty_cache()\n",
    "        total += 1\n",
    "    \n",
    "def validate(model, data_loader, criterion=val_criterion):\n",
    "    def val_one_batch(batch):\n",
    "        batch = preprocess_batch(model, batch)\n",
    "        pred = CanonicalizationByStress()(model(batch), batch)\n",
    "        gt = CanonicalizationByStress()(batch.gt_pos, batch)\n",
    "        loss = criterion(pred, batch)\n",
    "        gt_loss = criterion(gt, batch)\n",
    "        spc = (loss - gt_loss) / torch.maximum(torch.maximum(loss, gt_loss), torch.ones_like(loss)*1e-5)\n",
    "        return loss.mean().item(), spc.mean().item()\n",
    "    loss_all, spc_all = zip(*cuda_memsafe_map(val_one_batch, data_loader))\n",
    "    return np.mean(loss_all), np.mean(spc_all)\n",
    "\n",
    "def log(msg):\n",
    "    msg = f\"[{epoch:03}] {msg}\"\n",
    "    print(msg, file=open(paths.log(), \"a\"))\n",
    "    with log_out: \n",
    "        print(msg)\n",
    "\n",
    "print(f\"{'='*10} {config.link} {'='*10}\", file=open(paths.log(), \"a\"))\n",
    "hud = Hud()\n",
    "pbar = Wrapper(tqdm, total=len(train_loader)*2, smoothing=0)\n",
    "plot_out = Output()\n",
    "log_out = Output()\n",
    "tabs = {\"status\": VBox([pbar, hud]), \n",
    "        \"plot\": HBox([plot_out], layout=Layout(height='500px', overflow_y='auto')),\n",
    "        \"log\": HBox([log_out], layout=Layout(height='500px', overflow_y='auto'))}\n",
    "tab_bar = Tab(children=list(tabs.values()))\n",
    "[tab_bar.set_title(i, name) for i, name in enumerate(tabs)]\n",
    "display(tab_bar)\n",
    "while True:\n",
    "    if epoch % config.log_interval == 0:\n",
    "        torch.save(generator.state_dict(), f\"{paths.checkpoints()}/gen_epoch_{epoch}.pt\")\n",
    "        torch.save(generator_optimizer.state_dict(), f\"{paths.checkpoints()}/gen_optim_epoch_{epoch}.pt\")\n",
    "        torch.save(discriminator.state_dict(), f\"{paths.checkpoints()}/dis_epoch_{epoch}.pt\")\n",
    "        torch.save(discriminator_optimizer.state_dict(), f\"{paths.checkpoints()}/dis_optim_epoch_{epoch}.pt\")\n",
    "        generator.eval()\n",
    "        with torch.no_grad():\n",
    "            val_stress, val_stress_spc = validate(model=generator, data_loader=val_loader)\n",
    "            val_xing, val_xing_spc = validate(model=generator, data_loader=val_loader, criterion=xing_criterion)\n",
    "            with plot_out:\n",
    "                fig = plt.figure()\n",
    "                graph_vis(G_list[11100], generator(make_batch(data_list[11100]).to(device)).cpu())\n",
    "                plt.show()\n",
    "        # tensorboard.add_scalars('loss', {'train': train_loss, \n",
    "        #                                  'validation': val_loss}, epoch)\n",
    "        # for i, fn in enumerate(loss_fns):\n",
    "        #     tensorboard.add_scalars(type(fn).__name__, {'train': train_loss_comp[i].item(), \n",
    "        #                                           'validation': val_loss_comp[i].item()}, epoch)\n",
    "        hud.append({\n",
    "            'val_stress': format(val_stress, '.2f'),\n",
    "            'val_stress_spc': format(val_stress_spc, '.2%'),\n",
    "            'val_xing': format(val_xing, '.2f'),\n",
    "            'val_xing_spc': format(val_xing_spc, '.2%'),\n",
    "        })\n",
    "        log(f\"stress={hud.data['val_stress']}({hud.data['val_stress_spc']}) xing={hud.data['val_xing']}({hud.data['val_xing_spc']})\")\n",
    "        \n",
    "    # handle.update(tab_bar)\n",
    "    pbar().reset()\n",
    "    pbar().set_description(desc=f\"[epoch {epoch}/{config.epoch.end}]\")\n",
    "    hud(title=f\"epoch {epoch}\")\n",
    "    generator.train()\n",
    "    discriminator.train()\n",
    "    # proper: proper layout\n",
    "    for _ in range(config.discriminator.repeat):\n",
    "        for batch in train_loader:\n",
    "            train_dis(batch, epoch)\n",
    "            if config.alternate == 'iteration':\n",
    "                train_gen(batch, epoch)\n",
    "\n",
    "    if config.alternate == 'epoch':\n",
    "        for batch in train_loader:\n",
    "            train_gen(batch, epoch)\n",
    "\n",
    "    discriminator_scheduler.step()\n",
    "    generator_scheduler.step()\n",
    "\n",
    "    if epoch == config.epoch.end:\n",
    "        break\n",
    "    epoch += 1"
   ]
  },
  {
   "cell_type": "markdown",
   "metadata": {
    "id": "0qYK_X_hrq9o"
   },
   "source": [
    "# Test"
   ]
  },
  {
   "cell_type": "code",
   "execution_count": 33,
   "metadata": {
    "colab": {
     "base_uri": "https://localhost:8080/"
    },
    "id": "XEvmAtNjWhcY",
    "outputId": "9f4c86a4-a4b0-48f1-cb58-ab3679173184"
   },
   "outputs": [
    {
     "name": "stdout",
     "output_type": "stream",
     "text": [
      "Loading from artifacts/checkpoints/GAN(gan=rgan,data=best(xing,stress),dis=deep,share=0,embed=16,gp=0,lr=1e-2,decay=.98)/gen_epoch_949.pt...\n"
     ]
    },
    {
     "data": {
      "text/plain": [
       "<All keys matched successfully>"
      ]
     },
     "execution_count": 33,
     "metadata": {},
     "output_type": "execute_result"
    }
   ],
   "source": [
    "test_epoch = -1\n",
    "\n",
    "test_generator = Generator(**config.generator.params[...]).to(device)\n",
    "test_ckpt_epoch = get_ckpt_epoch(paths.checkpoints(), test_epoch)\n",
    "test_ckpt_file = f\"{paths.checkpoints()}/gen_epoch_{test_ckpt_epoch}.pt\"\n",
    "print(f\"Loading from {test_ckpt_file}...\")\n",
    "test_generator.load_state_dict(torch.load(test_ckpt_file, map_location=torch.device(device)))"
   ]
  },
  {
   "cell_type": "code",
   "execution_count": 34,
   "metadata": {
    "colab": {
     "background_save": true,
     "base_uri": "https://localhost:8080/",
     "height": 1000,
     "referenced_widgets": [
      "9b7d18992dbf4a84931f916fbaaa37d8",
      "2c664d7e1e6d474fb87094fc0da270d3",
      "d375f5f82a4645d7b29c541596dc1c7f",
      "ecfa311bb06b4f6fa504598263ff69d3",
      "d1859990877149eab2b414b4e2a0e0c7",
      "d2be6733734844bca3e1db9b49eb1c1e",
      "4d98072bdf674792a13d77e85dd285d1",
      "f7ed92c383d741a0a1cef2536ff2db13",
      "2ba110f835c64ec4b82974996aed10af",
      "09397ceac9014af0aebca848d4d96d48",
      "fd0709f48d6c4527bc00b5f407f3c1b9"
     ]
    },
    "id": "ZubmSTcYrq9o",
    "outputId": "fc2f65a2-2085-43ac-b110-cbfe742318a8",
    "scrolled": true,
    "tags": []
   },
   "outputs": [
    {
     "data": {
      "application/vnd.jupyter.widget-view+json": {
       "model_id": "c96852a6919949439b571bed095baf7b",
       "version_major": 2,
       "version_minor": 0
      },
      "text/plain": [
       "  0%|          | 0/1000 [00:00<?, ?it/s]"
      ]
     },
     "metadata": {},
     "output_type": "display_data"
    }
   ],
   "source": [
    "rotate = RotateByPrincipalComponents()\n",
    "def test_callback(*, idx, pred, metrics):\n",
    "    # graph_vis(G_list[idx], pred, file_name=f\"{paths.visualization()}/{idx}_{metrics['stress']:.2f}_{metrics['resolution_score']:.2f}.png\")\n",
    "    pred = rotate(torch.tensor(pred), data_list[idx])\n",
    "    graph_vis(G_list[idx], pred)\n",
    "    plt.title(f\"[pred] idx: {idx}, stress: {metrics['stress']:.2f}({metrics['stress_spc']:.2%}), xing: {metrics['xing']:.2f}({metrics['xing_spc']:.2%})\")\n",
    "    plt.show()\n",
    "    gt_pos = rotate(data_list[idx].gt_pos, data_list[idx])\n",
    "    graph_vis(G_list[idx], gt_pos, node_color='orange')\n",
    "    plt.title(f\"[gt] idx: {idx}, stress: {metrics['gt_stress']:.2f}, xing: {metrics['gt_xing']:.2f}\")\n",
    "    plt.show()\n",
    "    \n",
    "test_metrics = test(model=test_generator, \n",
    "                    criteria_list=[], \n",
    "                    dataset=data_list, \n",
    "                    idx_range=range(10000, 11000), \n",
    "#                     callback=test_callback,\n",
    "                    gt_pos=None)\n",
    "pickle.dump(test_metrics, open(paths.metrics(\"test\"), \"wb\"))"
   ]
  },
  {
   "cell_type": "code",
   "execution_count": 35,
   "metadata": {
    "colab": {
     "base_uri": "https://localhost:8080/",
     "height": 318
    },
    "id": "t2rFXIr_PsrJ",
    "outputId": "6a4205b1-4630-4de4-ec72-bdba3d3ea114"
   },
   "outputs": [
    {
     "name": "stdout",
     "output_type": "stream",
     "text": [
      "stress: tensor(422.4229)\n",
      "stress_spc: tensor(0.2133, dtype=torch.float64)\n",
      "xing: tensor(32.9230)\n",
      "xing_spc: tensor(0.2964, dtype=torch.float64)\n",
      "l1_angle: tensor(87.5913)\n",
      "l1_angle_spc: tensor(0.1196, dtype=torch.float64)\n",
      "edge: tensor(0.1923)\n",
      "edge_spc: tensor(0.2557, dtype=torch.float64)\n",
      "ring: tensor(303.9149)\n",
      "ring_spc: tensor(0.1115, dtype=torch.float64)\n",
      "tsne: tensor(0.2408)\n",
      "tsne_spc: tensor(0.2060, dtype=torch.float64)\n",
      "reso_score: tensor(0.5729)\n",
      "min_angle: tensor(3.6272)\n"
     ]
    },
    {
     "data": {
      "text/html": [
       "<style type=\"text/css\">\n",
       "</style>\n",
       "<table id=\"T_f5874_\">\n",
       "  <thead>\n",
       "    <tr>\n",
       "      <th class=\"blank level0\" >&nbsp;</th>\n",
       "      <th class=\"col_heading level0 col0\" >stress</th>\n",
       "      <th class=\"col_heading level0 col1\" >stress_spc</th>\n",
       "      <th class=\"col_heading level0 col2\" >xing</th>\n",
       "      <th class=\"col_heading level0 col3\" >xing_spc</th>\n",
       "      <th class=\"col_heading level0 col4\" >l1_angle</th>\n",
       "      <th class=\"col_heading level0 col5\" >l1_angle_spc</th>\n",
       "      <th class=\"col_heading level0 col6\" >edge</th>\n",
       "      <th class=\"col_heading level0 col7\" >edge_spc</th>\n",
       "      <th class=\"col_heading level0 col8\" >ring</th>\n",
       "      <th class=\"col_heading level0 col9\" >ring_spc</th>\n",
       "      <th class=\"col_heading level0 col10\" >tsne</th>\n",
       "      <th class=\"col_heading level0 col11\" >tsne_spc</th>\n",
       "      <th class=\"col_heading level0 col12\" >reso_score</th>\n",
       "      <th class=\"col_heading level0 col13\" >min_angle</th>\n",
       "    </tr>\n",
       "  </thead>\n",
       "  <tbody>\n",
       "    <tr>\n",
       "      <th id=\"T_f5874_level0_row0\" class=\"row_heading level0 row0\" >0</th>\n",
       "      <td id=\"T_f5874_row0_col0\" class=\"data row0 col0\" >422.42</td>\n",
       "      <td id=\"T_f5874_row0_col1\" class=\"data row0 col1\" >21.33%</td>\n",
       "      <td id=\"T_f5874_row0_col2\" class=\"data row0 col2\" >32.92</td>\n",
       "      <td id=\"T_f5874_row0_col3\" class=\"data row0 col3\" >29.64%</td>\n",
       "      <td id=\"T_f5874_row0_col4\" class=\"data row0 col4\" >87.59</td>\n",
       "      <td id=\"T_f5874_row0_col5\" class=\"data row0 col5\" >11.96%</td>\n",
       "      <td id=\"T_f5874_row0_col6\" class=\"data row0 col6\" >0.19</td>\n",
       "      <td id=\"T_f5874_row0_col7\" class=\"data row0 col7\" >25.57%</td>\n",
       "      <td id=\"T_f5874_row0_col8\" class=\"data row0 col8\" >303.91</td>\n",
       "      <td id=\"T_f5874_row0_col9\" class=\"data row0 col9\" >11.15%</td>\n",
       "      <td id=\"T_f5874_row0_col10\" class=\"data row0 col10\" >0.24</td>\n",
       "      <td id=\"T_f5874_row0_col11\" class=\"data row0 col11\" >20.60%</td>\n",
       "      <td id=\"T_f5874_row0_col12\" class=\"data row0 col12\" >0.57</td>\n",
       "      <td id=\"T_f5874_row0_col13\" class=\"data row0 col13\" >3.63</td>\n",
       "    </tr>\n",
       "  </tbody>\n",
       "</table>\n"
      ],
      "text/plain": [
       "<pandas.io.formats.style.Styler at 0x2ab2628ba760>"
      ]
     },
     "execution_count": 35,
     "metadata": {},
     "output_type": "execute_result"
    }
   ],
   "source": [
    "metrics = test_metrics\n",
    "print('stress:', metrics['stress'].mean())\n",
    "print('stress_spc:', metrics['stress_spc'].mean())\n",
    "print('xing:', metrics['xing'].mean())\n",
    "print('xing_spc:', metrics['xing_spc'].mean())\n",
    "print('l1_angle:', metrics['l1_angle'].mean())\n",
    "print('l1_angle_spc:', metrics['l1_angle_spc'].mean())\n",
    "print('edge:', metrics['edge'].mean())\n",
    "print('edge_spc:', metrics['edge_spc'].mean())\n",
    "print('ring:', metrics['ring'].mean())\n",
    "print('ring_spc:', metrics['ring_spc'].mean())\n",
    "print('tsne:', metrics['tsne'].mean())\n",
    "print('tsne_spc:', metrics['tsne_spc'].mean())\n",
    "print('reso_score:', metrics['resolution_score'].mean())\n",
    "print('min_angle:', metrics['min_angle'].mean())\n",
    "columns = [\n",
    "    'stress',\n",
    "    'stress_spc',\n",
    "    'xing',\n",
    "    'xing_spc',\n",
    "    'l1_angle',\n",
    "    'l1_angle_spc',\n",
    "    'edge',\n",
    "    'edge_spc',\n",
    "    'ring',\n",
    "    'ring_spc',\n",
    "    'tsne',\n",
    "    'tsne_spc',\n",
    "    'reso_score',\n",
    "    'min_angle'\n",
    "]\n",
    "df = pd.DataFrame(map(lambda m: metrics[m].mean().item(), list(metrics.keys())[:-1])).set_axis(columns).T\n",
    "df.style.format({c: \"{:.2f}\" for c in columns if 'spc' not in c} | {c: \"{:.2%}\" for c in columns if 'spc' in c})"
   ]
  },
  {
   "cell_type": "code",
   "execution_count": 36,
   "metadata": {
    "id": "5e7vPr0M3mmG"
   },
   "outputs": [],
   "source": [
    "metrics = {}"
   ]
  },
  {
   "cell_type": "code",
   "execution_count": 37,
   "metadata": {},
   "outputs": [],
   "source": [
    "methods = ['fa2']"
   ]
  },
  {
   "cell_type": "code",
   "execution_count": 38,
   "metadata": {
    "colab": {
     "base_uri": "https://localhost:8080/",
     "height": 433,
     "referenced_widgets": [
      "a0cf6e046add4e639e52db69656e0db9",
      "8e237731bb1241ac858581b25389c012",
      "0891547293ad4211a138a4d92e01bb0b",
      "34912c8e581e47a99a1c4829c38cb75c",
      "5aa034c99c94424e835a2ee954b829ed",
      "248f6393eff74c3eb8740ca6d698045b",
      "686687a29c7f4ec98c4d76ca2062b14b",
      "996a84d1c23b47e4a2af252c6b60f55d",
      "3507f883bb954412b21c1c5641763ed7",
      "9582a849d91e457cadd514c95d6e1b5b",
      "52bfe674c2c547e09b7400a32a96f703",
      "93d58b3a12394fe1aa6f0431fc7cb0db",
      "af1d7855c9d646b0bcc7d95c4cb147a6",
      "f820e2b898cd461da04a4f651d27273d",
      "c0a112cfaa3d4d0aa9530372de84d8fb",
      "fd03985495694fbf9feb3f31ef8d18ce",
      "e02a2b36aa4c4d6fb5d2ac6693c1a927",
      "06f388ff5e3a48828d465096fe69977b",
      "c0052778c9c940e88935593e9f94b83b",
      "99a5e77a192d4a989c4534237eb16730",
      "77c6da092a6647fc9e54f7e276d75616",
      "8c13c0e8b5934117a662a78296bcb1b6",
      "cdcc3bd4235247b48c468c0f6b7682cc",
      "a2c6fa6fef4549cc853fa93b4b18cf95",
      "15cc02a756314083801b5f6798a1948c",
      "24d1c67fe52f452ab0c767e3c1a818aa",
      "c117db25c6fd484a9d0c7f210ccb1ade",
      "b090b60b61084cf692b3066dfac7f0a8",
      "5eab9848059c491b9c6cbac88683f025",
      "e87ffbaa1f204b52b9226337a506b040",
      "cf52198a9e4b46c7b49537a79919c09e",
      "51501227bc064ccbab97c22a679a0750",
      "d1b794a997dc457888a90bf44faee9b4",
      "21a755b50e5047bea797eccf24b35a0c",
      "16e78c3823ec4faf9f9cd9095b218ff5",
      "4ccd332c6b734acd8eff236eaf568dfa",
      "bd60fd13748347e48629df78fa455765",
      "e9187e4ba80b4fafa0334dae2e39aded",
      "4c39ec7c92b4402e8eedcb27beabaab1",
      "59a8194269f943bba571f710ad856973",
      "8e41bc25b9f348b1b85b381547cd60d1",
      "34d0f1529e64437fb25e639b41096072",
      "7e832c7543df43668eb72c0aa6356349",
      "f94162c9c5fe4c2581e3b80beaeb820b",
      "0284946fccf34607b25e1d6d81d4f72a",
      "8e8d4243a3624ba58d760bdf601d5126",
      "b1f0932594fe44f4be4beb8880172871",
      "820bb554d139437b8f6a6997f9002261",
      "459e375d1fe4497cb4197ef88e303c6d",
      "5726814966da46bbba942a114de4b319",
      "448beea5445f4642809801da46aa7e7c",
      "3746c0f0daf04f51805b4c95db20063a",
      "2ff74d1c705348438a32da37910c3300",
      "52f03147b5ab4cb390f9802b7a17a508",
      "5428511d652a47348203e8f3cd2e076d",
      "7b58569bee2e44c5a61a81f9a32c4c01",
      "c5e05d74b9404333a8155304e3497ba2",
      "3ad4e058bde44d87abab780368d49118",
      "8e437049b5c74ff1beddad93e30b19aa",
      "0c61377f4cc34b27ae34bdd6d976d868",
      "9ce35f9a9a23436ea77604513b5c4659",
      "dafbc43ad79c4feda093aefe490fc4b3",
      "497160b6bf80469a89680a03a468c8bb",
      "3265725ecb914981b6f07f68b8a582df",
      "1f0ac20d99d04ffb9ee75613526d3de6",
      "dee0e5716560483b8e2b107566439d94",
      "ca99841a1abd4fbd94927c49aaa711cb",
      "163a44ff1be04583ae7bd62726c55204",
      "f3b727045a0b4b4fabd147ec9c843e14",
      "7c4b4fe859cf48ab99b7e2780a24a539",
      "d9700cffab66480cb81e3722faab4e8b",
      "2c49acc1e0a64aa4b8ec461b0596848e",
      "691817157f43412f9c36002167606b75",
      "d0ae688d71734b56bb348de54e841798",
      "07a364ebcdaa491dbcc2304e4a8dae96",
      "538b277307b1449eaa79a2a91b4741d3",
      "f7b7dd4cbaa5468687b988c5e416a154",
      "877be862a4f045ec8b221097626becb5",
      "1bf37012df0844338ac689d4f6cc8eab",
      "33fe06641be544d3aab2c25cb979416f",
      "68de0d9261fa4e6999967b6f196d149c",
      "7017c5ba1ffc467495aca2689e516f7d",
      "e0997460cc21428695a0c278c6691baf",
      "522443bef4904996b6361ea265c4c56f",
      "dfe044b67917466f971ba84a11956d5e",
      "70b2d0ba1c1d4102841fb963480de1c7",
      "7b158daacd754a40bc0a48fc9ea6fea2",
      "8904f61ff30741e488eacf0e49440f66",
      "685dee6f1e1f4c2983d2d0b8eb90ed00",
      "005155a4d62d48cbbaf3d69614b08d81",
      "d2779dfa620041e4b32a7731926a5982",
      "53048bf27cb24080b4cdf20379302223",
      "0b5bff7794a14a20964da70b87158c2c",
      "ec664e55ea16435590393ae1617cccea",
      "f10d62ef464a45a7935610d869c282e3",
      "5e7c09bc35db4a3a8b9847c6d8478883",
      "987ea331b617446facc81b08bab1f8c4",
      "446c5a687b0d43358ab036d43ce281c3",
      "d89e216f62ae4a9999da1a91dd5e48b9",
      "09d03e7e66f54cafacefbfeda5fd6e5c",
      "d58c680562a44bbd9252e7ec6eebc06c",
      "71ea2594fdd942acac1cc61055438544",
      "fecda4df301b437f9fbfb61a7b593dc0",
      "bcf6741d926248cb92acf627d6557d2b",
      "5bd9868b9bda4f68b500a43916e2d148",
      "4bc5e02035de44ad827c4f881fd75afc",
      "7d80033a955e4feb947ca9cea931d90b",
      "e975c796d80d498992a50f87a2b0105c",
      "028b2ff105904a19a9a3e8ebf66967bb",
      "10dbf2cbdb1943eda6a0acaf5da3fe85",
      "14d59c7acc5e4e07a289db44406a4851",
      "d9447df93d714907bc9c768eb4910352",
      "d4a9ace081bf488680a7e43e0eaed71d",
      "022a60cde19546bfa6ecfb4947615ad9",
      "10c01207d9ba4fe197dc80717fceecc0",
      "f4995936570d4ba1a65e9a66e410b505",
      "b4bf66303e61491385cd616076a11c04",
      "a24ab2bfe7a44263bf60936d6e53ec32",
      "59e2e8ecc9f84d57af7bf44f5bba5df7",
      "be2eb92aab8045a99fd19195c3546b60",
      "e6715db2b048434796e910952cb5eb62",
      "8de2335007ba4a6b9935fa0c514c9f6a",
      "493a4bbe8057437a8c8acf4d03f8dcb0",
      "20b03955acc74e238695717124705520",
      "a89f9507496b4cf8bdd63bdb9bff79c4",
      "9752a1f6c8b6488d9628b8e0c023f10f",
      "61a0bebc687341a7bb3352febc8d4986",
      "07e0ff9c82a444788c60edee70688ca7",
      "4427901f35e54cc48e08527bb402c22a",
      "bd9dafb825954091ba975d71ab8c89ea",
      "7ec0f07bfe51484da38c18dc66d77804",
      "03943afebc4d4b668b54c7a0fd014a37",
      "a7a6b38a76424d738146b6a5786cf2c8",
      "1d1aa4729784470584c0001c1a296008",
      "e0c68ac9b5b442eeb77e6d9ea3c1da42",
      "c858ef9fd9324ab0ab885d85e3c8582f",
      "627bc2899c994a0c96c5d43e89dc77ff",
      "0e2c2f21fa8041038151170992ecb848",
      "2d9bcbf7629a4671bf8755e790276eb7",
      "77a4edf6ab1848a6a6df20c1c07358c6",
      "acf2212d6bb44c729b63281a98377095",
      "0c7a72818da3454190bab7f30a29e249",
      "d865af915b8b4aaa8cec8d40f1f8351d"
     ]
    },
    "id": "s1UnzfID4Ai6",
    "outputId": "3e204e76-68fd-4111-f527-91f6e3b7a3ca"
   },
   "outputs": [
    {
     "data": {
      "application/vnd.jupyter.widget-view+json": {
       "model_id": "be1dbb9a70fa45969325928055221fb0",
       "version_major": 2,
       "version_minor": 0
      },
      "text/plain": [
       "  0%|          | 0/1000 [00:00<?, ?it/s]"
      ]
     },
     "metadata": {},
     "output_type": "display_data"
    }
   ],
   "source": [
    "for m in methods:\n",
    "    metrics[m] = test(model=test_generator, \n",
    "                      criteria_list=[], \n",
    "                      dataset=data_list, \n",
    "                      idx_range=range(10000, 11000), \n",
    "                      callback=None,\n",
    "                      gt_pos=load_pos(m))"
   ]
  },
  {
   "cell_type": "code",
   "execution_count": 39,
   "metadata": {
    "id": "dQ7hdCtk5u6K"
   },
   "outputs": [],
   "source": [
    "mean_metrics = {key : list(map(lambda m: metrics[key][m].mean().item(), list(metrics[key].keys())[:-1])) for key in metrics}"
   ]
  },
  {
   "cell_type": "code",
   "execution_count": 40,
   "metadata": {
    "colab": {
     "base_uri": "https://localhost:8080/",
     "height": 313
    },
    "id": "OGyaCmLXTuvA",
    "outputId": "6c42d9f3-9869-4504-bc9c-d0eedaecfd90"
   },
   "outputs": [
    {
     "data": {
      "text/html": [
       "<style type=\"text/css\">\n",
       "</style>\n",
       "<table id=\"T_a0429_\">\n",
       "  <thead>\n",
       "    <tr>\n",
       "      <th class=\"blank level0\" >&nbsp;</th>\n",
       "      <th class=\"col_heading level0 col0\" >stress</th>\n",
       "      <th class=\"col_heading level0 col1\" >stress_spc</th>\n",
       "      <th class=\"col_heading level0 col2\" >xing</th>\n",
       "      <th class=\"col_heading level0 col3\" >xing_spc</th>\n",
       "      <th class=\"col_heading level0 col4\" >l1_angle</th>\n",
       "      <th class=\"col_heading level0 col5\" >l1_angle_spc</th>\n",
       "      <th class=\"col_heading level0 col6\" >edge</th>\n",
       "      <th class=\"col_heading level0 col7\" >edge_spc</th>\n",
       "      <th class=\"col_heading level0 col8\" >ring</th>\n",
       "      <th class=\"col_heading level0 col9\" >ring_spc</th>\n",
       "      <th class=\"col_heading level0 col10\" >tsne</th>\n",
       "      <th class=\"col_heading level0 col11\" >tsne_spc</th>\n",
       "      <th class=\"col_heading level0 col12\" >reso_score</th>\n",
       "      <th class=\"col_heading level0 col13\" >min_angle</th>\n",
       "    </tr>\n",
       "  </thead>\n",
       "  <tbody>\n",
       "    <tr>\n",
       "      <th id=\"T_a0429_level0_row0\" class=\"row_heading level0 row0\" >fa2</th>\n",
       "      <td id=\"T_a0429_row0_col0\" class=\"data row0 col0\" >422.40</td>\n",
       "      <td id=\"T_a0429_row0_col1\" class=\"data row0 col1\" >9.11%</td>\n",
       "      <td id=\"T_a0429_row0_col2\" class=\"data row0 col2\" >32.92</td>\n",
       "      <td id=\"T_a0429_row0_col3\" class=\"data row0 col3\" >17.73%</td>\n",
       "      <td id=\"T_a0429_row0_col4\" class=\"data row0 col4\" >87.60</td>\n",
       "      <td id=\"T_a0429_row0_col5\" class=\"data row0 col5\" >15.19%</td>\n",
       "      <td id=\"T_a0429_row0_col6\" class=\"data row0 col6\" >0.19</td>\n",
       "      <td id=\"T_a0429_row0_col7\" class=\"data row0 col7\" >1.55%</td>\n",
       "      <td id=\"T_a0429_row0_col8\" class=\"data row0 col8\" >303.91</td>\n",
       "      <td id=\"T_a0429_row0_col9\" class=\"data row0 col9\" >10.22%</td>\n",
       "      <td id=\"T_a0429_row0_col10\" class=\"data row0 col10\" >0.24</td>\n",
       "      <td id=\"T_a0429_row0_col11\" class=\"data row0 col11\" >18.25%</td>\n",
       "      <td id=\"T_a0429_row0_col12\" class=\"data row0 col12\" >0.57</td>\n",
       "      <td id=\"T_a0429_row0_col13\" class=\"data row0 col13\" >3.64</td>\n",
       "    </tr>\n",
       "  </tbody>\n",
       "</table>\n"
      ],
      "text/plain": [
       "<pandas.io.formats.style.Styler at 0x2ab2627249d0>"
      ]
     },
     "execution_count": 40,
     "metadata": {},
     "output_type": "execute_result"
    }
   ],
   "source": [
    "columns = [\n",
    "    'stress',\n",
    "    'stress_spc',\n",
    "    'xing',\n",
    "    'xing_spc',\n",
    "    'l1_angle',\n",
    "    'l1_angle_spc',\n",
    "    'edge',\n",
    "    'edge_spc',\n",
    "    'ring',\n",
    "    'ring_spc',\n",
    "    'tsne',\n",
    "    'tsne_spc',\n",
    "    'reso_score',\n",
    "    'min_angle'\n",
    "]\n",
    "df = pd.DataFrame(mean_metrics).set_axis(columns).T\n",
    "df.style.format({c: \"{:.2f}\" for c in columns if 'spc' not in c} | {c: \"{:.2%}\" for c in columns if 'spc' in c})"
   ]
  },
  {
   "cell_type": "markdown",
   "metadata": {
    "id": "L5S1HWnHOWIl"
   },
   "source": [
    "# Large Graph"
   ]
  },
  {
   "cell_type": "code",
   "execution_count": null,
   "metadata": {
    "id": "_pefPcV1OZdD"
   },
   "outputs": [],
   "source": [
    "scalability = pd.read_csv(f\"/__artifacts__/data/scalability.csv\", index_col=\"index\")\n",
    "scalability"
   ]
  },
  {
   "cell_type": "code",
   "execution_count": null,
   "metadata": {
    "id": "oMhWAsdvPnTX"
   },
   "outputs": [],
   "source": [
    "rescale = CanonicalizationByStress()\n",
    "stressfn = Stress()\n",
    "rotate = RotateByPrincipalComponents()"
   ]
  },
  {
   "cell_type": "code",
   "execution_count": null,
   "metadata": {
    "id": "LR83OcAaPID5"
   },
   "outputs": [],
   "source": [
    "stress_list = []\n",
    "spc_list = []\n",
    "pmds_list = np.load(\"layouts/new_large_graph/pmds.npy\", allow_pickle=True)\n",
    "gviz_list = np.load(\"layouts/new_large_graph/gviz.npy\", allow_pickle=True)\n",
    "with torch.no_grad():\n",
    "    for idx, col in tqdm(scalability.iterrows(), total=len(scalability)):\n",
    "        # if idx not in [406, 516]: continue\n",
    "        torch.cuda.empty_cache()\n",
    "        G = load_mtx(col['file'])\n",
    "        G.remove_edges_from(nx.selfloop_edges(G))\n",
    "        data = generate_data_list(G, \n",
    "                                sparse=data_config.sparse, \n",
    "                                pivot_mode=data_config.pivot,\n",
    "                                init_mode=data_config.init,\n",
    "                                edge_index=data_config.edge.index,\n",
    "                                edge_attr=data_config.edge.attr,\n",
    "                                pmds_list=pmds_list[idx],\n",
    "                                gviz_list=gviz_list[idx],\n",
    "                                device=device)\n",
    "        batch = Batch.from_data_list([data]).to(device)\n",
    "        # generator.train()\n",
    "        # generator(batch)\n",
    "        generator.eval()\n",
    "        pred = generator(batch)\n",
    "        pos = rotate(rescale(pred, batch), batch)\n",
    "        gt = rotate(rescale(batch.gt_pos, batch), batch)\n",
    "        stress = stressfn(pos, batch).item()\n",
    "        gt_stress = stressfn(gt, batch).item()\n",
    "        spc = (stress - gt_stress) / np.maximum(stress, gt_stress)\n",
    "        stress_list.append(stress)\n",
    "        spc_list.append(spc)\n",
    "\n",
    "        np.save(f\"/__artifacts__/gan_result/data/scalability_{idx}.npy\", pos.cpu().numpy())\n",
    "        graph_attr = dict(node_size=1, \n",
    "                        with_labels=False, \n",
    "                        labels=dict(zip(list(G.nodes), map(lambda n: n if type(n) is int else n[1:], list(G.nodes)))),\n",
    "                        font_color=\"white\", \n",
    "                        font_weight=\"bold\",\n",
    "                        font_size=12,\n",
    "                        width=0.1)\n",
    "\n",
    "        # gt_pos = pickle.load(open(f\"/__artifacts__/data/scalability_{idx}_gt.pkl\", \"rb\"))\n",
    "\n",
    "        plt.figure(figsize=[12, 9])\n",
    "        nx.draw(G, pos=gt.cpu().numpy(), node_color='orange', **graph_attr)\n",
    "        plt.title(f\"neato: large_{idx}\")\n",
    "        plt.axis(\"equal\")\n",
    "        plt.savefig(f\"/__artifacts__/gan_result/output/{idx}_{col['name']}_{col['n']}_{spc}_nx.png\", dpi=300)\n",
    "        plt.show()\n",
    "\n",
    "        plt.figure(figsize=[12, 9])\n",
    "        graph_vis(G, pos.cpu().numpy(), **graph_attr)\n",
    "        plt.title(f\"dgd: large_{idx}, spc={spc:.2%}\")\n",
    "        plt.axis(\"equal\")\n",
    "        plt.savefig(f\"/__artifacts__/gan_result/output/{idx}_{col['name']}_{col['n']}_{spc}_dgd.png\", dpi=300)\n",
    "        plt.show()"
   ]
  },
  {
   "cell_type": "code",
   "execution_count": null,
   "metadata": {
    "id": "gRXTewkYeuq1"
   },
   "outputs": [],
   "source": []
  }
 ],
 "metadata": {
  "accelerator": "GPU",
  "colab": {
   "collapsed_sections": [
    "w_p3OD0woiSM",
    "DR6-vYtr_i_P",
    "innqkwvH_ydD",
    "f-ODE2k8BFV6",
    "N39dDHraedM6"
   ],
   "machine_shape": "hm",
   "name": "GAN(gan=rgan,data=best(xing,stress),dis=deep,share=16,embed=0,gp=0).ipynb",
   "provenance": []
  },
  "kernelspec": {
   "display_name": "DeepGD",
   "language": "python",
   "name": "deepgd"
  },
  "language_info": {
   "codemirror_mode": {
    "name": "ipython",
    "version": 3
   },
   "file_extension": ".py",
   "mimetype": "text/x-python",
   "name": "python",
   "nbconvert_exporter": "python",
   "pygments_lexer": "ipython3",
   "version": "3.9.7"
  },
  "widgets": {
   "application/vnd.jupyter.widget-state+json": {
    "state": {
     "014dc131c5114cc5b52ff4878dec80bc": {
      "model_module": "@jupyter-widgets/base",
      "model_module_version": "1.2.0",
      "model_name": "LayoutModel",
      "state": {}
     },
     "04869a7df0d5469587bf7b14a46503ee": {
      "model_module": "@jupyter-widgets/base",
      "model_module_version": "1.2.0",
      "model_name": "LayoutModel",
      "state": {}
     },
     "17390b0da09f42b9a91eb2891128b59a": {
      "model_module": "@jupyter-widgets/base",
      "model_module_version": "1.2.0",
      "model_name": "LayoutModel",
      "state": {}
     },
     "1e55ca9acaaf4c37b5efa207c5e24ff1": {
      "model_module": "@jupyter-widgets/output",
      "model_module_version": "1.0.0",
      "model_name": "OutputModel",
      "state": {
       "layout": "IPY_MODEL_5715a79b2f6247e2bf498f6f520b8bf9",
       "outputs": [
        {
         "data": {
          "image/png": "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\n",
          "text/plain": "<Figure size 432x288 with 1 Axes>"
         },
         "metadata": {},
         "output_type": "display_data"
        },
        {
         "data": {
          "image/png": "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\n",
          "text/plain": "<Figure size 432x288 with 1 Axes>"
         },
         "metadata": {},
         "output_type": "display_data"
        }
       ]
      }
     },
     "23abb53b606c4680b267807e8d0c2a7a": {
      "model_module": "@jupyter-widgets/base",
      "model_module_version": "1.2.0",
      "model_name": "LayoutModel",
      "state": {}
     },
     "2965fff95659483299d99cea9081c47f": {
      "model_module": "@jupyter-widgets/base",
      "model_module_version": "1.2.0",
      "model_name": "LayoutModel",
      "state": {}
     },
     "2a24fe3d3a82448b842400e101042ba5": {
      "model_module": "@jupyter-widgets/controls",
      "model_module_version": "1.5.0",
      "model_name": "DescriptionStyleModel",
      "state": {
       "description_width": ""
      }
     },
     "2f853c84103a4bdb918168a18332e9df": {
      "model_module": "@jupyter-widgets/output",
      "model_module_version": "1.0.0",
      "model_name": "OutputModel",
      "state": {
       "layout": "IPY_MODEL_3c98cb1e15794d1b873f046765d5f46e",
       "outputs": [
        {
         "data": {
          "text/html": "<div>\n<style scoped>\n    .dataframe tbody tr th:only-of-type {\n        vertical-align: middle;\n    }\n\n    .dataframe tbody tr th {\n        vertical-align: top;\n    }\n\n    .dataframe thead th {\n        text-align: right;\n    }\n</style>\n<table border=\"1\" class=\"dataframe\">\n  <thead>\n    <tr style=\"text-align: right;\">\n      <th></th>\n      <th>val_stress</th>\n      <th>val_stress_spc</th>\n      <th>val_xing</th>\n      <th>val_xing_spc</th>\n      <th>dis_loss</th>\n      <th>gen_loss</th>\n      <th>stress</th>\n      <th>critic</th>\n    </tr>\n  </thead>\n  <tbody>\n    <tr>\n      <th>epoch 949</th>\n      <td>481.60</td>\n      <td>22.44%</td>\n      <td>37.84</td>\n      <td>29.74%</td>\n      <td>2.90e-01</td>\n      <td>4.17e+00</td>\n      <td>-4.67e+02</td>\n      <td>7.16e+03</td>\n    </tr>\n  </tbody>\n</table>\n</div>",
          "text/plain": "          val_stress val_stress_spc val_xing val_xing_spc  dis_loss  gen_loss  \\\nepoch 949     481.60         22.44%    37.84       29.74%  2.90e-01  4.17e+00   \n\n              stress    critic  \nepoch 949  -4.67e+02  7.16e+03  "
         },
         "metadata": {},
         "output_type": "display_data"
        }
       ]
      }
     },
     "3373e599023d418bae4f6961551e1003": {
      "model_module": "@jupyter-widgets/controls",
      "model_module_version": "1.5.0",
      "model_name": "HBoxModel",
      "state": {
       "children": [
        "IPY_MODEL_9bb6a575cdc1474897ea69d679cc5b40"
       ],
       "layout": "IPY_MODEL_c45ed2fd99774e65be492a3e049c0f75"
      }
     },
     "3c1670de103a4cdeb166728f5aa171cb": {
      "model_module": "@jupyter-widgets/base",
      "model_module_version": "1.2.0",
      "model_name": "LayoutModel",
      "state": {}
     },
     "3c32d53ffbaf407095b627959cb6ecc1": {
      "model_module": "@jupyter-widgets/base",
      "model_module_version": "1.2.0",
      "model_name": "LayoutModel",
      "state": {}
     },
     "3c98cb1e15794d1b873f046765d5f46e": {
      "model_module": "@jupyter-widgets/base",
      "model_module_version": "1.2.0",
      "model_name": "LayoutModel",
      "state": {}
     },
     "3d58ab5094eb47f78b2137ff98fe0e13": {
      "model_module": "@jupyter-widgets/base",
      "model_module_version": "1.2.0",
      "model_name": "LayoutModel",
      "state": {}
     },
     "43abd50bbb9248c6965dd0598b8e57c2": {
      "model_module": "@jupyter-widgets/base",
      "model_module_version": "1.2.0",
      "model_name": "LayoutModel",
      "state": {}
     },
     "4927b13f0f304d45999a3bbba775872d": {
      "model_module": "@jupyter-widgets/base",
      "model_module_version": "1.2.0",
      "model_name": "LayoutModel",
      "state": {}
     },
     "4c7cc9d936074154b0607b06275a57c6": {
      "model_module": "@jupyter-widgets/controls",
      "model_module_version": "1.5.0",
      "model_name": "FloatProgressModel",
      "state": {
       "layout": "IPY_MODEL_3c32d53ffbaf407095b627959cb6ecc1",
       "max": 834,
       "style": "IPY_MODEL_5b8268b1246f48eea81dfe3295e87eb8",
       "value": 781
      }
     },
     "5715a79b2f6247e2bf498f6f520b8bf9": {
      "model_module": "@jupyter-widgets/base",
      "model_module_version": "1.2.0",
      "model_name": "LayoutModel",
      "state": {}
     },
     "5a543a04880b4a2fa6d3a873e81678b4": {
      "model_module": "@jupyter-widgets/base",
      "model_module_version": "1.2.0",
      "model_name": "LayoutModel",
      "state": {}
     },
     "5a9be39a572745409a9cb8dc964d1789": {
      "model_module": "@jupyter-widgets/base",
      "model_module_version": "1.2.0",
      "model_name": "LayoutModel",
      "state": {}
     },
     "5b8268b1246f48eea81dfe3295e87eb8": {
      "model_module": "@jupyter-widgets/controls",
      "model_module_version": "1.5.0",
      "model_name": "ProgressStyleModel",
      "state": {
       "description_width": ""
      }
     },
     "602731407a0c4af0a285934167930299": {
      "model_module": "@jupyter-widgets/base",
      "model_module_version": "1.2.0",
      "model_name": "LayoutModel",
      "state": {}
     },
     "628dd358653d4d0798b44befd97c2ffb": {
      "model_module": "@jupyter-widgets/controls",
      "model_module_version": "1.5.0",
      "model_name": "HBoxModel",
      "state": {
       "children": [
        "IPY_MODEL_6864224b5e394554806f4745a78dce54",
        "IPY_MODEL_4c7cc9d936074154b0607b06275a57c6",
        "IPY_MODEL_71ec7fffd56e4b45bda0c7d44761cdb8"
       ],
       "layout": "IPY_MODEL_8f3db2eb4b724355b9413f36c93b3229"
      }
     },
     "64ce27f5ef5b4b859e92b6f3295d81b8": {
      "model_module": "@jupyter-widgets/controls",
      "model_module_version": "1.5.0",
      "model_name": "HBoxModel",
      "state": {
       "children": [
        "IPY_MODEL_1e55ca9acaaf4c37b5efa207c5e24ff1"
       ],
       "layout": "IPY_MODEL_ccf6a84387aa487a8271fe03834f6a6d"
      }
     },
     "66073041a6374211b27ceb748012adb6": {
      "model_module": "@jupyter-widgets/controls",
      "model_module_version": "1.5.0",
      "model_name": "DescriptionStyleModel",
      "state": {
       "description_width": ""
      }
     },
     "6864224b5e394554806f4745a78dce54": {
      "model_module": "@jupyter-widgets/controls",
      "model_module_version": "1.5.0",
      "model_name": "HTMLModel",
      "state": {
       "layout": "IPY_MODEL_5a9be39a572745409a9cb8dc964d1789",
       "style": "IPY_MODEL_a72b19e2524f499199d4066467db38a4",
       "value": "[epoch 949/None]:  94%"
      }
     },
     "6bdf2d66c8f942adadb8b697b8220f0a": {
      "model_module": "@jupyter-widgets/controls",
      "model_module_version": "1.5.0",
      "model_name": "ProgressStyleModel",
      "state": {
       "description_width": ""
      }
     },
     "6eaefa95753c43b7b232ac4ff210a2e2": {
      "model_module": "@jupyter-widgets/controls",
      "model_module_version": "1.5.0",
      "model_name": "ProgressStyleModel",
      "state": {
       "description_width": ""
      }
     },
     "71ec7fffd56e4b45bda0c7d44761cdb8": {
      "model_module": "@jupyter-widgets/controls",
      "model_module_version": "1.5.0",
      "model_name": "HTMLModel",
      "state": {
       "layout": "IPY_MODEL_b8f12e7ded2a4e3ab780fbeba46df357",
       "style": "IPY_MODEL_e1c61d8c77ce4f3c9280f1dfa1c4581d",
       "value": " 781/834 [02:48&lt;00:11,  4.64it/s]"
      }
     },
     "742eedfaefd44c57b480ff39a2f3e483": {
      "model_module": "@jupyter-widgets/controls",
      "model_module_version": "1.5.0",
      "model_name": "FloatProgressModel",
      "state": {
       "bar_style": "success",
       "layout": "IPY_MODEL_fbd859509ac74ba3ba183008603010de",
       "max": 11531,
       "style": "IPY_MODEL_6bdf2d66c8f942adadb8b697b8220f0a",
       "value": 11531
      }
     },
     "84046f9c15334d3dab81b8cb54280358": {
      "model_module": "@jupyter-widgets/controls",
      "model_module_version": "1.5.0",
      "model_name": "DescriptionStyleModel",
      "state": {
       "description_width": ""
      }
     },
     "8653725ecb5e418eab162c0da937a6f7": {
      "model_module": "@jupyter-widgets/base",
      "model_module_version": "1.2.0",
      "model_name": "LayoutModel",
      "state": {}
     },
     "8f3db2eb4b724355b9413f36c93b3229": {
      "model_module": "@jupyter-widgets/base",
      "model_module_version": "1.2.0",
      "model_name": "LayoutModel",
      "state": {}
     },
     "906a4ca118ac44d7b090e8a7851e0e27": {
      "model_module": "@jupyter-widgets/controls",
      "model_module_version": "1.5.0",
      "model_name": "ProgressStyleModel",
      "state": {
       "description_width": ""
      }
     },
     "909375cc6cae4f4380bb19dae2cc57c8": {
      "model_module": "@jupyter-widgets/controls",
      "model_module_version": "1.5.0",
      "model_name": "HTMLModel",
      "state": {
       "layout": "IPY_MODEL_8653725ecb5e418eab162c0da937a6f7",
       "style": "IPY_MODEL_a02e4aac3ba8471f843a243c34d42f1f",
       "value": "100%"
      }
     },
     "9bb6a575cdc1474897ea69d679cc5b40": {
      "model_module": "@jupyter-widgets/output",
      "model_module_version": "1.0.0",
      "model_name": "OutputModel",
      "state": {
       "layout": "IPY_MODEL_e12e5234fd464dada32e6588284f5fbb",
       "outputs": [
        {
         "name": "stdout",
         "output_type": "stream",
         "text": "[948] stress=490.66(23.41%) xing=37.92(29.59%)\n[949] stress=481.60(22.44%) xing=37.84(29.74%)\n"
        }
       ]
      }
     },
     "a02e4aac3ba8471f843a243c34d42f1f": {
      "model_module": "@jupyter-widgets/controls",
      "model_module_version": "1.5.0",
      "model_name": "DescriptionStyleModel",
      "state": {
       "description_width": ""
      }
     },
     "a47bfdae9b14479a8e58c98d0817f3f6": {
      "model_module": "@jupyter-widgets/controls",
      "model_module_version": "1.5.0",
      "model_name": "VBoxModel",
      "state": {
       "children": [
        "IPY_MODEL_d7f6c0c6993f4808ae2f7d66c603659b",
        "IPY_MODEL_2f853c84103a4bdb918168a18332e9df"
       ],
       "layout": "IPY_MODEL_3c1670de103a4cdeb166728f5aa171cb"
      }
     },
     "a72b19e2524f499199d4066467db38a4": {
      "model_module": "@jupyter-widgets/controls",
      "model_module_version": "1.5.0",
      "model_name": "DescriptionStyleModel",
      "state": {
       "description_width": ""
      }
     },
     "a894b2595ae24a4c95e44a6a643acfc2": {
      "model_module": "@jupyter-widgets/controls",
      "model_module_version": "1.5.0",
      "model_name": "TabModel",
      "state": {
       "_titles": {
        "0": "status",
        "1": "plot",
        "2": "log"
       },
       "children": [
        "IPY_MODEL_a47bfdae9b14479a8e58c98d0817f3f6",
        "IPY_MODEL_64ce27f5ef5b4b859e92b6f3295d81b8",
        "IPY_MODEL_3373e599023d418bae4f6961551e1003"
       ],
       "layout": "IPY_MODEL_43abd50bbb9248c6965dd0598b8e57c2"
      }
     },
     "adfa44f933f445a5b79945ea4d49785f": {
      "model_module": "@jupyter-widgets/controls",
      "model_module_version": "1.5.0",
      "model_name": "HBoxModel",
      "state": {
       "children": [
        "IPY_MODEL_f9d8ee864c214dffbe457137ec2ea1c9",
        "IPY_MODEL_742eedfaefd44c57b480ff39a2f3e483",
        "IPY_MODEL_c029d5f497fe4580847cc21200576263"
       ],
       "layout": "IPY_MODEL_04869a7df0d5469587bf7b14a46503ee"
      }
     },
     "b4b6cb2763934e7898383b50222b098e": {
      "model_module": "@jupyter-widgets/controls",
      "model_module_version": "1.5.0",
      "model_name": "DescriptionStyleModel",
      "state": {
       "description_width": ""
      }
     },
     "b8f12e7ded2a4e3ab780fbeba46df357": {
      "model_module": "@jupyter-widgets/base",
      "model_module_version": "1.2.0",
      "model_name": "LayoutModel",
      "state": {}
     },
     "ba1aac91fee147a8ab025a1a02e7a2df": {
      "model_module": "@jupyter-widgets/controls",
      "model_module_version": "1.5.0",
      "model_name": "FloatProgressModel",
      "state": {
       "bar_style": "success",
       "layout": "IPY_MODEL_3d58ab5094eb47f78b2137ff98fe0e13",
       "max": 1000,
       "style": "IPY_MODEL_6eaefa95753c43b7b232ac4ff210a2e2",
       "value": 1000
      }
     },
     "bda6896c66734f8db9c9bccec9a21af0": {
      "model_module": "@jupyter-widgets/controls",
      "model_module_version": "1.5.0",
      "model_name": "HTMLModel",
      "state": {
       "layout": "IPY_MODEL_23abb53b606c4680b267807e8d0c2a7a",
       "style": "IPY_MODEL_2a24fe3d3a82448b842400e101042ba5",
       "value": " 1000/1000 [00:47&lt;00:00, 21.37it/s]"
      }
     },
     "be1dbb9a70fa45969325928055221fb0": {
      "model_module": "@jupyter-widgets/controls",
      "model_module_version": "1.5.0",
      "model_name": "HBoxModel",
      "state": {
       "children": [
        "IPY_MODEL_bed6716bc0404ee08a3bbc18e969825a",
        "IPY_MODEL_e1839d277d274641a4995d96e38d2fa8",
        "IPY_MODEL_bda6896c66734f8db9c9bccec9a21af0"
       ],
       "layout": "IPY_MODEL_ea789ba39eb84bfdb16e5d7f109b6a06"
      }
     },
     "bed6716bc0404ee08a3bbc18e969825a": {
      "model_module": "@jupyter-widgets/controls",
      "model_module_version": "1.5.0",
      "model_name": "HTMLModel",
      "state": {
       "layout": "IPY_MODEL_014dc131c5114cc5b52ff4878dec80bc",
       "style": "IPY_MODEL_df9ec18fb0124556b269db3366864d79",
       "value": "100%"
      }
     },
     "c029d5f497fe4580847cc21200576263": {
      "model_module": "@jupyter-widgets/controls",
      "model_module_version": "1.5.0",
      "model_name": "HTMLModel",
      "state": {
       "layout": "IPY_MODEL_fd7e88a264be4d11939d9a309842440b",
       "style": "IPY_MODEL_b4b6cb2763934e7898383b50222b098e",
       "value": " 11531/11531 [00:00&lt;00:00, 80062.25it/s]"
      }
     },
     "c45ed2fd99774e65be492a3e049c0f75": {
      "model_module": "@jupyter-widgets/base",
      "model_module_version": "1.2.0",
      "model_name": "LayoutModel",
      "state": {
       "height": "500px",
       "overflow_y": "auto"
      }
     },
     "c96852a6919949439b571bed095baf7b": {
      "model_module": "@jupyter-widgets/controls",
      "model_module_version": "1.5.0",
      "model_name": "HBoxModel",
      "state": {
       "children": [
        "IPY_MODEL_909375cc6cae4f4380bb19dae2cc57c8",
        "IPY_MODEL_ba1aac91fee147a8ab025a1a02e7a2df",
        "IPY_MODEL_d13badd702b74a79b54a838ebeae682c"
       ],
       "layout": "IPY_MODEL_5a543a04880b4a2fa6d3a873e81678b4"
      }
     },
     "ccf6a84387aa487a8271fe03834f6a6d": {
      "model_module": "@jupyter-widgets/base",
      "model_module_version": "1.2.0",
      "model_name": "LayoutModel",
      "state": {
       "height": "500px",
       "overflow_y": "auto"
      }
     },
     "d13badd702b74a79b54a838ebeae682c": {
      "model_module": "@jupyter-widgets/controls",
      "model_module_version": "1.5.0",
      "model_name": "HTMLModel",
      "state": {
       "layout": "IPY_MODEL_602731407a0c4af0a285934167930299",
       "style": "IPY_MODEL_84046f9c15334d3dab81b8cb54280358",
       "value": " 1000/1000 [00:47&lt;00:00, 20.91it/s]"
      }
     },
     "d7f6c0c6993f4808ae2f7d66c603659b": {
      "model_module": "@jupyter-widgets/output",
      "model_module_version": "1.0.0",
      "model_name": "OutputModel",
      "state": {
       "layout": "IPY_MODEL_17390b0da09f42b9a91eb2891128b59a",
       "outputs": [
        {
         "data": {
          "application/vnd.jupyter.widget-view+json": {
           "model_id": "628dd358653d4d0798b44befd97c2ffb",
           "version_major": 2,
           "version_minor": 0
          },
          "text/plain": "  0%|          | 0/834 [00:00<?, ?it/s]"
         },
         "metadata": {},
         "output_type": "display_data"
        }
       ]
      }
     },
     "df9ec18fb0124556b269db3366864d79": {
      "model_module": "@jupyter-widgets/controls",
      "model_module_version": "1.5.0",
      "model_name": "DescriptionStyleModel",
      "state": {
       "description_width": ""
      }
     },
     "e12e5234fd464dada32e6588284f5fbb": {
      "model_module": "@jupyter-widgets/base",
      "model_module_version": "1.2.0",
      "model_name": "LayoutModel",
      "state": {}
     },
     "e1839d277d274641a4995d96e38d2fa8": {
      "model_module": "@jupyter-widgets/controls",
      "model_module_version": "1.5.0",
      "model_name": "FloatProgressModel",
      "state": {
       "bar_style": "success",
       "layout": "IPY_MODEL_4927b13f0f304d45999a3bbba775872d",
       "max": 1000,
       "style": "IPY_MODEL_906a4ca118ac44d7b090e8a7851e0e27",
       "value": 1000
      }
     },
     "e1c61d8c77ce4f3c9280f1dfa1c4581d": {
      "model_module": "@jupyter-widgets/controls",
      "model_module_version": "1.5.0",
      "model_name": "DescriptionStyleModel",
      "state": {
       "description_width": ""
      }
     },
     "ea789ba39eb84bfdb16e5d7f109b6a06": {
      "model_module": "@jupyter-widgets/base",
      "model_module_version": "1.2.0",
      "model_name": "LayoutModel",
      "state": {}
     },
     "f9d8ee864c214dffbe457137ec2ea1c9": {
      "model_module": "@jupyter-widgets/controls",
      "model_module_version": "1.5.0",
      "model_name": "HTMLModel",
      "state": {
       "layout": "IPY_MODEL_2965fff95659483299d99cea9081c47f",
       "style": "IPY_MODEL_66073041a6374211b27ceb748012adb6",
       "value": "100%"
      }
     },
     "fbd859509ac74ba3ba183008603010de": {
      "model_module": "@jupyter-widgets/base",
      "model_module_version": "1.2.0",
      "model_name": "LayoutModel",
      "state": {}
     },
     "fd7e88a264be4d11939d9a309842440b": {
      "model_module": "@jupyter-widgets/base",
      "model_module_version": "1.2.0",
      "model_name": "LayoutModel",
      "state": {}
     }
    },
    "version_major": 2,
    "version_minor": 0
   }
  }
 },
 "nbformat": 4,
 "nbformat_minor": 4
}
