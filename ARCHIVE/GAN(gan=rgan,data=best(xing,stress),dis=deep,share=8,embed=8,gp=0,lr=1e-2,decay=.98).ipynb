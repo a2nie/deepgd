{
 "cells": [
  {
   "cell_type": "markdown",
   "metadata": {
    "id": "wZtYFEhHoBGp"
   },
   "source": [
    "# Import libraries"
   ]
  },
  {
   "cell_type": "code",
   "execution_count": 1,
   "metadata": {
    "id": "KJPfzpxLQI5O"
   },
   "outputs": [],
   "source": [
    "%load_ext autoreload\n",
    "%autoreload 2\n",
    "from deepgd import *"
   ]
  },
  {
   "cell_type": "markdown",
   "metadata": {
    "id": "z4eBEyB1oaJe"
   },
   "source": [
    "# Config"
   ]
  },
  {
   "cell_type": "code",
   "execution_count": 2,
   "metadata": {
    "id": "Q_-MLFhpNvxF"
   },
   "outputs": [],
   "source": [
    "cuda_idx = 0\n",
    "canonicalization = Canonicalization(normalize=Standardization(norm_ord=1),\n",
    "                                    scale=False)\n",
    "config = StaticConfig({\n",
    "    \"name\": 'GAN(gan=rgan,data=best(xing,stress),dis=deep,share=8,embed=8,gp=0,lr=1e-2,decay=.98)',\n",
    "    \"uid\": None,\n",
    "    \"link\": None,\n",
    "    \"generator\": {\n",
    "        \"params\": {\n",
    "            \"num_blocks\": 9,\n",
    "            \"normalize\": canonicalization\n",
    "        },\n",
    "        \"pretrained\": {\n",
    "            \"name\": None,\n",
    "            \"epoch\": -1,\n",
    "        },\n",
    "        \"optim\": torch.optim.AdamW,\n",
    "        \"lr\" : {\n",
    "            \"initial\": 1e-2,\n",
    "            \"decay\": 0.98,\n",
    "        },\n",
    "    },\n",
    "    \"discriminator\": {\n",
    "        \"params\": {\n",
    "            \"conv\": [2, 16, 16, 16],\n",
    "            \"dense\": [2],\n",
    "            \"shared_depth\": 8,\n",
    "            \"enet_depth\": 8,\n",
    "            \"enet_width\": 64,\n",
    "            \"aggr\": \"add\",\n",
    "            \"normalize\": canonicalization\n",
    "        },\n",
    "        \"pretrained\": {\n",
    "            \"name\": None,\n",
    "            \"epoch\": -1,\n",
    "        },\n",
    "        \"optim\": torch.optim.AdamW,\n",
    "        \"lr\" : {\n",
    "            \"initial\": 1e-2,\n",
    "            \"decay\": 0.98,\n",
    "        },\n",
    "        \"noise\": {\n",
    "            \"std\": 0,\n",
    "            \"decay\": 0.95,\n",
    "        },\n",
    "        \"repeat\": 1,\n",
    "        \"complete\": True,\n",
    "        \"adaptive\": True\n",
    "    },\n",
    "    \"alternate\": \"epoch\",\n",
    "    \"batchsize\": 24,\n",
    "    \"epoch\": {\n",
    "        \"start\": -1,\n",
    "        \"end\": None,\n",
    "    },\n",
    "    \"log_interval\": 1,\n",
    "    \"test\": {\n",
    "        \"name\": \"test\",\n",
    "        \"epoch\": -1,\n",
    "    },\n",
    "    \"gan_flavor\": \"rgan\",\n",
    "    \"gp_weight\": 0,\n",
    "})\n",
    "data_config = StaticConfig({\n",
    "    \"sparse\": False,\n",
    "    \"pivot\": None,\n",
    "    \"init\": \"pmds\",\n",
    "    \"edge\": {\n",
    "        \"index\": \"full_edge_index\",\n",
    "        \"attr\": \"full_edge_attr\",\n",
    "    },\n",
    "})\n",
    "loss_fns = {\n",
    "    Stress(): 1\n",
    "}\n",
    "ctrler_params = {\n",
    "    \"tau\": 0.95,\n",
    "    \"beta\": 1,\n",
    "    \"exploit_rate\": 0.5,\n",
    "    \"warmup\": 2,\n",
    "}\n",
    "paths = StaticConfig({\n",
    "    \"root\": \"artifacts\",\n",
    "    \"checkpoints\": lambda: f\"{paths.root}/checkpoints/{config.name}\",\n",
    "    \"gen_pretrain\": lambda: f\"{paths.root}/checkpoints/{config.generator.pretrained.name}\",\n",
    "    \"dis_pretrain\": lambda: f\"{paths.root}/checkpoints/{config.discriminator.pretrained.name}\",\n",
    "    \"tensorboard\": lambda: f\"{paths.root}/tensorboards/{config.name}\",\n",
    "    \"visualization\": lambda: f\"{paths.root}/visualizations/{config.name}_{config.test.name}\",\n",
    "    \"log\": lambda: f\"{paths.root}/logs/{config.name}.log\",\n",
    "    \"metrics\": lambda suffix: f\"{paths.root}/metrics/{config.name}_{suffix}.pickle\",\n",
    "})"
   ]
  },
  {
   "cell_type": "code",
   "execution_count": 3,
   "metadata": {
    "id": "mdMEAbH10Qaq"
   },
   "outputs": [],
   "source": [
    "if \" \" in config.name:\n",
    "    raise Exception(\"Space is not allowed in model name.\")"
   ]
  },
  {
   "cell_type": "markdown",
   "metadata": {
    "id": "WynW4ZAdBhep"
   },
   "source": [
    "# Prepare"
   ]
  },
  {
   "cell_type": "markdown",
   "metadata": {
    "id": "DR6-vYtr_i_P"
   },
   "source": [
    "## Get log command"
   ]
  },
  {
   "cell_type": "code",
   "execution_count": 4,
   "metadata": {
    "colab": {
     "base_uri": "https://localhost:8080/"
    },
    "id": "9-QpinlslcTO",
    "outputId": "48ae3716-212c-4d46-9efb-b7b4070f73de"
   },
   "outputs": [
    {
     "name": "stdout",
     "output_type": "stream",
     "text": [
      "cd /users/PAS0027/osu10203/deepgd && tail -n1000 -f 'artifacts/logs/GAN(gan=rgan,data=best(xing,stress),dis=deep,share=8,embed=8,gp=0,lr=1e-2,decay=.98).log'\n"
     ]
    }
   ],
   "source": [
    "print(f\"cd {os.getcwd()} && tail -n1000 -f '{paths.log()}'\")"
   ]
  },
  {
   "cell_type": "code",
   "execution_count": 5,
   "metadata": {},
   "outputs": [
    {
     "name": "stdout",
     "output_type": "stream",
     "text": [
      "tensorboard dev upload --logdir 'artifacts/tensorboards/GAN(gan=rgan,data=best(xing,stress),dis=deep,share=8,embed=8,gp=0,lr=1e-2,decay=.98)'\n"
     ]
    }
   ],
   "source": [
    "print(f\"tensorboard dev upload --logdir '{paths.tensorboard()}'\")"
   ]
  },
  {
   "cell_type": "markdown",
   "metadata": {
    "id": "innqkwvH_ydD"
   },
   "source": [
    "## Set globals"
   ]
  },
  {
   "cell_type": "code",
   "execution_count": 6,
   "metadata": {
    "id": "Qjq7JlSZlkQR"
   },
   "outputs": [],
   "source": [
    "if cuda_idx is not None and torch.cuda.is_available():\n",
    "    device = f'cuda:{cuda_idx}'\n",
    "    pynvml.nvmlInit()\n",
    "    cuda = pynvml.nvmlDeviceGetHandleByIndex(cuda_idx)\n",
    "else:\n",
    "    device = 'cpu'\n",
    "    cuda =  None\n",
    "np.set_printoptions(precision=2)\n",
    "warnings.filterwarnings(\"ignore\", category=RuntimeWarning)"
   ]
  },
  {
   "cell_type": "markdown",
   "metadata": {
    "id": "0da286l_ApEL"
   },
   "source": [
    "## Load data"
   ]
  },
  {
   "cell_type": "code",
   "execution_count": 7,
   "metadata": {
    "colab": {
     "base_uri": "https://localhost:8080/"
    },
    "id": "RFuSHiZJMU4x",
    "outputId": "54065609-aaea-4536-d79c-73bc73b3f576"
   },
   "outputs": [
    {
     "name": "stdout",
     "output_type": "stream",
     "text": [
      "Load from 'cache/G_list.pickle'\n",
      "Load from 'cache/generate_data_list(list,sparse=False,pivot_mode=None,init_mode=pmds,edge_index=full_edge_index,edge_attr=full_edge_attr,pmds_list=ndarray,gviz_list=ndarray,noisy_layout=True,device=cpu).pickle'\n"
     ]
    },
    {
     "name": "stderr",
     "output_type": "stream",
     "text": [
      "/users/PAS0027/osu10203/.conda/envs/deepgd/lib/python3.9/site-packages/torch_geometric/deprecation.py:13: UserWarning: 'data.DataLoader' is deprecated, use 'loader.DataLoader' instead\n",
      "  warnings.warn(out)\n"
     ]
    }
   ],
   "source": [
    "G_list = load_G_list(data_path='data/rome', index_file='data_index.txt', cache='G_list', cache_prefix='cache/')\n",
    "data_list = generate_data_list(G_list, \n",
    "                               sparse=data_config.sparse, \n",
    "                               pivot_mode=data_config.pivot,\n",
    "                               init_mode=data_config.init,\n",
    "                               edge_index=data_config.edge.index,\n",
    "                               edge_attr=data_config.edge.attr,\n",
    "                               pmds_list=np.load('layouts/rome/pmds.npy', allow_pickle=True),\n",
    "                               gviz_list=np.load('layouts/rome/gviz.npy', allow_pickle=True),\n",
    "                               noisy_layout=True,\n",
    "                               device='cpu', \n",
    "                               cache=True,\n",
    "                               cache_prefix='cache/')\n",
    "train_loader = LazyDeviceMappingDataLoader(data_list[:10000], batch_size=config.batchsize, shuffle=True, device=device)\n",
    "val_loader = LazyDeviceMappingDataLoader(data_list[11000:], batch_size=config.batchsize, shuffle=False, device=device)"
   ]
  },
  {
   "cell_type": "code",
   "execution_count": 8,
   "metadata": {
    "id": "djd1pLt2OxZq"
   },
   "outputs": [],
   "source": [
    "def draw_layout(G, method, draw=True):\n",
    "    if method == 'fa2':\n",
    "        layout = get_fa2_layout(G)\n",
    "    else:\n",
    "        try:\n",
    "            fn = getattr(nx.drawing.layout, f'{method}_layout')\n",
    "            layout = fn(G)\n",
    "        except:\n",
    "            layout = nx.drawing.nx_agraph.graphviz_layout(G, prog=method)\n",
    "    if draw:\n",
    "        nx.draw(G, pos=layout)\n",
    "    return layout"
   ]
  },
  {
   "cell_type": "code",
   "execution_count": 9,
   "metadata": {
    "id": "2vBBw77lR7Em"
   },
   "outputs": [],
   "source": [
    "methods = ['neato', 'dot', 'fdp', 'sfdp', 'twopi', 'circo', 'shell', 'spring', 'circular', 'spectral', 'kamada_kawai', 'fa2', 'pmds']"
   ]
  },
  {
   "cell_type": "code",
   "execution_count": 10,
   "metadata": {
    "id": "dx6VVA9XIc2O"
   },
   "outputs": [],
   "source": [
    "from functools import lru_cache\n",
    "\n",
    "@lru_cache(maxsize=None)\n",
    "def load_pos(method):\n",
    "    return np.load(f'layouts/rome/{method}.npy', allow_pickle=True)"
   ]
  },
  {
   "cell_type": "code",
   "execution_count": 11,
   "metadata": {
    "colab": {
     "base_uri": "https://localhost:8080/",
     "height": 1000,
     "referenced_widgets": [
      "05a37aeeb20049dfa2f97287b3990556",
      "a75afae3adfd4810a0b0991a062535ee",
      "a24ae105ed124595992f7e2e5f909247",
      "01b4cabaf8004dd4b9269b4e6889c498",
      "f3c7c84f2b314bd8b97a7358deaf4fa1",
      "35e4a83e692b4a7bafb46fdf192b2586",
      "62847b5e2678459f845159eef6d4feab",
      "143e81f00313436dacfa246a57108944",
      "e05833f11803400b95ff22246cdc8f2b",
      "53aeede91e074378b5d7f626165655ee",
      "79a43768c1794a10a788a49e5883aa2c"
     ]
    },
    "id": "MSmP-jem9I0X",
    "outputId": "c698f0bf-e96e-4de9-aeda-0b046fc0a03f",
    "scrolled": true,
    "tags": []
   },
   "outputs": [],
   "source": [
    "# best_list = []\n",
    "# best_layout_list = []\n",
    "# for idx, (G, data) in enumerate(zip(tqdm(G_list), data_list)):\n",
    "#     xing, stress, layout = {}, {}, {}\n",
    "#     for m in methods:\n",
    "#         batch = Batch.from_data_list([data])\n",
    "#         pos = load_pos(m)\n",
    "#         p = CanonicalizationByStress()(torch.tensor(pos[idx]).float(), batch)\n",
    "#         x = Xing()(p, batch).item()\n",
    "#         s = Stress()(p, batch).item()\n",
    "#         xing[m] = x\n",
    "#         stress[m] = s\n",
    "#         layout[m] = p.numpy()\n",
    "#         # plt.figure()\n",
    "#         # graph_vis(G, pos[idx])\n",
    "#         # plt.title(f'{m} stress={s:.2f} xing={x}')\n",
    "#     best, *_ = sorted(methods, key=lambda m: (xing[m], stress[m]))\n",
    "#     best_list.append(best)\n",
    "#     best_layout_list.append(layout[best])\n",
    "#     print(f'{best}, xing={xing[best]}, stress={stress[best]:.2f}')"
   ]
  },
  {
   "cell_type": "code",
   "execution_count": 12,
   "metadata": {
    "colab": {
     "base_uri": "https://localhost:8080/"
    },
    "id": "Mx2bZNugdTqa",
    "outputId": "cec05a67-18e8-492f-aaa1-057274a8341a"
   },
   "outputs": [],
   "source": [
    "# pickle.dump(best_list, open('layouts/rome/best[xing,stress].pkl', 'wb'))\n",
    "# np.save('layouts/rome/best[xing,stress].npy', best_layout_list)"
   ]
  },
  {
   "cell_type": "code",
   "execution_count": 13,
   "metadata": {
    "colab": {
     "base_uri": "https://localhost:8080/",
     "height": 49,
     "referenced_widgets": [
      "7e0ae84dd0f3458d893c81b029fe1729",
      "18bdc3bf80fb434abde68de5b72a8870",
      "2e3552ded9594635a51832387ae754a0",
      "54f4aa5080c6498080a63be2cdeefee5",
      "3937586d0879451da5e2138ca3bfd0a0",
      "a9df6e84ce8c499eb2b2cf984995d791",
      "7af6b718dd3d4e01b264377a2fa938e2",
      "a774c86e64004bd6951645f1c24abad4",
      "c86575117cd041f2837762f37d1f387b",
      "6e9907cefb1241688fbd248b8281ed9f",
      "9b8e5405d8264944acab57e81f2f5ad6"
     ]
    },
    "id": "A1-w1fspC53p",
    "outputId": "09c2d5c3-1eef-41eb-dcee-581af1294804"
   },
   "outputs": [
    {
     "data": {
      "application/vnd.jupyter.widget-view+json": {
       "model_id": "c0543b9964ba4d7c81fe1c83dad279d9",
       "version_major": 2,
       "version_minor": 0
      },
      "text/plain": [
       "  0%|          | 0/11531 [00:00<?, ?it/s]"
      ]
     },
     "metadata": {},
     "output_type": "display_data"
    }
   ],
   "source": [
    "best_layout_list = np.load('layouts/rome/best[xing,stress].npy', allow_pickle=True)\n",
    "for data, layout in zip(tqdm(data_list), best_layout_list):\n",
    "    data.gt_pos = torch.tensor(layout)"
   ]
  },
  {
   "cell_type": "code",
   "execution_count": 14,
   "metadata": {
    "id": "y6EGh4U7exL_"
   },
   "outputs": [],
   "source": [
    "train_loader = LazyDeviceMappingDataLoader(data_list[:10000], batch_size=config.batchsize, shuffle=True, device=device)\n",
    "val_loader = LazyDeviceMappingDataLoader(data_list[11000:], batch_size=config.batchsize, shuffle=False, device=device)"
   ]
  },
  {
   "cell_type": "code",
   "execution_count": 15,
   "metadata": {
    "colab": {
     "base_uri": "https://localhost:8080/",
     "height": 103,
     "referenced_widgets": [
      "38a33cf69aff48f4aabd4902a7ce48b1",
      "57e277bcb44c4e2fa2a12105d75153d1",
      "20ce017c46bd4a7c9b420270ac579405",
      "13f2df4fe0ce4af88b6e3bd1637065b0",
      "2867faa145ca4860a198d4d0bf830f89",
      "02838cf669174ed9afa41a1a8e680765",
      "7e9e3c031667455f8baca163d3a213e5",
      "4000135e7dfa46529fa6244fccc5cb57",
      "e523e9faac5b4ec38643c05ac5ba99f7",
      "e8e3ee9741e4480dae5003ccc19a7891",
      "9a569045221b43acb3ba2fbf116b2c74"
     ]
    },
    "id": "YEfRRUK0NiNm",
    "outputId": "93f53d05-7667-4cda-a38e-c3a953124f79"
   },
   "outputs": [],
   "source": [
    "# for m in methods:\n",
    "#     layouts = []\n",
    "#     for G in tqdm(G_list):\n",
    "#         layout = draw_layout(G, method=m, draw=False)\n",
    "#         layouts.append(np.array(list(layout.values())))\n",
    "#     np.save(f'layouts/rome/{m}.npy', layouts)"
   ]
  },
  {
   "cell_type": "code",
   "execution_count": 16,
   "metadata": {
    "colab": {
     "base_uri": "https://localhost:8080/",
     "height": 564
    },
    "id": "upK7AHYqPmC5",
    "outputId": "29a88e61-f55f-409c-9194-12c6d5762528"
   },
   "outputs": [],
   "source": [
    "# from collections import Counter\n",
    "\n",
    "# letter_counts = Counter(best_list)\n",
    "# df = pd.DataFrame.from_dict(letter_counts, orient='index')\n",
    "# df.plot(kind='bar', figsize=[12, 8])"
   ]
  },
  {
   "cell_type": "markdown",
   "metadata": {
    "id": "f-ODE2k8BFV6"
   },
   "source": [
    "## Create folders"
   ]
  },
  {
   "cell_type": "code",
   "execution_count": 17,
   "metadata": {
    "id": "3ykUMINYBRog"
   },
   "outputs": [],
   "source": [
    "mkdirs(paths.checkpoints(), paths.tensorboard(), paths.visualization(), f\"{paths.root}/logs\", f\"{paths.root}/metrics\")"
   ]
  },
  {
   "cell_type": "markdown",
   "metadata": {
    "id": "BFq9k5nzBIh5"
   },
   "source": [
    "## Load checkpoints"
   ]
  },
  {
   "cell_type": "code",
   "execution_count": 18,
   "metadata": {
    "id": "W5NbsKkobIfA"
   },
   "outputs": [],
   "source": [
    "class EdgeFeatureDiscriminator(nn.Module):\n",
    "    def __init__(self, \n",
    "                 conv, \n",
    "                 dense,\n",
    "                 shared_depth,\n",
    "                 enet_depth,\n",
    "                 enet_width,\n",
    "                 aggr='add', \n",
    "                 root_weight=True,\n",
    "                 normalize=None):\n",
    "        super().__init__()\n",
    "        self.enet = nn.Sequential(*[\n",
    "            DenseLayer(in_dim=in_d,\n",
    "                       out_dim=out_d,\n",
    "                       skip=nonlin,\n",
    "                       bn=nonlin,\n",
    "                       act=nonlin,\n",
    "                       dp=None)\n",
    "            for in_d, out_d, nonlin \n",
    "            in zip([self._get_feature_dim()] + [enet_width] * (shared_depth-1),\n",
    "                   [enet_width] * shared_depth,\n",
    "                   [True] * (shared_depth-1) + [False])     \n",
    "        ])\n",
    "        self.blocks = nn.ModuleList([\n",
    "            GNNLayer(nfeat_dims=(in_d, out_d),\n",
    "                     efeat_dim=enet_width,\n",
    "                     edge_net=EdgeNet(nfeat_dims=(in_d, out_d), \n",
    "                                      efeat_dim=enet_width, \n",
    "                                      depth=enet_depth, \n",
    "                                      width=enet_width),\n",
    "                     aggr=aggr,\n",
    "                     dense=False,\n",
    "                     skip=nonlin,\n",
    "                     bn=nonlin,\n",
    "                     act=nonlin,\n",
    "                     root_weight=root_weight) \n",
    "            for in_d, out_d, nonlin \n",
    "            in zip(conv[:-1], conv[1:], [True] * (len(conv)-2) + [False])     \n",
    "        ])\n",
    "        self.pool = (gnn.global_mean_pool if aggr == 'mean' \n",
    "                     else gnn.global_add_pool if aggr == 'add' \n",
    "                     else None)\n",
    "        self.dense = nn.Identity() if not dense else nn.Sequential(*[\n",
    "            DenseLayer(in_dim=in_d,\n",
    "                       out_dim=out_d,\n",
    "                       skip=nonlin,\n",
    "                       bn=nonlin,\n",
    "                       act=nonlin,\n",
    "                       dp=None)\n",
    "            for in_d, out_d, nonlin \n",
    "            in zip(conv[-1:] + dense[:-1], dense, [True] * (len(dense)-1) + [False])     \n",
    "        ])\n",
    "        self.normalize = normalize or IdentityTransformation()\n",
    "    \n",
    "    def forward(self, batch):\n",
    "        x = torch.ones_like(batch.pos)\n",
    "        e = self.enet(self._get_features(self._get_edge_info(batch, layout='pos')))\n",
    "        for block in self.blocks:\n",
    "            x = block(x, e, batch)\n",
    "        x = self.pool(x, batch.batch)\n",
    "        x = self.dense(x)\n",
    "        return x\n",
    "    \n",
    "    def _get_edge_info(self, batch, layout='gt_pos'):\n",
    "        pos = self.normalize(batch[layout].float(), batch)\n",
    "        src, dst = get_edges(pos, batch)\n",
    "        v, u = l2_normalize(dst - src, return_norm=True)\n",
    "        d = batch.edge_attr[:, :1]\n",
    "        return {\n",
    "            \"src\": src,\n",
    "            \"dst\": dst,\n",
    "            \"v\": v,\n",
    "            \"u\": u,\n",
    "            \"d\": d,\n",
    "        }\n",
    "\n",
    "    def _get_features(self, edges):\n",
    "        return torch.cat([edges['src'], edges['dst'], edges['d']], dim=1)\n",
    "        \n",
    "    def _get_feature_dim(self):\n",
    "        return self._get_features({\n",
    "            \"src\": torch.zeros(1, 2),\n",
    "            \"dst\": torch.zeros(1, 2),\n",
    "            \"v\": torch.zeros(1, 2),\n",
    "            \"u\": torch.zeros(1, 1),\n",
    "            \"d\": torch.zeros(1, 1),\n",
    "        }).shape[-1]"
   ]
  },
  {
   "cell_type": "code",
   "execution_count": 19,
   "metadata": {
    "id": "96ZActxlL0fJ"
   },
   "outputs": [],
   "source": [
    "class StressDiscriminator(nn.Module):\n",
    "    def __init__(self, normalize=CanonicalizationByStress(), **kwargs):\n",
    "        super().__init__()\n",
    "        self.dummy = nn.Parameter(torch.zeros(1))\n",
    "        self.normalize = normalize\n",
    "        self.stress = Stress(reduce=None)\n",
    "\n",
    "    def forward(self, batch):\n",
    "        return -self.stress(self.normalize(batch.pos, batch), batch)"
   ]
  },
  {
   "cell_type": "code",
   "execution_count": 20,
   "metadata": {
    "id": "IJ6xCYBUuhcw"
   },
   "outputs": [],
   "source": [
    "def get_ckpt_epoch(folder, epoch):\n",
    "    if not os.path.isdir(folder):\n",
    "        os.mkdir(folder)\n",
    "    if epoch >= 0:\n",
    "        return epoch\n",
    "    ckpt_files = os.listdir(folder)\n",
    "    last_epoch = 0\n",
    "    if ckpt_files:\n",
    "        last_epoch = sorted(list(map(lambda x: int(re.search('(?<=epoch_)(\\d+)(?=\\.)', x).group(1)), ckpt_files)))[-1]\n",
    "    return last_epoch + epoch + 1\n",
    "\n",
    "def start_epoch():\n",
    "    return get_ckpt_epoch(paths.checkpoints(), config.epoch.start)"
   ]
  },
  {
   "cell_type": "code",
   "execution_count": 21,
   "metadata": {
    "colab": {
     "base_uri": "https://localhost:8080/"
    },
    "id": "JacDYXka9U01",
    "outputId": "ef4e31ab-2144-497c-8e4f-4d3740ce2d52"
   },
   "outputs": [
    {
     "name": "stdout",
     "output_type": "stream",
     "text": [
      "Loading from artifacts/checkpoints/GAN(gan=rgan,data=best(xing,stress),dis=deep,share=8,embed=8,gp=0,lr=1e-2,decay=.98)/gen_epoch_1131.pt...\n",
      "Loading from artifacts/checkpoints/GAN(gan=rgan,data=best(xing,stress),dis=deep,share=8,embed=8,gp=0,lr=1e-2,decay=.98)/gen_optim_epoch_1131.pt...\n"
     ]
    }
   ],
   "source": [
    "generator = Generator(**config.generator.params[...]).to(device)\n",
    "generator_optimizer = config.generator.optim(generator.parameters(), lr=config.generator.lr.initial * config.generator.lr.decay ** start_epoch())\n",
    "generator_scheduler = torch.optim.lr_scheduler.ExponentialLR(generator_optimizer, gamma=config.generator.lr.decay)\n",
    "if start_epoch() != 0:\n",
    "    gen_ckpt_epoch = start_epoch()\n",
    "elif config.generator.pretrained.name is not None and config.generator.pretrained.epoch != 0:\n",
    "    gen_pretrained_epoch = get_ckpt_epoch(paths.gen_pretrain(), config.generator.pretrained.epoch)\n",
    "    gen_ckpt_epoch = gen_pretrained_epoch \n",
    "else:\n",
    "    gen_ckpt_epoch = None\n",
    "if gen_ckpt_epoch is not None:\n",
    "    # Load generator\n",
    "    gen_ckpt_file = f\"{paths.checkpoints()}/gen_epoch_{gen_ckpt_epoch}.pt\"\n",
    "    print(f\"Loading from {gen_ckpt_file}...\")\n",
    "    generator.load_state_dict(torch.load(gen_ckpt_file, map_location=torch.device(device)))\n",
    "    # Load generator optimizer\n",
    "    gen_optim_ckpt_file = f\"{paths.checkpoints()}/gen_optim_epoch_{gen_ckpt_epoch}.pt\"\n",
    "    print(f\"Loading from {gen_optim_ckpt_file}...\")\n",
    "    generator_optimizer.load_state_dict(torch.load(gen_optim_ckpt_file, map_location=torch.device(device)))"
   ]
  },
  {
   "cell_type": "code",
   "execution_count": 22,
   "metadata": {
    "colab": {
     "base_uri": "https://localhost:8080/"
    },
    "id": "oWQhD7-88VXe",
    "outputId": "3ba01600-b546-4e45-a6bd-c7a65af1ae9e"
   },
   "outputs": [
    {
     "name": "stdout",
     "output_type": "stream",
     "text": [
      "Loading from artifacts/checkpoints/GAN(gan=rgan,data=best(xing,stress),dis=deep,share=8,embed=8,gp=0,lr=1e-2,decay=.98)/dis_epoch_1131.pt...\n",
      "Loading from artifacts/checkpoints/GAN(gan=rgan,data=best(xing,stress),dis=deep,share=8,embed=8,gp=0,lr=1e-2,decay=.98)/dis_optim_epoch_1131.pt...\n"
     ]
    }
   ],
   "source": [
    "discriminator = EdgeFeatureDiscriminator(**config.discriminator.params[...]).to(device)\n",
    "discriminator_optimizer = config.discriminator.optim(discriminator.parameters(), lr=config.discriminator.lr.initial * config.discriminator.lr.decay ** start_epoch())\n",
    "discriminator_scheduler = torch.optim.lr_scheduler.ExponentialLR(discriminator_optimizer, gamma=config.discriminator.lr.decay)\n",
    "if start_epoch() != 0:\n",
    "    dis_ckpt_epoch = start_epoch()\n",
    "elif config.discriminator.pretrained.name is not None and config.discriminator.pretrained.epoch != 0:\n",
    "    dis_pretrained_epoch = get_ckpt_epoch(paths.dis_pretrain(), config.discriminator.pretrained.epoch)\n",
    "    dis_ckpt_epoch = dis_pretrained_epoch # f\"{paths.dis_pretrain()}/dis_epoch_{dis_pretrained_epoch}.pt\"\n",
    "else:\n",
    "    dis_ckpt_epoch = None\n",
    "if dis_ckpt_epoch is not None:\n",
    "    # Load discriminator\n",
    "    dis_ckpt_file = f\"{paths.checkpoints()}/dis_epoch_{dis_ckpt_epoch}.pt\"\n",
    "    print(f\"Loading from {dis_ckpt_file}...\")\n",
    "    discriminator.load_state_dict(torch.load(dis_ckpt_file, map_location=torch.device(device)))\n",
    "    # Load discriminator optimizer\n",
    "    dis_optim_ckpt_file = f\"{paths.checkpoints()}/dis_optim_epoch_{dis_ckpt_epoch}.pt\"\n",
    "    print(f\"Loading from {dis_optim_ckpt_file}...\")\n",
    "    discriminator_optimizer.load_state_dict(torch.load(dis_optim_ckpt_file, map_location=torch.device(device)))"
   ]
  },
  {
   "cell_type": "markdown",
   "metadata": {
    "id": "N39dDHraedM6"
   },
   "source": [
    "# Train"
   ]
  },
  {
   "cell_type": "code",
   "execution_count": 23,
   "metadata": {
    "id": "BdIJSDSJedM-"
   },
   "outputs": [],
   "source": [
    "stress_criterion = StressDiscriminator().to(device)\n",
    "val_criterion = Stress(reduce=None)\n",
    "xing_criterion = Xing(reduce=None)\n",
    "dis_convert = DiscriminatorDataConverter(complete_graph=config.discriminator.complete, normalize=config.discriminator.params.normalize)\n",
    "tensorboard = SummaryWriter(log_dir=paths.tensorboard())\n",
    "epoch = start_epoch() + 1"
   ]
  },
  {
   "cell_type": "code",
   "execution_count": 24,
   "metadata": {
    "id": "OHRWj1h0edM-"
   },
   "outputs": [],
   "source": [
    "def gradient_penalty(interpolated, discriminator, weight=10):\n",
    "    interpolated.pos.requires_grad_()\n",
    "    prob_interpolated = discriminator(interpolated)\n",
    "    gradients = autograd.grad(outputs=prob_interpolated, \n",
    "                              inputs=interpolated.pos,\n",
    "                              grad_outputs=torch.ones_like(prob_interpolated),\n",
    "                              create_graph=True, \n",
    "                              retain_graph=True, \n",
    "                              allow_unused=True)[0]\n",
    "    gradients_norm = torch.sqrt(gnn.global_add_pool(gradients.square().sum(dim=1), batch.batch) + 1e-8)\n",
    "    return weight * ((gradients_norm - 1) ** 2).mean()"
   ]
  },
  {
   "cell_type": "code",
   "execution_count": 25,
   "metadata": {
    "id": "o5wJJN9AedM_"
   },
   "outputs": [],
   "source": [
    "def get_gp_loss(batch, fake_pos, weight):\n",
    "    if weight > 0:\n",
    "        interp = dis_convert(batch, fake_pos, random.random())\n",
    "        return gradient_penalty(interp, discriminator, weight).mean()\n",
    "    return 0"
   ]
  },
  {
   "cell_type": "code",
   "execution_count": 26,
   "metadata": {
    "id": "QwuA6sRoedM_"
   },
   "outputs": [],
   "source": [
    "def get_sgan_loss(batch, fake_pos, mode='discriminator'):\n",
    "    real = dis_convert(batch)\n",
    "    fake = dis_convert(batch, fake_pos)\n",
    "    pred = discriminator(merge_batch(real, fake)).view(2, -1).T\n",
    "    if mode == 'discriminator':\n",
    "        label = torch.zeros(pred.shape[0]).long()\n",
    "    elif mode == 'generator':\n",
    "        label = torch.ones(pred.shape[0]).long()\n",
    "    else:\n",
    "        raise Exception\n",
    "    return nn.CrossEntropyLoss()(pred, label)"
   ]
  },
  {
   "cell_type": "code",
   "execution_count": 27,
   "metadata": {
    "id": "GuAP1YchedNA"
   },
   "outputs": [],
   "source": [
    "def get_rgan_loss(batch, fake_pos, mode='discriminator'):\n",
    "    real = dis_convert(batch)\n",
    "    fake = dis_convert(batch, fake_pos)\n",
    "    pred = discriminator(merge_batch(real, fake)).view(2, -1).T\n",
    "    real_pred, fake_pred = pred[:,0], pred[:,1]\n",
    "    if mode == 'discriminator':\n",
    "        losses = - F.logsigmoid(real_pred - fake_pred)\n",
    "    elif mode == 'generator':\n",
    "        losses = - F.logsigmoid(fake_pred - real_pred)\n",
    "    else:\n",
    "        raise Exception\n",
    "    return losses.mean()"
   ]
  },
  {
   "cell_type": "code",
   "execution_count": 28,
   "metadata": {
    "id": "KFllQ7BredNA"
   },
   "outputs": [],
   "source": [
    "def get_wgan_loss(batch, fake_pos, mode='discriminator'):\n",
    "    real = dis_convert(batch)\n",
    "    fake = dis_convert(batch, fake_pos)\n",
    "    pred = discriminator(merge_batch(real, fake)).view(2, -1).T\n",
    "    real_pred, fake_pred = pred[:,0], pred[:,1]\n",
    "    if mode == 'discriminator':\n",
    "        losses = fake_pred - real_pred \n",
    "    elif mode == 'generator':\n",
    "        losses = real_pred - fake_pred\n",
    "    else:\n",
    "        raise Exception\n",
    "    return losses.mean()"
   ]
  },
  {
   "cell_type": "code",
   "execution_count": 29,
   "metadata": {
    "id": "r5Kg_tYEedNA"
   },
   "outputs": [],
   "source": [
    "def get_ragan_loss(batch, fake_pos, mode='discriminator'):\n",
    "    real = dis_convert(batch)\n",
    "    fake = dis_convert(batch, fake_pos)\n",
    "    pred = discriminator(merge_batch(real, fake)).view(2, -1).T\n",
    "    real_pred, fake_pred = pred[:,0], pred[:,1]\n",
    "    if mode == 'discriminator':\n",
    "        losses = - F.logsigmoid(real_pred - fake_pred.mean()) - F.logsigmoid(real_pred.mean() - fake_pred)\n",
    "    elif mode == 'generator':\n",
    "        losses = - F.logsigmoid(fake_pred - real_pred.mean()) - F.logsigmoid(fake_pred.mean() - real_pred)\n",
    "    else:\n",
    "        raise Exception\n",
    "    return losses.mean()"
   ]
  },
  {
   "cell_type": "code",
   "execution_count": 30,
   "metadata": {},
   "outputs": [],
   "source": [
    "def get_dgdv2_loss(batch, fake_pos, mode='discriminator'):\n",
    "    fake = dis_convert(batch, fake_pos)\n",
    "    pred = discriminator(fake)\n",
    "    if mode == 'discriminator':\n",
    "        gt = get_gt(batch, fake_pos)\n",
    "        loss = criterion(pred, gt)\n",
    "    elif mode == 'generator':\n",
    "        losses = pred.sum(dim=0)\n",
    "#         losses = torch.tensor(config.importance).to(device) * losses #/ losses.detach()\n",
    "        loss = losses.sum()\n",
    "    else:\n",
    "        raise Exception\n",
    "    return -loss"
   ]
  },
  {
   "cell_type": "code",
   "execution_count": 31,
   "metadata": {
    "id": "3IE_84f-edNB"
   },
   "outputs": [],
   "source": [
    "def get_gan_loss(batch, fake_pos, mode='discriminator'):\n",
    "    return {\"sgan\": get_sgan_loss,\n",
    "            \"wgan\": get_wgan_loss,\n",
    "            \"rgan\": get_rgan_loss,\n",
    "            \"ragan\": get_ragan_loss,\n",
    "            \"dgdv2\": get_dgdv2_loss}[config.gan_flavor](batch, fake_pos, mode)"
   ]
  },
  {
   "cell_type": "code",
   "execution_count": 32,
   "metadata": {
    "colab": {
     "background_save": true,
     "base_uri": "https://localhost:8080/",
     "height": 80
    },
    "id": "2NjekXgkedNB",
    "outputId": "da85b2ec-c0de-459c-c0dd-7ba3519419fa",
    "scrolled": true,
    "tags": []
   },
   "outputs": [
    {
     "data": {
      "application/vnd.jupyter.widget-view+json": {
       "model_id": "b664ba22eb1947efb929728dd061ebc4",
       "version_major": 2,
       "version_minor": 0
      },
      "text/plain": [
       "Tab(children=(VBox(children=(Wrapper(), Hud())), HBox(children=(Output(),), layout=Layout(height='500px', over…"
      ]
     },
     "metadata": {},
     "output_type": "display_data"
    },
    {
     "ename": "KeyboardInterrupt",
     "evalue": "",
     "output_type": "error",
     "traceback": [
      "\u001b[0;31m---------------------------------------------------------------------------\u001b[0m",
      "\u001b[0;31mKeyboardInterrupt\u001b[0m                         Traceback (most recent call last)",
      "\u001b[0;32m/tmp/slurmtmp.5715224/ipykernel_67297/801679965.py\u001b[0m in \u001b[0;36m<module>\u001b[0;34m\u001b[0m\n\u001b[1;32m    126\u001b[0m     \u001b[0;31m# proper: proper layout\u001b[0m\u001b[0;34m\u001b[0m\u001b[0;34m\u001b[0m\u001b[0m\n\u001b[1;32m    127\u001b[0m     \u001b[0;32mfor\u001b[0m \u001b[0m_\u001b[0m \u001b[0;32min\u001b[0m \u001b[0mrange\u001b[0m\u001b[0;34m(\u001b[0m\u001b[0mconfig\u001b[0m\u001b[0;34m.\u001b[0m\u001b[0mdiscriminator\u001b[0m\u001b[0;34m.\u001b[0m\u001b[0mrepeat\u001b[0m\u001b[0;34m)\u001b[0m\u001b[0;34m:\u001b[0m\u001b[0;34m\u001b[0m\u001b[0;34m\u001b[0m\u001b[0m\n\u001b[0;32m--> 128\u001b[0;31m         \u001b[0;32mfor\u001b[0m \u001b[0mbatch\u001b[0m \u001b[0;32min\u001b[0m \u001b[0mtrain_loader\u001b[0m\u001b[0;34m:\u001b[0m\u001b[0;34m\u001b[0m\u001b[0;34m\u001b[0m\u001b[0m\n\u001b[0m\u001b[1;32m    129\u001b[0m             \u001b[0mtrain_dis\u001b[0m\u001b[0;34m(\u001b[0m\u001b[0mbatch\u001b[0m\u001b[0;34m,\u001b[0m \u001b[0mepoch\u001b[0m\u001b[0;34m)\u001b[0m\u001b[0;34m\u001b[0m\u001b[0;34m\u001b[0m\u001b[0m\n\u001b[1;32m    130\u001b[0m             \u001b[0;32mif\u001b[0m \u001b[0mconfig\u001b[0m\u001b[0;34m.\u001b[0m\u001b[0malternate\u001b[0m \u001b[0;34m==\u001b[0m \u001b[0;34m'iteration'\u001b[0m\u001b[0;34m:\u001b[0m\u001b[0;34m\u001b[0m\u001b[0;34m\u001b[0m\u001b[0m\n",
      "\u001b[0;32m~/deepgd/deepgd/data.py\u001b[0m in \u001b[0;36m__iter__\u001b[0;34m(self)\u001b[0m\n\u001b[1;32m    545\u001b[0m \u001b[0;34m\u001b[0m\u001b[0m\n\u001b[1;32m    546\u001b[0m     \u001b[0;32mdef\u001b[0m \u001b[0m__iter__\u001b[0m\u001b[0;34m(\u001b[0m\u001b[0mself\u001b[0m\u001b[0;34m)\u001b[0m\u001b[0;34m:\u001b[0m\u001b[0;34m\u001b[0m\u001b[0;34m\u001b[0m\u001b[0m\n\u001b[0;32m--> 547\u001b[0;31m         \u001b[0;32mfor\u001b[0m \u001b[0mbatch\u001b[0m \u001b[0;32min\u001b[0m \u001b[0mself\u001b[0m\u001b[0;34m.\u001b[0m\u001b[0mloader\u001b[0m\u001b[0;34m:\u001b[0m\u001b[0;34m\u001b[0m\u001b[0;34m\u001b[0m\u001b[0m\n\u001b[0m\u001b[1;32m    548\u001b[0m             \u001b[0;32myield\u001b[0m \u001b[0mbatch\u001b[0m\u001b[0;34m.\u001b[0m\u001b[0mto\u001b[0m\u001b[0;34m(\u001b[0m\u001b[0mself\u001b[0m\u001b[0;34m.\u001b[0m\u001b[0mdevice\u001b[0m\u001b[0;34m)\u001b[0m\u001b[0;34m\u001b[0m\u001b[0;34m\u001b[0m\u001b[0m\n\u001b[1;32m    549\u001b[0m \u001b[0;34m\u001b[0m\u001b[0m\n",
      "\u001b[0;32m~/.conda/envs/deepgd/lib/python3.9/site-packages/torch/utils/data/dataloader.py\u001b[0m in \u001b[0;36m__next__\u001b[0;34m(self)\u001b[0m\n\u001b[1;32m    519\u001b[0m             \u001b[0;32mif\u001b[0m \u001b[0mself\u001b[0m\u001b[0;34m.\u001b[0m\u001b[0m_sampler_iter\u001b[0m \u001b[0;32mis\u001b[0m \u001b[0;32mNone\u001b[0m\u001b[0;34m:\u001b[0m\u001b[0;34m\u001b[0m\u001b[0;34m\u001b[0m\u001b[0m\n\u001b[1;32m    520\u001b[0m                 \u001b[0mself\u001b[0m\u001b[0;34m.\u001b[0m\u001b[0m_reset\u001b[0m\u001b[0;34m(\u001b[0m\u001b[0;34m)\u001b[0m\u001b[0;34m\u001b[0m\u001b[0;34m\u001b[0m\u001b[0m\n\u001b[0;32m--> 521\u001b[0;31m             \u001b[0mdata\u001b[0m \u001b[0;34m=\u001b[0m \u001b[0mself\u001b[0m\u001b[0;34m.\u001b[0m\u001b[0m_next_data\u001b[0m\u001b[0;34m(\u001b[0m\u001b[0;34m)\u001b[0m\u001b[0;34m\u001b[0m\u001b[0;34m\u001b[0m\u001b[0m\n\u001b[0m\u001b[1;32m    522\u001b[0m             \u001b[0mself\u001b[0m\u001b[0;34m.\u001b[0m\u001b[0m_num_yielded\u001b[0m \u001b[0;34m+=\u001b[0m \u001b[0;36m1\u001b[0m\u001b[0;34m\u001b[0m\u001b[0;34m\u001b[0m\u001b[0m\n\u001b[1;32m    523\u001b[0m             \u001b[0;32mif\u001b[0m \u001b[0mself\u001b[0m\u001b[0;34m.\u001b[0m\u001b[0m_dataset_kind\u001b[0m \u001b[0;34m==\u001b[0m \u001b[0m_DatasetKind\u001b[0m\u001b[0;34m.\u001b[0m\u001b[0mIterable\u001b[0m \u001b[0;32mand\u001b[0m\u001b[0;31m \u001b[0m\u001b[0;31m\\\u001b[0m\u001b[0;34m\u001b[0m\u001b[0;34m\u001b[0m\u001b[0m\n",
      "\u001b[0;32m~/.conda/envs/deepgd/lib/python3.9/site-packages/torch/utils/data/dataloader.py\u001b[0m in \u001b[0;36m_next_data\u001b[0;34m(self)\u001b[0m\n\u001b[1;32m    559\u001b[0m     \u001b[0;32mdef\u001b[0m \u001b[0m_next_data\u001b[0m\u001b[0;34m(\u001b[0m\u001b[0mself\u001b[0m\u001b[0;34m)\u001b[0m\u001b[0;34m:\u001b[0m\u001b[0;34m\u001b[0m\u001b[0;34m\u001b[0m\u001b[0m\n\u001b[1;32m    560\u001b[0m         \u001b[0mindex\u001b[0m \u001b[0;34m=\u001b[0m \u001b[0mself\u001b[0m\u001b[0;34m.\u001b[0m\u001b[0m_next_index\u001b[0m\u001b[0;34m(\u001b[0m\u001b[0;34m)\u001b[0m  \u001b[0;31m# may raise StopIteration\u001b[0m\u001b[0;34m\u001b[0m\u001b[0;34m\u001b[0m\u001b[0m\n\u001b[0;32m--> 561\u001b[0;31m         \u001b[0mdata\u001b[0m \u001b[0;34m=\u001b[0m \u001b[0mself\u001b[0m\u001b[0;34m.\u001b[0m\u001b[0m_dataset_fetcher\u001b[0m\u001b[0;34m.\u001b[0m\u001b[0mfetch\u001b[0m\u001b[0;34m(\u001b[0m\u001b[0mindex\u001b[0m\u001b[0;34m)\u001b[0m  \u001b[0;31m# may raise StopIteration\u001b[0m\u001b[0;34m\u001b[0m\u001b[0;34m\u001b[0m\u001b[0m\n\u001b[0m\u001b[1;32m    562\u001b[0m         \u001b[0;32mif\u001b[0m \u001b[0mself\u001b[0m\u001b[0;34m.\u001b[0m\u001b[0m_pin_memory\u001b[0m\u001b[0;34m:\u001b[0m\u001b[0;34m\u001b[0m\u001b[0;34m\u001b[0m\u001b[0m\n\u001b[1;32m    563\u001b[0m             \u001b[0mdata\u001b[0m \u001b[0;34m=\u001b[0m \u001b[0m_utils\u001b[0m\u001b[0;34m.\u001b[0m\u001b[0mpin_memory\u001b[0m\u001b[0;34m.\u001b[0m\u001b[0mpin_memory\u001b[0m\u001b[0;34m(\u001b[0m\u001b[0mdata\u001b[0m\u001b[0;34m)\u001b[0m\u001b[0;34m\u001b[0m\u001b[0;34m\u001b[0m\u001b[0m\n",
      "\u001b[0;32m~/.conda/envs/deepgd/lib/python3.9/site-packages/torch/utils/data/_utils/fetch.py\u001b[0m in \u001b[0;36mfetch\u001b[0;34m(self, possibly_batched_index)\u001b[0m\n\u001b[1;32m     45\u001b[0m         \u001b[0;32melse\u001b[0m\u001b[0;34m:\u001b[0m\u001b[0;34m\u001b[0m\u001b[0;34m\u001b[0m\u001b[0m\n\u001b[1;32m     46\u001b[0m             \u001b[0mdata\u001b[0m \u001b[0;34m=\u001b[0m \u001b[0mself\u001b[0m\u001b[0;34m.\u001b[0m\u001b[0mdataset\u001b[0m\u001b[0;34m[\u001b[0m\u001b[0mpossibly_batched_index\u001b[0m\u001b[0;34m]\u001b[0m\u001b[0;34m\u001b[0m\u001b[0;34m\u001b[0m\u001b[0m\n\u001b[0;32m---> 47\u001b[0;31m         \u001b[0;32mreturn\u001b[0m \u001b[0mself\u001b[0m\u001b[0;34m.\u001b[0m\u001b[0mcollate_fn\u001b[0m\u001b[0;34m(\u001b[0m\u001b[0mdata\u001b[0m\u001b[0;34m)\u001b[0m\u001b[0;34m\u001b[0m\u001b[0;34m\u001b[0m\u001b[0m\n\u001b[0m",
      "\u001b[0;32m~/.conda/envs/deepgd/lib/python3.9/site-packages/torch_geometric/loader/dataloader.py\u001b[0m in \u001b[0;36m__call__\u001b[0;34m(self, batch)\u001b[0m\n\u001b[1;32m     37\u001b[0m \u001b[0;34m\u001b[0m\u001b[0m\n\u001b[1;32m     38\u001b[0m     \u001b[0;32mdef\u001b[0m \u001b[0m__call__\u001b[0m\u001b[0;34m(\u001b[0m\u001b[0mself\u001b[0m\u001b[0;34m,\u001b[0m \u001b[0mbatch\u001b[0m\u001b[0;34m)\u001b[0m\u001b[0;34m:\u001b[0m\u001b[0;34m\u001b[0m\u001b[0;34m\u001b[0m\u001b[0m\n\u001b[0;32m---> 39\u001b[0;31m         \u001b[0;32mreturn\u001b[0m \u001b[0mself\u001b[0m\u001b[0;34m.\u001b[0m\u001b[0mcollate\u001b[0m\u001b[0;34m(\u001b[0m\u001b[0mbatch\u001b[0m\u001b[0;34m)\u001b[0m\u001b[0;34m\u001b[0m\u001b[0;34m\u001b[0m\u001b[0m\n\u001b[0m\u001b[1;32m     40\u001b[0m \u001b[0;34m\u001b[0m\u001b[0m\n\u001b[1;32m     41\u001b[0m \u001b[0;34m\u001b[0m\u001b[0m\n",
      "\u001b[0;32m~/.conda/envs/deepgd/lib/python3.9/site-packages/torch_geometric/loader/dataloader.py\u001b[0m in \u001b[0;36mcollate\u001b[0;34m(self, batch)\u001b[0m\n\u001b[1;32m     17\u001b[0m         \u001b[0melem\u001b[0m \u001b[0;34m=\u001b[0m \u001b[0mbatch\u001b[0m\u001b[0;34m[\u001b[0m\u001b[0;36m0\u001b[0m\u001b[0;34m]\u001b[0m\u001b[0;34m\u001b[0m\u001b[0;34m\u001b[0m\u001b[0m\n\u001b[1;32m     18\u001b[0m         \u001b[0;32mif\u001b[0m \u001b[0misinstance\u001b[0m\u001b[0;34m(\u001b[0m\u001b[0melem\u001b[0m\u001b[0;34m,\u001b[0m \u001b[0mData\u001b[0m\u001b[0;34m)\u001b[0m \u001b[0;32mor\u001b[0m \u001b[0misinstance\u001b[0m\u001b[0;34m(\u001b[0m\u001b[0melem\u001b[0m\u001b[0;34m,\u001b[0m \u001b[0mHeteroData\u001b[0m\u001b[0;34m)\u001b[0m\u001b[0;34m:\u001b[0m\u001b[0;34m\u001b[0m\u001b[0;34m\u001b[0m\u001b[0m\n\u001b[0;32m---> 19\u001b[0;31m             return Batch.from_data_list(batch, self.follow_batch,\n\u001b[0m\u001b[1;32m     20\u001b[0m                                         self.exclude_keys)\n\u001b[1;32m     21\u001b[0m         \u001b[0;32melif\u001b[0m \u001b[0misinstance\u001b[0m\u001b[0;34m(\u001b[0m\u001b[0melem\u001b[0m\u001b[0;34m,\u001b[0m \u001b[0mtorch\u001b[0m\u001b[0;34m.\u001b[0m\u001b[0mTensor\u001b[0m\u001b[0;34m)\u001b[0m\u001b[0;34m:\u001b[0m\u001b[0;34m\u001b[0m\u001b[0;34m\u001b[0m\u001b[0m\n",
      "\u001b[0;32m~/.conda/envs/deepgd/lib/python3.9/site-packages/torch_geometric/data/batch.py\u001b[0m in \u001b[0;36mfrom_data_list\u001b[0;34m(cls, data_list, follow_batch, exclude_keys)\u001b[0m\n\u001b[1;32m     61\u001b[0m         Will exclude any keys given in :obj:`exclude_keys`.\"\"\"\n\u001b[1;32m     62\u001b[0m \u001b[0;34m\u001b[0m\u001b[0m\n\u001b[0;32m---> 63\u001b[0;31m         batch, slice_dict, inc_dict = collate(\n\u001b[0m\u001b[1;32m     64\u001b[0m             \u001b[0mcls\u001b[0m\u001b[0;34m,\u001b[0m\u001b[0;34m\u001b[0m\u001b[0;34m\u001b[0m\u001b[0m\n\u001b[1;32m     65\u001b[0m             \u001b[0mdata_list\u001b[0m\u001b[0;34m=\u001b[0m\u001b[0mdata_list\u001b[0m\u001b[0;34m,\u001b[0m\u001b[0;34m\u001b[0m\u001b[0;34m\u001b[0m\u001b[0m\n",
      "\u001b[0;32m~/.conda/envs/deepgd/lib/python3.9/site-packages/torch_geometric/data/collate.py\u001b[0m in \u001b[0;36mcollate\u001b[0;34m(cls, data_list, increment, add_batch, follow_batch, exclude_keys)\u001b[0m\n\u001b[1;32m     97\u001b[0m             \u001b[0mrepeats\u001b[0m \u001b[0;34m=\u001b[0m \u001b[0mtorch\u001b[0m\u001b[0;34m.\u001b[0m\u001b[0mtensor\u001b[0m\u001b[0;34m(\u001b[0m\u001b[0;34m[\u001b[0m\u001b[0mstore\u001b[0m\u001b[0;34m.\u001b[0m\u001b[0mnum_nodes\u001b[0m \u001b[0;32mfor\u001b[0m \u001b[0mstore\u001b[0m \u001b[0;32min\u001b[0m \u001b[0mstores\u001b[0m\u001b[0;34m]\u001b[0m\u001b[0;34m)\u001b[0m\u001b[0;34m\u001b[0m\u001b[0;34m\u001b[0m\u001b[0m\n\u001b[1;32m     98\u001b[0m             \u001b[0marange\u001b[0m \u001b[0;34m=\u001b[0m \u001b[0mtorch\u001b[0m\u001b[0;34m.\u001b[0m\u001b[0marange\u001b[0m\u001b[0;34m(\u001b[0m\u001b[0mlen\u001b[0m\u001b[0;34m(\u001b[0m\u001b[0mstores\u001b[0m\u001b[0;34m)\u001b[0m\u001b[0;34m)\u001b[0m\u001b[0;34m\u001b[0m\u001b[0;34m\u001b[0m\u001b[0m\n\u001b[0;32m---> 99\u001b[0;31m             \u001b[0mout_store\u001b[0m\u001b[0;34m.\u001b[0m\u001b[0mbatch\u001b[0m \u001b[0;34m=\u001b[0m \u001b[0marange\u001b[0m\u001b[0;34m.\u001b[0m\u001b[0mrepeat_interleave\u001b[0m\u001b[0;34m(\u001b[0m\u001b[0mrepeats\u001b[0m\u001b[0;34m)\u001b[0m\u001b[0;34m\u001b[0m\u001b[0;34m\u001b[0m\u001b[0m\n\u001b[0m\u001b[1;32m    100\u001b[0m             \u001b[0mout_store\u001b[0m\u001b[0;34m.\u001b[0m\u001b[0mptr\u001b[0m \u001b[0;34m=\u001b[0m \u001b[0mcumsum\u001b[0m\u001b[0;34m(\u001b[0m\u001b[0mrepeats\u001b[0m\u001b[0;34m)\u001b[0m\u001b[0;34m\u001b[0m\u001b[0;34m\u001b[0m\u001b[0m\n\u001b[1;32m    101\u001b[0m \u001b[0;34m\u001b[0m\u001b[0m\n",
      "\u001b[0;31mKeyboardInterrupt\u001b[0m: "
     ]
    }
   ],
   "source": [
    "def train_dis(batch, epoch):\n",
    "    generator.requires_grad_(False)\n",
    "    discriminator.zero_grad()\n",
    "    generator_output = generator(batch)\n",
    "    if config.discriminator.noise.std > 0:\n",
    "        generator_output = generator_output + torch.randn_like(generator_output) * config.discriminator.noise.std * config.discriminator.noise.decay ** epoch\n",
    "    discriminator_loss = get_gan_loss(batch, generator_output, mode='discriminator')\n",
    "    \n",
    "    # train discriminator\n",
    "    discriminator_loss.backward()\n",
    "    discriminator_optimizer.step()\n",
    "\n",
    "    # gradient penalty\n",
    "    if config.gp_weight > 0:\n",
    "        discriminator.zero_grad()\n",
    "        gp_loss = get_gp_loss(batch, generator_output, config.gp_weight)\n",
    "        gp_loss.backward()\n",
    "        discriminator_optimizer.step()\n",
    "\n",
    "    hud['dis_loss'] = format(discriminator_loss.item(), '.2e')\n",
    "    pbar().update()\n",
    "\n",
    "def train_gen(batch, epoch):\n",
    "    generator.requires_grad_(True)\n",
    "    generator.zero_grad()\n",
    "    discriminator.zero_grad()\n",
    "    generator_output = generator(batch)\n",
    "    if config.discriminator.noise.std > 0:\n",
    "        generator_output = generator_output + torch.randn_like(generator_output) * config.discriminator.noise.std * config.discriminator.noise.decay ** epoch\n",
    "    generator_loss = get_gan_loss(batch, generator_output, mode='generator') \n",
    "    \n",
    "    #train generator\n",
    "    generator_loss.backward()\n",
    "    generator_optimizer.step()\n",
    "\n",
    "    with torch.no_grad():\n",
    "        dis_batch = dis_convert(batch, generator_output)\n",
    "        stress = stress_criterion(dis_batch).mean()\n",
    "        critic = discriminator(dis_batch).mean()\n",
    "    hud.append({'gen_loss': format(generator_loss.item(), '.2e'),\n",
    "                'stress': format(stress.item(), '.2e'),\n",
    "                'critic': format(critic.item(), '.2e')})\n",
    "    pbar().update()\n",
    "\n",
    "def cuda_memsafe_map(fn, *iterables, summary=False):\n",
    "    total, failed = 0, 0\n",
    "    iterator = zip(*iterables)\n",
    "    items = None\n",
    "    while True:\n",
    "        try:\n",
    "            items = next(iterator)\n",
    "            yield fn(*items)\n",
    "        except StopIteration:\n",
    "            if summary:\n",
    "                print(f'Iteration finished. {failed} out of {total} failed!')\n",
    "            break\n",
    "        except RuntimeError:\n",
    "            print('CUDA memory overflow! Skip batch...')\n",
    "            del items\n",
    "            failed += 1\n",
    "        torch.cuda.empty_cache()\n",
    "        total += 1\n",
    "    \n",
    "def validate(model, data_loader, criterion=val_criterion):\n",
    "    def val_one_batch(batch):\n",
    "        batch = preprocess_batch(model, batch)\n",
    "        pred = CanonicalizationByStress()(model(batch), batch)\n",
    "        gt = CanonicalizationByStress()(batch.gt_pos, batch)\n",
    "        loss = criterion(pred, batch)\n",
    "        gt_loss = criterion(gt, batch)\n",
    "        spc = (loss - gt_loss) / torch.maximum(torch.maximum(loss, gt_loss), torch.ones_like(loss)*1e-5)\n",
    "        return loss.mean().item(), spc.mean().item()\n",
    "    loss_all, spc_all = zip(*cuda_memsafe_map(val_one_batch, data_loader))\n",
    "    return np.mean(loss_all), np.mean(spc_all)\n",
    "\n",
    "def log(msg):\n",
    "    msg = f\"[{epoch:03}] {msg}\"\n",
    "    print(msg, file=open(paths.log(), \"a\"))\n",
    "    with log_out: \n",
    "        print(msg)\n",
    "\n",
    "print(f\"{'='*10} {config.link} {'='*10}\", file=open(paths.log(), \"a\"))\n",
    "hud = Hud()\n",
    "pbar = Wrapper(tqdm, total=len(train_loader)*2, smoothing=0)\n",
    "plot_out = Output()\n",
    "log_out = Output()\n",
    "tabs = {\"status\": VBox([pbar, hud]), \n",
    "        \"plot\": HBox([plot_out], layout=Layout(height='500px', overflow_y='auto')),\n",
    "        \"log\": HBox([log_out], layout=Layout(height='500px', overflow_y='auto'))}\n",
    "tab_bar = Tab(children=list(tabs.values()))\n",
    "[tab_bar.set_title(i, name) for i, name in enumerate(tabs)]\n",
    "display(tab_bar)\n",
    "while True:\n",
    "    if epoch % config.log_interval == 0:\n",
    "        torch.save(generator.state_dict(), f\"{paths.checkpoints()}/gen_epoch_{epoch}.pt\")\n",
    "        torch.save(generator_optimizer.state_dict(), f\"{paths.checkpoints()}/gen_optim_epoch_{epoch}.pt\")\n",
    "        torch.save(discriminator.state_dict(), f\"{paths.checkpoints()}/dis_epoch_{epoch}.pt\")\n",
    "        torch.save(discriminator_optimizer.state_dict(), f\"{paths.checkpoints()}/dis_optim_epoch_{epoch}.pt\")\n",
    "        generator.eval()\n",
    "        with torch.no_grad():\n",
    "            val_stress, val_stress_spc = validate(model=generator, data_loader=val_loader)\n",
    "            val_xing, val_xing_spc = validate(model=generator, data_loader=val_loader, criterion=xing_criterion)\n",
    "            with plot_out:\n",
    "                fig = plt.figure()\n",
    "                graph_vis(G_list[11100], generator(make_batch(data_list[11100]).to(device)).cpu())\n",
    "                plt.show()\n",
    "        # tensorboard.add_scalars('loss', {'train': train_loss, \n",
    "        #                                  'validation': val_loss}, epoch)\n",
    "        # for i, fn in enumerate(loss_fns):\n",
    "        #     tensorboard.add_scalars(type(fn).__name__, {'train': train_loss_comp[i].item(), \n",
    "        #                                           'validation': val_loss_comp[i].item()}, epoch)\n",
    "        hud.append({\n",
    "            'val_stress': format(val_stress, '.2f'),\n",
    "            'val_stress_spc': format(val_stress_spc, '.2%'),\n",
    "            'val_xing': format(val_xing, '.2f'),\n",
    "            'val_xing_spc': format(val_xing_spc, '.2%'),\n",
    "        })\n",
    "        log(f\"stress={hud.data['val_stress']}({hud.data['val_stress_spc']}) xing={hud.data['val_xing']}({hud.data['val_xing_spc']})\")\n",
    "        \n",
    "    # handle.update(tab_bar)\n",
    "    pbar().reset()\n",
    "    pbar().set_description(desc=f\"[epoch {epoch}/{config.epoch.end}]\")\n",
    "    hud(title=f\"epoch {epoch}\")\n",
    "    generator.train()\n",
    "    discriminator.train()\n",
    "    # proper: proper layout\n",
    "    for _ in range(config.discriminator.repeat):\n",
    "        for batch in train_loader:\n",
    "            train_dis(batch, epoch)\n",
    "            if config.alternate == 'iteration':\n",
    "                train_gen(batch, epoch)\n",
    "\n",
    "    if config.alternate == 'epoch':\n",
    "        for batch in train_loader:\n",
    "            train_gen(batch, epoch)\n",
    "\n",
    "    discriminator_scheduler.step()\n",
    "    generator_scheduler.step()\n",
    "\n",
    "    if epoch == config.epoch.end:\n",
    "        break\n",
    "    epoch += 1"
   ]
  },
  {
   "cell_type": "markdown",
   "metadata": {
    "id": "0qYK_X_hrq9o"
   },
   "source": [
    "# Test"
   ]
  },
  {
   "cell_type": "code",
   "execution_count": 33,
   "metadata": {
    "colab": {
     "base_uri": "https://localhost:8080/"
    },
    "id": "XEvmAtNjWhcY",
    "outputId": "9f4c86a4-a4b0-48f1-cb58-ab3679173184"
   },
   "outputs": [
    {
     "name": "stdout",
     "output_type": "stream",
     "text": [
      "Loading from artifacts/checkpoints/GAN(gan=rgan,data=best(xing,stress),dis=deep,share=8,embed=8,gp=0,lr=1e-2,decay=.98)/gen_epoch_1132.pt...\n"
     ]
    },
    {
     "data": {
      "text/plain": [
       "<All keys matched successfully>"
      ]
     },
     "execution_count": 33,
     "metadata": {},
     "output_type": "execute_result"
    }
   ],
   "source": [
    "test_epoch = -1\n",
    "\n",
    "test_generator = Generator(**config.generator.params[...]).to(device)\n",
    "test_ckpt_epoch = get_ckpt_epoch(paths.checkpoints(), test_epoch)\n",
    "test_ckpt_file = f\"{paths.checkpoints()}/gen_epoch_{test_ckpt_epoch}.pt\"\n",
    "print(f\"Loading from {test_ckpt_file}...\")\n",
    "test_generator.load_state_dict(torch.load(test_ckpt_file, map_location=torch.device(device)))"
   ]
  },
  {
   "cell_type": "code",
   "execution_count": 34,
   "metadata": {
    "colab": {
     "background_save": true,
     "base_uri": "https://localhost:8080/",
     "height": 1000,
     "referenced_widgets": [
      "9b7d18992dbf4a84931f916fbaaa37d8",
      "2c664d7e1e6d474fb87094fc0da270d3",
      "d375f5f82a4645d7b29c541596dc1c7f",
      "ecfa311bb06b4f6fa504598263ff69d3",
      "d1859990877149eab2b414b4e2a0e0c7",
      "d2be6733734844bca3e1db9b49eb1c1e",
      "4d98072bdf674792a13d77e85dd285d1",
      "f7ed92c383d741a0a1cef2536ff2db13",
      "2ba110f835c64ec4b82974996aed10af",
      "09397ceac9014af0aebca848d4d96d48",
      "fd0709f48d6c4527bc00b5f407f3c1b9"
     ]
    },
    "id": "ZubmSTcYrq9o",
    "outputId": "fc2f65a2-2085-43ac-b110-cbfe742318a8",
    "scrolled": true,
    "tags": []
   },
   "outputs": [
    {
     "data": {
      "application/vnd.jupyter.widget-view+json": {
       "model_id": "cc2f9c0079364094816291ba6597c164",
       "version_major": 2,
       "version_minor": 0
      },
      "text/plain": [
       "  0%|          | 0/1000 [00:00<?, ?it/s]"
      ]
     },
     "metadata": {},
     "output_type": "display_data"
    }
   ],
   "source": [
    "rotate = RotateByPrincipalComponents()\n",
    "def test_callback(*, idx, pred, metrics):\n",
    "    # graph_vis(G_list[idx], pred, file_name=f\"{paths.visualization()}/{idx}_{metrics['stress']:.2f}_{metrics['resolution_score']:.2f}.png\")\n",
    "    pred = rotate(torch.tensor(pred), data_list[idx])\n",
    "    graph_vis(G_list[idx], pred)\n",
    "    plt.title(f\"[pred] idx: {idx}, stress: {metrics['stress']:.2f}({metrics['stress_spc']:.2%}), xing: {metrics['xing']:.2f}({metrics['xing_spc']:.2%})\")\n",
    "    plt.show()\n",
    "    gt_pos = rotate(data_list[idx].gt_pos, data_list[idx])\n",
    "    graph_vis(G_list[idx], gt_pos, node_color='orange')\n",
    "    plt.title(f\"[gt] idx: {idx}, stress: {metrics['gt_stress']:.2f}, xing: {metrics['gt_xing']:.2f}\")\n",
    "    plt.show()\n",
    "    \n",
    "test_metrics = test(model=test_generator, \n",
    "                    criteria_list=[], \n",
    "                    dataset=data_list, \n",
    "                    idx_range=range(10000, 11000), \n",
    "#                     callback=test_callback,\n",
    "                    gt_pos=None)\n",
    "pickle.dump(test_metrics, open(paths.metrics(\"test\"), \"wb\"))"
   ]
  },
  {
   "cell_type": "code",
   "execution_count": 35,
   "metadata": {
    "colab": {
     "base_uri": "https://localhost:8080/",
     "height": 318
    },
    "id": "t2rFXIr_PsrJ",
    "outputId": "6a4205b1-4630-4de4-ec72-bdba3d3ea114"
   },
   "outputs": [
    {
     "name": "stdout",
     "output_type": "stream",
     "text": [
      "stress: tensor(362.4782)\n",
      "stress_spc: tensor(0.1176, dtype=torch.float64)\n",
      "xing: tensor(30.4510)\n",
      "xing_spc: tensor(0.2441, dtype=torch.float64)\n",
      "l1_angle: tensor(82.8329)\n",
      "l1_angle_spc: tensor(0.0715, dtype=torch.float64)\n",
      "edge: tensor(0.1670)\n",
      "edge_spc: tensor(0.1742, dtype=torch.float64)\n",
      "ring: tensor(272.6951)\n",
      "ring_spc: tensor(0.0474, dtype=torch.float64)\n",
      "tsne: tensor(0.2233)\n",
      "tsne_spc: tensor(0.1531, dtype=torch.float64)\n",
      "reso_score: tensor(0.5924)\n",
      "min_angle: tensor(4.7554)\n"
     ]
    },
    {
     "data": {
      "text/html": [
       "<style type=\"text/css\">\n",
       "</style>\n",
       "<table id=\"T_e28b3_\">\n",
       "  <thead>\n",
       "    <tr>\n",
       "      <th class=\"blank level0\" >&nbsp;</th>\n",
       "      <th class=\"col_heading level0 col0\" >stress</th>\n",
       "      <th class=\"col_heading level0 col1\" >stress_spc</th>\n",
       "      <th class=\"col_heading level0 col2\" >xing</th>\n",
       "      <th class=\"col_heading level0 col3\" >xing_spc</th>\n",
       "      <th class=\"col_heading level0 col4\" >l1_angle</th>\n",
       "      <th class=\"col_heading level0 col5\" >l1_angle_spc</th>\n",
       "      <th class=\"col_heading level0 col6\" >edge</th>\n",
       "      <th class=\"col_heading level0 col7\" >edge_spc</th>\n",
       "      <th class=\"col_heading level0 col8\" >ring</th>\n",
       "      <th class=\"col_heading level0 col9\" >ring_spc</th>\n",
       "      <th class=\"col_heading level0 col10\" >tsne</th>\n",
       "      <th class=\"col_heading level0 col11\" >tsne_spc</th>\n",
       "      <th class=\"col_heading level0 col12\" >reso_score</th>\n",
       "      <th class=\"col_heading level0 col13\" >min_angle</th>\n",
       "    </tr>\n",
       "  </thead>\n",
       "  <tbody>\n",
       "    <tr>\n",
       "      <th id=\"T_e28b3_level0_row0\" class=\"row_heading level0 row0\" >0</th>\n",
       "      <td id=\"T_e28b3_row0_col0\" class=\"data row0 col0\" >362.48</td>\n",
       "      <td id=\"T_e28b3_row0_col1\" class=\"data row0 col1\" >11.76%</td>\n",
       "      <td id=\"T_e28b3_row0_col2\" class=\"data row0 col2\" >30.45</td>\n",
       "      <td id=\"T_e28b3_row0_col3\" class=\"data row0 col3\" >24.41%</td>\n",
       "      <td id=\"T_e28b3_row0_col4\" class=\"data row0 col4\" >82.83</td>\n",
       "      <td id=\"T_e28b3_row0_col5\" class=\"data row0 col5\" >7.15%</td>\n",
       "      <td id=\"T_e28b3_row0_col6\" class=\"data row0 col6\" >0.17</td>\n",
       "      <td id=\"T_e28b3_row0_col7\" class=\"data row0 col7\" >17.42%</td>\n",
       "      <td id=\"T_e28b3_row0_col8\" class=\"data row0 col8\" >272.70</td>\n",
       "      <td id=\"T_e28b3_row0_col9\" class=\"data row0 col9\" >4.74%</td>\n",
       "      <td id=\"T_e28b3_row0_col10\" class=\"data row0 col10\" >0.22</td>\n",
       "      <td id=\"T_e28b3_row0_col11\" class=\"data row0 col11\" >15.31%</td>\n",
       "      <td id=\"T_e28b3_row0_col12\" class=\"data row0 col12\" >0.59</td>\n",
       "      <td id=\"T_e28b3_row0_col13\" class=\"data row0 col13\" >4.76</td>\n",
       "    </tr>\n",
       "  </tbody>\n",
       "</table>\n"
      ],
      "text/plain": [
       "<pandas.io.formats.style.Styler at 0x2b0931860a90>"
      ]
     },
     "execution_count": 35,
     "metadata": {},
     "output_type": "execute_result"
    }
   ],
   "source": [
    "metrics = test_metrics\n",
    "print('stress:', metrics['stress'].mean())\n",
    "print('stress_spc:', metrics['stress_spc'].mean())\n",
    "print('xing:', metrics['xing'].mean())\n",
    "print('xing_spc:', metrics['xing_spc'].mean())\n",
    "print('l1_angle:', metrics['l1_angle'].mean())\n",
    "print('l1_angle_spc:', metrics['l1_angle_spc'].mean())\n",
    "print('edge:', metrics['edge'].mean())\n",
    "print('edge_spc:', metrics['edge_spc'].mean())\n",
    "print('ring:', metrics['ring'].mean())\n",
    "print('ring_spc:', metrics['ring_spc'].mean())\n",
    "print('tsne:', metrics['tsne'].mean())\n",
    "print('tsne_spc:', metrics['tsne_spc'].mean())\n",
    "print('reso_score:', metrics['resolution_score'].mean())\n",
    "print('min_angle:', metrics['min_angle'].mean())\n",
    "columns = [\n",
    "    'stress',\n",
    "    'stress_spc',\n",
    "    'xing',\n",
    "    'xing_spc',\n",
    "    'l1_angle',\n",
    "    'l1_angle_spc',\n",
    "    'edge',\n",
    "    'edge_spc',\n",
    "    'ring',\n",
    "    'ring_spc',\n",
    "    'tsne',\n",
    "    'tsne_spc',\n",
    "    'reso_score',\n",
    "    'min_angle'\n",
    "]\n",
    "df = pd.DataFrame(map(lambda m: metrics[m].mean().item(), list(metrics.keys())[:-1])).set_axis(columns).T\n",
    "df.style.format({c: \"{:.2f}\" for c in columns if 'spc' not in c} | {c: \"{:.2%}\" for c in columns if 'spc' in c})"
   ]
  },
  {
   "cell_type": "code",
   "execution_count": 36,
   "metadata": {
    "id": "5e7vPr0M3mmG"
   },
   "outputs": [],
   "source": [
    "metrics = {}"
   ]
  },
  {
   "cell_type": "code",
   "execution_count": 37,
   "metadata": {},
   "outputs": [],
   "source": [
    "methods = ['fa2']"
   ]
  },
  {
   "cell_type": "code",
   "execution_count": 38,
   "metadata": {
    "colab": {
     "base_uri": "https://localhost:8080/",
     "height": 433,
     "referenced_widgets": [
      "a0cf6e046add4e639e52db69656e0db9",
      "8e237731bb1241ac858581b25389c012",
      "0891547293ad4211a138a4d92e01bb0b",
      "34912c8e581e47a99a1c4829c38cb75c",
      "5aa034c99c94424e835a2ee954b829ed",
      "248f6393eff74c3eb8740ca6d698045b",
      "686687a29c7f4ec98c4d76ca2062b14b",
      "996a84d1c23b47e4a2af252c6b60f55d",
      "3507f883bb954412b21c1c5641763ed7",
      "9582a849d91e457cadd514c95d6e1b5b",
      "52bfe674c2c547e09b7400a32a96f703",
      "93d58b3a12394fe1aa6f0431fc7cb0db",
      "af1d7855c9d646b0bcc7d95c4cb147a6",
      "f820e2b898cd461da04a4f651d27273d",
      "c0a112cfaa3d4d0aa9530372de84d8fb",
      "fd03985495694fbf9feb3f31ef8d18ce",
      "e02a2b36aa4c4d6fb5d2ac6693c1a927",
      "06f388ff5e3a48828d465096fe69977b",
      "c0052778c9c940e88935593e9f94b83b",
      "99a5e77a192d4a989c4534237eb16730",
      "77c6da092a6647fc9e54f7e276d75616",
      "8c13c0e8b5934117a662a78296bcb1b6",
      "cdcc3bd4235247b48c468c0f6b7682cc",
      "a2c6fa6fef4549cc853fa93b4b18cf95",
      "15cc02a756314083801b5f6798a1948c",
      "24d1c67fe52f452ab0c767e3c1a818aa",
      "c117db25c6fd484a9d0c7f210ccb1ade",
      "b090b60b61084cf692b3066dfac7f0a8",
      "5eab9848059c491b9c6cbac88683f025",
      "e87ffbaa1f204b52b9226337a506b040",
      "cf52198a9e4b46c7b49537a79919c09e",
      "51501227bc064ccbab97c22a679a0750",
      "d1b794a997dc457888a90bf44faee9b4",
      "21a755b50e5047bea797eccf24b35a0c",
      "16e78c3823ec4faf9f9cd9095b218ff5",
      "4ccd332c6b734acd8eff236eaf568dfa",
      "bd60fd13748347e48629df78fa455765",
      "e9187e4ba80b4fafa0334dae2e39aded",
      "4c39ec7c92b4402e8eedcb27beabaab1",
      "59a8194269f943bba571f710ad856973",
      "8e41bc25b9f348b1b85b381547cd60d1",
      "34d0f1529e64437fb25e639b41096072",
      "7e832c7543df43668eb72c0aa6356349",
      "f94162c9c5fe4c2581e3b80beaeb820b",
      "0284946fccf34607b25e1d6d81d4f72a",
      "8e8d4243a3624ba58d760bdf601d5126",
      "b1f0932594fe44f4be4beb8880172871",
      "820bb554d139437b8f6a6997f9002261",
      "459e375d1fe4497cb4197ef88e303c6d",
      "5726814966da46bbba942a114de4b319",
      "448beea5445f4642809801da46aa7e7c",
      "3746c0f0daf04f51805b4c95db20063a",
      "2ff74d1c705348438a32da37910c3300",
      "52f03147b5ab4cb390f9802b7a17a508",
      "5428511d652a47348203e8f3cd2e076d",
      "7b58569bee2e44c5a61a81f9a32c4c01",
      "c5e05d74b9404333a8155304e3497ba2",
      "3ad4e058bde44d87abab780368d49118",
      "8e437049b5c74ff1beddad93e30b19aa",
      "0c61377f4cc34b27ae34bdd6d976d868",
      "9ce35f9a9a23436ea77604513b5c4659",
      "dafbc43ad79c4feda093aefe490fc4b3",
      "497160b6bf80469a89680a03a468c8bb",
      "3265725ecb914981b6f07f68b8a582df",
      "1f0ac20d99d04ffb9ee75613526d3de6",
      "dee0e5716560483b8e2b107566439d94",
      "ca99841a1abd4fbd94927c49aaa711cb",
      "163a44ff1be04583ae7bd62726c55204",
      "f3b727045a0b4b4fabd147ec9c843e14",
      "7c4b4fe859cf48ab99b7e2780a24a539",
      "d9700cffab66480cb81e3722faab4e8b",
      "2c49acc1e0a64aa4b8ec461b0596848e",
      "691817157f43412f9c36002167606b75",
      "d0ae688d71734b56bb348de54e841798",
      "07a364ebcdaa491dbcc2304e4a8dae96",
      "538b277307b1449eaa79a2a91b4741d3",
      "f7b7dd4cbaa5468687b988c5e416a154",
      "877be862a4f045ec8b221097626becb5",
      "1bf37012df0844338ac689d4f6cc8eab",
      "33fe06641be544d3aab2c25cb979416f",
      "68de0d9261fa4e6999967b6f196d149c",
      "7017c5ba1ffc467495aca2689e516f7d",
      "e0997460cc21428695a0c278c6691baf",
      "522443bef4904996b6361ea265c4c56f",
      "dfe044b67917466f971ba84a11956d5e",
      "70b2d0ba1c1d4102841fb963480de1c7",
      "7b158daacd754a40bc0a48fc9ea6fea2",
      "8904f61ff30741e488eacf0e49440f66",
      "685dee6f1e1f4c2983d2d0b8eb90ed00",
      "005155a4d62d48cbbaf3d69614b08d81",
      "d2779dfa620041e4b32a7731926a5982",
      "53048bf27cb24080b4cdf20379302223",
      "0b5bff7794a14a20964da70b87158c2c",
      "ec664e55ea16435590393ae1617cccea",
      "f10d62ef464a45a7935610d869c282e3",
      "5e7c09bc35db4a3a8b9847c6d8478883",
      "987ea331b617446facc81b08bab1f8c4",
      "446c5a687b0d43358ab036d43ce281c3",
      "d89e216f62ae4a9999da1a91dd5e48b9",
      "09d03e7e66f54cafacefbfeda5fd6e5c",
      "d58c680562a44bbd9252e7ec6eebc06c",
      "71ea2594fdd942acac1cc61055438544",
      "fecda4df301b437f9fbfb61a7b593dc0",
      "bcf6741d926248cb92acf627d6557d2b",
      "5bd9868b9bda4f68b500a43916e2d148",
      "4bc5e02035de44ad827c4f881fd75afc",
      "7d80033a955e4feb947ca9cea931d90b",
      "e975c796d80d498992a50f87a2b0105c",
      "028b2ff105904a19a9a3e8ebf66967bb",
      "10dbf2cbdb1943eda6a0acaf5da3fe85",
      "14d59c7acc5e4e07a289db44406a4851",
      "d9447df93d714907bc9c768eb4910352",
      "d4a9ace081bf488680a7e43e0eaed71d",
      "022a60cde19546bfa6ecfb4947615ad9",
      "10c01207d9ba4fe197dc80717fceecc0",
      "f4995936570d4ba1a65e9a66e410b505",
      "b4bf66303e61491385cd616076a11c04",
      "a24ab2bfe7a44263bf60936d6e53ec32",
      "59e2e8ecc9f84d57af7bf44f5bba5df7",
      "be2eb92aab8045a99fd19195c3546b60",
      "e6715db2b048434796e910952cb5eb62",
      "8de2335007ba4a6b9935fa0c514c9f6a",
      "493a4bbe8057437a8c8acf4d03f8dcb0",
      "20b03955acc74e238695717124705520",
      "a89f9507496b4cf8bdd63bdb9bff79c4",
      "9752a1f6c8b6488d9628b8e0c023f10f",
      "61a0bebc687341a7bb3352febc8d4986",
      "07e0ff9c82a444788c60edee70688ca7",
      "4427901f35e54cc48e08527bb402c22a",
      "bd9dafb825954091ba975d71ab8c89ea",
      "7ec0f07bfe51484da38c18dc66d77804",
      "03943afebc4d4b668b54c7a0fd014a37",
      "a7a6b38a76424d738146b6a5786cf2c8",
      "1d1aa4729784470584c0001c1a296008",
      "e0c68ac9b5b442eeb77e6d9ea3c1da42",
      "c858ef9fd9324ab0ab885d85e3c8582f",
      "627bc2899c994a0c96c5d43e89dc77ff",
      "0e2c2f21fa8041038151170992ecb848",
      "2d9bcbf7629a4671bf8755e790276eb7",
      "77a4edf6ab1848a6a6df20c1c07358c6",
      "acf2212d6bb44c729b63281a98377095",
      "0c7a72818da3454190bab7f30a29e249",
      "d865af915b8b4aaa8cec8d40f1f8351d"
     ]
    },
    "id": "s1UnzfID4Ai6",
    "outputId": "3e204e76-68fd-4111-f527-91f6e3b7a3ca"
   },
   "outputs": [
    {
     "data": {
      "application/vnd.jupyter.widget-view+json": {
       "model_id": "9f3d74825b9042ebb6958aa296cd2e1a",
       "version_major": 2,
       "version_minor": 0
      },
      "text/plain": [
       "  0%|          | 0/1000 [00:00<?, ?it/s]"
      ]
     },
     "metadata": {},
     "output_type": "display_data"
    }
   ],
   "source": [
    "for m in methods:\n",
    "    metrics[m] = test(model=test_generator, \n",
    "                      criteria_list=[], \n",
    "                      dataset=data_list, \n",
    "                      idx_range=range(10000, 11000), \n",
    "                      callback=None,\n",
    "                      gt_pos=load_pos(m))"
   ]
  },
  {
   "cell_type": "code",
   "execution_count": 39,
   "metadata": {
    "id": "dQ7hdCtk5u6K"
   },
   "outputs": [],
   "source": [
    "mean_metrics = {key : list(map(lambda m: metrics[key][m].mean().item(), list(metrics[key].keys())[:-1])) for key in metrics}"
   ]
  },
  {
   "cell_type": "code",
   "execution_count": 40,
   "metadata": {
    "colab": {
     "base_uri": "https://localhost:8080/",
     "height": 313
    },
    "id": "OGyaCmLXTuvA",
    "outputId": "6c42d9f3-9869-4504-bc9c-d0eedaecfd90"
   },
   "outputs": [
    {
     "data": {
      "text/html": [
       "<style type=\"text/css\">\n",
       "</style>\n",
       "<table id=\"T_562bb_\">\n",
       "  <thead>\n",
       "    <tr>\n",
       "      <th class=\"blank level0\" >&nbsp;</th>\n",
       "      <th class=\"col_heading level0 col0\" >stress</th>\n",
       "      <th class=\"col_heading level0 col1\" >stress_spc</th>\n",
       "      <th class=\"col_heading level0 col2\" >xing</th>\n",
       "      <th class=\"col_heading level0 col3\" >xing_spc</th>\n",
       "      <th class=\"col_heading level0 col4\" >l1_angle</th>\n",
       "      <th class=\"col_heading level0 col5\" >l1_angle_spc</th>\n",
       "      <th class=\"col_heading level0 col6\" >edge</th>\n",
       "      <th class=\"col_heading level0 col7\" >edge_spc</th>\n",
       "      <th class=\"col_heading level0 col8\" >ring</th>\n",
       "      <th class=\"col_heading level0 col9\" >ring_spc</th>\n",
       "      <th class=\"col_heading level0 col10\" >tsne</th>\n",
       "      <th class=\"col_heading level0 col11\" >tsne_spc</th>\n",
       "      <th class=\"col_heading level0 col12\" >reso_score</th>\n",
       "      <th class=\"col_heading level0 col13\" >min_angle</th>\n",
       "    </tr>\n",
       "  </thead>\n",
       "  <tbody>\n",
       "    <tr>\n",
       "      <th id=\"T_562bb_level0_row0\" class=\"row_heading level0 row0\" >fa2</th>\n",
       "      <td id=\"T_562bb_row0_col0\" class=\"data row0 col0\" >362.47</td>\n",
       "      <td id=\"T_562bb_row0_col1\" class=\"data row0 col1\" >-2.59%</td>\n",
       "      <td id=\"T_562bb_row0_col2\" class=\"data row0 col2\" >30.50</td>\n",
       "      <td id=\"T_562bb_row0_col3\" class=\"data row0 col3\" >12.47%</td>\n",
       "      <td id=\"T_562bb_row0_col4\" class=\"data row0 col4\" >82.84</td>\n",
       "      <td id=\"T_562bb_row0_col5\" class=\"data row0 col5\" >10.42%</td>\n",
       "      <td id=\"T_562bb_row0_col6\" class=\"data row0 col6\" >0.17</td>\n",
       "      <td id=\"T_562bb_row0_col7\" class=\"data row0 col7\" >-10.20%</td>\n",
       "      <td id=\"T_562bb_row0_col8\" class=\"data row0 col8\" >272.70</td>\n",
       "      <td id=\"T_562bb_row0_col9\" class=\"data row0 col9\" >3.24%</td>\n",
       "      <td id=\"T_562bb_row0_col10\" class=\"data row0 col10\" >0.22</td>\n",
       "      <td id=\"T_562bb_row0_col11\" class=\"data row0 col11\" >12.67%</td>\n",
       "      <td id=\"T_562bb_row0_col12\" class=\"data row0 col12\" >0.59</td>\n",
       "      <td id=\"T_562bb_row0_col13\" class=\"data row0 col13\" >4.68</td>\n",
       "    </tr>\n",
       "  </tbody>\n",
       "</table>\n"
      ],
      "text/plain": [
       "<pandas.io.formats.style.Styler at 0x2b093149d340>"
      ]
     },
     "execution_count": 40,
     "metadata": {},
     "output_type": "execute_result"
    }
   ],
   "source": [
    "columns = [\n",
    "    'stress',\n",
    "    'stress_spc',\n",
    "    'xing',\n",
    "    'xing_spc',\n",
    "    'l1_angle',\n",
    "    'l1_angle_spc',\n",
    "    'edge',\n",
    "    'edge_spc',\n",
    "    'ring',\n",
    "    'ring_spc',\n",
    "    'tsne',\n",
    "    'tsne_spc',\n",
    "    'reso_score',\n",
    "    'min_angle'\n",
    "]\n",
    "df = pd.DataFrame(mean_metrics).set_axis(columns).T\n",
    "df.style.format({c: \"{:.2f}\" for c in columns if 'spc' not in c} | {c: \"{:.2%}\" for c in columns if 'spc' in c})"
   ]
  },
  {
   "cell_type": "markdown",
   "metadata": {
    "id": "L5S1HWnHOWIl"
   },
   "source": [
    "# Large Graph"
   ]
  },
  {
   "cell_type": "code",
   "execution_count": null,
   "metadata": {
    "id": "_pefPcV1OZdD"
   },
   "outputs": [],
   "source": [
    "scalability = pd.read_csv(f\"/__artifacts__/data/scalability.csv\", index_col=\"index\")\n",
    "scalability"
   ]
  },
  {
   "cell_type": "code",
   "execution_count": null,
   "metadata": {
    "id": "oMhWAsdvPnTX"
   },
   "outputs": [],
   "source": [
    "rescale = CanonicalizationByStress()\n",
    "stressfn = Stress()\n",
    "rotate = RotateByPrincipalComponents()"
   ]
  },
  {
   "cell_type": "code",
   "execution_count": null,
   "metadata": {
    "id": "LR83OcAaPID5"
   },
   "outputs": [],
   "source": [
    "stress_list = []\n",
    "spc_list = []\n",
    "pmds_list = np.load(\"layouts/new_large_graph/pmds.npy\", allow_pickle=True)\n",
    "gviz_list = np.load(\"layouts/new_large_graph/gviz.npy\", allow_pickle=True)\n",
    "with torch.no_grad():\n",
    "    for idx, col in tqdm(scalability.iterrows(), total=len(scalability)):\n",
    "        # if idx not in [406, 516]: continue\n",
    "        torch.cuda.empty_cache()\n",
    "        G = load_mtx(col['file'])\n",
    "        G.remove_edges_from(nx.selfloop_edges(G))\n",
    "        data = generate_data_list(G, \n",
    "                                sparse=data_config.sparse, \n",
    "                                pivot_mode=data_config.pivot,\n",
    "                                init_mode=data_config.init,\n",
    "                                edge_index=data_config.edge.index,\n",
    "                                edge_attr=data_config.edge.attr,\n",
    "                                pmds_list=pmds_list[idx],\n",
    "                                gviz_list=gviz_list[idx],\n",
    "                                device=device)\n",
    "        batch = Batch.from_data_list([data]).to(device)\n",
    "        # generator.train()\n",
    "        # generator(batch)\n",
    "        generator.eval()\n",
    "        pred = generator(batch)\n",
    "        pos = rotate(rescale(pred, batch), batch)\n",
    "        gt = rotate(rescale(batch.gt_pos, batch), batch)\n",
    "        stress = stressfn(pos, batch).item()\n",
    "        gt_stress = stressfn(gt, batch).item()\n",
    "        spc = (stress - gt_stress) / np.maximum(stress, gt_stress)\n",
    "        stress_list.append(stress)\n",
    "        spc_list.append(spc)\n",
    "\n",
    "        np.save(f\"/__artifacts__/gan_result/data/scalability_{idx}.npy\", pos.cpu().numpy())\n",
    "        graph_attr = dict(node_size=1, \n",
    "                        with_labels=False, \n",
    "                        labels=dict(zip(list(G.nodes), map(lambda n: n if type(n) is int else n[1:], list(G.nodes)))),\n",
    "                        font_color=\"white\", \n",
    "                        font_weight=\"bold\",\n",
    "                        font_size=12,\n",
    "                        width=0.1)\n",
    "\n",
    "        # gt_pos = pickle.load(open(f\"/__artifacts__/data/scalability_{idx}_gt.pkl\", \"rb\"))\n",
    "\n",
    "        plt.figure(figsize=[12, 9])\n",
    "        nx.draw(G, pos=gt.cpu().numpy(), node_color='orange', **graph_attr)\n",
    "        plt.title(f\"neato: large_{idx}\")\n",
    "        plt.axis(\"equal\")\n",
    "        plt.savefig(f\"/__artifacts__/gan_result/output/{idx}_{col['name']}_{col['n']}_{spc}_nx.png\", dpi=300)\n",
    "        plt.show()\n",
    "\n",
    "        plt.figure(figsize=[12, 9])\n",
    "        graph_vis(G, pos.cpu().numpy(), **graph_attr)\n",
    "        plt.title(f\"dgd: large_{idx}, spc={spc:.2%}\")\n",
    "        plt.axis(\"equal\")\n",
    "        plt.savefig(f\"/__artifacts__/gan_result/output/{idx}_{col['name']}_{col['n']}_{spc}_dgd.png\", dpi=300)\n",
    "        plt.show()"
   ]
  },
  {
   "cell_type": "code",
   "execution_count": null,
   "metadata": {
    "id": "gRXTewkYeuq1"
   },
   "outputs": [],
   "source": []
  }
 ],
 "metadata": {
  "accelerator": "GPU",
  "colab": {
   "collapsed_sections": [
    "w_p3OD0woiSM",
    "DR6-vYtr_i_P",
    "innqkwvH_ydD",
    "f-ODE2k8BFV6",
    "N39dDHraedM6"
   ],
   "machine_shape": "hm",
   "name": "GAN(gan=rgan,data=best(xing,stress),dis=deep,share=16,embed=0,gp=0).ipynb",
   "provenance": []
  },
  "kernelspec": {
   "display_name": "DeepGD",
   "language": "python",
   "name": "deepgd"
  },
  "language_info": {
   "codemirror_mode": {
    "name": "ipython",
    "version": 3
   },
   "file_extension": ".py",
   "mimetype": "text/x-python",
   "name": "python",
   "nbconvert_exporter": "python",
   "pygments_lexer": "ipython3",
   "version": "3.9.7"
  },
  "widgets": {
   "application/vnd.jupyter.widget-state+json": {
    "state": {
     "0494050ec2984dfc9139761cc91b6a49": {
      "model_module": "@jupyter-widgets/base",
      "model_module_version": "1.2.0",
      "model_name": "LayoutModel",
      "state": {}
     },
     "06bf4e0224434f168860cd2b6ccca684": {
      "model_module": "@jupyter-widgets/base",
      "model_module_version": "1.2.0",
      "model_name": "LayoutModel",
      "state": {
       "height": "500px",
       "overflow_y": "auto"
      }
     },
     "07332acf05214f32aa4986c429f3957d": {
      "model_module": "@jupyter-widgets/base",
      "model_module_version": "1.2.0",
      "model_name": "LayoutModel",
      "state": {}
     },
     "096444ba15c84c2ba84e305abdfc665d": {
      "model_module": "@jupyter-widgets/controls",
      "model_module_version": "1.5.0",
      "model_name": "DescriptionStyleModel",
      "state": {
       "description_width": ""
      }
     },
     "09ec9bb4c7034fa5a081ab708eaf442c": {
      "model_module": "@jupyter-widgets/base",
      "model_module_version": "1.2.0",
      "model_name": "LayoutModel",
      "state": {}
     },
     "1102a07e880648c5978aa557b28e296c": {
      "model_module": "@jupyter-widgets/controls",
      "model_module_version": "1.5.0",
      "model_name": "FloatProgressModel",
      "state": {
       "bar_style": "success",
       "layout": "IPY_MODEL_289b105157c149b3b00a0d041dadf236",
       "max": 1000,
       "style": "IPY_MODEL_733ad1dd096c499582c7762a298c83d2",
       "value": 1000
      }
     },
     "120c2e9d3e03407581faefa43ff2a56b": {
      "model_module": "@jupyter-widgets/controls",
      "model_module_version": "1.5.0",
      "model_name": "FloatProgressModel",
      "state": {
       "layout": "IPY_MODEL_37921dc33ab64e62befdee63e69b9931",
       "max": 834,
       "style": "IPY_MODEL_8971ddf3b6d144e699129592ae4bffb7",
       "value": 88
      }
     },
     "127a9253f2fb47bd9357f2b8ece87e9a": {
      "model_module": "@jupyter-widgets/base",
      "model_module_version": "1.2.0",
      "model_name": "LayoutModel",
      "state": {
       "height": "500px",
       "overflow_y": "auto"
      }
     },
     "1327f951f69a40df8a80fb5f1453e373": {
      "model_module": "@jupyter-widgets/base",
      "model_module_version": "1.2.0",
      "model_name": "LayoutModel",
      "state": {}
     },
     "1434c1e3001243159aa6063d40690b4e": {
      "model_module": "@jupyter-widgets/output",
      "model_module_version": "1.0.0",
      "model_name": "OutputModel",
      "state": {
       "layout": "IPY_MODEL_5e85f108aafb411297362a6e70df9823",
       "outputs": [
        {
         "data": {
          "image/png": "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\n",
          "text/plain": "<Figure size 432x288 with 1 Axes>"
         },
         "metadata": {},
         "output_type": "display_data"
        }
       ]
      }
     },
     "19cf6a5db6e245829d18404b5e8bafc4": {
      "model_module": "@jupyter-widgets/base",
      "model_module_version": "1.2.0",
      "model_name": "LayoutModel",
      "state": {}
     },
     "1bd9a9158bf2400fa08057a9c6600aaf": {
      "model_module": "@jupyter-widgets/controls",
      "model_module_version": "1.5.0",
      "model_name": "HTMLModel",
      "state": {
       "layout": "IPY_MODEL_1c799612f94e47409727bab59cbd0809",
       "style": "IPY_MODEL_d263852c447246e5b52b041d050ef97b",
       "value": "[epoch 1132/None]:  11%"
      }
     },
     "1c799612f94e47409727bab59cbd0809": {
      "model_module": "@jupyter-widgets/base",
      "model_module_version": "1.2.0",
      "model_name": "LayoutModel",
      "state": {}
     },
     "1e795f0ff6e945dca4c439803fa89ffd": {
      "model_module": "@jupyter-widgets/controls",
      "model_module_version": "1.5.0",
      "model_name": "ProgressStyleModel",
      "state": {
       "description_width": ""
      }
     },
     "257b2905a0ff4aa5a009b7d55881731d": {
      "model_module": "@jupyter-widgets/base",
      "model_module_version": "1.2.0",
      "model_name": "LayoutModel",
      "state": {}
     },
     "289b105157c149b3b00a0d041dadf236": {
      "model_module": "@jupyter-widgets/base",
      "model_module_version": "1.2.0",
      "model_name": "LayoutModel",
      "state": {}
     },
     "2c48e97e2a7f4355a0c85102a8685f34": {
      "model_module": "@jupyter-widgets/controls",
      "model_module_version": "1.5.0",
      "model_name": "DescriptionStyleModel",
      "state": {
       "description_width": ""
      }
     },
     "2c842247af5d4386822670a157462d20": {
      "model_module": "@jupyter-widgets/base",
      "model_module_version": "1.2.0",
      "model_name": "LayoutModel",
      "state": {}
     },
     "37921dc33ab64e62befdee63e69b9931": {
      "model_module": "@jupyter-widgets/base",
      "model_module_version": "1.2.0",
      "model_name": "LayoutModel",
      "state": {}
     },
     "443f7382c1e745e2a7780c4798d34cb0": {
      "model_module": "@jupyter-widgets/controls",
      "model_module_version": "1.5.0",
      "model_name": "HTMLModel",
      "state": {
       "layout": "IPY_MODEL_5c3075963fdd46779b7ef5b83b18e9b6",
       "style": "IPY_MODEL_ebbdac1cfde84b00aac62d9e679d2324",
       "value": " 1000/1000 [00:47&lt;00:00, 21.61it/s]"
      }
     },
     "451ad0e746184c11b44353e3a9a71225": {
      "model_module": "@jupyter-widgets/controls",
      "model_module_version": "1.5.0",
      "model_name": "FloatProgressModel",
      "state": {
       "bar_style": "success",
       "layout": "IPY_MODEL_e974e32017684809b9a8f08d02fdfac1",
       "max": 11531,
       "style": "IPY_MODEL_5edb473a18fc4c258d2538071bdc4e66",
       "value": 11531
      }
     },
     "5963ac8e9d0440a4847b265523133d45": {
      "model_module": "@jupyter-widgets/controls",
      "model_module_version": "1.5.0",
      "model_name": "DescriptionStyleModel",
      "state": {
       "description_width": ""
      }
     },
     "5c3075963fdd46779b7ef5b83b18e9b6": {
      "model_module": "@jupyter-widgets/base",
      "model_module_version": "1.2.0",
      "model_name": "LayoutModel",
      "state": {}
     },
     "5c36b85d9a504f0380f34c4f78cdd247": {
      "model_module": "@jupyter-widgets/base",
      "model_module_version": "1.2.0",
      "model_name": "LayoutModel",
      "state": {}
     },
     "5d073969f1c04c0bbdb732cbe53fd9f6": {
      "model_module": "@jupyter-widgets/controls",
      "model_module_version": "1.5.0",
      "model_name": "HTMLModel",
      "state": {
       "layout": "IPY_MODEL_85f6b503194343e4ae049272631a918a",
       "style": "IPY_MODEL_e195eb7c6dc24579aee6ca008972c6f6",
       "value": " 88/834 [00:13&lt;01:50,  6.74it/s]"
      }
     },
     "5e85f108aafb411297362a6e70df9823": {
      "model_module": "@jupyter-widgets/base",
      "model_module_version": "1.2.0",
      "model_name": "LayoutModel",
      "state": {}
     },
     "5edb473a18fc4c258d2538071bdc4e66": {
      "model_module": "@jupyter-widgets/controls",
      "model_module_version": "1.5.0",
      "model_name": "ProgressStyleModel",
      "state": {
       "description_width": ""
      }
     },
     "661ae06867e441eaaeb6091591ae5b47": {
      "model_module": "@jupyter-widgets/controls",
      "model_module_version": "1.5.0",
      "model_name": "DescriptionStyleModel",
      "state": {
       "description_width": ""
      }
     },
     "733ad1dd096c499582c7762a298c83d2": {
      "model_module": "@jupyter-widgets/controls",
      "model_module_version": "1.5.0",
      "model_name": "ProgressStyleModel",
      "state": {
       "description_width": ""
      }
     },
     "7851294c59d94614831ce47bfb3ac181": {
      "model_module": "@jupyter-widgets/base",
      "model_module_version": "1.2.0",
      "model_name": "LayoutModel",
      "state": {}
     },
     "80574543bae2436f82fa4b9a2dc3da9a": {
      "model_module": "@jupyter-widgets/output",
      "model_module_version": "1.0.0",
      "model_name": "OutputModel",
      "state": {
       "layout": "IPY_MODEL_1327f951f69a40df8a80fb5f1453e373",
       "outputs": [
        {
         "data": {
          "application/vnd.jupyter.widget-view+json": {
           "model_id": "d96a03d41d884a83bcdc0c17a26e6a00",
           "version_major": 2,
           "version_minor": 0
          },
          "text/plain": "  0%|          | 0/834 [00:00<?, ?it/s]"
         },
         "metadata": {},
         "output_type": "display_data"
        }
       ]
      }
     },
     "82fea63ddde543b49c563fbd9128cf78": {
      "model_module": "@jupyter-widgets/controls",
      "model_module_version": "1.5.0",
      "model_name": "HBoxModel",
      "state": {
       "children": [
        "IPY_MODEL_1434c1e3001243159aa6063d40690b4e"
       ],
       "layout": "IPY_MODEL_127a9253f2fb47bd9357f2b8ece87e9a"
      }
     },
     "85f6b503194343e4ae049272631a918a": {
      "model_module": "@jupyter-widgets/base",
      "model_module_version": "1.2.0",
      "model_name": "LayoutModel",
      "state": {}
     },
     "88d4baddceae4a52b596ac5ecb91a08c": {
      "model_module": "@jupyter-widgets/controls",
      "model_module_version": "1.5.0",
      "model_name": "VBoxModel",
      "state": {
       "children": [
        "IPY_MODEL_80574543bae2436f82fa4b9a2dc3da9a",
        "IPY_MODEL_b0a53ba656dc43ebabe47bdb0f571755"
       ],
       "layout": "IPY_MODEL_8b22faa0adc04e549ce107240e162016"
      }
     },
     "8971ddf3b6d144e699129592ae4bffb7": {
      "model_module": "@jupyter-widgets/controls",
      "model_module_version": "1.5.0",
      "model_name": "ProgressStyleModel",
      "state": {
       "description_width": ""
      }
     },
     "8b22faa0adc04e549ce107240e162016": {
      "model_module": "@jupyter-widgets/base",
      "model_module_version": "1.2.0",
      "model_name": "LayoutModel",
      "state": {}
     },
     "91e63e79f20c414eb194175e1175a9d5": {
      "model_module": "@jupyter-widgets/controls",
      "model_module_version": "1.5.0",
      "model_name": "HBoxModel",
      "state": {
       "children": [
        "IPY_MODEL_bc233f7320a646b5914d8284bf066d2e"
       ],
       "layout": "IPY_MODEL_06bf4e0224434f168860cd2b6ccca684"
      }
     },
     "924c4cd3adf8457bb0ea9f4b17c0bdcc": {
      "model_module": "@jupyter-widgets/base",
      "model_module_version": "1.2.0",
      "model_name": "LayoutModel",
      "state": {}
     },
     "9f3d74825b9042ebb6958aa296cd2e1a": {
      "model_module": "@jupyter-widgets/controls",
      "model_module_version": "1.5.0",
      "model_name": "HBoxModel",
      "state": {
       "children": [
        "IPY_MODEL_adbab40dcb054357bc5882e0f927b0d2",
        "IPY_MODEL_cf8a9475fcc04b8f8767e2984d847260",
        "IPY_MODEL_443f7382c1e745e2a7780c4798d34cb0"
       ],
       "layout": "IPY_MODEL_0494050ec2984dfc9139761cc91b6a49"
      }
     },
     "a51038f5d54a48e5b471fd3bb3bd682e": {
      "model_module": "@jupyter-widgets/controls",
      "model_module_version": "1.5.0",
      "model_name": "HTMLModel",
      "state": {
       "layout": "IPY_MODEL_e27800dedc0f4d249399abc716b11dbd",
       "style": "IPY_MODEL_661ae06867e441eaaeb6091591ae5b47",
       "value": "100%"
      }
     },
     "adbab40dcb054357bc5882e0f927b0d2": {
      "model_module": "@jupyter-widgets/controls",
      "model_module_version": "1.5.0",
      "model_name": "HTMLModel",
      "state": {
       "layout": "IPY_MODEL_19cf6a5db6e245829d18404b5e8bafc4",
       "style": "IPY_MODEL_5963ac8e9d0440a4847b265523133d45",
       "value": "100%"
      }
     },
     "b0a53ba656dc43ebabe47bdb0f571755": {
      "model_module": "@jupyter-widgets/output",
      "model_module_version": "1.0.0",
      "model_name": "OutputModel",
      "state": {
       "layout": "IPY_MODEL_f34c1dab5b4a4d4f9220533e4340e37f",
       "outputs": [
        {
         "data": {
          "text/html": "<div>\n<style scoped>\n    .dataframe tbody tr th:only-of-type {\n        vertical-align: middle;\n    }\n\n    .dataframe tbody tr th {\n        vertical-align: top;\n    }\n\n    .dataframe thead th {\n        text-align: right;\n    }\n</style>\n<table border=\"1\" class=\"dataframe\">\n  <thead>\n    <tr style=\"text-align: right;\">\n      <th></th>\n      <th>val_stress</th>\n      <th>val_stress_spc</th>\n      <th>val_xing</th>\n      <th>val_xing_spc</th>\n      <th>dis_loss</th>\n    </tr>\n  </thead>\n  <tbody>\n    <tr>\n      <th>epoch 1132</th>\n      <td>405.48</td>\n      <td>12.56%</td>\n      <td>34.78</td>\n      <td>24.19%</td>\n      <td>1.81e-01</td>\n    </tr>\n  </tbody>\n</table>\n</div>",
          "text/plain": "           val_stress val_stress_spc val_xing val_xing_spc  dis_loss\nepoch 1132     405.48         12.56%    34.78       24.19%  1.81e-01"
         },
         "metadata": {},
         "output_type": "display_data"
        }
       ]
      }
     },
     "b664ba22eb1947efb929728dd061ebc4": {
      "model_module": "@jupyter-widgets/controls",
      "model_module_version": "1.5.0",
      "model_name": "TabModel",
      "state": {
       "_titles": {
        "0": "status",
        "1": "plot",
        "2": "log"
       },
       "children": [
        "IPY_MODEL_88d4baddceae4a52b596ac5ecb91a08c",
        "IPY_MODEL_82fea63ddde543b49c563fbd9128cf78",
        "IPY_MODEL_91e63e79f20c414eb194175e1175a9d5"
       ],
       "layout": "IPY_MODEL_07332acf05214f32aa4986c429f3957d"
      }
     },
     "bc233f7320a646b5914d8284bf066d2e": {
      "model_module": "@jupyter-widgets/output",
      "model_module_version": "1.0.0",
      "model_name": "OutputModel",
      "state": {
       "layout": "IPY_MODEL_f88900bf19d94cce9ed1e5ac8bf60f78",
       "outputs": [
        {
         "name": "stdout",
         "output_type": "stream",
         "text": "[1132] stress=405.48(12.56%) xing=34.78(24.19%)\n"
        }
       ]
      }
     },
     "c0543b9964ba4d7c81fe1c83dad279d9": {
      "model_module": "@jupyter-widgets/controls",
      "model_module_version": "1.5.0",
      "model_name": "HBoxModel",
      "state": {
       "children": [
        "IPY_MODEL_a51038f5d54a48e5b471fd3bb3bd682e",
        "IPY_MODEL_451ad0e746184c11b44353e3a9a71225",
        "IPY_MODEL_e8c3417cd8594e42ae739cb9494816e5"
       ],
       "layout": "IPY_MODEL_257b2905a0ff4aa5a009b7d55881731d"
      }
     },
     "cc2f9c0079364094816291ba6597c164": {
      "model_module": "@jupyter-widgets/controls",
      "model_module_version": "1.5.0",
      "model_name": "HBoxModel",
      "state": {
       "children": [
        "IPY_MODEL_f91f1309c9ef4b828674b18db0c5ae18",
        "IPY_MODEL_1102a07e880648c5978aa557b28e296c",
        "IPY_MODEL_eac0d079bb17407eaebd2c47204b263b"
       ],
       "layout": "IPY_MODEL_924c4cd3adf8457bb0ea9f4b17c0bdcc"
      }
     },
     "ce196d66a5ab439b8a0df3f9d49428ec": {
      "model_module": "@jupyter-widgets/base",
      "model_module_version": "1.2.0",
      "model_name": "LayoutModel",
      "state": {}
     },
     "cf8a9475fcc04b8f8767e2984d847260": {
      "model_module": "@jupyter-widgets/controls",
      "model_module_version": "1.5.0",
      "model_name": "FloatProgressModel",
      "state": {
       "bar_style": "success",
       "layout": "IPY_MODEL_2c842247af5d4386822670a157462d20",
       "max": 1000,
       "style": "IPY_MODEL_1e795f0ff6e945dca4c439803fa89ffd",
       "value": 1000
      }
     },
     "d263852c447246e5b52b041d050ef97b": {
      "model_module": "@jupyter-widgets/controls",
      "model_module_version": "1.5.0",
      "model_name": "DescriptionStyleModel",
      "state": {
       "description_width": ""
      }
     },
     "d96a03d41d884a83bcdc0c17a26e6a00": {
      "model_module": "@jupyter-widgets/controls",
      "model_module_version": "1.5.0",
      "model_name": "HBoxModel",
      "state": {
       "children": [
        "IPY_MODEL_1bd9a9158bf2400fa08057a9c6600aaf",
        "IPY_MODEL_120c2e9d3e03407581faefa43ff2a56b",
        "IPY_MODEL_5d073969f1c04c0bbdb732cbe53fd9f6"
       ],
       "layout": "IPY_MODEL_ce196d66a5ab439b8a0df3f9d49428ec"
      }
     },
     "e195eb7c6dc24579aee6ca008972c6f6": {
      "model_module": "@jupyter-widgets/controls",
      "model_module_version": "1.5.0",
      "model_name": "DescriptionStyleModel",
      "state": {
       "description_width": ""
      }
     },
     "e27800dedc0f4d249399abc716b11dbd": {
      "model_module": "@jupyter-widgets/base",
      "model_module_version": "1.2.0",
      "model_name": "LayoutModel",
      "state": {}
     },
     "e8c3417cd8594e42ae739cb9494816e5": {
      "model_module": "@jupyter-widgets/controls",
      "model_module_version": "1.5.0",
      "model_name": "HTMLModel",
      "state": {
       "layout": "IPY_MODEL_7851294c59d94614831ce47bfb3ac181",
       "style": "IPY_MODEL_2c48e97e2a7f4355a0c85102a8685f34",
       "value": " 11531/11531 [00:00&lt;00:00, 52471.54it/s]"
      }
     },
     "e974e32017684809b9a8f08d02fdfac1": {
      "model_module": "@jupyter-widgets/base",
      "model_module_version": "1.2.0",
      "model_name": "LayoutModel",
      "state": {}
     },
     "eac0d079bb17407eaebd2c47204b263b": {
      "model_module": "@jupyter-widgets/controls",
      "model_module_version": "1.5.0",
      "model_name": "HTMLModel",
      "state": {
       "layout": "IPY_MODEL_5c36b85d9a504f0380f34c4f78cdd247",
       "style": "IPY_MODEL_faa8314cf4b44f95b83f8f4c59e0739e",
       "value": " 1000/1000 [00:47&lt;00:00, 21.07it/s]"
      }
     },
     "ebbdac1cfde84b00aac62d9e679d2324": {
      "model_module": "@jupyter-widgets/controls",
      "model_module_version": "1.5.0",
      "model_name": "DescriptionStyleModel",
      "state": {
       "description_width": ""
      }
     },
     "f34c1dab5b4a4d4f9220533e4340e37f": {
      "model_module": "@jupyter-widgets/base",
      "model_module_version": "1.2.0",
      "model_name": "LayoutModel",
      "state": {}
     },
     "f88900bf19d94cce9ed1e5ac8bf60f78": {
      "model_module": "@jupyter-widgets/base",
      "model_module_version": "1.2.0",
      "model_name": "LayoutModel",
      "state": {}
     },
     "f91f1309c9ef4b828674b18db0c5ae18": {
      "model_module": "@jupyter-widgets/controls",
      "model_module_version": "1.5.0",
      "model_name": "HTMLModel",
      "state": {
       "layout": "IPY_MODEL_09ec9bb4c7034fa5a081ab708eaf442c",
       "style": "IPY_MODEL_096444ba15c84c2ba84e305abdfc665d",
       "value": "100%"
      }
     },
     "faa8314cf4b44f95b83f8f4c59e0739e": {
      "model_module": "@jupyter-widgets/controls",
      "model_module_version": "1.5.0",
      "model_name": "DescriptionStyleModel",
      "state": {
       "description_width": ""
      }
     }
    },
    "version_major": 2,
    "version_minor": 0
   }
  }
 },
 "nbformat": 4,
 "nbformat_minor": 4
}
