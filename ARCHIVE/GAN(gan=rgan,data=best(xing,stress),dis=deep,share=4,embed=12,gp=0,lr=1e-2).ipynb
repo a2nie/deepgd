{
 "cells": [
  {
   "cell_type": "markdown",
   "metadata": {
    "id": "wZtYFEhHoBGp"
   },
   "source": [
    "# Import libraries"
   ]
  },
  {
   "cell_type": "code",
   "execution_count": 1,
   "metadata": {
    "id": "KJPfzpxLQI5O"
   },
   "outputs": [],
   "source": [
    "%load_ext autoreload\n",
    "%autoreload 2\n",
    "from deepgd import *"
   ]
  },
  {
   "cell_type": "markdown",
   "metadata": {
    "id": "z4eBEyB1oaJe"
   },
   "source": [
    "# Config"
   ]
  },
  {
   "cell_type": "code",
   "execution_count": 2,
   "metadata": {
    "id": "Q_-MLFhpNvxF"
   },
   "outputs": [],
   "source": [
    "cuda_idx = 0\n",
    "canonicalization = Canonicalization(normalize=Standardization(norm_ord=1),\n",
    "                                    scale=False)\n",
    "config = StaticConfig({\n",
    "    \"name\": 'GAN(gan=rgan,data=best(xing,stress),dis=deep,share=4,embed=12,gp=0,lr=1e-2)',\n",
    "    \"uid\": None,\n",
    "    \"link\": None,\n",
    "    \"generator\": {\n",
    "        \"params\": {\n",
    "            \"num_blocks\": 9,\n",
    "            \"normalize\": canonicalization\n",
    "        },\n",
    "        \"pretrained\": {\n",
    "            \"name\": None,\n",
    "            \"epoch\": -1,\n",
    "        },\n",
    "        \"optim\": torch.optim.AdamW,\n",
    "        \"lr\" : {\n",
    "            \"initial\": 1e-2,\n",
    "            \"decay\": 0.99,\n",
    "        },\n",
    "    },\n",
    "    \"discriminator\": {\n",
    "        \"params\": {\n",
    "            \"conv\": [2, 16, 16, 16],\n",
    "            \"dense\": [2],\n",
    "            \"shared_depth\": 4,\n",
    "            \"enet_depth\": 12,\n",
    "            \"enet_width\": 64,\n",
    "            \"aggr\": \"add\",\n",
    "            \"normalize\": canonicalization\n",
    "        },\n",
    "        \"pretrained\": {\n",
    "            \"name\": None,\n",
    "            \"epoch\": -1,\n",
    "        },\n",
    "        \"optim\": torch.optim.AdamW,\n",
    "        \"lr\" : {\n",
    "            \"initial\": 1e-2,\n",
    "            \"decay\": 0.99,\n",
    "        },\n",
    "        \"noise\": {\n",
    "            \"std\": 0,\n",
    "            \"decay\": 0.95,\n",
    "        },\n",
    "        \"repeat\": 1,\n",
    "        \"complete\": True,\n",
    "        \"adaptive\": True\n",
    "    },\n",
    "    \"alternate\": \"epoch\",\n",
    "    \"batchsize\": 24,\n",
    "    \"epoch\": {\n",
    "        \"start\": -1,\n",
    "        \"end\": None,\n",
    "    },\n",
    "    \"log_interval\": 1,\n",
    "    \"test\": {\n",
    "        \"name\": \"test\",\n",
    "        \"epoch\": -1,\n",
    "    },\n",
    "    \"gan_flavor\": \"rgan\",\n",
    "    \"gp_weight\": 0,\n",
    "})\n",
    "data_config = StaticConfig({\n",
    "    \"sparse\": False,\n",
    "    \"pivot\": None,\n",
    "    \"init\": \"pmds\",\n",
    "    \"edge\": {\n",
    "        \"index\": \"full_edge_index\",\n",
    "        \"attr\": \"full_edge_attr\",\n",
    "    },\n",
    "})\n",
    "loss_fns = {\n",
    "    Stress(): 1\n",
    "}\n",
    "ctrler_params = {\n",
    "    \"tau\": 0.95,\n",
    "    \"beta\": 1,\n",
    "    \"exploit_rate\": 0.5,\n",
    "    \"warmup\": 2,\n",
    "}\n",
    "paths = StaticConfig({\n",
    "    \"root\": \"artifacts\",\n",
    "    \"checkpoints\": lambda: f\"{paths.root}/checkpoints/{config.name}\",\n",
    "    \"gen_pretrain\": lambda: f\"{paths.root}/checkpoints/{config.generator.pretrained.name}\",\n",
    "    \"dis_pretrain\": lambda: f\"{paths.root}/checkpoints/{config.discriminator.pretrained.name}\",\n",
    "    \"tensorboard\": lambda: f\"{paths.root}/tensorboards/{config.name}\",\n",
    "    \"visualization\": lambda: f\"{paths.root}/visualizations/{config.name}_{config.test.name}\",\n",
    "    \"log\": lambda: f\"{paths.root}/logs/{config.name}.log\",\n",
    "    \"metrics\": lambda suffix: f\"{paths.root}/metrics/{config.name}_{suffix}.pickle\",\n",
    "})"
   ]
  },
  {
   "cell_type": "code",
   "execution_count": 3,
   "metadata": {
    "id": "mdMEAbH10Qaq"
   },
   "outputs": [],
   "source": [
    "if \" \" in config.name:\n",
    "    raise Exception(\"Space is not allowed in model name.\")"
   ]
  },
  {
   "cell_type": "markdown",
   "metadata": {
    "id": "WynW4ZAdBhep"
   },
   "source": [
    "# Prepare"
   ]
  },
  {
   "cell_type": "markdown",
   "metadata": {
    "id": "DR6-vYtr_i_P"
   },
   "source": [
    "## Get log command"
   ]
  },
  {
   "cell_type": "code",
   "execution_count": 4,
   "metadata": {
    "colab": {
     "base_uri": "https://localhost:8080/"
    },
    "id": "9-QpinlslcTO",
    "outputId": "48ae3716-212c-4d46-9efb-b7b4070f73de"
   },
   "outputs": [
    {
     "name": "stdout",
     "output_type": "stream",
     "text": [
      "cd /users/PAS0027/osu10203/deepgd && tail -n1000 -f 'artifacts/logs/GAN(gan=rgan,data=best(xing,stress),dis=deep,share=4,embed=12,gp=0,lr=1e-2).log'\n"
     ]
    }
   ],
   "source": [
    "print(f\"cd {os.getcwd()} && tail -n1000 -f '{paths.log()}'\")"
   ]
  },
  {
   "cell_type": "code",
   "execution_count": 5,
   "metadata": {},
   "outputs": [
    {
     "name": "stdout",
     "output_type": "stream",
     "text": [
      "tensorboard dev upload --logdir 'artifacts/tensorboards/GAN(gan=rgan,data=best(xing,stress),dis=deep,share=4,embed=12,gp=0,lr=1e-2)'\n"
     ]
    }
   ],
   "source": [
    "print(f\"tensorboard dev upload --logdir '{paths.tensorboard()}'\")"
   ]
  },
  {
   "cell_type": "markdown",
   "metadata": {
    "id": "innqkwvH_ydD"
   },
   "source": [
    "## Set globals"
   ]
  },
  {
   "cell_type": "code",
   "execution_count": 6,
   "metadata": {
    "id": "Qjq7JlSZlkQR"
   },
   "outputs": [],
   "source": [
    "if cuda_idx is not None and torch.cuda.is_available():\n",
    "    device = f'cuda:{cuda_idx}'\n",
    "    pynvml.nvmlInit()\n",
    "    cuda = pynvml.nvmlDeviceGetHandleByIndex(cuda_idx)\n",
    "else:\n",
    "    device = 'cpu'\n",
    "    cuda =  None\n",
    "np.set_printoptions(precision=2)\n",
    "warnings.filterwarnings(\"ignore\", category=RuntimeWarning)"
   ]
  },
  {
   "cell_type": "markdown",
   "metadata": {
    "id": "0da286l_ApEL"
   },
   "source": [
    "## Load data"
   ]
  },
  {
   "cell_type": "code",
   "execution_count": 7,
   "metadata": {
    "colab": {
     "base_uri": "https://localhost:8080/"
    },
    "id": "RFuSHiZJMU4x",
    "outputId": "54065609-aaea-4536-d79c-73bc73b3f576"
   },
   "outputs": [
    {
     "name": "stdout",
     "output_type": "stream",
     "text": [
      "Load from 'cache/G_list.pickle'\n",
      "Load from 'cache/generate_data_list(list,sparse=False,pivot_mode=None,init_mode=pmds,edge_index=full_edge_index,edge_attr=full_edge_attr,pmds_list=ndarray,gviz_list=ndarray,noisy_layout=True,device=cpu).pickle'\n"
     ]
    },
    {
     "name": "stderr",
     "output_type": "stream",
     "text": [
      "/users/PAS0027/osu10203/.conda/envs/deepgd/lib/python3.9/site-packages/torch_geometric/deprecation.py:13: UserWarning: 'data.DataLoader' is deprecated, use 'loader.DataLoader' instead\n",
      "  warnings.warn(out)\n"
     ]
    }
   ],
   "source": [
    "G_list = load_G_list(data_path='data/rome', index_file='data_index.txt', cache='G_list', cache_prefix='cache/')\n",
    "data_list = generate_data_list(G_list, \n",
    "                               sparse=data_config.sparse, \n",
    "                               pivot_mode=data_config.pivot,\n",
    "                               init_mode=data_config.init,\n",
    "                               edge_index=data_config.edge.index,\n",
    "                               edge_attr=data_config.edge.attr,\n",
    "                               pmds_list=np.load('layouts/rome/pmds.npy', allow_pickle=True),\n",
    "                               gviz_list=np.load('layouts/rome/gviz.npy', allow_pickle=True),\n",
    "                               noisy_layout=True,\n",
    "                               device='cpu', \n",
    "                               cache=True,\n",
    "                               cache_prefix='cache/')\n",
    "train_loader = LazyDeviceMappingDataLoader(data_list[:10000], batch_size=config.batchsize, shuffle=True, device=device)\n",
    "val_loader = LazyDeviceMappingDataLoader(data_list[11000:], batch_size=config.batchsize, shuffle=False, device=device)"
   ]
  },
  {
   "cell_type": "code",
   "execution_count": 8,
   "metadata": {
    "id": "djd1pLt2OxZq"
   },
   "outputs": [],
   "source": [
    "def draw_layout(G, method, draw=True):\n",
    "    if method == 'fa2':\n",
    "        layout = get_fa2_layout(G)\n",
    "    else:\n",
    "        try:\n",
    "            fn = getattr(nx.drawing.layout, f'{method}_layout')\n",
    "            layout = fn(G)\n",
    "        except:\n",
    "            layout = nx.drawing.nx_agraph.graphviz_layout(G, prog=method)\n",
    "    if draw:\n",
    "        nx.draw(G, pos=layout)\n",
    "    return layout"
   ]
  },
  {
   "cell_type": "code",
   "execution_count": 9,
   "metadata": {
    "id": "2vBBw77lR7Em"
   },
   "outputs": [],
   "source": [
    "methods = ['neato', 'dot', 'fdp', 'sfdp', 'twopi', 'circo', 'shell', 'spring', 'circular', 'spectral', 'kamada_kawai', 'fa2', 'pmds']"
   ]
  },
  {
   "cell_type": "code",
   "execution_count": 10,
   "metadata": {
    "id": "dx6VVA9XIc2O"
   },
   "outputs": [],
   "source": [
    "from functools import lru_cache\n",
    "\n",
    "@lru_cache(maxsize=None)\n",
    "def load_pos(method):\n",
    "    return np.load(f'layouts/rome/{method}.npy', allow_pickle=True)"
   ]
  },
  {
   "cell_type": "code",
   "execution_count": 11,
   "metadata": {
    "colab": {
     "base_uri": "https://localhost:8080/",
     "height": 1000,
     "referenced_widgets": [
      "05a37aeeb20049dfa2f97287b3990556",
      "a75afae3adfd4810a0b0991a062535ee",
      "a24ae105ed124595992f7e2e5f909247",
      "01b4cabaf8004dd4b9269b4e6889c498",
      "f3c7c84f2b314bd8b97a7358deaf4fa1",
      "35e4a83e692b4a7bafb46fdf192b2586",
      "62847b5e2678459f845159eef6d4feab",
      "143e81f00313436dacfa246a57108944",
      "e05833f11803400b95ff22246cdc8f2b",
      "53aeede91e074378b5d7f626165655ee",
      "79a43768c1794a10a788a49e5883aa2c"
     ]
    },
    "id": "MSmP-jem9I0X",
    "outputId": "c698f0bf-e96e-4de9-aeda-0b046fc0a03f",
    "scrolled": true,
    "tags": []
   },
   "outputs": [],
   "source": [
    "# best_list = []\n",
    "# best_layout_list = []\n",
    "# for idx, (G, data) in enumerate(zip(tqdm(G_list), data_list)):\n",
    "#     xing, stress, layout = {}, {}, {}\n",
    "#     for m in methods:\n",
    "#         batch = Batch.from_data_list([data])\n",
    "#         pos = load_pos(m)\n",
    "#         p = CanonicalizationByStress()(torch.tensor(pos[idx]).float(), batch)\n",
    "#         x = Xing()(p, batch).item()\n",
    "#         s = Stress()(p, batch).item()\n",
    "#         xing[m] = x\n",
    "#         stress[m] = s\n",
    "#         layout[m] = p.numpy()\n",
    "#         # plt.figure()\n",
    "#         # graph_vis(G, pos[idx])\n",
    "#         # plt.title(f'{m} stress={s:.2f} xing={x}')\n",
    "#     best, *_ = sorted(methods, key=lambda m: (xing[m], stress[m]))\n",
    "#     best_list.append(best)\n",
    "#     best_layout_list.append(layout[best])\n",
    "#     print(f'{best}, xing={xing[best]}, stress={stress[best]:.2f}')"
   ]
  },
  {
   "cell_type": "code",
   "execution_count": 12,
   "metadata": {
    "colab": {
     "base_uri": "https://localhost:8080/"
    },
    "id": "Mx2bZNugdTqa",
    "outputId": "cec05a67-18e8-492f-aaa1-057274a8341a"
   },
   "outputs": [],
   "source": [
    "# pickle.dump(best_list, open('layouts/rome/best[xing,stress].pkl', 'wb'))\n",
    "# np.save('layouts/rome/best[xing,stress].npy', best_layout_list)"
   ]
  },
  {
   "cell_type": "code",
   "execution_count": 13,
   "metadata": {
    "colab": {
     "base_uri": "https://localhost:8080/",
     "height": 49,
     "referenced_widgets": [
      "7e0ae84dd0f3458d893c81b029fe1729",
      "18bdc3bf80fb434abde68de5b72a8870",
      "2e3552ded9594635a51832387ae754a0",
      "54f4aa5080c6498080a63be2cdeefee5",
      "3937586d0879451da5e2138ca3bfd0a0",
      "a9df6e84ce8c499eb2b2cf984995d791",
      "7af6b718dd3d4e01b264377a2fa938e2",
      "a774c86e64004bd6951645f1c24abad4",
      "c86575117cd041f2837762f37d1f387b",
      "6e9907cefb1241688fbd248b8281ed9f",
      "9b8e5405d8264944acab57e81f2f5ad6"
     ]
    },
    "id": "A1-w1fspC53p",
    "outputId": "09c2d5c3-1eef-41eb-dcee-581af1294804"
   },
   "outputs": [
    {
     "data": {
      "application/vnd.jupyter.widget-view+json": {
       "model_id": "7bfbaeb1cd924e78ad415d134a0d82c1",
       "version_major": 2,
       "version_minor": 0
      },
      "text/plain": [
       "  0%|          | 0/11531 [00:00<?, ?it/s]"
      ]
     },
     "metadata": {},
     "output_type": "display_data"
    }
   ],
   "source": [
    "best_layout_list = np.load('layouts/rome/best[xing,stress].npy', allow_pickle=True)\n",
    "for data, layout in zip(tqdm(data_list), best_layout_list):\n",
    "    data.gt_pos = torch.tensor(layout)"
   ]
  },
  {
   "cell_type": "code",
   "execution_count": 14,
   "metadata": {
    "id": "y6EGh4U7exL_"
   },
   "outputs": [],
   "source": [
    "train_loader = LazyDeviceMappingDataLoader(data_list[:10000], batch_size=config.batchsize, shuffle=True, device=device)\n",
    "val_loader = LazyDeviceMappingDataLoader(data_list[11000:], batch_size=config.batchsize, shuffle=False, device=device)"
   ]
  },
  {
   "cell_type": "code",
   "execution_count": 15,
   "metadata": {
    "colab": {
     "base_uri": "https://localhost:8080/",
     "height": 103,
     "referenced_widgets": [
      "38a33cf69aff48f4aabd4902a7ce48b1",
      "57e277bcb44c4e2fa2a12105d75153d1",
      "20ce017c46bd4a7c9b420270ac579405",
      "13f2df4fe0ce4af88b6e3bd1637065b0",
      "2867faa145ca4860a198d4d0bf830f89",
      "02838cf669174ed9afa41a1a8e680765",
      "7e9e3c031667455f8baca163d3a213e5",
      "4000135e7dfa46529fa6244fccc5cb57",
      "e523e9faac5b4ec38643c05ac5ba99f7",
      "e8e3ee9741e4480dae5003ccc19a7891",
      "9a569045221b43acb3ba2fbf116b2c74"
     ]
    },
    "id": "YEfRRUK0NiNm",
    "outputId": "93f53d05-7667-4cda-a38e-c3a953124f79"
   },
   "outputs": [],
   "source": [
    "# for m in methods:\n",
    "#     layouts = []\n",
    "#     for G in tqdm(G_list):\n",
    "#         layout = draw_layout(G, method=m, draw=False)\n",
    "#         layouts.append(np.array(list(layout.values())))\n",
    "#     np.save(f'layouts/rome/{m}.npy', layouts)"
   ]
  },
  {
   "cell_type": "code",
   "execution_count": 16,
   "metadata": {
    "colab": {
     "base_uri": "https://localhost:8080/",
     "height": 564
    },
    "id": "upK7AHYqPmC5",
    "outputId": "29a88e61-f55f-409c-9194-12c6d5762528"
   },
   "outputs": [],
   "source": [
    "# from collections import Counter\n",
    "\n",
    "# letter_counts = Counter(best_list)\n",
    "# df = pd.DataFrame.from_dict(letter_counts, orient='index')\n",
    "# df.plot(kind='bar', figsize=[12, 8])"
   ]
  },
  {
   "cell_type": "markdown",
   "metadata": {
    "id": "f-ODE2k8BFV6"
   },
   "source": [
    "## Create folders"
   ]
  },
  {
   "cell_type": "code",
   "execution_count": 17,
   "metadata": {
    "id": "3ykUMINYBRog"
   },
   "outputs": [],
   "source": [
    "mkdirs(paths.checkpoints(), paths.tensorboard(), paths.visualization(), f\"{paths.root}/logs\", f\"{paths.root}/metrics\")"
   ]
  },
  {
   "cell_type": "markdown",
   "metadata": {
    "id": "BFq9k5nzBIh5"
   },
   "source": [
    "## Load checkpoints"
   ]
  },
  {
   "cell_type": "code",
   "execution_count": 18,
   "metadata": {
    "id": "W5NbsKkobIfA"
   },
   "outputs": [],
   "source": [
    "class EdgeFeatureDiscriminator(nn.Module):\n",
    "    def __init__(self, \n",
    "                 conv, \n",
    "                 dense,\n",
    "                 shared_depth,\n",
    "                 enet_depth,\n",
    "                 enet_width,\n",
    "                 aggr='add', \n",
    "                 root_weight=True,\n",
    "                 normalize=None):\n",
    "        super().__init__()\n",
    "        self.enet = nn.Sequential(*[\n",
    "            DenseLayer(in_dim=in_d,\n",
    "                       out_dim=out_d,\n",
    "                       skip=nonlin,\n",
    "                       bn=nonlin,\n",
    "                       act=nonlin,\n",
    "                       dp=None)\n",
    "            for in_d, out_d, nonlin \n",
    "            in zip([self._get_feature_dim()] + [enet_width] * (shared_depth-1),\n",
    "                   [enet_width] * shared_depth,\n",
    "                   [True] * (shared_depth-1) + [False])     \n",
    "        ])\n",
    "        self.blocks = nn.ModuleList([\n",
    "            GNNLayer(nfeat_dims=(in_d, out_d),\n",
    "                     efeat_dim=enet_width,\n",
    "                     edge_net=EdgeNet(nfeat_dims=(in_d, out_d), \n",
    "                                      efeat_dim=enet_width, \n",
    "                                      depth=enet_depth, \n",
    "                                      width=enet_width),\n",
    "                     aggr=aggr,\n",
    "                     dense=False,\n",
    "                     skip=nonlin,\n",
    "                     bn=nonlin,\n",
    "                     act=nonlin,\n",
    "                     root_weight=root_weight) \n",
    "            for in_d, out_d, nonlin \n",
    "            in zip(conv[:-1], conv[1:], [True] * (len(conv)-2) + [False])     \n",
    "        ])\n",
    "        self.pool = (gnn.global_mean_pool if aggr == 'mean' \n",
    "                     else gnn.global_add_pool if aggr == 'add' \n",
    "                     else None)\n",
    "        self.dense = nn.Identity() if not dense else nn.Sequential(*[\n",
    "            DenseLayer(in_dim=in_d,\n",
    "                       out_dim=out_d,\n",
    "                       skip=nonlin,\n",
    "                       bn=nonlin,\n",
    "                       act=nonlin,\n",
    "                       dp=None)\n",
    "            for in_d, out_d, nonlin \n",
    "            in zip(conv[-1:] + dense[:-1], dense, [True] * (len(dense)-1) + [False])     \n",
    "        ])\n",
    "        self.normalize = normalize or IdentityTransformation()\n",
    "    \n",
    "    def forward(self, batch):\n",
    "        x = torch.ones_like(batch.pos)\n",
    "        e = self.enet(self._get_features(self._get_edge_info(batch, layout='pos')))\n",
    "        for block in self.blocks:\n",
    "            x = block(x, e, batch)\n",
    "        x = self.pool(x, batch.batch)\n",
    "        x = self.dense(x)\n",
    "        return x\n",
    "    \n",
    "    def _get_edge_info(self, batch, layout='gt_pos'):\n",
    "        pos = self.normalize(batch[layout].float(), batch)\n",
    "        src, dst = get_edges(pos, batch)\n",
    "        v, u = l2_normalize(dst - src, return_norm=True)\n",
    "        d = batch.edge_attr[:, :1]\n",
    "        return {\n",
    "            \"src\": src,\n",
    "            \"dst\": dst,\n",
    "            \"v\": v,\n",
    "            \"u\": u,\n",
    "            \"d\": d,\n",
    "        }\n",
    "\n",
    "    def _get_features(self, edges):\n",
    "        return torch.cat([edges['src'], edges['dst'], edges['d']], dim=1)\n",
    "        \n",
    "    def _get_feature_dim(self):\n",
    "        return self._get_features({\n",
    "            \"src\": torch.zeros(1, 2),\n",
    "            \"dst\": torch.zeros(1, 2),\n",
    "            \"v\": torch.zeros(1, 2),\n",
    "            \"u\": torch.zeros(1, 1),\n",
    "            \"d\": torch.zeros(1, 1),\n",
    "        }).shape[-1]"
   ]
  },
  {
   "cell_type": "code",
   "execution_count": 19,
   "metadata": {
    "id": "96ZActxlL0fJ"
   },
   "outputs": [],
   "source": [
    "class StressDiscriminator(nn.Module):\n",
    "    def __init__(self, normalize=CanonicalizationByStress(), **kwargs):\n",
    "        super().__init__()\n",
    "        self.dummy = nn.Parameter(torch.zeros(1))\n",
    "        self.normalize = normalize\n",
    "        self.stress = Stress(reduce=None)\n",
    "\n",
    "    def forward(self, batch):\n",
    "        return -self.stress(self.normalize(batch.pos, batch), batch)"
   ]
  },
  {
   "cell_type": "code",
   "execution_count": 20,
   "metadata": {
    "id": "IJ6xCYBUuhcw"
   },
   "outputs": [],
   "source": [
    "def get_ckpt_epoch(folder, epoch):\n",
    "    if not os.path.isdir(folder):\n",
    "        os.mkdir(folder)\n",
    "    if epoch >= 0:\n",
    "        return epoch\n",
    "    ckpt_files = os.listdir(folder)\n",
    "    last_epoch = 0\n",
    "    if ckpt_files:\n",
    "        last_epoch = sorted(list(map(lambda x: int(re.search('(?<=epoch_)(\\d+)(?=\\.)', x).group(1)), ckpt_files)))[-1]\n",
    "    return last_epoch + epoch + 1\n",
    "\n",
    "def start_epoch():\n",
    "    return get_ckpt_epoch(paths.checkpoints(), config.epoch.start)"
   ]
  },
  {
   "cell_type": "code",
   "execution_count": 21,
   "metadata": {
    "colab": {
     "base_uri": "https://localhost:8080/"
    },
    "id": "JacDYXka9U01",
    "outputId": "ef4e31ab-2144-497c-8e4f-4d3740ce2d52"
   },
   "outputs": [
    {
     "name": "stdout",
     "output_type": "stream",
     "text": [
      "Loading from artifacts/checkpoints/GAN(gan=rgan,data=best(xing,stress),dis=deep,share=4,embed=12,gp=0,lr=1e-2)/gen_epoch_892.pt...\n",
      "Loading from artifacts/checkpoints/GAN(gan=rgan,data=best(xing,stress),dis=deep,share=4,embed=12,gp=0,lr=1e-2)/gen_optim_epoch_892.pt...\n"
     ]
    }
   ],
   "source": [
    "generator = Generator(**config.generator.params[...]).to(device)\n",
    "generator_optimizer = config.generator.optim(generator.parameters(), lr=config.generator.lr.initial * config.generator.lr.decay ** start_epoch())\n",
    "generator_scheduler = torch.optim.lr_scheduler.ExponentialLR(generator_optimizer, gamma=config.generator.lr.decay)\n",
    "if start_epoch() != 0:\n",
    "    gen_ckpt_epoch = start_epoch()\n",
    "elif config.generator.pretrained.name is not None and config.generator.pretrained.epoch != 0:\n",
    "    gen_pretrained_epoch = get_ckpt_epoch(paths.gen_pretrain(), config.generator.pretrained.epoch)\n",
    "    gen_ckpt_epoch = gen_pretrained_epoch \n",
    "else:\n",
    "    gen_ckpt_epoch = None\n",
    "if gen_ckpt_epoch is not None:\n",
    "    # Load generator\n",
    "    gen_ckpt_file = f\"{paths.checkpoints()}/gen_epoch_{gen_ckpt_epoch}.pt\"\n",
    "    print(f\"Loading from {gen_ckpt_file}...\")\n",
    "    generator.load_state_dict(torch.load(gen_ckpt_file, map_location=torch.device(device)))\n",
    "    # Load generator optimizer\n",
    "    gen_optim_ckpt_file = f\"{paths.checkpoints()}/gen_optim_epoch_{gen_ckpt_epoch}.pt\"\n",
    "    print(f\"Loading from {gen_optim_ckpt_file}...\")\n",
    "    generator_optimizer.load_state_dict(torch.load(gen_optim_ckpt_file, map_location=torch.device(device)))"
   ]
  },
  {
   "cell_type": "code",
   "execution_count": 22,
   "metadata": {
    "colab": {
     "base_uri": "https://localhost:8080/"
    },
    "id": "oWQhD7-88VXe",
    "outputId": "3ba01600-b546-4e45-a6bd-c7a65af1ae9e"
   },
   "outputs": [
    {
     "name": "stdout",
     "output_type": "stream",
     "text": [
      "Loading from artifacts/checkpoints/GAN(gan=rgan,data=best(xing,stress),dis=deep,share=4,embed=12,gp=0,lr=1e-2)/dis_epoch_892.pt...\n",
      "Loading from artifacts/checkpoints/GAN(gan=rgan,data=best(xing,stress),dis=deep,share=4,embed=12,gp=0,lr=1e-2)/dis_optim_epoch_892.pt...\n"
     ]
    }
   ],
   "source": [
    "discriminator = EdgeFeatureDiscriminator(**config.discriminator.params[...]).to(device)\n",
    "discriminator_optimizer = config.discriminator.optim(discriminator.parameters(), lr=config.discriminator.lr.initial * config.discriminator.lr.decay ** start_epoch())\n",
    "discriminator_scheduler = torch.optim.lr_scheduler.ExponentialLR(discriminator_optimizer, gamma=config.discriminator.lr.decay)\n",
    "if start_epoch() != 0:\n",
    "    dis_ckpt_epoch = start_epoch()\n",
    "elif config.discriminator.pretrained.name is not None and config.discriminator.pretrained.epoch != 0:\n",
    "    dis_pretrained_epoch = get_ckpt_epoch(paths.dis_pretrain(), config.discriminator.pretrained.epoch)\n",
    "    dis_ckpt_epoch = dis_pretrained_epoch # f\"{paths.dis_pretrain()}/dis_epoch_{dis_pretrained_epoch}.pt\"\n",
    "else:\n",
    "    dis_ckpt_epoch = None\n",
    "if dis_ckpt_epoch is not None:\n",
    "    # Load discriminator\n",
    "    dis_ckpt_file = f\"{paths.checkpoints()}/dis_epoch_{dis_ckpt_epoch}.pt\"\n",
    "    print(f\"Loading from {dis_ckpt_file}...\")\n",
    "    discriminator.load_state_dict(torch.load(dis_ckpt_file, map_location=torch.device(device)))\n",
    "    # Load discriminator optimizer\n",
    "    dis_optim_ckpt_file = f\"{paths.checkpoints()}/dis_optim_epoch_{dis_ckpt_epoch}.pt\"\n",
    "    print(f\"Loading from {dis_optim_ckpt_file}...\")\n",
    "    discriminator_optimizer.load_state_dict(torch.load(dis_optim_ckpt_file, map_location=torch.device(device)))"
   ]
  },
  {
   "cell_type": "markdown",
   "metadata": {
    "id": "N39dDHraedM6"
   },
   "source": [
    "# Train"
   ]
  },
  {
   "cell_type": "code",
   "execution_count": 23,
   "metadata": {
    "id": "BdIJSDSJedM-"
   },
   "outputs": [],
   "source": [
    "stress_criterion = StressDiscriminator().to(device)\n",
    "val_criterion = Stress(reduce=None)\n",
    "xing_criterion = Xing(reduce=None)\n",
    "dis_convert = DiscriminatorDataConverter(complete_graph=config.discriminator.complete, normalize=config.discriminator.params.normalize)\n",
    "tensorboard = SummaryWriter(log_dir=paths.tensorboard())\n",
    "epoch = start_epoch() + 1"
   ]
  },
  {
   "cell_type": "code",
   "execution_count": 24,
   "metadata": {
    "id": "OHRWj1h0edM-"
   },
   "outputs": [],
   "source": [
    "def gradient_penalty(interpolated, discriminator, weight=10):\n",
    "    interpolated.pos.requires_grad_()\n",
    "    prob_interpolated = discriminator(interpolated)\n",
    "    gradients = autograd.grad(outputs=prob_interpolated, \n",
    "                              inputs=interpolated.pos,\n",
    "                              grad_outputs=torch.ones_like(prob_interpolated),\n",
    "                              create_graph=True, \n",
    "                              retain_graph=True, \n",
    "                              allow_unused=True)[0]\n",
    "    gradients_norm = torch.sqrt(gnn.global_add_pool(gradients.square().sum(dim=1), batch.batch) + 1e-8)\n",
    "    return weight * ((gradients_norm - 1) ** 2).mean()"
   ]
  },
  {
   "cell_type": "code",
   "execution_count": 25,
   "metadata": {
    "id": "o5wJJN9AedM_"
   },
   "outputs": [],
   "source": [
    "def get_gp_loss(batch, fake_pos, weight):\n",
    "    if weight > 0:\n",
    "        interp = dis_convert(batch, fake_pos, random.random())\n",
    "        return gradient_penalty(interp, discriminator, weight).mean()\n",
    "    return 0"
   ]
  },
  {
   "cell_type": "code",
   "execution_count": 26,
   "metadata": {
    "id": "QwuA6sRoedM_"
   },
   "outputs": [],
   "source": [
    "def get_sgan_loss(batch, fake_pos, mode='discriminator'):\n",
    "    real = dis_convert(batch)\n",
    "    fake = dis_convert(batch, fake_pos)\n",
    "    pred = discriminator(merge_batch(real, fake)).view(2, -1).T\n",
    "    if mode == 'discriminator':\n",
    "        label = torch.zeros(pred.shape[0]).long()\n",
    "    elif mode == 'generator':\n",
    "        label = torch.ones(pred.shape[0]).long()\n",
    "    else:\n",
    "        raise Exception\n",
    "    return nn.CrossEntropyLoss()(pred, label)"
   ]
  },
  {
   "cell_type": "code",
   "execution_count": 27,
   "metadata": {
    "id": "GuAP1YchedNA"
   },
   "outputs": [],
   "source": [
    "def get_rgan_loss(batch, fake_pos, mode='discriminator'):\n",
    "    real = dis_convert(batch)\n",
    "    fake = dis_convert(batch, fake_pos)\n",
    "    pred = discriminator(merge_batch(real, fake)).view(2, -1).T\n",
    "    real_pred, fake_pred = pred[:,0], pred[:,1]\n",
    "    if mode == 'discriminator':\n",
    "        losses = - F.logsigmoid(real_pred - fake_pred)\n",
    "    elif mode == 'generator':\n",
    "        losses = - F.logsigmoid(fake_pred - real_pred)\n",
    "    else:\n",
    "        raise Exception\n",
    "    return losses.mean()"
   ]
  },
  {
   "cell_type": "code",
   "execution_count": 28,
   "metadata": {
    "id": "KFllQ7BredNA"
   },
   "outputs": [],
   "source": [
    "def get_wgan_loss(batch, fake_pos, mode='discriminator'):\n",
    "    real = dis_convert(batch)\n",
    "    fake = dis_convert(batch, fake_pos)\n",
    "    pred = discriminator(merge_batch(real, fake)).view(2, -1).T\n",
    "    real_pred, fake_pred = pred[:,0], pred[:,1]\n",
    "    if mode == 'discriminator':\n",
    "        losses = fake_pred - real_pred \n",
    "    elif mode == 'generator':\n",
    "        losses = real_pred - fake_pred\n",
    "    else:\n",
    "        raise Exception\n",
    "    return losses.mean()"
   ]
  },
  {
   "cell_type": "code",
   "execution_count": 29,
   "metadata": {
    "id": "r5Kg_tYEedNA"
   },
   "outputs": [],
   "source": [
    "def get_ragan_loss(batch, fake_pos, mode='discriminator'):\n",
    "    real = dis_convert(batch)\n",
    "    fake = dis_convert(batch, fake_pos)\n",
    "    pred = discriminator(merge_batch(real, fake)).view(2, -1).T\n",
    "    real_pred, fake_pred = pred[:,0], pred[:,1]\n",
    "    if mode == 'discriminator':\n",
    "        losses = - F.logsigmoid(real_pred - fake_pred.mean()) - F.logsigmoid(real_pred.mean() - fake_pred)\n",
    "    elif mode == 'generator':\n",
    "        losses = - F.logsigmoid(fake_pred - real_pred.mean()) - F.logsigmoid(fake_pred.mean() - real_pred)\n",
    "    else:\n",
    "        raise Exception\n",
    "    return losses.mean()"
   ]
  },
  {
   "cell_type": "code",
   "execution_count": 30,
   "metadata": {},
   "outputs": [],
   "source": [
    "def get_dgdv2_loss(batch, fake_pos, mode='discriminator'):\n",
    "    fake = dis_convert(batch, fake_pos)\n",
    "    pred = discriminator(fake)\n",
    "    if mode == 'discriminator':\n",
    "        gt = get_gt(batch, fake_pos)\n",
    "        loss = criterion(pred, gt)\n",
    "    elif mode == 'generator':\n",
    "        losses = pred.sum(dim=0)\n",
    "#         losses = torch.tensor(config.importance).to(device) * losses #/ losses.detach()\n",
    "        loss = losses.sum()\n",
    "    else:\n",
    "        raise Exception\n",
    "    return -loss"
   ]
  },
  {
   "cell_type": "code",
   "execution_count": 31,
   "metadata": {
    "id": "3IE_84f-edNB"
   },
   "outputs": [],
   "source": [
    "def get_gan_loss(batch, fake_pos, mode='discriminator'):\n",
    "    return {\"sgan\": get_sgan_loss,\n",
    "            \"wgan\": get_wgan_loss,\n",
    "            \"rgan\": get_rgan_loss,\n",
    "            \"ragan\": get_ragan_loss,\n",
    "            \"dgdv2\": get_dgdv2_loss}[config.gan_flavor](batch, fake_pos, mode)"
   ]
  },
  {
   "cell_type": "code",
   "execution_count": 32,
   "metadata": {
    "colab": {
     "background_save": true,
     "base_uri": "https://localhost:8080/",
     "height": 80
    },
    "id": "2NjekXgkedNB",
    "outputId": "da85b2ec-c0de-459c-c0dd-7ba3519419fa",
    "tags": []
   },
   "outputs": [
    {
     "data": {
      "application/vnd.jupyter.widget-view+json": {
       "model_id": "27e231795c4843acb0ef859262f39444",
       "version_major": 2,
       "version_minor": 0
      },
      "text/plain": [
       "Tab(children=(VBox(children=(Wrapper(), Hud())), HBox(children=(Output(),), layout=Layout(height='500px', over…"
      ]
     },
     "metadata": {},
     "output_type": "display_data"
    },
    {
     "ename": "KeyboardInterrupt",
     "evalue": "",
     "output_type": "error",
     "traceback": [
      "\u001b[0;31m---------------------------------------------------------------------------\u001b[0m",
      "\u001b[0;31mKeyboardInterrupt\u001b[0m                         Traceback (most recent call last)",
      "\u001b[0;32m/tmp/slurmtmp.5660320/ipykernel_39381/801679965.py\u001b[0m in \u001b[0;36m<module>\u001b[0;34m\u001b[0m\n\u001b[1;32m    133\u001b[0m     \u001b[0;32mif\u001b[0m \u001b[0mconfig\u001b[0m\u001b[0;34m.\u001b[0m\u001b[0malternate\u001b[0m \u001b[0;34m==\u001b[0m \u001b[0;34m'epoch'\u001b[0m\u001b[0;34m:\u001b[0m\u001b[0;34m\u001b[0m\u001b[0;34m\u001b[0m\u001b[0m\n\u001b[1;32m    134\u001b[0m         \u001b[0;32mfor\u001b[0m \u001b[0mbatch\u001b[0m \u001b[0;32min\u001b[0m \u001b[0mtrain_loader\u001b[0m\u001b[0;34m:\u001b[0m\u001b[0;34m\u001b[0m\u001b[0;34m\u001b[0m\u001b[0m\n\u001b[0;32m--> 135\u001b[0;31m             \u001b[0mtrain_gen\u001b[0m\u001b[0;34m(\u001b[0m\u001b[0mbatch\u001b[0m\u001b[0;34m,\u001b[0m \u001b[0mepoch\u001b[0m\u001b[0;34m)\u001b[0m\u001b[0;34m\u001b[0m\u001b[0;34m\u001b[0m\u001b[0m\n\u001b[0m\u001b[1;32m    136\u001b[0m \u001b[0;34m\u001b[0m\u001b[0m\n\u001b[1;32m    137\u001b[0m     \u001b[0mdiscriminator_scheduler\u001b[0m\u001b[0;34m.\u001b[0m\u001b[0mstep\u001b[0m\u001b[0;34m(\u001b[0m\u001b[0;34m)\u001b[0m\u001b[0;34m\u001b[0m\u001b[0;34m\u001b[0m\u001b[0m\n",
      "\u001b[0;32m/tmp/slurmtmp.5660320/ipykernel_39381/801679965.py\u001b[0m in \u001b[0;36mtrain_gen\u001b[0;34m(batch, epoch)\u001b[0m\n\u001b[1;32m     31\u001b[0m \u001b[0;34m\u001b[0m\u001b[0m\n\u001b[1;32m     32\u001b[0m     \u001b[0;31m#train generator\u001b[0m\u001b[0;34m\u001b[0m\u001b[0;34m\u001b[0m\u001b[0m\n\u001b[0;32m---> 33\u001b[0;31m     \u001b[0mgenerator_loss\u001b[0m\u001b[0;34m.\u001b[0m\u001b[0mbackward\u001b[0m\u001b[0;34m(\u001b[0m\u001b[0;34m)\u001b[0m\u001b[0;34m\u001b[0m\u001b[0;34m\u001b[0m\u001b[0m\n\u001b[0m\u001b[1;32m     34\u001b[0m     \u001b[0mgenerator_optimizer\u001b[0m\u001b[0;34m.\u001b[0m\u001b[0mstep\u001b[0m\u001b[0;34m(\u001b[0m\u001b[0;34m)\u001b[0m\u001b[0;34m\u001b[0m\u001b[0;34m\u001b[0m\u001b[0m\n\u001b[1;32m     35\u001b[0m \u001b[0;34m\u001b[0m\u001b[0m\n",
      "\u001b[0;32m~/.conda/envs/deepgd/lib/python3.9/site-packages/torch/_tensor.py\u001b[0m in \u001b[0;36mbackward\u001b[0;34m(self, gradient, retain_graph, create_graph, inputs)\u001b[0m\n\u001b[1;32m    253\u001b[0m                 \u001b[0mcreate_graph\u001b[0m\u001b[0;34m=\u001b[0m\u001b[0mcreate_graph\u001b[0m\u001b[0;34m,\u001b[0m\u001b[0;34m\u001b[0m\u001b[0;34m\u001b[0m\u001b[0m\n\u001b[1;32m    254\u001b[0m                 inputs=inputs)\n\u001b[0;32m--> 255\u001b[0;31m         \u001b[0mtorch\u001b[0m\u001b[0;34m.\u001b[0m\u001b[0mautograd\u001b[0m\u001b[0;34m.\u001b[0m\u001b[0mbackward\u001b[0m\u001b[0;34m(\u001b[0m\u001b[0mself\u001b[0m\u001b[0;34m,\u001b[0m \u001b[0mgradient\u001b[0m\u001b[0;34m,\u001b[0m \u001b[0mretain_graph\u001b[0m\u001b[0;34m,\u001b[0m \u001b[0mcreate_graph\u001b[0m\u001b[0;34m,\u001b[0m \u001b[0minputs\u001b[0m\u001b[0;34m=\u001b[0m\u001b[0minputs\u001b[0m\u001b[0;34m)\u001b[0m\u001b[0;34m\u001b[0m\u001b[0;34m\u001b[0m\u001b[0m\n\u001b[0m\u001b[1;32m    256\u001b[0m \u001b[0;34m\u001b[0m\u001b[0m\n\u001b[1;32m    257\u001b[0m     \u001b[0;32mdef\u001b[0m \u001b[0mregister_hook\u001b[0m\u001b[0;34m(\u001b[0m\u001b[0mself\u001b[0m\u001b[0;34m,\u001b[0m \u001b[0mhook\u001b[0m\u001b[0;34m)\u001b[0m\u001b[0;34m:\u001b[0m\u001b[0;34m\u001b[0m\u001b[0;34m\u001b[0m\u001b[0m\n",
      "\u001b[0;32m~/.conda/envs/deepgd/lib/python3.9/site-packages/torch/autograd/__init__.py\u001b[0m in \u001b[0;36mbackward\u001b[0;34m(tensors, grad_tensors, retain_graph, create_graph, grad_variables, inputs)\u001b[0m\n\u001b[1;32m    145\u001b[0m         \u001b[0mretain_graph\u001b[0m \u001b[0;34m=\u001b[0m \u001b[0mcreate_graph\u001b[0m\u001b[0;34m\u001b[0m\u001b[0;34m\u001b[0m\u001b[0m\n\u001b[1;32m    146\u001b[0m \u001b[0;34m\u001b[0m\u001b[0m\n\u001b[0;32m--> 147\u001b[0;31m     Variable._execution_engine.run_backward(\n\u001b[0m\u001b[1;32m    148\u001b[0m         \u001b[0mtensors\u001b[0m\u001b[0;34m,\u001b[0m \u001b[0mgrad_tensors_\u001b[0m\u001b[0;34m,\u001b[0m \u001b[0mretain_graph\u001b[0m\u001b[0;34m,\u001b[0m \u001b[0mcreate_graph\u001b[0m\u001b[0;34m,\u001b[0m \u001b[0minputs\u001b[0m\u001b[0;34m,\u001b[0m\u001b[0;34m\u001b[0m\u001b[0;34m\u001b[0m\u001b[0m\n\u001b[1;32m    149\u001b[0m         allow_unreachable=True, accumulate_grad=True)  # allow_unreachable flag\n",
      "\u001b[0;31mKeyboardInterrupt\u001b[0m: "
     ]
    }
   ],
   "source": [
    "def train_dis(batch, epoch):\n",
    "    generator.requires_grad_(False)\n",
    "    discriminator.zero_grad()\n",
    "    generator_output = generator(batch)\n",
    "    if config.discriminator.noise.std > 0:\n",
    "        generator_output = generator_output + torch.randn_like(generator_output) * config.discriminator.noise.std * config.discriminator.noise.decay ** epoch\n",
    "    discriminator_loss = get_gan_loss(batch, generator_output, mode='discriminator')\n",
    "    \n",
    "    # train discriminator\n",
    "    discriminator_loss.backward()\n",
    "    discriminator_optimizer.step()\n",
    "\n",
    "    # gradient penalty\n",
    "    if config.gp_weight > 0:\n",
    "        discriminator.zero_grad()\n",
    "        gp_loss = get_gp_loss(batch, generator_output, config.gp_weight)\n",
    "        gp_loss.backward()\n",
    "        discriminator_optimizer.step()\n",
    "\n",
    "    hud['dis_loss'] = format(discriminator_loss.item(), '.2e')\n",
    "    pbar().update()\n",
    "\n",
    "def train_gen(batch, epoch):\n",
    "    generator.requires_grad_(True)\n",
    "    generator.zero_grad()\n",
    "    discriminator.zero_grad()\n",
    "    generator_output = generator(batch)\n",
    "    if config.discriminator.noise.std > 0:\n",
    "        generator_output = generator_output + torch.randn_like(generator_output) * config.discriminator.noise.std * config.discriminator.noise.decay ** epoch\n",
    "    generator_loss = get_gan_loss(batch, generator_output, mode='generator') \n",
    "    \n",
    "    #train generator\n",
    "    generator_loss.backward()\n",
    "    generator_optimizer.step()\n",
    "\n",
    "    with torch.no_grad():\n",
    "        dis_batch = dis_convert(batch, generator_output)\n",
    "        stress = stress_criterion(dis_batch).mean()\n",
    "        critic = discriminator(dis_batch).mean()\n",
    "    hud.append({'gen_loss': format(generator_loss.item(), '.2e'),\n",
    "                'stress': format(stress.item(), '.2e'),\n",
    "                'critic': format(critic.item(), '.2e')})\n",
    "    pbar().update()\n",
    "\n",
    "def cuda_memsafe_map(fn, *iterables, summary=False):\n",
    "    total, failed = 0, 0\n",
    "    iterator = zip(*iterables)\n",
    "    items = None\n",
    "    while True:\n",
    "        try:\n",
    "            items = next(iterator)\n",
    "            yield fn(*items)\n",
    "        except StopIteration:\n",
    "            if summary:\n",
    "                print(f'Iteration finished. {failed} out of {total} failed!')\n",
    "            break\n",
    "        except RuntimeError:\n",
    "            print('CUDA memory overflow! Skip batch...')\n",
    "            del items\n",
    "            failed += 1\n",
    "        torch.cuda.empty_cache()\n",
    "        total += 1\n",
    "    \n",
    "def validate(model, data_loader, criterion=val_criterion):\n",
    "    def val_one_batch(batch):\n",
    "        batch = preprocess_batch(model, batch)\n",
    "        pred = CanonicalizationByStress()(model(batch), batch)\n",
    "        gt = CanonicalizationByStress()(batch.gt_pos, batch)\n",
    "        loss = criterion(pred, batch)\n",
    "        gt_loss = criterion(gt, batch)\n",
    "        spc = (loss - gt_loss) / torch.maximum(torch.maximum(loss, gt_loss), torch.ones_like(loss)*1e-5)\n",
    "        return loss.mean().item(), spc.mean().item()\n",
    "    loss_all, spc_all = zip(*cuda_memsafe_map(val_one_batch, data_loader))\n",
    "    return np.mean(loss_all), np.mean(spc_all)\n",
    "\n",
    "def log(msg):\n",
    "    msg = f\"[{epoch:03}] {msg}\"\n",
    "    print(msg, file=open(paths.log(), \"a\"))\n",
    "    with log_out: \n",
    "        print(msg)\n",
    "\n",
    "print(f\"{'='*10} {config.link} {'='*10}\", file=open(paths.log(), \"a\"))\n",
    "hud = Hud()\n",
    "pbar = Wrapper(tqdm, total=len(train_loader)*2, smoothing=0)\n",
    "plot_out = Output()\n",
    "log_out = Output()\n",
    "tabs = {\"status\": VBox([pbar, hud]), \n",
    "        \"plot\": HBox([plot_out], layout=Layout(height='500px', overflow_y='auto')),\n",
    "        \"log\": HBox([log_out], layout=Layout(height='500px', overflow_y='auto'))}\n",
    "tab_bar = Tab(children=list(tabs.values()))\n",
    "[tab_bar.set_title(i, name) for i, name in enumerate(tabs)]\n",
    "display(tab_bar)\n",
    "while True:\n",
    "    if epoch % config.log_interval == 0:\n",
    "        torch.save(generator.state_dict(), f\"{paths.checkpoints()}/gen_epoch_{epoch}.pt\")\n",
    "        torch.save(generator_optimizer.state_dict(), f\"{paths.checkpoints()}/gen_optim_epoch_{epoch}.pt\")\n",
    "        torch.save(discriminator.state_dict(), f\"{paths.checkpoints()}/dis_epoch_{epoch}.pt\")\n",
    "        torch.save(discriminator_optimizer.state_dict(), f\"{paths.checkpoints()}/dis_optim_epoch_{epoch}.pt\")\n",
    "        generator.eval()\n",
    "        with torch.no_grad():\n",
    "            val_stress, val_stress_spc = validate(model=generator, data_loader=val_loader)\n",
    "            val_xing, val_xing_spc = validate(model=generator, data_loader=val_loader, criterion=xing_criterion)\n",
    "            with plot_out:\n",
    "                fig = plt.figure()\n",
    "                graph_vis(G_list[11100], generator(make_batch(data_list[11100]).to(device)).cpu())\n",
    "                plt.show()\n",
    "        # tensorboard.add_scalars('loss', {'train': train_loss, \n",
    "        #                                  'validation': val_loss}, epoch)\n",
    "        # for i, fn in enumerate(loss_fns):\n",
    "        #     tensorboard.add_scalars(type(fn).__name__, {'train': train_loss_comp[i].item(), \n",
    "        #                                           'validation': val_loss_comp[i].item()}, epoch)\n",
    "        hud.append({\n",
    "            'val_stress': format(val_stress, '.2f'),\n",
    "            'val_stress_spc': format(val_stress_spc, '.2%'),\n",
    "            'val_xing': format(val_xing, '.2f'),\n",
    "            'val_xing_spc': format(val_xing_spc, '.2%'),\n",
    "        })\n",
    "        log(f\"stress={hud.data['val_stress']}({hud.data['val_stress_spc']}) xing={hud.data['val_xing']}({hud.data['val_xing_spc']})\")\n",
    "        \n",
    "    # handle.update(tab_bar)\n",
    "    pbar().reset()\n",
    "    pbar().set_description(desc=f\"[epoch {epoch}/{config.epoch.end}]\")\n",
    "    hud(title=f\"epoch {epoch}\")\n",
    "    generator.train()\n",
    "    discriminator.train()\n",
    "    # proper: proper layout\n",
    "    for _ in range(config.discriminator.repeat):\n",
    "        for batch in train_loader:\n",
    "            train_dis(batch, epoch)\n",
    "            if config.alternate == 'iteration':\n",
    "                train_gen(batch, epoch)\n",
    "\n",
    "    if config.alternate == 'epoch':\n",
    "        for batch in train_loader:\n",
    "            train_gen(batch, epoch)\n",
    "\n",
    "    discriminator_scheduler.step()\n",
    "    generator_scheduler.step()\n",
    "\n",
    "    if epoch == config.epoch.end:\n",
    "        break\n",
    "    epoch += 1"
   ]
  },
  {
   "cell_type": "markdown",
   "metadata": {
    "id": "0qYK_X_hrq9o"
   },
   "source": [
    "# Test"
   ]
  },
  {
   "cell_type": "code",
   "execution_count": 33,
   "metadata": {
    "colab": {
     "base_uri": "https://localhost:8080/"
    },
    "id": "XEvmAtNjWhcY",
    "outputId": "9f4c86a4-a4b0-48f1-cb58-ab3679173184"
   },
   "outputs": [
    {
     "name": "stdout",
     "output_type": "stream",
     "text": [
      "Loading from artifacts/checkpoints/GAN(gan=rgan,data=best(xing,stress),dis=deep,share=4,embed=12,gp=0,lr=1e-2)/gen_epoch_893.pt...\n"
     ]
    },
    {
     "data": {
      "text/plain": [
       "<All keys matched successfully>"
      ]
     },
     "execution_count": 33,
     "metadata": {},
     "output_type": "execute_result"
    }
   ],
   "source": [
    "test_epoch = -1\n",
    "\n",
    "test_generator = Generator(**config.generator.params[...]).to(device)\n",
    "test_ckpt_epoch = get_ckpt_epoch(paths.checkpoints(), test_epoch)\n",
    "test_ckpt_file = f\"{paths.checkpoints()}/gen_epoch_{test_ckpt_epoch}.pt\"\n",
    "print(f\"Loading from {test_ckpt_file}...\")\n",
    "test_generator.load_state_dict(torch.load(test_ckpt_file, map_location=torch.device(device)))"
   ]
  },
  {
   "cell_type": "code",
   "execution_count": 34,
   "metadata": {
    "colab": {
     "background_save": true,
     "base_uri": "https://localhost:8080/",
     "height": 1000,
     "referenced_widgets": [
      "9b7d18992dbf4a84931f916fbaaa37d8",
      "2c664d7e1e6d474fb87094fc0da270d3",
      "d375f5f82a4645d7b29c541596dc1c7f",
      "ecfa311bb06b4f6fa504598263ff69d3",
      "d1859990877149eab2b414b4e2a0e0c7",
      "d2be6733734844bca3e1db9b49eb1c1e",
      "4d98072bdf674792a13d77e85dd285d1",
      "f7ed92c383d741a0a1cef2536ff2db13",
      "2ba110f835c64ec4b82974996aed10af",
      "09397ceac9014af0aebca848d4d96d48",
      "fd0709f48d6c4527bc00b5f407f3c1b9"
     ]
    },
    "id": "ZubmSTcYrq9o",
    "outputId": "fc2f65a2-2085-43ac-b110-cbfe742318a8",
    "scrolled": true,
    "tags": []
   },
   "outputs": [
    {
     "data": {
      "application/vnd.jupyter.widget-view+json": {
       "model_id": "d42158fc44c2460391da186d3e982cef",
       "version_major": 2,
       "version_minor": 0
      },
      "text/plain": [
       "  0%|          | 0/1000 [00:00<?, ?it/s]"
      ]
     },
     "metadata": {},
     "output_type": "display_data"
    }
   ],
   "source": [
    "rotate = RotateByPrincipalComponents()\n",
    "def test_callback(*, idx, pred, metrics):\n",
    "    # graph_vis(G_list[idx], pred, file_name=f\"{paths.visualization()}/{idx}_{metrics['stress']:.2f}_{metrics['resolution_score']:.2f}.png\")\n",
    "    pred = rotate(torch.tensor(pred), data_list[idx])\n",
    "    graph_vis(G_list[idx], pred)\n",
    "    plt.title(f\"[pred] idx: {idx}, stress: {metrics['stress']:.2f}({metrics['stress_spc']:.2%}), xing: {metrics['xing']:.2f}({metrics['xing_spc']:.2%})\")\n",
    "    plt.show()\n",
    "    gt_pos = rotate(data_list[idx].gt_pos, data_list[idx])\n",
    "    graph_vis(G_list[idx], gt_pos, node_color='orange')\n",
    "    plt.title(f\"[gt] idx: {idx}, stress: {metrics['gt_stress']:.2f}, xing: {metrics['gt_xing']:.2f}\")\n",
    "    plt.show()\n",
    "    \n",
    "test_metrics = test(model=test_generator, \n",
    "                    criteria_list=[], \n",
    "                    dataset=data_list, \n",
    "                    idx_range=range(10000, 11000), \n",
    "#                     callback=test_callback,\n",
    "                    gt_pos=None)\n",
    "pickle.dump(test_metrics, open(paths.metrics(\"test\"), \"wb\"))"
   ]
  },
  {
   "cell_type": "code",
   "execution_count": 35,
   "metadata": {
    "colab": {
     "base_uri": "https://localhost:8080/",
     "height": 318
    },
    "id": "t2rFXIr_PsrJ",
    "outputId": "6a4205b1-4630-4de4-ec72-bdba3d3ea114"
   },
   "outputs": [
    {
     "name": "stdout",
     "output_type": "stream",
     "text": [
      "stress: tensor(323.9540)\n",
      "stress_spc: tensor(0.0406, dtype=torch.float64)\n",
      "xing: tensor(28.7010)\n",
      "xing_spc: tensor(0.2087, dtype=torch.float64)\n",
      "l1_angle: tensor(80.9400)\n",
      "l1_angle_spc: tensor(0.0567, dtype=torch.float64)\n",
      "edge: tensor(0.1535)\n",
      "edge_spc: tensor(0.1198, dtype=torch.float64)\n",
      "ring: tensor(252.7330)\n",
      "ring_spc: tensor(-0.0053, dtype=torch.float64)\n",
      "tsne: tensor(0.2038)\n",
      "tsne_spc: tensor(0.0851, dtype=torch.float64)\n",
      "reso_score: tensor(0.5997)\n",
      "min_angle: tensor(5.6949)\n"
     ]
    },
    {
     "data": {
      "text/html": [
       "<style type=\"text/css\">\n",
       "</style>\n",
       "<table id=\"T_27ba3_\">\n",
       "  <thead>\n",
       "    <tr>\n",
       "      <th class=\"blank level0\" >&nbsp;</th>\n",
       "      <th class=\"col_heading level0 col0\" >stress</th>\n",
       "      <th class=\"col_heading level0 col1\" >stress_spc</th>\n",
       "      <th class=\"col_heading level0 col2\" >xing</th>\n",
       "      <th class=\"col_heading level0 col3\" >xing_spc</th>\n",
       "      <th class=\"col_heading level0 col4\" >l1_angle</th>\n",
       "      <th class=\"col_heading level0 col5\" >l1_angle_spc</th>\n",
       "      <th class=\"col_heading level0 col6\" >edge</th>\n",
       "      <th class=\"col_heading level0 col7\" >edge_spc</th>\n",
       "      <th class=\"col_heading level0 col8\" >ring</th>\n",
       "      <th class=\"col_heading level0 col9\" >ring_spc</th>\n",
       "      <th class=\"col_heading level0 col10\" >tsne</th>\n",
       "      <th class=\"col_heading level0 col11\" >tsne_spc</th>\n",
       "      <th class=\"col_heading level0 col12\" >reso_score</th>\n",
       "      <th class=\"col_heading level0 col13\" >min_angle</th>\n",
       "    </tr>\n",
       "  </thead>\n",
       "  <tbody>\n",
       "    <tr>\n",
       "      <th id=\"T_27ba3_level0_row0\" class=\"row_heading level0 row0\" >0</th>\n",
       "      <td id=\"T_27ba3_row0_col0\" class=\"data row0 col0\" >323.95</td>\n",
       "      <td id=\"T_27ba3_row0_col1\" class=\"data row0 col1\" >4.06%</td>\n",
       "      <td id=\"T_27ba3_row0_col2\" class=\"data row0 col2\" >28.70</td>\n",
       "      <td id=\"T_27ba3_row0_col3\" class=\"data row0 col3\" >20.87%</td>\n",
       "      <td id=\"T_27ba3_row0_col4\" class=\"data row0 col4\" >80.94</td>\n",
       "      <td id=\"T_27ba3_row0_col5\" class=\"data row0 col5\" >5.67%</td>\n",
       "      <td id=\"T_27ba3_row0_col6\" class=\"data row0 col6\" >0.15</td>\n",
       "      <td id=\"T_27ba3_row0_col7\" class=\"data row0 col7\" >11.98%</td>\n",
       "      <td id=\"T_27ba3_row0_col8\" class=\"data row0 col8\" >252.73</td>\n",
       "      <td id=\"T_27ba3_row0_col9\" class=\"data row0 col9\" >-0.53%</td>\n",
       "      <td id=\"T_27ba3_row0_col10\" class=\"data row0 col10\" >0.20</td>\n",
       "      <td id=\"T_27ba3_row0_col11\" class=\"data row0 col11\" >8.51%</td>\n",
       "      <td id=\"T_27ba3_row0_col12\" class=\"data row0 col12\" >0.60</td>\n",
       "      <td id=\"T_27ba3_row0_col13\" class=\"data row0 col13\" >5.69</td>\n",
       "    </tr>\n",
       "  </tbody>\n",
       "</table>\n"
      ],
      "text/plain": [
       "<pandas.io.formats.style.Styler at 0x2b642d68d850>"
      ]
     },
     "execution_count": 35,
     "metadata": {},
     "output_type": "execute_result"
    }
   ],
   "source": [
    "metrics = test_metrics\n",
    "print('stress:', metrics['stress'].mean())\n",
    "print('stress_spc:', metrics['stress_spc'].mean())\n",
    "print('xing:', metrics['xing'].mean())\n",
    "print('xing_spc:', metrics['xing_spc'].mean())\n",
    "print('l1_angle:', metrics['l1_angle'].mean())\n",
    "print('l1_angle_spc:', metrics['l1_angle_spc'].mean())\n",
    "print('edge:', metrics['edge'].mean())\n",
    "print('edge_spc:', metrics['edge_spc'].mean())\n",
    "print('ring:', metrics['ring'].mean())\n",
    "print('ring_spc:', metrics['ring_spc'].mean())\n",
    "print('tsne:', metrics['tsne'].mean())\n",
    "print('tsne_spc:', metrics['tsne_spc'].mean())\n",
    "print('reso_score:', metrics['resolution_score'].mean())\n",
    "print('min_angle:', metrics['min_angle'].mean())\n",
    "columns = [\n",
    "    'stress',\n",
    "    'stress_spc',\n",
    "    'xing',\n",
    "    'xing_spc',\n",
    "    'l1_angle',\n",
    "    'l1_angle_spc',\n",
    "    'edge',\n",
    "    'edge_spc',\n",
    "    'ring',\n",
    "    'ring_spc',\n",
    "    'tsne',\n",
    "    'tsne_spc',\n",
    "    'reso_score',\n",
    "    'min_angle'\n",
    "]\n",
    "df = pd.DataFrame(map(lambda m: metrics[m].mean().item(), list(metrics.keys())[:-1])).set_axis(columns).T\n",
    "df.style.format({c: \"{:.2f}\" for c in columns if 'spc' not in c} | {c: \"{:.2%}\" for c in columns if 'spc' in c})"
   ]
  },
  {
   "cell_type": "code",
   "execution_count": 36,
   "metadata": {
    "id": "5e7vPr0M3mmG"
   },
   "outputs": [],
   "source": [
    "metrics = {}"
   ]
  },
  {
   "cell_type": "code",
   "execution_count": 37,
   "metadata": {},
   "outputs": [],
   "source": [
    "methods = ['fa2']"
   ]
  },
  {
   "cell_type": "code",
   "execution_count": 38,
   "metadata": {
    "colab": {
     "base_uri": "https://localhost:8080/",
     "height": 433,
     "referenced_widgets": [
      "a0cf6e046add4e639e52db69656e0db9",
      "8e237731bb1241ac858581b25389c012",
      "0891547293ad4211a138a4d92e01bb0b",
      "34912c8e581e47a99a1c4829c38cb75c",
      "5aa034c99c94424e835a2ee954b829ed",
      "248f6393eff74c3eb8740ca6d698045b",
      "686687a29c7f4ec98c4d76ca2062b14b",
      "996a84d1c23b47e4a2af252c6b60f55d",
      "3507f883bb954412b21c1c5641763ed7",
      "9582a849d91e457cadd514c95d6e1b5b",
      "52bfe674c2c547e09b7400a32a96f703",
      "93d58b3a12394fe1aa6f0431fc7cb0db",
      "af1d7855c9d646b0bcc7d95c4cb147a6",
      "f820e2b898cd461da04a4f651d27273d",
      "c0a112cfaa3d4d0aa9530372de84d8fb",
      "fd03985495694fbf9feb3f31ef8d18ce",
      "e02a2b36aa4c4d6fb5d2ac6693c1a927",
      "06f388ff5e3a48828d465096fe69977b",
      "c0052778c9c940e88935593e9f94b83b",
      "99a5e77a192d4a989c4534237eb16730",
      "77c6da092a6647fc9e54f7e276d75616",
      "8c13c0e8b5934117a662a78296bcb1b6",
      "cdcc3bd4235247b48c468c0f6b7682cc",
      "a2c6fa6fef4549cc853fa93b4b18cf95",
      "15cc02a756314083801b5f6798a1948c",
      "24d1c67fe52f452ab0c767e3c1a818aa",
      "c117db25c6fd484a9d0c7f210ccb1ade",
      "b090b60b61084cf692b3066dfac7f0a8",
      "5eab9848059c491b9c6cbac88683f025",
      "e87ffbaa1f204b52b9226337a506b040",
      "cf52198a9e4b46c7b49537a79919c09e",
      "51501227bc064ccbab97c22a679a0750",
      "d1b794a997dc457888a90bf44faee9b4",
      "21a755b50e5047bea797eccf24b35a0c",
      "16e78c3823ec4faf9f9cd9095b218ff5",
      "4ccd332c6b734acd8eff236eaf568dfa",
      "bd60fd13748347e48629df78fa455765",
      "e9187e4ba80b4fafa0334dae2e39aded",
      "4c39ec7c92b4402e8eedcb27beabaab1",
      "59a8194269f943bba571f710ad856973",
      "8e41bc25b9f348b1b85b381547cd60d1",
      "34d0f1529e64437fb25e639b41096072",
      "7e832c7543df43668eb72c0aa6356349",
      "f94162c9c5fe4c2581e3b80beaeb820b",
      "0284946fccf34607b25e1d6d81d4f72a",
      "8e8d4243a3624ba58d760bdf601d5126",
      "b1f0932594fe44f4be4beb8880172871",
      "820bb554d139437b8f6a6997f9002261",
      "459e375d1fe4497cb4197ef88e303c6d",
      "5726814966da46bbba942a114de4b319",
      "448beea5445f4642809801da46aa7e7c",
      "3746c0f0daf04f51805b4c95db20063a",
      "2ff74d1c705348438a32da37910c3300",
      "52f03147b5ab4cb390f9802b7a17a508",
      "5428511d652a47348203e8f3cd2e076d",
      "7b58569bee2e44c5a61a81f9a32c4c01",
      "c5e05d74b9404333a8155304e3497ba2",
      "3ad4e058bde44d87abab780368d49118",
      "8e437049b5c74ff1beddad93e30b19aa",
      "0c61377f4cc34b27ae34bdd6d976d868",
      "9ce35f9a9a23436ea77604513b5c4659",
      "dafbc43ad79c4feda093aefe490fc4b3",
      "497160b6bf80469a89680a03a468c8bb",
      "3265725ecb914981b6f07f68b8a582df",
      "1f0ac20d99d04ffb9ee75613526d3de6",
      "dee0e5716560483b8e2b107566439d94",
      "ca99841a1abd4fbd94927c49aaa711cb",
      "163a44ff1be04583ae7bd62726c55204",
      "f3b727045a0b4b4fabd147ec9c843e14",
      "7c4b4fe859cf48ab99b7e2780a24a539",
      "d9700cffab66480cb81e3722faab4e8b",
      "2c49acc1e0a64aa4b8ec461b0596848e",
      "691817157f43412f9c36002167606b75",
      "d0ae688d71734b56bb348de54e841798",
      "07a364ebcdaa491dbcc2304e4a8dae96",
      "538b277307b1449eaa79a2a91b4741d3",
      "f7b7dd4cbaa5468687b988c5e416a154",
      "877be862a4f045ec8b221097626becb5",
      "1bf37012df0844338ac689d4f6cc8eab",
      "33fe06641be544d3aab2c25cb979416f",
      "68de0d9261fa4e6999967b6f196d149c",
      "7017c5ba1ffc467495aca2689e516f7d",
      "e0997460cc21428695a0c278c6691baf",
      "522443bef4904996b6361ea265c4c56f",
      "dfe044b67917466f971ba84a11956d5e",
      "70b2d0ba1c1d4102841fb963480de1c7",
      "7b158daacd754a40bc0a48fc9ea6fea2",
      "8904f61ff30741e488eacf0e49440f66",
      "685dee6f1e1f4c2983d2d0b8eb90ed00",
      "005155a4d62d48cbbaf3d69614b08d81",
      "d2779dfa620041e4b32a7731926a5982",
      "53048bf27cb24080b4cdf20379302223",
      "0b5bff7794a14a20964da70b87158c2c",
      "ec664e55ea16435590393ae1617cccea",
      "f10d62ef464a45a7935610d869c282e3",
      "5e7c09bc35db4a3a8b9847c6d8478883",
      "987ea331b617446facc81b08bab1f8c4",
      "446c5a687b0d43358ab036d43ce281c3",
      "d89e216f62ae4a9999da1a91dd5e48b9",
      "09d03e7e66f54cafacefbfeda5fd6e5c",
      "d58c680562a44bbd9252e7ec6eebc06c",
      "71ea2594fdd942acac1cc61055438544",
      "fecda4df301b437f9fbfb61a7b593dc0",
      "bcf6741d926248cb92acf627d6557d2b",
      "5bd9868b9bda4f68b500a43916e2d148",
      "4bc5e02035de44ad827c4f881fd75afc",
      "7d80033a955e4feb947ca9cea931d90b",
      "e975c796d80d498992a50f87a2b0105c",
      "028b2ff105904a19a9a3e8ebf66967bb",
      "10dbf2cbdb1943eda6a0acaf5da3fe85",
      "14d59c7acc5e4e07a289db44406a4851",
      "d9447df93d714907bc9c768eb4910352",
      "d4a9ace081bf488680a7e43e0eaed71d",
      "022a60cde19546bfa6ecfb4947615ad9",
      "10c01207d9ba4fe197dc80717fceecc0",
      "f4995936570d4ba1a65e9a66e410b505",
      "b4bf66303e61491385cd616076a11c04",
      "a24ab2bfe7a44263bf60936d6e53ec32",
      "59e2e8ecc9f84d57af7bf44f5bba5df7",
      "be2eb92aab8045a99fd19195c3546b60",
      "e6715db2b048434796e910952cb5eb62",
      "8de2335007ba4a6b9935fa0c514c9f6a",
      "493a4bbe8057437a8c8acf4d03f8dcb0",
      "20b03955acc74e238695717124705520",
      "a89f9507496b4cf8bdd63bdb9bff79c4",
      "9752a1f6c8b6488d9628b8e0c023f10f",
      "61a0bebc687341a7bb3352febc8d4986",
      "07e0ff9c82a444788c60edee70688ca7",
      "4427901f35e54cc48e08527bb402c22a",
      "bd9dafb825954091ba975d71ab8c89ea",
      "7ec0f07bfe51484da38c18dc66d77804",
      "03943afebc4d4b668b54c7a0fd014a37",
      "a7a6b38a76424d738146b6a5786cf2c8",
      "1d1aa4729784470584c0001c1a296008",
      "e0c68ac9b5b442eeb77e6d9ea3c1da42",
      "c858ef9fd9324ab0ab885d85e3c8582f",
      "627bc2899c994a0c96c5d43e89dc77ff",
      "0e2c2f21fa8041038151170992ecb848",
      "2d9bcbf7629a4671bf8755e790276eb7",
      "77a4edf6ab1848a6a6df20c1c07358c6",
      "acf2212d6bb44c729b63281a98377095",
      "0c7a72818da3454190bab7f30a29e249",
      "d865af915b8b4aaa8cec8d40f1f8351d"
     ]
    },
    "id": "s1UnzfID4Ai6",
    "outputId": "3e204e76-68fd-4111-f527-91f6e3b7a3ca"
   },
   "outputs": [
    {
     "data": {
      "application/vnd.jupyter.widget-view+json": {
       "model_id": "f17dc04d146845b09dbb3998fd04c3ac",
       "version_major": 2,
       "version_minor": 0
      },
      "text/plain": [
       "  0%|          | 0/1000 [00:00<?, ?it/s]"
      ]
     },
     "metadata": {},
     "output_type": "display_data"
    }
   ],
   "source": [
    "for m in methods:\n",
    "    metrics[m] = test(model=test_generator, \n",
    "                      criteria_list=[], \n",
    "                      dataset=data_list, \n",
    "                      idx_range=range(10000, 11000), \n",
    "                      callback=None,\n",
    "                      gt_pos=load_pos(m))"
   ]
  },
  {
   "cell_type": "code",
   "execution_count": 39,
   "metadata": {
    "id": "dQ7hdCtk5u6K"
   },
   "outputs": [],
   "source": [
    "mean_metrics = {key : list(map(lambda m: metrics[key][m].mean().item(), list(metrics[key].keys())[:-1])) for key in metrics}"
   ]
  },
  {
   "cell_type": "code",
   "execution_count": 40,
   "metadata": {
    "colab": {
     "base_uri": "https://localhost:8080/",
     "height": 313
    },
    "id": "OGyaCmLXTuvA",
    "outputId": "6c42d9f3-9869-4504-bc9c-d0eedaecfd90"
   },
   "outputs": [
    {
     "data": {
      "text/html": [
       "<style type=\"text/css\">\n",
       "</style>\n",
       "<table id=\"T_15e45_\">\n",
       "  <thead>\n",
       "    <tr>\n",
       "      <th class=\"blank level0\" >&nbsp;</th>\n",
       "      <th class=\"col_heading level0 col0\" >stress</th>\n",
       "      <th class=\"col_heading level0 col1\" >stress_spc</th>\n",
       "      <th class=\"col_heading level0 col2\" >xing</th>\n",
       "      <th class=\"col_heading level0 col3\" >xing_spc</th>\n",
       "      <th class=\"col_heading level0 col4\" >l1_angle</th>\n",
       "      <th class=\"col_heading level0 col5\" >l1_angle_spc</th>\n",
       "      <th class=\"col_heading level0 col6\" >edge</th>\n",
       "      <th class=\"col_heading level0 col7\" >edge_spc</th>\n",
       "      <th class=\"col_heading level0 col8\" >ring</th>\n",
       "      <th class=\"col_heading level0 col9\" >ring_spc</th>\n",
       "      <th class=\"col_heading level0 col10\" >tsne</th>\n",
       "      <th class=\"col_heading level0 col11\" >tsne_spc</th>\n",
       "      <th class=\"col_heading level0 col12\" >reso_score</th>\n",
       "      <th class=\"col_heading level0 col13\" >min_angle</th>\n",
       "    </tr>\n",
       "  </thead>\n",
       "  <tbody>\n",
       "    <tr>\n",
       "      <th id=\"T_15e45_level0_row0\" class=\"row_heading level0 row0\" >fa2</th>\n",
       "      <td id=\"T_15e45_row0_col0\" class=\"data row0 col0\" >323.98</td>\n",
       "      <td id=\"T_15e45_row0_col1\" class=\"data row0 col1\" >-11.79%</td>\n",
       "      <td id=\"T_15e45_row0_col2\" class=\"data row0 col2\" >28.70</td>\n",
       "      <td id=\"T_15e45_row0_col3\" class=\"data row0 col3\" >8.44%</td>\n",
       "      <td id=\"T_15e45_row0_col4\" class=\"data row0 col4\" >80.95</td>\n",
       "      <td id=\"T_15e45_row0_col5\" class=\"data row0 col5\" >8.92%</td>\n",
       "      <td id=\"T_15e45_row0_col6\" class=\"data row0 col6\" >0.15</td>\n",
       "      <td id=\"T_15e45_row0_col7\" class=\"data row0 col7\" >-18.18%</td>\n",
       "      <td id=\"T_15e45_row0_col8\" class=\"data row0 col8\" >252.75</td>\n",
       "      <td id=\"T_15e45_row0_col9\" class=\"data row0 col9\" >-2.47%</td>\n",
       "      <td id=\"T_15e45_row0_col10\" class=\"data row0 col10\" >0.20</td>\n",
       "      <td id=\"T_15e45_row0_col11\" class=\"data row0 col11\" >5.17%</td>\n",
       "      <td id=\"T_15e45_row0_col12\" class=\"data row0 col12\" >0.60</td>\n",
       "      <td id=\"T_15e45_row0_col13\" class=\"data row0 col13\" >5.74</td>\n",
       "    </tr>\n",
       "  </tbody>\n",
       "</table>\n"
      ],
      "text/plain": [
       "<pandas.io.formats.style.Styler at 0x2b642d203160>"
      ]
     },
     "execution_count": 40,
     "metadata": {},
     "output_type": "execute_result"
    }
   ],
   "source": [
    "columns = [\n",
    "    'stress',\n",
    "    'stress_spc',\n",
    "    'xing',\n",
    "    'xing_spc',\n",
    "    'l1_angle',\n",
    "    'l1_angle_spc',\n",
    "    'edge',\n",
    "    'edge_spc',\n",
    "    'ring',\n",
    "    'ring_spc',\n",
    "    'tsne',\n",
    "    'tsne_spc',\n",
    "    'reso_score',\n",
    "    'min_angle'\n",
    "]\n",
    "df = pd.DataFrame(mean_metrics).set_axis(columns).T\n",
    "df.style.format({c: \"{:.2f}\" for c in columns if 'spc' not in c} | {c: \"{:.2%}\" for c in columns if 'spc' in c})"
   ]
  },
  {
   "cell_type": "markdown",
   "metadata": {
    "id": "L5S1HWnHOWIl"
   },
   "source": [
    "# Large Graph"
   ]
  },
  {
   "cell_type": "code",
   "execution_count": null,
   "metadata": {
    "id": "_pefPcV1OZdD"
   },
   "outputs": [],
   "source": [
    "scalability = pd.read_csv(f\"/__artifacts__/data/scalability.csv\", index_col=\"index\")\n",
    "scalability"
   ]
  },
  {
   "cell_type": "code",
   "execution_count": null,
   "metadata": {
    "id": "oMhWAsdvPnTX"
   },
   "outputs": [],
   "source": [
    "rescale = CanonicalizationByStress()\n",
    "stressfn = Stress()\n",
    "rotate = RotateByPrincipalComponents()"
   ]
  },
  {
   "cell_type": "code",
   "execution_count": null,
   "metadata": {
    "id": "LR83OcAaPID5"
   },
   "outputs": [],
   "source": [
    "stress_list = []\n",
    "spc_list = []\n",
    "pmds_list = np.load(\"layouts/new_large_graph/pmds.npy\", allow_pickle=True)\n",
    "gviz_list = np.load(\"layouts/new_large_graph/gviz.npy\", allow_pickle=True)\n",
    "with torch.no_grad():\n",
    "    for idx, col in tqdm(scalability.iterrows(), total=len(scalability)):\n",
    "        # if idx not in [406, 516]: continue\n",
    "        torch.cuda.empty_cache()\n",
    "        G = load_mtx(col['file'])\n",
    "        G.remove_edges_from(nx.selfloop_edges(G))\n",
    "        data = generate_data_list(G, \n",
    "                                sparse=data_config.sparse, \n",
    "                                pivot_mode=data_config.pivot,\n",
    "                                init_mode=data_config.init,\n",
    "                                edge_index=data_config.edge.index,\n",
    "                                edge_attr=data_config.edge.attr,\n",
    "                                pmds_list=pmds_list[idx],\n",
    "                                gviz_list=gviz_list[idx],\n",
    "                                device=device)\n",
    "        batch = Batch.from_data_list([data]).to(device)\n",
    "        # generator.train()\n",
    "        # generator(batch)\n",
    "        generator.eval()\n",
    "        pred = generator(batch)\n",
    "        pos = rotate(rescale(pred, batch), batch)\n",
    "        gt = rotate(rescale(batch.gt_pos, batch), batch)\n",
    "        stress = stressfn(pos, batch).item()\n",
    "        gt_stress = stressfn(gt, batch).item()\n",
    "        spc = (stress - gt_stress) / np.maximum(stress, gt_stress)\n",
    "        stress_list.append(stress)\n",
    "        spc_list.append(spc)\n",
    "\n",
    "        np.save(f\"/__artifacts__/gan_result/data/scalability_{idx}.npy\", pos.cpu().numpy())\n",
    "        graph_attr = dict(node_size=1, \n",
    "                        with_labels=False, \n",
    "                        labels=dict(zip(list(G.nodes), map(lambda n: n if type(n) is int else n[1:], list(G.nodes)))),\n",
    "                        font_color=\"white\", \n",
    "                        font_weight=\"bold\",\n",
    "                        font_size=12,\n",
    "                        width=0.1)\n",
    "\n",
    "        # gt_pos = pickle.load(open(f\"/__artifacts__/data/scalability_{idx}_gt.pkl\", \"rb\"))\n",
    "\n",
    "        plt.figure(figsize=[12, 9])\n",
    "        nx.draw(G, pos=gt.cpu().numpy(), node_color='orange', **graph_attr)\n",
    "        plt.title(f\"neato: large_{idx}\")\n",
    "        plt.axis(\"equal\")\n",
    "        plt.savefig(f\"/__artifacts__/gan_result/output/{idx}_{col['name']}_{col['n']}_{spc}_nx.png\", dpi=300)\n",
    "        plt.show()\n",
    "\n",
    "        plt.figure(figsize=[12, 9])\n",
    "        graph_vis(G, pos.cpu().numpy(), **graph_attr)\n",
    "        plt.title(f\"dgd: large_{idx}, spc={spc:.2%}\")\n",
    "        plt.axis(\"equal\")\n",
    "        plt.savefig(f\"/__artifacts__/gan_result/output/{idx}_{col['name']}_{col['n']}_{spc}_dgd.png\", dpi=300)\n",
    "        plt.show()"
   ]
  },
  {
   "cell_type": "code",
   "execution_count": null,
   "metadata": {
    "id": "gRXTewkYeuq1"
   },
   "outputs": [],
   "source": []
  }
 ],
 "metadata": {
  "accelerator": "GPU",
  "colab": {
   "collapsed_sections": [
    "w_p3OD0woiSM",
    "DR6-vYtr_i_P",
    "innqkwvH_ydD",
    "f-ODE2k8BFV6",
    "N39dDHraedM6"
   ],
   "machine_shape": "hm",
   "name": "GAN(gan=rgan,data=best(xing,stress),dis=deep,share=16,embed=0,gp=0).ipynb",
   "provenance": []
  },
  "kernelspec": {
   "display_name": "DeepGD",
   "language": "python",
   "name": "deepgd"
  },
  "language_info": {
   "codemirror_mode": {
    "name": "ipython",
    "version": 3
   },
   "file_extension": ".py",
   "mimetype": "text/x-python",
   "name": "python",
   "nbconvert_exporter": "python",
   "pygments_lexer": "ipython3",
   "version": "3.9.7"
  },
  "widgets": {
   "application/vnd.jupyter.widget-state+json": {
    "state": {
     "09a52f4461674d51a158f77b5ad941b6": {
      "model_module": "@jupyter-widgets/base",
      "model_module_version": "1.2.0",
      "model_name": "LayoutModel",
      "state": {}
     },
     "0bcee6819e3d420bb01ead3a5c080940": {
      "model_module": "@jupyter-widgets/base",
      "model_module_version": "1.2.0",
      "model_name": "LayoutModel",
      "state": {}
     },
     "0d2e0097843541ecb3c825833cd548eb": {
      "model_module": "@jupyter-widgets/controls",
      "model_module_version": "1.5.0",
      "model_name": "DescriptionStyleModel",
      "state": {
       "description_width": ""
      }
     },
     "0d8c60fc88194969815c260abadfa8d1": {
      "model_module": "@jupyter-widgets/base",
      "model_module_version": "1.2.0",
      "model_name": "LayoutModel",
      "state": {}
     },
     "144a55b115e54e339df67a599e67d299": {
      "model_module": "@jupyter-widgets/base",
      "model_module_version": "1.2.0",
      "model_name": "LayoutModel",
      "state": {
       "height": "500px",
       "overflow_y": "auto"
      }
     },
     "17e4259edd27463e9d874fe95e646d08": {
      "model_module": "@jupyter-widgets/controls",
      "model_module_version": "1.5.0",
      "model_name": "DescriptionStyleModel",
      "state": {
       "description_width": ""
      }
     },
     "222e99beb1a64b86a31e34e6a908e998": {
      "model_module": "@jupyter-widgets/controls",
      "model_module_version": "1.5.0",
      "model_name": "DescriptionStyleModel",
      "state": {
       "description_width": ""
      }
     },
     "27e231795c4843acb0ef859262f39444": {
      "model_module": "@jupyter-widgets/controls",
      "model_module_version": "1.5.0",
      "model_name": "TabModel",
      "state": {
       "_titles": {
        "0": "status",
        "1": "plot",
        "2": "log"
       },
       "children": [
        "IPY_MODEL_c1723df1025b42b792b63194de751c90",
        "IPY_MODEL_cccbf7fcebd9416caa1e7ac3c6263b55",
        "IPY_MODEL_57fe83763d5d4119adb004b7f1526074"
       ],
       "layout": "IPY_MODEL_71b17964cccd453e88df9036bddbaf5b"
      }
     },
     "2e792a28afd54f649e3e3f98ec7cf433": {
      "model_module": "@jupyter-widgets/controls",
      "model_module_version": "1.5.0",
      "model_name": "HTMLModel",
      "state": {
       "layout": "IPY_MODEL_0bcee6819e3d420bb01ead3a5c080940",
       "style": "IPY_MODEL_17e4259edd27463e9d874fe95e646d08",
       "value": "100%"
      }
     },
     "30f754ef8e3d45e5956162345845508d": {
      "model_module": "@jupyter-widgets/base",
      "model_module_version": "1.2.0",
      "model_name": "LayoutModel",
      "state": {}
     },
     "3a0db6bc527e49a0851bc41733949609": {
      "model_module": "@jupyter-widgets/controls",
      "model_module_version": "1.5.0",
      "model_name": "HTMLModel",
      "state": {
       "layout": "IPY_MODEL_0d8c60fc88194969815c260abadfa8d1",
       "style": "IPY_MODEL_a4d16249e856496aa638fe68a925f360",
       "value": " 11531/11531 [00:00&lt;00:00, 70361.34it/s]"
      }
     },
     "3cacc04904e84422938f97644563c224": {
      "model_module": "@jupyter-widgets/base",
      "model_module_version": "1.2.0",
      "model_name": "LayoutModel",
      "state": {}
     },
     "3f058320bc8441a9935a330f273925b2": {
      "model_module": "@jupyter-widgets/controls",
      "model_module_version": "1.5.0",
      "model_name": "ProgressStyleModel",
      "state": {
       "description_width": ""
      }
     },
     "41ce79c92140451ab7a121e3d7e21b55": {
      "model_module": "@jupyter-widgets/base",
      "model_module_version": "1.2.0",
      "model_name": "LayoutModel",
      "state": {}
     },
     "4241669043684a3a8d383aeb643253c9": {
      "model_module": "@jupyter-widgets/controls",
      "model_module_version": "1.5.0",
      "model_name": "HTMLModel",
      "state": {
       "layout": "IPY_MODEL_dc51e3bc2c914235b07a5df3b54a215a",
       "style": "IPY_MODEL_9203b6f57886431ca9c9d65e5816a4f6",
       "value": "100%"
      }
     },
     "435f2b97a37c4b6f999edd3edd0a3948": {
      "model_module": "@jupyter-widgets/base",
      "model_module_version": "1.2.0",
      "model_name": "LayoutModel",
      "state": {}
     },
     "447029fad05142d596a559d3f0c46879": {
      "model_module": "@jupyter-widgets/base",
      "model_module_version": "1.2.0",
      "model_name": "LayoutModel",
      "state": {}
     },
     "4bb552845cb4423b9eb04ed6575565bc": {
      "model_module": "@jupyter-widgets/controls",
      "model_module_version": "1.5.0",
      "model_name": "DescriptionStyleModel",
      "state": {
       "description_width": ""
      }
     },
     "4f92a76de2684446a93bcaeb90f10bdd": {
      "model_module": "@jupyter-widgets/base",
      "model_module_version": "1.2.0",
      "model_name": "LayoutModel",
      "state": {}
     },
     "536df5030c7c4ce69f1d73d5cf3e552c": {
      "model_module": "@jupyter-widgets/controls",
      "model_module_version": "1.5.0",
      "model_name": "HBoxModel",
      "state": {
       "children": [
        "IPY_MODEL_b9824e5ab924409eb8e780791d26c753",
        "IPY_MODEL_8e1dece1bcee4572a3339b8b5cca225f",
        "IPY_MODEL_884cfddf6d354842b5cf1334059a6c81"
       ],
       "layout": "IPY_MODEL_30f754ef8e3d45e5956162345845508d"
      }
     },
     "570fa520c8384a0a83b8afff077a2c59": {
      "model_module": "@jupyter-widgets/base",
      "model_module_version": "1.2.0",
      "model_name": "LayoutModel",
      "state": {}
     },
     "57d9a6ecda2d418eb4ca33e5b1653225": {
      "model_module": "@jupyter-widgets/controls",
      "model_module_version": "1.5.0",
      "model_name": "DescriptionStyleModel",
      "state": {
       "description_width": ""
      }
     },
     "57fe83763d5d4119adb004b7f1526074": {
      "model_module": "@jupyter-widgets/controls",
      "model_module_version": "1.5.0",
      "model_name": "HBoxModel",
      "state": {
       "children": [
        "IPY_MODEL_6c3d20be20c647e68d3cd42f490d808c"
       ],
       "layout": "IPY_MODEL_ca6468c53cf949f1adb40b1608f797d7"
      }
     },
     "5dc5464b02324a9c8000a99dc78be51c": {
      "model_module": "@jupyter-widgets/controls",
      "model_module_version": "1.5.0",
      "model_name": "ProgressStyleModel",
      "state": {
       "description_width": ""
      }
     },
     "60d273424efd4ef5bbbc045815642510": {
      "model_module": "@jupyter-widgets/base",
      "model_module_version": "1.2.0",
      "model_name": "LayoutModel",
      "state": {}
     },
     "6c3d20be20c647e68d3cd42f490d808c": {
      "model_module": "@jupyter-widgets/output",
      "model_module_version": "1.0.0",
      "model_name": "OutputModel",
      "state": {
       "layout": "IPY_MODEL_7baabbfb413d45769230e1df0acd306d",
       "outputs": [
        {
         "name": "stdout",
         "output_type": "stream",
         "text": "[893] stress=357.30(4.94%) xing=32.79(21.29%)\n"
        }
       ]
      }
     },
     "6feff1803cfc40bf9caa5d6d186492ff": {
      "model_module": "@jupyter-widgets/controls",
      "model_module_version": "1.5.0",
      "model_name": "HTMLModel",
      "state": {
       "layout": "IPY_MODEL_435f2b97a37c4b6f999edd3edd0a3948",
       "style": "IPY_MODEL_4bb552845cb4423b9eb04ed6575565bc",
       "value": " 1000/1000 [00:46&lt;00:00, 21.93it/s]"
      }
     },
     "71b17964cccd453e88df9036bddbaf5b": {
      "model_module": "@jupyter-widgets/base",
      "model_module_version": "1.2.0",
      "model_name": "LayoutModel",
      "state": {}
     },
     "72be0130605e467b8117908ce54a930c": {
      "model_module": "@jupyter-widgets/controls",
      "model_module_version": "1.5.0",
      "model_name": "ProgressStyleModel",
      "state": {
       "description_width": ""
      }
     },
     "7baabbfb413d45769230e1df0acd306d": {
      "model_module": "@jupyter-widgets/base",
      "model_module_version": "1.2.0",
      "model_name": "LayoutModel",
      "state": {}
     },
     "7bfbaeb1cd924e78ad415d134a0d82c1": {
      "model_module": "@jupyter-widgets/controls",
      "model_module_version": "1.5.0",
      "model_name": "HBoxModel",
      "state": {
       "children": [
        "IPY_MODEL_ac7ade2197124162a67c5a26bd0b4b47",
        "IPY_MODEL_e4ac059b63184acea72f08da0f75639d",
        "IPY_MODEL_3a0db6bc527e49a0851bc41733949609"
       ],
       "layout": "IPY_MODEL_aff460422e9544a595bbd827c417cef9"
      }
     },
     "7e2551f09db34895b55acbc6fae4df06": {
      "model_module": "@jupyter-widgets/controls",
      "model_module_version": "1.5.0",
      "model_name": "DescriptionStyleModel",
      "state": {
       "description_width": ""
      }
     },
     "7e4a8423004e468583f3796f7a30d594": {
      "model_module": "@jupyter-widgets/output",
      "model_module_version": "1.0.0",
      "model_name": "OutputModel",
      "state": {
       "layout": "IPY_MODEL_09a52f4461674d51a158f77b5ad941b6",
       "outputs": [
        {
         "data": {
          "application/vnd.jupyter.widget-view+json": {
           "model_id": "536df5030c7c4ce69f1d73d5cf3e552c",
           "version_major": 2,
           "version_minor": 0
          },
          "text/plain": "  0%|          | 0/834 [00:00<?, ?it/s]"
         },
         "metadata": {},
         "output_type": "display_data"
        }
       ]
      }
     },
     "884cfddf6d354842b5cf1334059a6c81": {
      "model_module": "@jupyter-widgets/controls",
      "model_module_version": "1.5.0",
      "model_name": "HTMLModel",
      "state": {
       "layout": "IPY_MODEL_447029fad05142d596a559d3f0c46879",
       "style": "IPY_MODEL_0d2e0097843541ecb3c825833cd548eb",
       "value": " 443/834 [01:12&lt;01:03,  6.15it/s]"
      }
     },
     "89f669945a8041d58954a6c26d024025": {
      "model_module": "@jupyter-widgets/output",
      "model_module_version": "1.0.0",
      "model_name": "OutputModel",
      "state": {
       "layout": "IPY_MODEL_ba02f8c3cce342928682af3bf1242625",
       "outputs": [
        {
         "data": {
          "image/png": "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\n",
          "text/plain": "<Figure size 432x288 with 1 Axes>"
         },
         "metadata": {},
         "output_type": "display_data"
        }
       ]
      }
     },
     "8e1dece1bcee4572a3339b8b5cca225f": {
      "model_module": "@jupyter-widgets/controls",
      "model_module_version": "1.5.0",
      "model_name": "FloatProgressModel",
      "state": {
       "layout": "IPY_MODEL_a560e60d419b4375911174b31a774aa1",
       "max": 834,
       "style": "IPY_MODEL_5dc5464b02324a9c8000a99dc78be51c",
       "value": 443
      }
     },
     "9203b6f57886431ca9c9d65e5816a4f6": {
      "model_module": "@jupyter-widgets/controls",
      "model_module_version": "1.5.0",
      "model_name": "DescriptionStyleModel",
      "state": {
       "description_width": ""
      }
     },
     "99f0e3908cf64494be1cb6a2741b90bf": {
      "model_module": "@jupyter-widgets/base",
      "model_module_version": "1.2.0",
      "model_name": "LayoutModel",
      "state": {}
     },
     "a1e2acdf969346dd993f3ab81ec20376": {
      "model_module": "@jupyter-widgets/base",
      "model_module_version": "1.2.0",
      "model_name": "LayoutModel",
      "state": {}
     },
     "a4d16249e856496aa638fe68a925f360": {
      "model_module": "@jupyter-widgets/controls",
      "model_module_version": "1.5.0",
      "model_name": "DescriptionStyleModel",
      "state": {
       "description_width": ""
      }
     },
     "a560e60d419b4375911174b31a774aa1": {
      "model_module": "@jupyter-widgets/base",
      "model_module_version": "1.2.0",
      "model_name": "LayoutModel",
      "state": {}
     },
     "ac7ade2197124162a67c5a26bd0b4b47": {
      "model_module": "@jupyter-widgets/controls",
      "model_module_version": "1.5.0",
      "model_name": "HTMLModel",
      "state": {
       "layout": "IPY_MODEL_99f0e3908cf64494be1cb6a2741b90bf",
       "style": "IPY_MODEL_7e2551f09db34895b55acbc6fae4df06",
       "value": "100%"
      }
     },
     "aff460422e9544a595bbd827c417cef9": {
      "model_module": "@jupyter-widgets/base",
      "model_module_version": "1.2.0",
      "model_name": "LayoutModel",
      "state": {}
     },
     "b32bcc53765041cdbbb0e1ef1c036f18": {
      "model_module": "@jupyter-widgets/base",
      "model_module_version": "1.2.0",
      "model_name": "LayoutModel",
      "state": {}
     },
     "b3da6346719a4567a7b66de29e2558f9": {
      "model_module": "@jupyter-widgets/base",
      "model_module_version": "1.2.0",
      "model_name": "LayoutModel",
      "state": {}
     },
     "b962c5f0e44d4810892fb58e76284ef1": {
      "model_module": "@jupyter-widgets/controls",
      "model_module_version": "1.5.0",
      "model_name": "FloatProgressModel",
      "state": {
       "bar_style": "success",
       "layout": "IPY_MODEL_ef7753f7e3cc4b43bea16f10b36fcea2",
       "max": 1000,
       "style": "IPY_MODEL_3f058320bc8441a9935a330f273925b2",
       "value": 1000
      }
     },
     "b9824e5ab924409eb8e780791d26c753": {
      "model_module": "@jupyter-widgets/controls",
      "model_module_version": "1.5.0",
      "model_name": "HTMLModel",
      "state": {
       "layout": "IPY_MODEL_570fa520c8384a0a83b8afff077a2c59",
       "style": "IPY_MODEL_57d9a6ecda2d418eb4ca33e5b1653225",
       "value": "[epoch 893/None]:  53%"
      }
     },
     "ba02f8c3cce342928682af3bf1242625": {
      "model_module": "@jupyter-widgets/base",
      "model_module_version": "1.2.0",
      "model_name": "LayoutModel",
      "state": {}
     },
     "c1723df1025b42b792b63194de751c90": {
      "model_module": "@jupyter-widgets/controls",
      "model_module_version": "1.5.0",
      "model_name": "VBoxModel",
      "state": {
       "children": [
        "IPY_MODEL_7e4a8423004e468583f3796f7a30d594",
        "IPY_MODEL_c4099ba4fa7d4e7c95e81f673c6de3f7"
       ],
       "layout": "IPY_MODEL_3cacc04904e84422938f97644563c224"
      }
     },
     "c1f5217c4b6b4ddc885d0bebf8e5c6ee": {
      "model_module": "@jupyter-widgets/controls",
      "model_module_version": "1.5.0",
      "model_name": "ProgressStyleModel",
      "state": {
       "description_width": ""
      }
     },
     "c4099ba4fa7d4e7c95e81f673c6de3f7": {
      "model_module": "@jupyter-widgets/output",
      "model_module_version": "1.0.0",
      "model_name": "OutputModel",
      "state": {
       "layout": "IPY_MODEL_60d273424efd4ef5bbbc045815642510",
       "outputs": [
        {
         "data": {
          "text/html": "<div>\n<style scoped>\n    .dataframe tbody tr th:only-of-type {\n        vertical-align: middle;\n    }\n\n    .dataframe tbody tr th {\n        vertical-align: top;\n    }\n\n    .dataframe thead th {\n        text-align: right;\n    }\n</style>\n<table border=\"1\" class=\"dataframe\">\n  <thead>\n    <tr style=\"text-align: right;\">\n      <th></th>\n      <th>val_stress</th>\n      <th>val_stress_spc</th>\n      <th>val_xing</th>\n      <th>val_xing_spc</th>\n      <th>dis_loss</th>\n      <th>gen_loss</th>\n      <th>stress</th>\n      <th>critic</th>\n    </tr>\n  </thead>\n  <tbody>\n    <tr>\n      <th>epoch 893</th>\n      <td>357.30</td>\n      <td>4.94%</td>\n      <td>32.79</td>\n      <td>21.29%</td>\n      <td>6.12e-01</td>\n      <td>4.54e+00</td>\n      <td>-3.01e+02</td>\n      <td>1.54e+04</td>\n    </tr>\n  </tbody>\n</table>\n</div>",
          "text/plain": "          val_stress val_stress_spc val_xing val_xing_spc  dis_loss  gen_loss  \\\nepoch 893     357.30          4.94%    32.79       21.29%  6.12e-01  4.54e+00   \n\n              stress    critic  \nepoch 893  -3.01e+02  1.54e+04  "
         },
         "metadata": {},
         "output_type": "display_data"
        }
       ]
      }
     },
     "c73f6400519945299d725019eb8dd9d6": {
      "model_module": "@jupyter-widgets/controls",
      "model_module_version": "1.5.0",
      "model_name": "HTMLModel",
      "state": {
       "layout": "IPY_MODEL_b3da6346719a4567a7b66de29e2558f9",
       "style": "IPY_MODEL_222e99beb1a64b86a31e34e6a908e998",
       "value": " 1000/1000 [00:45&lt;00:00, 22.46it/s]"
      }
     },
     "ca6468c53cf949f1adb40b1608f797d7": {
      "model_module": "@jupyter-widgets/base",
      "model_module_version": "1.2.0",
      "model_name": "LayoutModel",
      "state": {
       "height": "500px",
       "overflow_y": "auto"
      }
     },
     "cccbf7fcebd9416caa1e7ac3c6263b55": {
      "model_module": "@jupyter-widgets/controls",
      "model_module_version": "1.5.0",
      "model_name": "HBoxModel",
      "state": {
       "children": [
        "IPY_MODEL_89f669945a8041d58954a6c26d024025"
       ],
       "layout": "IPY_MODEL_144a55b115e54e339df67a599e67d299"
      }
     },
     "d42158fc44c2460391da186d3e982cef": {
      "model_module": "@jupyter-widgets/controls",
      "model_module_version": "1.5.0",
      "model_name": "HBoxModel",
      "state": {
       "children": [
        "IPY_MODEL_2e792a28afd54f649e3e3f98ec7cf433",
        "IPY_MODEL_f6e8094424cc409e8d358cae58342e3f",
        "IPY_MODEL_c73f6400519945299d725019eb8dd9d6"
       ],
       "layout": "IPY_MODEL_41ce79c92140451ab7a121e3d7e21b55"
      }
     },
     "dc51e3bc2c914235b07a5df3b54a215a": {
      "model_module": "@jupyter-widgets/base",
      "model_module_version": "1.2.0",
      "model_name": "LayoutModel",
      "state": {}
     },
     "e4ac059b63184acea72f08da0f75639d": {
      "model_module": "@jupyter-widgets/controls",
      "model_module_version": "1.5.0",
      "model_name": "FloatProgressModel",
      "state": {
       "bar_style": "success",
       "layout": "IPY_MODEL_a1e2acdf969346dd993f3ab81ec20376",
       "max": 11531,
       "style": "IPY_MODEL_72be0130605e467b8117908ce54a930c",
       "value": 11531
      }
     },
     "ef7753f7e3cc4b43bea16f10b36fcea2": {
      "model_module": "@jupyter-widgets/base",
      "model_module_version": "1.2.0",
      "model_name": "LayoutModel",
      "state": {}
     },
     "f17dc04d146845b09dbb3998fd04c3ac": {
      "model_module": "@jupyter-widgets/controls",
      "model_module_version": "1.5.0",
      "model_name": "HBoxModel",
      "state": {
       "children": [
        "IPY_MODEL_4241669043684a3a8d383aeb643253c9",
        "IPY_MODEL_b962c5f0e44d4810892fb58e76284ef1",
        "IPY_MODEL_6feff1803cfc40bf9caa5d6d186492ff"
       ],
       "layout": "IPY_MODEL_b32bcc53765041cdbbb0e1ef1c036f18"
      }
     },
     "f6e8094424cc409e8d358cae58342e3f": {
      "model_module": "@jupyter-widgets/controls",
      "model_module_version": "1.5.0",
      "model_name": "FloatProgressModel",
      "state": {
       "bar_style": "success",
       "layout": "IPY_MODEL_4f92a76de2684446a93bcaeb90f10bdd",
       "max": 1000,
       "style": "IPY_MODEL_c1f5217c4b6b4ddc885d0bebf8e5c6ee",
       "value": 1000
      }
     }
    },
    "version_major": 2,
    "version_minor": 0
   }
  }
 },
 "nbformat": 4,
 "nbformat_minor": 4
}
