{
 "cells": [
  {
   "cell_type": "markdown",
   "metadata": {
    "id": "wZtYFEhHoBGp"
   },
   "source": [
    "# Import libraries"
   ]
  },
  {
   "cell_type": "code",
   "execution_count": 1,
   "metadata": {
    "id": "KJPfzpxLQI5O"
   },
   "outputs": [],
   "source": [
    "%load_ext autoreload\n",
    "%autoreload 2\n",
    "from deepgd import *"
   ]
  },
  {
   "cell_type": "markdown",
   "metadata": {
    "id": "z4eBEyB1oaJe"
   },
   "source": [
    "# Config"
   ]
  },
  {
   "cell_type": "code",
   "execution_count": 2,
   "metadata": {
    "id": "Q_-MLFhpNvxF"
   },
   "outputs": [],
   "source": [
    "cuda_idx = 0\n",
    "canonicalization = Canonicalization(normalize=Standardization(norm_ord=1),\n",
    "                                    scale=False)\n",
    "config = StaticConfig({\n",
    "    \"name\": 'GAN(gan=rgan,data=best(xing,stress),dis=deep,share=16,embed=0,gp=0,decay=.98)',\n",
    "    \"uid\": None,\n",
    "    \"link\": None,\n",
    "    \"generator\": {\n",
    "        \"params\": {\n",
    "            \"num_blocks\": 9,\n",
    "            \"normalize\": canonicalization\n",
    "        },\n",
    "        \"pretrained\": {\n",
    "            \"name\": None,\n",
    "            \"epoch\": -1,\n",
    "        },\n",
    "        \"optim\": torch.optim.AdamW,\n",
    "        \"lr\" : {\n",
    "            \"initial\": 1e-3,\n",
    "            \"decay\": 0.98,\n",
    "        },\n",
    "    },\n",
    "    \"discriminator\": {\n",
    "        \"params\": {\n",
    "            \"conv\": [2, 16, 16, 16],\n",
    "            \"dense\": [2],\n",
    "            \"shared_depth\": 16,\n",
    "            \"enet_depth\": 0,\n",
    "            \"enet_width\": 64,\n",
    "            \"aggr\": \"add\",\n",
    "            \"normalize\": canonicalization\n",
    "        },\n",
    "        \"pretrained\": {\n",
    "            \"name\": None,\n",
    "            \"epoch\": -1,\n",
    "        },\n",
    "        \"optim\": torch.optim.AdamW,\n",
    "        \"lr\" : {\n",
    "            \"initial\": 1e-3,\n",
    "            \"decay\": 0.98,\n",
    "        },\n",
    "        \"noise\": {\n",
    "            \"std\": 0,\n",
    "            \"decay\": 0.95,\n",
    "        },\n",
    "        \"repeat\": 1,\n",
    "        \"complete\": True,\n",
    "        \"adaptive\": True\n",
    "    },\n",
    "    \"alternate\": \"epoch\",\n",
    "    \"batchsize\": 24,\n",
    "    \"epoch\": {\n",
    "        \"start\": -1,\n",
    "        \"end\": None,\n",
    "    },\n",
    "    \"log_interval\": 1,\n",
    "    \"test\": {\n",
    "        \"name\": \"test\",\n",
    "        \"epoch\": -1,\n",
    "    },\n",
    "    \"gan_flavor\": \"rgan\",\n",
    "    \"gp_weight\": 0,\n",
    "})\n",
    "data_config = StaticConfig({\n",
    "    \"sparse\": False,\n",
    "    \"pivot\": None,\n",
    "    \"init\": \"pmds\",\n",
    "    \"edge\": {\n",
    "        \"index\": \"full_edge_index\",\n",
    "        \"attr\": \"full_edge_attr\",\n",
    "    },\n",
    "})\n",
    "loss_fns = {\n",
    "    Stress(): 1\n",
    "}\n",
    "ctrler_params = {\n",
    "    \"tau\": 0.95,\n",
    "    \"beta\": 1,\n",
    "    \"exploit_rate\": 0.5,\n",
    "    \"warmup\": 2,\n",
    "}\n",
    "paths = StaticConfig({\n",
    "    \"root\": \"artifacts\",\n",
    "    \"checkpoints\": lambda: f\"{paths.root}/checkpoints/{config.name}\",\n",
    "    \"gen_pretrain\": lambda: f\"{paths.root}/checkpoints/{config.generator.pretrained.name}\",\n",
    "    \"dis_pretrain\": lambda: f\"{paths.root}/checkpoints/{config.discriminator.pretrained.name}\",\n",
    "    \"tensorboard\": lambda: f\"{paths.root}/tensorboards/{config.name}\",\n",
    "    \"visualization\": lambda: f\"{paths.root}/visualizations/{config.name}_{config.test.name}\",\n",
    "    \"log\": lambda: f\"{paths.root}/logs/{config.name}.log\",\n",
    "    \"metrics\": lambda suffix: f\"{paths.root}/metrics/{config.name}_{suffix}.pickle\",\n",
    "})"
   ]
  },
  {
   "cell_type": "code",
   "execution_count": 3,
   "metadata": {
    "id": "mdMEAbH10Qaq"
   },
   "outputs": [],
   "source": [
    "if \" \" in config.name:\n",
    "    raise Exception(\"Space is not allowed in model name.\")"
   ]
  },
  {
   "cell_type": "markdown",
   "metadata": {
    "id": "WynW4ZAdBhep"
   },
   "source": [
    "# Prepare"
   ]
  },
  {
   "cell_type": "markdown",
   "metadata": {
    "id": "DR6-vYtr_i_P"
   },
   "source": [
    "## Get log command"
   ]
  },
  {
   "cell_type": "code",
   "execution_count": 4,
   "metadata": {
    "colab": {
     "base_uri": "https://localhost:8080/"
    },
    "id": "9-QpinlslcTO",
    "outputId": "48ae3716-212c-4d46-9efb-b7b4070f73de"
   },
   "outputs": [
    {
     "name": "stdout",
     "output_type": "stream",
     "text": [
      "cd /users/PAS0027/osu10203/deepgd && tail -n1000 -f 'artifacts/logs/GAN(gan=rgan,data=best(xing,stress),dis=deep,share=16,embed=0,gp=0,decay=.98).log'\n"
     ]
    }
   ],
   "source": [
    "print(f\"cd {os.getcwd()} && tail -n1000 -f '{paths.log()}'\")"
   ]
  },
  {
   "cell_type": "code",
   "execution_count": 5,
   "metadata": {},
   "outputs": [
    {
     "name": "stdout",
     "output_type": "stream",
     "text": [
      "tensorboard dev upload --logdir 'artifacts/tensorboards/GAN(gan=rgan,data=best(xing,stress),dis=deep,share=16,embed=0,gp=0,decay=.98)'\n"
     ]
    }
   ],
   "source": [
    "print(f\"tensorboard dev upload --logdir '{paths.tensorboard()}'\")"
   ]
  },
  {
   "cell_type": "markdown",
   "metadata": {
    "id": "innqkwvH_ydD"
   },
   "source": [
    "## Set globals"
   ]
  },
  {
   "cell_type": "code",
   "execution_count": 6,
   "metadata": {
    "id": "Qjq7JlSZlkQR"
   },
   "outputs": [],
   "source": [
    "if cuda_idx is not None and torch.cuda.is_available():\n",
    "    device = f'cuda:{cuda_idx}'\n",
    "    pynvml.nvmlInit()\n",
    "    cuda = pynvml.nvmlDeviceGetHandleByIndex(cuda_idx)\n",
    "else:\n",
    "    device = 'cpu'\n",
    "    cuda =  None\n",
    "np.set_printoptions(precision=2)\n",
    "warnings.filterwarnings(\"ignore\", category=RuntimeWarning)"
   ]
  },
  {
   "cell_type": "markdown",
   "metadata": {
    "id": "0da286l_ApEL"
   },
   "source": [
    "## Load data"
   ]
  },
  {
   "cell_type": "code",
   "execution_count": 7,
   "metadata": {
    "colab": {
     "base_uri": "https://localhost:8080/"
    },
    "id": "RFuSHiZJMU4x",
    "outputId": "54065609-aaea-4536-d79c-73bc73b3f576"
   },
   "outputs": [
    {
     "name": "stdout",
     "output_type": "stream",
     "text": [
      "Load from 'cache/G_list.pickle'\n",
      "Load from 'cache/generate_data_list(list,sparse=False,pivot_mode=None,init_mode=pmds,edge_index=full_edge_index,edge_attr=full_edge_attr,pmds_list=ndarray,gviz_list=ndarray,noisy_layout=True,device=cpu).pickle'\n"
     ]
    },
    {
     "name": "stderr",
     "output_type": "stream",
     "text": [
      "/users/PAS0027/osu10203/.conda/envs/deepgd/lib/python3.9/site-packages/torch_geometric/deprecation.py:13: UserWarning: 'data.DataLoader' is deprecated, use 'loader.DataLoader' instead\n",
      "  warnings.warn(out)\n"
     ]
    }
   ],
   "source": [
    "G_list = load_G_list(data_path='data/rome', index_file='data_index.txt', cache='G_list', cache_prefix='cache/')\n",
    "data_list = generate_data_list(G_list, \n",
    "                               sparse=data_config.sparse, \n",
    "                               pivot_mode=data_config.pivot,\n",
    "                               init_mode=data_config.init,\n",
    "                               edge_index=data_config.edge.index,\n",
    "                               edge_attr=data_config.edge.attr,\n",
    "                               pmds_list=np.load('layouts/rome/pmds.npy', allow_pickle=True),\n",
    "                               gviz_list=np.load('layouts/rome/gviz.npy', allow_pickle=True),\n",
    "                               noisy_layout=True,\n",
    "                               device='cpu', \n",
    "                               cache=True,\n",
    "                               cache_prefix='cache/')\n",
    "train_loader = LazyDeviceMappingDataLoader(data_list[:10000], batch_size=config.batchsize, shuffle=True, device=device)\n",
    "val_loader = LazyDeviceMappingDataLoader(data_list[11000:], batch_size=config.batchsize, shuffle=False, device=device)"
   ]
  },
  {
   "cell_type": "code",
   "execution_count": 8,
   "metadata": {
    "id": "djd1pLt2OxZq"
   },
   "outputs": [],
   "source": [
    "def draw_layout(G, method, draw=True):\n",
    "    if method == 'fa2':\n",
    "        layout = get_fa2_layout(G)\n",
    "    else:\n",
    "        try:\n",
    "            fn = getattr(nx.drawing.layout, f'{method}_layout')\n",
    "            layout = fn(G)\n",
    "        except:\n",
    "            layout = nx.drawing.nx_agraph.graphviz_layout(G, prog=method)\n",
    "    if draw:\n",
    "        nx.draw(G, pos=layout)\n",
    "    return layout"
   ]
  },
  {
   "cell_type": "code",
   "execution_count": 9,
   "metadata": {
    "id": "2vBBw77lR7Em"
   },
   "outputs": [],
   "source": [
    "methods = ['neato', 'dot', 'fdp', 'sfdp', 'twopi', 'circo', 'shell', 'spring', 'circular', 'spectral', 'kamada_kawai', 'fa2', 'pmds']"
   ]
  },
  {
   "cell_type": "code",
   "execution_count": 12,
   "metadata": {
    "id": "dx6VVA9XIc2O"
   },
   "outputs": [],
   "source": [
    "from functools import lru_cache\n",
    "\n",
    "@lru_cache(maxsize=None)\n",
    "def load_pos(method):\n",
    "    return np.load(f'layouts/rome/{method}.npy', allow_pickle=True)"
   ]
  },
  {
   "cell_type": "code",
   "execution_count": 13,
   "metadata": {
    "colab": {
     "base_uri": "https://localhost:8080/",
     "height": 1000,
     "referenced_widgets": [
      "05a37aeeb20049dfa2f97287b3990556",
      "a75afae3adfd4810a0b0991a062535ee",
      "a24ae105ed124595992f7e2e5f909247",
      "01b4cabaf8004dd4b9269b4e6889c498",
      "f3c7c84f2b314bd8b97a7358deaf4fa1",
      "35e4a83e692b4a7bafb46fdf192b2586",
      "62847b5e2678459f845159eef6d4feab",
      "143e81f00313436dacfa246a57108944",
      "e05833f11803400b95ff22246cdc8f2b",
      "53aeede91e074378b5d7f626165655ee",
      "79a43768c1794a10a788a49e5883aa2c"
     ]
    },
    "id": "MSmP-jem9I0X",
    "outputId": "c698f0bf-e96e-4de9-aeda-0b046fc0a03f",
    "scrolled": true,
    "tags": []
   },
   "outputs": [],
   "source": [
    "# best_list = []\n",
    "# best_layout_list = []\n",
    "# for idx, (G, data) in enumerate(zip(tqdm(G_list), data_list)):\n",
    "#     xing, stress, layout = {}, {}, {}\n",
    "#     for m in methods:\n",
    "#         batch = Batch.from_data_list([data])\n",
    "#         pos = load_pos(m)\n",
    "#         p = CanonicalizationByStress()(torch.tensor(pos[idx]).float(), batch)\n",
    "#         x = Xing()(p, batch).item()\n",
    "#         s = Stress()(p, batch).item()\n",
    "#         xing[m] = x\n",
    "#         stress[m] = s\n",
    "#         layout[m] = p.numpy()\n",
    "#         # plt.figure()\n",
    "#         # graph_vis(G, pos[idx])\n",
    "#         # plt.title(f'{m} stress={s:.2f} xing={x}')\n",
    "#     best, *_ = sorted(methods, key=lambda m: (xing[m], stress[m]))\n",
    "#     best_list.append(best)\n",
    "#     best_layout_list.append(layout[best])\n",
    "#     print(f'{best}, xing={xing[best]}, stress={stress[best]:.2f}')"
   ]
  },
  {
   "cell_type": "code",
   "execution_count": 14,
   "metadata": {
    "colab": {
     "base_uri": "https://localhost:8080/"
    },
    "id": "Mx2bZNugdTqa",
    "outputId": "cec05a67-18e8-492f-aaa1-057274a8341a"
   },
   "outputs": [],
   "source": [
    "# pickle.dump(best_list, open('layouts/rome/best[xing,stress].pkl', 'wb'))\n",
    "# np.save('layouts/rome/best[xing,stress].npy', best_layout_list)"
   ]
  },
  {
   "cell_type": "code",
   "execution_count": 15,
   "metadata": {
    "colab": {
     "base_uri": "https://localhost:8080/",
     "height": 49,
     "referenced_widgets": [
      "7e0ae84dd0f3458d893c81b029fe1729",
      "18bdc3bf80fb434abde68de5b72a8870",
      "2e3552ded9594635a51832387ae754a0",
      "54f4aa5080c6498080a63be2cdeefee5",
      "3937586d0879451da5e2138ca3bfd0a0",
      "a9df6e84ce8c499eb2b2cf984995d791",
      "7af6b718dd3d4e01b264377a2fa938e2",
      "a774c86e64004bd6951645f1c24abad4",
      "c86575117cd041f2837762f37d1f387b",
      "6e9907cefb1241688fbd248b8281ed9f",
      "9b8e5405d8264944acab57e81f2f5ad6"
     ]
    },
    "id": "A1-w1fspC53p",
    "outputId": "09c2d5c3-1eef-41eb-dcee-581af1294804"
   },
   "outputs": [
    {
     "data": {
      "application/vnd.jupyter.widget-view+json": {
       "model_id": "81b047ea16fa4199a891240af5285ebd",
       "version_major": 2,
       "version_minor": 0
      },
      "text/plain": [
       "  0%|          | 0/11531 [00:00<?, ?it/s]"
      ]
     },
     "metadata": {},
     "output_type": "display_data"
    }
   ],
   "source": [
    "best_layout_list = np.load('layouts/rome/best[xing,stress].npy', allow_pickle=True)\n",
    "for data, layout in zip(tqdm(data_list), best_layout_list):\n",
    "    data.gt_pos = torch.tensor(layout)"
   ]
  },
  {
   "cell_type": "code",
   "execution_count": 16,
   "metadata": {
    "id": "y6EGh4U7exL_"
   },
   "outputs": [],
   "source": [
    "train_loader = LazyDeviceMappingDataLoader(data_list[:10000], batch_size=config.batchsize, shuffle=True, device=device)\n",
    "val_loader = LazyDeviceMappingDataLoader(data_list[11000:], batch_size=config.batchsize, shuffle=False, device=device)"
   ]
  },
  {
   "cell_type": "code",
   "execution_count": 17,
   "metadata": {
    "colab": {
     "base_uri": "https://localhost:8080/",
     "height": 103,
     "referenced_widgets": [
      "38a33cf69aff48f4aabd4902a7ce48b1",
      "57e277bcb44c4e2fa2a12105d75153d1",
      "20ce017c46bd4a7c9b420270ac579405",
      "13f2df4fe0ce4af88b6e3bd1637065b0",
      "2867faa145ca4860a198d4d0bf830f89",
      "02838cf669174ed9afa41a1a8e680765",
      "7e9e3c031667455f8baca163d3a213e5",
      "4000135e7dfa46529fa6244fccc5cb57",
      "e523e9faac5b4ec38643c05ac5ba99f7",
      "e8e3ee9741e4480dae5003ccc19a7891",
      "9a569045221b43acb3ba2fbf116b2c74"
     ]
    },
    "id": "YEfRRUK0NiNm",
    "outputId": "93f53d05-7667-4cda-a38e-c3a953124f79"
   },
   "outputs": [],
   "source": [
    "# for m in methods:\n",
    "#     layouts = []\n",
    "#     for G in tqdm(G_list):\n",
    "#         layout = draw_layout(G, method=m, draw=False)\n",
    "#         layouts.append(np.array(list(layout.values())))\n",
    "#     np.save(f'layouts/rome/{m}.npy', layouts)"
   ]
  },
  {
   "cell_type": "code",
   "execution_count": 18,
   "metadata": {
    "colab": {
     "base_uri": "https://localhost:8080/",
     "height": 564
    },
    "id": "upK7AHYqPmC5",
    "outputId": "29a88e61-f55f-409c-9194-12c6d5762528"
   },
   "outputs": [],
   "source": [
    "# from collections import Counter\n",
    "\n",
    "# letter_counts = Counter(best_list)\n",
    "# df = pd.DataFrame.from_dict(letter_counts, orient='index')\n",
    "# df.plot(kind='bar', figsize=[12, 8])"
   ]
  },
  {
   "cell_type": "markdown",
   "metadata": {
    "id": "f-ODE2k8BFV6"
   },
   "source": [
    "## Create folders"
   ]
  },
  {
   "cell_type": "code",
   "execution_count": 19,
   "metadata": {
    "id": "3ykUMINYBRog"
   },
   "outputs": [],
   "source": [
    "mkdirs(paths.checkpoints(), paths.tensorboard(), paths.visualization(), f\"{paths.root}/logs\", f\"{paths.root}/metrics\")"
   ]
  },
  {
   "cell_type": "markdown",
   "metadata": {
    "id": "BFq9k5nzBIh5"
   },
   "source": [
    "## Load checkpoints"
   ]
  },
  {
   "cell_type": "code",
   "execution_count": 20,
   "metadata": {
    "id": "W5NbsKkobIfA"
   },
   "outputs": [],
   "source": [
    "class EdgeFeatureDiscriminator(nn.Module):\n",
    "    def __init__(self, \n",
    "                 conv, \n",
    "                 dense,\n",
    "                 shared_depth,\n",
    "                 enet_depth,\n",
    "                 enet_width,\n",
    "                 aggr='add', \n",
    "                 root_weight=True,\n",
    "                 normalize=None):\n",
    "        super().__init__()\n",
    "        self.enet = nn.Sequential(*[\n",
    "            DenseLayer(in_dim=in_d,\n",
    "                       out_dim=out_d,\n",
    "                       skip=nonlin,\n",
    "                       bn=nonlin,\n",
    "                       act=nonlin,\n",
    "                       dp=None)\n",
    "            for in_d, out_d, nonlin \n",
    "            in zip([self._get_feature_dim()] + [enet_width] * (shared_depth-1),\n",
    "                   [enet_width] * shared_depth,\n",
    "                   [True] * (shared_depth-1) + [False])     \n",
    "        ])\n",
    "        self.blocks = nn.ModuleList([\n",
    "            GNNLayer(nfeat_dims=(in_d, out_d),\n",
    "                     efeat_dim=enet_width,\n",
    "                     edge_net=EdgeNet(nfeat_dims=(in_d, out_d), \n",
    "                                      efeat_dim=enet_width, \n",
    "                                      depth=enet_depth, \n",
    "                                      width=enet_width),\n",
    "                     aggr=aggr,\n",
    "                     dense=False,\n",
    "                     skip=nonlin,\n",
    "                     bn=nonlin,\n",
    "                     act=nonlin,\n",
    "                     root_weight=root_weight) \n",
    "            for in_d, out_d, nonlin \n",
    "            in zip(conv[:-1], conv[1:], [True] * (len(conv)-2) + [False])     \n",
    "        ])\n",
    "        self.pool = (gnn.global_mean_pool if aggr == 'mean' \n",
    "                     else gnn.global_add_pool if aggr == 'add' \n",
    "                     else None)\n",
    "        self.dense = nn.Identity() if not dense else nn.Sequential(*[\n",
    "            DenseLayer(in_dim=in_d,\n",
    "                       out_dim=out_d,\n",
    "                       skip=nonlin,\n",
    "                       bn=nonlin,\n",
    "                       act=nonlin,\n",
    "                       dp=None)\n",
    "            for in_d, out_d, nonlin \n",
    "            in zip(conv[-1:] + dense[:-1], dense, [True] * (len(dense)-1) + [False])     \n",
    "        ])\n",
    "        self.normalize = normalize or IdentityTransformation()\n",
    "    \n",
    "    def forward(self, batch):\n",
    "        x = torch.ones_like(batch.pos)\n",
    "        e = self.enet(self._get_features(self._get_edge_info(batch, layout='pos')))\n",
    "        for block in self.blocks:\n",
    "            x = block(x, e, batch)\n",
    "        x = self.pool(x, batch.batch)\n",
    "        x = self.dense(x)\n",
    "        return x\n",
    "    \n",
    "    def _get_edge_info(self, batch, layout='gt_pos'):\n",
    "        pos = self.normalize(batch[layout].float(), batch)\n",
    "        src, dst = get_edges(pos, batch)\n",
    "        v, u = l2_normalize(dst - src, return_norm=True)\n",
    "        d = batch.edge_attr[:, :1]\n",
    "        return {\n",
    "            \"src\": src,\n",
    "            \"dst\": dst,\n",
    "            \"v\": v,\n",
    "            \"u\": u,\n",
    "            \"d\": d,\n",
    "        }\n",
    "\n",
    "    def _get_features(self, edges):\n",
    "        return torch.cat([edges['src'], edges['dst'], edges['d']], dim=1)\n",
    "        \n",
    "    def _get_feature_dim(self):\n",
    "        return self._get_features({\n",
    "            \"src\": torch.zeros(1, 2),\n",
    "            \"dst\": torch.zeros(1, 2),\n",
    "            \"v\": torch.zeros(1, 2),\n",
    "            \"u\": torch.zeros(1, 1),\n",
    "            \"d\": torch.zeros(1, 1),\n",
    "        }).shape[-1]"
   ]
  },
  {
   "cell_type": "code",
   "execution_count": 21,
   "metadata": {
    "id": "96ZActxlL0fJ"
   },
   "outputs": [],
   "source": [
    "class StressDiscriminator(nn.Module):\n",
    "    def __init__(self, normalize=CanonicalizationByStress(), **kwargs):\n",
    "        super().__init__()\n",
    "        self.dummy = nn.Parameter(torch.zeros(1))\n",
    "        self.normalize = normalize\n",
    "        self.stress = Stress(reduce=None)\n",
    "\n",
    "    def forward(self, batch):\n",
    "        return -self.stress(self.normalize(batch.pos, batch), batch)"
   ]
  },
  {
   "cell_type": "code",
   "execution_count": 22,
   "metadata": {
    "id": "IJ6xCYBUuhcw"
   },
   "outputs": [],
   "source": [
    "def get_ckpt_epoch(folder, epoch):\n",
    "    if not os.path.isdir(folder):\n",
    "        os.mkdir(folder)\n",
    "    if epoch >= 0:\n",
    "        return epoch\n",
    "    ckpt_files = os.listdir(folder)\n",
    "    last_epoch = 0\n",
    "    if ckpt_files:\n",
    "        last_epoch = sorted(list(map(lambda x: int(re.search('(?<=epoch_)(\\d+)(?=\\.)', x).group(1)), ckpt_files)))[-1]\n",
    "    return last_epoch + epoch + 1\n",
    "\n",
    "def start_epoch():\n",
    "    return get_ckpt_epoch(paths.checkpoints(), config.epoch.start)"
   ]
  },
  {
   "cell_type": "code",
   "execution_count": 23,
   "metadata": {
    "colab": {
     "base_uri": "https://localhost:8080/"
    },
    "id": "JacDYXka9U01",
    "outputId": "ef4e31ab-2144-497c-8e4f-4d3740ce2d52"
   },
   "outputs": [],
   "source": [
    "generator = Generator(**config.generator.params[...]).to(device)\n",
    "generator_optimizer = config.generator.optim(generator.parameters(), lr=config.generator.lr.initial * config.generator.lr.decay ** start_epoch())\n",
    "generator_scheduler = torch.optim.lr_scheduler.ExponentialLR(generator_optimizer, gamma=config.generator.lr.decay)\n",
    "if start_epoch() != 0:\n",
    "    gen_ckpt_epoch = start_epoch()\n",
    "elif config.generator.pretrained.name is not None and config.generator.pretrained.epoch != 0:\n",
    "    gen_pretrained_epoch = get_ckpt_epoch(paths.gen_pretrain(), config.generator.pretrained.epoch)\n",
    "    gen_ckpt_epoch = gen_pretrained_epoch \n",
    "else:\n",
    "    gen_ckpt_epoch = None\n",
    "if gen_ckpt_epoch is not None:\n",
    "    # Load generator\n",
    "    gen_ckpt_file = f\"{paths.checkpoints()}/gen_epoch_{gen_ckpt_epoch}.pt\"\n",
    "    print(f\"Loading from {gen_ckpt_file}...\")\n",
    "    generator.load_state_dict(torch.load(gen_ckpt_file, map_location=torch.device(device)))\n",
    "    # Load generator optimizer\n",
    "    gen_optim_ckpt_file = f\"{paths.checkpoints()}/gen_optim_epoch_{gen_ckpt_epoch}.pt\"\n",
    "    print(f\"Loading from {gen_optim_ckpt_file}...\")\n",
    "    generator_optimizer.load_state_dict(torch.load(gen_optim_ckpt_file, map_location=torch.device(device)))"
   ]
  },
  {
   "cell_type": "code",
   "execution_count": 24,
   "metadata": {
    "colab": {
     "base_uri": "https://localhost:8080/"
    },
    "id": "oWQhD7-88VXe",
    "outputId": "3ba01600-b546-4e45-a6bd-c7a65af1ae9e"
   },
   "outputs": [],
   "source": [
    "discriminator = EdgeFeatureDiscriminator(**config.discriminator.params[...]).to(device)\n",
    "discriminator_optimizer = config.discriminator.optim(discriminator.parameters(), lr=config.discriminator.lr.initial * config.discriminator.lr.decay ** start_epoch())\n",
    "discriminator_scheduler = torch.optim.lr_scheduler.ExponentialLR(discriminator_optimizer, gamma=config.discriminator.lr.decay)\n",
    "if start_epoch() != 0:\n",
    "    dis_ckpt_epoch = start_epoch()\n",
    "elif config.discriminator.pretrained.name is not None and config.discriminator.pretrained.epoch != 0:\n",
    "    dis_pretrained_epoch = get_ckpt_epoch(paths.dis_pretrain(), config.discriminator.pretrained.epoch)\n",
    "    dis_ckpt_epoch = dis_pretrained_epoch # f\"{paths.dis_pretrain()}/dis_epoch_{dis_pretrained_epoch}.pt\"\n",
    "else:\n",
    "    dis_ckpt_epoch = None\n",
    "if dis_ckpt_epoch is not None:\n",
    "    # Load discriminator\n",
    "    dis_ckpt_file = f\"{paths.checkpoints()}/dis_epoch_{dis_ckpt_epoch}.pt\"\n",
    "    print(f\"Loading from {dis_ckpt_file}...\")\n",
    "    discriminator.load_state_dict(torch.load(dis_ckpt_file, map_location=torch.device(device)))\n",
    "    # Load discriminator optimizer\n",
    "    dis_optim_ckpt_file = f\"{paths.checkpoints()}/dis_optim_epoch_{dis_ckpt_epoch}.pt\"\n",
    "    print(f\"Loading from {dis_optim_ckpt_file}...\")\n",
    "    discriminator_optimizer.load_state_dict(torch.load(dis_optim_ckpt_file, map_location=torch.device(device)))"
   ]
  },
  {
   "cell_type": "markdown",
   "metadata": {
    "id": "N39dDHraedM6"
   },
   "source": [
    "# Train"
   ]
  },
  {
   "cell_type": "code",
   "execution_count": 25,
   "metadata": {
    "id": "BdIJSDSJedM-"
   },
   "outputs": [],
   "source": [
    "stress_criterion = StressDiscriminator().to(device)\n",
    "val_criterion = Stress(reduce=None)\n",
    "xing_criterion = Xing(reduce=None)\n",
    "dis_convert = DiscriminatorDataConverter(complete_graph=config.discriminator.complete, normalize=config.discriminator.params.normalize)\n",
    "tensorboard = SummaryWriter(log_dir=paths.tensorboard())\n",
    "epoch = start_epoch() + 1"
   ]
  },
  {
   "cell_type": "code",
   "execution_count": 26,
   "metadata": {
    "id": "OHRWj1h0edM-"
   },
   "outputs": [],
   "source": [
    "def gradient_penalty(interpolated, discriminator, weight=10):\n",
    "    interpolated.pos.requires_grad_()\n",
    "    prob_interpolated = discriminator(interpolated)\n",
    "    gradients = autograd.grad(outputs=prob_interpolated, \n",
    "                              inputs=interpolated.pos,\n",
    "                              grad_outputs=torch.ones_like(prob_interpolated),\n",
    "                              create_graph=True, \n",
    "                              retain_graph=True, \n",
    "                              allow_unused=True)[0]\n",
    "    gradients_norm = torch.sqrt(gnn.global_add_pool(gradients.square().sum(dim=1), batch.batch) + 1e-8)\n",
    "    return weight * ((gradients_norm - 1) ** 2).mean()"
   ]
  },
  {
   "cell_type": "code",
   "execution_count": 27,
   "metadata": {
    "id": "o5wJJN9AedM_"
   },
   "outputs": [],
   "source": [
    "def get_gp_loss(batch, fake_pos, weight):\n",
    "    if weight > 0:\n",
    "        interp = dis_convert(batch, fake_pos, random.random())\n",
    "        return gradient_penalty(interp, discriminator, weight).mean()\n",
    "    return 0"
   ]
  },
  {
   "cell_type": "code",
   "execution_count": 28,
   "metadata": {
    "id": "QwuA6sRoedM_"
   },
   "outputs": [],
   "source": [
    "def get_sgan_loss(batch, fake_pos, mode='discriminator'):\n",
    "    real = dis_convert(batch)\n",
    "    fake = dis_convert(batch, fake_pos)\n",
    "    pred = discriminator(merge_batch(real, fake)).view(2, -1).T\n",
    "    if mode == 'discriminator':\n",
    "        label = torch.zeros(pred.shape[0]).long()\n",
    "    elif mode == 'generator':\n",
    "        label = torch.ones(pred.shape[0]).long()\n",
    "    else:\n",
    "        raise Exception\n",
    "    return nn.CrossEntropyLoss()(pred, label)"
   ]
  },
  {
   "cell_type": "code",
   "execution_count": 29,
   "metadata": {
    "id": "GuAP1YchedNA"
   },
   "outputs": [],
   "source": [
    "def get_rgan_loss(batch, fake_pos, mode='discriminator'):\n",
    "    real = dis_convert(batch)\n",
    "    fake = dis_convert(batch, fake_pos)\n",
    "    pred = discriminator(merge_batch(real, fake)).view(2, -1).T\n",
    "    real_pred, fake_pred = pred[:,0], pred[:,1]\n",
    "    if mode == 'discriminator':\n",
    "        losses = - F.logsigmoid(real_pred - fake_pred)\n",
    "    elif mode == 'generator':\n",
    "        losses = - F.logsigmoid(fake_pred - real_pred)\n",
    "    else:\n",
    "        raise Exception\n",
    "    return losses.mean()"
   ]
  },
  {
   "cell_type": "code",
   "execution_count": 30,
   "metadata": {
    "id": "KFllQ7BredNA"
   },
   "outputs": [],
   "source": [
    "def get_wgan_loss(batch, fake_pos, mode='discriminator'):\n",
    "    real = dis_convert(batch)\n",
    "    fake = dis_convert(batch, fake_pos)\n",
    "    pred = discriminator(merge_batch(real, fake)).view(2, -1).T\n",
    "    real_pred, fake_pred = pred[:,0], pred[:,1]\n",
    "    if mode == 'discriminator':\n",
    "        losses = fake_pred - real_pred \n",
    "    elif mode == 'generator':\n",
    "        losses = real_pred - fake_pred\n",
    "    else:\n",
    "        raise Exception\n",
    "    return losses.mean()"
   ]
  },
  {
   "cell_type": "code",
   "execution_count": 31,
   "metadata": {
    "id": "r5Kg_tYEedNA"
   },
   "outputs": [],
   "source": [
    "def get_ragan_loss(batch, fake_pos, mode='discriminator'):\n",
    "    real = dis_convert(batch)\n",
    "    fake = dis_convert(batch, fake_pos)\n",
    "    pred = discriminator(merge_batch(real, fake)).view(2, -1).T\n",
    "    real_pred, fake_pred = pred[:,0], pred[:,1]\n",
    "    if mode == 'discriminator':\n",
    "        losses = - F.logsigmoid(real_pred - fake_pred.mean()) - F.logsigmoid(real_pred.mean() - fake_pred)\n",
    "    elif mode == 'generator':\n",
    "        losses = - F.logsigmoid(fake_pred - real_pred.mean()) - F.logsigmoid(fake_pred.mean() - real_pred)\n",
    "    else:\n",
    "        raise Exception\n",
    "    return losses.mean()"
   ]
  },
  {
   "cell_type": "code",
   "execution_count": 32,
   "metadata": {},
   "outputs": [],
   "source": [
    "def get_dgdv2_loss(batch, fake_pos, mode='discriminator'):\n",
    "    fake = dis_convert(batch, fake_pos)\n",
    "    pred = discriminator(fake)\n",
    "    if mode == 'discriminator':\n",
    "        gt = get_gt(batch, fake_pos)\n",
    "        loss = criterion(pred, gt)\n",
    "    elif mode == 'generator':\n",
    "        losses = pred.sum(dim=0)\n",
    "#         losses = torch.tensor(config.importance).to(device) * losses #/ losses.detach()\n",
    "        loss = losses.sum()\n",
    "    else:\n",
    "        raise Exception\n",
    "    return -loss"
   ]
  },
  {
   "cell_type": "code",
   "execution_count": 33,
   "metadata": {
    "id": "3IE_84f-edNB"
   },
   "outputs": [],
   "source": [
    "def get_gan_loss(batch, fake_pos, mode='discriminator'):\n",
    "    return {\"sgan\": get_sgan_loss,\n",
    "            \"wgan\": get_wgan_loss,\n",
    "            \"rgan\": get_rgan_loss,\n",
    "            \"ragan\": get_ragan_loss,\n",
    "            \"dgdv2\": get_dgdv2_loss}[config.gan_flavor](batch, fake_pos, mode)"
   ]
  },
  {
   "cell_type": "code",
   "execution_count": 34,
   "metadata": {
    "colab": {
     "background_save": true,
     "base_uri": "https://localhost:8080/",
     "height": 80
    },
    "id": "2NjekXgkedNB",
    "outputId": "da85b2ec-c0de-459c-c0dd-7ba3519419fa",
    "scrolled": true,
    "tags": []
   },
   "outputs": [
    {
     "data": {
      "application/vnd.jupyter.widget-view+json": {
       "model_id": "c1ce0aa0be4b45f693c03c01e7c7d948",
       "version_major": 2,
       "version_minor": 0
      },
      "text/plain": [
       "Tab(children=(VBox(children=(Wrapper(), Hud())), HBox(children=(Output(),), layout=Layout(height='500px', over…"
      ]
     },
     "metadata": {},
     "output_type": "display_data"
    },
    {
     "ename": "KeyboardInterrupt",
     "evalue": "",
     "output_type": "error",
     "traceback": [
      "\u001b[0;31m---------------------------------------------------------------------------\u001b[0m",
      "\u001b[0;31mKeyboardInterrupt\u001b[0m                         Traceback (most recent call last)",
      "\u001b[0;32m/tmp/slurmtmp.5715224/ipykernel_61680/801679965.py\u001b[0m in \u001b[0;36m<module>\u001b[0;34m\u001b[0m\n\u001b[1;32m    127\u001b[0m     \u001b[0;32mfor\u001b[0m \u001b[0m_\u001b[0m \u001b[0;32min\u001b[0m \u001b[0mrange\u001b[0m\u001b[0;34m(\u001b[0m\u001b[0mconfig\u001b[0m\u001b[0;34m.\u001b[0m\u001b[0mdiscriminator\u001b[0m\u001b[0;34m.\u001b[0m\u001b[0mrepeat\u001b[0m\u001b[0;34m)\u001b[0m\u001b[0;34m:\u001b[0m\u001b[0;34m\u001b[0m\u001b[0;34m\u001b[0m\u001b[0m\n\u001b[1;32m    128\u001b[0m         \u001b[0;32mfor\u001b[0m \u001b[0mbatch\u001b[0m \u001b[0;32min\u001b[0m \u001b[0mtrain_loader\u001b[0m\u001b[0;34m:\u001b[0m\u001b[0;34m\u001b[0m\u001b[0;34m\u001b[0m\u001b[0m\n\u001b[0;32m--> 129\u001b[0;31m             \u001b[0mtrain_dis\u001b[0m\u001b[0;34m(\u001b[0m\u001b[0mbatch\u001b[0m\u001b[0;34m,\u001b[0m \u001b[0mepoch\u001b[0m\u001b[0;34m)\u001b[0m\u001b[0;34m\u001b[0m\u001b[0;34m\u001b[0m\u001b[0m\n\u001b[0m\u001b[1;32m    130\u001b[0m             \u001b[0;32mif\u001b[0m \u001b[0mconfig\u001b[0m\u001b[0;34m.\u001b[0m\u001b[0malternate\u001b[0m \u001b[0;34m==\u001b[0m \u001b[0;34m'iteration'\u001b[0m\u001b[0;34m:\u001b[0m\u001b[0;34m\u001b[0m\u001b[0;34m\u001b[0m\u001b[0m\n\u001b[1;32m    131\u001b[0m                 \u001b[0mtrain_gen\u001b[0m\u001b[0;34m(\u001b[0m\u001b[0mbatch\u001b[0m\u001b[0;34m,\u001b[0m \u001b[0mepoch\u001b[0m\u001b[0;34m)\u001b[0m\u001b[0;34m\u001b[0m\u001b[0;34m\u001b[0m\u001b[0m\n",
      "\u001b[0;32m/tmp/slurmtmp.5715224/ipykernel_61680/801679965.py\u001b[0m in \u001b[0;36mtrain_dis\u001b[0;34m(batch, epoch)\u001b[0m\n\u001b[1;32m      2\u001b[0m     \u001b[0mgenerator\u001b[0m\u001b[0;34m.\u001b[0m\u001b[0mrequires_grad_\u001b[0m\u001b[0;34m(\u001b[0m\u001b[0;32mFalse\u001b[0m\u001b[0;34m)\u001b[0m\u001b[0;34m\u001b[0m\u001b[0;34m\u001b[0m\u001b[0m\n\u001b[1;32m      3\u001b[0m     \u001b[0mdiscriminator\u001b[0m\u001b[0;34m.\u001b[0m\u001b[0mzero_grad\u001b[0m\u001b[0;34m(\u001b[0m\u001b[0;34m)\u001b[0m\u001b[0;34m\u001b[0m\u001b[0;34m\u001b[0m\u001b[0m\n\u001b[0;32m----> 4\u001b[0;31m     \u001b[0mgenerator_output\u001b[0m \u001b[0;34m=\u001b[0m \u001b[0mgenerator\u001b[0m\u001b[0;34m(\u001b[0m\u001b[0mbatch\u001b[0m\u001b[0;34m)\u001b[0m\u001b[0;34m\u001b[0m\u001b[0;34m\u001b[0m\u001b[0m\n\u001b[0m\u001b[1;32m      5\u001b[0m     \u001b[0;32mif\u001b[0m \u001b[0mconfig\u001b[0m\u001b[0;34m.\u001b[0m\u001b[0mdiscriminator\u001b[0m\u001b[0;34m.\u001b[0m\u001b[0mnoise\u001b[0m\u001b[0;34m.\u001b[0m\u001b[0mstd\u001b[0m \u001b[0;34m>\u001b[0m \u001b[0;36m0\u001b[0m\u001b[0;34m:\u001b[0m\u001b[0;34m\u001b[0m\u001b[0;34m\u001b[0m\u001b[0m\n\u001b[1;32m      6\u001b[0m         \u001b[0mgenerator_output\u001b[0m \u001b[0;34m=\u001b[0m \u001b[0mgenerator_output\u001b[0m \u001b[0;34m+\u001b[0m \u001b[0mtorch\u001b[0m\u001b[0;34m.\u001b[0m\u001b[0mrandn_like\u001b[0m\u001b[0;34m(\u001b[0m\u001b[0mgenerator_output\u001b[0m\u001b[0;34m)\u001b[0m \u001b[0;34m*\u001b[0m \u001b[0mconfig\u001b[0m\u001b[0;34m.\u001b[0m\u001b[0mdiscriminator\u001b[0m\u001b[0;34m.\u001b[0m\u001b[0mnoise\u001b[0m\u001b[0;34m.\u001b[0m\u001b[0mstd\u001b[0m \u001b[0;34m*\u001b[0m \u001b[0mconfig\u001b[0m\u001b[0;34m.\u001b[0m\u001b[0mdiscriminator\u001b[0m\u001b[0;34m.\u001b[0m\u001b[0mnoise\u001b[0m\u001b[0;34m.\u001b[0m\u001b[0mdecay\u001b[0m \u001b[0;34m**\u001b[0m \u001b[0mepoch\u001b[0m\u001b[0;34m\u001b[0m\u001b[0;34m\u001b[0m\u001b[0m\n",
      "\u001b[0;32m~/.conda/envs/deepgd/lib/python3.9/site-packages/torch/nn/modules/module.py\u001b[0m in \u001b[0;36m_call_impl\u001b[0;34m(self, *input, **kwargs)\u001b[0m\n\u001b[1;32m   1049\u001b[0m         if not (self._backward_hooks or self._forward_hooks or self._forward_pre_hooks or _global_backward_hooks\n\u001b[1;32m   1050\u001b[0m                 or _global_forward_hooks or _global_forward_pre_hooks):\n\u001b[0;32m-> 1051\u001b[0;31m             \u001b[0;32mreturn\u001b[0m \u001b[0mforward_call\u001b[0m\u001b[0;34m(\u001b[0m\u001b[0;34m*\u001b[0m\u001b[0minput\u001b[0m\u001b[0;34m,\u001b[0m \u001b[0;34m**\u001b[0m\u001b[0mkwargs\u001b[0m\u001b[0;34m)\u001b[0m\u001b[0;34m\u001b[0m\u001b[0;34m\u001b[0m\u001b[0m\n\u001b[0m\u001b[1;32m   1052\u001b[0m         \u001b[0;31m# Do not call functions when jit is used\u001b[0m\u001b[0;34m\u001b[0m\u001b[0;34m\u001b[0m\u001b[0m\n\u001b[1;32m   1053\u001b[0m         \u001b[0mfull_backward_hooks\u001b[0m\u001b[0;34m,\u001b[0m \u001b[0mnon_full_backward_hooks\u001b[0m \u001b[0;34m=\u001b[0m \u001b[0;34m[\u001b[0m\u001b[0;34m]\u001b[0m\u001b[0;34m,\u001b[0m \u001b[0;34m[\u001b[0m\u001b[0;34m]\u001b[0m\u001b[0;34m\u001b[0m\u001b[0;34m\u001b[0m\u001b[0m\n",
      "\u001b[0;32m~/deepgd/deepgd/modules.py\u001b[0m in \u001b[0;36mforward\u001b[0;34m(self, data, weights, output_hidden, numpy)\u001b[0m\n\u001b[1;32m    625\u001b[0m                            \u001b[0mself\u001b[0m\u001b[0;34m.\u001b[0m\u001b[0mhid_blocks\u001b[0m\u001b[0;34m,\u001b[0m\u001b[0;34m\u001b[0m\u001b[0;34m\u001b[0m\u001b[0m\n\u001b[1;32m    626\u001b[0m                            self.out_blocks):\n\u001b[0;32m--> 627\u001b[0;31m             \u001b[0mv\u001b[0m \u001b[0;34m=\u001b[0m \u001b[0mblock\u001b[0m\u001b[0;34m(\u001b[0m\u001b[0mv\u001b[0m\u001b[0;34m,\u001b[0m \u001b[0mdata\u001b[0m\u001b[0;34m,\u001b[0m \u001b[0mweights\u001b[0m\u001b[0;34m)\u001b[0m\u001b[0;34m\u001b[0m\u001b[0;34m\u001b[0m\u001b[0m\n\u001b[0m\u001b[1;32m    628\u001b[0m             \u001b[0;32mif\u001b[0m \u001b[0moutput_hidden\u001b[0m\u001b[0;34m:\u001b[0m\u001b[0;34m\u001b[0m\u001b[0;34m\u001b[0m\u001b[0m\n\u001b[1;32m    629\u001b[0m                 \u001b[0mhidden\u001b[0m\u001b[0;34m.\u001b[0m\u001b[0mappend\u001b[0m\u001b[0;34m(\u001b[0m\u001b[0mv\u001b[0m\u001b[0;34m.\u001b[0m\u001b[0mdetach\u001b[0m\u001b[0;34m(\u001b[0m\u001b[0;34m)\u001b[0m\u001b[0;34m.\u001b[0m\u001b[0mcpu\u001b[0m\u001b[0;34m(\u001b[0m\u001b[0;34m)\u001b[0m\u001b[0;34m.\u001b[0m\u001b[0mnumpy\u001b[0m\u001b[0;34m(\u001b[0m\u001b[0;34m)\u001b[0m \u001b[0;32mif\u001b[0m \u001b[0mnumpy\u001b[0m \u001b[0;32melse\u001b[0m \u001b[0mv\u001b[0m\u001b[0;34m)\u001b[0m\u001b[0;34m\u001b[0m\u001b[0;34m\u001b[0m\u001b[0m\n",
      "\u001b[0;32m~/.conda/envs/deepgd/lib/python3.9/site-packages/torch/nn/modules/module.py\u001b[0m in \u001b[0;36m_call_impl\u001b[0;34m(self, *input, **kwargs)\u001b[0m\n\u001b[1;32m   1049\u001b[0m         if not (self._backward_hooks or self._forward_hooks or self._forward_pre_hooks or _global_backward_hooks\n\u001b[1;32m   1050\u001b[0m                 or _global_forward_hooks or _global_forward_pre_hooks):\n\u001b[0;32m-> 1051\u001b[0;31m             \u001b[0;32mreturn\u001b[0m \u001b[0mforward_call\u001b[0m\u001b[0;34m(\u001b[0m\u001b[0;34m*\u001b[0m\u001b[0minput\u001b[0m\u001b[0;34m,\u001b[0m \u001b[0;34m**\u001b[0m\u001b[0mkwargs\u001b[0m\u001b[0;34m)\u001b[0m\u001b[0;34m\u001b[0m\u001b[0;34m\u001b[0m\u001b[0m\n\u001b[0m\u001b[1;32m   1052\u001b[0m         \u001b[0;31m# Do not call functions when jit is used\u001b[0m\u001b[0;34m\u001b[0m\u001b[0;34m\u001b[0m\u001b[0m\n\u001b[1;32m   1053\u001b[0m         \u001b[0mfull_backward_hooks\u001b[0m\u001b[0;34m,\u001b[0m \u001b[0mnon_full_backward_hooks\u001b[0m \u001b[0;34m=\u001b[0m \u001b[0;34m[\u001b[0m\u001b[0;34m]\u001b[0m\u001b[0;34m,\u001b[0m \u001b[0;34m[\u001b[0m\u001b[0;34m]\u001b[0m\u001b[0;34m\u001b[0m\u001b[0;34m\u001b[0m\u001b[0m\n",
      "\u001b[0;32m~/deepgd/deepgd/modules.py\u001b[0m in \u001b[0;36mforward\u001b[0;34m(self, v, data, weights)\u001b[0m\n\u001b[1;32m    423\u001b[0m                          \u001b[0mdirection\u001b[0m\u001b[0;34m=\u001b[0m\u001b[0mself\u001b[0m\u001b[0;34m.\u001b[0m\u001b[0mdirection\u001b[0m \u001b[0;32mand\u001b[0m \u001b[0mget_extra\u001b[0m\u001b[0;34m,\u001b[0m\u001b[0;34m\u001b[0m\u001b[0;34m\u001b[0m\u001b[0m\n\u001b[1;32m    424\u001b[0m                          weights=weights if get_extra and self.n_weights > 0 else None)\n\u001b[0;32m--> 425\u001b[0;31m             \u001b[0mv\u001b[0m \u001b[0;34m=\u001b[0m \u001b[0mself\u001b[0m\u001b[0;34m.\u001b[0m\u001b[0mgnn\u001b[0m\u001b[0;34m[\u001b[0m\u001b[0mlayer\u001b[0m\u001b[0;34m]\u001b[0m\u001b[0;34m(\u001b[0m\u001b[0mv\u001b[0m\u001b[0;34m,\u001b[0m \u001b[0me\u001b[0m\u001b[0;34m,\u001b[0m \u001b[0mdata\u001b[0m\u001b[0;34m)\u001b[0m\u001b[0;34m\u001b[0m\u001b[0;34m\u001b[0m\u001b[0m\n\u001b[0m\u001b[1;32m    426\u001b[0m         \u001b[0;32mreturn\u001b[0m \u001b[0mv\u001b[0m \u001b[0;34m+\u001b[0m \u001b[0mvres\u001b[0m \u001b[0;32mif\u001b[0m \u001b[0mself\u001b[0m\u001b[0;34m.\u001b[0m\u001b[0mresidual\u001b[0m \u001b[0;32melse\u001b[0m \u001b[0mv\u001b[0m\u001b[0;34m\u001b[0m\u001b[0;34m\u001b[0m\u001b[0m\n\u001b[1;32m    427\u001b[0m \u001b[0;34m\u001b[0m\u001b[0m\n",
      "\u001b[0;32m~/.conda/envs/deepgd/lib/python3.9/site-packages/torch/nn/modules/module.py\u001b[0m in \u001b[0;36m_call_impl\u001b[0;34m(self, *input, **kwargs)\u001b[0m\n\u001b[1;32m   1049\u001b[0m         if not (self._backward_hooks or self._forward_hooks or self._forward_pre_hooks or _global_backward_hooks\n\u001b[1;32m   1050\u001b[0m                 or _global_forward_hooks or _global_forward_pre_hooks):\n\u001b[0;32m-> 1051\u001b[0;31m             \u001b[0;32mreturn\u001b[0m \u001b[0mforward_call\u001b[0m\u001b[0;34m(\u001b[0m\u001b[0;34m*\u001b[0m\u001b[0minput\u001b[0m\u001b[0;34m,\u001b[0m \u001b[0;34m**\u001b[0m\u001b[0mkwargs\u001b[0m\u001b[0;34m)\u001b[0m\u001b[0;34m\u001b[0m\u001b[0;34m\u001b[0m\u001b[0m\n\u001b[0m\u001b[1;32m   1052\u001b[0m         \u001b[0;31m# Do not call functions when jit is used\u001b[0m\u001b[0;34m\u001b[0m\u001b[0;34m\u001b[0m\u001b[0m\n\u001b[1;32m   1053\u001b[0m         \u001b[0mfull_backward_hooks\u001b[0m\u001b[0;34m,\u001b[0m \u001b[0mnon_full_backward_hooks\u001b[0m \u001b[0;34m=\u001b[0m \u001b[0;34m[\u001b[0m\u001b[0;34m]\u001b[0m\u001b[0;34m,\u001b[0m \u001b[0;34m[\u001b[0m\u001b[0;34m]\u001b[0m\u001b[0;34m\u001b[0m\u001b[0;34m\u001b[0m\u001b[0m\n",
      "\u001b[0;32m~/deepgd/deepgd/modules.py\u001b[0m in \u001b[0;36mforward\u001b[0;34m(self, v, e, data)\u001b[0m\n\u001b[1;32m    228\u001b[0m     \u001b[0;32mdef\u001b[0m \u001b[0mforward\u001b[0m\u001b[0;34m(\u001b[0m\u001b[0mself\u001b[0m\u001b[0;34m,\u001b[0m \u001b[0mv\u001b[0m\u001b[0;34m,\u001b[0m \u001b[0me\u001b[0m\u001b[0;34m,\u001b[0m \u001b[0mdata\u001b[0m\u001b[0;34m)\u001b[0m\u001b[0;34m:\u001b[0m\u001b[0;34m\u001b[0m\u001b[0;34m\u001b[0m\u001b[0m\n\u001b[1;32m    229\u001b[0m         \u001b[0mv_\u001b[0m \u001b[0;34m=\u001b[0m \u001b[0mv\u001b[0m\u001b[0;34m\u001b[0m\u001b[0;34m\u001b[0m\u001b[0m\n\u001b[0;32m--> 230\u001b[0;31m         \u001b[0mv\u001b[0m \u001b[0;34m=\u001b[0m \u001b[0mself\u001b[0m\u001b[0;34m.\u001b[0m\u001b[0mconv\u001b[0m\u001b[0;34m(\u001b[0m\u001b[0mv\u001b[0m\u001b[0;34m,\u001b[0m \u001b[0mdata\u001b[0m\u001b[0;34m.\u001b[0m\u001b[0medge_index\u001b[0m\u001b[0;34m,\u001b[0m \u001b[0me\u001b[0m\u001b[0;34m)\u001b[0m\u001b[0;34m\u001b[0m\u001b[0;34m\u001b[0m\u001b[0m\n\u001b[0m\u001b[1;32m    231\u001b[0m         \u001b[0mv\u001b[0m \u001b[0;34m=\u001b[0m \u001b[0mself\u001b[0m\u001b[0;34m.\u001b[0m\u001b[0mdense\u001b[0m\u001b[0;34m(\u001b[0m\u001b[0mv\u001b[0m\u001b[0;34m)\u001b[0m\u001b[0;34m\u001b[0m\u001b[0;34m\u001b[0m\u001b[0m\n\u001b[1;32m    232\u001b[0m         \u001b[0mv\u001b[0m \u001b[0;34m=\u001b[0m \u001b[0mself\u001b[0m\u001b[0;34m.\u001b[0m\u001b[0mbn\u001b[0m\u001b[0;34m(\u001b[0m\u001b[0mv\u001b[0m\u001b[0;34m)\u001b[0m\u001b[0;34m\u001b[0m\u001b[0;34m\u001b[0m\u001b[0m\n",
      "\u001b[0;32m~/.conda/envs/deepgd/lib/python3.9/site-packages/torch/nn/modules/module.py\u001b[0m in \u001b[0;36m_call_impl\u001b[0;34m(self, *input, **kwargs)\u001b[0m\n\u001b[1;32m   1049\u001b[0m         if not (self._backward_hooks or self._forward_hooks or self._forward_pre_hooks or _global_backward_hooks\n\u001b[1;32m   1050\u001b[0m                 or _global_forward_hooks or _global_forward_pre_hooks):\n\u001b[0;32m-> 1051\u001b[0;31m             \u001b[0;32mreturn\u001b[0m \u001b[0mforward_call\u001b[0m\u001b[0;34m(\u001b[0m\u001b[0;34m*\u001b[0m\u001b[0minput\u001b[0m\u001b[0;34m,\u001b[0m \u001b[0;34m**\u001b[0m\u001b[0mkwargs\u001b[0m\u001b[0;34m)\u001b[0m\u001b[0;34m\u001b[0m\u001b[0;34m\u001b[0m\u001b[0m\n\u001b[0m\u001b[1;32m   1052\u001b[0m         \u001b[0;31m# Do not call functions when jit is used\u001b[0m\u001b[0;34m\u001b[0m\u001b[0;34m\u001b[0m\u001b[0m\n\u001b[1;32m   1053\u001b[0m         \u001b[0mfull_backward_hooks\u001b[0m\u001b[0;34m,\u001b[0m \u001b[0mnon_full_backward_hooks\u001b[0m \u001b[0;34m=\u001b[0m \u001b[0;34m[\u001b[0m\u001b[0;34m]\u001b[0m\u001b[0;34m,\u001b[0m \u001b[0;34m[\u001b[0m\u001b[0;34m]\u001b[0m\u001b[0;34m\u001b[0m\u001b[0;34m\u001b[0m\u001b[0m\n",
      "\u001b[0;32m~/.conda/envs/deepgd/lib/python3.9/site-packages/torch_geometric/nn/conv/nn_conv.py\u001b[0m in \u001b[0;36mforward\u001b[0;34m(self, x, edge_index, edge_attr, size)\u001b[0m\n\u001b[1;32m     88\u001b[0m \u001b[0;34m\u001b[0m\u001b[0m\n\u001b[1;32m     89\u001b[0m         \u001b[0;31m# propagate_type: (x: OptPairTensor, edge_attr: OptTensor)\u001b[0m\u001b[0;34m\u001b[0m\u001b[0;34m\u001b[0m\u001b[0m\n\u001b[0;32m---> 90\u001b[0;31m         \u001b[0mout\u001b[0m \u001b[0;34m=\u001b[0m \u001b[0mself\u001b[0m\u001b[0;34m.\u001b[0m\u001b[0mpropagate\u001b[0m\u001b[0;34m(\u001b[0m\u001b[0medge_index\u001b[0m\u001b[0;34m,\u001b[0m \u001b[0mx\u001b[0m\u001b[0;34m=\u001b[0m\u001b[0mx\u001b[0m\u001b[0;34m,\u001b[0m \u001b[0medge_attr\u001b[0m\u001b[0;34m=\u001b[0m\u001b[0medge_attr\u001b[0m\u001b[0;34m,\u001b[0m \u001b[0msize\u001b[0m\u001b[0;34m=\u001b[0m\u001b[0msize\u001b[0m\u001b[0;34m)\u001b[0m\u001b[0;34m\u001b[0m\u001b[0;34m\u001b[0m\u001b[0m\n\u001b[0m\u001b[1;32m     91\u001b[0m \u001b[0;34m\u001b[0m\u001b[0m\n\u001b[1;32m     92\u001b[0m         \u001b[0mx_r\u001b[0m \u001b[0;34m=\u001b[0m \u001b[0mx\u001b[0m\u001b[0;34m[\u001b[0m\u001b[0;36m1\u001b[0m\u001b[0;34m]\u001b[0m\u001b[0;34m\u001b[0m\u001b[0;34m\u001b[0m\u001b[0m\n",
      "\u001b[0;32m~/.conda/envs/deepgd/lib/python3.9/site-packages/torch_geometric/nn/conv/message_passing.py\u001b[0m in \u001b[0;36mpropagate\u001b[0;34m(self, edge_index, size, **kwargs)\u001b[0m\n\u001b[1;32m    292\u001b[0m                 \u001b[0;32mif\u001b[0m \u001b[0mres\u001b[0m \u001b[0;32mis\u001b[0m \u001b[0;32mnot\u001b[0m \u001b[0;32mNone\u001b[0m\u001b[0;34m:\u001b[0m\u001b[0;34m\u001b[0m\u001b[0;34m\u001b[0m\u001b[0m\n\u001b[1;32m    293\u001b[0m                     \u001b[0maggr_kwargs\u001b[0m \u001b[0;34m=\u001b[0m \u001b[0mres\u001b[0m\u001b[0;34m[\u001b[0m\u001b[0;36m0\u001b[0m\u001b[0;34m]\u001b[0m \u001b[0;32mif\u001b[0m \u001b[0misinstance\u001b[0m\u001b[0;34m(\u001b[0m\u001b[0mres\u001b[0m\u001b[0;34m,\u001b[0m \u001b[0mtuple\u001b[0m\u001b[0;34m)\u001b[0m \u001b[0;32melse\u001b[0m \u001b[0mres\u001b[0m\u001b[0;34m\u001b[0m\u001b[0;34m\u001b[0m\u001b[0m\n\u001b[0;32m--> 294\u001b[0;31m             \u001b[0mout\u001b[0m \u001b[0;34m=\u001b[0m \u001b[0mself\u001b[0m\u001b[0;34m.\u001b[0m\u001b[0maggregate\u001b[0m\u001b[0;34m(\u001b[0m\u001b[0mout\u001b[0m\u001b[0;34m,\u001b[0m \u001b[0;34m**\u001b[0m\u001b[0maggr_kwargs\u001b[0m\u001b[0;34m)\u001b[0m\u001b[0;34m\u001b[0m\u001b[0;34m\u001b[0m\u001b[0m\n\u001b[0m\u001b[1;32m    295\u001b[0m             \u001b[0;32mfor\u001b[0m \u001b[0mhook\u001b[0m \u001b[0;32min\u001b[0m \u001b[0mself\u001b[0m\u001b[0;34m.\u001b[0m\u001b[0m_aggregate_forward_hooks\u001b[0m\u001b[0;34m.\u001b[0m\u001b[0mvalues\u001b[0m\u001b[0;34m(\u001b[0m\u001b[0;34m)\u001b[0m\u001b[0;34m:\u001b[0m\u001b[0;34m\u001b[0m\u001b[0;34m\u001b[0m\u001b[0m\n\u001b[1;32m    296\u001b[0m                 \u001b[0mres\u001b[0m \u001b[0;34m=\u001b[0m \u001b[0mhook\u001b[0m\u001b[0;34m(\u001b[0m\u001b[0mself\u001b[0m\u001b[0;34m,\u001b[0m \u001b[0;34m(\u001b[0m\u001b[0maggr_kwargs\u001b[0m\u001b[0;34m,\u001b[0m \u001b[0;34m)\u001b[0m\u001b[0;34m,\u001b[0m \u001b[0mout\u001b[0m\u001b[0;34m)\u001b[0m\u001b[0;34m\u001b[0m\u001b[0;34m\u001b[0m\u001b[0m\n",
      "\u001b[0;32m~/.conda/envs/deepgd/lib/python3.9/site-packages/torch_geometric/nn/conv/message_passing.py\u001b[0m in \u001b[0;36maggregate\u001b[0;34m(self, inputs, index, ptr, dim_size)\u001b[0m\n\u001b[1;32m    337\u001b[0m             \u001b[0;32mreturn\u001b[0m \u001b[0msegment_csr\u001b[0m\u001b[0;34m(\u001b[0m\u001b[0minputs\u001b[0m\u001b[0;34m,\u001b[0m \u001b[0mptr\u001b[0m\u001b[0;34m,\u001b[0m \u001b[0mreduce\u001b[0m\u001b[0;34m=\u001b[0m\u001b[0mself\u001b[0m\u001b[0;34m.\u001b[0m\u001b[0maggr\u001b[0m\u001b[0;34m)\u001b[0m\u001b[0;34m\u001b[0m\u001b[0;34m\u001b[0m\u001b[0m\n\u001b[1;32m    338\u001b[0m         \u001b[0;32melse\u001b[0m\u001b[0;34m:\u001b[0m\u001b[0;34m\u001b[0m\u001b[0;34m\u001b[0m\u001b[0m\n\u001b[0;32m--> 339\u001b[0;31m             return scatter(inputs, index, dim=self.node_dim, dim_size=dim_size,\n\u001b[0m\u001b[1;32m    340\u001b[0m                            reduce=self.aggr)\n\u001b[1;32m    341\u001b[0m \u001b[0;34m\u001b[0m\u001b[0m\n",
      "\u001b[0;32m~/.conda/envs/deepgd/lib/python3.9/site-packages/torch_scatter/scatter.py\u001b[0m in \u001b[0;36mscatter\u001b[0;34m(src, index, dim, out, dim_size, reduce)\u001b[0m\n\u001b[1;32m    155\u001b[0m         \u001b[0;32mreturn\u001b[0m \u001b[0mscatter_mul\u001b[0m\u001b[0;34m(\u001b[0m\u001b[0msrc\u001b[0m\u001b[0;34m,\u001b[0m \u001b[0mindex\u001b[0m\u001b[0;34m,\u001b[0m \u001b[0mdim\u001b[0m\u001b[0;34m,\u001b[0m \u001b[0mout\u001b[0m\u001b[0;34m,\u001b[0m \u001b[0mdim_size\u001b[0m\u001b[0;34m)\u001b[0m\u001b[0;34m\u001b[0m\u001b[0;34m\u001b[0m\u001b[0m\n\u001b[1;32m    156\u001b[0m     \u001b[0;32melif\u001b[0m \u001b[0mreduce\u001b[0m \u001b[0;34m==\u001b[0m \u001b[0;34m'mean'\u001b[0m\u001b[0;34m:\u001b[0m\u001b[0;34m\u001b[0m\u001b[0;34m\u001b[0m\u001b[0m\n\u001b[0;32m--> 157\u001b[0;31m         \u001b[0;32mreturn\u001b[0m \u001b[0mscatter_mean\u001b[0m\u001b[0;34m(\u001b[0m\u001b[0msrc\u001b[0m\u001b[0;34m,\u001b[0m \u001b[0mindex\u001b[0m\u001b[0;34m,\u001b[0m \u001b[0mdim\u001b[0m\u001b[0;34m,\u001b[0m \u001b[0mout\u001b[0m\u001b[0;34m,\u001b[0m \u001b[0mdim_size\u001b[0m\u001b[0;34m)\u001b[0m\u001b[0;34m\u001b[0m\u001b[0;34m\u001b[0m\u001b[0m\n\u001b[0m\u001b[1;32m    158\u001b[0m     \u001b[0;32melif\u001b[0m \u001b[0mreduce\u001b[0m \u001b[0;34m==\u001b[0m \u001b[0;34m'min'\u001b[0m\u001b[0;34m:\u001b[0m\u001b[0;34m\u001b[0m\u001b[0;34m\u001b[0m\u001b[0m\n\u001b[1;32m    159\u001b[0m         \u001b[0;32mreturn\u001b[0m \u001b[0mscatter_min\u001b[0m\u001b[0;34m(\u001b[0m\u001b[0msrc\u001b[0m\u001b[0;34m,\u001b[0m \u001b[0mindex\u001b[0m\u001b[0;34m,\u001b[0m \u001b[0mdim\u001b[0m\u001b[0;34m,\u001b[0m \u001b[0mout\u001b[0m\u001b[0;34m,\u001b[0m \u001b[0mdim_size\u001b[0m\u001b[0;34m)\u001b[0m\u001b[0;34m[\u001b[0m\u001b[0;36m0\u001b[0m\u001b[0;34m]\u001b[0m\u001b[0;34m\u001b[0m\u001b[0;34m\u001b[0m\u001b[0m\n",
      "\u001b[0;32m~/.conda/envs/deepgd/lib/python3.9/site-packages/torch_scatter/scatter.py\u001b[0m in \u001b[0;36mscatter_mean\u001b[0;34m(src, index, dim, out, dim_size)\u001b[0m\n\u001b[1;32m     51\u001b[0m     \u001b[0mones\u001b[0m \u001b[0;34m=\u001b[0m \u001b[0mtorch\u001b[0m\u001b[0;34m.\u001b[0m\u001b[0mones\u001b[0m\u001b[0;34m(\u001b[0m\u001b[0mindex\u001b[0m\u001b[0;34m.\u001b[0m\u001b[0msize\u001b[0m\u001b[0;34m(\u001b[0m\u001b[0;34m)\u001b[0m\u001b[0;34m,\u001b[0m \u001b[0mdtype\u001b[0m\u001b[0;34m=\u001b[0m\u001b[0msrc\u001b[0m\u001b[0;34m.\u001b[0m\u001b[0mdtype\u001b[0m\u001b[0;34m,\u001b[0m \u001b[0mdevice\u001b[0m\u001b[0;34m=\u001b[0m\u001b[0msrc\u001b[0m\u001b[0;34m.\u001b[0m\u001b[0mdevice\u001b[0m\u001b[0;34m)\u001b[0m\u001b[0;34m\u001b[0m\u001b[0;34m\u001b[0m\u001b[0m\n\u001b[1;32m     52\u001b[0m     \u001b[0mcount\u001b[0m \u001b[0;34m=\u001b[0m \u001b[0mscatter_sum\u001b[0m\u001b[0;34m(\u001b[0m\u001b[0mones\u001b[0m\u001b[0;34m,\u001b[0m \u001b[0mindex\u001b[0m\u001b[0;34m,\u001b[0m \u001b[0mindex_dim\u001b[0m\u001b[0;34m,\u001b[0m \u001b[0;32mNone\u001b[0m\u001b[0;34m,\u001b[0m \u001b[0mdim_size\u001b[0m\u001b[0;34m)\u001b[0m\u001b[0;34m\u001b[0m\u001b[0;34m\u001b[0m\u001b[0m\n\u001b[0;32m---> 53\u001b[0;31m     \u001b[0mcount\u001b[0m\u001b[0;34m[\u001b[0m\u001b[0mcount\u001b[0m \u001b[0;34m<\u001b[0m \u001b[0;36m1\u001b[0m\u001b[0;34m]\u001b[0m \u001b[0;34m=\u001b[0m \u001b[0;36m1\u001b[0m\u001b[0;34m\u001b[0m\u001b[0;34m\u001b[0m\u001b[0m\n\u001b[0m\u001b[1;32m     54\u001b[0m     \u001b[0mcount\u001b[0m \u001b[0;34m=\u001b[0m \u001b[0mbroadcast\u001b[0m\u001b[0;34m(\u001b[0m\u001b[0mcount\u001b[0m\u001b[0;34m,\u001b[0m \u001b[0mout\u001b[0m\u001b[0;34m,\u001b[0m \u001b[0mdim\u001b[0m\u001b[0;34m)\u001b[0m\u001b[0;34m\u001b[0m\u001b[0;34m\u001b[0m\u001b[0m\n\u001b[1;32m     55\u001b[0m     \u001b[0;32mif\u001b[0m \u001b[0mout\u001b[0m\u001b[0;34m.\u001b[0m\u001b[0mis_floating_point\u001b[0m\u001b[0;34m(\u001b[0m\u001b[0;34m)\u001b[0m\u001b[0;34m:\u001b[0m\u001b[0;34m\u001b[0m\u001b[0;34m\u001b[0m\u001b[0m\n",
      "\u001b[0;31mKeyboardInterrupt\u001b[0m: "
     ]
    }
   ],
   "source": [
    "def train_dis(batch, epoch):\n",
    "    generator.requires_grad_(False)\n",
    "    discriminator.zero_grad()\n",
    "    generator_output = generator(batch)\n",
    "    if config.discriminator.noise.std > 0:\n",
    "        generator_output = generator_output + torch.randn_like(generator_output) * config.discriminator.noise.std * config.discriminator.noise.decay ** epoch\n",
    "    discriminator_loss = get_gan_loss(batch, generator_output, mode='discriminator')\n",
    "    \n",
    "    # train discriminator\n",
    "    discriminator_loss.backward()\n",
    "    discriminator_optimizer.step()\n",
    "\n",
    "    # gradient penalty\n",
    "    if config.gp_weight > 0:\n",
    "        discriminator.zero_grad()\n",
    "        gp_loss = get_gp_loss(batch, generator_output, config.gp_weight)\n",
    "        gp_loss.backward()\n",
    "        discriminator_optimizer.step()\n",
    "\n",
    "    hud['dis_loss'] = format(discriminator_loss.item(), '.2e')\n",
    "    pbar().update()\n",
    "\n",
    "def train_gen(batch, epoch):\n",
    "    generator.requires_grad_(True)\n",
    "    generator.zero_grad()\n",
    "    discriminator.zero_grad()\n",
    "    generator_output = generator(batch)\n",
    "    if config.discriminator.noise.std > 0:\n",
    "        generator_output = generator_output + torch.randn_like(generator_output) * config.discriminator.noise.std * config.discriminator.noise.decay ** epoch\n",
    "    generator_loss = get_gan_loss(batch, generator_output, mode='generator') \n",
    "    \n",
    "    #train generator\n",
    "    generator_loss.backward()\n",
    "    generator_optimizer.step()\n",
    "\n",
    "    with torch.no_grad():\n",
    "        dis_batch = dis_convert(batch, generator_output)\n",
    "        stress = stress_criterion(dis_batch).mean()\n",
    "        critic = discriminator(dis_batch).mean()\n",
    "    hud.append({'gen_loss': format(generator_loss.item(), '.2e'),\n",
    "                'stress': format(stress.item(), '.2e'),\n",
    "                'critic': format(critic.item(), '.2e')})\n",
    "    pbar().update()\n",
    "\n",
    "def cuda_memsafe_map(fn, *iterables, summary=False):\n",
    "    total, failed = 0, 0\n",
    "    iterator = zip(*iterables)\n",
    "    items = None\n",
    "    while True:\n",
    "        try:\n",
    "            items = next(iterator)\n",
    "            yield fn(*items)\n",
    "        except StopIteration:\n",
    "            if summary:\n",
    "                print(f'Iteration finished. {failed} out of {total} failed!')\n",
    "            break\n",
    "        except RuntimeError:\n",
    "            print('CUDA memory overflow! Skip batch...')\n",
    "            del items\n",
    "            failed += 1\n",
    "        torch.cuda.empty_cache()\n",
    "        total += 1\n",
    "    \n",
    "def validate(model, data_loader, criterion=val_criterion):\n",
    "    def val_one_batch(batch):\n",
    "        batch = preprocess_batch(model, batch)\n",
    "        pred = CanonicalizationByStress()(model(batch), batch)\n",
    "        gt = CanonicalizationByStress()(batch.gt_pos, batch)\n",
    "        loss = criterion(pred, batch)\n",
    "        gt_loss = criterion(gt, batch)\n",
    "        spc = (loss - gt_loss) / torch.maximum(torch.maximum(loss, gt_loss), torch.ones_like(loss)*1e-5)\n",
    "        return loss.mean().item(), spc.mean().item()\n",
    "    loss_all, spc_all = zip(*cuda_memsafe_map(val_one_batch, data_loader))\n",
    "    return np.mean(loss_all), np.mean(spc_all)\n",
    "\n",
    "def log(msg):\n",
    "    msg = f\"[{epoch:03}] {msg}\"\n",
    "    print(msg, file=open(paths.log(), \"a\"))\n",
    "    with log_out: \n",
    "        print(msg)\n",
    "\n",
    "print(f\"{'='*10} {config.link} {'='*10}\", file=open(paths.log(), \"a\"))\n",
    "hud = Hud()\n",
    "pbar = Wrapper(tqdm, total=len(train_loader)*2, smoothing=0)\n",
    "plot_out = Output()\n",
    "log_out = Output()\n",
    "tabs = {\"status\": VBox([pbar, hud]), \n",
    "        \"plot\": HBox([plot_out], layout=Layout(height='500px', overflow_y='auto')),\n",
    "        \"log\": HBox([log_out], layout=Layout(height='500px', overflow_y='auto'))}\n",
    "tab_bar = Tab(children=list(tabs.values()))\n",
    "[tab_bar.set_title(i, name) for i, name in enumerate(tabs)]\n",
    "display(tab_bar)\n",
    "while True:\n",
    "    if epoch % config.log_interval == 0:\n",
    "        torch.save(generator.state_dict(), f\"{paths.checkpoints()}/gen_epoch_{epoch}.pt\")\n",
    "        torch.save(generator_optimizer.state_dict(), f\"{paths.checkpoints()}/gen_optim_epoch_{epoch}.pt\")\n",
    "        torch.save(discriminator.state_dict(), f\"{paths.checkpoints()}/dis_epoch_{epoch}.pt\")\n",
    "        torch.save(discriminator_optimizer.state_dict(), f\"{paths.checkpoints()}/dis_optim_epoch_{epoch}.pt\")\n",
    "        generator.eval()\n",
    "        with torch.no_grad():\n",
    "            val_stress, val_stress_spc = validate(model=generator, data_loader=val_loader)\n",
    "            val_xing, val_xing_spc = validate(model=generator, data_loader=val_loader, criterion=xing_criterion)\n",
    "            with plot_out:\n",
    "                fig = plt.figure()\n",
    "                graph_vis(G_list[11100], generator(make_batch(data_list[11100]).to(device)).cpu())\n",
    "                plt.show()\n",
    "        # tensorboard.add_scalars('loss', {'train': train_loss, \n",
    "        #                                  'validation': val_loss}, epoch)\n",
    "        # for i, fn in enumerate(loss_fns):\n",
    "        #     tensorboard.add_scalars(type(fn).__name__, {'train': train_loss_comp[i].item(), \n",
    "        #                                           'validation': val_loss_comp[i].item()}, epoch)\n",
    "        hud.append({\n",
    "            'val_stress': format(val_stress, '.2f'),\n",
    "            'val_stress_spc': format(val_stress_spc, '.2%'),\n",
    "            'val_xing': format(val_xing, '.2f'),\n",
    "            'val_xing_spc': format(val_xing_spc, '.2%'),\n",
    "        })\n",
    "        log(f\"stress={hud.data['val_stress']}({hud.data['val_stress_spc']}) xing={hud.data['val_xing']}({hud.data['val_xing_spc']})\")\n",
    "        \n",
    "    # handle.update(tab_bar)\n",
    "    pbar().reset()\n",
    "    pbar().set_description(desc=f\"[epoch {epoch}/{config.epoch.end}]\")\n",
    "    hud(title=f\"epoch {epoch}\")\n",
    "    generator.train()\n",
    "    discriminator.train()\n",
    "    # proper: proper layout\n",
    "    for _ in range(config.discriminator.repeat):\n",
    "        for batch in train_loader:\n",
    "            train_dis(batch, epoch)\n",
    "            if config.alternate == 'iteration':\n",
    "                train_gen(batch, epoch)\n",
    "\n",
    "    if config.alternate == 'epoch':\n",
    "        for batch in train_loader:\n",
    "            train_gen(batch, epoch)\n",
    "\n",
    "    discriminator_scheduler.step()\n",
    "    generator_scheduler.step()\n",
    "\n",
    "    if epoch == config.epoch.end:\n",
    "        break\n",
    "    epoch += 1"
   ]
  },
  {
   "cell_type": "markdown",
   "metadata": {
    "id": "0qYK_X_hrq9o"
   },
   "source": [
    "# Test"
   ]
  },
  {
   "cell_type": "code",
   "execution_count": 35,
   "metadata": {
    "colab": {
     "base_uri": "https://localhost:8080/"
    },
    "id": "XEvmAtNjWhcY",
    "outputId": "9f4c86a4-a4b0-48f1-cb58-ab3679173184"
   },
   "outputs": [
    {
     "name": "stdout",
     "output_type": "stream",
     "text": [
      "Loading from artifacts/checkpoints/GAN(gan=rgan,data=best(xing,stress),dis=deep,share=16,embed=0,gp=0,decay=.98)/gen_epoch_1.pt...\n"
     ]
    },
    {
     "data": {
      "text/plain": [
       "<All keys matched successfully>"
      ]
     },
     "execution_count": 35,
     "metadata": {},
     "output_type": "execute_result"
    }
   ],
   "source": [
    "test_epoch = -1\n",
    "\n",
    "test_generator = Generator(**config.generator.params[...]).to(device)\n",
    "test_ckpt_epoch = get_ckpt_epoch(paths.checkpoints(), test_epoch)\n",
    "test_ckpt_file = f\"{paths.checkpoints()}/gen_epoch_{test_ckpt_epoch}.pt\"\n",
    "print(f\"Loading from {test_ckpt_file}...\")\n",
    "test_generator.load_state_dict(torch.load(test_ckpt_file, map_location=torch.device(device)))"
   ]
  },
  {
   "cell_type": "code",
   "execution_count": 36,
   "metadata": {
    "colab": {
     "background_save": true,
     "base_uri": "https://localhost:8080/",
     "height": 1000,
     "referenced_widgets": [
      "9b7d18992dbf4a84931f916fbaaa37d8",
      "2c664d7e1e6d474fb87094fc0da270d3",
      "d375f5f82a4645d7b29c541596dc1c7f",
      "ecfa311bb06b4f6fa504598263ff69d3",
      "d1859990877149eab2b414b4e2a0e0c7",
      "d2be6733734844bca3e1db9b49eb1c1e",
      "4d98072bdf674792a13d77e85dd285d1",
      "f7ed92c383d741a0a1cef2536ff2db13",
      "2ba110f835c64ec4b82974996aed10af",
      "09397ceac9014af0aebca848d4d96d48",
      "fd0709f48d6c4527bc00b5f407f3c1b9"
     ]
    },
    "id": "ZubmSTcYrq9o",
    "outputId": "fc2f65a2-2085-43ac-b110-cbfe742318a8",
    "scrolled": true,
    "tags": []
   },
   "outputs": [
    {
     "data": {
      "application/vnd.jupyter.widget-view+json": {
       "model_id": "d2573a81b9f645fcbf2dbd6535a262d5",
       "version_major": 2,
       "version_minor": 0
      },
      "text/plain": [
       "  0%|          | 0/1000 [00:00<?, ?it/s]"
      ]
     },
     "metadata": {},
     "output_type": "display_data"
    }
   ],
   "source": [
    "rotate = RotateByPrincipalComponents()\n",
    "def test_callback(*, idx, pred, metrics):\n",
    "    # graph_vis(G_list[idx], pred, file_name=f\"{paths.visualization()}/{idx}_{metrics['stress']:.2f}_{metrics['resolution_score']:.2f}.png\")\n",
    "    pred = rotate(torch.tensor(pred), data_list[idx])\n",
    "    graph_vis(G_list[idx], pred)\n",
    "    plt.title(f\"[pred] idx: {idx}, stress: {metrics['stress']:.2f}({metrics['stress_spc']:.2%}), xing: {metrics['xing']:.2f}({metrics['xing_spc']:.2%})\")\n",
    "    plt.show()\n",
    "    gt_pos = rotate(data_list[idx].gt_pos, data_list[idx])\n",
    "    graph_vis(G_list[idx], gt_pos, node_color='orange')\n",
    "    plt.title(f\"[gt] idx: {idx}, stress: {metrics['gt_stress']:.2f}, xing: {metrics['gt_xing']:.2f}\")\n",
    "    plt.show()\n",
    "    \n",
    "test_metrics = test(model=test_generator, \n",
    "                    criteria_list=[], \n",
    "                    dataset=data_list, \n",
    "                    idx_range=range(10000, 11000), \n",
    "#                     callback=test_callback,\n",
    "                    gt_pos=None)\n",
    "pickle.dump(test_metrics, open(paths.metrics(\"test\"), \"wb\"))"
   ]
  },
  {
   "cell_type": "code",
   "execution_count": 37,
   "metadata": {
    "colab": {
     "base_uri": "https://localhost:8080/",
     "height": 318
    },
    "id": "t2rFXIr_PsrJ",
    "outputId": "6a4205b1-4630-4de4-ec72-bdba3d3ea114"
   },
   "outputs": [
    {
     "name": "stdout",
     "output_type": "stream",
     "text": [
      "stress: tensor(1268.5999)\n",
      "stress_spc: tensor(0.7539, dtype=torch.float64)\n",
      "xing: tensor(293.7220)\n",
      "xing_spc: tensor(0.9349, dtype=torch.float64)\n",
      "l1_angle: tensor(136.3538)\n",
      "l1_angle_spc: tensor(0.4499, dtype=torch.float64)\n",
      "edge: tensor(0.7543)\n",
      "edge_spc: tensor(0.7816, dtype=torch.float64)\n",
      "ring: tensor(731.1533)\n",
      "ring_spc: tensor(0.6134, dtype=torch.float64)\n",
      "tsne: tensor(0.5647)\n",
      "tsne_spc: tensor(0.6406, dtype=torch.float64)\n",
      "reso_score: tensor(0.3501)\n",
      "min_angle: tensor(0.5714)\n"
     ]
    },
    {
     "data": {
      "text/html": [
       "<style type=\"text/css\">\n",
       "</style>\n",
       "<table id=\"T_df394_\">\n",
       "  <thead>\n",
       "    <tr>\n",
       "      <th class=\"blank level0\" >&nbsp;</th>\n",
       "      <th class=\"col_heading level0 col0\" >stress</th>\n",
       "      <th class=\"col_heading level0 col1\" >stress_spc</th>\n",
       "      <th class=\"col_heading level0 col2\" >xing</th>\n",
       "      <th class=\"col_heading level0 col3\" >xing_spc</th>\n",
       "      <th class=\"col_heading level0 col4\" >l1_angle</th>\n",
       "      <th class=\"col_heading level0 col5\" >l1_angle_spc</th>\n",
       "      <th class=\"col_heading level0 col6\" >edge</th>\n",
       "      <th class=\"col_heading level0 col7\" >edge_spc</th>\n",
       "      <th class=\"col_heading level0 col8\" >ring</th>\n",
       "      <th class=\"col_heading level0 col9\" >ring_spc</th>\n",
       "      <th class=\"col_heading level0 col10\" >tsne</th>\n",
       "      <th class=\"col_heading level0 col11\" >tsne_spc</th>\n",
       "      <th class=\"col_heading level0 col12\" >reso_score</th>\n",
       "      <th class=\"col_heading level0 col13\" >min_angle</th>\n",
       "    </tr>\n",
       "  </thead>\n",
       "  <tbody>\n",
       "    <tr>\n",
       "      <th id=\"T_df394_level0_row0\" class=\"row_heading level0 row0\" >0</th>\n",
       "      <td id=\"T_df394_row0_col0\" class=\"data row0 col0\" >1268.60</td>\n",
       "      <td id=\"T_df394_row0_col1\" class=\"data row0 col1\" >75.39%</td>\n",
       "      <td id=\"T_df394_row0_col2\" class=\"data row0 col2\" >293.72</td>\n",
       "      <td id=\"T_df394_row0_col3\" class=\"data row0 col3\" >93.49%</td>\n",
       "      <td id=\"T_df394_row0_col4\" class=\"data row0 col4\" >136.35</td>\n",
       "      <td id=\"T_df394_row0_col5\" class=\"data row0 col5\" >44.99%</td>\n",
       "      <td id=\"T_df394_row0_col6\" class=\"data row0 col6\" >0.75</td>\n",
       "      <td id=\"T_df394_row0_col7\" class=\"data row0 col7\" >78.16%</td>\n",
       "      <td id=\"T_df394_row0_col8\" class=\"data row0 col8\" >731.15</td>\n",
       "      <td id=\"T_df394_row0_col9\" class=\"data row0 col9\" >61.34%</td>\n",
       "      <td id=\"T_df394_row0_col10\" class=\"data row0 col10\" >0.56</td>\n",
       "      <td id=\"T_df394_row0_col11\" class=\"data row0 col11\" >64.06%</td>\n",
       "      <td id=\"T_df394_row0_col12\" class=\"data row0 col12\" >0.35</td>\n",
       "      <td id=\"T_df394_row0_col13\" class=\"data row0 col13\" >0.57</td>\n",
       "    </tr>\n",
       "  </tbody>\n",
       "</table>\n"
      ],
      "text/plain": [
       "<pandas.io.formats.style.Styler at 0x2b5ecb6f6dc0>"
      ]
     },
     "execution_count": 37,
     "metadata": {},
     "output_type": "execute_result"
    }
   ],
   "source": [
    "metrics = test_metrics\n",
    "print('stress:', metrics['stress'].mean())\n",
    "print('stress_spc:', metrics['stress_spc'].mean())\n",
    "print('xing:', metrics['xing'].mean())\n",
    "print('xing_spc:', metrics['xing_spc'].mean())\n",
    "print('l1_angle:', metrics['l1_angle'].mean())\n",
    "print('l1_angle_spc:', metrics['l1_angle_spc'].mean())\n",
    "print('edge:', metrics['edge'].mean())\n",
    "print('edge_spc:', metrics['edge_spc'].mean())\n",
    "print('ring:', metrics['ring'].mean())\n",
    "print('ring_spc:', metrics['ring_spc'].mean())\n",
    "print('tsne:', metrics['tsne'].mean())\n",
    "print('tsne_spc:', metrics['tsne_spc'].mean())\n",
    "print('reso_score:', metrics['resolution_score'].mean())\n",
    "print('min_angle:', metrics['min_angle'].mean())\n",
    "columns = [\n",
    "    'stress',\n",
    "    'stress_spc',\n",
    "    'xing',\n",
    "    'xing_spc',\n",
    "    'l1_angle',\n",
    "    'l1_angle_spc',\n",
    "    'edge',\n",
    "    'edge_spc',\n",
    "    'ring',\n",
    "    'ring_spc',\n",
    "    'tsne',\n",
    "    'tsne_spc',\n",
    "    'reso_score',\n",
    "    'min_angle'\n",
    "]\n",
    "df = pd.DataFrame(map(lambda m: metrics[m].mean().item(), list(metrics.keys())[:-1])).set_axis(columns).T\n",
    "df.style.format({c: \"{:.2f}\" for c in columns if 'spc' not in c} | {c: \"{:.2%}\" for c in columns if 'spc' in c})"
   ]
  },
  {
   "cell_type": "code",
   "execution_count": 38,
   "metadata": {
    "id": "5e7vPr0M3mmG"
   },
   "outputs": [],
   "source": [
    "metrics = {}"
   ]
  },
  {
   "cell_type": "code",
   "execution_count": 39,
   "metadata": {},
   "outputs": [],
   "source": [
    "methods = ['fa2']"
   ]
  },
  {
   "cell_type": "code",
   "execution_count": 40,
   "metadata": {
    "colab": {
     "base_uri": "https://localhost:8080/",
     "height": 433,
     "referenced_widgets": [
      "a0cf6e046add4e639e52db69656e0db9",
      "8e237731bb1241ac858581b25389c012",
      "0891547293ad4211a138a4d92e01bb0b",
      "34912c8e581e47a99a1c4829c38cb75c",
      "5aa034c99c94424e835a2ee954b829ed",
      "248f6393eff74c3eb8740ca6d698045b",
      "686687a29c7f4ec98c4d76ca2062b14b",
      "996a84d1c23b47e4a2af252c6b60f55d",
      "3507f883bb954412b21c1c5641763ed7",
      "9582a849d91e457cadd514c95d6e1b5b",
      "52bfe674c2c547e09b7400a32a96f703",
      "93d58b3a12394fe1aa6f0431fc7cb0db",
      "af1d7855c9d646b0bcc7d95c4cb147a6",
      "f820e2b898cd461da04a4f651d27273d",
      "c0a112cfaa3d4d0aa9530372de84d8fb",
      "fd03985495694fbf9feb3f31ef8d18ce",
      "e02a2b36aa4c4d6fb5d2ac6693c1a927",
      "06f388ff5e3a48828d465096fe69977b",
      "c0052778c9c940e88935593e9f94b83b",
      "99a5e77a192d4a989c4534237eb16730",
      "77c6da092a6647fc9e54f7e276d75616",
      "8c13c0e8b5934117a662a78296bcb1b6",
      "cdcc3bd4235247b48c468c0f6b7682cc",
      "a2c6fa6fef4549cc853fa93b4b18cf95",
      "15cc02a756314083801b5f6798a1948c",
      "24d1c67fe52f452ab0c767e3c1a818aa",
      "c117db25c6fd484a9d0c7f210ccb1ade",
      "b090b60b61084cf692b3066dfac7f0a8",
      "5eab9848059c491b9c6cbac88683f025",
      "e87ffbaa1f204b52b9226337a506b040",
      "cf52198a9e4b46c7b49537a79919c09e",
      "51501227bc064ccbab97c22a679a0750",
      "d1b794a997dc457888a90bf44faee9b4",
      "21a755b50e5047bea797eccf24b35a0c",
      "16e78c3823ec4faf9f9cd9095b218ff5",
      "4ccd332c6b734acd8eff236eaf568dfa",
      "bd60fd13748347e48629df78fa455765",
      "e9187e4ba80b4fafa0334dae2e39aded",
      "4c39ec7c92b4402e8eedcb27beabaab1",
      "59a8194269f943bba571f710ad856973",
      "8e41bc25b9f348b1b85b381547cd60d1",
      "34d0f1529e64437fb25e639b41096072",
      "7e832c7543df43668eb72c0aa6356349",
      "f94162c9c5fe4c2581e3b80beaeb820b",
      "0284946fccf34607b25e1d6d81d4f72a",
      "8e8d4243a3624ba58d760bdf601d5126",
      "b1f0932594fe44f4be4beb8880172871",
      "820bb554d139437b8f6a6997f9002261",
      "459e375d1fe4497cb4197ef88e303c6d",
      "5726814966da46bbba942a114de4b319",
      "448beea5445f4642809801da46aa7e7c",
      "3746c0f0daf04f51805b4c95db20063a",
      "2ff74d1c705348438a32da37910c3300",
      "52f03147b5ab4cb390f9802b7a17a508",
      "5428511d652a47348203e8f3cd2e076d",
      "7b58569bee2e44c5a61a81f9a32c4c01",
      "c5e05d74b9404333a8155304e3497ba2",
      "3ad4e058bde44d87abab780368d49118",
      "8e437049b5c74ff1beddad93e30b19aa",
      "0c61377f4cc34b27ae34bdd6d976d868",
      "9ce35f9a9a23436ea77604513b5c4659",
      "dafbc43ad79c4feda093aefe490fc4b3",
      "497160b6bf80469a89680a03a468c8bb",
      "3265725ecb914981b6f07f68b8a582df",
      "1f0ac20d99d04ffb9ee75613526d3de6",
      "dee0e5716560483b8e2b107566439d94",
      "ca99841a1abd4fbd94927c49aaa711cb",
      "163a44ff1be04583ae7bd62726c55204",
      "f3b727045a0b4b4fabd147ec9c843e14",
      "7c4b4fe859cf48ab99b7e2780a24a539",
      "d9700cffab66480cb81e3722faab4e8b",
      "2c49acc1e0a64aa4b8ec461b0596848e",
      "691817157f43412f9c36002167606b75",
      "d0ae688d71734b56bb348de54e841798",
      "07a364ebcdaa491dbcc2304e4a8dae96",
      "538b277307b1449eaa79a2a91b4741d3",
      "f7b7dd4cbaa5468687b988c5e416a154",
      "877be862a4f045ec8b221097626becb5",
      "1bf37012df0844338ac689d4f6cc8eab",
      "33fe06641be544d3aab2c25cb979416f",
      "68de0d9261fa4e6999967b6f196d149c",
      "7017c5ba1ffc467495aca2689e516f7d",
      "e0997460cc21428695a0c278c6691baf",
      "522443bef4904996b6361ea265c4c56f",
      "dfe044b67917466f971ba84a11956d5e",
      "70b2d0ba1c1d4102841fb963480de1c7",
      "7b158daacd754a40bc0a48fc9ea6fea2",
      "8904f61ff30741e488eacf0e49440f66",
      "685dee6f1e1f4c2983d2d0b8eb90ed00",
      "005155a4d62d48cbbaf3d69614b08d81",
      "d2779dfa620041e4b32a7731926a5982",
      "53048bf27cb24080b4cdf20379302223",
      "0b5bff7794a14a20964da70b87158c2c",
      "ec664e55ea16435590393ae1617cccea",
      "f10d62ef464a45a7935610d869c282e3",
      "5e7c09bc35db4a3a8b9847c6d8478883",
      "987ea331b617446facc81b08bab1f8c4",
      "446c5a687b0d43358ab036d43ce281c3",
      "d89e216f62ae4a9999da1a91dd5e48b9",
      "09d03e7e66f54cafacefbfeda5fd6e5c",
      "d58c680562a44bbd9252e7ec6eebc06c",
      "71ea2594fdd942acac1cc61055438544",
      "fecda4df301b437f9fbfb61a7b593dc0",
      "bcf6741d926248cb92acf627d6557d2b",
      "5bd9868b9bda4f68b500a43916e2d148",
      "4bc5e02035de44ad827c4f881fd75afc",
      "7d80033a955e4feb947ca9cea931d90b",
      "e975c796d80d498992a50f87a2b0105c",
      "028b2ff105904a19a9a3e8ebf66967bb",
      "10dbf2cbdb1943eda6a0acaf5da3fe85",
      "14d59c7acc5e4e07a289db44406a4851",
      "d9447df93d714907bc9c768eb4910352",
      "d4a9ace081bf488680a7e43e0eaed71d",
      "022a60cde19546bfa6ecfb4947615ad9",
      "10c01207d9ba4fe197dc80717fceecc0",
      "f4995936570d4ba1a65e9a66e410b505",
      "b4bf66303e61491385cd616076a11c04",
      "a24ab2bfe7a44263bf60936d6e53ec32",
      "59e2e8ecc9f84d57af7bf44f5bba5df7",
      "be2eb92aab8045a99fd19195c3546b60",
      "e6715db2b048434796e910952cb5eb62",
      "8de2335007ba4a6b9935fa0c514c9f6a",
      "493a4bbe8057437a8c8acf4d03f8dcb0",
      "20b03955acc74e238695717124705520",
      "a89f9507496b4cf8bdd63bdb9bff79c4",
      "9752a1f6c8b6488d9628b8e0c023f10f",
      "61a0bebc687341a7bb3352febc8d4986",
      "07e0ff9c82a444788c60edee70688ca7",
      "4427901f35e54cc48e08527bb402c22a",
      "bd9dafb825954091ba975d71ab8c89ea",
      "7ec0f07bfe51484da38c18dc66d77804",
      "03943afebc4d4b668b54c7a0fd014a37",
      "a7a6b38a76424d738146b6a5786cf2c8",
      "1d1aa4729784470584c0001c1a296008",
      "e0c68ac9b5b442eeb77e6d9ea3c1da42",
      "c858ef9fd9324ab0ab885d85e3c8582f",
      "627bc2899c994a0c96c5d43e89dc77ff",
      "0e2c2f21fa8041038151170992ecb848",
      "2d9bcbf7629a4671bf8755e790276eb7",
      "77a4edf6ab1848a6a6df20c1c07358c6",
      "acf2212d6bb44c729b63281a98377095",
      "0c7a72818da3454190bab7f30a29e249",
      "d865af915b8b4aaa8cec8d40f1f8351d"
     ]
    },
    "id": "s1UnzfID4Ai6",
    "outputId": "3e204e76-68fd-4111-f527-91f6e3b7a3ca"
   },
   "outputs": [
    {
     "data": {
      "application/vnd.jupyter.widget-view+json": {
       "model_id": "21671c685e5a477687d2daf5f82e9c2e",
       "version_major": 2,
       "version_minor": 0
      },
      "text/plain": [
       "  0%|          | 0/1000 [00:00<?, ?it/s]"
      ]
     },
     "metadata": {},
     "output_type": "display_data"
    }
   ],
   "source": [
    "for m in methods:\n",
    "    metrics[m] = test(model=test_generator, \n",
    "                      criteria_list=[], \n",
    "                      dataset=data_list, \n",
    "                      idx_range=range(10000, 11000), \n",
    "                      callback=None,\n",
    "                      gt_pos=load_pos(m))"
   ]
  },
  {
   "cell_type": "code",
   "execution_count": 41,
   "metadata": {
    "id": "dQ7hdCtk5u6K"
   },
   "outputs": [],
   "source": [
    "mean_metrics = {key : list(map(lambda m: metrics[key][m].mean().item(), list(metrics[key].keys())[:-1])) for key in metrics}"
   ]
  },
  {
   "cell_type": "code",
   "execution_count": 42,
   "metadata": {
    "colab": {
     "base_uri": "https://localhost:8080/",
     "height": 313
    },
    "id": "OGyaCmLXTuvA",
    "outputId": "6c42d9f3-9869-4504-bc9c-d0eedaecfd90"
   },
   "outputs": [
    {
     "data": {
      "text/html": [
       "<style type=\"text/css\">\n",
       "</style>\n",
       "<table id=\"T_1b674_\">\n",
       "  <thead>\n",
       "    <tr>\n",
       "      <th class=\"blank level0\" >&nbsp;</th>\n",
       "      <th class=\"col_heading level0 col0\" >stress</th>\n",
       "      <th class=\"col_heading level0 col1\" >stress_spc</th>\n",
       "      <th class=\"col_heading level0 col2\" >xing</th>\n",
       "      <th class=\"col_heading level0 col3\" >xing_spc</th>\n",
       "      <th class=\"col_heading level0 col4\" >l1_angle</th>\n",
       "      <th class=\"col_heading level0 col5\" >l1_angle_spc</th>\n",
       "      <th class=\"col_heading level0 col6\" >edge</th>\n",
       "      <th class=\"col_heading level0 col7\" >edge_spc</th>\n",
       "      <th class=\"col_heading level0 col8\" >ring</th>\n",
       "      <th class=\"col_heading level0 col9\" >ring_spc</th>\n",
       "      <th class=\"col_heading level0 col10\" >tsne</th>\n",
       "      <th class=\"col_heading level0 col11\" >tsne_spc</th>\n",
       "      <th class=\"col_heading level0 col12\" >reso_score</th>\n",
       "      <th class=\"col_heading level0 col13\" >min_angle</th>\n",
       "    </tr>\n",
       "  </thead>\n",
       "  <tbody>\n",
       "    <tr>\n",
       "      <th id=\"T_1b674_level0_row0\" class=\"row_heading level0 row0\" >fa2</th>\n",
       "      <td id=\"T_1b674_row0_col0\" class=\"data row0 col0\" >1268.60</td>\n",
       "      <td id=\"T_1b674_row0_col1\" class=\"data row0 col1\" >75.51%</td>\n",
       "      <td id=\"T_1b674_row0_col2\" class=\"data row0 col2\" >293.72</td>\n",
       "      <td id=\"T_1b674_row0_col3\" class=\"data row0 col3\" >92.33%</td>\n",
       "      <td id=\"T_1b674_row0_col4\" class=\"data row0 col4\" >136.35</td>\n",
       "      <td id=\"T_1b674_row0_col5\" class=\"data row0 col5\" >47.20%</td>\n",
       "      <td id=\"T_1b674_row0_col6\" class=\"data row0 col6\" >0.75</td>\n",
       "      <td id=\"T_1b674_row0_col7\" class=\"data row0 col7\" >73.56%</td>\n",
       "      <td id=\"T_1b674_row0_col8\" class=\"data row0 col8\" >731.15</td>\n",
       "      <td id=\"T_1b674_row0_col9\" class=\"data row0 col9\" >62.95%</td>\n",
       "      <td id=\"T_1b674_row0_col10\" class=\"data row0 col10\" >0.56</td>\n",
       "      <td id=\"T_1b674_row0_col11\" class=\"data row0 col11\" >64.61%</td>\n",
       "      <td id=\"T_1b674_row0_col12\" class=\"data row0 col12\" >0.35</td>\n",
       "      <td id=\"T_1b674_row0_col13\" class=\"data row0 col13\" >0.57</td>\n",
       "    </tr>\n",
       "  </tbody>\n",
       "</table>\n"
      ],
      "text/plain": [
       "<pandas.io.formats.style.Styler at 0x2b5ecb911220>"
      ]
     },
     "execution_count": 42,
     "metadata": {},
     "output_type": "execute_result"
    }
   ],
   "source": [
    "columns = [\n",
    "    'stress',\n",
    "    'stress_spc',\n",
    "    'xing',\n",
    "    'xing_spc',\n",
    "    'l1_angle',\n",
    "    'l1_angle_spc',\n",
    "    'edge',\n",
    "    'edge_spc',\n",
    "    'ring',\n",
    "    'ring_spc',\n",
    "    'tsne',\n",
    "    'tsne_spc',\n",
    "    'reso_score',\n",
    "    'min_angle'\n",
    "]\n",
    "df = pd.DataFrame(mean_metrics).set_axis(columns).T\n",
    "df.style.format({c: \"{:.2f}\" for c in columns if 'spc' not in c} | {c: \"{:.2%}\" for c in columns if 'spc' in c})"
   ]
  },
  {
   "cell_type": "markdown",
   "metadata": {
    "id": "L5S1HWnHOWIl"
   },
   "source": [
    "# Large Graph"
   ]
  },
  {
   "cell_type": "code",
   "execution_count": null,
   "metadata": {
    "id": "_pefPcV1OZdD"
   },
   "outputs": [],
   "source": [
    "scalability = pd.read_csv(f\"/__artifacts__/data/scalability.csv\", index_col=\"index\")\n",
    "scalability"
   ]
  },
  {
   "cell_type": "code",
   "execution_count": null,
   "metadata": {
    "id": "oMhWAsdvPnTX"
   },
   "outputs": [],
   "source": [
    "rescale = CanonicalizationByStress()\n",
    "stressfn = Stress()\n",
    "rotate = RotateByPrincipalComponents()"
   ]
  },
  {
   "cell_type": "code",
   "execution_count": null,
   "metadata": {
    "id": "LR83OcAaPID5"
   },
   "outputs": [],
   "source": [
    "stress_list = []\n",
    "spc_list = []\n",
    "pmds_list = np.load(\"layouts/new_large_graph/pmds.npy\", allow_pickle=True)\n",
    "gviz_list = np.load(\"layouts/new_large_graph/gviz.npy\", allow_pickle=True)\n",
    "with torch.no_grad():\n",
    "    for idx, col in tqdm(scalability.iterrows(), total=len(scalability)):\n",
    "        # if idx not in [406, 516]: continue\n",
    "        torch.cuda.empty_cache()\n",
    "        G = load_mtx(col['file'])\n",
    "        G.remove_edges_from(nx.selfloop_edges(G))\n",
    "        data = generate_data_list(G, \n",
    "                                sparse=data_config.sparse, \n",
    "                                pivot_mode=data_config.pivot,\n",
    "                                init_mode=data_config.init,\n",
    "                                edge_index=data_config.edge.index,\n",
    "                                edge_attr=data_config.edge.attr,\n",
    "                                pmds_list=pmds_list[idx],\n",
    "                                gviz_list=gviz_list[idx],\n",
    "                                device=device)\n",
    "        batch = Batch.from_data_list([data]).to(device)\n",
    "        # generator.train()\n",
    "        # generator(batch)\n",
    "        generator.eval()\n",
    "        pred = generator(batch)\n",
    "        pos = rotate(rescale(pred, batch), batch)\n",
    "        gt = rotate(rescale(batch.gt_pos, batch), batch)\n",
    "        stress = stressfn(pos, batch).item()\n",
    "        gt_stress = stressfn(gt, batch).item()\n",
    "        spc = (stress - gt_stress) / np.maximum(stress, gt_stress)\n",
    "        stress_list.append(stress)\n",
    "        spc_list.append(spc)\n",
    "\n",
    "        np.save(f\"/__artifacts__/gan_result/data/scalability_{idx}.npy\", pos.cpu().numpy())\n",
    "        graph_attr = dict(node_size=1, \n",
    "                        with_labels=False, \n",
    "                        labels=dict(zip(list(G.nodes), map(lambda n: n if type(n) is int else n[1:], list(G.nodes)))),\n",
    "                        font_color=\"white\", \n",
    "                        font_weight=\"bold\",\n",
    "                        font_size=12,\n",
    "                        width=0.1)\n",
    "\n",
    "        # gt_pos = pickle.load(open(f\"/__artifacts__/data/scalability_{idx}_gt.pkl\", \"rb\"))\n",
    "\n",
    "        plt.figure(figsize=[12, 9])\n",
    "        nx.draw(G, pos=gt.cpu().numpy(), node_color='orange', **graph_attr)\n",
    "        plt.title(f\"neato: large_{idx}\")\n",
    "        plt.axis(\"equal\")\n",
    "        plt.savefig(f\"/__artifacts__/gan_result/output/{idx}_{col['name']}_{col['n']}_{spc}_nx.png\", dpi=300)\n",
    "        plt.show()\n",
    "\n",
    "        plt.figure(figsize=[12, 9])\n",
    "        graph_vis(G, pos.cpu().numpy(), **graph_attr)\n",
    "        plt.title(f\"dgd: large_{idx}, spc={spc:.2%}\")\n",
    "        plt.axis(\"equal\")\n",
    "        plt.savefig(f\"/__artifacts__/gan_result/output/{idx}_{col['name']}_{col['n']}_{spc}_dgd.png\", dpi=300)\n",
    "        plt.show()"
   ]
  },
  {
   "cell_type": "code",
   "execution_count": null,
   "metadata": {
    "id": "gRXTewkYeuq1"
   },
   "outputs": [],
   "source": []
  }
 ],
 "metadata": {
  "accelerator": "GPU",
  "colab": {
   "collapsed_sections": [
    "w_p3OD0woiSM",
    "DR6-vYtr_i_P",
    "innqkwvH_ydD",
    "f-ODE2k8BFV6",
    "N39dDHraedM6"
   ],
   "machine_shape": "hm",
   "name": "GAN(gan=rgan,data=best(xing,stress),dis=deep,share=16,embed=0,gp=0).ipynb",
   "provenance": []
  },
  "kernelspec": {
   "display_name": "DeepGD",
   "language": "python",
   "name": "deepgd"
  },
  "language_info": {
   "codemirror_mode": {
    "name": "ipython",
    "version": 3
   },
   "file_extension": ".py",
   "mimetype": "text/x-python",
   "name": "python",
   "nbconvert_exporter": "python",
   "pygments_lexer": "ipython3",
   "version": "3.9.7"
  },
  "widgets": {
   "application/vnd.jupyter.widget-state+json": {
    "state": {
     "006edee1550e4c3481307998e0f62655": {
      "model_module": "@jupyter-widgets/controls",
      "model_module_version": "1.5.0",
      "model_name": "HBoxModel",
      "state": {
       "children": [
        "IPY_MODEL_cbd48a41bab24bc381194e828e2930d6"
       ],
       "layout": "IPY_MODEL_fbf285a2685d463c890a940956b66765"
      }
     },
     "0bed2488091a4d9f89421446a6cdb40a": {
      "model_module": "@jupyter-widgets/base",
      "model_module_version": "1.2.0",
      "model_name": "LayoutModel",
      "state": {}
     },
     "0c5ef8e991ea44ad811da891d5f7beaf": {
      "model_module": "@jupyter-widgets/base",
      "model_module_version": "1.2.0",
      "model_name": "LayoutModel",
      "state": {
       "height": "500px",
       "overflow_y": "auto"
      }
     },
     "174b71f450d043deb7a8c1a0026191d4": {
      "model_module": "@jupyter-widgets/controls",
      "model_module_version": "1.5.0",
      "model_name": "HTMLModel",
      "state": {
       "layout": "IPY_MODEL_3a46613a5e9349da9fe45089b480e9ad",
       "style": "IPY_MODEL_55c9ea6d188743248072dc0233026ee4",
       "value": " 11531/11531 [00:00&lt;00:00, 60167.91it/s]"
      }
     },
     "1786b847fb024e60b60f286bc5913647": {
      "model_module": "@jupyter-widgets/base",
      "model_module_version": "1.2.0",
      "model_name": "LayoutModel",
      "state": {}
     },
     "18f10656ae364635adbf707a631bbf56": {
      "model_module": "@jupyter-widgets/base",
      "model_module_version": "1.2.0",
      "model_name": "LayoutModel",
      "state": {}
     },
     "1d10ba02ee014dc49f59f6bdb350dbb2": {
      "model_module": "@jupyter-widgets/output",
      "model_module_version": "1.0.0",
      "model_name": "OutputModel",
      "state": {
       "layout": "IPY_MODEL_0bed2488091a4d9f89421446a6cdb40a",
       "outputs": [
        {
         "data": {
          "application/vnd.jupyter.widget-view+json": {
           "model_id": "477d382bb0cb47aea91fb793ea5f18e1",
           "version_major": 2,
           "version_minor": 0
          },
          "text/plain": "  0%|          | 0/834 [00:00<?, ?it/s]"
         },
         "metadata": {},
         "output_type": "display_data"
        }
       ]
      }
     },
     "1d6d9561ace94ab0a9d3ac27857c83f9": {
      "model_module": "@jupyter-widgets/controls",
      "model_module_version": "1.5.0",
      "model_name": "FloatProgressModel",
      "state": {
       "layout": "IPY_MODEL_7630c0c11ebd4135a72ecee9ca238250",
       "max": 834,
       "style": "IPY_MODEL_e99087e837d646b48fac045ab72fd6cc",
       "value": 30
      }
     },
     "21671c685e5a477687d2daf5f82e9c2e": {
      "model_module": "@jupyter-widgets/controls",
      "model_module_version": "1.5.0",
      "model_name": "HBoxModel",
      "state": {
       "children": [
        "IPY_MODEL_f69faaf0d23e42fe94d9e3d3bfae9e8f",
        "IPY_MODEL_43c2f5e689624962b24f909994e77046",
        "IPY_MODEL_7340eac6131c44f4ba081135de4803e9"
       ],
       "layout": "IPY_MODEL_c0477d4e08c84c63b9ec6641d81c325d"
      }
     },
     "24f148e5be2c4c61ac5d2858444d433a": {
      "model_module": "@jupyter-widgets/controls",
      "model_module_version": "1.5.0",
      "model_name": "DescriptionStyleModel",
      "state": {
       "description_width": ""
      }
     },
     "2beaf38ebd1f4ee59c7ba96cec95b79c": {
      "model_module": "@jupyter-widgets/base",
      "model_module_version": "1.2.0",
      "model_name": "LayoutModel",
      "state": {}
     },
     "2dd91deac036492ab4caf2e1474c504b": {
      "model_module": "@jupyter-widgets/controls",
      "model_module_version": "1.5.0",
      "model_name": "HTMLModel",
      "state": {
       "layout": "IPY_MODEL_ffea7773749946a9911301db47ca7362",
       "style": "IPY_MODEL_84b4333a32b14efdbb6e6cffa9ea085f",
       "value": " 30/834 [00:03&lt;01:36,  8.30it/s]"
      }
     },
     "31ff1d89d9bd4ad6aa55da614ee76795": {
      "model_module": "@jupyter-widgets/controls",
      "model_module_version": "1.5.0",
      "model_name": "HTMLModel",
      "state": {
       "layout": "IPY_MODEL_cc67e619278d479cacbb6553c64c93dc",
       "style": "IPY_MODEL_bf1701e672654c0c988d811d49e02e17",
       "value": " 1081/11531 [01:00&lt;09:30, 18.33it/s]"
      }
     },
     "35abc7418f7e4dd8aab194c14342066f": {
      "model_module": "@jupyter-widgets/controls",
      "model_module_version": "1.5.0",
      "model_name": "HTMLModel",
      "state": {
       "layout": "IPY_MODEL_a717eaaf9539417bae665faafdd57e8b",
       "style": "IPY_MODEL_7a241e96fcd04222a314d0573c3236e1",
       "value": " 1000/1000 [00:46&lt;00:00, 21.69it/s]"
      }
     },
     "3a46613a5e9349da9fe45089b480e9ad": {
      "model_module": "@jupyter-widgets/base",
      "model_module_version": "1.2.0",
      "model_name": "LayoutModel",
      "state": {}
     },
     "3c1f0a24fc6045e38ee2bd867647cb88": {
      "model_module": "@jupyter-widgets/controls",
      "model_module_version": "1.5.0",
      "model_name": "ProgressStyleModel",
      "state": {
       "description_width": ""
      }
     },
     "42da75a863a246a5a99319193d786914": {
      "model_module": "@jupyter-widgets/controls",
      "model_module_version": "1.5.0",
      "model_name": "DescriptionStyleModel",
      "state": {
       "description_width": ""
      }
     },
     "43c2f5e689624962b24f909994e77046": {
      "model_module": "@jupyter-widgets/controls",
      "model_module_version": "1.5.0",
      "model_name": "FloatProgressModel",
      "state": {
       "bar_style": "success",
       "layout": "IPY_MODEL_2beaf38ebd1f4ee59c7ba96cec95b79c",
       "max": 1000,
       "style": "IPY_MODEL_b18aec698e64465a921261a2c09a9092",
       "value": 1000
      }
     },
     "477d382bb0cb47aea91fb793ea5f18e1": {
      "model_module": "@jupyter-widgets/controls",
      "model_module_version": "1.5.0",
      "model_name": "HBoxModel",
      "state": {
       "children": [
        "IPY_MODEL_c938959548cf4262ad5f247700bd1f11",
        "IPY_MODEL_1d6d9561ace94ab0a9d3ac27857c83f9",
        "IPY_MODEL_2dd91deac036492ab4caf2e1474c504b"
       ],
       "layout": "IPY_MODEL_e04ba9b6478c467e9a77910013b14e82"
      }
     },
     "4a0762ebccd24f5c9f5617a2cf6584db": {
      "model_module": "@jupyter-widgets/base",
      "model_module_version": "1.2.0",
      "model_name": "LayoutModel",
      "state": {}
     },
     "4d8d3eccf6204d97b8b9d0571a12c7e3": {
      "model_module": "@jupyter-widgets/base",
      "model_module_version": "1.2.0",
      "model_name": "LayoutModel",
      "state": {}
     },
     "55c9ea6d188743248072dc0233026ee4": {
      "model_module": "@jupyter-widgets/controls",
      "model_module_version": "1.5.0",
      "model_name": "DescriptionStyleModel",
      "state": {
       "description_width": ""
      }
     },
     "569919dea23945839b2f02a3fb4aa094": {
      "model_module": "@jupyter-widgets/controls",
      "model_module_version": "1.5.0",
      "model_name": "HTMLModel",
      "state": {
       "layout": "IPY_MODEL_726317ffd4c94a30b1f1d5da8f38978f",
       "style": "IPY_MODEL_fbe3cd43bccf4be78cca445e9e217e51",
       "value": "  9%"
      }
     },
     "61b5e8a80c88425db887fa4ba74d0152": {
      "model_module": "@jupyter-widgets/base",
      "model_module_version": "1.2.0",
      "model_name": "LayoutModel",
      "state": {}
     },
     "61e39048b0a542b39a888db1b6821206": {
      "model_module": "@jupyter-widgets/controls",
      "model_module_version": "1.5.0",
      "model_name": "VBoxModel",
      "state": {
       "children": [
        "IPY_MODEL_1d10ba02ee014dc49f59f6bdb350dbb2",
        "IPY_MODEL_97a75dc7bcbe4a93a1b059a64130bd1a"
       ],
       "layout": "IPY_MODEL_8a40a53f82f4407d91e07e024625e604"
      }
     },
     "7030a15c0366475bb4c9c2f98a122424": {
      "model_module": "@jupyter-widgets/base",
      "model_module_version": "1.2.0",
      "model_name": "LayoutModel",
      "state": {}
     },
     "726317ffd4c94a30b1f1d5da8f38978f": {
      "model_module": "@jupyter-widgets/base",
      "model_module_version": "1.2.0",
      "model_name": "LayoutModel",
      "state": {}
     },
     "7286cd4dc65c41f0b1ad219dd13b760e": {
      "model_module": "@jupyter-widgets/controls",
      "model_module_version": "1.5.0",
      "model_name": "DescriptionStyleModel",
      "state": {
       "description_width": ""
      }
     },
     "7340eac6131c44f4ba081135de4803e9": {
      "model_module": "@jupyter-widgets/controls",
      "model_module_version": "1.5.0",
      "model_name": "HTMLModel",
      "state": {
       "layout": "IPY_MODEL_ff348dca41594b28b37d0a69f6e871a9",
       "style": "IPY_MODEL_a0335d94ff144f07af3a4c3a0ed588a1",
       "value": " 1000/1000 [00:46&lt;00:00, 21.45it/s]"
      }
     },
     "7630c0c11ebd4135a72ecee9ca238250": {
      "model_module": "@jupyter-widgets/base",
      "model_module_version": "1.2.0",
      "model_name": "LayoutModel",
      "state": {}
     },
     "7a241e96fcd04222a314d0573c3236e1": {
      "model_module": "@jupyter-widgets/controls",
      "model_module_version": "1.5.0",
      "model_name": "DescriptionStyleModel",
      "state": {
       "description_width": ""
      }
     },
     "81b047ea16fa4199a891240af5285ebd": {
      "model_module": "@jupyter-widgets/controls",
      "model_module_version": "1.5.0",
      "model_name": "HBoxModel",
      "state": {
       "children": [
        "IPY_MODEL_97b7df4a761344c385df48d9fec317a0",
        "IPY_MODEL_f75381539b9848ec923349e9078f3405",
        "IPY_MODEL_174b71f450d043deb7a8c1a0026191d4"
       ],
       "layout": "IPY_MODEL_61b5e8a80c88425db887fa4ba74d0152"
      }
     },
     "84b4333a32b14efdbb6e6cffa9ea085f": {
      "model_module": "@jupyter-widgets/controls",
      "model_module_version": "1.5.0",
      "model_name": "DescriptionStyleModel",
      "state": {
       "description_width": ""
      }
     },
     "87ed96fe9fba4d17b6925fe7136f72a9": {
      "model_module": "@jupyter-widgets/controls",
      "model_module_version": "1.5.0",
      "model_name": "ProgressStyleModel",
      "state": {
       "description_width": ""
      }
     },
     "89aec9ff8db942a2a9366002a214ab2b": {
      "model_module": "@jupyter-widgets/base",
      "model_module_version": "1.2.0",
      "model_name": "LayoutModel",
      "state": {}
     },
     "8a40a53f82f4407d91e07e024625e604": {
      "model_module": "@jupyter-widgets/base",
      "model_module_version": "1.2.0",
      "model_name": "LayoutModel",
      "state": {}
     },
     "97a75dc7bcbe4a93a1b059a64130bd1a": {
      "model_module": "@jupyter-widgets/output",
      "model_module_version": "1.0.0",
      "model_name": "OutputModel",
      "state": {
       "layout": "IPY_MODEL_4a0762ebccd24f5c9f5617a2cf6584db",
       "outputs": [
        {
         "data": {
          "text/html": "<div>\n<style scoped>\n    .dataframe tbody tr th:only-of-type {\n        vertical-align: middle;\n    }\n\n    .dataframe tbody tr th {\n        vertical-align: top;\n    }\n\n    .dataframe thead th {\n        text-align: right;\n    }\n</style>\n<table border=\"1\" class=\"dataframe\">\n  <thead>\n    <tr style=\"text-align: right;\">\n      <th></th>\n      <th>val_stress</th>\n      <th>val_stress_spc</th>\n      <th>val_xing</th>\n      <th>val_xing_spc</th>\n      <th>dis_loss</th>\n    </tr>\n  </thead>\n  <tbody>\n    <tr>\n      <th>epoch 1</th>\n      <td>1371.42</td>\n      <td>74.91%</td>\n      <td>319.98</td>\n      <td>93.51%</td>\n      <td>0.00e+00</td>\n    </tr>\n  </tbody>\n</table>\n</div>",
          "text/plain": "        val_stress val_stress_spc val_xing val_xing_spc  dis_loss\nepoch 1    1371.42         74.91%   319.98       93.51%  0.00e+00"
         },
         "metadata": {},
         "output_type": "display_data"
        }
       ]
      }
     },
     "97b7df4a761344c385df48d9fec317a0": {
      "model_module": "@jupyter-widgets/controls",
      "model_module_version": "1.5.0",
      "model_name": "HTMLModel",
      "state": {
       "layout": "IPY_MODEL_d6959748579b4faa96d0393463cf197c",
       "style": "IPY_MODEL_42da75a863a246a5a99319193d786914",
       "value": "100%"
      }
     },
     "a0335d94ff144f07af3a4c3a0ed588a1": {
      "model_module": "@jupyter-widgets/controls",
      "model_module_version": "1.5.0",
      "model_name": "DescriptionStyleModel",
      "state": {
       "description_width": ""
      }
     },
     "a717eaaf9539417bae665faafdd57e8b": {
      "model_module": "@jupyter-widgets/base",
      "model_module_version": "1.2.0",
      "model_name": "LayoutModel",
      "state": {}
     },
     "a746f558e45c41268da6b14ca3af62bb": {
      "model_module": "@jupyter-widgets/controls",
      "model_module_version": "1.5.0",
      "model_name": "DescriptionStyleModel",
      "state": {
       "description_width": ""
      }
     },
     "aec19b704b994a2baee0249302a2deb4": {
      "model_module": "@jupyter-widgets/base",
      "model_module_version": "1.2.0",
      "model_name": "LayoutModel",
      "state": {}
     },
     "b18aec698e64465a921261a2c09a9092": {
      "model_module": "@jupyter-widgets/controls",
      "model_module_version": "1.5.0",
      "model_name": "ProgressStyleModel",
      "state": {
       "description_width": ""
      }
     },
     "b199e47f79fc4bdab8120e0094726c45": {
      "model_module": "@jupyter-widgets/base",
      "model_module_version": "1.2.0",
      "model_name": "LayoutModel",
      "state": {}
     },
     "b51b48bc67d6407f9f0953813755eeab": {
      "model_module": "@jupyter-widgets/controls",
      "model_module_version": "1.5.0",
      "model_name": "HTMLModel",
      "state": {
       "layout": "IPY_MODEL_aec19b704b994a2baee0249302a2deb4",
       "style": "IPY_MODEL_a746f558e45c41268da6b14ca3af62bb",
       "value": "100%"
      }
     },
     "b8a5b3900cd54d00945816b3ef3af677": {
      "model_module": "@jupyter-widgets/base",
      "model_module_version": "1.2.0",
      "model_name": "LayoutModel",
      "state": {}
     },
     "bf1701e672654c0c988d811d49e02e17": {
      "model_module": "@jupyter-widgets/controls",
      "model_module_version": "1.5.0",
      "model_name": "DescriptionStyleModel",
      "state": {
       "description_width": ""
      }
     },
     "c0477d4e08c84c63b9ec6641d81c325d": {
      "model_module": "@jupyter-widgets/base",
      "model_module_version": "1.2.0",
      "model_name": "LayoutModel",
      "state": {}
     },
     "c1ce0aa0be4b45f693c03c01e7c7d948": {
      "model_module": "@jupyter-widgets/controls",
      "model_module_version": "1.5.0",
      "model_name": "TabModel",
      "state": {
       "_titles": {
        "0": "status",
        "1": "plot",
        "2": "log"
       },
       "children": [
        "IPY_MODEL_61e39048b0a542b39a888db1b6821206",
        "IPY_MODEL_dcff4f828dc74581b1d26557c348d1d8",
        "IPY_MODEL_006edee1550e4c3481307998e0f62655"
       ],
       "layout": "IPY_MODEL_f87125e4d1d547749bb67d83d3d833a9"
      }
     },
     "c4f868634b214704b0f8c1a7bdf22886": {
      "model_module": "@jupyter-widgets/output",
      "model_module_version": "1.0.0",
      "model_name": "OutputModel",
      "state": {
       "layout": "IPY_MODEL_d242fe13bf534671a549220a242886bc",
       "outputs": [
        {
         "data": {
          "image/png": "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\n",
          "text/plain": "<Figure size 432x288 with 1 Axes>"
         },
         "metadata": {},
         "output_type": "display_data"
        }
       ]
      }
     },
     "c938959548cf4262ad5f247700bd1f11": {
      "model_module": "@jupyter-widgets/controls",
      "model_module_version": "1.5.0",
      "model_name": "HTMLModel",
      "state": {
       "layout": "IPY_MODEL_18f10656ae364635adbf707a631bbf56",
       "style": "IPY_MODEL_7286cd4dc65c41f0b1ad219dd13b760e",
       "value": "[epoch 1/None]:   4%"
      }
     },
     "cbd48a41bab24bc381194e828e2930d6": {
      "model_module": "@jupyter-widgets/output",
      "model_module_version": "1.0.0",
      "model_name": "OutputModel",
      "state": {
       "layout": "IPY_MODEL_1786b847fb024e60b60f286bc5913647",
       "outputs": [
        {
         "name": "stdout",
         "output_type": "stream",
         "text": "[001] stress=1371.42(74.91%) xing=319.98(93.51%)\n"
        }
       ]
      }
     },
     "cc67e619278d479cacbb6553c64c93dc": {
      "model_module": "@jupyter-widgets/base",
      "model_module_version": "1.2.0",
      "model_name": "LayoutModel",
      "state": {}
     },
     "d242fe13bf534671a549220a242886bc": {
      "model_module": "@jupyter-widgets/base",
      "model_module_version": "1.2.0",
      "model_name": "LayoutModel",
      "state": {}
     },
     "d2573a81b9f645fcbf2dbd6535a262d5": {
      "model_module": "@jupyter-widgets/controls",
      "model_module_version": "1.5.0",
      "model_name": "HBoxModel",
      "state": {
       "children": [
        "IPY_MODEL_b51b48bc67d6407f9f0953813755eeab",
        "IPY_MODEL_e5c61815bd0c4a43b0495187aeb743c0",
        "IPY_MODEL_35abc7418f7e4dd8aab194c14342066f"
       ],
       "layout": "IPY_MODEL_b8a5b3900cd54d00945816b3ef3af677"
      }
     },
     "d6959748579b4faa96d0393463cf197c": {
      "model_module": "@jupyter-widgets/base",
      "model_module_version": "1.2.0",
      "model_name": "LayoutModel",
      "state": {}
     },
     "da2fbf6cb9124938a4e22b5ca90ad4de": {
      "model_module": "@jupyter-widgets/controls",
      "model_module_version": "1.5.0",
      "model_name": "ProgressStyleModel",
      "state": {
       "description_width": ""
      }
     },
     "dcff4f828dc74581b1d26557c348d1d8": {
      "model_module": "@jupyter-widgets/controls",
      "model_module_version": "1.5.0",
      "model_name": "HBoxModel",
      "state": {
       "children": [
        "IPY_MODEL_c4f868634b214704b0f8c1a7bdf22886"
       ],
       "layout": "IPY_MODEL_0c5ef8e991ea44ad811da891d5f7beaf"
      }
     },
     "e04ba9b6478c467e9a77910013b14e82": {
      "model_module": "@jupyter-widgets/base",
      "model_module_version": "1.2.0",
      "model_name": "LayoutModel",
      "state": {}
     },
     "e20d654a7ce34d9b985d0160daf26a04": {
      "model_module": "@jupyter-widgets/controls",
      "model_module_version": "1.5.0",
      "model_name": "HBoxModel",
      "state": {
       "children": [
        "IPY_MODEL_569919dea23945839b2f02a3fb4aa094",
        "IPY_MODEL_f0bcc2ca3ebc4536a8c4e5d8b924972d",
        "IPY_MODEL_31ff1d89d9bd4ad6aa55da614ee76795"
       ],
       "layout": "IPY_MODEL_4d8d3eccf6204d97b8b9d0571a12c7e3"
      }
     },
     "e5c61815bd0c4a43b0495187aeb743c0": {
      "model_module": "@jupyter-widgets/controls",
      "model_module_version": "1.5.0",
      "model_name": "FloatProgressModel",
      "state": {
       "bar_style": "success",
       "layout": "IPY_MODEL_7030a15c0366475bb4c9c2f98a122424",
       "max": 1000,
       "style": "IPY_MODEL_87ed96fe9fba4d17b6925fe7136f72a9",
       "value": 1000
      }
     },
     "e99087e837d646b48fac045ab72fd6cc": {
      "model_module": "@jupyter-widgets/controls",
      "model_module_version": "1.5.0",
      "model_name": "ProgressStyleModel",
      "state": {
       "description_width": ""
      }
     },
     "efaa6c3d211e41f293b8da295cc19c89": {
      "model_module": "@jupyter-widgets/base",
      "model_module_version": "1.2.0",
      "model_name": "LayoutModel",
      "state": {}
     },
     "f0bcc2ca3ebc4536a8c4e5d8b924972d": {
      "model_module": "@jupyter-widgets/controls",
      "model_module_version": "1.5.0",
      "model_name": "FloatProgressModel",
      "state": {
       "bar_style": "danger",
       "layout": "IPY_MODEL_89aec9ff8db942a2a9366002a214ab2b",
       "max": 11531,
       "style": "IPY_MODEL_3c1f0a24fc6045e38ee2bd867647cb88",
       "value": 1081
      }
     },
     "f69faaf0d23e42fe94d9e3d3bfae9e8f": {
      "model_module": "@jupyter-widgets/controls",
      "model_module_version": "1.5.0",
      "model_name": "HTMLModel",
      "state": {
       "layout": "IPY_MODEL_b199e47f79fc4bdab8120e0094726c45",
       "style": "IPY_MODEL_24f148e5be2c4c61ac5d2858444d433a",
       "value": "100%"
      }
     },
     "f75381539b9848ec923349e9078f3405": {
      "model_module": "@jupyter-widgets/controls",
      "model_module_version": "1.5.0",
      "model_name": "FloatProgressModel",
      "state": {
       "bar_style": "success",
       "layout": "IPY_MODEL_efaa6c3d211e41f293b8da295cc19c89",
       "max": 11531,
       "style": "IPY_MODEL_da2fbf6cb9124938a4e22b5ca90ad4de",
       "value": 11531
      }
     },
     "f87125e4d1d547749bb67d83d3d833a9": {
      "model_module": "@jupyter-widgets/base",
      "model_module_version": "1.2.0",
      "model_name": "LayoutModel",
      "state": {}
     },
     "fbe3cd43bccf4be78cca445e9e217e51": {
      "model_module": "@jupyter-widgets/controls",
      "model_module_version": "1.5.0",
      "model_name": "DescriptionStyleModel",
      "state": {
       "description_width": ""
      }
     },
     "fbf285a2685d463c890a940956b66765": {
      "model_module": "@jupyter-widgets/base",
      "model_module_version": "1.2.0",
      "model_name": "LayoutModel",
      "state": {
       "height": "500px",
       "overflow_y": "auto"
      }
     },
     "ff348dca41594b28b37d0a69f6e871a9": {
      "model_module": "@jupyter-widgets/base",
      "model_module_version": "1.2.0",
      "model_name": "LayoutModel",
      "state": {}
     },
     "ffea7773749946a9911301db47ca7362": {
      "model_module": "@jupyter-widgets/base",
      "model_module_version": "1.2.0",
      "model_name": "LayoutModel",
      "state": {}
     }
    },
    "version_major": 2,
    "version_minor": 0
   }
  }
 },
 "nbformat": 4,
 "nbformat_minor": 4
}
