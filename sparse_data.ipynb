{
 "cells": [
  {
   "cell_type": "code",
   "execution_count": 1,
   "metadata": {},
   "outputs": [],
   "source": [
    "%load_ext autoreload\n",
    "%autoreload 2"
   ]
  },
  {
   "cell_type": "code",
   "execution_count": 2,
   "metadata": {},
   "outputs": [],
   "source": [
    "from lib.imports import *\n",
    "from lib.data import *"
   ]
  },
  {
   "cell_type": "code",
   "execution_count": 3,
   "metadata": {},
   "outputs": [],
   "source": [
    "G_list = load_G_list(data_path='data/rome', index_file='data_index.txt', cache='G_list.pickle')"
   ]
  },
  {
   "cell_type": "code",
   "execution_count": null,
   "metadata": {},
   "outputs": [
    {
     "data": {
      "application/vnd.jupyter.widget-view+json": {
       "model_id": "fa1ea310544b4cabb7591a7cb06d7901",
       "version_major": 2,
       "version_minor": 0
      },
      "text/plain": [
       "preprocess G:   0%|          | 0/11531 [00:00<?, ?it/s]"
      ]
     },
     "metadata": {},
     "output_type": "display_data"
    }
   ],
   "source": [
    "data_list = generate_data_list(G_list, \n",
    "                               sparse=4, \n",
    "                               pivot_mode='maxmin',\n",
    "                               init_mode='random',\n",
    "                               edge_index='full_edge_index',\n",
    "                               edge_attr='full_edge_attr',\n",
    "                               pmds_list=pickle.load(open('pmds_list.pickle', 'rb')),\n",
    "                               device='cpu')"
   ]
  },
  {
   "cell_type": "code",
   "execution_count": null,
   "metadata": {},
   "outputs": [],
   "source": [
    "batch = Batch.from_data_list(data_list)"
   ]
  },
  {
   "cell_type": "code",
   "execution_count": 9,
   "metadata": {},
   "outputs": [
    {
     "data": {
      "text/plain": [
       "tensor(0.3131)"
      ]
     },
     "execution_count": 9,
     "metadata": {},
     "output_type": "execute_result"
    }
   ],
   "source": [
    "batch.cluster_edge_sparsity.mean()"
   ]
  },
  {
   "cell_type": "code",
   "execution_count": 10,
   "metadata": {},
   "outputs": [
    {
     "data": {
      "text/plain": [
       "tensor(0.4522)"
      ]
     },
     "execution_count": 10,
     "metadata": {},
     "output_type": "execute_result"
    }
   ],
   "source": [
    "batch.grouped_edge_sparsity.mean()"
   ]
  },
  {
   "cell_type": "code",
   "execution_count": 11,
   "metadata": {},
   "outputs": [
    {
     "data": {
      "text/plain": [
       "tensor(0.2566)"
      ]
     },
     "execution_count": 11,
     "metadata": {},
     "output_type": "execute_result"
    }
   ],
   "source": [
    "batch.sparse_edge_sparsity.mean()"
   ]
  },
  {
   "cell_type": "code",
   "execution_count": 12,
   "metadata": {},
   "outputs": [
    {
     "data": {
      "text/plain": [
       "tensor(0.0943)"
      ]
     },
     "execution_count": 12,
     "metadata": {},
     "output_type": "execute_result"
    }
   ],
   "source": [
    "batch.hierarchical_edge_sparsity.mean()"
   ]
  },
  {
   "cell_type": "code",
   "execution_count": null,
   "metadata": {},
   "outputs": [],
   "source": []
  },
  {
   "cell_type": "code",
   "execution_count": null,
   "metadata": {},
   "outputs": [],
   "source": [
    "data_list[8473]"
   ]
  },
  {
   "cell_type": "code",
   "execution_count": 7,
   "metadata": {},
   "outputs": [
    {
     "data": {
      "text/plain": [
       "tensor(0.0233)"
      ]
     },
     "execution_count": 7,
     "metadata": {},
     "output_type": "execute_result"
    }
   ],
   "source": [
    "batch.hierarchical_edge_sparsity.mean()"
   ]
  },
  {
   "cell_type": "code",
   "execution_count": 54,
   "metadata": {},
   "outputs": [],
   "source": [
    "def generate_apsp(G):\n",
    "    apsp_dict = dict(nx.all_pairs_shortest_path_length(G))\n",
    "    return np.array([[apsp_dict[j][k] for k in sorted(apsp_dict[j].keys())] for j in sorted(apsp_dict.keys())])"
   ]
  },
  {
   "cell_type": "code",
   "execution_count": 55,
   "metadata": {},
   "outputs": [],
   "source": [
    "def generate_pivots(nodes, apsp, k):\n",
    "    partial_apsp = apsp[nodes, :][:, nodes]\n",
    "    pivots = [partial_apsp.max(axis=1).argmax()]\n",
    "    for _ in range(k - 1):\n",
    "        pivots.append(partial_apsp[:, pivots].min(axis=1).argmax())\n",
    "    return np.array(nodes)[pivots]"
   ]
  },
  {
   "cell_type": "code",
   "execution_count": 56,
   "metadata": {},
   "outputs": [],
   "source": [
    "def get_pivot_groups(nodes, apsp, pivots):\n",
    "    partial_apsp = apsp[pivots, :][:, nodes]\n",
    "    groups = np.zeros_like(partial_apsp)\n",
    "    groups[partial_apsp.argmin(axis=0), np.arange(groups.shape[1])] = 1\n",
    "    return {p: (n := np.array(nodes)[g.astype(bool)])[n != p] for p, g in zip(pivots, groups)}"
   ]
  },
  {
   "cell_type": "code",
   "execution_count": 57,
   "metadata": {},
   "outputs": [],
   "source": [
    "def get_recursive_pivot_groups(nodes, apsp, k):\n",
    "    pivots = generate_pivots(nodes, apsp, k)\n",
    "    groups = get_pivot_groups(nodes, apsp, pivots)\n",
    "    for p in pivots:\n",
    "        if len(groups[p]) > k:\n",
    "            groups[p] = get_recursive_pivot_groups(groups[p], apsp, k)\n",
    "    return groups"
   ]
  },
  {
   "cell_type": "code",
   "execution_count": 58,
   "metadata": {},
   "outputs": [],
   "source": [
    "def get_pivot_group_cardinalities(groups):\n",
    "    cardin_dict = dict()\n",
    "    def get_cardinalities(groups):\n",
    "        if type(groups) is not dict:\n",
    "            cardin_dict.update(zip(groups, np.ones_like(groups)))\n",
    "            return len(groups) + 1\n",
    "        cardin = list(map(get_cardinalities, groups.values()))\n",
    "        cardin_dict.update(zip(groups, cardin))\n",
    "        return sum(cardin) + 1\n",
    "    get_cardinalities(groups)\n",
    "    return np.array(sorted(cardin_dict.items()))[:, 1]"
   ]
  },
  {
   "cell_type": "code",
   "execution_count": 64,
   "metadata": {},
   "outputs": [],
   "source": [
    "def get_peer_pivot_dense_edge_set(groups):\n",
    "    edges = set()\n",
    "    def add_all_edges(groups):\n",
    "        if type(groups) is dict:\n",
    "            edges.update([(p, q) for p in groups for q in groups if p != q])\n",
    "            for p in groups:\n",
    "                add_all_edges(groups[p])\n",
    "    add_all_edges(groups)\n",
    "    return edges\n",
    "\n",
    "def get_same_level_dense_edge_set(groups):\n",
    "    edges = set()\n",
    "    def add_all_edges(groups):\n",
    "        edges.update([(p, q) for p in groups for q in groups if p != q])\n",
    "        if type(groups) is dict:\n",
    "            for p in groups:\n",
    "                add_all_edges(groups[p])\n",
    "    add_all_edges(groups)\n",
    "    return edges\n",
    "\n",
    "def get_adjacent_level_dense_edge_set(groups):\n",
    "    edges = set()\n",
    "    def add_all_edges(groups):\n",
    "        if type(groups) is dict:\n",
    "            descendents = np.concatenate([add_all_edges(groups[p]) for p in groups])\n",
    "            edges.update([(p, i) for p in groups for i in descendents])\n",
    "            return np.array(list(groups))\n",
    "        else:\n",
    "            return groups\n",
    "    add_all_edges(groups)\n",
    "    return edges\n",
    "\n",
    "def get_cross_level_dense_edge_set(groups):\n",
    "    edges = set()\n",
    "    def add_all_edges(groups):\n",
    "        if type(groups) is dict:\n",
    "            descendents = np.concatenate([add_all_edges(groups[p]) for p in groups])\n",
    "            edges.update([(p, i) for p in groups for i in descendents])\n",
    "            return np.concatenate((list(groups), descendents))\n",
    "        else:\n",
    "            return groups\n",
    "    add_all_edges(groups)\n",
    "    return edges\n",
    "\n",
    "def get_tree_edge_set(groups):\n",
    "    edges = set()\n",
    "    def add_all_edges(groups):\n",
    "        if type(groups) is dict:\n",
    "            edges.update([(p, i) for p in groups for i in groups[p]])\n",
    "            for p in groups:\n",
    "                add_all_edges(groups[p])\n",
    "    add_all_edges(groups)\n",
    "    return edges\n",
    "\n",
    "def get_forward_edge_set(groups):\n",
    "    edges = set()\n",
    "    def add_all_edges(groups):\n",
    "        if type(groups) is dict:\n",
    "            descendents = {p: add_all_edges(groups[p]) for p in groups}\n",
    "            edges.update([(p, i) for p in groups for i in descendents[p]])\n",
    "            return np.concatenate((list(groups), *descendents.values()))\n",
    "        else:\n",
    "            return groups\n",
    "    add_all_edges(groups)\n",
    "    return edges"
   ]
  },
  {
   "cell_type": "code",
   "execution_count": 68,
   "metadata": {},
   "outputs": [],
   "source": [
    "def get_hierarchical_cluster_edge_set(groups):\n",
    "    return get_tree_edge_set(groups).union(get_same_level_dense_edge_set(groups))\n",
    "\n",
    "def get_recursive_cluster_edge_set(groups):\n",
    "    return get_forward_edge_set(groups).union(get_same_level_dense_edge_set(groups))\n",
    "\n",
    "def get_hierarchical_sparse_edge_set(groups):\n",
    "    return get_adjacent_level_dense_edge_set(groups).union(get_peer_pivot_dense_edge_set(groups))\n",
    "\n",
    "def get_recursive_sparse_edge_set(groups):\n",
    "    return get_cross_level_dense_edge_set(groups).union(get_peer_pivot_dense_edge_set(groups))"
   ]
  },
  {
   "cell_type": "code",
   "execution_count": 69,
   "metadata": {},
   "outputs": [],
   "source": [
    "def create_edge_index(*edge_sets, device='cpu'):\n",
    "    all_edges = reduce(lambda x, y: x.union(y), edge_sets, set())\n",
    "    reverse_edges = set(map(lambda x: x[::-1], all_edges))\n",
    "    sorted_symmetric_edges = sorted(list(all_edges.union(reverse_edges)))\n",
    "    return torch.tensor(sorted_symmetric_edges, dtype=torch.long, device=device).t()"
   ]
  },
  {
   "cell_type": "code",
   "execution_count": 70,
   "metadata": {},
   "outputs": [],
   "source": [
    "def generate_regular_edge_attr_new(edge_index, apsp, device='cpu'):\n",
    "    d = apsp[edge_index[0], edge_index[1]]\n",
    "    w = 1 / d ** 2\n",
    "    return torch.tensor(np.stack([d, w], axis=1), dtype=torch.float, device=device)"
   ]
  },
  {
   "cell_type": "code",
   "execution_count": 71,
   "metadata": {},
   "outputs": [],
   "source": [
    "def generate_pivot_edge_attr_new(edge_index, apsp, cardinalities, device='cpu'):\n",
    "    d = apsp[edge_index[0], edge_index[1]]\n",
    "    s = cardinalities[edge_index[0]]\n",
    "    w = s / d ** 2\n",
    "    return torch.tensor(np.stack([d, w], axis=1), dtype=torch.float, device=device)"
   ]
  },
  {
   "cell_type": "code",
   "execution_count": 72,
   "metadata": {},
   "outputs": [],
   "source": [
    "def generate_symmetric_pivot_edge_attr(edge_index, apsp, cardinalities, device='cpu'):\n",
    "    d = apsp[edge_index[0], edge_index[1]]\n",
    "    s = cardinalities[edge_index[0]] * cardinalities[edge_index[1]]\n",
    "    w = s / d ** 2\n",
    "    return torch.tensor(np.stack([d, w], axis=1), dtype=torch.float, device=device)"
   ]
  },
  {
   "cell_type": "code",
   "execution_count": 73,
   "metadata": {},
   "outputs": [],
   "source": [
    "G = G_list[0]"
   ]
  },
  {
   "cell_type": "code",
   "execution_count": 74,
   "metadata": {},
   "outputs": [
    {
     "data": {
      "text/plain": [
       "array([[0, 4, 2, 2, 2, 1, 1, 3, 1, 2, 3, 3, 3, 4, 2, 1],\n",
       "       [4, 0, 4, 4, 4, 5, 5, 5, 5, 2, 3, 3, 1, 2, 4, 3],\n",
       "       [2, 4, 0, 2, 4, 3, 1, 3, 3, 2, 3, 3, 3, 4, 2, 1],\n",
       "       [2, 4, 2, 0, 2, 3, 3, 2, 1, 2, 1, 3, 3, 2, 1, 1],\n",
       "       [2, 4, 4, 2, 0, 3, 3, 4, 1, 2, 3, 1, 3, 2, 3, 3],\n",
       "       [1, 5, 3, 3, 3, 0, 2, 4, 2, 3, 4, 4, 4, 5, 3, 2],\n",
       "       [1, 5, 1, 3, 3, 2, 0, 4, 2, 3, 4, 4, 4, 5, 3, 2],\n",
       "       [3, 5, 3, 2, 4, 4, 4, 0, 3, 3, 3, 4, 4, 4, 1, 2],\n",
       "       [1, 5, 3, 1, 1, 2, 2, 3, 0, 3, 2, 2, 4, 3, 2, 2],\n",
       "       [2, 2, 2, 2, 2, 3, 3, 3, 3, 0, 3, 1, 1, 2, 2, 1],\n",
       "       [3, 3, 3, 1, 3, 4, 4, 3, 2, 3, 0, 2, 2, 1, 2, 2],\n",
       "       [3, 3, 3, 3, 1, 4, 4, 4, 2, 1, 2, 0, 2, 1, 3, 2],\n",
       "       [3, 1, 3, 3, 3, 4, 4, 4, 4, 1, 2, 2, 0, 1, 3, 2],\n",
       "       [4, 2, 4, 2, 2, 5, 5, 4, 3, 2, 1, 1, 1, 0, 3, 3],\n",
       "       [2, 4, 2, 1, 3, 3, 3, 1, 2, 2, 2, 3, 3, 3, 0, 1],\n",
       "       [1, 3, 1, 1, 3, 2, 2, 2, 2, 1, 2, 2, 2, 3, 1, 0]])"
      ]
     },
     "execution_count": 74,
     "metadata": {},
     "output_type": "execute_result"
    }
   ],
   "source": [
    "apsp = generate_apsp(G)\n",
    "apsp"
   ]
  },
  {
   "cell_type": "code",
   "execution_count": 75,
   "metadata": {},
   "outputs": [
    {
     "data": {
      "text/plain": [
       "array([1, 5, 7, 2])"
      ]
     },
     "execution_count": 75,
     "metadata": {},
     "output_type": "execute_result"
    }
   ],
   "source": [
    "pivots = generate_pivots(G.nodes, apsp, 4)\n",
    "pivots"
   ]
  },
  {
   "cell_type": "code",
   "execution_count": 76,
   "metadata": {},
   "outputs": [
    {
     "data": {
      "text/plain": [
       "{1: array([ 9, 10, 11, 12, 13]),\n",
       " 5: array([0, 4, 8]),\n",
       " 7: array([ 3, 14]),\n",
       " 2: array([ 6, 15])}"
      ]
     },
     "execution_count": 76,
     "metadata": {},
     "output_type": "execute_result"
    }
   ],
   "source": [
    "groups = get_pivot_groups(G.nodes, apsp, pivots)\n",
    "groups"
   ]
  },
  {
   "cell_type": "code",
   "execution_count": 77,
   "metadata": {},
   "outputs": [
    {
     "data": {
      "text/plain": [
       "{1: {9: array([], dtype=int64),\n",
       "  10: array([13]),\n",
       "  11: array([], dtype=int64),\n",
       "  12: array([], dtype=int64)},\n",
       " 5: array([0, 4, 8]),\n",
       " 7: array([ 3, 14]),\n",
       " 2: array([ 6, 15])}"
      ]
     },
     "execution_count": 77,
     "metadata": {},
     "output_type": "execute_result"
    }
   ],
   "source": [
    "groups = get_recursive_pivot_groups(G.nodes, apsp, 4)\n",
    "groups"
   ]
  },
  {
   "cell_type": "code",
   "execution_count": 78,
   "metadata": {},
   "outputs": [],
   "source": [
    "cardinalities = get_pivot_group_cardinalities(groups)"
   ]
  },
  {
   "cell_type": "code",
   "execution_count": 87,
   "metadata": {},
   "outputs": [
    {
     "name": "stdout",
     "output_type": "stream",
     "text": [
      "62\n"
     ]
    },
    {
     "data": {
      "text/plain": [
       "{(0, 0),\n",
       " (0, 4),\n",
       " (0, 8),\n",
       " (1, 1),\n",
       " (1, 2),\n",
       " (1, 5),\n",
       " (1, 7),\n",
       " (1, 9),\n",
       " (1, 10),\n",
       " (1, 11),\n",
       " (1, 12),\n",
       " (2, 1),\n",
       " (2, 2),\n",
       " (2, 5),\n",
       " (2, 6),\n",
       " (2, 7),\n",
       " (2, 15),\n",
       " (3, 3),\n",
       " (3, 14),\n",
       " (4, 0),\n",
       " (4, 4),\n",
       " (4, 8),\n",
       " (5, 0),\n",
       " (5, 1),\n",
       " (5, 2),\n",
       " (5, 4),\n",
       " (5, 5),\n",
       " (5, 7),\n",
       " (5, 8),\n",
       " (6, 6),\n",
       " (6, 15),\n",
       " (7, 1),\n",
       " (7, 2),\n",
       " (7, 3),\n",
       " (7, 5),\n",
       " (7, 7),\n",
       " (7, 14),\n",
       " (8, 0),\n",
       " (8, 4),\n",
       " (8, 8),\n",
       " (9, 9),\n",
       " (9, 10),\n",
       " (9, 11),\n",
       " (9, 12),\n",
       " (10, 9),\n",
       " (10, 10),\n",
       " (10, 11),\n",
       " (10, 12),\n",
       " (10, 13),\n",
       " (11, 9),\n",
       " (11, 10),\n",
       " (11, 11),\n",
       " (11, 12),\n",
       " (12, 9),\n",
       " (12, 10),\n",
       " (12, 11),\n",
       " (12, 12),\n",
       " (13, 13),\n",
       " (14, 3),\n",
       " (14, 14),\n",
       " (15, 6),\n",
       " (15, 15)}"
      ]
     },
     "execution_count": 87,
     "metadata": {},
     "output_type": "execute_result"
    }
   ],
   "source": [
    "hier_eset = get_hierarchical_cluster_edge_set(groups)\n",
    "print(len(hier_eset))\n",
    "hier_eset"
   ]
  },
  {
   "cell_type": "code",
   "execution_count": 88,
   "metadata": {},
   "outputs": [
    {
     "name": "stdout",
     "output_type": "stream",
     "text": [
      "63\n"
     ]
    },
    {
     "data": {
      "text/plain": [
       "{(0, 0),\n",
       " (0, 4),\n",
       " (0, 8),\n",
       " (1, 1),\n",
       " (1, 2),\n",
       " (1, 5),\n",
       " (1, 7),\n",
       " (1, 9),\n",
       " (1, 10),\n",
       " (1, 11),\n",
       " (1, 12),\n",
       " (1, 13),\n",
       " (2, 1),\n",
       " (2, 2),\n",
       " (2, 5),\n",
       " (2, 6),\n",
       " (2, 7),\n",
       " (2, 15),\n",
       " (3, 3),\n",
       " (3, 14),\n",
       " (4, 0),\n",
       " (4, 4),\n",
       " (4, 8),\n",
       " (5, 0),\n",
       " (5, 1),\n",
       " (5, 2),\n",
       " (5, 4),\n",
       " (5, 5),\n",
       " (5, 7),\n",
       " (5, 8),\n",
       " (6, 6),\n",
       " (6, 15),\n",
       " (7, 1),\n",
       " (7, 2),\n",
       " (7, 3),\n",
       " (7, 5),\n",
       " (7, 7),\n",
       " (7, 14),\n",
       " (8, 0),\n",
       " (8, 4),\n",
       " (8, 8),\n",
       " (9, 9),\n",
       " (9, 10),\n",
       " (9, 11),\n",
       " (9, 12),\n",
       " (10, 9),\n",
       " (10, 10),\n",
       " (10, 11),\n",
       " (10, 12),\n",
       " (10, 13),\n",
       " (11, 9),\n",
       " (11, 10),\n",
       " (11, 11),\n",
       " (11, 12),\n",
       " (12, 9),\n",
       " (12, 10),\n",
       " (12, 11),\n",
       " (12, 12),\n",
       " (13, 13),\n",
       " (14, 3),\n",
       " (14, 14),\n",
       " (15, 6),\n",
       " (15, 15)}"
      ]
     },
     "execution_count": 88,
     "metadata": {},
     "output_type": "execute_result"
    }
   ],
   "source": [
    "recur_eset = get_recursive_cluster_edge_set(groups)\n",
    "print(len(recur_eset))\n",
    "recur_eset"
   ]
  },
  {
   "cell_type": "code",
   "execution_count": 81,
   "metadata": {},
   "outputs": [
    {
     "name": "stdout",
     "output_type": "stream",
     "text": [
      "80\n"
     ]
    },
    {
     "data": {
      "text/plain": [
       "{(1, 0),\n",
       " (1, 1),\n",
       " (1, 2),\n",
       " (1, 3),\n",
       " (1, 4),\n",
       " (1, 5),\n",
       " (1, 6),\n",
       " (1, 7),\n",
       " (1, 8),\n",
       " (1, 9),\n",
       " (1, 10),\n",
       " (1, 11),\n",
       " (1, 12),\n",
       " (1, 14),\n",
       " (1, 15),\n",
       " (2, 0),\n",
       " (2, 1),\n",
       " (2, 2),\n",
       " (2, 3),\n",
       " (2, 4),\n",
       " (2, 5),\n",
       " (2, 6),\n",
       " (2, 7),\n",
       " (2, 8),\n",
       " (2, 9),\n",
       " (2, 10),\n",
       " (2, 11),\n",
       " (2, 12),\n",
       " (2, 14),\n",
       " (2, 15),\n",
       " (5, 0),\n",
       " (5, 1),\n",
       " (5, 2),\n",
       " (5, 3),\n",
       " (5, 4),\n",
       " (5, 5),\n",
       " (5, 6),\n",
       " (5, 7),\n",
       " (5, 8),\n",
       " (5, 9),\n",
       " (5, 10),\n",
       " (5, 11),\n",
       " (5, 12),\n",
       " (5, 14),\n",
       " (5, 15),\n",
       " (7, 0),\n",
       " (7, 1),\n",
       " (7, 2),\n",
       " (7, 3),\n",
       " (7, 4),\n",
       " (7, 5),\n",
       " (7, 6),\n",
       " (7, 7),\n",
       " (7, 8),\n",
       " (7, 9),\n",
       " (7, 10),\n",
       " (7, 11),\n",
       " (7, 12),\n",
       " (7, 14),\n",
       " (7, 15),\n",
       " (9, 9),\n",
       " (9, 10),\n",
       " (9, 11),\n",
       " (9, 12),\n",
       " (9, 13),\n",
       " (10, 9),\n",
       " (10, 10),\n",
       " (10, 11),\n",
       " (10, 12),\n",
       " (10, 13),\n",
       " (11, 9),\n",
       " (11, 10),\n",
       " (11, 11),\n",
       " (11, 12),\n",
       " (11, 13),\n",
       " (12, 9),\n",
       " (12, 10),\n",
       " (12, 11),\n",
       " (12, 12),\n",
       " (12, 13)}"
      ]
     },
     "execution_count": 81,
     "metadata": {},
     "output_type": "execute_result"
    }
   ],
   "source": [
    "hier_eset = get_hierarchical_sparse_edge_set(groups)\n",
    "print(len(hier_eset))\n",
    "hier_eset"
   ]
  },
  {
   "cell_type": "code",
   "execution_count": 82,
   "metadata": {},
   "outputs": [
    {
     "name": "stdout",
     "output_type": "stream",
     "text": [
      "84\n"
     ]
    },
    {
     "data": {
      "text/plain": [
       "{(1, 0),\n",
       " (1, 1),\n",
       " (1, 2),\n",
       " (1, 3),\n",
       " (1, 4),\n",
       " (1, 5),\n",
       " (1, 6),\n",
       " (1, 7),\n",
       " (1, 8),\n",
       " (1, 9),\n",
       " (1, 10),\n",
       " (1, 11),\n",
       " (1, 12),\n",
       " (1, 13),\n",
       " (1, 14),\n",
       " (1, 15),\n",
       " (2, 0),\n",
       " (2, 1),\n",
       " (2, 2),\n",
       " (2, 3),\n",
       " (2, 4),\n",
       " (2, 5),\n",
       " (2, 6),\n",
       " (2, 7),\n",
       " (2, 8),\n",
       " (2, 9),\n",
       " (2, 10),\n",
       " (2, 11),\n",
       " (2, 12),\n",
       " (2, 13),\n",
       " (2, 14),\n",
       " (2, 15),\n",
       " (5, 0),\n",
       " (5, 1),\n",
       " (5, 2),\n",
       " (5, 3),\n",
       " (5, 4),\n",
       " (5, 5),\n",
       " (5, 6),\n",
       " (5, 7),\n",
       " (5, 8),\n",
       " (5, 9),\n",
       " (5, 10),\n",
       " (5, 11),\n",
       " (5, 12),\n",
       " (5, 13),\n",
       " (5, 14),\n",
       " (5, 15),\n",
       " (7, 0),\n",
       " (7, 1),\n",
       " (7, 2),\n",
       " (7, 3),\n",
       " (7, 4),\n",
       " (7, 5),\n",
       " (7, 6),\n",
       " (7, 7),\n",
       " (7, 8),\n",
       " (7, 9),\n",
       " (7, 10),\n",
       " (7, 11),\n",
       " (7, 12),\n",
       " (7, 13),\n",
       " (7, 14),\n",
       " (7, 15),\n",
       " (9, 9),\n",
       " (9, 10),\n",
       " (9, 11),\n",
       " (9, 12),\n",
       " (9, 13),\n",
       " (10, 9),\n",
       " (10, 10),\n",
       " (10, 11),\n",
       " (10, 12),\n",
       " (10, 13),\n",
       " (11, 9),\n",
       " (11, 10),\n",
       " (11, 11),\n",
       " (11, 12),\n",
       " (11, 13),\n",
       " (12, 9),\n",
       " (12, 10),\n",
       " (12, 11),\n",
       " (12, 12),\n",
       " (12, 13)}"
      ]
     },
     "execution_count": 82,
     "metadata": {},
     "output_type": "execute_result"
    }
   ],
   "source": [
    "recur_eset = get_recursive_sparse_edge_set(groups)\n",
    "print(len(recur_eset))\n",
    "recur_eset"
   ]
  },
  {
   "cell_type": "code",
   "execution_count": 83,
   "metadata": {},
   "outputs": [
    {
     "data": {
      "text/plain": [
       "tensor([[ 0,  0,  0,  0,  0,  0,  0,  1,  1,  1,  1,  1,  1,  1,  1,  1,  1,  1,\n",
       "          1,  1,  1,  1,  2,  2,  2,  2,  2,  2,  2,  2,  2,  2,  2,  2,  2,  2,\n",
       "          2,  3,  3,  3,  3,  3,  3,  3,  3,  4,  4,  4,  4,  4,  4,  5,  5,  5,\n",
       "          5,  5,  5,  5,  5,  5,  5,  5,  5,  5,  5,  5,  6,  6,  6,  6,  6,  7,\n",
       "          7,  7,  7,  7,  7,  7,  7,  7,  7,  7,  7,  7,  7,  7,  8,  8,  8,  8,\n",
       "          8,  8,  8,  9,  9,  9,  9,  9,  9,  9,  9,  9,  9, 10, 10, 10, 10, 10,\n",
       "         10, 10, 10, 10, 10, 11, 11, 11, 11, 11, 11, 11, 11, 11, 11, 12, 12, 12,\n",
       "         12, 12, 12, 12, 12, 12, 13, 13, 13, 13, 14, 14, 14, 14, 14, 14, 15, 15,\n",
       "         15, 15, 15, 15, 15, 15],\n",
       "        [ 1,  2,  5,  6,  7,  8, 15,  0,  1,  2,  3,  4,  5,  6,  7,  8,  9, 10,\n",
       "         11, 12, 14, 15,  0,  1,  2,  3,  4,  5,  6,  7,  8,  9, 10, 11, 12, 14,\n",
       "         15,  1,  2,  5,  7,  8, 10, 14, 15,  1,  2,  5,  7,  8, 11,  0,  1,  2,\n",
       "          3,  4,  5,  6,  7,  8,  9, 10, 11, 12, 14, 15,  0,  1,  2,  5,  7,  0,\n",
       "          1,  2,  3,  4,  5,  6,  7,  8,  9, 10, 11, 12, 14, 15,  0,  1,  2,  3,\n",
       "          4,  5,  7,  1,  2,  5,  7,  9, 10, 11, 12, 13, 15,  1,  2,  3,  5,  7,\n",
       "          9, 10, 11, 12, 13,  1,  2,  4,  5,  7,  9, 10, 11, 12, 13,  1,  2,  5,\n",
       "          7,  9, 10, 11, 12, 13,  9, 10, 11, 12,  1,  2,  3,  5,  7, 15,  0,  1,\n",
       "          2,  3,  5,  7,  9, 14]])"
      ]
     },
     "execution_count": 83,
     "metadata": {},
     "output_type": "execute_result"
    }
   ],
   "source": [
    "edge_index = create_edge_index(G.edges, hier_eset)\n",
    "edge_index"
   ]
  },
  {
   "cell_type": "code",
   "execution_count": 70,
   "metadata": {},
   "outputs": [
    {
     "data": {
      "text/plain": [
       "tensor([[1.0000e+00, 5.0000e+00],\n",
       "        [1.0000e+00, 1.0000e+00],\n",
       "        [1.0000e+00, 1.0000e+00],\n",
       "        [1.0000e+00, 1.0000e+00],\n",
       "        [1.0000e+00, 1.0000e+00],\n",
       "        [2.0000e+00, 1.0000e+00],\n",
       "        [3.0000e+00, 4.4444e-01],\n",
       "        [7.0000e+00, 1.7143e+00],\n",
       "        [1.0000e+00, 4.0000e+00],\n",
       "        [1.0000e+00, 4.0000e+00],\n",
       "        [2.0000e+00, 1.2500e+00],\n",
       "        [1.0000e+00, 1.0000e+00],\n",
       "        [1.0000e+00, 1.0000e+00],\n",
       "        [1.0000e+00, 1.0000e+00],\n",
       "        [1.0000e+00, 1.0000e+00],\n",
       "        [1.0000e+00, 5.0000e+00],\n",
       "        [2.0000e+00, 1.2500e+00],\n",
       "        [1.0000e+00, 2.0000e+01],\n",
       "        [5.0000e+00, 4.8000e+00],\n",
       "        [1.0000e+00, 5.0000e+00],\n",
       "        [2.0000e+00, 1.2500e+00],\n",
       "        [1.0000e+00, 4.0000e+00],\n",
       "        [1.0000e+00, 1.0000e+00],\n",
       "        [2.0000e+00, 1.0000e+00],\n",
       "        [1.0000e+00, 1.0000e+00],\n",
       "        [2.0000e+00, 1.2500e+00],\n",
       "        [3.0000e+00, 5.5556e-01],\n",
       "        [3.0000e+00, 5.5556e-01],\n",
       "        [1.0000e+00, 1.2000e+02],\n",
       "        [1.0000e+00, 5.0000e+00],\n",
       "        [1.0000e+00, 1.2000e+01],\n",
       "        [7.0000e+00, 2.9388e+00],\n",
       "        [3.0000e+00, 6.6667e-01],\n",
       "        [3.0000e+00, 6.6667e-01],\n",
       "        [3.0000e+00, 6.6667e-01],\n",
       "        [5.0000e+00, 9.6000e-01],\n",
       "        [1.0000e+00, 2.0000e+00],\n",
       "        [1.0000e+00, 2.0000e+00],\n",
       "        [2.0000e+00, 1.2500e+00],\n",
       "        [1.0000e+00, 1.0000e+00],\n",
       "        [1.0000e+00, 1.0000e+00],\n",
       "        [1.0000e+00, 3.0000e+00],\n",
       "        [2.0000e+00, 9.0000e+00],\n",
       "        [1.0000e+00, 3.0000e+00],\n",
       "        [1.0000e+00, 1.0000e+00],\n",
       "        [1.0000e+00, 1.0000e+00],\n",
       "        [1.0000e+00, 4.0000e+00],\n",
       "        [1.0000e+00, 1.0000e+00],\n",
       "        [1.0000e+00, 1.0000e+00],\n",
       "        [3.0000e+00, 4.4444e-01],\n",
       "        [1.0000e+00, 5.0000e+00],\n",
       "        [1.0000e+00, 1.0000e+00],\n",
       "        [1.0000e+00, 1.0000e+00],\n",
       "        [1.0000e+00, 1.0000e+00],\n",
       "        [1.0000e+00, 1.0000e+00],\n",
       "        [1.0000e+00, 1.0000e+00],\n",
       "        [4.0000e+00, 3.1250e-01],\n",
       "        [1.0000e+00, 2.0000e+00],\n",
       "        [1.0000e+00, 2.0000e+00],\n",
       "        [4.0000e+00, 8.7500e-01],\n",
       "        [1.0000e+00, 1.0000e+00],\n",
       "        [1.0000e+00, 1.0000e+00],\n",
       "        [2.0000e+00, 1.7500e+00],\n",
       "        [8.0000e+00, 6.1875e+00],\n",
       "        [1.0000e+00, 5.2800e+02],\n",
       "        [1.0000e+01, 2.2000e+00],\n",
       "        [8.0000e+00, 1.1688e+01],\n",
       "        [1.0000e+00, 2.0000e+00],\n",
       "        [1.0000e+00, 1.0000e+00],\n",
       "        [2.0000e+00, 1.5000e+00],\n",
       "        [1.0000e+00, 1.0000e+00],\n",
       "        [1.0000e+00, 1.0000e+00],\n",
       "        [1.0000e+00, 1.0000e+00],\n",
       "        [1.0000e+00, 1.0000e+00],\n",
       "        [2.0000e+00, 1.5000e+00],\n",
       "        [1.0000e+00, 6.0000e+00],\n",
       "        [3.0000e+00, 6.6667e-01],\n",
       "        [1.0000e+00, 1.2600e+02],\n",
       "        [3.0000e+00, 1.3333e+00],\n",
       "        [1.0000e+00, 9.0000e+00],\n",
       "        [1.0000e+00, 1.0000e+00],\n",
       "        [1.0000e+00, 3.0000e+00],\n",
       "        [3.0000e+00, 2.0000e+00],\n",
       "        [1.0000e+00, 2.0000e+00],\n",
       "        [1.0000e+00, 2.0000e+00],\n",
       "        [1.0000e+00, 1.0000e+00],\n",
       "        [3.0000e+00, 5.5556e-01],\n",
       "        [1.0000e+00, 1.0000e+00],\n",
       "        [2.0000e+00, 1.2500e+00],\n",
       "        [1.0000e+00, 1.0000e+00],\n",
       "        [1.0000e+00, 1.0000e+00],\n",
       "        [1.0000e+00, 1.0000e+00],\n",
       "        [1.0000e+00, 1.0000e+00],\n",
       "        [3.0000e+00, 5.5556e-01],\n",
       "        [2.0000e+00, 1.5000e+00],\n",
       "        [1.0000e+00, 4.0000e+00],\n",
       "        [1.0000e+00, 3.0000e+00],\n",
       "        [1.0000e+00, 1.0000e+00],\n",
       "        [1.0000e+00, 1.0000e+00],\n",
       "        [2.0000e+00, 1.2500e+00],\n",
       "        [3.0000e+00, 5.5556e-01],\n",
       "        [1.0000e+00, 5.0000e+00],\n",
       "        [6.0000e+00, 2.5000e+00],\n",
       "        [1.0000e+00, 5.0000e+00],\n",
       "        [2.0000e+00, 1.2500e+00],\n",
       "        [1.0000e+00, 1.0000e+00],\n",
       "        [1.0000e+00, 1.0000e+00],\n",
       "        [2.0000e+00, 7.5000e-01],\n",
       "        [1.0000e+00, 1.0000e+00],\n",
       "        [2.0000e+00, 1.2500e+00],\n",
       "        [2.0000e+00, 1.2500e+00],\n",
       "        [1.0000e+00, 1.0000e+01],\n",
       "        [8.0000e+00, 1.4062e+00],\n",
       "        [1.0000e+00, 5.0000e+00],\n",
       "        [1.0000e+00, 5.0000e+00],\n",
       "        [1.0000e+00, 3.5000e+01],\n",
       "        [1.0000e+00, 1.2000e+01],\n",
       "        [1.0000e+00, 2.0000e+00],\n",
       "        [1.0000e+00, 2.0000e+00],\n",
       "        [1.0000e+00, 2.0000e+00],\n",
       "        [2.0000e+00, 1.2500e+00],\n",
       "        [3.0000e+00, 5.5556e-01],\n",
       "        [1.0000e+00, 5.0000e+00],\n",
       "        [3.0000e+00, 5.5556e-01],\n",
       "        [5.0000e+00, 3.4000e+00],\n",
       "        [1.0000e+00, 3.0000e+00],\n",
       "        [2.0000e+00, 7.5000e-01],\n",
       "        [1.0000e+00, 5.1000e+01],\n",
       "        [1.0000e+00, 1.0000e+00],\n",
       "        [1.0000e+00, 3.0000e+00],\n",
       "        [1.0000e+00, 2.0000e+00],\n",
       "        [1.0000e+00, 1.0000e+00],\n",
       "        [1.0000e+00, 1.0000e+00],\n",
       "        [1.0000e+00, 1.0000e+00],\n",
       "        [1.0000e+00, 2.0000e+00],\n",
       "        [1.0000e+00, 2.0000e+00],\n",
       "        [2.0000e+00, 1.5000e+00],\n",
       "        [7.0000e+00, 2.5714e+00],\n",
       "        [1.0000e+00, 6.0000e+00],\n",
       "        [1.0000e+00, 6.0000e+00],\n",
       "        [3.0000e+00, 1.3333e+00],\n",
       "        [1.0000e+00, 1.0000e+00],\n",
       "        [3.0000e+00, 5.5556e-01],\n",
       "        [1.0000e+00, 1.0000e+00],\n",
       "        [1.0000e+00, 1.0000e+00],\n",
       "        [1.0000e+00, 2.0000e+00],\n",
       "        [1.0000e+00, 2.0000e+00],\n",
       "        [2.0000e+00, 1.2500e+00],\n",
       "        [1.0000e+00, 1.0000e+00],\n",
       "        [1.0000e+00, 1.0000e+00],\n",
       "        [1.0000e+00, 1.0000e+00],\n",
       "        [1.0000e+00, 1.0000e+00],\n",
       "        [1.0000e+00, 1.0000e+00],\n",
       "        [2.0000e+00, 1.2500e+00],\n",
       "        [1.0000e+00, 1.0000e+00],\n",
       "        [1.0000e+00, 1.0000e+00],\n",
       "        [1.0000e+00, 1.0000e+00],\n",
       "        [1.0000e+00, 6.0000e+00],\n",
       "        [1.0000e+00, 1.0000e+00],\n",
       "        [1.0000e+00, 1.0000e+00],\n",
       "        [2.0000e+00, 1.2500e+00],\n",
       "        [1.0000e+00, 1.0000e+00],\n",
       "        [1.0000e+00, 1.0000e+00],\n",
       "        [2.0000e+00, 1.0000e+00],\n",
       "        [1.0000e+00, 1.0000e+00],\n",
       "        [1.0000e+00, 1.0000e+00],\n",
       "        [1.0000e+00, 2.0000e+01],\n",
       "        [1.0000e+00, 4.0000e+00],\n",
       "        [2.0000e+00, 1.0000e+00],\n",
       "        [5.0000e+00, 3.3600e+00],\n",
       "        [1.0000e+00, 4.0000e+00],\n",
       "        [2.0000e+00, 1.0000e+00],\n",
       "        [8.0000e+00, 6.1875e+00],\n",
       "        [1.0000e+00, 9.0000e+00],\n",
       "        [3.0000e+00, 2.0000e+00],\n",
       "        [5.0000e+00, 7.2000e-01],\n",
       "        [2.0000e+00, 6.7500e+00],\n",
       "        [5.0000e+00, 3.6000e-01],\n",
       "        [5.0000e+00, 4.8000e+00],\n",
       "        [1.0000e+00, 1.2000e+02],\n",
       "        [7.0000e+00, 2.9388e+00],\n",
       "        [8.0000e+00, 2.6250e+00],\n",
       "        [1.0000e+00, 1.0000e+00],\n",
       "        [1.0000e+00, 5.0000e+00],\n",
       "        [5.0000e+00, 7.2000e-01],\n",
       "        [1.0000e+00, 2.0000e+00],\n",
       "        [1.0000e+00, 2.0000e+00],\n",
       "        [1.0000e+00, 2.0000e+00],\n",
       "        [1.0000e+00, 1.0000e+00],\n",
       "        [1.0000e+00, 1.0000e+00],\n",
       "        [1.0000e+00, 1.0000e+00],\n",
       "        [3.0000e+00, 5.5556e-01],\n",
       "        [1.0000e+00, 1.0000e+00],\n",
       "        [3.0000e+00, 6.6667e-01],\n",
       "        [1.0000e+00, 1.0000e+00],\n",
       "        [1.0000e+00, 3.0000e+00],\n",
       "        [1.0000e+00, 1.0000e+00],\n",
       "        [1.0000e+00, 1.2000e+01],\n",
       "        [1.0000e+00, 5.0000e+00],\n",
       "        [2.0000e+00, 1.2500e+00],\n",
       "        [2.0000e+00, 1.2500e+00],\n",
       "        [1.0000e+00, 5.0000e+00],\n",
       "        [3.0000e+00, 9.4444e+00],\n",
       "        [3.0000e+00, 5.5556e-01],\n",
       "        [1.0000e+00, 1.0000e+00],\n",
       "        [1.0000e+00, 1.0000e+00],\n",
       "        [1.0000e+00, 1.0000e+00],\n",
       "        [2.0000e+00, 1.0000e+00],\n",
       "        [1.0000e+00, 1.0000e+00],\n",
       "        [1.0000e+00, 1.0000e+00],\n",
       "        [1.0000e+00, 3.0000e+00],\n",
       "        [1.0000e+00, 1.0000e+00],\n",
       "        [1.0000e+00, 1.0000e+00],\n",
       "        [1.0000e+00, 1.0000e+00],\n",
       "        [1.0000e+00, 3.0000e+00],\n",
       "        [5.0000e+00, 9.6000e-01],\n",
       "        [2.0000e+00, 9.0000e+00],\n",
       "        [1.0000e+00, 5.2800e+02],\n",
       "        [1.0000e+00, 1.2000e+01],\n",
       "        [3.0000e+00, 5.3333e+00],\n",
       "        [5.0000e+00, 9.6000e-01],\n",
       "        [1.0000e+00, 2.0000e+00],\n",
       "        [1.0000e+00, 1.0000e+00],\n",
       "        [1.0000e+00, 1.0000e+00],\n",
       "        [1.0000e+00, 1.0000e+00],\n",
       "        [1.0000e+00, 2.0000e+00],\n",
       "        [2.0000e+00, 1.2500e+00],\n",
       "        [1.0000e+00, 1.0000e+00],\n",
       "        [1.0000e+00, 2.0000e+00],\n",
       "        [1.0000e+00, 1.0000e+01],\n",
       "        [1.0000e+00, 2.0000e+00],\n",
       "        [2.0000e+00, 3.5000e+00],\n",
       "        [1.0000e+00, 1.0000e+00],\n",
       "        [1.0000e+00, 1.0000e+00],\n",
       "        [1.0000e+00, 7.0000e+00],\n",
       "        [3.0000e+00, 4.4444e-01],\n",
       "        [1.0000e+00, 1.0000e+00],\n",
       "        [1.0000e+00, 1.0000e+00],\n",
       "        [1.0000e+00, 1.0000e+00],\n",
       "        [3.0000e+00, 6.6667e-01],\n",
       "        [7.0000e+00, 1.7143e+00],\n",
       "        [1.0000e+00, 1.2600e+02],\n",
       "        [7.0000e+00, 2.5714e+00],\n",
       "        [5.0000e+00, 3.3600e+00],\n",
       "        [2.0000e+00, 1.0000e+00],\n",
       "        [1.0000e+00, 4.0000e+00],\n",
       "        [5.0000e+00, 2.8800e+00],\n",
       "        [2.0000e+00, 1.0000e+00],\n",
       "        [1.0000e+00, 4.0000e+00],\n",
       "        [1.0000e+00, 3.0000e+00],\n",
       "        [1.0000e+00, 3.0000e+00],\n",
       "        [2.0000e+00, 7.5000e-01],\n",
       "        [5.0000e+00, 2.0400e+00],\n",
       "        [2.0000e+00, 1.2500e+00],\n",
       "        [1.0000e+00, 2.0000e+00],\n",
       "        [1.0000e+00, 1.0000e+00],\n",
       "        [1.0000e+00, 1.0000e+00],\n",
       "        [1.0000e+00, 1.0000e+00],\n",
       "        [1.0000e+00, 6.0000e+00],\n",
       "        [1.0000e+00, 4.0000e+00],\n",
       "        [2.0000e+00, 1.2500e+00],\n",
       "        [1.0000e+00, 1.0000e+00],\n",
       "        [1.0000e+00, 1.7000e+01],\n",
       "        [3.0000e+00, 1.3333e+00],\n",
       "        [1.0000e+00, 2.0000e+00],\n",
       "        [1.0000e+00, 2.0000e+00],\n",
       "        [1.0000e+00, 1.0000e+00],\n",
       "        [1.0000e+00, 1.0000e+00],\n",
       "        [1.0000e+00, 5.0000e+00],\n",
       "        [1.0000e+00, 1.0000e+00],\n",
       "        [1.0000e+00, 1.0000e+00],\n",
       "        [1.0000e+00, 2.0000e+00],\n",
       "        [1.0000e+00, 6.0000e+00],\n",
       "        [1.0000e+00, 2.0000e+00],\n",
       "        [1.0000e+00, 1.0000e+00],\n",
       "        [1.0000e+00, 1.0000e+00],\n",
       "        [1.0000e+00, 2.0000e+00],\n",
       "        [1.0000e+00, 1.0000e+00],\n",
       "        [1.0000e+00, 1.0000e+00],\n",
       "        [1.0000e+00, 1.0000e+00],\n",
       "        [1.0000e+00, 1.0000e+00],\n",
       "        [1.0000e+00, 2.0000e+00],\n",
       "        [1.0000e+00, 1.0000e+00],\n",
       "        [1.0000e+00, 1.0000e+00],\n",
       "        [1.0000e+00, 1.0000e+00],\n",
       "        [1.0000e+00, 2.0000e+00],\n",
       "        [2.0000e+00, 1.0000e+00],\n",
       "        [1.0000e+00, 1.0000e+00],\n",
       "        [1.0000e+00, 5.0000e+00],\n",
       "        [1.0000e+00, 1.0000e+00],\n",
       "        [1.0000e+00, 3.0000e+00],\n",
       "        [1.0000e+00, 1.0000e+00],\n",
       "        [1.0000e+00, 1.0000e+00],\n",
       "        [1.0000e+00, 1.0000e+00],\n",
       "        [1.0000e+00, 1.0000e+00],\n",
       "        [1.0000e+00, 1.0000e+00],\n",
       "        [2.0000e+00, 1.2500e+00],\n",
       "        [1.0000e+00, 1.0000e+00],\n",
       "        [1.0000e+00, 5.0000e+00],\n",
       "        [1.0000e+00, 1.0000e+00],\n",
       "        [1.0000e+00, 3.0000e+00],\n",
       "        [2.0000e+00, 6.7500e+00],\n",
       "        [1.0000e+00, 3.0000e+00],\n",
       "        [4.0000e+00, 3.1250e-01],\n",
       "        [1.0000e+01, 2.2000e+00],\n",
       "        [3.0000e+00, 5.5556e-01],\n",
       "        [2.0000e+00, 1.2500e+00],\n",
       "        [1.0000e+00, 5.0000e+00],\n",
       "        [3.0000e+00, 5.5556e-01],\n",
       "        [1.0000e+00, 1.0000e+00],\n",
       "        [1.0000e+00, 1.0000e+00],\n",
       "        [2.0000e+00, 7.5000e-01],\n",
       "        [1.0000e+00, 3.0000e+00],\n",
       "        [1.0000e+00, 5.4000e+01],\n",
       "        [1.0000e+00, 2.0000e+00],\n",
       "        [1.0000e+00, 1.0000e+00],\n",
       "        [1.0000e+00, 1.0000e+00],\n",
       "        [1.0000e+00, 1.0000e+00],\n",
       "        [1.0000e+00, 1.0000e+00],\n",
       "        [1.0000e+00, 3.0000e+00],\n",
       "        [1.0000e+00, 1.0000e+00],\n",
       "        [1.0000e+00, 1.0000e+00],\n",
       "        [2.0000e+00, 7.5000e-01],\n",
       "        [1.0000e+00, 1.0000e+00],\n",
       "        [1.0000e+00, 4.0000e+00],\n",
       "        [3.0000e+00, 6.6667e-01],\n",
       "        [1.0000e+00, 1.0000e+00],\n",
       "        [1.0000e+00, 1.0000e+00],\n",
       "        [1.0000e+00, 2.0000e+00],\n",
       "        [6.0000e+00, 2.5000e+00],\n",
       "        [8.0000e+00, 1.4062e+00],\n",
       "        [5.0000e+00, 2.8800e+00],\n",
       "        [1.0000e+00, 5.4000e+01],\n",
       "        [1.0000e+00, 5.0000e+00],\n",
       "        [1.0000e+00, 1.0000e+00],\n",
       "        [1.0000e+00, 4.0000e+00],\n",
       "        [3.0000e+00, 4.4444e-01],\n",
       "        [3.0000e+00, 5.3333e+00],\n",
       "        [2.0000e+00, 1.0000e+00],\n",
       "        [1.0000e+00, 4.0000e+00],\n",
       "        [1.0000e+00, 1.0000e+00],\n",
       "        [2.0000e+00, 7.5000e-01],\n",
       "        [1.0000e+00, 1.0000e+00],\n",
       "        [1.0000e+00, 5.0000e+00],\n",
       "        [1.0000e+00, 1.0000e+00],\n",
       "        [1.0000e+00, 1.0000e+00],\n",
       "        [1.0000e+00, 4.0000e+00],\n",
       "        [1.0000e+00, 1.0000e+00],\n",
       "        [1.0000e+00, 1.0000e+00],\n",
       "        [1.0000e+00, 1.0000e+00],\n",
       "        [1.0000e+00, 4.0000e+00],\n",
       "        [1.0000e+00, 1.0000e+00],\n",
       "        [1.0000e+00, 1.0000e+00],\n",
       "        [1.0000e+00, 5.0000e+00],\n",
       "        [1.0000e+00, 1.0000e+00],\n",
       "        [5.0000e+00, 3.6000e-01],\n",
       "        [1.0000e+00, 1.0000e+00],\n",
       "        [1.0000e+00, 1.0000e+00],\n",
       "        [1.0000e+00, 2.0000e+00],\n",
       "        [3.0000e+00, 1.3333e+00],\n",
       "        [1.0000e+00, 2.0000e+00],\n",
       "        [1.0000e+00, 1.0000e+00],\n",
       "        [2.0000e+00, 1.0000e+00],\n",
       "        [1.0000e+00, 1.0000e+00],\n",
       "        [1.0000e+00, 1.0000e+00],\n",
       "        [1.0000e+00, 1.0000e+00],\n",
       "        [1.0000e+00, 5.0000e+00],\n",
       "        [1.0000e+00, 1.0000e+00],\n",
       "        [1.0000e+00, 5.0000e+00],\n",
       "        [1.0000e+00, 2.0000e+00],\n",
       "        [2.0000e+00, 1.0000e+00],\n",
       "        [1.0000e+00, 1.0000e+00],\n",
       "        [1.0000e+00, 2.0000e+00],\n",
       "        [5.0000e+00, 9.6000e-01],\n",
       "        [1.0000e+00, 1.0000e+00],\n",
       "        [1.0000e+00, 1.0000e+00],\n",
       "        [1.0000e+00, 4.0000e+00],\n",
       "        [1.0000e+00, 1.0000e+00],\n",
       "        [8.0000e+00, 1.1688e+01],\n",
       "        [5.0000e+00, 3.4000e+00],\n",
       "        [1.0000e+00, 5.1000e+01],\n",
       "        [3.0000e+00, 9.4444e+00],\n",
       "        [5.0000e+00, 2.0400e+00],\n",
       "        [1.0000e+00, 1.7000e+01],\n",
       "        [3.0000e+00, 6.6667e-01],\n",
       "        [1.0000e+00, 1.0000e+00],\n",
       "        [4.0000e+00, 8.7500e-01],\n",
       "        [2.0000e+00, 1.7500e+00],\n",
       "        [1.0000e+00, 3.5000e+01],\n",
       "        [8.0000e+00, 2.6250e+00],\n",
       "        [2.0000e+00, 3.5000e+00],\n",
       "        [1.0000e+00, 7.0000e+00],\n",
       "        [2.0000e+00, 1.2500e+00],\n",
       "        [1.0000e+00, 1.0000e+00],\n",
       "        [1.0000e+00, 1.0000e+00],\n",
       "        [1.0000e+00, 1.0000e+00]])"
      ]
     },
     "execution_count": 70,
     "metadata": {},
     "output_type": "execute_result"
    }
   ],
   "source": [
    "generate_symmetric_pivot_edge_attr(edge_index, apsp, cardinalities)"
   ]
  },
  {
   "cell_type": "code",
   "execution_count": 37,
   "metadata": {},
   "outputs": [
    {
     "data": {
      "text/plain": [
       "[(1, 0),\n",
       " (2, 0),\n",
       " (2, 1),\n",
       " (3, 0),\n",
       " (3, 1),\n",
       " (3, 2),\n",
       " (4, 0),\n",
       " (4, 1),\n",
       " (4, 2),\n",
       " (4, 3)]"
      ]
     },
     "execution_count": 37,
     "metadata": {},
     "output_type": "execute_result"
    }
   ],
   "source": [
    "[(i, j) for i in range(5) for j in range(i)]"
   ]
  },
  {
   "cell_type": "code",
   "execution_count": 51,
   "metadata": {},
   "outputs": [
    {
     "data": {
      "text/plain": [
       "array([[1, 3],\n",
       "       [7, 9]])"
      ]
     },
     "execution_count": 51,
     "metadata": {},
     "output_type": "execute_result"
    }
   ],
   "source": [
    "np.array([[1,2,3],[4,5,6],[7,8,9]])[[0,2], :][:, [0,2]]"
   ]
  },
  {
   "cell_type": "code",
   "execution_count": 77,
   "metadata": {},
   "outputs": [
    {
     "data": {
      "text/plain": [
       "array([1.])"
      ]
     },
     "execution_count": 77,
     "metadata": {},
     "output_type": "execute_result"
    }
   ],
   "source": [
    "np.append(a, 1)"
   ]
  },
  {
   "cell_type": "code",
   "execution_count": 21,
   "metadata": {},
   "outputs": [
    {
     "data": {
      "text/plain": [
       "8473"
      ]
     },
     "execution_count": 21,
     "metadata": {},
     "output_type": "execute_result"
    }
   ],
   "source": [
    "np.argmax(list(map(nx.classes.graph.Graph.number_of_nodes, G_list)))"
   ]
  },
  {
   "cell_type": "code",
   "execution_count": 17,
   "metadata": {},
   "outputs": [
    {
     "data": {
      "text/plain": [
       "networkx.classes.graph.Graph"
      ]
     },
     "execution_count": 17,
     "metadata": {},
     "output_type": "execute_result"
    }
   ],
   "source": [
    "type(G)"
   ]
  },
  {
   "cell_type": "code",
   "execution_count": null,
   "metadata": {},
   "outputs": [],
   "source": []
  }
 ],
 "metadata": {
  "kernelspec": {
   "display_name": "Python 3",
   "language": "python",
   "name": "python3"
  },
  "language_info": {
   "codemirror_mode": {
    "name": "ipython",
    "version": 3
   },
   "file_extension": ".py",
   "mimetype": "text/x-python",
   "name": "python",
   "nbconvert_exporter": "python",
   "pygments_lexer": "ipython3",
   "version": "3.8.2"
  },
  "widgets": {
   "application/vnd.jupyter.widget-state+json": {
    "state": {
     "12083500aa6a4bc582f74fb21327a18b": {
      "model_module": "@jupyter-widgets/controls",
      "model_module_version": "1.5.0",
      "model_name": "HTMLModel",
      "state": {
       "layout": "IPY_MODEL_77441475e1e3481f90dc8ce6038917ca",
       "style": "IPY_MODEL_2f489ac8d9c3476eb6e1906d5f871bb9",
       "value": "preprocess G:   6%"
      }
     },
     "1ba89a2e1de04f53a6d635d224929705": {
      "model_module": "@jupyter-widgets/base",
      "model_module_version": "1.2.0",
      "model_name": "LayoutModel",
      "state": {}
     },
     "2f489ac8d9c3476eb6e1906d5f871bb9": {
      "model_module": "@jupyter-widgets/controls",
      "model_module_version": "1.5.0",
      "model_name": "DescriptionStyleModel",
      "state": {
       "description_width": ""
      }
     },
     "5beca3aaef5847d9af01381565505c6a": {
      "model_module": "@jupyter-widgets/controls",
      "model_module_version": "1.5.0",
      "model_name": "FloatProgressModel",
      "state": {
       "layout": "IPY_MODEL_eaa2b3fdc30a4d37b5e772bf9756cfca",
       "max": 11531,
       "style": "IPY_MODEL_a9f4444768864df88460dd6b3865568d",
       "value": 657
      }
     },
     "68603c19c9554d529f81f2aa16937640": {
      "model_module": "@jupyter-widgets/controls",
      "model_module_version": "1.5.0",
      "model_name": "DescriptionStyleModel",
      "state": {
       "description_width": ""
      }
     },
     "77441475e1e3481f90dc8ce6038917ca": {
      "model_module": "@jupyter-widgets/base",
      "model_module_version": "1.2.0",
      "model_name": "LayoutModel",
      "state": {}
     },
     "985ad17fa3ef42259d2baf313319c1c7": {
      "model_module": "@jupyter-widgets/base",
      "model_module_version": "1.2.0",
      "model_name": "LayoutModel",
      "state": {}
     },
     "a9f4444768864df88460dd6b3865568d": {
      "model_module": "@jupyter-widgets/controls",
      "model_module_version": "1.5.0",
      "model_name": "ProgressStyleModel",
      "state": {
       "description_width": ""
      }
     },
     "eaa2b3fdc30a4d37b5e772bf9756cfca": {
      "model_module": "@jupyter-widgets/base",
      "model_module_version": "1.2.0",
      "model_name": "LayoutModel",
      "state": {}
     },
     "f92f29e9481e44fc804f3a1a42741adf": {
      "model_module": "@jupyter-widgets/controls",
      "model_module_version": "1.5.0",
      "model_name": "HTMLModel",
      "state": {
       "layout": "IPY_MODEL_1ba89a2e1de04f53a6d635d224929705",
       "style": "IPY_MODEL_68603c19c9554d529f81f2aa16937640",
       "value": " 657/11531 [00:57&lt;19:54,  9.10it/s]"
      }
     },
     "fa1ea310544b4cabb7591a7cb06d7901": {
      "model_module": "@jupyter-widgets/controls",
      "model_module_version": "1.5.0",
      "model_name": "HBoxModel",
      "state": {
       "children": [
        "IPY_MODEL_12083500aa6a4bc582f74fb21327a18b",
        "IPY_MODEL_5beca3aaef5847d9af01381565505c6a",
        "IPY_MODEL_f92f29e9481e44fc804f3a1a42741adf"
       ],
       "layout": "IPY_MODEL_985ad17fa3ef42259d2baf313319c1c7"
      }
     }
    },
    "version_major": 2,
    "version_minor": 0
   }
  }
 },
 "nbformat": 4,
 "nbformat_minor": 4
}
