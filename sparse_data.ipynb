{
 "cells": [
  {
   "cell_type": "code",
   "execution_count": 1,
   "metadata": {},
   "outputs": [],
   "source": [
    "%load_ext autoreload\n",
    "%autoreload 2"
   ]
  },
  {
   "cell_type": "code",
   "execution_count": 2,
   "metadata": {},
   "outputs": [],
   "source": [
    "from scipy.io import mmread"
   ]
  },
  {
   "cell_type": "code",
   "execution_count": 27,
   "metadata": {},
   "outputs": [
    {
     "data": {
      "text/plain": [
       "<1138x1138 sparse matrix of type '<class 'numpy.float64'>'\n",
       "\twith 4054 stored elements in COOrdinate format>"
      ]
     },
     "execution_count": 27,
     "metadata": {},
     "output_type": "execute_result"
    }
   ],
   "source": [
    "mmread('1138_bus/1138_bus.mtx')"
   ]
  },
  {
   "cell_type": "code",
   "execution_count": 2,
   "metadata": {},
   "outputs": [],
   "source": [
    "from lib.imports import *\n",
    "from lib.functions import *\n",
    "from lib.utils import *\n",
    "from lib.modules import *\n",
    "from lib.data import *\n",
    "from ipynb.fs.defs.losses import *"
   ]
  },
  {
   "cell_type": "code",
   "execution_count": 86,
   "metadata": {},
   "outputs": [],
   "source": [
    "G_list = load_G_list(data_path='data/rome', index_file='data_index.txt', cache='G_list.pickle')"
   ]
  },
  {
   "cell_type": "code",
   "execution_count": 3,
   "metadata": {},
   "outputs": [],
   "source": [
    "G_list_large = pickle.load(open('G_list_large.pickle', 'rb'))"
   ]
  },
  {
   "cell_type": "code",
   "execution_count": 91,
   "metadata": {},
   "outputs": [
    {
     "data": {
      "application/vnd.jupyter.widget-view+json": {
       "model_id": "4a535bd23d6a49babea998da5e5150f1",
       "version_major": 2,
       "version_minor": 0
      },
      "text/plain": [
       "preprocess G:   0%|          | 0/11531 [00:00<?, ?it/s]"
      ]
     },
     "metadata": {},
     "output_type": "display_data"
    }
   ],
   "source": [
    "data_list = generate_data_list(G_list, \n",
    "                               sparse=5, \n",
    "                               pivot_mode='maxmin',\n",
    "                               init_mode='random',\n",
    "                               edge_index='full_edge_index',\n",
    "                               edge_attr='full_edge_attr',\n",
    "                               pmds_list=pickle.load(open('pmds_list.pickle', 'rb')),\n",
    "                               device='cpu')"
   ]
  },
  {
   "cell_type": "code",
   "execution_count": 5,
   "metadata": {},
   "outputs": [],
   "source": [
    "model = Model()"
   ]
  },
  {
   "cell_type": "code",
   "execution_count": 7,
   "metadata": {},
   "outputs": [
    {
     "data": {
      "text/plain": [
       "tensor([[ 0.0646,  0.6262],\n",
       "        [ 0.0723,  0.5733],\n",
       "        [-0.1221,  1.2808],\n",
       "        ...,\n",
       "        [ 0.2123,  0.9736],\n",
       "        [ 0.0312,  1.2881],\n",
       "        [ 0.0512,  0.5859]], grad_fn=<AddBackward0>)"
      ]
     },
     "execution_count": 7,
     "metadata": {},
     "output_type": "execute_result"
    }
   ],
   "source": [
    "model(batch)"
   ]
  },
  {
   "cell_type": "code",
   "execution_count": 62,
   "metadata": {},
   "outputs": [],
   "source": [
    "rc_x = 4000\n",
    "rc_n = 200\n",
    "rc_k = int(np.ceil((2 * rc_n - 1 - np.sqrt((2 * rc_n - 1) ** 2 - 4 * rc_x)) / 2))"
   ]
  },
  {
   "cell_type": "code",
   "execution_count": 63,
   "metadata": {},
   "outputs": [
    {
     "data": {
      "text/plain": [
       "4268"
      ]
     },
     "execution_count": 63,
     "metadata": {},
     "output_type": "execute_result"
    }
   ],
   "source": [
    "rc_k * (rc_n-1) + rc_k * (rc_n-rc_k)"
   ]
  },
  {
   "cell_type": "code",
   "execution_count": 65,
   "metadata": {},
   "outputs": [
    {
     "data": {
      "text/plain": [
       "EdgeView([(0, 5), (0, 6), (0, 8), (0, 15), (1, 12), (2, 6), (2, 15), (3, 8), (3, 10), (3, 14), (3, 15), (4, 8), (4, 11), (7, 14), (9, 11), (9, 12), (9, 15), (10, 13), (11, 13), (12, 13), (14, 15)])"
      ]
     },
     "execution_count": 65,
     "metadata": {},
     "output_type": "execute_result"
    }
   ],
   "source": [
    "G.edges"
   ]
  },
  {
   "cell_type": "code",
   "execution_count": 96,
   "metadata": {},
   "outputs": [],
   "source": [
    "batch = Batch.from_data_list(data_list)"
   ]
  },
  {
   "cell_type": "code",
   "execution_count": 17,
   "metadata": {},
   "outputs": [
    {
     "data": {
      "text/plain": [
       "tensor(0.3503)"
      ]
     },
     "execution_count": 17,
     "metadata": {},
     "output_type": "execute_result"
    }
   ],
   "source": [
    "batch.cluster_edge_sparsity.mean()"
   ]
  },
  {
   "cell_type": "code",
   "execution_count": 15,
   "metadata": {},
   "outputs": [
    {
     "data": {
      "text/plain": [
       "tensor(0.4574)"
      ]
     },
     "execution_count": 15,
     "metadata": {},
     "output_type": "execute_result"
    }
   ],
   "source": [
    "batch.grouped_edge_sparsity.mean()"
   ]
  },
  {
   "cell_type": "code",
   "execution_count": 24,
   "metadata": {},
   "outputs": [
    {
     "data": {
      "text/plain": [
       "tensor(0.3338)"
      ]
     },
     "execution_count": 24,
     "metadata": {},
     "output_type": "execute_result"
    }
   ],
   "source": [
    "batch.sparse_edge_sparsity.mean()"
   ]
  },
  {
   "cell_type": "code",
   "execution_count": 82,
   "metadata": {},
   "outputs": [
    {
     "data": {
      "text/plain": [
       "tensor(0.3093)"
      ]
     },
     "execution_count": 82,
     "metadata": {},
     "output_type": "execute_result"
    }
   ],
   "source": [
    "batch.hierarchical_sparse_edge_sparsity.mean()"
   ]
  },
  {
   "cell_type": "code",
   "execution_count": 9,
   "metadata": {},
   "outputs": [
    {
     "data": {
      "text/plain": [
       "tensor(0.3768)"
      ]
     },
     "execution_count": 9,
     "metadata": {},
     "output_type": "execute_result"
    }
   ],
   "source": [
    "batch.recursive_sparse_edge_sparsity.mean()"
   ]
  },
  {
   "cell_type": "code",
   "execution_count": 101,
   "metadata": {},
   "outputs": [
    {
     "data": {
      "text/plain": [
       "tensor(0.1649)"
      ]
     },
     "execution_count": 101,
     "metadata": {},
     "output_type": "execute_result"
    }
   ],
   "source": [
    "batch.recursive_cluster_edge_sparsity.mean()"
   ]
  },
  {
   "cell_type": "code",
   "execution_count": 102,
   "metadata": {},
   "outputs": [
    {
     "data": {
      "text/plain": [
       "tensor(0.1995)"
      ]
     },
     "execution_count": 102,
     "metadata": {},
     "output_type": "execute_result"
    }
   ],
   "source": [
    "batch.sparse_edge_sparsity_rc_k.mean()"
   ]
  },
  {
   "cell_type": "code",
   "execution_count": 94,
   "metadata": {},
   "outputs": [
    {
     "data": {
      "text/plain": [
       "Data(cluster_edge_attr_nbhd=[2846, 2], cluster_edge_attr_pivot=[2846, 2], cluster_edge_attr_reg=[2846, 2], cluster_edge_index=[2, 2846], cluster_edge_sparsity=0.2509257626520896, edge_attr=[11342, 2], edge_index=[2, 11342], full_edge_attr=[11342, 2], full_edge_index=[2, 11342], hierarchical_sparse_edge_attr_nbhd=[1360, 2], hierarchical_sparse_edge_attr_pivot=[1360, 2], hierarchical_sparse_edge_attr_reg=[1360, 2], hierarchical_sparse_edge_attr_sympivot=[1360, 2], hierarchical_sparse_edge_index=[2, 1360], hierarchical_sparse_edge_sparsity=0.11990830541350732, pos=[107, 2], recursive_cluster_edge_attr_nbhd=[806, 2], recursive_cluster_edge_attr_pivot=[806, 2], recursive_cluster_edge_attr_reg=[806, 2], recursive_cluster_edge_attr_sympivot=[806, 2], recursive_cluster_edge_index=[2, 806], recursive_cluster_edge_sparsity=0.0710633045318286, sparse_edge_attr_nbhd=[1300, 2], sparse_edge_attr_nbhd_hs_k=[1494, 2], sparse_edge_attr_nbhd_rc_k=[894, 2], sparse_edge_attr_pivot=[1300, 2], sparse_edge_attr_pivot_hs_k=[1494, 2], sparse_edge_attr_pivot_rc_k=[894, 2], sparse_edge_attr_reg=[1300, 2], sparse_edge_attr_reg_hs_k=[1494, 2], sparse_edge_attr_reg_rc_k=[894, 2], sparse_edge_index=[2, 1300], sparse_edge_index_hs_k=[2, 1494], sparse_edge_index_rc_k=[2, 894], sparse_edge_sparsity=0.11461823311585258, sparse_edge_sparsity_hs_k=0.1317228002116029, sparse_edge_sparsity_rc_k=0.07882207723505555, x=[107])"
      ]
     },
     "execution_count": 94,
     "metadata": {},
     "output_type": "execute_result"
    }
   ],
   "source": [
    "data_list[8473]"
   ]
  },
  {
   "cell_type": "code",
   "execution_count": 98,
   "metadata": {},
   "outputs": [
    {
     "data": {
      "text/plain": [
       "tensor([0.6583, 0.3302, 0.1925,  ..., 0.1328, 0.1787, 0.3429])"
      ]
     },
     "execution_count": 98,
     "metadata": {},
     "output_type": "execute_result"
    }
   ],
   "source": [
    "batch.sparse_edge_sparsity"
   ]
  },
  {
   "cell_type": "code",
   "execution_count": 29,
   "metadata": {},
   "outputs": [],
   "source": [
    "def generate_apsp(G):\n",
    "    apsp_dict = dict(nx.all_pairs_shortest_path_length(G))\n",
    "    return np.array([[apsp_dict[j][k] for k in sorted(apsp_dict[j].keys())] for j in sorted(apsp_dict.keys())])"
   ]
  },
  {
   "cell_type": "code",
   "execution_count": 58,
   "metadata": {},
   "outputs": [],
   "source": [
    "def get_neighborhood_size(apsp):\n",
    "    return np.cumsum(np.apply_along_axis(lambda x: np.bincount(x, minlength=len(apsp)), 1, apsp), axis=1)"
   ]
  },
  {
   "cell_type": "code",
   "execution_count": 31,
   "metadata": {},
   "outputs": [],
   "source": [
    "def generate_maxmin_pivots_new(nodes, apsp, k):\n",
    "    partial_apsp = apsp[nodes, :][:, nodes]\n",
    "    pivots = [partial_apsp.max(axis=1).argmax()]\n",
    "    for _ in range(k - 1):\n",
    "        pivots.append(partial_apsp[:, pivots].min(axis=1).argmax())\n",
    "    return np.array(nodes)[pivots]"
   ]
  },
  {
   "cell_type": "code",
   "execution_count": 33,
   "metadata": {},
   "outputs": [],
   "source": [
    "def get_pivot_groups_new(nodes, apsp, pivots):\n",
    "    partial_apsp = apsp[pivots, :][:, nodes]\n",
    "    groups = np.zeros_like(partial_apsp)\n",
    "    groups[partial_apsp.argmin(axis=0), np.arange(groups.shape[1])] = 1\n",
    "#     return {p: (n := np.array(nodes)[g.astype(bool)])[n != p] for p, g in zip(pivots, groups)}\n",
    "    return {p: np.array(nodes)[g.astype(bool)][np.array(nodes)[g.astype(bool)] != p] for p, g in zip(pivots, groups)}"
   ]
  },
  {
   "cell_type": "code",
   "execution_count": 12,
   "metadata": {},
   "outputs": [],
   "source": [
    "G = G_list[0]\n",
    "apsp = generate_apsp(G)"
   ]
  },
  {
   "cell_type": "code",
   "execution_count": 25,
   "metadata": {},
   "outputs": [
    {
     "data": {
      "text/plain": [
       "array([[ 1,  5, 10, 14, 16, 16, 16, 16, 16, 16, 16, 16, 16, 16, 16, 16],\n",
       "       [ 1,  2,  4,  7, 12, 16, 16, 16, 16, 16, 16, 16, 16, 16, 16, 16],\n",
       "       [ 1,  3,  7, 13, 16, 16, 16, 16, 16, 16, 16, 16, 16, 16, 16, 16],\n",
       "       [ 1,  5, 11, 15, 16, 16, 16, 16, 16, 16, 16, 16, 16, 16, 16, 16],\n",
       "       [ 1,  3,  7, 13, 16, 16, 16, 16, 16, 16, 16, 16, 16, 16, 16, 16],\n",
       "       [ 1,  2,  5, 10, 14, 16, 16, 16, 16, 16, 16, 16, 16, 16, 16, 16],\n",
       "       [ 1,  3,  6, 10, 14, 16, 16, 16, 16, 16, 16, 16, 16, 16, 16, 16],\n",
       "       [ 1,  2,  4,  9, 15, 16, 16, 16, 16, 16, 16, 16, 16, 16, 16, 16],\n",
       "       [ 1,  4, 10, 14, 15, 16, 16, 16, 16, 16, 16, 16, 16, 16, 16, 16],\n",
       "       [ 1,  4, 11, 16, 16, 16, 16, 16, 16, 16, 16, 16, 16, 16, 16, 16],\n",
       "       [ 1,  3,  8, 14, 16, 16, 16, 16, 16, 16, 16, 16, 16, 16, 16, 16],\n",
       "       [ 1,  4,  8, 13, 16, 16, 16, 16, 16, 16, 16, 16, 16, 16, 16, 16],\n",
       "       [ 1,  4,  7, 12, 16, 16, 16, 16, 16, 16, 16, 16, 16, 16, 16, 16],\n",
       "       [ 1,  4,  8, 11, 14, 16, 16, 16, 16, 16, 16, 16, 16, 16, 16, 16],\n",
       "       [ 1,  4,  9, 15, 16, 16, 16, 16, 16, 16, 16, 16, 16, 16, 16, 16],\n",
       "       [ 1,  6, 13, 16, 16, 16, 16, 16, 16, 16, 16, 16, 16, 16, 16, 16]])"
      ]
     },
     "execution_count": 25,
     "metadata": {},
     "output_type": "execute_result"
    }
   ],
   "source": [
    "neighborhood = get_neighborhood_size(apsp)\n",
    "neighborhood"
   ]
  },
  {
   "cell_type": "code",
   "execution_count": 14,
   "metadata": {},
   "outputs": [
    {
     "data": {
      "text/plain": [
       "array([1, 5, 7, 2, 4])"
      ]
     },
     "execution_count": 14,
     "metadata": {},
     "output_type": "execute_result"
    }
   ],
   "source": [
    "pivots = generate_maxmin_pivots_new(G.nodes, apsp, 5)\n",
    "pivots"
   ]
  },
  {
   "cell_type": "code",
   "execution_count": 18,
   "metadata": {},
   "outputs": [
    {
     "data": {
      "text/plain": [
       "{1: [1, 9, 10, 12, 13], 5: [0, 5], 7: [3, 7, 14], 2: [2, 6, 15], 4: [4, 8, 11]}"
      ]
     },
     "execution_count": 18,
     "metadata": {},
     "output_type": "execute_result"
    }
   ],
   "source": [
    "get_pivot_groups(G, apsp, pivots)"
   ]
  },
  {
   "cell_type": "code",
   "execution_count": 16,
   "metadata": {},
   "outputs": [
    {
     "data": {
      "text/plain": [
       "{1: array([ 9, 10, 12, 13]),\n",
       " 5: array([0]),\n",
       " 7: array([ 3, 14]),\n",
       " 2: array([ 6, 15]),\n",
       " 4: array([ 8, 11])}"
      ]
     },
     "execution_count": 16,
     "metadata": {},
     "output_type": "execute_result"
    }
   ],
   "source": [
    "get_pivot_groups_new(G.nodes, apsp, pivots)"
   ]
  },
  {
   "cell_type": "code",
   "execution_count": 34,
   "metadata": {},
   "outputs": [],
   "source": [
    "def get_recursive_pivot_groups(nodes, apsp, k):\n",
    "    pivots = generate_pivots(nodes, apsp, k)\n",
    "    groups = get_pivot_groups(nodes, apsp, pivots)\n",
    "    for p in pivots:\n",
    "        if len(groups[p]) > k:\n",
    "            groups[p] = get_recursive_pivot_groups(groups[p], apsp, k)\n",
    "    return groups"
   ]
  },
  {
   "cell_type": "code",
   "execution_count": 35,
   "metadata": {},
   "outputs": [],
   "source": [
    "def get_pivot_group_cardinalities(groups):\n",
    "    cardin_dict = dict()\n",
    "    def get_cardinalities(groups):\n",
    "        if type(groups) is not dict:\n",
    "            cardin_dict.update(zip(groups, np.ones_like(groups)))\n",
    "            return len(groups) + 1\n",
    "        cardin = list(map(get_cardinalities, groups.values()))\n",
    "        cardin_dict.update(zip(groups, cardin))\n",
    "        return sum(cardin) + 1\n",
    "    get_cardinalities(groups)\n",
    "    return np.array(sorted(cardin_dict.items()))[:, 1]"
   ]
  },
  {
   "cell_type": "code",
   "execution_count": 36,
   "metadata": {},
   "outputs": [],
   "source": [
    "def get_peer_pivot_dense_edge_set(groups):\n",
    "    edges = set()\n",
    "    def add_all_edges(groups):\n",
    "        if type(groups) is dict:\n",
    "            edges.update([(p, q) for p in groups for q in groups if p != q])\n",
    "            for p in groups:\n",
    "                add_all_edges(groups[p])\n",
    "    add_all_edges(groups)\n",
    "    return edges\n",
    "\n",
    "def get_same_level_dense_edge_set(groups):\n",
    "    edges = set()\n",
    "    def add_all_edges(groups):\n",
    "        edges.update([(p, q) for p in groups for q in groups if p != q])\n",
    "        if type(groups) is dict:\n",
    "            for p in groups:\n",
    "                add_all_edges(groups[p])\n",
    "    add_all_edges(groups)\n",
    "    return edges\n",
    "\n",
    "def get_adjacent_level_dense_edge_set(groups):\n",
    "    edges = set()\n",
    "    def add_all_edges(groups):\n",
    "        if type(groups) is dict:\n",
    "            descendents = np.concatenate([add_all_edges(groups[p]) for p in groups])\n",
    "            edges.update([(p, i) for p in groups for i in descendents])\n",
    "            return np.array(list(groups))\n",
    "        else:\n",
    "            return groups\n",
    "    add_all_edges(groups)\n",
    "    return edges\n",
    "\n",
    "def get_cross_level_dense_edge_set(groups):\n",
    "    edges = set()\n",
    "    def add_all_edges(groups):\n",
    "        if type(groups) is dict:\n",
    "            descendents = np.concatenate([add_all_edges(groups[p]) for p in groups])\n",
    "            edges.update([(p, i) for p in groups for i in descendents])\n",
    "            return np.concatenate((list(groups), descendents))\n",
    "        else:\n",
    "            return groups\n",
    "    add_all_edges(groups)\n",
    "    return edges\n",
    "\n",
    "def get_tree_edge_set(groups):\n",
    "    edges = set()\n",
    "    def add_all_edges(groups):\n",
    "        if type(groups) is dict:\n",
    "            edges.update([(p, i) for p in groups for i in groups[p]])\n",
    "            for p in groups:\n",
    "                add_all_edges(groups[p])\n",
    "    add_all_edges(groups)\n",
    "    return edges\n",
    "\n",
    "def get_forward_edge_set(groups):\n",
    "    edges = set()\n",
    "    def add_all_edges(groups):\n",
    "        if type(groups) is dict:\n",
    "            descendents = {p: add_all_edges(groups[p]) for p in groups}\n",
    "            edges.update([(p, i) for p in groups for i in descendents[p]])\n",
    "            return np.concatenate((list(groups), *descendents.values()))\n",
    "        else:\n",
    "            return groups\n",
    "    add_all_edges(groups)\n",
    "    return edges"
   ]
  },
  {
   "cell_type": "code",
   "execution_count": 37,
   "metadata": {},
   "outputs": [],
   "source": [
    "def get_hierarchical_cluster_edge_set(groups):\n",
    "    return get_tree_edge_set(groups).union(get_same_level_dense_edge_set(groups))\n",
    "\n",
    "def get_recursive_cluster_edge_set(groups):\n",
    "    return get_forward_edge_set(groups).union(get_same_level_dense_edge_set(groups))\n",
    "\n",
    "def get_hierarchical_sparse_edge_set(groups):\n",
    "    return get_adjacent_level_dense_edge_set(groups).union(get_peer_pivot_dense_edge_set(groups))\n",
    "\n",
    "def get_recursive_sparse_edge_set(groups):\n",
    "    return get_cross_level_dense_edge_set(groups).union(get_peer_pivot_dense_edge_set(groups))"
   ]
  },
  {
   "cell_type": "code",
   "execution_count": 38,
   "metadata": {},
   "outputs": [],
   "source": [
    "def create_edge_index(*edge_sets, device='cpu'):\n",
    "    all_edges = reduce(lambda x, y: x.union(y), edge_sets, set())\n",
    "    reverse_edges = set(map(lambda x: x[::-1], all_edges))\n",
    "    sorted_symmetric_edges = sorted(list(all_edges.union(reverse_edges)))\n",
    "    return torch.tensor(sorted_symmetric_edges, dtype=torch.long, device=device).t()"
   ]
  },
  {
   "cell_type": "code",
   "execution_count": 39,
   "metadata": {},
   "outputs": [],
   "source": [
    "def generate_regular_edge_attr_new(edge_index, apsp, device='cpu'):\n",
    "    d = apsp[edge_index[0], edge_index[1]]\n",
    "    w = 1 / d ** 2\n",
    "    return torch.tensor(np.stack([d, w], axis=1), dtype=torch.float, device=device)"
   ]
  },
  {
   "cell_type": "code",
   "execution_count": 40,
   "metadata": {},
   "outputs": [],
   "source": [
    "def generate_pivot_edge_attr_new(edge_index, apsp, cardinalities, device='cpu'):\n",
    "    d = apsp[edge_index[0], edge_index[1]]\n",
    "    s = cardinalities[edge_index[0]]\n",
    "    w = s / d ** 2\n",
    "    return torch.tensor(np.stack([d, w], axis=1), dtype=torch.float, device=device)"
   ]
  },
  {
   "cell_type": "code",
   "execution_count": 41,
   "metadata": {},
   "outputs": [],
   "source": [
    "def generate_symmetric_pivot_edge_attr(edge_index, apsp, cardinalities, device='cpu'):\n",
    "    d = apsp[edge_index[0], edge_index[1]]\n",
    "    s = cardinalities[edge_index[0]] * cardinalities[edge_index[1]]\n",
    "    w = s / d ** 2\n",
    "    return torch.tensor(np.stack([d, w], axis=1), dtype=torch.float, device=device)"
   ]
  },
  {
   "cell_type": "code",
   "execution_count": 42,
   "metadata": {},
   "outputs": [],
   "source": [
    "G = G_list[0]"
   ]
  },
  {
   "cell_type": "code",
   "execution_count": 43,
   "metadata": {},
   "outputs": [
    {
     "data": {
      "text/plain": [
       "array([[0, 4, 2, 2, 2, 1, 1, 3, 1, 2, 3, 3, 3, 4, 2, 1],\n",
       "       [4, 0, 4, 4, 4, 5, 5, 5, 5, 2, 3, 3, 1, 2, 4, 3],\n",
       "       [2, 4, 0, 2, 4, 3, 1, 3, 3, 2, 3, 3, 3, 4, 2, 1],\n",
       "       [2, 4, 2, 0, 2, 3, 3, 2, 1, 2, 1, 3, 3, 2, 1, 1],\n",
       "       [2, 4, 4, 2, 0, 3, 3, 4, 1, 2, 3, 1, 3, 2, 3, 3],\n",
       "       [1, 5, 3, 3, 3, 0, 2, 4, 2, 3, 4, 4, 4, 5, 3, 2],\n",
       "       [1, 5, 1, 3, 3, 2, 0, 4, 2, 3, 4, 4, 4, 5, 3, 2],\n",
       "       [3, 5, 3, 2, 4, 4, 4, 0, 3, 3, 3, 4, 4, 4, 1, 2],\n",
       "       [1, 5, 3, 1, 1, 2, 2, 3, 0, 3, 2, 2, 4, 3, 2, 2],\n",
       "       [2, 2, 2, 2, 2, 3, 3, 3, 3, 0, 3, 1, 1, 2, 2, 1],\n",
       "       [3, 3, 3, 1, 3, 4, 4, 3, 2, 3, 0, 2, 2, 1, 2, 2],\n",
       "       [3, 3, 3, 3, 1, 4, 4, 4, 2, 1, 2, 0, 2, 1, 3, 2],\n",
       "       [3, 1, 3, 3, 3, 4, 4, 4, 4, 1, 2, 2, 0, 1, 3, 2],\n",
       "       [4, 2, 4, 2, 2, 5, 5, 4, 3, 2, 1, 1, 1, 0, 3, 3],\n",
       "       [2, 4, 2, 1, 3, 3, 3, 1, 2, 2, 2, 3, 3, 3, 0, 1],\n",
       "       [1, 3, 1, 1, 3, 2, 2, 2, 2, 1, 2, 2, 2, 3, 1, 0]])"
      ]
     },
     "execution_count": 43,
     "metadata": {},
     "output_type": "execute_result"
    }
   ],
   "source": [
    "apsp = generate_apsp(G)\n",
    "apsp"
   ]
  },
  {
   "cell_type": "code",
   "execution_count": 60,
   "metadata": {},
   "outputs": [
    {
     "data": {
      "text/plain": [
       "array([[ 1,  5, 10, 14, 16, 16, 16, 16, 16, 16, 16, 16, 16, 16, 16, 16],\n",
       "       [ 1,  2,  4,  7, 12, 16, 16, 16, 16, 16, 16, 16, 16, 16, 16, 16],\n",
       "       [ 1,  3,  7, 13, 16, 16, 16, 16, 16, 16, 16, 16, 16, 16, 16, 16],\n",
       "       [ 1,  5, 11, 15, 16, 16, 16, 16, 16, 16, 16, 16, 16, 16, 16, 16],\n",
       "       [ 1,  3,  7, 13, 16, 16, 16, 16, 16, 16, 16, 16, 16, 16, 16, 16],\n",
       "       [ 1,  2,  5, 10, 14, 16, 16, 16, 16, 16, 16, 16, 16, 16, 16, 16],\n",
       "       [ 1,  3,  6, 10, 14, 16, 16, 16, 16, 16, 16, 16, 16, 16, 16, 16],\n",
       "       [ 1,  2,  4,  9, 15, 16, 16, 16, 16, 16, 16, 16, 16, 16, 16, 16],\n",
       "       [ 1,  4, 10, 14, 15, 16, 16, 16, 16, 16, 16, 16, 16, 16, 16, 16],\n",
       "       [ 1,  4, 11, 16, 16, 16, 16, 16, 16, 16, 16, 16, 16, 16, 16, 16],\n",
       "       [ 1,  3,  8, 14, 16, 16, 16, 16, 16, 16, 16, 16, 16, 16, 16, 16],\n",
       "       [ 1,  4,  8, 13, 16, 16, 16, 16, 16, 16, 16, 16, 16, 16, 16, 16],\n",
       "       [ 1,  4,  7, 12, 16, 16, 16, 16, 16, 16, 16, 16, 16, 16, 16, 16],\n",
       "       [ 1,  4,  8, 11, 14, 16, 16, 16, 16, 16, 16, 16, 16, 16, 16, 16],\n",
       "       [ 1,  4,  9, 15, 16, 16, 16, 16, 16, 16, 16, 16, 16, 16, 16, 16],\n",
       "       [ 1,  6, 13, 16, 16, 16, 16, 16, 16, 16, 16, 16, 16, 16, 16, 16]])"
      ]
     },
     "execution_count": 60,
     "metadata": {},
     "output_type": "execute_result"
    }
   ],
   "source": [
    "neighborhood = get_neighborhood_size(apsp)\n",
    "neighborhood"
   ]
  },
  {
   "cell_type": "code",
   "execution_count": 46,
   "metadata": {},
   "outputs": [
    {
     "data": {
      "text/plain": [
       "array([1, 5, 7, 2])"
      ]
     },
     "execution_count": 46,
     "metadata": {},
     "output_type": "execute_result"
    }
   ],
   "source": [
    "pivots = generate_maxmin_pivots_new(G.nodes, apsp, 4)\n",
    "pivots"
   ]
  },
  {
   "cell_type": "code",
   "execution_count": 48,
   "metadata": {},
   "outputs": [
    {
     "data": {
      "text/plain": [
       "{1: array([ 9, 10, 11, 12, 13]),\n",
       " 5: array([0, 4, 8]),\n",
       " 7: array([ 3, 14]),\n",
       " 2: array([ 6, 15])}"
      ]
     },
     "execution_count": 48,
     "metadata": {},
     "output_type": "execute_result"
    }
   ],
   "source": [
    "groups = get_pivot_groups_new(G.nodes, apsp, pivots)\n",
    "groups"
   ]
  },
  {
   "cell_type": "code",
   "execution_count": 77,
   "metadata": {},
   "outputs": [
    {
     "data": {
      "text/plain": [
       "{1: {9: array([], dtype=int64),\n",
       "  10: array([13]),\n",
       "  11: array([], dtype=int64),\n",
       "  12: array([], dtype=int64)},\n",
       " 5: array([0, 4, 8]),\n",
       " 7: array([ 3, 14]),\n",
       " 2: array([ 6, 15])}"
      ]
     },
     "execution_count": 77,
     "metadata": {},
     "output_type": "execute_result"
    }
   ],
   "source": [
    "groups = get_recursive_pivot_groups(G.nodes, apsp, 4)\n",
    "groups"
   ]
  },
  {
   "cell_type": "code",
   "execution_count": 49,
   "metadata": {},
   "outputs": [],
   "source": [
    "cardinalities = get_pivot_group_cardinalities(groups)"
   ]
  },
  {
   "cell_type": "code",
   "execution_count": 50,
   "metadata": {},
   "outputs": [],
   "source": [
    "recur_eset = get_recursive_sparse_edge_set(groups)\n",
    "# recur_eset"
   ]
  },
  {
   "cell_type": "code",
   "execution_count": 52,
   "metadata": {},
   "outputs": [
    {
     "data": {
      "text/plain": [
       "tensor([[ 0,  0,  0,  0,  0,  0,  0,  1,  1,  1,  1,  1,  1,  1,  1,  1,  1,  1,\n",
       "          1,  1,  1,  1,  2,  2,  2,  2,  2,  2,  2,  2,  2,  2,  2,  2,  2,  2,\n",
       "          2,  3,  3,  3,  3,  3,  3,  3,  3,  4,  4,  4,  4,  4,  4,  5,  5,  5,\n",
       "          5,  5,  5,  5,  5,  5,  5,  5,  5,  5,  5,  5,  6,  6,  6,  6,  6,  7,\n",
       "          7,  7,  7,  7,  7,  7,  7,  7,  7,  7,  7,  7,  7,  7,  8,  8,  8,  8,\n",
       "          8,  8,  8,  9,  9,  9,  9,  9,  9,  9, 10, 10, 10, 10, 10, 10, 11, 11,\n",
       "         11, 11, 11, 11, 11, 12, 12, 12, 12, 12, 12, 13, 13, 13, 13, 13, 13, 13,\n",
       "         14, 14, 14, 14, 14, 14, 15, 15, 15, 15, 15, 15, 15, 15],\n",
       "        [ 1,  2,  5,  6,  7,  8, 15,  0,  2,  3,  4,  5,  6,  7,  8,  9, 10, 11,\n",
       "         12, 13, 14, 15,  0,  1,  3,  4,  5,  6,  7,  8,  9, 10, 11, 12, 13, 14,\n",
       "         15,  1,  2,  5,  7,  8, 10, 14, 15,  1,  2,  5,  7,  8, 11,  0,  1,  2,\n",
       "          3,  4,  6,  7,  8,  9, 10, 11, 12, 13, 14, 15,  0,  1,  2,  5,  7,  0,\n",
       "          1,  2,  3,  4,  5,  6,  8,  9, 10, 11, 12, 13, 14, 15,  0,  1,  2,  3,\n",
       "          4,  5,  7,  1,  2,  5,  7, 11, 12, 15,  1,  2,  3,  5,  7, 13,  1,  2,\n",
       "          4,  5,  7,  9, 13,  1,  2,  5,  7,  9, 13,  1,  2,  5,  7, 10, 11, 12,\n",
       "          1,  2,  3,  5,  7, 15,  0,  1,  2,  3,  5,  7,  9, 14]])"
      ]
     },
     "execution_count": 52,
     "metadata": {},
     "output_type": "execute_result"
    }
   ],
   "source": [
    "edge_index = create_edge_index(G.edges, recur_eset)\n",
    "edge_index"
   ]
  },
  {
   "cell_type": "code",
   "execution_count": 82,
   "metadata": {},
   "outputs": [
    {
     "data": {
      "text/plain": [
       "array([1, 1, 1, 1, 1, 1, 1, 6, 6, 6, 6, 6, 6, 6, 6, 6, 6, 6, 6, 6, 6, 6,\n",
       "       3, 3, 3, 3, 3, 3, 3, 3, 3, 3, 3, 3, 3, 3, 3, 1, 1, 1, 1, 1, 1, 1,\n",
       "       1, 1, 1, 1, 1, 1, 1, 4, 4, 4, 4, 4, 4, 4, 4, 4, 4, 4, 4, 4, 4, 4,\n",
       "       1, 1, 1, 1, 1, 3, 3, 3, 3, 3, 3, 3, 3, 3, 3, 3, 3, 3, 3, 3, 1, 1,\n",
       "       1, 1, 1, 1, 1, 1, 1, 1, 1, 1, 1, 1, 1, 1, 1, 1, 1, 1, 1, 1, 1, 1,\n",
       "       1, 1, 1, 1, 1, 1, 1, 1, 1, 1, 1, 1, 1, 1, 1, 1, 1, 1, 1, 1, 1, 1,\n",
       "       1, 1, 1, 1, 1, 1, 1, 1])"
      ]
     },
     "execution_count": 82,
     "metadata": {},
     "output_type": "execute_result"
    }
   ],
   "source": [
    "d = apsp[edge_index[0], edge_index[1]]\n",
    "c = cardinalities[edge_index[0]]\n",
    "c"
   ]
  },
  {
   "cell_type": "code",
   "execution_count": 83,
   "metadata": {},
   "outputs": [
    {
     "data": {
      "text/plain": [
       "array([10,  5,  1,  1,  5,  1,  1,  4,  4,  4,  4,  4,  4,  4,  4,  2,  2,\n",
       "        2,  1,  2,  4,  2,  3,  7,  3,  7,  3,  1,  3,  3,  3,  3,  3,  3,\n",
       "        7,  3,  1, 11,  5,  5,  5,  1,  1,  1,  1,  7,  7,  3,  7,  1,  1,\n",
       "        1,  5,  2,  2,  2,  2,  5,  2,  2,  5,  5,  5,  5,  2,  2,  1,  6,\n",
       "        1,  3,  6,  2,  4,  2,  2,  4,  4,  4,  2,  2,  2,  4,  4,  4,  1,\n",
       "        2,  1, 10,  4,  1,  1,  4,  4,  4,  4,  4,  4,  1,  1,  1,  3,  3,\n",
       "        1,  8,  3,  1,  4,  4,  1,  8,  8,  1,  1,  1,  4,  7,  7,  1,  1,\n",
       "        4,  8,  8,  8,  1,  1,  1,  9,  4,  1,  4,  1,  1,  1,  6,  1,  1,\n",
       "        6,  6,  1,  1])"
      ]
     },
     "execution_count": 83,
     "metadata": {},
     "output_type": "execute_result"
    }
   ],
   "source": [
    "n = neighborhood[edge_index[0], d//2]\n",
    "n"
   ]
  },
  {
   "cell_type": "code",
   "execution_count": 84,
   "metadata": {},
   "outputs": [],
   "source": [
    "s = np.minimum(c, n)"
   ]
  },
  {
   "cell_type": "code",
   "execution_count": 70,
   "metadata": {},
   "outputs": [
    {
     "data": {
      "text/plain": [
       "tensor([[1.0000e+00, 5.0000e+00],\n",
       "        [1.0000e+00, 1.0000e+00],\n",
       "        [1.0000e+00, 1.0000e+00],\n",
       "        [1.0000e+00, 1.0000e+00],\n",
       "        [1.0000e+00, 1.0000e+00],\n",
       "        [2.0000e+00, 1.0000e+00],\n",
       "        [3.0000e+00, 4.4444e-01],\n",
       "        [7.0000e+00, 1.7143e+00],\n",
       "        [1.0000e+00, 4.0000e+00],\n",
       "        [1.0000e+00, 4.0000e+00],\n",
       "        [2.0000e+00, 1.2500e+00],\n",
       "        [1.0000e+00, 1.0000e+00],\n",
       "        [1.0000e+00, 1.0000e+00],\n",
       "        [1.0000e+00, 1.0000e+00],\n",
       "        [1.0000e+00, 1.0000e+00],\n",
       "        [1.0000e+00, 5.0000e+00],\n",
       "        [2.0000e+00, 1.2500e+00],\n",
       "        [1.0000e+00, 2.0000e+01],\n",
       "        [5.0000e+00, 4.8000e+00],\n",
       "        [1.0000e+00, 5.0000e+00],\n",
       "        [2.0000e+00, 1.2500e+00],\n",
       "        [1.0000e+00, 4.0000e+00],\n",
       "        [1.0000e+00, 1.0000e+00],\n",
       "        [2.0000e+00, 1.0000e+00],\n",
       "        [1.0000e+00, 1.0000e+00],\n",
       "        [2.0000e+00, 1.2500e+00],\n",
       "        [3.0000e+00, 5.5556e-01],\n",
       "        [3.0000e+00, 5.5556e-01],\n",
       "        [1.0000e+00, 1.2000e+02],\n",
       "        [1.0000e+00, 5.0000e+00],\n",
       "        [1.0000e+00, 1.2000e+01],\n",
       "        [7.0000e+00, 2.9388e+00],\n",
       "        [3.0000e+00, 6.6667e-01],\n",
       "        [3.0000e+00, 6.6667e-01],\n",
       "        [3.0000e+00, 6.6667e-01],\n",
       "        [5.0000e+00, 9.6000e-01],\n",
       "        [1.0000e+00, 2.0000e+00],\n",
       "        [1.0000e+00, 2.0000e+00],\n",
       "        [2.0000e+00, 1.2500e+00],\n",
       "        [1.0000e+00, 1.0000e+00],\n",
       "        [1.0000e+00, 1.0000e+00],\n",
       "        [1.0000e+00, 3.0000e+00],\n",
       "        [2.0000e+00, 9.0000e+00],\n",
       "        [1.0000e+00, 3.0000e+00],\n",
       "        [1.0000e+00, 1.0000e+00],\n",
       "        [1.0000e+00, 1.0000e+00],\n",
       "        [1.0000e+00, 4.0000e+00],\n",
       "        [1.0000e+00, 1.0000e+00],\n",
       "        [1.0000e+00, 1.0000e+00],\n",
       "        [3.0000e+00, 4.4444e-01],\n",
       "        [1.0000e+00, 5.0000e+00],\n",
       "        [1.0000e+00, 1.0000e+00],\n",
       "        [1.0000e+00, 1.0000e+00],\n",
       "        [1.0000e+00, 1.0000e+00],\n",
       "        [1.0000e+00, 1.0000e+00],\n",
       "        [1.0000e+00, 1.0000e+00],\n",
       "        [4.0000e+00, 3.1250e-01],\n",
       "        [1.0000e+00, 2.0000e+00],\n",
       "        [1.0000e+00, 2.0000e+00],\n",
       "        [4.0000e+00, 8.7500e-01],\n",
       "        [1.0000e+00, 1.0000e+00],\n",
       "        [1.0000e+00, 1.0000e+00],\n",
       "        [2.0000e+00, 1.7500e+00],\n",
       "        [8.0000e+00, 6.1875e+00],\n",
       "        [1.0000e+00, 5.2800e+02],\n",
       "        [1.0000e+01, 2.2000e+00],\n",
       "        [8.0000e+00, 1.1688e+01],\n",
       "        [1.0000e+00, 2.0000e+00],\n",
       "        [1.0000e+00, 1.0000e+00],\n",
       "        [2.0000e+00, 1.5000e+00],\n",
       "        [1.0000e+00, 1.0000e+00],\n",
       "        [1.0000e+00, 1.0000e+00],\n",
       "        [1.0000e+00, 1.0000e+00],\n",
       "        [1.0000e+00, 1.0000e+00],\n",
       "        [2.0000e+00, 1.5000e+00],\n",
       "        [1.0000e+00, 6.0000e+00],\n",
       "        [3.0000e+00, 6.6667e-01],\n",
       "        [1.0000e+00, 1.2600e+02],\n",
       "        [3.0000e+00, 1.3333e+00],\n",
       "        [1.0000e+00, 9.0000e+00],\n",
       "        [1.0000e+00, 1.0000e+00],\n",
       "        [1.0000e+00, 3.0000e+00],\n",
       "        [3.0000e+00, 2.0000e+00],\n",
       "        [1.0000e+00, 2.0000e+00],\n",
       "        [1.0000e+00, 2.0000e+00],\n",
       "        [1.0000e+00, 1.0000e+00],\n",
       "        [3.0000e+00, 5.5556e-01],\n",
       "        [1.0000e+00, 1.0000e+00],\n",
       "        [2.0000e+00, 1.2500e+00],\n",
       "        [1.0000e+00, 1.0000e+00],\n",
       "        [1.0000e+00, 1.0000e+00],\n",
       "        [1.0000e+00, 1.0000e+00],\n",
       "        [1.0000e+00, 1.0000e+00],\n",
       "        [3.0000e+00, 5.5556e-01],\n",
       "        [2.0000e+00, 1.5000e+00],\n",
       "        [1.0000e+00, 4.0000e+00],\n",
       "        [1.0000e+00, 3.0000e+00],\n",
       "        [1.0000e+00, 1.0000e+00],\n",
       "        [1.0000e+00, 1.0000e+00],\n",
       "        [2.0000e+00, 1.2500e+00],\n",
       "        [3.0000e+00, 5.5556e-01],\n",
       "        [1.0000e+00, 5.0000e+00],\n",
       "        [6.0000e+00, 2.5000e+00],\n",
       "        [1.0000e+00, 5.0000e+00],\n",
       "        [2.0000e+00, 1.2500e+00],\n",
       "        [1.0000e+00, 1.0000e+00],\n",
       "        [1.0000e+00, 1.0000e+00],\n",
       "        [2.0000e+00, 7.5000e-01],\n",
       "        [1.0000e+00, 1.0000e+00],\n",
       "        [2.0000e+00, 1.2500e+00],\n",
       "        [2.0000e+00, 1.2500e+00],\n",
       "        [1.0000e+00, 1.0000e+01],\n",
       "        [8.0000e+00, 1.4062e+00],\n",
       "        [1.0000e+00, 5.0000e+00],\n",
       "        [1.0000e+00, 5.0000e+00],\n",
       "        [1.0000e+00, 3.5000e+01],\n",
       "        [1.0000e+00, 1.2000e+01],\n",
       "        [1.0000e+00, 2.0000e+00],\n",
       "        [1.0000e+00, 2.0000e+00],\n",
       "        [1.0000e+00, 2.0000e+00],\n",
       "        [2.0000e+00, 1.2500e+00],\n",
       "        [3.0000e+00, 5.5556e-01],\n",
       "        [1.0000e+00, 5.0000e+00],\n",
       "        [3.0000e+00, 5.5556e-01],\n",
       "        [5.0000e+00, 3.4000e+00],\n",
       "        [1.0000e+00, 3.0000e+00],\n",
       "        [2.0000e+00, 7.5000e-01],\n",
       "        [1.0000e+00, 5.1000e+01],\n",
       "        [1.0000e+00, 1.0000e+00],\n",
       "        [1.0000e+00, 3.0000e+00],\n",
       "        [1.0000e+00, 2.0000e+00],\n",
       "        [1.0000e+00, 1.0000e+00],\n",
       "        [1.0000e+00, 1.0000e+00],\n",
       "        [1.0000e+00, 1.0000e+00],\n",
       "        [1.0000e+00, 2.0000e+00],\n",
       "        [1.0000e+00, 2.0000e+00],\n",
       "        [2.0000e+00, 1.5000e+00],\n",
       "        [7.0000e+00, 2.5714e+00],\n",
       "        [1.0000e+00, 6.0000e+00],\n",
       "        [1.0000e+00, 6.0000e+00],\n",
       "        [3.0000e+00, 1.3333e+00],\n",
       "        [1.0000e+00, 1.0000e+00],\n",
       "        [3.0000e+00, 5.5556e-01],\n",
       "        [1.0000e+00, 1.0000e+00],\n",
       "        [1.0000e+00, 1.0000e+00],\n",
       "        [1.0000e+00, 2.0000e+00],\n",
       "        [1.0000e+00, 2.0000e+00],\n",
       "        [2.0000e+00, 1.2500e+00],\n",
       "        [1.0000e+00, 1.0000e+00],\n",
       "        [1.0000e+00, 1.0000e+00],\n",
       "        [1.0000e+00, 1.0000e+00],\n",
       "        [1.0000e+00, 1.0000e+00],\n",
       "        [1.0000e+00, 1.0000e+00],\n",
       "        [2.0000e+00, 1.2500e+00],\n",
       "        [1.0000e+00, 1.0000e+00],\n",
       "        [1.0000e+00, 1.0000e+00],\n",
       "        [1.0000e+00, 1.0000e+00],\n",
       "        [1.0000e+00, 6.0000e+00],\n",
       "        [1.0000e+00, 1.0000e+00],\n",
       "        [1.0000e+00, 1.0000e+00],\n",
       "        [2.0000e+00, 1.2500e+00],\n",
       "        [1.0000e+00, 1.0000e+00],\n",
       "        [1.0000e+00, 1.0000e+00],\n",
       "        [2.0000e+00, 1.0000e+00],\n",
       "        [1.0000e+00, 1.0000e+00],\n",
       "        [1.0000e+00, 1.0000e+00],\n",
       "        [1.0000e+00, 2.0000e+01],\n",
       "        [1.0000e+00, 4.0000e+00],\n",
       "        [2.0000e+00, 1.0000e+00],\n",
       "        [5.0000e+00, 3.3600e+00],\n",
       "        [1.0000e+00, 4.0000e+00],\n",
       "        [2.0000e+00, 1.0000e+00],\n",
       "        [8.0000e+00, 6.1875e+00],\n",
       "        [1.0000e+00, 9.0000e+00],\n",
       "        [3.0000e+00, 2.0000e+00],\n",
       "        [5.0000e+00, 7.2000e-01],\n",
       "        [2.0000e+00, 6.7500e+00],\n",
       "        [5.0000e+00, 3.6000e-01],\n",
       "        [5.0000e+00, 4.8000e+00],\n",
       "        [1.0000e+00, 1.2000e+02],\n",
       "        [7.0000e+00, 2.9388e+00],\n",
       "        [8.0000e+00, 2.6250e+00],\n",
       "        [1.0000e+00, 1.0000e+00],\n",
       "        [1.0000e+00, 5.0000e+00],\n",
       "        [5.0000e+00, 7.2000e-01],\n",
       "        [1.0000e+00, 2.0000e+00],\n",
       "        [1.0000e+00, 2.0000e+00],\n",
       "        [1.0000e+00, 2.0000e+00],\n",
       "        [1.0000e+00, 1.0000e+00],\n",
       "        [1.0000e+00, 1.0000e+00],\n",
       "        [1.0000e+00, 1.0000e+00],\n",
       "        [3.0000e+00, 5.5556e-01],\n",
       "        [1.0000e+00, 1.0000e+00],\n",
       "        [3.0000e+00, 6.6667e-01],\n",
       "        [1.0000e+00, 1.0000e+00],\n",
       "        [1.0000e+00, 3.0000e+00],\n",
       "        [1.0000e+00, 1.0000e+00],\n",
       "        [1.0000e+00, 1.2000e+01],\n",
       "        [1.0000e+00, 5.0000e+00],\n",
       "        [2.0000e+00, 1.2500e+00],\n",
       "        [2.0000e+00, 1.2500e+00],\n",
       "        [1.0000e+00, 5.0000e+00],\n",
       "        [3.0000e+00, 9.4444e+00],\n",
       "        [3.0000e+00, 5.5556e-01],\n",
       "        [1.0000e+00, 1.0000e+00],\n",
       "        [1.0000e+00, 1.0000e+00],\n",
       "        [1.0000e+00, 1.0000e+00],\n",
       "        [2.0000e+00, 1.0000e+00],\n",
       "        [1.0000e+00, 1.0000e+00],\n",
       "        [1.0000e+00, 1.0000e+00],\n",
       "        [1.0000e+00, 3.0000e+00],\n",
       "        [1.0000e+00, 1.0000e+00],\n",
       "        [1.0000e+00, 1.0000e+00],\n",
       "        [1.0000e+00, 1.0000e+00],\n",
       "        [1.0000e+00, 3.0000e+00],\n",
       "        [5.0000e+00, 9.6000e-01],\n",
       "        [2.0000e+00, 9.0000e+00],\n",
       "        [1.0000e+00, 5.2800e+02],\n",
       "        [1.0000e+00, 1.2000e+01],\n",
       "        [3.0000e+00, 5.3333e+00],\n",
       "        [5.0000e+00, 9.6000e-01],\n",
       "        [1.0000e+00, 2.0000e+00],\n",
       "        [1.0000e+00, 1.0000e+00],\n",
       "        [1.0000e+00, 1.0000e+00],\n",
       "        [1.0000e+00, 1.0000e+00],\n",
       "        [1.0000e+00, 2.0000e+00],\n",
       "        [2.0000e+00, 1.2500e+00],\n",
       "        [1.0000e+00, 1.0000e+00],\n",
       "        [1.0000e+00, 2.0000e+00],\n",
       "        [1.0000e+00, 1.0000e+01],\n",
       "        [1.0000e+00, 2.0000e+00],\n",
       "        [2.0000e+00, 3.5000e+00],\n",
       "        [1.0000e+00, 1.0000e+00],\n",
       "        [1.0000e+00, 1.0000e+00],\n",
       "        [1.0000e+00, 7.0000e+00],\n",
       "        [3.0000e+00, 4.4444e-01],\n",
       "        [1.0000e+00, 1.0000e+00],\n",
       "        [1.0000e+00, 1.0000e+00],\n",
       "        [1.0000e+00, 1.0000e+00],\n",
       "        [3.0000e+00, 6.6667e-01],\n",
       "        [7.0000e+00, 1.7143e+00],\n",
       "        [1.0000e+00, 1.2600e+02],\n",
       "        [7.0000e+00, 2.5714e+00],\n",
       "        [5.0000e+00, 3.3600e+00],\n",
       "        [2.0000e+00, 1.0000e+00],\n",
       "        [1.0000e+00, 4.0000e+00],\n",
       "        [5.0000e+00, 2.8800e+00],\n",
       "        [2.0000e+00, 1.0000e+00],\n",
       "        [1.0000e+00, 4.0000e+00],\n",
       "        [1.0000e+00, 3.0000e+00],\n",
       "        [1.0000e+00, 3.0000e+00],\n",
       "        [2.0000e+00, 7.5000e-01],\n",
       "        [5.0000e+00, 2.0400e+00],\n",
       "        [2.0000e+00, 1.2500e+00],\n",
       "        [1.0000e+00, 2.0000e+00],\n",
       "        [1.0000e+00, 1.0000e+00],\n",
       "        [1.0000e+00, 1.0000e+00],\n",
       "        [1.0000e+00, 1.0000e+00],\n",
       "        [1.0000e+00, 6.0000e+00],\n",
       "        [1.0000e+00, 4.0000e+00],\n",
       "        [2.0000e+00, 1.2500e+00],\n",
       "        [1.0000e+00, 1.0000e+00],\n",
       "        [1.0000e+00, 1.7000e+01],\n",
       "        [3.0000e+00, 1.3333e+00],\n",
       "        [1.0000e+00, 2.0000e+00],\n",
       "        [1.0000e+00, 2.0000e+00],\n",
       "        [1.0000e+00, 1.0000e+00],\n",
       "        [1.0000e+00, 1.0000e+00],\n",
       "        [1.0000e+00, 5.0000e+00],\n",
       "        [1.0000e+00, 1.0000e+00],\n",
       "        [1.0000e+00, 1.0000e+00],\n",
       "        [1.0000e+00, 2.0000e+00],\n",
       "        [1.0000e+00, 6.0000e+00],\n",
       "        [1.0000e+00, 2.0000e+00],\n",
       "        [1.0000e+00, 1.0000e+00],\n",
       "        [1.0000e+00, 1.0000e+00],\n",
       "        [1.0000e+00, 2.0000e+00],\n",
       "        [1.0000e+00, 1.0000e+00],\n",
       "        [1.0000e+00, 1.0000e+00],\n",
       "        [1.0000e+00, 1.0000e+00],\n",
       "        [1.0000e+00, 1.0000e+00],\n",
       "        [1.0000e+00, 2.0000e+00],\n",
       "        [1.0000e+00, 1.0000e+00],\n",
       "        [1.0000e+00, 1.0000e+00],\n",
       "        [1.0000e+00, 1.0000e+00],\n",
       "        [1.0000e+00, 2.0000e+00],\n",
       "        [2.0000e+00, 1.0000e+00],\n",
       "        [1.0000e+00, 1.0000e+00],\n",
       "        [1.0000e+00, 5.0000e+00],\n",
       "        [1.0000e+00, 1.0000e+00],\n",
       "        [1.0000e+00, 3.0000e+00],\n",
       "        [1.0000e+00, 1.0000e+00],\n",
       "        [1.0000e+00, 1.0000e+00],\n",
       "        [1.0000e+00, 1.0000e+00],\n",
       "        [1.0000e+00, 1.0000e+00],\n",
       "        [1.0000e+00, 1.0000e+00],\n",
       "        [2.0000e+00, 1.2500e+00],\n",
       "        [1.0000e+00, 1.0000e+00],\n",
       "        [1.0000e+00, 5.0000e+00],\n",
       "        [1.0000e+00, 1.0000e+00],\n",
       "        [1.0000e+00, 3.0000e+00],\n",
       "        [2.0000e+00, 6.7500e+00],\n",
       "        [1.0000e+00, 3.0000e+00],\n",
       "        [4.0000e+00, 3.1250e-01],\n",
       "        [1.0000e+01, 2.2000e+00],\n",
       "        [3.0000e+00, 5.5556e-01],\n",
       "        [2.0000e+00, 1.2500e+00],\n",
       "        [1.0000e+00, 5.0000e+00],\n",
       "        [3.0000e+00, 5.5556e-01],\n",
       "        [1.0000e+00, 1.0000e+00],\n",
       "        [1.0000e+00, 1.0000e+00],\n",
       "        [2.0000e+00, 7.5000e-01],\n",
       "        [1.0000e+00, 3.0000e+00],\n",
       "        [1.0000e+00, 5.4000e+01],\n",
       "        [1.0000e+00, 2.0000e+00],\n",
       "        [1.0000e+00, 1.0000e+00],\n",
       "        [1.0000e+00, 1.0000e+00],\n",
       "        [1.0000e+00, 1.0000e+00],\n",
       "        [1.0000e+00, 1.0000e+00],\n",
       "        [1.0000e+00, 3.0000e+00],\n",
       "        [1.0000e+00, 1.0000e+00],\n",
       "        [1.0000e+00, 1.0000e+00],\n",
       "        [2.0000e+00, 7.5000e-01],\n",
       "        [1.0000e+00, 1.0000e+00],\n",
       "        [1.0000e+00, 4.0000e+00],\n",
       "        [3.0000e+00, 6.6667e-01],\n",
       "        [1.0000e+00, 1.0000e+00],\n",
       "        [1.0000e+00, 1.0000e+00],\n",
       "        [1.0000e+00, 2.0000e+00],\n",
       "        [6.0000e+00, 2.5000e+00],\n",
       "        [8.0000e+00, 1.4062e+00],\n",
       "        [5.0000e+00, 2.8800e+00],\n",
       "        [1.0000e+00, 5.4000e+01],\n",
       "        [1.0000e+00, 5.0000e+00],\n",
       "        [1.0000e+00, 1.0000e+00],\n",
       "        [1.0000e+00, 4.0000e+00],\n",
       "        [3.0000e+00, 4.4444e-01],\n",
       "        [3.0000e+00, 5.3333e+00],\n",
       "        [2.0000e+00, 1.0000e+00],\n",
       "        [1.0000e+00, 4.0000e+00],\n",
       "        [1.0000e+00, 1.0000e+00],\n",
       "        [2.0000e+00, 7.5000e-01],\n",
       "        [1.0000e+00, 1.0000e+00],\n",
       "        [1.0000e+00, 5.0000e+00],\n",
       "        [1.0000e+00, 1.0000e+00],\n",
       "        [1.0000e+00, 1.0000e+00],\n",
       "        [1.0000e+00, 4.0000e+00],\n",
       "        [1.0000e+00, 1.0000e+00],\n",
       "        [1.0000e+00, 1.0000e+00],\n",
       "        [1.0000e+00, 1.0000e+00],\n",
       "        [1.0000e+00, 4.0000e+00],\n",
       "        [1.0000e+00, 1.0000e+00],\n",
       "        [1.0000e+00, 1.0000e+00],\n",
       "        [1.0000e+00, 5.0000e+00],\n",
       "        [1.0000e+00, 1.0000e+00],\n",
       "        [5.0000e+00, 3.6000e-01],\n",
       "        [1.0000e+00, 1.0000e+00],\n",
       "        [1.0000e+00, 1.0000e+00],\n",
       "        [1.0000e+00, 2.0000e+00],\n",
       "        [3.0000e+00, 1.3333e+00],\n",
       "        [1.0000e+00, 2.0000e+00],\n",
       "        [1.0000e+00, 1.0000e+00],\n",
       "        [2.0000e+00, 1.0000e+00],\n",
       "        [1.0000e+00, 1.0000e+00],\n",
       "        [1.0000e+00, 1.0000e+00],\n",
       "        [1.0000e+00, 1.0000e+00],\n",
       "        [1.0000e+00, 5.0000e+00],\n",
       "        [1.0000e+00, 1.0000e+00],\n",
       "        [1.0000e+00, 5.0000e+00],\n",
       "        [1.0000e+00, 2.0000e+00],\n",
       "        [2.0000e+00, 1.0000e+00],\n",
       "        [1.0000e+00, 1.0000e+00],\n",
       "        [1.0000e+00, 2.0000e+00],\n",
       "        [5.0000e+00, 9.6000e-01],\n",
       "        [1.0000e+00, 1.0000e+00],\n",
       "        [1.0000e+00, 1.0000e+00],\n",
       "        [1.0000e+00, 4.0000e+00],\n",
       "        [1.0000e+00, 1.0000e+00],\n",
       "        [8.0000e+00, 1.1688e+01],\n",
       "        [5.0000e+00, 3.4000e+00],\n",
       "        [1.0000e+00, 5.1000e+01],\n",
       "        [3.0000e+00, 9.4444e+00],\n",
       "        [5.0000e+00, 2.0400e+00],\n",
       "        [1.0000e+00, 1.7000e+01],\n",
       "        [3.0000e+00, 6.6667e-01],\n",
       "        [1.0000e+00, 1.0000e+00],\n",
       "        [4.0000e+00, 8.7500e-01],\n",
       "        [2.0000e+00, 1.7500e+00],\n",
       "        [1.0000e+00, 3.5000e+01],\n",
       "        [8.0000e+00, 2.6250e+00],\n",
       "        [2.0000e+00, 3.5000e+00],\n",
       "        [1.0000e+00, 7.0000e+00],\n",
       "        [2.0000e+00, 1.2500e+00],\n",
       "        [1.0000e+00, 1.0000e+00],\n",
       "        [1.0000e+00, 1.0000e+00],\n",
       "        [1.0000e+00, 1.0000e+00]])"
      ]
     },
     "execution_count": 70,
     "metadata": {},
     "output_type": "execute_result"
    }
   ],
   "source": [
    "generate_symmetric_pivot_edge_attr(edge_index, apsp, cardinalities)"
   ]
  },
  {
   "cell_type": "code",
   "execution_count": 37,
   "metadata": {},
   "outputs": [
    {
     "data": {
      "text/plain": [
       "[(1, 0),\n",
       " (2, 0),\n",
       " (2, 1),\n",
       " (3, 0),\n",
       " (3, 1),\n",
       " (3, 2),\n",
       " (4, 0),\n",
       " (4, 1),\n",
       " (4, 2),\n",
       " (4, 3)]"
      ]
     },
     "execution_count": 37,
     "metadata": {},
     "output_type": "execute_result"
    }
   ],
   "source": [
    "[(i, j) for i in range(5) for j in range(i)]"
   ]
  },
  {
   "cell_type": "code",
   "execution_count": 51,
   "metadata": {},
   "outputs": [
    {
     "data": {
      "text/plain": [
       "array([[1, 3],\n",
       "       [7, 9]])"
      ]
     },
     "execution_count": 51,
     "metadata": {},
     "output_type": "execute_result"
    }
   ],
   "source": [
    "np.array([[1,2,3],[4,5,6],[7,8,9]])[[0,2], :][:, [0,2]]"
   ]
  },
  {
   "cell_type": "code",
   "execution_count": 77,
   "metadata": {},
   "outputs": [
    {
     "data": {
      "text/plain": [
       "array([1.])"
      ]
     },
     "execution_count": 77,
     "metadata": {},
     "output_type": "execute_result"
    }
   ],
   "source": [
    "np.append(a, 1)"
   ]
  },
  {
   "cell_type": "code",
   "execution_count": 21,
   "metadata": {},
   "outputs": [
    {
     "data": {
      "text/plain": [
       "8473"
      ]
     },
     "execution_count": 21,
     "metadata": {},
     "output_type": "execute_result"
    }
   ],
   "source": [
    "np.argmax(list(map(nx.classes.graph.Graph.number_of_nodes, G_list)))"
   ]
  },
  {
   "cell_type": "code",
   "execution_count": 17,
   "metadata": {},
   "outputs": [
    {
     "data": {
      "text/plain": [
       "networkx.classes.graph.Graph"
      ]
     },
     "execution_count": 17,
     "metadata": {},
     "output_type": "execute_result"
    }
   ],
   "source": [
    "type(G)"
   ]
  },
  {
   "cell_type": "code",
   "execution_count": null,
   "metadata": {},
   "outputs": [],
   "source": []
  }
 ],
 "metadata": {
  "kernelspec": {
   "display_name": "Python 3",
   "language": "python",
   "name": "python3"
  },
  "language_info": {
   "codemirror_mode": {
    "name": "ipython",
    "version": 3
   },
   "file_extension": ".py",
   "mimetype": "text/x-python",
   "name": "python",
   "nbconvert_exporter": "python",
   "pygments_lexer": "ipython3",
   "version": "3.8.2"
  },
  "widgets": {
   "application/vnd.jupyter.widget-state+json": {
    "state": {
     "01291cfcdf684abaa980794fbfc16286": {
      "model_module": "@jupyter-widgets/controls",
      "model_module_version": "1.5.0",
      "model_name": "HTMLModel",
      "state": {
       "layout": "IPY_MODEL_9f64504db8f04ccd873d3c6085d870ac",
       "style": "IPY_MODEL_af135a6690bd44c8be3ffea6a7cf4133",
       "value": "preprocess G: 100%"
      }
     },
     "0dab4e3ec17e4b588dd203b69e5e277f": {
      "model_module": "@jupyter-widgets/controls",
      "model_module_version": "1.5.0",
      "model_name": "FloatProgressModel",
      "state": {
       "bar_style": "success",
       "layout": "IPY_MODEL_144dad9f70b54281aa0f92040603d370",
       "max": 1,
       "style": "IPY_MODEL_ff60555542c2436698d1bcf1d67b1a65",
       "value": 1
      }
     },
     "139ae97586184b7d9b9504fe50f19ad1": {
      "model_module": "@jupyter-widgets/controls",
      "model_module_version": "1.5.0",
      "model_name": "DescriptionStyleModel",
      "state": {
       "description_width": ""
      }
     },
     "144dad9f70b54281aa0f92040603d370": {
      "model_module": "@jupyter-widgets/base",
      "model_module_version": "1.2.0",
      "model_name": "LayoutModel",
      "state": {}
     },
     "19b2a4386cac494ea75ca88227481d92": {
      "model_module": "@jupyter-widgets/controls",
      "model_module_version": "1.5.0",
      "model_name": "HTMLModel",
      "state": {
       "layout": "IPY_MODEL_638a5f5cb527459cbf12978364189174",
       "style": "IPY_MODEL_139ae97586184b7d9b9504fe50f19ad1",
       "value": "preprocess G:   0%"
      }
     },
     "1b284ea07a4e48e8807090e26ec51012": {
      "model_module": "@jupyter-widgets/controls",
      "model_module_version": "1.5.0",
      "model_name": "HTMLModel",
      "state": {
       "layout": "IPY_MODEL_868f7a59c8af4c128143a03507f36370",
       "style": "IPY_MODEL_53641573c66b4a8eb2ae06d4bcd1cccc",
       "value": " 0/1 [00:00&lt;?, ?it/s]"
      }
     },
     "2217c0b013a045ceb2f5b8fd5df981cb": {
      "model_module": "@jupyter-widgets/base",
      "model_module_version": "1.2.0",
      "model_name": "LayoutModel",
      "state": {}
     },
     "24d1c462574245aab20ddc9dd9f2c339": {
      "model_module": "@jupyter-widgets/controls",
      "model_module_version": "1.5.0",
      "model_name": "HTMLModel",
      "state": {
       "layout": "IPY_MODEL_543d08eeb2da427883f3039c6ff26141",
       "style": "IPY_MODEL_5f011db400d44ee6bb437ad21a342212",
       "value": " 1/1 [00:06&lt;00:00,  6.02s/it]"
      }
     },
     "257852058d2a488bbd77c1b9b213be42": {
      "model_module": "@jupyter-widgets/base",
      "model_module_version": "1.2.0",
      "model_name": "LayoutModel",
      "state": {}
     },
     "2ab79f11f0c94165bbd5a6e294b36416": {
      "model_module": "@jupyter-widgets/controls",
      "model_module_version": "1.5.0",
      "model_name": "DescriptionStyleModel",
      "state": {
       "description_width": ""
      }
     },
     "2eb04c43d27e40509bd410f9951bd5b6": {
      "model_module": "@jupyter-widgets/controls",
      "model_module_version": "1.5.0",
      "model_name": "ProgressStyleModel",
      "state": {
       "description_width": ""
      }
     },
     "31c440c1172e44de9ce4bf3b78003e90": {
      "model_module": "@jupyter-widgets/controls",
      "model_module_version": "1.5.0",
      "model_name": "HTMLModel",
      "state": {
       "layout": "IPY_MODEL_62e68c8024964fc280a5cc2bef6235ea",
       "style": "IPY_MODEL_e1f8f290b5924e7e980291fc7ea29356",
       "value": "preprocess G:   0%"
      }
     },
     "31f64de8fdcd491b9821ff9627e5f8ab": {
      "model_module": "@jupyter-widgets/controls",
      "model_module_version": "1.5.0",
      "model_name": "ProgressStyleModel",
      "state": {
       "description_width": ""
      }
     },
     "34b39927246a48a5b585fc6c23d4e12b": {
      "model_module": "@jupyter-widgets/base",
      "model_module_version": "1.2.0",
      "model_name": "LayoutModel",
      "state": {}
     },
     "3d0d0022d932455abda03b7bcee99c45": {
      "model_module": "@jupyter-widgets/controls",
      "model_module_version": "1.5.0",
      "model_name": "DescriptionStyleModel",
      "state": {
       "description_width": ""
      }
     },
     "46093e1ec3684b439c2b74d823b74078": {
      "model_module": "@jupyter-widgets/base",
      "model_module_version": "1.2.0",
      "model_name": "LayoutModel",
      "state": {}
     },
     "46cbd8823e534437986a23c739dc3a29": {
      "model_module": "@jupyter-widgets/controls",
      "model_module_version": "1.5.0",
      "model_name": "ProgressStyleModel",
      "state": {
       "description_width": ""
      }
     },
     "49e68a884d704d1d84bf9fde26a4b86d": {
      "model_module": "@jupyter-widgets/base",
      "model_module_version": "1.2.0",
      "model_name": "LayoutModel",
      "state": {}
     },
     "4a535bd23d6a49babea998da5e5150f1": {
      "model_module": "@jupyter-widgets/controls",
      "model_module_version": "1.5.0",
      "model_name": "HBoxModel",
      "state": {
       "children": [
        "IPY_MODEL_a9bd1329a82845d2af0da426bb288836",
        "IPY_MODEL_b1b22395746b4b86ae9f02c83733d8cc",
        "IPY_MODEL_d1b3d70102ab4919ad4ae8548bc40b78"
       ],
       "layout": "IPY_MODEL_700510f0e0454a2ebdd6075f493af5bd"
      }
     },
     "4aa8fa5b67d64b84b6a66f9afb833309": {
      "model_module": "@jupyter-widgets/controls",
      "model_module_version": "1.5.0",
      "model_name": "HBoxModel",
      "state": {
       "children": [
        "IPY_MODEL_31c440c1172e44de9ce4bf3b78003e90",
        "IPY_MODEL_62bb06efd7c94d289a9da47cc2957474",
        "IPY_MODEL_f23244dc43514c3b9d40362ea2a7d725"
       ],
       "layout": "IPY_MODEL_e389bca4a0eb48fca9e079ead872af9d"
      }
     },
     "52e3c4e759ca492991b5ca6aa3a2f2d6": {
      "model_module": "@jupyter-widgets/controls",
      "model_module_version": "1.5.0",
      "model_name": "DescriptionStyleModel",
      "state": {
       "description_width": ""
      }
     },
     "53641573c66b4a8eb2ae06d4bcd1cccc": {
      "model_module": "@jupyter-widgets/controls",
      "model_module_version": "1.5.0",
      "model_name": "DescriptionStyleModel",
      "state": {
       "description_width": ""
      }
     },
     "543d08eeb2da427883f3039c6ff26141": {
      "model_module": "@jupyter-widgets/base",
      "model_module_version": "1.2.0",
      "model_name": "LayoutModel",
      "state": {}
     },
     "5b2b2de9d35b4429b1d5723be96d9e2c": {
      "model_module": "@jupyter-widgets/controls",
      "model_module_version": "1.5.0",
      "model_name": "FloatProgressModel",
      "state": {
       "bar_style": "success",
       "layout": "IPY_MODEL_f4b53651580a4d5d9bf86177f441eda0",
       "max": 1,
       "style": "IPY_MODEL_46cbd8823e534437986a23c739dc3a29",
       "value": 1
      }
     },
     "5f011db400d44ee6bb437ad21a342212": {
      "model_module": "@jupyter-widgets/controls",
      "model_module_version": "1.5.0",
      "model_name": "DescriptionStyleModel",
      "state": {
       "description_width": ""
      }
     },
     "62bb06efd7c94d289a9da47cc2957474": {
      "model_module": "@jupyter-widgets/controls",
      "model_module_version": "1.5.0",
      "model_name": "FloatProgressModel",
      "state": {
       "bar_style": "danger",
       "layout": "IPY_MODEL_257852058d2a488bbd77c1b9b213be42",
       "max": 1,
       "style": "IPY_MODEL_31f64de8fdcd491b9821ff9627e5f8ab"
      }
     },
     "62e68c8024964fc280a5cc2bef6235ea": {
      "model_module": "@jupyter-widgets/base",
      "model_module_version": "1.2.0",
      "model_name": "LayoutModel",
      "state": {}
     },
     "638a5f5cb527459cbf12978364189174": {
      "model_module": "@jupyter-widgets/base",
      "model_module_version": "1.2.0",
      "model_name": "LayoutModel",
      "state": {}
     },
     "640f7d5c14124dbfa9adba07e821bacc": {
      "model_module": "@jupyter-widgets/controls",
      "model_module_version": "1.5.0",
      "model_name": "HBoxModel",
      "state": {
       "children": [
        "IPY_MODEL_01291cfcdf684abaa980794fbfc16286",
        "IPY_MODEL_fd0373c837824e81ae44b1925878cb45",
        "IPY_MODEL_24d1c462574245aab20ddc9dd9f2c339"
       ],
       "layout": "IPY_MODEL_34b39927246a48a5b585fc6c23d4e12b"
      }
     },
     "6b570fb494cc4141ac869bb69ebbeea3": {
      "model_module": "@jupyter-widgets/controls",
      "model_module_version": "1.5.0",
      "model_name": "DescriptionStyleModel",
      "state": {
       "description_width": ""
      }
     },
     "700510f0e0454a2ebdd6075f493af5bd": {
      "model_module": "@jupyter-widgets/base",
      "model_module_version": "1.2.0",
      "model_name": "LayoutModel",
      "state": {}
     },
     "764bf5338d9344b1963df0c8cddbcfa1": {
      "model_module": "@jupyter-widgets/controls",
      "model_module_version": "1.5.0",
      "model_name": "HTMLModel",
      "state": {
       "layout": "IPY_MODEL_fcee70dcc6b6495eb8771986ce2a4232",
       "style": "IPY_MODEL_2ab79f11f0c94165bbd5a6e294b36416",
       "value": "preprocess G: 100%"
      }
     },
     "7951bb6d2cea47feb9887a1fa417e5fc": {
      "model_module": "@jupyter-widgets/controls",
      "model_module_version": "1.5.0",
      "model_name": "DescriptionStyleModel",
      "state": {
       "description_width": ""
      }
     },
     "868f7a59c8af4c128143a03507f36370": {
      "model_module": "@jupyter-widgets/base",
      "model_module_version": "1.2.0",
      "model_name": "LayoutModel",
      "state": {}
     },
     "8d494fc010864617b70791e3cad3fd19": {
      "model_module": "@jupyter-widgets/base",
      "model_module_version": "1.2.0",
      "model_name": "LayoutModel",
      "state": {}
     },
     "91673c929f814e15b57bcd9a39f4ffb7": {
      "model_module": "@jupyter-widgets/controls",
      "model_module_version": "1.5.0",
      "model_name": "ProgressStyleModel",
      "state": {
       "description_width": ""
      }
     },
     "932712984b074e6f8b08cb9671befd46": {
      "model_module": "@jupyter-widgets/base",
      "model_module_version": "1.2.0",
      "model_name": "LayoutModel",
      "state": {}
     },
     "9ea92c8891304130968d13db0db7098c": {
      "model_module": "@jupyter-widgets/controls",
      "model_module_version": "1.5.0",
      "model_name": "HBoxModel",
      "state": {
       "children": [
        "IPY_MODEL_764bf5338d9344b1963df0c8cddbcfa1",
        "IPY_MODEL_5b2b2de9d35b4429b1d5723be96d9e2c",
        "IPY_MODEL_b180dc1a66114ac7aa0670fc1100e1c8"
       ],
       "layout": "IPY_MODEL_2217c0b013a045ceb2f5b8fd5df981cb"
      }
     },
     "9f64504db8f04ccd873d3c6085d870ac": {
      "model_module": "@jupyter-widgets/base",
      "model_module_version": "1.2.0",
      "model_name": "LayoutModel",
      "state": {}
     },
     "a217b931828a40158a0be45251385a4a": {
      "model_module": "@jupyter-widgets/controls",
      "model_module_version": "1.5.0",
      "model_name": "FloatProgressModel",
      "state": {
       "layout": "IPY_MODEL_cef47d1db1f6472cade4e0b87d09ebef",
       "max": 1,
       "style": "IPY_MODEL_2eb04c43d27e40509bd410f9951bd5b6"
      }
     },
     "a558c22109cc491abc6c10447567271b": {
      "model_module": "@jupyter-widgets/controls",
      "model_module_version": "1.5.0",
      "model_name": "HTMLModel",
      "state": {
       "layout": "IPY_MODEL_c9cbf197ffa4470da68e1a1988ecdefd",
       "style": "IPY_MODEL_3d0d0022d932455abda03b7bcee99c45",
       "value": "preprocess G: 100%"
      }
     },
     "a92bfdbc5bfa479dbfb6a442610cb627": {
      "model_module": "@jupyter-widgets/base",
      "model_module_version": "1.2.0",
      "model_name": "LayoutModel",
      "state": {}
     },
     "a9bd1329a82845d2af0da426bb288836": {
      "model_module": "@jupyter-widgets/controls",
      "model_module_version": "1.5.0",
      "model_name": "HTMLModel",
      "state": {
       "layout": "IPY_MODEL_932712984b074e6f8b08cb9671befd46",
       "style": "IPY_MODEL_d9efaecf1ff54366ac6c61d7cfee300f",
       "value": "preprocess G: 100%"
      }
     },
     "af135a6690bd44c8be3ffea6a7cf4133": {
      "model_module": "@jupyter-widgets/controls",
      "model_module_version": "1.5.0",
      "model_name": "DescriptionStyleModel",
      "state": {
       "description_width": ""
      }
     },
     "b180dc1a66114ac7aa0670fc1100e1c8": {
      "model_module": "@jupyter-widgets/controls",
      "model_module_version": "1.5.0",
      "model_name": "HTMLModel",
      "state": {
       "layout": "IPY_MODEL_49e68a884d704d1d84bf9fde26a4b86d",
       "style": "IPY_MODEL_52e3c4e759ca492991b5ca6aa3a2f2d6",
       "value": " 1/1 [00:08&lt;00:00,  8.34s/it]"
      }
     },
     "b1b22395746b4b86ae9f02c83733d8cc": {
      "model_module": "@jupyter-widgets/controls",
      "model_module_version": "1.5.0",
      "model_name": "FloatProgressModel",
      "state": {
       "bar_style": "success",
       "layout": "IPY_MODEL_8d494fc010864617b70791e3cad3fd19",
       "max": 11531,
       "style": "IPY_MODEL_91673c929f814e15b57bcd9a39f4ffb7",
       "value": 11531
      }
     },
     "b40ceb518e87412597991b2f107c9b3c": {
      "model_module": "@jupyter-widgets/base",
      "model_module_version": "1.2.0",
      "model_name": "LayoutModel",
      "state": {}
     },
     "b4b33c486d2646c4a45750ccd54be2e6": {
      "model_module": "@jupyter-widgets/base",
      "model_module_version": "1.2.0",
      "model_name": "LayoutModel",
      "state": {}
     },
     "b66311a2850647d7a06f1d16f6f982be": {
      "model_module": "@jupyter-widgets/base",
      "model_module_version": "1.2.0",
      "model_name": "LayoutModel",
      "state": {}
     },
     "c0d55727460a428f8a2b11286f3cdb1a": {
      "model_module": "@jupyter-widgets/controls",
      "model_module_version": "1.5.0",
      "model_name": "ProgressStyleModel",
      "state": {
       "description_width": ""
      }
     },
     "c9cbf197ffa4470da68e1a1988ecdefd": {
      "model_module": "@jupyter-widgets/base",
      "model_module_version": "1.2.0",
      "model_name": "LayoutModel",
      "state": {}
     },
     "cef47d1db1f6472cade4e0b87d09ebef": {
      "model_module": "@jupyter-widgets/base",
      "model_module_version": "1.2.0",
      "model_name": "LayoutModel",
      "state": {}
     },
     "d1b3d70102ab4919ad4ae8548bc40b78": {
      "model_module": "@jupyter-widgets/controls",
      "model_module_version": "1.5.0",
      "model_name": "HTMLModel",
      "state": {
       "layout": "IPY_MODEL_b66311a2850647d7a06f1d16f6f982be",
       "style": "IPY_MODEL_6b570fb494cc4141ac869bb69ebbeea3",
       "value": " 11531/11531 [04:26&lt;00:00, 46.20it/s]"
      }
     },
     "d9efaecf1ff54366ac6c61d7cfee300f": {
      "model_module": "@jupyter-widgets/controls",
      "model_module_version": "1.5.0",
      "model_name": "DescriptionStyleModel",
      "state": {
       "description_width": ""
      }
     },
     "e1f8f290b5924e7e980291fc7ea29356": {
      "model_module": "@jupyter-widgets/controls",
      "model_module_version": "1.5.0",
      "model_name": "DescriptionStyleModel",
      "state": {
       "description_width": ""
      }
     },
     "e389bca4a0eb48fca9e079ead872af9d": {
      "model_module": "@jupyter-widgets/base",
      "model_module_version": "1.2.0",
      "model_name": "LayoutModel",
      "state": {}
     },
     "e6a33e44354349c49e0cab97a136a1e9": {
      "model_module": "@jupyter-widgets/controls",
      "model_module_version": "1.5.0",
      "model_name": "HTMLModel",
      "state": {
       "layout": "IPY_MODEL_f354f59acc1248e0afc493666c3b701e",
       "style": "IPY_MODEL_fa1ba2ee867b42af89f7a16298069243",
       "value": " 1/1 [00:05&lt;00:00,  5.97s/it]"
      }
     },
     "e895e35cceb4450aa6b1f1b75fabb98c": {
      "model_module": "@jupyter-widgets/controls",
      "model_module_version": "1.5.0",
      "model_name": "HBoxModel",
      "state": {
       "children": [
        "IPY_MODEL_19b2a4386cac494ea75ca88227481d92",
        "IPY_MODEL_a217b931828a40158a0be45251385a4a",
        "IPY_MODEL_1b284ea07a4e48e8807090e26ec51012"
       ],
       "layout": "IPY_MODEL_b40ceb518e87412597991b2f107c9b3c"
      }
     },
     "f23244dc43514c3b9d40362ea2a7d725": {
      "model_module": "@jupyter-widgets/controls",
      "model_module_version": "1.5.0",
      "model_name": "HTMLModel",
      "state": {
       "layout": "IPY_MODEL_46093e1ec3684b439c2b74d823b74078",
       "style": "IPY_MODEL_7951bb6d2cea47feb9887a1fa417e5fc",
       "value": " 0/1 [05:00&lt;?, ?it/s]"
      }
     },
     "f354f59acc1248e0afc493666c3b701e": {
      "model_module": "@jupyter-widgets/base",
      "model_module_version": "1.2.0",
      "model_name": "LayoutModel",
      "state": {}
     },
     "f4b53651580a4d5d9bf86177f441eda0": {
      "model_module": "@jupyter-widgets/base",
      "model_module_version": "1.2.0",
      "model_name": "LayoutModel",
      "state": {}
     },
     "fa1ba2ee867b42af89f7a16298069243": {
      "model_module": "@jupyter-widgets/controls",
      "model_module_version": "1.5.0",
      "model_name": "DescriptionStyleModel",
      "state": {
       "description_width": ""
      }
     },
     "fbc22283cda34d9db0262ae7cd41c82b": {
      "model_module": "@jupyter-widgets/controls",
      "model_module_version": "1.5.0",
      "model_name": "HBoxModel",
      "state": {
       "children": [
        "IPY_MODEL_a558c22109cc491abc6c10447567271b",
        "IPY_MODEL_0dab4e3ec17e4b588dd203b69e5e277f",
        "IPY_MODEL_e6a33e44354349c49e0cab97a136a1e9"
       ],
       "layout": "IPY_MODEL_a92bfdbc5bfa479dbfb6a442610cb627"
      }
     },
     "fcee70dcc6b6495eb8771986ce2a4232": {
      "model_module": "@jupyter-widgets/base",
      "model_module_version": "1.2.0",
      "model_name": "LayoutModel",
      "state": {}
     },
     "fd0373c837824e81ae44b1925878cb45": {
      "model_module": "@jupyter-widgets/controls",
      "model_module_version": "1.5.0",
      "model_name": "FloatProgressModel",
      "state": {
       "bar_style": "success",
       "layout": "IPY_MODEL_b4b33c486d2646c4a45750ccd54be2e6",
       "max": 1,
       "style": "IPY_MODEL_c0d55727460a428f8a2b11286f3cdb1a",
       "value": 1
      }
     },
     "ff60555542c2436698d1bcf1d67b1a65": {
      "model_module": "@jupyter-widgets/controls",
      "model_module_version": "1.5.0",
      "model_name": "ProgressStyleModel",
      "state": {
       "description_width": ""
      }
     }
    },
    "version_major": 2,
    "version_minor": 0
   }
  }
 },
 "nbformat": 4,
 "nbformat_minor": 4
}
