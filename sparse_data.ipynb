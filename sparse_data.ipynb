{
 "cells": [
  {
   "cell_type": "code",
   "execution_count": 1,
   "metadata": {},
   "outputs": [],
   "source": [
    "%load_ext autoreload\n",
    "%autoreload 2"
   ]
  },
  {
   "cell_type": "code",
   "execution_count": 2,
   "metadata": {},
   "outputs": [],
   "source": [
    "from lib.imports import *\n",
    "from lib.data import *"
   ]
  },
  {
   "cell_type": "code",
   "execution_count": 3,
   "metadata": {},
   "outputs": [],
   "source": [
    "G_list = load_G_list(data_path='data/rome', index_file='data_index.txt', cache='G_list.pickle')"
   ]
  },
  {
   "cell_type": "code",
   "execution_count": 10,
   "metadata": {},
   "outputs": [
    {
     "data": {
      "application/vnd.jupyter.widget-view+json": {
       "model_id": "59c20c75397a459a9d92ccffd9988990",
       "version_major": 2,
       "version_minor": 0
      },
      "text/plain": [
       "preprocess G:   0%|          | 0/11531 [00:00<?, ?it/s]"
      ]
     },
     "metadata": {},
     "output_type": "display_data"
    },
    {
     "ename": "TypeError",
     "evalue": "'numpy.float64' object cannot be interpreted as an integer",
     "output_type": "error",
     "traceback": [
      "\u001b[0;31m---------------------------------------------------------------------------\u001b[0m",
      "\u001b[0;31mTypeError\u001b[0m                                 Traceback (most recent call last)",
      "\u001b[0;32m<ipython-input-10-29813c03ab62>\u001b[0m in \u001b[0;36m<module>\u001b[0;34m\u001b[0m\n\u001b[0;32m----> 1\u001b[0;31m data_list = generate_data_list(G_list, \n\u001b[0m\u001b[1;32m      2\u001b[0m                                \u001b[0msparse\u001b[0m\u001b[0;34m=\u001b[0m\u001b[0;34m'cbrt'\u001b[0m\u001b[0;34m,\u001b[0m\u001b[0;34m\u001b[0m\u001b[0;34m\u001b[0m\u001b[0m\n\u001b[1;32m      3\u001b[0m                                \u001b[0mpivot_mode\u001b[0m\u001b[0;34m=\u001b[0m\u001b[0;34m'maxmin'\u001b[0m\u001b[0;34m,\u001b[0m\u001b[0;34m\u001b[0m\u001b[0;34m\u001b[0m\u001b[0m\n\u001b[1;32m      4\u001b[0m                                \u001b[0minit_mode\u001b[0m\u001b[0;34m=\u001b[0m\u001b[0;34m'random'\u001b[0m\u001b[0;34m,\u001b[0m\u001b[0;34m\u001b[0m\u001b[0;34m\u001b[0m\u001b[0m\n\u001b[1;32m      5\u001b[0m                                \u001b[0medge_index\u001b[0m\u001b[0;34m=\u001b[0m\u001b[0;34m'full_edge_index'\u001b[0m\u001b[0;34m,\u001b[0m\u001b[0;34m\u001b[0m\u001b[0;34m\u001b[0m\u001b[0m\n",
      "\u001b[0;32m~/.lab/deepgd/lib/data.py\u001b[0m in \u001b[0;36mwrapped\u001b[0;34m(*arg, **kwargs)\u001b[0m\n\u001b[1;32m     11\u001b[0m         \u001b[0;32mreturn\u001b[0m \u001b[0mresult\u001b[0m\u001b[0;34m\u001b[0m\u001b[0;34m\u001b[0m\u001b[0m\n\u001b[1;32m     12\u001b[0m     \u001b[0;32mdef\u001b[0m \u001b[0mwrapped\u001b[0m\u001b[0;34m(\u001b[0m\u001b[0;34m*\u001b[0m\u001b[0marg\u001b[0m\u001b[0;34m,\u001b[0m \u001b[0;34m**\u001b[0m\u001b[0mkwargs\u001b[0m\u001b[0;34m)\u001b[0m\u001b[0;34m:\u001b[0m\u001b[0;34m\u001b[0m\u001b[0;34m\u001b[0m\u001b[0m\n\u001b[0;32m---> 13\u001b[0;31m         return (fn(*arg, **kwargs) if 'cache' not in kwargs \n\u001b[0m\u001b[1;32m     14\u001b[0m                 \u001b[0;32melse\u001b[0m \u001b[0mcache_hit\u001b[0m\u001b[0;34m(\u001b[0m\u001b[0;34m*\u001b[0m\u001b[0marg\u001b[0m\u001b[0;34m,\u001b[0m \u001b[0;34m**\u001b[0m\u001b[0mkwargs\u001b[0m\u001b[0;34m)\u001b[0m \u001b[0;32mif\u001b[0m \u001b[0mos\u001b[0m\u001b[0;34m.\u001b[0m\u001b[0mpath\u001b[0m\u001b[0;34m.\u001b[0m\u001b[0misfile\u001b[0m\u001b[0;34m(\u001b[0m\u001b[0mkwargs\u001b[0m\u001b[0;34m[\u001b[0m\u001b[0;34m'cache'\u001b[0m\u001b[0;34m]\u001b[0m\u001b[0;34m)\u001b[0m\u001b[0;34m\u001b[0m\u001b[0;34m\u001b[0m\u001b[0m\n\u001b[1;32m     15\u001b[0m                 else cache_miss(*arg, **kwargs))\n",
      "\u001b[0;32m~/.lab/deepgd/lib/data.py\u001b[0m in \u001b[0;36mgenerate_data_list\u001b[0;34m(G, sparse, pivot_mode, init_mode, edge_index, edge_attr, pmds_list, device)\u001b[0m\n\u001b[1;32m    341\u001b[0m \u001b[0;34m\u001b[0m\u001b[0m\n\u001b[1;32m    342\u001b[0m     \u001b[0;32mif\u001b[0m \u001b[0mtype\u001b[0m\u001b[0;34m(\u001b[0m\u001b[0mG\u001b[0m\u001b[0;34m)\u001b[0m \u001b[0;32mis\u001b[0m \u001b[0mlist\u001b[0m\u001b[0;34m:\u001b[0m\u001b[0;34m\u001b[0m\u001b[0;34m\u001b[0m\u001b[0m\n\u001b[0;32m--> 343\u001b[0;31m         return [generate_data_list(g,\n\u001b[0m\u001b[1;32m    344\u001b[0m                                    \u001b[0msparse\u001b[0m\u001b[0;34m=\u001b[0m\u001b[0msparse\u001b[0m\u001b[0;34m,\u001b[0m\u001b[0;34m\u001b[0m\u001b[0;34m\u001b[0m\u001b[0m\n\u001b[1;32m    345\u001b[0m                                    \u001b[0mpivot_mode\u001b[0m\u001b[0;34m=\u001b[0m\u001b[0mpivot_mode\u001b[0m\u001b[0;34m,\u001b[0m\u001b[0;34m\u001b[0m\u001b[0;34m\u001b[0m\u001b[0m\n",
      "\u001b[0;32m~/.lab/deepgd/lib/data.py\u001b[0m in \u001b[0;36m<listcomp>\u001b[0;34m(.0)\u001b[0m\n\u001b[1;32m    341\u001b[0m \u001b[0;34m\u001b[0m\u001b[0m\n\u001b[1;32m    342\u001b[0m     \u001b[0;32mif\u001b[0m \u001b[0mtype\u001b[0m\u001b[0;34m(\u001b[0m\u001b[0mG\u001b[0m\u001b[0;34m)\u001b[0m \u001b[0;32mis\u001b[0m \u001b[0mlist\u001b[0m\u001b[0;34m:\u001b[0m\u001b[0;34m\u001b[0m\u001b[0;34m\u001b[0m\u001b[0m\n\u001b[0;32m--> 343\u001b[0;31m         return [generate_data_list(g,\n\u001b[0m\u001b[1;32m    344\u001b[0m                                    \u001b[0msparse\u001b[0m\u001b[0;34m=\u001b[0m\u001b[0msparse\u001b[0m\u001b[0;34m,\u001b[0m\u001b[0;34m\u001b[0m\u001b[0;34m\u001b[0m\u001b[0m\n\u001b[1;32m    345\u001b[0m                                    \u001b[0mpivot_mode\u001b[0m\u001b[0;34m=\u001b[0m\u001b[0mpivot_mode\u001b[0m\u001b[0;34m,\u001b[0m\u001b[0;34m\u001b[0m\u001b[0;34m\u001b[0m\u001b[0m\n",
      "\u001b[0;32m~/.lab/deepgd/lib/data.py\u001b[0m in \u001b[0;36mwrapped\u001b[0;34m(*arg, **kwargs)\u001b[0m\n\u001b[1;32m     11\u001b[0m         \u001b[0;32mreturn\u001b[0m \u001b[0mresult\u001b[0m\u001b[0;34m\u001b[0m\u001b[0;34m\u001b[0m\u001b[0m\n\u001b[1;32m     12\u001b[0m     \u001b[0;32mdef\u001b[0m \u001b[0mwrapped\u001b[0m\u001b[0;34m(\u001b[0m\u001b[0;34m*\u001b[0m\u001b[0marg\u001b[0m\u001b[0;34m,\u001b[0m \u001b[0;34m**\u001b[0m\u001b[0mkwargs\u001b[0m\u001b[0;34m)\u001b[0m\u001b[0;34m:\u001b[0m\u001b[0;34m\u001b[0m\u001b[0;34m\u001b[0m\u001b[0m\n\u001b[0;32m---> 13\u001b[0;31m         return (fn(*arg, **kwargs) if 'cache' not in kwargs \n\u001b[0m\u001b[1;32m     14\u001b[0m                 \u001b[0;32melse\u001b[0m \u001b[0mcache_hit\u001b[0m\u001b[0;34m(\u001b[0m\u001b[0;34m*\u001b[0m\u001b[0marg\u001b[0m\u001b[0;34m,\u001b[0m \u001b[0;34m**\u001b[0m\u001b[0mkwargs\u001b[0m\u001b[0;34m)\u001b[0m \u001b[0;32mif\u001b[0m \u001b[0mos\u001b[0m\u001b[0;34m.\u001b[0m\u001b[0mpath\u001b[0m\u001b[0;34m.\u001b[0m\u001b[0misfile\u001b[0m\u001b[0;34m(\u001b[0m\u001b[0mkwargs\u001b[0m\u001b[0;34m[\u001b[0m\u001b[0;34m'cache'\u001b[0m\u001b[0;34m]\u001b[0m\u001b[0;34m)\u001b[0m\u001b[0;34m\u001b[0m\u001b[0;34m\u001b[0m\u001b[0m\n\u001b[1;32m     15\u001b[0m                 else cache_miss(*arg, **kwargs))\n",
      "\u001b[0;32m~/.lab/deepgd/lib/data.py\u001b[0m in \u001b[0;36mgenerate_data_list\u001b[0;34m(G, sparse, pivot_mode, init_mode, edge_index, edge_attr, pmds_list, device)\u001b[0m\n\u001b[1;32m    397\u001b[0m         \u001b[0mdata\u001b[0m\u001b[0;34m.\u001b[0m\u001b[0mcluster_edge_attr_reg\u001b[0m \u001b[0;34m=\u001b[0m \u001b[0mtorch\u001b[0m\u001b[0;34m.\u001b[0m\u001b[0mtensor\u001b[0m\u001b[0;34m(\u001b[0m\u001b[0mcluster_eattr_reg\u001b[0m\u001b[0;34m,\u001b[0m \u001b[0mdtype\u001b[0m\u001b[0;34m=\u001b[0m\u001b[0mtorch\u001b[0m\u001b[0;34m.\u001b[0m\u001b[0mfloat\u001b[0m\u001b[0;34m,\u001b[0m \u001b[0mdevice\u001b[0m\u001b[0;34m=\u001b[0m\u001b[0mdevice\u001b[0m\u001b[0;34m)\u001b[0m\u001b[0;34m\u001b[0m\u001b[0;34m\u001b[0m\u001b[0m\n\u001b[1;32m    398\u001b[0m \u001b[0;34m\u001b[0m\u001b[0m\n\u001b[0;32m--> 399\u001b[0;31m         \u001b[0mgroup_tree\u001b[0m \u001b[0;34m=\u001b[0m \u001b[0mget_recursive_pivot_groups\u001b[0m\u001b[0;34m(\u001b[0m\u001b[0mG\u001b[0m\u001b[0;34m.\u001b[0m\u001b[0mnodes\u001b[0m\u001b[0;34m,\u001b[0m \u001b[0mapsp\u001b[0m\u001b[0;34m,\u001b[0m \u001b[0mk\u001b[0m\u001b[0;34m)\u001b[0m\u001b[0;34m\u001b[0m\u001b[0;34m\u001b[0m\u001b[0m\n\u001b[0m\u001b[1;32m    400\u001b[0m         \u001b[0mcardinality_map\u001b[0m \u001b[0;34m=\u001b[0m \u001b[0mget_pivot_group_cardinalities\u001b[0m\u001b[0;34m(\u001b[0m\u001b[0mgroup_tree\u001b[0m\u001b[0;34m)\u001b[0m\u001b[0;34m\u001b[0m\u001b[0;34m\u001b[0m\u001b[0m\n\u001b[1;32m    401\u001b[0m \u001b[0;34m\u001b[0m\u001b[0m\n",
      "\u001b[0;32m~/.lab/deepgd/lib/data.py\u001b[0m in \u001b[0;36mget_recursive_pivot_groups\u001b[0;34m(nodes, apsp, k)\u001b[0m\n\u001b[1;32m    116\u001b[0m \u001b[0;34m\u001b[0m\u001b[0m\n\u001b[1;32m    117\u001b[0m     \u001b[0;32mdef\u001b[0m \u001b[0mget_recursive_pivot_groups\u001b[0m\u001b[0;34m(\u001b[0m\u001b[0mnodes\u001b[0m\u001b[0;34m,\u001b[0m \u001b[0mapsp\u001b[0m\u001b[0;34m,\u001b[0m \u001b[0mk\u001b[0m\u001b[0;34m)\u001b[0m\u001b[0;34m:\u001b[0m\u001b[0;34m\u001b[0m\u001b[0;34m\u001b[0m\u001b[0m\n\u001b[0;32m--> 118\u001b[0;31m         \u001b[0mpivots\u001b[0m \u001b[0;34m=\u001b[0m \u001b[0mgenerate_maxmin_pivots_new\u001b[0m\u001b[0;34m(\u001b[0m\u001b[0mnodes\u001b[0m\u001b[0;34m,\u001b[0m \u001b[0mapsp\u001b[0m\u001b[0;34m,\u001b[0m \u001b[0mk\u001b[0m\u001b[0;34m)\u001b[0m\u001b[0;34m\u001b[0m\u001b[0;34m\u001b[0m\u001b[0m\n\u001b[0m\u001b[1;32m    119\u001b[0m         \u001b[0mgroups\u001b[0m \u001b[0;34m=\u001b[0m \u001b[0mget_pivot_groups_new\u001b[0m\u001b[0;34m(\u001b[0m\u001b[0mnodes\u001b[0m\u001b[0;34m,\u001b[0m \u001b[0mapsp\u001b[0m\u001b[0;34m,\u001b[0m \u001b[0mpivots\u001b[0m\u001b[0;34m)\u001b[0m\u001b[0;34m\u001b[0m\u001b[0;34m\u001b[0m\u001b[0m\n\u001b[1;32m    120\u001b[0m         \u001b[0;32mfor\u001b[0m \u001b[0mp\u001b[0m \u001b[0;32min\u001b[0m \u001b[0mpivots\u001b[0m\u001b[0;34m:\u001b[0m\u001b[0;34m\u001b[0m\u001b[0;34m\u001b[0m\u001b[0m\n",
      "\u001b[0;32m~/.lab/deepgd/lib/data.py\u001b[0m in \u001b[0;36mgenerate_maxmin_pivots_new\u001b[0;34m(nodes, apsp, k)\u001b[0m\n\u001b[1;32m     96\u001b[0m         \u001b[0mpartial_apsp\u001b[0m \u001b[0;34m=\u001b[0m \u001b[0mapsp\u001b[0m\u001b[0;34m[\u001b[0m\u001b[0mnodes\u001b[0m\u001b[0;34m,\u001b[0m \u001b[0;34m:\u001b[0m\u001b[0;34m]\u001b[0m\u001b[0;34m[\u001b[0m\u001b[0;34m:\u001b[0m\u001b[0;34m,\u001b[0m \u001b[0mnodes\u001b[0m\u001b[0;34m]\u001b[0m\u001b[0;34m\u001b[0m\u001b[0;34m\u001b[0m\u001b[0m\n\u001b[1;32m     97\u001b[0m         \u001b[0mpivots\u001b[0m \u001b[0;34m=\u001b[0m \u001b[0;34m[\u001b[0m\u001b[0mpartial_apsp\u001b[0m\u001b[0;34m.\u001b[0m\u001b[0mmax\u001b[0m\u001b[0;34m(\u001b[0m\u001b[0maxis\u001b[0m\u001b[0;34m=\u001b[0m\u001b[0;36m1\u001b[0m\u001b[0;34m)\u001b[0m\u001b[0;34m.\u001b[0m\u001b[0margmax\u001b[0m\u001b[0;34m(\u001b[0m\u001b[0;34m)\u001b[0m\u001b[0;34m]\u001b[0m\u001b[0;34m\u001b[0m\u001b[0;34m\u001b[0m\u001b[0m\n\u001b[0;32m---> 98\u001b[0;31m         \u001b[0;32mfor\u001b[0m \u001b[0m_\u001b[0m \u001b[0;32min\u001b[0m \u001b[0mrange\u001b[0m\u001b[0;34m(\u001b[0m\u001b[0mk\u001b[0m \u001b[0;34m-\u001b[0m \u001b[0;36m1\u001b[0m\u001b[0;34m)\u001b[0m\u001b[0;34m:\u001b[0m\u001b[0;34m\u001b[0m\u001b[0;34m\u001b[0m\u001b[0m\n\u001b[0m\u001b[1;32m     99\u001b[0m             \u001b[0mpivots\u001b[0m\u001b[0;34m.\u001b[0m\u001b[0mappend\u001b[0m\u001b[0;34m(\u001b[0m\u001b[0mpartial_apsp\u001b[0m\u001b[0;34m[\u001b[0m\u001b[0;34m:\u001b[0m\u001b[0;34m,\u001b[0m \u001b[0mpivots\u001b[0m\u001b[0;34m]\u001b[0m\u001b[0;34m.\u001b[0m\u001b[0mmin\u001b[0m\u001b[0;34m(\u001b[0m\u001b[0maxis\u001b[0m\u001b[0;34m=\u001b[0m\u001b[0;36m1\u001b[0m\u001b[0;34m)\u001b[0m\u001b[0;34m.\u001b[0m\u001b[0margmax\u001b[0m\u001b[0;34m(\u001b[0m\u001b[0;34m)\u001b[0m\u001b[0;34m)\u001b[0m\u001b[0;34m\u001b[0m\u001b[0;34m\u001b[0m\u001b[0m\n\u001b[1;32m    100\u001b[0m         \u001b[0;32mreturn\u001b[0m \u001b[0mnp\u001b[0m\u001b[0;34m.\u001b[0m\u001b[0marray\u001b[0m\u001b[0;34m(\u001b[0m\u001b[0mnodes\u001b[0m\u001b[0;34m)\u001b[0m\u001b[0;34m[\u001b[0m\u001b[0mpivots\u001b[0m\u001b[0;34m]\u001b[0m\u001b[0;34m\u001b[0m\u001b[0;34m\u001b[0m\u001b[0m\n",
      "\u001b[0;31mTypeError\u001b[0m: 'numpy.float64' object cannot be interpreted as an integer"
     ]
    }
   ],
   "source": [
    "data_list = generate_data_list(G_list, \n",
    "                               sparse='cbrt', \n",
    "                               pivot_mode='maxmin',\n",
    "                               init_mode='random',\n",
    "                               edge_index='full_edge_index',\n",
    "                               edge_attr='full_edge_attr',\n",
    "                               pmds_list=pickle.load(open('pmds_list.pickle', 'rb')),\n",
    "                               device='cpu')"
   ]
  },
  {
   "cell_type": "code",
   "execution_count": 5,
   "metadata": {},
   "outputs": [],
   "source": [
    "batch = Batch.from_data_list(data_list)"
   ]
  },
  {
   "cell_type": "code",
   "execution_count": 9,
   "metadata": {},
   "outputs": [
    {
     "data": {
      "text/plain": [
       "tensor(0.3131)"
      ]
     },
     "execution_count": 9,
     "metadata": {},
     "output_type": "execute_result"
    }
   ],
   "source": [
    "batch.cluster_edge_sparsity.mean()"
   ]
  },
  {
   "cell_type": "code",
   "execution_count": 10,
   "metadata": {},
   "outputs": [
    {
     "data": {
      "text/plain": [
       "tensor(0.4522)"
      ]
     },
     "execution_count": 10,
     "metadata": {},
     "output_type": "execute_result"
    }
   ],
   "source": [
    "batch.grouped_edge_sparsity.mean()"
   ]
  },
  {
   "cell_type": "code",
   "execution_count": 11,
   "metadata": {},
   "outputs": [
    {
     "data": {
      "text/plain": [
       "tensor(0.2566)"
      ]
     },
     "execution_count": 11,
     "metadata": {},
     "output_type": "execute_result"
    }
   ],
   "source": [
    "batch.sparse_edge_sparsity.mean()"
   ]
  },
  {
   "cell_type": "code",
   "execution_count": 8,
   "metadata": {},
   "outputs": [
    {
     "data": {
      "text/plain": [
       "tensor(0.3093)"
      ]
     },
     "execution_count": 8,
     "metadata": {},
     "output_type": "execute_result"
    }
   ],
   "source": [
    "batch.hierarchical_sparse_edge_sparsity.mean()"
   ]
  },
  {
   "cell_type": "code",
   "execution_count": 9,
   "metadata": {},
   "outputs": [
    {
     "data": {
      "text/plain": [
       "tensor(0.3768)"
      ]
     },
     "execution_count": 9,
     "metadata": {},
     "output_type": "execute_result"
    }
   ],
   "source": [
    "batch.recursive_sparse_edge_sparsity.mean()"
   ]
  },
  {
   "cell_type": "code",
   "execution_count": 6,
   "metadata": {},
   "outputs": [
    {
     "data": {
      "text/plain": [
       "Data(cluster_edge_attr=[3226, 2], cluster_edge_attr_reg=[3226, 2], cluster_edge_index=[2, 3226], cluster_edge_sparsity=0.28442955387056956, edge_attr=[11342, 2], edge_index=[2, 11342], full_edge_attr=[11342, 2], full_edge_index=[2, 11342], grouped_edge_attr=[3844, 2], grouped_edge_attr_reg=[3844, 2], grouped_edge_index=[2, 3844], grouped_edge_sparsity=0.33891729853641334, hierarchical_cluster_edge_attr_pivot=[590, 2], hierarchical_cluster_edge_attr_reg=[590, 2], hierarchical_cluster_edge_attr_sympivot=[590, 2], hierarchical_cluster_edge_index=[2, 590], hierarchical_cluster_edge_sparsity=0.052019044260271555, hierarchical_sparse_edge_attr_pivot=[1136, 2], hierarchical_sparse_edge_attr_reg=[1136, 2], hierarchical_sparse_edge_attr_sympivot=[1136, 2], hierarchical_sparse_edge_index=[2, 1136], hierarchical_sparse_edge_sparsity=0.10015870216892964, pos=[107, 2], recursive_cluster_edge_attr_pivot=[814, 2], recursive_cluster_edge_attr_reg=[814, 2], recursive_cluster_edge_attr_sympivot=[814, 2], recursive_cluster_edge_index=[2, 814], recursive_cluster_edge_sparsity=0.07176864750484924, recursive_sparse_edge_attr_pivot=[2050, 2], recursive_sparse_edge_attr_reg=[2050, 2], recursive_sparse_edge_attr_sympivot=[2050, 2], recursive_sparse_edge_index=[2, 2050], recursive_sparse_edge_sparsity=0.18074413683653676, sparse_edge_attr=[1098, 2], sparse_edge_attr_reg=[1098, 2], sparse_edge_index=[2, 1098], sparse_edge_sparsity=0.09680832304708165, x=[107])"
      ]
     },
     "execution_count": 6,
     "metadata": {},
     "output_type": "execute_result"
    }
   ],
   "source": [
    "data_list[8473]"
   ]
  },
  {
   "cell_type": "code",
   "execution_count": 7,
   "metadata": {},
   "outputs": [
    {
     "data": {
      "text/plain": [
       "tensor(0.0233)"
      ]
     },
     "execution_count": 7,
     "metadata": {},
     "output_type": "execute_result"
    }
   ],
   "source": [
    "batch.hierarchical_edge_sparsity.mean()"
   ]
  },
  {
   "cell_type": "code",
   "execution_count": 54,
   "metadata": {},
   "outputs": [],
   "source": [
    "def generate_apsp(G):\n",
    "    apsp_dict = dict(nx.all_pairs_shortest_path_length(G))\n",
    "    return np.array([[apsp_dict[j][k] for k in sorted(apsp_dict[j].keys())] for j in sorted(apsp_dict.keys())])"
   ]
  },
  {
   "cell_type": "code",
   "execution_count": 55,
   "metadata": {},
   "outputs": [],
   "source": [
    "def generate_pivots(nodes, apsp, k):\n",
    "    partial_apsp = apsp[nodes, :][:, nodes]\n",
    "    pivots = [partial_apsp.max(axis=1).argmax()]\n",
    "    for _ in range(k - 1):\n",
    "        pivots.append(partial_apsp[:, pivots].min(axis=1).argmax())\n",
    "    return np.array(nodes)[pivots]"
   ]
  },
  {
   "cell_type": "code",
   "execution_count": 56,
   "metadata": {},
   "outputs": [],
   "source": [
    "def get_pivot_groups(nodes, apsp, pivots):\n",
    "    partial_apsp = apsp[pivots, :][:, nodes]\n",
    "    groups = np.zeros_like(partial_apsp)\n",
    "    groups[partial_apsp.argmin(axis=0), np.arange(groups.shape[1])] = 1\n",
    "    return {p: (n := np.array(nodes)[g.astype(bool)])[n != p] for p, g in zip(pivots, groups)}"
   ]
  },
  {
   "cell_type": "code",
   "execution_count": 57,
   "metadata": {},
   "outputs": [],
   "source": [
    "def get_recursive_pivot_groups(nodes, apsp, k):\n",
    "    pivots = generate_pivots(nodes, apsp, k)\n",
    "    groups = get_pivot_groups(nodes, apsp, pivots)\n",
    "    for p in pivots:\n",
    "        if len(groups[p]) > k:\n",
    "            groups[p] = get_recursive_pivot_groups(groups[p], apsp, k)\n",
    "    return groups"
   ]
  },
  {
   "cell_type": "code",
   "execution_count": 58,
   "metadata": {},
   "outputs": [],
   "source": [
    "def get_pivot_group_cardinalities(groups):\n",
    "    cardin_dict = dict()\n",
    "    def get_cardinalities(groups):\n",
    "        if type(groups) is not dict:\n",
    "            cardin_dict.update(zip(groups, np.ones_like(groups)))\n",
    "            return len(groups) + 1\n",
    "        cardin = list(map(get_cardinalities, groups.values()))\n",
    "        cardin_dict.update(zip(groups, cardin))\n",
    "        return sum(cardin) + 1\n",
    "    get_cardinalities(groups)\n",
    "    return np.array(sorted(cardin_dict.items()))[:, 1]"
   ]
  },
  {
   "cell_type": "code",
   "execution_count": 64,
   "metadata": {},
   "outputs": [],
   "source": [
    "def get_peer_pivot_dense_edge_set(groups):\n",
    "    edges = set()\n",
    "    def add_all_edges(groups):\n",
    "        if type(groups) is dict:\n",
    "            edges.update([(p, q) for p in groups for q in groups if p != q])\n",
    "            for p in groups:\n",
    "                add_all_edges(groups[p])\n",
    "    add_all_edges(groups)\n",
    "    return edges\n",
    "\n",
    "def get_same_level_dense_edge_set(groups):\n",
    "    edges = set()\n",
    "    def add_all_edges(groups):\n",
    "        edges.update([(p, q) for p in groups for q in groups if p != q])\n",
    "        if type(groups) is dict:\n",
    "            for p in groups:\n",
    "                add_all_edges(groups[p])\n",
    "    add_all_edges(groups)\n",
    "    return edges\n",
    "\n",
    "def get_adjacent_level_dense_edge_set(groups):\n",
    "    edges = set()\n",
    "    def add_all_edges(groups):\n",
    "        if type(groups) is dict:\n",
    "            descendents = np.concatenate([add_all_edges(groups[p]) for p in groups])\n",
    "            edges.update([(p, i) for p in groups for i in descendents])\n",
    "            return np.array(list(groups))\n",
    "        else:\n",
    "            return groups\n",
    "    add_all_edges(groups)\n",
    "    return edges\n",
    "\n",
    "def get_cross_level_dense_edge_set(groups):\n",
    "    edges = set()\n",
    "    def add_all_edges(groups):\n",
    "        if type(groups) is dict:\n",
    "            descendents = np.concatenate([add_all_edges(groups[p]) for p in groups])\n",
    "            edges.update([(p, i) for p in groups for i in descendents])\n",
    "            return np.concatenate((list(groups), descendents))\n",
    "        else:\n",
    "            return groups\n",
    "    add_all_edges(groups)\n",
    "    return edges\n",
    "\n",
    "def get_tree_edge_set(groups):\n",
    "    edges = set()\n",
    "    def add_all_edges(groups):\n",
    "        if type(groups) is dict:\n",
    "            edges.update([(p, i) for p in groups for i in groups[p]])\n",
    "            for p in groups:\n",
    "                add_all_edges(groups[p])\n",
    "    add_all_edges(groups)\n",
    "    return edges\n",
    "\n",
    "def get_forward_edge_set(groups):\n",
    "    edges = set()\n",
    "    def add_all_edges(groups):\n",
    "        if type(groups) is dict:\n",
    "            descendents = {p: add_all_edges(groups[p]) for p in groups}\n",
    "            edges.update([(p, i) for p in groups for i in descendents[p]])\n",
    "            return np.concatenate((list(groups), *descendents.values()))\n",
    "        else:\n",
    "            return groups\n",
    "    add_all_edges(groups)\n",
    "    return edges"
   ]
  },
  {
   "cell_type": "code",
   "execution_count": 68,
   "metadata": {},
   "outputs": [],
   "source": [
    "def get_hierarchical_cluster_edge_set(groups):\n",
    "    return get_tree_edge_set(groups).union(get_same_level_dense_edge_set(groups))\n",
    "\n",
    "def get_recursive_cluster_edge_set(groups):\n",
    "    return get_forward_edge_set(groups).union(get_same_level_dense_edge_set(groups))\n",
    "\n",
    "def get_hierarchical_sparse_edge_set(groups):\n",
    "    return get_adjacent_level_dense_edge_set(groups).union(get_peer_pivot_dense_edge_set(groups))\n",
    "\n",
    "def get_recursive_sparse_edge_set(groups):\n",
    "    return get_cross_level_dense_edge_set(groups).union(get_peer_pivot_dense_edge_set(groups))"
   ]
  },
  {
   "cell_type": "code",
   "execution_count": 69,
   "metadata": {},
   "outputs": [],
   "source": [
    "def create_edge_index(*edge_sets, device='cpu'):\n",
    "    all_edges = reduce(lambda x, y: x.union(y), edge_sets, set())\n",
    "    reverse_edges = set(map(lambda x: x[::-1], all_edges))\n",
    "    sorted_symmetric_edges = sorted(list(all_edges.union(reverse_edges)))\n",
    "    return torch.tensor(sorted_symmetric_edges, dtype=torch.long, device=device).t()"
   ]
  },
  {
   "cell_type": "code",
   "execution_count": 70,
   "metadata": {},
   "outputs": [],
   "source": [
    "def generate_regular_edge_attr_new(edge_index, apsp, device='cpu'):\n",
    "    d = apsp[edge_index[0], edge_index[1]]\n",
    "    w = 1 / d ** 2\n",
    "    return torch.tensor(np.stack([d, w], axis=1), dtype=torch.float, device=device)"
   ]
  },
  {
   "cell_type": "code",
   "execution_count": 71,
   "metadata": {},
   "outputs": [],
   "source": [
    "def generate_pivot_edge_attr_new(edge_index, apsp, cardinalities, device='cpu'):\n",
    "    d = apsp[edge_index[0], edge_index[1]]\n",
    "    s = cardinalities[edge_index[0]]\n",
    "    w = s / d ** 2\n",
    "    return torch.tensor(np.stack([d, w], axis=1), dtype=torch.float, device=device)"
   ]
  },
  {
   "cell_type": "code",
   "execution_count": 72,
   "metadata": {},
   "outputs": [],
   "source": [
    "def generate_symmetric_pivot_edge_attr(edge_index, apsp, cardinalities, device='cpu'):\n",
    "    d = apsp[edge_index[0], edge_index[1]]\n",
    "    s = cardinalities[edge_index[0]] * cardinalities[edge_index[1]]\n",
    "    w = s / d ** 2\n",
    "    return torch.tensor(np.stack([d, w], axis=1), dtype=torch.float, device=device)"
   ]
  },
  {
   "cell_type": "code",
   "execution_count": 73,
   "metadata": {},
   "outputs": [],
   "source": [
    "G = G_list[0]"
   ]
  },
  {
   "cell_type": "code",
   "execution_count": 74,
   "metadata": {},
   "outputs": [
    {
     "data": {
      "text/plain": [
       "array([[0, 4, 2, 2, 2, 1, 1, 3, 1, 2, 3, 3, 3, 4, 2, 1],\n",
       "       [4, 0, 4, 4, 4, 5, 5, 5, 5, 2, 3, 3, 1, 2, 4, 3],\n",
       "       [2, 4, 0, 2, 4, 3, 1, 3, 3, 2, 3, 3, 3, 4, 2, 1],\n",
       "       [2, 4, 2, 0, 2, 3, 3, 2, 1, 2, 1, 3, 3, 2, 1, 1],\n",
       "       [2, 4, 4, 2, 0, 3, 3, 4, 1, 2, 3, 1, 3, 2, 3, 3],\n",
       "       [1, 5, 3, 3, 3, 0, 2, 4, 2, 3, 4, 4, 4, 5, 3, 2],\n",
       "       [1, 5, 1, 3, 3, 2, 0, 4, 2, 3, 4, 4, 4, 5, 3, 2],\n",
       "       [3, 5, 3, 2, 4, 4, 4, 0, 3, 3, 3, 4, 4, 4, 1, 2],\n",
       "       [1, 5, 3, 1, 1, 2, 2, 3, 0, 3, 2, 2, 4, 3, 2, 2],\n",
       "       [2, 2, 2, 2, 2, 3, 3, 3, 3, 0, 3, 1, 1, 2, 2, 1],\n",
       "       [3, 3, 3, 1, 3, 4, 4, 3, 2, 3, 0, 2, 2, 1, 2, 2],\n",
       "       [3, 3, 3, 3, 1, 4, 4, 4, 2, 1, 2, 0, 2, 1, 3, 2],\n",
       "       [3, 1, 3, 3, 3, 4, 4, 4, 4, 1, 2, 2, 0, 1, 3, 2],\n",
       "       [4, 2, 4, 2, 2, 5, 5, 4, 3, 2, 1, 1, 1, 0, 3, 3],\n",
       "       [2, 4, 2, 1, 3, 3, 3, 1, 2, 2, 2, 3, 3, 3, 0, 1],\n",
       "       [1, 3, 1, 1, 3, 2, 2, 2, 2, 1, 2, 2, 2, 3, 1, 0]])"
      ]
     },
     "execution_count": 74,
     "metadata": {},
     "output_type": "execute_result"
    }
   ],
   "source": [
    "apsp = generate_apsp(G)\n",
    "apsp"
   ]
  },
  {
   "cell_type": "code",
   "execution_count": 75,
   "metadata": {},
   "outputs": [
    {
     "data": {
      "text/plain": [
       "array([1, 5, 7, 2])"
      ]
     },
     "execution_count": 75,
     "metadata": {},
     "output_type": "execute_result"
    }
   ],
   "source": [
    "pivots = generate_pivots(G.nodes, apsp, 4)\n",
    "pivots"
   ]
  },
  {
   "cell_type": "code",
   "execution_count": 76,
   "metadata": {},
   "outputs": [
    {
     "data": {
      "text/plain": [
       "{1: array([ 9, 10, 11, 12, 13]),\n",
       " 5: array([0, 4, 8]),\n",
       " 7: array([ 3, 14]),\n",
       " 2: array([ 6, 15])}"
      ]
     },
     "execution_count": 76,
     "metadata": {},
     "output_type": "execute_result"
    }
   ],
   "source": [
    "groups = get_pivot_groups(G.nodes, apsp, pivots)\n",
    "groups"
   ]
  },
  {
   "cell_type": "code",
   "execution_count": 77,
   "metadata": {},
   "outputs": [
    {
     "data": {
      "text/plain": [
       "{1: {9: array([], dtype=int64),\n",
       "  10: array([13]),\n",
       "  11: array([], dtype=int64),\n",
       "  12: array([], dtype=int64)},\n",
       " 5: array([0, 4, 8]),\n",
       " 7: array([ 3, 14]),\n",
       " 2: array([ 6, 15])}"
      ]
     },
     "execution_count": 77,
     "metadata": {},
     "output_type": "execute_result"
    }
   ],
   "source": [
    "groups = get_recursive_pivot_groups(G.nodes, apsp, 4)\n",
    "groups"
   ]
  },
  {
   "cell_type": "code",
   "execution_count": 78,
   "metadata": {},
   "outputs": [],
   "source": [
    "cardinalities = get_pivot_group_cardinalities(groups)"
   ]
  },
  {
   "cell_type": "code",
   "execution_count": 87,
   "metadata": {},
   "outputs": [
    {
     "name": "stdout",
     "output_type": "stream",
     "text": [
      "62\n"
     ]
    },
    {
     "data": {
      "text/plain": [
       "{(0, 0),\n",
       " (0, 4),\n",
       " (0, 8),\n",
       " (1, 1),\n",
       " (1, 2),\n",
       " (1, 5),\n",
       " (1, 7),\n",
       " (1, 9),\n",
       " (1, 10),\n",
       " (1, 11),\n",
       " (1, 12),\n",
       " (2, 1),\n",
       " (2, 2),\n",
       " (2, 5),\n",
       " (2, 6),\n",
       " (2, 7),\n",
       " (2, 15),\n",
       " (3, 3),\n",
       " (3, 14),\n",
       " (4, 0),\n",
       " (4, 4),\n",
       " (4, 8),\n",
       " (5, 0),\n",
       " (5, 1),\n",
       " (5, 2),\n",
       " (5, 4),\n",
       " (5, 5),\n",
       " (5, 7),\n",
       " (5, 8),\n",
       " (6, 6),\n",
       " (6, 15),\n",
       " (7, 1),\n",
       " (7, 2),\n",
       " (7, 3),\n",
       " (7, 5),\n",
       " (7, 7),\n",
       " (7, 14),\n",
       " (8, 0),\n",
       " (8, 4),\n",
       " (8, 8),\n",
       " (9, 9),\n",
       " (9, 10),\n",
       " (9, 11),\n",
       " (9, 12),\n",
       " (10, 9),\n",
       " (10, 10),\n",
       " (10, 11),\n",
       " (10, 12),\n",
       " (10, 13),\n",
       " (11, 9),\n",
       " (11, 10),\n",
       " (11, 11),\n",
       " (11, 12),\n",
       " (12, 9),\n",
       " (12, 10),\n",
       " (12, 11),\n",
       " (12, 12),\n",
       " (13, 13),\n",
       " (14, 3),\n",
       " (14, 14),\n",
       " (15, 6),\n",
       " (15, 15)}"
      ]
     },
     "execution_count": 87,
     "metadata": {},
     "output_type": "execute_result"
    }
   ],
   "source": [
    "hier_eset = get_hierarchical_cluster_edge_set(groups)\n",
    "print(len(hier_eset))\n",
    "hier_eset"
   ]
  },
  {
   "cell_type": "code",
   "execution_count": 88,
   "metadata": {},
   "outputs": [
    {
     "name": "stdout",
     "output_type": "stream",
     "text": [
      "63\n"
     ]
    },
    {
     "data": {
      "text/plain": [
       "{(0, 0),\n",
       " (0, 4),\n",
       " (0, 8),\n",
       " (1, 1),\n",
       " (1, 2),\n",
       " (1, 5),\n",
       " (1, 7),\n",
       " (1, 9),\n",
       " (1, 10),\n",
       " (1, 11),\n",
       " (1, 12),\n",
       " (1, 13),\n",
       " (2, 1),\n",
       " (2, 2),\n",
       " (2, 5),\n",
       " (2, 6),\n",
       " (2, 7),\n",
       " (2, 15),\n",
       " (3, 3),\n",
       " (3, 14),\n",
       " (4, 0),\n",
       " (4, 4),\n",
       " (4, 8),\n",
       " (5, 0),\n",
       " (5, 1),\n",
       " (5, 2),\n",
       " (5, 4),\n",
       " (5, 5),\n",
       " (5, 7),\n",
       " (5, 8),\n",
       " (6, 6),\n",
       " (6, 15),\n",
       " (7, 1),\n",
       " (7, 2),\n",
       " (7, 3),\n",
       " (7, 5),\n",
       " (7, 7),\n",
       " (7, 14),\n",
       " (8, 0),\n",
       " (8, 4),\n",
       " (8, 8),\n",
       " (9, 9),\n",
       " (9, 10),\n",
       " (9, 11),\n",
       " (9, 12),\n",
       " (10, 9),\n",
       " (10, 10),\n",
       " (10, 11),\n",
       " (10, 12),\n",
       " (10, 13),\n",
       " (11, 9),\n",
       " (11, 10),\n",
       " (11, 11),\n",
       " (11, 12),\n",
       " (12, 9),\n",
       " (12, 10),\n",
       " (12, 11),\n",
       " (12, 12),\n",
       " (13, 13),\n",
       " (14, 3),\n",
       " (14, 14),\n",
       " (15, 6),\n",
       " (15, 15)}"
      ]
     },
     "execution_count": 88,
     "metadata": {},
     "output_type": "execute_result"
    }
   ],
   "source": [
    "recur_eset = get_recursive_cluster_edge_set(groups)\n",
    "print(len(recur_eset))\n",
    "recur_eset"
   ]
  },
  {
   "cell_type": "code",
   "execution_count": 81,
   "metadata": {},
   "outputs": [
    {
     "name": "stdout",
     "output_type": "stream",
     "text": [
      "80\n"
     ]
    },
    {
     "data": {
      "text/plain": [
       "{(1, 0),\n",
       " (1, 1),\n",
       " (1, 2),\n",
       " (1, 3),\n",
       " (1, 4),\n",
       " (1, 5),\n",
       " (1, 6),\n",
       " (1, 7),\n",
       " (1, 8),\n",
       " (1, 9),\n",
       " (1, 10),\n",
       " (1, 11),\n",
       " (1, 12),\n",
       " (1, 14),\n",
       " (1, 15),\n",
       " (2, 0),\n",
       " (2, 1),\n",
       " (2, 2),\n",
       " (2, 3),\n",
       " (2, 4),\n",
       " (2, 5),\n",
       " (2, 6),\n",
       " (2, 7),\n",
       " (2, 8),\n",
       " (2, 9),\n",
       " (2, 10),\n",
       " (2, 11),\n",
       " (2, 12),\n",
       " (2, 14),\n",
       " (2, 15),\n",
       " (5, 0),\n",
       " (5, 1),\n",
       " (5, 2),\n",
       " (5, 3),\n",
       " (5, 4),\n",
       " (5, 5),\n",
       " (5, 6),\n",
       " (5, 7),\n",
       " (5, 8),\n",
       " (5, 9),\n",
       " (5, 10),\n",
       " (5, 11),\n",
       " (5, 12),\n",
       " (5, 14),\n",
       " (5, 15),\n",
       " (7, 0),\n",
       " (7, 1),\n",
       " (7, 2),\n",
       " (7, 3),\n",
       " (7, 4),\n",
       " (7, 5),\n",
       " (7, 6),\n",
       " (7, 7),\n",
       " (7, 8),\n",
       " (7, 9),\n",
       " (7, 10),\n",
       " (7, 11),\n",
       " (7, 12),\n",
       " (7, 14),\n",
       " (7, 15),\n",
       " (9, 9),\n",
       " (9, 10),\n",
       " (9, 11),\n",
       " (9, 12),\n",
       " (9, 13),\n",
       " (10, 9),\n",
       " (10, 10),\n",
       " (10, 11),\n",
       " (10, 12),\n",
       " (10, 13),\n",
       " (11, 9),\n",
       " (11, 10),\n",
       " (11, 11),\n",
       " (11, 12),\n",
       " (11, 13),\n",
       " (12, 9),\n",
       " (12, 10),\n",
       " (12, 11),\n",
       " (12, 12),\n",
       " (12, 13)}"
      ]
     },
     "execution_count": 81,
     "metadata": {},
     "output_type": "execute_result"
    }
   ],
   "source": [
    "hier_eset = get_hierarchical_sparse_edge_set(groups)\n",
    "print(len(hier_eset))\n",
    "hier_eset"
   ]
  },
  {
   "cell_type": "code",
   "execution_count": 82,
   "metadata": {},
   "outputs": [
    {
     "name": "stdout",
     "output_type": "stream",
     "text": [
      "84\n"
     ]
    },
    {
     "data": {
      "text/plain": [
       "{(1, 0),\n",
       " (1, 1),\n",
       " (1, 2),\n",
       " (1, 3),\n",
       " (1, 4),\n",
       " (1, 5),\n",
       " (1, 6),\n",
       " (1, 7),\n",
       " (1, 8),\n",
       " (1, 9),\n",
       " (1, 10),\n",
       " (1, 11),\n",
       " (1, 12),\n",
       " (1, 13),\n",
       " (1, 14),\n",
       " (1, 15),\n",
       " (2, 0),\n",
       " (2, 1),\n",
       " (2, 2),\n",
       " (2, 3),\n",
       " (2, 4),\n",
       " (2, 5),\n",
       " (2, 6),\n",
       " (2, 7),\n",
       " (2, 8),\n",
       " (2, 9),\n",
       " (2, 10),\n",
       " (2, 11),\n",
       " (2, 12),\n",
       " (2, 13),\n",
       " (2, 14),\n",
       " (2, 15),\n",
       " (5, 0),\n",
       " (5, 1),\n",
       " (5, 2),\n",
       " (5, 3),\n",
       " (5, 4),\n",
       " (5, 5),\n",
       " (5, 6),\n",
       " (5, 7),\n",
       " (5, 8),\n",
       " (5, 9),\n",
       " (5, 10),\n",
       " (5, 11),\n",
       " (5, 12),\n",
       " (5, 13),\n",
       " (5, 14),\n",
       " (5, 15),\n",
       " (7, 0),\n",
       " (7, 1),\n",
       " (7, 2),\n",
       " (7, 3),\n",
       " (7, 4),\n",
       " (7, 5),\n",
       " (7, 6),\n",
       " (7, 7),\n",
       " (7, 8),\n",
       " (7, 9),\n",
       " (7, 10),\n",
       " (7, 11),\n",
       " (7, 12),\n",
       " (7, 13),\n",
       " (7, 14),\n",
       " (7, 15),\n",
       " (9, 9),\n",
       " (9, 10),\n",
       " (9, 11),\n",
       " (9, 12),\n",
       " (9, 13),\n",
       " (10, 9),\n",
       " (10, 10),\n",
       " (10, 11),\n",
       " (10, 12),\n",
       " (10, 13),\n",
       " (11, 9),\n",
       " (11, 10),\n",
       " (11, 11),\n",
       " (11, 12),\n",
       " (11, 13),\n",
       " (12, 9),\n",
       " (12, 10),\n",
       " (12, 11),\n",
       " (12, 12),\n",
       " (12, 13)}"
      ]
     },
     "execution_count": 82,
     "metadata": {},
     "output_type": "execute_result"
    }
   ],
   "source": [
    "recur_eset = get_recursive_sparse_edge_set(groups)\n",
    "print(len(recur_eset))\n",
    "recur_eset"
   ]
  },
  {
   "cell_type": "code",
   "execution_count": 83,
   "metadata": {},
   "outputs": [
    {
     "data": {
      "text/plain": [
       "tensor([[ 0,  0,  0,  0,  0,  0,  0,  1,  1,  1,  1,  1,  1,  1,  1,  1,  1,  1,\n",
       "          1,  1,  1,  1,  2,  2,  2,  2,  2,  2,  2,  2,  2,  2,  2,  2,  2,  2,\n",
       "          2,  3,  3,  3,  3,  3,  3,  3,  3,  4,  4,  4,  4,  4,  4,  5,  5,  5,\n",
       "          5,  5,  5,  5,  5,  5,  5,  5,  5,  5,  5,  5,  6,  6,  6,  6,  6,  7,\n",
       "          7,  7,  7,  7,  7,  7,  7,  7,  7,  7,  7,  7,  7,  7,  8,  8,  8,  8,\n",
       "          8,  8,  8,  9,  9,  9,  9,  9,  9,  9,  9,  9,  9, 10, 10, 10, 10, 10,\n",
       "         10, 10, 10, 10, 10, 11, 11, 11, 11, 11, 11, 11, 11, 11, 11, 12, 12, 12,\n",
       "         12, 12, 12, 12, 12, 12, 13, 13, 13, 13, 14, 14, 14, 14, 14, 14, 15, 15,\n",
       "         15, 15, 15, 15, 15, 15],\n",
       "        [ 1,  2,  5,  6,  7,  8, 15,  0,  1,  2,  3,  4,  5,  6,  7,  8,  9, 10,\n",
       "         11, 12, 14, 15,  0,  1,  2,  3,  4,  5,  6,  7,  8,  9, 10, 11, 12, 14,\n",
       "         15,  1,  2,  5,  7,  8, 10, 14, 15,  1,  2,  5,  7,  8, 11,  0,  1,  2,\n",
       "          3,  4,  5,  6,  7,  8,  9, 10, 11, 12, 14, 15,  0,  1,  2,  5,  7,  0,\n",
       "          1,  2,  3,  4,  5,  6,  7,  8,  9, 10, 11, 12, 14, 15,  0,  1,  2,  3,\n",
       "          4,  5,  7,  1,  2,  5,  7,  9, 10, 11, 12, 13, 15,  1,  2,  3,  5,  7,\n",
       "          9, 10, 11, 12, 13,  1,  2,  4,  5,  7,  9, 10, 11, 12, 13,  1,  2,  5,\n",
       "          7,  9, 10, 11, 12, 13,  9, 10, 11, 12,  1,  2,  3,  5,  7, 15,  0,  1,\n",
       "          2,  3,  5,  7,  9, 14]])"
      ]
     },
     "execution_count": 83,
     "metadata": {},
     "output_type": "execute_result"
    }
   ],
   "source": [
    "edge_index = create_edge_index(G.edges, hier_eset)\n",
    "edge_index"
   ]
  },
  {
   "cell_type": "code",
   "execution_count": 70,
   "metadata": {},
   "outputs": [
    {
     "data": {
      "text/plain": [
       "tensor([[1.0000e+00, 5.0000e+00],\n",
       "        [1.0000e+00, 1.0000e+00],\n",
       "        [1.0000e+00, 1.0000e+00],\n",
       "        [1.0000e+00, 1.0000e+00],\n",
       "        [1.0000e+00, 1.0000e+00],\n",
       "        [2.0000e+00, 1.0000e+00],\n",
       "        [3.0000e+00, 4.4444e-01],\n",
       "        [7.0000e+00, 1.7143e+00],\n",
       "        [1.0000e+00, 4.0000e+00],\n",
       "        [1.0000e+00, 4.0000e+00],\n",
       "        [2.0000e+00, 1.2500e+00],\n",
       "        [1.0000e+00, 1.0000e+00],\n",
       "        [1.0000e+00, 1.0000e+00],\n",
       "        [1.0000e+00, 1.0000e+00],\n",
       "        [1.0000e+00, 1.0000e+00],\n",
       "        [1.0000e+00, 5.0000e+00],\n",
       "        [2.0000e+00, 1.2500e+00],\n",
       "        [1.0000e+00, 2.0000e+01],\n",
       "        [5.0000e+00, 4.8000e+00],\n",
       "        [1.0000e+00, 5.0000e+00],\n",
       "        [2.0000e+00, 1.2500e+00],\n",
       "        [1.0000e+00, 4.0000e+00],\n",
       "        [1.0000e+00, 1.0000e+00],\n",
       "        [2.0000e+00, 1.0000e+00],\n",
       "        [1.0000e+00, 1.0000e+00],\n",
       "        [2.0000e+00, 1.2500e+00],\n",
       "        [3.0000e+00, 5.5556e-01],\n",
       "        [3.0000e+00, 5.5556e-01],\n",
       "        [1.0000e+00, 1.2000e+02],\n",
       "        [1.0000e+00, 5.0000e+00],\n",
       "        [1.0000e+00, 1.2000e+01],\n",
       "        [7.0000e+00, 2.9388e+00],\n",
       "        [3.0000e+00, 6.6667e-01],\n",
       "        [3.0000e+00, 6.6667e-01],\n",
       "        [3.0000e+00, 6.6667e-01],\n",
       "        [5.0000e+00, 9.6000e-01],\n",
       "        [1.0000e+00, 2.0000e+00],\n",
       "        [1.0000e+00, 2.0000e+00],\n",
       "        [2.0000e+00, 1.2500e+00],\n",
       "        [1.0000e+00, 1.0000e+00],\n",
       "        [1.0000e+00, 1.0000e+00],\n",
       "        [1.0000e+00, 3.0000e+00],\n",
       "        [2.0000e+00, 9.0000e+00],\n",
       "        [1.0000e+00, 3.0000e+00],\n",
       "        [1.0000e+00, 1.0000e+00],\n",
       "        [1.0000e+00, 1.0000e+00],\n",
       "        [1.0000e+00, 4.0000e+00],\n",
       "        [1.0000e+00, 1.0000e+00],\n",
       "        [1.0000e+00, 1.0000e+00],\n",
       "        [3.0000e+00, 4.4444e-01],\n",
       "        [1.0000e+00, 5.0000e+00],\n",
       "        [1.0000e+00, 1.0000e+00],\n",
       "        [1.0000e+00, 1.0000e+00],\n",
       "        [1.0000e+00, 1.0000e+00],\n",
       "        [1.0000e+00, 1.0000e+00],\n",
       "        [1.0000e+00, 1.0000e+00],\n",
       "        [4.0000e+00, 3.1250e-01],\n",
       "        [1.0000e+00, 2.0000e+00],\n",
       "        [1.0000e+00, 2.0000e+00],\n",
       "        [4.0000e+00, 8.7500e-01],\n",
       "        [1.0000e+00, 1.0000e+00],\n",
       "        [1.0000e+00, 1.0000e+00],\n",
       "        [2.0000e+00, 1.7500e+00],\n",
       "        [8.0000e+00, 6.1875e+00],\n",
       "        [1.0000e+00, 5.2800e+02],\n",
       "        [1.0000e+01, 2.2000e+00],\n",
       "        [8.0000e+00, 1.1688e+01],\n",
       "        [1.0000e+00, 2.0000e+00],\n",
       "        [1.0000e+00, 1.0000e+00],\n",
       "        [2.0000e+00, 1.5000e+00],\n",
       "        [1.0000e+00, 1.0000e+00],\n",
       "        [1.0000e+00, 1.0000e+00],\n",
       "        [1.0000e+00, 1.0000e+00],\n",
       "        [1.0000e+00, 1.0000e+00],\n",
       "        [2.0000e+00, 1.5000e+00],\n",
       "        [1.0000e+00, 6.0000e+00],\n",
       "        [3.0000e+00, 6.6667e-01],\n",
       "        [1.0000e+00, 1.2600e+02],\n",
       "        [3.0000e+00, 1.3333e+00],\n",
       "        [1.0000e+00, 9.0000e+00],\n",
       "        [1.0000e+00, 1.0000e+00],\n",
       "        [1.0000e+00, 3.0000e+00],\n",
       "        [3.0000e+00, 2.0000e+00],\n",
       "        [1.0000e+00, 2.0000e+00],\n",
       "        [1.0000e+00, 2.0000e+00],\n",
       "        [1.0000e+00, 1.0000e+00],\n",
       "        [3.0000e+00, 5.5556e-01],\n",
       "        [1.0000e+00, 1.0000e+00],\n",
       "        [2.0000e+00, 1.2500e+00],\n",
       "        [1.0000e+00, 1.0000e+00],\n",
       "        [1.0000e+00, 1.0000e+00],\n",
       "        [1.0000e+00, 1.0000e+00],\n",
       "        [1.0000e+00, 1.0000e+00],\n",
       "        [3.0000e+00, 5.5556e-01],\n",
       "        [2.0000e+00, 1.5000e+00],\n",
       "        [1.0000e+00, 4.0000e+00],\n",
       "        [1.0000e+00, 3.0000e+00],\n",
       "        [1.0000e+00, 1.0000e+00],\n",
       "        [1.0000e+00, 1.0000e+00],\n",
       "        [2.0000e+00, 1.2500e+00],\n",
       "        [3.0000e+00, 5.5556e-01],\n",
       "        [1.0000e+00, 5.0000e+00],\n",
       "        [6.0000e+00, 2.5000e+00],\n",
       "        [1.0000e+00, 5.0000e+00],\n",
       "        [2.0000e+00, 1.2500e+00],\n",
       "        [1.0000e+00, 1.0000e+00],\n",
       "        [1.0000e+00, 1.0000e+00],\n",
       "        [2.0000e+00, 7.5000e-01],\n",
       "        [1.0000e+00, 1.0000e+00],\n",
       "        [2.0000e+00, 1.2500e+00],\n",
       "        [2.0000e+00, 1.2500e+00],\n",
       "        [1.0000e+00, 1.0000e+01],\n",
       "        [8.0000e+00, 1.4062e+00],\n",
       "        [1.0000e+00, 5.0000e+00],\n",
       "        [1.0000e+00, 5.0000e+00],\n",
       "        [1.0000e+00, 3.5000e+01],\n",
       "        [1.0000e+00, 1.2000e+01],\n",
       "        [1.0000e+00, 2.0000e+00],\n",
       "        [1.0000e+00, 2.0000e+00],\n",
       "        [1.0000e+00, 2.0000e+00],\n",
       "        [2.0000e+00, 1.2500e+00],\n",
       "        [3.0000e+00, 5.5556e-01],\n",
       "        [1.0000e+00, 5.0000e+00],\n",
       "        [3.0000e+00, 5.5556e-01],\n",
       "        [5.0000e+00, 3.4000e+00],\n",
       "        [1.0000e+00, 3.0000e+00],\n",
       "        [2.0000e+00, 7.5000e-01],\n",
       "        [1.0000e+00, 5.1000e+01],\n",
       "        [1.0000e+00, 1.0000e+00],\n",
       "        [1.0000e+00, 3.0000e+00],\n",
       "        [1.0000e+00, 2.0000e+00],\n",
       "        [1.0000e+00, 1.0000e+00],\n",
       "        [1.0000e+00, 1.0000e+00],\n",
       "        [1.0000e+00, 1.0000e+00],\n",
       "        [1.0000e+00, 2.0000e+00],\n",
       "        [1.0000e+00, 2.0000e+00],\n",
       "        [2.0000e+00, 1.5000e+00],\n",
       "        [7.0000e+00, 2.5714e+00],\n",
       "        [1.0000e+00, 6.0000e+00],\n",
       "        [1.0000e+00, 6.0000e+00],\n",
       "        [3.0000e+00, 1.3333e+00],\n",
       "        [1.0000e+00, 1.0000e+00],\n",
       "        [3.0000e+00, 5.5556e-01],\n",
       "        [1.0000e+00, 1.0000e+00],\n",
       "        [1.0000e+00, 1.0000e+00],\n",
       "        [1.0000e+00, 2.0000e+00],\n",
       "        [1.0000e+00, 2.0000e+00],\n",
       "        [2.0000e+00, 1.2500e+00],\n",
       "        [1.0000e+00, 1.0000e+00],\n",
       "        [1.0000e+00, 1.0000e+00],\n",
       "        [1.0000e+00, 1.0000e+00],\n",
       "        [1.0000e+00, 1.0000e+00],\n",
       "        [1.0000e+00, 1.0000e+00],\n",
       "        [2.0000e+00, 1.2500e+00],\n",
       "        [1.0000e+00, 1.0000e+00],\n",
       "        [1.0000e+00, 1.0000e+00],\n",
       "        [1.0000e+00, 1.0000e+00],\n",
       "        [1.0000e+00, 6.0000e+00],\n",
       "        [1.0000e+00, 1.0000e+00],\n",
       "        [1.0000e+00, 1.0000e+00],\n",
       "        [2.0000e+00, 1.2500e+00],\n",
       "        [1.0000e+00, 1.0000e+00],\n",
       "        [1.0000e+00, 1.0000e+00],\n",
       "        [2.0000e+00, 1.0000e+00],\n",
       "        [1.0000e+00, 1.0000e+00],\n",
       "        [1.0000e+00, 1.0000e+00],\n",
       "        [1.0000e+00, 2.0000e+01],\n",
       "        [1.0000e+00, 4.0000e+00],\n",
       "        [2.0000e+00, 1.0000e+00],\n",
       "        [5.0000e+00, 3.3600e+00],\n",
       "        [1.0000e+00, 4.0000e+00],\n",
       "        [2.0000e+00, 1.0000e+00],\n",
       "        [8.0000e+00, 6.1875e+00],\n",
       "        [1.0000e+00, 9.0000e+00],\n",
       "        [3.0000e+00, 2.0000e+00],\n",
       "        [5.0000e+00, 7.2000e-01],\n",
       "        [2.0000e+00, 6.7500e+00],\n",
       "        [5.0000e+00, 3.6000e-01],\n",
       "        [5.0000e+00, 4.8000e+00],\n",
       "        [1.0000e+00, 1.2000e+02],\n",
       "        [7.0000e+00, 2.9388e+00],\n",
       "        [8.0000e+00, 2.6250e+00],\n",
       "        [1.0000e+00, 1.0000e+00],\n",
       "        [1.0000e+00, 5.0000e+00],\n",
       "        [5.0000e+00, 7.2000e-01],\n",
       "        [1.0000e+00, 2.0000e+00],\n",
       "        [1.0000e+00, 2.0000e+00],\n",
       "        [1.0000e+00, 2.0000e+00],\n",
       "        [1.0000e+00, 1.0000e+00],\n",
       "        [1.0000e+00, 1.0000e+00],\n",
       "        [1.0000e+00, 1.0000e+00],\n",
       "        [3.0000e+00, 5.5556e-01],\n",
       "        [1.0000e+00, 1.0000e+00],\n",
       "        [3.0000e+00, 6.6667e-01],\n",
       "        [1.0000e+00, 1.0000e+00],\n",
       "        [1.0000e+00, 3.0000e+00],\n",
       "        [1.0000e+00, 1.0000e+00],\n",
       "        [1.0000e+00, 1.2000e+01],\n",
       "        [1.0000e+00, 5.0000e+00],\n",
       "        [2.0000e+00, 1.2500e+00],\n",
       "        [2.0000e+00, 1.2500e+00],\n",
       "        [1.0000e+00, 5.0000e+00],\n",
       "        [3.0000e+00, 9.4444e+00],\n",
       "        [3.0000e+00, 5.5556e-01],\n",
       "        [1.0000e+00, 1.0000e+00],\n",
       "        [1.0000e+00, 1.0000e+00],\n",
       "        [1.0000e+00, 1.0000e+00],\n",
       "        [2.0000e+00, 1.0000e+00],\n",
       "        [1.0000e+00, 1.0000e+00],\n",
       "        [1.0000e+00, 1.0000e+00],\n",
       "        [1.0000e+00, 3.0000e+00],\n",
       "        [1.0000e+00, 1.0000e+00],\n",
       "        [1.0000e+00, 1.0000e+00],\n",
       "        [1.0000e+00, 1.0000e+00],\n",
       "        [1.0000e+00, 3.0000e+00],\n",
       "        [5.0000e+00, 9.6000e-01],\n",
       "        [2.0000e+00, 9.0000e+00],\n",
       "        [1.0000e+00, 5.2800e+02],\n",
       "        [1.0000e+00, 1.2000e+01],\n",
       "        [3.0000e+00, 5.3333e+00],\n",
       "        [5.0000e+00, 9.6000e-01],\n",
       "        [1.0000e+00, 2.0000e+00],\n",
       "        [1.0000e+00, 1.0000e+00],\n",
       "        [1.0000e+00, 1.0000e+00],\n",
       "        [1.0000e+00, 1.0000e+00],\n",
       "        [1.0000e+00, 2.0000e+00],\n",
       "        [2.0000e+00, 1.2500e+00],\n",
       "        [1.0000e+00, 1.0000e+00],\n",
       "        [1.0000e+00, 2.0000e+00],\n",
       "        [1.0000e+00, 1.0000e+01],\n",
       "        [1.0000e+00, 2.0000e+00],\n",
       "        [2.0000e+00, 3.5000e+00],\n",
       "        [1.0000e+00, 1.0000e+00],\n",
       "        [1.0000e+00, 1.0000e+00],\n",
       "        [1.0000e+00, 7.0000e+00],\n",
       "        [3.0000e+00, 4.4444e-01],\n",
       "        [1.0000e+00, 1.0000e+00],\n",
       "        [1.0000e+00, 1.0000e+00],\n",
       "        [1.0000e+00, 1.0000e+00],\n",
       "        [3.0000e+00, 6.6667e-01],\n",
       "        [7.0000e+00, 1.7143e+00],\n",
       "        [1.0000e+00, 1.2600e+02],\n",
       "        [7.0000e+00, 2.5714e+00],\n",
       "        [5.0000e+00, 3.3600e+00],\n",
       "        [2.0000e+00, 1.0000e+00],\n",
       "        [1.0000e+00, 4.0000e+00],\n",
       "        [5.0000e+00, 2.8800e+00],\n",
       "        [2.0000e+00, 1.0000e+00],\n",
       "        [1.0000e+00, 4.0000e+00],\n",
       "        [1.0000e+00, 3.0000e+00],\n",
       "        [1.0000e+00, 3.0000e+00],\n",
       "        [2.0000e+00, 7.5000e-01],\n",
       "        [5.0000e+00, 2.0400e+00],\n",
       "        [2.0000e+00, 1.2500e+00],\n",
       "        [1.0000e+00, 2.0000e+00],\n",
       "        [1.0000e+00, 1.0000e+00],\n",
       "        [1.0000e+00, 1.0000e+00],\n",
       "        [1.0000e+00, 1.0000e+00],\n",
       "        [1.0000e+00, 6.0000e+00],\n",
       "        [1.0000e+00, 4.0000e+00],\n",
       "        [2.0000e+00, 1.2500e+00],\n",
       "        [1.0000e+00, 1.0000e+00],\n",
       "        [1.0000e+00, 1.7000e+01],\n",
       "        [3.0000e+00, 1.3333e+00],\n",
       "        [1.0000e+00, 2.0000e+00],\n",
       "        [1.0000e+00, 2.0000e+00],\n",
       "        [1.0000e+00, 1.0000e+00],\n",
       "        [1.0000e+00, 1.0000e+00],\n",
       "        [1.0000e+00, 5.0000e+00],\n",
       "        [1.0000e+00, 1.0000e+00],\n",
       "        [1.0000e+00, 1.0000e+00],\n",
       "        [1.0000e+00, 2.0000e+00],\n",
       "        [1.0000e+00, 6.0000e+00],\n",
       "        [1.0000e+00, 2.0000e+00],\n",
       "        [1.0000e+00, 1.0000e+00],\n",
       "        [1.0000e+00, 1.0000e+00],\n",
       "        [1.0000e+00, 2.0000e+00],\n",
       "        [1.0000e+00, 1.0000e+00],\n",
       "        [1.0000e+00, 1.0000e+00],\n",
       "        [1.0000e+00, 1.0000e+00],\n",
       "        [1.0000e+00, 1.0000e+00],\n",
       "        [1.0000e+00, 2.0000e+00],\n",
       "        [1.0000e+00, 1.0000e+00],\n",
       "        [1.0000e+00, 1.0000e+00],\n",
       "        [1.0000e+00, 1.0000e+00],\n",
       "        [1.0000e+00, 2.0000e+00],\n",
       "        [2.0000e+00, 1.0000e+00],\n",
       "        [1.0000e+00, 1.0000e+00],\n",
       "        [1.0000e+00, 5.0000e+00],\n",
       "        [1.0000e+00, 1.0000e+00],\n",
       "        [1.0000e+00, 3.0000e+00],\n",
       "        [1.0000e+00, 1.0000e+00],\n",
       "        [1.0000e+00, 1.0000e+00],\n",
       "        [1.0000e+00, 1.0000e+00],\n",
       "        [1.0000e+00, 1.0000e+00],\n",
       "        [1.0000e+00, 1.0000e+00],\n",
       "        [2.0000e+00, 1.2500e+00],\n",
       "        [1.0000e+00, 1.0000e+00],\n",
       "        [1.0000e+00, 5.0000e+00],\n",
       "        [1.0000e+00, 1.0000e+00],\n",
       "        [1.0000e+00, 3.0000e+00],\n",
       "        [2.0000e+00, 6.7500e+00],\n",
       "        [1.0000e+00, 3.0000e+00],\n",
       "        [4.0000e+00, 3.1250e-01],\n",
       "        [1.0000e+01, 2.2000e+00],\n",
       "        [3.0000e+00, 5.5556e-01],\n",
       "        [2.0000e+00, 1.2500e+00],\n",
       "        [1.0000e+00, 5.0000e+00],\n",
       "        [3.0000e+00, 5.5556e-01],\n",
       "        [1.0000e+00, 1.0000e+00],\n",
       "        [1.0000e+00, 1.0000e+00],\n",
       "        [2.0000e+00, 7.5000e-01],\n",
       "        [1.0000e+00, 3.0000e+00],\n",
       "        [1.0000e+00, 5.4000e+01],\n",
       "        [1.0000e+00, 2.0000e+00],\n",
       "        [1.0000e+00, 1.0000e+00],\n",
       "        [1.0000e+00, 1.0000e+00],\n",
       "        [1.0000e+00, 1.0000e+00],\n",
       "        [1.0000e+00, 1.0000e+00],\n",
       "        [1.0000e+00, 3.0000e+00],\n",
       "        [1.0000e+00, 1.0000e+00],\n",
       "        [1.0000e+00, 1.0000e+00],\n",
       "        [2.0000e+00, 7.5000e-01],\n",
       "        [1.0000e+00, 1.0000e+00],\n",
       "        [1.0000e+00, 4.0000e+00],\n",
       "        [3.0000e+00, 6.6667e-01],\n",
       "        [1.0000e+00, 1.0000e+00],\n",
       "        [1.0000e+00, 1.0000e+00],\n",
       "        [1.0000e+00, 2.0000e+00],\n",
       "        [6.0000e+00, 2.5000e+00],\n",
       "        [8.0000e+00, 1.4062e+00],\n",
       "        [5.0000e+00, 2.8800e+00],\n",
       "        [1.0000e+00, 5.4000e+01],\n",
       "        [1.0000e+00, 5.0000e+00],\n",
       "        [1.0000e+00, 1.0000e+00],\n",
       "        [1.0000e+00, 4.0000e+00],\n",
       "        [3.0000e+00, 4.4444e-01],\n",
       "        [3.0000e+00, 5.3333e+00],\n",
       "        [2.0000e+00, 1.0000e+00],\n",
       "        [1.0000e+00, 4.0000e+00],\n",
       "        [1.0000e+00, 1.0000e+00],\n",
       "        [2.0000e+00, 7.5000e-01],\n",
       "        [1.0000e+00, 1.0000e+00],\n",
       "        [1.0000e+00, 5.0000e+00],\n",
       "        [1.0000e+00, 1.0000e+00],\n",
       "        [1.0000e+00, 1.0000e+00],\n",
       "        [1.0000e+00, 4.0000e+00],\n",
       "        [1.0000e+00, 1.0000e+00],\n",
       "        [1.0000e+00, 1.0000e+00],\n",
       "        [1.0000e+00, 1.0000e+00],\n",
       "        [1.0000e+00, 4.0000e+00],\n",
       "        [1.0000e+00, 1.0000e+00],\n",
       "        [1.0000e+00, 1.0000e+00],\n",
       "        [1.0000e+00, 5.0000e+00],\n",
       "        [1.0000e+00, 1.0000e+00],\n",
       "        [5.0000e+00, 3.6000e-01],\n",
       "        [1.0000e+00, 1.0000e+00],\n",
       "        [1.0000e+00, 1.0000e+00],\n",
       "        [1.0000e+00, 2.0000e+00],\n",
       "        [3.0000e+00, 1.3333e+00],\n",
       "        [1.0000e+00, 2.0000e+00],\n",
       "        [1.0000e+00, 1.0000e+00],\n",
       "        [2.0000e+00, 1.0000e+00],\n",
       "        [1.0000e+00, 1.0000e+00],\n",
       "        [1.0000e+00, 1.0000e+00],\n",
       "        [1.0000e+00, 1.0000e+00],\n",
       "        [1.0000e+00, 5.0000e+00],\n",
       "        [1.0000e+00, 1.0000e+00],\n",
       "        [1.0000e+00, 5.0000e+00],\n",
       "        [1.0000e+00, 2.0000e+00],\n",
       "        [2.0000e+00, 1.0000e+00],\n",
       "        [1.0000e+00, 1.0000e+00],\n",
       "        [1.0000e+00, 2.0000e+00],\n",
       "        [5.0000e+00, 9.6000e-01],\n",
       "        [1.0000e+00, 1.0000e+00],\n",
       "        [1.0000e+00, 1.0000e+00],\n",
       "        [1.0000e+00, 4.0000e+00],\n",
       "        [1.0000e+00, 1.0000e+00],\n",
       "        [8.0000e+00, 1.1688e+01],\n",
       "        [5.0000e+00, 3.4000e+00],\n",
       "        [1.0000e+00, 5.1000e+01],\n",
       "        [3.0000e+00, 9.4444e+00],\n",
       "        [5.0000e+00, 2.0400e+00],\n",
       "        [1.0000e+00, 1.7000e+01],\n",
       "        [3.0000e+00, 6.6667e-01],\n",
       "        [1.0000e+00, 1.0000e+00],\n",
       "        [4.0000e+00, 8.7500e-01],\n",
       "        [2.0000e+00, 1.7500e+00],\n",
       "        [1.0000e+00, 3.5000e+01],\n",
       "        [8.0000e+00, 2.6250e+00],\n",
       "        [2.0000e+00, 3.5000e+00],\n",
       "        [1.0000e+00, 7.0000e+00],\n",
       "        [2.0000e+00, 1.2500e+00],\n",
       "        [1.0000e+00, 1.0000e+00],\n",
       "        [1.0000e+00, 1.0000e+00],\n",
       "        [1.0000e+00, 1.0000e+00]])"
      ]
     },
     "execution_count": 70,
     "metadata": {},
     "output_type": "execute_result"
    }
   ],
   "source": [
    "generate_symmetric_pivot_edge_attr(edge_index, apsp, cardinalities)"
   ]
  },
  {
   "cell_type": "code",
   "execution_count": 37,
   "metadata": {},
   "outputs": [
    {
     "data": {
      "text/plain": [
       "[(1, 0),\n",
       " (2, 0),\n",
       " (2, 1),\n",
       " (3, 0),\n",
       " (3, 1),\n",
       " (3, 2),\n",
       " (4, 0),\n",
       " (4, 1),\n",
       " (4, 2),\n",
       " (4, 3)]"
      ]
     },
     "execution_count": 37,
     "metadata": {},
     "output_type": "execute_result"
    }
   ],
   "source": [
    "[(i, j) for i in range(5) for j in range(i)]"
   ]
  },
  {
   "cell_type": "code",
   "execution_count": 51,
   "metadata": {},
   "outputs": [
    {
     "data": {
      "text/plain": [
       "array([[1, 3],\n",
       "       [7, 9]])"
      ]
     },
     "execution_count": 51,
     "metadata": {},
     "output_type": "execute_result"
    }
   ],
   "source": [
    "np.array([[1,2,3],[4,5,6],[7,8,9]])[[0,2], :][:, [0,2]]"
   ]
  },
  {
   "cell_type": "code",
   "execution_count": 77,
   "metadata": {},
   "outputs": [
    {
     "data": {
      "text/plain": [
       "array([1.])"
      ]
     },
     "execution_count": 77,
     "metadata": {},
     "output_type": "execute_result"
    }
   ],
   "source": [
    "np.append(a, 1)"
   ]
  },
  {
   "cell_type": "code",
   "execution_count": 21,
   "metadata": {},
   "outputs": [
    {
     "data": {
      "text/plain": [
       "8473"
      ]
     },
     "execution_count": 21,
     "metadata": {},
     "output_type": "execute_result"
    }
   ],
   "source": [
    "np.argmax(list(map(nx.classes.graph.Graph.number_of_nodes, G_list)))"
   ]
  },
  {
   "cell_type": "code",
   "execution_count": 17,
   "metadata": {},
   "outputs": [
    {
     "data": {
      "text/plain": [
       "networkx.classes.graph.Graph"
      ]
     },
     "execution_count": 17,
     "metadata": {},
     "output_type": "execute_result"
    }
   ],
   "source": [
    "type(G)"
   ]
  },
  {
   "cell_type": "code",
   "execution_count": null,
   "metadata": {},
   "outputs": [],
   "source": []
  }
 ],
 "metadata": {
  "kernelspec": {
   "display_name": "Python 3",
   "language": "python",
   "name": "python3"
  },
  "language_info": {
   "codemirror_mode": {
    "name": "ipython",
    "version": 3
   },
   "file_extension": ".py",
   "mimetype": "text/x-python",
   "name": "python",
   "nbconvert_exporter": "python",
   "pygments_lexer": "ipython3",
   "version": "3.8.2"
  },
  "widgets": {
   "application/vnd.jupyter.widget-state+json": {
    "state": {
     "03521709c7b74dd2af0a662564e09164": {
      "model_module": "@jupyter-widgets/base",
      "model_module_version": "1.2.0",
      "model_name": "LayoutModel",
      "state": {}
     },
     "08d8c99714c04bb8a2be3a312f4a3575": {
      "model_module": "@jupyter-widgets/controls",
      "model_module_version": "1.5.0",
      "model_name": "ProgressStyleModel",
      "state": {
       "description_width": ""
      }
     },
     "0b45c2de9366444b95addb91df529f96": {
      "model_module": "@jupyter-widgets/controls",
      "model_module_version": "1.5.0",
      "model_name": "HTMLModel",
      "state": {
       "layout": "IPY_MODEL_39fe441b0f8344c5a970cc3c12079aa9",
       "style": "IPY_MODEL_caa755a9239740a182d9d25be8cca7b7",
       "value": " 0/11531 [00:00&lt;?, ?it/s]"
      }
     },
     "21f5f55437c747f09cacef64a2e48518": {
      "model_module": "@jupyter-widgets/base",
      "model_module_version": "1.2.0",
      "model_name": "LayoutModel",
      "state": {}
     },
     "33570a75ebbc43e0816878592028951e": {
      "model_module": "@jupyter-widgets/base",
      "model_module_version": "1.2.0",
      "model_name": "LayoutModel",
      "state": {}
     },
     "3398e7b076284a0985b960c9f89ad089": {
      "model_module": "@jupyter-widgets/base",
      "model_module_version": "1.2.0",
      "model_name": "LayoutModel",
      "state": {}
     },
     "39fe441b0f8344c5a970cc3c12079aa9": {
      "model_module": "@jupyter-widgets/base",
      "model_module_version": "1.2.0",
      "model_name": "LayoutModel",
      "state": {}
     },
     "4b9a7cfb734a40dcac35c180c7abc2fa": {
      "model_module": "@jupyter-widgets/controls",
      "model_module_version": "1.5.0",
      "model_name": "HTMLModel",
      "state": {
       "layout": "IPY_MODEL_3398e7b076284a0985b960c9f89ad089",
       "style": "IPY_MODEL_ab5384a3e43f4f209669c2d1965c2d47",
       "value": "preprocess G:   0%"
      }
     },
     "57851821207a4292b53c7336171acb00": {
      "model_module": "@jupyter-widgets/base",
      "model_module_version": "1.2.0",
      "model_name": "LayoutModel",
      "state": {}
     },
     "59c20c75397a459a9d92ccffd9988990": {
      "model_module": "@jupyter-widgets/controls",
      "model_module_version": "1.5.0",
      "model_name": "HBoxModel",
      "state": {
       "children": [
        "IPY_MODEL_4b9a7cfb734a40dcac35c180c7abc2fa",
        "IPY_MODEL_fd1498a9b02a4664a2df10a2fc54b4ab",
        "IPY_MODEL_0b45c2de9366444b95addb91df529f96"
       ],
       "layout": "IPY_MODEL_33570a75ebbc43e0816878592028951e"
      }
     },
     "75ddcf6becb3436c853b5e2d8826f971": {
      "model_module": "@jupyter-widgets/controls",
      "model_module_version": "1.5.0",
      "model_name": "DescriptionStyleModel",
      "state": {
       "description_width": ""
      }
     },
     "7e47a612aacb46318224634c1a10ba40": {
      "model_module": "@jupyter-widgets/controls",
      "model_module_version": "1.5.0",
      "model_name": "HTMLModel",
      "state": {
       "layout": "IPY_MODEL_ed0e0f5764d64193b54b22ac6d7f9217",
       "style": "IPY_MODEL_e8678ec20a1a44cfa28a02db167d17e1",
       "value": "preprocess G: 100%"
      }
     },
     "80afa01640e947e4bb00b43b398f1387": {
      "model_module": "@jupyter-widgets/controls",
      "model_module_version": "1.5.0",
      "model_name": "HTMLModel",
      "state": {
       "layout": "IPY_MODEL_ccf5932f74c34d18a7814a0bb1ca8ca2",
       "style": "IPY_MODEL_75ddcf6becb3436c853b5e2d8826f971",
       "value": " 11531/11531 [09:03&lt;00:00, 23.78it/s]"
      }
     },
     "859f6857a8da42a985730825f00cfdef": {
      "model_module": "@jupyter-widgets/controls",
      "model_module_version": "1.5.0",
      "model_name": "HBoxModel",
      "state": {
       "children": [
        "IPY_MODEL_7e47a612aacb46318224634c1a10ba40",
        "IPY_MODEL_e32ff7384e044ecf8cef2d59a150dc49",
        "IPY_MODEL_80afa01640e947e4bb00b43b398f1387"
       ],
       "layout": "IPY_MODEL_21f5f55437c747f09cacef64a2e48518"
      }
     },
     "8c2a06a49311455ab75bb23f2e320056": {
      "model_module": "@jupyter-widgets/controls",
      "model_module_version": "1.5.0",
      "model_name": "ProgressStyleModel",
      "state": {
       "description_width": ""
      }
     },
     "ab5384a3e43f4f209669c2d1965c2d47": {
      "model_module": "@jupyter-widgets/controls",
      "model_module_version": "1.5.0",
      "model_name": "DescriptionStyleModel",
      "state": {
       "description_width": ""
      }
     },
     "caa755a9239740a182d9d25be8cca7b7": {
      "model_module": "@jupyter-widgets/controls",
      "model_module_version": "1.5.0",
      "model_name": "DescriptionStyleModel",
      "state": {
       "description_width": ""
      }
     },
     "ccf5932f74c34d18a7814a0bb1ca8ca2": {
      "model_module": "@jupyter-widgets/base",
      "model_module_version": "1.2.0",
      "model_name": "LayoutModel",
      "state": {}
     },
     "e32ff7384e044ecf8cef2d59a150dc49": {
      "model_module": "@jupyter-widgets/controls",
      "model_module_version": "1.5.0",
      "model_name": "FloatProgressModel",
      "state": {
       "bar_style": "success",
       "layout": "IPY_MODEL_03521709c7b74dd2af0a662564e09164",
       "max": 11531,
       "style": "IPY_MODEL_8c2a06a49311455ab75bb23f2e320056",
       "value": 11531
      }
     },
     "e8678ec20a1a44cfa28a02db167d17e1": {
      "model_module": "@jupyter-widgets/controls",
      "model_module_version": "1.5.0",
      "model_name": "DescriptionStyleModel",
      "state": {
       "description_width": ""
      }
     },
     "ed0e0f5764d64193b54b22ac6d7f9217": {
      "model_module": "@jupyter-widgets/base",
      "model_module_version": "1.2.0",
      "model_name": "LayoutModel",
      "state": {}
     },
     "fd1498a9b02a4664a2df10a2fc54b4ab": {
      "model_module": "@jupyter-widgets/controls",
      "model_module_version": "1.5.0",
      "model_name": "FloatProgressModel",
      "state": {
       "layout": "IPY_MODEL_57851821207a4292b53c7336171acb00",
       "max": 11531,
       "style": "IPY_MODEL_08d8c99714c04bb8a2be3a312f4a3575"
      }
     }
    },
    "version_major": 2,
    "version_minor": 0
   }
  }
 },
 "nbformat": 4,
 "nbformat_minor": 4
}
