{
 "cells": [
  {
   "cell_type": "markdown",
   "metadata": {
    "id": "wZtYFEhHoBGp"
   },
   "source": [
    "# Import libraries"
   ]
  },
  {
   "cell_type": "code",
   "execution_count": 1,
   "metadata": {
    "id": "KJPfzpxLQI5O"
   },
   "outputs": [],
   "source": [
    "%load_ext autoreload\n",
    "%autoreload 2\n",
    "from deepgd import *"
   ]
  },
  {
   "cell_type": "markdown",
   "metadata": {
    "id": "z4eBEyB1oaJe"
   },
   "source": [
    "# Config"
   ]
  },
  {
   "cell_type": "code",
   "execution_count": 2,
   "metadata": {
    "id": "Q_-MLFhpNvxF"
   },
   "outputs": [],
   "source": [
    "cuda_idx = 0\n",
    "canonicalization = CanonicalizationByStress()\n",
    "config = StaticConfig({\n",
    "    \"name\": 'GAN(gan=rgan,data=best(xing,stress),canon=stress,share=2,embed=14)',\n",
    "    \"uid\": None,\n",
    "    \"link\": None,\n",
    "    \"generator\": {\n",
    "        \"params\": {\n",
    "            \"num_blocks\": 9,\n",
    "            \"normalize\": canonicalization\n",
    "        },\n",
    "        \"pretrained\": {\n",
    "            \"name\": None,\n",
    "            \"epoch\": -1,\n",
    "        },\n",
    "        \"optim\": torch.optim.AdamW,\n",
    "        \"lr\" : {\n",
    "            \"initial\": 1e-3,\n",
    "            \"decay\": 0.99,\n",
    "        },\n",
    "    },\n",
    "    \"discriminator\": {\n",
    "        \"params\": {\n",
    "            \"conv\": [2, 16, 16, 16],\n",
    "            \"dense\": [2],\n",
    "            \"shared_depth\": 2,\n",
    "            \"enet_depth\": 14,\n",
    "            \"enet_width\": 64,\n",
    "            \"aggr\": \"add\",\n",
    "            \"normalize\": canonicalization\n",
    "        },\n",
    "        \"pretrained\": {\n",
    "            \"name\": None,\n",
    "            \"epoch\": -1,\n",
    "        },\n",
    "        \"optim\": torch.optim.AdamW,\n",
    "        \"lr\" : {\n",
    "            \"initial\": 1e-3,\n",
    "            \"decay\": 0.99,\n",
    "        },\n",
    "        \"noise\": {\n",
    "            \"std\": 0,\n",
    "            \"decay\": 0.95,\n",
    "        },\n",
    "        \"repeat\": 1,\n",
    "        \"complete\": True,\n",
    "        \"adaptive\": True\n",
    "    },\n",
    "    \"alternate\": \"epoch\",\n",
    "    \"batchsize\": 20,\n",
    "    \"epoch\": {\n",
    "        \"start\": -1,\n",
    "        \"end\": None,\n",
    "    },\n",
    "    \"log_interval\": 1,\n",
    "    \"test\": {\n",
    "        \"name\": \"test\",\n",
    "        \"epoch\": -1,\n",
    "    },\n",
    "    \"gan_flavor\": \"rgan\",\n",
    "    \"gp_weight\": 0,\n",
    "})\n",
    "data_config = StaticConfig({\n",
    "    \"sparse\": False,\n",
    "    \"pivot\": None,\n",
    "    \"init\": \"pmds\",\n",
    "    \"edge\": {\n",
    "        \"index\": \"full_edge_index\",\n",
    "        \"attr\": \"full_edge_attr\",\n",
    "    },\n",
    "})\n",
    "loss_fns = {\n",
    "    Stress(): 1\n",
    "}\n",
    "ctrler_params = {\n",
    "    \"tau\": 0.95,\n",
    "    \"beta\": 1,\n",
    "    \"exploit_rate\": 0.5,\n",
    "    \"warmup\": 2,\n",
    "}\n",
    "paths = StaticConfig({\n",
    "    \"root\": \"artifacts\",\n",
    "    \"checkpoints\": lambda: f\"{paths.root}/checkpoints/{config.name}\",\n",
    "    \"gen_pretrain\": lambda: f\"{paths.root}/checkpoints/{config.generator.pretrained.name}\",\n",
    "    \"dis_pretrain\": lambda: f\"{paths.root}/checkpoints/{config.discriminator.pretrained.name}\",\n",
    "    \"tensorboard\": lambda: f\"{paths.root}/tensorboards/{config.name}\",\n",
    "    \"visualization\": lambda: f\"{paths.root}/visualizations/{config.name}_{config.test.name}\",\n",
    "    \"log\": lambda: f\"{paths.root}/logs/{config.name}.log\",\n",
    "    \"metrics\": lambda suffix: f\"{paths.root}/metrics/{config.name}_{suffix}.pickle\",\n",
    "})"
   ]
  },
  {
   "cell_type": "code",
   "execution_count": 3,
   "metadata": {
    "id": "mdMEAbH10Qaq"
   },
   "outputs": [],
   "source": [
    "if \" \" in config.name:\n",
    "    raise Exception(\"Space is not allowed in model name.\")"
   ]
  },
  {
   "cell_type": "markdown",
   "metadata": {
    "id": "WynW4ZAdBhep"
   },
   "source": [
    "# Prepare"
   ]
  },
  {
   "cell_type": "markdown",
   "metadata": {
    "id": "DR6-vYtr_i_P"
   },
   "source": [
    "## Get log command"
   ]
  },
  {
   "cell_type": "code",
   "execution_count": 4,
   "metadata": {
    "colab": {
     "base_uri": "https://localhost:8080/"
    },
    "id": "9-QpinlslcTO",
    "outputId": "48ae3716-212c-4d46-9efb-b7b4070f73de"
   },
   "outputs": [
    {
     "name": "stdout",
     "output_type": "stream",
     "text": [
      "cd /users/PAS0027/osu10203/deepgd && tail -n1000 -f 'artifacts/logs/GAN(gan=rgan,data=best(xing,stress),canon=stress,share=2,embed=14).log'\n"
     ]
    }
   ],
   "source": [
    "print(f\"cd {os.getcwd()} && tail -n1000 -f '{paths.log()}'\")"
   ]
  },
  {
   "cell_type": "code",
   "execution_count": 5,
   "metadata": {},
   "outputs": [
    {
     "name": "stdout",
     "output_type": "stream",
     "text": [
      "tensorboard dev upload --logdir 'artifacts/tensorboards/GAN(gan=rgan,data=best(xing,stress),canon=stress,share=2,embed=14)'\n"
     ]
    }
   ],
   "source": [
    "print(f\"tensorboard dev upload --logdir '{paths.tensorboard()}'\")"
   ]
  },
  {
   "cell_type": "markdown",
   "metadata": {
    "id": "innqkwvH_ydD"
   },
   "source": [
    "## Set globals"
   ]
  },
  {
   "cell_type": "code",
   "execution_count": 6,
   "metadata": {
    "id": "Qjq7JlSZlkQR"
   },
   "outputs": [],
   "source": [
    "if cuda_idx is not None and torch.cuda.is_available():\n",
    "    device = f'cuda:{cuda_idx}'\n",
    "    pynvml.nvmlInit()\n",
    "    cuda = pynvml.nvmlDeviceGetHandleByIndex(cuda_idx)\n",
    "else:\n",
    "    device = 'cpu'\n",
    "    cuda =  None\n",
    "np.set_printoptions(precision=2)\n",
    "warnings.filterwarnings(\"ignore\", category=RuntimeWarning)"
   ]
  },
  {
   "cell_type": "markdown",
   "metadata": {
    "id": "0da286l_ApEL"
   },
   "source": [
    "## Load data"
   ]
  },
  {
   "cell_type": "code",
   "execution_count": 7,
   "metadata": {
    "colab": {
     "base_uri": "https://localhost:8080/"
    },
    "id": "RFuSHiZJMU4x",
    "outputId": "54065609-aaea-4536-d79c-73bc73b3f576"
   },
   "outputs": [
    {
     "name": "stdout",
     "output_type": "stream",
     "text": [
      "Load from 'cache/G_list.pickle'\n",
      "Load from 'cache/generate_data_list(list,sparse=False,pivot_mode=None,init_mode=pmds,edge_index=full_edge_index,edge_attr=full_edge_attr,pmds_list=ndarray,gviz_list=ndarray,noisy_layout=True,device=cpu).pickle'\n"
     ]
    },
    {
     "name": "stderr",
     "output_type": "stream",
     "text": [
      "/users/PAS0027/osu10203/.conda/envs/deepgd/lib/python3.9/site-packages/torch_geometric/deprecation.py:13: UserWarning: 'data.DataLoader' is deprecated, use 'loader.DataLoader' instead\n",
      "  warnings.warn(out)\n"
     ]
    }
   ],
   "source": [
    "G_list = load_G_list(data_path='data/rome', index_file='data_index.txt', cache='G_list', cache_prefix='cache/')\n",
    "data_list = generate_data_list(G_list, \n",
    "                               sparse=data_config.sparse, \n",
    "                               pivot_mode=data_config.pivot,\n",
    "                               init_mode=data_config.init,\n",
    "                               edge_index=data_config.edge.index,\n",
    "                               edge_attr=data_config.edge.attr,\n",
    "                               pmds_list=np.load('layouts/rome/pmds.npy', allow_pickle=True),\n",
    "                               gviz_list=np.load('layouts/rome/gviz.npy', allow_pickle=True),\n",
    "                               noisy_layout=True,\n",
    "                               device='cpu', \n",
    "                               cache=True,\n",
    "                               cache_prefix='cache/')\n",
    "train_loader = LazyDeviceMappingDataLoader(data_list[:10000], batch_size=config.batchsize, shuffle=True, device=device)\n",
    "val_loader = LazyDeviceMappingDataLoader(data_list[11000:], batch_size=config.batchsize, shuffle=False, device=device)"
   ]
  },
  {
   "cell_type": "code",
   "execution_count": 8,
   "metadata": {
    "id": "djd1pLt2OxZq"
   },
   "outputs": [],
   "source": [
    "def draw_layout(G, method, draw=True):\n",
    "    if method == 'fa2':\n",
    "        layout = get_fa2_layout(G)\n",
    "    else:\n",
    "        try:\n",
    "            fn = getattr(nx.drawing.layout, f'{method}_layout')\n",
    "            layout = fn(G)\n",
    "        except:\n",
    "            layout = nx.drawing.nx_agraph.graphviz_layout(G, prog=method)\n",
    "    if draw:\n",
    "        nx.draw(G, pos=layout)\n",
    "    return layout"
   ]
  },
  {
   "cell_type": "code",
   "execution_count": 9,
   "metadata": {
    "id": "2vBBw77lR7Em"
   },
   "outputs": [],
   "source": [
    "methods = ['neato', 'dot', 'fdp', 'sfdp', 'twopi', 'circo', 'shell', 'spring', 'circular', 'spectral', 'kamada_kawai', 'fa2', 'pmds']"
   ]
  },
  {
   "cell_type": "code",
   "execution_count": 10,
   "metadata": {
    "id": "dx6VVA9XIc2O"
   },
   "outputs": [],
   "source": [
    "from functools import lru_cache\n",
    "\n",
    "@lru_cache(maxsize=None)\n",
    "def load_pos(method):\n",
    "    return np.load(f'layouts/rome/{method}.npy', allow_pickle=True)"
   ]
  },
  {
   "cell_type": "code",
   "execution_count": 11,
   "metadata": {
    "colab": {
     "base_uri": "https://localhost:8080/",
     "height": 1000,
     "referenced_widgets": [
      "05a37aeeb20049dfa2f97287b3990556",
      "a75afae3adfd4810a0b0991a062535ee",
      "a24ae105ed124595992f7e2e5f909247",
      "01b4cabaf8004dd4b9269b4e6889c498",
      "f3c7c84f2b314bd8b97a7358deaf4fa1",
      "35e4a83e692b4a7bafb46fdf192b2586",
      "62847b5e2678459f845159eef6d4feab",
      "143e81f00313436dacfa246a57108944",
      "e05833f11803400b95ff22246cdc8f2b",
      "53aeede91e074378b5d7f626165655ee",
      "79a43768c1794a10a788a49e5883aa2c"
     ]
    },
    "id": "MSmP-jem9I0X",
    "outputId": "c698f0bf-e96e-4de9-aeda-0b046fc0a03f",
    "scrolled": true,
    "tags": []
   },
   "outputs": [],
   "source": [
    "# best_list = []\n",
    "# best_layout_list = []\n",
    "# for idx, (G, data) in enumerate(zip(tqdm(G_list), data_list)):\n",
    "#     xing, stress, layout = {}, {}, {}\n",
    "#     for m in methods:\n",
    "#         batch = Batch.from_data_list([data])\n",
    "#         pos = load_pos(m)\n",
    "#         p = CanonicalizationByStress()(torch.tensor(pos[idx]).float(), batch)\n",
    "#         x = Xing()(p, batch).item()\n",
    "#         s = Stress()(p, batch).item()\n",
    "#         xing[m] = x\n",
    "#         stress[m] = s\n",
    "#         layout[m] = p.numpy()\n",
    "#         # plt.figure()\n",
    "#         # graph_vis(G, pos[idx])\n",
    "#         # plt.title(f'{m} stress={s:.2f} xing={x}')\n",
    "#     best, *_ = sorted(methods, key=lambda m: (xing[m], stress[m]))\n",
    "#     best_list.append(best)\n",
    "#     best_layout_list.append(layout[best])\n",
    "#     print(f'{best}, xing={xing[best]}, stress={stress[best]:.2f}')"
   ]
  },
  {
   "cell_type": "code",
   "execution_count": 12,
   "metadata": {
    "colab": {
     "base_uri": "https://localhost:8080/"
    },
    "id": "Mx2bZNugdTqa",
    "outputId": "cec05a67-18e8-492f-aaa1-057274a8341a"
   },
   "outputs": [],
   "source": [
    "# pickle.dump(best_list, open('layouts/rome/best[xing,stress].pkl', 'wb'))\n",
    "# np.save('layouts/rome/best[xing,stress].npy', best_layout_list)"
   ]
  },
  {
   "cell_type": "code",
   "execution_count": 13,
   "metadata": {
    "colab": {
     "base_uri": "https://localhost:8080/",
     "height": 49,
     "referenced_widgets": [
      "7e0ae84dd0f3458d893c81b029fe1729",
      "18bdc3bf80fb434abde68de5b72a8870",
      "2e3552ded9594635a51832387ae754a0",
      "54f4aa5080c6498080a63be2cdeefee5",
      "3937586d0879451da5e2138ca3bfd0a0",
      "a9df6e84ce8c499eb2b2cf984995d791",
      "7af6b718dd3d4e01b264377a2fa938e2",
      "a774c86e64004bd6951645f1c24abad4",
      "c86575117cd041f2837762f37d1f387b",
      "6e9907cefb1241688fbd248b8281ed9f",
      "9b8e5405d8264944acab57e81f2f5ad6"
     ]
    },
    "id": "A1-w1fspC53p",
    "outputId": "09c2d5c3-1eef-41eb-dcee-581af1294804"
   },
   "outputs": [
    {
     "data": {
      "application/vnd.jupyter.widget-view+json": {
       "model_id": "9ff7f0cc79ac48f5a1aee7bfc9e1ed0a",
       "version_major": 2,
       "version_minor": 0
      },
      "text/plain": [
       "  0%|          | 0/11531 [00:00<?, ?it/s]"
      ]
     },
     "metadata": {},
     "output_type": "display_data"
    }
   ],
   "source": [
    "best_layout_list = np.load('layouts/rome/best[xing,stress].npy', allow_pickle=True)\n",
    "for data, layout in zip(tqdm(data_list), best_layout_list):\n",
    "    data.gt_pos = torch.tensor(layout)"
   ]
  },
  {
   "cell_type": "code",
   "execution_count": 14,
   "metadata": {
    "id": "y6EGh4U7exL_"
   },
   "outputs": [],
   "source": [
    "train_loader = LazyDeviceMappingDataLoader(data_list[:10000], batch_size=config.batchsize, shuffle=True, device=device)\n",
    "val_loader = LazyDeviceMappingDataLoader(data_list[11000:], batch_size=config.batchsize, shuffle=False, device=device)"
   ]
  },
  {
   "cell_type": "code",
   "execution_count": 15,
   "metadata": {
    "colab": {
     "base_uri": "https://localhost:8080/",
     "height": 103,
     "referenced_widgets": [
      "38a33cf69aff48f4aabd4902a7ce48b1",
      "57e277bcb44c4e2fa2a12105d75153d1",
      "20ce017c46bd4a7c9b420270ac579405",
      "13f2df4fe0ce4af88b6e3bd1637065b0",
      "2867faa145ca4860a198d4d0bf830f89",
      "02838cf669174ed9afa41a1a8e680765",
      "7e9e3c031667455f8baca163d3a213e5",
      "4000135e7dfa46529fa6244fccc5cb57",
      "e523e9faac5b4ec38643c05ac5ba99f7",
      "e8e3ee9741e4480dae5003ccc19a7891",
      "9a569045221b43acb3ba2fbf116b2c74"
     ]
    },
    "id": "YEfRRUK0NiNm",
    "outputId": "93f53d05-7667-4cda-a38e-c3a953124f79"
   },
   "outputs": [],
   "source": [
    "# for m in methods:\n",
    "#     layouts = []\n",
    "#     for G in tqdm(G_list):\n",
    "#         layout = draw_layout(G, method=m, draw=False)\n",
    "#         layouts.append(np.array(list(layout.values())))\n",
    "#     np.save(f'layouts/rome/{m}.npy', layouts)"
   ]
  },
  {
   "cell_type": "code",
   "execution_count": 16,
   "metadata": {
    "colab": {
     "base_uri": "https://localhost:8080/",
     "height": 564
    },
    "id": "upK7AHYqPmC5",
    "outputId": "29a88e61-f55f-409c-9194-12c6d5762528"
   },
   "outputs": [],
   "source": [
    "# from collections import Counter\n",
    "\n",
    "# letter_counts = Counter(best_list)\n",
    "# df = pd.DataFrame.from_dict(letter_counts, orient='index')\n",
    "# df.plot(kind='bar', figsize=[12, 8])"
   ]
  },
  {
   "cell_type": "markdown",
   "metadata": {
    "id": "f-ODE2k8BFV6"
   },
   "source": [
    "## Create folders"
   ]
  },
  {
   "cell_type": "code",
   "execution_count": 17,
   "metadata": {
    "id": "3ykUMINYBRog"
   },
   "outputs": [],
   "source": [
    "mkdirs(paths.checkpoints(), paths.tensorboard(), paths.visualization(), f\"{paths.root}/logs\", f\"{paths.root}/metrics\")"
   ]
  },
  {
   "cell_type": "markdown",
   "metadata": {
    "id": "BFq9k5nzBIh5"
   },
   "source": [
    "## Load checkpoints"
   ]
  },
  {
   "cell_type": "code",
   "execution_count": 18,
   "metadata": {
    "id": "W5NbsKkobIfA"
   },
   "outputs": [],
   "source": [
    "class EdgeFeatureDiscriminator(nn.Module):\n",
    "    def __init__(self, \n",
    "                 conv, \n",
    "                 dense,\n",
    "                 shared_depth,\n",
    "                 enet_depth,\n",
    "                 enet_width,\n",
    "                 aggr='add', \n",
    "                 root_weight=True,\n",
    "                 normalize=None):\n",
    "        super().__init__()\n",
    "        self.enet = nn.Sequential(*[\n",
    "            DenseLayer(in_dim=in_d,\n",
    "                       out_dim=out_d,\n",
    "                       skip=nonlin,\n",
    "                       bn=nonlin,\n",
    "                       act=nonlin,\n",
    "                       dp=None)\n",
    "            for in_d, out_d, nonlin \n",
    "            in zip([self._get_feature_dim()] + [enet_width] * (shared_depth-1),\n",
    "                   [enet_width] * shared_depth,\n",
    "                   [True] * (shared_depth-1) + [False])     \n",
    "        ])\n",
    "        self.blocks = nn.ModuleList([\n",
    "            GNNLayer(nfeat_dims=(in_d, out_d),\n",
    "                     efeat_dim=enet_width,\n",
    "                     edge_net=EdgeNet(nfeat_dims=(in_d, out_d), \n",
    "                                      efeat_dim=enet_width, \n",
    "                                      depth=enet_depth, \n",
    "                                      width=enet_width),\n",
    "                     aggr=aggr,\n",
    "                     dense=False,\n",
    "                     skip=nonlin,\n",
    "                     bn=nonlin,\n",
    "                     act=nonlin,\n",
    "                     root_weight=root_weight) \n",
    "            for in_d, out_d, nonlin \n",
    "            in zip(conv[:-1], conv[1:], [True] * (len(conv)-2) + [False])     \n",
    "        ])\n",
    "        self.pool = (gnn.global_mean_pool if aggr == 'mean' \n",
    "                     else gnn.global_add_pool if aggr == 'add' \n",
    "                     else None)\n",
    "        self.dense = nn.Identity() if not dense else nn.Sequential(*[\n",
    "            DenseLayer(in_dim=in_d,\n",
    "                       out_dim=out_d,\n",
    "                       skip=nonlin,\n",
    "                       bn=nonlin,\n",
    "                       act=nonlin,\n",
    "                       dp=None)\n",
    "            for in_d, out_d, nonlin \n",
    "            in zip(conv[-1:] + dense[:-1], dense, [True] * (len(dense)-1) + [False])     \n",
    "        ])\n",
    "        self.normalize = normalize or IdentityTransformation()\n",
    "    \n",
    "    def forward(self, batch):\n",
    "        x = torch.ones_like(batch.pos)\n",
    "        e = self.enet(self._get_features(self._get_edge_info(batch, layout='pos')))\n",
    "        for block in self.blocks:\n",
    "            x = block(x, e, batch)\n",
    "        x = self.pool(x, batch.batch)\n",
    "        x = self.dense(x)\n",
    "        return x\n",
    "    \n",
    "    def _get_edge_info(self, batch, layout='gt_pos'):\n",
    "        pos = self.normalize(batch[layout].float(), batch)\n",
    "        src, dst = get_edges(pos, batch)\n",
    "        v, u = l2_normalize(dst - src, return_norm=True)\n",
    "        d = batch.edge_attr[:, :1]\n",
    "        return {\n",
    "            \"src\": src,\n",
    "            \"dst\": dst,\n",
    "            \"v\": v,\n",
    "            \"u\": u,\n",
    "            \"d\": d,\n",
    "        }\n",
    "\n",
    "    def _get_features(self, edges):\n",
    "        return torch.cat([edges['src'], edges['dst'], edges['d']], dim=1)\n",
    "        \n",
    "    def _get_feature_dim(self):\n",
    "        return self._get_features({\n",
    "            \"src\": torch.zeros(1, 2),\n",
    "            \"dst\": torch.zeros(1, 2),\n",
    "            \"v\": torch.zeros(1, 2),\n",
    "            \"u\": torch.zeros(1, 1),\n",
    "            \"d\": torch.zeros(1, 1),\n",
    "        }).shape[-1]"
   ]
  },
  {
   "cell_type": "code",
   "execution_count": 19,
   "metadata": {
    "id": "96ZActxlL0fJ"
   },
   "outputs": [],
   "source": [
    "class StressDiscriminator(nn.Module):\n",
    "    def __init__(self, normalize=CanonicalizationByStress(), **kwargs):\n",
    "        super().__init__()\n",
    "        self.dummy = nn.Parameter(torch.zeros(1))\n",
    "        self.normalize = normalize\n",
    "        self.stress = Stress(reduce=None)\n",
    "\n",
    "    def forward(self, batch):\n",
    "        return -self.stress(self.normalize(batch.pos, batch), batch)"
   ]
  },
  {
   "cell_type": "code",
   "execution_count": 20,
   "metadata": {
    "id": "IJ6xCYBUuhcw"
   },
   "outputs": [],
   "source": [
    "def get_ckpt_epoch(folder, epoch):\n",
    "    if not os.path.isdir(folder):\n",
    "        os.mkdir(folder)\n",
    "    if epoch >= 0:\n",
    "        return epoch\n",
    "    ckpt_files = os.listdir(folder)\n",
    "    last_epoch = 0\n",
    "    if ckpt_files:\n",
    "        last_epoch = sorted(list(map(lambda x: int(re.search('(?<=epoch_)(\\d+)(?=\\.)', x).group(1)), ckpt_files)))[-1]\n",
    "    return last_epoch + epoch + 1\n",
    "\n",
    "def start_epoch():\n",
    "    return get_ckpt_epoch(paths.checkpoints(), config.epoch.start)"
   ]
  },
  {
   "cell_type": "code",
   "execution_count": 21,
   "metadata": {
    "colab": {
     "base_uri": "https://localhost:8080/"
    },
    "id": "JacDYXka9U01",
    "outputId": "ef4e31ab-2144-497c-8e4f-4d3740ce2d52"
   },
   "outputs": [
    {
     "name": "stdout",
     "output_type": "stream",
     "text": [
      "Loading from artifacts/checkpoints/GAN(gan=rgan,data=best(xing,stress),canon=stress,share=2,embed=14)/gen_epoch_358.pt...\n",
      "Loading from artifacts/checkpoints/GAN(gan=rgan,data=best(xing,stress),canon=stress,share=2,embed=14)/gen_optim_epoch_358.pt...\n"
     ]
    }
   ],
   "source": [
    "generator = Generator(**config.generator.params[...]).to(device)\n",
    "generator_optimizer = config.generator.optim(generator.parameters(), lr=config.generator.lr.initial * config.generator.lr.decay ** start_epoch())\n",
    "generator_scheduler = torch.optim.lr_scheduler.ExponentialLR(generator_optimizer, gamma=config.generator.lr.decay)\n",
    "if start_epoch() != 0:\n",
    "    gen_ckpt_epoch = start_epoch()\n",
    "elif config.generator.pretrained.name is not None and config.generator.pretrained.epoch != 0:\n",
    "    gen_pretrained_epoch = get_ckpt_epoch(paths.gen_pretrain(), config.generator.pretrained.epoch)\n",
    "    gen_ckpt_epoch = gen_pretrained_epoch \n",
    "else:\n",
    "    gen_ckpt_epoch = None\n",
    "if gen_ckpt_epoch is not None:\n",
    "    # Load generator\n",
    "    gen_ckpt_file = f\"{paths.checkpoints()}/gen_epoch_{gen_ckpt_epoch}.pt\"\n",
    "    print(f\"Loading from {gen_ckpt_file}...\")\n",
    "    generator.load_state_dict(torch.load(gen_ckpt_file, map_location=torch.device(device)))\n",
    "    # Load generator optimizer\n",
    "    gen_optim_ckpt_file = f\"{paths.checkpoints()}/gen_optim_epoch_{gen_ckpt_epoch}.pt\"\n",
    "    print(f\"Loading from {gen_optim_ckpt_file}...\")\n",
    "    generator_optimizer.load_state_dict(torch.load(gen_optim_ckpt_file, map_location=torch.device(device)))"
   ]
  },
  {
   "cell_type": "code",
   "execution_count": 22,
   "metadata": {
    "colab": {
     "base_uri": "https://localhost:8080/"
    },
    "id": "oWQhD7-88VXe",
    "outputId": "3ba01600-b546-4e45-a6bd-c7a65af1ae9e"
   },
   "outputs": [
    {
     "name": "stdout",
     "output_type": "stream",
     "text": [
      "Loading from artifacts/checkpoints/GAN(gan=rgan,data=best(xing,stress),canon=stress,share=2,embed=14)/dis_epoch_358.pt...\n",
      "Loading from artifacts/checkpoints/GAN(gan=rgan,data=best(xing,stress),canon=stress,share=2,embed=14)/dis_optim_epoch_358.pt...\n"
     ]
    }
   ],
   "source": [
    "discriminator = EdgeFeatureDiscriminator(**config.discriminator.params[...]).to(device)\n",
    "discriminator_optimizer = config.discriminator.optim(discriminator.parameters(), lr=config.discriminator.lr.initial * config.discriminator.lr.decay ** start_epoch())\n",
    "discriminator_scheduler = torch.optim.lr_scheduler.ExponentialLR(discriminator_optimizer, gamma=config.discriminator.lr.decay)\n",
    "if start_epoch() != 0:\n",
    "    dis_ckpt_epoch = start_epoch()\n",
    "elif config.discriminator.pretrained.name is not None and config.discriminator.pretrained.epoch != 0:\n",
    "    dis_pretrained_epoch = get_ckpt_epoch(paths.dis_pretrain(), config.discriminator.pretrained.epoch)\n",
    "    dis_ckpt_epoch = dis_pretrained_epoch # f\"{paths.dis_pretrain()}/dis_epoch_{dis_pretrained_epoch}.pt\"\n",
    "else:\n",
    "    dis_ckpt_epoch = None\n",
    "if dis_ckpt_epoch is not None:\n",
    "    # Load discriminator\n",
    "    dis_ckpt_file = f\"{paths.checkpoints()}/dis_epoch_{dis_ckpt_epoch}.pt\"\n",
    "    print(f\"Loading from {dis_ckpt_file}...\")\n",
    "    discriminator.load_state_dict(torch.load(dis_ckpt_file, map_location=torch.device(device)))\n",
    "    # Load discriminator optimizer\n",
    "    dis_optim_ckpt_file = f\"{paths.checkpoints()}/dis_optim_epoch_{dis_ckpt_epoch}.pt\"\n",
    "    print(f\"Loading from {dis_optim_ckpt_file}...\")\n",
    "    discriminator_optimizer.load_state_dict(torch.load(dis_optim_ckpt_file, map_location=torch.device(device)))"
   ]
  },
  {
   "cell_type": "markdown",
   "metadata": {
    "id": "N39dDHraedM6"
   },
   "source": [
    "# Train"
   ]
  },
  {
   "cell_type": "code",
   "execution_count": 23,
   "metadata": {
    "id": "BdIJSDSJedM-"
   },
   "outputs": [],
   "source": [
    "stress_criterion = StressDiscriminator().to(device)\n",
    "val_criterion = Stress(reduce=None)\n",
    "xing_criterion = Xing(reduce=None)\n",
    "dis_convert = DiscriminatorDataConverter(complete_graph=config.discriminator.complete, normalize=config.discriminator.params.normalize)\n",
    "tensorboard = SummaryWriter(log_dir=paths.tensorboard())\n",
    "epoch = start_epoch() + 1"
   ]
  },
  {
   "cell_type": "code",
   "execution_count": 24,
   "metadata": {
    "id": "OHRWj1h0edM-"
   },
   "outputs": [],
   "source": [
    "def gradient_penalty(interpolated, discriminator, weight=10):\n",
    "    interpolated.pos.requires_grad_()\n",
    "    prob_interpolated = discriminator(interpolated)\n",
    "    gradients = autograd.grad(outputs=prob_interpolated, \n",
    "                              inputs=interpolated.pos,\n",
    "                              grad_outputs=torch.ones_like(prob_interpolated),\n",
    "                              create_graph=True, \n",
    "                              retain_graph=True, \n",
    "                              allow_unused=True)[0]\n",
    "    gradients_norm = torch.sqrt(gnn.global_add_pool(gradients.square().sum(dim=1), batch.batch) + 1e-8)\n",
    "    return weight * ((gradients_norm - 1) ** 2).mean()"
   ]
  },
  {
   "cell_type": "code",
   "execution_count": 25,
   "metadata": {
    "id": "o5wJJN9AedM_"
   },
   "outputs": [],
   "source": [
    "def get_gp_loss(batch, fake_pos, weight):\n",
    "    if weight > 0:\n",
    "        interp = dis_convert(batch, fake_pos, random.random())\n",
    "        return gradient_penalty(interp, discriminator, weight).mean()\n",
    "    return 0"
   ]
  },
  {
   "cell_type": "code",
   "execution_count": 26,
   "metadata": {
    "id": "QwuA6sRoedM_"
   },
   "outputs": [],
   "source": [
    "def get_sgan_loss(batch, fake_pos, mode='discriminator'):\n",
    "    real = dis_convert(batch)\n",
    "    fake = dis_convert(batch, fake_pos)\n",
    "    pred = discriminator(merge_batch(real, fake)).view(2, -1).T\n",
    "    if mode == 'discriminator':\n",
    "        label = torch.zeros(pred.shape[0]).long()\n",
    "    elif mode == 'generator':\n",
    "        label = torch.ones(pred.shape[0]).long()\n",
    "    else:\n",
    "        raise Exception\n",
    "    return nn.CrossEntropyLoss()(pred, label)"
   ]
  },
  {
   "cell_type": "code",
   "execution_count": 27,
   "metadata": {
    "id": "GuAP1YchedNA"
   },
   "outputs": [],
   "source": [
    "def get_rgan_loss(batch, fake_pos, mode='discriminator'):\n",
    "    real = dis_convert(batch)\n",
    "    fake = dis_convert(batch, fake_pos)\n",
    "    pred = discriminator(merge_batch(real, fake)).view(2, -1).T\n",
    "    real_pred, fake_pred = pred[:,0], pred[:,1]\n",
    "    if mode == 'discriminator':\n",
    "        losses = - F.logsigmoid(real_pred - fake_pred)\n",
    "    elif mode == 'generator':\n",
    "        losses = - F.logsigmoid(fake_pred - real_pred)\n",
    "    else:\n",
    "        raise Exception\n",
    "    return losses.mean()"
   ]
  },
  {
   "cell_type": "code",
   "execution_count": 28,
   "metadata": {
    "id": "KFllQ7BredNA"
   },
   "outputs": [],
   "source": [
    "def get_wgan_loss(batch, fake_pos, mode='discriminator'):\n",
    "    real = dis_convert(batch)\n",
    "    fake = dis_convert(batch, fake_pos)\n",
    "    pred = discriminator(merge_batch(real, fake)).view(2, -1).T\n",
    "    real_pred, fake_pred = pred[:,0], pred[:,1]\n",
    "    if mode == 'discriminator':\n",
    "        losses = fake_pred - real_pred \n",
    "    elif mode == 'generator':\n",
    "        losses = real_pred - fake_pred\n",
    "    else:\n",
    "        raise Exception\n",
    "    return losses.mean()"
   ]
  },
  {
   "cell_type": "code",
   "execution_count": 29,
   "metadata": {
    "id": "r5Kg_tYEedNA"
   },
   "outputs": [],
   "source": [
    "def get_ragan_loss(batch, fake_pos, mode='discriminator'):\n",
    "    real = dis_convert(batch)\n",
    "    fake = dis_convert(batch, fake_pos)\n",
    "    pred = discriminator(merge_batch(real, fake)).view(2, -1).T\n",
    "    real_pred, fake_pred = pred[:,0], pred[:,1]\n",
    "    if mode == 'discriminator':\n",
    "        losses = - F.logsigmoid(real_pred - fake_pred.mean()) - F.logsigmoid(real_pred.mean() - fake_pred)\n",
    "    elif mode == 'generator':\n",
    "        losses = - F.logsigmoid(fake_pred - real_pred.mean()) - F.logsigmoid(fake_pred.mean() - real_pred)\n",
    "    else:\n",
    "        raise Exception\n",
    "    return losses.mean()"
   ]
  },
  {
   "cell_type": "code",
   "execution_count": 30,
   "metadata": {},
   "outputs": [],
   "source": [
    "def get_dgdv2_loss(batch, fake_pos, mode='discriminator'):\n",
    "    fake = dis_convert(batch, fake_pos)\n",
    "    pred = discriminator(fake)\n",
    "    if mode == 'discriminator':\n",
    "        gt = get_gt(batch, fake_pos)\n",
    "        loss = criterion(pred, gt)\n",
    "    elif mode == 'generator':\n",
    "        losses = pred.sum(dim=0)\n",
    "#         losses = torch.tensor(config.importance).to(device) * losses #/ losses.detach()\n",
    "        loss = losses.sum()\n",
    "    else:\n",
    "        raise Exception\n",
    "    return -loss"
   ]
  },
  {
   "cell_type": "code",
   "execution_count": 31,
   "metadata": {
    "id": "3IE_84f-edNB"
   },
   "outputs": [],
   "source": [
    "def get_gan_loss(batch, fake_pos, mode='discriminator'):\n",
    "    return {\"sgan\": get_sgan_loss,\n",
    "            \"wgan\": get_wgan_loss,\n",
    "            \"rgan\": get_rgan_loss,\n",
    "            \"ragan\": get_ragan_loss,\n",
    "            \"dgdv2\": get_dgdv2_loss}[config.gan_flavor](batch, fake_pos, mode)"
   ]
  },
  {
   "cell_type": "code",
   "execution_count": 32,
   "metadata": {
    "colab": {
     "background_save": true,
     "base_uri": "https://localhost:8080/",
     "height": 80
    },
    "id": "2NjekXgkedNB",
    "outputId": "da85b2ec-c0de-459c-c0dd-7ba3519419fa",
    "scrolled": true,
    "tags": []
   },
   "outputs": [
    {
     "data": {
      "application/vnd.jupyter.widget-view+json": {
       "model_id": "13b23570e88840d7a491e027f73d8b75",
       "version_major": 2,
       "version_minor": 0
      },
      "text/plain": [
       "Tab(children=(VBox(children=(Wrapper(), Hud())), HBox(children=(Output(),), layout=Layout(height='500px', over…"
      ]
     },
     "metadata": {},
     "output_type": "display_data"
    },
    {
     "ename": "KeyboardInterrupt",
     "evalue": "",
     "output_type": "error",
     "traceback": [
      "\u001b[0;31m---------------------------------------------------------------------------\u001b[0m",
      "\u001b[0;31mKeyboardInterrupt\u001b[0m                         Traceback (most recent call last)",
      "\u001b[0;32m/tmp/slurmtmp.5826416/ipykernel_189480/801679965.py\u001b[0m in \u001b[0;36m<module>\u001b[0;34m\u001b[0m\n\u001b[1;32m    127\u001b[0m     \u001b[0;32mfor\u001b[0m \u001b[0m_\u001b[0m \u001b[0;32min\u001b[0m \u001b[0mrange\u001b[0m\u001b[0;34m(\u001b[0m\u001b[0mconfig\u001b[0m\u001b[0;34m.\u001b[0m\u001b[0mdiscriminator\u001b[0m\u001b[0;34m.\u001b[0m\u001b[0mrepeat\u001b[0m\u001b[0;34m)\u001b[0m\u001b[0;34m:\u001b[0m\u001b[0;34m\u001b[0m\u001b[0;34m\u001b[0m\u001b[0m\n\u001b[1;32m    128\u001b[0m         \u001b[0;32mfor\u001b[0m \u001b[0mbatch\u001b[0m \u001b[0;32min\u001b[0m \u001b[0mtrain_loader\u001b[0m\u001b[0;34m:\u001b[0m\u001b[0;34m\u001b[0m\u001b[0;34m\u001b[0m\u001b[0m\n\u001b[0;32m--> 129\u001b[0;31m             \u001b[0mtrain_dis\u001b[0m\u001b[0;34m(\u001b[0m\u001b[0mbatch\u001b[0m\u001b[0;34m,\u001b[0m \u001b[0mepoch\u001b[0m\u001b[0;34m)\u001b[0m\u001b[0;34m\u001b[0m\u001b[0;34m\u001b[0m\u001b[0m\n\u001b[0m\u001b[1;32m    130\u001b[0m             \u001b[0;32mif\u001b[0m \u001b[0mconfig\u001b[0m\u001b[0;34m.\u001b[0m\u001b[0malternate\u001b[0m \u001b[0;34m==\u001b[0m \u001b[0;34m'iteration'\u001b[0m\u001b[0;34m:\u001b[0m\u001b[0;34m\u001b[0m\u001b[0;34m\u001b[0m\u001b[0m\n\u001b[1;32m    131\u001b[0m                 \u001b[0mtrain_gen\u001b[0m\u001b[0;34m(\u001b[0m\u001b[0mbatch\u001b[0m\u001b[0;34m,\u001b[0m \u001b[0mepoch\u001b[0m\u001b[0;34m)\u001b[0m\u001b[0;34m\u001b[0m\u001b[0;34m\u001b[0m\u001b[0m\n",
      "\u001b[0;32m/tmp/slurmtmp.5826416/ipykernel_189480/801679965.py\u001b[0m in \u001b[0;36mtrain_dis\u001b[0;34m(batch, epoch)\u001b[0m\n\u001b[1;32m      2\u001b[0m     \u001b[0mgenerator\u001b[0m\u001b[0;34m.\u001b[0m\u001b[0mrequires_grad_\u001b[0m\u001b[0;34m(\u001b[0m\u001b[0;32mFalse\u001b[0m\u001b[0;34m)\u001b[0m\u001b[0;34m\u001b[0m\u001b[0;34m\u001b[0m\u001b[0m\n\u001b[1;32m      3\u001b[0m     \u001b[0mdiscriminator\u001b[0m\u001b[0;34m.\u001b[0m\u001b[0mzero_grad\u001b[0m\u001b[0;34m(\u001b[0m\u001b[0;34m)\u001b[0m\u001b[0;34m\u001b[0m\u001b[0;34m\u001b[0m\u001b[0m\n\u001b[0;32m----> 4\u001b[0;31m     \u001b[0mgenerator_output\u001b[0m \u001b[0;34m=\u001b[0m \u001b[0mgenerator\u001b[0m\u001b[0;34m(\u001b[0m\u001b[0mbatch\u001b[0m\u001b[0;34m)\u001b[0m\u001b[0;34m\u001b[0m\u001b[0;34m\u001b[0m\u001b[0m\n\u001b[0m\u001b[1;32m      5\u001b[0m     \u001b[0;32mif\u001b[0m \u001b[0mconfig\u001b[0m\u001b[0;34m.\u001b[0m\u001b[0mdiscriminator\u001b[0m\u001b[0;34m.\u001b[0m\u001b[0mnoise\u001b[0m\u001b[0;34m.\u001b[0m\u001b[0mstd\u001b[0m \u001b[0;34m>\u001b[0m \u001b[0;36m0\u001b[0m\u001b[0;34m:\u001b[0m\u001b[0;34m\u001b[0m\u001b[0;34m\u001b[0m\u001b[0m\n\u001b[1;32m      6\u001b[0m         \u001b[0mgenerator_output\u001b[0m \u001b[0;34m=\u001b[0m \u001b[0mgenerator_output\u001b[0m \u001b[0;34m+\u001b[0m \u001b[0mtorch\u001b[0m\u001b[0;34m.\u001b[0m\u001b[0mrandn_like\u001b[0m\u001b[0;34m(\u001b[0m\u001b[0mgenerator_output\u001b[0m\u001b[0;34m)\u001b[0m \u001b[0;34m*\u001b[0m \u001b[0mconfig\u001b[0m\u001b[0;34m.\u001b[0m\u001b[0mdiscriminator\u001b[0m\u001b[0;34m.\u001b[0m\u001b[0mnoise\u001b[0m\u001b[0;34m.\u001b[0m\u001b[0mstd\u001b[0m \u001b[0;34m*\u001b[0m \u001b[0mconfig\u001b[0m\u001b[0;34m.\u001b[0m\u001b[0mdiscriminator\u001b[0m\u001b[0;34m.\u001b[0m\u001b[0mnoise\u001b[0m\u001b[0;34m.\u001b[0m\u001b[0mdecay\u001b[0m \u001b[0;34m**\u001b[0m \u001b[0mepoch\u001b[0m\u001b[0;34m\u001b[0m\u001b[0;34m\u001b[0m\u001b[0m\n",
      "\u001b[0;32m~/.conda/envs/deepgd/lib/python3.9/site-packages/torch/nn/modules/module.py\u001b[0m in \u001b[0;36m_call_impl\u001b[0;34m(self, *input, **kwargs)\u001b[0m\n\u001b[1;32m   1049\u001b[0m         if not (self._backward_hooks or self._forward_hooks or self._forward_pre_hooks or _global_backward_hooks\n\u001b[1;32m   1050\u001b[0m                 or _global_forward_hooks or _global_forward_pre_hooks):\n\u001b[0;32m-> 1051\u001b[0;31m             \u001b[0;32mreturn\u001b[0m \u001b[0mforward_call\u001b[0m\u001b[0;34m(\u001b[0m\u001b[0;34m*\u001b[0m\u001b[0minput\u001b[0m\u001b[0;34m,\u001b[0m \u001b[0;34m**\u001b[0m\u001b[0mkwargs\u001b[0m\u001b[0;34m)\u001b[0m\u001b[0;34m\u001b[0m\u001b[0;34m\u001b[0m\u001b[0m\n\u001b[0m\u001b[1;32m   1052\u001b[0m         \u001b[0;31m# Do not call functions when jit is used\u001b[0m\u001b[0;34m\u001b[0m\u001b[0;34m\u001b[0m\u001b[0m\n\u001b[1;32m   1053\u001b[0m         \u001b[0mfull_backward_hooks\u001b[0m\u001b[0;34m,\u001b[0m \u001b[0mnon_full_backward_hooks\u001b[0m \u001b[0;34m=\u001b[0m \u001b[0;34m[\u001b[0m\u001b[0;34m]\u001b[0m\u001b[0;34m,\u001b[0m \u001b[0;34m[\u001b[0m\u001b[0;34m]\u001b[0m\u001b[0;34m\u001b[0m\u001b[0;34m\u001b[0m\u001b[0m\n",
      "\u001b[0;32m~/deepgd/deepgd/modules.py\u001b[0m in \u001b[0;36mforward\u001b[0;34m(self, data, weights, output_hidden, numpy)\u001b[0m\n\u001b[1;32m    625\u001b[0m                            \u001b[0mself\u001b[0m\u001b[0;34m.\u001b[0m\u001b[0mhid_blocks\u001b[0m\u001b[0;34m,\u001b[0m\u001b[0;34m\u001b[0m\u001b[0;34m\u001b[0m\u001b[0m\n\u001b[1;32m    626\u001b[0m                            self.out_blocks):\n\u001b[0;32m--> 627\u001b[0;31m             \u001b[0mv\u001b[0m \u001b[0;34m=\u001b[0m \u001b[0mblock\u001b[0m\u001b[0;34m(\u001b[0m\u001b[0mv\u001b[0m\u001b[0;34m,\u001b[0m \u001b[0mdata\u001b[0m\u001b[0;34m,\u001b[0m \u001b[0mweights\u001b[0m\u001b[0;34m)\u001b[0m\u001b[0;34m\u001b[0m\u001b[0;34m\u001b[0m\u001b[0m\n\u001b[0m\u001b[1;32m    628\u001b[0m             \u001b[0;32mif\u001b[0m \u001b[0moutput_hidden\u001b[0m\u001b[0;34m:\u001b[0m\u001b[0;34m\u001b[0m\u001b[0;34m\u001b[0m\u001b[0m\n\u001b[1;32m    629\u001b[0m                 \u001b[0mhidden\u001b[0m\u001b[0;34m.\u001b[0m\u001b[0mappend\u001b[0m\u001b[0;34m(\u001b[0m\u001b[0mv\u001b[0m\u001b[0;34m.\u001b[0m\u001b[0mdetach\u001b[0m\u001b[0;34m(\u001b[0m\u001b[0;34m)\u001b[0m\u001b[0;34m.\u001b[0m\u001b[0mcpu\u001b[0m\u001b[0;34m(\u001b[0m\u001b[0;34m)\u001b[0m\u001b[0;34m.\u001b[0m\u001b[0mnumpy\u001b[0m\u001b[0;34m(\u001b[0m\u001b[0;34m)\u001b[0m \u001b[0;32mif\u001b[0m \u001b[0mnumpy\u001b[0m \u001b[0;32melse\u001b[0m \u001b[0mv\u001b[0m\u001b[0;34m)\u001b[0m\u001b[0;34m\u001b[0m\u001b[0;34m\u001b[0m\u001b[0m\n",
      "\u001b[0;32m~/.conda/envs/deepgd/lib/python3.9/site-packages/torch/nn/modules/module.py\u001b[0m in \u001b[0;36m_call_impl\u001b[0;34m(self, *input, **kwargs)\u001b[0m\n\u001b[1;32m   1049\u001b[0m         if not (self._backward_hooks or self._forward_hooks or self._forward_pre_hooks or _global_backward_hooks\n\u001b[1;32m   1050\u001b[0m                 or _global_forward_hooks or _global_forward_pre_hooks):\n\u001b[0;32m-> 1051\u001b[0;31m             \u001b[0;32mreturn\u001b[0m \u001b[0mforward_call\u001b[0m\u001b[0;34m(\u001b[0m\u001b[0;34m*\u001b[0m\u001b[0minput\u001b[0m\u001b[0;34m,\u001b[0m \u001b[0;34m**\u001b[0m\u001b[0mkwargs\u001b[0m\u001b[0;34m)\u001b[0m\u001b[0;34m\u001b[0m\u001b[0;34m\u001b[0m\u001b[0m\n\u001b[0m\u001b[1;32m   1052\u001b[0m         \u001b[0;31m# Do not call functions when jit is used\u001b[0m\u001b[0;34m\u001b[0m\u001b[0;34m\u001b[0m\u001b[0m\n\u001b[1;32m   1053\u001b[0m         \u001b[0mfull_backward_hooks\u001b[0m\u001b[0;34m,\u001b[0m \u001b[0mnon_full_backward_hooks\u001b[0m \u001b[0;34m=\u001b[0m \u001b[0;34m[\u001b[0m\u001b[0;34m]\u001b[0m\u001b[0;34m,\u001b[0m \u001b[0;34m[\u001b[0m\u001b[0;34m]\u001b[0m\u001b[0;34m\u001b[0m\u001b[0;34m\u001b[0m\u001b[0m\n",
      "\u001b[0;32m~/deepgd/deepgd/modules.py\u001b[0m in \u001b[0;36mforward\u001b[0;34m(self, v, data, weights)\u001b[0m\n\u001b[1;32m    423\u001b[0m                          \u001b[0mdirection\u001b[0m\u001b[0;34m=\u001b[0m\u001b[0mself\u001b[0m\u001b[0;34m.\u001b[0m\u001b[0mdirection\u001b[0m \u001b[0;32mand\u001b[0m \u001b[0mget_extra\u001b[0m\u001b[0;34m,\u001b[0m\u001b[0;34m\u001b[0m\u001b[0;34m\u001b[0m\u001b[0m\n\u001b[1;32m    424\u001b[0m                          weights=weights if get_extra and self.n_weights > 0 else None)\n\u001b[0;32m--> 425\u001b[0;31m             \u001b[0mv\u001b[0m \u001b[0;34m=\u001b[0m \u001b[0mself\u001b[0m\u001b[0;34m.\u001b[0m\u001b[0mgnn\u001b[0m\u001b[0;34m[\u001b[0m\u001b[0mlayer\u001b[0m\u001b[0;34m]\u001b[0m\u001b[0;34m(\u001b[0m\u001b[0mv\u001b[0m\u001b[0;34m,\u001b[0m \u001b[0me\u001b[0m\u001b[0;34m,\u001b[0m \u001b[0mdata\u001b[0m\u001b[0;34m)\u001b[0m\u001b[0;34m\u001b[0m\u001b[0;34m\u001b[0m\u001b[0m\n\u001b[0m\u001b[1;32m    426\u001b[0m         \u001b[0;32mreturn\u001b[0m \u001b[0mv\u001b[0m \u001b[0;34m+\u001b[0m \u001b[0mvres\u001b[0m \u001b[0;32mif\u001b[0m \u001b[0mself\u001b[0m\u001b[0;34m.\u001b[0m\u001b[0mresidual\u001b[0m \u001b[0;32melse\u001b[0m \u001b[0mv\u001b[0m\u001b[0;34m\u001b[0m\u001b[0;34m\u001b[0m\u001b[0m\n\u001b[1;32m    427\u001b[0m \u001b[0;34m\u001b[0m\u001b[0m\n",
      "\u001b[0;32m~/.conda/envs/deepgd/lib/python3.9/site-packages/torch/nn/modules/module.py\u001b[0m in \u001b[0;36m_call_impl\u001b[0;34m(self, *input, **kwargs)\u001b[0m\n\u001b[1;32m   1049\u001b[0m         if not (self._backward_hooks or self._forward_hooks or self._forward_pre_hooks or _global_backward_hooks\n\u001b[1;32m   1050\u001b[0m                 or _global_forward_hooks or _global_forward_pre_hooks):\n\u001b[0;32m-> 1051\u001b[0;31m             \u001b[0;32mreturn\u001b[0m \u001b[0mforward_call\u001b[0m\u001b[0;34m(\u001b[0m\u001b[0;34m*\u001b[0m\u001b[0minput\u001b[0m\u001b[0;34m,\u001b[0m \u001b[0;34m**\u001b[0m\u001b[0mkwargs\u001b[0m\u001b[0;34m)\u001b[0m\u001b[0;34m\u001b[0m\u001b[0;34m\u001b[0m\u001b[0m\n\u001b[0m\u001b[1;32m   1052\u001b[0m         \u001b[0;31m# Do not call functions when jit is used\u001b[0m\u001b[0;34m\u001b[0m\u001b[0;34m\u001b[0m\u001b[0m\n\u001b[1;32m   1053\u001b[0m         \u001b[0mfull_backward_hooks\u001b[0m\u001b[0;34m,\u001b[0m \u001b[0mnon_full_backward_hooks\u001b[0m \u001b[0;34m=\u001b[0m \u001b[0;34m[\u001b[0m\u001b[0;34m]\u001b[0m\u001b[0;34m,\u001b[0m \u001b[0;34m[\u001b[0m\u001b[0;34m]\u001b[0m\u001b[0;34m\u001b[0m\u001b[0;34m\u001b[0m\u001b[0m\n",
      "\u001b[0;32m~/deepgd/deepgd/modules.py\u001b[0m in \u001b[0;36mforward\u001b[0;34m(self, v, e, data)\u001b[0m\n\u001b[1;32m    228\u001b[0m     \u001b[0;32mdef\u001b[0m \u001b[0mforward\u001b[0m\u001b[0;34m(\u001b[0m\u001b[0mself\u001b[0m\u001b[0;34m,\u001b[0m \u001b[0mv\u001b[0m\u001b[0;34m,\u001b[0m \u001b[0me\u001b[0m\u001b[0;34m,\u001b[0m \u001b[0mdata\u001b[0m\u001b[0;34m)\u001b[0m\u001b[0;34m:\u001b[0m\u001b[0;34m\u001b[0m\u001b[0;34m\u001b[0m\u001b[0m\n\u001b[1;32m    229\u001b[0m         \u001b[0mv_\u001b[0m \u001b[0;34m=\u001b[0m \u001b[0mv\u001b[0m\u001b[0;34m\u001b[0m\u001b[0;34m\u001b[0m\u001b[0m\n\u001b[0;32m--> 230\u001b[0;31m         \u001b[0mv\u001b[0m \u001b[0;34m=\u001b[0m \u001b[0mself\u001b[0m\u001b[0;34m.\u001b[0m\u001b[0mconv\u001b[0m\u001b[0;34m(\u001b[0m\u001b[0mv\u001b[0m\u001b[0;34m,\u001b[0m \u001b[0mdata\u001b[0m\u001b[0;34m.\u001b[0m\u001b[0medge_index\u001b[0m\u001b[0;34m,\u001b[0m \u001b[0me\u001b[0m\u001b[0;34m)\u001b[0m\u001b[0;34m\u001b[0m\u001b[0;34m\u001b[0m\u001b[0m\n\u001b[0m\u001b[1;32m    231\u001b[0m         \u001b[0mv\u001b[0m \u001b[0;34m=\u001b[0m \u001b[0mself\u001b[0m\u001b[0;34m.\u001b[0m\u001b[0mdense\u001b[0m\u001b[0;34m(\u001b[0m\u001b[0mv\u001b[0m\u001b[0;34m)\u001b[0m\u001b[0;34m\u001b[0m\u001b[0;34m\u001b[0m\u001b[0m\n\u001b[1;32m    232\u001b[0m         \u001b[0mv\u001b[0m \u001b[0;34m=\u001b[0m \u001b[0mself\u001b[0m\u001b[0;34m.\u001b[0m\u001b[0mbn\u001b[0m\u001b[0;34m(\u001b[0m\u001b[0mv\u001b[0m\u001b[0;34m)\u001b[0m\u001b[0;34m\u001b[0m\u001b[0;34m\u001b[0m\u001b[0m\n",
      "\u001b[0;32m~/.conda/envs/deepgd/lib/python3.9/site-packages/torch/nn/modules/module.py\u001b[0m in \u001b[0;36m_call_impl\u001b[0;34m(self, *input, **kwargs)\u001b[0m\n\u001b[1;32m   1049\u001b[0m         if not (self._backward_hooks or self._forward_hooks or self._forward_pre_hooks or _global_backward_hooks\n\u001b[1;32m   1050\u001b[0m                 or _global_forward_hooks or _global_forward_pre_hooks):\n\u001b[0;32m-> 1051\u001b[0;31m             \u001b[0;32mreturn\u001b[0m \u001b[0mforward_call\u001b[0m\u001b[0;34m(\u001b[0m\u001b[0;34m*\u001b[0m\u001b[0minput\u001b[0m\u001b[0;34m,\u001b[0m \u001b[0;34m**\u001b[0m\u001b[0mkwargs\u001b[0m\u001b[0;34m)\u001b[0m\u001b[0;34m\u001b[0m\u001b[0;34m\u001b[0m\u001b[0m\n\u001b[0m\u001b[1;32m   1052\u001b[0m         \u001b[0;31m# Do not call functions when jit is used\u001b[0m\u001b[0;34m\u001b[0m\u001b[0;34m\u001b[0m\u001b[0m\n\u001b[1;32m   1053\u001b[0m         \u001b[0mfull_backward_hooks\u001b[0m\u001b[0;34m,\u001b[0m \u001b[0mnon_full_backward_hooks\u001b[0m \u001b[0;34m=\u001b[0m \u001b[0;34m[\u001b[0m\u001b[0;34m]\u001b[0m\u001b[0;34m,\u001b[0m \u001b[0;34m[\u001b[0m\u001b[0;34m]\u001b[0m\u001b[0;34m\u001b[0m\u001b[0;34m\u001b[0m\u001b[0m\n",
      "\u001b[0;32m~/.conda/envs/deepgd/lib/python3.9/site-packages/torch_geometric/nn/conv/nn_conv.py\u001b[0m in \u001b[0;36mforward\u001b[0;34m(self, x, edge_index, edge_attr, size)\u001b[0m\n\u001b[1;32m     88\u001b[0m \u001b[0;34m\u001b[0m\u001b[0m\n\u001b[1;32m     89\u001b[0m         \u001b[0;31m# propagate_type: (x: OptPairTensor, edge_attr: OptTensor)\u001b[0m\u001b[0;34m\u001b[0m\u001b[0;34m\u001b[0m\u001b[0m\n\u001b[0;32m---> 90\u001b[0;31m         \u001b[0mout\u001b[0m \u001b[0;34m=\u001b[0m \u001b[0mself\u001b[0m\u001b[0;34m.\u001b[0m\u001b[0mpropagate\u001b[0m\u001b[0;34m(\u001b[0m\u001b[0medge_index\u001b[0m\u001b[0;34m,\u001b[0m \u001b[0mx\u001b[0m\u001b[0;34m=\u001b[0m\u001b[0mx\u001b[0m\u001b[0;34m,\u001b[0m \u001b[0medge_attr\u001b[0m\u001b[0;34m=\u001b[0m\u001b[0medge_attr\u001b[0m\u001b[0;34m,\u001b[0m \u001b[0msize\u001b[0m\u001b[0;34m=\u001b[0m\u001b[0msize\u001b[0m\u001b[0;34m)\u001b[0m\u001b[0;34m\u001b[0m\u001b[0;34m\u001b[0m\u001b[0m\n\u001b[0m\u001b[1;32m     91\u001b[0m \u001b[0;34m\u001b[0m\u001b[0m\n\u001b[1;32m     92\u001b[0m         \u001b[0mx_r\u001b[0m \u001b[0;34m=\u001b[0m \u001b[0mx\u001b[0m\u001b[0;34m[\u001b[0m\u001b[0;36m1\u001b[0m\u001b[0;34m]\u001b[0m\u001b[0;34m\u001b[0m\u001b[0;34m\u001b[0m\u001b[0m\n",
      "\u001b[0;32m~/.conda/envs/deepgd/lib/python3.9/site-packages/torch_geometric/nn/conv/message_passing.py\u001b[0m in \u001b[0;36mpropagate\u001b[0;34m(self, edge_index, size, **kwargs)\u001b[0m\n\u001b[1;32m    292\u001b[0m                 \u001b[0;32mif\u001b[0m \u001b[0mres\u001b[0m \u001b[0;32mis\u001b[0m \u001b[0;32mnot\u001b[0m \u001b[0;32mNone\u001b[0m\u001b[0;34m:\u001b[0m\u001b[0;34m\u001b[0m\u001b[0;34m\u001b[0m\u001b[0m\n\u001b[1;32m    293\u001b[0m                     \u001b[0maggr_kwargs\u001b[0m \u001b[0;34m=\u001b[0m \u001b[0mres\u001b[0m\u001b[0;34m[\u001b[0m\u001b[0;36m0\u001b[0m\u001b[0;34m]\u001b[0m \u001b[0;32mif\u001b[0m \u001b[0misinstance\u001b[0m\u001b[0;34m(\u001b[0m\u001b[0mres\u001b[0m\u001b[0;34m,\u001b[0m \u001b[0mtuple\u001b[0m\u001b[0;34m)\u001b[0m \u001b[0;32melse\u001b[0m \u001b[0mres\u001b[0m\u001b[0;34m\u001b[0m\u001b[0;34m\u001b[0m\u001b[0m\n\u001b[0;32m--> 294\u001b[0;31m             \u001b[0mout\u001b[0m \u001b[0;34m=\u001b[0m \u001b[0mself\u001b[0m\u001b[0;34m.\u001b[0m\u001b[0maggregate\u001b[0m\u001b[0;34m(\u001b[0m\u001b[0mout\u001b[0m\u001b[0;34m,\u001b[0m \u001b[0;34m**\u001b[0m\u001b[0maggr_kwargs\u001b[0m\u001b[0;34m)\u001b[0m\u001b[0;34m\u001b[0m\u001b[0;34m\u001b[0m\u001b[0m\n\u001b[0m\u001b[1;32m    295\u001b[0m             \u001b[0;32mfor\u001b[0m \u001b[0mhook\u001b[0m \u001b[0;32min\u001b[0m \u001b[0mself\u001b[0m\u001b[0;34m.\u001b[0m\u001b[0m_aggregate_forward_hooks\u001b[0m\u001b[0;34m.\u001b[0m\u001b[0mvalues\u001b[0m\u001b[0;34m(\u001b[0m\u001b[0;34m)\u001b[0m\u001b[0;34m:\u001b[0m\u001b[0;34m\u001b[0m\u001b[0;34m\u001b[0m\u001b[0m\n\u001b[1;32m    296\u001b[0m                 \u001b[0mres\u001b[0m \u001b[0;34m=\u001b[0m \u001b[0mhook\u001b[0m\u001b[0;34m(\u001b[0m\u001b[0mself\u001b[0m\u001b[0;34m,\u001b[0m \u001b[0;34m(\u001b[0m\u001b[0maggr_kwargs\u001b[0m\u001b[0;34m,\u001b[0m \u001b[0;34m)\u001b[0m\u001b[0;34m,\u001b[0m \u001b[0mout\u001b[0m\u001b[0;34m)\u001b[0m\u001b[0;34m\u001b[0m\u001b[0;34m\u001b[0m\u001b[0m\n",
      "\u001b[0;32m~/.conda/envs/deepgd/lib/python3.9/site-packages/torch_geometric/nn/conv/message_passing.py\u001b[0m in \u001b[0;36maggregate\u001b[0;34m(self, inputs, index, ptr, dim_size)\u001b[0m\n\u001b[1;32m    337\u001b[0m             \u001b[0;32mreturn\u001b[0m \u001b[0msegment_csr\u001b[0m\u001b[0;34m(\u001b[0m\u001b[0minputs\u001b[0m\u001b[0;34m,\u001b[0m \u001b[0mptr\u001b[0m\u001b[0;34m,\u001b[0m \u001b[0mreduce\u001b[0m\u001b[0;34m=\u001b[0m\u001b[0mself\u001b[0m\u001b[0;34m.\u001b[0m\u001b[0maggr\u001b[0m\u001b[0;34m)\u001b[0m\u001b[0;34m\u001b[0m\u001b[0;34m\u001b[0m\u001b[0m\n\u001b[1;32m    338\u001b[0m         \u001b[0;32melse\u001b[0m\u001b[0;34m:\u001b[0m\u001b[0;34m\u001b[0m\u001b[0;34m\u001b[0m\u001b[0m\n\u001b[0;32m--> 339\u001b[0;31m             return scatter(inputs, index, dim=self.node_dim, dim_size=dim_size,\n\u001b[0m\u001b[1;32m    340\u001b[0m                            reduce=self.aggr)\n\u001b[1;32m    341\u001b[0m \u001b[0;34m\u001b[0m\u001b[0m\n",
      "\u001b[0;32m~/.conda/envs/deepgd/lib/python3.9/site-packages/torch_scatter/scatter.py\u001b[0m in \u001b[0;36mscatter\u001b[0;34m(src, index, dim, out, dim_size, reduce)\u001b[0m\n\u001b[1;32m    155\u001b[0m         \u001b[0;32mreturn\u001b[0m \u001b[0mscatter_mul\u001b[0m\u001b[0;34m(\u001b[0m\u001b[0msrc\u001b[0m\u001b[0;34m,\u001b[0m \u001b[0mindex\u001b[0m\u001b[0;34m,\u001b[0m \u001b[0mdim\u001b[0m\u001b[0;34m,\u001b[0m \u001b[0mout\u001b[0m\u001b[0;34m,\u001b[0m \u001b[0mdim_size\u001b[0m\u001b[0;34m)\u001b[0m\u001b[0;34m\u001b[0m\u001b[0;34m\u001b[0m\u001b[0m\n\u001b[1;32m    156\u001b[0m     \u001b[0;32melif\u001b[0m \u001b[0mreduce\u001b[0m \u001b[0;34m==\u001b[0m \u001b[0;34m'mean'\u001b[0m\u001b[0;34m:\u001b[0m\u001b[0;34m\u001b[0m\u001b[0;34m\u001b[0m\u001b[0m\n\u001b[0;32m--> 157\u001b[0;31m         \u001b[0;32mreturn\u001b[0m \u001b[0mscatter_mean\u001b[0m\u001b[0;34m(\u001b[0m\u001b[0msrc\u001b[0m\u001b[0;34m,\u001b[0m \u001b[0mindex\u001b[0m\u001b[0;34m,\u001b[0m \u001b[0mdim\u001b[0m\u001b[0;34m,\u001b[0m \u001b[0mout\u001b[0m\u001b[0;34m,\u001b[0m \u001b[0mdim_size\u001b[0m\u001b[0;34m)\u001b[0m\u001b[0;34m\u001b[0m\u001b[0;34m\u001b[0m\u001b[0m\n\u001b[0m\u001b[1;32m    158\u001b[0m     \u001b[0;32melif\u001b[0m \u001b[0mreduce\u001b[0m \u001b[0;34m==\u001b[0m \u001b[0;34m'min'\u001b[0m\u001b[0;34m:\u001b[0m\u001b[0;34m\u001b[0m\u001b[0;34m\u001b[0m\u001b[0m\n\u001b[1;32m    159\u001b[0m         \u001b[0;32mreturn\u001b[0m \u001b[0mscatter_min\u001b[0m\u001b[0;34m(\u001b[0m\u001b[0msrc\u001b[0m\u001b[0;34m,\u001b[0m \u001b[0mindex\u001b[0m\u001b[0;34m,\u001b[0m \u001b[0mdim\u001b[0m\u001b[0;34m,\u001b[0m \u001b[0mout\u001b[0m\u001b[0;34m,\u001b[0m \u001b[0mdim_size\u001b[0m\u001b[0;34m)\u001b[0m\u001b[0;34m[\u001b[0m\u001b[0;36m0\u001b[0m\u001b[0;34m]\u001b[0m\u001b[0;34m\u001b[0m\u001b[0;34m\u001b[0m\u001b[0m\n",
      "\u001b[0;32m~/.conda/envs/deepgd/lib/python3.9/site-packages/torch_scatter/scatter.py\u001b[0m in \u001b[0;36mscatter_mean\u001b[0;34m(src, index, dim, out, dim_size)\u001b[0m\n\u001b[1;32m     40\u001b[0m                  dim_size: Optional[int] = None) -> torch.Tensor:\n\u001b[1;32m     41\u001b[0m \u001b[0;34m\u001b[0m\u001b[0m\n\u001b[0;32m---> 42\u001b[0;31m     \u001b[0mout\u001b[0m \u001b[0;34m=\u001b[0m \u001b[0mscatter_sum\u001b[0m\u001b[0;34m(\u001b[0m\u001b[0msrc\u001b[0m\u001b[0;34m,\u001b[0m \u001b[0mindex\u001b[0m\u001b[0;34m,\u001b[0m \u001b[0mdim\u001b[0m\u001b[0;34m,\u001b[0m \u001b[0mout\u001b[0m\u001b[0;34m,\u001b[0m \u001b[0mdim_size\u001b[0m\u001b[0;34m)\u001b[0m\u001b[0;34m\u001b[0m\u001b[0;34m\u001b[0m\u001b[0m\n\u001b[0m\u001b[1;32m     43\u001b[0m     \u001b[0mdim_size\u001b[0m \u001b[0;34m=\u001b[0m \u001b[0mout\u001b[0m\u001b[0;34m.\u001b[0m\u001b[0msize\u001b[0m\u001b[0;34m(\u001b[0m\u001b[0mdim\u001b[0m\u001b[0;34m)\u001b[0m\u001b[0;34m\u001b[0m\u001b[0;34m\u001b[0m\u001b[0m\n\u001b[1;32m     44\u001b[0m \u001b[0;34m\u001b[0m\u001b[0m\n",
      "\u001b[0;32m~/.conda/envs/deepgd/lib/python3.9/site-packages/torch_scatter/scatter.py\u001b[0m in \u001b[0;36mscatter_sum\u001b[0;34m(src, index, dim, out, dim_size)\u001b[0m\n\u001b[1;32m     19\u001b[0m             \u001b[0msize\u001b[0m\u001b[0;34m[\u001b[0m\u001b[0mdim\u001b[0m\u001b[0;34m]\u001b[0m \u001b[0;34m=\u001b[0m \u001b[0mint\u001b[0m\u001b[0;34m(\u001b[0m\u001b[0mindex\u001b[0m\u001b[0;34m.\u001b[0m\u001b[0mmax\u001b[0m\u001b[0;34m(\u001b[0m\u001b[0;34m)\u001b[0m\u001b[0;34m)\u001b[0m \u001b[0;34m+\u001b[0m \u001b[0;36m1\u001b[0m\u001b[0;34m\u001b[0m\u001b[0;34m\u001b[0m\u001b[0m\n\u001b[1;32m     20\u001b[0m         \u001b[0mout\u001b[0m \u001b[0;34m=\u001b[0m \u001b[0mtorch\u001b[0m\u001b[0;34m.\u001b[0m\u001b[0mzeros\u001b[0m\u001b[0;34m(\u001b[0m\u001b[0msize\u001b[0m\u001b[0;34m,\u001b[0m \u001b[0mdtype\u001b[0m\u001b[0;34m=\u001b[0m\u001b[0msrc\u001b[0m\u001b[0;34m.\u001b[0m\u001b[0mdtype\u001b[0m\u001b[0;34m,\u001b[0m \u001b[0mdevice\u001b[0m\u001b[0;34m=\u001b[0m\u001b[0msrc\u001b[0m\u001b[0;34m.\u001b[0m\u001b[0mdevice\u001b[0m\u001b[0;34m)\u001b[0m\u001b[0;34m\u001b[0m\u001b[0;34m\u001b[0m\u001b[0m\n\u001b[0;32m---> 21\u001b[0;31m         \u001b[0;32mreturn\u001b[0m \u001b[0mout\u001b[0m\u001b[0;34m.\u001b[0m\u001b[0mscatter_add_\u001b[0m\u001b[0;34m(\u001b[0m\u001b[0mdim\u001b[0m\u001b[0;34m,\u001b[0m \u001b[0mindex\u001b[0m\u001b[0;34m,\u001b[0m \u001b[0msrc\u001b[0m\u001b[0;34m)\u001b[0m\u001b[0;34m\u001b[0m\u001b[0;34m\u001b[0m\u001b[0m\n\u001b[0m\u001b[1;32m     22\u001b[0m     \u001b[0;32melse\u001b[0m\u001b[0;34m:\u001b[0m\u001b[0;34m\u001b[0m\u001b[0;34m\u001b[0m\u001b[0m\n\u001b[1;32m     23\u001b[0m         \u001b[0;32mreturn\u001b[0m \u001b[0mout\u001b[0m\u001b[0;34m.\u001b[0m\u001b[0mscatter_add_\u001b[0m\u001b[0;34m(\u001b[0m\u001b[0mdim\u001b[0m\u001b[0;34m,\u001b[0m \u001b[0mindex\u001b[0m\u001b[0;34m,\u001b[0m \u001b[0msrc\u001b[0m\u001b[0;34m)\u001b[0m\u001b[0;34m\u001b[0m\u001b[0;34m\u001b[0m\u001b[0m\n",
      "\u001b[0;31mKeyboardInterrupt\u001b[0m: "
     ]
    }
   ],
   "source": [
    "def train_dis(batch, epoch):\n",
    "    generator.requires_grad_(False)\n",
    "    discriminator.zero_grad()\n",
    "    generator_output = generator(batch)\n",
    "    if config.discriminator.noise.std > 0:\n",
    "        generator_output = generator_output + torch.randn_like(generator_output) * config.discriminator.noise.std * config.discriminator.noise.decay ** epoch\n",
    "    discriminator_loss = get_gan_loss(batch, generator_output, mode='discriminator')\n",
    "    \n",
    "    # train discriminator\n",
    "    discriminator_loss.backward()\n",
    "    discriminator_optimizer.step()\n",
    "\n",
    "    # gradient penalty\n",
    "    if config.gp_weight > 0:\n",
    "        discriminator.zero_grad()\n",
    "        gp_loss = get_gp_loss(batch, generator_output, config.gp_weight)\n",
    "        gp_loss.backward()\n",
    "        discriminator_optimizer.step()\n",
    "\n",
    "    hud['dis_loss'] = format(discriminator_loss.item(), '.2e')\n",
    "    pbar().update()\n",
    "\n",
    "def train_gen(batch, epoch):\n",
    "    generator.requires_grad_(True)\n",
    "    generator.zero_grad()\n",
    "    discriminator.zero_grad()\n",
    "    generator_output = generator(batch)\n",
    "    if config.discriminator.noise.std > 0:\n",
    "        generator_output = generator_output + torch.randn_like(generator_output) * config.discriminator.noise.std * config.discriminator.noise.decay ** epoch\n",
    "    generator_loss = get_gan_loss(batch, generator_output, mode='generator') \n",
    "    \n",
    "    #train generator\n",
    "    generator_loss.backward()\n",
    "    generator_optimizer.step()\n",
    "\n",
    "    with torch.no_grad():\n",
    "        dis_batch = dis_convert(batch, generator_output)\n",
    "        stress = stress_criterion(dis_batch).mean()\n",
    "        critic = discriminator(dis_batch).mean()\n",
    "    hud.append({'gen_loss': format(generator_loss.item(), '.2e'),\n",
    "                'stress': format(stress.item(), '.2e'),\n",
    "                'critic': format(critic.item(), '.2e')})\n",
    "    pbar().update()\n",
    "\n",
    "def cuda_memsafe_map(fn, *iterables, summary=False):\n",
    "    total, failed = 0, 0\n",
    "    iterator = zip(*iterables)\n",
    "    items = None\n",
    "    while True:\n",
    "        try:\n",
    "            items = next(iterator)\n",
    "            yield fn(*items)\n",
    "        except StopIteration:\n",
    "            if summary:\n",
    "                print(f'Iteration finished. {failed} out of {total} failed!')\n",
    "            break\n",
    "        except RuntimeError:\n",
    "            print('CUDA memory overflow! Skip batch...')\n",
    "            del items\n",
    "            failed += 1\n",
    "        torch.cuda.empty_cache()\n",
    "        total += 1\n",
    "    \n",
    "def validate(model, data_loader, criterion=val_criterion):\n",
    "    def val_one_batch(batch):\n",
    "        batch = preprocess_batch(model, batch)\n",
    "        pred = CanonicalizationByStress()(model(batch), batch)\n",
    "        gt = CanonicalizationByStress()(batch.gt_pos, batch)\n",
    "        loss = criterion(pred, batch)\n",
    "        gt_loss = criterion(gt, batch)\n",
    "        spc = (loss - gt_loss) / torch.maximum(torch.maximum(loss, gt_loss), torch.ones_like(loss)*1e-5)\n",
    "        return loss.mean().item(), spc.mean().item()\n",
    "    loss_all, spc_all = zip(*cuda_memsafe_map(val_one_batch, data_loader))\n",
    "    return np.mean(loss_all), np.mean(spc_all)\n",
    "\n",
    "def log(msg):\n",
    "    msg = f\"[{epoch:03}] {msg}\"\n",
    "    print(msg, file=open(paths.log(), \"a\"))\n",
    "    with log_out: \n",
    "        print(msg)\n",
    "\n",
    "print(f\"{'='*10} {config.link} {'='*10}\", file=open(paths.log(), \"a\"))\n",
    "hud = Hud()\n",
    "pbar = Wrapper(tqdm, total=len(train_loader)*2, smoothing=0)\n",
    "plot_out = Output()\n",
    "log_out = Output()\n",
    "tabs = {\"status\": VBox([pbar, hud]), \n",
    "        \"plot\": HBox([plot_out], layout=Layout(height='500px', overflow_y='auto')),\n",
    "        \"log\": HBox([log_out], layout=Layout(height='500px', overflow_y='auto'))}\n",
    "tab_bar = Tab(children=list(tabs.values()))\n",
    "[tab_bar.set_title(i, name) for i, name in enumerate(tabs)]\n",
    "display(tab_bar)\n",
    "while True:\n",
    "    if epoch % config.log_interval == 0:\n",
    "        torch.save(generator.state_dict(), f\"{paths.checkpoints()}/gen_epoch_{epoch}.pt\")\n",
    "        torch.save(generator_optimizer.state_dict(), f\"{paths.checkpoints()}/gen_optim_epoch_{epoch}.pt\")\n",
    "        torch.save(discriminator.state_dict(), f\"{paths.checkpoints()}/dis_epoch_{epoch}.pt\")\n",
    "        torch.save(discriminator_optimizer.state_dict(), f\"{paths.checkpoints()}/dis_optim_epoch_{epoch}.pt\")\n",
    "        generator.eval()\n",
    "        with torch.no_grad():\n",
    "            val_stress, val_stress_spc = validate(model=generator, data_loader=val_loader)\n",
    "            val_xing, val_xing_spc = validate(model=generator, data_loader=val_loader, criterion=xing_criterion)\n",
    "            with plot_out:\n",
    "                fig = plt.figure()\n",
    "                graph_vis(G_list[11100], generator(make_batch(data_list[11100]).to(device)).cpu())\n",
    "                plt.show()\n",
    "        # tensorboard.add_scalars('loss', {'train': train_loss, \n",
    "        #                                  'validation': val_loss}, epoch)\n",
    "        # for i, fn in enumerate(loss_fns):\n",
    "        #     tensorboard.add_scalars(type(fn).__name__, {'train': train_loss_comp[i].item(), \n",
    "        #                                           'validation': val_loss_comp[i].item()}, epoch)\n",
    "        hud.append({\n",
    "            'val_stress': format(val_stress, '.2f'),\n",
    "            'val_stress_spc': format(val_stress_spc, '.2%'),\n",
    "            'val_xing': format(val_xing, '.2f'),\n",
    "            'val_xing_spc': format(val_xing_spc, '.2%'),\n",
    "        })\n",
    "        log(f\"stress={hud.data['val_stress']}({hud.data['val_stress_spc']}) xing={hud.data['val_xing']}({hud.data['val_xing_spc']})\")\n",
    "        \n",
    "    # handle.update(tab_bar)\n",
    "    pbar().reset()\n",
    "    pbar().set_description(desc=f\"[epoch {epoch}/{config.epoch.end}]\")\n",
    "    hud(title=f\"epoch {epoch}\")\n",
    "    generator.train()\n",
    "    discriminator.train()\n",
    "    # proper: proper layout\n",
    "    for _ in range(config.discriminator.repeat):\n",
    "        for batch in train_loader:\n",
    "            train_dis(batch, epoch)\n",
    "            if config.alternate == 'iteration':\n",
    "                train_gen(batch, epoch)\n",
    "\n",
    "    if config.alternate == 'epoch':\n",
    "        for batch in train_loader:\n",
    "            train_gen(batch, epoch)\n",
    "\n",
    "    discriminator_scheduler.step()\n",
    "    generator_scheduler.step()\n",
    "\n",
    "    if epoch == config.epoch.end:\n",
    "        break\n",
    "    epoch += 1"
   ]
  },
  {
   "cell_type": "markdown",
   "metadata": {
    "id": "0qYK_X_hrq9o"
   },
   "source": [
    "# Test"
   ]
  },
  {
   "cell_type": "code",
   "execution_count": 33,
   "metadata": {
    "colab": {
     "base_uri": "https://localhost:8080/"
    },
    "id": "XEvmAtNjWhcY",
    "outputId": "9f4c86a4-a4b0-48f1-cb58-ab3679173184"
   },
   "outputs": [
    {
     "name": "stdout",
     "output_type": "stream",
     "text": [
      "Loading from artifacts/checkpoints/GAN(gan=rgan,data=best(xing,stress),canon=stress,share=2,embed=14)/gen_epoch_360.pt...\n"
     ]
    },
    {
     "data": {
      "text/plain": [
       "<All keys matched successfully>"
      ]
     },
     "execution_count": 33,
     "metadata": {},
     "output_type": "execute_result"
    }
   ],
   "source": [
    "test_epoch = -1\n",
    "\n",
    "test_generator = Generator(**config.generator.params[...]).to(device)\n",
    "test_ckpt_epoch = get_ckpt_epoch(paths.checkpoints(), test_epoch)\n",
    "test_ckpt_file = f\"{paths.checkpoints()}/gen_epoch_{test_ckpt_epoch}.pt\"\n",
    "print(f\"Loading from {test_ckpt_file}...\")\n",
    "test_generator.load_state_dict(torch.load(test_ckpt_file, map_location=torch.device(device)))"
   ]
  },
  {
   "cell_type": "code",
   "execution_count": 34,
   "metadata": {
    "colab": {
     "background_save": true,
     "base_uri": "https://localhost:8080/",
     "height": 1000,
     "referenced_widgets": [
      "9b7d18992dbf4a84931f916fbaaa37d8",
      "2c664d7e1e6d474fb87094fc0da270d3",
      "d375f5f82a4645d7b29c541596dc1c7f",
      "ecfa311bb06b4f6fa504598263ff69d3",
      "d1859990877149eab2b414b4e2a0e0c7",
      "d2be6733734844bca3e1db9b49eb1c1e",
      "4d98072bdf674792a13d77e85dd285d1",
      "f7ed92c383d741a0a1cef2536ff2db13",
      "2ba110f835c64ec4b82974996aed10af",
      "09397ceac9014af0aebca848d4d96d48",
      "fd0709f48d6c4527bc00b5f407f3c1b9"
     ]
    },
    "id": "ZubmSTcYrq9o",
    "outputId": "fc2f65a2-2085-43ac-b110-cbfe742318a8",
    "scrolled": true,
    "tags": []
   },
   "outputs": [
    {
     "data": {
      "application/vnd.jupyter.widget-view+json": {
       "model_id": "c7daf1e1796743c1bbbbffe49ef86393",
       "version_major": 2,
       "version_minor": 0
      },
      "text/plain": [
       "  0%|          | 0/1000 [00:00<?, ?it/s]"
      ]
     },
     "metadata": {},
     "output_type": "display_data"
    }
   ],
   "source": [
    "rotate = RotateByPrincipalComponents()\n",
    "def test_callback(*, idx, pred, metrics):\n",
    "    # graph_vis(G_list[idx], pred, file_name=f\"{paths.visualization()}/{idx}_{metrics['stress']:.2f}_{metrics['resolution_score']:.2f}.png\")\n",
    "    pred = rotate(torch.tensor(pred), data_list[idx])\n",
    "    graph_vis(G_list[idx], pred)\n",
    "    plt.title(f\"[pred] idx: {idx}, stress: {metrics['stress']:.2f}({metrics['stress_spc']:.2%}), xing: {metrics['xing']:.2f}({metrics['xing_spc']:.2%})\")\n",
    "    plt.show()\n",
    "    gt_pos = rotate(data_list[idx].gt_pos, data_list[idx])\n",
    "    graph_vis(G_list[idx], gt_pos, node_color='orange')\n",
    "    plt.title(f\"[gt] idx: {idx}, stress: {metrics['gt_stress']:.2f}, xing: {metrics['gt_xing']:.2f}\")\n",
    "    plt.show()\n",
    "    \n",
    "test_metrics = test(model=test_generator, \n",
    "                    criteria_list=[], \n",
    "                    dataset=data_list, \n",
    "                    idx_range=range(10000, 11000), \n",
    "#                     callback=test_callback,\n",
    "                    gt_pos=None)\n",
    "pickle.dump(test_metrics, open(paths.metrics(\"test\"), \"wb\"))"
   ]
  },
  {
   "cell_type": "code",
   "execution_count": 35,
   "metadata": {
    "colab": {
     "base_uri": "https://localhost:8080/",
     "height": 318
    },
    "id": "t2rFXIr_PsrJ",
    "outputId": "6a4205b1-4630-4de4-ec72-bdba3d3ea114"
   },
   "outputs": [
    {
     "name": "stdout",
     "output_type": "stream",
     "text": [
      "stress: tensor(337.5481)\n",
      "stress_spc: tensor(0.0633, dtype=torch.float64)\n",
      "xing: tensor(26.4570)\n",
      "xing_spc: tensor(0.1503, dtype=torch.float64)\n",
      "l1_angle: tensor(78.2407)\n",
      "l1_angle_spc: tensor(0.0235, dtype=torch.float64)\n",
      "edge: tensor(0.1997)\n",
      "edge_spc: tensor(0.2762, dtype=torch.float64)\n",
      "ring: tensor(247.3725)\n",
      "ring_spc: tensor(-0.0285, dtype=torch.float64)\n",
      "tsne: tensor(0.1840)\n",
      "tsne_spc: tensor(-0.0074, dtype=torch.float64)\n",
      "reso_score: tensor(0.6123)\n",
      "min_angle: tensor(6.3219)\n"
     ]
    },
    {
     "data": {
      "text/html": [
       "<style type=\"text/css\">\n",
       "</style>\n",
       "<table id=\"T_b1ef1_\">\n",
       "  <thead>\n",
       "    <tr>\n",
       "      <th class=\"blank level0\" >&nbsp;</th>\n",
       "      <th class=\"col_heading level0 col0\" >stress</th>\n",
       "      <th class=\"col_heading level0 col1\" >stress_spc</th>\n",
       "      <th class=\"col_heading level0 col2\" >xing</th>\n",
       "      <th class=\"col_heading level0 col3\" >xing_spc</th>\n",
       "      <th class=\"col_heading level0 col4\" >l1_angle</th>\n",
       "      <th class=\"col_heading level0 col5\" >l1_angle_spc</th>\n",
       "      <th class=\"col_heading level0 col6\" >edge</th>\n",
       "      <th class=\"col_heading level0 col7\" >edge_spc</th>\n",
       "      <th class=\"col_heading level0 col8\" >ring</th>\n",
       "      <th class=\"col_heading level0 col9\" >ring_spc</th>\n",
       "      <th class=\"col_heading level0 col10\" >tsne</th>\n",
       "      <th class=\"col_heading level0 col11\" >tsne_spc</th>\n",
       "      <th class=\"col_heading level0 col12\" >reso_score</th>\n",
       "      <th class=\"col_heading level0 col13\" >min_angle</th>\n",
       "    </tr>\n",
       "  </thead>\n",
       "  <tbody>\n",
       "    <tr>\n",
       "      <th id=\"T_b1ef1_level0_row0\" class=\"row_heading level0 row0\" >0</th>\n",
       "      <td id=\"T_b1ef1_row0_col0\" class=\"data row0 col0\" >337.55</td>\n",
       "      <td id=\"T_b1ef1_row0_col1\" class=\"data row0 col1\" >6.33%</td>\n",
       "      <td id=\"T_b1ef1_row0_col2\" class=\"data row0 col2\" >26.46</td>\n",
       "      <td id=\"T_b1ef1_row0_col3\" class=\"data row0 col3\" >15.03%</td>\n",
       "      <td id=\"T_b1ef1_row0_col4\" class=\"data row0 col4\" >78.24</td>\n",
       "      <td id=\"T_b1ef1_row0_col5\" class=\"data row0 col5\" >2.35%</td>\n",
       "      <td id=\"T_b1ef1_row0_col6\" class=\"data row0 col6\" >0.20</td>\n",
       "      <td id=\"T_b1ef1_row0_col7\" class=\"data row0 col7\" >27.62%</td>\n",
       "      <td id=\"T_b1ef1_row0_col8\" class=\"data row0 col8\" >247.37</td>\n",
       "      <td id=\"T_b1ef1_row0_col9\" class=\"data row0 col9\" >-2.85%</td>\n",
       "      <td id=\"T_b1ef1_row0_col10\" class=\"data row0 col10\" >0.18</td>\n",
       "      <td id=\"T_b1ef1_row0_col11\" class=\"data row0 col11\" >-0.74%</td>\n",
       "      <td id=\"T_b1ef1_row0_col12\" class=\"data row0 col12\" >0.61</td>\n",
       "      <td id=\"T_b1ef1_row0_col13\" class=\"data row0 col13\" >6.32</td>\n",
       "    </tr>\n",
       "  </tbody>\n",
       "</table>\n"
      ],
      "text/plain": [
       "<pandas.io.formats.style.Styler at 0x2b8d7d9fd610>"
      ]
     },
     "execution_count": 35,
     "metadata": {},
     "output_type": "execute_result"
    }
   ],
   "source": [
    "metrics = test_metrics\n",
    "print('stress:', metrics['stress'].mean())\n",
    "print('stress_spc:', metrics['stress_spc'].mean())\n",
    "print('xing:', metrics['xing'].mean())\n",
    "print('xing_spc:', metrics['xing_spc'].mean())\n",
    "print('l1_angle:', metrics['l1_angle'].mean())\n",
    "print('l1_angle_spc:', metrics['l1_angle_spc'].mean())\n",
    "print('edge:', metrics['edge'].mean())\n",
    "print('edge_spc:', metrics['edge_spc'].mean())\n",
    "print('ring:', metrics['ring'].mean())\n",
    "print('ring_spc:', metrics['ring_spc'].mean())\n",
    "print('tsne:', metrics['tsne'].mean())\n",
    "print('tsne_spc:', metrics['tsne_spc'].mean())\n",
    "print('reso_score:', metrics['resolution_score'].mean())\n",
    "print('min_angle:', metrics['min_angle'].mean())\n",
    "columns = [\n",
    "    'stress',\n",
    "    'stress_spc',\n",
    "    'xing',\n",
    "    'xing_spc',\n",
    "    'l1_angle',\n",
    "    'l1_angle_spc',\n",
    "    'edge',\n",
    "    'edge_spc',\n",
    "    'ring',\n",
    "    'ring_spc',\n",
    "    'tsne',\n",
    "    'tsne_spc',\n",
    "    'reso_score',\n",
    "    'min_angle'\n",
    "]\n",
    "df = pd.DataFrame(map(lambda m: metrics[m].mean().item(), list(metrics.keys())[:-1])).set_axis(columns).T\n",
    "df.style.format({c: \"{:.2f}\" for c in columns if 'spc' not in c} | {c: \"{:.2%}\" for c in columns if 'spc' in c})"
   ]
  },
  {
   "cell_type": "code",
   "execution_count": 36,
   "metadata": {
    "id": "5e7vPr0M3mmG"
   },
   "outputs": [],
   "source": [
    "metrics = {}"
   ]
  },
  {
   "cell_type": "code",
   "execution_count": 37,
   "metadata": {},
   "outputs": [],
   "source": [
    "methods = ['fa2']"
   ]
  },
  {
   "cell_type": "code",
   "execution_count": 38,
   "metadata": {
    "colab": {
     "base_uri": "https://localhost:8080/",
     "height": 433,
     "referenced_widgets": [
      "a0cf6e046add4e639e52db69656e0db9",
      "8e237731bb1241ac858581b25389c012",
      "0891547293ad4211a138a4d92e01bb0b",
      "34912c8e581e47a99a1c4829c38cb75c",
      "5aa034c99c94424e835a2ee954b829ed",
      "248f6393eff74c3eb8740ca6d698045b",
      "686687a29c7f4ec98c4d76ca2062b14b",
      "996a84d1c23b47e4a2af252c6b60f55d",
      "3507f883bb954412b21c1c5641763ed7",
      "9582a849d91e457cadd514c95d6e1b5b",
      "52bfe674c2c547e09b7400a32a96f703",
      "93d58b3a12394fe1aa6f0431fc7cb0db",
      "af1d7855c9d646b0bcc7d95c4cb147a6",
      "f820e2b898cd461da04a4f651d27273d",
      "c0a112cfaa3d4d0aa9530372de84d8fb",
      "fd03985495694fbf9feb3f31ef8d18ce",
      "e02a2b36aa4c4d6fb5d2ac6693c1a927",
      "06f388ff5e3a48828d465096fe69977b",
      "c0052778c9c940e88935593e9f94b83b",
      "99a5e77a192d4a989c4534237eb16730",
      "77c6da092a6647fc9e54f7e276d75616",
      "8c13c0e8b5934117a662a78296bcb1b6",
      "cdcc3bd4235247b48c468c0f6b7682cc",
      "a2c6fa6fef4549cc853fa93b4b18cf95",
      "15cc02a756314083801b5f6798a1948c",
      "24d1c67fe52f452ab0c767e3c1a818aa",
      "c117db25c6fd484a9d0c7f210ccb1ade",
      "b090b60b61084cf692b3066dfac7f0a8",
      "5eab9848059c491b9c6cbac88683f025",
      "e87ffbaa1f204b52b9226337a506b040",
      "cf52198a9e4b46c7b49537a79919c09e",
      "51501227bc064ccbab97c22a679a0750",
      "d1b794a997dc457888a90bf44faee9b4",
      "21a755b50e5047bea797eccf24b35a0c",
      "16e78c3823ec4faf9f9cd9095b218ff5",
      "4ccd332c6b734acd8eff236eaf568dfa",
      "bd60fd13748347e48629df78fa455765",
      "e9187e4ba80b4fafa0334dae2e39aded",
      "4c39ec7c92b4402e8eedcb27beabaab1",
      "59a8194269f943bba571f710ad856973",
      "8e41bc25b9f348b1b85b381547cd60d1",
      "34d0f1529e64437fb25e639b41096072",
      "7e832c7543df43668eb72c0aa6356349",
      "f94162c9c5fe4c2581e3b80beaeb820b",
      "0284946fccf34607b25e1d6d81d4f72a",
      "8e8d4243a3624ba58d760bdf601d5126",
      "b1f0932594fe44f4be4beb8880172871",
      "820bb554d139437b8f6a6997f9002261",
      "459e375d1fe4497cb4197ef88e303c6d",
      "5726814966da46bbba942a114de4b319",
      "448beea5445f4642809801da46aa7e7c",
      "3746c0f0daf04f51805b4c95db20063a",
      "2ff74d1c705348438a32da37910c3300",
      "52f03147b5ab4cb390f9802b7a17a508",
      "5428511d652a47348203e8f3cd2e076d",
      "7b58569bee2e44c5a61a81f9a32c4c01",
      "c5e05d74b9404333a8155304e3497ba2",
      "3ad4e058bde44d87abab780368d49118",
      "8e437049b5c74ff1beddad93e30b19aa",
      "0c61377f4cc34b27ae34bdd6d976d868",
      "9ce35f9a9a23436ea77604513b5c4659",
      "dafbc43ad79c4feda093aefe490fc4b3",
      "497160b6bf80469a89680a03a468c8bb",
      "3265725ecb914981b6f07f68b8a582df",
      "1f0ac20d99d04ffb9ee75613526d3de6",
      "dee0e5716560483b8e2b107566439d94",
      "ca99841a1abd4fbd94927c49aaa711cb",
      "163a44ff1be04583ae7bd62726c55204",
      "f3b727045a0b4b4fabd147ec9c843e14",
      "7c4b4fe859cf48ab99b7e2780a24a539",
      "d9700cffab66480cb81e3722faab4e8b",
      "2c49acc1e0a64aa4b8ec461b0596848e",
      "691817157f43412f9c36002167606b75",
      "d0ae688d71734b56bb348de54e841798",
      "07a364ebcdaa491dbcc2304e4a8dae96",
      "538b277307b1449eaa79a2a91b4741d3",
      "f7b7dd4cbaa5468687b988c5e416a154",
      "877be862a4f045ec8b221097626becb5",
      "1bf37012df0844338ac689d4f6cc8eab",
      "33fe06641be544d3aab2c25cb979416f",
      "68de0d9261fa4e6999967b6f196d149c",
      "7017c5ba1ffc467495aca2689e516f7d",
      "e0997460cc21428695a0c278c6691baf",
      "522443bef4904996b6361ea265c4c56f",
      "dfe044b67917466f971ba84a11956d5e",
      "70b2d0ba1c1d4102841fb963480de1c7",
      "7b158daacd754a40bc0a48fc9ea6fea2",
      "8904f61ff30741e488eacf0e49440f66",
      "685dee6f1e1f4c2983d2d0b8eb90ed00",
      "005155a4d62d48cbbaf3d69614b08d81",
      "d2779dfa620041e4b32a7731926a5982",
      "53048bf27cb24080b4cdf20379302223",
      "0b5bff7794a14a20964da70b87158c2c",
      "ec664e55ea16435590393ae1617cccea",
      "f10d62ef464a45a7935610d869c282e3",
      "5e7c09bc35db4a3a8b9847c6d8478883",
      "987ea331b617446facc81b08bab1f8c4",
      "446c5a687b0d43358ab036d43ce281c3",
      "d89e216f62ae4a9999da1a91dd5e48b9",
      "09d03e7e66f54cafacefbfeda5fd6e5c",
      "d58c680562a44bbd9252e7ec6eebc06c",
      "71ea2594fdd942acac1cc61055438544",
      "fecda4df301b437f9fbfb61a7b593dc0",
      "bcf6741d926248cb92acf627d6557d2b",
      "5bd9868b9bda4f68b500a43916e2d148",
      "4bc5e02035de44ad827c4f881fd75afc",
      "7d80033a955e4feb947ca9cea931d90b",
      "e975c796d80d498992a50f87a2b0105c",
      "028b2ff105904a19a9a3e8ebf66967bb",
      "10dbf2cbdb1943eda6a0acaf5da3fe85",
      "14d59c7acc5e4e07a289db44406a4851",
      "d9447df93d714907bc9c768eb4910352",
      "d4a9ace081bf488680a7e43e0eaed71d",
      "022a60cde19546bfa6ecfb4947615ad9",
      "10c01207d9ba4fe197dc80717fceecc0",
      "f4995936570d4ba1a65e9a66e410b505",
      "b4bf66303e61491385cd616076a11c04",
      "a24ab2bfe7a44263bf60936d6e53ec32",
      "59e2e8ecc9f84d57af7bf44f5bba5df7",
      "be2eb92aab8045a99fd19195c3546b60",
      "e6715db2b048434796e910952cb5eb62",
      "8de2335007ba4a6b9935fa0c514c9f6a",
      "493a4bbe8057437a8c8acf4d03f8dcb0",
      "20b03955acc74e238695717124705520",
      "a89f9507496b4cf8bdd63bdb9bff79c4",
      "9752a1f6c8b6488d9628b8e0c023f10f",
      "61a0bebc687341a7bb3352febc8d4986",
      "07e0ff9c82a444788c60edee70688ca7",
      "4427901f35e54cc48e08527bb402c22a",
      "bd9dafb825954091ba975d71ab8c89ea",
      "7ec0f07bfe51484da38c18dc66d77804",
      "03943afebc4d4b668b54c7a0fd014a37",
      "a7a6b38a76424d738146b6a5786cf2c8",
      "1d1aa4729784470584c0001c1a296008",
      "e0c68ac9b5b442eeb77e6d9ea3c1da42",
      "c858ef9fd9324ab0ab885d85e3c8582f",
      "627bc2899c994a0c96c5d43e89dc77ff",
      "0e2c2f21fa8041038151170992ecb848",
      "2d9bcbf7629a4671bf8755e790276eb7",
      "77a4edf6ab1848a6a6df20c1c07358c6",
      "acf2212d6bb44c729b63281a98377095",
      "0c7a72818da3454190bab7f30a29e249",
      "d865af915b8b4aaa8cec8d40f1f8351d"
     ]
    },
    "id": "s1UnzfID4Ai6",
    "outputId": "3e204e76-68fd-4111-f527-91f6e3b7a3ca"
   },
   "outputs": [
    {
     "data": {
      "application/vnd.jupyter.widget-view+json": {
       "model_id": "aae48f943e494037ac43d92497c168bb",
       "version_major": 2,
       "version_minor": 0
      },
      "text/plain": [
       "  0%|          | 0/1000 [00:00<?, ?it/s]"
      ]
     },
     "metadata": {},
     "output_type": "display_data"
    }
   ],
   "source": [
    "for m in methods:\n",
    "    metrics[m] = test(model=test_generator, \n",
    "                      criteria_list=[], \n",
    "                      dataset=data_list, \n",
    "                      idx_range=range(10000, 11000), \n",
    "                      callback=None,\n",
    "                      gt_pos=load_pos(m))"
   ]
  },
  {
   "cell_type": "code",
   "execution_count": 39,
   "metadata": {
    "id": "dQ7hdCtk5u6K"
   },
   "outputs": [],
   "source": [
    "mean_metrics = {key : list(map(lambda m: metrics[key][m].mean().item(), list(metrics[key].keys())[:-1])) for key in metrics}"
   ]
  },
  {
   "cell_type": "code",
   "execution_count": 40,
   "metadata": {
    "colab": {
     "base_uri": "https://localhost:8080/",
     "height": 313
    },
    "id": "OGyaCmLXTuvA",
    "outputId": "6c42d9f3-9869-4504-bc9c-d0eedaecfd90"
   },
   "outputs": [
    {
     "data": {
      "text/html": [
       "<style type=\"text/css\">\n",
       "</style>\n",
       "<table id=\"T_d04e0_\">\n",
       "  <thead>\n",
       "    <tr>\n",
       "      <th class=\"blank level0\" >&nbsp;</th>\n",
       "      <th class=\"col_heading level0 col0\" >stress</th>\n",
       "      <th class=\"col_heading level0 col1\" >stress_spc</th>\n",
       "      <th class=\"col_heading level0 col2\" >xing</th>\n",
       "      <th class=\"col_heading level0 col3\" >xing_spc</th>\n",
       "      <th class=\"col_heading level0 col4\" >l1_angle</th>\n",
       "      <th class=\"col_heading level0 col5\" >l1_angle_spc</th>\n",
       "      <th class=\"col_heading level0 col6\" >edge</th>\n",
       "      <th class=\"col_heading level0 col7\" >edge_spc</th>\n",
       "      <th class=\"col_heading level0 col8\" >ring</th>\n",
       "      <th class=\"col_heading level0 col9\" >ring_spc</th>\n",
       "      <th class=\"col_heading level0 col10\" >tsne</th>\n",
       "      <th class=\"col_heading level0 col11\" >tsne_spc</th>\n",
       "      <th class=\"col_heading level0 col12\" >reso_score</th>\n",
       "      <th class=\"col_heading level0 col13\" >min_angle</th>\n",
       "    </tr>\n",
       "  </thead>\n",
       "  <tbody>\n",
       "    <tr>\n",
       "      <th id=\"T_d04e0_level0_row0\" class=\"row_heading level0 row0\" >fa2</th>\n",
       "      <td id=\"T_d04e0_row0_col0\" class=\"data row0 col0\" >337.55</td>\n",
       "      <td id=\"T_d04e0_row0_col1\" class=\"data row0 col1\" >-8.75%</td>\n",
       "      <td id=\"T_d04e0_row0_col2\" class=\"data row0 col2\" >26.46</td>\n",
       "      <td id=\"T_d04e0_row0_col3\" class=\"data row0 col3\" >2.38%</td>\n",
       "      <td id=\"T_d04e0_row0_col4\" class=\"data row0 col4\" >78.25</td>\n",
       "      <td id=\"T_d04e0_row0_col5\" class=\"data row0 col5\" >5.32%</td>\n",
       "      <td id=\"T_d04e0_row0_col6\" class=\"data row0 col6\" >0.20</td>\n",
       "      <td id=\"T_d04e0_row0_col7\" class=\"data row0 col7\" >2.65%</td>\n",
       "      <td id=\"T_d04e0_row0_col8\" class=\"data row0 col8\" >247.38</td>\n",
       "      <td id=\"T_d04e0_row0_col9\" class=\"data row0 col9\" >-4.72%</td>\n",
       "      <td id=\"T_d04e0_row0_col10\" class=\"data row0 col10\" >0.18</td>\n",
       "      <td id=\"T_d04e0_row0_col11\" class=\"data row0 col11\" >-4.64%</td>\n",
       "      <td id=\"T_d04e0_row0_col12\" class=\"data row0 col12\" >0.61</td>\n",
       "      <td id=\"T_d04e0_row0_col13\" class=\"data row0 col13\" >6.30</td>\n",
       "    </tr>\n",
       "  </tbody>\n",
       "</table>\n"
      ],
      "text/plain": [
       "<pandas.io.formats.style.Styler at 0x2b8d7da160a0>"
      ]
     },
     "execution_count": 40,
     "metadata": {},
     "output_type": "execute_result"
    }
   ],
   "source": [
    "columns = [\n",
    "    'stress',\n",
    "    'stress_spc',\n",
    "    'xing',\n",
    "    'xing_spc',\n",
    "    'l1_angle',\n",
    "    'l1_angle_spc',\n",
    "    'edge',\n",
    "    'edge_spc',\n",
    "    'ring',\n",
    "    'ring_spc',\n",
    "    'tsne',\n",
    "    'tsne_spc',\n",
    "    'reso_score',\n",
    "    'min_angle'\n",
    "]\n",
    "df = pd.DataFrame(mean_metrics).set_axis(columns).T\n",
    "df.style.format({c: \"{:.2f}\" for c in columns if 'spc' not in c} | {c: \"{:.2%}\" for c in columns if 'spc' in c})"
   ]
  },
  {
   "cell_type": "markdown",
   "metadata": {
    "id": "L5S1HWnHOWIl"
   },
   "source": [
    "# Large Graph"
   ]
  },
  {
   "cell_type": "code",
   "execution_count": null,
   "metadata": {
    "id": "_pefPcV1OZdD"
   },
   "outputs": [],
   "source": [
    "scalability = pd.read_csv(f\"/__artifacts__/data/scalability.csv\", index_col=\"index\")\n",
    "scalability"
   ]
  },
  {
   "cell_type": "code",
   "execution_count": null,
   "metadata": {
    "id": "oMhWAsdvPnTX"
   },
   "outputs": [],
   "source": [
    "rescale = CanonicalizationByStress()\n",
    "stressfn = Stress()\n",
    "rotate = RotateByPrincipalComponents()"
   ]
  },
  {
   "cell_type": "code",
   "execution_count": null,
   "metadata": {
    "id": "LR83OcAaPID5"
   },
   "outputs": [],
   "source": [
    "stress_list = []\n",
    "spc_list = []\n",
    "pmds_list = np.load(\"layouts/new_large_graph/pmds.npy\", allow_pickle=True)\n",
    "gviz_list = np.load(\"layouts/new_large_graph/gviz.npy\", allow_pickle=True)\n",
    "with torch.no_grad():\n",
    "    for idx, col in tqdm(scalability.iterrows(), total=len(scalability)):\n",
    "        # if idx not in [406, 516]: continue\n",
    "        torch.cuda.empty_cache()\n",
    "        G = load_mtx(col['file'])\n",
    "        G.remove_edges_from(nx.selfloop_edges(G))\n",
    "        data = generate_data_list(G, \n",
    "                                sparse=data_config.sparse, \n",
    "                                pivot_mode=data_config.pivot,\n",
    "                                init_mode=data_config.init,\n",
    "                                edge_index=data_config.edge.index,\n",
    "                                edge_attr=data_config.edge.attr,\n",
    "                                pmds_list=pmds_list[idx],\n",
    "                                gviz_list=gviz_list[idx],\n",
    "                                device=device)\n",
    "        batch = Batch.from_data_list([data]).to(device)\n",
    "        # generator.train()\n",
    "        # generator(batch)\n",
    "        generator.eval()\n",
    "        pred = generator(batch)\n",
    "        pos = rotate(rescale(pred, batch), batch)\n",
    "        gt = rotate(rescale(batch.gt_pos, batch), batch)\n",
    "        stress = stressfn(pos, batch).item()\n",
    "        gt_stress = stressfn(gt, batch).item()\n",
    "        spc = (stress - gt_stress) / np.maximum(stress, gt_stress)\n",
    "        stress_list.append(stress)\n",
    "        spc_list.append(spc)\n",
    "\n",
    "        np.save(f\"/__artifacts__/gan_result/data/scalability_{idx}.npy\", pos.cpu().numpy())\n",
    "        graph_attr = dict(node_size=1, \n",
    "                        with_labels=False, \n",
    "                        labels=dict(zip(list(G.nodes), map(lambda n: n if type(n) is int else n[1:], list(G.nodes)))),\n",
    "                        font_color=\"white\", \n",
    "                        font_weight=\"bold\",\n",
    "                        font_size=12,\n",
    "                        width=0.1)\n",
    "\n",
    "        # gt_pos = pickle.load(open(f\"/__artifacts__/data/scalability_{idx}_gt.pkl\", \"rb\"))\n",
    "\n",
    "        plt.figure(figsize=[12, 9])\n",
    "        nx.draw(G, pos=gt.cpu().numpy(), node_color='orange', **graph_attr)\n",
    "        plt.title(f\"neato: large_{idx}\")\n",
    "        plt.axis(\"equal\")\n",
    "        plt.savefig(f\"/__artifacts__/gan_result/output/{idx}_{col['name']}_{col['n']}_{spc}_nx.png\", dpi=300)\n",
    "        plt.show()\n",
    "\n",
    "        plt.figure(figsize=[12, 9])\n",
    "        graph_vis(G, pos.cpu().numpy(), **graph_attr)\n",
    "        plt.title(f\"dgd: large_{idx}, spc={spc:.2%}\")\n",
    "        plt.axis(\"equal\")\n",
    "        plt.savefig(f\"/__artifacts__/gan_result/output/{idx}_{col['name']}_{col['n']}_{spc}_dgd.png\", dpi=300)\n",
    "        plt.show()"
   ]
  },
  {
   "cell_type": "code",
   "execution_count": null,
   "metadata": {
    "id": "gRXTewkYeuq1"
   },
   "outputs": [],
   "source": []
  }
 ],
 "metadata": {
  "accelerator": "GPU",
  "colab": {
   "collapsed_sections": [
    "w_p3OD0woiSM",
    "DR6-vYtr_i_P",
    "innqkwvH_ydD",
    "f-ODE2k8BFV6",
    "N39dDHraedM6"
   ],
   "machine_shape": "hm",
   "name": "GAN(gan=rgan,data=best(xing,stress),dis=deep,share=16,embed=0,gp=0).ipynb",
   "provenance": []
  },
  "kernelspec": {
   "display_name": "DeepGD",
   "language": "python",
   "name": "deepgd"
  },
  "language_info": {
   "codemirror_mode": {
    "name": "ipython",
    "version": 3
   },
   "file_extension": ".py",
   "mimetype": "text/x-python",
   "name": "python",
   "nbconvert_exporter": "python",
   "pygments_lexer": "ipython3",
   "version": "3.9.7"
  },
  "widgets": {
   "application/vnd.jupyter.widget-state+json": {
    "state": {
     "005a687ffb224c3fb1dc1b585b586d69": {
      "model_module": "@jupyter-widgets/controls",
      "model_module_version": "1.5.0",
      "model_name": "ProgressStyleModel",
      "state": {
       "description_width": ""
      }
     },
     "01981be3aa13405b8ce2bdaaeecb1533": {
      "model_module": "@jupyter-widgets/base",
      "model_module_version": "1.2.0",
      "model_name": "LayoutModel",
      "state": {}
     },
     "06f84e7de5174df0be97749643da696a": {
      "model_module": "@jupyter-widgets/base",
      "model_module_version": "1.2.0",
      "model_name": "LayoutModel",
      "state": {}
     },
     "0906642ebf624f119e1d414b8b223de7": {
      "model_module": "@jupyter-widgets/base",
      "model_module_version": "1.2.0",
      "model_name": "LayoutModel",
      "state": {}
     },
     "096551c0479b4a98997683bdbd62bcec": {
      "model_module": "@jupyter-widgets/base",
      "model_module_version": "1.2.0",
      "model_name": "LayoutModel",
      "state": {}
     },
     "121ab52138d24fe5a97c7c3c0f41a337": {
      "model_module": "@jupyter-widgets/base",
      "model_module_version": "1.2.0",
      "model_name": "LayoutModel",
      "state": {}
     },
     "13b23570e88840d7a491e027f73d8b75": {
      "model_module": "@jupyter-widgets/controls",
      "model_module_version": "1.5.0",
      "model_name": "TabModel",
      "state": {
       "_titles": {
        "0": "status",
        "1": "plot",
        "2": "log"
       },
       "children": [
        "IPY_MODEL_5c57dabe63464e67954a947ccf3cc52c",
        "IPY_MODEL_b414c7d34ae945baaa2b897e354f6628",
        "IPY_MODEL_c4c7837483454067bb194c3de6210a08"
       ],
       "layout": "IPY_MODEL_3d3b975bc7864665a234d53010273d6d"
      }
     },
     "1989e6148af04aebb2a9850a5429366e": {
      "model_module": "@jupyter-widgets/controls",
      "model_module_version": "1.5.0",
      "model_name": "FloatProgressModel",
      "state": {
       "layout": "IPY_MODEL_1c8f1606288e4bca89df1a42173da51b",
       "max": 1000,
       "style": "IPY_MODEL_24bc24292a8e41fb81775be380642bec",
       "value": 120
      }
     },
     "1c8f1606288e4bca89df1a42173da51b": {
      "model_module": "@jupyter-widgets/base",
      "model_module_version": "1.2.0",
      "model_name": "LayoutModel",
      "state": {}
     },
     "24bc24292a8e41fb81775be380642bec": {
      "model_module": "@jupyter-widgets/controls",
      "model_module_version": "1.5.0",
      "model_name": "ProgressStyleModel",
      "state": {
       "description_width": ""
      }
     },
     "275452a3dbf84778b257869a86ed1194": {
      "model_module": "@jupyter-widgets/controls",
      "model_module_version": "1.5.0",
      "model_name": "DescriptionStyleModel",
      "state": {
       "description_width": ""
      }
     },
     "2b1d6654eb5644658f7333c1c7c96a62": {
      "model_module": "@jupyter-widgets/base",
      "model_module_version": "1.2.0",
      "model_name": "LayoutModel",
      "state": {}
     },
     "38b079cb4e694b4c8594a5d48b89579f": {
      "model_module": "@jupyter-widgets/output",
      "model_module_version": "1.0.0",
      "model_name": "OutputModel",
      "state": {
       "layout": "IPY_MODEL_096551c0479b4a98997683bdbd62bcec",
       "outputs": [
        {
         "data": {
          "application/vnd.jupyter.widget-view+json": {
           "model_id": "cd73cec948b0490aa1e5505f66c88939",
           "version_major": 2,
           "version_minor": 0
          },
          "text/plain": "  0%|          | 0/1000 [00:00<?, ?it/s]"
         },
         "metadata": {},
         "output_type": "display_data"
        }
       ]
      }
     },
     "3d3af91b9ff5400f94015d8a63f1be36": {
      "model_module": "@jupyter-widgets/output",
      "model_module_version": "1.0.0",
      "model_name": "OutputModel",
      "state": {
       "layout": "IPY_MODEL_497f1adbec8e4de088c61ffa948c2775",
       "outputs": [
        {
         "data": {
          "text/html": "<div>\n<style scoped>\n    .dataframe tbody tr th:only-of-type {\n        vertical-align: middle;\n    }\n\n    .dataframe tbody tr th {\n        vertical-align: top;\n    }\n\n    .dataframe thead th {\n        text-align: right;\n    }\n</style>\n<table border=\"1\" class=\"dataframe\">\n  <thead>\n    <tr style=\"text-align: right;\">\n      <th></th>\n      <th>val_stress</th>\n      <th>val_stress_spc</th>\n      <th>val_xing</th>\n      <th>val_xing_spc</th>\n      <th>dis_loss</th>\n      <th>gen_loss</th>\n      <th>stress</th>\n      <th>critic</th>\n    </tr>\n  </thead>\n  <tbody>\n    <tr>\n      <th>epoch 360</th>\n      <td>369.52</td>\n      <td>8.23%</td>\n      <td>29.91</td>\n      <td>14.39%</td>\n      <td>1.02e-02</td>\n      <td>3.09e+00</td>\n      <td>-2.57e+02</td>\n      <td>2.34e+01</td>\n    </tr>\n  </tbody>\n</table>\n</div>",
          "text/plain": "          val_stress val_stress_spc val_xing val_xing_spc  dis_loss  gen_loss  \\\nepoch 360     369.52          8.23%    29.91       14.39%  1.02e-02  3.09e+00   \n\n              stress    critic  \nepoch 360  -2.57e+02  2.34e+01  "
         },
         "metadata": {},
         "output_type": "display_data"
        }
       ]
      }
     },
     "3d3b975bc7864665a234d53010273d6d": {
      "model_module": "@jupyter-widgets/base",
      "model_module_version": "1.2.0",
      "model_name": "LayoutModel",
      "state": {}
     },
     "3de75d7976024b7887643a88760d5368": {
      "model_module": "@jupyter-widgets/controls",
      "model_module_version": "1.5.0",
      "model_name": "FloatProgressModel",
      "state": {
       "bar_style": "success",
       "layout": "IPY_MODEL_0906642ebf624f119e1d414b8b223de7",
       "max": 1000,
       "style": "IPY_MODEL_005a687ffb224c3fb1dc1b585b586d69",
       "value": 1000
      }
     },
     "46ebab2c72514a6db99945d1d3562708": {
      "model_module": "@jupyter-widgets/controls",
      "model_module_version": "1.5.0",
      "model_name": "DescriptionStyleModel",
      "state": {
       "description_width": ""
      }
     },
     "497f1adbec8e4de088c61ffa948c2775": {
      "model_module": "@jupyter-widgets/base",
      "model_module_version": "1.2.0",
      "model_name": "LayoutModel",
      "state": {}
     },
     "575457c4d0ef45f89ef4eb94c1359263": {
      "model_module": "@jupyter-widgets/base",
      "model_module_version": "1.2.0",
      "model_name": "LayoutModel",
      "state": {}
     },
     "5c57dabe63464e67954a947ccf3cc52c": {
      "model_module": "@jupyter-widgets/controls",
      "model_module_version": "1.5.0",
      "model_name": "VBoxModel",
      "state": {
       "children": [
        "IPY_MODEL_38b079cb4e694b4c8594a5d48b89579f",
        "IPY_MODEL_3d3af91b9ff5400f94015d8a63f1be36"
       ],
       "layout": "IPY_MODEL_901853ff68fc45478c0a3a4b3e5f99ed"
      }
     },
     "617a3541097f4470a08c23f1938ca8d9": {
      "model_module": "@jupyter-widgets/controls",
      "model_module_version": "1.5.0",
      "model_name": "FloatProgressModel",
      "state": {
       "bar_style": "success",
       "layout": "IPY_MODEL_01981be3aa13405b8ce2bdaaeecb1533",
       "max": 1000,
       "style": "IPY_MODEL_d581fe64de1945f2badbefbc015efabc",
       "value": 1000
      }
     },
     "63a9a10d35584be6a37cb2f9a8c0882a": {
      "model_module": "@jupyter-widgets/base",
      "model_module_version": "1.2.0",
      "model_name": "LayoutModel",
      "state": {}
     },
     "6851cf04be184d0da6ec43b493a8304f": {
      "model_module": "@jupyter-widgets/controls",
      "model_module_version": "1.5.0",
      "model_name": "ProgressStyleModel",
      "state": {
       "description_width": ""
      }
     },
     "6eb48eb214fa4215adccf61b87fd4fbc": {
      "model_module": "@jupyter-widgets/base",
      "model_module_version": "1.2.0",
      "model_name": "LayoutModel",
      "state": {
       "height": "500px",
       "overflow_y": "auto"
      }
     },
     "72aae7c912044e2190449580f67ca69a": {
      "model_module": "@jupyter-widgets/controls",
      "model_module_version": "1.5.0",
      "model_name": "HTMLModel",
      "state": {
       "layout": "IPY_MODEL_2b1d6654eb5644658f7333c1c7c96a62",
       "style": "IPY_MODEL_46ebab2c72514a6db99945d1d3562708",
       "value": " 1000/1000 [00:51&lt;00:00, 18.03it/s]"
      }
     },
     "73aced0de7324d6390fa8ebaaff1f83c": {
      "model_module": "@jupyter-widgets/controls",
      "model_module_version": "1.5.0",
      "model_name": "HTMLModel",
      "state": {
       "layout": "IPY_MODEL_a256b50a2ba040eaa701032e07ea8dcc",
       "style": "IPY_MODEL_9b3f6854fef24d57b67b32f51e782b5a",
       "value": " 11531/11531 [00:00&lt;00:00, 84659.38it/s]"
      }
     },
     "8058f21ef96f43b48748ad2685662b69": {
      "model_module": "@jupyter-widgets/base",
      "model_module_version": "1.2.0",
      "model_name": "LayoutModel",
      "state": {}
     },
     "8370aca861224115ad19e9e5fa94efb4": {
      "model_module": "@jupyter-widgets/controls",
      "model_module_version": "1.5.0",
      "model_name": "HTMLModel",
      "state": {
       "layout": "IPY_MODEL_63a9a10d35584be6a37cb2f9a8c0882a",
       "style": "IPY_MODEL_dd781a9159124f9ea2b67081d473a151",
       "value": " 120/1000 [00:20&lt;02:33,  5.74it/s]"
      }
     },
     "83a99c617c504f789be7c8daca814fde": {
      "model_module": "@jupyter-widgets/controls",
      "model_module_version": "1.5.0",
      "model_name": "HTMLModel",
      "state": {
       "layout": "IPY_MODEL_d13887d8efca46cf86e427fcaab14821",
       "style": "IPY_MODEL_e216543b14214a919953be4bb4954165",
       "value": "100%"
      }
     },
     "84b7b551d89e4ee6b095150333c43ab3": {
      "model_module": "@jupyter-widgets/output",
      "model_module_version": "1.0.0",
      "model_name": "OutputModel",
      "state": {
       "layout": "IPY_MODEL_decd45c252704d0fbf07394e705f2427",
       "outputs": [
        {
         "data": {
          "image/png": "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\n",
          "text/plain": "<Figure size 432x288 with 1 Axes>"
         },
         "metadata": {},
         "output_type": "display_data"
        },
        {
         "data": {
          "image/png": "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\n",
          "text/plain": "<Figure size 432x288 with 1 Axes>"
         },
         "metadata": {},
         "output_type": "display_data"
        }
       ]
      }
     },
     "8f437ee0b7c8478abbcb6157f7c9e2d6": {
      "model_module": "@jupyter-widgets/base",
      "model_module_version": "1.2.0",
      "model_name": "LayoutModel",
      "state": {}
     },
     "901853ff68fc45478c0a3a4b3e5f99ed": {
      "model_module": "@jupyter-widgets/base",
      "model_module_version": "1.2.0",
      "model_name": "LayoutModel",
      "state": {}
     },
     "9b2dd3398f78441eb879b20a372cad51": {
      "model_module": "@jupyter-widgets/output",
      "model_module_version": "1.0.0",
      "model_name": "OutputModel",
      "state": {
       "layout": "IPY_MODEL_06f84e7de5174df0be97749643da696a",
       "outputs": [
        {
         "name": "stdout",
         "output_type": "stream",
         "text": "[359] stress=393.62(9.53%) xing=29.53(13.47%)\n[360] stress=369.52(8.23%) xing=29.91(14.39%)\n"
        }
       ]
      }
     },
     "9b3f6854fef24d57b67b32f51e782b5a": {
      "model_module": "@jupyter-widgets/controls",
      "model_module_version": "1.5.0",
      "model_name": "DescriptionStyleModel",
      "state": {
       "description_width": ""
      }
     },
     "9ff7f0cc79ac48f5a1aee7bfc9e1ed0a": {
      "model_module": "@jupyter-widgets/controls",
      "model_module_version": "1.5.0",
      "model_name": "HBoxModel",
      "state": {
       "children": [
        "IPY_MODEL_dff150210d53437c833486eba9b31479",
        "IPY_MODEL_debd2ad276904d70a806aba4536f15e8",
        "IPY_MODEL_73aced0de7324d6390fa8ebaaff1f83c"
       ],
       "layout": "IPY_MODEL_575457c4d0ef45f89ef4eb94c1359263"
      }
     },
     "a065143ed9814acf8b39041f1d0227fa": {
      "model_module": "@jupyter-widgets/controls",
      "model_module_version": "1.5.0",
      "model_name": "DescriptionStyleModel",
      "state": {
       "description_width": ""
      }
     },
     "a256b50a2ba040eaa701032e07ea8dcc": {
      "model_module": "@jupyter-widgets/base",
      "model_module_version": "1.2.0",
      "model_name": "LayoutModel",
      "state": {}
     },
     "aae48f943e494037ac43d92497c168bb": {
      "model_module": "@jupyter-widgets/controls",
      "model_module_version": "1.5.0",
      "model_name": "HBoxModel",
      "state": {
       "children": [
        "IPY_MODEL_b837fe1931f2496884cb4981c3dc3306",
        "IPY_MODEL_3de75d7976024b7887643a88760d5368",
        "IPY_MODEL_72aae7c912044e2190449580f67ca69a"
       ],
       "layout": "IPY_MODEL_beafa011afd049f9ad4d08e4103f4133"
      }
     },
     "ade4bef8123849ef8fbf436175c75082": {
      "model_module": "@jupyter-widgets/base",
      "model_module_version": "1.2.0",
      "model_name": "LayoutModel",
      "state": {}
     },
     "b0980ad5ae82479badf88df668f3961f": {
      "model_module": "@jupyter-widgets/base",
      "model_module_version": "1.2.0",
      "model_name": "LayoutModel",
      "state": {
       "height": "500px",
       "overflow_y": "auto"
      }
     },
     "b36673a0560443f9a83d6281a5317816": {
      "model_module": "@jupyter-widgets/controls",
      "model_module_version": "1.5.0",
      "model_name": "HTMLModel",
      "state": {
       "layout": "IPY_MODEL_ade4bef8123849ef8fbf436175c75082",
       "style": "IPY_MODEL_e402dc2e11bd4b44850e7ad75ff04cb6",
       "value": "[epoch 360/None]:  12%"
      }
     },
     "b414c7d34ae945baaa2b897e354f6628": {
      "model_module": "@jupyter-widgets/controls",
      "model_module_version": "1.5.0",
      "model_name": "HBoxModel",
      "state": {
       "children": [
        "IPY_MODEL_84b7b551d89e4ee6b095150333c43ab3"
       ],
       "layout": "IPY_MODEL_6eb48eb214fa4215adccf61b87fd4fbc"
      }
     },
     "b837fe1931f2496884cb4981c3dc3306": {
      "model_module": "@jupyter-widgets/controls",
      "model_module_version": "1.5.0",
      "model_name": "HTMLModel",
      "state": {
       "layout": "IPY_MODEL_8f437ee0b7c8478abbcb6157f7c9e2d6",
       "style": "IPY_MODEL_c3ef5c5955d1402bb736784ab76bfa66",
       "value": "100%"
      }
     },
     "beafa011afd049f9ad4d08e4103f4133": {
      "model_module": "@jupyter-widgets/base",
      "model_module_version": "1.2.0",
      "model_name": "LayoutModel",
      "state": {}
     },
     "c3ef5c5955d1402bb736784ab76bfa66": {
      "model_module": "@jupyter-widgets/controls",
      "model_module_version": "1.5.0",
      "model_name": "DescriptionStyleModel",
      "state": {
       "description_width": ""
      }
     },
     "c4c7837483454067bb194c3de6210a08": {
      "model_module": "@jupyter-widgets/controls",
      "model_module_version": "1.5.0",
      "model_name": "HBoxModel",
      "state": {
       "children": [
        "IPY_MODEL_9b2dd3398f78441eb879b20a372cad51"
       ],
       "layout": "IPY_MODEL_b0980ad5ae82479badf88df668f3961f"
      }
     },
     "c599ff2b46dc4dce982550f862650e15": {
      "model_module": "@jupyter-widgets/base",
      "model_module_version": "1.2.0",
      "model_name": "LayoutModel",
      "state": {}
     },
     "c7daf1e1796743c1bbbbffe49ef86393": {
      "model_module": "@jupyter-widgets/controls",
      "model_module_version": "1.5.0",
      "model_name": "HBoxModel",
      "state": {
       "children": [
        "IPY_MODEL_83a99c617c504f789be7c8daca814fde",
        "IPY_MODEL_617a3541097f4470a08c23f1938ca8d9",
        "IPY_MODEL_cedeb398144e48e49c755a1e8997f122"
       ],
       "layout": "IPY_MODEL_f0919c0fdf0b4015bd0355479bda40f6"
      }
     },
     "cb6f91e513d340b2aa6e154474930eca": {
      "model_module": "@jupyter-widgets/base",
      "model_module_version": "1.2.0",
      "model_name": "LayoutModel",
      "state": {}
     },
     "cd73cec948b0490aa1e5505f66c88939": {
      "model_module": "@jupyter-widgets/controls",
      "model_module_version": "1.5.0",
      "model_name": "HBoxModel",
      "state": {
       "children": [
        "IPY_MODEL_b36673a0560443f9a83d6281a5317816",
        "IPY_MODEL_1989e6148af04aebb2a9850a5429366e",
        "IPY_MODEL_8370aca861224115ad19e9e5fa94efb4"
       ],
       "layout": "IPY_MODEL_cb6f91e513d340b2aa6e154474930eca"
      }
     },
     "cedeb398144e48e49c755a1e8997f122": {
      "model_module": "@jupyter-widgets/controls",
      "model_module_version": "1.5.0",
      "model_name": "HTMLModel",
      "state": {
       "layout": "IPY_MODEL_8058f21ef96f43b48748ad2685662b69",
       "style": "IPY_MODEL_275452a3dbf84778b257869a86ed1194",
       "value": " 1000/1000 [00:52&lt;00:00, 22.02it/s]"
      }
     },
     "d13887d8efca46cf86e427fcaab14821": {
      "model_module": "@jupyter-widgets/base",
      "model_module_version": "1.2.0",
      "model_name": "LayoutModel",
      "state": {}
     },
     "d581fe64de1945f2badbefbc015efabc": {
      "model_module": "@jupyter-widgets/controls",
      "model_module_version": "1.5.0",
      "model_name": "ProgressStyleModel",
      "state": {
       "description_width": ""
      }
     },
     "dd781a9159124f9ea2b67081d473a151": {
      "model_module": "@jupyter-widgets/controls",
      "model_module_version": "1.5.0",
      "model_name": "DescriptionStyleModel",
      "state": {
       "description_width": ""
      }
     },
     "debd2ad276904d70a806aba4536f15e8": {
      "model_module": "@jupyter-widgets/controls",
      "model_module_version": "1.5.0",
      "model_name": "FloatProgressModel",
      "state": {
       "bar_style": "success",
       "layout": "IPY_MODEL_121ab52138d24fe5a97c7c3c0f41a337",
       "max": 11531,
       "style": "IPY_MODEL_6851cf04be184d0da6ec43b493a8304f",
       "value": 11531
      }
     },
     "decd45c252704d0fbf07394e705f2427": {
      "model_module": "@jupyter-widgets/base",
      "model_module_version": "1.2.0",
      "model_name": "LayoutModel",
      "state": {}
     },
     "dff150210d53437c833486eba9b31479": {
      "model_module": "@jupyter-widgets/controls",
      "model_module_version": "1.5.0",
      "model_name": "HTMLModel",
      "state": {
       "layout": "IPY_MODEL_c599ff2b46dc4dce982550f862650e15",
       "style": "IPY_MODEL_a065143ed9814acf8b39041f1d0227fa",
       "value": "100%"
      }
     },
     "e216543b14214a919953be4bb4954165": {
      "model_module": "@jupyter-widgets/controls",
      "model_module_version": "1.5.0",
      "model_name": "DescriptionStyleModel",
      "state": {
       "description_width": ""
      }
     },
     "e402dc2e11bd4b44850e7ad75ff04cb6": {
      "model_module": "@jupyter-widgets/controls",
      "model_module_version": "1.5.0",
      "model_name": "DescriptionStyleModel",
      "state": {
       "description_width": ""
      }
     },
     "f0919c0fdf0b4015bd0355479bda40f6": {
      "model_module": "@jupyter-widgets/base",
      "model_module_version": "1.2.0",
      "model_name": "LayoutModel",
      "state": {}
     }
    },
    "version_major": 2,
    "version_minor": 0
   }
  }
 },
 "nbformat": 4,
 "nbformat_minor": 4
}
