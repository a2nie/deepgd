{
 "cells": [
  {
   "cell_type": "markdown",
   "metadata": {
    "id": "wZtYFEhHoBGp"
   },
   "source": [
    "# Import libraries"
   ]
  },
  {
   "cell_type": "code",
   "execution_count": 1,
   "metadata": {
    "id": "KJPfzpxLQI5O"
   },
   "outputs": [],
   "source": [
    "%load_ext autoreload\n",
    "%autoreload 2\n",
    "from deepgd import *"
   ]
  },
  {
   "cell_type": "markdown",
   "metadata": {
    "id": "z4eBEyB1oaJe"
   },
   "source": [
    "# Config"
   ]
  },
  {
   "cell_type": "code",
   "execution_count": 2,
   "metadata": {
    "id": "Q_-MLFhpNvxF"
   },
   "outputs": [],
   "source": [
    "cuda_idx = 0\n",
    "canonicalization = CanonicalizationByStress()\n",
    "config = StaticConfig({\n",
    "    \"name\": 'GAN(gan=rgan,data=best(xing,stress),canon=stress,share=16,embed=0)',\n",
    "    \"uid\": None,\n",
    "    \"link\": None,\n",
    "    \"generator\": {\n",
    "        \"params\": {\n",
    "            \"num_blocks\": 9,\n",
    "            \"normalize\": canonicalization\n",
    "        },\n",
    "        \"pretrained\": {\n",
    "            \"name\": None,\n",
    "            \"epoch\": -1,\n",
    "        },\n",
    "        \"optim\": torch.optim.AdamW,\n",
    "        \"lr\" : {\n",
    "            \"initial\": 1e-3,\n",
    "            \"decay\": 0.99,\n",
    "        },\n",
    "    },\n",
    "    \"discriminator\": {\n",
    "        \"params\": {\n",
    "            \"conv\": [2, 16, 16, 16],\n",
    "            \"dense\": [2],\n",
    "            \"shared_depth\": 16,\n",
    "            \"enet_depth\": 0,\n",
    "            \"enet_width\": 64,\n",
    "            \"aggr\": \"add\",\n",
    "            \"normalize\": canonicalization\n",
    "        },\n",
    "        \"pretrained\": {\n",
    "            \"name\": None,\n",
    "            \"epoch\": -1,\n",
    "        },\n",
    "        \"optim\": torch.optim.AdamW,\n",
    "        \"lr\" : {\n",
    "            \"initial\": 1e-3,\n",
    "            \"decay\": 0.99,\n",
    "        },\n",
    "        \"noise\": {\n",
    "            \"std\": 0,\n",
    "            \"decay\": 0.95,\n",
    "        },\n",
    "        \"repeat\": 1,\n",
    "        \"complete\": True,\n",
    "        \"adaptive\": True\n",
    "    },\n",
    "    \"alternate\": \"epoch\",\n",
    "    \"batchsize\": 24,\n",
    "    \"epoch\": {\n",
    "        \"start\": -1,\n",
    "        \"end\": None,\n",
    "    },\n",
    "    \"log_interval\": 1,\n",
    "    \"test\": {\n",
    "        \"name\": \"test\",\n",
    "        \"epoch\": -1,\n",
    "    },\n",
    "    \"gan_flavor\": \"rgan\",\n",
    "    \"gp_weight\": 0,\n",
    "})\n",
    "data_config = StaticConfig({\n",
    "    \"sparse\": False,\n",
    "    \"pivot\": None,\n",
    "    \"init\": \"pmds\",\n",
    "    \"edge\": {\n",
    "        \"index\": \"full_edge_index\",\n",
    "        \"attr\": \"full_edge_attr\",\n",
    "    },\n",
    "})\n",
    "loss_fns = {\n",
    "    Stress(): 1\n",
    "}\n",
    "ctrler_params = {\n",
    "    \"tau\": 0.95,\n",
    "    \"beta\": 1,\n",
    "    \"exploit_rate\": 0.5,\n",
    "    \"warmup\": 2,\n",
    "}\n",
    "paths = StaticConfig({\n",
    "    \"root\": \"artifacts\",\n",
    "    \"checkpoints\": lambda: f\"{paths.root}/checkpoints/{config.name}\",\n",
    "    \"gen_pretrain\": lambda: f\"{paths.root}/checkpoints/{config.generator.pretrained.name}\",\n",
    "    \"dis_pretrain\": lambda: f\"{paths.root}/checkpoints/{config.discriminator.pretrained.name}\",\n",
    "    \"tensorboard\": lambda: f\"{paths.root}/tensorboards/{config.name}\",\n",
    "    \"visualization\": lambda: f\"{paths.root}/visualizations/{config.name}_{config.test.name}\",\n",
    "    \"log\": lambda: f\"{paths.root}/logs/{config.name}.log\",\n",
    "    \"metrics\": lambda suffix: f\"{paths.root}/metrics/{config.name}_{suffix}.pickle\",\n",
    "})"
   ]
  },
  {
   "cell_type": "code",
   "execution_count": 3,
   "metadata": {
    "id": "mdMEAbH10Qaq"
   },
   "outputs": [],
   "source": [
    "if \" \" in config.name:\n",
    "    raise Exception(\"Space is not allowed in model name.\")"
   ]
  },
  {
   "cell_type": "markdown",
   "metadata": {
    "id": "WynW4ZAdBhep"
   },
   "source": [
    "# Prepare"
   ]
  },
  {
   "cell_type": "markdown",
   "metadata": {
    "id": "DR6-vYtr_i_P"
   },
   "source": [
    "## Get log command"
   ]
  },
  {
   "cell_type": "code",
   "execution_count": 4,
   "metadata": {
    "colab": {
     "base_uri": "https://localhost:8080/"
    },
    "id": "9-QpinlslcTO",
    "outputId": "48ae3716-212c-4d46-9efb-b7b4070f73de"
   },
   "outputs": [
    {
     "name": "stdout",
     "output_type": "stream",
     "text": [
      "cd /users/PAS0027/osu10203/deepgd && tail -n1000 -f 'artifacts/logs/GAN(gan=rgan,data=best(xing,stress),canon=stress,share=16,embed=0).log'\n"
     ]
    }
   ],
   "source": [
    "print(f\"cd {os.getcwd()} && tail -n1000 -f '{paths.log()}'\")"
   ]
  },
  {
   "cell_type": "code",
   "execution_count": 5,
   "metadata": {},
   "outputs": [
    {
     "name": "stdout",
     "output_type": "stream",
     "text": [
      "tensorboard dev upload --logdir 'artifacts/tensorboards/GAN(gan=rgan,data=best(xing,stress),canon=stress,share=16,embed=0)'\n"
     ]
    }
   ],
   "source": [
    "print(f\"tensorboard dev upload --logdir '{paths.tensorboard()}'\")"
   ]
  },
  {
   "cell_type": "markdown",
   "metadata": {
    "id": "innqkwvH_ydD"
   },
   "source": [
    "## Set globals"
   ]
  },
  {
   "cell_type": "code",
   "execution_count": 6,
   "metadata": {
    "id": "Qjq7JlSZlkQR"
   },
   "outputs": [],
   "source": [
    "if cuda_idx is not None and torch.cuda.is_available():\n",
    "    device = f'cuda:{cuda_idx}'\n",
    "    pynvml.nvmlInit()\n",
    "    cuda = pynvml.nvmlDeviceGetHandleByIndex(cuda_idx)\n",
    "else:\n",
    "    device = 'cpu'\n",
    "    cuda =  None\n",
    "np.set_printoptions(precision=2)\n",
    "warnings.filterwarnings(\"ignore\", category=RuntimeWarning)"
   ]
  },
  {
   "cell_type": "markdown",
   "metadata": {
    "id": "0da286l_ApEL"
   },
   "source": [
    "## Load data"
   ]
  },
  {
   "cell_type": "code",
   "execution_count": 7,
   "metadata": {
    "colab": {
     "base_uri": "https://localhost:8080/"
    },
    "id": "RFuSHiZJMU4x",
    "outputId": "54065609-aaea-4536-d79c-73bc73b3f576"
   },
   "outputs": [
    {
     "name": "stdout",
     "output_type": "stream",
     "text": [
      "Load from 'cache/G_list.pickle'\n",
      "Load from 'cache/generate_data_list(list,sparse=False,pivot_mode=None,init_mode=pmds,edge_index=full_edge_index,edge_attr=full_edge_attr,pmds_list=ndarray,gviz_list=ndarray,noisy_layout=True,device=cpu).pickle'\n"
     ]
    },
    {
     "name": "stderr",
     "output_type": "stream",
     "text": [
      "/users/PAS0027/osu10203/.conda/envs/deepgd/lib/python3.9/site-packages/torch_geometric/deprecation.py:13: UserWarning: 'data.DataLoader' is deprecated, use 'loader.DataLoader' instead\n",
      "  warnings.warn(out)\n"
     ]
    }
   ],
   "source": [
    "G_list = load_G_list(data_path='data/rome', index_file='data_index.txt', cache='G_list', cache_prefix='cache/')\n",
    "data_list = generate_data_list(G_list, \n",
    "                               sparse=data_config.sparse, \n",
    "                               pivot_mode=data_config.pivot,\n",
    "                               init_mode=data_config.init,\n",
    "                               edge_index=data_config.edge.index,\n",
    "                               edge_attr=data_config.edge.attr,\n",
    "                               pmds_list=np.load('layouts/rome/pmds.npy', allow_pickle=True),\n",
    "                               gviz_list=np.load('layouts/rome/gviz.npy', allow_pickle=True),\n",
    "                               noisy_layout=True,\n",
    "                               device='cpu', \n",
    "                               cache=True,\n",
    "                               cache_prefix='cache/')\n",
    "train_loader = LazyDeviceMappingDataLoader(data_list[:10000], batch_size=config.batchsize, shuffle=True, device=device)\n",
    "val_loader = LazyDeviceMappingDataLoader(data_list[11000:], batch_size=config.batchsize, shuffle=False, device=device)"
   ]
  },
  {
   "cell_type": "code",
   "execution_count": 8,
   "metadata": {
    "id": "djd1pLt2OxZq"
   },
   "outputs": [],
   "source": [
    "def draw_layout(G, method, draw=True):\n",
    "    if method == 'fa2':\n",
    "        layout = get_fa2_layout(G)\n",
    "    else:\n",
    "        try:\n",
    "            fn = getattr(nx.drawing.layout, f'{method}_layout')\n",
    "            layout = fn(G)\n",
    "        except:\n",
    "            layout = nx.drawing.nx_agraph.graphviz_layout(G, prog=method)\n",
    "    if draw:\n",
    "        nx.draw(G, pos=layout)\n",
    "    return layout"
   ]
  },
  {
   "cell_type": "code",
   "execution_count": 9,
   "metadata": {
    "id": "2vBBw77lR7Em"
   },
   "outputs": [],
   "source": [
    "methods = ['neato', 'dot', 'fdp', 'sfdp', 'twopi', 'circo', 'shell', 'spring', 'circular', 'spectral', 'kamada_kawai', 'fa2', 'pmds']"
   ]
  },
  {
   "cell_type": "code",
   "execution_count": 10,
   "metadata": {
    "id": "dx6VVA9XIc2O"
   },
   "outputs": [],
   "source": [
    "from functools import lru_cache\n",
    "\n",
    "@lru_cache(maxsize=None)\n",
    "def load_pos(method):\n",
    "    return np.load(f'layouts/rome/{method}.npy', allow_pickle=True)"
   ]
  },
  {
   "cell_type": "code",
   "execution_count": 11,
   "metadata": {
    "colab": {
     "base_uri": "https://localhost:8080/",
     "height": 1000,
     "referenced_widgets": [
      "05a37aeeb20049dfa2f97287b3990556",
      "a75afae3adfd4810a0b0991a062535ee",
      "a24ae105ed124595992f7e2e5f909247",
      "01b4cabaf8004dd4b9269b4e6889c498",
      "f3c7c84f2b314bd8b97a7358deaf4fa1",
      "35e4a83e692b4a7bafb46fdf192b2586",
      "62847b5e2678459f845159eef6d4feab",
      "143e81f00313436dacfa246a57108944",
      "e05833f11803400b95ff22246cdc8f2b",
      "53aeede91e074378b5d7f626165655ee",
      "79a43768c1794a10a788a49e5883aa2c"
     ]
    },
    "id": "MSmP-jem9I0X",
    "outputId": "c698f0bf-e96e-4de9-aeda-0b046fc0a03f",
    "scrolled": true,
    "tags": []
   },
   "outputs": [],
   "source": [
    "# best_list = []\n",
    "# best_layout_list = []\n",
    "# for idx, (G, data) in enumerate(zip(tqdm(G_list), data_list)):\n",
    "#     xing, stress, layout = {}, {}, {}\n",
    "#     for m in methods:\n",
    "#         batch = Batch.from_data_list([data])\n",
    "#         pos = load_pos(m)\n",
    "#         p = CanonicalizationByStress()(torch.tensor(pos[idx]).float(), batch)\n",
    "#         x = Xing()(p, batch).item()\n",
    "#         s = Stress()(p, batch).item()\n",
    "#         xing[m] = x\n",
    "#         stress[m] = s\n",
    "#         layout[m] = p.numpy()\n",
    "#         # plt.figure()\n",
    "#         # graph_vis(G, pos[idx])\n",
    "#         # plt.title(f'{m} stress={s:.2f} xing={x}')\n",
    "#     best, *_ = sorted(methods, key=lambda m: (xing[m], stress[m]))\n",
    "#     best_list.append(best)\n",
    "#     best_layout_list.append(layout[best])\n",
    "#     print(f'{best}, xing={xing[best]}, stress={stress[best]:.2f}')"
   ]
  },
  {
   "cell_type": "code",
   "execution_count": 12,
   "metadata": {
    "colab": {
     "base_uri": "https://localhost:8080/"
    },
    "id": "Mx2bZNugdTqa",
    "outputId": "cec05a67-18e8-492f-aaa1-057274a8341a"
   },
   "outputs": [],
   "source": [
    "# pickle.dump(best_list, open('layouts/rome/best[xing,stress].pkl', 'wb'))\n",
    "# np.save('layouts/rome/best[xing,stress].npy', best_layout_list)"
   ]
  },
  {
   "cell_type": "code",
   "execution_count": 13,
   "metadata": {
    "colab": {
     "base_uri": "https://localhost:8080/",
     "height": 49,
     "referenced_widgets": [
      "7e0ae84dd0f3458d893c81b029fe1729",
      "18bdc3bf80fb434abde68de5b72a8870",
      "2e3552ded9594635a51832387ae754a0",
      "54f4aa5080c6498080a63be2cdeefee5",
      "3937586d0879451da5e2138ca3bfd0a0",
      "a9df6e84ce8c499eb2b2cf984995d791",
      "7af6b718dd3d4e01b264377a2fa938e2",
      "a774c86e64004bd6951645f1c24abad4",
      "c86575117cd041f2837762f37d1f387b",
      "6e9907cefb1241688fbd248b8281ed9f",
      "9b8e5405d8264944acab57e81f2f5ad6"
     ]
    },
    "id": "A1-w1fspC53p",
    "outputId": "09c2d5c3-1eef-41eb-dcee-581af1294804"
   },
   "outputs": [
    {
     "data": {
      "application/vnd.jupyter.widget-view+json": {
       "model_id": "db8f222c478b4dee9e081b28199e35df",
       "version_major": 2,
       "version_minor": 0
      },
      "text/plain": [
       "  0%|          | 0/11531 [00:00<?, ?it/s]"
      ]
     },
     "metadata": {},
     "output_type": "display_data"
    }
   ],
   "source": [
    "best_layout_list = np.load('layouts/rome/best[xing,stress].npy', allow_pickle=True)\n",
    "for data, layout in zip(tqdm(data_list), best_layout_list):\n",
    "    data.gt_pos = torch.tensor(layout)"
   ]
  },
  {
   "cell_type": "code",
   "execution_count": 14,
   "metadata": {
    "id": "y6EGh4U7exL_"
   },
   "outputs": [],
   "source": [
    "train_loader = LazyDeviceMappingDataLoader(data_list[:10000], batch_size=config.batchsize, shuffle=True, device=device)\n",
    "val_loader = LazyDeviceMappingDataLoader(data_list[11000:], batch_size=config.batchsize, shuffle=False, device=device)"
   ]
  },
  {
   "cell_type": "code",
   "execution_count": 15,
   "metadata": {
    "colab": {
     "base_uri": "https://localhost:8080/",
     "height": 103,
     "referenced_widgets": [
      "38a33cf69aff48f4aabd4902a7ce48b1",
      "57e277bcb44c4e2fa2a12105d75153d1",
      "20ce017c46bd4a7c9b420270ac579405",
      "13f2df4fe0ce4af88b6e3bd1637065b0",
      "2867faa145ca4860a198d4d0bf830f89",
      "02838cf669174ed9afa41a1a8e680765",
      "7e9e3c031667455f8baca163d3a213e5",
      "4000135e7dfa46529fa6244fccc5cb57",
      "e523e9faac5b4ec38643c05ac5ba99f7",
      "e8e3ee9741e4480dae5003ccc19a7891",
      "9a569045221b43acb3ba2fbf116b2c74"
     ]
    },
    "id": "YEfRRUK0NiNm",
    "outputId": "93f53d05-7667-4cda-a38e-c3a953124f79"
   },
   "outputs": [],
   "source": [
    "# for m in methods:\n",
    "#     layouts = []\n",
    "#     for G in tqdm(G_list):\n",
    "#         layout = draw_layout(G, method=m, draw=False)\n",
    "#         layouts.append(np.array(list(layout.values())))\n",
    "#     np.save(f'layouts/rome/{m}.npy', layouts)"
   ]
  },
  {
   "cell_type": "code",
   "execution_count": 16,
   "metadata": {
    "colab": {
     "base_uri": "https://localhost:8080/",
     "height": 564
    },
    "id": "upK7AHYqPmC5",
    "outputId": "29a88e61-f55f-409c-9194-12c6d5762528"
   },
   "outputs": [],
   "source": [
    "# from collections import Counter\n",
    "\n",
    "# letter_counts = Counter(best_list)\n",
    "# df = pd.DataFrame.from_dict(letter_counts, orient='index')\n",
    "# df.plot(kind='bar', figsize=[12, 8])"
   ]
  },
  {
   "cell_type": "markdown",
   "metadata": {
    "id": "f-ODE2k8BFV6"
   },
   "source": [
    "## Create folders"
   ]
  },
  {
   "cell_type": "code",
   "execution_count": 17,
   "metadata": {
    "id": "3ykUMINYBRog"
   },
   "outputs": [],
   "source": [
    "mkdirs(paths.checkpoints(), paths.tensorboard(), paths.visualization(), f\"{paths.root}/logs\", f\"{paths.root}/metrics\")"
   ]
  },
  {
   "cell_type": "markdown",
   "metadata": {
    "id": "BFq9k5nzBIh5"
   },
   "source": [
    "## Load checkpoints"
   ]
  },
  {
   "cell_type": "code",
   "execution_count": 18,
   "metadata": {
    "id": "W5NbsKkobIfA"
   },
   "outputs": [],
   "source": [
    "class EdgeFeatureDiscriminator(nn.Module):\n",
    "    def __init__(self, \n",
    "                 conv, \n",
    "                 dense,\n",
    "                 shared_depth,\n",
    "                 enet_depth,\n",
    "                 enet_width,\n",
    "                 aggr='add', \n",
    "                 root_weight=True,\n",
    "                 normalize=None):\n",
    "        super().__init__()\n",
    "        self.enet = nn.Sequential(*[\n",
    "            DenseLayer(in_dim=in_d,\n",
    "                       out_dim=out_d,\n",
    "                       skip=nonlin,\n",
    "                       bn=nonlin,\n",
    "                       act=nonlin,\n",
    "                       dp=None)\n",
    "            for in_d, out_d, nonlin \n",
    "            in zip([self._get_feature_dim()] + [enet_width] * (shared_depth-1),\n",
    "                   [enet_width] * shared_depth,\n",
    "                   [True] * (shared_depth-1) + [False])     \n",
    "        ])\n",
    "        self.blocks = nn.ModuleList([\n",
    "            GNNLayer(nfeat_dims=(in_d, out_d),\n",
    "                     efeat_dim=enet_width,\n",
    "                     edge_net=EdgeNet(nfeat_dims=(in_d, out_d), \n",
    "                                      efeat_dim=enet_width, \n",
    "                                      depth=enet_depth, \n",
    "                                      width=enet_width),\n",
    "                     aggr=aggr,\n",
    "                     dense=False,\n",
    "                     skip=nonlin,\n",
    "                     bn=nonlin,\n",
    "                     act=nonlin,\n",
    "                     root_weight=root_weight) \n",
    "            for in_d, out_d, nonlin \n",
    "            in zip(conv[:-1], conv[1:], [True] * (len(conv)-2) + [False])     \n",
    "        ])\n",
    "        self.pool = (gnn.global_mean_pool if aggr == 'mean' \n",
    "                     else gnn.global_add_pool if aggr == 'add' \n",
    "                     else None)\n",
    "        self.dense = nn.Identity() if not dense else nn.Sequential(*[\n",
    "            DenseLayer(in_dim=in_d,\n",
    "                       out_dim=out_d,\n",
    "                       skip=nonlin,\n",
    "                       bn=nonlin,\n",
    "                       act=nonlin,\n",
    "                       dp=None)\n",
    "            for in_d, out_d, nonlin \n",
    "            in zip(conv[-1:] + dense[:-1], dense, [True] * (len(dense)-1) + [False])     \n",
    "        ])\n",
    "        self.normalize = normalize or IdentityTransformation()\n",
    "    \n",
    "    def forward(self, batch):\n",
    "        x = torch.ones_like(batch.pos)\n",
    "        e = self.enet(self._get_features(self._get_edge_info(batch, layout='pos')))\n",
    "        for block in self.blocks:\n",
    "            x = block(x, e, batch)\n",
    "        x = self.pool(x, batch.batch)\n",
    "        x = self.dense(x)\n",
    "        return x\n",
    "    \n",
    "    def _get_edge_info(self, batch, layout='gt_pos'):\n",
    "        pos = self.normalize(batch[layout].float(), batch)\n",
    "        src, dst = get_edges(pos, batch)\n",
    "        v, u = l2_normalize(dst - src, return_norm=True)\n",
    "        d = batch.edge_attr[:, :1]\n",
    "        return {\n",
    "            \"src\": src,\n",
    "            \"dst\": dst,\n",
    "            \"v\": v,\n",
    "            \"u\": u,\n",
    "            \"d\": d,\n",
    "        }\n",
    "\n",
    "    def _get_features(self, edges):\n",
    "        return torch.cat([edges['src'], edges['dst'], edges['d']], dim=1)\n",
    "        \n",
    "    def _get_feature_dim(self):\n",
    "        return self._get_features({\n",
    "            \"src\": torch.zeros(1, 2),\n",
    "            \"dst\": torch.zeros(1, 2),\n",
    "            \"v\": torch.zeros(1, 2),\n",
    "            \"u\": torch.zeros(1, 1),\n",
    "            \"d\": torch.zeros(1, 1),\n",
    "        }).shape[-1]"
   ]
  },
  {
   "cell_type": "code",
   "execution_count": 19,
   "metadata": {
    "id": "96ZActxlL0fJ"
   },
   "outputs": [],
   "source": [
    "class StressDiscriminator(nn.Module):\n",
    "    def __init__(self, normalize=CanonicalizationByStress(), **kwargs):\n",
    "        super().__init__()\n",
    "        self.dummy = nn.Parameter(torch.zeros(1))\n",
    "        self.normalize = normalize\n",
    "        self.stress = Stress(reduce=None)\n",
    "\n",
    "    def forward(self, batch):\n",
    "        return -self.stress(self.normalize(batch.pos, batch), batch)"
   ]
  },
  {
   "cell_type": "code",
   "execution_count": 20,
   "metadata": {
    "id": "IJ6xCYBUuhcw"
   },
   "outputs": [],
   "source": [
    "def get_ckpt_epoch(folder, epoch):\n",
    "    if not os.path.isdir(folder):\n",
    "        os.mkdir(folder)\n",
    "    if epoch >= 0:\n",
    "        return epoch\n",
    "    ckpt_files = os.listdir(folder)\n",
    "    last_epoch = 0\n",
    "    if ckpt_files:\n",
    "        last_epoch = sorted(list(map(lambda x: int(re.search('(?<=epoch_)(\\d+)(?=\\.)', x).group(1)), ckpt_files)))[-1]\n",
    "    return last_epoch + epoch + 1\n",
    "\n",
    "def start_epoch():\n",
    "    return get_ckpt_epoch(paths.checkpoints(), config.epoch.start)"
   ]
  },
  {
   "cell_type": "code",
   "execution_count": 21,
   "metadata": {
    "colab": {
     "base_uri": "https://localhost:8080/"
    },
    "id": "JacDYXka9U01",
    "outputId": "ef4e31ab-2144-497c-8e4f-4d3740ce2d52"
   },
   "outputs": [],
   "source": [
    "generator = Generator(**config.generator.params[...]).to(device)\n",
    "generator_optimizer = config.generator.optim(generator.parameters(), lr=config.generator.lr.initial * config.generator.lr.decay ** start_epoch())\n",
    "generator_scheduler = torch.optim.lr_scheduler.ExponentialLR(generator_optimizer, gamma=config.generator.lr.decay)\n",
    "if start_epoch() != 0:\n",
    "    gen_ckpt_epoch = start_epoch()\n",
    "elif config.generator.pretrained.name is not None and config.generator.pretrained.epoch != 0:\n",
    "    gen_pretrained_epoch = get_ckpt_epoch(paths.gen_pretrain(), config.generator.pretrained.epoch)\n",
    "    gen_ckpt_epoch = gen_pretrained_epoch \n",
    "else:\n",
    "    gen_ckpt_epoch = None\n",
    "if gen_ckpt_epoch is not None:\n",
    "    # Load generator\n",
    "    gen_ckpt_file = f\"{paths.checkpoints()}/gen_epoch_{gen_ckpt_epoch}.pt\"\n",
    "    print(f\"Loading from {gen_ckpt_file}...\")\n",
    "    generator.load_state_dict(torch.load(gen_ckpt_file, map_location=torch.device(device)))\n",
    "    # Load generator optimizer\n",
    "    gen_optim_ckpt_file = f\"{paths.checkpoints()}/gen_optim_epoch_{gen_ckpt_epoch}.pt\"\n",
    "    print(f\"Loading from {gen_optim_ckpt_file}...\")\n",
    "    generator_optimizer.load_state_dict(torch.load(gen_optim_ckpt_file, map_location=torch.device(device)))"
   ]
  },
  {
   "cell_type": "code",
   "execution_count": 22,
   "metadata": {
    "colab": {
     "base_uri": "https://localhost:8080/"
    },
    "id": "oWQhD7-88VXe",
    "outputId": "3ba01600-b546-4e45-a6bd-c7a65af1ae9e"
   },
   "outputs": [],
   "source": [
    "discriminator = EdgeFeatureDiscriminator(**config.discriminator.params[...]).to(device)\n",
    "discriminator_optimizer = config.discriminator.optim(discriminator.parameters(), lr=config.discriminator.lr.initial * config.discriminator.lr.decay ** start_epoch())\n",
    "discriminator_scheduler = torch.optim.lr_scheduler.ExponentialLR(discriminator_optimizer, gamma=config.discriminator.lr.decay)\n",
    "if start_epoch() != 0:\n",
    "    dis_ckpt_epoch = start_epoch()\n",
    "elif config.discriminator.pretrained.name is not None and config.discriminator.pretrained.epoch != 0:\n",
    "    dis_pretrained_epoch = get_ckpt_epoch(paths.dis_pretrain(), config.discriminator.pretrained.epoch)\n",
    "    dis_ckpt_epoch = dis_pretrained_epoch # f\"{paths.dis_pretrain()}/dis_epoch_{dis_pretrained_epoch}.pt\"\n",
    "else:\n",
    "    dis_ckpt_epoch = None\n",
    "if dis_ckpt_epoch is not None:\n",
    "    # Load discriminator\n",
    "    dis_ckpt_file = f\"{paths.checkpoints()}/dis_epoch_{dis_ckpt_epoch}.pt\"\n",
    "    print(f\"Loading from {dis_ckpt_file}...\")\n",
    "    discriminator.load_state_dict(torch.load(dis_ckpt_file, map_location=torch.device(device)))\n",
    "    # Load discriminator optimizer\n",
    "    dis_optim_ckpt_file = f\"{paths.checkpoints()}/dis_optim_epoch_{dis_ckpt_epoch}.pt\"\n",
    "    print(f\"Loading from {dis_optim_ckpt_file}...\")\n",
    "    discriminator_optimizer.load_state_dict(torch.load(dis_optim_ckpt_file, map_location=torch.device(device)))"
   ]
  },
  {
   "cell_type": "markdown",
   "metadata": {
    "id": "N39dDHraedM6"
   },
   "source": [
    "# Train"
   ]
  },
  {
   "cell_type": "code",
   "execution_count": 23,
   "metadata": {
    "id": "BdIJSDSJedM-"
   },
   "outputs": [],
   "source": [
    "stress_criterion = StressDiscriminator().to(device)\n",
    "val_criterion = Stress(reduce=None)\n",
    "xing_criterion = Xing(reduce=None)\n",
    "dis_convert = DiscriminatorDataConverter(complete_graph=config.discriminator.complete, normalize=config.discriminator.params.normalize)\n",
    "tensorboard = SummaryWriter(log_dir=paths.tensorboard())\n",
    "epoch = start_epoch() + 1"
   ]
  },
  {
   "cell_type": "code",
   "execution_count": 24,
   "metadata": {
    "id": "OHRWj1h0edM-"
   },
   "outputs": [],
   "source": [
    "def gradient_penalty(interpolated, discriminator, weight=10):\n",
    "    interpolated.pos.requires_grad_()\n",
    "    prob_interpolated = discriminator(interpolated)\n",
    "    gradients = autograd.grad(outputs=prob_interpolated, \n",
    "                              inputs=interpolated.pos,\n",
    "                              grad_outputs=torch.ones_like(prob_interpolated),\n",
    "                              create_graph=True, \n",
    "                              retain_graph=True, \n",
    "                              allow_unused=True)[0]\n",
    "    gradients_norm = torch.sqrt(gnn.global_add_pool(gradients.square().sum(dim=1), batch.batch) + 1e-8)\n",
    "    return weight * ((gradients_norm - 1) ** 2).mean()"
   ]
  },
  {
   "cell_type": "code",
   "execution_count": 25,
   "metadata": {
    "id": "o5wJJN9AedM_"
   },
   "outputs": [],
   "source": [
    "def get_gp_loss(batch, fake_pos, weight):\n",
    "    if weight > 0:\n",
    "        interp = dis_convert(batch, fake_pos, random.random())\n",
    "        return gradient_penalty(interp, discriminator, weight).mean()\n",
    "    return 0"
   ]
  },
  {
   "cell_type": "code",
   "execution_count": 26,
   "metadata": {
    "id": "QwuA6sRoedM_"
   },
   "outputs": [],
   "source": [
    "def get_sgan_loss(batch, fake_pos, mode='discriminator'):\n",
    "    real = dis_convert(batch)\n",
    "    fake = dis_convert(batch, fake_pos)\n",
    "    pred = discriminator(merge_batch(real, fake)).view(2, -1).T\n",
    "    if mode == 'discriminator':\n",
    "        label = torch.zeros(pred.shape[0]).long()\n",
    "    elif mode == 'generator':\n",
    "        label = torch.ones(pred.shape[0]).long()\n",
    "    else:\n",
    "        raise Exception\n",
    "    return nn.CrossEntropyLoss()(pred, label)"
   ]
  },
  {
   "cell_type": "code",
   "execution_count": 27,
   "metadata": {
    "id": "GuAP1YchedNA"
   },
   "outputs": [],
   "source": [
    "def get_rgan_loss(batch, fake_pos, mode='discriminator'):\n",
    "    real = dis_convert(batch)\n",
    "    fake = dis_convert(batch, fake_pos)\n",
    "    pred = discriminator(merge_batch(real, fake)).view(2, -1).T\n",
    "    real_pred, fake_pred = pred[:,0], pred[:,1]\n",
    "    if mode == 'discriminator':\n",
    "        losses = - F.logsigmoid(real_pred - fake_pred)\n",
    "    elif mode == 'generator':\n",
    "        losses = - F.logsigmoid(fake_pred - real_pred)\n",
    "    else:\n",
    "        raise Exception\n",
    "    return losses.mean()"
   ]
  },
  {
   "cell_type": "code",
   "execution_count": 28,
   "metadata": {
    "id": "KFllQ7BredNA"
   },
   "outputs": [],
   "source": [
    "def get_wgan_loss(batch, fake_pos, mode='discriminator'):\n",
    "    real = dis_convert(batch)\n",
    "    fake = dis_convert(batch, fake_pos)\n",
    "    pred = discriminator(merge_batch(real, fake)).view(2, -1).T\n",
    "    real_pred, fake_pred = pred[:,0], pred[:,1]\n",
    "    if mode == 'discriminator':\n",
    "        losses = fake_pred - real_pred \n",
    "    elif mode == 'generator':\n",
    "        losses = real_pred - fake_pred\n",
    "    else:\n",
    "        raise Exception\n",
    "    return losses.mean()"
   ]
  },
  {
   "cell_type": "code",
   "execution_count": 29,
   "metadata": {
    "id": "r5Kg_tYEedNA"
   },
   "outputs": [],
   "source": [
    "def get_ragan_loss(batch, fake_pos, mode='discriminator'):\n",
    "    real = dis_convert(batch)\n",
    "    fake = dis_convert(batch, fake_pos)\n",
    "    pred = discriminator(merge_batch(real, fake)).view(2, -1).T\n",
    "    real_pred, fake_pred = pred[:,0], pred[:,1]\n",
    "    if mode == 'discriminator':\n",
    "        losses = - F.logsigmoid(real_pred - fake_pred.mean()) - F.logsigmoid(real_pred.mean() - fake_pred)\n",
    "    elif mode == 'generator':\n",
    "        losses = - F.logsigmoid(fake_pred - real_pred.mean()) - F.logsigmoid(fake_pred.mean() - real_pred)\n",
    "    else:\n",
    "        raise Exception\n",
    "    return losses.mean()"
   ]
  },
  {
   "cell_type": "code",
   "execution_count": 30,
   "metadata": {},
   "outputs": [],
   "source": [
    "def get_dgdv2_loss(batch, fake_pos, mode='discriminator'):\n",
    "    fake = dis_convert(batch, fake_pos)\n",
    "    pred = discriminator(fake)\n",
    "    if mode == 'discriminator':\n",
    "        gt = get_gt(batch, fake_pos)\n",
    "        loss = criterion(pred, gt)\n",
    "    elif mode == 'generator':\n",
    "        losses = pred.sum(dim=0)\n",
    "#         losses = torch.tensor(config.importance).to(device) * losses #/ losses.detach()\n",
    "        loss = losses.sum()\n",
    "    else:\n",
    "        raise Exception\n",
    "    return -loss"
   ]
  },
  {
   "cell_type": "code",
   "execution_count": 31,
   "metadata": {
    "id": "3IE_84f-edNB"
   },
   "outputs": [],
   "source": [
    "def get_gan_loss(batch, fake_pos, mode='discriminator'):\n",
    "    return {\"sgan\": get_sgan_loss,\n",
    "            \"wgan\": get_wgan_loss,\n",
    "            \"rgan\": get_rgan_loss,\n",
    "            \"ragan\": get_ragan_loss,\n",
    "            \"dgdv2\": get_dgdv2_loss}[config.gan_flavor](batch, fake_pos, mode)"
   ]
  },
  {
   "cell_type": "code",
   "execution_count": 32,
   "metadata": {
    "colab": {
     "background_save": true,
     "base_uri": "https://localhost:8080/",
     "height": 80
    },
    "id": "2NjekXgkedNB",
    "outputId": "da85b2ec-c0de-459c-c0dd-7ba3519419fa",
    "tags": []
   },
   "outputs": [
    {
     "data": {
      "application/vnd.jupyter.widget-view+json": {
       "model_id": "653ee729434a40f4b770c35ef0ca3873",
       "version_major": 2,
       "version_minor": 0
      },
      "text/plain": [
       "Tab(children=(VBox(children=(Wrapper(), Hud())), HBox(children=(Output(),), layout=Layout(height='500px', over…"
      ]
     },
     "metadata": {},
     "output_type": "display_data"
    },
    {
     "ename": "KeyboardInterrupt",
     "evalue": "",
     "output_type": "error",
     "traceback": [
      "\u001b[0;31m---------------------------------------------------------------------------\u001b[0m",
      "\u001b[0;31mKeyboardInterrupt\u001b[0m                         Traceback (most recent call last)",
      "\u001b[0;32m/tmp/slurmtmp.5826416/ipykernel_108442/801679965.py\u001b[0m in \u001b[0;36m<module>\u001b[0;34m\u001b[0m\n\u001b[1;32m    133\u001b[0m     \u001b[0;32mif\u001b[0m \u001b[0mconfig\u001b[0m\u001b[0;34m.\u001b[0m\u001b[0malternate\u001b[0m \u001b[0;34m==\u001b[0m \u001b[0;34m'epoch'\u001b[0m\u001b[0;34m:\u001b[0m\u001b[0;34m\u001b[0m\u001b[0;34m\u001b[0m\u001b[0m\n\u001b[1;32m    134\u001b[0m         \u001b[0;32mfor\u001b[0m \u001b[0mbatch\u001b[0m \u001b[0;32min\u001b[0m \u001b[0mtrain_loader\u001b[0m\u001b[0;34m:\u001b[0m\u001b[0;34m\u001b[0m\u001b[0;34m\u001b[0m\u001b[0m\n\u001b[0;32m--> 135\u001b[0;31m             \u001b[0mtrain_gen\u001b[0m\u001b[0;34m(\u001b[0m\u001b[0mbatch\u001b[0m\u001b[0;34m,\u001b[0m \u001b[0mepoch\u001b[0m\u001b[0;34m)\u001b[0m\u001b[0;34m\u001b[0m\u001b[0;34m\u001b[0m\u001b[0m\n\u001b[0m\u001b[1;32m    136\u001b[0m \u001b[0;34m\u001b[0m\u001b[0m\n\u001b[1;32m    137\u001b[0m     \u001b[0mdiscriminator_scheduler\u001b[0m\u001b[0;34m.\u001b[0m\u001b[0mstep\u001b[0m\u001b[0;34m(\u001b[0m\u001b[0;34m)\u001b[0m\u001b[0;34m\u001b[0m\u001b[0;34m\u001b[0m\u001b[0m\n",
      "\u001b[0;32m/tmp/slurmtmp.5826416/ipykernel_108442/801679965.py\u001b[0m in \u001b[0;36mtrain_gen\u001b[0;34m(batch, epoch)\u001b[0m\n\u001b[1;32m     28\u001b[0m     \u001b[0;32mif\u001b[0m \u001b[0mconfig\u001b[0m\u001b[0;34m.\u001b[0m\u001b[0mdiscriminator\u001b[0m\u001b[0;34m.\u001b[0m\u001b[0mnoise\u001b[0m\u001b[0;34m.\u001b[0m\u001b[0mstd\u001b[0m \u001b[0;34m>\u001b[0m \u001b[0;36m0\u001b[0m\u001b[0;34m:\u001b[0m\u001b[0;34m\u001b[0m\u001b[0;34m\u001b[0m\u001b[0m\n\u001b[1;32m     29\u001b[0m         \u001b[0mgenerator_output\u001b[0m \u001b[0;34m=\u001b[0m \u001b[0mgenerator_output\u001b[0m \u001b[0;34m+\u001b[0m \u001b[0mtorch\u001b[0m\u001b[0;34m.\u001b[0m\u001b[0mrandn_like\u001b[0m\u001b[0;34m(\u001b[0m\u001b[0mgenerator_output\u001b[0m\u001b[0;34m)\u001b[0m \u001b[0;34m*\u001b[0m \u001b[0mconfig\u001b[0m\u001b[0;34m.\u001b[0m\u001b[0mdiscriminator\u001b[0m\u001b[0;34m.\u001b[0m\u001b[0mnoise\u001b[0m\u001b[0;34m.\u001b[0m\u001b[0mstd\u001b[0m \u001b[0;34m*\u001b[0m \u001b[0mconfig\u001b[0m\u001b[0;34m.\u001b[0m\u001b[0mdiscriminator\u001b[0m\u001b[0;34m.\u001b[0m\u001b[0mnoise\u001b[0m\u001b[0;34m.\u001b[0m\u001b[0mdecay\u001b[0m \u001b[0;34m**\u001b[0m \u001b[0mepoch\u001b[0m\u001b[0;34m\u001b[0m\u001b[0;34m\u001b[0m\u001b[0m\n\u001b[0;32m---> 30\u001b[0;31m     \u001b[0mgenerator_loss\u001b[0m \u001b[0;34m=\u001b[0m \u001b[0mget_gan_loss\u001b[0m\u001b[0;34m(\u001b[0m\u001b[0mbatch\u001b[0m\u001b[0;34m,\u001b[0m \u001b[0mgenerator_output\u001b[0m\u001b[0;34m,\u001b[0m \u001b[0mmode\u001b[0m\u001b[0;34m=\u001b[0m\u001b[0;34m'generator'\u001b[0m\u001b[0;34m)\u001b[0m\u001b[0;34m\u001b[0m\u001b[0;34m\u001b[0m\u001b[0m\n\u001b[0m\u001b[1;32m     31\u001b[0m \u001b[0;34m\u001b[0m\u001b[0m\n\u001b[1;32m     32\u001b[0m     \u001b[0;31m#train generator\u001b[0m\u001b[0;34m\u001b[0m\u001b[0;34m\u001b[0m\u001b[0m\n",
      "\u001b[0;32m/tmp/slurmtmp.5826416/ipykernel_108442/4066978981.py\u001b[0m in \u001b[0;36mget_gan_loss\u001b[0;34m(batch, fake_pos, mode)\u001b[0m\n\u001b[1;32m      1\u001b[0m \u001b[0;32mdef\u001b[0m \u001b[0mget_gan_loss\u001b[0m\u001b[0;34m(\u001b[0m\u001b[0mbatch\u001b[0m\u001b[0;34m,\u001b[0m \u001b[0mfake_pos\u001b[0m\u001b[0;34m,\u001b[0m \u001b[0mmode\u001b[0m\u001b[0;34m=\u001b[0m\u001b[0;34m'discriminator'\u001b[0m\u001b[0;34m)\u001b[0m\u001b[0;34m:\u001b[0m\u001b[0;34m\u001b[0m\u001b[0;34m\u001b[0m\u001b[0m\n\u001b[0;32m----> 2\u001b[0;31m     return {\"sgan\": get_sgan_loss,\n\u001b[0m\u001b[1;32m      3\u001b[0m             \u001b[0;34m\"wgan\"\u001b[0m\u001b[0;34m:\u001b[0m \u001b[0mget_wgan_loss\u001b[0m\u001b[0;34m,\u001b[0m\u001b[0;34m\u001b[0m\u001b[0;34m\u001b[0m\u001b[0m\n\u001b[1;32m      4\u001b[0m             \u001b[0;34m\"rgan\"\u001b[0m\u001b[0;34m:\u001b[0m \u001b[0mget_rgan_loss\u001b[0m\u001b[0;34m,\u001b[0m\u001b[0;34m\u001b[0m\u001b[0;34m\u001b[0m\u001b[0m\n\u001b[1;32m      5\u001b[0m             \u001b[0;34m\"ragan\"\u001b[0m\u001b[0;34m:\u001b[0m \u001b[0mget_ragan_loss\u001b[0m\u001b[0;34m,\u001b[0m\u001b[0;34m\u001b[0m\u001b[0;34m\u001b[0m\u001b[0m\n",
      "\u001b[0;32m/tmp/slurmtmp.5826416/ipykernel_108442/3696265815.py\u001b[0m in \u001b[0;36mget_rgan_loss\u001b[0;34m(batch, fake_pos, mode)\u001b[0m\n\u001b[1;32m      1\u001b[0m \u001b[0;32mdef\u001b[0m \u001b[0mget_rgan_loss\u001b[0m\u001b[0;34m(\u001b[0m\u001b[0mbatch\u001b[0m\u001b[0;34m,\u001b[0m \u001b[0mfake_pos\u001b[0m\u001b[0;34m,\u001b[0m \u001b[0mmode\u001b[0m\u001b[0;34m=\u001b[0m\u001b[0;34m'discriminator'\u001b[0m\u001b[0;34m)\u001b[0m\u001b[0;34m:\u001b[0m\u001b[0;34m\u001b[0m\u001b[0;34m\u001b[0m\u001b[0m\n\u001b[1;32m      2\u001b[0m     \u001b[0mreal\u001b[0m \u001b[0;34m=\u001b[0m \u001b[0mdis_convert\u001b[0m\u001b[0;34m(\u001b[0m\u001b[0mbatch\u001b[0m\u001b[0;34m)\u001b[0m\u001b[0;34m\u001b[0m\u001b[0;34m\u001b[0m\u001b[0m\n\u001b[0;32m----> 3\u001b[0;31m     \u001b[0mfake\u001b[0m \u001b[0;34m=\u001b[0m \u001b[0mdis_convert\u001b[0m\u001b[0;34m(\u001b[0m\u001b[0mbatch\u001b[0m\u001b[0;34m,\u001b[0m \u001b[0mfake_pos\u001b[0m\u001b[0;34m)\u001b[0m\u001b[0;34m\u001b[0m\u001b[0;34m\u001b[0m\u001b[0m\n\u001b[0m\u001b[1;32m      4\u001b[0m     \u001b[0mpred\u001b[0m \u001b[0;34m=\u001b[0m \u001b[0mdiscriminator\u001b[0m\u001b[0;34m(\u001b[0m\u001b[0mmerge_batch\u001b[0m\u001b[0;34m(\u001b[0m\u001b[0mreal\u001b[0m\u001b[0;34m,\u001b[0m \u001b[0mfake\u001b[0m\u001b[0;34m)\u001b[0m\u001b[0;34m)\u001b[0m\u001b[0;34m.\u001b[0m\u001b[0mview\u001b[0m\u001b[0;34m(\u001b[0m\u001b[0;36m2\u001b[0m\u001b[0;34m,\u001b[0m \u001b[0;34m-\u001b[0m\u001b[0;36m1\u001b[0m\u001b[0;34m)\u001b[0m\u001b[0;34m.\u001b[0m\u001b[0mT\u001b[0m\u001b[0;34m\u001b[0m\u001b[0;34m\u001b[0m\u001b[0m\n\u001b[1;32m      5\u001b[0m     \u001b[0mreal_pred\u001b[0m\u001b[0;34m,\u001b[0m \u001b[0mfake_pred\u001b[0m \u001b[0;34m=\u001b[0m \u001b[0mpred\u001b[0m\u001b[0;34m[\u001b[0m\u001b[0;34m:\u001b[0m\u001b[0;34m,\u001b[0m\u001b[0;36m0\u001b[0m\u001b[0;34m]\u001b[0m\u001b[0;34m,\u001b[0m \u001b[0mpred\u001b[0m\u001b[0;34m[\u001b[0m\u001b[0;34m:\u001b[0m\u001b[0;34m,\u001b[0m\u001b[0;36m1\u001b[0m\u001b[0;34m]\u001b[0m\u001b[0;34m\u001b[0m\u001b[0;34m\u001b[0m\u001b[0m\n",
      "\u001b[0;32m~/.conda/envs/deepgd/lib/python3.9/site-packages/torch/nn/modules/module.py\u001b[0m in \u001b[0;36m_call_impl\u001b[0;34m(self, *input, **kwargs)\u001b[0m\n\u001b[1;32m   1049\u001b[0m         if not (self._backward_hooks or self._forward_hooks or self._forward_pre_hooks or _global_backward_hooks\n\u001b[1;32m   1050\u001b[0m                 or _global_forward_hooks or _global_forward_pre_hooks):\n\u001b[0;32m-> 1051\u001b[0;31m             \u001b[0;32mreturn\u001b[0m \u001b[0mforward_call\u001b[0m\u001b[0;34m(\u001b[0m\u001b[0;34m*\u001b[0m\u001b[0minput\u001b[0m\u001b[0;34m,\u001b[0m \u001b[0;34m**\u001b[0m\u001b[0mkwargs\u001b[0m\u001b[0;34m)\u001b[0m\u001b[0;34m\u001b[0m\u001b[0;34m\u001b[0m\u001b[0m\n\u001b[0m\u001b[1;32m   1052\u001b[0m         \u001b[0;31m# Do not call functions when jit is used\u001b[0m\u001b[0;34m\u001b[0m\u001b[0;34m\u001b[0m\u001b[0m\n\u001b[1;32m   1053\u001b[0m         \u001b[0mfull_backward_hooks\u001b[0m\u001b[0;34m,\u001b[0m \u001b[0mnon_full_backward_hooks\u001b[0m \u001b[0;34m=\u001b[0m \u001b[0;34m[\u001b[0m\u001b[0;34m]\u001b[0m\u001b[0;34m,\u001b[0m \u001b[0;34m[\u001b[0m\u001b[0;34m]\u001b[0m\u001b[0;34m\u001b[0m\u001b[0;34m\u001b[0m\u001b[0m\n",
      "\u001b[0;32m~/deepgd/deepgd/data.py\u001b[0m in \u001b[0;36mforward\u001b[0;34m(self, data, pos, interpolate)\u001b[0m\n\u001b[1;32m    535\u001b[0m             \u001b[0mpos\u001b[0m \u001b[0;34m=\u001b[0m \u001b[0mself\u001b[0m\u001b[0;34m.\u001b[0m\u001b[0mnormalize\u001b[0m\u001b[0;34m(\u001b[0m\u001b[0mpos\u001b[0m\u001b[0;34m,\u001b[0m \u001b[0mdis_data\u001b[0m\u001b[0;34m)\u001b[0m\u001b[0;34m\u001b[0m\u001b[0;34m\u001b[0m\u001b[0m\n\u001b[1;32m    536\u001b[0m             \u001b[0mdis_data\u001b[0m\u001b[0;34m.\u001b[0m\u001b[0mpos\u001b[0m \u001b[0;34m=\u001b[0m \u001b[0minterpolate\u001b[0m \u001b[0;34m*\u001b[0m \u001b[0mdis_data\u001b[0m\u001b[0;34m.\u001b[0m\u001b[0mpos\u001b[0m \u001b[0;34m+\u001b[0m \u001b[0;34m(\u001b[0m\u001b[0;36m1\u001b[0m \u001b[0;34m-\u001b[0m \u001b[0minterpolate\u001b[0m\u001b[0;34m)\u001b[0m \u001b[0;34m*\u001b[0m \u001b[0mpos\u001b[0m\u001b[0;34m\u001b[0m\u001b[0;34m\u001b[0m\u001b[0m\n\u001b[0;32m--> 537\u001b[0;31m             \u001b[0mdis_data\u001b[0m\u001b[0;34m.\u001b[0m\u001b[0mpos\u001b[0m \u001b[0;34m=\u001b[0m \u001b[0mself\u001b[0m\u001b[0;34m.\u001b[0m\u001b[0mnormalize\u001b[0m\u001b[0;34m(\u001b[0m\u001b[0mdis_data\u001b[0m\u001b[0;34m.\u001b[0m\u001b[0mpos\u001b[0m\u001b[0;34m,\u001b[0m \u001b[0mdis_data\u001b[0m\u001b[0;34m)\u001b[0m\u001b[0;34m\u001b[0m\u001b[0;34m\u001b[0m\u001b[0m\n\u001b[0m\u001b[1;32m    538\u001b[0m         \u001b[0;32mreturn\u001b[0m \u001b[0mdis_data\u001b[0m\u001b[0;34m\u001b[0m\u001b[0;34m\u001b[0m\u001b[0m\n\u001b[1;32m    539\u001b[0m \u001b[0;34m\u001b[0m\u001b[0m\n",
      "\u001b[0;32m~/.conda/envs/deepgd/lib/python3.9/site-packages/torch/nn/modules/module.py\u001b[0m in \u001b[0;36m_call_impl\u001b[0;34m(self, *input, **kwargs)\u001b[0m\n\u001b[1;32m   1049\u001b[0m         if not (self._backward_hooks or self._forward_hooks or self._forward_pre_hooks or _global_backward_hooks\n\u001b[1;32m   1050\u001b[0m                 or _global_forward_hooks or _global_forward_pre_hooks):\n\u001b[0;32m-> 1051\u001b[0;31m             \u001b[0;32mreturn\u001b[0m \u001b[0mforward_call\u001b[0m\u001b[0;34m(\u001b[0m\u001b[0;34m*\u001b[0m\u001b[0minput\u001b[0m\u001b[0;34m,\u001b[0m \u001b[0;34m**\u001b[0m\u001b[0mkwargs\u001b[0m\u001b[0;34m)\u001b[0m\u001b[0;34m\u001b[0m\u001b[0;34m\u001b[0m\u001b[0m\n\u001b[0m\u001b[1;32m   1052\u001b[0m         \u001b[0;31m# Do not call functions when jit is used\u001b[0m\u001b[0;34m\u001b[0m\u001b[0;34m\u001b[0m\u001b[0m\n\u001b[1;32m   1053\u001b[0m         \u001b[0mfull_backward_hooks\u001b[0m\u001b[0;34m,\u001b[0m \u001b[0mnon_full_backward_hooks\u001b[0m \u001b[0;34m=\u001b[0m \u001b[0;34m[\u001b[0m\u001b[0;34m]\u001b[0m\u001b[0;34m,\u001b[0m \u001b[0;34m[\u001b[0m\u001b[0;34m]\u001b[0m\u001b[0;34m\u001b[0m\u001b[0;34m\u001b[0m\u001b[0m\n",
      "\u001b[0;32m~/deepgd/deepgd/transform.py\u001b[0m in \u001b[0;36mforward\u001b[0;34m(self, pos, data)\u001b[0m\n\u001b[1;32m    153\u001b[0m         \u001b[0mpos\u001b[0m \u001b[0;34m=\u001b[0m \u001b[0mself\u001b[0m\u001b[0;34m.\u001b[0m\u001b[0mrotate\u001b[0m\u001b[0;34m(\u001b[0m\u001b[0mpos\u001b[0m\u001b[0;34m,\u001b[0m \u001b[0mbatch\u001b[0m\u001b[0;34m)\u001b[0m\u001b[0;34m\u001b[0m\u001b[0;34m\u001b[0m\u001b[0m\n\u001b[1;32m    154\u001b[0m         \u001b[0mpos\u001b[0m \u001b[0;34m=\u001b[0m \u001b[0mself\u001b[0m\u001b[0;34m.\u001b[0m\u001b[0mnormalize\u001b[0m\u001b[0;34m(\u001b[0m\u001b[0mpos\u001b[0m\u001b[0;34m,\u001b[0m \u001b[0mbatch\u001b[0m\u001b[0;34m)\u001b[0m\u001b[0;34m\u001b[0m\u001b[0;34m\u001b[0m\u001b[0m\n\u001b[0;32m--> 155\u001b[0;31m         \u001b[0mpos\u001b[0m \u001b[0;34m=\u001b[0m \u001b[0mself\u001b[0m\u001b[0;34m.\u001b[0m\u001b[0mscale\u001b[0m\u001b[0;34m(\u001b[0m\u001b[0mpos\u001b[0m\u001b[0;34m,\u001b[0m \u001b[0mbatch\u001b[0m\u001b[0;34m)\u001b[0m\u001b[0;34m\u001b[0m\u001b[0;34m\u001b[0m\u001b[0m\n\u001b[0m\u001b[1;32m    156\u001b[0m         \u001b[0;32mreturn\u001b[0m \u001b[0mpos\u001b[0m\u001b[0;34m\u001b[0m\u001b[0;34m\u001b[0m\u001b[0m\n\u001b[1;32m    157\u001b[0m \u001b[0;34m\u001b[0m\u001b[0m\n",
      "\u001b[0;32m~/.conda/envs/deepgd/lib/python3.9/site-packages/torch/nn/modules/module.py\u001b[0m in \u001b[0;36m_call_impl\u001b[0;34m(self, *input, **kwargs)\u001b[0m\n\u001b[1;32m   1049\u001b[0m         if not (self._backward_hooks or self._forward_hooks or self._forward_pre_hooks or _global_backward_hooks\n\u001b[1;32m   1050\u001b[0m                 or _global_forward_hooks or _global_forward_pre_hooks):\n\u001b[0;32m-> 1051\u001b[0;31m             \u001b[0;32mreturn\u001b[0m \u001b[0mforward_call\u001b[0m\u001b[0;34m(\u001b[0m\u001b[0;34m*\u001b[0m\u001b[0minput\u001b[0m\u001b[0;34m,\u001b[0m \u001b[0;34m**\u001b[0m\u001b[0mkwargs\u001b[0m\u001b[0;34m)\u001b[0m\u001b[0;34m\u001b[0m\u001b[0;34m\u001b[0m\u001b[0m\n\u001b[0m\u001b[1;32m   1052\u001b[0m         \u001b[0;31m# Do not call functions when jit is used\u001b[0m\u001b[0;34m\u001b[0m\u001b[0;34m\u001b[0m\u001b[0m\n\u001b[1;32m   1053\u001b[0m         \u001b[0mfull_backward_hooks\u001b[0m\u001b[0;34m,\u001b[0m \u001b[0mnon_full_backward_hooks\u001b[0m \u001b[0;34m=\u001b[0m \u001b[0;34m[\u001b[0m\u001b[0;34m]\u001b[0m\u001b[0;34m,\u001b[0m \u001b[0;34m[\u001b[0m\u001b[0;34m]\u001b[0m\u001b[0;34m\u001b[0m\u001b[0;34m\u001b[0m\u001b[0m\n",
      "\u001b[0;32m~/deepgd/deepgd/transform.py\u001b[0m in \u001b[0;36mforward\u001b[0;34m(self, pos, data)\u001b[0m\n\u001b[1;32m     70\u001b[0m         \u001b[0mbatch\u001b[0m \u001b[0;34m=\u001b[0m \u001b[0mmake_batch\u001b[0m\u001b[0;34m(\u001b[0m\u001b[0mdata\u001b[0m\u001b[0;34m)\u001b[0m\u001b[0;34m\u001b[0m\u001b[0;34m\u001b[0m\u001b[0m\n\u001b[1;32m     71\u001b[0m         \u001b[0md\u001b[0m \u001b[0;34m=\u001b[0m \u001b[0mbatch\u001b[0m\u001b[0;34m.\u001b[0m\u001b[0mfull_edge_attr\u001b[0m\u001b[0;34m[\u001b[0m\u001b[0;34m:\u001b[0m\u001b[0;34m,\u001b[0m \u001b[0;36m0\u001b[0m\u001b[0;34m]\u001b[0m\u001b[0;34m\u001b[0m\u001b[0;34m\u001b[0m\u001b[0m\n\u001b[0;32m---> 72\u001b[0;31m         \u001b[0mstart\u001b[0m\u001b[0;34m,\u001b[0m \u001b[0mend\u001b[0m \u001b[0;34m=\u001b[0m \u001b[0mget_full_edges\u001b[0m\u001b[0;34m(\u001b[0m\u001b[0mpos\u001b[0m\u001b[0;34m,\u001b[0m \u001b[0mbatch\u001b[0m\u001b[0;34m)\u001b[0m\u001b[0;34m\u001b[0m\u001b[0;34m\u001b[0m\u001b[0m\n\u001b[0m\u001b[1;32m     73\u001b[0m         \u001b[0mu\u001b[0m \u001b[0;34m=\u001b[0m \u001b[0;34m(\u001b[0m\u001b[0mend\u001b[0m \u001b[0;34m-\u001b[0m \u001b[0mstart\u001b[0m\u001b[0;34m)\u001b[0m\u001b[0;34m.\u001b[0m\u001b[0mnorm\u001b[0m\u001b[0;34m(\u001b[0m\u001b[0mdim\u001b[0m\u001b[0;34m=\u001b[0m\u001b[0;36m1\u001b[0m\u001b[0;34m)\u001b[0m\u001b[0;34m\u001b[0m\u001b[0;34m\u001b[0m\u001b[0m\n\u001b[1;32m     74\u001b[0m         \u001b[0mindex\u001b[0m \u001b[0;34m=\u001b[0m \u001b[0mbatch\u001b[0m\u001b[0;34m.\u001b[0m\u001b[0mbatch\u001b[0m\u001b[0;34m[\u001b[0m\u001b[0mbatch\u001b[0m\u001b[0;34m.\u001b[0m\u001b[0medge_index\u001b[0m\u001b[0;34m[\u001b[0m\u001b[0;36m0\u001b[0m\u001b[0;34m]\u001b[0m\u001b[0;34m]\u001b[0m\u001b[0;34m\u001b[0m\u001b[0;34m\u001b[0m\u001b[0m\n",
      "\u001b[0;32m~/deepgd/deepgd/functions.py\u001b[0m in \u001b[0;36mget_full_edges\u001b[0;34m(node_pos, batch)\u001b[0m\n\u001b[1;32m     56\u001b[0m \u001b[0;32mdef\u001b[0m \u001b[0mget_full_edges\u001b[0m\u001b[0;34m(\u001b[0m\u001b[0mnode_pos\u001b[0m\u001b[0;34m,\u001b[0m \u001b[0mbatch\u001b[0m\u001b[0;34m)\u001b[0m\u001b[0;34m:\u001b[0m\u001b[0;34m\u001b[0m\u001b[0;34m\u001b[0m\u001b[0m\n\u001b[1;32m     57\u001b[0m     \u001b[0medges\u001b[0m \u001b[0;34m=\u001b[0m \u001b[0mnode_pos\u001b[0m\u001b[0;34m[\u001b[0m\u001b[0mget_full_edge_index\u001b[0m\u001b[0;34m(\u001b[0m\u001b[0mbatch\u001b[0m\u001b[0;34m)\u001b[0m\u001b[0;34m]\u001b[0m\u001b[0;34m\u001b[0m\u001b[0;34m\u001b[0m\u001b[0m\n\u001b[0;32m---> 58\u001b[0;31m     \u001b[0;32mreturn\u001b[0m \u001b[0medges\u001b[0m\u001b[0;34m[\u001b[0m\u001b[0;34m:\u001b[0m\u001b[0;34m,\u001b[0m \u001b[0;36m0\u001b[0m\u001b[0;34m,\u001b[0m \u001b[0;34m:\u001b[0m\u001b[0;34m]\u001b[0m\u001b[0;34m,\u001b[0m \u001b[0medges\u001b[0m\u001b[0;34m[\u001b[0m\u001b[0;34m:\u001b[0m\u001b[0;34m,\u001b[0m \u001b[0;36m1\u001b[0m\u001b[0;34m,\u001b[0m \u001b[0;34m:\u001b[0m\u001b[0;34m]\u001b[0m\u001b[0;34m\u001b[0m\u001b[0;34m\u001b[0m\u001b[0m\n\u001b[0m\u001b[1;32m     59\u001b[0m \u001b[0;34m\u001b[0m\u001b[0m\n\u001b[1;32m     60\u001b[0m \u001b[0;34m\u001b[0m\u001b[0m\n",
      "\u001b[0;31mKeyboardInterrupt\u001b[0m: "
     ]
    }
   ],
   "source": [
    "def train_dis(batch, epoch):\n",
    "    generator.requires_grad_(False)\n",
    "    discriminator.zero_grad()\n",
    "    generator_output = generator(batch)\n",
    "    if config.discriminator.noise.std > 0:\n",
    "        generator_output = generator_output + torch.randn_like(generator_output) * config.discriminator.noise.std * config.discriminator.noise.decay ** epoch\n",
    "    discriminator_loss = get_gan_loss(batch, generator_output, mode='discriminator')\n",
    "    \n",
    "    # train discriminator\n",
    "    discriminator_loss.backward()\n",
    "    discriminator_optimizer.step()\n",
    "\n",
    "    # gradient penalty\n",
    "    if config.gp_weight > 0:\n",
    "        discriminator.zero_grad()\n",
    "        gp_loss = get_gp_loss(batch, generator_output, config.gp_weight)\n",
    "        gp_loss.backward()\n",
    "        discriminator_optimizer.step()\n",
    "\n",
    "    hud['dis_loss'] = format(discriminator_loss.item(), '.2e')\n",
    "    pbar().update()\n",
    "\n",
    "def train_gen(batch, epoch):\n",
    "    generator.requires_grad_(True)\n",
    "    generator.zero_grad()\n",
    "    discriminator.zero_grad()\n",
    "    generator_output = generator(batch)\n",
    "    if config.discriminator.noise.std > 0:\n",
    "        generator_output = generator_output + torch.randn_like(generator_output) * config.discriminator.noise.std * config.discriminator.noise.decay ** epoch\n",
    "    generator_loss = get_gan_loss(batch, generator_output, mode='generator') \n",
    "    \n",
    "    #train generator\n",
    "    generator_loss.backward()\n",
    "    generator_optimizer.step()\n",
    "\n",
    "    with torch.no_grad():\n",
    "        dis_batch = dis_convert(batch, generator_output)\n",
    "        stress = stress_criterion(dis_batch).mean()\n",
    "        critic = discriminator(dis_batch).mean()\n",
    "    hud.append({'gen_loss': format(generator_loss.item(), '.2e'),\n",
    "                'stress': format(stress.item(), '.2e'),\n",
    "                'critic': format(critic.item(), '.2e')})\n",
    "    pbar().update()\n",
    "\n",
    "def cuda_memsafe_map(fn, *iterables, summary=False):\n",
    "    total, failed = 0, 0\n",
    "    iterator = zip(*iterables)\n",
    "    items = None\n",
    "    while True:\n",
    "        try:\n",
    "            items = next(iterator)\n",
    "            yield fn(*items)\n",
    "        except StopIteration:\n",
    "            if summary:\n",
    "                print(f'Iteration finished. {failed} out of {total} failed!')\n",
    "            break\n",
    "        except RuntimeError:\n",
    "            print('CUDA memory overflow! Skip batch...')\n",
    "            del items\n",
    "            failed += 1\n",
    "        torch.cuda.empty_cache()\n",
    "        total += 1\n",
    "    \n",
    "def validate(model, data_loader, criterion=val_criterion):\n",
    "    def val_one_batch(batch):\n",
    "        batch = preprocess_batch(model, batch)\n",
    "        pred = CanonicalizationByStress()(model(batch), batch)\n",
    "        gt = CanonicalizationByStress()(batch.gt_pos, batch)\n",
    "        loss = criterion(pred, batch)\n",
    "        gt_loss = criterion(gt, batch)\n",
    "        spc = (loss - gt_loss) / torch.maximum(torch.maximum(loss, gt_loss), torch.ones_like(loss)*1e-5)\n",
    "        return loss.mean().item(), spc.mean().item()\n",
    "    loss_all, spc_all = zip(*cuda_memsafe_map(val_one_batch, data_loader))\n",
    "    return np.mean(loss_all), np.mean(spc_all)\n",
    "\n",
    "def log(msg):\n",
    "    msg = f\"[{epoch:03}] {msg}\"\n",
    "    print(msg, file=open(paths.log(), \"a\"))\n",
    "    with log_out: \n",
    "        print(msg)\n",
    "\n",
    "print(f\"{'='*10} {config.link} {'='*10}\", file=open(paths.log(), \"a\"))\n",
    "hud = Hud()\n",
    "pbar = Wrapper(tqdm, total=len(train_loader)*2, smoothing=0)\n",
    "plot_out = Output()\n",
    "log_out = Output()\n",
    "tabs = {\"status\": VBox([pbar, hud]), \n",
    "        \"plot\": HBox([plot_out], layout=Layout(height='500px', overflow_y='auto')),\n",
    "        \"log\": HBox([log_out], layout=Layout(height='500px', overflow_y='auto'))}\n",
    "tab_bar = Tab(children=list(tabs.values()))\n",
    "[tab_bar.set_title(i, name) for i, name in enumerate(tabs)]\n",
    "display(tab_bar)\n",
    "while True:\n",
    "    if epoch % config.log_interval == 0:\n",
    "        torch.save(generator.state_dict(), f\"{paths.checkpoints()}/gen_epoch_{epoch}.pt\")\n",
    "        torch.save(generator_optimizer.state_dict(), f\"{paths.checkpoints()}/gen_optim_epoch_{epoch}.pt\")\n",
    "        torch.save(discriminator.state_dict(), f\"{paths.checkpoints()}/dis_epoch_{epoch}.pt\")\n",
    "        torch.save(discriminator_optimizer.state_dict(), f\"{paths.checkpoints()}/dis_optim_epoch_{epoch}.pt\")\n",
    "        generator.eval()\n",
    "        with torch.no_grad():\n",
    "            val_stress, val_stress_spc = validate(model=generator, data_loader=val_loader)\n",
    "            val_xing, val_xing_spc = validate(model=generator, data_loader=val_loader, criterion=xing_criterion)\n",
    "            with plot_out:\n",
    "                fig = plt.figure()\n",
    "                graph_vis(G_list[11100], generator(make_batch(data_list[11100]).to(device)).cpu())\n",
    "                plt.show()\n",
    "        # tensorboard.add_scalars('loss', {'train': train_loss, \n",
    "        #                                  'validation': val_loss}, epoch)\n",
    "        # for i, fn in enumerate(loss_fns):\n",
    "        #     tensorboard.add_scalars(type(fn).__name__, {'train': train_loss_comp[i].item(), \n",
    "        #                                           'validation': val_loss_comp[i].item()}, epoch)\n",
    "        hud.append({\n",
    "            'val_stress': format(val_stress, '.2f'),\n",
    "            'val_stress_spc': format(val_stress_spc, '.2%'),\n",
    "            'val_xing': format(val_xing, '.2f'),\n",
    "            'val_xing_spc': format(val_xing_spc, '.2%'),\n",
    "        })\n",
    "        log(f\"stress={hud.data['val_stress']}({hud.data['val_stress_spc']}) xing={hud.data['val_xing']}({hud.data['val_xing_spc']})\")\n",
    "        \n",
    "    # handle.update(tab_bar)\n",
    "    pbar().reset()\n",
    "    pbar().set_description(desc=f\"[epoch {epoch}/{config.epoch.end}]\")\n",
    "    hud(title=f\"epoch {epoch}\")\n",
    "    generator.train()\n",
    "    discriminator.train()\n",
    "    # proper: proper layout\n",
    "    for _ in range(config.discriminator.repeat):\n",
    "        for batch in train_loader:\n",
    "            train_dis(batch, epoch)\n",
    "            if config.alternate == 'iteration':\n",
    "                train_gen(batch, epoch)\n",
    "\n",
    "    if config.alternate == 'epoch':\n",
    "        for batch in train_loader:\n",
    "            train_gen(batch, epoch)\n",
    "\n",
    "    discriminator_scheduler.step()\n",
    "    generator_scheduler.step()\n",
    "\n",
    "    if epoch == config.epoch.end:\n",
    "        break\n",
    "    epoch += 1"
   ]
  },
  {
   "cell_type": "markdown",
   "metadata": {
    "id": "0qYK_X_hrq9o"
   },
   "source": [
    "# Test"
   ]
  },
  {
   "cell_type": "code",
   "execution_count": null,
   "metadata": {
    "colab": {
     "base_uri": "https://localhost:8080/"
    },
    "id": "XEvmAtNjWhcY",
    "outputId": "9f4c86a4-a4b0-48f1-cb58-ab3679173184"
   },
   "outputs": [],
   "source": [
    "test_epoch = -1\n",
    "\n",
    "test_generator = Generator(**config.generator.params[...]).to(device)\n",
    "test_ckpt_epoch = get_ckpt_epoch(paths.checkpoints(), test_epoch)\n",
    "test_ckpt_file = f\"{paths.checkpoints()}/gen_epoch_{test_ckpt_epoch}.pt\"\n",
    "print(f\"Loading from {test_ckpt_file}...\")\n",
    "test_generator.load_state_dict(torch.load(test_ckpt_file, map_location=torch.device(device)))"
   ]
  },
  {
   "cell_type": "code",
   "execution_count": null,
   "metadata": {
    "colab": {
     "background_save": true,
     "base_uri": "https://localhost:8080/",
     "height": 1000,
     "referenced_widgets": [
      "9b7d18992dbf4a84931f916fbaaa37d8",
      "2c664d7e1e6d474fb87094fc0da270d3",
      "d375f5f82a4645d7b29c541596dc1c7f",
      "ecfa311bb06b4f6fa504598263ff69d3",
      "d1859990877149eab2b414b4e2a0e0c7",
      "d2be6733734844bca3e1db9b49eb1c1e",
      "4d98072bdf674792a13d77e85dd285d1",
      "f7ed92c383d741a0a1cef2536ff2db13",
      "2ba110f835c64ec4b82974996aed10af",
      "09397ceac9014af0aebca848d4d96d48",
      "fd0709f48d6c4527bc00b5f407f3c1b9"
     ]
    },
    "id": "ZubmSTcYrq9o",
    "outputId": "fc2f65a2-2085-43ac-b110-cbfe742318a8",
    "scrolled": true,
    "tags": []
   },
   "outputs": [],
   "source": [
    "rotate = RotateByPrincipalComponents()\n",
    "def test_callback(*, idx, pred, metrics):\n",
    "    # graph_vis(G_list[idx], pred, file_name=f\"{paths.visualization()}/{idx}_{metrics['stress']:.2f}_{metrics['resolution_score']:.2f}.png\")\n",
    "    pred = rotate(torch.tensor(pred), data_list[idx])\n",
    "    graph_vis(G_list[idx], pred)\n",
    "    plt.title(f\"[pred] idx: {idx}, stress: {metrics['stress']:.2f}({metrics['stress_spc']:.2%}), xing: {metrics['xing']:.2f}({metrics['xing_spc']:.2%})\")\n",
    "    plt.show()\n",
    "    gt_pos = rotate(data_list[idx].gt_pos, data_list[idx])\n",
    "    graph_vis(G_list[idx], gt_pos, node_color='orange')\n",
    "    plt.title(f\"[gt] idx: {idx}, stress: {metrics['gt_stress']:.2f}, xing: {metrics['gt_xing']:.2f}\")\n",
    "    plt.show()\n",
    "    \n",
    "test_metrics = test(model=test_generator, \n",
    "                    criteria_list=[], \n",
    "                    dataset=data_list, \n",
    "                    idx_range=range(10000, 11000), \n",
    "                    callback=test_callback,\n",
    "                    gt_file=None)\n",
    "pickle.dump(test_metrics, open(paths.metrics(\"test\"), \"wb\"))"
   ]
  },
  {
   "cell_type": "code",
   "execution_count": null,
   "metadata": {
    "colab": {
     "base_uri": "https://localhost:8080/",
     "height": 318
    },
    "id": "t2rFXIr_PsrJ",
    "outputId": "6a4205b1-4630-4de4-ec72-bdba3d3ea114"
   },
   "outputs": [],
   "source": [
    "metrics = test_metrics\n",
    "print('stress:', metrics['stress'].mean())\n",
    "print('stress_spc:', metrics['stress_spc'].mean())\n",
    "print('xing:', metrics['xing'].mean())\n",
    "print('xing_spc:', metrics['xing_spc'].mean())\n",
    "print('l1_angle:', metrics['l1_angle'].mean())\n",
    "print('l1_angle_spc:', metrics['l1_angle_spc'].mean())\n",
    "print('edge:', metrics['edge'].mean())\n",
    "print('edge_spc:', metrics['edge_spc'].mean())\n",
    "print('ring:', metrics['ring'].mean())\n",
    "print('ring_spc:', metrics['ring_spc'].mean())\n",
    "print('tsne:', metrics['tsne'].mean())\n",
    "print('tsne_spc:', metrics['tsne_spc'].mean())\n",
    "print('reso_score:', metrics['resolution_score'].mean())\n",
    "print('min_angle:', metrics['min_angle'].mean())\n",
    "pd.DataFrame(map(lambda m: f\"{metrics[m].mean().item():.4f}\", list(metrics.keys())[:-1])).T"
   ]
  },
  {
   "cell_type": "code",
   "execution_count": null,
   "metadata": {
    "id": "5e7vPr0M3mmG"
   },
   "outputs": [],
   "source": [
    "metrics = {}"
   ]
  },
  {
   "cell_type": "code",
   "execution_count": null,
   "metadata": {
    "colab": {
     "base_uri": "https://localhost:8080/",
     "height": 433,
     "referenced_widgets": [
      "a0cf6e046add4e639e52db69656e0db9",
      "8e237731bb1241ac858581b25389c012",
      "0891547293ad4211a138a4d92e01bb0b",
      "34912c8e581e47a99a1c4829c38cb75c",
      "5aa034c99c94424e835a2ee954b829ed",
      "248f6393eff74c3eb8740ca6d698045b",
      "686687a29c7f4ec98c4d76ca2062b14b",
      "996a84d1c23b47e4a2af252c6b60f55d",
      "3507f883bb954412b21c1c5641763ed7",
      "9582a849d91e457cadd514c95d6e1b5b",
      "52bfe674c2c547e09b7400a32a96f703",
      "93d58b3a12394fe1aa6f0431fc7cb0db",
      "af1d7855c9d646b0bcc7d95c4cb147a6",
      "f820e2b898cd461da04a4f651d27273d",
      "c0a112cfaa3d4d0aa9530372de84d8fb",
      "fd03985495694fbf9feb3f31ef8d18ce",
      "e02a2b36aa4c4d6fb5d2ac6693c1a927",
      "06f388ff5e3a48828d465096fe69977b",
      "c0052778c9c940e88935593e9f94b83b",
      "99a5e77a192d4a989c4534237eb16730",
      "77c6da092a6647fc9e54f7e276d75616",
      "8c13c0e8b5934117a662a78296bcb1b6",
      "cdcc3bd4235247b48c468c0f6b7682cc",
      "a2c6fa6fef4549cc853fa93b4b18cf95",
      "15cc02a756314083801b5f6798a1948c",
      "24d1c67fe52f452ab0c767e3c1a818aa",
      "c117db25c6fd484a9d0c7f210ccb1ade",
      "b090b60b61084cf692b3066dfac7f0a8",
      "5eab9848059c491b9c6cbac88683f025",
      "e87ffbaa1f204b52b9226337a506b040",
      "cf52198a9e4b46c7b49537a79919c09e",
      "51501227bc064ccbab97c22a679a0750",
      "d1b794a997dc457888a90bf44faee9b4",
      "21a755b50e5047bea797eccf24b35a0c",
      "16e78c3823ec4faf9f9cd9095b218ff5",
      "4ccd332c6b734acd8eff236eaf568dfa",
      "bd60fd13748347e48629df78fa455765",
      "e9187e4ba80b4fafa0334dae2e39aded",
      "4c39ec7c92b4402e8eedcb27beabaab1",
      "59a8194269f943bba571f710ad856973",
      "8e41bc25b9f348b1b85b381547cd60d1",
      "34d0f1529e64437fb25e639b41096072",
      "7e832c7543df43668eb72c0aa6356349",
      "f94162c9c5fe4c2581e3b80beaeb820b",
      "0284946fccf34607b25e1d6d81d4f72a",
      "8e8d4243a3624ba58d760bdf601d5126",
      "b1f0932594fe44f4be4beb8880172871",
      "820bb554d139437b8f6a6997f9002261",
      "459e375d1fe4497cb4197ef88e303c6d",
      "5726814966da46bbba942a114de4b319",
      "448beea5445f4642809801da46aa7e7c",
      "3746c0f0daf04f51805b4c95db20063a",
      "2ff74d1c705348438a32da37910c3300",
      "52f03147b5ab4cb390f9802b7a17a508",
      "5428511d652a47348203e8f3cd2e076d",
      "7b58569bee2e44c5a61a81f9a32c4c01",
      "c5e05d74b9404333a8155304e3497ba2",
      "3ad4e058bde44d87abab780368d49118",
      "8e437049b5c74ff1beddad93e30b19aa",
      "0c61377f4cc34b27ae34bdd6d976d868",
      "9ce35f9a9a23436ea77604513b5c4659",
      "dafbc43ad79c4feda093aefe490fc4b3",
      "497160b6bf80469a89680a03a468c8bb",
      "3265725ecb914981b6f07f68b8a582df",
      "1f0ac20d99d04ffb9ee75613526d3de6",
      "dee0e5716560483b8e2b107566439d94",
      "ca99841a1abd4fbd94927c49aaa711cb",
      "163a44ff1be04583ae7bd62726c55204",
      "f3b727045a0b4b4fabd147ec9c843e14",
      "7c4b4fe859cf48ab99b7e2780a24a539",
      "d9700cffab66480cb81e3722faab4e8b",
      "2c49acc1e0a64aa4b8ec461b0596848e",
      "691817157f43412f9c36002167606b75",
      "d0ae688d71734b56bb348de54e841798",
      "07a364ebcdaa491dbcc2304e4a8dae96",
      "538b277307b1449eaa79a2a91b4741d3",
      "f7b7dd4cbaa5468687b988c5e416a154",
      "877be862a4f045ec8b221097626becb5",
      "1bf37012df0844338ac689d4f6cc8eab",
      "33fe06641be544d3aab2c25cb979416f",
      "68de0d9261fa4e6999967b6f196d149c",
      "7017c5ba1ffc467495aca2689e516f7d",
      "e0997460cc21428695a0c278c6691baf",
      "522443bef4904996b6361ea265c4c56f",
      "dfe044b67917466f971ba84a11956d5e",
      "70b2d0ba1c1d4102841fb963480de1c7",
      "7b158daacd754a40bc0a48fc9ea6fea2",
      "8904f61ff30741e488eacf0e49440f66",
      "685dee6f1e1f4c2983d2d0b8eb90ed00",
      "005155a4d62d48cbbaf3d69614b08d81",
      "d2779dfa620041e4b32a7731926a5982",
      "53048bf27cb24080b4cdf20379302223",
      "0b5bff7794a14a20964da70b87158c2c",
      "ec664e55ea16435590393ae1617cccea",
      "f10d62ef464a45a7935610d869c282e3",
      "5e7c09bc35db4a3a8b9847c6d8478883",
      "987ea331b617446facc81b08bab1f8c4",
      "446c5a687b0d43358ab036d43ce281c3",
      "d89e216f62ae4a9999da1a91dd5e48b9",
      "09d03e7e66f54cafacefbfeda5fd6e5c",
      "d58c680562a44bbd9252e7ec6eebc06c",
      "71ea2594fdd942acac1cc61055438544",
      "fecda4df301b437f9fbfb61a7b593dc0",
      "bcf6741d926248cb92acf627d6557d2b",
      "5bd9868b9bda4f68b500a43916e2d148",
      "4bc5e02035de44ad827c4f881fd75afc",
      "7d80033a955e4feb947ca9cea931d90b",
      "e975c796d80d498992a50f87a2b0105c",
      "028b2ff105904a19a9a3e8ebf66967bb",
      "10dbf2cbdb1943eda6a0acaf5da3fe85",
      "14d59c7acc5e4e07a289db44406a4851",
      "d9447df93d714907bc9c768eb4910352",
      "d4a9ace081bf488680a7e43e0eaed71d",
      "022a60cde19546bfa6ecfb4947615ad9",
      "10c01207d9ba4fe197dc80717fceecc0",
      "f4995936570d4ba1a65e9a66e410b505",
      "b4bf66303e61491385cd616076a11c04",
      "a24ab2bfe7a44263bf60936d6e53ec32",
      "59e2e8ecc9f84d57af7bf44f5bba5df7",
      "be2eb92aab8045a99fd19195c3546b60",
      "e6715db2b048434796e910952cb5eb62",
      "8de2335007ba4a6b9935fa0c514c9f6a",
      "493a4bbe8057437a8c8acf4d03f8dcb0",
      "20b03955acc74e238695717124705520",
      "a89f9507496b4cf8bdd63bdb9bff79c4",
      "9752a1f6c8b6488d9628b8e0c023f10f",
      "61a0bebc687341a7bb3352febc8d4986",
      "07e0ff9c82a444788c60edee70688ca7",
      "4427901f35e54cc48e08527bb402c22a",
      "bd9dafb825954091ba975d71ab8c89ea",
      "7ec0f07bfe51484da38c18dc66d77804",
      "03943afebc4d4b668b54c7a0fd014a37",
      "a7a6b38a76424d738146b6a5786cf2c8",
      "1d1aa4729784470584c0001c1a296008",
      "e0c68ac9b5b442eeb77e6d9ea3c1da42",
      "c858ef9fd9324ab0ab885d85e3c8582f",
      "627bc2899c994a0c96c5d43e89dc77ff",
      "0e2c2f21fa8041038151170992ecb848",
      "2d9bcbf7629a4671bf8755e790276eb7",
      "77a4edf6ab1848a6a6df20c1c07358c6",
      "acf2212d6bb44c729b63281a98377095",
      "0c7a72818da3454190bab7f30a29e249",
      "d865af915b8b4aaa8cec8d40f1f8351d"
     ]
    },
    "id": "s1UnzfID4Ai6",
    "outputId": "3e204e76-68fd-4111-f527-91f6e3b7a3ca"
   },
   "outputs": [],
   "source": [
    "for m in methods:\n",
    "    metrics[m] = test(model=test_generator, \n",
    "                      criteria_list=[], \n",
    "                      dataset=data_list, \n",
    "                      idx_range=range(10000, 11000), \n",
    "                      callback=None,\n",
    "                      gt_pos=load_pos(m))"
   ]
  },
  {
   "cell_type": "code",
   "execution_count": null,
   "metadata": {
    "id": "dQ7hdCtk5u6K"
   },
   "outputs": [],
   "source": [
    "mean_metrics = {key : list(map(lambda m: metrics[key][m].mean().item(), list(metrics[key].keys())[:-1])) for key in metrics}"
   ]
  },
  {
   "cell_type": "code",
   "execution_count": null,
   "metadata": {
    "colab": {
     "base_uri": "https://localhost:8080/",
     "height": 313
    },
    "id": "OGyaCmLXTuvA",
    "outputId": "6c42d9f3-9869-4504-bc9c-d0eedaecfd90"
   },
   "outputs": [],
   "source": [
    "columns = [\n",
    "    'stress',\n",
    "    'stress_spc',\n",
    "    'xing',\n",
    "    'xing_spc',\n",
    "    'l1_angle',\n",
    "    'l1_angle_spc',\n",
    "    'edge',\n",
    "    'edge_spc',\n",
    "    'ring',\n",
    "    'ring_spc',\n",
    "    'tsne',\n",
    "    'tsne_spc',\n",
    "    'reso_score',\n",
    "    'min_angle'\n",
    "]\n",
    "df = pd.DataFrame(mean_metrics).set_axis(columns).T\n",
    "df.style.format({c: \"{:.2%}\" for c in columns if 'spc' in c})"
   ]
  },
  {
   "cell_type": "markdown",
   "metadata": {
    "id": "L5S1HWnHOWIl"
   },
   "source": [
    "# Large Graph"
   ]
  },
  {
   "cell_type": "code",
   "execution_count": null,
   "metadata": {
    "id": "_pefPcV1OZdD"
   },
   "outputs": [],
   "source": [
    "scalability = pd.read_csv(f\"/__artifacts__/data/scalability.csv\", index_col=\"index\")\n",
    "scalability"
   ]
  },
  {
   "cell_type": "code",
   "execution_count": null,
   "metadata": {
    "id": "oMhWAsdvPnTX"
   },
   "outputs": [],
   "source": [
    "rescale = CanonicalizationByStress()\n",
    "stressfn = Stress()\n",
    "rotate = RotateByPrincipalComponents()"
   ]
  },
  {
   "cell_type": "code",
   "execution_count": null,
   "metadata": {
    "id": "LR83OcAaPID5"
   },
   "outputs": [],
   "source": [
    "stress_list = []\n",
    "spc_list = []\n",
    "pmds_list = np.load(\"layouts/new_large_graph/pmds.npy\", allow_pickle=True)\n",
    "gviz_list = np.load(\"layouts/new_large_graph/gviz.npy\", allow_pickle=True)\n",
    "with torch.no_grad():\n",
    "    for idx, col in tqdm(scalability.iterrows(), total=len(scalability)):\n",
    "        # if idx not in [406, 516]: continue\n",
    "        torch.cuda.empty_cache()\n",
    "        G = load_mtx(col['file'])\n",
    "        G.remove_edges_from(nx.selfloop_edges(G))\n",
    "        data = generate_data_list(G, \n",
    "                                sparse=data_config.sparse, \n",
    "                                pivot_mode=data_config.pivot,\n",
    "                                init_mode=data_config.init,\n",
    "                                edge_index=data_config.edge.index,\n",
    "                                edge_attr=data_config.edge.attr,\n",
    "                                pmds_list=pmds_list[idx],\n",
    "                                gviz_list=gviz_list[idx],\n",
    "                                device=device)\n",
    "        batch = Batch.from_data_list([data]).to(device)\n",
    "        # generator.train()\n",
    "        # generator(batch)\n",
    "        generator.eval()\n",
    "        pred = generator(batch)\n",
    "        pos = rotate(rescale(pred, batch), batch)\n",
    "        gt = rotate(rescale(batch.gt_pos, batch), batch)\n",
    "        stress = stressfn(pos, batch).item()\n",
    "        gt_stress = stressfn(gt, batch).item()\n",
    "        spc = (stress - gt_stress) / np.maximum(stress, gt_stress)\n",
    "        stress_list.append(stress)\n",
    "        spc_list.append(spc)\n",
    "\n",
    "        np.save(f\"/__artifacts__/gan_result/data/scalability_{idx}.npy\", pos.cpu().numpy())\n",
    "        graph_attr = dict(node_size=1, \n",
    "                        with_labels=False, \n",
    "                        labels=dict(zip(list(G.nodes), map(lambda n: n if type(n) is int else n[1:], list(G.nodes)))),\n",
    "                        font_color=\"white\", \n",
    "                        font_weight=\"bold\",\n",
    "                        font_size=12,\n",
    "                        width=0.1)\n",
    "\n",
    "        # gt_pos = pickle.load(open(f\"/__artifacts__/data/scalability_{idx}_gt.pkl\", \"rb\"))\n",
    "\n",
    "        plt.figure(figsize=[12, 9])\n",
    "        nx.draw(G, pos=gt.cpu().numpy(), node_color='orange', **graph_attr)\n",
    "        plt.title(f\"neato: large_{idx}\")\n",
    "        plt.axis(\"equal\")\n",
    "        plt.savefig(f\"/__artifacts__/gan_result/output/{idx}_{col['name']}_{col['n']}_{spc}_nx.png\", dpi=300)\n",
    "        plt.show()\n",
    "\n",
    "        plt.figure(figsize=[12, 9])\n",
    "        graph_vis(G, pos.cpu().numpy(), **graph_attr)\n",
    "        plt.title(f\"dgd: large_{idx}, spc={spc:.2%}\")\n",
    "        plt.axis(\"equal\")\n",
    "        plt.savefig(f\"/__artifacts__/gan_result/output/{idx}_{col['name']}_{col['n']}_{spc}_dgd.png\", dpi=300)\n",
    "        plt.show()"
   ]
  },
  {
   "cell_type": "code",
   "execution_count": null,
   "metadata": {
    "id": "gRXTewkYeuq1"
   },
   "outputs": [],
   "source": []
  }
 ],
 "metadata": {
  "accelerator": "GPU",
  "colab": {
   "collapsed_sections": [
    "w_p3OD0woiSM",
    "DR6-vYtr_i_P",
    "innqkwvH_ydD",
    "f-ODE2k8BFV6",
    "N39dDHraedM6"
   ],
   "machine_shape": "hm",
   "name": "GAN(gan=rgan,data=best(xing,stress),dis=deep,share=16,embed=0,gp=0).ipynb",
   "provenance": []
  },
  "kernelspec": {
   "display_name": "DeepGD",
   "language": "python",
   "name": "deepgd"
  },
  "language_info": {
   "codemirror_mode": {
    "name": "ipython",
    "version": 3
   },
   "file_extension": ".py",
   "mimetype": "text/x-python",
   "name": "python",
   "nbconvert_exporter": "python",
   "pygments_lexer": "ipython3",
   "version": "3.9.7"
  },
  "widgets": {
   "application/vnd.jupyter.widget-state+json": {
    "state": {
     "0579ef5e04a443e9acb37a0ccc3a84df": {
      "model_module": "@jupyter-widgets/controls",
      "model_module_version": "1.5.0",
      "model_name": "DescriptionStyleModel",
      "state": {
       "description_width": ""
      }
     },
     "0d7cdcebb8414e3ba76c89c864763a04": {
      "model_module": "@jupyter-widgets/base",
      "model_module_version": "1.2.0",
      "model_name": "LayoutModel",
      "state": {}
     },
     "143d69342375419d89db9638e1d3c178": {
      "model_module": "@jupyter-widgets/controls",
      "model_module_version": "1.5.0",
      "model_name": "HTMLModel",
      "state": {
       "layout": "IPY_MODEL_90d9450af276408799c941d6f88ff527",
       "style": "IPY_MODEL_ca40a6927add4aaa8093d52c2ce685f1",
       "value": "[epoch 1/None]:  56%"
      }
     },
     "213791993d14454e91cda819512cf089": {
      "model_module": "@jupyter-widgets/controls",
      "model_module_version": "1.5.0",
      "model_name": "VBoxModel",
      "state": {
       "children": [
        "IPY_MODEL_71fe046d2133481a99a4f0a143e31c0e",
        "IPY_MODEL_470418ee620a43938b7af366745af64e"
       ],
       "layout": "IPY_MODEL_87a224632d964e5fbe4fa4d392845650"
      }
     },
     "21ed760c13cc4633af17910fce2576b2": {
      "model_module": "@jupyter-widgets/base",
      "model_module_version": "1.2.0",
      "model_name": "LayoutModel",
      "state": {}
     },
     "244a478f6a514ac6a82239db74a35a31": {
      "model_module": "@jupyter-widgets/base",
      "model_module_version": "1.2.0",
      "model_name": "LayoutModel",
      "state": {}
     },
     "2a8a51536a7c447ca8556b40e9ecbc9d": {
      "model_module": "@jupyter-widgets/base",
      "model_module_version": "1.2.0",
      "model_name": "LayoutModel",
      "state": {}
     },
     "2f1fd51770d4412c8e2715e4a7b1886b": {
      "model_module": "@jupyter-widgets/base",
      "model_module_version": "1.2.0",
      "model_name": "LayoutModel",
      "state": {}
     },
     "2f81e87fd9f9459cb247734888ce453b": {
      "model_module": "@jupyter-widgets/base",
      "model_module_version": "1.2.0",
      "model_name": "LayoutModel",
      "state": {}
     },
     "3078887a408f43d2af806572833bc9d6": {
      "model_module": "@jupyter-widgets/controls",
      "model_module_version": "1.5.0",
      "model_name": "DescriptionStyleModel",
      "state": {
       "description_width": ""
      }
     },
     "470418ee620a43938b7af366745af64e": {
      "model_module": "@jupyter-widgets/output",
      "model_module_version": "1.0.0",
      "model_name": "OutputModel",
      "state": {
       "layout": "IPY_MODEL_8291b9cbad8a4577bde2ebcaffd87e50",
       "outputs": [
        {
         "data": {
          "text/html": "<div>\n<style scoped>\n    .dataframe tbody tr th:only-of-type {\n        vertical-align: middle;\n    }\n\n    .dataframe tbody tr th {\n        vertical-align: top;\n    }\n\n    .dataframe thead th {\n        text-align: right;\n    }\n</style>\n<table border=\"1\" class=\"dataframe\">\n  <thead>\n    <tr style=\"text-align: right;\">\n      <th></th>\n      <th>val_stress</th>\n      <th>val_stress_spc</th>\n      <th>val_xing</th>\n      <th>val_xing_spc</th>\n      <th>dis_loss</th>\n      <th>gen_loss</th>\n      <th>stress</th>\n      <th>critic</th>\n    </tr>\n  </thead>\n  <tbody>\n    <tr>\n      <th>epoch 1</th>\n      <td>1453.52</td>\n      <td>75.81%</td>\n      <td>286.04</td>\n      <td>92.73%</td>\n      <td>0.00e+00</td>\n      <td>4.06e+04</td>\n      <td>-1.12e+03</td>\n      <td>4.35e+04</td>\n    </tr>\n  </tbody>\n</table>\n</div>",
          "text/plain": "        val_stress val_stress_spc val_xing val_xing_spc  dis_loss  gen_loss  \\\nepoch 1    1453.52         75.81%   286.04       92.73%  0.00e+00  4.06e+04   \n\n            stress    critic  \nepoch 1  -1.12e+03  4.35e+04  "
         },
         "metadata": {},
         "output_type": "display_data"
        }
       ]
      }
     },
     "484211fd4d0c40088462f5a46375cea1": {
      "model_module": "@jupyter-widgets/controls",
      "model_module_version": "1.5.0",
      "model_name": "DescriptionStyleModel",
      "state": {
       "description_width": ""
      }
     },
     "53ba8c2f750b42d3b20ee3abe87a1b59": {
      "model_module": "@jupyter-widgets/base",
      "model_module_version": "1.2.0",
      "model_name": "LayoutModel",
      "state": {}
     },
     "5416cc69d56f408abd64d033c294e778": {
      "model_module": "@jupyter-widgets/base",
      "model_module_version": "1.2.0",
      "model_name": "LayoutModel",
      "state": {}
     },
     "57ea6fb2e78f4d5a83c213c172e0bc52": {
      "model_module": "@jupyter-widgets/controls",
      "model_module_version": "1.5.0",
      "model_name": "HTMLModel",
      "state": {
       "layout": "IPY_MODEL_244a478f6a514ac6a82239db74a35a31",
       "style": "IPY_MODEL_0579ef5e04a443e9acb37a0ccc3a84df",
       "value": " 464/834 [01:03&lt;00:50,  7.36it/s]"
      }
     },
     "634462ee108144ae89f4a21b43bdbdaf": {
      "model_module": "@jupyter-widgets/output",
      "model_module_version": "1.0.0",
      "model_name": "OutputModel",
      "state": {
       "layout": "IPY_MODEL_fd87488307354bcd8bac22b57563a486",
       "outputs": [
        {
         "name": "stdout",
         "output_type": "stream",
         "text": "[001] stress=1453.52(75.81%) xing=286.04(92.73%)\n"
        }
       ]
      }
     },
     "653ee729434a40f4b770c35ef0ca3873": {
      "model_module": "@jupyter-widgets/controls",
      "model_module_version": "1.5.0",
      "model_name": "TabModel",
      "state": {
       "_titles": {
        "0": "status",
        "1": "plot",
        "2": "log"
       },
       "children": [
        "IPY_MODEL_213791993d14454e91cda819512cf089",
        "IPY_MODEL_f17ab71d7cfd4ca2b4cfb76ebc00e4f6",
        "IPY_MODEL_d84bc9209ad24445a66e96d07136ba70"
       ],
       "layout": "IPY_MODEL_2f81e87fd9f9459cb247734888ce453b"
      }
     },
     "6fa23882808c4182b98ea1dd893c15f9": {
      "model_module": "@jupyter-widgets/controls",
      "model_module_version": "1.5.0",
      "model_name": "FloatProgressModel",
      "state": {
       "bar_style": "success",
       "layout": "IPY_MODEL_e579f2f65d314566b70e3af4fb3fedc4",
       "max": 11531,
       "style": "IPY_MODEL_edd412f18fec4c6ea39cf269ebb78564",
       "value": 11531
      }
     },
     "71fe046d2133481a99a4f0a143e31c0e": {
      "model_module": "@jupyter-widgets/output",
      "model_module_version": "1.0.0",
      "model_name": "OutputModel",
      "state": {
       "layout": "IPY_MODEL_21ed760c13cc4633af17910fce2576b2",
       "outputs": [
        {
         "data": {
          "application/vnd.jupyter.widget-view+json": {
           "model_id": "ebbb93f4e98d4195959aeceb6bca1423",
           "version_major": 2,
           "version_minor": 0
          },
          "text/plain": "  0%|          | 0/834 [00:00<?, ?it/s]"
         },
         "metadata": {},
         "output_type": "display_data"
        }
       ]
      }
     },
     "7df76b397f034a3fbad08df01a0fec4d": {
      "model_module": "@jupyter-widgets/base",
      "model_module_version": "1.2.0",
      "model_name": "LayoutModel",
      "state": {
       "height": "500px",
       "overflow_y": "auto"
      }
     },
     "7ebde06a9c08414ab78b9918f422e796": {
      "model_module": "@jupyter-widgets/output",
      "model_module_version": "1.0.0",
      "model_name": "OutputModel",
      "state": {
       "layout": "IPY_MODEL_a6a51961d52b4f2db5b3358cdf8cc3d4",
       "outputs": [
        {
         "data": {
          "image/png": "iVBORw0KGgoAAAANSUhEUgAAAb4AAAEuCAYAAADx63eqAAAAOXRFWHRTb2Z0d2FyZQBNYXRwbG90bGliIHZlcnNpb24zLjQuMywgaHR0cHM6Ly9tYXRwbG90bGliLm9yZy/MnkTPAAAACXBIWXMAAAsTAAALEwEAmpwYAABGgUlEQVR4nO3dd3iUVdrH8e8zLT2BJCQh9N6U0JESpEgRRUUFFKTY0XWxvVZcQVFABXRFQAHZBUSlKKiIqAgIAUQIRAJSEkIJoQSSkD79vH9kGQmkTCIg8tyf65rLMZmZnEmY+c1p99GUUgohhBBCJwx/dQOEEEKIK0mCTwghhK5I8AkhhNAVCT4hhBC6IsEnhBBCVyT4hBBC6IoEnxBCCF2R4BNCCKErEnxCCCF0RYJPCCGErkjwCSGE0BUJPiGEELoiwSeEEEJXJPiEEELoigSfEEIIXZHgE0IIoSsSfEIIIXRFgk8IIYSuSPAJIYTQFQk+IYQQuiLBJ4QQQlck+IQQQuiKBJ8QQghdkeATQgihKxJ8QgghdEWCTwghhK5I8AkhhNAVCT4hhBC6IsEnhBBCVyT4hBBC6IoEnxBCCF2R4BNCCKErEnxCCCF0RYJPCCGErkjwCSGE0BUJPiGEELoiwSeEEEJXJPiEEELoigSfEEIIXZHgE0IIoSsSfEIIIXRFgk8IIYSuSPAJIYTQFQk+IYQQuiLBJ4QQQlck+IQQQuiKBJ8QQghdkeATQgihKxJ8QgghdEWCTwghhK5I8AkhhNAVCT4hhBC6IsEnhBBCVyT4hBBC6IoEnxBCCF2R4BNCCKErEnxCCCF0RYJPCCGErkjwCSGE0BUJPiGEELoiwSeEEEJXJPiEEELoigSfEEIIXZHgE0IIoSsSfEIIIXRFgk8IIYSuSPAJIYTQFQk+IYQQuiLBJ4QQQlck+IQQQuiKBJ8QQghdkeATQgihKxJ8QgghdEWCTwghhK5I8AkhhNAVCT4hhBC6IsEnhBBCVyT4hBBC6IoEnxBCCF2R4BNCCKErEnxCCCF0RYJPCCGErkjwCSGE0BUJPiGEELoiwSeEEEJXJPiEEELoigSfEEIIXZHgE0IIoSsSfEIIIXRFgk8IIYSuSPAJIYTQFQk+IYQQuiLBJ4QQQlck+IQQQuiKBJ8QQghdkeATQgihKxJ8QgghdEWCTwghhK5I8AkhhNAVCT4hhBC6YvqrGyCEuPSOZOQzbc0BVu06gcOtADAZNG65PopnejehTljAX9xCIf46mlJK/dWNEEJcOuv2p/PoJ/HYne4Sv28xGvhoeFt6NIm4wi0T4uogQ51CXEOOZOTzWBmhB2B3uRn9STxHMvKvYMuEuHpI8AlxDZmzMQVbGaF3jt3pZm7coSvQIiGuPhJ8QlxDViQcx5u5CwUs35l2uZsjxFVJgk+Ia0i+zen9be3e31aIa4kEnxDXkAAf7xdqG1wO9uzZcxlbI8TVSbYzCHEFHMnIZ87GFFYkHCff5iTAx8QdraJ5OLb+Jd1acEeraBZtPVr+cKdyk7NrDe3a3Uu969vT/M4x7C0MpMDuumxtE+JqIdsZhLjM1u1P5/FFO3C43Djdf7zcTAYNs9HAzGFtLtnWgiMZ+fR9bwPWcha4+JgMLHugFfOWfsvy06EozYhm/ONz8OVomxBXCwk+IS6jIxn59Pv3RgodrlJv42c2svrJ2D/Vuzq/R5lXzjzfuX189cMDvGibgdVPdpOen7imyByfEJfRnI0pOFxl974crj+3tWDd/nT6/Xsjn29LLTP0TAaNO1pF8+PT3ejRJMKrthVY7Qx9fa7MBYpriszxCXEZrUg4Xmx4syROt2L5zjQm3H4dULH5wCMZ+Ty+aEelepTetE0zmkg1RtO2bVvq1avHCy+8wJAhQ/Dz8yvzfkJczWSoU+jSlVpsUu+lb73aV6dpcGjiLRWeD3xlRSKfb0stM8BMBo17O9T2BGtF24ZSxKYtZsOGDZw8eRKj0cjgwYN57rnnaNGihTePUKYr9bcQ4hwJPqE7V3KxyXXjvy93zg3A4LQxut5Z5p2oXubClHO9NygaRv1k61Gv2hHoY2L3+L6VapsZF93Sv2LPnj0kJibidrux2+0AVKtWjVGjRvHEE0/g8qta4QC7kn8LIc6R4BO6cqUWm5zjbY+sQ5iDpOQk0gMbFVtdWdJtuzWqxpaUjIvCoiznepQVbRvKhWv/zzwdW4PRo0fj5+fHsWPHSEhI4LPPPuO7774jOzsbn3ptqDbwJQxGMxiM57UXzEZjiQF2pf8WQpwjwSd05c8MDVZGRd7cb5ke51UPrDKUvYCmu+fSsWNHOnbsSIcOHSgw+HvVtnf7VGPue5OIi4vj2Wef5fHHHycgoCiIjmTk89qX21l7MLcoXUuhuRzcWLCJDs3r0bx5c1q0aMG/N528on8LIc6R4BO6cSQjn5um/ew5n64sJQ0NVpa3w3nezrkppdDKCJkLmQwat18Xzo0BJ9m6dStbt25l27ZthIWF0bj7QJIju6M0Ay5V/D4XDjUmJiYyYcIEfv75Z5555hla9r2HZ77ci9XhKrfdBqCq0cpZhxGXZkI5CsFoKbN3e86l/FsIARJ8QifOhU9ZvZtilJs2B/5Do0aNaNSoEY0bN6ZRo0ZERUVVKHTOOZKRz9y4QyzfmUa+3UmAxcTA1jV4qGs9zzCet3NuFaUcVrTvJxPhpxEREUFERATh4eEAZGVlcfhMHimWujhqtMFg8cWEi9ZVnTzWownd27XAYCi+62nPnj28Mvk9dkTejGb2qUhLgIr/7koaphXiz5DgE9c8b4YbL+Rv0hh/fR5JSUkkJSVx4MABkpKSsFqtF4XhuethYWFlPqbNZuPMmTMlXk6fPs2v7vqkBzcCrfTttRXp7Z3rtU27sxlNgl2cPn2a9PR00tPTS71+6tQpTCYTZrMZh8OBy+UiIiKCunXr0qxZM9q2bUvDhg358qiZHw7mF+slXi7S4xOXmuzjE9c8bzZqn89k0LirXW0GlzCvlJWVRVJSEvv372fXrl0sWbKE5ORkjh49iqZphIaGEhQUhMViQdM07HY7+fn5ZGZmYrVaCQ8PL3apVq0a4eHhNGnShCifCOYeKrumhLf9JaUUVTJ+Z3BMOC2rXU+NGnWoX7++V/fLzs72hOGBAweIj49n9+7d/PDDDyxYsACj0UjE4wvQLP5etqbyTAaNga1rXPafI/RFenzisqnoRuzLtZerokOIFgM8Xi8Ld05Rb6ik3tnZs2cJCQkpFl4BAQFomobD4SA/P5+srCzS09M5duwYQUFBNG7cmCZNmhTrLTZs2NCzGfyVFYl8+utRypyC/F+Pr8wXrduFfe86muXvQilFQkICtWvXpn///vTv358bbrgBk6lyn3ndbjdJSUn0/W8SlRm2rCjNZWfZg21o26TOZf9ZQj8k+MRlUZH9WZd6L9eFQ4oPrinEmzdppRSay074/q9oHOggKiqq1B5a1apVvQ4Pt9vN8ePHLxo2PXDgAIcOHSIiIoJGjRpxuP0/cWlmr59nafzMRmbfWZdV367iy9+zsEbFoJl9MSonpmPxnNm0lN43tKJ///7069ePQmNAhT90XOr5yAuHcI0aWExGuqi9/DD/Xb788kvatWt3yX6e0DcJPnHJVWQJP1DubX1NBmYMqIHFll2s11VST+zMmTPYbLZiIXWo3RO4DZZy260pF/X3LiJ1706OHj1KeHg4DRo0uOhSv359QkNDK7XI5UIul4ujR49y4MABHl3vwLtelMJiAJfSis+xuV0ot5P76ljp2asnT3yWcNGHCeVyYjTAjcYkcvZt4eekMwT2ewrNaEKdV7q3vA8dXu0BpAJzkm4nZgM4lAG3vZC83etw7P6eW7p1oEGDBsz5bDk3PjqBvYWBUt1F/GkSfOKS8+ZN0ahBl0gotBYSf9YXdxlv+MrlxHT4F6of31gs0ErqiYWHhxMUFFTszbYye/dcLhepqakcPHiQlJQUDh48WOyiaVqJodigQQNq1KiB0Wgs9WeVxttelNtWwMn5TxHc/nb8m3dHs/ihOe1EFh6hhfEk27ZvJ7fLE2AqY8Wl0wYbPsLY4x+4tNLbWtoGcq8WDCmFnyuPQlMAZdXD15Sb6IIU0r/7AB8fHx566CHS0tKYM2cOubm5BDbuSMgtz6IZjGjGP3rEUt1FVJYEn7jkvC7T5bKhaQZchvKH9zSnlciN72A0GjGZTBiNxmLXS/raues2cxCbQ7rj0sqoiIKLQYHJhPm4S32cc9eNRiMFBQWeBSCnTp3i1KlTnDx5khMnTpCTk0NUVBQ1a9akVq1a1K5dmzp16lC3bl3q1KlDQEBAiY898YcUlu08XuaHAFxOYqONfPhwD1JSUti9eze//PILiYmJpKSkcOrUKfy7PUBgTO9iIXHR8zVoVA80cCzbgSpjFSluF819sph4ZwwxMTHFPlCUN0Q9ZWBT3vnXcxxpMQxVxt/YpLmJSfuWXZt/4vjx4/j6+mK1Wrn11ltp060PHx4JRRlL77H7mgx8/5QcnSS8J8EnLjmvCzODd0WS/3fbT28LxeVy4XQ6cblcFbqelGfhq4xquNGKBYuGGwOKWPYR6c6o9OOff/3cSs7CwkIKCwuxWq3YbDbsdjtOpxODweAJPU3T0DQNt9uN068qUaPex2DxLfX3oBxWTv73Scg9TZUqVfD19b0oQPP6vQbm0h/D81heDkOalAPDl8+Tl5fHzTffTP/+/bnpppsICQkpd3+iw+Fg0JPjSQhoh8li4fwypMrlwIBi6sBm3NmpKQAZGRls27aNlStX8vXXX5Pf7FYCY/qWudFduZwEnvqNoY2N9OvXj9atW1+091CI80nwiUvucmzEvhR7ubzZRH65uVwujh075hkyTU5O5scffyQxMRGj0UhAow4E9XsajEY4bwjSqIHZaOCd2xvTprovH374ITNmzODee+9l9OjR+Pj4YLVaOXXqFA+vteH1Yh5v5t+UYvmQGgQGBvLdd9+xatUqNm3aRLt27TwrRZs3b17qYymlePGNKXy+M52A63pQ6FT4mw34p+/ht8XTcOek8+CDDzJu3Diio6OL3bfFuO/It5e/FcWiubmlcC3fffcdWVlZ9O3bl379+tG7d2+qVatW/nMUuiLBJy45bxc+eOtqqddY0S0X5d0+OTmZhx56CKvVyscff0zz5s3JyMhg064DfBp/kh2ZJhzKgOay4UjaRObmZVQxOalSpQp+fn44nU5SU1PJzc3F19eXwsJCIiIisAybDqbye3zectsKSH13MAA+Pj7Uq1ePdu3aERwcTEZGBlu2bAHwhGDPnj09tTzPt2jRIp5++mk+++wzevXqBRSVQevXrx8nT57EYrEw6IHHCes8iB+Tssm3Ob0eEVDKzan3BtGlSxduvfVWCgsL+fXXX1m3bh1NmjShX79+9OvXjw4dOlR6K4e4dkjwiUuuMpVSynI1VOiv6JaL8m5/k+8hPp36Cg888AC9evUiPT3dM0d44cXpdFK9enUiIiIIDg7GYrHgdrux2WxkZ2dz7Ngx0tPTMZvNXH/99Vg6D+dEQP1iqzT/jMYRgUzo7MvEiRP5+eefyc7OBsBgMOB2F/XG/Pz88PX1RSlFXl4ezZo14+677+bee++lUaNGnsdav349Q4YM4e2332bkyJFA0XaPMWPGsGBNPFVv/T8wmLyq4VmMo5CQHyewe/dulFKYTCaCg4Pp3LkzERER5OXlsWfPHtLS0ujduzf9+vWjb9++F/UwSyNnBl5bJPjEZVHWG39FeoK+Jo2pdzanf6s6ZQ7LXc43Jm+3Z3w8sh3f7jrOFzuOYXWW/Rzddis5i18gOthC9erViYqKonr16hddoqKiCAkJKXdI0maz8fbbbzNt2jRadu7JsetHlrlasyKMysm0TtCjRw+Cg4Ox2+0sXLiQuXPnsn37dpRS+Pn5ERkZicFgIDs7m8zMTJzOouFug8FAlSpVaNy4MT179qRevXq8/vrrPPjgg7z66qtomsaRjHx6T1uH3V3xLSLK5SA34Xty181l3LhxGAwGZsyYwcmTJ6latSotWrTAZrORmJhIjRo1iIyMpKCggOTkZOrUqePZz9i5c2cslosX0ciZgdceCT5x2ZQ2p7bwlyPePYBSuL9+lcyjB7Db7YSGhhIWFub577nr+cF1+LGwDi5VfOHKpXpj8mro1u2i6KWkylxN+Ufb4N4OdS758O3p06cZO3Ys3+44hH+fJ3GhlV0JxiuKxvHvs2XLFlq3bk3fvn3p06cPbdu2xW63s2rVKubMmcP69esJDAwkLy+Phg0b0qtXL2rWrMnBgweJi4sjJSWFwsLCokf83/yif0RtavQaga1Wu//VKK148PmaDLQ68S1L/zMLt9uNxWLhn//8JzfddBPvv/8+a9asAaB3794MHz6clPRcViYXcNxSE2WygMOG6+AWsrd+SafrGzFw4EBuvvlm6tatK2cGXqMk+MQV5+3il/MXtFitVjIzM8nIyPD8NyMjg0On81ic06DM3o1y2gje9AERflqx4AwNDcXXt2guzOVyYbVaKSgoIDs7m1OnTnmGGgtvmXBZ6lJezuLL27Zt4+FX3uFsq/uKHQxbGcpeSJ1t71OnTh0MBgOnT59m3759ZGdn07t3b08QVq1alW+//ZbPPvuMH374gejoaAwGA6mpqbRt25ZevXrRoUMHMjMzWblyJT8kHiOg31MX7c/z1oUfbAoLC3nuueeYOXMmSimMRiM33ngjTz/9NHv37uX9998n0yeK8IEvYTRZLlrdi8tFznfTKEjehtvtJiQkhDp3PU9GlaZlbjG5Wuaghfck+MQVdykPg/XmsTTc1LIdpUry95w8edJTazM3NxeDwYDFYvEsf3c4HNhsNvz8/AgJCSEsLIzcWyaVechqZSnlxnf5/+Hn51fs4u/vf0n+f9KPh1i8PbXsfYHltdHlpKbtCM90q0FmZmaxTfzJyck4nU58fX3Jz88nODiYVq1acdNNN3HTTTexd+9eli5dyvr162nRogWhoaGkpqZy+PBhOvTsz6GmQ3FWcB7yXK9a2a34ndxFM8MJGlWv6tkvWatWLXx8fBg8eDCHDx+msLAQi8VCWFgYDz75AotzG2IvY+rZz2zk47vrc/T3HaxcuZKNkXegWfzKbZecIPH3IsEnrriKDh+VNX/n7anlZpyMiT5abC4tKiqqxNWHLpeL7OxsT69y1MoMrJdmnU7x52jS+PTO6gCePX8FBQWe65X5//O/VvXheRh8/mRPVSnO/jiTwt0/MWDAAN544w2aNm36v28pTxgmJSWxceNGfv31Vw4ePEhubi6aVtTDbtCgAQEBAaSlpXHkyBFuuOEG3G0GccRUs+zN8yUw4yJrzgNERkaSmppKTEwMHTp0wGq1kpqaSmpqKsfO2qBpT/yb31i0n9FhJXf3Oow+Afg37VLuxv7zP3B5vSdVzgz8W5HgE38JbxcMlHc7b1eO/pk3pueX7OCLhBOX9Ow55XJi+30tGd/PxGAwEBISQtWqVQkPDycyMhL/iNqcrNqCI0TiwICPEbrW8GFomwiuqxtFaGgoZnPZw4PevmmXx9dkoI9rG/+Z/g52u502bdrw1ltvERsbW+qim+zsbFavXs2XX37J+vXrsVqtREdHYzKZOHXqFL73zah4KCuFQYMJvWvy+09LmTVrFs2aNWPfvn3cfPPNvPLKK5zQQkv894JyAQaveu4Gl41l99SlTZs2NB+3moKyuoj/Iz2+vxcJPvGXKW9DuTc9Q283YXv7xnTixAkSEhLYuXOn55JeoAi9bwqUUTaropTDhs/aKQSowqKyav/bmnD27Fkc1RoTfseLaBcs61cuJygX9tTdmKOboVl8wWHDdGwnEVmJ1Ai2EBkZSXh4OKGhocxMb4DNq1WSZZ+Mfm4hziv9GjF//nxee+01zpw5Q82aNXnjjTcYNGgQNpuNnJwccnJyyM3NLXY9Ozubw4cPk5iYyIEDB0hLS6P6M19Wusi3clgJ2zabnu2v58iRI6xdu5bWrVvz28HjBA2ehNvwJ/fpKTdH376d6m1vwnLTGFR5Q8UuJ+1D7Xz2fwNlj+DfhASfuGp5N39XpKx/xCXNF7rdblJSUooF3M6dO3E4HLRs2ZIaNWp45q6OHj3KvhwjgX2LTjE4f7GIUaNCPcGinqrG813C4Pge4uPj2b59O4mJidSuXZvmHW7kt+hbyp77Uqp4z8XlRLldZH79NvnJv+Lj44PZbMb/xgfwadaj7D1xFz5WKdy2AvLnj/aUSCssLCQrKwuXq+hDybl9c0FBQQQGBhIUFFTsEhISQnBwMCEhIQQGBjL1SDQOKrfoRrkchJ/dT6OcnSQkp5ET3Q5L4y4ok2/Rv4c/OR+r7AV0ytnA1qq9UF4surEYIfzX2WQe3c+ECRO46667pGTaVU6CT1y1vC99VnaPxYiLjhk/cfZYEidPnuTUqVOcPn0aHx8fqlSpgo9P0SkGVquV7OxsCgsLCQoKokqVKsXezF1+VTkddj05VZviNlrQXHaM1myc/mHlr5xUCuW04T64Befu73GePYnb7fbU+DxX5zO458MEtCy7wHSpnDYsP02BvDMAuP1DcfZ+vsxTGrztMSvlJnf2SFwul2cB0LmFQefqkwKEhIQQEhJS1JzzapheWNM0sPuDlX+egNuWT+Y3Uwi97QU0YyU2vJf2PF0OtJQtFBQU4nddr3If16jB3JHt6d64Gj/++CMvv/wybrebN998k379+l2So6vEpSfBJ64a5xaxnBv6LMoz72pJGnEVlZs+f7GE24lyFfWE/M6meIo6u91u8vLyPNVOzj9FoW7dulSvXh0fH59ipzGcX1j6/MvoNfleLXzxMWn88FCLi+5/4eO2nbyefFvlVtKU1LMtb45UKYXVWX4tTJNy0v3MN2RmZpKVlUVGRgZnzpwhMzMTu92OyWTC4XB4bh8cHEzbtm1p27YttWrVIjQ0lNDQUKpWrUpoaCgFBn+GLtxNoaP8n12i/32Q0Lwoxl2hh3VYOf7xE1S//32v5iB9TRr7JvQ/r1mK5cuX88orrxAWFsbEiROJjY29pG0Uf54En7gqzI9LYvy3+1Heht15zLhofvQrEu3VcNZqi8Hii8HtoGp2MoFpv3IyKZGjR4/SuHFjYmJiPJeWLVsSEfHnKm54vYBEKWbEasTGxhIcHPznH68UJuXknY5uunXrRlhYGFD2XOqcjSl/emuJ3W73hOH27duZO3cuW7Zswel0omkavr6+hIWF4efnh8FgwG63k5ubS2GVeoTd/gKawQQV7LEplwNNM1Ruj+L/Fsmcv83DqBVdGoUo9me6cGD0uids++/DjB49mhdeeAE/v6KtDy6Xi0WLFjFu3DiaNm3KG2+8Qdu2bSveVnFZSPCJv8Tp06eJi4vj+++/Z9W+LLQbhlduWMjtIuTMbqqnbSArK4ukpCRMJlOxgIuJiaFp06YllqP6s7wdjjXjotbW9/j111+57rrr6NGjBz179qRLly74+//Rs/izJ1so5ebYO3d4amj6+/sTGhpKdHQ0derUISoqivDwcMLCwggPD8ftH8r4rQ5sZUxUVqYyidPpZPHixYwdO5a0tDSqVKlChw4dKCwsZOfOnQQFBdGmTRvqXteOPb7NScq3eN3DVy4HKNBMFR8mVS4ntqTNOPJzCLiuJ5rFF4PLQedGEcSn5uJ0qwqV1FP2AgJXjyclJQWHw0FsbCyTJk3ihhtuAIo+FMydO5c333yTzp078/rrr9OsWbMKt1tcWhJ8osIqWhdTKcWhQ4fYuHEjcXFxbNiwgWPHjhEYGEi+5kf4yPcrX13EaadN+mpuaNHAE3JRUVF/8hl6r6Kb8a1WK1u2bGHdunWsXbuWhIQEWrduTc+ePenRowffZ1Rh6Y7jlT7Zwm3Lx7X4afz9/cnIyCAvL4+goCBcLhd5eXlUrVqVqKgoqlSpgsViweVykW6qRn6re8FgKD7n5nlrcINmwKIp2oQ6ua1xIM1rV/OE57leTkmUUmzcuJHnnnuOHTt2EBgYyLPPPsuAAQPYt28fX3z/M1tDb0Izl3Fa/AUMbgcuzVSpD0puu5WMT57B311AZmYmbrcbn7CaRIx8r8xzEEt+MCdtQqw0PBvPokWLMJvNWK1W0tPTqVatGo888ggvv/wyfn5+FBQUMGPGDN555x369+/P+PHjqVu37kUPKcWwrwwJPlEh3uy/69YwjF27dhEXF+cJO03TaNmyJXa7nZ07d9K8eXPuu+8+fnHVZf0xJxWt0WjUwGIyMHNY27+0QPCfreWYn5/Ppk2bWLt2LevWrWPfsQxCh03xajXhhQwo/NLiOfP9TFq2bElhYSEJCQnUqlWL6tWro5Ti8OHDpKWleYZbc3JyqFmzJq1j+5BVrycptnLeXJULze3Gb8cicvZt4cyZMxiNRk8Int+bPP96WFgY+fn5fPjhh6xduxZN06hRowb2lgOxNOvhVXUZI2A2GZh1X1se/2Q7heUUAj/f+Ycem5SD3MS1GJLWk3lkP1V7P4pP854VXmijHFYKv/wXTWqE8frrr+N2u1m4cCFffvklQUFBZGRk4HQ66dKlC5MmTaJz585kZ2czbdo0PvjgA+69917Gjh1L9epFRQykGPaVI8EnvObNm7zmcnD2s+eICjQRGxtLmzZtyMjIYNmyZRw9epSYmBj8/f1JTk7m6NGjRDy+0KvTwuF/KxBRRasX0xIITPsVP1c+Foul2MXHx+eir12u75nNZn5OOnPJ3rCys7P58OuNzN7jxqUUVGBP2rmAzTx6gOnTp7N8+XJuu+02YmNjOXbsGOvWrSM+Pp7rrruOpk2bEhISQnZ2Ntu2bePQ6VyqjXjX68Ui535W7VB/CgoKOHPmDGfOnPEseint+qlTp0hPT/cMxdZ6eol3G9mVIuhUAsfWzCfE6KDazU9wpkqTMo9eKvbWptxo540qmAyg3C5yv3uXgN7/RJWx8vVCBhQWs5HmmZv57uMpOJ1OfHx8aN++PZMnT+a6665jxYoVLFiwgI0bN+Lj40N2djZhYWE89NBD/Otf/yI/P5/Jkyfz3//+l4cffph7Hx7DPfN3STHsK0SCT3jNm2E9A4re9f2IPh7HF198wd69ez0VRurUqUNAQAA2m81zzlyV0Z94vZhFc1ppvGu2Z8l8cHAwgYGBBAYGEhAQUOxMOLvdXuxis9ku+tql+J7D4cBsNuMbXouAtgOwNO4CZl80pw1j6g4CUrfi58qrcNBazUHscUSyzxaMQxkwuOw4T+5Di2xa4l5Ck0Hj5Rsj6Fq/qucxcnJyWLRoEXPnzqVevXo8+eST9O3bl23btrFu3TrWr1/Pzp07adWqFX6xozhIlNd1PY0aDGlXg4l3tvLq9unp6UycOJGFCxcyevRoHn/8cfLy8uj7nySvV+4OM26hQYMG+Pn5FQ0JHososzi5xQB2h73swgNOG8po8XIhi0LZC8jfvY4aeQeY+tqLxMbGMn36dN5++20yMjKwWCx06tSJ9957j5iYGE6cOMFnn33GvHnzOHToEA6HA5fLRadOnZg4cSL169dnwoQJfHMiAJ8WPcoMcimGfelI8OmYt/MJR44cIS4ujlcTA3Bp5Q8HuW35pM8cQVhYGEajkfT0dGrXrk2rVq08qyljYmKoVasW17/2g9eLOXrVNnFztVxOnz5d7HLmzJli1319falWrdpFl/Dw8BK/HhAQUPkqIkrhcDiuWNCetsJRv4ZYo1qC2QdlL8SRtBnDgfX4OHIALmqPzWbz9LCg6NDYoKAgfH19MZlMOJ1O1F1TvCrGfD63LR/n509x/fXX061bN9q1a0erVq08h+UajUays7OZMmUKM2fOZNiwYYwdO5bIyEjPY3i7mMfHoBjms4OkpCSSkpI4cOAAhprXE9jvqaIPAecFoHI5UG4XnDqAoUaLYt+76O/nKtqC4c0wp1EDh7UAg8UPt72Q/D3rKNixkpgG0QwdOpSgoCAmTZpEUlISRqORzp07M3v2bE9t0927dzNzwRJW7MvF1LCzp/JOQ1MmaZaa5Z7hCFIa7VKR4NOpsuYTjBoMqHqS4/FriIuLw2azERsby/ZGo/BqLk65uSV3Na1ataJly5Zcd911JRaDhqJe5Ge/Hi23+onRoLH2mRvLHeZRSpGdnV1iKJYWmG63u9RQLCkwq1SpctVU5khLS2PdunWeS0FBAd27d/cslmnYsCGapnk2nm/bto1Zs2bx7bff0rdvX4YOHUqDBg247dOjFd5GoZSbE9PuKgrO895GNE0r9v9ms5ng4GB8fX0v6tkWNB9AQfXWZS9ucjup6zpOrN/xYve12+2knrXymzWUNHNN3AYzOK3k71lPwY5vCBs2xathVO/CT6EVDbT/8TyVG7fTjnvDbE7s+AmA8LpNqd7jPrJCGqFMFpTdin/6bmY/MwRXQHiJrznlchSdOu/Fhy8phn1pSPDpkDdzdQbl5B/1srmtZydyc3OZN28eK317eDUfV5FPpd60BeCtO69nSPvaXj1mRRUUFJTZi7zw63l5eYSFhZXZizz/6+Hh4VeshuPhw4c9Ibh27VoATwj26NHDs5Lw9OnTzJkzh5kzZ9KgQQNOdn3Oy7qef7Bobvrm/kBiYiK//fYbSinCwsI4e/YsWVlZKKUwm824XC4iIiJo3rw5nTp1olWrVp52pGYV8sL6HOxl7GN3262kz3+K/t3ae05TL61XfK6Hm5eXx4kbx3q3PUK5MbidqMrWYnXaiTm+kk59bmf27wqX4oIaqw6U2130YamSlWrOkR7fpSHBpzNnz55lzIJNbDzhLnM+AeVCO7iJYyum4XK5CA8PJ+rWMeREtCxz6Kgy8xDnep92p+uinp9Rg4kDL1/oVYbD4SgxGEsLy8zMTIKDg8sdcj3/e2VtEfCWUork5GRPCK5bt46AgABPCPbo0YOIiAhWrFjB+JX7yIts6XXpL6UUISqf1/vU5PaenXG73cyaNYuJEycSGBhI48aNOX78OL///jsBAQFYLBYKCwvJzc3FaDTicrmIjIwkJiaGBl1v48fC2riUdtHog8mo0cG+i6X/Ho/VaiUqKoply5bRpUuXctvo9Z5IhxX7ulmYejx20aG4yu0CzVBmb8xk0Ii0HiPNEH5JysOVyu3klqZVmXF/N8+XZPtD5UjwXePS0tI8Wwo2btxISkoK4aPne7WKzeCy81Z7JyaTiQULFvBz/B6q3PtOmdXvK7vyrLyTGv7O3G43WVlZ5Q65nn8xm81ez1FWq1aNoKCgct9UlVLs3bvXE4Lr168nPDycHj16ENOlF+/u8y+z51XCMwOnE+ua6biOJRIREcH06dPp2bOn5xYul4uDBw+ye/duT89wx44dpKWlERAQgNvtpqCgAGOVKALbDiDwup5oZj/Mmpue9QN5bkAbGkZVweFw8OGHH/Liiy9SUFBA7dq1mT17Nn369Cn1eXuzGAu3C5LjaGHdw5NjJ/BNUgE/Jp3F6iz69+/SjF59GDDgpujI48tXm1M5rJz4zxhuvbEjH3/8MQnpDtn+UEkSfNeQc29s5++fy8vLo2vXrp5LmzZtaPzqD16X2bLNf5j69etz//33M3jwYOJPWOXFdpkppcjNzfV6jvL06dPY7Xavhl3PXUJDQwHYtWuXZ2h08+FszwkUFTog1mmj1YlV7I/fRH5+PnfffTeDBw+mY8eOpYZSYWEhe/fuJTExkcTERLZt28auXbvIy8vDbDZ7Vj8ChIWFeRbQ3Hzzzaxbt45x48bhcDiIjIzk9ddf5/77779oONmrIX23g+zFL9KuSR3i4+MZOnQo48aN85R787aE3J/uzf3xQBQVDPhjVMWAwmm3cXrFJKwp8Wiahjk0mpoPzSxzVatsfyidBN9f5FIMUdjtdnbs2OEJuk2bNhEcHExsbCxdu3YlNjaWJk2aeF6QTqeTTZs28eB3Z3Fq5X+KNSknK0c18axKO7/t12rv7O/KarV6Nex67ns5OTmeg2/PhWFYWBi5ypf9RJMR3BBl+qOMWHlDffd2qM3rt7Vgz549LF26lKVLl5KXl8fdd9/NoEGD6Nixo1cLgjIzMz29w23btrF161YOHjxYtJVAKVwuF5qmERwcjNlsJjMzEygqzTZmzBhefPFFgoKCPI9X1iIuDTdq4xwiXWewhNYgyVgbc6POuI0WfAyKu9vVZsVvJ7w6iNbb453K42uCmGArOzJNOJQRHFYK9/5M8IntpO7dScuWLdmzZw8+XUcSFNOnQqfJiz9I8P0FKluhITc3ly1btnh6c9u3b6dhw4bFenQ1atQodp+srCxWr17NN998w/fff0+9evUI6/s4ySqyzJWU8qK5tjmdTjIyMsrsRZ46dYrD7Z4Ac/nzjSUtutizZw9Llixh6dKl5ObmMmjQoAqF4DlKKVJTU9m9ezfbt2/n559/ZteuXWRkZHi+f46maTRp0oQ333yTAQMGYDaby/ygFh1sYewHn7I4Leii/ZG4nRgMRcWqy3qtFB0QrCpVO/R8pb3mcnJy+P3335k7dy5LliwhJiaGox2e9Gr7iSyGKZkE3xVWkRJXPo7cYsOW+/fvp23btp7eXKdOnTxnn52jlOLAgQN88803rFy5kh07dtC9e3cGDBhA//79qVGjBkcy8un73s9l7huSYRIB3g/1acDecb3w9S151e+5nuCSJUvIzc319ARvuOGGSm8NcTgcJCUlsXXrVqZMmcK+ffs8PcNzLBYLdevWpWvXrgwZMoTu3bsXK1bu1aricnpzfmYDnWr5szY5u/I1Z/HuNTd58mQ+//xzsm9+07u/i2x/KJEE3xXm1aniyg0H48j+aQ5dunTxBF3btm09h6bCeefXJaSRb3NhUk5cB3/Bkfgdt3a/gQEDBtCzZ0/PCkGr1cqKFSuYN28eCekOgvo9BQZTsU+zMlcnzuftykjNaeX0rJF06NDBs2K0Q4cOJZ6Icf5waE5OziUJQYAtW7Zw//3306xZM+rXr8/cuXPJycnBYDAU28BvsViIjIykbdu2WDoPJ/6sb5mvR+Vyca7S5/kLXc5/rdQPDyg3QJXTgdlkAoOh0vPjSin+8Y9/8F3gTShj+QvUpMdXMgm+K8zbNxJ/s8bu8f1KfSP4elsyzy7fh8NdfCK8qHiz0fMiUkqxY8cO5s2bx+eff06bNm144IEHuOOOO0gvcMtcnShTRU6feK5HbeLi4jyrRpOSkujUqZPnCKY2bdpctADl999/9/QEs7OzPQtjKhuChYWFjB8/nvnz5/Pvf/+byMhI/u///o+EhARCQ0Pp06cPmZmZ7Nq1i/T0dKKeWOTVJne3rRD/9EQKI69Ds/gR6GNiYOuaxV4rpW3LORdsz3YMZvLYZ/63wb0h+XZXpV5zTqeTDo9PIzO06SXfWqQXEnxXmNdDRxcMUZxbsbly5UqW/7iR4zGjyiwo7GsycE9ICssXziYnJ4f777+fkSNHUqdOnUvwLIRe/JnTJ7Kysvj55589q0aPHj1KbGysp0cYExNTLNzOheDSpUs5e/aspyfYqVOnCofg1q1bPb2/mTNnkpuby9NPP83q1avx8fHhscce49VXX6XlxA1ertp0UyvuLfbt20f16tUpLCzknXfe4Y477ii28Of8+cQ8mwNlL6RNqItpj9xCvWpB5OTk8Mgjj/D777+zZMmSixaOeWtv6hlunr6xzDqkMl1ROgm+K8zbHl+gj4kdL/dgw4YNnvk6h8PBgAEDyG3Sn82ntHKGZ5xEF6bw5sAYunfvftWU2BJ/P5fquJzTp0+zfv16z4b606dPc+ONN3p6hM2bN/eEyKUIQavVymuvvca8efN47733uOeee8jKyuJf//oX8+bNw+VyUfPpxbgN5Vds8TNB6NqJpKen4+/vT2ZmJgaDgfr16/Puu+/SqlWrEu+3d+9eRo0aRWBgIB9//DF169ZFKcWcOXMYO3YsU6dOZcSIEV49nwut2HqAp5btxmCyFNs/KNMV5ZPgu8K8PeEg/Ow+Dnz2Bs2aNePWW29lwIABXH/99WiaVqHwlPF9cSlcji0sx48fZ/369Z6h0by8PLp37+4JwkaNGqFpGnv37vUMh549e5a77rqLwYMHex2C27Zt4/7776dhw4bMmjWL6tWrY7PZmD59OtM2HMfctJtX2wJev60FX3/9NS+//DIGg4Hc3FwsFguZmZnccccdvPHGGyUegux0Opk6dSpTpkzhzTff5OGHH0bTNHbt2uV5Hh988EGp9WzLsmHH7wx9/WMCr+uJzY1MV3hJgu8K83ZT7RMNchh2e99ilezPqexwqRBXsyNHjhSrM+p2uz0h2KNHD+rVq+cJwaVLl5KVlcVdd93FoEGD6Ny5c5khaLPZmDBhArNnz2batGkMGzYMTdM4fCaP3u+ux1FGndILhwxdLhcLFizg1VdfJTw8nKNHjxIZGcmJEyd4/vnnefrpp0tc3bpnzx5GjhxJaGgoc+fOpXbt2uTl5fH4448THx/PkiVLaNGiRYV/b7/88gsDBgzgu+++o127dhW+vx5J8P0FftidxhOfJeBwuYtVyCjvVPHCwkK+/vprXoq34PaioK70+MTflVKKgwcPFgtCX1/fYgW3c3NzPSGYmZnpGQ4tKwTj4+MZNWoU9erV48MPPyQ6OrrURSmacuNrMZX5epwxYwaTJ0+mdu3aJCcnExUVhdVq5Z133mHw4MEXbfx3Op28/fbbvPvuu0yePJkHHngATdP473//y3PPPVfsaxXx1Vdf8dhjjxEXF0f9+vUrdF89kuC7Qk6dOsWqVav45ptv+Omnn2jarivhXQdzSFWj0KlKHaJwu91s2LCBhQsXsnz5ctq1a0eVmx5lR7YvzjLqKsqKLnEtUUqxb9++YnVGQ0NDPSFYs2ZN1q1bx5IlS8jMzPQMh5YUgna7nTfeeIMPP/yQKVOmMHz4cI5mFvwxlGtzohyF5Cb+hH3Xah4YfBsTJkwgODi4xLZlZWXx1ltv8dFHH1GrVi2OHDlCUFAQderU4b333qN9+/YX3ScxMZGRI0cSGRnJnDlzqFmzJr///juDBw+mVatWzJo1q1gFGm/MmDGD999/n82bN3tKromSSfBdJkopdu3axcqVK/nmm2/Yt28fffr04dZbb+Xmm2+mWrVqZd5/3759LFy4kE8++YSQkBBGjBjB0KFDiY6O/lMr7YS4FrjdbhITEz09wg0bNhAdHU2PHj1o3LgxJ06c4NtvvyUjI8MzHNqlS5diIbhz507uv/9+atasyUcffVSs6tHRo0dp1aoVI0aMYO7cudhsNgYMGMB7771H7dolnxSSlpbGa6+9xrJlywgPDycrKwuXy8Wtt97KpEmTLqqq5HA4mDRpEh988AFvv/02I0eOpLCwkDFjxrBx40YWL15c6qKZ0rz44ots3LiRNWvWXJITPq5VEnylqEwtTavVyrp16zyrMM1mMwMGDGDAgAHExsaWuJn3fKdPn+bzzz9n4cKFHDt2jKFDhzJ8+HBiYmIuuu2lWmknxLXA5XKxc+dOz7Dopk2bqF+/Pq1atcLhcJCQkEBWVpZnOPRcCNrtdiZNmsSMGTN46623GDVqlGeYsdftQwjrMpg9BQFFvUC7lbzd66hnS2HGW+Pp2LFjiW3Zt28fY8eOZcOGDVgsFjRNIzc3l2eeeYbnnnsOf//i+wYTEhIYNWoUNWvWZPbs2URHR7No0SKeeuopXn/9dUaPHu310Kfb7Wb48OEUFhaydOlSjMbKV5K5lknwlaAioXLixAnPEOa6deuIiYnxrMJs2rRpuf9grVYr33zzDQsWLGDjxo3ceuutDB8+nF69epV7eKkUixaiZA6Hg+3bt3uGRrdu3Uq9evUICQnh2LFjFBYWMmjQIAYPHkyXLl1ITExk1KhRREVFMXv2bJILfHhkwa84nO5iZciMgMtp5/TyiVQni0mTJnH33XeX+Dr/5ZdfeOGFF0hOTqagoIDAwECcTifvvPMOQ4cOLdb7tNvtvPnmm8yaNYupU6dy3333kZSUxODBg2nSpAmzZ8++qDxhaWw2G/369aNly5a89957l+bUiGuMBN8FvBlG9DFqDDDtYsOqL0lKSqJv374MGDCAfv36eTW27na7iYuLY+HChXzxxRe0bduW4cOHM3DgwAqP6wshymez2fjll188Q6Pbt28nPDwcq9WK0+lk8ODBDBo0iI0bNzJj/mJC7nkLhyp9laiPUaPa9tls+fEbqlat6lnNaTYX3xahlGL16tU8//zzZGdnk5GRQVBQEDVq1OCDDz6gU6dOxW6/Y8cOz+Kbjz76iCpVqvDMM8/w/fffs3jxYq9XbZ49e5auXbvywAMP8Mwzz1T8F3aNk+C7gHeHVzqp7z7Bv/o3oWvXrhf9Yy/NgQMHPPN2gYGBDB8+nKFDh1KzZs1L1HohhDcKCgrYvHkz69at49tvv2Xv3r2YzWY0TaPeoBfJqXYdlHHg8rnFY0/cUI1nn32WJUuWYDQaGTVqFJMnT76od+Z2u/n000956aWX0DSNjIwMzGYzffr04Z133ilWUenc1os5c+Z4Nt4vXbqUJ554gldeeYV//vOfXvXiUlNT6dy5M1OmTGHIkCGV/2VdgyT4LnCpN4efOXPGM2939OhR7r33XkaMGEFMTIwMQQhxlcjNLToJZdmyZaypcnOFj/yxWq28+eabvP/+++Tn59OvXz+mT59OvXr1it3HZrPx4YcfMmHCBHx8fMjNzUUpxZgxY3jppZcIDAz03Hbbtm2MGjWKJk2aMGvWLPLy8hgyZAi1atVi3rx5VK1atdw27tq1i5tuuolly5bRrVu3Cv5Wrl1Sx+oC+V6EHkC+vfTbWa1Wli1bxu23307Dhg3ZsmULr732GqmpqUybNo1WrVpJ6AlxFQkKCuLmm2/m448/xuBF6EHx9wBfX18mTJhAVlYWs2fP5rfffqNhw4a0a9eOuLg4z+18fHx48sknSUlJ4cEHH0TTNHx8fJg1axb16tXjP//5j+ckifbt2xMfH0+TJk2IiYkhPj6eTZs2Ubt2bVq3bs0vv/xSbhtbtmzJZ599xqBBg/j9998r+Fu5dknwXSDAp/yTyaGoNND5lFLExcXx6KOPUqNGDWbNmsXAgQNJTU1l0aJF9OvXr9zFKkKIv5637wH+5otXTBoMBh544AFSU1NZs2YNTqeTbt26UbduXRYtWuQ5KzA4OJjXX3+d/fv3M3jwYBwOB1arlWeeeYaWLVuyYcMGoChQJ02axFdffcW4ceMYPnw4r7zyCu+99x633XYbU6ZMKXbkUkl69erFlClT6N+/P8ePH6/gb+PaJMF3gTtaRWMylN0bMxk0BrYu2pOTlJTEuHHjaNCgAY8++ij169cnISGBn376iVGjRsliFSH+Zrx5D0C5yIj/jjvvvJOvvvoKu91+0U169OhBQkIC+/fvp2nTpp5yZRMmTMDhcAAQFRXFzJkz2blzJ/369cPpdJKcnMwtt9zCgAEDSElJAaBjx47s2LGDunXr0rJlS1wuF7/++ivLli3jtttu85xGX5rhw4fzyCOPcMstt5Cbm1u5X8w1ROb4LuDNqk5fk4Hh1VJZ+dl/SElJ8ey3a926tQxhCvE3522BiKUPtGLrT98yf/589u7dyz333MPIkSNp27Ztie8DZ8+e5bnnnmPhwoUADBs2jClTphSbq4uPj+fZZ58lISGBwsJCjEYjjz32GOPGjfNUjtm8eTOjRo2iTZs2vPvuu0ybNo3Fixfz6aef0rVr11LbrJTiscce49ChQ559xnolwVeC0vbxGVDgdpLz3bv0bhHN8OHD6dOnjwxhCnGNqWiBiJSUFD755BMWLFiAxWJhxIgR3HfffSWu2HY4HLz99ttMnTqV7OxsbrrpJj744AMaNWrkuc2PP/7I008/zbFjx7DZbPj4+DB58mQefvhhjEYjBQUFvPLKK3z++efMnDkTs9nMgw8+yJNPPskLL7xQaq1Sp9PJwIEDCQ8PZ968ebr9oC7BV4ojGfnM3ZjCsvijFDoUylFIcOZ+Rt1Qm4fvvaPUun1CiGtDZQpEKKXYvHkz8+fPZ9myZbRt25YRI0Zw5513XnTskFKKxYsX89JLL3HkyBFatmzJu+++S48ePYCiLRBLly7l2WefJTs7G5fLRVRUFHPmzKFXr14AxMXFcf/999OxY0deeOEFHn/8cfz9/Vm4cCERESVXbsrPz6d79+7079+f11577RL+xv5GlLhIcnKyGjdunGrQoIFq1qyZmjhxojpy5Mhf3SwhxN9IQUGBWrx4serfv7+qUqWKGjlypFq7dq1yuVwX3XbLli2qffv2StM0VbNmTTVv3jzldruVUkrZbDb1wQcfqJCQEOXj46N8fX1V9+7d1f79+5VSSuXl5akxY8ao6OhotXz5cvXyyy+r6OhotXbt2lLbdvLkSVW/fn01d+7cy/Pkr3ISfP+TkZGhZs2apTp16qQiIiLUmDFj1LZt2zz/+IQQorJOnDihpk2bpmJiYlTt2rXVyy+/rPbt23fR7Y4cOaIGDBigjEajCg4OVmPHjlVWq1UppVRubq569dVXlb+/vzKZTMrHx0c9/PDDKjMzUyml1Pr161X9+vXViBEj1LJly1T16tXV+PHjldPpLLFN+/fvV5GRkWrVqlWX74lfpXQdfDabTS1fvlwNHDhQhYSEqCFDhqiVK1cqu93+VzdNCHGNSkhIUM8884yKjIxUHTt2VDNnzlQZGRnFbpOXl6eeeOIJ5efnp8xms7rvvvvUmTNnlFJKpaenq0cffVT5+Pgoo9Go/P391ZQpU5Tdble5ubnqH//4h6pRo4ZauHCh6t69u+rZs6c6fvx4iW3ZvHmzCg8PV9u3b7/sz/tqorvgc7vdavPmzeqxxx5TYWFh6sYbb1Rz585VZ8+e/aubJoTQEYfDoVatWqWGDBmigoOD1Z133qm++uqrYh+8nU6nmjp1qqpWrZoyGAyqe/fuau/evUoppVJSUtQdd9yhLBaLMhqNKioqSn3zzTdKKaXWrl2r6tatq0aNGqVeeOEFVb16dfXDDz+U2I4vv/xSRUdHq5SUlMv/pK8Sugm+gwcPqtdee001bNhQNWnSRL3xxhvq0KFDf3WzhBBCZWVlqdmzZ6uuXbuqatWqqTFjxqjt27cXm2pZvny5atSokdI0TTVv3lytXr1aKVXUg7zhhhuU2WxWJpNJtW3bVu3Zs0fl5OSo0aNHq1q1aqnJkyer6OhoNXbsWOVwOC76+dOnT1dNmjS5qOd5rfrbrOqszPl4WVlZLF26lAULFnDgwAGGDBnCiBEjaNeunW6X8Qohrm4HDx5k4cKFLFiwAD8/P0aOHMmwYcM8B9kmJCTwxBNPsHnzZiIjI3n11VcZPXo069ev55FHHuHQoUNomsZdd93FBx98wM6dO3nooYeIjY3l+PHjOJ1OPv3004u2Wjz//PNs3ryZNWvW4Ovr+1c89Svmb1G5Zd3+dPr9eyOfb0slz+ZEAXk2J59vS6Xfvzeybn+657Z2u52vvvqKu+++m7p167JmzRpeeOEF0tLSmD59Ou3bt5fQE0JctRo0aMD48eM5ePAgH374IUlJSVx//fX06dOHRYsW0ahRI+Li4jhx4gSxsbGMGTOG4OBgVq1aRWJiIp9++ilVq1Zl6dKl1KhRg7i4OOLj4/Hz8+PgwYOeGqKrVq0q9nMnT55MrVq1uO+++8otg/Z3d9X3+LytojC5ezA/fvkpixcvplmzZgwfPpxBgwZRpUqVK9dYIYS4DAoLC/nqq69YsGABW7ZsYeDAgYwYMYJu3bpht9v517/+xaxZs7DZbNx55528++67LFu2jJdeeonCwkKCg4P56KOPCAkJ4ZFHHqF169bEx8czdOhQ3nzzTU8VF5vNRt++fWndujXvvvvuX/ysL5+rPvi8PR/PkLKFB2ICGTZs2EVHgQghxLXixIkTfPrpp8yfP5+cnByGDx/O8OHDadSokefIo5MnT9K5c2emTp3KihUrmDJlCi6XiwYNGvDxxx8zf/581qxZQ1RUFAaDgc8//9xzJmBWVhZdu3bloYce4umnn/6Ln+3lcdUPda5IOF526AEYTPi36MErr7wioSeEuKZVr16dZ599ll27drFixQry8/Pp1q0bXbp0QdM0du/ezerVqzl79iydOnVi+fLlzJ8/n2HDhpGSkkL37t05fPgwb775JmlpaRgMBtq1a8dXX30FQNWqVfnuu++YOnUqS5cu/Yuf7eVx1ff46r30Ld40UNPg0MRbLnt7hBDiauN0Ovn+++9ZsGABq1evpnfv3owcOZI6derw1FNP8fPPPxMWFsbo0aPZsGEDGzZsQNM07r//fqxWK+vXr8fpdHLPPffw9ttvY7FYSEhIoE+fPnzxxRfExsb+1U/xkrrqg+9Sn4guhBDXsrNnz7JkyRIWLFhAUlIS9957L7fffjsff/wxS5YswWw2c/vttxMfH8+BAwfw8fFh1KhRrFixgoCAAEJCQli2bBn169fnxx9/5L777mP9+vU0a9bsr35ql8xVH3zezPGZDBr3dqjNhNuvu4ItE0KIq1tycrJna0RgYCBDhw7l5MmT/Pe//yU/P58OHTqwf/9+MjMzCQ0NpXXr1vz22284nU7mzJnD3Xffzfz58xk/fjybN2+mevXqf/VTuiSu+uDzdlXn6idjS93PJ4QQeuZ2u4mLi2PBggV8+eWXtG/fnrp16/Ltt99y/Phx6taty/Hjx7HZbNSsWZP8/HzcbjeDBg1i+vTpTJkyheXLl7N+/fpr4nDtqz74oOJnYwkhhChZQUGBZ2vEL7/8QqdOnUhKSuLgwYOEhISQk5OD2+0mMjKSvLw8oqOjWblyJVOmTCE1NZWvv/76b3+I7d8i+KByZ2MJIYQo3fHjxz1bI7KysvDx8eHw4cOYTCbsdjsAZrMZo9HIjBkz+OKLL4iKimLu3Ll/60Igf5vgE0IIcXkopUhISGDBggV88sknGAwGMjIycLvdKKXQNA2DwUDfvn05ceIEt99+O6Oe+L8Kl5G8WkjwCSGE8HA4HHz//ff85z//YeXKlbjdbpzOP1bWBwcHE9T4Bvx6/xOlGf6W008SfEIIIUqUlZXFkiVLmDp1KsnJySilMFWJovoDH2CwlF7I+mpfcCjBJ4QQolxJSUlMmjSJr9L8CIzpjWYsfYHL1b7FTIJPCCGE164bv5o8W+nby865mouKXPW1OoUQQlw98r0IPYB8e/kVt/4qEnxCCCG8FuBj8u52Fu9u91eQ4BNCCOG1O1pFYzKUvYfPZNAY2LrGFWpRxUnwCSGE8NrDsfUxG8uODrPRwENdr94j4iT4hBBCeK1OWAAzh7XBz2y8qOdnMmj4mY3MHNbmqt3KALKqUwghRCX8nctISvAJIYTQFRnqFEIIoSsSfEIIIXRFgk8IIYSuSPAJIYTQFQk+IYQQuiLBJ4QQQlck+IQQQuiKBJ8QQghdkeATQgihKxJ8QgghdEWCTwghhK5I8AkhhNAVCT4hhBC6IsEnhBBCVyT4hBBC6IoEnxBCCF2R4BNCCKErEnxCCCF0RYJPCCGErkjwCSGE0BUJPiGEELoiwSeEEEJXJPiEEELoigSfEEIIXZHgE0IIoSsSfEIIIXRFgk8IIYSuSPAJIYTQFQk+IYQQuiLBJ4QQQlck+IQQQuiKBJ8QQghdkeATQgihKxJ8QgghdEWCTwghhK5I8AkhhNAVCT4hhBC6IsEnhBBCVyT4hBBC6IoEnxBCCF2R4BNCCKErEnxCCCF0RYJPCCGErkjwCSGE0BUJPiGEELoiwSeEEEJXJPiEEELoigSfEEIIXZHgE0IIoSsSfEIIIXRFgk8IIYSuSPAJIYTQFQk+IYQQuiLBJ4QQQlck+IQQQuiKBJ8QQghdkeATQgihKxJ8QgghdEWCTwghhK5I8AkhhNAVCT4hhBC6IsEnhBBCVyT4hBBC6IoEnxBCCF2R4BNCCKErEnxCCCF0RYJPCCGErkjwCSGE0BUJPiGEELoiwSeEEEJXJPiEEELoigSfEEIIXZHgE0IIoSsSfEIIIXRFgk8IIYSuSPAJIYTQFQk+IYQQuiLBJ4QQQlck+IQQQuiKBJ8QQghdkeATQgihKxJ8QgghdEWCTwghhK5I8AkhhNAVCT4hhBC6IsEnhBBCVyT4hBBC6IoEnxBCCF2R4BNCCKErEnxCCCF0RYJPCCGErkjwCSGE0BUJPiGEELoiwSeEEEJXJPiEEELoigSfEEIIXZHgE0IIoSsSfEIIIXRFgk8IIYSu/D8XzSUkTbRfvAAAAABJRU5ErkJggg==\n",
          "text/plain": "<Figure size 432x288 with 1 Axes>"
         },
         "metadata": {},
         "output_type": "display_data"
        }
       ]
      }
     },
     "8291b9cbad8a4577bde2ebcaffd87e50": {
      "model_module": "@jupyter-widgets/base",
      "model_module_version": "1.2.0",
      "model_name": "LayoutModel",
      "state": {}
     },
     "8562b34fa8a349bb893a77ea44b23396": {
      "model_module": "@jupyter-widgets/controls",
      "model_module_version": "1.5.0",
      "model_name": "ProgressStyleModel",
      "state": {
       "description_width": ""
      }
     },
     "87a224632d964e5fbe4fa4d392845650": {
      "model_module": "@jupyter-widgets/base",
      "model_module_version": "1.2.0",
      "model_name": "LayoutModel",
      "state": {}
     },
     "90d9450af276408799c941d6f88ff527": {
      "model_module": "@jupyter-widgets/base",
      "model_module_version": "1.2.0",
      "model_name": "LayoutModel",
      "state": {}
     },
     "962183e1209b4362bd904dde587d7acf": {
      "model_module": "@jupyter-widgets/controls",
      "model_module_version": "1.5.0",
      "model_name": "FloatProgressModel",
      "state": {
       "layout": "IPY_MODEL_53ba8c2f750b42d3b20ee3abe87a1b59",
       "max": 834,
       "style": "IPY_MODEL_8562b34fa8a349bb893a77ea44b23396",
       "value": 464
      }
     },
     "a51a57551b4a42f5a38faa9fcc194644": {
      "model_module": "@jupyter-widgets/controls",
      "model_module_version": "1.5.0",
      "model_name": "HTMLModel",
      "state": {
       "layout": "IPY_MODEL_5416cc69d56f408abd64d033c294e778",
       "style": "IPY_MODEL_3078887a408f43d2af806572833bc9d6",
       "value": "100%"
      }
     },
     "a6a51961d52b4f2db5b3358cdf8cc3d4": {
      "model_module": "@jupyter-widgets/base",
      "model_module_version": "1.2.0",
      "model_name": "LayoutModel",
      "state": {}
     },
     "c51b863aa71b48c986081289867b5d95": {
      "model_module": "@jupyter-widgets/base",
      "model_module_version": "1.2.0",
      "model_name": "LayoutModel",
      "state": {
       "height": "500px",
       "overflow_y": "auto"
      }
     },
     "ca40a6927add4aaa8093d52c2ce685f1": {
      "model_module": "@jupyter-widgets/controls",
      "model_module_version": "1.5.0",
      "model_name": "DescriptionStyleModel",
      "state": {
       "description_width": ""
      }
     },
     "d84bc9209ad24445a66e96d07136ba70": {
      "model_module": "@jupyter-widgets/controls",
      "model_module_version": "1.5.0",
      "model_name": "HBoxModel",
      "state": {
       "children": [
        "IPY_MODEL_634462ee108144ae89f4a21b43bdbdaf"
       ],
       "layout": "IPY_MODEL_7df76b397f034a3fbad08df01a0fec4d"
      }
     },
     "d8b8890588ca4127911972a8a06b8746": {
      "model_module": "@jupyter-widgets/controls",
      "model_module_version": "1.5.0",
      "model_name": "HTMLModel",
      "state": {
       "layout": "IPY_MODEL_2f1fd51770d4412c8e2715e4a7b1886b",
       "style": "IPY_MODEL_484211fd4d0c40088462f5a46375cea1",
       "value": " 11531/11531 [00:00&lt;00:00, 64244.55it/s]"
      }
     },
     "db8f222c478b4dee9e081b28199e35df": {
      "model_module": "@jupyter-widgets/controls",
      "model_module_version": "1.5.0",
      "model_name": "HBoxModel",
      "state": {
       "children": [
        "IPY_MODEL_a51a57551b4a42f5a38faa9fcc194644",
        "IPY_MODEL_6fa23882808c4182b98ea1dd893c15f9",
        "IPY_MODEL_d8b8890588ca4127911972a8a06b8746"
       ],
       "layout": "IPY_MODEL_0d7cdcebb8414e3ba76c89c864763a04"
      }
     },
     "e579f2f65d314566b70e3af4fb3fedc4": {
      "model_module": "@jupyter-widgets/base",
      "model_module_version": "1.2.0",
      "model_name": "LayoutModel",
      "state": {}
     },
     "ebbb93f4e98d4195959aeceb6bca1423": {
      "model_module": "@jupyter-widgets/controls",
      "model_module_version": "1.5.0",
      "model_name": "HBoxModel",
      "state": {
       "children": [
        "IPY_MODEL_143d69342375419d89db9638e1d3c178",
        "IPY_MODEL_962183e1209b4362bd904dde587d7acf",
        "IPY_MODEL_57ea6fb2e78f4d5a83c213c172e0bc52"
       ],
       "layout": "IPY_MODEL_2a8a51536a7c447ca8556b40e9ecbc9d"
      }
     },
     "edd412f18fec4c6ea39cf269ebb78564": {
      "model_module": "@jupyter-widgets/controls",
      "model_module_version": "1.5.0",
      "model_name": "ProgressStyleModel",
      "state": {
       "description_width": ""
      }
     },
     "f17ab71d7cfd4ca2b4cfb76ebc00e4f6": {
      "model_module": "@jupyter-widgets/controls",
      "model_module_version": "1.5.0",
      "model_name": "HBoxModel",
      "state": {
       "children": [
        "IPY_MODEL_7ebde06a9c08414ab78b9918f422e796"
       ],
       "layout": "IPY_MODEL_c51b863aa71b48c986081289867b5d95"
      }
     },
     "fd87488307354bcd8bac22b57563a486": {
      "model_module": "@jupyter-widgets/base",
      "model_module_version": "1.2.0",
      "model_name": "LayoutModel",
      "state": {}
     }
    },
    "version_major": 2,
    "version_minor": 0
   }
  }
 },
 "nbformat": 4,
 "nbformat_minor": 4
}
