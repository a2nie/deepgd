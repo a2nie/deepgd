{
 "cells": [
  {
   "cell_type": "code",
   "execution_count": 1,
   "metadata": {},
   "outputs": [],
   "source": [
    "%load_ext autoreload\n",
    "%autoreload 2"
   ]
  },
  {
   "cell_type": "code",
   "execution_count": 2,
   "metadata": {},
   "outputs": [],
   "source": [
    "from lib.imports import *\n",
    "from lib.tools import *\n",
    "from lib.ipyjobs import *\n",
    "from lib.data import *\n",
    "from lib.utils import *\n",
    "from lib.modules import *\n",
    "from lib.functions import *\n",
    "from ipynb.fs.defs.losses import *"
   ]
  },
  {
   "cell_type": "code",
   "execution_count": 3,
   "metadata": {},
   "outputs": [
    {
     "name": "stdout",
     "output_type": "stream",
     "text": [
      "Load from './G_list.pickle'\n"
     ]
    }
   ],
   "source": [
    "G_list = load_G_list(data_path='data/rome', index_file='data_index.txt', cache='G_list')"
   ]
  },
  {
   "cell_type": "code",
   "execution_count": 4,
   "metadata": {},
   "outputs": [],
   "source": [
    "%%job\n",
    "generate_data_list(G_list, \n",
    "                   sparse=False, \n",
    "                   pivot_mode=None,\n",
    "                   init_mode=None,\n",
    "                   edge_index=\"full_edge_index\",\n",
    "                   edge_attr=\"full_edge_attr\",\n",
    "                   pmds_list=np.load('pos_pmds.npy', allow_pickle=True),\n",
    "                   gviz_list=np.load('pos_gviz.npy', allow_pickle=True),\n",
    "                   device='cpu', \n",
    "                   cache=True)"
   ]
  },
  {
   "cell_type": "code",
   "execution_count": 5,
   "metadata": {},
   "outputs": [
    {
     "data": {
      "application/vnd.jupyter.widget-view+json": {
       "model_id": "f9bcb9de4d9e48efa74d3f92cc01a756",
       "version_major": 2,
       "version_minor": 0
      },
      "text/plain": [
       "preprocess G:   0%|          | 0/11531 [00:00<?, ?it/s]"
      ]
     },
     "metadata": {},
     "output_type": "display_data"
    },
    {
     "data": {
      "application/vnd.jupyter.widget-view+json": {
       "model_id": "11d1156870474d70928432e7e81c7e43",
       "version_major": 2,
       "version_minor": 0
      },
      "text/plain": [
       "preprocess G:   0%|          | 0/11531 [00:00<?, ?it/s]"
      ]
     },
     "metadata": {},
     "output_type": "display_data"
    },
    {
     "name": "stdout",
     "output_type": "stream",
     "text": [
      "Save to './generate_data_list(list,sparse=False,pivot_mode=None,init_mode=None,edge_index=full_edge_index,edge_attr=full_edge_attr,pmds_list=ndarray,gviz_list=ndarray,device=cpu).pickle'\n",
      "Save to './generate_data_list(list,sparse=False,pivot_mode=None,init_mode=pmds,edge_index=full_edge_index,edge_attr=full_edge_attr,pmds_list=ndarray,gviz_list=ndarray,device=cpu).pickle'\n"
     ]
    }
   ],
   "source": [
    "%%job\n",
    "generate_data_list(G_list, \n",
    "                   sparse=False, \n",
    "                   pivot_mode=None,\n",
    "                   init_mode='pmds',\n",
    "                   edge_index=\"full_edge_index\",\n",
    "                   edge_attr=\"full_edge_attr\",\n",
    "                   pmds_list=np.load('pos_pmds.npy', allow_pickle=True),\n",
    "                   gviz_list=np.load('pos_gviz.npy', allow_pickle=True),\n",
    "                   device='cpu', \n",
    "                   cache=True)"
   ]
  },
  {
   "cell_type": "code",
   "execution_count": null,
   "metadata": {},
   "outputs": [],
   "source": []
  }
 ],
 "metadata": {
  "kernelspec": {
   "display_name": "deepgd",
   "language": "python",
   "name": "deepgd"
  },
  "language_info": {
   "codemirror_mode": {
    "name": "ipython",
    "version": 3
   },
   "file_extension": ".py",
   "mimetype": "text/x-python",
   "name": "python",
   "nbconvert_exporter": "python",
   "pygments_lexer": "ipython3",
   "version": "3.8.8"
  }
 },
 "nbformat": 4,
 "nbformat_minor": 4
}
