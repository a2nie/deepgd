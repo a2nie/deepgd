{
 "cells": [
  {
   "cell_type": "code",
   "execution_count": 1,
   "metadata": {},
   "outputs": [],
   "source": [
    "%load_ext autoreload\n",
    "%autoreload 2"
   ]
  },
  {
   "cell_type": "code",
   "execution_count": 2,
   "metadata": {},
   "outputs": [
    {
     "name": "stdout",
     "output_type": "stream",
     "text": [
      "Warning: uncompiled fa2util module.  Compile with cython for a 10-100x speed boost.\n"
     ]
    }
   ],
   "source": [
    "from lib.imports import *\n",
    "from lib.tools import *\n",
    "from lib.ipyjobs import *\n",
    "from lib.data import *\n",
    "from lib.layouts import *\n",
    "from lib.utils import *\n",
    "from lib.modules import *\n",
    "from lib.functions import *\n",
    "from ipynb.fs.defs.losses import *"
   ]
  },
  {
   "cell_type": "code",
   "execution_count": 3,
   "metadata": {},
   "outputs": [
    {
     "name": "stdout",
     "output_type": "stream",
     "text": [
      "Load from './G_list.pickle'\n"
     ]
    }
   ],
   "source": [
    "G_list = load_G_list(data_path='data/rome', index_file='data_index.txt', cache='G_list')"
   ]
  },
  {
   "cell_type": "code",
   "execution_count": 4,
   "metadata": {
    "scrolled": true,
    "tags": []
   },
   "outputs": [
    {
     "data": {
      "application/vnd.jupyter.widget-view+json": {
       "model_id": "b4deccbf7a78449797dfded0cd3f3ee9",
       "version_major": 2,
       "version_minor": 0
      },
      "text/plain": [
       "preprocess G:   0%|          | 0/11531 [00:00<?, ?it/s]"
      ]
     },
     "metadata": {},
     "output_type": "display_data"
    }
   ],
   "source": [
    "%%job\n",
    "generate_data_list(G_list, \n",
    "                   sparse=False, \n",
    "                   pivot_mode=None,\n",
    "                   init_mode=None,\n",
    "                   edge_index=\"raw_edge_index\",\n",
    "                   edge_attr=\"raw_edge_attr\",\n",
    "                   pmds_list=np.load('pos_pmds.npy', allow_pickle=True),\n",
    "                   gviz_list=np.load('pos_gviz.npy', allow_pickle=True),\n",
    "                   noisy_layout=True,\n",
    "                   device='cpu', \n",
    "                   cache=True)"
   ]
  },
  {
   "cell_type": "code",
   "execution_count": 5,
   "metadata": {},
   "outputs": [
    {
     "data": {
      "application/vnd.jupyter.widget-view+json": {
       "model_id": "d8361ad6c8d146b581f6bcd1b6fbc410",
       "version_major": 2,
       "version_minor": 0
      },
      "text/plain": [
       "preprocess G:   0%|          | 0/11531 [00:00<?, ?it/s]"
      ]
     },
     "metadata": {},
     "output_type": "display_data"
    }
   ],
   "source": [
    "%%job\n",
    "generate_data_list(G_list, \n",
    "                   sparse=False, \n",
    "                   pivot_mode=None,\n",
    "                   init_mode='pmds',\n",
    "                   edge_index=\"raw_edge_index\",\n",
    "                   edge_attr=\"raw_edge_attr\",\n",
    "                   pmds_list=np.load('pos_pmds.npy', allow_pickle=True),\n",
    "                   gviz_list=np.load('pos_gviz.npy', allow_pickle=True),\n",
    "                   noisy_layout=True,\n",
    "                   device='cpu', \n",
    "                   cache=True)"
   ]
  },
  {
   "cell_type": "code",
   "execution_count": null,
   "metadata": {
    "scrolled": true,
    "tags": []
   },
   "outputs": [],
   "source": [
    "%%job\n",
    "generate_data_list(G_list, \n",
    "                   sparse=False, \n",
    "                   pivot_mode=None,\n",
    "                   init_mode=None,\n",
    "                   edge_index=\"full_edge_index\",\n",
    "                   edge_attr=\"full_edge_attr\",\n",
    "                   pmds_list=np.load('pos_pmds.npy', allow_pickle=True),\n",
    "                   gviz_list=np.load('pos_gviz.npy', allow_pickle=True),\n",
    "                   noisy_layout=True,\n",
    "                   device='cpu', \n",
    "                   cache=True)"
   ]
  },
  {
   "cell_type": "code",
   "execution_count": 5,
   "metadata": {},
   "outputs": [
    {
     "data": {
      "application/vnd.jupyter.widget-view+json": {
       "model_id": "ca5154ccc2c54d1090ae0faa010dbea9",
       "version_major": 2,
       "version_minor": 0
      },
      "text/plain": [
       "preprocess G:   0%|          | 0/11531 [00:00<?, ?it/s]"
      ]
     },
     "metadata": {},
     "output_type": "display_data"
    }
   ],
   "source": [
    "%%job\n",
    "generate_data_list(G_list, \n",
    "                   sparse=False, \n",
    "                   pivot_mode=None,\n",
    "                   init_mode='pmds',\n",
    "                   edge_index=\"full_edge_index\",\n",
    "                   edge_attr=\"full_edge_attr\",\n",
    "                   pmds_list=np.load('pos_pmds.npy', allow_pickle=True),\n",
    "                   gviz_list=np.load('pos_gviz.npy', allow_pickle=True),\n",
    "                   noisy_layout=True,\n",
    "                   device='cpu', \n",
    "                   cache=True)"
   ]
  },
  {
   "cell_type": "code",
   "execution_count": 11,
   "metadata": {},
   "outputs": [
    {
     "name": "stdout",
     "output_type": "stream",
     "text": [
      "Running jobs:\n",
      "0 : generate_data_list(G_list, \n",
      "                   sparse=False, \n",
      "                   pivot_mode=None,\n",
      "                   init_mode=None,\n",
      "                   edge_index=\"full_edge_index\",\n",
      "                   edge_attr=\"full_edge_attr\",\n",
      "                   pmds_list=np.load('pos_pmds.npy', allow_pickle=True),\n",
      "                   gviz_list=np.load('pos_gviz.npy', allow_pickle=True),\n",
      "                   noisy_layout=True,\n",
      "                   device='cpu', \n",
      "                   cache=True)\n",
      "\n",
      "1 : generate_data_list(G_list, \n",
      "                   sparse=False, \n",
      "                   pivot_mode=None,\n",
      "                   init_mode='pmds',\n",
      "                   edge_index=\"full_edge_index\",\n",
      "                   edge_attr=\"full_edge_attr\",\n",
      "                   pmds_list=np.load('pos_pmds.npy', allow_pickle=True),\n",
      "                   gviz_list=np.load('pos_gviz.npy', allow_pickle=True),\n",
      "                   noisy_layout=True,\n",
      "                   device='cpu', \n",
      "                   cache=True)\n",
      "\n",
      "\n",
      "Save to './generate_data_list(list,sparse=False,pivot_mode=None,init_mode=None,edge_index=full_edge_index,edge_attr=full_edge_attr,pmds_list=ndarray,gviz_list=ndarray,noisy_layout=True,device=cpu).pickle'\n",
      "Save to './generate_data_list(list,sparse=False,pivot_mode=None,init_mode=pmds,edge_index=full_edge_index,edge_attr=full_edge_attr,pmds_list=ndarray,gviz_list=ndarray,noisy_layout=True,device=cpu).pickle'\n"
     ]
    }
   ],
   "source": [
    "get_job_manager().status()"
   ]
  },
  {
   "cell_type": "code",
   "execution_count": 15,
   "metadata": {},
   "outputs": [],
   "source": [
    "data_list = pickle.load(open('generate_data_list(list,sparse=False,pivot_mode=None,init_mode=None,edge_index=full_edge_index,edge_attr=full_edge_attr,pmds_list=ndarray,gviz_list=ndarray,noisy_layout=True,device=cpu).pickle', 'rb'))"
   ]
  },
  {
   "cell_type": "code",
   "execution_count": 17,
   "metadata": {},
   "outputs": [
    {
     "data": {
      "text/plain": [
       "Data(edge_attr=[240, 2], edge_index=[2, 240], flip_edges=[16, 2], flip_edges_r=0.7660288487730119, flip_nodes=[16, 2], flip_nodes_r=0.417013461301316, full_edge_attr=[240, 2], full_edge_index=[2, 240], gt_pos=[16, 2], m=21, movlsq=[16, 2], movlsq_r=0.517490761183048, n=16, perturb=[16, 2], perturb_r=0.9670155505673237, phantom=[16, 2], phantom_r=0.2560985985766373, random_normal=[16, 2], random_normal_r=0.9212851643518716, random_uniform=[16, 2], random_uniform_r=0.958631142347381, raw_edge_index=[2, 42], x=[16])"
      ]
     },
     "execution_count": 17,
     "metadata": {},
     "output_type": "execute_result"
    }
   ],
   "source": [
    "data_list[0]"
   ]
  },
  {
   "cell_type": "code",
   "execution_count": null,
   "metadata": {},
   "outputs": [],
   "source": []
  }
 ],
 "metadata": {
  "kernelspec": {
   "display_name": "Python 3",
   "language": "python",
   "name": "python3"
  },
  "language_info": {
   "codemirror_mode": {
    "name": "ipython",
    "version": 3
   },
   "file_extension": ".py",
   "mimetype": "text/x-python",
   "name": "python",
   "nbconvert_exporter": "python",
   "pygments_lexer": "ipython3",
   "version": "3.8.8"
  }
 },
 "nbformat": 4,
 "nbformat_minor": 4
}
