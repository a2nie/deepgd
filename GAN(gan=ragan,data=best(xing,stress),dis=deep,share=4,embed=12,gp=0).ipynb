{
 "cells": [
  {
   "cell_type": "markdown",
   "metadata": {
    "id": "wZtYFEhHoBGp"
   },
   "source": [
    "# Import libraries"
   ]
  },
  {
   "cell_type": "code",
   "execution_count": 1,
   "metadata": {
    "id": "KJPfzpxLQI5O"
   },
   "outputs": [],
   "source": [
    "%load_ext autoreload\n",
    "%autoreload 2\n",
    "from deepgd import *"
   ]
  },
  {
   "cell_type": "markdown",
   "metadata": {
    "id": "z4eBEyB1oaJe"
   },
   "source": [
    "# Config"
   ]
  },
  {
   "cell_type": "code",
   "execution_count": 2,
   "metadata": {
    "id": "Q_-MLFhpNvxF"
   },
   "outputs": [],
   "source": [
    "cuda_idx = 0\n",
    "canonicalization = Canonicalization(normalize=Standardization(norm_ord=1),\n",
    "                                    scale=False)\n",
    "config = StaticConfig({\n",
    "    \"name\": 'GAN(gan=ragan,data=best(xing,stress),dis=deep,share=4,embed=12,gp=0)',\n",
    "    \"uid\": None,\n",
    "    \"link\": None,\n",
    "    \"generator\": {\n",
    "        \"params\": {\n",
    "            \"num_blocks\": 9,\n",
    "            \"normalize\": canonicalization\n",
    "        },\n",
    "        \"pretrained\": {\n",
    "            \"name\": None,\n",
    "            \"epoch\": -1,\n",
    "        },\n",
    "        \"optim\": torch.optim.AdamW,\n",
    "        \"lr\" : {\n",
    "            \"initial\": 1e-3,\n",
    "            \"decay\": 0.99,\n",
    "        },\n",
    "    },\n",
    "    \"discriminator\": {\n",
    "        \"params\": {\n",
    "            \"conv\": [2, 16, 16, 16],\n",
    "            \"dense\": [2],\n",
    "            \"shared_depth\": 4,\n",
    "            \"enet_depth\": 12,\n",
    "            \"enet_width\": 64,\n",
    "            \"aggr\": \"add\",\n",
    "            \"normalize\": canonicalization\n",
    "        },\n",
    "        \"pretrained\": {\n",
    "            \"name\": None,\n",
    "            \"epoch\": -1,\n",
    "        },\n",
    "        \"optim\": torch.optim.AdamW,\n",
    "        \"lr\" : {\n",
    "            \"initial\": 1e-3,\n",
    "            \"decay\": 0.99,\n",
    "        },\n",
    "        \"noise\": {\n",
    "            \"std\": 0,\n",
    "            \"decay\": 0.95,\n",
    "        },\n",
    "        \"repeat\": 1,\n",
    "        \"complete\": True,\n",
    "        \"adaptive\": True\n",
    "    },\n",
    "    \"alternate\": \"epoch\",\n",
    "    \"batchsize\": 24,\n",
    "    \"epoch\": {\n",
    "        \"start\": -1,\n",
    "        \"end\": None,\n",
    "    },\n",
    "    \"log_interval\": 1,\n",
    "    \"test\": {\n",
    "        \"name\": \"test\",\n",
    "        \"epoch\": -1,\n",
    "    },\n",
    "    \"gan_flavor\": \"ragan\",\n",
    "    \"gp_weight\": 0,\n",
    "})\n",
    "data_config = StaticConfig({\n",
    "    \"sparse\": False,\n",
    "    \"pivot\": None,\n",
    "    \"init\": \"pmds\",\n",
    "    \"edge\": {\n",
    "        \"index\": \"full_edge_index\",\n",
    "        \"attr\": \"full_edge_attr\",\n",
    "    },\n",
    "})\n",
    "loss_fns = {\n",
    "    Stress(): 1\n",
    "}\n",
    "ctrler_params = {\n",
    "    \"tau\": 0.95,\n",
    "    \"beta\": 1,\n",
    "    \"exploit_rate\": 0.5,\n",
    "    \"warmup\": 2,\n",
    "}\n",
    "paths = StaticConfig({\n",
    "    \"root\": \"artifacts\",\n",
    "    \"checkpoints\": lambda: f\"{paths.root}/checkpoints/{config.name}\",\n",
    "    \"gen_pretrain\": lambda: f\"{paths.root}/checkpoints/{config.generator.pretrained.name}\",\n",
    "    \"dis_pretrain\": lambda: f\"{paths.root}/checkpoints/{config.discriminator.pretrained.name}\",\n",
    "    \"tensorboard\": lambda: f\"{paths.root}/tensorboards/{config.name}\",\n",
    "    \"visualization\": lambda: f\"{paths.root}/visualizations/{config.name}_{config.test.name}\",\n",
    "    \"log\": lambda: f\"{paths.root}/logs/{config.name}.log\",\n",
    "    \"metrics\": lambda suffix: f\"{paths.root}/metrics/{config.name}_{suffix}.pickle\",\n",
    "})"
   ]
  },
  {
   "cell_type": "code",
   "execution_count": 3,
   "metadata": {
    "id": "mdMEAbH10Qaq"
   },
   "outputs": [],
   "source": [
    "if \" \" in config.name:\n",
    "    raise Exception(\"Space is not allowed in model name.\")"
   ]
  },
  {
   "cell_type": "markdown",
   "metadata": {
    "id": "WynW4ZAdBhep"
   },
   "source": [
    "# Prepare"
   ]
  },
  {
   "cell_type": "markdown",
   "metadata": {
    "id": "DR6-vYtr_i_P"
   },
   "source": [
    "## Get log command"
   ]
  },
  {
   "cell_type": "code",
   "execution_count": 4,
   "metadata": {
    "colab": {
     "base_uri": "https://localhost:8080/"
    },
    "id": "9-QpinlslcTO",
    "outputId": "48ae3716-212c-4d46-9efb-b7b4070f73de"
   },
   "outputs": [
    {
     "name": "stdout",
     "output_type": "stream",
     "text": [
      "cd /users/PAS0027/osu10203/deepgd && tail -n1000 -f 'artifacts/logs/GAN(gan=ragan,data=best(xing,stress),dis=deep,share=4,embed=12,gp=0).log'\n"
     ]
    }
   ],
   "source": [
    "print(f\"cd {os.getcwd()} && tail -n1000 -f '{paths.log()}'\")"
   ]
  },
  {
   "cell_type": "code",
   "execution_count": 5,
   "metadata": {},
   "outputs": [
    {
     "name": "stdout",
     "output_type": "stream",
     "text": [
      "tensorboard dev upload --logdir 'artifacts/tensorboards/GAN(gan=ragan,data=best(xing,stress),dis=deep,share=4,embed=12,gp=0)'\n"
     ]
    }
   ],
   "source": [
    "print(f\"tensorboard dev upload --logdir '{paths.tensorboard()}'\")"
   ]
  },
  {
   "cell_type": "markdown",
   "metadata": {
    "id": "innqkwvH_ydD"
   },
   "source": [
    "## Set globals"
   ]
  },
  {
   "cell_type": "code",
   "execution_count": 6,
   "metadata": {
    "id": "Qjq7JlSZlkQR"
   },
   "outputs": [],
   "source": [
    "if cuda_idx is not None and torch.cuda.is_available():\n",
    "    device = f'cuda:{cuda_idx}'\n",
    "    pynvml.nvmlInit()\n",
    "    cuda = pynvml.nvmlDeviceGetHandleByIndex(cuda_idx)\n",
    "else:\n",
    "    device = 'cpu'\n",
    "    cuda =  None\n",
    "np.set_printoptions(precision=2)\n",
    "warnings.filterwarnings(\"ignore\", category=RuntimeWarning)"
   ]
  },
  {
   "cell_type": "markdown",
   "metadata": {
    "id": "0da286l_ApEL"
   },
   "source": [
    "## Load data"
   ]
  },
  {
   "cell_type": "code",
   "execution_count": 7,
   "metadata": {
    "colab": {
     "base_uri": "https://localhost:8080/"
    },
    "id": "RFuSHiZJMU4x",
    "outputId": "54065609-aaea-4536-d79c-73bc73b3f576"
   },
   "outputs": [
    {
     "name": "stdout",
     "output_type": "stream",
     "text": [
      "Load from 'cache/G_list.pickle'\n",
      "Load from 'cache/generate_data_list(list,sparse=False,pivot_mode=None,init_mode=pmds,edge_index=full_edge_index,edge_attr=full_edge_attr,pmds_list=ndarray,gviz_list=ndarray,noisy_layout=True,device=cpu).pickle'\n"
     ]
    },
    {
     "name": "stderr",
     "output_type": "stream",
     "text": [
      "/users/PAS0027/osu10203/.conda/envs/deepgd/lib/python3.9/site-packages/torch_geometric/deprecation.py:13: UserWarning: 'data.DataLoader' is deprecated, use 'loader.DataLoader' instead\n",
      "  warnings.warn(out)\n"
     ]
    }
   ],
   "source": [
    "G_list = load_G_list(data_path='data/rome', index_file='data_index.txt', cache='G_list', cache_prefix='cache/')\n",
    "data_list = generate_data_list(G_list, \n",
    "                               sparse=data_config.sparse, \n",
    "                               pivot_mode=data_config.pivot,\n",
    "                               init_mode=data_config.init,\n",
    "                               edge_index=data_config.edge.index,\n",
    "                               edge_attr=data_config.edge.attr,\n",
    "                               pmds_list=np.load('layouts/rome/pmds.npy', allow_pickle=True),\n",
    "                               gviz_list=np.load('layouts/rome/gviz.npy', allow_pickle=True),\n",
    "                               noisy_layout=True,\n",
    "                               device='cpu', \n",
    "                               cache=True,\n",
    "                               cache_prefix='cache/')\n",
    "train_loader = LazyDeviceMappingDataLoader(data_list[:10000], batch_size=config.batchsize, shuffle=True, device=device)\n",
    "val_loader = LazyDeviceMappingDataLoader(data_list[11000:], batch_size=config.batchsize, shuffle=False, device=device)"
   ]
  },
  {
   "cell_type": "code",
   "execution_count": 8,
   "metadata": {
    "id": "djd1pLt2OxZq"
   },
   "outputs": [],
   "source": [
    "def draw_layout(G, method, draw=True):\n",
    "    if method == 'fa2':\n",
    "        layout = get_fa2_layout(G)\n",
    "    else:\n",
    "        try:\n",
    "            fn = getattr(nx.drawing.layout, f'{method}_layout')\n",
    "            layout = fn(G)\n",
    "        except:\n",
    "            layout = nx.drawing.nx_agraph.graphviz_layout(G, prog=method)\n",
    "    if draw:\n",
    "        nx.draw(G, pos=layout)\n",
    "    return layout"
   ]
  },
  {
   "cell_type": "code",
   "execution_count": 9,
   "metadata": {
    "id": "2vBBw77lR7Em"
   },
   "outputs": [],
   "source": [
    "methods = ['neato', 'dot', 'fdp', 'sfdp', 'twopi', 'circo', 'shell', 'spring', 'circular', 'spectral', 'kamada_kawai', 'fa2', 'pmds']"
   ]
  },
  {
   "cell_type": "code",
   "execution_count": 10,
   "metadata": {
    "id": "dx6VVA9XIc2O"
   },
   "outputs": [],
   "source": [
    "from functools import lru_cache\n",
    "\n",
    "@lru_cache(maxsize=None)\n",
    "def load_pos(method):\n",
    "    return np.load(f'layouts/rome/{method}.npy', allow_pickle=True)"
   ]
  },
  {
   "cell_type": "code",
   "execution_count": 11,
   "metadata": {
    "colab": {
     "base_uri": "https://localhost:8080/",
     "height": 1000,
     "referenced_widgets": [
      "05a37aeeb20049dfa2f97287b3990556",
      "a75afae3adfd4810a0b0991a062535ee",
      "a24ae105ed124595992f7e2e5f909247",
      "01b4cabaf8004dd4b9269b4e6889c498",
      "f3c7c84f2b314bd8b97a7358deaf4fa1",
      "35e4a83e692b4a7bafb46fdf192b2586",
      "62847b5e2678459f845159eef6d4feab",
      "143e81f00313436dacfa246a57108944",
      "e05833f11803400b95ff22246cdc8f2b",
      "53aeede91e074378b5d7f626165655ee",
      "79a43768c1794a10a788a49e5883aa2c"
     ]
    },
    "id": "MSmP-jem9I0X",
    "outputId": "c698f0bf-e96e-4de9-aeda-0b046fc0a03f",
    "scrolled": true,
    "tags": []
   },
   "outputs": [],
   "source": [
    "# best_list = []\n",
    "# best_layout_list = []\n",
    "# for idx, (G, data) in enumerate(zip(tqdm(G_list), data_list)):\n",
    "#     xing, stress, layout = {}, {}, {}\n",
    "#     for m in methods:\n",
    "#         batch = Batch.from_data_list([data])\n",
    "#         pos = load_pos(m)\n",
    "#         p = CanonicalizationByStress()(torch.tensor(pos[idx]).float(), batch)\n",
    "#         x = Xing()(p, batch).item()\n",
    "#         s = Stress()(p, batch).item()\n",
    "#         xing[m] = x\n",
    "#         stress[m] = s\n",
    "#         layout[m] = p.numpy()\n",
    "#         # plt.figure()\n",
    "#         # graph_vis(G, pos[idx])\n",
    "#         # plt.title(f'{m} stress={s:.2f} xing={x}')\n",
    "#     best, *_ = sorted(methods, key=lambda m: (xing[m], stress[m]))\n",
    "#     best_list.append(best)\n",
    "#     best_layout_list.append(layout[best])\n",
    "#     print(f'{best}, xing={xing[best]}, stress={stress[best]:.2f}')"
   ]
  },
  {
   "cell_type": "code",
   "execution_count": 12,
   "metadata": {
    "colab": {
     "base_uri": "https://localhost:8080/"
    },
    "id": "Mx2bZNugdTqa",
    "outputId": "cec05a67-18e8-492f-aaa1-057274a8341a"
   },
   "outputs": [],
   "source": [
    "# pickle.dump(best_list, open('layouts/rome/best[xing,stress].pkl', 'wb'))\n",
    "# np.save('layouts/rome/best[xing,stress].npy', best_layout_list)"
   ]
  },
  {
   "cell_type": "code",
   "execution_count": 13,
   "metadata": {
    "colab": {
     "base_uri": "https://localhost:8080/",
     "height": 49,
     "referenced_widgets": [
      "7e0ae84dd0f3458d893c81b029fe1729",
      "18bdc3bf80fb434abde68de5b72a8870",
      "2e3552ded9594635a51832387ae754a0",
      "54f4aa5080c6498080a63be2cdeefee5",
      "3937586d0879451da5e2138ca3bfd0a0",
      "a9df6e84ce8c499eb2b2cf984995d791",
      "7af6b718dd3d4e01b264377a2fa938e2",
      "a774c86e64004bd6951645f1c24abad4",
      "c86575117cd041f2837762f37d1f387b",
      "6e9907cefb1241688fbd248b8281ed9f",
      "9b8e5405d8264944acab57e81f2f5ad6"
     ]
    },
    "id": "A1-w1fspC53p",
    "outputId": "09c2d5c3-1eef-41eb-dcee-581af1294804"
   },
   "outputs": [
    {
     "data": {
      "application/vnd.jupyter.widget-view+json": {
       "model_id": "05491f1c44e44440abf4bb5a06a1ad44",
       "version_major": 2,
       "version_minor": 0
      },
      "text/plain": [
       "  0%|          | 0/11531 [00:00<?, ?it/s]"
      ]
     },
     "metadata": {},
     "output_type": "display_data"
    }
   ],
   "source": [
    "best_layout_list = np.load('layouts/rome/best[xing,stress].npy', allow_pickle=True)\n",
    "for data, layout in zip(tqdm(data_list), best_layout_list):\n",
    "    data.gt_pos = torch.tensor(layout)"
   ]
  },
  {
   "cell_type": "code",
   "execution_count": 14,
   "metadata": {
    "id": "y6EGh4U7exL_"
   },
   "outputs": [],
   "source": [
    "train_loader = LazyDeviceMappingDataLoader(data_list[:10000], batch_size=config.batchsize, shuffle=True, device=device)\n",
    "val_loader = LazyDeviceMappingDataLoader(data_list[11000:], batch_size=config.batchsize, shuffle=False, device=device)"
   ]
  },
  {
   "cell_type": "code",
   "execution_count": 15,
   "metadata": {
    "colab": {
     "base_uri": "https://localhost:8080/",
     "height": 103,
     "referenced_widgets": [
      "38a33cf69aff48f4aabd4902a7ce48b1",
      "57e277bcb44c4e2fa2a12105d75153d1",
      "20ce017c46bd4a7c9b420270ac579405",
      "13f2df4fe0ce4af88b6e3bd1637065b0",
      "2867faa145ca4860a198d4d0bf830f89",
      "02838cf669174ed9afa41a1a8e680765",
      "7e9e3c031667455f8baca163d3a213e5",
      "4000135e7dfa46529fa6244fccc5cb57",
      "e523e9faac5b4ec38643c05ac5ba99f7",
      "e8e3ee9741e4480dae5003ccc19a7891",
      "9a569045221b43acb3ba2fbf116b2c74"
     ]
    },
    "id": "YEfRRUK0NiNm",
    "outputId": "93f53d05-7667-4cda-a38e-c3a953124f79"
   },
   "outputs": [],
   "source": [
    "# for m in methods:\n",
    "#     layouts = []\n",
    "#     for G in tqdm(G_list):\n",
    "#         layout = draw_layout(G, method=m, draw=False)\n",
    "#         layouts.append(np.array(list(layout.values())))\n",
    "#     np.save(f'layouts/rome/{m}.npy', layouts)"
   ]
  },
  {
   "cell_type": "code",
   "execution_count": 16,
   "metadata": {
    "colab": {
     "base_uri": "https://localhost:8080/",
     "height": 564
    },
    "id": "upK7AHYqPmC5",
    "outputId": "29a88e61-f55f-409c-9194-12c6d5762528"
   },
   "outputs": [],
   "source": [
    "# from collections import Counter\n",
    "\n",
    "# letter_counts = Counter(best_list)\n",
    "# df = pd.DataFrame.from_dict(letter_counts, orient='index')\n",
    "# df.plot(kind='bar', figsize=[12, 8])"
   ]
  },
  {
   "cell_type": "markdown",
   "metadata": {
    "id": "f-ODE2k8BFV6"
   },
   "source": [
    "## Create folders"
   ]
  },
  {
   "cell_type": "code",
   "execution_count": 17,
   "metadata": {
    "id": "3ykUMINYBRog"
   },
   "outputs": [],
   "source": [
    "mkdirs(paths.checkpoints(), paths.tensorboard(), paths.visualization(), f\"{paths.root}/logs\", f\"{paths.root}/metrics\")"
   ]
  },
  {
   "cell_type": "markdown",
   "metadata": {
    "id": "BFq9k5nzBIh5"
   },
   "source": [
    "## Load checkpoints"
   ]
  },
  {
   "cell_type": "code",
   "execution_count": 18,
   "metadata": {
    "id": "W5NbsKkobIfA"
   },
   "outputs": [],
   "source": [
    "class EdgeFeatureDiscriminator(nn.Module):\n",
    "    def __init__(self, \n",
    "                 conv, \n",
    "                 dense,\n",
    "                 shared_depth,\n",
    "                 enet_depth,\n",
    "                 enet_width,\n",
    "                 aggr='add', \n",
    "                 root_weight=True,\n",
    "                 normalize=None):\n",
    "        super().__init__()\n",
    "        self.enet = nn.Sequential(*[\n",
    "            DenseLayer(in_dim=in_d,\n",
    "                       out_dim=out_d,\n",
    "                       skip=nonlin,\n",
    "                       bn=nonlin,\n",
    "                       act=nonlin,\n",
    "                       dp=None)\n",
    "            for in_d, out_d, nonlin \n",
    "            in zip([self._get_feature_dim()] + [enet_width] * (shared_depth-1),\n",
    "                   [enet_width] * shared_depth,\n",
    "                   [True] * (shared_depth-1) + [False])     \n",
    "        ])\n",
    "        self.blocks = nn.ModuleList([\n",
    "            GNNLayer(nfeat_dims=(in_d, out_d),\n",
    "                     efeat_dim=enet_width,\n",
    "                     edge_net=EdgeNet(nfeat_dims=(in_d, out_d), \n",
    "                                      efeat_dim=enet_width, \n",
    "                                      depth=enet_depth, \n",
    "                                      width=enet_width),\n",
    "                     aggr=aggr,\n",
    "                     dense=False,\n",
    "                     skip=nonlin,\n",
    "                     bn=nonlin,\n",
    "                     act=nonlin,\n",
    "                     root_weight=root_weight) \n",
    "            for in_d, out_d, nonlin \n",
    "            in zip(conv[:-1], conv[1:], [True] * (len(conv)-2) + [False])     \n",
    "        ])\n",
    "        self.pool = (gnn.global_mean_pool if aggr == 'mean' \n",
    "                     else gnn.global_add_pool if aggr == 'add' \n",
    "                     else None)\n",
    "        self.dense = nn.Identity() if not dense else nn.Sequential(*[\n",
    "            DenseLayer(in_dim=in_d,\n",
    "                       out_dim=out_d,\n",
    "                       skip=nonlin,\n",
    "                       bn=nonlin,\n",
    "                       act=nonlin,\n",
    "                       dp=None)\n",
    "            for in_d, out_d, nonlin \n",
    "            in zip(conv[-1:] + dense[:-1], dense, [True] * (len(dense)-1) + [False])     \n",
    "        ])\n",
    "        self.normalize = normalize or IdentityTransformation()\n",
    "    \n",
    "    def forward(self, batch):\n",
    "        x = torch.ones_like(batch.pos)\n",
    "        e = self.enet(self._get_features(self._get_edge_info(batch, layout='pos')))\n",
    "        for block in self.blocks:\n",
    "            x = block(x, e, batch)\n",
    "        x = self.pool(x, batch.batch)\n",
    "        x = self.dense(x)\n",
    "        return x\n",
    "    \n",
    "    def _get_edge_info(self, batch, layout='gt_pos'):\n",
    "        pos = self.normalize(batch[layout].float(), batch)\n",
    "        src, dst = get_edges(pos, batch)\n",
    "        v, u = l2_normalize(dst - src, return_norm=True)\n",
    "        d = batch.edge_attr[:, :1]\n",
    "        return {\n",
    "            \"src\": src,\n",
    "            \"dst\": dst,\n",
    "            \"v\": v,\n",
    "            \"u\": u,\n",
    "            \"d\": d,\n",
    "        }\n",
    "\n",
    "    def _get_features(self, edges):\n",
    "        return torch.cat([edges['src'], edges['dst'], edges['d']], dim=1)\n",
    "        \n",
    "    def _get_feature_dim(self):\n",
    "        return self._get_features({\n",
    "            \"src\": torch.zeros(1, 2),\n",
    "            \"dst\": torch.zeros(1, 2),\n",
    "            \"v\": torch.zeros(1, 2),\n",
    "            \"u\": torch.zeros(1, 1),\n",
    "            \"d\": torch.zeros(1, 1),\n",
    "        }).shape[-1]"
   ]
  },
  {
   "cell_type": "code",
   "execution_count": 19,
   "metadata": {
    "id": "96ZActxlL0fJ"
   },
   "outputs": [],
   "source": [
    "class StressDiscriminator(nn.Module):\n",
    "    def __init__(self, normalize=CanonicalizationByStress(), **kwargs):\n",
    "        super().__init__()\n",
    "        self.dummy = nn.Parameter(torch.zeros(1))\n",
    "        self.normalize = normalize\n",
    "        self.stress = Stress(reduce=None)\n",
    "\n",
    "    def forward(self, batch):\n",
    "        return -self.stress(self.normalize(batch.pos, batch), batch)"
   ]
  },
  {
   "cell_type": "code",
   "execution_count": 20,
   "metadata": {
    "id": "IJ6xCYBUuhcw"
   },
   "outputs": [],
   "source": [
    "def get_ckpt_epoch(folder, epoch):\n",
    "    if not os.path.isdir(folder):\n",
    "        os.mkdir(folder)\n",
    "    if epoch >= 0:\n",
    "        return epoch\n",
    "    ckpt_files = os.listdir(folder)\n",
    "    last_epoch = 0\n",
    "    if ckpt_files:\n",
    "        last_epoch = sorted(list(map(lambda x: int(re.search('(?<=epoch_)(\\d+)(?=\\.)', x).group(1)), ckpt_files)))[-1]\n",
    "    return last_epoch + epoch + 1\n",
    "\n",
    "def start_epoch():\n",
    "    return get_ckpt_epoch(paths.checkpoints(), config.epoch.start)"
   ]
  },
  {
   "cell_type": "code",
   "execution_count": 21,
   "metadata": {
    "colab": {
     "base_uri": "https://localhost:8080/"
    },
    "id": "JacDYXka9U01",
    "outputId": "ef4e31ab-2144-497c-8e4f-4d3740ce2d52"
   },
   "outputs": [
    {
     "name": "stdout",
     "output_type": "stream",
     "text": [
      "Loading from artifacts/checkpoints/GAN(gan=ragan,data=best(xing,stress),dis=deep,share=4,embed=12,gp=0)/gen_epoch_923.pt...\n",
      "Loading from artifacts/checkpoints/GAN(gan=ragan,data=best(xing,stress),dis=deep,share=4,embed=12,gp=0)/gen_optim_epoch_923.pt...\n"
     ]
    }
   ],
   "source": [
    "generator = Generator(**config.generator.params[...]).to(device)\n",
    "generator_optimizer = config.generator.optim(generator.parameters(), lr=config.generator.lr.initial * config.generator.lr.decay ** start_epoch())\n",
    "generator_scheduler = torch.optim.lr_scheduler.ExponentialLR(generator_optimizer, gamma=config.generator.lr.decay)\n",
    "if start_epoch() != 0:\n",
    "    gen_ckpt_epoch = start_epoch()\n",
    "elif config.generator.pretrained.name is not None and config.generator.pretrained.epoch != 0:\n",
    "    gen_pretrained_epoch = get_ckpt_epoch(paths.gen_pretrain(), config.generator.pretrained.epoch)\n",
    "    gen_ckpt_epoch = gen_pretrained_epoch \n",
    "else:\n",
    "    gen_ckpt_epoch = None\n",
    "if gen_ckpt_epoch is not None:\n",
    "    # Load generator\n",
    "    gen_ckpt_file = f\"{paths.checkpoints()}/gen_epoch_{gen_ckpt_epoch}.pt\"\n",
    "    print(f\"Loading from {gen_ckpt_file}...\")\n",
    "    generator.load_state_dict(torch.load(gen_ckpt_file, map_location=torch.device(device)))\n",
    "    # Load generator optimizer\n",
    "    gen_optim_ckpt_file = f\"{paths.checkpoints()}/gen_optim_epoch_{gen_ckpt_epoch}.pt\"\n",
    "    print(f\"Loading from {gen_optim_ckpt_file}...\")\n",
    "    generator_optimizer.load_state_dict(torch.load(gen_optim_ckpt_file, map_location=torch.device(device)))"
   ]
  },
  {
   "cell_type": "code",
   "execution_count": 22,
   "metadata": {
    "colab": {
     "base_uri": "https://localhost:8080/"
    },
    "id": "oWQhD7-88VXe",
    "outputId": "3ba01600-b546-4e45-a6bd-c7a65af1ae9e"
   },
   "outputs": [
    {
     "name": "stdout",
     "output_type": "stream",
     "text": [
      "Loading from artifacts/checkpoints/GAN(gan=ragan,data=best(xing,stress),dis=deep,share=4,embed=12,gp=0)/dis_epoch_923.pt...\n",
      "Loading from artifacts/checkpoints/GAN(gan=ragan,data=best(xing,stress),dis=deep,share=4,embed=12,gp=0)/dis_optim_epoch_923.pt...\n"
     ]
    }
   ],
   "source": [
    "discriminator = EdgeFeatureDiscriminator(**config.discriminator.params[...]).to(device)\n",
    "discriminator_optimizer = config.discriminator.optim(discriminator.parameters(), lr=config.discriminator.lr.initial * config.discriminator.lr.decay ** start_epoch())\n",
    "discriminator_scheduler = torch.optim.lr_scheduler.ExponentialLR(discriminator_optimizer, gamma=config.discriminator.lr.decay)\n",
    "if start_epoch() != 0:\n",
    "    dis_ckpt_epoch = start_epoch()\n",
    "elif config.discriminator.pretrained.name is not None and config.discriminator.pretrained.epoch != 0:\n",
    "    dis_pretrained_epoch = get_ckpt_epoch(paths.dis_pretrain(), config.discriminator.pretrained.epoch)\n",
    "    dis_ckpt_epoch = dis_pretrained_epoch # f\"{paths.dis_pretrain()}/dis_epoch_{dis_pretrained_epoch}.pt\"\n",
    "else:\n",
    "    dis_ckpt_epoch = None\n",
    "if dis_ckpt_epoch is not None:\n",
    "    # Load discriminator\n",
    "    dis_ckpt_file = f\"{paths.checkpoints()}/dis_epoch_{dis_ckpt_epoch}.pt\"\n",
    "    print(f\"Loading from {dis_ckpt_file}...\")\n",
    "    discriminator.load_state_dict(torch.load(dis_ckpt_file, map_location=torch.device(device)))\n",
    "    # Load discriminator optimizer\n",
    "    dis_optim_ckpt_file = f\"{paths.checkpoints()}/dis_optim_epoch_{dis_ckpt_epoch}.pt\"\n",
    "    print(f\"Loading from {dis_optim_ckpt_file}...\")\n",
    "    discriminator_optimizer.load_state_dict(torch.load(dis_optim_ckpt_file, map_location=torch.device(device)))"
   ]
  },
  {
   "cell_type": "markdown",
   "metadata": {
    "id": "N39dDHraedM6"
   },
   "source": [
    "# Train"
   ]
  },
  {
   "cell_type": "code",
   "execution_count": 23,
   "metadata": {
    "id": "BdIJSDSJedM-"
   },
   "outputs": [],
   "source": [
    "stress_criterion = StressDiscriminator().to(device)\n",
    "val_criterion = Stress(reduce=None)\n",
    "xing_criterion = Xing(reduce=None)\n",
    "dis_convert = DiscriminatorDataConverter(complete_graph=config.discriminator.complete, normalize=config.discriminator.params.normalize)\n",
    "tensorboard = SummaryWriter(log_dir=paths.tensorboard())\n",
    "epoch = start_epoch() + 1"
   ]
  },
  {
   "cell_type": "code",
   "execution_count": 24,
   "metadata": {
    "id": "OHRWj1h0edM-"
   },
   "outputs": [],
   "source": [
    "def gradient_penalty(interpolated, discriminator, weight=10):\n",
    "    interpolated.pos.requires_grad_()\n",
    "    prob_interpolated = discriminator(interpolated)\n",
    "    gradients = autograd.grad(outputs=prob_interpolated, \n",
    "                              inputs=interpolated.pos,\n",
    "                              grad_outputs=torch.ones_like(prob_interpolated),\n",
    "                              create_graph=True, \n",
    "                              retain_graph=True, \n",
    "                              allow_unused=True)[0]\n",
    "    gradients_norm = torch.sqrt(gnn.global_add_pool(gradients.square().sum(dim=1), batch.batch) + 1e-8)\n",
    "    return weight * ((gradients_norm - 1) ** 2).mean()"
   ]
  },
  {
   "cell_type": "code",
   "execution_count": 25,
   "metadata": {
    "id": "o5wJJN9AedM_"
   },
   "outputs": [],
   "source": [
    "def get_gp_loss(batch, fake_pos, weight):\n",
    "    if weight > 0:\n",
    "        interp = dis_convert(batch, fake_pos, random.random())\n",
    "        return gradient_penalty(interp, discriminator, weight).mean()\n",
    "    return 0"
   ]
  },
  {
   "cell_type": "code",
   "execution_count": 26,
   "metadata": {
    "id": "QwuA6sRoedM_"
   },
   "outputs": [],
   "source": [
    "def get_sgan_loss(batch, fake_pos, mode='discriminator'):\n",
    "    real = dis_convert(batch)\n",
    "    fake = dis_convert(batch, fake_pos)\n",
    "    pred = discriminator(merge_batch(real, fake)).view(2, -1).T\n",
    "    if mode == 'discriminator':\n",
    "        label = torch.zeros(pred.shape[0]).long()\n",
    "    elif mode == 'generator':\n",
    "        label = torch.ones(pred.shape[0]).long()\n",
    "    else:\n",
    "        raise Exception\n",
    "    return nn.CrossEntropyLoss()(pred, label)"
   ]
  },
  {
   "cell_type": "code",
   "execution_count": 27,
   "metadata": {
    "id": "GuAP1YchedNA"
   },
   "outputs": [],
   "source": [
    "def get_rgan_loss(batch, fake_pos, mode='discriminator'):\n",
    "    real = dis_convert(batch)\n",
    "    fake = dis_convert(batch, fake_pos)\n",
    "    pred = discriminator(merge_batch(real, fake)).view(2, -1).T\n",
    "    real_pred, fake_pred = pred[:,0], pred[:,1]\n",
    "    if mode == 'discriminator':\n",
    "        losses = - F.logsigmoid(real_pred - fake_pred)\n",
    "    elif mode == 'generator':\n",
    "        losses = - F.logsigmoid(fake_pred - real_pred)\n",
    "    else:\n",
    "        raise Exception\n",
    "    return losses.mean()"
   ]
  },
  {
   "cell_type": "code",
   "execution_count": 28,
   "metadata": {
    "id": "KFllQ7BredNA"
   },
   "outputs": [],
   "source": [
    "def get_wgan_loss(batch, fake_pos, mode='discriminator'):\n",
    "    real = dis_convert(batch)\n",
    "    fake = dis_convert(batch, fake_pos)\n",
    "    pred = discriminator(merge_batch(real, fake)).view(2, -1).T\n",
    "    real_pred, fake_pred = pred[:,0], pred[:,1]\n",
    "    if mode == 'discriminator':\n",
    "        losses = fake_pred - real_pred \n",
    "    elif mode == 'generator':\n",
    "        losses = real_pred - fake_pred\n",
    "    else:\n",
    "        raise Exception\n",
    "    return losses.mean()"
   ]
  },
  {
   "cell_type": "code",
   "execution_count": 29,
   "metadata": {
    "id": "r5Kg_tYEedNA"
   },
   "outputs": [],
   "source": [
    "def get_ragan_loss(batch, fake_pos, mode='discriminator'):\n",
    "    real = dis_convert(batch)\n",
    "    fake = dis_convert(batch, fake_pos)\n",
    "    pred = discriminator(merge_batch(real, fake)).view(2, -1).T\n",
    "    real_pred, fake_pred = pred[:,0], pred[:,1]\n",
    "    if mode == 'discriminator':\n",
    "        losses = - F.logsigmoid(real_pred - fake_pred.mean()) - F.logsigmoid(real_pred.mean() - fake_pred)\n",
    "    elif mode == 'generator':\n",
    "        losses = - F.logsigmoid(fake_pred - real_pred.mean()) - F.logsigmoid(fake_pred.mean() - real_pred)\n",
    "    else:\n",
    "        raise Exception\n",
    "    return losses.mean()"
   ]
  },
  {
   "cell_type": "code",
   "execution_count": 30,
   "metadata": {},
   "outputs": [],
   "source": [
    "def get_dgdv2_loss(batch, fake_pos, mode='discriminator'):\n",
    "    fake = dis_convert(batch, fake_pos)\n",
    "    pred = discriminator(fake)\n",
    "    if mode == 'discriminator':\n",
    "        gt = get_gt(batch, fake_pos)\n",
    "        loss = criterion(pred, gt)\n",
    "    elif mode == 'generator':\n",
    "        losses = pred.sum(dim=0)\n",
    "#         losses = torch.tensor(config.importance).to(device) * losses #/ losses.detach()\n",
    "        loss = losses.sum()\n",
    "    else:\n",
    "        raise Exception\n",
    "    return -loss"
   ]
  },
  {
   "cell_type": "code",
   "execution_count": 31,
   "metadata": {
    "id": "3IE_84f-edNB"
   },
   "outputs": [],
   "source": [
    "def get_gan_loss(batch, fake_pos, mode='discriminator'):\n",
    "    return {\"sgan\": get_sgan_loss,\n",
    "            \"wgan\": get_wgan_loss,\n",
    "            \"rgan\": get_rgan_loss,\n",
    "            \"ragan\": get_ragan_loss,\n",
    "            \"dgdv2\": get_dgdv2_loss}[config.gan_flavor](batch, fake_pos, mode)"
   ]
  },
  {
   "cell_type": "code",
   "execution_count": 32,
   "metadata": {
    "colab": {
     "background_save": true,
     "base_uri": "https://localhost:8080/",
     "height": 80
    },
    "id": "2NjekXgkedNB",
    "outputId": "da85b2ec-c0de-459c-c0dd-7ba3519419fa",
    "scrolled": true,
    "tags": []
   },
   "outputs": [
    {
     "data": {
      "application/vnd.jupyter.widget-view+json": {
       "model_id": "ce5ed7d44e7c40678b6c4bf883c9e3e7",
       "version_major": 2,
       "version_minor": 0
      },
      "text/plain": [
       "Tab(children=(VBox(children=(Wrapper(), Hud())), HBox(children=(Output(),), layout=Layout(height='500px', over…"
      ]
     },
     "metadata": {},
     "output_type": "display_data"
    },
    {
     "ename": "KeyboardInterrupt",
     "evalue": "",
     "output_type": "error",
     "traceback": [
      "\u001b[0;31m---------------------------------------------------------------------------\u001b[0m",
      "\u001b[0;31mKeyboardInterrupt\u001b[0m                         Traceback (most recent call last)",
      "\u001b[0;32m/tmp/slurmtmp.5826414/ipykernel_129982/801679965.py\u001b[0m in \u001b[0;36m<module>\u001b[0;34m\u001b[0m\n\u001b[1;32m    127\u001b[0m     \u001b[0;32mfor\u001b[0m \u001b[0m_\u001b[0m \u001b[0;32min\u001b[0m \u001b[0mrange\u001b[0m\u001b[0;34m(\u001b[0m\u001b[0mconfig\u001b[0m\u001b[0;34m.\u001b[0m\u001b[0mdiscriminator\u001b[0m\u001b[0;34m.\u001b[0m\u001b[0mrepeat\u001b[0m\u001b[0;34m)\u001b[0m\u001b[0;34m:\u001b[0m\u001b[0;34m\u001b[0m\u001b[0;34m\u001b[0m\u001b[0m\n\u001b[1;32m    128\u001b[0m         \u001b[0;32mfor\u001b[0m \u001b[0mbatch\u001b[0m \u001b[0;32min\u001b[0m \u001b[0mtrain_loader\u001b[0m\u001b[0;34m:\u001b[0m\u001b[0;34m\u001b[0m\u001b[0;34m\u001b[0m\u001b[0m\n\u001b[0;32m--> 129\u001b[0;31m             \u001b[0mtrain_dis\u001b[0m\u001b[0;34m(\u001b[0m\u001b[0mbatch\u001b[0m\u001b[0;34m,\u001b[0m \u001b[0mepoch\u001b[0m\u001b[0;34m)\u001b[0m\u001b[0;34m\u001b[0m\u001b[0;34m\u001b[0m\u001b[0m\n\u001b[0m\u001b[1;32m    130\u001b[0m             \u001b[0;32mif\u001b[0m \u001b[0mconfig\u001b[0m\u001b[0;34m.\u001b[0m\u001b[0malternate\u001b[0m \u001b[0;34m==\u001b[0m \u001b[0;34m'iteration'\u001b[0m\u001b[0;34m:\u001b[0m\u001b[0;34m\u001b[0m\u001b[0;34m\u001b[0m\u001b[0m\n\u001b[1;32m    131\u001b[0m                 \u001b[0mtrain_gen\u001b[0m\u001b[0;34m(\u001b[0m\u001b[0mbatch\u001b[0m\u001b[0;34m,\u001b[0m \u001b[0mepoch\u001b[0m\u001b[0;34m)\u001b[0m\u001b[0;34m\u001b[0m\u001b[0;34m\u001b[0m\u001b[0m\n",
      "\u001b[0;32m/tmp/slurmtmp.5826414/ipykernel_129982/801679965.py\u001b[0m in \u001b[0;36mtrain_dis\u001b[0;34m(batch, epoch)\u001b[0m\n\u001b[1;32m      5\u001b[0m     \u001b[0;32mif\u001b[0m \u001b[0mconfig\u001b[0m\u001b[0;34m.\u001b[0m\u001b[0mdiscriminator\u001b[0m\u001b[0;34m.\u001b[0m\u001b[0mnoise\u001b[0m\u001b[0;34m.\u001b[0m\u001b[0mstd\u001b[0m \u001b[0;34m>\u001b[0m \u001b[0;36m0\u001b[0m\u001b[0;34m:\u001b[0m\u001b[0;34m\u001b[0m\u001b[0;34m\u001b[0m\u001b[0m\n\u001b[1;32m      6\u001b[0m         \u001b[0mgenerator_output\u001b[0m \u001b[0;34m=\u001b[0m \u001b[0mgenerator_output\u001b[0m \u001b[0;34m+\u001b[0m \u001b[0mtorch\u001b[0m\u001b[0;34m.\u001b[0m\u001b[0mrandn_like\u001b[0m\u001b[0;34m(\u001b[0m\u001b[0mgenerator_output\u001b[0m\u001b[0;34m)\u001b[0m \u001b[0;34m*\u001b[0m \u001b[0mconfig\u001b[0m\u001b[0;34m.\u001b[0m\u001b[0mdiscriminator\u001b[0m\u001b[0;34m.\u001b[0m\u001b[0mnoise\u001b[0m\u001b[0;34m.\u001b[0m\u001b[0mstd\u001b[0m \u001b[0;34m*\u001b[0m \u001b[0mconfig\u001b[0m\u001b[0;34m.\u001b[0m\u001b[0mdiscriminator\u001b[0m\u001b[0;34m.\u001b[0m\u001b[0mnoise\u001b[0m\u001b[0;34m.\u001b[0m\u001b[0mdecay\u001b[0m \u001b[0;34m**\u001b[0m \u001b[0mepoch\u001b[0m\u001b[0;34m\u001b[0m\u001b[0;34m\u001b[0m\u001b[0m\n\u001b[0;32m----> 7\u001b[0;31m     \u001b[0mdiscriminator_loss\u001b[0m \u001b[0;34m=\u001b[0m \u001b[0mget_gan_loss\u001b[0m\u001b[0;34m(\u001b[0m\u001b[0mbatch\u001b[0m\u001b[0;34m,\u001b[0m \u001b[0mgenerator_output\u001b[0m\u001b[0;34m,\u001b[0m \u001b[0mmode\u001b[0m\u001b[0;34m=\u001b[0m\u001b[0;34m'discriminator'\u001b[0m\u001b[0;34m)\u001b[0m\u001b[0;34m\u001b[0m\u001b[0;34m\u001b[0m\u001b[0m\n\u001b[0m\u001b[1;32m      8\u001b[0m \u001b[0;34m\u001b[0m\u001b[0m\n\u001b[1;32m      9\u001b[0m     \u001b[0;31m# train discriminator\u001b[0m\u001b[0;34m\u001b[0m\u001b[0;34m\u001b[0m\u001b[0m\n",
      "\u001b[0;32m/tmp/slurmtmp.5826414/ipykernel_129982/4066978981.py\u001b[0m in \u001b[0;36mget_gan_loss\u001b[0;34m(batch, fake_pos, mode)\u001b[0m\n\u001b[1;32m      1\u001b[0m \u001b[0;32mdef\u001b[0m \u001b[0mget_gan_loss\u001b[0m\u001b[0;34m(\u001b[0m\u001b[0mbatch\u001b[0m\u001b[0;34m,\u001b[0m \u001b[0mfake_pos\u001b[0m\u001b[0;34m,\u001b[0m \u001b[0mmode\u001b[0m\u001b[0;34m=\u001b[0m\u001b[0;34m'discriminator'\u001b[0m\u001b[0;34m)\u001b[0m\u001b[0;34m:\u001b[0m\u001b[0;34m\u001b[0m\u001b[0;34m\u001b[0m\u001b[0m\n\u001b[0;32m----> 2\u001b[0;31m     return {\"sgan\": get_sgan_loss,\n\u001b[0m\u001b[1;32m      3\u001b[0m             \u001b[0;34m\"wgan\"\u001b[0m\u001b[0;34m:\u001b[0m \u001b[0mget_wgan_loss\u001b[0m\u001b[0;34m,\u001b[0m\u001b[0;34m\u001b[0m\u001b[0;34m\u001b[0m\u001b[0m\n\u001b[1;32m      4\u001b[0m             \u001b[0;34m\"rgan\"\u001b[0m\u001b[0;34m:\u001b[0m \u001b[0mget_rgan_loss\u001b[0m\u001b[0;34m,\u001b[0m\u001b[0;34m\u001b[0m\u001b[0;34m\u001b[0m\u001b[0m\n\u001b[1;32m      5\u001b[0m             \u001b[0;34m\"ragan\"\u001b[0m\u001b[0;34m:\u001b[0m \u001b[0mget_ragan_loss\u001b[0m\u001b[0;34m,\u001b[0m\u001b[0;34m\u001b[0m\u001b[0;34m\u001b[0m\u001b[0m\n",
      "\u001b[0;32m/tmp/slurmtmp.5826414/ipykernel_129982/2448263638.py\u001b[0m in \u001b[0;36mget_ragan_loss\u001b[0;34m(batch, fake_pos, mode)\u001b[0m\n\u001b[1;32m      2\u001b[0m     \u001b[0mreal\u001b[0m \u001b[0;34m=\u001b[0m \u001b[0mdis_convert\u001b[0m\u001b[0;34m(\u001b[0m\u001b[0mbatch\u001b[0m\u001b[0;34m)\u001b[0m\u001b[0;34m\u001b[0m\u001b[0;34m\u001b[0m\u001b[0m\n\u001b[1;32m      3\u001b[0m     \u001b[0mfake\u001b[0m \u001b[0;34m=\u001b[0m \u001b[0mdis_convert\u001b[0m\u001b[0;34m(\u001b[0m\u001b[0mbatch\u001b[0m\u001b[0;34m,\u001b[0m \u001b[0mfake_pos\u001b[0m\u001b[0;34m)\u001b[0m\u001b[0;34m\u001b[0m\u001b[0;34m\u001b[0m\u001b[0m\n\u001b[0;32m----> 4\u001b[0;31m     \u001b[0mpred\u001b[0m \u001b[0;34m=\u001b[0m \u001b[0mdiscriminator\u001b[0m\u001b[0;34m(\u001b[0m\u001b[0mmerge_batch\u001b[0m\u001b[0;34m(\u001b[0m\u001b[0mreal\u001b[0m\u001b[0;34m,\u001b[0m \u001b[0mfake\u001b[0m\u001b[0;34m)\u001b[0m\u001b[0;34m)\u001b[0m\u001b[0;34m.\u001b[0m\u001b[0mview\u001b[0m\u001b[0;34m(\u001b[0m\u001b[0;36m2\u001b[0m\u001b[0;34m,\u001b[0m \u001b[0;34m-\u001b[0m\u001b[0;36m1\u001b[0m\u001b[0;34m)\u001b[0m\u001b[0;34m.\u001b[0m\u001b[0mT\u001b[0m\u001b[0;34m\u001b[0m\u001b[0;34m\u001b[0m\u001b[0m\n\u001b[0m\u001b[1;32m      5\u001b[0m     \u001b[0mreal_pred\u001b[0m\u001b[0;34m,\u001b[0m \u001b[0mfake_pred\u001b[0m \u001b[0;34m=\u001b[0m \u001b[0mpred\u001b[0m\u001b[0;34m[\u001b[0m\u001b[0;34m:\u001b[0m\u001b[0;34m,\u001b[0m\u001b[0;36m0\u001b[0m\u001b[0;34m]\u001b[0m\u001b[0;34m,\u001b[0m \u001b[0mpred\u001b[0m\u001b[0;34m[\u001b[0m\u001b[0;34m:\u001b[0m\u001b[0;34m,\u001b[0m\u001b[0;36m1\u001b[0m\u001b[0;34m]\u001b[0m\u001b[0;34m\u001b[0m\u001b[0;34m\u001b[0m\u001b[0m\n\u001b[1;32m      6\u001b[0m     \u001b[0;32mif\u001b[0m \u001b[0mmode\u001b[0m \u001b[0;34m==\u001b[0m \u001b[0;34m'discriminator'\u001b[0m\u001b[0;34m:\u001b[0m\u001b[0;34m\u001b[0m\u001b[0;34m\u001b[0m\u001b[0m\n",
      "\u001b[0;32m~/deepgd/deepgd/functions.py\u001b[0m in \u001b[0;36mmerge_batch\u001b[0;34m(batch1, batch2)\u001b[0m\n\u001b[1;32m    205\u001b[0m \u001b[0;32mdef\u001b[0m \u001b[0mmerge_batch\u001b[0m\u001b[0;34m(\u001b[0m\u001b[0mbatch1\u001b[0m\u001b[0;34m,\u001b[0m \u001b[0mbatch2\u001b[0m\u001b[0;34m)\u001b[0m\u001b[0;34m:\u001b[0m\u001b[0;34m\u001b[0m\u001b[0;34m\u001b[0m\u001b[0m\n\u001b[1;32m    206\u001b[0m     \u001b[0;32massert\u001b[0m \u001b[0mbatch1\u001b[0m\u001b[0;34m.\u001b[0m\u001b[0mbatch\u001b[0m\u001b[0;34m.\u001b[0m\u001b[0mdevice\u001b[0m \u001b[0;34m==\u001b[0m \u001b[0mbatch2\u001b[0m\u001b[0;34m.\u001b[0m\u001b[0mbatch\u001b[0m\u001b[0;34m.\u001b[0m\u001b[0mdevice\u001b[0m\u001b[0;34m\u001b[0m\u001b[0;34m\u001b[0m\u001b[0m\n\u001b[0;32m--> 207\u001b[0;31m     \u001b[0;32mreturn\u001b[0m \u001b[0mBatch\u001b[0m\u001b[0;34m.\u001b[0m\u001b[0mfrom_data_list\u001b[0m\u001b[0;34m(\u001b[0m\u001b[0mbatch1\u001b[0m\u001b[0;34m.\u001b[0m\u001b[0mto_data_list\u001b[0m\u001b[0;34m(\u001b[0m\u001b[0;34m)\u001b[0m \u001b[0;34m+\u001b[0m \u001b[0mbatch2\u001b[0m\u001b[0;34m.\u001b[0m\u001b[0mto_data_list\u001b[0m\u001b[0;34m(\u001b[0m\u001b[0;34m)\u001b[0m\u001b[0;34m)\u001b[0m\u001b[0;34m.\u001b[0m\u001b[0mto\u001b[0m\u001b[0;34m(\u001b[0m\u001b[0mbatch1\u001b[0m\u001b[0;34m.\u001b[0m\u001b[0mbatch\u001b[0m\u001b[0;34m.\u001b[0m\u001b[0mdevice\u001b[0m\u001b[0;34m)\u001b[0m\u001b[0;34m\u001b[0m\u001b[0;34m\u001b[0m\u001b[0m\n\u001b[0m\u001b[1;32m    208\u001b[0m \u001b[0;34m\u001b[0m\u001b[0m\n",
      "\u001b[0;32m~/.conda/envs/deepgd/lib/python3.9/site-packages/torch_geometric/data/batch.py\u001b[0m in \u001b[0;36mto_data_list\u001b[0;34m(self)\u001b[0m\n\u001b[1;32m    155\u001b[0m         \u001b[0mvia\u001b[0m \u001b[0;34m:\u001b[0m\u001b[0mmeth\u001b[0m\u001b[0;34m:\u001b[0m\u001b[0;31m`\u001b[0m\u001b[0mfrom_data_list\u001b[0m\u001b[0;31m`\u001b[0m \u001b[0;32min\u001b[0m \u001b[0morder\u001b[0m \u001b[0mto\u001b[0m \u001b[0mbe\u001b[0m \u001b[0mable\u001b[0m \u001b[0mto\u001b[0m \u001b[0mreconstruct\u001b[0m \u001b[0mthe\u001b[0m\u001b[0;34m\u001b[0m\u001b[0;34m\u001b[0m\u001b[0m\n\u001b[1;32m    156\u001b[0m         initial objects.\"\"\"\n\u001b[0;32m--> 157\u001b[0;31m         \u001b[0;32mreturn\u001b[0m \u001b[0;34m[\u001b[0m\u001b[0mself\u001b[0m\u001b[0;34m.\u001b[0m\u001b[0mget\u001b[0m\u001b[0;34m(\u001b[0m\u001b[0mi\u001b[0m\u001b[0;34m)\u001b[0m \u001b[0;32mfor\u001b[0m \u001b[0mi\u001b[0m \u001b[0;32min\u001b[0m \u001b[0mrange\u001b[0m\u001b[0;34m(\u001b[0m\u001b[0mself\u001b[0m\u001b[0;34m.\u001b[0m\u001b[0mnum_graphs\u001b[0m\u001b[0;34m)\u001b[0m\u001b[0;34m]\u001b[0m\u001b[0;34m\u001b[0m\u001b[0;34m\u001b[0m\u001b[0m\n\u001b[0m\u001b[1;32m    158\u001b[0m \u001b[0;34m\u001b[0m\u001b[0m\n\u001b[1;32m    159\u001b[0m     \u001b[0;34m@\u001b[0m\u001b[0mproperty\u001b[0m\u001b[0;34m\u001b[0m\u001b[0;34m\u001b[0m\u001b[0m\n",
      "\u001b[0;32m~/.conda/envs/deepgd/lib/python3.9/site-packages/torch_geometric/data/batch.py\u001b[0m in \u001b[0;36m<listcomp>\u001b[0;34m(.0)\u001b[0m\n\u001b[1;32m    155\u001b[0m         \u001b[0mvia\u001b[0m \u001b[0;34m:\u001b[0m\u001b[0mmeth\u001b[0m\u001b[0;34m:\u001b[0m\u001b[0;31m`\u001b[0m\u001b[0mfrom_data_list\u001b[0m\u001b[0;31m`\u001b[0m \u001b[0;32min\u001b[0m \u001b[0morder\u001b[0m \u001b[0mto\u001b[0m \u001b[0mbe\u001b[0m \u001b[0mable\u001b[0m \u001b[0mto\u001b[0m \u001b[0mreconstruct\u001b[0m \u001b[0mthe\u001b[0m\u001b[0;34m\u001b[0m\u001b[0;34m\u001b[0m\u001b[0m\n\u001b[1;32m    156\u001b[0m         initial objects.\"\"\"\n\u001b[0;32m--> 157\u001b[0;31m         \u001b[0;32mreturn\u001b[0m \u001b[0;34m[\u001b[0m\u001b[0mself\u001b[0m\u001b[0;34m.\u001b[0m\u001b[0mget\u001b[0m\u001b[0;34m(\u001b[0m\u001b[0mi\u001b[0m\u001b[0;34m)\u001b[0m \u001b[0;32mfor\u001b[0m \u001b[0mi\u001b[0m \u001b[0;32min\u001b[0m \u001b[0mrange\u001b[0m\u001b[0;34m(\u001b[0m\u001b[0mself\u001b[0m\u001b[0;34m.\u001b[0m\u001b[0mnum_graphs\u001b[0m\u001b[0;34m)\u001b[0m\u001b[0;34m]\u001b[0m\u001b[0;34m\u001b[0m\u001b[0;34m\u001b[0m\u001b[0m\n\u001b[0m\u001b[1;32m    158\u001b[0m \u001b[0;34m\u001b[0m\u001b[0m\n\u001b[1;32m    159\u001b[0m     \u001b[0;34m@\u001b[0m\u001b[0mproperty\u001b[0m\u001b[0;34m\u001b[0m\u001b[0;34m\u001b[0m\u001b[0m\n",
      "\u001b[0;32m~/.conda/envs/deepgd/lib/python3.9/site-packages/torch_geometric/data/batch.py\u001b[0m in \u001b[0;36mget\u001b[0;34m(self, idx)\u001b[0m\n\u001b[1;32m     88\u001b[0m                  \"'Batch' was not created via 'Batch.from_data_list()'\"))\n\u001b[1;32m     89\u001b[0m \u001b[0;34m\u001b[0m\u001b[0m\n\u001b[0;32m---> 90\u001b[0;31m         data = separate(\n\u001b[0m\u001b[1;32m     91\u001b[0m             \u001b[0mcls\u001b[0m\u001b[0;34m=\u001b[0m\u001b[0mself\u001b[0m\u001b[0;34m.\u001b[0m\u001b[0m__class__\u001b[0m\u001b[0;34m.\u001b[0m\u001b[0m__bases__\u001b[0m\u001b[0;34m[\u001b[0m\u001b[0;34m-\u001b[0m\u001b[0;36m1\u001b[0m\u001b[0;34m]\u001b[0m\u001b[0;34m,\u001b[0m\u001b[0;34m\u001b[0m\u001b[0;34m\u001b[0m\u001b[0m\n\u001b[1;32m     92\u001b[0m             \u001b[0mbatch\u001b[0m\u001b[0;34m=\u001b[0m\u001b[0mself\u001b[0m\u001b[0;34m,\u001b[0m\u001b[0;34m\u001b[0m\u001b[0;34m\u001b[0m\u001b[0m\n",
      "\u001b[0;32m~/.conda/envs/deepgd/lib/python3.9/site-packages/torch_geometric/data/separate.py\u001b[0m in \u001b[0;36mseparate\u001b[0;34m(cls, batch, idx, slice_dict, inc_dict, decrement)\u001b[0m\n\u001b[1;32m     38\u001b[0m                 \u001b[0mslices\u001b[0m \u001b[0;34m=\u001b[0m \u001b[0mslice_dict\u001b[0m\u001b[0;34m[\u001b[0m\u001b[0mattr\u001b[0m\u001b[0;34m]\u001b[0m\u001b[0;34m\u001b[0m\u001b[0;34m\u001b[0m\u001b[0m\n\u001b[1;32m     39\u001b[0m                 \u001b[0mincs\u001b[0m \u001b[0;34m=\u001b[0m \u001b[0minc_dict\u001b[0m\u001b[0;34m[\u001b[0m\u001b[0mattr\u001b[0m\u001b[0;34m]\u001b[0m \u001b[0;32mif\u001b[0m \u001b[0mdecrement\u001b[0m \u001b[0;32melse\u001b[0m \u001b[0;32mNone\u001b[0m\u001b[0;34m\u001b[0m\u001b[0;34m\u001b[0m\u001b[0m\n\u001b[0;32m---> 40\u001b[0;31m             data_store[attr] = _separate(attr, batch_store[attr], idx, slices,\n\u001b[0m\u001b[1;32m     41\u001b[0m                                          incs, batch, batch_store, decrement)\n\u001b[1;32m     42\u001b[0m \u001b[0;34m\u001b[0m\u001b[0m\n",
      "\u001b[0;32m~/.conda/envs/deepgd/lib/python3.9/site-packages/torch_geometric/data/separate.py\u001b[0m in \u001b[0;36m_separate\u001b[0;34m(key, value, idx, slices, incs, batch, store, decrement)\u001b[0m\n\u001b[1;32m     85\u001b[0m         \u001b[0mvalue\u001b[0m \u001b[0;34m=\u001b[0m \u001b[0mvalue\u001b[0m\u001b[0;34m.\u001b[0m\u001b[0mnarrow\u001b[0m\u001b[0;34m(\u001b[0m\u001b[0mcat_dim\u001b[0m \u001b[0;32mor\u001b[0m \u001b[0;36m0\u001b[0m\u001b[0;34m,\u001b[0m \u001b[0mstart\u001b[0m\u001b[0;34m,\u001b[0m \u001b[0mend\u001b[0m \u001b[0;34m-\u001b[0m \u001b[0mstart\u001b[0m\u001b[0;34m)\u001b[0m\u001b[0;34m\u001b[0m\u001b[0;34m\u001b[0m\u001b[0m\n\u001b[1;32m     86\u001b[0m         \u001b[0mvalue\u001b[0m \u001b[0;34m=\u001b[0m \u001b[0mvalue\u001b[0m\u001b[0;34m.\u001b[0m\u001b[0msqueeze\u001b[0m\u001b[0;34m(\u001b[0m\u001b[0;36m0\u001b[0m\u001b[0;34m)\u001b[0m \u001b[0;32mif\u001b[0m \u001b[0mcat_dim\u001b[0m \u001b[0;32mis\u001b[0m \u001b[0;32mNone\u001b[0m \u001b[0;32melse\u001b[0m \u001b[0mvalue\u001b[0m\u001b[0;34m\u001b[0m\u001b[0;34m\u001b[0m\u001b[0m\n\u001b[0;32m---> 87\u001b[0;31m         \u001b[0;32mif\u001b[0m \u001b[0mdecrement\u001b[0m \u001b[0;32mand\u001b[0m \u001b[0;34m(\u001b[0m\u001b[0mincs\u001b[0m\u001b[0;34m.\u001b[0m\u001b[0mdim\u001b[0m\u001b[0;34m(\u001b[0m\u001b[0;34m)\u001b[0m \u001b[0;34m>\u001b[0m \u001b[0;36m1\u001b[0m \u001b[0;32mor\u001b[0m \u001b[0mint\u001b[0m\u001b[0;34m(\u001b[0m\u001b[0mincs\u001b[0m\u001b[0;34m[\u001b[0m\u001b[0midx\u001b[0m\u001b[0;34m]\u001b[0m\u001b[0;34m)\u001b[0m \u001b[0;34m!=\u001b[0m \u001b[0;36m0\u001b[0m\u001b[0;34m)\u001b[0m\u001b[0;34m:\u001b[0m\u001b[0;34m\u001b[0m\u001b[0;34m\u001b[0m\u001b[0m\n\u001b[0m\u001b[1;32m     88\u001b[0m             \u001b[0mvalue\u001b[0m \u001b[0;34m=\u001b[0m \u001b[0mvalue\u001b[0m \u001b[0;34m-\u001b[0m \u001b[0mincs\u001b[0m\u001b[0;34m[\u001b[0m\u001b[0midx\u001b[0m\u001b[0;34m]\u001b[0m\u001b[0;34m\u001b[0m\u001b[0;34m\u001b[0m\u001b[0m\n\u001b[1;32m     89\u001b[0m         \u001b[0;32mreturn\u001b[0m \u001b[0mvalue\u001b[0m\u001b[0;34m\u001b[0m\u001b[0;34m\u001b[0m\u001b[0m\n",
      "\u001b[0;31mKeyboardInterrupt\u001b[0m: "
     ]
    }
   ],
   "source": [
    "def train_dis(batch, epoch):\n",
    "    generator.requires_grad_(False)\n",
    "    discriminator.zero_grad()\n",
    "    generator_output = generator(batch)\n",
    "    if config.discriminator.noise.std > 0:\n",
    "        generator_output = generator_output + torch.randn_like(generator_output) * config.discriminator.noise.std * config.discriminator.noise.decay ** epoch\n",
    "    discriminator_loss = get_gan_loss(batch, generator_output, mode='discriminator')\n",
    "    \n",
    "    # train discriminator\n",
    "    discriminator_loss.backward()\n",
    "    discriminator_optimizer.step()\n",
    "\n",
    "    # gradient penalty\n",
    "    if config.gp_weight > 0:\n",
    "        discriminator.zero_grad()\n",
    "        gp_loss = get_gp_loss(batch, generator_output, config.gp_weight)\n",
    "        gp_loss.backward()\n",
    "        discriminator_optimizer.step()\n",
    "\n",
    "    hud['dis_loss'] = format(discriminator_loss.item(), '.2e')\n",
    "    pbar().update()\n",
    "\n",
    "def train_gen(batch, epoch):\n",
    "    generator.requires_grad_(True)\n",
    "    generator.zero_grad()\n",
    "    discriminator.zero_grad()\n",
    "    generator_output = generator(batch)\n",
    "    if config.discriminator.noise.std > 0:\n",
    "        generator_output = generator_output + torch.randn_like(generator_output) * config.discriminator.noise.std * config.discriminator.noise.decay ** epoch\n",
    "    generator_loss = get_gan_loss(batch, generator_output, mode='generator') \n",
    "    \n",
    "    #train generator\n",
    "    generator_loss.backward()\n",
    "    generator_optimizer.step()\n",
    "\n",
    "    with torch.no_grad():\n",
    "        dis_batch = dis_convert(batch, generator_output)\n",
    "        stress = stress_criterion(dis_batch).mean()\n",
    "        critic = discriminator(dis_batch).mean()\n",
    "    hud.append({'gen_loss': format(generator_loss.item(), '.2e'),\n",
    "                'stress': format(stress.item(), '.2e'),\n",
    "                'critic': format(critic.item(), '.2e')})\n",
    "    pbar().update()\n",
    "\n",
    "def cuda_memsafe_map(fn, *iterables, summary=False):\n",
    "    total, failed = 0, 0\n",
    "    iterator = zip(*iterables)\n",
    "    items = None\n",
    "    while True:\n",
    "        try:\n",
    "            items = next(iterator)\n",
    "            yield fn(*items)\n",
    "        except StopIteration:\n",
    "            if summary:\n",
    "                print(f'Iteration finished. {failed} out of {total} failed!')\n",
    "            break\n",
    "        except RuntimeError:\n",
    "            print('CUDA memory overflow! Skip batch...')\n",
    "            del items\n",
    "            failed += 1\n",
    "        torch.cuda.empty_cache()\n",
    "        total += 1\n",
    "    \n",
    "def validate(model, data_loader, criterion=val_criterion):\n",
    "    def val_one_batch(batch):\n",
    "        batch = preprocess_batch(model, batch)\n",
    "        pred = CanonicalizationByStress()(model(batch), batch)\n",
    "        gt = CanonicalizationByStress()(batch.gt_pos, batch)\n",
    "        loss = criterion(pred, batch)\n",
    "        gt_loss = criterion(gt, batch)\n",
    "        spc = (loss - gt_loss) / torch.maximum(torch.maximum(loss, gt_loss), torch.ones_like(loss)*1e-5)\n",
    "        return loss.mean().item(), spc.mean().item()\n",
    "    loss_all, spc_all = zip(*cuda_memsafe_map(val_one_batch, data_loader))\n",
    "    return np.mean(loss_all), np.mean(spc_all)\n",
    "\n",
    "def log(msg):\n",
    "    msg = f\"[{epoch:03}] {msg}\"\n",
    "    print(msg, file=open(paths.log(), \"a\"))\n",
    "    with log_out: \n",
    "        print(msg)\n",
    "\n",
    "print(f\"{'='*10} {config.link} {'='*10}\", file=open(paths.log(), \"a\"))\n",
    "hud = Hud()\n",
    "pbar = Wrapper(tqdm, total=len(train_loader)*2, smoothing=0)\n",
    "plot_out = Output()\n",
    "log_out = Output()\n",
    "tabs = {\"status\": VBox([pbar, hud]), \n",
    "        \"plot\": HBox([plot_out], layout=Layout(height='500px', overflow_y='auto')),\n",
    "        \"log\": HBox([log_out], layout=Layout(height='500px', overflow_y='auto'))}\n",
    "tab_bar = Tab(children=list(tabs.values()))\n",
    "[tab_bar.set_title(i, name) for i, name in enumerate(tabs)]\n",
    "display(tab_bar)\n",
    "while True:\n",
    "    if epoch % config.log_interval == 0:\n",
    "        torch.save(generator.state_dict(), f\"{paths.checkpoints()}/gen_epoch_{epoch}.pt\")\n",
    "        torch.save(generator_optimizer.state_dict(), f\"{paths.checkpoints()}/gen_optim_epoch_{epoch}.pt\")\n",
    "        torch.save(discriminator.state_dict(), f\"{paths.checkpoints()}/dis_epoch_{epoch}.pt\")\n",
    "        torch.save(discriminator_optimizer.state_dict(), f\"{paths.checkpoints()}/dis_optim_epoch_{epoch}.pt\")\n",
    "        generator.eval()\n",
    "        with torch.no_grad():\n",
    "            val_stress, val_stress_spc = validate(model=generator, data_loader=val_loader)\n",
    "            val_xing, val_xing_spc = validate(model=generator, data_loader=val_loader, criterion=xing_criterion)\n",
    "            with plot_out:\n",
    "                fig = plt.figure()\n",
    "                graph_vis(G_list[11100], generator(make_batch(data_list[11100]).to(device)).cpu())\n",
    "                plt.show()\n",
    "        # tensorboard.add_scalars('loss', {'train': train_loss, \n",
    "        #                                  'validation': val_loss}, epoch)\n",
    "        # for i, fn in enumerate(loss_fns):\n",
    "        #     tensorboard.add_scalars(type(fn).__name__, {'train': train_loss_comp[i].item(), \n",
    "        #                                           'validation': val_loss_comp[i].item()}, epoch)\n",
    "        hud.append({\n",
    "            'val_stress': format(val_stress, '.2f'),\n",
    "            'val_stress_spc': format(val_stress_spc, '.2%'),\n",
    "            'val_xing': format(val_xing, '.2f'),\n",
    "            'val_xing_spc': format(val_xing_spc, '.2%'),\n",
    "        })\n",
    "        log(f\"stress={hud.data['val_stress']}({hud.data['val_stress_spc']}) xing={hud.data['val_xing']}({hud.data['val_xing_spc']})\")\n",
    "        \n",
    "    # handle.update(tab_bar)\n",
    "    pbar().reset()\n",
    "    pbar().set_description(desc=f\"[epoch {epoch}/{config.epoch.end}]\")\n",
    "    hud(title=f\"epoch {epoch}\")\n",
    "    generator.train()\n",
    "    discriminator.train()\n",
    "    # proper: proper layout\n",
    "    for _ in range(config.discriminator.repeat):\n",
    "        for batch in train_loader:\n",
    "            train_dis(batch, epoch)\n",
    "            if config.alternate == 'iteration':\n",
    "                train_gen(batch, epoch)\n",
    "\n",
    "    if config.alternate == 'epoch':\n",
    "        for batch in train_loader:\n",
    "            train_gen(batch, epoch)\n",
    "\n",
    "    discriminator_scheduler.step()\n",
    "    generator_scheduler.step()\n",
    "\n",
    "    if epoch == config.epoch.end:\n",
    "        break\n",
    "    epoch += 1"
   ]
  },
  {
   "cell_type": "markdown",
   "metadata": {
    "id": "0qYK_X_hrq9o"
   },
   "source": [
    "# Test"
   ]
  },
  {
   "cell_type": "code",
   "execution_count": 33,
   "metadata": {
    "colab": {
     "base_uri": "https://localhost:8080/"
    },
    "id": "XEvmAtNjWhcY",
    "outputId": "9f4c86a4-a4b0-48f1-cb58-ab3679173184"
   },
   "outputs": [
    {
     "name": "stdout",
     "output_type": "stream",
     "text": [
      "Loading from artifacts/checkpoints/GAN(gan=ragan,data=best(xing,stress),dis=deep,share=4,embed=12,gp=0)/gen_epoch_924.pt...\n"
     ]
    },
    {
     "data": {
      "text/plain": [
       "<All keys matched successfully>"
      ]
     },
     "execution_count": 33,
     "metadata": {},
     "output_type": "execute_result"
    }
   ],
   "source": [
    "test_epoch = -1\n",
    "\n",
    "test_generator = Generator(**config.generator.params[...]).to(device)\n",
    "test_ckpt_epoch = get_ckpt_epoch(paths.checkpoints(), test_epoch)\n",
    "test_ckpt_file = f\"{paths.checkpoints()}/gen_epoch_{test_ckpt_epoch}.pt\"\n",
    "print(f\"Loading from {test_ckpt_file}...\")\n",
    "test_generator.load_state_dict(torch.load(test_ckpt_file, map_location=torch.device(device)))"
   ]
  },
  {
   "cell_type": "code",
   "execution_count": 34,
   "metadata": {
    "colab": {
     "background_save": true,
     "base_uri": "https://localhost:8080/",
     "height": 1000,
     "referenced_widgets": [
      "9b7d18992dbf4a84931f916fbaaa37d8",
      "2c664d7e1e6d474fb87094fc0da270d3",
      "d375f5f82a4645d7b29c541596dc1c7f",
      "ecfa311bb06b4f6fa504598263ff69d3",
      "d1859990877149eab2b414b4e2a0e0c7",
      "d2be6733734844bca3e1db9b49eb1c1e",
      "4d98072bdf674792a13d77e85dd285d1",
      "f7ed92c383d741a0a1cef2536ff2db13",
      "2ba110f835c64ec4b82974996aed10af",
      "09397ceac9014af0aebca848d4d96d48",
      "fd0709f48d6c4527bc00b5f407f3c1b9"
     ]
    },
    "id": "ZubmSTcYrq9o",
    "outputId": "fc2f65a2-2085-43ac-b110-cbfe742318a8",
    "scrolled": true,
    "tags": []
   },
   "outputs": [
    {
     "data": {
      "application/vnd.jupyter.widget-view+json": {
       "model_id": "56d7166c1db244799e0f67471f498753",
       "version_major": 2,
       "version_minor": 0
      },
      "text/plain": [
       "  0%|          | 0/1000 [00:00<?, ?it/s]"
      ]
     },
     "metadata": {},
     "output_type": "display_data"
    }
   ],
   "source": [
    "rotate = RotateByPrincipalComponents()\n",
    "def test_callback(*, idx, pred, metrics):\n",
    "    # graph_vis(G_list[idx], pred, file_name=f\"{paths.visualization()}/{idx}_{metrics['stress']:.2f}_{metrics['resolution_score']:.2f}.png\")\n",
    "    pred = rotate(torch.tensor(pred), data_list[idx])\n",
    "    graph_vis(G_list[idx], pred)\n",
    "    plt.title(f\"[pred] idx: {idx}, stress: {metrics['stress']:.2f}({metrics['stress_spc']:.2%}), xing: {metrics['xing']:.2f}({metrics['xing_spc']:.2%})\")\n",
    "    plt.show()\n",
    "    gt_pos = rotate(data_list[idx].gt_pos, data_list[idx])\n",
    "    graph_vis(G_list[idx], gt_pos, node_color='orange')\n",
    "    plt.title(f\"[gt] idx: {idx}, stress: {metrics['gt_stress']:.2f}, xing: {metrics['gt_xing']:.2f}\")\n",
    "    plt.show()\n",
    "    \n",
    "test_metrics = test(model=test_generator, \n",
    "                    criteria_list=[], \n",
    "                    dataset=data_list, \n",
    "                    idx_range=range(10000, 11000), \n",
    "#                     callback=test_callback,\n",
    "                    gt_pos=None)\n",
    "pickle.dump(test_metrics, open(paths.metrics(\"test\"), \"wb\"))"
   ]
  },
  {
   "cell_type": "code",
   "execution_count": 35,
   "metadata": {
    "colab": {
     "base_uri": "https://localhost:8080/",
     "height": 318
    },
    "id": "t2rFXIr_PsrJ",
    "outputId": "6a4205b1-4630-4de4-ec72-bdba3d3ea114"
   },
   "outputs": [
    {
     "name": "stdout",
     "output_type": "stream",
     "text": [
      "stress: tensor(346.3643)\n",
      "stress_spc: tensor(0.1164, dtype=torch.float64)\n",
      "xing: tensor(26.0830)\n",
      "xing_spc: tensor(0.1530, dtype=torch.float64)\n",
      "l1_angle: tensor(79.4884)\n",
      "l1_angle_spc: tensor(0.0539, dtype=torch.float64)\n",
      "edge: tensor(0.1887)\n",
      "edge_spc: tensor(0.2294, dtype=torch.float64)\n",
      "ring: tensor(261.7877)\n",
      "ring_spc: tensor(0.0295, dtype=torch.float64)\n",
      "tsne: tensor(0.2043)\n",
      "tsne_spc: tensor(0.0933, dtype=torch.float64)\n",
      "reso_score: tensor(0.5985)\n",
      "min_angle: tensor(4.3146)\n"
     ]
    },
    {
     "data": {
      "text/html": [
       "<style type=\"text/css\">\n",
       "</style>\n",
       "<table id=\"T_10b9a_\">\n",
       "  <thead>\n",
       "    <tr>\n",
       "      <th class=\"blank level0\" >&nbsp;</th>\n",
       "      <th class=\"col_heading level0 col0\" >stress</th>\n",
       "      <th class=\"col_heading level0 col1\" >stress_spc</th>\n",
       "      <th class=\"col_heading level0 col2\" >xing</th>\n",
       "      <th class=\"col_heading level0 col3\" >xing_spc</th>\n",
       "      <th class=\"col_heading level0 col4\" >l1_angle</th>\n",
       "      <th class=\"col_heading level0 col5\" >l1_angle_spc</th>\n",
       "      <th class=\"col_heading level0 col6\" >edge</th>\n",
       "      <th class=\"col_heading level0 col7\" >edge_spc</th>\n",
       "      <th class=\"col_heading level0 col8\" >ring</th>\n",
       "      <th class=\"col_heading level0 col9\" >ring_spc</th>\n",
       "      <th class=\"col_heading level0 col10\" >tsne</th>\n",
       "      <th class=\"col_heading level0 col11\" >tsne_spc</th>\n",
       "      <th class=\"col_heading level0 col12\" >reso_score</th>\n",
       "      <th class=\"col_heading level0 col13\" >min_angle</th>\n",
       "    </tr>\n",
       "  </thead>\n",
       "  <tbody>\n",
       "    <tr>\n",
       "      <th id=\"T_10b9a_level0_row0\" class=\"row_heading level0 row0\" >0</th>\n",
       "      <td id=\"T_10b9a_row0_col0\" class=\"data row0 col0\" >346.36</td>\n",
       "      <td id=\"T_10b9a_row0_col1\" class=\"data row0 col1\" >11.64%</td>\n",
       "      <td id=\"T_10b9a_row0_col2\" class=\"data row0 col2\" >26.08</td>\n",
       "      <td id=\"T_10b9a_row0_col3\" class=\"data row0 col3\" >15.30%</td>\n",
       "      <td id=\"T_10b9a_row0_col4\" class=\"data row0 col4\" >79.49</td>\n",
       "      <td id=\"T_10b9a_row0_col5\" class=\"data row0 col5\" >5.39%</td>\n",
       "      <td id=\"T_10b9a_row0_col6\" class=\"data row0 col6\" >0.19</td>\n",
       "      <td id=\"T_10b9a_row0_col7\" class=\"data row0 col7\" >22.94%</td>\n",
       "      <td id=\"T_10b9a_row0_col8\" class=\"data row0 col8\" >261.79</td>\n",
       "      <td id=\"T_10b9a_row0_col9\" class=\"data row0 col9\" >2.95%</td>\n",
       "      <td id=\"T_10b9a_row0_col10\" class=\"data row0 col10\" >0.20</td>\n",
       "      <td id=\"T_10b9a_row0_col11\" class=\"data row0 col11\" >9.33%</td>\n",
       "      <td id=\"T_10b9a_row0_col12\" class=\"data row0 col12\" >0.60</td>\n",
       "      <td id=\"T_10b9a_row0_col13\" class=\"data row0 col13\" >4.31</td>\n",
       "    </tr>\n",
       "  </tbody>\n",
       "</table>\n"
      ],
      "text/plain": [
       "<pandas.io.formats.style.Styler at 0x2bab117cf7c0>"
      ]
     },
     "execution_count": 35,
     "metadata": {},
     "output_type": "execute_result"
    }
   ],
   "source": [
    "metrics = test_metrics\n",
    "print('stress:', metrics['stress'].mean())\n",
    "print('stress_spc:', metrics['stress_spc'].mean())\n",
    "print('xing:', metrics['xing'].mean())\n",
    "print('xing_spc:', metrics['xing_spc'].mean())\n",
    "print('l1_angle:', metrics['l1_angle'].mean())\n",
    "print('l1_angle_spc:', metrics['l1_angle_spc'].mean())\n",
    "print('edge:', metrics['edge'].mean())\n",
    "print('edge_spc:', metrics['edge_spc'].mean())\n",
    "print('ring:', metrics['ring'].mean())\n",
    "print('ring_spc:', metrics['ring_spc'].mean())\n",
    "print('tsne:', metrics['tsne'].mean())\n",
    "print('tsne_spc:', metrics['tsne_spc'].mean())\n",
    "print('reso_score:', metrics['resolution_score'].mean())\n",
    "print('min_angle:', metrics['min_angle'].mean())\n",
    "columns = [\n",
    "    'stress',\n",
    "    'stress_spc',\n",
    "    'xing',\n",
    "    'xing_spc',\n",
    "    'l1_angle',\n",
    "    'l1_angle_spc',\n",
    "    'edge',\n",
    "    'edge_spc',\n",
    "    'ring',\n",
    "    'ring_spc',\n",
    "    'tsne',\n",
    "    'tsne_spc',\n",
    "    'reso_score',\n",
    "    'min_angle'\n",
    "]\n",
    "df = pd.DataFrame(map(lambda m: metrics[m].mean().item(), list(metrics.keys())[:-1])).set_axis(columns).T\n",
    "df.style.format({c: \"{:.2f}\" for c in columns if 'spc' not in c} | {c: \"{:.2%}\" for c in columns if 'spc' in c})"
   ]
  },
  {
   "cell_type": "code",
   "execution_count": 36,
   "metadata": {
    "id": "5e7vPr0M3mmG"
   },
   "outputs": [],
   "source": [
    "metrics = {}"
   ]
  },
  {
   "cell_type": "code",
   "execution_count": 37,
   "metadata": {},
   "outputs": [],
   "source": [
    "methods = ['fa2']"
   ]
  },
  {
   "cell_type": "code",
   "execution_count": 38,
   "metadata": {
    "colab": {
     "base_uri": "https://localhost:8080/",
     "height": 433,
     "referenced_widgets": [
      "a0cf6e046add4e639e52db69656e0db9",
      "8e237731bb1241ac858581b25389c012",
      "0891547293ad4211a138a4d92e01bb0b",
      "34912c8e581e47a99a1c4829c38cb75c",
      "5aa034c99c94424e835a2ee954b829ed",
      "248f6393eff74c3eb8740ca6d698045b",
      "686687a29c7f4ec98c4d76ca2062b14b",
      "996a84d1c23b47e4a2af252c6b60f55d",
      "3507f883bb954412b21c1c5641763ed7",
      "9582a849d91e457cadd514c95d6e1b5b",
      "52bfe674c2c547e09b7400a32a96f703",
      "93d58b3a12394fe1aa6f0431fc7cb0db",
      "af1d7855c9d646b0bcc7d95c4cb147a6",
      "f820e2b898cd461da04a4f651d27273d",
      "c0a112cfaa3d4d0aa9530372de84d8fb",
      "fd03985495694fbf9feb3f31ef8d18ce",
      "e02a2b36aa4c4d6fb5d2ac6693c1a927",
      "06f388ff5e3a48828d465096fe69977b",
      "c0052778c9c940e88935593e9f94b83b",
      "99a5e77a192d4a989c4534237eb16730",
      "77c6da092a6647fc9e54f7e276d75616",
      "8c13c0e8b5934117a662a78296bcb1b6",
      "cdcc3bd4235247b48c468c0f6b7682cc",
      "a2c6fa6fef4549cc853fa93b4b18cf95",
      "15cc02a756314083801b5f6798a1948c",
      "24d1c67fe52f452ab0c767e3c1a818aa",
      "c117db25c6fd484a9d0c7f210ccb1ade",
      "b090b60b61084cf692b3066dfac7f0a8",
      "5eab9848059c491b9c6cbac88683f025",
      "e87ffbaa1f204b52b9226337a506b040",
      "cf52198a9e4b46c7b49537a79919c09e",
      "51501227bc064ccbab97c22a679a0750",
      "d1b794a997dc457888a90bf44faee9b4",
      "21a755b50e5047bea797eccf24b35a0c",
      "16e78c3823ec4faf9f9cd9095b218ff5",
      "4ccd332c6b734acd8eff236eaf568dfa",
      "bd60fd13748347e48629df78fa455765",
      "e9187e4ba80b4fafa0334dae2e39aded",
      "4c39ec7c92b4402e8eedcb27beabaab1",
      "59a8194269f943bba571f710ad856973",
      "8e41bc25b9f348b1b85b381547cd60d1",
      "34d0f1529e64437fb25e639b41096072",
      "7e832c7543df43668eb72c0aa6356349",
      "f94162c9c5fe4c2581e3b80beaeb820b",
      "0284946fccf34607b25e1d6d81d4f72a",
      "8e8d4243a3624ba58d760bdf601d5126",
      "b1f0932594fe44f4be4beb8880172871",
      "820bb554d139437b8f6a6997f9002261",
      "459e375d1fe4497cb4197ef88e303c6d",
      "5726814966da46bbba942a114de4b319",
      "448beea5445f4642809801da46aa7e7c",
      "3746c0f0daf04f51805b4c95db20063a",
      "2ff74d1c705348438a32da37910c3300",
      "52f03147b5ab4cb390f9802b7a17a508",
      "5428511d652a47348203e8f3cd2e076d",
      "7b58569bee2e44c5a61a81f9a32c4c01",
      "c5e05d74b9404333a8155304e3497ba2",
      "3ad4e058bde44d87abab780368d49118",
      "8e437049b5c74ff1beddad93e30b19aa",
      "0c61377f4cc34b27ae34bdd6d976d868",
      "9ce35f9a9a23436ea77604513b5c4659",
      "dafbc43ad79c4feda093aefe490fc4b3",
      "497160b6bf80469a89680a03a468c8bb",
      "3265725ecb914981b6f07f68b8a582df",
      "1f0ac20d99d04ffb9ee75613526d3de6",
      "dee0e5716560483b8e2b107566439d94",
      "ca99841a1abd4fbd94927c49aaa711cb",
      "163a44ff1be04583ae7bd62726c55204",
      "f3b727045a0b4b4fabd147ec9c843e14",
      "7c4b4fe859cf48ab99b7e2780a24a539",
      "d9700cffab66480cb81e3722faab4e8b",
      "2c49acc1e0a64aa4b8ec461b0596848e",
      "691817157f43412f9c36002167606b75",
      "d0ae688d71734b56bb348de54e841798",
      "07a364ebcdaa491dbcc2304e4a8dae96",
      "538b277307b1449eaa79a2a91b4741d3",
      "f7b7dd4cbaa5468687b988c5e416a154",
      "877be862a4f045ec8b221097626becb5",
      "1bf37012df0844338ac689d4f6cc8eab",
      "33fe06641be544d3aab2c25cb979416f",
      "68de0d9261fa4e6999967b6f196d149c",
      "7017c5ba1ffc467495aca2689e516f7d",
      "e0997460cc21428695a0c278c6691baf",
      "522443bef4904996b6361ea265c4c56f",
      "dfe044b67917466f971ba84a11956d5e",
      "70b2d0ba1c1d4102841fb963480de1c7",
      "7b158daacd754a40bc0a48fc9ea6fea2",
      "8904f61ff30741e488eacf0e49440f66",
      "685dee6f1e1f4c2983d2d0b8eb90ed00",
      "005155a4d62d48cbbaf3d69614b08d81",
      "d2779dfa620041e4b32a7731926a5982",
      "53048bf27cb24080b4cdf20379302223",
      "0b5bff7794a14a20964da70b87158c2c",
      "ec664e55ea16435590393ae1617cccea",
      "f10d62ef464a45a7935610d869c282e3",
      "5e7c09bc35db4a3a8b9847c6d8478883",
      "987ea331b617446facc81b08bab1f8c4",
      "446c5a687b0d43358ab036d43ce281c3",
      "d89e216f62ae4a9999da1a91dd5e48b9",
      "09d03e7e66f54cafacefbfeda5fd6e5c",
      "d58c680562a44bbd9252e7ec6eebc06c",
      "71ea2594fdd942acac1cc61055438544",
      "fecda4df301b437f9fbfb61a7b593dc0",
      "bcf6741d926248cb92acf627d6557d2b",
      "5bd9868b9bda4f68b500a43916e2d148",
      "4bc5e02035de44ad827c4f881fd75afc",
      "7d80033a955e4feb947ca9cea931d90b",
      "e975c796d80d498992a50f87a2b0105c",
      "028b2ff105904a19a9a3e8ebf66967bb",
      "10dbf2cbdb1943eda6a0acaf5da3fe85",
      "14d59c7acc5e4e07a289db44406a4851",
      "d9447df93d714907bc9c768eb4910352",
      "d4a9ace081bf488680a7e43e0eaed71d",
      "022a60cde19546bfa6ecfb4947615ad9",
      "10c01207d9ba4fe197dc80717fceecc0",
      "f4995936570d4ba1a65e9a66e410b505",
      "b4bf66303e61491385cd616076a11c04",
      "a24ab2bfe7a44263bf60936d6e53ec32",
      "59e2e8ecc9f84d57af7bf44f5bba5df7",
      "be2eb92aab8045a99fd19195c3546b60",
      "e6715db2b048434796e910952cb5eb62",
      "8de2335007ba4a6b9935fa0c514c9f6a",
      "493a4bbe8057437a8c8acf4d03f8dcb0",
      "20b03955acc74e238695717124705520",
      "a89f9507496b4cf8bdd63bdb9bff79c4",
      "9752a1f6c8b6488d9628b8e0c023f10f",
      "61a0bebc687341a7bb3352febc8d4986",
      "07e0ff9c82a444788c60edee70688ca7",
      "4427901f35e54cc48e08527bb402c22a",
      "bd9dafb825954091ba975d71ab8c89ea",
      "7ec0f07bfe51484da38c18dc66d77804",
      "03943afebc4d4b668b54c7a0fd014a37",
      "a7a6b38a76424d738146b6a5786cf2c8",
      "1d1aa4729784470584c0001c1a296008",
      "e0c68ac9b5b442eeb77e6d9ea3c1da42",
      "c858ef9fd9324ab0ab885d85e3c8582f",
      "627bc2899c994a0c96c5d43e89dc77ff",
      "0e2c2f21fa8041038151170992ecb848",
      "2d9bcbf7629a4671bf8755e790276eb7",
      "77a4edf6ab1848a6a6df20c1c07358c6",
      "acf2212d6bb44c729b63281a98377095",
      "0c7a72818da3454190bab7f30a29e249",
      "d865af915b8b4aaa8cec8d40f1f8351d"
     ]
    },
    "id": "s1UnzfID4Ai6",
    "outputId": "3e204e76-68fd-4111-f527-91f6e3b7a3ca"
   },
   "outputs": [
    {
     "data": {
      "application/vnd.jupyter.widget-view+json": {
       "model_id": "a61ce4c317f044f2bf20b41179efd1d9",
       "version_major": 2,
       "version_minor": 0
      },
      "text/plain": [
       "  0%|          | 0/1000 [00:00<?, ?it/s]"
      ]
     },
     "metadata": {},
     "output_type": "display_data"
    }
   ],
   "source": [
    "for m in methods:\n",
    "    metrics[m] = test(model=test_generator, \n",
    "                      criteria_list=[], \n",
    "                      dataset=data_list, \n",
    "                      idx_range=range(10000, 11000), \n",
    "                      callback=None,\n",
    "                      gt_pos=load_pos(m))"
   ]
  },
  {
   "cell_type": "code",
   "execution_count": 39,
   "metadata": {
    "id": "dQ7hdCtk5u6K"
   },
   "outputs": [],
   "source": [
    "mean_metrics = {key : list(map(lambda m: metrics[key][m].mean().item(), list(metrics[key].keys())[:-1])) for key in metrics}"
   ]
  },
  {
   "cell_type": "code",
   "execution_count": 40,
   "metadata": {
    "colab": {
     "base_uri": "https://localhost:8080/",
     "height": 313
    },
    "id": "OGyaCmLXTuvA",
    "outputId": "6c42d9f3-9869-4504-bc9c-d0eedaecfd90"
   },
   "outputs": [
    {
     "data": {
      "text/html": [
       "<style type=\"text/css\">\n",
       "</style>\n",
       "<table id=\"T_4517e_\">\n",
       "  <thead>\n",
       "    <tr>\n",
       "      <th class=\"blank level0\" >&nbsp;</th>\n",
       "      <th class=\"col_heading level0 col0\" >stress</th>\n",
       "      <th class=\"col_heading level0 col1\" >stress_spc</th>\n",
       "      <th class=\"col_heading level0 col2\" >xing</th>\n",
       "      <th class=\"col_heading level0 col3\" >xing_spc</th>\n",
       "      <th class=\"col_heading level0 col4\" >l1_angle</th>\n",
       "      <th class=\"col_heading level0 col5\" >l1_angle_spc</th>\n",
       "      <th class=\"col_heading level0 col6\" >edge</th>\n",
       "      <th class=\"col_heading level0 col7\" >edge_spc</th>\n",
       "      <th class=\"col_heading level0 col8\" >ring</th>\n",
       "      <th class=\"col_heading level0 col9\" >ring_spc</th>\n",
       "      <th class=\"col_heading level0 col10\" >tsne</th>\n",
       "      <th class=\"col_heading level0 col11\" >tsne_spc</th>\n",
       "      <th class=\"col_heading level0 col12\" >reso_score</th>\n",
       "      <th class=\"col_heading level0 col13\" >min_angle</th>\n",
       "    </tr>\n",
       "  </thead>\n",
       "  <tbody>\n",
       "    <tr>\n",
       "      <th id=\"T_4517e_level0_row0\" class=\"row_heading level0 row0\" >fa2</th>\n",
       "      <td id=\"T_4517e_row0_col0\" class=\"data row0 col0\" >346.37</td>\n",
       "      <td id=\"T_4517e_row0_col1\" class=\"data row0 col1\" >-1.22%</td>\n",
       "      <td id=\"T_4517e_row0_col2\" class=\"data row0 col2\" >26.07</td>\n",
       "      <td id=\"T_4517e_row0_col3\" class=\"data row0 col3\" >3.24%</td>\n",
       "      <td id=\"T_4517e_row0_col4\" class=\"data row0 col4\" >79.48</td>\n",
       "      <td id=\"T_4517e_row0_col5\" class=\"data row0 col5\" >8.39%</td>\n",
       "      <td id=\"T_4517e_row0_col6\" class=\"data row0 col6\" >0.19</td>\n",
       "      <td id=\"T_4517e_row0_col7\" class=\"data row0 col7\" >-0.70%</td>\n",
       "      <td id=\"T_4517e_row0_col8\" class=\"data row0 col8\" >261.79</td>\n",
       "      <td id=\"T_4517e_row0_col9\" class=\"data row0 col9\" >1.48%</td>\n",
       "      <td id=\"T_4517e_row0_col10\" class=\"data row0 col10\" >0.20</td>\n",
       "      <td id=\"T_4517e_row0_col11\" class=\"data row0 col11\" >6.31%</td>\n",
       "      <td id=\"T_4517e_row0_col12\" class=\"data row0 col12\" >0.60</td>\n",
       "      <td id=\"T_4517e_row0_col13\" class=\"data row0 col13\" >4.23</td>\n",
       "    </tr>\n",
       "  </tbody>\n",
       "</table>\n"
      ],
      "text/plain": [
       "<pandas.io.formats.style.Styler at 0x2bab11a9c430>"
      ]
     },
     "execution_count": 40,
     "metadata": {},
     "output_type": "execute_result"
    }
   ],
   "source": [
    "columns = [\n",
    "    'stress',\n",
    "    'stress_spc',\n",
    "    'xing',\n",
    "    'xing_spc',\n",
    "    'l1_angle',\n",
    "    'l1_angle_spc',\n",
    "    'edge',\n",
    "    'edge_spc',\n",
    "    'ring',\n",
    "    'ring_spc',\n",
    "    'tsne',\n",
    "    'tsne_spc',\n",
    "    'reso_score',\n",
    "    'min_angle'\n",
    "]\n",
    "df = pd.DataFrame(mean_metrics).set_axis(columns).T\n",
    "df.style.format({c: \"{:.2f}\" for c in columns if 'spc' not in c} | {c: \"{:.2%}\" for c in columns if 'spc' in c})"
   ]
  },
  {
   "cell_type": "markdown",
   "metadata": {
    "id": "L5S1HWnHOWIl"
   },
   "source": [
    "# Large Graph"
   ]
  },
  {
   "cell_type": "code",
   "execution_count": null,
   "metadata": {
    "id": "_pefPcV1OZdD"
   },
   "outputs": [],
   "source": [
    "scalability = pd.read_csv(f\"/__artifacts__/data/scalability.csv\", index_col=\"index\")\n",
    "scalability"
   ]
  },
  {
   "cell_type": "code",
   "execution_count": null,
   "metadata": {
    "id": "oMhWAsdvPnTX"
   },
   "outputs": [],
   "source": [
    "rescale = CanonicalizationByStress()\n",
    "stressfn = Stress()\n",
    "rotate = RotateByPrincipalComponents()"
   ]
  },
  {
   "cell_type": "code",
   "execution_count": null,
   "metadata": {
    "id": "LR83OcAaPID5"
   },
   "outputs": [],
   "source": [
    "stress_list = []\n",
    "spc_list = []\n",
    "pmds_list = np.load(\"layouts/new_large_graph/pmds.npy\", allow_pickle=True)\n",
    "gviz_list = np.load(\"layouts/new_large_graph/gviz.npy\", allow_pickle=True)\n",
    "with torch.no_grad():\n",
    "    for idx, col in tqdm(scalability.iterrows(), total=len(scalability)):\n",
    "        # if idx not in [406, 516]: continue\n",
    "        torch.cuda.empty_cache()\n",
    "        G = load_mtx(col['file'])\n",
    "        G.remove_edges_from(nx.selfloop_edges(G))\n",
    "        data = generate_data_list(G, \n",
    "                                sparse=data_config.sparse, \n",
    "                                pivot_mode=data_config.pivot,\n",
    "                                init_mode=data_config.init,\n",
    "                                edge_index=data_config.edge.index,\n",
    "                                edge_attr=data_config.edge.attr,\n",
    "                                pmds_list=pmds_list[idx],\n",
    "                                gviz_list=gviz_list[idx],\n",
    "                                device=device)\n",
    "        batch = Batch.from_data_list([data]).to(device)\n",
    "        # generator.train()\n",
    "        # generator(batch)\n",
    "        generator.eval()\n",
    "        pred = generator(batch)\n",
    "        pos = rotate(rescale(pred, batch), batch)\n",
    "        gt = rotate(rescale(batch.gt_pos, batch), batch)\n",
    "        stress = stressfn(pos, batch).item()\n",
    "        gt_stress = stressfn(gt, batch).item()\n",
    "        spc = (stress - gt_stress) / np.maximum(stress, gt_stress)\n",
    "        stress_list.append(stress)\n",
    "        spc_list.append(spc)\n",
    "\n",
    "        np.save(f\"/__artifacts__/gan_result/data/scalability_{idx}.npy\", pos.cpu().numpy())\n",
    "        graph_attr = dict(node_size=1, \n",
    "                        with_labels=False, \n",
    "                        labels=dict(zip(list(G.nodes), map(lambda n: n if type(n) is int else n[1:], list(G.nodes)))),\n",
    "                        font_color=\"white\", \n",
    "                        font_weight=\"bold\",\n",
    "                        font_size=12,\n",
    "                        width=0.1)\n",
    "\n",
    "        # gt_pos = pickle.load(open(f\"/__artifacts__/data/scalability_{idx}_gt.pkl\", \"rb\"))\n",
    "\n",
    "        plt.figure(figsize=[12, 9])\n",
    "        nx.draw(G, pos=gt.cpu().numpy(), node_color='orange', **graph_attr)\n",
    "        plt.title(f\"neato: large_{idx}\")\n",
    "        plt.axis(\"equal\")\n",
    "        plt.savefig(f\"/__artifacts__/gan_result/output/{idx}_{col['name']}_{col['n']}_{spc}_nx.png\", dpi=300)\n",
    "        plt.show()\n",
    "\n",
    "        plt.figure(figsize=[12, 9])\n",
    "        graph_vis(G, pos.cpu().numpy(), **graph_attr)\n",
    "        plt.title(f\"dgd: large_{idx}, spc={spc:.2%}\")\n",
    "        plt.axis(\"equal\")\n",
    "        plt.savefig(f\"/__artifacts__/gan_result/output/{idx}_{col['name']}_{col['n']}_{spc}_dgd.png\", dpi=300)\n",
    "        plt.show()"
   ]
  },
  {
   "cell_type": "code",
   "execution_count": null,
   "metadata": {
    "id": "gRXTewkYeuq1"
   },
   "outputs": [],
   "source": []
  }
 ],
 "metadata": {
  "accelerator": "GPU",
  "colab": {
   "collapsed_sections": [
    "w_p3OD0woiSM",
    "DR6-vYtr_i_P",
    "innqkwvH_ydD",
    "f-ODE2k8BFV6",
    "N39dDHraedM6"
   ],
   "machine_shape": "hm",
   "name": "GAN(gan=rgan,data=best(xing,stress),dis=deep,share=16,embed=0,gp=0).ipynb",
   "provenance": []
  },
  "kernelspec": {
   "display_name": "DeepGD",
   "language": "python",
   "name": "deepgd"
  },
  "language_info": {
   "codemirror_mode": {
    "name": "ipython",
    "version": 3
   },
   "file_extension": ".py",
   "mimetype": "text/x-python",
   "name": "python",
   "nbconvert_exporter": "python",
   "pygments_lexer": "ipython3",
   "version": "3.9.7"
  },
  "widgets": {
   "application/vnd.jupyter.widget-state+json": {
    "state": {
     "025c9932c8fc4d28b9b52d9e8fe0fd0e": {
      "model_module": "@jupyter-widgets/controls",
      "model_module_version": "1.5.0",
      "model_name": "HTMLModel",
      "state": {
       "layout": "IPY_MODEL_33f6411ec5ac499e9297c93c5eafeeaa",
       "style": "IPY_MODEL_9b2c973b86d74bea980bd79233cae180",
       "value": "[epoch 924/None]:  40%"
      }
     },
     "03fb9576d12346f5b71a68eeaf375be6": {
      "model_module": "@jupyter-widgets/controls",
      "model_module_version": "1.5.0",
      "model_name": "DescriptionStyleModel",
      "state": {
       "description_width": ""
      }
     },
     "05491f1c44e44440abf4bb5a06a1ad44": {
      "model_module": "@jupyter-widgets/controls",
      "model_module_version": "1.5.0",
      "model_name": "HBoxModel",
      "state": {
       "children": [
        "IPY_MODEL_cb62a35c3f4c4b0eb2f6e7f2c2d31cab",
        "IPY_MODEL_f852292a81134e6ca601ed4a07a245b0",
        "IPY_MODEL_c00a76773ae24da9b921df82eef8cb27"
       ],
       "layout": "IPY_MODEL_c3f42172fb994d1fb73e2a79356ce542"
      }
     },
     "0632836655db44a1a606aac3e0d097da": {
      "model_module": "@jupyter-widgets/base",
      "model_module_version": "1.2.0",
      "model_name": "LayoutModel",
      "state": {}
     },
     "0664e7f59dca4a14aa65910e1e0103bd": {
      "model_module": "@jupyter-widgets/base",
      "model_module_version": "1.2.0",
      "model_name": "LayoutModel",
      "state": {}
     },
     "14b6eb2cdd77498e8186f3a2f66e1699": {
      "model_module": "@jupyter-widgets/controls",
      "model_module_version": "1.5.0",
      "model_name": "FloatProgressModel",
      "state": {
       "bar_style": "success",
       "layout": "IPY_MODEL_ded016166c864404809dd673b652f572",
       "max": 1000,
       "style": "IPY_MODEL_ca99148dc0644ce180c40755afec9894",
       "value": 1000
      }
     },
     "1c349dbec16e4c08b1e6cb44aec14942": {
      "model_module": "@jupyter-widgets/controls",
      "model_module_version": "1.5.0",
      "model_name": "HBoxModel",
      "state": {
       "children": [
        "IPY_MODEL_a0067df51ade48edaca09b9c093f4b69"
       ],
       "layout": "IPY_MODEL_6fe94eecaf054be5a8fb10daf3bc2cec"
      }
     },
     "28b1cf40ccb4437da5211d16d2faad50": {
      "model_module": "@jupyter-widgets/controls",
      "model_module_version": "1.5.0",
      "model_name": "HTMLModel",
      "state": {
       "layout": "IPY_MODEL_d7f90e86deab4fa6932f2e150d55df9b",
       "style": "IPY_MODEL_6ef2cbcc471f495a82c04b43242fb4a5",
       "value": " 1000/1000 [00:52&lt;00:00, 22.04it/s]"
      }
     },
     "2fdf3054600d41e58ad0e43af05ab19c": {
      "model_module": "@jupyter-widgets/controls",
      "model_module_version": "1.5.0",
      "model_name": "FloatProgressModel",
      "state": {
       "layout": "IPY_MODEL_3a256a8a9bf94b03a29533108345a39e",
       "max": 834,
       "style": "IPY_MODEL_c202c4fc5ded4c12aa938159b7dae0fa",
       "value": 336
      }
     },
     "3295950743f0402f99566dad37519aca": {
      "model_module": "@jupyter-widgets/base",
      "model_module_version": "1.2.0",
      "model_name": "LayoutModel",
      "state": {}
     },
     "33f6411ec5ac499e9297c93c5eafeeaa": {
      "model_module": "@jupyter-widgets/base",
      "model_module_version": "1.2.0",
      "model_name": "LayoutModel",
      "state": {}
     },
     "3475c2b3504b422b93cfa2494c5d292c": {
      "model_module": "@jupyter-widgets/base",
      "model_module_version": "1.2.0",
      "model_name": "LayoutModel",
      "state": {}
     },
     "3a256a8a9bf94b03a29533108345a39e": {
      "model_module": "@jupyter-widgets/base",
      "model_module_version": "1.2.0",
      "model_name": "LayoutModel",
      "state": {}
     },
     "516aa4f1c2274c8295af9548713faa70": {
      "model_module": "@jupyter-widgets/controls",
      "model_module_version": "1.5.0",
      "model_name": "HBoxModel",
      "state": {
       "children": [
        "IPY_MODEL_025c9932c8fc4d28b9b52d9e8fe0fd0e",
        "IPY_MODEL_2fdf3054600d41e58ad0e43af05ab19c",
        "IPY_MODEL_ba1defa81669421da3b2975289deeca2"
       ],
       "layout": "IPY_MODEL_d594be1f9d294eab94e92c608ecc66bd"
      }
     },
     "51facd744dec40c6bc521e03284f63ba": {
      "model_module": "@jupyter-widgets/controls",
      "model_module_version": "1.5.0",
      "model_name": "ProgressStyleModel",
      "state": {
       "description_width": ""
      }
     },
     "56d7166c1db244799e0f67471f498753": {
      "model_module": "@jupyter-widgets/controls",
      "model_module_version": "1.5.0",
      "model_name": "HBoxModel",
      "state": {
       "children": [
        "IPY_MODEL_a7305054dcbe4288aa4714562606aa94",
        "IPY_MODEL_14b6eb2cdd77498e8186f3a2f66e1699",
        "IPY_MODEL_e13e8e290d27453c8392e04813db0e14"
       ],
       "layout": "IPY_MODEL_741c66f1d51a49b1aff0de973c5b9ff4"
      }
     },
     "597b563b46e84738a7aaf776fb0107d3": {
      "model_module": "@jupyter-widgets/base",
      "model_module_version": "1.2.0",
      "model_name": "LayoutModel",
      "state": {}
     },
     "610a3c68f44741ad9ca3b07e7e4313c8": {
      "model_module": "@jupyter-widgets/output",
      "model_module_version": "1.0.0",
      "model_name": "OutputModel",
      "state": {
       "layout": "IPY_MODEL_ead1b001f1694f109179c67efd343b4b",
       "outputs": [
        {
         "data": {
          "application/vnd.jupyter.widget-view+json": {
           "model_id": "516aa4f1c2274c8295af9548713faa70",
           "version_major": 2,
           "version_minor": 0
          },
          "text/plain": "  0%|          | 0/834 [00:00<?, ?it/s]"
         },
         "metadata": {},
         "output_type": "display_data"
        }
       ]
      }
     },
     "6ef2cbcc471f495a82c04b43242fb4a5": {
      "model_module": "@jupyter-widgets/controls",
      "model_module_version": "1.5.0",
      "model_name": "DescriptionStyleModel",
      "state": {
       "description_width": ""
      }
     },
     "6fe94eecaf054be5a8fb10daf3bc2cec": {
      "model_module": "@jupyter-widgets/base",
      "model_module_version": "1.2.0",
      "model_name": "LayoutModel",
      "state": {
       "height": "500px",
       "overflow_y": "auto"
      }
     },
     "741c66f1d51a49b1aff0de973c5b9ff4": {
      "model_module": "@jupyter-widgets/base",
      "model_module_version": "1.2.0",
      "model_name": "LayoutModel",
      "state": {}
     },
     "7ecbef25d00f4cdb9d3c47129aa586e7": {
      "model_module": "@jupyter-widgets/base",
      "model_module_version": "1.2.0",
      "model_name": "LayoutModel",
      "state": {
       "height": "500px",
       "overflow_y": "auto"
      }
     },
     "83ad2e02a7e74fe8ade65448f7f9c1e4": {
      "model_module": "@jupyter-widgets/base",
      "model_module_version": "1.2.0",
      "model_name": "LayoutModel",
      "state": {}
     },
     "849b5b280480425f9dd64d106c36b700": {
      "model_module": "@jupyter-widgets/base",
      "model_module_version": "1.2.0",
      "model_name": "LayoutModel",
      "state": {}
     },
     "863dcc031f3a439e9232149406e35cbc": {
      "model_module": "@jupyter-widgets/base",
      "model_module_version": "1.2.0",
      "model_name": "LayoutModel",
      "state": {}
     },
     "868d46b393564c478d3c140ba7649971": {
      "model_module": "@jupyter-widgets/output",
      "model_module_version": "1.0.0",
      "model_name": "OutputModel",
      "state": {
       "layout": "IPY_MODEL_3475c2b3504b422b93cfa2494c5d292c",
       "outputs": [
        {
         "data": {
          "text/html": "<div>\n<style scoped>\n    .dataframe tbody tr th:only-of-type {\n        vertical-align: middle;\n    }\n\n    .dataframe tbody tr th {\n        vertical-align: top;\n    }\n\n    .dataframe thead th {\n        text-align: right;\n    }\n</style>\n<table border=\"1\" class=\"dataframe\">\n  <thead>\n    <tr style=\"text-align: right;\">\n      <th></th>\n      <th>val_stress</th>\n      <th>val_stress_spc</th>\n      <th>val_xing</th>\n      <th>val_xing_spc</th>\n      <th>dis_loss</th>\n    </tr>\n  </thead>\n  <tbody>\n    <tr>\n      <th>epoch 924</th>\n      <td>380.40</td>\n      <td>11.83%</td>\n      <td>30.05</td>\n      <td>16.25%</td>\n      <td>2.58e-04</td>\n    </tr>\n  </tbody>\n</table>\n</div>",
          "text/plain": "          val_stress val_stress_spc val_xing val_xing_spc  dis_loss\nepoch 924     380.40         11.83%    30.05       16.25%  2.58e-04"
         },
         "metadata": {},
         "output_type": "display_data"
        }
       ]
      }
     },
     "91970350f1f1467c98cc607c7212e9d0": {
      "model_module": "@jupyter-widgets/controls",
      "model_module_version": "1.5.0",
      "model_name": "DescriptionStyleModel",
      "state": {
       "description_width": ""
      }
     },
     "9b2c973b86d74bea980bd79233cae180": {
      "model_module": "@jupyter-widgets/controls",
      "model_module_version": "1.5.0",
      "model_name": "DescriptionStyleModel",
      "state": {
       "description_width": ""
      }
     },
     "a0067df51ade48edaca09b9c093f4b69": {
      "model_module": "@jupyter-widgets/output",
      "model_module_version": "1.0.0",
      "model_name": "OutputModel",
      "state": {
       "layout": "IPY_MODEL_b6e9bc33a8ec4d93b68b54006dee1f6a",
       "outputs": [
        {
         "name": "stdout",
         "output_type": "stream",
         "text": "[924] stress=380.40(11.83%) xing=30.05(16.25%)\n"
        }
       ]
      }
     },
     "a3cb93e6a35b442f8281d7f7b9cbf85e": {
      "model_module": "@jupyter-widgets/base",
      "model_module_version": "1.2.0",
      "model_name": "LayoutModel",
      "state": {}
     },
     "a61ce4c317f044f2bf20b41179efd1d9": {
      "model_module": "@jupyter-widgets/controls",
      "model_module_version": "1.5.0",
      "model_name": "HBoxModel",
      "state": {
       "children": [
        "IPY_MODEL_fbaa014243f8404d97800cda39f6b872",
        "IPY_MODEL_e86f6d7d365c4f75947316b0c1bae0cc",
        "IPY_MODEL_28b1cf40ccb4437da5211d16d2faad50"
       ],
       "layout": "IPY_MODEL_3295950743f0402f99566dad37519aca"
      }
     },
     "a7305054dcbe4288aa4714562606aa94": {
      "model_module": "@jupyter-widgets/controls",
      "model_module_version": "1.5.0",
      "model_name": "HTMLModel",
      "state": {
       "layout": "IPY_MODEL_a8da648d18ec4915bfef76225219c589",
       "style": "IPY_MODEL_bcdd2275444d4452928f84744523fd34",
       "value": "100%"
      }
     },
     "a7576bb6f9644717b9247cf22440db5a": {
      "model_module": "@jupyter-widgets/base",
      "model_module_version": "1.2.0",
      "model_name": "LayoutModel",
      "state": {}
     },
     "a8da648d18ec4915bfef76225219c589": {
      "model_module": "@jupyter-widgets/base",
      "model_module_version": "1.2.0",
      "model_name": "LayoutModel",
      "state": {}
     },
     "ac4f9c862caa4864a2e7c5446528093b": {
      "model_module": "@jupyter-widgets/controls",
      "model_module_version": "1.5.0",
      "model_name": "DescriptionStyleModel",
      "state": {
       "description_width": ""
      }
     },
     "b6e9bc33a8ec4d93b68b54006dee1f6a": {
      "model_module": "@jupyter-widgets/base",
      "model_module_version": "1.2.0",
      "model_name": "LayoutModel",
      "state": {}
     },
     "ba1defa81669421da3b2975289deeca2": {
      "model_module": "@jupyter-widgets/controls",
      "model_module_version": "1.5.0",
      "model_name": "HTMLModel",
      "state": {
       "layout": "IPY_MODEL_e3bdab353e654392bd26affa36c6aa83",
       "style": "IPY_MODEL_03fb9576d12346f5b71a68eeaf375be6",
       "value": " 336/834 [01:01&lt;01:30,  5.48it/s]"
      }
     },
     "ba524a4271644675a309a035152e0654": {
      "model_module": "@jupyter-widgets/output",
      "model_module_version": "1.0.0",
      "model_name": "OutputModel",
      "state": {
       "layout": "IPY_MODEL_0664e7f59dca4a14aa65910e1e0103bd",
       "outputs": [
        {
         "data": {
          "image/png": "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\n",
          "text/plain": "<Figure size 432x288 with 1 Axes>"
         },
         "metadata": {},
         "output_type": "display_data"
        }
       ]
      }
     },
     "bcdd2275444d4452928f84744523fd34": {
      "model_module": "@jupyter-widgets/controls",
      "model_module_version": "1.5.0",
      "model_name": "DescriptionStyleModel",
      "state": {
       "description_width": ""
      }
     },
     "c00a76773ae24da9b921df82eef8cb27": {
      "model_module": "@jupyter-widgets/controls",
      "model_module_version": "1.5.0",
      "model_name": "HTMLModel",
      "state": {
       "layout": "IPY_MODEL_597b563b46e84738a7aaf776fb0107d3",
       "style": "IPY_MODEL_ac4f9c862caa4864a2e7c5446528093b",
       "value": " 11531/11531 [00:00&lt;00:00, 78099.46it/s]"
      }
     },
     "c202c4fc5ded4c12aa938159b7dae0fa": {
      "model_module": "@jupyter-widgets/controls",
      "model_module_version": "1.5.0",
      "model_name": "ProgressStyleModel",
      "state": {
       "description_width": ""
      }
     },
     "c3f42172fb994d1fb73e2a79356ce542": {
      "model_module": "@jupyter-widgets/base",
      "model_module_version": "1.2.0",
      "model_name": "LayoutModel",
      "state": {}
     },
     "ca99148dc0644ce180c40755afec9894": {
      "model_module": "@jupyter-widgets/controls",
      "model_module_version": "1.5.0",
      "model_name": "ProgressStyleModel",
      "state": {
       "description_width": ""
      }
     },
     "cb62a35c3f4c4b0eb2f6e7f2c2d31cab": {
      "model_module": "@jupyter-widgets/controls",
      "model_module_version": "1.5.0",
      "model_name": "HTMLModel",
      "state": {
       "layout": "IPY_MODEL_0632836655db44a1a606aac3e0d097da",
       "style": "IPY_MODEL_cdcb4beb545a4e288cf72e40c0dbf840",
       "value": "100%"
      }
     },
     "cdcb4beb545a4e288cf72e40c0dbf840": {
      "model_module": "@jupyter-widgets/controls",
      "model_module_version": "1.5.0",
      "model_name": "DescriptionStyleModel",
      "state": {
       "description_width": ""
      }
     },
     "ce5ed7d44e7c40678b6c4bf883c9e3e7": {
      "model_module": "@jupyter-widgets/controls",
      "model_module_version": "1.5.0",
      "model_name": "TabModel",
      "state": {
       "_titles": {
        "0": "status",
        "1": "plot",
        "2": "log"
       },
       "children": [
        "IPY_MODEL_f78d5e40575e49d4989472a2528a8d60",
        "IPY_MODEL_ce8a7090e91c4779af94eba18361e383",
        "IPY_MODEL_1c349dbec16e4c08b1e6cb44aec14942"
       ],
       "layout": "IPY_MODEL_83ad2e02a7e74fe8ade65448f7f9c1e4"
      }
     },
     "ce8a7090e91c4779af94eba18361e383": {
      "model_module": "@jupyter-widgets/controls",
      "model_module_version": "1.5.0",
      "model_name": "HBoxModel",
      "state": {
       "children": [
        "IPY_MODEL_ba524a4271644675a309a035152e0654"
       ],
       "layout": "IPY_MODEL_7ecbef25d00f4cdb9d3c47129aa586e7"
      }
     },
     "d594be1f9d294eab94e92c608ecc66bd": {
      "model_module": "@jupyter-widgets/base",
      "model_module_version": "1.2.0",
      "model_name": "LayoutModel",
      "state": {}
     },
     "d7f90e86deab4fa6932f2e150d55df9b": {
      "model_module": "@jupyter-widgets/base",
      "model_module_version": "1.2.0",
      "model_name": "LayoutModel",
      "state": {}
     },
     "ded016166c864404809dd673b652f572": {
      "model_module": "@jupyter-widgets/base",
      "model_module_version": "1.2.0",
      "model_name": "LayoutModel",
      "state": {}
     },
     "e13e8e290d27453c8392e04813db0e14": {
      "model_module": "@jupyter-widgets/controls",
      "model_module_version": "1.5.0",
      "model_name": "HTMLModel",
      "state": {
       "layout": "IPY_MODEL_849b5b280480425f9dd64d106c36b700",
       "style": "IPY_MODEL_91970350f1f1467c98cc607c7212e9d0",
       "value": " 1000/1000 [00:54&lt;00:00, 16.84it/s]"
      }
     },
     "e2499a7154534fc39de6617cdb1c7f3c": {
      "model_module": "@jupyter-widgets/base",
      "model_module_version": "1.2.0",
      "model_name": "LayoutModel",
      "state": {}
     },
     "e3bdab353e654392bd26affa36c6aa83": {
      "model_module": "@jupyter-widgets/base",
      "model_module_version": "1.2.0",
      "model_name": "LayoutModel",
      "state": {}
     },
     "e86f6d7d365c4f75947316b0c1bae0cc": {
      "model_module": "@jupyter-widgets/controls",
      "model_module_version": "1.5.0",
      "model_name": "FloatProgressModel",
      "state": {
       "bar_style": "success",
       "layout": "IPY_MODEL_a7576bb6f9644717b9247cf22440db5a",
       "max": 1000,
       "style": "IPY_MODEL_ecd3efe22e4c4e67aec594557024e82b",
       "value": 1000
      }
     },
     "ead1b001f1694f109179c67efd343b4b": {
      "model_module": "@jupyter-widgets/base",
      "model_module_version": "1.2.0",
      "model_name": "LayoutModel",
      "state": {}
     },
     "eb837fb7559740ba950557f2155590d7": {
      "model_module": "@jupyter-widgets/controls",
      "model_module_version": "1.5.0",
      "model_name": "DescriptionStyleModel",
      "state": {
       "description_width": ""
      }
     },
     "ecd3efe22e4c4e67aec594557024e82b": {
      "model_module": "@jupyter-widgets/controls",
      "model_module_version": "1.5.0",
      "model_name": "ProgressStyleModel",
      "state": {
       "description_width": ""
      }
     },
     "f78d5e40575e49d4989472a2528a8d60": {
      "model_module": "@jupyter-widgets/controls",
      "model_module_version": "1.5.0",
      "model_name": "VBoxModel",
      "state": {
       "children": [
        "IPY_MODEL_610a3c68f44741ad9ca3b07e7e4313c8",
        "IPY_MODEL_868d46b393564c478d3c140ba7649971"
       ],
       "layout": "IPY_MODEL_e2499a7154534fc39de6617cdb1c7f3c"
      }
     },
     "f852292a81134e6ca601ed4a07a245b0": {
      "model_module": "@jupyter-widgets/controls",
      "model_module_version": "1.5.0",
      "model_name": "FloatProgressModel",
      "state": {
       "bar_style": "success",
       "layout": "IPY_MODEL_a3cb93e6a35b442f8281d7f7b9cbf85e",
       "max": 11531,
       "style": "IPY_MODEL_51facd744dec40c6bc521e03284f63ba",
       "value": 11531
      }
     },
     "fbaa014243f8404d97800cda39f6b872": {
      "model_module": "@jupyter-widgets/controls",
      "model_module_version": "1.5.0",
      "model_name": "HTMLModel",
      "state": {
       "layout": "IPY_MODEL_863dcc031f3a439e9232149406e35cbc",
       "style": "IPY_MODEL_eb837fb7559740ba950557f2155590d7",
       "value": "100%"
      }
     }
    },
    "version_major": 2,
    "version_minor": 0
   }
  }
 },
 "nbformat": 4,
 "nbformat_minor": 4
}
