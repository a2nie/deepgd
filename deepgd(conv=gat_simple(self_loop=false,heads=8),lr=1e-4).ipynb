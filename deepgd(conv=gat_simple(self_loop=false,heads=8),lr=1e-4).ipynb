{
 "cells": [
  {
   "cell_type": "markdown",
   "metadata": {
    "id": "wZtYFEhHoBGp"
   },
   "source": [
    "# Import libraries"
   ]
  },
  {
   "cell_type": "code",
   "execution_count": 1,
   "metadata": {
    "id": "KJPfzpxLQI5O"
   },
   "outputs": [],
   "source": [
    "%load_ext autoreload\n",
    "%autoreload 2\n",
    "from deepgd import *"
   ]
  },
  {
   "cell_type": "markdown",
   "metadata": {
    "id": "z4eBEyB1oaJe"
   },
   "source": [
    "# Config"
   ]
  },
  {
   "cell_type": "code",
   "execution_count": 2,
   "metadata": {
    "id": "Q_-MLFhpNvxF"
   },
   "outputs": [],
   "source": [
    "cuda_idx = 0\n",
    "canonicalization = IdentityTransformation()\n",
    "config = StaticConfig({\n",
    "    \"name\": 'deepgd(conv=gat_simple(self_loop=false,heads=8),lr=1e-4)',\n",
    "    \"uid\": None,\n",
    "    \"link\": None,\n",
    "    \"generator\": {\n",
    "        \"params\": {\n",
    "            \"num_blocks\": 9,\n",
    "            \"normalize\": canonicalization\n",
    "        },\n",
    "        \"pretrained\": {\n",
    "            \"name\": None,\n",
    "            \"epoch\": -1,\n",
    "        },\n",
    "        \"optim\": torch.optim.AdamW,\n",
    "        \"lr\" : {\n",
    "            \"initial\": 1e-4,\n",
    "            \"decay\": 0.99,\n",
    "        },\n",
    "    },\n",
    "    \"discriminator\": {\n",
    "        \"params\": {\n",
    "            \"conv\": [2, 16, 16, 16],\n",
    "            \"dense\": [2],\n",
    "            \"shared_depth\": 10,\n",
    "            \"enet_depth\": 6,\n",
    "            \"enet_width\": 64,\n",
    "            \"aggr\": \"add\",\n",
    "            \"normalize\": canonicalization\n",
    "        },\n",
    "        \"pretrained\": {\n",
    "            \"name\": None,\n",
    "            \"epoch\": -1,\n",
    "        },\n",
    "        \"optim\": torch.optim.AdamW,\n",
    "        \"lr\" : {\n",
    "            \"initial\": 1e-3,\n",
    "            \"decay\": 0.99,\n",
    "        },\n",
    "        \"noise\": {\n",
    "            \"std\": 0,\n",
    "            \"decay\": 0.95,\n",
    "        },\n",
    "        \"repeat\": 1,\n",
    "        \"complete\": True,\n",
    "        \"adaptive\": True\n",
    "    },\n",
    "    \"alternate\": \"epoch\",\n",
    "    \"batchsize\": 64,\n",
    "    \"epoch\": {\n",
    "        \"start\": -1,\n",
    "        \"end\": None,\n",
    "    },\n",
    "    \"log_interval\": 1,\n",
    "    \"test\": {\n",
    "        \"name\": \"test\",\n",
    "        \"epoch\": -1,\n",
    "    },\n",
    "    \"gan_flavor\": \"dgdv2\",\n",
    "    \"gp_weight\": 0,\n",
    "})\n",
    "data_config = StaticConfig({\n",
    "    \"sparse\": False,\n",
    "    \"pivot\": None,\n",
    "    \"init\": \"pmds\",\n",
    "    \"edge\": {\n",
    "        \"index\": \"full_edge_index\",\n",
    "        \"attr\": \"full_edge_attr\",\n",
    "    },\n",
    "})\n",
    "loss_fns = {\n",
    "    Stress(): 1\n",
    "}\n",
    "ctrler_params = {\n",
    "    \"tau\": 0.95,\n",
    "    \"beta\": 1,\n",
    "    \"exploit_rate\": 0.5,\n",
    "    \"warmup\": 2,\n",
    "}\n",
    "paths = StaticConfig({\n",
    "    \"root\": \"artifacts\",\n",
    "    \"checkpoints\": lambda: f\"{paths.root}/checkpoints/{config.name}\",\n",
    "    \"gen_pretrain\": lambda: f\"{paths.root}/checkpoints/{config.generator.pretrained.name}\",\n",
    "    \"dis_pretrain\": lambda: f\"{paths.root}/checkpoints/{config.discriminator.pretrained.name}\",\n",
    "    \"tensorboard\": lambda: f\"{paths.root}/tensorboards/{config.name}\",\n",
    "    \"visualization\": lambda: f\"{paths.root}/visualizations/{config.name}_{config.test.name}\",\n",
    "    \"log\": lambda: f\"{paths.root}/logs/{config.name}.log\",\n",
    "    \"metrics\": lambda suffix: f\"{paths.root}/metrics/{config.name}_{suffix}.pickle\",\n",
    "})"
   ]
  },
  {
   "cell_type": "code",
   "execution_count": 3,
   "metadata": {
    "id": "mdMEAbH10Qaq"
   },
   "outputs": [],
   "source": [
    "if \" \" in config.name:\n",
    "    raise Exception(\"Space is not allowed in model name.\")"
   ]
  },
  {
   "cell_type": "markdown",
   "metadata": {
    "id": "WynW4ZAdBhep"
   },
   "source": [
    "# Prepare"
   ]
  },
  {
   "cell_type": "markdown",
   "metadata": {
    "id": "DR6-vYtr_i_P"
   },
   "source": [
    "## Get log command"
   ]
  },
  {
   "cell_type": "code",
   "execution_count": 4,
   "metadata": {
    "colab": {
     "base_uri": "https://localhost:8080/"
    },
    "id": "9-QpinlslcTO",
    "outputId": "b71f2ad3-e3f3-4ee1-e8ac-58e6e414abfc"
   },
   "outputs": [
    {
     "name": "stdout",
     "output_type": "stream",
     "text": [
      "cd /users/PAS0027/osu10203/deepgd && tail -n1000 -f 'artifacts/logs/deepgd(conv=gat_simple(self_loop=false,heads=8),lr=1e-4).log'\n"
     ]
    }
   ],
   "source": [
    "print(f\"cd {os.getcwd()} && tail -n1000 -f '{paths.log()}'\")"
   ]
  },
  {
   "cell_type": "code",
   "execution_count": 5,
   "metadata": {},
   "outputs": [
    {
     "name": "stdout",
     "output_type": "stream",
     "text": [
      "tensorboard dev upload --logdir 'artifacts/tensorboards/deepgd(conv=gat_simple(self_loop=false,heads=8),lr=1e-4)'\n"
     ]
    }
   ],
   "source": [
    "print(f\"tensorboard dev upload --logdir '{paths.tensorboard()}'\")"
   ]
  },
  {
   "cell_type": "markdown",
   "metadata": {
    "id": "innqkwvH_ydD"
   },
   "source": [
    "## Set globals"
   ]
  },
  {
   "cell_type": "code",
   "execution_count": 6,
   "metadata": {
    "id": "Qjq7JlSZlkQR"
   },
   "outputs": [],
   "source": [
    "if cuda_idx is not None and torch.cuda.is_available():\n",
    "    device = f'cuda:{cuda_idx}'\n",
    "    pynvml.nvmlInit()\n",
    "    cuda = pynvml.nvmlDeviceGetHandleByIndex(cuda_idx)\n",
    "else:\n",
    "    device = 'cpu'\n",
    "    cuda =  None\n",
    "np.set_printoptions(precision=2)\n",
    "warnings.filterwarnings(\"ignore\", category=RuntimeWarning)"
   ]
  },
  {
   "cell_type": "markdown",
   "metadata": {
    "id": "0da286l_ApEL"
   },
   "source": [
    "## Load data"
   ]
  },
  {
   "cell_type": "code",
   "execution_count": 7,
   "metadata": {
    "colab": {
     "base_uri": "https://localhost:8080/"
    },
    "id": "RFuSHiZJMU4x",
    "outputId": "3befa34f-6262-47a9-825d-7dcb2d6596d3"
   },
   "outputs": [
    {
     "name": "stdout",
     "output_type": "stream",
     "text": [
      "Load from 'cache/G_list.pickle'\n",
      "Load from 'cache/generate_data_list(list,sparse=False,pivot_mode=None,init_mode=pmds,edge_index=full_edge_index,edge_attr=full_edge_attr,pmds_list=ndarray,gviz_list=ndarray,noisy_layout=True,device=cpu).pickle'\n"
     ]
    },
    {
     "name": "stderr",
     "output_type": "stream",
     "text": [
      "/users/PAS0027/osu10203/.conda/envs/deepgd/lib/python3.9/site-packages/torch_geometric/deprecation.py:13: UserWarning: 'data.DataLoader' is deprecated, use 'loader.DataLoader' instead\n",
      "  warnings.warn(out)\n"
     ]
    }
   ],
   "source": [
    "G_list = load_G_list(data_path='data/rome', index_file='data_index.txt', cache='G_list', cache_prefix='cache/')\n",
    "data_list = generate_data_list(G_list, \n",
    "                               sparse=data_config.sparse, \n",
    "                               pivot_mode=data_config.pivot,\n",
    "                               init_mode=data_config.init,\n",
    "                               edge_index=data_config.edge.index,\n",
    "                               edge_attr=data_config.edge.attr,\n",
    "                               pmds_list=np.load('layouts/rome/pmds.npy', allow_pickle=True),\n",
    "                               gviz_list=np.load('layouts/rome/gviz.npy', allow_pickle=True),\n",
    "                               noisy_layout=True,\n",
    "                               device='cpu', \n",
    "                               cache=True,\n",
    "                               cache_prefix='cache/')\n",
    "train_loader = LazyDeviceMappingDataLoader(data_list[:10000], batch_size=config.batchsize, shuffle=True, device=device)\n",
    "val_loader = LazyDeviceMappingDataLoader(data_list[11000:], batch_size=config.batchsize, shuffle=False, device=device)"
   ]
  },
  {
   "cell_type": "markdown",
   "metadata": {
    "id": "f-ODE2k8BFV6"
   },
   "source": [
    "## Create folders"
   ]
  },
  {
   "cell_type": "code",
   "execution_count": 8,
   "metadata": {
    "id": "3ykUMINYBRog"
   },
   "outputs": [],
   "source": [
    "mkdirs(paths.checkpoints(), paths.tensorboard(), paths.visualization(), f\"{paths.root}/logs\", f\"{paths.root}/metrics\")"
   ]
  },
  {
   "cell_type": "markdown",
   "metadata": {
    "id": "BFq9k5nzBIh5"
   },
   "source": [
    "## Load checkpoints"
   ]
  },
  {
   "cell_type": "code",
   "execution_count": 9,
   "metadata": {},
   "outputs": [],
   "source": [
    "class GATConvWithEFeat(gnn.GATConv):\n",
    "    def __init__(self,\n",
    "                 in_channels,\n",
    "                 out_channels, \n",
    "                 efeat_dim,\n",
    "                 heads: int = 8,\n",
    "                 concat: bool = False,\n",
    "                 negative_slope: float = 0.2,\n",
    "                 dropout: float = 0.0,\n",
    "                 add_self_loops: bool = False,\n",
    "                 bias: bool = True,\n",
    "                 **kwargs):\n",
    "        super().__init__(in_channels=in_channels,\n",
    "                         out_channels=out_channels, \n",
    "                         heads=heads,\n",
    "                         concat=concat,\n",
    "                         negative_slope=negative_slope,\n",
    "                         dropout=dropout,\n",
    "                         add_self_loops=add_self_loops,\n",
    "                         bias=bias, **kwargs)\n",
    "        self.att_efeat = nn.Parameter(torch.Tensor(1, heads, efeat_dim))\n",
    "        gnn.inits.glorot(self.att_efeat)\n",
    "\n",
    "    def forward(self, x, edge_index, e, size=None, return_attention_weights=None):\n",
    "        H, C = self.heads, self.out_channels\n",
    "\n",
    "        # We first transform the input node features. If a tuple is passed, we\n",
    "        # transform source and target node features via separate weights:\n",
    "        if isinstance(x, torch.Tensor):\n",
    "            assert x.dim() == 2, \"Static graphs not supported in 'GATConv'\"\n",
    "            x_src = x_dst = self.lin_src(x).view(-1, H, C)\n",
    "        else:  # Tuple of source and target node features:\n",
    "            x_src, x_dst = x\n",
    "            assert x_src.dim() == 2, \"Static graphs not supported in 'GATConv'\"\n",
    "            x_src = self.lin_src(x_src).view(-1, H, C)\n",
    "            if x_dst is not None:\n",
    "                x_dst = self.lin_dst(x_dst).view(-1, H, C)\n",
    "\n",
    "        x = (x_src, x_dst)\n",
    "\n",
    "        # Next, we compute node-level attention coefficients, both for source\n",
    "        # and target nodes (if present):\n",
    "        alpha_src = (x_src * self.att_src).sum(dim=-1)\n",
    "        alpha_dst = None if x_dst is None else (x_dst * self.att_dst).sum(-1)\n",
    "        alpha = (alpha_src, alpha_dst)\n",
    "\n",
    "        if self.add_self_loops:\n",
    "            if isinstance(edge_index, torch.Tensor):\n",
    "                # We only want to add self-loops for nodes that appear both as\n",
    "                # source and target nodes:\n",
    "                num_nodes = x_src.size(0)\n",
    "                if x_dst is not None:\n",
    "                    num_nodes = min(num_nodes, x_dst.size(0))\n",
    "                num_nodes = min(size) if size is not None else num_nodes\n",
    "                edge_index, _ = pyg.utils.remove_self_loops(edge_index)\n",
    "                edge_index, _ = pyg.utils.add_self_loops(edge_index, num_nodes=num_nodes)\n",
    "            elif isinstance(edge_index, torch_sparse.SparseTensor):\n",
    "                edge_index = set_diag(edge_index)\n",
    "\n",
    "        # propagate_type: (x: OptPairTensor, alpha: OptPairTensor)\n",
    "        out = self.propagate(edge_index, x=x, e=e, alpha=alpha, size=size)\n",
    "\n",
    "        alpha = self._alpha\n",
    "        assert alpha is not None\n",
    "        self._alpha = None\n",
    "\n",
    "        if self.concat:\n",
    "            out = out.view(-1, self.heads * self.out_channels)\n",
    "        else:\n",
    "            out = out.mean(dim=1)\n",
    "\n",
    "        if self.bias is not None:\n",
    "            out += self.bias\n",
    "\n",
    "        if isinstance(return_attention_weights, bool):\n",
    "            if isinstance(edge_index, torch.Tensor):\n",
    "                return out, (edge_index, alpha)\n",
    "            elif isinstance(edge_index, torch_sparse.SparseTensor):\n",
    "                return out, edge_index.set_value(alpha, layout='coo')\n",
    "        else:\n",
    "            return out\n",
    "\n",
    "\n",
    "    def message(self, x_j, e, alpha_j, alpha_i, index, ptr, size_i):\n",
    "        # Given egel-level attention coefficients for source and target nodes,\n",
    "        # we simply need to sum them up to \"emulate\" concatenation:\n",
    "        alpha = alpha_j if alpha_i is None else alpha_j + alpha_i\n",
    "#         print(e.shape, self.att_efeat.shape)\n",
    "        alpha += (e[:, None, :].repeat(1, self.heads, 1) * self.att_efeat).sum(dim=-1)\n",
    "\n",
    "        alpha = F.leaky_relu(alpha, self.negative_slope)\n",
    "        alpha = pyg.utils.softmax(alpha, index, ptr, size_i)\n",
    "        self._alpha = alpha  # Save for later use.\n",
    "        alpha = F.dropout(alpha, p=self.dropout, training=self.training)\n",
    "        return x_j * alpha.unsqueeze(-1)"
   ]
  },
  {
   "cell_type": "code",
   "execution_count": 10,
   "metadata": {
    "tags": []
   },
   "outputs": [],
   "source": [
    "class GNNLayer(nn.Module):\n",
    "    def __init__(self,\n",
    "                 nfeat_dims,\n",
    "                 efeat_dim,\n",
    "                 aggr,\n",
    "                 edge_net=None, \n",
    "                 dense=False,\n",
    "                 bn=True, \n",
    "                 act=True, \n",
    "                 dp=None,\n",
    "                 root_weight=True,\n",
    "                 skip=True):\n",
    "        super().__init__()\n",
    "        try:\n",
    "            in_dim = nfeat_dims[0]\n",
    "            out_dim = nfeat_dims[1]\n",
    "        except:\n",
    "            in_dim = nfeat_dims\n",
    "            out_dim = nfeat_dims\n",
    "        self.conv = GATConvWithEFeat(in_dim, out_dim, efeat_dim, aggr=aggr)\n",
    "        self.dense = nn.Linear(out_dim, out_dim) if dense else nn.Identity()\n",
    "        self.bn = gnn.BatchNorm(out_dim) if bn else nn.Identity()\n",
    "        self.act = nn.LeakyReLU() if act else nn.Identity()\n",
    "        self.dp = dp and nn.Dropout(dp) or nn.Identity()\n",
    "        self.skip = skip\n",
    "        self.proj = nn.Linear(in_dim, out_dim, bias=False) if in_dim != out_dim else nn.Identity()\n",
    "        \n",
    "    def forward(self, v, e, data):\n",
    "        v_ = v\n",
    "        v = self.conv(v, data.edge_index, e)\n",
    "        v = self.dense(v)\n",
    "        v = self.bn(v)\n",
    "        v = self.act(v)\n",
    "        v = self.dp(v)\n",
    "        return v + self.proj(v_) if self.skip else v"
   ]
  },
  {
   "cell_type": "code",
   "execution_count": 11,
   "metadata": {
    "jupyter": {
     "source_hidden": true
    },
    "tags": []
   },
   "outputs": [],
   "source": [
    "class GNNBlock(nn.Module):\n",
    "    def __init__(self, \n",
    "                 feat_dims, \n",
    "                 efeat_hid_dims=[], \n",
    "                 efeat_hid_act=nn.LeakyReLU,\n",
    "                 efeat_out_act=nn.Tanh,\n",
    "                 bn=False,\n",
    "                 act=True,\n",
    "                 dp=None,\n",
    "                 aggr='mean',\n",
    "                 root_weight=True,\n",
    "                 static_efeats=1,\n",
    "                 dynamic_efeats='skip',\n",
    "                 rich_efeats=False,\n",
    "                 euclidian=False,\n",
    "                 direction=False,\n",
    "                 n_weights=0,\n",
    "                 residual=False):\n",
    "        '''\n",
    "        dynamic_efeats: {\n",
    "            skip: block input to each layer, \n",
    "            first: block input to first layer, \n",
    "            prev: previous layer output to next layer, \n",
    "            orig: original node feature to each layer\n",
    "        }\n",
    "        '''\n",
    "        super().__init__()\n",
    "        self.static_efeats = static_efeats\n",
    "        self.dynamic_efeats = dynamic_efeats\n",
    "        self.rich_efeats = rich_efeats\n",
    "        self.euclidian = euclidian\n",
    "        self.direction = direction\n",
    "        self.n_weights = n_weights\n",
    "        self.residual = residual\n",
    "        self.gnn = nn.ModuleList()\n",
    "        self.n_layers = len(feat_dims) - 1\n",
    "\n",
    "        for idx, (in_feat, out_feat) in enumerate(zip(feat_dims[:-1], feat_dims[1:])):\n",
    "            direction_dim = (feat_dims[idx] if self.dynamic_efeats == 'prev'\n",
    "                             else 2 if self.dynamic_efeats == 'orig'\n",
    "                             else feat_dims[0])\n",
    "            in_efeat_dim = self.static_efeats\n",
    "            if self.dynamic_efeats != 'first': \n",
    "                in_efeat_dim += self.euclidian + self.direction * direction_dim + self.n_weights + 3 * self.rich_efeats\n",
    "            edge_net = nn.Sequential(*chain.from_iterable(\n",
    "                [nn.Linear(idim, odim),\n",
    "                 nn.BatchNorm1d(odim),\n",
    "                 act()]\n",
    "                for idim, odim, act in zip([in_efeat_dim] + efeat_hid_dims,\n",
    "                                           efeat_hid_dims + [in_feat * out_feat],\n",
    "                                           [efeat_hid_act] * len(efeat_hid_dims) + [efeat_out_act])\n",
    "            ))\n",
    "            self.gnn.append(GNNLayer(nfeat_dims=(in_feat, out_feat), \n",
    "                                     efeat_dim=in_efeat_dim, \n",
    "                                     edge_net=edge_net,\n",
    "                                     bn=bn, \n",
    "                                     act=act, \n",
    "                                     dp=dp,\n",
    "                                     aggr=aggr,\n",
    "                                     root_weight=root_weight,\n",
    "                                     skip=False))\n",
    "        \n",
    "    def _get_edge_feat(self, pos, data, rich_efeats=False, euclidian=False, direction=False, weights=None):\n",
    "        e = data.edge_attr[:, :self.static_efeats]\n",
    "        if euclidian or direction:\n",
    "            start_pos, end_pos = get_edges(pos, data)\n",
    "            v, u = l2_normalize(end_pos - start_pos, return_norm=True)\n",
    "            if euclidian:\n",
    "                e = torch.cat([e, u], dim=1)\n",
    "            if direction:\n",
    "                e = torch.cat([e, v], dim=1)\n",
    "            if rich_efeats:\n",
    "                d = e[:, :1]\n",
    "                d2 = d ** 2\n",
    "#                 d_inv = 1 / d\n",
    "#                 d2_inv = 1 / d2\n",
    "                u2 = u ** 2\n",
    "                ud = u * d\n",
    "#                 u_inv = 1 / u\n",
    "#                 u2_inv = 1 / u2\n",
    "                e = torch.cat([e, d2, u2, ud], dim=1)\n",
    "        if weights is not None:\n",
    "            w = weights.repeat(len(e), 1)\n",
    "            e = torch.cat([e, w], dim=1)\n",
    "        return e\n",
    "    \n",
    "    def _get_dynamic_edge_feat(self, pos, data, rich_efeats=False, euclidian=False, direction=False, weights=None):\n",
    "        if euclidian or direction:\n",
    "            start_pos, end_pos = get_edges(pos, data)\n",
    "            d, u = l2_normalize(end_pos - start_pos, return_norm=True)\n",
    "            if euclidian and direction:\n",
    "                e = torch.cat([u, d], dim=1)\n",
    "            else:\n",
    "                if euclidian:\n",
    "                    e = u\n",
    "                if direction:\n",
    "                    e = d\n",
    "        if weights is not None:\n",
    "            w = weights.repeat(len(e), 1)\n",
    "            e = torch.cat([e, w], dim=1)\n",
    "        return e\n",
    "        \n",
    "    def forward(self, v, data, weights=None):\n",
    "        vres = v\n",
    "        for layer in range(self.n_layers):\n",
    "            vsrc = (v if self.dynamic_efeats == 'prev' \n",
    "                    else data.pos if self.dynamic_efeats == 'orig' \n",
    "                    else vres)\n",
    "            get_extra = not (self.dynamic_efeats == 'first' and layer != 0)\n",
    "            efeat_fn = self._get_dynamic_edge_feat if self.static_efeats == 0 else self._get_edge_feat\n",
    "\n",
    "            e = efeat_fn(vsrc, data,\n",
    "                         rich_efeats=self.rich_efeats and get_extra,\n",
    "                         euclidian=self.euclidian and get_extra, \n",
    "                         direction=self.direction and get_extra,\n",
    "                         weights=weights if get_extra and self.n_weights > 0 else None)\n",
    "            v = self.gnn[layer](v, e, data)\n",
    "        return v + vres if self.residual else v"
   ]
  },
  {
   "cell_type": "code",
   "execution_count": 12,
   "metadata": {
    "tags": []
   },
   "outputs": [],
   "source": [
    "class Generator(nn.Module):\n",
    "    def __init__(self, \n",
    "                 num_blocks=9, \n",
    "                 num_layers=3,\n",
    "                 num_enet_layers=2,\n",
    "                 layer_dims=None,\n",
    "                 n_weights=0, \n",
    "                 dynamic_efeats='skip',\n",
    "                 euclidian=True,\n",
    "                 direction=True,\n",
    "                 residual=True,\n",
    "                 normalize=None):\n",
    "        super().__init__()\n",
    "\n",
    "        self.in_blocks = nn.ModuleList([\n",
    "            GNNBlock(feat_dims=[2, 8, 8 if layer_dims is None else layer_dims[0]], bn=True, dp=0.2, static_efeats=2)\n",
    "        ])\n",
    "        self.hid_blocks = nn.ModuleList([\n",
    "            GNNBlock(feat_dims=layer_dims or ([8] + [8] * num_layers), \n",
    "                     efeat_hid_dims=[16] * (num_enet_layers - 1),\n",
    "                     bn=True, \n",
    "                     act=True,\n",
    "                     dp=0.2, \n",
    "                     static_efeats=2,\n",
    "                     dynamic_efeats=dynamic_efeats,\n",
    "                     euclidian=euclidian,\n",
    "                     direction=direction,\n",
    "                     n_weights=n_weights,\n",
    "                     residual=residual)\n",
    "            for _ in range(num_blocks)\n",
    "        ])\n",
    "        self.out_blocks = nn.ModuleList([\n",
    "            GNNBlock(feat_dims=[8 if layer_dims is None else layer_dims[-1], 8], bn=True, static_efeats=2),\n",
    "            GNNBlock(feat_dims=[8, 2], act=False, static_efeats=2)\n",
    "        ])\n",
    "        self.normalize = normalize\n",
    "\n",
    "    def forward(self, data, weights=None, output_hidden=False, numpy=False):\n",
    "        v = data.pos if data.pos is not None else generate_rand_pos(len(data.x)).to(data.x.device)\n",
    "        if self.normalize is not None:\n",
    "            v = self.normalize(v, data)\n",
    "        \n",
    "        hidden = []\n",
    "        for block in chain(self.in_blocks, \n",
    "                           self.hid_blocks, \n",
    "                           self.out_blocks):\n",
    "            v = block(v, data, weights)\n",
    "            if output_hidden:\n",
    "                hidden.append(v.detach().cpu().numpy() if numpy else v)\n",
    "        if not output_hidden:\n",
    "            vout = v.detach().cpu().numpy() if numpy else v\n",
    "            if self.normalize is not None:\n",
    "                vout = self.normalize(vout, data)\n",
    "        \n",
    "        return hidden if output_hidden else vout"
   ]
  },
  {
   "cell_type": "code",
   "execution_count": 13,
   "metadata": {
    "id": "96ZActxlL0fJ"
   },
   "outputs": [],
   "source": [
    "class StressDiscriminator(nn.Module):\n",
    "    def __init__(self, normalize=CanonicalizationByStress(), **kwargs):\n",
    "        super().__init__()\n",
    "        self.dummy = nn.Parameter(torch.zeros(1))\n",
    "        self.normalize = normalize\n",
    "        self.stress = Stress(reduce=None)\n",
    "\n",
    "    def forward(self, batch):\n",
    "        return -self.stress(self.normalize(batch.pos, batch), batch)"
   ]
  },
  {
   "cell_type": "code",
   "execution_count": 14,
   "metadata": {
    "id": "IJ6xCYBUuhcw"
   },
   "outputs": [],
   "source": [
    "def get_ckpt_epoch(folder, epoch):\n",
    "    if not os.path.isdir(folder):\n",
    "        os.mkdir(folder)\n",
    "    if epoch >= 0:\n",
    "        return epoch\n",
    "    ckpt_files = os.listdir(folder)\n",
    "    last_epoch = 0\n",
    "    if ckpt_files:\n",
    "        last_epoch = sorted(list(map(lambda x: int(re.search('(?<=epoch_)(\\d+)(?=\\.)', x).group(1)), ckpt_files)))[-1]\n",
    "    return last_epoch + epoch + 1\n",
    "\n",
    "def start_epoch():\n",
    "    return get_ckpt_epoch(paths.checkpoints(), config.epoch.start)"
   ]
  },
  {
   "cell_type": "code",
   "execution_count": 15,
   "metadata": {
    "colab": {
     "base_uri": "https://localhost:8080/"
    },
    "id": "JacDYXka9U01",
    "outputId": "8a0d9c75-eb27-4cfd-eb3e-c81b698cb086"
   },
   "outputs": [
    {
     "name": "stdout",
     "output_type": "stream",
     "text": [
      "Loading from artifacts/checkpoints/deepgd(conv=gat_simple(self_loop=false,heads=8),lr=1e-4)/gen_epoch_1325.pt...\n",
      "Loading from artifacts/checkpoints/deepgd(conv=gat_simple(self_loop=false,heads=8),lr=1e-4)/gen_optim_epoch_1325.pt...\n"
     ]
    }
   ],
   "source": [
    "generator = Generator(**config.generator.params[...]).to(device)\n",
    "generator_optimizer = config.generator.optim(generator.parameters(), lr=config.generator.lr.initial * config.generator.lr.decay ** start_epoch())\n",
    "generator_scheduler = torch.optim.lr_scheduler.ExponentialLR(generator_optimizer, gamma=config.generator.lr.decay)\n",
    "if start_epoch() != 0:\n",
    "    gen_ckpt_epoch = start_epoch()\n",
    "elif config.generator.pretrained.name is not None and config.generator.pretrained.epoch != 0:\n",
    "    gen_pretrained_epoch = get_ckpt_epoch(paths.gen_pretrain(), config.generator.pretrained.epoch)\n",
    "    gen_ckpt_epoch = gen_pretrained_epoch \n",
    "else:\n",
    "    gen_ckpt_epoch = None\n",
    "if gen_ckpt_epoch is not None:\n",
    "    # Load generator\n",
    "    gen_ckpt_file = f\"{paths.checkpoints()}/gen_epoch_{gen_ckpt_epoch}.pt\"\n",
    "    print(f\"Loading from {gen_ckpt_file}...\")\n",
    "    generator.load_state_dict(torch.load(gen_ckpt_file, map_location=torch.device(device)))\n",
    "    # Load generator optimizer\n",
    "    gen_optim_ckpt_file = f\"{paths.checkpoints()}/gen_optim_epoch_{gen_ckpt_epoch}.pt\"\n",
    "    print(f\"Loading from {gen_optim_ckpt_file}...\")\n",
    "    generator_optimizer.load_state_dict(torch.load(gen_optim_ckpt_file, map_location=torch.device(device)))"
   ]
  },
  {
   "cell_type": "code",
   "execution_count": 16,
   "metadata": {
    "colab": {
     "base_uri": "https://localhost:8080/"
    },
    "id": "oWQhD7-88VXe",
    "outputId": "3ce11a68-adca-4f26-b71c-69fb71d301d2"
   },
   "outputs": [],
   "source": [
    "discriminator = StressDiscriminator(**config.discriminator.params[...]).to(device)\n",
    "# discriminator_optimizer = config.discriminator.optim(discriminator.parameters(), lr=config.discriminator.lr.initial * config.discriminator.lr.decay ** start_epoch())\n",
    "# discriminator_scheduler = torch.optim.lr_scheduler.ExponentialLR(discriminator_optimizer, gamma=config.discriminator.lr.decay)\n",
    "# if start_epoch() != 0:\n",
    "#     dis_ckpt_epoch = start_epoch()\n",
    "# elif config.discriminator.pretrained.name is not None and config.discriminator.pretrained.epoch != 0:\n",
    "#     dis_pretrained_epoch = get_ckpt_epoch(paths.dis_pretrain(), config.discriminator.pretrained.epoch)\n",
    "#     dis_ckpt_epoch = dis_pretrained_epoch # f\"{paths.dis_pretrain()}/dis_epoch_{dis_pretrained_epoch}.pt\"\n",
    "# else:\n",
    "#     dis_ckpt_epoch = None\n",
    "# if dis_ckpt_epoch is not None:\n",
    "#     # Load discriminator\n",
    "#     dis_ckpt_file = f\"{paths.checkpoints()}/dis_epoch_{dis_ckpt_epoch}.pt\"\n",
    "#     print(f\"Loading from {dis_ckpt_file}...\")\n",
    "#     discriminator.load_state_dict(torch.load(dis_ckpt_file, map_location=torch.device(device)))\n",
    "#     # Load discriminator optimizer\n",
    "#     dis_optim_ckpt_file = f\"{paths.checkpoints()}/dis_optim_epoch_{dis_ckpt_epoch}.pt\"\n",
    "#     print(f\"Loading from {dis_optim_ckpt_file}...\")\n",
    "#     discriminator_optimizer.load_state_dict(torch.load(dis_optim_ckpt_file, map_location=torch.device(device)))"
   ]
  },
  {
   "cell_type": "markdown",
   "metadata": {
    "id": "N39dDHraedM6"
   },
   "source": [
    "# Train"
   ]
  },
  {
   "cell_type": "code",
   "execution_count": 17,
   "metadata": {
    "id": "BdIJSDSJedM-"
   },
   "outputs": [],
   "source": [
    "stress_criterion = StressDiscriminator().to(device)\n",
    "val_criterion = Stress(reduce=None)\n",
    "xing_criterion = Xing(reduce=None)\n",
    "dis_convert = DiscriminatorDataConverter(complete_graph=config.discriminator.complete, normalize=config.discriminator.params.normalize)\n",
    "tensorboard = SummaryWriter(log_dir=paths.tensorboard())\n",
    "epoch = start_epoch() + 1"
   ]
  },
  {
   "cell_type": "code",
   "execution_count": 18,
   "metadata": {
    "id": "OHRWj1h0edM-"
   },
   "outputs": [],
   "source": [
    "def gradient_penalty(interpolated, discriminator, weight=10):\n",
    "    interpolated.pos.requires_grad_()\n",
    "    prob_interpolated = discriminator(interpolated)\n",
    "    gradients = autograd.grad(outputs=prob_interpolated, \n",
    "                              inputs=interpolated.pos,\n",
    "                              grad_outputs=torch.ones_like(prob_interpolated),\n",
    "                              create_graph=True, \n",
    "                              retain_graph=True, \n",
    "                              allow_unused=True)[0]\n",
    "    gradients_norm = torch.sqrt(gnn.global_add_pool(gradients.square().sum(dim=1), batch.batch) + 1e-8)\n",
    "    return weight * ((gradients_norm - 1) ** 2).mean()"
   ]
  },
  {
   "cell_type": "code",
   "execution_count": 19,
   "metadata": {
    "id": "o5wJJN9AedM_"
   },
   "outputs": [],
   "source": [
    "def get_gp_loss(batch, fake_pos, weight):\n",
    "    if weight > 0:\n",
    "        interp = dis_convert(batch, fake_pos, random.random())\n",
    "        return gradient_penalty(interp, discriminator, weight).mean()\n",
    "    return 0"
   ]
  },
  {
   "cell_type": "code",
   "execution_count": 20,
   "metadata": {
    "id": "QwuA6sRoedM_"
   },
   "outputs": [],
   "source": [
    "def get_sgan_loss(batch, fake_pos, mode='discriminator'):\n",
    "    real = dis_convert(batch)\n",
    "    fake = dis_convert(batch, fake_pos)\n",
    "    pred = discriminator(merge_batch(real, fake)).view(2, -1).T\n",
    "    if mode == 'discriminator':\n",
    "        label = torch.zeros(pred.shape[0]).long()\n",
    "    elif mode == 'generator':\n",
    "        label = torch.ones(pred.shape[0]).long()\n",
    "    else:\n",
    "        raise Exception\n",
    "    return nn.CrossEntropyLoss()(pred, label)"
   ]
  },
  {
   "cell_type": "code",
   "execution_count": 21,
   "metadata": {
    "id": "GuAP1YchedNA"
   },
   "outputs": [],
   "source": [
    "def get_rgan_loss(batch, fake_pos, mode='discriminator'):\n",
    "    real = dis_convert(batch)\n",
    "    fake = dis_convert(batch, fake_pos)\n",
    "    pred = discriminator(merge_batch(real, fake)).view(2, -1).T\n",
    "    real_pred, fake_pred = pred[:,0], pred[:,1]\n",
    "    if mode == 'discriminator':\n",
    "        losses = - F.logsigmoid(real_pred - fake_pred)\n",
    "    elif mode == 'generator':\n",
    "        losses = - F.logsigmoid(fake_pred - real_pred)\n",
    "    else:\n",
    "        raise Exception\n",
    "    return losses.mean()"
   ]
  },
  {
   "cell_type": "code",
   "execution_count": 22,
   "metadata": {
    "id": "KFllQ7BredNA"
   },
   "outputs": [],
   "source": [
    "def get_wgan_loss(batch, fake_pos, mode='discriminator'):\n",
    "    real = dis_convert(batch)\n",
    "    fake = dis_convert(batch, fake_pos)\n",
    "    pred = discriminator(merge_batch(real, fake)).view(2, -1).T\n",
    "    real_pred, fake_pred = pred[:,0], pred[:,1]\n",
    "    if mode == 'discriminator':\n",
    "        losses = fake_pred - real_pred \n",
    "    elif mode == 'generator':\n",
    "        losses = real_pred - fake_pred\n",
    "    else:\n",
    "        raise Exception\n",
    "    return losses.mean()"
   ]
  },
  {
   "cell_type": "code",
   "execution_count": 23,
   "metadata": {
    "id": "r5Kg_tYEedNA"
   },
   "outputs": [],
   "source": [
    "def get_ragan_loss(batch, fake_pos, mode='discriminator'):\n",
    "    real = dis_convert(batch)\n",
    "    fake = dis_convert(batch, fake_pos)\n",
    "    pred = discriminator(merge_batch(real, fake)).view(2, -1).T\n",
    "    real_pred, fake_pred = pred[:,0], pred[:,1]\n",
    "    if mode == 'discriminator':\n",
    "        losses = - F.logsigmoid(real_pred - fake_pred.mean()) - F.logsigmoid(real_pred.mean() - fake_pred)\n",
    "    elif mode == 'generator':\n",
    "        losses = - F.logsigmoid(fake_pred - real_pred.mean()) - F.logsigmoid(fake_pred.mean() - real_pred)\n",
    "    else:\n",
    "        raise Exception\n",
    "    return losses.mean()"
   ]
  },
  {
   "cell_type": "code",
   "execution_count": 24,
   "metadata": {},
   "outputs": [],
   "source": [
    "def get_dgdv2_loss(batch, fake_pos, mode='discriminator'):\n",
    "    fake = dis_convert(batch, fake_pos)\n",
    "    pred = discriminator(fake)\n",
    "    if mode == 'discriminator':\n",
    "        gt = get_gt(batch, fake_pos)\n",
    "        loss = criterion(pred, gt)\n",
    "    elif mode == 'generator':\n",
    "        losses = pred.sum(dim=0)\n",
    "#         losses = torch.tensor(config.importance).to(device) * losses #/ losses.detach()\n",
    "        loss = losses.sum()\n",
    "    else:\n",
    "        raise Exception\n",
    "    return -loss"
   ]
  },
  {
   "cell_type": "code",
   "execution_count": 25,
   "metadata": {
    "id": "3IE_84f-edNB"
   },
   "outputs": [],
   "source": [
    "def get_gan_loss(batch, fake_pos, mode='discriminator'):\n",
    "    return {\"sgan\": get_sgan_loss,\n",
    "            \"wgan\": get_wgan_loss,\n",
    "            \"rgan\": get_rgan_loss,\n",
    "            \"ragan\": get_ragan_loss,\n",
    "            \"dgdv2\": get_dgdv2_loss}[config.gan_flavor](batch, fake_pos, mode)"
   ]
  },
  {
   "cell_type": "code",
   "execution_count": 26,
   "metadata": {
    "colab": {
     "base_uri": "https://localhost:8080/",
     "height": 80
    },
    "id": "2NjekXgkedNB",
    "outputId": "d0ca2d2c-8af7-40af-b197-7974e566b064",
    "tags": []
   },
   "outputs": [
    {
     "data": {
      "application/vnd.jupyter.widget-view+json": {
       "model_id": "6262436f683f4e3fba701e4d6ca9c9a0",
       "version_major": 2,
       "version_minor": 0
      },
      "text/plain": [
       "Tab(children=(VBox(children=(Wrapper(), Hud())), HBox(children=(Output(),), layout=Layout(height='500px', over…"
      ]
     },
     "metadata": {},
     "output_type": "display_data"
    },
    {
     "ename": "KeyboardInterrupt",
     "evalue": "",
     "output_type": "error",
     "traceback": [
      "\u001b[0;31m---------------------------------------------------------------------------\u001b[0m",
      "\u001b[0;31mKeyboardInterrupt\u001b[0m                         Traceback (most recent call last)",
      "\u001b[0;32m/tmp/slurmtmp.5518289/ipykernel_193989/3144612910.py\u001b[0m in \u001b[0;36m<module>\u001b[0;34m\u001b[0m\n\u001b[1;32m    136\u001b[0m     \u001b[0;32mif\u001b[0m \u001b[0mconfig\u001b[0m\u001b[0;34m.\u001b[0m\u001b[0malternate\u001b[0m \u001b[0;34m==\u001b[0m \u001b[0;34m'epoch'\u001b[0m\u001b[0;34m:\u001b[0m\u001b[0;34m\u001b[0m\u001b[0;34m\u001b[0m\u001b[0m\n\u001b[1;32m    137\u001b[0m         \u001b[0;32mfor\u001b[0m \u001b[0mbatch\u001b[0m \u001b[0;32min\u001b[0m \u001b[0mtrain_loader\u001b[0m\u001b[0;34m:\u001b[0m\u001b[0;34m\u001b[0m\u001b[0;34m\u001b[0m\u001b[0m\n\u001b[0;32m--> 138\u001b[0;31m             \u001b[0mtrain_gen\u001b[0m\u001b[0;34m(\u001b[0m\u001b[0mbatch\u001b[0m\u001b[0;34m,\u001b[0m \u001b[0mepoch\u001b[0m\u001b[0;34m)\u001b[0m\u001b[0;34m\u001b[0m\u001b[0;34m\u001b[0m\u001b[0m\n\u001b[0m\u001b[1;32m    139\u001b[0m \u001b[0;34m\u001b[0m\u001b[0m\n\u001b[1;32m    140\u001b[0m \u001b[0;31m#     discriminator_scheduler.step()\u001b[0m\u001b[0;34m\u001b[0m\u001b[0;34m\u001b[0m\u001b[0m\n",
      "\u001b[0;32m/tmp/slurmtmp.5518289/ipykernel_193989/3144612910.py\u001b[0m in \u001b[0;36mtrain_gen\u001b[0;34m(batch, epoch)\u001b[0m\n\u001b[1;32m     32\u001b[0m     \u001b[0;31m#train generator\u001b[0m\u001b[0;34m\u001b[0m\u001b[0;34m\u001b[0m\u001b[0m\n\u001b[1;32m     33\u001b[0m     \u001b[0mgenerator_loss\u001b[0m\u001b[0;34m.\u001b[0m\u001b[0mbackward\u001b[0m\u001b[0;34m(\u001b[0m\u001b[0;34m)\u001b[0m\u001b[0;34m\u001b[0m\u001b[0;34m\u001b[0m\u001b[0m\n\u001b[0;32m---> 34\u001b[0;31m     \u001b[0mgenerator_optimizer\u001b[0m\u001b[0;34m.\u001b[0m\u001b[0mstep\u001b[0m\u001b[0;34m(\u001b[0m\u001b[0;34m)\u001b[0m\u001b[0;34m\u001b[0m\u001b[0;34m\u001b[0m\u001b[0m\n\u001b[0m\u001b[1;32m     35\u001b[0m \u001b[0;34m\u001b[0m\u001b[0m\n\u001b[1;32m     36\u001b[0m     \u001b[0;32mwith\u001b[0m \u001b[0mtorch\u001b[0m\u001b[0;34m.\u001b[0m\u001b[0mno_grad\u001b[0m\u001b[0;34m(\u001b[0m\u001b[0;34m)\u001b[0m\u001b[0;34m:\u001b[0m\u001b[0;34m\u001b[0m\u001b[0;34m\u001b[0m\u001b[0m\n",
      "\u001b[0;32m~/.conda/envs/deepgd/lib/python3.9/site-packages/torch/optim/lr_scheduler.py\u001b[0m in \u001b[0;36mwrapper\u001b[0;34m(*args, **kwargs)\u001b[0m\n\u001b[1;32m     63\u001b[0m                 \u001b[0minstance\u001b[0m\u001b[0;34m.\u001b[0m\u001b[0m_step_count\u001b[0m \u001b[0;34m+=\u001b[0m \u001b[0;36m1\u001b[0m\u001b[0;34m\u001b[0m\u001b[0;34m\u001b[0m\u001b[0m\n\u001b[1;32m     64\u001b[0m                 \u001b[0mwrapped\u001b[0m \u001b[0;34m=\u001b[0m \u001b[0mfunc\u001b[0m\u001b[0;34m.\u001b[0m\u001b[0m__get__\u001b[0m\u001b[0;34m(\u001b[0m\u001b[0minstance\u001b[0m\u001b[0;34m,\u001b[0m \u001b[0mcls\u001b[0m\u001b[0;34m)\u001b[0m\u001b[0;34m\u001b[0m\u001b[0;34m\u001b[0m\u001b[0m\n\u001b[0;32m---> 65\u001b[0;31m                 \u001b[0;32mreturn\u001b[0m \u001b[0mwrapped\u001b[0m\u001b[0;34m(\u001b[0m\u001b[0;34m*\u001b[0m\u001b[0margs\u001b[0m\u001b[0;34m,\u001b[0m \u001b[0;34m**\u001b[0m\u001b[0mkwargs\u001b[0m\u001b[0;34m)\u001b[0m\u001b[0;34m\u001b[0m\u001b[0;34m\u001b[0m\u001b[0m\n\u001b[0m\u001b[1;32m     66\u001b[0m \u001b[0;34m\u001b[0m\u001b[0m\n\u001b[1;32m     67\u001b[0m             \u001b[0;31m# Note that the returned function here is no longer a bound method,\u001b[0m\u001b[0;34m\u001b[0m\u001b[0;34m\u001b[0m\u001b[0m\n",
      "\u001b[0;32m~/.conda/envs/deepgd/lib/python3.9/site-packages/torch/optim/optimizer.py\u001b[0m in \u001b[0;36mwrapper\u001b[0;34m(*args, **kwargs)\u001b[0m\n\u001b[1;32m     86\u001b[0m                 \u001b[0mprofile_name\u001b[0m \u001b[0;34m=\u001b[0m \u001b[0;34m\"Optimizer.step#{}.step\"\u001b[0m\u001b[0;34m.\u001b[0m\u001b[0mformat\u001b[0m\u001b[0;34m(\u001b[0m\u001b[0mobj\u001b[0m\u001b[0;34m.\u001b[0m\u001b[0m__class__\u001b[0m\u001b[0;34m.\u001b[0m\u001b[0m__name__\u001b[0m\u001b[0;34m)\u001b[0m\u001b[0;34m\u001b[0m\u001b[0;34m\u001b[0m\u001b[0m\n\u001b[1;32m     87\u001b[0m                 \u001b[0;32mwith\u001b[0m \u001b[0mtorch\u001b[0m\u001b[0;34m.\u001b[0m\u001b[0mautograd\u001b[0m\u001b[0;34m.\u001b[0m\u001b[0mprofiler\u001b[0m\u001b[0;34m.\u001b[0m\u001b[0mrecord_function\u001b[0m\u001b[0;34m(\u001b[0m\u001b[0mprofile_name\u001b[0m\u001b[0;34m)\u001b[0m\u001b[0;34m:\u001b[0m\u001b[0;34m\u001b[0m\u001b[0;34m\u001b[0m\u001b[0m\n\u001b[0;32m---> 88\u001b[0;31m                     \u001b[0;32mreturn\u001b[0m \u001b[0mfunc\u001b[0m\u001b[0;34m(\u001b[0m\u001b[0;34m*\u001b[0m\u001b[0margs\u001b[0m\u001b[0;34m,\u001b[0m \u001b[0;34m**\u001b[0m\u001b[0mkwargs\u001b[0m\u001b[0;34m)\u001b[0m\u001b[0;34m\u001b[0m\u001b[0;34m\u001b[0m\u001b[0m\n\u001b[0m\u001b[1;32m     89\u001b[0m             \u001b[0;32mreturn\u001b[0m \u001b[0mwrapper\u001b[0m\u001b[0;34m\u001b[0m\u001b[0;34m\u001b[0m\u001b[0m\n\u001b[1;32m     90\u001b[0m \u001b[0;34m\u001b[0m\u001b[0m\n",
      "\u001b[0;32m~/.conda/envs/deepgd/lib/python3.9/site-packages/torch/autograd/grad_mode.py\u001b[0m in \u001b[0;36mdecorate_context\u001b[0;34m(*args, **kwargs)\u001b[0m\n\u001b[1;32m     26\u001b[0m         \u001b[0;32mdef\u001b[0m \u001b[0mdecorate_context\u001b[0m\u001b[0;34m(\u001b[0m\u001b[0;34m*\u001b[0m\u001b[0margs\u001b[0m\u001b[0;34m,\u001b[0m \u001b[0;34m**\u001b[0m\u001b[0mkwargs\u001b[0m\u001b[0;34m)\u001b[0m\u001b[0;34m:\u001b[0m\u001b[0;34m\u001b[0m\u001b[0;34m\u001b[0m\u001b[0m\n\u001b[1;32m     27\u001b[0m             \u001b[0;32mwith\u001b[0m \u001b[0mself\u001b[0m\u001b[0;34m.\u001b[0m\u001b[0m__class__\u001b[0m\u001b[0;34m(\u001b[0m\u001b[0;34m)\u001b[0m\u001b[0;34m:\u001b[0m\u001b[0;34m\u001b[0m\u001b[0;34m\u001b[0m\u001b[0m\n\u001b[0;32m---> 28\u001b[0;31m                 \u001b[0;32mreturn\u001b[0m \u001b[0mfunc\u001b[0m\u001b[0;34m(\u001b[0m\u001b[0;34m*\u001b[0m\u001b[0margs\u001b[0m\u001b[0;34m,\u001b[0m \u001b[0;34m**\u001b[0m\u001b[0mkwargs\u001b[0m\u001b[0;34m)\u001b[0m\u001b[0;34m\u001b[0m\u001b[0;34m\u001b[0m\u001b[0m\n\u001b[0m\u001b[1;32m     29\u001b[0m         \u001b[0;32mreturn\u001b[0m \u001b[0mcast\u001b[0m\u001b[0;34m(\u001b[0m\u001b[0mF\u001b[0m\u001b[0;34m,\u001b[0m \u001b[0mdecorate_context\u001b[0m\u001b[0;34m)\u001b[0m\u001b[0;34m\u001b[0m\u001b[0;34m\u001b[0m\u001b[0m\n\u001b[1;32m     30\u001b[0m \u001b[0;34m\u001b[0m\u001b[0m\n",
      "\u001b[0;32m~/.conda/envs/deepgd/lib/python3.9/site-packages/torch/optim/adamw.py\u001b[0m in \u001b[0;36mstep\u001b[0;34m(self, closure)\u001b[0m\n\u001b[1;32m    108\u001b[0m                 \u001b[0mstate_steps\u001b[0m\u001b[0;34m.\u001b[0m\u001b[0mappend\u001b[0m\u001b[0;34m(\u001b[0m\u001b[0mstate\u001b[0m\u001b[0;34m[\u001b[0m\u001b[0;34m'step'\u001b[0m\u001b[0;34m]\u001b[0m\u001b[0;34m)\u001b[0m\u001b[0;34m\u001b[0m\u001b[0;34m\u001b[0m\u001b[0m\n\u001b[1;32m    109\u001b[0m \u001b[0;34m\u001b[0m\u001b[0m\n\u001b[0;32m--> 110\u001b[0;31m             F.adamw(params_with_grad,\n\u001b[0m\u001b[1;32m    111\u001b[0m                     \u001b[0mgrads\u001b[0m\u001b[0;34m,\u001b[0m\u001b[0;34m\u001b[0m\u001b[0;34m\u001b[0m\u001b[0m\n\u001b[1;32m    112\u001b[0m                     \u001b[0mexp_avgs\u001b[0m\u001b[0;34m,\u001b[0m\u001b[0;34m\u001b[0m\u001b[0;34m\u001b[0m\u001b[0m\n",
      "\u001b[0;32m~/.conda/envs/deepgd/lib/python3.9/site-packages/torch/optim/_functional.py\u001b[0m in \u001b[0;36madamw\u001b[0;34m(params, grads, exp_avgs, exp_avg_sqs, max_exp_avg_sqs, state_steps, amsgrad, beta1, beta2, lr, weight_decay, eps)\u001b[0m\n\u001b[1;32m    129\u001b[0m \u001b[0;34m\u001b[0m\u001b[0m\n\u001b[1;32m    130\u001b[0m         \u001b[0;31m# Decay the first and second moment running average coefficient\u001b[0m\u001b[0;34m\u001b[0m\u001b[0;34m\u001b[0m\u001b[0m\n\u001b[0;32m--> 131\u001b[0;31m         \u001b[0mexp_avg\u001b[0m\u001b[0;34m.\u001b[0m\u001b[0mmul_\u001b[0m\u001b[0;34m(\u001b[0m\u001b[0mbeta1\u001b[0m\u001b[0;34m)\u001b[0m\u001b[0;34m.\u001b[0m\u001b[0madd_\u001b[0m\u001b[0;34m(\u001b[0m\u001b[0mgrad\u001b[0m\u001b[0;34m,\u001b[0m \u001b[0malpha\u001b[0m\u001b[0;34m=\u001b[0m\u001b[0;36m1\u001b[0m \u001b[0;34m-\u001b[0m \u001b[0mbeta1\u001b[0m\u001b[0;34m)\u001b[0m\u001b[0;34m\u001b[0m\u001b[0;34m\u001b[0m\u001b[0m\n\u001b[0m\u001b[1;32m    132\u001b[0m         \u001b[0mexp_avg_sq\u001b[0m\u001b[0;34m.\u001b[0m\u001b[0mmul_\u001b[0m\u001b[0;34m(\u001b[0m\u001b[0mbeta2\u001b[0m\u001b[0;34m)\u001b[0m\u001b[0;34m.\u001b[0m\u001b[0maddcmul_\u001b[0m\u001b[0;34m(\u001b[0m\u001b[0mgrad\u001b[0m\u001b[0;34m,\u001b[0m \u001b[0mgrad\u001b[0m\u001b[0;34m,\u001b[0m \u001b[0mvalue\u001b[0m\u001b[0;34m=\u001b[0m\u001b[0;36m1\u001b[0m \u001b[0;34m-\u001b[0m \u001b[0mbeta2\u001b[0m\u001b[0;34m)\u001b[0m\u001b[0;34m\u001b[0m\u001b[0;34m\u001b[0m\u001b[0m\n\u001b[1;32m    133\u001b[0m         \u001b[0;32mif\u001b[0m \u001b[0mamsgrad\u001b[0m\u001b[0;34m:\u001b[0m\u001b[0;34m\u001b[0m\u001b[0;34m\u001b[0m\u001b[0m\n",
      "\u001b[0;31mKeyboardInterrupt\u001b[0m: "
     ]
    }
   ],
   "source": [
    "# def train_dis(batch, epoch):\n",
    "#     generator.requires_grad_(False)\n",
    "#     discriminator.zero_grad()\n",
    "#     generator_output = generator(batch)\n",
    "#     if config.discriminator.noise.std > 0:\n",
    "#         generator_output = generator_output + torch.randn_like(generator_output) * config.discriminator.noise.std * config.discriminator.noise.decay ** epoch\n",
    "#     discriminator_loss = get_gan_loss(batch, generator_output, mode='discriminator')\n",
    "    \n",
    "#     # train discriminator\n",
    "#     discriminator_loss.backward()\n",
    "#     discriminator_optimizer.step()\n",
    "\n",
    "#     # gradient penalty\n",
    "#     if config.gp_weight > 0:\n",
    "#         discriminator.zero_grad()\n",
    "#         gp_loss = get_gp_loss(batch, generator_output, config.gp_weight)\n",
    "#         gp_loss.backward()\n",
    "#         discriminator_optimizer.step()\n",
    "\n",
    "#     hud['dis_loss'] = format(discriminator_loss.item(), '.2e')\n",
    "#     pbar().update()\n",
    "\n",
    "def train_gen(batch, epoch):\n",
    "    generator.requires_grad_(True)\n",
    "    generator.zero_grad()\n",
    "    discriminator.zero_grad()\n",
    "    generator_output = generator(batch)\n",
    "    if config.discriminator.noise.std > 0:\n",
    "        generator_output = generator_output + torch.randn_like(generator_output) * config.discriminator.noise.std * config.discriminator.noise.decay ** epoch\n",
    "    generator_loss = get_gan_loss(batch, generator_output, mode='generator') \n",
    "    \n",
    "    #train generator\n",
    "    generator_loss.backward()\n",
    "    generator_optimizer.step()\n",
    "\n",
    "    with torch.no_grad():\n",
    "        dis_batch = dis_convert(batch, generator_output)\n",
    "        stress = stress_criterion(dis_batch).mean()\n",
    "        critic = discriminator(dis_batch).mean()\n",
    "    hud.append({'gen_loss': format(generator_loss.item(), '.2e'),\n",
    "                'stress': format(stress.item(), '.2e'),\n",
    "                'critic': format(critic.item(), '.2e')})\n",
    "    pbar().update()\n",
    "\n",
    "def cuda_memsafe_map(fn, *iterables, summary=False):\n",
    "    total, failed = 0, 0\n",
    "    iterator = zip(*iterables)\n",
    "    items = None\n",
    "    while True:\n",
    "        try:\n",
    "            items = next(iterator)\n",
    "            yield fn(*items)\n",
    "        except StopIteration:\n",
    "            if summary:\n",
    "                print(f'Iteration finished. {failed} out of {total} failed!')\n",
    "            break\n",
    "#         except RuntimeError:\n",
    "#             print('CUDA memory overflow! Skip batch...')\n",
    "#             del items\n",
    "#             failed += 1\n",
    "        torch.cuda.empty_cache()\n",
    "        total += 1\n",
    "    \n",
    "def validate(model, data_loader, criterion=val_criterion):\n",
    "    def val_one_batch(batch):\n",
    "        batch = preprocess_batch(model, batch)\n",
    "        pred = CanonicalizationByStress()(model(batch), batch)\n",
    "        gt = CanonicalizationByStress()(batch.gt_pos, batch)\n",
    "        loss = criterion(pred, batch)\n",
    "        gt_loss = criterion(gt, batch)\n",
    "        spc = (loss - gt_loss) / torch.maximum(torch.maximum(loss, gt_loss), torch.ones_like(loss)*1e-5)\n",
    "        return loss.mean().item(), spc.mean().item()\n",
    "    loss_all, spc_all = zip(*cuda_memsafe_map(val_one_batch, data_loader))\n",
    "    return np.mean(loss_all), np.mean(spc_all)\n",
    "\n",
    "def log(msg):\n",
    "    msg = f\"[{epoch:03}] {msg}\"\n",
    "    print(msg, file=open(paths.log(), \"a\"))\n",
    "    with log_out: \n",
    "        print(msg)\n",
    "\n",
    "print(f\"{'='*10} {config.link} {'='*10}\", file=open(paths.log(), \"a\"))\n",
    "hud = Hud()\n",
    "pbar = Wrapper(tqdm, total=len(train_loader), smoothing=0)\n",
    "plot_out = Output()\n",
    "log_out = Output()\n",
    "tabs = {\"status\": VBox([pbar, hud]), \n",
    "        \"plot\": HBox([plot_out], layout=Layout(height='500px', overflow_y='auto')),\n",
    "        \"log\": HBox([log_out], layout=Layout(height='500px', overflow_y='auto'))}\n",
    "tab_bar = Tab(children=list(tabs.values()))\n",
    "[tab_bar.set_title(i, name) for i, name in enumerate(tabs)]\n",
    "display(tab_bar)\n",
    "while True:\n",
    "    if epoch % config.log_interval == 0:\n",
    "        torch.save(generator.state_dict(), f\"{paths.checkpoints()}/gen_epoch_{epoch}.pt\")\n",
    "        torch.save(generator_optimizer.state_dict(), f\"{paths.checkpoints()}/gen_optim_epoch_{epoch}.pt\")\n",
    "#         torch.save(discriminator.state_dict(), f\"{paths.checkpoints()}/dis_epoch_{epoch}.pt\")\n",
    "#         torch.save(discriminator_optimizer.state_dict(), f\"{paths.checkpoints()}/dis_optim_epoch_{epoch}.pt\")\n",
    "        generator.eval()\n",
    "        with torch.no_grad():\n",
    "            val_stress, val_stress_spc = validate(model=generator, data_loader=val_loader)\n",
    "            val_xing, val_xing_spc = validate(model=generator, data_loader=val_loader, criterion=xing_criterion)\n",
    "            with plot_out:\n",
    "                fig = plt.figure()\n",
    "                graph_vis(G_list[11100], generator(make_batch(data_list[11100]).to(device)).cpu())\n",
    "                plt.show()\n",
    "#         for i, fn in enumerate(loss_fns):\n",
    "#             tensorboard.add_scalars(type(fn).__name__, {'train': train_loss_comp[i].item(), \n",
    "#                                                   'validation': val_loss_comp[i].item()}, epoch)\n",
    "        hud.append({\n",
    "            'val_stress': format(val_stress, '.2f'),\n",
    "            'val_stress_spc': format(val_stress_spc, '.2%'),\n",
    "            'val_xing': format(val_xing, '.2f'),\n",
    "            'val_xing_spc': format(val_xing_spc, '.2%'),\n",
    "        })\n",
    "        log(msg := f\"stress={hud.data['val_stress']}({hud.data['val_stress_spc']}) xing={hud.data['val_xing']}({hud.data['val_xing_spc']})\")\n",
    "    \n",
    "        tensorboard.add_scalars('Stress', {'Value': val_stress, 'SPC': val_stress_spc}, epoch)\n",
    "        tensorboard.add_scalars('Xing', {'Value': val_xing, 'SPC': val_xing_spc}, epoch)\n",
    "        tensorboard.add_figure('Rome/11100', fig, epoch)\n",
    "        tensorboard.add_text('Log', msg, epoch)\n",
    "        \n",
    "    # handle.update(tab_bar)\n",
    "    pbar().reset()\n",
    "    pbar().set_description(desc=f\"[epoch {epoch}/{config.epoch.end}]\")\n",
    "    hud(title=f\"epoch {epoch}\")\n",
    "    generator.train()\n",
    "#     discriminator.train()\n",
    "    # proper: proper layout\n",
    "#     for _ in range(config.discriminator.repeat):\n",
    "#         for batch in train_loader:\n",
    "#             train_dis(batch, epoch)\n",
    "#             if config.alternate == 'iteration':\n",
    "#                 train_gen(batch, epoch)\n",
    "\n",
    "    if config.alternate == 'epoch':\n",
    "        for batch in train_loader:\n",
    "            train_gen(batch, epoch)\n",
    "\n",
    "#     discriminator_scheduler.step()\n",
    "    generator_scheduler.step()\n",
    "\n",
    "    if epoch == config.epoch.end:\n",
    "        break\n",
    "    epoch += 1"
   ]
  },
  {
   "cell_type": "code",
   "execution_count": null,
   "metadata": {},
   "outputs": [],
   "source": [
    "data = Data()"
   ]
  },
  {
   "cell_type": "code",
   "execution_count": null,
   "metadata": {},
   "outputs": [],
   "source": [
    "data.n = torch.tensor(1)"
   ]
  },
  {
   "cell_type": "code",
   "execution_count": null,
   "metadata": {},
   "outputs": [],
   "source": [
    "Batch.from_data_list([data]).to_data_list()"
   ]
  },
  {
   "cell_type": "code",
   "execution_count": null,
   "metadata": {},
   "outputs": [],
   "source": []
  },
  {
   "cell_type": "code",
   "execution_count": null,
   "metadata": {},
   "outputs": [],
   "source": [
    "import torch_geometric as pyg"
   ]
  },
  {
   "cell_type": "code",
   "execution_count": null,
   "metadata": {},
   "outputs": [],
   "source": [
    "isinstance(pyg.data.Batch.from_data_list([pyg.data.Data()]), pyg.data.Batch)"
   ]
  },
  {
   "cell_type": "code",
   "execution_count": null,
   "metadata": {},
   "outputs": [],
   "source": [
    "type(pyg.data.Batch.from_data_list([pyg.data.Data()])) is pyg.data.Batch"
   ]
  },
  {
   "cell_type": "code",
   "execution_count": null,
   "metadata": {},
   "outputs": [],
   "source": []
  },
  {
   "cell_type": "code",
   "execution_count": null,
   "metadata": {},
   "outputs": [],
   "source": [
    "preprocess_batch(generator, data_list[0])"
   ]
  },
  {
   "cell_type": "markdown",
   "metadata": {
    "id": "0qYK_X_hrq9o"
   },
   "source": [
    "# Testdata_list"
   ]
  },
  {
   "cell_type": "code",
   "execution_count": null,
   "metadata": {
    "id": "XEvmAtNjWhcY"
   },
   "outputs": [],
   "source": [
    "test_epoch = -1\n",
    "\n",
    "test_generator = Generator(**config.generator.params[...]).to(device)\n",
    "test_ckpt_epoch = get_ckpt_epoch(paths.checkpoints(), test_epoch)\n",
    "test_ckpt_file = f\"{paths.checkpoints()}/gen_epoch_{test_ckpt_epoch}.pt\"\n",
    "print(f\"Loading from {test_ckpt_file}...\")\n",
    "test_generator.load_state_dict(torch.load(test_ckpt_file, map_location=torch.device(device)))"
   ]
  },
  {
   "cell_type": "code",
   "execution_count": null,
   "metadata": {
    "id": "ZubmSTcYrq9o"
   },
   "outputs": [],
   "source": [
    "rotate = RotateByPrincipalComponents()\n",
    "def test_callback(*, idx, pred, metrics):\n",
    "    # graph_vis(G_list[idx], pred, file_name=f\"{paths.visualization()}/{idx}_{metrics['stress']:.2f}_{metrics['resolution_score']:.2f}.png\")\n",
    "    pred = rotate(torch.tensor(pred), data_list[idx])\n",
    "    graph_vis(G_list[idx], pred)\n",
    "    plt.title(f\"[pred] idx: {idx}, stress: {metrics['stress']:.2f}({metrics['stress_spc']:.2%}), xing: {metrics['xing']:.2f}({metrics['xing_spc']:.2%})\")\n",
    "    plt.show()\n",
    "    gt_pos = rotate(data_list[idx].gt_pos, data_list[idx])\n",
    "    graph_vis(G_list[idx], gt_pos, node_color='orange')\n",
    "    plt.title(f\"[gt] idx: {idx}, stress: {load_ground_truth(idx, 'stress')}, xing: {load_ground_truth(idx, 'xing')}\")\n",
    "    plt.show()\n",
    "    \n",
    "test_metrics = test(model=test_generator, \n",
    "                    criteria_list=[], \n",
    "                    dataset=data_list, \n",
    "                    idx_range=range(10000, 11000), \n",
    "                    callback=test_callback,\n",
    "                    gt_file='gt.csv')\n",
    "pickle.dump(test_metrics, open(paths.metrics(\"test\"), \"wb\"))"
   ]
  },
  {
   "cell_type": "code",
   "execution_count": null,
   "metadata": {
    "id": "t2rFXIr_PsrJ"
   },
   "outputs": [],
   "source": [
    "metrics = test_metrics\n",
    "print('stress:', metrics['stress'].mean())\n",
    "print('stress_spc:', metrics['stress_spc'].mean())\n",
    "print('xing:', metrics['xing'].mean())\n",
    "print('xing_spc:', metrics['xing_spc'].mean())\n",
    "print('l1_angle:', metrics['l1_angle'].mean())\n",
    "print('l1_angle_spc:', metrics['l1_angle_spc'].mean())\n",
    "print('edge:', metrics['edge'].mean())\n",
    "print('edge_spc:', metrics['edge_spc'].mean())\n",
    "print('ring:', metrics['ring'].mean())\n",
    "print('ring_spc:', metrics['ring_spc'].mean())\n",
    "print('tsne:', metrics['tsne'].mean())\n",
    "print('tsne_spc:', metrics['tsne_spc'].mean())\n",
    "print('reso_score:', metrics['resolution_score'].mean())\n",
    "print('min_angle:', metrics['min_angle'].mean())\n",
    "pd.DataFrame(map(lambda m: f\"{metrics[m].mean().item():.4f}\", list(metrics.keys())[:-1])).T"
   ]
  },
  {
   "cell_type": "markdown",
   "metadata": {
    "id": "L5S1HWnHOWIl"
   },
   "source": [
    "# Large Graph"
   ]
  },
  {
   "cell_type": "code",
   "execution_count": null,
   "metadata": {
    "id": "_pefPcV1OZdD"
   },
   "outputs": [],
   "source": [
    "scalability = pd.read_csv(f\"/__artifacts__/data/scalability.csv\", index_col=\"index\")\n",
    "scalability"
   ]
  },
  {
   "cell_type": "code",
   "execution_count": null,
   "metadata": {
    "id": "oMhWAsdvPnTX"
   },
   "outputs": [],
   "source": [
    "rescale = CanonicalizationByStress()\n",
    "stressfn = Stress()\n",
    "rotate = RotateByPrincipalComponents()"
   ]
  },
  {
   "cell_type": "code",
   "execution_count": null,
   "metadata": {
    "id": "LR83OcAaPID5"
   },
   "outputs": [],
   "source": [
    "stress_list = []\n",
    "spc_list = []\n",
    "pmds_list = np.load(\"layouts/new_large_graph/pmds.npy\", allow_pickle=True)\n",
    "gviz_list = np.load(\"layouts/new_large_graph/gviz.npy\", allow_pickle=True)\n",
    "with torch.no_grad():\n",
    "    for idx, col in tqdm(scalability.iterrows(), total=len(scalability)):\n",
    "        # if idx not in [406, 516]: continue\n",
    "        torch.cuda.empty_cache()\n",
    "        G = load_mtx(col['file'])\n",
    "        G.remove_edges_from(nx.selfloop_edges(G))\n",
    "        data = generate_data_list(G, \n",
    "                                sparse=data_config.sparse, \n",
    "                                pivot_mode=data_config.pivot,\n",
    "                                init_mode=data_config.init,\n",
    "                                edge_index=data_config.edge.index,\n",
    "                                edge_attr=data_config.edge.attr,\n",
    "                                pmds_list=pmds_list[idx],\n",
    "                                gviz_list=gviz_list[idx],\n",
    "                                device=device)\n",
    "        batch = Batch.from_data_list([data]).to(device)\n",
    "        # generator.train()\n",
    "        # generator(batch)\n",
    "        generator.eval()\n",
    "        pred = generator(batch)\n",
    "        pos = rotate(rescale(pred, batch), batch)\n",
    "        gt = rotate(rescale(batch.gt_pos, batch), batch)\n",
    "        stress = stressfn(pos, batch).item()\n",
    "        gt_stress = stressfn(gt, batch).item()\n",
    "        spc = (stress - gt_stress) / np.maximum(stress, gt_stress)\n",
    "        stress_list.append(stress)\n",
    "        spc_list.append(spc)\n",
    "\n",
    "        np.save(f\"/__artifacts__/gan_result/data/scalability_{idx}.npy\", pos.cpu().numpy())\n",
    "        graph_attr = dict(node_size=1, \n",
    "                        with_labels=False, \n",
    "                        labels=dict(zip(list(G.nodes), map(lambda n: n if type(n) is int else n[1:], list(G.nodes)))),\n",
    "                        font_color=\"white\", \n",
    "                        font_weight=\"bold\",\n",
    "                        font_size=12,\n",
    "                        width=0.1)\n",
    "\n",
    "        # gt_pos = pickle.load(open(f\"/__artifacts__/data/scalability_{idx}_gt.pkl\", \"rb\"))\n",
    "\n",
    "        plt.figure(figsize=[12, 9])\n",
    "        nx.draw(G, pos=gt.cpu().numpy(), node_color='orange', **graph_attr)\n",
    "        plt.title(f\"neato: large_{idx}\")\n",
    "        plt.axis(\"equal\")\n",
    "        plt.savefig(f\"/__artifacts__/gan_result/output/{idx}_{col['name']}_{col['n']}_{spc}_nx.png\", dpi=300)\n",
    "        plt.show()\n",
    "\n",
    "        plt.figure(figsize=[12, 9])\n",
    "        graph_vis(G, pos.cpu().numpy(), **graph_attr)\n",
    "        plt.title(f\"dgd: large_{idx}, spc={spc:.2%}\")\n",
    "        plt.axis(\"equal\")\n",
    "        plt.savefig(f\"/__artifacts__/gan_result/output/{idx}_{col['name']}_{col['n']}_{spc}_dgd.png\", dpi=300)\n",
    "        plt.show()"
   ]
  },
  {
   "cell_type": "code",
   "execution_count": null,
   "metadata": {
    "id": "gRXTewkYeuq1"
   },
   "outputs": [],
   "source": []
  }
 ],
 "metadata": {
  "accelerator": "GPU",
  "colab": {
   "collapsed_sections": [
    "w_p3OD0woiSM",
    "DR6-vYtr_i_P",
    "innqkwvH_ydD",
    "f-ODE2k8BFV6"
   ],
   "machine_shape": "hm",
   "name": "GAN(gan=rgan,data=best(xing,stress),dis=deep,share=10,embed=6,gp=0).ipynb",
   "provenance": []
  },
  "kernelspec": {
   "display_name": "DeepGD",
   "language": "python",
   "name": "deepgd"
  },
  "language_info": {
   "codemirror_mode": {
    "name": "ipython",
    "version": 3
   },
   "file_extension": ".py",
   "mimetype": "text/x-python",
   "name": "python",
   "nbconvert_exporter": "python",
   "pygments_lexer": "ipython3",
   "version": "3.9.7"
  },
  "widgets": {
   "application/vnd.jupyter.widget-state+json": {
    "state": {
     "1615303f45ac4c80aa439aabe2ee9d01": {
      "model_module": "@jupyter-widgets/base",
      "model_module_version": "1.2.0",
      "model_name": "LayoutModel",
      "state": {}
     },
     "207273a8f317428884b7f9162e92442a": {
      "model_module": "@jupyter-widgets/base",
      "model_module_version": "1.2.0",
      "model_name": "LayoutModel",
      "state": {}
     },
     "21f97c9c13ec4f16bfa960edcdae4761": {
      "model_module": "@jupyter-widgets/base",
      "model_module_version": "1.2.0",
      "model_name": "LayoutModel",
      "state": {}
     },
     "272083a9cee5420e9a7b210676f1d838": {
      "model_module": "@jupyter-widgets/output",
      "model_module_version": "1.0.0",
      "model_name": "OutputModel",
      "state": {
       "layout": "IPY_MODEL_1615303f45ac4c80aa439aabe2ee9d01",
       "outputs": [
        {
         "data": {
          "application/vnd.jupyter.widget-view+json": {
           "model_id": "6937ea202b96493bb3b03e3c3a163e21",
           "version_major": 2,
           "version_minor": 0
          },
          "text/plain": "  0%|          | 0/157 [00:00<?, ?it/s]"
         },
         "metadata": {},
         "output_type": "display_data"
        }
       ]
      }
     },
     "4095c90502d94033a9ff6e6809ed891e": {
      "model_module": "@jupyter-widgets/base",
      "model_module_version": "1.2.0",
      "model_name": "LayoutModel",
      "state": {
       "height": "500px",
       "overflow_y": "auto"
      }
     },
     "4227e6733de74930b500bc5649593f10": {
      "model_module": "@jupyter-widgets/base",
      "model_module_version": "1.2.0",
      "model_name": "LayoutModel",
      "state": {}
     },
     "491472bdbaf4486a84e19f0392963913": {
      "model_module": "@jupyter-widgets/base",
      "model_module_version": "1.2.0",
      "model_name": "LayoutModel",
      "state": {}
     },
     "6262436f683f4e3fba701e4d6ca9c9a0": {
      "model_module": "@jupyter-widgets/controls",
      "model_module_version": "1.5.0",
      "model_name": "TabModel",
      "state": {
       "_titles": {
        "0": "status",
        "1": "plot",
        "2": "log"
       },
       "children": [
        "IPY_MODEL_d5e601dfa684420fb6622611f11251dc",
        "IPY_MODEL_d91ddad1c90e402e98743f7bed73c167",
        "IPY_MODEL_ad6602d53b0f46c8a5333c38217090aa"
       ],
       "layout": "IPY_MODEL_677842daa7db4a7ab7ea99d68169fa69"
      }
     },
     "631f8141bc29400eb65e1651b8b098b6": {
      "model_module": "@jupyter-widgets/controls",
      "model_module_version": "1.5.0",
      "model_name": "ProgressStyleModel",
      "state": {
       "description_width": ""
      }
     },
     "677842daa7db4a7ab7ea99d68169fa69": {
      "model_module": "@jupyter-widgets/base",
      "model_module_version": "1.2.0",
      "model_name": "LayoutModel",
      "state": {}
     },
     "6937ea202b96493bb3b03e3c3a163e21": {
      "model_module": "@jupyter-widgets/controls",
      "model_module_version": "1.5.0",
      "model_name": "HBoxModel",
      "state": {
       "children": [
        "IPY_MODEL_ffbf7bc8bd86484fa65d3f74d5db4734",
        "IPY_MODEL_a342b6a7493b4dd98cee366ec7db8201",
        "IPY_MODEL_a024dff5a8634c7b9506c80b15b556bf"
       ],
       "layout": "IPY_MODEL_21f97c9c13ec4f16bfa960edcdae4761"
      }
     },
     "6fb08030bee84861819d50a71d635a55": {
      "model_module": "@jupyter-widgets/base",
      "model_module_version": "1.2.0",
      "model_name": "LayoutModel",
      "state": {}
     },
     "719234f44599428b91386b40e9fe9321": {
      "model_module": "@jupyter-widgets/base",
      "model_module_version": "1.2.0",
      "model_name": "LayoutModel",
      "state": {}
     },
     "7659cf5f48cb4895a8790c4c283e64dc": {
      "model_module": "@jupyter-widgets/controls",
      "model_module_version": "1.5.0",
      "model_name": "DescriptionStyleModel",
      "state": {
       "description_width": ""
      }
     },
     "91bcbb68c26b48d28a71603c7341291b": {
      "model_module": "@jupyter-widgets/controls",
      "model_module_version": "1.5.0",
      "model_name": "DescriptionStyleModel",
      "state": {
       "description_width": ""
      }
     },
     "99949baf5d25435fb50d8d2b06ad4ea0": {
      "model_module": "@jupyter-widgets/base",
      "model_module_version": "1.2.0",
      "model_name": "LayoutModel",
      "state": {}
     },
     "a024dff5a8634c7b9506c80b15b556bf": {
      "model_module": "@jupyter-widgets/controls",
      "model_module_version": "1.5.0",
      "model_name": "HTMLModel",
      "state": {
       "layout": "IPY_MODEL_f2ace6d9e5594f20833757d6c37245cc",
       "style": "IPY_MODEL_91bcbb68c26b48d28a71603c7341291b",
       "value": " 47/157 [00:08&lt;00:19,  5.57it/s]"
      }
     },
     "a342b6a7493b4dd98cee366ec7db8201": {
      "model_module": "@jupyter-widgets/controls",
      "model_module_version": "1.5.0",
      "model_name": "FloatProgressModel",
      "state": {
       "layout": "IPY_MODEL_719234f44599428b91386b40e9fe9321",
       "max": 157,
       "style": "IPY_MODEL_631f8141bc29400eb65e1651b8b098b6",
       "value": 47
      }
     },
     "a38eb5ffca67476db881f922ee9e4812": {
      "model_module": "@jupyter-widgets/output",
      "model_module_version": "1.0.0",
      "model_name": "OutputModel",
      "state": {
       "layout": "IPY_MODEL_99949baf5d25435fb50d8d2b06ad4ea0",
       "outputs": [
        {
         "name": "stdout",
         "output_type": "stream",
         "text": "[1326] stress=1191.70(70.57%) xing=84.64(68.13%)\n[1327] stress=1192.09(70.54%) xing=83.50(67.97%)\n[1328] stress=1191.64(70.61%) xing=87.00(69.27%)\n[1329] stress=1191.46(70.41%) xing=86.11(68.22%)\n[1330] stress=1188.91(70.44%) xing=84.56(67.93%)\n[1331] stress=1190.22(70.40%) xing=85.58(67.92%)\n[1332] stress=1187.74(70.37%) xing=85.36(68.87%)\n"
        }
       ]
      }
     },
     "a514622e0ec1434b8539dc2fdb454983": {
      "model_module": "@jupyter-widgets/output",
      "model_module_version": "1.0.0",
      "model_name": "OutputModel",
      "state": {
       "layout": "IPY_MODEL_207273a8f317428884b7f9162e92442a",
       "outputs": [
        {
         "data": {
          "text/html": "<div>\n<style scoped>\n    .dataframe tbody tr th:only-of-type {\n        vertical-align: middle;\n    }\n\n    .dataframe tbody tr th {\n        vertical-align: top;\n    }\n\n    .dataframe thead th {\n        text-align: right;\n    }\n</style>\n<table border=\"1\" class=\"dataframe\">\n  <thead>\n    <tr style=\"text-align: right;\">\n      <th></th>\n      <th>val_stress</th>\n      <th>val_stress_spc</th>\n      <th>val_xing</th>\n      <th>val_xing_spc</th>\n      <th>gen_loss</th>\n      <th>stress</th>\n      <th>critic</th>\n    </tr>\n  </thead>\n  <tbody>\n    <tr>\n      <th>epoch 1332</th>\n      <td>1187.74</td>\n      <td>70.37%</td>\n      <td>85.36</td>\n      <td>68.87%</td>\n      <td>2.41e+05</td>\n      <td>-1.28e+03</td>\n      <td>-3.77e+03</td>\n    </tr>\n  </tbody>\n</table>\n</div>",
          "text/plain": "           val_stress val_stress_spc val_xing val_xing_spc  gen_loss  \\\nepoch 1332    1187.74         70.37%    85.36       68.87%  2.41e+05   \n\n               stress     critic  \nepoch 1332  -1.28e+03  -3.77e+03  "
         },
         "metadata": {},
         "output_type": "display_data"
        }
       ]
      }
     },
     "ad6602d53b0f46c8a5333c38217090aa": {
      "model_module": "@jupyter-widgets/controls",
      "model_module_version": "1.5.0",
      "model_name": "HBoxModel",
      "state": {
       "children": [
        "IPY_MODEL_a38eb5ffca67476db881f922ee9e4812"
       ],
       "layout": "IPY_MODEL_4095c90502d94033a9ff6e6809ed891e"
      }
     },
     "b45d701a73894fdea6892e55140b951d": {
      "model_module": "@jupyter-widgets/base",
      "model_module_version": "1.2.0",
      "model_name": "LayoutModel",
      "state": {
       "height": "500px",
       "overflow_y": "auto"
      }
     },
     "c2e7784774b1434fbd33cec3519a974a": {
      "model_module": "@jupyter-widgets/output",
      "model_module_version": "1.0.0",
      "model_name": "OutputModel",
      "state": {
       "layout": "IPY_MODEL_491472bdbaf4486a84e19f0392963913",
       "outputs": [
        {
         "data": {
          "image/png": "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\n",
          "text/plain": "<Figure size 432x288 with 1 Axes>"
         },
         "metadata": {},
         "output_type": "display_data"
        },
        {
         "data": {
          "image/png": "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\n",
          "text/plain": "<Figure size 432x288 with 1 Axes>"
         },
         "metadata": {},
         "output_type": "display_data"
        },
        {
         "data": {
          "image/png": "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\n",
          "text/plain": "<Figure size 432x288 with 1 Axes>"
         },
         "metadata": {},
         "output_type": "display_data"
        },
        {
         "data": {
          "image/png": "iVBORw0KGgoAAAANSUhEUgAAAb4AAAEuCAYAAADx63eqAAAAOXRFWHRTb2Z0d2FyZQBNYXRwbG90bGliIHZlcnNpb24zLjQuMywgaHR0cHM6Ly9tYXRwbG90bGliLm9yZy/MnkTPAAAACXBIWXMAAAsTAAALEwEAmpwYAAAfRklEQVR4nO3de3Sc9X3n8c/zPHPRaEYjWZIlLOMbFzsQc7+mxzTbAClJbHBokt2kZMmFhCZ7egjdbk6zm5NC0/Zk2z1kk9OQeu1QIGVDm7YhpN5AIAUKIcFwwAl3G+P7RbIkW5cZaWaey/5hz3hGGs08kmV5zO/9OucHI3k0eubRzHye3+/5/n6PFQRBIAAADGGf7A0AAGAuEXwAAKMQfAAAoxB8AACjEHwAAKMQfAAAoxB8AACjEHwAAKMQfAAAoxB8AACjEHwAAKMQfAAAoxB8AACjEHwAAKMQfAAAoxB8AACjEHwAAKMQfAAAoxB8AACjEHwAAKMQfAAAoxB8AACjEHwAAKMQfAAAoxB8AACjEHwAAKMQfAAAoxB8AACjEHwAAKMQfAAAoxB8AACjEHwAAKMQfAAAoxB8AACjEHwAAKMQfAAAoxB8AACjEHwAAKMQfAAAoxB8AACjEHwAAKMQfAAAoxB8AACjEHwAAKMQfAAAoxB8AACjEHwAAKMQfAAAoxB8AACjEHwAAKMQfAAAoxB8AACjEHwAAKMQfAAAoxB8AACjEHwAAKMQfAAAoxB8AACjEHwAAKMQfAAAoxB8AACjEHwAAKMQfAAAoxB8AACjEHwAAKMQfAAAoxB8AACjEHwAAKMQfAAAoxB8AACjEHwAAKMQfAAAoxB8AACjEHwAAKMQfAAAoxB8AACjEHwAAKMQfAAAoxB8AACjEHwAAKMQfAAAoxB8AACjEHwAAKMQfAAAoxB8AACjEHwAAKMQfAAAoxB8AACjEHwAAKMQfAAAoxB8AACjEHwAAKMQfAAAoxB8AACjEHwAAKMQfAAAoxB8AACjEHwAAKMQfAAAoxB8AACjEHwAAKMQfAAAoxB8AACjEHwAAKMQfAAAoxB8AACjEHwAAKMQfAAAoxB8AACjEHwAAKMQfAAAoxB8AACjEHwAAKMQfAAAoxB8AACjEHwAAKMQfAAAoxB8AACjEHwAAKMQfAAAoxB8AACjEHwAAKMQfAAAoxB8AACjEHwAAKMQfAAAoxB8AACjEHwAAKMQfAAAo0RO9gZg9u0cyGj902/roc37lMm5SsYjWnthjz531Rla0pE82ZsHACeVFQRBcLI3ArPniTf79MUHXlTB8+X6x/60EdtS1LF19+9frN9Z0XUStxAATi6C7x1k50BG133raY0VvCnvk4g6euS2q+j5ATAW5/jeQdY//bYKnl/zPgXP14Znts/RFgFA4yH43kEe2ryvYnizGtcP9KOX9s7RFgFA46G45R0kk3ND3W90PK8bbrhBixcv1tKlS9XV1aWOjg61t7ero6NDHR0damtrk21zXATgnYfgazDTrcgMgkCvvPKKNm7cKLnLpUi87u+wvIJeffVVPfXUUxoZGVEikVAsFpNt2/J9X+Pj48rlckqn05o/f34pDMtbeUiWt0QiIcuyTsSuAYBZQXFLA5mqItM5miPRiK1cwVdzzNElHZ6sLU/oyZ/8UI7jaPXq1Ro6+zr94oBqDndGbEsfv3yxvn7DSklSPp/Xnj17tGPHjoq2fft2bd++XX19fers7FRnZ6daW1vV3NysaDQqy7LkeZ6y2awOHTqkgYEBDQwMKAiC0EGZi6a1cduYHnlzUNmcx7SLGWL6CjA9BF+DCFORWcH3FLEtfe3qHn3y6otlWdYJqerM5/PavXv3pGAstr6+PvX09Gjp0qVaunSpFi5cqI6ODqXTaTU3N8uyLB0+fFgDAwMaHBwsBeTeoE2D53xYgeXIcsoGHnxPVuDrnIFndFYyXzM8W1pajO9dHu/0FUITJiL4GsRXH3pZDz6/u25xykQTg2yu5/FNNxiXLl2qdM8Z+u7OduVrZHzUCnRTx055Q72lsJwYnrlcTu3t7VMOu1b7fnt7u+Lx+sPBjWhiSCVijnKuL6/Ga6bWgQ5zPmEqgq9BrLzjUY2GLE4pZwW+Fud36TJ7uxKJhBKJhHLRtH6T79Rr2aTyvqW4I115mqPVZzVraWeydL+mpqbS7Xg8Pqu9p+KH9I9e2qts3lPckd6dzGhRZoueG0ppf/MZku1M+fOOJa05t13/6z9dpkik+qnoXC5XCsLyQJwqKItfx2Kx0Ocsi98/2cU+U4VUGMu7Ulr/ny+tCD/mfMJkBF8DKBQKOvtrj0qaWfAE+TE5P/qyLMsqNelI4Uux+b4v3/fleZ5c161o+XxerusqFospFoupqamp1IoB2dzcrGQyWWrFwKwWorsKKT2wMyHPt1T+sepYUtSxFMhSzq0931CS/FxW+779cbW2tqq7u7vUczzrrLO0YsUKrVy5UsuWLZsyGKvuqyDQyMhI1aCsFZ4jIyNqa2sLHZTF1tzcHGq7ag05SpreMHgViahT0YMLM8Iw8Xww8E5B8J1EO3bs0Pr163XPPfeo6abvKAhRkVmNJem+D7Qol8spl8uVqjLLW7XvlX9/fHxcY2NjGhsbK90uv18+n1c+n1ehUJDrunIcR5FIRI7jyHEc2bZ9pKW7lfzIX8iKTv1cgiAI1bsMAl/+A18sBXShUCiFtOu6Kn/pxuNxJRIJtbS0aN68eeru7taiRYu0ePFinXbaaerq6lJ3d7cWLFigzs5OpVKpafVwXdetKOKZKigPjLrqaz9PuQUXSNG4gvy4gu2b1Lr/ec1PWBWh6LR26/WgR5tHEnL96tvi2JYuWzpPL+w4NO2e3kRNEUt3vX++kn5Wtz42onGv/vNPxSN65Y7fPa7fCzQagm+Oua6rjRs3at26ddq0aZNuuukmff7zn9fdmwa08c0hBTPo9c31h1MQBMrn81VD9du/7NPjb2fl1XxVBQrTu7UK42r+6dcmBW8xfMsDsFpPN4xSYNu2IpGIotGoYrGY4vF4qafb0tKilpYWtba2qq2tTS0tLUomk0qlUkqlUmppaVE6ndb2XLO+szkn1w8qnr9jHek9feH8qBZah/XWgcN6+ECL9nupo0+0zr4Igvr3CSHwXAVbn1bhVw8odvP60AcfmQ2fVnd3t7q7u0sHENW+7urqUiKROO7tBE405vHNkT179mjDhg3asGGDlixZoltuuUVf+tKX9LOf/Uxr165V1m5WfO2d8qzp/UkitqUPX7TwBG11dZZlKR6PKx6Py/M8DQ0NKZ/PK5vN6qkd9UJPkqz6vT7fU7L/VXV0dlYM4U5s0uQh3fKhXdd1K3qyxZAuhqjnHRs+LH4vm81WPGYxRGuFaaTtNC34zN/IjjVN+jcvkDwv0F3PDWvwsf+j9t/9L7KcSPge5yyde7WciKwz36NL3Tf1ujy5Id7+LU0xPf/aa+rt7VVfX596e3tL7a233irdLv5bPB4PFZLd3d1U5eKkocc3A2FLwD3P0yOPPKJ169bpF7/4hW688UatWLFCmzdv1k9/+lMtXbpUa9as0fXXX6+LLrpIT245OO0ChtkoQPA8T4cPH9ahQ4em3UZGRkrDi+3t7Rq49s5QH9R1g8/Nq/XZv5FG++V5XkVzXbfq7fKvXdeVbdsVQ7KRSGRScxynFJTFnysUCqUebKFQKPX8ij284jnOpqYmRaNReZ6nPQtWabhzZc2CncArSLIqp2/MtSDQJVv/Tts7LtfgvHNqbq98T90jW3Wp9bY6OztLQ7Tlt8unlQRBoKGhoaohWe1r13Un9RinCsr29nZWEsKsIfimKUwJ+IoWV/fcc4/Wr1+vtrY2nXvuuert7dULL7ygVatW6frrr9fq1at1+umnT3r8nQMZbXhmu3700l5l8q7ijq2CH8hSoPJ6kIkl5zMNr8HBQY2OjiqdTmvevHnTbq2trXKcYx+eYatTm6K2giCQ61UOC8r3JN/V4MN/pcTh7Vq8eLGWLFmixYsXT2rz58+fMjyDIJDneaWh0fJWPmRar2WzWfX29urAgQPq6+vTwYMHdfDgQQ0ODmpwcFCZTObIMOhnN8iK1R/mC3t+80Rx/ILO33Kf+rKB9p5/sxSJTXlfyytoyWsPKF4Yrtif2WxWmUxGIyMjOnTokAqFQkUQTgzGaqHZ1tamXC6nF7fu1n2/2q1/3z2unCdF5asnv1dtB17Q0N5tpaAcGRlRZ2dnqJCcP3++otHoHO5VM0w84I/YlgIdWTAjdYrN/yT4piFMCbjtFzT4wB/rjK60RkZGNDQ0pNWrV2vNmjW69tprlUqlpvzZqcLr7b5hPXMwpjfzbXLlyPYLSh18VXrzCQ3v26ZDhw7VDa/29vYp/y2dTleE1/GYTrXgLauWVYR8MhbRhy9aqFtWLdOieQn19vZq165d2rVrl3bu3Fm6XWyZTKZqIBbD8vTTT1dT0+Shx9mUy+W0e/duXfO9N0/o75kNxXN8za//q1pbWxVdcqH2LfugAstWYB3rTVny5SjQVfYWdbkHlcvlNDY2pmw2q6GhoUmvT9d11draqlQqpebmZjU1NSkSici27YrAHBsbUyaTUcZKyHn3+5VcebWsYvCWHQxY8hWxpE+d5WnVmfNKvUrf93Xo0CG9suOAfrI1q82HYyoEtpzAVar/NXmvPab+7a9rYGBA6XS65jBr+deNfF7yZC4wUP67iwezlo6coa/mVJr/SfBNUOuFtv7pt+t+qAeeK2f7L/X+jsO67LLL1NPTo+HhYQ0ODtbtfWUymePqeTXCUNBczg/LZDLavXt31VDctWuX9uzZo3nz5lUNxeLtzqPnEI/XTOdhziXbd3Xmlgc1sn+7BgcHNTQ0pKzdrNh51ym58n2yYk1SYVz+288peP3x0jBzsZc8NjYmSaVintbWVqXTaSWTScXjccVisVKFr3Skd1ucLpPL5Y4sb5fo0cj5H5u8Yk81bl72o99QbmCPMpmMRkdH1bLiSqU/+EeybEeyj/28JV+OJX1y6biuXJIuDUHncjkNDw9XDLVOHHaNx+N1z0cWv06n03PWYz+ZCwwcz7zRpoitR7/02w3d8yP4ytR7oQVBoPEQ88+CfFaRh/4kVGCV98TS6XRDhNfxCIJAX/3OD/T3O5pkR6MKyq58NddHhJ7nVfQay1sxLMfGxkrTHqoNq4btNc505Z25UG+/15uqUX67v79f/f39GhwclO/7pYrX5ubmUvhFIscKd4oFRvl8Xlknqdz7/qussNN2fE+JfS8q+fq/Hvl5u1mFa75cc6qM3Jz8jX+uwqH9Gh8fVyaTkSS1tbWpvb1d8+fPLw2HFuddJpPJ0gLtxZAuD8vyoCwUCqFDsqOjY8bv57BLGDbHHN140cKqPcCZ9haf3davT37vuRBFalN734ou3fOpy2b+ACcYwXdUuBdayDJ8S9r+lx+atW2bqbkeJunr69Ott96qbdu26a+/e6+e6Y9VHcZspCPB0dFR7d69e8oh1b1795Z6jVOda8xYCX3z51v14837TtrzcCzp+5+9QgvbElMOH8/2fh8bG5syIKutmDO8/ANyll8lywl//s328lr+m3XK5/M6cPp7lV1wYUVPb6LAc6W3npH90j+VCm5c1y1V8hareovTVqLRaKmX6vt+qbCpUCgolUqptbW1dG6yGJjxeLxUFOV5Xilgh4aG1N/fXwrJ4eFhdXZ2hgrKrq6uivOS0zmQqnZgM9Pe4hNv9umW+1+ouQxeWE/98X9oqPd6OYLvqDAvtLCFCY0w6Xeuh0kefvhh3Xrrrbr55pt15513nrLrYU5U3musNqS6129V07V/KMuOnJBqTVtSPOroD957hv72qbdP6XU1ZzQcHAQ6b+e/SKMH9co5n1bg1H9d+bmMBtZ9uqJytzhX88hDBhVVwBPnhJbff+LKR77vl6qFbdsuhWsxNGOxmFpaWko9zHQ6rVQqVbr0l+/7pWHf4eFhHT58WAcPHlR/f7/S6XQpFHddcZt8e+rCo2qKpxCk+iv9JKKOvv+JcxTNHS4F9Rt7+vWDoTPkT3NK1VQ+eeWShl31h+A7KvSbss5k4kZY5mm2z7PV6jnOi3q6/fbb9eSTT+q+++7TqlWrZvOpTGtbTtTR5fDwsLZu3aotW7ZUtG29Q2r52DdqD70dh6aIrY9euqjUW3t2W7/uePhVbekbLd1neVdKd1z/bv3WmZ0nZBtm07KvbJyyMKKW4nJrn7n3+VA/HwS+cvd+rtRzy+Vycl23tEBBeSBOXHno2GNUhp3neRVTXopDuMV5o9NZNKGa8uk2sVhMLZ+/f/rnEn1P7Ydel+M4Oti6XLJqT63Jv/6k7Bd/KMuylMvlZP3Wp5V411WyZul0SyN0AKZC8B0V/k1Ze7izERb2nc11GGv1HG0rUP7f7ta17+7RXXfdpZaWlll7DtPdluPt9eRyOW3btq0UauVBNzw8rLPPPlvLly+vaP+009FDvzk4s/N6QaDia6n405Yky89rYX6PrmzL6rxlC0rDqdvGmnTbP75sXo/vqIh8uW4h1IWWq33gFlcbKl9xqHh7qv+HuU+1+xaX/MtmsxoO4souulLeokukaJNUGNP4G09r5PmHlB/cVwrOiRbd/o+y4+HWeS3n5zKSrFA/6+cy2vutjysSiSi1/AqlPvTlWS3caZRTPtUQfEeFfVMmorYk66R+ANWbs/e9oXPlhhiusNycznvzXjU3N5cWqC62aDSqXLRF/y+4UK5qXEVBnv70sogWtsYnPcZULRqNTvuk/2z0Yj3P065duyYF25YtW7Rv3z4tWbJkUrgtX75cPT09sixLY2NjFfv5s48cVi7EepfVROTpI8ktmhf15DiO8vl8afpL8W97+PDhI9XABUdNN35ddnTqIpuoHeiOy2PqSR87Z1Xem5nO7Xr3K177cbo979v+4SU9vHnfjHp9Cjy1NzkazNXZrw0w4lIU9kAtCIJSz7QYnt/4+Q5tfP3Q9AtMih/nIZejy37vMwqSnUp+5M9l1Xh9zQQ9vlPAbf/wUqjihLUX9uj2a5YfdwFBcamviZPJw044b21tnbJS9EFrlcIU4QSBr/13/Z4SiUSpwq2trU2tra1qaWnR9o7LtSu6qGKO1+QH8dTW/6o6tj9eOqIO04pDOlM1dS9XZsUH5SbnV/6+Gm9oS77OjQ7qcmdHaV/19/fr4MGDpQno6XRaCxYsUFdXlzo6OjRv3jy1tLQoFotpfHxcw8PDGhkZ0fDwsIaHhyv2ve/7FdW4e6/6yrSXE7Pky1ag37a36DR/oGIIrdjKv/Z9X2+kLtD+5Bl1h65Gf/2oxp6+r1RdWTzIKB/WK57fqvc7p7rt+74SZ16qzrV/Ist2KgpVAs+VfE+FJ+6W9r9WGZYLV8q78lOSE5v5Emwh1iy1fFeX9j2itohbWlav2Cbui1rteO/Xm/H0Bz/epXF36o/Xpqitn3zhStmOo797dmfFdRa7WuLaMZCd2X4KKRWP6Ln/tkp/9INNemxbRv4Mrw5TTSMdgFRD8B1124Mv6se/3l/3fmsv7NH//o8XSTpSql0Mr7ChVb7UV705e1NNOq83Zy9s7zUVj+g3X7tWvb292rlzp3bs2KGdO3eWbr927mePDM+EeJzpHNlNnN9VfoWIXC6nB349qB++MRb68cr5uYz2ffsTpWo9y7ImnZuZeFWJ8uGdiZdv8jyvIqTLQ8Vd+z9D7Z/iUXhEnpaqVysjfeqIB6F7yF/8t6zGQowQJmO2vn9Dt/bt26c9e/aUqlWLRTn79u1TZ2dnzUn/7e3tNYe7dvSP6gPffqZmz7spYuu+j6/QglREvu9r96Ex3fIv25WrEQKh1Au+IFCw92XlH//2pBV4ikvYTVyubmIrX7TcsqzS/yeuD3vsVx5bx7V42/d9FS74PQXLrpRqFDwFXkHjOzYrvug8Wc6Eg4gTvMJP4Lkae+VxDTx6t07/0oOyYtMfVq2lEU751MIi1Uf9/I2Doe73o03bdP8Xri5dticWi5XWbSy24sr+5Uebra2t6urqKh2Fx2KxKRdV7u3t1f79+yu+X+2+U912Tn+vVGfdSPme3Lc26fLL/8eUj6fzwxVtjIzn1dXVFXr7yp+LpNIHjG3bii9aqfaP/tmM3/RWLHFkvuX4uCRVDNMlEokZHd1P9SF4qP81jXZfUHc/p3p/rfa3HzuyXUGg56tcJ3HiNRPL/5+/8a5QvaTRnKtLLrmkcn+U7VvbtktDqC+//LKkYx/YxV5dEAQVV6dIJBIV65QePus6jbW/q2bvM1dw9d/ve0yXWdsViUT0fHCG8v58ScdZNFFvH1iW7NNW6IILLiitIlNcWzWVSlUctBT/thPDrHylmfJLddVq2Wx20vfaV18su06Vr+VElTiz+ly3Ez5J3nc1vOmhI9XX0dlbuaZ8GLdRQ096BwbfxGV2IrYlS0fWk6t1HiIT8qS7FW3SRz/60UlLM5V/wFS7Xe/fZ/Mx+nOW/myTq3yNufbxqKO/+sx16kmvmfLxPvLgDmUL9Y/SU/GInn/llRk9l4lv8Gu/+ZS2llUtTldLU6x0xYWJw3nV2sRFrqfTDox6+suXgpr7OepY+sTFpyl96cdm/HseDVx5Vv25b7ZX0BVXXDHp2onl1zAsf87F/VN+IBIEQalYY3h4eNLvWHThF2TXCD1JCixbb+Xb9dK9X5Ft20re/LeyYscXemF7QL4T1RNPPDHp4Kpa1WW1x6t2n2rvv/JWfpAUj8eVTCalEOu2Tud5zZ5AMcfSHe8/Uzfc+YaSyeS0io4cSxXnHcuXMEvFG3OubjXvqOCrdjK5/KTyaM7Vg8/v1j+/uFd3//7FunJxi+6//37dfffd8q7+aqhKqFRTVOvWrTthz2G2LHzX8VdA3nixF6o69MaLF6mra3YKeo4n9CZeoqn4wXQiFyxecl69/XzZcRc7ha7SXbVcX//rXx3X75KOfBiPjY1pZGREo6OjpTY8PKwv/Hu4q8Db8WZt2rRJnufpunvfmllBS5mw2dDkSBs2bKg54lDtIKD8e+U9vvLLWJVfsWPi9SHLrxFZKBQUKYyHWrR87hcst/TY7ZUTy9de2FP39WVJuuacLp3Wmmj4RSnCOGWDb2JVmWNJYU4huH4g1/f06e/9Qvvv+UMFw316z3veo/OXJPTLPqvuh8tcX/tupn5nRZceue2q4yrC+dxVZ+ifX9wr15/6wy7q2Lpl1bLZ3PQZOxnbMhv7uZ65/jtYlqXm5mY1Nzeru7u74t9Sz4XrHSTjEZ111llHb++Y+TSGowcQV57Rrqe39td9f37s8mX6ZAMUVDTqEnapeGTSazLM66sp6uirHzpXSzqSDVuwMh2nTHHLdFcKr8t3dXm7q7+/fY1isdicLq58KpnrFWCWfmXjtH/mVJrLNlMnc8HicjOZIzqdEHAsKRaxNe76FQcQUrjVSBrl/Rl2rc25VKvSslFeX3PllAi+41kpvJaJ1Yim/fHDmniNwBM5xBH2HJ919D+n8nDLdM3l36HWNkw3gMKGQHGq0FTP5VR7f9bb3jC92NlU78CgEV5fc6Xhg+9EHjlVW1nApD9+I3p2W78+seG5uvf7v7dccUos0/VONJMAmq3QOtXen7W2V6rfi50NjXpgcDI1fPCdyLHyRl5ZwGTf+vkWffPxrVP+++3XnK3brl4+h1uEiWYSQKdaaM2F6Y5m2TpywB6L2Bov+KUFFMt/8lSttJxLDR98J+oCn42+soDpnt3Wrzt+8qq29JYtyNyd0h1rTo0FmYGwJh4QNEcdLZyX0K7BrMYLx+bKJGOObrz49IoQ42BiZho++Ga6ons9jXQiHAAwdxr+ct/J+OzOuIjYVukyJ4QeAJin4YNv7YU9itizM8kzGXP08csX65HbruIkLwAYquGHOmejqrMpYuu7N11C2AEAGj/4pKkrn8JMYH/fii796ZpzGdYEAEg6RYJPqj8fhsomAEAYp0zwAQAwGxq+uAUAgNlE8AEAjELwAQCMQvABAIxC8AEAjELwAQCMQvABAIxC8AEAjELwAQCMQvABAIxC8AEAjELwAQCMQvABAIxC8AEAjELwAQCMQvABAIxC8AEAjELwAQCMQvABAIxC8AEAjELwAQCMQvABAIxC8AEAjELwAQCMQvABAIxC8AEAjELwAQCMQvABAIxC8AEAjELwAQCMQvABAIxC8AEAjELwAQCMQvABAIxC8AEAjELwAQCMQvABAIxC8AEAjELwAQCMQvABAIxC8AEAjELwAQCMQvABAIxC8AEAjELwAQCMQvABAIxC8AEAjELwAQCMQvABAIxC8AEAjELwAQCMQvABAIxC8AEAjELwAQCMQvABAIxC8AEAjELwAQCMQvABAIxC8AEAjELwAQCMQvABAIxC8AEAjELwAQCMQvABAIxC8AEAjELwAQCMQvABAIxC8AEAjELwAQCMQvABAIxC8AEAjELwAQCMQvABAIxC8AEAjELwAQCMQvABAIxC8AEAjELwAQCMQvABAIxC8AEAjELwAQCMQvABAIxC8AEAjELwAQCMQvABAIxC8AEAjELwAQCMQvABAIxC8AEAjELwAQCMQvABAIxC8AEAjELwAQCMQvABAIxC8AEAjELwAQCMQvABAIxC8AEAjELwAQCMQvABAIxC8AEAjELwAQCMQvABAIxC8AEAjELwAQCMQvABAIxC8AEAjELwAQCMQvABAIxC8AEAjELwAQCMQvABAIxC8AEAjELwAQCMQvABAIxC8AEAjELwAQCMQvABAIxC8AEAjELwAQCMQvABAIxC8AEAjELwAQCMQvABAIxC8AEAjELwAQCMQvABAIxC8AEAjELwAQCM8v8B1jGkejjH9tIAAAAASUVORK5CYII=\n",
          "text/plain": "<Figure size 432x288 with 1 Axes>"
         },
         "metadata": {},
         "output_type": "display_data"
        },
        {
         "data": {
          "image/png": "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\n",
          "text/plain": "<Figure size 432x288 with 1 Axes>"
         },
         "metadata": {},
         "output_type": "display_data"
        },
        {
         "data": {
          "image/png": "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\n",
          "text/plain": "<Figure size 432x288 with 1 Axes>"
         },
         "metadata": {},
         "output_type": "display_data"
        },
        {
         "data": {
          "image/png": "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\n",
          "text/plain": "<Figure size 432x288 with 1 Axes>"
         },
         "metadata": {},
         "output_type": "display_data"
        }
       ]
      }
     },
     "d5e601dfa684420fb6622611f11251dc": {
      "model_module": "@jupyter-widgets/controls",
      "model_module_version": "1.5.0",
      "model_name": "VBoxModel",
      "state": {
       "children": [
        "IPY_MODEL_272083a9cee5420e9a7b210676f1d838",
        "IPY_MODEL_a514622e0ec1434b8539dc2fdb454983"
       ],
       "layout": "IPY_MODEL_4227e6733de74930b500bc5649593f10"
      }
     },
     "d91ddad1c90e402e98743f7bed73c167": {
      "model_module": "@jupyter-widgets/controls",
      "model_module_version": "1.5.0",
      "model_name": "HBoxModel",
      "state": {
       "children": [
        "IPY_MODEL_c2e7784774b1434fbd33cec3519a974a"
       ],
       "layout": "IPY_MODEL_b45d701a73894fdea6892e55140b951d"
      }
     },
     "f2ace6d9e5594f20833757d6c37245cc": {
      "model_module": "@jupyter-widgets/base",
      "model_module_version": "1.2.0",
      "model_name": "LayoutModel",
      "state": {}
     },
     "ffbf7bc8bd86484fa65d3f74d5db4734": {
      "model_module": "@jupyter-widgets/controls",
      "model_module_version": "1.5.0",
      "model_name": "HTMLModel",
      "state": {
       "layout": "IPY_MODEL_6fb08030bee84861819d50a71d635a55",
       "style": "IPY_MODEL_7659cf5f48cb4895a8790c4c283e64dc",
       "value": "[epoch 1332/None]:  30%"
      }
     }
    },
    "version_major": 2,
    "version_minor": 0
   }
  }
 },
 "nbformat": 4,
 "nbformat_minor": 4
}
