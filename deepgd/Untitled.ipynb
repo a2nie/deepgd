{
 "cells": [
  {
   "cell_type": "code",
   "execution_count": null,
   "id": "247af373-0857-40e8-b948-50557d0d9f84",
   "metadata": {},
   "outputs": [],
   "source": [
    "a = [1 2 3]"
   ]
  },
  {
   "cell_type": "code",
   "execution_count": null,
   "id": "206353cb-1987-4dd9-ace7-1c2713477ae1",
   "metadata": {},
   "outputs": [],
   "source": []
  }
 ],
 "metadata": {
  "kernelspec": {
   "display_name": "Octave",
   "language": "octave",
   "name": "octave"
  },
  "language_info": {
   "name": ""
  },
  "widgets": {
   "application/vnd.jupyter.widget-state+json": {
    "state": {},
    "version_major": 2,
    "version_minor": 0
   }
  }
 },
 "nbformat": 4,
 "nbformat_minor": 5
}
