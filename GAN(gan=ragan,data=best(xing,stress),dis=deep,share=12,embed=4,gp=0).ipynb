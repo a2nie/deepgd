{
 "cells": [
  {
   "cell_type": "markdown",
   "metadata": {
    "id": "wZtYFEhHoBGp"
   },
   "source": [
    "# Import libraries"
   ]
  },
  {
   "cell_type": "code",
   "execution_count": 1,
   "metadata": {
    "id": "KJPfzpxLQI5O"
   },
   "outputs": [],
   "source": [
    "%load_ext autoreload\n",
    "%autoreload 2\n",
    "from deepgd import *"
   ]
  },
  {
   "cell_type": "markdown",
   "metadata": {
    "id": "z4eBEyB1oaJe"
   },
   "source": [
    "# Config"
   ]
  },
  {
   "cell_type": "code",
   "execution_count": 2,
   "metadata": {
    "id": "Q_-MLFhpNvxF"
   },
   "outputs": [],
   "source": [
    "cuda_idx = 0\n",
    "canonicalization = Canonicalization(normalize=Standardization(norm_ord=1),\n",
    "                                    scale=False)\n",
    "config = StaticConfig({\n",
    "    \"name\": 'GAN(gan=ragan,data=best(xing,stress),dis=deep,share=12,embed=4,gp=0)',\n",
    "    \"uid\": None,\n",
    "    \"link\": None,\n",
    "    \"generator\": {\n",
    "        \"params\": {\n",
    "            \"num_blocks\": 9,\n",
    "            \"normalize\": canonicalization\n",
    "        },\n",
    "        \"pretrained\": {\n",
    "            \"name\": None,\n",
    "            \"epoch\": -1,\n",
    "        },\n",
    "        \"optim\": torch.optim.AdamW,\n",
    "        \"lr\" : {\n",
    "            \"initial\": 1e-3,\n",
    "            \"decay\": 0.99,\n",
    "        },\n",
    "    },\n",
    "    \"discriminator\": {\n",
    "        \"params\": {\n",
    "            \"conv\": [2, 16, 16, 16],\n",
    "            \"dense\": [2],\n",
    "            \"shared_depth\": 12,\n",
    "            \"enet_depth\": 4,\n",
    "            \"enet_width\": 64,\n",
    "            \"aggr\": \"add\",\n",
    "            \"normalize\": canonicalization\n",
    "        },\n",
    "        \"pretrained\": {\n",
    "            \"name\": None,\n",
    "            \"epoch\": -1,\n",
    "        },\n",
    "        \"optim\": torch.optim.AdamW,\n",
    "        \"lr\" : {\n",
    "            \"initial\": 1e-3,\n",
    "            \"decay\": 0.99,\n",
    "        },\n",
    "        \"noise\": {\n",
    "            \"std\": 0,\n",
    "            \"decay\": 0.95,\n",
    "        },\n",
    "        \"repeat\": 1,\n",
    "        \"complete\": True,\n",
    "        \"adaptive\": True\n",
    "    },\n",
    "    \"alternate\": \"epoch\",\n",
    "    \"batchsize\": 24,\n",
    "    \"epoch\": {\n",
    "        \"start\": -1,\n",
    "        \"end\": None,\n",
    "    },\n",
    "    \"log_interval\": 1,\n",
    "    \"test\": {\n",
    "        \"name\": \"test\",\n",
    "        \"epoch\": -1,\n",
    "    },\n",
    "    \"gan_flavor\": \"ragan\",\n",
    "    \"gp_weight\": 0,\n",
    "})\n",
    "data_config = StaticConfig({\n",
    "    \"sparse\": False,\n",
    "    \"pivot\": None,\n",
    "    \"init\": \"pmds\",\n",
    "    \"edge\": {\n",
    "        \"index\": \"full_edge_index\",\n",
    "        \"attr\": \"full_edge_attr\",\n",
    "    },\n",
    "})\n",
    "loss_fns = {\n",
    "    Stress(): 1\n",
    "}\n",
    "ctrler_params = {\n",
    "    \"tau\": 0.95,\n",
    "    \"beta\": 1,\n",
    "    \"exploit_rate\": 0.5,\n",
    "    \"warmup\": 2,\n",
    "}\n",
    "paths = StaticConfig({\n",
    "    \"root\": \"artifacts\",\n",
    "    \"checkpoints\": lambda: f\"{paths.root}/checkpoints/{config.name}\",\n",
    "    \"gen_pretrain\": lambda: f\"{paths.root}/checkpoints/{config.generator.pretrained.name}\",\n",
    "    \"dis_pretrain\": lambda: f\"{paths.root}/checkpoints/{config.discriminator.pretrained.name}\",\n",
    "    \"tensorboard\": lambda: f\"{paths.root}/tensorboards/{config.name}\",\n",
    "    \"visualization\": lambda: f\"{paths.root}/visualizations/{config.name}_{config.test.name}\",\n",
    "    \"log\": lambda: f\"{paths.root}/logs/{config.name}.log\",\n",
    "    \"metrics\": lambda suffix: f\"{paths.root}/metrics/{config.name}_{suffix}.pickle\",\n",
    "})"
   ]
  },
  {
   "cell_type": "code",
   "execution_count": 3,
   "metadata": {
    "id": "mdMEAbH10Qaq"
   },
   "outputs": [],
   "source": [
    "if \" \" in config.name:\n",
    "    raise Exception(\"Space is not allowed in model name.\")"
   ]
  },
  {
   "cell_type": "markdown",
   "metadata": {
    "id": "WynW4ZAdBhep"
   },
   "source": [
    "# Prepare"
   ]
  },
  {
   "cell_type": "markdown",
   "metadata": {
    "id": "DR6-vYtr_i_P"
   },
   "source": [
    "## Get log command"
   ]
  },
  {
   "cell_type": "code",
   "execution_count": 4,
   "metadata": {
    "colab": {
     "base_uri": "https://localhost:8080/"
    },
    "id": "9-QpinlslcTO",
    "outputId": "48ae3716-212c-4d46-9efb-b7b4070f73de"
   },
   "outputs": [
    {
     "name": "stdout",
     "output_type": "stream",
     "text": [
      "cd /users/PAS0027/osu10203/deepgd && tail -n1000 -f 'artifacts/logs/GAN(gan=ragan,data=best(xing,stress),dis=deep,share=12,embed=4,gp=0).log'\n"
     ]
    }
   ],
   "source": [
    "print(f\"cd {os.getcwd()} && tail -n1000 -f '{paths.log()}'\")"
   ]
  },
  {
   "cell_type": "code",
   "execution_count": 5,
   "metadata": {},
   "outputs": [
    {
     "name": "stdout",
     "output_type": "stream",
     "text": [
      "tensorboard dev upload --logdir 'artifacts/tensorboards/GAN(gan=ragan,data=best(xing,stress),dis=deep,share=12,embed=4,gp=0)'\n"
     ]
    }
   ],
   "source": [
    "print(f\"tensorboard dev upload --logdir '{paths.tensorboard()}'\")"
   ]
  },
  {
   "cell_type": "markdown",
   "metadata": {
    "id": "innqkwvH_ydD"
   },
   "source": [
    "## Set globals"
   ]
  },
  {
   "cell_type": "code",
   "execution_count": 6,
   "metadata": {
    "id": "Qjq7JlSZlkQR"
   },
   "outputs": [],
   "source": [
    "if cuda_idx is not None and torch.cuda.is_available():\n",
    "    device = f'cuda:{cuda_idx}'\n",
    "    pynvml.nvmlInit()\n",
    "    cuda = pynvml.nvmlDeviceGetHandleByIndex(cuda_idx)\n",
    "else:\n",
    "    device = 'cpu'\n",
    "    cuda =  None\n",
    "np.set_printoptions(precision=2)\n",
    "warnings.filterwarnings(\"ignore\", category=RuntimeWarning)"
   ]
  },
  {
   "cell_type": "markdown",
   "metadata": {
    "id": "0da286l_ApEL"
   },
   "source": [
    "## Load data"
   ]
  },
  {
   "cell_type": "code",
   "execution_count": 7,
   "metadata": {
    "colab": {
     "base_uri": "https://localhost:8080/"
    },
    "id": "RFuSHiZJMU4x",
    "outputId": "54065609-aaea-4536-d79c-73bc73b3f576"
   },
   "outputs": [
    {
     "name": "stdout",
     "output_type": "stream",
     "text": [
      "Load from 'cache/G_list.pickle'\n",
      "Load from 'cache/generate_data_list(list,sparse=False,pivot_mode=None,init_mode=pmds,edge_index=full_edge_index,edge_attr=full_edge_attr,pmds_list=ndarray,gviz_list=ndarray,noisy_layout=True,device=cpu).pickle'\n"
     ]
    },
    {
     "name": "stderr",
     "output_type": "stream",
     "text": [
      "/users/PAS0027/osu10203/.conda/envs/deepgd/lib/python3.9/site-packages/torch_geometric/deprecation.py:13: UserWarning: 'data.DataLoader' is deprecated, use 'loader.DataLoader' instead\n",
      "  warnings.warn(out)\n"
     ]
    }
   ],
   "source": [
    "G_list = load_G_list(data_path='data/rome', index_file='data_index.txt', cache='G_list', cache_prefix='cache/')\n",
    "data_list = generate_data_list(G_list, \n",
    "                               sparse=data_config.sparse, \n",
    "                               pivot_mode=data_config.pivot,\n",
    "                               init_mode=data_config.init,\n",
    "                               edge_index=data_config.edge.index,\n",
    "                               edge_attr=data_config.edge.attr,\n",
    "                               pmds_list=np.load('layouts/rome/pmds.npy', allow_pickle=True),\n",
    "                               gviz_list=np.load('layouts/rome/gviz.npy', allow_pickle=True),\n",
    "                               noisy_layout=True,\n",
    "                               device='cpu', \n",
    "                               cache=True,\n",
    "                               cache_prefix='cache/')\n",
    "train_loader = LazyDeviceMappingDataLoader(data_list[:10000], batch_size=config.batchsize, shuffle=True, device=device)\n",
    "val_loader = LazyDeviceMappingDataLoader(data_list[11000:], batch_size=config.batchsize, shuffle=False, device=device)"
   ]
  },
  {
   "cell_type": "code",
   "execution_count": 8,
   "metadata": {
    "id": "djd1pLt2OxZq"
   },
   "outputs": [],
   "source": [
    "def draw_layout(G, method, draw=True):\n",
    "    if method == 'fa2':\n",
    "        layout = get_fa2_layout(G)\n",
    "    else:\n",
    "        try:\n",
    "            fn = getattr(nx.drawing.layout, f'{method}_layout')\n",
    "            layout = fn(G)\n",
    "        except:\n",
    "            layout = nx.drawing.nx_agraph.graphviz_layout(G, prog=method)\n",
    "    if draw:\n",
    "        nx.draw(G, pos=layout)\n",
    "    return layout"
   ]
  },
  {
   "cell_type": "code",
   "execution_count": 9,
   "metadata": {
    "id": "2vBBw77lR7Em"
   },
   "outputs": [],
   "source": [
    "methods = ['neato', 'dot', 'fdp', 'sfdp', 'twopi', 'circo', 'shell', 'spring', 'circular', 'spectral', 'kamada_kawai', 'fa2', 'pmds']"
   ]
  },
  {
   "cell_type": "code",
   "execution_count": 10,
   "metadata": {
    "id": "dx6VVA9XIc2O"
   },
   "outputs": [],
   "source": [
    "from functools import lru_cache\n",
    "\n",
    "@lru_cache(maxsize=None)\n",
    "def load_pos(method):\n",
    "    return np.load(f'layouts/rome/{method}.npy', allow_pickle=True)"
   ]
  },
  {
   "cell_type": "code",
   "execution_count": 11,
   "metadata": {
    "colab": {
     "base_uri": "https://localhost:8080/",
     "height": 1000,
     "referenced_widgets": [
      "05a37aeeb20049dfa2f97287b3990556",
      "a75afae3adfd4810a0b0991a062535ee",
      "a24ae105ed124595992f7e2e5f909247",
      "01b4cabaf8004dd4b9269b4e6889c498",
      "f3c7c84f2b314bd8b97a7358deaf4fa1",
      "35e4a83e692b4a7bafb46fdf192b2586",
      "62847b5e2678459f845159eef6d4feab",
      "143e81f00313436dacfa246a57108944",
      "e05833f11803400b95ff22246cdc8f2b",
      "53aeede91e074378b5d7f626165655ee",
      "79a43768c1794a10a788a49e5883aa2c"
     ]
    },
    "id": "MSmP-jem9I0X",
    "outputId": "c698f0bf-e96e-4de9-aeda-0b046fc0a03f",
    "scrolled": true,
    "tags": []
   },
   "outputs": [],
   "source": [
    "# best_list = []\n",
    "# best_layout_list = []\n",
    "# for idx, (G, data) in enumerate(zip(tqdm(G_list), data_list)):\n",
    "#     xing, stress, layout = {}, {}, {}\n",
    "#     for m in methods:\n",
    "#         batch = Batch.from_data_list([data])\n",
    "#         pos = load_pos(m)\n",
    "#         p = CanonicalizationByStress()(torch.tensor(pos[idx]).float(), batch)\n",
    "#         x = Xing()(p, batch).item()\n",
    "#         s = Stress()(p, batch).item()\n",
    "#         xing[m] = x\n",
    "#         stress[m] = s\n",
    "#         layout[m] = p.numpy()\n",
    "#         # plt.figure()\n",
    "#         # graph_vis(G, pos[idx])\n",
    "#         # plt.title(f'{m} stress={s:.2f} xing={x}')\n",
    "#     best, *_ = sorted(methods, key=lambda m: (xing[m], stress[m]))\n",
    "#     best_list.append(best)\n",
    "#     best_layout_list.append(layout[best])\n",
    "#     print(f'{best}, xing={xing[best]}, stress={stress[best]:.2f}')"
   ]
  },
  {
   "cell_type": "code",
   "execution_count": 12,
   "metadata": {
    "colab": {
     "base_uri": "https://localhost:8080/"
    },
    "id": "Mx2bZNugdTqa",
    "outputId": "cec05a67-18e8-492f-aaa1-057274a8341a"
   },
   "outputs": [],
   "source": [
    "# pickle.dump(best_list, open('layouts/rome/best[xing,stress].pkl', 'wb'))\n",
    "# np.save('layouts/rome/best[xing,stress].npy', best_layout_list)"
   ]
  },
  {
   "cell_type": "code",
   "execution_count": 13,
   "metadata": {
    "colab": {
     "base_uri": "https://localhost:8080/",
     "height": 49,
     "referenced_widgets": [
      "7e0ae84dd0f3458d893c81b029fe1729",
      "18bdc3bf80fb434abde68de5b72a8870",
      "2e3552ded9594635a51832387ae754a0",
      "54f4aa5080c6498080a63be2cdeefee5",
      "3937586d0879451da5e2138ca3bfd0a0",
      "a9df6e84ce8c499eb2b2cf984995d791",
      "7af6b718dd3d4e01b264377a2fa938e2",
      "a774c86e64004bd6951645f1c24abad4",
      "c86575117cd041f2837762f37d1f387b",
      "6e9907cefb1241688fbd248b8281ed9f",
      "9b8e5405d8264944acab57e81f2f5ad6"
     ]
    },
    "id": "A1-w1fspC53p",
    "outputId": "09c2d5c3-1eef-41eb-dcee-581af1294804"
   },
   "outputs": [
    {
     "data": {
      "application/vnd.jupyter.widget-view+json": {
       "model_id": "78ecbafaa49e48bda5db8952bc4de12e",
       "version_major": 2,
       "version_minor": 0
      },
      "text/plain": [
       "  0%|          | 0/11531 [00:00<?, ?it/s]"
      ]
     },
     "metadata": {},
     "output_type": "display_data"
    }
   ],
   "source": [
    "best_layout_list = np.load('layouts/rome/best[xing,stress].npy', allow_pickle=True)\n",
    "for data, layout in zip(tqdm(data_list), best_layout_list):\n",
    "    data.gt_pos = torch.tensor(layout)"
   ]
  },
  {
   "cell_type": "code",
   "execution_count": 14,
   "metadata": {
    "id": "y6EGh4U7exL_"
   },
   "outputs": [],
   "source": [
    "train_loader = LazyDeviceMappingDataLoader(data_list[:10000], batch_size=config.batchsize, shuffle=True, device=device)\n",
    "val_loader = LazyDeviceMappingDataLoader(data_list[11000:], batch_size=config.batchsize, shuffle=False, device=device)"
   ]
  },
  {
   "cell_type": "code",
   "execution_count": 15,
   "metadata": {
    "colab": {
     "base_uri": "https://localhost:8080/",
     "height": 103,
     "referenced_widgets": [
      "38a33cf69aff48f4aabd4902a7ce48b1",
      "57e277bcb44c4e2fa2a12105d75153d1",
      "20ce017c46bd4a7c9b420270ac579405",
      "13f2df4fe0ce4af88b6e3bd1637065b0",
      "2867faa145ca4860a198d4d0bf830f89",
      "02838cf669174ed9afa41a1a8e680765",
      "7e9e3c031667455f8baca163d3a213e5",
      "4000135e7dfa46529fa6244fccc5cb57",
      "e523e9faac5b4ec38643c05ac5ba99f7",
      "e8e3ee9741e4480dae5003ccc19a7891",
      "9a569045221b43acb3ba2fbf116b2c74"
     ]
    },
    "id": "YEfRRUK0NiNm",
    "outputId": "93f53d05-7667-4cda-a38e-c3a953124f79"
   },
   "outputs": [],
   "source": [
    "# for m in methods:\n",
    "#     layouts = []\n",
    "#     for G in tqdm(G_list):\n",
    "#         layout = draw_layout(G, method=m, draw=False)\n",
    "#         layouts.append(np.array(list(layout.values())))\n",
    "#     np.save(f'layouts/rome/{m}.npy', layouts)"
   ]
  },
  {
   "cell_type": "code",
   "execution_count": 16,
   "metadata": {
    "colab": {
     "base_uri": "https://localhost:8080/",
     "height": 564
    },
    "id": "upK7AHYqPmC5",
    "outputId": "29a88e61-f55f-409c-9194-12c6d5762528"
   },
   "outputs": [],
   "source": [
    "# from collections import Counter\n",
    "\n",
    "# letter_counts = Counter(best_list)\n",
    "# df = pd.DataFrame.from_dict(letter_counts, orient='index')\n",
    "# df.plot(kind='bar', figsize=[12, 8])"
   ]
  },
  {
   "cell_type": "markdown",
   "metadata": {
    "id": "f-ODE2k8BFV6"
   },
   "source": [
    "## Create folders"
   ]
  },
  {
   "cell_type": "code",
   "execution_count": 17,
   "metadata": {
    "id": "3ykUMINYBRog"
   },
   "outputs": [],
   "source": [
    "mkdirs(paths.checkpoints(), paths.tensorboard(), paths.visualization(), f\"{paths.root}/logs\", f\"{paths.root}/metrics\")"
   ]
  },
  {
   "cell_type": "markdown",
   "metadata": {
    "id": "BFq9k5nzBIh5"
   },
   "source": [
    "## Load checkpoints"
   ]
  },
  {
   "cell_type": "code",
   "execution_count": 18,
   "metadata": {
    "id": "W5NbsKkobIfA"
   },
   "outputs": [],
   "source": [
    "class EdgeFeatureDiscriminator(nn.Module):\n",
    "    def __init__(self, \n",
    "                 conv, \n",
    "                 dense,\n",
    "                 shared_depth,\n",
    "                 enet_depth,\n",
    "                 enet_width,\n",
    "                 aggr='add', \n",
    "                 root_weight=True,\n",
    "                 normalize=None):\n",
    "        super().__init__()\n",
    "        self.enet = nn.Sequential(*[\n",
    "            DenseLayer(in_dim=in_d,\n",
    "                       out_dim=out_d,\n",
    "                       skip=nonlin,\n",
    "                       bn=nonlin,\n",
    "                       act=nonlin,\n",
    "                       dp=None)\n",
    "            for in_d, out_d, nonlin \n",
    "            in zip([self._get_feature_dim()] + [enet_width] * (shared_depth-1),\n",
    "                   [enet_width] * shared_depth,\n",
    "                   [True] * (shared_depth-1) + [False])     \n",
    "        ])\n",
    "        self.blocks = nn.ModuleList([\n",
    "            GNNLayer(nfeat_dims=(in_d, out_d),\n",
    "                     efeat_dim=enet_width,\n",
    "                     edge_net=EdgeNet(nfeat_dims=(in_d, out_d), \n",
    "                                      efeat_dim=enet_width, \n",
    "                                      depth=enet_depth, \n",
    "                                      width=enet_width),\n",
    "                     aggr=aggr,\n",
    "                     dense=False,\n",
    "                     skip=nonlin,\n",
    "                     bn=nonlin,\n",
    "                     act=nonlin,\n",
    "                     root_weight=root_weight) \n",
    "            for in_d, out_d, nonlin \n",
    "            in zip(conv[:-1], conv[1:], [True] * (len(conv)-2) + [False])     \n",
    "        ])\n",
    "        self.pool = (gnn.global_mean_pool if aggr == 'mean' \n",
    "                     else gnn.global_add_pool if aggr == 'add' \n",
    "                     else None)\n",
    "        self.dense = nn.Identity() if not dense else nn.Sequential(*[\n",
    "            DenseLayer(in_dim=in_d,\n",
    "                       out_dim=out_d,\n",
    "                       skip=nonlin,\n",
    "                       bn=nonlin,\n",
    "                       act=nonlin,\n",
    "                       dp=None)\n",
    "            for in_d, out_d, nonlin \n",
    "            in zip(conv[-1:] + dense[:-1], dense, [True] * (len(dense)-1) + [False])     \n",
    "        ])\n",
    "        self.normalize = normalize or IdentityTransformation()\n",
    "    \n",
    "    def forward(self, batch):\n",
    "        x = torch.ones_like(batch.pos)\n",
    "        e = self.enet(self._get_features(self._get_edge_info(batch, layout='pos')))\n",
    "        for block in self.blocks:\n",
    "            x = block(x, e, batch)\n",
    "        x = self.pool(x, batch.batch)\n",
    "        x = self.dense(x)\n",
    "        return x\n",
    "    \n",
    "    def _get_edge_info(self, batch, layout='gt_pos'):\n",
    "        pos = self.normalize(batch[layout].float(), batch)\n",
    "        src, dst = get_edges(pos, batch)\n",
    "        v, u = l2_normalize(dst - src, return_norm=True)\n",
    "        d = batch.edge_attr[:, :1]\n",
    "        return {\n",
    "            \"src\": src,\n",
    "            \"dst\": dst,\n",
    "            \"v\": v,\n",
    "            \"u\": u,\n",
    "            \"d\": d,\n",
    "        }\n",
    "\n",
    "    def _get_features(self, edges):\n",
    "        return torch.cat([edges['src'], edges['dst'], edges['d']], dim=1)\n",
    "        \n",
    "    def _get_feature_dim(self):\n",
    "        return self._get_features({\n",
    "            \"src\": torch.zeros(1, 2),\n",
    "            \"dst\": torch.zeros(1, 2),\n",
    "            \"v\": torch.zeros(1, 2),\n",
    "            \"u\": torch.zeros(1, 1),\n",
    "            \"d\": torch.zeros(1, 1),\n",
    "        }).shape[-1]"
   ]
  },
  {
   "cell_type": "code",
   "execution_count": 19,
   "metadata": {
    "id": "96ZActxlL0fJ"
   },
   "outputs": [],
   "source": [
    "class StressDiscriminator(nn.Module):\n",
    "    def __init__(self, normalize=CanonicalizationByStress(), **kwargs):\n",
    "        super().__init__()\n",
    "        self.dummy = nn.Parameter(torch.zeros(1))\n",
    "        self.normalize = normalize\n",
    "        self.stress = Stress(reduce=None)\n",
    "\n",
    "    def forward(self, batch):\n",
    "        return -self.stress(self.normalize(batch.pos, batch), batch)"
   ]
  },
  {
   "cell_type": "code",
   "execution_count": 20,
   "metadata": {
    "id": "IJ6xCYBUuhcw"
   },
   "outputs": [],
   "source": [
    "def get_ckpt_epoch(folder, epoch):\n",
    "    if not os.path.isdir(folder):\n",
    "        os.mkdir(folder)\n",
    "    if epoch >= 0:\n",
    "        return epoch\n",
    "    ckpt_files = os.listdir(folder)\n",
    "    last_epoch = 0\n",
    "    if ckpt_files:\n",
    "        last_epoch = sorted(list(map(lambda x: int(re.search('(?<=epoch_)(\\d+)(?=\\.)', x).group(1)), ckpt_files)))[-1]\n",
    "    return last_epoch + epoch + 1\n",
    "\n",
    "def start_epoch():\n",
    "    return get_ckpt_epoch(paths.checkpoints(), config.epoch.start)"
   ]
  },
  {
   "cell_type": "code",
   "execution_count": 21,
   "metadata": {
    "colab": {
     "base_uri": "https://localhost:8080/"
    },
    "id": "JacDYXka9U01",
    "outputId": "ef4e31ab-2144-497c-8e4f-4d3740ce2d52"
   },
   "outputs": [
    {
     "name": "stdout",
     "output_type": "stream",
     "text": [
      "Loading from artifacts/checkpoints/GAN(gan=ragan,data=best(xing,stress),dis=deep,share=12,embed=4,gp=0)/gen_epoch_1059.pt...\n",
      "Loading from artifacts/checkpoints/GAN(gan=ragan,data=best(xing,stress),dis=deep,share=12,embed=4,gp=0)/gen_optim_epoch_1059.pt...\n"
     ]
    }
   ],
   "source": [
    "generator = Generator(**config.generator.params[...]).to(device)\n",
    "generator_optimizer = config.generator.optim(generator.parameters(), lr=config.generator.lr.initial * config.generator.lr.decay ** start_epoch())\n",
    "generator_scheduler = torch.optim.lr_scheduler.ExponentialLR(generator_optimizer, gamma=config.generator.lr.decay)\n",
    "if start_epoch() != 0:\n",
    "    gen_ckpt_epoch = start_epoch()\n",
    "elif config.generator.pretrained.name is not None and config.generator.pretrained.epoch != 0:\n",
    "    gen_pretrained_epoch = get_ckpt_epoch(paths.gen_pretrain(), config.generator.pretrained.epoch)\n",
    "    gen_ckpt_epoch = gen_pretrained_epoch \n",
    "else:\n",
    "    gen_ckpt_epoch = None\n",
    "if gen_ckpt_epoch is not None:\n",
    "    # Load generator\n",
    "    gen_ckpt_file = f\"{paths.checkpoints()}/gen_epoch_{gen_ckpt_epoch}.pt\"\n",
    "    print(f\"Loading from {gen_ckpt_file}...\")\n",
    "    generator.load_state_dict(torch.load(gen_ckpt_file, map_location=torch.device(device)))\n",
    "    # Load generator optimizer\n",
    "    gen_optim_ckpt_file = f\"{paths.checkpoints()}/gen_optim_epoch_{gen_ckpt_epoch}.pt\"\n",
    "    print(f\"Loading from {gen_optim_ckpt_file}...\")\n",
    "    generator_optimizer.load_state_dict(torch.load(gen_optim_ckpt_file, map_location=torch.device(device)))"
   ]
  },
  {
   "cell_type": "code",
   "execution_count": 22,
   "metadata": {
    "colab": {
     "base_uri": "https://localhost:8080/"
    },
    "id": "oWQhD7-88VXe",
    "outputId": "3ba01600-b546-4e45-a6bd-c7a65af1ae9e"
   },
   "outputs": [
    {
     "name": "stdout",
     "output_type": "stream",
     "text": [
      "Loading from artifacts/checkpoints/GAN(gan=ragan,data=best(xing,stress),dis=deep,share=12,embed=4,gp=0)/dis_epoch_1059.pt...\n",
      "Loading from artifacts/checkpoints/GAN(gan=ragan,data=best(xing,stress),dis=deep,share=12,embed=4,gp=0)/dis_optim_epoch_1059.pt...\n"
     ]
    }
   ],
   "source": [
    "discriminator = EdgeFeatureDiscriminator(**config.discriminator.params[...]).to(device)\n",
    "discriminator_optimizer = config.discriminator.optim(discriminator.parameters(), lr=config.discriminator.lr.initial * config.discriminator.lr.decay ** start_epoch())\n",
    "discriminator_scheduler = torch.optim.lr_scheduler.ExponentialLR(discriminator_optimizer, gamma=config.discriminator.lr.decay)\n",
    "if start_epoch() != 0:\n",
    "    dis_ckpt_epoch = start_epoch()\n",
    "elif config.discriminator.pretrained.name is not None and config.discriminator.pretrained.epoch != 0:\n",
    "    dis_pretrained_epoch = get_ckpt_epoch(paths.dis_pretrain(), config.discriminator.pretrained.epoch)\n",
    "    dis_ckpt_epoch = dis_pretrained_epoch # f\"{paths.dis_pretrain()}/dis_epoch_{dis_pretrained_epoch}.pt\"\n",
    "else:\n",
    "    dis_ckpt_epoch = None\n",
    "if dis_ckpt_epoch is not None:\n",
    "    # Load discriminator\n",
    "    dis_ckpt_file = f\"{paths.checkpoints()}/dis_epoch_{dis_ckpt_epoch}.pt\"\n",
    "    print(f\"Loading from {dis_ckpt_file}...\")\n",
    "    discriminator.load_state_dict(torch.load(dis_ckpt_file, map_location=torch.device(device)))\n",
    "    # Load discriminator optimizer\n",
    "    dis_optim_ckpt_file = f\"{paths.checkpoints()}/dis_optim_epoch_{dis_ckpt_epoch}.pt\"\n",
    "    print(f\"Loading from {dis_optim_ckpt_file}...\")\n",
    "    discriminator_optimizer.load_state_dict(torch.load(dis_optim_ckpt_file, map_location=torch.device(device)))"
   ]
  },
  {
   "cell_type": "markdown",
   "metadata": {
    "id": "N39dDHraedM6"
   },
   "source": [
    "# Train"
   ]
  },
  {
   "cell_type": "code",
   "execution_count": 23,
   "metadata": {
    "id": "BdIJSDSJedM-"
   },
   "outputs": [],
   "source": [
    "stress_criterion = StressDiscriminator().to(device)\n",
    "val_criterion = Stress(reduce=None)\n",
    "xing_criterion = Xing(reduce=None)\n",
    "dis_convert = DiscriminatorDataConverter(complete_graph=config.discriminator.complete, normalize=config.discriminator.params.normalize)\n",
    "tensorboard = SummaryWriter(log_dir=paths.tensorboard())\n",
    "epoch = start_epoch() + 1"
   ]
  },
  {
   "cell_type": "code",
   "execution_count": 24,
   "metadata": {
    "id": "OHRWj1h0edM-"
   },
   "outputs": [],
   "source": [
    "def gradient_penalty(interpolated, discriminator, weight=10):\n",
    "    interpolated.pos.requires_grad_()\n",
    "    prob_interpolated = discriminator(interpolated)\n",
    "    gradients = autograd.grad(outputs=prob_interpolated, \n",
    "                              inputs=interpolated.pos,\n",
    "                              grad_outputs=torch.ones_like(prob_interpolated),\n",
    "                              create_graph=True, \n",
    "                              retain_graph=True, \n",
    "                              allow_unused=True)[0]\n",
    "    gradients_norm = torch.sqrt(gnn.global_add_pool(gradients.square().sum(dim=1), batch.batch) + 1e-8)\n",
    "    return weight * ((gradients_norm - 1) ** 2).mean()"
   ]
  },
  {
   "cell_type": "code",
   "execution_count": 25,
   "metadata": {
    "id": "o5wJJN9AedM_"
   },
   "outputs": [],
   "source": [
    "def get_gp_loss(batch, fake_pos, weight):\n",
    "    if weight > 0:\n",
    "        interp = dis_convert(batch, fake_pos, random.random())\n",
    "        return gradient_penalty(interp, discriminator, weight).mean()\n",
    "    return 0"
   ]
  },
  {
   "cell_type": "code",
   "execution_count": 26,
   "metadata": {
    "id": "QwuA6sRoedM_"
   },
   "outputs": [],
   "source": [
    "def get_sgan_loss(batch, fake_pos, mode='discriminator'):\n",
    "    real = dis_convert(batch)\n",
    "    fake = dis_convert(batch, fake_pos)\n",
    "    pred = discriminator(merge_batch(real, fake)).view(2, -1).T\n",
    "    if mode == 'discriminator':\n",
    "        label = torch.zeros(pred.shape[0]).long()\n",
    "    elif mode == 'generator':\n",
    "        label = torch.ones(pred.shape[0]).long()\n",
    "    else:\n",
    "        raise Exception\n",
    "    return nn.CrossEntropyLoss()(pred, label)"
   ]
  },
  {
   "cell_type": "code",
   "execution_count": 27,
   "metadata": {
    "id": "GuAP1YchedNA"
   },
   "outputs": [],
   "source": [
    "def get_rgan_loss(batch, fake_pos, mode='discriminator'):\n",
    "    real = dis_convert(batch)\n",
    "    fake = dis_convert(batch, fake_pos)\n",
    "    pred = discriminator(merge_batch(real, fake)).view(2, -1).T\n",
    "    real_pred, fake_pred = pred[:,0], pred[:,1]\n",
    "    if mode == 'discriminator':\n",
    "        losses = - F.logsigmoid(real_pred - fake_pred)\n",
    "    elif mode == 'generator':\n",
    "        losses = - F.logsigmoid(fake_pred - real_pred)\n",
    "    else:\n",
    "        raise Exception\n",
    "    return losses.mean()"
   ]
  },
  {
   "cell_type": "code",
   "execution_count": 28,
   "metadata": {
    "id": "KFllQ7BredNA"
   },
   "outputs": [],
   "source": [
    "def get_wgan_loss(batch, fake_pos, mode='discriminator'):\n",
    "    real = dis_convert(batch)\n",
    "    fake = dis_convert(batch, fake_pos)\n",
    "    pred = discriminator(merge_batch(real, fake)).view(2, -1).T\n",
    "    real_pred, fake_pred = pred[:,0], pred[:,1]\n",
    "    if mode == 'discriminator':\n",
    "        losses = fake_pred - real_pred \n",
    "    elif mode == 'generator':\n",
    "        losses = real_pred - fake_pred\n",
    "    else:\n",
    "        raise Exception\n",
    "    return losses.mean()"
   ]
  },
  {
   "cell_type": "code",
   "execution_count": 29,
   "metadata": {
    "id": "r5Kg_tYEedNA"
   },
   "outputs": [],
   "source": [
    "def get_ragan_loss(batch, fake_pos, mode='discriminator'):\n",
    "    real = dis_convert(batch)\n",
    "    fake = dis_convert(batch, fake_pos)\n",
    "    pred = discriminator(merge_batch(real, fake)).view(2, -1).T\n",
    "    real_pred, fake_pred = pred[:,0], pred[:,1]\n",
    "    if mode == 'discriminator':\n",
    "        losses = - F.logsigmoid(real_pred - fake_pred.mean()) - F.logsigmoid(real_pred.mean() - fake_pred)\n",
    "    elif mode == 'generator':\n",
    "        losses = - F.logsigmoid(fake_pred - real_pred.mean()) - F.logsigmoid(fake_pred.mean() - real_pred)\n",
    "    else:\n",
    "        raise Exception\n",
    "    return losses.mean()"
   ]
  },
  {
   "cell_type": "code",
   "execution_count": 30,
   "metadata": {},
   "outputs": [],
   "source": [
    "def get_dgdv2_loss(batch, fake_pos, mode='discriminator'):\n",
    "    fake = dis_convert(batch, fake_pos)\n",
    "    pred = discriminator(fake)\n",
    "    if mode == 'discriminator':\n",
    "        gt = get_gt(batch, fake_pos)\n",
    "        loss = criterion(pred, gt)\n",
    "    elif mode == 'generator':\n",
    "        losses = pred.sum(dim=0)\n",
    "#         losses = torch.tensor(config.importance).to(device) * losses #/ losses.detach()\n",
    "        loss = losses.sum()\n",
    "    else:\n",
    "        raise Exception\n",
    "    return -loss"
   ]
  },
  {
   "cell_type": "code",
   "execution_count": 31,
   "metadata": {
    "id": "3IE_84f-edNB"
   },
   "outputs": [],
   "source": [
    "def get_gan_loss(batch, fake_pos, mode='discriminator'):\n",
    "    return {\"sgan\": get_sgan_loss,\n",
    "            \"wgan\": get_wgan_loss,\n",
    "            \"rgan\": get_rgan_loss,\n",
    "            \"ragan\": get_ragan_loss,\n",
    "            \"dgdv2\": get_dgdv2_loss}[config.gan_flavor](batch, fake_pos, mode)"
   ]
  },
  {
   "cell_type": "code",
   "execution_count": 32,
   "metadata": {
    "colab": {
     "background_save": true,
     "base_uri": "https://localhost:8080/",
     "height": 80
    },
    "id": "2NjekXgkedNB",
    "outputId": "da85b2ec-c0de-459c-c0dd-7ba3519419fa",
    "scrolled": true,
    "tags": []
   },
   "outputs": [
    {
     "data": {
      "application/vnd.jupyter.widget-view+json": {
       "model_id": "c5c5ae32a71b4077802f7831d48114cf",
       "version_major": 2,
       "version_minor": 0
      },
      "text/plain": [
       "Tab(children=(VBox(children=(Wrapper(), Hud())), HBox(children=(Output(),), layout=Layout(height='500px', over…"
      ]
     },
     "metadata": {},
     "output_type": "display_data"
    },
    {
     "ename": "KeyboardInterrupt",
     "evalue": "",
     "output_type": "error",
     "traceback": [
      "\u001b[0;31m---------------------------------------------------------------------------\u001b[0m",
      "\u001b[0;31mKeyboardInterrupt\u001b[0m                         Traceback (most recent call last)",
      "\u001b[0;32m/tmp/slurmtmp.5826414/ipykernel_129839/801679965.py\u001b[0m in \u001b[0;36m<module>\u001b[0;34m\u001b[0m\n\u001b[1;32m    127\u001b[0m     \u001b[0;32mfor\u001b[0m \u001b[0m_\u001b[0m \u001b[0;32min\u001b[0m \u001b[0mrange\u001b[0m\u001b[0;34m(\u001b[0m\u001b[0mconfig\u001b[0m\u001b[0;34m.\u001b[0m\u001b[0mdiscriminator\u001b[0m\u001b[0;34m.\u001b[0m\u001b[0mrepeat\u001b[0m\u001b[0;34m)\u001b[0m\u001b[0;34m:\u001b[0m\u001b[0;34m\u001b[0m\u001b[0;34m\u001b[0m\u001b[0m\n\u001b[1;32m    128\u001b[0m         \u001b[0;32mfor\u001b[0m \u001b[0mbatch\u001b[0m \u001b[0;32min\u001b[0m \u001b[0mtrain_loader\u001b[0m\u001b[0;34m:\u001b[0m\u001b[0;34m\u001b[0m\u001b[0;34m\u001b[0m\u001b[0m\n\u001b[0;32m--> 129\u001b[0;31m             \u001b[0mtrain_dis\u001b[0m\u001b[0;34m(\u001b[0m\u001b[0mbatch\u001b[0m\u001b[0;34m,\u001b[0m \u001b[0mepoch\u001b[0m\u001b[0;34m)\u001b[0m\u001b[0;34m\u001b[0m\u001b[0;34m\u001b[0m\u001b[0m\n\u001b[0m\u001b[1;32m    130\u001b[0m             \u001b[0;32mif\u001b[0m \u001b[0mconfig\u001b[0m\u001b[0;34m.\u001b[0m\u001b[0malternate\u001b[0m \u001b[0;34m==\u001b[0m \u001b[0;34m'iteration'\u001b[0m\u001b[0;34m:\u001b[0m\u001b[0;34m\u001b[0m\u001b[0;34m\u001b[0m\u001b[0m\n\u001b[1;32m    131\u001b[0m                 \u001b[0mtrain_gen\u001b[0m\u001b[0;34m(\u001b[0m\u001b[0mbatch\u001b[0m\u001b[0;34m,\u001b[0m \u001b[0mepoch\u001b[0m\u001b[0;34m)\u001b[0m\u001b[0;34m\u001b[0m\u001b[0;34m\u001b[0m\u001b[0m\n",
      "\u001b[0;32m/tmp/slurmtmp.5826414/ipykernel_129839/801679965.py\u001b[0m in \u001b[0;36mtrain_dis\u001b[0;34m(batch, epoch)\u001b[0m\n\u001b[1;32m      2\u001b[0m     \u001b[0mgenerator\u001b[0m\u001b[0;34m.\u001b[0m\u001b[0mrequires_grad_\u001b[0m\u001b[0;34m(\u001b[0m\u001b[0;32mFalse\u001b[0m\u001b[0;34m)\u001b[0m\u001b[0;34m\u001b[0m\u001b[0;34m\u001b[0m\u001b[0m\n\u001b[1;32m      3\u001b[0m     \u001b[0mdiscriminator\u001b[0m\u001b[0;34m.\u001b[0m\u001b[0mzero_grad\u001b[0m\u001b[0;34m(\u001b[0m\u001b[0;34m)\u001b[0m\u001b[0;34m\u001b[0m\u001b[0;34m\u001b[0m\u001b[0m\n\u001b[0;32m----> 4\u001b[0;31m     \u001b[0mgenerator_output\u001b[0m \u001b[0;34m=\u001b[0m \u001b[0mgenerator\u001b[0m\u001b[0;34m(\u001b[0m\u001b[0mbatch\u001b[0m\u001b[0;34m)\u001b[0m\u001b[0;34m\u001b[0m\u001b[0;34m\u001b[0m\u001b[0m\n\u001b[0m\u001b[1;32m      5\u001b[0m     \u001b[0;32mif\u001b[0m \u001b[0mconfig\u001b[0m\u001b[0;34m.\u001b[0m\u001b[0mdiscriminator\u001b[0m\u001b[0;34m.\u001b[0m\u001b[0mnoise\u001b[0m\u001b[0;34m.\u001b[0m\u001b[0mstd\u001b[0m \u001b[0;34m>\u001b[0m \u001b[0;36m0\u001b[0m\u001b[0;34m:\u001b[0m\u001b[0;34m\u001b[0m\u001b[0;34m\u001b[0m\u001b[0m\n\u001b[1;32m      6\u001b[0m         \u001b[0mgenerator_output\u001b[0m \u001b[0;34m=\u001b[0m \u001b[0mgenerator_output\u001b[0m \u001b[0;34m+\u001b[0m \u001b[0mtorch\u001b[0m\u001b[0;34m.\u001b[0m\u001b[0mrandn_like\u001b[0m\u001b[0;34m(\u001b[0m\u001b[0mgenerator_output\u001b[0m\u001b[0;34m)\u001b[0m \u001b[0;34m*\u001b[0m \u001b[0mconfig\u001b[0m\u001b[0;34m.\u001b[0m\u001b[0mdiscriminator\u001b[0m\u001b[0;34m.\u001b[0m\u001b[0mnoise\u001b[0m\u001b[0;34m.\u001b[0m\u001b[0mstd\u001b[0m \u001b[0;34m*\u001b[0m \u001b[0mconfig\u001b[0m\u001b[0;34m.\u001b[0m\u001b[0mdiscriminator\u001b[0m\u001b[0;34m.\u001b[0m\u001b[0mnoise\u001b[0m\u001b[0;34m.\u001b[0m\u001b[0mdecay\u001b[0m \u001b[0;34m**\u001b[0m \u001b[0mepoch\u001b[0m\u001b[0;34m\u001b[0m\u001b[0;34m\u001b[0m\u001b[0m\n",
      "\u001b[0;32m~/.conda/envs/deepgd/lib/python3.9/site-packages/torch/nn/modules/module.py\u001b[0m in \u001b[0;36m_call_impl\u001b[0;34m(self, *input, **kwargs)\u001b[0m\n\u001b[1;32m   1049\u001b[0m         if not (self._backward_hooks or self._forward_hooks or self._forward_pre_hooks or _global_backward_hooks\n\u001b[1;32m   1050\u001b[0m                 or _global_forward_hooks or _global_forward_pre_hooks):\n\u001b[0;32m-> 1051\u001b[0;31m             \u001b[0;32mreturn\u001b[0m \u001b[0mforward_call\u001b[0m\u001b[0;34m(\u001b[0m\u001b[0;34m*\u001b[0m\u001b[0minput\u001b[0m\u001b[0;34m,\u001b[0m \u001b[0;34m**\u001b[0m\u001b[0mkwargs\u001b[0m\u001b[0;34m)\u001b[0m\u001b[0;34m\u001b[0m\u001b[0;34m\u001b[0m\u001b[0m\n\u001b[0m\u001b[1;32m   1052\u001b[0m         \u001b[0;31m# Do not call functions when jit is used\u001b[0m\u001b[0;34m\u001b[0m\u001b[0;34m\u001b[0m\u001b[0m\n\u001b[1;32m   1053\u001b[0m         \u001b[0mfull_backward_hooks\u001b[0m\u001b[0;34m,\u001b[0m \u001b[0mnon_full_backward_hooks\u001b[0m \u001b[0;34m=\u001b[0m \u001b[0;34m[\u001b[0m\u001b[0;34m]\u001b[0m\u001b[0;34m,\u001b[0m \u001b[0;34m[\u001b[0m\u001b[0;34m]\u001b[0m\u001b[0;34m\u001b[0m\u001b[0;34m\u001b[0m\u001b[0m\n",
      "\u001b[0;32m~/deepgd/deepgd/modules.py\u001b[0m in \u001b[0;36mforward\u001b[0;34m(self, data, weights, output_hidden, numpy)\u001b[0m\n\u001b[1;32m    625\u001b[0m                            \u001b[0mself\u001b[0m\u001b[0;34m.\u001b[0m\u001b[0mhid_blocks\u001b[0m\u001b[0;34m,\u001b[0m\u001b[0;34m\u001b[0m\u001b[0;34m\u001b[0m\u001b[0m\n\u001b[1;32m    626\u001b[0m                            self.out_blocks):\n\u001b[0;32m--> 627\u001b[0;31m             \u001b[0mv\u001b[0m \u001b[0;34m=\u001b[0m \u001b[0mblock\u001b[0m\u001b[0;34m(\u001b[0m\u001b[0mv\u001b[0m\u001b[0;34m,\u001b[0m \u001b[0mdata\u001b[0m\u001b[0;34m,\u001b[0m \u001b[0mweights\u001b[0m\u001b[0;34m)\u001b[0m\u001b[0;34m\u001b[0m\u001b[0;34m\u001b[0m\u001b[0m\n\u001b[0m\u001b[1;32m    628\u001b[0m             \u001b[0;32mif\u001b[0m \u001b[0moutput_hidden\u001b[0m\u001b[0;34m:\u001b[0m\u001b[0;34m\u001b[0m\u001b[0;34m\u001b[0m\u001b[0m\n\u001b[1;32m    629\u001b[0m                 \u001b[0mhidden\u001b[0m\u001b[0;34m.\u001b[0m\u001b[0mappend\u001b[0m\u001b[0;34m(\u001b[0m\u001b[0mv\u001b[0m\u001b[0;34m.\u001b[0m\u001b[0mdetach\u001b[0m\u001b[0;34m(\u001b[0m\u001b[0;34m)\u001b[0m\u001b[0;34m.\u001b[0m\u001b[0mcpu\u001b[0m\u001b[0;34m(\u001b[0m\u001b[0;34m)\u001b[0m\u001b[0;34m.\u001b[0m\u001b[0mnumpy\u001b[0m\u001b[0;34m(\u001b[0m\u001b[0;34m)\u001b[0m \u001b[0;32mif\u001b[0m \u001b[0mnumpy\u001b[0m \u001b[0;32melse\u001b[0m \u001b[0mv\u001b[0m\u001b[0;34m)\u001b[0m\u001b[0;34m\u001b[0m\u001b[0;34m\u001b[0m\u001b[0m\n",
      "\u001b[0;32m~/.conda/envs/deepgd/lib/python3.9/site-packages/torch/nn/modules/module.py\u001b[0m in \u001b[0;36m_call_impl\u001b[0;34m(self, *input, **kwargs)\u001b[0m\n\u001b[1;32m   1049\u001b[0m         if not (self._backward_hooks or self._forward_hooks or self._forward_pre_hooks or _global_backward_hooks\n\u001b[1;32m   1050\u001b[0m                 or _global_forward_hooks or _global_forward_pre_hooks):\n\u001b[0;32m-> 1051\u001b[0;31m             \u001b[0;32mreturn\u001b[0m \u001b[0mforward_call\u001b[0m\u001b[0;34m(\u001b[0m\u001b[0;34m*\u001b[0m\u001b[0minput\u001b[0m\u001b[0;34m,\u001b[0m \u001b[0;34m**\u001b[0m\u001b[0mkwargs\u001b[0m\u001b[0;34m)\u001b[0m\u001b[0;34m\u001b[0m\u001b[0;34m\u001b[0m\u001b[0m\n\u001b[0m\u001b[1;32m   1052\u001b[0m         \u001b[0;31m# Do not call functions when jit is used\u001b[0m\u001b[0;34m\u001b[0m\u001b[0;34m\u001b[0m\u001b[0m\n\u001b[1;32m   1053\u001b[0m         \u001b[0mfull_backward_hooks\u001b[0m\u001b[0;34m,\u001b[0m \u001b[0mnon_full_backward_hooks\u001b[0m \u001b[0;34m=\u001b[0m \u001b[0;34m[\u001b[0m\u001b[0;34m]\u001b[0m\u001b[0;34m,\u001b[0m \u001b[0;34m[\u001b[0m\u001b[0;34m]\u001b[0m\u001b[0;34m\u001b[0m\u001b[0;34m\u001b[0m\u001b[0m\n",
      "\u001b[0;32m~/deepgd/deepgd/modules.py\u001b[0m in \u001b[0;36mforward\u001b[0;34m(self, v, data, weights)\u001b[0m\n\u001b[1;32m    423\u001b[0m                          \u001b[0mdirection\u001b[0m\u001b[0;34m=\u001b[0m\u001b[0mself\u001b[0m\u001b[0;34m.\u001b[0m\u001b[0mdirection\u001b[0m \u001b[0;32mand\u001b[0m \u001b[0mget_extra\u001b[0m\u001b[0;34m,\u001b[0m\u001b[0;34m\u001b[0m\u001b[0;34m\u001b[0m\u001b[0m\n\u001b[1;32m    424\u001b[0m                          weights=weights if get_extra and self.n_weights > 0 else None)\n\u001b[0;32m--> 425\u001b[0;31m             \u001b[0mv\u001b[0m \u001b[0;34m=\u001b[0m \u001b[0mself\u001b[0m\u001b[0;34m.\u001b[0m\u001b[0mgnn\u001b[0m\u001b[0;34m[\u001b[0m\u001b[0mlayer\u001b[0m\u001b[0;34m]\u001b[0m\u001b[0;34m(\u001b[0m\u001b[0mv\u001b[0m\u001b[0;34m,\u001b[0m \u001b[0me\u001b[0m\u001b[0;34m,\u001b[0m \u001b[0mdata\u001b[0m\u001b[0;34m)\u001b[0m\u001b[0;34m\u001b[0m\u001b[0;34m\u001b[0m\u001b[0m\n\u001b[0m\u001b[1;32m    426\u001b[0m         \u001b[0;32mreturn\u001b[0m \u001b[0mv\u001b[0m \u001b[0;34m+\u001b[0m \u001b[0mvres\u001b[0m \u001b[0;32mif\u001b[0m \u001b[0mself\u001b[0m\u001b[0;34m.\u001b[0m\u001b[0mresidual\u001b[0m \u001b[0;32melse\u001b[0m \u001b[0mv\u001b[0m\u001b[0;34m\u001b[0m\u001b[0;34m\u001b[0m\u001b[0m\n\u001b[1;32m    427\u001b[0m \u001b[0;34m\u001b[0m\u001b[0m\n",
      "\u001b[0;32m~/.conda/envs/deepgd/lib/python3.9/site-packages/torch/nn/modules/module.py\u001b[0m in \u001b[0;36m_call_impl\u001b[0;34m(self, *input, **kwargs)\u001b[0m\n\u001b[1;32m   1049\u001b[0m         if not (self._backward_hooks or self._forward_hooks or self._forward_pre_hooks or _global_backward_hooks\n\u001b[1;32m   1050\u001b[0m                 or _global_forward_hooks or _global_forward_pre_hooks):\n\u001b[0;32m-> 1051\u001b[0;31m             \u001b[0;32mreturn\u001b[0m \u001b[0mforward_call\u001b[0m\u001b[0;34m(\u001b[0m\u001b[0;34m*\u001b[0m\u001b[0minput\u001b[0m\u001b[0;34m,\u001b[0m \u001b[0;34m**\u001b[0m\u001b[0mkwargs\u001b[0m\u001b[0;34m)\u001b[0m\u001b[0;34m\u001b[0m\u001b[0;34m\u001b[0m\u001b[0m\n\u001b[0m\u001b[1;32m   1052\u001b[0m         \u001b[0;31m# Do not call functions when jit is used\u001b[0m\u001b[0;34m\u001b[0m\u001b[0;34m\u001b[0m\u001b[0m\n\u001b[1;32m   1053\u001b[0m         \u001b[0mfull_backward_hooks\u001b[0m\u001b[0;34m,\u001b[0m \u001b[0mnon_full_backward_hooks\u001b[0m \u001b[0;34m=\u001b[0m \u001b[0;34m[\u001b[0m\u001b[0;34m]\u001b[0m\u001b[0;34m,\u001b[0m \u001b[0;34m[\u001b[0m\u001b[0;34m]\u001b[0m\u001b[0;34m\u001b[0m\u001b[0;34m\u001b[0m\u001b[0m\n",
      "\u001b[0;32m~/deepgd/deepgd/modules.py\u001b[0m in \u001b[0;36mforward\u001b[0;34m(self, v, e, data)\u001b[0m\n\u001b[1;32m    228\u001b[0m     \u001b[0;32mdef\u001b[0m \u001b[0mforward\u001b[0m\u001b[0;34m(\u001b[0m\u001b[0mself\u001b[0m\u001b[0;34m,\u001b[0m \u001b[0mv\u001b[0m\u001b[0;34m,\u001b[0m \u001b[0me\u001b[0m\u001b[0;34m,\u001b[0m \u001b[0mdata\u001b[0m\u001b[0;34m)\u001b[0m\u001b[0;34m:\u001b[0m\u001b[0;34m\u001b[0m\u001b[0;34m\u001b[0m\u001b[0m\n\u001b[1;32m    229\u001b[0m         \u001b[0mv_\u001b[0m \u001b[0;34m=\u001b[0m \u001b[0mv\u001b[0m\u001b[0;34m\u001b[0m\u001b[0;34m\u001b[0m\u001b[0m\n\u001b[0;32m--> 230\u001b[0;31m         \u001b[0mv\u001b[0m \u001b[0;34m=\u001b[0m \u001b[0mself\u001b[0m\u001b[0;34m.\u001b[0m\u001b[0mconv\u001b[0m\u001b[0;34m(\u001b[0m\u001b[0mv\u001b[0m\u001b[0;34m,\u001b[0m \u001b[0mdata\u001b[0m\u001b[0;34m.\u001b[0m\u001b[0medge_index\u001b[0m\u001b[0;34m,\u001b[0m \u001b[0me\u001b[0m\u001b[0;34m)\u001b[0m\u001b[0;34m\u001b[0m\u001b[0;34m\u001b[0m\u001b[0m\n\u001b[0m\u001b[1;32m    231\u001b[0m         \u001b[0mv\u001b[0m \u001b[0;34m=\u001b[0m \u001b[0mself\u001b[0m\u001b[0;34m.\u001b[0m\u001b[0mdense\u001b[0m\u001b[0;34m(\u001b[0m\u001b[0mv\u001b[0m\u001b[0;34m)\u001b[0m\u001b[0;34m\u001b[0m\u001b[0;34m\u001b[0m\u001b[0m\n\u001b[1;32m    232\u001b[0m         \u001b[0mv\u001b[0m \u001b[0;34m=\u001b[0m \u001b[0mself\u001b[0m\u001b[0;34m.\u001b[0m\u001b[0mbn\u001b[0m\u001b[0;34m(\u001b[0m\u001b[0mv\u001b[0m\u001b[0;34m)\u001b[0m\u001b[0;34m\u001b[0m\u001b[0;34m\u001b[0m\u001b[0m\n",
      "\u001b[0;32m~/.conda/envs/deepgd/lib/python3.9/site-packages/torch/nn/modules/module.py\u001b[0m in \u001b[0;36m_call_impl\u001b[0;34m(self, *input, **kwargs)\u001b[0m\n\u001b[1;32m   1049\u001b[0m         if not (self._backward_hooks or self._forward_hooks or self._forward_pre_hooks or _global_backward_hooks\n\u001b[1;32m   1050\u001b[0m                 or _global_forward_hooks or _global_forward_pre_hooks):\n\u001b[0;32m-> 1051\u001b[0;31m             \u001b[0;32mreturn\u001b[0m \u001b[0mforward_call\u001b[0m\u001b[0;34m(\u001b[0m\u001b[0;34m*\u001b[0m\u001b[0minput\u001b[0m\u001b[0;34m,\u001b[0m \u001b[0;34m**\u001b[0m\u001b[0mkwargs\u001b[0m\u001b[0;34m)\u001b[0m\u001b[0;34m\u001b[0m\u001b[0;34m\u001b[0m\u001b[0m\n\u001b[0m\u001b[1;32m   1052\u001b[0m         \u001b[0;31m# Do not call functions when jit is used\u001b[0m\u001b[0;34m\u001b[0m\u001b[0;34m\u001b[0m\u001b[0m\n\u001b[1;32m   1053\u001b[0m         \u001b[0mfull_backward_hooks\u001b[0m\u001b[0;34m,\u001b[0m \u001b[0mnon_full_backward_hooks\u001b[0m \u001b[0;34m=\u001b[0m \u001b[0;34m[\u001b[0m\u001b[0;34m]\u001b[0m\u001b[0;34m,\u001b[0m \u001b[0;34m[\u001b[0m\u001b[0;34m]\u001b[0m\u001b[0;34m\u001b[0m\u001b[0;34m\u001b[0m\u001b[0m\n",
      "\u001b[0;32m~/.conda/envs/deepgd/lib/python3.9/site-packages/torch_geometric/nn/conv/nn_conv.py\u001b[0m in \u001b[0;36mforward\u001b[0;34m(self, x, edge_index, edge_attr, size)\u001b[0m\n\u001b[1;32m     88\u001b[0m \u001b[0;34m\u001b[0m\u001b[0m\n\u001b[1;32m     89\u001b[0m         \u001b[0;31m# propagate_type: (x: OptPairTensor, edge_attr: OptTensor)\u001b[0m\u001b[0;34m\u001b[0m\u001b[0;34m\u001b[0m\u001b[0m\n\u001b[0;32m---> 90\u001b[0;31m         \u001b[0mout\u001b[0m \u001b[0;34m=\u001b[0m \u001b[0mself\u001b[0m\u001b[0;34m.\u001b[0m\u001b[0mpropagate\u001b[0m\u001b[0;34m(\u001b[0m\u001b[0medge_index\u001b[0m\u001b[0;34m,\u001b[0m \u001b[0mx\u001b[0m\u001b[0;34m=\u001b[0m\u001b[0mx\u001b[0m\u001b[0;34m,\u001b[0m \u001b[0medge_attr\u001b[0m\u001b[0;34m=\u001b[0m\u001b[0medge_attr\u001b[0m\u001b[0;34m,\u001b[0m \u001b[0msize\u001b[0m\u001b[0;34m=\u001b[0m\u001b[0msize\u001b[0m\u001b[0;34m)\u001b[0m\u001b[0;34m\u001b[0m\u001b[0;34m\u001b[0m\u001b[0m\n\u001b[0m\u001b[1;32m     91\u001b[0m \u001b[0;34m\u001b[0m\u001b[0m\n\u001b[1;32m     92\u001b[0m         \u001b[0mx_r\u001b[0m \u001b[0;34m=\u001b[0m \u001b[0mx\u001b[0m\u001b[0;34m[\u001b[0m\u001b[0;36m1\u001b[0m\u001b[0;34m]\u001b[0m\u001b[0;34m\u001b[0m\u001b[0;34m\u001b[0m\u001b[0m\n",
      "\u001b[0;32m~/.conda/envs/deepgd/lib/python3.9/site-packages/torch_geometric/nn/conv/message_passing.py\u001b[0m in \u001b[0;36mpropagate\u001b[0;34m(self, edge_index, size, **kwargs)\u001b[0m\n\u001b[1;32m    267\u001b[0m                 \u001b[0;32mif\u001b[0m \u001b[0mres\u001b[0m \u001b[0;32mis\u001b[0m \u001b[0;32mnot\u001b[0m \u001b[0;32mNone\u001b[0m\u001b[0;34m:\u001b[0m\u001b[0;34m\u001b[0m\u001b[0;34m\u001b[0m\u001b[0m\n\u001b[1;32m    268\u001b[0m                     \u001b[0mmsg_kwargs\u001b[0m \u001b[0;34m=\u001b[0m \u001b[0mres\u001b[0m\u001b[0;34m[\u001b[0m\u001b[0;36m0\u001b[0m\u001b[0;34m]\u001b[0m \u001b[0;32mif\u001b[0m \u001b[0misinstance\u001b[0m\u001b[0;34m(\u001b[0m\u001b[0mres\u001b[0m\u001b[0;34m,\u001b[0m \u001b[0mtuple\u001b[0m\u001b[0;34m)\u001b[0m \u001b[0;32melse\u001b[0m \u001b[0mres\u001b[0m\u001b[0;34m\u001b[0m\u001b[0;34m\u001b[0m\u001b[0m\n\u001b[0;32m--> 269\u001b[0;31m             \u001b[0mout\u001b[0m \u001b[0;34m=\u001b[0m \u001b[0mself\u001b[0m\u001b[0;34m.\u001b[0m\u001b[0mmessage\u001b[0m\u001b[0;34m(\u001b[0m\u001b[0;34m**\u001b[0m\u001b[0mmsg_kwargs\u001b[0m\u001b[0;34m)\u001b[0m\u001b[0;34m\u001b[0m\u001b[0;34m\u001b[0m\u001b[0m\n\u001b[0m\u001b[1;32m    270\u001b[0m             \u001b[0;32mfor\u001b[0m \u001b[0mhook\u001b[0m \u001b[0;32min\u001b[0m \u001b[0mself\u001b[0m\u001b[0;34m.\u001b[0m\u001b[0m_message_forward_hooks\u001b[0m\u001b[0;34m.\u001b[0m\u001b[0mvalues\u001b[0m\u001b[0;34m(\u001b[0m\u001b[0;34m)\u001b[0m\u001b[0;34m:\u001b[0m\u001b[0;34m\u001b[0m\u001b[0;34m\u001b[0m\u001b[0m\n\u001b[1;32m    271\u001b[0m                 \u001b[0mres\u001b[0m \u001b[0;34m=\u001b[0m \u001b[0mhook\u001b[0m\u001b[0;34m(\u001b[0m\u001b[0mself\u001b[0m\u001b[0;34m,\u001b[0m \u001b[0;34m(\u001b[0m\u001b[0mmsg_kwargs\u001b[0m\u001b[0;34m,\u001b[0m \u001b[0;34m)\u001b[0m\u001b[0;34m,\u001b[0m \u001b[0mout\u001b[0m\u001b[0;34m)\u001b[0m\u001b[0;34m\u001b[0m\u001b[0;34m\u001b[0m\u001b[0m\n",
      "\u001b[0;32m~/.conda/envs/deepgd/lib/python3.9/site-packages/torch_geometric/nn/conv/nn_conv.py\u001b[0m in \u001b[0;36mmessage\u001b[0;34m(self, x_j, edge_attr)\u001b[0m\n\u001b[1;32m    100\u001b[0m \u001b[0;34m\u001b[0m\u001b[0m\n\u001b[1;32m    101\u001b[0m     \u001b[0;32mdef\u001b[0m \u001b[0mmessage\u001b[0m\u001b[0;34m(\u001b[0m\u001b[0mself\u001b[0m\u001b[0;34m,\u001b[0m \u001b[0mx_j\u001b[0m\u001b[0;34m:\u001b[0m \u001b[0mTensor\u001b[0m\u001b[0;34m,\u001b[0m \u001b[0medge_attr\u001b[0m\u001b[0;34m:\u001b[0m \u001b[0mTensor\u001b[0m\u001b[0;34m)\u001b[0m \u001b[0;34m->\u001b[0m \u001b[0mTensor\u001b[0m\u001b[0;34m:\u001b[0m\u001b[0;34m\u001b[0m\u001b[0;34m\u001b[0m\u001b[0m\n\u001b[0;32m--> 102\u001b[0;31m         \u001b[0mweight\u001b[0m \u001b[0;34m=\u001b[0m \u001b[0mself\u001b[0m\u001b[0;34m.\u001b[0m\u001b[0mnn\u001b[0m\u001b[0;34m(\u001b[0m\u001b[0medge_attr\u001b[0m\u001b[0;34m)\u001b[0m\u001b[0;34m\u001b[0m\u001b[0;34m\u001b[0m\u001b[0m\n\u001b[0m\u001b[1;32m    103\u001b[0m         \u001b[0mweight\u001b[0m \u001b[0;34m=\u001b[0m \u001b[0mweight\u001b[0m\u001b[0;34m.\u001b[0m\u001b[0mview\u001b[0m\u001b[0;34m(\u001b[0m\u001b[0;34m-\u001b[0m\u001b[0;36m1\u001b[0m\u001b[0;34m,\u001b[0m \u001b[0mself\u001b[0m\u001b[0;34m.\u001b[0m\u001b[0min_channels_l\u001b[0m\u001b[0;34m,\u001b[0m \u001b[0mself\u001b[0m\u001b[0;34m.\u001b[0m\u001b[0mout_channels\u001b[0m\u001b[0;34m)\u001b[0m\u001b[0;34m\u001b[0m\u001b[0;34m\u001b[0m\u001b[0m\n\u001b[1;32m    104\u001b[0m         \u001b[0;32mreturn\u001b[0m \u001b[0mtorch\u001b[0m\u001b[0;34m.\u001b[0m\u001b[0mmatmul\u001b[0m\u001b[0;34m(\u001b[0m\u001b[0mx_j\u001b[0m\u001b[0;34m.\u001b[0m\u001b[0munsqueeze\u001b[0m\u001b[0;34m(\u001b[0m\u001b[0;36m1\u001b[0m\u001b[0;34m)\u001b[0m\u001b[0;34m,\u001b[0m \u001b[0mweight\u001b[0m\u001b[0;34m)\u001b[0m\u001b[0;34m.\u001b[0m\u001b[0msqueeze\u001b[0m\u001b[0;34m(\u001b[0m\u001b[0;36m1\u001b[0m\u001b[0;34m)\u001b[0m\u001b[0;34m\u001b[0m\u001b[0;34m\u001b[0m\u001b[0m\n",
      "\u001b[0;32m~/.conda/envs/deepgd/lib/python3.9/site-packages/torch/nn/modules/module.py\u001b[0m in \u001b[0;36m_call_impl\u001b[0;34m(self, *input, **kwargs)\u001b[0m\n\u001b[1;32m   1049\u001b[0m         if not (self._backward_hooks or self._forward_hooks or self._forward_pre_hooks or _global_backward_hooks\n\u001b[1;32m   1050\u001b[0m                 or _global_forward_hooks or _global_forward_pre_hooks):\n\u001b[0;32m-> 1051\u001b[0;31m             \u001b[0;32mreturn\u001b[0m \u001b[0mforward_call\u001b[0m\u001b[0;34m(\u001b[0m\u001b[0;34m*\u001b[0m\u001b[0minput\u001b[0m\u001b[0;34m,\u001b[0m \u001b[0;34m**\u001b[0m\u001b[0mkwargs\u001b[0m\u001b[0;34m)\u001b[0m\u001b[0;34m\u001b[0m\u001b[0;34m\u001b[0m\u001b[0m\n\u001b[0m\u001b[1;32m   1052\u001b[0m         \u001b[0;31m# Do not call functions when jit is used\u001b[0m\u001b[0;34m\u001b[0m\u001b[0;34m\u001b[0m\u001b[0m\n\u001b[1;32m   1053\u001b[0m         \u001b[0mfull_backward_hooks\u001b[0m\u001b[0;34m,\u001b[0m \u001b[0mnon_full_backward_hooks\u001b[0m \u001b[0;34m=\u001b[0m \u001b[0;34m[\u001b[0m\u001b[0;34m]\u001b[0m\u001b[0;34m,\u001b[0m \u001b[0;34m[\u001b[0m\u001b[0;34m]\u001b[0m\u001b[0;34m\u001b[0m\u001b[0;34m\u001b[0m\u001b[0m\n",
      "\u001b[0;32m~/.conda/envs/deepgd/lib/python3.9/site-packages/torch/nn/modules/container.py\u001b[0m in \u001b[0;36mforward\u001b[0;34m(self, input)\u001b[0m\n\u001b[1;32m    137\u001b[0m     \u001b[0;32mdef\u001b[0m \u001b[0mforward\u001b[0m\u001b[0;34m(\u001b[0m\u001b[0mself\u001b[0m\u001b[0;34m,\u001b[0m \u001b[0minput\u001b[0m\u001b[0;34m)\u001b[0m\u001b[0;34m:\u001b[0m\u001b[0;34m\u001b[0m\u001b[0;34m\u001b[0m\u001b[0m\n\u001b[1;32m    138\u001b[0m         \u001b[0;32mfor\u001b[0m \u001b[0mmodule\u001b[0m \u001b[0;32min\u001b[0m \u001b[0mself\u001b[0m\u001b[0;34m:\u001b[0m\u001b[0;34m\u001b[0m\u001b[0;34m\u001b[0m\u001b[0m\n\u001b[0;32m--> 139\u001b[0;31m             \u001b[0minput\u001b[0m \u001b[0;34m=\u001b[0m \u001b[0mmodule\u001b[0m\u001b[0;34m(\u001b[0m\u001b[0minput\u001b[0m\u001b[0;34m)\u001b[0m\u001b[0;34m\u001b[0m\u001b[0;34m\u001b[0m\u001b[0m\n\u001b[0m\u001b[1;32m    140\u001b[0m         \u001b[0;32mreturn\u001b[0m \u001b[0minput\u001b[0m\u001b[0;34m\u001b[0m\u001b[0;34m\u001b[0m\u001b[0m\n\u001b[1;32m    141\u001b[0m \u001b[0;34m\u001b[0m\u001b[0m\n",
      "\u001b[0;32m~/.conda/envs/deepgd/lib/python3.9/site-packages/torch/nn/modules/module.py\u001b[0m in \u001b[0;36m_call_impl\u001b[0;34m(self, *input, **kwargs)\u001b[0m\n\u001b[1;32m   1049\u001b[0m         if not (self._backward_hooks or self._forward_hooks or self._forward_pre_hooks or _global_backward_hooks\n\u001b[1;32m   1050\u001b[0m                 or _global_forward_hooks or _global_forward_pre_hooks):\n\u001b[0;32m-> 1051\u001b[0;31m             \u001b[0;32mreturn\u001b[0m \u001b[0mforward_call\u001b[0m\u001b[0;34m(\u001b[0m\u001b[0;34m*\u001b[0m\u001b[0minput\u001b[0m\u001b[0;34m,\u001b[0m \u001b[0;34m**\u001b[0m\u001b[0mkwargs\u001b[0m\u001b[0;34m)\u001b[0m\u001b[0;34m\u001b[0m\u001b[0;34m\u001b[0m\u001b[0m\n\u001b[0m\u001b[1;32m   1052\u001b[0m         \u001b[0;31m# Do not call functions when jit is used\u001b[0m\u001b[0;34m\u001b[0m\u001b[0;34m\u001b[0m\u001b[0m\n\u001b[1;32m   1053\u001b[0m         \u001b[0mfull_backward_hooks\u001b[0m\u001b[0;34m,\u001b[0m \u001b[0mnon_full_backward_hooks\u001b[0m \u001b[0;34m=\u001b[0m \u001b[0;34m[\u001b[0m\u001b[0;34m]\u001b[0m\u001b[0;34m,\u001b[0m \u001b[0;34m[\u001b[0m\u001b[0;34m]\u001b[0m\u001b[0;34m\u001b[0m\u001b[0;34m\u001b[0m\u001b[0m\n",
      "\u001b[0;32m~/.conda/envs/deepgd/lib/python3.9/site-packages/torch/nn/modules/linear.py\u001b[0m in \u001b[0;36mforward\u001b[0;34m(self, input)\u001b[0m\n\u001b[1;32m     94\u001b[0m \u001b[0;34m\u001b[0m\u001b[0m\n\u001b[1;32m     95\u001b[0m     \u001b[0;32mdef\u001b[0m \u001b[0mforward\u001b[0m\u001b[0;34m(\u001b[0m\u001b[0mself\u001b[0m\u001b[0;34m,\u001b[0m \u001b[0minput\u001b[0m\u001b[0;34m:\u001b[0m \u001b[0mTensor\u001b[0m\u001b[0;34m)\u001b[0m \u001b[0;34m->\u001b[0m \u001b[0mTensor\u001b[0m\u001b[0;34m:\u001b[0m\u001b[0;34m\u001b[0m\u001b[0;34m\u001b[0m\u001b[0m\n\u001b[0;32m---> 96\u001b[0;31m         \u001b[0;32mreturn\u001b[0m \u001b[0mF\u001b[0m\u001b[0;34m.\u001b[0m\u001b[0mlinear\u001b[0m\u001b[0;34m(\u001b[0m\u001b[0minput\u001b[0m\u001b[0;34m,\u001b[0m \u001b[0mself\u001b[0m\u001b[0;34m.\u001b[0m\u001b[0mweight\u001b[0m\u001b[0;34m,\u001b[0m \u001b[0mself\u001b[0m\u001b[0;34m.\u001b[0m\u001b[0mbias\u001b[0m\u001b[0;34m)\u001b[0m\u001b[0;34m\u001b[0m\u001b[0;34m\u001b[0m\u001b[0m\n\u001b[0m\u001b[1;32m     97\u001b[0m \u001b[0;34m\u001b[0m\u001b[0m\n\u001b[1;32m     98\u001b[0m     \u001b[0;32mdef\u001b[0m \u001b[0mextra_repr\u001b[0m\u001b[0;34m(\u001b[0m\u001b[0mself\u001b[0m\u001b[0;34m)\u001b[0m \u001b[0;34m->\u001b[0m \u001b[0mstr\u001b[0m\u001b[0;34m:\u001b[0m\u001b[0;34m\u001b[0m\u001b[0;34m\u001b[0m\u001b[0m\n",
      "\u001b[0;32m~/.conda/envs/deepgd/lib/python3.9/site-packages/torch/nn/functional.py\u001b[0m in \u001b[0;36mlinear\u001b[0;34m(input, weight, bias)\u001b[0m\n\u001b[1;32m   1845\u001b[0m     \u001b[0;32mif\u001b[0m \u001b[0mhas_torch_function_variadic\u001b[0m\u001b[0;34m(\u001b[0m\u001b[0minput\u001b[0m\u001b[0;34m,\u001b[0m \u001b[0mweight\u001b[0m\u001b[0;34m)\u001b[0m\u001b[0;34m:\u001b[0m\u001b[0;34m\u001b[0m\u001b[0;34m\u001b[0m\u001b[0m\n\u001b[1;32m   1846\u001b[0m         \u001b[0;32mreturn\u001b[0m \u001b[0mhandle_torch_function\u001b[0m\u001b[0;34m(\u001b[0m\u001b[0mlinear\u001b[0m\u001b[0;34m,\u001b[0m \u001b[0;34m(\u001b[0m\u001b[0minput\u001b[0m\u001b[0;34m,\u001b[0m \u001b[0mweight\u001b[0m\u001b[0;34m)\u001b[0m\u001b[0;34m,\u001b[0m \u001b[0minput\u001b[0m\u001b[0;34m,\u001b[0m \u001b[0mweight\u001b[0m\u001b[0;34m,\u001b[0m \u001b[0mbias\u001b[0m\u001b[0;34m=\u001b[0m\u001b[0mbias\u001b[0m\u001b[0;34m)\u001b[0m\u001b[0;34m\u001b[0m\u001b[0;34m\u001b[0m\u001b[0m\n\u001b[0;32m-> 1847\u001b[0;31m     \u001b[0;32mreturn\u001b[0m \u001b[0mtorch\u001b[0m\u001b[0;34m.\u001b[0m\u001b[0m_C\u001b[0m\u001b[0;34m.\u001b[0m\u001b[0m_nn\u001b[0m\u001b[0;34m.\u001b[0m\u001b[0mlinear\u001b[0m\u001b[0;34m(\u001b[0m\u001b[0minput\u001b[0m\u001b[0;34m,\u001b[0m \u001b[0mweight\u001b[0m\u001b[0;34m,\u001b[0m \u001b[0mbias\u001b[0m\u001b[0;34m)\u001b[0m\u001b[0;34m\u001b[0m\u001b[0;34m\u001b[0m\u001b[0m\n\u001b[0m\u001b[1;32m   1848\u001b[0m \u001b[0;34m\u001b[0m\u001b[0m\n\u001b[1;32m   1849\u001b[0m \u001b[0;34m\u001b[0m\u001b[0m\n",
      "\u001b[0;31mKeyboardInterrupt\u001b[0m: "
     ]
    }
   ],
   "source": [
    "def train_dis(batch, epoch):\n",
    "    generator.requires_grad_(False)\n",
    "    discriminator.zero_grad()\n",
    "    generator_output = generator(batch)\n",
    "    if config.discriminator.noise.std > 0:\n",
    "        generator_output = generator_output + torch.randn_like(generator_output) * config.discriminator.noise.std * config.discriminator.noise.decay ** epoch\n",
    "    discriminator_loss = get_gan_loss(batch, generator_output, mode='discriminator')\n",
    "    \n",
    "    # train discriminator\n",
    "    discriminator_loss.backward()\n",
    "    discriminator_optimizer.step()\n",
    "\n",
    "    # gradient penalty\n",
    "    if config.gp_weight > 0:\n",
    "        discriminator.zero_grad()\n",
    "        gp_loss = get_gp_loss(batch, generator_output, config.gp_weight)\n",
    "        gp_loss.backward()\n",
    "        discriminator_optimizer.step()\n",
    "\n",
    "    hud['dis_loss'] = format(discriminator_loss.item(), '.2e')\n",
    "    pbar().update()\n",
    "\n",
    "def train_gen(batch, epoch):\n",
    "    generator.requires_grad_(True)\n",
    "    generator.zero_grad()\n",
    "    discriminator.zero_grad()\n",
    "    generator_output = generator(batch)\n",
    "    if config.discriminator.noise.std > 0:\n",
    "        generator_output = generator_output + torch.randn_like(generator_output) * config.discriminator.noise.std * config.discriminator.noise.decay ** epoch\n",
    "    generator_loss = get_gan_loss(batch, generator_output, mode='generator') \n",
    "    \n",
    "    #train generator\n",
    "    generator_loss.backward()\n",
    "    generator_optimizer.step()\n",
    "\n",
    "    with torch.no_grad():\n",
    "        dis_batch = dis_convert(batch, generator_output)\n",
    "        stress = stress_criterion(dis_batch).mean()\n",
    "        critic = discriminator(dis_batch).mean()\n",
    "    hud.append({'gen_loss': format(generator_loss.item(), '.2e'),\n",
    "                'stress': format(stress.item(), '.2e'),\n",
    "                'critic': format(critic.item(), '.2e')})\n",
    "    pbar().update()\n",
    "\n",
    "def cuda_memsafe_map(fn, *iterables, summary=False):\n",
    "    total, failed = 0, 0\n",
    "    iterator = zip(*iterables)\n",
    "    items = None\n",
    "    while True:\n",
    "        try:\n",
    "            items = next(iterator)\n",
    "            yield fn(*items)\n",
    "        except StopIteration:\n",
    "            if summary:\n",
    "                print(f'Iteration finished. {failed} out of {total} failed!')\n",
    "            break\n",
    "        except RuntimeError:\n",
    "            print('CUDA memory overflow! Skip batch...')\n",
    "            del items\n",
    "            failed += 1\n",
    "        torch.cuda.empty_cache()\n",
    "        total += 1\n",
    "    \n",
    "def validate(model, data_loader, criterion=val_criterion):\n",
    "    def val_one_batch(batch):\n",
    "        batch = preprocess_batch(model, batch)\n",
    "        pred = CanonicalizationByStress()(model(batch), batch)\n",
    "        gt = CanonicalizationByStress()(batch.gt_pos, batch)\n",
    "        loss = criterion(pred, batch)\n",
    "        gt_loss = criterion(gt, batch)\n",
    "        spc = (loss - gt_loss) / torch.maximum(torch.maximum(loss, gt_loss), torch.ones_like(loss)*1e-5)\n",
    "        return loss.mean().item(), spc.mean().item()\n",
    "    loss_all, spc_all = zip(*cuda_memsafe_map(val_one_batch, data_loader))\n",
    "    return np.mean(loss_all), np.mean(spc_all)\n",
    "\n",
    "def log(msg):\n",
    "    msg = f\"[{epoch:03}] {msg}\"\n",
    "    print(msg, file=open(paths.log(), \"a\"))\n",
    "    with log_out: \n",
    "        print(msg)\n",
    "\n",
    "print(f\"{'='*10} {config.link} {'='*10}\", file=open(paths.log(), \"a\"))\n",
    "hud = Hud()\n",
    "pbar = Wrapper(tqdm, total=len(train_loader)*2, smoothing=0)\n",
    "plot_out = Output()\n",
    "log_out = Output()\n",
    "tabs = {\"status\": VBox([pbar, hud]), \n",
    "        \"plot\": HBox([plot_out], layout=Layout(height='500px', overflow_y='auto')),\n",
    "        \"log\": HBox([log_out], layout=Layout(height='500px', overflow_y='auto'))}\n",
    "tab_bar = Tab(children=list(tabs.values()))\n",
    "[tab_bar.set_title(i, name) for i, name in enumerate(tabs)]\n",
    "display(tab_bar)\n",
    "while True:\n",
    "    if epoch % config.log_interval == 0:\n",
    "        torch.save(generator.state_dict(), f\"{paths.checkpoints()}/gen_epoch_{epoch}.pt\")\n",
    "        torch.save(generator_optimizer.state_dict(), f\"{paths.checkpoints()}/gen_optim_epoch_{epoch}.pt\")\n",
    "        torch.save(discriminator.state_dict(), f\"{paths.checkpoints()}/dis_epoch_{epoch}.pt\")\n",
    "        torch.save(discriminator_optimizer.state_dict(), f\"{paths.checkpoints()}/dis_optim_epoch_{epoch}.pt\")\n",
    "        generator.eval()\n",
    "        with torch.no_grad():\n",
    "            val_stress, val_stress_spc = validate(model=generator, data_loader=val_loader)\n",
    "            val_xing, val_xing_spc = validate(model=generator, data_loader=val_loader, criterion=xing_criterion)\n",
    "            with plot_out:\n",
    "                fig = plt.figure()\n",
    "                graph_vis(G_list[11100], generator(make_batch(data_list[11100]).to(device)).cpu())\n",
    "                plt.show()\n",
    "        # tensorboard.add_scalars('loss', {'train': train_loss, \n",
    "        #                                  'validation': val_loss}, epoch)\n",
    "        # for i, fn in enumerate(loss_fns):\n",
    "        #     tensorboard.add_scalars(type(fn).__name__, {'train': train_loss_comp[i].item(), \n",
    "        #                                           'validation': val_loss_comp[i].item()}, epoch)\n",
    "        hud.append({\n",
    "            'val_stress': format(val_stress, '.2f'),\n",
    "            'val_stress_spc': format(val_stress_spc, '.2%'),\n",
    "            'val_xing': format(val_xing, '.2f'),\n",
    "            'val_xing_spc': format(val_xing_spc, '.2%'),\n",
    "        })\n",
    "        log(f\"stress={hud.data['val_stress']}({hud.data['val_stress_spc']}) xing={hud.data['val_xing']}({hud.data['val_xing_spc']})\")\n",
    "        \n",
    "    # handle.update(tab_bar)\n",
    "    pbar().reset()\n",
    "    pbar().set_description(desc=f\"[epoch {epoch}/{config.epoch.end}]\")\n",
    "    hud(title=f\"epoch {epoch}\")\n",
    "    generator.train()\n",
    "    discriminator.train()\n",
    "    # proper: proper layout\n",
    "    for _ in range(config.discriminator.repeat):\n",
    "        for batch in train_loader:\n",
    "            train_dis(batch, epoch)\n",
    "            if config.alternate == 'iteration':\n",
    "                train_gen(batch, epoch)\n",
    "\n",
    "    if config.alternate == 'epoch':\n",
    "        for batch in train_loader:\n",
    "            train_gen(batch, epoch)\n",
    "\n",
    "    discriminator_scheduler.step()\n",
    "    generator_scheduler.step()\n",
    "\n",
    "    if epoch == config.epoch.end:\n",
    "        break\n",
    "    epoch += 1"
   ]
  },
  {
   "cell_type": "markdown",
   "metadata": {
    "id": "0qYK_X_hrq9o"
   },
   "source": [
    "# Test"
   ]
  },
  {
   "cell_type": "code",
   "execution_count": 33,
   "metadata": {
    "colab": {
     "base_uri": "https://localhost:8080/"
    },
    "id": "XEvmAtNjWhcY",
    "outputId": "9f4c86a4-a4b0-48f1-cb58-ab3679173184"
   },
   "outputs": [
    {
     "name": "stdout",
     "output_type": "stream",
     "text": [
      "Loading from artifacts/checkpoints/GAN(gan=ragan,data=best(xing,stress),dis=deep,share=12,embed=4,gp=0)/gen_epoch_1060.pt...\n"
     ]
    },
    {
     "data": {
      "text/plain": [
       "<All keys matched successfully>"
      ]
     },
     "execution_count": 33,
     "metadata": {},
     "output_type": "execute_result"
    }
   ],
   "source": [
    "test_epoch = -1\n",
    "\n",
    "test_generator = Generator(**config.generator.params[...]).to(device)\n",
    "test_ckpt_epoch = get_ckpt_epoch(paths.checkpoints(), test_epoch)\n",
    "test_ckpt_file = f\"{paths.checkpoints()}/gen_epoch_{test_ckpt_epoch}.pt\"\n",
    "print(f\"Loading from {test_ckpt_file}...\")\n",
    "test_generator.load_state_dict(torch.load(test_ckpt_file, map_location=torch.device(device)))"
   ]
  },
  {
   "cell_type": "code",
   "execution_count": 34,
   "metadata": {
    "colab": {
     "background_save": true,
     "base_uri": "https://localhost:8080/",
     "height": 1000,
     "referenced_widgets": [
      "9b7d18992dbf4a84931f916fbaaa37d8",
      "2c664d7e1e6d474fb87094fc0da270d3",
      "d375f5f82a4645d7b29c541596dc1c7f",
      "ecfa311bb06b4f6fa504598263ff69d3",
      "d1859990877149eab2b414b4e2a0e0c7",
      "d2be6733734844bca3e1db9b49eb1c1e",
      "4d98072bdf674792a13d77e85dd285d1",
      "f7ed92c383d741a0a1cef2536ff2db13",
      "2ba110f835c64ec4b82974996aed10af",
      "09397ceac9014af0aebca848d4d96d48",
      "fd0709f48d6c4527bc00b5f407f3c1b9"
     ]
    },
    "id": "ZubmSTcYrq9o",
    "outputId": "fc2f65a2-2085-43ac-b110-cbfe742318a8",
    "scrolled": true,
    "tags": []
   },
   "outputs": [
    {
     "data": {
      "application/vnd.jupyter.widget-view+json": {
       "model_id": "6d356d155c3a4bcc8ca54cf6509cf6d6",
       "version_major": 2,
       "version_minor": 0
      },
      "text/plain": [
       "  0%|          | 0/1000 [00:00<?, ?it/s]"
      ]
     },
     "metadata": {},
     "output_type": "display_data"
    }
   ],
   "source": [
    "rotate = RotateByPrincipalComponents()\n",
    "def test_callback(*, idx, pred, metrics):\n",
    "    # graph_vis(G_list[idx], pred, file_name=f\"{paths.visualization()}/{idx}_{metrics['stress']:.2f}_{metrics['resolution_score']:.2f}.png\")\n",
    "    pred = rotate(torch.tensor(pred), data_list[idx])\n",
    "    graph_vis(G_list[idx], pred)\n",
    "    plt.title(f\"[pred] idx: {idx}, stress: {metrics['stress']:.2f}({metrics['stress_spc']:.2%}), xing: {metrics['xing']:.2f}({metrics['xing_spc']:.2%})\")\n",
    "    plt.show()\n",
    "    gt_pos = rotate(data_list[idx].gt_pos, data_list[idx])\n",
    "    graph_vis(G_list[idx], gt_pos, node_color='orange')\n",
    "    plt.title(f\"[gt] idx: {idx}, stress: {metrics['gt_stress']:.2f}, xing: {metrics['gt_xing']:.2f}\")\n",
    "    plt.show()\n",
    "    \n",
    "test_metrics = test(model=test_generator, \n",
    "                    criteria_list=[], \n",
    "                    dataset=data_list, \n",
    "                    idx_range=range(10000, 11000), \n",
    "#                     callback=test_callback,\n",
    "                    gt_pos=None)\n",
    "pickle.dump(test_metrics, open(paths.metrics(\"test\"), \"wb\"))"
   ]
  },
  {
   "cell_type": "code",
   "execution_count": 35,
   "metadata": {
    "colab": {
     "base_uri": "https://localhost:8080/",
     "height": 318
    },
    "id": "t2rFXIr_PsrJ",
    "outputId": "6a4205b1-4630-4de4-ec72-bdba3d3ea114"
   },
   "outputs": [
    {
     "name": "stdout",
     "output_type": "stream",
     "text": [
      "stress: tensor(356.3422)\n",
      "stress_spc: tensor(0.1944, dtype=torch.float64)\n",
      "xing: tensor(29.5470)\n",
      "xing_spc: tensor(0.2808, dtype=torch.float64)\n",
      "l1_angle: tensor(83.5822)\n",
      "l1_angle_spc: tensor(0.1075, dtype=torch.float64)\n",
      "edge: tensor(0.2261)\n",
      "edge_spc: tensor(0.2938, dtype=torch.float64)\n",
      "ring: tensor(268.8551)\n",
      "ring_spc: tensor(0.0807, dtype=torch.float64)\n",
      "tsne: tensor(0.2258)\n",
      "tsne_spc: tensor(0.1722, dtype=torch.float64)\n",
      "reso_score: tensor(0.5747)\n",
      "min_angle: tensor(3.0019)\n"
     ]
    },
    {
     "data": {
      "text/html": [
       "<style type=\"text/css\">\n",
       "</style>\n",
       "<table id=\"T_9abe8_\">\n",
       "  <thead>\n",
       "    <tr>\n",
       "      <th class=\"blank level0\" >&nbsp;</th>\n",
       "      <th class=\"col_heading level0 col0\" >stress</th>\n",
       "      <th class=\"col_heading level0 col1\" >stress_spc</th>\n",
       "      <th class=\"col_heading level0 col2\" >xing</th>\n",
       "      <th class=\"col_heading level0 col3\" >xing_spc</th>\n",
       "      <th class=\"col_heading level0 col4\" >l1_angle</th>\n",
       "      <th class=\"col_heading level0 col5\" >l1_angle_spc</th>\n",
       "      <th class=\"col_heading level0 col6\" >edge</th>\n",
       "      <th class=\"col_heading level0 col7\" >edge_spc</th>\n",
       "      <th class=\"col_heading level0 col8\" >ring</th>\n",
       "      <th class=\"col_heading level0 col9\" >ring_spc</th>\n",
       "      <th class=\"col_heading level0 col10\" >tsne</th>\n",
       "      <th class=\"col_heading level0 col11\" >tsne_spc</th>\n",
       "      <th class=\"col_heading level0 col12\" >reso_score</th>\n",
       "      <th class=\"col_heading level0 col13\" >min_angle</th>\n",
       "    </tr>\n",
       "  </thead>\n",
       "  <tbody>\n",
       "    <tr>\n",
       "      <th id=\"T_9abe8_level0_row0\" class=\"row_heading level0 row0\" >0</th>\n",
       "      <td id=\"T_9abe8_row0_col0\" class=\"data row0 col0\" >356.34</td>\n",
       "      <td id=\"T_9abe8_row0_col1\" class=\"data row0 col1\" >19.44%</td>\n",
       "      <td id=\"T_9abe8_row0_col2\" class=\"data row0 col2\" >29.55</td>\n",
       "      <td id=\"T_9abe8_row0_col3\" class=\"data row0 col3\" >28.08%</td>\n",
       "      <td id=\"T_9abe8_row0_col4\" class=\"data row0 col4\" >83.58</td>\n",
       "      <td id=\"T_9abe8_row0_col5\" class=\"data row0 col5\" >10.75%</td>\n",
       "      <td id=\"T_9abe8_row0_col6\" class=\"data row0 col6\" >0.23</td>\n",
       "      <td id=\"T_9abe8_row0_col7\" class=\"data row0 col7\" >29.38%</td>\n",
       "      <td id=\"T_9abe8_row0_col8\" class=\"data row0 col8\" >268.86</td>\n",
       "      <td id=\"T_9abe8_row0_col9\" class=\"data row0 col9\" >8.07%</td>\n",
       "      <td id=\"T_9abe8_row0_col10\" class=\"data row0 col10\" >0.23</td>\n",
       "      <td id=\"T_9abe8_row0_col11\" class=\"data row0 col11\" >17.22%</td>\n",
       "      <td id=\"T_9abe8_row0_col12\" class=\"data row0 col12\" >0.57</td>\n",
       "      <td id=\"T_9abe8_row0_col13\" class=\"data row0 col13\" >3.00</td>\n",
       "    </tr>\n",
       "  </tbody>\n",
       "</table>\n"
      ],
      "text/plain": [
       "<pandas.io.formats.style.Styler at 0x2b4fa6cbe5e0>"
      ]
     },
     "execution_count": 35,
     "metadata": {},
     "output_type": "execute_result"
    }
   ],
   "source": [
    "metrics = test_metrics\n",
    "print('stress:', metrics['stress'].mean())\n",
    "print('stress_spc:', metrics['stress_spc'].mean())\n",
    "print('xing:', metrics['xing'].mean())\n",
    "print('xing_spc:', metrics['xing_spc'].mean())\n",
    "print('l1_angle:', metrics['l1_angle'].mean())\n",
    "print('l1_angle_spc:', metrics['l1_angle_spc'].mean())\n",
    "print('edge:', metrics['edge'].mean())\n",
    "print('edge_spc:', metrics['edge_spc'].mean())\n",
    "print('ring:', metrics['ring'].mean())\n",
    "print('ring_spc:', metrics['ring_spc'].mean())\n",
    "print('tsne:', metrics['tsne'].mean())\n",
    "print('tsne_spc:', metrics['tsne_spc'].mean())\n",
    "print('reso_score:', metrics['resolution_score'].mean())\n",
    "print('min_angle:', metrics['min_angle'].mean())\n",
    "columns = [\n",
    "    'stress',\n",
    "    'stress_spc',\n",
    "    'xing',\n",
    "    'xing_spc',\n",
    "    'l1_angle',\n",
    "    'l1_angle_spc',\n",
    "    'edge',\n",
    "    'edge_spc',\n",
    "    'ring',\n",
    "    'ring_spc',\n",
    "    'tsne',\n",
    "    'tsne_spc',\n",
    "    'reso_score',\n",
    "    'min_angle'\n",
    "]\n",
    "df = pd.DataFrame(map(lambda m: metrics[m].mean().item(), list(metrics.keys())[:-1])).set_axis(columns).T\n",
    "df.style.format({c: \"{:.2f}\" for c in columns if 'spc' not in c} | {c: \"{:.2%}\" for c in columns if 'spc' in c})"
   ]
  },
  {
   "cell_type": "code",
   "execution_count": 36,
   "metadata": {
    "id": "5e7vPr0M3mmG"
   },
   "outputs": [],
   "source": [
    "metrics = {}"
   ]
  },
  {
   "cell_type": "code",
   "execution_count": 37,
   "metadata": {},
   "outputs": [],
   "source": [
    "methods = ['fa2']"
   ]
  },
  {
   "cell_type": "code",
   "execution_count": 38,
   "metadata": {
    "colab": {
     "base_uri": "https://localhost:8080/",
     "height": 433,
     "referenced_widgets": [
      "a0cf6e046add4e639e52db69656e0db9",
      "8e237731bb1241ac858581b25389c012",
      "0891547293ad4211a138a4d92e01bb0b",
      "34912c8e581e47a99a1c4829c38cb75c",
      "5aa034c99c94424e835a2ee954b829ed",
      "248f6393eff74c3eb8740ca6d698045b",
      "686687a29c7f4ec98c4d76ca2062b14b",
      "996a84d1c23b47e4a2af252c6b60f55d",
      "3507f883bb954412b21c1c5641763ed7",
      "9582a849d91e457cadd514c95d6e1b5b",
      "52bfe674c2c547e09b7400a32a96f703",
      "93d58b3a12394fe1aa6f0431fc7cb0db",
      "af1d7855c9d646b0bcc7d95c4cb147a6",
      "f820e2b898cd461da04a4f651d27273d",
      "c0a112cfaa3d4d0aa9530372de84d8fb",
      "fd03985495694fbf9feb3f31ef8d18ce",
      "e02a2b36aa4c4d6fb5d2ac6693c1a927",
      "06f388ff5e3a48828d465096fe69977b",
      "c0052778c9c940e88935593e9f94b83b",
      "99a5e77a192d4a989c4534237eb16730",
      "77c6da092a6647fc9e54f7e276d75616",
      "8c13c0e8b5934117a662a78296bcb1b6",
      "cdcc3bd4235247b48c468c0f6b7682cc",
      "a2c6fa6fef4549cc853fa93b4b18cf95",
      "15cc02a756314083801b5f6798a1948c",
      "24d1c67fe52f452ab0c767e3c1a818aa",
      "c117db25c6fd484a9d0c7f210ccb1ade",
      "b090b60b61084cf692b3066dfac7f0a8",
      "5eab9848059c491b9c6cbac88683f025",
      "e87ffbaa1f204b52b9226337a506b040",
      "cf52198a9e4b46c7b49537a79919c09e",
      "51501227bc064ccbab97c22a679a0750",
      "d1b794a997dc457888a90bf44faee9b4",
      "21a755b50e5047bea797eccf24b35a0c",
      "16e78c3823ec4faf9f9cd9095b218ff5",
      "4ccd332c6b734acd8eff236eaf568dfa",
      "bd60fd13748347e48629df78fa455765",
      "e9187e4ba80b4fafa0334dae2e39aded",
      "4c39ec7c92b4402e8eedcb27beabaab1",
      "59a8194269f943bba571f710ad856973",
      "8e41bc25b9f348b1b85b381547cd60d1",
      "34d0f1529e64437fb25e639b41096072",
      "7e832c7543df43668eb72c0aa6356349",
      "f94162c9c5fe4c2581e3b80beaeb820b",
      "0284946fccf34607b25e1d6d81d4f72a",
      "8e8d4243a3624ba58d760bdf601d5126",
      "b1f0932594fe44f4be4beb8880172871",
      "820bb554d139437b8f6a6997f9002261",
      "459e375d1fe4497cb4197ef88e303c6d",
      "5726814966da46bbba942a114de4b319",
      "448beea5445f4642809801da46aa7e7c",
      "3746c0f0daf04f51805b4c95db20063a",
      "2ff74d1c705348438a32da37910c3300",
      "52f03147b5ab4cb390f9802b7a17a508",
      "5428511d652a47348203e8f3cd2e076d",
      "7b58569bee2e44c5a61a81f9a32c4c01",
      "c5e05d74b9404333a8155304e3497ba2",
      "3ad4e058bde44d87abab780368d49118",
      "8e437049b5c74ff1beddad93e30b19aa",
      "0c61377f4cc34b27ae34bdd6d976d868",
      "9ce35f9a9a23436ea77604513b5c4659",
      "dafbc43ad79c4feda093aefe490fc4b3",
      "497160b6bf80469a89680a03a468c8bb",
      "3265725ecb914981b6f07f68b8a582df",
      "1f0ac20d99d04ffb9ee75613526d3de6",
      "dee0e5716560483b8e2b107566439d94",
      "ca99841a1abd4fbd94927c49aaa711cb",
      "163a44ff1be04583ae7bd62726c55204",
      "f3b727045a0b4b4fabd147ec9c843e14",
      "7c4b4fe859cf48ab99b7e2780a24a539",
      "d9700cffab66480cb81e3722faab4e8b",
      "2c49acc1e0a64aa4b8ec461b0596848e",
      "691817157f43412f9c36002167606b75",
      "d0ae688d71734b56bb348de54e841798",
      "07a364ebcdaa491dbcc2304e4a8dae96",
      "538b277307b1449eaa79a2a91b4741d3",
      "f7b7dd4cbaa5468687b988c5e416a154",
      "877be862a4f045ec8b221097626becb5",
      "1bf37012df0844338ac689d4f6cc8eab",
      "33fe06641be544d3aab2c25cb979416f",
      "68de0d9261fa4e6999967b6f196d149c",
      "7017c5ba1ffc467495aca2689e516f7d",
      "e0997460cc21428695a0c278c6691baf",
      "522443bef4904996b6361ea265c4c56f",
      "dfe044b67917466f971ba84a11956d5e",
      "70b2d0ba1c1d4102841fb963480de1c7",
      "7b158daacd754a40bc0a48fc9ea6fea2",
      "8904f61ff30741e488eacf0e49440f66",
      "685dee6f1e1f4c2983d2d0b8eb90ed00",
      "005155a4d62d48cbbaf3d69614b08d81",
      "d2779dfa620041e4b32a7731926a5982",
      "53048bf27cb24080b4cdf20379302223",
      "0b5bff7794a14a20964da70b87158c2c",
      "ec664e55ea16435590393ae1617cccea",
      "f10d62ef464a45a7935610d869c282e3",
      "5e7c09bc35db4a3a8b9847c6d8478883",
      "987ea331b617446facc81b08bab1f8c4",
      "446c5a687b0d43358ab036d43ce281c3",
      "d89e216f62ae4a9999da1a91dd5e48b9",
      "09d03e7e66f54cafacefbfeda5fd6e5c",
      "d58c680562a44bbd9252e7ec6eebc06c",
      "71ea2594fdd942acac1cc61055438544",
      "fecda4df301b437f9fbfb61a7b593dc0",
      "bcf6741d926248cb92acf627d6557d2b",
      "5bd9868b9bda4f68b500a43916e2d148",
      "4bc5e02035de44ad827c4f881fd75afc",
      "7d80033a955e4feb947ca9cea931d90b",
      "e975c796d80d498992a50f87a2b0105c",
      "028b2ff105904a19a9a3e8ebf66967bb",
      "10dbf2cbdb1943eda6a0acaf5da3fe85",
      "14d59c7acc5e4e07a289db44406a4851",
      "d9447df93d714907bc9c768eb4910352",
      "d4a9ace081bf488680a7e43e0eaed71d",
      "022a60cde19546bfa6ecfb4947615ad9",
      "10c01207d9ba4fe197dc80717fceecc0",
      "f4995936570d4ba1a65e9a66e410b505",
      "b4bf66303e61491385cd616076a11c04",
      "a24ab2bfe7a44263bf60936d6e53ec32",
      "59e2e8ecc9f84d57af7bf44f5bba5df7",
      "be2eb92aab8045a99fd19195c3546b60",
      "e6715db2b048434796e910952cb5eb62",
      "8de2335007ba4a6b9935fa0c514c9f6a",
      "493a4bbe8057437a8c8acf4d03f8dcb0",
      "20b03955acc74e238695717124705520",
      "a89f9507496b4cf8bdd63bdb9bff79c4",
      "9752a1f6c8b6488d9628b8e0c023f10f",
      "61a0bebc687341a7bb3352febc8d4986",
      "07e0ff9c82a444788c60edee70688ca7",
      "4427901f35e54cc48e08527bb402c22a",
      "bd9dafb825954091ba975d71ab8c89ea",
      "7ec0f07bfe51484da38c18dc66d77804",
      "03943afebc4d4b668b54c7a0fd014a37",
      "a7a6b38a76424d738146b6a5786cf2c8",
      "1d1aa4729784470584c0001c1a296008",
      "e0c68ac9b5b442eeb77e6d9ea3c1da42",
      "c858ef9fd9324ab0ab885d85e3c8582f",
      "627bc2899c994a0c96c5d43e89dc77ff",
      "0e2c2f21fa8041038151170992ecb848",
      "2d9bcbf7629a4671bf8755e790276eb7",
      "77a4edf6ab1848a6a6df20c1c07358c6",
      "acf2212d6bb44c729b63281a98377095",
      "0c7a72818da3454190bab7f30a29e249",
      "d865af915b8b4aaa8cec8d40f1f8351d"
     ]
    },
    "id": "s1UnzfID4Ai6",
    "outputId": "3e204e76-68fd-4111-f527-91f6e3b7a3ca"
   },
   "outputs": [
    {
     "data": {
      "application/vnd.jupyter.widget-view+json": {
       "model_id": "65aa2d3c7ce44d35ab4166c94c8b018c",
       "version_major": 2,
       "version_minor": 0
      },
      "text/plain": [
       "  0%|          | 0/1000 [00:00<?, ?it/s]"
      ]
     },
     "metadata": {},
     "output_type": "display_data"
    }
   ],
   "source": [
    "for m in methods:\n",
    "    metrics[m] = test(model=test_generator, \n",
    "                      criteria_list=[], \n",
    "                      dataset=data_list, \n",
    "                      idx_range=range(10000, 11000), \n",
    "                      callback=None,\n",
    "                      gt_pos=load_pos(m))"
   ]
  },
  {
   "cell_type": "code",
   "execution_count": 39,
   "metadata": {
    "id": "dQ7hdCtk5u6K"
   },
   "outputs": [],
   "source": [
    "mean_metrics = {key : list(map(lambda m: metrics[key][m].mean().item(), list(metrics[key].keys())[:-1])) for key in metrics}"
   ]
  },
  {
   "cell_type": "code",
   "execution_count": 40,
   "metadata": {
    "colab": {
     "base_uri": "https://localhost:8080/",
     "height": 313
    },
    "id": "OGyaCmLXTuvA",
    "outputId": "6c42d9f3-9869-4504-bc9c-d0eedaecfd90"
   },
   "outputs": [
    {
     "data": {
      "text/html": [
       "<style type=\"text/css\">\n",
       "</style>\n",
       "<table id=\"T_557ff_\">\n",
       "  <thead>\n",
       "    <tr>\n",
       "      <th class=\"blank level0\" >&nbsp;</th>\n",
       "      <th class=\"col_heading level0 col0\" >stress</th>\n",
       "      <th class=\"col_heading level0 col1\" >stress_spc</th>\n",
       "      <th class=\"col_heading level0 col2\" >xing</th>\n",
       "      <th class=\"col_heading level0 col3\" >xing_spc</th>\n",
       "      <th class=\"col_heading level0 col4\" >l1_angle</th>\n",
       "      <th class=\"col_heading level0 col5\" >l1_angle_spc</th>\n",
       "      <th class=\"col_heading level0 col6\" >edge</th>\n",
       "      <th class=\"col_heading level0 col7\" >edge_spc</th>\n",
       "      <th class=\"col_heading level0 col8\" >ring</th>\n",
       "      <th class=\"col_heading level0 col9\" >ring_spc</th>\n",
       "      <th class=\"col_heading level0 col10\" >tsne</th>\n",
       "      <th class=\"col_heading level0 col11\" >tsne_spc</th>\n",
       "      <th class=\"col_heading level0 col12\" >reso_score</th>\n",
       "      <th class=\"col_heading level0 col13\" >min_angle</th>\n",
       "    </tr>\n",
       "  </thead>\n",
       "  <tbody>\n",
       "    <tr>\n",
       "      <th id=\"T_557ff_level0_row0\" class=\"row_heading level0 row0\" >fa2</th>\n",
       "      <td id=\"T_557ff_row0_col0\" class=\"data row0 col0\" >356.39</td>\n",
       "      <td id=\"T_557ff_row0_col1\" class=\"data row0 col1\" >9.62%</td>\n",
       "      <td id=\"T_557ff_row0_col2\" class=\"data row0 col2\" >29.54</td>\n",
       "      <td id=\"T_557ff_row0_col3\" class=\"data row0 col3\" >17.49%</td>\n",
       "      <td id=\"T_557ff_row0_col4\" class=\"data row0 col4\" >83.60</td>\n",
       "      <td id=\"T_557ff_row0_col5\" class=\"data row0 col5\" >13.82%</td>\n",
       "      <td id=\"T_557ff_row0_col6\" class=\"data row0 col6\" >0.23</td>\n",
       "      <td id=\"T_557ff_row0_col7\" class=\"data row0 col7\" >10.23%</td>\n",
       "      <td id=\"T_557ff_row0_col8\" class=\"data row0 col8\" >268.89</td>\n",
       "      <td id=\"T_557ff_row0_col9\" class=\"data row0 col9\" >7.05%</td>\n",
       "      <td id=\"T_557ff_row0_col10\" class=\"data row0 col10\" >0.23</td>\n",
       "      <td id=\"T_557ff_row0_col11\" class=\"data row0 col11\" >15.35%</td>\n",
       "      <td id=\"T_557ff_row0_col12\" class=\"data row0 col12\" >0.57</td>\n",
       "      <td id=\"T_557ff_row0_col13\" class=\"data row0 col13\" >3.01</td>\n",
       "    </tr>\n",
       "  </tbody>\n",
       "</table>\n"
      ],
      "text/plain": [
       "<pandas.io.formats.style.Styler at 0x2b4fa68499a0>"
      ]
     },
     "execution_count": 40,
     "metadata": {},
     "output_type": "execute_result"
    }
   ],
   "source": [
    "columns = [\n",
    "    'stress',\n",
    "    'stress_spc',\n",
    "    'xing',\n",
    "    'xing_spc',\n",
    "    'l1_angle',\n",
    "    'l1_angle_spc',\n",
    "    'edge',\n",
    "    'edge_spc',\n",
    "    'ring',\n",
    "    'ring_spc',\n",
    "    'tsne',\n",
    "    'tsne_spc',\n",
    "    'reso_score',\n",
    "    'min_angle'\n",
    "]\n",
    "df = pd.DataFrame(mean_metrics).set_axis(columns).T\n",
    "df.style.format({c: \"{:.2f}\" for c in columns if 'spc' not in c} | {c: \"{:.2%}\" for c in columns if 'spc' in c})"
   ]
  },
  {
   "cell_type": "markdown",
   "metadata": {
    "id": "L5S1HWnHOWIl"
   },
   "source": [
    "# Large Graph"
   ]
  },
  {
   "cell_type": "code",
   "execution_count": null,
   "metadata": {
    "id": "_pefPcV1OZdD"
   },
   "outputs": [],
   "source": [
    "scalability = pd.read_csv(f\"/__artifacts__/data/scalability.csv\", index_col=\"index\")\n",
    "scalability"
   ]
  },
  {
   "cell_type": "code",
   "execution_count": null,
   "metadata": {
    "id": "oMhWAsdvPnTX"
   },
   "outputs": [],
   "source": [
    "rescale = CanonicalizationByStress()\n",
    "stressfn = Stress()\n",
    "rotate = RotateByPrincipalComponents()"
   ]
  },
  {
   "cell_type": "code",
   "execution_count": null,
   "metadata": {
    "id": "LR83OcAaPID5"
   },
   "outputs": [],
   "source": [
    "stress_list = []\n",
    "spc_list = []\n",
    "pmds_list = np.load(\"layouts/new_large_graph/pmds.npy\", allow_pickle=True)\n",
    "gviz_list = np.load(\"layouts/new_large_graph/gviz.npy\", allow_pickle=True)\n",
    "with torch.no_grad():\n",
    "    for idx, col in tqdm(scalability.iterrows(), total=len(scalability)):\n",
    "        # if idx not in [406, 516]: continue\n",
    "        torch.cuda.empty_cache()\n",
    "        G = load_mtx(col['file'])\n",
    "        G.remove_edges_from(nx.selfloop_edges(G))\n",
    "        data = generate_data_list(G, \n",
    "                                sparse=data_config.sparse, \n",
    "                                pivot_mode=data_config.pivot,\n",
    "                                init_mode=data_config.init,\n",
    "                                edge_index=data_config.edge.index,\n",
    "                                edge_attr=data_config.edge.attr,\n",
    "                                pmds_list=pmds_list[idx],\n",
    "                                gviz_list=gviz_list[idx],\n",
    "                                device=device)\n",
    "        batch = Batch.from_data_list([data]).to(device)\n",
    "        # generator.train()\n",
    "        # generator(batch)\n",
    "        generator.eval()\n",
    "        pred = generator(batch)\n",
    "        pos = rotate(rescale(pred, batch), batch)\n",
    "        gt = rotate(rescale(batch.gt_pos, batch), batch)\n",
    "        stress = stressfn(pos, batch).item()\n",
    "        gt_stress = stressfn(gt, batch).item()\n",
    "        spc = (stress - gt_stress) / np.maximum(stress, gt_stress)\n",
    "        stress_list.append(stress)\n",
    "        spc_list.append(spc)\n",
    "\n",
    "        np.save(f\"/__artifacts__/gan_result/data/scalability_{idx}.npy\", pos.cpu().numpy())\n",
    "        graph_attr = dict(node_size=1, \n",
    "                        with_labels=False, \n",
    "                        labels=dict(zip(list(G.nodes), map(lambda n: n if type(n) is int else n[1:], list(G.nodes)))),\n",
    "                        font_color=\"white\", \n",
    "                        font_weight=\"bold\",\n",
    "                        font_size=12,\n",
    "                        width=0.1)\n",
    "\n",
    "        # gt_pos = pickle.load(open(f\"/__artifacts__/data/scalability_{idx}_gt.pkl\", \"rb\"))\n",
    "\n",
    "        plt.figure(figsize=[12, 9])\n",
    "        nx.draw(G, pos=gt.cpu().numpy(), node_color='orange', **graph_attr)\n",
    "        plt.title(f\"neato: large_{idx}\")\n",
    "        plt.axis(\"equal\")\n",
    "        plt.savefig(f\"/__artifacts__/gan_result/output/{idx}_{col['name']}_{col['n']}_{spc}_nx.png\", dpi=300)\n",
    "        plt.show()\n",
    "\n",
    "        plt.figure(figsize=[12, 9])\n",
    "        graph_vis(G, pos.cpu().numpy(), **graph_attr)\n",
    "        plt.title(f\"dgd: large_{idx}, spc={spc:.2%}\")\n",
    "        plt.axis(\"equal\")\n",
    "        plt.savefig(f\"/__artifacts__/gan_result/output/{idx}_{col['name']}_{col['n']}_{spc}_dgd.png\", dpi=300)\n",
    "        plt.show()"
   ]
  },
  {
   "cell_type": "code",
   "execution_count": null,
   "metadata": {
    "id": "gRXTewkYeuq1"
   },
   "outputs": [],
   "source": []
  }
 ],
 "metadata": {
  "accelerator": "GPU",
  "colab": {
   "collapsed_sections": [
    "w_p3OD0woiSM",
    "DR6-vYtr_i_P",
    "innqkwvH_ydD",
    "f-ODE2k8BFV6",
    "N39dDHraedM6"
   ],
   "machine_shape": "hm",
   "name": "GAN(gan=rgan,data=best(xing,stress),dis=deep,share=16,embed=0,gp=0).ipynb",
   "provenance": []
  },
  "kernelspec": {
   "display_name": "DeepGD",
   "language": "python",
   "name": "deepgd"
  },
  "language_info": {
   "codemirror_mode": {
    "name": "ipython",
    "version": 3
   },
   "file_extension": ".py",
   "mimetype": "text/x-python",
   "name": "python",
   "nbconvert_exporter": "python",
   "pygments_lexer": "ipython3",
   "version": "3.9.7"
  },
  "widgets": {
   "application/vnd.jupyter.widget-state+json": {
    "state": {
     "021c370b96e8463d8973148de6f0f84a": {
      "model_module": "@jupyter-widgets/base",
      "model_module_version": "1.2.0",
      "model_name": "LayoutModel",
      "state": {}
     },
     "19043b96237845fd8518f0f2fd85c057": {
      "model_module": "@jupyter-widgets/base",
      "model_module_version": "1.2.0",
      "model_name": "LayoutModel",
      "state": {}
     },
     "19239dec2b0f4d1d9c05055dd4beace5": {
      "model_module": "@jupyter-widgets/controls",
      "model_module_version": "1.5.0",
      "model_name": "ProgressStyleModel",
      "state": {
       "description_width": ""
      }
     },
     "1d0d7cd3c96f4dbaaa5ad565d51ea36a": {
      "model_module": "@jupyter-widgets/base",
      "model_module_version": "1.2.0",
      "model_name": "LayoutModel",
      "state": {
       "height": "500px",
       "overflow_y": "auto"
      }
     },
     "21a5d8c3009944e7890379cf4d6b301b": {
      "model_module": "@jupyter-widgets/base",
      "model_module_version": "1.2.0",
      "model_name": "LayoutModel",
      "state": {}
     },
     "246725219f7d4fa5b38d15e055aa99fd": {
      "model_module": "@jupyter-widgets/base",
      "model_module_version": "1.2.0",
      "model_name": "LayoutModel",
      "state": {}
     },
     "251f7b123193492e99c65fe4896d53bb": {
      "model_module": "@jupyter-widgets/base",
      "model_module_version": "1.2.0",
      "model_name": "LayoutModel",
      "state": {}
     },
     "26eb3ab393bc4bdabbe1d62f6f0591af": {
      "model_module": "@jupyter-widgets/controls",
      "model_module_version": "1.5.0",
      "model_name": "DescriptionStyleModel",
      "state": {
       "description_width": ""
      }
     },
     "288fb4e5d4fd46ba8af25e6ed4511b7f": {
      "model_module": "@jupyter-widgets/controls",
      "model_module_version": "1.5.0",
      "model_name": "DescriptionStyleModel",
      "state": {
       "description_width": ""
      }
     },
     "3eaeab6e1efb41b9aa5ffd4447eb90b6": {
      "model_module": "@jupyter-widgets/base",
      "model_module_version": "1.2.0",
      "model_name": "LayoutModel",
      "state": {}
     },
     "419cd111bce043bdb9337019d1a0fa5e": {
      "model_module": "@jupyter-widgets/base",
      "model_module_version": "1.2.0",
      "model_name": "LayoutModel",
      "state": {}
     },
     "46908c865f954af58a42df4050846290": {
      "model_module": "@jupyter-widgets/base",
      "model_module_version": "1.2.0",
      "model_name": "LayoutModel",
      "state": {}
     },
     "46e94e30152444bfac48fed3a991fd4e": {
      "model_module": "@jupyter-widgets/output",
      "model_module_version": "1.0.0",
      "model_name": "OutputModel",
      "state": {
       "layout": "IPY_MODEL_d6a60f0a17944333b61752bc96168d20",
       "outputs": [
        {
         "data": {
          "application/vnd.jupyter.widget-view+json": {
           "model_id": "fd404cea2fb64616a6ca91b024b7a716",
           "version_major": 2,
           "version_minor": 0
          },
          "text/plain": "  0%|          | 0/834 [00:00<?, ?it/s]"
         },
         "metadata": {},
         "output_type": "display_data"
        }
       ]
      }
     },
     "533cbafcfb8849878193515df612aa74": {
      "model_module": "@jupyter-widgets/controls",
      "model_module_version": "1.5.0",
      "model_name": "HTMLModel",
      "state": {
       "layout": "IPY_MODEL_21a5d8c3009944e7890379cf4d6b301b",
       "style": "IPY_MODEL_26eb3ab393bc4bdabbe1d62f6f0591af",
       "value": " 11531/11531 [00:00&lt;00:00, 52879.96it/s]"
      }
     },
     "583b1912aaab4492a0cff120f71a43ed": {
      "model_module": "@jupyter-widgets/controls",
      "model_module_version": "1.5.0",
      "model_name": "HTMLModel",
      "state": {
       "layout": "IPY_MODEL_19043b96237845fd8518f0f2fd85c057",
       "style": "IPY_MODEL_288fb4e5d4fd46ba8af25e6ed4511b7f",
       "value": "100%"
      }
     },
     "5a05f23b19754906a9e5ee826062db3b": {
      "model_module": "@jupyter-widgets/controls",
      "model_module_version": "1.5.0",
      "model_name": "HTMLModel",
      "state": {
       "layout": "IPY_MODEL_419cd111bce043bdb9337019d1a0fa5e",
       "style": "IPY_MODEL_912e82ca942c4110a7024653ec61cfda",
       "value": "[epoch 1060/None]:  12%"
      }
     },
     "6235e02d92e0481dabaaed4605ef49a1": {
      "model_module": "@jupyter-widgets/controls",
      "model_module_version": "1.5.0",
      "model_name": "HTMLModel",
      "state": {
       "layout": "IPY_MODEL_251f7b123193492e99c65fe4896d53bb",
       "style": "IPY_MODEL_b20deb846604456e87cfd8dfc5cc827e",
       "value": " 1000/1000 [00:50&lt;00:00, 20.96it/s]"
      }
     },
     "6413436f4ee84646bc962dd252121fdb": {
      "model_module": "@jupyter-widgets/base",
      "model_module_version": "1.2.0",
      "model_name": "LayoutModel",
      "state": {}
     },
     "6423eca7bd0943a0bcee9a2a9468be91": {
      "model_module": "@jupyter-widgets/controls",
      "model_module_version": "1.5.0",
      "model_name": "HBoxModel",
      "state": {
       "children": [
        "IPY_MODEL_e3b553b29d8d4fa29af977a99f0057e9"
       ],
       "layout": "IPY_MODEL_cd453eeb1f27447e810193affed06d8e"
      }
     },
     "65aa2d3c7ce44d35ab4166c94c8b018c": {
      "model_module": "@jupyter-widgets/controls",
      "model_module_version": "1.5.0",
      "model_name": "HBoxModel",
      "state": {
       "children": [
        "IPY_MODEL_a154d112c2b14e6fbf8ec54bbe097a5b",
        "IPY_MODEL_ae6437290985438aae193a4e322b6599",
        "IPY_MODEL_6235e02d92e0481dabaaed4605ef49a1"
       ],
       "layout": "IPY_MODEL_9b074a013b174170a043c5b3312901ec"
      }
     },
     "6631a95b69704399a761644afc68e8a9": {
      "model_module": "@jupyter-widgets/base",
      "model_module_version": "1.2.0",
      "model_name": "LayoutModel",
      "state": {}
     },
     "6d356d155c3a4bcc8ca54cf6509cf6d6": {
      "model_module": "@jupyter-widgets/controls",
      "model_module_version": "1.5.0",
      "model_name": "HBoxModel",
      "state": {
       "children": [
        "IPY_MODEL_583b1912aaab4492a0cff120f71a43ed",
        "IPY_MODEL_8ca30d5b1579445db0a4d46a3ba39008",
        "IPY_MODEL_9b205050c8ce48318156c40ca2d1e8a6"
       ],
       "layout": "IPY_MODEL_c3efc839f5434b89b87c534507a726ad"
      }
     },
     "7488b34a24144fcbbf460488c1cb9650": {
      "model_module": "@jupyter-widgets/controls",
      "model_module_version": "1.5.0",
      "model_name": "DescriptionStyleModel",
      "state": {
       "description_width": ""
      }
     },
     "78ecbafaa49e48bda5db8952bc4de12e": {
      "model_module": "@jupyter-widgets/controls",
      "model_module_version": "1.5.0",
      "model_name": "HBoxModel",
      "state": {
       "children": [
        "IPY_MODEL_d92f538fa5304508af567b2281fc093f",
        "IPY_MODEL_ce03216fa6b647649cad6271a91d449f",
        "IPY_MODEL_533cbafcfb8849878193515df612aa74"
       ],
       "layout": "IPY_MODEL_a43247b9f1a949d3bbb0c19b4b6c6d38"
      }
     },
     "816178ca7bb94833bd4cebfc097c51e1": {
      "model_module": "@jupyter-widgets/controls",
      "model_module_version": "1.5.0",
      "model_name": "HTMLModel",
      "state": {
       "layout": "IPY_MODEL_46908c865f954af58a42df4050846290",
       "style": "IPY_MODEL_ba722664567e4da3b0dbdd416c6ae069",
       "value": " 102/834 [00:15&lt;01:53,  6.43it/s]"
      }
     },
     "8213cc4d8eee4bc3bcf37e841a860eb2": {
      "model_module": "@jupyter-widgets/controls",
      "model_module_version": "1.5.0",
      "model_name": "DescriptionStyleModel",
      "state": {
       "description_width": ""
      }
     },
     "84d65e3b02224bacb9cd315cddc73a44": {
      "model_module": "@jupyter-widgets/controls",
      "model_module_version": "1.5.0",
      "model_name": "ProgressStyleModel",
      "state": {
       "description_width": ""
      }
     },
     "8ca30d5b1579445db0a4d46a3ba39008": {
      "model_module": "@jupyter-widgets/controls",
      "model_module_version": "1.5.0",
      "model_name": "FloatProgressModel",
      "state": {
       "bar_style": "success",
       "layout": "IPY_MODEL_e735229b46aa4320a0d8aff4f7c158ce",
       "max": 1000,
       "style": "IPY_MODEL_fc8cbe5c4f05427bb6481d8aaf64f59b",
       "value": 1000
      }
     },
     "912e82ca942c4110a7024653ec61cfda": {
      "model_module": "@jupyter-widgets/controls",
      "model_module_version": "1.5.0",
      "model_name": "DescriptionStyleModel",
      "state": {
       "description_width": ""
      }
     },
     "95e11192834544cc96d78343d8696b9a": {
      "model_module": "@jupyter-widgets/controls",
      "model_module_version": "1.5.0",
      "model_name": "FloatProgressModel",
      "state": {
       "layout": "IPY_MODEL_246725219f7d4fa5b38d15e055aa99fd",
       "max": 834,
       "style": "IPY_MODEL_19239dec2b0f4d1d9c05055dd4beace5",
       "value": 102
      }
     },
     "98a09d1f5bb140fe80cc98870ed585cc": {
      "model_module": "@jupyter-widgets/controls",
      "model_module_version": "1.5.0",
      "model_name": "ProgressStyleModel",
      "state": {
       "description_width": ""
      }
     },
     "98e52d517393458b825a2a80587b130a": {
      "model_module": "@jupyter-widgets/base",
      "model_module_version": "1.2.0",
      "model_name": "LayoutModel",
      "state": {}
     },
     "9940825133eb4ec78756725d816b8557": {
      "model_module": "@jupyter-widgets/controls",
      "model_module_version": "1.5.0",
      "model_name": "VBoxModel",
      "state": {
       "children": [
        "IPY_MODEL_46e94e30152444bfac48fed3a991fd4e",
        "IPY_MODEL_f6d524ff501d4611806fa8c851b3e42e"
       ],
       "layout": "IPY_MODEL_3eaeab6e1efb41b9aa5ffd4447eb90b6"
      }
     },
     "9b074a013b174170a043c5b3312901ec": {
      "model_module": "@jupyter-widgets/base",
      "model_module_version": "1.2.0",
      "model_name": "LayoutModel",
      "state": {}
     },
     "9b205050c8ce48318156c40ca2d1e8a6": {
      "model_module": "@jupyter-widgets/controls",
      "model_module_version": "1.5.0",
      "model_name": "HTMLModel",
      "state": {
       "layout": "IPY_MODEL_a64a0c9c8dc74e1faadd2d45e5e5c740",
       "style": "IPY_MODEL_7488b34a24144fcbbf460488c1cb9650",
       "value": " 1000/1000 [00:54&lt;00:00, 17.33it/s]"
      }
     },
     "a154d112c2b14e6fbf8ec54bbe097a5b": {
      "model_module": "@jupyter-widgets/controls",
      "model_module_version": "1.5.0",
      "model_name": "HTMLModel",
      "state": {
       "layout": "IPY_MODEL_b6bbfbafbcf44be48b4b7f28556d050c",
       "style": "IPY_MODEL_8213cc4d8eee4bc3bcf37e841a860eb2",
       "value": "100%"
      }
     },
     "a1a760e9391c4b3f80c18a30b9a7539f": {
      "model_module": "@jupyter-widgets/base",
      "model_module_version": "1.2.0",
      "model_name": "LayoutModel",
      "state": {}
     },
     "a43247b9f1a949d3bbb0c19b4b6c6d38": {
      "model_module": "@jupyter-widgets/base",
      "model_module_version": "1.2.0",
      "model_name": "LayoutModel",
      "state": {}
     },
     "a64a0c9c8dc74e1faadd2d45e5e5c740": {
      "model_module": "@jupyter-widgets/base",
      "model_module_version": "1.2.0",
      "model_name": "LayoutModel",
      "state": {}
     },
     "ae6437290985438aae193a4e322b6599": {
      "model_module": "@jupyter-widgets/controls",
      "model_module_version": "1.5.0",
      "model_name": "FloatProgressModel",
      "state": {
       "bar_style": "success",
       "layout": "IPY_MODEL_6631a95b69704399a761644afc68e8a9",
       "max": 1000,
       "style": "IPY_MODEL_84d65e3b02224bacb9cd315cddc73a44",
       "value": 1000
      }
     },
     "b20deb846604456e87cfd8dfc5cc827e": {
      "model_module": "@jupyter-widgets/controls",
      "model_module_version": "1.5.0",
      "model_name": "DescriptionStyleModel",
      "state": {
       "description_width": ""
      }
     },
     "b6bbfbafbcf44be48b4b7f28556d050c": {
      "model_module": "@jupyter-widgets/base",
      "model_module_version": "1.2.0",
      "model_name": "LayoutModel",
      "state": {}
     },
     "ba722664567e4da3b0dbdd416c6ae069": {
      "model_module": "@jupyter-widgets/controls",
      "model_module_version": "1.5.0",
      "model_name": "DescriptionStyleModel",
      "state": {
       "description_width": ""
      }
     },
     "c15320c666f640ea9fefd36f7d55bada": {
      "model_module": "@jupyter-widgets/base",
      "model_module_version": "1.2.0",
      "model_name": "LayoutModel",
      "state": {}
     },
     "c3efc839f5434b89b87c534507a726ad": {
      "model_module": "@jupyter-widgets/base",
      "model_module_version": "1.2.0",
      "model_name": "LayoutModel",
      "state": {}
     },
     "c5c5ae32a71b4077802f7831d48114cf": {
      "model_module": "@jupyter-widgets/controls",
      "model_module_version": "1.5.0",
      "model_name": "TabModel",
      "state": {
       "_titles": {
        "0": "status",
        "1": "plot",
        "2": "log"
       },
       "children": [
        "IPY_MODEL_9940825133eb4ec78756725d816b8557",
        "IPY_MODEL_6423eca7bd0943a0bcee9a2a9468be91",
        "IPY_MODEL_f688fc7f380845ccb6d971da0879c91c"
       ],
       "layout": "IPY_MODEL_021c370b96e8463d8973148de6f0f84a"
      }
     },
     "c987a40b5e7241328e27d93dea6e0206": {
      "model_module": "@jupyter-widgets/output",
      "model_module_version": "1.0.0",
      "model_name": "OutputModel",
      "state": {
       "layout": "IPY_MODEL_6413436f4ee84646bc962dd252121fdb",
       "outputs": [
        {
         "name": "stdout",
         "output_type": "stream",
         "text": "[1060] stress=385.09(18.40%) xing=32.72(25.33%)\n"
        }
       ]
      }
     },
     "cd453eeb1f27447e810193affed06d8e": {
      "model_module": "@jupyter-widgets/base",
      "model_module_version": "1.2.0",
      "model_name": "LayoutModel",
      "state": {
       "height": "500px",
       "overflow_y": "auto"
      }
     },
     "ce03216fa6b647649cad6271a91d449f": {
      "model_module": "@jupyter-widgets/controls",
      "model_module_version": "1.5.0",
      "model_name": "FloatProgressModel",
      "state": {
       "bar_style": "success",
       "layout": "IPY_MODEL_c15320c666f640ea9fefd36f7d55bada",
       "max": 11531,
       "style": "IPY_MODEL_98a09d1f5bb140fe80cc98870ed585cc",
       "value": 11531
      }
     },
     "d3dd30921b5f488dbe7a577f1d40ea51": {
      "model_module": "@jupyter-widgets/controls",
      "model_module_version": "1.5.0",
      "model_name": "DescriptionStyleModel",
      "state": {
       "description_width": ""
      }
     },
     "d6a60f0a17944333b61752bc96168d20": {
      "model_module": "@jupyter-widgets/base",
      "model_module_version": "1.2.0",
      "model_name": "LayoutModel",
      "state": {}
     },
     "d92f538fa5304508af567b2281fc093f": {
      "model_module": "@jupyter-widgets/controls",
      "model_module_version": "1.5.0",
      "model_name": "HTMLModel",
      "state": {
       "layout": "IPY_MODEL_ec67a08b5e7d489c8a3228895f83a3b2",
       "style": "IPY_MODEL_d3dd30921b5f488dbe7a577f1d40ea51",
       "value": "100%"
      }
     },
     "e3b553b29d8d4fa29af977a99f0057e9": {
      "model_module": "@jupyter-widgets/output",
      "model_module_version": "1.0.0",
      "model_name": "OutputModel",
      "state": {
       "layout": "IPY_MODEL_eb48561001e94b8d964cef802f0b71b4",
       "outputs": [
        {
         "data": {
          "image/png": "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\n",
          "text/plain": "<Figure size 432x288 with 1 Axes>"
         },
         "metadata": {},
         "output_type": "display_data"
        }
       ]
      }
     },
     "e735229b46aa4320a0d8aff4f7c158ce": {
      "model_module": "@jupyter-widgets/base",
      "model_module_version": "1.2.0",
      "model_name": "LayoutModel",
      "state": {}
     },
     "eb48561001e94b8d964cef802f0b71b4": {
      "model_module": "@jupyter-widgets/base",
      "model_module_version": "1.2.0",
      "model_name": "LayoutModel",
      "state": {}
     },
     "ec67a08b5e7d489c8a3228895f83a3b2": {
      "model_module": "@jupyter-widgets/base",
      "model_module_version": "1.2.0",
      "model_name": "LayoutModel",
      "state": {}
     },
     "f688fc7f380845ccb6d971da0879c91c": {
      "model_module": "@jupyter-widgets/controls",
      "model_module_version": "1.5.0",
      "model_name": "HBoxModel",
      "state": {
       "children": [
        "IPY_MODEL_c987a40b5e7241328e27d93dea6e0206"
       ],
       "layout": "IPY_MODEL_1d0d7cd3c96f4dbaaa5ad565d51ea36a"
      }
     },
     "f6d524ff501d4611806fa8c851b3e42e": {
      "model_module": "@jupyter-widgets/output",
      "model_module_version": "1.0.0",
      "model_name": "OutputModel",
      "state": {
       "layout": "IPY_MODEL_98e52d517393458b825a2a80587b130a",
       "outputs": [
        {
         "data": {
          "text/html": "<div>\n<style scoped>\n    .dataframe tbody tr th:only-of-type {\n        vertical-align: middle;\n    }\n\n    .dataframe tbody tr th {\n        vertical-align: top;\n    }\n\n    .dataframe thead th {\n        text-align: right;\n    }\n</style>\n<table border=\"1\" class=\"dataframe\">\n  <thead>\n    <tr style=\"text-align: right;\">\n      <th></th>\n      <th>val_stress</th>\n      <th>val_stress_spc</th>\n      <th>val_xing</th>\n      <th>val_xing_spc</th>\n      <th>dis_loss</th>\n    </tr>\n  </thead>\n  <tbody>\n    <tr>\n      <th>epoch 1060</th>\n      <td>385.09</td>\n      <td>18.40%</td>\n      <td>32.72</td>\n      <td>25.33%</td>\n      <td>1.96e-04</td>\n    </tr>\n  </tbody>\n</table>\n</div>",
          "text/plain": "           val_stress val_stress_spc val_xing val_xing_spc  dis_loss\nepoch 1060     385.09         18.40%    32.72       25.33%  1.96e-04"
         },
         "metadata": {},
         "output_type": "display_data"
        }
       ]
      }
     },
     "fc8cbe5c4f05427bb6481d8aaf64f59b": {
      "model_module": "@jupyter-widgets/controls",
      "model_module_version": "1.5.0",
      "model_name": "ProgressStyleModel",
      "state": {
       "description_width": ""
      }
     },
     "fd404cea2fb64616a6ca91b024b7a716": {
      "model_module": "@jupyter-widgets/controls",
      "model_module_version": "1.5.0",
      "model_name": "HBoxModel",
      "state": {
       "children": [
        "IPY_MODEL_5a05f23b19754906a9e5ee826062db3b",
        "IPY_MODEL_95e11192834544cc96d78343d8696b9a",
        "IPY_MODEL_816178ca7bb94833bd4cebfc097c51e1"
       ],
       "layout": "IPY_MODEL_a1a760e9391c4b3f80c18a30b9a7539f"
      }
     }
    },
    "version_major": 2,
    "version_minor": 0
   }
  }
 },
 "nbformat": 4,
 "nbformat_minor": 4
}
