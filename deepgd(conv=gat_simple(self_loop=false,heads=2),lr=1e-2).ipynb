{
 "cells": [
  {
   "cell_type": "markdown",
   "metadata": {
    "id": "wZtYFEhHoBGp"
   },
   "source": [
    "# Import libraries"
   ]
  },
  {
   "cell_type": "code",
   "execution_count": 1,
   "metadata": {
    "id": "KJPfzpxLQI5O"
   },
   "outputs": [],
   "source": [
    "%load_ext autoreload\n",
    "%autoreload 2\n",
    "from deepgd import *"
   ]
  },
  {
   "cell_type": "markdown",
   "metadata": {
    "id": "z4eBEyB1oaJe"
   },
   "source": [
    "# Config"
   ]
  },
  {
   "cell_type": "code",
   "execution_count": 2,
   "metadata": {
    "id": "Q_-MLFhpNvxF"
   },
   "outputs": [],
   "source": [
    "cuda_idx = 0\n",
    "canonicalization = IdentityTransformation()\n",
    "config = StaticConfig({\n",
    "    \"name\": 'deepgd(conv=gat_simple(self_loop=false,heads=2),lr=1e-2)',\n",
    "    \"uid\": None,\n",
    "    \"link\": None,\n",
    "    \"generator\": {\n",
    "        \"params\": {\n",
    "            \"num_blocks\": 9,\n",
    "            \"normalize\": canonicalization\n",
    "        },\n",
    "        \"pretrained\": {\n",
    "            \"name\": None,\n",
    "            \"epoch\": -1,\n",
    "        },\n",
    "        \"optim\": torch.optim.AdamW,\n",
    "        \"lr\" : {\n",
    "            \"initial\": 1e-3,\n",
    "            \"decay\": 0.99,\n",
    "        },\n",
    "    },\n",
    "    \"discriminator\": {\n",
    "        \"params\": {\n",
    "            \"conv\": [2, 16, 16, 16],\n",
    "            \"dense\": [2],\n",
    "            \"shared_depth\": 10,\n",
    "            \"enet_depth\": 6,\n",
    "            \"enet_width\": 64,\n",
    "            \"aggr\": \"add\",\n",
    "            \"normalize\": canonicalization\n",
    "        },\n",
    "        \"pretrained\": {\n",
    "            \"name\": None,\n",
    "            \"epoch\": -1,\n",
    "        },\n",
    "        \"optim\": torch.optim.AdamW,\n",
    "        \"lr\" : {\n",
    "            \"initial\": 1e-3,\n",
    "            \"decay\": 0.99,\n",
    "        },\n",
    "        \"noise\": {\n",
    "            \"std\": 0,\n",
    "            \"decay\": 0.95,\n",
    "        },\n",
    "        \"repeat\": 1,\n",
    "        \"complete\": True,\n",
    "        \"adaptive\": True\n",
    "    },\n",
    "    \"alternate\": \"epoch\",\n",
    "    \"batchsize\": 256,\n",
    "    \"epoch\": {\n",
    "        \"start\": -1,\n",
    "        \"end\": None,\n",
    "    },\n",
    "    \"log_interval\": 1,\n",
    "    \"test\": {\n",
    "        \"name\": \"test\",\n",
    "        \"epoch\": -1,\n",
    "    },\n",
    "    \"gan_flavor\": \"dgdv2\",\n",
    "    \"gp_weight\": 0,\n",
    "})\n",
    "data_config = StaticConfig({\n",
    "    \"sparse\": False,\n",
    "    \"pivot\": None,\n",
    "    \"init\": \"pmds\",\n",
    "    \"edge\": {\n",
    "        \"index\": \"full_edge_index\",\n",
    "        \"attr\": \"full_edge_attr\",\n",
    "    },\n",
    "})\n",
    "loss_fns = {\n",
    "    Stress(): 1\n",
    "}\n",
    "ctrler_params = {\n",
    "    \"tau\": 0.95,\n",
    "    \"beta\": 1,\n",
    "    \"exploit_rate\": 0.5,\n",
    "    \"warmup\": 2,\n",
    "}\n",
    "paths = StaticConfig({\n",
    "    \"root\": \"artifacts\",\n",
    "    \"checkpoints\": lambda: f\"{paths.root}/checkpoints/{config.name}\",\n",
    "    \"gen_pretrain\": lambda: f\"{paths.root}/checkpoints/{config.generator.pretrained.name}\",\n",
    "    \"dis_pretrain\": lambda: f\"{paths.root}/checkpoints/{config.discriminator.pretrained.name}\",\n",
    "    \"tensorboard\": lambda: f\"{paths.root}/tensorboards/{config.name}\",\n",
    "    \"visualization\": lambda: f\"{paths.root}/visualizations/{config.name}_{config.test.name}\",\n",
    "    \"log\": lambda: f\"{paths.root}/logs/{config.name}.log\",\n",
    "    \"metrics\": lambda suffix: f\"{paths.root}/metrics/{config.name}_{suffix}.pickle\",\n",
    "})"
   ]
  },
  {
   "cell_type": "code",
   "execution_count": 3,
   "metadata": {
    "id": "mdMEAbH10Qaq"
   },
   "outputs": [],
   "source": [
    "if \" \" in config.name:\n",
    "    raise Exception(\"Space is not allowed in model name.\")"
   ]
  },
  {
   "cell_type": "markdown",
   "metadata": {
    "id": "WynW4ZAdBhep"
   },
   "source": [
    "# Prepare"
   ]
  },
  {
   "cell_type": "markdown",
   "metadata": {
    "id": "DR6-vYtr_i_P"
   },
   "source": [
    "## Get log command"
   ]
  },
  {
   "cell_type": "code",
   "execution_count": 4,
   "metadata": {
    "colab": {
     "base_uri": "https://localhost:8080/"
    },
    "id": "9-QpinlslcTO",
    "outputId": "b71f2ad3-e3f3-4ee1-e8ac-58e6e414abfc"
   },
   "outputs": [
    {
     "name": "stdout",
     "output_type": "stream",
     "text": [
      "cd /users/PAS0027/osu10203/deepgd && tail -n1000 -f 'artifacts/logs/deepgd(conv=gat_simple(self_loop=false,heads=2),lr=1e-2).log'\n"
     ]
    }
   ],
   "source": [
    "print(f\"cd {os.getcwd()} && tail -n1000 -f '{paths.log()}'\")"
   ]
  },
  {
   "cell_type": "code",
   "execution_count": 5,
   "metadata": {},
   "outputs": [
    {
     "name": "stdout",
     "output_type": "stream",
     "text": [
      "tensorboard dev upload --logdir 'artifacts/tensorboards/deepgd(conv=gat_simple(self_loop=false,heads=2),lr=1e-2)'\n"
     ]
    }
   ],
   "source": [
    "print(f\"tensorboard dev upload --logdir '{paths.tensorboard()}'\")"
   ]
  },
  {
   "cell_type": "markdown",
   "metadata": {
    "id": "innqkwvH_ydD"
   },
   "source": [
    "## Set globals"
   ]
  },
  {
   "cell_type": "code",
   "execution_count": 6,
   "metadata": {
    "id": "Qjq7JlSZlkQR"
   },
   "outputs": [],
   "source": [
    "if cuda_idx is not None and torch.cuda.is_available():\n",
    "    device = f'cuda:{cuda_idx}'\n",
    "    pynvml.nvmlInit()\n",
    "    cuda = pynvml.nvmlDeviceGetHandleByIndex(cuda_idx)\n",
    "else:\n",
    "    device = 'cpu'\n",
    "    cuda =  None\n",
    "np.set_printoptions(precision=2)\n",
    "warnings.filterwarnings(\"ignore\", category=RuntimeWarning)"
   ]
  },
  {
   "cell_type": "markdown",
   "metadata": {
    "id": "0da286l_ApEL"
   },
   "source": [
    "## Load data"
   ]
  },
  {
   "cell_type": "code",
   "execution_count": 7,
   "metadata": {
    "colab": {
     "base_uri": "https://localhost:8080/"
    },
    "id": "RFuSHiZJMU4x",
    "outputId": "3befa34f-6262-47a9-825d-7dcb2d6596d3"
   },
   "outputs": [
    {
     "name": "stdout",
     "output_type": "stream",
     "text": [
      "Load from 'cache/G_list.pickle'\n",
      "Load from 'cache/generate_data_list(list,sparse=False,pivot_mode=None,init_mode=pmds,edge_index=full_edge_index,edge_attr=full_edge_attr,pmds_list=ndarray,gviz_list=ndarray,noisy_layout=True,device=cpu).pickle'\n"
     ]
    },
    {
     "name": "stderr",
     "output_type": "stream",
     "text": [
      "/users/PAS0027/osu10203/.conda/envs/deepgd/lib/python3.9/site-packages/torch_geometric/deprecation.py:13: UserWarning: 'data.DataLoader' is deprecated, use 'loader.DataLoader' instead\n",
      "  warnings.warn(out)\n"
     ]
    }
   ],
   "source": [
    "G_list = load_G_list(data_path='data/rome', index_file='data_index.txt', cache='G_list', cache_prefix='cache/')\n",
    "data_list = generate_data_list(G_list, \n",
    "                               sparse=data_config.sparse, \n",
    "                               pivot_mode=data_config.pivot,\n",
    "                               init_mode=data_config.init,\n",
    "                               edge_index=data_config.edge.index,\n",
    "                               edge_attr=data_config.edge.attr,\n",
    "                               pmds_list=np.load('layouts/rome/pmds.npy', allow_pickle=True),\n",
    "                               gviz_list=np.load('layouts/rome/gviz.npy', allow_pickle=True),\n",
    "                               noisy_layout=True,\n",
    "                               device='cpu', \n",
    "                               cache=True,\n",
    "                               cache_prefix='cache/')\n",
    "train_loader = LazyDeviceMappingDataLoader(data_list[:10000], batch_size=config.batchsize, shuffle=True, device=device)\n",
    "val_loader = LazyDeviceMappingDataLoader(data_list[11000:], batch_size=config.batchsize, shuffle=False, device=device)"
   ]
  },
  {
   "cell_type": "markdown",
   "metadata": {
    "id": "f-ODE2k8BFV6"
   },
   "source": [
    "## Create folders"
   ]
  },
  {
   "cell_type": "code",
   "execution_count": 8,
   "metadata": {
    "id": "3ykUMINYBRog"
   },
   "outputs": [],
   "source": [
    "mkdirs(paths.checkpoints(), paths.tensorboard(), paths.visualization(), f\"{paths.root}/logs\", f\"{paths.root}/metrics\")"
   ]
  },
  {
   "cell_type": "markdown",
   "metadata": {
    "id": "BFq9k5nzBIh5"
   },
   "source": [
    "## Load checkpoints"
   ]
  },
  {
   "cell_type": "code",
   "execution_count": 9,
   "metadata": {},
   "outputs": [],
   "source": [
    "class GATConvWithEFeat(gnn.GATConv):\n",
    "    def __init__(self,\n",
    "                 in_channels,\n",
    "                 out_channels, \n",
    "                 efeat_dim,\n",
    "                 heads: int = 2,\n",
    "                 concat: bool = False,\n",
    "                 negative_slope: float = 0.2,\n",
    "                 dropout: float = 0.0,\n",
    "                 add_self_loops: bool = False,\n",
    "                 bias: bool = True,\n",
    "                 **kwargs):\n",
    "        super().__init__(in_channels=in_channels,\n",
    "                         out_channels=out_channels, \n",
    "                         heads=heads,\n",
    "                         concat=concat,\n",
    "                         negative_slope=negative_slope,\n",
    "                         dropout=dropout,\n",
    "                         add_self_loops=add_self_loops,\n",
    "                         bias=bias, **kwargs)\n",
    "        self.att_efeat = nn.Parameter(torch.Tensor(1, heads, efeat_dim))\n",
    "        gnn.inits.glorot(self.att_efeat)\n",
    "\n",
    "    def forward(self, x, edge_index, e, size=None, return_attention_weights=None):\n",
    "        H, C = self.heads, self.out_channels\n",
    "\n",
    "        # We first transform the input node features. If a tuple is passed, we\n",
    "        # transform source and target node features via separate weights:\n",
    "        if isinstance(x, torch.Tensor):\n",
    "            assert x.dim() == 2, \"Static graphs not supported in 'GATConv'\"\n",
    "            x_src = x_dst = self.lin_src(x).view(-1, H, C)\n",
    "        else:  # Tuple of source and target node features:\n",
    "            x_src, x_dst = x\n",
    "            assert x_src.dim() == 2, \"Static graphs not supported in 'GATConv'\"\n",
    "            x_src = self.lin_src(x_src).view(-1, H, C)\n",
    "            if x_dst is not None:\n",
    "                x_dst = self.lin_dst(x_dst).view(-1, H, C)\n",
    "\n",
    "        x = (x_src, x_dst)\n",
    "\n",
    "        # Next, we compute node-level attention coefficients, both for source\n",
    "        # and target nodes (if present):\n",
    "        alpha_src = (x_src * self.att_src).sum(dim=-1)\n",
    "        alpha_dst = None if x_dst is None else (x_dst * self.att_dst).sum(-1)\n",
    "        alpha = (alpha_src, alpha_dst)\n",
    "\n",
    "        if self.add_self_loops:\n",
    "            if isinstance(edge_index, torch.Tensor):\n",
    "                # We only want to add self-loops for nodes that appear both as\n",
    "                # source and target nodes:\n",
    "                num_nodes = x_src.size(0)\n",
    "                if x_dst is not None:\n",
    "                    num_nodes = min(num_nodes, x_dst.size(0))\n",
    "                num_nodes = min(size) if size is not None else num_nodes\n",
    "                edge_index, _ = pyg.utils.remove_self_loops(edge_index)\n",
    "                edge_index, _ = pyg.utils.add_self_loops(edge_index, num_nodes=num_nodes)\n",
    "            elif isinstance(edge_index, torch_sparse.SparseTensor):\n",
    "                edge_index = set_diag(edge_index)\n",
    "\n",
    "        # propagate_type: (x: OptPairTensor, alpha: OptPairTensor)\n",
    "        out = self.propagate(edge_index, x=x, e=e, alpha=alpha, size=size)\n",
    "\n",
    "        alpha = self._alpha\n",
    "        assert alpha is not None\n",
    "        self._alpha = None\n",
    "\n",
    "        if self.concat:\n",
    "            out = out.view(-1, self.heads * self.out_channels)\n",
    "        else:\n",
    "            out = out.mean(dim=1)\n",
    "\n",
    "        if self.bias is not None:\n",
    "            out += self.bias\n",
    "\n",
    "        if isinstance(return_attention_weights, bool):\n",
    "            if isinstance(edge_index, torch.Tensor):\n",
    "                return out, (edge_index, alpha)\n",
    "            elif isinstance(edge_index, torch_sparse.SparseTensor):\n",
    "                return out, edge_index.set_value(alpha, layout='coo')\n",
    "        else:\n",
    "            return out\n",
    "\n",
    "\n",
    "    def message(self, x_j, e, alpha_j, alpha_i, index, ptr, size_i):\n",
    "        # Given egel-level attention coefficients for source and target nodes,\n",
    "        # we simply need to sum them up to \"emulate\" concatenation:\n",
    "        alpha = alpha_j if alpha_i is None else alpha_j + alpha_i\n",
    "#         print(e.shape, self.att_efeat.shape)\n",
    "        alpha += (e[:, None, :].repeat(1, self.heads, 1) * self.att_efeat).sum(dim=-1)\n",
    "\n",
    "        alpha = F.leaky_relu(alpha, self.negative_slope)\n",
    "        alpha = pyg.utils.softmax(alpha, index, ptr, size_i)\n",
    "        self._alpha = alpha  # Save for later use.\n",
    "        alpha = F.dropout(alpha, p=self.dropout, training=self.training)\n",
    "        return x_j * alpha.unsqueeze(-1)"
   ]
  },
  {
   "cell_type": "code",
   "execution_count": 10,
   "metadata": {
    "tags": []
   },
   "outputs": [],
   "source": [
    "class GNNLayer(nn.Module):\n",
    "    def __init__(self,\n",
    "                 nfeat_dims,\n",
    "                 efeat_dim,\n",
    "                 aggr,\n",
    "                 edge_net=None, \n",
    "                 dense=False,\n",
    "                 bn=True, \n",
    "                 act=True, \n",
    "                 dp=None,\n",
    "                 root_weight=True,\n",
    "                 skip=True):\n",
    "        super().__init__()\n",
    "        try:\n",
    "            in_dim = nfeat_dims[0]\n",
    "            out_dim = nfeat_dims[1]\n",
    "        except:\n",
    "            in_dim = nfeat_dims\n",
    "            out_dim = nfeat_dims\n",
    "        self.conv = GATConvWithEFeat(in_dim, out_dim, efeat_dim, aggr=aggr)\n",
    "        self.dense = nn.Linear(out_dim, out_dim) if dense else nn.Identity()\n",
    "        self.bn = gnn.BatchNorm(out_dim) if bn else nn.Identity()\n",
    "        self.act = nn.LeakyReLU() if act else nn.Identity()\n",
    "        self.dp = dp and nn.Dropout(dp) or nn.Identity()\n",
    "        self.skip = skip\n",
    "        self.proj = nn.Linear(in_dim, out_dim, bias=False) if in_dim != out_dim else nn.Identity()\n",
    "        \n",
    "    def forward(self, v, e, data):\n",
    "        v_ = v\n",
    "        v = self.conv(v, data.edge_index, e)\n",
    "        v = self.dense(v)\n",
    "        v = self.bn(v)\n",
    "        v = self.act(v)\n",
    "        v = self.dp(v)\n",
    "        return v + self.proj(v_) if self.skip else v"
   ]
  },
  {
   "cell_type": "code",
   "execution_count": 11,
   "metadata": {
    "jupyter": {
     "source_hidden": true
    },
    "tags": []
   },
   "outputs": [],
   "source": [
    "class GNNBlock(nn.Module):\n",
    "    def __init__(self, \n",
    "                 feat_dims, \n",
    "                 efeat_hid_dims=[], \n",
    "                 efeat_hid_act=nn.LeakyReLU,\n",
    "                 efeat_out_act=nn.Tanh,\n",
    "                 bn=False,\n",
    "                 act=True,\n",
    "                 dp=None,\n",
    "                 aggr='mean',\n",
    "                 root_weight=True,\n",
    "                 static_efeats=1,\n",
    "                 dynamic_efeats='skip',\n",
    "                 rich_efeats=False,\n",
    "                 euclidian=False,\n",
    "                 direction=False,\n",
    "                 n_weights=0,\n",
    "                 residual=False):\n",
    "        '''\n",
    "        dynamic_efeats: {\n",
    "            skip: block input to each layer, \n",
    "            first: block input to first layer, \n",
    "            prev: previous layer output to next layer, \n",
    "            orig: original node feature to each layer\n",
    "        }\n",
    "        '''\n",
    "        super().__init__()\n",
    "        self.static_efeats = static_efeats\n",
    "        self.dynamic_efeats = dynamic_efeats\n",
    "        self.rich_efeats = rich_efeats\n",
    "        self.euclidian = euclidian\n",
    "        self.direction = direction\n",
    "        self.n_weights = n_weights\n",
    "        self.residual = residual\n",
    "        self.gnn = nn.ModuleList()\n",
    "        self.n_layers = len(feat_dims) - 1\n",
    "\n",
    "        for idx, (in_feat, out_feat) in enumerate(zip(feat_dims[:-1], feat_dims[1:])):\n",
    "            direction_dim = (feat_dims[idx] if self.dynamic_efeats == 'prev'\n",
    "                             else 2 if self.dynamic_efeats == 'orig'\n",
    "                             else feat_dims[0])\n",
    "            in_efeat_dim = self.static_efeats\n",
    "            if self.dynamic_efeats != 'first': \n",
    "                in_efeat_dim += self.euclidian + self.direction * direction_dim + self.n_weights + 3 * self.rich_efeats\n",
    "            edge_net = nn.Sequential(*chain.from_iterable(\n",
    "                [nn.Linear(idim, odim),\n",
    "                 nn.BatchNorm1d(odim),\n",
    "                 act()]\n",
    "                for idim, odim, act in zip([in_efeat_dim] + efeat_hid_dims,\n",
    "                                           efeat_hid_dims + [in_feat * out_feat],\n",
    "                                           [efeat_hid_act] * len(efeat_hid_dims) + [efeat_out_act])\n",
    "            ))\n",
    "            self.gnn.append(GNNLayer(nfeat_dims=(in_feat, out_feat), \n",
    "                                     efeat_dim=in_efeat_dim, \n",
    "                                     edge_net=edge_net,\n",
    "                                     bn=bn, \n",
    "                                     act=act, \n",
    "                                     dp=dp,\n",
    "                                     aggr=aggr,\n",
    "                                     root_weight=root_weight,\n",
    "                                     skip=False))\n",
    "        \n",
    "    def _get_edge_feat(self, pos, data, rich_efeats=False, euclidian=False, direction=False, weights=None):\n",
    "        e = data.edge_attr[:, :self.static_efeats]\n",
    "        if euclidian or direction:\n",
    "            start_pos, end_pos = get_edges(pos, data)\n",
    "            v, u = l2_normalize(end_pos - start_pos, return_norm=True)\n",
    "            if euclidian:\n",
    "                e = torch.cat([e, u], dim=1)\n",
    "            if direction:\n",
    "                e = torch.cat([e, v], dim=1)\n",
    "            if rich_efeats:\n",
    "                d = e[:, :1]\n",
    "                d2 = d ** 2\n",
    "#                 d_inv = 1 / d\n",
    "#                 d2_inv = 1 / d2\n",
    "                u2 = u ** 2\n",
    "                ud = u * d\n",
    "#                 u_inv = 1 / u\n",
    "#                 u2_inv = 1 / u2\n",
    "                e = torch.cat([e, d2, u2, ud], dim=1)\n",
    "        if weights is not None:\n",
    "            w = weights.repeat(len(e), 1)\n",
    "            e = torch.cat([e, w], dim=1)\n",
    "        return e\n",
    "    \n",
    "    def _get_dynamic_edge_feat(self, pos, data, rich_efeats=False, euclidian=False, direction=False, weights=None):\n",
    "        if euclidian or direction:\n",
    "            start_pos, end_pos = get_edges(pos, data)\n",
    "            d, u = l2_normalize(end_pos - start_pos, return_norm=True)\n",
    "            if euclidian and direction:\n",
    "                e = torch.cat([u, d], dim=1)\n",
    "            else:\n",
    "                if euclidian:\n",
    "                    e = u\n",
    "                if direction:\n",
    "                    e = d\n",
    "        if weights is not None:\n",
    "            w = weights.repeat(len(e), 1)\n",
    "            e = torch.cat([e, w], dim=1)\n",
    "        return e\n",
    "        \n",
    "    def forward(self, v, data, weights=None):\n",
    "        vres = v\n",
    "        for layer in range(self.n_layers):\n",
    "            vsrc = (v if self.dynamic_efeats == 'prev' \n",
    "                    else data.pos if self.dynamic_efeats == 'orig' \n",
    "                    else vres)\n",
    "            get_extra = not (self.dynamic_efeats == 'first' and layer != 0)\n",
    "            efeat_fn = self._get_dynamic_edge_feat if self.static_efeats == 0 else self._get_edge_feat\n",
    "\n",
    "            e = efeat_fn(vsrc, data,\n",
    "                         rich_efeats=self.rich_efeats and get_extra,\n",
    "                         euclidian=self.euclidian and get_extra, \n",
    "                         direction=self.direction and get_extra,\n",
    "                         weights=weights if get_extra and self.n_weights > 0 else None)\n",
    "            v = self.gnn[layer](v, e, data)\n",
    "        return v + vres if self.residual else v"
   ]
  },
  {
   "cell_type": "code",
   "execution_count": 12,
   "metadata": {
    "tags": []
   },
   "outputs": [],
   "source": [
    "class Generator(nn.Module):\n",
    "    def __init__(self, \n",
    "                 num_blocks=9, \n",
    "                 num_layers=3,\n",
    "                 num_enet_layers=2,\n",
    "                 layer_dims=None,\n",
    "                 n_weights=0, \n",
    "                 dynamic_efeats='skip',\n",
    "                 euclidian=True,\n",
    "                 direction=True,\n",
    "                 residual=True,\n",
    "                 normalize=None):\n",
    "        super().__init__()\n",
    "\n",
    "        self.in_blocks = nn.ModuleList([\n",
    "            GNNBlock(feat_dims=[2, 8, 8 if layer_dims is None else layer_dims[0]], bn=True, dp=0.2, static_efeats=2)\n",
    "        ])\n",
    "        self.hid_blocks = nn.ModuleList([\n",
    "            GNNBlock(feat_dims=layer_dims or ([8] + [8] * num_layers), \n",
    "                     efeat_hid_dims=[16] * (num_enet_layers - 1),\n",
    "                     bn=True, \n",
    "                     act=True,\n",
    "                     dp=0.2, \n",
    "                     static_efeats=2,\n",
    "                     dynamic_efeats=dynamic_efeats,\n",
    "                     euclidian=euclidian,\n",
    "                     direction=direction,\n",
    "                     n_weights=n_weights,\n",
    "                     residual=residual)\n",
    "            for _ in range(num_blocks)\n",
    "        ])\n",
    "        self.out_blocks = nn.ModuleList([\n",
    "            GNNBlock(feat_dims=[8 if layer_dims is None else layer_dims[-1], 8], bn=True, static_efeats=2),\n",
    "            GNNBlock(feat_dims=[8, 2], act=False, static_efeats=2)\n",
    "        ])\n",
    "        self.normalize = normalize\n",
    "\n",
    "    def forward(self, data, weights=None, output_hidden=False, numpy=False):\n",
    "        v = data.pos if data.pos is not None else generate_rand_pos(len(data.x)).to(data.x.device)\n",
    "        if self.normalize is not None:\n",
    "            v = self.normalize(v, data)\n",
    "        \n",
    "        hidden = []\n",
    "        for block in chain(self.in_blocks, \n",
    "                           self.hid_blocks, \n",
    "                           self.out_blocks):\n",
    "            v = block(v, data, weights)\n",
    "            if output_hidden:\n",
    "                hidden.append(v.detach().cpu().numpy() if numpy else v)\n",
    "        if not output_hidden:\n",
    "            vout = v.detach().cpu().numpy() if numpy else v\n",
    "            if self.normalize is not None:\n",
    "                vout = self.normalize(vout, data)\n",
    "        \n",
    "        return hidden if output_hidden else vout"
   ]
  },
  {
   "cell_type": "code",
   "execution_count": 13,
   "metadata": {
    "id": "96ZActxlL0fJ"
   },
   "outputs": [],
   "source": [
    "class StressDiscriminator(nn.Module):\n",
    "    def __init__(self, normalize=CanonicalizationByStress(), **kwargs):\n",
    "        super().__init__()\n",
    "        self.dummy = nn.Parameter(torch.zeros(1))\n",
    "        self.normalize = normalize\n",
    "        self.stress = Stress(reduce=None)\n",
    "\n",
    "    def forward(self, batch):\n",
    "        return -self.stress(self.normalize(batch.pos, batch), batch)"
   ]
  },
  {
   "cell_type": "code",
   "execution_count": 14,
   "metadata": {
    "id": "IJ6xCYBUuhcw"
   },
   "outputs": [],
   "source": [
    "def get_ckpt_epoch(folder, epoch):\n",
    "    if not os.path.isdir(folder):\n",
    "        os.mkdir(folder)\n",
    "    if epoch >= 0:\n",
    "        return epoch\n",
    "    ckpt_files = os.listdir(folder)\n",
    "    last_epoch = 0\n",
    "    if ckpt_files:\n",
    "        last_epoch = sorted(list(map(lambda x: int(re.search('(?<=epoch_)(\\d+)(?=\\.)', x).group(1)), ckpt_files)))[-1]\n",
    "    return last_epoch + epoch + 1\n",
    "\n",
    "def start_epoch():\n",
    "    return get_ckpt_epoch(paths.checkpoints(), config.epoch.start)"
   ]
  },
  {
   "cell_type": "code",
   "execution_count": 15,
   "metadata": {
    "colab": {
     "base_uri": "https://localhost:8080/"
    },
    "id": "JacDYXka9U01",
    "outputId": "8a0d9c75-eb27-4cfd-eb3e-c81b698cb086"
   },
   "outputs": [
    {
     "name": "stdout",
     "output_type": "stream",
     "text": [
      "Loading from artifacts/checkpoints/deepgd(conv=gat_simple(self_loop=false,heads=2),lr=1e-2)/gen_epoch_3743.pt...\n",
      "Loading from artifacts/checkpoints/deepgd(conv=gat_simple(self_loop=false,heads=2),lr=1e-2)/gen_optim_epoch_3743.pt...\n"
     ]
    }
   ],
   "source": [
    "generator = Generator(**config.generator.params[...]).to(device)\n",
    "generator_optimizer = config.generator.optim(generator.parameters(), lr=config.generator.lr.initial * config.generator.lr.decay ** start_epoch())\n",
    "generator_scheduler = torch.optim.lr_scheduler.ExponentialLR(generator_optimizer, gamma=config.generator.lr.decay)\n",
    "if start_epoch() != 0:\n",
    "    gen_ckpt_epoch = start_epoch()\n",
    "elif config.generator.pretrained.name is not None and config.generator.pretrained.epoch != 0:\n",
    "    gen_pretrained_epoch = get_ckpt_epoch(paths.gen_pretrain(), config.generator.pretrained.epoch)\n",
    "    gen_ckpt_epoch = gen_pretrained_epoch \n",
    "else:\n",
    "    gen_ckpt_epoch = None\n",
    "if gen_ckpt_epoch is not None:\n",
    "    # Load generator\n",
    "    gen_ckpt_file = f\"{paths.checkpoints()}/gen_epoch_{gen_ckpt_epoch}.pt\"\n",
    "    print(f\"Loading from {gen_ckpt_file}...\")\n",
    "    generator.load_state_dict(torch.load(gen_ckpt_file, map_location=torch.device(device)))\n",
    "    # Load generator optimizer\n",
    "    gen_optim_ckpt_file = f\"{paths.checkpoints()}/gen_optim_epoch_{gen_ckpt_epoch}.pt\"\n",
    "    print(f\"Loading from {gen_optim_ckpt_file}...\")\n",
    "    generator_optimizer.load_state_dict(torch.load(gen_optim_ckpt_file, map_location=torch.device(device)))"
   ]
  },
  {
   "cell_type": "code",
   "execution_count": 16,
   "metadata": {
    "colab": {
     "base_uri": "https://localhost:8080/"
    },
    "id": "oWQhD7-88VXe",
    "outputId": "3ce11a68-adca-4f26-b71c-69fb71d301d2"
   },
   "outputs": [],
   "source": [
    "discriminator = StressDiscriminator(**config.discriminator.params[...]).to(device)\n",
    "# discriminator_optimizer = config.discriminator.optim(discriminator.parameters(), lr=config.discriminator.lr.initial * config.discriminator.lr.decay ** start_epoch())\n",
    "# discriminator_scheduler = torch.optim.lr_scheduler.ExponentialLR(discriminator_optimizer, gamma=config.discriminator.lr.decay)\n",
    "# if start_epoch() != 0:\n",
    "#     dis_ckpt_epoch = start_epoch()\n",
    "# elif config.discriminator.pretrained.name is not None and config.discriminator.pretrained.epoch != 0:\n",
    "#     dis_pretrained_epoch = get_ckpt_epoch(paths.dis_pretrain(), config.discriminator.pretrained.epoch)\n",
    "#     dis_ckpt_epoch = dis_pretrained_epoch # f\"{paths.dis_pretrain()}/dis_epoch_{dis_pretrained_epoch}.pt\"\n",
    "# else:\n",
    "#     dis_ckpt_epoch = None\n",
    "# if dis_ckpt_epoch is not None:\n",
    "#     # Load discriminator\n",
    "#     dis_ckpt_file = f\"{paths.checkpoints()}/dis_epoch_{dis_ckpt_epoch}.pt\"\n",
    "#     print(f\"Loading from {dis_ckpt_file}...\")\n",
    "#     discriminator.load_state_dict(torch.load(dis_ckpt_file, map_location=torch.device(device)))\n",
    "#     # Load discriminator optimizer\n",
    "#     dis_optim_ckpt_file = f\"{paths.checkpoints()}/dis_optim_epoch_{dis_ckpt_epoch}.pt\"\n",
    "#     print(f\"Loading from {dis_optim_ckpt_file}...\")\n",
    "#     discriminator_optimizer.load_state_dict(torch.load(dis_optim_ckpt_file, map_location=torch.device(device)))"
   ]
  },
  {
   "cell_type": "markdown",
   "metadata": {
    "id": "N39dDHraedM6"
   },
   "source": [
    "# Train"
   ]
  },
  {
   "cell_type": "code",
   "execution_count": 17,
   "metadata": {
    "id": "BdIJSDSJedM-"
   },
   "outputs": [],
   "source": [
    "stress_criterion = StressDiscriminator().to(device)\n",
    "val_criterion = Stress(reduce=None)\n",
    "xing_criterion = Xing(reduce=None)\n",
    "dis_convert = DiscriminatorDataConverter(complete_graph=config.discriminator.complete, normalize=config.discriminator.params.normalize)\n",
    "tensorboard = SummaryWriter(log_dir=paths.tensorboard())\n",
    "epoch = start_epoch() + 1"
   ]
  },
  {
   "cell_type": "code",
   "execution_count": 18,
   "metadata": {
    "id": "OHRWj1h0edM-"
   },
   "outputs": [],
   "source": [
    "def gradient_penalty(interpolated, discriminator, weight=10):\n",
    "    interpolated.pos.requires_grad_()\n",
    "    prob_interpolated = discriminator(interpolated)\n",
    "    gradients = autograd.grad(outputs=prob_interpolated, \n",
    "                              inputs=interpolated.pos,\n",
    "                              grad_outputs=torch.ones_like(prob_interpolated),\n",
    "                              create_graph=True, \n",
    "                              retain_graph=True, \n",
    "                              allow_unused=True)[0]\n",
    "    gradients_norm = torch.sqrt(gnn.global_add_pool(gradients.square().sum(dim=1), batch.batch) + 1e-8)\n",
    "    return weight * ((gradients_norm - 1) ** 2).mean()"
   ]
  },
  {
   "cell_type": "code",
   "execution_count": 19,
   "metadata": {
    "id": "o5wJJN9AedM_"
   },
   "outputs": [],
   "source": [
    "def get_gp_loss(batch, fake_pos, weight):\n",
    "    if weight > 0:\n",
    "        interp = dis_convert(batch, fake_pos, random.random())\n",
    "        return gradient_penalty(interp, discriminator, weight).mean()\n",
    "    return 0"
   ]
  },
  {
   "cell_type": "code",
   "execution_count": 20,
   "metadata": {
    "id": "QwuA6sRoedM_"
   },
   "outputs": [],
   "source": [
    "def get_sgan_loss(batch, fake_pos, mode='discriminator'):\n",
    "    real = dis_convert(batch)\n",
    "    fake = dis_convert(batch, fake_pos)\n",
    "    pred = discriminator(merge_batch(real, fake)).view(2, -1).T\n",
    "    if mode == 'discriminator':\n",
    "        label = torch.zeros(pred.shape[0]).long()\n",
    "    elif mode == 'generator':\n",
    "        label = torch.ones(pred.shape[0]).long()\n",
    "    else:\n",
    "        raise Exception\n",
    "    return nn.CrossEntropyLoss()(pred, label)"
   ]
  },
  {
   "cell_type": "code",
   "execution_count": 21,
   "metadata": {
    "id": "GuAP1YchedNA"
   },
   "outputs": [],
   "source": [
    "def get_rgan_loss(batch, fake_pos, mode='discriminator'):\n",
    "    real = dis_convert(batch)\n",
    "    fake = dis_convert(batch, fake_pos)\n",
    "    pred = discriminator(merge_batch(real, fake)).view(2, -1).T\n",
    "    real_pred, fake_pred = pred[:,0], pred[:,1]\n",
    "    if mode == 'discriminator':\n",
    "        losses = - F.logsigmoid(real_pred - fake_pred)\n",
    "    elif mode == 'generator':\n",
    "        losses = - F.logsigmoid(fake_pred - real_pred)\n",
    "    else:\n",
    "        raise Exception\n",
    "    return losses.mean()"
   ]
  },
  {
   "cell_type": "code",
   "execution_count": 22,
   "metadata": {
    "id": "KFllQ7BredNA"
   },
   "outputs": [],
   "source": [
    "def get_wgan_loss(batch, fake_pos, mode='discriminator'):\n",
    "    real = dis_convert(batch)\n",
    "    fake = dis_convert(batch, fake_pos)\n",
    "    pred = discriminator(merge_batch(real, fake)).view(2, -1).T\n",
    "    real_pred, fake_pred = pred[:,0], pred[:,1]\n",
    "    if mode == 'discriminator':\n",
    "        losses = fake_pred - real_pred \n",
    "    elif mode == 'generator':\n",
    "        losses = real_pred - fake_pred\n",
    "    else:\n",
    "        raise Exception\n",
    "    return losses.mean()"
   ]
  },
  {
   "cell_type": "code",
   "execution_count": 23,
   "metadata": {
    "id": "r5Kg_tYEedNA"
   },
   "outputs": [],
   "source": [
    "def get_ragan_loss(batch, fake_pos, mode='discriminator'):\n",
    "    real = dis_convert(batch)\n",
    "    fake = dis_convert(batch, fake_pos)\n",
    "    pred = discriminator(merge_batch(real, fake)).view(2, -1).T\n",
    "    real_pred, fake_pred = pred[:,0], pred[:,1]\n",
    "    if mode == 'discriminator':\n",
    "        losses = - F.logsigmoid(real_pred - fake_pred.mean()) - F.logsigmoid(real_pred.mean() - fake_pred)\n",
    "    elif mode == 'generator':\n",
    "        losses = - F.logsigmoid(fake_pred - real_pred.mean()) - F.logsigmoid(fake_pred.mean() - real_pred)\n",
    "    else:\n",
    "        raise Exception\n",
    "    return losses.mean()"
   ]
  },
  {
   "cell_type": "code",
   "execution_count": 24,
   "metadata": {},
   "outputs": [],
   "source": [
    "def get_dgdv2_loss(batch, fake_pos, mode='discriminator'):\n",
    "    fake = dis_convert(batch, fake_pos)\n",
    "    pred = discriminator(fake)\n",
    "    if mode == 'discriminator':\n",
    "        gt = get_gt(batch, fake_pos)\n",
    "        loss = criterion(pred, gt)\n",
    "    elif mode == 'generator':\n",
    "        losses = pred.sum(dim=0)\n",
    "#         losses = torch.tensor(config.importance).to(device) * losses #/ losses.detach()\n",
    "        loss = losses.sum()\n",
    "    else:\n",
    "        raise Exception\n",
    "    return -loss"
   ]
  },
  {
   "cell_type": "code",
   "execution_count": 25,
   "metadata": {
    "id": "3IE_84f-edNB"
   },
   "outputs": [],
   "source": [
    "def get_gan_loss(batch, fake_pos, mode='discriminator'):\n",
    "    return {\"sgan\": get_sgan_loss,\n",
    "            \"wgan\": get_wgan_loss,\n",
    "            \"rgan\": get_rgan_loss,\n",
    "            \"ragan\": get_ragan_loss,\n",
    "            \"dgdv2\": get_dgdv2_loss}[config.gan_flavor](batch, fake_pos, mode)"
   ]
  },
  {
   "cell_type": "code",
   "execution_count": 26,
   "metadata": {
    "colab": {
     "base_uri": "https://localhost:8080/",
     "height": 80
    },
    "id": "2NjekXgkedNB",
    "outputId": "d0ca2d2c-8af7-40af-b197-7974e566b064",
    "tags": []
   },
   "outputs": [
    {
     "data": {
      "application/vnd.jupyter.widget-view+json": {
       "model_id": "dd1635a18de34b5a8fae8e3809e45dfc",
       "version_major": 2,
       "version_minor": 0
      },
      "text/plain": [
       "Tab(children=(VBox(children=(Wrapper(), Hud())), HBox(children=(Output(),), layout=Layout(height='500px', over…"
      ]
     },
     "metadata": {},
     "output_type": "display_data"
    },
    {
     "ename": "KeyboardInterrupt",
     "evalue": "",
     "output_type": "error",
     "traceback": [
      "\u001b[0;31m---------------------------------------------------------------------------\u001b[0m",
      "\u001b[0;31mKeyboardInterrupt\u001b[0m                         Traceback (most recent call last)",
      "\u001b[0;32m/tmp/slurmtmp.5514058/ipykernel_191806/3144612910.py\u001b[0m in \u001b[0;36m<module>\u001b[0;34m\u001b[0m\n\u001b[1;32m    136\u001b[0m     \u001b[0;32mif\u001b[0m \u001b[0mconfig\u001b[0m\u001b[0;34m.\u001b[0m\u001b[0malternate\u001b[0m \u001b[0;34m==\u001b[0m \u001b[0;34m'epoch'\u001b[0m\u001b[0;34m:\u001b[0m\u001b[0;34m\u001b[0m\u001b[0;34m\u001b[0m\u001b[0m\n\u001b[1;32m    137\u001b[0m         \u001b[0;32mfor\u001b[0m \u001b[0mbatch\u001b[0m \u001b[0;32min\u001b[0m \u001b[0mtrain_loader\u001b[0m\u001b[0;34m:\u001b[0m\u001b[0;34m\u001b[0m\u001b[0;34m\u001b[0m\u001b[0m\n\u001b[0;32m--> 138\u001b[0;31m             \u001b[0mtrain_gen\u001b[0m\u001b[0;34m(\u001b[0m\u001b[0mbatch\u001b[0m\u001b[0;34m,\u001b[0m \u001b[0mepoch\u001b[0m\u001b[0;34m)\u001b[0m\u001b[0;34m\u001b[0m\u001b[0;34m\u001b[0m\u001b[0m\n\u001b[0m\u001b[1;32m    139\u001b[0m \u001b[0;34m\u001b[0m\u001b[0m\n\u001b[1;32m    140\u001b[0m \u001b[0;31m#     discriminator_scheduler.step()\u001b[0m\u001b[0;34m\u001b[0m\u001b[0;34m\u001b[0m\u001b[0m\n",
      "\u001b[0;32m/tmp/slurmtmp.5514058/ipykernel_191806/3144612910.py\u001b[0m in \u001b[0;36mtrain_gen\u001b[0;34m(batch, epoch)\u001b[0m\n\u001b[1;32m     31\u001b[0m \u001b[0;34m\u001b[0m\u001b[0m\n\u001b[1;32m     32\u001b[0m     \u001b[0;31m#train generator\u001b[0m\u001b[0;34m\u001b[0m\u001b[0;34m\u001b[0m\u001b[0m\n\u001b[0;32m---> 33\u001b[0;31m     \u001b[0mgenerator_loss\u001b[0m\u001b[0;34m.\u001b[0m\u001b[0mbackward\u001b[0m\u001b[0;34m(\u001b[0m\u001b[0;34m)\u001b[0m\u001b[0;34m\u001b[0m\u001b[0;34m\u001b[0m\u001b[0m\n\u001b[0m\u001b[1;32m     34\u001b[0m     \u001b[0mgenerator_optimizer\u001b[0m\u001b[0;34m.\u001b[0m\u001b[0mstep\u001b[0m\u001b[0;34m(\u001b[0m\u001b[0;34m)\u001b[0m\u001b[0;34m\u001b[0m\u001b[0;34m\u001b[0m\u001b[0m\n\u001b[1;32m     35\u001b[0m \u001b[0;34m\u001b[0m\u001b[0m\n",
      "\u001b[0;32m~/.conda/envs/deepgd/lib/python3.9/site-packages/torch/_tensor.py\u001b[0m in \u001b[0;36mbackward\u001b[0;34m(self, gradient, retain_graph, create_graph, inputs)\u001b[0m\n\u001b[1;32m    253\u001b[0m                 \u001b[0mcreate_graph\u001b[0m\u001b[0;34m=\u001b[0m\u001b[0mcreate_graph\u001b[0m\u001b[0;34m,\u001b[0m\u001b[0;34m\u001b[0m\u001b[0;34m\u001b[0m\u001b[0m\n\u001b[1;32m    254\u001b[0m                 inputs=inputs)\n\u001b[0;32m--> 255\u001b[0;31m         \u001b[0mtorch\u001b[0m\u001b[0;34m.\u001b[0m\u001b[0mautograd\u001b[0m\u001b[0;34m.\u001b[0m\u001b[0mbackward\u001b[0m\u001b[0;34m(\u001b[0m\u001b[0mself\u001b[0m\u001b[0;34m,\u001b[0m \u001b[0mgradient\u001b[0m\u001b[0;34m,\u001b[0m \u001b[0mretain_graph\u001b[0m\u001b[0;34m,\u001b[0m \u001b[0mcreate_graph\u001b[0m\u001b[0;34m,\u001b[0m \u001b[0minputs\u001b[0m\u001b[0;34m=\u001b[0m\u001b[0minputs\u001b[0m\u001b[0;34m)\u001b[0m\u001b[0;34m\u001b[0m\u001b[0;34m\u001b[0m\u001b[0m\n\u001b[0m\u001b[1;32m    256\u001b[0m \u001b[0;34m\u001b[0m\u001b[0m\n\u001b[1;32m    257\u001b[0m     \u001b[0;32mdef\u001b[0m \u001b[0mregister_hook\u001b[0m\u001b[0;34m(\u001b[0m\u001b[0mself\u001b[0m\u001b[0;34m,\u001b[0m \u001b[0mhook\u001b[0m\u001b[0;34m)\u001b[0m\u001b[0;34m:\u001b[0m\u001b[0;34m\u001b[0m\u001b[0;34m\u001b[0m\u001b[0m\n",
      "\u001b[0;32m~/.conda/envs/deepgd/lib/python3.9/site-packages/torch/autograd/__init__.py\u001b[0m in \u001b[0;36mbackward\u001b[0;34m(tensors, grad_tensors, retain_graph, create_graph, grad_variables, inputs)\u001b[0m\n\u001b[1;32m    145\u001b[0m         \u001b[0mretain_graph\u001b[0m \u001b[0;34m=\u001b[0m \u001b[0mcreate_graph\u001b[0m\u001b[0;34m\u001b[0m\u001b[0;34m\u001b[0m\u001b[0m\n\u001b[1;32m    146\u001b[0m \u001b[0;34m\u001b[0m\u001b[0m\n\u001b[0;32m--> 147\u001b[0;31m     Variable._execution_engine.run_backward(\n\u001b[0m\u001b[1;32m    148\u001b[0m         \u001b[0mtensors\u001b[0m\u001b[0;34m,\u001b[0m \u001b[0mgrad_tensors_\u001b[0m\u001b[0;34m,\u001b[0m \u001b[0mretain_graph\u001b[0m\u001b[0;34m,\u001b[0m \u001b[0mcreate_graph\u001b[0m\u001b[0;34m,\u001b[0m \u001b[0minputs\u001b[0m\u001b[0;34m,\u001b[0m\u001b[0;34m\u001b[0m\u001b[0;34m\u001b[0m\u001b[0m\n\u001b[1;32m    149\u001b[0m         allow_unreachable=True, accumulate_grad=True)  # allow_unreachable flag\n",
      "\u001b[0;31mKeyboardInterrupt\u001b[0m: "
     ]
    }
   ],
   "source": [
    "# def train_dis(batch, epoch):\n",
    "#     generator.requires_grad_(False)\n",
    "#     discriminator.zero_grad()\n",
    "#     generator_output = generator(batch)\n",
    "#     if config.discriminator.noise.std > 0:\n",
    "#         generator_output = generator_output + torch.randn_like(generator_output) * config.discriminator.noise.std * config.discriminator.noise.decay ** epoch\n",
    "#     discriminator_loss = get_gan_loss(batch, generator_output, mode='discriminator')\n",
    "    \n",
    "#     # train discriminator\n",
    "#     discriminator_loss.backward()\n",
    "#     discriminator_optimizer.step()\n",
    "\n",
    "#     # gradient penalty\n",
    "#     if config.gp_weight > 0:\n",
    "#         discriminator.zero_grad()\n",
    "#         gp_loss = get_gp_loss(batch, generator_output, config.gp_weight)\n",
    "#         gp_loss.backward()\n",
    "#         discriminator_optimizer.step()\n",
    "\n",
    "#     hud['dis_loss'] = format(discriminator_loss.item(), '.2e')\n",
    "#     pbar().update()\n",
    "\n",
    "def train_gen(batch, epoch):\n",
    "    generator.requires_grad_(True)\n",
    "    generator.zero_grad()\n",
    "    discriminator.zero_grad()\n",
    "    generator_output = generator(batch)\n",
    "    if config.discriminator.noise.std > 0:\n",
    "        generator_output = generator_output + torch.randn_like(generator_output) * config.discriminator.noise.std * config.discriminator.noise.decay ** epoch\n",
    "    generator_loss = get_gan_loss(batch, generator_output, mode='generator') \n",
    "    \n",
    "    #train generator\n",
    "    generator_loss.backward()\n",
    "    generator_optimizer.step()\n",
    "\n",
    "    with torch.no_grad():\n",
    "        dis_batch = dis_convert(batch, generator_output)\n",
    "        stress = stress_criterion(dis_batch).mean()\n",
    "        critic = discriminator(dis_batch).mean()\n",
    "    hud.append({'gen_loss': format(generator_loss.item(), '.2e'),\n",
    "                'stress': format(stress.item(), '.2e'),\n",
    "                'critic': format(critic.item(), '.2e')})\n",
    "    pbar().update()\n",
    "\n",
    "def cuda_memsafe_map(fn, *iterables, summary=False):\n",
    "    total, failed = 0, 0\n",
    "    iterator = zip(*iterables)\n",
    "    items = None\n",
    "    while True:\n",
    "        try:\n",
    "            items = next(iterator)\n",
    "            yield fn(*items)\n",
    "        except StopIteration:\n",
    "            if summary:\n",
    "                print(f'Iteration finished. {failed} out of {total} failed!')\n",
    "            break\n",
    "#         except RuntimeError:\n",
    "#             print('CUDA memory overflow! Skip batch...')\n",
    "#             del items\n",
    "#             failed += 1\n",
    "        torch.cuda.empty_cache()\n",
    "        total += 1\n",
    "    \n",
    "def validate(model, data_loader, criterion=val_criterion):\n",
    "    def val_one_batch(batch):\n",
    "        batch = preprocess_batch(model, batch)\n",
    "        pred = CanonicalizationByStress()(model(batch), batch)\n",
    "        gt = CanonicalizationByStress()(batch.gt_pos, batch)\n",
    "        loss = criterion(pred, batch)\n",
    "        gt_loss = criterion(gt, batch)\n",
    "        spc = (loss - gt_loss) / torch.maximum(torch.maximum(loss, gt_loss), torch.ones_like(loss)*1e-5)\n",
    "        return loss.mean().item(), spc.mean().item()\n",
    "    loss_all, spc_all = zip(*cuda_memsafe_map(val_one_batch, data_loader))\n",
    "    return np.mean(loss_all), np.mean(spc_all)\n",
    "\n",
    "def log(msg):\n",
    "    msg = f\"[{epoch:03}] {msg}\"\n",
    "    print(msg, file=open(paths.log(), \"a\"))\n",
    "    with log_out: \n",
    "        print(msg)\n",
    "\n",
    "print(f\"{'='*10} {config.link} {'='*10}\", file=open(paths.log(), \"a\"))\n",
    "hud = Hud()\n",
    "pbar = Wrapper(tqdm, total=len(train_loader), smoothing=0)\n",
    "plot_out = Output()\n",
    "log_out = Output()\n",
    "tabs = {\"status\": VBox([pbar, hud]), \n",
    "        \"plot\": HBox([plot_out], layout=Layout(height='500px', overflow_y='auto')),\n",
    "        \"log\": HBox([log_out], layout=Layout(height='500px', overflow_y='auto'))}\n",
    "tab_bar = Tab(children=list(tabs.values()))\n",
    "[tab_bar.set_title(i, name) for i, name in enumerate(tabs)]\n",
    "display(tab_bar)\n",
    "while True:\n",
    "    if epoch % config.log_interval == 0:\n",
    "        torch.save(generator.state_dict(), f\"{paths.checkpoints()}/gen_epoch_{epoch}.pt\")\n",
    "        torch.save(generator_optimizer.state_dict(), f\"{paths.checkpoints()}/gen_optim_epoch_{epoch}.pt\")\n",
    "#         torch.save(discriminator.state_dict(), f\"{paths.checkpoints()}/dis_epoch_{epoch}.pt\")\n",
    "#         torch.save(discriminator_optimizer.state_dict(), f\"{paths.checkpoints()}/dis_optim_epoch_{epoch}.pt\")\n",
    "        generator.eval()\n",
    "        with torch.no_grad():\n",
    "            val_stress, val_stress_spc = validate(model=generator, data_loader=val_loader)\n",
    "            val_xing, val_xing_spc = validate(model=generator, data_loader=val_loader, criterion=xing_criterion)\n",
    "            with plot_out:\n",
    "                fig = plt.figure()\n",
    "                graph_vis(G_list[11100], generator(make_batch(data_list[11100]).to(device)).cpu())\n",
    "                plt.show()\n",
    "#         for i, fn in enumerate(loss_fns):\n",
    "#             tensorboard.add_scalars(type(fn).__name__, {'train': train_loss_comp[i].item(), \n",
    "#                                                   'validation': val_loss_comp[i].item()}, epoch)\n",
    "        hud.append({\n",
    "            'val_stress': format(val_stress, '.2f'),\n",
    "            'val_stress_spc': format(val_stress_spc, '.2%'),\n",
    "            'val_xing': format(val_xing, '.2f'),\n",
    "            'val_xing_spc': format(val_xing_spc, '.2%'),\n",
    "        })\n",
    "        log(msg := f\"stress={hud.data['val_stress']}({hud.data['val_stress_spc']}) xing={hud.data['val_xing']}({hud.data['val_xing_spc']})\")\n",
    "    \n",
    "        tensorboard.add_scalars('Stress', {'Value': val_stress, 'SPC': val_stress_spc}, epoch)\n",
    "        tensorboard.add_scalars('Xing', {'Value': val_xing, 'SPC': val_xing_spc}, epoch)\n",
    "        tensorboard.add_figure('Rome/11100', fig, epoch)\n",
    "        tensorboard.add_text('Log', msg, epoch)\n",
    "        \n",
    "    # handle.update(tab_bar)\n",
    "    pbar().reset()\n",
    "    pbar().set_description(desc=f\"[epoch {epoch}/{config.epoch.end}]\")\n",
    "    hud(title=f\"epoch {epoch}\")\n",
    "    generator.train()\n",
    "#     discriminator.train()\n",
    "    # proper: proper layout\n",
    "#     for _ in range(config.discriminator.repeat):\n",
    "#         for batch in train_loader:\n",
    "#             train_dis(batch, epoch)\n",
    "#             if config.alternate == 'iteration':\n",
    "#                 train_gen(batch, epoch)\n",
    "\n",
    "    if config.alternate == 'epoch':\n",
    "        for batch in train_loader:\n",
    "            train_gen(batch, epoch)\n",
    "\n",
    "#     discriminator_scheduler.step()\n",
    "    generator_scheduler.step()\n",
    "\n",
    "    if epoch == config.epoch.end:\n",
    "        break\n",
    "    epoch += 1"
   ]
  },
  {
   "cell_type": "code",
   "execution_count": null,
   "metadata": {},
   "outputs": [],
   "source": [
    "data = Data()"
   ]
  },
  {
   "cell_type": "code",
   "execution_count": null,
   "metadata": {},
   "outputs": [],
   "source": [
    "data.n = torch.tensor(1)"
   ]
  },
  {
   "cell_type": "code",
   "execution_count": null,
   "metadata": {},
   "outputs": [],
   "source": [
    "Batch.from_data_list([data]).to_data_list()"
   ]
  },
  {
   "cell_type": "code",
   "execution_count": null,
   "metadata": {},
   "outputs": [],
   "source": []
  },
  {
   "cell_type": "code",
   "execution_count": null,
   "metadata": {},
   "outputs": [],
   "source": [
    "import torch_geometric as pyg"
   ]
  },
  {
   "cell_type": "code",
   "execution_count": null,
   "metadata": {},
   "outputs": [],
   "source": [
    "isinstance(pyg.data.Batch.from_data_list([pyg.data.Data()]), pyg.data.Batch)"
   ]
  },
  {
   "cell_type": "code",
   "execution_count": null,
   "metadata": {},
   "outputs": [],
   "source": [
    "type(pyg.data.Batch.from_data_list([pyg.data.Data()])) is pyg.data.Batch"
   ]
  },
  {
   "cell_type": "code",
   "execution_count": null,
   "metadata": {},
   "outputs": [],
   "source": []
  },
  {
   "cell_type": "code",
   "execution_count": null,
   "metadata": {},
   "outputs": [],
   "source": [
    "preprocess_batch(generator, data_list[0])"
   ]
  },
  {
   "cell_type": "markdown",
   "metadata": {
    "id": "0qYK_X_hrq9o"
   },
   "source": [
    "# Testdata_list"
   ]
  },
  {
   "cell_type": "code",
   "execution_count": null,
   "metadata": {
    "id": "XEvmAtNjWhcY"
   },
   "outputs": [],
   "source": [
    "test_epoch = -1\n",
    "\n",
    "test_generator = Generator(**config.generator.params[...]).to(device)\n",
    "test_ckpt_epoch = get_ckpt_epoch(paths.checkpoints(), test_epoch)\n",
    "test_ckpt_file = f\"{paths.checkpoints()}/gen_epoch_{test_ckpt_epoch}.pt\"\n",
    "print(f\"Loading from {test_ckpt_file}...\")\n",
    "test_generator.load_state_dict(torch.load(test_ckpt_file, map_location=torch.device(device)))"
   ]
  },
  {
   "cell_type": "code",
   "execution_count": null,
   "metadata": {
    "id": "ZubmSTcYrq9o"
   },
   "outputs": [],
   "source": [
    "rotate = RotateByPrincipalComponents()\n",
    "def test_callback(*, idx, pred, metrics):\n",
    "    # graph_vis(G_list[idx], pred, file_name=f\"{paths.visualization()}/{idx}_{metrics['stress']:.2f}_{metrics['resolution_score']:.2f}.png\")\n",
    "    pred = rotate(torch.tensor(pred), data_list[idx])\n",
    "    graph_vis(G_list[idx], pred)\n",
    "    plt.title(f\"[pred] idx: {idx}, stress: {metrics['stress']:.2f}({metrics['stress_spc']:.2%}), xing: {metrics['xing']:.2f}({metrics['xing_spc']:.2%})\")\n",
    "    plt.show()\n",
    "    gt_pos = rotate(data_list[idx].gt_pos, data_list[idx])\n",
    "    graph_vis(G_list[idx], gt_pos, node_color='orange')\n",
    "    plt.title(f\"[gt] idx: {idx}, stress: {load_ground_truth(idx, 'stress')}, xing: {load_ground_truth(idx, 'xing')}\")\n",
    "    plt.show()\n",
    "    \n",
    "test_metrics = test(model=test_generator, \n",
    "                    criteria_list=[], \n",
    "                    dataset=data_list, \n",
    "                    idx_range=range(10000, 11000), \n",
    "                    callback=test_callback,\n",
    "                    gt_file='gt.csv')\n",
    "pickle.dump(test_metrics, open(paths.metrics(\"test\"), \"wb\"))"
   ]
  },
  {
   "cell_type": "code",
   "execution_count": null,
   "metadata": {
    "id": "t2rFXIr_PsrJ"
   },
   "outputs": [],
   "source": [
    "metrics = test_metrics\n",
    "print('stress:', metrics['stress'].mean())\n",
    "print('stress_spc:', metrics['stress_spc'].mean())\n",
    "print('xing:', metrics['xing'].mean())\n",
    "print('xing_spc:', metrics['xing_spc'].mean())\n",
    "print('l1_angle:', metrics['l1_angle'].mean())\n",
    "print('l1_angle_spc:', metrics['l1_angle_spc'].mean())\n",
    "print('edge:', metrics['edge'].mean())\n",
    "print('edge_spc:', metrics['edge_spc'].mean())\n",
    "print('ring:', metrics['ring'].mean())\n",
    "print('ring_spc:', metrics['ring_spc'].mean())\n",
    "print('tsne:', metrics['tsne'].mean())\n",
    "print('tsne_spc:', metrics['tsne_spc'].mean())\n",
    "print('reso_score:', metrics['resolution_score'].mean())\n",
    "print('min_angle:', metrics['min_angle'].mean())\n",
    "pd.DataFrame(map(lambda m: f\"{metrics[m].mean().item():.4f}\", list(metrics.keys())[:-1])).T"
   ]
  },
  {
   "cell_type": "markdown",
   "metadata": {
    "id": "L5S1HWnHOWIl"
   },
   "source": [
    "# Large Graph"
   ]
  },
  {
   "cell_type": "code",
   "execution_count": null,
   "metadata": {
    "id": "_pefPcV1OZdD"
   },
   "outputs": [],
   "source": [
    "scalability = pd.read_csv(f\"/__artifacts__/data/scalability.csv\", index_col=\"index\")\n",
    "scalability"
   ]
  },
  {
   "cell_type": "code",
   "execution_count": null,
   "metadata": {
    "id": "oMhWAsdvPnTX"
   },
   "outputs": [],
   "source": [
    "rescale = CanonicalizationByStress()\n",
    "stressfn = Stress()\n",
    "rotate = RotateByPrincipalComponents()"
   ]
  },
  {
   "cell_type": "code",
   "execution_count": null,
   "metadata": {
    "id": "LR83OcAaPID5"
   },
   "outputs": [],
   "source": [
    "stress_list = []\n",
    "spc_list = []\n",
    "pmds_list = np.load(\"layouts/new_large_graph/pmds.npy\", allow_pickle=True)\n",
    "gviz_list = np.load(\"layouts/new_large_graph/gviz.npy\", allow_pickle=True)\n",
    "with torch.no_grad():\n",
    "    for idx, col in tqdm(scalability.iterrows(), total=len(scalability)):\n",
    "        # if idx not in [406, 516]: continue\n",
    "        torch.cuda.empty_cache()\n",
    "        G = load_mtx(col['file'])\n",
    "        G.remove_edges_from(nx.selfloop_edges(G))\n",
    "        data = generate_data_list(G, \n",
    "                                sparse=data_config.sparse, \n",
    "                                pivot_mode=data_config.pivot,\n",
    "                                init_mode=data_config.init,\n",
    "                                edge_index=data_config.edge.index,\n",
    "                                edge_attr=data_config.edge.attr,\n",
    "                                pmds_list=pmds_list[idx],\n",
    "                                gviz_list=gviz_list[idx],\n",
    "                                device=device)\n",
    "        batch = Batch.from_data_list([data]).to(device)\n",
    "        # generator.train()\n",
    "        # generator(batch)\n",
    "        generator.eval()\n",
    "        pred = generator(batch)\n",
    "        pos = rotate(rescale(pred, batch), batch)\n",
    "        gt = rotate(rescale(batch.gt_pos, batch), batch)\n",
    "        stress = stressfn(pos, batch).item()\n",
    "        gt_stress = stressfn(gt, batch).item()\n",
    "        spc = (stress - gt_stress) / np.maximum(stress, gt_stress)\n",
    "        stress_list.append(stress)\n",
    "        spc_list.append(spc)\n",
    "\n",
    "        np.save(f\"/__artifacts__/gan_result/data/scalability_{idx}.npy\", pos.cpu().numpy())\n",
    "        graph_attr = dict(node_size=1, \n",
    "                        with_labels=False, \n",
    "                        labels=dict(zip(list(G.nodes), map(lambda n: n if type(n) is int else n[1:], list(G.nodes)))),\n",
    "                        font_color=\"white\", \n",
    "                        font_weight=\"bold\",\n",
    "                        font_size=12,\n",
    "                        width=0.1)\n",
    "\n",
    "        # gt_pos = pickle.load(open(f\"/__artifacts__/data/scalability_{idx}_gt.pkl\", \"rb\"))\n",
    "\n",
    "        plt.figure(figsize=[12, 9])\n",
    "        nx.draw(G, pos=gt.cpu().numpy(), node_color='orange', **graph_attr)\n",
    "        plt.title(f\"neato: large_{idx}\")\n",
    "        plt.axis(\"equal\")\n",
    "        plt.savefig(f\"/__artifacts__/gan_result/output/{idx}_{col['name']}_{col['n']}_{spc}_nx.png\", dpi=300)\n",
    "        plt.show()\n",
    "\n",
    "        plt.figure(figsize=[12, 9])\n",
    "        graph_vis(G, pos.cpu().numpy(), **graph_attr)\n",
    "        plt.title(f\"dgd: large_{idx}, spc={spc:.2%}\")\n",
    "        plt.axis(\"equal\")\n",
    "        plt.savefig(f\"/__artifacts__/gan_result/output/{idx}_{col['name']}_{col['n']}_{spc}_dgd.png\", dpi=300)\n",
    "        plt.show()"
   ]
  },
  {
   "cell_type": "code",
   "execution_count": null,
   "metadata": {
    "id": "gRXTewkYeuq1"
   },
   "outputs": [],
   "source": []
  }
 ],
 "metadata": {
  "accelerator": "GPU",
  "colab": {
   "collapsed_sections": [
    "w_p3OD0woiSM",
    "DR6-vYtr_i_P",
    "innqkwvH_ydD",
    "f-ODE2k8BFV6"
   ],
   "machine_shape": "hm",
   "name": "GAN(gan=rgan,data=best(xing,stress),dis=deep,share=10,embed=6,gp=0).ipynb",
   "provenance": []
  },
  "kernelspec": {
   "display_name": "DeepGD",
   "language": "python",
   "name": "deepgd"
  },
  "language_info": {
   "codemirror_mode": {
    "name": "ipython",
    "version": 3
   },
   "file_extension": ".py",
   "mimetype": "text/x-python",
   "name": "python",
   "nbconvert_exporter": "python",
   "pygments_lexer": "ipython3",
   "version": "3.9.7"
  },
  "widgets": {
   "application/vnd.jupyter.widget-state+json": {
    "state": {
     "021fdc2e58fd4d6aa2421119264c0986": {
      "model_module": "@jupyter-widgets/base",
      "model_module_version": "1.2.0",
      "model_name": "LayoutModel",
      "state": {}
     },
     "03a809c751cc43679e698b5a888f1d79": {
      "model_module": "@jupyter-widgets/controls",
      "model_module_version": "1.5.0",
      "model_name": "FloatProgressModel",
      "state": {
       "layout": "IPY_MODEL_9ce579a853874e77ac85f1231359d1de",
       "max": 40,
       "style": "IPY_MODEL_ecc7f4cefd5546daa1c89d1d2383e4b8",
       "value": 38
      }
     },
     "07fec6a9f11d4e0a8eaec13069d09971": {
      "model_module": "@jupyter-widgets/controls",
      "model_module_version": "1.5.0",
      "model_name": "HBoxModel",
      "state": {
       "children": [
        "IPY_MODEL_2110bdfa69b6490c9603de2a04a753dd"
       ],
       "layout": "IPY_MODEL_8f90fa4935e840d281b1980d26f1f818"
      }
     },
     "1c57930745684e0a90208ab03fda6b04": {
      "model_module": "@jupyter-widgets/base",
      "model_module_version": "1.2.0",
      "model_name": "LayoutModel",
      "state": {}
     },
     "2110bdfa69b6490c9603de2a04a753dd": {
      "model_module": "@jupyter-widgets/output",
      "model_module_version": "1.0.0",
      "model_name": "OutputModel",
      "state": {
       "layout": "IPY_MODEL_1c57930745684e0a90208ab03fda6b04",
       "outputs": [
        {
         "data": {
          "image/png": "iVBORw0KGgoAAAANSUhEUgAAAb4AAAEuCAYAAADx63eqAAAAOXRFWHRTb2Z0d2FyZQBNYXRwbG90bGliIHZlcnNpb24zLjQuMywgaHR0cHM6Ly9tYXRwbG90bGliLm9yZy/MnkTPAAAACXBIWXMAAAsTAAALEwEAmpwYAAA0V0lEQVR4nO3dZ3gV1drG8f/skkKICKEGkBBMkGoAQSlRkSKKSrGB7SABXgU0dpqRJkVRDqBwkKoglqMC6lFB4IDEgoKAgCIEApFeAmISUnaZ9wPHaEjbaAp77/v3SWbWTNa6LvDOMzNrLcM0TRMRERE/YSnvDoiIiJQlBZ+IiPgVBZ+IiPgVBZ+IiPgVBZ+IiPgVBZ+IiPgVBZ+IiPgVBZ+IiPgVBZ+IiPgVBZ+IiPgVBZ+IiPgVBZ+IiPgVBZ+IiPgVBZ+IiPgVBZ+IiPgVBZ+IiPgVBZ+IiPgVBZ+IiPgVBZ+IiPgVBZ+IiPgVBZ+IiPgVBZ+IiPgVBZ+IiPgVBZ+IiPgVBZ+IiPgVBZ+IiPgVW3l3QOSvWLblIKOWbeesw53neM1LApl6VwztGlQtp56JyMXOME3TLO9OiFyIx97dwvKth4ts83jnKOI7RZdRj0TEm+hRp3iVZVsOFht6AP9cncTXe0+WQY9ExNso+MSrDF+6zeO2Yz7+sRR7IiLeSsEnXiXb6fmT+d3H0kuxJyLirRR8IiLiVxR8IiLiVxR8IiLiVxR8IiLiVxR84lUCbBf2VzYlNaOUeiIi3krBJ17lrlZ1Lqj9vC/3lVJPRMRbKfjEqwyMjcRqGB63X7blUCn2RkS8kYJPvEq9sBDsVs+DLyPHWYq9ERFvpOATr5PtdBff6H9CArQOu4jkpeATrxMS6HmY9WpRuxR7IiLeSMEnXqdnTDiefNxpNWBAh/ql3yER8SoKPvE6A2MjsVutRbYxTZPnezShXlhIGfVKRLyFgk+8Tr2wEGbd25JguzV/5WeaGJikfjqd1XPGl0v/ROTipo1oxWulpGYw78t9vPVVEk6LjSArpG76jLWzE7jqiggcDgfHjh2jWrVq5d1VEbmIKPjE640YMYLJkyfjdrupVq0aN910E3Xr1mXSpEm0atWKTZs25bZNSc1gbmIyy7ceJiPbSUigjZ4x4QyMjdRjURE/oUed4vWio6MBSE9PZ9y4cbzzzjs8+OCDBAYG8v333/P1118DsHbXcbpNT+SdjQdIz3ZiAunZTt7ZeIBu0xNZu+t4OY5CRMqKKj7xehs2bKBt27bs27ePiIgIKleuzO23387JkydZsWIFFSpUYPPuX7hpxpdkOlyF3ifYbmVFfKwqPxEfp4pPvF5kZCQAycnJAIwePZpFixbx4IMPUrt2bU6fPs3gGR/gcBU98d3hcmttTxE/oOATr1elShUAdu7cCUB8fDzBwcGsWLECt9tN3bp12ZFeAae76IcbTreptT1F/ICCT7yezXZuJZeffvoJAMMwGD58OAsWLKB///5cc801GAFBHt1La3uK+D4Fn/iM/fv35/73sGHDCAgI4MCBA6xatQqr27NA09qeIr5PwSc+wWKxcOTIkTx/fvLJJ1m8eDGdOnWiUXAapstR5D1sFkNre4r4AQWf+ASLxcKpU6fyHEtISMAwDGw2GykrF2C1FP3X3WIYWttTxA8o+MQn2O120tLS8hyzWq3Ex8fz0UcfcfZsJhZL0et74vk2fyLixRR84hOCgoLIzMzMd3z8+PGYpknF1j1wuouezuDSdAYRv6AJ7OLVfl+CbHHiLrAHEhoUkG8JsieeeIL3jXZYAoKLvV9IgJUfx3Yr7W6LSDlS8InXWrvrOIOXbMbhcueZo2ezGNitFmbd25KODavjcDi4PGElhuHZs8z9k7qXVpdF5CKgR53ilVJSMxi8ZDOZDle+ielOt0mmw8XgJZtJSc3Abrfr9Z2I5NKkJfFKcxOTPViCzMXUT7byQJMg8LDaExHfp4pPvNLyrYc9WIIMPvzhCAMHDgQ90ReR/1HwiVfKyPZsJRYjMJjNmzer4hORXAo+8UohgZ49pf99CbKIsAoeta/vYTsR8V4KPvFKPWPCsVmKr+LaRJzbuWFir2Ye3ffOVnX+Vr9E5OKn4BOvNDA20qPg+2rvSVJSM6h9aTBWD552Tv/vHlJSM0qghyJysVLwiVeqFxZC2wZhxbZzuU3mfbmPuYnJFPMtDAA5Tq3eIuLrFHzitTbuP11sm983l12+9TCefNdpgjajFfFxmscnXsvTLzszcpx4lHp/bi8iPksVn3gtT7/sDLJZPG4L2oxWxNcp+MRrnfuys/h2OU43nRpV92jZMgO0Ga2Ij1PwidcaGBuJ6eEqnAYQ6EFKBtgs2oxWxMcp+MRr1QsLwe7BlAaXCat3Hudf97UioNDwM8HlZPZ9rXK3MxIR36TgE6+W7Sx6oerfZeQ46diwOqseu5aeMeHY/zSpz3Q6CDq6g1/fepI2dRR6Ir5Ob/HFq4UE2kj34OvO3z9YqRcWwrS7WzDt7hYAmKZJrVq1OHr6NDExMaxZs4bbbrutVPssIuVLFZ94NU+WLrNgFvrBimEYDBo0CKfTSVZWFp988klpdFNELiLagV28WkpqBt2mJ5LpcBXaxnDlsG5Y10Lf3R0+fJh69eoRGBhISEgIR48e9Xi3dhHxPqr4xKvVCwth1r0tCbZb81d+pgvTkU3qhy+QnVr4aizh4eE0adKEkJAQMjMz+eGHH0q51yJSnhR84vU6NqzOivhY+ra5jIqBNgwDKgZaYc9X9Ar6ibTd3zJ16tQi7xEfH8+pU6fIycnhjTfeKKOei0h50KNO8VkrVqxg8ODB5OTkcPz4cdLS0ggMDCywbUZGBlWqVCE6Oppjx45x/PjxMu6tiJQVVXzis7p160br1q257rrrcDgczJw5s9C2ISEhdO7cmaNHj3Ly5Ek2btxYhj0VkbKkik982pEjR2jevDk2m4309HTS0tIKbbt27Vq6detGrVq1qF+/PmvXri3DnopIWVHFJz6tVq1ajBkzhho1apCens6///3vQtted911BAcHExYWxldffcUvv/xShj0VkbKi4BOf99BDDxEQEMCll17KQw89VGg7i8XCvffey08//YTFYmHSpEll2EsRKSsKPvF5VquV1157DdM0OX36NEuXLi20bXx8PC6Xi/DwcJYsWcKhQ9qUVsTXKPjEL7Ro0YIHH3yQgIAA4uLiKOzVdnR0NHXq1MHlchEdHc2UKVPKuKciUtoUfOI3xo0bR3BwML/++isLFy4stN2QIUM4dOgQqampLFq0iKNHj5ZhL0WktOmrTvEr7777Ln379iU0NJTTp09jseT/3e/UqVPUrFmT4OBgevToQY0aNVT5ifgQVXziV+666y7q1q1LWloaL774YoFtqlSpQuvWrTFNk8jISObPn8+JEyfKuKciUlpU8YnfWb16NV26dCEoKIjffvsNu92er83SpUu56667uOaaa2jevDmVKlXSV54iPkLBJ34pIiKCX375hccff5yXX3453/mcnBwqVaqEy+Vi8+bNXHfddezevZuwsLBy6K2IlCQ96hS/9Nxzz2Gz2Zg+fToZGRn5zgcEBNCjRw9M0+Tnn3+md+/eTJ8+vRx6KiIlTRWf+KXMzMzc1Vz69OnDW2+9la/Npk2buPrqq+nWrRuvvPIKbdq0Yc+ePVx66aVl32ERKTEKPvFbjz76KMuWLePQoUOcOHEi32NM0zSpVq0aaWlpZGZmEhcXR/369XnuuefKqcciUhL0qFP81sCBA3E6nQD07Nkz33nDMBg4cCAOh4NvvvmGkSNH8sorr/Dbb7+VcU9FpCQp+MRvNWvWjIiICG6++Wa+/PJL9uzZk6/NkCFDMAyDqVOnEhUVxY033ljk9kYicvHTo07xSSmpGcxNTGb51sNkZDsJCbTRMyacgbGR1AsLyW23cOFCli5dyurVq6lVqxbJycn57lW/fn2OHTvG2bNn2blzJ9dffz179+6lYsWKZTkkESkhqvjE56zddZxu0xN5Z+MB0rOdmEB6tpN3Nh6g2/RE1u76Y3f1u+66i6+++ooJEyawb98+Vq5cme9+w4cPJzMzk+3bt9OoUSM6duzIv/71rzIckYiUJFV84lNSUjPoNj2RTIer0DbBdisr4mNzK7/BgwdTs2ZNXn31VbKzszlz5kye9hkZGYSGhtKjRw+WLVvGjh076Ny5M8nJyVSoUKFUxyMiJU8Vn/iUuYnJOFzuIts4XG7mfbkv98+DBg1i3rx5fPDBB/z2229MmDAhT/uQkBAaN27MihUrAGjatCnt27dnzpw5JT8AESl1Cj7xKcu3HsbpLvohhtNtsmzLH/vsxcTEULNmTdLS0mjUqBGjR48mPT09zzVjx44lKyuLbdu2AZCQkMCLL75IZmZmyQ9CREqVgk98Ska207N2OXnbDRo0iDlz5rB8+XLcbjf33HNPnvO9evXCarUybNgw4FxYtm7dmvnz55dMx0WkzCj4xKeEBNo8axeQt12fPn1Yv349FStW5LrrruM///kPW7ZsyT1vsVho0aIFa9aswe0+9yg1ISGBF154gezs7JIbgIiUOgWf+JSeMeHYLEaRbUyXk6Cj2/IEW8WKFbnzzjtZuHAhb775JoZh0Lt3b1yuPz6SeejpBCp2HEDj5z6j/ohP6PefVKp2G8I/5y4utfGISMlT8IlPGRgbid1a9F/r4KAAbrm8At27d+e2225j06ZNwLnHnXPnzqVWrVrcfvvtHDhwgFmzZgHnpki8tCOA0Cu7kuUid4rEb9WaMTulCqt+PFzaQxOREqLgE59SLyyEWfe2JNhuzV/5mS6spot/3duKMU8NYe/evXTt2pWePXvSvXt3HA4HYWFhrFq1itmzZ2MYBsOHD2fTzykMXrKZTIcLw5p37z6XCdgCGbzke1JS8+/yICIXHwWf+JyODauzIj6Wvm0uo2KgDcOAioE27oypxdmlzxJ8+tzqLMHBwQwdOpS9e/dyyy23cNddd5GVlcWkSZOoUqUKAwYMICcnh4dnvFf8FAmnmznr95bF8ETkb9IEdvEr7777LuPGjWPz5s0EBgbmOZeTk8Ps2bN5/PHHadeuHaNGjaJnz57UGLIYI6D4ieqBFje7JtxaWl0XkRKi4BO/YpomvXr14sorr2Ts2LEFtunfvz+//fYbW7duJScnB+OemRiGBw9HTDd7J9yM1Wot4V6LSElS8InfOXz4MDExMaxevZrmzZvnO//dd9/Rt29fdu7cyZtvvsmYHaFYAj1Ymsw0+Uf9s4z9v7tKodciUlL0jk/8Tnh4OJMmTSIuLi53P74/a926NaGhoaxfv57+/fvT/JIsTJej+BsbBm/ssbPvRFop9FpESooqPvFLpmnSuXNnunXrxtNPP53v/KxZs/jiiy949913ST6eRscXV2HYAwu403ncLmoEQwaBRW6HJCLlR8Enfis5OZk2bdrwzTffEBUVlefcmTNniIiIYNeuXVSvXp1Rr77FmwcvwTCKnhwPgGnCn9rZLAZ2q4VZ97akY8PqJT0MEblAetQpfisyMpJnn32WAQMG5C5D9rtKlSrRs2dP3njjDQCeH9LX8xufF45Ot0mmw8XgJZs110/kIqDgE7/2yCOPkJOTU+AWQ78vXG2aJoZhnJ9nF+z87ZBEpHwo+MSvWa1W5s+fT0JCAgcOHMhz7pprriEoKIh169b978jfS77zt0MSkfKh4BO/17hxYx599FEeeugh/vzK2zCM3PU7S8r52yGJSNlT8IkAw4YN4+DBg7z11lt5jt933318+umnnDx5kqjqFf/2zzl/OyQRKXsKPhEgICCA+fPn88QTT3D8+PHc45UrV+a2225j0aJFjL2tyd/6GTaLQa8Wtf9uV0Xkb1LwifzPVVddRb9+/Xj00UfzHP/9I5e2kWE83vl/0x7OmwVkmma+Y+ezWy0M6FC/RPssIhdOwSfyJ2PGjGHz5s18+OGHucfat2+PxWIhMTGR+E7RvDXgaiIqB+aGnWmaOE6m8NuXbxJks+TbDsl0OQmyn5vHp0nsIuVPE9hFzrN+/XruueceduzYwaWXXgrAtGnT+P7771m8+I/d1nv16sXq1atxOp2Y/wvAR0eOIyimO8u2HCIjx0lIgI3gY9voepmNCSMeL6cRicifKfhECjB48GBycnKYN28eAKmpqTRo0IDk5GSqVKkCwKFDh6hfvz61a9emRo0afPfdd1SqVImDBw8SEvJHZbdz506uvfZakpKScoNURMqPHnWKFGDy5Ml8/vnnrFmzBoCwsDC6d++ep+KrXbs29913HwcPHuTyyy8HwGaz5Zv+0KhRI2655RZeeumlshuAiBRKFZ9IIT799FOGDh3K9u3bCQkJ4YsvvmDw4MHs2LEjd83O1NRUwsPDCQgIIDY2ls8++4zw8HCSk5PzbHSbkpJCy5Yt+emnn6hRo0Z5DUlEUMUnUqibb76Z9u3b8+yzzwJw7bXX4nQ6+frrr3PbhIWFMWTIENLT0+nfv39uIP65MgSoV68e9913HxMmTCi7AYhIgVTxiRQhNTWVpk2bsnTpUtq2bcvLL7/M9u3bef3113PbpKWlUaVKFZo3b87p06dJSUmhbt267NmzB5vtjwnrx48fp1GjRnz//fdERESU/WBEBFDFJ1KksLAwpk+fTlxcHNnZ2TzwwAMsX76c06dP57YJDQ3ljjvuYMuWLTzwwAMA/Pbbb7z//vt57lW9enUGDx7MmDFjynIIInIeVXwixTBNk969e9OsWTPGjRtHnz596NChA0OHDs1tc/ToUWrVqkXHjh1JTEwkODiYKlWqkJycjMXyx++XZ86cISoqinXr1tG4cePyGI6I31PwiXjg8OHDxMTEsGrVKlJTU3nsscf44Ycf8mxM26BBA3755ReaNWvGkSNHSE1NZcmSJdx555157jVlyhS++eYbli5dWtbDEBH0qFPEI+Hh4UyePJm4uDg6dOhAZmYm3377bZ42/fr1w263k56ezmmHjci7RvDUBoP6Iz6h6ZiVPLt8OympGQwdOpTvvvuO7777rpxGI+LfVPGJeMg0Tbp27UqXLl0A2LVrF/Pnz889v2XLFm666SbOVorg0lufxmoLwDT++N3SZjGwW88tXbZ73TLee+89Vq9eXebjEPF3Cj6RC7Bv3z5at27NRx99RPfu3dm/fz+VKlUCwO12Ex7dnMCe4zDsgYXeI9hu5eMhbbmpw1XMnj2bTp06lVX3RQQFn8gFmz59Oh988AHVq1enU6dOPPzww7nn2j06nSMVIvNUeuezWQz6trmMxme3M23aNDZs2JDnXaGIlC694xO5QEOHDsXpdBIeHs5rr72WZ9f21NAGRYYegNNtsmzLIe6++26ys7NZvnx5KfdYRP5MwSdygaxWK/PmzePtt9/m1KlTbNq0Kfdcjtuzyi0j24nFYmHChAmMGjUKl8tVWt0VkfMo+ET+gsaNGxMfH09wcDBz5szJPR4SaCviqj+YQP0RnzBsow2jdR+mz19SSj0VkfPpHZ/IX+RwOIiJiWH//v0cPXqU0NBQnl2+nTe/TQE8f2dnNcDlyGbOP66ma9PapddhEQFU8Yn8ZXa7nUWLFuFyuXjttdcAGBgbyYWEHoDLBGyBDF6ymZTUjJLvqIjkoeAT+RtatWrFbbfdxsSJEwGoFxZSzBWFc7jc/Gvt7pLqmogUQsEn8jctWLCAtLS0v73RrGG18cH3B0qoVyJSGAWfyN9UsWJFHnjgAUaPHs3p06exW/76nLwc0yA1NbUEeyci51PwiZSAcePG4XK5iI+P5+bmtf7yfeymixdeeKEEeyYi51PwiZSA2rVr06lTJz755BOuDj5JgO3C/2nZLAa3XVmTefPmcejQoVLopYiAgk+kxAwePJiqVasyKn4Q029vjBUXXMBsIbvVQvyNzYiLi2P8+PGl2FMR/6Z5fCIlxOVyERERQUxMDA0aNOC67rczbMFKAhrGkpaVg9V04wIMDLBY81xrtRhM7NmUu1tfRmpqKg0bNmTDhg1cfvnl5TMYER+mik+khFitVuLi4qhRowbvvvsuYYEmJ1fOYuXAppyZfT8VPhnF9RWOnFvb8/zfN02TMR//xNpdxwkLCyM+Pp7nnnuufAYi4uNU8YmUoF9++YWYmBhmzJjBhAkTaNKkCTfffDMzZsxg34l0wuNeIdPhLvT6YLuVFfGxVAlwExUVxcqVK7nyyivLcAQivk8Vn0gJuuyyy2jXrh0Oh4NGjRqRnZ3NZ599RmxsLNamXXG4iv490+FyM+/LfYSGhjJixAhGjRpVRj0X8R+q+ERK2EcffcTkyZP54IMPaNasGdnZ2SxevJhH1zuwBFYo9vqKgTZ2jLmR7OxsoqOjeeutt2jfvn0Z9FzEP6jiEylhN998MykpKaSmpjJlyhRcLhfp6ekYAUEeXZ+R4wQgMDCQMWPGMGLECPT7qUjJUfCJlDCbzUb//v2ZO3cu/fr1o0aNGsyfPx8zJ8uj60MC/tja6P777+fEiROsWLGitLor4ncUfCKlIC4ujjfffJOsrCwmT55MYmIiObsTMV3OIq+zWQx6tfhjayKbzcbzzz/PyJEjcbsL/yhGRDyn4BMpBREREbRp04b333+f3r17Y7fbObv5k2KDz261MKBD/TzHevfujc1m47333ivNLov4DQWfSCkZNGgQc+bMwW63c9NNN2HNPMWJ5ZMItBnYzl/I2nSBM5tHWgTn29rIMAwmTpxIQkICDoejDEcg4psUfCKl5JZbbmHPnj3s3LmTm2++mTp16pCV/D1dnBvp2+Yy3NkZYJpYnNlkbV/NrbYdfLag4K2NOnfuTJ06dXj99dfLdhAiPkjTGURK0ciRI8nKyuKJJ56gSZMmnD17lsqVK3Ps2DFCQ0NzJ7vfcMMNNG/enKSkJFasWFHgpPUNGzZwxx13kJSURHBwcDmMRsQ3qOITKUUDBgxg8eLFVK1alfDwcAB+/fVXFi9eTFBQEKdPn6Zly5Z06dKFXbt20a1bNyZPnlzgva655hquuuoqZs6cWZZDEPE5qvhESlnXrl3p168fmzdvZtq0aZimSdWqVbHb7RiGwYEDB/j555+5+uqrqVq1KmfOnOGbb74hKioq37127NjBDTfcQFJSEpUqVSqH0Yh4PwWfSCl7//33efXVV3nuuee45ZZbMKtHE3nnM6RbLwHOfbwSVb0iIT9/wrZV73PFFVcQHh7OvHnzCrzfAw88QEREBOPGjSvLYYj4DAWfSCnLycmhbt26rFmzhmsfnkRo+74YBoCRr23md+/h+uE/OJ1Otm/fTt26dfO12bdvH1dddRU7d+6kevXqpT8AER+j4BMpA8OGDeOIO5T11hj+l3oFM02CvplDxYzDdOjQgWnTphXY7JFHHsFqtRZ6XkQKp+ATKQNJSUnc8NIarJXrFB18gDP1F9LeHQ7Anj17qFatWr42x44do3HjxmzevJl69eqVSp9FfJW+6hQpA1FRUR6FHoAtrC6XX345VatWZfr06QW2qVGjBg899BBjx44t6a6K+DxVfCJlJGLEfyjovV5Bzs5/ENM0ycnJ4ZdffinwC85ff/2VqKgo1q9fT6NGjUq4tyK+SxWfSJnxLPQAnnrqKerXr4/dbi903t6ll17KU089RUJCQkl1UMQvqOITKSNd/vkFScfSin3cGV2jIssHtSYqKoqgoCBOnjzJkSNHqFAh/ya2Z8+eJSoqig8//JCrrrqqtLou4lNU8YmUkbG3NSn+HZ9pMvLGKCpUqEBCQgJhYWE4HA5mz55dYPMKFSrw7LPPMnLkyFLosYhvUsUnUoamr9nNP1ftxuTcxPXz1Tq5mRuqZzFhwgRycnJo1KgRl1xyCfv27eP48eMEBATku+b3dvPmzaNjx45lMAoR76aKT6QMxXeKpkPOZpwnf8E0TUzTBNMkukZF3hpwNUvHDWDu3Lls3bqVgIAAxo0bh2EYZGRkMGvWrALv+Xu7ESNGoN9jRYqnik+kjG3dupU2nbpT8aoeVGzSEUtAMBWD7PSMCWdgbCRrP36PGTNm8O2332KxWIiJiaFSpUrs2LGD1NRUrFZrvnu63W5iYmIYP348PXr0KIdRiXgPVXwiZey4rRo1H5xB6JVdsQRWAMMgPdvJOxsP0G16IvWuuYlq1arx8ssvY7VamTBhAqdPnyYjI6PQlVosFgsTJkxg1KhRuFyush2QiJdRxSdShlJSM+g2PZFMR+HhFGy3Mu/2SHp0asdXX31FdHQ07dq1Izg4mE2bNnHmzJkC3w+apkn79u15+OGHuf/++0tzGCJeTRWfSBmam5hMtrPoiizb6WLF/hxGjx5NXFwcpmkyceJEUlJSyMrK4vnnny/wOsMwmDRpEqNHjyYnJ6c0ui/iE1TxiZShRs99RqbDXWy7YLuVH8d05dprr6VPnz4MHTqU62+5k1M1WvBrpSisgRUICbTlvhesFxaSe223bt249dZbGTJkSGkORcRrKfhEylDEiE88brt/Und+/vlnOnTowMxl63huZQpZOU4Mqy23jc1iYLdamHVvSzo2PLdF0ebNm7nllltISkoiJCSksNuL+C096hS5iF1xxRUMeHwEwz/eQ7aLPKEH4HSbZDpcDF6ymZTUDABatmxJhw4dmDFjRnl0WeSip+ATuchZGnXGLGbFF4fLzbwv9+X+efz48bz88sucOnWqtLsn4nUUfCIXuY+2HQWLrcg2TrfJsi2Hcv/csGFDevbsyYsvvlja3RPxOgo+kTIUVb2iR+1qVwrK/e+MbKdH12Tk5G03evRo5syZw5EjRzzvoIgfUPCJlKGxtzXxqN2J9Kzcd3bBAflXailIBXvednXr1qVfv36MHz/+wjop4uMUfCJlqF2DqjSvfUmx7XKcLuZ8sQeA2pcGe3Tv2pXztxsxYgTvvvsue/fuvbCOivgwBZ9IGUs+ebb4RoaVtzfs5ezZsxz6NdOj+x48nb9dtWrVePTRRxk9evSFdlPEZyn4RMqYp+/s3JYAunfvTmaOZ2tvFrYM2hNPPMGqVavYvn27x30U8WUKPpEyFhJY9Beav6sYZCc6Ohqc2R61t1Nw8IWGhjJ8+HBGjRrlcR9FfJmCT6SM9YwJx2Ypel6e6XLSLtzK7NmzieA4uIuuEk3TJGPfD5w4caLA8w8//DBbt27l66+//sv9FvEVCj6RMjYwNhK7teh/ejarQeLcseTk5LBw2H1YiglKwzCw123KM+OmFHg+KCiI0aNHM3LkSG1WK35PwSdSxuqFhTDr3pYE261gnrdgtenCbphU3/0RUbUqM3HiRCKqVuS6hjWBogPLxGDl/hx+/vnnAs//4x//4OjRo3z++eclNBIR76TgEykHHRtWZ0V8LI0DTmEznRgGVAy04tq1nik3XMrhTasYNGgQs2bNYtu2bWzcfxoopuqz2gloGMvTTz9d4Hmbzcb48eMZOXIkbnfxO0SI+CoFn0g5qRcWQv/mITTb9Tr7JnZnx5huPHdzQ6Y9/yxPPfUUc+fOZdKkScTFxXn8JahpC+CHH35gzZo1BZ6//fbbAfjggw9KbBwi3kbBJ1KOoqOj2b17d+6fH3zwQY4fP07t2rX57rvvaNOmDZdccgm2Qr7YPJ/hyCY4OJgnn3wSlyv/NRaLhYkTJ5KQkIDT6VmYivgaBZ9IOYqKiiI5OTk3pGw2Gy+++CIJCQnEx8czadIk5s6dS8aP6yjm+xYw3YQ7DrF3717cbjdvvPFGgc26du1KzZo1Cz0v4usUfCLlKDg4mOrVq5OSkpJ7rHv37lSrVo2KFSuyatUqXC4Xfdo3xO0u5mtMw8Kete9Tt25dTpw4wbPPPkt6enr+ZobBpEmTGDt2LFlZWSU9JJGLnoJPpJyd/7jTMAxefPFFJk+ezMCBA3nhhRcIjm6b/wvQ81iAdnc/THBwMGfOnKF27dpMmVLw9Ia2bdsSExPDv/71r5IciohXUPCJlLPzgw+gTZs2dOjQAcMwWLp06bm99ixF79LgBn7OqkSVKlUIDQ3l559/ZsaMGRw8eLDA9hMmTGDy5MmkpaWV1FBEvIKCT6ScFRR8cC6Y5syZQ9++fTnr6XqdTjf33HMPmZmZBAUFcdlllxW6VFmzZs3o0qULU6dO/Vv9F/E2hqllHETKTUpqBglL1pF4MBusgYQE2ugZE87A2EjqhYXw2GOPcebMGf5bpTtGQPHbEwXbDE7P7U/Hjh358MMPCQoKwjAMPv/8c1q1apWv/d69e2nTpg27du2iatWqpTFEkYuOgk+knKzddZzBSzaT43Th+tO/QpvFwG61MOveljSvauWKK66gwd0jOVbxckyj8Ic0NotB3zaXcVekSdeuXXE4HAQGBmKz2YiIiGDdunUYRv5PQwcPHkxwcDAvv/xyaQxT5KKjR50i5SAlNYPBSzaT6cgbegBOt0mmw8XgJZtJJ4innnqKkAMbcDsdRd7TbrUwoEN9mjVrxrp167BYLBw5coSQkBD27NnDhx9+WOB1CQkJLFy4kAMHDpTU8EQuaqr4RMrBs8u3887GAziLmKLwewU3smsDGjZsSES77hyufxNYbHmu+3OF2LFh9dzjycnJNGnSBKvVis1mIywsjJ07dxIQEJDvZw0fPpyTJ08yb968kh2oyEVIFZ9IOVi+9XCRoQfnKr9lWw4RHBzM+PHjSd/9LWn/HsEdLWpRMdCGAZg5mfS+8ty6n38OPYDIyEi+++47MjIyqFSpEg6Ho9DpC8OGDWP58uXs2rWrpIYoctFS8ImUA0/X3szIOdfuvvvuw+VycXnNS6mW8l92jLmRfZO6c2v2Ok6umEW9sJACr2/WrBn3338/Bw4c4MSJE4wZM4ZTp07la1e5cmWeeOIJEhIS/vqgRLyEHnWKlIOmY1aS7kH4VQy0sWPMjQCsXLmSQYMG4XA4SE5OJigoiLS0NJo2bcrcuXPp2rVrgfc4c+YMNWrUwGI593vuoEGDmDZtWr52GRkZXN6iLbc9M52vDuaQke3M95WpiC9QxSdSDjzZhd1mMejVonbun2+88UYaNmxIlSpVWLhwIQChoaHMmTOHQYMGFbg8GUClSpV45JFHsFqtuN1uZs6cWeAjze8OZhByxwRWJqWRnu3EBNKznbyz8QDdpieydtfxvz5gkYuIKj6RcpCSmkG36YlkOgqfmB5st7IiPjZPpbVlyxY6d+5MaGgoSUlJ2O12APr168cll1zCjBkzCrzXiRMniIyMJCgoiNTUVGrXrs2+ffuw2Wx/qz8i3kgVn0g5+PMu7OdXfobpxuJ2MOueFvlCpkWLFnTv3h2At99+O/f41KlTef/99/nqq68K/HnVqlUjLi6OGjVq0LBhQ44cOZI71w9gbmIyDlfRa4E6XG7mfbnvgscqcrFR8ImUk993Ye/b5rJzX2ka597p3dPmMip8MY2DGz8v8Lrx48dz6tQpxo8fn7uTepUqVXjllVeIi4srdMeFJ598koMHD3L69GkCAwPZuHEjt99+O1lZWRf0lamIt9OjTpGL0NatW+natSvff/89devWzXf+6aef5o033mDWrFnccccducfvuOMOoqOjmThxYoH3HTBgAGlpaaxbt46MjAwaN25M5cqV2d3yUTz5H4FhwL6J3f/qsEQuCgo+kYvUxIkT+e9//8vnn3+e+0Xm706fPk1ERAS1a9fmxx9/zF2K7OjRozRv3pwVK1bQsmXLfPdMSkqiXbt2tG/fnsTEREzT5KabbuLr8NsxbYHF9unPX5mKeCs96hS5SD3zzDNkZGQwa9asfOcqV67Mc889x8GDB1mxYkXu8Zo1azJlyhTi4uJy39/9WVRUFJ06daJ58+aYpklGRgYRERHUcR4Gd9E7QNgs5PnKVMRbqeITuYjt3r2b9u3b89VXXxEdHZ3nXHZ2NnXq1KFmzZps27Ytt+r7vYq79tprGTlyZL57/vDDD3Tr1o3nn3+ep556irNnz5K49Wf6vrEdl1H0nn8v9G7G3a0vK7kBipQDVXwiF7Ho6GhGjx7NAw88gNOZd8J7YGAg06ZNIykpiS+++CL3uGEYvPbaa0ydOpWdO3fmu+eVV15Jq1atyM7OpmXLlpimyeRRTzK+17kqsChjPv6JlNSMkhmcSDlRxSdykXO73dx444107NgxXwXndruJjIzkkksuYdu2bXnOzZw5kyVLlpCYmIjVmreS+/rrr7n33ntZtWoVV155JTk5OVz/1GyS3NWK3On994Wzx/doWnIDFCljqvhELnIWi4UFCxYwbdo0tm7dmu/cnDlz+Omnn/LN4Xv44YexWq3MnDkz3z3btWtHvXr1+Oabb5g8eTKGYbAr+5IiQw80pUF8gyo+ES+xaNEipkyZwqZNmwgMzPsFZpMmTbBYLGzfvj3P8V27dtG+fXs2btxI/fr185z7/PPPeeyxx9i2bRu1atWiQtwCjCI2uv2dpjSIt1PFJ+Il7r//fqKiohg9enS+c6+//jo//fQTX3/9dZ7jDRs25Omnn2bQoEH53t916dKFChUq8Nprr+F0OjFzCp74fr6QANtfH4TIRUAVn4gXOXHiBM2bN+f999+nffv2ec61bt2as2fP8uOPP+Y57nQ6ufrqqxkyZAj9+/fPc27ZsmU8+OCDjBw5klWnw9jtCsOw2gv9+XrHJ75AFZ+IF6lWrRqzZ8/mH//4R77dGBYvXszOnTtJTEzMc9xms7FgwQKGDx/O4cOH85wLDg7m7NmzNGnShNmP31nsXD671cKADvWLbCNysVPFJ+KF+vXrR3BwcL4d1WNjYzl27Bi7d+/Od01CQgLbt29n2bJlGIaB0+nkyiuvpEuXLmzdupUhQ4bw6OTXsF//MBabPc+HLjaLgd1qYda9LfPt9C7ibVTxiXih6dOn8+mnn7Jy5co8xxcvXsyePXvyHQd49tln2b17N++99x4As2fPplatWrz44oskJSUxcOBAPp03heaH/0Paj19gNch9L2gY0LVJDSKraksi8X6q+ES81Jo1a+jXrx/btm2jcuXKucdvuOEG9u7dS0pKSr5rvvnmG3r37s369etp3749a9asISwsjCZNmtCgQQM2bdrE5zsOMeD1DRgWG4b1jw9ZVPWJr1DFJ+KlOnXqRK9evRg6dGie4wsWLODgwYP8+9//zndN27Zt6dOnD7feeit33HEHDRo0oEePHjz22GMcOnSIz77cRPy/t2OxB+UJPTg3hy/T4WLwks1avUW8mio+ES929uxZWrRowfPPP8+dd96Ze/zGG29k69atHDlyJN/ODps2beLqq6/mzTffZPny5djtdhYvXsxLL73Ee/usnKp8RZF78+nLTvF2Cj4RL/ftt99y22238cMPP1CzZk0AkpOTadiwIa+++ir/93//l9v29wWsIyMjWbJkCVFRUXz55ZcEBQWRlpZG0zErMQKCi/2Z2p5IvJkedYp4uauvvppBgwYxcODA3I9RIiMj6dy5M8OGDcuzI/unn37K/v376dChAy6XiyZNmhAUFARAaGgoRkCQRz8zI8dZfCORi5SCT8QHJCQkcOjQIRYuXJh7bOrUqWRmZvLSSy8BkJOTwxNPPMFDDz1EfHw8n332GWvWrGHdunW513i6KotWbxFvpuAT8QEBAQEsWrSIYcOGsX//fgAaNWrE9ddfz+TJk0lNTWXmzJmEh4fz0ksvMXfuXGJjY5k1axYDBgzg7NmzwLmNZg3TXeTPslkMbUgrXk3v+ER8yJQpU/jkk09Y+N7HzP9qPx98f4CzDhc200XWz+u55PBG/nF7d4YPH557Td++falTpw5TpkwhJTWDG6etJ8tZePgF262siI+lXpjm9Il3UvCJ+BCXy8XVvfrza5M7wGLN+3Wmy4nFgPkPXkPHK2rkHj5x4gTNmjXj448/pnXr1qzddZwBC7/BbVgw//RQSPP4xFfoUaeIDzn4axbpV96NE0v+KQlWG26LjcFvbckzD69atWpMnTqV/v37k5OTQ8eG1Xm9T0Oyd6whJMCKaboJskLfNpexIj5WoSdeT8En4kPmJiZTxFNKABwuN/O+3JfnWN++fYmIiGDSpEkAxMZcQdsqWdQzj2HmZJHlOrcB7dzEZE1eF6+nR50iPqTpmJWkZxc/1aCgeXgHDx6kRYsWrF27lhP26jy0eBNZOQ4tWyY+RxWfiA/J8CD0oOB5eHXq1GHChAk8MORJBi/5nmyXqWXLxCcp+ER8SEjg35uHN3DgQJwNYsl2FL0vX0GPS0W8hYJPxIf0jAnHZjGKbuR2ckXQbwWeMgwDZ51WuCn6Hk73uXd+It5IwSfiQwbGRmK3FvPP2u1mw+sTcietny/TUczXMf+jZcvEWyn4RHxIvbAQZt3bkmC7NX/l53ISZLNg+Xo+0eFVmDZtWoH3+LuPS0Uudgo+ER/TsWF1VsTH0rfNZVQMtGEY577irJPzCy2PrWBEvx44nU6mTp3K8ePH813f6YpqHv2cy6tp5RbxTprOIOIn0tLSaN68Of/85z955JFHaN++PdWqVeOVV17J0y7+3S18uPWwR/d8oXcz7m59WWl0V6TUqOIT8ROhoaG8/vrrDBkyhIceeoj09HTefvttkpKS8rRbszN/FViYkct3aFqDeB0Fn4gfue666+jTpw/ff/89mzZt4v7772fkyJF52ng6FxDA5TY1rUG8joJPxM9MmDCBXbt2cf3113P06FE2bNjAhg0bcs97+nHL7zStQbyNgk/EzwQFBbFo0SJWr17NypUreeSRR3j66adzd2/vGRN+QffTtAbxNgo+ET/UqlUrHnnkESpXrkxSUhJnzpzhww8/BM7NBbQWNwn+TzStQbyNgk/ET40cOZLQ0FDeeustnnnmGYYNG4bD4aBeWAgTezb16B42C9qNXbyOgk/ET9ntdt5++23cbjdr1qyhbt26zJ8/H4BrIsOKX/oMsFosDOhQv7S7KlKiFHwifqxRo0YMHz6cN998k2eeeYaxY8eSlpbG3MRkj65v36Aq9cI0kV28iyawi/g5t9tNnTp1uOKKK6hduzYNGjTgfdr+5X39RC52qvhE/JzFYuGdd95h3bp19OrVi1deeeVv7esncrFTxSciALRt25b9+/fTt29fPgy4FpdhL/YaVXzijVTxiQgA8+bN49SpU7hcLrJ2rsdazLctNouhLzrFKyn4RASAJk2a0LlzZxYsWEC3CDtuV9GPMQ0DfdEpXknBJyK5xo0bR0BAAOvWrcNdzFsQh8tkQ3JqGfVMpOToHZ+I5NGtWzdSql1DZnhLsFiLbGs14L9PXq8pDeJVVPGJSB6jRo0is0bTYkMPwGWi3RnE6yj4RCSP2NhYsAV53F67M4i3UfCJSD5BNs8XqdZcPvE2Cj4RyeeOqy4DD1//a3cG8TYKPhHJZ2BsJJ7sTGRBuzOI91HwiUg+9cJCmNirWbFVnxtoGn5J2XRKpIQo+ESkQH3a1KNL9bPFhl/Chz+SkppRRr0S+fsUfCJSqOBalxfbJsfl5p+rd5dBb0RKhoJPRAr16Y6j59YmK8Z/th0pg96IlAwFn4gUyun27MtOT9uJXAwUfCIi4lcUfCJSKKsncxouoJ3IxUDBJyIFSknNwOXhI0y329SXneI1FHwiUqCpF/ClpokWqxbvoeATkQJ9eoFfamqxavEWCj4RKZDjAr/U1GLV4i0UfCJSIrRYtXgLBZ+IFMh2AV9qGmixavEeCj4RKVD3ZjU9bhtgszCgQ/1S7I1IyVHwiUiBnujSkABr8f+LsFsMZt/XinphIWXQK5G/T8EnIgWqFxbCa/e3ItBW+P8mrqlfhdVPXEfHhtXLsGcif49hmh5usywifiklNYN5X+5j2ZZDZOQ4CQmw0atFbQZ0qK8qT7ySgk9ERPyKHnWKiIhfUfCJiIhfUfCJiIhfUfCJiIhfUfCJiIhfUfCJiIhfUfCJiIhfUfCJiIhfUfCJiIhfUfCJiIhfUfCJiIhfUfCJiIhfUfCJiIhfUfCJiIhfUfCJiIhfUfCJiIhfUfCJiIhfUfCJiIhfUfCJiIhfUfCJiIhfUfCJiIhfUfCJiIhfUfCJiIhfUfCJiIhfUfCJiIhf+X/v1xBocbHwSwAAAABJRU5ErkJggg==\n",
          "text/plain": "<Figure size 432x288 with 1 Axes>"
         },
         "metadata": {},
         "output_type": "display_data"
        },
        {
         "data": {
          "image/png": "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\n",
          "text/plain": "<Figure size 432x288 with 1 Axes>"
         },
         "metadata": {},
         "output_type": "display_data"
        },
        {
         "data": {
          "image/png": "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\n",
          "text/plain": "<Figure size 432x288 with 1 Axes>"
         },
         "metadata": {},
         "output_type": "display_data"
        },
        {
         "data": {
          "image/png": "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\n",
          "text/plain": "<Figure size 432x288 with 1 Axes>"
         },
         "metadata": {},
         "output_type": "display_data"
        },
        {
         "data": {
          "image/png": "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\n",
          "text/plain": "<Figure size 432x288 with 1 Axes>"
         },
         "metadata": {},
         "output_type": "display_data"
        }
       ]
      }
     },
     "24bf4a22731f486584d582ca804ce025": {
      "model_module": "@jupyter-widgets/base",
      "model_module_version": "1.2.0",
      "model_name": "LayoutModel",
      "state": {}
     },
     "2881df25ef8340a5bced2e35719e9468": {
      "model_module": "@jupyter-widgets/controls",
      "model_module_version": "1.5.0",
      "model_name": "DescriptionStyleModel",
      "state": {
       "description_width": ""
      }
     },
     "2ea682b067f9456fa9a52b206b401cf0": {
      "model_module": "@jupyter-widgets/output",
      "model_module_version": "1.0.0",
      "model_name": "OutputModel",
      "state": {
       "layout": "IPY_MODEL_3156437aa5ad47d789050b58b66a3798",
       "outputs": [
        {
         "data": {
          "application/vnd.jupyter.widget-view+json": {
           "model_id": "bad35ac80a50462bb476d2782f644299",
           "version_major": 2,
           "version_minor": 0
          },
          "text/plain": "  0%|          | 0/40 [00:00<?, ?it/s]"
         },
         "metadata": {},
         "output_type": "display_data"
        }
       ]
      }
     },
     "3156437aa5ad47d789050b58b66a3798": {
      "model_module": "@jupyter-widgets/base",
      "model_module_version": "1.2.0",
      "model_name": "LayoutModel",
      "state": {}
     },
     "37c5faa1fab346439e5ada1dbb55dd81": {
      "model_module": "@jupyter-widgets/base",
      "model_module_version": "1.2.0",
      "model_name": "LayoutModel",
      "state": {}
     },
     "4543773ce9754078a1423bc345d44dca": {
      "model_module": "@jupyter-widgets/base",
      "model_module_version": "1.2.0",
      "model_name": "LayoutModel",
      "state": {}
     },
     "529f60f15d194976bb90459a73941b61": {
      "model_module": "@jupyter-widgets/controls",
      "model_module_version": "1.5.0",
      "model_name": "VBoxModel",
      "state": {
       "children": [
        "IPY_MODEL_2ea682b067f9456fa9a52b206b401cf0",
        "IPY_MODEL_897be39e7dd94d90ad46d0378e2c3cb3"
       ],
       "layout": "IPY_MODEL_ef58abd0c280450a86ea34266a65ae66"
      }
     },
     "53a0b9d661a14eaf935c6579e07c16ec": {
      "model_module": "@jupyter-widgets/output",
      "model_module_version": "1.0.0",
      "model_name": "OutputModel",
      "state": {
       "layout": "IPY_MODEL_a09bcf0ae47744e690e84c287019c1c6",
       "outputs": [
        {
         "name": "stdout",
         "output_type": "stream",
         "text": "[3744] stress=1383.16(74.39%) xing=153.84(83.39%)\n[3745] stress=1380.18(74.36%) xing=154.93(84.50%)\n[3746] stress=1379.19(74.33%) xing=154.24(84.34%)\n[3747] stress=1387.73(74.44%) xing=152.97(83.56%)\n[3748] stress=1387.68(74.42%) xing=154.32(83.58%)\n"
        }
       ]
      }
     },
     "60bdefcb883b4f00996c710b0226b2af": {
      "model_module": "@jupyter-widgets/base",
      "model_module_version": "1.2.0",
      "model_name": "LayoutModel",
      "state": {}
     },
     "897be39e7dd94d90ad46d0378e2c3cb3": {
      "model_module": "@jupyter-widgets/output",
      "model_module_version": "1.0.0",
      "model_name": "OutputModel",
      "state": {
       "layout": "IPY_MODEL_24bf4a22731f486584d582ca804ce025",
       "outputs": [
        {
         "data": {
          "text/html": "<div>\n<style scoped>\n    .dataframe tbody tr th:only-of-type {\n        vertical-align: middle;\n    }\n\n    .dataframe tbody tr th {\n        vertical-align: top;\n    }\n\n    .dataframe thead th {\n        text-align: right;\n    }\n</style>\n<table border=\"1\" class=\"dataframe\">\n  <thead>\n    <tr style=\"text-align: right;\">\n      <th></th>\n      <th>val_stress</th>\n      <th>val_stress_spc</th>\n      <th>val_xing</th>\n      <th>val_xing_spc</th>\n      <th>gen_loss</th>\n      <th>stress</th>\n      <th>critic</th>\n    </tr>\n  </thead>\n  <tbody>\n    <tr>\n      <th>epoch 3748</th>\n      <td>1387.68</td>\n      <td>74.42%</td>\n      <td>154.32</td>\n      <td>83.58%</td>\n      <td>6.71e+05</td>\n      <td>-1.62e+03</td>\n      <td>-2.62e+03</td>\n    </tr>\n  </tbody>\n</table>\n</div>",
          "text/plain": "           val_stress val_stress_spc val_xing val_xing_spc  gen_loss  \\\nepoch 3748    1387.68         74.42%   154.32       83.58%  6.71e+05   \n\n               stress     critic  \nepoch 3748  -1.62e+03  -2.62e+03  "
         },
         "metadata": {},
         "output_type": "display_data"
        }
       ]
      }
     },
     "8f90fa4935e840d281b1980d26f1f818": {
      "model_module": "@jupyter-widgets/base",
      "model_module_version": "1.2.0",
      "model_name": "LayoutModel",
      "state": {
       "height": "500px",
       "overflow_y": "auto"
      }
     },
     "8ffea417ed4f419282bebd1323098627": {
      "model_module": "@jupyter-widgets/base",
      "model_module_version": "1.2.0",
      "model_name": "LayoutModel",
      "state": {
       "height": "500px",
       "overflow_y": "auto"
      }
     },
     "9ce579a853874e77ac85f1231359d1de": {
      "model_module": "@jupyter-widgets/base",
      "model_module_version": "1.2.0",
      "model_name": "LayoutModel",
      "state": {}
     },
     "a09bcf0ae47744e690e84c287019c1c6": {
      "model_module": "@jupyter-widgets/base",
      "model_module_version": "1.2.0",
      "model_name": "LayoutModel",
      "state": {}
     },
     "aa9324d9ddb44e9e9c8497860e5305a6": {
      "model_module": "@jupyter-widgets/controls",
      "model_module_version": "1.5.0",
      "model_name": "HTMLModel",
      "state": {
       "layout": "IPY_MODEL_60bdefcb883b4f00996c710b0226b2af",
       "style": "IPY_MODEL_2881df25ef8340a5bced2e35719e9468",
       "value": "[epoch 3748/None]:  95%"
      }
     },
     "b6780f57c6974e679760fb8c83220ad7": {
      "model_module": "@jupyter-widgets/controls",
      "model_module_version": "1.5.0",
      "model_name": "DescriptionStyleModel",
      "state": {
       "description_width": ""
      }
     },
     "bad35ac80a50462bb476d2782f644299": {
      "model_module": "@jupyter-widgets/controls",
      "model_module_version": "1.5.0",
      "model_name": "HBoxModel",
      "state": {
       "children": [
        "IPY_MODEL_aa9324d9ddb44e9e9c8497860e5305a6",
        "IPY_MODEL_03a809c751cc43679e698b5a888f1d79",
        "IPY_MODEL_f706b6787e0448f88b469c246a8ff740"
       ],
       "layout": "IPY_MODEL_37c5faa1fab346439e5ada1dbb55dd81"
      }
     },
     "ce8eefcdf9dd44629feea1f62c521ef1": {
      "model_module": "@jupyter-widgets/controls",
      "model_module_version": "1.5.0",
      "model_name": "HBoxModel",
      "state": {
       "children": [
        "IPY_MODEL_53a0b9d661a14eaf935c6579e07c16ec"
       ],
       "layout": "IPY_MODEL_8ffea417ed4f419282bebd1323098627"
      }
     },
     "dd1635a18de34b5a8fae8e3809e45dfc": {
      "model_module": "@jupyter-widgets/controls",
      "model_module_version": "1.5.0",
      "model_name": "TabModel",
      "state": {
       "_titles": {
        "0": "status",
        "1": "plot",
        "2": "log"
       },
       "children": [
        "IPY_MODEL_529f60f15d194976bb90459a73941b61",
        "IPY_MODEL_07fec6a9f11d4e0a8eaec13069d09971",
        "IPY_MODEL_ce8eefcdf9dd44629feea1f62c521ef1"
       ],
       "layout": "IPY_MODEL_4543773ce9754078a1423bc345d44dca"
      }
     },
     "ecc7f4cefd5546daa1c89d1d2383e4b8": {
      "model_module": "@jupyter-widgets/controls",
      "model_module_version": "1.5.0",
      "model_name": "ProgressStyleModel",
      "state": {
       "description_width": ""
      }
     },
     "ef58abd0c280450a86ea34266a65ae66": {
      "model_module": "@jupyter-widgets/base",
      "model_module_version": "1.2.0",
      "model_name": "LayoutModel",
      "state": {}
     },
     "f706b6787e0448f88b469c246a8ff740": {
      "model_module": "@jupyter-widgets/controls",
      "model_module_version": "1.5.0",
      "model_name": "HTMLModel",
      "state": {
       "layout": "IPY_MODEL_021fdc2e58fd4d6aa2421119264c0986",
       "style": "IPY_MODEL_b6780f57c6974e679760fb8c83220ad7",
       "value": " 38/40 [00:15&lt;00:00,  2.47it/s]"
      }
     }
    },
    "version_major": 2,
    "version_minor": 0
   }
  }
 },
 "nbformat": 4,
 "nbformat_minor": 4
}
