{
 "cells": [
  {
   "cell_type": "code",
   "execution_count": 1,
   "metadata": {},
   "outputs": [],
   "source": [
    "%load_ext autoreload\n",
    "%autoreload 2"
   ]
  },
  {
   "cell_type": "markdown",
   "metadata": {},
   "source": [
    "## **[edge attr]** *euclidean and normalized direction* \n",
    "## **[edge net]** *2 layers*\n",
    "## **[block dim]** *8,8,8,8*\n",
    "## **[num blocks]** *9*\n",
    "## **[init pos]** *scaled random*\n",
    "## **[loss]** *StressLoss:1, RescaledL2AngularLoss:0.01*"
   ]
  },
  {
   "cell_type": "code",
   "execution_count": 2,
   "metadata": {},
   "outputs": [],
   "source": [
    "from utils import *\n",
    "from modules import *"
   ]
  },
  {
   "cell_type": "code",
   "execution_count": 3,
   "metadata": {},
   "outputs": [
    {
     "data": {
      "text/plain": [
       "'1.5.0'"
      ]
     },
     "execution_count": 3,
     "metadata": {},
     "output_type": "execute_result"
    }
   ],
   "source": [
    "torch.__version__"
   ]
  },
  {
   "cell_type": "code",
   "execution_count": 4,
   "metadata": {},
   "outputs": [
    {
     "data": {
      "text/plain": [
       "4"
      ]
     },
     "execution_count": 4,
     "metadata": {},
     "output_type": "execute_result"
    }
   ],
   "source": [
    "torch.cuda.device_count()"
   ]
  },
  {
   "cell_type": "markdown",
   "metadata": {},
   "source": [
    "# Settings"
   ]
  },
  {
   "cell_type": "code",
   "execution_count": 5,
   "metadata": {},
   "outputs": [],
   "source": [
    "cuda_idx = 1\n",
    "cfg_file = 'gnn_stress-Copy74.json'\n",
    "loss_fns = {\n",
    "    StressLoss: 1, RescaledL2AngularLoss: 0.01\n",
    "}"
   ]
  },
  {
   "cell_type": "code",
   "execution_count": 6,
   "metadata": {},
   "outputs": [
    {
     "data": {
      "text/plain": [
       "{'batchsize': 128,\n",
       " 'epoch': {'end': None, 'start': 275},\n",
       " 'log_period': 1,\n",
       " 'lr': {'decay_rate': 0.99,\n",
       " 'decay_step': 1,\n",
       " 'initial': 0.01,\n",
       " 'override': {'decay_rate': None, 'decay_step': None, 'start_epoch': None, 'target_lr': None}},\n",
       " 'name': 'scaled_l2:0.01',\n",
       " 'test': {'epoch': 567, 'name': 'scaled_l2:0.01'}}"
      ]
     },
     "execution_count": 6,
     "metadata": {},
     "output_type": "execute_result"
    }
   ],
   "source": [
    "config = Config(cfg_file)\n",
    "config"
   ]
  },
  {
   "cell_type": "code",
   "execution_count": 7,
   "metadata": {},
   "outputs": [
    {
     "name": "stdout",
     "output_type": "stream",
     "text": [
      "cd /home/jupyter/graph-drawing-stress\n",
      "tail -f scaled_l2:0.01.log\n"
     ]
    }
   ],
   "source": [
    "print(f\"cd {os.getcwd()}\")\n",
    "print(f\"tail -f {config.name}.log\")"
   ]
  },
  {
   "cell_type": "code",
   "execution_count": 8,
   "metadata": {},
   "outputs": [],
   "source": [
    "device = f'cuda:{cuda_idx}' if cuda_idx is not None and torch.cuda.is_available() else 'cpu'\n",
    "nvidia_smi.nvmlInit()\n",
    "cuda = nvidia_smi.nvmlDeviceGetHandleByIndex(cuda_idx)"
   ]
  },
  {
   "cell_type": "code",
   "execution_count": 9,
   "metadata": {},
   "outputs": [],
   "source": [
    "def get_lr(epoch):\n",
    "    current_epoch = config.epoch.start + epoch\n",
    "    if config.lr.override.start_epoch is not None and current_epoch >= config.lr.override.start_epoch:\n",
    "        num_step = (current_epoch - config.lr.override.start_epoch) // config.lr.override.decay_step\n",
    "        return config.lr.override.target_lr * config.lr.override.decay_rate ** num_step\n",
    "    num_step = current_epoch // config.lr.decay_step\n",
    "    return config.lr.initial * config.lr.decay_rate ** num_step"
   ]
  },
  {
   "cell_type": "code",
   "execution_count": 10,
   "metadata": {},
   "outputs": [],
   "source": [
    "G_list, data_list = load_processed_data(G_list_file='G_list_1.pickle', \n",
    "                                        data_list_file='data_list_1.pickle',\n",
    "                                        index_file='data_index_1.txt')\n",
    "train_loader = DataLoader(data_list[:10000], batch_size=config.batchsize, shuffle=True)\n",
    "val_loader = DataLoader(data_list[11000:], batch_size=config.batchsize, shuffle=False)"
   ]
  },
  {
   "cell_type": "code",
   "execution_count": 11,
   "metadata": {},
   "outputs": [],
   "source": [
    "criterion = CompositeLoss([fn() for fn in loss_fns], weights=[loss_fns[fn] for fn in loss_fns])"
   ]
  },
  {
   "cell_type": "code",
   "execution_count": 12,
   "metadata": {},
   "outputs": [
    {
     "data": {
      "application/vnd.jupyter.widget-view+json": {
       "model_id": "a6ece4db7765410e941b897112f50ddb",
       "version_major": 2,
       "version_minor": 0
      },
      "text/plain": [
       "HBox(children=(FloatProgress(value=0.0, max=79.0), HTML(value='')))"
      ]
     },
     "metadata": {},
     "output_type": "display_data"
    },
    {
     "name": "stderr",
     "output_type": "stream",
     "text": [
      "/opt/conda/lib/python3.7/site-packages/torch/optim/lr_scheduler.py:231: UserWarning: To get the last learning rate computed by the scheduler, please use `get_last_lr()`.\n",
      "  warnings.warn(\"To get the last learning rate computed by the scheduler, \"\n"
     ]
    },
    {
     "name": "stdout",
     "output_type": "stream",
     "text": [
      "\n"
     ]
    },
    {
     "ename": "KeyboardInterrupt",
     "evalue": "",
     "output_type": "error",
     "traceback": [
      "\u001b[0;31m---------------------------------------------------------------------------\u001b[0m",
      "\u001b[0;31mKeyboardInterrupt\u001b[0m                         Traceback (most recent call last)",
      "\u001b[0;32m<ipython-input-12-cc546e21c16d>\u001b[0m in \u001b[0;36m<module>\u001b[0;34m\u001b[0m\n\u001b[1;32m     14\u001b[0m         \u001b[0mprogress\u001b[0m\u001b[0;34m.\u001b[0m\u001b[0mreset\u001b[0m\u001b[0;34m(\u001b[0m\u001b[0;34m)\u001b[0m\u001b[0;34m\u001b[0m\u001b[0;34m\u001b[0m\u001b[0m\n\u001b[1;32m     15\u001b[0m         \u001b[0mprogress\u001b[0m\u001b[0;34m.\u001b[0m\u001b[0mset_description\u001b[0m\u001b[0;34m(\u001b[0m\u001b[0mdesc\u001b[0m\u001b[0;34m=\u001b[0m\u001b[0;34mf\"[epoch {epoch}/{config.epoch.end}]\"\u001b[0m\u001b[0;34m)\u001b[0m\u001b[0;34m\u001b[0m\u001b[0;34m\u001b[0m\u001b[0m\n\u001b[0;32m---> 16\u001b[0;31m         \u001b[0mtrain_loss\u001b[0m\u001b[0;34m,\u001b[0m \u001b[0mtrain_loss_comp\u001b[0m \u001b[0;34m=\u001b[0m \u001b[0mtrain\u001b[0m\u001b[0;34m(\u001b[0m\u001b[0mmodel\u001b[0m\u001b[0;34m,\u001b[0m \u001b[0mcriterion\u001b[0m\u001b[0;34m,\u001b[0m \u001b[0moptimizer\u001b[0m\u001b[0;34m,\u001b[0m \u001b[0mtrain_loader\u001b[0m\u001b[0;34m,\u001b[0m \u001b[0mdevice\u001b[0m\u001b[0;34m,\u001b[0m \u001b[0mprogress\u001b[0m\u001b[0;34m,\u001b[0m \u001b[0mcuda\u001b[0m\u001b[0;34m,\u001b[0m \u001b[0moutput_components\u001b[0m\u001b[0;34m=\u001b[0m\u001b[0;32mTrue\u001b[0m\u001b[0;34m)\u001b[0m\u001b[0;34m\u001b[0m\u001b[0;34m\u001b[0m\u001b[0m\n\u001b[0m\u001b[1;32m     17\u001b[0m         \u001b[0mloss_ep\u001b[0m\u001b[0;34m.\u001b[0m\u001b[0mappend\u001b[0m\u001b[0;34m(\u001b[0m\u001b[0mtrain_loss\u001b[0m\u001b[0;34m)\u001b[0m\u001b[0;34m\u001b[0m\u001b[0;34m\u001b[0m\u001b[0m\n\u001b[1;32m     18\u001b[0m         \u001b[0mlr\u001b[0m \u001b[0;34m=\u001b[0m \u001b[0mscheduler\u001b[0m\u001b[0;34m.\u001b[0m\u001b[0mget_lr\u001b[0m\u001b[0;34m(\u001b[0m\u001b[0;34m)\u001b[0m\u001b[0;34m\u001b[0m\u001b[0;34m\u001b[0m\u001b[0m\n",
      "\u001b[0;32m~/graph-drawing-stress/utils.py\u001b[0m in \u001b[0;36mtrain\u001b[0;34m(model, criterion, optimizer, loader, device, progress, cuda, output_components)\u001b[0m\n\u001b[1;32m    198\u001b[0m         \u001b[0moutput\u001b[0m \u001b[0;34m=\u001b[0m \u001b[0mmodel\u001b[0m\u001b[0;34m(\u001b[0m\u001b[0mdata\u001b[0m\u001b[0;34m)\u001b[0m\u001b[0;34m\u001b[0m\u001b[0;34m\u001b[0m\u001b[0m\n\u001b[1;32m    199\u001b[0m         \u001b[0;32mif\u001b[0m \u001b[0moutput_components\u001b[0m\u001b[0;34m:\u001b[0m\u001b[0;34m\u001b[0m\u001b[0;34m\u001b[0m\u001b[0m\n\u001b[0;32m--> 200\u001b[0;31m             \u001b[0mloss\u001b[0m\u001b[0;34m,\u001b[0m \u001b[0mcomponents\u001b[0m \u001b[0;34m=\u001b[0m \u001b[0mcriterion\u001b[0m\u001b[0;34m(\u001b[0m\u001b[0moutput\u001b[0m\u001b[0;34m,\u001b[0m \u001b[0mdata\u001b[0m\u001b[0;34m,\u001b[0m\u001b[0moutput_components\u001b[0m\u001b[0;34m=\u001b[0m\u001b[0;32mTrue\u001b[0m\u001b[0;34m)\u001b[0m\u001b[0;34m\u001b[0m\u001b[0;34m\u001b[0m\u001b[0m\n\u001b[0m\u001b[1;32m    201\u001b[0m         \u001b[0;32melse\u001b[0m\u001b[0;34m:\u001b[0m\u001b[0;34m\u001b[0m\u001b[0;34m\u001b[0m\u001b[0m\n\u001b[1;32m    202\u001b[0m             \u001b[0mloss\u001b[0m \u001b[0;34m=\u001b[0m \u001b[0mcriterion\u001b[0m\u001b[0;34m(\u001b[0m\u001b[0moutput\u001b[0m\u001b[0;34m,\u001b[0m \u001b[0mdata\u001b[0m\u001b[0;34m)\u001b[0m\u001b[0;34m\u001b[0m\u001b[0;34m\u001b[0m\u001b[0m\n",
      "\u001b[0;32m/opt/conda/lib/python3.7/site-packages/torch/nn/modules/module.py\u001b[0m in \u001b[0;36m__call__\u001b[0;34m(self, *input, **kwargs)\u001b[0m\n\u001b[1;32m    548\u001b[0m             \u001b[0mresult\u001b[0m \u001b[0;34m=\u001b[0m \u001b[0mself\u001b[0m\u001b[0;34m.\u001b[0m\u001b[0m_slow_forward\u001b[0m\u001b[0;34m(\u001b[0m\u001b[0;34m*\u001b[0m\u001b[0minput\u001b[0m\u001b[0;34m,\u001b[0m \u001b[0;34m**\u001b[0m\u001b[0mkwargs\u001b[0m\u001b[0;34m)\u001b[0m\u001b[0;34m\u001b[0m\u001b[0;34m\u001b[0m\u001b[0m\n\u001b[1;32m    549\u001b[0m         \u001b[0;32melse\u001b[0m\u001b[0;34m:\u001b[0m\u001b[0;34m\u001b[0m\u001b[0;34m\u001b[0m\u001b[0m\n\u001b[0;32m--> 550\u001b[0;31m             \u001b[0mresult\u001b[0m \u001b[0;34m=\u001b[0m \u001b[0mself\u001b[0m\u001b[0;34m.\u001b[0m\u001b[0mforward\u001b[0m\u001b[0;34m(\u001b[0m\u001b[0;34m*\u001b[0m\u001b[0minput\u001b[0m\u001b[0;34m,\u001b[0m \u001b[0;34m**\u001b[0m\u001b[0mkwargs\u001b[0m\u001b[0;34m)\u001b[0m\u001b[0;34m\u001b[0m\u001b[0;34m\u001b[0m\u001b[0m\n\u001b[0m\u001b[1;32m    551\u001b[0m         \u001b[0;32mfor\u001b[0m \u001b[0mhook\u001b[0m \u001b[0;32min\u001b[0m \u001b[0mself\u001b[0m\u001b[0;34m.\u001b[0m\u001b[0m_forward_hooks\u001b[0m\u001b[0;34m.\u001b[0m\u001b[0mvalues\u001b[0m\u001b[0;34m(\u001b[0m\u001b[0;34m)\u001b[0m\u001b[0;34m:\u001b[0m\u001b[0;34m\u001b[0m\u001b[0;34m\u001b[0m\u001b[0m\n\u001b[1;32m    552\u001b[0m             \u001b[0mhook_result\u001b[0m \u001b[0;34m=\u001b[0m \u001b[0mhook\u001b[0m\u001b[0;34m(\u001b[0m\u001b[0mself\u001b[0m\u001b[0;34m,\u001b[0m \u001b[0minput\u001b[0m\u001b[0;34m,\u001b[0m \u001b[0mresult\u001b[0m\u001b[0;34m)\u001b[0m\u001b[0;34m\u001b[0m\u001b[0;34m\u001b[0m\u001b[0m\n",
      "\u001b[0;32m~/graph-drawing-stress/modules.py\u001b[0m in \u001b[0;36mforward\u001b[0;34m(self, output_components, *args, **kwargs)\u001b[0m\n\u001b[1;32m    516\u001b[0m         \u001b[0mcomponents\u001b[0m \u001b[0;34m=\u001b[0m \u001b[0;34m[\u001b[0m\u001b[0;34m]\u001b[0m\u001b[0;34m\u001b[0m\u001b[0;34m\u001b[0m\u001b[0m\n\u001b[1;32m    517\u001b[0m         \u001b[0;32mfor\u001b[0m \u001b[0mcriterion\u001b[0m\u001b[0;34m,\u001b[0m \u001b[0mweight\u001b[0m \u001b[0;32min\u001b[0m \u001b[0mzip\u001b[0m\u001b[0;34m(\u001b[0m\u001b[0mself\u001b[0m\u001b[0;34m.\u001b[0m\u001b[0mcriterions\u001b[0m\u001b[0;34m,\u001b[0m \u001b[0mself\u001b[0m\u001b[0;34m.\u001b[0m\u001b[0mweights\u001b[0m\u001b[0;34m)\u001b[0m\u001b[0;34m:\u001b[0m\u001b[0;34m\u001b[0m\u001b[0;34m\u001b[0m\u001b[0m\n\u001b[0;32m--> 518\u001b[0;31m             \u001b[0mloss\u001b[0m \u001b[0;34m=\u001b[0m \u001b[0mcriterion\u001b[0m\u001b[0;34m(\u001b[0m\u001b[0;34m*\u001b[0m\u001b[0margs\u001b[0m\u001b[0;34m,\u001b[0m \u001b[0;34m**\u001b[0m\u001b[0mkwargs\u001b[0m\u001b[0;34m)\u001b[0m\u001b[0;34m\u001b[0m\u001b[0;34m\u001b[0m\u001b[0m\n\u001b[0m\u001b[1;32m    519\u001b[0m             \u001b[0mlosses\u001b[0m \u001b[0;34m+=\u001b[0m \u001b[0mloss\u001b[0m \u001b[0;34m*\u001b[0m \u001b[0mweight\u001b[0m\u001b[0;34m\u001b[0m\u001b[0;34m\u001b[0m\u001b[0m\n\u001b[1;32m    520\u001b[0m             \u001b[0mcomponents\u001b[0m \u001b[0;34m+=\u001b[0m \u001b[0;34m[\u001b[0m\u001b[0mloss\u001b[0m\u001b[0;34m]\u001b[0m\u001b[0;34m\u001b[0m\u001b[0;34m\u001b[0m\u001b[0m\n",
      "\u001b[0;32m/opt/conda/lib/python3.7/site-packages/torch/nn/modules/module.py\u001b[0m in \u001b[0;36m__call__\u001b[0;34m(self, *input, **kwargs)\u001b[0m\n\u001b[1;32m    548\u001b[0m             \u001b[0mresult\u001b[0m \u001b[0;34m=\u001b[0m \u001b[0mself\u001b[0m\u001b[0;34m.\u001b[0m\u001b[0m_slow_forward\u001b[0m\u001b[0;34m(\u001b[0m\u001b[0;34m*\u001b[0m\u001b[0minput\u001b[0m\u001b[0;34m,\u001b[0m \u001b[0;34m**\u001b[0m\u001b[0mkwargs\u001b[0m\u001b[0;34m)\u001b[0m\u001b[0;34m\u001b[0m\u001b[0;34m\u001b[0m\u001b[0m\n\u001b[1;32m    549\u001b[0m         \u001b[0;32melse\u001b[0m\u001b[0;34m:\u001b[0m\u001b[0;34m\u001b[0m\u001b[0;34m\u001b[0m\u001b[0m\n\u001b[0;32m--> 550\u001b[0;31m             \u001b[0mresult\u001b[0m \u001b[0;34m=\u001b[0m \u001b[0mself\u001b[0m\u001b[0;34m.\u001b[0m\u001b[0mforward\u001b[0m\u001b[0;34m(\u001b[0m\u001b[0;34m*\u001b[0m\u001b[0minput\u001b[0m\u001b[0;34m,\u001b[0m \u001b[0;34m**\u001b[0m\u001b[0mkwargs\u001b[0m\u001b[0;34m)\u001b[0m\u001b[0;34m\u001b[0m\u001b[0;34m\u001b[0m\u001b[0m\n\u001b[0m\u001b[1;32m    551\u001b[0m         \u001b[0;32mfor\u001b[0m \u001b[0mhook\u001b[0m \u001b[0;32min\u001b[0m \u001b[0mself\u001b[0m\u001b[0;34m.\u001b[0m\u001b[0m_forward_hooks\u001b[0m\u001b[0;34m.\u001b[0m\u001b[0mvalues\u001b[0m\u001b[0;34m(\u001b[0m\u001b[0;34m)\u001b[0m\u001b[0;34m:\u001b[0m\u001b[0;34m\u001b[0m\u001b[0;34m\u001b[0m\u001b[0m\n\u001b[1;32m    552\u001b[0m             \u001b[0mhook_result\u001b[0m \u001b[0;34m=\u001b[0m \u001b[0mhook\u001b[0m\u001b[0;34m(\u001b[0m\u001b[0mself\u001b[0m\u001b[0;34m,\u001b[0m \u001b[0minput\u001b[0m\u001b[0;34m,\u001b[0m \u001b[0mresult\u001b[0m\u001b[0;34m)\u001b[0m\u001b[0;34m\u001b[0m\u001b[0;34m\u001b[0m\u001b[0m\n",
      "\u001b[0;32m~/graph-drawing-stress/modules.py\u001b[0m in \u001b[0;36mforward\u001b[0;34m(self, p, batch)\u001b[0m\n\u001b[1;32m    126\u001b[0m         \u001b[0mterm4\u001b[0m \u001b[0;34m=\u001b[0m \u001b[0;36m2\u001b[0m \u001b[0;34m*\u001b[0m \u001b[0ml\u001b[0m \u001b[0;34m*\u001b[0m \u001b[0;34m(\u001b[0m\u001b[0mterm1\u001b[0m \u001b[0;34m+\u001b[0m \u001b[0mterm2\u001b[0m\u001b[0;34m)\u001b[0m\u001b[0;34m.\u001b[0m\u001b[0mabs\u001b[0m\u001b[0;34m(\u001b[0m\u001b[0;34m)\u001b[0m\u001b[0;34m.\u001b[0m\u001b[0msqrt\u001b[0m\u001b[0;34m(\u001b[0m\u001b[0;34m)\u001b[0m\u001b[0;34m\u001b[0m\u001b[0;34m\u001b[0m\u001b[0m\n\u001b[1;32m    127\u001b[0m         \u001b[0menergy\u001b[0m \u001b[0;34m=\u001b[0m \u001b[0mk\u001b[0m \u001b[0;34m/\u001b[0m \u001b[0;36m2\u001b[0m \u001b[0;34m*\u001b[0m \u001b[0;34m(\u001b[0m\u001b[0mterm1\u001b[0m \u001b[0;34m+\u001b[0m \u001b[0mterm2\u001b[0m \u001b[0;34m+\u001b[0m \u001b[0mterm3\u001b[0m \u001b[0;34m-\u001b[0m \u001b[0mterm4\u001b[0m\u001b[0;34m)\u001b[0m\u001b[0;34m\u001b[0m\u001b[0;34m\u001b[0m\u001b[0m\n\u001b[0;32m--> 128\u001b[0;31m         \u001b[0;32mreturn\u001b[0m \u001b[0menergy\u001b[0m\u001b[0;34m.\u001b[0m\u001b[0msum\u001b[0m\u001b[0;34m(\u001b[0m\u001b[0;34m)\u001b[0m\u001b[0;34m.\u001b[0m\u001b[0mdiv\u001b[0m\u001b[0;34m(\u001b[0m\u001b[0mbatch\u001b[0m\u001b[0;34m.\u001b[0m\u001b[0mnum_graphs\u001b[0m\u001b[0;34m)\u001b[0m\u001b[0;34m\u001b[0m\u001b[0;34m\u001b[0m\u001b[0m\n\u001b[0m\u001b[1;32m    129\u001b[0m \u001b[0;34m\u001b[0m\u001b[0m\n\u001b[1;32m    130\u001b[0m \u001b[0;34m\u001b[0m\u001b[0m\n",
      "\u001b[0;32m/opt/conda/lib/python3.7/site-packages/torch_geometric/data/batch.py\u001b[0m in \u001b[0;36mnum_graphs\u001b[0;34m(self)\u001b[0m\n\u001b[1;32m    123\u001b[0m     \u001b[0;32mdef\u001b[0m \u001b[0mnum_graphs\u001b[0m\u001b[0;34m(\u001b[0m\u001b[0mself\u001b[0m\u001b[0;34m)\u001b[0m\u001b[0;34m:\u001b[0m\u001b[0;34m\u001b[0m\u001b[0;34m\u001b[0m\u001b[0m\n\u001b[1;32m    124\u001b[0m         \u001b[0;34m\"\"\"Returns the number of graphs in the batch.\"\"\"\u001b[0m\u001b[0;34m\u001b[0m\u001b[0;34m\u001b[0m\u001b[0m\n\u001b[0;32m--> 125\u001b[0;31m         \u001b[0;32mreturn\u001b[0m \u001b[0mself\u001b[0m\u001b[0;34m.\u001b[0m\u001b[0mbatch\u001b[0m\u001b[0;34m[\u001b[0m\u001b[0;34m-\u001b[0m\u001b[0;36m1\u001b[0m\u001b[0;34m]\u001b[0m\u001b[0;34m.\u001b[0m\u001b[0mitem\u001b[0m\u001b[0;34m(\u001b[0m\u001b[0;34m)\u001b[0m \u001b[0;34m+\u001b[0m \u001b[0;36m1\u001b[0m\u001b[0;34m\u001b[0m\u001b[0;34m\u001b[0m\u001b[0m\n\u001b[0m",
      "\u001b[0;31mKeyboardInterrupt\u001b[0m: "
     ]
    }
   ],
   "source": [
    "if not os.path.isdir(f\"../ckpt_{config.name}\"):\n",
    "    os.mkdir(f\"../ckpt_{config.name}\")\n",
    "model = Model().to(device)\n",
    "if config.epoch.start > 0:\n",
    "    state_dict = torch.load(f\"../ckpt_{config.name}/epoch_{config.epoch.start}.pt\")\n",
    "    model.load_state_dict(state_dict)\n",
    "optimizer = torch.optim.AdamW(model.parameters(), lr=1)\n",
    "scheduler = torch.optim.lr_scheduler.LambdaLR(optimizer=optimizer, lr_lambda=get_lr)\n",
    "loss_ep = []\n",
    "print(\"=\" * 50, file=open(f\"{config.name}.log\", \"a\"))\n",
    "epoch = config.epoch.start + 1\n",
    "with tqdm(total=len(train_loader), smoothing=0) as progress:\n",
    "    while True:\n",
    "        progress.reset()\n",
    "        progress.set_description(desc=f\"[epoch {epoch}/{config.epoch.end}]\")\n",
    "        train_loss, train_loss_comp = train(model, criterion, optimizer, train_loader, device, progress, cuda, output_components=True)\n",
    "        loss_ep.append(train_loss)\n",
    "        lr = scheduler.get_lr()\n",
    "        scheduler.step()\n",
    "        if epoch % config.log_period == 0:\n",
    "            torch.save(model.state_dict(), f\"../ckpt_{config.name}/epoch_{epoch}.pt\")\n",
    "            val_losses, val_losses_comp = test(model, criterion, val_loader, device, output_components=True)\n",
    "            print(f'{epoch}, train: {train_loss, train_loss_comp.tolist()}, val: {val_losses, val_losses_comp.tolist()}, lr: {lr}', \n",
    "                  file=open(f\"{config.name}.log\", \"a\"))\n",
    "        if epoch == config.epoch.end:\n",
    "            break\n",
    "        epoch += 1"
   ]
  },
  {
   "cell_type": "markdown",
   "metadata": {},
   "source": [
    "# Performance Testing"
   ]
  },
  {
   "cell_type": "code",
   "execution_count": 13,
   "metadata": {},
   "outputs": [
    {
     "data": {
      "text/plain": [
       "<All keys matched successfully>"
      ]
     },
     "execution_count": 13,
     "metadata": {},
     "output_type": "execute_result"
    }
   ],
   "source": [
    "model = Model().to(device)\n",
    "state_dict = torch.load(f\"../ckpt_{config.name}/epoch_{config.test.epoch}.pt\")\n",
    "model.load_state_dict(state_dict)\n",
    "# criterion = CompositeLoss([EnergyLossVectorized(), AngularResolutionL2Loss()], weights=[0.1, 0.9])\n",
    "# warnings.filterwarnings(\"ignore\", category=RuntimeWarning)"
   ]
  },
  {
   "cell_type": "code",
   "execution_count": 14,
   "metadata": {},
   "outputs": [],
   "source": [
    "warnings.filterwarnings(\"ignore\", category=RuntimeWarning)"
   ]
  },
  {
   "cell_type": "code",
   "execution_count": 15,
   "metadata": {},
   "outputs": [],
   "source": [
    "ground_truth = pd.read_csv('scaled_gt_loss.csv', index_col=0)\n",
    "folder_name = f'{config.test.name}_test'\n",
    "if not os.path.isdir(folder_name):\n",
    "    os.mkdir(folder_name)"
   ]
  },
  {
   "cell_type": "code",
   "execution_count": 18,
   "metadata": {
    "scrolled": true
   },
   "outputs": [
    {
     "data": {
      "application/vnd.jupyter.widget-view+json": {
       "model_id": "be74d90b698a4bd6b33dbaeef6f7f4a2",
       "version_major": 2,
       "version_minor": 0
      },
      "text/plain": [
       "HBox(children=(FloatProgress(value=0.0, max=1000.0), HTML(value='')))"
      ]
     },
     "metadata": {},
     "output_type": "display_data"
    },
    {
     "name": "stdout",
     "output_type": "stream",
     "text": [
      "\n"
     ]
    }
   ],
   "source": [
    "criterion = CompositeLoss([fn() for fn in loss_fns], weights=[loss_fns[fn] for fn in loss_fns])\n",
    "folder_name = f'{config.test.name}_test'\n",
    "test_loss = []\n",
    "test_loss_ratio=[]\n",
    "reso_scores = []\n",
    "ring_loss = []\n",
    "reso_loss=[]\n",
    "minOfMin = []\n",
    "stress_criterion = StressLoss()\n",
    "for test_idx in tqdm(range(10000,11000)):\n",
    "    G = G_list[test_idx]\n",
    "    data = data_list[test_idx]\n",
    "    node_pos, loss,component = evaluate(model, data, criterion, device,output_components=True)\n",
    "    node_pos_tensor = torch.tensor(node_pos).to(device)\n",
    "#     node_pos_tensor = rescale_with_minimized_stress(node_pos_tensor, data)\n",
    "#     stress_loss = stress_criterion(node_pos_tensor, data)\n",
    "    theta,degree,u = get_theta_angles_and_node_degrees(node_pos_tensor, data,return_u=True)\n",
    "    gt_loss = ground_truth.loc[test_idx][0]\n",
    "    loss_ratio = (component[0] - gt_loss) / gt_loss\n",
    "    minDegree = (theta.min().item()/2*np.pi)*360\n",
    "    minOfMin.append(minDegree)\n",
    "    score = resolution_score(theta,degree,u)\n",
    "    test_loss.append(component[0])\n",
    "    reso_scores.append(score) \n",
    "    reso_loss.append(component[1])\n",
    "    test_loss_ratio.append(loss_ratio)\n",
    "    \n",
    "#     graph_vis(G, node_pos, f'{folder_name}/{test_idx}_{component[0]:.2f}_{score:.2f}.png')  \n",
    "#     node_pos = nx.nx_agraph.graphviz_layout(G_vis, prog='neato')\n",
    "#     plt.figure()\n",
    "#     nx.draw(G_vis, node_pos)\n",
    "#     plt.savefig(f'{folder_name}/{test_idx}.png')\n"
   ]
  },
  {
   "cell_type": "code",
   "execution_count": 17,
   "metadata": {},
   "outputs": [
    {
     "name": "stdout",
     "output_type": "stream",
     "text": [
      "stress 128.13498 132.22224\n",
      "reso loss 3950.8694 3465.1848\n",
      "score 0.6184993895292282 0.08608516239465049\n",
      "min degree 65.92132150817764 122.48960832630101\n",
      "loss ratio tensor(0.1121) tensor(0.4225)\n"
     ]
    }
   ],
   "source": [
    "print(\"stress\", np.nanmean(test_loss), np.nanstd(test_loss))\n",
    "print(\"reso loss\", np.nanmean(reso_loss), np.nanstd(reso_loss))\n",
    "print(\"score\",np.nanmean(reso_scores), np.nanstd(reso_scores))\n",
    "print(\"min degree\", np.nanmean(minOfMin), np.nanstd(minOfMin))\n",
    "print(\"loss ratio\", torch.tensor(test_loss_ratio).mean(), torch.tensor(test_loss_ratio).std())"
   ]
  },
  {
   "cell_type": "code",
   "execution_count": 19,
   "metadata": {},
   "outputs": [
    {
     "name": "stdout",
     "output_type": "stream",
     "text": [
      "stress 128.44609 132.32016\n",
      "reso loss 3948.49 3461.4526\n",
      "score 0.6185177138149738 0.08393357852062479\n",
      "min degree 64.49263581112193 112.43025634932545\n",
      "loss ratio tensor(0.1281, dtype=torch.float64) tensor(0.4294, dtype=torch.float64)\n"
     ]
    }
   ],
   "source": [
    "print(\"stress\", np.nanmean(test_loss), np.nanstd(test_loss))\n",
    "print(\"reso loss\", np.nanmean(reso_loss), np.nanstd(reso_loss))\n",
    "print(\"score\",np.nanmean(reso_scores), np.nanstd(reso_scores))\n",
    "print(\"min degree\", np.nanmean(minOfMin), np.nanstd(minOfMin))\n",
    "print(\"loss ratio\", torch.tensor(test_loss_ratio).mean(), torch.tensor(test_loss_ratio).std())"
   ]
  },
  {
   "cell_type": "code",
   "execution_count": 20,
   "metadata": {},
   "outputs": [
    {
     "data": {
      "application/vnd.jupyter.widget-view+json": {
       "model_id": "139bf808031540abadf0a46855b265a7",
       "version_major": 2,
       "version_minor": 0
      },
      "text/plain": [
       "HBox(children=(FloatProgress(value=0.0, max=10000.0), HTML(value='')))"
      ]
     },
     "metadata": {},
     "output_type": "display_data"
    },
    {
     "name": "stdout",
     "output_type": "stream",
     "text": [
      "\n"
     ]
    }
   ],
   "source": [
    "criterion = CompositeLoss([fn() for fn in loss_fns], weights=[loss_fns[fn] for fn in loss_fns])\n",
    "folder_name = f'{config.test.name}_test'\n",
    "test_loss = []\n",
    "test_loss_ratio=[]\n",
    "reso_scores = []\n",
    "ring_loss = []\n",
    "reso_loss=[]\n",
    "minOfMin = []\n",
    "for test_idx in tqdm(range(10000)):\n",
    "    G = G_list[test_idx]\n",
    "    data = data_list[test_idx]\n",
    "    node_pos, loss,component = evaluate(model, data, criterion, device,output_components=True)\n",
    "    node_pos_tensor = torch.tensor(node_pos).to(device)\n",
    "#     node_pos_tensor = rescale_with_minimized_stress(node_pos_tensor, data)\n",
    "    loss = criterion(node_pos_tensor, data)\n",
    "    theta,degree,u = get_theta_angles_and_node_degrees(node_pos_tensor, data,return_u=True)\n",
    "    gt_loss = ground_truth.loc[test_idx][0]\n",
    "    loss_ratio = (component[0] - gt_loss) / gt_loss\n",
    "    minDegree = (theta.min().item()/2*np.pi)*360\n",
    "    minOfMin.append(minDegree)\n",
    "    score = resolution_score(theta,degree,u)\n",
    "    test_loss.append(component[0])\n",
    "    reso_scores.append(score) \n",
    "    reso_loss.append(component[1])\n",
    "    test_loss_ratio.append(loss_ratio)\n",
    "    \n",
    "#     graph_vis(G, node_pos, f'{folder_name}/{test_idx}_{component[0]:.2f}_{score:.2f}.png')  \n",
    "#     node_pos = nx.nx_agraph.graphviz_layout(G_vis, prog='neato')\n",
    "#     plt.figure()\n",
    "#     nx.draw(G_vis, node_pos)\n",
    "#     plt.savefig(f'{folder_name}/{test_idx}.png')\n"
   ]
  },
  {
   "cell_type": "code",
   "execution_count": 22,
   "metadata": {},
   "outputs": [
    {
     "name": "stdout",
     "output_type": "stream",
     "text": [
      "stress 131.3693 134.98665\n",
      "reso loss 4042.2537 3531.255\n",
      "score 0.6248861903443933 0.08340612101093055\n",
      "min degree 72.32880340359506 137.6819985040915\n",
      "loss ratio tensor(0.2605, dtype=torch.float64) tensor(8.0769, dtype=torch.float64)\n"
     ]
    }
   ],
   "source": [
    "print(\"stress\", np.nanmean(test_loss), np.nanstd(test_loss))\n",
    "print(\"reso loss\", np.nanmean(reso_loss), np.nanstd(reso_loss))\n",
    "print(\"score\",np.nanmean(reso_scores), np.nanstd(reso_scores))\n",
    "print(\"min degree\", np.nanmean(minOfMin), np.nanstd(minOfMin))\n",
    "print(\"loss ratio\", torch.tensor(test_loss_ratio).mean(), torch.tensor(test_loss_ratio).std())"
   ]
  },
  {
   "cell_type": "code",
   "execution_count": null,
   "metadata": {},
   "outputs": [],
   "source": [
    "model = Model().to(device)\n",
    "state_dict = torch.load(f\"../ckpt_{config.name}/epoch_{config.test.epoch}.pt\",map_location=torch.device('cpu'))\n",
    "model.load_state_dict(state_dict)\n",
    "test_idx = 10226\n",
    "G = G_list[test_idx]\n",
    "data = data_list[test_idx]\n",
    "criterion = CompositeLoss([StressLoss(),AngularResolutionMAELossRescale()])\n",
    "node_pos, loss,component = evaluate(model, data, criterion, device,output_components=True)\n",
    "graph_vis(G, node_pos,node_size=600, with_labels=True, font_color=\"white\", font_weight=\"bold\", font_size=14) \n"
   ]
  },
  {
   "cell_type": "code",
   "execution_count": null,
   "metadata": {},
   "outputs": [],
   "source": [
    "losses = []\n",
    "loss_ratios = []\n",
    "for test_idx in tqdm(range(10000, 11000)):\n",
    "    G_vis = G_list[test_idx]\n",
    "    node_pos, loss = evaluate(model, data_list[test_idx], criterion, device)\n",
    "    gt_loss = ground_truth.loc[test_idx][0]\n",
    "    loss_ratio = (loss - gt_loss) / gt_loss\n",
    "    losses += [loss]\n",
    "    loss_ratios += [loss_ratio]"
   ]
  },
  {
   "cell_type": "code",
   "execution_count": null,
   "metadata": {},
   "outputs": [],
   "source": [
    "np.mean(losses), np.std(losses)"
   ]
  },
  {
   "cell_type": "code",
   "execution_count": null,
   "metadata": {},
   "outputs": [],
   "source": [
    "np.mean(loss_ratios), np.std(loss_ratios)"
   ]
  },
  {
   "cell_type": "code",
   "execution_count": null,
   "metadata": {},
   "outputs": [],
   "source": [
    "truth_loss = 0\n",
    "pred_loss = 0\n",
    "for idx in tqdm(range(10000, 11000)):\n",
    "    pred, loss = evaluate(model, data_list[idx], criterion, device)\n",
    "    pos_map = nx.nx_agraph.graphviz_layout(G_list[idx], prog='neato')\n",
    "\n",
    "    pred_mean, pred_std = pred.mean(axis=0), pred.std()\n",
    "    truth = np.array(list(pos_map.values()))\n",
    "    truth_mean, truth_std = truth.mean(axis=0), truth.std()\n",
    "    norm_truth = (truth - truth_mean) / truth_std\n",
    "    scaled_truth = norm_truth * pred_std + pred_mean\n",
    "\n",
    "    truth_loss += criterion(torch.tensor(scaled_truth), data_list[idx])\n",
    "    pred_loss += criterion(torch.tensor(pred), data_list[idx])\n",
    "    \n",
    "truth_loss / 1000, pred_loss / 1000"
   ]
  },
  {
   "cell_type": "code",
   "execution_count": null,
   "metadata": {},
   "outputs": [],
   "source": [
    "type(data_list[9999].x)"
   ]
  },
  {
   "cell_type": "code",
   "execution_count": null,
   "metadata": {},
   "outputs": [],
   "source": [
    "iterations = 5\n",
    "losses = []\n",
    "folder_name = f'{config.test.name}_iterative_test'\n",
    "for test_idx in tqdm(range(10000, len(G_list))):\n",
    "    G_vis = G_list[test_idx]\n",
    "    node_pos = nx.nx_agraph.graphviz_layout(G_vis, prog='neato')\n",
    "    plt.figure()\n",
    "    nx.draw(G_vis, node_pos)\n",
    "    plt.savefig(f'{folder_name}/{test_idx}.png')\n",
    "    for i in range(iterations):\n",
    "        node_pos, loss = evaluate(model, data_list[test_idx], criterion, device) \n",
    "        data_list[test_idx].x = torch.tensor(node_pos,dtype=torch.float)\n",
    "    losses += [loss]\n",
    "    graph_vis(G_vis, node_pos, f'{folder_name}/{config.test.out_prefix}_iter_model_{test_idx}_{loss}.png')"
   ]
  },
  {
   "cell_type": "code",
   "execution_count": null,
   "metadata": {},
   "outputs": [],
   "source": [
    "plt.xlabel(\"epochs\")\n",
    "plt.ylabel(\"loss\")\n",
    "plt.plot(loss_ep[:1000])\n",
    "plt.show()"
   ]
  },
  {
   "cell_type": "code",
   "execution_count": null,
   "metadata": {},
   "outputs": [],
   "source": [
    "class EnergyLossScaled(torch.nn.Module):\n",
    "    def __init__(self):\n",
    "        super().__init__()\n",
    "        \n",
    "    def forward(self, p, data, scale):\n",
    "        edge_attr = data.edge_attr\n",
    "        # convert per-node positions to per-edge positions\n",
    "        start, end, n_nodes = node2edge(p, data)\n",
    "        \n",
    "        start *= scale\n",
    "        end *= scale\n",
    "        \n",
    "        start_x = start[:, 0]\n",
    "        start_y = start[:, 1]\n",
    "        end_x = end[:, 0]\n",
    "        end_y = end[:, 1]\n",
    "        \n",
    "        l = edge_attr[:, 0]\n",
    "        k = edge_attr[:, 1]\n",
    "        \n",
    "        term1 = (start_x - end_x) ** 2\n",
    "        term2 = (start_y - end_y) ** 2\n",
    "        term3 = l ** 2\n",
    "        term4 = 2 * l * (term1 + term2).sqrt()\n",
    "        energy = k / 2 * (term1 + term2 + term3 - term4)\n",
    "        return energy.sum()"
   ]
  },
  {
   "cell_type": "code",
   "execution_count": null,
   "metadata": {},
   "outputs": [],
   "source": [
    "criterion_scaled = EnergyLossScaled()\n",
    "criterion = EnergyLossVectorized()"
   ]
  },
  {
   "cell_type": "code",
   "execution_count": null,
   "metadata": {},
   "outputs": [],
   "source": [
    "truth_loss = 0\n",
    "pred_loss = 0\n",
    "for idx in tqdm(range(10000, 11000)):\n",
    "    pred, loss = evaluate(model, data_list[idx], criterion, device)\n",
    "    pos_map = nx.nx_agraph.graphviz_layout(G_list[idx], prog='neato')\n",
    "\n",
    "    pred_mean, pred_std = pred.mean(axis=0), pred.std()\n",
    "    truth = np.array(list(pos_map.values()))\n",
    "    truth_mean, truth_std = truth.mean(axis=0), truth.std()\n",
    "    norm_truth = (truth - truth_mean) / truth_std\n",
    "    scaled_truth = norm_truth * pred_std + pred_mean\n",
    "\n",
    "    truth_loss += criterion(torch.tensor(scaled_truth, device=device), data_list[idx])\n",
    "    pred_loss += criterion(torch.tensor(pred, device=device), data_list[idx])\n",
    "    \n",
    "truth_loss / 1000, pred_loss / 1000"
   ]
  },
  {
   "cell_type": "code",
   "execution_count": null,
   "metadata": {},
   "outputs": [],
   "source": [
    "for idx in [10898, 10904]:#tqdm(range(10000, 11000)):\n",
    "    data, G = data_list[idx], G_list[idx]\n",
    "    edge_attr = data.edge_attr\n",
    "    pred, loss = evaluate(model, data, criterion, device)\n",
    "    pos_map = nx.nx_agraph.graphviz_layout(G, prog='neato')\n",
    "    truth = np.array(list(pos_map.values()))\n",
    "\n",
    "    start, end, n_nodes = node2edge(torch.tensor(truth, device=device), data)\n",
    "    w = edge_attr[:, 1]\n",
    "    d = edge_attr[:, 0]\n",
    "\n",
    "    u2 = ((start - end) ** 2).sum(dim=1)\n",
    "\n",
    "    s = (w * d * u2.sqrt()).sum() / (w * u2).sum()\n",
    "\n",
    "    loss_gt = criterion_scaled(torch.tensor(truth, device=device), data, s)\n",
    "\n",
    "    print(loss, loss_gt)"
   ]
  },
  {
   "cell_type": "code",
   "execution_count": null,
   "metadata": {},
   "outputs": [],
   "source": [
    "def evaluate(model, data, criterion, device, idx):\n",
    "    model.eval()\n",
    "    with torch.no_grad():\n",
    "        data = data.to(device)\n",
    "        pred = model(data).detach()\n",
    "        loss = criterion(pred,data).cpu().numpy()\n",
    "        loss = round(float(loss),2)\n",
    "    return pred.cpu().numpy(), loss\n",
    "\n",
    "def graph_vis(G, node_pos):\n",
    "    i = 0\n",
    "    for n, p in node_pos:\n",
    "        node = 'n' +str(i)\n",
    "        G.nodes[node]['pos'] = (n,p)\n",
    "        i += 1\n",
    "    pos = nx.get_node_attributes(G,'pos')\n",
    "    plt.figure()\n",
    "    nx.draw(G, pos)\n",
    "    \n",
    "for test_idx in tqdm(list(range(10000, len(data_list)))):\n",
    "    G_vis = G_list[test_idx]\n",
    "    node_pos,loss = evaluate(model, data_list[test_idx],criterion,device, test_idx)\n",
    "    if loss > 10000:\n",
    "        print(test_idx, loss, data_list[test_idx].num_nodes)\n",
    "        graph_vis(G_vis, node_pos) \n",
    "        node_pos = nx.nx_agraph.graphviz_layout(G_vis, prog='neato')\n",
    "        plt.figure()\n",
    "        nx.draw(G_vis, node_pos)"
   ]
  },
  {
   "cell_type": "markdown",
   "metadata": {},
   "source": [
    "# Eval with Projection"
   ]
  },
  {
   "cell_type": "code",
   "execution_count": null,
   "metadata": {},
   "outputs": [],
   "source": [
    "idx = 10117\n",
    "pred, loss, sloss, aloss = evaluate(model, data_list[idx], criterion, device, output_components=True, reduction=umap_project)\n",
    "graph_vis(G_list[idx], pred, f'composite_umap_{idx}_loss_{sloss}_{aloss}.png')\n",
    "print(sloss, aloss)"
   ]
  },
  {
   "cell_type": "markdown",
   "metadata": {},
   "source": [
    "# Iterative Evaluation"
   ]
  },
  {
   "cell_type": "code",
   "execution_count": null,
   "metadata": {
    "scrolled": true
   },
   "outputs": [],
   "source": [
    "iterations = 100\n",
    "losseses = []\n",
    "folder_name = f'{config.test.name}_iterative_test'\n",
    "if not os.path.isdir(folder_name):\n",
    "    os.mkdir(folder_name)\n",
    "for test_idx in tqdm(range(10000, 10500)):\n",
    "    G_vis = G_list[test_idx]\n",
    "#     node_pos = nx.nx_agraph.graphviz_layout(G_vis, prog='neato')\n",
    "#     plt.figure()\n",
    "#     nx.draw(G_vis, node_pos)\n",
    "#     plt.savefig(f'{folder_name}/{test_idx}.png')\n",
    "    losses = []\n",
    "    for i in range(iterations):\n",
    "        node_pos, loss, stress, angle = evaluate(model, data_list[test_idx], criterion, device, output_components=True, with_initial_pos=True) \n",
    "        data_list[test_idx].x = torch.tensor(node_pos,dtype=torch.float)\n",
    "        losses += [loss]\n",
    "    losseses += [losses]\n",
    "    graph_vis(G_vis, node_pos, f'{folder_name}/{config.test.out_prefix}_iter_model_{test_idx}_{stress}_{angle}.png')"
   ]
  },
  {
   "cell_type": "code",
   "execution_count": null,
   "metadata": {},
   "outputs": [],
   "source": [
    "_, bins, _ = plt.hist(np.array(losseses).std(axis=1), bins=10)\n",
    "plt.clf()\n",
    "logbins = np.logspace(np.log10(bins[0]),np.log10(bins[-1]),len(bins))\n",
    "count, bins, _ = plt.hist(np.array(losseses).std(axis=1), bins=logbins, rwidth=0.5, log=False)\n",
    "plt.xscale('log')\n",
    "plt.title('Distribution of std(loss)')"
   ]
  },
  {
   "cell_type": "code",
   "execution_count": null,
   "metadata": {},
   "outputs": [],
   "source": [
    "pd.options.display.float_format = '{:,.2e}'.format\n",
    "pd.DataFrame([bins[:-1], bins[1:], count], index=['min', 'max', 'count']).T.astype({'count': 'int64'})"
   ]
  },
  {
   "cell_type": "markdown",
   "metadata": {},
   "source": [
    "# Visualization"
   ]
  },
  {
   "cell_type": "code",
   "execution_count": null,
   "metadata": {},
   "outputs": [],
   "source": [
    "model = torch.load(f'../ckpt_{config.name}/epoch_{config.test.epoch}.pt', map_location=torch.device(device))"
   ]
  },
  {
   "cell_type": "code",
   "execution_count": null,
   "metadata": {},
   "outputs": [],
   "source": [
    "G, data = G_list[0], data_list[0]"
   ]
  },
  {
   "cell_type": "code",
   "execution_count": null,
   "metadata": {},
   "outputs": [],
   "source": [
    "hidden = model(data, output_hidden=True, numpy=True)[1:10]\n",
    "projected = list(map(pca_project, hidden))\n",
    "for i in range(9):\n",
    "    graph_vis(G, projected[i])"
   ]
  },
  {
   "cell_type": "code",
   "execution_count": null,
   "metadata": {},
   "outputs": [],
   "source": []
  },
  {
   "cell_type": "code",
   "execution_count": null,
   "metadata": {},
   "outputs": [],
   "source": [
    "torch.tensor([1,2,3]).square()"
   ]
  },
  {
   "cell_type": "code",
   "execution_count": null,
   "metadata": {},
   "outputs": [],
   "source": []
  },
  {
   "cell_type": "code",
   "execution_count": null,
   "metadata": {},
   "outputs": [],
   "source": [
    "config"
   ]
  },
  {
   "cell_type": "code",
   "execution_count": null,
   "metadata": {},
   "outputs": [],
   "source": []
  }
 ],
 "metadata": {
  "kernelspec": {
   "display_name": "Python 3",
   "language": "python",
   "name": "python3"
  },
  "language_info": {
   "codemirror_mode": {
    "name": "ipython",
    "version": 3
   },
   "file_extension": ".py",
   "mimetype": "text/x-python",
   "name": "python",
   "nbconvert_exporter": "python",
   "pygments_lexer": "ipython3",
   "version": "3.7.6"
  },
  "widgets": {
   "application/vnd.jupyter.widget-state+json": {
    "state": {
     "22b513ceb3724f1d89a06969bb3adebc": {
      "model_module": "@jupyter-widgets/base",
      "model_module_version": "1.2.0",
      "model_name": "LayoutModel",
      "state": {}
     },
     "2a97d6abd9bb4a9780eebc85bc550a98": {
      "model_module": "@jupyter-widgets/controls",
      "model_module_version": "1.5.0",
      "model_name": "ProgressStyleModel",
      "state": {
       "description_width": "initial"
      }
     },
     "3aca1fac21ad4bba91d010268194f71f": {
      "model_module": "@jupyter-widgets/controls",
      "model_module_version": "1.5.0",
      "model_name": "FloatProgressModel",
      "state": {
       "bar_style": "success",
       "description": "100%",
       "layout": "IPY_MODEL_22b513ceb3724f1d89a06969bb3adebc",
       "max": 1000,
       "style": "IPY_MODEL_2a97d6abd9bb4a9780eebc85bc550a98",
       "value": 1000
      }
     },
     "3b01ff875fad4ef98279ff68771c7c49": {
      "model_module": "@jupyter-widgets/controls",
      "model_module_version": "1.5.0",
      "model_name": "ProgressStyleModel",
      "state": {
       "description_width": "initial"
      }
     },
     "474cb2e62dd3490980cb29e7bc8c5833": {
      "model_module": "@jupyter-widgets/controls",
      "model_module_version": "1.5.0",
      "model_name": "DescriptionStyleModel",
      "state": {
       "description_width": ""
      }
     },
     "530377cd55ea480aa54a5530da75d669": {
      "model_module": "@jupyter-widgets/base",
      "model_module_version": "1.2.0",
      "model_name": "LayoutModel",
      "state": {}
     },
     "53e1e750782042368fbfc0a3b5ae3532": {
      "model_module": "@jupyter-widgets/base",
      "model_module_version": "1.2.0",
      "model_name": "LayoutModel",
      "state": {}
     },
     "8f3c630388e74cf08898e00c87465117": {
      "model_module": "@jupyter-widgets/base",
      "model_module_version": "1.2.0",
      "model_name": "LayoutModel",
      "state": {}
     },
     "8fc2dc62fb1c400b83d8be6ca958c726": {
      "model_module": "@jupyter-widgets/base",
      "model_module_version": "1.2.0",
      "model_name": "LayoutModel",
      "state": {}
     },
     "90bf821333a2467baccd5281cf0c358a": {
      "model_module": "@jupyter-widgets/controls",
      "model_module_version": "1.5.0",
      "model_name": "FloatProgressModel",
      "state": {
       "bar_style": "success",
       "description": "100%",
       "layout": "IPY_MODEL_8f3c630388e74cf08898e00c87465117",
       "max": 1000,
       "style": "IPY_MODEL_3b01ff875fad4ef98279ff68771c7c49",
       "value": 1000
      }
     },
     "986de74223064a14b7c8a120cc30d9ad": {
      "model_module": "@jupyter-widgets/controls",
      "model_module_version": "1.5.0",
      "model_name": "HTMLModel",
      "state": {
       "layout": "IPY_MODEL_53e1e750782042368fbfc0a3b5ae3532",
       "style": "IPY_MODEL_474cb2e62dd3490980cb29e7bc8c5833",
       "value": " 1000/1000 [01:37&lt;00:00, 10.25it/s]"
      }
     },
     "996ab504194740858e44d702e90f11d2": {
      "model_module": "@jupyter-widgets/base",
      "model_module_version": "1.2.0",
      "model_name": "LayoutModel",
      "state": {}
     },
     "b3e9225963ab4b60b4ea6c4b9a05999a": {
      "model_module": "@jupyter-widgets/controls",
      "model_module_version": "1.5.0",
      "model_name": "HTMLModel",
      "state": {
       "layout": "IPY_MODEL_996ab504194740858e44d702e90f11d2",
       "style": "IPY_MODEL_d75572138a844085bd935833afce899c",
       "value": " 1000/1000 [00:42&lt;00:00, 23.66it/s]"
      }
     },
     "be74d90b698a4bd6b33dbaeef6f7f4a2": {
      "model_module": "@jupyter-widgets/controls",
      "model_module_version": "1.5.0",
      "model_name": "HBoxModel",
      "state": {
       "children": [
        "IPY_MODEL_90bf821333a2467baccd5281cf0c358a",
        "IPY_MODEL_b3e9225963ab4b60b4ea6c4b9a05999a"
       ],
       "layout": "IPY_MODEL_530377cd55ea480aa54a5530da75d669"
      }
     },
     "c9b85b45b78b4136b96d90577ca84cd7": {
      "model_module": "@jupyter-widgets/controls",
      "model_module_version": "1.5.0",
      "model_name": "HBoxModel",
      "state": {
       "children": [
        "IPY_MODEL_3aca1fac21ad4bba91d010268194f71f",
        "IPY_MODEL_986de74223064a14b7c8a120cc30d9ad"
       ],
       "layout": "IPY_MODEL_8fc2dc62fb1c400b83d8be6ca958c726"
      }
     },
     "d75572138a844085bd935833afce899c": {
      "model_module": "@jupyter-widgets/controls",
      "model_module_version": "1.5.0",
      "model_name": "DescriptionStyleModel",
      "state": {
       "description_width": ""
      }
     }
    },
    "version_major": 2,
    "version_minor": 0
   }
  }
 },
 "nbformat": 4,
 "nbformat_minor": 4
}
