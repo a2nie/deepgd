{
 "cells": [
  {
   "cell_type": "code",
   "execution_count": 1,
   "id": "great-standing",
   "metadata": {},
   "outputs": [],
   "source": [
    "%load_ext autoreload\n",
    "%autoreload 2"
   ]
  },
  {
   "cell_type": "code",
   "execution_count": 5,
   "id": "instrumental-stream",
   "metadata": {},
   "outputs": [],
   "source": [
    "import os\n",
    "from lib.tools import *"
   ]
  },
  {
   "cell_type": "code",
   "execution_count": 6,
   "id": "premium-congress",
   "metadata": {},
   "outputs": [],
   "source": [
    "@cache()\n",
    "def test_fn(x):\n",
    "    return x"
   ]
  },
  {
   "cell_type": "code",
   "execution_count": 12,
   "id": "regional-times",
   "metadata": {},
   "outputs": [
    {
     "name": "stdout",
     "output_type": "stream",
     "text": [
      "Save to 'pickles/test_fn(1).pickle'\n"
     ]
    },
    {
     "data": {
      "text/plain": [
       "1"
      ]
     },
     "execution_count": 12,
     "metadata": {},
     "output_type": "execute_result"
    }
   ],
   "source": [
    "test_fn(1, cache=True, cache_prefix='pickles/')"
   ]
  },
  {
   "cell_type": "code",
   "execution_count": null,
   "id": "massive-failure",
   "metadata": {},
   "outputs": [],
   "source": []
  }
 ],
 "metadata": {
  "kernelspec": {
   "display_name": "Python 3",
   "language": "python",
   "name": "python3"
  },
  "language_info": {
   "codemirror_mode": {
    "name": "ipython",
    "version": 3
   },
   "file_extension": ".py",
   "mimetype": "text/x-python",
   "name": "python",
   "nbconvert_exporter": "python",
   "pygments_lexer": "ipython3",
   "version": "3.8.8"
  }
 },
 "nbformat": 4,
 "nbformat_minor": 5
}
