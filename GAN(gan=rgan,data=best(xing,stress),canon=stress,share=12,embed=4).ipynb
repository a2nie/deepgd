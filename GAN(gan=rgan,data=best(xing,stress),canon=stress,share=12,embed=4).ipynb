{
 "cells": [
  {
   "cell_type": "markdown",
   "metadata": {
    "id": "wZtYFEhHoBGp"
   },
   "source": [
    "# Import libraries"
   ]
  },
  {
   "cell_type": "code",
   "execution_count": 1,
   "metadata": {
    "id": "KJPfzpxLQI5O"
   },
   "outputs": [],
   "source": [
    "%load_ext autoreload\n",
    "%autoreload 2\n",
    "from deepgd import *"
   ]
  },
  {
   "cell_type": "markdown",
   "metadata": {
    "id": "z4eBEyB1oaJe"
   },
   "source": [
    "# Config"
   ]
  },
  {
   "cell_type": "code",
   "execution_count": 2,
   "metadata": {
    "id": "Q_-MLFhpNvxF"
   },
   "outputs": [],
   "source": [
    "cuda_idx = 0\n",
    "canonicalization = CanonicalizationByStress()\n",
    "config = StaticConfig({\n",
    "    \"name\": 'GAN(gan=rgan,data=best(xing,stress),canon=stress,share=12,embed=4)',\n",
    "    \"uid\": None,\n",
    "    \"link\": None,\n",
    "    \"generator\": {\n",
    "        \"params\": {\n",
    "            \"num_blocks\": 9,\n",
    "            \"normalize\": canonicalization\n",
    "        },\n",
    "        \"pretrained\": {\n",
    "            \"name\": None,\n",
    "            \"epoch\": -1,\n",
    "        },\n",
    "        \"optim\": torch.optim.AdamW,\n",
    "        \"lr\" : {\n",
    "            \"initial\": 1e-3,\n",
    "            \"decay\": 0.99,\n",
    "        },\n",
    "    },\n",
    "    \"discriminator\": {\n",
    "        \"params\": {\n",
    "            \"conv\": [2, 16, 16, 16],\n",
    "            \"dense\": [2],\n",
    "            \"shared_depth\": 12,\n",
    "            \"enet_depth\": 4,\n",
    "            \"enet_width\": 64,\n",
    "            \"aggr\": \"add\",\n",
    "            \"normalize\": canonicalization\n",
    "        },\n",
    "        \"pretrained\": {\n",
    "            \"name\": None,\n",
    "            \"epoch\": -1,\n",
    "        },\n",
    "        \"optim\": torch.optim.AdamW,\n",
    "        \"lr\" : {\n",
    "            \"initial\": 1e-3,\n",
    "            \"decay\": 0.99,\n",
    "        },\n",
    "        \"noise\": {\n",
    "            \"std\": 0,\n",
    "            \"decay\": 0.95,\n",
    "        },\n",
    "        \"repeat\": 1,\n",
    "        \"complete\": True,\n",
    "        \"adaptive\": True\n",
    "    },\n",
    "    \"alternate\": \"epoch\",\n",
    "    \"batchsize\": 24,\n",
    "    \"epoch\": {\n",
    "        \"start\": -1,\n",
    "        \"end\": None,\n",
    "    },\n",
    "    \"log_interval\": 1,\n",
    "    \"test\": {\n",
    "        \"name\": \"test\",\n",
    "        \"epoch\": -1,\n",
    "    },\n",
    "    \"gan_flavor\": \"rgan\",\n",
    "    \"gp_weight\": 0,\n",
    "})\n",
    "data_config = StaticConfig({\n",
    "    \"sparse\": False,\n",
    "    \"pivot\": None,\n",
    "    \"init\": \"pmds\",\n",
    "    \"edge\": {\n",
    "        \"index\": \"full_edge_index\",\n",
    "        \"attr\": \"full_edge_attr\",\n",
    "    },\n",
    "})\n",
    "loss_fns = {\n",
    "    Stress(): 1\n",
    "}\n",
    "ctrler_params = {\n",
    "    \"tau\": 0.95,\n",
    "    \"beta\": 1,\n",
    "    \"exploit_rate\": 0.5,\n",
    "    \"warmup\": 2,\n",
    "}\n",
    "paths = StaticConfig({\n",
    "    \"root\": \"artifacts\",\n",
    "    \"checkpoints\": lambda: f\"{paths.root}/checkpoints/{config.name}\",\n",
    "    \"gen_pretrain\": lambda: f\"{paths.root}/checkpoints/{config.generator.pretrained.name}\",\n",
    "    \"dis_pretrain\": lambda: f\"{paths.root}/checkpoints/{config.discriminator.pretrained.name}\",\n",
    "    \"tensorboard\": lambda: f\"{paths.root}/tensorboards/{config.name}\",\n",
    "    \"visualization\": lambda: f\"{paths.root}/visualizations/{config.name}_{config.test.name}\",\n",
    "    \"log\": lambda: f\"{paths.root}/logs/{config.name}.log\",\n",
    "    \"metrics\": lambda suffix: f\"{paths.root}/metrics/{config.name}_{suffix}.pickle\",\n",
    "})"
   ]
  },
  {
   "cell_type": "code",
   "execution_count": 3,
   "metadata": {
    "id": "mdMEAbH10Qaq"
   },
   "outputs": [],
   "source": [
    "if \" \" in config.name:\n",
    "    raise Exception(\"Space is not allowed in model name.\")"
   ]
  },
  {
   "cell_type": "markdown",
   "metadata": {
    "id": "WynW4ZAdBhep"
   },
   "source": [
    "# Prepare"
   ]
  },
  {
   "cell_type": "markdown",
   "metadata": {
    "id": "DR6-vYtr_i_P"
   },
   "source": [
    "## Get log command"
   ]
  },
  {
   "cell_type": "code",
   "execution_count": 4,
   "metadata": {
    "colab": {
     "base_uri": "https://localhost:8080/"
    },
    "id": "9-QpinlslcTO",
    "outputId": "48ae3716-212c-4d46-9efb-b7b4070f73de"
   },
   "outputs": [
    {
     "name": "stdout",
     "output_type": "stream",
     "text": [
      "cd /users/PAS0027/osu10203/deepgd && tail -n1000 -f 'artifacts/logs/GAN(gan=rgan,data=best(xing,stress),canon=stress,share=12,embed=4).log'\n"
     ]
    }
   ],
   "source": [
    "print(f\"cd {os.getcwd()} && tail -n1000 -f '{paths.log()}'\")"
   ]
  },
  {
   "cell_type": "code",
   "execution_count": 5,
   "metadata": {},
   "outputs": [
    {
     "name": "stdout",
     "output_type": "stream",
     "text": [
      "tensorboard dev upload --logdir 'artifacts/tensorboards/GAN(gan=rgan,data=best(xing,stress),canon=stress,share=12,embed=4)'\n"
     ]
    }
   ],
   "source": [
    "print(f\"tensorboard dev upload --logdir '{paths.tensorboard()}'\")"
   ]
  },
  {
   "cell_type": "markdown",
   "metadata": {
    "id": "innqkwvH_ydD"
   },
   "source": [
    "## Set globals"
   ]
  },
  {
   "cell_type": "code",
   "execution_count": 6,
   "metadata": {
    "id": "Qjq7JlSZlkQR"
   },
   "outputs": [],
   "source": [
    "if cuda_idx is not None and torch.cuda.is_available():\n",
    "    device = f'cuda:{cuda_idx}'\n",
    "    pynvml.nvmlInit()\n",
    "    cuda = pynvml.nvmlDeviceGetHandleByIndex(cuda_idx)\n",
    "else:\n",
    "    device = 'cpu'\n",
    "    cuda =  None\n",
    "np.set_printoptions(precision=2)\n",
    "warnings.filterwarnings(\"ignore\", category=RuntimeWarning)"
   ]
  },
  {
   "cell_type": "markdown",
   "metadata": {
    "id": "0da286l_ApEL"
   },
   "source": [
    "## Load data"
   ]
  },
  {
   "cell_type": "code",
   "execution_count": 7,
   "metadata": {
    "colab": {
     "base_uri": "https://localhost:8080/"
    },
    "id": "RFuSHiZJMU4x",
    "outputId": "54065609-aaea-4536-d79c-73bc73b3f576"
   },
   "outputs": [
    {
     "name": "stdout",
     "output_type": "stream",
     "text": [
      "Load from 'cache/G_list.pickle'\n",
      "Load from 'cache/generate_data_list(list,sparse=False,pivot_mode=None,init_mode=pmds,edge_index=full_edge_index,edge_attr=full_edge_attr,pmds_list=ndarray,gviz_list=ndarray,noisy_layout=True,device=cpu).pickle'\n"
     ]
    },
    {
     "name": "stderr",
     "output_type": "stream",
     "text": [
      "/users/PAS0027/osu10203/.conda/envs/deepgd/lib/python3.9/site-packages/torch_geometric/deprecation.py:13: UserWarning: 'data.DataLoader' is deprecated, use 'loader.DataLoader' instead\n",
      "  warnings.warn(out)\n"
     ]
    }
   ],
   "source": [
    "G_list = load_G_list(data_path='data/rome', index_file='data_index.txt', cache='G_list', cache_prefix='cache/')\n",
    "data_list = generate_data_list(G_list, \n",
    "                               sparse=data_config.sparse, \n",
    "                               pivot_mode=data_config.pivot,\n",
    "                               init_mode=data_config.init,\n",
    "                               edge_index=data_config.edge.index,\n",
    "                               edge_attr=data_config.edge.attr,\n",
    "                               pmds_list=np.load('layouts/rome/pmds.npy', allow_pickle=True),\n",
    "                               gviz_list=np.load('layouts/rome/gviz.npy', allow_pickle=True),\n",
    "                               noisy_layout=True,\n",
    "                               device='cpu', \n",
    "                               cache=True,\n",
    "                               cache_prefix='cache/')\n",
    "train_loader = LazyDeviceMappingDataLoader(data_list[:10000], batch_size=config.batchsize, shuffle=True, device=device)\n",
    "val_loader = LazyDeviceMappingDataLoader(data_list[11000:], batch_size=config.batchsize, shuffle=False, device=device)"
   ]
  },
  {
   "cell_type": "code",
   "execution_count": 8,
   "metadata": {
    "id": "djd1pLt2OxZq"
   },
   "outputs": [],
   "source": [
    "def draw_layout(G, method, draw=True):\n",
    "    if method == 'fa2':\n",
    "        layout = get_fa2_layout(G)\n",
    "    else:\n",
    "        try:\n",
    "            fn = getattr(nx.drawing.layout, f'{method}_layout')\n",
    "            layout = fn(G)\n",
    "        except:\n",
    "            layout = nx.drawing.nx_agraph.graphviz_layout(G, prog=method)\n",
    "    if draw:\n",
    "        nx.draw(G, pos=layout)\n",
    "    return layout"
   ]
  },
  {
   "cell_type": "code",
   "execution_count": 9,
   "metadata": {
    "id": "2vBBw77lR7Em"
   },
   "outputs": [],
   "source": [
    "methods = ['neato', 'dot', 'fdp', 'sfdp', 'twopi', 'circo', 'shell', 'spring', 'circular', 'spectral', 'kamada_kawai', 'fa2', 'pmds']"
   ]
  },
  {
   "cell_type": "code",
   "execution_count": 10,
   "metadata": {
    "id": "dx6VVA9XIc2O"
   },
   "outputs": [],
   "source": [
    "from functools import lru_cache\n",
    "\n",
    "@lru_cache(maxsize=None)\n",
    "def load_pos(method):\n",
    "    return np.load(f'layouts/rome/{method}.npy', allow_pickle=True)"
   ]
  },
  {
   "cell_type": "code",
   "execution_count": 11,
   "metadata": {
    "colab": {
     "base_uri": "https://localhost:8080/",
     "height": 1000,
     "referenced_widgets": [
      "05a37aeeb20049dfa2f97287b3990556",
      "a75afae3adfd4810a0b0991a062535ee",
      "a24ae105ed124595992f7e2e5f909247",
      "01b4cabaf8004dd4b9269b4e6889c498",
      "f3c7c84f2b314bd8b97a7358deaf4fa1",
      "35e4a83e692b4a7bafb46fdf192b2586",
      "62847b5e2678459f845159eef6d4feab",
      "143e81f00313436dacfa246a57108944",
      "e05833f11803400b95ff22246cdc8f2b",
      "53aeede91e074378b5d7f626165655ee",
      "79a43768c1794a10a788a49e5883aa2c"
     ]
    },
    "id": "MSmP-jem9I0X",
    "outputId": "c698f0bf-e96e-4de9-aeda-0b046fc0a03f",
    "scrolled": true,
    "tags": []
   },
   "outputs": [],
   "source": [
    "# best_list = []\n",
    "# best_layout_list = []\n",
    "# for idx, (G, data) in enumerate(zip(tqdm(G_list), data_list)):\n",
    "#     xing, stress, layout = {}, {}, {}\n",
    "#     for m in methods:\n",
    "#         batch = Batch.from_data_list([data])\n",
    "#         pos = load_pos(m)\n",
    "#         p = CanonicalizationByStress()(torch.tensor(pos[idx]).float(), batch)\n",
    "#         x = Xing()(p, batch).item()\n",
    "#         s = Stress()(p, batch).item()\n",
    "#         xing[m] = x\n",
    "#         stress[m] = s\n",
    "#         layout[m] = p.numpy()\n",
    "#         # plt.figure()\n",
    "#         # graph_vis(G, pos[idx])\n",
    "#         # plt.title(f'{m} stress={s:.2f} xing={x}')\n",
    "#     best, *_ = sorted(methods, key=lambda m: (xing[m], stress[m]))\n",
    "#     best_list.append(best)\n",
    "#     best_layout_list.append(layout[best])\n",
    "#     print(f'{best}, xing={xing[best]}, stress={stress[best]:.2f}')"
   ]
  },
  {
   "cell_type": "code",
   "execution_count": 12,
   "metadata": {
    "colab": {
     "base_uri": "https://localhost:8080/"
    },
    "id": "Mx2bZNugdTqa",
    "outputId": "cec05a67-18e8-492f-aaa1-057274a8341a"
   },
   "outputs": [],
   "source": [
    "# pickle.dump(best_list, open('layouts/rome/best[xing,stress].pkl', 'wb'))\n",
    "# np.save('layouts/rome/best[xing,stress].npy', best_layout_list)"
   ]
  },
  {
   "cell_type": "code",
   "execution_count": 13,
   "metadata": {
    "colab": {
     "base_uri": "https://localhost:8080/",
     "height": 49,
     "referenced_widgets": [
      "7e0ae84dd0f3458d893c81b029fe1729",
      "18bdc3bf80fb434abde68de5b72a8870",
      "2e3552ded9594635a51832387ae754a0",
      "54f4aa5080c6498080a63be2cdeefee5",
      "3937586d0879451da5e2138ca3bfd0a0",
      "a9df6e84ce8c499eb2b2cf984995d791",
      "7af6b718dd3d4e01b264377a2fa938e2",
      "a774c86e64004bd6951645f1c24abad4",
      "c86575117cd041f2837762f37d1f387b",
      "6e9907cefb1241688fbd248b8281ed9f",
      "9b8e5405d8264944acab57e81f2f5ad6"
     ]
    },
    "id": "A1-w1fspC53p",
    "outputId": "09c2d5c3-1eef-41eb-dcee-581af1294804"
   },
   "outputs": [
    {
     "data": {
      "application/vnd.jupyter.widget-view+json": {
       "model_id": "8563632f0a1e4624873153b8becb026a",
       "version_major": 2,
       "version_minor": 0
      },
      "text/plain": [
       "  0%|          | 0/11531 [00:00<?, ?it/s]"
      ]
     },
     "metadata": {},
     "output_type": "display_data"
    }
   ],
   "source": [
    "best_layout_list = np.load('layouts/rome/best[xing,stress].npy', allow_pickle=True)\n",
    "for data, layout in zip(tqdm(data_list), best_layout_list):\n",
    "    data.gt_pos = torch.tensor(layout)"
   ]
  },
  {
   "cell_type": "code",
   "execution_count": 14,
   "metadata": {
    "id": "y6EGh4U7exL_"
   },
   "outputs": [],
   "source": [
    "train_loader = LazyDeviceMappingDataLoader(data_list[:10000], batch_size=config.batchsize, shuffle=True, device=device)\n",
    "val_loader = LazyDeviceMappingDataLoader(data_list[11000:], batch_size=config.batchsize, shuffle=False, device=device)"
   ]
  },
  {
   "cell_type": "code",
   "execution_count": 15,
   "metadata": {
    "colab": {
     "base_uri": "https://localhost:8080/",
     "height": 103,
     "referenced_widgets": [
      "38a33cf69aff48f4aabd4902a7ce48b1",
      "57e277bcb44c4e2fa2a12105d75153d1",
      "20ce017c46bd4a7c9b420270ac579405",
      "13f2df4fe0ce4af88b6e3bd1637065b0",
      "2867faa145ca4860a198d4d0bf830f89",
      "02838cf669174ed9afa41a1a8e680765",
      "7e9e3c031667455f8baca163d3a213e5",
      "4000135e7dfa46529fa6244fccc5cb57",
      "e523e9faac5b4ec38643c05ac5ba99f7",
      "e8e3ee9741e4480dae5003ccc19a7891",
      "9a569045221b43acb3ba2fbf116b2c74"
     ]
    },
    "id": "YEfRRUK0NiNm",
    "outputId": "93f53d05-7667-4cda-a38e-c3a953124f79"
   },
   "outputs": [],
   "source": [
    "# for m in methods:\n",
    "#     layouts = []\n",
    "#     for G in tqdm(G_list):\n",
    "#         layout = draw_layout(G, method=m, draw=False)\n",
    "#         layouts.append(np.array(list(layout.values())))\n",
    "#     np.save(f'layouts/rome/{m}.npy', layouts)"
   ]
  },
  {
   "cell_type": "code",
   "execution_count": 16,
   "metadata": {
    "colab": {
     "base_uri": "https://localhost:8080/",
     "height": 564
    },
    "id": "upK7AHYqPmC5",
    "outputId": "29a88e61-f55f-409c-9194-12c6d5762528"
   },
   "outputs": [],
   "source": [
    "# from collections import Counter\n",
    "\n",
    "# letter_counts = Counter(best_list)\n",
    "# df = pd.DataFrame.from_dict(letter_counts, orient='index')\n",
    "# df.plot(kind='bar', figsize=[12, 8])"
   ]
  },
  {
   "cell_type": "markdown",
   "metadata": {
    "id": "f-ODE2k8BFV6"
   },
   "source": [
    "## Create folders"
   ]
  },
  {
   "cell_type": "code",
   "execution_count": 17,
   "metadata": {
    "id": "3ykUMINYBRog"
   },
   "outputs": [],
   "source": [
    "mkdirs(paths.checkpoints(), paths.tensorboard(), paths.visualization(), f\"{paths.root}/logs\", f\"{paths.root}/metrics\")"
   ]
  },
  {
   "cell_type": "markdown",
   "metadata": {
    "id": "BFq9k5nzBIh5"
   },
   "source": [
    "## Load checkpoints"
   ]
  },
  {
   "cell_type": "code",
   "execution_count": 18,
   "metadata": {
    "id": "W5NbsKkobIfA"
   },
   "outputs": [],
   "source": [
    "class EdgeFeatureDiscriminator(nn.Module):\n",
    "    def __init__(self, \n",
    "                 conv, \n",
    "                 dense,\n",
    "                 shared_depth,\n",
    "                 enet_depth,\n",
    "                 enet_width,\n",
    "                 aggr='add', \n",
    "                 root_weight=True,\n",
    "                 normalize=None):\n",
    "        super().__init__()\n",
    "        self.enet = nn.Sequential(*[\n",
    "            DenseLayer(in_dim=in_d,\n",
    "                       out_dim=out_d,\n",
    "                       skip=nonlin,\n",
    "                       bn=nonlin,\n",
    "                       act=nonlin,\n",
    "                       dp=None)\n",
    "            for in_d, out_d, nonlin \n",
    "            in zip([self._get_feature_dim()] + [enet_width] * (shared_depth-1),\n",
    "                   [enet_width] * shared_depth,\n",
    "                   [True] * (shared_depth-1) + [False])     \n",
    "        ])\n",
    "        self.blocks = nn.ModuleList([\n",
    "            GNNLayer(nfeat_dims=(in_d, out_d),\n",
    "                     efeat_dim=enet_width,\n",
    "                     edge_net=EdgeNet(nfeat_dims=(in_d, out_d), \n",
    "                                      efeat_dim=enet_width, \n",
    "                                      depth=enet_depth, \n",
    "                                      width=enet_width),\n",
    "                     aggr=aggr,\n",
    "                     dense=False,\n",
    "                     skip=nonlin,\n",
    "                     bn=nonlin,\n",
    "                     act=nonlin,\n",
    "                     root_weight=root_weight) \n",
    "            for in_d, out_d, nonlin \n",
    "            in zip(conv[:-1], conv[1:], [True] * (len(conv)-2) + [False])     \n",
    "        ])\n",
    "        self.pool = (gnn.global_mean_pool if aggr == 'mean' \n",
    "                     else gnn.global_add_pool if aggr == 'add' \n",
    "                     else None)\n",
    "        self.dense = nn.Identity() if not dense else nn.Sequential(*[\n",
    "            DenseLayer(in_dim=in_d,\n",
    "                       out_dim=out_d,\n",
    "                       skip=nonlin,\n",
    "                       bn=nonlin,\n",
    "                       act=nonlin,\n",
    "                       dp=None)\n",
    "            for in_d, out_d, nonlin \n",
    "            in zip(conv[-1:] + dense[:-1], dense, [True] * (len(dense)-1) + [False])     \n",
    "        ])\n",
    "        self.normalize = normalize or IdentityTransformation()\n",
    "    \n",
    "    def forward(self, batch):\n",
    "        x = torch.ones_like(batch.pos)\n",
    "        e = self.enet(self._get_features(self._get_edge_info(batch, layout='pos')))\n",
    "        for block in self.blocks:\n",
    "            x = block(x, e, batch)\n",
    "        x = self.pool(x, batch.batch)\n",
    "        x = self.dense(x)\n",
    "        return x\n",
    "    \n",
    "    def _get_edge_info(self, batch, layout='gt_pos'):\n",
    "        pos = self.normalize(batch[layout].float(), batch)\n",
    "        src, dst = get_edges(pos, batch)\n",
    "        v, u = l2_normalize(dst - src, return_norm=True)\n",
    "        d = batch.edge_attr[:, :1]\n",
    "        return {\n",
    "            \"src\": src,\n",
    "            \"dst\": dst,\n",
    "            \"v\": v,\n",
    "            \"u\": u,\n",
    "            \"d\": d,\n",
    "        }\n",
    "\n",
    "    def _get_features(self, edges):\n",
    "        return torch.cat([edges['src'], edges['dst'], edges['d']], dim=1)\n",
    "        \n",
    "    def _get_feature_dim(self):\n",
    "        return self._get_features({\n",
    "            \"src\": torch.zeros(1, 2),\n",
    "            \"dst\": torch.zeros(1, 2),\n",
    "            \"v\": torch.zeros(1, 2),\n",
    "            \"u\": torch.zeros(1, 1),\n",
    "            \"d\": torch.zeros(1, 1),\n",
    "        }).shape[-1]"
   ]
  },
  {
   "cell_type": "code",
   "execution_count": 19,
   "metadata": {
    "id": "96ZActxlL0fJ"
   },
   "outputs": [],
   "source": [
    "class StressDiscriminator(nn.Module):\n",
    "    def __init__(self, normalize=CanonicalizationByStress(), **kwargs):\n",
    "        super().__init__()\n",
    "        self.dummy = nn.Parameter(torch.zeros(1))\n",
    "        self.normalize = normalize\n",
    "        self.stress = Stress(reduce=None)\n",
    "\n",
    "    def forward(self, batch):\n",
    "        return -self.stress(self.normalize(batch.pos, batch), batch)"
   ]
  },
  {
   "cell_type": "code",
   "execution_count": 20,
   "metadata": {
    "id": "IJ6xCYBUuhcw"
   },
   "outputs": [],
   "source": [
    "def get_ckpt_epoch(folder, epoch):\n",
    "    if not os.path.isdir(folder):\n",
    "        os.mkdir(folder)\n",
    "    if epoch >= 0:\n",
    "        return epoch\n",
    "    ckpt_files = os.listdir(folder)\n",
    "    last_epoch = 0\n",
    "    if ckpt_files:\n",
    "        last_epoch = sorted(list(map(lambda x: int(re.search('(?<=epoch_)(\\d+)(?=\\.)', x).group(1)), ckpt_files)))[-1]\n",
    "    return last_epoch + epoch + 1\n",
    "\n",
    "def start_epoch():\n",
    "    return get_ckpt_epoch(paths.checkpoints(), config.epoch.start)"
   ]
  },
  {
   "cell_type": "code",
   "execution_count": 21,
   "metadata": {
    "colab": {
     "base_uri": "https://localhost:8080/"
    },
    "id": "JacDYXka9U01",
    "outputId": "ef4e31ab-2144-497c-8e4f-4d3740ce2d52"
   },
   "outputs": [
    {
     "name": "stdout",
     "output_type": "stream",
     "text": [
      "Loading from artifacts/checkpoints/GAN(gan=rgan,data=best(xing,stress),canon=stress,share=12,embed=4)/gen_epoch_1096.pt...\n",
      "Loading from artifacts/checkpoints/GAN(gan=rgan,data=best(xing,stress),canon=stress,share=12,embed=4)/gen_optim_epoch_1096.pt...\n"
     ]
    }
   ],
   "source": [
    "generator = Generator(**config.generator.params[...]).to(device)\n",
    "generator_optimizer = config.generator.optim(generator.parameters(), lr=config.generator.lr.initial * config.generator.lr.decay ** start_epoch())\n",
    "generator_scheduler = torch.optim.lr_scheduler.ExponentialLR(generator_optimizer, gamma=config.generator.lr.decay)\n",
    "if start_epoch() != 0:\n",
    "    gen_ckpt_epoch = start_epoch()\n",
    "elif config.generator.pretrained.name is not None and config.generator.pretrained.epoch != 0:\n",
    "    gen_pretrained_epoch = get_ckpt_epoch(paths.gen_pretrain(), config.generator.pretrained.epoch)\n",
    "    gen_ckpt_epoch = gen_pretrained_epoch \n",
    "else:\n",
    "    gen_ckpt_epoch = None\n",
    "if gen_ckpt_epoch is not None:\n",
    "    # Load generator\n",
    "    gen_ckpt_file = f\"{paths.checkpoints()}/gen_epoch_{gen_ckpt_epoch}.pt\"\n",
    "    print(f\"Loading from {gen_ckpt_file}...\")\n",
    "    generator.load_state_dict(torch.load(gen_ckpt_file, map_location=torch.device(device)))\n",
    "    # Load generator optimizer\n",
    "    gen_optim_ckpt_file = f\"{paths.checkpoints()}/gen_optim_epoch_{gen_ckpt_epoch}.pt\"\n",
    "    print(f\"Loading from {gen_optim_ckpt_file}...\")\n",
    "    generator_optimizer.load_state_dict(torch.load(gen_optim_ckpt_file, map_location=torch.device(device)))"
   ]
  },
  {
   "cell_type": "code",
   "execution_count": 22,
   "metadata": {
    "colab": {
     "base_uri": "https://localhost:8080/"
    },
    "id": "oWQhD7-88VXe",
    "outputId": "3ba01600-b546-4e45-a6bd-c7a65af1ae9e"
   },
   "outputs": [
    {
     "name": "stdout",
     "output_type": "stream",
     "text": [
      "Loading from artifacts/checkpoints/GAN(gan=rgan,data=best(xing,stress),canon=stress,share=12,embed=4)/dis_epoch_1096.pt...\n",
      "Loading from artifacts/checkpoints/GAN(gan=rgan,data=best(xing,stress),canon=stress,share=12,embed=4)/dis_optim_epoch_1096.pt...\n"
     ]
    }
   ],
   "source": [
    "discriminator = EdgeFeatureDiscriminator(**config.discriminator.params[...]).to(device)\n",
    "discriminator_optimizer = config.discriminator.optim(discriminator.parameters(), lr=config.discriminator.lr.initial * config.discriminator.lr.decay ** start_epoch())\n",
    "discriminator_scheduler = torch.optim.lr_scheduler.ExponentialLR(discriminator_optimizer, gamma=config.discriminator.lr.decay)\n",
    "if start_epoch() != 0:\n",
    "    dis_ckpt_epoch = start_epoch()\n",
    "elif config.discriminator.pretrained.name is not None and config.discriminator.pretrained.epoch != 0:\n",
    "    dis_pretrained_epoch = get_ckpt_epoch(paths.dis_pretrain(), config.discriminator.pretrained.epoch)\n",
    "    dis_ckpt_epoch = dis_pretrained_epoch # f\"{paths.dis_pretrain()}/dis_epoch_{dis_pretrained_epoch}.pt\"\n",
    "else:\n",
    "    dis_ckpt_epoch = None\n",
    "if dis_ckpt_epoch is not None:\n",
    "    # Load discriminator\n",
    "    dis_ckpt_file = f\"{paths.checkpoints()}/dis_epoch_{dis_ckpt_epoch}.pt\"\n",
    "    print(f\"Loading from {dis_ckpt_file}...\")\n",
    "    discriminator.load_state_dict(torch.load(dis_ckpt_file, map_location=torch.device(device)))\n",
    "    # Load discriminator optimizer\n",
    "    dis_optim_ckpt_file = f\"{paths.checkpoints()}/dis_optim_epoch_{dis_ckpt_epoch}.pt\"\n",
    "    print(f\"Loading from {dis_optim_ckpt_file}...\")\n",
    "    discriminator_optimizer.load_state_dict(torch.load(dis_optim_ckpt_file, map_location=torch.device(device)))"
   ]
  },
  {
   "cell_type": "markdown",
   "metadata": {
    "id": "N39dDHraedM6"
   },
   "source": [
    "# Train"
   ]
  },
  {
   "cell_type": "code",
   "execution_count": 23,
   "metadata": {
    "id": "BdIJSDSJedM-"
   },
   "outputs": [],
   "source": [
    "stress_criterion = StressDiscriminator().to(device)\n",
    "val_criterion = Stress(reduce=None)\n",
    "xing_criterion = Xing(reduce=None)\n",
    "dis_convert = DiscriminatorDataConverter(complete_graph=config.discriminator.complete, normalize=config.discriminator.params.normalize)\n",
    "tensorboard = SummaryWriter(log_dir=paths.tensorboard())\n",
    "epoch = start_epoch() + 1"
   ]
  },
  {
   "cell_type": "code",
   "execution_count": 24,
   "metadata": {
    "id": "OHRWj1h0edM-"
   },
   "outputs": [],
   "source": [
    "def gradient_penalty(interpolated, discriminator, weight=10):\n",
    "    interpolated.pos.requires_grad_()\n",
    "    prob_interpolated = discriminator(interpolated)\n",
    "    gradients = autograd.grad(outputs=prob_interpolated, \n",
    "                              inputs=interpolated.pos,\n",
    "                              grad_outputs=torch.ones_like(prob_interpolated),\n",
    "                              create_graph=True, \n",
    "                              retain_graph=True, \n",
    "                              allow_unused=True)[0]\n",
    "    gradients_norm = torch.sqrt(gnn.global_add_pool(gradients.square().sum(dim=1), batch.batch) + 1e-8)\n",
    "    return weight * ((gradients_norm - 1) ** 2).mean()"
   ]
  },
  {
   "cell_type": "code",
   "execution_count": 25,
   "metadata": {
    "id": "o5wJJN9AedM_"
   },
   "outputs": [],
   "source": [
    "def get_gp_loss(batch, fake_pos, weight):\n",
    "    if weight > 0:\n",
    "        interp = dis_convert(batch, fake_pos, random.random())\n",
    "        return gradient_penalty(interp, discriminator, weight).mean()\n",
    "    return 0"
   ]
  },
  {
   "cell_type": "code",
   "execution_count": 26,
   "metadata": {
    "id": "QwuA6sRoedM_"
   },
   "outputs": [],
   "source": [
    "def get_sgan_loss(batch, fake_pos, mode='discriminator'):\n",
    "    real = dis_convert(batch)\n",
    "    fake = dis_convert(batch, fake_pos)\n",
    "    pred = discriminator(merge_batch(real, fake)).view(2, -1).T\n",
    "    if mode == 'discriminator':\n",
    "        label = torch.zeros(pred.shape[0]).long()\n",
    "    elif mode == 'generator':\n",
    "        label = torch.ones(pred.shape[0]).long()\n",
    "    else:\n",
    "        raise Exception\n",
    "    return nn.CrossEntropyLoss()(pred, label)"
   ]
  },
  {
   "cell_type": "code",
   "execution_count": 27,
   "metadata": {
    "id": "GuAP1YchedNA"
   },
   "outputs": [],
   "source": [
    "def get_rgan_loss(batch, fake_pos, mode='discriminator'):\n",
    "    real = dis_convert(batch)\n",
    "    fake = dis_convert(batch, fake_pos)\n",
    "    pred = discriminator(merge_batch(real, fake)).view(2, -1).T\n",
    "    real_pred, fake_pred = pred[:,0], pred[:,1]\n",
    "    if mode == 'discriminator':\n",
    "        losses = - F.logsigmoid(real_pred - fake_pred)\n",
    "    elif mode == 'generator':\n",
    "        losses = - F.logsigmoid(fake_pred - real_pred)\n",
    "    else:\n",
    "        raise Exception\n",
    "    return losses.mean()"
   ]
  },
  {
   "cell_type": "code",
   "execution_count": 28,
   "metadata": {
    "id": "KFllQ7BredNA"
   },
   "outputs": [],
   "source": [
    "def get_wgan_loss(batch, fake_pos, mode='discriminator'):\n",
    "    real = dis_convert(batch)\n",
    "    fake = dis_convert(batch, fake_pos)\n",
    "    pred = discriminator(merge_batch(real, fake)).view(2, -1).T\n",
    "    real_pred, fake_pred = pred[:,0], pred[:,1]\n",
    "    if mode == 'discriminator':\n",
    "        losses = fake_pred - real_pred \n",
    "    elif mode == 'generator':\n",
    "        losses = real_pred - fake_pred\n",
    "    else:\n",
    "        raise Exception\n",
    "    return losses.mean()"
   ]
  },
  {
   "cell_type": "code",
   "execution_count": 29,
   "metadata": {
    "id": "r5Kg_tYEedNA"
   },
   "outputs": [],
   "source": [
    "def get_ragan_loss(batch, fake_pos, mode='discriminator'):\n",
    "    real = dis_convert(batch)\n",
    "    fake = dis_convert(batch, fake_pos)\n",
    "    pred = discriminator(merge_batch(real, fake)).view(2, -1).T\n",
    "    real_pred, fake_pred = pred[:,0], pred[:,1]\n",
    "    if mode == 'discriminator':\n",
    "        losses = - F.logsigmoid(real_pred - fake_pred.mean()) - F.logsigmoid(real_pred.mean() - fake_pred)\n",
    "    elif mode == 'generator':\n",
    "        losses = - F.logsigmoid(fake_pred - real_pred.mean()) - F.logsigmoid(fake_pred.mean() - real_pred)\n",
    "    else:\n",
    "        raise Exception\n",
    "    return losses.mean()"
   ]
  },
  {
   "cell_type": "code",
   "execution_count": 30,
   "metadata": {},
   "outputs": [],
   "source": [
    "def get_dgdv2_loss(batch, fake_pos, mode='discriminator'):\n",
    "    fake = dis_convert(batch, fake_pos)\n",
    "    pred = discriminator(fake)\n",
    "    if mode == 'discriminator':\n",
    "        gt = get_gt(batch, fake_pos)\n",
    "        loss = criterion(pred, gt)\n",
    "    elif mode == 'generator':\n",
    "        losses = pred.sum(dim=0)\n",
    "#         losses = torch.tensor(config.importance).to(device) * losses #/ losses.detach()\n",
    "        loss = losses.sum()\n",
    "    else:\n",
    "        raise Exception\n",
    "    return -loss"
   ]
  },
  {
   "cell_type": "code",
   "execution_count": 31,
   "metadata": {
    "id": "3IE_84f-edNB"
   },
   "outputs": [],
   "source": [
    "def get_gan_loss(batch, fake_pos, mode='discriminator'):\n",
    "    return {\"sgan\": get_sgan_loss,\n",
    "            \"wgan\": get_wgan_loss,\n",
    "            \"rgan\": get_rgan_loss,\n",
    "            \"ragan\": get_ragan_loss,\n",
    "            \"dgdv2\": get_dgdv2_loss}[config.gan_flavor](batch, fake_pos, mode)"
   ]
  },
  {
   "cell_type": "code",
   "execution_count": 32,
   "metadata": {
    "colab": {
     "background_save": true,
     "base_uri": "https://localhost:8080/",
     "height": 80
    },
    "id": "2NjekXgkedNB",
    "outputId": "da85b2ec-c0de-459c-c0dd-7ba3519419fa",
    "scrolled": true,
    "tags": []
   },
   "outputs": [
    {
     "data": {
      "application/vnd.jupyter.widget-view+json": {
       "model_id": "bd0584eb98f64a4daf9d11239988b5b6",
       "version_major": 2,
       "version_minor": 0
      },
      "text/plain": [
       "Tab(children=(VBox(children=(Wrapper(), Hud())), HBox(children=(Output(),), layout=Layout(height='500px', over…"
      ]
     },
     "metadata": {},
     "output_type": "display_data"
    },
    {
     "ename": "KeyboardInterrupt",
     "evalue": "",
     "output_type": "error",
     "traceback": [
      "\u001b[0;31m---------------------------------------------------------------------------\u001b[0m",
      "\u001b[0;31mKeyboardInterrupt\u001b[0m                         Traceback (most recent call last)",
      "\u001b[0;32m/tmp/slurmtmp.5826416/ipykernel_132086/801679965.py\u001b[0m in \u001b[0;36m<module>\u001b[0;34m\u001b[0m\n\u001b[1;32m    127\u001b[0m     \u001b[0;32mfor\u001b[0m \u001b[0m_\u001b[0m \u001b[0;32min\u001b[0m \u001b[0mrange\u001b[0m\u001b[0;34m(\u001b[0m\u001b[0mconfig\u001b[0m\u001b[0;34m.\u001b[0m\u001b[0mdiscriminator\u001b[0m\u001b[0;34m.\u001b[0m\u001b[0mrepeat\u001b[0m\u001b[0;34m)\u001b[0m\u001b[0;34m:\u001b[0m\u001b[0;34m\u001b[0m\u001b[0;34m\u001b[0m\u001b[0m\n\u001b[1;32m    128\u001b[0m         \u001b[0;32mfor\u001b[0m \u001b[0mbatch\u001b[0m \u001b[0;32min\u001b[0m \u001b[0mtrain_loader\u001b[0m\u001b[0;34m:\u001b[0m\u001b[0;34m\u001b[0m\u001b[0;34m\u001b[0m\u001b[0m\n\u001b[0;32m--> 129\u001b[0;31m             \u001b[0mtrain_dis\u001b[0m\u001b[0;34m(\u001b[0m\u001b[0mbatch\u001b[0m\u001b[0;34m,\u001b[0m \u001b[0mepoch\u001b[0m\u001b[0;34m)\u001b[0m\u001b[0;34m\u001b[0m\u001b[0;34m\u001b[0m\u001b[0m\n\u001b[0m\u001b[1;32m    130\u001b[0m             \u001b[0;32mif\u001b[0m \u001b[0mconfig\u001b[0m\u001b[0;34m.\u001b[0m\u001b[0malternate\u001b[0m \u001b[0;34m==\u001b[0m \u001b[0;34m'iteration'\u001b[0m\u001b[0;34m:\u001b[0m\u001b[0;34m\u001b[0m\u001b[0;34m\u001b[0m\u001b[0m\n\u001b[1;32m    131\u001b[0m                 \u001b[0mtrain_gen\u001b[0m\u001b[0;34m(\u001b[0m\u001b[0mbatch\u001b[0m\u001b[0;34m,\u001b[0m \u001b[0mepoch\u001b[0m\u001b[0;34m)\u001b[0m\u001b[0;34m\u001b[0m\u001b[0;34m\u001b[0m\u001b[0m\n",
      "\u001b[0;32m/tmp/slurmtmp.5826416/ipykernel_132086/801679965.py\u001b[0m in \u001b[0;36mtrain_dis\u001b[0;34m(batch, epoch)\u001b[0m\n\u001b[1;32m      9\u001b[0m     \u001b[0;31m# train discriminator\u001b[0m\u001b[0;34m\u001b[0m\u001b[0;34m\u001b[0m\u001b[0m\n\u001b[1;32m     10\u001b[0m     \u001b[0mdiscriminator_loss\u001b[0m\u001b[0;34m.\u001b[0m\u001b[0mbackward\u001b[0m\u001b[0;34m(\u001b[0m\u001b[0;34m)\u001b[0m\u001b[0;34m\u001b[0m\u001b[0;34m\u001b[0m\u001b[0m\n\u001b[0;32m---> 11\u001b[0;31m     \u001b[0mdiscriminator_optimizer\u001b[0m\u001b[0;34m.\u001b[0m\u001b[0mstep\u001b[0m\u001b[0;34m(\u001b[0m\u001b[0;34m)\u001b[0m\u001b[0;34m\u001b[0m\u001b[0;34m\u001b[0m\u001b[0m\n\u001b[0m\u001b[1;32m     12\u001b[0m \u001b[0;34m\u001b[0m\u001b[0m\n\u001b[1;32m     13\u001b[0m     \u001b[0;31m# gradient penalty\u001b[0m\u001b[0;34m\u001b[0m\u001b[0;34m\u001b[0m\u001b[0m\n",
      "\u001b[0;32m~/.conda/envs/deepgd/lib/python3.9/site-packages/torch/optim/lr_scheduler.py\u001b[0m in \u001b[0;36mwrapper\u001b[0;34m(*args, **kwargs)\u001b[0m\n\u001b[1;32m     63\u001b[0m                 \u001b[0minstance\u001b[0m\u001b[0;34m.\u001b[0m\u001b[0m_step_count\u001b[0m \u001b[0;34m+=\u001b[0m \u001b[0;36m1\u001b[0m\u001b[0;34m\u001b[0m\u001b[0;34m\u001b[0m\u001b[0m\n\u001b[1;32m     64\u001b[0m                 \u001b[0mwrapped\u001b[0m \u001b[0;34m=\u001b[0m \u001b[0mfunc\u001b[0m\u001b[0;34m.\u001b[0m\u001b[0m__get__\u001b[0m\u001b[0;34m(\u001b[0m\u001b[0minstance\u001b[0m\u001b[0;34m,\u001b[0m \u001b[0mcls\u001b[0m\u001b[0;34m)\u001b[0m\u001b[0;34m\u001b[0m\u001b[0;34m\u001b[0m\u001b[0m\n\u001b[0;32m---> 65\u001b[0;31m                 \u001b[0;32mreturn\u001b[0m \u001b[0mwrapped\u001b[0m\u001b[0;34m(\u001b[0m\u001b[0;34m*\u001b[0m\u001b[0margs\u001b[0m\u001b[0;34m,\u001b[0m \u001b[0;34m**\u001b[0m\u001b[0mkwargs\u001b[0m\u001b[0;34m)\u001b[0m\u001b[0;34m\u001b[0m\u001b[0;34m\u001b[0m\u001b[0m\n\u001b[0m\u001b[1;32m     66\u001b[0m \u001b[0;34m\u001b[0m\u001b[0m\n\u001b[1;32m     67\u001b[0m             \u001b[0;31m# Note that the returned function here is no longer a bound method,\u001b[0m\u001b[0;34m\u001b[0m\u001b[0;34m\u001b[0m\u001b[0m\n",
      "\u001b[0;32m~/.conda/envs/deepgd/lib/python3.9/site-packages/torch/optim/optimizer.py\u001b[0m in \u001b[0;36mwrapper\u001b[0;34m(*args, **kwargs)\u001b[0m\n\u001b[1;32m     86\u001b[0m                 \u001b[0mprofile_name\u001b[0m \u001b[0;34m=\u001b[0m \u001b[0;34m\"Optimizer.step#{}.step\"\u001b[0m\u001b[0;34m.\u001b[0m\u001b[0mformat\u001b[0m\u001b[0;34m(\u001b[0m\u001b[0mobj\u001b[0m\u001b[0;34m.\u001b[0m\u001b[0m__class__\u001b[0m\u001b[0;34m.\u001b[0m\u001b[0m__name__\u001b[0m\u001b[0;34m)\u001b[0m\u001b[0;34m\u001b[0m\u001b[0;34m\u001b[0m\u001b[0m\n\u001b[1;32m     87\u001b[0m                 \u001b[0;32mwith\u001b[0m \u001b[0mtorch\u001b[0m\u001b[0;34m.\u001b[0m\u001b[0mautograd\u001b[0m\u001b[0;34m.\u001b[0m\u001b[0mprofiler\u001b[0m\u001b[0;34m.\u001b[0m\u001b[0mrecord_function\u001b[0m\u001b[0;34m(\u001b[0m\u001b[0mprofile_name\u001b[0m\u001b[0;34m)\u001b[0m\u001b[0;34m:\u001b[0m\u001b[0;34m\u001b[0m\u001b[0;34m\u001b[0m\u001b[0m\n\u001b[0;32m---> 88\u001b[0;31m                     \u001b[0;32mreturn\u001b[0m \u001b[0mfunc\u001b[0m\u001b[0;34m(\u001b[0m\u001b[0;34m*\u001b[0m\u001b[0margs\u001b[0m\u001b[0;34m,\u001b[0m \u001b[0;34m**\u001b[0m\u001b[0mkwargs\u001b[0m\u001b[0;34m)\u001b[0m\u001b[0;34m\u001b[0m\u001b[0;34m\u001b[0m\u001b[0m\n\u001b[0m\u001b[1;32m     89\u001b[0m             \u001b[0;32mreturn\u001b[0m \u001b[0mwrapper\u001b[0m\u001b[0;34m\u001b[0m\u001b[0;34m\u001b[0m\u001b[0m\n\u001b[1;32m     90\u001b[0m \u001b[0;34m\u001b[0m\u001b[0m\n",
      "\u001b[0;32m~/.conda/envs/deepgd/lib/python3.9/site-packages/torch/autograd/grad_mode.py\u001b[0m in \u001b[0;36mdecorate_context\u001b[0;34m(*args, **kwargs)\u001b[0m\n\u001b[1;32m     26\u001b[0m         \u001b[0;32mdef\u001b[0m \u001b[0mdecorate_context\u001b[0m\u001b[0;34m(\u001b[0m\u001b[0;34m*\u001b[0m\u001b[0margs\u001b[0m\u001b[0;34m,\u001b[0m \u001b[0;34m**\u001b[0m\u001b[0mkwargs\u001b[0m\u001b[0;34m)\u001b[0m\u001b[0;34m:\u001b[0m\u001b[0;34m\u001b[0m\u001b[0;34m\u001b[0m\u001b[0m\n\u001b[1;32m     27\u001b[0m             \u001b[0;32mwith\u001b[0m \u001b[0mself\u001b[0m\u001b[0;34m.\u001b[0m\u001b[0m__class__\u001b[0m\u001b[0;34m(\u001b[0m\u001b[0;34m)\u001b[0m\u001b[0;34m:\u001b[0m\u001b[0;34m\u001b[0m\u001b[0;34m\u001b[0m\u001b[0m\n\u001b[0;32m---> 28\u001b[0;31m                 \u001b[0;32mreturn\u001b[0m \u001b[0mfunc\u001b[0m\u001b[0;34m(\u001b[0m\u001b[0;34m*\u001b[0m\u001b[0margs\u001b[0m\u001b[0;34m,\u001b[0m \u001b[0;34m**\u001b[0m\u001b[0mkwargs\u001b[0m\u001b[0;34m)\u001b[0m\u001b[0;34m\u001b[0m\u001b[0;34m\u001b[0m\u001b[0m\n\u001b[0m\u001b[1;32m     29\u001b[0m         \u001b[0;32mreturn\u001b[0m \u001b[0mcast\u001b[0m\u001b[0;34m(\u001b[0m\u001b[0mF\u001b[0m\u001b[0;34m,\u001b[0m \u001b[0mdecorate_context\u001b[0m\u001b[0;34m)\u001b[0m\u001b[0;34m\u001b[0m\u001b[0;34m\u001b[0m\u001b[0m\n\u001b[1;32m     30\u001b[0m \u001b[0;34m\u001b[0m\u001b[0m\n",
      "\u001b[0;32m~/.conda/envs/deepgd/lib/python3.9/site-packages/torch/optim/adamw.py\u001b[0m in \u001b[0;36mstep\u001b[0;34m(self, closure)\u001b[0m\n\u001b[1;32m    108\u001b[0m                 \u001b[0mstate_steps\u001b[0m\u001b[0;34m.\u001b[0m\u001b[0mappend\u001b[0m\u001b[0;34m(\u001b[0m\u001b[0mstate\u001b[0m\u001b[0;34m[\u001b[0m\u001b[0;34m'step'\u001b[0m\u001b[0;34m]\u001b[0m\u001b[0;34m)\u001b[0m\u001b[0;34m\u001b[0m\u001b[0;34m\u001b[0m\u001b[0m\n\u001b[1;32m    109\u001b[0m \u001b[0;34m\u001b[0m\u001b[0m\n\u001b[0;32m--> 110\u001b[0;31m             F.adamw(params_with_grad,\n\u001b[0m\u001b[1;32m    111\u001b[0m                     \u001b[0mgrads\u001b[0m\u001b[0;34m,\u001b[0m\u001b[0;34m\u001b[0m\u001b[0;34m\u001b[0m\u001b[0m\n\u001b[1;32m    112\u001b[0m                     \u001b[0mexp_avgs\u001b[0m\u001b[0;34m,\u001b[0m\u001b[0;34m\u001b[0m\u001b[0;34m\u001b[0m\u001b[0m\n",
      "\u001b[0;32m~/.conda/envs/deepgd/lib/python3.9/site-packages/torch/optim/_functional.py\u001b[0m in \u001b[0;36madamw\u001b[0;34m(params, grads, exp_avgs, exp_avg_sqs, max_exp_avg_sqs, state_steps, amsgrad, beta1, beta2, lr, weight_decay, eps)\u001b[0m\n\u001b[1;32m    130\u001b[0m         \u001b[0;31m# Decay the first and second moment running average coefficient\u001b[0m\u001b[0;34m\u001b[0m\u001b[0;34m\u001b[0m\u001b[0m\n\u001b[1;32m    131\u001b[0m         \u001b[0mexp_avg\u001b[0m\u001b[0;34m.\u001b[0m\u001b[0mmul_\u001b[0m\u001b[0;34m(\u001b[0m\u001b[0mbeta1\u001b[0m\u001b[0;34m)\u001b[0m\u001b[0;34m.\u001b[0m\u001b[0madd_\u001b[0m\u001b[0;34m(\u001b[0m\u001b[0mgrad\u001b[0m\u001b[0;34m,\u001b[0m \u001b[0malpha\u001b[0m\u001b[0;34m=\u001b[0m\u001b[0;36m1\u001b[0m \u001b[0;34m-\u001b[0m \u001b[0mbeta1\u001b[0m\u001b[0;34m)\u001b[0m\u001b[0;34m\u001b[0m\u001b[0;34m\u001b[0m\u001b[0m\n\u001b[0;32m--> 132\u001b[0;31m         \u001b[0mexp_avg_sq\u001b[0m\u001b[0;34m.\u001b[0m\u001b[0mmul_\u001b[0m\u001b[0;34m(\u001b[0m\u001b[0mbeta2\u001b[0m\u001b[0;34m)\u001b[0m\u001b[0;34m.\u001b[0m\u001b[0maddcmul_\u001b[0m\u001b[0;34m(\u001b[0m\u001b[0mgrad\u001b[0m\u001b[0;34m,\u001b[0m \u001b[0mgrad\u001b[0m\u001b[0;34m,\u001b[0m \u001b[0mvalue\u001b[0m\u001b[0;34m=\u001b[0m\u001b[0;36m1\u001b[0m \u001b[0;34m-\u001b[0m \u001b[0mbeta2\u001b[0m\u001b[0;34m)\u001b[0m\u001b[0;34m\u001b[0m\u001b[0;34m\u001b[0m\u001b[0m\n\u001b[0m\u001b[1;32m    133\u001b[0m         \u001b[0;32mif\u001b[0m \u001b[0mamsgrad\u001b[0m\u001b[0;34m:\u001b[0m\u001b[0;34m\u001b[0m\u001b[0;34m\u001b[0m\u001b[0m\n\u001b[1;32m    134\u001b[0m             \u001b[0;31m# Maintains the maximum of all 2nd moment running avg. till now\u001b[0m\u001b[0;34m\u001b[0m\u001b[0;34m\u001b[0m\u001b[0m\n",
      "\u001b[0;31mKeyboardInterrupt\u001b[0m: "
     ]
    }
   ],
   "source": [
    "def train_dis(batch, epoch):\n",
    "    generator.requires_grad_(False)\n",
    "    discriminator.zero_grad()\n",
    "    generator_output = generator(batch)\n",
    "    if config.discriminator.noise.std > 0:\n",
    "        generator_output = generator_output + torch.randn_like(generator_output) * config.discriminator.noise.std * config.discriminator.noise.decay ** epoch\n",
    "    discriminator_loss = get_gan_loss(batch, generator_output, mode='discriminator')\n",
    "    \n",
    "    # train discriminator\n",
    "    discriminator_loss.backward()\n",
    "    discriminator_optimizer.step()\n",
    "\n",
    "    # gradient penalty\n",
    "    if config.gp_weight > 0:\n",
    "        discriminator.zero_grad()\n",
    "        gp_loss = get_gp_loss(batch, generator_output, config.gp_weight)\n",
    "        gp_loss.backward()\n",
    "        discriminator_optimizer.step()\n",
    "\n",
    "    hud['dis_loss'] = format(discriminator_loss.item(), '.2e')\n",
    "    pbar().update()\n",
    "\n",
    "def train_gen(batch, epoch):\n",
    "    generator.requires_grad_(True)\n",
    "    generator.zero_grad()\n",
    "    discriminator.zero_grad()\n",
    "    generator_output = generator(batch)\n",
    "    if config.discriminator.noise.std > 0:\n",
    "        generator_output = generator_output + torch.randn_like(generator_output) * config.discriminator.noise.std * config.discriminator.noise.decay ** epoch\n",
    "    generator_loss = get_gan_loss(batch, generator_output, mode='generator') \n",
    "    \n",
    "    #train generator\n",
    "    generator_loss.backward()\n",
    "    generator_optimizer.step()\n",
    "\n",
    "    with torch.no_grad():\n",
    "        dis_batch = dis_convert(batch, generator_output)\n",
    "        stress = stress_criterion(dis_batch).mean()\n",
    "        critic = discriminator(dis_batch).mean()\n",
    "    hud.append({'gen_loss': format(generator_loss.item(), '.2e'),\n",
    "                'stress': format(stress.item(), '.2e'),\n",
    "                'critic': format(critic.item(), '.2e')})\n",
    "    pbar().update()\n",
    "\n",
    "def cuda_memsafe_map(fn, *iterables, summary=False):\n",
    "    total, failed = 0, 0\n",
    "    iterator = zip(*iterables)\n",
    "    items = None\n",
    "    while True:\n",
    "        try:\n",
    "            items = next(iterator)\n",
    "            yield fn(*items)\n",
    "        except StopIteration:\n",
    "            if summary:\n",
    "                print(f'Iteration finished. {failed} out of {total} failed!')\n",
    "            break\n",
    "        except RuntimeError:\n",
    "            print('CUDA memory overflow! Skip batch...')\n",
    "            del items\n",
    "            failed += 1\n",
    "        torch.cuda.empty_cache()\n",
    "        total += 1\n",
    "    \n",
    "def validate(model, data_loader, criterion=val_criterion):\n",
    "    def val_one_batch(batch):\n",
    "        batch = preprocess_batch(model, batch)\n",
    "        pred = CanonicalizationByStress()(model(batch), batch)\n",
    "        gt = CanonicalizationByStress()(batch.gt_pos, batch)\n",
    "        loss = criterion(pred, batch)\n",
    "        gt_loss = criterion(gt, batch)\n",
    "        spc = (loss - gt_loss) / torch.maximum(torch.maximum(loss, gt_loss), torch.ones_like(loss)*1e-5)\n",
    "        return loss.mean().item(), spc.mean().item()\n",
    "    loss_all, spc_all = zip(*cuda_memsafe_map(val_one_batch, data_loader))\n",
    "    return np.mean(loss_all), np.mean(spc_all)\n",
    "\n",
    "def log(msg):\n",
    "    msg = f\"[{epoch:03}] {msg}\"\n",
    "    print(msg, file=open(paths.log(), \"a\"))\n",
    "    with log_out: \n",
    "        print(msg)\n",
    "\n",
    "print(f\"{'='*10} {config.link} {'='*10}\", file=open(paths.log(), \"a\"))\n",
    "hud = Hud()\n",
    "pbar = Wrapper(tqdm, total=len(train_loader)*2, smoothing=0)\n",
    "plot_out = Output()\n",
    "log_out = Output()\n",
    "tabs = {\"status\": VBox([pbar, hud]), \n",
    "        \"plot\": HBox([plot_out], layout=Layout(height='500px', overflow_y='auto')),\n",
    "        \"log\": HBox([log_out], layout=Layout(height='500px', overflow_y='auto'))}\n",
    "tab_bar = Tab(children=list(tabs.values()))\n",
    "[tab_bar.set_title(i, name) for i, name in enumerate(tabs)]\n",
    "display(tab_bar)\n",
    "while True:\n",
    "    if epoch % config.log_interval == 0:\n",
    "        torch.save(generator.state_dict(), f\"{paths.checkpoints()}/gen_epoch_{epoch}.pt\")\n",
    "        torch.save(generator_optimizer.state_dict(), f\"{paths.checkpoints()}/gen_optim_epoch_{epoch}.pt\")\n",
    "        torch.save(discriminator.state_dict(), f\"{paths.checkpoints()}/dis_epoch_{epoch}.pt\")\n",
    "        torch.save(discriminator_optimizer.state_dict(), f\"{paths.checkpoints()}/dis_optim_epoch_{epoch}.pt\")\n",
    "        generator.eval()\n",
    "        with torch.no_grad():\n",
    "            val_stress, val_stress_spc = validate(model=generator, data_loader=val_loader)\n",
    "            val_xing, val_xing_spc = validate(model=generator, data_loader=val_loader, criterion=xing_criterion)\n",
    "            with plot_out:\n",
    "                fig = plt.figure()\n",
    "                graph_vis(G_list[11100], generator(make_batch(data_list[11100]).to(device)).cpu())\n",
    "                plt.show()\n",
    "        # tensorboard.add_scalars('loss', {'train': train_loss, \n",
    "        #                                  'validation': val_loss}, epoch)\n",
    "        # for i, fn in enumerate(loss_fns):\n",
    "        #     tensorboard.add_scalars(type(fn).__name__, {'train': train_loss_comp[i].item(), \n",
    "        #                                           'validation': val_loss_comp[i].item()}, epoch)\n",
    "        hud.append({\n",
    "            'val_stress': format(val_stress, '.2f'),\n",
    "            'val_stress_spc': format(val_stress_spc, '.2%'),\n",
    "            'val_xing': format(val_xing, '.2f'),\n",
    "            'val_xing_spc': format(val_xing_spc, '.2%'),\n",
    "        })\n",
    "        log(f\"stress={hud.data['val_stress']}({hud.data['val_stress_spc']}) xing={hud.data['val_xing']}({hud.data['val_xing_spc']})\")\n",
    "        \n",
    "    # handle.update(tab_bar)\n",
    "    pbar().reset()\n",
    "    pbar().set_description(desc=f\"[epoch {epoch}/{config.epoch.end}]\")\n",
    "    hud(title=f\"epoch {epoch}\")\n",
    "    generator.train()\n",
    "    discriminator.train()\n",
    "    # proper: proper layout\n",
    "    for _ in range(config.discriminator.repeat):\n",
    "        for batch in train_loader:\n",
    "            train_dis(batch, epoch)\n",
    "            if config.alternate == 'iteration':\n",
    "                train_gen(batch, epoch)\n",
    "\n",
    "    if config.alternate == 'epoch':\n",
    "        for batch in train_loader:\n",
    "            train_gen(batch, epoch)\n",
    "\n",
    "    discriminator_scheduler.step()\n",
    "    generator_scheduler.step()\n",
    "\n",
    "    if epoch == config.epoch.end:\n",
    "        break\n",
    "    epoch += 1"
   ]
  },
  {
   "cell_type": "markdown",
   "metadata": {
    "id": "0qYK_X_hrq9o"
   },
   "source": [
    "# Test"
   ]
  },
  {
   "cell_type": "code",
   "execution_count": 33,
   "metadata": {
    "colab": {
     "base_uri": "https://localhost:8080/"
    },
    "id": "XEvmAtNjWhcY",
    "outputId": "9f4c86a4-a4b0-48f1-cb58-ab3679173184"
   },
   "outputs": [
    {
     "name": "stdout",
     "output_type": "stream",
     "text": [
      "Loading from artifacts/checkpoints/GAN(gan=rgan,data=best(xing,stress),canon=stress,share=12,embed=4)/gen_epoch_359.pt...\n"
     ]
    },
    {
     "data": {
      "text/plain": [
       "<All keys matched successfully>"
      ]
     },
     "execution_count": 33,
     "metadata": {},
     "output_type": "execute_result"
    }
   ],
   "source": [
    "test_epoch = 359\n",
    "\n",
    "test_generator = Generator(**config.generator.params[...]).to(device)\n",
    "test_ckpt_epoch = get_ckpt_epoch(paths.checkpoints(), test_epoch)\n",
    "test_ckpt_file = f\"{paths.checkpoints()}/gen_epoch_{test_ckpt_epoch}.pt\"\n",
    "print(f\"Loading from {test_ckpt_file}...\")\n",
    "test_generator.load_state_dict(torch.load(test_ckpt_file, map_location=torch.device(device)))"
   ]
  },
  {
   "cell_type": "code",
   "execution_count": 34,
   "metadata": {
    "colab": {
     "background_save": true,
     "base_uri": "https://localhost:8080/",
     "height": 1000,
     "referenced_widgets": [
      "9b7d18992dbf4a84931f916fbaaa37d8",
      "2c664d7e1e6d474fb87094fc0da270d3",
      "d375f5f82a4645d7b29c541596dc1c7f",
      "ecfa311bb06b4f6fa504598263ff69d3",
      "d1859990877149eab2b414b4e2a0e0c7",
      "d2be6733734844bca3e1db9b49eb1c1e",
      "4d98072bdf674792a13d77e85dd285d1",
      "f7ed92c383d741a0a1cef2536ff2db13",
      "2ba110f835c64ec4b82974996aed10af",
      "09397ceac9014af0aebca848d4d96d48",
      "fd0709f48d6c4527bc00b5f407f3c1b9"
     ]
    },
    "id": "ZubmSTcYrq9o",
    "outputId": "fc2f65a2-2085-43ac-b110-cbfe742318a8",
    "scrolled": true,
    "tags": []
   },
   "outputs": [
    {
     "data": {
      "application/vnd.jupyter.widget-view+json": {
       "model_id": "8f309b2337d343b7b56dcfa99a0c0084",
       "version_major": 2,
       "version_minor": 0
      },
      "text/plain": [
       "  0%|          | 0/1000 [00:00<?, ?it/s]"
      ]
     },
     "metadata": {},
     "output_type": "display_data"
    }
   ],
   "source": [
    "rotate = RotateByPrincipalComponents()\n",
    "def test_callback(*, idx, pred, metrics):\n",
    "    # graph_vis(G_list[idx], pred, file_name=f\"{paths.visualization()}/{idx}_{metrics['stress']:.2f}_{metrics['resolution_score']:.2f}.png\")\n",
    "    pred = rotate(torch.tensor(pred), data_list[idx])\n",
    "    graph_vis(G_list[idx], pred)\n",
    "    plt.title(f\"[pred] idx: {idx}, stress: {metrics['stress']:.2f}({metrics['stress_spc']:.2%}), xing: {metrics['xing']:.2f}({metrics['xing_spc']:.2%})\")\n",
    "    plt.show()\n",
    "    gt_pos = rotate(data_list[idx].gt_pos, data_list[idx])\n",
    "    graph_vis(G_list[idx], gt_pos, node_color='orange')\n",
    "    plt.title(f\"[gt] idx: {idx}, stress: {metrics['gt_stress']:.2f}, xing: {metrics['gt_xing']:.2f}\")\n",
    "    plt.show()\n",
    "    \n",
    "test_metrics = test(model=test_generator, \n",
    "                    criteria_list=[], \n",
    "                    dataset=data_list, \n",
    "                    idx_range=range(10000, 11000), \n",
    "#                     callback=test_callback,\n",
    "                    gt_pos=None)\n",
    "pickle.dump(test_metrics, open(paths.metrics(\"test\"), \"wb\"))"
   ]
  },
  {
   "cell_type": "code",
   "execution_count": 35,
   "metadata": {
    "colab": {
     "base_uri": "https://localhost:8080/",
     "height": 318
    },
    "id": "t2rFXIr_PsrJ",
    "outputId": "6a4205b1-4630-4de4-ec72-bdba3d3ea114"
   },
   "outputs": [
    {
     "name": "stdout",
     "output_type": "stream",
     "text": [
      "stress: tensor(400.6060)\n",
      "stress_spc: tensor(0.1372, dtype=torch.float64)\n",
      "xing: tensor(26.3050)\n",
      "xing_spc: tensor(0.1292, dtype=torch.float64)\n",
      "l1_angle: tensor(78.5869)\n",
      "l1_angle_spc: tensor(0.0257, dtype=torch.float64)\n",
      "edge: tensor(0.1868)\n",
      "edge_spc: tensor(0.2165, dtype=torch.float64)\n",
      "ring: tensor(286.1196)\n",
      "ring_spc: tensor(0.0570, dtype=torch.float64)\n",
      "tsne: tensor(0.2172)\n",
      "tsne_spc: tensor(0.1206, dtype=torch.float64)\n",
      "reso_score: tensor(0.6103)\n",
      "min_angle: tensor(5.7684)\n"
     ]
    },
    {
     "data": {
      "text/html": [
       "<div>\n",
       "<style scoped>\n",
       "    .dataframe tbody tr th:only-of-type {\n",
       "        vertical-align: middle;\n",
       "    }\n",
       "\n",
       "    .dataframe tbody tr th {\n",
       "        vertical-align: top;\n",
       "    }\n",
       "\n",
       "    .dataframe thead th {\n",
       "        text-align: right;\n",
       "    }\n",
       "</style>\n",
       "<table border=\"1\" class=\"dataframe\">\n",
       "  <thead>\n",
       "    <tr style=\"text-align: right;\">\n",
       "      <th></th>\n",
       "      <th>0</th>\n",
       "      <th>1</th>\n",
       "      <th>2</th>\n",
       "      <th>3</th>\n",
       "      <th>4</th>\n",
       "      <th>5</th>\n",
       "      <th>6</th>\n",
       "      <th>7</th>\n",
       "      <th>8</th>\n",
       "      <th>9</th>\n",
       "      <th>10</th>\n",
       "      <th>11</th>\n",
       "      <th>12</th>\n",
       "      <th>13</th>\n",
       "    </tr>\n",
       "  </thead>\n",
       "  <tbody>\n",
       "    <tr>\n",
       "      <th>0</th>\n",
       "      <td>400.6060</td>\n",
       "      <td>0.1372</td>\n",
       "      <td>26.3050</td>\n",
       "      <td>0.1292</td>\n",
       "      <td>78.5869</td>\n",
       "      <td>0.0257</td>\n",
       "      <td>0.1868</td>\n",
       "      <td>0.2165</td>\n",
       "      <td>286.1196</td>\n",
       "      <td>0.0570</td>\n",
       "      <td>0.2172</td>\n",
       "      <td>0.1206</td>\n",
       "      <td>0.6103</td>\n",
       "      <td>5.7684</td>\n",
       "    </tr>\n",
       "  </tbody>\n",
       "</table>\n",
       "</div>"
      ],
      "text/plain": [
       "         0       1        2       3        4       5       6       7   \\\n",
       "0  400.6060  0.1372  26.3050  0.1292  78.5869  0.0257  0.1868  0.2165   \n",
       "\n",
       "         8       9       10      11      12      13  \n",
       "0  286.1196  0.0570  0.2172  0.1206  0.6103  5.7684  "
      ]
     },
     "execution_count": 35,
     "metadata": {},
     "output_type": "execute_result"
    }
   ],
   "source": [
    "metrics = test_metrics\n",
    "print('stress:', metrics['stress'].mean())\n",
    "print('stress_spc:', metrics['stress_spc'].mean())\n",
    "print('xing:', metrics['xing'].mean())\n",
    "print('xing_spc:', metrics['xing_spc'].mean())\n",
    "print('l1_angle:', metrics['l1_angle'].mean())\n",
    "print('l1_angle_spc:', metrics['l1_angle_spc'].mean())\n",
    "print('edge:', metrics['edge'].mean())\n",
    "print('edge_spc:', metrics['edge_spc'].mean())\n",
    "print('ring:', metrics['ring'].mean())\n",
    "print('ring_spc:', metrics['ring_spc'].mean())\n",
    "print('tsne:', metrics['tsne'].mean())\n",
    "print('tsne_spc:', metrics['tsne_spc'].mean())\n",
    "print('reso_score:', metrics['resolution_score'].mean())\n",
    "print('min_angle:', metrics['min_angle'].mean())\n",
    "pd.DataFrame(map(lambda m: f\"{metrics[m].mean().item():.4f}\", list(metrics.keys())[:-1])).T"
   ]
  },
  {
   "cell_type": "code",
   "execution_count": 36,
   "metadata": {
    "id": "5e7vPr0M3mmG"
   },
   "outputs": [],
   "source": [
    "metrics = {}"
   ]
  },
  {
   "cell_type": "code",
   "execution_count": 37,
   "metadata": {},
   "outputs": [],
   "source": [
    "methods = ['fa2']"
   ]
  },
  {
   "cell_type": "code",
   "execution_count": 38,
   "metadata": {
    "colab": {
     "base_uri": "https://localhost:8080/",
     "height": 433,
     "referenced_widgets": [
      "a0cf6e046add4e639e52db69656e0db9",
      "8e237731bb1241ac858581b25389c012",
      "0891547293ad4211a138a4d92e01bb0b",
      "34912c8e581e47a99a1c4829c38cb75c",
      "5aa034c99c94424e835a2ee954b829ed",
      "248f6393eff74c3eb8740ca6d698045b",
      "686687a29c7f4ec98c4d76ca2062b14b",
      "996a84d1c23b47e4a2af252c6b60f55d",
      "3507f883bb954412b21c1c5641763ed7",
      "9582a849d91e457cadd514c95d6e1b5b",
      "52bfe674c2c547e09b7400a32a96f703",
      "93d58b3a12394fe1aa6f0431fc7cb0db",
      "af1d7855c9d646b0bcc7d95c4cb147a6",
      "f820e2b898cd461da04a4f651d27273d",
      "c0a112cfaa3d4d0aa9530372de84d8fb",
      "fd03985495694fbf9feb3f31ef8d18ce",
      "e02a2b36aa4c4d6fb5d2ac6693c1a927",
      "06f388ff5e3a48828d465096fe69977b",
      "c0052778c9c940e88935593e9f94b83b",
      "99a5e77a192d4a989c4534237eb16730",
      "77c6da092a6647fc9e54f7e276d75616",
      "8c13c0e8b5934117a662a78296bcb1b6",
      "cdcc3bd4235247b48c468c0f6b7682cc",
      "a2c6fa6fef4549cc853fa93b4b18cf95",
      "15cc02a756314083801b5f6798a1948c",
      "24d1c67fe52f452ab0c767e3c1a818aa",
      "c117db25c6fd484a9d0c7f210ccb1ade",
      "b090b60b61084cf692b3066dfac7f0a8",
      "5eab9848059c491b9c6cbac88683f025",
      "e87ffbaa1f204b52b9226337a506b040",
      "cf52198a9e4b46c7b49537a79919c09e",
      "51501227bc064ccbab97c22a679a0750",
      "d1b794a997dc457888a90bf44faee9b4",
      "21a755b50e5047bea797eccf24b35a0c",
      "16e78c3823ec4faf9f9cd9095b218ff5",
      "4ccd332c6b734acd8eff236eaf568dfa",
      "bd60fd13748347e48629df78fa455765",
      "e9187e4ba80b4fafa0334dae2e39aded",
      "4c39ec7c92b4402e8eedcb27beabaab1",
      "59a8194269f943bba571f710ad856973",
      "8e41bc25b9f348b1b85b381547cd60d1",
      "34d0f1529e64437fb25e639b41096072",
      "7e832c7543df43668eb72c0aa6356349",
      "f94162c9c5fe4c2581e3b80beaeb820b",
      "0284946fccf34607b25e1d6d81d4f72a",
      "8e8d4243a3624ba58d760bdf601d5126",
      "b1f0932594fe44f4be4beb8880172871",
      "820bb554d139437b8f6a6997f9002261",
      "459e375d1fe4497cb4197ef88e303c6d",
      "5726814966da46bbba942a114de4b319",
      "448beea5445f4642809801da46aa7e7c",
      "3746c0f0daf04f51805b4c95db20063a",
      "2ff74d1c705348438a32da37910c3300",
      "52f03147b5ab4cb390f9802b7a17a508",
      "5428511d652a47348203e8f3cd2e076d",
      "7b58569bee2e44c5a61a81f9a32c4c01",
      "c5e05d74b9404333a8155304e3497ba2",
      "3ad4e058bde44d87abab780368d49118",
      "8e437049b5c74ff1beddad93e30b19aa",
      "0c61377f4cc34b27ae34bdd6d976d868",
      "9ce35f9a9a23436ea77604513b5c4659",
      "dafbc43ad79c4feda093aefe490fc4b3",
      "497160b6bf80469a89680a03a468c8bb",
      "3265725ecb914981b6f07f68b8a582df",
      "1f0ac20d99d04ffb9ee75613526d3de6",
      "dee0e5716560483b8e2b107566439d94",
      "ca99841a1abd4fbd94927c49aaa711cb",
      "163a44ff1be04583ae7bd62726c55204",
      "f3b727045a0b4b4fabd147ec9c843e14",
      "7c4b4fe859cf48ab99b7e2780a24a539",
      "d9700cffab66480cb81e3722faab4e8b",
      "2c49acc1e0a64aa4b8ec461b0596848e",
      "691817157f43412f9c36002167606b75",
      "d0ae688d71734b56bb348de54e841798",
      "07a364ebcdaa491dbcc2304e4a8dae96",
      "538b277307b1449eaa79a2a91b4741d3",
      "f7b7dd4cbaa5468687b988c5e416a154",
      "877be862a4f045ec8b221097626becb5",
      "1bf37012df0844338ac689d4f6cc8eab",
      "33fe06641be544d3aab2c25cb979416f",
      "68de0d9261fa4e6999967b6f196d149c",
      "7017c5ba1ffc467495aca2689e516f7d",
      "e0997460cc21428695a0c278c6691baf",
      "522443bef4904996b6361ea265c4c56f",
      "dfe044b67917466f971ba84a11956d5e",
      "70b2d0ba1c1d4102841fb963480de1c7",
      "7b158daacd754a40bc0a48fc9ea6fea2",
      "8904f61ff30741e488eacf0e49440f66",
      "685dee6f1e1f4c2983d2d0b8eb90ed00",
      "005155a4d62d48cbbaf3d69614b08d81",
      "d2779dfa620041e4b32a7731926a5982",
      "53048bf27cb24080b4cdf20379302223",
      "0b5bff7794a14a20964da70b87158c2c",
      "ec664e55ea16435590393ae1617cccea",
      "f10d62ef464a45a7935610d869c282e3",
      "5e7c09bc35db4a3a8b9847c6d8478883",
      "987ea331b617446facc81b08bab1f8c4",
      "446c5a687b0d43358ab036d43ce281c3",
      "d89e216f62ae4a9999da1a91dd5e48b9",
      "09d03e7e66f54cafacefbfeda5fd6e5c",
      "d58c680562a44bbd9252e7ec6eebc06c",
      "71ea2594fdd942acac1cc61055438544",
      "fecda4df301b437f9fbfb61a7b593dc0",
      "bcf6741d926248cb92acf627d6557d2b",
      "5bd9868b9bda4f68b500a43916e2d148",
      "4bc5e02035de44ad827c4f881fd75afc",
      "7d80033a955e4feb947ca9cea931d90b",
      "e975c796d80d498992a50f87a2b0105c",
      "028b2ff105904a19a9a3e8ebf66967bb",
      "10dbf2cbdb1943eda6a0acaf5da3fe85",
      "14d59c7acc5e4e07a289db44406a4851",
      "d9447df93d714907bc9c768eb4910352",
      "d4a9ace081bf488680a7e43e0eaed71d",
      "022a60cde19546bfa6ecfb4947615ad9",
      "10c01207d9ba4fe197dc80717fceecc0",
      "f4995936570d4ba1a65e9a66e410b505",
      "b4bf66303e61491385cd616076a11c04",
      "a24ab2bfe7a44263bf60936d6e53ec32",
      "59e2e8ecc9f84d57af7bf44f5bba5df7",
      "be2eb92aab8045a99fd19195c3546b60",
      "e6715db2b048434796e910952cb5eb62",
      "8de2335007ba4a6b9935fa0c514c9f6a",
      "493a4bbe8057437a8c8acf4d03f8dcb0",
      "20b03955acc74e238695717124705520",
      "a89f9507496b4cf8bdd63bdb9bff79c4",
      "9752a1f6c8b6488d9628b8e0c023f10f",
      "61a0bebc687341a7bb3352febc8d4986",
      "07e0ff9c82a444788c60edee70688ca7",
      "4427901f35e54cc48e08527bb402c22a",
      "bd9dafb825954091ba975d71ab8c89ea",
      "7ec0f07bfe51484da38c18dc66d77804",
      "03943afebc4d4b668b54c7a0fd014a37",
      "a7a6b38a76424d738146b6a5786cf2c8",
      "1d1aa4729784470584c0001c1a296008",
      "e0c68ac9b5b442eeb77e6d9ea3c1da42",
      "c858ef9fd9324ab0ab885d85e3c8582f",
      "627bc2899c994a0c96c5d43e89dc77ff",
      "0e2c2f21fa8041038151170992ecb848",
      "2d9bcbf7629a4671bf8755e790276eb7",
      "77a4edf6ab1848a6a6df20c1c07358c6",
      "acf2212d6bb44c729b63281a98377095",
      "0c7a72818da3454190bab7f30a29e249",
      "d865af915b8b4aaa8cec8d40f1f8351d"
     ]
    },
    "id": "s1UnzfID4Ai6",
    "outputId": "3e204e76-68fd-4111-f527-91f6e3b7a3ca"
   },
   "outputs": [
    {
     "data": {
      "application/vnd.jupyter.widget-view+json": {
       "model_id": "e1df7452f13f41ac92e4a515f1ceff60",
       "version_major": 2,
       "version_minor": 0
      },
      "text/plain": [
       "  0%|          | 0/1000 [00:00<?, ?it/s]"
      ]
     },
     "metadata": {},
     "output_type": "display_data"
    }
   ],
   "source": [
    "for m in methods:\n",
    "    metrics[m] = test(model=test_generator, \n",
    "                      criteria_list=[], \n",
    "                      dataset=data_list, \n",
    "                      idx_range=range(10000, 11000), \n",
    "                      callback=None,\n",
    "                      gt_pos=load_pos(m))"
   ]
  },
  {
   "cell_type": "code",
   "execution_count": 39,
   "metadata": {
    "id": "dQ7hdCtk5u6K"
   },
   "outputs": [],
   "source": [
    "mean_metrics = {key : list(map(lambda m: metrics[key][m].mean().item(), list(metrics[key].keys())[:-1])) for key in metrics}"
   ]
  },
  {
   "cell_type": "code",
   "execution_count": 40,
   "metadata": {
    "colab": {
     "base_uri": "https://localhost:8080/",
     "height": 313
    },
    "id": "OGyaCmLXTuvA",
    "outputId": "6c42d9f3-9869-4504-bc9c-d0eedaecfd90"
   },
   "outputs": [
    {
     "data": {
      "text/html": [
       "<style type=\"text/css\">\n",
       "</style>\n",
       "<table id=\"T_73ce2_\">\n",
       "  <thead>\n",
       "    <tr>\n",
       "      <th class=\"blank level0\" >&nbsp;</th>\n",
       "      <th class=\"col_heading level0 col0\" >stress</th>\n",
       "      <th class=\"col_heading level0 col1\" >stress_spc</th>\n",
       "      <th class=\"col_heading level0 col2\" >xing</th>\n",
       "      <th class=\"col_heading level0 col3\" >xing_spc</th>\n",
       "      <th class=\"col_heading level0 col4\" >l1_angle</th>\n",
       "      <th class=\"col_heading level0 col5\" >l1_angle_spc</th>\n",
       "      <th class=\"col_heading level0 col6\" >edge</th>\n",
       "      <th class=\"col_heading level0 col7\" >edge_spc</th>\n",
       "      <th class=\"col_heading level0 col8\" >ring</th>\n",
       "      <th class=\"col_heading level0 col9\" >ring_spc</th>\n",
       "      <th class=\"col_heading level0 col10\" >tsne</th>\n",
       "      <th class=\"col_heading level0 col11\" >tsne_spc</th>\n",
       "      <th class=\"col_heading level0 col12\" >reso_score</th>\n",
       "      <th class=\"col_heading level0 col13\" >min_angle</th>\n",
       "    </tr>\n",
       "  </thead>\n",
       "  <tbody>\n",
       "    <tr>\n",
       "      <th id=\"T_73ce2_level0_row0\" class=\"row_heading level0 row0\" >fa2</th>\n",
       "      <td id=\"T_73ce2_row0_col0\" class=\"data row0 col0\" >400.603699</td>\n",
       "      <td id=\"T_73ce2_row0_col1\" class=\"data row0 col1\" >-0.68%</td>\n",
       "      <td id=\"T_73ce2_row0_col2\" class=\"data row0 col2\" >26.304001</td>\n",
       "      <td id=\"T_73ce2_row0_col3\" class=\"data row0 col3\" >0.93%</td>\n",
       "      <td id=\"T_73ce2_row0_col4\" class=\"data row0 col4\" >78.567787</td>\n",
       "      <td id=\"T_73ce2_row0_col5\" class=\"data row0 col5\" >5.51%</td>\n",
       "      <td id=\"T_73ce2_row0_col6\" class=\"data row0 col6\" >0.186761</td>\n",
       "      <td id=\"T_73ce2_row0_col7\" class=\"data row0 col7\" >-5.61%</td>\n",
       "      <td id=\"T_73ce2_row0_col8\" class=\"data row0 col8\" >286.111450</td>\n",
       "      <td id=\"T_73ce2_row0_col9\" class=\"data row0 col9\" >4.56%</td>\n",
       "      <td id=\"T_73ce2_row0_col10\" class=\"data row0 col10\" >0.217177</td>\n",
       "      <td id=\"T_73ce2_row0_col11\" class=\"data row0 col11\" >8.67%</td>\n",
       "      <td id=\"T_73ce2_row0_col12\" class=\"data row0 col12\" >0.610296</td>\n",
       "      <td id=\"T_73ce2_row0_col13\" class=\"data row0 col13\" >5.749879</td>\n",
       "    </tr>\n",
       "  </tbody>\n",
       "</table>\n"
      ],
      "text/plain": [
       "<pandas.io.formats.style.Styler at 0x2ba63e228cd0>"
      ]
     },
     "execution_count": 40,
     "metadata": {},
     "output_type": "execute_result"
    }
   ],
   "source": [
    "columns = [\n",
    "    'stress',\n",
    "    'stress_spc',\n",
    "    'xing',\n",
    "    'xing_spc',\n",
    "    'l1_angle',\n",
    "    'l1_angle_spc',\n",
    "    'edge',\n",
    "    'edge_spc',\n",
    "    'ring',\n",
    "    'ring_spc',\n",
    "    'tsne',\n",
    "    'tsne_spc',\n",
    "    'reso_score',\n",
    "    'min_angle'\n",
    "]\n",
    "df = pd.DataFrame(mean_metrics).set_axis(columns).T\n",
    "df.style.format({c: \"{:.2%}\" for c in columns if 'spc' in c})"
   ]
  },
  {
   "cell_type": "markdown",
   "metadata": {
    "id": "L5S1HWnHOWIl"
   },
   "source": [
    "# Large Graph"
   ]
  },
  {
   "cell_type": "code",
   "execution_count": null,
   "metadata": {
    "id": "_pefPcV1OZdD"
   },
   "outputs": [],
   "source": [
    "scalability = pd.read_csv(f\"/__artifacts__/data/scalability.csv\", index_col=\"index\")\n",
    "scalability"
   ]
  },
  {
   "cell_type": "code",
   "execution_count": null,
   "metadata": {
    "id": "oMhWAsdvPnTX"
   },
   "outputs": [],
   "source": [
    "rescale = CanonicalizationByStress()\n",
    "stressfn = Stress()\n",
    "rotate = RotateByPrincipalComponents()"
   ]
  },
  {
   "cell_type": "code",
   "execution_count": null,
   "metadata": {
    "id": "LR83OcAaPID5"
   },
   "outputs": [],
   "source": [
    "stress_list = []\n",
    "spc_list = []\n",
    "pmds_list = np.load(\"layouts/new_large_graph/pmds.npy\", allow_pickle=True)\n",
    "gviz_list = np.load(\"layouts/new_large_graph/gviz.npy\", allow_pickle=True)\n",
    "with torch.no_grad():\n",
    "    for idx, col in tqdm(scalability.iterrows(), total=len(scalability)):\n",
    "        # if idx not in [406, 516]: continue\n",
    "        torch.cuda.empty_cache()\n",
    "        G = load_mtx(col['file'])\n",
    "        G.remove_edges_from(nx.selfloop_edges(G))\n",
    "        data = generate_data_list(G, \n",
    "                                sparse=data_config.sparse, \n",
    "                                pivot_mode=data_config.pivot,\n",
    "                                init_mode=data_config.init,\n",
    "                                edge_index=data_config.edge.index,\n",
    "                                edge_attr=data_config.edge.attr,\n",
    "                                pmds_list=pmds_list[idx],\n",
    "                                gviz_list=gviz_list[idx],\n",
    "                                device=device)\n",
    "        batch = Batch.from_data_list([data]).to(device)\n",
    "        # generator.train()\n",
    "        # generator(batch)\n",
    "        generator.eval()\n",
    "        pred = generator(batch)\n",
    "        pos = rotate(rescale(pred, batch), batch)\n",
    "        gt = rotate(rescale(batch.gt_pos, batch), batch)\n",
    "        stress = stressfn(pos, batch).item()\n",
    "        gt_stress = stressfn(gt, batch).item()\n",
    "        spc = (stress - gt_stress) / np.maximum(stress, gt_stress)\n",
    "        stress_list.append(stress)\n",
    "        spc_list.append(spc)\n",
    "\n",
    "        np.save(f\"/__artifacts__/gan_result/data/scalability_{idx}.npy\", pos.cpu().numpy())\n",
    "        graph_attr = dict(node_size=1, \n",
    "                        with_labels=False, \n",
    "                        labels=dict(zip(list(G.nodes), map(lambda n: n if type(n) is int else n[1:], list(G.nodes)))),\n",
    "                        font_color=\"white\", \n",
    "                        font_weight=\"bold\",\n",
    "                        font_size=12,\n",
    "                        width=0.1)\n",
    "\n",
    "        # gt_pos = pickle.load(open(f\"/__artifacts__/data/scalability_{idx}_gt.pkl\", \"rb\"))\n",
    "\n",
    "        plt.figure(figsize=[12, 9])\n",
    "        nx.draw(G, pos=gt.cpu().numpy(), node_color='orange', **graph_attr)\n",
    "        plt.title(f\"neato: large_{idx}\")\n",
    "        plt.axis(\"equal\")\n",
    "        plt.savefig(f\"/__artifacts__/gan_result/output/{idx}_{col['name']}_{col['n']}_{spc}_nx.png\", dpi=300)\n",
    "        plt.show()\n",
    "\n",
    "        plt.figure(figsize=[12, 9])\n",
    "        graph_vis(G, pos.cpu().numpy(), **graph_attr)\n",
    "        plt.title(f\"dgd: large_{idx}, spc={spc:.2%}\")\n",
    "        plt.axis(\"equal\")\n",
    "        plt.savefig(f\"/__artifacts__/gan_result/output/{idx}_{col['name']}_{col['n']}_{spc}_dgd.png\", dpi=300)\n",
    "        plt.show()"
   ]
  },
  {
   "cell_type": "code",
   "execution_count": null,
   "metadata": {
    "id": "gRXTewkYeuq1"
   },
   "outputs": [],
   "source": []
  }
 ],
 "metadata": {
  "accelerator": "GPU",
  "colab": {
   "collapsed_sections": [
    "w_p3OD0woiSM",
    "DR6-vYtr_i_P",
    "innqkwvH_ydD",
    "f-ODE2k8BFV6",
    "N39dDHraedM6"
   ],
   "machine_shape": "hm",
   "name": "GAN(gan=rgan,data=best(xing,stress),dis=deep,share=16,embed=0,gp=0).ipynb",
   "provenance": []
  },
  "kernelspec": {
   "display_name": "DeepGD",
   "language": "python",
   "name": "deepgd"
  },
  "language_info": {
   "codemirror_mode": {
    "name": "ipython",
    "version": 3
   },
   "file_extension": ".py",
   "mimetype": "text/x-python",
   "name": "python",
   "nbconvert_exporter": "python",
   "pygments_lexer": "ipython3",
   "version": "3.9.7"
  },
  "widgets": {
   "application/vnd.jupyter.widget-state+json": {
    "state": {
     "05bb505df09142129ce4ce5b1a1190c8": {
      "model_module": "@jupyter-widgets/base",
      "model_module_version": "1.2.0",
      "model_name": "LayoutModel",
      "state": {}
     },
     "07ad28603727405d987defd88dcb032d": {
      "model_module": "@jupyter-widgets/controls",
      "model_module_version": "1.5.0",
      "model_name": "ProgressStyleModel",
      "state": {
       "description_width": ""
      }
     },
     "0be8ad78d3924fedac066a210a37bf48": {
      "model_module": "@jupyter-widgets/base",
      "model_module_version": "1.2.0",
      "model_name": "LayoutModel",
      "state": {}
     },
     "0fcf3645de144396915368f0c9f4e3d4": {
      "model_module": "@jupyter-widgets/controls",
      "model_module_version": "1.5.0",
      "model_name": "DescriptionStyleModel",
      "state": {
       "description_width": ""
      }
     },
     "116ce637343f4fbea98f7301a98f89d9": {
      "model_module": "@jupyter-widgets/base",
      "model_module_version": "1.2.0",
      "model_name": "LayoutModel",
      "state": {}
     },
     "156bf79cca794c66aecf2cb28dfa9fad": {
      "model_module": "@jupyter-widgets/base",
      "model_module_version": "1.2.0",
      "model_name": "LayoutModel",
      "state": {}
     },
     "15ea9f9149074fd79ef3bc817156eef1": {
      "model_module": "@jupyter-widgets/controls",
      "model_module_version": "1.5.0",
      "model_name": "DescriptionStyleModel",
      "state": {
       "description_width": ""
      }
     },
     "19c3ba66704d417a95207e654310cc7c": {
      "model_module": "@jupyter-widgets/base",
      "model_module_version": "1.2.0",
      "model_name": "LayoutModel",
      "state": {}
     },
     "319f175c95f048799054e3dd51ae884e": {
      "model_module": "@jupyter-widgets/output",
      "model_module_version": "1.0.0",
      "model_name": "OutputModel",
      "state": {
       "layout": "IPY_MODEL_85912d2080514e97a987fc432d3641b6",
       "outputs": [
        {
         "data": {
          "image/png": "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\n",
          "text/plain": "<Figure size 432x288 with 1 Axes>"
         },
         "metadata": {},
         "output_type": "display_data"
        }
       ]
      }
     },
     "32511cf04f9a44159fc1d19c234c8b71": {
      "model_module": "@jupyter-widgets/controls",
      "model_module_version": "1.5.0",
      "model_name": "DescriptionStyleModel",
      "state": {
       "description_width": ""
      }
     },
     "33c1cad758f94e9890faf95a08f016ad": {
      "model_module": "@jupyter-widgets/controls",
      "model_module_version": "1.5.0",
      "model_name": "FloatProgressModel",
      "state": {
       "bar_style": "success",
       "layout": "IPY_MODEL_9badb86b0d834034a1ee0770c701f21e",
       "max": 1000,
       "style": "IPY_MODEL_b501a9e5a6a04753a83bbf1c4f2375dd",
       "value": 1000
      }
     },
     "3bfe06b624ce4590a2202400250a39b4": {
      "model_module": "@jupyter-widgets/base",
      "model_module_version": "1.2.0",
      "model_name": "LayoutModel",
      "state": {}
     },
     "4220efbae2ea467d8e0ccdc52366db67": {
      "model_module": "@jupyter-widgets/base",
      "model_module_version": "1.2.0",
      "model_name": "LayoutModel",
      "state": {}
     },
     "422ffeee74c94e9c86f07bd756675f28": {
      "model_module": "@jupyter-widgets/controls",
      "model_module_version": "1.5.0",
      "model_name": "ProgressStyleModel",
      "state": {
       "description_width": ""
      }
     },
     "4d8b239e03eb47e6a97763312ae62920": {
      "model_module": "@jupyter-widgets/output",
      "model_module_version": "1.0.0",
      "model_name": "OutputModel",
      "state": {
       "layout": "IPY_MODEL_d5e71b8060c04de5a6c868ba52378bc7",
       "outputs": [
        {
         "data": {
          "application/vnd.jupyter.widget-view+json": {
           "model_id": "6665d7a571df4eddb17263cdec86aed5",
           "version_major": 2,
           "version_minor": 0
          },
          "text/plain": "  0%|          | 0/834 [00:00<?, ?it/s]"
         },
         "metadata": {},
         "output_type": "display_data"
        }
       ]
      }
     },
     "51935b8a538d449ab73440c374cd3704": {
      "model_module": "@jupyter-widgets/base",
      "model_module_version": "1.2.0",
      "model_name": "LayoutModel",
      "state": {
       "height": "500px",
       "overflow_y": "auto"
      }
     },
     "5b40d62d007f4b5c9fcf6942140d7611": {
      "model_module": "@jupyter-widgets/base",
      "model_module_version": "1.2.0",
      "model_name": "LayoutModel",
      "state": {}
     },
     "5c13fa0eb92c48089c6111cff93e4a5d": {
      "model_module": "@jupyter-widgets/controls",
      "model_module_version": "1.5.0",
      "model_name": "HTMLModel",
      "state": {
       "layout": "IPY_MODEL_fd45515627b34e68b92d3782cacd3274",
       "style": "IPY_MODEL_15ea9f9149074fd79ef3bc817156eef1",
       "value": " 1000/1000 [00:52&lt;00:00, 17.91it/s]"
      }
     },
     "5e3cf81883954528b425b3ed578138b9": {
      "model_module": "@jupyter-widgets/base",
      "model_module_version": "1.2.0",
      "model_name": "LayoutModel",
      "state": {}
     },
     "5e9f0978756843a2bf32a69edeb1229a": {
      "model_module": "@jupyter-widgets/base",
      "model_module_version": "1.2.0",
      "model_name": "LayoutModel",
      "state": {}
     },
     "5ef59c67a08842c7be6394f1f1cb090d": {
      "model_module": "@jupyter-widgets/controls",
      "model_module_version": "1.5.0",
      "model_name": "DescriptionStyleModel",
      "state": {
       "description_width": ""
      }
     },
     "5fdb5d5aec424fb491971b5e62cb8bae": {
      "model_module": "@jupyter-widgets/base",
      "model_module_version": "1.2.0",
      "model_name": "LayoutModel",
      "state": {}
     },
     "63d1d426f70f4cc5a62300c8cc3a9d67": {
      "model_module": "@jupyter-widgets/controls",
      "model_module_version": "1.5.0",
      "model_name": "HTMLModel",
      "state": {
       "layout": "IPY_MODEL_5fdb5d5aec424fb491971b5e62cb8bae",
       "style": "IPY_MODEL_32511cf04f9a44159fc1d19c234c8b71",
       "value": " 1000/1000 [00:47&lt;00:00, 22.22it/s]"
      }
     },
     "6430d3661d014c9c93fa10c1e8204c0c": {
      "model_module": "@jupyter-widgets/base",
      "model_module_version": "1.2.0",
      "model_name": "LayoutModel",
      "state": {}
     },
     "6665d7a571df4eddb17263cdec86aed5": {
      "model_module": "@jupyter-widgets/controls",
      "model_module_version": "1.5.0",
      "model_name": "HBoxModel",
      "state": {
       "children": [
        "IPY_MODEL_d3023b51f8fa4771b68e1ff423223635",
        "IPY_MODEL_70af445c34a54d9b9f5aa17bd5f45839",
        "IPY_MODEL_f357cebc805b45bcb42bd1c3b488b54a"
       ],
       "layout": "IPY_MODEL_8df112f2ec9d4a91a4d140b83bbc40bb"
      }
     },
     "70af445c34a54d9b9f5aa17bd5f45839": {
      "model_module": "@jupyter-widgets/controls",
      "model_module_version": "1.5.0",
      "model_name": "FloatProgressModel",
      "state": {
       "layout": "IPY_MODEL_3bfe06b624ce4590a2202400250a39b4",
       "max": 834,
       "style": "IPY_MODEL_07ad28603727405d987defd88dcb032d",
       "value": 123
      }
     },
     "7b0843a02e4a4a54957cd0b84fdc8998": {
      "model_module": "@jupyter-widgets/controls",
      "model_module_version": "1.5.0",
      "model_name": "DescriptionStyleModel",
      "state": {
       "description_width": ""
      }
     },
     "80782645e4774954b215e51827bb71cd": {
      "model_module": "@jupyter-widgets/base",
      "model_module_version": "1.2.0",
      "model_name": "LayoutModel",
      "state": {}
     },
     "8563632f0a1e4624873153b8becb026a": {
      "model_module": "@jupyter-widgets/controls",
      "model_module_version": "1.5.0",
      "model_name": "HBoxModel",
      "state": {
       "children": [
        "IPY_MODEL_ab245cc010184a93a533964e8f3cdfb1",
        "IPY_MODEL_b4d896bb6f254d8ba15e8561a727d5bf",
        "IPY_MODEL_d691603a4b2741348293249f7625ae24"
       ],
       "layout": "IPY_MODEL_8fd25598e6c14374a01c4ff190511fcd"
      }
     },
     "85912d2080514e97a987fc432d3641b6": {
      "model_module": "@jupyter-widgets/base",
      "model_module_version": "1.2.0",
      "model_name": "LayoutModel",
      "state": {}
     },
     "8df112f2ec9d4a91a4d140b83bbc40bb": {
      "model_module": "@jupyter-widgets/base",
      "model_module_version": "1.2.0",
      "model_name": "LayoutModel",
      "state": {}
     },
     "8f309b2337d343b7b56dcfa99a0c0084": {
      "model_module": "@jupyter-widgets/controls",
      "model_module_version": "1.5.0",
      "model_name": "HBoxModel",
      "state": {
       "children": [
        "IPY_MODEL_c6d58740cee04f24a95e11aa07e439e0",
        "IPY_MODEL_de3b4f96a84449a1b28874154db240e6",
        "IPY_MODEL_5c13fa0eb92c48089c6111cff93e4a5d"
       ],
       "layout": "IPY_MODEL_b4202ee060854ee0af80303699a05d14"
      }
     },
     "8fd25598e6c14374a01c4ff190511fcd": {
      "model_module": "@jupyter-widgets/base",
      "model_module_version": "1.2.0",
      "model_name": "LayoutModel",
      "state": {}
     },
     "9053294dc3344d4fa640ff0b9447b8d5": {
      "model_module": "@jupyter-widgets/controls",
      "model_module_version": "1.5.0",
      "model_name": "HBoxModel",
      "state": {
       "children": [
        "IPY_MODEL_92ecca366fc24f228d6a055eebb8e91b"
       ],
       "layout": "IPY_MODEL_c3179896e74a4b508f305754f1028778"
      }
     },
     "92ecca366fc24f228d6a055eebb8e91b": {
      "model_module": "@jupyter-widgets/output",
      "model_module_version": "1.0.0",
      "model_name": "OutputModel",
      "state": {
       "layout": "IPY_MODEL_5e9f0978756843a2bf32a69edeb1229a",
       "outputs": [
        {
         "name": "stdout",
         "output_type": "stream",
         "text": "[1097] stress=391.20(6.07%) xing=29.59(13.87%)\n"
        }
       ]
      }
     },
     "97a9aa5504f445ab8866f50a0f11c7a4": {
      "model_module": "@jupyter-widgets/controls",
      "model_module_version": "1.5.0",
      "model_name": "ProgressStyleModel",
      "state": {
       "description_width": ""
      }
     },
     "9b389c6c82e74aa9aedd6b0417bc9370": {
      "model_module": "@jupyter-widgets/base",
      "model_module_version": "1.2.0",
      "model_name": "LayoutModel",
      "state": {}
     },
     "9badb86b0d834034a1ee0770c701f21e": {
      "model_module": "@jupyter-widgets/base",
      "model_module_version": "1.2.0",
      "model_name": "LayoutModel",
      "state": {}
     },
     "a14fb5c5bc254a1a8beb797b39fbfbb5": {
      "model_module": "@jupyter-widgets/controls",
      "model_module_version": "1.5.0",
      "model_name": "HBoxModel",
      "state": {
       "children": [
        "IPY_MODEL_319f175c95f048799054e3dd51ae884e"
       ],
       "layout": "IPY_MODEL_51935b8a538d449ab73440c374cd3704"
      }
     },
     "a7d27fe4490248d8b1a49c822d83d52e": {
      "model_module": "@jupyter-widgets/base",
      "model_module_version": "1.2.0",
      "model_name": "LayoutModel",
      "state": {}
     },
     "ab245cc010184a93a533964e8f3cdfb1": {
      "model_module": "@jupyter-widgets/controls",
      "model_module_version": "1.5.0",
      "model_name": "HTMLModel",
      "state": {
       "layout": "IPY_MODEL_80782645e4774954b215e51827bb71cd",
       "style": "IPY_MODEL_c521a77bb3a44509b244d89c48e59287",
       "value": "100%"
      }
     },
     "b4202ee060854ee0af80303699a05d14": {
      "model_module": "@jupyter-widgets/base",
      "model_module_version": "1.2.0",
      "model_name": "LayoutModel",
      "state": {}
     },
     "b4d896bb6f254d8ba15e8561a727d5bf": {
      "model_module": "@jupyter-widgets/controls",
      "model_module_version": "1.5.0",
      "model_name": "FloatProgressModel",
      "state": {
       "bar_style": "success",
       "layout": "IPY_MODEL_05bb505df09142129ce4ce5b1a1190c8",
       "max": 11531,
       "style": "IPY_MODEL_97a9aa5504f445ab8866f50a0f11c7a4",
       "value": 11531
      }
     },
     "b501a9e5a6a04753a83bbf1c4f2375dd": {
      "model_module": "@jupyter-widgets/controls",
      "model_module_version": "1.5.0",
      "model_name": "ProgressStyleModel",
      "state": {
       "description_width": ""
      }
     },
     "bcd6b59e23d440059773bf2123b6fc96": {
      "model_module": "@jupyter-widgets/output",
      "model_module_version": "1.0.0",
      "model_name": "OutputModel",
      "state": {
       "layout": "IPY_MODEL_9b389c6c82e74aa9aedd6b0417bc9370",
       "outputs": [
        {
         "data": {
          "text/html": "<div>\n<style scoped>\n    .dataframe tbody tr th:only-of-type {\n        vertical-align: middle;\n    }\n\n    .dataframe tbody tr th {\n        vertical-align: top;\n    }\n\n    .dataframe thead th {\n        text-align: right;\n    }\n</style>\n<table border=\"1\" class=\"dataframe\">\n  <thead>\n    <tr style=\"text-align: right;\">\n      <th></th>\n      <th>val_stress</th>\n      <th>val_stress_spc</th>\n      <th>val_xing</th>\n      <th>val_xing_spc</th>\n      <th>dis_loss</th>\n    </tr>\n  </thead>\n  <tbody>\n    <tr>\n      <th>epoch 1097</th>\n      <td>391.20</td>\n      <td>6.07%</td>\n      <td>29.59</td>\n      <td>13.87%</td>\n      <td>8.67e-03</td>\n    </tr>\n  </tbody>\n</table>\n</div>",
          "text/plain": "           val_stress val_stress_spc val_xing val_xing_spc  dis_loss\nepoch 1097     391.20          6.07%    29.59       13.87%  8.67e-03"
         },
         "metadata": {},
         "output_type": "display_data"
        }
       ]
      }
     },
     "bd0584eb98f64a4daf9d11239988b5b6": {
      "model_module": "@jupyter-widgets/controls",
      "model_module_version": "1.5.0",
      "model_name": "TabModel",
      "state": {
       "_titles": {
        "0": "status",
        "1": "plot",
        "2": "log"
       },
       "children": [
        "IPY_MODEL_daba265ad7fe4487860ddd13a3ae9403",
        "IPY_MODEL_a14fb5c5bc254a1a8beb797b39fbfbb5",
        "IPY_MODEL_9053294dc3344d4fa640ff0b9447b8d5"
       ],
       "layout": "IPY_MODEL_4220efbae2ea467d8e0ccdc52366db67"
      }
     },
     "c3179896e74a4b508f305754f1028778": {
      "model_module": "@jupyter-widgets/base",
      "model_module_version": "1.2.0",
      "model_name": "LayoutModel",
      "state": {
       "height": "500px",
       "overflow_y": "auto"
      }
     },
     "c521a77bb3a44509b244d89c48e59287": {
      "model_module": "@jupyter-widgets/controls",
      "model_module_version": "1.5.0",
      "model_name": "DescriptionStyleModel",
      "state": {
       "description_width": ""
      }
     },
     "c6d58740cee04f24a95e11aa07e439e0": {
      "model_module": "@jupyter-widgets/controls",
      "model_module_version": "1.5.0",
      "model_name": "HTMLModel",
      "state": {
       "layout": "IPY_MODEL_19c3ba66704d417a95207e654310cc7c",
       "style": "IPY_MODEL_fd6eb9f196e541daacefb8ad382313c0",
       "value": "100%"
      }
     },
     "ce072139b9294c4c940105cb788461df": {
      "model_module": "@jupyter-widgets/controls",
      "model_module_version": "1.5.0",
      "model_name": "HTMLModel",
      "state": {
       "layout": "IPY_MODEL_116ce637343f4fbea98f7301a98f89d9",
       "style": "IPY_MODEL_7b0843a02e4a4a54957cd0b84fdc8998",
       "value": "100%"
      }
     },
     "d3023b51f8fa4771b68e1ff423223635": {
      "model_module": "@jupyter-widgets/controls",
      "model_module_version": "1.5.0",
      "model_name": "HTMLModel",
      "state": {
       "layout": "IPY_MODEL_156bf79cca794c66aecf2cb28dfa9fad",
       "style": "IPY_MODEL_0fcf3645de144396915368f0c9f4e3d4",
       "value": "[epoch 1097/None]:  15%"
      }
     },
     "d5e71b8060c04de5a6c868ba52378bc7": {
      "model_module": "@jupyter-widgets/base",
      "model_module_version": "1.2.0",
      "model_name": "LayoutModel",
      "state": {}
     },
     "d691603a4b2741348293249f7625ae24": {
      "model_module": "@jupyter-widgets/controls",
      "model_module_version": "1.5.0",
      "model_name": "HTMLModel",
      "state": {
       "layout": "IPY_MODEL_5b40d62d007f4b5c9fcf6942140d7611",
       "style": "IPY_MODEL_5ef59c67a08842c7be6394f1f1cb090d",
       "value": " 11531/11531 [00:00&lt;00:00, 42153.20it/s]"
      }
     },
     "daba265ad7fe4487860ddd13a3ae9403": {
      "model_module": "@jupyter-widgets/controls",
      "model_module_version": "1.5.0",
      "model_name": "VBoxModel",
      "state": {
       "children": [
        "IPY_MODEL_4d8b239e03eb47e6a97763312ae62920",
        "IPY_MODEL_bcd6b59e23d440059773bf2123b6fc96"
       ],
       "layout": "IPY_MODEL_5e3cf81883954528b425b3ed578138b9"
      }
     },
     "de3b4f96a84449a1b28874154db240e6": {
      "model_module": "@jupyter-widgets/controls",
      "model_module_version": "1.5.0",
      "model_name": "FloatProgressModel",
      "state": {
       "bar_style": "success",
       "layout": "IPY_MODEL_0be8ad78d3924fedac066a210a37bf48",
       "max": 1000,
       "style": "IPY_MODEL_422ffeee74c94e9c86f07bd756675f28",
       "value": 1000
      }
     },
     "e1df7452f13f41ac92e4a515f1ceff60": {
      "model_module": "@jupyter-widgets/controls",
      "model_module_version": "1.5.0",
      "model_name": "HBoxModel",
      "state": {
       "children": [
        "IPY_MODEL_ce072139b9294c4c940105cb788461df",
        "IPY_MODEL_33c1cad758f94e9890faf95a08f016ad",
        "IPY_MODEL_63d1d426f70f4cc5a62300c8cc3a9d67"
       ],
       "layout": "IPY_MODEL_a7d27fe4490248d8b1a49c822d83d52e"
      }
     },
     "f357cebc805b45bcb42bd1c3b488b54a": {
      "model_module": "@jupyter-widgets/controls",
      "model_module_version": "1.5.0",
      "model_name": "HTMLModel",
      "state": {
       "layout": "IPY_MODEL_6430d3661d014c9c93fa10c1e8204c0c",
       "style": "IPY_MODEL_f8c1eebdd40d478e8720240e6e7122a9",
       "value": " 123/834 [00:20&lt;01:55,  6.13it/s]"
      }
     },
     "f8c1eebdd40d478e8720240e6e7122a9": {
      "model_module": "@jupyter-widgets/controls",
      "model_module_version": "1.5.0",
      "model_name": "DescriptionStyleModel",
      "state": {
       "description_width": ""
      }
     },
     "fd45515627b34e68b92d3782cacd3274": {
      "model_module": "@jupyter-widgets/base",
      "model_module_version": "1.2.0",
      "model_name": "LayoutModel",
      "state": {}
     },
     "fd6eb9f196e541daacefb8ad382313c0": {
      "model_module": "@jupyter-widgets/controls",
      "model_module_version": "1.5.0",
      "model_name": "DescriptionStyleModel",
      "state": {
       "description_width": ""
      }
     }
    },
    "version_major": 2,
    "version_minor": 0
   }
  }
 },
 "nbformat": 4,
 "nbformat_minor": 4
}
