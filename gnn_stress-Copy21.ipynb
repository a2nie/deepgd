{
 "cells": [
  {
   "cell_type": "code",
   "execution_count": 4,
   "metadata": {},
   "outputs": [
    {
     "name": "stdout",
     "output_type": "stream",
     "text": [
      "The autoreload extension is already loaded. To reload it, use:\n",
      "  %reload_ext autoreload\n"
     ]
    }
   ],
   "source": [
    "%load_ext autoreload\n",
    "%autoreload 2"
   ]
  },
  {
   "cell_type": "markdown",
   "metadata": {},
   "source": [
    "# euclidian distance in first layer, block dim 8,8,8,8"
   ]
  },
  {
   "cell_type": "code",
   "execution_count": 5,
   "metadata": {},
   "outputs": [],
   "source": [
    "from modules import *\n",
    "from utils import *"
   ]
  },
  {
   "cell_type": "code",
   "execution_count": 6,
   "metadata": {},
   "outputs": [
    {
     "data": {
      "text/plain": [
       "True"
      ]
     },
     "execution_count": 6,
     "metadata": {},
     "output_type": "execute_result"
    }
   ],
   "source": [
    "torch.cuda.is_available()"
   ]
  },
  {
   "cell_type": "code",
   "execution_count": 7,
   "metadata": {},
   "outputs": [],
   "source": [
    "device = 'cuda:0' if torch.cuda.is_available() else 'cpu'"
   ]
  },
  {
   "cell_type": "code",
   "execution_count": 9,
   "metadata": {},
   "outputs": [],
   "source": [
    "# nvidia_smi.nvmlInit()\n",
    "# cuda = nvidia_smi.nvmlDeviceGetHandleByIndex(2)"
   ]
  },
  {
   "cell_type": "code",
   "execution_count": 10,
   "metadata": {},
   "outputs": [],
   "source": [
    "config = Config('config-Copy21.json')"
   ]
  },
  {
   "cell_type": "code",
   "execution_count": 11,
   "metadata": {},
   "outputs": [
    {
     "data": {
      "text/plain": [
       "{'name': '8888_block_euclidian',\n",
       " 'batchsize': 64,\n",
       " 'epoch': {'start': 0, 'end': None},\n",
       " 'lr': {'initial': 0.001,\n",
       "  'decay_rate': 0.99,\n",
       "  'decay_step': 1,\n",
       "  'override': None},\n",
       " 'log_period': 1,\n",
       " 'test': {'name': '8888_block_euclidian',\n",
       "  'epoch': 455,\n",
       "  'out_prefix': '8888_block_euclidian'}}"
      ]
     },
     "execution_count": 11,
     "metadata": {},
     "output_type": "execute_result"
    }
   ],
   "source": [
    "config[...]"
   ]
  },
  {
   "cell_type": "code",
   "execution_count": 12,
   "metadata": {
    "scrolled": true
   },
   "outputs": [],
   "source": [
    "class GNNLayer(nn.Module):\n",
    "    def __init__(self, in_vfeat, out_vfeat, in_efeat, bn=False, act=False, dp=None, aggr='mean'):\n",
    "        super().__init__()\n",
    "        self.enet = nn.Sequential(\n",
    "            Linear(in_efeat, in_vfeat * out_vfeat),\n",
    "            nn.BatchNorm1d(in_vfeat * out_vfeat),\n",
    "            nn.Tanh()\n",
    "        )\n",
    "        self.conv = NNConv(in_vfeat, out_vfeat, self.enet, aggr=aggr)\n",
    "        self.bn = BatchNorm(out_vfeat) if bn else Identity()\n",
    "        self.act = nn.LeakyReLU() if act else Identity()\n",
    "        self.dp = Dropout(dp) if dp is not None else Identity()\n",
    "        \n",
    "    def forward(self, v, e, data):\n",
    "        return self.dp(self.act(self.bn(self.conv(v, data.edge_index, e))))\n",
    "\n",
    "\n",
    "class GNNBlock(nn.Module):\n",
    "    def __init__(self, feat_dims, bn=False, act=True, dp=None, euclidian=None, residual=False):\n",
    "        super().__init__()\n",
    "        self.euclidian = euclidian\n",
    "        self.residual = residual\n",
    "        self.gnn = nn.ModuleList()\n",
    "        self.n_layers = len(feat_dims) - 1\n",
    "        \n",
    "        for idx, (in_feat, out_feat) in enumerate(zip(feat_dims[:-1], feat_dims[1:])):\n",
    "            self.gnn.append(GNNLayer(in_vfeat=in_feat, \n",
    "                                     out_vfeat=out_feat, \n",
    "                                     in_efeat=(3 if self.euclidian and idx == 0 else 2), \n",
    "                                     bn=bn, \n",
    "                                     act=act, \n",
    "                                     dp=dp))\n",
    "        \n",
    "    def forward(self, v, data):\n",
    "        vres = v\n",
    "        for layer in range(self.n_layers):\n",
    "            e = get_edge_feat(v if self.euclidian == 'prev'\n",
    "                              else vres if self.euclidian == 'first'\n",
    "                              else None, \n",
    "                              data, euclidian=self.euclidian is not None and layer == 0)\n",
    "            v = self.gnn[layer](v, e, data)\n",
    "        return v + vres if self.residual else v\n",
    "        \n",
    "\n",
    "class Model(nn.Module):\n",
    "    def __init__(self):\n",
    "        super().__init__()\n",
    "        \n",
    "        h_dim = 8\n",
    "        in_dim = 8\n",
    "        \n",
    "        self.block0 = GNNBlock(feat_dims=[2, 8, in_dim], bn=True, dp=0.2)\n",
    "        self.block1 = GNNBlock(feat_dims=[in_dim,h_dim,h_dim,in_dim], bn=True, dp=0.2, euclidian='first', residual=True)\n",
    "        self.block2 = GNNBlock(feat_dims=[in_dim,h_dim,h_dim,in_dim], bn=True, dp=0.2, euclidian='first', residual=True)\n",
    "        self.block3 = GNNBlock(feat_dims=[in_dim,h_dim,h_dim,in_dim], bn=True, dp=0.2, euclidian='first', residual=True)\n",
    "        self.block4 = GNNBlock(feat_dims=[in_dim,h_dim,h_dim,in_dim], bn=True, dp=0.2, euclidian='first', residual=True)\n",
    "        self.block5 = GNNBlock(feat_dims=[in_dim,h_dim,h_dim,in_dim], bn=True, dp=0.2, euclidian='first', residual=True)\n",
    "        self.block6 = GNNBlock(feat_dims=[in_dim,h_dim,h_dim,in_dim], bn=True, dp=0.2, euclidian='first', residual=True)\n",
    "        self.block7 = GNNBlock(feat_dims=[in_dim,h_dim,h_dim,in_dim], bn=True, dp=0.2, euclidian='first', residual=True)\n",
    "        self.block8 = GNNBlock(feat_dims=[in_dim,h_dim,h_dim,in_dim], bn=True, dp=0.2, euclidian='first', residual=True)\n",
    "        self.block9 = GNNBlock(feat_dims=[in_dim,h_dim,h_dim,in_dim], bn=True, dp=0.2, euclidian='first', residual=True)\n",
    "        self.block10 = GNNBlock(feat_dims=[in_dim, 8], bn=True)\n",
    "        self.block11 = GNNBlock(feat_dims=[8, 2], act=False)\n",
    "\n",
    "    def forward(self, data):\n",
    "        b = torch.rand_like(data.x) * 2 - 1\n",
    "        \n",
    "        v = self.block0(b, data)\n",
    "        v = self.block1(v, data)\n",
    "        v = self.block2(v, data)\n",
    "        v = self.block3(v, data)\n",
    "        v = self.block4(v, data)\n",
    "        v = self.block5(v, data)\n",
    "        v = self.block6(v, data)\n",
    "        v = self.block7(v, data)\n",
    "        v = self.block8(v, data)\n",
    "        v = self.block9(v, data)\n",
    "        v = self.block10(v, data)\n",
    "        v = self.block11(v, data)     \n",
    "        \n",
    "        return v"
   ]
  },
  {
   "cell_type": "code",
   "execution_count": 13,
   "metadata": {},
   "outputs": [],
   "source": [
    "G_list, data_list = load_processed_data(G_list_file='G_list.pickle', \n",
    "                                        data_list_file='data_list.pickle')"
   ]
  },
  {
   "cell_type": "code",
   "execution_count": 10,
   "metadata": {},
   "outputs": [],
   "source": [
    "loader = DataLoader(data_list[:10000], batch_size=config['batchsize'],shuffle=True)\n",
    "loss_ep = []"
   ]
  },
  {
   "cell_type": "code",
   "execution_count": null,
   "metadata": {},
   "outputs": [
    {
     "data": {
      "application/vnd.jupyter.widget-view+json": {
       "model_id": "7e4f15a43ab14d20bd38f0a9905b0035",
       "version_major": 2,
       "version_minor": 0
      },
      "text/plain": [
       "HBox(children=(FloatProgress(value=0.0, max=157.0), HTML(value='')))"
      ]
     },
     "metadata": {},
     "output_type": "display_data"
    },
    {
     "name": "stderr",
     "output_type": "stream",
     "text": [
      "/opt/conda/lib/python3.7/site-packages/torch/serialization.py:360: UserWarning: Couldn't retrieve source code for container of type Model. It won't be checked for correctness upon loading.\n",
      "  \"type \" + obj.__name__ + \". It won't be checked \"\n",
      "/opt/conda/lib/python3.7/site-packages/torch/serialization.py:360: UserWarning: Couldn't retrieve source code for container of type GNNBlock. It won't be checked for correctness upon loading.\n",
      "  \"type \" + obj.__name__ + \". It won't be checked \"\n",
      "/opt/conda/lib/python3.7/site-packages/torch/serialization.py:360: UserWarning: Couldn't retrieve source code for container of type GNNLayer. It won't be checked for correctness upon loading.\n",
      "  \"type \" + obj.__name__ + \". It won't be checked \"\n"
     ]
    }
   ],
   "source": [
    "start_epoch = config['epoch']['start']\n",
    "if start_epoch == 0:\n",
    "    model = Model().to(device)\n",
    "else:\n",
    "    model = torch.load(f\"../ckpt_{config['name']}/epoch_{start_epoch}.pt\").to(device)\n",
    "criterion = EnergyLossVectorized()\n",
    "optimizer = torch.optim.AdamW(model.parameters(), lr=config['lr']['initial'])\n",
    "scheduler = torch.optim.lr_scheduler.StepLR(optimizer=optimizer, \n",
    "                                            step_size=config['lr']['decay_step'], \n",
    "                                            gamma=config['lr']['decay_rate'])\n",
    "print(\"=\" * 50, file=open(f\"{config['name']}.log\", \"a\"))\n",
    "epoch = start_epoch + 1\n",
    "with tqdm(total=len(loader), smoothing=0) as progress:\n",
    "    while True:\n",
    "        if config['lr']['override'] is not None:\n",
    "            optimizer = torch.optim.AdamW(model.parameters(), lr=config['lr']['override'])\n",
    "            scheduler = torch.optim.lr_scheduler.StepLR(optimizer=optimizer, \n",
    "                                                        step_size=config['lr']['decay_step'], \n",
    "                                                        gamma=config['lr']['decay_rate'])\n",
    "        progress.reset()\n",
    "        progress.set_description(desc=f\"[epoch {epoch}/{config['epoch']['end']}]\")\n",
    "        train_loss = train(model, criterion, optimizer, loader, data_list, device, progress, cuda)\n",
    "        loss_ep.append(train_loss)\n",
    "        scheduler.step()\n",
    "        if epoch == 1 and config['log_period'] != 1:\n",
    "            print(epoch, loss, scheduler.get_lr(), file=open(f\"{config['name']}.log\", \"a\"))\n",
    "        if epoch % config['log_period'] == 0:\n",
    "            torch.save(model, f\"../ckpt_{config['name']}/epoch_{epoch}.pt\")\n",
    "            test_loss = []\n",
    "            for val_idx in range(11000, len(G_list)):\n",
    "                node_pos,loss = evaluate(model, data_list[val_idx], criterion, device)\n",
    "                test_loss.append(loss)\n",
    "            print(f'{epoch}, train: {train_loss}, val:{np.mean(test_loss)}，{scheduler.get_lr()}', \n",
    "                  file=open(f\"{config['name']}.log\", \"a\"))\n",
    "        if epoch == config['epoch']['end']:\n",
    "            break\n",
    "        epoch += 1"
   ]
  },
  {
   "cell_type": "markdown",
   "metadata": {},
   "source": [
    "# Performance Testing"
   ]
  },
  {
   "cell_type": "code",
   "execution_count": 14,
   "metadata": {},
   "outputs": [],
   "source": [
    "model = torch.load(f'../ckpt_{config[\"name\"]}/epoch_{config[\"test\"][\"epoch\"]}.pt', map_location=torch.device(device))\n",
    "criterion = EnergyLossVectorized()\n",
    "warnings.filterwarnings(\"ignore\", category=RuntimeWarning)"
   ]
  },
  {
   "cell_type": "code",
   "execution_count": 15,
   "metadata": {},
   "outputs": [],
   "source": [
    "ground_truth = pd.read_csv('scaled_gt_loss.csv', index_col=0)\n",
    "folder_name = f'{config[\"test\"][\"name\"]}_test'\n",
    "if not os.path.isdir(folder_name):\n",
    "    os.mkdir(folder_name)"
   ]
  },
  {
   "cell_type": "code",
   "execution_count": null,
   "metadata": {
    "scrolled": true
   },
   "outputs": [],
   "source": [
    "folder_name = f'{config[\"test\"][\"name\"]}_test'\n",
    "test_loss = []\n",
    "test_loss_ratio=[]\n",
    "for test_idx in tqdm(range(10000, 11000)):\n",
    "    G_vis = G_list[test_idx]\n",
    "    node_pos,loss = evaluate(model, data_list[test_idx],criterion,device)\n",
    "    gt_loss = ground_truth.loc[test_idx][0]\n",
    "    loss_ratio = (loss - gt_loss) / gt_loss\n",
    "    test_loss.append(loss)\n",
    "    test_loss_ratio.append(loss_ratio)\n",
    "    graph_vis(G_vis, node_pos, f'{folder_name}/{config[\"test\"][\"out_prefix\"]}_{test_idx}_{loss}.png') \n",
    "#     node_pos = nx.nx_agraph.graphviz_layout(G_vis, prog='neato')\n",
    "#     plt.figure()\n",
    "#     nx.draw(G_vis, node_pos)\n",
    "#     plt.savefig(f'{folder_name}/{test_idx}.png')\n",
    "\n",
    "print(np.nanmean(test_loss), np.nanstd(test_loss))\n",
    "\n",
    "print(np.nanmean(test_loss_ratio), np.nanstd(test_loss_ratio))"
   ]
  },
  {
   "cell_type": "code",
   "execution_count": null,
   "metadata": {},
   "outputs": [],
   "source": [
    "losses = []\n",
    "loss_ratios = []\n",
    "for test_idx in tqdm(range(10000, 11000)):\n",
    "    G_vis = G_list[test_idx]\n",
    "    node_pos, loss = evaluate(model, data_list[test_idx], criterion, device)\n",
    "    gt_loss = ground_truth.loc[test_idx][0]\n",
    "    loss_ratio = (loss - gt_loss) / gt_loss\n",
    "    losses += [loss]\n",
    "    loss_ratios += [loss_ratio]"
   ]
  },
  {
   "cell_type": "code",
   "execution_count": null,
   "metadata": {},
   "outputs": [],
   "source": [
    "np.mean(losses), np.std(losses)"
   ]
  },
  {
   "cell_type": "code",
   "execution_count": null,
   "metadata": {},
   "outputs": [],
   "source": [
    "np.mean(loss_ratios), np.std(loss_ratios)"
   ]
  },
  {
   "cell_type": "code",
   "execution_count": null,
   "metadata": {},
   "outputs": [],
   "source": [
    "truth_loss = 0\n",
    "pred_loss = 0\n",
    "for idx in tqdm(range(10000, 11000)):\n",
    "    pred, loss = evaluate(model, data_list[idx], criterion, device)\n",
    "    pos_map = nx.nx_agraph.graphviz_layout(G_list[idx], prog='neato')\n",
    "\n",
    "    pred_mean, pred_std = pred.mean(axis=0), pred.std()\n",
    "    truth = np.array(list(pos_map.values()))\n",
    "    truth_mean, truth_std = truth.mean(axis=0), truth.std()\n",
    "    norm_truth = (truth - truth_mean) / truth_std\n",
    "    scaled_truth = norm_truth * pred_std + pred_mean\n",
    "\n",
    "    truth_loss += criterion(torch.tensor(scaled_truth), data_list[idx])\n",
    "    pred_loss += criterion(torch.tensor(pred), data_list[idx])\n",
    "    \n",
    "truth_loss / 1000, pred_loss / 1000"
   ]
  },
  {
   "cell_type": "code",
   "execution_count": null,
   "metadata": {},
   "outputs": [],
   "source": [
    "type(data_list[9999].x)"
   ]
  },
  {
   "cell_type": "code",
   "execution_count": null,
   "metadata": {},
   "outputs": [],
   "source": [
    "iterations = 5\n",
    "losses = []\n",
    "folder_name = f'{config[\"test\"][\"name\"]}_iterative_test'\n",
    "for test_idx in tqdm(range(10000, len(G_list))):\n",
    "    G_vis = G_list[test_idx]\n",
    "    node_pos = nx.nx_agraph.graphviz_layout(G_vis, prog='neato')\n",
    "    plt.figure()\n",
    "    nx.draw(G_vis, node_pos)\n",
    "    plt.savefig(f'{folder_name}/{test_idx}.png')\n",
    "    for i in range(iterations):\n",
    "        node_pos, loss = evaluate(model, data_list[test_idx], criterion, device) \n",
    "        data_list[test_idx].x = torch.tensor(node_pos,dtype=torch.float)\n",
    "    losses += [loss]\n",
    "    graph_vis(G_vis, node_pos, f'{folder_name}/{config[\"test\"][\"out_prefix\"]}_iter_model_{test_idx}_{loss}.png')"
   ]
  },
  {
   "cell_type": "code",
   "execution_count": null,
   "metadata": {},
   "outputs": [],
   "source": [
    "plt.xlabel(\"epochs\")\n",
    "plt.ylabel(\"loss\")\n",
    "plt.plot(loss_ep[:1000])\n",
    "plt.show()"
   ]
  },
  {
   "cell_type": "code",
   "execution_count": null,
   "metadata": {
    "scrolled": true
   },
   "outputs": [],
   "source": [
    "np"
   ]
  },
  {
   "cell_type": "code",
   "execution_count": null,
   "metadata": {},
   "outputs": [],
   "source": [
    "class EnergyLossScaled(torch.nn.Module):\n",
    "    def __init__(self):\n",
    "        super().__init__()\n",
    "        \n",
    "    def forward(self, p, data, scale):\n",
    "        edge_attr = data.edge_attr\n",
    "        # convert per-node positions to per-edge positions\n",
    "        start, end, n_nodes = node2edge(p, data)\n",
    "        \n",
    "        start *= scale\n",
    "        end *= scale\n",
    "        \n",
    "        start_x = start[:, 0]\n",
    "        start_y = start[:, 1]\n",
    "        end_x = end[:, 0]\n",
    "        end_y = end[:, 1]\n",
    "        \n",
    "        l = edge_attr[:, 0]\n",
    "        k = edge_attr[:, 1]\n",
    "        \n",
    "        term1 = (start_x - end_x) ** 2\n",
    "        term2 = (start_y - end_y) ** 2\n",
    "        term3 = l ** 2\n",
    "        term4 = 2 * l * (term1 + term2).sqrt()\n",
    "        energy = k / 2 * (term1 + term2 + term3 - term4)\n",
    "        return energy.sum()"
   ]
  },
  {
   "cell_type": "code",
   "execution_count": null,
   "metadata": {},
   "outputs": [],
   "source": [
    "criterion_scaled = EnergyLossScaled()\n",
    "criterion = EnergyLossVectorized()"
   ]
  },
  {
   "cell_type": "code",
   "execution_count": null,
   "metadata": {},
   "outputs": [],
   "source": [
    "truth_loss = 0\n",
    "pred_loss = 0\n",
    "for idx in tqdm(range(10000, 11000)):\n",
    "    pred, loss = evaluate(model, data_list[idx], criterion, device)\n",
    "    pos_map = nx.nx_agraph.graphviz_layout(G_list[idx], prog='neato')\n",
    "\n",
    "    pred_mean, pred_std = pred.mean(axis=0), pred.std()\n",
    "    truth = np.array(list(pos_map.values()))\n",
    "    truth_mean, truth_std = truth.mean(axis=0), truth.std()\n",
    "    norm_truth = (truth - truth_mean) / truth_std\n",
    "    scaled_truth = norm_truth * pred_std + pred_mean\n",
    "\n",
    "    truth_loss += criterion(torch.tensor(scaled_truth, device=device), data_list[idx])\n",
    "    pred_loss += criterion(torch.tensor(pred, device=device), data_list[idx])\n",
    "    \n",
    "truth_loss / 1000, pred_loss / 1000"
   ]
  },
  {
   "cell_type": "code",
   "execution_count": null,
   "metadata": {},
   "outputs": [],
   "source": [
    "for idx in [10898, 10904]:#tqdm(range(10000, 11000)):\n",
    "    data, G = data_list[idx], G_list[idx]\n",
    "    edge_attr = data.edge_attr\n",
    "    pred, loss = evaluate(model, data, criterion, device)\n",
    "    pos_map = nx.nx_agraph.graphviz_layout(G, prog='neato')\n",
    "    truth = np.array(list(pos_map.values()))\n",
    "\n",
    "    start, end, n_nodes = node2edge(torch.tensor(truth, device=device), data)\n",
    "    w = edge_attr[:, 1]\n",
    "    d = edge_attr[:, 0]\n",
    "\n",
    "    u2 = ((start - end) ** 2).sum(dim=1)\n",
    "\n",
    "    s = (w * d * u2.sqrt()).sum() / (w * u2).sum()\n",
    "\n",
    "    loss_gt = criterion_scaled(torch.tensor(truth, device=device), data, s)\n",
    "\n",
    "    print(loss, loss_gt)"
   ]
  },
  {
   "cell_type": "code",
   "execution_count": null,
   "metadata": {},
   "outputs": [],
   "source": [
    "def evaluate(model, data, criterion, device, idx):\n",
    "    model.eval()\n",
    "    with torch.no_grad():\n",
    "        data = data.to(device)\n",
    "        pred = model(data).detach()\n",
    "        loss = criterion(pred,data).cpu().numpy()\n",
    "        loss = round(float(loss),2)\n",
    "    return pred.cpu().numpy(), loss\n",
    "\n",
    "def graph_vis(G, node_pos):\n",
    "    i = 0\n",
    "    for n, p in node_pos:\n",
    "        node = 'n' +str(i)\n",
    "        G.nodes[node]['pos'] = (n,p)\n",
    "        i += 1\n",
    "    pos = nx.get_node_attributes(G,'pos')\n",
    "    plt.figure()\n",
    "    nx.draw(G, pos)\n",
    "    \n",
    "for test_idx in tqdm(list(range(10000, len(data_list)))):\n",
    "    G_vis = G_list[test_idx]\n",
    "    node_pos,loss = evaluate(model, data_list[test_idx],criterion,device, test_idx)\n",
    "    if loss > 10000:\n",
    "        print(test_idx, loss, data_list[test_idx].num_nodes)\n",
    "        graph_vis(G_vis, node_pos) \n",
    "        node_pos = nx.nx_agraph.graphviz_layout(G_vis, prog='neato')\n",
    "        plt.figure()\n",
    "        nx.draw(G_vis, node_pos)"
   ]
  },
  {
   "cell_type": "code",
   "execution_count": null,
   "metadata": {},
   "outputs": [],
   "source": []
  }
 ],
 "metadata": {
  "kernelspec": {
   "display_name": "Python 3",
   "language": "python",
   "name": "python3"
  },
  "language_info": {
   "codemirror_mode": {
    "name": "ipython",
    "version": 3
   },
   "file_extension": ".py",
   "mimetype": "text/x-python",
   "name": "python",
   "nbconvert_exporter": "python",
   "pygments_lexer": "ipython3",
   "version": "3.7.6"
  }
 },
 "nbformat": 4,
 "nbformat_minor": 4
}
