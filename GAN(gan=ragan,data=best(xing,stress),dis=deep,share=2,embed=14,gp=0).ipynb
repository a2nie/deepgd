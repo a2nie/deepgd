{
 "cells": [
  {
   "cell_type": "markdown",
   "metadata": {
    "id": "wZtYFEhHoBGp"
   },
   "source": [
    "# Import libraries"
   ]
  },
  {
   "cell_type": "code",
   "execution_count": 1,
   "metadata": {
    "id": "KJPfzpxLQI5O"
   },
   "outputs": [],
   "source": [
    "%load_ext autoreload\n",
    "%autoreload 2\n",
    "from deepgd import *"
   ]
  },
  {
   "cell_type": "markdown",
   "metadata": {
    "id": "z4eBEyB1oaJe"
   },
   "source": [
    "# Config"
   ]
  },
  {
   "cell_type": "code",
   "execution_count": 2,
   "metadata": {
    "id": "Q_-MLFhpNvxF"
   },
   "outputs": [],
   "source": [
    "cuda_idx = 0\n",
    "canonicalization = Canonicalization(normalize=Standardization(norm_ord=1),\n",
    "                                    scale=False)\n",
    "config = StaticConfig({\n",
    "    \"name\": 'GAN(gan=ragan,data=best(xing,stress),dis=deep,share=2,embed=14,gp=0)',\n",
    "    \"uid\": None,\n",
    "    \"link\": None,\n",
    "    \"generator\": {\n",
    "        \"params\": {\n",
    "            \"num_blocks\": 9,\n",
    "            \"normalize\": canonicalization\n",
    "        },\n",
    "        \"pretrained\": {\n",
    "            \"name\": None,\n",
    "            \"epoch\": -1,\n",
    "        },\n",
    "        \"optim\": torch.optim.AdamW,\n",
    "        \"lr\" : {\n",
    "            \"initial\": 1e-3,\n",
    "            \"decay\": 0.99,\n",
    "        },\n",
    "    },\n",
    "    \"discriminator\": {\n",
    "        \"params\": {\n",
    "            \"conv\": [2, 16, 16, 16],\n",
    "            \"dense\": [2],\n",
    "            \"shared_depth\": 2,\n",
    "            \"enet_depth\": 14,\n",
    "            \"enet_width\": 64,\n",
    "            \"aggr\": \"add\",\n",
    "            \"normalize\": canonicalization\n",
    "        },\n",
    "        \"pretrained\": {\n",
    "            \"name\": None,\n",
    "            \"epoch\": -1,\n",
    "        },\n",
    "        \"optim\": torch.optim.AdamW,\n",
    "        \"lr\" : {\n",
    "            \"initial\": 1e-3,\n",
    "            \"decay\": 0.99,\n",
    "        },\n",
    "        \"noise\": {\n",
    "            \"std\": 0,\n",
    "            \"decay\": 0.95,\n",
    "        },\n",
    "        \"repeat\": 1,\n",
    "        \"complete\": True,\n",
    "        \"adaptive\": True\n",
    "    },\n",
    "    \"alternate\": \"epoch\",\n",
    "    \"batchsize\": 20,\n",
    "    \"epoch\": {\n",
    "        \"start\": -1,\n",
    "        \"end\": None,\n",
    "    },\n",
    "    \"log_interval\": 1,\n",
    "    \"test\": {\n",
    "        \"name\": \"test\",\n",
    "        \"epoch\": -1,\n",
    "    },\n",
    "    \"gan_flavor\": \"ragan\",\n",
    "    \"gp_weight\": 0,\n",
    "})\n",
    "data_config = StaticConfig({\n",
    "    \"sparse\": False,\n",
    "    \"pivot\": None,\n",
    "    \"init\": \"pmds\",\n",
    "    \"edge\": {\n",
    "        \"index\": \"full_edge_index\",\n",
    "        \"attr\": \"full_edge_attr\",\n",
    "    },\n",
    "})\n",
    "loss_fns = {\n",
    "    Stress(): 1\n",
    "}\n",
    "ctrler_params = {\n",
    "    \"tau\": 0.95,\n",
    "    \"beta\": 1,\n",
    "    \"exploit_rate\": 0.5,\n",
    "    \"warmup\": 2,\n",
    "}\n",
    "paths = StaticConfig({\n",
    "    \"root\": \"artifacts\",\n",
    "    \"checkpoints\": lambda: f\"{paths.root}/checkpoints/{config.name}\",\n",
    "    \"gen_pretrain\": lambda: f\"{paths.root}/checkpoints/{config.generator.pretrained.name}\",\n",
    "    \"dis_pretrain\": lambda: f\"{paths.root}/checkpoints/{config.discriminator.pretrained.name}\",\n",
    "    \"tensorboard\": lambda: f\"{paths.root}/tensorboards/{config.name}\",\n",
    "    \"visualization\": lambda: f\"{paths.root}/visualizations/{config.name}_{config.test.name}\",\n",
    "    \"log\": lambda: f\"{paths.root}/logs/{config.name}.log\",\n",
    "    \"metrics\": lambda suffix: f\"{paths.root}/metrics/{config.name}_{suffix}.pickle\",\n",
    "})"
   ]
  },
  {
   "cell_type": "code",
   "execution_count": 3,
   "metadata": {
    "id": "mdMEAbH10Qaq"
   },
   "outputs": [],
   "source": [
    "if \" \" in config.name:\n",
    "    raise Exception(\"Space is not allowed in model name.\")"
   ]
  },
  {
   "cell_type": "markdown",
   "metadata": {
    "id": "WynW4ZAdBhep"
   },
   "source": [
    "# Prepare"
   ]
  },
  {
   "cell_type": "markdown",
   "metadata": {
    "id": "DR6-vYtr_i_P"
   },
   "source": [
    "## Get log command"
   ]
  },
  {
   "cell_type": "code",
   "execution_count": 4,
   "metadata": {
    "colab": {
     "base_uri": "https://localhost:8080/"
    },
    "id": "9-QpinlslcTO",
    "outputId": "48ae3716-212c-4d46-9efb-b7b4070f73de"
   },
   "outputs": [
    {
     "name": "stdout",
     "output_type": "stream",
     "text": [
      "cd /users/PAS0027/osu10203/deepgd && tail -n1000 -f 'artifacts/logs/GAN(gan=ragan,data=best(xing,stress),dis=deep,share=2,embed=14,gp=0).log'\n"
     ]
    }
   ],
   "source": [
    "print(f\"cd {os.getcwd()} && tail -n1000 -f '{paths.log()}'\")"
   ]
  },
  {
   "cell_type": "code",
   "execution_count": 5,
   "metadata": {},
   "outputs": [
    {
     "name": "stdout",
     "output_type": "stream",
     "text": [
      "tensorboard dev upload --logdir 'artifacts/tensorboards/GAN(gan=ragan,data=best(xing,stress),dis=deep,share=2,embed=14,gp=0)'\n"
     ]
    }
   ],
   "source": [
    "print(f\"tensorboard dev upload --logdir '{paths.tensorboard()}'\")"
   ]
  },
  {
   "cell_type": "markdown",
   "metadata": {
    "id": "innqkwvH_ydD"
   },
   "source": [
    "## Set globals"
   ]
  },
  {
   "cell_type": "code",
   "execution_count": 6,
   "metadata": {
    "id": "Qjq7JlSZlkQR"
   },
   "outputs": [],
   "source": [
    "if cuda_idx is not None and torch.cuda.is_available():\n",
    "    device = f'cuda:{cuda_idx}'\n",
    "    pynvml.nvmlInit()\n",
    "    cuda = pynvml.nvmlDeviceGetHandleByIndex(cuda_idx)\n",
    "else:\n",
    "    device = 'cpu'\n",
    "    cuda =  None\n",
    "np.set_printoptions(precision=2)\n",
    "warnings.filterwarnings(\"ignore\", category=RuntimeWarning)"
   ]
  },
  {
   "cell_type": "markdown",
   "metadata": {
    "id": "0da286l_ApEL"
   },
   "source": [
    "## Load data"
   ]
  },
  {
   "cell_type": "code",
   "execution_count": 7,
   "metadata": {
    "colab": {
     "base_uri": "https://localhost:8080/"
    },
    "id": "RFuSHiZJMU4x",
    "outputId": "54065609-aaea-4536-d79c-73bc73b3f576"
   },
   "outputs": [
    {
     "name": "stdout",
     "output_type": "stream",
     "text": [
      "Load from 'cache/G_list.pickle'\n",
      "Load from 'cache/generate_data_list(list,sparse=False,pivot_mode=None,init_mode=pmds,edge_index=full_edge_index,edge_attr=full_edge_attr,pmds_list=ndarray,gviz_list=ndarray,noisy_layout=True,device=cpu).pickle'\n"
     ]
    },
    {
     "name": "stderr",
     "output_type": "stream",
     "text": [
      "/users/PAS0027/osu10203/.conda/envs/deepgd/lib/python3.9/site-packages/torch_geometric/deprecation.py:13: UserWarning: 'data.DataLoader' is deprecated, use 'loader.DataLoader' instead\n",
      "  warnings.warn(out)\n"
     ]
    }
   ],
   "source": [
    "G_list = load_G_list(data_path='data/rome', index_file='data_index.txt', cache='G_list', cache_prefix='cache/')\n",
    "data_list = generate_data_list(G_list, \n",
    "                               sparse=data_config.sparse, \n",
    "                               pivot_mode=data_config.pivot,\n",
    "                               init_mode=data_config.init,\n",
    "                               edge_index=data_config.edge.index,\n",
    "                               edge_attr=data_config.edge.attr,\n",
    "                               pmds_list=np.load('layouts/rome/pmds.npy', allow_pickle=True),\n",
    "                               gviz_list=np.load('layouts/rome/gviz.npy', allow_pickle=True),\n",
    "                               noisy_layout=True,\n",
    "                               device='cpu', \n",
    "                               cache=True,\n",
    "                               cache_prefix='cache/')\n",
    "train_loader = LazyDeviceMappingDataLoader(data_list[:10000], batch_size=config.batchsize, shuffle=True, device=device)\n",
    "val_loader = LazyDeviceMappingDataLoader(data_list[11000:], batch_size=config.batchsize, shuffle=False, device=device)"
   ]
  },
  {
   "cell_type": "code",
   "execution_count": 8,
   "metadata": {
    "id": "djd1pLt2OxZq"
   },
   "outputs": [],
   "source": [
    "def draw_layout(G, method, draw=True):\n",
    "    if method == 'fa2':\n",
    "        layout = get_fa2_layout(G)\n",
    "    else:\n",
    "        try:\n",
    "            fn = getattr(nx.drawing.layout, f'{method}_layout')\n",
    "            layout = fn(G)\n",
    "        except:\n",
    "            layout = nx.drawing.nx_agraph.graphviz_layout(G, prog=method)\n",
    "    if draw:\n",
    "        nx.draw(G, pos=layout)\n",
    "    return layout"
   ]
  },
  {
   "cell_type": "code",
   "execution_count": 9,
   "metadata": {
    "id": "2vBBw77lR7Em"
   },
   "outputs": [],
   "source": [
    "methods = ['neato', 'dot', 'fdp', 'sfdp', 'twopi', 'circo', 'shell', 'spring', 'circular', 'spectral', 'kamada_kawai', 'fa2', 'pmds']"
   ]
  },
  {
   "cell_type": "code",
   "execution_count": 10,
   "metadata": {
    "id": "dx6VVA9XIc2O"
   },
   "outputs": [],
   "source": [
    "from functools import lru_cache\n",
    "\n",
    "@lru_cache(maxsize=None)\n",
    "def load_pos(method):\n",
    "    return np.load(f'layouts/rome/{method}.npy', allow_pickle=True)"
   ]
  },
  {
   "cell_type": "code",
   "execution_count": 11,
   "metadata": {
    "colab": {
     "base_uri": "https://localhost:8080/",
     "height": 1000,
     "referenced_widgets": [
      "05a37aeeb20049dfa2f97287b3990556",
      "a75afae3adfd4810a0b0991a062535ee",
      "a24ae105ed124595992f7e2e5f909247",
      "01b4cabaf8004dd4b9269b4e6889c498",
      "f3c7c84f2b314bd8b97a7358deaf4fa1",
      "35e4a83e692b4a7bafb46fdf192b2586",
      "62847b5e2678459f845159eef6d4feab",
      "143e81f00313436dacfa246a57108944",
      "e05833f11803400b95ff22246cdc8f2b",
      "53aeede91e074378b5d7f626165655ee",
      "79a43768c1794a10a788a49e5883aa2c"
     ]
    },
    "id": "MSmP-jem9I0X",
    "outputId": "c698f0bf-e96e-4de9-aeda-0b046fc0a03f",
    "scrolled": true,
    "tags": []
   },
   "outputs": [],
   "source": [
    "# best_list = []\n",
    "# best_layout_list = []\n",
    "# for idx, (G, data) in enumerate(zip(tqdm(G_list), data_list)):\n",
    "#     xing, stress, layout = {}, {}, {}\n",
    "#     for m in methods:\n",
    "#         batch = Batch.from_data_list([data])\n",
    "#         pos = load_pos(m)\n",
    "#         p = CanonicalizationByStress()(torch.tensor(pos[idx]).float(), batch)\n",
    "#         x = Xing()(p, batch).item()\n",
    "#         s = Stress()(p, batch).item()\n",
    "#         xing[m] = x\n",
    "#         stress[m] = s\n",
    "#         layout[m] = p.numpy()\n",
    "#         # plt.figure()\n",
    "#         # graph_vis(G, pos[idx])\n",
    "#         # plt.title(f'{m} stress={s:.2f} xing={x}')\n",
    "#     best, *_ = sorted(methods, key=lambda m: (xing[m], stress[m]))\n",
    "#     best_list.append(best)\n",
    "#     best_layout_list.append(layout[best])\n",
    "#     print(f'{best}, xing={xing[best]}, stress={stress[best]:.2f}')"
   ]
  },
  {
   "cell_type": "code",
   "execution_count": 12,
   "metadata": {
    "colab": {
     "base_uri": "https://localhost:8080/"
    },
    "id": "Mx2bZNugdTqa",
    "outputId": "cec05a67-18e8-492f-aaa1-057274a8341a"
   },
   "outputs": [],
   "source": [
    "# pickle.dump(best_list, open('layouts/rome/best[xing,stress].pkl', 'wb'))\n",
    "# np.save('layouts/rome/best[xing,stress].npy', best_layout_list)"
   ]
  },
  {
   "cell_type": "code",
   "execution_count": 13,
   "metadata": {
    "colab": {
     "base_uri": "https://localhost:8080/",
     "height": 49,
     "referenced_widgets": [
      "7e0ae84dd0f3458d893c81b029fe1729",
      "18bdc3bf80fb434abde68de5b72a8870",
      "2e3552ded9594635a51832387ae754a0",
      "54f4aa5080c6498080a63be2cdeefee5",
      "3937586d0879451da5e2138ca3bfd0a0",
      "a9df6e84ce8c499eb2b2cf984995d791",
      "7af6b718dd3d4e01b264377a2fa938e2",
      "a774c86e64004bd6951645f1c24abad4",
      "c86575117cd041f2837762f37d1f387b",
      "6e9907cefb1241688fbd248b8281ed9f",
      "9b8e5405d8264944acab57e81f2f5ad6"
     ]
    },
    "id": "A1-w1fspC53p",
    "outputId": "09c2d5c3-1eef-41eb-dcee-581af1294804"
   },
   "outputs": [
    {
     "data": {
      "application/vnd.jupyter.widget-view+json": {
       "model_id": "0f41ba498722433da8234341c4a03b03",
       "version_major": 2,
       "version_minor": 0
      },
      "text/plain": [
       "  0%|          | 0/11531 [00:00<?, ?it/s]"
      ]
     },
     "metadata": {},
     "output_type": "display_data"
    }
   ],
   "source": [
    "best_layout_list = np.load('layouts/rome/best[xing,stress].npy', allow_pickle=True)\n",
    "for data, layout in zip(tqdm(data_list), best_layout_list):\n",
    "    data.gt_pos = torch.tensor(layout)"
   ]
  },
  {
   "cell_type": "code",
   "execution_count": 14,
   "metadata": {
    "id": "y6EGh4U7exL_"
   },
   "outputs": [],
   "source": [
    "train_loader = LazyDeviceMappingDataLoader(data_list[:10000], batch_size=config.batchsize, shuffle=True, device=device)\n",
    "val_loader = LazyDeviceMappingDataLoader(data_list[11000:], batch_size=config.batchsize, shuffle=False, device=device)"
   ]
  },
  {
   "cell_type": "code",
   "execution_count": 15,
   "metadata": {
    "colab": {
     "base_uri": "https://localhost:8080/",
     "height": 103,
     "referenced_widgets": [
      "38a33cf69aff48f4aabd4902a7ce48b1",
      "57e277bcb44c4e2fa2a12105d75153d1",
      "20ce017c46bd4a7c9b420270ac579405",
      "13f2df4fe0ce4af88b6e3bd1637065b0",
      "2867faa145ca4860a198d4d0bf830f89",
      "02838cf669174ed9afa41a1a8e680765",
      "7e9e3c031667455f8baca163d3a213e5",
      "4000135e7dfa46529fa6244fccc5cb57",
      "e523e9faac5b4ec38643c05ac5ba99f7",
      "e8e3ee9741e4480dae5003ccc19a7891",
      "9a569045221b43acb3ba2fbf116b2c74"
     ]
    },
    "id": "YEfRRUK0NiNm",
    "outputId": "93f53d05-7667-4cda-a38e-c3a953124f79"
   },
   "outputs": [],
   "source": [
    "# for m in methods:\n",
    "#     layouts = []\n",
    "#     for G in tqdm(G_list):\n",
    "#         layout = draw_layout(G, method=m, draw=False)\n",
    "#         layouts.append(np.array(list(layout.values())))\n",
    "#     np.save(f'layouts/rome/{m}.npy', layouts)"
   ]
  },
  {
   "cell_type": "code",
   "execution_count": 16,
   "metadata": {
    "colab": {
     "base_uri": "https://localhost:8080/",
     "height": 564
    },
    "id": "upK7AHYqPmC5",
    "outputId": "29a88e61-f55f-409c-9194-12c6d5762528"
   },
   "outputs": [],
   "source": [
    "# from collections import Counter\n",
    "\n",
    "# letter_counts = Counter(best_list)\n",
    "# df = pd.DataFrame.from_dict(letter_counts, orient='index')\n",
    "# df.plot(kind='bar', figsize=[12, 8])"
   ]
  },
  {
   "cell_type": "markdown",
   "metadata": {
    "id": "f-ODE2k8BFV6"
   },
   "source": [
    "## Create folders"
   ]
  },
  {
   "cell_type": "code",
   "execution_count": 17,
   "metadata": {
    "id": "3ykUMINYBRog"
   },
   "outputs": [],
   "source": [
    "mkdirs(paths.checkpoints(), paths.tensorboard(), paths.visualization(), f\"{paths.root}/logs\", f\"{paths.root}/metrics\")"
   ]
  },
  {
   "cell_type": "markdown",
   "metadata": {
    "id": "BFq9k5nzBIh5"
   },
   "source": [
    "## Load checkpoints"
   ]
  },
  {
   "cell_type": "code",
   "execution_count": 18,
   "metadata": {
    "id": "W5NbsKkobIfA"
   },
   "outputs": [],
   "source": [
    "class EdgeFeatureDiscriminator(nn.Module):\n",
    "    def __init__(self, \n",
    "                 conv, \n",
    "                 dense,\n",
    "                 shared_depth,\n",
    "                 enet_depth,\n",
    "                 enet_width,\n",
    "                 aggr='add', \n",
    "                 root_weight=True,\n",
    "                 normalize=None):\n",
    "        super().__init__()\n",
    "        self.enet = nn.Sequential(*[\n",
    "            DenseLayer(in_dim=in_d,\n",
    "                       out_dim=out_d,\n",
    "                       skip=nonlin,\n",
    "                       bn=nonlin,\n",
    "                       act=nonlin,\n",
    "                       dp=None)\n",
    "            for in_d, out_d, nonlin \n",
    "            in zip([self._get_feature_dim()] + [enet_width] * (shared_depth-1),\n",
    "                   [enet_width] * shared_depth,\n",
    "                   [True] * (shared_depth-1) + [False])     \n",
    "        ])\n",
    "        self.blocks = nn.ModuleList([\n",
    "            GNNLayer(nfeat_dims=(in_d, out_d),\n",
    "                     efeat_dim=enet_width,\n",
    "                     edge_net=EdgeNet(nfeat_dims=(in_d, out_d), \n",
    "                                      efeat_dim=enet_width, \n",
    "                                      depth=enet_depth, \n",
    "                                      width=enet_width),\n",
    "                     aggr=aggr,\n",
    "                     dense=False,\n",
    "                     skip=nonlin,\n",
    "                     bn=nonlin,\n",
    "                     act=nonlin,\n",
    "                     root_weight=root_weight) \n",
    "            for in_d, out_d, nonlin \n",
    "            in zip(conv[:-1], conv[1:], [True] * (len(conv)-2) + [False])     \n",
    "        ])\n",
    "        self.pool = (gnn.global_mean_pool if aggr == 'mean' \n",
    "                     else gnn.global_add_pool if aggr == 'add' \n",
    "                     else None)\n",
    "        self.dense = nn.Identity() if not dense else nn.Sequential(*[\n",
    "            DenseLayer(in_dim=in_d,\n",
    "                       out_dim=out_d,\n",
    "                       skip=nonlin,\n",
    "                       bn=nonlin,\n",
    "                       act=nonlin,\n",
    "                       dp=None)\n",
    "            for in_d, out_d, nonlin \n",
    "            in zip(conv[-1:] + dense[:-1], dense, [True] * (len(dense)-1) + [False])     \n",
    "        ])\n",
    "        self.normalize = normalize or IdentityTransformation()\n",
    "    \n",
    "    def forward(self, batch):\n",
    "        x = torch.ones_like(batch.pos)\n",
    "        e = self.enet(self._get_features(self._get_edge_info(batch, layout='pos')))\n",
    "        for block in self.blocks:\n",
    "            x = block(x, e, batch)\n",
    "        x = self.pool(x, batch.batch)\n",
    "        x = self.dense(x)\n",
    "        return x\n",
    "    \n",
    "    def _get_edge_info(self, batch, layout='gt_pos'):\n",
    "        pos = self.normalize(batch[layout].float(), batch)\n",
    "        src, dst = get_edges(pos, batch)\n",
    "        v, u = l2_normalize(dst - src, return_norm=True)\n",
    "        d = batch.edge_attr[:, :1]\n",
    "        return {\n",
    "            \"src\": src,\n",
    "            \"dst\": dst,\n",
    "            \"v\": v,\n",
    "            \"u\": u,\n",
    "            \"d\": d,\n",
    "        }\n",
    "\n",
    "    def _get_features(self, edges):\n",
    "        return torch.cat([edges['src'], edges['dst'], edges['d']], dim=1)\n",
    "        \n",
    "    def _get_feature_dim(self):\n",
    "        return self._get_features({\n",
    "            \"src\": torch.zeros(1, 2),\n",
    "            \"dst\": torch.zeros(1, 2),\n",
    "            \"v\": torch.zeros(1, 2),\n",
    "            \"u\": torch.zeros(1, 1),\n",
    "            \"d\": torch.zeros(1, 1),\n",
    "        }).shape[-1]"
   ]
  },
  {
   "cell_type": "code",
   "execution_count": 19,
   "metadata": {
    "id": "96ZActxlL0fJ"
   },
   "outputs": [],
   "source": [
    "class StressDiscriminator(nn.Module):\n",
    "    def __init__(self, normalize=CanonicalizationByStress(), **kwargs):\n",
    "        super().__init__()\n",
    "        self.dummy = nn.Parameter(torch.zeros(1))\n",
    "        self.normalize = normalize\n",
    "        self.stress = Stress(reduce=None)\n",
    "\n",
    "    def forward(self, batch):\n",
    "        return -self.stress(self.normalize(batch.pos, batch), batch)"
   ]
  },
  {
   "cell_type": "code",
   "execution_count": 20,
   "metadata": {
    "id": "IJ6xCYBUuhcw"
   },
   "outputs": [],
   "source": [
    "def get_ckpt_epoch(folder, epoch):\n",
    "    if not os.path.isdir(folder):\n",
    "        os.mkdir(folder)\n",
    "    if epoch >= 0:\n",
    "        return epoch\n",
    "    ckpt_files = os.listdir(folder)\n",
    "    last_epoch = 0\n",
    "    if ckpt_files:\n",
    "        last_epoch = sorted(list(map(lambda x: int(re.search('(?<=epoch_)(\\d+)(?=\\.)', x).group(1)), ckpt_files)))[-1]\n",
    "    return last_epoch + epoch + 1\n",
    "\n",
    "def start_epoch():\n",
    "    return get_ckpt_epoch(paths.checkpoints(), config.epoch.start)"
   ]
  },
  {
   "cell_type": "code",
   "execution_count": 21,
   "metadata": {
    "colab": {
     "base_uri": "https://localhost:8080/"
    },
    "id": "JacDYXka9U01",
    "outputId": "ef4e31ab-2144-497c-8e4f-4d3740ce2d52"
   },
   "outputs": [
    {
     "name": "stdout",
     "output_type": "stream",
     "text": [
      "Loading from artifacts/checkpoints/GAN(gan=ragan,data=best(xing,stress),dis=deep,share=2,embed=14,gp=0)/gen_epoch_271.pt...\n",
      "Loading from artifacts/checkpoints/GAN(gan=ragan,data=best(xing,stress),dis=deep,share=2,embed=14,gp=0)/gen_optim_epoch_271.pt...\n"
     ]
    }
   ],
   "source": [
    "generator = Generator(**config.generator.params[...]).to(device)\n",
    "generator_optimizer = config.generator.optim(generator.parameters(), lr=config.generator.lr.initial * config.generator.lr.decay ** start_epoch())\n",
    "generator_scheduler = torch.optim.lr_scheduler.ExponentialLR(generator_optimizer, gamma=config.generator.lr.decay)\n",
    "if start_epoch() != 0:\n",
    "    gen_ckpt_epoch = start_epoch()\n",
    "elif config.generator.pretrained.name is not None and config.generator.pretrained.epoch != 0:\n",
    "    gen_pretrained_epoch = get_ckpt_epoch(paths.gen_pretrain(), config.generator.pretrained.epoch)\n",
    "    gen_ckpt_epoch = gen_pretrained_epoch \n",
    "else:\n",
    "    gen_ckpt_epoch = None\n",
    "if gen_ckpt_epoch is not None:\n",
    "    # Load generator\n",
    "    gen_ckpt_file = f\"{paths.checkpoints()}/gen_epoch_{gen_ckpt_epoch}.pt\"\n",
    "    print(f\"Loading from {gen_ckpt_file}...\")\n",
    "    generator.load_state_dict(torch.load(gen_ckpt_file, map_location=torch.device(device)))\n",
    "    # Load generator optimizer\n",
    "    gen_optim_ckpt_file = f\"{paths.checkpoints()}/gen_optim_epoch_{gen_ckpt_epoch}.pt\"\n",
    "    print(f\"Loading from {gen_optim_ckpt_file}...\")\n",
    "    generator_optimizer.load_state_dict(torch.load(gen_optim_ckpt_file, map_location=torch.device(device)))"
   ]
  },
  {
   "cell_type": "code",
   "execution_count": 22,
   "metadata": {
    "colab": {
     "base_uri": "https://localhost:8080/"
    },
    "id": "oWQhD7-88VXe",
    "outputId": "3ba01600-b546-4e45-a6bd-c7a65af1ae9e"
   },
   "outputs": [
    {
     "name": "stdout",
     "output_type": "stream",
     "text": [
      "Loading from artifacts/checkpoints/GAN(gan=ragan,data=best(xing,stress),dis=deep,share=2,embed=14,gp=0)/dis_epoch_271.pt...\n",
      "Loading from artifacts/checkpoints/GAN(gan=ragan,data=best(xing,stress),dis=deep,share=2,embed=14,gp=0)/dis_optim_epoch_271.pt...\n"
     ]
    }
   ],
   "source": [
    "discriminator = EdgeFeatureDiscriminator(**config.discriminator.params[...]).to(device)\n",
    "discriminator_optimizer = config.discriminator.optim(discriminator.parameters(), lr=config.discriminator.lr.initial * config.discriminator.lr.decay ** start_epoch())\n",
    "discriminator_scheduler = torch.optim.lr_scheduler.ExponentialLR(discriminator_optimizer, gamma=config.discriminator.lr.decay)\n",
    "if start_epoch() != 0:\n",
    "    dis_ckpt_epoch = start_epoch()\n",
    "elif config.discriminator.pretrained.name is not None and config.discriminator.pretrained.epoch != 0:\n",
    "    dis_pretrained_epoch = get_ckpt_epoch(paths.dis_pretrain(), config.discriminator.pretrained.epoch)\n",
    "    dis_ckpt_epoch = dis_pretrained_epoch # f\"{paths.dis_pretrain()}/dis_epoch_{dis_pretrained_epoch}.pt\"\n",
    "else:\n",
    "    dis_ckpt_epoch = None\n",
    "if dis_ckpt_epoch is not None:\n",
    "    # Load discriminator\n",
    "    dis_ckpt_file = f\"{paths.checkpoints()}/dis_epoch_{dis_ckpt_epoch}.pt\"\n",
    "    print(f\"Loading from {dis_ckpt_file}...\")\n",
    "    discriminator.load_state_dict(torch.load(dis_ckpt_file, map_location=torch.device(device)))\n",
    "    # Load discriminator optimizer\n",
    "    dis_optim_ckpt_file = f\"{paths.checkpoints()}/dis_optim_epoch_{dis_ckpt_epoch}.pt\"\n",
    "    print(f\"Loading from {dis_optim_ckpt_file}...\")\n",
    "    discriminator_optimizer.load_state_dict(torch.load(dis_optim_ckpt_file, map_location=torch.device(device)))"
   ]
  },
  {
   "cell_type": "markdown",
   "metadata": {
    "id": "N39dDHraedM6"
   },
   "source": [
    "# Train"
   ]
  },
  {
   "cell_type": "code",
   "execution_count": 23,
   "metadata": {
    "id": "BdIJSDSJedM-"
   },
   "outputs": [],
   "source": [
    "stress_criterion = StressDiscriminator().to(device)\n",
    "val_criterion = Stress(reduce=None)\n",
    "xing_criterion = Xing(reduce=None)\n",
    "dis_convert = DiscriminatorDataConverter(complete_graph=config.discriminator.complete, normalize=config.discriminator.params.normalize)\n",
    "tensorboard = SummaryWriter(log_dir=paths.tensorboard())\n",
    "epoch = start_epoch() + 1"
   ]
  },
  {
   "cell_type": "code",
   "execution_count": 24,
   "metadata": {
    "id": "OHRWj1h0edM-"
   },
   "outputs": [],
   "source": [
    "def gradient_penalty(interpolated, discriminator, weight=10):\n",
    "    interpolated.pos.requires_grad_()\n",
    "    prob_interpolated = discriminator(interpolated)\n",
    "    gradients = autograd.grad(outputs=prob_interpolated, \n",
    "                              inputs=interpolated.pos,\n",
    "                              grad_outputs=torch.ones_like(prob_interpolated),\n",
    "                              create_graph=True, \n",
    "                              retain_graph=True, \n",
    "                              allow_unused=True)[0]\n",
    "    gradients_norm = torch.sqrt(gnn.global_add_pool(gradients.square().sum(dim=1), batch.batch) + 1e-8)\n",
    "    return weight * ((gradients_norm - 1) ** 2).mean()"
   ]
  },
  {
   "cell_type": "code",
   "execution_count": 25,
   "metadata": {
    "id": "o5wJJN9AedM_"
   },
   "outputs": [],
   "source": [
    "def get_gp_loss(batch, fake_pos, weight):\n",
    "    if weight > 0:\n",
    "        interp = dis_convert(batch, fake_pos, random.random())\n",
    "        return gradient_penalty(interp, discriminator, weight).mean()\n",
    "    return 0"
   ]
  },
  {
   "cell_type": "code",
   "execution_count": 26,
   "metadata": {
    "id": "QwuA6sRoedM_"
   },
   "outputs": [],
   "source": [
    "def get_sgan_loss(batch, fake_pos, mode='discriminator'):\n",
    "    real = dis_convert(batch)\n",
    "    fake = dis_convert(batch, fake_pos)\n",
    "    pred = discriminator(merge_batch(real, fake)).view(2, -1).T\n",
    "    if mode == 'discriminator':\n",
    "        label = torch.zeros(pred.shape[0]).long()\n",
    "    elif mode == 'generator':\n",
    "        label = torch.ones(pred.shape[0]).long()\n",
    "    else:\n",
    "        raise Exception\n",
    "    return nn.CrossEntropyLoss()(pred, label)"
   ]
  },
  {
   "cell_type": "code",
   "execution_count": 27,
   "metadata": {
    "id": "GuAP1YchedNA"
   },
   "outputs": [],
   "source": [
    "def get_rgan_loss(batch, fake_pos, mode='discriminator'):\n",
    "    real = dis_convert(batch)\n",
    "    fake = dis_convert(batch, fake_pos)\n",
    "    pred = discriminator(merge_batch(real, fake)).view(2, -1).T\n",
    "    real_pred, fake_pred = pred[:,0], pred[:,1]\n",
    "    if mode == 'discriminator':\n",
    "        losses = - F.logsigmoid(real_pred - fake_pred)\n",
    "    elif mode == 'generator':\n",
    "        losses = - F.logsigmoid(fake_pred - real_pred)\n",
    "    else:\n",
    "        raise Exception\n",
    "    return losses.mean()"
   ]
  },
  {
   "cell_type": "code",
   "execution_count": 28,
   "metadata": {
    "id": "KFllQ7BredNA"
   },
   "outputs": [],
   "source": [
    "def get_wgan_loss(batch, fake_pos, mode='discriminator'):\n",
    "    real = dis_convert(batch)\n",
    "    fake = dis_convert(batch, fake_pos)\n",
    "    pred = discriminator(merge_batch(real, fake)).view(2, -1).T\n",
    "    real_pred, fake_pred = pred[:,0], pred[:,1]\n",
    "    if mode == 'discriminator':\n",
    "        losses = fake_pred - real_pred \n",
    "    elif mode == 'generator':\n",
    "        losses = real_pred - fake_pred\n",
    "    else:\n",
    "        raise Exception\n",
    "    return losses.mean()"
   ]
  },
  {
   "cell_type": "code",
   "execution_count": 29,
   "metadata": {
    "id": "r5Kg_tYEedNA"
   },
   "outputs": [],
   "source": [
    "def get_ragan_loss(batch, fake_pos, mode='discriminator'):\n",
    "    real = dis_convert(batch)\n",
    "    fake = dis_convert(batch, fake_pos)\n",
    "    pred = discriminator(merge_batch(real, fake)).view(2, -1).T\n",
    "    real_pred, fake_pred = pred[:,0], pred[:,1]\n",
    "    if mode == 'discriminator':\n",
    "        losses = - F.logsigmoid(real_pred - fake_pred.mean()) - F.logsigmoid(real_pred.mean() - fake_pred)\n",
    "    elif mode == 'generator':\n",
    "        losses = - F.logsigmoid(fake_pred - real_pred.mean()) - F.logsigmoid(fake_pred.mean() - real_pred)\n",
    "    else:\n",
    "        raise Exception\n",
    "    return losses.mean()"
   ]
  },
  {
   "cell_type": "code",
   "execution_count": 30,
   "metadata": {},
   "outputs": [],
   "source": [
    "def get_dgdv2_loss(batch, fake_pos, mode='discriminator'):\n",
    "    fake = dis_convert(batch, fake_pos)\n",
    "    pred = discriminator(fake)\n",
    "    if mode == 'discriminator':\n",
    "        gt = get_gt(batch, fake_pos)\n",
    "        loss = criterion(pred, gt)\n",
    "    elif mode == 'generator':\n",
    "        losses = pred.sum(dim=0)\n",
    "#         losses = torch.tensor(config.importance).to(device) * losses #/ losses.detach()\n",
    "        loss = losses.sum()\n",
    "    else:\n",
    "        raise Exception\n",
    "    return -loss"
   ]
  },
  {
   "cell_type": "code",
   "execution_count": 31,
   "metadata": {
    "id": "3IE_84f-edNB"
   },
   "outputs": [],
   "source": [
    "def get_gan_loss(batch, fake_pos, mode='discriminator'):\n",
    "    return {\"sgan\": get_sgan_loss,\n",
    "            \"wgan\": get_wgan_loss,\n",
    "            \"rgan\": get_rgan_loss,\n",
    "            \"ragan\": get_ragan_loss,\n",
    "            \"dgdv2\": get_dgdv2_loss}[config.gan_flavor](batch, fake_pos, mode)"
   ]
  },
  {
   "cell_type": "code",
   "execution_count": 32,
   "metadata": {
    "colab": {
     "background_save": true,
     "base_uri": "https://localhost:8080/",
     "height": 80
    },
    "id": "2NjekXgkedNB",
    "outputId": "da85b2ec-c0de-459c-c0dd-7ba3519419fa",
    "scrolled": true,
    "tags": []
   },
   "outputs": [
    {
     "data": {
      "application/vnd.jupyter.widget-view+json": {
       "model_id": "91e5652053b24b4c8cb1d4095e097cd2",
       "version_major": 2,
       "version_minor": 0
      },
      "text/plain": [
       "Tab(children=(VBox(children=(Wrapper(), Hud())), HBox(children=(Output(),), layout=Layout(height='500px', over…"
      ]
     },
     "metadata": {},
     "output_type": "display_data"
    },
    {
     "ename": "KeyboardInterrupt",
     "evalue": "",
     "output_type": "error",
     "traceback": [
      "\u001b[0;31m---------------------------------------------------------------------------\u001b[0m",
      "\u001b[0;31mKeyboardInterrupt\u001b[0m                         Traceback (most recent call last)",
      "\u001b[0;32m/tmp/slurmtmp.5826414/ipykernel_214504/801679965.py\u001b[0m in \u001b[0;36m<module>\u001b[0;34m\u001b[0m\n\u001b[1;32m    133\u001b[0m     \u001b[0;32mif\u001b[0m \u001b[0mconfig\u001b[0m\u001b[0;34m.\u001b[0m\u001b[0malternate\u001b[0m \u001b[0;34m==\u001b[0m \u001b[0;34m'epoch'\u001b[0m\u001b[0;34m:\u001b[0m\u001b[0;34m\u001b[0m\u001b[0;34m\u001b[0m\u001b[0m\n\u001b[1;32m    134\u001b[0m         \u001b[0;32mfor\u001b[0m \u001b[0mbatch\u001b[0m \u001b[0;32min\u001b[0m \u001b[0mtrain_loader\u001b[0m\u001b[0;34m:\u001b[0m\u001b[0;34m\u001b[0m\u001b[0;34m\u001b[0m\u001b[0m\n\u001b[0;32m--> 135\u001b[0;31m             \u001b[0mtrain_gen\u001b[0m\u001b[0;34m(\u001b[0m\u001b[0mbatch\u001b[0m\u001b[0;34m,\u001b[0m \u001b[0mepoch\u001b[0m\u001b[0;34m)\u001b[0m\u001b[0;34m\u001b[0m\u001b[0;34m\u001b[0m\u001b[0m\n\u001b[0m\u001b[1;32m    136\u001b[0m \u001b[0;34m\u001b[0m\u001b[0m\n\u001b[1;32m    137\u001b[0m     \u001b[0mdiscriminator_scheduler\u001b[0m\u001b[0;34m.\u001b[0m\u001b[0mstep\u001b[0m\u001b[0;34m(\u001b[0m\u001b[0;34m)\u001b[0m\u001b[0;34m\u001b[0m\u001b[0;34m\u001b[0m\u001b[0m\n",
      "\u001b[0;32m/tmp/slurmtmp.5826414/ipykernel_214504/801679965.py\u001b[0m in \u001b[0;36mtrain_gen\u001b[0;34m(batch, epoch)\u001b[0m\n\u001b[1;32m     31\u001b[0m \u001b[0;34m\u001b[0m\u001b[0m\n\u001b[1;32m     32\u001b[0m     \u001b[0;31m#train generator\u001b[0m\u001b[0;34m\u001b[0m\u001b[0;34m\u001b[0m\u001b[0m\n\u001b[0;32m---> 33\u001b[0;31m     \u001b[0mgenerator_loss\u001b[0m\u001b[0;34m.\u001b[0m\u001b[0mbackward\u001b[0m\u001b[0;34m(\u001b[0m\u001b[0;34m)\u001b[0m\u001b[0;34m\u001b[0m\u001b[0;34m\u001b[0m\u001b[0m\n\u001b[0m\u001b[1;32m     34\u001b[0m     \u001b[0mgenerator_optimizer\u001b[0m\u001b[0;34m.\u001b[0m\u001b[0mstep\u001b[0m\u001b[0;34m(\u001b[0m\u001b[0;34m)\u001b[0m\u001b[0;34m\u001b[0m\u001b[0;34m\u001b[0m\u001b[0m\n\u001b[1;32m     35\u001b[0m \u001b[0;34m\u001b[0m\u001b[0m\n",
      "\u001b[0;32m~/.conda/envs/deepgd/lib/python3.9/site-packages/torch/_tensor.py\u001b[0m in \u001b[0;36mbackward\u001b[0;34m(self, gradient, retain_graph, create_graph, inputs)\u001b[0m\n\u001b[1;32m    253\u001b[0m                 \u001b[0mcreate_graph\u001b[0m\u001b[0;34m=\u001b[0m\u001b[0mcreate_graph\u001b[0m\u001b[0;34m,\u001b[0m\u001b[0;34m\u001b[0m\u001b[0;34m\u001b[0m\u001b[0m\n\u001b[1;32m    254\u001b[0m                 inputs=inputs)\n\u001b[0;32m--> 255\u001b[0;31m         \u001b[0mtorch\u001b[0m\u001b[0;34m.\u001b[0m\u001b[0mautograd\u001b[0m\u001b[0;34m.\u001b[0m\u001b[0mbackward\u001b[0m\u001b[0;34m(\u001b[0m\u001b[0mself\u001b[0m\u001b[0;34m,\u001b[0m \u001b[0mgradient\u001b[0m\u001b[0;34m,\u001b[0m \u001b[0mretain_graph\u001b[0m\u001b[0;34m,\u001b[0m \u001b[0mcreate_graph\u001b[0m\u001b[0;34m,\u001b[0m \u001b[0minputs\u001b[0m\u001b[0;34m=\u001b[0m\u001b[0minputs\u001b[0m\u001b[0;34m)\u001b[0m\u001b[0;34m\u001b[0m\u001b[0;34m\u001b[0m\u001b[0m\n\u001b[0m\u001b[1;32m    256\u001b[0m \u001b[0;34m\u001b[0m\u001b[0m\n\u001b[1;32m    257\u001b[0m     \u001b[0;32mdef\u001b[0m \u001b[0mregister_hook\u001b[0m\u001b[0;34m(\u001b[0m\u001b[0mself\u001b[0m\u001b[0;34m,\u001b[0m \u001b[0mhook\u001b[0m\u001b[0;34m)\u001b[0m\u001b[0;34m:\u001b[0m\u001b[0;34m\u001b[0m\u001b[0;34m\u001b[0m\u001b[0m\n",
      "\u001b[0;32m~/.conda/envs/deepgd/lib/python3.9/site-packages/torch/autograd/__init__.py\u001b[0m in \u001b[0;36mbackward\u001b[0;34m(tensors, grad_tensors, retain_graph, create_graph, grad_variables, inputs)\u001b[0m\n\u001b[1;32m    145\u001b[0m         \u001b[0mretain_graph\u001b[0m \u001b[0;34m=\u001b[0m \u001b[0mcreate_graph\u001b[0m\u001b[0;34m\u001b[0m\u001b[0;34m\u001b[0m\u001b[0m\n\u001b[1;32m    146\u001b[0m \u001b[0;34m\u001b[0m\u001b[0m\n\u001b[0;32m--> 147\u001b[0;31m     Variable._execution_engine.run_backward(\n\u001b[0m\u001b[1;32m    148\u001b[0m         \u001b[0mtensors\u001b[0m\u001b[0;34m,\u001b[0m \u001b[0mgrad_tensors_\u001b[0m\u001b[0;34m,\u001b[0m \u001b[0mretain_graph\u001b[0m\u001b[0;34m,\u001b[0m \u001b[0mcreate_graph\u001b[0m\u001b[0;34m,\u001b[0m \u001b[0minputs\u001b[0m\u001b[0;34m,\u001b[0m\u001b[0;34m\u001b[0m\u001b[0;34m\u001b[0m\u001b[0m\n\u001b[1;32m    149\u001b[0m         allow_unreachable=True, accumulate_grad=True)  # allow_unreachable flag\n",
      "\u001b[0;31mKeyboardInterrupt\u001b[0m: "
     ]
    }
   ],
   "source": [
    "def train_dis(batch, epoch):\n",
    "    generator.requires_grad_(False)\n",
    "    discriminator.zero_grad()\n",
    "    generator_output = generator(batch)\n",
    "    if config.discriminator.noise.std > 0:\n",
    "        generator_output = generator_output + torch.randn_like(generator_output) * config.discriminator.noise.std * config.discriminator.noise.decay ** epoch\n",
    "    discriminator_loss = get_gan_loss(batch, generator_output, mode='discriminator')\n",
    "    \n",
    "    # train discriminator\n",
    "    discriminator_loss.backward()\n",
    "    discriminator_optimizer.step()\n",
    "\n",
    "    # gradient penalty\n",
    "    if config.gp_weight > 0:\n",
    "        discriminator.zero_grad()\n",
    "        gp_loss = get_gp_loss(batch, generator_output, config.gp_weight)\n",
    "        gp_loss.backward()\n",
    "        discriminator_optimizer.step()\n",
    "\n",
    "    hud['dis_loss'] = format(discriminator_loss.item(), '.2e')\n",
    "    pbar().update()\n",
    "\n",
    "def train_gen(batch, epoch):\n",
    "    generator.requires_grad_(True)\n",
    "    generator.zero_grad()\n",
    "    discriminator.zero_grad()\n",
    "    generator_output = generator(batch)\n",
    "    if config.discriminator.noise.std > 0:\n",
    "        generator_output = generator_output + torch.randn_like(generator_output) * config.discriminator.noise.std * config.discriminator.noise.decay ** epoch\n",
    "    generator_loss = get_gan_loss(batch, generator_output, mode='generator') \n",
    "    \n",
    "    #train generator\n",
    "    generator_loss.backward()\n",
    "    generator_optimizer.step()\n",
    "\n",
    "    with torch.no_grad():\n",
    "        dis_batch = dis_convert(batch, generator_output)\n",
    "        stress = stress_criterion(dis_batch).mean()\n",
    "        critic = discriminator(dis_batch).mean()\n",
    "    hud.append({'gen_loss': format(generator_loss.item(), '.2e'),\n",
    "                'stress': format(stress.item(), '.2e'),\n",
    "                'critic': format(critic.item(), '.2e')})\n",
    "    pbar().update()\n",
    "\n",
    "def cuda_memsafe_map(fn, *iterables, summary=False):\n",
    "    total, failed = 0, 0\n",
    "    iterator = zip(*iterables)\n",
    "    items = None\n",
    "    while True:\n",
    "        try:\n",
    "            items = next(iterator)\n",
    "            yield fn(*items)\n",
    "        except StopIteration:\n",
    "            if summary:\n",
    "                print(f'Iteration finished. {failed} out of {total} failed!')\n",
    "            break\n",
    "        except RuntimeError:\n",
    "            print('CUDA memory overflow! Skip batch...')\n",
    "            del items\n",
    "            failed += 1\n",
    "        torch.cuda.empty_cache()\n",
    "        total += 1\n",
    "    \n",
    "def validate(model, data_loader, criterion=val_criterion):\n",
    "    def val_one_batch(batch):\n",
    "        batch = preprocess_batch(model, batch)\n",
    "        pred = CanonicalizationByStress()(model(batch), batch)\n",
    "        gt = CanonicalizationByStress()(batch.gt_pos, batch)\n",
    "        loss = criterion(pred, batch)\n",
    "        gt_loss = criterion(gt, batch)\n",
    "        spc = (loss - gt_loss) / torch.maximum(torch.maximum(loss, gt_loss), torch.ones_like(loss)*1e-5)\n",
    "        return loss.mean().item(), spc.mean().item()\n",
    "    loss_all, spc_all = zip(*cuda_memsafe_map(val_one_batch, data_loader))\n",
    "    return np.mean(loss_all), np.mean(spc_all)\n",
    "\n",
    "def log(msg):\n",
    "    msg = f\"[{epoch:03}] {msg}\"\n",
    "    print(msg, file=open(paths.log(), \"a\"))\n",
    "    with log_out: \n",
    "        print(msg)\n",
    "\n",
    "print(f\"{'='*10} {config.link} {'='*10}\", file=open(paths.log(), \"a\"))\n",
    "hud = Hud()\n",
    "pbar = Wrapper(tqdm, total=len(train_loader)*2, smoothing=0)\n",
    "plot_out = Output()\n",
    "log_out = Output()\n",
    "tabs = {\"status\": VBox([pbar, hud]), \n",
    "        \"plot\": HBox([plot_out], layout=Layout(height='500px', overflow_y='auto')),\n",
    "        \"log\": HBox([log_out], layout=Layout(height='500px', overflow_y='auto'))}\n",
    "tab_bar = Tab(children=list(tabs.values()))\n",
    "[tab_bar.set_title(i, name) for i, name in enumerate(tabs)]\n",
    "display(tab_bar)\n",
    "while True:\n",
    "    if epoch % config.log_interval == 0:\n",
    "        torch.save(generator.state_dict(), f\"{paths.checkpoints()}/gen_epoch_{epoch}.pt\")\n",
    "        torch.save(generator_optimizer.state_dict(), f\"{paths.checkpoints()}/gen_optim_epoch_{epoch}.pt\")\n",
    "        torch.save(discriminator.state_dict(), f\"{paths.checkpoints()}/dis_epoch_{epoch}.pt\")\n",
    "        torch.save(discriminator_optimizer.state_dict(), f\"{paths.checkpoints()}/dis_optim_epoch_{epoch}.pt\")\n",
    "        generator.eval()\n",
    "        with torch.no_grad():\n",
    "            val_stress, val_stress_spc = validate(model=generator, data_loader=val_loader)\n",
    "            val_xing, val_xing_spc = validate(model=generator, data_loader=val_loader, criterion=xing_criterion)\n",
    "            with plot_out:\n",
    "                fig = plt.figure()\n",
    "                graph_vis(G_list[11100], generator(make_batch(data_list[11100]).to(device)).cpu())\n",
    "                plt.show()\n",
    "        # tensorboard.add_scalars('loss', {'train': train_loss, \n",
    "        #                                  'validation': val_loss}, epoch)\n",
    "        # for i, fn in enumerate(loss_fns):\n",
    "        #     tensorboard.add_scalars(type(fn).__name__, {'train': train_loss_comp[i].item(), \n",
    "        #                                           'validation': val_loss_comp[i].item()}, epoch)\n",
    "        hud.append({\n",
    "            'val_stress': format(val_stress, '.2f'),\n",
    "            'val_stress_spc': format(val_stress_spc, '.2%'),\n",
    "            'val_xing': format(val_xing, '.2f'),\n",
    "            'val_xing_spc': format(val_xing_spc, '.2%'),\n",
    "        })\n",
    "        log(f\"stress={hud.data['val_stress']}({hud.data['val_stress_spc']}) xing={hud.data['val_xing']}({hud.data['val_xing_spc']})\")\n",
    "        \n",
    "    # handle.update(tab_bar)\n",
    "    pbar().reset()\n",
    "    pbar().set_description(desc=f\"[epoch {epoch}/{config.epoch.end}]\")\n",
    "    hud(title=f\"epoch {epoch}\")\n",
    "    generator.train()\n",
    "    discriminator.train()\n",
    "    # proper: proper layout\n",
    "    for _ in range(config.discriminator.repeat):\n",
    "        for batch in train_loader:\n",
    "            train_dis(batch, epoch)\n",
    "            if config.alternate == 'iteration':\n",
    "                train_gen(batch, epoch)\n",
    "\n",
    "    if config.alternate == 'epoch':\n",
    "        for batch in train_loader:\n",
    "            train_gen(batch, epoch)\n",
    "\n",
    "    discriminator_scheduler.step()\n",
    "    generator_scheduler.step()\n",
    "\n",
    "    if epoch == config.epoch.end:\n",
    "        break\n",
    "    epoch += 1"
   ]
  },
  {
   "cell_type": "markdown",
   "metadata": {
    "id": "0qYK_X_hrq9o"
   },
   "source": [
    "# Test"
   ]
  },
  {
   "cell_type": "code",
   "execution_count": 33,
   "metadata": {
    "colab": {
     "base_uri": "https://localhost:8080/"
    },
    "id": "XEvmAtNjWhcY",
    "outputId": "9f4c86a4-a4b0-48f1-cb58-ab3679173184"
   },
   "outputs": [
    {
     "name": "stdout",
     "output_type": "stream",
     "text": [
      "Loading from artifacts/checkpoints/GAN(gan=ragan,data=best(xing,stress),dis=deep,share=2,embed=14,gp=0)/gen_epoch_274.pt...\n"
     ]
    },
    {
     "data": {
      "text/plain": [
       "<All keys matched successfully>"
      ]
     },
     "execution_count": 33,
     "metadata": {},
     "output_type": "execute_result"
    }
   ],
   "source": [
    "test_epoch = -1\n",
    "\n",
    "test_generator = Generator(**config.generator.params[...]).to(device)\n",
    "test_ckpt_epoch = get_ckpt_epoch(paths.checkpoints(), test_epoch)\n",
    "test_ckpt_file = f\"{paths.checkpoints()}/gen_epoch_{test_ckpt_epoch}.pt\"\n",
    "print(f\"Loading from {test_ckpt_file}...\")\n",
    "test_generator.load_state_dict(torch.load(test_ckpt_file, map_location=torch.device(device)))"
   ]
  },
  {
   "cell_type": "code",
   "execution_count": 34,
   "metadata": {
    "colab": {
     "background_save": true,
     "base_uri": "https://localhost:8080/",
     "height": 1000,
     "referenced_widgets": [
      "9b7d18992dbf4a84931f916fbaaa37d8",
      "2c664d7e1e6d474fb87094fc0da270d3",
      "d375f5f82a4645d7b29c541596dc1c7f",
      "ecfa311bb06b4f6fa504598263ff69d3",
      "d1859990877149eab2b414b4e2a0e0c7",
      "d2be6733734844bca3e1db9b49eb1c1e",
      "4d98072bdf674792a13d77e85dd285d1",
      "f7ed92c383d741a0a1cef2536ff2db13",
      "2ba110f835c64ec4b82974996aed10af",
      "09397ceac9014af0aebca848d4d96d48",
      "fd0709f48d6c4527bc00b5f407f3c1b9"
     ]
    },
    "id": "ZubmSTcYrq9o",
    "outputId": "fc2f65a2-2085-43ac-b110-cbfe742318a8",
    "scrolled": true,
    "tags": []
   },
   "outputs": [
    {
     "data": {
      "application/vnd.jupyter.widget-view+json": {
       "model_id": "be20d664f84f42c1ae2ee68cfd06fdc7",
       "version_major": 2,
       "version_minor": 0
      },
      "text/plain": [
       "  0%|          | 0/1000 [00:00<?, ?it/s]"
      ]
     },
     "metadata": {},
     "output_type": "display_data"
    }
   ],
   "source": [
    "rotate = RotateByPrincipalComponents()\n",
    "def test_callback(*, idx, pred, metrics):\n",
    "    # graph_vis(G_list[idx], pred, file_name=f\"{paths.visualization()}/{idx}_{metrics['stress']:.2f}_{metrics['resolution_score']:.2f}.png\")\n",
    "    pred = rotate(torch.tensor(pred), data_list[idx])\n",
    "    graph_vis(G_list[idx], pred)\n",
    "    plt.title(f\"[pred] idx: {idx}, stress: {metrics['stress']:.2f}({metrics['stress_spc']:.2%}), xing: {metrics['xing']:.2f}({metrics['xing_spc']:.2%})\")\n",
    "    plt.show()\n",
    "    gt_pos = rotate(data_list[idx].gt_pos, data_list[idx])\n",
    "    graph_vis(G_list[idx], gt_pos, node_color='orange')\n",
    "    plt.title(f\"[gt] idx: {idx}, stress: {metrics['gt_stress']:.2f}, xing: {metrics['gt_xing']:.2f}\")\n",
    "    plt.show()\n",
    "    \n",
    "test_metrics = test(model=test_generator, \n",
    "                    criteria_list=[], \n",
    "                    dataset=data_list, \n",
    "                    idx_range=range(10000, 11000), \n",
    "#                     callback=test_callback,\n",
    "                    gt_pos=None)\n",
    "pickle.dump(test_metrics, open(paths.metrics(\"test\"), \"wb\"))"
   ]
  },
  {
   "cell_type": "code",
   "execution_count": 35,
   "metadata": {
    "colab": {
     "base_uri": "https://localhost:8080/",
     "height": 318
    },
    "id": "t2rFXIr_PsrJ",
    "outputId": "6a4205b1-4630-4de4-ec72-bdba3d3ea114"
   },
   "outputs": [
    {
     "name": "stdout",
     "output_type": "stream",
     "text": [
      "stress: tensor(326.0597)\n",
      "stress_spc: tensor(0.0850, dtype=torch.float64)\n",
      "xing: tensor(26.7200)\n",
      "xing_spc: tensor(0.1709, dtype=torch.float64)\n",
      "l1_angle: tensor(80.8095)\n",
      "l1_angle_spc: tensor(0.0617, dtype=torch.float64)\n",
      "edge: tensor(0.1770)\n",
      "edge_spc: tensor(0.2003, dtype=torch.float64)\n",
      "ring: tensor(251.4019)\n",
      "ring_spc: tensor(-3.1160e-05, dtype=torch.float64)\n",
      "tsne: tensor(0.2087)\n",
      "tsne_spc: tensor(0.1121, dtype=torch.float64)\n",
      "reso_score: tensor(0.5990)\n",
      "min_angle: tensor(4.8981)\n"
     ]
    },
    {
     "data": {
      "text/html": [
       "<style type=\"text/css\">\n",
       "</style>\n",
       "<table id=\"T_c3727_\">\n",
       "  <thead>\n",
       "    <tr>\n",
       "      <th class=\"blank level0\" >&nbsp;</th>\n",
       "      <th class=\"col_heading level0 col0\" >stress</th>\n",
       "      <th class=\"col_heading level0 col1\" >stress_spc</th>\n",
       "      <th class=\"col_heading level0 col2\" >xing</th>\n",
       "      <th class=\"col_heading level0 col3\" >xing_spc</th>\n",
       "      <th class=\"col_heading level0 col4\" >l1_angle</th>\n",
       "      <th class=\"col_heading level0 col5\" >l1_angle_spc</th>\n",
       "      <th class=\"col_heading level0 col6\" >edge</th>\n",
       "      <th class=\"col_heading level0 col7\" >edge_spc</th>\n",
       "      <th class=\"col_heading level0 col8\" >ring</th>\n",
       "      <th class=\"col_heading level0 col9\" >ring_spc</th>\n",
       "      <th class=\"col_heading level0 col10\" >tsne</th>\n",
       "      <th class=\"col_heading level0 col11\" >tsne_spc</th>\n",
       "      <th class=\"col_heading level0 col12\" >reso_score</th>\n",
       "      <th class=\"col_heading level0 col13\" >min_angle</th>\n",
       "    </tr>\n",
       "  </thead>\n",
       "  <tbody>\n",
       "    <tr>\n",
       "      <th id=\"T_c3727_level0_row0\" class=\"row_heading level0 row0\" >0</th>\n",
       "      <td id=\"T_c3727_row0_col0\" class=\"data row0 col0\" >326.06</td>\n",
       "      <td id=\"T_c3727_row0_col1\" class=\"data row0 col1\" >8.50%</td>\n",
       "      <td id=\"T_c3727_row0_col2\" class=\"data row0 col2\" >26.72</td>\n",
       "      <td id=\"T_c3727_row0_col3\" class=\"data row0 col3\" >17.09%</td>\n",
       "      <td id=\"T_c3727_row0_col4\" class=\"data row0 col4\" >80.81</td>\n",
       "      <td id=\"T_c3727_row0_col5\" class=\"data row0 col5\" >6.17%</td>\n",
       "      <td id=\"T_c3727_row0_col6\" class=\"data row0 col6\" >0.18</td>\n",
       "      <td id=\"T_c3727_row0_col7\" class=\"data row0 col7\" >20.03%</td>\n",
       "      <td id=\"T_c3727_row0_col8\" class=\"data row0 col8\" >251.40</td>\n",
       "      <td id=\"T_c3727_row0_col9\" class=\"data row0 col9\" >-0.00%</td>\n",
       "      <td id=\"T_c3727_row0_col10\" class=\"data row0 col10\" >0.21</td>\n",
       "      <td id=\"T_c3727_row0_col11\" class=\"data row0 col11\" >11.21%</td>\n",
       "      <td id=\"T_c3727_row0_col12\" class=\"data row0 col12\" >0.60</td>\n",
       "      <td id=\"T_c3727_row0_col13\" class=\"data row0 col13\" >4.90</td>\n",
       "    </tr>\n",
       "  </tbody>\n",
       "</table>\n"
      ],
      "text/plain": [
       "<pandas.io.formats.style.Styler at 0x2abccb3a37c0>"
      ]
     },
     "execution_count": 35,
     "metadata": {},
     "output_type": "execute_result"
    }
   ],
   "source": [
    "metrics = test_metrics\n",
    "print('stress:', metrics['stress'].mean())\n",
    "print('stress_spc:', metrics['stress_spc'].mean())\n",
    "print('xing:', metrics['xing'].mean())\n",
    "print('xing_spc:', metrics['xing_spc'].mean())\n",
    "print('l1_angle:', metrics['l1_angle'].mean())\n",
    "print('l1_angle_spc:', metrics['l1_angle_spc'].mean())\n",
    "print('edge:', metrics['edge'].mean())\n",
    "print('edge_spc:', metrics['edge_spc'].mean())\n",
    "print('ring:', metrics['ring'].mean())\n",
    "print('ring_spc:', metrics['ring_spc'].mean())\n",
    "print('tsne:', metrics['tsne'].mean())\n",
    "print('tsne_spc:', metrics['tsne_spc'].mean())\n",
    "print('reso_score:', metrics['resolution_score'].mean())\n",
    "print('min_angle:', metrics['min_angle'].mean())\n",
    "columns = [\n",
    "    'stress',\n",
    "    'stress_spc',\n",
    "    'xing',\n",
    "    'xing_spc',\n",
    "    'l1_angle',\n",
    "    'l1_angle_spc',\n",
    "    'edge',\n",
    "    'edge_spc',\n",
    "    'ring',\n",
    "    'ring_spc',\n",
    "    'tsne',\n",
    "    'tsne_spc',\n",
    "    'reso_score',\n",
    "    'min_angle'\n",
    "]\n",
    "df = pd.DataFrame(map(lambda m: metrics[m].mean().item(), list(metrics.keys())[:-1])).set_axis(columns).T\n",
    "df.style.format({c: \"{:.2f}\" for c in columns if 'spc' not in c} | {c: \"{:.2%}\" for c in columns if 'spc' in c})"
   ]
  },
  {
   "cell_type": "code",
   "execution_count": 36,
   "metadata": {
    "id": "5e7vPr0M3mmG"
   },
   "outputs": [],
   "source": [
    "metrics = {}"
   ]
  },
  {
   "cell_type": "code",
   "execution_count": 37,
   "metadata": {},
   "outputs": [],
   "source": [
    "methods = ['fa2']"
   ]
  },
  {
   "cell_type": "code",
   "execution_count": 38,
   "metadata": {
    "colab": {
     "base_uri": "https://localhost:8080/",
     "height": 433,
     "referenced_widgets": [
      "a0cf6e046add4e639e52db69656e0db9",
      "8e237731bb1241ac858581b25389c012",
      "0891547293ad4211a138a4d92e01bb0b",
      "34912c8e581e47a99a1c4829c38cb75c",
      "5aa034c99c94424e835a2ee954b829ed",
      "248f6393eff74c3eb8740ca6d698045b",
      "686687a29c7f4ec98c4d76ca2062b14b",
      "996a84d1c23b47e4a2af252c6b60f55d",
      "3507f883bb954412b21c1c5641763ed7",
      "9582a849d91e457cadd514c95d6e1b5b",
      "52bfe674c2c547e09b7400a32a96f703",
      "93d58b3a12394fe1aa6f0431fc7cb0db",
      "af1d7855c9d646b0bcc7d95c4cb147a6",
      "f820e2b898cd461da04a4f651d27273d",
      "c0a112cfaa3d4d0aa9530372de84d8fb",
      "fd03985495694fbf9feb3f31ef8d18ce",
      "e02a2b36aa4c4d6fb5d2ac6693c1a927",
      "06f388ff5e3a48828d465096fe69977b",
      "c0052778c9c940e88935593e9f94b83b",
      "99a5e77a192d4a989c4534237eb16730",
      "77c6da092a6647fc9e54f7e276d75616",
      "8c13c0e8b5934117a662a78296bcb1b6",
      "cdcc3bd4235247b48c468c0f6b7682cc",
      "a2c6fa6fef4549cc853fa93b4b18cf95",
      "15cc02a756314083801b5f6798a1948c",
      "24d1c67fe52f452ab0c767e3c1a818aa",
      "c117db25c6fd484a9d0c7f210ccb1ade",
      "b090b60b61084cf692b3066dfac7f0a8",
      "5eab9848059c491b9c6cbac88683f025",
      "e87ffbaa1f204b52b9226337a506b040",
      "cf52198a9e4b46c7b49537a79919c09e",
      "51501227bc064ccbab97c22a679a0750",
      "d1b794a997dc457888a90bf44faee9b4",
      "21a755b50e5047bea797eccf24b35a0c",
      "16e78c3823ec4faf9f9cd9095b218ff5",
      "4ccd332c6b734acd8eff236eaf568dfa",
      "bd60fd13748347e48629df78fa455765",
      "e9187e4ba80b4fafa0334dae2e39aded",
      "4c39ec7c92b4402e8eedcb27beabaab1",
      "59a8194269f943bba571f710ad856973",
      "8e41bc25b9f348b1b85b381547cd60d1",
      "34d0f1529e64437fb25e639b41096072",
      "7e832c7543df43668eb72c0aa6356349",
      "f94162c9c5fe4c2581e3b80beaeb820b",
      "0284946fccf34607b25e1d6d81d4f72a",
      "8e8d4243a3624ba58d760bdf601d5126",
      "b1f0932594fe44f4be4beb8880172871",
      "820bb554d139437b8f6a6997f9002261",
      "459e375d1fe4497cb4197ef88e303c6d",
      "5726814966da46bbba942a114de4b319",
      "448beea5445f4642809801da46aa7e7c",
      "3746c0f0daf04f51805b4c95db20063a",
      "2ff74d1c705348438a32da37910c3300",
      "52f03147b5ab4cb390f9802b7a17a508",
      "5428511d652a47348203e8f3cd2e076d",
      "7b58569bee2e44c5a61a81f9a32c4c01",
      "c5e05d74b9404333a8155304e3497ba2",
      "3ad4e058bde44d87abab780368d49118",
      "8e437049b5c74ff1beddad93e30b19aa",
      "0c61377f4cc34b27ae34bdd6d976d868",
      "9ce35f9a9a23436ea77604513b5c4659",
      "dafbc43ad79c4feda093aefe490fc4b3",
      "497160b6bf80469a89680a03a468c8bb",
      "3265725ecb914981b6f07f68b8a582df",
      "1f0ac20d99d04ffb9ee75613526d3de6",
      "dee0e5716560483b8e2b107566439d94",
      "ca99841a1abd4fbd94927c49aaa711cb",
      "163a44ff1be04583ae7bd62726c55204",
      "f3b727045a0b4b4fabd147ec9c843e14",
      "7c4b4fe859cf48ab99b7e2780a24a539",
      "d9700cffab66480cb81e3722faab4e8b",
      "2c49acc1e0a64aa4b8ec461b0596848e",
      "691817157f43412f9c36002167606b75",
      "d0ae688d71734b56bb348de54e841798",
      "07a364ebcdaa491dbcc2304e4a8dae96",
      "538b277307b1449eaa79a2a91b4741d3",
      "f7b7dd4cbaa5468687b988c5e416a154",
      "877be862a4f045ec8b221097626becb5",
      "1bf37012df0844338ac689d4f6cc8eab",
      "33fe06641be544d3aab2c25cb979416f",
      "68de0d9261fa4e6999967b6f196d149c",
      "7017c5ba1ffc467495aca2689e516f7d",
      "e0997460cc21428695a0c278c6691baf",
      "522443bef4904996b6361ea265c4c56f",
      "dfe044b67917466f971ba84a11956d5e",
      "70b2d0ba1c1d4102841fb963480de1c7",
      "7b158daacd754a40bc0a48fc9ea6fea2",
      "8904f61ff30741e488eacf0e49440f66",
      "685dee6f1e1f4c2983d2d0b8eb90ed00",
      "005155a4d62d48cbbaf3d69614b08d81",
      "d2779dfa620041e4b32a7731926a5982",
      "53048bf27cb24080b4cdf20379302223",
      "0b5bff7794a14a20964da70b87158c2c",
      "ec664e55ea16435590393ae1617cccea",
      "f10d62ef464a45a7935610d869c282e3",
      "5e7c09bc35db4a3a8b9847c6d8478883",
      "987ea331b617446facc81b08bab1f8c4",
      "446c5a687b0d43358ab036d43ce281c3",
      "d89e216f62ae4a9999da1a91dd5e48b9",
      "09d03e7e66f54cafacefbfeda5fd6e5c",
      "d58c680562a44bbd9252e7ec6eebc06c",
      "71ea2594fdd942acac1cc61055438544",
      "fecda4df301b437f9fbfb61a7b593dc0",
      "bcf6741d926248cb92acf627d6557d2b",
      "5bd9868b9bda4f68b500a43916e2d148",
      "4bc5e02035de44ad827c4f881fd75afc",
      "7d80033a955e4feb947ca9cea931d90b",
      "e975c796d80d498992a50f87a2b0105c",
      "028b2ff105904a19a9a3e8ebf66967bb",
      "10dbf2cbdb1943eda6a0acaf5da3fe85",
      "14d59c7acc5e4e07a289db44406a4851",
      "d9447df93d714907bc9c768eb4910352",
      "d4a9ace081bf488680a7e43e0eaed71d",
      "022a60cde19546bfa6ecfb4947615ad9",
      "10c01207d9ba4fe197dc80717fceecc0",
      "f4995936570d4ba1a65e9a66e410b505",
      "b4bf66303e61491385cd616076a11c04",
      "a24ab2bfe7a44263bf60936d6e53ec32",
      "59e2e8ecc9f84d57af7bf44f5bba5df7",
      "be2eb92aab8045a99fd19195c3546b60",
      "e6715db2b048434796e910952cb5eb62",
      "8de2335007ba4a6b9935fa0c514c9f6a",
      "493a4bbe8057437a8c8acf4d03f8dcb0",
      "20b03955acc74e238695717124705520",
      "a89f9507496b4cf8bdd63bdb9bff79c4",
      "9752a1f6c8b6488d9628b8e0c023f10f",
      "61a0bebc687341a7bb3352febc8d4986",
      "07e0ff9c82a444788c60edee70688ca7",
      "4427901f35e54cc48e08527bb402c22a",
      "bd9dafb825954091ba975d71ab8c89ea",
      "7ec0f07bfe51484da38c18dc66d77804",
      "03943afebc4d4b668b54c7a0fd014a37",
      "a7a6b38a76424d738146b6a5786cf2c8",
      "1d1aa4729784470584c0001c1a296008",
      "e0c68ac9b5b442eeb77e6d9ea3c1da42",
      "c858ef9fd9324ab0ab885d85e3c8582f",
      "627bc2899c994a0c96c5d43e89dc77ff",
      "0e2c2f21fa8041038151170992ecb848",
      "2d9bcbf7629a4671bf8755e790276eb7",
      "77a4edf6ab1848a6a6df20c1c07358c6",
      "acf2212d6bb44c729b63281a98377095",
      "0c7a72818da3454190bab7f30a29e249",
      "d865af915b8b4aaa8cec8d40f1f8351d"
     ]
    },
    "id": "s1UnzfID4Ai6",
    "outputId": "3e204e76-68fd-4111-f527-91f6e3b7a3ca"
   },
   "outputs": [
    {
     "data": {
      "application/vnd.jupyter.widget-view+json": {
       "model_id": "781843c1225c4a16837d4867ab6b01d1",
       "version_major": 2,
       "version_minor": 0
      },
      "text/plain": [
       "  0%|          | 0/1000 [00:00<?, ?it/s]"
      ]
     },
     "metadata": {},
     "output_type": "display_data"
    }
   ],
   "source": [
    "for m in methods:\n",
    "    metrics[m] = test(model=test_generator, \n",
    "                      criteria_list=[], \n",
    "                      dataset=data_list, \n",
    "                      idx_range=range(10000, 11000), \n",
    "                      callback=None,\n",
    "                      gt_pos=load_pos(m))"
   ]
  },
  {
   "cell_type": "code",
   "execution_count": 39,
   "metadata": {
    "id": "dQ7hdCtk5u6K"
   },
   "outputs": [],
   "source": [
    "mean_metrics = {key : list(map(lambda m: metrics[key][m].mean().item(), list(metrics[key].keys())[:-1])) for key in metrics}"
   ]
  },
  {
   "cell_type": "code",
   "execution_count": 40,
   "metadata": {
    "colab": {
     "base_uri": "https://localhost:8080/",
     "height": 313
    },
    "id": "OGyaCmLXTuvA",
    "outputId": "6c42d9f3-9869-4504-bc9c-d0eedaecfd90"
   },
   "outputs": [
    {
     "data": {
      "text/html": [
       "<style type=\"text/css\">\n",
       "</style>\n",
       "<table id=\"T_cf0d7_\">\n",
       "  <thead>\n",
       "    <tr>\n",
       "      <th class=\"blank level0\" >&nbsp;</th>\n",
       "      <th class=\"col_heading level0 col0\" >stress</th>\n",
       "      <th class=\"col_heading level0 col1\" >stress_spc</th>\n",
       "      <th class=\"col_heading level0 col2\" >xing</th>\n",
       "      <th class=\"col_heading level0 col3\" >xing_spc</th>\n",
       "      <th class=\"col_heading level0 col4\" >l1_angle</th>\n",
       "      <th class=\"col_heading level0 col5\" >l1_angle_spc</th>\n",
       "      <th class=\"col_heading level0 col6\" >edge</th>\n",
       "      <th class=\"col_heading level0 col7\" >edge_spc</th>\n",
       "      <th class=\"col_heading level0 col8\" >ring</th>\n",
       "      <th class=\"col_heading level0 col9\" >ring_spc</th>\n",
       "      <th class=\"col_heading level0 col10\" >tsne</th>\n",
       "      <th class=\"col_heading level0 col11\" >tsne_spc</th>\n",
       "      <th class=\"col_heading level0 col12\" >reso_score</th>\n",
       "      <th class=\"col_heading level0 col13\" >min_angle</th>\n",
       "    </tr>\n",
       "  </thead>\n",
       "  <tbody>\n",
       "    <tr>\n",
       "      <th id=\"T_cf0d7_level0_row0\" class=\"row_heading level0 row0\" >fa2</th>\n",
       "      <td id=\"T_cf0d7_row0_col0\" class=\"data row0 col0\" >326.06</td>\n",
       "      <td id=\"T_cf0d7_row0_col1\" class=\"data row0 col1\" >-4.82%</td>\n",
       "      <td id=\"T_cf0d7_row0_col2\" class=\"data row0 col2\" >26.70</td>\n",
       "      <td id=\"T_cf0d7_row0_col3\" class=\"data row0 col3\" >4.36%</td>\n",
       "      <td id=\"T_cf0d7_row0_col4\" class=\"data row0 col4\" >80.81</td>\n",
       "      <td id=\"T_cf0d7_row0_col5\" class=\"data row0 col5\" >9.18%</td>\n",
       "      <td id=\"T_cf0d7_row0_col6\" class=\"data row0 col6\" >0.18</td>\n",
       "      <td id=\"T_cf0d7_row0_col7\" class=\"data row0 col7\" >-4.76%</td>\n",
       "      <td id=\"T_cf0d7_row0_col8\" class=\"data row0 col8\" >251.40</td>\n",
       "      <td id=\"T_cf0d7_row0_col9\" class=\"data row0 col9\" >-1.72%</td>\n",
       "      <td id=\"T_cf0d7_row0_col10\" class=\"data row0 col10\" >0.21</td>\n",
       "      <td id=\"T_cf0d7_row0_col11\" class=\"data row0 col11\" >8.44%</td>\n",
       "      <td id=\"T_cf0d7_row0_col12\" class=\"data row0 col12\" >0.60</td>\n",
       "      <td id=\"T_cf0d7_row0_col13\" class=\"data row0 col13\" >4.97</td>\n",
       "    </tr>\n",
       "  </tbody>\n",
       "</table>\n"
      ],
      "text/plain": [
       "<pandas.io.formats.style.Styler at 0x2abccb803100>"
      ]
     },
     "execution_count": 40,
     "metadata": {},
     "output_type": "execute_result"
    }
   ],
   "source": [
    "columns = [\n",
    "    'stress',\n",
    "    'stress_spc',\n",
    "    'xing',\n",
    "    'xing_spc',\n",
    "    'l1_angle',\n",
    "    'l1_angle_spc',\n",
    "    'edge',\n",
    "    'edge_spc',\n",
    "    'ring',\n",
    "    'ring_spc',\n",
    "    'tsne',\n",
    "    'tsne_spc',\n",
    "    'reso_score',\n",
    "    'min_angle'\n",
    "]\n",
    "df = pd.DataFrame(mean_metrics).set_axis(columns).T\n",
    "df.style.format({c: \"{:.2f}\" for c in columns if 'spc' not in c} | {c: \"{:.2%}\" for c in columns if 'spc' in c})"
   ]
  },
  {
   "cell_type": "markdown",
   "metadata": {
    "id": "L5S1HWnHOWIl"
   },
   "source": [
    "# Large Graph"
   ]
  },
  {
   "cell_type": "code",
   "execution_count": null,
   "metadata": {
    "id": "_pefPcV1OZdD"
   },
   "outputs": [],
   "source": [
    "scalability = pd.read_csv(f\"/__artifacts__/data/scalability.csv\", index_col=\"index\")\n",
    "scalability"
   ]
  },
  {
   "cell_type": "code",
   "execution_count": null,
   "metadata": {
    "id": "oMhWAsdvPnTX"
   },
   "outputs": [],
   "source": [
    "rescale = CanonicalizationByStress()\n",
    "stressfn = Stress()\n",
    "rotate = RotateByPrincipalComponents()"
   ]
  },
  {
   "cell_type": "code",
   "execution_count": null,
   "metadata": {
    "id": "LR83OcAaPID5"
   },
   "outputs": [],
   "source": [
    "stress_list = []\n",
    "spc_list = []\n",
    "pmds_list = np.load(\"layouts/new_large_graph/pmds.npy\", allow_pickle=True)\n",
    "gviz_list = np.load(\"layouts/new_large_graph/gviz.npy\", allow_pickle=True)\n",
    "with torch.no_grad():\n",
    "    for idx, col in tqdm(scalability.iterrows(), total=len(scalability)):\n",
    "        # if idx not in [406, 516]: continue\n",
    "        torch.cuda.empty_cache()\n",
    "        G = load_mtx(col['file'])\n",
    "        G.remove_edges_from(nx.selfloop_edges(G))\n",
    "        data = generate_data_list(G, \n",
    "                                sparse=data_config.sparse, \n",
    "                                pivot_mode=data_config.pivot,\n",
    "                                init_mode=data_config.init,\n",
    "                                edge_index=data_config.edge.index,\n",
    "                                edge_attr=data_config.edge.attr,\n",
    "                                pmds_list=pmds_list[idx],\n",
    "                                gviz_list=gviz_list[idx],\n",
    "                                device=device)\n",
    "        batch = Batch.from_data_list([data]).to(device)\n",
    "        # generator.train()\n",
    "        # generator(batch)\n",
    "        generator.eval()\n",
    "        pred = generator(batch)\n",
    "        pos = rotate(rescale(pred, batch), batch)\n",
    "        gt = rotate(rescale(batch.gt_pos, batch), batch)\n",
    "        stress = stressfn(pos, batch).item()\n",
    "        gt_stress = stressfn(gt, batch).item()\n",
    "        spc = (stress - gt_stress) / np.maximum(stress, gt_stress)\n",
    "        stress_list.append(stress)\n",
    "        spc_list.append(spc)\n",
    "\n",
    "        np.save(f\"/__artifacts__/gan_result/data/scalability_{idx}.npy\", pos.cpu().numpy())\n",
    "        graph_attr = dict(node_size=1, \n",
    "                        with_labels=False, \n",
    "                        labels=dict(zip(list(G.nodes), map(lambda n: n if type(n) is int else n[1:], list(G.nodes)))),\n",
    "                        font_color=\"white\", \n",
    "                        font_weight=\"bold\",\n",
    "                        font_size=12,\n",
    "                        width=0.1)\n",
    "\n",
    "        # gt_pos = pickle.load(open(f\"/__artifacts__/data/scalability_{idx}_gt.pkl\", \"rb\"))\n",
    "\n",
    "        plt.figure(figsize=[12, 9])\n",
    "        nx.draw(G, pos=gt.cpu().numpy(), node_color='orange', **graph_attr)\n",
    "        plt.title(f\"neato: large_{idx}\")\n",
    "        plt.axis(\"equal\")\n",
    "        plt.savefig(f\"/__artifacts__/gan_result/output/{idx}_{col['name']}_{col['n']}_{spc}_nx.png\", dpi=300)\n",
    "        plt.show()\n",
    "\n",
    "        plt.figure(figsize=[12, 9])\n",
    "        graph_vis(G, pos.cpu().numpy(), **graph_attr)\n",
    "        plt.title(f\"dgd: large_{idx}, spc={spc:.2%}\")\n",
    "        plt.axis(\"equal\")\n",
    "        plt.savefig(f\"/__artifacts__/gan_result/output/{idx}_{col['name']}_{col['n']}_{spc}_dgd.png\", dpi=300)\n",
    "        plt.show()"
   ]
  },
  {
   "cell_type": "code",
   "execution_count": null,
   "metadata": {
    "id": "gRXTewkYeuq1"
   },
   "outputs": [],
   "source": []
  }
 ],
 "metadata": {
  "accelerator": "GPU",
  "colab": {
   "collapsed_sections": [
    "w_p3OD0woiSM",
    "DR6-vYtr_i_P",
    "innqkwvH_ydD",
    "f-ODE2k8BFV6",
    "N39dDHraedM6"
   ],
   "machine_shape": "hm",
   "name": "GAN(gan=rgan,data=best(xing,stress),dis=deep,share=16,embed=0,gp=0).ipynb",
   "provenance": []
  },
  "kernelspec": {
   "display_name": "DeepGD",
   "language": "python",
   "name": "deepgd"
  },
  "language_info": {
   "codemirror_mode": {
    "name": "ipython",
    "version": 3
   },
   "file_extension": ".py",
   "mimetype": "text/x-python",
   "name": "python",
   "nbconvert_exporter": "python",
   "pygments_lexer": "ipython3",
   "version": "3.9.7"
  },
  "widgets": {
   "application/vnd.jupyter.widget-state+json": {
    "state": {
     "018b7ba2c8894bd5b3916e2311610a31": {
      "model_module": "@jupyter-widgets/base",
      "model_module_version": "1.2.0",
      "model_name": "LayoutModel",
      "state": {}
     },
     "0f41ba498722433da8234341c4a03b03": {
      "model_module": "@jupyter-widgets/controls",
      "model_module_version": "1.5.0",
      "model_name": "HBoxModel",
      "state": {
       "children": [
        "IPY_MODEL_1a0488e77c45435fad36f11e4cf35123",
        "IPY_MODEL_391a7254519649a3b2e6ef7eea33074d",
        "IPY_MODEL_2f74ccd4165e450a81fedca10e8a8b21"
       ],
       "layout": "IPY_MODEL_e4d0a6e31fd24372992f25d503ed614f"
      }
     },
     "125283abe0eb491a9c5b422fd68fe576": {
      "model_module": "@jupyter-widgets/controls",
      "model_module_version": "1.5.0",
      "model_name": "HTMLModel",
      "state": {
       "layout": "IPY_MODEL_c1820e06e7a14eeda6141c968eacc74f",
       "style": "IPY_MODEL_e5217883f29f43e7ae404669e8b4c653",
       "value": "100%"
      }
     },
     "141d176fa69d4cb689766e25d891b0d4": {
      "model_module": "@jupyter-widgets/base",
      "model_module_version": "1.2.0",
      "model_name": "LayoutModel",
      "state": {}
     },
     "186d37f9d77540c09ad55519d74d80ef": {
      "model_module": "@jupyter-widgets/base",
      "model_module_version": "1.2.0",
      "model_name": "LayoutModel",
      "state": {}
     },
     "1a0488e77c45435fad36f11e4cf35123": {
      "model_module": "@jupyter-widgets/controls",
      "model_module_version": "1.5.0",
      "model_name": "HTMLModel",
      "state": {
       "layout": "IPY_MODEL_a587c795619a47fbbe1b5a9b4828ed8b",
       "style": "IPY_MODEL_4b682cf8e36e44f1810906dcc9372a24",
       "value": "100%"
      }
     },
     "27fff16c46fc4095b08ccbf967f77672": {
      "model_module": "@jupyter-widgets/output",
      "model_module_version": "1.0.0",
      "model_name": "OutputModel",
      "state": {
       "layout": "IPY_MODEL_018b7ba2c8894bd5b3916e2311610a31",
       "outputs": [
        {
         "data": {
          "text/html": "<div>\n<style scoped>\n    .dataframe tbody tr th:only-of-type {\n        vertical-align: middle;\n    }\n\n    .dataframe tbody tr th {\n        vertical-align: top;\n    }\n\n    .dataframe thead th {\n        text-align: right;\n    }\n</style>\n<table border=\"1\" class=\"dataframe\">\n  <thead>\n    <tr style=\"text-align: right;\">\n      <th></th>\n      <th>val_stress</th>\n      <th>val_stress_spc</th>\n      <th>val_xing</th>\n      <th>val_xing_spc</th>\n      <th>dis_loss</th>\n      <th>gen_loss</th>\n      <th>stress</th>\n      <th>critic</th>\n    </tr>\n  </thead>\n  <tbody>\n    <tr>\n      <th>epoch 274</th>\n      <td>352.71</td>\n      <td>9.30%</td>\n      <td>30.11</td>\n      <td>16.59%</td>\n      <td>2.54e-03</td>\n      <td>3.31e+00</td>\n      <td>-3.16e+02</td>\n      <td>5.64e+00</td>\n    </tr>\n  </tbody>\n</table>\n</div>",
          "text/plain": "          val_stress val_stress_spc val_xing val_xing_spc  dis_loss  gen_loss  \\\nepoch 274     352.71          9.30%    30.11       16.59%  2.54e-03  3.31e+00   \n\n              stress    critic  \nepoch 274  -3.16e+02  5.64e+00  "
         },
         "metadata": {},
         "output_type": "display_data"
        }
       ]
      }
     },
     "28cd81f6eaa24038b66147f3f23bee29": {
      "model_module": "@jupyter-widgets/base",
      "model_module_version": "1.2.0",
      "model_name": "LayoutModel",
      "state": {}
     },
     "298e3c2e6b424306900829079741bc08": {
      "model_module": "@jupyter-widgets/controls",
      "model_module_version": "1.5.0",
      "model_name": "DescriptionStyleModel",
      "state": {
       "description_width": ""
      }
     },
     "2f74ccd4165e450a81fedca10e8a8b21": {
      "model_module": "@jupyter-widgets/controls",
      "model_module_version": "1.5.0",
      "model_name": "HTMLModel",
      "state": {
       "layout": "IPY_MODEL_b48fd79f5a164743a8f0218b78ef8a27",
       "style": "IPY_MODEL_7f2663284af34807b96c9929170e74bf",
       "value": " 11531/11531 [00:00&lt;00:00, 51513.17it/s]"
      }
     },
     "373cda4f45e242afb9ed5d1a0bf64b0b": {
      "model_module": "@jupyter-widgets/controls",
      "model_module_version": "1.5.0",
      "model_name": "HTMLModel",
      "state": {
       "layout": "IPY_MODEL_141d176fa69d4cb689766e25d891b0d4",
       "style": "IPY_MODEL_5fcfe4de4dc64e8a84dd95a184921e98",
       "value": " 1000/1000 [00:54&lt;00:00, 17.17it/s]"
      }
     },
     "391a7254519649a3b2e6ef7eea33074d": {
      "model_module": "@jupyter-widgets/controls",
      "model_module_version": "1.5.0",
      "model_name": "FloatProgressModel",
      "state": {
       "bar_style": "success",
       "layout": "IPY_MODEL_186d37f9d77540c09ad55519d74d80ef",
       "max": 11531,
       "style": "IPY_MODEL_4a82907ef91a4d0cb924bd41752fd297",
       "value": 11531
      }
     },
     "3de9504b780b4b8cbbf70e0e6c60ad70": {
      "model_module": "@jupyter-widgets/base",
      "model_module_version": "1.2.0",
      "model_name": "LayoutModel",
      "state": {}
     },
     "4a82907ef91a4d0cb924bd41752fd297": {
      "model_module": "@jupyter-widgets/controls",
      "model_module_version": "1.5.0",
      "model_name": "ProgressStyleModel",
      "state": {
       "description_width": ""
      }
     },
     "4b682cf8e36e44f1810906dcc9372a24": {
      "model_module": "@jupyter-widgets/controls",
      "model_module_version": "1.5.0",
      "model_name": "DescriptionStyleModel",
      "state": {
       "description_width": ""
      }
     },
     "4c3b9b8c196b42cb9d4c811d31050411": {
      "model_module": "@jupyter-widgets/controls",
      "model_module_version": "1.5.0",
      "model_name": "FloatProgressModel",
      "state": {
       "bar_style": "success",
       "layout": "IPY_MODEL_a5be1c74f0214dce8dfd42fbc3c5a481",
       "max": 1000,
       "style": "IPY_MODEL_b81becace6eb4d0aa36efbce332fe574",
       "value": 1000
      }
     },
     "59c8d7ccbf934b8aad2c3f4823b33a8a": {
      "model_module": "@jupyter-widgets/controls",
      "model_module_version": "1.5.0",
      "model_name": "HBoxModel",
      "state": {
       "children": [
        "IPY_MODEL_78541c77d4524bd1b7de7b322a4bd893"
       ],
       "layout": "IPY_MODEL_c9bb730bd0c341a8ad76a56ee38977e1"
      }
     },
     "5fcfe4de4dc64e8a84dd95a184921e98": {
      "model_module": "@jupyter-widgets/controls",
      "model_module_version": "1.5.0",
      "model_name": "DescriptionStyleModel",
      "state": {
       "description_width": ""
      }
     },
     "6158b33f83ae469991748e43dc31eaba": {
      "model_module": "@jupyter-widgets/output",
      "model_module_version": "1.0.0",
      "model_name": "OutputModel",
      "state": {
       "layout": "IPY_MODEL_b7c18a4f91724523963bc9e785af5734",
       "outputs": [
        {
         "data": {
          "image/png": "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\n",
          "text/plain": "<Figure size 432x288 with 1 Axes>"
         },
         "metadata": {},
         "output_type": "display_data"
        },
        {
         "data": {
          "image/png": "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\n",
          "text/plain": "<Figure size 432x288 with 1 Axes>"
         },
         "metadata": {},
         "output_type": "display_data"
        },
        {
         "data": {
          "image/png": "iVBORw0KGgoAAAANSUhEUgAAAb4AAAEuCAYAAADx63eqAAAAOXRFWHRTb2Z0d2FyZQBNYXRwbG90bGliIHZlcnNpb24zLjQuMywgaHR0cHM6Ly9tYXRwbG90bGliLm9yZy/MnkTPAAAACXBIWXMAAAsTAAALEwEAmpwYAABIfUlEQVR4nO3dd1iVdRvA8e9ZDNHUxD1wpZgbFCcKqGnDUWYKalrmCE2t7C03ZaVZVmapqWWlOEpTMxUVJCW3oLkXKg4MVyUi64z3D4JE4JznsA5w7s91dfnGec7z/I4vcfMb932rTCaTCSGEEMJOqG09ACGEEKIwSeATQghhVyTwCSGEsCsS+IQQQtgVCXxCCCHsigQ+IYQQdkUCnxBCCLsigU8IIYRdkcAnhBDCrkjgE0IIYVck8AkhhLArEviEEELYFQl8Qggh7IoEPiGEEHZFAp8QQgi7IoFPCCGEXZHAJ4QQwq5I4BNCCGFXJPAJIYSwKxL4hBBC2BUJfEIIIeyKBD4hhBB2RQKfEEIIuyKBTwghhF2RwCeEEMKuSOATQghhV7S2HoAoWmJuJ7A44gLrj8SSkKzHxVFLnxbVGO5dF7cKLrYenhBC5JnKZDKZbD0IUTSEn7lBYHAUqQYjeuN/3xZatQqdRs38gR74NqxkwxEKIUTeSeATQNpMr8fcCBJTDTle46zTEDLOW2Z+QohiTfb4BACLIy6QajCavSbVYGTJ7xcLaURCCFEwJPAJANYfic20vJkdvdHEusPXCmlEQghRMORwi53J6fDKvWS9ovcnpCi7TgghiioJfHYku8Mr95L1rDp4RfE9XBzkW0YIUbzJTzE7EXM7gcDgqGwPr1ha4kynVat4tmV1q54pqRFCiKJGAp+dUHJ4xRKdRs0rHesoutbc7HJt1DVJjRBC2IwcbrETSg6vpNOqVVn+3VmnYf5AD0UztQdnlw8/U280kZhqIDA4ipjbCco/gBBC5BMJfHYiQeHhFRXg71WL0o5aMJnQYcDfqxYh47wVz9AkNUIIUZRJ4LMTLo7KVrVdHLXM6N2E40Hd+axNKvUOz2dG7yZW7clJaoQQoiiTwGcn+rSolmUJ82EPH17p1KkTe/bsITU11apnKZ1dSmqEEMIWJPDZieHeddFpzP/f/fDhlQoVKlC7dm2ioqKsepbi2aWkRgghbEACn51wq+DC/IEeOOs0Vh1e8fHx4bfffrPqWV0aVcL83NL61AghhMgvEvjsiG/DSoSM8844vKICVPoks4dXOnfuzM6dOxU/I/zMDUKO/4ml86PWpEYIIUR+ku4Mdiw5ORlXV1cuX75M+fLls73m5s2b1K9fn9u3b6PVml+aVNLhAcBJq2bBIE/J4xNC2ITM+OyYo6Mj7dq1Y9euXTleU7FiRWrWrMnhw4ct3k9JGoMK6NGkigQ9IYTNSOCzc126dGHHjh1mr1G6z6ckjcEEhJ66YcUIhRAif0ngs3N+fn6EhYWZvcbHx0fRPp+kMQghigMJfHauZcuWXL16lbi4uByv6dSpE7///jt6vfmAJWkMQojiQAKfndNqtXTu3Jnw8PAcr6lUqRLVq1fnyJEjZu+VliRv/nkmg57a3CApKSkXoxVCiLyTwCfw8/OzuM+nJK2hV8PS6FOSzV7j5KBDf3wr7u7uBAcHYzTmrWOEEEJYSwKfUBT4LB1wuXr1KgN7PcGTZWKzTZJXA846DQsHtyJkzXJ++OEHvvjiC1q3bm3x2UIIkZ8kj09gMpmoUqUKBw4cwM3NLdtr4uLicHd359atW2g0mkyvxcTE4Ofnx6uvvsqECROIuZ3Akt8vsu7wNRJS9Kj0KbSrquHDF7tkqgxjMpn48ccfmThxIu7u7syePZsmTZoU6GcVQgiZ8QlUKhW+vr5mZ16VK1emSpUq/PHHH5m+fvHiRXx8fHjttdeYMGECkFYeLb3Dw8UPn6Z1zCp6VUvMUg5NpVLRv39/Tp06xRNPPIGfnx+vvPIK167917Uh5nYCU9Yfo0nQVupM3ESToK1MWX9MevkJIXJNAp8AcrfcGR0djY+PD2+++Sbjx4/P8X0ODg6kpKTk+LqjoyPjx4/n7NmzVKhQgWbNmjF16lQ2H4mhx9wIVh28wr1kPSb+6+LeY24E4WckH1AIYT0JfAL4L/CZW/l+8IDL2bNn8fHxYdKkSYwZM8bsvR0cHEhONn/oBaBcuXJ89NFHREVFcfrqLV5dHild3IUQ+U4CnwCgXr16aDQazp49m+M1nTt3ZteuXZw4cQI/Pz+CgoIYOXKkxXtbmvE9zM3NjYa9A9E6OJq9Trq4CyFyQwKfANL22yyVL0txeISyXYbz1Len0A5eyGdXaijab3N0dLQq8EFa+TODhWNX0sVdCJEbEvhEBnPly8LP3OCJz3ZiqtsBlYMzoFK832btjA+k/JkQouBI4BMZfH19CQ8Pz5JUHnM7gVHLDpFsMKHSZC43pmS/LTeBr5SjxvJFSPkzIYT15KeGyGBwLk/ZLiNoPD2EJL0JF0ctfVpUIyY2jqSU1CxB70Hp+20zemfNw7M28F26dAnThf1QtSWocw6A0sVdCJEbMuMTQNpSZo+5EZjqtidRb8pIHVh54DK7LieZDXpgfr/NmsC3du1avLy86Nu4HM6ODmavlS7uQojckBmfIOZ2AoHBUWmd01WZfxcymNIOviiR036bknSGxMRE3njjDbZt28avv/6Kl5cXfmduEBgcRarBmDmlwWRAq4L5A1tnSYoXQghLZMYnFHVOVyKn/TZLM76TJ0/i5eXFX3/9RVRUFF5eXgD4NqxEyDhv/L1qUdpRi0oFpR219GlSkX9WvUNdp8Q8j1kIYX9kxicUdU63xNx+W07pDCaTiaVLl/L2228zc+ZMhg0blmV2mV7+7OG9w0cvDGDChAn89NNPeRq3EML+SJFqQZ2Jm8jrN4GzTkPIOO9MS48xtxNYHHGBHw9eIsWgorSTjj4tqjHcuy7ldQZGjRrF0aNHWb16NY0bN7bqeYmJiTz++ON88803+Pn55XH0Qgh7IjM+gYujlnsK8uZMJhMqkwHU/33baFTgoNUwf6BHpqAXnml/Tg2q/+ps/nToMqm/LeSJJtU5ePAgzs7OVo/Z2dmZOXPmMHbsWI4cOYJWK9/KQghlZI/PzplMJupr72AymA98WrWKPi2q8VSDsjiojGAyYUq5z93Dm3E7uZyDG75j9+7dJCcnZzosk12dzWQDaDqPZOIHc3IV9NI9++yzVK1alfnz5+f6HkII+yNLnXYsNjaWl19+mZtJcM97LMn6nL8VnLQqto7vnGlWFx8fT82aNZk5cyanT59m9+7dnDp1itrPv839qi0xqXL+vUqrVuHvVSvbvD9rnDx5ks6dO3Py5EkqVqyYp3sJIeyDzPjs1Nq1a/Hw8KBdu3bs276RhYNaZds5XatWocVIUuiXGO9mLktWpkwZBg8eTGxsLHPnzuXQoUPExcVhqOlpNuhB/tXZfPzxxxk0aBCTJ0/O872EEPZBZnx25u7du4wdO5Y9e/awbNky2rRpk/Haw53TXRy0PNuyOq90rMOvq75j9uzZ7Nixg3r16mW859SpU/j6+hITE4OjY1o3BaWHZVQquPjh03n+TP/88w/u7u5s3LiRVq1a5fl+QoiSTU4E2JGIiAhefPFFunfvzuHDh3FxyZz8nVPqAMDo0aPRaDT4+voSFhbGY489BkCjRo1o0qQJa9euJSAgAFB+WCa/6myWLVuWDz74gLFjx/L777+jVstChhAiZ/ITwg6kpKQwceJE+vfvz7x581i4cGGWoKfEqFGjmDp1Kn5+fpw5cybj66NHj+arr77K+Pc+LaplWTJ9WH7X2Rw6dCh6vZ7g4OB8u6cQomSSpc58kp6ztv5ILAnJ+owCz8O969q0rNaJEycYNGgQtWrVYvHixVSqVCnP9/z222+ZNm0aoaGhuLu7o9frqVu3LuvXr8fDw4OY2wn0mBuRVgItB9nl/eXV/v37ee655zh16hSPPPJIvt1XCFGyyIwvH6QXeF518Ar3kvUZBZ6V9KorKEajkblz5+Lj48Po0aNZv359vgQ9gJdffpkPPvgAPz8/Tp48iVarZdSoURmzPrcKLswf6IGjRpUlTUKrBvTJDK6bnO+/ELRp04YnnniC999/P1/vK4QoWWTGl0e2mt2Yc+3aNV566SXi4+NZtmwZ9evXL5DnLF++nP/9739s27aNSpUq0bBhQ6Kjo3n00UcBGDrmLf4s14ir2uqZDsu0KnOXEf7PcuDAAdzc3PJ1TH/++SdNmjRh9+7dNGzYMF/vLYQoGSTw5dGU9cdYdfCK2VqX+ZWzpsSPP/7Ia6+9xmuvvcY777xT4BVNVq5cyRtvvMHWrVv55JNPaNasGRMmTCAhIYGaNWty9OhRatSokeV9n3zyCWvXrmXXrl3odLp8HdOnn37Ktm3b2LJli+LOEkII+yGBL4+aBG1VdIKxtKOW40HdC2wc//zzD2PGjOHAgQMsX76c1q1bF9izHvbjjz8yduxYPv74Y4KCgjh79izfffcdGzZs4Jdffsn2PUajkZ49e9KkSRM++ugjq59pbk+1ahkdzZs3Z/bs2fTs2TOvH08IUcLIHl8eJSgIepBzr7r8sHPnTpo3b84jjzzC4cOHCzXoAbzwwgt89dVXvPXWWzg6OhISEsLXX3/NyJEjc3yPWq3m+++/Z8WKFWzZssWq51naU9198W/mzp3L+PHjSUpKyuOnE0KUNBL48sjFUdlSootOk+/PTk5O5q233iIgIIAFCxbw1VdfUapUqXx/jhJ9+/ZlwYIFXLt2jUmTJhEXF0ePHj3MvsfV1ZXg4GBefvllYmNjFT3HUh3QxFQDgcFRNPTsQLNmzfj0009z/ZmEECWTBL48UpKzhsnArcgt+Pv7s2nTJlJTU/P83GPHjuHl5UV0dDR//PEHTz75ZJ7vmVfPPvssS5Ys4ejRo7Rr1w6NxnKw79SpE4GBgQQEBGAw5HxAKJ2SprmpBiNLfr/InDlz+PTTT7l69arizyCEKPlkjy+PlJ7qXPliE/Zu38jy5cs5d+4c/fv3Z9CgQXh5eWV7ACOnPaxhHWqzbtliZs6cyezZsxk6dGiROsARHx9PhQoV0Gg07Nixg3bt2ll8j8Fg4IknnsDb25ugoCCz11q7pzpt2jTOnTvHypUrlX4EIUQJJ4EvH2TuPfffX6dWrUKnUTN/oAe+Df/LoYuOjiY4OJjly5cDMGjQIAYOHJhRAzPH+6nAoE/l0VM/89PcIOrWrVtIn1C5RYsWsXbtWvbu3YujoyPr16+nQ4cOFt93/fp1PD09Wb58udnGsorrgAIXZz7N/fv3cXd3Z/ny5XTq1En5BxFClFgS+PKJuQLPOeXvmUwmDh48yPLly1m1ahX169fn6QFDWXazJkn6nJfzCjsv0Bqenp588MEHLFiwgDp16hAcHMzatWsVBZ3t27czdOhQDh8+nGOyvdIZH8DSoa3xbViJH3/8kQ8++IDIyEhpWCuEkMBXVKSmprJ9+3be3XSaP13qodLk/AO6MPMCrXHo0CH69etHdHQ0oaGh/O9//+Pjjz8mICCAn376CR8fH4v3mDx5MpGRkWzevDnbYtNK8ibTpf+CUOvRUng/+SyuHftzXv9okSopJ4QofHK4pYjQ6XQ89dRTJFRsbDboQf71sstvX3/9NcOHD0etVtO1a1cSExNxdnZm9erV9OvXjx07dli8x7vvvsu9e/f4+OOPs319uHdddBpl37bph1x+O3uTm61GcPhuqSJTUk4IYTsy4ytiCruXXX65e/cubm5unDp1iipVqgAwd+5c9u3bx8qVK9m5cyf9+vUjODiYbt26mb3XlStXaNWqFevWraN9+/ZZXg8/c4OXvjuoaFwuDhqMJopUSTkhhG3JjK+IUZwXmE+97HIr5nYCU9Yfo0nQVupM3ESrWTupP2AyyboyGdcMGTKEkJAQrl+/TufOnVm7di0DBw5k69atZu9ds2ZNlixZgr+/P3fu3Mny+oMHhSxJSDEoTn8QQtgHCXxFjC162Vkru8opKSY1d8o3yrR0WK5cOQYMGMCiRYsA8Pb2Zt26dQwePJjNmzebfUbPnj3p27cvL730EtktSpRW+AsCYHE/sKguHQshCoYEviJGyR6WTqPmlY51CmlEmZmrnGL4d0kxMDiKmNsJADz34giWHLlH46AQ6kzcxMjt9+g9YwUvvfYWv/76q9lnzZo1i9jYWObNm5flNaW/IChVkCXlhBBFiwS+Iia9l52zTpPlB7dWrcJZp2H+QA+b7UdZUzkl/MwNxm6JQ9PAm4RkQ8ahkvDLKZTzn83w6Z+zYcOGHO/j4ODA6tWref/99zl06FCm15T+glDKQVmpOFsvHQshCo8cbimiHswLvJeUik5lZEDbumbzAguD0jw6JYdKHDXwz6q3WfDxDDw6PZFjt4X9YZuYNGkSkZGRlC1bNuP94WduMPy7/eiNRlD/F7geLBwQdiqOlfsvY64YWlFNDxFCFAwJfMXA+vXrWbhwISEhIbYeiuJTp5AWUCz1Kexax5lfFnyAS4/xmFDnWPnmx8+nc+fOHVatWpWpRNvr0z5kzbE7lG7iS5KBLIUDZs//lq8ulEOlc8xxHM46NSHjOsmpTiHshAS+YuDmzZvUr1+fO3fuKCr8XFBSUlJoErSVFFP+rZC7OGjQG4wkG3L+NnTWaVg/sjUvPOXH6NGjGTFiRMZrEyZMYMGCBVy4cIHKlStnfN1kMjFlyhRWr17Nu4vW8P5vf2ZbUs6gT6Ft6jFWfjoVMN/nTwKjECWD7PEVAxUrVqRq1aocP37cJs9PSkpiwYIFNGjQAKe4Y2gsnRkxWu6ykC4hxYCZmAek7RkuP3Sd1atXM3nyZI4dO5bx2p07d9Dr9ZlKnCUnJzN48GB27NjB3r17GejXgpBx3vh71aK0oxaVKu1UqL9XLTaMbMOBDd/x448/WuzzJ4nuQpQMMuMrJoYNG4aHhwejR48utGfev3+fRYsW8fHHH9OyZUumTJlC1ceaWuxGoTEZ0KemonJwsvgMk8mkqLtEereFH374gZkzZ/LztgiCI6+zYs95DGodZZx09GlRjReauTJuWADly5cnODgYZ2dni/eOioqix/ODKD/wE5L15meekuguRPEnga+YWLp0Kdu3b2fFihW5vofSZbz4+Hjmz5/PZ599RocOHZgyZQotW7bMeF1JN4pvtuwnItZoseaokpqbkLlSTc+R73CiXDvUWl2m92tUYEhNoZ3xBMtnT7RqWfi5mauJ+tsp0yGZ7MYrh2CEKP4k8BUTZ8+epWvXrly+fDlX71cSrFpU0jFv3jzmzZtHt27dmDRpEk2aZP9D3lI3ipjbCXT/fCdJFmZQKhXcT7G8NKo2pPBDr4rUcG9Bjy8iSErNe/cKg8HAjRs3uHbtGgPX/UmyUfnMUwhRfEngKyZMJhOVK1fm0KFD1KpVy6r3KmmWq8HAPyvfpqdvWyZOnEiDBg3yOuR/g20kSSl6TKr/tpMfTjew1G1BZTKScmoHcZvmUaF7IM5Nu4Iq59mcVq2iv2d1hrUow7Vr17h69Wq2f/7555+UK1eOGjVqcOeJ99KmlRYUtRqpQgjrSeArRp577jn69euHv7+/Ve9T0spHZTLSq3EF5g7OWhQ6L9Jnhst2ncakc8RJDS941eaVf5dXlXawDxnnjfHuDbotOooey8nmxuQEVGvfokaNGlSvXj3bP6tWrYqjY1qag7Wd3YUQxZeUqyhGOnTowO+//2514Ft/JNbiXppJpSYsOj4vw8uWWwUXZvRuwjevPkFwcDBjxozh8rVWuHabn/H6/IEe2S7DYjKgVcH8ga3Tli0r1MHASUXP1Ti5cDEmRvE4+7SoZrnPn8nAk+7KC2QLIYomSWcoRjp27Mju3butfl+Cwo7lBVWv0mg0cvPmTTp06MCBAwcwmUy0adOG06dPA2ndFrJLN+jTxJV/Vr1DHcf7GfcqqO4Vw73rWqztqQGWTxvG2rVrrbq3EKJokcBXjLRs2ZLz58/zzz//WPU+W7c6unPnDmXKlMHBwQEXFxe+//57xo0bh7e3N6tWrQL+mxkeD+rOxQ+f5nhQdz4f1J5xwwJ4/fXXM+5VUN0rLtxKwNxkz0GrZslLbVn73UImTZrEgAEDuHXrllXPEEIUDRL4ihEHBwdatWrF3r17rXqfrVsdxcXFZaqqolKpGD58ONu2bWPKlCkEBgaSnJyc7XsnTJjA8ePHM9oYFUT3ivSOEylmim+rgLquLrRv354jR45QvXp1mjZtys8//6z4OUJY4+Gel02CtjJl/bGMzici9yTwFTO5We4c7l3XYrWVgmx1dOPGjUyBL13Lli2JjIzkzz//pGPHjly8mLUZrJOTE/PmzWPs2LEkJSWl7QkGtAR9SpbPlNvuFUo6ThiM/zWrdXZ2Zs6cOaxZs4Z33nkHf39/mf2JfCVVhAqWBL5iJv2AizXKafXody5EpzLZpNVRXFxcppJiDypbtixr167F39+fNm3asHHjxizX9OjRg6ZNm/LJJ58AkHr5D0pHzCXg3z1BMKE1peLvVYuQcd5WdWgHZYd/9EayNKvt0KEDR44coVq1ajRr1ox169ZZ9VwhsmOu56XeaMrS81JYT9IZipm///6bmjVrcufOHXQ6ncXrTSYTzz//PJUrV+btGR+bTTovKHPnzuX8+fPZNpR90J49exgwYAD+/v588MEHaLX/7TleunSJVq1acejQIUaNGsWAAQMYOnQoAPv27WPkyJH88ccfVo8tKSmJRu+GKes4YTJxadYz2b60e/duXnrpJTw9PZk3bx6urq5S8FrkipL0I6kilDcS+Iqh5s2bs3jxYry8vCxe+/nnn7N8+XJ2796dkbNW2CZNmkSpUqWYMmWKxWtv3brFoEGDuH//PqtWraJatWoZAWT1/oukmtSYUpMIaP8Yo3zq41bBhdTUVFxdXYmOjsbV1TXHeycmJnL06FEiIyMz/jl79iyVApeBTkFd0ZREvuiko3fv3llei7mdwILws6w5dJlUNDhowGhKm10/WIT7weR9a2emwj5ITmnBk6XOYqhDhw6K9vn27t3LzJkz+emnn2wW9CDr4RZzXF1d2bx5M926daNVq1Z8vnpbxl5HKhpQqVA5OPNT1LWMvQ6dTkeHDh3YuXNnxn0SExPZt28fX331FS+//DLNmzenQoUKjBo1iqioKFq1asWiRYu4c+cOgzo2sHj4B5OBpFM7eeGFF1i4cCEpKSkZL6Xvx6w5fB29SotKpSLVqMJgIkvnCVmqsg+5PZhy/fp17iWnKnpGQaUf2QOZ8RVDK1asYO3atWbzyW7duoWHhwdfffUVPXv2LMTRZfXMM88wYsQIevXqZdX7Vm7czjs74y00kdWwbkRrvpw1naNHj1KvXj0iIyM5f/487u7ueHp6ZvzTtGlTnJyyzuyUVo9ZM6wlH0x8nV9++QVnZ2cCAgLo3ncgb4beMfve7MhSVcmlpC5u+mxfr9ezf/9+tmzZwubNm7l06RLlhn+DUe1g8Tky48s9CXzF0OXLl2ndujV//vlnti19jEYjTz31FM2bN+ejjz6ywQgza926NV9++SVt2rSx6n1pex2X0Zs7cGnUc/9YKI9e2E5cXByzZs3KCHLWzHKV/rAymUwMGDAAlUpFw4YN+f5EEtRrb7arQ07kB1fJo+SXKCetmlFut9kX+ivbt2+nZs2aPPXUUzz55JO0a9eOoF9PyR5fAZOSZcVQrVq1cHBwIDo6mvr162d5/cMPP+T+/ft88MEHNhhdVtYsdT4o7bSlhYvUWip5Pc0fGz/H1dWVPn365OpZ6dVjLB3+UalULFmyhNatW/Pkk09SWlWZe8nWzfbSyVJV4Smsg0ZKUmMSk1MIjrzOqG7dmDNnDtWrZ86fHe5dl7VR19CbaehckOlH9kBmfMWUv78/3bt3zzjZmC4sLIzBgwdz6NAhqlWrZpvBPcBkMuHs7MydO3coVaqUVe+tM3GTotOW6R0TevXqxcCBA+nfv3/uBmuFEydO4OPjQ+lXvlN2IjQbMuMrHNYsPeZWfHw8MTExPL8qhiQFvwdZ+v++MMZsz+RwSzGV3QGX2NhYBg0axLJly4pE0AO4e/cuOp3O6qAH1pda8/X1JTw83Orn5Ebjxo359NNPMaUm5er9BVkpR/wnP3LiTCYTcXFxHDhwgDVr1jBnzhzGjh1L7969adGiBeXLl6dKlSq88MILZvtPPsjSbD+n+rW5zVUVmclSZzEUczuB405N2F62KnUmbsLFUUvv5lXZsSCt/FeXLl1sPcQMuV3mBIUdEwx6ejVLCyC+vr4sXLgwV8/KjcGDB7Mo6kuuaGuZ7Q+YHa1aJUtVhUDJ0mOqwchnW/7g2ZqpxMTEZPxz+fLljD9dXFxwc3PL+Kdu3br4+Phk/HuFChVQqVSKUxGU1MVNr18r+3j5TwJfMfPgEgg6p4xSRiv2x0CLl+nwfDtbDzGTvAQ+JXsdapWJlKMh8FwLmjVrxq1bt4iNjS20Ge83bwXwxOc7QaMs8GnVKjDq0R1YRgVH7wIenVBWlcfEusOxRH49l1q1auHm5kbr1q15/vnncXNzo1atWri4KNsHVPLLmsz2bU8CXzHy4LLNw0wqNWjUjF55mJBx3kWmMkheAp9bBRfmvtCU4d/tR+vgmG0ieFA3NwL7DGP0kP7UqVOHzp07Ex4ezsCBA/PpE5jXoNqjzHq6Hm9vPI/GwTFThweTyYRapcJBqybFYMw4LDOsQ20+mLiR/v37s2HDhkwVauxZfh9A+fvvv//NibOQowmoHZ2JiIjIxagzk4MpxYPs8RUjSpdt0ospFwV5CXwAd45HUPtUMAFt3LLd6+jv3YQ333yT8ePHA4W7z5duQOdmBLjrMBgyL3GpVCrUKlCrVHw7pDXHg7ozo3cTaruWZv78+RgMBsaMGYOcL8ufoswpKSns3LmTqVOn0rZtW2rWrInakGLxfZB/LbnSGys76zQ2qYsrlJFTncVIcSxlNG3aNNRqNUFBQbl6v6+vL4GBgfTr1y/Ha5KTk2natCmffvoptWvXpnfv3kRHR+dyxNZTmgD/8Ew8Pj4eb29v/P39efvttwtjqEVSbv/+TCYTJ06cIDQ0lO3btxMREUGDBg3o1q0b3bp1o3379rwfcs4mOXExtxNsUhdXKCNrLAUov5ZujEYjZ8+eVbxsU5Tyw27cuEHz5s1z9d6zZ89y8uTJbGtjPsjR0ZF58+YRGBjI8ePHiY+P5/Lly9SqVStXz7WWNTPxB3+4lilThk2bNtGuXTvc3NwYMGBAQQ+1SLLm7+/V1o8SFhbG9u3bCQ0NxdHRkW7dujF06FB++OEHKlSokOl9tlp6lIMpRZvM+ApIXvJw/vnnH/bv38++ffvYu3cv+/fvp1y5cqj6zcFQDEoZPRjw7yWl4qiBfq3drA74b731Fmq1WnH1mb59+9K8eXOOHz/O008/zZAhQ3L7EayS15n40aNH6dq1K2vWrKFTp04FMcQiTenfH6lJ3P12OL6+vhmzurp162ZbvehBkhMnHiaBrwBYs3RTs7wzp0+fZu/evezdu5d9+/Zx6dIlPD09adeuHW3btqVt27ZUqVKlWLQrya8fMsnJydSsWZM9e/ZkW50mO5cvX8bDw4Nx48YRHR3Nd999l9uPYRXFifbAxZlPZ/va9u3bGTRoECs3hrIjlmLbyig3qxzW/P2df78HGoUnaB8elyw9inQS+AqAkgClwsgjN44Rs3Y2rq6utG3blnbt2tGuXTuaNm2aba+93O6FFJb8HN+qVatYsmQJoaGhVo3hww8/ZPv27Vy4cIFLly5ZnA3kB6UzFlNKIs6bptCrVy969epFu3btMv0Qn/zlCoJjnNA6OGYq1VZcZibW/NJjNBrZs2cPq1atYqOjDyoHZ4v3t/VKhig55FRnAVCSO2RCTXLVZpw9e5bz58+zfPlyRo8ejYeHR44NZs2dGNOowJSazMynbTczyM9Tp4sWLWLkyJFWj+HNN9/k6tWrxMfHc/Fi4Zxu7dOimsW2Rlq1ihe9G7J8+XKcnJwYM2YMVatW5aWXXmLdunWcvHKTn288ClrHLPVJi0MrI6UVUjbs2MOrr75KxYoV6dmzJ8HBwRii94LJfJ0vyX0T+UkCXwFIULJfASQbVVSqZN1v8DmVMgpo48Yz2qMsmz3RZsfjlScLX8v0tYd7lz0+bTNnH2lJS+9uVo/B0dGRL7/8kpSUFLZu3Wr1+3NjuHdddBrz/ynpNGpe8a5Lq1ateO+99zhy5AgHDx7Ew8OD+fPn4/fq+yQmmz96X9RSVR6k5Jee+0nJvPLxCpYuXUrTpk0JCgpi9+7d/L7kXZwdzO9dS+6byE+y1FkAbJV2kJycjKenJ5MmTSIgICDf7quUtUWlIeflMZXJiJODLtfLe56enqSmpnL06FGr35sb4WduMOL7/aQaTZnLl5mMoEoLiqXN7Hc1nh5CQorl6sY6DAwtfQy1Wp2WJ/jvnw/+b0t/FsS1Y3elKirO7KyFP6Z2w+GhQCcHUERhksBXAGx5CCUyMpInn3ySI0eOFHqhamsDfkHuWe7atQsfHx/OnTtHvXr1rHpvbvn2fIGqvgM5eteJhH+TsMHEgykoWrUKrVpFYHMHSv19kXPnznHu3DmiGryc9huBRSYCVHswmUwYjcZMf2b3tZz+zO9rz3qMVTT+B3/peZgcQBGFRQJfAbD1IZTp06dz6NAhfv3110I53JHO2oBfkL8gmEwmypcvT9N2vnQe+Z6iU4Z5ybu8c+cOderUITY2lpuJJnrMjSDJTDNBlSGFVje3UUaVzNWrVznTdESxPuBRHIsrCPsle3wFwNZliyZPnsz169dZunRpgdw/J4r3uv7dq8ntnqASl+/cp86Qj7jcfBjL98dYLIOVm5JZt2/fZu/evfzwww8MHTqURx55hE6dOtF26GSL+3Wotez9y5kjR47g5+dHr+ZVLR6QMRn01FPfQq8vOgUK0ik94CMHVERRIDO+AmTLpZtjx47h5+fHoUOHcHNzK9BnPSinvRo1Jhx12kx7NUr3BMHEws5a6tSpg5ubG05OThbHMGp5JMl6A+Yq3aTPugGLM3SdykQv3XHioo9nLE8aDAYee+wxHnvsMSIjI+nSpQtDhgxh2Ja/Fe3XldKpOfnek4CyVQJHrYrKkUuIv36RBQsW0LZtW4vPKCy2XuUQwhoS+EqwmTNnEhYWxrZt21CrC29y/3DA12Gg0v0Ygqe+nOmHntLlMa0xlTpRX3Hx4kWuXLlCxYoVqVu3LnXq1MnyZ4rDIzw1b7fZH8AZ9/13GTUlJYU1h69n6v6QhclAA9UNAhpqM4JdxYoVUalU3L17lxo1anD16lUeeeSRXB3yAWUHPHwaVGTlypVMmDCBnj17MnPmTB599FEFTyt4ckBFFBcS+EowvV5Phw4dGDJkCIGBgTYbR3R0NB07duTatWuZAnBu9vj0ej3Xrl3jwoULXLx4McufRo9+lGraFdTKytCaUu5jMoHa0XKH+Jz2p1asWMHKlSvZuHEjkLf9LqWrBH///TdTp05lzZo1zJo1ixdffLFQ93NzIgdURHEgga+EO336NN7e3uzbt6/QTjdm5/HHH+e7777Dy8sr42uXbt2jy5wdGMi5BJW1y2NK0wIymIyAKk8nEp977jl69erF0KFDgcI91RsZGcmoUaNwdnZmwYIFNG7cOE/3E8IeyOGWEs7d3Z1JkyYxdOhQDAYrAkI+69mzZ8aMCNJOXX7x4TScDy3HSavOt0NA960JekBpJwdKO2VfKedh2fVsu3fvHmFhYfTq1Svja8M61MZoSDV7r/xKyPb09GTfvn0MGDAAHx8f3n77bRISimZ1FyGKCgl8dmDcuHGoVCrmzp1rszH06tWLX375BUir0zhq1Cj27NlDxI9fs3V8pyyVaNIbzVq7J+TiaEWnLZMB39oueTqRuGXLFtq2bZuxz2Yymfho6ls8evJnnHT5F9DN0Wg0BAYGcuzYMWJjY3n88cfZsGFDvtxbiJJIljrtRHR0NG3atCEiIoJGjRoV+vMNBgNVqlRh3759BAUFcfnyZX799VfKlCmTr89RssyYTouRu6vfpmfPnux+xMds3p1GBcuGtaF9PddMXx8wYABdunRh+PDhmEwmXnvtNaKioti6dSt3UtQ22e8KDw8nMDCQxx57jC+++ILatWsD+dcfUojiTgKfHVmwYAFLly5lz549aLWF34N48ODBHD9+nMqVK/Pzzz9TqpTlAyXWirmdQPfPd5kNYgBOWjULBnnS5FEV7777Lmt2n6R0j9cxqtRkFzM1KnDQajKdTExMTKRq1aqcO3cOV1dXXn/9dfbu3cu2bdsoW7Zsvn82a6SkpPDJJ5/w6aef8uabb9Kq1xDGrj4qJy6FQJY67cqoUaMoW7Yss2fPLvRnJyYmcuLECWJjY9mwYUOBBD0AJ/092L0EDYbsly9NJpxun2f9SC98G1aiYsWKfPnll/y2cj41Lv6KMYd9UIOJLB0Stm3bRsuWLXF1deV///sfERERbN261eZBD8DBwYFJkyZx8OBBdhw8xvDv9lvsnFBUOz8Ikd8k8NkRlUrFN998w2effVZoxZsh7QDI008/Tb169UhMTCQlxUJVk1yKjY3Fx8eHAJ/mhL3ph79XLUwp91GRtm84uK0b4W92pnXiISaMGkJq6n8HUNzd3ek4YIzFJqcPdkhYs2YNffv2ZfLkyYSGhrJ9+3bKlStXIJ8tt+rUqUObFyei1po/wGNt54eHO2o0CdrKlPXHJHiKYkGWOu3Q0qVL+eKLL9i/f3+WKvn57e+//+bpp5+mUaNGfP311zz11FOMGDGCvn375utzrly5gp+fH8OGDeOdd94BIDU1lVKlSpGcnJwpfzA1NZW+fftSpkwZli1blvGaNfl3UZN8qVKlCkOHDiU0NJQdO3bg6upq8b22kN91NCVRXRR3MuOzQ0OHDqVGjRq8//77BfqcW7du0aVLFzw9PVm0aBEajSbT6c78cunSJTp37syrr76aEfQAbty4gaura5aqNTqdjtWrV3P16lXGjh2b0b9QaR/FhBQ9YWFhlClThq1btxIaGlpkgx4o/1zxSSn4+fkRGBjIF198wbZt27hy5Uqm/o5KG87KzE8UZRL47JBKpWLRokV8/fXXHDp0qECecf36dXx8fHjiiSeYO3duRvB55pln2Lx5c77lFJ4/f57OnTvzxhtv8MYbb2R6LS4ujsqVK2f7PmdnZ3755Rf27NlDUFAQoDwVwsVBy7Rp00hMTCQsLMzqZsKFTennKu2oZeLEiTRq1IgzZ87w0Ucf0aZNG8qUKYOnpycDBw5k1Oc/kZxqPpAW5Ya5QgAU/tE+USRUrVqVzz77jCFDhhAZGWmx8LM1Ll++TJcuXRg6dCiTJ0/O9JqbmxvVqlVj3759dOjQIU/POX36NN26dWPq1KmMGDEiy+vmAh9A2bJlCQkJwdvbm0cffZQ+LfwUVVxxM8UREhXFvn37qFKlSp4+Q2Ho06Kaos/1nEdNunVrQrdu3TK99s8//3DmzBlOnz7Ne6fKYjRT+Bv+66iR370mhcgvMuOzY/7+/jRq1Ihp06bl2z3Pnz9Pp06dGD16dJagly4/ljtPnDhBly5dmDFjRrZBDywHPoBKlSqxbds25syZg+utPyy2VcJoIGrlJzRt2pTWrVvndviFytp2UQ8rW7YsXl5evPjiixgU/q6ckFL0WicJkU4Cnx1TqVQsWLCAZcuWsWfPnjzf7+TJk/j4+DBp0iTGjx+f43UPly+z1h9//EHXrl35+OOPM+pjZkdJ4IO0WejWrVv5aOpbDKmXkmMfRa3KiH7nQrp4NcPf3z/X4y9s+dkf0prlYCGKKgl8dq5ixYp89dVXDBn9Ju+sOZzr4+mHDx+mS5cuzJo1K8cZWLpWrVrx119/cf78eavHGxkZSffu3fniiy8ICAgwe63SwAfQqFEjNm7cyKdvvcK7bR2ylFBr7hJP6oYgQn+YS2hoaL6fSi1ovg0rETLOO8+l4aThrCgJJJ1BEH7mBsO+3YtJpcak+u93IaXH0/ft20fv3r2ZP3++4oAwfPhwHn/8cV5//XXF40x/zqJFi+jdu7fF6wcOHEiPHj0YPHiw4meEh4fTv39/tmzZgqenJwDffvstQUFBhIeHc+3aNcaOHcuRI0cU37MkkYazoiSQGZ+dSz+eblRrMwU9UHY8/bfffqNXr14sXbrUqlmQtcudv//+e8ZzlAQ9sG7Gl87X15dFixbxzDPPcPr0ab7//numTZtGaGgo9erVY+3atTz//PNW3bMkyc9lUyFsRRbi7dziiAukGszXtUw/nv7wKb2QkBBefPFFVq1ahZ+fn1XP7dq1K4MGDeKvv/6ifPnyZq/97bff6NevHytWrMhy4tCc3AQ+gD59+vD333/TsWNHtOWq8Pz7K3luxUUSks9h1HrzTPXKxNxOsNsf7unLptJwVhRXstRp53Jb1WPdunWMGjWKdevW0b59+1w9u2fPngQEBJg9KLJ9+3YGDhzI6tWr8fX1ter+lSpV4ujRo7lKOVi9ejWBM76kzJOvo3Vw5MGa11KhRIjiTWZ8ds6aaiXpVqxYwRtvvMGWLVvw8PDI9bPTlztzCnybN29m6NCh/Pzzz3Ts2NGqe+v1ev766y+zFVVyatNTM+EcQUHv49r/I5INJh5u9KA3mtAb05aAZS9LiOJH9vjsnLXH05csWcJbb71FaGhonoIepFVxCQkJyVQsOt369et56aWX2Lhxo9VBD9LKpZUvXz7H9kvhZ27QY24Eqw5e4V6yHhNwL1nPiv0xfHgY2o/5DIOFtRCpUCJE8SQzPjunpKoHmOjqXokvvviCOXPm8Ntvv/HYY4/l+dmpjmWp9NRrNH13G8kGMmZc1e+d4d0JY9i8eXPGyUprmdvfe7De5MOMqFDpHIn8M9niM6RCiRDFkwQ+Ozfcuy5ro66hN5qpnWmC9ZGXUO3exq5du3Bzc8vzc9Mr/CfXbIXp30enz7gMqWo+XLo+10EPzAc+JQd6lJIKJUIUP7LUaefSj6c7ac18K6hUoHXA1GEY1/6xPBOy5MEZl+mhb8H0GdfHe//OU4V/c4Fv/ZFYCzNc5aRCiRDFjwQ+gW/DSnRvXNlC6WFQa3W8MG0hoaGheXqeNSkUuWUu8Ck90GOJCqRCiRDFkAQ+AUDY6ZtYmgMZUVGmaRcGDx7M7NmzyW0mjJIZV/r+WW6ZC3xOWkshXhkT5FjYWQhRdEngE4DyWVCSAQ4cOMCaNWvo168f8fHxBfasvOyfZRf4oqOjGTBgAAknwlFbDPOWqUBSGYQohiTwCcC6tIaaNWuya9cuypcvT5s2bThz5kyBPSu3Hgx8t27dYvz48bRp04amTZuyde7bOOryvjen9HMIIYoWCXyClJQU6qhuYjKYn2E9WHXfycmJxYsXM378eLy9vdmwYYPi5xVGhf+4uDjKli3LrFmzaNSoEQaDgZMnTzJ58mQa1XQ1W29So1ZhYXjSgUCIYkwCn50LCQmhWbNmJET+gpODzuy12TUrHTFiBL/88gtjxoxh6tSpGAxm0iL+ldfGqJYYDAYuXrzI888/T2RkJHv27GHevHlUqvRfeTFzbXqWveyFo1ZTYOMTQtiW1Oq0U+fPn+eNN97g5MmTfPbZZzzzzDP8dvYmgcFRpOgNmaqWKKlNGRcXxwsvvICLiwvBwcEWC0+n5/ElJqeA+r8gk5c6mCaTia1bt/K///2PY8eOsWvXLry9va26x8PjSzUYMx3E0apBp9FInU4hijGZ8dmZ+Ph43nnnHdq0aUP79u05ceIEPXv2RKVSZcyCWj6SgMaYYlWz0sqVKxMaGkrDhg1p1aoVR48eNTsO34aVWPuKB4nHtqM16QFTrhqjpouKiqJbt26MHz+eCRMmUL58+VwHvfTxPTwjNKXcp3eTirkanxCi6JAZXwmRU8Hl4d51cavggtFoJDg4mHfeeQc/Pz8++ugjqlWrlu29Xn31Vdzd3Rk3blyuxrJixQrGjRvH3LlzzXZJ37RpE3PmzMHDw4MqVaowYcIEq58VExPD5MmTCQsLY+yk97hXow0/R10lMdVIaSddpr+DvKpduzbh4eHUqSNLnEIUZzLjKwFyKri86uAVesyNYNHG3+nQoQNz585lzZo1LFu2LMegB3Do0CFatWqV6/EEBAQQFhbG1KlTef3117MtQg1pLYe6deuG0WhErbbuW/Gvv/7irbfewsPDg/r16/PNln38cLMmqw9dJVFvApUq099B+Jkbuf486ZydnUlMTMzzfYQQtiWBr5h7sPzXw0nh6R3UP9h5g75DRnHgwAHatWtn9n4pKSmcOHGCFi1a5GlczZo149ChQ5w5c4Zu3boRFxeX5ZrQ0FC6du2KwWBQHPiSkpKYM2cODRs2JD4+nuPHj/PSa2/x5s+nzP4dmOsir5QEPiFKBgl8xZyS8l86R0f+qeqpKLgcP36cevXq4eKS96XB8uXLs3HjRry9vWnVqhX79+/PeO369evExsbi4eGB0WhEozF/ijJ9qdbd3Z2IiAh27tzJwoULqVq1aqGUQAMoVaqUBD4hSgAJfMWcsvJfKC7/lddlzodpNBpmzJjBl19+yTPPPMOiRYuAtNle++69mb7xJFtcujAntg5NgrYyZf2xLDOzsLAwWrVqxbx581i2bBnr16+nUaNGGa8XRgk0kBmfECWFlJ4o5vK7/Fd+B750vXv3xt3dnWeffZaDBw9yzVSOc3We4/TBK+hVafmD6Xtya6OuMX+gBxWS/+Ttt9/m3LlzzJo1i759+6JSZc0sL4wSaJAW+O7fv5+newghbE9mfMVcfpf/KqjAB9CwYUP279/P9Xt6jpdrS6pJneOe3LBv99K970CefvppTp48yfPPP59t0IPCKYEGMuMToqSQwFfM5Wf5r6SkJE6fPk2zZs3ya3hZlClThlrdXkKlNh+ETGo1L374PWPGjMHBwcHstWl/B+afmx8lxiTwCVEySOAr5vKz/NfRo0dp0KABzs7O+TW8bIWe/weVxkLgQ82mEzcV3e/pek7oU8w3yM2PEmMS+IQoGWSPr5hL76CefXmt/8p/KUngLshlzgelGFVY7HpL5j25nBL0e9Rx4MVnn6T3iLfZdt8tSwk0jQr0Kcm83r5SnpPYJfAJUTLIjK8EMFdw2ZryWoUR+FJTUzGlKgse6XtyOSXorzxwmYHLT/Bs4BTmvjOSdSNak3Q8lNKOmoy/g4A2bkxvo2P6iH6cP38+T2OXwCdEySAzvhLCrYILM3o3YUbvJrm+R2RkJIGBgfk4qqwOHDiA05/HMNRuazYFwWTQ43LjNOu2l2JSRAKJqVm7PhhMoNI6svluNcbeTuDS8YM0iD/CrqAvHrqyCal3gnjyySfZvXt3pi4N1pDAJ0TJIDM+AcD9+/c5d+4cTZs2LdDnhIaG0qU6YDTfvsjZyYGn6jnxxqLNJCab379LT07ftm0bTzzxRLbXjBw5kgEDBvDMM8+QkJC7Ci4S+IQoGSTwCQD++OMPHn/8cRwdHQv0Odu3b6e2a2lif3oPLcZsG8E66zQsGOjJ9DdH49K4M1g4Aao3mli2L4af1R24XKldjqXJ3nvvPRo3bkz//v3R663P6ZPAJ0TJIIFPAIWzv3f37l0OHz7M1KlT6eP1GGET/CzuSyYkW25sm0HnxI6Y5ByLUqtUKhYtWoTBYODVV1/F2sYkEviEKBlkj08AaYEvL/3rlAgLCyM1NZUGDRoQHByMSqWyuC/p4qjlnsLKLJA2+9Mb04pSh4zzznKSU6fT8dNPP+Hj48OMGTOYNm2a4ntL4BOiZJDAJ4C0wDd+/Ph8uVdOqQffvD0djUbD/v37c6zC8rA+Laqx6uAVi7U4H5a+75ddUC1dujSbNm2iXbt2VK9enWHDhim6pwQ+IUoGCXyCe/fucfHiRRo3bpzne4WfuZElp/Besp7gfZfQ9ZzOpEZY1flhuHdd1kZdQ2/hMMzD0otS5zSbrFy5MiEhIXTu3JmqVavy1FNPWbynBD4hSgbZ4xMcPnyYpk2bWiwNZom53oAmlRq1gxMrLrtY1RcvPUHfWaexWJrtYZaKUjdo0IB169YxZMgQDh48aPF+EviEKBkk8AkiIyPz5WBLQfXFezhBXyklRanbtm3LN998Q+/evYmOjjZ7rfTjE6JkkMAn8u1EZ0H2xUtP0D8e1J1BbWrlW2FugF69ejF9+nR69OjBzZs51weVGZ8QJYMEPjsVczuBKeuP0SRoK7/XGMDsC5WzbQJrjcLqi5efhbnTjRw5kv79+5tNcJfAJ0TJIIHPDj1c+xKVikS9iVUHr+SYA6dEYfXFM7fvl54Ar7Qw94NmzJhBo0aNckxwl8AnRMkggc/OmDuAkt4ENjA4Klczv/zsDWhJfhXmfpBKpWLx4sXo9XoCAwOzJLhL4BOiZFCZrC1fIYq1KeuPWcyL06pV+HvVsrrgdcztBLp/vpMkfc73dtZpsk0sL0ri4+Px8fGhT58+TJ06NePrKSkplC5dmpSUFBuOTgiRVzLjszMFeQDlUQcjqt3foFVlV4OTXC9BFrYyZcqwadMmli5dyrfffpvxdZ1Oh8FgwGCwLqdQCFG0SAK7nSmoAyhGo5EXX3yRDnUrMOUNX77ZfYl1h6+lPS81CX/vhrzSsU6RD3rpqlSpwpYtWzIS3B/36sTiiAtUH7+K+lNCMqrRDPeuW2w+kxAijSx12pkmQVsV1b4s7ajleFB3xfedPn06oaGh7NixI1OHh+nTp5OcnMysWbNyNV5b27t3L88GTqbs029iMKly7HCfmz1FIYRtyFKnnSmIAyhr167lu+++4+eff87S1ig0NJSuXbvmaqxFQbUGzXjkqTdINpDvh4GEELYhgc/O5HcO3B9//MGoUaNYt24dlStXzvTa3bt3OXr0KB06dMj1eG1tccQFjBb+M8lNNRohhO1I4LMz5nLgTAY9jhoUH0C5efMmvXv35ssvv8TDwyPL67/99htt27bF2dk538Zf2AryMJAQwjYk8NmhnHLg2lTQ4/zbZ3SqX8HiPVJSUnj++ecJCAigf//+2V5T3Jc5ofCq0QghCo8cbhEZTCYTvr6+9O3bl9dee83sta+++irXrl1j/fr1qNXZ//70+OOPs2zZMjw9PQtiuIWioA4DCSFsR2Z8IoNKpWLBggW8++67xMbG5njdwoUL2bVrF8uXL88x6F29epUbN27QsmXLghpuoSjMajRCiMIhgU9k0qhRI0aOHMkbb7yR7es7d+5k+vTpbNiwgUceeSTH+4SFheHn55djYCwuCqIgthDCtiSBXWQxefJkGrfxYci8zUTe1pCQrMfFUUuXemX48b0xLF++nPr165u9R0nY34P/DgM93FUeMufxSRK7EMWH7PGJLMLP3GDkDwdJ0etB/cDvRkY9WrWaxUPbZEnYjrmdwOKIC6w/EktCsh5jSiK9W1Tjzaeal4igEHM7gSW/X2Td4WvcS0oFfTKDi1k1GiFEGgl8IpOY2wn0mBtBYmrO9SgfLjQdfuaGxRlRSapssmTJEl577TXp1CBEMVW8N2BEvlsccYFUg9HsNQ8mbBdkm6OiKiAggKSkJKKjo209FCFELkjgE5lYm7BtbaAsCUqVKkWFChVYsmSJrYcihMgFCXwiE2sTtu21somnpychISG2HoYQIhck8IlMXByVHfR1cUi7zl4rm/Tt25czZ87YehhCiFyQwCcysTZh29pAWVIMGjSIxMRELly4YOuhCCGsJIFPZGJtwra9VjYpVaoUjz76KN98842thyKEsJIEPpHJg90bVGQ+tKJVq3DWaTIlbA/3rotWYz7wldTKJp6enmzZssXWwxBCWEkCn8givXtD+VsncFKbMro3+HvVImScd6acPLcKLjwWtxO1SZ9l5pddoCxJ+vbty+nTp209DCGElSSBXWTLYDBQoUIFzpw5k6XB7IOCg4OZMWMG67b/zoqoP1l3+BoJKXpcHLQ827J6ia5scu/ePcqUKcPFixepXbu2rYcjhFBIAp/I1pEjRxgwYIDZGU10dDRt27Zl+/bttGjRovAGV0TE3E6g3UtTcGnsgx4tLo5a+rSoxnDvuiU22AtREshSp8jWrl276NSpU46vp6Sk4O/vz9SpU+0y6IWfuUGPuRE4NPIlFS0m4F6ynlUHr9BjbgThZ27YeohCiBxI4BPZioiIMBv4pkyZQuXKlS02rC2JHizThlqT6bWSWqZNiJJEAp/IwmQymZ3xbdu2jZUrV7J06VJUKvMnOksieyzTJkRJIoFPZHH27FmcnZ2pVatWltfi4uIYOnQoP/zwA66urjYYne3Za5k2IUoKCXwii127duHt7Z3l60ajkSFDhvDyyy/j6+trg5EVDfZapk2IkkICn8gip2XOTz/9lLt37zJ9+nQbjKrosNcybUKUFBL4RBbZBb6DBw8ye/ZsVqxYgU6ns9HIigZ7LdMmREkhgU9kEhMTQ1JSEg0aNMj4Wnx8PAEBAXz11VeSqI319UyFEEWLBD6RSfps78HTmoGBgfj6+tKvXz8bjqzoeLCeqb2VaROiJJBNCJHJw/l7y5YtIzIykkOHDtlwVEVPej3TJb9fTCvTlqwHfRL+HRuW6DJtQpQEUrJMZOLu7s7q1atp3rw5586do3379oSFhdGsWTNbD61IOxt7B+/hQbi2eor7KQYpXyZEESaBT2SIi4vD3d2dW7duYTAYaNeuHS+//DKjR4+29dCKtPAzN9IquSSnZKrkolWr0GnUzB/okamjhRDCtmSPT2SIiIigQ4cOaDQaJk6cSM2aNQkMDLT1sIo0KV8mRPEje3x2LuZ2AosjLrD+SCz3kpzQNR3Bi19s4rct4RyO2G6XJcmsYU35shm9mxTSqIQQ5siMz46ldxhYdfAK95L1oFKRioadV/U4PTeDo7cMth5ikSfly4QofiTw2akHl+ge/sGt0mhJMSBLdApI+TIhih8JfHZKOgzkDylfJkTxI4HPTskSXf6Q8mVCFD8S+OyULNHlDylfJkTxI4HPTskSXf6Q8mVCFD8S+OyULNHln/TyZf5etXDRqTGZjJR21OLvVYuQcd6SvC5EESOVW+xUzO0EesyNSEu8zoGzTkPIOG+ZrVhBr9fj4uJCfHw8Dg4Oth6OECIbMuOzU24VXPjSvwXoU9A8NPGTJbrc02q1VK1alatXr9p6KEKIHEjgs2Nxh3dQOWoJAV61KO2oRaVClujygZubG5cuXbL1MIQQOZCTC3bKYDDw3nvv8eWXX9K1a1Nm9Glq6yGVGLVr1yYmJsbWwxBC5EBmfHZq1apVuLq60qVLF1sPpcSpXbu2zPiEKMIk8Nmh9Nneu+++K0WoC4AEPiGKNgl8dmjlypVUqlQJPz8/Ww+lRJLAJ0TRJnt8dkav1zNjxgzmz58vs70CIoFPiKJNZnx2ZuXKlVSuXFlmewWoRo0a/Pnnn6Smptp6KEKIbEjgsyPps72goCCZ7RUgnU5H5cqVJZdPiCJKAp8dWbFiBVWrVsXX19fWQynxJKVBiKJL9vjsRPpsb9GiRTLbKwSyzydE0SUzPjsRHBxM9erVZbZXSCTwCVF0SeCzAw/u7YnCIYFPiKJLAp8dCA4OpkaNGvj4+Nh6KHZDAp8QRZe0JSrh9Ho97u7uLFmyRAJfIYm5ncCcTUf45eh1VDpnXBy19GlRjeHedaXbhRBFgAS+Eu67777j+++/Jzw83NZDsQvhZ24QGBxFqsGI3vjff1patQqdRs38gR7S9UIIG5PAV4Klpqbi7u7Ot99+S+fOnW09nBJPmvsKUTxIOkMJEnM7gcURF1h/JJaEZD06tRGXzi9Ru0krWw/NLiyOuECqwWj2mlSDkSW/X2RG7yaFNCohxMNkxldC5LTEplGBg1YjS2yFoEnQVu4l6y1eV9pRy/Gg7oUwIiFEduRUZwkQczuBwOAoElMNmYIegMEEiakGAoOjiLmdYKMR2ocEBUEPICFF2XVCiIIhga8EsGaJTRQcF0dlOwcuDrLDIIQtSeArAdYfic0y03uY3mhi3eFrhTQi+9SnRTW0avPl4LRqFc+2rF5IIxJCZEcCXwkgS2xFw3Dvuug05v+T0mnUvNKxTiGNSAiRHQl8JYAssRUNbhVcmD/QA2edJsvMT6tW4axLO2QkqQxC2JYEvhJAltiKDt+GlQgZ542/Vy1KO2pRqdJOcfp71SJknLecrBWiCJB0hhJAEqeFEEI5mfGVAA8usWHMHPxkiU0IITKTGV8JcuFGPO1fnkIFzx7cTzXi4qDl2ZbVeaVjHQl6QgjxLzntUILcjY2m3PmtnPh1rq2HIoQQRZYsdZYgEREReHt723oYQghRpEngK0Ek8AkhhGWyx1dCmEwmqlWrxp49e6hTRxKkhRAiJzLjKyGio6PRaDTUrl3b1kMRQogiTWZ8xdiD/ffuJaeiMabi364+w73ryilOIYTIgQS+Yiqn/ntatQqdRi3994QQIgcS+IohqdQihBC5J3t8xZD03xNCiNyTwFcMSf89IYTIPQl8xZD03xNCiNyTwFcMSf89IYTIPQl8xZD03xNCiNyTwFcMDfeui05j/v86nUbNKx2lgosQQjxMAl8x9GD/vYdnftJ/TwghzJM8vmIs5nYCS36/yLrD10hI0Uv/PSGEUEACnxBCCLsiS51CCCHsigQ+IYQQdkUCnxBCCLsigU8IIYRdkcAnhBDCrkjgE0IIYVck8AkhhLArEviEEELYFQl8Qggh7IoEPiGEEHZFAp8QQgi7IoFPCCGEXZHAJ4QQwq5I4BNCCGFXJPAJIYSwKxL4hBBC2BUJfEIIIeyKBD4hhBB2RQKfEEIIuyKBTwghhF2RwCeEEMKuSOATQghhVyTwCSGEsCsS+IQQQtgVCXxCCCHsyv8BWxhirngA4zsAAAAASUVORK5CYII=\n",
          "text/plain": "<Figure size 432x288 with 1 Axes>"
         },
         "metadata": {},
         "output_type": "display_data"
        }
       ]
      }
     },
     "63c12101106a4e018790cf4d4f4a190f": {
      "model_module": "@jupyter-widgets/controls",
      "model_module_version": "1.5.0",
      "model_name": "HTMLModel",
      "state": {
       "layout": "IPY_MODEL_f8ebbfaf17d3405d981653632c10d397",
       "style": "IPY_MODEL_298e3c2e6b424306900829079741bc08",
       "value": "100%"
      }
     },
     "6944d517b13d4a5b928ce07aa203b0ac": {
      "model_module": "@jupyter-widgets/controls",
      "model_module_version": "1.5.0",
      "model_name": "ProgressStyleModel",
      "state": {
       "description_width": ""
      }
     },
     "702eb0367f3a454fb8fa514ea3c42e9c": {
      "model_module": "@jupyter-widgets/controls",
      "model_module_version": "1.5.0",
      "model_name": "HTMLModel",
      "state": {
       "layout": "IPY_MODEL_7394100b3b024427bf4a49372dde7633",
       "style": "IPY_MODEL_f837c763c2dd4d7f8a9c1611be6fa3dd",
       "value": " 980/1000 [03:34&lt;00:04,  4.57it/s]"
      }
     },
     "7394100b3b024427bf4a49372dde7633": {
      "model_module": "@jupyter-widgets/base",
      "model_module_version": "1.2.0",
      "model_name": "LayoutModel",
      "state": {}
     },
     "781843c1225c4a16837d4867ab6b01d1": {
      "model_module": "@jupyter-widgets/controls",
      "model_module_version": "1.5.0",
      "model_name": "HBoxModel",
      "state": {
       "children": [
        "IPY_MODEL_63c12101106a4e018790cf4d4f4a190f",
        "IPY_MODEL_4c3b9b8c196b42cb9d4c811d31050411",
        "IPY_MODEL_373cda4f45e242afb9ed5d1a0bf64b0b"
       ],
       "layout": "IPY_MODEL_c9680b7e27ed465ab60c3671f09d9c40"
      }
     },
     "78541c77d4524bd1b7de7b322a4bd893": {
      "model_module": "@jupyter-widgets/output",
      "model_module_version": "1.0.0",
      "model_name": "OutputModel",
      "state": {
       "layout": "IPY_MODEL_c04a23d3488f497bb111748ebb235735",
       "outputs": [
        {
         "name": "stdout",
         "output_type": "stream",
         "text": "[272] stress=495.82(24.61%) xing=30.29(15.01%)\n[273] stress=401.62(15.70%) xing=30.40(17.53%)\n[274] stress=352.71(9.30%) xing=30.11(16.59%)\n"
        }
       ]
      }
     },
     "7f2663284af34807b96c9929170e74bf": {
      "model_module": "@jupyter-widgets/controls",
      "model_module_version": "1.5.0",
      "model_name": "DescriptionStyleModel",
      "state": {
       "description_width": ""
      }
     },
     "82976370528548e7af41c2ee07716cf3": {
      "model_module": "@jupyter-widgets/output",
      "model_module_version": "1.0.0",
      "model_name": "OutputModel",
      "state": {
       "layout": "IPY_MODEL_bbc2df6fe92c4329b2103c9c87544b9f",
       "outputs": [
        {
         "data": {
          "application/vnd.jupyter.widget-view+json": {
           "model_id": "9cabbe3a05fd4c67ab2b56f382ca5e18",
           "version_major": 2,
           "version_minor": 0
          },
          "text/plain": "  0%|          | 0/1000 [00:00<?, ?it/s]"
         },
         "metadata": {},
         "output_type": "display_data"
        }
       ]
      }
     },
     "85b17472b3cb4e3283b756f0ac64b128": {
      "model_module": "@jupyter-widgets/base",
      "model_module_version": "1.2.0",
      "model_name": "LayoutModel",
      "state": {}
     },
     "898009c4a6894719ba585e8fb3f49a00": {
      "model_module": "@jupyter-widgets/controls",
      "model_module_version": "1.5.0",
      "model_name": "HTMLModel",
      "state": {
       "layout": "IPY_MODEL_d71e0194ab66409ab7b929c5da7b8e8f",
       "style": "IPY_MODEL_905e6db1a8954814961eefb98a076da0",
       "value": "[epoch 274/None]:  98%"
      }
     },
     "905e6db1a8954814961eefb98a076da0": {
      "model_module": "@jupyter-widgets/controls",
      "model_module_version": "1.5.0",
      "model_name": "DescriptionStyleModel",
      "state": {
       "description_width": ""
      }
     },
     "90b5a3f49bd44b0a82c8b29e7599d705": {
      "model_module": "@jupyter-widgets/controls",
      "model_module_version": "1.5.0",
      "model_name": "HBoxModel",
      "state": {
       "children": [
        "IPY_MODEL_6158b33f83ae469991748e43dc31eaba"
       ],
       "layout": "IPY_MODEL_aeb3804b2e104bd0b5e3de31eb9abae0"
      }
     },
     "91e5652053b24b4c8cb1d4095e097cd2": {
      "model_module": "@jupyter-widgets/controls",
      "model_module_version": "1.5.0",
      "model_name": "TabModel",
      "state": {
       "_titles": {
        "0": "status",
        "1": "plot",
        "2": "log"
       },
       "children": [
        "IPY_MODEL_ecce67c8b0e543e48fa22024b531523e",
        "IPY_MODEL_90b5a3f49bd44b0a82c8b29e7599d705",
        "IPY_MODEL_59c8d7ccbf934b8aad2c3f4823b33a8a"
       ],
       "layout": "IPY_MODEL_3de9504b780b4b8cbbf70e0e6c60ad70"
      }
     },
     "94bebbf820c94af4bbb47153c39b9981": {
      "model_module": "@jupyter-widgets/controls",
      "model_module_version": "1.5.0",
      "model_name": "DescriptionStyleModel",
      "state": {
       "description_width": ""
      }
     },
     "9cabbe3a05fd4c67ab2b56f382ca5e18": {
      "model_module": "@jupyter-widgets/controls",
      "model_module_version": "1.5.0",
      "model_name": "HBoxModel",
      "state": {
       "children": [
        "IPY_MODEL_898009c4a6894719ba585e8fb3f49a00",
        "IPY_MODEL_c6953e786ea442a381d8ad2734c40af2",
        "IPY_MODEL_702eb0367f3a454fb8fa514ea3c42e9c"
       ],
       "layout": "IPY_MODEL_85b17472b3cb4e3283b756f0ac64b128"
      }
     },
     "a43a9fb3ddca4e70a19fd52472cf3958": {
      "model_module": "@jupyter-widgets/base",
      "model_module_version": "1.2.0",
      "model_name": "LayoutModel",
      "state": {}
     },
     "a587c795619a47fbbe1b5a9b4828ed8b": {
      "model_module": "@jupyter-widgets/base",
      "model_module_version": "1.2.0",
      "model_name": "LayoutModel",
      "state": {}
     },
     "a5b2597949c44bb39186135eb0448fe9": {
      "model_module": "@jupyter-widgets/controls",
      "model_module_version": "1.5.0",
      "model_name": "FloatProgressModel",
      "state": {
       "bar_style": "success",
       "layout": "IPY_MODEL_28cd81f6eaa24038b66147f3f23bee29",
       "max": 1000,
       "style": "IPY_MODEL_6944d517b13d4a5b928ce07aa203b0ac",
       "value": 1000
      }
     },
     "a5be1c74f0214dce8dfd42fbc3c5a481": {
      "model_module": "@jupyter-widgets/base",
      "model_module_version": "1.2.0",
      "model_name": "LayoutModel",
      "state": {}
     },
     "ab2d6d7810bf48efa4b47e65afc8891a": {
      "model_module": "@jupyter-widgets/base",
      "model_module_version": "1.2.0",
      "model_name": "LayoutModel",
      "state": {}
     },
     "aeb3804b2e104bd0b5e3de31eb9abae0": {
      "model_module": "@jupyter-widgets/base",
      "model_module_version": "1.2.0",
      "model_name": "LayoutModel",
      "state": {
       "height": "500px",
       "overflow_y": "auto"
      }
     },
     "b48fd79f5a164743a8f0218b78ef8a27": {
      "model_module": "@jupyter-widgets/base",
      "model_module_version": "1.2.0",
      "model_name": "LayoutModel",
      "state": {}
     },
     "b7c18a4f91724523963bc9e785af5734": {
      "model_module": "@jupyter-widgets/base",
      "model_module_version": "1.2.0",
      "model_name": "LayoutModel",
      "state": {}
     },
     "b81becace6eb4d0aa36efbce332fe574": {
      "model_module": "@jupyter-widgets/controls",
      "model_module_version": "1.5.0",
      "model_name": "ProgressStyleModel",
      "state": {
       "description_width": ""
      }
     },
     "bbc2df6fe92c4329b2103c9c87544b9f": {
      "model_module": "@jupyter-widgets/base",
      "model_module_version": "1.2.0",
      "model_name": "LayoutModel",
      "state": {}
     },
     "be20d664f84f42c1ae2ee68cfd06fdc7": {
      "model_module": "@jupyter-widgets/controls",
      "model_module_version": "1.5.0",
      "model_name": "HBoxModel",
      "state": {
       "children": [
        "IPY_MODEL_125283abe0eb491a9c5b422fd68fe576",
        "IPY_MODEL_a5b2597949c44bb39186135eb0448fe9",
        "IPY_MODEL_c3f5a66e60204a82b45b93267e627116"
       ],
       "layout": "IPY_MODEL_ab2d6d7810bf48efa4b47e65afc8891a"
      }
     },
     "c04a23d3488f497bb111748ebb235735": {
      "model_module": "@jupyter-widgets/base",
      "model_module_version": "1.2.0",
      "model_name": "LayoutModel",
      "state": {}
     },
     "c1820e06e7a14eeda6141c968eacc74f": {
      "model_module": "@jupyter-widgets/base",
      "model_module_version": "1.2.0",
      "model_name": "LayoutModel",
      "state": {}
     },
     "c3f5a66e60204a82b45b93267e627116": {
      "model_module": "@jupyter-widgets/controls",
      "model_module_version": "1.5.0",
      "model_name": "HTMLModel",
      "state": {
       "layout": "IPY_MODEL_a43a9fb3ddca4e70a19fd52472cf3958",
       "style": "IPY_MODEL_94bebbf820c94af4bbb47153c39b9981",
       "value": " 1000/1000 [00:54&lt;00:00, 21.46it/s]"
      }
     },
     "c6953e786ea442a381d8ad2734c40af2": {
      "model_module": "@jupyter-widgets/controls",
      "model_module_version": "1.5.0",
      "model_name": "FloatProgressModel",
      "state": {
       "layout": "IPY_MODEL_cc3c99bca765491a964f13e3ad8950ee",
       "max": 1000,
       "style": "IPY_MODEL_d33f2cef443449ab81d6b540e6f00b7a",
       "value": 980
      }
     },
     "c9680b7e27ed465ab60c3671f09d9c40": {
      "model_module": "@jupyter-widgets/base",
      "model_module_version": "1.2.0",
      "model_name": "LayoutModel",
      "state": {}
     },
     "c9bb730bd0c341a8ad76a56ee38977e1": {
      "model_module": "@jupyter-widgets/base",
      "model_module_version": "1.2.0",
      "model_name": "LayoutModel",
      "state": {
       "height": "500px",
       "overflow_y": "auto"
      }
     },
     "cc3c99bca765491a964f13e3ad8950ee": {
      "model_module": "@jupyter-widgets/base",
      "model_module_version": "1.2.0",
      "model_name": "LayoutModel",
      "state": {}
     },
     "d33f2cef443449ab81d6b540e6f00b7a": {
      "model_module": "@jupyter-widgets/controls",
      "model_module_version": "1.5.0",
      "model_name": "ProgressStyleModel",
      "state": {
       "description_width": ""
      }
     },
     "d71e0194ab66409ab7b929c5da7b8e8f": {
      "model_module": "@jupyter-widgets/base",
      "model_module_version": "1.2.0",
      "model_name": "LayoutModel",
      "state": {}
     },
     "e4d0a6e31fd24372992f25d503ed614f": {
      "model_module": "@jupyter-widgets/base",
      "model_module_version": "1.2.0",
      "model_name": "LayoutModel",
      "state": {}
     },
     "e5217883f29f43e7ae404669e8b4c653": {
      "model_module": "@jupyter-widgets/controls",
      "model_module_version": "1.5.0",
      "model_name": "DescriptionStyleModel",
      "state": {
       "description_width": ""
      }
     },
     "ecce67c8b0e543e48fa22024b531523e": {
      "model_module": "@jupyter-widgets/controls",
      "model_module_version": "1.5.0",
      "model_name": "VBoxModel",
      "state": {
       "children": [
        "IPY_MODEL_82976370528548e7af41c2ee07716cf3",
        "IPY_MODEL_27fff16c46fc4095b08ccbf967f77672"
       ],
       "layout": "IPY_MODEL_f03739cd36f140229744624b3911c8e9"
      }
     },
     "f03739cd36f140229744624b3911c8e9": {
      "model_module": "@jupyter-widgets/base",
      "model_module_version": "1.2.0",
      "model_name": "LayoutModel",
      "state": {}
     },
     "f837c763c2dd4d7f8a9c1611be6fa3dd": {
      "model_module": "@jupyter-widgets/controls",
      "model_module_version": "1.5.0",
      "model_name": "DescriptionStyleModel",
      "state": {
       "description_width": ""
      }
     },
     "f8ebbfaf17d3405d981653632c10d397": {
      "model_module": "@jupyter-widgets/base",
      "model_module_version": "1.2.0",
      "model_name": "LayoutModel",
      "state": {}
     }
    },
    "version_major": 2,
    "version_minor": 0
   }
  }
 },
 "nbformat": 4,
 "nbformat_minor": 4
}
