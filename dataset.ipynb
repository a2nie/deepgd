{
 "cells": [
  {
   "cell_type": "code",
   "execution_count": 1,
   "metadata": {},
   "outputs": [],
   "source": [
    "%load_ext autoreload\n",
    "%autoreload 2"
   ]
  },
  {
   "cell_type": "code",
   "execution_count": 35,
   "metadata": {},
   "outputs": [],
   "source": [
    "from lib.imports import *\n",
    "from lib.utils import *\n",
    "from lib.functions import *"
   ]
  },
  {
   "cell_type": "code",
   "execution_count": 3,
   "metadata": {},
   "outputs": [],
   "source": [
    "class EdgePredictor(nn.Module):\n",
    "    def __init__(self, num_blocks=3):\n",
    "        super().__init__()\n",
    "        \n",
    "        self.in_blocks = nn.ModuleList([\n",
    "            GNNBlockForEdgePrediction(feat_dims=[2, 8], bn=True, dp=0.2, n_edge_attr=2)\n",
    "        ])\n",
    "        self.hid_blocks = nn.ModuleList([\n",
    "            GNNBlockForEdgePrediction(feat_dims=[8, 16, 16, 8], \n",
    "                     efeat_hid_dims=[16],\n",
    "                     bn=True, \n",
    "                     act=True,\n",
    "                     dp=0.2, \n",
    "                     n_edge_attr=2,\n",
    "                     residual=True)\n",
    "            for _ in range(num_blocks)\n",
    "        ])\n",
    "        self.out_blocks = nn.ModuleList([\n",
    "            GNNBlockForEdgePrediction(feat_dims=[8, 8], act=False, n_edge_attr=2)\n",
    "        ])\n",
    "\n",
    "    def forward(self, data):\n",
    "        x = data.pos\n",
    "        e = data.edge_index\n",
    "        for block in chain(self.in_blocks, \n",
    "                           self.hid_blocks, \n",
    "                           self.out_blocks):\n",
    "            x = block(x, data)\n",
    "        logits = (x[e[0]] * x[e[1]]).sum(dim=1).sigmoid()\n",
    "        return logits"
   ]
  },
  {
   "cell_type": "code",
   "execution_count": 21,
   "metadata": {},
   "outputs": [],
   "source": [
    "def rescale_with_normalized_density(pos):\n",
    "    pos = (pos.sub(pos.mean(dim=0))\n",
    "              .div(pos.std(dim=0).mean())\n",
    "              .mul(np.sqrt(pos.size()[0])))\n",
    "    return pos"
   ]
  },
  {
   "cell_type": "code",
   "execution_count": 17,
   "metadata": {},
   "outputs": [],
   "source": [
    "def generate_data(G):\n",
    "    i, j = np.meshgrid(*([np.arange(G.number_of_nodes())] * 2))\n",
    "    pos = np.array(list(nx.nx_agraph.graphviz_layout(G, prog='neato').values()))\n",
    "    node_pos = rescale_with_normalized_density(torch.tensor(pos, dtype=torch.float32).to('cuda:3'))\n",
    "    edge_feat = torch.tensor(pos[j] - pos[i], dtype=torch.float32).to('cuda:3')\n",
    "    edge_label = torch.tensor(nx.to_numpy_matrix(G), dtype=torch.float32).to('cuda:3')\n",
    "    return nx_to_tg(G=G, \n",
    "                    pos=node_pos,\n",
    "                    edge_feat=edge_feat,\n",
    "                    edge_label=edge_label)"
   ]
  },
  {
   "cell_type": "code",
   "execution_count": null,
   "metadata": {
    "collapsed": true,
    "jupyter": {
     "outputs_hidden": true,
     "source_hidden": true
    }
   },
   "outputs": [
    {
     "data": {
      "application/vnd.jupyter.widget-view+json": {
       "model_id": "1921a292f2134f5dbfb70897edc96f00",
       "version_major": 2,
       "version_minor": 0
      },
      "text/plain": [
       "HBox(children=(FloatProgress(value=0.0, max=11534.0), HTML(value='')))"
      ]
     },
     "metadata": {},
     "output_type": "display_data"
    },
    {
     "name": "stdout",
     "output_type": "stream",
     "text": [
      "\n"
     ]
    },
    {
     "data": {
      "application/vnd.jupyter.widget-view+json": {
       "model_id": "9580717a81024c79b2cebda4080f0c34",
       "version_major": 2,
       "version_minor": 0
      },
      "text/plain": [
       "HBox(children=(FloatProgress(value=0.0, max=11534.0), HTML(value='')))"
      ]
     },
     "metadata": {},
     "output_type": "display_data"
    }
   ],
   "source": [
    "datafiles = glob.glob(\"data/rome/*.graphml\") \n",
    "G_list = [nx.read_graphml(datafile) for datafile in tqdm(datafiles)] \n",
    "data_list = [generate_data(G) for G in tqdm(G_list)]\n",
    "torch.save(data_list, open('data_list_datagen.pickle', 'wb'))\n",
    "torch.save(G_list, open('G_list_datagen.pickle', 'wb'))"
   ]
  },
  {
   "cell_type": "code",
   "execution_count": 119,
   "metadata": {},
   "outputs": [],
   "source": [
    "data_list = torch.load(open('data_list_datagen.pickle', 'rb'))\n",
    "G_list = torch.load(open('G_list_datagen.pickle', 'rb'))"
   ]
  },
  {
   "cell_type": "code",
   "execution_count": 4,
   "metadata": {},
   "outputs": [],
   "source": [
    "loader = DataLoader(data_list, batch_size=128, shuffle=True)"
   ]
  },
  {
   "cell_type": "code",
   "execution_count": 5,
   "metadata": {},
   "outputs": [
    {
     "data": {
      "text/plain": [
       "<All keys matched successfully>"
      ]
     },
     "execution_count": 5,
     "metadata": {},
     "output_type": "execute_result"
    }
   ],
   "source": [
    "state_dict = torch.load(open(\"edge_pred.pt\", \"rb\"), map_location=torch.device('cuda:3'))\n",
    "model = EdgePredictor().to('cuda:3')\n",
    "model.load_state_dict(state_dict)"
   ]
  },
  {
   "cell_type": "code",
   "execution_count": 5,
   "metadata": {},
   "outputs": [],
   "source": [
    "model = EdgePredictor().to('cuda:3')"
   ]
  },
  {
   "cell_type": "code",
   "execution_count": 16,
   "metadata": {},
   "outputs": [],
   "source": [
    "optimizer = torch.optim.AdamW(model.parameters(), lr=0.01)\n",
    "scheduler = torch.optim.lr_scheduler.ExponentialLR(optimizer, gamma=0.95)"
   ]
  },
  {
   "cell_type": "code",
   "execution_count": 26,
   "metadata": {},
   "outputs": [],
   "source": [
    "real_epoch = 0"
   ]
  },
  {
   "cell_type": "code",
   "execution_count": null,
   "metadata": {
    "scrolled": true
   },
   "outputs": [
    {
     "data": {
      "application/vnd.jupyter.widget-view+json": {
       "model_id": "d55b87740ff240ba9f55f71edbbc76a4",
       "version_major": 2,
       "version_minor": 0
      },
      "text/plain": [
       "HBox(children=(FloatProgress(value=0.0, max=91.0), HTML(value='')))"
      ]
     },
     "metadata": {},
     "output_type": "display_data"
    },
    {
     "name": "stdout",
     "output_type": "stream",
     "text": [
      "loss: 0.1831, accuracy: 0.68, precision: 0.75, recall: 0.09, f1: 0.16\n",
      "loss: 0.1830, accuracy: 0.69, precision: 0.74, recall: 0.09, f1: 0.16\n",
      "loss: 0.1817, accuracy: 0.69, precision: 0.73, recall: 0.10, f1: 0.17\n",
      "loss: 0.1815, accuracy: 0.69, precision: 0.75, recall: 0.09, f1: 0.16\n",
      "loss: 0.1810, accuracy: 0.69, precision: 0.75, recall: 0.09, f1: 0.16\n",
      "loss: 0.1829, accuracy: 0.69, precision: 0.73, recall: 0.09, f1: 0.16\n",
      "loss: 0.1825, accuracy: 0.69, precision: 0.74, recall: 0.09, f1: 0.17\n",
      "loss: 0.1824, accuracy: 0.68, precision: 0.74, recall: 0.09, f1: 0.16\n",
      "loss: 0.1821, accuracy: 0.69, precision: 0.74, recall: 0.10, f1: 0.17\n",
      "loss: 0.1833, accuracy: 0.69, precision: 0.73, recall: 0.09, f1: 0.16\n",
      "\n"
     ]
    },
    {
     "data": {
      "application/vnd.jupyter.widget-view+json": {
       "model_id": "6a7fbae3476b4317bffc98c16e0dde7e",
       "version_major": 2,
       "version_minor": 0
      },
      "text/plain": [
       "HBox(children=(FloatProgress(value=0.0, max=91.0), HTML(value='')))"
      ]
     },
     "metadata": {},
     "output_type": "display_data"
    },
    {
     "name": "stdout",
     "output_type": "stream",
     "text": [
      "loss: 0.1827, accuracy: 0.68, precision: 0.75, recall: 0.09, f1: 0.16\n",
      "loss: 0.1825, accuracy: 0.69, precision: 0.75, recall: 0.09, f1: 0.16\n",
      "loss: 0.1826, accuracy: 0.69, precision: 0.73, recall: 0.09, f1: 0.16\n",
      "loss: 0.1824, accuracy: 0.69, precision: 0.74, recall: 0.09, f1: 0.17\n",
      "loss: 0.1825, accuracy: 0.69, precision: 0.74, recall: 0.09, f1: 0.16\n",
      "loss: 0.1815, accuracy: 0.69, precision: 0.73, recall: 0.09, f1: 0.16\n",
      "loss: 0.1821, accuracy: 0.69, precision: 0.74, recall: 0.09, f1: 0.17\n",
      "loss: 0.1826, accuracy: 0.69, precision: 0.74, recall: 0.09, f1: 0.16\n",
      "loss: 0.1820, accuracy: 0.69, precision: 0.74, recall: 0.09, f1: 0.16\n",
      "loss: 0.1836, accuracy: 0.69, precision: 0.73, recall: 0.11, f1: 0.20\n",
      "\n"
     ]
    },
    {
     "data": {
      "application/vnd.jupyter.widget-view+json": {
       "model_id": "f51b35adc86f415b9c45e98ff1061678",
       "version_major": 2,
       "version_minor": 0
      },
      "text/plain": [
       "HBox(children=(FloatProgress(value=0.0, max=91.0), HTML(value='')))"
      ]
     },
     "metadata": {},
     "output_type": "display_data"
    },
    {
     "name": "stdout",
     "output_type": "stream",
     "text": [
      "loss: 0.1829, accuracy: 0.69, precision: 0.74, recall: 0.09, f1: 0.16\n",
      "loss: 0.1835, accuracy: 0.69, precision: 0.73, recall: 0.09, f1: 0.16\n",
      "loss: 0.1821, accuracy: 0.69, precision: 0.74, recall: 0.10, f1: 0.17\n",
      "loss: 0.1820, accuracy: 0.69, precision: 0.74, recall: 0.10, f1: 0.18\n",
      "loss: 0.1833, accuracy: 0.68, precision: 0.74, recall: 0.09, f1: 0.17\n",
      "loss: 0.1829, accuracy: 0.69, precision: 0.74, recall: 0.09, f1: 0.17\n",
      "loss: 0.1819, accuracy: 0.69, precision: 0.73, recall: 0.10, f1: 0.17\n",
      "loss: 0.1828, accuracy: 0.69, precision: 0.74, recall: 0.10, f1: 0.17\n",
      "loss: 0.1833, accuracy: 0.69, precision: 0.74, recall: 0.09, f1: 0.16\n",
      "loss: 0.1829, accuracy: 0.68, precision: 0.75, recall: 0.08, f1: 0.15\n",
      "\n"
     ]
    },
    {
     "data": {
      "application/vnd.jupyter.widget-view+json": {
       "model_id": "31dbfae301ec4708824a09f7700f7616",
       "version_major": 2,
       "version_minor": 0
      },
      "text/plain": [
       "HBox(children=(FloatProgress(value=0.0, max=91.0), HTML(value='')))"
      ]
     },
     "metadata": {},
     "output_type": "display_data"
    },
    {
     "name": "stdout",
     "output_type": "stream",
     "text": [
      "loss: 0.1827, accuracy: 0.69, precision: 0.73, recall: 0.09, f1: 0.16\n",
      "loss: 0.1816, accuracy: 0.69, precision: 0.74, recall: 0.09, f1: 0.17\n",
      "loss: 0.1815, accuracy: 0.69, precision: 0.75, recall: 0.09, f1: 0.17\n",
      "loss: 0.1823, accuracy: 0.69, precision: 0.74, recall: 0.09, f1: 0.17\n",
      "loss: 0.1822, accuracy: 0.69, precision: 0.73, recall: 0.09, f1: 0.17\n",
      "loss: 0.1818, accuracy: 0.69, precision: 0.74, recall: 0.09, f1: 0.16\n",
      "loss: 0.1821, accuracy: 0.69, precision: 0.73, recall: 0.10, f1: 0.17\n",
      "loss: 0.1818, accuracy: 0.69, precision: 0.74, recall: 0.10, f1: 0.17\n",
      "loss: 0.1833, accuracy: 0.69, precision: 0.73, recall: 0.10, f1: 0.17\n",
      "loss: 0.1827, accuracy: 0.68, precision: 0.73, recall: 0.08, f1: 0.15\n",
      "\n"
     ]
    },
    {
     "data": {
      "application/vnd.jupyter.widget-view+json": {
       "model_id": "d8bf7da9bdfe401795deb085d8aa762e",
       "version_major": 2,
       "version_minor": 0
      },
      "text/plain": [
       "HBox(children=(FloatProgress(value=0.0, max=91.0), HTML(value='')))"
      ]
     },
     "metadata": {},
     "output_type": "display_data"
    },
    {
     "name": "stdout",
     "output_type": "stream",
     "text": [
      "loss: 0.1835, accuracy: 0.69, precision: 0.74, recall: 0.09, f1: 0.16\n",
      "loss: 0.1817, accuracy: 0.69, precision: 0.74, recall: 0.09, f1: 0.17\n",
      "loss: 0.1818, accuracy: 0.69, precision: 0.74, recall: 0.09, f1: 0.17\n",
      "loss: 0.1828, accuracy: 0.69, precision: 0.74, recall: 0.09, f1: 0.16\n",
      "loss: 0.1820, accuracy: 0.69, precision: 0.74, recall: 0.09, f1: 0.16\n",
      "loss: 0.1820, accuracy: 0.69, precision: 0.75, recall: 0.09, f1: 0.16\n",
      "loss: 0.1823, accuracy: 0.69, precision: 0.74, recall: 0.09, f1: 0.17\n",
      "loss: 0.1821, accuracy: 0.69, precision: 0.74, recall: 0.10, f1: 0.17\n",
      "loss: 0.1819, accuracy: 0.69, precision: 0.74, recall: 0.09, f1: 0.16\n",
      "loss: 0.1810, accuracy: 0.70, precision: 0.74, recall: 0.09, f1: 0.16\n",
      "\n"
     ]
    },
    {
     "data": {
      "application/vnd.jupyter.widget-view+json": {
       "model_id": "8ebbaa2878934b8c85476062257468a0",
       "version_major": 2,
       "version_minor": 0
      },
      "text/plain": [
       "HBox(children=(FloatProgress(value=0.0, max=91.0), HTML(value='')))"
      ]
     },
     "metadata": {},
     "output_type": "display_data"
    },
    {
     "name": "stdout",
     "output_type": "stream",
     "text": [
      "loss: 0.1815, accuracy: 0.69, precision: 0.75, recall: 0.10, f1: 0.17\n",
      "loss: 0.1828, accuracy: 0.69, precision: 0.74, recall: 0.10, f1: 0.17\n",
      "loss: 0.1833, accuracy: 0.69, precision: 0.74, recall: 0.09, f1: 0.16\n",
      "loss: 0.1828, accuracy: 0.69, precision: 0.74, recall: 0.10, f1: 0.17\n",
      "loss: 0.1803, accuracy: 0.69, precision: 0.75, recall: 0.09, f1: 0.16\n",
      "loss: 0.1826, accuracy: 0.69, precision: 0.74, recall: 0.09, f1: 0.16\n",
      "loss: 0.1805, accuracy: 0.69, precision: 0.75, recall: 0.09, f1: 0.16\n",
      "loss: 0.1829, accuracy: 0.69, precision: 0.75, recall: 0.09, f1: 0.17\n",
      "loss: 0.1827, accuracy: 0.69, precision: 0.74, recall: 0.09, f1: 0.17\n",
      "loss: 0.1859, accuracy: 0.68, precision: 0.75, recall: 0.10, f1: 0.17\n",
      "\n"
     ]
    },
    {
     "data": {
      "application/vnd.jupyter.widget-view+json": {
       "model_id": "2212afe9f2304957bc887d20dc57b1f2",
       "version_major": 2,
       "version_minor": 0
      },
      "text/plain": [
       "HBox(children=(FloatProgress(value=0.0, max=91.0), HTML(value='')))"
      ]
     },
     "metadata": {},
     "output_type": "display_data"
    },
    {
     "name": "stdout",
     "output_type": "stream",
     "text": [
      "loss: 0.1820, accuracy: 0.69, precision: 0.73, recall: 0.09, f1: 0.16\n",
      "loss: 0.1826, accuracy: 0.69, precision: 0.75, recall: 0.09, f1: 0.17\n",
      "loss: 0.1836, accuracy: 0.69, precision: 0.74, recall: 0.09, f1: 0.16\n",
      "loss: 0.1829, accuracy: 0.69, precision: 0.74, recall: 0.10, f1: 0.17\n",
      "loss: 0.1822, accuracy: 0.69, precision: 0.74, recall: 0.09, f1: 0.16\n",
      "loss: 0.1814, accuracy: 0.69, precision: 0.73, recall: 0.09, f1: 0.16\n",
      "loss: 0.1816, accuracy: 0.69, precision: 0.75, recall: 0.10, f1: 0.17\n",
      "loss: 0.1823, accuracy: 0.69, precision: 0.73, recall: 0.09, f1: 0.16\n",
      "loss: 0.1827, accuracy: 0.69, precision: 0.74, recall: 0.09, f1: 0.16\n",
      "loss: 0.1842, accuracy: 0.70, precision: 0.76, recall: 0.11, f1: 0.19\n",
      "\n"
     ]
    },
    {
     "data": {
      "application/vnd.jupyter.widget-view+json": {
       "model_id": "1044f7242f4c4887bbf40d1338e56013",
       "version_major": 2,
       "version_minor": 0
      },
      "text/plain": [
       "HBox(children=(FloatProgress(value=0.0, max=91.0), HTML(value='')))"
      ]
     },
     "metadata": {},
     "output_type": "display_data"
    },
    {
     "name": "stdout",
     "output_type": "stream",
     "text": [
      "loss: 0.1816, accuracy: 0.69, precision: 0.74, recall: 0.09, f1: 0.16\n",
      "loss: 0.1812, accuracy: 0.69, precision: 0.75, recall: 0.09, f1: 0.16\n",
      "loss: 0.1809, accuracy: 0.69, precision: 0.75, recall: 0.10, f1: 0.17\n",
      "loss: 0.1819, accuracy: 0.69, precision: 0.74, recall: 0.09, f1: 0.16\n",
      "loss: 0.1813, accuracy: 0.69, precision: 0.74, recall: 0.10, f1: 0.17\n",
      "loss: 0.1814, accuracy: 0.69, precision: 0.75, recall: 0.09, f1: 0.16\n",
      "loss: 0.1825, accuracy: 0.69, precision: 0.74, recall: 0.09, f1: 0.17\n",
      "loss: 0.1815, accuracy: 0.69, precision: 0.74, recall: 0.09, f1: 0.17\n",
      "loss: 0.1816, accuracy: 0.69, precision: 0.74, recall: 0.09, f1: 0.17\n",
      "loss: 0.1803, accuracy: 0.69, precision: 0.76, recall: 0.08, f1: 0.15\n",
      "\n"
     ]
    },
    {
     "data": {
      "application/vnd.jupyter.widget-view+json": {
       "model_id": "f05d3839abd24123b8ce827201372a37",
       "version_major": 2,
       "version_minor": 0
      },
      "text/plain": [
       "HBox(children=(FloatProgress(value=0.0, max=91.0), HTML(value='')))"
      ]
     },
     "metadata": {},
     "output_type": "display_data"
    },
    {
     "name": "stdout",
     "output_type": "stream",
     "text": [
      "loss: 0.1827, accuracy: 0.69, precision: 0.74, recall: 0.09, f1: 0.16\n",
      "loss: 0.1819, accuracy: 0.69, precision: 0.74, recall: 0.09, f1: 0.16\n",
      "loss: 0.1816, accuracy: 0.69, precision: 0.74, recall: 0.09, f1: 0.17\n",
      "loss: 0.1817, accuracy: 0.69, precision: 0.74, recall: 0.09, f1: 0.16\n",
      "loss: 0.1812, accuracy: 0.69, precision: 0.73, recall: 0.10, f1: 0.17\n",
      "loss: 0.1812, accuracy: 0.69, precision: 0.73, recall: 0.10, f1: 0.17\n",
      "loss: 0.1820, accuracy: 0.69, precision: 0.73, recall: 0.09, f1: 0.16\n",
      "loss: 0.1822, accuracy: 0.69, precision: 0.75, recall: 0.09, f1: 0.17\n",
      "loss: 0.1825, accuracy: 0.69, precision: 0.74, recall: 0.09, f1: 0.16\n",
      "loss: 0.1847, accuracy: 0.69, precision: 0.75, recall: 0.09, f1: 0.16\n",
      "\n"
     ]
    },
    {
     "data": {
      "application/vnd.jupyter.widget-view+json": {
       "model_id": "5575249e92684303a04881adbb8dff5e",
       "version_major": 2,
       "version_minor": 0
      },
      "text/plain": [
       "HBox(children=(FloatProgress(value=0.0, max=91.0), HTML(value='')))"
      ]
     },
     "metadata": {},
     "output_type": "display_data"
    },
    {
     "name": "stdout",
     "output_type": "stream",
     "text": [
      "loss: 0.1822, accuracy: 0.69, precision: 0.74, recall: 0.09, f1: 0.16\n",
      "loss: 0.1825, accuracy: 0.69, precision: 0.75, recall: 0.09, f1: 0.16\n",
      "loss: 0.1819, accuracy: 0.69, precision: 0.75, recall: 0.09, f1: 0.15\n",
      "loss: 0.1819, accuracy: 0.69, precision: 0.75, recall: 0.09, f1: 0.16\n",
      "loss: 0.1826, accuracy: 0.69, precision: 0.75, recall: 0.09, f1: 0.16\n",
      "loss: 0.1824, accuracy: 0.69, precision: 0.74, recall: 0.09, f1: 0.16\n",
      "loss: 0.1818, accuracy: 0.69, precision: 0.75, recall: 0.09, f1: 0.16\n",
      "loss: 0.1812, accuracy: 0.69, precision: 0.74, recall: 0.09, f1: 0.16\n",
      "loss: 0.1814, accuracy: 0.69, precision: 0.74, recall: 0.10, f1: 0.17\n",
      "loss: 0.1799, accuracy: 0.69, precision: 0.75, recall: 0.11, f1: 0.19\n",
      "\n"
     ]
    },
    {
     "data": {
      "application/vnd.jupyter.widget-view+json": {
       "model_id": "3fb0246197e44bf6bc04b603d7217f58",
       "version_major": 2,
       "version_minor": 0
      },
      "text/plain": [
       "HBox(children=(FloatProgress(value=0.0, max=91.0), HTML(value='')))"
      ]
     },
     "metadata": {},
     "output_type": "display_data"
    },
    {
     "name": "stdout",
     "output_type": "stream",
     "text": [
      "loss: 0.1820, accuracy: 0.69, precision: 0.74, recall: 0.09, f1: 0.16\n",
      "loss: 0.1827, accuracy: 0.69, precision: 0.75, recall: 0.09, f1: 0.16\n",
      "loss: 0.1815, accuracy: 0.69, precision: 0.74, recall: 0.09, f1: 0.16\n",
      "loss: 0.1823, accuracy: 0.69, precision: 0.75, recall: 0.09, f1: 0.17\n",
      "loss: 0.1825, accuracy: 0.69, precision: 0.74, recall: 0.09, f1: 0.16\n",
      "loss: 0.1813, accuracy: 0.69, precision: 0.74, recall: 0.09, f1: 0.16\n",
      "loss: 0.1828, accuracy: 0.69, precision: 0.74, recall: 0.09, f1: 0.17\n",
      "loss: 0.1822, accuracy: 0.69, precision: 0.74, recall: 0.09, f1: 0.16\n",
      "loss: 0.1826, accuracy: 0.68, precision: 0.74, recall: 0.09, f1: 0.17\n",
      "loss: 0.1821, accuracy: 0.68, precision: 0.76, recall: 0.12, f1: 0.20\n",
      "\n"
     ]
    },
    {
     "data": {
      "application/vnd.jupyter.widget-view+json": {
       "model_id": "566691898b5b4d69a32222f94232e357",
       "version_major": 2,
       "version_minor": 0
      },
      "text/plain": [
       "HBox(children=(FloatProgress(value=0.0, max=91.0), HTML(value='')))"
      ]
     },
     "metadata": {},
     "output_type": "display_data"
    },
    {
     "name": "stdout",
     "output_type": "stream",
     "text": [
      "loss: 0.1818, accuracy: 0.69, precision: 0.74, recall: 0.09, f1: 0.16\n",
      "loss: 0.1820, accuracy: 0.69, precision: 0.74, recall: 0.09, f1: 0.16\n",
      "loss: 0.1821, accuracy: 0.69, precision: 0.74, recall: 0.09, f1: 0.16\n",
      "loss: 0.1822, accuracy: 0.69, precision: 0.74, recall: 0.09, f1: 0.17\n",
      "loss: 0.1820, accuracy: 0.69, precision: 0.74, recall: 0.09, f1: 0.16\n",
      "loss: 0.1825, accuracy: 0.69, precision: 0.75, recall: 0.09, f1: 0.17\n",
      "loss: 0.1820, accuracy: 0.69, precision: 0.73, recall: 0.09, f1: 0.17\n",
      "loss: 0.1826, accuracy: 0.69, precision: 0.74, recall: 0.10, f1: 0.18\n",
      "loss: 0.1820, accuracy: 0.69, precision: 0.73, recall: 0.09, f1: 0.16\n",
      "loss: 0.1811, accuracy: 0.68, precision: 0.73, recall: 0.08, f1: 0.14\n",
      "\n"
     ]
    },
    {
     "data": {
      "application/vnd.jupyter.widget-view+json": {
       "model_id": "82b607948e6743a891b2218379525893",
       "version_major": 2,
       "version_minor": 0
      },
      "text/plain": [
       "HBox(children=(FloatProgress(value=0.0, max=91.0), HTML(value='')))"
      ]
     },
     "metadata": {},
     "output_type": "display_data"
    },
    {
     "name": "stdout",
     "output_type": "stream",
     "text": [
      "loss: 0.1823, accuracy: 0.69, precision: 0.74, recall: 0.09, f1: 0.16\n",
      "loss: 0.1837, accuracy: 0.69, precision: 0.74, recall: 0.09, f1: 0.17\n",
      "loss: 0.1816, accuracy: 0.69, precision: 0.74, recall: 0.09, f1: 0.16\n",
      "loss: 0.1815, accuracy: 0.69, precision: 0.76, recall: 0.09, f1: 0.17\n",
      "loss: 0.1827, accuracy: 0.69, precision: 0.74, recall: 0.10, f1: 0.18\n",
      "loss: 0.1814, accuracy: 0.69, precision: 0.73, recall: 0.09, f1: 0.16\n",
      "loss: 0.1823, accuracy: 0.69, precision: 0.75, recall: 0.09, f1: 0.16\n",
      "loss: 0.1815, accuracy: 0.69, precision: 0.75, recall: 0.10, f1: 0.17\n",
      "loss: 0.1818, accuracy: 0.69, precision: 0.74, recall: 0.09, f1: 0.17\n",
      "loss: 0.1811, accuracy: 0.69, precision: 0.75, recall: 0.09, f1: 0.15\n",
      "\n"
     ]
    },
    {
     "data": {
      "application/vnd.jupyter.widget-view+json": {
       "model_id": "eca7ee282b914051a9bdc349fe88e009",
       "version_major": 2,
       "version_minor": 0
      },
      "text/plain": [
       "HBox(children=(FloatProgress(value=0.0, max=91.0), HTML(value='')))"
      ]
     },
     "metadata": {},
     "output_type": "display_data"
    },
    {
     "name": "stdout",
     "output_type": "stream",
     "text": [
      "loss: 0.1819, accuracy: 0.69, precision: 0.74, recall: 0.09, f1: 0.17\n",
      "loss: 0.1818, accuracy: 0.69, precision: 0.74, recall: 0.09, f1: 0.16\n",
      "loss: 0.1823, accuracy: 0.69, precision: 0.74, recall: 0.10, f1: 0.17\n",
      "loss: 0.1822, accuracy: 0.69, precision: 0.75, recall: 0.09, f1: 0.16\n",
      "loss: 0.1809, accuracy: 0.69, precision: 0.74, recall: 0.10, f1: 0.17\n",
      "loss: 0.1813, accuracy: 0.69, precision: 0.74, recall: 0.10, f1: 0.17\n",
      "loss: 0.1818, accuracy: 0.69, precision: 0.74, recall: 0.09, f1: 0.16\n",
      "loss: 0.1806, accuracy: 0.69, precision: 0.74, recall: 0.10, f1: 0.17\n",
      "loss: 0.1810, accuracy: 0.69, precision: 0.75, recall: 0.09, f1: 0.16\n",
      "loss: 0.1826, accuracy: 0.69, precision: 0.74, recall: 0.09, f1: 0.16\n",
      "\n"
     ]
    },
    {
     "data": {
      "application/vnd.jupyter.widget-view+json": {
       "model_id": "b6a408c0badc48e297152058c8167c52",
       "version_major": 2,
       "version_minor": 0
      },
      "text/plain": [
       "HBox(children=(FloatProgress(value=0.0, max=91.0), HTML(value='')))"
      ]
     },
     "metadata": {},
     "output_type": "display_data"
    },
    {
     "name": "stdout",
     "output_type": "stream",
     "text": [
      "loss: 0.1816, accuracy: 0.69, precision: 0.75, recall: 0.09, f1: 0.15\n",
      "loss: 0.1820, accuracy: 0.69, precision: 0.74, recall: 0.10, f1: 0.17\n",
      "loss: 0.1822, accuracy: 0.69, precision: 0.74, recall: 0.09, f1: 0.16\n",
      "loss: 0.1825, accuracy: 0.69, precision: 0.74, recall: 0.09, f1: 0.16\n",
      "loss: 0.1811, accuracy: 0.69, precision: 0.75, recall: 0.09, f1: 0.16\n",
      "loss: 0.1822, accuracy: 0.69, precision: 0.75, recall: 0.09, f1: 0.16\n",
      "loss: 0.1825, accuracy: 0.69, precision: 0.74, recall: 0.09, f1: 0.16\n",
      "loss: 0.1815, accuracy: 0.69, precision: 0.74, recall: 0.10, f1: 0.17\n",
      "loss: 0.1816, accuracy: 0.69, precision: 0.74, recall: 0.09, f1: 0.16\n",
      "loss: 0.1807, accuracy: 0.69, precision: 0.74, recall: 0.09, f1: 0.15\n",
      "\n"
     ]
    },
    {
     "data": {
      "application/vnd.jupyter.widget-view+json": {
       "model_id": "2320f0308c024279a10ad0425ade222d",
       "version_major": 2,
       "version_minor": 0
      },
      "text/plain": [
       "HBox(children=(FloatProgress(value=0.0, max=91.0), HTML(value='')))"
      ]
     },
     "metadata": {},
     "output_type": "display_data"
    },
    {
     "name": "stdout",
     "output_type": "stream",
     "text": [
      "loss: 0.1820, accuracy: 0.69, precision: 0.75, recall: 0.09, f1: 0.17\n",
      "loss: 0.1813, accuracy: 0.69, precision: 0.74, recall: 0.09, f1: 0.17\n",
      "loss: 0.1823, accuracy: 0.69, precision: 0.74, recall: 0.09, f1: 0.17\n",
      "loss: 0.1821, accuracy: 0.69, precision: 0.75, recall: 0.09, f1: 0.17\n",
      "loss: 0.1823, accuracy: 0.69, precision: 0.75, recall: 0.09, f1: 0.16\n",
      "loss: 0.1815, accuracy: 0.69, precision: 0.75, recall: 0.09, f1: 0.17\n",
      "loss: 0.1825, accuracy: 0.69, precision: 0.75, recall: 0.09, f1: 0.16\n",
      "loss: 0.1822, accuracy: 0.69, precision: 0.75, recall: 0.09, f1: 0.16\n",
      "loss: 0.1825, accuracy: 0.69, precision: 0.71, recall: 0.09, f1: 0.16\n",
      "\n"
     ]
    },
    {
     "data": {
      "application/vnd.jupyter.widget-view+json": {
       "model_id": "05f4d5f94feb41bd9430048882ba0cc8",
       "version_major": 2,
       "version_minor": 0
      },
      "text/plain": [
       "HBox(children=(FloatProgress(value=0.0, max=91.0), HTML(value='')))"
      ]
     },
     "metadata": {},
     "output_type": "display_data"
    },
    {
     "name": "stdout",
     "output_type": "stream",
     "text": [
      "loss: 0.1818, accuracy: 0.69, precision: 0.74, recall: 0.09, f1: 0.16\n",
      "loss: 0.1821, accuracy: 0.69, precision: 0.74, recall: 0.10, f1: 0.17\n",
      "loss: 0.1818, accuracy: 0.69, precision: 0.74, recall: 0.09, f1: 0.17\n",
      "loss: 0.1823, accuracy: 0.69, precision: 0.74, recall: 0.09, f1: 0.16\n",
      "loss: 0.1827, accuracy: 0.69, precision: 0.74, recall: 0.10, f1: 0.17\n",
      "loss: 0.1820, accuracy: 0.69, precision: 0.74, recall: 0.09, f1: 0.16\n",
      "loss: 0.1828, accuracy: 0.69, precision: 0.75, recall: 0.09, f1: 0.16\n",
      "loss: 0.1823, accuracy: 0.69, precision: 0.75, recall: 0.09, f1: 0.17\n",
      "loss: 0.1824, accuracy: 0.69, precision: 0.75, recall: 0.09, f1: 0.16\n",
      "loss: 0.1840, accuracy: 0.69, precision: 0.74, recall: 0.07, f1: 0.13\n",
      "\n"
     ]
    },
    {
     "data": {
      "application/vnd.jupyter.widget-view+json": {
       "model_id": "edd7c2a1fa5f4ba8bfb913536a9014ec",
       "version_major": 2,
       "version_minor": 0
      },
      "text/plain": [
       "HBox(children=(FloatProgress(value=0.0, max=91.0), HTML(value='')))"
      ]
     },
     "metadata": {},
     "output_type": "display_data"
    },
    {
     "name": "stdout",
     "output_type": "stream",
     "text": [
      "loss: 0.1821, accuracy: 0.69, precision: 0.74, recall: 0.09, f1: 0.16\n",
      "loss: 0.1811, accuracy: 0.69, precision: 0.74, recall: 0.10, f1: 0.17\n",
      "loss: 0.1822, accuracy: 0.69, precision: 0.75, recall: 0.10, f1: 0.17\n",
      "loss: 0.1826, accuracy: 0.69, precision: 0.75, recall: 0.09, f1: 0.16\n",
      "loss: 0.1825, accuracy: 0.69, precision: 0.75, recall: 0.09, f1: 0.16\n",
      "loss: 0.1817, accuracy: 0.69, precision: 0.75, recall: 0.09, f1: 0.16\n",
      "loss: 0.1816, accuracy: 0.69, precision: 0.75, recall: 0.09, f1: 0.16\n",
      "loss: 0.1820, accuracy: 0.69, precision: 0.74, recall: 0.10, f1: 0.17\n",
      "loss: 0.1815, accuracy: 0.69, precision: 0.74, recall: 0.09, f1: 0.17\n",
      "loss: 0.1824, accuracy: 0.69, precision: 0.74, recall: 0.10, f1: 0.17\n",
      "\n"
     ]
    },
    {
     "data": {
      "application/vnd.jupyter.widget-view+json": {
       "model_id": "40fa50ea6864451d9694b8c83020bf3b",
       "version_major": 2,
       "version_minor": 0
      },
      "text/plain": [
       "HBox(children=(FloatProgress(value=0.0, max=91.0), HTML(value='')))"
      ]
     },
     "metadata": {},
     "output_type": "display_data"
    },
    {
     "name": "stdout",
     "output_type": "stream",
     "text": [
      "loss: 0.1817, accuracy: 0.69, precision: 0.75, recall: 0.10, f1: 0.17\n",
      "loss: 0.1817, accuracy: 0.69, precision: 0.75, recall: 0.09, f1: 0.16\n",
      "loss: 0.1817, accuracy: 0.69, precision: 0.75, recall: 0.09, f1: 0.16\n",
      "loss: 0.1826, accuracy: 0.69, precision: 0.75, recall: 0.09, f1: 0.17\n",
      "loss: 0.1819, accuracy: 0.69, precision: 0.74, recall: 0.09, f1: 0.15\n",
      "loss: 0.1818, accuracy: 0.69, precision: 0.75, recall: 0.09, f1: 0.16\n",
      "loss: 0.1827, accuracy: 0.69, precision: 0.74, recall: 0.09, f1: 0.17\n",
      "loss: 0.1831, accuracy: 0.69, precision: 0.74, recall: 0.09, f1: 0.16\n",
      "loss: 0.1823, accuracy: 0.69, precision: 0.74, recall: 0.09, f1: 0.16\n",
      "loss: 0.1804, accuracy: 0.69, precision: 0.74, recall: 0.10, f1: 0.17\n",
      "\n"
     ]
    },
    {
     "data": {
      "application/vnd.jupyter.widget-view+json": {
       "model_id": "4a34f6a79e5d4f62807cad86eb0af644",
       "version_major": 2,
       "version_minor": 0
      },
      "text/plain": [
       "HBox(children=(FloatProgress(value=0.0, max=91.0), HTML(value='')))"
      ]
     },
     "metadata": {},
     "output_type": "display_data"
    },
    {
     "name": "stdout",
     "output_type": "stream",
     "text": [
      "loss: 0.1816, accuracy: 0.69, precision: 0.75, recall: 0.09, f1: 0.16\n",
      "loss: 0.1836, accuracy: 0.69, precision: 0.73, recall: 0.09, f1: 0.16\n",
      "loss: 0.1823, accuracy: 0.69, precision: 0.74, recall: 0.09, f1: 0.17\n",
      "loss: 0.1821, accuracy: 0.69, precision: 0.74, recall: 0.10, f1: 0.17\n",
      "loss: 0.1831, accuracy: 0.69, precision: 0.75, recall: 0.09, f1: 0.17\n",
      "loss: 0.1833, accuracy: 0.68, precision: 0.74, recall: 0.09, f1: 0.16\n",
      "loss: 0.1819, accuracy: 0.69, precision: 0.74, recall: 0.09, f1: 0.16\n",
      "loss: 0.1817, accuracy: 0.69, precision: 0.74, recall: 0.09, f1: 0.16\n",
      "loss: 0.1808, accuracy: 0.69, precision: 0.75, recall: 0.09, f1: 0.16\n",
      "loss: 0.1845, accuracy: 0.69, precision: 0.75, recall: 0.10, f1: 0.18\n",
      "\n"
     ]
    },
    {
     "data": {
      "application/vnd.jupyter.widget-view+json": {
       "model_id": "1e55df0730304a40b10408a7f589b5a8",
       "version_major": 2,
       "version_minor": 0
      },
      "text/plain": [
       "HBox(children=(FloatProgress(value=0.0, max=91.0), HTML(value='')))"
      ]
     },
     "metadata": {},
     "output_type": "display_data"
    },
    {
     "name": "stdout",
     "output_type": "stream",
     "text": [
      "loss: 0.1817, accuracy: 0.69, precision: 0.74, recall: 0.09, f1: 0.16\n",
      "loss: 0.1820, accuracy: 0.69, precision: 0.74, recall: 0.09, f1: 0.16\n",
      "loss: 0.1825, accuracy: 0.69, precision: 0.74, recall: 0.09, f1: 0.17\n",
      "loss: 0.1827, accuracy: 0.69, precision: 0.75, recall: 0.10, f1: 0.17\n",
      "loss: 0.1828, accuracy: 0.68, precision: 0.75, recall: 0.09, f1: 0.16\n",
      "loss: 0.1820, accuracy: 0.69, precision: 0.74, recall: 0.09, f1: 0.16\n",
      "loss: 0.1819, accuracy: 0.68, precision: 0.75, recall: 0.10, f1: 0.17\n",
      "loss: 0.1819, accuracy: 0.69, precision: 0.75, recall: 0.10, f1: 0.17\n",
      "loss: 0.1833, accuracy: 0.69, precision: 0.74, recall: 0.09, f1: 0.17\n",
      "loss: 0.1792, accuracy: 0.70, precision: 0.72, recall: 0.13, f1: 0.22\n",
      "\n"
     ]
    },
    {
     "data": {
      "application/vnd.jupyter.widget-view+json": {
       "model_id": "8895b6db225a4f9a91bc1193c3417d8d",
       "version_major": 2,
       "version_minor": 0
      },
      "text/plain": [
       "HBox(children=(FloatProgress(value=0.0, max=91.0), HTML(value='')))"
      ]
     },
     "metadata": {},
     "output_type": "display_data"
    },
    {
     "name": "stdout",
     "output_type": "stream",
     "text": [
      "loss: 0.1824, accuracy: 0.69, precision: 0.74, recall: 0.10, f1: 0.17\n",
      "loss: 0.1831, accuracy: 0.69, precision: 0.75, recall: 0.09, f1: 0.16\n",
      "loss: 0.1807, accuracy: 0.69, precision: 0.74, recall: 0.10, f1: 0.17\n",
      "loss: 0.1832, accuracy: 0.69, precision: 0.75, recall: 0.09, f1: 0.16\n",
      "loss: 0.1826, accuracy: 0.69, precision: 0.74, recall: 0.09, f1: 0.17\n",
      "loss: 0.1821, accuracy: 0.69, precision: 0.74, recall: 0.09, f1: 0.16\n",
      "loss: 0.1821, accuracy: 0.69, precision: 0.73, recall: 0.09, f1: 0.17\n",
      "loss: 0.1807, accuracy: 0.69, precision: 0.74, recall: 0.10, f1: 0.17\n",
      "loss: 0.1823, accuracy: 0.69, precision: 0.74, recall: 0.10, f1: 0.18\n",
      "loss: 0.1797, accuracy: 0.69, precision: 0.76, recall: 0.11, f1: 0.19\n",
      "\n"
     ]
    },
    {
     "data": {
      "application/vnd.jupyter.widget-view+json": {
       "model_id": "27f7ecc820d4499ab9cf51130745d894",
       "version_major": 2,
       "version_minor": 0
      },
      "text/plain": [
       "HBox(children=(FloatProgress(value=0.0, max=91.0), HTML(value='')))"
      ]
     },
     "metadata": {},
     "output_type": "display_data"
    },
    {
     "name": "stdout",
     "output_type": "stream",
     "text": [
      "loss: 0.1822, accuracy: 0.69, precision: 0.74, recall: 0.09, f1: 0.17\n",
      "loss: 0.1827, accuracy: 0.69, precision: 0.75, recall: 0.09, f1: 0.17\n",
      "loss: 0.1811, accuracy: 0.69, precision: 0.75, recall: 0.09, f1: 0.17\n",
      "loss: 0.1804, accuracy: 0.69, precision: 0.75, recall: 0.10, f1: 0.17\n",
      "loss: 0.1825, accuracy: 0.69, precision: 0.75, recall: 0.09, f1: 0.16\n",
      "loss: 0.1811, accuracy: 0.69, precision: 0.76, recall: 0.09, f1: 0.17\n",
      "loss: 0.1819, accuracy: 0.69, precision: 0.74, recall: 0.09, f1: 0.17\n",
      "loss: 0.1831, accuracy: 0.68, precision: 0.75, recall: 0.09, f1: 0.16\n",
      "loss: 0.1862, accuracy: 0.69, precision: 0.74, recall: 0.10, f1: 0.18\n",
      "\n"
     ]
    },
    {
     "data": {
      "application/vnd.jupyter.widget-view+json": {
       "model_id": "76dd3a34107a46408acb1204913da5c8",
       "version_major": 2,
       "version_minor": 0
      },
      "text/plain": [
       "HBox(children=(FloatProgress(value=0.0, max=91.0), HTML(value='')))"
      ]
     },
     "metadata": {},
     "output_type": "display_data"
    },
    {
     "name": "stdout",
     "output_type": "stream",
     "text": [
      "loss: 0.1828, accuracy: 0.69, precision: 0.75, recall: 0.09, f1: 0.16\n",
      "loss: 0.1815, accuracy: 0.69, precision: 0.73, recall: 0.10, f1: 0.17\n",
      "loss: 0.1823, accuracy: 0.69, precision: 0.75, recall: 0.09, f1: 0.16\n",
      "loss: 0.1817, accuracy: 0.69, precision: 0.74, recall: 0.09, f1: 0.17\n",
      "loss: 0.1823, accuracy: 0.68, precision: 0.75, recall: 0.09, f1: 0.17\n",
      "loss: 0.1828, accuracy: 0.69, precision: 0.74, recall: 0.09, f1: 0.16\n",
      "loss: 0.1814, accuracy: 0.69, precision: 0.74, recall: 0.09, f1: 0.17\n",
      "loss: 0.1823, accuracy: 0.69, precision: 0.75, recall: 0.09, f1: 0.16\n",
      "loss: 0.1831, accuracy: 0.69, precision: 0.74, recall: 0.09, f1: 0.16\n",
      "loss: 0.1819, accuracy: 0.69, precision: 0.74, recall: 0.10, f1: 0.18\n",
      "\n"
     ]
    },
    {
     "data": {
      "application/vnd.jupyter.widget-view+json": {
       "model_id": "5c96e2b8fd0c4ba99befc6f3ac63334d",
       "version_major": 2,
       "version_minor": 0
      },
      "text/plain": [
       "HBox(children=(FloatProgress(value=0.0, max=91.0), HTML(value='')))"
      ]
     },
     "metadata": {},
     "output_type": "display_data"
    },
    {
     "name": "stdout",
     "output_type": "stream",
     "text": [
      "loss: 0.1811, accuracy: 0.69, precision: 0.74, recall: 0.09, f1: 0.17\n",
      "loss: 0.1815, accuracy: 0.69, precision: 0.74, recall: 0.09, f1: 0.16\n",
      "loss: 0.1831, accuracy: 0.69, precision: 0.74, recall: 0.09, f1: 0.16\n",
      "loss: 0.1843, accuracy: 0.69, precision: 0.75, recall: 0.10, f1: 0.17\n",
      "loss: 0.1822, accuracy: 0.69, precision: 0.74, recall: 0.09, f1: 0.16\n",
      "loss: 0.1820, accuracy: 0.69, precision: 0.73, recall: 0.09, f1: 0.16\n",
      "loss: 0.1821, accuracy: 0.69, precision: 0.74, recall: 0.09, f1: 0.17\n",
      "loss: 0.1836, accuracy: 0.69, precision: 0.73, recall: 0.10, f1: 0.17\n",
      "loss: 0.1813, accuracy: 0.69, precision: 0.74, recall: 0.09, f1: 0.16\n",
      "loss: 0.1798, accuracy: 0.70, precision: 0.76, recall: 0.11, f1: 0.20\n",
      "\n"
     ]
    },
    {
     "data": {
      "application/vnd.jupyter.widget-view+json": {
       "model_id": "22e20c8df30d4ac9a7e459ae866184bc",
       "version_major": 2,
       "version_minor": 0
      },
      "text/plain": [
       "HBox(children=(FloatProgress(value=0.0, max=91.0), HTML(value='')))"
      ]
     },
     "metadata": {},
     "output_type": "display_data"
    },
    {
     "name": "stdout",
     "output_type": "stream",
     "text": [
      "loss: 0.1840, accuracy: 0.68, precision: 0.73, recall: 0.09, f1: 0.17\n",
      "loss: 0.1818, accuracy: 0.69, precision: 0.74, recall: 0.10, f1: 0.17\n",
      "loss: 0.1830, accuracy: 0.68, precision: 0.74, recall: 0.09, f1: 0.16\n",
      "loss: 0.1833, accuracy: 0.68, precision: 0.74, recall: 0.09, f1: 0.16\n",
      "loss: 0.1812, accuracy: 0.69, precision: 0.75, recall: 0.10, f1: 0.17\n",
      "loss: 0.1816, accuracy: 0.69, precision: 0.75, recall: 0.09, f1: 0.16\n",
      "loss: 0.1825, accuracy: 0.69, precision: 0.74, recall: 0.09, f1: 0.17\n",
      "loss: 0.1824, accuracy: 0.69, precision: 0.74, recall: 0.10, f1: 0.17\n",
      "loss: 0.1825, accuracy: 0.69, precision: 0.74, recall: 0.10, f1: 0.18\n",
      "loss: 0.1808, accuracy: 0.69, precision: 0.73, recall: 0.09, f1: 0.17\n",
      "\n"
     ]
    },
    {
     "data": {
      "application/vnd.jupyter.widget-view+json": {
       "model_id": "743eeb65b57b43e9a06268f6aa9fa27d",
       "version_major": 2,
       "version_minor": 0
      },
      "text/plain": [
       "HBox(children=(FloatProgress(value=0.0, max=91.0), HTML(value='')))"
      ]
     },
     "metadata": {},
     "output_type": "display_data"
    },
    {
     "name": "stdout",
     "output_type": "stream",
     "text": [
      "loss: 0.1827, accuracy: 0.69, precision: 0.75, recall: 0.09, f1: 0.17\n",
      "loss: 0.1815, accuracy: 0.69, precision: 0.74, recall: 0.09, f1: 0.17\n",
      "loss: 0.1826, accuracy: 0.69, precision: 0.73, recall: 0.09, f1: 0.17\n",
      "loss: 0.1814, accuracy: 0.69, precision: 0.74, recall: 0.09, f1: 0.17\n",
      "loss: 0.1817, accuracy: 0.69, precision: 0.74, recall: 0.09, f1: 0.17\n",
      "loss: 0.1827, accuracy: 0.69, precision: 0.74, recall: 0.09, f1: 0.16\n",
      "loss: 0.1806, accuracy: 0.69, precision: 0.75, recall: 0.09, f1: 0.17\n",
      "loss: 0.1819, accuracy: 0.69, precision: 0.74, recall: 0.09, f1: 0.16\n",
      "loss: 0.1821, accuracy: 0.69, precision: 0.73, recall: 0.09, f1: 0.16\n",
      "loss: 0.1807, accuracy: 0.69, precision: 0.74, recall: 0.09, f1: 0.17\n",
      "\n"
     ]
    },
    {
     "data": {
      "application/vnd.jupyter.widget-view+json": {
       "model_id": "19bc465d8957431b91b9da103d3a20d3",
       "version_major": 2,
       "version_minor": 0
      },
      "text/plain": [
       "HBox(children=(FloatProgress(value=0.0, max=91.0), HTML(value='')))"
      ]
     },
     "metadata": {},
     "output_type": "display_data"
    },
    {
     "name": "stdout",
     "output_type": "stream",
     "text": [
      "loss: 0.1823, accuracy: 0.69, precision: 0.74, recall: 0.09, f1: 0.17\n",
      "loss: 0.1829, accuracy: 0.69, precision: 0.74, recall: 0.10, f1: 0.17\n",
      "loss: 0.1814, accuracy: 0.69, precision: 0.74, recall: 0.09, f1: 0.16\n",
      "loss: 0.1826, accuracy: 0.69, precision: 0.74, recall: 0.09, f1: 0.16\n",
      "loss: 0.1818, accuracy: 0.69, precision: 0.74, recall: 0.09, f1: 0.16\n",
      "loss: 0.1825, accuracy: 0.69, precision: 0.74, recall: 0.09, f1: 0.16\n",
      "loss: 0.1818, accuracy: 0.69, precision: 0.74, recall: 0.09, f1: 0.17\n",
      "loss: 0.1820, accuracy: 0.69, precision: 0.74, recall: 0.09, f1: 0.17\n",
      "loss: 0.1813, accuracy: 0.69, precision: 0.73, recall: 0.10, f1: 0.18\n",
      "loss: 0.1801, accuracy: 0.69, precision: 0.76, recall: 0.10, f1: 0.17\n",
      "\n"
     ]
    },
    {
     "data": {
      "application/vnd.jupyter.widget-view+json": {
       "model_id": "5ab73edba12146bc80543eeb7eea9a3e",
       "version_major": 2,
       "version_minor": 0
      },
      "text/plain": [
       "HBox(children=(FloatProgress(value=0.0, max=91.0), HTML(value='')))"
      ]
     },
     "metadata": {},
     "output_type": "display_data"
    },
    {
     "name": "stdout",
     "output_type": "stream",
     "text": [
      "loss: 0.1821, accuracy: 0.69, precision: 0.74, recall: 0.09, f1: 0.16\n",
      "loss: 0.1821, accuracy: 0.69, precision: 0.75, recall: 0.09, f1: 0.16\n",
      "loss: 0.1825, accuracy: 0.69, precision: 0.75, recall: 0.09, f1: 0.17\n",
      "loss: 0.1823, accuracy: 0.69, precision: 0.75, recall: 0.09, f1: 0.15\n",
      "loss: 0.1811, accuracy: 0.69, precision: 0.75, recall: 0.10, f1: 0.17\n",
      "loss: 0.1825, accuracy: 0.69, precision: 0.74, recall: 0.09, f1: 0.16\n",
      "loss: 0.1817, accuracy: 0.69, precision: 0.74, recall: 0.09, f1: 0.16\n",
      "loss: 0.1807, accuracy: 0.69, precision: 0.74, recall: 0.09, f1: 0.17\n",
      "loss: 0.1825, accuracy: 0.69, precision: 0.74, recall: 0.10, f1: 0.17\n",
      "loss: 0.1805, accuracy: 0.69, precision: 0.75, recall: 0.13, f1: 0.22\n",
      "\n"
     ]
    },
    {
     "data": {
      "application/vnd.jupyter.widget-view+json": {
       "model_id": "87f72d7993fe408e979e414ce2313952",
       "version_major": 2,
       "version_minor": 0
      },
      "text/plain": [
       "HBox(children=(FloatProgress(value=0.0, max=91.0), HTML(value='')))"
      ]
     },
     "metadata": {},
     "output_type": "display_data"
    },
    {
     "name": "stdout",
     "output_type": "stream",
     "text": [
      "loss: 0.1819, accuracy: 0.69, precision: 0.74, recall: 0.10, f1: 0.17\n",
      "loss: 0.1836, accuracy: 0.68, precision: 0.74, recall: 0.09, f1: 0.16\n",
      "loss: 0.1808, accuracy: 0.69, precision: 0.74, recall: 0.09, f1: 0.17\n",
      "loss: 0.1815, accuracy: 0.69, precision: 0.74, recall: 0.10, f1: 0.17\n",
      "loss: 0.1821, accuracy: 0.69, precision: 0.74, recall: 0.09, f1: 0.16\n",
      "loss: 0.1825, accuracy: 0.69, precision: 0.74, recall: 0.09, f1: 0.16\n",
      "loss: 0.1820, accuracy: 0.69, precision: 0.75, recall: 0.10, f1: 0.17\n",
      "loss: 0.1826, accuracy: 0.69, precision: 0.75, recall: 0.09, f1: 0.16\n",
      "loss: 0.1810, accuracy: 0.69, precision: 0.75, recall: 0.09, f1: 0.17\n",
      "loss: 0.1840, accuracy: 0.69, precision: 0.73, recall: 0.08, f1: 0.15\n",
      "\n"
     ]
    },
    {
     "data": {
      "application/vnd.jupyter.widget-view+json": {
       "model_id": "6fb096aa9cd845f9aa5fdc764becea60",
       "version_major": 2,
       "version_minor": 0
      },
      "text/plain": [
       "HBox(children=(FloatProgress(value=0.0, max=91.0), HTML(value='')))"
      ]
     },
     "metadata": {},
     "output_type": "display_data"
    },
    {
     "name": "stdout",
     "output_type": "stream",
     "text": [
      "loss: 0.1821, accuracy: 0.69, precision: 0.74, recall: 0.10, f1: 0.18\n",
      "loss: 0.1825, accuracy: 0.69, precision: 0.73, recall: 0.09, f1: 0.16\n",
      "loss: 0.1822, accuracy: 0.69, precision: 0.74, recall: 0.09, f1: 0.16\n",
      "loss: 0.1821, accuracy: 0.69, precision: 0.74, recall: 0.10, f1: 0.17\n",
      "loss: 0.1812, accuracy: 0.69, precision: 0.74, recall: 0.09, f1: 0.16\n",
      "loss: 0.1820, accuracy: 0.69, precision: 0.74, recall: 0.09, f1: 0.16\n",
      "loss: 0.1818, accuracy: 0.69, precision: 0.74, recall: 0.09, f1: 0.17\n",
      "loss: 0.1814, accuracy: 0.69, precision: 0.74, recall: 0.09, f1: 0.17\n",
      "loss: 0.1820, accuracy: 0.69, precision: 0.74, recall: 0.09, f1: 0.16\n",
      "loss: 0.1822, accuracy: 0.69, precision: 0.76, recall: 0.10, f1: 0.18\n",
      "\n"
     ]
    },
    {
     "data": {
      "application/vnd.jupyter.widget-view+json": {
       "model_id": "a4e8445cdcfb4d48a95f6b7c4006ea1e",
       "version_major": 2,
       "version_minor": 0
      },
      "text/plain": [
       "HBox(children=(FloatProgress(value=0.0, max=91.0), HTML(value='')))"
      ]
     },
     "metadata": {},
     "output_type": "display_data"
    },
    {
     "name": "stdout",
     "output_type": "stream",
     "text": [
      "loss: 0.1830, accuracy: 0.69, precision: 0.74, recall: 0.09, f1: 0.16\n",
      "loss: 0.1828, accuracy: 0.69, precision: 0.73, recall: 0.10, f1: 0.17\n",
      "loss: 0.1819, accuracy: 0.69, precision: 0.75, recall: 0.09, f1: 0.16\n",
      "loss: 0.1821, accuracy: 0.69, precision: 0.74, recall: 0.09, f1: 0.17\n",
      "loss: 0.1826, accuracy: 0.69, precision: 0.74, recall: 0.09, f1: 0.16\n",
      "loss: 0.1819, accuracy: 0.69, precision: 0.74, recall: 0.09, f1: 0.16\n",
      "loss: 0.1812, accuracy: 0.69, precision: 0.74, recall: 0.09, f1: 0.17\n",
      "loss: 0.1815, accuracy: 0.69, precision: 0.74, recall: 0.09, f1: 0.16\n",
      "loss: 0.1816, accuracy: 0.69, precision: 0.75, recall: 0.09, f1: 0.16\n",
      "loss: 0.1798, accuracy: 0.69, precision: 0.73, recall: 0.10, f1: 0.17\n",
      "\n"
     ]
    },
    {
     "data": {
      "application/vnd.jupyter.widget-view+json": {
       "model_id": "edbb043da43d446c9b767cb4e35e5cfe",
       "version_major": 2,
       "version_minor": 0
      },
      "text/plain": [
       "HBox(children=(FloatProgress(value=0.0, max=91.0), HTML(value='')))"
      ]
     },
     "metadata": {},
     "output_type": "display_data"
    },
    {
     "name": "stdout",
     "output_type": "stream",
     "text": [
      "loss: 0.1831, accuracy: 0.69, precision: 0.74, recall: 0.09, f1: 0.16\n",
      "loss: 0.1819, accuracy: 0.69, precision: 0.74, recall: 0.10, f1: 0.17\n",
      "loss: 0.1814, accuracy: 0.69, precision: 0.74, recall: 0.10, f1: 0.17\n",
      "loss: 0.1818, accuracy: 0.69, precision: 0.74, recall: 0.09, f1: 0.16\n",
      "loss: 0.1821, accuracy: 0.69, precision: 0.74, recall: 0.10, f1: 0.17\n",
      "loss: 0.1820, accuracy: 0.69, precision: 0.74, recall: 0.09, f1: 0.17\n",
      "loss: 0.1825, accuracy: 0.69, precision: 0.74, recall: 0.09, f1: 0.16\n",
      "loss: 0.1813, accuracy: 0.69, precision: 0.73, recall: 0.09, f1: 0.16\n",
      "loss: 0.1823, accuracy: 0.69, precision: 0.75, recall: 0.09, f1: 0.16\n",
      "loss: 0.1799, accuracy: 0.71, precision: 0.73, recall: 0.12, f1: 0.20\n",
      "\n"
     ]
    },
    {
     "data": {
      "application/vnd.jupyter.widget-view+json": {
       "model_id": "27bc9eb16bf04812800bc5693b4526b9",
       "version_major": 2,
       "version_minor": 0
      },
      "text/plain": [
       "HBox(children=(FloatProgress(value=0.0, max=91.0), HTML(value='')))"
      ]
     },
     "metadata": {},
     "output_type": "display_data"
    },
    {
     "name": "stdout",
     "output_type": "stream",
     "text": [
      "loss: 0.1820, accuracy: 0.68, precision: 0.75, recall: 0.09, f1: 0.16\n",
      "loss: 0.1818, accuracy: 0.69, precision: 0.74, recall: 0.09, f1: 0.16\n",
      "loss: 0.1820, accuracy: 0.69, precision: 0.73, recall: 0.09, f1: 0.16\n",
      "loss: 0.1810, accuracy: 0.69, precision: 0.75, recall: 0.09, f1: 0.16\n",
      "loss: 0.1821, accuracy: 0.69, precision: 0.74, recall: 0.10, f1: 0.17\n",
      "loss: 0.1818, accuracy: 0.69, precision: 0.75, recall: 0.09, f1: 0.17\n",
      "loss: 0.1816, accuracy: 0.69, precision: 0.75, recall: 0.09, f1: 0.17\n",
      "loss: 0.1827, accuracy: 0.69, precision: 0.74, recall: 0.09, f1: 0.16\n",
      "loss: 0.1831, accuracy: 0.69, precision: 0.74, recall: 0.09, f1: 0.16\n",
      "loss: 0.1837, accuracy: 0.69, precision: 0.74, recall: 0.10, f1: 0.17\n",
      "\n"
     ]
    },
    {
     "data": {
      "application/vnd.jupyter.widget-view+json": {
       "model_id": "25a5143d12274fa192f7d81bbe404adc",
       "version_major": 2,
       "version_minor": 0
      },
      "text/plain": [
       "HBox(children=(FloatProgress(value=0.0, max=91.0), HTML(value='')))"
      ]
     },
     "metadata": {},
     "output_type": "display_data"
    },
    {
     "name": "stdout",
     "output_type": "stream",
     "text": [
      "loss: 0.1825, accuracy: 0.69, precision: 0.74, recall: 0.10, f1: 0.17\n",
      "loss: 0.1809, accuracy: 0.69, precision: 0.75, recall: 0.09, f1: 0.17\n",
      "loss: 0.1820, accuracy: 0.69, precision: 0.74, recall: 0.10, f1: 0.17\n",
      "loss: 0.1818, accuracy: 0.69, precision: 0.73, recall: 0.09, f1: 0.16\n",
      "loss: 0.1838, accuracy: 0.69, precision: 0.74, recall: 0.09, f1: 0.16\n",
      "loss: 0.1826, accuracy: 0.69, precision: 0.74, recall: 0.09, f1: 0.16\n",
      "loss: 0.1814, accuracy: 0.69, precision: 0.74, recall: 0.09, f1: 0.17\n",
      "loss: 0.1812, accuracy: 0.69, precision: 0.74, recall: 0.10, f1: 0.17\n",
      "loss: 0.1823, accuracy: 0.69, precision: 0.74, recall: 0.09, f1: 0.17\n",
      "loss: 0.1831, accuracy: 0.69, precision: 0.75, recall: 0.09, f1: 0.16\n",
      "\n"
     ]
    },
    {
     "data": {
      "application/vnd.jupyter.widget-view+json": {
       "model_id": "689fec19ec0843ecbf1dfe5a2d0a5383",
       "version_major": 2,
       "version_minor": 0
      },
      "text/plain": [
       "HBox(children=(FloatProgress(value=0.0, max=91.0), HTML(value='')))"
      ]
     },
     "metadata": {},
     "output_type": "display_data"
    },
    {
     "name": "stdout",
     "output_type": "stream",
     "text": [
      "loss: 0.1814, accuracy: 0.69, precision: 0.74, recall: 0.09, f1: 0.17\n",
      "loss: 0.1818, accuracy: 0.69, precision: 0.75, recall: 0.10, f1: 0.17\n",
      "loss: 0.1822, accuracy: 0.69, precision: 0.74, recall: 0.09, f1: 0.17\n",
      "loss: 0.1815, accuracy: 0.69, precision: 0.75, recall: 0.09, f1: 0.17\n",
      "loss: 0.1811, accuracy: 0.69, precision: 0.75, recall: 0.10, f1: 0.17\n",
      "loss: 0.1826, accuracy: 0.68, precision: 0.74, recall: 0.09, f1: 0.16\n",
      "loss: 0.1819, accuracy: 0.69, precision: 0.75, recall: 0.09, f1: 0.16\n",
      "loss: 0.1826, accuracy: 0.69, precision: 0.74, recall: 0.09, f1: 0.16\n",
      "loss: 0.1820, accuracy: 0.69, precision: 0.74, recall: 0.10, f1: 0.17\n",
      "loss: 0.1824, accuracy: 0.69, precision: 0.74, recall: 0.09, f1: 0.15\n",
      "loss: 0.1817, accuracy: 0.69, precision: 0.75, recall: 0.09, f1: 0.16\n",
      "loss: 0.1824, accuracy: 0.69, precision: 0.74, recall: 0.09, f1: 0.16\n",
      "loss: 0.1841, accuracy: 0.68, precision: 0.74, recall: 0.09, f1: 0.16\n",
      "loss: 0.1823, accuracy: 0.69, precision: 0.74, recall: 0.09, f1: 0.16\n",
      "loss: 0.1825, accuracy: 0.69, precision: 0.74, recall: 0.10, f1: 0.17\n",
      "loss: 0.1798, accuracy: 0.69, precision: 0.73, recall: 0.10, f1: 0.17\n",
      "\n"
     ]
    },
    {
     "data": {
      "application/vnd.jupyter.widget-view+json": {
       "model_id": "3a437b72eac1432aa9ea05c77b2c5ffc",
       "version_major": 2,
       "version_minor": 0
      },
      "text/plain": [
       "HBox(children=(FloatProgress(value=0.0, max=91.0), HTML(value='')))"
      ]
     },
     "metadata": {},
     "output_type": "display_data"
    },
    {
     "name": "stdout",
     "output_type": "stream",
     "text": [
      "loss: 0.1820, accuracy: 0.69, precision: 0.74, recall: 0.09, f1: 0.15\n",
      "loss: 0.1822, accuracy: 0.69, precision: 0.74, recall: 0.09, f1: 0.16\n",
      "loss: 0.1827, accuracy: 0.69, precision: 0.74, recall: 0.10, f1: 0.17\n",
      "loss: 0.1832, accuracy: 0.68, precision: 0.75, recall: 0.09, f1: 0.16\n",
      "loss: 0.1821, accuracy: 0.69, precision: 0.75, recall: 0.09, f1: 0.16\n",
      "loss: 0.1827, accuracy: 0.69, precision: 0.74, recall: 0.09, f1: 0.16\n",
      "loss: 0.1825, accuracy: 0.69, precision: 0.74, recall: 0.09, f1: 0.16\n",
      "loss: 0.1827, accuracy: 0.69, precision: 0.74, recall: 0.09, f1: 0.16\n",
      "loss: 0.1825, accuracy: 0.69, precision: 0.73, recall: 0.09, f1: 0.16\n",
      "loss: 0.1819, accuracy: 0.70, precision: 0.72, recall: 0.12, f1: 0.20\n",
      "\n"
     ]
    },
    {
     "data": {
      "application/vnd.jupyter.widget-view+json": {
       "model_id": "bf4c5201c21f45d08a346e3d04b2a2f5",
       "version_major": 2,
       "version_minor": 0
      },
      "text/plain": [
       "HBox(children=(FloatProgress(value=0.0, max=91.0), HTML(value='')))"
      ]
     },
     "metadata": {},
     "output_type": "display_data"
    },
    {
     "name": "stdout",
     "output_type": "stream",
     "text": [
      "loss: 0.1822, accuracy: 0.69, precision: 0.74, recall: 0.10, f1: 0.17\n",
      "loss: 0.1819, accuracy: 0.69, precision: 0.74, recall: 0.10, f1: 0.17\n",
      "loss: 0.1825, accuracy: 0.69, precision: 0.74, recall: 0.09, f1: 0.16\n",
      "loss: 0.1830, accuracy: 0.69, precision: 0.74, recall: 0.09, f1: 0.16\n",
      "loss: 0.1824, accuracy: 0.69, precision: 0.74, recall: 0.09, f1: 0.16\n",
      "loss: 0.1817, accuracy: 0.69, precision: 0.74, recall: 0.09, f1: 0.16\n",
      "loss: 0.1813, accuracy: 0.69, precision: 0.74, recall: 0.09, f1: 0.16\n",
      "loss: 0.1815, accuracy: 0.69, precision: 0.75, recall: 0.09, f1: 0.16\n",
      "loss: 0.1826, accuracy: 0.69, precision: 0.73, recall: 0.09, f1: 0.16\n",
      "loss: 0.1790, accuracy: 0.69, precision: 0.74, recall: 0.09, f1: 0.17\n",
      "\n"
     ]
    },
    {
     "data": {
      "application/vnd.jupyter.widget-view+json": {
       "model_id": "fa48969393c347378c24db4d9cae351e",
       "version_major": 2,
       "version_minor": 0
      },
      "text/plain": [
       "HBox(children=(FloatProgress(value=0.0, max=91.0), HTML(value='')))"
      ]
     },
     "metadata": {},
     "output_type": "display_data"
    },
    {
     "name": "stdout",
     "output_type": "stream",
     "text": [
      "loss: 0.1820, accuracy: 0.69, precision: 0.74, recall: 0.09, f1: 0.16\n",
      "loss: 0.1817, accuracy: 0.69, precision: 0.74, recall: 0.09, f1: 0.17\n",
      "loss: 0.1824, accuracy: 0.69, precision: 0.74, recall: 0.09, f1: 0.16\n",
      "loss: 0.1828, accuracy: 0.68, precision: 0.75, recall: 0.09, f1: 0.16\n",
      "loss: 0.1823, accuracy: 0.69, precision: 0.74, recall: 0.09, f1: 0.16\n",
      "loss: 0.1812, accuracy: 0.69, precision: 0.75, recall: 0.09, f1: 0.16\n",
      "loss: 0.1831, accuracy: 0.69, precision: 0.74, recall: 0.09, f1: 0.16\n",
      "loss: 0.1821, accuracy: 0.69, precision: 0.74, recall: 0.09, f1: 0.17\n",
      "loss: 0.1817, accuracy: 0.69, precision: 0.75, recall: 0.09, f1: 0.16\n",
      "loss: 0.1818, accuracy: 0.68, precision: 0.77, recall: 0.08, f1: 0.15\n",
      "\n"
     ]
    },
    {
     "data": {
      "application/vnd.jupyter.widget-view+json": {
       "model_id": "74950e4d7b174145b9a4546239d797aa",
       "version_major": 2,
       "version_minor": 0
      },
      "text/plain": [
       "HBox(children=(FloatProgress(value=0.0, max=91.0), HTML(value='')))"
      ]
     },
     "metadata": {},
     "output_type": "display_data"
    },
    {
     "name": "stdout",
     "output_type": "stream",
     "text": [
      "loss: 0.1824, accuracy: 0.69, precision: 0.73, recall: 0.09, f1: 0.16\n",
      "loss: 0.1826, accuracy: 0.69, precision: 0.75, recall: 0.09, f1: 0.16\n",
      "loss: 0.1819, accuracy: 0.69, precision: 0.74, recall: 0.09, f1: 0.17\n",
      "loss: 0.1822, accuracy: 0.69, precision: 0.74, recall: 0.09, f1: 0.16\n",
      "loss: 0.1825, accuracy: 0.69, precision: 0.74, recall: 0.09, f1: 0.17\n",
      "loss: 0.1825, accuracy: 0.69, precision: 0.74, recall: 0.09, f1: 0.16\n",
      "loss: 0.1827, accuracy: 0.68, precision: 0.74, recall: 0.09, f1: 0.16\n",
      "loss: 0.1817, accuracy: 0.69, precision: 0.74, recall: 0.10, f1: 0.17\n",
      "loss: 0.1821, accuracy: 0.69, precision: 0.74, recall: 0.09, f1: 0.16\n",
      "loss: 0.1838, accuracy: 0.68, precision: 0.74, recall: 0.08, f1: 0.14\n",
      "\n"
     ]
    },
    {
     "data": {
      "application/vnd.jupyter.widget-view+json": {
       "model_id": "5de45f42251e4933b947e1bbc24e600c",
       "version_major": 2,
       "version_minor": 0
      },
      "text/plain": [
       "HBox(children=(FloatProgress(value=0.0, max=91.0), HTML(value='')))"
      ]
     },
     "metadata": {},
     "output_type": "display_data"
    },
    {
     "name": "stdout",
     "output_type": "stream",
     "text": [
      "loss: 0.1820, accuracy: 0.69, precision: 0.74, recall: 0.09, f1: 0.16\n",
      "loss: 0.1813, accuracy: 0.69, precision: 0.75, recall: 0.09, f1: 0.16\n",
      "loss: 0.1814, accuracy: 0.69, precision: 0.74, recall: 0.09, f1: 0.16\n",
      "loss: 0.1820, accuracy: 0.69, precision: 0.74, recall: 0.09, f1: 0.16\n",
      "loss: 0.1812, accuracy: 0.69, precision: 0.74, recall: 0.09, f1: 0.15\n",
      "loss: 0.1820, accuracy: 0.69, precision: 0.75, recall: 0.09, f1: 0.16\n",
      "loss: 0.1811, accuracy: 0.69, precision: 0.75, recall: 0.10, f1: 0.17\n",
      "loss: 0.1819, accuracy: 0.69, precision: 0.75, recall: 0.10, f1: 0.17\n",
      "loss: 0.1819, accuracy: 0.69, precision: 0.75, recall: 0.10, f1: 0.17\n",
      "loss: 0.1802, accuracy: 0.69, precision: 0.76, recall: 0.09, f1: 0.16\n",
      "\n"
     ]
    },
    {
     "data": {
      "application/vnd.jupyter.widget-view+json": {
       "model_id": "d251a0c7709747beb58222d216b2b3e5",
       "version_major": 2,
       "version_minor": 0
      },
      "text/plain": [
       "HBox(children=(FloatProgress(value=0.0, max=91.0), HTML(value='')))"
      ]
     },
     "metadata": {},
     "output_type": "display_data"
    },
    {
     "name": "stdout",
     "output_type": "stream",
     "text": [
      "loss: 0.1813, accuracy: 0.69, precision: 0.74, recall: 0.10, f1: 0.17\n",
      "loss: 0.1822, accuracy: 0.69, precision: 0.74, recall: 0.09, f1: 0.16\n",
      "loss: 0.1827, accuracy: 0.69, precision: 0.73, recall: 0.09, f1: 0.16\n",
      "loss: 0.1816, accuracy: 0.69, precision: 0.74, recall: 0.09, f1: 0.16\n",
      "loss: 0.1814, accuracy: 0.69, precision: 0.74, recall: 0.09, f1: 0.17\n",
      "loss: 0.1817, accuracy: 0.69, precision: 0.74, recall: 0.09, f1: 0.17\n",
      "loss: 0.1822, accuracy: 0.69, precision: 0.75, recall: 0.09, f1: 0.17\n",
      "loss: 0.1820, accuracy: 0.69, precision: 0.74, recall: 0.09, f1: 0.17\n",
      "loss: 0.1791, accuracy: 0.69, precision: 0.74, recall: 0.11, f1: 0.20\n",
      "\n"
     ]
    },
    {
     "data": {
      "application/vnd.jupyter.widget-view+json": {
       "model_id": "9c01d1ea7ccb4813ae2dff56ca8a74b7",
       "version_major": 2,
       "version_minor": 0
      },
      "text/plain": [
       "HBox(children=(FloatProgress(value=0.0, max=91.0), HTML(value='')))"
      ]
     },
     "metadata": {},
     "output_type": "display_data"
    },
    {
     "name": "stdout",
     "output_type": "stream",
     "text": [
      "loss: 0.1826, accuracy: 0.69, precision: 0.75, recall: 0.10, f1: 0.17\n",
      "loss: 0.1824, accuracy: 0.69, precision: 0.74, recall: 0.09, f1: 0.16\n",
      "loss: 0.1824, accuracy: 0.69, precision: 0.74, recall: 0.09, f1: 0.17\n",
      "loss: 0.1814, accuracy: 0.69, precision: 0.74, recall: 0.10, f1: 0.17\n",
      "loss: 0.1816, accuracy: 0.69, precision: 0.74, recall: 0.10, f1: 0.17\n",
      "loss: 0.1824, accuracy: 0.69, precision: 0.74, recall: 0.09, f1: 0.16\n",
      "loss: 0.1821, accuracy: 0.69, precision: 0.75, recall: 0.10, f1: 0.17\n",
      "loss: 0.1831, accuracy: 0.69, precision: 0.74, recall: 0.09, f1: 0.16\n",
      "loss: 0.1823, accuracy: 0.69, precision: 0.75, recall: 0.09, f1: 0.16\n",
      "loss: 0.1790, accuracy: 0.69, precision: 0.76, recall: 0.11, f1: 0.19\n",
      "\n"
     ]
    },
    {
     "data": {
      "application/vnd.jupyter.widget-view+json": {
       "model_id": "bd648deb0e7c4cb8869fa35b4c993e42",
       "version_major": 2,
       "version_minor": 0
      },
      "text/plain": [
       "HBox(children=(FloatProgress(value=0.0, max=91.0), HTML(value='')))"
      ]
     },
     "metadata": {},
     "output_type": "display_data"
    },
    {
     "name": "stdout",
     "output_type": "stream",
     "text": [
      "loss: 0.1821, accuracy: 0.69, precision: 0.74, recall: 0.09, f1: 0.16\n",
      "loss: 0.1829, accuracy: 0.68, precision: 0.74, recall: 0.09, f1: 0.16\n",
      "loss: 0.1818, accuracy: 0.69, precision: 0.74, recall: 0.10, f1: 0.17\n",
      "loss: 0.1831, accuracy: 0.69, precision: 0.74, recall: 0.10, f1: 0.17\n",
      "loss: 0.1820, accuracy: 0.69, precision: 0.74, recall: 0.09, f1: 0.17\n",
      "loss: 0.1819, accuracy: 0.69, precision: 0.75, recall: 0.09, f1: 0.16\n",
      "loss: 0.1789, accuracy: 0.69, precision: 0.76, recall: 0.09, f1: 0.16\n",
      "\n"
     ]
    },
    {
     "data": {
      "application/vnd.jupyter.widget-view+json": {
       "model_id": "91a900feacfb4a4e9f95f42fad4d435a",
       "version_major": 2,
       "version_minor": 0
      },
      "text/plain": [
       "HBox(children=(FloatProgress(value=0.0, max=91.0), HTML(value='')))"
      ]
     },
     "metadata": {},
     "output_type": "display_data"
    },
    {
     "name": "stdout",
     "output_type": "stream",
     "text": [
      "loss: 0.1820, accuracy: 0.69, precision: 0.74, recall: 0.09, f1: 0.16\n",
      "loss: 0.1835, accuracy: 0.69, precision: 0.74, recall: 0.09, f1: 0.16\n",
      "loss: 0.1824, accuracy: 0.69, precision: 0.74, recall: 0.09, f1: 0.16\n",
      "loss: 0.1820, accuracy: 0.69, precision: 0.74, recall: 0.10, f1: 0.17\n",
      "loss: 0.1829, accuracy: 0.69, precision: 0.74, recall: 0.09, f1: 0.16\n",
      "loss: 0.1825, accuracy: 0.69, precision: 0.74, recall: 0.09, f1: 0.17\n",
      "loss: 0.1817, accuracy: 0.69, precision: 0.74, recall: 0.09, f1: 0.17\n",
      "loss: 0.1825, accuracy: 0.69, precision: 0.75, recall: 0.09, f1: 0.16\n",
      "loss: 0.1818, accuracy: 0.69, precision: 0.74, recall: 0.09, f1: 0.16\n",
      "loss: 0.1800, accuracy: 0.69, precision: 0.73, recall: 0.09, f1: 0.16\n",
      "\n"
     ]
    },
    {
     "data": {
      "application/vnd.jupyter.widget-view+json": {
       "model_id": "a5246bd8d2094f9180d219cd1a2f8f03",
       "version_major": 2,
       "version_minor": 0
      },
      "text/plain": [
       "HBox(children=(FloatProgress(value=0.0, max=91.0), HTML(value='')))"
      ]
     },
     "metadata": {},
     "output_type": "display_data"
    },
    {
     "name": "stdout",
     "output_type": "stream",
     "text": [
      "loss: 0.1813, accuracy: 0.69, precision: 0.74, recall: 0.10, f1: 0.17\n",
      "loss: 0.1815, accuracy: 0.69, precision: 0.74, recall: 0.09, f1: 0.15\n",
      "loss: 0.1820, accuracy: 0.69, precision: 0.75, recall: 0.09, f1: 0.17\n",
      "loss: 0.1823, accuracy: 0.69, precision: 0.75, recall: 0.09, f1: 0.16\n",
      "loss: 0.1828, accuracy: 0.69, precision: 0.74, recall: 0.09, f1: 0.15\n",
      "loss: 0.1822, accuracy: 0.69, precision: 0.74, recall: 0.09, f1: 0.16\n",
      "loss: 0.1813, accuracy: 0.69, precision: 0.74, recall: 0.09, f1: 0.16\n",
      "loss: 0.1829, accuracy: 0.68, precision: 0.75, recall: 0.09, f1: 0.16\n",
      "loss: 0.1810, accuracy: 0.69, precision: 0.74, recall: 0.09, f1: 0.17\n",
      "loss: 0.1835, accuracy: 0.69, precision: 0.74, recall: 0.12, f1: 0.20\n",
      "\n"
     ]
    },
    {
     "data": {
      "application/vnd.jupyter.widget-view+json": {
       "model_id": "9e13dbf4f9074d68b544b429d8616f84",
       "version_major": 2,
       "version_minor": 0
      },
      "text/plain": [
       "HBox(children=(FloatProgress(value=0.0, max=91.0), HTML(value='')))"
      ]
     },
     "metadata": {},
     "output_type": "display_data"
    },
    {
     "name": "stdout",
     "output_type": "stream",
     "text": [
      "loss: 0.1813, accuracy: 0.69, precision: 0.75, recall: 0.09, f1: 0.16\n",
      "loss: 0.1815, accuracy: 0.69, precision: 0.74, recall: 0.10, f1: 0.17\n",
      "loss: 0.1823, accuracy: 0.69, precision: 0.74, recall: 0.10, f1: 0.17\n",
      "loss: 0.1829, accuracy: 0.69, precision: 0.74, recall: 0.10, f1: 0.17\n",
      "loss: 0.1817, accuracy: 0.69, precision: 0.75, recall: 0.10, f1: 0.17\n",
      "loss: 0.1807, accuracy: 0.69, precision: 0.75, recall: 0.10, f1: 0.18\n",
      "loss: 0.1827, accuracy: 0.68, precision: 0.74, recall: 0.09, f1: 0.17\n",
      "\n"
     ]
    },
    {
     "data": {
      "application/vnd.jupyter.widget-view+json": {
       "model_id": "2cceef1b991b4418888e6c0e37d5ad82",
       "version_major": 2,
       "version_minor": 0
      },
      "text/plain": [
       "HBox(children=(FloatProgress(value=0.0, max=91.0), HTML(value='')))"
      ]
     },
     "metadata": {},
     "output_type": "display_data"
    },
    {
     "name": "stdout",
     "output_type": "stream",
     "text": [
      "loss: 0.1809, accuracy: 0.69, precision: 0.75, recall: 0.10, f1: 0.17\n",
      "loss: 0.1816, accuracy: 0.69, precision: 0.75, recall: 0.09, f1: 0.16\n",
      "loss: 0.1820, accuracy: 0.69, precision: 0.74, recall: 0.09, f1: 0.17\n",
      "loss: 0.1822, accuracy: 0.69, precision: 0.74, recall: 0.09, f1: 0.17\n",
      "loss: 0.1828, accuracy: 0.69, precision: 0.73, recall: 0.09, f1: 0.16\n",
      "loss: 0.1832, accuracy: 0.69, precision: 0.74, recall: 0.09, f1: 0.17\n",
      "loss: 0.1825, accuracy: 0.69, precision: 0.74, recall: 0.09, f1: 0.16\n",
      "loss: 0.1826, accuracy: 0.69, precision: 0.73, recall: 0.09, f1: 0.16\n",
      "loss: 0.1836, accuracy: 0.69, precision: 0.74, recall: 0.10, f1: 0.17\n",
      "\n"
     ]
    },
    {
     "data": {
      "application/vnd.jupyter.widget-view+json": {
       "model_id": "0692d388abb148de84f8bef89a04cb42",
       "version_major": 2,
       "version_minor": 0
      },
      "text/plain": [
       "HBox(children=(FloatProgress(value=0.0, max=91.0), HTML(value='')))"
      ]
     },
     "metadata": {},
     "output_type": "display_data"
    },
    {
     "name": "stdout",
     "output_type": "stream",
     "text": [
      "loss: 0.1818, accuracy: 0.69, precision: 0.74, recall: 0.09, f1: 0.16\n",
      "loss: 0.1830, accuracy: 0.69, precision: 0.74, recall: 0.09, f1: 0.17\n",
      "loss: 0.1816, accuracy: 0.69, precision: 0.74, recall: 0.09, f1: 0.15\n",
      "loss: 0.1809, accuracy: 0.69, precision: 0.74, recall: 0.10, f1: 0.17\n",
      "loss: 0.1813, accuracy: 0.69, precision: 0.75, recall: 0.09, f1: 0.16\n",
      "loss: 0.1804, accuracy: 0.69, precision: 0.74, recall: 0.08, f1: 0.15\n",
      "\n"
     ]
    },
    {
     "data": {
      "application/vnd.jupyter.widget-view+json": {
       "model_id": "a776544aed814ca39852d93eff91e561",
       "version_major": 2,
       "version_minor": 0
      },
      "text/plain": [
       "HBox(children=(FloatProgress(value=0.0, max=91.0), HTML(value='')))"
      ]
     },
     "metadata": {},
     "output_type": "display_data"
    },
    {
     "name": "stdout",
     "output_type": "stream",
     "text": [
      "loss: 0.1823, accuracy: 0.69, precision: 0.74, recall: 0.10, f1: 0.17\n",
      "loss: 0.1822, accuracy: 0.69, precision: 0.75, recall: 0.10, f1: 0.17\n",
      "loss: 0.1820, accuracy: 0.69, precision: 0.74, recall: 0.09, f1: 0.16\n",
      "loss: 0.1813, accuracy: 0.69, precision: 0.74, recall: 0.09, f1: 0.17\n",
      "loss: 0.1827, accuracy: 0.69, precision: 0.74, recall: 0.09, f1: 0.16\n",
      "loss: 0.1806, accuracy: 0.69, precision: 0.75, recall: 0.09, f1: 0.17\n",
      "loss: 0.1814, accuracy: 0.69, precision: 0.74, recall: 0.09, f1: 0.17\n",
      "loss: 0.1812, accuracy: 0.69, precision: 0.75, recall: 0.09, f1: 0.17\n",
      "loss: 0.1821, accuracy: 0.69, precision: 0.73, recall: 0.09, f1: 0.17\n",
      "loss: 0.1805, accuracy: 0.68, precision: 0.77, recall: 0.08, f1: 0.15\n",
      "\n"
     ]
    },
    {
     "data": {
      "application/vnd.jupyter.widget-view+json": {
       "model_id": "4c7fdf24646546cdaef9e2a0883721a0",
       "version_major": 2,
       "version_minor": 0
      },
      "text/plain": [
       "HBox(children=(FloatProgress(value=0.0, max=91.0), HTML(value='')))"
      ]
     },
     "metadata": {},
     "output_type": "display_data"
    },
    {
     "name": "stdout",
     "output_type": "stream",
     "text": [
      "loss: 0.1823, accuracy: 0.69, precision: 0.74, recall: 0.09, f1: 0.16\n",
      "loss: 0.1820, accuracy: 0.69, precision: 0.74, recall: 0.09, f1: 0.16\n",
      "loss: 0.1817, accuracy: 0.69, precision: 0.74, recall: 0.09, f1: 0.17\n",
      "loss: 0.1825, accuracy: 0.69, precision: 0.74, recall: 0.10, f1: 0.17\n",
      "loss: 0.1830, accuracy: 0.69, precision: 0.74, recall: 0.09, f1: 0.17\n",
      "loss: 0.1807, accuracy: 0.69, precision: 0.74, recall: 0.09, f1: 0.16\n",
      "loss: 0.1821, accuracy: 0.69, precision: 0.74, recall: 0.09, f1: 0.16\n",
      "loss: 0.1814, accuracy: 0.69, precision: 0.73, recall: 0.10, f1: 0.17\n",
      "loss: 0.1809, accuracy: 0.69, precision: 0.74, recall: 0.10, f1: 0.18\n",
      "loss: 0.1801, accuracy: 0.69, precision: 0.74, recall: 0.08, f1: 0.15\n",
      "\n"
     ]
    },
    {
     "data": {
      "application/vnd.jupyter.widget-view+json": {
       "model_id": "c8cc612ee31c4874a7bee3a1e0b21eeb",
       "version_major": 2,
       "version_minor": 0
      },
      "text/plain": [
       "HBox(children=(FloatProgress(value=0.0, max=91.0), HTML(value='')))"
      ]
     },
     "metadata": {},
     "output_type": "display_data"
    },
    {
     "name": "stdout",
     "output_type": "stream",
     "text": [
      "loss: 0.1823, accuracy: 0.69, precision: 0.75, recall: 0.09, f1: 0.16\n",
      "loss: 0.1808, accuracy: 0.69, precision: 0.75, recall: 0.10, f1: 0.17\n",
      "loss: 0.1812, accuracy: 0.69, precision: 0.74, recall: 0.10, f1: 0.17\n",
      "loss: 0.1815, accuracy: 0.69, precision: 0.74, recall: 0.09, f1: 0.16\n",
      "loss: 0.1824, accuracy: 0.69, precision: 0.75, recall: 0.09, f1: 0.16\n",
      "loss: 0.1814, accuracy: 0.69, precision: 0.74, recall: 0.10, f1: 0.17\n",
      "loss: 0.1810, accuracy: 0.69, precision: 0.74, recall: 0.10, f1: 0.17\n",
      "loss: 0.1817, accuracy: 0.69, precision: 0.75, recall: 0.09, f1: 0.16\n",
      "loss: 0.1824, accuracy: 0.69, precision: 0.74, recall: 0.09, f1: 0.17\n",
      "loss: 0.1817, accuracy: 0.68, precision: 0.74, recall: 0.08, f1: 0.14\n",
      "\n"
     ]
    },
    {
     "data": {
      "application/vnd.jupyter.widget-view+json": {
       "model_id": "8ae54bc6d83e4dfbb07bf3dab324e163",
       "version_major": 2,
       "version_minor": 0
      },
      "text/plain": [
       "HBox(children=(FloatProgress(value=0.0, max=91.0), HTML(value='')))"
      ]
     },
     "metadata": {},
     "output_type": "display_data"
    },
    {
     "name": "stdout",
     "output_type": "stream",
     "text": [
      "loss: 0.1812, accuracy: 0.69, precision: 0.75, recall: 0.09, f1: 0.16\n",
      "loss: 0.1812, accuracy: 0.69, precision: 0.74, recall: 0.09, f1: 0.17\n",
      "loss: 0.1824, accuracy: 0.69, precision: 0.74, recall: 0.09, f1: 0.16\n",
      "loss: 0.1832, accuracy: 0.69, precision: 0.74, recall: 0.10, f1: 0.17\n",
      "loss: 0.1820, accuracy: 0.69, precision: 0.74, recall: 0.09, f1: 0.17\n",
      "loss: 0.1824, accuracy: 0.69, precision: 0.74, recall: 0.09, f1: 0.16\n",
      "loss: 0.1817, accuracy: 0.69, precision: 0.74, recall: 0.09, f1: 0.17\n",
      "loss: 0.1818, accuracy: 0.69, precision: 0.74, recall: 0.09, f1: 0.16\n",
      "loss: 0.1812, accuracy: 0.69, precision: 0.74, recall: 0.09, f1: 0.17\n",
      "loss: 0.1798, accuracy: 0.71, precision: 0.73, recall: 0.10, f1: 0.18\n",
      "\n"
     ]
    },
    {
     "data": {
      "application/vnd.jupyter.widget-view+json": {
       "model_id": "3de516351a3f4c7fa8e271590e57ef37",
       "version_major": 2,
       "version_minor": 0
      },
      "text/plain": [
       "HBox(children=(FloatProgress(value=0.0, max=91.0), HTML(value='')))"
      ]
     },
     "metadata": {},
     "output_type": "display_data"
    },
    {
     "name": "stdout",
     "output_type": "stream",
     "text": [
      "loss: 0.1811, accuracy: 0.69, precision: 0.74, recall: 0.09, f1: 0.16\n",
      "loss: 0.1824, accuracy: 0.69, precision: 0.74, recall: 0.10, f1: 0.17\n",
      "loss: 0.1820, accuracy: 0.69, precision: 0.74, recall: 0.09, f1: 0.16\n",
      "loss: 0.1826, accuracy: 0.69, precision: 0.74, recall: 0.09, f1: 0.16\n",
      "loss: 0.1826, accuracy: 0.69, precision: 0.74, recall: 0.09, f1: 0.16\n",
      "loss: 0.1817, accuracy: 0.69, precision: 0.74, recall: 0.09, f1: 0.16\n",
      "loss: 0.1816, accuracy: 0.69, precision: 0.75, recall: 0.09, f1: 0.16\n",
      "loss: 0.1821, accuracy: 0.69, precision: 0.74, recall: 0.09, f1: 0.16\n",
      "loss: 0.1822, accuracy: 0.69, precision: 0.74, recall: 0.10, f1: 0.17\n",
      "loss: 0.1822, accuracy: 0.69, precision: 0.75, recall: 0.09, f1: 0.17\n",
      "\n"
     ]
    },
    {
     "data": {
      "application/vnd.jupyter.widget-view+json": {
       "model_id": "b12a603832d24f5c821e1562f4904acf",
       "version_major": 2,
       "version_minor": 0
      },
      "text/plain": [
       "HBox(children=(FloatProgress(value=0.0, max=91.0), HTML(value='')))"
      ]
     },
     "metadata": {},
     "output_type": "display_data"
    },
    {
     "name": "stdout",
     "output_type": "stream",
     "text": [
      "loss: 0.1821, accuracy: 0.69, precision: 0.74, recall: 0.09, f1: 0.16\n",
      "loss: 0.1825, accuracy: 0.69, precision: 0.74, recall: 0.09, f1: 0.17\n",
      "loss: 0.1822, accuracy: 0.69, precision: 0.74, recall: 0.09, f1: 0.16\n",
      "loss: 0.1816, accuracy: 0.69, precision: 0.74, recall: 0.09, f1: 0.16\n",
      "loss: 0.1828, accuracy: 0.69, precision: 0.75, recall: 0.09, f1: 0.17\n",
      "loss: 0.1821, accuracy: 0.69, precision: 0.74, recall: 0.09, f1: 0.16\n",
      "loss: 0.1828, accuracy: 0.69, precision: 0.73, recall: 0.09, f1: 0.16\n",
      "loss: 0.1819, accuracy: 0.69, precision: 0.73, recall: 0.09, f1: 0.16\n",
      "loss: 0.1817, accuracy: 0.69, precision: 0.75, recall: 0.09, f1: 0.16\n",
      "loss: 0.1829, accuracy: 0.69, precision: 0.73, recall: 0.09, f1: 0.16\n",
      "\n"
     ]
    },
    {
     "data": {
      "application/vnd.jupyter.widget-view+json": {
       "model_id": "2acc93789b604dc9a0f45ce92bbe02ca",
       "version_major": 2,
       "version_minor": 0
      },
      "text/plain": [
       "HBox(children=(FloatProgress(value=0.0, max=91.0), HTML(value='')))"
      ]
     },
     "metadata": {},
     "output_type": "display_data"
    },
    {
     "name": "stdout",
     "output_type": "stream",
     "text": [
      "loss: 0.1817, accuracy: 0.69, precision: 0.75, recall: 0.09, f1: 0.16\n",
      "loss: 0.1812, accuracy: 0.69, precision: 0.74, recall: 0.10, f1: 0.17\n",
      "loss: 0.1811, accuracy: 0.69, precision: 0.75, recall: 0.09, f1: 0.16\n",
      "loss: 0.1829, accuracy: 0.69, precision: 0.74, recall: 0.09, f1: 0.16\n",
      "loss: 0.1808, accuracy: 0.69, precision: 0.74, recall: 0.10, f1: 0.17\n",
      "loss: 0.1817, accuracy: 0.69, precision: 0.75, recall: 0.09, f1: 0.16\n",
      "loss: 0.1812, accuracy: 0.69, precision: 0.75, recall: 0.10, f1: 0.17\n",
      "loss: 0.1822, accuracy: 0.69, precision: 0.74, recall: 0.10, f1: 0.17\n",
      "loss: 0.1824, accuracy: 0.69, precision: 0.73, recall: 0.09, f1: 0.16\n",
      "loss: 0.1780, accuracy: 0.69, precision: 0.76, recall: 0.10, f1: 0.18\n",
      "\n"
     ]
    },
    {
     "data": {
      "application/vnd.jupyter.widget-view+json": {
       "model_id": "52b150f7d22c4d8ebf3c1e751440cbf1",
       "version_major": 2,
       "version_minor": 0
      },
      "text/plain": [
       "HBox(children=(FloatProgress(value=0.0, max=91.0), HTML(value='')))"
      ]
     },
     "metadata": {},
     "output_type": "display_data"
    },
    {
     "name": "stdout",
     "output_type": "stream",
     "text": [
      "loss: 0.1832, accuracy: 0.69, precision: 0.74, recall: 0.09, f1: 0.16\n",
      "loss: 0.1827, accuracy: 0.68, precision: 0.75, recall: 0.09, f1: 0.16\n",
      "loss: 0.1819, accuracy: 0.69, precision: 0.73, recall: 0.10, f1: 0.17\n",
      "loss: 0.1815, accuracy: 0.69, precision: 0.74, recall: 0.10, f1: 0.17\n",
      "loss: 0.1813, accuracy: 0.69, precision: 0.74, recall: 0.09, f1: 0.16\n",
      "loss: 0.1822, accuracy: 0.69, precision: 0.74, recall: 0.09, f1: 0.16\n",
      "loss: 0.1824, accuracy: 0.69, precision: 0.74, recall: 0.09, f1: 0.16\n",
      "loss: 0.1827, accuracy: 0.69, precision: 0.75, recall: 0.09, f1: 0.16\n",
      "loss: 0.1826, accuracy: 0.69, precision: 0.75, recall: 0.09, f1: 0.16\n",
      "loss: 0.1844, accuracy: 0.69, precision: 0.73, recall: 0.09, f1: 0.16\n",
      "\n"
     ]
    },
    {
     "data": {
      "application/vnd.jupyter.widget-view+json": {
       "model_id": "b8deb511c40545058f633ffcd0061401",
       "version_major": 2,
       "version_minor": 0
      },
      "text/plain": [
       "HBox(children=(FloatProgress(value=0.0, max=91.0), HTML(value='')))"
      ]
     },
     "metadata": {},
     "output_type": "display_data"
    },
    {
     "name": "stdout",
     "output_type": "stream",
     "text": [
      "loss: 0.1818, accuracy: 0.69, precision: 0.75, recall: 0.09, f1: 0.17\n",
      "loss: 0.1809, accuracy: 0.69, precision: 0.75, recall: 0.09, f1: 0.17\n",
      "loss: 0.1812, accuracy: 0.69, precision: 0.74, recall: 0.10, f1: 0.17\n",
      "loss: 0.1818, accuracy: 0.69, precision: 0.74, recall: 0.09, f1: 0.17\n",
      "loss: 0.1827, accuracy: 0.69, precision: 0.74, recall: 0.09, f1: 0.16\n",
      "loss: 0.1810, accuracy: 0.69, precision: 0.75, recall: 0.09, f1: 0.17\n",
      "loss: 0.1824, accuracy: 0.69, precision: 0.75, recall: 0.09, f1: 0.17\n",
      "loss: 0.1833, accuracy: 0.69, precision: 0.73, recall: 0.09, f1: 0.16\n",
      "loss: 0.1810, accuracy: 0.69, precision: 0.75, recall: 0.10, f1: 0.17\n",
      "loss: 0.1818, accuracy: 0.69, precision: 0.74, recall: 0.09, f1: 0.17\n",
      "\n"
     ]
    },
    {
     "data": {
      "application/vnd.jupyter.widget-view+json": {
       "model_id": "f786679e4c6544f6817c890d8380f870",
       "version_major": 2,
       "version_minor": 0
      },
      "text/plain": [
       "HBox(children=(FloatProgress(value=0.0, max=91.0), HTML(value='')))"
      ]
     },
     "metadata": {},
     "output_type": "display_data"
    },
    {
     "name": "stdout",
     "output_type": "stream",
     "text": [
      "loss: 0.1828, accuracy: 0.69, precision: 0.74, recall: 0.09, f1: 0.16\n",
      "loss: 0.1825, accuracy: 0.69, precision: 0.75, recall: 0.09, f1: 0.16\n",
      "loss: 0.1817, accuracy: 0.69, precision: 0.74, recall: 0.09, f1: 0.16\n",
      "loss: 0.1814, accuracy: 0.69, precision: 0.74, recall: 0.09, f1: 0.16\n",
      "loss: 0.1820, accuracy: 0.69, precision: 0.74, recall: 0.09, f1: 0.16\n",
      "loss: 0.1814, accuracy: 0.69, precision: 0.74, recall: 0.09, f1: 0.16\n",
      "loss: 0.1827, accuracy: 0.69, precision: 0.74, recall: 0.10, f1: 0.17\n",
      "loss: 0.1814, accuracy: 0.69, precision: 0.74, recall: 0.09, f1: 0.16\n",
      "loss: 0.1820, accuracy: 0.69, precision: 0.73, recall: 0.10, f1: 0.17\n",
      "loss: 0.1831, accuracy: 0.70, precision: 0.74, recall: 0.12, f1: 0.21\n",
      "\n"
     ]
    },
    {
     "data": {
      "application/vnd.jupyter.widget-view+json": {
       "model_id": "69de92ef8c604b0cb7afae21b7da197e",
       "version_major": 2,
       "version_minor": 0
      },
      "text/plain": [
       "HBox(children=(FloatProgress(value=0.0, max=91.0), HTML(value='')))"
      ]
     },
     "metadata": {},
     "output_type": "display_data"
    },
    {
     "name": "stdout",
     "output_type": "stream",
     "text": [
      "loss: 0.1823, accuracy: 0.69, precision: 0.74, recall: 0.10, f1: 0.17\n",
      "loss: 0.1821, accuracy: 0.69, precision: 0.74, recall: 0.09, f1: 0.17\n",
      "loss: 0.1817, accuracy: 0.69, precision: 0.75, recall: 0.09, f1: 0.16\n",
      "loss: 0.1827, accuracy: 0.69, precision: 0.75, recall: 0.09, f1: 0.17\n",
      "loss: 0.1827, accuracy: 0.69, precision: 0.75, recall: 0.09, f1: 0.16\n",
      "loss: 0.1810, accuracy: 0.69, precision: 0.74, recall: 0.10, f1: 0.17\n",
      "loss: 0.1818, accuracy: 0.69, precision: 0.74, recall: 0.09, f1: 0.16\n",
      "loss: 0.1821, accuracy: 0.69, precision: 0.73, recall: 0.09, f1: 0.17\n",
      "loss: 0.1827, accuracy: 0.69, precision: 0.74, recall: 0.09, f1: 0.16\n",
      "loss: 0.1819, accuracy: 0.68, precision: 0.71, recall: 0.11, f1: 0.18\n",
      "\n"
     ]
    },
    {
     "data": {
      "application/vnd.jupyter.widget-view+json": {
       "model_id": "edb22791b7c041768f1a135f79b4765f",
       "version_major": 2,
       "version_minor": 0
      },
      "text/plain": [
       "HBox(children=(FloatProgress(value=0.0, max=91.0), HTML(value='')))"
      ]
     },
     "metadata": {},
     "output_type": "display_data"
    },
    {
     "name": "stdout",
     "output_type": "stream",
     "text": [
      "loss: 0.1821, accuracy: 0.69, precision: 0.74, recall: 0.09, f1: 0.16\n",
      "loss: 0.1808, accuracy: 0.69, precision: 0.75, recall: 0.09, f1: 0.16\n",
      "loss: 0.1826, accuracy: 0.69, precision: 0.74, recall: 0.09, f1: 0.16\n",
      "loss: 0.1818, accuracy: 0.69, precision: 0.74, recall: 0.09, f1: 0.17\n",
      "loss: 0.1819, accuracy: 0.69, precision: 0.74, recall: 0.09, f1: 0.17\n",
      "loss: 0.1827, accuracy: 0.69, precision: 0.74, recall: 0.09, f1: 0.16\n",
      "loss: 0.1848, accuracy: 0.69, precision: 0.73, recall: 0.09, f1: 0.16\n",
      "loss: 0.1819, accuracy: 0.69, precision: 0.73, recall: 0.09, f1: 0.17\n",
      "loss: 0.1814, accuracy: 0.69, precision: 0.75, recall: 0.09, f1: 0.17\n",
      "loss: 0.1840, accuracy: 0.68, precision: 0.74, recall: 0.08, f1: 0.14\n",
      "\n"
     ]
    },
    {
     "data": {
      "application/vnd.jupyter.widget-view+json": {
       "model_id": "d091c65e992f44d4be238e874ec8c298",
       "version_major": 2,
       "version_minor": 0
      },
      "text/plain": [
       "HBox(children=(FloatProgress(value=0.0, max=91.0), HTML(value='')))"
      ]
     },
     "metadata": {},
     "output_type": "display_data"
    },
    {
     "name": "stdout",
     "output_type": "stream",
     "text": [
      "loss: 0.1829, accuracy: 0.69, precision: 0.74, recall: 0.09, f1: 0.16\n",
      "loss: 0.1815, accuracy: 0.69, precision: 0.74, recall: 0.10, f1: 0.17\n",
      "loss: 0.1803, accuracy: 0.69, precision: 0.75, recall: 0.09, f1: 0.17\n",
      "loss: 0.1820, accuracy: 0.69, precision: 0.74, recall: 0.09, f1: 0.16\n",
      "loss: 0.1829, accuracy: 0.68, precision: 0.75, recall: 0.09, f1: 0.16\n",
      "loss: 0.1822, accuracy: 0.69, precision: 0.74, recall: 0.09, f1: 0.16\n",
      "loss: 0.1816, accuracy: 0.69, precision: 0.73, recall: 0.09, f1: 0.17\n",
      "loss: 0.1815, accuracy: 0.69, precision: 0.74, recall: 0.10, f1: 0.18\n",
      "loss: 0.1833, accuracy: 0.69, precision: 0.74, recall: 0.09, f1: 0.17\n",
      "loss: 0.1835, accuracy: 0.69, precision: 0.72, recall: 0.11, f1: 0.19\n",
      "\n"
     ]
    },
    {
     "data": {
      "application/vnd.jupyter.widget-view+json": {
       "model_id": "a62ebf1a26ad4b93aa03e18794e4c3a6",
       "version_major": 2,
       "version_minor": 0
      },
      "text/plain": [
       "HBox(children=(FloatProgress(value=0.0, max=91.0), HTML(value='')))"
      ]
     },
     "metadata": {},
     "output_type": "display_data"
    },
    {
     "name": "stdout",
     "output_type": "stream",
     "text": [
      "loss: 0.1813, accuracy: 0.69, precision: 0.74, recall: 0.09, f1: 0.17\n",
      "loss: 0.1815, accuracy: 0.69, precision: 0.75, recall: 0.09, f1: 0.16\n",
      "loss: 0.1815, accuracy: 0.69, precision: 0.74, recall: 0.09, f1: 0.17\n",
      "loss: 0.1819, accuracy: 0.69, precision: 0.74, recall: 0.09, f1: 0.16\n",
      "loss: 0.1816, accuracy: 0.69, precision: 0.74, recall: 0.09, f1: 0.16\n",
      "loss: 0.1820, accuracy: 0.69, precision: 0.73, recall: 0.09, f1: 0.17\n",
      "loss: 0.1826, accuracy: 0.69, precision: 0.74, recall: 0.09, f1: 0.16\n",
      "loss: 0.1814, accuracy: 0.69, precision: 0.74, recall: 0.09, f1: 0.17\n",
      "loss: 0.1817, accuracy: 0.69, precision: 0.74, recall: 0.09, f1: 0.17\n",
      "loss: 0.1824, accuracy: 0.69, precision: 0.73, recall: 0.11, f1: 0.18\n",
      "\n"
     ]
    },
    {
     "data": {
      "application/vnd.jupyter.widget-view+json": {
       "model_id": "456a0c1a291b4ad9bc4ffbe8c1cc9f27",
       "version_major": 2,
       "version_minor": 0
      },
      "text/plain": [
       "HBox(children=(FloatProgress(value=0.0, max=91.0), HTML(value='')))"
      ]
     },
     "metadata": {},
     "output_type": "display_data"
    },
    {
     "name": "stdout",
     "output_type": "stream",
     "text": [
      "loss: 0.1815, accuracy: 0.69, precision: 0.74, recall: 0.10, f1: 0.17\n",
      "loss: 0.1826, accuracy: 0.68, precision: 0.75, recall: 0.09, f1: 0.16\n",
      "loss: 0.1827, accuracy: 0.69, precision: 0.74, recall: 0.09, f1: 0.17\n",
      "loss: 0.1832, accuracy: 0.69, precision: 0.74, recall: 0.10, f1: 0.17\n",
      "loss: 0.1821, accuracy: 0.69, precision: 0.74, recall: 0.09, f1: 0.16\n",
      "loss: 0.1821, accuracy: 0.69, precision: 0.74, recall: 0.09, f1: 0.17\n",
      "loss: 0.1822, accuracy: 0.69, precision: 0.74, recall: 0.09, f1: 0.16\n",
      "loss: 0.1821, accuracy: 0.69, precision: 0.73, recall: 0.09, f1: 0.16\n",
      "loss: 0.1819, accuracy: 0.69, precision: 0.75, recall: 0.10, f1: 0.17\n",
      "loss: 0.1820, accuracy: 0.70, precision: 0.71, recall: 0.09, f1: 0.16\n",
      "\n"
     ]
    },
    {
     "data": {
      "application/vnd.jupyter.widget-view+json": {
       "model_id": "cef22da5b806484aad4179c5dc1405a2",
       "version_major": 2,
       "version_minor": 0
      },
      "text/plain": [
       "HBox(children=(FloatProgress(value=0.0, max=91.0), HTML(value='')))"
      ]
     },
     "metadata": {},
     "output_type": "display_data"
    },
    {
     "name": "stdout",
     "output_type": "stream",
     "text": [
      "loss: 0.1828, accuracy: 0.69, precision: 0.74, recall: 0.10, f1: 0.17\n",
      "loss: 0.1830, accuracy: 0.69, precision: 0.74, recall: 0.10, f1: 0.17\n",
      "loss: 0.1825, accuracy: 0.69, precision: 0.75, recall: 0.09, f1: 0.16\n",
      "loss: 0.1817, accuracy: 0.69, precision: 0.75, recall: 0.09, f1: 0.17\n",
      "loss: 0.1822, accuracy: 0.69, precision: 0.74, recall: 0.09, f1: 0.16\n",
      "loss: 0.1823, accuracy: 0.69, precision: 0.74, recall: 0.09, f1: 0.16\n",
      "loss: 0.1821, accuracy: 0.69, precision: 0.74, recall: 0.09, f1: 0.17\n",
      "loss: 0.1813, accuracy: 0.69, precision: 0.74, recall: 0.09, f1: 0.16\n",
      "loss: 0.1807, accuracy: 0.69, precision: 0.74, recall: 0.09, f1: 0.16\n",
      "loss: 0.1842, accuracy: 0.68, precision: 0.73, recall: 0.10, f1: 0.18\n",
      "\n"
     ]
    },
    {
     "data": {
      "application/vnd.jupyter.widget-view+json": {
       "model_id": "f9d2706776c141c8a047788d4e13c0cc",
       "version_major": 2,
       "version_minor": 0
      },
      "text/plain": [
       "HBox(children=(FloatProgress(value=0.0, max=91.0), HTML(value='')))"
      ]
     },
     "metadata": {},
     "output_type": "display_data"
    },
    {
     "name": "stdout",
     "output_type": "stream",
     "text": [
      "loss: 0.1821, accuracy: 0.69, precision: 0.74, recall: 0.09, f1: 0.17\n",
      "loss: 0.1832, accuracy: 0.69, precision: 0.74, recall: 0.09, f1: 0.16\n",
      "loss: 0.1819, accuracy: 0.69, precision: 0.74, recall: 0.09, f1: 0.16\n",
      "loss: 0.1818, accuracy: 0.69, precision: 0.74, recall: 0.09, f1: 0.17\n",
      "loss: 0.1821, accuracy: 0.69, precision: 0.75, recall: 0.09, f1: 0.17\n",
      "loss: 0.1824, accuracy: 0.69, precision: 0.74, recall: 0.09, f1: 0.17\n",
      "loss: 0.1829, accuracy: 0.69, precision: 0.73, recall: 0.09, f1: 0.16\n",
      "loss: 0.1816, accuracy: 0.69, precision: 0.74, recall: 0.09, f1: 0.16\n",
      "loss: 0.1826, accuracy: 0.69, precision: 0.74, recall: 0.09, f1: 0.17\n",
      "loss: 0.1805, accuracy: 0.70, precision: 0.72, recall: 0.12, f1: 0.21\n",
      "\n"
     ]
    },
    {
     "data": {
      "application/vnd.jupyter.widget-view+json": {
       "model_id": "0dce60c461ba4ac08dd0dad0efbd81cd",
       "version_major": 2,
       "version_minor": 0
      },
      "text/plain": [
       "HBox(children=(FloatProgress(value=0.0, max=91.0), HTML(value='')))"
      ]
     },
     "metadata": {},
     "output_type": "display_data"
    },
    {
     "name": "stdout",
     "output_type": "stream",
     "text": [
      "loss: 0.1828, accuracy: 0.69, precision: 0.74, recall: 0.10, f1: 0.17\n",
      "loss: 0.1830, accuracy: 0.68, precision: 0.74, recall: 0.09, f1: 0.16\n",
      "loss: 0.1814, accuracy: 0.69, precision: 0.74, recall: 0.09, f1: 0.17\n",
      "loss: 0.1820, accuracy: 0.69, precision: 0.74, recall: 0.10, f1: 0.17\n",
      "loss: 0.1835, accuracy: 0.69, precision: 0.74, recall: 0.09, f1: 0.17\n",
      "loss: 0.1818, accuracy: 0.69, precision: 0.74, recall: 0.09, f1: 0.16\n",
      "loss: 0.1829, accuracy: 0.69, precision: 0.74, recall: 0.10, f1: 0.17\n",
      "loss: 0.1819, accuracy: 0.69, precision: 0.75, recall: 0.09, f1: 0.17\n",
      "loss: 0.1827, accuracy: 0.69, precision: 0.74, recall: 0.10, f1: 0.17\n",
      "loss: 0.1812, accuracy: 0.70, precision: 0.73, recall: 0.10, f1: 0.18\n",
      "\n"
     ]
    },
    {
     "data": {
      "application/vnd.jupyter.widget-view+json": {
       "model_id": "e083a754269e496eae2f8fb03b7bcc63",
       "version_major": 2,
       "version_minor": 0
      },
      "text/plain": [
       "HBox(children=(FloatProgress(value=0.0, max=91.0), HTML(value='')))"
      ]
     },
     "metadata": {},
     "output_type": "display_data"
    },
    {
     "name": "stdout",
     "output_type": "stream",
     "text": [
      "loss: 0.1811, accuracy: 0.69, precision: 0.75, recall: 0.09, f1: 0.16\n",
      "loss: 0.1805, accuracy: 0.69, precision: 0.74, recall: 0.10, f1: 0.17\n",
      "loss: 0.1834, accuracy: 0.69, precision: 0.74, recall: 0.09, f1: 0.17\n",
      "loss: 0.1823, accuracy: 0.69, precision: 0.75, recall: 0.09, f1: 0.16\n",
      "loss: 0.1820, accuracy: 0.69, precision: 0.74, recall: 0.09, f1: 0.16\n",
      "loss: 0.1827, accuracy: 0.69, precision: 0.74, recall: 0.09, f1: 0.17\n",
      "loss: 0.1836, accuracy: 0.69, precision: 0.74, recall: 0.10, f1: 0.17\n",
      "loss: 0.1826, accuracy: 0.69, precision: 0.74, recall: 0.10, f1: 0.17\n",
      "loss: 0.1826, accuracy: 0.69, precision: 0.74, recall: 0.09, f1: 0.16\n",
      "loss: 0.1837, accuracy: 0.69, precision: 0.73, recall: 0.10, f1: 0.17\n",
      "\n"
     ]
    },
    {
     "data": {
      "application/vnd.jupyter.widget-view+json": {
       "model_id": "5288a857af3b4a8695c47acc09d81671",
       "version_major": 2,
       "version_minor": 0
      },
      "text/plain": [
       "HBox(children=(FloatProgress(value=0.0, max=91.0), HTML(value='')))"
      ]
     },
     "metadata": {},
     "output_type": "display_data"
    },
    {
     "name": "stdout",
     "output_type": "stream",
     "text": [
      "loss: 0.1822, accuracy: 0.69, precision: 0.75, recall: 0.09, f1: 0.16\n",
      "loss: 0.1816, accuracy: 0.69, precision: 0.74, recall: 0.09, f1: 0.17\n",
      "loss: 0.1810, accuracy: 0.69, precision: 0.75, recall: 0.09, f1: 0.16\n",
      "loss: 0.1844, accuracy: 0.68, precision: 0.74, recall: 0.09, f1: 0.17\n",
      "loss: 0.1819, accuracy: 0.69, precision: 0.75, recall: 0.09, f1: 0.16\n",
      "loss: 0.1812, accuracy: 0.69, precision: 0.74, recall: 0.10, f1: 0.17\n",
      "loss: 0.1827, accuracy: 0.69, precision: 0.73, recall: 0.09, f1: 0.16\n",
      "loss: 0.1821, accuracy: 0.69, precision: 0.74, recall: 0.09, f1: 0.17\n",
      "loss: 0.1817, accuracy: 0.69, precision: 0.75, recall: 0.09, f1: 0.17\n",
      "loss: 0.1800, accuracy: 0.69, precision: 0.77, recall: 0.10, f1: 0.17\n",
      "\n"
     ]
    },
    {
     "data": {
      "application/vnd.jupyter.widget-view+json": {
       "model_id": "a058c75b82144611b7f1cec1f8b8d8e6",
       "version_major": 2,
       "version_minor": 0
      },
      "text/plain": [
       "HBox(children=(FloatProgress(value=0.0, max=91.0), HTML(value='')))"
      ]
     },
     "metadata": {},
     "output_type": "display_data"
    },
    {
     "name": "stdout",
     "output_type": "stream",
     "text": [
      "loss: 0.1817, accuracy: 0.69, precision: 0.75, recall: 0.09, f1: 0.16\n",
      "loss: 0.1819, accuracy: 0.69, precision: 0.75, recall: 0.09, f1: 0.16\n",
      "loss: 0.1826, accuracy: 0.69, precision: 0.73, recall: 0.09, f1: 0.17\n",
      "loss: 0.1818, accuracy: 0.69, precision: 0.74, recall: 0.09, f1: 0.16\n",
      "loss: 0.1811, accuracy: 0.69, precision: 0.75, recall: 0.09, f1: 0.16\n",
      "loss: 0.1829, accuracy: 0.69, precision: 0.74, recall: 0.09, f1: 0.16\n",
      "loss: 0.1835, accuracy: 0.69, precision: 0.74, recall: 0.10, f1: 0.17\n",
      "loss: 0.1825, accuracy: 0.69, precision: 0.74, recall: 0.10, f1: 0.17\n",
      "loss: 0.1815, accuracy: 0.69, precision: 0.74, recall: 0.09, f1: 0.17\n",
      "loss: 0.1816, accuracy: 0.69, precision: 0.74, recall: 0.10, f1: 0.17\n",
      "\n"
     ]
    },
    {
     "data": {
      "application/vnd.jupyter.widget-view+json": {
       "model_id": "01307367110c49948ba4ab2eae155861",
       "version_major": 2,
       "version_minor": 0
      },
      "text/plain": [
       "HBox(children=(FloatProgress(value=0.0, max=91.0), HTML(value='')))"
      ]
     },
     "metadata": {},
     "output_type": "display_data"
    },
    {
     "name": "stdout",
     "output_type": "stream",
     "text": [
      "loss: 0.1811, accuracy: 0.69, precision: 0.74, recall: 0.10, f1: 0.18\n",
      "loss: 0.1818, accuracy: 0.69, precision: 0.75, recall: 0.09, f1: 0.16\n",
      "loss: 0.1815, accuracy: 0.69, precision: 0.75, recall: 0.09, f1: 0.17\n",
      "loss: 0.1822, accuracy: 0.69, precision: 0.75, recall: 0.09, f1: 0.16\n",
      "loss: 0.1829, accuracy: 0.69, precision: 0.73, recall: 0.09, f1: 0.16\n",
      "loss: 0.1828, accuracy: 0.69, precision: 0.74, recall: 0.09, f1: 0.16\n",
      "loss: 0.1828, accuracy: 0.69, precision: 0.73, recall: 0.09, f1: 0.17\n",
      "loss: 0.1827, accuracy: 0.69, precision: 0.75, recall: 0.09, f1: 0.16\n",
      "loss: 0.1809, accuracy: 0.69, precision: 0.75, recall: 0.09, f1: 0.16\n",
      "loss: 0.1807, accuracy: 0.69, precision: 0.72, recall: 0.09, f1: 0.16\n",
      "\n"
     ]
    },
    {
     "data": {
      "application/vnd.jupyter.widget-view+json": {
       "model_id": "af95577161f5409582b27f95b05c7505",
       "version_major": 2,
       "version_minor": 0
      },
      "text/plain": [
       "HBox(children=(FloatProgress(value=0.0, max=91.0), HTML(value='')))"
      ]
     },
     "metadata": {},
     "output_type": "display_data"
    },
    {
     "name": "stdout",
     "output_type": "stream",
     "text": [
      "loss: 0.1814, accuracy: 0.69, precision: 0.74, recall: 0.09, f1: 0.15\n",
      "loss: 0.1832, accuracy: 0.69, precision: 0.74, recall: 0.09, f1: 0.16\n",
      "loss: 0.1805, accuracy: 0.69, precision: 0.74, recall: 0.10, f1: 0.17\n",
      "loss: 0.1822, accuracy: 0.69, precision: 0.73, recall: 0.09, f1: 0.16\n",
      "loss: 0.1839, accuracy: 0.69, precision: 0.74, recall: 0.10, f1: 0.17\n",
      "loss: 0.1815, accuracy: 0.69, precision: 0.75, recall: 0.09, f1: 0.17\n",
      "loss: 0.1819, accuracy: 0.69, precision: 0.74, recall: 0.09, f1: 0.16\n",
      "loss: 0.1814, accuracy: 0.69, precision: 0.75, recall: 0.10, f1: 0.17\n",
      "loss: 0.1830, accuracy: 0.68, precision: 0.74, recall: 0.09, f1: 0.16\n",
      "loss: 0.1787, accuracy: 0.69, precision: 0.74, recall: 0.10, f1: 0.18\n",
      "\n"
     ]
    },
    {
     "data": {
      "application/vnd.jupyter.widget-view+json": {
       "model_id": "e0e9132f666d45eaa223948697344b6a",
       "version_major": 2,
       "version_minor": 0
      },
      "text/plain": [
       "HBox(children=(FloatProgress(value=0.0, max=91.0), HTML(value='')))"
      ]
     },
     "metadata": {},
     "output_type": "display_data"
    },
    {
     "name": "stdout",
     "output_type": "stream",
     "text": [
      "loss: 0.1822, accuracy: 0.69, precision: 0.75, recall: 0.09, f1: 0.16\n",
      "loss: 0.1826, accuracy: 0.69, precision: 0.73, recall: 0.09, f1: 0.17\n",
      "loss: 0.1815, accuracy: 0.69, precision: 0.74, recall: 0.10, f1: 0.17\n",
      "loss: 0.1819, accuracy: 0.69, precision: 0.74, recall: 0.09, f1: 0.16\n",
      "loss: 0.1808, accuracy: 0.69, precision: 0.75, recall: 0.10, f1: 0.18\n",
      "loss: 0.1825, accuracy: 0.69, precision: 0.74, recall: 0.09, f1: 0.16\n",
      "loss: 0.1822, accuracy: 0.69, precision: 0.74, recall: 0.09, f1: 0.17\n",
      "loss: 0.1821, accuracy: 0.69, precision: 0.73, recall: 0.09, f1: 0.16\n",
      "loss: 0.1816, accuracy: 0.69, precision: 0.74, recall: 0.10, f1: 0.17\n",
      "loss: 0.1813, accuracy: 0.70, precision: 0.73, recall: 0.10, f1: 0.18\n",
      "\n"
     ]
    },
    {
     "data": {
      "application/vnd.jupyter.widget-view+json": {
       "model_id": "aef248b997b64c55b78ebb19d0d1e513",
       "version_major": 2,
       "version_minor": 0
      },
      "text/plain": [
       "HBox(children=(FloatProgress(value=0.0, max=91.0), HTML(value='')))"
      ]
     },
     "metadata": {},
     "output_type": "display_data"
    },
    {
     "name": "stdout",
     "output_type": "stream",
     "text": [
      "loss: 0.1813, accuracy: 0.69, precision: 0.74, recall: 0.09, f1: 0.16\n",
      "loss: 0.1822, accuracy: 0.69, precision: 0.74, recall: 0.10, f1: 0.17\n",
      "loss: 0.1812, accuracy: 0.69, precision: 0.74, recall: 0.09, f1: 0.17\n",
      "loss: 0.1813, accuracy: 0.69, precision: 0.75, recall: 0.09, f1: 0.17\n",
      "loss: 0.1823, accuracy: 0.69, precision: 0.75, recall: 0.10, f1: 0.18\n",
      "loss: 0.1820, accuracy: 0.69, precision: 0.74, recall: 0.09, f1: 0.16\n",
      "loss: 0.1818, accuracy: 0.69, precision: 0.74, recall: 0.09, f1: 0.16\n",
      "loss: 0.1825, accuracy: 0.69, precision: 0.74, recall: 0.09, f1: 0.16\n",
      "loss: 0.1824, accuracy: 0.69, precision: 0.74, recall: 0.09, f1: 0.16\n",
      "loss: 0.1821, accuracy: 0.69, precision: 0.72, recall: 0.10, f1: 0.17\n",
      "\n"
     ]
    },
    {
     "data": {
      "application/vnd.jupyter.widget-view+json": {
       "model_id": "ea3e5a9485d34bc4b3ee23c6dac38eab",
       "version_major": 2,
       "version_minor": 0
      },
      "text/plain": [
       "HBox(children=(FloatProgress(value=0.0, max=91.0), HTML(value='')))"
      ]
     },
     "metadata": {},
     "output_type": "display_data"
    },
    {
     "name": "stdout",
     "output_type": "stream",
     "text": [
      "loss: 0.1825, accuracy: 0.68, precision: 0.74, recall: 0.09, f1: 0.16\n",
      "loss: 0.1806, accuracy: 0.69, precision: 0.75, recall: 0.09, f1: 0.16\n",
      "loss: 0.1820, accuracy: 0.69, precision: 0.74, recall: 0.09, f1: 0.16\n",
      "loss: 0.1820, accuracy: 0.69, precision: 0.74, recall: 0.09, f1: 0.16\n",
      "loss: 0.1815, accuracy: 0.69, precision: 0.74, recall: 0.09, f1: 0.17\n",
      "loss: 0.1816, accuracy: 0.69, precision: 0.75, recall: 0.10, f1: 0.17\n",
      "loss: 0.1820, accuracy: 0.69, precision: 0.74, recall: 0.09, f1: 0.17\n",
      "loss: 0.1823, accuracy: 0.69, precision: 0.75, recall: 0.09, f1: 0.16\n",
      "loss: 0.1814, accuracy: 0.69, precision: 0.74, recall: 0.09, f1: 0.17\n",
      "loss: 0.1782, accuracy: 0.69, precision: 0.77, recall: 0.11, f1: 0.19\n",
      "\n"
     ]
    },
    {
     "data": {
      "application/vnd.jupyter.widget-view+json": {
       "model_id": "ccbbf6c69f624f46966f634baba1492d",
       "version_major": 2,
       "version_minor": 0
      },
      "text/plain": [
       "HBox(children=(FloatProgress(value=0.0, max=91.0), HTML(value='')))"
      ]
     },
     "metadata": {},
     "output_type": "display_data"
    },
    {
     "name": "stdout",
     "output_type": "stream",
     "text": [
      "loss: 0.1829, accuracy: 0.69, precision: 0.74, recall: 0.09, f1: 0.16\n",
      "loss: 0.1826, accuracy: 0.69, precision: 0.74, recall: 0.09, f1: 0.16\n",
      "loss: 0.1820, accuracy: 0.69, precision: 0.74, recall: 0.09, f1: 0.16\n",
      "loss: 0.1817, accuracy: 0.69, precision: 0.74, recall: 0.09, f1: 0.16\n",
      "loss: 0.1811, accuracy: 0.69, precision: 0.74, recall: 0.10, f1: 0.18\n",
      "loss: 0.1818, accuracy: 0.69, precision: 0.74, recall: 0.09, f1: 0.16\n",
      "loss: 0.1818, accuracy: 0.69, precision: 0.74, recall: 0.09, f1: 0.16\n",
      "loss: 0.1825, accuracy: 0.69, precision: 0.74, recall: 0.09, f1: 0.16\n",
      "loss: 0.1817, accuracy: 0.69, precision: 0.74, recall: 0.09, f1: 0.16\n",
      "loss: 0.1793, accuracy: 0.69, precision: 0.76, recall: 0.09, f1: 0.16\n",
      "\n"
     ]
    },
    {
     "data": {
      "application/vnd.jupyter.widget-view+json": {
       "model_id": "ab1497df989c4330ae207028047b2db1",
       "version_major": 2,
       "version_minor": 0
      },
      "text/plain": [
       "HBox(children=(FloatProgress(value=0.0, max=91.0), HTML(value='')))"
      ]
     },
     "metadata": {},
     "output_type": "display_data"
    },
    {
     "name": "stdout",
     "output_type": "stream",
     "text": [
      "loss: 0.1805, accuracy: 0.69, precision: 0.74, recall: 0.09, f1: 0.17\n",
      "loss: 0.1823, accuracy: 0.68, precision: 0.75, recall: 0.09, f1: 0.16\n",
      "loss: 0.1818, accuracy: 0.69, precision: 0.73, recall: 0.09, f1: 0.16\n",
      "loss: 0.1823, accuracy: 0.68, precision: 0.74, recall: 0.09, f1: 0.16\n",
      "loss: 0.1816, accuracy: 0.69, precision: 0.75, recall: 0.10, f1: 0.17\n",
      "loss: 0.1828, accuracy: 0.69, precision: 0.74, recall: 0.10, f1: 0.17\n",
      "loss: 0.1831, accuracy: 0.69, precision: 0.74, recall: 0.09, f1: 0.16\n",
      "loss: 0.1831, accuracy: 0.69, precision: 0.74, recall: 0.10, f1: 0.17\n",
      "loss: 0.1815, accuracy: 0.69, precision: 0.75, recall: 0.09, f1: 0.16\n",
      "loss: 0.1870, accuracy: 0.68, precision: 0.78, recall: 0.09, f1: 0.17\n",
      "\n"
     ]
    },
    {
     "data": {
      "application/vnd.jupyter.widget-view+json": {
       "model_id": "9af4367d8127457a9bda1990e5e6efcb",
       "version_major": 2,
       "version_minor": 0
      },
      "text/plain": [
       "HBox(children=(FloatProgress(value=0.0, max=91.0), HTML(value='')))"
      ]
     },
     "metadata": {},
     "output_type": "display_data"
    },
    {
     "name": "stdout",
     "output_type": "stream",
     "text": [
      "loss: 0.1824, accuracy: 0.69, precision: 0.75, recall: 0.09, f1: 0.17\n",
      "loss: 0.1837, accuracy: 0.69, precision: 0.75, recall: 0.09, f1: 0.17\n",
      "loss: 0.1822, accuracy: 0.69, precision: 0.74, recall: 0.09, f1: 0.16\n",
      "loss: 0.1811, accuracy: 0.69, precision: 0.74, recall: 0.09, f1: 0.17\n",
      "loss: 0.1816, accuracy: 0.69, precision: 0.75, recall: 0.09, f1: 0.17\n",
      "loss: 0.1820, accuracy: 0.69, precision: 0.74, recall: 0.10, f1: 0.17\n",
      "loss: 0.1827, accuracy: 0.69, precision: 0.74, recall: 0.09, f1: 0.16\n",
      "loss: 0.1821, accuracy: 0.69, precision: 0.74, recall: 0.09, f1: 0.17\n",
      "loss: 0.1838, accuracy: 0.69, precision: 0.74, recall: 0.09, f1: 0.16\n",
      "loss: 0.1818, accuracy: 0.69, precision: 0.74, recall: 0.08, f1: 0.15\n",
      "\n"
     ]
    },
    {
     "data": {
      "application/vnd.jupyter.widget-view+json": {
       "model_id": "7d1e545810ea40f7bac71dbe34c92dd9",
       "version_major": 2,
       "version_minor": 0
      },
      "text/plain": [
       "HBox(children=(FloatProgress(value=0.0, max=91.0), HTML(value='')))"
      ]
     },
     "metadata": {},
     "output_type": "display_data"
    },
    {
     "name": "stdout",
     "output_type": "stream",
     "text": [
      "loss: 0.1815, accuracy: 0.69, precision: 0.74, recall: 0.09, f1: 0.16\n",
      "loss: 0.1833, accuracy: 0.69, precision: 0.74, recall: 0.09, f1: 0.16\n",
      "loss: 0.1819, accuracy: 0.69, precision: 0.75, recall: 0.09, f1: 0.16\n",
      "loss: 0.1817, accuracy: 0.69, precision: 0.74, recall: 0.10, f1: 0.17\n",
      "loss: 0.1823, accuracy: 0.69, precision: 0.75, recall: 0.09, f1: 0.17\n",
      "loss: 0.1817, accuracy: 0.69, precision: 0.73, recall: 0.09, f1: 0.16\n",
      "loss: 0.1820, accuracy: 0.69, precision: 0.74, recall: 0.09, f1: 0.17\n",
      "loss: 0.1828, accuracy: 0.69, precision: 0.74, recall: 0.09, f1: 0.16\n",
      "loss: 0.1812, accuracy: 0.69, precision: 0.74, recall: 0.10, f1: 0.17\n",
      "loss: 0.1792, accuracy: 0.69, precision: 0.77, recall: 0.09, f1: 0.17\n",
      "\n"
     ]
    },
    {
     "data": {
      "application/vnd.jupyter.widget-view+json": {
       "model_id": "11768ba171f84ec98e30a8cff35cb6fd",
       "version_major": 2,
       "version_minor": 0
      },
      "text/plain": [
       "HBox(children=(FloatProgress(value=0.0, max=91.0), HTML(value='')))"
      ]
     },
     "metadata": {},
     "output_type": "display_data"
    },
    {
     "name": "stdout",
     "output_type": "stream",
     "text": [
      "loss: 0.1824, accuracy: 0.69, precision: 0.74, recall: 0.09, f1: 0.16\n",
      "loss: 0.1830, accuracy: 0.69, precision: 0.75, recall: 0.09, f1: 0.16\n",
      "loss: 0.1826, accuracy: 0.69, precision: 0.74, recall: 0.09, f1: 0.17\n",
      "loss: 0.1809, accuracy: 0.69, precision: 0.75, recall: 0.09, f1: 0.16\n",
      "loss: 0.1829, accuracy: 0.69, precision: 0.74, recall: 0.09, f1: 0.17\n",
      "loss: 0.1831, accuracy: 0.68, precision: 0.74, recall: 0.09, f1: 0.16\n",
      "loss: 0.1817, accuracy: 0.69, precision: 0.74, recall: 0.09, f1: 0.16\n",
      "loss: 0.1820, accuracy: 0.69, precision: 0.75, recall: 0.09, f1: 0.16\n",
      "loss: 0.1824, accuracy: 0.69, precision: 0.74, recall: 0.09, f1: 0.17\n",
      "loss: 0.1809, accuracy: 0.69, precision: 0.74, recall: 0.09, f1: 0.16\n",
      "\n"
     ]
    },
    {
     "data": {
      "application/vnd.jupyter.widget-view+json": {
       "model_id": "8dc9f4a0019a411fb4c80e0abaedde1e",
       "version_major": 2,
       "version_minor": 0
      },
      "text/plain": [
       "HBox(children=(FloatProgress(value=0.0, max=91.0), HTML(value='')))"
      ]
     },
     "metadata": {},
     "output_type": "display_data"
    },
    {
     "name": "stdout",
     "output_type": "stream",
     "text": [
      "loss: 0.1813, accuracy: 0.69, precision: 0.75, recall: 0.09, f1: 0.16\n",
      "loss: 0.1825, accuracy: 0.69, precision: 0.75, recall: 0.10, f1: 0.17\n",
      "loss: 0.1828, accuracy: 0.69, precision: 0.73, recall: 0.10, f1: 0.18\n",
      "loss: 0.1830, accuracy: 0.69, precision: 0.74, recall: 0.09, f1: 0.17\n",
      "loss: 0.1822, accuracy: 0.69, precision: 0.74, recall: 0.10, f1: 0.18\n",
      "loss: 0.1820, accuracy: 0.69, precision: 0.75, recall: 0.09, f1: 0.16\n",
      "loss: 0.1815, accuracy: 0.69, precision: 0.75, recall: 0.09, f1: 0.16\n",
      "loss: 0.1831, accuracy: 0.69, precision: 0.75, recall: 0.09, f1: 0.16\n",
      "loss: 0.1820, accuracy: 0.69, precision: 0.75, recall: 0.09, f1: 0.16\n",
      "loss: 0.1816, accuracy: 0.69, precision: 0.74, recall: 0.10, f1: 0.17\n",
      "\n"
     ]
    },
    {
     "data": {
      "application/vnd.jupyter.widget-view+json": {
       "model_id": "1376ecbc89a648af9fcb156eb40a70b0",
       "version_major": 2,
       "version_minor": 0
      },
      "text/plain": [
       "HBox(children=(FloatProgress(value=0.0, max=91.0), HTML(value='')))"
      ]
     },
     "metadata": {},
     "output_type": "display_data"
    },
    {
     "name": "stdout",
     "output_type": "stream",
     "text": [
      "loss: 0.1819, accuracy: 0.69, precision: 0.75, recall: 0.10, f1: 0.17\n",
      "loss: 0.1813, accuracy: 0.69, precision: 0.74, recall: 0.09, f1: 0.16\n",
      "loss: 0.1809, accuracy: 0.69, precision: 0.74, recall: 0.10, f1: 0.17\n",
      "loss: 0.1830, accuracy: 0.69, precision: 0.74, recall: 0.09, f1: 0.16\n",
      "loss: 0.1814, accuracy: 0.69, precision: 0.75, recall: 0.10, f1: 0.17\n",
      "loss: 0.1825, accuracy: 0.69, precision: 0.75, recall: 0.09, f1: 0.16\n",
      "loss: 0.1820, accuracy: 0.69, precision: 0.74, recall: 0.10, f1: 0.17\n",
      "loss: 0.1813, accuracy: 0.69, precision: 0.75, recall: 0.10, f1: 0.17\n",
      "loss: 0.1815, accuracy: 0.69, precision: 0.74, recall: 0.10, f1: 0.17\n",
      "loss: 0.1843, accuracy: 0.68, precision: 0.74, recall: 0.09, f1: 0.16\n",
      "\n"
     ]
    },
    {
     "data": {
      "application/vnd.jupyter.widget-view+json": {
       "model_id": "db25e3200dbd464f9d246b2f3cd8b77c",
       "version_major": 2,
       "version_minor": 0
      },
      "text/plain": [
       "HBox(children=(FloatProgress(value=0.0, max=91.0), HTML(value='')))"
      ]
     },
     "metadata": {},
     "output_type": "display_data"
    },
    {
     "name": "stdout",
     "output_type": "stream",
     "text": [
      "loss: 0.1829, accuracy: 0.69, precision: 0.74, recall: 0.09, f1: 0.16\n",
      "loss: 0.1822, accuracy: 0.69, precision: 0.73, recall: 0.09, f1: 0.16\n",
      "loss: 0.1819, accuracy: 0.69, precision: 0.74, recall: 0.09, f1: 0.16\n",
      "loss: 0.1816, accuracy: 0.69, precision: 0.74, recall: 0.09, f1: 0.16\n",
      "loss: 0.1811, accuracy: 0.69, precision: 0.74, recall: 0.09, f1: 0.16\n",
      "loss: 0.1822, accuracy: 0.69, precision: 0.74, recall: 0.09, f1: 0.16\n",
      "loss: 0.1830, accuracy: 0.69, precision: 0.74, recall: 0.10, f1: 0.17\n",
      "loss: 0.1820, accuracy: 0.69, precision: 0.74, recall: 0.10, f1: 0.17\n",
      "loss: 0.1820, accuracy: 0.69, precision: 0.75, recall: 0.08, f1: 0.15\n",
      "loss: 0.1877, accuracy: 0.67, precision: 0.75, recall: 0.08, f1: 0.15\n",
      "\n"
     ]
    },
    {
     "data": {
      "application/vnd.jupyter.widget-view+json": {
       "model_id": "6be422a5d6d649fc996552d5b6b21065",
       "version_major": 2,
       "version_minor": 0
      },
      "text/plain": [
       "HBox(children=(FloatProgress(value=0.0, max=91.0), HTML(value='')))"
      ]
     },
     "metadata": {},
     "output_type": "display_data"
    },
    {
     "name": "stdout",
     "output_type": "stream",
     "text": [
      "loss: 0.1826, accuracy: 0.69, precision: 0.75, recall: 0.10, f1: 0.17\n",
      "loss: 0.1820, accuracy: 0.69, precision: 0.73, recall: 0.09, f1: 0.17\n",
      "loss: 0.1828, accuracy: 0.69, precision: 0.74, recall: 0.09, f1: 0.16\n",
      "loss: 0.1817, accuracy: 0.69, precision: 0.74, recall: 0.09, f1: 0.16\n",
      "loss: 0.1807, accuracy: 0.69, precision: 0.75, recall: 0.10, f1: 0.17\n",
      "loss: 0.1817, accuracy: 0.69, precision: 0.74, recall: 0.09, f1: 0.16\n",
      "loss: 0.1823, accuracy: 0.69, precision: 0.74, recall: 0.10, f1: 0.18\n",
      "loss: 0.1820, accuracy: 0.69, precision: 0.75, recall: 0.09, f1: 0.16\n",
      "loss: 0.1830, accuracy: 0.68, precision: 0.75, recall: 0.10, f1: 0.17\n",
      "loss: 0.1817, accuracy: 0.69, precision: 0.74, recall: 0.08, f1: 0.15\n",
      "\n"
     ]
    },
    {
     "data": {
      "application/vnd.jupyter.widget-view+json": {
       "model_id": "917a4c4e9ce14a7e9910b6a11ac4c743",
       "version_major": 2,
       "version_minor": 0
      },
      "text/plain": [
       "HBox(children=(FloatProgress(value=0.0, max=91.0), HTML(value='')))"
      ]
     },
     "metadata": {},
     "output_type": "display_data"
    },
    {
     "name": "stdout",
     "output_type": "stream",
     "text": [
      "loss: 0.1828, accuracy: 0.69, precision: 0.75, recall: 0.09, f1: 0.16\n",
      "loss: 0.1819, accuracy: 0.69, precision: 0.74, recall: 0.09, f1: 0.16\n",
      "loss: 0.1830, accuracy: 0.69, precision: 0.74, recall: 0.09, f1: 0.17\n",
      "loss: 0.1830, accuracy: 0.69, precision: 0.74, recall: 0.09, f1: 0.16\n",
      "loss: 0.1824, accuracy: 0.69, precision: 0.75, recall: 0.09, f1: 0.16\n",
      "loss: 0.1815, accuracy: 0.69, precision: 0.75, recall: 0.09, f1: 0.16\n",
      "loss: 0.1813, accuracy: 0.69, precision: 0.74, recall: 0.09, f1: 0.16\n",
      "loss: 0.1827, accuracy: 0.69, precision: 0.74, recall: 0.10, f1: 0.17\n",
      "\n"
     ]
    },
    {
     "data": {
      "application/vnd.jupyter.widget-view+json": {
       "model_id": "17d41ba35096413a9f3b6795fad126be",
       "version_major": 2,
       "version_minor": 0
      },
      "text/plain": [
       "HBox(children=(FloatProgress(value=0.0, max=91.0), HTML(value='')))"
      ]
     },
     "metadata": {},
     "output_type": "display_data"
    },
    {
     "name": "stdout",
     "output_type": "stream",
     "text": [
      "loss: 0.1831, accuracy: 0.69, precision: 0.74, recall: 0.10, f1: 0.17\n",
      "loss: 0.1821, accuracy: 0.69, precision: 0.74, recall: 0.10, f1: 0.17\n",
      "loss: 0.1829, accuracy: 0.69, precision: 0.74, recall: 0.10, f1: 0.17\n",
      "loss: 0.1807, accuracy: 0.69, precision: 0.75, recall: 0.09, f1: 0.17\n",
      "loss: 0.1825, accuracy: 0.69, precision: 0.74, recall: 0.09, f1: 0.16\n",
      "loss: 0.1839, accuracy: 0.69, precision: 0.74, recall: 0.09, f1: 0.16\n",
      "\n"
     ]
    },
    {
     "data": {
      "application/vnd.jupyter.widget-view+json": {
       "model_id": "aec796f623fa4eb6836fa73f8ae4bfda",
       "version_major": 2,
       "version_minor": 0
      },
      "text/plain": [
       "HBox(children=(FloatProgress(value=0.0, max=91.0), HTML(value='')))"
      ]
     },
     "metadata": {},
     "output_type": "display_data"
    },
    {
     "name": "stdout",
     "output_type": "stream",
     "text": [
      "loss: 0.1819, accuracy: 0.69, precision: 0.73, recall: 0.09, f1: 0.17\n",
      "loss: 0.1823, accuracy: 0.69, precision: 0.74, recall: 0.09, f1: 0.16\n",
      "loss: 0.1820, accuracy: 0.69, precision: 0.75, recall: 0.10, f1: 0.17\n"
     ]
    }
   ],
   "source": [
    "for epoch in range(9999):\n",
    "    real_epoch += 1\n",
    "    model.train()\n",
    "    loss_all, acc_all, prec_all, rec_all, f1_all = [], [], [], [], []\n",
    "    for itr, batch in enumerate(tqdm(loader)):\n",
    "        batch = batch.to('cuda:3')\n",
    "        optimizer.zero_grad()\n",
    "        logits = model(batch)\n",
    "        label = batch.y\n",
    "        loss = F.mse_loss(logits, label)\n",
    "        loss.backward()\n",
    "        optimizer.step()\n",
    "        pred = (logits > 0.5).long()\n",
    "        accuracy = metrics.accuracy_score(pred.detach().cpu(), label.detach().cpu())\n",
    "        precision = metrics.precision_score(pred.detach().cpu(), label.detach().cpu())\n",
    "        recall = metrics.recall_score(pred.detach().cpu(), label.detach().cpu())\n",
    "        f1 = metrics.f1_score(pred.detach().cpu(), label.detach().cpu())\n",
    "        loss_all += [loss.item()]\n",
    "        acc_all += [accuracy]\n",
    "        prec_all += [precision]\n",
    "        rec_all += [recall]\n",
    "        f1_all += [f1]\n",
    "        if itr % 10 == 0:\n",
    "            print(f'loss: {loss.item():.4f}, accuracy: {accuracy:.2f}, precision: {precision:.2f}, recall: {recall:.2f}, f1: {f1:.2f}')\n",
    "#             p, r, t = metrics.precision_recall_curve(label.cpu().numpy(), logits.detach().cpu().numpy())\n",
    "#             plt.plot(p, r, 'o-')\n",
    "#             plt.show()\n",
    "    print(f'[{real_epoch}] loss: {np.mean(loss_all):.4f}, accuracy: {np.mean(acc_all):.2f}, precision: {np.mean(prec_all):.2f}, recall: {np.mean(rec_all):.2f}, f1: {np.mean(f1_all):.2f}', file=open('edge_pred.log', 'a'))\n",
    "    torch.save(model.state_dict(), open('edge_pred.pt', 'wb'))\n",
    "    scheduler.step()"
   ]
  },
  {
   "cell_type": "code",
   "execution_count": 6,
   "metadata": {},
   "outputs": [],
   "source": [
    "model.load_state_dict(torch.load(open('edge_pred.pt', 'rb')))\n",
    "loader = DataLoader(data_list, batch_size=32, shuffle=True)"
   ]
  },
  {
   "cell_type": "code",
   "execution_count": null,
   "metadata": {},
   "outputs": [],
   "source": [
    "for batch in tqdm(loader):\n",
    "    batch = batch.to('cuda:3')\n",
    "    out = model(batch)\n",
    "    pred = (out[batch.edge_index[0]] * out[batch.edge_index[1]]).sum(dim=1).sigmoid() \n",
    "    acc = ((pred > 0) == (batch.y > 0)).float().mean()\n",
    "    print(acc.item())"
   ]
  },
  {
   "cell_type": "code",
   "execution_count": 125,
   "metadata": {},
   "outputs": [],
   "source": [
    "data = generate_data(G_list[0])"
   ]
  },
  {
   "cell_type": "code",
   "execution_count": 126,
   "metadata": {},
   "outputs": [],
   "source": [
    "start_index = data.orig_edge_index[0]\n",
    "end_index = data.orig_edge_index[1]\n",
    "n = random.randrange(1, data.num_nodes // 2)\n",
    "new_start_index = data.num_nodes + np.arange(n)\n",
    "new_end_index = random.choices(start_index, k=n)\n",
    "start_index = torch.cat([start_index, torch.tensor(new_start_index).type_as(start_index)])\n",
    "end_index = torch.cat([end_index, torch.tensor(new_end_index).type_as(end_index)])\n",
    "data.orig_edge_index = torch.stack([start_index, end_index])"
   ]
  },
  {
   "cell_type": "code",
   "execution_count": 127,
   "metadata": {},
   "outputs": [
    {
     "data": {
      "text/plain": [
       "Data(edge_attr=[306, 2], edge_index=[2, 306], orig_edge_index=[2, 40], pos=[18, 2], y=[306])"
      ]
     },
     "execution_count": 127,
     "metadata": {},
     "output_type": "execute_result"
    }
   ],
   "source": [
    "data"
   ]
  },
  {
   "cell_type": "code",
   "execution_count": 52,
   "metadata": {},
   "outputs": [
    {
     "data": {
      "text/plain": [
       "18"
      ]
     },
     "execution_count": 52,
     "metadata": {},
     "output_type": "execute_result"
    }
   ],
   "source": [
    "data.num_nodes"
   ]
  },
  {
   "cell_type": "code",
   "execution_count": 42,
   "metadata": {},
   "outputs": [
    {
     "data": {
      "image/png": "[encoded data removed]",
      "text/plain": [
       "<Figure size 432x288 with 1 Axes>"
      ]
     },
     "metadata": {},
     "output_type": "display_data"
    }
   ],
   "source": [
    "visualize_graph(data)"
   ]
  },
  {
   "cell_type": "code",
   "execution_count": 13,
   "metadata": {},
   "outputs": [
    {
     "data": {
      "text/plain": [
       "<networkx.classes.graph.Graph at 0x7fcc8946c790>"
      ]
     },
     "execution_count": 13,
     "metadata": {},
     "output_type": "execute_result"
    }
   ],
   "source": [
    "torch_geometric.utils.to_networkx(data_list[0], to_undirected=True)"
   ]
  },
  {
   "cell_type": "code",
   "execution_count": 24,
   "metadata": {},
   "outputs": [
    {
     "data": {
      "text/plain": [
       "EdgeView([('n0', 'n9'), ('n0', 'n11'), ('n1', 'n9'), ('n1', 'n6'), ('n2', 'n9'), ('n3', 'n16'), ('n4', 'n12'), ('n4', 'n13'), ('n4', 'n14'), ('n4', 'n17'), ('n5', 'n13'), ('n5', 'n10'), ('n5', 'n15'), ('n6', 'n10'), ('n7', 'n10'), ('n8', 'n15'), ('n11', 'n16')])"
      ]
     },
     "execution_count": 24,
     "metadata": {},
     "output_type": "execute_result"
    }
   ],
   "source": [
    "G_list[0]"
   ]
  },
  {
   "cell_type": "code",
   "execution_count": 68,
   "metadata": {},
   "outputs": [
    {
     "name": "stderr",
     "output_type": "stream",
     "text": [
      "/opt/conda/lib/python3.7/site-packages/ipykernel_launcher.py:6: RuntimeWarning: More than 20 figures have been opened. Figures created through the pyplot interface (`matplotlib.pyplot.figure`) are retained until explicitly closed and may consume too much memory. (To control this warning, see the rcParam `figure.max_open_warning`).\n",
      "  \n"
     ]
    },
    {
     "data": {
      "image/png": "[encoded data removed]",
      "text/plain": [
       "<Figure size 432x288 with 1 Axes>"
      ]
     },
     "metadata": {
      "needs_background": "light"
     },
     "output_type": "display_data"
    },
    {
     "data": {
      "image/png": "[encoded data removed]",
      "text/plain": [
       "<Figure size 432x288 with 1 Axes>"
      ]
     },
     "metadata": {
      "needs_background": "light"
     },
     "output_type": "display_data"
    },
    {
     "data": {
      "image/png": "[encoded data removed]",
      "text/plain": [
       "<Figure size 432x288 with 1 Axes>"
      ]
     },
     "metadata": {
      "needs_background": "light"
     },
     "output_type": "display_data"
    },
    {
     "data": {
      "image/png": "[encoded data removed]",
      "text/plain": [
       "<Figure size 432x288 with 1 Axes>"
      ]
     },
     "metadata": {
      "needs_background": "light"
     },
     "output_type": "display_data"
    },
    {
     "data": {
      "image/png": "[encoded data removed]",
      "text/plain": [
       "<Figure size 432x288 with 1 Axes>"
      ]
     },
     "metadata": {
      "needs_background": "light"
     },
     "output_type": "display_data"
    },
    {
     "data": {
      "image/png": "[encoded data removed]",
      "text/plain": [
       "<Figure size 432x288 with 1 Axes>"
      ]
     },
     "metadata": {
      "needs_background": "light"
     },
     "output_type": "display_data"
    },
    {
     "data": {
      "image/png": "[encoded data removed]",
      "text/plain": [
       "<Figure size 432x288 with 1 Axes>"
      ]
     },
     "metadata": {
      "needs_background": "light"
     },
     "output_type": "display_data"
    },
    {
     "data": {
      "image/png": "[encoded data removed]",
      "text/plain": [
       "<Figure size 432x288 with 1 Axes>"
      ]
     },
     "metadata": {
      "needs_background": "light"
     },
     "output_type": "display_data"
    },
    {
     "data": {
      "image/png": "[encoded data removed]",
      "text/plain": [
       "<Figure size 432x288 with 1 Axes>"
      ]
     },
     "metadata": {
      "needs_background": "light"
     },
     "output_type": "display_data"
    },
    {
     "data": {
      "image/png": "[encoded data removed]",
      "text/plain": [
       "<Figure size 432x288 with 1 Axes>"
      ]
     },
     "metadata": {
      "needs_background": "light"
     },
     "output_type": "display_data"
    },
    {
     "data": {
      "image/png": "[encoded data removed]",
      "text/plain": [
       "<Figure size 432x288 with 1 Axes>"
      ]
     },
     "metadata": {
      "needs_background": "light"
     },
     "output_type": "display_data"
    },
    {
     "data": {
      "image/png": "[encoded data removed]",
      "text/plain": [
       "<Figure size 432x288 with 1 Axes>"
      ]
     },
     "metadata": {
      "needs_background": "light"
     },
     "output_type": "display_data"
    },
    {
     "data": {
      "image/png": "[encoded data removed]",
      "text/plain": [
       "<Figure size 432x288 with 1 Axes>"
      ]
     },
     "metadata": {
      "needs_background": "light"
     },
     "output_type": "display_data"
    },
    {
     "data": {
      "image/png": "[encoded data removed]",
      "text/plain": [
       "<Figure size 432x288 with 1 Axes>"
      ]
     },
     "metadata": {
      "needs_background": "light"
     },
     "output_type": "display_data"
    },
    {
     "data": {
      "image/png": "[encoded data removed]",
      "text/plain": [
       "<Figure size 432x288 with 1 Axes>"
      ]
     },
     "metadata": {
      "needs_background": "light"
     },
     "output_type": "display_data"
    },
    {
     "data": {
      "image/png": "[encoded data removed]",
      "text/plain": [
       "<Figure size 432x288 with 1 Axes>"
      ]
     },
     "metadata": {
      "needs_background": "light"
     },
     "output_type": "display_data"
    },
    {
     "data": {
      "image/png": "[encoded data removed]",
      "text/plain": [
       "<Figure size 432x288 with 1 Axes>"
      ]
     },
     "metadata": {
      "needs_background": "light"
     },
     "output_type": "display_data"
    },
    {
     "data": {
      "image/png": "[encoded data removed]",
      "text/plain": [
       "<Figure size 432x288 with 1 Axes>"
      ]
     },
     "metadata": {
      "needs_background": "light"
     },
     "output_type": "display_data"
    },
    {
     "data": {
      "image/png": "[encoded data removed]",
      "text/plain": [
       "<Figure size 432x288 with 1 Axes>"
      ]
     },
     "metadata": {
      "needs_background": "light"
     },
     "output_type": "display_data"
    },
    {
     "data": {
      "image/png": "[encoded data removed]",
      "text/plain": [
       "<Figure size 432x288 with 1 Axes>"
      ]
     },
     "metadata": {
      "needs_background": "light"
     },
     "output_type": "display_data"
    },
    {
     "data": {
      "image/png": "[encoded data removed]",
      "text/plain": [
       "<Figure size 432x288 with 1 Axes>"
      ]
     },
     "metadata": {
      "needs_background": "light"
     },
     "output_type": "display_data"
    },
    {
     "data": {
      "image/png": "[encoded data removed]",
      "text/plain": [
       "<Figure size 432x288 with 1 Axes>"
      ]
     },
     "metadata": {
      "needs_background": "light"
     },
     "output_type": "display_data"
    },
    {
     "data": {
      "image/png": "[encoded data removed]",
      "text/plain": [
       "<Figure size 432x288 with 1 Axes>"
      ]
     },
     "metadata": {
      "needs_background": "light"
     },
     "output_type": "display_data"
    },
    {
     "data": {
      "image/png": "[encoded data removed]",
      "text/plain": [
       "<Figure size 432x288 with 1 Axes>"
      ]
     },
     "metadata": {
      "needs_background": "light"
     },
     "output_type": "display_data"
    },
    {
     "data": {
      "image/png": "[encoded data removed]",
      "text/plain": [
       "<Figure size 432x288 with 1 Axes>"
      ]
     },
     "metadata": {
      "needs_background": "light"
     },
     "output_type": "display_data"
    },
    {
     "data": {
      "image/png": "[encoded data removed]",
      "text/plain": [
       "<Figure size 432x288 with 1 Axes>"
      ]
     },
     "metadata": {
      "needs_background": "light"
     },
     "output_type": "display_data"
    },
    {
     "data": {
      "image/png": "[encoded data removed]",
      "text/plain": [
       "<Figure size 432x288 with 1 Axes>"
      ]
     },
     "metadata": {
      "needs_background": "light"
     },
     "output_type": "display_data"
    },
    {
     "data": {
      "image/png": "[encoded data removed]",
      "text/plain": [
       "<Figure size 432x288 with 1 Axes>"
      ]
     },
     "metadata": {
      "needs_background": "light"
     },
     "output_type": "display_data"
    },
    {
     "data": {
      "image/png": "[encoded data removed]",
      "text/plain": [
       "<Figure size 432x288 with 1 Axes>"
      ]
     },
     "metadata": {
      "needs_background": "light"
     },
     "output_type": "display_data"
    },
    {
     "data": {
      "image/png": "[encoded data removed]",
      "text/plain": [
       "<Figure size 432x288 with 1 Axes>"
      ]
     },
     "metadata": {
      "needs_background": "light"
     },
     "output_type": "display_data"
    },
    {
     "data": {
      "image/png": "[encoded data removed]",
      "text/plain": [
       "<Figure size 432x288 with 1 Axes>"
      ]
     },
     "metadata": {
      "needs_background": "light"
     },
     "output_type": "display_data"
    },
    {
     "data": {
      "image/png": "[encoded data removed]",
      "text/plain": [
       "<Figure size 432x288 with 1 Axes>"
      ]
     },
     "metadata": {
      "needs_background": "light"
     },
     "output_type": "display_data"
    }
   ],
   "source": [
    "for i in range(32):\n",
    "    p = data_list[i].pos\n",
    "    x, y = p[:, 0], p[:, 1]\n",
    "\n",
    "    lim = 50\n",
    "    plt.figure()\n",
    "    plt.scatter(x, y)\n",
    "    plt.xlim(-lim, lim)\n",
    "    plt.ylim(-lim, lim)"
   ]
  },
  {
   "cell_type": "code",
   "execution_count": null,
   "metadata": {},
   "outputs": [],
   "source": []
  },
  {
   "cell_type": "code",
   "execution_count": null,
   "metadata": {},
   "outputs": [],
   "source": []
  }
 ],
 "metadata": {
  "kernelspec": {
   "display_name": "Python 3",
   "language": "python",
   "name": "python3"
  },
  "language_info": {
   "codemirror_mode": {
    "name": "ipython",
    "version": 3
   },
   "file_extension": ".py",
   "mimetype": "text/x-python",
   "name": "python",
   "nbconvert_exporter": "python",
   "pygments_lexer": "ipython3",
   "version": "3.7.6"
  },
  "widgets": {
   "application/vnd.jupyter.widget-state+json": {
    "state": {},
    "version_major": 2,
    "version_minor": 0
   }
  }
 },
 "nbformat": 4,
 "nbformat_minor": 4
}
