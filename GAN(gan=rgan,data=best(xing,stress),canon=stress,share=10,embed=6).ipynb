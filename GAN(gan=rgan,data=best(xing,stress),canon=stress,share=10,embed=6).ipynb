{
 "cells": [
  {
   "cell_type": "markdown",
   "metadata": {
    "id": "wZtYFEhHoBGp"
   },
   "source": [
    "# Import libraries"
   ]
  },
  {
   "cell_type": "code",
   "execution_count": 1,
   "metadata": {
    "id": "KJPfzpxLQI5O"
   },
   "outputs": [],
   "source": [
    "%load_ext autoreload\n",
    "%autoreload 2\n",
    "from deepgd import *"
   ]
  },
  {
   "cell_type": "markdown",
   "metadata": {
    "id": "z4eBEyB1oaJe"
   },
   "source": [
    "# Config"
   ]
  },
  {
   "cell_type": "code",
   "execution_count": 2,
   "metadata": {
    "id": "Q_-MLFhpNvxF"
   },
   "outputs": [],
   "source": [
    "cuda_idx = 0\n",
    "canonicalization = CanonicalizationByStress()\n",
    "config = StaticConfig({\n",
    "    \"name\": 'GAN(gan=rgan,data=best(xing,stress),canon=stress,share=10,embed=6)',\n",
    "    \"uid\": None,\n",
    "    \"link\": None,\n",
    "    \"generator\": {\n",
    "        \"params\": {\n",
    "            \"num_blocks\": 9,\n",
    "            \"normalize\": canonicalization\n",
    "        },\n",
    "        \"pretrained\": {\n",
    "            \"name\": None,\n",
    "            \"epoch\": -1,\n",
    "        },\n",
    "        \"optim\": torch.optim.AdamW,\n",
    "        \"lr\" : {\n",
    "            \"initial\": 1e-3,\n",
    "            \"decay\": 0.99,\n",
    "        },\n",
    "    },\n",
    "    \"discriminator\": {\n",
    "        \"params\": {\n",
    "            \"conv\": [2, 16, 16, 16],\n",
    "            \"dense\": [2],\n",
    "            \"shared_depth\": 10,\n",
    "            \"enet_depth\": 6,\n",
    "            \"enet_width\": 64,\n",
    "            \"aggr\": \"add\",\n",
    "            \"normalize\": canonicalization\n",
    "        },\n",
    "        \"pretrained\": {\n",
    "            \"name\": None,\n",
    "            \"epoch\": -1,\n",
    "        },\n",
    "        \"optim\": torch.optim.AdamW,\n",
    "        \"lr\" : {\n",
    "            \"initial\": 1e-3,\n",
    "            \"decay\": 0.99,\n",
    "        },\n",
    "        \"noise\": {\n",
    "            \"std\": 0,\n",
    "            \"decay\": 0.95,\n",
    "        },\n",
    "        \"repeat\": 1,\n",
    "        \"complete\": True,\n",
    "        \"adaptive\": True\n",
    "    },\n",
    "    \"alternate\": \"epoch\",\n",
    "    \"batchsize\": 24,\n",
    "    \"epoch\": {\n",
    "        \"start\": -1,\n",
    "        \"end\": None,\n",
    "    },\n",
    "    \"log_interval\": 1,\n",
    "    \"test\": {\n",
    "        \"name\": \"test\",\n",
    "        \"epoch\": -1,\n",
    "    },\n",
    "    \"gan_flavor\": \"rgan\",\n",
    "    \"gp_weight\": 0,\n",
    "})\n",
    "data_config = StaticConfig({\n",
    "    \"sparse\": False,\n",
    "    \"pivot\": None,\n",
    "    \"init\": \"pmds\",\n",
    "    \"edge\": {\n",
    "        \"index\": \"full_edge_index\",\n",
    "        \"attr\": \"full_edge_attr\",\n",
    "    },\n",
    "})\n",
    "loss_fns = {\n",
    "    Stress(): 1\n",
    "}\n",
    "ctrler_params = {\n",
    "    \"tau\": 0.95,\n",
    "    \"beta\": 1,\n",
    "    \"exploit_rate\": 0.5,\n",
    "    \"warmup\": 2,\n",
    "}\n",
    "paths = StaticConfig({\n",
    "    \"root\": \"artifacts\",\n",
    "    \"checkpoints\": lambda: f\"{paths.root}/checkpoints/{config.name}\",\n",
    "    \"gen_pretrain\": lambda: f\"{paths.root}/checkpoints/{config.generator.pretrained.name}\",\n",
    "    \"dis_pretrain\": lambda: f\"{paths.root}/checkpoints/{config.discriminator.pretrained.name}\",\n",
    "    \"tensorboard\": lambda: f\"{paths.root}/tensorboards/{config.name}\",\n",
    "    \"visualization\": lambda: f\"{paths.root}/visualizations/{config.name}_{config.test.name}\",\n",
    "    \"log\": lambda: f\"{paths.root}/logs/{config.name}.log\",\n",
    "    \"metrics\": lambda suffix: f\"{paths.root}/metrics/{config.name}_{suffix}.pickle\",\n",
    "})"
   ]
  },
  {
   "cell_type": "code",
   "execution_count": 3,
   "metadata": {
    "id": "mdMEAbH10Qaq"
   },
   "outputs": [],
   "source": [
    "if \" \" in config.name:\n",
    "    raise Exception(\"Space is not allowed in model name.\")"
   ]
  },
  {
   "cell_type": "markdown",
   "metadata": {
    "id": "WynW4ZAdBhep"
   },
   "source": [
    "# Prepare"
   ]
  },
  {
   "cell_type": "markdown",
   "metadata": {
    "id": "DR6-vYtr_i_P"
   },
   "source": [
    "## Get log command"
   ]
  },
  {
   "cell_type": "code",
   "execution_count": 4,
   "metadata": {
    "colab": {
     "base_uri": "https://localhost:8080/"
    },
    "id": "9-QpinlslcTO",
    "outputId": "48ae3716-212c-4d46-9efb-b7b4070f73de"
   },
   "outputs": [
    {
     "name": "stdout",
     "output_type": "stream",
     "text": [
      "cd /users/PAS0027/osu10203/deepgd && tail -n1000 -f 'artifacts/logs/GAN(gan=rgan,data=best(xing,stress),canon=stress,share=10,embed=6).log'\n"
     ]
    }
   ],
   "source": [
    "print(f\"cd {os.getcwd()} && tail -n1000 -f '{paths.log()}'\")"
   ]
  },
  {
   "cell_type": "code",
   "execution_count": 5,
   "metadata": {},
   "outputs": [
    {
     "name": "stdout",
     "output_type": "stream",
     "text": [
      "tensorboard dev upload --logdir 'artifacts/tensorboards/GAN(gan=rgan,data=best(xing,stress),canon=stress,share=10,embed=6)'\n"
     ]
    }
   ],
   "source": [
    "print(f\"tensorboard dev upload --logdir '{paths.tensorboard()}'\")"
   ]
  },
  {
   "cell_type": "markdown",
   "metadata": {
    "id": "innqkwvH_ydD"
   },
   "source": [
    "## Set globals"
   ]
  },
  {
   "cell_type": "code",
   "execution_count": 6,
   "metadata": {
    "id": "Qjq7JlSZlkQR"
   },
   "outputs": [],
   "source": [
    "if cuda_idx is not None and torch.cuda.is_available():\n",
    "    device = f'cuda:{cuda_idx}'\n",
    "    pynvml.nvmlInit()\n",
    "    cuda = pynvml.nvmlDeviceGetHandleByIndex(cuda_idx)\n",
    "else:\n",
    "    device = 'cpu'\n",
    "    cuda =  None\n",
    "np.set_printoptions(precision=2)\n",
    "warnings.filterwarnings(\"ignore\", category=RuntimeWarning)"
   ]
  },
  {
   "cell_type": "markdown",
   "metadata": {
    "id": "0da286l_ApEL"
   },
   "source": [
    "## Load data"
   ]
  },
  {
   "cell_type": "code",
   "execution_count": 7,
   "metadata": {
    "colab": {
     "base_uri": "https://localhost:8080/"
    },
    "id": "RFuSHiZJMU4x",
    "outputId": "54065609-aaea-4536-d79c-73bc73b3f576"
   },
   "outputs": [
    {
     "name": "stdout",
     "output_type": "stream",
     "text": [
      "Load from 'cache/G_list.pickle'\n",
      "Load from 'cache/generate_data_list(list,sparse=False,pivot_mode=None,init_mode=pmds,edge_index=full_edge_index,edge_attr=full_edge_attr,pmds_list=ndarray,gviz_list=ndarray,noisy_layout=True,device=cpu).pickle'\n"
     ]
    },
    {
     "name": "stderr",
     "output_type": "stream",
     "text": [
      "/users/PAS0027/osu10203/.conda/envs/deepgd/lib/python3.9/site-packages/torch_geometric/deprecation.py:13: UserWarning: 'data.DataLoader' is deprecated, use 'loader.DataLoader' instead\n",
      "  warnings.warn(out)\n"
     ]
    }
   ],
   "source": [
    "G_list = load_G_list(data_path='data/rome', index_file='data_index.txt', cache='G_list', cache_prefix='cache/')\n",
    "data_list = generate_data_list(G_list, \n",
    "                               sparse=data_config.sparse, \n",
    "                               pivot_mode=data_config.pivot,\n",
    "                               init_mode=data_config.init,\n",
    "                               edge_index=data_config.edge.index,\n",
    "                               edge_attr=data_config.edge.attr,\n",
    "                               pmds_list=np.load('layouts/rome/pmds.npy', allow_pickle=True),\n",
    "                               gviz_list=np.load('layouts/rome/gviz.npy', allow_pickle=True),\n",
    "                               noisy_layout=True,\n",
    "                               device='cpu', \n",
    "                               cache=True,\n",
    "                               cache_prefix='cache/')\n",
    "train_loader = LazyDeviceMappingDataLoader(data_list[:10000], batch_size=config.batchsize, shuffle=True, device=device)\n",
    "val_loader = LazyDeviceMappingDataLoader(data_list[11000:], batch_size=config.batchsize, shuffle=False, device=device)"
   ]
  },
  {
   "cell_type": "code",
   "execution_count": 8,
   "metadata": {
    "id": "djd1pLt2OxZq"
   },
   "outputs": [],
   "source": [
    "def draw_layout(G, method, draw=True):\n",
    "    if method == 'fa2':\n",
    "        layout = get_fa2_layout(G)\n",
    "    else:\n",
    "        try:\n",
    "            fn = getattr(nx.drawing.layout, f'{method}_layout')\n",
    "            layout = fn(G)\n",
    "        except:\n",
    "            layout = nx.drawing.nx_agraph.graphviz_layout(G, prog=method)\n",
    "    if draw:\n",
    "        nx.draw(G, pos=layout)\n",
    "    return layout"
   ]
  },
  {
   "cell_type": "code",
   "execution_count": 9,
   "metadata": {
    "id": "2vBBw77lR7Em"
   },
   "outputs": [],
   "source": [
    "methods = ['neato', 'dot', 'fdp', 'sfdp', 'twopi', 'circo', 'shell', 'spring', 'circular', 'spectral', 'kamada_kawai', 'fa2', 'pmds']"
   ]
  },
  {
   "cell_type": "code",
   "execution_count": 10,
   "metadata": {
    "id": "dx6VVA9XIc2O"
   },
   "outputs": [],
   "source": [
    "from functools import lru_cache\n",
    "\n",
    "@lru_cache(maxsize=None)\n",
    "def load_pos(method):\n",
    "    return np.load(f'layouts/rome/{method}.npy', allow_pickle=True)"
   ]
  },
  {
   "cell_type": "code",
   "execution_count": 11,
   "metadata": {
    "colab": {
     "base_uri": "https://localhost:8080/",
     "height": 1000,
     "referenced_widgets": [
      "05a37aeeb20049dfa2f97287b3990556",
      "a75afae3adfd4810a0b0991a062535ee",
      "a24ae105ed124595992f7e2e5f909247",
      "01b4cabaf8004dd4b9269b4e6889c498",
      "f3c7c84f2b314bd8b97a7358deaf4fa1",
      "35e4a83e692b4a7bafb46fdf192b2586",
      "62847b5e2678459f845159eef6d4feab",
      "143e81f00313436dacfa246a57108944",
      "e05833f11803400b95ff22246cdc8f2b",
      "53aeede91e074378b5d7f626165655ee",
      "79a43768c1794a10a788a49e5883aa2c"
     ]
    },
    "id": "MSmP-jem9I0X",
    "outputId": "c698f0bf-e96e-4de9-aeda-0b046fc0a03f",
    "scrolled": true,
    "tags": []
   },
   "outputs": [],
   "source": [
    "# best_list = []\n",
    "# best_layout_list = []\n",
    "# for idx, (G, data) in enumerate(zip(tqdm(G_list), data_list)):\n",
    "#     xing, stress, layout = {}, {}, {}\n",
    "#     for m in methods:\n",
    "#         batch = Batch.from_data_list([data])\n",
    "#         pos = load_pos(m)\n",
    "#         p = CanonicalizationByStress()(torch.tensor(pos[idx]).float(), batch)\n",
    "#         x = Xing()(p, batch).item()\n",
    "#         s = Stress()(p, batch).item()\n",
    "#         xing[m] = x\n",
    "#         stress[m] = s\n",
    "#         layout[m] = p.numpy()\n",
    "#         # plt.figure()\n",
    "#         # graph_vis(G, pos[idx])\n",
    "#         # plt.title(f'{m} stress={s:.2f} xing={x}')\n",
    "#     best, *_ = sorted(methods, key=lambda m: (xing[m], stress[m]))\n",
    "#     best_list.append(best)\n",
    "#     best_layout_list.append(layout[best])\n",
    "#     print(f'{best}, xing={xing[best]}, stress={stress[best]:.2f}')"
   ]
  },
  {
   "cell_type": "code",
   "execution_count": 12,
   "metadata": {
    "colab": {
     "base_uri": "https://localhost:8080/"
    },
    "id": "Mx2bZNugdTqa",
    "outputId": "cec05a67-18e8-492f-aaa1-057274a8341a"
   },
   "outputs": [],
   "source": [
    "# pickle.dump(best_list, open('layouts/rome/best[xing,stress].pkl', 'wb'))\n",
    "# np.save('layouts/rome/best[xing,stress].npy', best_layout_list)"
   ]
  },
  {
   "cell_type": "code",
   "execution_count": 13,
   "metadata": {
    "colab": {
     "base_uri": "https://localhost:8080/",
     "height": 49,
     "referenced_widgets": [
      "7e0ae84dd0f3458d893c81b029fe1729",
      "18bdc3bf80fb434abde68de5b72a8870",
      "2e3552ded9594635a51832387ae754a0",
      "54f4aa5080c6498080a63be2cdeefee5",
      "3937586d0879451da5e2138ca3bfd0a0",
      "a9df6e84ce8c499eb2b2cf984995d791",
      "7af6b718dd3d4e01b264377a2fa938e2",
      "a774c86e64004bd6951645f1c24abad4",
      "c86575117cd041f2837762f37d1f387b",
      "6e9907cefb1241688fbd248b8281ed9f",
      "9b8e5405d8264944acab57e81f2f5ad6"
     ]
    },
    "id": "A1-w1fspC53p",
    "outputId": "09c2d5c3-1eef-41eb-dcee-581af1294804"
   },
   "outputs": [
    {
     "data": {
      "application/vnd.jupyter.widget-view+json": {
       "model_id": "d9183ce330a04c619fb9677da203a664",
       "version_major": 2,
       "version_minor": 0
      },
      "text/plain": [
       "  0%|          | 0/11531 [00:00<?, ?it/s]"
      ]
     },
     "metadata": {},
     "output_type": "display_data"
    }
   ],
   "source": [
    "best_layout_list = np.load('layouts/rome/best[xing,stress].npy', allow_pickle=True)\n",
    "for data, layout in zip(tqdm(data_list), best_layout_list):\n",
    "    data.gt_pos = torch.tensor(layout)"
   ]
  },
  {
   "cell_type": "code",
   "execution_count": 14,
   "metadata": {
    "id": "y6EGh4U7exL_"
   },
   "outputs": [],
   "source": [
    "train_loader = LazyDeviceMappingDataLoader(data_list[:10000], batch_size=config.batchsize, shuffle=True, device=device)\n",
    "val_loader = LazyDeviceMappingDataLoader(data_list[11000:], batch_size=config.batchsize, shuffle=False, device=device)"
   ]
  },
  {
   "cell_type": "code",
   "execution_count": 15,
   "metadata": {
    "colab": {
     "base_uri": "https://localhost:8080/",
     "height": 103,
     "referenced_widgets": [
      "38a33cf69aff48f4aabd4902a7ce48b1",
      "57e277bcb44c4e2fa2a12105d75153d1",
      "20ce017c46bd4a7c9b420270ac579405",
      "13f2df4fe0ce4af88b6e3bd1637065b0",
      "2867faa145ca4860a198d4d0bf830f89",
      "02838cf669174ed9afa41a1a8e680765",
      "7e9e3c031667455f8baca163d3a213e5",
      "4000135e7dfa46529fa6244fccc5cb57",
      "e523e9faac5b4ec38643c05ac5ba99f7",
      "e8e3ee9741e4480dae5003ccc19a7891",
      "9a569045221b43acb3ba2fbf116b2c74"
     ]
    },
    "id": "YEfRRUK0NiNm",
    "outputId": "93f53d05-7667-4cda-a38e-c3a953124f79"
   },
   "outputs": [],
   "source": [
    "# for m in methods:\n",
    "#     layouts = []\n",
    "#     for G in tqdm(G_list):\n",
    "#         layout = draw_layout(G, method=m, draw=False)\n",
    "#         layouts.append(np.array(list(layout.values())))\n",
    "#     np.save(f'layouts/rome/{m}.npy', layouts)"
   ]
  },
  {
   "cell_type": "code",
   "execution_count": 16,
   "metadata": {
    "colab": {
     "base_uri": "https://localhost:8080/",
     "height": 564
    },
    "id": "upK7AHYqPmC5",
    "outputId": "29a88e61-f55f-409c-9194-12c6d5762528"
   },
   "outputs": [],
   "source": [
    "# from collections import Counter\n",
    "\n",
    "# letter_counts = Counter(best_list)\n",
    "# df = pd.DataFrame.from_dict(letter_counts, orient='index')\n",
    "# df.plot(kind='bar', figsize=[12, 8])"
   ]
  },
  {
   "cell_type": "markdown",
   "metadata": {
    "id": "f-ODE2k8BFV6"
   },
   "source": [
    "## Create folders"
   ]
  },
  {
   "cell_type": "code",
   "execution_count": 17,
   "metadata": {
    "id": "3ykUMINYBRog"
   },
   "outputs": [],
   "source": [
    "mkdirs(paths.checkpoints(), paths.tensorboard(), paths.visualization(), f\"{paths.root}/logs\", f\"{paths.root}/metrics\")"
   ]
  },
  {
   "cell_type": "markdown",
   "metadata": {
    "id": "BFq9k5nzBIh5"
   },
   "source": [
    "## Load checkpoints"
   ]
  },
  {
   "cell_type": "code",
   "execution_count": 18,
   "metadata": {
    "id": "W5NbsKkobIfA"
   },
   "outputs": [],
   "source": [
    "class EdgeFeatureDiscriminator(nn.Module):\n",
    "    def __init__(self, \n",
    "                 conv, \n",
    "                 dense,\n",
    "                 shared_depth,\n",
    "                 enet_depth,\n",
    "                 enet_width,\n",
    "                 aggr='add', \n",
    "                 root_weight=True,\n",
    "                 normalize=None):\n",
    "        super().__init__()\n",
    "        self.enet = nn.Sequential(*[\n",
    "            DenseLayer(in_dim=in_d,\n",
    "                       out_dim=out_d,\n",
    "                       skip=nonlin,\n",
    "                       bn=nonlin,\n",
    "                       act=nonlin,\n",
    "                       dp=None)\n",
    "            for in_d, out_d, nonlin \n",
    "            in zip([self._get_feature_dim()] + [enet_width] * (shared_depth-1),\n",
    "                   [enet_width] * shared_depth,\n",
    "                   [True] * (shared_depth-1) + [False])     \n",
    "        ])\n",
    "        self.blocks = nn.ModuleList([\n",
    "            GNNLayer(nfeat_dims=(in_d, out_d),\n",
    "                     efeat_dim=enet_width,\n",
    "                     edge_net=EdgeNet(nfeat_dims=(in_d, out_d), \n",
    "                                      efeat_dim=enet_width, \n",
    "                                      depth=enet_depth, \n",
    "                                      width=enet_width),\n",
    "                     aggr=aggr,\n",
    "                     dense=False,\n",
    "                     skip=nonlin,\n",
    "                     bn=nonlin,\n",
    "                     act=nonlin,\n",
    "                     root_weight=root_weight) \n",
    "            for in_d, out_d, nonlin \n",
    "            in zip(conv[:-1], conv[1:], [True] * (len(conv)-2) + [False])     \n",
    "        ])\n",
    "        self.pool = (gnn.global_mean_pool if aggr == 'mean' \n",
    "                     else gnn.global_add_pool if aggr == 'add' \n",
    "                     else None)\n",
    "        self.dense = nn.Identity() if not dense else nn.Sequential(*[\n",
    "            DenseLayer(in_dim=in_d,\n",
    "                       out_dim=out_d,\n",
    "                       skip=nonlin,\n",
    "                       bn=nonlin,\n",
    "                       act=nonlin,\n",
    "                       dp=None)\n",
    "            for in_d, out_d, nonlin \n",
    "            in zip(conv[-1:] + dense[:-1], dense, [True] * (len(dense)-1) + [False])     \n",
    "        ])\n",
    "        self.normalize = normalize or IdentityTransformation()\n",
    "    \n",
    "    def forward(self, batch):\n",
    "        x = torch.ones_like(batch.pos)\n",
    "        e = self.enet(self._get_features(self._get_edge_info(batch, layout='pos')))\n",
    "        for block in self.blocks:\n",
    "            x = block(x, e, batch)\n",
    "        x = self.pool(x, batch.batch)\n",
    "        x = self.dense(x)\n",
    "        return x\n",
    "    \n",
    "    def _get_edge_info(self, batch, layout='gt_pos'):\n",
    "        pos = self.normalize(batch[layout].float(), batch)\n",
    "        src, dst = get_edges(pos, batch)\n",
    "        v, u = l2_normalize(dst - src, return_norm=True)\n",
    "        d = batch.edge_attr[:, :1]\n",
    "        return {\n",
    "            \"src\": src,\n",
    "            \"dst\": dst,\n",
    "            \"v\": v,\n",
    "            \"u\": u,\n",
    "            \"d\": d,\n",
    "        }\n",
    "\n",
    "    def _get_features(self, edges):\n",
    "        return torch.cat([edges['src'], edges['dst'], edges['d']], dim=1)\n",
    "        \n",
    "    def _get_feature_dim(self):\n",
    "        return self._get_features({\n",
    "            \"src\": torch.zeros(1, 2),\n",
    "            \"dst\": torch.zeros(1, 2),\n",
    "            \"v\": torch.zeros(1, 2),\n",
    "            \"u\": torch.zeros(1, 1),\n",
    "            \"d\": torch.zeros(1, 1),\n",
    "        }).shape[-1]"
   ]
  },
  {
   "cell_type": "code",
   "execution_count": 19,
   "metadata": {
    "id": "96ZActxlL0fJ"
   },
   "outputs": [],
   "source": [
    "class StressDiscriminator(nn.Module):\n",
    "    def __init__(self, normalize=CanonicalizationByStress(), **kwargs):\n",
    "        super().__init__()\n",
    "        self.dummy = nn.Parameter(torch.zeros(1))\n",
    "        self.normalize = normalize\n",
    "        self.stress = Stress(reduce=None)\n",
    "\n",
    "    def forward(self, batch):\n",
    "        return -self.stress(self.normalize(batch.pos, batch), batch)"
   ]
  },
  {
   "cell_type": "code",
   "execution_count": 20,
   "metadata": {
    "id": "IJ6xCYBUuhcw"
   },
   "outputs": [],
   "source": [
    "def get_ckpt_epoch(folder, epoch):\n",
    "    if not os.path.isdir(folder):\n",
    "        os.mkdir(folder)\n",
    "    if epoch >= 0:\n",
    "        return epoch\n",
    "    ckpt_files = os.listdir(folder)\n",
    "    last_epoch = 0\n",
    "    if ckpt_files:\n",
    "        last_epoch = sorted(list(map(lambda x: int(re.search('(?<=epoch_)(\\d+)(?=\\.)', x).group(1)), ckpt_files)))[-1]\n",
    "    return last_epoch + epoch + 1\n",
    "\n",
    "def start_epoch():\n",
    "    return get_ckpt_epoch(paths.checkpoints(), config.epoch.start)"
   ]
  },
  {
   "cell_type": "code",
   "execution_count": 21,
   "metadata": {
    "colab": {
     "base_uri": "https://localhost:8080/"
    },
    "id": "JacDYXka9U01",
    "outputId": "ef4e31ab-2144-497c-8e4f-4d3740ce2d52"
   },
   "outputs": [
    {
     "name": "stdout",
     "output_type": "stream",
     "text": [
      "Loading from artifacts/checkpoints/GAN(gan=rgan,data=best(xing,stress),canon=stress,share=10,embed=6)/gen_epoch_1053.pt...\n",
      "Loading from artifacts/checkpoints/GAN(gan=rgan,data=best(xing,stress),canon=stress,share=10,embed=6)/gen_optim_epoch_1053.pt...\n"
     ]
    }
   ],
   "source": [
    "generator = Generator(**config.generator.params[...]).to(device)\n",
    "generator_optimizer = config.generator.optim(generator.parameters(), lr=config.generator.lr.initial * config.generator.lr.decay ** start_epoch())\n",
    "generator_scheduler = torch.optim.lr_scheduler.ExponentialLR(generator_optimizer, gamma=config.generator.lr.decay)\n",
    "if start_epoch() != 0:\n",
    "    gen_ckpt_epoch = start_epoch()\n",
    "elif config.generator.pretrained.name is not None and config.generator.pretrained.epoch != 0:\n",
    "    gen_pretrained_epoch = get_ckpt_epoch(paths.gen_pretrain(), config.generator.pretrained.epoch)\n",
    "    gen_ckpt_epoch = gen_pretrained_epoch \n",
    "else:\n",
    "    gen_ckpt_epoch = None\n",
    "if gen_ckpt_epoch is not None:\n",
    "    # Load generator\n",
    "    gen_ckpt_file = f\"{paths.checkpoints()}/gen_epoch_{gen_ckpt_epoch}.pt\"\n",
    "    print(f\"Loading from {gen_ckpt_file}...\")\n",
    "    generator.load_state_dict(torch.load(gen_ckpt_file, map_location=torch.device(device)))\n",
    "    # Load generator optimizer\n",
    "    gen_optim_ckpt_file = f\"{paths.checkpoints()}/gen_optim_epoch_{gen_ckpt_epoch}.pt\"\n",
    "    print(f\"Loading from {gen_optim_ckpt_file}...\")\n",
    "    generator_optimizer.load_state_dict(torch.load(gen_optim_ckpt_file, map_location=torch.device(device)))"
   ]
  },
  {
   "cell_type": "code",
   "execution_count": 22,
   "metadata": {
    "colab": {
     "base_uri": "https://localhost:8080/"
    },
    "id": "oWQhD7-88VXe",
    "outputId": "3ba01600-b546-4e45-a6bd-c7a65af1ae9e"
   },
   "outputs": [
    {
     "name": "stdout",
     "output_type": "stream",
     "text": [
      "Loading from artifacts/checkpoints/GAN(gan=rgan,data=best(xing,stress),canon=stress,share=10,embed=6)/dis_epoch_1053.pt...\n",
      "Loading from artifacts/checkpoints/GAN(gan=rgan,data=best(xing,stress),canon=stress,share=10,embed=6)/dis_optim_epoch_1053.pt...\n"
     ]
    }
   ],
   "source": [
    "discriminator = EdgeFeatureDiscriminator(**config.discriminator.params[...]).to(device)\n",
    "discriminator_optimizer = config.discriminator.optim(discriminator.parameters(), lr=config.discriminator.lr.initial * config.discriminator.lr.decay ** start_epoch())\n",
    "discriminator_scheduler = torch.optim.lr_scheduler.ExponentialLR(discriminator_optimizer, gamma=config.discriminator.lr.decay)\n",
    "if start_epoch() != 0:\n",
    "    dis_ckpt_epoch = start_epoch()\n",
    "elif config.discriminator.pretrained.name is not None and config.discriminator.pretrained.epoch != 0:\n",
    "    dis_pretrained_epoch = get_ckpt_epoch(paths.dis_pretrain(), config.discriminator.pretrained.epoch)\n",
    "    dis_ckpt_epoch = dis_pretrained_epoch # f\"{paths.dis_pretrain()}/dis_epoch_{dis_pretrained_epoch}.pt\"\n",
    "else:\n",
    "    dis_ckpt_epoch = None\n",
    "if dis_ckpt_epoch is not None:\n",
    "    # Load discriminator\n",
    "    dis_ckpt_file = f\"{paths.checkpoints()}/dis_epoch_{dis_ckpt_epoch}.pt\"\n",
    "    print(f\"Loading from {dis_ckpt_file}...\")\n",
    "    discriminator.load_state_dict(torch.load(dis_ckpt_file, map_location=torch.device(device)))\n",
    "    # Load discriminator optimizer\n",
    "    dis_optim_ckpt_file = f\"{paths.checkpoints()}/dis_optim_epoch_{dis_ckpt_epoch}.pt\"\n",
    "    print(f\"Loading from {dis_optim_ckpt_file}...\")\n",
    "    discriminator_optimizer.load_state_dict(torch.load(dis_optim_ckpt_file, map_location=torch.device(device)))"
   ]
  },
  {
   "cell_type": "markdown",
   "metadata": {
    "id": "N39dDHraedM6"
   },
   "source": [
    "# Train"
   ]
  },
  {
   "cell_type": "code",
   "execution_count": 23,
   "metadata": {
    "id": "BdIJSDSJedM-"
   },
   "outputs": [],
   "source": [
    "stress_criterion = StressDiscriminator().to(device)\n",
    "val_criterion = Stress(reduce=None)\n",
    "xing_criterion = Xing(reduce=None)\n",
    "dis_convert = DiscriminatorDataConverter(complete_graph=config.discriminator.complete, normalize=config.discriminator.params.normalize)\n",
    "tensorboard = SummaryWriter(log_dir=paths.tensorboard())\n",
    "epoch = start_epoch() + 1"
   ]
  },
  {
   "cell_type": "code",
   "execution_count": 24,
   "metadata": {
    "id": "OHRWj1h0edM-"
   },
   "outputs": [],
   "source": [
    "def gradient_penalty(interpolated, discriminator, weight=10):\n",
    "    interpolated.pos.requires_grad_()\n",
    "    prob_interpolated = discriminator(interpolated)\n",
    "    gradients = autograd.grad(outputs=prob_interpolated, \n",
    "                              inputs=interpolated.pos,\n",
    "                              grad_outputs=torch.ones_like(prob_interpolated),\n",
    "                              create_graph=True, \n",
    "                              retain_graph=True, \n",
    "                              allow_unused=True)[0]\n",
    "    gradients_norm = torch.sqrt(gnn.global_add_pool(gradients.square().sum(dim=1), batch.batch) + 1e-8)\n",
    "    return weight * ((gradients_norm - 1) ** 2).mean()"
   ]
  },
  {
   "cell_type": "code",
   "execution_count": 25,
   "metadata": {
    "id": "o5wJJN9AedM_"
   },
   "outputs": [],
   "source": [
    "def get_gp_loss(batch, fake_pos, weight):\n",
    "    if weight > 0:\n",
    "        interp = dis_convert(batch, fake_pos, random.random())\n",
    "        return gradient_penalty(interp, discriminator, weight).mean()\n",
    "    return 0"
   ]
  },
  {
   "cell_type": "code",
   "execution_count": 26,
   "metadata": {
    "id": "QwuA6sRoedM_"
   },
   "outputs": [],
   "source": [
    "def get_sgan_loss(batch, fake_pos, mode='discriminator'):\n",
    "    real = dis_convert(batch)\n",
    "    fake = dis_convert(batch, fake_pos)\n",
    "    pred = discriminator(merge_batch(real, fake)).view(2, -1).T\n",
    "    if mode == 'discriminator':\n",
    "        label = torch.zeros(pred.shape[0]).long()\n",
    "    elif mode == 'generator':\n",
    "        label = torch.ones(pred.shape[0]).long()\n",
    "    else:\n",
    "        raise Exception\n",
    "    return nn.CrossEntropyLoss()(pred, label)"
   ]
  },
  {
   "cell_type": "code",
   "execution_count": 27,
   "metadata": {
    "id": "GuAP1YchedNA"
   },
   "outputs": [],
   "source": [
    "def get_rgan_loss(batch, fake_pos, mode='discriminator'):\n",
    "    real = dis_convert(batch)\n",
    "    fake = dis_convert(batch, fake_pos)\n",
    "    pred = discriminator(merge_batch(real, fake)).view(2, -1).T\n",
    "    real_pred, fake_pred = pred[:,0], pred[:,1]\n",
    "    if mode == 'discriminator':\n",
    "        losses = - F.logsigmoid(real_pred - fake_pred)\n",
    "    elif mode == 'generator':\n",
    "        losses = - F.logsigmoid(fake_pred - real_pred)\n",
    "    else:\n",
    "        raise Exception\n",
    "    return losses.mean()"
   ]
  },
  {
   "cell_type": "code",
   "execution_count": 28,
   "metadata": {
    "id": "KFllQ7BredNA"
   },
   "outputs": [],
   "source": [
    "def get_wgan_loss(batch, fake_pos, mode='discriminator'):\n",
    "    real = dis_convert(batch)\n",
    "    fake = dis_convert(batch, fake_pos)\n",
    "    pred = discriminator(merge_batch(real, fake)).view(2, -1).T\n",
    "    real_pred, fake_pred = pred[:,0], pred[:,1]\n",
    "    if mode == 'discriminator':\n",
    "        losses = fake_pred - real_pred \n",
    "    elif mode == 'generator':\n",
    "        losses = real_pred - fake_pred\n",
    "    else:\n",
    "        raise Exception\n",
    "    return losses.mean()"
   ]
  },
  {
   "cell_type": "code",
   "execution_count": 29,
   "metadata": {
    "id": "r5Kg_tYEedNA"
   },
   "outputs": [],
   "source": [
    "def get_ragan_loss(batch, fake_pos, mode='discriminator'):\n",
    "    real = dis_convert(batch)\n",
    "    fake = dis_convert(batch, fake_pos)\n",
    "    pred = discriminator(merge_batch(real, fake)).view(2, -1).T\n",
    "    real_pred, fake_pred = pred[:,0], pred[:,1]\n",
    "    if mode == 'discriminator':\n",
    "        losses = - F.logsigmoid(real_pred - fake_pred.mean()) - F.logsigmoid(real_pred.mean() - fake_pred)\n",
    "    elif mode == 'generator':\n",
    "        losses = - F.logsigmoid(fake_pred - real_pred.mean()) - F.logsigmoid(fake_pred.mean() - real_pred)\n",
    "    else:\n",
    "        raise Exception\n",
    "    return losses.mean()"
   ]
  },
  {
   "cell_type": "code",
   "execution_count": 30,
   "metadata": {},
   "outputs": [],
   "source": [
    "def get_dgdv2_loss(batch, fake_pos, mode='discriminator'):\n",
    "    fake = dis_convert(batch, fake_pos)\n",
    "    pred = discriminator(fake)\n",
    "    if mode == 'discriminator':\n",
    "        gt = get_gt(batch, fake_pos)\n",
    "        loss = criterion(pred, gt)\n",
    "    elif mode == 'generator':\n",
    "        losses = pred.sum(dim=0)\n",
    "#         losses = torch.tensor(config.importance).to(device) * losses #/ losses.detach()\n",
    "        loss = losses.sum()\n",
    "    else:\n",
    "        raise Exception\n",
    "    return -loss"
   ]
  },
  {
   "cell_type": "code",
   "execution_count": 31,
   "metadata": {
    "id": "3IE_84f-edNB"
   },
   "outputs": [],
   "source": [
    "def get_gan_loss(batch, fake_pos, mode='discriminator'):\n",
    "    return {\"sgan\": get_sgan_loss,\n",
    "            \"wgan\": get_wgan_loss,\n",
    "            \"rgan\": get_rgan_loss,\n",
    "            \"ragan\": get_ragan_loss,\n",
    "            \"dgdv2\": get_dgdv2_loss}[config.gan_flavor](batch, fake_pos, mode)"
   ]
  },
  {
   "cell_type": "code",
   "execution_count": 32,
   "metadata": {
    "colab": {
     "background_save": true,
     "base_uri": "https://localhost:8080/",
     "height": 80
    },
    "id": "2NjekXgkedNB",
    "outputId": "da85b2ec-c0de-459c-c0dd-7ba3519419fa",
    "scrolled": true,
    "tags": []
   },
   "outputs": [
    {
     "data": {
      "application/vnd.jupyter.widget-view+json": {
       "model_id": "096bfa2769584f689afbe7f962bb26a1",
       "version_major": 2,
       "version_minor": 0
      },
      "text/plain": [
       "Tab(children=(VBox(children=(Wrapper(), Hud())), HBox(children=(Output(),), layout=Layout(height='500px', over…"
      ]
     },
     "metadata": {},
     "output_type": "display_data"
    },
    {
     "ename": "KeyboardInterrupt",
     "evalue": "",
     "output_type": "error",
     "traceback": [
      "\u001b[0;31m---------------------------------------------------------------------------\u001b[0m",
      "\u001b[0;31mKeyboardInterrupt\u001b[0m                         Traceback (most recent call last)",
      "\u001b[0;32m/tmp/slurmtmp.5826416/ipykernel_103699/801679965.py\u001b[0m in \u001b[0;36m<module>\u001b[0;34m\u001b[0m\n\u001b[1;32m    127\u001b[0m     \u001b[0;32mfor\u001b[0m \u001b[0m_\u001b[0m \u001b[0;32min\u001b[0m \u001b[0mrange\u001b[0m\u001b[0;34m(\u001b[0m\u001b[0mconfig\u001b[0m\u001b[0;34m.\u001b[0m\u001b[0mdiscriminator\u001b[0m\u001b[0;34m.\u001b[0m\u001b[0mrepeat\u001b[0m\u001b[0;34m)\u001b[0m\u001b[0;34m:\u001b[0m\u001b[0;34m\u001b[0m\u001b[0;34m\u001b[0m\u001b[0m\n\u001b[1;32m    128\u001b[0m         \u001b[0;32mfor\u001b[0m \u001b[0mbatch\u001b[0m \u001b[0;32min\u001b[0m \u001b[0mtrain_loader\u001b[0m\u001b[0;34m:\u001b[0m\u001b[0;34m\u001b[0m\u001b[0;34m\u001b[0m\u001b[0m\n\u001b[0;32m--> 129\u001b[0;31m             \u001b[0mtrain_dis\u001b[0m\u001b[0;34m(\u001b[0m\u001b[0mbatch\u001b[0m\u001b[0;34m,\u001b[0m \u001b[0mepoch\u001b[0m\u001b[0;34m)\u001b[0m\u001b[0;34m\u001b[0m\u001b[0;34m\u001b[0m\u001b[0m\n\u001b[0m\u001b[1;32m    130\u001b[0m             \u001b[0;32mif\u001b[0m \u001b[0mconfig\u001b[0m\u001b[0;34m.\u001b[0m\u001b[0malternate\u001b[0m \u001b[0;34m==\u001b[0m \u001b[0;34m'iteration'\u001b[0m\u001b[0;34m:\u001b[0m\u001b[0;34m\u001b[0m\u001b[0;34m\u001b[0m\u001b[0m\n\u001b[1;32m    131\u001b[0m                 \u001b[0mtrain_gen\u001b[0m\u001b[0;34m(\u001b[0m\u001b[0mbatch\u001b[0m\u001b[0;34m,\u001b[0m \u001b[0mepoch\u001b[0m\u001b[0;34m)\u001b[0m\u001b[0;34m\u001b[0m\u001b[0;34m\u001b[0m\u001b[0m\n",
      "\u001b[0;32m/tmp/slurmtmp.5826416/ipykernel_103699/801679965.py\u001b[0m in \u001b[0;36mtrain_dis\u001b[0;34m(batch, epoch)\u001b[0m\n\u001b[1;32m      2\u001b[0m     \u001b[0mgenerator\u001b[0m\u001b[0;34m.\u001b[0m\u001b[0mrequires_grad_\u001b[0m\u001b[0;34m(\u001b[0m\u001b[0;32mFalse\u001b[0m\u001b[0;34m)\u001b[0m\u001b[0;34m\u001b[0m\u001b[0;34m\u001b[0m\u001b[0m\n\u001b[1;32m      3\u001b[0m     \u001b[0mdiscriminator\u001b[0m\u001b[0;34m.\u001b[0m\u001b[0mzero_grad\u001b[0m\u001b[0;34m(\u001b[0m\u001b[0;34m)\u001b[0m\u001b[0;34m\u001b[0m\u001b[0;34m\u001b[0m\u001b[0m\n\u001b[0;32m----> 4\u001b[0;31m     \u001b[0mgenerator_output\u001b[0m \u001b[0;34m=\u001b[0m \u001b[0mgenerator\u001b[0m\u001b[0;34m(\u001b[0m\u001b[0mbatch\u001b[0m\u001b[0;34m)\u001b[0m\u001b[0;34m\u001b[0m\u001b[0;34m\u001b[0m\u001b[0m\n\u001b[0m\u001b[1;32m      5\u001b[0m     \u001b[0;32mif\u001b[0m \u001b[0mconfig\u001b[0m\u001b[0;34m.\u001b[0m\u001b[0mdiscriminator\u001b[0m\u001b[0;34m.\u001b[0m\u001b[0mnoise\u001b[0m\u001b[0;34m.\u001b[0m\u001b[0mstd\u001b[0m \u001b[0;34m>\u001b[0m \u001b[0;36m0\u001b[0m\u001b[0;34m:\u001b[0m\u001b[0;34m\u001b[0m\u001b[0;34m\u001b[0m\u001b[0m\n\u001b[1;32m      6\u001b[0m         \u001b[0mgenerator_output\u001b[0m \u001b[0;34m=\u001b[0m \u001b[0mgenerator_output\u001b[0m \u001b[0;34m+\u001b[0m \u001b[0mtorch\u001b[0m\u001b[0;34m.\u001b[0m\u001b[0mrandn_like\u001b[0m\u001b[0;34m(\u001b[0m\u001b[0mgenerator_output\u001b[0m\u001b[0;34m)\u001b[0m \u001b[0;34m*\u001b[0m \u001b[0mconfig\u001b[0m\u001b[0;34m.\u001b[0m\u001b[0mdiscriminator\u001b[0m\u001b[0;34m.\u001b[0m\u001b[0mnoise\u001b[0m\u001b[0;34m.\u001b[0m\u001b[0mstd\u001b[0m \u001b[0;34m*\u001b[0m \u001b[0mconfig\u001b[0m\u001b[0;34m.\u001b[0m\u001b[0mdiscriminator\u001b[0m\u001b[0;34m.\u001b[0m\u001b[0mnoise\u001b[0m\u001b[0;34m.\u001b[0m\u001b[0mdecay\u001b[0m \u001b[0;34m**\u001b[0m \u001b[0mepoch\u001b[0m\u001b[0;34m\u001b[0m\u001b[0;34m\u001b[0m\u001b[0m\n",
      "\u001b[0;32m~/.conda/envs/deepgd/lib/python3.9/site-packages/torch/nn/modules/module.py\u001b[0m in \u001b[0;36m_call_impl\u001b[0;34m(self, *input, **kwargs)\u001b[0m\n\u001b[1;32m   1049\u001b[0m         if not (self._backward_hooks or self._forward_hooks or self._forward_pre_hooks or _global_backward_hooks\n\u001b[1;32m   1050\u001b[0m                 or _global_forward_hooks or _global_forward_pre_hooks):\n\u001b[0;32m-> 1051\u001b[0;31m             \u001b[0;32mreturn\u001b[0m \u001b[0mforward_call\u001b[0m\u001b[0;34m(\u001b[0m\u001b[0;34m*\u001b[0m\u001b[0minput\u001b[0m\u001b[0;34m,\u001b[0m \u001b[0;34m**\u001b[0m\u001b[0mkwargs\u001b[0m\u001b[0;34m)\u001b[0m\u001b[0;34m\u001b[0m\u001b[0;34m\u001b[0m\u001b[0m\n\u001b[0m\u001b[1;32m   1052\u001b[0m         \u001b[0;31m# Do not call functions when jit is used\u001b[0m\u001b[0;34m\u001b[0m\u001b[0;34m\u001b[0m\u001b[0m\n\u001b[1;32m   1053\u001b[0m         \u001b[0mfull_backward_hooks\u001b[0m\u001b[0;34m,\u001b[0m \u001b[0mnon_full_backward_hooks\u001b[0m \u001b[0;34m=\u001b[0m \u001b[0;34m[\u001b[0m\u001b[0;34m]\u001b[0m\u001b[0;34m,\u001b[0m \u001b[0;34m[\u001b[0m\u001b[0;34m]\u001b[0m\u001b[0;34m\u001b[0m\u001b[0;34m\u001b[0m\u001b[0m\n",
      "\u001b[0;32m~/deepgd/deepgd/modules.py\u001b[0m in \u001b[0;36mforward\u001b[0;34m(self, data, weights, output_hidden, numpy)\u001b[0m\n\u001b[1;32m    625\u001b[0m                            \u001b[0mself\u001b[0m\u001b[0;34m.\u001b[0m\u001b[0mhid_blocks\u001b[0m\u001b[0;34m,\u001b[0m\u001b[0;34m\u001b[0m\u001b[0;34m\u001b[0m\u001b[0m\n\u001b[1;32m    626\u001b[0m                            self.out_blocks):\n\u001b[0;32m--> 627\u001b[0;31m             \u001b[0mv\u001b[0m \u001b[0;34m=\u001b[0m \u001b[0mblock\u001b[0m\u001b[0;34m(\u001b[0m\u001b[0mv\u001b[0m\u001b[0;34m,\u001b[0m \u001b[0mdata\u001b[0m\u001b[0;34m,\u001b[0m \u001b[0mweights\u001b[0m\u001b[0;34m)\u001b[0m\u001b[0;34m\u001b[0m\u001b[0;34m\u001b[0m\u001b[0m\n\u001b[0m\u001b[1;32m    628\u001b[0m             \u001b[0;32mif\u001b[0m \u001b[0moutput_hidden\u001b[0m\u001b[0;34m:\u001b[0m\u001b[0;34m\u001b[0m\u001b[0;34m\u001b[0m\u001b[0m\n\u001b[1;32m    629\u001b[0m                 \u001b[0mhidden\u001b[0m\u001b[0;34m.\u001b[0m\u001b[0mappend\u001b[0m\u001b[0;34m(\u001b[0m\u001b[0mv\u001b[0m\u001b[0;34m.\u001b[0m\u001b[0mdetach\u001b[0m\u001b[0;34m(\u001b[0m\u001b[0;34m)\u001b[0m\u001b[0;34m.\u001b[0m\u001b[0mcpu\u001b[0m\u001b[0;34m(\u001b[0m\u001b[0;34m)\u001b[0m\u001b[0;34m.\u001b[0m\u001b[0mnumpy\u001b[0m\u001b[0;34m(\u001b[0m\u001b[0;34m)\u001b[0m \u001b[0;32mif\u001b[0m \u001b[0mnumpy\u001b[0m \u001b[0;32melse\u001b[0m \u001b[0mv\u001b[0m\u001b[0;34m)\u001b[0m\u001b[0;34m\u001b[0m\u001b[0;34m\u001b[0m\u001b[0m\n",
      "\u001b[0;32m~/.conda/envs/deepgd/lib/python3.9/site-packages/torch/nn/modules/module.py\u001b[0m in \u001b[0;36m_call_impl\u001b[0;34m(self, *input, **kwargs)\u001b[0m\n\u001b[1;32m   1049\u001b[0m         if not (self._backward_hooks or self._forward_hooks or self._forward_pre_hooks or _global_backward_hooks\n\u001b[1;32m   1050\u001b[0m                 or _global_forward_hooks or _global_forward_pre_hooks):\n\u001b[0;32m-> 1051\u001b[0;31m             \u001b[0;32mreturn\u001b[0m \u001b[0mforward_call\u001b[0m\u001b[0;34m(\u001b[0m\u001b[0;34m*\u001b[0m\u001b[0minput\u001b[0m\u001b[0;34m,\u001b[0m \u001b[0;34m**\u001b[0m\u001b[0mkwargs\u001b[0m\u001b[0;34m)\u001b[0m\u001b[0;34m\u001b[0m\u001b[0;34m\u001b[0m\u001b[0m\n\u001b[0m\u001b[1;32m   1052\u001b[0m         \u001b[0;31m# Do not call functions when jit is used\u001b[0m\u001b[0;34m\u001b[0m\u001b[0;34m\u001b[0m\u001b[0m\n\u001b[1;32m   1053\u001b[0m         \u001b[0mfull_backward_hooks\u001b[0m\u001b[0;34m,\u001b[0m \u001b[0mnon_full_backward_hooks\u001b[0m \u001b[0;34m=\u001b[0m \u001b[0;34m[\u001b[0m\u001b[0;34m]\u001b[0m\u001b[0;34m,\u001b[0m \u001b[0;34m[\u001b[0m\u001b[0;34m]\u001b[0m\u001b[0;34m\u001b[0m\u001b[0;34m\u001b[0m\u001b[0m\n",
      "\u001b[0;32m~/deepgd/deepgd/modules.py\u001b[0m in \u001b[0;36mforward\u001b[0;34m(self, v, data, weights)\u001b[0m\n\u001b[1;32m    418\u001b[0m             \u001b[0mefeat_fn\u001b[0m \u001b[0;34m=\u001b[0m \u001b[0mself\u001b[0m\u001b[0;34m.\u001b[0m\u001b[0m_get_dynamic_edge_feat\u001b[0m \u001b[0;32mif\u001b[0m \u001b[0mself\u001b[0m\u001b[0;34m.\u001b[0m\u001b[0mstatic_efeats\u001b[0m \u001b[0;34m==\u001b[0m \u001b[0;36m0\u001b[0m \u001b[0;32melse\u001b[0m \u001b[0mself\u001b[0m\u001b[0;34m.\u001b[0m\u001b[0m_get_edge_feat\u001b[0m\u001b[0;34m\u001b[0m\u001b[0;34m\u001b[0m\u001b[0m\n\u001b[1;32m    419\u001b[0m \u001b[0;34m\u001b[0m\u001b[0m\n\u001b[0;32m--> 420\u001b[0;31m             e = efeat_fn(vsrc, data,\n\u001b[0m\u001b[1;32m    421\u001b[0m                          \u001b[0mrich_efeats\u001b[0m\u001b[0;34m=\u001b[0m\u001b[0mself\u001b[0m\u001b[0;34m.\u001b[0m\u001b[0mrich_efeats\u001b[0m \u001b[0;32mand\u001b[0m \u001b[0mget_extra\u001b[0m\u001b[0;34m,\u001b[0m\u001b[0;34m\u001b[0m\u001b[0;34m\u001b[0m\u001b[0m\n\u001b[1;32m    422\u001b[0m                          \u001b[0meuclidian\u001b[0m\u001b[0;34m=\u001b[0m\u001b[0mself\u001b[0m\u001b[0;34m.\u001b[0m\u001b[0meuclidian\u001b[0m \u001b[0;32mand\u001b[0m \u001b[0mget_extra\u001b[0m\u001b[0;34m,\u001b[0m\u001b[0;34m\u001b[0m\u001b[0;34m\u001b[0m\u001b[0m\n",
      "\u001b[0;32m~/deepgd/deepgd/modules.py\u001b[0m in \u001b[0;36m_get_edge_feat\u001b[0;34m(self, pos, data, rich_efeats, euclidian, direction, weights)\u001b[0m\n\u001b[1;32m    375\u001b[0m             \u001b[0mv\u001b[0m\u001b[0;34m,\u001b[0m \u001b[0mu\u001b[0m \u001b[0;34m=\u001b[0m \u001b[0ml2_normalize\u001b[0m\u001b[0;34m(\u001b[0m\u001b[0mend_pos\u001b[0m \u001b[0;34m-\u001b[0m \u001b[0mstart_pos\u001b[0m\u001b[0;34m,\u001b[0m \u001b[0mreturn_norm\u001b[0m\u001b[0;34m=\u001b[0m\u001b[0;32mTrue\u001b[0m\u001b[0;34m)\u001b[0m\u001b[0;34m\u001b[0m\u001b[0;34m\u001b[0m\u001b[0m\n\u001b[1;32m    376\u001b[0m             \u001b[0;32mif\u001b[0m \u001b[0meuclidian\u001b[0m\u001b[0;34m:\u001b[0m\u001b[0;34m\u001b[0m\u001b[0;34m\u001b[0m\u001b[0m\n\u001b[0;32m--> 377\u001b[0;31m                 \u001b[0me\u001b[0m \u001b[0;34m=\u001b[0m \u001b[0mtorch\u001b[0m\u001b[0;34m.\u001b[0m\u001b[0mcat\u001b[0m\u001b[0;34m(\u001b[0m\u001b[0;34m[\u001b[0m\u001b[0me\u001b[0m\u001b[0;34m,\u001b[0m \u001b[0mu\u001b[0m\u001b[0;34m]\u001b[0m\u001b[0;34m,\u001b[0m \u001b[0mdim\u001b[0m\u001b[0;34m=\u001b[0m\u001b[0;36m1\u001b[0m\u001b[0;34m)\u001b[0m\u001b[0;34m\u001b[0m\u001b[0;34m\u001b[0m\u001b[0m\n\u001b[0m\u001b[1;32m    378\u001b[0m             \u001b[0;32mif\u001b[0m \u001b[0mdirection\u001b[0m\u001b[0;34m:\u001b[0m\u001b[0;34m\u001b[0m\u001b[0;34m\u001b[0m\u001b[0m\n\u001b[1;32m    379\u001b[0m                 \u001b[0me\u001b[0m \u001b[0;34m=\u001b[0m \u001b[0mtorch\u001b[0m\u001b[0;34m.\u001b[0m\u001b[0mcat\u001b[0m\u001b[0;34m(\u001b[0m\u001b[0;34m[\u001b[0m\u001b[0me\u001b[0m\u001b[0;34m,\u001b[0m \u001b[0mv\u001b[0m\u001b[0;34m]\u001b[0m\u001b[0;34m,\u001b[0m \u001b[0mdim\u001b[0m\u001b[0;34m=\u001b[0m\u001b[0;36m1\u001b[0m\u001b[0;34m)\u001b[0m\u001b[0;34m\u001b[0m\u001b[0;34m\u001b[0m\u001b[0m\n",
      "\u001b[0;31mKeyboardInterrupt\u001b[0m: "
     ]
    }
   ],
   "source": [
    "def train_dis(batch, epoch):\n",
    "    generator.requires_grad_(False)\n",
    "    discriminator.zero_grad()\n",
    "    generator_output = generator(batch)\n",
    "    if config.discriminator.noise.std > 0:\n",
    "        generator_output = generator_output + torch.randn_like(generator_output) * config.discriminator.noise.std * config.discriminator.noise.decay ** epoch\n",
    "    discriminator_loss = get_gan_loss(batch, generator_output, mode='discriminator')\n",
    "    \n",
    "    # train discriminator\n",
    "    discriminator_loss.backward()\n",
    "    discriminator_optimizer.step()\n",
    "\n",
    "    # gradient penalty\n",
    "    if config.gp_weight > 0:\n",
    "        discriminator.zero_grad()\n",
    "        gp_loss = get_gp_loss(batch, generator_output, config.gp_weight)\n",
    "        gp_loss.backward()\n",
    "        discriminator_optimizer.step()\n",
    "\n",
    "    hud['dis_loss'] = format(discriminator_loss.item(), '.2e')\n",
    "    pbar().update()\n",
    "\n",
    "def train_gen(batch, epoch):\n",
    "    generator.requires_grad_(True)\n",
    "    generator.zero_grad()\n",
    "    discriminator.zero_grad()\n",
    "    generator_output = generator(batch)\n",
    "    if config.discriminator.noise.std > 0:\n",
    "        generator_output = generator_output + torch.randn_like(generator_output) * config.discriminator.noise.std * config.discriminator.noise.decay ** epoch\n",
    "    generator_loss = get_gan_loss(batch, generator_output, mode='generator') \n",
    "    \n",
    "    #train generator\n",
    "    generator_loss.backward()\n",
    "    generator_optimizer.step()\n",
    "\n",
    "    with torch.no_grad():\n",
    "        dis_batch = dis_convert(batch, generator_output)\n",
    "        stress = stress_criterion(dis_batch).mean()\n",
    "        critic = discriminator(dis_batch).mean()\n",
    "    hud.append({'gen_loss': format(generator_loss.item(), '.2e'),\n",
    "                'stress': format(stress.item(), '.2e'),\n",
    "                'critic': format(critic.item(), '.2e')})\n",
    "    pbar().update()\n",
    "\n",
    "def cuda_memsafe_map(fn, *iterables, summary=False):\n",
    "    total, failed = 0, 0\n",
    "    iterator = zip(*iterables)\n",
    "    items = None\n",
    "    while True:\n",
    "        try:\n",
    "            items = next(iterator)\n",
    "            yield fn(*items)\n",
    "        except StopIteration:\n",
    "            if summary:\n",
    "                print(f'Iteration finished. {failed} out of {total} failed!')\n",
    "            break\n",
    "        except RuntimeError:\n",
    "            print('CUDA memory overflow! Skip batch...')\n",
    "            del items\n",
    "            failed += 1\n",
    "        torch.cuda.empty_cache()\n",
    "        total += 1\n",
    "    \n",
    "def validate(model, data_loader, criterion=val_criterion):\n",
    "    def val_one_batch(batch):\n",
    "        batch = preprocess_batch(model, batch)\n",
    "        pred = CanonicalizationByStress()(model(batch), batch)\n",
    "        gt = CanonicalizationByStress()(batch.gt_pos, batch)\n",
    "        loss = criterion(pred, batch)\n",
    "        gt_loss = criterion(gt, batch)\n",
    "        spc = (loss - gt_loss) / torch.maximum(torch.maximum(loss, gt_loss), torch.ones_like(loss)*1e-5)\n",
    "        return loss.mean().item(), spc.mean().item()\n",
    "    loss_all, spc_all = zip(*cuda_memsafe_map(val_one_batch, data_loader))\n",
    "    return np.mean(loss_all), np.mean(spc_all)\n",
    "\n",
    "def log(msg):\n",
    "    msg = f\"[{epoch:03}] {msg}\"\n",
    "    print(msg, file=open(paths.log(), \"a\"))\n",
    "    with log_out: \n",
    "        print(msg)\n",
    "\n",
    "print(f\"{'='*10} {config.link} {'='*10}\", file=open(paths.log(), \"a\"))\n",
    "hud = Hud()\n",
    "pbar = Wrapper(tqdm, total=len(train_loader)*2, smoothing=0)\n",
    "plot_out = Output()\n",
    "log_out = Output()\n",
    "tabs = {\"status\": VBox([pbar, hud]), \n",
    "        \"plot\": HBox([plot_out], layout=Layout(height='500px', overflow_y='auto')),\n",
    "        \"log\": HBox([log_out], layout=Layout(height='500px', overflow_y='auto'))}\n",
    "tab_bar = Tab(children=list(tabs.values()))\n",
    "[tab_bar.set_title(i, name) for i, name in enumerate(tabs)]\n",
    "display(tab_bar)\n",
    "while True:\n",
    "    if epoch % config.log_interval == 0:\n",
    "        torch.save(generator.state_dict(), f\"{paths.checkpoints()}/gen_epoch_{epoch}.pt\")\n",
    "        torch.save(generator_optimizer.state_dict(), f\"{paths.checkpoints()}/gen_optim_epoch_{epoch}.pt\")\n",
    "        torch.save(discriminator.state_dict(), f\"{paths.checkpoints()}/dis_epoch_{epoch}.pt\")\n",
    "        torch.save(discriminator_optimizer.state_dict(), f\"{paths.checkpoints()}/dis_optim_epoch_{epoch}.pt\")\n",
    "        generator.eval()\n",
    "        with torch.no_grad():\n",
    "            val_stress, val_stress_spc = validate(model=generator, data_loader=val_loader)\n",
    "            val_xing, val_xing_spc = validate(model=generator, data_loader=val_loader, criterion=xing_criterion)\n",
    "            with plot_out:\n",
    "                fig = plt.figure()\n",
    "                graph_vis(G_list[11100], generator(make_batch(data_list[11100]).to(device)).cpu())\n",
    "                plt.show()\n",
    "        # tensorboard.add_scalars('loss', {'train': train_loss, \n",
    "        #                                  'validation': val_loss}, epoch)\n",
    "        # for i, fn in enumerate(loss_fns):\n",
    "        #     tensorboard.add_scalars(type(fn).__name__, {'train': train_loss_comp[i].item(), \n",
    "        #                                           'validation': val_loss_comp[i].item()}, epoch)\n",
    "        hud.append({\n",
    "            'val_stress': format(val_stress, '.2f'),\n",
    "            'val_stress_spc': format(val_stress_spc, '.2%'),\n",
    "            'val_xing': format(val_xing, '.2f'),\n",
    "            'val_xing_spc': format(val_xing_spc, '.2%'),\n",
    "        })\n",
    "        log(f\"stress={hud.data['val_stress']}({hud.data['val_stress_spc']}) xing={hud.data['val_xing']}({hud.data['val_xing_spc']})\")\n",
    "        \n",
    "    # handle.update(tab_bar)\n",
    "    pbar().reset()\n",
    "    pbar().set_description(desc=f\"[epoch {epoch}/{config.epoch.end}]\")\n",
    "    hud(title=f\"epoch {epoch}\")\n",
    "    generator.train()\n",
    "    discriminator.train()\n",
    "    # proper: proper layout\n",
    "    for _ in range(config.discriminator.repeat):\n",
    "        for batch in train_loader:\n",
    "            train_dis(batch, epoch)\n",
    "            if config.alternate == 'iteration':\n",
    "                train_gen(batch, epoch)\n",
    "\n",
    "    if config.alternate == 'epoch':\n",
    "        for batch in train_loader:\n",
    "            train_gen(batch, epoch)\n",
    "\n",
    "    discriminator_scheduler.step()\n",
    "    generator_scheduler.step()\n",
    "\n",
    "    if epoch == config.epoch.end:\n",
    "        break\n",
    "    epoch += 1"
   ]
  },
  {
   "cell_type": "markdown",
   "metadata": {
    "id": "0qYK_X_hrq9o"
   },
   "source": [
    "# Test"
   ]
  },
  {
   "cell_type": "code",
   "execution_count": 33,
   "metadata": {
    "colab": {
     "base_uri": "https://localhost:8080/"
    },
    "id": "XEvmAtNjWhcY",
    "outputId": "9f4c86a4-a4b0-48f1-cb58-ab3679173184"
   },
   "outputs": [
    {
     "name": "stdout",
     "output_type": "stream",
     "text": [
      "Loading from artifacts/checkpoints/GAN(gan=rgan,data=best(xing,stress),canon=stress,share=10,embed=6)/gen_epoch_1055.pt...\n"
     ]
    },
    {
     "data": {
      "text/plain": [
       "<All keys matched successfully>"
      ]
     },
     "execution_count": 33,
     "metadata": {},
     "output_type": "execute_result"
    }
   ],
   "source": [
    "test_epoch = -1\n",
    "\n",
    "test_generator = Generator(**config.generator.params[...]).to(device)\n",
    "test_ckpt_epoch = get_ckpt_epoch(paths.checkpoints(), test_epoch)\n",
    "test_ckpt_file = f\"{paths.checkpoints()}/gen_epoch_{test_ckpt_epoch}.pt\"\n",
    "print(f\"Loading from {test_ckpt_file}...\")\n",
    "test_generator.load_state_dict(torch.load(test_ckpt_file, map_location=torch.device(device)))"
   ]
  },
  {
   "cell_type": "code",
   "execution_count": 34,
   "metadata": {
    "colab": {
     "background_save": true,
     "base_uri": "https://localhost:8080/",
     "height": 1000,
     "referenced_widgets": [
      "9b7d18992dbf4a84931f916fbaaa37d8",
      "2c664d7e1e6d474fb87094fc0da270d3",
      "d375f5f82a4645d7b29c541596dc1c7f",
      "ecfa311bb06b4f6fa504598263ff69d3",
      "d1859990877149eab2b414b4e2a0e0c7",
      "d2be6733734844bca3e1db9b49eb1c1e",
      "4d98072bdf674792a13d77e85dd285d1",
      "f7ed92c383d741a0a1cef2536ff2db13",
      "2ba110f835c64ec4b82974996aed10af",
      "09397ceac9014af0aebca848d4d96d48",
      "fd0709f48d6c4527bc00b5f407f3c1b9"
     ]
    },
    "id": "ZubmSTcYrq9o",
    "outputId": "fc2f65a2-2085-43ac-b110-cbfe742318a8",
    "scrolled": true,
    "tags": []
   },
   "outputs": [
    {
     "data": {
      "application/vnd.jupyter.widget-view+json": {
       "model_id": "e9bd470f014d406f9b1d699adafa9ba5",
       "version_major": 2,
       "version_minor": 0
      },
      "text/plain": [
       "  0%|          | 0/1000 [00:00<?, ?it/s]"
      ]
     },
     "metadata": {},
     "output_type": "display_data"
    }
   ],
   "source": [
    "rotate = RotateByPrincipalComponents()\n",
    "def test_callback(*, idx, pred, metrics):\n",
    "    # graph_vis(G_list[idx], pred, file_name=f\"{paths.visualization()}/{idx}_{metrics['stress']:.2f}_{metrics['resolution_score']:.2f}.png\")\n",
    "    pred = rotate(torch.tensor(pred), data_list[idx])\n",
    "    graph_vis(G_list[idx], pred)\n",
    "    plt.title(f\"[pred] idx: {idx}, stress: {metrics['stress']:.2f}({metrics['stress_spc']:.2%}), xing: {metrics['xing']:.2f}({metrics['xing_spc']:.2%})\")\n",
    "    plt.show()\n",
    "    gt_pos = rotate(data_list[idx].gt_pos, data_list[idx])\n",
    "    graph_vis(G_list[idx], gt_pos, node_color='orange')\n",
    "    plt.title(f\"[gt] idx: {idx}, stress: {metrics['gt_stress']:.2f}, xing: {metrics['gt_xing']:.2f}\")\n",
    "    plt.show()\n",
    "    \n",
    "test_metrics = test(model=test_generator, \n",
    "                    criteria_list=[], \n",
    "                    dataset=data_list, \n",
    "                    idx_range=range(10000, 11000), \n",
    "#                     callback=test_callback,\n",
    "                    gt_pos=None)\n",
    "pickle.dump(test_metrics, open(paths.metrics(\"test\"), \"wb\"))"
   ]
  },
  {
   "cell_type": "code",
   "execution_count": 35,
   "metadata": {
    "colab": {
     "base_uri": "https://localhost:8080/",
     "height": 318
    },
    "id": "t2rFXIr_PsrJ",
    "outputId": "6a4205b1-4630-4de4-ec72-bdba3d3ea114"
   },
   "outputs": [
    {
     "name": "stdout",
     "output_type": "stream",
     "text": [
      "stress: tensor(349.7800)\n",
      "stress_spc: tensor(0.0394, dtype=torch.float64)\n",
      "xing: tensor(28.0010)\n",
      "xing_spc: tensor(0.1724, dtype=torch.float64)\n",
      "l1_angle: tensor(79.9607)\n",
      "l1_angle_spc: tensor(0.0410, dtype=torch.float64)\n",
      "edge: tensor(0.1596)\n",
      "edge_spc: tensor(0.0984, dtype=torch.float64)\n",
      "ring: tensor(263.5944)\n",
      "ring_spc: tensor(0.0092, dtype=torch.float64)\n",
      "tsne: tensor(0.2065)\n",
      "tsne_spc: tensor(0.0816, dtype=torch.float64)\n",
      "reso_score: tensor(0.6055)\n",
      "min_angle: tensor(5.4673)\n"
     ]
    },
    {
     "data": {
      "text/html": [
       "<style type=\"text/css\">\n",
       "</style>\n",
       "<table id=\"T_6c84b_\">\n",
       "  <thead>\n",
       "    <tr>\n",
       "      <th class=\"blank level0\" >&nbsp;</th>\n",
       "      <th class=\"col_heading level0 col0\" >stress</th>\n",
       "      <th class=\"col_heading level0 col1\" >stress_spc</th>\n",
       "      <th class=\"col_heading level0 col2\" >xing</th>\n",
       "      <th class=\"col_heading level0 col3\" >xing_spc</th>\n",
       "      <th class=\"col_heading level0 col4\" >l1_angle</th>\n",
       "      <th class=\"col_heading level0 col5\" >l1_angle_spc</th>\n",
       "      <th class=\"col_heading level0 col6\" >edge</th>\n",
       "      <th class=\"col_heading level0 col7\" >edge_spc</th>\n",
       "      <th class=\"col_heading level0 col8\" >ring</th>\n",
       "      <th class=\"col_heading level0 col9\" >ring_spc</th>\n",
       "      <th class=\"col_heading level0 col10\" >tsne</th>\n",
       "      <th class=\"col_heading level0 col11\" >tsne_spc</th>\n",
       "      <th class=\"col_heading level0 col12\" >reso_score</th>\n",
       "      <th class=\"col_heading level0 col13\" >min_angle</th>\n",
       "    </tr>\n",
       "  </thead>\n",
       "  <tbody>\n",
       "    <tr>\n",
       "      <th id=\"T_6c84b_level0_row0\" class=\"row_heading level0 row0\" >0</th>\n",
       "      <td id=\"T_6c84b_row0_col0\" class=\"data row0 col0\" >349.78</td>\n",
       "      <td id=\"T_6c84b_row0_col1\" class=\"data row0 col1\" >3.94%</td>\n",
       "      <td id=\"T_6c84b_row0_col2\" class=\"data row0 col2\" >28.00</td>\n",
       "      <td id=\"T_6c84b_row0_col3\" class=\"data row0 col3\" >17.24%</td>\n",
       "      <td id=\"T_6c84b_row0_col4\" class=\"data row0 col4\" >79.96</td>\n",
       "      <td id=\"T_6c84b_row0_col5\" class=\"data row0 col5\" >4.10%</td>\n",
       "      <td id=\"T_6c84b_row0_col6\" class=\"data row0 col6\" >0.16</td>\n",
       "      <td id=\"T_6c84b_row0_col7\" class=\"data row0 col7\" >9.84%</td>\n",
       "      <td id=\"T_6c84b_row0_col8\" class=\"data row0 col8\" >263.59</td>\n",
       "      <td id=\"T_6c84b_row0_col9\" class=\"data row0 col9\" >0.92%</td>\n",
       "      <td id=\"T_6c84b_row0_col10\" class=\"data row0 col10\" >0.21</td>\n",
       "      <td id=\"T_6c84b_row0_col11\" class=\"data row0 col11\" >8.16%</td>\n",
       "      <td id=\"T_6c84b_row0_col12\" class=\"data row0 col12\" >0.61</td>\n",
       "      <td id=\"T_6c84b_row0_col13\" class=\"data row0 col13\" >5.47</td>\n",
       "    </tr>\n",
       "  </tbody>\n",
       "</table>\n"
      ],
      "text/plain": [
       "<pandas.io.formats.style.Styler at 0x2adc068e9be0>"
      ]
     },
     "execution_count": 35,
     "metadata": {},
     "output_type": "execute_result"
    }
   ],
   "source": [
    "metrics = test_metrics\n",
    "print('stress:', metrics['stress'].mean())\n",
    "print('stress_spc:', metrics['stress_spc'].mean())\n",
    "print('xing:', metrics['xing'].mean())\n",
    "print('xing_spc:', metrics['xing_spc'].mean())\n",
    "print('l1_angle:', metrics['l1_angle'].mean())\n",
    "print('l1_angle_spc:', metrics['l1_angle_spc'].mean())\n",
    "print('edge:', metrics['edge'].mean())\n",
    "print('edge_spc:', metrics['edge_spc'].mean())\n",
    "print('ring:', metrics['ring'].mean())\n",
    "print('ring_spc:', metrics['ring_spc'].mean())\n",
    "print('tsne:', metrics['tsne'].mean())\n",
    "print('tsne_spc:', metrics['tsne_spc'].mean())\n",
    "print('reso_score:', metrics['resolution_score'].mean())\n",
    "print('min_angle:', metrics['min_angle'].mean())\n",
    "columns = [\n",
    "    'stress',\n",
    "    'stress_spc',\n",
    "    'xing',\n",
    "    'xing_spc',\n",
    "    'l1_angle',\n",
    "    'l1_angle_spc',\n",
    "    'edge',\n",
    "    'edge_spc',\n",
    "    'ring',\n",
    "    'ring_spc',\n",
    "    'tsne',\n",
    "    'tsne_spc',\n",
    "    'reso_score',\n",
    "    'min_angle'\n",
    "]\n",
    "df = pd.DataFrame(map(lambda m: metrics[m].mean().item(), list(metrics.keys())[:-1])).set_axis(columns).T\n",
    "df.style.format({c: \"{:.2f}\" for c in columns if 'spc' not in c} | {c: \"{:.2%}\" for c in columns if 'spc' in c})"
   ]
  },
  {
   "cell_type": "code",
   "execution_count": 36,
   "metadata": {
    "id": "5e7vPr0M3mmG"
   },
   "outputs": [],
   "source": [
    "metrics = {}"
   ]
  },
  {
   "cell_type": "code",
   "execution_count": 37,
   "metadata": {},
   "outputs": [],
   "source": [
    "methods = ['fa2']"
   ]
  },
  {
   "cell_type": "code",
   "execution_count": 38,
   "metadata": {
    "colab": {
     "base_uri": "https://localhost:8080/",
     "height": 433,
     "referenced_widgets": [
      "a0cf6e046add4e639e52db69656e0db9",
      "8e237731bb1241ac858581b25389c012",
      "0891547293ad4211a138a4d92e01bb0b",
      "34912c8e581e47a99a1c4829c38cb75c",
      "5aa034c99c94424e835a2ee954b829ed",
      "248f6393eff74c3eb8740ca6d698045b",
      "686687a29c7f4ec98c4d76ca2062b14b",
      "996a84d1c23b47e4a2af252c6b60f55d",
      "3507f883bb954412b21c1c5641763ed7",
      "9582a849d91e457cadd514c95d6e1b5b",
      "52bfe674c2c547e09b7400a32a96f703",
      "93d58b3a12394fe1aa6f0431fc7cb0db",
      "af1d7855c9d646b0bcc7d95c4cb147a6",
      "f820e2b898cd461da04a4f651d27273d",
      "c0a112cfaa3d4d0aa9530372de84d8fb",
      "fd03985495694fbf9feb3f31ef8d18ce",
      "e02a2b36aa4c4d6fb5d2ac6693c1a927",
      "06f388ff5e3a48828d465096fe69977b",
      "c0052778c9c940e88935593e9f94b83b",
      "99a5e77a192d4a989c4534237eb16730",
      "77c6da092a6647fc9e54f7e276d75616",
      "8c13c0e8b5934117a662a78296bcb1b6",
      "cdcc3bd4235247b48c468c0f6b7682cc",
      "a2c6fa6fef4549cc853fa93b4b18cf95",
      "15cc02a756314083801b5f6798a1948c",
      "24d1c67fe52f452ab0c767e3c1a818aa",
      "c117db25c6fd484a9d0c7f210ccb1ade",
      "b090b60b61084cf692b3066dfac7f0a8",
      "5eab9848059c491b9c6cbac88683f025",
      "e87ffbaa1f204b52b9226337a506b040",
      "cf52198a9e4b46c7b49537a79919c09e",
      "51501227bc064ccbab97c22a679a0750",
      "d1b794a997dc457888a90bf44faee9b4",
      "21a755b50e5047bea797eccf24b35a0c",
      "16e78c3823ec4faf9f9cd9095b218ff5",
      "4ccd332c6b734acd8eff236eaf568dfa",
      "bd60fd13748347e48629df78fa455765",
      "e9187e4ba80b4fafa0334dae2e39aded",
      "4c39ec7c92b4402e8eedcb27beabaab1",
      "59a8194269f943bba571f710ad856973",
      "8e41bc25b9f348b1b85b381547cd60d1",
      "34d0f1529e64437fb25e639b41096072",
      "7e832c7543df43668eb72c0aa6356349",
      "f94162c9c5fe4c2581e3b80beaeb820b",
      "0284946fccf34607b25e1d6d81d4f72a",
      "8e8d4243a3624ba58d760bdf601d5126",
      "b1f0932594fe44f4be4beb8880172871",
      "820bb554d139437b8f6a6997f9002261",
      "459e375d1fe4497cb4197ef88e303c6d",
      "5726814966da46bbba942a114de4b319",
      "448beea5445f4642809801da46aa7e7c",
      "3746c0f0daf04f51805b4c95db20063a",
      "2ff74d1c705348438a32da37910c3300",
      "52f03147b5ab4cb390f9802b7a17a508",
      "5428511d652a47348203e8f3cd2e076d",
      "7b58569bee2e44c5a61a81f9a32c4c01",
      "c5e05d74b9404333a8155304e3497ba2",
      "3ad4e058bde44d87abab780368d49118",
      "8e437049b5c74ff1beddad93e30b19aa",
      "0c61377f4cc34b27ae34bdd6d976d868",
      "9ce35f9a9a23436ea77604513b5c4659",
      "dafbc43ad79c4feda093aefe490fc4b3",
      "497160b6bf80469a89680a03a468c8bb",
      "3265725ecb914981b6f07f68b8a582df",
      "1f0ac20d99d04ffb9ee75613526d3de6",
      "dee0e5716560483b8e2b107566439d94",
      "ca99841a1abd4fbd94927c49aaa711cb",
      "163a44ff1be04583ae7bd62726c55204",
      "f3b727045a0b4b4fabd147ec9c843e14",
      "7c4b4fe859cf48ab99b7e2780a24a539",
      "d9700cffab66480cb81e3722faab4e8b",
      "2c49acc1e0a64aa4b8ec461b0596848e",
      "691817157f43412f9c36002167606b75",
      "d0ae688d71734b56bb348de54e841798",
      "07a364ebcdaa491dbcc2304e4a8dae96",
      "538b277307b1449eaa79a2a91b4741d3",
      "f7b7dd4cbaa5468687b988c5e416a154",
      "877be862a4f045ec8b221097626becb5",
      "1bf37012df0844338ac689d4f6cc8eab",
      "33fe06641be544d3aab2c25cb979416f",
      "68de0d9261fa4e6999967b6f196d149c",
      "7017c5ba1ffc467495aca2689e516f7d",
      "e0997460cc21428695a0c278c6691baf",
      "522443bef4904996b6361ea265c4c56f",
      "dfe044b67917466f971ba84a11956d5e",
      "70b2d0ba1c1d4102841fb963480de1c7",
      "7b158daacd754a40bc0a48fc9ea6fea2",
      "8904f61ff30741e488eacf0e49440f66",
      "685dee6f1e1f4c2983d2d0b8eb90ed00",
      "005155a4d62d48cbbaf3d69614b08d81",
      "d2779dfa620041e4b32a7731926a5982",
      "53048bf27cb24080b4cdf20379302223",
      "0b5bff7794a14a20964da70b87158c2c",
      "ec664e55ea16435590393ae1617cccea",
      "f10d62ef464a45a7935610d869c282e3",
      "5e7c09bc35db4a3a8b9847c6d8478883",
      "987ea331b617446facc81b08bab1f8c4",
      "446c5a687b0d43358ab036d43ce281c3",
      "d89e216f62ae4a9999da1a91dd5e48b9",
      "09d03e7e66f54cafacefbfeda5fd6e5c",
      "d58c680562a44bbd9252e7ec6eebc06c",
      "71ea2594fdd942acac1cc61055438544",
      "fecda4df301b437f9fbfb61a7b593dc0",
      "bcf6741d926248cb92acf627d6557d2b",
      "5bd9868b9bda4f68b500a43916e2d148",
      "4bc5e02035de44ad827c4f881fd75afc",
      "7d80033a955e4feb947ca9cea931d90b",
      "e975c796d80d498992a50f87a2b0105c",
      "028b2ff105904a19a9a3e8ebf66967bb",
      "10dbf2cbdb1943eda6a0acaf5da3fe85",
      "14d59c7acc5e4e07a289db44406a4851",
      "d9447df93d714907bc9c768eb4910352",
      "d4a9ace081bf488680a7e43e0eaed71d",
      "022a60cde19546bfa6ecfb4947615ad9",
      "10c01207d9ba4fe197dc80717fceecc0",
      "f4995936570d4ba1a65e9a66e410b505",
      "b4bf66303e61491385cd616076a11c04",
      "a24ab2bfe7a44263bf60936d6e53ec32",
      "59e2e8ecc9f84d57af7bf44f5bba5df7",
      "be2eb92aab8045a99fd19195c3546b60",
      "e6715db2b048434796e910952cb5eb62",
      "8de2335007ba4a6b9935fa0c514c9f6a",
      "493a4bbe8057437a8c8acf4d03f8dcb0",
      "20b03955acc74e238695717124705520",
      "a89f9507496b4cf8bdd63bdb9bff79c4",
      "9752a1f6c8b6488d9628b8e0c023f10f",
      "61a0bebc687341a7bb3352febc8d4986",
      "07e0ff9c82a444788c60edee70688ca7",
      "4427901f35e54cc48e08527bb402c22a",
      "bd9dafb825954091ba975d71ab8c89ea",
      "7ec0f07bfe51484da38c18dc66d77804",
      "03943afebc4d4b668b54c7a0fd014a37",
      "a7a6b38a76424d738146b6a5786cf2c8",
      "1d1aa4729784470584c0001c1a296008",
      "e0c68ac9b5b442eeb77e6d9ea3c1da42",
      "c858ef9fd9324ab0ab885d85e3c8582f",
      "627bc2899c994a0c96c5d43e89dc77ff",
      "0e2c2f21fa8041038151170992ecb848",
      "2d9bcbf7629a4671bf8755e790276eb7",
      "77a4edf6ab1848a6a6df20c1c07358c6",
      "acf2212d6bb44c729b63281a98377095",
      "0c7a72818da3454190bab7f30a29e249",
      "d865af915b8b4aaa8cec8d40f1f8351d"
     ]
    },
    "id": "s1UnzfID4Ai6",
    "outputId": "3e204e76-68fd-4111-f527-91f6e3b7a3ca"
   },
   "outputs": [
    {
     "data": {
      "application/vnd.jupyter.widget-view+json": {
       "model_id": "976ab2160f2e43afa2cd00c90665f7f9",
       "version_major": 2,
       "version_minor": 0
      },
      "text/plain": [
       "  0%|          | 0/1000 [00:00<?, ?it/s]"
      ]
     },
     "metadata": {},
     "output_type": "display_data"
    }
   ],
   "source": [
    "for m in methods:\n",
    "    metrics[m] = test(model=test_generator, \n",
    "                      criteria_list=[], \n",
    "                      dataset=data_list, \n",
    "                      idx_range=range(10000, 11000), \n",
    "                      callback=None,\n",
    "                      gt_pos=load_pos(m))"
   ]
  },
  {
   "cell_type": "code",
   "execution_count": 39,
   "metadata": {
    "id": "dQ7hdCtk5u6K"
   },
   "outputs": [],
   "source": [
    "mean_metrics = {key : list(map(lambda m: metrics[key][m].mean().item(), list(metrics[key].keys())[:-1])) for key in metrics}"
   ]
  },
  {
   "cell_type": "code",
   "execution_count": 40,
   "metadata": {
    "colab": {
     "base_uri": "https://localhost:8080/",
     "height": 313
    },
    "id": "OGyaCmLXTuvA",
    "outputId": "6c42d9f3-9869-4504-bc9c-d0eedaecfd90"
   },
   "outputs": [
    {
     "data": {
      "text/html": [
       "<style type=\"text/css\">\n",
       "</style>\n",
       "<table id=\"T_9a750_\">\n",
       "  <thead>\n",
       "    <tr>\n",
       "      <th class=\"blank level0\" >&nbsp;</th>\n",
       "      <th class=\"col_heading level0 col0\" >stress</th>\n",
       "      <th class=\"col_heading level0 col1\" >stress_spc</th>\n",
       "      <th class=\"col_heading level0 col2\" >xing</th>\n",
       "      <th class=\"col_heading level0 col3\" >xing_spc</th>\n",
       "      <th class=\"col_heading level0 col4\" >l1_angle</th>\n",
       "      <th class=\"col_heading level0 col5\" >l1_angle_spc</th>\n",
       "      <th class=\"col_heading level0 col6\" >edge</th>\n",
       "      <th class=\"col_heading level0 col7\" >edge_spc</th>\n",
       "      <th class=\"col_heading level0 col8\" >ring</th>\n",
       "      <th class=\"col_heading level0 col9\" >ring_spc</th>\n",
       "      <th class=\"col_heading level0 col10\" >tsne</th>\n",
       "      <th class=\"col_heading level0 col11\" >tsne_spc</th>\n",
       "      <th class=\"col_heading level0 col12\" >reso_score</th>\n",
       "      <th class=\"col_heading level0 col13\" >min_angle</th>\n",
       "    </tr>\n",
       "  </thead>\n",
       "  <tbody>\n",
       "    <tr>\n",
       "      <th id=\"T_9a750_level0_row0\" class=\"row_heading level0 row0\" >fa2</th>\n",
       "      <td id=\"T_9a750_row0_col0\" class=\"data row0 col0\" >349.81</td>\n",
       "      <td id=\"T_9a750_row0_col1\" class=\"data row0 col1\" >-10.87%</td>\n",
       "      <td id=\"T_9a750_row0_col2\" class=\"data row0 col2\" >28.00</td>\n",
       "      <td id=\"T_9a750_row0_col3\" class=\"data row0 col3\" >4.69%</td>\n",
       "      <td id=\"T_9a750_row0_col4\" class=\"data row0 col4\" >79.95</td>\n",
       "      <td id=\"T_9a750_row0_col5\" class=\"data row0 col5\" >7.10%</td>\n",
       "      <td id=\"T_9a750_row0_col6\" class=\"data row0 col6\" >0.16</td>\n",
       "      <td id=\"T_9a750_row0_col7\" class=\"data row0 col7\" >-19.00%</td>\n",
       "      <td id=\"T_9a750_row0_col8\" class=\"data row0 col8\" >263.60</td>\n",
       "      <td id=\"T_9a750_row0_col9\" class=\"data row0 col9\" >-0.62%</td>\n",
       "      <td id=\"T_9a750_row0_col10\" class=\"data row0 col10\" >0.21</td>\n",
       "      <td id=\"T_9a750_row0_col11\" class=\"data row0 col11\" >4.76%</td>\n",
       "      <td id=\"T_9a750_row0_col12\" class=\"data row0 col12\" >0.61</td>\n",
       "      <td id=\"T_9a750_row0_col13\" class=\"data row0 col13\" >5.46</td>\n",
       "    </tr>\n",
       "  </tbody>\n",
       "</table>\n"
      ],
      "text/plain": [
       "<pandas.io.formats.style.Styler at 0x2adc0690a2b0>"
      ]
     },
     "execution_count": 40,
     "metadata": {},
     "output_type": "execute_result"
    }
   ],
   "source": [
    "columns = [\n",
    "    'stress',\n",
    "    'stress_spc',\n",
    "    'xing',\n",
    "    'xing_spc',\n",
    "    'l1_angle',\n",
    "    'l1_angle_spc',\n",
    "    'edge',\n",
    "    'edge_spc',\n",
    "    'ring',\n",
    "    'ring_spc',\n",
    "    'tsne',\n",
    "    'tsne_spc',\n",
    "    'reso_score',\n",
    "    'min_angle'\n",
    "]\n",
    "df = pd.DataFrame(mean_metrics).set_axis(columns).T\n",
    "df.style.format({c: \"{:.2f}\" for c in columns if 'spc' not in c} | {c: \"{:.2%}\" for c in columns if 'spc' in c})"
   ]
  },
  {
   "cell_type": "markdown",
   "metadata": {
    "id": "L5S1HWnHOWIl"
   },
   "source": [
    "# Large Graph"
   ]
  },
  {
   "cell_type": "code",
   "execution_count": null,
   "metadata": {
    "id": "_pefPcV1OZdD"
   },
   "outputs": [],
   "source": [
    "scalability = pd.read_csv(f\"/__artifacts__/data/scalability.csv\", index_col=\"index\")\n",
    "scalability"
   ]
  },
  {
   "cell_type": "code",
   "execution_count": null,
   "metadata": {
    "id": "oMhWAsdvPnTX"
   },
   "outputs": [],
   "source": [
    "rescale = CanonicalizationByStress()\n",
    "stressfn = Stress()\n",
    "rotate = RotateByPrincipalComponents()"
   ]
  },
  {
   "cell_type": "code",
   "execution_count": null,
   "metadata": {
    "id": "LR83OcAaPID5"
   },
   "outputs": [],
   "source": [
    "stress_list = []\n",
    "spc_list = []\n",
    "pmds_list = np.load(\"layouts/new_large_graph/pmds.npy\", allow_pickle=True)\n",
    "gviz_list = np.load(\"layouts/new_large_graph/gviz.npy\", allow_pickle=True)\n",
    "with torch.no_grad():\n",
    "    for idx, col in tqdm(scalability.iterrows(), total=len(scalability)):\n",
    "        # if idx not in [406, 516]: continue\n",
    "        torch.cuda.empty_cache()\n",
    "        G = load_mtx(col['file'])\n",
    "        G.remove_edges_from(nx.selfloop_edges(G))\n",
    "        data = generate_data_list(G, \n",
    "                                sparse=data_config.sparse, \n",
    "                                pivot_mode=data_config.pivot,\n",
    "                                init_mode=data_config.init,\n",
    "                                edge_index=data_config.edge.index,\n",
    "                                edge_attr=data_config.edge.attr,\n",
    "                                pmds_list=pmds_list[idx],\n",
    "                                gviz_list=gviz_list[idx],\n",
    "                                device=device)\n",
    "        batch = Batch.from_data_list([data]).to(device)\n",
    "        # generator.train()\n",
    "        # generator(batch)\n",
    "        generator.eval()\n",
    "        pred = generator(batch)\n",
    "        pos = rotate(rescale(pred, batch), batch)\n",
    "        gt = rotate(rescale(batch.gt_pos, batch), batch)\n",
    "        stress = stressfn(pos, batch).item()\n",
    "        gt_stress = stressfn(gt, batch).item()\n",
    "        spc = (stress - gt_stress) / np.maximum(stress, gt_stress)\n",
    "        stress_list.append(stress)\n",
    "        spc_list.append(spc)\n",
    "\n",
    "        np.save(f\"/__artifacts__/gan_result/data/scalability_{idx}.npy\", pos.cpu().numpy())\n",
    "        graph_attr = dict(node_size=1, \n",
    "                        with_labels=False, \n",
    "                        labels=dict(zip(list(G.nodes), map(lambda n: n if type(n) is int else n[1:], list(G.nodes)))),\n",
    "                        font_color=\"white\", \n",
    "                        font_weight=\"bold\",\n",
    "                        font_size=12,\n",
    "                        width=0.1)\n",
    "\n",
    "        # gt_pos = pickle.load(open(f\"/__artifacts__/data/scalability_{idx}_gt.pkl\", \"rb\"))\n",
    "\n",
    "        plt.figure(figsize=[12, 9])\n",
    "        nx.draw(G, pos=gt.cpu().numpy(), node_color='orange', **graph_attr)\n",
    "        plt.title(f\"neato: large_{idx}\")\n",
    "        plt.axis(\"equal\")\n",
    "        plt.savefig(f\"/__artifacts__/gan_result/output/{idx}_{col['name']}_{col['n']}_{spc}_nx.png\", dpi=300)\n",
    "        plt.show()\n",
    "\n",
    "        plt.figure(figsize=[12, 9])\n",
    "        graph_vis(G, pos.cpu().numpy(), **graph_attr)\n",
    "        plt.title(f\"dgd: large_{idx}, spc={spc:.2%}\")\n",
    "        plt.axis(\"equal\")\n",
    "        plt.savefig(f\"/__artifacts__/gan_result/output/{idx}_{col['name']}_{col['n']}_{spc}_dgd.png\", dpi=300)\n",
    "        plt.show()"
   ]
  },
  {
   "cell_type": "code",
   "execution_count": null,
   "metadata": {
    "id": "gRXTewkYeuq1"
   },
   "outputs": [],
   "source": []
  }
 ],
 "metadata": {
  "accelerator": "GPU",
  "colab": {
   "collapsed_sections": [
    "w_p3OD0woiSM",
    "DR6-vYtr_i_P",
    "innqkwvH_ydD",
    "f-ODE2k8BFV6",
    "N39dDHraedM6"
   ],
   "machine_shape": "hm",
   "name": "GAN(gan=rgan,data=best(xing,stress),dis=deep,share=16,embed=0,gp=0).ipynb",
   "provenance": []
  },
  "kernelspec": {
   "display_name": "DeepGD",
   "language": "python",
   "name": "deepgd"
  },
  "language_info": {
   "codemirror_mode": {
    "name": "ipython",
    "version": 3
   },
   "file_extension": ".py",
   "mimetype": "text/x-python",
   "name": "python",
   "nbconvert_exporter": "python",
   "pygments_lexer": "ipython3",
   "version": "3.9.7"
  },
  "widgets": {
   "application/vnd.jupyter.widget-state+json": {
    "state": {
     "03dee5ca30944815bde8aed38f4dcf99": {
      "model_module": "@jupyter-widgets/controls",
      "model_module_version": "1.5.0",
      "model_name": "HBoxModel",
      "state": {
       "children": [
        "IPY_MODEL_5665d921922446aa81077cdf4e090828",
        "IPY_MODEL_44bb24243eaa4ffba41a2219db460f93",
        "IPY_MODEL_61cf143d923f4f1dba4c8f22d6bb9060"
       ],
       "layout": "IPY_MODEL_3148f9bc97f04988a6a90fe30c0acca5"
      }
     },
     "096bfa2769584f689afbe7f962bb26a1": {
      "model_module": "@jupyter-widgets/controls",
      "model_module_version": "1.5.0",
      "model_name": "TabModel",
      "state": {
       "_titles": {
        "0": "status",
        "1": "plot",
        "2": "log"
       },
       "children": [
        "IPY_MODEL_5cb3271e5cdd4bc7b9f3e23433ebe85f",
        "IPY_MODEL_995ae629018f4ca3b1ae4f38b53f5bf3",
        "IPY_MODEL_da6bddb997db471a8aef50170f9c13ab"
       ],
       "layout": "IPY_MODEL_3b099a285af04bf6bbf74c79843cbb8f"
      }
     },
     "0f31178f16544ff991e53e4c0b50a856": {
      "model_module": "@jupyter-widgets/base",
      "model_module_version": "1.2.0",
      "model_name": "LayoutModel",
      "state": {}
     },
     "135eabed8c1245f5b44edf4349f39ef8": {
      "model_module": "@jupyter-widgets/controls",
      "model_module_version": "1.5.0",
      "model_name": "HTMLModel",
      "state": {
       "layout": "IPY_MODEL_3dd755c042524c259ed0f114caa80fff",
       "style": "IPY_MODEL_6a28e826c6a54cd196b9454a761ce30d",
       "value": "100%"
      }
     },
     "1acd9a355c264208b233298e81c969e8": {
      "model_module": "@jupyter-widgets/base",
      "model_module_version": "1.2.0",
      "model_name": "LayoutModel",
      "state": {}
     },
     "1b6a49da3f7e405ba9773222588071dd": {
      "model_module": "@jupyter-widgets/base",
      "model_module_version": "1.2.0",
      "model_name": "LayoutModel",
      "state": {}
     },
     "1c9a92dafe4f4fa9b48469e44edb996a": {
      "model_module": "@jupyter-widgets/base",
      "model_module_version": "1.2.0",
      "model_name": "LayoutModel",
      "state": {}
     },
     "25505fbfcf46466a8aac112b2d9011a9": {
      "model_module": "@jupyter-widgets/base",
      "model_module_version": "1.2.0",
      "model_name": "LayoutModel",
      "state": {
       "height": "500px",
       "overflow_y": "auto"
      }
     },
     "2921708f30764b04ac028201ce8dc38e": {
      "model_module": "@jupyter-widgets/base",
      "model_module_version": "1.2.0",
      "model_name": "LayoutModel",
      "state": {}
     },
     "2981e54b3d8544b4bb50def45c90d7ac": {
      "model_module": "@jupyter-widgets/base",
      "model_module_version": "1.2.0",
      "model_name": "LayoutModel",
      "state": {}
     },
     "2c7ef27705524e52aee78853788978b1": {
      "model_module": "@jupyter-widgets/controls",
      "model_module_version": "1.5.0",
      "model_name": "DescriptionStyleModel",
      "state": {
       "description_width": ""
      }
     },
     "2d3348fe024847a788c736a0db5e40a4": {
      "model_module": "@jupyter-widgets/base",
      "model_module_version": "1.2.0",
      "model_name": "LayoutModel",
      "state": {}
     },
     "3148f9bc97f04988a6a90fe30c0acca5": {
      "model_module": "@jupyter-widgets/base",
      "model_module_version": "1.2.0",
      "model_name": "LayoutModel",
      "state": {}
     },
     "315709060ed44559be7d9745b081a781": {
      "model_module": "@jupyter-widgets/output",
      "model_module_version": "1.0.0",
      "model_name": "OutputModel",
      "state": {
       "layout": "IPY_MODEL_3df8e4417f4448f397f2e762479704a7",
       "outputs": [
        {
         "data": {
          "text/html": "<div>\n<style scoped>\n    .dataframe tbody tr th:only-of-type {\n        vertical-align: middle;\n    }\n\n    .dataframe tbody tr th {\n        vertical-align: top;\n    }\n\n    .dataframe thead th {\n        text-align: right;\n    }\n</style>\n<table border=\"1\" class=\"dataframe\">\n  <thead>\n    <tr style=\"text-align: right;\">\n      <th></th>\n      <th>val_stress</th>\n      <th>val_stress_spc</th>\n      <th>val_xing</th>\n      <th>val_xing_spc</th>\n      <th>dis_loss</th>\n      <th>gen_loss</th>\n      <th>stress</th>\n      <th>critic</th>\n    </tr>\n  </thead>\n  <tbody>\n    <tr>\n      <th>epoch 1055</th>\n      <td>379.93</td>\n      <td>4.56%</td>\n      <td>31.89</td>\n      <td>16.01%</td>\n      <td>2.48e-01</td>\n      <td>1.17e+01</td>\n      <td>-4.32e+02</td>\n      <td>-3.79e+01</td>\n    </tr>\n  </tbody>\n</table>\n</div>",
          "text/plain": "           val_stress val_stress_spc val_xing val_xing_spc  dis_loss  \\\nepoch 1055     379.93          4.56%    31.89       16.01%  2.48e-01   \n\n            gen_loss     stress     critic  \nepoch 1055  1.17e+01  -4.32e+02  -3.79e+01  "
         },
         "metadata": {},
         "output_type": "display_data"
        }
       ]
      }
     },
     "36add88a2ef34689ab53021652f258aa": {
      "model_module": "@jupyter-widgets/controls",
      "model_module_version": "1.5.0",
      "model_name": "HTMLModel",
      "state": {
       "layout": "IPY_MODEL_1c9a92dafe4f4fa9b48469e44edb996a",
       "style": "IPY_MODEL_4c839fc2ebb14bc3807561f1a6400ae1",
       "value": " 1000/1000 [00:53&lt;00:00, 20.69it/s]"
      }
     },
     "3b099a285af04bf6bbf74c79843cbb8f": {
      "model_module": "@jupyter-widgets/base",
      "model_module_version": "1.2.0",
      "model_name": "LayoutModel",
      "state": {}
     },
     "3dd755c042524c259ed0f114caa80fff": {
      "model_module": "@jupyter-widgets/base",
      "model_module_version": "1.2.0",
      "model_name": "LayoutModel",
      "state": {}
     },
     "3df8e4417f4448f397f2e762479704a7": {
      "model_module": "@jupyter-widgets/base",
      "model_module_version": "1.2.0",
      "model_name": "LayoutModel",
      "state": {}
     },
     "44bb24243eaa4ffba41a2219db460f93": {
      "model_module": "@jupyter-widgets/controls",
      "model_module_version": "1.5.0",
      "model_name": "FloatProgressModel",
      "state": {
       "layout": "IPY_MODEL_4d399378184940a4ac76553827dbfe2f",
       "max": 834,
       "style": "IPY_MODEL_a7696a65b38746539724e694af2865e0",
       "value": 69
      }
     },
     "476e45350628439e9ca23dec6582a290": {
      "model_module": "@jupyter-widgets/controls",
      "model_module_version": "1.5.0",
      "model_name": "HTMLModel",
      "state": {
       "layout": "IPY_MODEL_8e323cd657734e5aa09edfa30af7782a",
       "style": "IPY_MODEL_effb436a3ad54ebc949d70bbe4183c7c",
       "value": " 11531/11531 [00:00&lt;00:00, 52792.82it/s]"
      }
     },
     "4c839fc2ebb14bc3807561f1a6400ae1": {
      "model_module": "@jupyter-widgets/controls",
      "model_module_version": "1.5.0",
      "model_name": "DescriptionStyleModel",
      "state": {
       "description_width": ""
      }
     },
     "4d399378184940a4ac76553827dbfe2f": {
      "model_module": "@jupyter-widgets/base",
      "model_module_version": "1.2.0",
      "model_name": "LayoutModel",
      "state": {}
     },
     "52371208418c49b79375b0d7a6afbd70": {
      "model_module": "@jupyter-widgets/base",
      "model_module_version": "1.2.0",
      "model_name": "LayoutModel",
      "state": {}
     },
     "552d23bdc7f844c398a2a28356d143d7": {
      "model_module": "@jupyter-widgets/base",
      "model_module_version": "1.2.0",
      "model_name": "LayoutModel",
      "state": {}
     },
     "5665d921922446aa81077cdf4e090828": {
      "model_module": "@jupyter-widgets/controls",
      "model_module_version": "1.5.0",
      "model_name": "HTMLModel",
      "state": {
       "layout": "IPY_MODEL_d4162c00b2cb46428e3479381d25e797",
       "style": "IPY_MODEL_dd2a238ee44549dd832565132384929f",
       "value": "[epoch 1055/None]:   8%"
      }
     },
     "5cb3271e5cdd4bc7b9f3e23433ebe85f": {
      "model_module": "@jupyter-widgets/controls",
      "model_module_version": "1.5.0",
      "model_name": "VBoxModel",
      "state": {
       "children": [
        "IPY_MODEL_dffa27df0dd9432cb22b4e090b8e1910",
        "IPY_MODEL_315709060ed44559be7d9745b081a781"
       ],
       "layout": "IPY_MODEL_ab0960c64d8a48eb8ae6a19fd5db0358"
      }
     },
     "61cf143d923f4f1dba4c8f22d6bb9060": {
      "model_module": "@jupyter-widgets/controls",
      "model_module_version": "1.5.0",
      "model_name": "HTMLModel",
      "state": {
       "layout": "IPY_MODEL_0f31178f16544ff991e53e4c0b50a856",
       "style": "IPY_MODEL_670223f6c55c4204a383c3fd648528ec",
       "value": " 69/834 [00:10&lt;01:53,  6.75it/s]"
      }
     },
     "63112ae06af9463b9ad6cafc43ffa069": {
      "model_module": "@jupyter-widgets/controls",
      "model_module_version": "1.5.0",
      "model_name": "FloatProgressModel",
      "state": {
       "bar_style": "success",
       "layout": "IPY_MODEL_b946fc760d8e43d7963d8499302e5069",
       "max": 1000,
       "style": "IPY_MODEL_f357185a1d184ca09ded4055086575b2",
       "value": 1000
      }
     },
     "63c6dbcd61fe4fa9b9b5a0f57da79156": {
      "model_module": "@jupyter-widgets/base",
      "model_module_version": "1.2.0",
      "model_name": "LayoutModel",
      "state": {}
     },
     "670223f6c55c4204a383c3fd648528ec": {
      "model_module": "@jupyter-widgets/controls",
      "model_module_version": "1.5.0",
      "model_name": "DescriptionStyleModel",
      "state": {
       "description_width": ""
      }
     },
     "6a28e826c6a54cd196b9454a761ce30d": {
      "model_module": "@jupyter-widgets/controls",
      "model_module_version": "1.5.0",
      "model_name": "DescriptionStyleModel",
      "state": {
       "description_width": ""
      }
     },
     "6f72efde5ea248a3b5b8e362e479df90": {
      "model_module": "@jupyter-widgets/base",
      "model_module_version": "1.2.0",
      "model_name": "LayoutModel",
      "state": {}
     },
     "72ea6b9e8875472394c30c9a7c3d0918": {
      "model_module": "@jupyter-widgets/controls",
      "model_module_version": "1.5.0",
      "model_name": "DescriptionStyleModel",
      "state": {
       "description_width": ""
      }
     },
     "8e323cd657734e5aa09edfa30af7782a": {
      "model_module": "@jupyter-widgets/base",
      "model_module_version": "1.2.0",
      "model_name": "LayoutModel",
      "state": {}
     },
     "97654b20674f4de3b81e79e5f51fb8f6": {
      "model_module": "@jupyter-widgets/controls",
      "model_module_version": "1.5.0",
      "model_name": "FloatProgressModel",
      "state": {
       "bar_style": "success",
       "layout": "IPY_MODEL_1b6a49da3f7e405ba9773222588071dd",
       "max": 1000,
       "style": "IPY_MODEL_c8988709dde14cb6ac269b53a012212a",
       "value": 1000
      }
     },
     "976ab2160f2e43afa2cd00c90665f7f9": {
      "model_module": "@jupyter-widgets/controls",
      "model_module_version": "1.5.0",
      "model_name": "HBoxModel",
      "state": {
       "children": [
        "IPY_MODEL_ae7371c3e91c48f5914bb525d97db8da",
        "IPY_MODEL_63112ae06af9463b9ad6cafc43ffa069",
        "IPY_MODEL_cec6604defed45a8895a5d3389ceedb2"
       ],
       "layout": "IPY_MODEL_63c6dbcd61fe4fa9b9b5a0f57da79156"
      }
     },
     "995ae629018f4ca3b1ae4f38b53f5bf3": {
      "model_module": "@jupyter-widgets/controls",
      "model_module_version": "1.5.0",
      "model_name": "HBoxModel",
      "state": {
       "children": [
        "IPY_MODEL_b811c5a71230435c9c229299f8255076"
       ],
       "layout": "IPY_MODEL_25505fbfcf46466a8aac112b2d9011a9"
      }
     },
     "9afb4e1b37fc4b4a9b83ca4270b575eb": {
      "model_module": "@jupyter-widgets/output",
      "model_module_version": "1.0.0",
      "model_name": "OutputModel",
      "state": {
       "layout": "IPY_MODEL_6f72efde5ea248a3b5b8e362e479df90",
       "outputs": [
        {
         "name": "stdout",
         "output_type": "stream",
         "text": "[1054] stress=377.06(4.18%) xing=31.88(15.71%)\n[1055] stress=379.93(4.56%) xing=31.89(16.01%)\n"
        }
       ]
      }
     },
     "9c81d3fd1bac4e98aee86306d03c14a1": {
      "model_module": "@jupyter-widgets/base",
      "model_module_version": "1.2.0",
      "model_name": "LayoutModel",
      "state": {
       "height": "500px",
       "overflow_y": "auto"
      }
     },
     "a5966753da7d4b7eb49901e2e83eae72": {
      "model_module": "@jupyter-widgets/controls",
      "model_module_version": "1.5.0",
      "model_name": "DescriptionStyleModel",
      "state": {
       "description_width": ""
      }
     },
     "a5fe2a0a0cf1425daecd7fc0046aa4ad": {
      "model_module": "@jupyter-widgets/base",
      "model_module_version": "1.2.0",
      "model_name": "LayoutModel",
      "state": {}
     },
     "a7696a65b38746539724e694af2865e0": {
      "model_module": "@jupyter-widgets/controls",
      "model_module_version": "1.5.0",
      "model_name": "ProgressStyleModel",
      "state": {
       "description_width": ""
      }
     },
     "ab0960c64d8a48eb8ae6a19fd5db0358": {
      "model_module": "@jupyter-widgets/base",
      "model_module_version": "1.2.0",
      "model_name": "LayoutModel",
      "state": {}
     },
     "ae7371c3e91c48f5914bb525d97db8da": {
      "model_module": "@jupyter-widgets/controls",
      "model_module_version": "1.5.0",
      "model_name": "HTMLModel",
      "state": {
       "layout": "IPY_MODEL_2d3348fe024847a788c736a0db5e40a4",
       "style": "IPY_MODEL_72ea6b9e8875472394c30c9a7c3d0918",
       "value": "100%"
      }
     },
     "b811c5a71230435c9c229299f8255076": {
      "model_module": "@jupyter-widgets/output",
      "model_module_version": "1.0.0",
      "model_name": "OutputModel",
      "state": {
       "layout": "IPY_MODEL_1acd9a355c264208b233298e81c969e8",
       "outputs": [
        {
         "data": {
          "image/png": "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\n",
          "text/plain": "<Figure size 432x288 with 1 Axes>"
         },
         "metadata": {},
         "output_type": "display_data"
        },
        {
         "data": {
          "image/png": "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\n",
          "text/plain": "<Figure size 432x288 with 1 Axes>"
         },
         "metadata": {},
         "output_type": "display_data"
        }
       ]
      }
     },
     "b946fc760d8e43d7963d8499302e5069": {
      "model_module": "@jupyter-widgets/base",
      "model_module_version": "1.2.0",
      "model_name": "LayoutModel",
      "state": {}
     },
     "c8988709dde14cb6ac269b53a012212a": {
      "model_module": "@jupyter-widgets/controls",
      "model_module_version": "1.5.0",
      "model_name": "ProgressStyleModel",
      "state": {
       "description_width": ""
      }
     },
     "c8d62327094d41c78dafbb058ab88905": {
      "model_module": "@jupyter-widgets/controls",
      "model_module_version": "1.5.0",
      "model_name": "FloatProgressModel",
      "state": {
       "bar_style": "success",
       "layout": "IPY_MODEL_2981e54b3d8544b4bb50def45c90d7ac",
       "max": 11531,
       "style": "IPY_MODEL_fbda4153df334a1899baf96a36f263cd",
       "value": 11531
      }
     },
     "cec6604defed45a8895a5d3389ceedb2": {
      "model_module": "@jupyter-widgets/controls",
      "model_module_version": "1.5.0",
      "model_name": "HTMLModel",
      "state": {
       "layout": "IPY_MODEL_52371208418c49b79375b0d7a6afbd70",
       "style": "IPY_MODEL_2c7ef27705524e52aee78853788978b1",
       "value": " 1000/1000 [00:50&lt;00:00, 20.78it/s]"
      }
     },
     "d4162c00b2cb46428e3479381d25e797": {
      "model_module": "@jupyter-widgets/base",
      "model_module_version": "1.2.0",
      "model_name": "LayoutModel",
      "state": {}
     },
     "d9183ce330a04c619fb9677da203a664": {
      "model_module": "@jupyter-widgets/controls",
      "model_module_version": "1.5.0",
      "model_name": "HBoxModel",
      "state": {
       "children": [
        "IPY_MODEL_faafef4b2d31494b8dd6eb5154d427af",
        "IPY_MODEL_c8d62327094d41c78dafbb058ab88905",
        "IPY_MODEL_476e45350628439e9ca23dec6582a290"
       ],
       "layout": "IPY_MODEL_a5fe2a0a0cf1425daecd7fc0046aa4ad"
      }
     },
     "da6bddb997db471a8aef50170f9c13ab": {
      "model_module": "@jupyter-widgets/controls",
      "model_module_version": "1.5.0",
      "model_name": "HBoxModel",
      "state": {
       "children": [
        "IPY_MODEL_9afb4e1b37fc4b4a9b83ca4270b575eb"
       ],
       "layout": "IPY_MODEL_9c81d3fd1bac4e98aee86306d03c14a1"
      }
     },
     "dd2a238ee44549dd832565132384929f": {
      "model_module": "@jupyter-widgets/controls",
      "model_module_version": "1.5.0",
      "model_name": "DescriptionStyleModel",
      "state": {
       "description_width": ""
      }
     },
     "dffa27df0dd9432cb22b4e090b8e1910": {
      "model_module": "@jupyter-widgets/output",
      "model_module_version": "1.0.0",
      "model_name": "OutputModel",
      "state": {
       "layout": "IPY_MODEL_f62ad8f0067646f7bee3616ed9ea6b3f",
       "outputs": [
        {
         "data": {
          "application/vnd.jupyter.widget-view+json": {
           "model_id": "03dee5ca30944815bde8aed38f4dcf99",
           "version_major": 2,
           "version_minor": 0
          },
          "text/plain": "  0%|          | 0/834 [00:00<?, ?it/s]"
         },
         "metadata": {},
         "output_type": "display_data"
        }
       ]
      }
     },
     "e9bd470f014d406f9b1d699adafa9ba5": {
      "model_module": "@jupyter-widgets/controls",
      "model_module_version": "1.5.0",
      "model_name": "HBoxModel",
      "state": {
       "children": [
        "IPY_MODEL_135eabed8c1245f5b44edf4349f39ef8",
        "IPY_MODEL_97654b20674f4de3b81e79e5f51fb8f6",
        "IPY_MODEL_36add88a2ef34689ab53021652f258aa"
       ],
       "layout": "IPY_MODEL_2921708f30764b04ac028201ce8dc38e"
      }
     },
     "effb436a3ad54ebc949d70bbe4183c7c": {
      "model_module": "@jupyter-widgets/controls",
      "model_module_version": "1.5.0",
      "model_name": "DescriptionStyleModel",
      "state": {
       "description_width": ""
      }
     },
     "f357185a1d184ca09ded4055086575b2": {
      "model_module": "@jupyter-widgets/controls",
      "model_module_version": "1.5.0",
      "model_name": "ProgressStyleModel",
      "state": {
       "description_width": ""
      }
     },
     "f62ad8f0067646f7bee3616ed9ea6b3f": {
      "model_module": "@jupyter-widgets/base",
      "model_module_version": "1.2.0",
      "model_name": "LayoutModel",
      "state": {}
     },
     "faafef4b2d31494b8dd6eb5154d427af": {
      "model_module": "@jupyter-widgets/controls",
      "model_module_version": "1.5.0",
      "model_name": "HTMLModel",
      "state": {
       "layout": "IPY_MODEL_552d23bdc7f844c398a2a28356d143d7",
       "style": "IPY_MODEL_a5966753da7d4b7eb49901e2e83eae72",
       "value": "100%"
      }
     },
     "fbda4153df334a1899baf96a36f263cd": {
      "model_module": "@jupyter-widgets/controls",
      "model_module_version": "1.5.0",
      "model_name": "ProgressStyleModel",
      "state": {
       "description_width": ""
      }
     }
    },
    "version_major": 2,
    "version_minor": 0
   }
  }
 },
 "nbformat": 4,
 "nbformat_minor": 4
}
