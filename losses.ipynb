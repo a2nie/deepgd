{
 "cells": [
  {
   "cell_type": "code",
   "execution_count": 1,
   "metadata": {},
   "outputs": [],
   "source": [
    "from lib.imports import *\n",
    "from lib.functions import *"
   ]
  },
  {
   "cell_type": "markdown",
   "metadata": {},
   "source": [
    "# square stress"
   ]
  },
  {
   "cell_type": "markdown",
   "metadata": {},
   "source": [
    "$$\n",
    "L_{stress} =\n",
    "\\frac{k}{2}\n",
    "\\sum_{(u,v) \\in E^*}\n",
    "\\big|\n",
    "    d(u,v) - \\|p_u-p_v\\|_2\n",
    "\\big|^2\n",
    "$$"
   ]
  },
  {
   "cell_type": "code",
   "execution_count": 2,
   "metadata": {},
   "outputs": [],
   "source": [
    "class StressLoss(nn.Module):\n",
    "    def __init__(self):\n",
    "        super().__init__()\n",
    "        \n",
    "    def forward(self, node_pos, batch):\n",
    "        start, end = get_full_edges(node_pos, batch)\n",
    "        dist = (start - end).norm(dim=1)\n",
    "        l, k = batch.edge_attr[:, 0], batch.edge_attr[:, 1]\n",
    "        return dist.sub(l).square().mul(k/2).sum().div(batch.num_graphs)"
   ]
  },
  {
   "cell_type": "markdown",
   "metadata": {},
   "source": [
    "$$\n",
    "L_{normalized\\_stress}=\n",
    "\\sum_{(u,v)\\in E^*}\n",
    "\\frac{\n",
    "    \\big|\n",
    "        d(u,v) - \\|p_u - p_v\\|_2\n",
    "    \\big|^2\n",
    "}{\n",
    "    d(u,v)^2\n",
    "}\n",
    "$$"
   ]
  },
  {
   "cell_type": "code",
   "execution_count": null,
   "metadata": {},
   "outputs": [],
   "source": []
  },
  {
   "cell_type": "markdown",
   "metadata": {},
   "source": [
    "$$\n",
    "L_{normalized\\_stress}=\n",
    "\\sum_{(u,v)\\in E^*}\n",
    "\\frac{\n",
    "    \\big|\n",
    "        d(u,v) - \\|p_u - p_v\\|_2\n",
    "    \\big|^2\n",
    "}{\n",
    "    \\max\n",
    "    \\big(\\big\\{\n",
    "        d(u,v),\n",
    "        \\|p^*_u - p^*_v\\|_2\n",
    "    \\big\\}\\big)^2\n",
    "},\n",
    "\\text{ where $p^*$ denotes constant values w.r.t. $\\nabla L$}\n",
    "$$"
   ]
  },
  {
   "cell_type": "code",
   "execution_count": 2,
   "metadata": {},
   "outputs": [],
   "source": [
    "class NormalizedStressLoss(nn.Module):\n",
    "    def __init__(self):\n",
    "        super().__init__()\n",
    "        \n",
    "    def forward(self, node_pos, batch):\n",
    "        start, end = get_full_edges(node_pos, batch)\n",
    "        dist = (start - end).norm(dim=1)\n",
    "        l, k = batch.edge_attr[:, 0], batch.edge_attr[:, 1]\n",
    "        denom = dist * (dist >= l) + l * (dist < l)\n",
    "        return dist.sub(l).abs().div(denom.detach()).square().sum().div(batch.num_graphs)"
   ]
  },
  {
   "cell_type": "markdown",
   "metadata": {},
   "source": [
    "# ratio stress"
   ]
  },
  {
   "cell_type": "markdown",
   "metadata": {},
   "source": [
    "$$\n",
    "L_{ratio\\_stress} =\n",
    "\\sum_{(u,v) \\in E^*}\n",
    "1 - \\frac{\n",
    "    \\min\\big(\\big\\{\n",
    "        d(u,v), \n",
    "        \\|p_u - p_v\\|_2\n",
    "    \\big\\}\\big)\n",
    "}{\n",
    "    \\max\\big(\\big\\{\n",
    "        d(u,v), \n",
    "        \\|p_u - p_v\\|_2\n",
    "    \\big\\}\\big)\n",
    "}\n",
    "$$"
   ]
  },
  {
   "cell_type": "code",
   "execution_count": 3,
   "metadata": {},
   "outputs": [],
   "source": [
    "class RatioStressLoss(torch.nn.Module):\n",
    "    def __init__(self):\n",
    "        super().__init__()\n",
    "        \n",
    "    def forward(self, node_pos, batch):\n",
    "        start, end = get_full_edges(node_pos, batch)\n",
    "        dist = (start - end).norm(dim=1)\n",
    "        l = batch.edge_attr[:, 0]\n",
    "        ratio = l.div(dist) * (dist >= l) + dist.div(l) * (dist < l)\n",
    "        return (1 - ratio).sum().div(batch.num_graphs)"
   ]
  },
  {
   "cell_type": "markdown",
   "metadata": {},
   "source": [
    "# exp ring"
   ]
  },
  {
   "cell_type": "markdown",
   "metadata": {},
   "source": [
    "$$\n",
    "L_{normalized\\_exp\\_ring} =\n",
    "\\sum_{(u,v) \\in E^*}\n",
    "e^{-\\gamma\\|p_u - p_v\\|_2}\n",
    "$$"
   ]
  },
  {
   "cell_type": "code",
   "execution_count": 4,
   "metadata": {},
   "outputs": [],
   "source": [
    "class ExponentialRingLoss(nn.Module):\n",
    "    def __init__(self, gamma=1):\n",
    "        super().__init__()\n",
    "        self.gamma = gamma\n",
    "        \n",
    "    def forward(self, node_pos, batch):\n",
    "        start, end = get_full_edges(node_pos, batch)\n",
    "        num_nodes = map_node_indices_to_graph_property(batch, batch.edge_index.T[:,0], lambda g: g.num_nodes)\n",
    "        \n",
    "        return (end.sub(start)\n",
    "                   .norm(dim=1)\n",
    "                   .mul(-self.gamma)\n",
    "                   .exp()\n",
    "                   .sum()\n",
    "                   .div(batch.num_graphs))"
   ]
  },
  {
   "cell_type": "markdown",
   "metadata": {},
   "source": [
    "# std edge loss"
   ]
  },
  {
   "cell_type": "markdown",
   "metadata": {},
   "source": [
    "$$\n",
    "L_{std\\_edge} = \n",
    "\\sqrt{\n",
    "    \\frac{1}{|E|}\n",
    "    \\sum_{l \\in E} \\frac{|l - l_\\mu|^2}{l_\\mu^2}\n",
    "}\n",
    "$$"
   ]
  },
  {
   "cell_type": "code",
   "execution_count": null,
   "metadata": {},
   "outputs": [],
   "source": []
  },
  {
   "cell_type": "markdown",
   "metadata": {},
   "source": [
    "$$\n",
    "L_{rescaled\\_std\\_edge} = \n",
    "|E^*|\n",
    "\\sqrt{\n",
    "    \\frac{1}{|E|}\n",
    "    \\sum_{l \\in E} \\frac{|l - l_\\mu|^2}{l_\\mu^2}\n",
    "}\n",
    "$$"
   ]
  },
  {
   "cell_type": "code",
   "execution_count": null,
   "metadata": {},
   "outputs": [],
   "source": []
  },
  {
   "cell_type": "markdown",
   "metadata": {},
   "source": [
    "# var edge loss"
   ]
  },
  {
   "cell_type": "markdown",
   "metadata": {},
   "source": [
    "$$\n",
    "L_{var\\_edge} = \n",
    "\\frac{1}{|E|}\n",
    "\\sum_{l \\in E} \\frac{|l - l_\\mu|^2}{l_\\mu^2}\n",
    "$$"
   ]
  },
  {
   "cell_type": "code",
   "execution_count": null,
   "metadata": {},
   "outputs": [],
   "source": []
  },
  {
   "cell_type": "markdown",
   "metadata": {},
   "source": [
    "$$\n",
    "L_{rescaled\\_var\\_edge} = \n",
    "\\frac{|E^*|}{|E|}\n",
    "\\sum_{l \\in E} \\frac{|l - l_\\mu|^2}{l_\\mu^2}\n",
    "$$"
   ]
  },
  {
   "cell_type": "code",
   "execution_count": null,
   "metadata": {},
   "outputs": [],
   "source": [
    "class RescaledEdgeLengthVarianceLoss(nn.Module):\n",
    "    def __init__(self):\n",
    "        super().__init__()\n",
    "        \n",
    "    def forward(self, node_pos, batch):\n",
    "        edge_idx = get_real_edge_index(batch)\n",
    "        start, end = get_real_edges(node_pos, batch)\n",
    "        dist = (start - end).norm(dim=1)\n",
    "        padded_dist, num_edges = convert_to_padded_batch(dist, batch, node_index=edge_idx[:, 0], return_lengths=True)\n",
    "        mean_dist = padded_dist.sum(dim=1).div(num_edges)[batch.batch][edge_idx[:, 0]]\n",
    "        node_counts = map_node_indices_to_graph_property(batch, edge_idx[:, 0], lambda g: g.num_nodes)\n",
    "        edge_counts = map_node_indices_to_graph_property(batch, edge_idx[:, 0], lambda g: len(get_real_edge_index(g)))\n",
    "        \n",
    "        return (dist.sub(mean_dist)\n",
    "                    .div(mean_dist)\n",
    "                    .square()\n",
    "                    .div(edge_counts)\n",
    "                    .mul(node_counts.square().sub(node_counts))\n",
    "                    .sum()\n",
    "                    .div(batch.num_graphs))"
   ]
  },
  {
   "cell_type": "markdown",
   "metadata": {},
   "source": [
    "# sine angle"
   ]
  },
  {
   "cell_type": "markdown",
   "metadata": {},
   "source": [
    "$$\n",
    "L_{sine\\_angle} = \n",
    "\\sum_{u \\in V}\n",
    "\\sum_{\\theta_u^{(i)} \\in \\text{angles}(u)} \n",
    "\\sin \\bigg( \\frac{1}{2} \\bigg|\n",
    "    \\frac{2\\pi}{\\deg(u)} - \\theta_u^{(i)}\n",
    "\\bigg| \\bigg)\n",
    "$$"
   ]
  },
  {
   "cell_type": "code",
   "execution_count": 5,
   "metadata": {},
   "outputs": [],
   "source": [
    "class SineAngularLoss(nn.Module):\n",
    "    def __init__(self):\n",
    "        super().__init__()\n",
    "        \n",
    "    def forward(self, node_pos, batch):\n",
    "        theta, degrees = get_radians(node_pos, batch, return_node_degrees=True)\n",
    "        phi = degrees.float().pow(-1).mul(2*np.pi)\n",
    "        return phi.sub(theta).abs().div(2).sin().sum().div(batch.num_graphs)"
   ]
  },
  {
   "cell_type": "markdown",
   "metadata": {},
   "source": [
    "$$\n",
    "L_{rescaled\\_sine\\_angle} = \n",
    "\\frac{|E^*|}{|V|}\n",
    "\\sum_{u \\in V}\n",
    "\\sum_{\\theta_u^{(i)} \\in \\text{angles}(u)} \n",
    "\\sin \\bigg( \\frac{1}{2} \\bigg|\n",
    "    \\frac{2\\pi}{\\deg(u)} - \\theta_u^{(i)}\n",
    "\\bigg| \\bigg)\n",
    "$$"
   ]
  },
  {
   "cell_type": "code",
   "execution_count": 6,
   "metadata": {},
   "outputs": [],
   "source": [
    "class RescaledSineAngularLoss(nn.Module):\n",
    "    def __init__(self):\n",
    "        super().__init__()\n",
    "        \n",
    "    def forward(self, node_pos, batch):\n",
    "        theta, degrees, num_nodes = get_radians(node_pos, batch, return_node_degrees=True, return_num_nodes=True)\n",
    "        phi = degrees.float().pow(-1).mul(2*np.pi)\n",
    "        return phi.sub(theta).abs().div(2).sin().mul(num_nodes-1).sum().div(batch.num_graphs)"
   ]
  },
  {
   "cell_type": "markdown",
   "metadata": {},
   "source": [
    "$$\n",
    "L_{rescaled\\_normalized\\_sine\\_angle} = \n",
    "\\frac{|E^*|}{|V|}\n",
    "\\sum_{u \\in V}\n",
    "\\frac{\n",
    "    1\n",
    "}{\n",
    "    \\deg(u)\n",
    "    \\sin\\big(\n",
    "        \\frac{\\pi}{\\deg(u)}\n",
    "    \\big)\n",
    "}\n",
    "\\sum_{\\theta_u^{(i)} \\in \\text{angles}(u)} \n",
    "\\sin \\bigg( \\frac{1}{2} \\bigg|\n",
    "    \\frac{2\\pi}{\\deg(u)} - \\theta_u^{(i)}\n",
    "\\bigg| \\bigg)\n",
    "$$"
   ]
  },
  {
   "cell_type": "code",
   "execution_count": 7,
   "metadata": {},
   "outputs": [],
   "source": [
    "class NormalizedSineAngularLoss(nn.Module):\n",
    "    def __init__(self):\n",
    "        super().__init__()\n",
    "        \n",
    "    def forward(self, node_pos, batch):\n",
    "        theta, node_degrees, num_nodes = get_radians(node_pos, batch, return_node_degrees=True, return_num_nodes=True)\n",
    "        phi = node_degrees.float().pow(-1).mul(2*np.pi)\n",
    "        return phi.sub(theta).div(2).abs().sin().div(node_degrees).div(phi.div(2).sin()).mul(num_nodes-1).sum().div(batch.num_graphs)"
   ]
  },
  {
   "cell_type": "markdown",
   "metadata": {},
   "source": [
    "$$\n",
    "L_{rescaled\\_reweighted\\_sine\\_angle} = \n",
    "\\frac{|E^*|}{2|E|}\n",
    "\\sum_{u \\in V}\n",
    "\\frac{\n",
    "    \\deg(u)\n",
    "}{\n",
    "    \\deg(u)\n",
    "    \\sin\\big(\n",
    "        \\frac{\\pi}{\\deg(u)}\n",
    "    \\big)\n",
    "}\n",
    "\\sum_{\\theta_u^{(i)} \\in \\text{angles}(u)} \n",
    "\\sin \\bigg( \\frac{1}{2} \\bigg|\n",
    "    \\frac{2\\pi}{\\deg(u)} - \\theta_u^{(i)}\n",
    "\\bigg| \\bigg)\n",
    "$$"
   ]
  },
  {
   "cell_type": "code",
   "execution_count": null,
   "metadata": {},
   "outputs": [],
   "source": []
  },
  {
   "cell_type": "markdown",
   "metadata": {},
   "source": [
    "# L1 angle"
   ]
  },
  {
   "cell_type": "markdown",
   "metadata": {},
   "source": [
    "$$\n",
    "L_{l1\\_angle}=\\sum_{u\\in V}\\sum_{\\theta_u^{(i)}\\in \\text{angles}(u)} \\bigg|\\frac{2\\pi}{\\deg(u)}-\\theta_u^{(i)}\\bigg|\n",
    "$$"
   ]
  },
  {
   "cell_type": "code",
   "execution_count": 8,
   "metadata": {},
   "outputs": [],
   "source": [
    "class L1AngularLoss(nn.Module):\n",
    "    def __init__(self):\n",
    "        super().__init__()\n",
    "        \n",
    "    def forward(self, node_pos, batch):\n",
    "        theta, degrees = get_radians(node_pos, batch, return_node_degrees=True)\n",
    "        phi = degrees.float().pow(-1).mul(2*np.pi)\n",
    "        return phi.sub(theta).abs().sum().div(batch.num_graphs)"
   ]
  },
  {
   "cell_type": "markdown",
   "metadata": {},
   "source": [
    "$$\n",
    "L_{rescaled\\_l1\\_angle} =\n",
    "\\frac{|E^*|}{|V|}\n",
    "\\sum_{u \\in V}\n",
    "\\sum_{\\theta_u^{(i)} \\in \\text{angles}(u)}\n",
    "\\bigg|\n",
    "    \\frac{2\\pi}{\\deg(u)} - \\theta_u^{(i)}\n",
    "\\bigg|\n",
    "$$"
   ]
  },
  {
   "cell_type": "code",
   "execution_count": 9,
   "metadata": {},
   "outputs": [],
   "source": [
    "class RescaledL1AngularLoss(nn.Module):\n",
    "    def __init__(self):\n",
    "        super().__init__()\n",
    "        \n",
    "    def forward(self, node_pos, batch):\n",
    "        theta, degrees, num_nodes = get_radians(node_pos, batch, return_node_degrees=True, return_num_nodes=True)\n",
    "        phi = degrees.float().pow(-1).mul(2*np.pi)\n",
    "        return phi.sub(theta).abs().mul(num_nodes-1).sum().div(batch.num_graphs)"
   ]
  },
  {
   "cell_type": "markdown",
   "metadata": {},
   "source": [
    "$$\n",
    "L_{rescaled\\_normalized\\_l1\\_angle} =\n",
    "\\frac{|E^*|}{|V|}\n",
    "\\sum_{u \\in V}\n",
    "\\frac{\n",
    "    \\text{deg}(u)\n",
    "}{\n",
    "    4\\pi\\big(\n",
    "        \\text{deg}(u) - 1\n",
    "    \\big)\n",
    "}\n",
    "\\sum_{\\theta_u^{(i)} \\in \\text{angles}(u)}\n",
    "\\bigg|\n",
    "    \\frac{2\\pi}{\\deg(u)} - \\theta_u^{(i)}\n",
    "\\bigg|\n",
    "$$"
   ]
  },
  {
   "cell_type": "code",
   "execution_count": 10,
   "metadata": {},
   "outputs": [],
   "source": [
    "class NormalizedL1AngularLoss(nn.Module):\n",
    "    def __init__(self):\n",
    "        super().__init__()\n",
    "        \n",
    "    def forward(self, node_pos, batch):\n",
    "        theta, degrees, num_nodes = get_radians(node_pos, batch, return_node_degrees=True, return_num_nodes=True)\n",
    "        phi = degrees.float().pow(-1).mul(2*np.pi)\n",
    "        return phi.sub(theta).abs().mul(degrees).div(degrees-1).div(4*np.pi).mul(num_nodes-1).sum().div(batch.num_graphs)"
   ]
  },
  {
   "cell_type": "markdown",
   "metadata": {},
   "source": [
    "$$\n",
    "L_{rescaled\\_reweighted\\_l1\\_angle} =\n",
    "\\frac{|E^*|}{2|E|}\n",
    "\\sum_{u \\in V}\n",
    "\\frac{\n",
    "    \\text{deg}(u)^2\n",
    "}{\n",
    "    4\\pi\\big(\n",
    "        \\text{deg}(u) - 1\n",
    "    \\big)\n",
    "}\n",
    "\\sum_{\\theta_u^{(i)} \\in \\text{angles}(u)}\n",
    "\\bigg|\n",
    "    \\frac{2\\pi}{\\deg(u)} - \\theta_u^{(i)}\n",
    "\\bigg|\n",
    "$$"
   ]
  },
  {
   "cell_type": "code",
   "execution_count": null,
   "metadata": {},
   "outputs": [],
   "source": []
  },
  {
   "cell_type": "markdown",
   "metadata": {},
   "source": [
    "# L2 angle"
   ]
  },
  {
   "cell_type": "markdown",
   "metadata": {},
   "source": [
    "$$\n",
    "L_{l2\\_angle}=\\sqrt{\\sum_{u\\in V}\\sum_{\\theta_u^{(i)}\\in \\text{angles}(u)} \\bigg|\\frac{2\\pi}{\\deg(u)}-\\theta_u^{(i)}\\bigg|^2}\n",
    "$$"
   ]
  },
  {
   "cell_type": "code",
   "execution_count": 11,
   "metadata": {},
   "outputs": [],
   "source": [
    "class L2AngularLoss(nn.Module):\n",
    "    def __init__(self):\n",
    "        super().__init__()\n",
    "        \n",
    "    def forward(self, node_pos, batch): \n",
    "        theta, degrees = get_radians(node_pos, batch, return_node_degrees=True)\n",
    "        phi = degrees.float().pow(-1).mul(2*np.pi)\n",
    "        return phi.sub(theta).square().sum().div(batch.num_graphs).abs().sqrt()"
   ]
  },
  {
   "cell_type": "markdown",
   "metadata": {},
   "source": [
    "$$\n",
    "L_{rescaled\\_l2\\_angle} =\n",
    "\\frac{|E^*|}{|V|}\n",
    "\\sqrt{\n",
    "    \\frac{1}{|V|}\n",
    "    \\sum_{u \\in V}\n",
    "    \\sum_{\\theta_u^{(i)} \\in \\text{angles}(u)}\n",
    "    \\bigg|\n",
    "        \\frac{2\\pi}{\\deg(u)} - \\theta_u^{(i)}\n",
    "    \\bigg|^2\n",
    "}\n",
    "$$"
   ]
  },
  {
   "cell_type": "code",
   "execution_count": 12,
   "metadata": {},
   "outputs": [],
   "source": [
    "class RescaledL2AngularLoss(nn.Module):\n",
    "    def __init__(self):\n",
    "        super().__init__()\n",
    "        \n",
    "    def forward(self, node_pos, batch):\n",
    "        theta, degrees, num_nodes = get_radians(node_pos, batch, return_node_degrees=True, return_num_nodes=True)\n",
    "        phi = degrees.float().pow(-1).mul(2*np.pi)\n",
    "        return phi.sub(theta).square().mul(num_nodes.sub(1).square().mul(num_nodes)).sum().div(batch.num_graphs).abs().sqrt()"
   ]
  },
  {
   "cell_type": "markdown",
   "metadata": {},
   "source": [
    "$$\n",
    "L_{rescaled\\_normalized\\_l2\\_angle} =\n",
    "\\frac{|E^*|}{|V|}\n",
    "\\sqrt{\n",
    "    \\frac{1}{|V|}\n",
    "    \\sum_{u \\in V}\n",
    "    \\frac{\n",
    "        \\text{deg}(u)\n",
    "    }{\n",
    "        4\\pi^2\\big(\n",
    "            \\text{deg}(u) - 1\n",
    "        \\big)\n",
    "    }\n",
    "    \\sum_{\\theta_u^{(i)} \\in \\text{angles}(u)} \n",
    "    \\bigg|\n",
    "        \\frac{2\\pi}{\\deg(u)} - \\theta_u^{(i)}\n",
    "    \\bigg|^2\n",
    "}\n",
    "$$"
   ]
  },
  {
   "cell_type": "code",
   "execution_count": 13,
   "metadata": {},
   "outputs": [],
   "source": [
    "class NormalizedL2AngularLoss(nn.Module):\n",
    "    def __init__(self):\n",
    "        super().__init__()\n",
    "        \n",
    "    def forward(self, node_pos, batch):\n",
    "        theta, degrees, num_nodes = get_radians(node_pos, batch, return_node_degrees=True, return_num_nodes=True)\n",
    "        phi = degrees.float().pow(-1).mul(2 * np.pi)\n",
    "        return phi.sub(theta).square().mul(degrees).div(degrees-1).div(4*np.pi**2).mul(num_nodes.sub(1).square().mul(num_nodes)).sum().div(batch.num_graphs).abs().sqrt()"
   ]
  },
  {
   "cell_type": "markdown",
   "metadata": {},
   "source": [
    "$$\n",
    "L_{rescaled\\_reweighted\\_l2\\_angle} =\n",
    "\\frac{|E^*|}{|V|}\n",
    "\\sqrt{\n",
    "    \\frac{1}{2|E|}\n",
    "    \\sum_{u \\in V}\n",
    "    \\frac{\n",
    "        \\text{deg}(u)^2\n",
    "    }{\n",
    "        4\\pi^2\\big(\n",
    "            \\text{deg}(u) - 1\n",
    "        \\big)\n",
    "    }\n",
    "    \\sum_{\\theta_u^{(i)} \\in \\text{angles}(u)} \n",
    "    \\bigg|\n",
    "        \\frac{2\\pi}{\\deg(u)} - \\theta_u^{(i)}\n",
    "    \\bigg|^2\n",
    "}\n",
    "$$"
   ]
  },
  {
   "cell_type": "code",
   "execution_count": null,
   "metadata": {},
   "outputs": [],
   "source": []
  },
  {
   "cell_type": "markdown",
   "metadata": {},
   "source": [
    "# square angle"
   ]
  },
  {
   "cell_type": "markdown",
   "metadata": {},
   "source": [
    "$$\n",
    "L_{square\\_angle} =\n",
    "\\sum_{u \\in V}\n",
    "\\sum_{\\theta_u^{(i)} \\in \\text{angles}(u)}\n",
    "\\bigg|\n",
    "    \\frac{2\\pi}{\\deg(u)} - \\theta_u^{(i)}\n",
    "\\bigg|^2\n",
    "$$"
   ]
  },
  {
   "cell_type": "code",
   "execution_count": 14,
   "metadata": {},
   "outputs": [],
   "source": [
    "class SquareAngularLoss(nn.Module):\n",
    "    def __init__(self):\n",
    "        super().__init__()\n",
    "        \n",
    "    def forward(self, node_pos, batch):\n",
    "        theta, degrees = get_radians(node_pos, batch, return_node_degrees=True)\n",
    "        phi = degrees.float().pow(-1).mul(2*np.pi)\n",
    "        return phi.sub(theta).square().sum().div(batch.num_graphs)"
   ]
  },
  {
   "cell_type": "markdown",
   "metadata": {},
   "source": [
    "$$\n",
    "L_{rescaled\\_square\\_angle} = \n",
    "\\frac{|E^*|}{|V|}\n",
    "\\sum_{u \\in V}\n",
    "\\sum_{\\theta_u^{(i)}\\in \\text{angles}(u)}\n",
    "\\bigg|\\frac{2\\pi}{\\deg(u)}-\\theta_u^{(i)}\\bigg|^2\n",
    "$$"
   ]
  },
  {
   "cell_type": "code",
   "execution_count": 15,
   "metadata": {},
   "outputs": [],
   "source": [
    "class RescaledSquareAngularLoss(nn.Module):\n",
    "    def __init__(self):\n",
    "        super().__init__()\n",
    "        \n",
    "    def forward(self, node_pos, batch):\n",
    "        theta, degrees, num_nodes = get_radians(node_pos, batch, return_node_degrees=True, return_num_nodes=True)\n",
    "        phi = degrees.float().pow(-1).mul(2*np.pi)\n",
    "        return phi.sub(theta).square().mul(num_nodes-1).sum().div(batch.num_graphs)"
   ]
  },
  {
   "cell_type": "markdown",
   "metadata": {},
   "source": [
    "$$\n",
    "L_{rescaled\\_normalized\\_l2\\_angle} =\n",
    "\\frac{|E^*|}{|V|}\n",
    "\\sum_{u \\in V}\n",
    "\\frac{\n",
    "    \\text{deg}(u)\n",
    "}{\n",
    "    4\\pi^2\\big(\n",
    "        \\text{deg}(u) - 1\n",
    "    \\big)\n",
    "}\n",
    "\\sum_{\\theta_u^{(i)} \\in \\text{angles}(u)}\n",
    "\\bigg|\n",
    "    \\frac{2\\pi}{\\deg(u)} - \\theta_u^{(i)}\n",
    "\\bigg|^2\n",
    "$$"
   ]
  },
  {
   "cell_type": "code",
   "execution_count": 16,
   "metadata": {},
   "outputs": [],
   "source": [
    "class NormalizedSquareAngularLoss(nn.Module):\n",
    "    def __init__(self):\n",
    "        super().__init__()\n",
    "        \n",
    "    def forward(self, node_pos, batch):\n",
    "        theta, degrees, num_nodes = get_radians(node_pos, batch, return_node_degrees=True, return_num_nodes=True)\n",
    "        phi = degrees.float().pow(-1).mul(2*np.pi)\n",
    "        return phi.sub(theta).square().mul(degrees).div(degrees-1).div(4*np.pi**2).div(num_nodes).sum().div(batch.num_graphs)"
   ]
  },
  {
   "cell_type": "markdown",
   "metadata": {},
   "source": [
    "$$\n",
    "L_{rescaled\\_reweighted\\_l2\\_angle} =\n",
    "\\frac{|E^*|}{2|E|}\n",
    "\\sum_{u \\in V}\n",
    "\\frac{\n",
    "    \\text{deg}(u)^2\n",
    "}{\n",
    "    4\\pi^2\\big(\n",
    "        \\text{deg}(u) - 1\n",
    "    \\big)\n",
    "}\n",
    "\\sum_{\\theta_u^{(i)} \\in \\text{angles}(u)}\n",
    "\\bigg|\n",
    "    \\frac{2\\pi}{\\deg(u)} - \\theta_u^{(i)}\n",
    "\\bigg|^2\n",
    "$$"
   ]
  },
  {
   "cell_type": "code",
   "execution_count": null,
   "metadata": {},
   "outputs": [],
   "source": []
  },
  {
   "cell_type": "markdown",
   "metadata": {},
   "source": [
    "# ratio angle"
   ]
  },
  {
   "cell_type": "markdown",
   "metadata": {},
   "source": [
    "$$\n",
    "L_{ratio\\_angle}=\\sum_{u\\in V}\\sum_{\\theta_u^{(i)}\\in \\text{angles}(u)}1-\\frac{\\min\\big(\\big\\{\\frac{2\\pi}{\\deg(u)}, \\theta_u^{(i)}\\big\\}\\big)}{\\max\\big(\\big\\{\\frac{2\\pi}{\\deg(u)}, \\theta_u^{(i)}\\big\\}\\big)}\n",
    "$$"
   ]
  },
  {
   "cell_type": "code",
   "execution_count": 17,
   "metadata": {},
   "outputs": [],
   "source": [
    "class RatioAngularLoss(nn.Module):\n",
    "    def __init__(self, eps=1e-5):\n",
    "        super().__init__()\n",
    "        self.eps = eps\n",
    "        \n",
    "    def forward(self, node_pos, batch):\n",
    "        theta, degrees = get_radians(node_pos, batch, return_node_degrees=True)\n",
    "        phi = degrees.float().pow(-1).mul(2*np.pi)\n",
    "        ratio = theta.div(phi + self.eps) * (phi >= theta) + phi.div(theta + self.eps) * (phi < theta)\n",
    "        return (1 - ratio).sum().div(batch.num_graphs)"
   ]
  },
  {
   "cell_type": "markdown",
   "metadata": {},
   "source": [
    "$$\n",
    "L_{rescaled\\_ratio\\_angle} =\n",
    "\\frac{|E^*|}{2|E|}\n",
    "\\sum_{u \\in V}\n",
    "\\sum_{\\theta_u^{(i)} \\in \\text{angles}(u)}\n",
    "1 - \\frac{\n",
    "    \\min\\big(\\big\\{\n",
    "        \\frac{2\\pi}{\\deg(u)}, \n",
    "        \\theta_u^{(i)}\n",
    "    \\big\\}\\big)\n",
    "}{\n",
    "    \\max\\big(\\big\\{\n",
    "        \\frac{2\\pi}{\\deg(u)}, \n",
    "        \\theta_u^{(i)}\n",
    "    \\big\\}\\big)\n",
    "}\n",
    "$$"
   ]
  },
  {
   "cell_type": "code",
   "execution_count": 18,
   "metadata": {},
   "outputs": [],
   "source": [
    "class RescaledRatioAngularLoss(nn.Module):\n",
    "    def __init__(self, eps=1e-5):\n",
    "        super().__init__()\n",
    "        self.eps = eps\n",
    "        \n",
    "    def forward(self, node_pos, batch):\n",
    "        theta, degrees, num_nodes, num_real_edges = get_radians(node_pos, batch, \n",
    "                                                                return_node_degrees=True, \n",
    "                                                                return_num_nodes=True,\n",
    "                                                                return_num_real_edges=True)\n",
    "        phi = degrees.float().pow(-1).mul(2*np.pi)\n",
    "        ratio = theta.div(phi + self.eps) * (phi >= theta) + phi.div(theta + self.eps) * (phi < theta)\n",
    "        return (1 - ratio).div(num_real_edges).mul(num_nodes.square()-num_nodes).sum().div(batch.num_graphs)"
   ]
  },
  {
   "cell_type": "markdown",
   "metadata": {},
   "source": [
    "# square ratio angle"
   ]
  },
  {
   "cell_type": "markdown",
   "metadata": {},
   "source": [
    "$$\n",
    "L_{rescaled\\_square\\_ratio\\_angle} =\n",
    "\\frac{|E^*|}{2|E|}\n",
    "\\sum_{u \\in V}\n",
    "\\sum_{\\theta_u^{(i)} \\in \\text{angles}(u)}\\Bigg(\n",
    "1 - \\frac{\n",
    "    \\min\\big(\\big\\{\n",
    "        \\frac{2\\pi}{\\deg(u)}, \n",
    "        \\theta_u^{(i)}\n",
    "    \\big\\}\\big)\n",
    "}{\n",
    "    \\max\\big(\\big\\{\n",
    "        \\frac{2\\pi}{\\deg(u)}, \n",
    "        \\theta_u^{(i)}\n",
    "    \\big\\}\\big)\n",
    "}\\Bigg)^2\n",
    "$$"
   ]
  },
  {
   "cell_type": "code",
   "execution_count": null,
   "metadata": {},
   "outputs": [],
   "source": []
  }
 ],
 "metadata": {
  "kernelspec": {
   "display_name": "Python 3",
   "language": "python",
   "name": "python3"
  },
  "language_info": {
   "codemirror_mode": {
    "name": "ipython",
    "version": 3
   },
   "file_extension": ".py",
   "mimetype": "text/x-python",
   "name": "python",
   "nbconvert_exporter": "python",
   "pygments_lexer": "ipython3",
   "version": "3.7.6"
  },
  "widgets": {
   "application/vnd.jupyter.widget-state+json": {
    "state": {},
    "version_major": 2,
    "version_minor": 0
   }
  }
 },
 "nbformat": 4,
 "nbformat_minor": 4
}
