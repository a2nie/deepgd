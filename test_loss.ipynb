{
 "cells": [
  {
   "cell_type": "code",
   "execution_count": 1,
   "metadata": {},
   "outputs": [],
   "source": [
    "%load_ext autoreload\n",
    "%autoreload 2"
   ]
  },
  {
   "cell_type": "code",
   "execution_count": 2,
   "metadata": {},
   "outputs": [],
   "source": [
    "from lib.imports import *\n",
    "from lib.utils import *\n",
    "from lib.modules import *\n",
    "from lib.functions import *\n",
    "from ipynb.fs.defs.losses import *"
   ]
  },
  {
   "cell_type": "code",
   "execution_count": 3,
   "metadata": {},
   "outputs": [],
   "source": [
    "G_list, data_list = load_processed_data(G_list_file='G_list_1.pickle', \n",
    "                                        data_list_file='data_list_1.pickle')"
   ]
  },
  {
   "cell_type": "code",
   "execution_count": 199,
   "metadata": {},
   "outputs": [],
   "source": [
    "loader = DataLoader(data_list[:10000], batch_size=8, shuffle=True)\n",
    "batch = next(iter(loader))\n",
    "batch_pos = batch.x\n",
    "batch_list = batch.to_data_list()\n",
    "data = data_list[0]\n",
    "data_pos = data.x"
   ]
  },
  {
   "cell_type": "code",
   "execution_count": 200,
   "metadata": {},
   "outputs": [],
   "source": [
    "def get_adj(batch, reverse=False, value=1):\n",
    "    device = batch.x.device\n",
    "    adj = torch.zeros(batch.num_nodes, batch.num_nodes).to(device)\n",
    "    adj[tuple(batch.edge_index)] = 1\n",
    "    return (1 - adj if reverse else adj) * value\n",
    "\n",
    "# Hack: will fail for non-complete graphs\n",
    "def get_complete_adj(batch):\n",
    "    return get_adj(batch) + np.eye(batch.num_nodes)\n",
    "\n",
    "def get_shorted_path_adj(batch):\n",
    "    adj =  get_adj(batch, reverse=True, value=np.inf)\n",
    "    adj[tuple(batch.edge_index)] = batch.edge_attr[:, 0]\n",
    "    return adj\n",
    "\n",
    "def get_edge_length_adj(batch, pos):\n",
    "    adj =  get_adj(batch, reverse=True, value=np.inf)\n",
    "    adj[tuple(batch.edge_index)] = (pos[batch.edge_index[0]] - pos[batch.edge_index[1]]).norm(dim=1)\n",
    "    return adj\n",
    "\n",
    "def get_num_nodes_adj(batch):\n",
    "    adj = get_complete_adj(batch)\n",
    "    adj *= adj.sum(dim=1, keepdim=True)\n",
    "    return adj\n",
    "\n",
    "def graph_wise_normalize(batch, mat):\n",
    "    adj = get_complete_adj(batch)\n",
    "    sum_mat = adj * mat.sum(dim=0, keepdim=True)\n",
    "    sum_mat = adj * sum_mat.sum(dim=1, keepdim=True)\n",
    "    return mat / (sum_mat + 1e-5) "
   ]
  },
  {
   "cell_type": "code",
   "execution_count": 206,
   "metadata": {},
   "outputs": [],
   "source": [
    "class TSNELoss(nn.Module):\n",
    "    def __init__(self, sigma=1):\n",
    "        super().__init__()\n",
    "        self.sigma = sigma\n",
    "        \n",
    "    def forward(self, node_pos, batch):\n",
    "        p = get_shorted_path_adj(batch).div(-2 * sigma**2).exp()\n",
    "        p /= p.sum(dim=1, keepdim=True)\n",
    "        p = (p + p.T) / 2 / get_num_nodes_adj(batch)\n",
    "        p = p[tuple(batch.edge_index)]\n",
    "        q = get_edge_length_adj(batch, node_pos).square()\n",
    "        q = 1 / (1 + q)\n",
    "        q = graph_wise_normalize(batch, q)\n",
    "        q = q[tuple(batch.edge_index)]\n",
    "        kl = (p.log() - q.log()).mul(p).sum()\n",
    "        return kl.div(batch.num_graphs)"
   ]
  },
  {
   "cell_type": "code",
   "execution_count": 207,
   "metadata": {},
   "outputs": [],
   "source": [
    "class RescaledTSNELoss(nn.Module):\n",
    "    def __init__(self, sigma=1):\n",
    "        super().__init__()\n",
    "        self.sigma = sigma\n",
    "        \n",
    "    def forward(self, node_pos, batch):\n",
    "        num_nodes_adj = get_num_nodes_adj(batch)\n",
    "        num_nodes = num_nodes_adj[tuple(batch.edge_index)]\n",
    "        p = get_shorted_path_adj(batch).div(-2 * sigma**2).exp()\n",
    "        p /= p.sum(dim=1, keepdim=True)\n",
    "        p = (p + p.T) / 2 / num_nodes_adj\n",
    "        p = p[tuple(batch.edge_index)]\n",
    "        q = get_edge_length_adj(batch, node_pos).square()\n",
    "        q = 1 / (1 + q)\n",
    "        q = graph_wise_normalize(batch, q)\n",
    "        q = q[tuple(batch.edge_index)]\n",
    "        return (p.log().sub(q.log()).mul(p)\n",
    "                 .mul(num_nodes)\n",
    "                 .mul(num_nodes - 1)\n",
    "                 .sum()\n",
    "                 .div(batch.num_graphs))"
   ]
  },
  {
   "cell_type": "code",
   "execution_count": 34,
   "metadata": {},
   "outputs": [],
   "source": [
    "def reso_score_by_idx(idx):\n",
    "    data = data_list[idx]\n",
    "    G = G_list[idx]\n",
    "    stress_criterion = StressLoss()\n",
    "    pos = get_ground_truth(data,G)\n",
    "    scaled_stress = stress_criterion(pos, Batch.from_data_list([data]))\n",
    "    graph_vis(G, pos)\n",
    "    return get_resolution_score(*get_radians(pos, data, \n",
    "                                             return_node_degrees=True,\n",
    "                                             return_node_indices=True)),scaled_stress"
   ]
  },
  {
   "cell_type": "code",
   "execution_count": 36,
   "metadata": {},
   "outputs": [
    {
     "data": {
      "text/plain": [
       "(tensor(0.7232), tensor(86.5318))"
      ]
     },
     "execution_count": 36,
     "metadata": {},
     "output_type": "execute_result"
    },
    {
     "data": {
      "image/png": "[encoded data removed]",
      "text/plain": [
       "<Figure size 432x288 with 1 Axes>"
      ]
     },
     "metadata": {},
     "output_type": "display_data"
    }
   ],
   "source": [
    "reso_score_by_idx(10260)"
   ]
  },
  {
   "cell_type": "code",
   "execution_count": 41,
   "metadata": {},
   "outputs": [
    {
     "data": {
      "text/plain": [
       "tensor([11.8241, 13.3162,  6.7794, 12.5557,  6.9331,  8.9142, 11.3773,  6.9331])"
      ]
     },
     "execution_count": 41,
     "metadata": {},
     "output_type": "execute_result"
    }
   ],
   "source": [
    "convert_to_padded_batch(batch_pos, batch).sum(dim=[1,2])"
   ]
  },
  {
   "cell_type": "code",
   "execution_count": 84,
   "metadata": {},
   "outputs": [
    {
     "data": {
      "text/plain": [
       "tensor(417.8878)"
      ]
     },
     "execution_count": 84,
     "metadata": {},
     "output_type": "execute_result"
    }
   ],
   "source": [
    "EdgeLengthVarianceLoss()(batch_pos, batch)"
   ]
  },
  {
   "cell_type": "code",
   "execution_count": 92,
   "metadata": {},
   "outputs": [
    {
     "data": {
      "text/plain": [
       "torch.Size([19204, 2])"
      ]
     },
     "execution_count": 92,
     "metadata": {},
     "output_type": "execute_result"
    }
   ],
   "source": [
    "get_full_edges(batch_pos, batch)[0].shape"
   ]
  },
  {
   "cell_type": "code",
   "execution_count": 10,
   "metadata": {},
   "outputs": [
    {
     "data": {
      "text/plain": [
       "tensor(0.1324)"
      ]
     },
     "execution_count": 10,
     "metadata": {},
     "output_type": "execute_result"
    }
   ],
   "source": [
    "RatioAngularLoss()(pos, batch) / RescaledRatioAngularLoss()(pos, batch) * 2"
   ]
  },
  {
   "cell_type": "code",
   "execution_count": 5,
   "metadata": {},
   "outputs": [],
   "source": [
    "energy_loss = EnergyLossVectorized()\n",
    "ring_loss = RingLoss()\n",
    "angular_loss = AngularResolutionLoss()\n",
    "angular_l2_loss = AngularResolutionL2Loss()\n",
    "angular_ratio_loss = AngularResolutionRatioLoss()\n",
    "angular_sine_loss = AngularResolutionSineLoss()"
   ]
  },
  {
   "cell_type": "code",
   "execution_count": 6,
   "metadata": {},
   "outputs": [
    {
     "data": {
      "text/plain": [
       "tensor(2973.1755)"
      ]
     },
     "execution_count": 6,
     "metadata": {},
     "output_type": "execute_result"
    }
   ],
   "source": [
    "energy_loss(pos, batch)"
   ]
  },
  {
   "cell_type": "code",
   "execution_count": 7,
   "metadata": {},
   "outputs": [
    {
     "data": {
      "text/plain": [
       "tensor(16893.0254)"
      ]
     },
     "execution_count": 7,
     "metadata": {},
     "output_type": "execute_result"
    }
   ],
   "source": [
    "ring_loss(pos, batch)"
   ]
  },
  {
   "cell_type": "code",
   "execution_count": 8,
   "metadata": {},
   "outputs": [
    {
     "data": {
      "text/plain": [
       "tensor(533.0134)"
      ]
     },
     "execution_count": 8,
     "metadata": {},
     "output_type": "execute_result"
    }
   ],
   "source": [
    "angular_loss(pos, batch)"
   ]
  },
  {
   "cell_type": "code",
   "execution_count": 8,
   "metadata": {},
   "outputs": [
    {
     "data": {
      "text/plain": [
       "tensor(9.8881)"
      ]
     },
     "execution_count": 8,
     "metadata": {},
     "output_type": "execute_result"
    }
   ],
   "source": [
    "angular_l2_loss(pos, batch)"
   ]
  },
  {
   "cell_type": "code",
   "execution_count": 9,
   "metadata": {},
   "outputs": [
    {
     "data": {
      "text/plain": [
       "tensor(26936.1445)"
      ]
     },
     "execution_count": 9,
     "metadata": {},
     "output_type": "execute_result"
    }
   ],
   "source": [
    "angular_ratio_loss(pos, batch)"
   ]
  },
  {
   "cell_type": "code",
   "execution_count": 10,
   "metadata": {},
   "outputs": [
    {
     "data": {
      "text/plain": [
       "tensor(234.2465)"
      ]
     },
     "execution_count": 10,
     "metadata": {},
     "output_type": "execute_result"
    }
   ],
   "source": [
    "angular_sine_loss(pos, batch)"
   ]
  },
  {
   "cell_type": "code",
   "execution_count": 14,
   "metadata": {},
   "outputs": [
    {
     "data": {
      "text/plain": [
       "[(0, 1),\n",
       " (0, 2),\n",
       " (0, 3),\n",
       " (0, 4),\n",
       " (1, 0),\n",
       " (1, 2),\n",
       " (1, 3),\n",
       " (1, 4),\n",
       " (2, 0),\n",
       " (2, 1),\n",
       " (2, 3),\n",
       " (2, 4),\n",
       " (3, 0),\n",
       " (3, 1),\n",
       " (3, 2),\n",
       " (3, 4),\n",
       " (4, 0),\n",
       " (4, 1),\n",
       " (4, 2),\n",
       " (4, 3)]"
      ]
     },
     "execution_count": 14,
     "metadata": {},
     "output_type": "execute_result"
    }
   ],
   "source": [
    "[(i, j) for i in range(5) for j in range(5) if i != j]"
   ]
  },
  {
   "cell_type": "code",
   "execution_count": 3,
   "metadata": {},
   "outputs": [
    {
     "ename": "RuntimeError",
     "evalue": "1D tensors expected, got 2D, 2D tensors at /opt/conda/conda-bld/pytorch_1579022060824/work/aten/src/TH/generic/THTensorEvenMoreMath.cpp:733",
     "output_type": "error",
     "traceback": [
      "\u001b[0;31m---------------------------------------------------------------------------\u001b[0m",
      "\u001b[0;31mRuntimeError\u001b[0m                              Traceback (most recent call last)",
      "\u001b[0;32m<ipython-input-3-ff7cd389a6c4>\u001b[0m in \u001b[0;36m<module>\u001b[0;34m\u001b[0m\n\u001b[0;32m----> 1\u001b[0;31m \u001b[0ma\u001b[0m \u001b[0;34m=\u001b[0m \u001b[0mtorch\u001b[0m\u001b[0;34m.\u001b[0m\u001b[0mtensor\u001b[0m\u001b[0;34m(\u001b[0m\u001b[0;34m[\u001b[0m\u001b[0;34m[\u001b[0m\u001b[0;36m1\u001b[0m\u001b[0;34m,\u001b[0m\u001b[0;36m1\u001b[0m\u001b[0;34m]\u001b[0m\u001b[0;34m]\u001b[0m\u001b[0;34m)\u001b[0m\u001b[0;34m.\u001b[0m\u001b[0mdot\u001b[0m\u001b[0;34m(\u001b[0m\u001b[0mtorch\u001b[0m\u001b[0;34m.\u001b[0m\u001b[0mtensor\u001b[0m\u001b[0;34m(\u001b[0m\u001b[0;34m[\u001b[0m\u001b[0;34m[\u001b[0m\u001b[0;36m1\u001b[0m\u001b[0;34m,\u001b[0m\u001b[0;36m1\u001b[0m\u001b[0;34m]\u001b[0m\u001b[0;34m]\u001b[0m\u001b[0;34m)\u001b[0m\u001b[0;34m)\u001b[0m\u001b[0;34m\u001b[0m\u001b[0;34m\u001b[0m\u001b[0m\n\u001b[0m",
      "\u001b[0;31mRuntimeError\u001b[0m: 1D tensors expected, got 2D, 2D tensors at /opt/conda/conda-bld/pytorch_1579022060824/work/aten/src/TH/generic/THTensorEvenMoreMath.cpp:733"
     ]
    }
   ],
   "source": [
    "a = torch.tensor([[1,1]]).dot(torch.tensor([[1,1]]))"
   ]
  },
  {
   "cell_type": "code",
   "execution_count": 6,
   "metadata": {},
   "outputs": [
    {
     "data": {
      "text/plain": [
       "-1.0"
      ]
     },
     "execution_count": 6,
     "metadata": {},
     "output_type": "execute_result"
    }
   ],
   "source": [
    "np.sign(-np.inf)"
   ]
  },
  {
   "cell_type": "code",
   "execution_count": 8,
   "metadata": {},
   "outputs": [
    {
     "data": {
      "text/plain": [
       "tensor([[0., 0.]])"
      ]
     },
     "execution_count": 8,
     "metadata": {},
     "output_type": "execute_result"
    }
   ],
   "source": [
    "F.normalize(torch.tensor([[0.,0.]]))"
   ]
  },
  {
   "cell_type": "code",
   "execution_count": 17,
   "metadata": {},
   "outputs": [
    {
     "data": {
      "text/plain": [
       "tensor([[0., 0.],\n",
       "        [0., 0.],\n",
       "        [0., 0.],\n",
       "        ...,\n",
       "        [0., 0.],\n",
       "        [0., 0.],\n",
       "        [0., 0.]])"
      ]
     },
     "execution_count": 17,
     "metadata": {},
     "output_type": "execute_result"
    }
   ],
   "source": [
    "a = torch.zeros(5087, 2)\n",
    "\n",
    "a / (a.norm(dim=1).unsqueeze(dim=1) + 1e-5)\n",
    "\n",
    "# torch_normalize(a)"
   ]
  },
  {
   "cell_type": "code",
   "execution_count": 12,
   "metadata": {},
   "outputs": [
    {
     "data": {
      "text/plain": [
       "tensor([2, 2, 4, 4, 4, 4, 3, 3, 3, 3, 3, 3, 4, 4, 4, 4, 3, 3, 3, 4, 4, 4, 4, 4,\n",
       "        4, 4, 4, 2, 2, 2, 2, 3, 3, 3, 7, 7, 7, 7, 7, 7, 7, 2, 2, 3, 3, 3, 2, 2,\n",
       "        2, 2, 3, 3, 3, 2, 2, 5, 5, 5, 5, 5, 3, 3, 3, 2, 2, 4, 4, 4, 4, 2, 2, 2,\n",
       "        2, 2, 2, 2, 2, 2, 2, 2, 2, 2, 2, 2, 2, 3, 3, 3, 2, 2, 2, 2, 3, 3, 3, 2,\n",
       "        2, 6, 6, 6, 6, 6, 6, 3, 3, 3, 3, 3, 3, 5, 5, 5, 5, 5, 2, 2, 2, 2, 2, 2,\n",
       "        2, 2, 3, 3, 3, 4, 4, 4, 4, 2, 2, 4, 4, 4, 4, 4, 4, 4, 4, 4, 4, 4, 4, 3,\n",
       "        3, 3, 2, 2, 2, 2, 4, 4, 4, 4, 2, 2, 5, 5, 5, 5, 5, 2, 2, 3, 3, 3, 3, 3,\n",
       "        3, 2, 2, 3, 3, 3, 2, 2, 2, 2, 5, 5, 5, 5, 5, 2, 2, 5, 5, 5, 5, 5, 3, 3,\n",
       "        3, 5, 5, 5, 5, 5, 5, 5, 5, 5, 5, 3, 3, 3, 3, 3, 3, 2, 2, 6, 6, 6, 6, 6,\n",
       "        6, 2, 2, 4, 4, 4, 4, 6, 6, 6, 6, 6, 6, 3, 3, 3, 2, 2, 3, 3, 3, 2, 2, 2,\n",
       "        2, 3, 3, 3, 2, 2, 2, 2, 3, 3, 3, 2, 2, 2, 2, 4, 4, 4, 4, 5, 5, 5, 5, 5,\n",
       "        2, 2, 4, 4, 4, 4, 2, 2, 2, 2, 8, 8, 8, 8, 8, 8, 8, 8, 2, 2, 2, 2, 3, 3,\n",
       "        3, 2, 2, 2, 2, 2, 2, 2, 2, 2, 2, 2, 2, 2, 2, 3, 3, 3, 5, 5, 5, 5, 5, 2,\n",
       "        2, 5, 5, 5, 5, 5, 2, 2, 4, 4, 4, 4, 3, 3, 3, 3, 3, 3, 3, 3, 3, 2, 2, 2,\n",
       "        2, 2, 2, 4, 4, 4, 4, 3, 3, 3, 3, 3, 3, 2, 2, 2, 2, 2, 2, 3, 3, 3, 4, 4,\n",
       "        4, 4, 3, 3, 3, 3, 3, 3, 2, 2, 2, 2, 4, 4, 4, 4, 2, 2, 2, 2, 3, 3, 3, 4,\n",
       "        4, 4, 4, 4, 4, 4, 4, 3, 3, 3, 2, 2, 2, 2, 2, 2, 3, 3, 3, 3, 3, 3, 3, 3,\n",
       "        3, 2, 2, 3, 3, 3, 2, 2, 3, 3, 3, 4, 4, 4, 4, 4, 4, 4, 4, 5, 5, 5, 5, 5,\n",
       "        4, 4, 4, 4, 2, 2, 6, 6, 6, 6, 6, 6, 4, 4, 4, 4, 4, 4, 4, 4, 2, 2, 4, 4,\n",
       "        4, 4, 3, 3, 3, 5, 5, 5, 5, 5, 5, 5, 5, 5, 5, 2, 2, 3, 3, 3, 3, 3, 3, 2,\n",
       "        2, 4, 4, 4, 4, 3, 3, 3, 4, 4, 4, 4, 3, 3, 3, 3, 3, 3, 3, 3, 3, 2, 2, 2,\n",
       "        2, 2, 2, 2, 2, 3, 3, 3, 3, 3, 3, 3, 3, 3, 3, 3, 3, 2, 2, 3, 3, 3, 2, 2,\n",
       "        3, 3, 3, 6, 6, 6, 6, 6, 6, 2, 2, 4, 4, 4, 4, 3, 3, 3, 2, 2, 2, 2, 2, 2,\n",
       "        2, 2, 3, 3, 3, 2, 2, 5, 5, 5, 5, 5, 2, 2, 2, 2, 2, 2, 5, 5, 5, 5, 5, 3,\n",
       "        3, 3, 5, 5, 5, 5, 5, 2, 2, 3, 3, 3, 2, 2, 3, 3, 3, 2, 2, 4, 4, 4, 4, 2,\n",
       "        2, 2, 2, 3, 3, 3, 2, 2, 3, 3, 3, 2, 2, 3, 3, 3, 2, 2, 2, 2])"
      ]
     },
     "execution_count": 12,
     "metadata": {},
     "output_type": "execute_result"
    }
   ],
   "source": [
    "real_edges = get_real_edges(batch)\n",
    "angles = get_counter_clockwise_sorted_angle_vertices(real_edges, pos)\n",
    "u, v1, v2 = angles[:, 0], angles[:, 1], angles[:, 2]\n",
    "get_node_degrees_by_indices(real_edges, u)"
   ]
  },
  {
   "cell_type": "code",
   "execution_count": 19,
   "metadata": {},
   "outputs": [],
   "source": [
    "data = data_list[0]\n",
    "theta,degree,u = get_theta_angles_and_node_degrees(data.x, data,return_u=True)\n",
    "sorted_idx = sorted(np.arange(len(u)), key=lambda e: (u[e], theta[e]))\n",
    "# sorted_v = v[sorted_idx]\n",
    "# # get start index for each u\n",
    "idx = np.unique(u, return_index=True)[1]"
   ]
  },
  {
   "cell_type": "code",
   "execution_count": 22,
   "metadata": {},
   "outputs": [
    {
     "data": {
      "text/plain": [
       "array([ 0,  0,  0,  0,  2,  2,  3,  3,  3,  3,  4,  4,  6,  6,  8,  8,  8,\n",
       "        9,  9,  9, 10, 10, 11, 11, 11, 12, 12, 12, 13, 13, 13, 14, 14, 14,\n",
       "       15, 15, 15, 15, 15])"
      ]
     },
     "execution_count": 22,
     "metadata": {},
     "output_type": "execute_result"
    }
   ],
   "source": [
    "u[sorted_idx]"
   ]
  },
  {
   "cell_type": "code",
   "execution_count": 23,
   "metadata": {},
   "outputs": [
    {
     "data": {
      "text/plain": [
       "tensor([0.2882, 1.5693, 1.8133, 2.6124, 0.5049, 0.5049, 0.0106, 0.3381, 0.6830,\n",
       "        1.0301, 0.5110, 0.5110, 0.9955, 0.9955, 0.0998, 0.5432, 0.6426, 0.7850,\n",
       "        1.0615, 1.8464, 0.0326, 0.0326, 0.0781, 1.3410, 1.4189, 0.2410, 0.4735,\n",
       "        0.7143, 1.6525, 2.2210, 2.4095, 0.1980, 0.9522, 1.1501, 0.1183, 0.3945,\n",
       "        0.4254, 0.7869, 1.7248])"
      ]
     },
     "execution_count": 23,
     "metadata": {},
     "output_type": "execute_result"
    }
   ],
   "source": [
    "theta[sorted_idx]"
   ]
  },
  {
   "cell_type": "code",
   "execution_count": 42,
   "metadata": {},
   "outputs": [
    {
     "data": {
      "text/plain": [
       "(array([ 0,  2,  3,  4,  6,  8,  9, 10, 11, 12, 13, 14, 15]),\n",
       " array([ 0,  4,  6, 10, 12, 14, 17, 20, 22, 25, 28, 31, 34]))"
      ]
     },
     "execution_count": 42,
     "metadata": {},
     "output_type": "execute_result"
    }
   ],
   "source": [
    "idx = np.unique(u, return_index=True)\n",
    "idx"
   ]
  },
  {
   "cell_type": "code",
   "execution_count": 37,
   "metadata": {},
   "outputs": [
    {
     "data": {
      "text/plain": [
       "tensor([4, 4, 4, 4, 2, 2, 4, 4, 4, 4, 2, 2, 2, 2, 3, 3, 3, 3, 3, 3, 2, 2, 3, 3,\n",
       "        3, 3, 3, 3, 3, 3, 3, 3, 3, 3, 5, 5, 5, 5, 5])"
      ]
     },
     "execution_count": 37,
     "metadata": {},
     "output_type": "execute_result"
    }
   ],
   "source": [
    "degree"
   ]
  },
  {
   "cell_type": "code",
   "execution_count": 40,
   "metadata": {},
   "outputs": [
    {
     "data": {
      "text/plain": [
       "tensor([4, 2, 4, 2, 2, 3, 3, 2, 3, 3, 3, 3, 5])"
      ]
     },
     "execution_count": 40,
     "metadata": {},
     "output_type": "execute_result"
    }
   ],
   "source": [
    "degree[idx]"
   ]
  },
  {
   "cell_type": "code",
   "execution_count": 41,
   "metadata": {},
   "outputs": [
    {
     "data": {
      "text/plain": [
       "tensor([0.2882, 0.5049, 0.0106, 0.5110, 0.9955, 0.0998, 0.7850, 0.0326, 0.0781,\n",
       "        0.2410, 1.6525, 0.1980, 0.1183])"
      ]
     },
     "execution_count": 41,
     "metadata": {},
     "output_type": "execute_result"
    }
   ],
   "source": [
    "theta[sorted_idx][idx]"
   ]
  },
  {
   "cell_type": "code",
   "execution_count": null,
   "metadata": {},
   "outputs": [],
   "source": [
    "def resolution_score(theta,degree,u):\n",
    "    sorted_idx = sorted(np.arange(len(u)), key=lambda e: (u[e], theta[e]))\n",
    "    u_idx = np.unique(u, return_index=True)[1]\n",
    "    min_theta = theta[sorted_idx][idx].cpu()\n",
    "    min_degree = degree[idx]\n",
    "    return (min_theta * min_degree/(2 * np.pi)).mean().item()"
   ]
  },
  {
   "cell_type": "code",
   "execution_count": 3,
   "metadata": {},
   "outputs": [
    {
     "data": {
      "text/plain": [
       "0.5052969575519529"
      ]
     },
     "execution_count": 3,
     "metadata": {},
     "output_type": "execute_result"
    }
   ],
   "source": [
    "idx = 10320\n",
    "data = data_list[idx]\n",
    "G = G_list[idx]\n",
    "truth = torch.tensor(get_ground_truth(G))\n",
    "theta,degree,u = get_theta_angles_and_node_degrees(truth, data,return_u=True)\n",
    "resolution_score(theta,degree,u)"
   ]
  },
  {
   "cell_type": "code",
   "execution_count": null,
   "metadata": {},
   "outputs": [],
   "source": [
    "criterion ="
   ]
  },
  {
   "cell_type": "code",
   "execution_count": 13,
   "metadata": {},
   "outputs": [
    {
     "data": {
      "text/plain": [
       "tensor(9.8881)"
      ]
     },
     "execution_count": 13,
     "metadata": {},
     "output_type": "execute_result"
    }
   ],
   "source": [
    "theta, degrees = get_theta_angles_and_node_degrees(data_pos, data)\n",
    "phi = degrees.float().pow(-1).mul(2*np.pi)\n",
    "phi.sub(theta).square().sum().abs().sqrt()"
   ]
  },
  {
   "cell_type": "code",
   "execution_count": 18,
   "metadata": {},
   "outputs": [
    {
     "data": {
      "text/plain": [
       "tensor([-2.4254e-01, -1.0416e+00,  1.5163e-03,  1.2826e+00,  2.6367e+00,\n",
       "         2.6367e+00,  1.5602e+00,  8.8781e-01,  1.2327e+00,  5.4068e-01,\n",
       "         2.6306e+00,  2.6306e+00,  2.1461e+00,  2.1461e+00,  1.5512e+00,\n",
       "         1.9946e+00,  1.4517e+00,  1.0329e+00,  1.3094e+00,  2.4795e-01,\n",
       "         3.1090e+00,  3.1090e+00,  2.0162e+00,  6.7552e-01,  7.5338e-01,\n",
       "         1.6209e+00,  1.8534e+00,  1.3801e+00,  4.4186e-01, -1.2664e-01,\n",
       "        -3.1514e-01,  1.1422e+00,  1.8964e+00,  9.4427e-01,  8.3120e-01,\n",
       "         4.6978e-01,  8.6213e-01,  1.1383e+00, -4.6815e-01])"
      ]
     },
     "execution_count": 18,
     "metadata": {},
     "output_type": "execute_result"
    }
   ],
   "source": [
    "phi.sub(theta)"
   ]
  },
  {
   "cell_type": "code",
   "execution_count": 22,
   "metadata": {},
   "outputs": [
    {
     "data": {
      "text/plain": [
       "tensor(97.7753)"
      ]
     },
     "execution_count": 22,
     "metadata": {},
     "output_type": "execute_result"
    }
   ],
   "source": [
    "phi.sub(theta).square().sum().abs()"
   ]
  },
  {
   "cell_type": "code",
   "execution_count": 5,
   "metadata": {},
   "outputs": [],
   "source": [
    "import numpy as np\n",
    "np.set_printoptions(precision=2)"
   ]
  },
  {
   "cell_type": "code",
   "execution_count": 7,
   "metadata": {},
   "outputs": [
    {
     "name": "stdout",
     "output_type": "stream",
     "text": [
      "[10.11]\n"
     ]
    }
   ],
   "source": [
    "print(np.array([10.1123]))"
   ]
  },
  {
   "cell_type": "code",
   "execution_count": 1,
   "metadata": {},
   "outputs": [
    {
     "data": {
      "text/plain": [
       "'3.40e-06'"
      ]
     },
     "execution_count": 1,
     "metadata": {},
     "output_type": "execute_result"
    }
   ],
   "source": [
    "f'{0.0000034:.2e}'"
   ]
  },
  {
   "cell_type": "code",
   "execution_count": null,
   "metadata": {},
   "outputs": [],
   "source": []
  }
 ],
 "metadata": {
  "kernelspec": {
   "display_name": "Python 3",
   "language": "python",
   "name": "python3"
  },
  "language_info": {
   "codemirror_mode": {
    "name": "ipython",
    "version": 3
   },
   "file_extension": ".py",
   "mimetype": "text/x-python",
   "name": "python",
   "nbconvert_exporter": "python",
   "pygments_lexer": "ipython3",
   "version": "3.7.10"
  },
  "widgets": {
   "application/vnd.jupyter.widget-state+json": {
    "state": {},
    "version_major": 2,
    "version_minor": 0
   }
  }
 },
 "nbformat": 4,
 "nbformat_minor": 4
}
