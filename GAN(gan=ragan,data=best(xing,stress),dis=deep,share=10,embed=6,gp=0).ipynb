{
 "cells": [
  {
   "cell_type": "markdown",
   "metadata": {
    "id": "wZtYFEhHoBGp"
   },
   "source": [
    "# Import libraries"
   ]
  },
  {
   "cell_type": "code",
   "execution_count": 1,
   "metadata": {
    "id": "KJPfzpxLQI5O"
   },
   "outputs": [],
   "source": [
    "%load_ext autoreload\n",
    "%autoreload 2\n",
    "from deepgd import *"
   ]
  },
  {
   "cell_type": "markdown",
   "metadata": {
    "id": "z4eBEyB1oaJe"
   },
   "source": [
    "# Config"
   ]
  },
  {
   "cell_type": "code",
   "execution_count": 2,
   "metadata": {
    "id": "Q_-MLFhpNvxF"
   },
   "outputs": [],
   "source": [
    "cuda_idx = 0\n",
    "canonicalization = Canonicalization(normalize=Standardization(norm_ord=1),\n",
    "                                    scale=False)\n",
    "config = StaticConfig({\n",
    "    \"name\": 'GAN(gan=ragan,data=best(xing,stress),dis=deep,share=10,embed=6,gp=0)',\n",
    "    \"uid\": None,\n",
    "    \"link\": None,\n",
    "    \"generator\": {\n",
    "        \"params\": {\n",
    "            \"num_blocks\": 9,\n",
    "            \"normalize\": canonicalization\n",
    "        },\n",
    "        \"pretrained\": {\n",
    "            \"name\": None,\n",
    "            \"epoch\": -1,\n",
    "        },\n",
    "        \"optim\": torch.optim.AdamW,\n",
    "        \"lr\" : {\n",
    "            \"initial\": 1e-3,\n",
    "            \"decay\": 0.99,\n",
    "        },\n",
    "    },\n",
    "    \"discriminator\": {\n",
    "        \"params\": {\n",
    "            \"conv\": [2, 16, 16, 16],\n",
    "            \"dense\": [2],\n",
    "            \"shared_depth\": 10,\n",
    "            \"enet_depth\": 6,\n",
    "            \"enet_width\": 64,\n",
    "            \"aggr\": \"add\",\n",
    "            \"normalize\": canonicalization\n",
    "        },\n",
    "        \"pretrained\": {\n",
    "            \"name\": None,\n",
    "            \"epoch\": -1,\n",
    "        },\n",
    "        \"optim\": torch.optim.AdamW,\n",
    "        \"lr\" : {\n",
    "            \"initial\": 1e-3,\n",
    "            \"decay\": 0.99,\n",
    "        },\n",
    "        \"noise\": {\n",
    "            \"std\": 0,\n",
    "            \"decay\": 0.95,\n",
    "        },\n",
    "        \"repeat\": 1,\n",
    "        \"complete\": True,\n",
    "        \"adaptive\": True\n",
    "    },\n",
    "    \"alternate\": \"epoch\",\n",
    "    \"batchsize\": 24,\n",
    "    \"epoch\": {\n",
    "        \"start\": -1,\n",
    "        \"end\": None,\n",
    "    },\n",
    "    \"log_interval\": 1,\n",
    "    \"test\": {\n",
    "        \"name\": \"test\",\n",
    "        \"epoch\": -1,\n",
    "    },\n",
    "    \"gan_flavor\": \"ragan\",\n",
    "    \"gp_weight\": 0,\n",
    "})\n",
    "data_config = StaticConfig({\n",
    "    \"sparse\": False,\n",
    "    \"pivot\": None,\n",
    "    \"init\": \"pmds\",\n",
    "    \"edge\": {\n",
    "        \"index\": \"full_edge_index\",\n",
    "        \"attr\": \"full_edge_attr\",\n",
    "    },\n",
    "})\n",
    "loss_fns = {\n",
    "    Stress(): 1\n",
    "}\n",
    "ctrler_params = {\n",
    "    \"tau\": 0.95,\n",
    "    \"beta\": 1,\n",
    "    \"exploit_rate\": 0.5,\n",
    "    \"warmup\": 2,\n",
    "}\n",
    "paths = StaticConfig({\n",
    "    \"root\": \"artifacts\",\n",
    "    \"checkpoints\": lambda: f\"{paths.root}/checkpoints/{config.name}\",\n",
    "    \"gen_pretrain\": lambda: f\"{paths.root}/checkpoints/{config.generator.pretrained.name}\",\n",
    "    \"dis_pretrain\": lambda: f\"{paths.root}/checkpoints/{config.discriminator.pretrained.name}\",\n",
    "    \"tensorboard\": lambda: f\"{paths.root}/tensorboards/{config.name}\",\n",
    "    \"visualization\": lambda: f\"{paths.root}/visualizations/{config.name}_{config.test.name}\",\n",
    "    \"log\": lambda: f\"{paths.root}/logs/{config.name}.log\",\n",
    "    \"metrics\": lambda suffix: f\"{paths.root}/metrics/{config.name}_{suffix}.pickle\",\n",
    "})"
   ]
  },
  {
   "cell_type": "code",
   "execution_count": 3,
   "metadata": {
    "id": "mdMEAbH10Qaq"
   },
   "outputs": [],
   "source": [
    "if \" \" in config.name:\n",
    "    raise Exception(\"Space is not allowed in model name.\")"
   ]
  },
  {
   "cell_type": "markdown",
   "metadata": {
    "id": "WynW4ZAdBhep"
   },
   "source": [
    "# Prepare"
   ]
  },
  {
   "cell_type": "markdown",
   "metadata": {
    "id": "DR6-vYtr_i_P"
   },
   "source": [
    "## Get log command"
   ]
  },
  {
   "cell_type": "code",
   "execution_count": 4,
   "metadata": {
    "colab": {
     "base_uri": "https://localhost:8080/"
    },
    "id": "9-QpinlslcTO",
    "outputId": "48ae3716-212c-4d46-9efb-b7b4070f73de"
   },
   "outputs": [
    {
     "name": "stdout",
     "output_type": "stream",
     "text": [
      "cd /users/PAS0027/osu10203/deepgd && tail -n1000 -f 'artifacts/logs/GAN(gan=ragan,data=best(xing,stress),dis=deep,share=10,embed=6,gp=0).log'\n"
     ]
    }
   ],
   "source": [
    "print(f\"cd {os.getcwd()} && tail -n1000 -f '{paths.log()}'\")"
   ]
  },
  {
   "cell_type": "code",
   "execution_count": 5,
   "metadata": {},
   "outputs": [
    {
     "name": "stdout",
     "output_type": "stream",
     "text": [
      "tensorboard dev upload --logdir 'artifacts/tensorboards/GAN(gan=ragan,data=best(xing,stress),dis=deep,share=10,embed=6,gp=0)'\n"
     ]
    }
   ],
   "source": [
    "print(f\"tensorboard dev upload --logdir '{paths.tensorboard()}'\")"
   ]
  },
  {
   "cell_type": "markdown",
   "metadata": {
    "id": "innqkwvH_ydD"
   },
   "source": [
    "## Set globals"
   ]
  },
  {
   "cell_type": "code",
   "execution_count": 6,
   "metadata": {
    "id": "Qjq7JlSZlkQR"
   },
   "outputs": [],
   "source": [
    "if cuda_idx is not None and torch.cuda.is_available():\n",
    "    device = f'cuda:{cuda_idx}'\n",
    "    pynvml.nvmlInit()\n",
    "    cuda = pynvml.nvmlDeviceGetHandleByIndex(cuda_idx)\n",
    "else:\n",
    "    device = 'cpu'\n",
    "    cuda =  None\n",
    "np.set_printoptions(precision=2)\n",
    "warnings.filterwarnings(\"ignore\", category=RuntimeWarning)"
   ]
  },
  {
   "cell_type": "markdown",
   "metadata": {
    "id": "0da286l_ApEL"
   },
   "source": [
    "## Load data"
   ]
  },
  {
   "cell_type": "code",
   "execution_count": 7,
   "metadata": {
    "colab": {
     "base_uri": "https://localhost:8080/"
    },
    "id": "RFuSHiZJMU4x",
    "outputId": "54065609-aaea-4536-d79c-73bc73b3f576"
   },
   "outputs": [
    {
     "name": "stdout",
     "output_type": "stream",
     "text": [
      "Load from 'cache/G_list.pickle'\n",
      "Load from 'cache/generate_data_list(list,sparse=False,pivot_mode=None,init_mode=pmds,edge_index=full_edge_index,edge_attr=full_edge_attr,pmds_list=ndarray,gviz_list=ndarray,noisy_layout=True,device=cpu).pickle'\n"
     ]
    },
    {
     "name": "stderr",
     "output_type": "stream",
     "text": [
      "/users/PAS0027/osu10203/.conda/envs/deepgd/lib/python3.9/site-packages/torch_geometric/deprecation.py:13: UserWarning: 'data.DataLoader' is deprecated, use 'loader.DataLoader' instead\n",
      "  warnings.warn(out)\n"
     ]
    }
   ],
   "source": [
    "G_list = load_G_list(data_path='data/rome', index_file='data_index.txt', cache='G_list', cache_prefix='cache/')\n",
    "data_list = generate_data_list(G_list, \n",
    "                               sparse=data_config.sparse, \n",
    "                               pivot_mode=data_config.pivot,\n",
    "                               init_mode=data_config.init,\n",
    "                               edge_index=data_config.edge.index,\n",
    "                               edge_attr=data_config.edge.attr,\n",
    "                               pmds_list=np.load('layouts/rome/pmds.npy', allow_pickle=True),\n",
    "                               gviz_list=np.load('layouts/rome/gviz.npy', allow_pickle=True),\n",
    "                               noisy_layout=True,\n",
    "                               device='cpu', \n",
    "                               cache=True,\n",
    "                               cache_prefix='cache/')\n",
    "train_loader = LazyDeviceMappingDataLoader(data_list[:10000], batch_size=config.batchsize, shuffle=True, device=device)\n",
    "val_loader = LazyDeviceMappingDataLoader(data_list[11000:], batch_size=config.batchsize, shuffle=False, device=device)"
   ]
  },
  {
   "cell_type": "code",
   "execution_count": 8,
   "metadata": {
    "id": "djd1pLt2OxZq"
   },
   "outputs": [],
   "source": [
    "def draw_layout(G, method, draw=True):\n",
    "    if method == 'fa2':\n",
    "        layout = get_fa2_layout(G)\n",
    "    else:\n",
    "        try:\n",
    "            fn = getattr(nx.drawing.layout, f'{method}_layout')\n",
    "            layout = fn(G)\n",
    "        except:\n",
    "            layout = nx.drawing.nx_agraph.graphviz_layout(G, prog=method)\n",
    "    if draw:\n",
    "        nx.draw(G, pos=layout)\n",
    "    return layout"
   ]
  },
  {
   "cell_type": "code",
   "execution_count": 9,
   "metadata": {
    "id": "2vBBw77lR7Em"
   },
   "outputs": [],
   "source": [
    "methods = ['neato', 'dot', 'fdp', 'sfdp', 'twopi', 'circo', 'shell', 'spring', 'circular', 'spectral', 'kamada_kawai', 'fa2', 'pmds']"
   ]
  },
  {
   "cell_type": "code",
   "execution_count": 10,
   "metadata": {
    "id": "dx6VVA9XIc2O"
   },
   "outputs": [],
   "source": [
    "from functools import lru_cache\n",
    "\n",
    "@lru_cache(maxsize=None)\n",
    "def load_pos(method):\n",
    "    return np.load(f'layouts/rome/{method}.npy', allow_pickle=True)"
   ]
  },
  {
   "cell_type": "code",
   "execution_count": 11,
   "metadata": {
    "colab": {
     "base_uri": "https://localhost:8080/",
     "height": 1000,
     "referenced_widgets": [
      "05a37aeeb20049dfa2f97287b3990556",
      "a75afae3adfd4810a0b0991a062535ee",
      "a24ae105ed124595992f7e2e5f909247",
      "01b4cabaf8004dd4b9269b4e6889c498",
      "f3c7c84f2b314bd8b97a7358deaf4fa1",
      "35e4a83e692b4a7bafb46fdf192b2586",
      "62847b5e2678459f845159eef6d4feab",
      "143e81f00313436dacfa246a57108944",
      "e05833f11803400b95ff22246cdc8f2b",
      "53aeede91e074378b5d7f626165655ee",
      "79a43768c1794a10a788a49e5883aa2c"
     ]
    },
    "id": "MSmP-jem9I0X",
    "outputId": "c698f0bf-e96e-4de9-aeda-0b046fc0a03f",
    "scrolled": true,
    "tags": []
   },
   "outputs": [],
   "source": [
    "# best_list = []\n",
    "# best_layout_list = []\n",
    "# for idx, (G, data) in enumerate(zip(tqdm(G_list), data_list)):\n",
    "#     xing, stress, layout = {}, {}, {}\n",
    "#     for m in methods:\n",
    "#         batch = Batch.from_data_list([data])\n",
    "#         pos = load_pos(m)\n",
    "#         p = CanonicalizationByStress()(torch.tensor(pos[idx]).float(), batch)\n",
    "#         x = Xing()(p, batch).item()\n",
    "#         s = Stress()(p, batch).item()\n",
    "#         xing[m] = x\n",
    "#         stress[m] = s\n",
    "#         layout[m] = p.numpy()\n",
    "#         # plt.figure()\n",
    "#         # graph_vis(G, pos[idx])\n",
    "#         # plt.title(f'{m} stress={s:.2f} xing={x}')\n",
    "#     best, *_ = sorted(methods, key=lambda m: (xing[m], stress[m]))\n",
    "#     best_list.append(best)\n",
    "#     best_layout_list.append(layout[best])\n",
    "#     print(f'{best}, xing={xing[best]}, stress={stress[best]:.2f}')"
   ]
  },
  {
   "cell_type": "code",
   "execution_count": 12,
   "metadata": {
    "colab": {
     "base_uri": "https://localhost:8080/"
    },
    "id": "Mx2bZNugdTqa",
    "outputId": "cec05a67-18e8-492f-aaa1-057274a8341a"
   },
   "outputs": [],
   "source": [
    "# pickle.dump(best_list, open('layouts/rome/best[xing,stress].pkl', 'wb'))\n",
    "# np.save('layouts/rome/best[xing,stress].npy', best_layout_list)"
   ]
  },
  {
   "cell_type": "code",
   "execution_count": 13,
   "metadata": {
    "colab": {
     "base_uri": "https://localhost:8080/",
     "height": 49,
     "referenced_widgets": [
      "7e0ae84dd0f3458d893c81b029fe1729",
      "18bdc3bf80fb434abde68de5b72a8870",
      "2e3552ded9594635a51832387ae754a0",
      "54f4aa5080c6498080a63be2cdeefee5",
      "3937586d0879451da5e2138ca3bfd0a0",
      "a9df6e84ce8c499eb2b2cf984995d791",
      "7af6b718dd3d4e01b264377a2fa938e2",
      "a774c86e64004bd6951645f1c24abad4",
      "c86575117cd041f2837762f37d1f387b",
      "6e9907cefb1241688fbd248b8281ed9f",
      "9b8e5405d8264944acab57e81f2f5ad6"
     ]
    },
    "id": "A1-w1fspC53p",
    "outputId": "09c2d5c3-1eef-41eb-dcee-581af1294804"
   },
   "outputs": [
    {
     "data": {
      "application/vnd.jupyter.widget-view+json": {
       "model_id": "e7e88aa31ff54a76887b2ce3226b87b9",
       "version_major": 2,
       "version_minor": 0
      },
      "text/plain": [
       "  0%|          | 0/11531 [00:00<?, ?it/s]"
      ]
     },
     "metadata": {},
     "output_type": "display_data"
    }
   ],
   "source": [
    "best_layout_list = np.load('layouts/rome/best[xing,stress].npy', allow_pickle=True)\n",
    "for data, layout in zip(tqdm(data_list), best_layout_list):\n",
    "    data.gt_pos = torch.tensor(layout)"
   ]
  },
  {
   "cell_type": "code",
   "execution_count": 14,
   "metadata": {
    "id": "y6EGh4U7exL_"
   },
   "outputs": [],
   "source": [
    "train_loader = LazyDeviceMappingDataLoader(data_list[:10000], batch_size=config.batchsize, shuffle=True, device=device)\n",
    "val_loader = LazyDeviceMappingDataLoader(data_list[11000:], batch_size=config.batchsize, shuffle=False, device=device)"
   ]
  },
  {
   "cell_type": "code",
   "execution_count": 15,
   "metadata": {
    "colab": {
     "base_uri": "https://localhost:8080/",
     "height": 103,
     "referenced_widgets": [
      "38a33cf69aff48f4aabd4902a7ce48b1",
      "57e277bcb44c4e2fa2a12105d75153d1",
      "20ce017c46bd4a7c9b420270ac579405",
      "13f2df4fe0ce4af88b6e3bd1637065b0",
      "2867faa145ca4860a198d4d0bf830f89",
      "02838cf669174ed9afa41a1a8e680765",
      "7e9e3c031667455f8baca163d3a213e5",
      "4000135e7dfa46529fa6244fccc5cb57",
      "e523e9faac5b4ec38643c05ac5ba99f7",
      "e8e3ee9741e4480dae5003ccc19a7891",
      "9a569045221b43acb3ba2fbf116b2c74"
     ]
    },
    "id": "YEfRRUK0NiNm",
    "outputId": "93f53d05-7667-4cda-a38e-c3a953124f79"
   },
   "outputs": [],
   "source": [
    "# for m in methods:\n",
    "#     layouts = []\n",
    "#     for G in tqdm(G_list):\n",
    "#         layout = draw_layout(G, method=m, draw=False)\n",
    "#         layouts.append(np.array(list(layout.values())))\n",
    "#     np.save(f'layouts/rome/{m}.npy', layouts)"
   ]
  },
  {
   "cell_type": "code",
   "execution_count": 16,
   "metadata": {
    "colab": {
     "base_uri": "https://localhost:8080/",
     "height": 564
    },
    "id": "upK7AHYqPmC5",
    "outputId": "29a88e61-f55f-409c-9194-12c6d5762528"
   },
   "outputs": [],
   "source": [
    "# from collections import Counter\n",
    "\n",
    "# letter_counts = Counter(best_list)\n",
    "# df = pd.DataFrame.from_dict(letter_counts, orient='index')\n",
    "# df.plot(kind='bar', figsize=[12, 8])"
   ]
  },
  {
   "cell_type": "markdown",
   "metadata": {
    "id": "f-ODE2k8BFV6"
   },
   "source": [
    "## Create folders"
   ]
  },
  {
   "cell_type": "code",
   "execution_count": 17,
   "metadata": {
    "id": "3ykUMINYBRog"
   },
   "outputs": [],
   "source": [
    "mkdirs(paths.checkpoints(), paths.tensorboard(), paths.visualization(), f\"{paths.root}/logs\", f\"{paths.root}/metrics\")"
   ]
  },
  {
   "cell_type": "markdown",
   "metadata": {
    "id": "BFq9k5nzBIh5"
   },
   "source": [
    "## Load checkpoints"
   ]
  },
  {
   "cell_type": "code",
   "execution_count": 18,
   "metadata": {
    "id": "W5NbsKkobIfA"
   },
   "outputs": [],
   "source": [
    "class EdgeFeatureDiscriminator(nn.Module):\n",
    "    def __init__(self, \n",
    "                 conv, \n",
    "                 dense,\n",
    "                 shared_depth,\n",
    "                 enet_depth,\n",
    "                 enet_width,\n",
    "                 aggr='add', \n",
    "                 root_weight=True,\n",
    "                 normalize=None):\n",
    "        super().__init__()\n",
    "        self.enet = nn.Sequential(*[\n",
    "            DenseLayer(in_dim=in_d,\n",
    "                       out_dim=out_d,\n",
    "                       skip=nonlin,\n",
    "                       bn=nonlin,\n",
    "                       act=nonlin,\n",
    "                       dp=None)\n",
    "            for in_d, out_d, nonlin \n",
    "            in zip([self._get_feature_dim()] + [enet_width] * (shared_depth-1),\n",
    "                   [enet_width] * shared_depth,\n",
    "                   [True] * (shared_depth-1) + [False])     \n",
    "        ])\n",
    "        self.blocks = nn.ModuleList([\n",
    "            GNNLayer(nfeat_dims=(in_d, out_d),\n",
    "                     efeat_dim=enet_width,\n",
    "                     edge_net=EdgeNet(nfeat_dims=(in_d, out_d), \n",
    "                                      efeat_dim=enet_width, \n",
    "                                      depth=enet_depth, \n",
    "                                      width=enet_width),\n",
    "                     aggr=aggr,\n",
    "                     dense=False,\n",
    "                     skip=nonlin,\n",
    "                     bn=nonlin,\n",
    "                     act=nonlin,\n",
    "                     root_weight=root_weight) \n",
    "            for in_d, out_d, nonlin \n",
    "            in zip(conv[:-1], conv[1:], [True] * (len(conv)-2) + [False])     \n",
    "        ])\n",
    "        self.pool = (gnn.global_mean_pool if aggr == 'mean' \n",
    "                     else gnn.global_add_pool if aggr == 'add' \n",
    "                     else None)\n",
    "        self.dense = nn.Identity() if not dense else nn.Sequential(*[\n",
    "            DenseLayer(in_dim=in_d,\n",
    "                       out_dim=out_d,\n",
    "                       skip=nonlin,\n",
    "                       bn=nonlin,\n",
    "                       act=nonlin,\n",
    "                       dp=None)\n",
    "            for in_d, out_d, nonlin \n",
    "            in zip(conv[-1:] + dense[:-1], dense, [True] * (len(dense)-1) + [False])     \n",
    "        ])\n",
    "        self.normalize = normalize or IdentityTransformation()\n",
    "    \n",
    "    def forward(self, batch):\n",
    "        x = torch.ones_like(batch.pos)\n",
    "        e = self.enet(self._get_features(self._get_edge_info(batch, layout='pos')))\n",
    "        for block in self.blocks:\n",
    "            x = block(x, e, batch)\n",
    "        x = self.pool(x, batch.batch)\n",
    "        x = self.dense(x)\n",
    "        return x\n",
    "    \n",
    "    def _get_edge_info(self, batch, layout='gt_pos'):\n",
    "        pos = self.normalize(batch[layout].float(), batch)\n",
    "        src, dst = get_edges(pos, batch)\n",
    "        v, u = l2_normalize(dst - src, return_norm=True)\n",
    "        d = batch.edge_attr[:, :1]\n",
    "        return {\n",
    "            \"src\": src,\n",
    "            \"dst\": dst,\n",
    "            \"v\": v,\n",
    "            \"u\": u,\n",
    "            \"d\": d,\n",
    "        }\n",
    "\n",
    "    def _get_features(self, edges):\n",
    "        return torch.cat([edges['src'], edges['dst'], edges['d']], dim=1)\n",
    "        \n",
    "    def _get_feature_dim(self):\n",
    "        return self._get_features({\n",
    "            \"src\": torch.zeros(1, 2),\n",
    "            \"dst\": torch.zeros(1, 2),\n",
    "            \"v\": torch.zeros(1, 2),\n",
    "            \"u\": torch.zeros(1, 1),\n",
    "            \"d\": torch.zeros(1, 1),\n",
    "        }).shape[-1]"
   ]
  },
  {
   "cell_type": "code",
   "execution_count": 19,
   "metadata": {
    "id": "96ZActxlL0fJ"
   },
   "outputs": [],
   "source": [
    "class StressDiscriminator(nn.Module):\n",
    "    def __init__(self, normalize=CanonicalizationByStress(), **kwargs):\n",
    "        super().__init__()\n",
    "        self.dummy = nn.Parameter(torch.zeros(1))\n",
    "        self.normalize = normalize\n",
    "        self.stress = Stress(reduce=None)\n",
    "\n",
    "    def forward(self, batch):\n",
    "        return -self.stress(self.normalize(batch.pos, batch), batch)"
   ]
  },
  {
   "cell_type": "code",
   "execution_count": 20,
   "metadata": {
    "id": "IJ6xCYBUuhcw"
   },
   "outputs": [],
   "source": [
    "def get_ckpt_epoch(folder, epoch):\n",
    "    if not os.path.isdir(folder):\n",
    "        os.mkdir(folder)\n",
    "    if epoch >= 0:\n",
    "        return epoch\n",
    "    ckpt_files = os.listdir(folder)\n",
    "    last_epoch = 0\n",
    "    if ckpt_files:\n",
    "        last_epoch = sorted(list(map(lambda x: int(re.search('(?<=epoch_)(\\d+)(?=\\.)', x).group(1)), ckpt_files)))[-1]\n",
    "    return last_epoch + epoch + 1\n",
    "\n",
    "def start_epoch():\n",
    "    return get_ckpt_epoch(paths.checkpoints(), config.epoch.start)"
   ]
  },
  {
   "cell_type": "code",
   "execution_count": 21,
   "metadata": {
    "colab": {
     "base_uri": "https://localhost:8080/"
    },
    "id": "JacDYXka9U01",
    "outputId": "ef4e31ab-2144-497c-8e4f-4d3740ce2d52"
   },
   "outputs": [
    {
     "name": "stdout",
     "output_type": "stream",
     "text": [
      "Loading from artifacts/checkpoints/GAN(gan=ragan,data=best(xing,stress),dis=deep,share=10,embed=6,gp=0)/gen_epoch_1021.pt...\n",
      "Loading from artifacts/checkpoints/GAN(gan=ragan,data=best(xing,stress),dis=deep,share=10,embed=6,gp=0)/gen_optim_epoch_1021.pt...\n"
     ]
    }
   ],
   "source": [
    "generator = Generator(**config.generator.params[...]).to(device)\n",
    "generator_optimizer = config.generator.optim(generator.parameters(), lr=config.generator.lr.initial * config.generator.lr.decay ** start_epoch())\n",
    "generator_scheduler = torch.optim.lr_scheduler.ExponentialLR(generator_optimizer, gamma=config.generator.lr.decay)\n",
    "if start_epoch() != 0:\n",
    "    gen_ckpt_epoch = start_epoch()\n",
    "elif config.generator.pretrained.name is not None and config.generator.pretrained.epoch != 0:\n",
    "    gen_pretrained_epoch = get_ckpt_epoch(paths.gen_pretrain(), config.generator.pretrained.epoch)\n",
    "    gen_ckpt_epoch = gen_pretrained_epoch \n",
    "else:\n",
    "    gen_ckpt_epoch = None\n",
    "if gen_ckpt_epoch is not None:\n",
    "    # Load generator\n",
    "    gen_ckpt_file = f\"{paths.checkpoints()}/gen_epoch_{gen_ckpt_epoch}.pt\"\n",
    "    print(f\"Loading from {gen_ckpt_file}...\")\n",
    "    generator.load_state_dict(torch.load(gen_ckpt_file, map_location=torch.device(device)))\n",
    "    # Load generator optimizer\n",
    "    gen_optim_ckpt_file = f\"{paths.checkpoints()}/gen_optim_epoch_{gen_ckpt_epoch}.pt\"\n",
    "    print(f\"Loading from {gen_optim_ckpt_file}...\")\n",
    "    generator_optimizer.load_state_dict(torch.load(gen_optim_ckpt_file, map_location=torch.device(device)))"
   ]
  },
  {
   "cell_type": "code",
   "execution_count": 22,
   "metadata": {
    "colab": {
     "base_uri": "https://localhost:8080/"
    },
    "id": "oWQhD7-88VXe",
    "outputId": "3ba01600-b546-4e45-a6bd-c7a65af1ae9e"
   },
   "outputs": [
    {
     "name": "stdout",
     "output_type": "stream",
     "text": [
      "Loading from artifacts/checkpoints/GAN(gan=ragan,data=best(xing,stress),dis=deep,share=10,embed=6,gp=0)/dis_epoch_1021.pt...\n",
      "Loading from artifacts/checkpoints/GAN(gan=ragan,data=best(xing,stress),dis=deep,share=10,embed=6,gp=0)/dis_optim_epoch_1021.pt...\n"
     ]
    }
   ],
   "source": [
    "discriminator = EdgeFeatureDiscriminator(**config.discriminator.params[...]).to(device)\n",
    "discriminator_optimizer = config.discriminator.optim(discriminator.parameters(), lr=config.discriminator.lr.initial * config.discriminator.lr.decay ** start_epoch())\n",
    "discriminator_scheduler = torch.optim.lr_scheduler.ExponentialLR(discriminator_optimizer, gamma=config.discriminator.lr.decay)\n",
    "if start_epoch() != 0:\n",
    "    dis_ckpt_epoch = start_epoch()\n",
    "elif config.discriminator.pretrained.name is not None and config.discriminator.pretrained.epoch != 0:\n",
    "    dis_pretrained_epoch = get_ckpt_epoch(paths.dis_pretrain(), config.discriminator.pretrained.epoch)\n",
    "    dis_ckpt_epoch = dis_pretrained_epoch # f\"{paths.dis_pretrain()}/dis_epoch_{dis_pretrained_epoch}.pt\"\n",
    "else:\n",
    "    dis_ckpt_epoch = None\n",
    "if dis_ckpt_epoch is not None:\n",
    "    # Load discriminator\n",
    "    dis_ckpt_file = f\"{paths.checkpoints()}/dis_epoch_{dis_ckpt_epoch}.pt\"\n",
    "    print(f\"Loading from {dis_ckpt_file}...\")\n",
    "    discriminator.load_state_dict(torch.load(dis_ckpt_file, map_location=torch.device(device)))\n",
    "    # Load discriminator optimizer\n",
    "    dis_optim_ckpt_file = f\"{paths.checkpoints()}/dis_optim_epoch_{dis_ckpt_epoch}.pt\"\n",
    "    print(f\"Loading from {dis_optim_ckpt_file}...\")\n",
    "    discriminator_optimizer.load_state_dict(torch.load(dis_optim_ckpt_file, map_location=torch.device(device)))"
   ]
  },
  {
   "cell_type": "markdown",
   "metadata": {
    "id": "N39dDHraedM6"
   },
   "source": [
    "# Train"
   ]
  },
  {
   "cell_type": "code",
   "execution_count": 23,
   "metadata": {
    "id": "BdIJSDSJedM-"
   },
   "outputs": [],
   "source": [
    "stress_criterion = StressDiscriminator().to(device)\n",
    "val_criterion = Stress(reduce=None)\n",
    "xing_criterion = Xing(reduce=None)\n",
    "dis_convert = DiscriminatorDataConverter(complete_graph=config.discriminator.complete, normalize=config.discriminator.params.normalize)\n",
    "tensorboard = SummaryWriter(log_dir=paths.tensorboard())\n",
    "epoch = start_epoch() + 1"
   ]
  },
  {
   "cell_type": "code",
   "execution_count": 24,
   "metadata": {
    "id": "OHRWj1h0edM-"
   },
   "outputs": [],
   "source": [
    "def gradient_penalty(interpolated, discriminator, weight=10):\n",
    "    interpolated.pos.requires_grad_()\n",
    "    prob_interpolated = discriminator(interpolated)\n",
    "    gradients = autograd.grad(outputs=prob_interpolated, \n",
    "                              inputs=interpolated.pos,\n",
    "                              grad_outputs=torch.ones_like(prob_interpolated),\n",
    "                              create_graph=True, \n",
    "                              retain_graph=True, \n",
    "                              allow_unused=True)[0]\n",
    "    gradients_norm = torch.sqrt(gnn.global_add_pool(gradients.square().sum(dim=1), batch.batch) + 1e-8)\n",
    "    return weight * ((gradients_norm - 1) ** 2).mean()"
   ]
  },
  {
   "cell_type": "code",
   "execution_count": 25,
   "metadata": {
    "id": "o5wJJN9AedM_"
   },
   "outputs": [],
   "source": [
    "def get_gp_loss(batch, fake_pos, weight):\n",
    "    if weight > 0:\n",
    "        interp = dis_convert(batch, fake_pos, random.random())\n",
    "        return gradient_penalty(interp, discriminator, weight).mean()\n",
    "    return 0"
   ]
  },
  {
   "cell_type": "code",
   "execution_count": 26,
   "metadata": {
    "id": "QwuA6sRoedM_"
   },
   "outputs": [],
   "source": [
    "def get_sgan_loss(batch, fake_pos, mode='discriminator'):\n",
    "    real = dis_convert(batch)\n",
    "    fake = dis_convert(batch, fake_pos)\n",
    "    pred = discriminator(merge_batch(real, fake)).view(2, -1).T\n",
    "    if mode == 'discriminator':\n",
    "        label = torch.zeros(pred.shape[0]).long()\n",
    "    elif mode == 'generator':\n",
    "        label = torch.ones(pred.shape[0]).long()\n",
    "    else:\n",
    "        raise Exception\n",
    "    return nn.CrossEntropyLoss()(pred, label)"
   ]
  },
  {
   "cell_type": "code",
   "execution_count": 27,
   "metadata": {
    "id": "GuAP1YchedNA"
   },
   "outputs": [],
   "source": [
    "def get_rgan_loss(batch, fake_pos, mode='discriminator'):\n",
    "    real = dis_convert(batch)\n",
    "    fake = dis_convert(batch, fake_pos)\n",
    "    pred = discriminator(merge_batch(real, fake)).view(2, -1).T\n",
    "    real_pred, fake_pred = pred[:,0], pred[:,1]\n",
    "    if mode == 'discriminator':\n",
    "        losses = - F.logsigmoid(real_pred - fake_pred)\n",
    "    elif mode == 'generator':\n",
    "        losses = - F.logsigmoid(fake_pred - real_pred)\n",
    "    else:\n",
    "        raise Exception\n",
    "    return losses.mean()"
   ]
  },
  {
   "cell_type": "code",
   "execution_count": 28,
   "metadata": {
    "id": "KFllQ7BredNA"
   },
   "outputs": [],
   "source": [
    "def get_wgan_loss(batch, fake_pos, mode='discriminator'):\n",
    "    real = dis_convert(batch)\n",
    "    fake = dis_convert(batch, fake_pos)\n",
    "    pred = discriminator(merge_batch(real, fake)).view(2, -1).T\n",
    "    real_pred, fake_pred = pred[:,0], pred[:,1]\n",
    "    if mode == 'discriminator':\n",
    "        losses = fake_pred - real_pred \n",
    "    elif mode == 'generator':\n",
    "        losses = real_pred - fake_pred\n",
    "    else:\n",
    "        raise Exception\n",
    "    return losses.mean()"
   ]
  },
  {
   "cell_type": "code",
   "execution_count": 29,
   "metadata": {
    "id": "r5Kg_tYEedNA"
   },
   "outputs": [],
   "source": [
    "def get_ragan_loss(batch, fake_pos, mode='discriminator'):\n",
    "    real = dis_convert(batch)\n",
    "    fake = dis_convert(batch, fake_pos)\n",
    "    pred = discriminator(merge_batch(real, fake)).view(2, -1).T\n",
    "    real_pred, fake_pred = pred[:,0], pred[:,1]\n",
    "    if mode == 'discriminator':\n",
    "        losses = - F.logsigmoid(real_pred - fake_pred.mean()) - F.logsigmoid(real_pred.mean() - fake_pred)\n",
    "    elif mode == 'generator':\n",
    "        losses = - F.logsigmoid(fake_pred - real_pred.mean()) - F.logsigmoid(fake_pred.mean() - real_pred)\n",
    "    else:\n",
    "        raise Exception\n",
    "    return losses.mean()"
   ]
  },
  {
   "cell_type": "code",
   "execution_count": 30,
   "metadata": {},
   "outputs": [],
   "source": [
    "def get_dgdv2_loss(batch, fake_pos, mode='discriminator'):\n",
    "    fake = dis_convert(batch, fake_pos)\n",
    "    pred = discriminator(fake)\n",
    "    if mode == 'discriminator':\n",
    "        gt = get_gt(batch, fake_pos)\n",
    "        loss = criterion(pred, gt)\n",
    "    elif mode == 'generator':\n",
    "        losses = pred.sum(dim=0)\n",
    "#         losses = torch.tensor(config.importance).to(device) * losses #/ losses.detach()\n",
    "        loss = losses.sum()\n",
    "    else:\n",
    "        raise Exception\n",
    "    return -loss"
   ]
  },
  {
   "cell_type": "code",
   "execution_count": 31,
   "metadata": {
    "id": "3IE_84f-edNB"
   },
   "outputs": [],
   "source": [
    "def get_gan_loss(batch, fake_pos, mode='discriminator'):\n",
    "    return {\"sgan\": get_sgan_loss,\n",
    "            \"wgan\": get_wgan_loss,\n",
    "            \"rgan\": get_rgan_loss,\n",
    "            \"ragan\": get_ragan_loss,\n",
    "            \"dgdv2\": get_dgdv2_loss}[config.gan_flavor](batch, fake_pos, mode)"
   ]
  },
  {
   "cell_type": "code",
   "execution_count": 32,
   "metadata": {
    "colab": {
     "background_save": true,
     "base_uri": "https://localhost:8080/",
     "height": 80
    },
    "id": "2NjekXgkedNB",
    "outputId": "da85b2ec-c0de-459c-c0dd-7ba3519419fa",
    "scrolled": true,
    "tags": []
   },
   "outputs": [
    {
     "data": {
      "application/vnd.jupyter.widget-view+json": {
       "model_id": "9341e2db40d7460c899eeb7409008e0b",
       "version_major": 2,
       "version_minor": 0
      },
      "text/plain": [
       "Tab(children=(VBox(children=(Wrapper(), Hud())), HBox(children=(Output(),), layout=Layout(height='500px', over…"
      ]
     },
     "metadata": {},
     "output_type": "display_data"
    },
    {
     "ename": "KeyboardInterrupt",
     "evalue": "",
     "output_type": "error",
     "traceback": [
      "\u001b[0;31m---------------------------------------------------------------------------\u001b[0m",
      "\u001b[0;31mKeyboardInterrupt\u001b[0m                         Traceback (most recent call last)",
      "\u001b[0;32m/tmp/slurmtmp.5826414/ipykernel_129822/801679965.py\u001b[0m in \u001b[0;36m<module>\u001b[0;34m\u001b[0m\n\u001b[1;32m    133\u001b[0m     \u001b[0;32mif\u001b[0m \u001b[0mconfig\u001b[0m\u001b[0;34m.\u001b[0m\u001b[0malternate\u001b[0m \u001b[0;34m==\u001b[0m \u001b[0;34m'epoch'\u001b[0m\u001b[0;34m:\u001b[0m\u001b[0;34m\u001b[0m\u001b[0;34m\u001b[0m\u001b[0m\n\u001b[1;32m    134\u001b[0m         \u001b[0;32mfor\u001b[0m \u001b[0mbatch\u001b[0m \u001b[0;32min\u001b[0m \u001b[0mtrain_loader\u001b[0m\u001b[0;34m:\u001b[0m\u001b[0;34m\u001b[0m\u001b[0;34m\u001b[0m\u001b[0m\n\u001b[0;32m--> 135\u001b[0;31m             \u001b[0mtrain_gen\u001b[0m\u001b[0;34m(\u001b[0m\u001b[0mbatch\u001b[0m\u001b[0;34m,\u001b[0m \u001b[0mepoch\u001b[0m\u001b[0;34m)\u001b[0m\u001b[0;34m\u001b[0m\u001b[0;34m\u001b[0m\u001b[0m\n\u001b[0m\u001b[1;32m    136\u001b[0m \u001b[0;34m\u001b[0m\u001b[0m\n\u001b[1;32m    137\u001b[0m     \u001b[0mdiscriminator_scheduler\u001b[0m\u001b[0;34m.\u001b[0m\u001b[0mstep\u001b[0m\u001b[0;34m(\u001b[0m\u001b[0;34m)\u001b[0m\u001b[0;34m\u001b[0m\u001b[0;34m\u001b[0m\u001b[0m\n",
      "\u001b[0;32m/tmp/slurmtmp.5826414/ipykernel_129822/801679965.py\u001b[0m in \u001b[0;36mtrain_gen\u001b[0;34m(batch, epoch)\u001b[0m\n\u001b[1;32m     28\u001b[0m     \u001b[0;32mif\u001b[0m \u001b[0mconfig\u001b[0m\u001b[0;34m.\u001b[0m\u001b[0mdiscriminator\u001b[0m\u001b[0;34m.\u001b[0m\u001b[0mnoise\u001b[0m\u001b[0;34m.\u001b[0m\u001b[0mstd\u001b[0m \u001b[0;34m>\u001b[0m \u001b[0;36m0\u001b[0m\u001b[0;34m:\u001b[0m\u001b[0;34m\u001b[0m\u001b[0;34m\u001b[0m\u001b[0m\n\u001b[1;32m     29\u001b[0m         \u001b[0mgenerator_output\u001b[0m \u001b[0;34m=\u001b[0m \u001b[0mgenerator_output\u001b[0m \u001b[0;34m+\u001b[0m \u001b[0mtorch\u001b[0m\u001b[0;34m.\u001b[0m\u001b[0mrandn_like\u001b[0m\u001b[0;34m(\u001b[0m\u001b[0mgenerator_output\u001b[0m\u001b[0;34m)\u001b[0m \u001b[0;34m*\u001b[0m \u001b[0mconfig\u001b[0m\u001b[0;34m.\u001b[0m\u001b[0mdiscriminator\u001b[0m\u001b[0;34m.\u001b[0m\u001b[0mnoise\u001b[0m\u001b[0;34m.\u001b[0m\u001b[0mstd\u001b[0m \u001b[0;34m*\u001b[0m \u001b[0mconfig\u001b[0m\u001b[0;34m.\u001b[0m\u001b[0mdiscriminator\u001b[0m\u001b[0;34m.\u001b[0m\u001b[0mnoise\u001b[0m\u001b[0;34m.\u001b[0m\u001b[0mdecay\u001b[0m \u001b[0;34m**\u001b[0m \u001b[0mepoch\u001b[0m\u001b[0;34m\u001b[0m\u001b[0;34m\u001b[0m\u001b[0m\n\u001b[0;32m---> 30\u001b[0;31m     \u001b[0mgenerator_loss\u001b[0m \u001b[0;34m=\u001b[0m \u001b[0mget_gan_loss\u001b[0m\u001b[0;34m(\u001b[0m\u001b[0mbatch\u001b[0m\u001b[0;34m,\u001b[0m \u001b[0mgenerator_output\u001b[0m\u001b[0;34m,\u001b[0m \u001b[0mmode\u001b[0m\u001b[0;34m=\u001b[0m\u001b[0;34m'generator'\u001b[0m\u001b[0;34m)\u001b[0m\u001b[0;34m\u001b[0m\u001b[0;34m\u001b[0m\u001b[0m\n\u001b[0m\u001b[1;32m     31\u001b[0m \u001b[0;34m\u001b[0m\u001b[0m\n\u001b[1;32m     32\u001b[0m     \u001b[0;31m#train generator\u001b[0m\u001b[0;34m\u001b[0m\u001b[0;34m\u001b[0m\u001b[0m\n",
      "\u001b[0;32m/tmp/slurmtmp.5826414/ipykernel_129822/4066978981.py\u001b[0m in \u001b[0;36mget_gan_loss\u001b[0;34m(batch, fake_pos, mode)\u001b[0m\n\u001b[1;32m      1\u001b[0m \u001b[0;32mdef\u001b[0m \u001b[0mget_gan_loss\u001b[0m\u001b[0;34m(\u001b[0m\u001b[0mbatch\u001b[0m\u001b[0;34m,\u001b[0m \u001b[0mfake_pos\u001b[0m\u001b[0;34m,\u001b[0m \u001b[0mmode\u001b[0m\u001b[0;34m=\u001b[0m\u001b[0;34m'discriminator'\u001b[0m\u001b[0;34m)\u001b[0m\u001b[0;34m:\u001b[0m\u001b[0;34m\u001b[0m\u001b[0;34m\u001b[0m\u001b[0m\n\u001b[0;32m----> 2\u001b[0;31m     return {\"sgan\": get_sgan_loss,\n\u001b[0m\u001b[1;32m      3\u001b[0m             \u001b[0;34m\"wgan\"\u001b[0m\u001b[0;34m:\u001b[0m \u001b[0mget_wgan_loss\u001b[0m\u001b[0;34m,\u001b[0m\u001b[0;34m\u001b[0m\u001b[0;34m\u001b[0m\u001b[0m\n\u001b[1;32m      4\u001b[0m             \u001b[0;34m\"rgan\"\u001b[0m\u001b[0;34m:\u001b[0m \u001b[0mget_rgan_loss\u001b[0m\u001b[0;34m,\u001b[0m\u001b[0;34m\u001b[0m\u001b[0;34m\u001b[0m\u001b[0m\n\u001b[1;32m      5\u001b[0m             \u001b[0;34m\"ragan\"\u001b[0m\u001b[0;34m:\u001b[0m \u001b[0mget_ragan_loss\u001b[0m\u001b[0;34m,\u001b[0m\u001b[0;34m\u001b[0m\u001b[0;34m\u001b[0m\u001b[0m\n",
      "\u001b[0;32m/tmp/slurmtmp.5826414/ipykernel_129822/2448263638.py\u001b[0m in \u001b[0;36mget_ragan_loss\u001b[0;34m(batch, fake_pos, mode)\u001b[0m\n\u001b[1;32m      1\u001b[0m \u001b[0;32mdef\u001b[0m \u001b[0mget_ragan_loss\u001b[0m\u001b[0;34m(\u001b[0m\u001b[0mbatch\u001b[0m\u001b[0;34m,\u001b[0m \u001b[0mfake_pos\u001b[0m\u001b[0;34m,\u001b[0m \u001b[0mmode\u001b[0m\u001b[0;34m=\u001b[0m\u001b[0;34m'discriminator'\u001b[0m\u001b[0;34m)\u001b[0m\u001b[0;34m:\u001b[0m\u001b[0;34m\u001b[0m\u001b[0;34m\u001b[0m\u001b[0m\n\u001b[1;32m      2\u001b[0m     \u001b[0mreal\u001b[0m \u001b[0;34m=\u001b[0m \u001b[0mdis_convert\u001b[0m\u001b[0;34m(\u001b[0m\u001b[0mbatch\u001b[0m\u001b[0;34m)\u001b[0m\u001b[0;34m\u001b[0m\u001b[0;34m\u001b[0m\u001b[0m\n\u001b[0;32m----> 3\u001b[0;31m     \u001b[0mfake\u001b[0m \u001b[0;34m=\u001b[0m \u001b[0mdis_convert\u001b[0m\u001b[0;34m(\u001b[0m\u001b[0mbatch\u001b[0m\u001b[0;34m,\u001b[0m \u001b[0mfake_pos\u001b[0m\u001b[0;34m)\u001b[0m\u001b[0;34m\u001b[0m\u001b[0;34m\u001b[0m\u001b[0m\n\u001b[0m\u001b[1;32m      4\u001b[0m     \u001b[0mpred\u001b[0m \u001b[0;34m=\u001b[0m \u001b[0mdiscriminator\u001b[0m\u001b[0;34m(\u001b[0m\u001b[0mmerge_batch\u001b[0m\u001b[0;34m(\u001b[0m\u001b[0mreal\u001b[0m\u001b[0;34m,\u001b[0m \u001b[0mfake\u001b[0m\u001b[0;34m)\u001b[0m\u001b[0;34m)\u001b[0m\u001b[0;34m.\u001b[0m\u001b[0mview\u001b[0m\u001b[0;34m(\u001b[0m\u001b[0;36m2\u001b[0m\u001b[0;34m,\u001b[0m \u001b[0;34m-\u001b[0m\u001b[0;36m1\u001b[0m\u001b[0;34m)\u001b[0m\u001b[0;34m.\u001b[0m\u001b[0mT\u001b[0m\u001b[0;34m\u001b[0m\u001b[0;34m\u001b[0m\u001b[0m\n\u001b[1;32m      5\u001b[0m     \u001b[0mreal_pred\u001b[0m\u001b[0;34m,\u001b[0m \u001b[0mfake_pred\u001b[0m \u001b[0;34m=\u001b[0m \u001b[0mpred\u001b[0m\u001b[0;34m[\u001b[0m\u001b[0;34m:\u001b[0m\u001b[0;34m,\u001b[0m\u001b[0;36m0\u001b[0m\u001b[0;34m]\u001b[0m\u001b[0;34m,\u001b[0m \u001b[0mpred\u001b[0m\u001b[0;34m[\u001b[0m\u001b[0;34m:\u001b[0m\u001b[0;34m,\u001b[0m\u001b[0;36m1\u001b[0m\u001b[0;34m]\u001b[0m\u001b[0;34m\u001b[0m\u001b[0;34m\u001b[0m\u001b[0m\n",
      "\u001b[0;32m~/.conda/envs/deepgd/lib/python3.9/site-packages/torch/nn/modules/module.py\u001b[0m in \u001b[0;36m_call_impl\u001b[0;34m(self, *input, **kwargs)\u001b[0m\n\u001b[1;32m   1049\u001b[0m         if not (self._backward_hooks or self._forward_hooks or self._forward_pre_hooks or _global_backward_hooks\n\u001b[1;32m   1050\u001b[0m                 or _global_forward_hooks or _global_forward_pre_hooks):\n\u001b[0;32m-> 1051\u001b[0;31m             \u001b[0;32mreturn\u001b[0m \u001b[0mforward_call\u001b[0m\u001b[0;34m(\u001b[0m\u001b[0;34m*\u001b[0m\u001b[0minput\u001b[0m\u001b[0;34m,\u001b[0m \u001b[0;34m**\u001b[0m\u001b[0mkwargs\u001b[0m\u001b[0;34m)\u001b[0m\u001b[0;34m\u001b[0m\u001b[0;34m\u001b[0m\u001b[0m\n\u001b[0m\u001b[1;32m   1052\u001b[0m         \u001b[0;31m# Do not call functions when jit is used\u001b[0m\u001b[0;34m\u001b[0m\u001b[0;34m\u001b[0m\u001b[0m\n\u001b[1;32m   1053\u001b[0m         \u001b[0mfull_backward_hooks\u001b[0m\u001b[0;34m,\u001b[0m \u001b[0mnon_full_backward_hooks\u001b[0m \u001b[0;34m=\u001b[0m \u001b[0;34m[\u001b[0m\u001b[0;34m]\u001b[0m\u001b[0;34m,\u001b[0m \u001b[0;34m[\u001b[0m\u001b[0;34m]\u001b[0m\u001b[0;34m\u001b[0m\u001b[0;34m\u001b[0m\u001b[0m\n",
      "\u001b[0;32m~/deepgd/deepgd/data.py\u001b[0m in \u001b[0;36mforward\u001b[0;34m(self, data, pos, interpolate)\u001b[0m\n\u001b[1;32m    535\u001b[0m             \u001b[0mpos\u001b[0m \u001b[0;34m=\u001b[0m \u001b[0mself\u001b[0m\u001b[0;34m.\u001b[0m\u001b[0mnormalize\u001b[0m\u001b[0;34m(\u001b[0m\u001b[0mpos\u001b[0m\u001b[0;34m,\u001b[0m \u001b[0mdis_data\u001b[0m\u001b[0;34m)\u001b[0m\u001b[0;34m\u001b[0m\u001b[0;34m\u001b[0m\u001b[0m\n\u001b[1;32m    536\u001b[0m             \u001b[0mdis_data\u001b[0m\u001b[0;34m.\u001b[0m\u001b[0mpos\u001b[0m \u001b[0;34m=\u001b[0m \u001b[0minterpolate\u001b[0m \u001b[0;34m*\u001b[0m \u001b[0mdis_data\u001b[0m\u001b[0;34m.\u001b[0m\u001b[0mpos\u001b[0m \u001b[0;34m+\u001b[0m \u001b[0;34m(\u001b[0m\u001b[0;36m1\u001b[0m \u001b[0;34m-\u001b[0m \u001b[0minterpolate\u001b[0m\u001b[0;34m)\u001b[0m \u001b[0;34m*\u001b[0m \u001b[0mpos\u001b[0m\u001b[0;34m\u001b[0m\u001b[0;34m\u001b[0m\u001b[0m\n\u001b[0;32m--> 537\u001b[0;31m             \u001b[0mdis_data\u001b[0m\u001b[0;34m.\u001b[0m\u001b[0mpos\u001b[0m \u001b[0;34m=\u001b[0m \u001b[0mself\u001b[0m\u001b[0;34m.\u001b[0m\u001b[0mnormalize\u001b[0m\u001b[0;34m(\u001b[0m\u001b[0mdis_data\u001b[0m\u001b[0;34m.\u001b[0m\u001b[0mpos\u001b[0m\u001b[0;34m,\u001b[0m \u001b[0mdis_data\u001b[0m\u001b[0;34m)\u001b[0m\u001b[0;34m\u001b[0m\u001b[0;34m\u001b[0m\u001b[0m\n\u001b[0m\u001b[1;32m    538\u001b[0m         \u001b[0;32mreturn\u001b[0m \u001b[0mdis_data\u001b[0m\u001b[0;34m\u001b[0m\u001b[0;34m\u001b[0m\u001b[0m\n\u001b[1;32m    539\u001b[0m \u001b[0;34m\u001b[0m\u001b[0m\n",
      "\u001b[0;32m~/.conda/envs/deepgd/lib/python3.9/site-packages/torch/nn/modules/module.py\u001b[0m in \u001b[0;36m_call_impl\u001b[0;34m(self, *input, **kwargs)\u001b[0m\n\u001b[1;32m   1049\u001b[0m         if not (self._backward_hooks or self._forward_hooks or self._forward_pre_hooks or _global_backward_hooks\n\u001b[1;32m   1050\u001b[0m                 or _global_forward_hooks or _global_forward_pre_hooks):\n\u001b[0;32m-> 1051\u001b[0;31m             \u001b[0;32mreturn\u001b[0m \u001b[0mforward_call\u001b[0m\u001b[0;34m(\u001b[0m\u001b[0;34m*\u001b[0m\u001b[0minput\u001b[0m\u001b[0;34m,\u001b[0m \u001b[0;34m**\u001b[0m\u001b[0mkwargs\u001b[0m\u001b[0;34m)\u001b[0m\u001b[0;34m\u001b[0m\u001b[0;34m\u001b[0m\u001b[0m\n\u001b[0m\u001b[1;32m   1052\u001b[0m         \u001b[0;31m# Do not call functions when jit is used\u001b[0m\u001b[0;34m\u001b[0m\u001b[0;34m\u001b[0m\u001b[0m\n\u001b[1;32m   1053\u001b[0m         \u001b[0mfull_backward_hooks\u001b[0m\u001b[0;34m,\u001b[0m \u001b[0mnon_full_backward_hooks\u001b[0m \u001b[0;34m=\u001b[0m \u001b[0;34m[\u001b[0m\u001b[0;34m]\u001b[0m\u001b[0;34m,\u001b[0m \u001b[0;34m[\u001b[0m\u001b[0;34m]\u001b[0m\u001b[0;34m\u001b[0m\u001b[0;34m\u001b[0m\u001b[0m\n",
      "\u001b[0;32m~/deepgd/deepgd/transform.py\u001b[0m in \u001b[0;36mforward\u001b[0;34m(self, pos, data)\u001b[0m\n\u001b[1;32m    151\u001b[0m         \u001b[0mbatch\u001b[0m \u001b[0;34m=\u001b[0m \u001b[0mmake_batch\u001b[0m\u001b[0;34m(\u001b[0m\u001b[0mdata\u001b[0m\u001b[0;34m)\u001b[0m\u001b[0;34m\u001b[0m\u001b[0;34m\u001b[0m\u001b[0m\n\u001b[1;32m    152\u001b[0m         \u001b[0mpos\u001b[0m \u001b[0;34m=\u001b[0m \u001b[0mself\u001b[0m\u001b[0;34m.\u001b[0m\u001b[0mtranslate\u001b[0m\u001b[0;34m(\u001b[0m\u001b[0mpos\u001b[0m\u001b[0;34m,\u001b[0m \u001b[0mbatch\u001b[0m\u001b[0;34m)\u001b[0m\u001b[0;34m\u001b[0m\u001b[0;34m\u001b[0m\u001b[0m\n\u001b[0;32m--> 153\u001b[0;31m         \u001b[0mpos\u001b[0m \u001b[0;34m=\u001b[0m \u001b[0mself\u001b[0m\u001b[0;34m.\u001b[0m\u001b[0mrotate\u001b[0m\u001b[0;34m(\u001b[0m\u001b[0mpos\u001b[0m\u001b[0;34m,\u001b[0m \u001b[0mbatch\u001b[0m\u001b[0;34m)\u001b[0m\u001b[0;34m\u001b[0m\u001b[0;34m\u001b[0m\u001b[0m\n\u001b[0m\u001b[1;32m    154\u001b[0m         \u001b[0mpos\u001b[0m \u001b[0;34m=\u001b[0m \u001b[0mself\u001b[0m\u001b[0;34m.\u001b[0m\u001b[0mnormalize\u001b[0m\u001b[0;34m(\u001b[0m\u001b[0mpos\u001b[0m\u001b[0;34m,\u001b[0m \u001b[0mbatch\u001b[0m\u001b[0;34m)\u001b[0m\u001b[0;34m\u001b[0m\u001b[0;34m\u001b[0m\u001b[0m\n\u001b[1;32m    155\u001b[0m         \u001b[0mpos\u001b[0m \u001b[0;34m=\u001b[0m \u001b[0mself\u001b[0m\u001b[0;34m.\u001b[0m\u001b[0mscale\u001b[0m\u001b[0;34m(\u001b[0m\u001b[0mpos\u001b[0m\u001b[0;34m,\u001b[0m \u001b[0mbatch\u001b[0m\u001b[0;34m)\u001b[0m\u001b[0;34m\u001b[0m\u001b[0;34m\u001b[0m\u001b[0m\n",
      "\u001b[0;32m~/.conda/envs/deepgd/lib/python3.9/site-packages/torch/nn/modules/module.py\u001b[0m in \u001b[0;36m_call_impl\u001b[0;34m(self, *input, **kwargs)\u001b[0m\n\u001b[1;32m   1049\u001b[0m         if not (self._backward_hooks or self._forward_hooks or self._forward_pre_hooks or _global_backward_hooks\n\u001b[1;32m   1050\u001b[0m                 or _global_forward_hooks or _global_forward_pre_hooks):\n\u001b[0;32m-> 1051\u001b[0;31m             \u001b[0;32mreturn\u001b[0m \u001b[0mforward_call\u001b[0m\u001b[0;34m(\u001b[0m\u001b[0;34m*\u001b[0m\u001b[0minput\u001b[0m\u001b[0;34m,\u001b[0m \u001b[0;34m**\u001b[0m\u001b[0mkwargs\u001b[0m\u001b[0;34m)\u001b[0m\u001b[0;34m\u001b[0m\u001b[0;34m\u001b[0m\u001b[0m\n\u001b[0m\u001b[1;32m   1052\u001b[0m         \u001b[0;31m# Do not call functions when jit is used\u001b[0m\u001b[0;34m\u001b[0m\u001b[0;34m\u001b[0m\u001b[0m\n\u001b[1;32m   1053\u001b[0m         \u001b[0mfull_backward_hooks\u001b[0m\u001b[0;34m,\u001b[0m \u001b[0mnon_full_backward_hooks\u001b[0m \u001b[0;34m=\u001b[0m \u001b[0;34m[\u001b[0m\u001b[0;34m]\u001b[0m\u001b[0;34m,\u001b[0m \u001b[0;34m[\u001b[0m\u001b[0;34m]\u001b[0m\u001b[0;34m\u001b[0m\u001b[0;34m\u001b[0m\u001b[0m\n",
      "\u001b[0;32m~/deepgd/deepgd/transform.py\u001b[0m in \u001b[0;36mforward\u001b[0;34m(self, pos, data)\u001b[0m\n\u001b[1;32m     51\u001b[0m         \u001b[0mXXT\u001b[0m \u001b[0;34m=\u001b[0m \u001b[0mtorch\u001b[0m\u001b[0;34m.\u001b[0m\u001b[0meinsum\u001b[0m\u001b[0;34m(\u001b[0m\u001b[0;34m'ni,nj->nij'\u001b[0m\u001b[0;34m,\u001b[0m \u001b[0mpos\u001b[0m\u001b[0;34m,\u001b[0m \u001b[0mpos\u001b[0m\u001b[0;34m)\u001b[0m\u001b[0;34m\u001b[0m\u001b[0;34m\u001b[0m\u001b[0m\n\u001b[1;32m     52\u001b[0m         \u001b[0mcov\u001b[0m \u001b[0;34m=\u001b[0m \u001b[0mtorch_scatter\u001b[0m\u001b[0;34m.\u001b[0m\u001b[0mscatter\u001b[0m\u001b[0;34m(\u001b[0m\u001b[0mXXT\u001b[0m\u001b[0;34m,\u001b[0m \u001b[0mbatch\u001b[0m\u001b[0;34m.\u001b[0m\u001b[0mbatch\u001b[0m\u001b[0;34m,\u001b[0m \u001b[0mdim\u001b[0m\u001b[0;34m=\u001b[0m\u001b[0;36m0\u001b[0m\u001b[0;34m,\u001b[0m \u001b[0mreduce\u001b[0m\u001b[0;34m=\u001b[0m\u001b[0;34m'mean'\u001b[0m\u001b[0;34m)\u001b[0m\u001b[0;34m\u001b[0m\u001b[0;34m\u001b[0m\u001b[0m\n\u001b[0;32m---> 53\u001b[0;31m         \u001b[0mcomponents\u001b[0m \u001b[0;34m=\u001b[0m \u001b[0mtorch\u001b[0m\u001b[0;34m.\u001b[0m\u001b[0mlinalg\u001b[0m\u001b[0;34m.\u001b[0m\u001b[0meigh\u001b[0m\u001b[0;34m(\u001b[0m\u001b[0mcov\u001b[0m\u001b[0;34m)\u001b[0m\u001b[0;34m.\u001b[0m\u001b[0meigenvectors\u001b[0m\u001b[0;34m\u001b[0m\u001b[0;34m\u001b[0m\u001b[0m\n\u001b[0m\u001b[1;32m     54\u001b[0m         rotated_pos = torch.einsum('ij,njk,nk->ni', \n\u001b[1;32m     55\u001b[0m                                    \u001b[0mself\u001b[0m\u001b[0;34m.\u001b[0m\u001b[0mbase_rotation\u001b[0m\u001b[0;34m.\u001b[0m\u001b[0mto\u001b[0m\u001b[0;34m(\u001b[0m\u001b[0mpos\u001b[0m\u001b[0;34m.\u001b[0m\u001b[0mdevice\u001b[0m\u001b[0;34m)\u001b[0m\u001b[0;34m,\u001b[0m\u001b[0;34m\u001b[0m\u001b[0;34m\u001b[0m\u001b[0m\n",
      "\u001b[0;31mKeyboardInterrupt\u001b[0m: "
     ]
    }
   ],
   "source": [
    "def train_dis(batch, epoch):\n",
    "    generator.requires_grad_(False)\n",
    "    discriminator.zero_grad()\n",
    "    generator_output = generator(batch)\n",
    "    if config.discriminator.noise.std > 0:\n",
    "        generator_output = generator_output + torch.randn_like(generator_output) * config.discriminator.noise.std * config.discriminator.noise.decay ** epoch\n",
    "    discriminator_loss = get_gan_loss(batch, generator_output, mode='discriminator')\n",
    "    \n",
    "    # train discriminator\n",
    "    discriminator_loss.backward()\n",
    "    discriminator_optimizer.step()\n",
    "\n",
    "    # gradient penalty\n",
    "    if config.gp_weight > 0:\n",
    "        discriminator.zero_grad()\n",
    "        gp_loss = get_gp_loss(batch, generator_output, config.gp_weight)\n",
    "        gp_loss.backward()\n",
    "        discriminator_optimizer.step()\n",
    "\n",
    "    hud['dis_loss'] = format(discriminator_loss.item(), '.2e')\n",
    "    pbar().update()\n",
    "\n",
    "def train_gen(batch, epoch):\n",
    "    generator.requires_grad_(True)\n",
    "    generator.zero_grad()\n",
    "    discriminator.zero_grad()\n",
    "    generator_output = generator(batch)\n",
    "    if config.discriminator.noise.std > 0:\n",
    "        generator_output = generator_output + torch.randn_like(generator_output) * config.discriminator.noise.std * config.discriminator.noise.decay ** epoch\n",
    "    generator_loss = get_gan_loss(batch, generator_output, mode='generator') \n",
    "    \n",
    "    #train generator\n",
    "    generator_loss.backward()\n",
    "    generator_optimizer.step()\n",
    "\n",
    "    with torch.no_grad():\n",
    "        dis_batch = dis_convert(batch, generator_output)\n",
    "        stress = stress_criterion(dis_batch).mean()\n",
    "        critic = discriminator(dis_batch).mean()\n",
    "    hud.append({'gen_loss': format(generator_loss.item(), '.2e'),\n",
    "                'stress': format(stress.item(), '.2e'),\n",
    "                'critic': format(critic.item(), '.2e')})\n",
    "    pbar().update()\n",
    "\n",
    "def cuda_memsafe_map(fn, *iterables, summary=False):\n",
    "    total, failed = 0, 0\n",
    "    iterator = zip(*iterables)\n",
    "    items = None\n",
    "    while True:\n",
    "        try:\n",
    "            items = next(iterator)\n",
    "            yield fn(*items)\n",
    "        except StopIteration:\n",
    "            if summary:\n",
    "                print(f'Iteration finished. {failed} out of {total} failed!')\n",
    "            break\n",
    "        except RuntimeError:\n",
    "            print('CUDA memory overflow! Skip batch...')\n",
    "            del items\n",
    "            failed += 1\n",
    "        torch.cuda.empty_cache()\n",
    "        total += 1\n",
    "    \n",
    "def validate(model, data_loader, criterion=val_criterion):\n",
    "    def val_one_batch(batch):\n",
    "        batch = preprocess_batch(model, batch)\n",
    "        pred = CanonicalizationByStress()(model(batch), batch)\n",
    "        gt = CanonicalizationByStress()(batch.gt_pos, batch)\n",
    "        loss = criterion(pred, batch)\n",
    "        gt_loss = criterion(gt, batch)\n",
    "        spc = (loss - gt_loss) / torch.maximum(torch.maximum(loss, gt_loss), torch.ones_like(loss)*1e-5)\n",
    "        return loss.mean().item(), spc.mean().item()\n",
    "    loss_all, spc_all = zip(*cuda_memsafe_map(val_one_batch, data_loader))\n",
    "    return np.mean(loss_all), np.mean(spc_all)\n",
    "\n",
    "def log(msg):\n",
    "    msg = f\"[{epoch:03}] {msg}\"\n",
    "    print(msg, file=open(paths.log(), \"a\"))\n",
    "    with log_out: \n",
    "        print(msg)\n",
    "\n",
    "print(f\"{'='*10} {config.link} {'='*10}\", file=open(paths.log(), \"a\"))\n",
    "hud = Hud()\n",
    "pbar = Wrapper(tqdm, total=len(train_loader)*2, smoothing=0)\n",
    "plot_out = Output()\n",
    "log_out = Output()\n",
    "tabs = {\"status\": VBox([pbar, hud]), \n",
    "        \"plot\": HBox([plot_out], layout=Layout(height='500px', overflow_y='auto')),\n",
    "        \"log\": HBox([log_out], layout=Layout(height='500px', overflow_y='auto'))}\n",
    "tab_bar = Tab(children=list(tabs.values()))\n",
    "[tab_bar.set_title(i, name) for i, name in enumerate(tabs)]\n",
    "display(tab_bar)\n",
    "while True:\n",
    "    if epoch % config.log_interval == 0:\n",
    "        torch.save(generator.state_dict(), f\"{paths.checkpoints()}/gen_epoch_{epoch}.pt\")\n",
    "        torch.save(generator_optimizer.state_dict(), f\"{paths.checkpoints()}/gen_optim_epoch_{epoch}.pt\")\n",
    "        torch.save(discriminator.state_dict(), f\"{paths.checkpoints()}/dis_epoch_{epoch}.pt\")\n",
    "        torch.save(discriminator_optimizer.state_dict(), f\"{paths.checkpoints()}/dis_optim_epoch_{epoch}.pt\")\n",
    "        generator.eval()\n",
    "        with torch.no_grad():\n",
    "            val_stress, val_stress_spc = validate(model=generator, data_loader=val_loader)\n",
    "            val_xing, val_xing_spc = validate(model=generator, data_loader=val_loader, criterion=xing_criterion)\n",
    "            with plot_out:\n",
    "                fig = plt.figure()\n",
    "                graph_vis(G_list[11100], generator(make_batch(data_list[11100]).to(device)).cpu())\n",
    "                plt.show()\n",
    "        # tensorboard.add_scalars('loss', {'train': train_loss, \n",
    "        #                                  'validation': val_loss}, epoch)\n",
    "        # for i, fn in enumerate(loss_fns):\n",
    "        #     tensorboard.add_scalars(type(fn).__name__, {'train': train_loss_comp[i].item(), \n",
    "        #                                           'validation': val_loss_comp[i].item()}, epoch)\n",
    "        hud.append({\n",
    "            'val_stress': format(val_stress, '.2f'),\n",
    "            'val_stress_spc': format(val_stress_spc, '.2%'),\n",
    "            'val_xing': format(val_xing, '.2f'),\n",
    "            'val_xing_spc': format(val_xing_spc, '.2%'),\n",
    "        })\n",
    "        log(f\"stress={hud.data['val_stress']}({hud.data['val_stress_spc']}) xing={hud.data['val_xing']}({hud.data['val_xing_spc']})\")\n",
    "        \n",
    "    # handle.update(tab_bar)\n",
    "    pbar().reset()\n",
    "    pbar().set_description(desc=f\"[epoch {epoch}/{config.epoch.end}]\")\n",
    "    hud(title=f\"epoch {epoch}\")\n",
    "    generator.train()\n",
    "    discriminator.train()\n",
    "    # proper: proper layout\n",
    "    for _ in range(config.discriminator.repeat):\n",
    "        for batch in train_loader:\n",
    "            train_dis(batch, epoch)\n",
    "            if config.alternate == 'iteration':\n",
    "                train_gen(batch, epoch)\n",
    "\n",
    "    if config.alternate == 'epoch':\n",
    "        for batch in train_loader:\n",
    "            train_gen(batch, epoch)\n",
    "\n",
    "    discriminator_scheduler.step()\n",
    "    generator_scheduler.step()\n",
    "\n",
    "    if epoch == config.epoch.end:\n",
    "        break\n",
    "    epoch += 1"
   ]
  },
  {
   "cell_type": "markdown",
   "metadata": {
    "id": "0qYK_X_hrq9o"
   },
   "source": [
    "# Test"
   ]
  },
  {
   "cell_type": "code",
   "execution_count": 33,
   "metadata": {
    "colab": {
     "base_uri": "https://localhost:8080/"
    },
    "id": "XEvmAtNjWhcY",
    "outputId": "9f4c86a4-a4b0-48f1-cb58-ab3679173184"
   },
   "outputs": [
    {
     "name": "stdout",
     "output_type": "stream",
     "text": [
      "Loading from artifacts/checkpoints/GAN(gan=ragan,data=best(xing,stress),dis=deep,share=10,embed=6,gp=0)/gen_epoch_1022.pt...\n"
     ]
    },
    {
     "data": {
      "text/plain": [
       "<All keys matched successfully>"
      ]
     },
     "execution_count": 33,
     "metadata": {},
     "output_type": "execute_result"
    }
   ],
   "source": [
    "test_epoch = -1\n",
    "\n",
    "test_generator = Generator(**config.generator.params[...]).to(device)\n",
    "test_ckpt_epoch = get_ckpt_epoch(paths.checkpoints(), test_epoch)\n",
    "test_ckpt_file = f\"{paths.checkpoints()}/gen_epoch_{test_ckpt_epoch}.pt\"\n",
    "print(f\"Loading from {test_ckpt_file}...\")\n",
    "test_generator.load_state_dict(torch.load(test_ckpt_file, map_location=torch.device(device)))"
   ]
  },
  {
   "cell_type": "code",
   "execution_count": 34,
   "metadata": {
    "colab": {
     "background_save": true,
     "base_uri": "https://localhost:8080/",
     "height": 1000,
     "referenced_widgets": [
      "9b7d18992dbf4a84931f916fbaaa37d8",
      "2c664d7e1e6d474fb87094fc0da270d3",
      "d375f5f82a4645d7b29c541596dc1c7f",
      "ecfa311bb06b4f6fa504598263ff69d3",
      "d1859990877149eab2b414b4e2a0e0c7",
      "d2be6733734844bca3e1db9b49eb1c1e",
      "4d98072bdf674792a13d77e85dd285d1",
      "f7ed92c383d741a0a1cef2536ff2db13",
      "2ba110f835c64ec4b82974996aed10af",
      "09397ceac9014af0aebca848d4d96d48",
      "fd0709f48d6c4527bc00b5f407f3c1b9"
     ]
    },
    "id": "ZubmSTcYrq9o",
    "outputId": "fc2f65a2-2085-43ac-b110-cbfe742318a8",
    "scrolled": true,
    "tags": []
   },
   "outputs": [
    {
     "data": {
      "application/vnd.jupyter.widget-view+json": {
       "model_id": "bae6dc4fc1c34a1b917685e8938d320c",
       "version_major": 2,
       "version_minor": 0
      },
      "text/plain": [
       "  0%|          | 0/1000 [00:00<?, ?it/s]"
      ]
     },
     "metadata": {},
     "output_type": "display_data"
    }
   ],
   "source": [
    "rotate = RotateByPrincipalComponents()\n",
    "def test_callback(*, idx, pred, metrics):\n",
    "    # graph_vis(G_list[idx], pred, file_name=f\"{paths.visualization()}/{idx}_{metrics['stress']:.2f}_{metrics['resolution_score']:.2f}.png\")\n",
    "    pred = rotate(torch.tensor(pred), data_list[idx])\n",
    "    graph_vis(G_list[idx], pred)\n",
    "    plt.title(f\"[pred] idx: {idx}, stress: {metrics['stress']:.2f}({metrics['stress_spc']:.2%}), xing: {metrics['xing']:.2f}({metrics['xing_spc']:.2%})\")\n",
    "    plt.show()\n",
    "    gt_pos = rotate(data_list[idx].gt_pos, data_list[idx])\n",
    "    graph_vis(G_list[idx], gt_pos, node_color='orange')\n",
    "    plt.title(f\"[gt] idx: {idx}, stress: {metrics['gt_stress']:.2f}, xing: {metrics['gt_xing']:.2f}\")\n",
    "    plt.show()\n",
    "    \n",
    "test_metrics = test(model=test_generator, \n",
    "                    criteria_list=[], \n",
    "                    dataset=data_list, \n",
    "                    idx_range=range(10000, 11000), \n",
    "#                     callback=test_callback,\n",
    "                    gt_pos=None)\n",
    "pickle.dump(test_metrics, open(paths.metrics(\"test\"), \"wb\"))"
   ]
  },
  {
   "cell_type": "code",
   "execution_count": 35,
   "metadata": {
    "colab": {
     "base_uri": "https://localhost:8080/",
     "height": 318
    },
    "id": "t2rFXIr_PsrJ",
    "outputId": "6a4205b1-4630-4de4-ec72-bdba3d3ea114"
   },
   "outputs": [
    {
     "name": "stdout",
     "output_type": "stream",
     "text": [
      "stress: tensor(329.9434)\n",
      "stress_spc: tensor(0.1271, dtype=torch.float64)\n",
      "xing: tensor(30.9430)\n",
      "xing_spc: tensor(0.2463, dtype=torch.float64)\n",
      "l1_angle: tensor(82.6464)\n",
      "l1_angle_spc: tensor(0.0883, dtype=torch.float64)\n",
      "edge: tensor(0.2033)\n",
      "edge_spc: tensor(0.2152, dtype=torch.float64)\n",
      "ring: tensor(257.2561)\n",
      "ring_spc: tensor(0.0380, dtype=torch.float64)\n",
      "tsne: tensor(0.2149)\n",
      "tsne_spc: tensor(0.1334, dtype=torch.float64)\n",
      "reso_score: tensor(0.5824)\n",
      "min_angle: tensor(3.8946)\n"
     ]
    },
    {
     "data": {
      "text/html": [
       "<style type=\"text/css\">\n",
       "</style>\n",
       "<table id=\"T_6e2d1_\">\n",
       "  <thead>\n",
       "    <tr>\n",
       "      <th class=\"blank level0\" >&nbsp;</th>\n",
       "      <th class=\"col_heading level0 col0\" >stress</th>\n",
       "      <th class=\"col_heading level0 col1\" >stress_spc</th>\n",
       "      <th class=\"col_heading level0 col2\" >xing</th>\n",
       "      <th class=\"col_heading level0 col3\" >xing_spc</th>\n",
       "      <th class=\"col_heading level0 col4\" >l1_angle</th>\n",
       "      <th class=\"col_heading level0 col5\" >l1_angle_spc</th>\n",
       "      <th class=\"col_heading level0 col6\" >edge</th>\n",
       "      <th class=\"col_heading level0 col7\" >edge_spc</th>\n",
       "      <th class=\"col_heading level0 col8\" >ring</th>\n",
       "      <th class=\"col_heading level0 col9\" >ring_spc</th>\n",
       "      <th class=\"col_heading level0 col10\" >tsne</th>\n",
       "      <th class=\"col_heading level0 col11\" >tsne_spc</th>\n",
       "      <th class=\"col_heading level0 col12\" >reso_score</th>\n",
       "      <th class=\"col_heading level0 col13\" >min_angle</th>\n",
       "    </tr>\n",
       "  </thead>\n",
       "  <tbody>\n",
       "    <tr>\n",
       "      <th id=\"T_6e2d1_level0_row0\" class=\"row_heading level0 row0\" >0</th>\n",
       "      <td id=\"T_6e2d1_row0_col0\" class=\"data row0 col0\" >329.94</td>\n",
       "      <td id=\"T_6e2d1_row0_col1\" class=\"data row0 col1\" >12.71%</td>\n",
       "      <td id=\"T_6e2d1_row0_col2\" class=\"data row0 col2\" >30.94</td>\n",
       "      <td id=\"T_6e2d1_row0_col3\" class=\"data row0 col3\" >24.63%</td>\n",
       "      <td id=\"T_6e2d1_row0_col4\" class=\"data row0 col4\" >82.65</td>\n",
       "      <td id=\"T_6e2d1_row0_col5\" class=\"data row0 col5\" >8.83%</td>\n",
       "      <td id=\"T_6e2d1_row0_col6\" class=\"data row0 col6\" >0.20</td>\n",
       "      <td id=\"T_6e2d1_row0_col7\" class=\"data row0 col7\" >21.52%</td>\n",
       "      <td id=\"T_6e2d1_row0_col8\" class=\"data row0 col8\" >257.26</td>\n",
       "      <td id=\"T_6e2d1_row0_col9\" class=\"data row0 col9\" >3.80%</td>\n",
       "      <td id=\"T_6e2d1_row0_col10\" class=\"data row0 col10\" >0.21</td>\n",
       "      <td id=\"T_6e2d1_row0_col11\" class=\"data row0 col11\" >13.34%</td>\n",
       "      <td id=\"T_6e2d1_row0_col12\" class=\"data row0 col12\" >0.58</td>\n",
       "      <td id=\"T_6e2d1_row0_col13\" class=\"data row0 col13\" >3.89</td>\n",
       "    </tr>\n",
       "  </tbody>\n",
       "</table>\n"
      ],
      "text/plain": [
       "<pandas.io.formats.style.Styler at 0x2b70bf7df370>"
      ]
     },
     "execution_count": 35,
     "metadata": {},
     "output_type": "execute_result"
    }
   ],
   "source": [
    "metrics = test_metrics\n",
    "print('stress:', metrics['stress'].mean())\n",
    "print('stress_spc:', metrics['stress_spc'].mean())\n",
    "print('xing:', metrics['xing'].mean())\n",
    "print('xing_spc:', metrics['xing_spc'].mean())\n",
    "print('l1_angle:', metrics['l1_angle'].mean())\n",
    "print('l1_angle_spc:', metrics['l1_angle_spc'].mean())\n",
    "print('edge:', metrics['edge'].mean())\n",
    "print('edge_spc:', metrics['edge_spc'].mean())\n",
    "print('ring:', metrics['ring'].mean())\n",
    "print('ring_spc:', metrics['ring_spc'].mean())\n",
    "print('tsne:', metrics['tsne'].mean())\n",
    "print('tsne_spc:', metrics['tsne_spc'].mean())\n",
    "print('reso_score:', metrics['resolution_score'].mean())\n",
    "print('min_angle:', metrics['min_angle'].mean())\n",
    "columns = [\n",
    "    'stress',\n",
    "    'stress_spc',\n",
    "    'xing',\n",
    "    'xing_spc',\n",
    "    'l1_angle',\n",
    "    'l1_angle_spc',\n",
    "    'edge',\n",
    "    'edge_spc',\n",
    "    'ring',\n",
    "    'ring_spc',\n",
    "    'tsne',\n",
    "    'tsne_spc',\n",
    "    'reso_score',\n",
    "    'min_angle'\n",
    "]\n",
    "df = pd.DataFrame(map(lambda m: metrics[m].mean().item(), list(metrics.keys())[:-1])).set_axis(columns).T\n",
    "df.style.format({c: \"{:.2f}\" for c in columns if 'spc' not in c} | {c: \"{:.2%}\" for c in columns if 'spc' in c})"
   ]
  },
  {
   "cell_type": "code",
   "execution_count": 36,
   "metadata": {
    "id": "5e7vPr0M3mmG"
   },
   "outputs": [],
   "source": [
    "metrics = {}"
   ]
  },
  {
   "cell_type": "code",
   "execution_count": 37,
   "metadata": {},
   "outputs": [],
   "source": [
    "methods = ['fa2']"
   ]
  },
  {
   "cell_type": "code",
   "execution_count": 38,
   "metadata": {
    "colab": {
     "base_uri": "https://localhost:8080/",
     "height": 433,
     "referenced_widgets": [
      "a0cf6e046add4e639e52db69656e0db9",
      "8e237731bb1241ac858581b25389c012",
      "0891547293ad4211a138a4d92e01bb0b",
      "34912c8e581e47a99a1c4829c38cb75c",
      "5aa034c99c94424e835a2ee954b829ed",
      "248f6393eff74c3eb8740ca6d698045b",
      "686687a29c7f4ec98c4d76ca2062b14b",
      "996a84d1c23b47e4a2af252c6b60f55d",
      "3507f883bb954412b21c1c5641763ed7",
      "9582a849d91e457cadd514c95d6e1b5b",
      "52bfe674c2c547e09b7400a32a96f703",
      "93d58b3a12394fe1aa6f0431fc7cb0db",
      "af1d7855c9d646b0bcc7d95c4cb147a6",
      "f820e2b898cd461da04a4f651d27273d",
      "c0a112cfaa3d4d0aa9530372de84d8fb",
      "fd03985495694fbf9feb3f31ef8d18ce",
      "e02a2b36aa4c4d6fb5d2ac6693c1a927",
      "06f388ff5e3a48828d465096fe69977b",
      "c0052778c9c940e88935593e9f94b83b",
      "99a5e77a192d4a989c4534237eb16730",
      "77c6da092a6647fc9e54f7e276d75616",
      "8c13c0e8b5934117a662a78296bcb1b6",
      "cdcc3bd4235247b48c468c0f6b7682cc",
      "a2c6fa6fef4549cc853fa93b4b18cf95",
      "15cc02a756314083801b5f6798a1948c",
      "24d1c67fe52f452ab0c767e3c1a818aa",
      "c117db25c6fd484a9d0c7f210ccb1ade",
      "b090b60b61084cf692b3066dfac7f0a8",
      "5eab9848059c491b9c6cbac88683f025",
      "e87ffbaa1f204b52b9226337a506b040",
      "cf52198a9e4b46c7b49537a79919c09e",
      "51501227bc064ccbab97c22a679a0750",
      "d1b794a997dc457888a90bf44faee9b4",
      "21a755b50e5047bea797eccf24b35a0c",
      "16e78c3823ec4faf9f9cd9095b218ff5",
      "4ccd332c6b734acd8eff236eaf568dfa",
      "bd60fd13748347e48629df78fa455765",
      "e9187e4ba80b4fafa0334dae2e39aded",
      "4c39ec7c92b4402e8eedcb27beabaab1",
      "59a8194269f943bba571f710ad856973",
      "8e41bc25b9f348b1b85b381547cd60d1",
      "34d0f1529e64437fb25e639b41096072",
      "7e832c7543df43668eb72c0aa6356349",
      "f94162c9c5fe4c2581e3b80beaeb820b",
      "0284946fccf34607b25e1d6d81d4f72a",
      "8e8d4243a3624ba58d760bdf601d5126",
      "b1f0932594fe44f4be4beb8880172871",
      "820bb554d139437b8f6a6997f9002261",
      "459e375d1fe4497cb4197ef88e303c6d",
      "5726814966da46bbba942a114de4b319",
      "448beea5445f4642809801da46aa7e7c",
      "3746c0f0daf04f51805b4c95db20063a",
      "2ff74d1c705348438a32da37910c3300",
      "52f03147b5ab4cb390f9802b7a17a508",
      "5428511d652a47348203e8f3cd2e076d",
      "7b58569bee2e44c5a61a81f9a32c4c01",
      "c5e05d74b9404333a8155304e3497ba2",
      "3ad4e058bde44d87abab780368d49118",
      "8e437049b5c74ff1beddad93e30b19aa",
      "0c61377f4cc34b27ae34bdd6d976d868",
      "9ce35f9a9a23436ea77604513b5c4659",
      "dafbc43ad79c4feda093aefe490fc4b3",
      "497160b6bf80469a89680a03a468c8bb",
      "3265725ecb914981b6f07f68b8a582df",
      "1f0ac20d99d04ffb9ee75613526d3de6",
      "dee0e5716560483b8e2b107566439d94",
      "ca99841a1abd4fbd94927c49aaa711cb",
      "163a44ff1be04583ae7bd62726c55204",
      "f3b727045a0b4b4fabd147ec9c843e14",
      "7c4b4fe859cf48ab99b7e2780a24a539",
      "d9700cffab66480cb81e3722faab4e8b",
      "2c49acc1e0a64aa4b8ec461b0596848e",
      "691817157f43412f9c36002167606b75",
      "d0ae688d71734b56bb348de54e841798",
      "07a364ebcdaa491dbcc2304e4a8dae96",
      "538b277307b1449eaa79a2a91b4741d3",
      "f7b7dd4cbaa5468687b988c5e416a154",
      "877be862a4f045ec8b221097626becb5",
      "1bf37012df0844338ac689d4f6cc8eab",
      "33fe06641be544d3aab2c25cb979416f",
      "68de0d9261fa4e6999967b6f196d149c",
      "7017c5ba1ffc467495aca2689e516f7d",
      "e0997460cc21428695a0c278c6691baf",
      "522443bef4904996b6361ea265c4c56f",
      "dfe044b67917466f971ba84a11956d5e",
      "70b2d0ba1c1d4102841fb963480de1c7",
      "7b158daacd754a40bc0a48fc9ea6fea2",
      "8904f61ff30741e488eacf0e49440f66",
      "685dee6f1e1f4c2983d2d0b8eb90ed00",
      "005155a4d62d48cbbaf3d69614b08d81",
      "d2779dfa620041e4b32a7731926a5982",
      "53048bf27cb24080b4cdf20379302223",
      "0b5bff7794a14a20964da70b87158c2c",
      "ec664e55ea16435590393ae1617cccea",
      "f10d62ef464a45a7935610d869c282e3",
      "5e7c09bc35db4a3a8b9847c6d8478883",
      "987ea331b617446facc81b08bab1f8c4",
      "446c5a687b0d43358ab036d43ce281c3",
      "d89e216f62ae4a9999da1a91dd5e48b9",
      "09d03e7e66f54cafacefbfeda5fd6e5c",
      "d58c680562a44bbd9252e7ec6eebc06c",
      "71ea2594fdd942acac1cc61055438544",
      "fecda4df301b437f9fbfb61a7b593dc0",
      "bcf6741d926248cb92acf627d6557d2b",
      "5bd9868b9bda4f68b500a43916e2d148",
      "4bc5e02035de44ad827c4f881fd75afc",
      "7d80033a955e4feb947ca9cea931d90b",
      "e975c796d80d498992a50f87a2b0105c",
      "028b2ff105904a19a9a3e8ebf66967bb",
      "10dbf2cbdb1943eda6a0acaf5da3fe85",
      "14d59c7acc5e4e07a289db44406a4851",
      "d9447df93d714907bc9c768eb4910352",
      "d4a9ace081bf488680a7e43e0eaed71d",
      "022a60cde19546bfa6ecfb4947615ad9",
      "10c01207d9ba4fe197dc80717fceecc0",
      "f4995936570d4ba1a65e9a66e410b505",
      "b4bf66303e61491385cd616076a11c04",
      "a24ab2bfe7a44263bf60936d6e53ec32",
      "59e2e8ecc9f84d57af7bf44f5bba5df7",
      "be2eb92aab8045a99fd19195c3546b60",
      "e6715db2b048434796e910952cb5eb62",
      "8de2335007ba4a6b9935fa0c514c9f6a",
      "493a4bbe8057437a8c8acf4d03f8dcb0",
      "20b03955acc74e238695717124705520",
      "a89f9507496b4cf8bdd63bdb9bff79c4",
      "9752a1f6c8b6488d9628b8e0c023f10f",
      "61a0bebc687341a7bb3352febc8d4986",
      "07e0ff9c82a444788c60edee70688ca7",
      "4427901f35e54cc48e08527bb402c22a",
      "bd9dafb825954091ba975d71ab8c89ea",
      "7ec0f07bfe51484da38c18dc66d77804",
      "03943afebc4d4b668b54c7a0fd014a37",
      "a7a6b38a76424d738146b6a5786cf2c8",
      "1d1aa4729784470584c0001c1a296008",
      "e0c68ac9b5b442eeb77e6d9ea3c1da42",
      "c858ef9fd9324ab0ab885d85e3c8582f",
      "627bc2899c994a0c96c5d43e89dc77ff",
      "0e2c2f21fa8041038151170992ecb848",
      "2d9bcbf7629a4671bf8755e790276eb7",
      "77a4edf6ab1848a6a6df20c1c07358c6",
      "acf2212d6bb44c729b63281a98377095",
      "0c7a72818da3454190bab7f30a29e249",
      "d865af915b8b4aaa8cec8d40f1f8351d"
     ]
    },
    "id": "s1UnzfID4Ai6",
    "outputId": "3e204e76-68fd-4111-f527-91f6e3b7a3ca"
   },
   "outputs": [
    {
     "data": {
      "application/vnd.jupyter.widget-view+json": {
       "model_id": "8648a26b18ac43c78e546ae58c4b3757",
       "version_major": 2,
       "version_minor": 0
      },
      "text/plain": [
       "  0%|          | 0/1000 [00:00<?, ?it/s]"
      ]
     },
     "metadata": {},
     "output_type": "display_data"
    }
   ],
   "source": [
    "for m in methods:\n",
    "    metrics[m] = test(model=test_generator, \n",
    "                      criteria_list=[], \n",
    "                      dataset=data_list, \n",
    "                      idx_range=range(10000, 11000), \n",
    "                      callback=None,\n",
    "                      gt_pos=load_pos(m))"
   ]
  },
  {
   "cell_type": "code",
   "execution_count": 39,
   "metadata": {
    "id": "dQ7hdCtk5u6K"
   },
   "outputs": [],
   "source": [
    "mean_metrics = {key : list(map(lambda m: metrics[key][m].mean().item(), list(metrics[key].keys())[:-1])) for key in metrics}"
   ]
  },
  {
   "cell_type": "code",
   "execution_count": 40,
   "metadata": {
    "colab": {
     "base_uri": "https://localhost:8080/",
     "height": 313
    },
    "id": "OGyaCmLXTuvA",
    "outputId": "6c42d9f3-9869-4504-bc9c-d0eedaecfd90"
   },
   "outputs": [
    {
     "data": {
      "text/html": [
       "<style type=\"text/css\">\n",
       "</style>\n",
       "<table id=\"T_79d02_\">\n",
       "  <thead>\n",
       "    <tr>\n",
       "      <th class=\"blank level0\" >&nbsp;</th>\n",
       "      <th class=\"col_heading level0 col0\" >stress</th>\n",
       "      <th class=\"col_heading level0 col1\" >stress_spc</th>\n",
       "      <th class=\"col_heading level0 col2\" >xing</th>\n",
       "      <th class=\"col_heading level0 col3\" >xing_spc</th>\n",
       "      <th class=\"col_heading level0 col4\" >l1_angle</th>\n",
       "      <th class=\"col_heading level0 col5\" >l1_angle_spc</th>\n",
       "      <th class=\"col_heading level0 col6\" >edge</th>\n",
       "      <th class=\"col_heading level0 col7\" >edge_spc</th>\n",
       "      <th class=\"col_heading level0 col8\" >ring</th>\n",
       "      <th class=\"col_heading level0 col9\" >ring_spc</th>\n",
       "      <th class=\"col_heading level0 col10\" >tsne</th>\n",
       "      <th class=\"col_heading level0 col11\" >tsne_spc</th>\n",
       "      <th class=\"col_heading level0 col12\" >reso_score</th>\n",
       "      <th class=\"col_heading level0 col13\" >min_angle</th>\n",
       "    </tr>\n",
       "  </thead>\n",
       "  <tbody>\n",
       "    <tr>\n",
       "      <th id=\"T_79d02_level0_row0\" class=\"row_heading level0 row0\" >fa2</th>\n",
       "      <td id=\"T_79d02_row0_col0\" class=\"data row0 col0\" >329.92</td>\n",
       "      <td id=\"T_79d02_row0_col1\" class=\"data row0 col1\" >0.57%</td>\n",
       "      <td id=\"T_79d02_row0_col2\" class=\"data row0 col2\" >30.96</td>\n",
       "      <td id=\"T_79d02_row0_col3\" class=\"data row0 col3\" >13.67%</td>\n",
       "      <td id=\"T_79d02_row0_col4\" class=\"data row0 col4\" >82.65</td>\n",
       "      <td id=\"T_79d02_row0_col5\" class=\"data row0 col5\" >11.81%</td>\n",
       "      <td id=\"T_79d02_row0_col6\" class=\"data row0 col6\" >0.20</td>\n",
       "      <td id=\"T_79d02_row0_col7\" class=\"data row0 col7\" >-1.55%</td>\n",
       "      <td id=\"T_79d02_row0_col8\" class=\"data row0 col8\" >257.25</td>\n",
       "      <td id=\"T_79d02_row0_col9\" class=\"data row0 col9\" >2.30%</td>\n",
       "      <td id=\"T_79d02_row0_col10\" class=\"data row0 col10\" >0.21</td>\n",
       "      <td id=\"T_79d02_row0_col11\" class=\"data row0 col11\" >10.76%</td>\n",
       "      <td id=\"T_79d02_row0_col12\" class=\"data row0 col12\" >0.58</td>\n",
       "      <td id=\"T_79d02_row0_col13\" class=\"data row0 col13\" >3.83</td>\n",
       "    </tr>\n",
       "  </tbody>\n",
       "</table>\n"
      ],
      "text/plain": [
       "<pandas.io.formats.style.Styler at 0x2b70bfa0aa00>"
      ]
     },
     "execution_count": 40,
     "metadata": {},
     "output_type": "execute_result"
    }
   ],
   "source": [
    "columns = [\n",
    "    'stress',\n",
    "    'stress_spc',\n",
    "    'xing',\n",
    "    'xing_spc',\n",
    "    'l1_angle',\n",
    "    'l1_angle_spc',\n",
    "    'edge',\n",
    "    'edge_spc',\n",
    "    'ring',\n",
    "    'ring_spc',\n",
    "    'tsne',\n",
    "    'tsne_spc',\n",
    "    'reso_score',\n",
    "    'min_angle'\n",
    "]\n",
    "df = pd.DataFrame(mean_metrics).set_axis(columns).T\n",
    "df.style.format({c: \"{:.2f}\" for c in columns if 'spc' not in c} | {c: \"{:.2%}\" for c in columns if 'spc' in c})"
   ]
  },
  {
   "cell_type": "markdown",
   "metadata": {
    "id": "L5S1HWnHOWIl"
   },
   "source": [
    "# Large Graph"
   ]
  },
  {
   "cell_type": "code",
   "execution_count": null,
   "metadata": {
    "id": "_pefPcV1OZdD"
   },
   "outputs": [],
   "source": [
    "scalability = pd.read_csv(f\"/__artifacts__/data/scalability.csv\", index_col=\"index\")\n",
    "scalability"
   ]
  },
  {
   "cell_type": "code",
   "execution_count": null,
   "metadata": {
    "id": "oMhWAsdvPnTX"
   },
   "outputs": [],
   "source": [
    "rescale = CanonicalizationByStress()\n",
    "stressfn = Stress()\n",
    "rotate = RotateByPrincipalComponents()"
   ]
  },
  {
   "cell_type": "code",
   "execution_count": null,
   "metadata": {
    "id": "LR83OcAaPID5"
   },
   "outputs": [],
   "source": [
    "stress_list = []\n",
    "spc_list = []\n",
    "pmds_list = np.load(\"layouts/new_large_graph/pmds.npy\", allow_pickle=True)\n",
    "gviz_list = np.load(\"layouts/new_large_graph/gviz.npy\", allow_pickle=True)\n",
    "with torch.no_grad():\n",
    "    for idx, col in tqdm(scalability.iterrows(), total=len(scalability)):\n",
    "        # if idx not in [406, 516]: continue\n",
    "        torch.cuda.empty_cache()\n",
    "        G = load_mtx(col['file'])\n",
    "        G.remove_edges_from(nx.selfloop_edges(G))\n",
    "        data = generate_data_list(G, \n",
    "                                sparse=data_config.sparse, \n",
    "                                pivot_mode=data_config.pivot,\n",
    "                                init_mode=data_config.init,\n",
    "                                edge_index=data_config.edge.index,\n",
    "                                edge_attr=data_config.edge.attr,\n",
    "                                pmds_list=pmds_list[idx],\n",
    "                                gviz_list=gviz_list[idx],\n",
    "                                device=device)\n",
    "        batch = Batch.from_data_list([data]).to(device)\n",
    "        # generator.train()\n",
    "        # generator(batch)\n",
    "        generator.eval()\n",
    "        pred = generator(batch)\n",
    "        pos = rotate(rescale(pred, batch), batch)\n",
    "        gt = rotate(rescale(batch.gt_pos, batch), batch)\n",
    "        stress = stressfn(pos, batch).item()\n",
    "        gt_stress = stressfn(gt, batch).item()\n",
    "        spc = (stress - gt_stress) / np.maximum(stress, gt_stress)\n",
    "        stress_list.append(stress)\n",
    "        spc_list.append(spc)\n",
    "\n",
    "        np.save(f\"/__artifacts__/gan_result/data/scalability_{idx}.npy\", pos.cpu().numpy())\n",
    "        graph_attr = dict(node_size=1, \n",
    "                        with_labels=False, \n",
    "                        labels=dict(zip(list(G.nodes), map(lambda n: n if type(n) is int else n[1:], list(G.nodes)))),\n",
    "                        font_color=\"white\", \n",
    "                        font_weight=\"bold\",\n",
    "                        font_size=12,\n",
    "                        width=0.1)\n",
    "\n",
    "        # gt_pos = pickle.load(open(f\"/__artifacts__/data/scalability_{idx}_gt.pkl\", \"rb\"))\n",
    "\n",
    "        plt.figure(figsize=[12, 9])\n",
    "        nx.draw(G, pos=gt.cpu().numpy(), node_color='orange', **graph_attr)\n",
    "        plt.title(f\"neato: large_{idx}\")\n",
    "        plt.axis(\"equal\")\n",
    "        plt.savefig(f\"/__artifacts__/gan_result/output/{idx}_{col['name']}_{col['n']}_{spc}_nx.png\", dpi=300)\n",
    "        plt.show()\n",
    "\n",
    "        plt.figure(figsize=[12, 9])\n",
    "        graph_vis(G, pos.cpu().numpy(), **graph_attr)\n",
    "        plt.title(f\"dgd: large_{idx}, spc={spc:.2%}\")\n",
    "        plt.axis(\"equal\")\n",
    "        plt.savefig(f\"/__artifacts__/gan_result/output/{idx}_{col['name']}_{col['n']}_{spc}_dgd.png\", dpi=300)\n",
    "        plt.show()"
   ]
  },
  {
   "cell_type": "code",
   "execution_count": null,
   "metadata": {
    "id": "gRXTewkYeuq1"
   },
   "outputs": [],
   "source": []
  }
 ],
 "metadata": {
  "accelerator": "GPU",
  "colab": {
   "collapsed_sections": [
    "w_p3OD0woiSM",
    "DR6-vYtr_i_P",
    "innqkwvH_ydD",
    "f-ODE2k8BFV6",
    "N39dDHraedM6"
   ],
   "machine_shape": "hm",
   "name": "GAN(gan=rgan,data=best(xing,stress),dis=deep,share=16,embed=0,gp=0).ipynb",
   "provenance": []
  },
  "kernelspec": {
   "display_name": "DeepGD",
   "language": "python",
   "name": "deepgd"
  },
  "language_info": {
   "codemirror_mode": {
    "name": "ipython",
    "version": 3
   },
   "file_extension": ".py",
   "mimetype": "text/x-python",
   "name": "python",
   "nbconvert_exporter": "python",
   "pygments_lexer": "ipython3",
   "version": "3.9.7"
  },
  "widgets": {
   "application/vnd.jupyter.widget-state+json": {
    "state": {
     "167c5e94cd6d46179ff11ec2e4f99627": {
      "model_module": "@jupyter-widgets/controls",
      "model_module_version": "1.5.0",
      "model_name": "HTMLModel",
      "state": {
       "layout": "IPY_MODEL_a6956e1c9c4740c5acbec3d53c0672f8",
       "style": "IPY_MODEL_4af79d76e73247ada86f575f347918b0",
       "value": "[epoch 1022/None]:  70%"
      }
     },
     "1ac66136678d4307a8ad979f23e59be5": {
      "model_module": "@jupyter-widgets/controls",
      "model_module_version": "1.5.0",
      "model_name": "DescriptionStyleModel",
      "state": {
       "description_width": ""
      }
     },
     "1fbe83ef1fdd41a196244672e236b8fb": {
      "model_module": "@jupyter-widgets/base",
      "model_module_version": "1.2.0",
      "model_name": "LayoutModel",
      "state": {}
     },
     "27c0e824b9e84cd2b24fd10bbedaa8c2": {
      "model_module": "@jupyter-widgets/controls",
      "model_module_version": "1.5.0",
      "model_name": "DescriptionStyleModel",
      "state": {
       "description_width": ""
      }
     },
     "287bc444b96c46e9aa8bfb5828addc1f": {
      "model_module": "@jupyter-widgets/base",
      "model_module_version": "1.2.0",
      "model_name": "LayoutModel",
      "state": {}
     },
     "2be8d2c8b0464e3a90058383b687187f": {
      "model_module": "@jupyter-widgets/base",
      "model_module_version": "1.2.0",
      "model_name": "LayoutModel",
      "state": {}
     },
     "2cc6214626a44192a13ab1b859eb3ea3": {
      "model_module": "@jupyter-widgets/controls",
      "model_module_version": "1.5.0",
      "model_name": "HTMLModel",
      "state": {
       "layout": "IPY_MODEL_3fe34ce117a040d1b5aad8bc7f00e04d",
       "style": "IPY_MODEL_eaf99022548c4c9caec2f01d1402aa91",
       "value": "100%"
      }
     },
     "2e063091264b483dbc268b934426bc5c": {
      "model_module": "@jupyter-widgets/base",
      "model_module_version": "1.2.0",
      "model_name": "LayoutModel",
      "state": {}
     },
     "2e6accbc27a14fe196d06729368c658c": {
      "model_module": "@jupyter-widgets/base",
      "model_module_version": "1.2.0",
      "model_name": "LayoutModel",
      "state": {}
     },
     "2f059206301e4fd39ba92d9316c65979": {
      "model_module": "@jupyter-widgets/base",
      "model_module_version": "1.2.0",
      "model_name": "LayoutModel",
      "state": {}
     },
     "310f74a7d2be4ee7a4e79f2d327fdbee": {
      "model_module": "@jupyter-widgets/base",
      "model_module_version": "1.2.0",
      "model_name": "LayoutModel",
      "state": {}
     },
     "37ffbb6688324e4fa6a33f3ed7fbab1b": {
      "model_module": "@jupyter-widgets/base",
      "model_module_version": "1.2.0",
      "model_name": "LayoutModel",
      "state": {}
     },
     "3825ced4778c4469b320517a79aaf1dc": {
      "model_module": "@jupyter-widgets/base",
      "model_module_version": "1.2.0",
      "model_name": "LayoutModel",
      "state": {}
     },
     "3958c524865948fcbd313598bf9300e3": {
      "model_module": "@jupyter-widgets/controls",
      "model_module_version": "1.5.0",
      "model_name": "FloatProgressModel",
      "state": {
       "bar_style": "success",
       "layout": "IPY_MODEL_2f059206301e4fd39ba92d9316c65979",
       "max": 11531,
       "style": "IPY_MODEL_fcf7205610284143a99bf62255364892",
       "value": 11531
      }
     },
     "39e3120c84ab4061b9ab7fdeb092baf8": {
      "model_module": "@jupyter-widgets/controls",
      "model_module_version": "1.5.0",
      "model_name": "HTMLModel",
      "state": {
       "layout": "IPY_MODEL_fa77a72f960a4ffbaeec5d88d9e40081",
       "style": "IPY_MODEL_27c0e824b9e84cd2b24fd10bbedaa8c2",
       "value": " 580/834 [01:50&lt;00:48,  5.27it/s]"
      }
     },
     "3afc72edd4e647d0b8eb9b49785ccca9": {
      "model_module": "@jupyter-widgets/controls",
      "model_module_version": "1.5.0",
      "model_name": "HBoxModel",
      "state": {
       "children": [
        "IPY_MODEL_4148909cc36949eea336101a089c37f7"
       ],
       "layout": "IPY_MODEL_57553873ed7e474d8bf535b7eca150f0"
      }
     },
     "3be18fba71a24ea283c781aff8e97153": {
      "model_module": "@jupyter-widgets/controls",
      "model_module_version": "1.5.0",
      "model_name": "FloatProgressModel",
      "state": {
       "layout": "IPY_MODEL_88b06eb785dc444c96681230b34b8a8a",
       "max": 834,
       "style": "IPY_MODEL_ffc263c530e84f5d9e63b4daf82e7532",
       "value": 580
      }
     },
     "3da31aa24bb44f53824f01ea78504595": {
      "model_module": "@jupyter-widgets/base",
      "model_module_version": "1.2.0",
      "model_name": "LayoutModel",
      "state": {}
     },
     "3fe34ce117a040d1b5aad8bc7f00e04d": {
      "model_module": "@jupyter-widgets/base",
      "model_module_version": "1.2.0",
      "model_name": "LayoutModel",
      "state": {}
     },
     "4148909cc36949eea336101a089c37f7": {
      "model_module": "@jupyter-widgets/output",
      "model_module_version": "1.0.0",
      "model_name": "OutputModel",
      "state": {
       "layout": "IPY_MODEL_3825ced4778c4469b320517a79aaf1dc",
       "outputs": [
        {
         "name": "stdout",
         "output_type": "stream",
         "text": "[1022] stress=361.98(12.33%) xing=34.94(22.69%)\n"
        }
       ]
      }
     },
     "4af79d76e73247ada86f575f347918b0": {
      "model_module": "@jupyter-widgets/controls",
      "model_module_version": "1.5.0",
      "model_name": "DescriptionStyleModel",
      "state": {
       "description_width": ""
      }
     },
     "57553873ed7e474d8bf535b7eca150f0": {
      "model_module": "@jupyter-widgets/base",
      "model_module_version": "1.2.0",
      "model_name": "LayoutModel",
      "state": {
       "height": "500px",
       "overflow_y": "auto"
      }
     },
     "599602b499a5450faf66665ce154c442": {
      "model_module": "@jupyter-widgets/controls",
      "model_module_version": "1.5.0",
      "model_name": "ProgressStyleModel",
      "state": {
       "description_width": ""
      }
     },
     "5a96bd7f4be141d08ccb38b6f80be9bf": {
      "model_module": "@jupyter-widgets/controls",
      "model_module_version": "1.5.0",
      "model_name": "FloatProgressModel",
      "state": {
       "bar_style": "success",
       "layout": "IPY_MODEL_37ffbb6688324e4fa6a33f3ed7fbab1b",
       "max": 1000,
       "style": "IPY_MODEL_b950f4edd9ea4728b527ef77e4942e78",
       "value": 1000
      }
     },
     "6091014a6d9c4b268afe2aa017517368": {
      "model_module": "@jupyter-widgets/base",
      "model_module_version": "1.2.0",
      "model_name": "LayoutModel",
      "state": {}
     },
     "60965a51520c49e5941f26b169fdccd1": {
      "model_module": "@jupyter-widgets/base",
      "model_module_version": "1.2.0",
      "model_name": "LayoutModel",
      "state": {}
     },
     "61ce89603cd74dcf940f802222fbdf28": {
      "model_module": "@jupyter-widgets/base",
      "model_module_version": "1.2.0",
      "model_name": "LayoutModel",
      "state": {}
     },
     "632072e2d6c44699af6cbbbfb99c2efa": {
      "model_module": "@jupyter-widgets/output",
      "model_module_version": "1.0.0",
      "model_name": "OutputModel",
      "state": {
       "layout": "IPY_MODEL_f934a8c02d744405b0565f85cbb5cb57",
       "outputs": [
        {
         "data": {
          "application/vnd.jupyter.widget-view+json": {
           "model_id": "638e99bcb64346678d41d7f97afb951f",
           "version_major": 2,
           "version_minor": 0
          },
          "text/plain": "  0%|          | 0/834 [00:00<?, ?it/s]"
         },
         "metadata": {},
         "output_type": "display_data"
        }
       ]
      }
     },
     "638e99bcb64346678d41d7f97afb951f": {
      "model_module": "@jupyter-widgets/controls",
      "model_module_version": "1.5.0",
      "model_name": "HBoxModel",
      "state": {
       "children": [
        "IPY_MODEL_167c5e94cd6d46179ff11ec2e4f99627",
        "IPY_MODEL_3be18fba71a24ea283c781aff8e97153",
        "IPY_MODEL_39e3120c84ab4061b9ab7fdeb092baf8"
       ],
       "layout": "IPY_MODEL_7b8bd9043cd9441c8c9b992f56c21957"
      }
     },
     "693575f5fe744f1ab73a453f82b72e89": {
      "model_module": "@jupyter-widgets/controls",
      "model_module_version": "1.5.0",
      "model_name": "HBoxModel",
      "state": {
       "children": [
        "IPY_MODEL_79533ebb3848480b90a5311eabb90844"
       ],
       "layout": "IPY_MODEL_db269bb7d16b4d84ade526d3c6a06d23"
      }
     },
     "71cb99a894bf41438929ff4eb36a336b": {
      "model_module": "@jupyter-widgets/controls",
      "model_module_version": "1.5.0",
      "model_name": "VBoxModel",
      "state": {
       "children": [
        "IPY_MODEL_632072e2d6c44699af6cbbbfb99c2efa",
        "IPY_MODEL_8b3c3a9cc23c44ecade0739987164a41"
       ],
       "layout": "IPY_MODEL_2e063091264b483dbc268b934426bc5c"
      }
     },
     "726a549cd8fb4398811f59b79ffc8cd2": {
      "model_module": "@jupyter-widgets/controls",
      "model_module_version": "1.5.0",
      "model_name": "DescriptionStyleModel",
      "state": {
       "description_width": ""
      }
     },
     "79533ebb3848480b90a5311eabb90844": {
      "model_module": "@jupyter-widgets/output",
      "model_module_version": "1.0.0",
      "model_name": "OutputModel",
      "state": {
       "layout": "IPY_MODEL_2be8d2c8b0464e3a90058383b687187f",
       "outputs": [
        {
         "data": {
          "image/png": "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\n",
          "text/plain": "<Figure size 432x288 with 1 Axes>"
         },
         "metadata": {},
         "output_type": "display_data"
        }
       ]
      }
     },
     "7b8bd9043cd9441c8c9b992f56c21957": {
      "model_module": "@jupyter-widgets/base",
      "model_module_version": "1.2.0",
      "model_name": "LayoutModel",
      "state": {}
     },
     "7cbec1845eae459090077570acea6a53": {
      "model_module": "@jupyter-widgets/base",
      "model_module_version": "1.2.0",
      "model_name": "LayoutModel",
      "state": {}
     },
     "8648a26b18ac43c78e546ae58c4b3757": {
      "model_module": "@jupyter-widgets/controls",
      "model_module_version": "1.5.0",
      "model_name": "HBoxModel",
      "state": {
       "children": [
        "IPY_MODEL_2cc6214626a44192a13ab1b859eb3ea3",
        "IPY_MODEL_5a96bd7f4be141d08ccb38b6f80be9bf",
        "IPY_MODEL_f2fc665826994431af97c4b2b67ea9ec"
       ],
       "layout": "IPY_MODEL_a05267bf47b24de29d8f748ef760bbad"
      }
     },
     "88b06eb785dc444c96681230b34b8a8a": {
      "model_module": "@jupyter-widgets/base",
      "model_module_version": "1.2.0",
      "model_name": "LayoutModel",
      "state": {}
     },
     "8b2d386fe5674c4fb3a431200844c3b0": {
      "model_module": "@jupyter-widgets/controls",
      "model_module_version": "1.5.0",
      "model_name": "HTMLModel",
      "state": {
       "layout": "IPY_MODEL_61ce89603cd74dcf940f802222fbdf28",
       "style": "IPY_MODEL_b934427027b445419114643ea5766b8b",
       "value": " 1000/1000 [00:53&lt;00:00, 21.01it/s]"
      }
     },
     "8b3c3a9cc23c44ecade0739987164a41": {
      "model_module": "@jupyter-widgets/output",
      "model_module_version": "1.0.0",
      "model_name": "OutputModel",
      "state": {
       "layout": "IPY_MODEL_7cbec1845eae459090077570acea6a53",
       "outputs": [
        {
         "data": {
          "text/html": "<div>\n<style scoped>\n    .dataframe tbody tr th:only-of-type {\n        vertical-align: middle;\n    }\n\n    .dataframe tbody tr th {\n        vertical-align: top;\n    }\n\n    .dataframe thead th {\n        text-align: right;\n    }\n</style>\n<table border=\"1\" class=\"dataframe\">\n  <thead>\n    <tr style=\"text-align: right;\">\n      <th></th>\n      <th>val_stress</th>\n      <th>val_stress_spc</th>\n      <th>val_xing</th>\n      <th>val_xing_spc</th>\n      <th>dis_loss</th>\n      <th>gen_loss</th>\n      <th>stress</th>\n      <th>critic</th>\n    </tr>\n  </thead>\n  <tbody>\n    <tr>\n      <th>epoch 1022</th>\n      <td>361.98</td>\n      <td>12.33%</td>\n      <td>34.94</td>\n      <td>22.69%</td>\n      <td>1.22e-03</td>\n      <td>6.53e+01</td>\n      <td>-2.60e+02</td>\n      <td>-6.61e+00</td>\n    </tr>\n  </tbody>\n</table>\n</div>",
          "text/plain": "           val_stress val_stress_spc val_xing val_xing_spc  dis_loss  \\\nepoch 1022     361.98         12.33%    34.94       22.69%  1.22e-03   \n\n            gen_loss     stress     critic  \nepoch 1022  6.53e+01  -2.60e+02  -6.61e+00  "
         },
         "metadata": {},
         "output_type": "display_data"
        }
       ]
      }
     },
     "91e4ac38eb1a4a81bc92cd8cad3a5c5d": {
      "model_module": "@jupyter-widgets/controls",
      "model_module_version": "1.5.0",
      "model_name": "FloatProgressModel",
      "state": {
       "bar_style": "success",
       "layout": "IPY_MODEL_1fbe83ef1fdd41a196244672e236b8fb",
       "max": 1000,
       "style": "IPY_MODEL_599602b499a5450faf66665ce154c442",
       "value": 1000
      }
     },
     "9341e2db40d7460c899eeb7409008e0b": {
      "model_module": "@jupyter-widgets/controls",
      "model_module_version": "1.5.0",
      "model_name": "TabModel",
      "state": {
       "_titles": {
        "0": "status",
        "1": "plot",
        "2": "log"
       },
       "children": [
        "IPY_MODEL_71cb99a894bf41438929ff4eb36a336b",
        "IPY_MODEL_693575f5fe744f1ab73a453f82b72e89",
        "IPY_MODEL_3afc72edd4e647d0b8eb9b49785ccca9"
       ],
       "layout": "IPY_MODEL_287bc444b96c46e9aa8bfb5828addc1f"
      }
     },
     "936e39d5468b462ab930cd64e12c02b8": {
      "model_module": "@jupyter-widgets/controls",
      "model_module_version": "1.5.0",
      "model_name": "DescriptionStyleModel",
      "state": {
       "description_width": ""
      }
     },
     "a05267bf47b24de29d8f748ef760bbad": {
      "model_module": "@jupyter-widgets/base",
      "model_module_version": "1.2.0",
      "model_name": "LayoutModel",
      "state": {}
     },
     "a419c36db6d14d9da0103c3db3f08fc0": {
      "model_module": "@jupyter-widgets/controls",
      "model_module_version": "1.5.0",
      "model_name": "HTMLModel",
      "state": {
       "layout": "IPY_MODEL_2e6accbc27a14fe196d06729368c658c",
       "style": "IPY_MODEL_a80819bee7684f48b76e11d31f1d057d",
       "value": "100%"
      }
     },
     "a6956e1c9c4740c5acbec3d53c0672f8": {
      "model_module": "@jupyter-widgets/base",
      "model_module_version": "1.2.0",
      "model_name": "LayoutModel",
      "state": {}
     },
     "a775588f15994b97bd537b8226136700": {
      "model_module": "@jupyter-widgets/controls",
      "model_module_version": "1.5.0",
      "model_name": "HTMLModel",
      "state": {
       "layout": "IPY_MODEL_310f74a7d2be4ee7a4e79f2d327fdbee",
       "style": "IPY_MODEL_726a549cd8fb4398811f59b79ffc8cd2",
       "value": "100%"
      }
     },
     "a80819bee7684f48b76e11d31f1d057d": {
      "model_module": "@jupyter-widgets/controls",
      "model_module_version": "1.5.0",
      "model_name": "DescriptionStyleModel",
      "state": {
       "description_width": ""
      }
     },
     "b934427027b445419114643ea5766b8b": {
      "model_module": "@jupyter-widgets/controls",
      "model_module_version": "1.5.0",
      "model_name": "DescriptionStyleModel",
      "state": {
       "description_width": ""
      }
     },
     "b950f4edd9ea4728b527ef77e4942e78": {
      "model_module": "@jupyter-widgets/controls",
      "model_module_version": "1.5.0",
      "model_name": "ProgressStyleModel",
      "state": {
       "description_width": ""
      }
     },
     "bae6dc4fc1c34a1b917685e8938d320c": {
      "model_module": "@jupyter-widgets/controls",
      "model_module_version": "1.5.0",
      "model_name": "HBoxModel",
      "state": {
       "children": [
        "IPY_MODEL_a775588f15994b97bd537b8226136700",
        "IPY_MODEL_91e4ac38eb1a4a81bc92cd8cad3a5c5d",
        "IPY_MODEL_8b2d386fe5674c4fb3a431200844c3b0"
       ],
       "layout": "IPY_MODEL_6091014a6d9c4b268afe2aa017517368"
      }
     },
     "db269bb7d16b4d84ade526d3c6a06d23": {
      "model_module": "@jupyter-widgets/base",
      "model_module_version": "1.2.0",
      "model_name": "LayoutModel",
      "state": {
       "height": "500px",
       "overflow_y": "auto"
      }
     },
     "dbcabd77f6fa477e83ef093047d40b33": {
      "model_module": "@jupyter-widgets/controls",
      "model_module_version": "1.5.0",
      "model_name": "HTMLModel",
      "state": {
       "layout": "IPY_MODEL_3da31aa24bb44f53824f01ea78504595",
       "style": "IPY_MODEL_1ac66136678d4307a8ad979f23e59be5",
       "value": " 11531/11531 [00:00&lt;00:00, 81810.13it/s]"
      }
     },
     "e7e88aa31ff54a76887b2ce3226b87b9": {
      "model_module": "@jupyter-widgets/controls",
      "model_module_version": "1.5.0",
      "model_name": "HBoxModel",
      "state": {
       "children": [
        "IPY_MODEL_a419c36db6d14d9da0103c3db3f08fc0",
        "IPY_MODEL_3958c524865948fcbd313598bf9300e3",
        "IPY_MODEL_dbcabd77f6fa477e83ef093047d40b33"
       ],
       "layout": "IPY_MODEL_f66c3139e532472484d0025bff61f393"
      }
     },
     "eaf99022548c4c9caec2f01d1402aa91": {
      "model_module": "@jupyter-widgets/controls",
      "model_module_version": "1.5.0",
      "model_name": "DescriptionStyleModel",
      "state": {
       "description_width": ""
      }
     },
     "f2fc665826994431af97c4b2b67ea9ec": {
      "model_module": "@jupyter-widgets/controls",
      "model_module_version": "1.5.0",
      "model_name": "HTMLModel",
      "state": {
       "layout": "IPY_MODEL_60965a51520c49e5941f26b169fdccd1",
       "style": "IPY_MODEL_936e39d5468b462ab930cd64e12c02b8",
       "value": " 1000/1000 [00:52&lt;00:00, 17.34it/s]"
      }
     },
     "f66c3139e532472484d0025bff61f393": {
      "model_module": "@jupyter-widgets/base",
      "model_module_version": "1.2.0",
      "model_name": "LayoutModel",
      "state": {}
     },
     "f934a8c02d744405b0565f85cbb5cb57": {
      "model_module": "@jupyter-widgets/base",
      "model_module_version": "1.2.0",
      "model_name": "LayoutModel",
      "state": {}
     },
     "fa77a72f960a4ffbaeec5d88d9e40081": {
      "model_module": "@jupyter-widgets/base",
      "model_module_version": "1.2.0",
      "model_name": "LayoutModel",
      "state": {}
     },
     "fcf7205610284143a99bf62255364892": {
      "model_module": "@jupyter-widgets/controls",
      "model_module_version": "1.5.0",
      "model_name": "ProgressStyleModel",
      "state": {
       "description_width": ""
      }
     },
     "ffc263c530e84f5d9e63b4daf82e7532": {
      "model_module": "@jupyter-widgets/controls",
      "model_module_version": "1.5.0",
      "model_name": "ProgressStyleModel",
      "state": {
       "description_width": ""
      }
     }
    },
    "version_major": 2,
    "version_minor": 0
   }
  }
 },
 "nbformat": 4,
 "nbformat_minor": 4
}
