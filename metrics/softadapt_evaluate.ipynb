{
 "cells": [
  {
   "cell_type": "code",
   "execution_count": 6,
   "metadata": {},
   "outputs": [],
   "source": [
    "import numpy as np\n",
    "import pickle\n",
    "import torch"
   ]
  },
  {
   "cell_type": "code",
   "execution_count": 3,
   "metadata": {},
   "outputs": [],
   "source": [
    "metrics_ratio = pickle.load(open(\"ratio_0.1_test.pickle\", \"rb\"))\n",
    "metrics_ratio_sa = pickle.load(open(\"l[stress:.6,ratio:.4]_sa[p:.7]_test.pickle\", \"rb\"))\n",
    "metrics_l1 = pickle.load(open(\"l[stress:1,l1:.005]_fix-w_test.pickle\", \"rb\"))\n",
    "metrics_l1_sa = pickle.load(open(\"l[stress:.83,l1:.17]_sa[p:.7]_test.pickle\", \"rb\"))\n",
    "metrics_l2 = pickle.load(open(\"scaled_l2_0.01_test.pickle\", \"rb\"))\n",
    "metrics_l2_sa = pickle.load(open(\"l[stress:.76,l2:.24]_sa[p:.7]_test.pickle\", \"rb\"))\n",
    "metrics_square = pickle.load(open(\"scaled_square_0.01_test.pickle\", \"rb\"))\n",
    "metrics_square_sa = pickle.load(open(\"l[stress:.75,sq:.25]_sa[p:.7]_test.pickle\", \"rb\"))\n",
    "metrics_sine = pickle.load(open(\"l[stress:1,sine:.02]_fix-w_test.pickle\", \"rb\"))\n",
    "metrics_sine_sa = pickle.load(open(\"l[stress:.75,sine:.25]_sa[t:.95,b:1,p:.5]_test.pickle\", \"rb\"))"
   ]
  },
  {
   "cell_type": "code",
   "execution_count": 13,
   "metadata": {},
   "outputs": [],
   "source": [
    "def score(s, r, s_sa, r_sa):\n",
    "    return ((s_sa <= s).mean(),\n",
    "            (r_sa <= r).mean(),\n",
    "            ((s_sa <= s) & (r_sa <= r)).mean(),\n",
    "            ((s_sa > s) & (r_sa > r)).mean())"
   ]
  },
  {
   "cell_type": "code",
   "execution_count": 68,
   "metadata": {},
   "outputs": [],
   "source": [
    "ratio_stress = np.array(metrics_ratio[\"stress\"])\n",
    "ratio_reso = np.array(metrics_ratio[\"reso\"])\n",
    "ratio_sa_stress = metrics_ratio_sa[\"losses\"].numpy()[:,0]\n",
    "ratio_sa_reso = metrics_ratio_sa[\"losses\"].numpy()[:,1]"
   ]
  },
  {
   "cell_type": "code",
   "execution_count": 70,
   "metadata": {},
   "outputs": [],
   "source": [
    "l2_stress = np.array(metrics_l2[\"stress\"])\n",
    "l2_reso = np.array(metrics_l2[\"reso\"])\n",
    "l2_sa_stress = metrics_l2_sa[\"losses\"].numpy()[:,0]\n",
    "l2_sa_reso = metrics_l2_sa[\"losses\"].numpy()[:,1]"
   ]
  },
  {
   "cell_type": "code",
   "execution_count": 71,
   "metadata": {},
   "outputs": [],
   "source": [
    "square_stress = np.array(metrics_square[\"stress\"])\n",
    "square_reso = np.array(metrics_square[\"reso\"])\n",
    "square_sa_stress = metrics_square_sa[\"losses\"].numpy()[:,0]\n",
    "square_sa_reso = metrics_square_sa[\"losses\"].numpy()[:,1]"
   ]
  },
  {
   "cell_type": "code",
   "execution_count": 7,
   "metadata": {},
   "outputs": [],
   "source": [
    "l1_stress = metrics_l1[\"losses\"].numpy()[:,0]\n",
    "l1_reso = metrics_l1[\"losses\"].numpy()[:,1]\n",
    "l1_sa_stress = metrics_l1_sa[\"losses\"].numpy()[:,0]\n",
    "l1_sa_reso = metrics_l1_sa[\"losses\"].numpy()[:,1]"
   ]
  },
  {
   "cell_type": "code",
   "execution_count": 11,
   "metadata": {},
   "outputs": [],
   "source": [
    "sine_stress = metrics_sine[\"losses\"].numpy()[:,0]\n",
    "sine_reso = metrics_sine[\"losses\"].numpy()[:,1]\n",
    "sine_sa_stress = metrics_sine_sa[\"losses\"].numpy()[:,0]\n",
    "sine_sa_reso = metrics_sine_sa[\"losses\"].numpy()[:,1]"
   ]
  },
  {
   "cell_type": "code",
   "execution_count": 79,
   "metadata": {},
   "outputs": [
    {
     "name": "stdout",
     "output_type": "stream",
     "text": [
      "0.654\n",
      "0.433\n",
      "0.308\n",
      "0.221\n"
     ]
    }
   ],
   "source": [
    "score(ratio_stress,ratio_reso,ratio_sa_stress,ratio_sa_reso)"
   ]
  },
  {
   "cell_type": "code",
   "execution_count": 80,
   "metadata": {},
   "outputs": [
    {
     "name": "stdout",
     "output_type": "stream",
     "text": [
      "0.353\n",
      "0.584\n",
      "0.247\n",
      "0.31\n"
     ]
    }
   ],
   "source": [
    "score(l2_stress,l2_reso,l2_sa_stress,l2_sa_reso)"
   ]
  },
  {
   "cell_type": "code",
   "execution_count": 81,
   "metadata": {},
   "outputs": [
    {
     "name": "stdout",
     "output_type": "stream",
     "text": [
      "0.571\n",
      "0.4\n",
      "0.251\n",
      "0.28\n"
     ]
    }
   ],
   "source": [
    "score(square_stress,square_reso,square_sa_stress,square_sa_reso)"
   ]
  },
  {
   "cell_type": "code",
   "execution_count": 10,
   "metadata": {},
   "outputs": [
    {
     "name": "stdout",
     "output_type": "stream",
     "text": [
      "0.456\n",
      "0.701\n",
      "0.322\n",
      "0.165\n"
     ]
    }
   ],
   "source": [
    "score(l1_stress,l1_reso,l1_sa_stress,l1_sa_reso)"
   ]
  },
  {
   "cell_type": "code",
   "execution_count": 12,
   "metadata": {},
   "outputs": [
    {
     "name": "stdout",
     "output_type": "stream",
     "text": [
      "0.309\n",
      "0.485\n",
      "0.183\n",
      "0.389\n"
     ]
    }
   ],
   "source": [
    "score(sine_stress,sine_reso,sine_sa_stress,sine_sa_reso)"
   ]
  },
  {
   "cell_type": "code",
   "execution_count": 5,
   "metadata": {},
   "outputs": [],
   "source": [
    "fix = []\n",
    "fix += [pickle.load(open(\"l[stress:.1,l1:.9]_fix-imp_test.pickle\", \"rb\"))]\n",
    "fix += [pickle.load(open(\"l[stress:.2,l1:.8]_fix-imp_test.pickle\", \"rb\"))]\n",
    "fix += [pickle.load(open(\"l[stress:.3,l1:.7]_fix-imp_test.pickle\", \"rb\"))]\n",
    "fix += [pickle.load(open(\"l[stress:.4,l1:.6]_fix-imp_test.pickle\", \"rb\"))]\n",
    "fix += [pickle.load(open(\"l[stress:.5,l1:.5]_fix-imp_test.pickle\", \"rb\"))]\n",
    "fix += [pickle.load(open(\"l[stress:.6,l1:.4]_fix-imp_test.pickle\", \"rb\"))]\n",
    "fix += [pickle.load(open(\"l[stress:.7,l1:.3]_fix-imp_test.pickle\", \"rb\"))]\n",
    "fix += [pickle.load(open(\"l[stress:.8,l1:.2]_fix-imp_test.pickle\", \"rb\"))]\n",
    "fix += [pickle.load(open(\"l[stress:.9,l1:.1]_fix-imp_test.pickle\", \"rb\"))]\n",
    "\n",
    "sa = pickle.load(open(\"l[stress:.4,l1:.6]_sa[beta:1,p:0]_test.pickle\", \"rb\"))"
   ]
  },
  {
   "cell_type": "code",
   "execution_count": 15,
   "metadata": {},
   "outputs": [
    {
     "name": "stdout",
     "output_type": "stream",
     "text": [
      "stress: 0.1\n",
      "(0.99, 0.536, 0.535, 0.009)\n",
      "stress: 0.2\n",
      "(0.945, 0.537, 0.517, 0.035)\n",
      "stress: 0.3\n",
      "(0.886, 0.403, 0.367, 0.078)\n",
      "stress: 0.4\n",
      "(0.645, 0.656, 0.421, 0.12)\n",
      "stress: 0.5\n",
      "(0.382, 0.715, 0.258, 0.161)\n",
      "stress: 0.6\n",
      "(0.173, 0.789, 0.147, 0.185)\n",
      "stress: 0.7\n",
      "(0.065, 0.895, 0.061, 0.101)\n",
      "stress: 0.8\n",
      "(0.022, 0.921, 0.021, 0.078)\n",
      "stress: 0.9\n",
      "(0.039, 0.95, 0.037, 0.048)\n"
     ]
    }
   ],
   "source": [
    "sas = sa[\"losses\"].numpy()[:,0]\n",
    "saa = sa[\"losses\"].numpy()[:,1]\n",
    "all = []\n",
    "for idx in range(9):\n",
    "    fixs = fix[idx][\"losses\"].numpy()[:,0]\n",
    "    fixa = fix[idx][\"losses\"].numpy()[:,1]\n",
    "    all += [score(fixs, fixa, sas, saa)]\n",
    "    print('stress:', (idx + 1) / 10)\n",
    "    print(all[-1])"
   ]
  },
  {
   "cell_type": "code",
   "execution_count": 17,
   "metadata": {},
   "outputs": [
    {
     "data": {
      "text/plain": [
       "array([0.46077778, 0.71133333, 0.26266667, 0.09055556])"
      ]
     },
     "execution_count": 17,
     "metadata": {},
     "output_type": "execute_result"
    }
   ],
   "source": [
    "np.array(all).mean(axis=0)"
   ]
  },
  {
   "cell_type": "code",
   "execution_count": 18,
   "metadata": {},
   "outputs": [
    {
     "data": {
      "text/plain": [
       "[(0.99, 0.536, 0.535, 0.009),\n",
       " (0.945, 0.537, 0.517, 0.035),\n",
       " (0.886, 0.403, 0.367, 0.078),\n",
       " (0.645, 0.656, 0.421, 0.12),\n",
       " (0.382, 0.715, 0.258, 0.161),\n",
       " (0.173, 0.789, 0.147, 0.185),\n",
       " (0.065, 0.895, 0.061, 0.101),\n",
       " (0.022, 0.921, 0.021, 0.078),\n",
       " (0.039, 0.95, 0.037, 0.048)]"
      ]
     },
     "execution_count": 18,
     "metadata": {},
     "output_type": "execute_result"
    }
   ],
   "source": [
    "all"
   ]
  },
  {
   "cell_type": "code",
   "execution_count": null,
   "metadata": {},
   "outputs": [],
   "source": [
    "[(0.99 , 0.536, 0.535, 0.009),\n",
    " (0.945, 0.537, 0.517, 0.035),\n",
    " (0.886, 0.403, 0.367, 0.078),\n",
    " (0.645, 0.656, 0.421, 0.12 ),\n",
    " (0.382, 0.715, 0.258, 0.161),\n",
    " (0.173, 0.789, 0.147, 0.185),\n",
    " (0.065, 0.895, 0.061, 0.101),\n",
    " (0.022, 0.921, 0.021, 0.078),\n",
    " (0.039, 0.95 , 0.037, 0.048)]"
   ]
  }
 ],
 "metadata": {
  "kernelspec": {
   "display_name": "Python 3",
   "language": "python",
   "name": "python3"
  },
  "language_info": {
   "codemirror_mode": {
    "name": "ipython",
    "version": 3
   },
   "file_extension": ".py",
   "mimetype": "text/x-python",
   "name": "python",
   "nbconvert_exporter": "python",
   "pygments_lexer": "ipython3",
   "version": "3.7.6"
  },
  "widgets": {
   "application/vnd.jupyter.widget-state+json": {
    "state": {},
    "version_major": 2,
    "version_minor": 0
   }
  }
 },
 "nbformat": 4,
 "nbformat_minor": 4
}
