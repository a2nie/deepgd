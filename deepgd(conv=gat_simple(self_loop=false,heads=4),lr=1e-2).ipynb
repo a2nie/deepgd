{
 "cells": [
  {
   "cell_type": "markdown",
   "metadata": {
    "id": "wZtYFEhHoBGp"
   },
   "source": [
    "# Import libraries"
   ]
  },
  {
   "cell_type": "code",
   "execution_count": 1,
   "metadata": {
    "id": "KJPfzpxLQI5O"
   },
   "outputs": [],
   "source": [
    "%load_ext autoreload\n",
    "%autoreload 2\n",
    "from deepgd import *"
   ]
  },
  {
   "cell_type": "markdown",
   "metadata": {
    "id": "z4eBEyB1oaJe"
   },
   "source": [
    "# Config"
   ]
  },
  {
   "cell_type": "code",
   "execution_count": 2,
   "metadata": {
    "id": "Q_-MLFhpNvxF"
   },
   "outputs": [],
   "source": [
    "cuda_idx = 0\n",
    "canonicalization = IdentityTransformation()\n",
    "config = StaticConfig({\n",
    "    \"name\": 'deepgd(conv=gat_simple(self_loop=false,heads=4),lr=1e-2)',\n",
    "    \"uid\": None,\n",
    "    \"link\": None,\n",
    "    \"generator\": {\n",
    "        \"params\": {\n",
    "            \"num_blocks\": 9,\n",
    "            \"normalize\": canonicalization\n",
    "        },\n",
    "        \"pretrained\": {\n",
    "            \"name\": None,\n",
    "            \"epoch\": -1,\n",
    "        },\n",
    "        \"optim\": torch.optim.AdamW,\n",
    "        \"lr\" : {\n",
    "            \"initial\": 1e-2,\n",
    "            \"decay\": 0.99,\n",
    "        },\n",
    "    },\n",
    "    \"discriminator\": {\n",
    "        \"params\": {\n",
    "            \"conv\": [2, 16, 16, 16],\n",
    "            \"dense\": [2],\n",
    "            \"shared_depth\": 10,\n",
    "            \"enet_depth\": 6,\n",
    "            \"enet_width\": 64,\n",
    "            \"aggr\": \"add\",\n",
    "            \"normalize\": canonicalization\n",
    "        },\n",
    "        \"pretrained\": {\n",
    "            \"name\": None,\n",
    "            \"epoch\": -1,\n",
    "        },\n",
    "        \"optim\": torch.optim.AdamW,\n",
    "        \"lr\" : {\n",
    "            \"initial\": 1e-3,\n",
    "            \"decay\": 0.99,\n",
    "        },\n",
    "        \"noise\": {\n",
    "            \"std\": 0,\n",
    "            \"decay\": 0.95,\n",
    "        },\n",
    "        \"repeat\": 1,\n",
    "        \"complete\": True,\n",
    "        \"adaptive\": True\n",
    "    },\n",
    "    \"alternate\": \"epoch\",\n",
    "    \"batchsize\": 128,\n",
    "    \"epoch\": {\n",
    "        \"start\": -1,\n",
    "        \"end\": None,\n",
    "    },\n",
    "    \"log_interval\": 1,\n",
    "    \"test\": {\n",
    "        \"name\": \"test\",\n",
    "        \"epoch\": -1,\n",
    "    },\n",
    "    \"gan_flavor\": \"dgdv2\",\n",
    "    \"gp_weight\": 0,\n",
    "})\n",
    "data_config = StaticConfig({\n",
    "    \"sparse\": False,\n",
    "    \"pivot\": None,\n",
    "    \"init\": \"pmds\",\n",
    "    \"edge\": {\n",
    "        \"index\": \"full_edge_index\",\n",
    "        \"attr\": \"full_edge_attr\",\n",
    "    },\n",
    "})\n",
    "loss_fns = {\n",
    "    Stress(): 1\n",
    "}\n",
    "ctrler_params = {\n",
    "    \"tau\": 0.95,\n",
    "    \"beta\": 1,\n",
    "    \"exploit_rate\": 0.5,\n",
    "    \"warmup\": 2,\n",
    "}\n",
    "paths = StaticConfig({\n",
    "    \"root\": \"artifacts\",\n",
    "    \"checkpoints\": lambda: f\"{paths.root}/checkpoints/{config.name}\",\n",
    "    \"gen_pretrain\": lambda: f\"{paths.root}/checkpoints/{config.generator.pretrained.name}\",\n",
    "    \"dis_pretrain\": lambda: f\"{paths.root}/checkpoints/{config.discriminator.pretrained.name}\",\n",
    "    \"tensorboard\": lambda: f\"{paths.root}/tensorboards/{config.name}\",\n",
    "    \"visualization\": lambda: f\"{paths.root}/visualizations/{config.name}_{config.test.name}\",\n",
    "    \"log\": lambda: f\"{paths.root}/logs/{config.name}.log\",\n",
    "    \"metrics\": lambda suffix: f\"{paths.root}/metrics/{config.name}_{suffix}.pickle\",\n",
    "})"
   ]
  },
  {
   "cell_type": "code",
   "execution_count": 3,
   "metadata": {
    "id": "mdMEAbH10Qaq"
   },
   "outputs": [],
   "source": [
    "if \" \" in config.name:\n",
    "    raise Exception(\"Space is not allowed in model name.\")"
   ]
  },
  {
   "cell_type": "markdown",
   "metadata": {
    "id": "WynW4ZAdBhep"
   },
   "source": [
    "# Prepare"
   ]
  },
  {
   "cell_type": "markdown",
   "metadata": {
    "id": "DR6-vYtr_i_P"
   },
   "source": [
    "## Get log command"
   ]
  },
  {
   "cell_type": "code",
   "execution_count": 4,
   "metadata": {
    "colab": {
     "base_uri": "https://localhost:8080/"
    },
    "id": "9-QpinlslcTO",
    "outputId": "b71f2ad3-e3f3-4ee1-e8ac-58e6e414abfc"
   },
   "outputs": [
    {
     "name": "stdout",
     "output_type": "stream",
     "text": [
      "cd /users/PAS0027/osu10203/deepgd && tail -n1000 -f 'artifacts/logs/deepgd(conv=gat_simple(self_loop=false,heads=4),lr=1e-2).log'\n"
     ]
    }
   ],
   "source": [
    "print(f\"cd {os.getcwd()} && tail -n1000 -f '{paths.log()}'\")"
   ]
  },
  {
   "cell_type": "code",
   "execution_count": 5,
   "metadata": {},
   "outputs": [
    {
     "name": "stdout",
     "output_type": "stream",
     "text": [
      "tensorboard dev upload --logdir 'artifacts/tensorboards/deepgd(conv=gat_simple(self_loop=false,heads=4),lr=1e-2)'\n"
     ]
    }
   ],
   "source": [
    "print(f\"tensorboard dev upload --logdir '{paths.tensorboard()}'\")"
   ]
  },
  {
   "cell_type": "markdown",
   "metadata": {
    "id": "innqkwvH_ydD"
   },
   "source": [
    "## Set globals"
   ]
  },
  {
   "cell_type": "code",
   "execution_count": 6,
   "metadata": {
    "id": "Qjq7JlSZlkQR"
   },
   "outputs": [],
   "source": [
    "if cuda_idx is not None and torch.cuda.is_available():\n",
    "    device = f'cuda:{cuda_idx}'\n",
    "    pynvml.nvmlInit()\n",
    "    cuda = pynvml.nvmlDeviceGetHandleByIndex(cuda_idx)\n",
    "else:\n",
    "    device = 'cpu'\n",
    "    cuda =  None\n",
    "np.set_printoptions(precision=2)\n",
    "warnings.filterwarnings(\"ignore\", category=RuntimeWarning)"
   ]
  },
  {
   "cell_type": "markdown",
   "metadata": {
    "id": "0da286l_ApEL"
   },
   "source": [
    "## Load data"
   ]
  },
  {
   "cell_type": "code",
   "execution_count": 7,
   "metadata": {
    "colab": {
     "base_uri": "https://localhost:8080/"
    },
    "id": "RFuSHiZJMU4x",
    "outputId": "3befa34f-6262-47a9-825d-7dcb2d6596d3"
   },
   "outputs": [
    {
     "name": "stdout",
     "output_type": "stream",
     "text": [
      "Load from 'cache/G_list.pickle'\n",
      "Load from 'cache/generate_data_list(list,sparse=False,pivot_mode=None,init_mode=pmds,edge_index=full_edge_index,edge_attr=full_edge_attr,pmds_list=ndarray,gviz_list=ndarray,noisy_layout=True,device=cpu).pickle'\n"
     ]
    },
    {
     "name": "stderr",
     "output_type": "stream",
     "text": [
      "/users/PAS0027/osu10203/.conda/envs/deepgd/lib/python3.9/site-packages/torch_geometric/deprecation.py:13: UserWarning: 'data.DataLoader' is deprecated, use 'loader.DataLoader' instead\n",
      "  warnings.warn(out)\n"
     ]
    }
   ],
   "source": [
    "G_list = load_G_list(data_path='data/rome', index_file='data_index.txt', cache='G_list', cache_prefix='cache/')\n",
    "data_list = generate_data_list(G_list, \n",
    "                               sparse=data_config.sparse, \n",
    "                               pivot_mode=data_config.pivot,\n",
    "                               init_mode=data_config.init,\n",
    "                               edge_index=data_config.edge.index,\n",
    "                               edge_attr=data_config.edge.attr,\n",
    "                               pmds_list=np.load('layouts/rome/pmds.npy', allow_pickle=True),\n",
    "                               gviz_list=np.load('layouts/rome/gviz.npy', allow_pickle=True),\n",
    "                               noisy_layout=True,\n",
    "                               device='cpu', \n",
    "                               cache=True,\n",
    "                               cache_prefix='cache/')\n",
    "train_loader = LazyDeviceMappingDataLoader(data_list[:10000], batch_size=config.batchsize, shuffle=True, device=device)\n",
    "val_loader = LazyDeviceMappingDataLoader(data_list[11000:], batch_size=config.batchsize, shuffle=False, device=device)"
   ]
  },
  {
   "cell_type": "markdown",
   "metadata": {
    "id": "f-ODE2k8BFV6"
   },
   "source": [
    "## Create folders"
   ]
  },
  {
   "cell_type": "code",
   "execution_count": 8,
   "metadata": {
    "id": "3ykUMINYBRog"
   },
   "outputs": [],
   "source": [
    "mkdirs(paths.checkpoints(), paths.tensorboard(), paths.visualization(), f\"{paths.root}/logs\", f\"{paths.root}/metrics\")"
   ]
  },
  {
   "cell_type": "markdown",
   "metadata": {
    "id": "BFq9k5nzBIh5"
   },
   "source": [
    "## Load checkpoints"
   ]
  },
  {
   "cell_type": "code",
   "execution_count": 9,
   "metadata": {},
   "outputs": [],
   "source": [
    "class GATConvWithEFeat(gnn.GATConv):\n",
    "    def __init__(self,\n",
    "                 in_channels,\n",
    "                 out_channels, \n",
    "                 efeat_dim,\n",
    "                 heads: int = 4,\n",
    "                 concat: bool = False,\n",
    "                 negative_slope: float = 0.2,\n",
    "                 dropout: float = 0.0,\n",
    "                 add_self_loops: bool = False,\n",
    "                 bias: bool = True,\n",
    "                 **kwargs):\n",
    "        super().__init__(in_channels=in_channels,\n",
    "                         out_channels=out_channels, \n",
    "                         heads=heads,\n",
    "                         concat=concat,\n",
    "                         negative_slope=negative_slope,\n",
    "                         dropout=dropout,\n",
    "                         add_self_loops=add_self_loops,\n",
    "                         bias=bias, **kwargs)\n",
    "        self.att_efeat = nn.Parameter(torch.Tensor(1, heads, efeat_dim))\n",
    "        gnn.inits.glorot(self.att_efeat)\n",
    "\n",
    "    def forward(self, x, edge_index, e, size=None, return_attention_weights=None):\n",
    "        H, C = self.heads, self.out_channels\n",
    "\n",
    "        # We first transform the input node features. If a tuple is passed, we\n",
    "        # transform source and target node features via separate weights:\n",
    "        if isinstance(x, torch.Tensor):\n",
    "            assert x.dim() == 2, \"Static graphs not supported in 'GATConv'\"\n",
    "            x_src = x_dst = self.lin_src(x).view(-1, H, C)\n",
    "        else:  # Tuple of source and target node features:\n",
    "            x_src, x_dst = x\n",
    "            assert x_src.dim() == 2, \"Static graphs not supported in 'GATConv'\"\n",
    "            x_src = self.lin_src(x_src).view(-1, H, C)\n",
    "            if x_dst is not None:\n",
    "                x_dst = self.lin_dst(x_dst).view(-1, H, C)\n",
    "\n",
    "        x = (x_src, x_dst)\n",
    "\n",
    "        # Next, we compute node-level attention coefficients, both for source\n",
    "        # and target nodes (if present):\n",
    "        alpha_src = (x_src * self.att_src).sum(dim=-1)\n",
    "        alpha_dst = None if x_dst is None else (x_dst * self.att_dst).sum(-1)\n",
    "        alpha = (alpha_src, alpha_dst)\n",
    "\n",
    "        if self.add_self_loops:\n",
    "            if isinstance(edge_index, torch.Tensor):\n",
    "                # We only want to add self-loops for nodes that appear both as\n",
    "                # source and target nodes:\n",
    "                num_nodes = x_src.size(0)\n",
    "                if x_dst is not None:\n",
    "                    num_nodes = min(num_nodes, x_dst.size(0))\n",
    "                num_nodes = min(size) if size is not None else num_nodes\n",
    "                edge_index, _ = pyg.utils.remove_self_loops(edge_index)\n",
    "                edge_index, _ = pyg.utils.add_self_loops(edge_index, num_nodes=num_nodes)\n",
    "            elif isinstance(edge_index, torch_sparse.SparseTensor):\n",
    "                edge_index = set_diag(edge_index)\n",
    "\n",
    "        # propagate_type: (x: OptPairTensor, alpha: OptPairTensor)\n",
    "        out = self.propagate(edge_index, x=x, e=e, alpha=alpha, size=size)\n",
    "\n",
    "        alpha = self._alpha\n",
    "        assert alpha is not None\n",
    "        self._alpha = None\n",
    "\n",
    "        if self.concat:\n",
    "            out = out.view(-1, self.heads * self.out_channels)\n",
    "        else:\n",
    "            out = out.mean(dim=1)\n",
    "\n",
    "        if self.bias is not None:\n",
    "            out += self.bias\n",
    "\n",
    "        if isinstance(return_attention_weights, bool):\n",
    "            if isinstance(edge_index, torch.Tensor):\n",
    "                return out, (edge_index, alpha)\n",
    "            elif isinstance(edge_index, torch_sparse.SparseTensor):\n",
    "                return out, edge_index.set_value(alpha, layout='coo')\n",
    "        else:\n",
    "            return out\n",
    "\n",
    "\n",
    "    def message(self, x_j, e, alpha_j, alpha_i, index, ptr, size_i):\n",
    "        # Given egel-level attention coefficients for source and target nodes,\n",
    "        # we simply need to sum them up to \"emulate\" concatenation:\n",
    "        alpha = alpha_j if alpha_i is None else alpha_j + alpha_i\n",
    "#         print(e.shape, self.att_efeat.shape)\n",
    "        alpha += (e[:, None, :].repeat(1, self.heads, 1) * self.att_efeat).sum(dim=-1)\n",
    "\n",
    "        alpha = F.leaky_relu(alpha, self.negative_slope)\n",
    "        alpha = pyg.utils.softmax(alpha, index, ptr, size_i)\n",
    "        self._alpha = alpha  # Save for later use.\n",
    "        alpha = F.dropout(alpha, p=self.dropout, training=self.training)\n",
    "        return x_j * alpha.unsqueeze(-1)"
   ]
  },
  {
   "cell_type": "code",
   "execution_count": 10,
   "metadata": {
    "tags": []
   },
   "outputs": [],
   "source": [
    "class GNNLayer(nn.Module):\n",
    "    def __init__(self,\n",
    "                 nfeat_dims,\n",
    "                 efeat_dim,\n",
    "                 aggr,\n",
    "                 edge_net=None, \n",
    "                 dense=False,\n",
    "                 bn=True, \n",
    "                 act=True, \n",
    "                 dp=None,\n",
    "                 root_weight=True,\n",
    "                 skip=True):\n",
    "        super().__init__()\n",
    "        try:\n",
    "            in_dim = nfeat_dims[0]\n",
    "            out_dim = nfeat_dims[1]\n",
    "        except:\n",
    "            in_dim = nfeat_dims\n",
    "            out_dim = nfeat_dims\n",
    "        self.conv = GATConvWithEFeat(in_dim, out_dim, efeat_dim, aggr=aggr)\n",
    "        self.dense = nn.Linear(out_dim, out_dim) if dense else nn.Identity()\n",
    "        self.bn = gnn.BatchNorm(out_dim) if bn else nn.Identity()\n",
    "        self.act = nn.LeakyReLU() if act else nn.Identity()\n",
    "        self.dp = dp and nn.Dropout(dp) or nn.Identity()\n",
    "        self.skip = skip\n",
    "        self.proj = nn.Linear(in_dim, out_dim, bias=False) if in_dim != out_dim else nn.Identity()\n",
    "        \n",
    "    def forward(self, v, e, data):\n",
    "        v_ = v\n",
    "        v = self.conv(v, data.edge_index, e)\n",
    "        v = self.dense(v)\n",
    "        v = self.bn(v)\n",
    "        v = self.act(v)\n",
    "        v = self.dp(v)\n",
    "        return v + self.proj(v_) if self.skip else v"
   ]
  },
  {
   "cell_type": "code",
   "execution_count": 11,
   "metadata": {
    "jupyter": {
     "source_hidden": true
    },
    "tags": []
   },
   "outputs": [],
   "source": [
    "class GNNBlock(nn.Module):\n",
    "    def __init__(self, \n",
    "                 feat_dims, \n",
    "                 efeat_hid_dims=[], \n",
    "                 efeat_hid_act=nn.LeakyReLU,\n",
    "                 efeat_out_act=nn.Tanh,\n",
    "                 bn=False,\n",
    "                 act=True,\n",
    "                 dp=None,\n",
    "                 aggr='mean',\n",
    "                 root_weight=True,\n",
    "                 static_efeats=1,\n",
    "                 dynamic_efeats='skip',\n",
    "                 rich_efeats=False,\n",
    "                 euclidian=False,\n",
    "                 direction=False,\n",
    "                 n_weights=0,\n",
    "                 residual=False):\n",
    "        '''\n",
    "        dynamic_efeats: {\n",
    "            skip: block input to each layer, \n",
    "            first: block input to first layer, \n",
    "            prev: previous layer output to next layer, \n",
    "            orig: original node feature to each layer\n",
    "        }\n",
    "        '''\n",
    "        super().__init__()\n",
    "        self.static_efeats = static_efeats\n",
    "        self.dynamic_efeats = dynamic_efeats\n",
    "        self.rich_efeats = rich_efeats\n",
    "        self.euclidian = euclidian\n",
    "        self.direction = direction\n",
    "        self.n_weights = n_weights\n",
    "        self.residual = residual\n",
    "        self.gnn = nn.ModuleList()\n",
    "        self.n_layers = len(feat_dims) - 1\n",
    "\n",
    "        for idx, (in_feat, out_feat) in enumerate(zip(feat_dims[:-1], feat_dims[1:])):\n",
    "            direction_dim = (feat_dims[idx] if self.dynamic_efeats == 'prev'\n",
    "                             else 2 if self.dynamic_efeats == 'orig'\n",
    "                             else feat_dims[0])\n",
    "            in_efeat_dim = self.static_efeats\n",
    "            if self.dynamic_efeats != 'first': \n",
    "                in_efeat_dim += self.euclidian + self.direction * direction_dim + self.n_weights + 3 * self.rich_efeats\n",
    "            edge_net = nn.Sequential(*chain.from_iterable(\n",
    "                [nn.Linear(idim, odim),\n",
    "                 nn.BatchNorm1d(odim),\n",
    "                 act()]\n",
    "                for idim, odim, act in zip([in_efeat_dim] + efeat_hid_dims,\n",
    "                                           efeat_hid_dims + [in_feat * out_feat],\n",
    "                                           [efeat_hid_act] * len(efeat_hid_dims) + [efeat_out_act])\n",
    "            ))\n",
    "            self.gnn.append(GNNLayer(nfeat_dims=(in_feat, out_feat), \n",
    "                                     efeat_dim=in_efeat_dim, \n",
    "                                     edge_net=edge_net,\n",
    "                                     bn=bn, \n",
    "                                     act=act, \n",
    "                                     dp=dp,\n",
    "                                     aggr=aggr,\n",
    "                                     root_weight=root_weight,\n",
    "                                     skip=False))\n",
    "        \n",
    "    def _get_edge_feat(self, pos, data, rich_efeats=False, euclidian=False, direction=False, weights=None):\n",
    "        e = data.edge_attr[:, :self.static_efeats]\n",
    "        if euclidian or direction:\n",
    "            start_pos, end_pos = get_edges(pos, data)\n",
    "            v, u = l2_normalize(end_pos - start_pos, return_norm=True)\n",
    "            if euclidian:\n",
    "                e = torch.cat([e, u], dim=1)\n",
    "            if direction:\n",
    "                e = torch.cat([e, v], dim=1)\n",
    "            if rich_efeats:\n",
    "                d = e[:, :1]\n",
    "                d2 = d ** 2\n",
    "#                 d_inv = 1 / d\n",
    "#                 d2_inv = 1 / d2\n",
    "                u2 = u ** 2\n",
    "                ud = u * d\n",
    "#                 u_inv = 1 / u\n",
    "#                 u2_inv = 1 / u2\n",
    "                e = torch.cat([e, d2, u2, ud], dim=1)\n",
    "        if weights is not None:\n",
    "            w = weights.repeat(len(e), 1)\n",
    "            e = torch.cat([e, w], dim=1)\n",
    "        return e\n",
    "    \n",
    "    def _get_dynamic_edge_feat(self, pos, data, rich_efeats=False, euclidian=False, direction=False, weights=None):\n",
    "        if euclidian or direction:\n",
    "            start_pos, end_pos = get_edges(pos, data)\n",
    "            d, u = l2_normalize(end_pos - start_pos, return_norm=True)\n",
    "            if euclidian and direction:\n",
    "                e = torch.cat([u, d], dim=1)\n",
    "            else:\n",
    "                if euclidian:\n",
    "                    e = u\n",
    "                if direction:\n",
    "                    e = d\n",
    "        if weights is not None:\n",
    "            w = weights.repeat(len(e), 1)\n",
    "            e = torch.cat([e, w], dim=1)\n",
    "        return e\n",
    "        \n",
    "    def forward(self, v, data, weights=None):\n",
    "        vres = v\n",
    "        for layer in range(self.n_layers):\n",
    "            vsrc = (v if self.dynamic_efeats == 'prev' \n",
    "                    else data.pos if self.dynamic_efeats == 'orig' \n",
    "                    else vres)\n",
    "            get_extra = not (self.dynamic_efeats == 'first' and layer != 0)\n",
    "            efeat_fn = self._get_dynamic_edge_feat if self.static_efeats == 0 else self._get_edge_feat\n",
    "\n",
    "            e = efeat_fn(vsrc, data,\n",
    "                         rich_efeats=self.rich_efeats and get_extra,\n",
    "                         euclidian=self.euclidian and get_extra, \n",
    "                         direction=self.direction and get_extra,\n",
    "                         weights=weights if get_extra and self.n_weights > 0 else None)\n",
    "            v = self.gnn[layer](v, e, data)\n",
    "        return v + vres if self.residual else v"
   ]
  },
  {
   "cell_type": "code",
   "execution_count": 12,
   "metadata": {
    "tags": []
   },
   "outputs": [],
   "source": [
    "class Generator(nn.Module):\n",
    "    def __init__(self, \n",
    "                 num_blocks=9, \n",
    "                 num_layers=3,\n",
    "                 num_enet_layers=2,\n",
    "                 layer_dims=None,\n",
    "                 n_weights=0, \n",
    "                 dynamic_efeats='skip',\n",
    "                 euclidian=True,\n",
    "                 direction=True,\n",
    "                 residual=True,\n",
    "                 normalize=None):\n",
    "        super().__init__()\n",
    "\n",
    "        self.in_blocks = nn.ModuleList([\n",
    "            GNNBlock(feat_dims=[2, 8, 8 if layer_dims is None else layer_dims[0]], bn=True, dp=0.2, static_efeats=2)\n",
    "        ])\n",
    "        self.hid_blocks = nn.ModuleList([\n",
    "            GNNBlock(feat_dims=layer_dims or ([8] + [8] * num_layers), \n",
    "                     efeat_hid_dims=[16] * (num_enet_layers - 1),\n",
    "                     bn=True, \n",
    "                     act=True,\n",
    "                     dp=0.2, \n",
    "                     static_efeats=2,\n",
    "                     dynamic_efeats=dynamic_efeats,\n",
    "                     euclidian=euclidian,\n",
    "                     direction=direction,\n",
    "                     n_weights=n_weights,\n",
    "                     residual=residual)\n",
    "            for _ in range(num_blocks)\n",
    "        ])\n",
    "        self.out_blocks = nn.ModuleList([\n",
    "            GNNBlock(feat_dims=[8 if layer_dims is None else layer_dims[-1], 8], bn=True, static_efeats=2),\n",
    "            GNNBlock(feat_dims=[8, 2], act=False, static_efeats=2)\n",
    "        ])\n",
    "        self.normalize = normalize\n",
    "\n",
    "    def forward(self, data, weights=None, output_hidden=False, numpy=False):\n",
    "        v = data.pos if data.pos is not None else generate_rand_pos(len(data.x)).to(data.x.device)\n",
    "        if self.normalize is not None:\n",
    "            v = self.normalize(v, data)\n",
    "        \n",
    "        hidden = []\n",
    "        for block in chain(self.in_blocks, \n",
    "                           self.hid_blocks, \n",
    "                           self.out_blocks):\n",
    "            v = block(v, data, weights)\n",
    "            if output_hidden:\n",
    "                hidden.append(v.detach().cpu().numpy() if numpy else v)\n",
    "        if not output_hidden:\n",
    "            vout = v.detach().cpu().numpy() if numpy else v\n",
    "            if self.normalize is not None:\n",
    "                vout = self.normalize(vout, data)\n",
    "        \n",
    "        return hidden if output_hidden else vout"
   ]
  },
  {
   "cell_type": "code",
   "execution_count": 13,
   "metadata": {
    "id": "96ZActxlL0fJ"
   },
   "outputs": [],
   "source": [
    "class StressDiscriminator(nn.Module):\n",
    "    def __init__(self, normalize=CanonicalizationByStress(), **kwargs):\n",
    "        super().__init__()\n",
    "        self.dummy = nn.Parameter(torch.zeros(1))\n",
    "        self.normalize = normalize\n",
    "        self.stress = Stress(reduce=None)\n",
    "\n",
    "    def forward(self, batch):\n",
    "        return -self.stress(self.normalize(batch.pos, batch), batch)"
   ]
  },
  {
   "cell_type": "code",
   "execution_count": 14,
   "metadata": {
    "id": "IJ6xCYBUuhcw"
   },
   "outputs": [],
   "source": [
    "def get_ckpt_epoch(folder, epoch):\n",
    "    if not os.path.isdir(folder):\n",
    "        os.mkdir(folder)\n",
    "    if epoch >= 0:\n",
    "        return epoch\n",
    "    ckpt_files = os.listdir(folder)\n",
    "    last_epoch = 0\n",
    "    if ckpt_files:\n",
    "        last_epoch = sorted(list(map(lambda x: int(re.search('(?<=epoch_)(\\d+)(?=\\.)', x).group(1)), ckpt_files)))[-1]\n",
    "    return last_epoch + epoch + 1\n",
    "\n",
    "def start_epoch():\n",
    "    return get_ckpt_epoch(paths.checkpoints(), config.epoch.start)"
   ]
  },
  {
   "cell_type": "code",
   "execution_count": 15,
   "metadata": {
    "colab": {
     "base_uri": "https://localhost:8080/"
    },
    "id": "JacDYXka9U01",
    "outputId": "8a0d9c75-eb27-4cfd-eb3e-c81b698cb086"
   },
   "outputs": [
    {
     "name": "stdout",
     "output_type": "stream",
     "text": [
      "Loading from artifacts/checkpoints/deepgd(conv=gat_simple(self_loop=false,heads=4),lr=1e-2)/gen_epoch_2931.pt...\n",
      "Loading from artifacts/checkpoints/deepgd(conv=gat_simple(self_loop=false,heads=4),lr=1e-2)/gen_optim_epoch_2931.pt...\n"
     ]
    }
   ],
   "source": [
    "generator = Generator(**config.generator.params[...]).to(device)\n",
    "generator_optimizer = config.generator.optim(generator.parameters(), lr=config.generator.lr.initial * config.generator.lr.decay ** start_epoch())\n",
    "generator_scheduler = torch.optim.lr_scheduler.ExponentialLR(generator_optimizer, gamma=config.generator.lr.decay)\n",
    "if start_epoch() != 0:\n",
    "    gen_ckpt_epoch = start_epoch()\n",
    "elif config.generator.pretrained.name is not None and config.generator.pretrained.epoch != 0:\n",
    "    gen_pretrained_epoch = get_ckpt_epoch(paths.gen_pretrain(), config.generator.pretrained.epoch)\n",
    "    gen_ckpt_epoch = gen_pretrained_epoch \n",
    "else:\n",
    "    gen_ckpt_epoch = None\n",
    "if gen_ckpt_epoch is not None:\n",
    "    # Load generator\n",
    "    gen_ckpt_file = f\"{paths.checkpoints()}/gen_epoch_{gen_ckpt_epoch}.pt\"\n",
    "    print(f\"Loading from {gen_ckpt_file}...\")\n",
    "    generator.load_state_dict(torch.load(gen_ckpt_file, map_location=torch.device(device)))\n",
    "    # Load generator optimizer\n",
    "    gen_optim_ckpt_file = f\"{paths.checkpoints()}/gen_optim_epoch_{gen_ckpt_epoch}.pt\"\n",
    "    print(f\"Loading from {gen_optim_ckpt_file}...\")\n",
    "    generator_optimizer.load_state_dict(torch.load(gen_optim_ckpt_file, map_location=torch.device(device)))"
   ]
  },
  {
   "cell_type": "code",
   "execution_count": 16,
   "metadata": {
    "colab": {
     "base_uri": "https://localhost:8080/"
    },
    "id": "oWQhD7-88VXe",
    "outputId": "3ce11a68-adca-4f26-b71c-69fb71d301d2"
   },
   "outputs": [],
   "source": [
    "discriminator = StressDiscriminator(**config.discriminator.params[...]).to(device)\n",
    "# discriminator_optimizer = config.discriminator.optim(discriminator.parameters(), lr=config.discriminator.lr.initial * config.discriminator.lr.decay ** start_epoch())\n",
    "# discriminator_scheduler = torch.optim.lr_scheduler.ExponentialLR(discriminator_optimizer, gamma=config.discriminator.lr.decay)\n",
    "# if start_epoch() != 0:\n",
    "#     dis_ckpt_epoch = start_epoch()\n",
    "# elif config.discriminator.pretrained.name is not None and config.discriminator.pretrained.epoch != 0:\n",
    "#     dis_pretrained_epoch = get_ckpt_epoch(paths.dis_pretrain(), config.discriminator.pretrained.epoch)\n",
    "#     dis_ckpt_epoch = dis_pretrained_epoch # f\"{paths.dis_pretrain()}/dis_epoch_{dis_pretrained_epoch}.pt\"\n",
    "# else:\n",
    "#     dis_ckpt_epoch = None\n",
    "# if dis_ckpt_epoch is not None:\n",
    "#     # Load discriminator\n",
    "#     dis_ckpt_file = f\"{paths.checkpoints()}/dis_epoch_{dis_ckpt_epoch}.pt\"\n",
    "#     print(f\"Loading from {dis_ckpt_file}...\")\n",
    "#     discriminator.load_state_dict(torch.load(dis_ckpt_file, map_location=torch.device(device)))\n",
    "#     # Load discriminator optimizer\n",
    "#     dis_optim_ckpt_file = f\"{paths.checkpoints()}/dis_optim_epoch_{dis_ckpt_epoch}.pt\"\n",
    "#     print(f\"Loading from {dis_optim_ckpt_file}...\")\n",
    "#     discriminator_optimizer.load_state_dict(torch.load(dis_optim_ckpt_file, map_location=torch.device(device)))"
   ]
  },
  {
   "cell_type": "markdown",
   "metadata": {
    "id": "N39dDHraedM6"
   },
   "source": [
    "# Train"
   ]
  },
  {
   "cell_type": "code",
   "execution_count": 17,
   "metadata": {
    "id": "BdIJSDSJedM-"
   },
   "outputs": [],
   "source": [
    "stress_criterion = StressDiscriminator().to(device)\n",
    "val_criterion = Stress(reduce=None)\n",
    "xing_criterion = Xing(reduce=None)\n",
    "dis_convert = DiscriminatorDataConverter(complete_graph=config.discriminator.complete, normalize=config.discriminator.params.normalize)\n",
    "tensorboard = SummaryWriter(log_dir=paths.tensorboard())\n",
    "epoch = start_epoch() + 1"
   ]
  },
  {
   "cell_type": "code",
   "execution_count": 18,
   "metadata": {
    "id": "OHRWj1h0edM-"
   },
   "outputs": [],
   "source": [
    "def gradient_penalty(interpolated, discriminator, weight=10):\n",
    "    interpolated.pos.requires_grad_()\n",
    "    prob_interpolated = discriminator(interpolated)\n",
    "    gradients = autograd.grad(outputs=prob_interpolated, \n",
    "                              inputs=interpolated.pos,\n",
    "                              grad_outputs=torch.ones_like(prob_interpolated),\n",
    "                              create_graph=True, \n",
    "                              retain_graph=True, \n",
    "                              allow_unused=True)[0]\n",
    "    gradients_norm = torch.sqrt(gnn.global_add_pool(gradients.square().sum(dim=1), batch.batch) + 1e-8)\n",
    "    return weight * ((gradients_norm - 1) ** 2).mean()"
   ]
  },
  {
   "cell_type": "code",
   "execution_count": 19,
   "metadata": {
    "id": "o5wJJN9AedM_"
   },
   "outputs": [],
   "source": [
    "def get_gp_loss(batch, fake_pos, weight):\n",
    "    if weight > 0:\n",
    "        interp = dis_convert(batch, fake_pos, random.random())\n",
    "        return gradient_penalty(interp, discriminator, weight).mean()\n",
    "    return 0"
   ]
  },
  {
   "cell_type": "code",
   "execution_count": 20,
   "metadata": {
    "id": "QwuA6sRoedM_"
   },
   "outputs": [],
   "source": [
    "def get_sgan_loss(batch, fake_pos, mode='discriminator'):\n",
    "    real = dis_convert(batch)\n",
    "    fake = dis_convert(batch, fake_pos)\n",
    "    pred = discriminator(merge_batch(real, fake)).view(2, -1).T\n",
    "    if mode == 'discriminator':\n",
    "        label = torch.zeros(pred.shape[0]).long()\n",
    "    elif mode == 'generator':\n",
    "        label = torch.ones(pred.shape[0]).long()\n",
    "    else:\n",
    "        raise Exception\n",
    "    return nn.CrossEntropyLoss()(pred, label)"
   ]
  },
  {
   "cell_type": "code",
   "execution_count": 21,
   "metadata": {
    "id": "GuAP1YchedNA"
   },
   "outputs": [],
   "source": [
    "def get_rgan_loss(batch, fake_pos, mode='discriminator'):\n",
    "    real = dis_convert(batch)\n",
    "    fake = dis_convert(batch, fake_pos)\n",
    "    pred = discriminator(merge_batch(real, fake)).view(2, -1).T\n",
    "    real_pred, fake_pred = pred[:,0], pred[:,1]\n",
    "    if mode == 'discriminator':\n",
    "        losses = - F.logsigmoid(real_pred - fake_pred)\n",
    "    elif mode == 'generator':\n",
    "        losses = - F.logsigmoid(fake_pred - real_pred)\n",
    "    else:\n",
    "        raise Exception\n",
    "    return losses.mean()"
   ]
  },
  {
   "cell_type": "code",
   "execution_count": 22,
   "metadata": {
    "id": "KFllQ7BredNA"
   },
   "outputs": [],
   "source": [
    "def get_wgan_loss(batch, fake_pos, mode='discriminator'):\n",
    "    real = dis_convert(batch)\n",
    "    fake = dis_convert(batch, fake_pos)\n",
    "    pred = discriminator(merge_batch(real, fake)).view(2, -1).T\n",
    "    real_pred, fake_pred = pred[:,0], pred[:,1]\n",
    "    if mode == 'discriminator':\n",
    "        losses = fake_pred - real_pred \n",
    "    elif mode == 'generator':\n",
    "        losses = real_pred - fake_pred\n",
    "    else:\n",
    "        raise Exception\n",
    "    return losses.mean()"
   ]
  },
  {
   "cell_type": "code",
   "execution_count": 23,
   "metadata": {
    "id": "r5Kg_tYEedNA"
   },
   "outputs": [],
   "source": [
    "def get_ragan_loss(batch, fake_pos, mode='discriminator'):\n",
    "    real = dis_convert(batch)\n",
    "    fake = dis_convert(batch, fake_pos)\n",
    "    pred = discriminator(merge_batch(real, fake)).view(2, -1).T\n",
    "    real_pred, fake_pred = pred[:,0], pred[:,1]\n",
    "    if mode == 'discriminator':\n",
    "        losses = - F.logsigmoid(real_pred - fake_pred.mean()) - F.logsigmoid(real_pred.mean() - fake_pred)\n",
    "    elif mode == 'generator':\n",
    "        losses = - F.logsigmoid(fake_pred - real_pred.mean()) - F.logsigmoid(fake_pred.mean() - real_pred)\n",
    "    else:\n",
    "        raise Exception\n",
    "    return losses.mean()"
   ]
  },
  {
   "cell_type": "code",
   "execution_count": 24,
   "metadata": {},
   "outputs": [],
   "source": [
    "def get_dgdv2_loss(batch, fake_pos, mode='discriminator'):\n",
    "    fake = dis_convert(batch, fake_pos)\n",
    "    pred = discriminator(fake)\n",
    "    if mode == 'discriminator':\n",
    "        gt = get_gt(batch, fake_pos)\n",
    "        loss = criterion(pred, gt)\n",
    "    elif mode == 'generator':\n",
    "        losses = pred.sum(dim=0)\n",
    "#         losses = torch.tensor(config.importance).to(device) * losses #/ losses.detach()\n",
    "        loss = losses.sum()\n",
    "    else:\n",
    "        raise Exception\n",
    "    return -loss"
   ]
  },
  {
   "cell_type": "code",
   "execution_count": 25,
   "metadata": {
    "id": "3IE_84f-edNB"
   },
   "outputs": [],
   "source": [
    "def get_gan_loss(batch, fake_pos, mode='discriminator'):\n",
    "    return {\"sgan\": get_sgan_loss,\n",
    "            \"wgan\": get_wgan_loss,\n",
    "            \"rgan\": get_rgan_loss,\n",
    "            \"ragan\": get_ragan_loss,\n",
    "            \"dgdv2\": get_dgdv2_loss}[config.gan_flavor](batch, fake_pos, mode)"
   ]
  },
  {
   "cell_type": "code",
   "execution_count": 26,
   "metadata": {
    "colab": {
     "base_uri": "https://localhost:8080/",
     "height": 80
    },
    "id": "2NjekXgkedNB",
    "outputId": "d0ca2d2c-8af7-40af-b197-7974e566b064",
    "tags": []
   },
   "outputs": [
    {
     "data": {
      "application/vnd.jupyter.widget-view+json": {
       "model_id": "72a0a50a4e3a48f188f66d4ccafd6f01",
       "version_major": 2,
       "version_minor": 0
      },
      "text/plain": [
       "Tab(children=(VBox(children=(Wrapper(), Hud())), HBox(children=(Output(),), layout=Layout(height='500px', over…"
      ]
     },
     "metadata": {},
     "output_type": "display_data"
    },
    {
     "ename": "KeyboardInterrupt",
     "evalue": "",
     "output_type": "error",
     "traceback": [
      "\u001b[0;31m---------------------------------------------------------------------------\u001b[0m",
      "\u001b[0;31mKeyboardInterrupt\u001b[0m                         Traceback (most recent call last)",
      "\u001b[0;32m/tmp/slurmtmp.5513400/ipykernel_140123/3144612910.py\u001b[0m in \u001b[0;36m<module>\u001b[0;34m\u001b[0m\n\u001b[1;32m    136\u001b[0m     \u001b[0;32mif\u001b[0m \u001b[0mconfig\u001b[0m\u001b[0;34m.\u001b[0m\u001b[0malternate\u001b[0m \u001b[0;34m==\u001b[0m \u001b[0;34m'epoch'\u001b[0m\u001b[0;34m:\u001b[0m\u001b[0;34m\u001b[0m\u001b[0;34m\u001b[0m\u001b[0m\n\u001b[1;32m    137\u001b[0m         \u001b[0;32mfor\u001b[0m \u001b[0mbatch\u001b[0m \u001b[0;32min\u001b[0m \u001b[0mtrain_loader\u001b[0m\u001b[0;34m:\u001b[0m\u001b[0;34m\u001b[0m\u001b[0;34m\u001b[0m\u001b[0m\n\u001b[0;32m--> 138\u001b[0;31m             \u001b[0mtrain_gen\u001b[0m\u001b[0;34m(\u001b[0m\u001b[0mbatch\u001b[0m\u001b[0;34m,\u001b[0m \u001b[0mepoch\u001b[0m\u001b[0;34m)\u001b[0m\u001b[0;34m\u001b[0m\u001b[0;34m\u001b[0m\u001b[0m\n\u001b[0m\u001b[1;32m    139\u001b[0m \u001b[0;34m\u001b[0m\u001b[0m\n\u001b[1;32m    140\u001b[0m \u001b[0;31m#     discriminator_scheduler.step()\u001b[0m\u001b[0;34m\u001b[0m\u001b[0;34m\u001b[0m\u001b[0m\n",
      "\u001b[0;32m/tmp/slurmtmp.5513400/ipykernel_140123/3144612910.py\u001b[0m in \u001b[0;36mtrain_gen\u001b[0;34m(batch, epoch)\u001b[0m\n\u001b[1;32m     32\u001b[0m     \u001b[0;31m#train generator\u001b[0m\u001b[0;34m\u001b[0m\u001b[0;34m\u001b[0m\u001b[0m\n\u001b[1;32m     33\u001b[0m     \u001b[0mgenerator_loss\u001b[0m\u001b[0;34m.\u001b[0m\u001b[0mbackward\u001b[0m\u001b[0;34m(\u001b[0m\u001b[0;34m)\u001b[0m\u001b[0;34m\u001b[0m\u001b[0;34m\u001b[0m\u001b[0m\n\u001b[0;32m---> 34\u001b[0;31m     \u001b[0mgenerator_optimizer\u001b[0m\u001b[0;34m.\u001b[0m\u001b[0mstep\u001b[0m\u001b[0;34m(\u001b[0m\u001b[0;34m)\u001b[0m\u001b[0;34m\u001b[0m\u001b[0;34m\u001b[0m\u001b[0m\n\u001b[0m\u001b[1;32m     35\u001b[0m \u001b[0;34m\u001b[0m\u001b[0m\n\u001b[1;32m     36\u001b[0m     \u001b[0;32mwith\u001b[0m \u001b[0mtorch\u001b[0m\u001b[0;34m.\u001b[0m\u001b[0mno_grad\u001b[0m\u001b[0;34m(\u001b[0m\u001b[0;34m)\u001b[0m\u001b[0;34m:\u001b[0m\u001b[0;34m\u001b[0m\u001b[0;34m\u001b[0m\u001b[0m\n",
      "\u001b[0;32m~/.conda/envs/deepgd/lib/python3.9/site-packages/torch/optim/lr_scheduler.py\u001b[0m in \u001b[0;36mwrapper\u001b[0;34m(*args, **kwargs)\u001b[0m\n\u001b[1;32m     63\u001b[0m                 \u001b[0minstance\u001b[0m\u001b[0;34m.\u001b[0m\u001b[0m_step_count\u001b[0m \u001b[0;34m+=\u001b[0m \u001b[0;36m1\u001b[0m\u001b[0;34m\u001b[0m\u001b[0;34m\u001b[0m\u001b[0m\n\u001b[1;32m     64\u001b[0m                 \u001b[0mwrapped\u001b[0m \u001b[0;34m=\u001b[0m \u001b[0mfunc\u001b[0m\u001b[0;34m.\u001b[0m\u001b[0m__get__\u001b[0m\u001b[0;34m(\u001b[0m\u001b[0minstance\u001b[0m\u001b[0;34m,\u001b[0m \u001b[0mcls\u001b[0m\u001b[0;34m)\u001b[0m\u001b[0;34m\u001b[0m\u001b[0;34m\u001b[0m\u001b[0m\n\u001b[0;32m---> 65\u001b[0;31m                 \u001b[0;32mreturn\u001b[0m \u001b[0mwrapped\u001b[0m\u001b[0;34m(\u001b[0m\u001b[0;34m*\u001b[0m\u001b[0margs\u001b[0m\u001b[0;34m,\u001b[0m \u001b[0;34m**\u001b[0m\u001b[0mkwargs\u001b[0m\u001b[0;34m)\u001b[0m\u001b[0;34m\u001b[0m\u001b[0;34m\u001b[0m\u001b[0m\n\u001b[0m\u001b[1;32m     66\u001b[0m \u001b[0;34m\u001b[0m\u001b[0m\n\u001b[1;32m     67\u001b[0m             \u001b[0;31m# Note that the returned function here is no longer a bound method,\u001b[0m\u001b[0;34m\u001b[0m\u001b[0;34m\u001b[0m\u001b[0m\n",
      "\u001b[0;32m~/.conda/envs/deepgd/lib/python3.9/site-packages/torch/optim/optimizer.py\u001b[0m in \u001b[0;36mwrapper\u001b[0;34m(*args, **kwargs)\u001b[0m\n\u001b[1;32m     86\u001b[0m                 \u001b[0mprofile_name\u001b[0m \u001b[0;34m=\u001b[0m \u001b[0;34m\"Optimizer.step#{}.step\"\u001b[0m\u001b[0;34m.\u001b[0m\u001b[0mformat\u001b[0m\u001b[0;34m(\u001b[0m\u001b[0mobj\u001b[0m\u001b[0;34m.\u001b[0m\u001b[0m__class__\u001b[0m\u001b[0;34m.\u001b[0m\u001b[0m__name__\u001b[0m\u001b[0;34m)\u001b[0m\u001b[0;34m\u001b[0m\u001b[0;34m\u001b[0m\u001b[0m\n\u001b[1;32m     87\u001b[0m                 \u001b[0;32mwith\u001b[0m \u001b[0mtorch\u001b[0m\u001b[0;34m.\u001b[0m\u001b[0mautograd\u001b[0m\u001b[0;34m.\u001b[0m\u001b[0mprofiler\u001b[0m\u001b[0;34m.\u001b[0m\u001b[0mrecord_function\u001b[0m\u001b[0;34m(\u001b[0m\u001b[0mprofile_name\u001b[0m\u001b[0;34m)\u001b[0m\u001b[0;34m:\u001b[0m\u001b[0;34m\u001b[0m\u001b[0;34m\u001b[0m\u001b[0m\n\u001b[0;32m---> 88\u001b[0;31m                     \u001b[0;32mreturn\u001b[0m \u001b[0mfunc\u001b[0m\u001b[0;34m(\u001b[0m\u001b[0;34m*\u001b[0m\u001b[0margs\u001b[0m\u001b[0;34m,\u001b[0m \u001b[0;34m**\u001b[0m\u001b[0mkwargs\u001b[0m\u001b[0;34m)\u001b[0m\u001b[0;34m\u001b[0m\u001b[0;34m\u001b[0m\u001b[0m\n\u001b[0m\u001b[1;32m     89\u001b[0m             \u001b[0;32mreturn\u001b[0m \u001b[0mwrapper\u001b[0m\u001b[0;34m\u001b[0m\u001b[0;34m\u001b[0m\u001b[0m\n\u001b[1;32m     90\u001b[0m \u001b[0;34m\u001b[0m\u001b[0m\n",
      "\u001b[0;32m~/.conda/envs/deepgd/lib/python3.9/site-packages/torch/autograd/grad_mode.py\u001b[0m in \u001b[0;36mdecorate_context\u001b[0;34m(*args, **kwargs)\u001b[0m\n\u001b[1;32m     26\u001b[0m         \u001b[0;32mdef\u001b[0m \u001b[0mdecorate_context\u001b[0m\u001b[0;34m(\u001b[0m\u001b[0;34m*\u001b[0m\u001b[0margs\u001b[0m\u001b[0;34m,\u001b[0m \u001b[0;34m**\u001b[0m\u001b[0mkwargs\u001b[0m\u001b[0;34m)\u001b[0m\u001b[0;34m:\u001b[0m\u001b[0;34m\u001b[0m\u001b[0;34m\u001b[0m\u001b[0m\n\u001b[1;32m     27\u001b[0m             \u001b[0;32mwith\u001b[0m \u001b[0mself\u001b[0m\u001b[0;34m.\u001b[0m\u001b[0m__class__\u001b[0m\u001b[0;34m(\u001b[0m\u001b[0;34m)\u001b[0m\u001b[0;34m:\u001b[0m\u001b[0;34m\u001b[0m\u001b[0;34m\u001b[0m\u001b[0m\n\u001b[0;32m---> 28\u001b[0;31m                 \u001b[0;32mreturn\u001b[0m \u001b[0mfunc\u001b[0m\u001b[0;34m(\u001b[0m\u001b[0;34m*\u001b[0m\u001b[0margs\u001b[0m\u001b[0;34m,\u001b[0m \u001b[0;34m**\u001b[0m\u001b[0mkwargs\u001b[0m\u001b[0;34m)\u001b[0m\u001b[0;34m\u001b[0m\u001b[0;34m\u001b[0m\u001b[0m\n\u001b[0m\u001b[1;32m     29\u001b[0m         \u001b[0;32mreturn\u001b[0m \u001b[0mcast\u001b[0m\u001b[0;34m(\u001b[0m\u001b[0mF\u001b[0m\u001b[0;34m,\u001b[0m \u001b[0mdecorate_context\u001b[0m\u001b[0;34m)\u001b[0m\u001b[0;34m\u001b[0m\u001b[0;34m\u001b[0m\u001b[0m\n\u001b[1;32m     30\u001b[0m \u001b[0;34m\u001b[0m\u001b[0m\n",
      "\u001b[0;32m~/.conda/envs/deepgd/lib/python3.9/site-packages/torch/optim/adamw.py\u001b[0m in \u001b[0;36mstep\u001b[0;34m(self, closure)\u001b[0m\n\u001b[1;32m    108\u001b[0m                 \u001b[0mstate_steps\u001b[0m\u001b[0;34m.\u001b[0m\u001b[0mappend\u001b[0m\u001b[0;34m(\u001b[0m\u001b[0mstate\u001b[0m\u001b[0;34m[\u001b[0m\u001b[0;34m'step'\u001b[0m\u001b[0;34m]\u001b[0m\u001b[0;34m)\u001b[0m\u001b[0;34m\u001b[0m\u001b[0;34m\u001b[0m\u001b[0m\n\u001b[1;32m    109\u001b[0m \u001b[0;34m\u001b[0m\u001b[0m\n\u001b[0;32m--> 110\u001b[0;31m             F.adamw(params_with_grad,\n\u001b[0m\u001b[1;32m    111\u001b[0m                     \u001b[0mgrads\u001b[0m\u001b[0;34m,\u001b[0m\u001b[0;34m\u001b[0m\u001b[0;34m\u001b[0m\u001b[0m\n\u001b[1;32m    112\u001b[0m                     \u001b[0mexp_avgs\u001b[0m\u001b[0;34m,\u001b[0m\u001b[0;34m\u001b[0m\u001b[0;34m\u001b[0m\u001b[0m\n",
      "\u001b[0;32m~/.conda/envs/deepgd/lib/python3.9/site-packages/torch/optim/_functional.py\u001b[0m in \u001b[0;36madamw\u001b[0;34m(params, grads, exp_avgs, exp_avg_sqs, max_exp_avg_sqs, state_steps, amsgrad, beta1, beta2, lr, weight_decay, eps)\u001b[0m\n\u001b[1;32m    129\u001b[0m \u001b[0;34m\u001b[0m\u001b[0m\n\u001b[1;32m    130\u001b[0m         \u001b[0;31m# Decay the first and second moment running average coefficient\u001b[0m\u001b[0;34m\u001b[0m\u001b[0;34m\u001b[0m\u001b[0m\n\u001b[0;32m--> 131\u001b[0;31m         \u001b[0mexp_avg\u001b[0m\u001b[0;34m.\u001b[0m\u001b[0mmul_\u001b[0m\u001b[0;34m(\u001b[0m\u001b[0mbeta1\u001b[0m\u001b[0;34m)\u001b[0m\u001b[0;34m.\u001b[0m\u001b[0madd_\u001b[0m\u001b[0;34m(\u001b[0m\u001b[0mgrad\u001b[0m\u001b[0;34m,\u001b[0m \u001b[0malpha\u001b[0m\u001b[0;34m=\u001b[0m\u001b[0;36m1\u001b[0m \u001b[0;34m-\u001b[0m \u001b[0mbeta1\u001b[0m\u001b[0;34m)\u001b[0m\u001b[0;34m\u001b[0m\u001b[0;34m\u001b[0m\u001b[0m\n\u001b[0m\u001b[1;32m    132\u001b[0m         \u001b[0mexp_avg_sq\u001b[0m\u001b[0;34m.\u001b[0m\u001b[0mmul_\u001b[0m\u001b[0;34m(\u001b[0m\u001b[0mbeta2\u001b[0m\u001b[0;34m)\u001b[0m\u001b[0;34m.\u001b[0m\u001b[0maddcmul_\u001b[0m\u001b[0;34m(\u001b[0m\u001b[0mgrad\u001b[0m\u001b[0;34m,\u001b[0m \u001b[0mgrad\u001b[0m\u001b[0;34m,\u001b[0m \u001b[0mvalue\u001b[0m\u001b[0;34m=\u001b[0m\u001b[0;36m1\u001b[0m \u001b[0;34m-\u001b[0m \u001b[0mbeta2\u001b[0m\u001b[0;34m)\u001b[0m\u001b[0;34m\u001b[0m\u001b[0;34m\u001b[0m\u001b[0m\n\u001b[1;32m    133\u001b[0m         \u001b[0;32mif\u001b[0m \u001b[0mamsgrad\u001b[0m\u001b[0;34m:\u001b[0m\u001b[0;34m\u001b[0m\u001b[0;34m\u001b[0m\u001b[0m\n",
      "\u001b[0;31mKeyboardInterrupt\u001b[0m: "
     ]
    }
   ],
   "source": [
    "# def train_dis(batch, epoch):\n",
    "#     generator.requires_grad_(False)\n",
    "#     discriminator.zero_grad()\n",
    "#     generator_output = generator(batch)\n",
    "#     if config.discriminator.noise.std > 0:\n",
    "#         generator_output = generator_output + torch.randn_like(generator_output) * config.discriminator.noise.std * config.discriminator.noise.decay ** epoch\n",
    "#     discriminator_loss = get_gan_loss(batch, generator_output, mode='discriminator')\n",
    "    \n",
    "#     # train discriminator\n",
    "#     discriminator_loss.backward()\n",
    "#     discriminator_optimizer.step()\n",
    "\n",
    "#     # gradient penalty\n",
    "#     if config.gp_weight > 0:\n",
    "#         discriminator.zero_grad()\n",
    "#         gp_loss = get_gp_loss(batch, generator_output, config.gp_weight)\n",
    "#         gp_loss.backward()\n",
    "#         discriminator_optimizer.step()\n",
    "\n",
    "#     hud['dis_loss'] = format(discriminator_loss.item(), '.2e')\n",
    "#     pbar().update()\n",
    "\n",
    "def train_gen(batch, epoch):\n",
    "    generator.requires_grad_(True)\n",
    "    generator.zero_grad()\n",
    "    discriminator.zero_grad()\n",
    "    generator_output = generator(batch)\n",
    "    if config.discriminator.noise.std > 0:\n",
    "        generator_output = generator_output + torch.randn_like(generator_output) * config.discriminator.noise.std * config.discriminator.noise.decay ** epoch\n",
    "    generator_loss = get_gan_loss(batch, generator_output, mode='generator') \n",
    "    \n",
    "    #train generator\n",
    "    generator_loss.backward()\n",
    "    generator_optimizer.step()\n",
    "\n",
    "    with torch.no_grad():\n",
    "        dis_batch = dis_convert(batch, generator_output)\n",
    "        stress = stress_criterion(dis_batch).mean()\n",
    "        critic = discriminator(dis_batch).mean()\n",
    "    hud.append({'gen_loss': format(generator_loss.item(), '.2e'),\n",
    "                'stress': format(stress.item(), '.2e'),\n",
    "                'critic': format(critic.item(), '.2e')})\n",
    "    pbar().update()\n",
    "\n",
    "def cuda_memsafe_map(fn, *iterables, summary=False):\n",
    "    total, failed = 0, 0\n",
    "    iterator = zip(*iterables)\n",
    "    items = None\n",
    "    while True:\n",
    "        try:\n",
    "            items = next(iterator)\n",
    "            yield fn(*items)\n",
    "        except StopIteration:\n",
    "            if summary:\n",
    "                print(f'Iteration finished. {failed} out of {total} failed!')\n",
    "            break\n",
    "#         except RuntimeError:\n",
    "#             print('CUDA memory overflow! Skip batch...')\n",
    "#             del items\n",
    "#             failed += 1\n",
    "        torch.cuda.empty_cache()\n",
    "        total += 1\n",
    "    \n",
    "def validate(model, data_loader, criterion=val_criterion):\n",
    "    def val_one_batch(batch):\n",
    "        batch = preprocess_batch(model, batch)\n",
    "        pred = CanonicalizationByStress()(model(batch), batch)\n",
    "        gt = CanonicalizationByStress()(batch.gt_pos, batch)\n",
    "        loss = criterion(pred, batch)\n",
    "        gt_loss = criterion(gt, batch)\n",
    "        spc = (loss - gt_loss) / torch.maximum(torch.maximum(loss, gt_loss), torch.ones_like(loss)*1e-5)\n",
    "        return loss.mean().item(), spc.mean().item()\n",
    "    loss_all, spc_all = zip(*cuda_memsafe_map(val_one_batch, data_loader))\n",
    "    return np.mean(loss_all), np.mean(spc_all)\n",
    "\n",
    "def log(msg):\n",
    "    msg = f\"[{epoch:03}] {msg}\"\n",
    "    print(msg, file=open(paths.log(), \"a\"))\n",
    "    with log_out: \n",
    "        print(msg)\n",
    "\n",
    "print(f\"{'='*10} {config.link} {'='*10}\", file=open(paths.log(), \"a\"))\n",
    "hud = Hud()\n",
    "pbar = Wrapper(tqdm, total=len(train_loader), smoothing=0)\n",
    "plot_out = Output()\n",
    "log_out = Output()\n",
    "tabs = {\"status\": VBox([pbar, hud]), \n",
    "        \"plot\": HBox([plot_out], layout=Layout(height='500px', overflow_y='auto')),\n",
    "        \"log\": HBox([log_out], layout=Layout(height='500px', overflow_y='auto'))}\n",
    "tab_bar = Tab(children=list(tabs.values()))\n",
    "[tab_bar.set_title(i, name) for i, name in enumerate(tabs)]\n",
    "display(tab_bar)\n",
    "while True:\n",
    "    if epoch % config.log_interval == 0:\n",
    "        torch.save(generator.state_dict(), f\"{paths.checkpoints()}/gen_epoch_{epoch}.pt\")\n",
    "        torch.save(generator_optimizer.state_dict(), f\"{paths.checkpoints()}/gen_optim_epoch_{epoch}.pt\")\n",
    "#         torch.save(discriminator.state_dict(), f\"{paths.checkpoints()}/dis_epoch_{epoch}.pt\")\n",
    "#         torch.save(discriminator_optimizer.state_dict(), f\"{paths.checkpoints()}/dis_optim_epoch_{epoch}.pt\")\n",
    "        generator.eval()\n",
    "        with torch.no_grad():\n",
    "            val_stress, val_stress_spc = validate(model=generator, data_loader=val_loader)\n",
    "            val_xing, val_xing_spc = validate(model=generator, data_loader=val_loader, criterion=xing_criterion)\n",
    "            with plot_out:\n",
    "                fig = plt.figure()\n",
    "                graph_vis(G_list[11100], generator(make_batch(data_list[11100]).to(device)).cpu())\n",
    "                plt.show()\n",
    "#         for i, fn in enumerate(loss_fns):\n",
    "#             tensorboard.add_scalars(type(fn).__name__, {'train': train_loss_comp[i].item(), \n",
    "#                                                   'validation': val_loss_comp[i].item()}, epoch)\n",
    "        hud.append({\n",
    "            'val_stress': format(val_stress, '.2f'),\n",
    "            'val_stress_spc': format(val_stress_spc, '.2%'),\n",
    "            'val_xing': format(val_xing, '.2f'),\n",
    "            'val_xing_spc': format(val_xing_spc, '.2%'),\n",
    "        })\n",
    "        log(msg := f\"stress={hud.data['val_stress']}({hud.data['val_stress_spc']}) xing={hud.data['val_xing']}({hud.data['val_xing_spc']})\")\n",
    "    \n",
    "        tensorboard.add_scalars('Stress', {'Value': val_stress, 'SPC': val_stress_spc}, epoch)\n",
    "        tensorboard.add_scalars('Xing', {'Value': val_xing, 'SPC': val_xing_spc}, epoch)\n",
    "        tensorboard.add_figure('Rome/11100', fig, epoch)\n",
    "        tensorboard.add_text('Log', msg, epoch)\n",
    "        \n",
    "    # handle.update(tab_bar)\n",
    "    pbar().reset()\n",
    "    pbar().set_description(desc=f\"[epoch {epoch}/{config.epoch.end}]\")\n",
    "    hud(title=f\"epoch {epoch}\")\n",
    "    generator.train()\n",
    "#     discriminator.train()\n",
    "    # proper: proper layout\n",
    "#     for _ in range(config.discriminator.repeat):\n",
    "#         for batch in train_loader:\n",
    "#             train_dis(batch, epoch)\n",
    "#             if config.alternate == 'iteration':\n",
    "#                 train_gen(batch, epoch)\n",
    "\n",
    "    if config.alternate == 'epoch':\n",
    "        for batch in train_loader:\n",
    "            train_gen(batch, epoch)\n",
    "\n",
    "#     discriminator_scheduler.step()\n",
    "    generator_scheduler.step()\n",
    "\n",
    "    if epoch == config.epoch.end:\n",
    "        break\n",
    "    epoch += 1"
   ]
  },
  {
   "cell_type": "code",
   "execution_count": null,
   "metadata": {},
   "outputs": [],
   "source": [
    "data = Data()"
   ]
  },
  {
   "cell_type": "code",
   "execution_count": null,
   "metadata": {},
   "outputs": [],
   "source": [
    "data.n = torch.tensor(1)"
   ]
  },
  {
   "cell_type": "code",
   "execution_count": null,
   "metadata": {},
   "outputs": [],
   "source": [
    "Batch.from_data_list([data]).to_data_list()"
   ]
  },
  {
   "cell_type": "code",
   "execution_count": null,
   "metadata": {},
   "outputs": [],
   "source": []
  },
  {
   "cell_type": "code",
   "execution_count": null,
   "metadata": {},
   "outputs": [],
   "source": [
    "import torch_geometric as pyg"
   ]
  },
  {
   "cell_type": "code",
   "execution_count": null,
   "metadata": {},
   "outputs": [],
   "source": [
    "isinstance(pyg.data.Batch.from_data_list([pyg.data.Data()]), pyg.data.Batch)"
   ]
  },
  {
   "cell_type": "code",
   "execution_count": null,
   "metadata": {},
   "outputs": [],
   "source": [
    "type(pyg.data.Batch.from_data_list([pyg.data.Data()])) is pyg.data.Batch"
   ]
  },
  {
   "cell_type": "code",
   "execution_count": null,
   "metadata": {},
   "outputs": [],
   "source": []
  },
  {
   "cell_type": "code",
   "execution_count": null,
   "metadata": {},
   "outputs": [],
   "source": [
    "preprocess_batch(generator, data_list[0])"
   ]
  },
  {
   "cell_type": "markdown",
   "metadata": {
    "id": "0qYK_X_hrq9o"
   },
   "source": [
    "# Testdata_list"
   ]
  },
  {
   "cell_type": "code",
   "execution_count": null,
   "metadata": {
    "id": "XEvmAtNjWhcY"
   },
   "outputs": [],
   "source": [
    "test_epoch = -1\n",
    "\n",
    "test_generator = Generator(**config.generator.params[...]).to(device)\n",
    "test_ckpt_epoch = get_ckpt_epoch(paths.checkpoints(), test_epoch)\n",
    "test_ckpt_file = f\"{paths.checkpoints()}/gen_epoch_{test_ckpt_epoch}.pt\"\n",
    "print(f\"Loading from {test_ckpt_file}...\")\n",
    "test_generator.load_state_dict(torch.load(test_ckpt_file, map_location=torch.device(device)))"
   ]
  },
  {
   "cell_type": "code",
   "execution_count": null,
   "metadata": {
    "id": "ZubmSTcYrq9o"
   },
   "outputs": [],
   "source": [
    "rotate = RotateByPrincipalComponents()\n",
    "def test_callback(*, idx, pred, metrics):\n",
    "    # graph_vis(G_list[idx], pred, file_name=f\"{paths.visualization()}/{idx}_{metrics['stress']:.2f}_{metrics['resolution_score']:.2f}.png\")\n",
    "    pred = rotate(torch.tensor(pred), data_list[idx])\n",
    "    graph_vis(G_list[idx], pred)\n",
    "    plt.title(f\"[pred] idx: {idx}, stress: {metrics['stress']:.2f}({metrics['stress_spc']:.2%}), xing: {metrics['xing']:.2f}({metrics['xing_spc']:.2%})\")\n",
    "    plt.show()\n",
    "    gt_pos = rotate(data_list[idx].gt_pos, data_list[idx])\n",
    "    graph_vis(G_list[idx], gt_pos, node_color='orange')\n",
    "    plt.title(f\"[gt] idx: {idx}, stress: {load_ground_truth(idx, 'stress')}, xing: {load_ground_truth(idx, 'xing')}\")\n",
    "    plt.show()\n",
    "    \n",
    "test_metrics = test(model=test_generator, \n",
    "                    criteria_list=[], \n",
    "                    dataset=data_list, \n",
    "                    idx_range=range(10000, 11000), \n",
    "                    callback=test_callback,\n",
    "                    gt_file='gt.csv')\n",
    "pickle.dump(test_metrics, open(paths.metrics(\"test\"), \"wb\"))"
   ]
  },
  {
   "cell_type": "code",
   "execution_count": null,
   "metadata": {
    "id": "t2rFXIr_PsrJ"
   },
   "outputs": [],
   "source": [
    "metrics = test_metrics\n",
    "print('stress:', metrics['stress'].mean())\n",
    "print('stress_spc:', metrics['stress_spc'].mean())\n",
    "print('xing:', metrics['xing'].mean())\n",
    "print('xing_spc:', metrics['xing_spc'].mean())\n",
    "print('l1_angle:', metrics['l1_angle'].mean())\n",
    "print('l1_angle_spc:', metrics['l1_angle_spc'].mean())\n",
    "print('edge:', metrics['edge'].mean())\n",
    "print('edge_spc:', metrics['edge_spc'].mean())\n",
    "print('ring:', metrics['ring'].mean())\n",
    "print('ring_spc:', metrics['ring_spc'].mean())\n",
    "print('tsne:', metrics['tsne'].mean())\n",
    "print('tsne_spc:', metrics['tsne_spc'].mean())\n",
    "print('reso_score:', metrics['resolution_score'].mean())\n",
    "print('min_angle:', metrics['min_angle'].mean())\n",
    "pd.DataFrame(map(lambda m: f\"{metrics[m].mean().item():.4f}\", list(metrics.keys())[:-1])).T"
   ]
  },
  {
   "cell_type": "markdown",
   "metadata": {
    "id": "L5S1HWnHOWIl"
   },
   "source": [
    "# Large Graph"
   ]
  },
  {
   "cell_type": "code",
   "execution_count": null,
   "metadata": {
    "id": "_pefPcV1OZdD"
   },
   "outputs": [],
   "source": [
    "scalability = pd.read_csv(f\"/__artifacts__/data/scalability.csv\", index_col=\"index\")\n",
    "scalability"
   ]
  },
  {
   "cell_type": "code",
   "execution_count": null,
   "metadata": {
    "id": "oMhWAsdvPnTX"
   },
   "outputs": [],
   "source": [
    "rescale = CanonicalizationByStress()\n",
    "stressfn = Stress()\n",
    "rotate = RotateByPrincipalComponents()"
   ]
  },
  {
   "cell_type": "code",
   "execution_count": null,
   "metadata": {
    "id": "LR83OcAaPID5"
   },
   "outputs": [],
   "source": [
    "stress_list = []\n",
    "spc_list = []\n",
    "pmds_list = np.load(\"layouts/new_large_graph/pmds.npy\", allow_pickle=True)\n",
    "gviz_list = np.load(\"layouts/new_large_graph/gviz.npy\", allow_pickle=True)\n",
    "with torch.no_grad():\n",
    "    for idx, col in tqdm(scalability.iterrows(), total=len(scalability)):\n",
    "        # if idx not in [406, 516]: continue\n",
    "        torch.cuda.empty_cache()\n",
    "        G = load_mtx(col['file'])\n",
    "        G.remove_edges_from(nx.selfloop_edges(G))\n",
    "        data = generate_data_list(G, \n",
    "                                sparse=data_config.sparse, \n",
    "                                pivot_mode=data_config.pivot,\n",
    "                                init_mode=data_config.init,\n",
    "                                edge_index=data_config.edge.index,\n",
    "                                edge_attr=data_config.edge.attr,\n",
    "                                pmds_list=pmds_list[idx],\n",
    "                                gviz_list=gviz_list[idx],\n",
    "                                device=device)\n",
    "        batch = Batch.from_data_list([data]).to(device)\n",
    "        # generator.train()\n",
    "        # generator(batch)\n",
    "        generator.eval()\n",
    "        pred = generator(batch)\n",
    "        pos = rotate(rescale(pred, batch), batch)\n",
    "        gt = rotate(rescale(batch.gt_pos, batch), batch)\n",
    "        stress = stressfn(pos, batch).item()\n",
    "        gt_stress = stressfn(gt, batch).item()\n",
    "        spc = (stress - gt_stress) / np.maximum(stress, gt_stress)\n",
    "        stress_list.append(stress)\n",
    "        spc_list.append(spc)\n",
    "\n",
    "        np.save(f\"/__artifacts__/gan_result/data/scalability_{idx}.npy\", pos.cpu().numpy())\n",
    "        graph_attr = dict(node_size=1, \n",
    "                        with_labels=False, \n",
    "                        labels=dict(zip(list(G.nodes), map(lambda n: n if type(n) is int else n[1:], list(G.nodes)))),\n",
    "                        font_color=\"white\", \n",
    "                        font_weight=\"bold\",\n",
    "                        font_size=12,\n",
    "                        width=0.1)\n",
    "\n",
    "        # gt_pos = pickle.load(open(f\"/__artifacts__/data/scalability_{idx}_gt.pkl\", \"rb\"))\n",
    "\n",
    "        plt.figure(figsize=[12, 9])\n",
    "        nx.draw(G, pos=gt.cpu().numpy(), node_color='orange', **graph_attr)\n",
    "        plt.title(f\"neato: large_{idx}\")\n",
    "        plt.axis(\"equal\")\n",
    "        plt.savefig(f\"/__artifacts__/gan_result/output/{idx}_{col['name']}_{col['n']}_{spc}_nx.png\", dpi=300)\n",
    "        plt.show()\n",
    "\n",
    "        plt.figure(figsize=[12, 9])\n",
    "        graph_vis(G, pos.cpu().numpy(), **graph_attr)\n",
    "        plt.title(f\"dgd: large_{idx}, spc={spc:.2%}\")\n",
    "        plt.axis(\"equal\")\n",
    "        plt.savefig(f\"/__artifacts__/gan_result/output/{idx}_{col['name']}_{col['n']}_{spc}_dgd.png\", dpi=300)\n",
    "        plt.show()"
   ]
  },
  {
   "cell_type": "code",
   "execution_count": null,
   "metadata": {
    "id": "gRXTewkYeuq1"
   },
   "outputs": [],
   "source": []
  }
 ],
 "metadata": {
  "accelerator": "GPU",
  "colab": {
   "collapsed_sections": [
    "w_p3OD0woiSM",
    "DR6-vYtr_i_P",
    "innqkwvH_ydD",
    "f-ODE2k8BFV6"
   ],
   "machine_shape": "hm",
   "name": "GAN(gan=rgan,data=best(xing,stress),dis=deep,share=10,embed=6,gp=0).ipynb",
   "provenance": []
  },
  "kernelspec": {
   "display_name": "deepgd [~/.conda/envs/deepgd/]",
   "language": "python",
   "name": "conda_deepgd"
  },
  "language_info": {
   "codemirror_mode": {
    "name": "ipython",
    "version": 3
   },
   "file_extension": ".py",
   "mimetype": "text/x-python",
   "name": "python",
   "nbconvert_exporter": "python",
   "pygments_lexer": "ipython3",
   "version": "3.9.7"
  },
  "widgets": {
   "application/vnd.jupyter.widget-state+json": {
    "state": {
     "0b40deff62524232b36a8a739a4ed98d": {
      "model_module": "@jupyter-widgets/base",
      "model_module_version": "1.2.0",
      "model_name": "LayoutModel",
      "state": {}
     },
     "2f2010a7685043f280a99960d4b781f0": {
      "model_module": "@jupyter-widgets/base",
      "model_module_version": "1.2.0",
      "model_name": "LayoutModel",
      "state": {}
     },
     "324281c02fce4500bf710a9db3135df4": {
      "model_module": "@jupyter-widgets/controls",
      "model_module_version": "1.5.0",
      "model_name": "HBoxModel",
      "state": {
       "children": [
        "IPY_MODEL_5e176f906c234c1ca94561c1d60326e5"
       ],
       "layout": "IPY_MODEL_46cf9454ab46480bb79e8f45c2cd6ad3"
      }
     },
     "3329ca2660fc4d0da853856b91ea1ae8": {
      "model_module": "@jupyter-widgets/base",
      "model_module_version": "1.2.0",
      "model_name": "LayoutModel",
      "state": {}
     },
     "3d8d1dd30597400f9774bc1f844277c4": {
      "model_module": "@jupyter-widgets/output",
      "model_module_version": "1.0.0",
      "model_name": "OutputModel",
      "state": {
       "layout": "IPY_MODEL_ae057066bc1d4d08bf1da2ad17aad867",
       "outputs": [
        {
         "data": {
          "text/html": "<div>\n<style scoped>\n    .dataframe tbody tr th:only-of-type {\n        vertical-align: middle;\n    }\n\n    .dataframe tbody tr th {\n        vertical-align: top;\n    }\n\n    .dataframe thead th {\n        text-align: right;\n    }\n</style>\n<table border=\"1\" class=\"dataframe\">\n  <thead>\n    <tr style=\"text-align: right;\">\n      <th></th>\n      <th>val_stress</th>\n      <th>val_stress_spc</th>\n      <th>val_xing</th>\n      <th>val_xing_spc</th>\n      <th>gen_loss</th>\n      <th>stress</th>\n      <th>critic</th>\n    </tr>\n  </thead>\n  <tbody>\n    <tr>\n      <th>epoch 2935</th>\n      <td>1156.95</td>\n      <td>67.44%</td>\n      <td>142.67</td>\n      <td>83.49%</td>\n      <td>9.05e+04</td>\n      <td>-6.90e+02</td>\n      <td>-7.07e+02</td>\n    </tr>\n  </tbody>\n</table>\n</div>",
          "text/plain": "           val_stress val_stress_spc val_xing val_xing_spc  gen_loss  \\\nepoch 2935    1156.95         67.44%   142.67       83.49%  9.05e+04   \n\n               stress     critic  \nepoch 2935  -6.90e+02  -7.07e+02  "
         },
         "metadata": {},
         "output_type": "display_data"
        }
       ]
      }
     },
     "42e294030628480eba925fbcc72ba797": {
      "model_module": "@jupyter-widgets/controls",
      "model_module_version": "1.5.0",
      "model_name": "ProgressStyleModel",
      "state": {
       "description_width": ""
      }
     },
     "46cf9454ab46480bb79e8f45c2cd6ad3": {
      "model_module": "@jupyter-widgets/base",
      "model_module_version": "1.2.0",
      "model_name": "LayoutModel",
      "state": {
       "height": "500px",
       "overflow_y": "auto"
      }
     },
     "4c5037c8fd124eb78868b654e477cd11": {
      "model_module": "@jupyter-widgets/controls",
      "model_module_version": "1.5.0",
      "model_name": "DescriptionStyleModel",
      "state": {
       "description_width": ""
      }
     },
     "5e176f906c234c1ca94561c1d60326e5": {
      "model_module": "@jupyter-widgets/output",
      "model_module_version": "1.0.0",
      "model_name": "OutputModel",
      "state": {
       "layout": "IPY_MODEL_7921de6ada3e42f29eded268aadbc740",
       "outputs": [
        {
         "data": {
          "image/png": "iVBORw0KGgoAAAANSUhEUgAAAb4AAAEuCAYAAADx63eqAAAAOXRFWHRTb2Z0d2FyZQBNYXRwbG90bGliIHZlcnNpb24zLjQuMywgaHR0cHM6Ly9tYXRwbG90bGliLm9yZy/MnkTPAAAACXBIWXMAAAsTAAALEwEAmpwYAABOHklEQVR4nO3deXhU5dnH8e+ZNclkg5BAgiRsEpaALArKprggagVErbVYlwqKtgpV0VJtpeJSa11Q9K2FqlUQrVVAQEFUDJFdICSELQQIEAJZIIRss573jzhDJplMThZgwtyf6/KqzJyZOeP1vvPjWe77UVRVVRFCCCGChO5834AQQghxLknwCSGECCoSfEIIIYKKBJ8QQoigIsEnhBAiqEjwCSGECCoSfEIIIYKKBJ8QQoigIsEnhBAiqEjwCSGECCoSfEIIIYKKBJ8QQoigIsEnhBAiqEjwCSGECCoSfEIIIYKKBJ8QQoigIsEnhBAiqEjwCSGECCoSfEIIIYKKBJ8QQoigIsEnhBAiqEjwCSGECCoSfEIIIYKKBJ8QQoigIsEnhBAiqEjwCSGECCoSfEIIIYKKBJ8QQoigIsEnhBAiqEjwCSGECCoSfEIIIYKKBJ8QQoigIsEnhBAiqEjwCSGECCoSfEIIIYKKBJ8QQoigIsEnhBAiqEjwCSGECCoSfEIIIYKKBJ8QQoigIsEnhBAiqEjwCSGECCoSfEIIIYKKBJ8QQoigYjjfNyCEEKL5covLmZu2n8XpRym3OrCYDYzvn8DkEV1JirGc79sLKIqqqur5vgkhhBBNt3pPAQ8v2Ird6cLhOvOTbtApGPU63pk4kFHJcefxDgOLBJ8QQrRiucXljJmdRqXdWe81oUY9K6aOkJHfz2SNTwghWrG5afuxO11+r7E7Xcz78cA5uqPAJ8EnhBCt2OL0o17Tm744XCqLtuWdozsKfBJ8QgjRipVbHdqus2m7LhhI8AkhRCtmMWvbnG8xySZ+Nwk+IYRoxcb3T8CgU/xeY9Ap3DKg4zm6o8AnwSeEEK3Y5BFd0Sv+1/iMeh2Thnc5R3cU+CT4hBCiFTPZSqlY9RYGxYXqtHs/6XISatTzzsSBUspQgwSfEEK0UlarlVtvvZVJN15B550LqNrxHWadiqJAiF6lLH0FSx++XIrXa5ECdiGEaIVUVWXSpEmcPHmShQsXYrFYMBqNHD16lDZt2qCqKhaLhVmzZvH444+f79sNKDLiE0KIVmjOnDls2rSJDz/8kL///e/o9XoGDBhAmzZtAFAUheuuu45//vOf5/lOA4+M+IQQopVZuHQV0/+9gsh+11Jpd+GyVWLM28b4nhH8Y+YfPdelp6czcOBAjh8/Tmxs7Hm848AiIz4hhGhFFqZm8MfU05h7X02F3YUKKKZQHEmDWeroy+o9BZ5r+/fvT9u2bXnuuefO3w0HIAk+IYRoJXYeKmDGshwUoxln7bk6nQGrEx5esJXc4nLPw7/85S/59NNPz+2NBjgJPiGEaAVcLhd3v/gfFL3/Diy1G1I/++yzFBUVkZGRcbZvsdWQ4BNCiFbgueeeoziiG6ri/2e7dkPq9u3b07lzZ5599tmzfYuthgSfEEIEuM8//5z33nsPDGZN19duSP3AAw+wcuVKZC9jNQk+IYQIYBkZGUyZMoUvvviiyQ2pp02bhtVqZdmyZWfjFlsdCT4hhAhQRUVFjB8/ntmzZ3PppZc2qSF1bnE5z6/IJvGx//LIWoWUmSt5ZnGm1waYYCN1fEIIEYDsdjvXX389l112GQ8/+Rfmpu3ni215VNicfl8XatSzYuoIkmIsrN5TwMMLtmJ3urwOqzXoFIx6He9MHBiU7cxkxCeEEAHoscceIyQkhNH3/oExs9P4ZPPhBkJPBaeda8wHSIqxkFtczsMLtlJpd9Y5od3hUqm0O+uUPgQLOZlQCCECzLx58/jmm2/434of+OX76VTa/Y/yqimYTSYWffguNw5IYp2tE3any+8r3KUPs8altMyNtxIy1SmEEAFk7dq13HLLLaSlpfHRLhufbD5cZ8RWH70CVyeZWfLnX9NuygdU2Bt+XbjZwI6Z1zf3tlsVmeoUQogAcfjwYW6//XY++OADkpOTWZx+VHPoAThVWJ/v5JVXXqHC5n+051a79CEYSPAJIUQAqKioYPz48UybNo0bb7wRgHJr40Op3ObgnnvuwYCW6dG6pQ/BQIJPCCHOM/fZej179mT69Omex7XW7dVk/vlX/Y4hXcDlP/xqlz4ECwk+IYQ4z1555RX27NnDvHnzUJQzdXpa6vZq0qESdWI3AA+M7EaIyej3eoNOYdLwLk276VYs+Ma4QggRQL766iveeOMNNm7cSGhoqNdzk0d05fOteTgaGLm5mQx6spe9y4nn7yMppi3/d9cg7ntvPaqi9wpUqB5lulTYX1RdzjA3bT+L049SbnVgMRsY3z+BySO6khRjaZkvGkBkV6cQQpwne/bsYcSIESxatIhhw4b5vGb1ngLum7cWdDrQ+R6r1CxIn/vXaQwdOpTf//73pG3bxV0LdqEY6+/xadLr0CnVtX3BUuQuU51CCHEelJSUMHbsWF588cV6Qw/AVJTN0X//jms7h+KyVoDqQnXYweUAVcWkOLlzcCIrpo5gVHIcv/3tb/n3v/8NwF8+TkVn8D/daXO6qHK4gqrIXUZ8QghxFuUWl9eZRhx3STwbPniB3olxvPXWW35f3717dzp06MBzzz3HxIkTqaqqIjo6msLCQp5++mny8/N58803Pde7XC66du3K/PnzmbjoGIop1M+7N8ygU7hzcOIFVeQuIz4hhDhLVu8p8LQbK7M6UIEyq4OPN+ayP/lOxk2ZUe9rc4vL+fVrS7CNfYm8ETN48NsyXANvJ6TdRVx66aWEhITQs2dPcnNzvV6n0+m47777ePrpp1GMIc3+DrXP97sQSPAJIcRZ4K9XpqroUPVGHvk0w+c0ojsw1x4DnTkMFbCrekL6XE3ILbPQX9SPLl26kJSUVCf4AO6++25+/PFHQgzad4T6c6EVuUvwCSHEWTA3bb/mXpk11QxMRe+9mUXRG1H1RjaHXEJCj34kJib6DL7du3djsVi4JMraqHKI+lxoRe4SfEIIcRZoaTfmaxqxOjD9ly+4UKhIvJyYmBhsNhulpaVez7/55ptMnDiR46kLMeqb9zN/IRa5S/AJIcRZoLXdWO1pxOrA9P8aFR2HlA4oilJnunP37t1s3bqVl156iR0bVjPzuovAYUPfxIGfUa+74IrcJfiEEOIs0NpurPY0otbAtKnVP99JSUkcOnTI8/hbb73FAw88QHR0NL/61a/Y/f3nOJb+lXF9YghvZAu0UKOedyYOvOCK2C+siVshhAgQ4/snNHikkK9pRMVpQ9WbGnz/UOOZ4HOP+EpKSvj444/JysoC4P7772f8+PEUHjvGCxMu4bXQUNblFPHreRsA/0PA63rF8cxNvS+40AMZ8QkhxFkxaXgXXE6732tqTyOuWLGCqt1rQPW/xqc67Z7ArBl87733HjfccAMJCQkADBgwgKioKHQ6HaGhoaiqyor/vAmZX/l9/z9cezFz777sggw9kOATQoiz4t+zX8a44QNUuxVDrV9ag06pM41ot9uZOnUqtmP7QNH7fW9FdfHAyG4Anp2dTqeTOXPmMHXqVK9rJ0yYgF6vp6qqiokTJ7Jq1So2vTeTjycNoUf7cK9re7QP5+NJQ5h6TY9mfvvAJlOdQgjRwt58800+/fRTIiIimNS9lNL4S1m0LY9ymwOLycAtAzoyaXgXrxHVO++8gyusLZGjJtHQEbLtDv1AUswE4MyIb9myZcTFxTFkyBCva4cPH86sWbO46qqrSExM5Pvvvyc0NJS4OPhm2pUt/dVbBQk+IYRoQR9//DGvvPIKDzzwAKtWreLxB+5Gp9P5bflVWFjIrFmzMA39DaF6A/itglAxJPTy/MkdfG+++SaPPvponav379+PoihERUXxySefoNPJRJ/06hRCiBayYsUK7rnnHhYuXMgdd9xBamoqvXv3bvB1Dz30EDt27CDvisdwadjYAirv3zuYUclxOJ1OQkJCiI2N5eDBg5hMZ17/ww8/MHbsWDp27EhYWBhbtmxpxre7cEjwCSFEE+UWl/Pat3v5KiMfu0tFVVUMOoWo0hyGR5bw5ot/afA9tm/fznXXXYfD4SDygQ9B0VZwF2rUs2LqCJJiLNVTqpMm8frrr3ue//DDD5k+fToTJkzAZDKxaNEivvzyS/r379/Ur3vBkDGvEEI0weo9BVz3xhqWpB/F/nPJgqIoOFU4Ed6VFbpLWb2noM7rnE4nO3fu5P3332fKlCkMHz6cEydO4HK5UJw2zZ/vbndWXFxMVVUVw4cPB6oPmP3zn//MzJkz+eGHH2jTpg1xcXHcd999vP/++y3z5Vs5WeMTQohGyi0u56H5W7DV12JFUbA5VabM38KHdyZzdM92Nm7cyKZNm9iyZQtxcXEMHjwYs9lMXFwcVVVVLFy4kImvL8XY80pcDdTYwZl2Z5Zdy0hMTKS0tJSqqiruu+8+Dh48yIYNG4iLi6OoqIjOnTvTe8iV3PGXd/n22RVU2JwX/Cnr/shUpxBCNNIzizNZsPGQ/z0ogOpyYd/1PX0qd9C9e3fi4+OJjIzk9OnTHD58mPnz5xMZGUlJSQkOhwNT2wTi7pkNBi3rfNWzoo6PpjBmzBiio6NZt24dF110ER988AGhodXn8N1yyy1cevM9zD8YQqXVBrozpRIX8inr/shUpxBC1JBbXM4zizNJmbmSLjOWkzJzJc8szvQ6Pmhx+tEGQw9A0ekwdL+C9PR01q1bx7p168jIyKCqqopjx47Rt29fFEXhX//6F9HR0Wxd8w2/u8QEGscjJkX1HE/07rvvctVVV7Fw4UJP6AEcK3Pwn/1GKu1Or9CDC/uUdX9kxCeEED9bvaeAhxdsxe50ebUaqz0y6jJjuabgg+pR2YEXb/J6LC8vj0suuYTp06fzzTffMGjQIEpKSvjXv/7F6NGjCRn1IBmnTKDUPzYx6BTMR37il11V3njjDTp06MCuXbvqXNftjj9Bt2E4/dzwhXjKuj8y4hNCCPwfHOseGT3w4SZuuuMenNYKze/r6yy7GTNmMGnSJObNm8eDDz7Iv//9b2bOnElWVhY7duzg1XuvRnX4b3emV1SOpy5kzpw5vPHGG9jtvq93XDTQb+i5v9+Fdsq6PxJ8QgiBxoNjHS6OWHoQXrRTw/aT6jbQtZtQb9iwge+++47u3bvToUMHvv76a6ZMmUJCQgKzZ8/moYceIjZUofTr135ud+b9SarTTohRh279+7hKj7NmzRruuOMOjhw5gsvlff9OpxOMZi1f/4I7Zd0fCT4hhEDbwbHo9Jxq25NP//oA5toNOH0wGbybULtcLqZOncoLL7zAa6+9xl133cVXX33Fk08+SVFREZ999hkPPvggWVlZxDkK6Z79KXcOTiTcbEBRQOe0Yjy0mcgf3yI7dTHr16+nV69ehISEEB0dzbFjx7w+/+TJk2C3avr+F9op6/4EzzcVQgg/tJ6DpxhD6Nslnr9cfZwZXx0AvRHFR9G5Sa/jn3cN8ioVmD9/PgChoaFERESwdOlSZsyYQVRUFC+88AITJkygUm/hH6lHsN78IjlGM8e35XnKDq4e3I+y8nJOOZ3cfffdJCcne97b3azafTIDQFFREfrDW9BdPKLRxyNdyGTEJ4QQNOLg2J+v+/fzj5P/798xsK0DY43jzQ06hfH9E1j1h5FeJQJlZWXMmDGD119/nRdffJHx48eTlZXFQw89hM1m45133mH47Q8wZnYa6aVhYAwBFMqsDj7ZfJjRr6eSr7Rl+PDhlJaW8thjj3ndV+2T2KE6+GKLMzDq/f/U6xX1gjtl3R8Z8QkhBI07OHbDhg2kpqbSr18/Fj05XtP7v/TSS1xzzTUUFhai0+lYsmQJzz//PGazmQULFtDtkiH8fd3J6rKDWrs5HS4VBxA7/o8M6X6aRYsW0b17d69r6gu++Agjf5s4sN7dqjpUTn31GsfHxpIUM1jTd2ntJPiEEEEpt7icuWn7WZx+lHKrg1CTvsESBaNex/3DOnP14H6oqsqXX36p6bP279/Pu+++S3p6OuPHj+faa6/l22+/5c4770RVq8sREu94lsPF/g+gVQxm3j5gIHHCkyxdvYHbb7jK81xSUhK7d+/2ur6wsJB27doxKjmOFVNHMO/HAz6PR8q8QuXmm2/m66+/ZuDAgZq+U2smdXxCiKBTX73eGSrgPX3pruMrSF/Nr371Kx577DFeffVVv5/jDteP1+3DpTcSoldw7FuPsuc73n75r4wePZq1a9dy9x9fxjn8Qc33r6gu9IrK3HsvZ1RyHLnF5Tz90fesO+pA1Zs87cgcWd/A6UL+9re/NfieixcvZsqUKaxcuZJLLrlE8720RhJ8QoigkltczpjZadVTivVRVU/0hYcYPSOji6JDiIqKQqfTcfLkSfT6+k9Kd4erzeH0qqNTVBe4nLx3/1BGJcfxizvvY3eXCTjUxm+5CDXqmXlzb2Yu3Vnncww6BdXp4MbIPN7600Oa3u+zzz7j0Ucf5dtvvyW8Q2evEfGF1NtTpjqFEEFFS70eilI93nPaWP7IKM8P/R//+EfKy8v59ttv/YZezWL42lRFB3odDy/Yyrxbu7K1PJowRdfA4bO+2ZxO/rQo02eBusOlgqJnRVkncovLNYXV7bffjt1uZ/S9fyB8zDScLjwjYvcmm8+35rX63p4y4hNCXFDsdjtlZWWUl5dTVlZW59//vD0Mm9bRlcuFXq/DpUKIQaFg03I6nt7N9rXf+ixhcHtmcaamjTJJ9sPk6jrgUM7eGEQHTLw8SXM7stzicq59dTV2tf7vV/MswNZIgk8IcV44nU6vQKodUIdOVJJWaCCrPBw7Ogyqkw5Vh4gtzsBRcqze1zqdTsLDw7FYLISHh3v+cf95U9e7NR/2WpvqtKO6nBQv/huGwr2Eh4cTERFBRESE179vuOh2nDpjw+9nq0BnCmvKYK9Rws0Gdsy8XtO1WkO7Nff2lOATQvjlcrmoqKioN6D8hZe/a202GxaLxWdAOeOSyYm/GlXRVU8N/kyHil6B+5NdDO7kO9zMZrPf0VjKzJWUaSxWr49RUbk1bDflx3M5duwYhYWFFBUVcfLkSU6dOkXM7xei+Gkw7aG6UFQnqoaQbA5fjbLro/W/T2PCNNDIGp8QFwhVVamsrGx2INX+c2VlJWFhYfWOoGr/OSEhQdO1oaGhPgPKvfnE5WN9zIWCS4X/5Ji48xdD/E61qaqK3W6nsrKSyspKqqqqqKysZFhHI98ecDTYuNkfm8PJR5vysK3/BKfTidPpxG63Y7PZcDqdtLVVoZjDGnwf1W5F1Rs19f30+XpV9Rvybo1pR6a1g01r7u0pwSfEOaaqKlartdmjp9p/rqiowGw2+w2dmv8eFxdHly5dGrw2LCwMna55TZ5UVaWqqsoTPvn5+V5hVDOcPjugx2qv7lpSn0qbjXFPvUn0vpWe0Wh5ebnnfaxWKw5H9Q+zXq/3hIPL5UIXGUeH376FzhjS5O+j6A1EXnIdX7z8ACEhIYSGhnr+MRgMDJj8Mqfj+vo9SV112mkbolCqGpocworqQqfo8bdVR6/UbZTtj8Vs0DTia829PVvvnQtxDthstmYHkq/nDAaD5oBq27YtnTp1avBai8Xid6ehm9Pp9Aqc2uHjDqX6nm/Mn93/brVaMZlMdULC15+3dfk1Ll0DoxhFz8moizmw7W+Ul5cTERFB27Zt6dKlC7GxscTFxdGhQwfat29PbGwssbGxtGvXzvO/63NLmTJ/C1ZHA7s7/ahyqvTq1avO48uWLaMqfTnmm/pTaa///Y16HVZDCE6b/6J1oPpgWqVuXWFi0Wb2Rw/C5WezjlOFlITIhj/jZ43pYNNayRqfuCA4HI5mTefV92dVVb0Cx19ANfTnmgFlNFav6fiaimtMoDTlzw6HwytwtISR1j/X91xISIjmUaPWQ14VYNNjg2nbtq2mwK8tt7icvy7dyfe7j//8ho2bcPS1xmWz2ejTpw9z5szB1HlAdUmD1eZ98rnqRHU4mHff5Twwf5um76qqKqqtEp0p1Kuu8Lsln7Jg/X5y2l3h9/WN2YWppc6xte/qlBGfOKecTqffjRJNDS+Hw9GoQIqNjfV6zmKxYDKZMBgM6PV69Ho9Op0Op9OpOVDy8vIaHVZAkwMmKiqKDh06NPq1JpNJ07rQ+aJ5qs1sIDY2tsmfkxRjYcawaJb+9R5+NfNfLNmej84Ugup0ojMY/QZSfSOeN998k549e3L99dWB+PRA+MuCdei7X4FN1RFqUIg5fZDh7axc12cCFnOmpu+q2ipw/fcxLBER7KhxyvrIkSOZuWwXxjjwV5pod7qY9+MBTbswk2IsvOOnt6e7g01rDT2QEZ+oh8vl8too0VJrUVarlbCwML8BZbFYCAkJwWw2YzQaPf/UDCT36MH9f752u90TLE0ZDVVVVWE0Gs/J6Kfmn90jP3HGudxOf9ttt3HppZdy+eWX88wzz5Cfn0/eKRtdHp7b6BHP8ePH6dOnD+vWraNHjx64XC769OmDw+Gge/fuvP/+++h0OpKTk9m7dy+xsbGavqteAevO72mT8w0FBQUcP37c85yqqnR+4nMUU2iD37WxuzBzi8vr7e3ZmkMPWtGIr3ZD2QupfU5zuDcNtMTmiNobJUJDQz2bG2r+WLt/sE0mE0ajEYPBgE6n84RSZGQkkZHVawoulwun04nD4cDpdGKz2bw2OfgaKdntdsxmc5MDpk2bNo0Oq5CQkCZNl4mWN3lEVz7fmofDVX/wGPW6Zh+js379ejZt2sRHH33E3Llz6d27N1u3bsVWVcXfbu7OH5fuo6LKiqI/8zOpV8Bhs/LS+JQ6vztPP/009913Hz169EBVVR544AH27dvHq6++yiOPPIKiKMyaNYvbbrvNM1LV8l11uLAc3khsbCzZ2dlezymKgqJxk05jd2EmxViYNS6l1dbq+dMqgs9XQ9nW1j5HVVXPRommTueVlpZy+vRpz5/du9gMBgOhoaGYzWbMZrNXINUcJdWc3nK5XJ5Qcm/FdjqdnvcCPAGlNUCaE1Y1/9xQHZa4sJ2LqTZVVXniiSeYNWsWoaGhZGZmEhsbS2JiIjk5OcRYj7H898MY/JuniOh3LS69EcVu5ca+HbDvWMHH737LT/kPef4iHmJQOF0UzYpnHqe4uJj777+fr776innz5nHPPfcAYLVaeeedd1i1apXP71pps4Fy5i9fqtNOWEgIKac2k+0sIy6uJy6Xi9OnTxMREeG5zqRTsfnpsuLWmndhtrSA/y/hr+edw6XicDl5eMHWFl1o9dXyqHYAnTp1ipKSEk6dOsWpU6c4ffq013UVFRVeU2lWqxVFUTzrSO5QqjltB9X/D+kOJYfDgcPhwG63Y7fb0el0ninA0NBQT71US03N+Qono9H36dJCnE0NHaPT3P9fX7x4MWVlZdx1110AZGRkMHLkSK644gqys7PJyMhAp9NRkfYBvSoyWbduHRMmTGDIgHHE3DWZKQu2sGXTIU8ZQqVDxdTrKibM3ULlqjfpGlrF6NGjPaEH8Omnn9K3b19SUrxHUO7vOmLyTOh8GTpTKBazgfz1K1mz8B9MHPc8qqoSGxtLWFgYeXl59OzZ0/P6a7pF8PXeU6Cr/+e8te/CbGkBH3xaGsraHE5e+N96xl1kpaSkxPNPaWmpZ5TkDqSaoeQOJKvVis1m8wSNqqqeQHL/6Kuq6hVKer0eg8GAyWTy/FMzNKKjoz3rV+52RuHh4U1eCwoNDZWpOBFUztZUm91u56mnnmLOnDno9XqcTidZWVn06NGDYcOGsXTpUjZv3syhQ4eIjY3l9OnTKIrC4MGD+eGnHazd2w7FYK5Te+dCweaCkOseYfcnT7FgwWyeWZzpGRWqDgsjfzHVd8PosiLKU9+j/Ku3GDlyJCtWrECvvxGj9c9kZGQQHx9PXFwcoaGhdYLvybGD+OrlVSh+gq8lpoYvJAEffIvTj/pd+IXqOpUVe07wwSN3eQLJvQblnv5zh0dYWBht2rTxBFFERASRkZFERUURFRVFdHQ0ERERhIWF1RtAZrO52QW9QojzY+7cuXTu3JnRo0cD1YfEtmvXjvT0dKZNm0bHjh3ZsWMHGzZsICEhgYKCAgAuu+wy3s9MxW7x/xdxh0vlorF/4JGvjnlP1RpCWHdcYczstDrLM2lpafTt25eNGzcSExODTqfDYDDw7bff0qZNG4qLi+nQoQMmk4m8vDyvz+sSG0GXvG/J63ojKjqv30u9AiaDvtXvwmxpAR98Wtvn6EMs2Gy2s3w3QojWrLS0lOeee44VK1Z4HsvMzKR3796kpqbSt29funfvzvfff09oaCjJyckcOHAARVEYNGgQZV8WomvgL+IqOopD4qERyzNr1qyhc+fObNiwgXbt2gHVZS5paWlccsklfP3117Rv3x6DwVAn+ABuGtiFXYfX0PGau/nfT7lU2lVwWBndK4Y/jr9MQq+WgB+2WMzaslkWboUQDXnllVe4/vrr6d+/v+exjIwM2rVrR79+/TCZTKSkpHDq1CluuOEGwsLCqKioQFEUIiIi0GkoG9DCXVfntmbNGmJiYrDb7Z4dnxEREezYsYPu3bvTtm1boqKiUBTFZ/CNHDmSrWu+Yda4FL55oB/2jx7EvvBRnr6+u4SeDwEffOP7J2BooH2RLNwKIRqSl5fHO++8w/PPP+/1eEZGBqqqMnjwYAC6dOmCTqejf//+hIaGUlVV5Vnr16st05jZ4VJZtK06wNy1eZWVleh0OsLDwwFo06YNubm5XHTRRcTFxREeHo7L5eLo0aN13m/gwIHk5ORw8uRJEhISPKdFxMTEtMj9XmgCPvgmj+iKUe//NmXhVgjRkGeffZbJkyfTqVMnr8czMjIoLCz0BF90dDQul4uoqChMJhMOh8MTfH0jKlDUpvf3rMldV5eWlsbQoUPZv3+/V0PwuLg4iouLPb1Hw8PDcTgcPkd8RqORIUOGsHbtWvR6PQkJCV6lScJbwAefu84l1KivM/Iz6BRCjbJwK4Twb8eOHSxdupQZM2Z4PV5WVsbRo0fZvXu3J/iys7PR6/Xk5OSg0+m8WrzdN7QzqrNlRn3u5Zk1a9YwcuRIDh8+XD2d+nPwtWvXDofDgU6n87TYs1qtPoMPYMSIEaSlpQEQHx/vaSIh6gr44IMzdS53Dk4k3GxAUarb79w5OJEVU0cEfPG6EOL8euqpp/jTn/5EVFSU1+NZWVl0796d0tJSunfvDsDqzZlEXj2Zjyr7szziBuJ+9xERoyaTW1zO9UMHUrLsFXBY0ddagdGhEmrUMyo5tlHLM2lpaYwYMYKCggKio6M9wWcymdDr9RQVFXlGfJWVlRQUFOB01t04M3LkSNasWQNUh6bZbG7Sf6tg0Gp2hFzI7XOEEGfP999/z+7du1m0aFGd5zIyMjxHGCmKwjeZR8hKHEe4zoDr51ZlOlMYoSnXeMoQYmzH0X//Knf8+Z8sSj9KudWOarfy6+E9mDyiKwBjZqdparl26tQp9u7dy6WXXsqpU6fo2bOnJ/icTieqqlJQUEBcXBwWi4Xy8nLatWvH8ePHSUhI8HrPIUOGkJmZSUVFBVFRUVL360erGPEJIURTuFwupk+fzksvvYTJZKrzvLtDy+DBg8ktLuf3n2xHMYZ49eeE6oNnK+3VZQgVujCG9evBrPF9SX/mGkIWT+f/rgnj+fF9SYqxeC3PUCv8ai/PrF27lsGDB3uaZ9Qc8ZWWluJ0Oj3B526YER8f73O6MywsjH79+rFhwwbCwsJwuVpmLfJCJMEnhLhgLVy4EIPBwO233+7z+czMTEpKShg8eLCmLlFWuxPD1b9jTdxYusxYTu+/fI3xion0umyE13WjkuP43/0DqMxcRbhZX+/yjHuaMz8/31My4R6pHT58GFVVOX78OHFx1deHh4fTvn37etf53NOdRqNR6pr9aDVTnUII0RhVVVU8/fTTfPTRRz77zaqqyvbt21EUhcsuu4w/vbsdVfE/FnAB+rYX4aT6/WyqDmeHAdzw5o91urEc2rmVXhWZ/DDzrXrfb82aNTz33HOs37GP6GunsLHTdazbb+CNZ1dQeNGVGA4XcvjwYU9tX3h4ODExMT5LGqB6g8trr71GcnIyZWVlDf0nCloSfEKIC9KcOXPo378/I0aM8Pl8Xl4eOp0Oi8VCfHw85datGt/ZO0SdKp5p0JrdWFJTU7nyyiu9rq19vJrz8mn852AYa/cVEX7JaJw/99sstzkJ63stIb2vouCHf3qN+Nq2bVvviC+x90CyQvtwMOJqoh+6gT7PruCWAR2D/vi22iT4hBAXnBMnTvDyyy97tvf7kpGRQUJCAsnJyQAYcGBvxk9i7VPOU1NTeeGFFzzP+zpeTWcKY82+E4AOpXa9ss6ATmeAq6ZgNVYfQxQeHo4uMo7Vp6NImbnS62zSvh2jmLl0JyF9rsGpM6BQHaCt6fi2c0XW+IQQF5wXXniB2267zesUg9oyMzMxmUye+j0Obq5TotAYNbuxlJeXk5mZyeWXXw54H6/WUNP92hSdnk/TC6v/PSGFr9T+HA3tQpnVgYr7bNJDPPVFZvXxbbVOaXC4VM+INLe4vOlf8AIiwSeEuKAcOHCA//znP8ycOdPvdRkZGZSWlnLZZZdx4MABTm9ejMnQvBIAdzeWdevW0b9/f8LCwgBtx6vVR9EbWZR+lNzico51vwkHetB536dDw1vX7g8azCT4hBAXlKeffppHH32U9u3b+71u+/bt5OXlMWjQIL788ktuunJIvV2iVFXbKM3djaX2+p6W49X8KauyM+WNz3A14ye75og02EnwCSEuGD/99BOpqak8/vjjfq+z2WxkZ2fTuXNnIiMj+fLLLxk7dqxXlyjsVaiqC5e1AkfRIQwN/FrW7MaSmprKVVdd5XlO6/Fq9QnRQ7a9TZ2RXmO5R6TBToJPCHFBUFWVJ554gpkzZ2Kx+N/BuHv3btq2bcuQIUM4efIkmzdv5tprrwXOdInqv+8jjr1+G4df/yWV37yBsYFOKO5uLBUVFWzbto2hQ4d6ntN6vJrP7+W0c/vgzjiV5u9FlOPbqknwCSEuCMuXL6ewsJD77ruvwWszMjIIDQ1l8ODBfP3111x11VV1wrJjx46ekxn0lSc1N8vfsGEDffv29Xo/Lcer1Utn4KMNuTR9ovTMfcrxbdUk/oUQrU7tergwsx7r7vU8PfNlDIaGf9YyMjKoqKhg8ODBvPLKK4wdO7bONW3btkVVVRRFQVEUzzTovB8PsGhbHmVVdoyKi18N7sqk4V381u9NHtGVz7fm+e3f6dPPn1/jAWrXEWolx7edISM+IUSrsnpPAWNmp/HJ5sOeLf3lVieOpCH8PdPA6j0FDb7Htm3bKCkpITk5mZUrV3LzzTfXuebw4cMoioLL5fKEj3sadMfM63mu9wkuPbiQWeNSvIrDfQWfv+PVFNWFardydXIc4WYD1Dzvr07HmYZDr3ZJhl5Bjm+rRYJPCNFq+K2H0+k116tt27aNXr16sX79enr27FlnB6iqqqxevRqj0Yher/fZ8qxPnz5kZWV5PVZVVcVPP/3EsGHD6lxf3/FqbYqzsKx5g/fuvYz1jw+lMnOVhmlR7+/unm59eUJffj0kyfP+isPKlRfp5fi2WmSqUwjRamiph6vdQaW2oqIiysrKGD58OF9++SXjxo2rc80PP/yAzWbD5XLVe7xPr169yM7OxuFweKZXN23aRK9eveo9BNbX8Wp9+z5B0kUXAdVTsGG9r9JQ+qBUT4PqFCwmA7cM6OiZbr0DPO9/9913M6L3KBnp1SIjPiFEq6GlHq6herXMzEzCw8MZPHgwS5Ys8bm+9/LLLzN69GhcLle9a4ZhYWEkJCSwb98+z2O+pjkbcuzYMbp16wZU1xaq+rrHJ/mmcuDFm9gx8/o6061unTt3Jjc3t1H3Ewwk+IQQrYbWejh/9WqZmZnYbDYiIyMxmUz06tXL6/nt27eTmZlJcnIykZGRPqc53WpPdzY2+FRV5eTJk557SE9Px6TTtn9TtVsbvCYpKYmDBw9qvp9gIcEnhAhIucXlPLM4k5SZK+kyYzkpM1ei11gS4K9ebePGjTgcDrZt28a4cePqBNvf//53pk6dyqlTp2jXrp3f4EtJSWHHjh1AdVH8xo0b6z0Nwpf8/Hz0er1nxJeens7IxJAG1/gMOoXyrNUNHjbbuXNnCT4fJPiEEAHH187NMqsDp0ul9saO2hqqV9u8eTMpKSksXbq0zjTnwYMHWbFiBQ8++CAnTpygQ4cOftuV1Rzx/fTTT3Tv3p3o6GitX5OcnBz0ej3x8fE4HA6ysrJ47MZLMNY+qaEWo16HPvsHCgr872CV4PNNgk8IEVD87dys/pP/0ZC/ejWn08mBAwcYOHAgubm5dXZfvvbaa0yaNImoqCiKi4u56OdNJ/WpGXxNWd/LycnB6XSSkJBAdnY28fHx9E6M452JAzHrgVp1fwZd9RTnOxMHEh9hrPdcPrdOnTqRn5+PwyGtymqS4BNCBBStJxnUjr/aHVR82b9/P0ajEVVVufHGG702rhQVFfHRRx8xdepUoPpMvy5duvidTuzZsyc5OTnYbLYmBd+ePXtwOBzExMSwfft2+vfvD1SXPjzZ10HMyV2EGgBVJdxs4JeDOlL00R8YlRxHx44dGww+k8lEbGxsg9cFGwk+IURA0XqSgV4H2Cs99XB3Dk5ssF5t+/btOBwO9u7dW2ea8+233+bWW28lISEBgOLiYi6++GKczvq7rYSEhJCYmMiuXbtYv349I0eO1PYlf7Zz506ioqLQ6XSkp6dzySWXeJ5zlRYwwJXNsnt7ovvvo+yYeT0v3HIJ1uI87Ha7puADme70Rer4hBABRevOTadLZUDOAhYtWqT5vdesWUNISAhbtmzh+uuvP/OZ5eW8/fbbXie2nzhxgl69euF0Ohtc51u+fDlJSUnExMRovheA7OxsOnToAFRvbPnd737nea6wsJDY2Fjat2/PsWPHPO3TLBYL5eXljQ6+xo5GL2Qy4hNCBBStJxkYcNKnT59Gvff69etp3749w4YNIyIiwvP4+++/z7Bhw0hOTgaqywxKHAa+OGQk4dGFhNz3b1JmruSZxZl1usKkpKTw/fffNylYDh8+TFJSEoDXVCdAQUEBcXFxhIeHo9frOX36NADh4eGUlZXJiK8ZJPiEEAFFy0kGBp1Cm5J99O7du1HvnZ2djdFo9OrW4nA4ePXVV3nqqac8j63MPEK737zG5+nH0JnDUBSFMquDTzYfZszsNK9+oO4NLo0NvpKSEux2O507d+b48eNYrVavzTTu4APo0KEDx44dA6qDzz3iO3r0aIOfk5SUJEXstUjwCSECyuQRXTVt5y/bsqRRI76ysjJOnz7NkSNHvJpSf/bZZyQmJnL55ZcD1btKp32WiWIMqbPW6HCpdfqB9uzZk4KCgkav7+Xk5BAVFUVCQoJntFezZtBf8MmIr3kk+IQQAcXfSQbunZtv3dGPA5mbPVOTWqSnp6OqKt27d6djx+o6P1VVefnll3nyySc911XvKvW/ucbdDxSgsrISVVWJiorSfC9QHXyhoaEkJCTU2dgCdYMvPz8fOBN8CQkJEnxNJMEnhAg49Z1k4N652VF3ik6dOhESEqL5PVeuXInRaOSWW27xPLZq1SqcTic33nij57HF6UdpIPe8+oGuX7+eqKgo9uzZ06jvmJOTg6IoxMfHk56e7rW+B2c2t4DvEV9MTAyVlZVUVFT4/ZzExETy8vL87k4NNrKrUwgRkHydZOD2v9VZjV7f+/HHH1EUxauM4eWXX2b69OleU4yN7QeamppKjx49yMrKol+/fprvJycnB7vdTnx8PNu3b/daY3S5XBQVFdGuXTvAd/ApiuIZ9V188cX1fo7ZbKZdu3YcPXqUTp06ab6/C5mM+IQQrc7OnTs1re/V7Pe5f8jjxP3uIz47oCO3uJyffvqJ7Oxs7rzzTq/XaN1VajEZcLlcpKWlMXz4cE/PTq1ycnIoKyujTZs27N+/36tZ9smTJ4mIiMBkqj6pwVfwAZrX+aRZtTcJPiFEq5OV1fCIr3a/T0VR0JnCmL/xEFf+4wd++Vkel9z/EkdLbV6vG98/AQX/nWPc/UAzMzNp164dl19+eZ1DaRuSk5NDeXk5BQUFJCcne0IOvNf3oPnBJ+t83iT4hBCtzs6dO/0Gn9+T2n/m0hnYaY2uU54weURXdH4K1uFMP1B3mzJfp7H7U1VV5Qm3jIwMvxtbAOLj4+sNPi0lDRJ83iT4hBCtisPhYN++ffTs2bPea7T2+3Sq1ClPSIqxkFKyHqPiqndXqbsfqDv4Lr74Yo4cOUJlZaWm73DgwAHi4uI8Ozr9bWwBGfG1NAk+IUSrsm/fPjp27EhoaGi912jt9+lWszwBgPydPNXPyZ2DE9E5raC66vQDVVWVNWvWcOWVV2I0GunWrRu7d+/W9Hk5OTm0a9fOs7GloRFfbGwsRUVFOJ3OJq/xSRH7GbKrUwjRqmjZ2KJ1Z6abuzzBvYP0xIkT9Ehoy6SRKWx8+zFOnTrFxo0b69xHZGSkZ6eke7pzwIABDX5eTk4OkZGRxMfH88MPPzQYfEajkTZt2lBUVOQVfFLL1zQSfEKIVkXLxhaL2UBZI8PPXZ4A1cHnbjjtcrnQ6epOjtU+hqjmaewNycnJwWQyERISQnR0dJ3m1gUFBXXC3T3d2dgRX25xOe9nVmIb+xJdZizHYjYwvn8Ck0d0rff4pgudTHUKIVoVLSM+Lf0+a7OYzowDiouLadu2LVB9eG3NOj+32sHXmA0uOTk5qKqKzWarM9qDuiM+8B18CQkJ5Ofn13tmoHtn6/+2HUVnDvOcZO+r52gwkeATQrQqWkZ8Wvp91uQuT4DqNmYnTpzwBJ/L5UKv13tdr6pqs4OvqqqKkydP1tnYAnU3t8CZ4LNYLJ7gCwkJITIyksLCwjrv4W9nq6+eo8FEgk8I0Wo4HA6ys7P97ugE736feg0DP3d5AlQ3szaZTBwrc/DM4kwODZ7K4WFPeR1LtHfvXsxmM507d/a8R7du3cjPz6e83H+QOJ1ODh48SGlpKfn5+c0a8UH9051adrbW2dQTJCT4hBCtRk5ODgkJCYSFhTV4rbvf56+HJBFiqP6pq32gbO3yBPh5fS9lBKPfWMOCjYdQDWb4+ViiBRsPMfqNNbz39YY6xxAZDAZ69OjBrl27/N5XXl4eMTExHDt2jJycHJ8jvsYGn69aPi07W2v2HA0mEnxCiFajocL12tz9PnfPuoHx+m2EHtmMEUedptejks+ETFbucZSRD2J1uKgdGypgdbj4b34b+g69us7naZnuzMnJoVu3bhQXF1NaWkrXrl29nrfb7ZSWlnqmWt3cJzRoHfE1tudoMJFdnUKIVkNrj05fvl38CY89+iizZ/+JbD/h9J+tRaDz/9PoUnTsNnSp87iWnZ3uUWtUVBQ9e/ass2O0qKiImJiYOo/XN+KrXdJw5MgR5s2bh8uWgmKqv9bRreamnmAhIz4hRKuhZWOLL9nZ2Zw4cYLf/va3lJSU+J2O3HzcBT52cdakKAqpB+qu5Wkd8bVp04awsLB6pzlrb2wB780tFRUVnmnbjh07cuTIEVasWMH48ePp168fRUVF3Ng7VtNJ9u5NPcEk+KJeCNFq7dy5k8cff7zRr1u0aBHjxo0j75SVi+98hrEfZuNgv8+atoYbnVXztX6mJfj27dtHUlISgM+NLYWFhXXW9+BM8On1esxmM5WVlZSVlbFu3Tr++9//kp6ezkMPPcT8+fMJDw8nt7icH2an4XDVfw5fzU09wURGfEKIVsHpdLJ3794Gd3T68sUXX9B95DjGzE7jsCkRO/qzUtPWpUsXCgsLOX36dL3X5OTkYDAYqKys1LyxBaBNmzaeg2dNJhMTJ04kOTmZkpIS4uPj2bJlC5MnTyY8PByoXt+cfkU0qt2KodYvva9NPcFEgk8I0Srs37+fDh06YLE07oc6Ly+P7GMlzNtVXbtW+3T12jVtSgMnM7gZfdRJ6PV6evbsyc6dO32+RlVVzwG0p06dIiWl7iG79QVfSUkJFouFvn37UlFRQb9+/Thw4ABz587l5MmTdYrsVVVl4Wt/5oHEIu4cnOTzJPuam3qCiUx1CiFahaau7y1ZsoSLfzGFotqJV4u7pi228hAFYUmA//Wxm/rG+3zcPd05ZMiQOs8VFxej0+k4cOAA7dq181mWUTP4VFVl06ZN/POf/2TRokUYDAamT5/O22+/za233kp0dDSqqlJeXk5lZaVX4+4VK1Zw5MgRnnzoPoxGo8+T7IOVjPiEEK1CY0sZ3BYtWsTJqO6aa9qij6zD0EDRu8mg4w/X9vD5XJ8+ferd2ekuZdi/fz8XX3yxz2sKCgqIjIzkX//6F4MGDeLXv/41vXr1Yu/evQwbNowOHToQERHh2dmpKAoJCQletXwOh4MnnniCv//97xiNRv9fJghJ8AkhWoWsrKxGlzKcPHmSTZs2YXNp69tZbnNQln+AP1wWTohBV3fMp6oYcPHuXYPqXRtLSUmpd4OLO/jy8/Pp169fneczMjL47rvvmDFjBitWrOBvf/sb2dnZPPnkk8TFxWkuaXjvvfeIi4vjF7/4habvHWwk+IQQrUJTRnzLli1j1KhRWMzaVnUsJgMnTpzg6p7tWTltJHdd7r02xr40/jmuk9+1MX87O93BV1JSwuWXXw5AZWUlH374IUOHDuXGG2/E4XCwYMECvvjiC0aPHu1Vz6elbdnp06eZOXMmr776qs/m2kKCTwjRCjidTvbs2UOvXr0a9bpFixZxyy23aDqtwV3TVlxcTExMjKfry46Z13PgxZtYMakP5anvcc2QuiUINSUlJVFSUkJJSUmd53JycujSpQs2m41OnTrx+OOPk5iYyMKFC3nqqac4ePAgJpOp3pFt7eDLLS7nmcWZbO06kRkZEaTMXMmtL/2XYdePY+DAgZr/OwUbCT4hRMA7cOAAcXFxnq36WlRUVPDdd99x8803azqtwajX8duhSZw8eZI2bdrUeT41NZWRI0c2OIrS6XT06tXL587Offv2sXnzZgB++ctfYjKZ2LhxI19//TXjxo3DYDDUu6sTvIMvo9DBmNlpfLL5MA7FAFT3E93jaEfmRTcH7ZFDWkjwCSECXlNalX3zzTdceumltG3b1uu0htojv5o1bW2MTiwWi88NIbWPIfKn9nTnwYMHefrpp1m/fj3ffPMNISEhHDp0iJdeesmrV2dlZSV2u52IiAif7+sOPtUSw+KiWJ9HDil6A1UONWiPHNJCgk8IEfCaUsrgnuZ0c5/WcOfgxHpr2mqew1fbDz/tYJelHykzV9JlxnKvY4pq69OnD5mZmSxbtoxf/OIXDBo0iJKSEoxGI8OHDychIQGz2Vznde5z+OobVbqD74C5K/X3Y6kWrEcOaSF1fEKIgLdz506uvrruaQj1sdvtLFu2jBdeeMHrcfe6XX01be71vdq+WL8b69VPsGp/hWeE5e768vnWPN6ZONCz4SU/P5/MzEw+++wzNm3axJQpU/jvf/9LTk4Oq1evZteuXSQmJvr8fH/TnADt27fn2LFjGJ0xqA2MW9zlGWerfi+3uJy5aftZnH6UcqvDZ/u3QCUjPiFEwGtsKUNqairdunXjoosuatTn+Brx5RaX89TSfShGs9+TzD/+chW33XYbvXv3xumsnjLdsGED9957L2FhYZ4dnQcPHiQ5Odnn5zcUfGFhYZjNZuwaf7rP1pFDq/cUeNYXy6yOs9L+7WyS4BNCBLSm7OisPc2p1YkTJ+qM+Oam7W+w+L3SauXZhalcc8015ObmMn/+fGw2GydOnPBck5OTQ6dOneptVQYNBx9UT3caNbbSPhtHDuUWl/Pwgq0+1xdrt38LVBJ8QoiAdvDgQdq1a1fvho/aXC4XixcvZsKECY3+rOLi4jojvsXpR1GVBn4qdQbMySN46KGHiIyMRFEUevfu7bXBJScnB7PZTHh4eL0jUX/B5y5dsI19qXrE10BP0bN15NDctP3Ynf6DN9DXF2WNTwgR0BpbuL5582aioqLqnU70x9eIT+tJ5qerbJ5NKYqioKoqV155JYqioCgKTqfT8/jtt9/uedx9PVS3GlMUhbffftvrcVPnAUTe8AfQGVAMP2+KaaA23W6t4v+m3s7/3V/o9V5N+V+vf7/9tQYPuD3b64vNJcEnhAhojS1laOo0J1SP+Lp08T6fzqRTsWpoeRYRYsLlcnkOiH3ttdc4cOAAs2fPBqBnz54MGDCAb775hq1bt3pGfe7rVVVl8uTJjBgxgt/85jeex3NPVDBh7k9U2bVNbxp0YNDp+PuEfgz9Y1qdz2js/9Z+7Mr/y0TL+RVna32xJUjwCSECWlZWFldddZWma1VVZdGiRSxYsKBJn3XixAkuvfRSr8c6VB3mkKkTqp8hlntaseboqF+/fixfvhyDwYDD4eDIkSO0adOG8vJyEhMTfdYKFhcX06lTJ69TGz5etR9HAydLuIWbDdwyoCOThnc5azsrLeZdlGkYBZ+N9cWWImt8QoiA1pgR365du6isrGTQoEFN+ixfa3zFaz/F5OPsvZp8nWRes4j90KFDdOjQgaysLKKjo+s9McHXGt/i9KMNbq4BsJj07Jh5PbPGpZzVcoLGtH8LVBJ8QoiA5XK52LVrl+YdnYsWLWL8+PFNbs5ce42vuLiYw7u28c6vG+76UjtsEhISsNlsFBYWkpOTQ3x8PDExMXTsWH8g+Ao+rWuM5TbnOSkj0Nr+rfZfBAKJBJ8QImDl5ubStm1bIiMjNV3fnPU9qDviS0tL44orruCa3vENdn2pTVEUz6hv3759hIWF0alTJxISEnx+tqqqns4tNWk9WQI4J2UEWtu/BXIRe+BOwgohgl5jCtdzc3M5ePAgI0aMaPLn1R7x1ezP2VDXF1/cwXfgwAFcLhexsbE+O8NA9XFCRqPR6xR1qJ5a/GTzYU3Tne4ygrO9m9Ld/m3ejwdYtC2PcpsDi+nsry+2FAk+IUTAakwpw+LFi7n55psxGJr2s+Z0Ojl16hTR0dGex1JTU5kzZ06T3g/OBF9+fj4lJSXEx8fXO+Krr4Zv8oiufL41D4eroe6c57aMoCl/EQgUMtUphAhYjRnxNXea89SpU0RERKDX6wEoKSkhOzu7zi7PxkhJSWHHjh3k5ORw5MgRdDod8fHxPq+tL/jcU4taBXIZQaCQ4BNCBCytI77CwkK2bdvGdddd1+TPqt2g+scff2TIkCGYTKYmv2efPn08wWe32zl9+nSjgw+qpxbDTHpNnxnIZQSBQoJPCBGQ3Ds6tQTf0qVLGT16dJ31scao3aC6Mefv1ad9+/aoqoper6d///7k5+fXO9Xpa2NLTRMGdGz1ZQSBQoJPCBGQDh06RHR0NFFRUQ1e29xpTqg74muJ4FMUhcTEREJDQz3B15QRH1wYZQSBQoJPCBGQtE5znj59mtTUVG666aZmfV7NEV9paSk7d+5k8ODBzXpPgJiYGBwOB3379uX48eN06NDB53UNBd+FUEYQKCT4hBABSevGlhUrVjB06FBNI0N/ao741q5dy6WXXkpISEiz3hPAbDZTUVFB586diYyM9HnyOmg7kkjLKfKiYbIKKoQISDt37mTo0KENXtcS05zgPeJriWlON5vNhtVqJSIiot71PdAWfNC6ywgChYz4hBABScuIz2q18vXXXzNu3Lhmf17NEV9qaqrmxtgNOXr0KABFRUX1ru9Bw5tbRMuR4BNCBBxVVTXt6Pz+++/p3bt3vetmjeEe8ZWXl5OZmcnll1/e7PcEOHLkCEajkV27dvkNPq0jPtF8MtUphAg4hw4dIjIy0quLii8tNc0JZ0Z869atY8CAAc0qjXArLS3FEdKG+DG/5p2Cbjjjk0mZuZLx/ROYPKKrZyOKy+WiuLiYdu3aNfszRcNkxCeECDhadnQ6nU6WLFnSYsHnHvG15Pref3/MIu6e16HbUJw6I6BQZnXwyebDjJmd5jlN4cSJE0RGRtZ7XJFoWRJ8QoiAo2V9b/369XTo0IFu3bq1yGe6G1S3VPDlFpfz8tpiFGMIKN5dVxwulUq703OagkxznlsSfEKIgKNlxNeS05xQPdUZGhrKtm3bNO0mbcjctIZPTnefpiAbW84tCT4hRMBpKPhUVW3R4HM4HJSVlbFr1y769u2LxdL8IvDF6UdRFf8/se7TFGTEd27J5hYhREBRVbXB4MvIyACgX79+LfKZJ0+eJDo6mrS0tGZPc+YWlzM3bT9lmk9Od0jwnWMy4hNCBJQjR45gsVi8GkbX5h7tKYr/ps1atdT63uo9BYyZncYnmw9rfo3FZJDgO8ck+IQQAUXLxpazsb4XHR3NTz/9xLBhw5r0HrnF5Ty8YCuVdqem09LhzGkKEnznlgSfECKgNDTNmZOTw/Hjx7niiita7DNPnDiBXq+nZ8+eREZGNuk95qbtx+50Neo17tMUCgoKZHPLOSTBJ4QIKA2N+BYtWsTYsWM9J6W3hOLiYioqKpo1zbk4/ajmkZ5ewes0hcLCQhnxnUMSfEKIgNLQiK8lpzlzi8t5ZnEmz+9pw8kxz7Ms5CqeWZxJbnF5o9+rXONmFlSVTrZcr9MUZKrz3FJUVdX2VxQhhDjLVFUlOjqa/fv3ex0K63bs2DF69erFsWPH6j3eR6vVewp4eMFW7E6X10jNoFMw6nW8M3Fgo475SZm5UtNOTotJR/5bE9m7d6+nRVnbtm3Jzs72+Z1Fy5MRnxAiYOTl5REaGlpvACxZsoQbbrih2aHnbyNK7a4qWtjtdjpTiOr0H3wGncKEgZ2YMGECb7/9NlB9bNHp06dp06ZN076MaDQJPiFEwDhX05xaNqK4u6o0ZNWqVfTr14+KrV8SYvbfa9O9mWX69Om8/fbbVFRUUFRURExMDDqd/ByfKzLVKYQIGK+//jr79+/nrbfeqvPcqVOn6NSpE0ePHiU8PLxZn6N1WjLcbGDHzOt9Pnfw4EEee+wx0tPTeeONN7j55pv5YW+h5unTG395N6Z+Y9hjjabS7iI8xFjn1AZxdshfMYQQAcPfiG/58uVceeWVzQ490L4RpdxW97qKigqeffZZBg0axMCBA9m5cydjx45FURRGJcexYuoI7hycSLjZgKq6sJh03Dk40Wszy+o9BeT0uIP0UguVDhUU36c2iLNDgk8IETD8lTK05G5Oi1lbt0aL6cx1qqry+eef07t3b3bv3s22bdt45plnCAkJ8XpNUoyFWeNSmHOVmfbfzyLrrzcwa1yKZxTnXl+0OgG99300ZX1RNJ4EnxAiIPjr0VlZWcmqVau4+eabW+SzxvdPQN9AtzN3VxWoHoled911zJw5k/fff59PP/2UxMREv69fvnw5N954Y53HW3J9UTSNBJ8QIiAcPXoUk8nk8xTyb7/9lv79+7dYd5NbekXisFv9XmPU67jjknb84Q9/4Morr2Ts2LFs27aNUaNGafqMr776iptuuqnO41oK3d2nNoizQ05nEEIEhJ07d3pNc7pPOVicfpSyKgXT0Md4ZnFmszd/2Gw2pk26i2uvuoV1Su96N6LcElfMdVcM4KabbiIrK6tRBeYHDx6kqKiIQYMG1XmuOeuLomVI8AkhAkJWVpZnmrNOcbmiYFP1fLL5MJ9vzWt0cXlN06ZNo23btsz96zQOn6xk3o8HWLQtj3KbA4vJwLCOBrYs+AffV53kyy+/5LLLLmv0Z3z11VeMGTPGZ4mCxWzQWOguP89ni0x1CiECgnvE19LF5TXNnTuX1atX89FHH6HT6TwbUXbMvJ6N0y5jyOH/8uVf7uL3997BunXrmhR6UP80J1SvLxp0/hcYa64vipYnwSeECAjujS1na/PHunXrePrpp1myZInXCQx2u53Zs2fTp08foqKi2L17N/fee2+TC8orKytZs2YN1113nc/nJ4/oilHv/73dhe7i7JDgE0Kcd6qqekoZzsbmj7y8PG6//XY++OADevTo4Xn8+++/Z8CAASxbtozU1FRee+01oqKimvw9AH744Qf69+9fbwuypBgL70wcSKhRX2fkZ9ApXqc2iLNDJpGFEOfdsWPHMBgMxMbGtvjmj6qqKiZMmMDvf/97T3nBoUOHePzxx9m8eTOvvfZai57m7m+a081d6F57ffGWAR2ZNLyLhN5ZJsEnhDjvahaut+TmD1VVeeihh0hKSuKPf/wjVVVVvPLKK7zxxhs88sgj/Oc//yEsLKzZ91/z85YvX86SJUsavNa9vjhrXEqLfb7QRoJPCHHe1SxcH98/gU82H/Y73al188ecOXPYunUra9euZcmSJTz22GMMGDCALVu20Llz55a6fY89e/Zgt9tJSZEwC2QSfEKI8y4rK4u+ffsC1Zs/Pt+ah8PlrPd6LZs/Vq9ezQsvvMD8+fO59dZbOXz4MO+++269m05agnuas6WmTcXZIZtbhBDnXc3i9aQYC1NSDOCwNnnzx8GDB7njjjsYOXIkd955J2PGjGH79u1nNfSg/jZlIrDIiE8IcV65d3TW7NG5bO7LPHLbbyjp0KPRmz/Kysq48sorsVqtWCwWMjMz6dChw1n/HqWlpWzatImrr776rH+WaB4JPiHEeXX8+HF0Op2nJdhPP/3Enj17WH7frzCZTI3a/LFlyxauv776/LwVK1ZwxRVXnJV79uXbb79l6NChLXJskji7ZKpTCHFeuTe2uNfFXnrpJZ544glMJpPm9ygqKuLBBx/kqquuIjw8nNzc3HMaelC9vifTnK2DBJ8Q4ryqWcqwe/dufvzxRyZNmqTptQ6Hgzlz5tC7d2+OHz+OxWIhLS0Ni+Xc1sGpqirB14pI8AkhzquapQwvv/wyjzzyiKbautTUVAYNGsTnn3/O+++/z/r16/nf//5Hp06dzvYt15Genk54eDgXX3zxOf9s0XiyxieEOK+ysrK47bbbOHToEF9++SX79u3ze/2RI0eYPn06a9eu5R//+Adjxozhiiuu4K9//SvDhw8/R3ftTUZ7rYuM+IQQ503NHp3/+Mc/uP/+++vtcWm1WnnppZfo378/3bt3Z9euXdx2223cc889DB8+nClTppzjuz9j+fLlDbYpE4FDRnxCiPOmoKAAVVXR6XTMnz+frKwsn9ctW7aMadOm0adPHzZt2kTXrl0BeO655ygoKODTTz89l7ftpaioiB07djBy5Mjzdg+icST4hBDnjbtw/c033+SOO+4gPj7e6/ns7GymTZtGdv5Jhj46m60nDFwzdxcWczaXRNlYs3ARm1d/3agdoC3tm2++YdSoUZjN5vN2D6JxFFVV/Z//IYQQLSi3uJy5aftZnH6UMqsdvctB5a41fPrcA4zo3xOoLkJ//vnnmTdvHr/6wyy+s3bG7lS9+neqTgchJgP//M1lTT6Nvbn3X251oHPZuCTKxusP/kJOVWglJPiEEOfM6j0FPLxgK3any7sJteok1GTinV8PIH/rdzz55JOMGjWKR/70HPcs3EOlvf6+naFGPSumjjgnoVPf/RsUMBqqW6mdyxAWTSObW4QQ50RucTkPL9hKpd1Z9+QFRU+l3clv31vHy2//m08//ZSPPvqIL/eUnZXT2JvC3/07VKi0O3l4wVZyi8vP+r2I5pHgE0KcE3PT9jcYYoreyM3T32DYsGEAZ+U09qbScv/nKoRF80jwCSHOCS0h5kJhcfpRKioqWLt2LWVWu6b31noae3MEUgiL5pFdnUKIJqu90cNiNjC+fwKTR3Sts+ZWruFUdYCyKhuxsbH06dMHw9V/wqEYG3yNltPYm0vr/Z+LEBbNIyM+IUSTrN5TwJjZaXyy+TBlVgcqUGZ18Mnmw4yZncbqPQVe11vM2sIp1KjnxIkTbNq0iV9d3q3OmXy1aT2Nvbm03v+5CGHRPBJ8QohG87vRw6V6Nnqs2bqThQsX8thjj8HBTajOhkdDndpaOFZWfd3kEV0x6v3/TGk5jb0ljO+fEDAhLJpHgk8I0WhaNnpUVFn5zfPv87///Y+4uDj+NOFyQs0NF5rnFJZ5RoxJMRbemTiQUKO+yaext5RACmHRPFLHJ4RotJSZKynTsOYVbjawY+b1nj+fqYNz4vCfm171ebnF5cz78UCjT2NvafXW8ekUjHqd1PG1EhJ8QohG6zJjOVp+OBQFDrzo3bw5t7icyR/+xN6CMr+vNegU7hyc2KgT2M+FQAlh0XQSfEKIRmvqiK+lXi9Ec8ganxCi0Zq70UNKA8T5JMEnhGi05m70kNIAcT5J8AkhGq25uy2lNECcT7LGJ4RosqZu9MgtLmfM7LSAOXVBBBcJPiHEeSGlAeJ8keATQpw3UhogzgcJPiGEEEFFNrcIIYQIKhJ8QgghgooEnxBCiKAiwSeEECKoSPAJIYQIKhJ8QgghgooEnxBCiKAiwSeEECKoSPAJIYQIKhJ8QgghgooEnxBCiKAiwSeEECKoSPAJIYQIKhJ8QgghgooEnxBCiKAiwSeEECKoSPAJIYQIKhJ8QgghgooEnxBCiKAiwSeEECKoSPAJIYQIKhJ8QgghgooEnxBCiKAiwSeEECKoSPAJIYQIKhJ8QgghgooEnxBCiKAiwSeEECKoSPAJIYQIKhJ8QgghgooEnxBCiKAiwSeEECKoSPAJIYQIKhJ8QgghgooEnxBCiKAiwSeEECKoSPAJIYQIKhJ8QgghgooEnxBCiKAiwSeEECKoSPAJIYQIKhJ8QgghgooEnxBCiKDy/29UsJAlol5PAAAAAElFTkSuQmCC\n",
          "text/plain": "<Figure size 432x288 with 1 Axes>"
         },
         "metadata": {},
         "output_type": "display_data"
        },
        {
         "data": {
          "image/png": "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\n",
          "text/plain": "<Figure size 432x288 with 1 Axes>"
         },
         "metadata": {},
         "output_type": "display_data"
        },
        {
         "data": {
          "image/png": "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\n",
          "text/plain": "<Figure size 432x288 with 1 Axes>"
         },
         "metadata": {},
         "output_type": "display_data"
        },
        {
         "data": {
          "image/png": "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\n",
          "text/plain": "<Figure size 432x288 with 1 Axes>"
         },
         "metadata": {},
         "output_type": "display_data"
        }
       ]
      }
     },
     "5eb911132a1d4c07b394650086b77fdd": {
      "model_module": "@jupyter-widgets/base",
      "model_module_version": "1.2.0",
      "model_name": "LayoutModel",
      "state": {}
     },
     "6a4493c5ee294792a70fc17ee3902a06": {
      "model_module": "@jupyter-widgets/base",
      "model_module_version": "1.2.0",
      "model_name": "LayoutModel",
      "state": {}
     },
     "72a0a50a4e3a48f188f66d4ccafd6f01": {
      "model_module": "@jupyter-widgets/controls",
      "model_module_version": "1.5.0",
      "model_name": "TabModel",
      "state": {
       "_titles": {
        "0": "status",
        "1": "plot",
        "2": "log"
       },
       "children": [
        "IPY_MODEL_7ed515aab9814b49bd7d2c69945e4532",
        "IPY_MODEL_324281c02fce4500bf710a9db3135df4",
        "IPY_MODEL_a6d30c2f68bd4e39bc79878587c67342"
       ],
       "layout": "IPY_MODEL_3329ca2660fc4d0da853856b91ea1ae8"
      }
     },
     "7921de6ada3e42f29eded268aadbc740": {
      "model_module": "@jupyter-widgets/base",
      "model_module_version": "1.2.0",
      "model_name": "LayoutModel",
      "state": {}
     },
     "7ed515aab9814b49bd7d2c69945e4532": {
      "model_module": "@jupyter-widgets/controls",
      "model_module_version": "1.5.0",
      "model_name": "VBoxModel",
      "state": {
       "children": [
        "IPY_MODEL_d6c9b8f7c72e4c5daca36c26ea690228",
        "IPY_MODEL_3d8d1dd30597400f9774bc1f844277c4"
       ],
       "layout": "IPY_MODEL_f9fe8f751e414a45adb35636c55ccb97"
      }
     },
     "94dba08ca7fc4bdd80e2a99b71e93783": {
      "model_module": "@jupyter-widgets/controls",
      "model_module_version": "1.5.0",
      "model_name": "DescriptionStyleModel",
      "state": {
       "description_width": ""
      }
     },
     "a5fda3da2b5a4f40bc1648b1e728e14b": {
      "model_module": "@jupyter-widgets/base",
      "model_module_version": "1.2.0",
      "model_name": "LayoutModel",
      "state": {
       "height": "500px",
       "overflow_y": "auto"
      }
     },
     "a6d30c2f68bd4e39bc79878587c67342": {
      "model_module": "@jupyter-widgets/controls",
      "model_module_version": "1.5.0",
      "model_name": "HBoxModel",
      "state": {
       "children": [
        "IPY_MODEL_d4344517fb3948b2b556df881d344226"
       ],
       "layout": "IPY_MODEL_a5fda3da2b5a4f40bc1648b1e728e14b"
      }
     },
     "ae057066bc1d4d08bf1da2ad17aad867": {
      "model_module": "@jupyter-widgets/base",
      "model_module_version": "1.2.0",
      "model_name": "LayoutModel",
      "state": {}
     },
     "b6d2d48597494826a843624921edd304": {
      "model_module": "@jupyter-widgets/base",
      "model_module_version": "1.2.0",
      "model_name": "LayoutModel",
      "state": {}
     },
     "cc7cb89a7ce84085a866007f07ad5f27": {
      "model_module": "@jupyter-widgets/base",
      "model_module_version": "1.2.0",
      "model_name": "LayoutModel",
      "state": {}
     },
     "cdbe9257c74844de8f06abcab6bb1e4a": {
      "model_module": "@jupyter-widgets/controls",
      "model_module_version": "1.5.0",
      "model_name": "HTMLModel",
      "state": {
       "layout": "IPY_MODEL_0b40deff62524232b36a8a739a4ed98d",
       "style": "IPY_MODEL_4c5037c8fd124eb78868b654e477cd11",
       "value": " 28/79 [00:07&lt;00:13,  3.88it/s]"
      }
     },
     "d4344517fb3948b2b556df881d344226": {
      "model_module": "@jupyter-widgets/output",
      "model_module_version": "1.0.0",
      "model_name": "OutputModel",
      "state": {
       "layout": "IPY_MODEL_6a4493c5ee294792a70fc17ee3902a06",
       "outputs": [
        {
         "name": "stdout",
         "output_type": "stream",
         "text": "[2932] stress=1169.44(67.76%) xing=141.44(83.21%)\n[2933] stress=1146.30(67.52%) xing=144.98(83.12%)\n[2934] stress=1154.20(67.78%) xing=140.96(82.67%)\n[2935] stress=1156.95(67.44%) xing=142.67(83.49%)\n"
        }
       ]
      }
     },
     "d6c9b8f7c72e4c5daca36c26ea690228": {
      "model_module": "@jupyter-widgets/output",
      "model_module_version": "1.0.0",
      "model_name": "OutputModel",
      "state": {
       "layout": "IPY_MODEL_2f2010a7685043f280a99960d4b781f0",
       "outputs": [
        {
         "data": {
          "application/vnd.jupyter.widget-view+json": {
           "model_id": "fee8e48359fa4993994224a934b94327",
           "version_major": 2,
           "version_minor": 0
          },
          "text/plain": "  0%|          | 0/79 [00:00<?, ?it/s]"
         },
         "metadata": {},
         "output_type": "display_data"
        }
       ]
      }
     },
     "ebd9a63ba1c44f44bc45cb5f8a85a4ba": {
      "model_module": "@jupyter-widgets/controls",
      "model_module_version": "1.5.0",
      "model_name": "FloatProgressModel",
      "state": {
       "layout": "IPY_MODEL_5eb911132a1d4c07b394650086b77fdd",
       "max": 79,
       "style": "IPY_MODEL_42e294030628480eba925fbcc72ba797",
       "value": 28
      }
     },
     "f9fe8f751e414a45adb35636c55ccb97": {
      "model_module": "@jupyter-widgets/base",
      "model_module_version": "1.2.0",
      "model_name": "LayoutModel",
      "state": {}
     },
     "fcd2b0f832f7447d977ecc3946a0fcd0": {
      "model_module": "@jupyter-widgets/controls",
      "model_module_version": "1.5.0",
      "model_name": "HTMLModel",
      "state": {
       "layout": "IPY_MODEL_cc7cb89a7ce84085a866007f07ad5f27",
       "style": "IPY_MODEL_94dba08ca7fc4bdd80e2a99b71e93783",
       "value": "[epoch 2935/None]:  35%"
      }
     },
     "fee8e48359fa4993994224a934b94327": {
      "model_module": "@jupyter-widgets/controls",
      "model_module_version": "1.5.0",
      "model_name": "HBoxModel",
      "state": {
       "children": [
        "IPY_MODEL_fcd2b0f832f7447d977ecc3946a0fcd0",
        "IPY_MODEL_ebd9a63ba1c44f44bc45cb5f8a85a4ba",
        "IPY_MODEL_cdbe9257c74844de8f06abcab6bb1e4a"
       ],
       "layout": "IPY_MODEL_b6d2d48597494826a843624921edd304"
      }
     }
    },
    "version_major": 2,
    "version_minor": 0
   }
  }
 },
 "nbformat": 4,
 "nbformat_minor": 4
}
