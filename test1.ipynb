{
 "cells": [
  {
   "cell_type": "code",
   "execution_count": 1,
   "metadata": {},
   "outputs": [],
   "source": [
    "import bentley_ottmann\n",
    "from utils import *\n",
    "from modules import *\n",
    "from sklearn import preprocessing"
   ]
  },
  {
   "cell_type": "code",
   "execution_count": 2,
   "metadata": {},
   "outputs": [],
   "source": [
    "G_list, data_list = load_processed_data(G_list_file='G_list.pickle', \n",
    "                                        data_list_file='data_list.pickle')"
   ]
  },
  {
   "cell_type": "code",
   "execution_count": 3,
   "metadata": {},
   "outputs": [],
   "source": [
    "pos = data_list[0].x.detach().cpu().numpy()"
   ]
  },
  {
   "cell_type": "code",
   "execution_count": 173,
   "metadata": {},
   "outputs": [],
   "source": [
    "edges = np.array([[0, 1],\n",
    "                  [0, 2],\n",
    "                  [0, 3],\n",
    "                  [0, 4],\n",
    "                  [0, 5],\n",
    "                  [0, 6],\n",
    "                  [0, 7],\n",
    "                  [0, 8],\n",
    "                  [0, 9],\n",
    "                  [0, 10],\n",
    "                  [0, 11],\n",
    "                  [0, 12],\n",
    "                  [0, 13],\n",
    "                  [0, 14],\n",
    "                  [0, 15]])"
   ]
  },
  {
   "cell_type": "code",
   "execution_count": 6,
   "metadata": {},
   "outputs": [],
   "source": [
    "def get_real_edges(batch):\n",
    "    data_list = batch.to_data_list() if type(batch) is Batch else [batch]\n",
    "\n",
    "    offset = 0\n",
    "    neighbor_mask_, edge_list_ = [], []\n",
    "    for data in data_list:\n",
    "        size = data.num_nodes\n",
    "        edge_list_.append(data.edge_index.T.cpu().numpy() + offset)\n",
    "        l = data.edge_attr[:, 0].detach().cpu().numpy()\n",
    "        neighbor_mask_.append(l == l.min())\n",
    "        offset += size\n",
    "    neighbor_mask = np.concatenate(neighbor_mask_)\n",
    "    edge_list = np.concatenate(edge_list_)\n",
    "\n",
    "    return edge_list[neighbor_mask]"
   ]
  },
  {
   "cell_type": "code",
   "execution_count": 163,
   "metadata": {},
   "outputs": [],
   "source": [
    "def counter_clockwise_node_pairs(edges, pos):\n",
    "    u, v = edges[:, 0], edges[:, 1]\n",
    "    diff = pos[v] - pos[u]\n",
    "    diff_normalized = preprocessing.normalize(diff, norm='l2')\n",
    "    # get cosine angle between uv and y-axis\n",
    "    cos = diff_normalized @ np.array([[1],[0]])\n",
    "    # get radian between uv and y-axis\n",
    "    radian = np.arccos(cos) * np.expand_dims(np.sign(diff[:, 1]), axis=1)\n",
    "    # for each u, sort edges based on the position of v\n",
    "    sorted_idx = sorted(np.arange(len(edges)), key=lambda node: (u[node], radian[node]))\n",
    "    sorted_v = v[sorted_idx]\n",
    "    # get start index for each u\n",
    "    idx = np.unique(u, return_index=True)[1]\n",
    "    roll_idx = np.arange(1, len(u) + 1)\n",
    "    roll_idx[np.roll(idx - 1, -1)] = idx\n",
    "    rolled_v = sorted_v[roll_idx]\n",
    "    return np.stack([u, sorted_v, rolled_v]).T[sorted_v != rolled_v]"
   ]
  },
  {
   "cell_type": "code",
   "execution_count": 8,
   "metadata": {},
   "outputs": [],
   "source": [
    "def calculate_l(edges, pos):\n",
    "    pairs = counter_clockwise_node_pairs(edges, pos)\n",
    "    p0, p1 = pos[pairs[:, 0]], pos[pairs[:, 1]]\n",
    "    e0 = p0 - pos[edges[:, 0]]\n",
    "    e1 = p1 - pos[edges[:, 0]]\n",
    "    du = len(edges)\n",
    "    e0norm, e1norm = np.linalg.norm(e0, axis=1), np.linalg.norm(e1, axis=1)\n",
    "    return np.sqrt(np.abs(e0norm ** 2 + e1norm ** 2 - 2 * e0norm * e1norm * np.cos(2 * np.pi / du)))"
   ]
  },
  {
   "cell_type": "code",
   "execution_count": 9,
   "metadata": {},
   "outputs": [],
   "source": [
    "def cross_spring(edges, pos):\n",
    "    pairs = counter_clockwise_node_pairs(edges, pos)\n",
    "    p0, p1 = pos[pairs[:, 0]], pos[pairs[:, 1]]\n",
    "    diff = p1 - p0\n",
    "    term1 = np.log(np.linalg.norm(diff, axis=1) / calculate_l(edges, pos))\n",
    "    term2 = preprocessing.normalize(diff, norm='l2')\n",
    "    return np.expand_dims(term1, axis=1) * term2"
   ]
  },
  {
   "cell_type": "code",
   "execution_count": 10,
   "metadata": {},
   "outputs": [
    {
     "data": {
      "text/plain": [
       "Data(edge_attr=[240, 2], edge_index=[2, 240], x=[16, 2])"
      ]
     },
     "execution_count": 10,
     "metadata": {},
     "output_type": "execute_result"
    }
   ],
   "source": [
    "data = data_list[0]\n",
    "data"
   ]
  },
  {
   "cell_type": "code",
   "execution_count": 59,
   "metadata": {},
   "outputs": [],
   "source": [
    "edges = get_real_edges(data)\n",
    "pos = data.x\n",
    "node, idx, counts = np.unique(edges[:, 0], return_index=True, return_counts=True)\n",
    "roll_idx = np.arange(1, 43)\n",
    "roll_idx[np.roll(idx - 1, -1)] = idx"
   ]
  },
  {
   "cell_type": "code",
   "execution_count": 199,
   "metadata": {},
   "outputs": [
    {
     "data": {
      "text/plain": [
       "tensor([1.0000, 0.5000, 0.3333, 0.2500])"
      ]
     },
     "execution_count": 199,
     "metadata": {},
     "output_type": "execute_result"
    }
   ],
   "source": [
    "torch.tensor([1.,2.,3.,4.]).pow(-1)"
   ]
  },
  {
   "cell_type": "code",
   "execution_count": 84,
   "metadata": {},
   "outputs": [
    {
     "data": {
      "text/plain": [
       "array([[ 0,  8, 15],\n",
       "       [ 0, 15,  6],\n",
       "       [ 0,  6,  5],\n",
       "       [ 0,  5,  8],\n",
       "       [ 2, 15,  6],\n",
       "       [ 2,  6, 15],\n",
       "       [ 3, 14,  8],\n",
       "       [ 3,  8, 15],\n",
       "       [ 3, 15, 10],\n",
       "       [ 3, 10, 14],\n",
       "       [ 4, 11,  8],\n",
       "       [ 4,  8, 11],\n",
       "       [ 6,  0,  2],\n",
       "       [ 6,  2,  0],\n",
       "       [ 8,  4,  0],\n",
       "       [ 8,  0,  3],\n",
       "       [ 8,  3,  4],\n",
       "       [ 9, 15, 12],\n",
       "       [ 9, 12, 11],\n",
       "       [ 9, 11, 15],\n",
       "       [10, 13,  3],\n",
       "       [10,  3, 13],\n",
       "       [11,  9, 13],\n",
       "       [11, 13,  4],\n",
       "       [11,  4,  9],\n",
       "       [12,  9, 13],\n",
       "       [12, 13,  1],\n",
       "       [12,  1,  9],\n",
       "       [13, 11, 10],\n",
       "       [13, 10, 12],\n",
       "       [13, 12, 11],\n",
       "       [14, 15,  7],\n",
       "       [14,  7,  3],\n",
       "       [14,  3, 15],\n",
       "       [15,  9, 14],\n",
       "       [15, 14,  2],\n",
       "       [15,  2,  3],\n",
       "       [15,  3,  0],\n",
       "       [15,  0,  9]])"
      ]
     },
     "execution_count": 84,
     "metadata": {},
     "output_type": "execute_result"
    }
   ],
   "source": [
    "counter_clockwise_node_pairs(edges, pos)"
   ]
  },
  {
   "cell_type": "code",
   "execution_count": 212,
   "metadata": {},
   "outputs": [
    {
     "data": {
      "text/plain": [
       "(15, 2)"
      ]
     },
     "execution_count": 212,
     "metadata": {},
     "output_type": "execute_result"
    }
   ],
   "source": [
    "cross_spring(edges, pos).shape"
   ]
  },
  {
   "cell_type": "code",
   "execution_count": 215,
   "metadata": {},
   "outputs": [
    {
     "data": {
      "text/plain": [
       "array([[14,  8],\n",
       "       [ 8,  9],\n",
       "       [ 9, 15],\n",
       "       [15,  6],\n",
       "       [ 6, 10],\n",
       "       [10, 13],\n",
       "       [13,  4],\n",
       "       [ 4,  2],\n",
       "       [ 2,  1],\n",
       "       [ 1, 12],\n",
       "       [12,  7],\n",
       "       [ 7,  3],\n",
       "       [ 3,  5],\n",
       "       [ 5, 11],\n",
       "       [11, 14]])"
      ]
     },
     "execution_count": 215,
     "metadata": {},
     "output_type": "execute_result"
    }
   ],
   "source": [
    "pairs"
   ]
  },
  {
   "cell_type": "code",
   "execution_count": 145,
   "metadata": {},
   "outputs": [],
   "source": [
    "e0u, e1u = np.linalg.norm(e0, axis=1), np.linalg.norm(e1, axis=1)"
   ]
  },
  {
   "cell_type": "code",
   "execution_count": 146,
   "metadata": {},
   "outputs": [
    {
     "data": {
      "text/plain": [
       "array([0.03640628, 0.05352685, 0.2593167 , 0.27827108, 0.2112186 ,\n",
       "       0.200629  , 0.12601173, 0.16117835, 0.33452034, 0.38255978,\n",
       "       0.4499724 , 0.21375167, 0.23889041, 0.13126785, 0.0792875 ],\n",
       "      dtype=float32)"
      ]
     },
     "execution_count": 146,
     "metadata": {},
     "output_type": "execute_result"
    }
   ],
   "source": [
    "l = np.sqrt(np.abs(e0u ** 2 + e1u ** 2 - 2 * e0u * e1u * np.cos(2 * np.pi / du)))"
   ]
  },
  {
   "cell_type": "code",
   "execution_count": null,
   "metadata": {},
   "outputs": [],
   "source": [
    "f_ang_spring = "
   ]
  }
 ],
 "metadata": {
  "kernelspec": {
   "display_name": "Python 3",
   "language": "python",
   "name": "python3"
  },
  "language_info": {
   "codemirror_mode": {
    "name": "ipython",
    "version": 3
   },
   "file_extension": ".py",
   "mimetype": "text/x-python",
   "name": "python",
   "nbconvert_exporter": "python",
   "pygments_lexer": "ipython3",
   "version": "3.7.6"
  }
 },
 "nbformat": 4,
 "nbformat_minor": 4
}
