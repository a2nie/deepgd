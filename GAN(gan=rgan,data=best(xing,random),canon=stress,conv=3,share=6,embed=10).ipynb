{
 "cells": [
  {
   "cell_type": "markdown",
   "metadata": {
    "id": "wZtYFEhHoBGp"
   },
   "source": [
    "# Import libraries"
   ]
  },
  {
   "cell_type": "code",
   "execution_count": 1,
   "metadata": {
    "id": "KJPfzpxLQI5O"
   },
   "outputs": [],
   "source": [
    "%load_ext autoreload\n",
    "%autoreload 2\n",
    "from deepgd import *"
   ]
  },
  {
   "cell_type": "markdown",
   "metadata": {
    "id": "z4eBEyB1oaJe"
   },
   "source": [
    "# Config"
   ]
  },
  {
   "cell_type": "code",
   "execution_count": 2,
   "metadata": {
    "id": "Q_-MLFhpNvxF"
   },
   "outputs": [],
   "source": [
    "cuda_idx = 0\n",
    "canonicalization = CanonicalizationByStress()\n",
    "config = StaticConfig({\n",
    "    \"name\": 'GAN(gan=rgan,data=best(xing,random),canon=stress,conv=3,share=6,embed=10)',\n",
    "    \"uid\": None,\n",
    "    \"link\": None,\n",
    "    \"generator\": {\n",
    "        \"params\": {\n",
    "            \"num_blocks\": 9,\n",
    "            \"normalize\": canonicalization\n",
    "        },\n",
    "        \"pretrained\": {\n",
    "            \"name\": None,\n",
    "            \"epoch\": -1,\n",
    "        },\n",
    "        \"optim\": torch.optim.AdamW,\n",
    "        \"lr\" : {\n",
    "            \"initial\": 1e-3,\n",
    "            \"decay\": 0.99,\n",
    "        },\n",
    "    },\n",
    "    \"discriminator\": {\n",
    "        \"params\": {\n",
    "            \"conv\": [2, 16, 16, 16],\n",
    "            \"dense\": [2],\n",
    "            \"shared_depth\": 6,\n",
    "            \"enet_depth\": 10,\n",
    "            \"enet_width\": 64,\n",
    "            \"aggr\": \"add\",\n",
    "            \"normalize\": canonicalization\n",
    "        },\n",
    "        \"pretrained\": {\n",
    "            \"name\": None,\n",
    "            \"epoch\": -1,\n",
    "        },\n",
    "        \"optim\": torch.optim.AdamW,\n",
    "        \"lr\" : {\n",
    "            \"initial\": 1e-3,\n",
    "            \"decay\": 0.99,\n",
    "        },\n",
    "        \"noise\": {\n",
    "            \"std\": 0,\n",
    "            \"decay\": 0.95,\n",
    "        },\n",
    "        \"repeat\": 1,\n",
    "        \"complete\": True,\n",
    "        \"adaptive\": True\n",
    "    },\n",
    "    \"alternate\": \"epoch\",\n",
    "    \"batchsize\": 24,\n",
    "    \"epoch\": {\n",
    "        \"start\": -1,\n",
    "        \"end\": None,\n",
    "    },\n",
    "    \"log_interval\": 1,\n",
    "    \"test\": {\n",
    "        \"name\": \"test\",\n",
    "        \"epoch\": -1,\n",
    "    },\n",
    "    \"gan_flavor\": \"rgan\",\n",
    "    \"gp_weight\": 0,\n",
    "})\n",
    "data_config = StaticConfig({\n",
    "    \"sparse\": False,\n",
    "    \"pivot\": None,\n",
    "    \"init\": \"pmds\",\n",
    "    \"edge\": {\n",
    "        \"index\": \"full_edge_index\",\n",
    "        \"attr\": \"full_edge_attr\",\n",
    "    },\n",
    "})\n",
    "loss_fns = {\n",
    "    Stress(): 1\n",
    "}\n",
    "ctrler_params = {\n",
    "    \"tau\": 0.95,\n",
    "    \"beta\": 1,\n",
    "    \"exploit_rate\": 0.5,\n",
    "    \"warmup\": 2,\n",
    "}\n",
    "paths = StaticConfig({\n",
    "    \"root\": \"artifacts\",\n",
    "    \"checkpoints\": lambda: f\"{paths.root}/checkpoints/{config.name}\",\n",
    "    \"gen_pretrain\": lambda: f\"{paths.root}/checkpoints/{config.generator.pretrained.name}\",\n",
    "    \"dis_pretrain\": lambda: f\"{paths.root}/checkpoints/{config.discriminator.pretrained.name}\",\n",
    "    \"tensorboard\": lambda: f\"{paths.root}/tensorboards/{config.name}\",\n",
    "    \"visualization\": lambda: f\"{paths.root}/visualizations/{config.name}_{config.test.name}\",\n",
    "    \"log\": lambda: f\"{paths.root}/logs/{config.name}.log\",\n",
    "    \"metrics\": lambda suffix: f\"{paths.root}/metrics/{config.name}_{suffix}.pickle\",\n",
    "})"
   ]
  },
  {
   "cell_type": "code",
   "execution_count": 3,
   "metadata": {
    "id": "mdMEAbH10Qaq"
   },
   "outputs": [],
   "source": [
    "if \" \" in config.name:\n",
    "    raise Exception(\"Space is not allowed in model name.\")"
   ]
  },
  {
   "cell_type": "markdown",
   "metadata": {
    "id": "WynW4ZAdBhep"
   },
   "source": [
    "# Prepare"
   ]
  },
  {
   "cell_type": "markdown",
   "metadata": {
    "id": "DR6-vYtr_i_P"
   },
   "source": [
    "## Get log command"
   ]
  },
  {
   "cell_type": "code",
   "execution_count": 4,
   "metadata": {
    "colab": {
     "base_uri": "https://localhost:8080/"
    },
    "id": "9-QpinlslcTO",
    "outputId": "48ae3716-212c-4d46-9efb-b7b4070f73de"
   },
   "outputs": [
    {
     "name": "stdout",
     "output_type": "stream",
     "text": [
      "cd /users/PAS0027/osu10203/deepgd && tail -n1000 -f 'artifacts/logs/GAN(gan=rgan,data=best(xing,random),canon=stress,conv=3,share=6,embed=10).log'\n"
     ]
    }
   ],
   "source": [
    "print(f\"cd {os.getcwd()} && tail -n1000 -f '{paths.log()}'\")"
   ]
  },
  {
   "cell_type": "code",
   "execution_count": 5,
   "metadata": {},
   "outputs": [
    {
     "name": "stdout",
     "output_type": "stream",
     "text": [
      "tensorboard dev upload --logdir 'artifacts/tensorboards/GAN(gan=rgan,data=best(xing,random),canon=stress,conv=3,share=6,embed=10)'\n"
     ]
    }
   ],
   "source": [
    "print(f\"tensorboard dev upload --logdir '{paths.tensorboard()}'\")"
   ]
  },
  {
   "cell_type": "markdown",
   "metadata": {
    "id": "innqkwvH_ydD"
   },
   "source": [
    "## Set globals"
   ]
  },
  {
   "cell_type": "code",
   "execution_count": 6,
   "metadata": {
    "id": "Qjq7JlSZlkQR"
   },
   "outputs": [],
   "source": [
    "if cuda_idx is not None and torch.cuda.is_available():\n",
    "    device = f'cuda:{cuda_idx}'\n",
    "    pynvml.nvmlInit()\n",
    "    cuda = pynvml.nvmlDeviceGetHandleByIndex(cuda_idx)\n",
    "else:\n",
    "    device = 'cpu'\n",
    "    cuda =  None\n",
    "np.set_printoptions(precision=2)\n",
    "warnings.filterwarnings(\"ignore\", category=RuntimeWarning)"
   ]
  },
  {
   "cell_type": "markdown",
   "metadata": {
    "id": "0da286l_ApEL"
   },
   "source": [
    "## Load data"
   ]
  },
  {
   "cell_type": "code",
   "execution_count": 7,
   "metadata": {
    "colab": {
     "base_uri": "https://localhost:8080/"
    },
    "id": "RFuSHiZJMU4x",
    "outputId": "54065609-aaea-4536-d79c-73bc73b3f576"
   },
   "outputs": [
    {
     "name": "stdout",
     "output_type": "stream",
     "text": [
      "Load from 'cache/G_list.pickle'\n",
      "Load from 'cache/generate_data_list(list,sparse=False,pivot_mode=None,init_mode=pmds,edge_index=full_edge_index,edge_attr=full_edge_attr,pmds_list=ndarray,gviz_list=ndarray,noisy_layout=True,device=cpu).pickle'\n"
     ]
    },
    {
     "name": "stderr",
     "output_type": "stream",
     "text": [
      "/users/PAS0027/osu10203/.conda/envs/deepgd/lib/python3.9/site-packages/torch_geometric/deprecation.py:13: UserWarning: 'data.DataLoader' is deprecated, use 'loader.DataLoader' instead\n",
      "  warnings.warn(out)\n"
     ]
    }
   ],
   "source": [
    "G_list = load_G_list(data_path='data/rome', index_file='data_index.txt', cache='G_list', cache_prefix='cache/')\n",
    "data_list = generate_data_list(G_list, \n",
    "                               sparse=data_config.sparse, \n",
    "                               pivot_mode=data_config.pivot,\n",
    "                               init_mode=data_config.init,\n",
    "                               edge_index=data_config.edge.index,\n",
    "                               edge_attr=data_config.edge.attr,\n",
    "                               pmds_list=np.load('layouts/rome/pmds.npy', allow_pickle=True),\n",
    "                               gviz_list=np.load('layouts/rome/gviz.npy', allow_pickle=True),\n",
    "                               noisy_layout=True,\n",
    "                               device='cpu', \n",
    "                               cache=True,\n",
    "                               cache_prefix='cache/')\n",
    "train_loader = LazyDeviceMappingDataLoader(data_list[:10000], batch_size=config.batchsize, shuffle=True, device=device)\n",
    "val_loader = LazyDeviceMappingDataLoader(data_list[11000:], batch_size=config.batchsize, shuffle=False, device=device)"
   ]
  },
  {
   "cell_type": "code",
   "execution_count": 8,
   "metadata": {
    "id": "djd1pLt2OxZq"
   },
   "outputs": [],
   "source": [
    "def draw_layout(G, method, draw=True):\n",
    "    if method == 'fa2':\n",
    "        layout = get_fa2_layout(G)\n",
    "    else:\n",
    "        try:\n",
    "            fn = getattr(nx.drawing.layout, f'{method}_layout')\n",
    "            layout = fn(G)\n",
    "        except:\n",
    "            layout = nx.drawing.nx_agraph.graphviz_layout(G, prog=method)\n",
    "    if draw:\n",
    "        nx.draw(G, pos=layout)\n",
    "    return layout"
   ]
  },
  {
   "cell_type": "code",
   "execution_count": 9,
   "metadata": {
    "id": "2vBBw77lR7Em"
   },
   "outputs": [],
   "source": [
    "methods = ['neato', 'dot', 'fdp', 'sfdp', 'twopi', 'circo', 'shell', 'spring', 'circular', 'spectral', 'kamada_kawai', 'fa2', 'pmds']"
   ]
  },
  {
   "cell_type": "code",
   "execution_count": 10,
   "metadata": {
    "id": "dx6VVA9XIc2O"
   },
   "outputs": [],
   "source": [
    "from functools import lru_cache\n",
    "\n",
    "@lru_cache(maxsize=None)\n",
    "def load_pos(method):\n",
    "    return np.load(f'layouts/rome/{method}.npy', allow_pickle=True)"
   ]
  },
  {
   "cell_type": "code",
   "execution_count": 11,
   "metadata": {
    "colab": {
     "base_uri": "https://localhost:8080/",
     "height": 1000,
     "referenced_widgets": [
      "05a37aeeb20049dfa2f97287b3990556",
      "a75afae3adfd4810a0b0991a062535ee",
      "a24ae105ed124595992f7e2e5f909247",
      "01b4cabaf8004dd4b9269b4e6889c498",
      "f3c7c84f2b314bd8b97a7358deaf4fa1",
      "35e4a83e692b4a7bafb46fdf192b2586",
      "62847b5e2678459f845159eef6d4feab",
      "143e81f00313436dacfa246a57108944",
      "e05833f11803400b95ff22246cdc8f2b",
      "53aeede91e074378b5d7f626165655ee",
      "79a43768c1794a10a788a49e5883aa2c"
     ]
    },
    "id": "MSmP-jem9I0X",
    "outputId": "c698f0bf-e96e-4de9-aeda-0b046fc0a03f",
    "scrolled": true,
    "tags": []
   },
   "outputs": [],
   "source": [
    "# best_list = []\n",
    "# best_layout_list = []\n",
    "# for idx, (G, data) in enumerate(zip(tqdm(G_list), data_list)):\n",
    "#     xing, stress, layout = {}, {}, {}\n",
    "#     for m in methods:\n",
    "#         batch = Batch.from_data_list([data])\n",
    "#         pos = load_pos(m)\n",
    "#         p = CanonicalizationByStress()(torch.tensor(pos[idx]).float(), batch)\n",
    "#         x = Xing()(p, batch).item()\n",
    "#         s = Stress()(p, batch).item()\n",
    "#         xing[m] = x\n",
    "#         stress[m] = s\n",
    "#         layout[m] = p.numpy()\n",
    "#         # plt.figure()\n",
    "#         # graph_vis(G, pos[idx])\n",
    "#         # plt.title(f'{m} stress={s:.2f} xing={x}')\n",
    "#     best, *_ = sorted(methods, key=lambda m: (xing[m], stress[m]))\n",
    "#     best_list.append(best)\n",
    "#     best_layout_list.append(layout[best])\n",
    "#     print(f'{best}, xing={xing[best]}, stress={stress[best]:.2f}')"
   ]
  },
  {
   "cell_type": "code",
   "execution_count": 12,
   "metadata": {
    "colab": {
     "base_uri": "https://localhost:8080/"
    },
    "id": "Mx2bZNugdTqa",
    "outputId": "cec05a67-18e8-492f-aaa1-057274a8341a"
   },
   "outputs": [],
   "source": [
    "# pickle.dump(best_list, open('layouts/rome/best[xing,stress].pkl', 'wb'))\n",
    "# np.save('layouts/rome/best[xing,stress].npy', best_layout_list)"
   ]
  },
  {
   "cell_type": "code",
   "execution_count": 13,
   "metadata": {
    "colab": {
     "base_uri": "https://localhost:8080/",
     "height": 49,
     "referenced_widgets": [
      "7e0ae84dd0f3458d893c81b029fe1729",
      "18bdc3bf80fb434abde68de5b72a8870",
      "2e3552ded9594635a51832387ae754a0",
      "54f4aa5080c6498080a63be2cdeefee5",
      "3937586d0879451da5e2138ca3bfd0a0",
      "a9df6e84ce8c499eb2b2cf984995d791",
      "7af6b718dd3d4e01b264377a2fa938e2",
      "a774c86e64004bd6951645f1c24abad4",
      "c86575117cd041f2837762f37d1f387b",
      "6e9907cefb1241688fbd248b8281ed9f",
      "9b8e5405d8264944acab57e81f2f5ad6"
     ]
    },
    "id": "A1-w1fspC53p",
    "outputId": "09c2d5c3-1eef-41eb-dcee-581af1294804"
   },
   "outputs": [
    {
     "data": {
      "application/vnd.jupyter.widget-view+json": {
       "model_id": "107cd0f4b82e4eaaad221a3970e4a60b",
       "version_major": 2,
       "version_minor": 0
      },
      "text/plain": [
       "  0%|          | 0/11531 [00:00<?, ?it/s]"
      ]
     },
     "metadata": {},
     "output_type": "display_data"
    }
   ],
   "source": [
    "best_layout_list = np.load('layouts/rome/best[xing,random].npy', allow_pickle=True)\n",
    "for data, layout in zip(tqdm(data_list), best_layout_list):\n",
    "    data.gt_pos = torch.tensor(layout)"
   ]
  },
  {
   "cell_type": "code",
   "execution_count": 14,
   "metadata": {
    "id": "y6EGh4U7exL_"
   },
   "outputs": [],
   "source": [
    "train_loader = LazyDeviceMappingDataLoader(data_list[:10000], batch_size=config.batchsize, shuffle=True, device=device)\n",
    "val_loader = LazyDeviceMappingDataLoader(data_list[11000:], batch_size=config.batchsize, shuffle=False, device=device)"
   ]
  },
  {
   "cell_type": "code",
   "execution_count": 15,
   "metadata": {
    "colab": {
     "base_uri": "https://localhost:8080/",
     "height": 103,
     "referenced_widgets": [
      "38a33cf69aff48f4aabd4902a7ce48b1",
      "57e277bcb44c4e2fa2a12105d75153d1",
      "20ce017c46bd4a7c9b420270ac579405",
      "13f2df4fe0ce4af88b6e3bd1637065b0",
      "2867faa145ca4860a198d4d0bf830f89",
      "02838cf669174ed9afa41a1a8e680765",
      "7e9e3c031667455f8baca163d3a213e5",
      "4000135e7dfa46529fa6244fccc5cb57",
      "e523e9faac5b4ec38643c05ac5ba99f7",
      "e8e3ee9741e4480dae5003ccc19a7891",
      "9a569045221b43acb3ba2fbf116b2c74"
     ]
    },
    "id": "YEfRRUK0NiNm",
    "outputId": "93f53d05-7667-4cda-a38e-c3a953124f79"
   },
   "outputs": [],
   "source": [
    "# for m in methods:\n",
    "#     layouts = []\n",
    "#     for G in tqdm(G_list):\n",
    "#         layout = draw_layout(G, method=m, draw=False)\n",
    "#         layouts.append(np.array(list(layout.values())))\n",
    "#     np.save(f'layouts/rome/{m}.npy', layouts)"
   ]
  },
  {
   "cell_type": "code",
   "execution_count": 16,
   "metadata": {
    "colab": {
     "base_uri": "https://localhost:8080/",
     "height": 564
    },
    "id": "upK7AHYqPmC5",
    "outputId": "29a88e61-f55f-409c-9194-12c6d5762528"
   },
   "outputs": [],
   "source": [
    "# from collections import Counter\n",
    "\n",
    "# letter_counts = Counter(best_list)\n",
    "# df = pd.DataFrame.from_dict(letter_counts, orient='index')\n",
    "# df.plot(kind='bar', figsize=[12, 8])"
   ]
  },
  {
   "cell_type": "markdown",
   "metadata": {
    "id": "f-ODE2k8BFV6"
   },
   "source": [
    "## Create folders"
   ]
  },
  {
   "cell_type": "code",
   "execution_count": 17,
   "metadata": {
    "id": "3ykUMINYBRog"
   },
   "outputs": [],
   "source": [
    "mkdirs(paths.checkpoints(), paths.tensorboard(), paths.visualization(), f\"{paths.root}/logs\", f\"{paths.root}/metrics\")"
   ]
  },
  {
   "cell_type": "markdown",
   "metadata": {
    "id": "BFq9k5nzBIh5"
   },
   "source": [
    "## Load checkpoints"
   ]
  },
  {
   "cell_type": "code",
   "execution_count": 18,
   "metadata": {
    "id": "W5NbsKkobIfA"
   },
   "outputs": [],
   "source": [
    "class EdgeFeatureDiscriminator(nn.Module):\n",
    "    def __init__(self, \n",
    "                 conv, \n",
    "                 dense,\n",
    "                 shared_depth,\n",
    "                 enet_depth,\n",
    "                 enet_width,\n",
    "                 aggr='add', \n",
    "                 root_weight=True,\n",
    "                 normalize=None):\n",
    "        super().__init__()\n",
    "        self.enet = nn.Sequential(*[\n",
    "            DenseLayer(in_dim=in_d,\n",
    "                       out_dim=out_d,\n",
    "                       skip=nonlin,\n",
    "                       bn=nonlin,\n",
    "                       act=nonlin,\n",
    "                       dp=None)\n",
    "            for in_d, out_d, nonlin \n",
    "            in zip([self._get_feature_dim()] + [enet_width] * (shared_depth-1),\n",
    "                   [enet_width] * shared_depth,\n",
    "                   [True] * (shared_depth-1) + [False])     \n",
    "        ])\n",
    "        self.blocks = nn.ModuleList([\n",
    "            GNNLayer(nfeat_dims=(in_d, out_d),\n",
    "                     efeat_dim=enet_width,\n",
    "                     edge_net=EdgeNet(nfeat_dims=(in_d, out_d), \n",
    "                                      efeat_dim=enet_width, \n",
    "                                      depth=enet_depth, \n",
    "                                      width=enet_width),\n",
    "                     aggr=aggr,\n",
    "                     dense=False,\n",
    "                     skip=nonlin,\n",
    "                     bn=nonlin,\n",
    "                     act=nonlin,\n",
    "                     root_weight=root_weight) \n",
    "            for in_d, out_d, nonlin \n",
    "            in zip(conv[:-1], conv[1:], [True] * (len(conv)-2) + [False])     \n",
    "        ])\n",
    "        self.pool = (gnn.global_mean_pool if aggr == 'mean' \n",
    "                     else gnn.global_add_pool if aggr == 'add' \n",
    "                     else None)\n",
    "        self.dense = nn.Identity() if not dense else nn.Sequential(*[\n",
    "            DenseLayer(in_dim=in_d,\n",
    "                       out_dim=out_d,\n",
    "                       skip=nonlin,\n",
    "                       bn=nonlin,\n",
    "                       act=nonlin,\n",
    "                       dp=None)\n",
    "            for in_d, out_d, nonlin \n",
    "            in zip(conv[-1:] + dense[:-1], dense, [True] * (len(dense)-1) + [False])     \n",
    "        ])\n",
    "        self.normalize = normalize or IdentityTransformation()\n",
    "    \n",
    "    def forward(self, batch):\n",
    "        x = torch.ones_like(batch.pos)\n",
    "        e = self.enet(self._get_features(self._get_edge_info(batch, layout='pos')))\n",
    "        for block in self.blocks:\n",
    "            x = block(x, e, batch)\n",
    "        x = self.pool(x, batch.batch)\n",
    "        x = self.dense(x)\n",
    "        return x\n",
    "    \n",
    "    def _get_edge_info(self, batch, layout='gt_pos'):\n",
    "        pos = self.normalize(batch[layout].float(), batch)\n",
    "        src, dst = get_edges(pos, batch)\n",
    "        v, u = l2_normalize(dst - src, return_norm=True)\n",
    "        d = batch.edge_attr[:, :1]\n",
    "        return {\n",
    "            \"src\": src,\n",
    "            \"dst\": dst,\n",
    "            \"v\": v,\n",
    "            \"u\": u,\n",
    "            \"d\": d,\n",
    "        }\n",
    "\n",
    "    def _get_features(self, edges):\n",
    "        return torch.cat([edges['src'], edges['dst'], edges['d']], dim=1)\n",
    "        \n",
    "    def _get_feature_dim(self):\n",
    "        return self._get_features({\n",
    "            \"src\": torch.zeros(1, 2),\n",
    "            \"dst\": torch.zeros(1, 2),\n",
    "            \"v\": torch.zeros(1, 2),\n",
    "            \"u\": torch.zeros(1, 1),\n",
    "            \"d\": torch.zeros(1, 1),\n",
    "        }).shape[-1]"
   ]
  },
  {
   "cell_type": "code",
   "execution_count": 19,
   "metadata": {
    "id": "96ZActxlL0fJ"
   },
   "outputs": [],
   "source": [
    "class StressDiscriminator(nn.Module):\n",
    "    def __init__(self, normalize=CanonicalizationByStress(), **kwargs):\n",
    "        super().__init__()\n",
    "        self.dummy = nn.Parameter(torch.zeros(1))\n",
    "        self.normalize = normalize\n",
    "        self.stress = Stress(reduce=None)\n",
    "\n",
    "    def forward(self, batch):\n",
    "        return -self.stress(self.normalize(batch.pos, batch), batch)"
   ]
  },
  {
   "cell_type": "code",
   "execution_count": 20,
   "metadata": {
    "id": "IJ6xCYBUuhcw"
   },
   "outputs": [],
   "source": [
    "def get_ckpt_epoch(folder, epoch):\n",
    "    if not os.path.isdir(folder):\n",
    "        os.mkdir(folder)\n",
    "    if epoch >= 0:\n",
    "        return epoch\n",
    "    ckpt_files = os.listdir(folder)\n",
    "    last_epoch = 0\n",
    "    if ckpt_files:\n",
    "        last_epoch = sorted(list(map(lambda x: int(re.search('(?<=epoch_)(\\d+)(?=\\.)', x).group(1)), ckpt_files)))[-1]\n",
    "    return last_epoch + epoch + 1\n",
    "\n",
    "def start_epoch():\n",
    "    return get_ckpt_epoch(paths.checkpoints(), config.epoch.start)"
   ]
  },
  {
   "cell_type": "code",
   "execution_count": 21,
   "metadata": {
    "colab": {
     "base_uri": "https://localhost:8080/"
    },
    "id": "JacDYXka9U01",
    "outputId": "ef4e31ab-2144-497c-8e4f-4d3740ce2d52"
   },
   "outputs": [
    {
     "name": "stdout",
     "output_type": "stream",
     "text": [
      "Loading from artifacts/checkpoints/GAN(gan=rgan,data=best(xing,random),canon=stress,conv=3,share=6,embed=10)/gen_epoch_663.pt...\n",
      "Loading from artifacts/checkpoints/GAN(gan=rgan,data=best(xing,random),canon=stress,conv=3,share=6,embed=10)/gen_optim_epoch_663.pt...\n"
     ]
    }
   ],
   "source": [
    "generator = Generator(**config.generator.params[...]).to(device)\n",
    "generator_optimizer = config.generator.optim(generator.parameters(), lr=config.generator.lr.initial * config.generator.lr.decay ** start_epoch())\n",
    "generator_scheduler = torch.optim.lr_scheduler.ExponentialLR(generator_optimizer, gamma=config.generator.lr.decay)\n",
    "if start_epoch() != 0:\n",
    "    gen_ckpt_epoch = start_epoch()\n",
    "elif config.generator.pretrained.name is not None and config.generator.pretrained.epoch != 0:\n",
    "    gen_pretrained_epoch = get_ckpt_epoch(paths.gen_pretrain(), config.generator.pretrained.epoch)\n",
    "    gen_ckpt_epoch = gen_pretrained_epoch \n",
    "else:\n",
    "    gen_ckpt_epoch = None\n",
    "if gen_ckpt_epoch is not None:\n",
    "    # Load generator\n",
    "    gen_ckpt_file = f\"{paths.checkpoints()}/gen_epoch_{gen_ckpt_epoch}.pt\"\n",
    "    print(f\"Loading from {gen_ckpt_file}...\")\n",
    "    generator.load_state_dict(torch.load(gen_ckpt_file, map_location=torch.device(device)))\n",
    "    # Load generator optimizer\n",
    "    gen_optim_ckpt_file = f\"{paths.checkpoints()}/gen_optim_epoch_{gen_ckpt_epoch}.pt\"\n",
    "    print(f\"Loading from {gen_optim_ckpt_file}...\")\n",
    "    generator_optimizer.load_state_dict(torch.load(gen_optim_ckpt_file, map_location=torch.device(device)))"
   ]
  },
  {
   "cell_type": "code",
   "execution_count": 22,
   "metadata": {
    "colab": {
     "base_uri": "https://localhost:8080/"
    },
    "id": "oWQhD7-88VXe",
    "outputId": "3ba01600-b546-4e45-a6bd-c7a65af1ae9e"
   },
   "outputs": [
    {
     "name": "stdout",
     "output_type": "stream",
     "text": [
      "Loading from artifacts/checkpoints/GAN(gan=rgan,data=best(xing,random),canon=stress,conv=3,share=6,embed=10)/dis_epoch_663.pt...\n",
      "Loading from artifacts/checkpoints/GAN(gan=rgan,data=best(xing,random),canon=stress,conv=3,share=6,embed=10)/dis_optim_epoch_663.pt...\n"
     ]
    }
   ],
   "source": [
    "discriminator = EdgeFeatureDiscriminator(**config.discriminator.params[...]).to(device)\n",
    "discriminator_optimizer = config.discriminator.optim(discriminator.parameters(), lr=config.discriminator.lr.initial * config.discriminator.lr.decay ** start_epoch())\n",
    "discriminator_scheduler = torch.optim.lr_scheduler.ExponentialLR(discriminator_optimizer, gamma=config.discriminator.lr.decay)\n",
    "if start_epoch() != 0:\n",
    "    dis_ckpt_epoch = start_epoch()\n",
    "elif config.discriminator.pretrained.name is not None and config.discriminator.pretrained.epoch != 0:\n",
    "    dis_pretrained_epoch = get_ckpt_epoch(paths.dis_pretrain(), config.discriminator.pretrained.epoch)\n",
    "    dis_ckpt_epoch = dis_pretrained_epoch # f\"{paths.dis_pretrain()}/dis_epoch_{dis_pretrained_epoch}.pt\"\n",
    "else:\n",
    "    dis_ckpt_epoch = None\n",
    "if dis_ckpt_epoch is not None:\n",
    "    # Load discriminator\n",
    "    dis_ckpt_file = f\"{paths.checkpoints()}/dis_epoch_{dis_ckpt_epoch}.pt\"\n",
    "    print(f\"Loading from {dis_ckpt_file}...\")\n",
    "    discriminator.load_state_dict(torch.load(dis_ckpt_file, map_location=torch.device(device)))\n",
    "    # Load discriminator optimizer\n",
    "    dis_optim_ckpt_file = f\"{paths.checkpoints()}/dis_optim_epoch_{dis_ckpt_epoch}.pt\"\n",
    "    print(f\"Loading from {dis_optim_ckpt_file}...\")\n",
    "    discriminator_optimizer.load_state_dict(torch.load(dis_optim_ckpt_file, map_location=torch.device(device)))"
   ]
  },
  {
   "cell_type": "markdown",
   "metadata": {
    "id": "N39dDHraedM6"
   },
   "source": [
    "# Train"
   ]
  },
  {
   "cell_type": "code",
   "execution_count": 23,
   "metadata": {
    "id": "BdIJSDSJedM-"
   },
   "outputs": [],
   "source": [
    "stress_criterion = StressDiscriminator().to(device)\n",
    "val_criterion = Stress(reduce=None)\n",
    "xing_criterion = Xing(reduce=None)\n",
    "dis_convert = DiscriminatorDataConverter(complete_graph=config.discriminator.complete, normalize=config.discriminator.params.normalize)\n",
    "tensorboard = SummaryWriter(log_dir=paths.tensorboard())\n",
    "epoch = start_epoch() + 1"
   ]
  },
  {
   "cell_type": "code",
   "execution_count": 24,
   "metadata": {
    "id": "OHRWj1h0edM-"
   },
   "outputs": [],
   "source": [
    "def gradient_penalty(interpolated, discriminator, weight=10):\n",
    "    interpolated.pos.requires_grad_()\n",
    "    prob_interpolated = discriminator(interpolated)\n",
    "    gradients = autograd.grad(outputs=prob_interpolated, \n",
    "                              inputs=interpolated.pos,\n",
    "                              grad_outputs=torch.ones_like(prob_interpolated),\n",
    "                              create_graph=True, \n",
    "                              retain_graph=True, \n",
    "                              allow_unused=True)[0]\n",
    "    gradients_norm = torch.sqrt(gnn.global_add_pool(gradients.square().sum(dim=1), batch.batch) + 1e-8)\n",
    "    return weight * ((gradients_norm - 1) ** 2).mean()"
   ]
  },
  {
   "cell_type": "code",
   "execution_count": 25,
   "metadata": {
    "id": "o5wJJN9AedM_"
   },
   "outputs": [],
   "source": [
    "def get_gp_loss(batch, fake_pos, weight):\n",
    "    if weight > 0:\n",
    "        interp = dis_convert(batch, fake_pos, random.random())\n",
    "        return gradient_penalty(interp, discriminator, weight).mean()\n",
    "    return 0"
   ]
  },
  {
   "cell_type": "code",
   "execution_count": 26,
   "metadata": {
    "id": "QwuA6sRoedM_"
   },
   "outputs": [],
   "source": [
    "def get_sgan_loss(batch, fake_pos, mode='discriminator'):\n",
    "    real = dis_convert(batch)\n",
    "    fake = dis_convert(batch, fake_pos)\n",
    "    pred = discriminator(merge_batch(real, fake)).view(2, -1).T\n",
    "    if mode == 'discriminator':\n",
    "        label = torch.zeros(pred.shape[0]).long()\n",
    "    elif mode == 'generator':\n",
    "        label = torch.ones(pred.shape[0]).long()\n",
    "    else:\n",
    "        raise Exception\n",
    "    return nn.CrossEntropyLoss()(pred, label)"
   ]
  },
  {
   "cell_type": "code",
   "execution_count": 27,
   "metadata": {
    "id": "GuAP1YchedNA"
   },
   "outputs": [],
   "source": [
    "def get_rgan_loss(batch, fake_pos, mode='discriminator'):\n",
    "    real = dis_convert(batch)\n",
    "    fake = dis_convert(batch, fake_pos)\n",
    "    pred = discriminator(merge_batch(real, fake)).view(2, -1).T\n",
    "    real_pred, fake_pred = pred[:,0], pred[:,1]\n",
    "    if mode == 'discriminator':\n",
    "        losses = - F.logsigmoid(real_pred - fake_pred)\n",
    "    elif mode == 'generator':\n",
    "        losses = - F.logsigmoid(fake_pred - real_pred)\n",
    "    else:\n",
    "        raise Exception\n",
    "    return losses.mean()"
   ]
  },
  {
   "cell_type": "code",
   "execution_count": 28,
   "metadata": {
    "id": "KFllQ7BredNA"
   },
   "outputs": [],
   "source": [
    "def get_wgan_loss(batch, fake_pos, mode='discriminator'):\n",
    "    real = dis_convert(batch)\n",
    "    fake = dis_convert(batch, fake_pos)\n",
    "    pred = discriminator(merge_batch(real, fake)).view(2, -1).T\n",
    "    real_pred, fake_pred = pred[:,0], pred[:,1]\n",
    "    if mode == 'discriminator':\n",
    "        losses = fake_pred - real_pred \n",
    "    elif mode == 'generator':\n",
    "        losses = real_pred - fake_pred\n",
    "    else:\n",
    "        raise Exception\n",
    "    return losses.mean()"
   ]
  },
  {
   "cell_type": "code",
   "execution_count": 29,
   "metadata": {
    "id": "r5Kg_tYEedNA"
   },
   "outputs": [],
   "source": [
    "def get_ragan_loss(batch, fake_pos, mode='discriminator'):\n",
    "    real = dis_convert(batch)\n",
    "    fake = dis_convert(batch, fake_pos)\n",
    "    pred = discriminator(merge_batch(real, fake)).view(2, -1).T\n",
    "    real_pred, fake_pred = pred[:,0], pred[:,1]\n",
    "    if mode == 'discriminator':\n",
    "        losses = - F.logsigmoid(real_pred - fake_pred.mean()) - F.logsigmoid(real_pred.mean() - fake_pred)\n",
    "    elif mode == 'generator':\n",
    "        losses = - F.logsigmoid(fake_pred - real_pred.mean()) - F.logsigmoid(fake_pred.mean() - real_pred)\n",
    "    else:\n",
    "        raise Exception\n",
    "    return losses.mean()"
   ]
  },
  {
   "cell_type": "code",
   "execution_count": 30,
   "metadata": {},
   "outputs": [],
   "source": [
    "def get_dgdv2_loss(batch, fake_pos, mode='discriminator'):\n",
    "    fake = dis_convert(batch, fake_pos)\n",
    "    pred = discriminator(fake)\n",
    "    if mode == 'discriminator':\n",
    "        gt = get_gt(batch, fake_pos)\n",
    "        loss = criterion(pred, gt)\n",
    "    elif mode == 'generator':\n",
    "        losses = pred.sum(dim=0)\n",
    "#         losses = torch.tensor(config.importance).to(device) * losses #/ losses.detach()\n",
    "        loss = losses.sum()\n",
    "    else:\n",
    "        raise Exception\n",
    "    return -loss"
   ]
  },
  {
   "cell_type": "code",
   "execution_count": 31,
   "metadata": {
    "id": "3IE_84f-edNB"
   },
   "outputs": [],
   "source": [
    "def get_gan_loss(batch, fake_pos, mode='discriminator'):\n",
    "    return {\"sgan\": get_sgan_loss,\n",
    "            \"wgan\": get_wgan_loss,\n",
    "            \"rgan\": get_rgan_loss,\n",
    "            \"ragan\": get_ragan_loss,\n",
    "            \"dgdv2\": get_dgdv2_loss}[config.gan_flavor](batch, fake_pos, mode)"
   ]
  },
  {
   "cell_type": "code",
   "execution_count": 32,
   "metadata": {
    "colab": {
     "background_save": true,
     "base_uri": "https://localhost:8080/",
     "height": 80
    },
    "id": "2NjekXgkedNB",
    "outputId": "da85b2ec-c0de-459c-c0dd-7ba3519419fa",
    "scrolled": true,
    "tags": []
   },
   "outputs": [
    {
     "data": {
      "application/vnd.jupyter.widget-view+json": {
       "model_id": "3a281209f11d4be587de0d2d4e8a52d8",
       "version_major": 2,
       "version_minor": 0
      },
      "text/plain": [
       "Tab(children=(VBox(children=(Wrapper(), Hud())), HBox(children=(Output(),), layout=Layout(height='500px', over…"
      ]
     },
     "metadata": {},
     "output_type": "display_data"
    },
    {
     "ename": "KeyboardInterrupt",
     "evalue": "",
     "output_type": "error",
     "traceback": [
      "\u001b[0;31m---------------------------------------------------------------------------\u001b[0m",
      "\u001b[0;31mKeyboardInterrupt\u001b[0m                         Traceback (most recent call last)",
      "\u001b[0;32m/tmp/slurmtmp.6062899/ipykernel_23712/3136285819.py\u001b[0m in \u001b[0;36m<module>\u001b[0;34m\u001b[0m\n\u001b[1;32m    123\u001b[0m     \u001b[0;32mfor\u001b[0m \u001b[0m_\u001b[0m \u001b[0;32min\u001b[0m \u001b[0mrange\u001b[0m\u001b[0;34m(\u001b[0m\u001b[0mconfig\u001b[0m\u001b[0;34m.\u001b[0m\u001b[0mdiscriminator\u001b[0m\u001b[0;34m.\u001b[0m\u001b[0mrepeat\u001b[0m\u001b[0;34m)\u001b[0m\u001b[0;34m:\u001b[0m\u001b[0;34m\u001b[0m\u001b[0;34m\u001b[0m\u001b[0m\n\u001b[1;32m    124\u001b[0m         \u001b[0;32mfor\u001b[0m \u001b[0mbatch\u001b[0m \u001b[0;32min\u001b[0m \u001b[0mtrain_loader\u001b[0m\u001b[0;34m:\u001b[0m\u001b[0;34m\u001b[0m\u001b[0;34m\u001b[0m\u001b[0m\n\u001b[0;32m--> 125\u001b[0;31m             \u001b[0mtrain_dis\u001b[0m\u001b[0;34m(\u001b[0m\u001b[0mbatch\u001b[0m\u001b[0;34m,\u001b[0m \u001b[0mepoch\u001b[0m\u001b[0;34m)\u001b[0m\u001b[0;34m\u001b[0m\u001b[0;34m\u001b[0m\u001b[0m\n\u001b[0m\u001b[1;32m    126\u001b[0m             \u001b[0;32mif\u001b[0m \u001b[0mconfig\u001b[0m\u001b[0;34m.\u001b[0m\u001b[0malternate\u001b[0m \u001b[0;34m==\u001b[0m \u001b[0;34m'iteration'\u001b[0m\u001b[0;34m:\u001b[0m\u001b[0;34m\u001b[0m\u001b[0;34m\u001b[0m\u001b[0m\n\u001b[1;32m    127\u001b[0m                 \u001b[0mtrain_gen\u001b[0m\u001b[0;34m(\u001b[0m\u001b[0mbatch\u001b[0m\u001b[0;34m,\u001b[0m \u001b[0mepoch\u001b[0m\u001b[0;34m)\u001b[0m\u001b[0;34m\u001b[0m\u001b[0;34m\u001b[0m\u001b[0m\n",
      "\u001b[0;32m/tmp/slurmtmp.6062899/ipykernel_23712/3136285819.py\u001b[0m in \u001b[0;36mtrain_dis\u001b[0;34m(batch, epoch)\u001b[0m\n\u001b[1;32m      9\u001b[0m     \u001b[0;31m# train discriminator\u001b[0m\u001b[0;34m\u001b[0m\u001b[0;34m\u001b[0m\u001b[0m\n\u001b[1;32m     10\u001b[0m     \u001b[0mdiscriminator_loss\u001b[0m\u001b[0;34m.\u001b[0m\u001b[0mbackward\u001b[0m\u001b[0;34m(\u001b[0m\u001b[0;34m)\u001b[0m\u001b[0;34m\u001b[0m\u001b[0;34m\u001b[0m\u001b[0m\n\u001b[0;32m---> 11\u001b[0;31m     \u001b[0mdiscriminator_optimizer\u001b[0m\u001b[0;34m.\u001b[0m\u001b[0mstep\u001b[0m\u001b[0;34m(\u001b[0m\u001b[0;34m)\u001b[0m\u001b[0;34m\u001b[0m\u001b[0;34m\u001b[0m\u001b[0m\n\u001b[0m\u001b[1;32m     12\u001b[0m \u001b[0;34m\u001b[0m\u001b[0m\n\u001b[1;32m     13\u001b[0m     \u001b[0;31m# gradient penalty\u001b[0m\u001b[0;34m\u001b[0m\u001b[0;34m\u001b[0m\u001b[0m\n",
      "\u001b[0;32m~/.conda/envs/deepgd/lib/python3.9/site-packages/torch/optim/lr_scheduler.py\u001b[0m in \u001b[0;36mwrapper\u001b[0;34m(*args, **kwargs)\u001b[0m\n\u001b[1;32m     63\u001b[0m                 \u001b[0minstance\u001b[0m\u001b[0;34m.\u001b[0m\u001b[0m_step_count\u001b[0m \u001b[0;34m+=\u001b[0m \u001b[0;36m1\u001b[0m\u001b[0;34m\u001b[0m\u001b[0;34m\u001b[0m\u001b[0m\n\u001b[1;32m     64\u001b[0m                 \u001b[0mwrapped\u001b[0m \u001b[0;34m=\u001b[0m \u001b[0mfunc\u001b[0m\u001b[0;34m.\u001b[0m\u001b[0m__get__\u001b[0m\u001b[0;34m(\u001b[0m\u001b[0minstance\u001b[0m\u001b[0;34m,\u001b[0m \u001b[0mcls\u001b[0m\u001b[0;34m)\u001b[0m\u001b[0;34m\u001b[0m\u001b[0;34m\u001b[0m\u001b[0m\n\u001b[0;32m---> 65\u001b[0;31m                 \u001b[0;32mreturn\u001b[0m \u001b[0mwrapped\u001b[0m\u001b[0;34m(\u001b[0m\u001b[0;34m*\u001b[0m\u001b[0margs\u001b[0m\u001b[0;34m,\u001b[0m \u001b[0;34m**\u001b[0m\u001b[0mkwargs\u001b[0m\u001b[0;34m)\u001b[0m\u001b[0;34m\u001b[0m\u001b[0;34m\u001b[0m\u001b[0m\n\u001b[0m\u001b[1;32m     66\u001b[0m \u001b[0;34m\u001b[0m\u001b[0m\n\u001b[1;32m     67\u001b[0m             \u001b[0;31m# Note that the returned function here is no longer a bound method,\u001b[0m\u001b[0;34m\u001b[0m\u001b[0;34m\u001b[0m\u001b[0m\n",
      "\u001b[0;32m~/.conda/envs/deepgd/lib/python3.9/site-packages/torch/optim/optimizer.py\u001b[0m in \u001b[0;36mwrapper\u001b[0;34m(*args, **kwargs)\u001b[0m\n\u001b[1;32m     86\u001b[0m                 \u001b[0mprofile_name\u001b[0m \u001b[0;34m=\u001b[0m \u001b[0;34m\"Optimizer.step#{}.step\"\u001b[0m\u001b[0;34m.\u001b[0m\u001b[0mformat\u001b[0m\u001b[0;34m(\u001b[0m\u001b[0mobj\u001b[0m\u001b[0;34m.\u001b[0m\u001b[0m__class__\u001b[0m\u001b[0;34m.\u001b[0m\u001b[0m__name__\u001b[0m\u001b[0;34m)\u001b[0m\u001b[0;34m\u001b[0m\u001b[0;34m\u001b[0m\u001b[0m\n\u001b[1;32m     87\u001b[0m                 \u001b[0;32mwith\u001b[0m \u001b[0mtorch\u001b[0m\u001b[0;34m.\u001b[0m\u001b[0mautograd\u001b[0m\u001b[0;34m.\u001b[0m\u001b[0mprofiler\u001b[0m\u001b[0;34m.\u001b[0m\u001b[0mrecord_function\u001b[0m\u001b[0;34m(\u001b[0m\u001b[0mprofile_name\u001b[0m\u001b[0;34m)\u001b[0m\u001b[0;34m:\u001b[0m\u001b[0;34m\u001b[0m\u001b[0;34m\u001b[0m\u001b[0m\n\u001b[0;32m---> 88\u001b[0;31m                     \u001b[0;32mreturn\u001b[0m \u001b[0mfunc\u001b[0m\u001b[0;34m(\u001b[0m\u001b[0;34m*\u001b[0m\u001b[0margs\u001b[0m\u001b[0;34m,\u001b[0m \u001b[0;34m**\u001b[0m\u001b[0mkwargs\u001b[0m\u001b[0;34m)\u001b[0m\u001b[0;34m\u001b[0m\u001b[0;34m\u001b[0m\u001b[0m\n\u001b[0m\u001b[1;32m     89\u001b[0m             \u001b[0;32mreturn\u001b[0m \u001b[0mwrapper\u001b[0m\u001b[0;34m\u001b[0m\u001b[0;34m\u001b[0m\u001b[0m\n\u001b[1;32m     90\u001b[0m \u001b[0;34m\u001b[0m\u001b[0m\n",
      "\u001b[0;32m~/.conda/envs/deepgd/lib/python3.9/site-packages/torch/autograd/grad_mode.py\u001b[0m in \u001b[0;36mdecorate_context\u001b[0;34m(*args, **kwargs)\u001b[0m\n\u001b[1;32m     26\u001b[0m         \u001b[0;32mdef\u001b[0m \u001b[0mdecorate_context\u001b[0m\u001b[0;34m(\u001b[0m\u001b[0;34m*\u001b[0m\u001b[0margs\u001b[0m\u001b[0;34m,\u001b[0m \u001b[0;34m**\u001b[0m\u001b[0mkwargs\u001b[0m\u001b[0;34m)\u001b[0m\u001b[0;34m:\u001b[0m\u001b[0;34m\u001b[0m\u001b[0;34m\u001b[0m\u001b[0m\n\u001b[1;32m     27\u001b[0m             \u001b[0;32mwith\u001b[0m \u001b[0mself\u001b[0m\u001b[0;34m.\u001b[0m\u001b[0m__class__\u001b[0m\u001b[0;34m(\u001b[0m\u001b[0;34m)\u001b[0m\u001b[0;34m:\u001b[0m\u001b[0;34m\u001b[0m\u001b[0;34m\u001b[0m\u001b[0m\n\u001b[0;32m---> 28\u001b[0;31m                 \u001b[0;32mreturn\u001b[0m \u001b[0mfunc\u001b[0m\u001b[0;34m(\u001b[0m\u001b[0;34m*\u001b[0m\u001b[0margs\u001b[0m\u001b[0;34m,\u001b[0m \u001b[0;34m**\u001b[0m\u001b[0mkwargs\u001b[0m\u001b[0;34m)\u001b[0m\u001b[0;34m\u001b[0m\u001b[0;34m\u001b[0m\u001b[0m\n\u001b[0m\u001b[1;32m     29\u001b[0m         \u001b[0;32mreturn\u001b[0m \u001b[0mcast\u001b[0m\u001b[0;34m(\u001b[0m\u001b[0mF\u001b[0m\u001b[0;34m,\u001b[0m \u001b[0mdecorate_context\u001b[0m\u001b[0;34m)\u001b[0m\u001b[0;34m\u001b[0m\u001b[0;34m\u001b[0m\u001b[0m\n\u001b[1;32m     30\u001b[0m \u001b[0;34m\u001b[0m\u001b[0m\n",
      "\u001b[0;32m~/.conda/envs/deepgd/lib/python3.9/site-packages/torch/optim/adamw.py\u001b[0m in \u001b[0;36mstep\u001b[0;34m(self, closure)\u001b[0m\n\u001b[1;32m    108\u001b[0m                 \u001b[0mstate_steps\u001b[0m\u001b[0;34m.\u001b[0m\u001b[0mappend\u001b[0m\u001b[0;34m(\u001b[0m\u001b[0mstate\u001b[0m\u001b[0;34m[\u001b[0m\u001b[0;34m'step'\u001b[0m\u001b[0;34m]\u001b[0m\u001b[0;34m)\u001b[0m\u001b[0;34m\u001b[0m\u001b[0;34m\u001b[0m\u001b[0m\n\u001b[1;32m    109\u001b[0m \u001b[0;34m\u001b[0m\u001b[0m\n\u001b[0;32m--> 110\u001b[0;31m             F.adamw(params_with_grad,\n\u001b[0m\u001b[1;32m    111\u001b[0m                     \u001b[0mgrads\u001b[0m\u001b[0;34m,\u001b[0m\u001b[0;34m\u001b[0m\u001b[0;34m\u001b[0m\u001b[0m\n\u001b[1;32m    112\u001b[0m                     \u001b[0mexp_avgs\u001b[0m\u001b[0;34m,\u001b[0m\u001b[0;34m\u001b[0m\u001b[0;34m\u001b[0m\u001b[0m\n",
      "\u001b[0;32m~/.conda/envs/deepgd/lib/python3.9/site-packages/torch/optim/_functional.py\u001b[0m in \u001b[0;36madamw\u001b[0;34m(params, grads, exp_avgs, exp_avg_sqs, max_exp_avg_sqs, state_steps, amsgrad, beta1, beta2, lr, weight_decay, eps)\u001b[0m\n\u001b[1;32m    137\u001b[0m             \u001b[0mdenom\u001b[0m \u001b[0;34m=\u001b[0m \u001b[0;34m(\u001b[0m\u001b[0mmax_exp_avg_sqs\u001b[0m\u001b[0;34m[\u001b[0m\u001b[0mi\u001b[0m\u001b[0;34m]\u001b[0m\u001b[0;34m.\u001b[0m\u001b[0msqrt\u001b[0m\u001b[0;34m(\u001b[0m\u001b[0;34m)\u001b[0m \u001b[0;34m/\u001b[0m \u001b[0mmath\u001b[0m\u001b[0;34m.\u001b[0m\u001b[0msqrt\u001b[0m\u001b[0;34m(\u001b[0m\u001b[0mbias_correction2\u001b[0m\u001b[0;34m)\u001b[0m\u001b[0;34m)\u001b[0m\u001b[0;34m.\u001b[0m\u001b[0madd_\u001b[0m\u001b[0;34m(\u001b[0m\u001b[0meps\u001b[0m\u001b[0;34m)\u001b[0m\u001b[0;34m\u001b[0m\u001b[0;34m\u001b[0m\u001b[0m\n\u001b[1;32m    138\u001b[0m         \u001b[0;32melse\u001b[0m\u001b[0;34m:\u001b[0m\u001b[0;34m\u001b[0m\u001b[0;34m\u001b[0m\u001b[0m\n\u001b[0;32m--> 139\u001b[0;31m             \u001b[0mdenom\u001b[0m \u001b[0;34m=\u001b[0m \u001b[0;34m(\u001b[0m\u001b[0mexp_avg_sq\u001b[0m\u001b[0;34m.\u001b[0m\u001b[0msqrt\u001b[0m\u001b[0;34m(\u001b[0m\u001b[0;34m)\u001b[0m \u001b[0;34m/\u001b[0m \u001b[0mmath\u001b[0m\u001b[0;34m.\u001b[0m\u001b[0msqrt\u001b[0m\u001b[0;34m(\u001b[0m\u001b[0mbias_correction2\u001b[0m\u001b[0;34m)\u001b[0m\u001b[0;34m)\u001b[0m\u001b[0;34m.\u001b[0m\u001b[0madd_\u001b[0m\u001b[0;34m(\u001b[0m\u001b[0meps\u001b[0m\u001b[0;34m)\u001b[0m\u001b[0;34m\u001b[0m\u001b[0;34m\u001b[0m\u001b[0m\n\u001b[0m\u001b[1;32m    140\u001b[0m \u001b[0;34m\u001b[0m\u001b[0m\n\u001b[1;32m    141\u001b[0m         \u001b[0mstep_size\u001b[0m \u001b[0;34m=\u001b[0m \u001b[0mlr\u001b[0m \u001b[0;34m/\u001b[0m \u001b[0mbias_correction1\u001b[0m\u001b[0;34m\u001b[0m\u001b[0;34m\u001b[0m\u001b[0m\n",
      "\u001b[0;31mKeyboardInterrupt\u001b[0m: "
     ]
    }
   ],
   "source": [
    "def train_dis(batch, epoch):\n",
    "    generator.requires_grad_(False)\n",
    "    discriminator.zero_grad()\n",
    "    generator_output = generator(batch)\n",
    "    if config.discriminator.noise.std > 0:\n",
    "        generator_output = generator_output + torch.randn_like(generator_output) * config.discriminator.noise.std * config.discriminator.noise.decay ** epoch\n",
    "    discriminator_loss = get_gan_loss(batch, generator_output, mode='discriminator')\n",
    "    \n",
    "    # train discriminator\n",
    "    discriminator_loss.backward()\n",
    "    discriminator_optimizer.step()\n",
    "\n",
    "    # gradient penalty\n",
    "    if config.gp_weight > 0:\n",
    "        discriminator.zero_grad()\n",
    "        gp_loss = get_gp_loss(batch, generator_output, config.gp_weight)\n",
    "        gp_loss.backward()\n",
    "        discriminator_optimizer.step()\n",
    "\n",
    "    hud['dis_loss'] = format(discriminator_loss.item(), '.2e')\n",
    "    pbar().update()\n",
    "\n",
    "def train_gen(batch, epoch):\n",
    "    generator.requires_grad_(True)\n",
    "    generator.zero_grad()\n",
    "    discriminator.zero_grad()\n",
    "    generator_output = generator(batch)\n",
    "    if config.discriminator.noise.std > 0:\n",
    "        generator_output = generator_output + torch.randn_like(generator_output) * config.discriminator.noise.std * config.discriminator.noise.decay ** epoch\n",
    "    generator_loss = get_gan_loss(batch, generator_output, mode='generator') \n",
    "    \n",
    "    #train generator\n",
    "    generator_loss.backward()\n",
    "    generator_optimizer.step()\n",
    "\n",
    "    with torch.no_grad():\n",
    "        dis_batch = dis_convert(batch, generator_output)\n",
    "        stress = stress_criterion(dis_batch).mean()\n",
    "        critic = discriminator(dis_batch).mean()\n",
    "    hud.append({'gen_loss': format(generator_loss.item(), '.2e'),\n",
    "                'stress': format(stress.item(), '.2e'),\n",
    "                'critic': format(critic.item(), '.2e')})\n",
    "    pbar().update()\n",
    "\n",
    "def cuda_memsafe_map(fn, *iterables, summary=False):\n",
    "    total, failed = 0, 0\n",
    "    iterator = zip(*iterables)\n",
    "    items = None\n",
    "    while True:\n",
    "        try:\n",
    "            items = next(iterator)\n",
    "            yield fn(*items)\n",
    "        except StopIteration:\n",
    "            if summary:\n",
    "                print(f'Iteration finished. {failed} out of {total} failed!')\n",
    "            break\n",
    "        except RuntimeError:\n",
    "            print('CUDA memory overflow! Skip batch...')\n",
    "            del items\n",
    "            failed += 1\n",
    "        torch.cuda.empty_cache()\n",
    "        total += 1\n",
    "    \n",
    "def validate(model, data_loader, criterion=val_criterion):\n",
    "    def val_one_batch(batch):\n",
    "        batch = preprocess_batch(model, batch)\n",
    "        pred = CanonicalizationByStress()(model(batch), batch)\n",
    "        gt = CanonicalizationByStress()(batch.gt_pos, batch)\n",
    "        loss = criterion(pred, batch)\n",
    "        gt_loss = criterion(gt, batch)\n",
    "        spc = (loss - gt_loss) / torch.maximum(torch.maximum(loss, gt_loss), torch.ones_like(loss)*1e-5)\n",
    "        return loss.mean().item(), spc.mean().item()\n",
    "    loss_all, spc_all = zip(*cuda_memsafe_map(val_one_batch, data_loader))\n",
    "    return np.mean(loss_all), np.mean(spc_all)\n",
    "\n",
    "def log(msg):\n",
    "    msg = f\"[{epoch:03}] {msg}\"\n",
    "    print(msg, file=open(paths.log(), \"a\"))\n",
    "    with log_out: \n",
    "        print(msg)\n",
    "\n",
    "print(f\"{'='*10} {config.link} {'='*10}\", file=open(paths.log(), \"a\"))\n",
    "hud = Hud()\n",
    "pbar = Wrapper(tqdm, total=len(train_loader)*2, smoothing=0)\n",
    "plot_out = Output()\n",
    "log_out = Output()\n",
    "tabs = {\"status\": VBox([pbar, hud]), \n",
    "        \"plot\": HBox([plot_out], layout=Layout(height='500px', overflow_y='auto')),\n",
    "        \"log\": HBox([log_out], layout=Layout(height='500px', overflow_y='auto'))}\n",
    "tab_bar = Tab(children=list(tabs.values()))\n",
    "[tab_bar.set_title(i, name) for i, name in enumerate(tabs)]\n",
    "display(tab_bar)\n",
    "while True:\n",
    "    if epoch % config.log_interval == 0:\n",
    "        generator.eval()\n",
    "        with torch.no_grad():\n",
    "            val_stress, val_stress_spc = validate(model=generator, data_loader=val_loader)\n",
    "            val_xing, val_xing_spc = validate(model=generator, data_loader=val_loader, criterion=xing_criterion)\n",
    "            with plot_out:\n",
    "                fig = plt.figure()\n",
    "                graph_vis(G_list[11100], generator(make_batch(data_list[11100]).to(device)).cpu())\n",
    "                plt.show()\n",
    "        # tensorboard.add_scalars('loss', {'train': train_loss, \n",
    "        #                                  'validation': val_loss}, epoch)\n",
    "        # for i, fn in enumerate(loss_fns):\n",
    "        #     tensorboard.add_scalars(type(fn).__name__, {'train': train_loss_comp[i].item(), \n",
    "        #                                           'validation': val_loss_comp[i].item()}, epoch)\n",
    "        hud.append({\n",
    "            'val_stress': format(val_stress, '.2f'),\n",
    "            'val_stress_spc': format(val_stress_spc, '.2%'),\n",
    "            'val_xing': format(val_xing, '.2f'),\n",
    "            'val_xing_spc': format(val_xing_spc, '.2%'),\n",
    "        })\n",
    "        log(f\"stress={hud.data['val_stress']}({hud.data['val_stress_spc']}) xing={hud.data['val_xing']}({hud.data['val_xing_spc']})\")\n",
    "        \n",
    "    # handle.update(tab_bar)\n",
    "    pbar().reset()\n",
    "    pbar().set_description(desc=f\"[epoch {epoch}/{config.epoch.end}]\")\n",
    "    hud(title=f\"epoch {epoch}\")\n",
    "    generator.train()\n",
    "    discriminator.train()\n",
    "    # proper: proper layout\n",
    "    for _ in range(config.discriminator.repeat):\n",
    "        for batch in train_loader:\n",
    "            train_dis(batch, epoch)\n",
    "            if config.alternate == 'iteration':\n",
    "                train_gen(batch, epoch)\n",
    "\n",
    "    if config.alternate == 'epoch':\n",
    "        for batch in train_loader:\n",
    "            train_gen(batch, epoch)\n",
    "\n",
    "    discriminator_scheduler.step()\n",
    "    generator_scheduler.step()\n",
    "    \n",
    "    if epoch % config.log_interval == 0:\n",
    "        torch.save(generator.state_dict(), f\"{paths.checkpoints()}/gen_epoch_{epoch}.pt\")\n",
    "        torch.save(generator_optimizer.state_dict(), f\"{paths.checkpoints()}/gen_optim_epoch_{epoch}.pt\")\n",
    "        torch.save(discriminator.state_dict(), f\"{paths.checkpoints()}/dis_epoch_{epoch}.pt\")\n",
    "        torch.save(discriminator_optimizer.state_dict(), f\"{paths.checkpoints()}/dis_optim_epoch_{epoch}.pt\")\n",
    "\n",
    "    if epoch == config.epoch.end:\n",
    "        break\n",
    "    epoch += 1"
   ]
  },
  {
   "cell_type": "markdown",
   "metadata": {
    "id": "0qYK_X_hrq9o"
   },
   "source": [
    "# Test"
   ]
  },
  {
   "cell_type": "code",
   "execution_count": 33,
   "metadata": {
    "colab": {
     "base_uri": "https://localhost:8080/"
    },
    "id": "XEvmAtNjWhcY",
    "outputId": "9f4c86a4-a4b0-48f1-cb58-ab3679173184"
   },
   "outputs": [
    {
     "name": "stdout",
     "output_type": "stream",
     "text": [
      "Loading from artifacts/checkpoints/GAN(gan=rgan,data=best(xing,random),canon=stress,conv=3,share=6,embed=10)/gen_epoch_665.pt...\n"
     ]
    },
    {
     "data": {
      "text/plain": [
       "<All keys matched successfully>"
      ]
     },
     "execution_count": 33,
     "metadata": {},
     "output_type": "execute_result"
    }
   ],
   "source": [
    "test_epoch = -1\n",
    "\n",
    "test_generator = Generator(**config.generator.params[...]).to(device)\n",
    "test_ckpt_epoch = get_ckpt_epoch(paths.checkpoints(), test_epoch)\n",
    "test_ckpt_file = f\"{paths.checkpoints()}/gen_epoch_{test_ckpt_epoch}.pt\"\n",
    "print(f\"Loading from {test_ckpt_file}...\")\n",
    "test_generator.load_state_dict(torch.load(test_ckpt_file, map_location=torch.device(device)))"
   ]
  },
  {
   "cell_type": "code",
   "execution_count": 34,
   "metadata": {
    "colab": {
     "background_save": true,
     "base_uri": "https://localhost:8080/",
     "height": 1000,
     "referenced_widgets": [
      "9b7d18992dbf4a84931f916fbaaa37d8",
      "2c664d7e1e6d474fb87094fc0da270d3",
      "d375f5f82a4645d7b29c541596dc1c7f",
      "ecfa311bb06b4f6fa504598263ff69d3",
      "d1859990877149eab2b414b4e2a0e0c7",
      "d2be6733734844bca3e1db9b49eb1c1e",
      "4d98072bdf674792a13d77e85dd285d1",
      "f7ed92c383d741a0a1cef2536ff2db13",
      "2ba110f835c64ec4b82974996aed10af",
      "09397ceac9014af0aebca848d4d96d48",
      "fd0709f48d6c4527bc00b5f407f3c1b9"
     ]
    },
    "id": "ZubmSTcYrq9o",
    "outputId": "fc2f65a2-2085-43ac-b110-cbfe742318a8",
    "scrolled": true,
    "tags": []
   },
   "outputs": [
    {
     "data": {
      "application/vnd.jupyter.widget-view+json": {
       "model_id": "6db207003a25454f985ba1413120b55f",
       "version_major": 2,
       "version_minor": 0
      },
      "text/plain": [
       "  0%|          | 0/1000 [00:00<?, ?it/s]"
      ]
     },
     "metadata": {},
     "output_type": "display_data"
    }
   ],
   "source": [
    "rotate = RotateByPrincipalComponents()\n",
    "def test_callback(*, idx, pred, metrics):\n",
    "    # graph_vis(G_list[idx], pred, file_name=f\"{paths.visualization()}/{idx}_{metrics['stress']:.2f}_{metrics['resolution_score']:.2f}.png\")\n",
    "    pred = rotate(torch.tensor(pred), data_list[idx])\n",
    "    graph_vis(G_list[idx], pred)\n",
    "    plt.title(f\"[pred] idx: {idx}, stress: {metrics['stress']:.2f}({metrics['stress_spc']:.2%}), xing: {metrics['xing']:.2f}({metrics['xing_spc']:.2%})\")\n",
    "    plt.show()\n",
    "    gt_pos = rotate(data_list[idx].gt_pos, data_list[idx])\n",
    "    graph_vis(G_list[idx], gt_pos, node_color='orange')\n",
    "    plt.title(f\"[gt] idx: {idx}, stress: {metrics['gt_stress']:.2f}, xing: {metrics['gt_xing']:.2f}\")\n",
    "    plt.show()\n",
    "    \n",
    "test_metrics = test(model=test_generator, \n",
    "                    criteria_list=[], \n",
    "                    dataset=data_list, \n",
    "                    idx_range=range(10000, 11000), \n",
    "#                     callback=test_callback,\n",
    "                    gt_pos=None)\n",
    "pickle.dump(test_metrics, open(paths.metrics(\"test\"), \"wb\"))"
   ]
  },
  {
   "cell_type": "code",
   "execution_count": 35,
   "metadata": {
    "colab": {
     "base_uri": "https://localhost:8080/",
     "height": 318
    },
    "id": "t2rFXIr_PsrJ",
    "outputId": "6a4205b1-4630-4de4-ec72-bdba3d3ea114"
   },
   "outputs": [
    {
     "name": "stdout",
     "output_type": "stream",
     "text": [
      "stress: tensor(350.2226)\n",
      "stress_spc: tensor(0.0429, dtype=torch.float64)\n",
      "xing: tensor(27.9300)\n",
      "xing_spc: tensor(0.2003, dtype=torch.float64)\n",
      "l1_angle: tensor(79.6410)\n",
      "l1_angle_spc: tensor(0.0465, dtype=torch.float64)\n",
      "edge: tensor(0.2071)\n",
      "edge_spc: tensor(0.1398, dtype=torch.float64)\n",
      "ring: tensor(260.3856)\n",
      "ring_spc: tensor(0.0066, dtype=torch.float64)\n",
      "tsne: tensor(0.2077)\n",
      "tsne_spc: tensor(0.0495, dtype=torch.float64)\n",
      "reso_score: tensor(0.5955)\n",
      "min_angle: tensor(4.5453)\n"
     ]
    },
    {
     "data": {
      "text/html": [
       "<style type=\"text/css\">\n",
       "</style>\n",
       "<table id=\"T_c386e_\">\n",
       "  <thead>\n",
       "    <tr>\n",
       "      <th class=\"blank level0\" >&nbsp;</th>\n",
       "      <th class=\"col_heading level0 col0\" >stress</th>\n",
       "      <th class=\"col_heading level0 col1\" >stress_spc</th>\n",
       "      <th class=\"col_heading level0 col2\" >xing</th>\n",
       "      <th class=\"col_heading level0 col3\" >xing_spc</th>\n",
       "      <th class=\"col_heading level0 col4\" >l1_angle</th>\n",
       "      <th class=\"col_heading level0 col5\" >l1_angle_spc</th>\n",
       "      <th class=\"col_heading level0 col6\" >edge</th>\n",
       "      <th class=\"col_heading level0 col7\" >edge_spc</th>\n",
       "      <th class=\"col_heading level0 col8\" >ring</th>\n",
       "      <th class=\"col_heading level0 col9\" >ring_spc</th>\n",
       "      <th class=\"col_heading level0 col10\" >tsne</th>\n",
       "      <th class=\"col_heading level0 col11\" >tsne_spc</th>\n",
       "      <th class=\"col_heading level0 col12\" >reso_score</th>\n",
       "      <th class=\"col_heading level0 col13\" >min_angle</th>\n",
       "    </tr>\n",
       "  </thead>\n",
       "  <tbody>\n",
       "    <tr>\n",
       "      <th id=\"T_c386e_level0_row0\" class=\"row_heading level0 row0\" >0</th>\n",
       "      <td id=\"T_c386e_row0_col0\" class=\"data row0 col0\" >350.22</td>\n",
       "      <td id=\"T_c386e_row0_col1\" class=\"data row0 col1\" >4.29%</td>\n",
       "      <td id=\"T_c386e_row0_col2\" class=\"data row0 col2\" >27.93</td>\n",
       "      <td id=\"T_c386e_row0_col3\" class=\"data row0 col3\" >20.03%</td>\n",
       "      <td id=\"T_c386e_row0_col4\" class=\"data row0 col4\" >79.64</td>\n",
       "      <td id=\"T_c386e_row0_col5\" class=\"data row0 col5\" >4.65%</td>\n",
       "      <td id=\"T_c386e_row0_col6\" class=\"data row0 col6\" >0.21</td>\n",
       "      <td id=\"T_c386e_row0_col7\" class=\"data row0 col7\" >13.98%</td>\n",
       "      <td id=\"T_c386e_row0_col8\" class=\"data row0 col8\" >260.39</td>\n",
       "      <td id=\"T_c386e_row0_col9\" class=\"data row0 col9\" >0.66%</td>\n",
       "      <td id=\"T_c386e_row0_col10\" class=\"data row0 col10\" >0.21</td>\n",
       "      <td id=\"T_c386e_row0_col11\" class=\"data row0 col11\" >4.95%</td>\n",
       "      <td id=\"T_c386e_row0_col12\" class=\"data row0 col12\" >0.60</td>\n",
       "      <td id=\"T_c386e_row0_col13\" class=\"data row0 col13\" >4.55</td>\n",
       "    </tr>\n",
       "  </tbody>\n",
       "</table>\n"
      ],
      "text/plain": [
       "<pandas.io.formats.style.Styler at 0x2b7ebcc5fca0>"
      ]
     },
     "execution_count": 35,
     "metadata": {},
     "output_type": "execute_result"
    }
   ],
   "source": [
    "metrics = test_metrics\n",
    "print('stress:', metrics['stress'].mean())\n",
    "print('stress_spc:', metrics['stress_spc'].mean())\n",
    "print('xing:', metrics['xing'].mean())\n",
    "print('xing_spc:', metrics['xing_spc'].mean())\n",
    "print('l1_angle:', metrics['l1_angle'].mean())\n",
    "print('l1_angle_spc:', metrics['l1_angle_spc'].mean())\n",
    "print('edge:', metrics['edge'].mean())\n",
    "print('edge_spc:', metrics['edge_spc'].mean())\n",
    "print('ring:', metrics['ring'].mean())\n",
    "print('ring_spc:', metrics['ring_spc'].mean())\n",
    "print('tsne:', metrics['tsne'].mean())\n",
    "print('tsne_spc:', metrics['tsne_spc'].mean())\n",
    "print('reso_score:', metrics['resolution_score'].mean())\n",
    "print('min_angle:', metrics['min_angle'].mean())\n",
    "columns = [\n",
    "    'stress',\n",
    "    'stress_spc',\n",
    "    'xing',\n",
    "    'xing_spc',\n",
    "    'l1_angle',\n",
    "    'l1_angle_spc',\n",
    "    'edge',\n",
    "    'edge_spc',\n",
    "    'ring',\n",
    "    'ring_spc',\n",
    "    'tsne',\n",
    "    'tsne_spc',\n",
    "    'reso_score',\n",
    "    'min_angle'\n",
    "]\n",
    "df = pd.DataFrame(map(lambda m: metrics[m].mean().item(), list(metrics.keys())[:-1])).set_axis(columns).T\n",
    "df.style.format({c: \"{:.2f}\" for c in columns if 'spc' not in c} | {c: \"{:.2%}\" for c in columns if 'spc' in c})"
   ]
  },
  {
   "cell_type": "code",
   "execution_count": 36,
   "metadata": {
    "id": "5e7vPr0M3mmG"
   },
   "outputs": [],
   "source": [
    "metrics = {}"
   ]
  },
  {
   "cell_type": "code",
   "execution_count": 37,
   "metadata": {},
   "outputs": [],
   "source": [
    "methods = ['fa2']"
   ]
  },
  {
   "cell_type": "code",
   "execution_count": 38,
   "metadata": {
    "colab": {
     "base_uri": "https://localhost:8080/",
     "height": 433,
     "referenced_widgets": [
      "a0cf6e046add4e639e52db69656e0db9",
      "8e237731bb1241ac858581b25389c012",
      "0891547293ad4211a138a4d92e01bb0b",
      "34912c8e581e47a99a1c4829c38cb75c",
      "5aa034c99c94424e835a2ee954b829ed",
      "248f6393eff74c3eb8740ca6d698045b",
      "686687a29c7f4ec98c4d76ca2062b14b",
      "996a84d1c23b47e4a2af252c6b60f55d",
      "3507f883bb954412b21c1c5641763ed7",
      "9582a849d91e457cadd514c95d6e1b5b",
      "52bfe674c2c547e09b7400a32a96f703",
      "93d58b3a12394fe1aa6f0431fc7cb0db",
      "af1d7855c9d646b0bcc7d95c4cb147a6",
      "f820e2b898cd461da04a4f651d27273d",
      "c0a112cfaa3d4d0aa9530372de84d8fb",
      "fd03985495694fbf9feb3f31ef8d18ce",
      "e02a2b36aa4c4d6fb5d2ac6693c1a927",
      "06f388ff5e3a48828d465096fe69977b",
      "c0052778c9c940e88935593e9f94b83b",
      "99a5e77a192d4a989c4534237eb16730",
      "77c6da092a6647fc9e54f7e276d75616",
      "8c13c0e8b5934117a662a78296bcb1b6",
      "cdcc3bd4235247b48c468c0f6b7682cc",
      "a2c6fa6fef4549cc853fa93b4b18cf95",
      "15cc02a756314083801b5f6798a1948c",
      "24d1c67fe52f452ab0c767e3c1a818aa",
      "c117db25c6fd484a9d0c7f210ccb1ade",
      "b090b60b61084cf692b3066dfac7f0a8",
      "5eab9848059c491b9c6cbac88683f025",
      "e87ffbaa1f204b52b9226337a506b040",
      "cf52198a9e4b46c7b49537a79919c09e",
      "51501227bc064ccbab97c22a679a0750",
      "d1b794a997dc457888a90bf44faee9b4",
      "21a755b50e5047bea797eccf24b35a0c",
      "16e78c3823ec4faf9f9cd9095b218ff5",
      "4ccd332c6b734acd8eff236eaf568dfa",
      "bd60fd13748347e48629df78fa455765",
      "e9187e4ba80b4fafa0334dae2e39aded",
      "4c39ec7c92b4402e8eedcb27beabaab1",
      "59a8194269f943bba571f710ad856973",
      "8e41bc25b9f348b1b85b381547cd60d1",
      "34d0f1529e64437fb25e639b41096072",
      "7e832c7543df43668eb72c0aa6356349",
      "f94162c9c5fe4c2581e3b80beaeb820b",
      "0284946fccf34607b25e1d6d81d4f72a",
      "8e8d4243a3624ba58d760bdf601d5126",
      "b1f0932594fe44f4be4beb8880172871",
      "820bb554d139437b8f6a6997f9002261",
      "459e375d1fe4497cb4197ef88e303c6d",
      "5726814966da46bbba942a114de4b319",
      "448beea5445f4642809801da46aa7e7c",
      "3746c0f0daf04f51805b4c95db20063a",
      "2ff74d1c705348438a32da37910c3300",
      "52f03147b5ab4cb390f9802b7a17a508",
      "5428511d652a47348203e8f3cd2e076d",
      "7b58569bee2e44c5a61a81f9a32c4c01",
      "c5e05d74b9404333a8155304e3497ba2",
      "3ad4e058bde44d87abab780368d49118",
      "8e437049b5c74ff1beddad93e30b19aa",
      "0c61377f4cc34b27ae34bdd6d976d868",
      "9ce35f9a9a23436ea77604513b5c4659",
      "dafbc43ad79c4feda093aefe490fc4b3",
      "497160b6bf80469a89680a03a468c8bb",
      "3265725ecb914981b6f07f68b8a582df",
      "1f0ac20d99d04ffb9ee75613526d3de6",
      "dee0e5716560483b8e2b107566439d94",
      "ca99841a1abd4fbd94927c49aaa711cb",
      "163a44ff1be04583ae7bd62726c55204",
      "f3b727045a0b4b4fabd147ec9c843e14",
      "7c4b4fe859cf48ab99b7e2780a24a539",
      "d9700cffab66480cb81e3722faab4e8b",
      "2c49acc1e0a64aa4b8ec461b0596848e",
      "691817157f43412f9c36002167606b75",
      "d0ae688d71734b56bb348de54e841798",
      "07a364ebcdaa491dbcc2304e4a8dae96",
      "538b277307b1449eaa79a2a91b4741d3",
      "f7b7dd4cbaa5468687b988c5e416a154",
      "877be862a4f045ec8b221097626becb5",
      "1bf37012df0844338ac689d4f6cc8eab",
      "33fe06641be544d3aab2c25cb979416f",
      "68de0d9261fa4e6999967b6f196d149c",
      "7017c5ba1ffc467495aca2689e516f7d",
      "e0997460cc21428695a0c278c6691baf",
      "522443bef4904996b6361ea265c4c56f",
      "dfe044b67917466f971ba84a11956d5e",
      "70b2d0ba1c1d4102841fb963480de1c7",
      "7b158daacd754a40bc0a48fc9ea6fea2",
      "8904f61ff30741e488eacf0e49440f66",
      "685dee6f1e1f4c2983d2d0b8eb90ed00",
      "005155a4d62d48cbbaf3d69614b08d81",
      "d2779dfa620041e4b32a7731926a5982",
      "53048bf27cb24080b4cdf20379302223",
      "0b5bff7794a14a20964da70b87158c2c",
      "ec664e55ea16435590393ae1617cccea",
      "f10d62ef464a45a7935610d869c282e3",
      "5e7c09bc35db4a3a8b9847c6d8478883",
      "987ea331b617446facc81b08bab1f8c4",
      "446c5a687b0d43358ab036d43ce281c3",
      "d89e216f62ae4a9999da1a91dd5e48b9",
      "09d03e7e66f54cafacefbfeda5fd6e5c",
      "d58c680562a44bbd9252e7ec6eebc06c",
      "71ea2594fdd942acac1cc61055438544",
      "fecda4df301b437f9fbfb61a7b593dc0",
      "bcf6741d926248cb92acf627d6557d2b",
      "5bd9868b9bda4f68b500a43916e2d148",
      "4bc5e02035de44ad827c4f881fd75afc",
      "7d80033a955e4feb947ca9cea931d90b",
      "e975c796d80d498992a50f87a2b0105c",
      "028b2ff105904a19a9a3e8ebf66967bb",
      "10dbf2cbdb1943eda6a0acaf5da3fe85",
      "14d59c7acc5e4e07a289db44406a4851",
      "d9447df93d714907bc9c768eb4910352",
      "d4a9ace081bf488680a7e43e0eaed71d",
      "022a60cde19546bfa6ecfb4947615ad9",
      "10c01207d9ba4fe197dc80717fceecc0",
      "f4995936570d4ba1a65e9a66e410b505",
      "b4bf66303e61491385cd616076a11c04",
      "a24ab2bfe7a44263bf60936d6e53ec32",
      "59e2e8ecc9f84d57af7bf44f5bba5df7",
      "be2eb92aab8045a99fd19195c3546b60",
      "e6715db2b048434796e910952cb5eb62",
      "8de2335007ba4a6b9935fa0c514c9f6a",
      "493a4bbe8057437a8c8acf4d03f8dcb0",
      "20b03955acc74e238695717124705520",
      "a89f9507496b4cf8bdd63bdb9bff79c4",
      "9752a1f6c8b6488d9628b8e0c023f10f",
      "61a0bebc687341a7bb3352febc8d4986",
      "07e0ff9c82a444788c60edee70688ca7",
      "4427901f35e54cc48e08527bb402c22a",
      "bd9dafb825954091ba975d71ab8c89ea",
      "7ec0f07bfe51484da38c18dc66d77804",
      "03943afebc4d4b668b54c7a0fd014a37",
      "a7a6b38a76424d738146b6a5786cf2c8",
      "1d1aa4729784470584c0001c1a296008",
      "e0c68ac9b5b442eeb77e6d9ea3c1da42",
      "c858ef9fd9324ab0ab885d85e3c8582f",
      "627bc2899c994a0c96c5d43e89dc77ff",
      "0e2c2f21fa8041038151170992ecb848",
      "2d9bcbf7629a4671bf8755e790276eb7",
      "77a4edf6ab1848a6a6df20c1c07358c6",
      "acf2212d6bb44c729b63281a98377095",
      "0c7a72818da3454190bab7f30a29e249",
      "d865af915b8b4aaa8cec8d40f1f8351d"
     ]
    },
    "id": "s1UnzfID4Ai6",
    "outputId": "3e204e76-68fd-4111-f527-91f6e3b7a3ca"
   },
   "outputs": [
    {
     "data": {
      "application/vnd.jupyter.widget-view+json": {
       "model_id": "94ef4f1c504f4fdd9e7618d7dc99b4a1",
       "version_major": 2,
       "version_minor": 0
      },
      "text/plain": [
       "  0%|          | 0/1000 [00:00<?, ?it/s]"
      ]
     },
     "metadata": {},
     "output_type": "display_data"
    }
   ],
   "source": [
    "for m in methods:\n",
    "    metrics[m] = test(model=test_generator, \n",
    "                      criteria_list=[], \n",
    "                      dataset=data_list, \n",
    "                      idx_range=range(10000, 11000), \n",
    "                      callback=None,\n",
    "                      gt_pos=load_pos(m))"
   ]
  },
  {
   "cell_type": "code",
   "execution_count": 39,
   "metadata": {
    "id": "dQ7hdCtk5u6K"
   },
   "outputs": [],
   "source": [
    "mean_metrics = {key : list(map(lambda m: metrics[key][m].mean().item(), list(metrics[key].keys())[:-1])) for key in metrics}"
   ]
  },
  {
   "cell_type": "code",
   "execution_count": 40,
   "metadata": {
    "colab": {
     "base_uri": "https://localhost:8080/",
     "height": 313
    },
    "id": "OGyaCmLXTuvA",
    "outputId": "6c42d9f3-9869-4504-bc9c-d0eedaecfd90"
   },
   "outputs": [
    {
     "data": {
      "text/html": [
       "<style type=\"text/css\">\n",
       "</style>\n",
       "<table id=\"T_a571a_\">\n",
       "  <thead>\n",
       "    <tr>\n",
       "      <th class=\"blank level0\" >&nbsp;</th>\n",
       "      <th class=\"col_heading level0 col0\" >stress</th>\n",
       "      <th class=\"col_heading level0 col1\" >stress_spc</th>\n",
       "      <th class=\"col_heading level0 col2\" >xing</th>\n",
       "      <th class=\"col_heading level0 col3\" >xing_spc</th>\n",
       "      <th class=\"col_heading level0 col4\" >l1_angle</th>\n",
       "      <th class=\"col_heading level0 col5\" >l1_angle_spc</th>\n",
       "      <th class=\"col_heading level0 col6\" >edge</th>\n",
       "      <th class=\"col_heading level0 col7\" >edge_spc</th>\n",
       "      <th class=\"col_heading level0 col8\" >ring</th>\n",
       "      <th class=\"col_heading level0 col9\" >ring_spc</th>\n",
       "      <th class=\"col_heading level0 col10\" >tsne</th>\n",
       "      <th class=\"col_heading level0 col11\" >tsne_spc</th>\n",
       "      <th class=\"col_heading level0 col12\" >reso_score</th>\n",
       "      <th class=\"col_heading level0 col13\" >min_angle</th>\n",
       "    </tr>\n",
       "  </thead>\n",
       "  <tbody>\n",
       "    <tr>\n",
       "      <th id=\"T_a571a_level0_row0\" class=\"row_heading level0 row0\" >fa2</th>\n",
       "      <td id=\"T_a571a_row0_col0\" class=\"data row0 col0\" >350.23</td>\n",
       "      <td id=\"T_a571a_row0_col1\" class=\"data row0 col1\" >-0.21%</td>\n",
       "      <td id=\"T_a571a_row0_col2\" class=\"data row0 col2\" >27.94</td>\n",
       "      <td id=\"T_a571a_row0_col3\" class=\"data row0 col3\" >9.04%</td>\n",
       "      <td id=\"T_a571a_row0_col4\" class=\"data row0 col4\" >79.63</td>\n",
       "      <td id=\"T_a571a_row0_col5\" class=\"data row0 col5\" >8.74%</td>\n",
       "      <td id=\"T_a571a_row0_col6\" class=\"data row0 col6\" >0.21</td>\n",
       "      <td id=\"T_a571a_row0_col7\" class=\"data row0 col7\" >-0.23%</td>\n",
       "      <td id=\"T_a571a_row0_col8\" class=\"data row0 col8\" >260.39</td>\n",
       "      <td id=\"T_a571a_row0_col9\" class=\"data row0 col9\" >2.39%</td>\n",
       "      <td id=\"T_a571a_row0_col10\" class=\"data row0 col10\" >0.21</td>\n",
       "      <td id=\"T_a571a_row0_col11\" class=\"data row0 col11\" >7.52%</td>\n",
       "      <td id=\"T_a571a_row0_col12\" class=\"data row0 col12\" >0.60</td>\n",
       "      <td id=\"T_a571a_row0_col13\" class=\"data row0 col13\" >4.53</td>\n",
       "    </tr>\n",
       "  </tbody>\n",
       "</table>\n"
      ],
      "text/plain": [
       "<pandas.io.formats.style.Styler at 0x2b7ebcd63a00>"
      ]
     },
     "execution_count": 40,
     "metadata": {},
     "output_type": "execute_result"
    }
   ],
   "source": [
    "columns = [\n",
    "    'stress',\n",
    "    'stress_spc',\n",
    "    'xing',\n",
    "    'xing_spc',\n",
    "    'l1_angle',\n",
    "    'l1_angle_spc',\n",
    "    'edge',\n",
    "    'edge_spc',\n",
    "    'ring',\n",
    "    'ring_spc',\n",
    "    'tsne',\n",
    "    'tsne_spc',\n",
    "    'reso_score',\n",
    "    'min_angle'\n",
    "]\n",
    "df = pd.DataFrame(mean_metrics).set_axis(columns).T\n",
    "df.style.format({c: \"{:.2f}\" for c in columns if 'spc' not in c} | {c: \"{:.2%}\" for c in columns if 'spc' in c})"
   ]
  },
  {
   "cell_type": "markdown",
   "metadata": {
    "id": "L5S1HWnHOWIl"
   },
   "source": [
    "# Large Graph"
   ]
  },
  {
   "cell_type": "code",
   "execution_count": null,
   "metadata": {
    "id": "_pefPcV1OZdD"
   },
   "outputs": [],
   "source": [
    "scalability = pd.read_csv(f\"/__artifacts__/data/scalability.csv\", index_col=\"index\")\n",
    "scalability"
   ]
  },
  {
   "cell_type": "code",
   "execution_count": null,
   "metadata": {
    "id": "oMhWAsdvPnTX"
   },
   "outputs": [],
   "source": [
    "rescale = CanonicalizationByStress()\n",
    "stressfn = Stress()\n",
    "rotate = RotateByPrincipalComponents()"
   ]
  },
  {
   "cell_type": "code",
   "execution_count": null,
   "metadata": {
    "id": "LR83OcAaPID5"
   },
   "outputs": [],
   "source": [
    "stress_list = []\n",
    "spc_list = []\n",
    "pmds_list = np.load(\"layouts/new_large_graph/pmds.npy\", allow_pickle=True)\n",
    "gviz_list = np.load(\"layouts/new_large_graph/gviz.npy\", allow_pickle=True)\n",
    "with torch.no_grad():\n",
    "    for idx, col in tqdm(scalability.iterrows(), total=len(scalability)):\n",
    "        # if idx not in [406, 516]: continue\n",
    "        torch.cuda.empty_cache()\n",
    "        G = load_mtx(col['file'])\n",
    "        G.remove_edges_from(nx.selfloop_edges(G))\n",
    "        data = generate_data_list(G, \n",
    "                                sparse=data_config.sparse, \n",
    "                                pivot_mode=data_config.pivot,\n",
    "                                init_mode=data_config.init,\n",
    "                                edge_index=data_config.edge.index,\n",
    "                                edge_attr=data_config.edge.attr,\n",
    "                                pmds_list=pmds_list[idx],\n",
    "                                gviz_list=gviz_list[idx],\n",
    "                                device=device)\n",
    "        batch = Batch.from_data_list([data]).to(device)\n",
    "        # generator.train()\n",
    "        # generator(batch)\n",
    "        generator.eval()\n",
    "        pred = generator(batch)\n",
    "        pos = rotate(rescale(pred, batch), batch)\n",
    "        gt = rotate(rescale(batch.gt_pos, batch), batch)\n",
    "        stress = stressfn(pos, batch).item()\n",
    "        gt_stress = stressfn(gt, batch).item()\n",
    "        spc = (stress - gt_stress) / np.maximum(stress, gt_stress)\n",
    "        stress_list.append(stress)\n",
    "        spc_list.append(spc)\n",
    "\n",
    "        np.save(f\"/__artifacts__/gan_result/data/scalability_{idx}.npy\", pos.cpu().numpy())\n",
    "        graph_attr = dict(node_size=1, \n",
    "                        with_labels=False, \n",
    "                        labels=dict(zip(list(G.nodes), map(lambda n: n if type(n) is int else n[1:], list(G.nodes)))),\n",
    "                        font_color=\"white\", \n",
    "                        font_weight=\"bold\",\n",
    "                        font_size=12,\n",
    "                        width=0.1)\n",
    "\n",
    "        # gt_pos = pickle.load(open(f\"/__artifacts__/data/scalability_{idx}_gt.pkl\", \"rb\"))\n",
    "\n",
    "        plt.figure(figsize=[12, 9])\n",
    "        nx.draw(G, pos=gt.cpu().numpy(), node_color='orange', **graph_attr)\n",
    "        plt.title(f\"neato: large_{idx}\")\n",
    "        plt.axis(\"equal\")\n",
    "        plt.savefig(f\"/__artifacts__/gan_result/output/{idx}_{col['name']}_{col['n']}_{spc}_nx.png\", dpi=300)\n",
    "        plt.show()\n",
    "\n",
    "        plt.figure(figsize=[12, 9])\n",
    "        graph_vis(G, pos.cpu().numpy(), **graph_attr)\n",
    "        plt.title(f\"dgd: large_{idx}, spc={spc:.2%}\")\n",
    "        plt.axis(\"equal\")\n",
    "        plt.savefig(f\"/__artifacts__/gan_result/output/{idx}_{col['name']}_{col['n']}_{spc}_dgd.png\", dpi=300)\n",
    "        plt.show()"
   ]
  },
  {
   "cell_type": "code",
   "execution_count": null,
   "metadata": {
    "id": "gRXTewkYeuq1"
   },
   "outputs": [],
   "source": []
  }
 ],
 "metadata": {
  "accelerator": "GPU",
  "colab": {
   "collapsed_sections": [
    "w_p3OD0woiSM",
    "DR6-vYtr_i_P",
    "innqkwvH_ydD",
    "f-ODE2k8BFV6",
    "N39dDHraedM6"
   ],
   "machine_shape": "hm",
   "name": "GAN(gan=rgan,data=best(xing,stress),dis=deep,share=16,embed=0,gp=0).ipynb",
   "provenance": []
  },
  "kernelspec": {
   "display_name": "DeepGD",
   "language": "python",
   "name": "deepgd"
  },
  "language_info": {
   "codemirror_mode": {
    "name": "ipython",
    "version": 3
   },
   "file_extension": ".py",
   "mimetype": "text/x-python",
   "name": "python",
   "nbconvert_exporter": "python",
   "pygments_lexer": "ipython3",
   "version": "3.9.7"
  },
  "widgets": {
   "application/vnd.jupyter.widget-state+json": {
    "state": {
     "024403f33a2a4632aafa363a489660cc": {
      "model_module": "@jupyter-widgets/controls",
      "model_module_version": "1.5.0",
      "model_name": "DescriptionStyleModel",
      "state": {
       "description_width": ""
      }
     },
     "0a507e1aff6b40caad151b11adba79af": {
      "model_module": "@jupyter-widgets/controls",
      "model_module_version": "1.5.0",
      "model_name": "ProgressStyleModel",
      "state": {
       "description_width": ""
      }
     },
     "107be40423b448fc87571c2c05ae5039": {
      "model_module": "@jupyter-widgets/base",
      "model_module_version": "1.2.0",
      "model_name": "LayoutModel",
      "state": {}
     },
     "107cd0f4b82e4eaaad221a3970e4a60b": {
      "model_module": "@jupyter-widgets/controls",
      "model_module_version": "1.5.0",
      "model_name": "HBoxModel",
      "state": {
       "children": [
        "IPY_MODEL_f8faf6a664ff4445a28efc673a6610cb",
        "IPY_MODEL_347a00ae4a114ab08c01122c72054552",
        "IPY_MODEL_283de85f33a04d53b2fcc79d1ab3ab89"
       ],
       "layout": "IPY_MODEL_53898fdc377d4c9695aaa01609a6c539"
      }
     },
     "10f3b2506dcc4c63a74132b85ca01a85": {
      "model_module": "@jupyter-widgets/base",
      "model_module_version": "1.2.0",
      "model_name": "LayoutModel",
      "state": {}
     },
     "1212a57a349849b191bcee0c286a3b6d": {
      "model_module": "@jupyter-widgets/output",
      "model_module_version": "1.0.0",
      "model_name": "OutputModel",
      "state": {
       "layout": "IPY_MODEL_3781699ae6ae472fbb9f049b548bfe1f",
       "outputs": [
        {
         "data": {
          "application/vnd.jupyter.widget-view+json": {
           "model_id": "680c877e5476439d832dbf6e2779af2f",
           "version_major": 2,
           "version_minor": 0
          },
          "text/plain": "  0%|          | 0/834 [00:00<?, ?it/s]"
         },
         "metadata": {},
         "output_type": "display_data"
        }
       ]
      }
     },
     "1386d54815e34b9fa42a86ab9ed30b5b": {
      "model_module": "@jupyter-widgets/output",
      "model_module_version": "1.0.0",
      "model_name": "OutputModel",
      "state": {
       "layout": "IPY_MODEL_adde18b1b91440e0baa8b42e39cfe372",
       "outputs": [
        {
         "data": {
          "image/png": "iVBORw0KGgoAAAANSUhEUgAAAb4AAAEuCAYAAADx63eqAAAAOXRFWHRTb2Z0d2FyZQBNYXRwbG90bGliIHZlcnNpb24zLjQuMywgaHR0cHM6Ly9tYXRwbG90bGliLm9yZy/MnkTPAAAACXBIWXMAAAsTAAALEwEAmpwYAABXaUlEQVR4nO3deVxN6R8H8M9d2sSgyDrSgiFt9q2xKyb7DGJkVEgz9jXMMPZlrEn2fcmevSwTU2SptEiKJKYQUbTf5fz+8KvRdu+p7ta93/fr1Qt17jlPuH3Oc57n+T4chmEYEEIIIRqCq+wGEEIIIYpEwUcIIUSjUPARQgjRKBR8hBBCNAoFHyGEEI1CwUcIIUSjUPARQgjRKBR8hBBCNAoFHyGEEI1CwUcIIUSjUPARQgjRKBR8hBBCNAoFHyGEEI1CwUcIIUSjUPARQgjRKBR8hBBCNAoFHyGEEI1CwUcIIUSjUPARQgjRKBR8hBBCNAoFHyGEEI1CwUcIIUSjUPARQgjRKBR8hBBCNAoFHyGEEI1CwUcIIUSjUPARQgjRKBR8hBBCNAoFHyGEEI1CwUcIIUSjUPARQgjRKBR8hBBCNAoFHyGEEI3CV3YDCCGkKkhKy8KuoOfwi0hBVp4Q+jp8DLFpiAl2pjA21Fd280g5cBiGYZTdCEIIUWWBcanwOBIOgUgMofi/H5l8LgdaPC62jWmDni2MlNhCUh4UfIQQIkFSWhYcNgchRyAq8xg9LR78p9lRz6+KoDE+QgiRYFfQcwhEYonHCERi7A5OVFCLSGVR8BFCiAR+ESlFHm+WRihmcPZhsoJaRCqLgo8QQiTIyhOyOy6f3XFE+Sj4CCGkDC9evAAf7AJNX5smyVcV9C9FCFF75VmKkJeXh3PnzmHPnj0ICwuDxbhl+FenCUQSnnbyuRwMtW0k5++CyArN6iSEqDW2SxFiYmKwZ88eHD58GK1bt4abmxuGDh2K1GwxzepUMxR8hBC1xWYpghZHjFohPkiOi8D48ePh4uICMzOzIsfQOj71QsFHCFFbi/yi4fvgleRZmYwIdg242PerA/j8skd/ktKysDs4EWcfJiMrXwh9bT6G2jaCWzcT6ulVMRR8hBCVJIsSYa2XBCCTxazM6jp8PFpiX9kmkyqCJrcQQlROaY8WM/OE8H3wCqfDk1k/WqSlCKQ0tJyBEKJSktKy4HEkHDkCUYlHlEIxgxyBCB5HwpGUllXmORiGwc2bN8ER5bO6Ji1F0CwUfIQQlVKZEmG5ubnYv38/bG1tMXnyZFjXzANfyk85Woqgeeg2hxANpopb7ZSnRNiywa0BAG/evIGPjw927NgBW1tbrFmzBn379sWrjzlw2BwEoVjCrE4eF27dTGT6PRDVRj0+QjRUYFwqHDYHwffBK2TmCcHgv3E0h81BCIxLVUq7yjMuFx4ejnHjxqFly5ZITU1FYGAgrly5Ant7e3C5XBgb6mPbmDbQ0+KBz+UUeT2fy4GeFg/bxrShWZkahmZ1EqKBVG2rna97nmxmYQIAR5gHoe80/Pbbb5gwYQIMDAwknp+WIpACFHyEaCA269v4XA6cOjQpfJwoL2UtDpdILELnuiIcnOYILS0tubaPqB961EmIBlKVrXYkzeCURE9HG6vH96PQIxVCk1sI0UCqsr6NzQzOr31dIoweUZKKouAjRAPp6/BZjaXJe30bm55ngeo6NC5HZIOCjxANNMSmIasxPnmvb2Pb8+RwQCXFiMzQGB8hGmiCnSm0eJLf/vJc35afn4+LFy+CKxawOp4qqxBZouAjRAMpY32bUCjE9evX4ebmhgYNGmDNmjWwrJFDlVWIwtFyBkI0WFJaFnYHPceBf56Ap1MN+jIeRxOLxbh9+zZ8fX1x6tQpNGnSBKNGjcKIESPw7bffqtx6QqIZKPgI0XAvX75Ep06dkJKSIpPzMQyD0NBQ+Pr64vjx4zAwMCgMO3Nz8xLHF6zjyxUIweC/3idt8krkhR6cE6LhYmNj0bJly0qdg2EYREdHF4Ydj8fDqFGjEBAQAAsLC4mv7dnCCP7T7PDDrPUQNm6LPDGosgqRKwo+QjRcbGwsWrVqVaHXxsXFFYZdVlYWRo0ahVOnTsHGxgYcDkf6Cf6vOnLx8sxfePv2LfT09CrUFkLYouAjRMM9fvwYNjY2rI9/8eIFjh8/Dl9fX7x58wYjRozAnj170KlTp3KF3df8/f3Rs2dPCj2iEBR8hGigIkWhDQbhnxQOUvyiy9yOKDk5GSdPnsTx48fx7NkzDB8+HBs3boSdnR14PF6l23PhwgUMHDiw0uchhA2a3EKIhimrKHTxySTv3r3D6dOn4evri8jISAwePBijRo1C7969ZVojUyAQwMjICI8fP0aDBg1kdl5CykI9PkI0yNdFoYsTihkIxSJMPHAfjaMPIvyfAAwYMADTp0+Hg4MDdHV15dKm4OBgmJubU+gRhaHgI0SDsCkKLRCLUb+7E1J890FfX/4zKukxJ1E0Cj5CZODrMbOsPCH0dfgYYtOwzDEzRWEYBhkZGUhJSUFKSgpOPsiBUCylVAqHh+hMHYWEHsMwuHDhAk6cOCH3axFSgIKPkEoqbcwsM08I3wevcDo8WW4LsD9//lwYaJI+tLW10bBhQzRs2BB57WcALCZeyns7ogJxcXHIyckp16xSQiqLgo+QSmAzZuZxJLxcJbeys7MLQ+v169dlBppYLEajRo0KQ61BgwZo3LgxOnToUORz1atXLzx36yUBKrEdUYGLFy/C0dGxwssgCKkICj5CKoHVmJlIjN3BiVjk0ExikBV85OXlFYZWQYA1bNgQ1tbWRf5co0aNcgeGqmxHVODChQuYO3euQq5FSAFazkBIJbDtQTH52Xiz9WfUr1+/SHiV9lGrVi259YBUqSj0hw8f0LRpU6rWQhSOenyEVALbjVS52tWQk5MDLle5O4EVbEckbR2fIibkXLlyBT169KDQIwpHwUdkSlVnN8qLnhYX2QLJjzoBQF+Hr/TQK1BQFHp3cCLOPkxGZq4A2lwxRnYwVWhR6IsXL9IyBqIU9KiTyAzbiiDqID4+HitWrMC1j4bQsegJRsKeznwuB04dmmDZ4NYKbCF7mzZtQkJCAry8vBR2TYFAgHr16iEmJoYWrhOFU41bUFLlfT27sfjECaGYQY7gy+zGpLQsJbVQNmJjY/Hzzz+ja9euMDc3x9Utc6ErpXyXFo8Lt24mCmph+TVv3hzx8fEKvWZwcDDMzMwo9IhSUPARmSjP7MaqKCYmBk5OTujevTtatWqFhIQE/P7772jdtD62jWkDPS0e+NyiE1L4XA70tHgKGzOrqGbNmuHp06cKvWbBMgZClIEedRKZYDu7sboOH4+W2CugRbIRFRWFZcuW4Z9//sHMmTPh4eGBGjVqlDguKS2rcMwsK1+o8hupFh+LFeVlY0zX5nDvYa6Q9jZv3hy+vr5o06aN3K9FSHEUfEQmTDwvgc1/JA4HSFz5g9zbU1kRERFYunQpQkJCMHv2bLi7uyukhJcilDUWy+MA2nye3Mdi4+Li0Lt3b7x69YoWrhOlqDKzOjVttmBVo6/DV6mKIBUVFhaGpUuX4sGDB5g7dy4OHz6MatWqKbtZMiOp0oyIQeFYrDzX8V24cIGqtRClqhJjfIFxqXDYHATfB6+QmScEg/9qITpsDkJgXKqym6jxhtg0LDHGVZwiK4KU1/379+Ho6IjBgwejT58+SEhIwPTp09Uq9ADVGIul8T2ibCoffJoyW7Cqm2BnCi2e5P9Oqji7MSQkBP3798ePP/6IAQMG4NmzZ5gyZYraLqr2i0iRWK4M+PK+OvswWS7X//jxI8LDw9G7d2+5nJ8QNlQ++FThDpVIV1ARpLTZjVww4IgE8HayVZnH0sHBwejXrx+cnJwwZMgQPH36FB4eHnLbbFVVsK00I6/dGahaC1EFKh98yr5DJewVVARx6tAE1XX44HC+zOIc3dEYdUN34vGNk8puIm7duoXevXvD2dkZI0aMQHx8PCZNmgQdHR1lN03u3r59Cx7DLtD0tXlyaQNVayGqQOVndarbbEFNFRcXh65du+LevXswMzNT6LUZhsHNmzfx559/4t9//8XChQvx888/Q0vKwnN1kZiYiHXr1uHYsWOwHL8CybrGEEl6U4lFyI8NxEgzwN3dHS1atJBJOwqqtTx69AgNGzaUyTkJqQiV7/Hp67CbBVh8tmBSWhYW+UWj9ZIAmHheQuslAVjkF01jgUrSokULeHp6wsXFBWKx9NqWssAwDK5fv47vv/8ekyZNgouLC548eYLx48drROjFxMRg7NixaNeuHWrWrIknT57g0MJx0OZL7s3p6WjjxDJ36OnpoXv37ujVqxdOnjyJ/Pz8SrXn9u3bMDU1pdAjSqfywcdmtiDEQogSQuDv7w+GYWgWqIqaPn06hEIhtm7dKtfrMAwDf39/dO3aFVOmTIG7uztiY2Ph7OwMPl+1l1PIwr179zBkyBD07t0bLVu2REJCAlatWoV69epJHIsFI4IWl8G2MW3QzboFVq5ciZcvX2LSpEnw9vaGsbExFi1ahJcvX1aoXRcuXKDHnEQlqPyjTrb7h00x/4Stq5dAv15TZHT5FfkSOhWK2m+MlBQfH48uXbrg7t27MDc3l+m5GYbB5cuXsXTpUmRlZeH333/Hjz/+CB5PPuNVqqSgd7tq1SokJCRgzpw5cHFxKXM5RmmVZurnvkRb/XSs+X1Oqa95/PgxduzYgcOHD6NLly6YPHky7O3tWf/9tmjRAseOHaNqLUTpVD74APZV/0UiEcZsPI+777gAt+w7e3lXy6fF9pJt3LgRZ8+exc2bN2WyVQ/DMLhw4QKWLl2K/Px8/PHHHxg2bJjKbAMkT2KxGH5+fli5ciWys7Mxf/58ODk5VehR7p49exAUFIT9+/dLPC4rKwvHjx+Hj48P3r9/j4kTJ8LFxQX16tUrclzx94E4Pwdj7VrQ+4AoXZUIPoB9LURl14zUpK15KkokEqF79+746aefMG3atAqfRywW49y5c1i6dCkA4I8//sDgwYM1IvAEAgGOHDmCNWvWoEaNGliwYAEGDRpUqe89KCgI8+fPx+3bt1m/JjQ0FNu3b8fp06dhb2+PyZMn4/vvv8fN+Hf0PiAqq8oEH1tsZ4EyjBh6fnPQsGFDNGjQAA0aNCj196UVJC4L28ey9JgVePr0KTp37oyQkBA0a9asXK8Vi8U4c+YMli1bBj6fj8WLF2PgwIEaUQIrOzsbe/bswbp169C8eXN4enqiV69eMvne37x5A0tLS7x7967cr01PT8ehQ4fg4+MDcTVDCPvOhVDCFAJ6HxBlUrvgY9vj09fm4cSIb/H69evCj5SUlBJ/5nA4ZYbi13+uWbMmfj/3CL4PXklcd6jqm5Iq0ubNm3Hy5EncunWL1TiRSCTCqVOnsGzZMlSrVg2LFy/GgAEDNCLw0tPT4e3tjS1btqBLly7w9PREhw4dZHoNhmFQs2ZNJCUloXbt2hU+h6vPVfz9Mg/glP1vSu8DokxqF3yL/KJlFj4Mw+Dz588Sg7Hg9/n5+aj36yFAS3pFiso+ZlWXMUSxWIwePXqg58AREDXrXub3IxKJcPz4cSxfvhw1a9bE4sWLYW9vX+UDj82/45s3b7Bx40bs3r0bjo6OmDdvHlq1aiW3NrVt2xY+Pj6VClVlDzcQIo3aBZ+yHjdmZWWh9fKbrB6zAgxWW2eiVatWaN68ebnKZKnbGOLRwAh4XnoOvrZOkUXVX74fDn6sn4ETmxejbt26WLx4Mfr06VPlAw+Q/u+4uHdD/HN8O3x9fTFmzBjMnj0bxsbGcm/XqFGjMHDgQIwZM6bC56CiE0TVqd2ipoJ1StLCQdY9I319fdZb8yA/F6tXr0Z2djZevXqFb7/9Fq1atULLli3RqlUrtGrVCt99912J/d8kbSkjFDMQiuW/pYwsJaVlYVngG3C0dEpUEvny/TA4/EIXq9Z7Y+QPvdUi8AB2/47zLjzD4Fr18eTJExgZKe5Gpnnz5oiPj6/UOdRliyqivtRy+ltZNSOdOjSB/zQ7ufWI2G3NA3RtrIU2bdogIyMDJiYm+P7779GuXTvo6uri8uXLcHV1Rd26dWFiYoIBAwZg9uzZ2Lt3L5afCoFAVHZPFqhaBbvZFCDnaWkjRlRfbUIPYPd9a+nooGbHYQoNPQBo1qwZnj59WqlztDEQghFJDj5V3qKKqD+1e9SpTOV9zCoWi3H//n1cvHgRFy5cQEpKCvr37w9HR0f06dMHHz58wOPHjws/guoNBsOX/liUzwjQP+sGxGJx4QfDMKz/XJ5jK/PavIErAS0Wj3nzc8A5M6dI+BX8vvivbD8ny+PLe6533eeD4Usviq2MMbB79+7h119/RWhoaLlfyzAM1qxZA699vqj+0wrkSbhHo1mdRJko+GSsMmNwL1++LAzB4OBgdOzYEQMHDoSjoyPMzMxYj50ADGY1TASXywWXywWHwyn8vbQ/l+fYyr7WYf8zdmNBAG5MaPnfd/f//7LFf2X7OVkeX5FzjfJ7r7JjYB8+fICJiQnS09PL1cvOzs6Gi4sLnj9/jjNnzuBplrZajUUT9ULBJwdsF9tLkpmZievXr+PChQu4dOkSDAwMkD9oFYQc6eMiVWW2nKbO/lP177tOnTqIiYkpUYmlLElJSRgyZAisrKywY8eOwslaX78PMnMF0OExGNHBpFzvA0LkgYKvChCLxQgNDcUiv2jEi+qUqxybKi99+LL05CWEEoa71HG9lyyX3MhD586dsW7dOnTr1k3qsbdu3cKoUaMwb948TJs2rcxe4qJFi6ClpYXFixfLurmElJtaTm5RN1wuFx06dMCuWaOgJ2XDVC0eF27dTABA5XepcOtmArFQIPGYr78fdTHBzhRaPMlvPWV+32xmdjIMA29vb4wYMQIHDx7E9OnTJT4aNTY2RlJSkqybSkiFUPBVIV9vKQNx0ZkDHEYMRpAH0a0d8F7zJ05euQmPI2HIEYhK9CyEYgY5gi9LH5S5P2HItQvQuncAelrcErNhuWCgp8WTy9ITZZO4NZBYBB5ESv2+pc3szMvLw4QJE+Dj44M7d+6gb9++Us/ZtGlTCj6iMij4qpieLYxw4dfOyIm+huo6vMKlGj93NsHNeX1x5K8F0NPTw6LDfyM7V/LGocpc+pCSkoLp06fjyF8L4T/t+yJLT3S4DKq9Dpfr0hNlK2vJzXDresg6uQA1PldszztZkNTje/36NXr27IkPHz4gJCQEZmZmrM5JPT6iSmiMrwqKiIjA6NGj8fjx4zKPUeUJFAzDYMCAAejYsSOWLFlS4utCoRBmZmY4deoU2rdvr9C2qYJjx45h+fLlCAsLK1dVH1lISsvCqrP34f/kAzhaukXGhN8mxGD48OGYMGECFi1aVK6dIHJzc1GzZk3k5ORoxO4ZRLXR/8Aq6MGDB1IDIYtNBRkAmbkC7NmzB3FxcVDUPdCuXbvw7t07LFy4sNSv8/l8TJs2DRs3blRIe1TNqFGj0LJlS4VPBCkYE76emA1o6RYZE+6zPhCDJs2Hl5cX/vjjj3KHl66uLgwMDPD69Wv5NJ6QcqDgq4LYBJ++DrtyUNpcBjdv3oSDgwOMjIwwdOhQ/PXXX7h79y7y8yU/Kq2I58+fY8GCBThw4IDEzVJdXV0REBCAV69eybwNqo7D4cDHxwcHDx5ESEiIQq75dRm14rNshWIGAoaDmj/Mhq2d9PG8stDjTqIqKPiqIDbBx658GgcjO5rg0KFDSExMxMOHDzFq1CgkJSVh8uTJMDAwQI8ePbBo0SL4+/sjIyOjUu0Wi8UYP3485s+fDwsLC4nH1qxZE+PGjYOXl1elrllV1a1bF97e3hg3bhyys7Plfj02ZdREDCo1JmxsbIwXL15U+PWEyAqN8VUxOTk5MDQ0xIcPHySO/8hil4qMjAzcvXsXwcHBCA4OxoMHD2Bubo5u3boVfjRu3Jh12zds2AA/Pz8EBgay2n/vxYsXaNu2LV68eFGuDYHVyZgxY1C3bl1s2rRJrtdRxJjw3LlzUbt2bXh6elbo9YTICvX4qpiIiAi0bNlS6qQHSVPm+VwOq6UCNWvWhL29PZYtW4bAwEB8+PABO3bsgImJCY4fPw5bW1s0bdoUP//8M7Zv345Hjx5BLC691/D48WOsWrUK+/fvZxV6wJcp8L1798a+fftYHa+OvLy8cOrUKdy6dUuu12E7JpyVz+640tCSBqIqKPiqGDaPOQvIepcKbW1tdOzYEbNmzcLZs2eRmpqKgIAA9OzZE/fu3cPQoUNRp04dODo6YvXq1QgODkZubi4EAgGcnZ2xfPlymJqaluuaM2fOxKZNmyCSsiuFujIwMMCOHTswfvx4ZGZmyu06bMeEK7OVED3qJKqCHnVWMWPHjkWPHj3g6uqq7KaU6s2bN7h9+3bh49HY2FgYGBiAz+dj8+bN6Nq1KwwMDMp1zg69BsDccRKiPumqXNk1RXFxcYGOjg58fHzkcn5FlFF79OgRfvrpJ8TGxla0mYTIBAVfFdOyZUscP34cVlZWym4KK0FBQRg0aBBcXV0RFRWFu3fvokmTJkXGCY2NjcssdxUYl4qJB+9DIBQD3P8ekWpalf+MjAxYWlpiz549rCqllJcsxoSl+fz5M+rXr4/MzEy12l+RVD0UfFVAQaHpsw+TkZknQHVdLQy1aaTyPZ7c3Fy0bdsWCxcuxOjRowF8WZweFRVV2CMMCgoCj8crDMGuXbvCysoKPB5Pbj+MVblwtyRXr16Fm5sboqOjUbNmTZmfPzAuFRP234OQYQCOfG4yDA0N8eTJE9StW7eyzSWkwij4VFxl9vdTtjlz5uDFixc4ceJEmXf4DMMgMTGxMAiDg4ORnJyMTp06gdN+FJ6KjSCS8D+0vI/fqvLfJwC4u7sjPz8fe/fulfm5xWIxmrfpgp7uyxHyRlThLbUkadOmDXbs2KGRFXmI6qDgU2GKePwkL0FBQRg5ciQiIyPLfXf//v173LlzBzPvMCz3H+Th0RIHqcdV5b/PAp8/f4a1tTW2bNkCR0dHmZ778uXL+OOPP/DgwQO5PYocNmwYRo8ejR9//FEu5yeEjYpP0SJyx2ZRcUGhaVXary4zMxO//PILtm/fXqFHWnXq1MGgQYMwLeQSq+M/5wrwzTffoE6dOmV+GBoa4tLb6sgXSp4dqop/n1+rUaMG9u7dizFjxiA6OrrcE4Uk2bJlC6ZOnSrX8Teq3kJUAQWfCvOLSJE4yw74Uk7q7MNklfpBPXv2bHz//fcYNGhQpc6jr8Nntai6hq42ov/9F+/fvy/148WLF3j//j0emv0Mhi95P0NV/PssrkePHvjxxx8xZcoUHDlyRCbnfPLkCSIiInDu3DmZnK8sxsbGSEhIkOs1CJGGgk+FKWJRsaz5+/vjypUriIqKqvS5htg0ZDXFfqhtI3zzzTf45ptvJK4TNPFk14NUpb/PsqxatQo2NjY4c+YMhg0bVunzbd26FRMnToSOlI2OK8vY2Bh///23XK9BiDS0gF2FKWJRsSx9/PgRbm5u2Ldvn0xmHcp6p/Kq9vcpSbVq1bB//378+uuvePfuXaXOlZGRgaNHj8Ld3V1GrSsbVW8hqoCCT4WxLTQ91LaRglok2W+//YZhw4ahV69eMjmfpLJrXDCAMA/rBrdgPRGFzd8nxELovolESkpKRZutMF26dMHYsWMxefLkSm0ptW/fPtjb26Nhw4YybF3pqHoLUQUUfCpM1j0eeTp16hRCQ0OxevVqmZ63rLJrYzo1Re/8e9j557Qy64MWx+bvU09HG3Z1BbC2tsbOnTtZn1tZli5ditjYWPj6+lbo9SKRCF5eXpg6daqMW1a62rVrQywWIz09XSHXI6Q0tJxBxZW17ozDiKGrraUS687evn0La2tr+Pn5oVOnTgq7bn5+Pnr27IkBAwaUualtcWzX8UVHR8PNzQ3VqlXDzp070axZM3l9G5UWGhqKH374AREREWjQoEG5Xnvx4kX8+eefuH//vsKqqVhaWuLw4cOwtrZWyPUIKY56fCqutB6PvjYPeTE3sPcnM6WHHsMwmDhxIlxcXBQaesCXotknT56Et7c3rl69yuo1bAt3W1pa4s6dOxg8eDA6d+6MNWvWQCAQyPPbqbB27dph4sSJmDhxYrkfeSpiCUNxtKSBKB1DqqT58+cz7u7uym4Gs2/fPsbKyorJzc1VWhtu3rzJ1KtXj0lMTJTL+Z8/f8707duXsbW1ZcLCwuRyjcrKy8tjrK2tmX379rF+TUxMDFOvXj2F/9t5eHgwmzdvVug1Cfka9fiqqFmzZuH48eN4+fKl0trw8uVLzJkzB4cOHZL7NHhJunfvjrlz5+LHH39Ebm6uzM9vYmKCgIAATJ8+Hf3798e8efOQk5Mj8+tUhra2Ng4cOIA5c+bg1atXrF6zdetWTJo0SeH/djSzkygbBV8VVadOHUycOFHmk0nYEovFGD9+PGbOnKkSO0XMmDEDpqammDJlilzOz+Fw4OzsjKioKCQlJcHKygo3b96Uy7UqytraGtOmTYObm5vUR57p6enw9fVVyBKG4uhRJ1E2mtxShb179w4tWrRAZGQkvv32W4Ve28vLC0ePHkVQUBD4fNVY9/b582d07NgRM2fOhJubm1yvdf78efz6669wcHDAunXrUKtWLamvUcSuEEKhEJ07d4abmxsmTZpU5nEbN25EaGiozCq/lMe9e/fw66+/IjQ0VOHXJgSg4Kvy5s2bh8+fP2Pbtm0Ku2Z8fDy6dOmCkJAQlZvt+OTJE9jZ2eHKlSto166dXK+VkZEBT09PnD9/Hl5eXhg6dCiA0gOufdPauJOQBpGYkfuuEI8fP0b37t1x//59mJiUXOoiEonQvHlzHD16FB07dpTJNdlKSsvC5oAYnA57Ca62XpXZEoqoFwq+Ku7du3f47rvvEBERoZBen1AoRLdu3fDzzz/jt99+k/v1KuL06dOYNWsWQkNDUadOHblfLygoCG5ubrC0tMTo2Suw8HJiieUS0sh6V4h169bB7/pt9Ji8FOciXhfpYZoKXmDHX8tx7949mVyLraq+JRRRHxR8amDu3LnIysqCt7e33K+1atUq3LhxA1evXgWXq7pDxHPnzkVkZCQuX74MHo8n/QWVlJubi7lL1+JcfmtwtMo/WaS8+wpKcyP2Ddz2hYDD04IY/y1V4HM5EAnyMdY0D0vdR8rkWmyow5ZQRH2o7k8uwtrs2bNx7Ngx/Pvvv3K9TmRkJDZs2IC9e/eqdOgBwMqVKyEQCLBkyRKFXE9XVxffdBgKvnbFZkgW7AohC0lpWfjtWAQYnnaR0Cu4DsPTwsmUb5CUliWT67FRni22CJE31f7pRVgxMjKCm5ubXGd45uXlwdnZGevWrUOTJk3kdh1Z4fP58PX1xYEDB3DhwgWFXNMvIkXibvHSsNmCiQ12IcMoNGTKs8UWIfJGwacmZs+ejaNHj8qt1/fnn3+iadOmGDdunFzOLw9GRkY4ceIEXF1d8ezZM7lfj+02UpIExqVW+hyqGDJVcYstor4o+NSEkZERXF1d5dLrCwkJwd69e7Fz506FlraShU6dOuHPP//EsGHDkJ2dLddrsd32SBKPI+GVfgSpiiGjTltCkaqPgk+NzJkzR+a9vqysLIwbNw7e3t6oV6+ezM6rSO7u7rC1tcWkSZMqtX2PNKy2PZJCFuNcqhgyVW2LLaLeKPjUiJGREVxcXLBmzRqZnXP+/Pno0KEDhg8fLrNzKhqHw4GPjw+io6Plut6RzbZH0sjiESTbfQc715f/bNcCE+xMpbZJVbbYIuqPgk/NzJkzB0eOHEFycuXHb27cuAE/Pz94eXnJoGXKVa1aNZw+fRpLly7FnTt35HINSRvnfvkzu95mZR9BTrAzBZ8nJWT4PFzcMBMzZsyQ+yNg4MvfjWnKDfAYEYo3jc/9spRh25g2tJSBKAQFn5qpV68eRrh4YPSG82i9JAAmnpfQekkAFvlFl2vsKCMjAy4uLti9ezdq164txxYrjpmZGfbu3YuRI0fi7du3crmGpG2PqrF8tFjZR5DGhvqw+BACLiMsNYD1tHjY6dwB0Xf+RmpqKqysrHDr1q1KXVOaS5cuIe7mWVz6rSs61hGCK8r/8gVGBLGYQa5AhCnHHpb7/ykhFUEL2NVMYFwqJh8OQ05ePji8/36Alrc6xvjx46Gjo4Pt27fLs7lKsXjxYty6dQvXr19XaJ3RRX7R8H3wSuKMS1ksZL916xbGjBkD/+BQHI98j2N3nkHI5aO6jhaG2jaCWzeTIj2r8+fPY/LkyRg6dChWr16N6tWrV/japfn06RNat26N/fv3o1evXli7di0iUwUIr9YWeQJhiQX2VMWFyBsFnxqRVXWM8+fPY8aMGYiMjJT5D0FVIBKJ4OjoiNatW2PdunUKu64iqpfk5ubCysoK69atw+DBg/Hx40eYmpriyZMnEicnffz4ETNmzMCtW7ewe/du9O7du0LXL42HhwcEAgF27doFABg7eQZCaveCUMKuaFTFhcgTPepUI7KojvHu3Tu4u7tj//79ahl6AMDj8XDkyBGcOnUKp06dUth1i44BFv1awSPIyo5zLV26FNbW1hg8eDAAYM+ePRg4cKDUGbm1a9fG/v374e3tjV9++QWTJk3Cp0+fKtyOAv/88w/OnTtX5AYjMq8OpG0FSlVciDxR8KmRyi5cZhgGkydPxpgxY2BnZyePJqoMAwMDnD59Gh4eHoiNjVXYdf8bAzSGvjYXYMTQ5ojh1KEJ/KfZVerxXkREBHbv3l04GUkkEmHr1q3l2qNwwIABePToEcRiMSwtLREQEFDh9uTk5MDNzQ3e3t5Ftm36ZNACZfd5v6AqLkSeKPjUSGUXLh89ehRPnjzBsmXLZNksldWmTRusWbMGw4YNw+fPnxV2XWNDfSwb3Boxf/bHjQmtkHXAHW3ETyvV0xMKhXBzc8OaNWtQv359AMCFCxfQsGFDtG/fvlznqlmzJnbt2oVdu3Zh4sSJcHFxQXp6ernbtHTpUtjY2GDIkCGFn8vPzwfDZ1fPlKq4EHmh4FMjlVm4nJycjBkzZuDgwYPQ1dWVddNU1vjx4/H999/DxcVFrovby2JmZoYLFy5g0qRJ+Oeffyp8nk2bNqFWrVr45ZdfCj+3ZcsWTJ06tcLn7NevHx49egRdXV20bt0aFy9eZP3a8PBw7Nmzp8RSmKSkJHCEeazOQVVciLzQ5BY1kZGRgZ/WnEac0LDIbM7iGJEQDQTJ6NDGBn8nfC7cp43/bzj6NObgryXzFdhq1ZCXlwc7OzuMHDkSs2bNUkobbty4gdGjR+P69euwtLQs12sTEhLQsWNH3L9/H6ampgCA6OhoODg44MWLF9DS0qp0+wIDA+Hq6opu3bph06ZNMDAwKPNYgUCADh06YPr06SVqu/r7+2PuiTBkN7CBUMJwtKy3aSLka9Tjq+JycnLw119/oVmzZqj9Ngx6OpJ/yHE5wDvdxjgX/Q6ZeUIw+LIrQLqhBS6JrWVSJLmq0dHRwalTp7Bu3TrcvHlTKW3o3bs3tmzZggEDBiApKYn16xiGwcSJE+Hp6VkYegDg5eWFyZMnyyT0AKBnz56IiopCrVq1YGlpCT8/vzKPXb9+PYyMjODs7FziawkJCWjB/Athfr7E61EVFyJP1ONTUUlpWdgV9Bx+ESlFds+eYGcKY0N9CIVC7Nu3D0uXLkW7du2wfPlyWFhYSNzlmssFBPkCMNyye4SaPI38+vXrcHZ2xv3799G4cWOltMHLywve3t4IDg5mtXv83r17sW3bNty9e7dwTWJaWhrMzc0RFxcHIyPZr4ULCgqCi4sL2rVrBy8vryLtjIuLQ9euXREaGoqmTZuWeO3EiRPh5+eHgZPm4x9R8y+zkLn/lU6jdXxEESj4VJCk8NLiceH0bRaO/LUAjRo1wsqVK9GpU6cir09Ky8Lu4EScfZiMrHwh9LX5GGrbCJ9yBbgU9VrizE8eBxjd0VhjHzGtXr0a586dw61bt6Ctra2UNixYsAA3btzA33//DX39Lzcgpd0I9WteG0d+H4+rZ47C2tq68PVr165FTEwMDhw4ILc2Zmdn4/fff8fRo0exZcsW/PTTTxCLxejRowd+/PHHUscWnz59Cmtra4wYMQI7d+5Ei7bd0MtjOe69ZYr8Py2+wJ4QWaPgUzFsFjlDlI8VXfUxelDfcm0T1HpJAKvNTvliAa5Ptin1jl3dMQyDYcOGoVGjRti6davS2uDm5obXr1/j3LlzCH7+sdQbIfy/7uXuXzoV9o6EQiHMzMxw5swZtG3bVu5tDQkJgYuLCywsLNC+fXucO3cOQUFB4PGKFsCOiopC//79AXwpX3bv3j2cPn0aV69elXsbCSmOxvhUDJtF6HwtHTxBw3Lvjcd2uYOQy0fbtm0xceJEvHjxolzXqOo4HA7279+Pq1ev4tChQ0prw44dO8Dj8TBm0jR4HAlHjkBUsqfO4UEEXpE9/M6fP4/GjRsrJPQAoHPnznj48CGMjIzg6emJIUOGgMst+mPl7t276Nu3L9avX4/09HQ0bNgQy5cv15hlM0T1UPCpGHnuns12uUN1HS3Ex8fDyMgIbdu2xaRJk8o14aKqq1mzJs6cOYOZM2ciMjJSKW3g8/k4fvw4HgnrITdfIPHYr6ucVHYJQ0Xo6Ojg6Zt0dJ22BdtSzWDieQmt/rjypTbpxesYPMYV9gv3Yunjmqgz5Ti6bbqHuv1/Q31zzXycTpSPgk/FyHP37PJsBmpoaIjly5cjPj4edevWRZs2bTQqAFu3bo0tW7Zg+PDh+Pjxo1LaUK1aNXBMOoLhSH6bFtwIRUZG4tmzZxg2bJiCWvjFkp0n8dTsJ7yuZgpo6QIcDrIFYhy5+wLzbmWixqi1uPP2y+c4HA7yGS4y6rSGw+YgjZxFTJSPgk/FyHP3bDYbpRafRv51ANapU0ejAtDJyQmOjo5wdnaGWCz58bO8ZOdLK+71RVa+UOoShqS0LCzyi67UdlXFPXz6Cvuf8gG+doknFQyHCw5fC0IxSnxNxAA5AlGRx7SEKAoFn4opT6+svL4uksxhiv4gl1Yk2dDQECtWrCgSgO7u7mofgOvWrcPHjx+xcuVKpVyf7Y1QNS0eTp8+jYkTJ5b69cC4VDhsDoLvg1dF1m/6PnhVqZ7X5M2nwOVXfK0gFaMmykDBp2Iq0isrj4Iiyd+8i4YuD0U2SmVTJLkgAOPi4mBgYFAYgC9fvqxQe1SdlpYWTp48CR8fn0oVbK4ox9ZGJW5SSpOdL0DLsUuQza1W4mtJaVllTpARipkK9byys7Ph7e2N1zrfSn0UKwkVoybKQMsZVJC0dXyVXdzLMAzq1auHiIgINGzYsFJtff/+PTZs2IAdO3ZgxIgR8PT0RJMmTSp1TlUUFBSEn376CXfv3lXYMo/bt2/D2WMmGIcFEEsoOlCAxwG0+bwS/z8qsgEuwzB4+/YtEhIS8Pz588JfC36fnp4OoVCIRrPOfrl7qgQOB0hc+UOlzkFIeVDwqaiyFqHLYnFvSkoKbGxs8Pbt23IviSjL+/fvsX79euzcuVNtA3DTpk04dOgQbt++LddC3rm5uVi8eDEOHjyIbdu2oVarrqWv4ytD8eo7rNdvMkJYxO4tDDh9fX2YmZnBxMQEhoaG0NPTA/Clt3flyhV8+vQJ1Zx9wNHWq9w3LMjBDzmBsLe3R8+ePVGjRo3KnY8QKSj4NNDly5exadMmuSwe/joAR44cCU9PT3z77bcyv44yMAwDJycnVK9eHbt375bLNcLDw+Hs7IzmzZtj+/bthSXHCm6EfB+8hEAk+S3L53IwyMIAvb55j5CQEBwRdWbXK2MYjGSCIBAIkJGRgX///RfPnz/Hy5cvYWRkBFNTU5iZmYHL5eLMmTM4ceIE/N/XhF/0O1aBXBouGDiYV4fpx1D4+/vj3r17aNeuHezt7eHg4AArK6sS6wIVRVrZQFJ1UfBpoJUrVyI9PR1r166V2zXUNQAzMzPRsWNHzJgxA25ubjI7r0AgwKpVq7B161Zs2LABY8aMKbU3zrb3Js7LwmuvMdA2aIi647YAEnbs+K8RubB+ehBmZmYwNTUtDDpjY+PCHm5OTg6sra2xdu1aDBkyhF2lIQk4onw0iNiPg9vWw9zcHFlZWbh58yYCAgIQEBCAjIwM9OvXD/b29ujXrx/q1q1boeuUl7yHG4hyUfBpoBEjRmDIkCEYPXq03K/17t07rF+/Hrt27VKbAIyLi4OdnR0uXbrEapNXaT2H2NhYODs7w9DQELt375ZYINvE8xJYvWEZBjafQhBZvT0YLg+QMgGF7TZAnp6eSEhIwIkTJwo/J7kwOgdgADHDlBogW51sEOV/DCtWrMDChQsxderUIuXOEhMTC0MwMDAQ5ubmhb3BTp06sdp9orw9NzZhrsnF3NUBBZ8Gat68Ofz8/NCqVSuFXfPrABw1ahTmz59fpQPw7NmzmDFjBvyuB+PUo49l/lCV1nPoq5eEYxsWYfny5Zg4cWKZY64F42pz7nEh5kkvns0V54PL5UPIcuI2mx/k4eHhcHBwQHR0NOrVq1fka5LGpAFIHa9++vQpXF1dIRKJsHfvXrRo0aLE9QUCAUJCQuDv74+AgAAkJCSgZ8+ecHBwgL29famTjirSc6vIZCBStVDwaZjPnz+jfv36yMjIKNzGRpHevXuHv/76C7t378aoUaPg6elZoodTVcZWnOevQZC4BXha2qX+UF0ysBWWXHgssefAEeXjoNN3sLNtCeDLo8TExEQ8f/4cMTExCAwMRFRUFN6+fQsAqNv/N+ha9AIkzPLkMGKIPqaAW6u+xOMAgANAV6vkTNDiJG0uKytisRje3t74888/MW/ePMycObNEseuvvX37FteuXSvsERoYGMDe3h729vbo0aMH3uUwFeq5sX2cXF2Hj0dL7Mv3TRKVQMGnYe7cuYPp06fj/v37Sm3H1wHo5OSE+fPno3HjxlVmbOXL47B/kCMoe40dj8sBGAaS5qJwIEaDzATwIk7j+fPnSEtLQ+3atSESiZCeng5zc3P07t0bP/30E9q2bYv3uZB6XR0eBzwel1XVFy0eB9dndJd6Q7F69WoEBgbC399fZjOBy/L8+XO4ubkhKysL+/btY/VkQiwWIyIiAgEBAfD390d4eDhMRngi08gKYpTdXj4X6PmtDnrUeIvExEQkJibiRt2hrCYD0TKMqouCT8Ns27YNERER2Llzp7KbAqBoAA4a7YqQWj2QKyz7v6Syx1YKeqPHH7yCoIIzGYvT5ojgmHsToaGhiIyMRO/evTF8+HA4OjqiZs2aJY4fO3c1gtDiy7jdVz06PpcDDiNGZsAm6PSbwerabH54S9tcVh7EYjF27tyJRYsWYebMmZg7d265nlB8+vQJ7df8gzwxiwAT5qLjq5MwNTWFiYkJ1ic1RC6LuTrU46u6KPg0zMSJE2FjYwMPDw9lN6WI1NRUOK33wzOmHjgSZiDKcmxFJBIhNzcXubm5yMnJkfprzEfgbKohRAAYGRY9Yhgxur48huHDh8PBwaFw89nS/P333xg7diyat+kKgy7DEZdXq8S4WVzYbUwI+MRqfZ20H97SNpeVt6SkJLi5ueHDhw/Yt28frKysWL+W7USg4uFPY3zqT/GDPESpIiIi8Msvvyi7GSUYGRnhrZ4xOFLGVoRiBsfvJaJ2wlXWgVXWr0KhELq6utDV1YWenh709PQKf1/8V0bfEGFG9hBVojxXWWroauHo0aNSj/vw4QPGjRuHlStXYubMmXjpu6/UkDTu1w/2L24g4Fmm1JsIaTVfd+zYAaFQiF9//VX6NyIHxsbGuHr1Kvbs2YPevXtjypQp8PT0ZDWbU1+Hz2qsrnjB9wl2pjgdngyhuOxuX2XKBhLlox6fBhEKhahZsybevHmjktUxyjNVf2jejTJDiu2v2trarMer2PQCKoJtz4FhGIwYMQKNGjWCrq4u8vLysHHjxjKPT0rLQr9Nt5BXicfGr169gq2tLf755x+FzgAuy6tXrzBp0iSkpKRg3759sLW1lXh8ZXpuVWWsmVQM9fg0SHx8PBo1aqSSoQewv0PnCPOgq6uLPn36oGvXrnItH1aAzQbBJYhFYMCAI2FmJduew4EDB/DkyRPs2rULzZs3R3BwsMTjjQ31sf3ndph8OAy5+fklxgILfniXFXoMw2Dy5MmYNm2aSoQeAHz77be4dOkSDhw4AHt7e7i7u2PRokXQ1i59eUdlem4FxdzlVTaQKBf1+DTI0aNH4efnV2TxsSphe4fevTEfDVOCcO3aNcTExKBz587o27cv+vTpA2tra7mUuGLdG/2KDg9YOqg1llyMrVTP4dmzZ+jcuTP+/vtvRERE4NChQ6zLzSWlZWHbjSc48SAJDE8b1XX5GGrbWOoP76NHj2L16tUIDQ0tM1iUKSUlBe7u7khMTMS+ffvQrl27Uo+jnhspDQWfBpk7dy5q1aqFBQsWKLsppapIxYz09HQEBgbi+vXruH79Oj58+IDevXujb9++6Nu3L6tC2WzWDbJd2wWU/KFamYLjAoEAdnZ2cHJywrRp09CpUyd4enpi8ODBrNpSIDc3F6NHj8bnz59x5swZib3+d+/ewdLSEhcuXGBVmUZZGIbB0aNHMXPmTLi4uGDx4sWl9v7lWfCdVE0UfBqkX79+mD59OgYMGKDsppSpsnfoSUlJhSF4/fp11K5du7A32LNnT9SqVatC15u0628EJGRJLv3FMOBxORjd0VhmP1QXL16Me/fu4fLly3j48CGGDh2K58+fV6j4gEgkgoeHB8LCwnD58uXCAtjFjRkzBg0aNMBff/1V2eYrxJs3b+Dh4YEnT55g79696NSpk7KbRFQcBZ+GYBgGRkZGiIyMrPQefPImqzt0sViMqKgoXLt2DdevX8edO3dgYWFRGISNWlhj4La7EnuYWhwxmMsrkJr6DrVHrwVHq+zxRK5YgBnf5WLK+FHl+n7Lcvv2bQwfPhwPHz5EgwYN4OrqCjMzs0r12BmGweLFi3Hs2DFcvXoV3G+MivR2dXgM8uKCcWXjHHzX2FAm34ciMAyDkydPYurUqRg7diyWLl1auI0SIcVR8GmI5ORk2NraynQPvqomNzcXd+7cKQzCV/W6QNeiN8AtuywWIxKAl5UGfk0j5DP/7+0x4iI9v4LeYVcmFvXE77FixYpKtzUjIwM2NjbYtGkTBg8ejI8fP8LExATx8fFl9tTKw9vbG6v2n4e+/TSIGBTp7Za1oW1V8O7dO/z222+IiIjA3r170bVrV2U3iaggCj4NcenSJWzevFkue/BVVRaL/ZHFoqxXCV8FX3Wd/3qj9/++jCNHjsDPz6/SbXN2dka1atWwfft2AMCGDRsQFhaGI0eOVPrcwJdedZ8NgRBIqGyi7Co5lXH69GlMmTIFI0aMwIoVKyQWBSCaRzk7PBKFi4iIgI2NjbKboVLY1LIs1f9DT0+Lh0tTumHZ4NYwNtSHhYUFHj9+XOl2HTt2DPfu3cP69esBfHlku23bNpkuIt8V9Fxq9RmBSIzdwYkyu6YiDR8+HNHR0Xj37h2sra1x69YtZTeJqBAKPg1BwVeSvk7llrEWD4ZmzZrh1atXyM3NrfA5k5KSMG3aNBw9erSwl3Lt2jXUqFEDnTt3rlR7v8ZmXaJQzODsw2SZXVPRDA0NceTIEWzYsAGjR4/Gb7/9hszMTGU3i6gACj4NQcFX0hCbhuBzKz7eWTwYtLS0YGZmhidPnlTofCKRCM7Ozpg1axbatm1b+Hlvb294eHjIdGw2i+XSjKx8dsepskGDBuHRo0fIzMyEpaUlbty4oewmESWj4NMAnz9/RkpKCpo3b67spqiUCXam0OJV7i1QPBgsLCwQExNToXOtXbsWHA4Hs2fPLvzcixcvcPv2bYwePbpS7SyObW+3eB3Lqqp27drYv38/vL298csvv8Dd3R2fPn1SdrOIklDwaYCoqChYWFgoZeNZVWZsqI8xTXMAYV6Fe37Fg6GiwRcaGoqNGzfi0KFDRTZf3bFjB5ydnWU+OYNNb5dNEeuqZsCAAXj06BGEQiEsLS0REBCg7CYRJaDg0wARERFSC/pqotTUVGxdMBmb7I3g1KEJquvwweF8manZ3Kg6+FLeHaUFQ6tWrcodfFlZWRg9ejS2bt2Kb7/9tvDzubm52LNnDyZPnlyu87HBprerrjsQ1KxZE7t378auXbswceJEuLq6Ij09XdnNIgpEwacBaHyvpIIizOPGjcOQPl9mZj5aYo/ElT/g0RJ77HJuBy1e2ev7gNKDoSI9vhkzZqBz584YMWJEkc+fPHkSNjY2cnlEbWyoj21j2kCbB0Bc9HEtn8uBnhZPYhFrddCvXz9ER0dDW1sblpaWuHTpkrKbRBSEgk8DUPCVdOzYMTx58gR//vlnqV8vCAY9LV6JR4KSgsHc3BzJycnIzs5m1Y6zZ8/i+vXr8PLyKvE1WS9hKK5nCyP0FT5Ac977Ir1dpw5N4D/NrsotXq+Ib775Bj4+Pjhw4ACmTJmCcePG4cOHD8puFpEzWsCu5gr24Hv79i2qV6+u7OaohJSUFNja2uLy5ctFZk+WpiLl0ywtLXHgwAG0adNGajvatGmDs2fPlliqEB4ejiFDhlS4Lidb1tbW8PHxQZcuXeR2jaoiMzMTnp6eOHPmDLZt21buQuCk6qDgU3MxMTEYNmwY4uLilN0UlcAwDAYOHIg2bdpg6dKlcrnGqFGj8MMPP2Ds2LFlHiMWi+Hg4ICuXbti8eLFJb4ui7qc0iQnJ8PKygqpqalFJtRoun/++QcuLi7o0KEDtmzZgjp16ii7SUTGaJqfmqPHnEXt378fycnJOHPmjNyuwWacb/PmzcjMzMTChQtLfO3jx484ffo04uPj5dVEAIC/vz/69u1LoVfM999/j6ioKCxatAhWVlbw8vLC8OHDAbDbwoqoPhrjU3MUfP959eoV5s6diwMHDsh1c1VpwRcVFYWVK1fi8OHDpT7G3LdvH3744QeZFKOW5MqVK+jfv79cr1FVVatWDRs2bMCpU6ewYMECjBgxAn734uGwOQi+D14hM08IBkBmnhC+D17BYXMQAuNSld1swhIFn5qj4PuCYRi4urpi+vTpsLKykuu1JNXszMnJwejRo7F+/XqYmpqW+Lo86nKWRiAQ4MaNG3BwcJDrdaq6Ll26ICIiAnWafodpJx8hRyAqUepNKGaQIxDB40g4ktKylNRSUh4UfGqMYRgKvv/bsWMH0tPTMW/ePLlfy8zMDK9fvy51Zue8efNgYWFR5vjftWvXUL16dZnW5SxNSEgITE1NUa9ePbleRx3o6enBoMtP4GvrSDyuKhf11jQUfGosJSUFXC4X9evXV3ZTlOr58+dYtGgRDhw4oJDqNXw+H82aNUNsbGyRz1+5cgV+fn7Yvn17mXU3vb298euvv8p9z0R6zFk+fhEpEEmZBljVi3prEgo+Nfbw4UPY2Nho7MazwJdHhy4uLpg/fz5atmypsOsWH+dLTU2Fq6srDh48iNq1a5f6GnnV5SwNBV/5sC7qzfI4olw0q1ON0WNOYOvWrRAIBJgxY4bCrpmUloWPZv2w9HFNLPa8BH0dPrRTIjDUeSJ69OhR5ut27NiBsWPHyn3T1JSUFLx8+RIdO3aU63XUib4OH5ksQk2cn42WLVtiwIAB+OGHH9CtWze5TqQiFUPBp8YiIiIKp2Frovj4eCxduhQhISEKm7IfGJcKjyPhyBPWgfj/Pe3MPCFQ+zv8ra2NwLjUUiuiFNTlDA4OlnsbC5YxUNFy9obYNITvg1cS9zDkczkYZfcdOg3ch63XY3HmSjrEVwPAEwthW1uAeUPao0NL9at9WhXRo041psk9PpFIhF9++QV//PEHmjVrppBrJqVlweNIOHIEIohR7PEyl48cgbjMmX+nTp2SW13O4ugxZ/mxKeotFOTBuAYHc/5OxzOmHhi+DjgcLsQ8bYRl6OKnPQ/Ruu8ILFy4EHfu3IFIJFJQ60lxVLlFTX369AkNGjTAp0+fNHKB8rp163D58mXcuHEDXK5i7u8W+UWz6hU4dWiCZYNbF/l8586dMW/ePAwZMkSubRQKhahbty5iY2M1ftJTeRX05gUicZF/Yz6XAy0eFzbipwjJawTwy579qc0D7EVh+Ofyafz777+wt7fHgAED4ODgILVCDC2elx3q8ampqKgotG7dWiND7/Hjx1i7di327t2rsNADvsz8kxR6QOkz/8LDw5GcnAxHR0d5Ng/Al2UMJiYmFHoV0LOFEfyn2ZXYwqqgqLdZux7g8iWP54kZDmp1GobIyEhERkaiZ8+eOH36NMzMzNC5c2csW7YMYWFhEIvFRV4XGJdKi+dliHp8auTrO8LMPAF4YiGcOptp1B2hUChE586d4ebmhkmTJin02iael8DmzcThAIkrfyj8s5ubG0xNTeVal7PAggULwOFwsGLFCrlfS9O0XhLAagJMdR0+Hi2xL/K5vLw8BAUF4fLly7h8+TIyMjLQv39/DBgwAN+164af9kYgR1D2o1E9LR78p9lpzPu8sij41IS0xzDbxrTRiG1mli9fjqCgIPj7+yt8GUdFfvB9/PgRpqamePLkiUIWk9va2sLLywvdunWT+7U0TUVvfErz7NkzXLlyBZcvX8ZDXjPoWvQBuGU/vSnrETopHT3qVANfT6rQ5HJKkZGR2LJlC3bv3q2UtYtDbBqW2LuvuOK7tu/btw8DBgxQSOi9fv0aSUlJ6NSpk9yvpYn0ddjNktXXln6cubk5pkyZgitXrsCw7QCJoQfQ4vnyouBTA7uCnkMgEks8Rt3LKeXn58PZ2Rlr167Ft99+q5Q2TLAzBV/KO+rrXdvFYjF8fHzkXpezgL+/P/r06UPLGOSkIjc+bGTns5v9SYvn2aPgU6KktCws8otG6yUBMPG8hNZLArDIL7rcPbOKTqpQJ8uWLUOTJk0wbtw4pbXB2FAfDZ9fBh8iVru2X7t2Dfr6+nKvy1mAljHIF5slD1/f+LDFticpystGnz594OXlhaSkpHJdQ9PQGJ+SyGJMLi8vD9HR0fjx9Bug+LqxUrAZW6iKHjx4AEdHR0RERKBBgwZKa4efnx/mz5+PC4EhOHg/Wequ7YMGDcLAgQMxYcIEubdNKBTCyMgIMTExSv07UnfyGGtnu0zmJ9sG6MB7gfPnz+PixYto1KgRBg8ejMGDB8PW1lbq439NWi5BwacESWlZcNgcVK5ZWvn5+Xj06BFCQ0MRFhaG0NBQxMbGwtzcHFn9l0LE1ZJ6XS1GiFNOTWFlZaU29Ttzc3PRpk0b/P7773ByclJaOz59+gQLCwscPnwY3bt3l3r8ixcv0LZtW7x8+VLuJcoAIDg4GFOmTMHDhw/lfi1Nl5SWhd3BiVJvfMpzvvL+vBCJRLhz5w7Onz+Pc+fOIScnB4MGDcLgwYPRo0ePEmXUNG1yHAWfErC5g+NxAJsaWaib9DfCwsIQExMDMzMztG3bFu3atUPbtm1hbW2NatWqsT6fiTgFz3xXQF9fH05OThg1ahTMzc3l8S0qzNy5c/H8+XOcPHlSqWE+depUZGVlYc+ePayO9/T0RE5ODjZt2iTfhv3fwoULwTAMVq5cqZDrEdmqTDAxDIMnT57g3LlzOH/+PGJjY2Fvb4/Bgwejf//+yBBplTtYgardQ6TgUwK20955YgGmNXqJdu3awdrausyeQXnuCJsYVENISAiOHTuGkydPokmTJnBycsLIkSPRsGHDCn9PilD8jabLBz5HB+LCummwbaacCS3Al0etAwcORExMDAwNDaUen5eXhyZNmiAoKEghJcoAoE2bNti8eTPs7OwUcj0ie7LqSb558wYXL17EuXPncOvWLTT9cR4y61mXLLP3leLLJap6D5GCTwlkud6nQFn/ETmMGLraWqX+RxQKhQgMDMSxY8fg5+cHa2trODk5Yfjw4RJ/gCvjTq+s748LBjpafKW90YRCIdq3b49Zs2bh559/ZvWaw4cP4+DBg7h69aqcW/fFmzdv0LJlS7x7945mdJIisrKy0GZlIPLE0p+WFKw/rcijV1VDszqVQJbrfQqUVk5JX4uLvJgbODOhXamhwOfz0bdvX+zduxcpKSmYNm0arl+/DlNTUzg6OuLIkSPIzMws8hpllE6StE5RDI5S1ylu2rQJderUwZgxY1i/xtvbGx4eHnJsVVG0jIGURV9fH/ksQg8AMnMFWL9+PRYcvIF8oeQlFqq+fIqCTwnktd7H2FAfywa3xqMl9khc+QNilvZHO85z3A7wk/paXV1dDBkyBCdOnMC///6LUaNG4ejRo2jUqBFGjhwJPz8/PH39USkL5VV1neKLFy+wevVq+Pj4sB5fVGRdzgK0jIFIwvZGXJsrxqtXrxDyWlTld6OnR51KoMhHBQEBAZg/fz7Cw8MrNPnj/fv3OH36NI4dO4a4b2yh26oXGE7Z90uSSieJxWJkZWXh8+fPhR+fPn0q8ufSPkKbOkHMk76ZZ2k1EOWFYRg4Ojqia9eu5aqxqci6nMB/yxgePXqk8mO4RDnKu6uIPIZqFI2CT0kUNTgsFovRokULHDx4sNILpVv9cQXZAsk9LwDgivJh/GBLiQDLzs6Gnp4eatSowfrjm2++wbyI6qzaxzBiWET5wMrKCpaWlrCyskKLFi3ksgP2yZMn8eeffyI8PJz1+RVdlxMA7ty5Aw8PD0RERCjkeqTqKe+NeGWKcasKCj4lkvV6n7Js2LABDx8+xKFDhyp1HtZ3emCwu0/JgKtevXqFtkli+0arpsXFqrb5iI6ORlRUFKKjo/HixQs0a9asMAgLfm3UqFGFlz+kp6fDwsICJ06cQNeuXVm/buPGjQgNDcWRI0cqdN2K+P333yEUCrFq1SqFXZNUPeW5Ea/MvpOqgoJPA3z48AFmZmaIi4uDkVHFe5HKutOrzBstJycHsbGxhUFY8GteXl6RILS0tETr1q1Ro0YNqe2ZPHkyGIbB9u3bJR5XfPYrI8hFH/Nv8PtPXRQ2261du3bYsGEDvv/+e4Vcj1RdbG/E1WFWJwWfhnB1dUWzZs0wf/78Cp9DWXd68nijpaamFgnCqKgoPH78GPXr14eVlVWRUDQ3Ny/sqYaEhGD48OGIiYlB7dq1yzy/Kqxzevv2Lb777jukpqZCS0t6ZR9C2FKF/9+VQcGnIcLCwjB8+HAkJCRUeFd2Zd7pKeKNJhKJ8OzZsxK9w4J1cBYWFrh69SpcXV0xderUMnvPqnJHfPDgQZw7dw6nT5+W2zWI5lLUUI08UPBpkE6dOmHhwoUYOHBghc+hzDs9Zb3RPn/+jJiYGKxduxZhYWFo2rQpoqOjoaWlVaJ32KpVKyz3f6oSYyBOTk7o3bs33Nzc5HYNQqoiCj4NcvDgQRw9ehT+/v6VOk9VvtOrqISEBHTs2BEPHjyAiYkJGIZBcnJyid7h06dPUe/Xw4CWrtRzynPWm0gkgpGRESIjI9G4cWO5XIOQqoqCT4Pk5uaiSZMmuHPnTpUvTq1IDMPA3t4effv2xZw5cyQem5+fjxaLryl9nVNISAgmTZqEqKgouZyfkKqMKrdoEF1dXYwfPx4+Pj7KbkqVcuzYMbx9+xbTp0+Xeqy2tjbrShhcUT52796NZ8+eQdb3n1SthZCyUY9PwyQmJqJ9+/Z4+fIlqlWrpuzmqLwPHz7AwsIC586dQ4cOHVi9ZsGZSBy7/1JihZuCbaf0Ys4jMDAQXC4XPXr0KPwwNTUt1zrD4ksnIMxFT5PqWDyym9o+fiakoij4NJCjoyOGDRsGFxcXZTdF5U2YMAG6urrw8vJidfyHDx8weIwr/rUaB0bC5sBfz+pkGAbPnj3DzZs3cfPmTQQGBoLP5xeGYM+ePdG0adMyg7CqTy0nRNEo+DTQlStXsGjRIoSGhqrNTuzyEBQUBCcnJzx+/BjffPON1OPj4+Ph6OiIgQMHYoDbHPx2LKLUbZTEwnx4jbTGwHZmpZ6HYRg8ffq0SBBqa2sXhmCPHj3QtGlTAKqzdIKQqoSCTwOJxWI0a9YMR48eRceOHZXdHJWUl5cHGxsbrFixAsOGDZN6fGBgIEaNGoXly5djwoQJAMqe/fo++Dge3b2Ja9euQVdX+uxPhmEQHx9fJAh1dXXRo0cPZLV0xMMMPQglvItVvXwUIYpGwaeh/vrrL0RHR+PAgQPKbopKWrZsGR48eIBz585J7RXv3r0bCxcuxLFjx9CrVy+p5xaLxRg9ejTEYjF8fX3B5ZZvjhnDMIiLi8PNmzexLrEeRFzV2rmCEFVHwaeh0tLSYG5ujqdPn6JOnTrKbo5KiY+PR5cuXRAeHo4mTZqUeZxIJMK8efNw/vx5XLx4Ec2bN2d9jdzcXNjb26Ndu3ZYv359hduqDlvEEKJotJxBQxkaGmLIkCHYu3evspuiUhiGgbu7OxYtWiQx9DIzMzF06FCEhYXh7t275Qo94MvSEj8/P1y5cgWbN2+ucHvZLp3Q16bd1wkpQMGnwTw8PLB9+3aIRGVPjNA0Bw8eREZGBn777bcyj3n58iW6desGIyMjBAQEwMDAoELXql27Nq5cuYJ169ZVuJ7mEJuG4HMlP4rlczkYatuoQucnRB1R8Gmw9u3bo06dOpUuYaYu3r9/j7lz52Lnzp3g80vvId2/fx+dO3fG2LFjsWvXrkpvcmtsbIwLFy7A3d0dt2/fLvfrJ9iZQosn+W2sxePCrZtJRZtIiNqh4NNwHh4e2LZtm7KboRJmz56N0aNHo23btqV+/cSJE/jhhx/g4+ODWbNmyWwpiK2tLQ4fPozhw4cjLi6uXK81NtTHmKY5gDAP/GLvZj6XAz0tHraNaUNLGQj5Ck1u0XA5OTlo0qQJ7t27B1NTU2U3R2n+/vtvjB8/HjExMahevXqRrzEMg+XLl2PXrl04f/48bGxs5NKGffv2YdmyZTh5JRBnYz8VVmHR1+FjiE1DTLAzLRFgL168QIcOHbDn+Dnc/1RDowqHE1JRFHwEc+bMAYfDwdq1a5XdFKXIzc2FlZUV1q9fX2LLptzcXLi6uuLp06c4d+4cGjRoINe2TPhjI67lNgVfSxtC8X+fL60Ki0AgQPfu3TF8+HDMmjVLru0iRJ3Qo04Cd3d37Nu3Dzk5OcpuilKsXLkSlpaWJUIvNTUVvXr1glAoxK1bt+QeeklpWQhGS4BXNPQAQChmkCMQweNIOJLSsgAAixcvRq1atTBjxgy5tosQdUPBR2BmZob27dvjxIkTym6Kwj1+/Bg+Pj7YsmVLkc8/evQIHTt2RJ8+fXDs2DHo6enJvS27gp5DIBJLPEYgEmN3cCKuXbuGgwcPYv/+/eVeAE+IpqN3DAHwZZKLt7e3spuhUGKxGJMmTcLixYvRqNF/0/0vX76MXr16Yfny5Vi6dKnCgsUvIkXiru3Al57fmfBXGDduHA4ePAgjIyo+TUh5UfARAED//v3x7t07PHjwQNlNUZi9e/dCIBBg8uTJAL5MYtmyZQvc3Nzg5+eHMWPGKLQ9WXlClseJ4Orqyqo8GiGkJJrcQgotWLkRN99w8cngO6mzCau6t2/fwtLSEteuXYO1tTUEAgGmTp2KoKAgXLx4sXD3A0VqvSQAmSzCjyPMxdNVg8tca0gIkYx6fATAlz3dzuR8h2TdpsjME4IBkJknhO+DV3DYHITAuFRlN1GmZs6ciV9++QXW1tZIT0/HgAEDkJSUhDt37igl9AB2VVgYkRBDrBtS6BFSCRR8BElpWfA4Eo5coRgcXtEfqKXNJqzqAgICcOfOHSxevBgJCQno3LkzWrVqhfPnz7Pad09e2FRh0dHiYXp/KwW1iBD1RMFHyjWbsKrLzs4urFYTFhaGrl27YurUqdi8ebPSe1HGhvrYNqYN9LR4JXt+jAg8Rogdzh3U7rEzIYpGY3yE9diSHh/w+9kchoaGqF27Nng8ngJaV3FJaVnYFfS8SAWU+nkvUf3VPQzp0w1z587FkSNH0LdvX2U3tYjiG9hqQQzOi/u48NcMNG9YsYLYhJD/UPAR1nu6gRFD+8wspKWlISMjAzVq1IChoWGpHwYGBqV+Xl9fX2Y1LiUJjEuFx5FwCETiIksEGJEQfC7ABO3Cpd3r0LJlS7m3pTKio6PRq1cvBAcHo0WLFspuDiFqgUbICfR1+Kx6fNV1tfEoPh7Al01Y09PTkZaWhg8fPiAtLa3Ix6NHj0r9mlAoLDMUywpMAwMDaGlpsf5+CsYscwQlt1vi8PgQAdDt9SuqGZW9354qyMrKwsiRI7F+/XoKPUJkiIKPYIhNQxy59wKMhCHf4nu68Xi8wmAqj9zc3DLD8u3bt3j8+HGJr338+BF6enqsw/JQbD4EUvYYFIoZ7A5OxLLBrcvVfkWaPn062rVrB2dnZ2U3hRC1QsGnQUob8xpi0xBJQX5guK0Bftl7y8lqTzddXV00atSoSKUUacRiMT59+lRmYMbHxxf52vse8wEtySXGhGIGZx8mq2zw+fr64tatWwgLC1N2UwhROzTGpyHKGvPiMGIwYiHcvzfFgfuvS3y9tF0BVF15xiw7Jx2FjY0NrK2tYWNjg/r168u7eVIlJCSgU6dOuHr1KmxtbZXdHELUDgWfBkhKy4LD5qBSx7wK6GnxsGdcO1x59KbK7+nGdpZqNS0O5pu/R0REBCIjIxEREQE+n18YggW/tmjRQmFLHfLz89G1a1c4OztjypQpCrkmIZqGgk8DLPKLhu+DVxILIPO5HDh1aKKyj/7Ko6LfL8MwSE5OLgzBgl///fdftGrVqkggWltbo2bNmpVqZ2mPno2yX0D7eRCunDykkNmvhGgiCj4NwLYHVF2Hj0dL7BXQIvli28P1n2bHqiebmZmJ6OjoIoEYHR2NunXrFukZWltbo2nTpqwCS9JyCz0dbfj83LbKPFompKqh4NMAbMe8OBwgceUPcm+PIpQVLLIasxSJREhISCjSM4yMjERmZiasrKyKBKKFhQV0dXULXyvrYCaElA8FnwbQtB5fgYIKKMfvJSJfzEF1XS25j1m+f/8ekZGRRcIwPj4eZmZmhUH4SNcCt98wJXZZ/5o6PXomRNVQ8GkATRvjK2716tX4+PEj1qxZo5Tr5+XlITY2tjAI/fh2YPg6Ul+nbjcihKgKWsenASbYmeJ0eDKE4rIfrclqnZ4q+vTpU6UnolSGjo4ObGxsYGNjAwDw87zE6nVZ+ew2piWElA/tzqABJFX953M50NPiYduYNmo7nvTp0yelbjdUnL4Ou/tNfW26LyVEHij4NETPFkbwn2YHpw5NUF2HDw7ny6M0pw5N4D/NTq1nEGZkZKhU8LHZcLZ4iThCiOzQLaUGMTbUx7LBrdVyHE8SVevxafqjZ0KUjXp8RO0pe4yvOE1/9EyIslHwEbWnao86Ac1+9EyIstFyBqL2zM3NceXKFTRr1kzZTSGEqAAKPqKWvq6D+TlXgOo6PAy1bYwJdqb0CJEQDUfBR9SOvMuVEUKqNgo+olaoDiYhRBqa3ELUyq6g5xCIJBTBBCAQibE7OFFBLSKEqBoKPqJW/CJSJNYkBQChmMHZh8kKahEhRNVQ8BG1ksViFwqA6mASosko+IhaoTqYhBBpKPiIWqE6mIQQaSj4iFqZYGcKLZ7k/9ZUB5MQzUbBR9QK1cEkhEhD6/iIWkpKy8Lu4EScfZiMrHwh9LX5GGrbCG7dTCj0CNFwFHyEEEI0Cj3qJIQQolEo+AghhGgUCj5CCCEahYKPEEKIRqHgI4QQolEo+AghhGgUCj5CCCEahYKPEEKIRqHgI4QQolEo+AghhGgUCj5CCCEahYKPEEKIRqHgI4QQolEo+AghhGgUCj5CCCEahYKPEEKIRqHgI4QQolEo+AghhGgUCj5CCCEahYKPEEKIRqHgI4QQolEo+AghhGgUCj5CCCEahYKPEEKIRqHgI4QQolEo+AghhGgUCj5CCCEahYKPEEKIRqHgI4QQolEo+AghhGgUCj5CCCEahYKPEEKIRqHgI4QQolH+By5/qwFWhmmZAAAAAElFTkSuQmCC\n",
          "text/plain": "<Figure size 432x288 with 1 Axes>"
         },
         "metadata": {},
         "output_type": "display_data"
        },
        {
         "data": {
          "image/png": "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\n",
          "text/plain": "<Figure size 432x288 with 1 Axes>"
         },
         "metadata": {},
         "output_type": "display_data"
        },
        {
         "data": {
          "image/png": "iVBORw0KGgoAAAANSUhEUgAAAb4AAAEuCAYAAADx63eqAAAAOXRFWHRTb2Z0d2FyZQBNYXRwbG90bGliIHZlcnNpb24zLjQuMywgaHR0cHM6Ly9tYXRwbG90bGliLm9yZy/MnkTPAAAACXBIWXMAAAsTAAALEwEAmpwYAABXcUlEQVR4nO3deVzN+fcH8Ndd2u3rCBllHy1SKKJsobE2liwjY28Mg2HEGNt3sowtRhEalGXMRNaJ0BBKabEvQ1QUkaVF3e7y+f3Rr0aqez/3drfuPc/Hw0Pqcz/vd+rec9/bORyGYRgQQggheoKr6Q4QQggh6kSBjxBCiF6hwEcIIUSvUOAjhBCiVyjwEUII0SsU+AghhOgVCnyEEEL0CgU+QggheoUCHyGEEL1CgY8QQoheocBHCCFEr1DgI4QQolco8BFCCNErFPgIIYToFQp8hBBC9AoFPkIIIXqFAh8hhBC9QoGPEEKIXqHARwghRK9Q4COEEKJXKPARQgjRKxT4CCGE6BUKfIQQQvQKBT5CCCF6hQIfIYQQvUKBjxBCiF6hwEcIIUSvUOAjhBCiVyjwEUII0SsU+AghhOgVCnyEEEL0CgU+QggheoUCHyGEEL1CgY8QQoheocBHCCFEr/A13QFCCKluUrPzsTM6BeHJGcgXiGBmxMcwO3NMdbFEi/pmmu4ekYHDMAyj6U4QQkh1EfUgCz77EyEUSyCS/PfyyedyYMDjImCcPdzaNtJgD4ksFPgIIYSl1Ox8DPCPRoFQXOk1JgY8RMxxoZGfFqM1PkIIYWlndAqEYonUa4RiCXZdfqKmHhFFUOAjhBCWwpMzykxvVkQkYXA06bmaekQUQYGPEEJYyheI2F1XxO46ohm0q5MQojcU3Y354MEDhIaGghHaAgYmMtsxM6SXVm1GIz5CiF6IepCFAf7ROBSfjjyBCAyAPIEIh+LTMcA/GlEPsspcn5WVha1bt6JLly5wdXVFfn4+3NvVB5/LkdoOn8vB8E5NVfidkKqiXZ2EEJ3Hdjfm0WmOSL4cidDQUFy+fBlffvklJkyYgD59+oDP59OuTh1BgY8QovN+Cr+FQ/HpUjemcBgJCu+ch03RPYwfPx7Dhw9HjRo1yl1H5/iqPwp8hBCtV9VMKR2Xn0Eei40pZoZc3FkxkFV/dl1+gqNJz5FfJIKZIR/DOzXFlB4taaRXDVDgI4RoNWWMsFr6ngKbFzoOB3ji51HFHhNtR5tbCCFaKzU7Hz77E1EgFJebphRJGBQIxfDZn4jU7Hyp9zExkL4hpQTtxtQPFPgIIVqrKplShEIhwsLC0LdvX+TcPA8OI/0+tBtTf9DbG0KI1lYbkCdTyqqhHQEAz549w86dO7Fr1y5YWlpi5syZcHQbiCGB16TuxjTgcTGlR0ul9p9oJxrxEaLn5D3fpk7yZEqJjIzEiBEjYG1tjVevXiEiIgLR0dEYO3YsWjepi4Bx9jAx4JU7h8fncmBiwEPAOHvamKInaHMLIXpM286lfTryZP3iJCxA7chVmDlzJsaNG4eaNWtWen/ajUko8BGix9icb+NzOfDqYlE6lagqle3elIkRo9/npgia3gccDrtNLES/0VQnIXpMW6oNSNu9KYuJoSF+GulEQY+wRptbCNFj2lJtgM3uTYZhygS3j8/x0TQlkQcFPkL0mJkRn2VGE9W+VLAZeZYEPQ4HtDZHqoQCHyF6bJidOas1PlWfb2M78qTMKkQZaI2PED021cUSBjzpLwOqPN/27t07hISEgCMuYnU9ZVYhykCBjxA91qK+2Ufn28p+TVXn216/fo3du3dj0KBBsLCwwJ9//onO9cXl2v8UZVYhykLHGQghSM3Ox/KDl/BPagFgYKT0NbTMzEwcPXoUYWFhuH79Ovr37w9PT094eHigZs2aWneekOg2mjcghKBFfTO0zbuBepJX2OC3QSn3TEtLQ1hYGMLCwnDnzh14eHhg1qxZcHd3h6mpabn2A8bZw2d/IgqLhGA4/w3/aPcmUTYa8RFCAABfffUVPD094eXlpfA9Hj16VBrsUlJSMHToUHh6eqJPnz4wMjKS+fjHWTnoOWUZ6tj1xweRhHZvEpWgER8hBABw/fp1rF69Wq7HMAyDu3fvlga7ly9fYvjw4fDz80OvXr1gYGAg1/1Sb1+HeeZlxB/fJNfjCJEHBT5C9FS5vJiev2LPnQJMq5cvdXTFMAySkpJKg92HDx8wYsQI/Pbbb3B2dgaPx1O4T0eOHIGnp6fCjyeEDZrqJEQPyVvVXCKRIC4uDn/99ReOHDkCLpcLT09PeHp6wtHRUSnpwiQSCZo3b46oqCi0adOmyvcjpDI04iNEz3ycF/NTIgkDkaS4qvmpWd2Rfi8RYWFhOHLkCGrXrg1PT08cPXoUNjY2Ss+Nee3aNdStW5eCHlE5CnyE6Bk2eTELi4ToOXUZGqZFwdPTE5GRkWjfvr1K+xUWFkbTnEQtaKqTECXR1irmn+q4/Ayr/JymBlzcXTlQDT0qXje0srLC0aNHYWtrq5Y2if6iER8hSlDRmllJFfOwxOfl1sxUSSgU4uXLl8jMzERmZiZevHhR5uO8dlOKk17KUCCSPipUpuTkZHC5XNjY2KitTaK/KPARUkVs18yqmnUkLy+vXCCr6N/v3r1Dw4YN0aRJE3z22Wdo0qQJmjRpAhsbG/Tv3x8PkjgoYJETWp15MY8cOYIRI0ZQTT2iFhT4CKkiNmtmQrEEuy4/KVfFXCKRIDs7W2Ywe/HiBcRicblg9tlnn6FNmzZl/t2wYUOpRwoSueyqrqszL2ZYWBh+//13tbVH9But8RFSRWzXzAwgQu83p8sEtpcvX6JGjRqlgevTwPbxv2vVqqWUEZG25cW8d+8e+vXrh7S0NHC5lDefqB6N+AipIra15ITgwc7ODgMHDiwNZp999hmrVF7K9HFeTGnn+NS1IadkmpOCHlEXGvERpaouOxuVie2Ir4YRH7eXu6uhR+ykZudj1+UnOJr0HPkCIThiIcZ1b632vJidO3fGhg0b4OrqqrY2iX6jwEeURt5sILrg2rVr8Am+iNe124LDq3wChc/lwKuLRbk1Pm2RlJSEiRMn4ubNm2pt98mTJ+jatSsyMjLA59MEFFEPmlsgSvHxzsZPN02IJAwKhMU7G1Oz8zXUQ+VhGAYXLlxA3759MWrUKAzvUBumxoZSH6PKKubKYGVlhZSUFKj7ffDRo0cxdOhQCnpErSjwEaWQZ2djdSWRSHD8+HE4OTnBx8cHEyZMwKNHj/DTnOkIGNf5/6uYl918oqoq5spWq1YtmJiYICsrS63tlqzvEaJONNVJlKK6rnOxIRKJcPjwYaxevRoGBgZYsmQJhg0bVu7IQJk1syJRtasl17VrV2zatAnOzs5qaS8zMxNffPEFXrx4AUND6SNmQpSp2swv6OOmieqE7c7G/CJ212kDgUCAvXv3Yu3atWjatCl+/fVXuLu7V3qkoEV9M6wa2lFr1/E+9elziuu6CJsvZ6JpW+lliZQlPDwcgwYNoqBH1K5aTHVGPcjCAP9oHIpPR55ABAb/pYMa4B+NqAfqnZ4h5ZkZsXsPpc5sIIrKy8vDxo0bYWlpifDwcOzZsweXLl3CgAEDdCazSEXPKTHXEPFvDdX2nKKk1ERTtD7w6dOmiepsmJ15ufWtT6k7G4i83r59i1WrVsHS0hKxsbE4efIkTp8+DRcXF013TamkPacYcNXynMrOzkZ8fDzc3avXtDfRDVof+PRh04QumOpiCQOe9F8nbd3Z+OLFC/z4449o1aoVnjx5gujoaBw+fBidOnXSdNdUQhueU8ePH0e/fv1gamqqsjYIqYzWB77w5AypOQWB4pHf0aTnauoRqUhJNpDKdjZCXIQh9bO0aj326dOn+Pbbb9GhQwcUFBQgKSkJwcHBaNu2raa7plLa8Jyi3ZxEk7Q+8Onipgld5da2ESLmuMCriwVqGPHB4RTv4vTqYoGdwz9H8P/mIzU1VdPdxL179zBx4kR07twZtWvXxr1797BlyxZYWFhoumtqoennVE5ODi5evAgPDw+V3J8QWbR+p4GZEZ/VNvlPN03QLlDNkLazcf78+fjmm28QGRmpkbyMCQkJ8PPzw+XLlzF79mw8fvwYderUUXs/NEUikeDkyZOASATwZecH5YiKcO7cOfTu3VupP6+SddPatWsr7Z6EyEPrR3xsNk1AIkbB3X9w8OBBSCQS2gWqpX744Qfk5eVh+/btamuTYRhcunQJ7u7uGDZsGHr27ImUlBQsWbJEb4Lehw8fsH37drRv3x4rV65El0ZgsREJsKtThPnz56Ndu3bYtGkT3r59q5T+hIWF0TQn0SitP8DOtoTKT5252Lr6Z+QyRijquwBCSeVPbHWWXCFl3bt3Dy4uLoiLi4OlpaXK2mEYBn///Tf8/Pzw8uVLLFq0COPHj1d7JQRNevHiBbZt24YdO3bAyckJ8+fPh4uLC9LefGBdlsiinimuXr2KwMBAnDp1CsOHD4ePjw8cHBwU6lNBQQE+++wzPH78GA0aNFD0WyOkSrQ+8AHskx8zDIOvt5xGdIYI4GouYTBNs0q3YcMGHD9+HFFRUUqf8hSLxQgLC4Ofnx8YhsHixYvx1VdfSS3Mqmtu376NjRs34ujRo/Dy8sL333+PNm3alLmmsucUFww4jBi7JjmVSyielZWF4OBgbN++HY0aNYKPjw9Gjx4NExMT1n0LDw/Hli1bcOHChap9k4RUQbUIfAD7dFCaTp2ljxUK5CUWi9GzZ0+MHj0as2fPVso9i4qKEBoaijVr1qBBgwZYsmQJBg0apDMHzmVhGAaRkZHYsGEDbt68iVmzZmH69OlSR1UVPac61RUiMyoU58IPVfo4sViMiIgIBAQE4Nq1a5g4cSJmzJiB1q1bV9hGmewwEiGsaxbAf+YQehNINKbaBD62WvqeAptviGEkMD76Q2mVa3Nz8wo/lqfqtbZVttZmDx8+hLOzM2JiYip8wWTrw4cP2LVrF9avX4/27dtj8eLF6Nmzp94EPIFAgAMHDmDjxo0AijcQeXl5KTyle/fuXQwfPhwPHjxgdf2TJ0+wY8cOBAcHw87ODj4+Pvjyyy/B5/OlvAkEDHg8ehNINEbnAh/bEZ+ZIQ9/jWmBzMxMZGRkIDMzs8KPGYaRGRzNzc1Rp04dLD12G4fi06WekdL2umzq5O/vj8OHD+PSpUtyT0W+e/cOAQEB8Pf3R/fu3eHr6wtHR0cV9VT7ZGdnIzAwENu2bYOtrS3mzZuHfv36VTngFxQUoG7dusjPz5frZyIQCPDXX38hICAAaWlpGDNlFk6IbFAoqvygPL0JJJqic4Hvp/BbSg0+ubm5lQbFjz8uKipC429DAAPZ6x3VsUKBKkgkEri5uaGXhyckbdxYrYlmZWVh8+bN2LFjBzw8PPDjjz/iiy++0NB3oH4PHz7Epk2bcOjQIYwYMQJz585Fx47KfRPVtGlTxMTEKHyu8caNG5i1JxppBs2rdXFeoru0/hyfvKa6WCIs8TlEksqnG+VJnVWzZk3UrFmz3OaAT3348AFfrIpiNc2aLxDi+fPnMDc3V+gduq5snuFyuZixcisWnXgE/rs0iP//P6/k6ElY4vPS6bD09HSsX78eISEhGDNmDK5fv46WLbUv/Zm82PwsS45kbNiwAbGxsZgxYwbu3buHzz77TCV9srKywuPHjxUOfLa2tnhb+wU4MmZeSrLDUOAj6qZzga8kdZasDSbKDhCmpqasD9uLBR9gZWUFIyMjODg4oHv37nBwcEDnzp1lBsOK1k0qChTVQWp2PlaezwDHwKg06JUQSRiIJGLMCL0O+5cROBu2H5MnT8adO3fQpEkTzXRYyWT9LLeOtkHWjX+wceNG5ObmYu7cuTh06JDK81uWVGN3c3NT+B6azg5DiDQ6F/iA/1Jnqbso6DA7c1bTrF/aN0OHLVtw/PhxXLx4ETdu3ECNGjXw9u1bGBsblwbBzp07w8HBoTQYfpxV/1MlgcJnf2K1WTdhkyy5UCDE20ad8O+/y1GvXj019Uz12PwsJ++JRfNbh7Fs2TJ4eHioLduNpaUlHj9+XKV7KJpxiRB10NnfOk0UBWU7zTp3oC1a1HfGtGnTIBaLkZSUhMjISJw9exZxcXF48uQJ8vLyEBkZiUePHoHH46Fz584Q2npCwDQCUPmIsCSrfnWYPmKTLJnD4+MZ3xy1a9eGRCIpHQ1X912bbII+38AIbjP/h8GD1fuztLKywrFjx6p0j6G2TXAgLhWMlORQ2l6miugundvcomlVPceXn5+P6OhoREZGIjIyEmlpaejWrRtatGiB83UHQsQxkNkHrlgAq6RASCQSFBnWwrvPOiOvQQcwPENwxEUweXkLpmmx4H7IhkQiAcMwkEgkcn+s6ONKPm62IBwcjuxRDMNIkL5uKCr7VeVwOOUC4qefU9bHSrvfVxvAMdTOjVCxsbH47rvvEB8fr9DjX758ia+8Z+CZ9UQwvMp/X2lXJ9EUCnwqwPawPRsvXrzAuXPnEBkZiX+ajGQ10uEACOptiNvZEgTeEkHMoMwaGo9TfJZqXpdasG9iDC6XCy6XCw6Hw/pjea6t7GPbVecUTjZQ8mvLMEyZjyv6nLI+Vub9XLffZrURisMBnvipt4rBq1ev0LZtW7x580bux165cgVjxozBpEmT0MvLB7MOJlMyB6J1KPBVI/JkpTn1XQ+tP0yv7KMn1YmmMwxJwzAMateujdTUVNStW5f1YzZv3ow1a9bg999/x6BBgwCUfROYJxDCAGKM6Wal0rV2QmTR+uoM5D9sK1W0xCusCY/XeJVtWapz1faqYvOz1NQaGIfDgaWlJVJSUlhdn5OTg1GjRmH//v24du1aadAD/ltrv73cHYtaPIPr65NYNbQjBT2iURT4qhFWgYLPRd1XSfj7XrbGq2zL0qK+GaZ24IARCsD/9NuSiGFiwFPJ0RNtoO1Bv+Qsnyy3b9+Go6Mj6tevj8uXL+Pzzz+v9NqmTZvi+XPN/b4RUoICXzVSckbRxIAHRlx2mozP5cDEgIegr7tg37YN4BgYs7qnJs9RZWdnY+MPk+HnUgNeXVp8VLWdB/HDi9jQr77OrgF9/LP8dOTHBQOIBNg4or3Ggj6bEd/+/fvh5uaGJUuWYPv27TA2lv47R4GPaAta46uGouJvY9Kafahh3afSzTNs15B44iJ83/wZXFxcYG1trbbyPQzDYOTIkbCwsChNsPyxjRs3IiYmBn/++ada+qMplW2EenAsAI1Mufjtt9800q/t27cjISEBO3fuLPc1gUCAefPmITIyEmFhYbC2tmZ1z5cvX+KLL77A69evld1dQuRCga8aCgkJwcmTJ/HHH39Ueg2bjSM8DtC5diFqP4pAdHQ0Xrx4AWdnZ/To0QMuLi5wdHSU+S5eUXv27MHGjRsRFxdXYRv5+fmwtLREVFQUOnTooJI+aLO3b9/C2toaISEhVcqgoojU7Hz8fOAiLqUVAnyjMmnUOPnZGDlyJJo2bYrff/8dtWvXZn1fiUQCExMTvH//XmW/V4SwQYGvGvruu+/w+eefY/78+ZVeo0iJpKysLFy+fBnR0dGIjo7G/fv30alTJ7i4uMDFxQXOzs5yvdBV5vHjx+jWrRsuXLggdbTg5+eHe/fuISQkpMptVkenTp3Cd999h5s3b6JGjRpqabPkHGqRSFzmCAyfywEXDPIiNmH+2IGYN2+eQkkEPv/8c5w/fx5WVlZK7DUh8qHAVw117doV69evh4uLi9TrqnqYPjc3F7GxsaWBMD4+Hq1bty4NhD169JA7b6ZIJELPnj0xatQofP/991Kvff/+PaysrHDt2jW9faGcNGkSTE1NsW3bNpW3xebNkiEPiJzrqvDaY/fu3bF69Wr07NlTwV4SUnUU+KoZgUCAevXqISsrC2Zmsl98lHmYvqioCAkJCaWB8MqVK6hXr15pIHRxcUGrVq2kjgRWrlyJ6OhonDlzhlXuyZ9//hmZmZkVrjXpg3fv3sHa2hp79+5F7969VdqWOs5Vjho1CsOHD4eXl5ei3SSkyijwVTNxcXGYNm0akpOTNd0VSCQS3LlzpzQQRkdHQywWl64Ruri4wMbGpnTDTGxsLIYOHYqkpCSYm5uzaiM7OxutW7dGcnKywmVyqru///4bPj4+uHnzJmrWrKmydtRxqH7u3Llo2rQpfvjhB4UeT4gy6GySal0VFxeHLl26aLobAIrr6VlbW8Pa2ho+Pj5gGAZPnz4tXScMDAxEZmYmnJyc4OjoiODgYPj7+7MOegBQv359jJkyCxP8TyG7pmW1rj+oqIEDB8LNzQ0LFy5EYGCgytpRRykhOtJAtAGd46tmrl27hq5du2q6GxXicDho2bIlJkyYgKCgINy7dw///vsvpk2bhqNHj6KwsBCTJ09Gjx494Ovri9OnT+P9+/dS7xn1IAsXjJzwlGeOPIEIDP6rWTfAPxpRD7LU881p2MaNG3Hy5EmcP39eZW2YGbF7H1yVUkLNmjWjwEc0jgJfNaNNIz42GjZsCKC4Qv2TJ0/w4sULLFu2DAYGBvj111/RtGlT2NnZ4bvvvsPhw4eRmZlZ+tiSmnWFIgk4vLIvtiIJgwJhcf3B1Ox8ufuVmp2Pn8JvoePyM2jpewodl5/BT+G3FLqXOtSpUwdBQUGYPHkycnNzVdKGOtKoNW3aFM+ePVP48YQoA63xabnU7HzsjE5BeHIG8gUiiIs+YEKPtpjW06paTPNlZGSgU6dOCA8Ph5OTU7mvS9swk9NmEJJzTctVZ/+YIpstqrrbVZMmT54MAwMDbN++Xen3VuQIjLxKKrunpqYq2k1CqowCnxarzi/QQPHml4EDB8LJyQnLly9n/Zi7d+8iOjoa659+BjHXUOZj5NlsoY4Xd1V6//49rK2tERwcjL59+yr9/lEPsjA5+CrA5UPyUcFjZf3OFRYWolatWigsLFRbRXlCPkWBT0tV9xdoANiyZQsOHDiAy5cvg8+Xf12ope8pVjXrGEaCuhFLUbduXal/6tSpg9D7QkT8mwORlMIV2l4K6cyZM5g+fTpu3ryJWrVqKfXe9+/fRy8PT3yzbj9O3HpZ5SMwFWnQoAHu3LmDxo0bK6HHhMiPAp+Wqu616m7fvg03NzfExMSgVatWCt2D7fZ6UwMuQoc1xtu3b/Hu3Tu8ffu20j9ZPX8EWCTw1kQdPHlMmTIFPB4PO3bsUOp9p06dimbNmmHZsmVKve/H7OzsEBwcDHt7e5W1QYg0dJxBS4UnZ7AuK6RtgU8gEGDcuHFYu3atwkEPKN5swSb4e3ZuDnt7dv8HbEeRmqxawcaGDRtgbW2NyMhI9OvXTyn3zMzMRFhYGP7991+l3K8yJUcaKPARTaFJdi2ljjNVqrJkyRJYWVlh0qRJVbqPKmrWqWPLvjrUrl0bO3fuxJQpU5CTk6OUe/r7+2P8+PGoX7++Uu5XGdrZSTSNAp+Wqq4v0OfPn8ehQ4ewc+dOhZIYf0xazToeB2CEAsxxMJNr3YldFXsRXJrJ3lSjae7u7ujfv79SsqDk5ORg586dmDdvnhJ6Jh0dYieaRoFPS6njTJWyvXnzBt7e3ggODlbaqMGtbSNEzHGBVxeLjwrV8jG2awssdeBi9XfjkZ2dzfp+7EaRPBxZPQuLFi1CQUFBVb8FldqwYQPOnDmDs2fPVuk+QUFBcHd3l1pBXVko8BFNo80tWqq67epkGAajR4+Gubk5Nm/erLZ2FyxYgNu3b+PUqVOst8ezOSbSoQ6DOXPmICEhAUFBQWqviSePs2fPYurUqbh586ZCZaOKiopgaWmJEydOoFOnTiroYVl///03Nm3aVOVgTYiiaMSnpaRN80EihgGHQcA4e60IekBxcdy7d+9izZo1am3Xz88PeXl58PPzY/2YykaRXl0sEDHHBW5tG6Fx48Y4dOgQNmzYgK+//hpTp07F27dvVfidKK5///5wd3dXeMrzwIED6NChg1qCHkBpy4jm0YhPy1VUVqhbYw7ObVuM+9cva0Ul6ydPnqBLly44f/48bGxs1N7+8+fP4eDggNDQUPTp00fp98/JyYGvry/Cw8OxZcsWeHp6Kr2NqsrJyYG1tXXplCVbEokE1tbW8Pf3V8mB+Iq8efMGlpaWePfunVraI+RTFPiqqaFDh6Jnz55Sq7Crg0gkQq9eveDp6amWjRGVOXfuHCZMmICEhAS5qj/I4/Lly5g6dSrat2+P3377TaF2Pk1Bp8xKE5GRkZg8eTJu3brFesrz5MmT+Pnnn5GQkFDlzUhsMQwDU1NTvHr1Sm2V5Qn5GE11VlOrV6/G2rVrNT79tmbNGpiYmMispq5qffv2hY+PD0aPHg2hUKiSNnr06IGkpCR07NgRtra2CAoKgkQiJQXMJ6IeZGGAfzQOxaerpNJEv379MHDgQLneDK1btw4LFy5UW9ADiqt40AYXokkU+KqpDh06YOjQoWpfU/tYXFwctm7dij179mhF3sUlS5bAzMwMS5YsUVkbxsbGWLlyJS5cuIDg4GD07t0bDx8+lPm4kkoTBUJxuQP5Va008bFff/0V586dQ0REhMxrY2Ji8OzZM3z11VdValMRFPiIJmn+1YoobMWKFdi1axfS09PV3nZeXh7Gjx+Pbdu2oVmzZmpvvyJcLhehoaH4448/cOzYMZW2ZW1tjStXrmD48OFwdnbG6tWrS0eaFZU8mrLvOopEle/QBQChWIJdl59UqV+1atXCrl27MG3aNJm1DtetW4f58+crlEe1qijwEU2iNb5qbsmSJcjIyMDvv/+u1nanTZuGoqIi7NmzR63tshEbG4shQ4YgNjYWlpaWKm/v6dOnmDFjBjIzM/Ht/7ZhU3xeuaMSbCkrR+iMGTMgFAqxe/fuCr9+//599OzZE0+fPoWpqWmV25PXwoULUa9ePSxatEjtbRNCga+ae//+Pdq0aYNz587B2tpaLW2Gh4dj/vz5SEpKUnp1AGXZsmUL9uzZg6tXr6pl5yvDMNj6+yFsuGsEjoGRwvfhcIAnfh5V7k9ubi6sra2xcmMAHnKbl9tM8+TvXWhjXk+lyagrk5qdj++2HcPdD6YQcwyUusGHEDYo8OkAf39/nD17FqdOnVJ5W5mZmejUqROOHDkCZ2dnlbenqJID9fXq1VNJ0daKFFfUSJNa8kgWZVaF2PzHWWy6ngcDQ6MyfeJzAaFAgC2jbTDUUfEk4oooSR4gEIpUUu+PEDZojU8HzJgxA/fu3cM///yj0nYYhsE333yDadOmaXXQA4p3Du7atQsXLlxAaGioWtosrqhRtXv0ba+cF/3U7HzsuCMBh29Urk8iCcAxMMKiE4+qvJlG3j6VbPD5OOgV90l5G3wIkYUCnw4wMjLCL7/8goULF0KVA/ht27bhzZs3WLp0qcraUKZatWohLCwMc+fOxZ07d1TeHtuKGuqwMzoFQrH0KKyMzTTy0MY+Ef1EgU9HjB49GhKJBH/++adK7n/37l2sWLECoaGhMDAwUEkbqmBtbY1ff/0Vnp6eyM3NVWlbbCtqSHPuXtXO8pWQp56jumhjn4h+osCnI7hcLtauXYvFixejqKhIqfcWCAQYO3YsVq9ejdatWyv13urg7e2NHj16YNq0aSodEbMqeSSDsuoramM9R23sE9FPFPh0SJ8+fdCqVSvs2LFDqfddunQpWrZsicmTJyv1vuq0detW3Lt3D4GBgSprg03JI1mUVV9RG+s5amOfiH6iwKdj1q5di19++UVpVbmjoqKwf/9+pRSW1SQTExP8+eefWL58OeLj41XShrSKGsX/kj7aVGZ9RTajTx4Haq3nWNwn6ddoW41Jopso8OkYW1tb9O/fH7/++muV7/X27VtMnDgRwcHBaNCggRJ6p1mtW7fG9u3bMWrUKLx580YlbVRW8mionTmM+DypjzXgcTGlR0ul9IPN6FMkFCDl9E61VUmY6mIJRix9GlOZ/weEVIbO8emg1NRU2Nvb4/bt22jSpIlC92AYBl5eXmjcuDH8/f2V3EPNmjdvHh4+fIjjx4+rNcdoyRm2wiIhGM5/7arqDNvmP85i8/U88Mud4ytub/3wdjgZtBYnTpxAQEAAhgwZorS2K3Lx4kWMX+AHM/fvUSgUApz/3gjQOT6iThT4dNTMBUtxW9QYb2u3Vqj8TUhICNauXYv4+HiYmJioocfqIxQK4erqii+//BK+vr5qbTs1Ox9Blx7jYMwjSLiGqGFsgOGdmmJKj5ZKzVpSUFAAa2tr/LTGH1eyjRD58B04RiYwM+SXa+/ixYuYMmUKHBwcsGXLFjRs2FBp/SiRn58PGxsb+Pv7w9rJDb19foFR2x74IGQAiQhcLg8MOJTFhagFBT4dFPUgCzNDE1AgKAKH999GAbbvqp8+fQpHR0ecO3cOtra26uiy2j179gyOjo44ePAgXF1d1d5+bm4uevbsCS8vLyxcuFDp91+yZAn+/fdfHD58GCNGjEDv3r0xa9asSq//8OEDli1bhpCQEGzcuBFeXl5KXdP97rvvkJOTg71790IsFsPMzAzH4h7h+79uUxYXonYU+HRManY+BvhHo0BYeSUAEwMeIua4VPiOWiwWw9XVFUOHDsUPP/ygyq5qXGRkJCZOnIiEhASFp4Sr4vnz5+jWrRs2btyIkSNHKu2+t27dQu/evXHz5k3k5OTAxcUFT548gZmZ7BFUfHw8vvnmG3z++ecIDAxUSuWNf/75B+PHj8etW7dQt25dpKSkwG3wSJh6/qLw7ykhVUGbW3RMVbNjrF27FoaGhhqtpq4u/fr1w/Tp0+Hl5QWRSP1nx5o2bYoTJ07g22+/RUxMjFLuKZFIMG3aNPzvf/9DkyZNsGHDBvj4+LAKegDg6OiIhIQEODo6olOnTggKCqrS2ce8vDxMnjwZO3bsQN26dQEADx8+RO1unpTFhWgMjfh0TMflZ5DH4qBwRcmQr1+/Dg8PDyQkJGhNjT1VE4vFGDhwIDp37ozVq1drpA+nT5/G5MmTceXKlSqXUQoICMCBAwdw6dIlZGVloUOHDnj48KFCu3Jv376NyZMnw8zMDDt37oSVlZXc95g1axby8vLKlK/asmULtmRYQMSRnQFImUm7CSlBJ0V1DNvsGHkCETouP1O68eXLjo1wxG82tm7dqjdBDwB4PB7279+Pzp07o3v37vjyyy/V3odBgwZh6dKlGDRoEK5evYp69eopdJ+MjAwsW7YM//zzD7hcLrZs2YJx48YpfBSlY8eOuHr1KjZv3oyuXbti8eLFmDNnDng86ccySkRFReHYsWO4detWmc8/fPgQoprsAjxlcSGqQFOdOoRhGBhy2Q7gGeQJRGBQHAT/uP4Mon4/oqGtqwp7qJ0aNmyIQ4cOYfLkyXjyRDNTaz4+PvDw8MCIESMUTjk3e/ZszJgxA1988QVyc3MRFBRU5SlrHo+H+fPnIzY2FidOnICzszOrhN8fT3HWqVOnzNcePnwIYx67jTOUxYWoAgU+HREbG1tcKuhpHNi9ppS9iOFwIeHy9bYsjLOzMxYtWoRRo0ZBIBBopA/r1q1DvXr1MGXKFLnX1Y4fP46bN29iyZIlAICgoCD069cPLVsq5zB4q1atcP78eUyePBmurq5YuXKl1AD9448/olevXhg0aFC5rz18+BD92tQBB9LX+CiLC1EVCnzVXHp6OsaNGwdPT0/MmDEDEZsXwFBGhhBp9HlDwffffw8LCwuNbezh8XgIDQ3F/fv3sWrVKtaPy83NxaxZs7Bjxw4YGxujqKgImzZtwoIFC5TaPy6Xi2nTpiEpKQlxcXFwcHCoMP3bhQsXcPz4cWzatKnc1woKCvDixQsIb/4NRsaGIsriQlSFAp+WSs3Ox0/ht9Bx+Rm09D2FjsvP4KfwW6Wjsby8PPz888+ws7ODlZUVHjx4gIkTJ6Jlw5qV5otkQyRhEJaQpuxvp1rgcDgIDg7G2bNnceDAAY30wdTUFMePH8fvv//OuoDuTz/9hD59+sDNzQ0AcPDgQbRv3x729vYq6WOzZs1w4sQJLFq0CIMHD8bChQtRUFAA4L8pzqCgoHJTnEDxaM/ExARJ0ZFY5W4BRigoN0PB53JgYsBDwDh7OspAVIJ2dWqhktRWQrGkTP2ykoO9Ixq9wd41C+Hq6orVq1ejefPm5e6Rmp2PXZef4GjSc+QXiWBmyGe12xMAGEaCTvd3Y/HixejSpYvSvq/q4saNG+jbty8uXbqE9u3ba6QPd+7cgZubG/7880/06tWr9POp2fnYGZ2C8OQM5AtEMOZzkHvrPE5umAc7q6aQSCSwsbHBpk2b0K9fP5X3MysrC7Nnz0ZCQgJ2796NQ4cOobCwEMHBweWuFQqFcHNzw4MHD5CSkoIffvgBErP6+KzX2DK/p6rIZEPIxyjwaRk2B9AhLoL/gMYY2ttZrnuzP+rAw4wGj/Drr7+idevWWLx4Mdzc3Kp1dQZ5BQcHY/369YiLi0ONGjU00odz585h3LhxuHTpEtq2bVvpGyIuGBgZ8BEwzh4fHsVj6dKlSEhIUOvP69ixY5gyZQoKCwtx584dWFhYlPl6QUEBRo4cicePH2PgwIH4+uuv4e7ujvv375ee7yNEXSjwaZmfwm/hUHy61ErVfC4HXl0ssGpoR5Xeu6ioCAcOHMCaNWtQp04d+Pr6YvDgwWpN7KxJ33zzDYqKihASEqKxoB8cHAw/Pz/8+XcUxobckZnppG5sIGZ/44UxY8aosZfF64wdu7miTrev8K5Oa3AMTVDj//NuulrWwvcb96GgcUeIOQYw5DIwzEjGeIcmWDRrilr7SQhAgU/rVOUAuiyKpjMTi8UIDw+Hn58fBAIBfH19MXr0aPD5ur3V/MOHD+jWrRu+/fZbTJ8+XWP9WLJkCY6mG6KouaPUNy08DiB+cBGP/vBT+8/mq+9+RqJZZ3B5BmVHoxxAImEAMMBHFSkgEcHEyIjycRKNoMCnZVr6npJRrrQYhwM88fOQ+/6y1g+lvRAxDIOzZ8/Cz88P6enp+PHHHzFx4kQYGxvL3Y/q4uHDh+jevTsiIiLQuXNnjfRBIpGgte8xiLmGMq815Ejw0G9wpV//dI1QGdUQDp6IxKJLueDwjeR+LOXjJJqgH3NW1YiZEbt36ooe7C0plNrP0hQQFpQWSvXqYoGIOS5S331zOBy4u7vj4sWLCAkJwYkTJ2BpaYn169cjNzdXof5ouzZt2iAwMBAjR47E27dvNdIHLpcLCYugBwBCpvKndNSDLAzwj8ah+PQyyQsOxadjgH80oh5kyd233Nxc+O6NBF+BoAfo9/EZojkU+LTMMDtzmccQqnqwt0V9MzhyUuDy8hie+Hng9nJ3rBraUa533d27d8fJkydx+vRpXL9+HZaWlli+fDmys7MV7pe2+uqrrzBkyBBMnDgREon0Q9eqYmrI7qlqaljxGc7U7Hz47E9EgVBcbrpUJGFQIBQrlLxgwYIF4Fk5Q8pWLKlEEgZHk54r+GhCFEOBT8tMdbGEAU/6j0UZB3sTExOVcs7Lzs4Ohw4dwpUrV/Ds2TO0bt0aP/zwAzIyMqp8b22ybt06vHr1CuvXr1druwzDIDQ0FO9vnAOHkR10C4XiCkduilbtkEgkePnyJa5fv46jR49i69atWLhwIby8vNCxY0fs2rULIo7iCROA4vyy+fn6ly2IaA6t8WmhqqzDseXk5IS1a9eiZ8+eVe1uGc+ePcOGDRuwd+9ejBw5EgsXLlQoq782Sk9Ph6OjIw4fPqz0/7eKpKamYubMmXj+/Dn+t3k7Fka9l37M5f9VtG72xbII5BfJfqwBROj27C+kp6cjPT0dz58/h7GxMerUqQMTExPweDwIhULk5OTgxYsXMDY2RuNvQwEDxdd5OaJCZAV8jQ4dOqBHjx7o3r07unfvrpEaiRVRxboo0SwKfFqqogPoyjrYKxKJULt2bWRmZqJWrVpK6nFZr169wpYtWxAYGAh3d3csWrQI1tbWKmlLnSIiIjB58mQkJCTgs88+U0kbYrEYAQEBWLFiBebNm4cFCxbAwMAAUQ+yMGXfdYil7OwEind3OjUU4/PsOFy/fh13794FZ+w2cDgsJngYCYyO/oD379/jzZs3qF+/Pj7//HO0aNECFhYWaNGiBVq0aIE9e/bAzMwMe/fuZXVMplISMUbYNsIvw21x/fp1XLlyBZcvX8bVq1dRt27d0kDYo0cPtGvXTu1HadTxJpSoHwU+PXTnzh0MHz4cDx8+VHlbOTk5CAwMxObNm9GlSxf4+vqiW7duKm9XlZYtW4bo6GhERkayLtHD1t27dzFlyhTweDzs3LkT7dq1K/P1Dssi8IHFyE0iyMeL38ajTp06qFevHgSD/cCw2IBixJUgsI8ZWrRogWbNmsHIqPxjzp49i6lTp+LWrVuoVasWu6QLleBDjNzDvlj380J8/fXXpeclJRIJ7t27VxoIr1y5gnfv3sHZ2bk0EDo4OLDeUazIqE3R4z9E+1Hg00P79u3D33//jYMHD6qtzYKCAvz+++9Yt24drKys4Ovriz59+lTLbDBisRgDBgxAhy49UdNxGKsXU1kvvEVFRVizZg22bt2KlStXYvr06RWObtged2EYCXIPzEeDHqMhamYPCdfg/wtyVP7/zSYxwvv372FjY4OdO3eif//+pZ+vbGTE4wBi5v/P833U8Y9HTHULMjBx4kQ0b94cQUFBMDc3r7DtzMxMXLlypTQY3r17F7a2tmWmRyuqPajoqE2VySSIZlHg00Pff/89mjZtqvTs/WwIhUIcPHgQq1evRs2aNbF48WIMGTKk3Iu8tq+rhF97iDl/3Qafb1RmR2NFL6ayXnjnOJjht8Uz0bJlSwQEBKB58+b48OED0tLSkJqaikePHuHixYtISEiAcOgacI1MZfbPmM8Fh8Mp16Y0bEYvU6dOBYfDQVBQULmvVTY9P7DjZ/j79gup0/ZFRUX45ZdfEBgYiPXr12PChAky3xTl5+fj2rVrpYEwNjYWTZo0KTM9alC3CQZuuazQqE2VySSIZlHg00MuLi5YsWIFevfurbE+SCQSHDt2DL/88gsKCgrg6+uLMWPGgM/na/26ijxTYABkXssIC9Hm8V+oxS1CamoqUlNTkZOTg3r16kEikeDdu3cwNzdH9+7dIbLzRPwbQ4ilPGsZsQhcLhcMmzU9sP9/PXPmDKZNm1Y6xakKSUlJ8Pb2hoWFBXbs2FHp6K8iYrEYt27dKjM9KrEfCX67XoCUnacla6LORs+QkZGBjIwMZGZm4p7tt8WZImRQNJkE0RwKfHpGIpGgdu3aSEtL04rkwAzD4Ny5c/Dz88PTp08xde5ihLxuhgJh5VvvNb2uwmoKjAO4NjdAbl4u4t4YgpFycojDSNDR+B1GtBAhJSUFcXFxiImJQffu3eHp6YkhQ4agUaPigJSanY9+G6NQJJH2giwBB5DaZokaRuw2Tb1//x7W1tbYvXu3yqs+FBUV4X//+x+2b9+ODRs2YPz48QpPiXf4+W98kPK7VIIrLoJ77lk0adIE5ubmMDc3x/wYoEAk++WRRnzVDwU+PfPgwQMMHDgQKSkpmu5KOVevXsWsPdHIrtMOHF7lmWmUua4iEolQUFCAwsJC1n9vetYMQkb2phaOqBBcLpdVqjGuSIDXO7zRt29feHp6wsPDo8J6dk+fPoWT5xSY9J0FhssrE9z4XA74XKBQIAB4stuU5wW7ZMPNjh07WF2vDImJifD29sbnn3+OHTt2KHS8oSopAGmNT3fpdpZhUk5CQoLGck7K4uzsjKKzueDIWFcRSRj8ce0Jav8bIXfQKvm75GOGYWBiYgITExMYGxuX+7uizwlrW0jbI/IfA2Ow3eHP8A2RmZkJM7PKR11FRUUYM2YMvvMcgg1Bi/D1L3sQ+e/7cutmruv/YfVin1/Erj5jREQEzp07h5s3b7L7ZpTE3t4e169fx6pVq2Bra4uNGzdi3Lhxco3+zIzY1aGsKAXgVBdLhCU+h0hS+TQ1VYmvnijw6RllZWxRlXyWxXKLJJzSA9SmpqaoV6+e1GBV2d8GBgZy95HtpgdjLlAkFELMld2GmZGB1KAHAL6+vmjUqBFq164NN4eO2DSu4mMhVXmx/9T79+8xbdo0BAcHq2xdTxpDQ0OsWrUKw4YNg7e3N/7880/s2LGD9RnKYXbmrEZtFaUAbFHfDAHj7GWuN2vDZisiHwp8eiYxMRE//vijprtRKbYv2jxGiM6dO8Pd3R316tVTah9k7Si1rV2Ey5kSqdOxjFgEwaMY1KxVG+8bdAC40qduZeVePX78OP766y8kJibCxcUFAQEBlV5blRf7T82bNw8eHh7o27evzGtVqXPnzuVGf2PHjpU5+qvqqK0kqbuqkkkQzaA1Pj3CMAzq1q2Lf//9Fw0bNtR0dyrEduOIjVkuhLH7cfHiRdjY2MDDwwMeHh6wtrau0tlAaTtK+TwOOr6LxfWo0zAauhwCKee1GaEAvLNr4e7eHxeMukm9VtZmndTUVHTp0gXh4eEoKCjA7NmzcevWrUq/T2UdvP7777/h4+ODmzdvombNmpV/A2p2/fp1eHt7o3Xr1ggMDJQ5+tP2XcJE/ShJtR5JSUlBrVq1tDboASyTdPN52DRjME6cOIGsrCz89NNPyMjIwLBhw2BhYYHp06fj+PHjyMvLY91uanY+5hxKxKQ98ZVWMCgUSpBoYo+TJ05g+3gHGHAZMGJh2RtJROBBjGV9zPH4RiwCf12F7RMcYWLAK1d1g8/lwMSAJ3W6TCgUYsyYMfjhhx/g5OSE3377Dd9++63U4F4yRVdRmxxGIrNNAHj37h2mTZuG3bt3a1XQAwAHBwckJCSgffv2sLW1xcGDByHt/XvJqM2riwVqGPHlKsVFdBON+PTI4cOHcfDgQRw9elTTXZFK0XfoDMPgwYMHOHXqFE6fPo24uDg4OzvDw8MDgwYNQqtWraS2VygUy9wUwucArbhZuPX7T3gn4sOkkwdqdOwD8I3AlQgxrnvrCqfAFM29unDhQty5cwcnTpzAs2fPYGdnh7S0NNSoUUNGT8u3aWrAAzftOsxz7iNs73ap9/jmm29gbGwsdUpVG8THx8Pb2xtt27ZFYGAgGjdurOkukWqAAp8eWbRoEczMzLB06VJNd0UmZSTpzsnJQWRkJE6fPo3Tp0+jVq1apVOiLi4uMDQ0VCjPJMMwxefkhAVwbVkDK716IuPhTcyZMwdxcXEKfsflnTp1CjNnzkRiYiIaNGiAJUuWIC8vD/7+/grfs6ioCDNnzkRCQgJOnDgBiWm9cuuZ9vVEiN65ArdiLrAKsJomEAiwYsUKBAcHY/PmzRg9enS1TIVH1IcCnx7p378/5syZAw8P/csyIZFIkJSUhNOnT+PUqVO4f/8+evfuDY7jGNzIM4NIwfqyJaPQdUNaY1zvTnj//r1SXnRLSiCFhYWhe/fuKCwsRIsWLXDp0iW0bdu2SvdmGAYbNmzA5j8iYeY+G2KGU2ZkzYhFMDLgY8fXjtVqGjAuLg7e3t5o3749AgICaPRHKkWBT08wDIMGDRrgzp07KiunU51kZWUhIiICK+7UZHXAXBYTAx7eHvgBiZfOypVmqyJCoRCurq4YMmRI6Q7ckJAQhIaG4syZM1XuK8AuA4ymM+QoorCwEMuXL8eePXvg7++PUaNG0eiPlEObW/REWloajIyMKOj9v0aNGuHrr7+GRAlBDyiuXt6gx2jcv3+/yvdaunQpateuXSaJeMmmFmXZGZ0CiYynf0UV2bWdsbEx1qxZg2PHjmH58uUYOXIksrLKV6Qn+o0Cn55ISEjQ6oPrmmJmpJyjrCIJg8LG1lUOfH///Tf279+PvXv3llasiI+Px8uXL5U6RR2enCGzaoNIwuBo0nOltalOXbt2RVJSEqysrGBjY4PDhw9ruktEi1Dg0xOJiYlam6pMk4bZmZfb8q8oEZdfpcD37NkzTJo0CQcOHChz5GTbtm3w8fFRatFbthly2KY100bGxsZYu3YtwsPDsWzZMowcORKvXr3SdLeIFqDApye0PVWZpkx1sVRa4DPmcRQOfCKRCF5eXpg9ezZcXFxKP//q1SscO3YMkydPVkofS7Ad6bJJa6btunXrhsTERLRs2RLW1tb4888/Nd0lomEU+PQAwzBanZxak1rUN0PL5+fBY8SVHjB3a9tQZnDkczlwb1tX4cD3888/w9TUFIsWLSrz+d27d2PYsGGoX7++QvetDJuRLtu0ZtWBiYkJ1q1bh6NHj2Lp0qUYPXo0jf70GAU+PZCRkQGGYdC0qW68iCnTX3/9hZQrJ3BqVvdKM3ssH/yF7GwyPC7muFvj9evXcmWMAYoLvO7btw8hISFlKtGLxWIEBgZi1qxZCn1v0rDKkKODlQecnJyQlJQECwsL2NjYICwsTNNdIhpAxxn0wIkTJ7Bt2zZERERouitaJSsrCzY2Njh69CicnJykXss2m4ytrS2Cg4NZj66fP38OBwcHHDp0CL169SrztWPHjmHNmjWIiYmR/5tj4b+MNcJydf30IYdlTEwMvL290alTJ/z2229o0KCBprtE1IRGfHqApjnLYxgGM2bMwMSJE2UGPYB9vsd27dqxnu4UiUQYO3Ysvv3223JBDyg+wqCK0V6Jku/J4Ok1mPChdzksnZyckJycjGbNmsHGxgZHjhzRdJeImtCITw8MGTIEEydOhKenp6a7ojX2798PPz8/JCQkwNjYWGn3XbZsGSQSCVatWiXz2qVLlyI2NhYRERHldmzeu3cPbm5uSE1NhZGRkdL696m0tDTY29vj5cuXSt01Wt1cuXIFkyZNQufOnbF161Ya/ek4GvHpATrDV1ZGRgbmzp2Lffv2KTXoAexHfJGRkQgODkZoaGiFAScgIABTpkxRadADivOBDhw4UK+DHgB0794dycnJaNKkSen0N9FdFPh03IsXL1BQUIDPP/9c013RCgzDYOrUqZg5c6ZKpn/ZBL7MzExMnDgRoaGhFeaTzM3Nxf79+zF9+nSl9+9TJ0+exJdffqnydqoDU1NTbNy4EYcPH8bChQsxduxYZGdna7pbRAUo8Om4pKQk2NvbU77C//f7778jIyMDS5YsUcn927Rpg0ePHkEsrrjag1gsxtixYzF9+nS4ublVeE1ISAh69+6N5s2bq6SPJfLz83Hp0iW4u7urtJ3qpkePHrhx4wYaN24Ma2trhIeHl34tNTsfP4XfQsflZ9DS9xQ6Lj+Dn8JvITU7X3MdJnKjwKfjaGPLf9LS0vDjjz9i3759MDRUTo7OT5mZmaFx48Z4+vRphV9fuXIluFwufvrppwq/zjCMyje1lLhw4QIcHBxQp04dlbdV3ZiammLTpk34448/sGDBAowbNw7H4x9hgH80DsWnI08gAgMgTyDCofh0DPCPRtQDyglaXVDg03GUsaUYwzCYPHky5s6dC2tra5W2Vdl05/nz57Fz507s37+/0jW1qKgocLncCnd5KhtNc8rm4uKCGzduwLSRBb774yYKhOJyOU5FEgYFQjF89ifSyK+aoMCn4yjwFdu+fTtycnKwcOFClbdVUeB78eIFJkyYgJCQEKkVMrZt24Zvv/1W5VPTDMNQ4GPJ1NQUjXuNBd9Q+kaj6ljNQl9R4NNh2dnZePv2LaysrDTdFY1KSUnB0qVLsWfPHvD5qs89+WngE4vFGDduHKZOnYo+ffpU+ri0tDRERUVhwoQJKu9jcnIyzMzMqlzUVl+EJ2dALOPgV3WuZqFvqn8GWlKpxMREdOrUqUwaLH0jkUgwadIk+Pr6on379ipvLzU7H3GSloiq0wgtfU/BzIiPZqIMCAxq4ueff5b62B07dmDChAmoUaOGyvtJoz35sK5mwfI6oln6+4qoB+j8HrBlyxaIxWJ8//33Km8r6kEWBvhH49JzERi+Uenmh3tF9fDacTouPap8a7xAIMCuXbvg4+Oj8n4CxWnsKPCxx7aahVjwAX379sXGjRtx//59UH4Q7USZW3TYqFGjMHToUIwbN07TXdGIBw8eoHv37oiNjUWrVq1U2lZqdj4G+EejQFjxMQYAMDHgIWKOC1rUNyv3tdDQUOzbtw9nz55VZTcBFK83tmvXDllZWSrb3aprfgq/hUPx6VKL9/I5wFf25mgtSceemDSkcT8Dx8AYfIjgbG6AxSO6oV0z5VbZIIqhEZ8O0+eNLWKxGN7e3li+fLnKgx4A7IxOgVAskXqNtM0P6jrCAACnT59G//79KejJgU01C2GRADWF77D+tiEyTS3BMTQBOByIOAa49FwM983/wGX0DPz2229ISUlRU89JRSjw6ah3797h5cuXaNOmjaa7ohHr16+HiYmJ2qYOw5MzpI4GgMo3P8THx+PFixfw8PBQVffKoPU9+bWob4aAcfYwMeBVWrdxQgcjBCW8rfDIA7g8cAyM8aLVl7h84wGcnZ3Rrl07zJs3D+fOnYNAIJDZBzo8rzw01alDUrPzsTM6BeHJGcgTiMARCTCue2tMdbGscHpNV92+fRtubm6Ij49XW6q2lr6nwOaJxOEAT/zKBjhvb2906NBBLUctBAIBGjVqhEePHqFhw4Yqb0/XpGbnY9flJzia9Bz5RSKYGfIxvFNTTOnREjujU3AwLk3q7k8+lwOvLhZYMbgDkpOTcfr0aZw+fRp37tyBm5sbBg0ahIEDB5bL2sO2LBZhhwKfjqAnRjGhUIhu3bphxowZmDp1qtra7bj8DPJY7OirYcTH7eX/pQh7/fo1WrdujUePHim9ynpFzp49i+XLl+Pq1asqb0vfKPo7ABT/Hpw9exanT59GREQEzM3NMWjQIAwaNAjmbW0xeFuMwuvHpDya6tQBqdn58NmfSFklAKxevRqNGjXClClT1NruMDvzclNgn+JzORjeqWmZz+3evRvDhg1TS9ADaJpTlVgfeSgqf12DBg0wduxYhIaG4uXLlwgKCoKhoSHmzZsHlynLUFBUJPWedHhePhT4dEBVN1boiqSkJPz222/YuXOn2pNyT3WxlBn4DHhcTOnRsvTfYrEYAQEBatvUQtlaVIvtkQczQ+nX8Xg8dOvWDStXrsT169dRt5M7wJFeNooOz8uHAp8OqMrGCl0hEAgwceJEbNiwAc2aNVN7+y3qm6Ht62jwGFGlmx8CxtmXmYo6efIkzM3N1ZZE/N69exCJRCrPVaqvFB31y1IglP6mtkRFI0lSMcrcokEfb0bJF4hgZsTHMDtz1ptRXr9+jcuXLyOvkF+8a0IGXX5irFy5EpaWlhg/frxG2r948SIST4Yg4vIcHEp+VeHmh09/puo8wgAUB9rBgwdTiSoVmepiibDE5xBJKl+L+3TUz4aZEZ/V2qFEUAAfHx+MGDECvXr1goGBgVzt6BPa3KIhimxGSU1NRXR0dOmf58+fw8nJCY87+UAIFhW0hQWY2fAxxo8fj6ZN5XvXqc3i4uIwZMiQ0hpq6iYQCGBnZwc/Pz8MHz6c1WPu378PV1dXpKamqrzKeomePXvC19cXAwcOVEt7+kgVm8xYHZ7ncjCwTS00e3EFR44cwaNHjzB48GCMGDEC/fr1g4mJicLfky6iwKcBbLN8bBnYGI+SYxEdHY3Lly9DIBDAxcWl9I+NjQ34fD7rJ4ZrcwNwEg4jLCwMXbp0gbe3N4YOHVqtnxQFBQWwt7fHihUrMGrUKI30YdWqVbh+/TrCw8NZj6Zmz56NWrVq4X//+5+Ke1csOzsbLVu2RFZWFoyNjdXSpr6SduRBkV2XimQFSk9PR3h4OI4cOYLExES4u7tj+PDh8PDwQK1atSptpyozUNUJBT4NYBOoGLEI3CdX4VojCy4uLujRowdat25d4QurvE+MDx8+IDw8HHv37kV8fDxGjhwJb29vdOvWTaunwSp6Yjb68BQ1n8fh2P7dGunTw4cP4ezsjMTERFhYWLB6TG5uLlq0aIEbN26ovMp6if379+Pw4cM4duyYWtojylWVkeSrV69w/PhxHD16FJcuXYKLiwtGjBiBIUOGlJ7lVGgGqhoHSgp8GlCV8z6VqewXFxIRTIyMKn1iPHv2DCEhIdi7dy8kEgm8vb0xYcIEtb0gs1XZ98eIRTAxMkTg+M5qP6fIMAz69u2LL7/8EnPnzmX9uICAAFy4cAF//fWXCntXlpeXF3r37q3Ws41EuZQxkszJycHp06dx5MgRnDlzBvb29ug9ZBT2v2mBQlHloeDTEWV1PzdMgU8DqpLlQ5qKnhjCh5fx82gXjBvaX+pjGYbBtWvXsHfvXhw+fBj29vbw9vbG8OHDYWpqWmFb6nq3V9UE0KoSEhKCTZs2IS4ujnWdP4Zh8MUXXyAgIACurq6q7eD/EwqFaNy4MW7duqVTa7ukagoKChAZGYk1557gufHn4PAq/x0uyTizamhHrX0+yoOOM2iAss77fKpFfTOsGtoRt5e744mfB24vd8e8Xs1wZN8OmY/lcDjo1q0bAgMD8fz5c0yZMgX79+9H06ZNMWXKFERHR5eWWCkpv3MoPh15AlFp+Z1D8ekY4B+NqAdZcvVbFm08p5idnY0FCxYgKChIruK2//zzD7hcLnr16qXC3pV19epVtGzZkoIeKcPExARDhgxBTr12UoMeUHwc6q/raXj9+rVWPh/lRSM+DWC7GaXkHVZVlKwn3b59G+bm5nI/PiMjA6Ghodi7dy8EAgGGT5iKEyJruaZFZCksLMTbt2/x7t07vHv3rvTjkr9/z+0IEUd2cJFnariqJk+ejBo1asDf31+ux3l6eqJv376YOXOminpW3oIFC2BqaooVK1aorU1SfbCdgQIjQU7QRNSYtANcw/KzQJ9S5/NRXhT4NEDdUwUzZ86Eubk5li5dqvA9GIbB9evX8cOheDzlNZX6DpHHAbo2EKF3rVdSA1rJxwzDoG7duqhTp07p3x9/fIBxBiB70w3DSGB9ewdsbW1hZ2cHW1tbWFlZgcdjcdRDDhcvXsT48eNx586dSnfIVSQtLQ12dnZIS0tTS5X1Eu3bt8e+ffvg6OiotjZJ9SHvngNVLdWoEwU+DVHn4vCNGzcwePBgpKSkyDUtVxG2TxKuuAhu2SfLBLDKgpuxsbHU3aRs2zQ14OKXToW4ceNG6Z+srCx07NixNBDa2trC2toaNWvWlOv7LqHImb0SS5YsQV5entyjxKp49OgRevTogYyMDHC5tLJBypN3BkoVm/PUjTK3aIhb20aImOOi1PM+lbG1tUXTpk1x+vRpDBkypEr3YpuIl+EbYvdu5RwxGGZnzuqJ6dm5OYYP7VgmIL1//x43b97EjRs3kJCQgODgYNy9exfm5ualgbBkhNi8eXOZxznWrVuHNm3aYNiwYXJ9DwKBALt27cKlS5fkelxVnTp1Ch4eHhT0SKXkzTjD9vkob2o2daIRn57Yu3cv/vjjD5w+fbpK99HEuz1lTw2LRCL8+++/SE5OLh0ZJicnQyAQwMbGpszosEOHDqUHvuU5s/fprldDLgPjFzdxfN0cte5069evH7799lu5AzXRL/LMQOnCrk4KfHqioKAAzZs3R3x8PFq2lC9X4MfUuTHnY+qYGs7KyioTCG/cuIFHjx6hVatWsLW1RWxsLPr27YsVK1ZITY1WWV+5YGBkwFfbGaecnBw0bdoUmZmZal1TJNWTPOcE6RwfqTbmzZsHY2Nj+Pn5KXwPTb7bU3YqKDYEAgHu3r2LgIAAHDt2DB06dMDNmzdhZGRUZprU1tYWbdq0wfP3Aq15N/zXX39h165diIiIUGk7RD9p4vmoLBT49MiDBw/Qq1cvpKWlwdDQUOH7VPd3e/LKzs7GF198gZMnT8LBwQEMwyA9Pb3c6DAjIwPNhv+AomYOYDiVr6mpYkRcEW9vbzg4OKi1AgQh1QEFPj3Tu3dvzJgxo8oJnavzuz15sT2zl5eXB8e1F1HAYv+Pqne8icViNGnSBNeuXavS1DYhuogCn545fPgwtm/fjgsXLmi6K9WCvGf22B8GZuDFuQJnZ2c4OTmhQYMGVe7rx2JjYzFlyhTcvn1bqfclRBdQ4NMzRUVFsLCwwD///IN27dppujtaTZEze2x3vRrzgDH8eFy9ehXXrl1D48aN4eTkBGdnZzg7O6NDhw5yH7z/eCdpnkAIPiPGmG6W1SJbPiHqRIFPDy1evBgFBQXYtGmTprui1RSpszcnJAbHbmcBXHYJf4Hiacm7d+8iJiYGV69exdWrV/Hy5Ut07dq1NBh27doVderUqfSe+rbuSkhVUODTQ0+fPoWDgwPS09OrdRFaVSo5s5eUlMS6RFNUVBTGTp8DM89fIJKS/92AI8G5+b2ljsJevXqF2NjY0mCYkJCAFi1alAZCJycntG3bFhwORyfOVRGiThT49JSHhwdGjRqFiRMnarorWqekzt7gwYPx/fffs7p+69at8PPzw/79+8FtZl3p6IvHBXJPb8Se1QvRv7/0UlEfEwqFuHnzZmkgjImJQU5ODrp16waJ/Ug8FDeEWMozWV07SQmpDijw6akTJ07Az88PMTExmu6K1gkJCcHmzZtx7do1mblNCwsLMWPGDCQlJSE8PLx0B6W0Xa9pdxPh6emJqKgofPHFFwr3MzMzEzExMVgYx9O66hWEaDMKfHpKLBajZcuWOH78OOzs7DTdHa1Rcmbv1KlT6Ny5s9Rr09PTMWLECFhaWiI4OBhmZuynEUNDQ7F06VLExsZKzQLDhi5kyydEnShzrZ7i8XiYOnUqduyQXaRWnyxcuBBjxoyRGfQuX76Mrl274quvvsKhQ4fkCnoAMH78eHz99dcYOnQoCgoKqtJllRU2JkRX0YhPj2VkZKBjx45ITU1VuEyPLik5s3f37t1K/z8YhsH27duxfPly7N27FwMGDFC4PYZhMG7cOIhEIhw6dEjhCgqayp9KSHVFIz49Zm5uDjc3Nxw4cEDTXdE4gUCAGTNmYOvWrZUGPYFAgGnTpmHbtm24cuVKlYIeAHA4HAQHB+P58+f4+eefFb7PVBdLMGLpZwc/LitDiL6jwKfnZsyYgcDAQOj7wH/t2rVo27ZtpeV7MjIy4Orqijdv3iAmJgatWrVSSrvGxsYIDw/HwYMHsXfvXoXucSsmCqJ/AmHM54LPLXvekM/lwMSAh4Bx9nSUgZD/R1Odek4ikaBNmzYIDQ1Ft27dNN0djZB1Zi8mJgYjR47EjBkzsHjxYpUUdb137x5cXV3xxx9/oKW1Y5lafmZGfAyzM68wA8uzZ8/g4OCAsLAwNGtnpzf5UwmpCgp8BOvXr8ft27exZ88eTXdF7RiGQZ8+fTBkyJAKz+zt2rULixcvxu7duzF48GCV9uX8+fMYv3A1ag2aB7EEMjOwiEQiuLm5YdCgQfD19VVp3wjRJRT4CF6/fo3WrVvj8ePHqFevnqa7o1b79u2Dv79/uTN7RUVFmDt3Ls6fP49jx46hbdu2Ku9LanY++m64ACFT+Yjy4wwsS5cuxbVr1xAREaGSUSghuor2NxM0aNAAHh4e2LdvH6tMJbri9evXWLhwIU6dOlUm6L18+RIjR45EnTp1cO3aNdSuXVst/dkZnQKGwwOkvBcViiXYdfkJXGu8RHBwMBITEynoESInesYQAMWbXLZv365Xm1wqOrMXHx8PR0dHuLm5ITw8XG1BDwDCkzOkHkkAiqc/jySm4+uvv8bevXurfPidEH1EIz4CAOjevTu4tRphcuBZxGVB5qaK6u6ff/5BZGQk7t69W/q5ffv2Yf78+QgKCmJdhkiZ8lmUMyq+ToxJkyahb9++Ku4RIbqJ1vgIgOKyNlP3XisecXD+qwOni2VtBAIBbG1tsWbNGgwbNgxCoRALFizAqVOnEB4eXqX8mVXBtpYfRyTAv6uHyMwjSgipGE11EqRm58NnfyJEDLdM0AOKp9YKhGL47E9Eana+hnqoXGvXrkW7du0wbNgwvHr1Cu7u7njw4AHi4uI0FvQAYJideblzeJ9ixKLi6yjoEaIwCnwEO6NTIBRLpF5Tsqmiunv48CG2bNmCrVu3IikpCY6OjujatStOnjyJunXrarRvU10sYcCT/pQ0MuDh+wHWauoRIbqJpjoJ6ym26lbWJjU7v9xBcG5aPEZ0qIu2Teth9uzZ2LZtG0aNGqXprpaqrJI6GDF4AHZN6qYzU86EaAoFPsK6rA0YCVrErEfdunVZ/zE0NFR19ytUaQCRiMDjcCC5FIRj2/1gY2Ojkf5J82ktPwNIwEmNx8n1c9G6iWZHpYToAgp8hPWIz5TPwbbeJnj79i2rP+/evYOhoaFcgfLjP0ZGRgp9P6nZ+RjgH40CobjSa4z5XJz5vqfW71ZNTEzEgAEDEBMTAysrK013hxCdQCvkBMPszHEwLg1iKW+B+FwOPB0s4ObGvqwNwzDIy8uTGhgfPHhQ6df5fH6ZQFinTh1WATPwapbMNUuRhMGuy0+0ukxPbm4uRo8eja1bt1LQI0SJaMRHcO1uCkb/ngzwKx9hfZwqSx0YhsGHDx9Yjy5LAunbt29h4LUFXCNTmW1o85olwzAYP348zMzMEBQUpOnuEKJTKPDpkYo2ewxsXx+nNsyD65DRiCqyKrcmVh3P8bFfs2QwBpdhZ2eHTp06oVWrVuDxeLIfpwbBwcHYuHEj4uLiYGoqO4gTQtijwKcnKt/sIQaPA+zy7grLhjV0oqwN2zVLYx6D8cbJSEpKQnJyMrKysmBtbV0aCO3s7GBtbQ1jY2M19Po/d+7cgaurKy5evIgOHTqotW1C9AEFPj3AZrOHuqcyVemn8Fs4FJ8uNe8ln8uBVxeLMmt879+/x40bN0oDYVJSEh4+fAhLS8vSQFjytzKqWFQ0Av+yYyMcXzcHP8zwxjfffFPlNggh5VHg0wOKBoLqSpmBXiAQ4O7du6WBMDk5GTdu3ECdOnXKBMJOnTrBwsICHI70zCslKhuBcxgJOIwEuyd1g1s7SkBNiCpQ4NMDunpAXZrKAosy1iwlEgmePHlSZmSYnJyMgoIC2NnZlQmI7dq1g4GBQZnH69sInBBtQ4FPD7Dd7MHhAE/8PFTeH3UpOQh+4OojSLh8mBkZqHTNMisrq0wgTEpKQlpaGjp06FBmZHjsuTHCkl/ozQicEG1DgU8P6OOI72MjR47EqFGjMHLkSLW3nZ+fj5s3b5YJiC96LKj2xy0Iqc7oALseGGZnzmqNb3inpmrslfrk5uaiZs2aGmnbzMwMTk5OcHJyKv0c2xF4fhG7+nyEEPlQdQY9wCbrvwGPiyk9WqqpR+qVm5uLGjVqaLobpcyM2L3fNDOk96WEqAIFPj3Qor4ZAsbZw8SAV67eG5/LgYkBDwHj7HV2I4UmR3wVYVN3T5dH4IRoGgU+PeHWthEi5rjAq4sFahjxweEUryF5dbFAxByXapOVRRHaFvj0fQROiKbR5hai8xo0aIB79+6hYcOGmu5KKVUetyCESEeBj+g8IyMjvH//Xu2px2T5tO5edU0RR0h1Q4GP6LSioiKYmZmhqKiIdVYVQohuozU+otNK1vco6BFCSlDgIzpN2za2EEI0j6Y6iU4qqXwQlpCOAqEENYwNMMzOHFNdLGn9jBA9R4GP6BzaMUkIkYYCH9EpVPmAECILrfERnbIzOgVCsUTqNUKxBLsuP1FTjwgh2oYCH9Ep4ckZUpNxA4BIwuBo0nM19YgQom0o8BGdks+i/BJAlQ8I0WcU+IhOocoHhBBZKPARnUKVDwghslDgIzqFKh8QQmShwEd0ir7XHiSEyEbn+IhOosoHhJDKUOAjhBCiV2iqkxBCiF6hwEcIIUSvUOAjhBCiVyjwEUII0SsU+AghhOgVCnyEEEL0CgU+QggheoUCHyGEEL1CgY8QQoheocBHCCFEr1DgI4QQolco8BFCCNErFPgIIYToFQp8hBBC9AoFPkIIIXqFAh8hhBC9QoGPEEKIXqHARwghRK9Q4COEEKJXKPARQgjRKxT4CCGE6BUKfIQQQvQKBT5CCCF6hQIfIYQQvUKBjxBCiF6hwEcIIUSvUOAjhBCiVyjwEUII0SsU+AghhOgVCnyEEEL0CgU+QggheoUCHyGEEL1CgY8QQoheocBHCCFEr/wfR7UaoGo6AboAAAAASUVORK5CYII=\n",
          "text/plain": "<Figure size 432x288 with 1 Axes>"
         },
         "metadata": {},
         "output_type": "display_data"
        }
       ]
      }
     },
     "167ec43830ac47fb81379b55b2aabb9a": {
      "model_module": "@jupyter-widgets/controls",
      "model_module_version": "1.5.0",
      "model_name": "DescriptionStyleModel",
      "state": {
       "description_width": ""
      }
     },
     "1f2dd4c2598a4509868fb233692e361a": {
      "model_module": "@jupyter-widgets/controls",
      "model_module_version": "1.5.0",
      "model_name": "HTMLModel",
      "state": {
       "layout": "IPY_MODEL_7d39da4df24e4199a589b211e02283d2",
       "style": "IPY_MODEL_e38bb12467fd47aebfa83b41da13e667",
       "value": "100%"
      }
     },
     "283de85f33a04d53b2fcc79d1ab3ab89": {
      "model_module": "@jupyter-widgets/controls",
      "model_module_version": "1.5.0",
      "model_name": "HTMLModel",
      "state": {
       "layout": "IPY_MODEL_d1bed7287c9e418e8a9b575675c9a6eb",
       "style": "IPY_MODEL_90656605704c40b1a5dc7a359196e7d3",
       "value": " 11531/11531 [00:00&lt;00:00, 46852.23it/s]"
      }
     },
     "3286a5378caf408f8df856bf3b2c60b8": {
      "model_module": "@jupyter-widgets/base",
      "model_module_version": "1.2.0",
      "model_name": "LayoutModel",
      "state": {}
     },
     "347a00ae4a114ab08c01122c72054552": {
      "model_module": "@jupyter-widgets/controls",
      "model_module_version": "1.5.0",
      "model_name": "FloatProgressModel",
      "state": {
       "bar_style": "success",
       "layout": "IPY_MODEL_6ead940f3fd142c38406792a86b38c4d",
       "max": 11531,
       "style": "IPY_MODEL_0a507e1aff6b40caad151b11adba79af",
       "value": 11531
      }
     },
     "3781699ae6ae472fbb9f049b548bfe1f": {
      "model_module": "@jupyter-widgets/base",
      "model_module_version": "1.2.0",
      "model_name": "LayoutModel",
      "state": {}
     },
     "387a65daf58b410ab15a9c61e501a7ac": {
      "model_module": "@jupyter-widgets/base",
      "model_module_version": "1.2.0",
      "model_name": "LayoutModel",
      "state": {}
     },
     "3a281209f11d4be587de0d2d4e8a52d8": {
      "model_module": "@jupyter-widgets/controls",
      "model_module_version": "1.5.0",
      "model_name": "TabModel",
      "state": {
       "_titles": {
        "0": "status",
        "1": "plot",
        "2": "log"
       },
       "children": [
        "IPY_MODEL_e9b9764a3e1048f09eefeac6fdd6ce56",
        "IPY_MODEL_89ca9a3a679d4abb9083a0071216f8bf",
        "IPY_MODEL_851f16fdfef34a548d7022d3acf16b8e"
       ],
       "layout": "IPY_MODEL_62458aed68da465b85e8cf2ad8125d18"
      }
     },
     "433baf8446ff4044a69bef7c23547785": {
      "model_module": "@jupyter-widgets/controls",
      "model_module_version": "1.5.0",
      "model_name": "FloatProgressModel",
      "state": {
       "bar_style": "success",
       "layout": "IPY_MODEL_572d98f6e6d94b368986087c7efe7b74",
       "max": 1000,
       "style": "IPY_MODEL_d8ad07b276cf4dc28facfa6c22929b23",
       "value": 1000
      }
     },
     "44a93720f0934a2a8b737d1c53bba830": {
      "model_module": "@jupyter-widgets/base",
      "model_module_version": "1.2.0",
      "model_name": "LayoutModel",
      "state": {}
     },
     "4675b6498b7940c7ae8a9beaafe743d8": {
      "model_module": "@jupyter-widgets/controls",
      "model_module_version": "1.5.0",
      "model_name": "HTMLModel",
      "state": {
       "layout": "IPY_MODEL_10f3b2506dcc4c63a74132b85ca01a85",
       "style": "IPY_MODEL_ee6fb76b30d346bab2a256af94e3b3e6",
       "value": "100%"
      }
     },
     "528fb88a41b640719108f0b39f32615e": {
      "model_module": "@jupyter-widgets/controls",
      "model_module_version": "1.5.0",
      "model_name": "HTMLModel",
      "state": {
       "layout": "IPY_MODEL_44a93720f0934a2a8b737d1c53bba830",
       "style": "IPY_MODEL_afb00dab017a4bd790425cfd3566f6a9",
       "value": " 1000/1000 [00:46&lt;00:00, 21.87it/s]"
      }
     },
     "53898fdc377d4c9695aaa01609a6c539": {
      "model_module": "@jupyter-widgets/base",
      "model_module_version": "1.2.0",
      "model_name": "LayoutModel",
      "state": {}
     },
     "56435e0a750d45319b6857f51384fea1": {
      "model_module": "@jupyter-widgets/controls",
      "model_module_version": "1.5.0",
      "model_name": "ProgressStyleModel",
      "state": {
       "description_width": ""
      }
     },
     "572d98f6e6d94b368986087c7efe7b74": {
      "model_module": "@jupyter-widgets/base",
      "model_module_version": "1.2.0",
      "model_name": "LayoutModel",
      "state": {}
     },
     "6107183d21a44b40856eb4fdb5922216": {
      "model_module": "@jupyter-widgets/base",
      "model_module_version": "1.2.0",
      "model_name": "LayoutModel",
      "state": {}
     },
     "62458aed68da465b85e8cf2ad8125d18": {
      "model_module": "@jupyter-widgets/base",
      "model_module_version": "1.2.0",
      "model_name": "LayoutModel",
      "state": {}
     },
     "63a9f3befcd54b79bd423fe5c7cc6657": {
      "model_module": "@jupyter-widgets/controls",
      "model_module_version": "1.5.0",
      "model_name": "HTMLModel",
      "state": {
       "layout": "IPY_MODEL_ce7faa1811ff4cd3aec6f10219e99e74",
       "style": "IPY_MODEL_167ec43830ac47fb81379b55b2aabb9a",
       "value": "[epoch 666/None]:  32%"
      }
     },
     "680c877e5476439d832dbf6e2779af2f": {
      "model_module": "@jupyter-widgets/controls",
      "model_module_version": "1.5.0",
      "model_name": "HBoxModel",
      "state": {
       "children": [
        "IPY_MODEL_63a9f3befcd54b79bd423fe5c7cc6657",
        "IPY_MODEL_844fbdc6568c431487a04e70f41641cd",
        "IPY_MODEL_f60ac36b69e74ac1a1b32d0d4f42ebbc"
       ],
       "layout": "IPY_MODEL_eb5eab23576d4964b9aa718bbc3dd695"
      }
     },
     "6963ef984d474dbc95ddccb46dbec80c": {
      "model_module": "@jupyter-widgets/base",
      "model_module_version": "1.2.0",
      "model_name": "LayoutModel",
      "state": {
       "height": "500px",
       "overflow_y": "auto"
      }
     },
     "6db207003a25454f985ba1413120b55f": {
      "model_module": "@jupyter-widgets/controls",
      "model_module_version": "1.5.0",
      "model_name": "HBoxModel",
      "state": {
       "children": [
        "IPY_MODEL_1f2dd4c2598a4509868fb233692e361a",
        "IPY_MODEL_9180a2712ae34ee9949831588e1d17a5",
        "IPY_MODEL_528fb88a41b640719108f0b39f32615e"
       ],
       "layout": "IPY_MODEL_6107183d21a44b40856eb4fdb5922216"
      }
     },
     "6ead940f3fd142c38406792a86b38c4d": {
      "model_module": "@jupyter-widgets/base",
      "model_module_version": "1.2.0",
      "model_name": "LayoutModel",
      "state": {}
     },
     "7d39da4df24e4199a589b211e02283d2": {
      "model_module": "@jupyter-widgets/base",
      "model_module_version": "1.2.0",
      "model_name": "LayoutModel",
      "state": {}
     },
     "844fbdc6568c431487a04e70f41641cd": {
      "model_module": "@jupyter-widgets/controls",
      "model_module_version": "1.5.0",
      "model_name": "FloatProgressModel",
      "state": {
       "layout": "IPY_MODEL_eee6b73a13cd438588078bbfa2522efe",
       "max": 834,
       "style": "IPY_MODEL_9d4f7e08701d44699f5ca1a188516d22",
       "value": 263
      }
     },
     "851f16fdfef34a548d7022d3acf16b8e": {
      "model_module": "@jupyter-widgets/controls",
      "model_module_version": "1.5.0",
      "model_name": "HBoxModel",
      "state": {
       "children": [
        "IPY_MODEL_fb352a41ce464bb7bcfec2203f1522bc"
       ],
       "layout": "IPY_MODEL_feaed8d641474162aa2a9d4e900002b9"
      }
     },
     "89ca9a3a679d4abb9083a0071216f8bf": {
      "model_module": "@jupyter-widgets/controls",
      "model_module_version": "1.5.0",
      "model_name": "HBoxModel",
      "state": {
       "children": [
        "IPY_MODEL_1386d54815e34b9fa42a86ab9ed30b5b"
       ],
       "layout": "IPY_MODEL_6963ef984d474dbc95ddccb46dbec80c"
      }
     },
     "8b8d3159dfaa4066b0bdfe25414292d7": {
      "model_module": "@jupyter-widgets/base",
      "model_module_version": "1.2.0",
      "model_name": "LayoutModel",
      "state": {}
     },
     "90656605704c40b1a5dc7a359196e7d3": {
      "model_module": "@jupyter-widgets/controls",
      "model_module_version": "1.5.0",
      "model_name": "DescriptionStyleModel",
      "state": {
       "description_width": ""
      }
     },
     "9180a2712ae34ee9949831588e1d17a5": {
      "model_module": "@jupyter-widgets/controls",
      "model_module_version": "1.5.0",
      "model_name": "FloatProgressModel",
      "state": {
       "bar_style": "success",
       "layout": "IPY_MODEL_387a65daf58b410ab15a9c61e501a7ac",
       "max": 1000,
       "style": "IPY_MODEL_56435e0a750d45319b6857f51384fea1",
       "value": 1000
      }
     },
     "946107ea4f8149948458fd767fb82173": {
      "model_module": "@jupyter-widgets/base",
      "model_module_version": "1.2.0",
      "model_name": "LayoutModel",
      "state": {}
     },
     "94ef4f1c504f4fdd9e7618d7dc99b4a1": {
      "model_module": "@jupyter-widgets/controls",
      "model_module_version": "1.5.0",
      "model_name": "HBoxModel",
      "state": {
       "children": [
        "IPY_MODEL_4675b6498b7940c7ae8a9beaafe743d8",
        "IPY_MODEL_433baf8446ff4044a69bef7c23547785",
        "IPY_MODEL_99292d1fc27d4df594511277c446c440"
       ],
       "layout": "IPY_MODEL_a3c62c22596e47c2b330b218bc90362f"
      }
     },
     "99292d1fc27d4df594511277c446c440": {
      "model_module": "@jupyter-widgets/controls",
      "model_module_version": "1.5.0",
      "model_name": "HTMLModel",
      "state": {
       "layout": "IPY_MODEL_8b8d3159dfaa4066b0bdfe25414292d7",
       "style": "IPY_MODEL_a2441ec5bb804f6caf4e23f41e625fd8",
       "value": " 1000/1000 [00:46&lt;00:00, 21.25it/s]"
      }
     },
     "9d4f7e08701d44699f5ca1a188516d22": {
      "model_module": "@jupyter-widgets/controls",
      "model_module_version": "1.5.0",
      "model_name": "ProgressStyleModel",
      "state": {
       "description_width": ""
      }
     },
     "a2441ec5bb804f6caf4e23f41e625fd8": {
      "model_module": "@jupyter-widgets/controls",
      "model_module_version": "1.5.0",
      "model_name": "DescriptionStyleModel",
      "state": {
       "description_width": ""
      }
     },
     "a3c62c22596e47c2b330b218bc90362f": {
      "model_module": "@jupyter-widgets/base",
      "model_module_version": "1.2.0",
      "model_name": "LayoutModel",
      "state": {}
     },
     "adde18b1b91440e0baa8b42e39cfe372": {
      "model_module": "@jupyter-widgets/base",
      "model_module_version": "1.2.0",
      "model_name": "LayoutModel",
      "state": {}
     },
     "afb00dab017a4bd790425cfd3566f6a9": {
      "model_module": "@jupyter-widgets/controls",
      "model_module_version": "1.5.0",
      "model_name": "DescriptionStyleModel",
      "state": {
       "description_width": ""
      }
     },
     "c2a5563da5354c97a4c6160a6f63870a": {
      "model_module": "@jupyter-widgets/output",
      "model_module_version": "1.0.0",
      "model_name": "OutputModel",
      "state": {
       "layout": "IPY_MODEL_c9120bdf398942a588279c26a2c623d2",
       "outputs": [
        {
         "data": {
          "text/html": "<div>\n<style scoped>\n    .dataframe tbody tr th:only-of-type {\n        vertical-align: middle;\n    }\n\n    .dataframe tbody tr th {\n        vertical-align: top;\n    }\n\n    .dataframe thead th {\n        text-align: right;\n    }\n</style>\n<table border=\"1\" class=\"dataframe\">\n  <thead>\n    <tr style=\"text-align: right;\">\n      <th></th>\n      <th>val_stress</th>\n      <th>val_stress_spc</th>\n      <th>val_xing</th>\n      <th>val_xing_spc</th>\n      <th>dis_loss</th>\n      <th>gen_loss</th>\n      <th>stress</th>\n      <th>critic</th>\n    </tr>\n  </thead>\n  <tbody>\n    <tr>\n      <th>epoch 666</th>\n      <td>384.48</td>\n      <td>4.39%</td>\n      <td>31.49</td>\n      <td>20.96%</td>\n      <td>3.60e-03</td>\n      <td>2.52e+01</td>\n      <td>-4.27e+02</td>\n      <td>1.03e+01</td>\n    </tr>\n  </tbody>\n</table>\n</div>",
          "text/plain": "          val_stress val_stress_spc val_xing val_xing_spc  dis_loss  gen_loss  \\\nepoch 666     384.48          4.39%    31.49       20.96%  3.60e-03  2.52e+01   \n\n              stress    critic  \nepoch 666  -4.27e+02  1.03e+01  "
         },
         "metadata": {},
         "output_type": "display_data"
        }
       ]
      }
     },
     "c9120bdf398942a588279c26a2c623d2": {
      "model_module": "@jupyter-widgets/base",
      "model_module_version": "1.2.0",
      "model_name": "LayoutModel",
      "state": {}
     },
     "cb720cc6c22649ad814d631af884cfa1": {
      "model_module": "@jupyter-widgets/base",
      "model_module_version": "1.2.0",
      "model_name": "LayoutModel",
      "state": {}
     },
     "ce7faa1811ff4cd3aec6f10219e99e74": {
      "model_module": "@jupyter-widgets/base",
      "model_module_version": "1.2.0",
      "model_name": "LayoutModel",
      "state": {}
     },
     "d1bed7287c9e418e8a9b575675c9a6eb": {
      "model_module": "@jupyter-widgets/base",
      "model_module_version": "1.2.0",
      "model_name": "LayoutModel",
      "state": {}
     },
     "d8ad07b276cf4dc28facfa6c22929b23": {
      "model_module": "@jupyter-widgets/controls",
      "model_module_version": "1.5.0",
      "model_name": "ProgressStyleModel",
      "state": {
       "description_width": ""
      }
     },
     "e38bb12467fd47aebfa83b41da13e667": {
      "model_module": "@jupyter-widgets/controls",
      "model_module_version": "1.5.0",
      "model_name": "DescriptionStyleModel",
      "state": {
       "description_width": ""
      }
     },
     "e9b9764a3e1048f09eefeac6fdd6ce56": {
      "model_module": "@jupyter-widgets/controls",
      "model_module_version": "1.5.0",
      "model_name": "VBoxModel",
      "state": {
       "children": [
        "IPY_MODEL_1212a57a349849b191bcee0c286a3b6d",
        "IPY_MODEL_c2a5563da5354c97a4c6160a6f63870a"
       ],
       "layout": "IPY_MODEL_946107ea4f8149948458fd767fb82173"
      }
     },
     "eb5eab23576d4964b9aa718bbc3dd695": {
      "model_module": "@jupyter-widgets/base",
      "model_module_version": "1.2.0",
      "model_name": "LayoutModel",
      "state": {}
     },
     "ee6fb76b30d346bab2a256af94e3b3e6": {
      "model_module": "@jupyter-widgets/controls",
      "model_module_version": "1.5.0",
      "model_name": "DescriptionStyleModel",
      "state": {
       "description_width": ""
      }
     },
     "eee6b73a13cd438588078bbfa2522efe": {
      "model_module": "@jupyter-widgets/base",
      "model_module_version": "1.2.0",
      "model_name": "LayoutModel",
      "state": {}
     },
     "f3ffdf1198d640baa6eb7531728086a7": {
      "model_module": "@jupyter-widgets/controls",
      "model_module_version": "1.5.0",
      "model_name": "DescriptionStyleModel",
      "state": {
       "description_width": ""
      }
     },
     "f60ac36b69e74ac1a1b32d0d4f42ebbc": {
      "model_module": "@jupyter-widgets/controls",
      "model_module_version": "1.5.0",
      "model_name": "HTMLModel",
      "state": {
       "layout": "IPY_MODEL_cb720cc6c22649ad814d631af884cfa1",
       "style": "IPY_MODEL_024403f33a2a4632aafa363a489660cc",
       "value": " 263/834 [00:44&lt;01:36,  5.90it/s]"
      }
     },
     "f8faf6a664ff4445a28efc673a6610cb": {
      "model_module": "@jupyter-widgets/controls",
      "model_module_version": "1.5.0",
      "model_name": "HTMLModel",
      "state": {
       "layout": "IPY_MODEL_107be40423b448fc87571c2c05ae5039",
       "style": "IPY_MODEL_f3ffdf1198d640baa6eb7531728086a7",
       "value": "100%"
      }
     },
     "fb352a41ce464bb7bcfec2203f1522bc": {
      "model_module": "@jupyter-widgets/output",
      "model_module_version": "1.0.0",
      "model_name": "OutputModel",
      "state": {
       "layout": "IPY_MODEL_3286a5378caf408f8df856bf3b2c60b8",
       "outputs": [
        {
         "name": "stdout",
         "output_type": "stream",
         "text": "[664] stress=384.78(5.08%) xing=31.41(20.01%)\n[665] stress=383.66(4.20%) xing=31.59(20.77%)\n[666] stress=384.48(4.39%) xing=31.49(20.96%)\n"
        }
       ]
      }
     },
     "feaed8d641474162aa2a9d4e900002b9": {
      "model_module": "@jupyter-widgets/base",
      "model_module_version": "1.2.0",
      "model_name": "LayoutModel",
      "state": {
       "height": "500px",
       "overflow_y": "auto"
      }
     }
    },
    "version_major": 2,
    "version_minor": 0
   }
  }
 },
 "nbformat": 4,
 "nbformat_minor": 4
}
