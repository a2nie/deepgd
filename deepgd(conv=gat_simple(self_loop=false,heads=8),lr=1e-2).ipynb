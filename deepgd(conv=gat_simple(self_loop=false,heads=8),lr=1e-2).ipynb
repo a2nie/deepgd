{
 "cells": [
  {
   "cell_type": "markdown",
   "metadata": {
    "id": "wZtYFEhHoBGp"
   },
   "source": [
    "# Import libraries"
   ]
  },
  {
   "cell_type": "code",
   "execution_count": 1,
   "metadata": {
    "id": "KJPfzpxLQI5O"
   },
   "outputs": [],
   "source": [
    "%load_ext autoreload\n",
    "%autoreload 2\n",
    "from deepgd import *"
   ]
  },
  {
   "cell_type": "markdown",
   "metadata": {
    "id": "z4eBEyB1oaJe"
   },
   "source": [
    "# Config"
   ]
  },
  {
   "cell_type": "code",
   "execution_count": 2,
   "metadata": {
    "id": "Q_-MLFhpNvxF"
   },
   "outputs": [],
   "source": [
    "cuda_idx = 0\n",
    "canonicalization = IdentityTransformation()\n",
    "config = StaticConfig({\n",
    "    \"name\": 'deepgd(conv=gat_simple(self_loop=false,heads=8),lr=1e-2)',\n",
    "    \"uid\": None,\n",
    "    \"link\": None,\n",
    "    \"generator\": {\n",
    "        \"params\": {\n",
    "            \"num_blocks\": 9,\n",
    "            \"normalize\": canonicalization\n",
    "        },\n",
    "        \"pretrained\": {\n",
    "            \"name\": None,\n",
    "            \"epoch\": -1,\n",
    "        },\n",
    "        \"optim\": torch.optim.AdamW,\n",
    "        \"lr\" : {\n",
    "            \"initial\": 1e-2,\n",
    "            \"decay\": 0.99,\n",
    "        },\n",
    "    },\n",
    "    \"discriminator\": {\n",
    "        \"params\": {\n",
    "            \"conv\": [2, 16, 16, 16],\n",
    "            \"dense\": [2],\n",
    "            \"shared_depth\": 10,\n",
    "            \"enet_depth\": 6,\n",
    "            \"enet_width\": 64,\n",
    "            \"aggr\": \"add\",\n",
    "            \"normalize\": canonicalization\n",
    "        },\n",
    "        \"pretrained\": {\n",
    "            \"name\": None,\n",
    "            \"epoch\": -1,\n",
    "        },\n",
    "        \"optim\": torch.optim.AdamW,\n",
    "        \"lr\" : {\n",
    "            \"initial\": 1e-3,\n",
    "            \"decay\": 0.99,\n",
    "        },\n",
    "        \"noise\": {\n",
    "            \"std\": 0,\n",
    "            \"decay\": 0.95,\n",
    "        },\n",
    "        \"repeat\": 1,\n",
    "        \"complete\": True,\n",
    "        \"adaptive\": True\n",
    "    },\n",
    "    \"alternate\": \"epoch\",\n",
    "    \"batchsize\": 64,\n",
    "    \"epoch\": {\n",
    "        \"start\": -1,\n",
    "        \"end\": None,\n",
    "    },\n",
    "    \"log_interval\": 1,\n",
    "    \"test\": {\n",
    "        \"name\": \"test\",\n",
    "        \"epoch\": -1,\n",
    "    },\n",
    "    \"gan_flavor\": \"dgdv2\",\n",
    "    \"gp_weight\": 0,\n",
    "})\n",
    "data_config = StaticConfig({\n",
    "    \"sparse\": False,\n",
    "    \"pivot\": None,\n",
    "    \"init\": \"pmds\",\n",
    "    \"edge\": {\n",
    "        \"index\": \"full_edge_index\",\n",
    "        \"attr\": \"full_edge_attr\",\n",
    "    },\n",
    "})\n",
    "loss_fns = {\n",
    "    Stress(): 1\n",
    "}\n",
    "ctrler_params = {\n",
    "    \"tau\": 0.95,\n",
    "    \"beta\": 1,\n",
    "    \"exploit_rate\": 0.5,\n",
    "    \"warmup\": 2,\n",
    "}\n",
    "paths = StaticConfig({\n",
    "    \"root\": \"artifacts\",\n",
    "    \"checkpoints\": lambda: f\"{paths.root}/checkpoints/{config.name}\",\n",
    "    \"gen_pretrain\": lambda: f\"{paths.root}/checkpoints/{config.generator.pretrained.name}\",\n",
    "    \"dis_pretrain\": lambda: f\"{paths.root}/checkpoints/{config.discriminator.pretrained.name}\",\n",
    "    \"tensorboard\": lambda: f\"{paths.root}/tensorboards/{config.name}\",\n",
    "    \"visualization\": lambda: f\"{paths.root}/visualizations/{config.name}_{config.test.name}\",\n",
    "    \"log\": lambda: f\"{paths.root}/logs/{config.name}.log\",\n",
    "    \"metrics\": lambda suffix: f\"{paths.root}/metrics/{config.name}_{suffix}.pickle\",\n",
    "})"
   ]
  },
  {
   "cell_type": "code",
   "execution_count": 3,
   "metadata": {
    "id": "mdMEAbH10Qaq"
   },
   "outputs": [],
   "source": [
    "if \" \" in config.name:\n",
    "    raise Exception(\"Space is not allowed in model name.\")"
   ]
  },
  {
   "cell_type": "markdown",
   "metadata": {
    "id": "WynW4ZAdBhep"
   },
   "source": [
    "# Prepare"
   ]
  },
  {
   "cell_type": "markdown",
   "metadata": {
    "id": "DR6-vYtr_i_P"
   },
   "source": [
    "## Get log command"
   ]
  },
  {
   "cell_type": "code",
   "execution_count": 4,
   "metadata": {
    "colab": {
     "base_uri": "https://localhost:8080/"
    },
    "id": "9-QpinlslcTO",
    "outputId": "b71f2ad3-e3f3-4ee1-e8ac-58e6e414abfc"
   },
   "outputs": [
    {
     "name": "stdout",
     "output_type": "stream",
     "text": [
      "cd /users/PAS0027/osu10203/deepgd && tail -n1000 -f 'artifacts/logs/deepgd(conv=gat_simple(self_loop=false,heads=8),lr=1e-2).log'\n"
     ]
    }
   ],
   "source": [
    "print(f\"cd {os.getcwd()} && tail -n1000 -f '{paths.log()}'\")"
   ]
  },
  {
   "cell_type": "code",
   "execution_count": 5,
   "metadata": {},
   "outputs": [
    {
     "name": "stdout",
     "output_type": "stream",
     "text": [
      "tensorboard dev upload --logdir 'artifacts/tensorboards/deepgd(conv=gat_simple(self_loop=false,heads=8),lr=1e-2)'\n"
     ]
    }
   ],
   "source": [
    "print(f\"tensorboard dev upload --logdir '{paths.tensorboard()}'\")"
   ]
  },
  {
   "cell_type": "markdown",
   "metadata": {
    "id": "innqkwvH_ydD"
   },
   "source": [
    "## Set globals"
   ]
  },
  {
   "cell_type": "code",
   "execution_count": 6,
   "metadata": {
    "id": "Qjq7JlSZlkQR"
   },
   "outputs": [],
   "source": [
    "if cuda_idx is not None and torch.cuda.is_available():\n",
    "    device = f'cuda:{cuda_idx}'\n",
    "    pynvml.nvmlInit()\n",
    "    cuda = pynvml.nvmlDeviceGetHandleByIndex(cuda_idx)\n",
    "else:\n",
    "    device = 'cpu'\n",
    "    cuda =  None\n",
    "np.set_printoptions(precision=2)\n",
    "warnings.filterwarnings(\"ignore\", category=RuntimeWarning)"
   ]
  },
  {
   "cell_type": "markdown",
   "metadata": {
    "id": "0da286l_ApEL"
   },
   "source": [
    "## Load data"
   ]
  },
  {
   "cell_type": "code",
   "execution_count": 7,
   "metadata": {
    "colab": {
     "base_uri": "https://localhost:8080/"
    },
    "id": "RFuSHiZJMU4x",
    "outputId": "3befa34f-6262-47a9-825d-7dcb2d6596d3"
   },
   "outputs": [
    {
     "name": "stdout",
     "output_type": "stream",
     "text": [
      "Load from 'cache/G_list.pickle'\n",
      "Load from 'cache/generate_data_list(list,sparse=False,pivot_mode=None,init_mode=pmds,edge_index=full_edge_index,edge_attr=full_edge_attr,pmds_list=ndarray,gviz_list=ndarray,noisy_layout=True,device=cpu).pickle'\n"
     ]
    },
    {
     "name": "stderr",
     "output_type": "stream",
     "text": [
      "/users/PAS0027/osu10203/.conda/envs/deepgd/lib/python3.9/site-packages/torch_geometric/deprecation.py:13: UserWarning: 'data.DataLoader' is deprecated, use 'loader.DataLoader' instead\n",
      "  warnings.warn(out)\n"
     ]
    }
   ],
   "source": [
    "G_list = load_G_list(data_path='data/rome', index_file='data_index.txt', cache='G_list', cache_prefix='cache/')\n",
    "data_list = generate_data_list(G_list, \n",
    "                               sparse=data_config.sparse, \n",
    "                               pivot_mode=data_config.pivot,\n",
    "                               init_mode=data_config.init,\n",
    "                               edge_index=data_config.edge.index,\n",
    "                               edge_attr=data_config.edge.attr,\n",
    "                               pmds_list=np.load('layouts/rome/pmds.npy', allow_pickle=True),\n",
    "                               gviz_list=np.load('layouts/rome/gviz.npy', allow_pickle=True),\n",
    "                               noisy_layout=True,\n",
    "                               device='cpu', \n",
    "                               cache=True,\n",
    "                               cache_prefix='cache/')\n",
    "train_loader = LazyDeviceMappingDataLoader(data_list[:10000], batch_size=config.batchsize, shuffle=True, device=device)\n",
    "val_loader = LazyDeviceMappingDataLoader(data_list[11000:], batch_size=config.batchsize, shuffle=False, device=device)"
   ]
  },
  {
   "cell_type": "markdown",
   "metadata": {
    "id": "f-ODE2k8BFV6"
   },
   "source": [
    "## Create folders"
   ]
  },
  {
   "cell_type": "code",
   "execution_count": 8,
   "metadata": {
    "id": "3ykUMINYBRog"
   },
   "outputs": [],
   "source": [
    "mkdirs(paths.checkpoints(), paths.tensorboard(), paths.visualization(), f\"{paths.root}/logs\", f\"{paths.root}/metrics\")"
   ]
  },
  {
   "cell_type": "markdown",
   "metadata": {
    "id": "BFq9k5nzBIh5"
   },
   "source": [
    "## Load checkpoints"
   ]
  },
  {
   "cell_type": "code",
   "execution_count": 9,
   "metadata": {},
   "outputs": [],
   "source": [
    "class GATConvWithEFeat(gnn.GATConv):\n",
    "    def __init__(self,\n",
    "                 in_channels,\n",
    "                 out_channels, \n",
    "                 efeat_dim,\n",
    "                 heads: int = 8,\n",
    "                 concat: bool = False,\n",
    "                 negative_slope: float = 0.2,\n",
    "                 dropout: float = 0.0,\n",
    "                 add_self_loops: bool = False,\n",
    "                 bias: bool = True,\n",
    "                 **kwargs):\n",
    "        super().__init__(in_channels=in_channels,\n",
    "                         out_channels=out_channels, \n",
    "                         heads=heads,\n",
    "                         concat=concat,\n",
    "                         negative_slope=negative_slope,\n",
    "                         dropout=dropout,\n",
    "                         add_self_loops=add_self_loops,\n",
    "                         bias=bias, **kwargs)\n",
    "        self.att_efeat = nn.Parameter(torch.Tensor(1, heads, efeat_dim))\n",
    "        gnn.inits.glorot(self.att_efeat)\n",
    "\n",
    "    def forward(self, x, edge_index, e, size=None, return_attention_weights=None):\n",
    "        H, C = self.heads, self.out_channels\n",
    "\n",
    "        # We first transform the input node features. If a tuple is passed, we\n",
    "        # transform source and target node features via separate weights:\n",
    "        if isinstance(x, torch.Tensor):\n",
    "            assert x.dim() == 2, \"Static graphs not supported in 'GATConv'\"\n",
    "            x_src = x_dst = self.lin_src(x).view(-1, H, C)\n",
    "        else:  # Tuple of source and target node features:\n",
    "            x_src, x_dst = x\n",
    "            assert x_src.dim() == 2, \"Static graphs not supported in 'GATConv'\"\n",
    "            x_src = self.lin_src(x_src).view(-1, H, C)\n",
    "            if x_dst is not None:\n",
    "                x_dst = self.lin_dst(x_dst).view(-1, H, C)\n",
    "\n",
    "        x = (x_src, x_dst)\n",
    "\n",
    "        # Next, we compute node-level attention coefficients, both for source\n",
    "        # and target nodes (if present):\n",
    "        alpha_src = (x_src * self.att_src).sum(dim=-1)\n",
    "        alpha_dst = None if x_dst is None else (x_dst * self.att_dst).sum(-1)\n",
    "        alpha = (alpha_src, alpha_dst)\n",
    "\n",
    "        if self.add_self_loops:\n",
    "            if isinstance(edge_index, torch.Tensor):\n",
    "                # We only want to add self-loops for nodes that appear both as\n",
    "                # source and target nodes:\n",
    "                num_nodes = x_src.size(0)\n",
    "                if x_dst is not None:\n",
    "                    num_nodes = min(num_nodes, x_dst.size(0))\n",
    "                num_nodes = min(size) if size is not None else num_nodes\n",
    "                edge_index, _ = pyg.utils.remove_self_loops(edge_index)\n",
    "                edge_index, _ = pyg.utils.add_self_loops(edge_index, num_nodes=num_nodes)\n",
    "            elif isinstance(edge_index, torch_sparse.SparseTensor):\n",
    "                edge_index = set_diag(edge_index)\n",
    "\n",
    "        # propagate_type: (x: OptPairTensor, alpha: OptPairTensor)\n",
    "        out = self.propagate(edge_index, x=x, e=e, alpha=alpha, size=size)\n",
    "\n",
    "        alpha = self._alpha\n",
    "        assert alpha is not None\n",
    "        self._alpha = None\n",
    "\n",
    "        if self.concat:\n",
    "            out = out.view(-1, self.heads * self.out_channels)\n",
    "        else:\n",
    "            out = out.mean(dim=1)\n",
    "\n",
    "        if self.bias is not None:\n",
    "            out += self.bias\n",
    "\n",
    "        if isinstance(return_attention_weights, bool):\n",
    "            if isinstance(edge_index, torch.Tensor):\n",
    "                return out, (edge_index, alpha)\n",
    "            elif isinstance(edge_index, torch_sparse.SparseTensor):\n",
    "                return out, edge_index.set_value(alpha, layout='coo')\n",
    "        else:\n",
    "            return out\n",
    "\n",
    "\n",
    "    def message(self, x_j, e, alpha_j, alpha_i, index, ptr, size_i):\n",
    "        # Given egel-level attention coefficients for source and target nodes,\n",
    "        # we simply need to sum them up to \"emulate\" concatenation:\n",
    "        alpha = alpha_j if alpha_i is None else alpha_j + alpha_i\n",
    "#         print(e.shape, self.att_efeat.shape)\n",
    "        alpha += (e[:, None, :].repeat(1, self.heads, 1) * self.att_efeat).sum(dim=-1)\n",
    "\n",
    "        alpha = F.leaky_relu(alpha, self.negative_slope)\n",
    "        alpha = pyg.utils.softmax(alpha, index, ptr, size_i)\n",
    "        self._alpha = alpha  # Save for later use.\n",
    "        alpha = F.dropout(alpha, p=self.dropout, training=self.training)\n",
    "        return x_j * alpha.unsqueeze(-1)"
   ]
  },
  {
   "cell_type": "code",
   "execution_count": 10,
   "metadata": {
    "tags": []
   },
   "outputs": [],
   "source": [
    "class GNNLayer(nn.Module):\n",
    "    def __init__(self,\n",
    "                 nfeat_dims,\n",
    "                 efeat_dim,\n",
    "                 aggr,\n",
    "                 edge_net=None, \n",
    "                 dense=False,\n",
    "                 bn=True, \n",
    "                 act=True, \n",
    "                 dp=None,\n",
    "                 root_weight=True,\n",
    "                 skip=True):\n",
    "        super().__init__()\n",
    "        try:\n",
    "            in_dim = nfeat_dims[0]\n",
    "            out_dim = nfeat_dims[1]\n",
    "        except:\n",
    "            in_dim = nfeat_dims\n",
    "            out_dim = nfeat_dims\n",
    "        self.conv = GATConvWithEFeat(in_dim, out_dim, efeat_dim, aggr=aggr)\n",
    "        self.dense = nn.Linear(out_dim, out_dim) if dense else nn.Identity()\n",
    "        self.bn = gnn.BatchNorm(out_dim) if bn else nn.Identity()\n",
    "        self.act = nn.LeakyReLU() if act else nn.Identity()\n",
    "        self.dp = dp and nn.Dropout(dp) or nn.Identity()\n",
    "        self.skip = skip\n",
    "        self.proj = nn.Linear(in_dim, out_dim, bias=False) if in_dim != out_dim else nn.Identity()\n",
    "        \n",
    "    def forward(self, v, e, data):\n",
    "        v_ = v\n",
    "        v = self.conv(v, data.edge_index, e)\n",
    "        v = self.dense(v)\n",
    "        v = self.bn(v)\n",
    "        v = self.act(v)\n",
    "        v = self.dp(v)\n",
    "        return v + self.proj(v_) if self.skip else v"
   ]
  },
  {
   "cell_type": "code",
   "execution_count": 11,
   "metadata": {
    "jupyter": {
     "source_hidden": true
    },
    "tags": []
   },
   "outputs": [],
   "source": [
    "class GNNBlock(nn.Module):\n",
    "    def __init__(self, \n",
    "                 feat_dims, \n",
    "                 efeat_hid_dims=[], \n",
    "                 efeat_hid_act=nn.LeakyReLU,\n",
    "                 efeat_out_act=nn.Tanh,\n",
    "                 bn=False,\n",
    "                 act=True,\n",
    "                 dp=None,\n",
    "                 aggr='mean',\n",
    "                 root_weight=True,\n",
    "                 static_efeats=1,\n",
    "                 dynamic_efeats='skip',\n",
    "                 rich_efeats=False,\n",
    "                 euclidian=False,\n",
    "                 direction=False,\n",
    "                 n_weights=0,\n",
    "                 residual=False):\n",
    "        '''\n",
    "        dynamic_efeats: {\n",
    "            skip: block input to each layer, \n",
    "            first: block input to first layer, \n",
    "            prev: previous layer output to next layer, \n",
    "            orig: original node feature to each layer\n",
    "        }\n",
    "        '''\n",
    "        super().__init__()\n",
    "        self.static_efeats = static_efeats\n",
    "        self.dynamic_efeats = dynamic_efeats\n",
    "        self.rich_efeats = rich_efeats\n",
    "        self.euclidian = euclidian\n",
    "        self.direction = direction\n",
    "        self.n_weights = n_weights\n",
    "        self.residual = residual\n",
    "        self.gnn = nn.ModuleList()\n",
    "        self.n_layers = len(feat_dims) - 1\n",
    "\n",
    "        for idx, (in_feat, out_feat) in enumerate(zip(feat_dims[:-1], feat_dims[1:])):\n",
    "            direction_dim = (feat_dims[idx] if self.dynamic_efeats == 'prev'\n",
    "                             else 2 if self.dynamic_efeats == 'orig'\n",
    "                             else feat_dims[0])\n",
    "            in_efeat_dim = self.static_efeats\n",
    "            if self.dynamic_efeats != 'first': \n",
    "                in_efeat_dim += self.euclidian + self.direction * direction_dim + self.n_weights + 3 * self.rich_efeats\n",
    "            edge_net = nn.Sequential(*chain.from_iterable(\n",
    "                [nn.Linear(idim, odim),\n",
    "                 nn.BatchNorm1d(odim),\n",
    "                 act()]\n",
    "                for idim, odim, act in zip([in_efeat_dim] + efeat_hid_dims,\n",
    "                                           efeat_hid_dims + [in_feat * out_feat],\n",
    "                                           [efeat_hid_act] * len(efeat_hid_dims) + [efeat_out_act])\n",
    "            ))\n",
    "            self.gnn.append(GNNLayer(nfeat_dims=(in_feat, out_feat), \n",
    "                                     efeat_dim=in_efeat_dim, \n",
    "                                     edge_net=edge_net,\n",
    "                                     bn=bn, \n",
    "                                     act=act, \n",
    "                                     dp=dp,\n",
    "                                     aggr=aggr,\n",
    "                                     root_weight=root_weight,\n",
    "                                     skip=False))\n",
    "        \n",
    "    def _get_edge_feat(self, pos, data, rich_efeats=False, euclidian=False, direction=False, weights=None):\n",
    "        e = data.edge_attr[:, :self.static_efeats]\n",
    "        if euclidian or direction:\n",
    "            start_pos, end_pos = get_edges(pos, data)\n",
    "            v, u = l2_normalize(end_pos - start_pos, return_norm=True)\n",
    "            if euclidian:\n",
    "                e = torch.cat([e, u], dim=1)\n",
    "            if direction:\n",
    "                e = torch.cat([e, v], dim=1)\n",
    "            if rich_efeats:\n",
    "                d = e[:, :1]\n",
    "                d2 = d ** 2\n",
    "#                 d_inv = 1 / d\n",
    "#                 d2_inv = 1 / d2\n",
    "                u2 = u ** 2\n",
    "                ud = u * d\n",
    "#                 u_inv = 1 / u\n",
    "#                 u2_inv = 1 / u2\n",
    "                e = torch.cat([e, d2, u2, ud], dim=1)\n",
    "        if weights is not None:\n",
    "            w = weights.repeat(len(e), 1)\n",
    "            e = torch.cat([e, w], dim=1)\n",
    "        return e\n",
    "    \n",
    "    def _get_dynamic_edge_feat(self, pos, data, rich_efeats=False, euclidian=False, direction=False, weights=None):\n",
    "        if euclidian or direction:\n",
    "            start_pos, end_pos = get_edges(pos, data)\n",
    "            d, u = l2_normalize(end_pos - start_pos, return_norm=True)\n",
    "            if euclidian and direction:\n",
    "                e = torch.cat([u, d], dim=1)\n",
    "            else:\n",
    "                if euclidian:\n",
    "                    e = u\n",
    "                if direction:\n",
    "                    e = d\n",
    "        if weights is not None:\n",
    "            w = weights.repeat(len(e), 1)\n",
    "            e = torch.cat([e, w], dim=1)\n",
    "        return e\n",
    "        \n",
    "    def forward(self, v, data, weights=None):\n",
    "        vres = v\n",
    "        for layer in range(self.n_layers):\n",
    "            vsrc = (v if self.dynamic_efeats == 'prev' \n",
    "                    else data.pos if self.dynamic_efeats == 'orig' \n",
    "                    else vres)\n",
    "            get_extra = not (self.dynamic_efeats == 'first' and layer != 0)\n",
    "            efeat_fn = self._get_dynamic_edge_feat if self.static_efeats == 0 else self._get_edge_feat\n",
    "\n",
    "            e = efeat_fn(vsrc, data,\n",
    "                         rich_efeats=self.rich_efeats and get_extra,\n",
    "                         euclidian=self.euclidian and get_extra, \n",
    "                         direction=self.direction and get_extra,\n",
    "                         weights=weights if get_extra and self.n_weights > 0 else None)\n",
    "            v = self.gnn[layer](v, e, data)\n",
    "        return v + vres if self.residual else v"
   ]
  },
  {
   "cell_type": "code",
   "execution_count": 12,
   "metadata": {
    "tags": []
   },
   "outputs": [],
   "source": [
    "class Generator(nn.Module):\n",
    "    def __init__(self, \n",
    "                 num_blocks=9, \n",
    "                 num_layers=3,\n",
    "                 num_enet_layers=2,\n",
    "                 layer_dims=None,\n",
    "                 n_weights=0, \n",
    "                 dynamic_efeats='skip',\n",
    "                 euclidian=True,\n",
    "                 direction=True,\n",
    "                 residual=True,\n",
    "                 normalize=None):\n",
    "        super().__init__()\n",
    "\n",
    "        self.in_blocks = nn.ModuleList([\n",
    "            GNNBlock(feat_dims=[2, 8, 8 if layer_dims is None else layer_dims[0]], bn=True, dp=0.2, static_efeats=2)\n",
    "        ])\n",
    "        self.hid_blocks = nn.ModuleList([\n",
    "            GNNBlock(feat_dims=layer_dims or ([8] + [8] * num_layers), \n",
    "                     efeat_hid_dims=[16] * (num_enet_layers - 1),\n",
    "                     bn=True, \n",
    "                     act=True,\n",
    "                     dp=0.2, \n",
    "                     static_efeats=2,\n",
    "                     dynamic_efeats=dynamic_efeats,\n",
    "                     euclidian=euclidian,\n",
    "                     direction=direction,\n",
    "                     n_weights=n_weights,\n",
    "                     residual=residual)\n",
    "            for _ in range(num_blocks)\n",
    "        ])\n",
    "        self.out_blocks = nn.ModuleList([\n",
    "            GNNBlock(feat_dims=[8 if layer_dims is None else layer_dims[-1], 8], bn=True, static_efeats=2),\n",
    "            GNNBlock(feat_dims=[8, 2], act=False, static_efeats=2)\n",
    "        ])\n",
    "        self.normalize = normalize\n",
    "\n",
    "    def forward(self, data, weights=None, output_hidden=False, numpy=False):\n",
    "        v = data.pos if data.pos is not None else generate_rand_pos(len(data.x)).to(data.x.device)\n",
    "        if self.normalize is not None:\n",
    "            v = self.normalize(v, data)\n",
    "        \n",
    "        hidden = []\n",
    "        for block in chain(self.in_blocks, \n",
    "                           self.hid_blocks, \n",
    "                           self.out_blocks):\n",
    "            v = block(v, data, weights)\n",
    "            if output_hidden:\n",
    "                hidden.append(v.detach().cpu().numpy() if numpy else v)\n",
    "        if not output_hidden:\n",
    "            vout = v.detach().cpu().numpy() if numpy else v\n",
    "            if self.normalize is not None:\n",
    "                vout = self.normalize(vout, data)\n",
    "        \n",
    "        return hidden if output_hidden else vout"
   ]
  },
  {
   "cell_type": "code",
   "execution_count": 13,
   "metadata": {
    "id": "96ZActxlL0fJ"
   },
   "outputs": [],
   "source": [
    "class StressDiscriminator(nn.Module):\n",
    "    def __init__(self, normalize=CanonicalizationByStress(), **kwargs):\n",
    "        super().__init__()\n",
    "        self.dummy = nn.Parameter(torch.zeros(1))\n",
    "        self.normalize = normalize\n",
    "        self.stress = Stress(reduce=None)\n",
    "\n",
    "    def forward(self, batch):\n",
    "        return -self.stress(self.normalize(batch.pos, batch), batch)"
   ]
  },
  {
   "cell_type": "code",
   "execution_count": 14,
   "metadata": {
    "id": "IJ6xCYBUuhcw"
   },
   "outputs": [],
   "source": [
    "def get_ckpt_epoch(folder, epoch):\n",
    "    if not os.path.isdir(folder):\n",
    "        os.mkdir(folder)\n",
    "    if epoch >= 0:\n",
    "        return epoch\n",
    "    ckpt_files = os.listdir(folder)\n",
    "    last_epoch = 0\n",
    "    if ckpt_files:\n",
    "        last_epoch = sorted(list(map(lambda x: int(re.search('(?<=epoch_)(\\d+)(?=\\.)', x).group(1)), ckpt_files)))[-1]\n",
    "    return last_epoch + epoch + 1\n",
    "\n",
    "def start_epoch():\n",
    "    return get_ckpt_epoch(paths.checkpoints(), config.epoch.start)"
   ]
  },
  {
   "cell_type": "code",
   "execution_count": 15,
   "metadata": {
    "colab": {
     "base_uri": "https://localhost:8080/"
    },
    "id": "JacDYXka9U01",
    "outputId": "8a0d9c75-eb27-4cfd-eb3e-c81b698cb086"
   },
   "outputs": [
    {
     "name": "stdout",
     "output_type": "stream",
     "text": [
      "Loading from artifacts/checkpoints/deepgd(conv=gat_simple(self_loop=false,heads=8),lr=1e-2)/gen_epoch_1208.pt...\n",
      "Loading from artifacts/checkpoints/deepgd(conv=gat_simple(self_loop=false,heads=8),lr=1e-2)/gen_optim_epoch_1208.pt...\n"
     ]
    }
   ],
   "source": [
    "generator = Generator(**config.generator.params[...]).to(device)\n",
    "generator_optimizer = config.generator.optim(generator.parameters(), lr=config.generator.lr.initial * config.generator.lr.decay ** start_epoch())\n",
    "generator_scheduler = torch.optim.lr_scheduler.ExponentialLR(generator_optimizer, gamma=config.generator.lr.decay)\n",
    "if start_epoch() != 0:\n",
    "    gen_ckpt_epoch = start_epoch()\n",
    "elif config.generator.pretrained.name is not None and config.generator.pretrained.epoch != 0:\n",
    "    gen_pretrained_epoch = get_ckpt_epoch(paths.gen_pretrain(), config.generator.pretrained.epoch)\n",
    "    gen_ckpt_epoch = gen_pretrained_epoch \n",
    "else:\n",
    "    gen_ckpt_epoch = None\n",
    "if gen_ckpt_epoch is not None:\n",
    "    # Load generator\n",
    "    gen_ckpt_file = f\"{paths.checkpoints()}/gen_epoch_{gen_ckpt_epoch}.pt\"\n",
    "    print(f\"Loading from {gen_ckpt_file}...\")\n",
    "    generator.load_state_dict(torch.load(gen_ckpt_file, map_location=torch.device(device)))\n",
    "    # Load generator optimizer\n",
    "    gen_optim_ckpt_file = f\"{paths.checkpoints()}/gen_optim_epoch_{gen_ckpt_epoch}.pt\"\n",
    "    print(f\"Loading from {gen_optim_ckpt_file}...\")\n",
    "    generator_optimizer.load_state_dict(torch.load(gen_optim_ckpt_file, map_location=torch.device(device)))"
   ]
  },
  {
   "cell_type": "code",
   "execution_count": 16,
   "metadata": {
    "colab": {
     "base_uri": "https://localhost:8080/"
    },
    "id": "oWQhD7-88VXe",
    "outputId": "3ce11a68-adca-4f26-b71c-69fb71d301d2"
   },
   "outputs": [],
   "source": [
    "discriminator = StressDiscriminator(**config.discriminator.params[...]).to(device)\n",
    "# discriminator_optimizer = config.discriminator.optim(discriminator.parameters(), lr=config.discriminator.lr.initial * config.discriminator.lr.decay ** start_epoch())\n",
    "# discriminator_scheduler = torch.optim.lr_scheduler.ExponentialLR(discriminator_optimizer, gamma=config.discriminator.lr.decay)\n",
    "# if start_epoch() != 0:\n",
    "#     dis_ckpt_epoch = start_epoch()\n",
    "# elif config.discriminator.pretrained.name is not None and config.discriminator.pretrained.epoch != 0:\n",
    "#     dis_pretrained_epoch = get_ckpt_epoch(paths.dis_pretrain(), config.discriminator.pretrained.epoch)\n",
    "#     dis_ckpt_epoch = dis_pretrained_epoch # f\"{paths.dis_pretrain()}/dis_epoch_{dis_pretrained_epoch}.pt\"\n",
    "# else:\n",
    "#     dis_ckpt_epoch = None\n",
    "# if dis_ckpt_epoch is not None:\n",
    "#     # Load discriminator\n",
    "#     dis_ckpt_file = f\"{paths.checkpoints()}/dis_epoch_{dis_ckpt_epoch}.pt\"\n",
    "#     print(f\"Loading from {dis_ckpt_file}...\")\n",
    "#     discriminator.load_state_dict(torch.load(dis_ckpt_file, map_location=torch.device(device)))\n",
    "#     # Load discriminator optimizer\n",
    "#     dis_optim_ckpt_file = f\"{paths.checkpoints()}/dis_optim_epoch_{dis_ckpt_epoch}.pt\"\n",
    "#     print(f\"Loading from {dis_optim_ckpt_file}...\")\n",
    "#     discriminator_optimizer.load_state_dict(torch.load(dis_optim_ckpt_file, map_location=torch.device(device)))"
   ]
  },
  {
   "cell_type": "markdown",
   "metadata": {
    "id": "N39dDHraedM6"
   },
   "source": [
    "# Train"
   ]
  },
  {
   "cell_type": "code",
   "execution_count": 17,
   "metadata": {
    "id": "BdIJSDSJedM-"
   },
   "outputs": [],
   "source": [
    "stress_criterion = StressDiscriminator().to(device)\n",
    "val_criterion = Stress(reduce=None)\n",
    "xing_criterion = Xing(reduce=None)\n",
    "dis_convert = DiscriminatorDataConverter(complete_graph=config.discriminator.complete, normalize=config.discriminator.params.normalize)\n",
    "tensorboard = SummaryWriter(log_dir=paths.tensorboard())\n",
    "epoch = start_epoch() + 1"
   ]
  },
  {
   "cell_type": "code",
   "execution_count": 18,
   "metadata": {
    "id": "OHRWj1h0edM-"
   },
   "outputs": [],
   "source": [
    "def gradient_penalty(interpolated, discriminator, weight=10):\n",
    "    interpolated.pos.requires_grad_()\n",
    "    prob_interpolated = discriminator(interpolated)\n",
    "    gradients = autograd.grad(outputs=prob_interpolated, \n",
    "                              inputs=interpolated.pos,\n",
    "                              grad_outputs=torch.ones_like(prob_interpolated),\n",
    "                              create_graph=True, \n",
    "                              retain_graph=True, \n",
    "                              allow_unused=True)[0]\n",
    "    gradients_norm = torch.sqrt(gnn.global_add_pool(gradients.square().sum(dim=1), batch.batch) + 1e-8)\n",
    "    return weight * ((gradients_norm - 1) ** 2).mean()"
   ]
  },
  {
   "cell_type": "code",
   "execution_count": 19,
   "metadata": {
    "id": "o5wJJN9AedM_"
   },
   "outputs": [],
   "source": [
    "def get_gp_loss(batch, fake_pos, weight):\n",
    "    if weight > 0:\n",
    "        interp = dis_convert(batch, fake_pos, random.random())\n",
    "        return gradient_penalty(interp, discriminator, weight).mean()\n",
    "    return 0"
   ]
  },
  {
   "cell_type": "code",
   "execution_count": 20,
   "metadata": {
    "id": "QwuA6sRoedM_"
   },
   "outputs": [],
   "source": [
    "def get_sgan_loss(batch, fake_pos, mode='discriminator'):\n",
    "    real = dis_convert(batch)\n",
    "    fake = dis_convert(batch, fake_pos)\n",
    "    pred = discriminator(merge_batch(real, fake)).view(2, -1).T\n",
    "    if mode == 'discriminator':\n",
    "        label = torch.zeros(pred.shape[0]).long()\n",
    "    elif mode == 'generator':\n",
    "        label = torch.ones(pred.shape[0]).long()\n",
    "    else:\n",
    "        raise Exception\n",
    "    return nn.CrossEntropyLoss()(pred, label)"
   ]
  },
  {
   "cell_type": "code",
   "execution_count": 21,
   "metadata": {
    "id": "GuAP1YchedNA"
   },
   "outputs": [],
   "source": [
    "def get_rgan_loss(batch, fake_pos, mode='discriminator'):\n",
    "    real = dis_convert(batch)\n",
    "    fake = dis_convert(batch, fake_pos)\n",
    "    pred = discriminator(merge_batch(real, fake)).view(2, -1).T\n",
    "    real_pred, fake_pred = pred[:,0], pred[:,1]\n",
    "    if mode == 'discriminator':\n",
    "        losses = - F.logsigmoid(real_pred - fake_pred)\n",
    "    elif mode == 'generator':\n",
    "        losses = - F.logsigmoid(fake_pred - real_pred)\n",
    "    else:\n",
    "        raise Exception\n",
    "    return losses.mean()"
   ]
  },
  {
   "cell_type": "code",
   "execution_count": 22,
   "metadata": {
    "id": "KFllQ7BredNA"
   },
   "outputs": [],
   "source": [
    "def get_wgan_loss(batch, fake_pos, mode='discriminator'):\n",
    "    real = dis_convert(batch)\n",
    "    fake = dis_convert(batch, fake_pos)\n",
    "    pred = discriminator(merge_batch(real, fake)).view(2, -1).T\n",
    "    real_pred, fake_pred = pred[:,0], pred[:,1]\n",
    "    if mode == 'discriminator':\n",
    "        losses = fake_pred - real_pred \n",
    "    elif mode == 'generator':\n",
    "        losses = real_pred - fake_pred\n",
    "    else:\n",
    "        raise Exception\n",
    "    return losses.mean()"
   ]
  },
  {
   "cell_type": "code",
   "execution_count": 23,
   "metadata": {
    "id": "r5Kg_tYEedNA"
   },
   "outputs": [],
   "source": [
    "def get_ragan_loss(batch, fake_pos, mode='discriminator'):\n",
    "    real = dis_convert(batch)\n",
    "    fake = dis_convert(batch, fake_pos)\n",
    "    pred = discriminator(merge_batch(real, fake)).view(2, -1).T\n",
    "    real_pred, fake_pred = pred[:,0], pred[:,1]\n",
    "    if mode == 'discriminator':\n",
    "        losses = - F.logsigmoid(real_pred - fake_pred.mean()) - F.logsigmoid(real_pred.mean() - fake_pred)\n",
    "    elif mode == 'generator':\n",
    "        losses = - F.logsigmoid(fake_pred - real_pred.mean()) - F.logsigmoid(fake_pred.mean() - real_pred)\n",
    "    else:\n",
    "        raise Exception\n",
    "    return losses.mean()"
   ]
  },
  {
   "cell_type": "code",
   "execution_count": 24,
   "metadata": {},
   "outputs": [],
   "source": [
    "def get_dgdv2_loss(batch, fake_pos, mode='discriminator'):\n",
    "    fake = dis_convert(batch, fake_pos)\n",
    "    pred = discriminator(fake)\n",
    "    if mode == 'discriminator':\n",
    "        gt = get_gt(batch, fake_pos)\n",
    "        loss = criterion(pred, gt)\n",
    "    elif mode == 'generator':\n",
    "        losses = pred.sum(dim=0)\n",
    "#         losses = torch.tensor(config.importance).to(device) * losses #/ losses.detach()\n",
    "        loss = losses.sum()\n",
    "    else:\n",
    "        raise Exception\n",
    "    return -loss"
   ]
  },
  {
   "cell_type": "code",
   "execution_count": 25,
   "metadata": {
    "id": "3IE_84f-edNB"
   },
   "outputs": [],
   "source": [
    "def get_gan_loss(batch, fake_pos, mode='discriminator'):\n",
    "    return {\"sgan\": get_sgan_loss,\n",
    "            \"wgan\": get_wgan_loss,\n",
    "            \"rgan\": get_rgan_loss,\n",
    "            \"ragan\": get_ragan_loss,\n",
    "            \"dgdv2\": get_dgdv2_loss}[config.gan_flavor](batch, fake_pos, mode)"
   ]
  },
  {
   "cell_type": "code",
   "execution_count": 26,
   "metadata": {
    "colab": {
     "base_uri": "https://localhost:8080/",
     "height": 80
    },
    "id": "2NjekXgkedNB",
    "outputId": "d0ca2d2c-8af7-40af-b197-7974e566b064",
    "tags": []
   },
   "outputs": [
    {
     "data": {
      "application/vnd.jupyter.widget-view+json": {
       "model_id": "42d8e06d49fd43b8836293f4113ab5fb",
       "version_major": 2,
       "version_minor": 0
      },
      "text/plain": [
       "Tab(children=(VBox(children=(Wrapper(), Hud())), HBox(children=(Output(),), layout=Layout(height='500px', over…"
      ]
     },
     "metadata": {},
     "output_type": "display_data"
    },
    {
     "ename": "KeyboardInterrupt",
     "evalue": "",
     "output_type": "error",
     "traceback": [
      "\u001b[0;31m---------------------------------------------------------------------------\u001b[0m",
      "\u001b[0;31mKeyboardInterrupt\u001b[0m                         Traceback (most recent call last)",
      "\u001b[0;32m/tmp/slurmtmp.5518157/ipykernel_139769/3144612910.py\u001b[0m in \u001b[0;36m<module>\u001b[0;34m\u001b[0m\n\u001b[1;32m    136\u001b[0m     \u001b[0;32mif\u001b[0m \u001b[0mconfig\u001b[0m\u001b[0;34m.\u001b[0m\u001b[0malternate\u001b[0m \u001b[0;34m==\u001b[0m \u001b[0;34m'epoch'\u001b[0m\u001b[0;34m:\u001b[0m\u001b[0;34m\u001b[0m\u001b[0;34m\u001b[0m\u001b[0m\n\u001b[1;32m    137\u001b[0m         \u001b[0;32mfor\u001b[0m \u001b[0mbatch\u001b[0m \u001b[0;32min\u001b[0m \u001b[0mtrain_loader\u001b[0m\u001b[0;34m:\u001b[0m\u001b[0;34m\u001b[0m\u001b[0;34m\u001b[0m\u001b[0m\n\u001b[0;32m--> 138\u001b[0;31m             \u001b[0mtrain_gen\u001b[0m\u001b[0;34m(\u001b[0m\u001b[0mbatch\u001b[0m\u001b[0;34m,\u001b[0m \u001b[0mepoch\u001b[0m\u001b[0;34m)\u001b[0m\u001b[0;34m\u001b[0m\u001b[0;34m\u001b[0m\u001b[0m\n\u001b[0m\u001b[1;32m    139\u001b[0m \u001b[0;34m\u001b[0m\u001b[0m\n\u001b[1;32m    140\u001b[0m \u001b[0;31m#     discriminator_scheduler.step()\u001b[0m\u001b[0;34m\u001b[0m\u001b[0;34m\u001b[0m\u001b[0m\n",
      "\u001b[0;32m/tmp/slurmtmp.5518157/ipykernel_139769/3144612910.py\u001b[0m in \u001b[0;36mtrain_gen\u001b[0;34m(batch, epoch)\u001b[0m\n\u001b[1;32m     31\u001b[0m \u001b[0;34m\u001b[0m\u001b[0m\n\u001b[1;32m     32\u001b[0m     \u001b[0;31m#train generator\u001b[0m\u001b[0;34m\u001b[0m\u001b[0;34m\u001b[0m\u001b[0m\n\u001b[0;32m---> 33\u001b[0;31m     \u001b[0mgenerator_loss\u001b[0m\u001b[0;34m.\u001b[0m\u001b[0mbackward\u001b[0m\u001b[0;34m(\u001b[0m\u001b[0;34m)\u001b[0m\u001b[0;34m\u001b[0m\u001b[0;34m\u001b[0m\u001b[0m\n\u001b[0m\u001b[1;32m     34\u001b[0m     \u001b[0mgenerator_optimizer\u001b[0m\u001b[0;34m.\u001b[0m\u001b[0mstep\u001b[0m\u001b[0;34m(\u001b[0m\u001b[0;34m)\u001b[0m\u001b[0;34m\u001b[0m\u001b[0;34m\u001b[0m\u001b[0m\n\u001b[1;32m     35\u001b[0m \u001b[0;34m\u001b[0m\u001b[0m\n",
      "\u001b[0;32m~/.conda/envs/deepgd/lib/python3.9/site-packages/torch/_tensor.py\u001b[0m in \u001b[0;36mbackward\u001b[0;34m(self, gradient, retain_graph, create_graph, inputs)\u001b[0m\n\u001b[1;32m    253\u001b[0m                 \u001b[0mcreate_graph\u001b[0m\u001b[0;34m=\u001b[0m\u001b[0mcreate_graph\u001b[0m\u001b[0;34m,\u001b[0m\u001b[0;34m\u001b[0m\u001b[0;34m\u001b[0m\u001b[0m\n\u001b[1;32m    254\u001b[0m                 inputs=inputs)\n\u001b[0;32m--> 255\u001b[0;31m         \u001b[0mtorch\u001b[0m\u001b[0;34m.\u001b[0m\u001b[0mautograd\u001b[0m\u001b[0;34m.\u001b[0m\u001b[0mbackward\u001b[0m\u001b[0;34m(\u001b[0m\u001b[0mself\u001b[0m\u001b[0;34m,\u001b[0m \u001b[0mgradient\u001b[0m\u001b[0;34m,\u001b[0m \u001b[0mretain_graph\u001b[0m\u001b[0;34m,\u001b[0m \u001b[0mcreate_graph\u001b[0m\u001b[0;34m,\u001b[0m \u001b[0minputs\u001b[0m\u001b[0;34m=\u001b[0m\u001b[0minputs\u001b[0m\u001b[0;34m)\u001b[0m\u001b[0;34m\u001b[0m\u001b[0;34m\u001b[0m\u001b[0m\n\u001b[0m\u001b[1;32m    256\u001b[0m \u001b[0;34m\u001b[0m\u001b[0m\n\u001b[1;32m    257\u001b[0m     \u001b[0;32mdef\u001b[0m \u001b[0mregister_hook\u001b[0m\u001b[0;34m(\u001b[0m\u001b[0mself\u001b[0m\u001b[0;34m,\u001b[0m \u001b[0mhook\u001b[0m\u001b[0;34m)\u001b[0m\u001b[0;34m:\u001b[0m\u001b[0;34m\u001b[0m\u001b[0;34m\u001b[0m\u001b[0m\n",
      "\u001b[0;32m~/.conda/envs/deepgd/lib/python3.9/site-packages/torch/autograd/__init__.py\u001b[0m in \u001b[0;36mbackward\u001b[0;34m(tensors, grad_tensors, retain_graph, create_graph, grad_variables, inputs)\u001b[0m\n\u001b[1;32m    145\u001b[0m         \u001b[0mretain_graph\u001b[0m \u001b[0;34m=\u001b[0m \u001b[0mcreate_graph\u001b[0m\u001b[0;34m\u001b[0m\u001b[0;34m\u001b[0m\u001b[0m\n\u001b[1;32m    146\u001b[0m \u001b[0;34m\u001b[0m\u001b[0m\n\u001b[0;32m--> 147\u001b[0;31m     Variable._execution_engine.run_backward(\n\u001b[0m\u001b[1;32m    148\u001b[0m         \u001b[0mtensors\u001b[0m\u001b[0;34m,\u001b[0m \u001b[0mgrad_tensors_\u001b[0m\u001b[0;34m,\u001b[0m \u001b[0mretain_graph\u001b[0m\u001b[0;34m,\u001b[0m \u001b[0mcreate_graph\u001b[0m\u001b[0;34m,\u001b[0m \u001b[0minputs\u001b[0m\u001b[0;34m,\u001b[0m\u001b[0;34m\u001b[0m\u001b[0;34m\u001b[0m\u001b[0m\n\u001b[1;32m    149\u001b[0m         allow_unreachable=True, accumulate_grad=True)  # allow_unreachable flag\n",
      "\u001b[0;31mKeyboardInterrupt\u001b[0m: "
     ]
    }
   ],
   "source": [
    "# def train_dis(batch, epoch):\n",
    "#     generator.requires_grad_(False)\n",
    "#     discriminator.zero_grad()\n",
    "#     generator_output = generator(batch)\n",
    "#     if config.discriminator.noise.std > 0:\n",
    "#         generator_output = generator_output + torch.randn_like(generator_output) * config.discriminator.noise.std * config.discriminator.noise.decay ** epoch\n",
    "#     discriminator_loss = get_gan_loss(batch, generator_output, mode='discriminator')\n",
    "    \n",
    "#     # train discriminator\n",
    "#     discriminator_loss.backward()\n",
    "#     discriminator_optimizer.step()\n",
    "\n",
    "#     # gradient penalty\n",
    "#     if config.gp_weight > 0:\n",
    "#         discriminator.zero_grad()\n",
    "#         gp_loss = get_gp_loss(batch, generator_output, config.gp_weight)\n",
    "#         gp_loss.backward()\n",
    "#         discriminator_optimizer.step()\n",
    "\n",
    "#     hud['dis_loss'] = format(discriminator_loss.item(), '.2e')\n",
    "#     pbar().update()\n",
    "\n",
    "def train_gen(batch, epoch):\n",
    "    generator.requires_grad_(True)\n",
    "    generator.zero_grad()\n",
    "    discriminator.zero_grad()\n",
    "    generator_output = generator(batch)\n",
    "    if config.discriminator.noise.std > 0:\n",
    "        generator_output = generator_output + torch.randn_like(generator_output) * config.discriminator.noise.std * config.discriminator.noise.decay ** epoch\n",
    "    generator_loss = get_gan_loss(batch, generator_output, mode='generator') \n",
    "    \n",
    "    #train generator\n",
    "    generator_loss.backward()\n",
    "    generator_optimizer.step()\n",
    "\n",
    "    with torch.no_grad():\n",
    "        dis_batch = dis_convert(batch, generator_output)\n",
    "        stress = stress_criterion(dis_batch).mean()\n",
    "        critic = discriminator(dis_batch).mean()\n",
    "    hud.append({'gen_loss': format(generator_loss.item(), '.2e'),\n",
    "                'stress': format(stress.item(), '.2e'),\n",
    "                'critic': format(critic.item(), '.2e')})\n",
    "    pbar().update()\n",
    "\n",
    "def cuda_memsafe_map(fn, *iterables, summary=False):\n",
    "    total, failed = 0, 0\n",
    "    iterator = zip(*iterables)\n",
    "    items = None\n",
    "    while True:\n",
    "        try:\n",
    "            items = next(iterator)\n",
    "            yield fn(*items)\n",
    "        except StopIteration:\n",
    "            if summary:\n",
    "                print(f'Iteration finished. {failed} out of {total} failed!')\n",
    "            break\n",
    "#         except RuntimeError:\n",
    "#             print('CUDA memory overflow! Skip batch...')\n",
    "#             del items\n",
    "#             failed += 1\n",
    "        torch.cuda.empty_cache()\n",
    "        total += 1\n",
    "    \n",
    "def validate(model, data_loader, criterion=val_criterion):\n",
    "    def val_one_batch(batch):\n",
    "        batch = preprocess_batch(model, batch)\n",
    "        pred = CanonicalizationByStress()(model(batch), batch)\n",
    "        gt = CanonicalizationByStress()(batch.gt_pos, batch)\n",
    "        loss = criterion(pred, batch)\n",
    "        gt_loss = criterion(gt, batch)\n",
    "        spc = (loss - gt_loss) / torch.maximum(torch.maximum(loss, gt_loss), torch.ones_like(loss)*1e-5)\n",
    "        return loss.mean().item(), spc.mean().item()\n",
    "    loss_all, spc_all = zip(*cuda_memsafe_map(val_one_batch, data_loader))\n",
    "    return np.mean(loss_all), np.mean(spc_all)\n",
    "\n",
    "def log(msg):\n",
    "    msg = f\"[{epoch:03}] {msg}\"\n",
    "    print(msg, file=open(paths.log(), \"a\"))\n",
    "    with log_out: \n",
    "        print(msg)\n",
    "\n",
    "print(f\"{'='*10} {config.link} {'='*10}\", file=open(paths.log(), \"a\"))\n",
    "hud = Hud()\n",
    "pbar = Wrapper(tqdm, total=len(train_loader), smoothing=0)\n",
    "plot_out = Output()\n",
    "log_out = Output()\n",
    "tabs = {\"status\": VBox([pbar, hud]), \n",
    "        \"plot\": HBox([plot_out], layout=Layout(height='500px', overflow_y='auto')),\n",
    "        \"log\": HBox([log_out], layout=Layout(height='500px', overflow_y='auto'))}\n",
    "tab_bar = Tab(children=list(tabs.values()))\n",
    "[tab_bar.set_title(i, name) for i, name in enumerate(tabs)]\n",
    "display(tab_bar)\n",
    "while True:\n",
    "    if epoch % config.log_interval == 0:\n",
    "        torch.save(generator.state_dict(), f\"{paths.checkpoints()}/gen_epoch_{epoch}.pt\")\n",
    "        torch.save(generator_optimizer.state_dict(), f\"{paths.checkpoints()}/gen_optim_epoch_{epoch}.pt\")\n",
    "#         torch.save(discriminator.state_dict(), f\"{paths.checkpoints()}/dis_epoch_{epoch}.pt\")\n",
    "#         torch.save(discriminator_optimizer.state_dict(), f\"{paths.checkpoints()}/dis_optim_epoch_{epoch}.pt\")\n",
    "        generator.eval()\n",
    "        with torch.no_grad():\n",
    "            val_stress, val_stress_spc = validate(model=generator, data_loader=val_loader)\n",
    "            val_xing, val_xing_spc = validate(model=generator, data_loader=val_loader, criterion=xing_criterion)\n",
    "            with plot_out:\n",
    "                fig = plt.figure()\n",
    "                graph_vis(G_list[11100], generator(make_batch(data_list[11100]).to(device)).cpu())\n",
    "                plt.show()\n",
    "#         for i, fn in enumerate(loss_fns):\n",
    "#             tensorboard.add_scalars(type(fn).__name__, {'train': train_loss_comp[i].item(), \n",
    "#                                                   'validation': val_loss_comp[i].item()}, epoch)\n",
    "        hud.append({\n",
    "            'val_stress': format(val_stress, '.2f'),\n",
    "            'val_stress_spc': format(val_stress_spc, '.2%'),\n",
    "            'val_xing': format(val_xing, '.2f'),\n",
    "            'val_xing_spc': format(val_xing_spc, '.2%'),\n",
    "        })\n",
    "        log(msg := f\"stress={hud.data['val_stress']}({hud.data['val_stress_spc']}) xing={hud.data['val_xing']}({hud.data['val_xing_spc']})\")\n",
    "    \n",
    "        tensorboard.add_scalars('Stress', {'Value': val_stress, 'SPC': val_stress_spc}, epoch)\n",
    "        tensorboard.add_scalars('Xing', {'Value': val_xing, 'SPC': val_xing_spc}, epoch)\n",
    "        tensorboard.add_figure('Rome/11100', fig, epoch)\n",
    "        tensorboard.add_text('Log', msg, epoch)\n",
    "        \n",
    "    # handle.update(tab_bar)\n",
    "    pbar().reset()\n",
    "    pbar().set_description(desc=f\"[epoch {epoch}/{config.epoch.end}]\")\n",
    "    hud(title=f\"epoch {epoch}\")\n",
    "    generator.train()\n",
    "#     discriminator.train()\n",
    "    # proper: proper layout\n",
    "#     for _ in range(config.discriminator.repeat):\n",
    "#         for batch in train_loader:\n",
    "#             train_dis(batch, epoch)\n",
    "#             if config.alternate == 'iteration':\n",
    "#                 train_gen(batch, epoch)\n",
    "\n",
    "    if config.alternate == 'epoch':\n",
    "        for batch in train_loader:\n",
    "            train_gen(batch, epoch)\n",
    "\n",
    "#     discriminator_scheduler.step()\n",
    "    generator_scheduler.step()\n",
    "\n",
    "    if epoch == config.epoch.end:\n",
    "        break\n",
    "    epoch += 1"
   ]
  },
  {
   "cell_type": "code",
   "execution_count": null,
   "metadata": {},
   "outputs": [],
   "source": [
    "data = Data()"
   ]
  },
  {
   "cell_type": "code",
   "execution_count": null,
   "metadata": {},
   "outputs": [],
   "source": [
    "data.n = torch.tensor(1)"
   ]
  },
  {
   "cell_type": "code",
   "execution_count": null,
   "metadata": {},
   "outputs": [],
   "source": [
    "Batch.from_data_list([data]).to_data_list()"
   ]
  },
  {
   "cell_type": "code",
   "execution_count": null,
   "metadata": {},
   "outputs": [],
   "source": []
  },
  {
   "cell_type": "code",
   "execution_count": null,
   "metadata": {},
   "outputs": [],
   "source": [
    "import torch_geometric as pyg"
   ]
  },
  {
   "cell_type": "code",
   "execution_count": null,
   "metadata": {},
   "outputs": [],
   "source": [
    "isinstance(pyg.data.Batch.from_data_list([pyg.data.Data()]), pyg.data.Batch)"
   ]
  },
  {
   "cell_type": "code",
   "execution_count": null,
   "metadata": {},
   "outputs": [],
   "source": [
    "type(pyg.data.Batch.from_data_list([pyg.data.Data()])) is pyg.data.Batch"
   ]
  },
  {
   "cell_type": "code",
   "execution_count": null,
   "metadata": {},
   "outputs": [],
   "source": []
  },
  {
   "cell_type": "code",
   "execution_count": null,
   "metadata": {},
   "outputs": [],
   "source": [
    "preprocess_batch(generator, data_list[0])"
   ]
  },
  {
   "cell_type": "markdown",
   "metadata": {
    "id": "0qYK_X_hrq9o"
   },
   "source": [
    "# Testdata_list"
   ]
  },
  {
   "cell_type": "code",
   "execution_count": null,
   "metadata": {
    "id": "XEvmAtNjWhcY"
   },
   "outputs": [],
   "source": [
    "test_epoch = -1\n",
    "\n",
    "test_generator = Generator(**config.generator.params[...]).to(device)\n",
    "test_ckpt_epoch = get_ckpt_epoch(paths.checkpoints(), test_epoch)\n",
    "test_ckpt_file = f\"{paths.checkpoints()}/gen_epoch_{test_ckpt_epoch}.pt\"\n",
    "print(f\"Loading from {test_ckpt_file}...\")\n",
    "test_generator.load_state_dict(torch.load(test_ckpt_file, map_location=torch.device(device)))"
   ]
  },
  {
   "cell_type": "code",
   "execution_count": null,
   "metadata": {
    "id": "ZubmSTcYrq9o"
   },
   "outputs": [],
   "source": [
    "rotate = RotateByPrincipalComponents()\n",
    "def test_callback(*, idx, pred, metrics):\n",
    "    # graph_vis(G_list[idx], pred, file_name=f\"{paths.visualization()}/{idx}_{metrics['stress']:.2f}_{metrics['resolution_score']:.2f}.png\")\n",
    "    pred = rotate(torch.tensor(pred), data_list[idx])\n",
    "    graph_vis(G_list[idx], pred)\n",
    "    plt.title(f\"[pred] idx: {idx}, stress: {metrics['stress']:.2f}({metrics['stress_spc']:.2%}), xing: {metrics['xing']:.2f}({metrics['xing_spc']:.2%})\")\n",
    "    plt.show()\n",
    "    gt_pos = rotate(data_list[idx].gt_pos, data_list[idx])\n",
    "    graph_vis(G_list[idx], gt_pos, node_color='orange')\n",
    "    plt.title(f\"[gt] idx: {idx}, stress: {load_ground_truth(idx, 'stress')}, xing: {load_ground_truth(idx, 'xing')}\")\n",
    "    plt.show()\n",
    "    \n",
    "test_metrics = test(model=test_generator, \n",
    "                    criteria_list=[], \n",
    "                    dataset=data_list, \n",
    "                    idx_range=range(10000, 11000), \n",
    "                    callback=test_callback,\n",
    "                    gt_file='gt.csv')\n",
    "pickle.dump(test_metrics, open(paths.metrics(\"test\"), \"wb\"))"
   ]
  },
  {
   "cell_type": "code",
   "execution_count": null,
   "metadata": {
    "id": "t2rFXIr_PsrJ"
   },
   "outputs": [],
   "source": [
    "metrics = test_metrics\n",
    "print('stress:', metrics['stress'].mean())\n",
    "print('stress_spc:', metrics['stress_spc'].mean())\n",
    "print('xing:', metrics['xing'].mean())\n",
    "print('xing_spc:', metrics['xing_spc'].mean())\n",
    "print('l1_angle:', metrics['l1_angle'].mean())\n",
    "print('l1_angle_spc:', metrics['l1_angle_spc'].mean())\n",
    "print('edge:', metrics['edge'].mean())\n",
    "print('edge_spc:', metrics['edge_spc'].mean())\n",
    "print('ring:', metrics['ring'].mean())\n",
    "print('ring_spc:', metrics['ring_spc'].mean())\n",
    "print('tsne:', metrics['tsne'].mean())\n",
    "print('tsne_spc:', metrics['tsne_spc'].mean())\n",
    "print('reso_score:', metrics['resolution_score'].mean())\n",
    "print('min_angle:', metrics['min_angle'].mean())\n",
    "pd.DataFrame(map(lambda m: f\"{metrics[m].mean().item():.4f}\", list(metrics.keys())[:-1])).T"
   ]
  },
  {
   "cell_type": "markdown",
   "metadata": {
    "id": "L5S1HWnHOWIl"
   },
   "source": [
    "# Large Graph"
   ]
  },
  {
   "cell_type": "code",
   "execution_count": null,
   "metadata": {
    "id": "_pefPcV1OZdD"
   },
   "outputs": [],
   "source": [
    "scalability = pd.read_csv(f\"/__artifacts__/data/scalability.csv\", index_col=\"index\")\n",
    "scalability"
   ]
  },
  {
   "cell_type": "code",
   "execution_count": null,
   "metadata": {
    "id": "oMhWAsdvPnTX"
   },
   "outputs": [],
   "source": [
    "rescale = CanonicalizationByStress()\n",
    "stressfn = Stress()\n",
    "rotate = RotateByPrincipalComponents()"
   ]
  },
  {
   "cell_type": "code",
   "execution_count": null,
   "metadata": {
    "id": "LR83OcAaPID5"
   },
   "outputs": [],
   "source": [
    "stress_list = []\n",
    "spc_list = []\n",
    "pmds_list = np.load(\"layouts/new_large_graph/pmds.npy\", allow_pickle=True)\n",
    "gviz_list = np.load(\"layouts/new_large_graph/gviz.npy\", allow_pickle=True)\n",
    "with torch.no_grad():\n",
    "    for idx, col in tqdm(scalability.iterrows(), total=len(scalability)):\n",
    "        # if idx not in [406, 516]: continue\n",
    "        torch.cuda.empty_cache()\n",
    "        G = load_mtx(col['file'])\n",
    "        G.remove_edges_from(nx.selfloop_edges(G))\n",
    "        data = generate_data_list(G, \n",
    "                                sparse=data_config.sparse, \n",
    "                                pivot_mode=data_config.pivot,\n",
    "                                init_mode=data_config.init,\n",
    "                                edge_index=data_config.edge.index,\n",
    "                                edge_attr=data_config.edge.attr,\n",
    "                                pmds_list=pmds_list[idx],\n",
    "                                gviz_list=gviz_list[idx],\n",
    "                                device=device)\n",
    "        batch = Batch.from_data_list([data]).to(device)\n",
    "        # generator.train()\n",
    "        # generator(batch)\n",
    "        generator.eval()\n",
    "        pred = generator(batch)\n",
    "        pos = rotate(rescale(pred, batch), batch)\n",
    "        gt = rotate(rescale(batch.gt_pos, batch), batch)\n",
    "        stress = stressfn(pos, batch).item()\n",
    "        gt_stress = stressfn(gt, batch).item()\n",
    "        spc = (stress - gt_stress) / np.maximum(stress, gt_stress)\n",
    "        stress_list.append(stress)\n",
    "        spc_list.append(spc)\n",
    "\n",
    "        np.save(f\"/__artifacts__/gan_result/data/scalability_{idx}.npy\", pos.cpu().numpy())\n",
    "        graph_attr = dict(node_size=1, \n",
    "                        with_labels=False, \n",
    "                        labels=dict(zip(list(G.nodes), map(lambda n: n if type(n) is int else n[1:], list(G.nodes)))),\n",
    "                        font_color=\"white\", \n",
    "                        font_weight=\"bold\",\n",
    "                        font_size=12,\n",
    "                        width=0.1)\n",
    "\n",
    "        # gt_pos = pickle.load(open(f\"/__artifacts__/data/scalability_{idx}_gt.pkl\", \"rb\"))\n",
    "\n",
    "        plt.figure(figsize=[12, 9])\n",
    "        nx.draw(G, pos=gt.cpu().numpy(), node_color='orange', **graph_attr)\n",
    "        plt.title(f\"neato: large_{idx}\")\n",
    "        plt.axis(\"equal\")\n",
    "        plt.savefig(f\"/__artifacts__/gan_result/output/{idx}_{col['name']}_{col['n']}_{spc}_nx.png\", dpi=300)\n",
    "        plt.show()\n",
    "\n",
    "        plt.figure(figsize=[12, 9])\n",
    "        graph_vis(G, pos.cpu().numpy(), **graph_attr)\n",
    "        plt.title(f\"dgd: large_{idx}, spc={spc:.2%}\")\n",
    "        plt.axis(\"equal\")\n",
    "        plt.savefig(f\"/__artifacts__/gan_result/output/{idx}_{col['name']}_{col['n']}_{spc}_dgd.png\", dpi=300)\n",
    "        plt.show()"
   ]
  },
  {
   "cell_type": "code",
   "execution_count": null,
   "metadata": {
    "id": "gRXTewkYeuq1"
   },
   "outputs": [],
   "source": []
  }
 ],
 "metadata": {
  "accelerator": "GPU",
  "colab": {
   "collapsed_sections": [
    "w_p3OD0woiSM",
    "DR6-vYtr_i_P",
    "innqkwvH_ydD",
    "f-ODE2k8BFV6"
   ],
   "machine_shape": "hm",
   "name": "GAN(gan=rgan,data=best(xing,stress),dis=deep,share=10,embed=6,gp=0).ipynb",
   "provenance": []
  },
  "kernelspec": {
   "display_name": "DeepGD",
   "language": "python",
   "name": "deepgd"
  },
  "language_info": {
   "codemirror_mode": {
    "name": "ipython",
    "version": 3
   },
   "file_extension": ".py",
   "mimetype": "text/x-python",
   "name": "python",
   "nbconvert_exporter": "python",
   "pygments_lexer": "ipython3",
   "version": "3.9.7"
  },
  "widgets": {
   "application/vnd.jupyter.widget-state+json": {
    "state": {
     "0970ec8427bc4563905a58b4de1e4d07": {
      "model_module": "@jupyter-widgets/base",
      "model_module_version": "1.2.0",
      "model_name": "LayoutModel",
      "state": {}
     },
     "251c611ff43247049a2df5af23a3fab1": {
      "model_module": "@jupyter-widgets/base",
      "model_module_version": "1.2.0",
      "model_name": "LayoutModel",
      "state": {}
     },
     "287ae35882d94ce7930979b27626936b": {
      "model_module": "@jupyter-widgets/controls",
      "model_module_version": "1.5.0",
      "model_name": "HTMLModel",
      "state": {
       "layout": "IPY_MODEL_c3e21a069852417eb8a7f8f5333b6daa",
       "style": "IPY_MODEL_760ea058bdb44ff0afa363b5c09c1cf3",
       "value": " 127/157 [00:25&lt;00:05,  5.04it/s]"
      }
     },
     "2dbdc4742fdb4d80b36b37d97a68e6d8": {
      "model_module": "@jupyter-widgets/base",
      "model_module_version": "1.2.0",
      "model_name": "LayoutModel",
      "state": {}
     },
     "2f2ab257413f4f5dae293c585cacf537": {
      "model_module": "@jupyter-widgets/base",
      "model_module_version": "1.2.0",
      "model_name": "LayoutModel",
      "state": {
       "height": "500px",
       "overflow_y": "auto"
      }
     },
     "33f11b1ab1a044b5b85212e4efc04014": {
      "model_module": "@jupyter-widgets/output",
      "model_module_version": "1.0.0",
      "model_name": "OutputModel",
      "state": {
       "layout": "IPY_MODEL_0970ec8427bc4563905a58b4de1e4d07",
       "outputs": [
        {
         "data": {
          "text/html": "<div>\n<style scoped>\n    .dataframe tbody tr th:only-of-type {\n        vertical-align: middle;\n    }\n\n    .dataframe tbody tr th {\n        vertical-align: top;\n    }\n\n    .dataframe thead th {\n        text-align: right;\n    }\n</style>\n<table border=\"1\" class=\"dataframe\">\n  <thead>\n    <tr style=\"text-align: right;\">\n      <th></th>\n      <th>val_stress</th>\n      <th>val_stress_spc</th>\n      <th>val_xing</th>\n      <th>val_xing_spc</th>\n      <th>gen_loss</th>\n      <th>stress</th>\n      <th>critic</th>\n    </tr>\n  </thead>\n  <tbody>\n    <tr>\n      <th>epoch 1213</th>\n      <td>1289.82</td>\n      <td>71.34%</td>\n      <td>268.90</td>\n      <td>85.07%</td>\n      <td>3.00e+04</td>\n      <td>-4.55e+02</td>\n      <td>-4.68e+02</td>\n    </tr>\n  </tbody>\n</table>\n</div>",
          "text/plain": "           val_stress val_stress_spc val_xing val_xing_spc  gen_loss  \\\nepoch 1213    1289.82         71.34%   268.90       85.07%  3.00e+04   \n\n               stress     critic  \nepoch 1213  -4.55e+02  -4.68e+02  "
         },
         "metadata": {},
         "output_type": "display_data"
        }
       ]
      }
     },
     "42d8e06d49fd43b8836293f4113ab5fb": {
      "model_module": "@jupyter-widgets/controls",
      "model_module_version": "1.5.0",
      "model_name": "TabModel",
      "state": {
       "_titles": {
        "0": "status",
        "1": "plot",
        "2": "log"
       },
       "children": [
        "IPY_MODEL_a02a7c2809c94cfca66076d9fe2e29b5",
        "IPY_MODEL_d4691b4f1bff40b6adfb670734aaed54",
        "IPY_MODEL_dfc9901ebca34c8fb08861035e6e2563"
       ],
       "layout": "IPY_MODEL_c07db5a642ee42e8950f5bbfda797f39"
      }
     },
     "56592062ea9349adbee4d71faacedbf7": {
      "model_module": "@jupyter-widgets/output",
      "model_module_version": "1.0.0",
      "model_name": "OutputModel",
      "state": {
       "layout": "IPY_MODEL_2dbdc4742fdb4d80b36b37d97a68e6d8",
       "outputs": [
        {
         "name": "stdout",
         "output_type": "stream",
         "text": "[1209] stress=1258.46(70.64%) xing=246.28(82.49%)\n[1210] stress=1280.17(71.05%) xing=255.28(83.62%)\n[1211] stress=1214.01(69.93%) xing=215.93(82.70%)\n[1212] stress=1277.49(70.89%) xing=275.57(84.73%)\n[1213] stress=1289.82(71.34%) xing=268.90(85.07%)\n"
        }
       ]
      }
     },
     "760ea058bdb44ff0afa363b5c09c1cf3": {
      "model_module": "@jupyter-widgets/controls",
      "model_module_version": "1.5.0",
      "model_name": "DescriptionStyleModel",
      "state": {
       "description_width": ""
      }
     },
     "7c1ca766a97e4d3c9998fb4c6e78d70e": {
      "model_module": "@jupyter-widgets/base",
      "model_module_version": "1.2.0",
      "model_name": "LayoutModel",
      "state": {}
     },
     "911a22121a024ed99e8442df1440b6db": {
      "model_module": "@jupyter-widgets/controls",
      "model_module_version": "1.5.0",
      "model_name": "HBoxModel",
      "state": {
       "children": [
        "IPY_MODEL_b4f5ec37dd8046e385db431c840b608b",
        "IPY_MODEL_af8c27a3031e4c37bb59afabc34c02e5",
        "IPY_MODEL_287ae35882d94ce7930979b27626936b"
       ],
       "layout": "IPY_MODEL_a6f20e7413b144c984bbf449f71f5719"
      }
     },
     "944dd52cc7104f759ad66d296ee55689": {
      "model_module": "@jupyter-widgets/base",
      "model_module_version": "1.2.0",
      "model_name": "LayoutModel",
      "state": {
       "height": "500px",
       "overflow_y": "auto"
      }
     },
     "98e6025a9fa945d1a9e27e9bd49df604": {
      "model_module": "@jupyter-widgets/output",
      "model_module_version": "1.0.0",
      "model_name": "OutputModel",
      "state": {
       "layout": "IPY_MODEL_cbf5b15fcc30425788fe241262f1b3c1",
       "outputs": [
        {
         "data": {
          "image/png": "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\n",
          "text/plain": "<Figure size 432x288 with 1 Axes>"
         },
         "metadata": {},
         "output_type": "display_data"
        },
        {
         "data": {
          "image/png": "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\n",
          "text/plain": "<Figure size 432x288 with 1 Axes>"
         },
         "metadata": {},
         "output_type": "display_data"
        },
        {
         "data": {
          "image/png": "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\n",
          "text/plain": "<Figure size 432x288 with 1 Axes>"
         },
         "metadata": {},
         "output_type": "display_data"
        },
        {
         "data": {
          "image/png": "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\n",
          "text/plain": "<Figure size 432x288 with 1 Axes>"
         },
         "metadata": {},
         "output_type": "display_data"
        },
        {
         "data": {
          "image/png": "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\n",
          "text/plain": "<Figure size 432x288 with 1 Axes>"
         },
         "metadata": {},
         "output_type": "display_data"
        }
       ]
      }
     },
     "a02a7c2809c94cfca66076d9fe2e29b5": {
      "model_module": "@jupyter-widgets/controls",
      "model_module_version": "1.5.0",
      "model_name": "VBoxModel",
      "state": {
       "children": [
        "IPY_MODEL_fb706d5729dc43e48f3199a229e1fcfd",
        "IPY_MODEL_33f11b1ab1a044b5b85212e4efc04014"
       ],
       "layout": "IPY_MODEL_eef866af34984d35a6ab15f8a35808f6"
      }
     },
     "a6f20e7413b144c984bbf449f71f5719": {
      "model_module": "@jupyter-widgets/base",
      "model_module_version": "1.2.0",
      "model_name": "LayoutModel",
      "state": {}
     },
     "af8c27a3031e4c37bb59afabc34c02e5": {
      "model_module": "@jupyter-widgets/controls",
      "model_module_version": "1.5.0",
      "model_name": "FloatProgressModel",
      "state": {
       "layout": "IPY_MODEL_7c1ca766a97e4d3c9998fb4c6e78d70e",
       "max": 157,
       "style": "IPY_MODEL_b7d33b7cc00a4b82ad6c40d0358c57ca",
       "value": 127
      }
     },
     "b4f5ec37dd8046e385db431c840b608b": {
      "model_module": "@jupyter-widgets/controls",
      "model_module_version": "1.5.0",
      "model_name": "HTMLModel",
      "state": {
       "layout": "IPY_MODEL_e841878f3ca94538be84be4d8f173feb",
       "style": "IPY_MODEL_c30a6655ed534794a72e01e8e2172b5c",
       "value": "[epoch 1213/None]:  81%"
      }
     },
     "b7d33b7cc00a4b82ad6c40d0358c57ca": {
      "model_module": "@jupyter-widgets/controls",
      "model_module_version": "1.5.0",
      "model_name": "ProgressStyleModel",
      "state": {
       "description_width": ""
      }
     },
     "c07db5a642ee42e8950f5bbfda797f39": {
      "model_module": "@jupyter-widgets/base",
      "model_module_version": "1.2.0",
      "model_name": "LayoutModel",
      "state": {}
     },
     "c30a6655ed534794a72e01e8e2172b5c": {
      "model_module": "@jupyter-widgets/controls",
      "model_module_version": "1.5.0",
      "model_name": "DescriptionStyleModel",
      "state": {
       "description_width": ""
      }
     },
     "c3e21a069852417eb8a7f8f5333b6daa": {
      "model_module": "@jupyter-widgets/base",
      "model_module_version": "1.2.0",
      "model_name": "LayoutModel",
      "state": {}
     },
     "cbf5b15fcc30425788fe241262f1b3c1": {
      "model_module": "@jupyter-widgets/base",
      "model_module_version": "1.2.0",
      "model_name": "LayoutModel",
      "state": {}
     },
     "d4691b4f1bff40b6adfb670734aaed54": {
      "model_module": "@jupyter-widgets/controls",
      "model_module_version": "1.5.0",
      "model_name": "HBoxModel",
      "state": {
       "children": [
        "IPY_MODEL_98e6025a9fa945d1a9e27e9bd49df604"
       ],
       "layout": "IPY_MODEL_2f2ab257413f4f5dae293c585cacf537"
      }
     },
     "dfc9901ebca34c8fb08861035e6e2563": {
      "model_module": "@jupyter-widgets/controls",
      "model_module_version": "1.5.0",
      "model_name": "HBoxModel",
      "state": {
       "children": [
        "IPY_MODEL_56592062ea9349adbee4d71faacedbf7"
       ],
       "layout": "IPY_MODEL_944dd52cc7104f759ad66d296ee55689"
      }
     },
     "e841878f3ca94538be84be4d8f173feb": {
      "model_module": "@jupyter-widgets/base",
      "model_module_version": "1.2.0",
      "model_name": "LayoutModel",
      "state": {}
     },
     "eef866af34984d35a6ab15f8a35808f6": {
      "model_module": "@jupyter-widgets/base",
      "model_module_version": "1.2.0",
      "model_name": "LayoutModel",
      "state": {}
     },
     "fb706d5729dc43e48f3199a229e1fcfd": {
      "model_module": "@jupyter-widgets/output",
      "model_module_version": "1.0.0",
      "model_name": "OutputModel",
      "state": {
       "layout": "IPY_MODEL_251c611ff43247049a2df5af23a3fab1",
       "outputs": [
        {
         "data": {
          "application/vnd.jupyter.widget-view+json": {
           "model_id": "911a22121a024ed99e8442df1440b6db",
           "version_major": 2,
           "version_minor": 0
          },
          "text/plain": "  0%|          | 0/157 [00:00<?, ?it/s]"
         },
         "metadata": {},
         "output_type": "display_data"
        }
       ]
      }
     }
    },
    "version_major": 2,
    "version_minor": 0
   }
  }
 },
 "nbformat": 4,
 "nbformat_minor": 4
}
