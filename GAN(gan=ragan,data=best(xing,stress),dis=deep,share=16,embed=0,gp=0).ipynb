{
 "cells": [
  {
   "cell_type": "markdown",
   "metadata": {
    "id": "wZtYFEhHoBGp"
   },
   "source": [
    "# Import libraries"
   ]
  },
  {
   "cell_type": "code",
   "execution_count": 1,
   "metadata": {
    "id": "KJPfzpxLQI5O"
   },
   "outputs": [],
   "source": [
    "%load_ext autoreload\n",
    "%autoreload 2\n",
    "from deepgd import *"
   ]
  },
  {
   "cell_type": "markdown",
   "metadata": {
    "id": "z4eBEyB1oaJe"
   },
   "source": [
    "# Config"
   ]
  },
  {
   "cell_type": "code",
   "execution_count": 2,
   "metadata": {
    "id": "Q_-MLFhpNvxF"
   },
   "outputs": [],
   "source": [
    "cuda_idx = 0\n",
    "canonicalization = Canonicalization(normalize=Standardization(norm_ord=1),\n",
    "                                    scale=False)\n",
    "config = StaticConfig({\n",
    "    \"name\": 'GAN(gan=ragan,data=best(xing,stress),dis=deep,share=16,embed=0,gp=0)',\n",
    "    \"uid\": None,\n",
    "    \"link\": None,\n",
    "    \"generator\": {\n",
    "        \"params\": {\n",
    "            \"num_blocks\": 9,\n",
    "            \"normalize\": canonicalization\n",
    "        },\n",
    "        \"pretrained\": {\n",
    "            \"name\": None,\n",
    "            \"epoch\": -1,\n",
    "        },\n",
    "        \"optim\": torch.optim.AdamW,\n",
    "        \"lr\" : {\n",
    "            \"initial\": 1e-3,\n",
    "            \"decay\": 0.99,\n",
    "        },\n",
    "    },\n",
    "    \"discriminator\": {\n",
    "        \"params\": {\n",
    "            \"conv\": [2, 16, 16, 16],\n",
    "            \"dense\": [2],\n",
    "            \"shared_depth\": 16,\n",
    "            \"enet_depth\": 0,\n",
    "            \"enet_width\": 64,\n",
    "            \"aggr\": \"add\",\n",
    "            \"normalize\": canonicalization\n",
    "        },\n",
    "        \"pretrained\": {\n",
    "            \"name\": None,\n",
    "            \"epoch\": -1,\n",
    "        },\n",
    "        \"optim\": torch.optim.AdamW,\n",
    "        \"lr\" : {\n",
    "            \"initial\": 1e-3,\n",
    "            \"decay\": 0.99,\n",
    "        },\n",
    "        \"noise\": {\n",
    "            \"std\": 0,\n",
    "            \"decay\": 0.95,\n",
    "        },\n",
    "        \"repeat\": 1,\n",
    "        \"complete\": True,\n",
    "        \"adaptive\": True\n",
    "    },\n",
    "    \"alternate\": \"epoch\",\n",
    "    \"batchsize\": 24,\n",
    "    \"epoch\": {\n",
    "        \"start\": -1,\n",
    "        \"end\": None,\n",
    "    },\n",
    "    \"log_interval\": 1,\n",
    "    \"test\": {\n",
    "        \"name\": \"test\",\n",
    "        \"epoch\": -1,\n",
    "    },\n",
    "    \"gan_flavor\": \"ragan\",\n",
    "    \"gp_weight\": 0,\n",
    "})\n",
    "data_config = StaticConfig({\n",
    "    \"sparse\": False,\n",
    "    \"pivot\": None,\n",
    "    \"init\": \"pmds\",\n",
    "    \"edge\": {\n",
    "        \"index\": \"full_edge_index\",\n",
    "        \"attr\": \"full_edge_attr\",\n",
    "    },\n",
    "})\n",
    "loss_fns = {\n",
    "    Stress(): 1\n",
    "}\n",
    "ctrler_params = {\n",
    "    \"tau\": 0.95,\n",
    "    \"beta\": 1,\n",
    "    \"exploit_rate\": 0.5,\n",
    "    \"warmup\": 2,\n",
    "}\n",
    "paths = StaticConfig({\n",
    "    \"root\": \"artifacts\",\n",
    "    \"checkpoints\": lambda: f\"{paths.root}/checkpoints/{config.name}\",\n",
    "    \"gen_pretrain\": lambda: f\"{paths.root}/checkpoints/{config.generator.pretrained.name}\",\n",
    "    \"dis_pretrain\": lambda: f\"{paths.root}/checkpoints/{config.discriminator.pretrained.name}\",\n",
    "    \"tensorboard\": lambda: f\"{paths.root}/tensorboards/{config.name}\",\n",
    "    \"visualization\": lambda: f\"{paths.root}/visualizations/{config.name}_{config.test.name}\",\n",
    "    \"log\": lambda: f\"{paths.root}/logs/{config.name}.log\",\n",
    "    \"metrics\": lambda suffix: f\"{paths.root}/metrics/{config.name}_{suffix}.pickle\",\n",
    "})"
   ]
  },
  {
   "cell_type": "code",
   "execution_count": 3,
   "metadata": {
    "id": "mdMEAbH10Qaq"
   },
   "outputs": [],
   "source": [
    "if \" \" in config.name:\n",
    "    raise Exception(\"Space is not allowed in model name.\")"
   ]
  },
  {
   "cell_type": "markdown",
   "metadata": {
    "id": "WynW4ZAdBhep"
   },
   "source": [
    "# Prepare"
   ]
  },
  {
   "cell_type": "markdown",
   "metadata": {
    "id": "DR6-vYtr_i_P"
   },
   "source": [
    "## Get log command"
   ]
  },
  {
   "cell_type": "code",
   "execution_count": 4,
   "metadata": {
    "colab": {
     "base_uri": "https://localhost:8080/"
    },
    "id": "9-QpinlslcTO",
    "outputId": "48ae3716-212c-4d46-9efb-b7b4070f73de"
   },
   "outputs": [
    {
     "name": "stdout",
     "output_type": "stream",
     "text": [
      "cd /users/PAS0027/osu10203/deepgd && tail -n1000 -f 'artifacts/logs/GAN(gan=ragan,data=best(xing,stress),dis=deep,share=16,embed=0,gp=0).log'\n"
     ]
    }
   ],
   "source": [
    "print(f\"cd {os.getcwd()} && tail -n1000 -f '{paths.log()}'\")"
   ]
  },
  {
   "cell_type": "code",
   "execution_count": 5,
   "metadata": {},
   "outputs": [
    {
     "name": "stdout",
     "output_type": "stream",
     "text": [
      "tensorboard dev upload --logdir 'artifacts/tensorboards/GAN(gan=ragan,data=best(xing,stress),dis=deep,share=16,embed=0,gp=0)'\n"
     ]
    }
   ],
   "source": [
    "print(f\"tensorboard dev upload --logdir '{paths.tensorboard()}'\")"
   ]
  },
  {
   "cell_type": "markdown",
   "metadata": {
    "id": "innqkwvH_ydD"
   },
   "source": [
    "## Set globals"
   ]
  },
  {
   "cell_type": "code",
   "execution_count": 6,
   "metadata": {
    "id": "Qjq7JlSZlkQR"
   },
   "outputs": [],
   "source": [
    "if cuda_idx is not None and torch.cuda.is_available():\n",
    "    device = f'cuda:{cuda_idx}'\n",
    "    pynvml.nvmlInit()\n",
    "    cuda = pynvml.nvmlDeviceGetHandleByIndex(cuda_idx)\n",
    "else:\n",
    "    device = 'cpu'\n",
    "    cuda =  None\n",
    "np.set_printoptions(precision=2)\n",
    "warnings.filterwarnings(\"ignore\", category=RuntimeWarning)"
   ]
  },
  {
   "cell_type": "markdown",
   "metadata": {
    "id": "0da286l_ApEL"
   },
   "source": [
    "## Load data"
   ]
  },
  {
   "cell_type": "code",
   "execution_count": 7,
   "metadata": {
    "colab": {
     "base_uri": "https://localhost:8080/"
    },
    "id": "RFuSHiZJMU4x",
    "outputId": "54065609-aaea-4536-d79c-73bc73b3f576"
   },
   "outputs": [
    {
     "name": "stdout",
     "output_type": "stream",
     "text": [
      "Load from 'cache/G_list.pickle'\n",
      "Load from 'cache/generate_data_list(list,sparse=False,pivot_mode=None,init_mode=pmds,edge_index=full_edge_index,edge_attr=full_edge_attr,pmds_list=ndarray,gviz_list=ndarray,noisy_layout=True,device=cpu).pickle'\n"
     ]
    },
    {
     "name": "stderr",
     "output_type": "stream",
     "text": [
      "/users/PAS0027/osu10203/.conda/envs/deepgd/lib/python3.9/site-packages/torch_geometric/deprecation.py:13: UserWarning: 'data.DataLoader' is deprecated, use 'loader.DataLoader' instead\n",
      "  warnings.warn(out)\n"
     ]
    }
   ],
   "source": [
    "G_list = load_G_list(data_path='data/rome', index_file='data_index.txt', cache='G_list', cache_prefix='cache/')\n",
    "data_list = generate_data_list(G_list, \n",
    "                               sparse=data_config.sparse, \n",
    "                               pivot_mode=data_config.pivot,\n",
    "                               init_mode=data_config.init,\n",
    "                               edge_index=data_config.edge.index,\n",
    "                               edge_attr=data_config.edge.attr,\n",
    "                               pmds_list=np.load('layouts/rome/pmds.npy', allow_pickle=True),\n",
    "                               gviz_list=np.load('layouts/rome/gviz.npy', allow_pickle=True),\n",
    "                               noisy_layout=True,\n",
    "                               device='cpu', \n",
    "                               cache=True,\n",
    "                               cache_prefix='cache/')\n",
    "train_loader = LazyDeviceMappingDataLoader(data_list[:10000], batch_size=config.batchsize, shuffle=True, device=device)\n",
    "val_loader = LazyDeviceMappingDataLoader(data_list[11000:], batch_size=config.batchsize, shuffle=False, device=device)"
   ]
  },
  {
   "cell_type": "code",
   "execution_count": 8,
   "metadata": {
    "id": "djd1pLt2OxZq"
   },
   "outputs": [],
   "source": [
    "def draw_layout(G, method, draw=True):\n",
    "    if method == 'fa2':\n",
    "        layout = get_fa2_layout(G)\n",
    "    else:\n",
    "        try:\n",
    "            fn = getattr(nx.drawing.layout, f'{method}_layout')\n",
    "            layout = fn(G)\n",
    "        except:\n",
    "            layout = nx.drawing.nx_agraph.graphviz_layout(G, prog=method)\n",
    "    if draw:\n",
    "        nx.draw(G, pos=layout)\n",
    "    return layout"
   ]
  },
  {
   "cell_type": "code",
   "execution_count": 9,
   "metadata": {
    "id": "2vBBw77lR7Em"
   },
   "outputs": [],
   "source": [
    "methods = ['neato', 'dot', 'fdp', 'sfdp', 'twopi', 'circo', 'shell', 'spring', 'circular', 'spectral', 'kamada_kawai', 'fa2', 'pmds']"
   ]
  },
  {
   "cell_type": "code",
   "execution_count": 10,
   "metadata": {
    "id": "dx6VVA9XIc2O"
   },
   "outputs": [],
   "source": [
    "from functools import lru_cache\n",
    "\n",
    "@lru_cache(maxsize=None)\n",
    "def load_pos(method):\n",
    "    return np.load(f'layouts/rome/{method}.npy', allow_pickle=True)"
   ]
  },
  {
   "cell_type": "code",
   "execution_count": 11,
   "metadata": {
    "colab": {
     "base_uri": "https://localhost:8080/",
     "height": 1000,
     "referenced_widgets": [
      "05a37aeeb20049dfa2f97287b3990556",
      "a75afae3adfd4810a0b0991a062535ee",
      "a24ae105ed124595992f7e2e5f909247",
      "01b4cabaf8004dd4b9269b4e6889c498",
      "f3c7c84f2b314bd8b97a7358deaf4fa1",
      "35e4a83e692b4a7bafb46fdf192b2586",
      "62847b5e2678459f845159eef6d4feab",
      "143e81f00313436dacfa246a57108944",
      "e05833f11803400b95ff22246cdc8f2b",
      "53aeede91e074378b5d7f626165655ee",
      "79a43768c1794a10a788a49e5883aa2c"
     ]
    },
    "id": "MSmP-jem9I0X",
    "outputId": "c698f0bf-e96e-4de9-aeda-0b046fc0a03f",
    "scrolled": true,
    "tags": []
   },
   "outputs": [],
   "source": [
    "# best_list = []\n",
    "# best_layout_list = []\n",
    "# for idx, (G, data) in enumerate(zip(tqdm(G_list), data_list)):\n",
    "#     xing, stress, layout = {}, {}, {}\n",
    "#     for m in methods:\n",
    "#         batch = Batch.from_data_list([data])\n",
    "#         pos = load_pos(m)\n",
    "#         p = CanonicalizationByStress()(torch.tensor(pos[idx]).float(), batch)\n",
    "#         x = Xing()(p, batch).item()\n",
    "#         s = Stress()(p, batch).item()\n",
    "#         xing[m] = x\n",
    "#         stress[m] = s\n",
    "#         layout[m] = p.numpy()\n",
    "#         # plt.figure()\n",
    "#         # graph_vis(G, pos[idx])\n",
    "#         # plt.title(f'{m} stress={s:.2f} xing={x}')\n",
    "#     best, *_ = sorted(methods, key=lambda m: (xing[m], stress[m]))\n",
    "#     best_list.append(best)\n",
    "#     best_layout_list.append(layout[best])\n",
    "#     print(f'{best}, xing={xing[best]}, stress={stress[best]:.2f}')"
   ]
  },
  {
   "cell_type": "code",
   "execution_count": 12,
   "metadata": {
    "colab": {
     "base_uri": "https://localhost:8080/"
    },
    "id": "Mx2bZNugdTqa",
    "outputId": "cec05a67-18e8-492f-aaa1-057274a8341a"
   },
   "outputs": [],
   "source": [
    "# pickle.dump(best_list, open('layouts/rome/best[xing,stress].pkl', 'wb'))\n",
    "# np.save('layouts/rome/best[xing,stress].npy', best_layout_list)"
   ]
  },
  {
   "cell_type": "code",
   "execution_count": 13,
   "metadata": {
    "colab": {
     "base_uri": "https://localhost:8080/",
     "height": 49,
     "referenced_widgets": [
      "7e0ae84dd0f3458d893c81b029fe1729",
      "18bdc3bf80fb434abde68de5b72a8870",
      "2e3552ded9594635a51832387ae754a0",
      "54f4aa5080c6498080a63be2cdeefee5",
      "3937586d0879451da5e2138ca3bfd0a0",
      "a9df6e84ce8c499eb2b2cf984995d791",
      "7af6b718dd3d4e01b264377a2fa938e2",
      "a774c86e64004bd6951645f1c24abad4",
      "c86575117cd041f2837762f37d1f387b",
      "6e9907cefb1241688fbd248b8281ed9f",
      "9b8e5405d8264944acab57e81f2f5ad6"
     ]
    },
    "id": "A1-w1fspC53p",
    "outputId": "09c2d5c3-1eef-41eb-dcee-581af1294804"
   },
   "outputs": [
    {
     "data": {
      "application/vnd.jupyter.widget-view+json": {
       "model_id": "320525688b51468ebb8433c73f875035",
       "version_major": 2,
       "version_minor": 0
      },
      "text/plain": [
       "  0%|          | 0/11531 [00:00<?, ?it/s]"
      ]
     },
     "metadata": {},
     "output_type": "display_data"
    }
   ],
   "source": [
    "best_layout_list = np.load('layouts/rome/best[xing,stress].npy', allow_pickle=True)\n",
    "for data, layout in zip(tqdm(data_list), best_layout_list):\n",
    "    data.gt_pos = torch.tensor(layout)"
   ]
  },
  {
   "cell_type": "code",
   "execution_count": 14,
   "metadata": {
    "id": "y6EGh4U7exL_"
   },
   "outputs": [],
   "source": [
    "train_loader = LazyDeviceMappingDataLoader(data_list[:10000], batch_size=config.batchsize, shuffle=True, device=device)\n",
    "val_loader = LazyDeviceMappingDataLoader(data_list[11000:], batch_size=config.batchsize, shuffle=False, device=device)"
   ]
  },
  {
   "cell_type": "code",
   "execution_count": 15,
   "metadata": {
    "colab": {
     "base_uri": "https://localhost:8080/",
     "height": 103,
     "referenced_widgets": [
      "38a33cf69aff48f4aabd4902a7ce48b1",
      "57e277bcb44c4e2fa2a12105d75153d1",
      "20ce017c46bd4a7c9b420270ac579405",
      "13f2df4fe0ce4af88b6e3bd1637065b0",
      "2867faa145ca4860a198d4d0bf830f89",
      "02838cf669174ed9afa41a1a8e680765",
      "7e9e3c031667455f8baca163d3a213e5",
      "4000135e7dfa46529fa6244fccc5cb57",
      "e523e9faac5b4ec38643c05ac5ba99f7",
      "e8e3ee9741e4480dae5003ccc19a7891",
      "9a569045221b43acb3ba2fbf116b2c74"
     ]
    },
    "id": "YEfRRUK0NiNm",
    "outputId": "93f53d05-7667-4cda-a38e-c3a953124f79"
   },
   "outputs": [],
   "source": [
    "# for m in methods:\n",
    "#     layouts = []\n",
    "#     for G in tqdm(G_list):\n",
    "#         layout = draw_layout(G, method=m, draw=False)\n",
    "#         layouts.append(np.array(list(layout.values())))\n",
    "#     np.save(f'layouts/rome/{m}.npy', layouts)"
   ]
  },
  {
   "cell_type": "code",
   "execution_count": 16,
   "metadata": {
    "colab": {
     "base_uri": "https://localhost:8080/",
     "height": 564
    },
    "id": "upK7AHYqPmC5",
    "outputId": "29a88e61-f55f-409c-9194-12c6d5762528"
   },
   "outputs": [],
   "source": [
    "# from collections import Counter\n",
    "\n",
    "# letter_counts = Counter(best_list)\n",
    "# df = pd.DataFrame.from_dict(letter_counts, orient='index')\n",
    "# df.plot(kind='bar', figsize=[12, 8])"
   ]
  },
  {
   "cell_type": "markdown",
   "metadata": {
    "id": "f-ODE2k8BFV6"
   },
   "source": [
    "## Create folders"
   ]
  },
  {
   "cell_type": "code",
   "execution_count": 17,
   "metadata": {
    "id": "3ykUMINYBRog"
   },
   "outputs": [],
   "source": [
    "mkdirs(paths.checkpoints(), paths.tensorboard(), paths.visualization(), f\"{paths.root}/logs\", f\"{paths.root}/metrics\")"
   ]
  },
  {
   "cell_type": "markdown",
   "metadata": {
    "id": "BFq9k5nzBIh5"
   },
   "source": [
    "## Load checkpoints"
   ]
  },
  {
   "cell_type": "code",
   "execution_count": 18,
   "metadata": {
    "id": "W5NbsKkobIfA"
   },
   "outputs": [],
   "source": [
    "class EdgeFeatureDiscriminator(nn.Module):\n",
    "    def __init__(self, \n",
    "                 conv, \n",
    "                 dense,\n",
    "                 shared_depth,\n",
    "                 enet_depth,\n",
    "                 enet_width,\n",
    "                 aggr='add', \n",
    "                 root_weight=True,\n",
    "                 normalize=None):\n",
    "        super().__init__()\n",
    "        self.enet = nn.Sequential(*[\n",
    "            DenseLayer(in_dim=in_d,\n",
    "                       out_dim=out_d,\n",
    "                       skip=nonlin,\n",
    "                       bn=nonlin,\n",
    "                       act=nonlin,\n",
    "                       dp=None)\n",
    "            for in_d, out_d, nonlin \n",
    "            in zip([self._get_feature_dim()] + [enet_width] * (shared_depth-1),\n",
    "                   [enet_width] * shared_depth,\n",
    "                   [True] * (shared_depth-1) + [False])     \n",
    "        ])\n",
    "        self.blocks = nn.ModuleList([\n",
    "            GNNLayer(nfeat_dims=(in_d, out_d),\n",
    "                     efeat_dim=enet_width,\n",
    "                     edge_net=EdgeNet(nfeat_dims=(in_d, out_d), \n",
    "                                      efeat_dim=enet_width, \n",
    "                                      depth=enet_depth, \n",
    "                                      width=enet_width),\n",
    "                     aggr=aggr,\n",
    "                     dense=False,\n",
    "                     skip=nonlin,\n",
    "                     bn=nonlin,\n",
    "                     act=nonlin,\n",
    "                     root_weight=root_weight) \n",
    "            for in_d, out_d, nonlin \n",
    "            in zip(conv[:-1], conv[1:], [True] * (len(conv)-2) + [False])     \n",
    "        ])\n",
    "        self.pool = (gnn.global_mean_pool if aggr == 'mean' \n",
    "                     else gnn.global_add_pool if aggr == 'add' \n",
    "                     else None)\n",
    "        self.dense = nn.Identity() if not dense else nn.Sequential(*[\n",
    "            DenseLayer(in_dim=in_d,\n",
    "                       out_dim=out_d,\n",
    "                       skip=nonlin,\n",
    "                       bn=nonlin,\n",
    "                       act=nonlin,\n",
    "                       dp=None)\n",
    "            for in_d, out_d, nonlin \n",
    "            in zip(conv[-1:] + dense[:-1], dense, [True] * (len(dense)-1) + [False])     \n",
    "        ])\n",
    "        self.normalize = normalize or IdentityTransformation()\n",
    "    \n",
    "    def forward(self, batch):\n",
    "        x = torch.ones_like(batch.pos)\n",
    "        e = self.enet(self._get_features(self._get_edge_info(batch, layout='pos')))\n",
    "        for block in self.blocks:\n",
    "            x = block(x, e, batch)\n",
    "        x = self.pool(x, batch.batch)\n",
    "        x = self.dense(x)\n",
    "        return x\n",
    "    \n",
    "    def _get_edge_info(self, batch, layout='gt_pos'):\n",
    "        pos = self.normalize(batch[layout].float(), batch)\n",
    "        src, dst = get_edges(pos, batch)\n",
    "        v, u = l2_normalize(dst - src, return_norm=True)\n",
    "        d = batch.edge_attr[:, :1]\n",
    "        return {\n",
    "            \"src\": src,\n",
    "            \"dst\": dst,\n",
    "            \"v\": v,\n",
    "            \"u\": u,\n",
    "            \"d\": d,\n",
    "        }\n",
    "\n",
    "    def _get_features(self, edges):\n",
    "        return torch.cat([edges['src'], edges['dst'], edges['d']], dim=1)\n",
    "        \n",
    "    def _get_feature_dim(self):\n",
    "        return self._get_features({\n",
    "            \"src\": torch.zeros(1, 2),\n",
    "            \"dst\": torch.zeros(1, 2),\n",
    "            \"v\": torch.zeros(1, 2),\n",
    "            \"u\": torch.zeros(1, 1),\n",
    "            \"d\": torch.zeros(1, 1),\n",
    "        }).shape[-1]"
   ]
  },
  {
   "cell_type": "code",
   "execution_count": 19,
   "metadata": {
    "id": "96ZActxlL0fJ"
   },
   "outputs": [],
   "source": [
    "class StressDiscriminator(nn.Module):\n",
    "    def __init__(self, normalize=CanonicalizationByStress(), **kwargs):\n",
    "        super().__init__()\n",
    "        self.dummy = nn.Parameter(torch.zeros(1))\n",
    "        self.normalize = normalize\n",
    "        self.stress = Stress(reduce=None)\n",
    "\n",
    "    def forward(self, batch):\n",
    "        return -self.stress(self.normalize(batch.pos, batch), batch)"
   ]
  },
  {
   "cell_type": "code",
   "execution_count": 20,
   "metadata": {
    "id": "IJ6xCYBUuhcw"
   },
   "outputs": [],
   "source": [
    "def get_ckpt_epoch(folder, epoch):\n",
    "    if not os.path.isdir(folder):\n",
    "        os.mkdir(folder)\n",
    "    if epoch >= 0:\n",
    "        return epoch\n",
    "    ckpt_files = os.listdir(folder)\n",
    "    last_epoch = 0\n",
    "    if ckpt_files:\n",
    "        last_epoch = sorted(list(map(lambda x: int(re.search('(?<=epoch_)(\\d+)(?=\\.)', x).group(1)), ckpt_files)))[-1]\n",
    "    return last_epoch + epoch + 1\n",
    "\n",
    "def start_epoch():\n",
    "    return get_ckpt_epoch(paths.checkpoints(), config.epoch.start)"
   ]
  },
  {
   "cell_type": "code",
   "execution_count": 21,
   "metadata": {
    "colab": {
     "base_uri": "https://localhost:8080/"
    },
    "id": "JacDYXka9U01",
    "outputId": "ef4e31ab-2144-497c-8e4f-4d3740ce2d52"
   },
   "outputs": [],
   "source": [
    "generator = Generator(**config.generator.params[...]).to(device)\n",
    "generator_optimizer = config.generator.optim(generator.parameters(), lr=config.generator.lr.initial * config.generator.lr.decay ** start_epoch())\n",
    "generator_scheduler = torch.optim.lr_scheduler.ExponentialLR(generator_optimizer, gamma=config.generator.lr.decay)\n",
    "if start_epoch() != 0:\n",
    "    gen_ckpt_epoch = start_epoch()\n",
    "elif config.generator.pretrained.name is not None and config.generator.pretrained.epoch != 0:\n",
    "    gen_pretrained_epoch = get_ckpt_epoch(paths.gen_pretrain(), config.generator.pretrained.epoch)\n",
    "    gen_ckpt_epoch = gen_pretrained_epoch \n",
    "else:\n",
    "    gen_ckpt_epoch = None\n",
    "if gen_ckpt_epoch is not None:\n",
    "    # Load generator\n",
    "    gen_ckpt_file = f\"{paths.checkpoints()}/gen_epoch_{gen_ckpt_epoch}.pt\"\n",
    "    print(f\"Loading from {gen_ckpt_file}...\")\n",
    "    generator.load_state_dict(torch.load(gen_ckpt_file, map_location=torch.device(device)))\n",
    "    # Load generator optimizer\n",
    "    gen_optim_ckpt_file = f\"{paths.checkpoints()}/gen_optim_epoch_{gen_ckpt_epoch}.pt\"\n",
    "    print(f\"Loading from {gen_optim_ckpt_file}...\")\n",
    "    generator_optimizer.load_state_dict(torch.load(gen_optim_ckpt_file, map_location=torch.device(device)))"
   ]
  },
  {
   "cell_type": "code",
   "execution_count": 22,
   "metadata": {
    "colab": {
     "base_uri": "https://localhost:8080/"
    },
    "id": "oWQhD7-88VXe",
    "outputId": "3ba01600-b546-4e45-a6bd-c7a65af1ae9e"
   },
   "outputs": [],
   "source": [
    "discriminator = EdgeFeatureDiscriminator(**config.discriminator.params[...]).to(device)\n",
    "discriminator_optimizer = config.discriminator.optim(discriminator.parameters(), lr=config.discriminator.lr.initial * config.discriminator.lr.decay ** start_epoch())\n",
    "discriminator_scheduler = torch.optim.lr_scheduler.ExponentialLR(discriminator_optimizer, gamma=config.discriminator.lr.decay)\n",
    "if start_epoch() != 0:\n",
    "    dis_ckpt_epoch = start_epoch()\n",
    "elif config.discriminator.pretrained.name is not None and config.discriminator.pretrained.epoch != 0:\n",
    "    dis_pretrained_epoch = get_ckpt_epoch(paths.dis_pretrain(), config.discriminator.pretrained.epoch)\n",
    "    dis_ckpt_epoch = dis_pretrained_epoch # f\"{paths.dis_pretrain()}/dis_epoch_{dis_pretrained_epoch}.pt\"\n",
    "else:\n",
    "    dis_ckpt_epoch = None\n",
    "if dis_ckpt_epoch is not None:\n",
    "    # Load discriminator\n",
    "    dis_ckpt_file = f\"{paths.checkpoints()}/dis_epoch_{dis_ckpt_epoch}.pt\"\n",
    "    print(f\"Loading from {dis_ckpt_file}...\")\n",
    "    discriminator.load_state_dict(torch.load(dis_ckpt_file, map_location=torch.device(device)))\n",
    "    # Load discriminator optimizer\n",
    "    dis_optim_ckpt_file = f\"{paths.checkpoints()}/dis_optim_epoch_{dis_ckpt_epoch}.pt\"\n",
    "    print(f\"Loading from {dis_optim_ckpt_file}...\")\n",
    "    discriminator_optimizer.load_state_dict(torch.load(dis_optim_ckpt_file, map_location=torch.device(device)))"
   ]
  },
  {
   "cell_type": "markdown",
   "metadata": {
    "id": "N39dDHraedM6"
   },
   "source": [
    "# Train"
   ]
  },
  {
   "cell_type": "code",
   "execution_count": 23,
   "metadata": {
    "id": "BdIJSDSJedM-"
   },
   "outputs": [],
   "source": [
    "stress_criterion = StressDiscriminator().to(device)\n",
    "val_criterion = Stress(reduce=None)\n",
    "xing_criterion = Xing(reduce=None)\n",
    "dis_convert = DiscriminatorDataConverter(complete_graph=config.discriminator.complete, normalize=config.discriminator.params.normalize)\n",
    "tensorboard = SummaryWriter(log_dir=paths.tensorboard())\n",
    "epoch = start_epoch() + 1"
   ]
  },
  {
   "cell_type": "code",
   "execution_count": 24,
   "metadata": {
    "id": "OHRWj1h0edM-"
   },
   "outputs": [],
   "source": [
    "def gradient_penalty(interpolated, discriminator, weight=10):\n",
    "    interpolated.pos.requires_grad_()\n",
    "    prob_interpolated = discriminator(interpolated)\n",
    "    gradients = autograd.grad(outputs=prob_interpolated, \n",
    "                              inputs=interpolated.pos,\n",
    "                              grad_outputs=torch.ones_like(prob_interpolated),\n",
    "                              create_graph=True, \n",
    "                              retain_graph=True, \n",
    "                              allow_unused=True)[0]\n",
    "    gradients_norm = torch.sqrt(gnn.global_add_pool(gradients.square().sum(dim=1), batch.batch) + 1e-8)\n",
    "    return weight * ((gradients_norm - 1) ** 2).mean()"
   ]
  },
  {
   "cell_type": "code",
   "execution_count": 25,
   "metadata": {
    "id": "o5wJJN9AedM_"
   },
   "outputs": [],
   "source": [
    "def get_gp_loss(batch, fake_pos, weight):\n",
    "    if weight > 0:\n",
    "        interp = dis_convert(batch, fake_pos, random.random())\n",
    "        return gradient_penalty(interp, discriminator, weight).mean()\n",
    "    return 0"
   ]
  },
  {
   "cell_type": "code",
   "execution_count": 26,
   "metadata": {
    "id": "QwuA6sRoedM_"
   },
   "outputs": [],
   "source": [
    "def get_sgan_loss(batch, fake_pos, mode='discriminator'):\n",
    "    real = dis_convert(batch)\n",
    "    fake = dis_convert(batch, fake_pos)\n",
    "    pred = discriminator(merge_batch(real, fake)).view(2, -1).T\n",
    "    if mode == 'discriminator':\n",
    "        label = torch.zeros(pred.shape[0]).long()\n",
    "    elif mode == 'generator':\n",
    "        label = torch.ones(pred.shape[0]).long()\n",
    "    else:\n",
    "        raise Exception\n",
    "    return nn.CrossEntropyLoss()(pred, label)"
   ]
  },
  {
   "cell_type": "code",
   "execution_count": 27,
   "metadata": {
    "id": "GuAP1YchedNA"
   },
   "outputs": [],
   "source": [
    "def get_rgan_loss(batch, fake_pos, mode='discriminator'):\n",
    "    real = dis_convert(batch)\n",
    "    fake = dis_convert(batch, fake_pos)\n",
    "    pred = discriminator(merge_batch(real, fake)).view(2, -1).T\n",
    "    real_pred, fake_pred = pred[:,0], pred[:,1]\n",
    "    if mode == 'discriminator':\n",
    "        losses = - F.logsigmoid(real_pred - fake_pred)\n",
    "    elif mode == 'generator':\n",
    "        losses = - F.logsigmoid(fake_pred - real_pred)\n",
    "    else:\n",
    "        raise Exception\n",
    "    return losses.mean()"
   ]
  },
  {
   "cell_type": "code",
   "execution_count": 28,
   "metadata": {
    "id": "KFllQ7BredNA"
   },
   "outputs": [],
   "source": [
    "def get_wgan_loss(batch, fake_pos, mode='discriminator'):\n",
    "    real = dis_convert(batch)\n",
    "    fake = dis_convert(batch, fake_pos)\n",
    "    pred = discriminator(merge_batch(real, fake)).view(2, -1).T\n",
    "    real_pred, fake_pred = pred[:,0], pred[:,1]\n",
    "    if mode == 'discriminator':\n",
    "        losses = fake_pred - real_pred \n",
    "    elif mode == 'generator':\n",
    "        losses = real_pred - fake_pred\n",
    "    else:\n",
    "        raise Exception\n",
    "    return losses.mean()"
   ]
  },
  {
   "cell_type": "code",
   "execution_count": 29,
   "metadata": {
    "id": "r5Kg_tYEedNA"
   },
   "outputs": [],
   "source": [
    "def get_ragan_loss(batch, fake_pos, mode='discriminator'):\n",
    "    real = dis_convert(batch)\n",
    "    fake = dis_convert(batch, fake_pos)\n",
    "    pred = discriminator(merge_batch(real, fake)).view(2, -1).T\n",
    "    real_pred, fake_pred = pred[:,0], pred[:,1]\n",
    "    if mode == 'discriminator':\n",
    "        losses = - F.logsigmoid(real_pred - fake_pred.mean()) - F.logsigmoid(real_pred.mean() - fake_pred)\n",
    "    elif mode == 'generator':\n",
    "        losses = - F.logsigmoid(fake_pred - real_pred.mean()) - F.logsigmoid(fake_pred.mean() - real_pred)\n",
    "    else:\n",
    "        raise Exception\n",
    "    return losses.mean()"
   ]
  },
  {
   "cell_type": "code",
   "execution_count": 30,
   "metadata": {},
   "outputs": [],
   "source": [
    "def get_dgdv2_loss(batch, fake_pos, mode='discriminator'):\n",
    "    fake = dis_convert(batch, fake_pos)\n",
    "    pred = discriminator(fake)\n",
    "    if mode == 'discriminator':\n",
    "        gt = get_gt(batch, fake_pos)\n",
    "        loss = criterion(pred, gt)\n",
    "    elif mode == 'generator':\n",
    "        losses = pred.sum(dim=0)\n",
    "#         losses = torch.tensor(config.importance).to(device) * losses #/ losses.detach()\n",
    "        loss = losses.sum()\n",
    "    else:\n",
    "        raise Exception\n",
    "    return -loss"
   ]
  },
  {
   "cell_type": "code",
   "execution_count": 31,
   "metadata": {
    "id": "3IE_84f-edNB"
   },
   "outputs": [],
   "source": [
    "def get_gan_loss(batch, fake_pos, mode='discriminator'):\n",
    "    return {\"sgan\": get_sgan_loss,\n",
    "            \"wgan\": get_wgan_loss,\n",
    "            \"rgan\": get_rgan_loss,\n",
    "            \"ragan\": get_ragan_loss,\n",
    "            \"dgdv2\": get_dgdv2_loss}[config.gan_flavor](batch, fake_pos, mode)"
   ]
  },
  {
   "cell_type": "code",
   "execution_count": 32,
   "metadata": {
    "colab": {
     "background_save": true,
     "base_uri": "https://localhost:8080/",
     "height": 80
    },
    "id": "2NjekXgkedNB",
    "outputId": "da85b2ec-c0de-459c-c0dd-7ba3519419fa",
    "tags": []
   },
   "outputs": [
    {
     "data": {
      "application/vnd.jupyter.widget-view+json": {
       "model_id": "761a66eacaea4968899d7167dca2e267",
       "version_major": 2,
       "version_minor": 0
      },
      "text/plain": [
       "Tab(children=(VBox(children=(Wrapper(), Hud())), HBox(children=(Output(),), layout=Layout(height='500px', over…"
      ]
     },
     "metadata": {},
     "output_type": "display_data"
    },
    {
     "ename": "KeyboardInterrupt",
     "evalue": "",
     "output_type": "error",
     "traceback": [
      "\u001b[0;31m---------------------------------------------------------------------------\u001b[0m",
      "\u001b[0;31mKeyboardInterrupt\u001b[0m                         Traceback (most recent call last)",
      "\u001b[0;32m/tmp/slurmtmp.5826414/ipykernel_136027/801679965.py\u001b[0m in \u001b[0;36m<module>\u001b[0;34m\u001b[0m\n\u001b[1;32m    133\u001b[0m     \u001b[0;32mif\u001b[0m \u001b[0mconfig\u001b[0m\u001b[0;34m.\u001b[0m\u001b[0malternate\u001b[0m \u001b[0;34m==\u001b[0m \u001b[0;34m'epoch'\u001b[0m\u001b[0;34m:\u001b[0m\u001b[0;34m\u001b[0m\u001b[0;34m\u001b[0m\u001b[0m\n\u001b[1;32m    134\u001b[0m         \u001b[0;32mfor\u001b[0m \u001b[0mbatch\u001b[0m \u001b[0;32min\u001b[0m \u001b[0mtrain_loader\u001b[0m\u001b[0;34m:\u001b[0m\u001b[0;34m\u001b[0m\u001b[0;34m\u001b[0m\u001b[0m\n\u001b[0;32m--> 135\u001b[0;31m             \u001b[0mtrain_gen\u001b[0m\u001b[0;34m(\u001b[0m\u001b[0mbatch\u001b[0m\u001b[0;34m,\u001b[0m \u001b[0mepoch\u001b[0m\u001b[0;34m)\u001b[0m\u001b[0;34m\u001b[0m\u001b[0;34m\u001b[0m\u001b[0m\n\u001b[0m\u001b[1;32m    136\u001b[0m \u001b[0;34m\u001b[0m\u001b[0m\n\u001b[1;32m    137\u001b[0m     \u001b[0mdiscriminator_scheduler\u001b[0m\u001b[0;34m.\u001b[0m\u001b[0mstep\u001b[0m\u001b[0;34m(\u001b[0m\u001b[0;34m)\u001b[0m\u001b[0;34m\u001b[0m\u001b[0;34m\u001b[0m\u001b[0m\n",
      "\u001b[0;32m/tmp/slurmtmp.5826414/ipykernel_136027/801679965.py\u001b[0m in \u001b[0;36mtrain_gen\u001b[0;34m(batch, epoch)\u001b[0m\n\u001b[1;32m     31\u001b[0m \u001b[0;34m\u001b[0m\u001b[0m\n\u001b[1;32m     32\u001b[0m     \u001b[0;31m#train generator\u001b[0m\u001b[0;34m\u001b[0m\u001b[0;34m\u001b[0m\u001b[0m\n\u001b[0;32m---> 33\u001b[0;31m     \u001b[0mgenerator_loss\u001b[0m\u001b[0;34m.\u001b[0m\u001b[0mbackward\u001b[0m\u001b[0;34m(\u001b[0m\u001b[0;34m)\u001b[0m\u001b[0;34m\u001b[0m\u001b[0;34m\u001b[0m\u001b[0m\n\u001b[0m\u001b[1;32m     34\u001b[0m     \u001b[0mgenerator_optimizer\u001b[0m\u001b[0;34m.\u001b[0m\u001b[0mstep\u001b[0m\u001b[0;34m(\u001b[0m\u001b[0;34m)\u001b[0m\u001b[0;34m\u001b[0m\u001b[0;34m\u001b[0m\u001b[0m\n\u001b[1;32m     35\u001b[0m \u001b[0;34m\u001b[0m\u001b[0m\n",
      "\u001b[0;32m~/.conda/envs/deepgd/lib/python3.9/site-packages/torch/_tensor.py\u001b[0m in \u001b[0;36mbackward\u001b[0;34m(self, gradient, retain_graph, create_graph, inputs)\u001b[0m\n\u001b[1;32m    253\u001b[0m                 \u001b[0mcreate_graph\u001b[0m\u001b[0;34m=\u001b[0m\u001b[0mcreate_graph\u001b[0m\u001b[0;34m,\u001b[0m\u001b[0;34m\u001b[0m\u001b[0;34m\u001b[0m\u001b[0m\n\u001b[1;32m    254\u001b[0m                 inputs=inputs)\n\u001b[0;32m--> 255\u001b[0;31m         \u001b[0mtorch\u001b[0m\u001b[0;34m.\u001b[0m\u001b[0mautograd\u001b[0m\u001b[0;34m.\u001b[0m\u001b[0mbackward\u001b[0m\u001b[0;34m(\u001b[0m\u001b[0mself\u001b[0m\u001b[0;34m,\u001b[0m \u001b[0mgradient\u001b[0m\u001b[0;34m,\u001b[0m \u001b[0mretain_graph\u001b[0m\u001b[0;34m,\u001b[0m \u001b[0mcreate_graph\u001b[0m\u001b[0;34m,\u001b[0m \u001b[0minputs\u001b[0m\u001b[0;34m=\u001b[0m\u001b[0minputs\u001b[0m\u001b[0;34m)\u001b[0m\u001b[0;34m\u001b[0m\u001b[0;34m\u001b[0m\u001b[0m\n\u001b[0m\u001b[1;32m    256\u001b[0m \u001b[0;34m\u001b[0m\u001b[0m\n\u001b[1;32m    257\u001b[0m     \u001b[0;32mdef\u001b[0m \u001b[0mregister_hook\u001b[0m\u001b[0;34m(\u001b[0m\u001b[0mself\u001b[0m\u001b[0;34m,\u001b[0m \u001b[0mhook\u001b[0m\u001b[0;34m)\u001b[0m\u001b[0;34m:\u001b[0m\u001b[0;34m\u001b[0m\u001b[0;34m\u001b[0m\u001b[0m\n",
      "\u001b[0;32m~/.conda/envs/deepgd/lib/python3.9/site-packages/torch/autograd/__init__.py\u001b[0m in \u001b[0;36mbackward\u001b[0;34m(tensors, grad_tensors, retain_graph, create_graph, grad_variables, inputs)\u001b[0m\n\u001b[1;32m    145\u001b[0m         \u001b[0mretain_graph\u001b[0m \u001b[0;34m=\u001b[0m \u001b[0mcreate_graph\u001b[0m\u001b[0;34m\u001b[0m\u001b[0;34m\u001b[0m\u001b[0m\n\u001b[1;32m    146\u001b[0m \u001b[0;34m\u001b[0m\u001b[0m\n\u001b[0;32m--> 147\u001b[0;31m     Variable._execution_engine.run_backward(\n\u001b[0m\u001b[1;32m    148\u001b[0m         \u001b[0mtensors\u001b[0m\u001b[0;34m,\u001b[0m \u001b[0mgrad_tensors_\u001b[0m\u001b[0;34m,\u001b[0m \u001b[0mretain_graph\u001b[0m\u001b[0;34m,\u001b[0m \u001b[0mcreate_graph\u001b[0m\u001b[0;34m,\u001b[0m \u001b[0minputs\u001b[0m\u001b[0;34m,\u001b[0m\u001b[0;34m\u001b[0m\u001b[0;34m\u001b[0m\u001b[0m\n\u001b[1;32m    149\u001b[0m         allow_unreachable=True, accumulate_grad=True)  # allow_unreachable flag\n",
      "\u001b[0;31mKeyboardInterrupt\u001b[0m: "
     ]
    }
   ],
   "source": [
    "def train_dis(batch, epoch):\n",
    "    generator.requires_grad_(False)\n",
    "    discriminator.zero_grad()\n",
    "    generator_output = generator(batch)\n",
    "    if config.discriminator.noise.std > 0:\n",
    "        generator_output = generator_output + torch.randn_like(generator_output) * config.discriminator.noise.std * config.discriminator.noise.decay ** epoch\n",
    "    discriminator_loss = get_gan_loss(batch, generator_output, mode='discriminator')\n",
    "    \n",
    "    # train discriminator\n",
    "    discriminator_loss.backward()\n",
    "    discriminator_optimizer.step()\n",
    "\n",
    "    # gradient penalty\n",
    "    if config.gp_weight > 0:\n",
    "        discriminator.zero_grad()\n",
    "        gp_loss = get_gp_loss(batch, generator_output, config.gp_weight)\n",
    "        gp_loss.backward()\n",
    "        discriminator_optimizer.step()\n",
    "\n",
    "    hud['dis_loss'] = format(discriminator_loss.item(), '.2e')\n",
    "    pbar().update()\n",
    "\n",
    "def train_gen(batch, epoch):\n",
    "    generator.requires_grad_(True)\n",
    "    generator.zero_grad()\n",
    "    discriminator.zero_grad()\n",
    "    generator_output = generator(batch)\n",
    "    if config.discriminator.noise.std > 0:\n",
    "        generator_output = generator_output + torch.randn_like(generator_output) * config.discriminator.noise.std * config.discriminator.noise.decay ** epoch\n",
    "    generator_loss = get_gan_loss(batch, generator_output, mode='generator') \n",
    "    \n",
    "    #train generator\n",
    "    generator_loss.backward()\n",
    "    generator_optimizer.step()\n",
    "\n",
    "    with torch.no_grad():\n",
    "        dis_batch = dis_convert(batch, generator_output)\n",
    "        stress = stress_criterion(dis_batch).mean()\n",
    "        critic = discriminator(dis_batch).mean()\n",
    "    hud.append({'gen_loss': format(generator_loss.item(), '.2e'),\n",
    "                'stress': format(stress.item(), '.2e'),\n",
    "                'critic': format(critic.item(), '.2e')})\n",
    "    pbar().update()\n",
    "\n",
    "def cuda_memsafe_map(fn, *iterables, summary=False):\n",
    "    total, failed = 0, 0\n",
    "    iterator = zip(*iterables)\n",
    "    items = None\n",
    "    while True:\n",
    "        try:\n",
    "            items = next(iterator)\n",
    "            yield fn(*items)\n",
    "        except StopIteration:\n",
    "            if summary:\n",
    "                print(f'Iteration finished. {failed} out of {total} failed!')\n",
    "            break\n",
    "        except RuntimeError:\n",
    "            print('CUDA memory overflow! Skip batch...')\n",
    "            del items\n",
    "            failed += 1\n",
    "        torch.cuda.empty_cache()\n",
    "        total += 1\n",
    "    \n",
    "def validate(model, data_loader, criterion=val_criterion):\n",
    "    def val_one_batch(batch):\n",
    "        batch = preprocess_batch(model, batch)\n",
    "        pred = CanonicalizationByStress()(model(batch), batch)\n",
    "        gt = CanonicalizationByStress()(batch.gt_pos, batch)\n",
    "        loss = criterion(pred, batch)\n",
    "        gt_loss = criterion(gt, batch)\n",
    "        spc = (loss - gt_loss) / torch.maximum(torch.maximum(loss, gt_loss), torch.ones_like(loss)*1e-5)\n",
    "        return loss.mean().item(), spc.mean().item()\n",
    "    loss_all, spc_all = zip(*cuda_memsafe_map(val_one_batch, data_loader))\n",
    "    return np.mean(loss_all), np.mean(spc_all)\n",
    "\n",
    "def log(msg):\n",
    "    msg = f\"[{epoch:03}] {msg}\"\n",
    "    print(msg, file=open(paths.log(), \"a\"))\n",
    "    with log_out: \n",
    "        print(msg)\n",
    "\n",
    "print(f\"{'='*10} {config.link} {'='*10}\", file=open(paths.log(), \"a\"))\n",
    "hud = Hud()\n",
    "pbar = Wrapper(tqdm, total=len(train_loader)*2, smoothing=0)\n",
    "plot_out = Output()\n",
    "log_out = Output()\n",
    "tabs = {\"status\": VBox([pbar, hud]), \n",
    "        \"plot\": HBox([plot_out], layout=Layout(height='500px', overflow_y='auto')),\n",
    "        \"log\": HBox([log_out], layout=Layout(height='500px', overflow_y='auto'))}\n",
    "tab_bar = Tab(children=list(tabs.values()))\n",
    "[tab_bar.set_title(i, name) for i, name in enumerate(tabs)]\n",
    "display(tab_bar)\n",
    "while True:\n",
    "    if epoch % config.log_interval == 0:\n",
    "        torch.save(generator.state_dict(), f\"{paths.checkpoints()}/gen_epoch_{epoch}.pt\")\n",
    "        torch.save(generator_optimizer.state_dict(), f\"{paths.checkpoints()}/gen_optim_epoch_{epoch}.pt\")\n",
    "        torch.save(discriminator.state_dict(), f\"{paths.checkpoints()}/dis_epoch_{epoch}.pt\")\n",
    "        torch.save(discriminator_optimizer.state_dict(), f\"{paths.checkpoints()}/dis_optim_epoch_{epoch}.pt\")\n",
    "        generator.eval()\n",
    "        with torch.no_grad():\n",
    "            val_stress, val_stress_spc = validate(model=generator, data_loader=val_loader)\n",
    "            val_xing, val_xing_spc = validate(model=generator, data_loader=val_loader, criterion=xing_criterion)\n",
    "            with plot_out:\n",
    "                fig = plt.figure()\n",
    "                graph_vis(G_list[11100], generator(make_batch(data_list[11100]).to(device)).cpu())\n",
    "                plt.show()\n",
    "        # tensorboard.add_scalars('loss', {'train': train_loss, \n",
    "        #                                  'validation': val_loss}, epoch)\n",
    "        # for i, fn in enumerate(loss_fns):\n",
    "        #     tensorboard.add_scalars(type(fn).__name__, {'train': train_loss_comp[i].item(), \n",
    "        #                                           'validation': val_loss_comp[i].item()}, epoch)\n",
    "        hud.append({\n",
    "            'val_stress': format(val_stress, '.2f'),\n",
    "            'val_stress_spc': format(val_stress_spc, '.2%'),\n",
    "            'val_xing': format(val_xing, '.2f'),\n",
    "            'val_xing_spc': format(val_xing_spc, '.2%'),\n",
    "        })\n",
    "        log(f\"stress={hud.data['val_stress']}({hud.data['val_stress_spc']}) xing={hud.data['val_xing']}({hud.data['val_xing_spc']})\")\n",
    "        \n",
    "    # handle.update(tab_bar)\n",
    "    pbar().reset()\n",
    "    pbar().set_description(desc=f\"[epoch {epoch}/{config.epoch.end}]\")\n",
    "    hud(title=f\"epoch {epoch}\")\n",
    "    generator.train()\n",
    "    discriminator.train()\n",
    "    # proper: proper layout\n",
    "    for _ in range(config.discriminator.repeat):\n",
    "        for batch in train_loader:\n",
    "            train_dis(batch, epoch)\n",
    "            if config.alternate == 'iteration':\n",
    "                train_gen(batch, epoch)\n",
    "\n",
    "    if config.alternate == 'epoch':\n",
    "        for batch in train_loader:\n",
    "            train_gen(batch, epoch)\n",
    "\n",
    "    discriminator_scheduler.step()\n",
    "    generator_scheduler.step()\n",
    "\n",
    "    if epoch == config.epoch.end:\n",
    "        break\n",
    "    epoch += 1"
   ]
  },
  {
   "cell_type": "markdown",
   "metadata": {
    "id": "0qYK_X_hrq9o"
   },
   "source": [
    "# Test"
   ]
  },
  {
   "cell_type": "code",
   "execution_count": null,
   "metadata": {
    "colab": {
     "base_uri": "https://localhost:8080/"
    },
    "id": "XEvmAtNjWhcY",
    "outputId": "9f4c86a4-a4b0-48f1-cb58-ab3679173184"
   },
   "outputs": [],
   "source": [
    "test_epoch = -1\n",
    "\n",
    "test_generator = Generator(**config.generator.params[...]).to(device)\n",
    "test_ckpt_epoch = get_ckpt_epoch(paths.checkpoints(), test_epoch)\n",
    "test_ckpt_file = f\"{paths.checkpoints()}/gen_epoch_{test_ckpt_epoch}.pt\"\n",
    "print(f\"Loading from {test_ckpt_file}...\")\n",
    "test_generator.load_state_dict(torch.load(test_ckpt_file, map_location=torch.device(device)))"
   ]
  },
  {
   "cell_type": "code",
   "execution_count": null,
   "metadata": {
    "colab": {
     "background_save": true,
     "base_uri": "https://localhost:8080/",
     "height": 1000,
     "referenced_widgets": [
      "9b7d18992dbf4a84931f916fbaaa37d8",
      "2c664d7e1e6d474fb87094fc0da270d3",
      "d375f5f82a4645d7b29c541596dc1c7f",
      "ecfa311bb06b4f6fa504598263ff69d3",
      "d1859990877149eab2b414b4e2a0e0c7",
      "d2be6733734844bca3e1db9b49eb1c1e",
      "4d98072bdf674792a13d77e85dd285d1",
      "f7ed92c383d741a0a1cef2536ff2db13",
      "2ba110f835c64ec4b82974996aed10af",
      "09397ceac9014af0aebca848d4d96d48",
      "fd0709f48d6c4527bc00b5f407f3c1b9"
     ]
    },
    "id": "ZubmSTcYrq9o",
    "outputId": "fc2f65a2-2085-43ac-b110-cbfe742318a8",
    "scrolled": true,
    "tags": []
   },
   "outputs": [],
   "source": [
    "rotate = RotateByPrincipalComponents()\n",
    "def test_callback(*, idx, pred, metrics):\n",
    "    # graph_vis(G_list[idx], pred, file_name=f\"{paths.visualization()}/{idx}_{metrics['stress']:.2f}_{metrics['resolution_score']:.2f}.png\")\n",
    "    pred = rotate(torch.tensor(pred), data_list[idx])\n",
    "    graph_vis(G_list[idx], pred)\n",
    "    plt.title(f\"[pred] idx: {idx}, stress: {metrics['stress']:.2f}({metrics['stress_spc']:.2%}), xing: {metrics['xing']:.2f}({metrics['xing_spc']:.2%})\")\n",
    "    plt.show()\n",
    "    gt_pos = rotate(data_list[idx].gt_pos, data_list[idx])\n",
    "    graph_vis(G_list[idx], gt_pos, node_color='orange')\n",
    "    plt.title(f\"[gt] idx: {idx}, stress: {metrics['gt_stress']:.2f}, xing: {metrics['gt_xing']:.2f}\")\n",
    "    plt.show()\n",
    "    \n",
    "test_metrics = test(model=test_generator, \n",
    "                    criteria_list=[], \n",
    "                    dataset=data_list, \n",
    "                    idx_range=range(10000, 11000), \n",
    "                    callback=test_callback,\n",
    "                    gt_file=None)\n",
    "pickle.dump(test_metrics, open(paths.metrics(\"test\"), \"wb\"))"
   ]
  },
  {
   "cell_type": "code",
   "execution_count": null,
   "metadata": {
    "colab": {
     "base_uri": "https://localhost:8080/",
     "height": 318
    },
    "id": "t2rFXIr_PsrJ",
    "outputId": "6a4205b1-4630-4de4-ec72-bdba3d3ea114"
   },
   "outputs": [],
   "source": [
    "metrics = test_metrics\n",
    "print('stress:', metrics['stress'].mean())\n",
    "print('stress_spc:', metrics['stress_spc'].mean())\n",
    "print('xing:', metrics['xing'].mean())\n",
    "print('xing_spc:', metrics['xing_spc'].mean())\n",
    "print('l1_angle:', metrics['l1_angle'].mean())\n",
    "print('l1_angle_spc:', metrics['l1_angle_spc'].mean())\n",
    "print('edge:', metrics['edge'].mean())\n",
    "print('edge_spc:', metrics['edge_spc'].mean())\n",
    "print('ring:', metrics['ring'].mean())\n",
    "print('ring_spc:', metrics['ring_spc'].mean())\n",
    "print('tsne:', metrics['tsne'].mean())\n",
    "print('tsne_spc:', metrics['tsne_spc'].mean())\n",
    "print('reso_score:', metrics['resolution_score'].mean())\n",
    "print('min_angle:', metrics['min_angle'].mean())\n",
    "pd.DataFrame(map(lambda m: f\"{metrics[m].mean().item():.4f}\", list(metrics.keys())[:-1])).T"
   ]
  },
  {
   "cell_type": "code",
   "execution_count": null,
   "metadata": {
    "id": "5e7vPr0M3mmG"
   },
   "outputs": [],
   "source": [
    "metrics = {}"
   ]
  },
  {
   "cell_type": "code",
   "execution_count": null,
   "metadata": {
    "colab": {
     "base_uri": "https://localhost:8080/",
     "height": 433,
     "referenced_widgets": [
      "a0cf6e046add4e639e52db69656e0db9",
      "8e237731bb1241ac858581b25389c012",
      "0891547293ad4211a138a4d92e01bb0b",
      "34912c8e581e47a99a1c4829c38cb75c",
      "5aa034c99c94424e835a2ee954b829ed",
      "248f6393eff74c3eb8740ca6d698045b",
      "686687a29c7f4ec98c4d76ca2062b14b",
      "996a84d1c23b47e4a2af252c6b60f55d",
      "3507f883bb954412b21c1c5641763ed7",
      "9582a849d91e457cadd514c95d6e1b5b",
      "52bfe674c2c547e09b7400a32a96f703",
      "93d58b3a12394fe1aa6f0431fc7cb0db",
      "af1d7855c9d646b0bcc7d95c4cb147a6",
      "f820e2b898cd461da04a4f651d27273d",
      "c0a112cfaa3d4d0aa9530372de84d8fb",
      "fd03985495694fbf9feb3f31ef8d18ce",
      "e02a2b36aa4c4d6fb5d2ac6693c1a927",
      "06f388ff5e3a48828d465096fe69977b",
      "c0052778c9c940e88935593e9f94b83b",
      "99a5e77a192d4a989c4534237eb16730",
      "77c6da092a6647fc9e54f7e276d75616",
      "8c13c0e8b5934117a662a78296bcb1b6",
      "cdcc3bd4235247b48c468c0f6b7682cc",
      "a2c6fa6fef4549cc853fa93b4b18cf95",
      "15cc02a756314083801b5f6798a1948c",
      "24d1c67fe52f452ab0c767e3c1a818aa",
      "c117db25c6fd484a9d0c7f210ccb1ade",
      "b090b60b61084cf692b3066dfac7f0a8",
      "5eab9848059c491b9c6cbac88683f025",
      "e87ffbaa1f204b52b9226337a506b040",
      "cf52198a9e4b46c7b49537a79919c09e",
      "51501227bc064ccbab97c22a679a0750",
      "d1b794a997dc457888a90bf44faee9b4",
      "21a755b50e5047bea797eccf24b35a0c",
      "16e78c3823ec4faf9f9cd9095b218ff5",
      "4ccd332c6b734acd8eff236eaf568dfa",
      "bd60fd13748347e48629df78fa455765",
      "e9187e4ba80b4fafa0334dae2e39aded",
      "4c39ec7c92b4402e8eedcb27beabaab1",
      "59a8194269f943bba571f710ad856973",
      "8e41bc25b9f348b1b85b381547cd60d1",
      "34d0f1529e64437fb25e639b41096072",
      "7e832c7543df43668eb72c0aa6356349",
      "f94162c9c5fe4c2581e3b80beaeb820b",
      "0284946fccf34607b25e1d6d81d4f72a",
      "8e8d4243a3624ba58d760bdf601d5126",
      "b1f0932594fe44f4be4beb8880172871",
      "820bb554d139437b8f6a6997f9002261",
      "459e375d1fe4497cb4197ef88e303c6d",
      "5726814966da46bbba942a114de4b319",
      "448beea5445f4642809801da46aa7e7c",
      "3746c0f0daf04f51805b4c95db20063a",
      "2ff74d1c705348438a32da37910c3300",
      "52f03147b5ab4cb390f9802b7a17a508",
      "5428511d652a47348203e8f3cd2e076d",
      "7b58569bee2e44c5a61a81f9a32c4c01",
      "c5e05d74b9404333a8155304e3497ba2",
      "3ad4e058bde44d87abab780368d49118",
      "8e437049b5c74ff1beddad93e30b19aa",
      "0c61377f4cc34b27ae34bdd6d976d868",
      "9ce35f9a9a23436ea77604513b5c4659",
      "dafbc43ad79c4feda093aefe490fc4b3",
      "497160b6bf80469a89680a03a468c8bb",
      "3265725ecb914981b6f07f68b8a582df",
      "1f0ac20d99d04ffb9ee75613526d3de6",
      "dee0e5716560483b8e2b107566439d94",
      "ca99841a1abd4fbd94927c49aaa711cb",
      "163a44ff1be04583ae7bd62726c55204",
      "f3b727045a0b4b4fabd147ec9c843e14",
      "7c4b4fe859cf48ab99b7e2780a24a539",
      "d9700cffab66480cb81e3722faab4e8b",
      "2c49acc1e0a64aa4b8ec461b0596848e",
      "691817157f43412f9c36002167606b75",
      "d0ae688d71734b56bb348de54e841798",
      "07a364ebcdaa491dbcc2304e4a8dae96",
      "538b277307b1449eaa79a2a91b4741d3",
      "f7b7dd4cbaa5468687b988c5e416a154",
      "877be862a4f045ec8b221097626becb5",
      "1bf37012df0844338ac689d4f6cc8eab",
      "33fe06641be544d3aab2c25cb979416f",
      "68de0d9261fa4e6999967b6f196d149c",
      "7017c5ba1ffc467495aca2689e516f7d",
      "e0997460cc21428695a0c278c6691baf",
      "522443bef4904996b6361ea265c4c56f",
      "dfe044b67917466f971ba84a11956d5e",
      "70b2d0ba1c1d4102841fb963480de1c7",
      "7b158daacd754a40bc0a48fc9ea6fea2",
      "8904f61ff30741e488eacf0e49440f66",
      "685dee6f1e1f4c2983d2d0b8eb90ed00",
      "005155a4d62d48cbbaf3d69614b08d81",
      "d2779dfa620041e4b32a7731926a5982",
      "53048bf27cb24080b4cdf20379302223",
      "0b5bff7794a14a20964da70b87158c2c",
      "ec664e55ea16435590393ae1617cccea",
      "f10d62ef464a45a7935610d869c282e3",
      "5e7c09bc35db4a3a8b9847c6d8478883",
      "987ea331b617446facc81b08bab1f8c4",
      "446c5a687b0d43358ab036d43ce281c3",
      "d89e216f62ae4a9999da1a91dd5e48b9",
      "09d03e7e66f54cafacefbfeda5fd6e5c",
      "d58c680562a44bbd9252e7ec6eebc06c",
      "71ea2594fdd942acac1cc61055438544",
      "fecda4df301b437f9fbfb61a7b593dc0",
      "bcf6741d926248cb92acf627d6557d2b",
      "5bd9868b9bda4f68b500a43916e2d148",
      "4bc5e02035de44ad827c4f881fd75afc",
      "7d80033a955e4feb947ca9cea931d90b",
      "e975c796d80d498992a50f87a2b0105c",
      "028b2ff105904a19a9a3e8ebf66967bb",
      "10dbf2cbdb1943eda6a0acaf5da3fe85",
      "14d59c7acc5e4e07a289db44406a4851",
      "d9447df93d714907bc9c768eb4910352",
      "d4a9ace081bf488680a7e43e0eaed71d",
      "022a60cde19546bfa6ecfb4947615ad9",
      "10c01207d9ba4fe197dc80717fceecc0",
      "f4995936570d4ba1a65e9a66e410b505",
      "b4bf66303e61491385cd616076a11c04",
      "a24ab2bfe7a44263bf60936d6e53ec32",
      "59e2e8ecc9f84d57af7bf44f5bba5df7",
      "be2eb92aab8045a99fd19195c3546b60",
      "e6715db2b048434796e910952cb5eb62",
      "8de2335007ba4a6b9935fa0c514c9f6a",
      "493a4bbe8057437a8c8acf4d03f8dcb0",
      "20b03955acc74e238695717124705520",
      "a89f9507496b4cf8bdd63bdb9bff79c4",
      "9752a1f6c8b6488d9628b8e0c023f10f",
      "61a0bebc687341a7bb3352febc8d4986",
      "07e0ff9c82a444788c60edee70688ca7",
      "4427901f35e54cc48e08527bb402c22a",
      "bd9dafb825954091ba975d71ab8c89ea",
      "7ec0f07bfe51484da38c18dc66d77804",
      "03943afebc4d4b668b54c7a0fd014a37",
      "a7a6b38a76424d738146b6a5786cf2c8",
      "1d1aa4729784470584c0001c1a296008",
      "e0c68ac9b5b442eeb77e6d9ea3c1da42",
      "c858ef9fd9324ab0ab885d85e3c8582f",
      "627bc2899c994a0c96c5d43e89dc77ff",
      "0e2c2f21fa8041038151170992ecb848",
      "2d9bcbf7629a4671bf8755e790276eb7",
      "77a4edf6ab1848a6a6df20c1c07358c6",
      "acf2212d6bb44c729b63281a98377095",
      "0c7a72818da3454190bab7f30a29e249",
      "d865af915b8b4aaa8cec8d40f1f8351d"
     ]
    },
    "id": "s1UnzfID4Ai6",
    "outputId": "3e204e76-68fd-4111-f527-91f6e3b7a3ca"
   },
   "outputs": [],
   "source": [
    "for m in methods:\n",
    "    metrics[m] = test(model=test_generator, \n",
    "                      criteria_list=[], \n",
    "                      dataset=data_list, \n",
    "                      idx_range=range(10000, 11000), \n",
    "                      callback=None,\n",
    "                      gt_pos=load_pos(m))"
   ]
  },
  {
   "cell_type": "code",
   "execution_count": null,
   "metadata": {
    "id": "dQ7hdCtk5u6K"
   },
   "outputs": [],
   "source": [
    "mean_metrics = {key : list(map(lambda m: metrics[key][m].mean().item(), list(metrics[key].keys())[:-1])) for key in metrics}"
   ]
  },
  {
   "cell_type": "code",
   "execution_count": null,
   "metadata": {
    "colab": {
     "base_uri": "https://localhost:8080/",
     "height": 313
    },
    "id": "OGyaCmLXTuvA",
    "outputId": "6c42d9f3-9869-4504-bc9c-d0eedaecfd90"
   },
   "outputs": [],
   "source": [
    "columns = [\n",
    "    'stress',\n",
    "    'stress_spc',\n",
    "    'xing',\n",
    "    'xing_spc',\n",
    "    'l1_angle',\n",
    "    'l1_angle_spc',\n",
    "    'edge',\n",
    "    'edge_spc',\n",
    "    'ring',\n",
    "    'ring_spc',\n",
    "    'tsne',\n",
    "    'tsne_spc',\n",
    "    'reso_score',\n",
    "    'min_angle'\n",
    "]\n",
    "df = pd.DataFrame(mean_metrics).set_axis(columns).T\n",
    "df.style.format({c: \"{:.2%}\" for c in columns if 'spc' in c})"
   ]
  },
  {
   "cell_type": "markdown",
   "metadata": {
    "id": "L5S1HWnHOWIl"
   },
   "source": [
    "# Large Graph"
   ]
  },
  {
   "cell_type": "code",
   "execution_count": null,
   "metadata": {
    "id": "_pefPcV1OZdD"
   },
   "outputs": [],
   "source": [
    "scalability = pd.read_csv(f\"/__artifacts__/data/scalability.csv\", index_col=\"index\")\n",
    "scalability"
   ]
  },
  {
   "cell_type": "code",
   "execution_count": null,
   "metadata": {
    "id": "oMhWAsdvPnTX"
   },
   "outputs": [],
   "source": [
    "rescale = CanonicalizationByStress()\n",
    "stressfn = Stress()\n",
    "rotate = RotateByPrincipalComponents()"
   ]
  },
  {
   "cell_type": "code",
   "execution_count": null,
   "metadata": {
    "id": "LR83OcAaPID5"
   },
   "outputs": [],
   "source": [
    "stress_list = []\n",
    "spc_list = []\n",
    "pmds_list = np.load(\"layouts/new_large_graph/pmds.npy\", allow_pickle=True)\n",
    "gviz_list = np.load(\"layouts/new_large_graph/gviz.npy\", allow_pickle=True)\n",
    "with torch.no_grad():\n",
    "    for idx, col in tqdm(scalability.iterrows(), total=len(scalability)):\n",
    "        # if idx not in [406, 516]: continue\n",
    "        torch.cuda.empty_cache()\n",
    "        G = load_mtx(col['file'])\n",
    "        G.remove_edges_from(nx.selfloop_edges(G))\n",
    "        data = generate_data_list(G, \n",
    "                                sparse=data_config.sparse, \n",
    "                                pivot_mode=data_config.pivot,\n",
    "                                init_mode=data_config.init,\n",
    "                                edge_index=data_config.edge.index,\n",
    "                                edge_attr=data_config.edge.attr,\n",
    "                                pmds_list=pmds_list[idx],\n",
    "                                gviz_list=gviz_list[idx],\n",
    "                                device=device)\n",
    "        batch = Batch.from_data_list([data]).to(device)\n",
    "        # generator.train()\n",
    "        # generator(batch)\n",
    "        generator.eval()\n",
    "        pred = generator(batch)\n",
    "        pos = rotate(rescale(pred, batch), batch)\n",
    "        gt = rotate(rescale(batch.gt_pos, batch), batch)\n",
    "        stress = stressfn(pos, batch).item()\n",
    "        gt_stress = stressfn(gt, batch).item()\n",
    "        spc = (stress - gt_stress) / np.maximum(stress, gt_stress)\n",
    "        stress_list.append(stress)\n",
    "        spc_list.append(spc)\n",
    "\n",
    "        np.save(f\"/__artifacts__/gan_result/data/scalability_{idx}.npy\", pos.cpu().numpy())\n",
    "        graph_attr = dict(node_size=1, \n",
    "                        with_labels=False, \n",
    "                        labels=dict(zip(list(G.nodes), map(lambda n: n if type(n) is int else n[1:], list(G.nodes)))),\n",
    "                        font_color=\"white\", \n",
    "                        font_weight=\"bold\",\n",
    "                        font_size=12,\n",
    "                        width=0.1)\n",
    "\n",
    "        # gt_pos = pickle.load(open(f\"/__artifacts__/data/scalability_{idx}_gt.pkl\", \"rb\"))\n",
    "\n",
    "        plt.figure(figsize=[12, 9])\n",
    "        nx.draw(G, pos=gt.cpu().numpy(), node_color='orange', **graph_attr)\n",
    "        plt.title(f\"neato: large_{idx}\")\n",
    "        plt.axis(\"equal\")\n",
    "        plt.savefig(f\"/__artifacts__/gan_result/output/{idx}_{col['name']}_{col['n']}_{spc}_nx.png\", dpi=300)\n",
    "        plt.show()\n",
    "\n",
    "        plt.figure(figsize=[12, 9])\n",
    "        graph_vis(G, pos.cpu().numpy(), **graph_attr)\n",
    "        plt.title(f\"dgd: large_{idx}, spc={spc:.2%}\")\n",
    "        plt.axis(\"equal\")\n",
    "        plt.savefig(f\"/__artifacts__/gan_result/output/{idx}_{col['name']}_{col['n']}_{spc}_dgd.png\", dpi=300)\n",
    "        plt.show()"
   ]
  },
  {
   "cell_type": "code",
   "execution_count": null,
   "metadata": {
    "id": "gRXTewkYeuq1"
   },
   "outputs": [],
   "source": []
  }
 ],
 "metadata": {
  "accelerator": "GPU",
  "colab": {
   "collapsed_sections": [
    "w_p3OD0woiSM",
    "DR6-vYtr_i_P",
    "innqkwvH_ydD",
    "f-ODE2k8BFV6",
    "N39dDHraedM6"
   ],
   "machine_shape": "hm",
   "name": "GAN(gan=rgan,data=best(xing,stress),dis=deep,share=16,embed=0,gp=0).ipynb",
   "provenance": []
  },
  "kernelspec": {
   "display_name": "DeepGD",
   "language": "python",
   "name": "deepgd"
  },
  "language_info": {
   "codemirror_mode": {
    "name": "ipython",
    "version": 3
   },
   "file_extension": ".py",
   "mimetype": "text/x-python",
   "name": "python",
   "nbconvert_exporter": "python",
   "pygments_lexer": "ipython3",
   "version": "3.9.7"
  },
  "widgets": {
   "application/vnd.jupyter.widget-state+json": {
    "state": {
     "0dc5c92e150b4beead544edbdacb5d7e": {
      "model_module": "@jupyter-widgets/controls",
      "model_module_version": "1.5.0",
      "model_name": "ProgressStyleModel",
      "state": {
       "description_width": ""
      }
     },
     "131428a8588a40758481a6363edec35f": {
      "model_module": "@jupyter-widgets/base",
      "model_module_version": "1.2.0",
      "model_name": "LayoutModel",
      "state": {}
     },
     "1e71d0e981bf44ef842f044aa0adb156": {
      "model_module": "@jupyter-widgets/base",
      "model_module_version": "1.2.0",
      "model_name": "LayoutModel",
      "state": {}
     },
     "26b451c0720f40a2a0c5918669fae807": {
      "model_module": "@jupyter-widgets/controls",
      "model_module_version": "1.5.0",
      "model_name": "FloatProgressModel",
      "state": {
       "layout": "IPY_MODEL_90da82df9d814c12941d401a9da3e1f9",
       "max": 834,
       "style": "IPY_MODEL_5e3845b01a28402aab96fedf0de11c49",
       "value": 486
      }
     },
     "275cb8b2a23842e68ad9f7ffdfa61a87": {
      "model_module": "@jupyter-widgets/base",
      "model_module_version": "1.2.0",
      "model_name": "LayoutModel",
      "state": {}
     },
     "320525688b51468ebb8433c73f875035": {
      "model_module": "@jupyter-widgets/controls",
      "model_module_version": "1.5.0",
      "model_name": "HBoxModel",
      "state": {
       "children": [
        "IPY_MODEL_7b83c3101cb54cf99e3821ac14e812dd",
        "IPY_MODEL_96170833a98b47f88f32837b63a2d945",
        "IPY_MODEL_caa73c6199844264a48322266a8b5699"
       ],
       "layout": "IPY_MODEL_1e71d0e981bf44ef842f044aa0adb156"
      }
     },
     "56ca35c6aa5e41cebe0c4d492c9d839b": {
      "model_module": "@jupyter-widgets/controls",
      "model_module_version": "1.5.0",
      "model_name": "HBoxModel",
      "state": {
       "children": [
        "IPY_MODEL_b15d6e0eddd740018436d02f29b795cf"
       ],
       "layout": "IPY_MODEL_916bedc2806c4dc8b9fbd806edd3e07c"
      }
     },
     "584dda1579cf46608a1188532ef3840f": {
      "model_module": "@jupyter-widgets/base",
      "model_module_version": "1.2.0",
      "model_name": "LayoutModel",
      "state": {}
     },
     "5c00ad55b2d943e5821bd90db6cd2b4d": {
      "model_module": "@jupyter-widgets/controls",
      "model_module_version": "1.5.0",
      "model_name": "HTMLModel",
      "state": {
       "layout": "IPY_MODEL_dd128c45b23948cbbc80cda07496aa4b",
       "style": "IPY_MODEL_7f21d927ad494bebb1a8b41de5f12365",
       "value": " 486/834 [01:16&lt;00:54,  6.33it/s]"
      }
     },
     "5cc7da6ee3ad45b4a86ffba08f0efb3e": {
      "model_module": "@jupyter-widgets/base",
      "model_module_version": "1.2.0",
      "model_name": "LayoutModel",
      "state": {}
     },
     "5e3845b01a28402aab96fedf0de11c49": {
      "model_module": "@jupyter-widgets/controls",
      "model_module_version": "1.5.0",
      "model_name": "ProgressStyleModel",
      "state": {
       "description_width": ""
      }
     },
     "6ca01b4b891a490587c9f9c1d087ba2b": {
      "model_module": "@jupyter-widgets/controls",
      "model_module_version": "1.5.0",
      "model_name": "HBoxModel",
      "state": {
       "children": [
        "IPY_MODEL_af26a702c07940e39884a851a0bcb694",
        "IPY_MODEL_26b451c0720f40a2a0c5918669fae807",
        "IPY_MODEL_5c00ad55b2d943e5821bd90db6cd2b4d"
       ],
       "layout": "IPY_MODEL_9c826deaf64e4aa79151a919ad69d212"
      }
     },
     "709b0caa9ec24f4cbc7ea09257ba9cf9": {
      "model_module": "@jupyter-widgets/base",
      "model_module_version": "1.2.0",
      "model_name": "LayoutModel",
      "state": {}
     },
     "761a66eacaea4968899d7167dca2e267": {
      "model_module": "@jupyter-widgets/controls",
      "model_module_version": "1.5.0",
      "model_name": "TabModel",
      "state": {
       "_titles": {
        "0": "status",
        "1": "plot",
        "2": "log"
       },
       "children": [
        "IPY_MODEL_9821b91f1f1d46d394956b5aad5d512a",
        "IPY_MODEL_56ca35c6aa5e41cebe0c4d492c9d839b",
        "IPY_MODEL_892686c2f4ee4004a67e9b28fdd2e76c"
       ],
       "layout": "IPY_MODEL_aeff7cdf80a642928cf02d75226100bb"
      }
     },
     "76cd19ea599240f4a486cb0e8aaa7262": {
      "model_module": "@jupyter-widgets/controls",
      "model_module_version": "1.5.0",
      "model_name": "DescriptionStyleModel",
      "state": {
       "description_width": ""
      }
     },
     "7b83c3101cb54cf99e3821ac14e812dd": {
      "model_module": "@jupyter-widgets/controls",
      "model_module_version": "1.5.0",
      "model_name": "HTMLModel",
      "state": {
       "layout": "IPY_MODEL_275cb8b2a23842e68ad9f7ffdfa61a87",
       "style": "IPY_MODEL_d78657bd97ea49c0a14581f74b2ef2d4",
       "value": "100%"
      }
     },
     "7f21d927ad494bebb1a8b41de5f12365": {
      "model_module": "@jupyter-widgets/controls",
      "model_module_version": "1.5.0",
      "model_name": "DescriptionStyleModel",
      "state": {
       "description_width": ""
      }
     },
     "878f1fc9cd5e426eb3081dc6797a45a1": {
      "model_module": "@jupyter-widgets/controls",
      "model_module_version": "1.5.0",
      "model_name": "DescriptionStyleModel",
      "state": {
       "description_width": ""
      }
     },
     "892686c2f4ee4004a67e9b28fdd2e76c": {
      "model_module": "@jupyter-widgets/controls",
      "model_module_version": "1.5.0",
      "model_name": "HBoxModel",
      "state": {
       "children": [
        "IPY_MODEL_f52536855f3a4f67b7d3cabe08897ce6"
       ],
       "layout": "IPY_MODEL_a9c38780cbec4e01b4000a934e879eae"
      }
     },
     "8cbd8c954bb94ecfacee3f44970ccf91": {
      "model_module": "@jupyter-widgets/base",
      "model_module_version": "1.2.0",
      "model_name": "LayoutModel",
      "state": {}
     },
     "90da82df9d814c12941d401a9da3e1f9": {
      "model_module": "@jupyter-widgets/base",
      "model_module_version": "1.2.0",
      "model_name": "LayoutModel",
      "state": {}
     },
     "916bedc2806c4dc8b9fbd806edd3e07c": {
      "model_module": "@jupyter-widgets/base",
      "model_module_version": "1.2.0",
      "model_name": "LayoutModel",
      "state": {
       "height": "500px",
       "overflow_y": "auto"
      }
     },
     "96170833a98b47f88f32837b63a2d945": {
      "model_module": "@jupyter-widgets/controls",
      "model_module_version": "1.5.0",
      "model_name": "FloatProgressModel",
      "state": {
       "bar_style": "success",
       "layout": "IPY_MODEL_709b0caa9ec24f4cbc7ea09257ba9cf9",
       "max": 11531,
       "style": "IPY_MODEL_0dc5c92e150b4beead544edbdacb5d7e",
       "value": 11531
      }
     },
     "9821b91f1f1d46d394956b5aad5d512a": {
      "model_module": "@jupyter-widgets/controls",
      "model_module_version": "1.5.0",
      "model_name": "VBoxModel",
      "state": {
       "children": [
        "IPY_MODEL_db2eb446f2a44f249d17c5ae8a0a9a89",
        "IPY_MODEL_da106543809840519d5bcfc7d8534943"
       ],
       "layout": "IPY_MODEL_131428a8588a40758481a6363edec35f"
      }
     },
     "9c826deaf64e4aa79151a919ad69d212": {
      "model_module": "@jupyter-widgets/base",
      "model_module_version": "1.2.0",
      "model_name": "LayoutModel",
      "state": {}
     },
     "9cbd5b567f494553a10598fa495c22ed": {
      "model_module": "@jupyter-widgets/base",
      "model_module_version": "1.2.0",
      "model_name": "LayoutModel",
      "state": {}
     },
     "a9c38780cbec4e01b4000a934e879eae": {
      "model_module": "@jupyter-widgets/base",
      "model_module_version": "1.2.0",
      "model_name": "LayoutModel",
      "state": {
       "height": "500px",
       "overflow_y": "auto"
      }
     },
     "aeff7cdf80a642928cf02d75226100bb": {
      "model_module": "@jupyter-widgets/base",
      "model_module_version": "1.2.0",
      "model_name": "LayoutModel",
      "state": {}
     },
     "af26a702c07940e39884a851a0bcb694": {
      "model_module": "@jupyter-widgets/controls",
      "model_module_version": "1.5.0",
      "model_name": "HTMLModel",
      "state": {
       "layout": "IPY_MODEL_584dda1579cf46608a1188532ef3840f",
       "style": "IPY_MODEL_76cd19ea599240f4a486cb0e8aaa7262",
       "value": "[epoch 1/None]:  58%"
      }
     },
     "b15d6e0eddd740018436d02f29b795cf": {
      "model_module": "@jupyter-widgets/output",
      "model_module_version": "1.0.0",
      "model_name": "OutputModel",
      "state": {
       "layout": "IPY_MODEL_9cbd5b567f494553a10598fa495c22ed",
       "outputs": [
        {
         "data": {
          "image/png": "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\n",
          "text/plain": "<Figure size 432x288 with 1 Axes>"
         },
         "metadata": {},
         "output_type": "display_data"
        }
       ]
      }
     },
     "caa73c6199844264a48322266a8b5699": {
      "model_module": "@jupyter-widgets/controls",
      "model_module_version": "1.5.0",
      "model_name": "HTMLModel",
      "state": {
       "layout": "IPY_MODEL_fd33ffafc4e24ed8a075f154525c05a1",
       "style": "IPY_MODEL_878f1fc9cd5e426eb3081dc6797a45a1",
       "value": " 11531/11531 [00:00&lt;00:00, 80121.36it/s]"
      }
     },
     "d78657bd97ea49c0a14581f74b2ef2d4": {
      "model_module": "@jupyter-widgets/controls",
      "model_module_version": "1.5.0",
      "model_name": "DescriptionStyleModel",
      "state": {
       "description_width": ""
      }
     },
     "da106543809840519d5bcfc7d8534943": {
      "model_module": "@jupyter-widgets/output",
      "model_module_version": "1.0.0",
      "model_name": "OutputModel",
      "state": {
       "layout": "IPY_MODEL_8cbd8c954bb94ecfacee3f44970ccf91",
       "outputs": [
        {
         "data": {
          "text/html": "<div>\n<style scoped>\n    .dataframe tbody tr th:only-of-type {\n        vertical-align: middle;\n    }\n\n    .dataframe tbody tr th {\n        vertical-align: top;\n    }\n\n    .dataframe thead th {\n        text-align: right;\n    }\n</style>\n<table border=\"1\" class=\"dataframe\">\n  <thead>\n    <tr style=\"text-align: right;\">\n      <th></th>\n      <th>val_stress</th>\n      <th>val_stress_spc</th>\n      <th>val_xing</th>\n      <th>val_xing_spc</th>\n      <th>dis_loss</th>\n      <th>gen_loss</th>\n      <th>stress</th>\n      <th>critic</th>\n    </tr>\n  </thead>\n  <tbody>\n    <tr>\n      <th>epoch 1</th>\n      <td>1320.57</td>\n      <td>72.97%</td>\n      <td>147.09</td>\n      <td>85.47%</td>\n      <td>8.62e+02</td>\n      <td>3.13e+04</td>\n      <td>-1.12e+03</td>\n      <td>-6.13e+03</td>\n    </tr>\n  </tbody>\n</table>\n</div>",
          "text/plain": "        val_stress val_stress_spc val_xing val_xing_spc  dis_loss  gen_loss  \\\nepoch 1    1320.57         72.97%   147.09       85.47%  8.62e+02  3.13e+04   \n\n            stress     critic  \nepoch 1  -1.12e+03  -6.13e+03  "
         },
         "metadata": {},
         "output_type": "display_data"
        }
       ]
      }
     },
     "db2eb446f2a44f249d17c5ae8a0a9a89": {
      "model_module": "@jupyter-widgets/output",
      "model_module_version": "1.0.0",
      "model_name": "OutputModel",
      "state": {
       "layout": "IPY_MODEL_f073c204fb2042948f08f0f72cc2e077",
       "outputs": [
        {
         "data": {
          "application/vnd.jupyter.widget-view+json": {
           "model_id": "6ca01b4b891a490587c9f9c1d087ba2b",
           "version_major": 2,
           "version_minor": 0
          },
          "text/plain": "  0%|          | 0/834 [00:00<?, ?it/s]"
         },
         "metadata": {},
         "output_type": "display_data"
        }
       ]
      }
     },
     "dd128c45b23948cbbc80cda07496aa4b": {
      "model_module": "@jupyter-widgets/base",
      "model_module_version": "1.2.0",
      "model_name": "LayoutModel",
      "state": {}
     },
     "f073c204fb2042948f08f0f72cc2e077": {
      "model_module": "@jupyter-widgets/base",
      "model_module_version": "1.2.0",
      "model_name": "LayoutModel",
      "state": {}
     },
     "f52536855f3a4f67b7d3cabe08897ce6": {
      "model_module": "@jupyter-widgets/output",
      "model_module_version": "1.0.0",
      "model_name": "OutputModel",
      "state": {
       "layout": "IPY_MODEL_5cc7da6ee3ad45b4a86ffba08f0efb3e",
       "outputs": [
        {
         "name": "stdout",
         "output_type": "stream",
         "text": "[001] stress=1320.57(72.97%) xing=147.09(85.47%)\n"
        }
       ]
      }
     },
     "fd33ffafc4e24ed8a075f154525c05a1": {
      "model_module": "@jupyter-widgets/base",
      "model_module_version": "1.2.0",
      "model_name": "LayoutModel",
      "state": {}
     }
    },
    "version_major": 2,
    "version_minor": 0
   }
  }
 },
 "nbformat": 4,
 "nbformat_minor": 4
}
