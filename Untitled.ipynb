{
 "cells": [
  {
   "cell_type": "code",
   "execution_count": 1,
   "id": "b9efed99-82e2-400a-9eec-35fdd5ab92c5",
   "metadata": {},
   "outputs": [],
   "source": [
    "from deepgd import *"
   ]
  },
  {
   "cell_type": "code",
   "execution_count": 21,
   "id": "edc2d503-2f0f-402c-9b76-96d5482e2dad",
   "metadata": {},
   "outputs": [],
   "source": [
    "class Test:\n",
    "    \n",
    "    def __init__(self):\n",
    "        self._x = 0\n",
    "    \n",
    "    @property\n",
    "    def x(self):\n",
    "        return self._x\n",
    "    \n",
    "    @x.setter\n",
    "    def x(self, value):\n",
    "        print(f'setting x to {value}')\n",
    "        self._x = value\n",
    "        \n",
    "    @x.deleter\n",
    "    def x(self):\n",
    "        print(f'resetting x')\n",
    "        self._x = 0\n",
    "        \n",
    "    def __repr__(self):\n",
    "        return str(self.x)"
   ]
  },
  {
   "cell_type": "code",
   "execution_count": 22,
   "id": "e5f1056e-213c-476d-a573-cbd3c43f7e1d",
   "metadata": {},
   "outputs": [],
   "source": [
    "t = Test()"
   ]
  },
  {
   "cell_type": "code",
   "execution_count": 1,
   "id": "60821ff8-35ac-4db2-bdc0-c726584a7719",
   "metadata": {},
   "outputs": [],
   "source": [
    "from lib.tools import *"
   ]
  },
  {
   "cell_type": "code",
   "execution_count": 11,
   "id": "921d75d9-971d-427f-becd-c2ba9530bfe6",
   "metadata": {},
   "outputs": [
    {
     "data": {
      "text/html": [
       "<div>\n",
       "<style scoped>\n",
       "    .dataframe tbody tr th:only-of-type {\n",
       "        vertical-align: middle;\n",
       "    }\n",
       "\n",
       "    .dataframe tbody tr th {\n",
       "        vertical-align: top;\n",
       "    }\n",
       "\n",
       "    .dataframe thead th {\n",
       "        text-align: right;\n",
       "    }\n",
       "</style>\n",
       "<table border=\"1\" class=\"dataframe\">\n",
       "  <thead>\n",
       "    <tr style=\"text-align: right;\">\n",
       "      <th></th>\n",
       "      <th>b</th>\n",
       "    </tr>\n",
       "  </thead>\n",
       "  <tbody>\n",
       "    <tr>\n",
       "      <th></th>\n",
       "      <td>6</td>\n",
       "    </tr>\n",
       "  </tbody>\n",
       "</table>\n",
       "</div>"
      ],
      "text/plain": [
       "  b\n",
       "  6"
      ]
     },
     "metadata": {},
     "output_type": "display_data"
    },
    {
     "data": {
      "text/html": [
       "<div>\n",
       "<style scoped>\n",
       "    .dataframe tbody tr th:only-of-type {\n",
       "        vertical-align: middle;\n",
       "    }\n",
       "\n",
       "    .dataframe tbody tr th {\n",
       "        vertical-align: top;\n",
       "    }\n",
       "\n",
       "    .dataframe thead th {\n",
       "        text-align: right;\n",
       "    }\n",
       "</style>\n",
       "<table border=\"1\" class=\"dataframe\">\n",
       "  <thead>\n",
       "    <tr style=\"text-align: right;\">\n",
       "      <th></th>\n",
       "      <th>b</th>\n",
       "    </tr>\n",
       "  </thead>\n",
       "  <tbody>\n",
       "    <tr>\n",
       "      <th></th>\n",
       "      <td>6</td>\n",
       "    </tr>\n",
       "  </tbody>\n",
       "</table>\n",
       "</div>"
      ],
      "text/plain": [
       "  b\n",
       "  6"
      ]
     },
     "metadata": {},
     "output_type": "display_data"
    }
   ],
   "source": [
    "hud = Hud('test')\n",
    "hud2 = Hud(id=hud.id)"
   ]
  },
  {
   "cell_type": "code",
   "execution_count": null,
   "id": "154eadda-cbed-4831-a2c4-957c31b1f690",
   "metadata": {},
   "outputs": [],
   "source": [
    "print(1)"
   ]
  },
  {
   "cell_type": "code",
   "execution_count": 13,
   "id": "f3777547-ed75-499b-ac20-16c0337d1cd5",
   "metadata": {},
   "outputs": [],
   "source": [
    "hud['b'] = 6"
   ]
  },
  {
   "cell_type": "code",
   "execution_count": 10,
   "id": "cbdf18c2-e08b-43bb-9354-5a96155ca2bb",
   "metadata": {},
   "outputs": [],
   "source": [
    "hud({'c': 6}, index='test')"
   ]
  },
  {
   "cell_type": "code",
   "execution_count": null,
   "id": "e3352bfb-429c-4674-9484-9eff7a4931ce",
   "metadata": {},
   "outputs": [],
   "source": [
    "import lib"
   ]
  },
  {
   "cell_type": "code",
   "execution_count": null,
   "id": "7e94bc9d-2951-49d4-a88f-c7a0ab18d36b",
   "metadata": {},
   "outputs": [],
   "source": [
    "import test"
   ]
  },
  {
   "cell_type": "markdown",
   "id": "b2dc125d-693a-4746-b692-3b912fc8d4a0",
   "metadata": {},
   "source": [
    "$$\n",
    "\\begin{align}\n",
    "n &= |V| \\\\\n",
    "r &= \\frac{1}{n} \\sum_{i=0}^{n} \\|\\mathbf{p}_i - \\bar{\\mathbf{p}}\\|_2 \\\\\n",
    "\\widetilde{\\mathbf{p}} &= s \\cdot \\mathbf{p}\\\\\n",
    "\\widetilde{r} &= \\frac{1}{n} \\sum_{i=0}^{n} \\|\\widetilde{\\mathbf{p}}_i - \\bar{\\widetilde{\\mathbf{p}}}\\|_2\n",
    "\\end{align}\n",
    "$$\n",
    "\n",
    "$$\n",
    "\\begin{align}\n",
    "\\text{Hope: } \\text{area} = \\pi \\widetilde{r}^2 &\\propto n \\\\\n",
    "\\widetilde{r} &\\propto \\sqrt{n} \\\\\n",
    "\\widetilde{r} &= k \\sqrt{n} \\\\\n",
    "\\frac{1}{n} \\sum_{i=0}^{n} \\|\\widetilde{\\mathbf{p}}_i - \\bar{\\widetilde{\\mathbf{p}}}\\|_2 &= k \\sqrt{n} \\\\\n",
    "\\frac{1}{n} \\sum_{i=0}^{n} \\|s\\mathbf{p}_i - s\\bar{\\mathbf{p}}\\|_2 &= k \\sqrt{n} \\\\\n",
    "\\frac{s}{n} \\sum_{i=0}^{n} \\|\\mathbf{p}_i - \\bar{\\mathbf{p}}\\|_2 &= k \\sqrt{n} \\\\\n",
    "s \\cdot r &= k \\sqrt{n} \\\\\n",
    "s &= \\frac{k \\sqrt{n}}{r}\n",
    "\\end{align}\n",
    "$$\n",
    "\n",
    "$$\n",
    "\\begin{align}\n",
    "\\widetilde{\\mathbf{p}} &= s \\cdot (\\mathbf{p} - \\bar{\\mathbf{p}}) + \\bar{\\mathbf{p}}\n",
    "\\end{align}\n",
    "$$"
   ]
  },
  {
   "cell_type": "markdown",
   "id": "25ede75c-ffcb-47b6-bc56-5b77b2f26419",
   "metadata": {},
   "source": [
    "\\begin{align}\n",
    "n &= |V| \\\\\n",
    "r &= \\frac{1}{n} \\sum_{i=0}^{n} \\|\\mathbf{p}_i - \\bar{\\mathbf{p}}\\|_2 \\\\\n",
    "\\widetilde{\\mathbf{p}} &= s \\cdot \\mathbf{p}\\\\\n",
    "\\widetilde{r} &= \\frac{1}{n} \\sum_{i=0}^{n} \\|\\widetilde{\\mathbf{p}}_i - \\bar{\\widetilde{\\mathbf{p}}}\\|_2\n",
    "\\end{align}\n",
    "$$\n",
    "\n",
    "$$\n",
    "\\begin{align}\n",
    "\\text{Hope: } \\text{area} = \\pi \\widetilde{r}^2 &\\propto n \\\\\n",
    "\\widetilde{r} &\\propto \\sqrt{n} \\\\\n",
    "\\widetilde{r} &= k \\sqrt{n} \\\\\n",
    "\\frac{1}{n} \\sum_{i=0}^{n} \\|\\widetilde{\\mathbf{p}}_i - \\bar{\\widetilde{\\mathbf{p}}}\\|_2 &= k \\sqrt{n} \\\\\n",
    "\\frac{1}{n} \\sum_{i=0}^{n} \\|s\\mathbf{p}_i - s\\bar{\\mathbf{p}}\\|_2 &= k \\sqrt{n} \\\\\n",
    "\\frac{s}{n} \\sum_{i=0}^{n} \\|\\mathbf{p}_i - \\bar{\\mathbf{p}}\\|_2 &= k \\sqrt{n} \\\\\n",
    "s \\cdot r &= k \\sqrt{n} \\\\\n",
    "s &= \\frac{k \\sqrt{n}}{r}\n",
    "\\end{align}\n",
    "$$\n",
    "\n",
    "$$\n",
    "\\begin{align}\n",
    "\\widetilde{\\mathbf{p}} &= s \\cdot (\\mathbf{p} - \\bar{\\mathbf{p}}) + \\bar{\\mathbf{p}}\n",
    "\\end{align}\n",
    "$$"
   ]
  },
  {
   "cell_type": "code",
   "execution_count": null,
   "id": "ceba4375-734d-4718-8fc3-83d8d794b394",
   "metadata": {},
   "outputs": [],
   "source": [
    "class RescaleByDensity(nn.Module):\n",
    "    def __init__(self, return_scale=False):\n",
    "        super().__init__()\n",
    "        self.return_scale = return_scale\n",
    "        self.center = ZeroCenter(return_center=True)\n",
    "        \n",
    "    def forward(self, pos, data):\n",
    "        batch = make_batch(data)\n",
    "        centered_pos, center = self.center(pos, batch)\n",
    "        radius = torch.linalg.norm(centered_pos, dim=1)\n",
    "        scale =  torch_scatter.scatter(radius, batch.batch, reduce='mean') / torch.sqrt(batch.n)\n",
    "        scaled_pos = centered_pos / scale[batch.batch][:, None] + center[batch.batch]\n",
    "        if self.return_scale:\n",
    "            return scaled_pos, scale\n",
    "        return scaled_pos"
   ]
  },
  {
   "cell_type": "markdown",
   "id": "e86705ea-a0b8-440c-8a70-c341c32876c9",
   "metadata": {},
   "source": [
    "$$\n",
    "\\begin{align}\n",
    "R &= \\text{eigv}(\\text{cov}(\\mathbf{p})) & \\text{s.t. } R = R^{-1}\\\\\n",
    "\\widetilde{\\mathbf{p}} &= R \\cdot (\\mathbf{p} - \\bar{\\mathbf{p}}) + \\bar{\\mathbf{p}}\n",
    "\\end{align}\n",
    "$$"
   ]
  },
  {
   "cell_type": "code",
   "execution_count": null,
   "id": "41cf1b1a-c977-4fe5-82b7-95d13b0ba839",
   "metadata": {},
   "outputs": [],
   "source": [
    "class RotateByPCA(nn.Module):\n",
    "    def __init__(self, angle=0, return_rotation=False):\n",
    "        super().__init__()\n",
    "        self.base_rotation = torch.tensor([[-np.sin(angle), np.cos(angle)],\n",
    "                                           [ np.cos(angle), np.sin(angle)]]).float()\n",
    "        self.return_rotation = return_rotation\n",
    "        self.center = ZeroCenter(return_center=True)\n",
    "        \n",
    "    def forward(self, pos, data):\n",
    "        batch = make_batch(data)\n",
    "        centered_pos, center = self.center(pos, batch)\n",
    "        XXT = torch.einsum('ni,nj->nij', centered_pos, centered_pos)\n",
    "        cov = torch_scatter.scatter(XXT, batch.batch, dim=0, reduce='mean')\n",
    "        rotation = torch.linalg.eigh(cov).eigenvectors\n",
    "        rotated_pos = torch.einsum('ij,njk,nk->ni', \n",
    "                                   self.base_rotation.to(pos.device),\n",
    "                                   rotation[batch.batch], \n",
    "                                   centered_pos) + center[batch.batch]\n",
    "        if self.return_rotation:\n",
    "            return rotated_pos, rotation\n",
    "        return rotated_pos"
   ]
  },
  {
   "cell_type": "markdown",
   "id": "4d2e83d4-b19c-47a4-b29e-b4962f6c57c0",
   "metadata": {},
   "source": [
    "$$\n",
    "\\begin{align}\n",
    "U \\otimes D &= \\begin{bmatrix} u^{-2} \\\\ u^{-1} \\\\ u^0 \\\\ u^1 \\\\ u^2 \\end{bmatrix} \\begin{bmatrix} d^{-2} & d^{-1} & d^0 & d^1 & d^2 \\end{bmatrix} \\\\\n",
    "&= \\begin{bmatrix} \n",
    "    u^{-2}d^{-2} & u^{-2}d^{-1} & u^{-2}d^{0} & u^{-2}d^{1} & u^{-2}d^{2} \\\\ \n",
    "    u^{-1}d^{-2} & u^{-1}d^{-1} & u^{-1}d^{0} & u^{-1}d^{1} & u^{-1}d^{2} \\\\ \n",
    "    u^{0}d^{-2} & u^{0}d^{-1} & u^{0}d^{0} & u^{0}d^{1} & u^{0}d^{2} \\\\ \n",
    "    u^{1}d^{-2} & u^{1}d^{-1} & u^{1}d^{0} & u^{1}d^{1} & u^{1}d^{2} \\\\ \n",
    "    u^{2}d^{-2} & u^{2}d^{-1} & u^{2}d^{0} & u^{2}d^{1} & u^{2}d^{2} \\\\ \n",
    "\\end{bmatrix}\n",
    "\\end{align}\n",
    "$$"
   ]
  },
  {
   "cell_type": "code",
   "execution_count": 22,
   "id": "0f5d5224-fd39-40a6-b140-386684b8e858",
   "metadata": {
    "collapsed": true,
    "jupyter": {
     "outputs_hidden": true
    },
    "tags": []
   },
   "outputs": [
    {
     "data": {
      "text/latex": [
       "$$\n",
       "\\text{Normalized RMSE} = \\sqrt{\n",
       "    \\frac{1}{n} \\sum_{i=0}^n \\frac{\n",
       "        |\\mathbf{x}_i - \\mathbf{y}_i| ^ 2\n",
       "    } {\n",
       "        \\text{Var}(\\mathbf{x})\n",
       "    }\n",
       "}\n",
       "$$\n"
      ],
      "text/plain": [
       "<IPython.core.display.Latex object>"
      ]
     },
     "metadata": {},
     "output_type": "display_data"
    }
   ],
   "source": [
    "%%latex\n",
    "$$\n",
    "\\text{Normalized RMSE} = \\sqrt{\n",
    "    \\frac{1}{n} \\sum_{i=0}^n \\frac{\n",
    "        |\\mathbf{x}_i - \\mathbf{y}_i| ^ 2\n",
    "    } {\n",
    "        \\text{Var}(\\mathbf{x})\n",
    "    }\n",
    "}\n",
    "$$"
   ]
  },
  {
   "cell_type": "markdown",
   "id": "8cfe7161-5ac3-42c2-8dc3-f7c454fef09c",
   "metadata": {},
   "source": [
    "$$\n",
    "\\text{Normalized RMSE} = \\sqrt{\n",
    "    \\frac{1}{n} \\sum_{i=0}^n \\frac{\n",
    "        |\\mathbf{x}_i - \\mathbf{y}_i| ^ 2\n",
    "    } {\n",
    "        \\text{Var}(\\mathbf{x})\n",
    "    }\n",
    "}\n",
    "$$"
   ]
  },
  {
   "cell_type": "code",
   "execution_count": 48,
   "id": "e83a6507-25fa-4896-aacb-63a30b142f1b",
   "metadata": {
    "collapsed": true,
    "jupyter": {
     "outputs_hidden": true
    },
    "tags": []
   },
   "outputs": [
    {
     "data": {
      "text/latex": [
       "\\begin{align}\n",
       "\\frac{d}{dk} \\sum \\big(k\\cdot\\mathbf{x} - |\\mathbf{y}-\\mathbf{x}|\\big) ^ 2 &= 0 \\\\\n",
       "\\sum \\frac{d}{dk} \\big(k\\cdot\\mathbf{x} - |\\mathbf{y}-\\mathbf{x}|\\big) ^ 2 &= 0 \\\\\n",
       "\\sum 2\\mathbf{x}^2 k - 2\\mathbf{x} |\\mathbf{y}-\\mathbf{x}| &= 0 \\\\\n",
       "\\sum \\mathbf{x}^2 k - \\mathbf{x} |\\mathbf{y}-\\mathbf{x}| &= 0 \\\\\n",
       "k \\cdot \\sum \\mathbf{x}^2 &= \\sum \\mathbf{x}|\\mathbf{y}-\\mathbf{x}| \\\\\n",
       "k &= \\frac{\n",
       "    \\sum \\mathbf{x}|\\mathbf{y}-\\mathbf{x}|\n",
       "} {\n",
       "    \\sum \\mathbf{x}^2\n",
       "} \n",
       "\\end{align}\n",
       "\n",
       "$$\n",
       "\\text{Average Error Ratio} = \\frac{\n",
       "    \\sum \\mathbf{x}|\\mathbf{y}-\\mathbf{x}|\n",
       "} {\n",
       "    \\sum \\mathbf{x}^2\n",
       "} \n",
       "$$\n"
      ],
      "text/plain": [
       "<IPython.core.display.Latex object>"
      ]
     },
     "metadata": {},
     "output_type": "display_data"
    }
   ],
   "source": [
    "%%latex\n",
    "\\begin{align}\n",
    "\\frac{d}{dk} \\sum \\big(k\\cdot\\mathbf{x} - |\\mathbf{y}-\\mathbf{x}|\\big) ^ 2 &= 0 \\\\\n",
    "\\sum \\frac{d}{dk} \\big(k\\cdot\\mathbf{x} - |\\mathbf{y}-\\mathbf{x}|\\big) ^ 2 &= 0 \\\\\n",
    "\\sum 2\\mathbf{x}^2 k - 2\\mathbf{x} |\\mathbf{y}-\\mathbf{x}| &= 0 \\\\\n",
    "\\sum \\mathbf{x}^2 k - \\mathbf{x} |\\mathbf{y}-\\mathbf{x}| &= 0 \\\\\n",
    "k \\cdot \\sum \\mathbf{x}^2 &= \\sum \\mathbf{x}|\\mathbf{y}-\\mathbf{x}| \\\\\n",
    "k &= \\frac{\n",
    "    \\sum \\mathbf{x}|\\mathbf{y}-\\mathbf{x}|\n",
    "} {\n",
    "    \\sum \\mathbf{x}^2\n",
    "} \n",
    "\\end{align}\n",
    "\n",
    "$$\n",
    "\\text{Average Error Ratio} = \\frac{\n",
    "    \\sum \\mathbf{x}|\\mathbf{y}-\\mathbf{x}|\n",
    "} {\n",
    "    \\sum \\mathbf{x}^2\n",
    "} \n",
    "$$"
   ]
  },
  {
   "cell_type": "markdown",
   "id": "f75b21bd-5a50-452f-987c-28c802b8f42a",
   "metadata": {},
   "source": [
    "$$\n",
    "\\text{Average Error Ratio} = \\frac{\n",
    "    \\sum \\mathbf{x}|\\mathbf{y}-\\mathbf{x}|\n",
    "} {\n",
    "    \\sum \\mathbf{x}^2\n",
    "} \n",
    "$$\n",
    "\n",
    "\n",
    "\\begin{align}\n",
    "\\text{Derivation:} \\\\\n",
    "\\frac{d}{dk} \\sum \\big(k\\cdot\\mathbf{x} - |\\mathbf{y}-\\mathbf{x}|\\big) ^ 2 &= 0 \\\\\n",
    "\\sum \\frac{d}{dk} \\big(k\\cdot\\mathbf{x} - |\\mathbf{y}-\\mathbf{x}|\\big) ^ 2 &= 0 \\\\\n",
    "\\sum 2\\mathbf{x}^2 k - 2\\mathbf{x} |\\mathbf{y}-\\mathbf{x}| &= 0 \\\\\n",
    "\\sum \\mathbf{x}^2 k - \\mathbf{x} |\\mathbf{y}-\\mathbf{x}| &= 0 \\\\\n",
    "k \\cdot \\sum \\mathbf{x}^2 &= \\sum \\mathbf{x}|\\mathbf{y}-\\mathbf{x}| \\\\\n",
    "k &= \\frac{\n",
    "    \\sum \\mathbf{x}|\\mathbf{y}-\\mathbf{x}|\n",
    "} {\n",
    "    \\sum \\mathbf{x}^2\n",
    "} \n",
    "\\end{align}"
   ]
  },
  {
   "cell_type": "code",
   "execution_count": 54,
   "id": "da076e3c-bd6b-4a8c-9bcb-7bceaaca2898",
   "metadata": {
    "tags": []
   },
   "outputs": [
    {
     "data": {
      "text/latex": [
       "$$\n",
       "\\text{Normalized Covariance} = \\frac{1}{n} \\sum_{i=0}^n \\frac {\n",
       "    (\\mathbf{x}_i - \\bar{\\mathbf{x}}) \\cdot (\\mathbf{y}_i - \\bar{\\mathbf{y}})\n",
       "} {\n",
       "    \\text{Std}(\\mathbf{x}) \\cdot \\text{Std}(\\mathbf{y})\n",
       "}\n",
       "$$\n"
      ],
      "text/plain": [
       "<IPython.core.display.Latex object>"
      ]
     },
     "metadata": {},
     "output_type": "display_data"
    }
   ],
   "source": [
    "%%latex\n",
    "$$\n",
    "\\text{Normalized Covariance} = \\frac{1}{n} \\sum_{i=0}^n \\frac {\n",
    "    (\\mathbf{x}_i - \\bar{\\mathbf{x}}) \\cdot (\\mathbf{y}_i - \\bar{\\mathbf{y}})\n",
    "} {\n",
    "    \\text{Std}(\\mathbf{x}) \\cdot \\text{Std}(\\mathbf{y})\n",
    "}\n",
    "$$"
   ]
  },
  {
   "cell_type": "markdown",
   "id": "4c39aa7f-c087-4f6c-9d3f-7aea2b33143d",
   "metadata": {},
   "source": [
    "$$\n",
    "\\text{Normalized Covariance} = \\frac{1}{n} \\sum_{i=0}^n \\frac {\n",
    "    (\\mathbf{x}_i - \\bar{\\mathbf{x}}) \\cdot (\\mathbf{y}_i - \\bar{\\mathbf{y}})\n",
    "} {\n",
    "    \\text{Std}(\\mathbf{x}) \\cdot \\text{Std}(\\mathbf{y})\n",
    "}\n",
    "$$"
   ]
  },
  {
   "cell_type": "code",
   "execution_count": 60,
   "id": "f0f22bf2-b2ac-46e4-a598-1e5447089aaa",
   "metadata": {},
   "outputs": [
    {
     "data": {
      "application/javascript": [
       "alert('Hello World!')"
      ],
      "text/plain": [
       "<IPython.core.display.Javascript object>"
      ]
     },
     "metadata": {},
     "output_type": "display_data"
    }
   ],
   "source": [
    "from IPython.display import Javascript\n",
    "display(Javascript(\"alert('Hello World!')\"))"
   ]
  },
  {
   "cell_type": "markdown",
   "id": "71f9f52d-fb7b-43d8-8bc9-38a7080146bc",
   "metadata": {},
   "source": [
    "$$\n",
    "\\text{Average Stress} =\n",
    "\\frac{1}{|E^*|}\n",
    "\\sum_{(u,v) \\in E^*}\n",
    "\\frac{1}{d_{u,v}^2}\n",
    "\\big(\n",
    "    d_{u,v} - \\|\\textbf{p}_u-\\textbf{p}_v\\|_2\n",
    "\\big)^2\n",
    "$$"
   ]
  },
  {
   "cell_type": "code",
   "execution_count": null,
   "id": "6e5f15a5-e80b-4142-9927-6a4c4cb995e6",
   "metadata": {},
   "outputs": [],
   "source": [
    "import ipywidgets as widgets\n",
    "children = [widgets.Output() for i in range(5)]\n",
    "tab = widgets.Tab(children)\n",
    "[tab.set_title(i, str(i)) for i in range(5)]\n",
    "tab"
   ]
  },
  {
   "cell_type": "code",
   "execution_count": 2,
   "id": "28e13865-c3de-430a-89d4-69830cbec73c",
   "metadata": {},
   "outputs": [
    {
     "data": {
      "text/plain": [
       "'8.0.0a5'"
      ]
     },
     "execution_count": 2,
     "metadata": {},
     "output_type": "execute_result"
    }
   ],
   "source": [
    "widgets.__version__"
   ]
  },
  {
   "cell_type": "code",
   "execution_count": 3,
   "id": "9a30ae73-73aa-4591-ae44-7dfa6b5c4330",
   "metadata": {},
   "outputs": [],
   "source": [
    "class A:\n",
    "    class B:\n",
    "        pass\n",
    "    \n",
    "    def __init__(self):\n",
    "        print(self.B())"
   ]
  },
  {
   "cell_type": "code",
   "execution_count": 4,
   "id": "70eb4b4f-4378-415b-9b12-5538799424e0",
   "metadata": {},
   "outputs": [
    {
     "name": "stdout",
     "output_type": "stream",
     "text": [
      "<__main__.A.B object at 0x10948ecd0>\n"
     ]
    },
    {
     "data": {
      "text/plain": [
       "<__main__.A at 0x10948e880>"
      ]
     },
     "execution_count": 4,
     "metadata": {},
     "output_type": "execute_result"
    }
   ],
   "source": [
    "A()"
   ]
  },
  {
   "cell_type": "code",
   "execution_count": 5,
   "id": "294c7e14-dcc4-45dd-971d-f60322fc58cf",
   "metadata": {},
   "outputs": [],
   "source": [
    "from dataclasses import dataclass"
   ]
  },
  {
   "cell_type": "code",
   "execution_count": 6,
   "id": "9272b9e2-d885-444a-8d73-b28fe5a9696e",
   "metadata": {},
   "outputs": [],
   "source": [
    "import torch"
   ]
  },
  {
   "cell_type": "code",
   "execution_count": 23,
   "id": "5cf1fd93-cdde-4458-b592-9e13803b7c7c",
   "metadata": {},
   "outputs": [],
   "source": [
    "import torch.nn as nn\n",
    "import torch.nn.functional as F"
   ]
  },
  {
   "cell_type": "code",
   "execution_count": 31,
   "id": "3b1d3b9e-4e18-45d4-8682-e06ea3abf541",
   "metadata": {},
   "outputs": [],
   "source": [
    "@dataclass\n",
    "class A(nn.Module):\n",
    "    a: _\n",
    "    b: Optional[str]\n",
    "    \n",
    "    def __post_init__(self):\n",
    "        super().__init__()\n",
    "        print(self.a, self.b)"
   ]
  },
  {
   "cell_type": "code",
   "execution_count": 32,
   "id": "63b6dd47-2ebf-4e32-a3ed-9a8355a55a28",
   "metadata": {},
   "outputs": [
    {
     "name": "stdout",
     "output_type": "stream",
     "text": [
      "1 a\n"
     ]
    },
    {
     "data": {
      "text/plain": [
       "A(a=1, b='a')"
      ]
     },
     "execution_count": 32,
     "metadata": {},
     "output_type": "execute_result"
    }
   ],
   "source": [
    "A(a=1, b='a')"
   ]
  },
  {
   "cell_type": "code",
   "execution_count": 10,
   "id": "d2a36c53-51b1-406a-ab10-7e7b4b455dc5",
   "metadata": {},
   "outputs": [],
   "source": [
    "import sys"
   ]
  },
  {
   "cell_type": "code",
   "execution_count": 11,
   "id": "0c9233c9-ebb2-4df1-af17-dbb111719480",
   "metadata": {},
   "outputs": [
    {
     "data": {
      "text/plain": [
       "'3.9.6 | packaged by conda-forge | (default, Jul 11 2021, 03:36:15) \\n[Clang 11.1.0 ]'"
      ]
     },
     "execution_count": 11,
     "metadata": {},
     "output_type": "execute_result"
    }
   ],
   "source": [
    "sys.version"
   ]
  },
  {
   "cell_type": "code",
   "execution_count": 21,
   "id": "3b1dbce6-383f-46b9-a638-cda34d228dfc",
   "metadata": {},
   "outputs": [],
   "source": [
    "from typing import Optional"
   ]
  },
  {
   "cell_type": "code",
   "execution_count": 22,
   "id": "75815a41-c2f0-43c3-a942-6a4e9ce46b21",
   "metadata": {},
   "outputs": [
    {
     "data": {
      "text/plain": [
       "typing.Optional[int]"
      ]
     },
     "execution_count": 22,
     "metadata": {},
     "output_type": "execute_result"
    }
   ],
   "source": [
    "Optional[int]"
   ]
  },
  {
   "cell_type": "code",
   "execution_count": 24,
   "id": "6362e5c8-0029-45b0-8307-a0e8945303d0",
   "metadata": {},
   "outputs": [
    {
     "ename": "TypeError",
     "evalue": "torch.nn.functional.relu is not a Module subclass",
     "output_type": "error",
     "traceback": [
      "\u001b[0;31m---------------------------------------------------------------------------\u001b[0m",
      "\u001b[0;31mTypeError\u001b[0m                                 Traceback (most recent call last)",
      "\u001b[0;32m/var/folders/8r/3cqw5w7105xfsj57ks8fl5t40000gn/T/ipykernel_45249/1411342754.py\u001b[0m in \u001b[0;36m<module>\u001b[0;34m\u001b[0m\n\u001b[0;32m----> 1\u001b[0;31m \u001b[0mnn\u001b[0m\u001b[0;34m.\u001b[0m\u001b[0mSequential\u001b[0m\u001b[0;34m(\u001b[0m\u001b[0mnn\u001b[0m\u001b[0;34m.\u001b[0m\u001b[0mLinear\u001b[0m\u001b[0;34m(\u001b[0m\u001b[0;36m1\u001b[0m\u001b[0;34m,\u001b[0m \u001b[0;36m1\u001b[0m\u001b[0;34m)\u001b[0m\u001b[0;34m,\u001b[0m \u001b[0mF\u001b[0m\u001b[0;34m.\u001b[0m\u001b[0mrelu\u001b[0m\u001b[0;34m)\u001b[0m\u001b[0;34m\u001b[0m\u001b[0;34m\u001b[0m\u001b[0m\n\u001b[0m",
      "\u001b[0;32m/usr/local/anaconda3/lib/python3.9/site-packages/torch/nn/modules/container.py\u001b[0m in \u001b[0;36m__init__\u001b[0;34m(self, *args)\u001b[0m\n\u001b[1;32m     67\u001b[0m         \u001b[0;32melse\u001b[0m\u001b[0;34m:\u001b[0m\u001b[0;34m\u001b[0m\u001b[0;34m\u001b[0m\u001b[0m\n\u001b[1;32m     68\u001b[0m             \u001b[0;32mfor\u001b[0m \u001b[0midx\u001b[0m\u001b[0;34m,\u001b[0m \u001b[0mmodule\u001b[0m \u001b[0;32min\u001b[0m \u001b[0menumerate\u001b[0m\u001b[0;34m(\u001b[0m\u001b[0margs\u001b[0m\u001b[0;34m)\u001b[0m\u001b[0;34m:\u001b[0m\u001b[0;34m\u001b[0m\u001b[0;34m\u001b[0m\u001b[0m\n\u001b[0;32m---> 69\u001b[0;31m                 \u001b[0mself\u001b[0m\u001b[0;34m.\u001b[0m\u001b[0madd_module\u001b[0m\u001b[0;34m(\u001b[0m\u001b[0mstr\u001b[0m\u001b[0;34m(\u001b[0m\u001b[0midx\u001b[0m\u001b[0;34m)\u001b[0m\u001b[0;34m,\u001b[0m \u001b[0mmodule\u001b[0m\u001b[0;34m)\u001b[0m\u001b[0;34m\u001b[0m\u001b[0;34m\u001b[0m\u001b[0m\n\u001b[0m\u001b[1;32m     70\u001b[0m \u001b[0;34m\u001b[0m\u001b[0m\n\u001b[1;32m     71\u001b[0m     \u001b[0;32mdef\u001b[0m \u001b[0m_get_item_by_idx\u001b[0m\u001b[0;34m(\u001b[0m\u001b[0mself\u001b[0m\u001b[0;34m,\u001b[0m \u001b[0miterator\u001b[0m\u001b[0;34m,\u001b[0m \u001b[0midx\u001b[0m\u001b[0;34m)\u001b[0m \u001b[0;34m->\u001b[0m \u001b[0mT\u001b[0m\u001b[0;34m:\u001b[0m\u001b[0;34m\u001b[0m\u001b[0;34m\u001b[0m\u001b[0m\n",
      "\u001b[0;32m/usr/local/anaconda3/lib/python3.9/site-packages/torch/nn/modules/module.py\u001b[0m in \u001b[0;36madd_module\u001b[0;34m(self, name, module)\u001b[0m\n\u001b[1;32m    370\u001b[0m         \"\"\"\n\u001b[1;32m    371\u001b[0m         \u001b[0;32mif\u001b[0m \u001b[0;32mnot\u001b[0m \u001b[0misinstance\u001b[0m\u001b[0;34m(\u001b[0m\u001b[0mmodule\u001b[0m\u001b[0;34m,\u001b[0m \u001b[0mModule\u001b[0m\u001b[0;34m)\u001b[0m \u001b[0;32mand\u001b[0m \u001b[0mmodule\u001b[0m \u001b[0;32mis\u001b[0m \u001b[0;32mnot\u001b[0m \u001b[0;32mNone\u001b[0m\u001b[0;34m:\u001b[0m\u001b[0;34m\u001b[0m\u001b[0;34m\u001b[0m\u001b[0m\n\u001b[0;32m--> 372\u001b[0;31m             raise TypeError(\"{} is not a Module subclass\".format(\n\u001b[0m\u001b[1;32m    373\u001b[0m                 torch.typename(module)))\n\u001b[1;32m    374\u001b[0m         \u001b[0;32melif\u001b[0m \u001b[0;32mnot\u001b[0m \u001b[0misinstance\u001b[0m\u001b[0;34m(\u001b[0m\u001b[0mname\u001b[0m\u001b[0;34m,\u001b[0m \u001b[0mtorch\u001b[0m\u001b[0;34m.\u001b[0m\u001b[0m_six\u001b[0m\u001b[0;34m.\u001b[0m\u001b[0mstring_classes\u001b[0m\u001b[0;34m)\u001b[0m\u001b[0;34m:\u001b[0m\u001b[0;34m\u001b[0m\u001b[0;34m\u001b[0m\u001b[0m\n",
      "\u001b[0;31mTypeError\u001b[0m: torch.nn.functional.relu is not a Module subclass"
     ]
    }
   ],
   "source": [
    "nn.Sequential(nn.Linear(1, 1), F.relu)"
   ]
  },
  {
   "cell_type": "code",
   "execution_count": 26,
   "id": "c853879d-4f89-447f-bfd5-6163eecb8388",
   "metadata": {},
   "outputs": [
    {
     "data": {
      "text/plain": [
       "list[int]"
      ]
     },
     "execution_count": 26,
     "metadata": {},
     "output_type": "execute_result"
    }
   ],
   "source": [
    "list[int]"
   ]
  },
  {
   "cell_type": "code",
   "execution_count": 34,
   "id": "374ef297-aaa9-41cd-ab64-59e24b435571",
   "metadata": {},
   "outputs": [],
   "source": [
    "a: _\n",
    "b: _"
   ]
  },
  {
   "cell_type": "code",
   "execution_count": 36,
   "id": "7c63c1c0-a9d9-4d56-8c69-a275313efb03",
   "metadata": {},
   "outputs": [
    {
     "data": {
      "text/plain": [
       "tensor([[0.6220, 0.0000, 0.0000, 0.0000, 0.6506, 0.0000, 0.0000, 0.0000, 0.3718],\n",
       "        [0.2074, 0.0000, 0.0000, 0.0000, 0.8855, 0.0000, 0.0000, 0.0000, 0.2095]])"
      ]
     },
     "execution_count": 36,
     "metadata": {},
     "output_type": "execute_result"
    }
   ],
   "source": [
    "torch.diag_embed(torch.rand(2,3)).flatten(start_dim=1)"
   ]
  },
  {
   "cell_type": "code",
   "execution_count": 37,
   "id": "80f13dd3-17d8-4917-ae77-a0ae4096889b",
   "metadata": {},
   "outputs": [
    {
     "data": {
      "text/plain": [
       "torch.nn.parameter.Parameter"
      ]
     },
     "execution_count": 37,
     "metadata": {},
     "output_type": "execute_result"
    }
   ],
   "source": [
    "nn.Parameter"
   ]
  },
  {
   "cell_type": "code",
   "execution_count": null,
   "id": "5a6d41a5-2ec9-4542-aede-086cb4b298ba",
   "metadata": {},
   "outputs": [],
   "source": []
  }
 ],
 "metadata": {
  "kernelspec": {
   "display_name": "DeepGD",
   "language": "python",
   "name": "deepgd"
  },
  "language_info": {
   "codemirror_mode": {
    "name": "ipython",
    "version": 3
   },
   "file_extension": ".py",
   "mimetype": "text/x-python",
   "name": "python",
   "nbconvert_exporter": "python",
   "pygments_lexer": "ipython3",
   "version": "3.9.7"
  },
  "widgets": {
   "application/vnd.jupyter.widget-state+json": {
    "state": {},
    "version_major": 2,
    "version_minor": 0
   }
  }
 },
 "nbformat": 4,
 "nbformat_minor": 5
}
