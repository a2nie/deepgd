{
 "cells": [
  {
   "cell_type": "code",
   "execution_count": 21,
   "id": "edc2d503-2f0f-402c-9b76-96d5482e2dad",
   "metadata": {},
   "outputs": [],
   "source": [
    "class Test:\n",
    "    \n",
    "    def __init__(self):\n",
    "        self._x = 0\n",
    "    \n",
    "    @property\n",
    "    def x(self):\n",
    "        return self._x\n",
    "    \n",
    "    @x.setter\n",
    "    def x(self, value):\n",
    "        print(f'setting x to {value}')\n",
    "        self._x = value\n",
    "        \n",
    "    @x.deleter\n",
    "    def x(self):\n",
    "        print(f'resetting x')\n",
    "        self._x = 0\n",
    "        \n",
    "    def __repr__(self):\n",
    "        return str(self.x)"
   ]
  },
  {
   "cell_type": "code",
   "execution_count": 22,
   "id": "e5f1056e-213c-476d-a573-cbd3c43f7e1d",
   "metadata": {},
   "outputs": [],
   "source": [
    "t = Test()"
   ]
  },
  {
   "cell_type": "code",
   "execution_count": 1,
   "id": "60821ff8-35ac-4db2-bdc0-c726584a7719",
   "metadata": {},
   "outputs": [],
   "source": [
    "from lib.tools import *"
   ]
  },
  {
   "cell_type": "code",
   "execution_count": 11,
   "id": "921d75d9-971d-427f-becd-c2ba9530bfe6",
   "metadata": {},
   "outputs": [
    {
     "data": {
      "text/html": [
       "<div>\n",
       "<style scoped>\n",
       "    .dataframe tbody tr th:only-of-type {\n",
       "        vertical-align: middle;\n",
       "    }\n",
       "\n",
       "    .dataframe tbody tr th {\n",
       "        vertical-align: top;\n",
       "    }\n",
       "\n",
       "    .dataframe thead th {\n",
       "        text-align: right;\n",
       "    }\n",
       "</style>\n",
       "<table border=\"1\" class=\"dataframe\">\n",
       "  <thead>\n",
       "    <tr style=\"text-align: right;\">\n",
       "      <th></th>\n",
       "      <th>b</th>\n",
       "    </tr>\n",
       "  </thead>\n",
       "  <tbody>\n",
       "    <tr>\n",
       "      <th></th>\n",
       "      <td>6</td>\n",
       "    </tr>\n",
       "  </tbody>\n",
       "</table>\n",
       "</div>"
      ],
      "text/plain": [
       "  b\n",
       "  6"
      ]
     },
     "metadata": {},
     "output_type": "display_data"
    },
    {
     "data": {
      "text/html": [
       "<div>\n",
       "<style scoped>\n",
       "    .dataframe tbody tr th:only-of-type {\n",
       "        vertical-align: middle;\n",
       "    }\n",
       "\n",
       "    .dataframe tbody tr th {\n",
       "        vertical-align: top;\n",
       "    }\n",
       "\n",
       "    .dataframe thead th {\n",
       "        text-align: right;\n",
       "    }\n",
       "</style>\n",
       "<table border=\"1\" class=\"dataframe\">\n",
       "  <thead>\n",
       "    <tr style=\"text-align: right;\">\n",
       "      <th></th>\n",
       "      <th>b</th>\n",
       "    </tr>\n",
       "  </thead>\n",
       "  <tbody>\n",
       "    <tr>\n",
       "      <th></th>\n",
       "      <td>6</td>\n",
       "    </tr>\n",
       "  </tbody>\n",
       "</table>\n",
       "</div>"
      ],
      "text/plain": [
       "  b\n",
       "  6"
      ]
     },
     "metadata": {},
     "output_type": "display_data"
    }
   ],
   "source": [
    "hud = Hud('test')\n",
    "hud2 = Hud(id=hud.id)"
   ]
  },
  {
   "cell_type": "code",
   "execution_count": 4,
   "id": "154eadda-cbed-4831-a2c4-957c31b1f690",
   "metadata": {},
   "outputs": [
    {
     "data": {
      "text/html": [
       "<div>\n",
       "<style scoped>\n",
       "    .dataframe tbody tr th:only-of-type {\n",
       "        vertical-align: middle;\n",
       "    }\n",
       "\n",
       "    .dataframe tbody tr th {\n",
       "        vertical-align: top;\n",
       "    }\n",
       "\n",
       "    .dataframe thead th {\n",
       "        text-align: right;\n",
       "    }\n",
       "</style>\n",
       "<table border=\"1\" class=\"dataframe\">\n",
       "  <thead>\n",
       "    <tr style=\"text-align: right;\">\n",
       "      <th></th>\n",
       "      <th>b</th>\n",
       "    </tr>\n",
       "  </thead>\n",
       "  <tbody>\n",
       "    <tr>\n",
       "      <th></th>\n",
       "      <td>6</td>\n",
       "    </tr>\n",
       "  </tbody>\n",
       "</table>\n",
       "</div>"
      ],
      "text/plain": [
       "  b\n",
       "  6"
      ]
     },
     "metadata": {},
     "output_type": "display_data"
    }
   ],
   "source": []
  },
  {
   "cell_type": "code",
   "execution_count": 13,
   "id": "f3777547-ed75-499b-ac20-16c0337d1cd5",
   "metadata": {},
   "outputs": [],
   "source": [
    "hud['b'] = 6"
   ]
  },
  {
   "cell_type": "code",
   "execution_count": 10,
   "id": "cbdf18c2-e08b-43bb-9354-5a96155ca2bb",
   "metadata": {},
   "outputs": [],
   "source": [
    "hud({'c': 6}, index='test')"
   ]
  },
  {
   "cell_type": "code",
   "execution_count": null,
   "id": "e3352bfb-429c-4674-9484-9eff7a4931ce",
   "metadata": {},
   "outputs": [],
   "source": [
    "\n",
    "     \n",
    "        \n"
   ]
  },
  {
   "cell_type": "markdown",
   "id": "b2dc125d-693a-4746-b692-3b912fc8d4a0",
   "metadata": {},
   "source": [
    "$$\n",
    "\\begin{align}\n",
    "n &= |V| \\\\\n",
    "r &= \\frac{1}{n} \\sum_{i=0}^{n} \\|\\mathbf{p}_i - \\bar{\\mathbf{p}}\\|_2 \\\\\n",
    "\\widetilde{\\mathbf{p}} &= s \\cdot \\mathbf{p}\\\\\n",
    "\\widetilde{r} &= \\frac{1}{n} \\sum_{i=0}^{n} \\|\\widetilde{\\mathbf{p}}_i - \\bar{\\widetilde{\\mathbf{p}}}\\|_2\n",
    "\\end{align}\n",
    "$$\n",
    "\n",
    "$$\n",
    "\\begin{align}\n",
    "\\text{Hope: } \\text{area} = \\pi \\widetilde{r}^2 &\\propto n \\\\\n",
    "\\widetilde{r} &\\propto \\sqrt{n} \\\\\n",
    "\\widetilde{r} &= k \\sqrt{n} \\\\\n",
    "\\frac{1}{n} \\sum_{i=0}^{n} \\|\\widetilde{\\mathbf{p}}_i - \\bar{\\widetilde{\\mathbf{p}}}\\|_2 &= k \\sqrt{n} \\\\\n",
    "\\frac{1}{n} \\sum_{i=0}^{n} \\|s\\mathbf{p}_i - s\\bar{\\mathbf{p}}\\|_2 &= k \\sqrt{n} \\\\\n",
    "\\frac{s}{n} \\sum_{i=0}^{n} \\|\\mathbf{p}_i - \\bar{\\mathbf{p}}\\|_2 &= k \\sqrt{n} \\\\\n",
    "s \\cdot r &= k \\sqrt{n} \\\\\n",
    "s &= \\frac{k \\sqrt{n}}{r}\n",
    "\\end{align}\n",
    "$$\n",
    "\n",
    "$$\n",
    "\\begin{align}\n",
    "\\widetilde{\\mathbf{p}} &= s \\cdot (\\mathbf{p} - \\bar{\\mathbf{p}}) + \\bar{\\mathbf{p}}\n",
    "\\end{align}\n",
    "$$"
   ]
  },
  {
   "cell_type": "markdown",
   "id": "25ede75c-ffcb-47b6-bc56-5b77b2f26419",
   "metadata": {},
   "source": [
    "\\begin{align}\n",
    "n &= |V| \\\\\n",
    "r &= \\frac{1}{n} \\sum_{i=0}^{n} \\|\\mathbf{p}_i - \\bar{\\mathbf{p}}\\|_2 \\\\\n",
    "\\widetilde{\\mathbf{p}} &= s \\cdot \\mathbf{p}\\\\\n",
    "\\widetilde{r} &= \\frac{1}{n} \\sum_{i=0}^{n} \\|\\widetilde{\\mathbf{p}}_i - \\bar{\\widetilde{\\mathbf{p}}}\\|_2\n",
    "\\end{align}\n",
    "$$\n",
    "\n",
    "$$\n",
    "\\begin{align}\n",
    "\\text{Hope: } \\text{area} = \\pi \\widetilde{r}^2 &\\propto n \\\\\n",
    "\\widetilde{r} &\\propto \\sqrt{n} \\\\\n",
    "\\widetilde{r} &= k \\sqrt{n} \\\\\n",
    "\\frac{1}{n} \\sum_{i=0}^{n} \\|\\widetilde{\\mathbf{p}}_i - \\bar{\\widetilde{\\mathbf{p}}}\\|_2 &= k \\sqrt{n} \\\\\n",
    "\\frac{1}{n} \\sum_{i=0}^{n} \\|s\\mathbf{p}_i - s\\bar{\\mathbf{p}}\\|_2 &= k \\sqrt{n} \\\\\n",
    "\\frac{s}{n} \\sum_{i=0}^{n} \\|\\mathbf{p}_i - \\bar{\\mathbf{p}}\\|_2 &= k \\sqrt{n} \\\\\n",
    "s \\cdot r &= k \\sqrt{n} \\\\\n",
    "s &= \\frac{k \\sqrt{n}}{r}\n",
    "\\end{align}\n",
    "$$\n",
    "\n",
    "$$\n",
    "\\begin{align}\n",
    "\\widetilde{\\mathbf{p}} &= s \\cdot (\\mathbf{p} - \\bar{\\mathbf{p}}) + \\bar{\\mathbf{p}}\n",
    "\\end{align}\n",
    "$$"
   ]
  },
  {
   "cell_type": "code",
   "execution_count": null,
   "id": "ceba4375-734d-4718-8fc3-83d8d794b394",
   "metadata": {},
   "outputs": [],
   "source": [
    "class RescaleByDensity(nn.Module):\n",
    "    def __init__(self, return_scale=False):\n",
    "        super().__init__()\n",
    "        self.return_scale = return_scale\n",
    "        self.center = ZeroCenter(return_center=True)\n",
    "        \n",
    "    def forward(self, pos, data):\n",
    "        batch = make_batch(data)\n",
    "        centered_pos, center = self.center(pos, batch)\n",
    "        radius = torch.linalg.norm(centered_pos, dim=1)\n",
    "        scale =  torch_scatter.scatter(radius, batch.batch, reduce='mean') / torch.sqrt(batch.n)\n",
    "        scaled_pos = centered_pos / scale[batch.batch][:, None] + center[batch.batch]\n",
    "        if self.return_scale:\n",
    "            return scaled_pos, scale\n",
    "        return scaled_pos"
   ]
  },
  {
   "cell_type": "markdown",
   "id": "e86705ea-a0b8-440c-8a70-c341c32876c9",
   "metadata": {},
   "source": [
    "$$\n",
    "\\begin{align}\n",
    "R &= \\text{eigv}(\\text{cov}(\\mathbf{p})) & \\text{s.t. } R = R^{-1}\\\\\n",
    "\\widetilde{\\mathbf{p}} &= R \\cdot (\\mathbf{p} - \\bar{\\mathbf{p}}) + \\bar{\\mathbf{p}}\n",
    "\\end{align}\n",
    "$$"
   ]
  },
  {
   "cell_type": "code",
   "execution_count": null,
   "id": "41cf1b1a-c977-4fe5-82b7-95d13b0ba839",
   "metadata": {},
   "outputs": [],
   "source": [
    "class RotateByPCA(nn.Module):\n",
    "    def __init__(self, angle=0, return_rotation=False):\n",
    "        super().__init__()\n",
    "        self.base_rotation = torch.tensor([[-np.sin(angle), np.cos(angle)],\n",
    "                                           [ np.cos(angle), np.sin(angle)]]).float()\n",
    "        self.return_rotation = return_rotation\n",
    "        self.center = ZeroCenter(return_center=True)\n",
    "        \n",
    "    def forward(self, pos, data):\n",
    "        batch = make_batch(data)\n",
    "        centered_pos, center = self.center(pos, batch)\n",
    "        XXT = torch.einsum('ni,nj->nij', centered_pos, centered_pos)\n",
    "        cov = torch_scatter.scatter(XXT, batch.batch, dim=0, reduce='mean')\n",
    "        rotation = torch.linalg.eigh(cov).eigenvectors\n",
    "        rotated_pos = torch.einsum('ij,njk,nk->ni', \n",
    "                                   self.base_rotation.to(pos.device),\n",
    "                                   rotation[batch.batch], \n",
    "                                   centered_pos) + center[batch.batch]\n",
    "        if self.return_rotation:\n",
    "            return rotated_pos, rotation\n",
    "        return rotated_pos"
   ]
  },
  {
   "cell_type": "markdown",
   "id": "4d2e83d4-b19c-47a4-b29e-b4962f6c57c0",
   "metadata": {},
   "source": [
    "$$\n",
    "\\begin{align}\n",
    "U \\otimes D &= \\begin{bmatrix} u^{-2} \\\\ u^{-1} \\\\ u^0 \\\\ u^1 \\\\ u^2 \\end{bmatrix} \\begin{bmatrix} d^{-2} & d^{-1} & d^0 & d^1 & d^2 \\end{bmatrix} \\\\\n",
    "&= \\begin{bmatrix} \n",
    "    u^{-2}d^{-2} & u^{-2}d^{-1} & u^{-2}d^{0} & u^{-2}d^{1} & u^{-2}d^{2} \\\\ \n",
    "    u^{-1}d^{-2} & u^{-1}d^{-1} & u^{-1}d^{0} & u^{-1}d^{1} & u^{-1}d^{2} \\\\ \n",
    "    u^{0}d^{-2} & u^{0}d^{-1} & u^{0}d^{0} & u^{0}d^{1} & u^{0}d^{2} \\\\ \n",
    "    u^{1}d^{-2} & u^{1}d^{-1} & u^{1}d^{0} & u^{1}d^{1} & u^{1}d^{2} \\\\ \n",
    "    u^{2}d^{-2} & u^{2}d^{-1} & u^{2}d^{0} & u^{2}d^{1} & u^{2}d^{2} \\\\ \n",
    "\\end{bmatrix}\n",
    "\\end{align}\n",
    "$$"
   ]
  },
  {
   "cell_type": "code",
   "execution_count": 22,
   "id": "0f5d5224-fd39-40a6-b140-386684b8e858",
   "metadata": {
    "collapsed": true,
    "jupyter": {
     "outputs_hidden": true
    },
    "tags": []
   },
   "outputs": [
    {
     "data": {
      "text/latex": [
       "$$\n",
       "\\text{Normalized RMSE} = \\sqrt{\n",
       "    \\frac{1}{n} \\sum_{i=0}^n \\frac{\n",
       "        |\\mathbf{x}_i - \\mathbf{y}_i| ^ 2\n",
       "    } {\n",
       "        \\text{Var}(\\mathbf{x})\n",
       "    }\n",
       "}\n",
       "$$\n"
      ],
      "text/plain": [
       "<IPython.core.display.Latex object>"
      ]
     },
     "metadata": {},
     "output_type": "display_data"
    }
   ],
   "source": [
    "%%latex\n",
    "$$\n",
    "\\text{Normalized RMSE} = \\sqrt{\n",
    "    \\frac{1}{n} \\sum_{i=0}^n \\frac{\n",
    "        |\\mathbf{x}_i - \\mathbf{y}_i| ^ 2\n",
    "    } {\n",
    "        \\text{Var}(\\mathbf{x})\n",
    "    }\n",
    "}\n",
    "$$"
   ]
  },
  {
   "cell_type": "markdown",
   "id": "8cfe7161-5ac3-42c2-8dc3-f7c454fef09c",
   "metadata": {},
   "source": [
    "$$\n",
    "\\text{Normalized RMSE} = \\sqrt{\n",
    "    \\frac{1}{n} \\sum_{i=0}^n \\frac{\n",
    "        |\\mathbf{x}_i - \\mathbf{y}_i| ^ 2\n",
    "    } {\n",
    "        \\text{Var}(\\mathbf{x})\n",
    "    }\n",
    "}\n",
    "$$"
   ]
  },
  {
   "cell_type": "code",
   "execution_count": 48,
   "id": "e83a6507-25fa-4896-aacb-63a30b142f1b",
   "metadata": {
    "collapsed": true,
    "jupyter": {
     "outputs_hidden": true
    },
    "tags": []
   },
   "outputs": [
    {
     "data": {
      "text/latex": [
       "\\begin{align}\n",
       "\\frac{d}{dk} \\sum \\big(k\\cdot\\mathbf{x} - |\\mathbf{y}-\\mathbf{x}|\\big) ^ 2 &= 0 \\\\\n",
       "\\sum \\frac{d}{dk} \\big(k\\cdot\\mathbf{x} - |\\mathbf{y}-\\mathbf{x}|\\big) ^ 2 &= 0 \\\\\n",
       "\\sum 2\\mathbf{x}^2 k - 2\\mathbf{x} |\\mathbf{y}-\\mathbf{x}| &= 0 \\\\\n",
       "\\sum \\mathbf{x}^2 k - \\mathbf{x} |\\mathbf{y}-\\mathbf{x}| &= 0 \\\\\n",
       "k \\cdot \\sum \\mathbf{x}^2 &= \\sum \\mathbf{x}|\\mathbf{y}-\\mathbf{x}| \\\\\n",
       "k &= \\frac{\n",
       "    \\sum \\mathbf{x}|\\mathbf{y}-\\mathbf{x}|\n",
       "} {\n",
       "    \\sum \\mathbf{x}^2\n",
       "} \n",
       "\\end{align}\n",
       "\n",
       "$$\n",
       "\\text{Average Error Ratio} = \\frac{\n",
       "    \\sum \\mathbf{x}|\\mathbf{y}-\\mathbf{x}|\n",
       "} {\n",
       "    \\sum \\mathbf{x}^2\n",
       "} \n",
       "$$\n"
      ],
      "text/plain": [
       "<IPython.core.display.Latex object>"
      ]
     },
     "metadata": {},
     "output_type": "display_data"
    }
   ],
   "source": [
    "%%latex\n",
    "\\begin{align}\n",
    "\\frac{d}{dk} \\sum \\big(k\\cdot\\mathbf{x} - |\\mathbf{y}-\\mathbf{x}|\\big) ^ 2 &= 0 \\\\\n",
    "\\sum \\frac{d}{dk} \\big(k\\cdot\\mathbf{x} - |\\mathbf{y}-\\mathbf{x}|\\big) ^ 2 &= 0 \\\\\n",
    "\\sum 2\\mathbf{x}^2 k - 2\\mathbf{x} |\\mathbf{y}-\\mathbf{x}| &= 0 \\\\\n",
    "\\sum \\mathbf{x}^2 k - \\mathbf{x} |\\mathbf{y}-\\mathbf{x}| &= 0 \\\\\n",
    "k \\cdot \\sum \\mathbf{x}^2 &= \\sum \\mathbf{x}|\\mathbf{y}-\\mathbf{x}| \\\\\n",
    "k &= \\frac{\n",
    "    \\sum \\mathbf{x}|\\mathbf{y}-\\mathbf{x}|\n",
    "} {\n",
    "    \\sum \\mathbf{x}^2\n",
    "} \n",
    "\\end{align}\n",
    "\n",
    "$$\n",
    "\\text{Average Error Ratio} = \\frac{\n",
    "    \\sum \\mathbf{x}|\\mathbf{y}-\\mathbf{x}|\n",
    "} {\n",
    "    \\sum \\mathbf{x}^2\n",
    "} \n",
    "$$"
   ]
  },
  {
   "cell_type": "markdown",
   "id": "f75b21bd-5a50-452f-987c-28c802b8f42a",
   "metadata": {},
   "source": [
    "$$\n",
    "\\text{Average Error Ratio} = \\frac{\n",
    "    \\sum \\mathbf{x}|\\mathbf{y}-\\mathbf{x}|\n",
    "} {\n",
    "    \\sum \\mathbf{x}^2\n",
    "} \n",
    "$$\n",
    "\n",
    "\n",
    "\\begin{align}\n",
    "\\text{Derivation:} \\\\\n",
    "\\frac{d}{dk} \\sum \\big(k\\cdot\\mathbf{x} - |\\mathbf{y}-\\mathbf{x}|\\big) ^ 2 &= 0 \\\\\n",
    "\\sum \\frac{d}{dk} \\big(k\\cdot\\mathbf{x} - |\\mathbf{y}-\\mathbf{x}|\\big) ^ 2 &= 0 \\\\\n",
    "\\sum 2\\mathbf{x}^2 k - 2\\mathbf{x} |\\mathbf{y}-\\mathbf{x}| &= 0 \\\\\n",
    "\\sum \\mathbf{x}^2 k - \\mathbf{x} |\\mathbf{y}-\\mathbf{x}| &= 0 \\\\\n",
    "k \\cdot \\sum \\mathbf{x}^2 &= \\sum \\mathbf{x}|\\mathbf{y}-\\mathbf{x}| \\\\\n",
    "k &= \\frac{\n",
    "    \\sum \\mathbf{x}|\\mathbf{y}-\\mathbf{x}|\n",
    "} {\n",
    "    \\sum \\mathbf{x}^2\n",
    "} \n",
    "\\end{align}"
   ]
  },
  {
   "cell_type": "code",
   "execution_count": 54,
   "id": "da076e3c-bd6b-4a8c-9bcb-7bceaaca2898",
   "metadata": {
    "tags": []
   },
   "outputs": [
    {
     "data": {
      "text/latex": [
       "$$\n",
       "\\text{Normalized Covariance} = \\frac{1}{n} \\sum_{i=0}^n \\frac {\n",
       "    (\\mathbf{x}_i - \\bar{\\mathbf{x}}) \\cdot (\\mathbf{y}_i - \\bar{\\mathbf{y}})\n",
       "} {\n",
       "    \\text{Std}(\\mathbf{x}) \\cdot \\text{Std}(\\mathbf{y})\n",
       "}\n",
       "$$\n"
      ],
      "text/plain": [
       "<IPython.core.display.Latex object>"
      ]
     },
     "metadata": {},
     "output_type": "display_data"
    }
   ],
   "source": [
    "%%latex\n",
    "$$\n",
    "\\text{Normalized Covariance} = \\frac{1}{n} \\sum_{i=0}^n \\frac {\n",
    "    (\\mathbf{x}_i - \\bar{\\mathbf{x}}) \\cdot (\\mathbf{y}_i - \\bar{\\mathbf{y}})\n",
    "} {\n",
    "    \\text{Std}(\\mathbf{x}) \\cdot \\text{Std}(\\mathbf{y})\n",
    "}\n",
    "$$"
   ]
  },
  {
   "cell_type": "markdown",
   "id": "4c39aa7f-c087-4f6c-9d3f-7aea2b33143d",
   "metadata": {},
   "source": [
    "$$\n",
    "\\text{Normalized Covariance} = \\frac{1}{n} \\sum_{i=0}^n \\frac {\n",
    "    (\\mathbf{x}_i - \\bar{\\mathbf{x}}) \\cdot (\\mathbf{y}_i - \\bar{\\mathbf{y}})\n",
    "} {\n",
    "    \\text{Std}(\\mathbf{x}) \\cdot \\text{Std}(\\mathbf{y})\n",
    "}\n",
    "$$"
   ]
  },
  {
   "cell_type": "code",
   "execution_count": 60,
   "id": "f0f22bf2-b2ac-46e4-a598-1e5447089aaa",
   "metadata": {},
   "outputs": [
    {
     "data": {
      "application/javascript": [
       "alert('Hello World!')"
      ],
      "text/plain": [
       "<IPython.core.display.Javascript object>"
      ]
     },
     "metadata": {},
     "output_type": "display_data"
    }
   ],
   "source": [
    "from IPython.display import Javascript\n",
    "display(Javascript(\"alert('Hello World!')\"))"
   ]
  },
  {
   "cell_type": "markdown",
   "id": "71f9f52d-fb7b-43d8-8bc9-38a7080146bc",
   "metadata": {},
   "source": [
    "$$\n",
    "\\text{Average Stress} =\n",
    "\\frac{1}{|E^*|}\n",
    "\\sum_{(u,v) \\in E^*}\n",
    "\\frac{1}{d_{u,v}^2}\n",
    "\\big(\n",
    "    d_{u,v} - \\|\\textbf{p}_u-\\textbf{p}_v\\|_2\n",
    "\\big)^2\n",
    "$$"
   ]
  },
  {
   "cell_type": "code",
   "execution_count": null,
   "id": "6e5f15a5-e80b-4142-9927-6a4c4cb995e6",
   "metadata": {},
   "outputs": [],
   "source": []
  }
 ],
 "metadata": {
  "kernelspec": {
   "display_name": "Python 3 (ipykernel)",
   "language": "python",
   "name": "python3"
  },
  "language_info": {
   "codemirror_mode": {
    "name": "ipython",
    "version": 3
   },
   "file_extension": ".py",
   "mimetype": "text/x-python",
   "name": "python",
   "nbconvert_exporter": "python",
   "pygments_lexer": "ipython3",
   "version": "3.9.5"
  }
 },
 "nbformat": 4,
 "nbformat_minor": 5
}
