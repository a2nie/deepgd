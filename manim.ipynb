{
 "cells": [
  {
   "cell_type": "code",
   "execution_count": 1,
   "id": "b33bc288-6957-4f7e-a98f-d924d8a85c76",
   "metadata": {},
   "outputs": [
    {
     "data": {
      "text/html": [
       "<pre style=\"white-space:pre;overflow-x:auto;line-height:normal;font-family:Menlo,'DejaVu Sans Mono',consolas,'Courier New',monospace\">Manim Community <span style=\"color: #008000; text-decoration-color: #008000\">v0.8.0</span>\n",
       "\n",
       "</pre>\n"
      ],
      "text/plain": [
       "Manim Community \u001b[32mv0.\u001b[0m\u001b[32m8.0\u001b[0m\n",
       "\n"
      ]
     },
     "metadata": {},
     "output_type": "display_data"
    }
   ],
   "source": [
    "from manim import *"
   ]
  },
  {
   "cell_type": "code",
   "execution_count": 2,
   "id": "6da808ae-3f04-4542-87e9-dd9254c2c301",
   "metadata": {},
   "outputs": [],
   "source": [
    "from lib.imports import *\n",
    "from lib.tools import *\n",
    "from lib.utils import *\n",
    "from lib.modules import *\n",
    "from lib.data import *\n",
    "from lib.xing import *\n",
    "from lib.transform import *"
   ]
  },
  {
   "cell_type": "code",
   "execution_count": 3,
   "id": "db1d777d-c7f0-4f74-a448-a9962b735975",
   "metadata": {},
   "outputs": [
    {
     "name": "stdout",
     "output_type": "stream",
     "text": [
      "Load from 'cache/G_list.pickle'\n"
     ]
    }
   ],
   "source": [
    "G_list = load_G_list(data_path='data/rome', index_file='data_index.txt', cache='G_list', cache_prefix='cache/')"
   ]
  },
  {
   "cell_type": "code",
   "execution_count": 4,
   "id": "0f04cbbc-8a35-4b88-a823-e1ab47ea7322",
   "metadata": {},
   "outputs": [
    {
     "name": "stdout",
     "output_type": "stream",
     "text": [
      "Load from 'cache/generate_data_list(list,sparse=False,pivot_mode=None,init_mode=pmds,edge_index=full_edge_index,edge_attr=full_edge_attr,pmds_list=ndarray,gviz_list=ndarray,noisy_layout=True,device=cpu).pickle'\n"
     ]
    }
   ],
   "source": [
    "data_list = generate_data_list(G_list, \n",
    "                               sparse=False, \n",
    "                               pivot_mode=None,\n",
    "                               init_mode='pmds',\n",
    "                               edge_index='full_edge_index',\n",
    "                               edge_attr='full_edge_attr',\n",
    "                               pmds_list=np.load('layouts/rome/pmds.npy', allow_pickle=True),\n",
    "                               gviz_list=np.load('layouts/rome/gviz.npy', allow_pickle=True),\n",
    "                               noisy_layout=True,\n",
    "                               device='cpu', \n",
    "                               cache=True,\n",
    "                               cache_prefix='cache/')"
   ]
  },
  {
   "cell_type": "code",
   "execution_count": 5,
   "id": "a008b497-e841-4591-b7e8-c1c7d0d227ee",
   "metadata": {},
   "outputs": [],
   "source": [
    "normalize = Normalization(target_scale=3/np.sqrt(100), target_angle=np.pi/2)\n",
    "shear = LinearTransformation(torch.tensor([[1/2, 0], \n",
    "                                           [1/2, 1]]))"
   ]
  },
  {
   "cell_type": "code",
   "execution_count": 14,
   "id": "0ed8147d-0754-4f4f-952d-15b674113732",
   "metadata": {},
   "outputs": [],
   "source": [
    "idx = 422\n",
    "init_scale = 1.5\n",
    "start_x, end_x = -3.5, 3.5\n",
    "colors = [WHITE, YELLOW, RED, GREEN, BLUE]\n",
    "aggr_lag = 0.25\n",
    "ending_wait = 2"
   ]
  },
  {
   "cell_type": "code",
   "execution_count": 17,
   "id": "d371b2a1-f437-4e16-90b3-f4eea09ea9ca",
   "metadata": {},
   "outputs": [
    {
     "data": {
      "text/html": [
       "<pre style=\"white-space:pre;overflow-x:auto;line-height:normal;font-family:Menlo,'DejaVu Sans Mono',consolas,'Courier New',monospace\"><span style=\"color: #7fbfbf; text-decoration-color: #7fbfbf\">[07/19/21 03:14:56] </span><span style=\"color: #008000; text-decoration-color: #008000\">INFO    </span> Animation <span style=\"color: #008000; text-decoration-color: #008000\">0</span> : Using cached data <span style=\"font-weight: bold\">(</span>hash :    <a href=\"file:///usr/local/anaconda3/lib/python3.9/site-packages/manim/renderer/cairo_renderer.py\"><span style=\"color: #7f7f7f; text-decoration-color: #7f7f7f\">cairo_renderer.py</span></a><span style=\"color: #7f7f7f; text-decoration-color: #7f7f7f\">:100</span>\n",
       "                             450974505_3788851600_1777826343<span style=\"font-weight: bold\">)</span>                                \n",
       "</pre>\n"
      ],
      "text/plain": [
       "\u001b[2;36m[07/19/21 03:14:56]\u001b[0m\u001b[2;36m \u001b[0m\u001b[32mINFO    \u001b[0m Animation \u001b[32m0\u001b[0m : Using cached data \u001b[1m(\u001b[0mhash :    \u001b]8;id=1626678896.2735438-990071;file:///usr/local/anaconda3/lib/python3.9/site-packages/manim/renderer/cairo_renderer.py\u001b\\\u001b[2mcairo_renderer.py\u001b[0m\u001b]8;;\u001b\\\u001b[2m:100\u001b[0m\n",
       "                             450974505_3788851600_1777826343\u001b[1m)\u001b[0m                                \n"
      ]
     },
     "metadata": {},
     "output_type": "display_data"
    },
    {
     "name": "stderr",
     "output_type": "stream",
     "text": [
      "                                                                                                              \r"
     ]
    },
    {
     "data": {
      "text/html": [
       "<pre style=\"white-space:pre;overflow-x:auto;line-height:normal;font-family:Menlo,'DejaVu Sans Mono',consolas,'Courier New',monospace\"><span style=\"color: #7fbfbf; text-decoration-color: #7fbfbf\">[07/19/21 03:15:00] </span><span style=\"color: #008000; text-decoration-color: #008000\">INFO    </span> Animation <span style=\"color: #008000; text-decoration-color: #008000\">1</span> : Partial movie file        <a href=\"file:///usr/local/anaconda3/lib/python3.9/site-packages/manim/scene/scene_file_writer.py\"><span style=\"color: #7f7f7f; text-decoration-color: #7f7f7f\">scene_file_writer.py</span></a><span style=\"color: #7f7f7f; text-decoration-color: #7f7f7f\">:413</span>\n",
       "                             written in <span style=\"color: #008000; text-decoration-color: #008000\">'/Users/chuhan/.lab/default/</span>                         \n",
       "                             <span style=\"color: #008000; text-decoration-color: #008000\">deepgd/media/videos/deepgd/1080p60/part</span>                         \n",
       "                             <span style=\"color: #008000; text-decoration-color: #008000\">ial_movie_files/Graph/3968072068_158466</span>                         \n",
       "                             <span style=\"color: #008000; text-decoration-color: #008000\">1936_4041217613.mp4'</span>                                            \n",
       "</pre>\n"
      ],
      "text/plain": [
       "\u001b[2;36m[07/19/21 03:15:00]\u001b[0m\u001b[2;36m \u001b[0m\u001b[32mINFO    \u001b[0m Animation \u001b[32m1\u001b[0m : Partial movie file        \u001b]8;id=1626678900.46289-291573;file:///usr/local/anaconda3/lib/python3.9/site-packages/manim/scene/scene_file_writer.py\u001b\\\u001b[2mscene_file_writer.py\u001b[0m\u001b]8;;\u001b\\\u001b[2m:413\u001b[0m\n",
       "                             written in \u001b[32m'/Users/chuhan/.lab/default/\u001b[0m                         \n",
       "                             \u001b[32mdeepgd/media/videos/deepgd/1080p60/part\u001b[0m                         \n",
       "                             \u001b[32mial_movie_files/Graph/3968072068_158466\u001b[0m                         \n",
       "                             \u001b[32m1936_4041217613.mp4'\u001b[0m                                            \n"
      ]
     },
     "metadata": {},
     "output_type": "display_data"
    },
    {
     "name": "stderr",
     "output_type": "stream",
     "text": [
      "                                                                                                              \r"
     ]
    },
    {
     "data": {
      "text/html": [
       "<pre style=\"white-space:pre;overflow-x:auto;line-height:normal;font-family:Menlo,'DejaVu Sans Mono',consolas,'Courier New',monospace\"><span style=\"color: #7fbfbf; text-decoration-color: #7fbfbf\">[07/19/21 03:15:01] </span><span style=\"color: #008000; text-decoration-color: #008000\">INFO    </span> Animation <span style=\"color: #008000; text-decoration-color: #008000\">2</span> : Partial movie file        <a href=\"file:///usr/local/anaconda3/lib/python3.9/site-packages/manim/scene/scene_file_writer.py\"><span style=\"color: #7f7f7f; text-decoration-color: #7f7f7f\">scene_file_writer.py</span></a><span style=\"color: #7f7f7f; text-decoration-color: #7f7f7f\">:413</span>\n",
       "                             written in <span style=\"color: #008000; text-decoration-color: #008000\">'/Users/chuhan/.lab/default/</span>                         \n",
       "                             <span style=\"color: #008000; text-decoration-color: #008000\">deepgd/media/videos/deepgd/1080p60/part</span>                         \n",
       "                             <span style=\"color: #008000; text-decoration-color: #008000\">ial_movie_files/Graph/3968072068_147478</span>                         \n",
       "                             <span style=\"color: #008000; text-decoration-color: #008000\">9037_3253804927.mp4'</span>                                            \n",
       "</pre>\n"
      ],
      "text/plain": [
       "\u001b[2;36m[07/19/21 03:15:01]\u001b[0m\u001b[2;36m \u001b[0m\u001b[32mINFO    \u001b[0m Animation \u001b[32m2\u001b[0m : Partial movie file        \u001b]8;id=1626678901.949933-254399;file:///usr/local/anaconda3/lib/python3.9/site-packages/manim/scene/scene_file_writer.py\u001b\\\u001b[2mscene_file_writer.py\u001b[0m\u001b]8;;\u001b\\\u001b[2m:413\u001b[0m\n",
       "                             written in \u001b[32m'/Users/chuhan/.lab/default/\u001b[0m                         \n",
       "                             \u001b[32mdeepgd/media/videos/deepgd/1080p60/part\u001b[0m                         \n",
       "                             \u001b[32mial_movie_files/Graph/3968072068_147478\u001b[0m                         \n",
       "                             \u001b[32m9037_3253804927.mp4'\u001b[0m                                            \n"
      ]
     },
     "metadata": {},
     "output_type": "display_data"
    },
    {
     "name": "stderr",
     "output_type": "stream",
     "text": [
      "                                                                                                              \r"
     ]
    },
    {
     "data": {
      "text/html": [
       "<pre style=\"white-space:pre;overflow-x:auto;line-height:normal;font-family:Menlo,'DejaVu Sans Mono',consolas,'Courier New',monospace\"><span style=\"color: #7fbfbf; text-decoration-color: #7fbfbf\">[07/19/21 03:15:06] </span><span style=\"color: #008000; text-decoration-color: #008000\">INFO    </span> Animation <span style=\"color: #008000; text-decoration-color: #008000\">3</span> : Partial movie file        <a href=\"file:///usr/local/anaconda3/lib/python3.9/site-packages/manim/scene/scene_file_writer.py\"><span style=\"color: #7f7f7f; text-decoration-color: #7f7f7f\">scene_file_writer.py</span></a><span style=\"color: #7f7f7f; text-decoration-color: #7f7f7f\">:413</span>\n",
       "                             written in <span style=\"color: #008000; text-decoration-color: #008000\">'/Users/chuhan/.lab/default/</span>                         \n",
       "                             <span style=\"color: #008000; text-decoration-color: #008000\">deepgd/media/videos/deepgd/1080p60/part</span>                         \n",
       "                             <span style=\"color: #008000; text-decoration-color: #008000\">ial_movie_files/Graph/3968072068_363202</span>                         \n",
       "                             <span style=\"color: #008000; text-decoration-color: #008000\">0190_760482752.mp4'</span>                                             \n",
       "</pre>\n"
      ],
      "text/plain": [
       "\u001b[2;36m[07/19/21 03:15:06]\u001b[0m\u001b[2;36m \u001b[0m\u001b[32mINFO    \u001b[0m Animation \u001b[32m3\u001b[0m : Partial movie file        \u001b]8;id=1626678906.1844978-592764;file:///usr/local/anaconda3/lib/python3.9/site-packages/manim/scene/scene_file_writer.py\u001b\\\u001b[2mscene_file_writer.py\u001b[0m\u001b]8;;\u001b\\\u001b[2m:413\u001b[0m\n",
       "                             written in \u001b[32m'/Users/chuhan/.lab/default/\u001b[0m                         \n",
       "                             \u001b[32mdeepgd/media/videos/deepgd/1080p60/part\u001b[0m                         \n",
       "                             \u001b[32mial_movie_files/Graph/3968072068_363202\u001b[0m                         \n",
       "                             \u001b[32m0190_760482752.mp4'\u001b[0m                                             \n"
      ]
     },
     "metadata": {},
     "output_type": "display_data"
    },
    {
     "data": {
      "text/html": [
       "<pre style=\"white-space:pre;overflow-x:auto;line-height:normal;font-family:Menlo,'DejaVu Sans Mono',consolas,'Courier New',monospace\"><span style=\"color: #7fbfbf; text-decoration-color: #7fbfbf\">                    </span><span style=\"color: #008000; text-decoration-color: #008000\">INFO    </span> Animation <span style=\"color: #008000; text-decoration-color: #008000\">4</span> : Using cached data <span style=\"font-weight: bold\">(</span>hash :    <a href=\"file:///usr/local/anaconda3/lib/python3.9/site-packages/manim/renderer/cairo_renderer.py\"><span style=\"color: #7f7f7f; text-decoration-color: #7f7f7f\">cairo_renderer.py</span></a><span style=\"color: #7f7f7f; text-decoration-color: #7f7f7f\">:100</span>\n",
       "                             3968072068_4043822413_3472140813<span style=\"font-weight: bold\">)</span>                               \n",
       "</pre>\n"
      ],
      "text/plain": [
       "\u001b[2;36m                   \u001b[0m\u001b[2;36m \u001b[0m\u001b[32mINFO    \u001b[0m Animation \u001b[32m4\u001b[0m : Using cached data \u001b[1m(\u001b[0mhash :    \u001b]8;id=1626678906.59024-980884;file:///usr/local/anaconda3/lib/python3.9/site-packages/manim/renderer/cairo_renderer.py\u001b\\\u001b[2mcairo_renderer.py\u001b[0m\u001b]8;;\u001b\\\u001b[2m:100\u001b[0m\n",
       "                             3968072068_4043822413_3472140813\u001b[1m)\u001b[0m                               \n"
      ]
     },
     "metadata": {},
     "output_type": "display_data"
    },
    {
     "name": "stderr",
     "output_type": "stream",
     "text": [
      "                                                                                                              \r"
     ]
    },
    {
     "data": {
      "text/html": [
       "<pre style=\"white-space:pre;overflow-x:auto;line-height:normal;font-family:Menlo,'DejaVu Sans Mono',consolas,'Courier New',monospace\"><span style=\"color: #7fbfbf; text-decoration-color: #7fbfbf\">[07/19/21 03:15:10] </span><span style=\"color: #008000; text-decoration-color: #008000\">INFO    </span> Animation <span style=\"color: #008000; text-decoration-color: #008000\">5</span> : Partial movie file        <a href=\"file:///usr/local/anaconda3/lib/python3.9/site-packages/manim/scene/scene_file_writer.py\"><span style=\"color: #7f7f7f; text-decoration-color: #7f7f7f\">scene_file_writer.py</span></a><span style=\"color: #7f7f7f; text-decoration-color: #7f7f7f\">:413</span>\n",
       "                             written in <span style=\"color: #008000; text-decoration-color: #008000\">'/Users/chuhan/.lab/default/</span>                         \n",
       "                             <span style=\"color: #008000; text-decoration-color: #008000\">deepgd/media/videos/deepgd/1080p60/part</span>                         \n",
       "                             <span style=\"color: #008000; text-decoration-color: #008000\">ial_movie_files/Graph/3968072068_671665</span>                         \n",
       "                             <span style=\"color: #008000; text-decoration-color: #008000\">549_2378177804.mp4'</span>                                             \n",
       "</pre>\n"
      ],
      "text/plain": [
       "\u001b[2;36m[07/19/21 03:15:10]\u001b[0m\u001b[2;36m \u001b[0m\u001b[32mINFO    \u001b[0m Animation \u001b[32m5\u001b[0m : Partial movie file        \u001b]8;id=1626678910.870223-882043;file:///usr/local/anaconda3/lib/python3.9/site-packages/manim/scene/scene_file_writer.py\u001b\\\u001b[2mscene_file_writer.py\u001b[0m\u001b]8;;\u001b\\\u001b[2m:413\u001b[0m\n",
       "                             written in \u001b[32m'/Users/chuhan/.lab/default/\u001b[0m                         \n",
       "                             \u001b[32mdeepgd/media/videos/deepgd/1080p60/part\u001b[0m                         \n",
       "                             \u001b[32mial_movie_files/Graph/3968072068_671665\u001b[0m                         \n",
       "                             \u001b[32m549_2378177804.mp4'\u001b[0m                                             \n"
      ]
     },
     "metadata": {},
     "output_type": "display_data"
    },
    {
     "name": "stderr",
     "output_type": "stream",
     "text": [
      "                                                                                                              \r"
     ]
    },
    {
     "data": {
      "text/html": [
       "<pre style=\"white-space:pre;overflow-x:auto;line-height:normal;font-family:Menlo,'DejaVu Sans Mono',consolas,'Courier New',monospace\"><span style=\"color: #7fbfbf; text-decoration-color: #7fbfbf\">[07/19/21 03:15:12] </span><span style=\"color: #008000; text-decoration-color: #008000\">INFO    </span> Animation <span style=\"color: #008000; text-decoration-color: #008000\">6</span> : Partial movie file        <a href=\"file:///usr/local/anaconda3/lib/python3.9/site-packages/manim/scene/scene_file_writer.py\"><span style=\"color: #7f7f7f; text-decoration-color: #7f7f7f\">scene_file_writer.py</span></a><span style=\"color: #7f7f7f; text-decoration-color: #7f7f7f\">:413</span>\n",
       "                             written in <span style=\"color: #008000; text-decoration-color: #008000\">'/Users/chuhan/.lab/default/</span>                         \n",
       "                             <span style=\"color: #008000; text-decoration-color: #008000\">deepgd/media/videos/deepgd/1080p60/part</span>                         \n",
       "                             <span style=\"color: #008000; text-decoration-color: #008000\">ial_movie_files/Graph/3968072068_273908</span>                         \n",
       "                             <span style=\"color: #008000; text-decoration-color: #008000\">9297_3645515556.mp4'</span>                                            \n",
       "</pre>\n"
      ],
      "text/plain": [
       "\u001b[2;36m[07/19/21 03:15:12]\u001b[0m\u001b[2;36m \u001b[0m\u001b[32mINFO    \u001b[0m Animation \u001b[32m6\u001b[0m : Partial movie file        \u001b]8;id=1626678912.7656388-917056;file:///usr/local/anaconda3/lib/python3.9/site-packages/manim/scene/scene_file_writer.py\u001b\\\u001b[2mscene_file_writer.py\u001b[0m\u001b]8;;\u001b\\\u001b[2m:413\u001b[0m\n",
       "                             written in \u001b[32m'/Users/chuhan/.lab/default/\u001b[0m                         \n",
       "                             \u001b[32mdeepgd/media/videos/deepgd/1080p60/part\u001b[0m                         \n",
       "                             \u001b[32mial_movie_files/Graph/3968072068_273908\u001b[0m                         \n",
       "                             \u001b[32m9297_3645515556.mp4'\u001b[0m                                            \n"
      ]
     },
     "metadata": {},
     "output_type": "display_data"
    },
    {
     "data": {
      "text/html": [
       "<pre style=\"white-space:pre;overflow-x:auto;line-height:normal;font-family:Menlo,'DejaVu Sans Mono',consolas,'Courier New',monospace\"><span style=\"color: #7fbfbf; text-decoration-color: #7fbfbf\">[07/19/21 03:15:13] </span><span style=\"color: #008000; text-decoration-color: #008000\">INFO    </span> Animation <span style=\"color: #008000; text-decoration-color: #008000\">7</span> : Using cached data <span style=\"font-weight: bold\">(</span>hash :    <a href=\"file:///usr/local/anaconda3/lib/python3.9/site-packages/manim/renderer/cairo_renderer.py\"><span style=\"color: #7f7f7f; text-decoration-color: #7f7f7f\">cairo_renderer.py</span></a><span style=\"color: #7f7f7f; text-decoration-color: #7f7f7f\">:100</span>\n",
       "                             3968072068_1091293479_1169285269<span style=\"font-weight: bold\">)</span>                               \n",
       "</pre>\n"
      ],
      "text/plain": [
       "\u001b[2;36m[07/19/21 03:15:13]\u001b[0m\u001b[2;36m \u001b[0m\u001b[32mINFO    \u001b[0m Animation \u001b[32m7\u001b[0m : Using cached data \u001b[1m(\u001b[0mhash :    \u001b]8;id=1626678913.4911911-982121;file:///usr/local/anaconda3/lib/python3.9/site-packages/manim/renderer/cairo_renderer.py\u001b\\\u001b[2mcairo_renderer.py\u001b[0m\u001b]8;;\u001b\\\u001b[2m:100\u001b[0m\n",
       "                             3968072068_1091293479_1169285269\u001b[1m)\u001b[0m                               \n"
      ]
     },
     "metadata": {},
     "output_type": "display_data"
    },
    {
     "name": "stderr",
     "output_type": "stream",
     "text": [
      "                                                                                                              \r"
     ]
    },
    {
     "data": {
      "text/html": [
       "<pre style=\"white-space:pre;overflow-x:auto;line-height:normal;font-family:Menlo,'DejaVu Sans Mono',consolas,'Courier New',monospace\"><span style=\"color: #7fbfbf; text-decoration-color: #7fbfbf\">[07/19/21 03:15:14] </span><span style=\"color: #008000; text-decoration-color: #008000\">INFO    </span> Animation <span style=\"color: #008000; text-decoration-color: #008000\">8</span> : Using cached data <span style=\"font-weight: bold\">(</span>hash :    <a href=\"file:///usr/local/anaconda3/lib/python3.9/site-packages/manim/renderer/cairo_renderer.py\"><span style=\"color: #7f7f7f; text-decoration-color: #7f7f7f\">cairo_renderer.py</span></a><span style=\"color: #7f7f7f; text-decoration-color: #7f7f7f\">:100</span>\n",
       "                             3968072068_2321784719_2474360082<span style=\"font-weight: bold\">)</span>                               \n",
       "</pre>\n"
      ],
      "text/plain": [
       "\u001b[2;36m[07/19/21 03:15:14]\u001b[0m\u001b[2;36m \u001b[0m\u001b[32mINFO    \u001b[0m Animation \u001b[32m8\u001b[0m : Using cached data \u001b[1m(\u001b[0mhash :    \u001b]8;id=1626678914.309154-352927;file:///usr/local/anaconda3/lib/python3.9/site-packages/manim/renderer/cairo_renderer.py\u001b\\\u001b[2mcairo_renderer.py\u001b[0m\u001b]8;;\u001b\\\u001b[2m:100\u001b[0m\n",
       "                             3968072068_2321784719_2474360082\u001b[1m)\u001b[0m                               \n"
      ]
     },
     "metadata": {},
     "output_type": "display_data"
    },
    {
     "name": "stderr",
     "output_type": "stream",
     "text": [
      "                                                                                                              \r"
     ]
    },
    {
     "data": {
      "text/html": [
       "<pre style=\"white-space:pre;overflow-x:auto;line-height:normal;font-family:Menlo,'DejaVu Sans Mono',consolas,'Courier New',monospace\"><span style=\"color: #7fbfbf; text-decoration-color: #7fbfbf\">[07/19/21 03:15:19] </span><span style=\"color: #008000; text-decoration-color: #008000\">INFO    </span> Animation <span style=\"color: #008000; text-decoration-color: #008000\">9</span> : Partial movie file        <a href=\"file:///usr/local/anaconda3/lib/python3.9/site-packages/manim/scene/scene_file_writer.py\"><span style=\"color: #7f7f7f; text-decoration-color: #7f7f7f\">scene_file_writer.py</span></a><span style=\"color: #7f7f7f; text-decoration-color: #7f7f7f\">:413</span>\n",
       "                             written in <span style=\"color: #008000; text-decoration-color: #008000\">'/Users/chuhan/.lab/default/</span>                         \n",
       "                             <span style=\"color: #008000; text-decoration-color: #008000\">deepgd/media/videos/deepgd/1080p60/part</span>                         \n",
       "                             <span style=\"color: #008000; text-decoration-color: #008000\">ial_movie_files/Graph/3968072068_322212</span>                         \n",
       "                             <span style=\"color: #008000; text-decoration-color: #008000\">9705_1864205408.mp4'</span>                                            \n",
       "</pre>\n"
      ],
      "text/plain": [
       "\u001b[2;36m[07/19/21 03:15:19]\u001b[0m\u001b[2;36m \u001b[0m\u001b[32mINFO    \u001b[0m Animation \u001b[32m9\u001b[0m : Partial movie file        \u001b]8;id=1626678919.385565-788136;file:///usr/local/anaconda3/lib/python3.9/site-packages/manim/scene/scene_file_writer.py\u001b\\\u001b[2mscene_file_writer.py\u001b[0m\u001b]8;;\u001b\\\u001b[2m:413\u001b[0m\n",
       "                             written in \u001b[32m'/Users/chuhan/.lab/default/\u001b[0m                         \n",
       "                             \u001b[32mdeepgd/media/videos/deepgd/1080p60/part\u001b[0m                         \n",
       "                             \u001b[32mial_movie_files/Graph/3968072068_322212\u001b[0m                         \n",
       "                             \u001b[32m9705_1864205408.mp4'\u001b[0m                                            \n"
      ]
     },
     "metadata": {},
     "output_type": "display_data"
    },
    {
     "data": {
      "text/html": [
       "<pre style=\"white-space:pre;overflow-x:auto;line-height:normal;font-family:Menlo,'DejaVu Sans Mono',consolas,'Courier New',monospace\"><span style=\"color: #7fbfbf; text-decoration-color: #7fbfbf\">                    </span><span style=\"color: #008000; text-decoration-color: #008000\">INFO    </span> Animation <span style=\"color: #008000; text-decoration-color: #008000\">10</span> : Using cached data <span style=\"font-weight: bold\">(</span>hash :   <a href=\"file:///usr/local/anaconda3/lib/python3.9/site-packages/manim/renderer/cairo_renderer.py\"><span style=\"color: #7f7f7f; text-decoration-color: #7f7f7f\">cairo_renderer.py</span></a><span style=\"color: #7f7f7f; text-decoration-color: #7f7f7f\">:100</span>\n",
       "                             3968072068_1618126780_1450214847<span style=\"font-weight: bold\">)</span>                               \n",
       "</pre>\n"
      ],
      "text/plain": [
       "\u001b[2;36m                   \u001b[0m\u001b[2;36m \u001b[0m\u001b[32mINFO    \u001b[0m Animation \u001b[32m10\u001b[0m : Using cached data \u001b[1m(\u001b[0mhash :   \u001b]8;id=1626678919.508485-990371;file:///usr/local/anaconda3/lib/python3.9/site-packages/manim/renderer/cairo_renderer.py\u001b\\\u001b[2mcairo_renderer.py\u001b[0m\u001b]8;;\u001b\\\u001b[2m:100\u001b[0m\n",
       "                             3968072068_1618126780_1450214847\u001b[1m)\u001b[0m                               \n"
      ]
     },
     "metadata": {},
     "output_type": "display_data"
    },
    {
     "name": "stderr",
     "output_type": "stream",
     "text": [
      "                                                                                                              \r"
     ]
    },
    {
     "data": {
      "text/html": [
       "<pre style=\"white-space:pre;overflow-x:auto;line-height:normal;font-family:Menlo,'DejaVu Sans Mono',consolas,'Courier New',monospace\"><span style=\"color: #7fbfbf; text-decoration-color: #7fbfbf\">                    </span><span style=\"color: #008000; text-decoration-color: #008000\">INFO    </span> Animation <span style=\"color: #008000; text-decoration-color: #008000\">11</span> : Using cached data <span style=\"font-weight: bold\">(</span>hash :   <a href=\"file:///usr/local/anaconda3/lib/python3.9/site-packages/manim/renderer/cairo_renderer.py\"><span style=\"color: #7f7f7f; text-decoration-color: #7f7f7f\">cairo_renderer.py</span></a><span style=\"color: #7f7f7f; text-decoration-color: #7f7f7f\">:100</span>\n",
       "                             3968072068_2057493503_1608529939<span style=\"font-weight: bold\">)</span>                               \n",
       "</pre>\n"
      ],
      "text/plain": [
       "\u001b[2;36m                   \u001b[0m\u001b[2;36m \u001b[0m\u001b[32mINFO    \u001b[0m Animation \u001b[32m11\u001b[0m : Using cached data \u001b[1m(\u001b[0mhash :   \u001b]8;id=1626678919.604373-964731;file:///usr/local/anaconda3/lib/python3.9/site-packages/manim/renderer/cairo_renderer.py\u001b\\\u001b[2mcairo_renderer.py\u001b[0m\u001b]8;;\u001b\\\u001b[2m:100\u001b[0m\n",
       "                             3968072068_2057493503_1608529939\u001b[1m)\u001b[0m                               \n"
      ]
     },
     "metadata": {},
     "output_type": "display_data"
    },
    {
     "data": {
      "text/html": [
       "<pre style=\"white-space:pre;overflow-x:auto;line-height:normal;font-family:Menlo,'DejaVu Sans Mono',consolas,'Courier New',monospace\"><span style=\"color: #7fbfbf; text-decoration-color: #7fbfbf\">                    </span><span style=\"color: #008000; text-decoration-color: #008000\">INFO    </span>                                         <a href=\"file:///usr/local/anaconda3/lib/python3.9/site-packages/manim/scene/scene_file_writer.py\"><span style=\"color: #7f7f7f; text-decoration-color: #7f7f7f\">scene_file_writer.py</span></a><span style=\"color: #7f7f7f; text-decoration-color: #7f7f7f\">:597</span>\n",
       "                             <span style=\"color: #808000; text-decoration-color: #808000; font-weight: bold\">File</span> ready at <span style=\"color: #008000; text-decoration-color: #008000\">'/Users/chuhan/.lab/defau</span>                         \n",
       "                             <span style=\"color: #008000; text-decoration-color: #008000\">lt/deepgd/media/videos/deepgd/1080p60/G</span>                         \n",
       "                             <span style=\"color: #008000; text-decoration-color: #008000\">raph.mp4'</span>                                                       \n",
       "                                                                                             \n",
       "</pre>\n"
      ],
      "text/plain": [
       "\u001b[2;36m                   \u001b[0m\u001b[2;36m \u001b[0m\u001b[32mINFO    \u001b[0m                                         \u001b]8;id=1626678919.758744-801323;file:///usr/local/anaconda3/lib/python3.9/site-packages/manim/scene/scene_file_writer.py\u001b\\\u001b[2mscene_file_writer.py\u001b[0m\u001b]8;;\u001b\\\u001b[2m:597\u001b[0m\n",
       "                             \u001b[1;33mFile\u001b[0m ready at \u001b[32m'/Users/chuhan/.lab/defau\u001b[0m                         \n",
       "                             \u001b[32mlt/deepgd/media/videos/deepgd/1080p60/G\u001b[0m                         \n",
       "                             \u001b[32mraph.mp4'\u001b[0m                                                       \n",
       "                                                                                             \n"
      ]
     },
     "metadata": {},
     "output_type": "display_data"
    },
    {
     "data": {
      "text/html": [
       "<pre style=\"white-space:pre;overflow-x:auto;line-height:normal;font-family:Menlo,'DejaVu Sans Mono',consolas,'Courier New',monospace\"><span style=\"color: #7fbfbf; text-decoration-color: #7fbfbf\">                    </span><span style=\"color: #008000; text-decoration-color: #008000\">INFO    </span> The partial movie directory is full <span style=\"font-weight: bold\">(</span>&gt;  <a href=\"file:///usr/local/anaconda3/lib/python3.9/site-packages/manim/scene/scene_file_writer.py\"><span style=\"color: #7f7f7f; text-decoration-color: #7f7f7f\">scene_file_writer.py</span></a><span style=\"color: #7f7f7f; text-decoration-color: #7f7f7f\">:575</span>\n",
       "                             <span style=\"color: #008000; text-decoration-color: #008000\">100</span> files<span style=\"font-weight: bold\">)</span>. Therefore, manim has                                \n",
       "                             removed <span style=\"color: #008000; text-decoration-color: #008000\">6</span> <span style=\"color: #800080; text-decoration-color: #800080; font-weight: bold\">file</span><span style=\"font-weight: bold\">(</span>s<span style=\"font-weight: bold\">)</span> used by it the                                \n",
       "                             longest ago.You can change this                                 \n",
       "                             behaviour by changing max_files_cached                          \n",
       "                             in config.                                                      \n",
       "</pre>\n"
      ],
      "text/plain": [
       "\u001b[2;36m                   \u001b[0m\u001b[2;36m \u001b[0m\u001b[32mINFO    \u001b[0m The partial movie directory is full \u001b[1m(\u001b[0m>  \u001b]8;id=1626678919.7867541-425423;file:///usr/local/anaconda3/lib/python3.9/site-packages/manim/scene/scene_file_writer.py\u001b\\\u001b[2mscene_file_writer.py\u001b[0m\u001b]8;;\u001b\\\u001b[2m:575\u001b[0m\n",
       "                             \u001b[32m100\u001b[0m files\u001b[1m)\u001b[0m. Therefore, manim has                                \n",
       "                             removed \u001b[32m6\u001b[0m \u001b[1;35mfile\u001b[0m\u001b[1m(\u001b[0ms\u001b[1m)\u001b[0m used by it the                                \n",
       "                             longest ago.You can change this                                 \n",
       "                             behaviour by changing max_files_cached                          \n",
       "                             in config.                                                      \n"
      ]
     },
     "metadata": {},
     "output_type": "display_data"
    },
    {
     "data": {
      "text/html": [
       "<pre style=\"white-space:pre;overflow-x:auto;line-height:normal;font-family:Menlo,'DejaVu Sans Mono',consolas,'Courier New',monospace\"><span style=\"color: #7fbfbf; text-decoration-color: #7fbfbf\">                    </span><span style=\"color: #008000; text-decoration-color: #008000\">INFO    </span> <span style=\"color: #808000; text-decoration-color: #808000; font-weight: bold\">Rendered</span> Graph                                      <a href=\"file:///usr/local/anaconda3/lib/python3.9/site-packages/manim/scene/scene.py\"><span style=\"color: #7f7f7f; text-decoration-color: #7f7f7f\">scene.py</span></a><span style=\"color: #7f7f7f; text-decoration-color: #7f7f7f\">:228</span>\n",
       "                             <span style=\"color: #808000; text-decoration-color: #808000; font-weight: bold\">Played</span> <span style=\"color: #008000; text-decoration-color: #008000\">12</span> <span style=\"color: #808000; text-decoration-color: #808000; font-weight: bold\">animations</span>                                            \n",
       "</pre>\n"
      ],
      "text/plain": [
       "\u001b[2;36m                   \u001b[0m\u001b[2;36m \u001b[0m\u001b[32mINFO    \u001b[0m \u001b[1;33mRendered\u001b[0m Graph                                      \u001b]8;id=1626678919.789418-768833;file:///usr/local/anaconda3/lib/python3.9/site-packages/manim/scene/scene.py\u001b\\\u001b[2mscene.py\u001b[0m\u001b]8;;\u001b\\\u001b[2m:228\u001b[0m\n",
       "                             \u001b[1;33mPlayed\u001b[0m \u001b[32m12\u001b[0m \u001b[1;33manimations\u001b[0m                                            \n"
      ]
     },
     "metadata": {},
     "output_type": "display_data"
    },
    {
     "data": {
      "text/html": [
       "<video src=\"media/jupyter/Graph@2021-07-19@03-15-19.mp4\" controls autoplay loop style=\"max-width: 25vw;\"  >\n",
       "      Your browser does not support the <code>video</code> element.\n",
       "    </video>"
      ],
      "text/plain": [
       "<IPython.core.display.Video object>"
      ]
     },
     "metadata": {},
     "output_type": "display_data"
    }
   ],
   "source": [
    "%%manim Graph\n",
    "class Graph(Scene):\n",
    "    def construct(self):\n",
    "        n_layers = len(colors)\n",
    "        interval = (end_x-start_x)/(n_layers-1)\n",
    "        edges = torch.tensor(list(G_list[idx].edges))\n",
    "        raw_pos = normalize(data_list[idx].gt_pos, data_list[idx])\n",
    "        pos = shear(raw_pos, data_list[idx])\n",
    "        layer = Polygon([-1, -3, 0],\n",
    "                        [1, -1, 0],\n",
    "                        [1, 3, 0],\n",
    "                        [-1, 1, 0], \n",
    "                        stroke_color=GREY, \n",
    "                        fill_color=GREY).set_opacity(0.5).shift(RIGHT*start_x)\n",
    "        begin_lines = [Line([*p, 0], [*q, 0]).set_color(GRAY) for p, q in raw_pos[edges]*init_scale]    \n",
    "        begin_dots = [Dot().shift([*p, 0]).set_color(colors[0]).scale(init_scale) for p in raw_pos*init_scale]\n",
    "        lines = [Line([*p, 0], [*q, 0]).shift(RIGHT*start_x).set_color(GRAY) for p, q in pos[edges]]\n",
    "        dots = [Dot().shift([*p, 0]).shift(RIGHT*start_x).set_color(colors[0]) for p in pos]\n",
    "        end_lines = [Line([*p, 0], [*q, 0]).set_color(GRAY) for p, q in raw_pos[edges]*init_scale]    \n",
    "        end_dots = [Dot().shift([*p, 0]).set_color(colors[-1]).scale(init_scale) for p in raw_pos*init_scale]    \n",
    "        \n",
    "        self.play(FadeIn(layer),\n",
    "                  *[Transform(begin_line, line) for begin_line, line in zip(begin_lines, lines)],\n",
    "                  *[Transform(begin_dot, dot) for begin_dot, dot in zip(begin_dots, dots)])\n",
    "        \n",
    "        groups = [[layer] + begin_lines + lines + begin_dots + dots]\n",
    "        for x_pos, color in zip(np.linspace(start_x, end_x, n_layers)[:-1], colors[1:]):\n",
    "            all_msg_dots = []\n",
    "            animations = []\n",
    "            for c_idx in range(len(pos)):\n",
    "                msg_pos = pos[torch.tensor(list(dict(G_list[idx].adjacency())[c_idx].keys()))]\n",
    "                msg_dots = [Dot().shift([*p, 0]).shift(RIGHT*x_pos).set_fill(color, opacity=0) for p in msg_pos]\n",
    "                msg_shifts = [[pos[c_idx][0]-x, pos[c_idx][1]-y, 0] for x, y in msg_pos]\n",
    "                all_msg_dots += msg_dots\n",
    "\n",
    "    #             self.play(*[dot.animate.shift(shift).set_opacity(1) for dot, shift in zip(msg_dots, msg_shifts)])\n",
    "                animations.append(AnimationGroup(\n",
    "                    *[dot.animate.shift(shift).set_opacity(1) for dot, shift in zip(msg_dots, msg_shifts)]\n",
    "                ))\n",
    "            self.play(AnimationGroup(*animations, lag_ratio=aggr_lag))\n",
    "            [d.set_opacity(0) for d in all_msg_dots]\n",
    "\n",
    "            layer = Polygon([-1, -3, 0],\n",
    "                            [1, -1, 0],\n",
    "                            [1, 3, 0],\n",
    "                            [-1, 1, 0],\n",
    "                            stroke_color=GREY, \n",
    "                            fill_color=GREY).set_opacity(0.5).shift(RIGHT*(x_pos+interval))\n",
    "            lines = [l.copy() for l in lines]\n",
    "            dots = [d.copy().set_color(color) for d in dots]\n",
    "            groups.append([layer] + lines + dots + all_msg_dots)\n",
    "            \n",
    "            self.play(FadeIn(layer),\n",
    "                      *[l.animate.shift(RIGHT*interval) for l in lines],\n",
    "                      *[d.animate.shift(RIGHT*interval) for d in dots]) \n",
    "            \n",
    "        \n",
    "        lines = [l.copy() for l in lines]\n",
    "        dots = [d.copy().set_color(colors[-1]) for d in dots]\n",
    "        self.add(*lines)\n",
    "        self.add(*dots)\n",
    "        \n",
    "        self.play(*[FadeOut(obj) for group in groups for obj in group])\n",
    "        self.play(*[Transform(line, end_line) for line, end_line in zip(lines, end_lines)],\n",
    "                  *[Transform(dot, end_dot) for dot, end_dot in zip(dots, end_dots)])\n",
    "        self.play(Wait().set_run_time(ending_wait))"
   ]
  },
  {
   "cell_type": "code",
   "execution_count": 61,
   "id": "e7684c3d-c1c4-4244-bd61-c6645a5bc1db",
   "metadata": {},
   "outputs": [
    {
     "name": "stderr",
     "output_type": "stream",
     "text": [
      "                                                                                                              \r"
     ]
    },
    {
     "data": {
      "text/html": [
       "<pre style=\"white-space:pre;overflow-x:auto;line-height:normal;font-family:Menlo,'DejaVu Sans Mono',consolas,'Courier New',monospace\"><span style=\"color: #7fbfbf; text-decoration-color: #7fbfbf\">[07/17/21 12:46:36] </span><span style=\"color: #008000; text-decoration-color: #008000\">INFO    </span> Animation <span style=\"color: #008000; text-decoration-color: #008000\">0</span> : Partial movie file        <a href=\"file:///usr/local/anaconda3/lib/python3.9/site-packages/manim/scene/scene_file_writer.py\"><span style=\"color: #7f7f7f; text-decoration-color: #7f7f7f\">scene_file_writer.py</span></a><span style=\"color: #7f7f7f; text-decoration-color: #7f7f7f\">:413</span>\n",
       "                             written in <span style=\"color: #008000; text-decoration-color: #008000\">'/Users/chuhan/.lab/default/</span>                         \n",
       "                             <span style=\"color: #008000; text-decoration-color: #008000\">deepgd/media/videos/deepgd/1080p60/part</span>                         \n",
       "                             <span style=\"color: #008000; text-decoration-color: #008000\">ial_movie_files/TwoCircles/450974505_12</span>                         \n",
       "                             <span style=\"color: #008000; text-decoration-color: #008000\">5445262_346011738.mp4'</span>                                          \n",
       "</pre>\n"
      ],
      "text/plain": [
       "\u001b[2;36m[07/17/21 12:46:36]\u001b[0m\u001b[2;36m \u001b[0m\u001b[32mINFO    \u001b[0m Animation \u001b[32m0\u001b[0m : Partial movie file        \u001b]8;id=1626540396.560949-334294;file:///usr/local/anaconda3/lib/python3.9/site-packages/manim/scene/scene_file_writer.py\u001b\\\u001b[2mscene_file_writer.py\u001b[0m\u001b]8;;\u001b\\\u001b[2m:413\u001b[0m\n",
       "                             written in \u001b[32m'/Users/chuhan/.lab/default/\u001b[0m                         \n",
       "                             \u001b[32mdeepgd/media/videos/deepgd/1080p60/part\u001b[0m                         \n",
       "                             \u001b[32mial_movie_files/TwoCircles/450974505_12\u001b[0m                         \n",
       "                             \u001b[32m5445262_346011738.mp4'\u001b[0m                                          \n"
      ]
     },
     "metadata": {},
     "output_type": "display_data"
    },
    {
     "name": "stderr",
     "output_type": "stream",
     "text": [
      "                                                                                                              \r"
     ]
    },
    {
     "data": {
      "text/html": [
       "<pre style=\"white-space:pre;overflow-x:auto;line-height:normal;font-family:Menlo,'DejaVu Sans Mono',consolas,'Courier New',monospace\"><span style=\"color: #7fbfbf; text-decoration-color: #7fbfbf\">[07/17/21 12:46:37] </span><span style=\"color: #008000; text-decoration-color: #008000\">INFO    </span> Animation <span style=\"color: #008000; text-decoration-color: #008000\">1</span> : Partial movie file        <a href=\"file:///usr/local/anaconda3/lib/python3.9/site-packages/manim/scene/scene_file_writer.py\"><span style=\"color: #7f7f7f; text-decoration-color: #7f7f7f\">scene_file_writer.py</span></a><span style=\"color: #7f7f7f; text-decoration-color: #7f7f7f\">:413</span>\n",
       "                             written in <span style=\"color: #008000; text-decoration-color: #008000\">'/Users/chuhan/.lab/default/</span>                         \n",
       "                             <span style=\"color: #008000; text-decoration-color: #008000\">deepgd/media/videos/deepgd/1080p60/part</span>                         \n",
       "                             <span style=\"color: #008000; text-decoration-color: #008000\">ial_movie_files/TwoCircles/3968072068_9</span>                         \n",
       "                             <span style=\"color: #008000; text-decoration-color: #008000\">95073826_2444356619.mp4'</span>                                        \n",
       "</pre>\n"
      ],
      "text/plain": [
       "\u001b[2;36m[07/17/21 12:46:37]\u001b[0m\u001b[2;36m \u001b[0m\u001b[32mINFO    \u001b[0m Animation \u001b[32m1\u001b[0m : Partial movie file        \u001b]8;id=1626540398.002571-969114;file:///usr/local/anaconda3/lib/python3.9/site-packages/manim/scene/scene_file_writer.py\u001b\\\u001b[2mscene_file_writer.py\u001b[0m\u001b]8;;\u001b\\\u001b[2m:413\u001b[0m\n",
       "                             written in \u001b[32m'/Users/chuhan/.lab/default/\u001b[0m                         \n",
       "                             \u001b[32mdeepgd/media/videos/deepgd/1080p60/part\u001b[0m                         \n",
       "                             \u001b[32mial_movie_files/TwoCircles/3968072068_9\u001b[0m                         \n",
       "                             \u001b[32m95073826_2444356619.mp4'\u001b[0m                                        \n"
      ]
     },
     "metadata": {},
     "output_type": "display_data"
    },
    {
     "data": {
      "text/html": [
       "<pre style=\"white-space:pre;overflow-x:auto;line-height:normal;font-family:Menlo,'DejaVu Sans Mono',consolas,'Courier New',monospace\"><span style=\"color: #7fbfbf; text-decoration-color: #7fbfbf\">[07/17/21 12:46:38] </span><span style=\"color: #008000; text-decoration-color: #008000\">INFO    </span>                                         <a href=\"file:///usr/local/anaconda3/lib/python3.9/site-packages/manim/scene/scene_file_writer.py\"><span style=\"color: #7f7f7f; text-decoration-color: #7f7f7f\">scene_file_writer.py</span></a><span style=\"color: #7f7f7f; text-decoration-color: #7f7f7f\">:597</span>\n",
       "                             <span style=\"color: #808000; text-decoration-color: #808000; font-weight: bold\">File</span> ready at <span style=\"color: #008000; text-decoration-color: #008000\">'/Users/chuhan/.lab/defau</span>                         \n",
       "                             <span style=\"color: #008000; text-decoration-color: #008000\">lt/deepgd/media/videos/deepgd/1080p60/T</span>                         \n",
       "                             <span style=\"color: #008000; text-decoration-color: #008000\">woCircles.mp4'</span>                                                  \n",
       "                                                                                             \n",
       "</pre>\n"
      ],
      "text/plain": [
       "\u001b[2;36m[07/17/21 12:46:38]\u001b[0m\u001b[2;36m \u001b[0m\u001b[32mINFO    \u001b[0m                                         \u001b]8;id=1626540398.077981-352844;file:///usr/local/anaconda3/lib/python3.9/site-packages/manim/scene/scene_file_writer.py\u001b\\\u001b[2mscene_file_writer.py\u001b[0m\u001b]8;;\u001b\\\u001b[2m:597\u001b[0m\n",
       "                             \u001b[1;33mFile\u001b[0m ready at \u001b[32m'/Users/chuhan/.lab/defau\u001b[0m                         \n",
       "                             \u001b[32mlt/deepgd/media/videos/deepgd/1080p60/T\u001b[0m                         \n",
       "                             \u001b[32mwoCircles.mp4'\u001b[0m                                                  \n",
       "                                                                                             \n"
      ]
     },
     "metadata": {},
     "output_type": "display_data"
    },
    {
     "data": {
      "text/html": [
       "<pre style=\"white-space:pre;overflow-x:auto;line-height:normal;font-family:Menlo,'DejaVu Sans Mono',consolas,'Courier New',monospace\"><span style=\"color: #7fbfbf; text-decoration-color: #7fbfbf\">                    </span><span style=\"color: #008000; text-decoration-color: #008000\">INFO    </span> <span style=\"color: #808000; text-decoration-color: #808000; font-weight: bold\">Rendered</span> TwoCircles                                 <a href=\"file:///usr/local/anaconda3/lib/python3.9/site-packages/manim/scene/scene.py\"><span style=\"color: #7f7f7f; text-decoration-color: #7f7f7f\">scene.py</span></a><span style=\"color: #7f7f7f; text-decoration-color: #7f7f7f\">:228</span>\n",
       "                             <span style=\"color: #808000; text-decoration-color: #808000; font-weight: bold\">Played</span> <span style=\"color: #008000; text-decoration-color: #008000\">2</span> <span style=\"color: #808000; text-decoration-color: #808000; font-weight: bold\">animations</span>                                             \n",
       "</pre>\n"
      ],
      "text/plain": [
       "\u001b[2;36m                   \u001b[0m\u001b[2;36m \u001b[0m\u001b[32mINFO    \u001b[0m \u001b[1;33mRendered\u001b[0m TwoCircles                                 \u001b]8;id=1626540398.084202-633105;file:///usr/local/anaconda3/lib/python3.9/site-packages/manim/scene/scene.py\u001b\\\u001b[2mscene.py\u001b[0m\u001b]8;;\u001b\\\u001b[2m:228\u001b[0m\n",
       "                             \u001b[1;33mPlayed\u001b[0m \u001b[32m2\u001b[0m \u001b[1;33manimations\u001b[0m                                             \n"
      ]
     },
     "metadata": {},
     "output_type": "display_data"
    },
    {
     "data": {
      "text/html": [
       "<video src=\"media/jupyter/TwoCircles@2021-07-17@12-46-38.mp4\" controls autoplay loop style=\"max-width: 25vw;\"  >\n",
       "      Your browser does not support the <code>video</code> element.\n",
       "    </video>"
      ],
      "text/plain": [
       "<IPython.core.display.Video object>"
      ]
     },
     "metadata": {},
     "output_type": "display_data"
    }
   ],
   "source": [
    "%%manim TwoCircles\n",
    "class TwoCircles(Scene):\n",
    "    def construct(self):\n",
    "        r = Circle(color=RED, fill_opacity=1, z_index=0).shift(RIGHT)\n",
    "        g = Circle(color=GREEN, fill_opacity=1, z_index=1)\n",
    "        self.add(r)\n",
    "        self.add(g)\n",
    "        self.play(r.animate.shift(LEFT))\n",
    "        self.play(LaggedStart(r.animate.shift(LEFT)))"
   ]
  },
  {
   "cell_type": "code",
   "execution_count": null,
   "id": "3e0b0e4b-591a-4fe5-96f3-cb2fa0542a6d",
   "metadata": {},
   "outputs": [],
   "source": []
  }
 ],
 "metadata": {
  "kernelspec": {
   "display_name": "Python 3 (ipykernel)",
   "language": "python",
   "name": "python3"
  },
  "language_info": {
   "codemirror_mode": {
    "name": "ipython",
    "version": 3
   },
   "file_extension": ".py",
   "mimetype": "text/x-python",
   "name": "python",
   "nbconvert_exporter": "python",
   "pygments_lexer": "ipython3",
   "version": "3.9.5"
  }
 },
 "nbformat": 4,
 "nbformat_minor": 5
}
