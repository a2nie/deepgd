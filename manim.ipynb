{
 "cells": [
  {
   "cell_type": "code",
   "execution_count": 1,
   "id": "b33bc288-6957-4f7e-a98f-d924d8a85c76",
   "metadata": {},
   "outputs": [
    {
     "data": {
      "text/html": [
       "<pre style=\"white-space:pre;overflow-x:auto;line-height:normal;font-family:Menlo,'DejaVu Sans Mono',consolas,'Courier New',monospace\">Manim Community <span style=\"color: #008000; text-decoration-color: #008000\">v0.8.0</span>\n",
       "\n",
       "</pre>\n"
      ],
      "text/plain": [
       "Manim Community \u001b[32mv0.\u001b[0m\u001b[32m8.0\u001b[0m\n",
       "\n"
      ]
     },
     "metadata": {},
     "output_type": "display_data"
    }
   ],
   "source": [
    "import jupyter_manim\n",
    "from manim import *"
   ]
  },
  {
   "cell_type": "code",
   "execution_count": 3,
   "id": "6da808ae-3f04-4542-87e9-dd9254c2c301",
   "metadata": {},
   "outputs": [],
   "source": [
    "from lib.imports import *\n",
    "from lib.tools import *\n",
    "from lib.utils import *\n",
    "from lib.modules import *\n",
    "from lib.data import *\n",
    "from lib.xing import *\n",
    "from lib.transform import *"
   ]
  },
  {
   "cell_type": "code",
   "execution_count": 4,
   "id": "db1d777d-c7f0-4f74-a448-a9962b735975",
   "metadata": {},
   "outputs": [
    {
     "name": "stdout",
     "output_type": "stream",
     "text": [
      "Load from 'cache/G_list.pickle'\n"
     ]
    }
   ],
   "source": [
    "G_list = load_G_list(data_path='data/rome', index_file='data_index.txt', cache='G_list', cache_prefix='cache/')"
   ]
  },
  {
   "cell_type": "code",
   "execution_count": 5,
   "id": "0f04cbbc-8a35-4b88-a823-e1ab47ea7322",
   "metadata": {},
   "outputs": [
    {
     "name": "stdout",
     "output_type": "stream",
     "text": [
      "Load from 'cache/generate_data_list(list,sparse=False,pivot_mode=None,init_mode=pmds,edge_index=full_edge_index,edge_attr=full_edge_attr,pmds_list=ndarray,gviz_list=ndarray,noisy_layout=True,device=cpu).pickle'\n"
     ]
    }
   ],
   "source": [
    "data_list = generate_data_list(G_list, \n",
    "                               sparse=False, \n",
    "                               pivot_mode=None,\n",
    "                               init_mode='pmds',\n",
    "                               edge_index='full_edge_index',\n",
    "                               edge_attr='full_edge_attr',\n",
    "                               pmds_list=np.load('layouts/rome/pmds.npy', allow_pickle=True),\n",
    "                               gviz_list=np.load('layouts/rome/gviz.npy', allow_pickle=True),\n",
    "                               noisy_layout=True,\n",
    "                               device='cpu', \n",
    "                               cache=True,\n",
    "                               cache_prefix='cache/')"
   ]
  },
  {
   "cell_type": "code",
   "execution_count": 57,
   "id": "a008b497-e841-4591-b7e8-c1c7d0d227ee",
   "metadata": {},
   "outputs": [],
   "source": [
    "normalize = Normalization(target_scale=3/np.sqrt(100), target_angle=np.pi/2)\n",
    "shear = LinearTransformation(torch.tensor([[np.sqrt(2)/2, 0], \n",
    "                                           [np.sqrt(2)/2, 1]]))"
   ]
  },
  {
   "cell_type": "code",
   "execution_count": 58,
   "id": "cf830cb6-f997-465a-b9c5-2424ed5188c0",
   "metadata": {
    "tags": []
   },
   "outputs": [],
   "source": [
    "class SquareToCircle(Scene):\n",
    "    def construct(self):\n",
    "        circle = Circle()  # create a circle\n",
    "        circle.set_fill(PINK, opacity=0.5)  # set color and transparency\n",
    "\n",
    "        square = Square()  # create a square\n",
    "        square.rotate(PI/4)  # rotate a certain amount\n",
    "\n",
    "        self.play(Create(square))  # animate the creation of the square\n",
    "        self.play(Transform(square, circle))  # interpolate the square into the circle\n",
    "        self.play(FadeOut(square))  # fade out animation"
   ]
  },
  {
   "cell_type": "code",
   "execution_count": 59,
   "id": "d371b2a1-f437-4e16-90b3-f4eea09ea9ca",
   "metadata": {},
   "outputs": [
    {
     "name": "stderr",
     "output_type": "stream",
     "text": [
      "                                                                                                              \r"
     ]
    },
    {
     "data": {
      "text/html": [
       "<pre style=\"white-space:pre;overflow-x:auto;line-height:normal;font-family:Menlo,'DejaVu Sans Mono',consolas,'Courier New',monospace\"><span style=\"color: #7fbfbf; text-decoration-color: #7fbfbf\">[07/16/21 17:56:28] </span><span style=\"color: #008000; text-decoration-color: #008000\">INFO    </span> Animation <span style=\"color: #008000; text-decoration-color: #008000\">0</span> : Partial movie file        <a href=\"file:///usr/local/anaconda3/lib/python3.9/site-packages/manim/scene/scene_file_writer.py\"><span style=\"color: #7f7f7f; text-decoration-color: #7f7f7f\">scene_file_writer.py</span></a><span style=\"color: #7f7f7f; text-decoration-color: #7f7f7f\">:413</span>\n",
       "                             written in <span style=\"color: #008000; text-decoration-color: #008000\">'/Users/chuhan/.lab/default/</span>                         \n",
       "                             <span style=\"color: #008000; text-decoration-color: #008000\">deepgd/media/videos/deepgd/1080p60/part</span>                         \n",
       "                             <span style=\"color: #008000; text-decoration-color: #008000\">ial_movie_files/Graph/450974505_5354852</span>                         \n",
       "                             <span style=\"color: #008000; text-decoration-color: #008000\">34_826648718.mp4'</span>                                               \n",
       "</pre>\n"
      ],
      "text/plain": [
       "\u001b[2;36m[07/16/21 17:56:28]\u001b[0m\u001b[2;36m \u001b[0m\u001b[32mINFO    \u001b[0m Animation \u001b[32m0\u001b[0m : Partial movie file        \u001b]8;id=1626472588.0976279-584451;file:///usr/local/anaconda3/lib/python3.9/site-packages/manim/scene/scene_file_writer.py\u001b\\\u001b[2mscene_file_writer.py\u001b[0m\u001b]8;;\u001b\\\u001b[2m:413\u001b[0m\n",
       "                             written in \u001b[32m'/Users/chuhan/.lab/default/\u001b[0m                         \n",
       "                             \u001b[32mdeepgd/media/videos/deepgd/1080p60/part\u001b[0m                         \n",
       "                             \u001b[32mial_movie_files/Graph/450974505_5354852\u001b[0m                         \n",
       "                             \u001b[32m34_826648718.mp4'\u001b[0m                                               \n"
      ]
     },
     "metadata": {},
     "output_type": "display_data"
    },
    {
     "name": "stderr",
     "output_type": "stream",
     "text": [
      "                                                                                                              \r"
     ]
    },
    {
     "data": {
      "text/html": [
       "<pre style=\"white-space:pre;overflow-x:auto;line-height:normal;font-family:Menlo,'DejaVu Sans Mono',consolas,'Courier New',monospace\"><span style=\"color: #7fbfbf; text-decoration-color: #7fbfbf\">[07/16/21 17:56:29] </span><span style=\"color: #008000; text-decoration-color: #008000\">INFO    </span> Animation <span style=\"color: #008000; text-decoration-color: #008000\">1</span> : Partial movie file        <a href=\"file:///usr/local/anaconda3/lib/python3.9/site-packages/manim/scene/scene_file_writer.py\"><span style=\"color: #7f7f7f; text-decoration-color: #7f7f7f\">scene_file_writer.py</span></a><span style=\"color: #7f7f7f; text-decoration-color: #7f7f7f\">:413</span>\n",
       "                             written in <span style=\"color: #008000; text-decoration-color: #008000\">'/Users/chuhan/.lab/default/</span>                         \n",
       "                             <span style=\"color: #008000; text-decoration-color: #008000\">deepgd/media/videos/deepgd/1080p60/part</span>                         \n",
       "                             <span style=\"color: #008000; text-decoration-color: #008000\">ial_movie_files/Graph/3968072068_193896</span>                         \n",
       "                             <span style=\"color: #008000; text-decoration-color: #008000\">1747_4054873404.mp4'</span>                                            \n",
       "</pre>\n"
      ],
      "text/plain": [
       "\u001b[2;36m[07/16/21 17:56:29]\u001b[0m\u001b[2;36m \u001b[0m\u001b[32mINFO    \u001b[0m Animation \u001b[32m1\u001b[0m : Partial movie file        \u001b]8;id=1626472589.704913-475563;file:///usr/local/anaconda3/lib/python3.9/site-packages/manim/scene/scene_file_writer.py\u001b\\\u001b[2mscene_file_writer.py\u001b[0m\u001b]8;;\u001b\\\u001b[2m:413\u001b[0m\n",
       "                             written in \u001b[32m'/Users/chuhan/.lab/default/\u001b[0m                         \n",
       "                             \u001b[32mdeepgd/media/videos/deepgd/1080p60/part\u001b[0m                         \n",
       "                             \u001b[32mial_movie_files/Graph/3968072068_193896\u001b[0m                         \n",
       "                             \u001b[32m1747_4054873404.mp4'\u001b[0m                                            \n"
      ]
     },
     "metadata": {},
     "output_type": "display_data"
    },
    {
     "name": "stderr",
     "output_type": "stream",
     "text": [
      "                                                                                                              \r"
     ]
    },
    {
     "data": {
      "text/html": [
       "<pre style=\"white-space:pre;overflow-x:auto;line-height:normal;font-family:Menlo,'DejaVu Sans Mono',consolas,'Courier New',monospace\"><span style=\"color: #7fbfbf; text-decoration-color: #7fbfbf\">[07/16/21 17:56:37] </span><span style=\"color: #008000; text-decoration-color: #008000\">INFO    </span> Animation <span style=\"color: #008000; text-decoration-color: #008000\">2</span> : Partial movie file        <a href=\"file:///usr/local/anaconda3/lib/python3.9/site-packages/manim/scene/scene_file_writer.py\"><span style=\"color: #7f7f7f; text-decoration-color: #7f7f7f\">scene_file_writer.py</span></a><span style=\"color: #7f7f7f; text-decoration-color: #7f7f7f\">:413</span>\n",
       "                             written in <span style=\"color: #008000; text-decoration-color: #008000\">'/Users/chuhan/.lab/default/</span>                         \n",
       "                             <span style=\"color: #008000; text-decoration-color: #008000\">deepgd/media/videos/deepgd/1080p60/part</span>                         \n",
       "                             <span style=\"color: #008000; text-decoration-color: #008000\">ial_movie_files/Graph/3968072068_365357</span>                         \n",
       "                             <span style=\"color: #008000; text-decoration-color: #008000\">4490_613292070.mp4'</span>                                             \n",
       "</pre>\n"
      ],
      "text/plain": [
       "\u001b[2;36m[07/16/21 17:56:37]\u001b[0m\u001b[2;36m \u001b[0m\u001b[32mINFO    \u001b[0m Animation \u001b[32m2\u001b[0m : Partial movie file        \u001b]8;id=1626472597.336299-406368;file:///usr/local/anaconda3/lib/python3.9/site-packages/manim/scene/scene_file_writer.py\u001b\\\u001b[2mscene_file_writer.py\u001b[0m\u001b]8;;\u001b\\\u001b[2m:413\u001b[0m\n",
       "                             written in \u001b[32m'/Users/chuhan/.lab/default/\u001b[0m                         \n",
       "                             \u001b[32mdeepgd/media/videos/deepgd/1080p60/part\u001b[0m                         \n",
       "                             \u001b[32mial_movie_files/Graph/3968072068_365357\u001b[0m                         \n",
       "                             \u001b[32m4490_613292070.mp4'\u001b[0m                                             \n"
      ]
     },
     "metadata": {},
     "output_type": "display_data"
    },
    {
     "name": "stderr",
     "output_type": "stream",
     "text": [
      "                                                                                                              \r"
     ]
    },
    {
     "data": {
      "text/html": [
       "<pre style=\"white-space:pre;overflow-x:auto;line-height:normal;font-family:Menlo,'DejaVu Sans Mono',consolas,'Courier New',monospace\"><span style=\"color: #7fbfbf; text-decoration-color: #7fbfbf\">[07/16/21 17:56:39] </span><span style=\"color: #008000; text-decoration-color: #008000\">INFO    </span> Animation <span style=\"color: #008000; text-decoration-color: #008000\">3</span> : Partial movie file        <a href=\"file:///usr/local/anaconda3/lib/python3.9/site-packages/manim/scene/scene_file_writer.py\"><span style=\"color: #7f7f7f; text-decoration-color: #7f7f7f\">scene_file_writer.py</span></a><span style=\"color: #7f7f7f; text-decoration-color: #7f7f7f\">:413</span>\n",
       "                             written in <span style=\"color: #008000; text-decoration-color: #008000\">'/Users/chuhan/.lab/default/</span>                         \n",
       "                             <span style=\"color: #008000; text-decoration-color: #008000\">deepgd/media/videos/deepgd/1080p60/part</span>                         \n",
       "                             <span style=\"color: #008000; text-decoration-color: #008000\">ial_movie_files/Graph/3968072068_237237</span>                         \n",
       "                             <span style=\"color: #008000; text-decoration-color: #008000\">4088_2681658465.mp4'</span>                                            \n",
       "</pre>\n"
      ],
      "text/plain": [
       "\u001b[2;36m[07/16/21 17:56:39]\u001b[0m\u001b[2;36m \u001b[0m\u001b[32mINFO    \u001b[0m Animation \u001b[32m3\u001b[0m : Partial movie file        \u001b]8;id=1626472599.129427-452011;file:///usr/local/anaconda3/lib/python3.9/site-packages/manim/scene/scene_file_writer.py\u001b\\\u001b[2mscene_file_writer.py\u001b[0m\u001b]8;;\u001b\\\u001b[2m:413\u001b[0m\n",
       "                             written in \u001b[32m'/Users/chuhan/.lab/default/\u001b[0m                         \n",
       "                             \u001b[32mdeepgd/media/videos/deepgd/1080p60/part\u001b[0m                         \n",
       "                             \u001b[32mial_movie_files/Graph/3968072068_237237\u001b[0m                         \n",
       "                             \u001b[32m4088_2681658465.mp4'\u001b[0m                                            \n"
      ]
     },
     "metadata": {},
     "output_type": "display_data"
    },
    {
     "name": "stderr",
     "output_type": "stream",
     "text": [
      "                                                                                                              \r"
     ]
    },
    {
     "data": {
      "text/html": [
       "<pre style=\"white-space:pre;overflow-x:auto;line-height:normal;font-family:Menlo,'DejaVu Sans Mono',consolas,'Courier New',monospace\"><span style=\"color: #7fbfbf; text-decoration-color: #7fbfbf\">[07/16/21 17:56:45] </span><span style=\"color: #008000; text-decoration-color: #008000\">INFO    </span> Animation <span style=\"color: #008000; text-decoration-color: #008000\">4</span> : Partial movie file        <a href=\"file:///usr/local/anaconda3/lib/python3.9/site-packages/manim/scene/scene_file_writer.py\"><span style=\"color: #7f7f7f; text-decoration-color: #7f7f7f\">scene_file_writer.py</span></a><span style=\"color: #7f7f7f; text-decoration-color: #7f7f7f\">:413</span>\n",
       "                             written in <span style=\"color: #008000; text-decoration-color: #008000\">'/Users/chuhan/.lab/default/</span>                         \n",
       "                             <span style=\"color: #008000; text-decoration-color: #008000\">deepgd/media/videos/deepgd/1080p60/part</span>                         \n",
       "                             <span style=\"color: #008000; text-decoration-color: #008000\">ial_movie_files/Graph/3968072068_263241</span>                         \n",
       "                             <span style=\"color: #008000; text-decoration-color: #008000\">3309_1322720543.mp4'</span>                                            \n",
       "</pre>\n"
      ],
      "text/plain": [
       "\u001b[2;36m[07/16/21 17:56:45]\u001b[0m\u001b[2;36m \u001b[0m\u001b[32mINFO    \u001b[0m Animation \u001b[32m4\u001b[0m : Partial movie file        \u001b]8;id=1626472605.5876951-919150;file:///usr/local/anaconda3/lib/python3.9/site-packages/manim/scene/scene_file_writer.py\u001b\\\u001b[2mscene_file_writer.py\u001b[0m\u001b]8;;\u001b\\\u001b[2m:413\u001b[0m\n",
       "                             written in \u001b[32m'/Users/chuhan/.lab/default/\u001b[0m                         \n",
       "                             \u001b[32mdeepgd/media/videos/deepgd/1080p60/part\u001b[0m                         \n",
       "                             \u001b[32mial_movie_files/Graph/3968072068_263241\u001b[0m                         \n",
       "                             \u001b[32m3309_1322720543.mp4'\u001b[0m                                            \n"
      ]
     },
     "metadata": {},
     "output_type": "display_data"
    },
    {
     "name": "stderr",
     "output_type": "stream",
     "text": [
      "                                                                                                              \r"
     ]
    },
    {
     "data": {
      "text/html": [
       "<pre style=\"white-space:pre;overflow-x:auto;line-height:normal;font-family:Menlo,'DejaVu Sans Mono',consolas,'Courier New',monospace\"><span style=\"color: #7fbfbf; text-decoration-color: #7fbfbf\">[07/16/21 17:56:47] </span><span style=\"color: #008000; text-decoration-color: #008000\">INFO    </span> Animation <span style=\"color: #008000; text-decoration-color: #008000\">5</span> : Partial movie file        <a href=\"file:///usr/local/anaconda3/lib/python3.9/site-packages/manim/scene/scene_file_writer.py\"><span style=\"color: #7f7f7f; text-decoration-color: #7f7f7f\">scene_file_writer.py</span></a><span style=\"color: #7f7f7f; text-decoration-color: #7f7f7f\">:413</span>\n",
       "                             written in <span style=\"color: #008000; text-decoration-color: #008000\">'/Users/chuhan/.lab/default/</span>                         \n",
       "                             <span style=\"color: #008000; text-decoration-color: #008000\">deepgd/media/videos/deepgd/1080p60/part</span>                         \n",
       "                             <span style=\"color: #008000; text-decoration-color: #008000\">ial_movie_files/Graph/3968072068_210196</span>                         \n",
       "                             <span style=\"color: #008000; text-decoration-color: #008000\">7851_874552319.mp4'</span>                                             \n",
       "</pre>\n"
      ],
      "text/plain": [
       "\u001b[2;36m[07/16/21 17:56:47]\u001b[0m\u001b[2;36m \u001b[0m\u001b[32mINFO    \u001b[0m Animation \u001b[32m5\u001b[0m : Partial movie file        \u001b]8;id=1626472607.4308522-149120;file:///usr/local/anaconda3/lib/python3.9/site-packages/manim/scene/scene_file_writer.py\u001b\\\u001b[2mscene_file_writer.py\u001b[0m\u001b]8;;\u001b\\\u001b[2m:413\u001b[0m\n",
       "                             written in \u001b[32m'/Users/chuhan/.lab/default/\u001b[0m                         \n",
       "                             \u001b[32mdeepgd/media/videos/deepgd/1080p60/part\u001b[0m                         \n",
       "                             \u001b[32mial_movie_files/Graph/3968072068_210196\u001b[0m                         \n",
       "                             \u001b[32m7851_874552319.mp4'\u001b[0m                                             \n"
      ]
     },
     "metadata": {},
     "output_type": "display_data"
    },
    {
     "data": {
      "text/html": [
       "<pre style=\"white-space:pre;overflow-x:auto;line-height:normal;font-family:Menlo,'DejaVu Sans Mono',consolas,'Courier New',monospace\"><span style=\"color: #7fbfbf; text-decoration-color: #7fbfbf\">                    </span><span style=\"color: #008000; text-decoration-color: #008000\">INFO    </span>                                         <a href=\"file:///usr/local/anaconda3/lib/python3.9/site-packages/manim/scene/scene_file_writer.py\"><span style=\"color: #7f7f7f; text-decoration-color: #7f7f7f\">scene_file_writer.py</span></a><span style=\"color: #7f7f7f; text-decoration-color: #7f7f7f\">:597</span>\n",
       "                             <span style=\"color: #808000; text-decoration-color: #808000; font-weight: bold\">File</span> ready at <span style=\"color: #008000; text-decoration-color: #008000\">'/Users/chuhan/.lab/defau</span>                         \n",
       "                             <span style=\"color: #008000; text-decoration-color: #008000\">lt/deepgd/media/videos/deepgd/1080p60/G</span>                         \n",
       "                             <span style=\"color: #008000; text-decoration-color: #008000\">raph.mp4'</span>                                                       \n",
       "                                                                                             \n",
       "</pre>\n"
      ],
      "text/plain": [
       "\u001b[2;36m                   \u001b[0m\u001b[2;36m \u001b[0m\u001b[32mINFO    \u001b[0m                                         \u001b]8;id=1626472607.540123-146739;file:///usr/local/anaconda3/lib/python3.9/site-packages/manim/scene/scene_file_writer.py\u001b\\\u001b[2mscene_file_writer.py\u001b[0m\u001b]8;;\u001b\\\u001b[2m:597\u001b[0m\n",
       "                             \u001b[1;33mFile\u001b[0m ready at \u001b[32m'/Users/chuhan/.lab/defau\u001b[0m                         \n",
       "                             \u001b[32mlt/deepgd/media/videos/deepgd/1080p60/G\u001b[0m                         \n",
       "                             \u001b[32mraph.mp4'\u001b[0m                                                       \n",
       "                                                                                             \n"
      ]
     },
     "metadata": {},
     "output_type": "display_data"
    },
    {
     "data": {
      "text/html": [
       "<pre style=\"white-space:pre;overflow-x:auto;line-height:normal;font-family:Menlo,'DejaVu Sans Mono',consolas,'Courier New',monospace\"><span style=\"color: #7fbfbf; text-decoration-color: #7fbfbf\">                    </span><span style=\"color: #008000; text-decoration-color: #008000\">INFO    </span> The partial movie directory is full <span style=\"font-weight: bold\">(</span>&gt;  <a href=\"file:///usr/local/anaconda3/lib/python3.9/site-packages/manim/scene/scene_file_writer.py\"><span style=\"color: #7f7f7f; text-decoration-color: #7f7f7f\">scene_file_writer.py</span></a><span style=\"color: #7f7f7f; text-decoration-color: #7f7f7f\">:575</span>\n",
       "                             <span style=\"color: #008000; text-decoration-color: #008000\">100</span> files<span style=\"font-weight: bold\">)</span>. Therefore, manim has                                \n",
       "                             removed <span style=\"color: #008000; text-decoration-color: #008000\">4</span> <span style=\"color: #800080; text-decoration-color: #800080; font-weight: bold\">file</span><span style=\"font-weight: bold\">(</span>s<span style=\"font-weight: bold\">)</span> used by it the                                \n",
       "                             longest ago.You can change this                                 \n",
       "                             behaviour by changing max_files_cached                          \n",
       "                             in config.                                                      \n",
       "</pre>\n"
      ],
      "text/plain": [
       "\u001b[2;36m                   \u001b[0m\u001b[2;36m \u001b[0m\u001b[32mINFO    \u001b[0m The partial movie directory is full \u001b[1m(\u001b[0m>  \u001b]8;id=1626472607.5524669-958479;file:///usr/local/anaconda3/lib/python3.9/site-packages/manim/scene/scene_file_writer.py\u001b\\\u001b[2mscene_file_writer.py\u001b[0m\u001b]8;;\u001b\\\u001b[2m:575\u001b[0m\n",
       "                             \u001b[32m100\u001b[0m files\u001b[1m)\u001b[0m. Therefore, manim has                                \n",
       "                             removed \u001b[32m4\u001b[0m \u001b[1;35mfile\u001b[0m\u001b[1m(\u001b[0ms\u001b[1m)\u001b[0m used by it the                                \n",
       "                             longest ago.You can change this                                 \n",
       "                             behaviour by changing max_files_cached                          \n",
       "                             in config.                                                      \n"
      ]
     },
     "metadata": {},
     "output_type": "display_data"
    },
    {
     "data": {
      "text/html": [
       "<pre style=\"white-space:pre;overflow-x:auto;line-height:normal;font-family:Menlo,'DejaVu Sans Mono',consolas,'Courier New',monospace\"><span style=\"color: #7fbfbf; text-decoration-color: #7fbfbf\">                    </span><span style=\"color: #008000; text-decoration-color: #008000\">INFO    </span> <span style=\"color: #808000; text-decoration-color: #808000; font-weight: bold\">Rendered</span> Graph                                      <a href=\"file:///usr/local/anaconda3/lib/python3.9/site-packages/manim/scene/scene.py\"><span style=\"color: #7f7f7f; text-decoration-color: #7f7f7f\">scene.py</span></a><span style=\"color: #7f7f7f; text-decoration-color: #7f7f7f\">:228</span>\n",
       "                             <span style=\"color: #808000; text-decoration-color: #808000; font-weight: bold\">Played</span> <span style=\"color: #008000; text-decoration-color: #008000\">6</span> <span style=\"color: #808000; text-decoration-color: #808000; font-weight: bold\">animations</span>                                             \n",
       "</pre>\n"
      ],
      "text/plain": [
       "\u001b[2;36m                   \u001b[0m\u001b[2;36m \u001b[0m\u001b[32mINFO    \u001b[0m \u001b[1;33mRendered\u001b[0m Graph                                      \u001b]8;id=1626472607.55609-285781;file:///usr/local/anaconda3/lib/python3.9/site-packages/manim/scene/scene.py\u001b\\\u001b[2mscene.py\u001b[0m\u001b]8;;\u001b\\\u001b[2m:228\u001b[0m\n",
       "                             \u001b[1;33mPlayed\u001b[0m \u001b[32m6\u001b[0m \u001b[1;33manimations\u001b[0m                                             \n"
      ]
     },
     "metadata": {},
     "output_type": "display_data"
    },
    {
     "data": {
      "text/html": [
       "<video src=\"media/jupyter/Graph@2021-07-16@17-56-47.mp4\" controls autoplay loop style=\"max-width: 25vw;\"  >\n",
       "      Your browser does not support the <code>video</code> element.\n",
       "    </video>"
      ],
      "text/plain": [
       "<IPython.core.display.Video object>"
      ]
     },
     "metadata": {},
     "output_type": "display_data"
    }
   ],
   "source": [
    "%%manim Graph\n",
    "class Graph(Scene):\n",
    "    def construct(self):\n",
    "        idx = 422\n",
    "        pos = normalize(data_list[idx].gt_pos, data_list[idx])\n",
    "        pos = shear(pos, data_list[idx])\n",
    "        edges = torch.tensor(list(G_list[idx].edges))\n",
    "        dots = [Dot().shift([*p, 0]).shift(LEFT*3).set_color(WHITE) for p in pos]\n",
    "        lines = [Line([*p, 0], [*q, 0]).shift(LEFT*3).set_color(GRAY) for p, q in pos[edges]]\n",
    "        \n",
    "        [self.add(l) for l in lines]\n",
    "        [self.add(d) for d in dots]\n",
    "        \n",
    "        all_msg_dots = []\n",
    "        animations = []\n",
    "        for c_idx in range(len(pos)):\n",
    "            msg_pos = pos[torch.tensor(list(dict(G_list[idx].adjacency())[c_idx].keys()))]\n",
    "            msg_dots = [Dot().shift([*p, 0]).shift(LEFT*3).set_fill(YELLOW, opacity=0) for p in msg_pos]\n",
    "            msg_shifts = [[pos[c_idx][0]-x, pos[c_idx][1]-y, 0] for x, y in msg_pos]\n",
    "            all_msg_dots += msg_dots\n",
    "\n",
    "#             self.play(*[dot.animate.shift(shift).set_opacity(1) for dot, shift in zip(msg_dots, msg_shifts)])\n",
    "            animations.append(AnimationGroup(\n",
    "                *[dot.animate.shift(shift).set_opacity(1) for dot, shift in zip(msg_dots, msg_shifts)]\n",
    "            ))\n",
    "        self.play(AnimationGroup(*animations, lag_ratio=0.35))\n",
    "        [d.set_opacity(0) for d in all_msg_dots]\n",
    "        \n",
    "        lines = [l.copy() for l in lines]\n",
    "        dots = [d.copy().set_color(YELLOW) for d in dots]\n",
    "        self.play(*[l.animate.shift(RIGHT*2) for l in lines],\n",
    "                  *[d.animate.shift(RIGHT*2) for d in dots])\n",
    "        \n",
    "        all_msg_dots = []\n",
    "        animations = []\n",
    "        for c_idx in range(len(pos)):\n",
    "            msg_pos = pos[torch.tensor(list(dict(G_list[idx].adjacency())[c_idx].keys()))]\n",
    "            msg_dots = [Dot().shift([*p, 0]).shift(LEFT).set_fill(ORANGE, opacity=0) for p in msg_pos]\n",
    "            msg_shifts = [[pos[c_idx][0]-x, pos[c_idx][1]-y, 0] for x, y in msg_pos]\n",
    "            all_msg_dots += msg_dots\n",
    "\n",
    "#             [self.add(dot) for dot in msg_dots]\n",
    "#             self.play(*[dot.animate.shift(shift).set_opacity(1) for dot, shift in zip(msg_dots, msg_shifts)])\n",
    "            animations.append(AnimationGroup(\n",
    "                *[dot.animate.shift(shift).set_opacity(1) for dot, shift in zip(msg_dots, msg_shifts)]\n",
    "            ))\n",
    "        self.play(AnimationGroup(*animations, lag_ratio=0.4))\n",
    "        [d.set_opacity(0) for d in all_msg_dots]\n",
    "        \n",
    "        lines = [l.copy() for l in lines]\n",
    "        dots = [d.copy().set_color(ORANGE) for d in dots]\n",
    "        self.play(*[l.animate.shift(RIGHT*2) for l in lines],\n",
    "                  *[d.animate.shift(RIGHT*2) for d in dots])\n",
    "        \n",
    "        all_msg_dots = []\n",
    "        animations = []\n",
    "        for c_idx in range(len(pos)):\n",
    "            msg_pos = pos[torch.tensor(list(dict(G_list[idx].adjacency())[c_idx].keys()))]\n",
    "            msg_dots = [Dot().shift([*p, 0]).shift(RIGHT).set_fill(RED, opacity=0) for p in msg_pos]\n",
    "            msg_shifts = [[pos[c_idx][0]-x, pos[c_idx][1]-y, 0] for x, y in msg_pos]\n",
    "            all_msg_dots += msg_dots\n",
    "\n",
    "#             [self.add(dot) for dot in msg_dots]\n",
    "#             self.play(*[dot.animate.shift(shift).set_opacity(1) for dot, shift in zip(msg_dots, msg_shifts)])\n",
    "            animations.append(AnimationGroup(\n",
    "                *[dot.animate.shift(shift).set_opacity(1) for dot, shift in zip(msg_dots, msg_shifts)]\n",
    "            ))\n",
    "        self.play(AnimationGroup(*animations, lag_ratio=0.4))\n",
    "        [d.set_opacity(0) for d in all_msg_dots]\n",
    "        \n",
    "        lines = [l.copy() for l in lines]\n",
    "        dots = [d.copy().set_color(RED) for d in dots]\n",
    "        self.play(*[l.animate.shift(RIGHT*2) for l in lines],\n",
    "                  *[d.animate.shift(RIGHT*2) for d in dots])"
   ]
  },
  {
   "cell_type": "code",
   "execution_count": 28,
   "id": "e7684c3d-c1c4-4244-bd61-c6645a5bc1db",
   "metadata": {},
   "outputs": [
    {
     "data": {
      "text/html": [
       "<pre style=\"white-space:pre;overflow-x:auto;line-height:normal;font-family:Menlo,'DejaVu Sans Mono',consolas,'Courier New',monospace\"><span style=\"color: #7fbfbf; text-decoration-color: #7fbfbf\">                    </span><span style=\"color: #008000; text-decoration-color: #008000\">INFO    </span> Animation <span style=\"color: #008000; text-decoration-color: #008000\">0</span> : Using cached data <span style=\"font-weight: bold\">(</span>hash :    <a href=\"file:///usr/local/anaconda3/lib/python3.9/site-packages/manim/renderer/cairo_renderer.py\"><span style=\"color: #7f7f7f; text-decoration-color: #7f7f7f\">cairo_renderer.py</span></a><span style=\"color: #7f7f7f; text-decoration-color: #7f7f7f\">:100</span>\n",
       "                             450974505_125445262_377915094<span style=\"font-weight: bold\">)</span>                                  \n",
       "</pre>\n"
      ],
      "text/plain": [
       "\u001b[2;36m                   \u001b[0m\u001b[2;36m \u001b[0m\u001b[32mINFO    \u001b[0m Animation \u001b[32m0\u001b[0m : Using cached data \u001b[1m(\u001b[0mhash :    \u001b]8;id=1626470824.511403-420939;file:///usr/local/anaconda3/lib/python3.9/site-packages/manim/renderer/cairo_renderer.py\u001b\\\u001b[2mcairo_renderer.py\u001b[0m\u001b]8;;\u001b\\\u001b[2m:100\u001b[0m\n",
       "                             450974505_125445262_377915094\u001b[1m)\u001b[0m                                  \n"
      ]
     },
     "metadata": {},
     "output_type": "display_data"
    },
    {
     "name": "stderr",
     "output_type": "stream",
     "text": [
      "                                                                                                              \r"
     ]
    },
    {
     "data": {
      "text/html": [
       "<pre style=\"white-space:pre;overflow-x:auto;line-height:normal;font-family:Menlo,'DejaVu Sans Mono',consolas,'Courier New',monospace\"><span style=\"color: #7fbfbf; text-decoration-color: #7fbfbf\">[07/16/21 17:27:06] </span><span style=\"color: #008000; text-decoration-color: #008000\">INFO    </span> Animation <span style=\"color: #008000; text-decoration-color: #008000\">1</span> : Partial movie file        <a href=\"file:///usr/local/anaconda3/lib/python3.9/site-packages/manim/scene/scene_file_writer.py\"><span style=\"color: #7f7f7f; text-decoration-color: #7f7f7f\">scene_file_writer.py</span></a><span style=\"color: #7f7f7f; text-decoration-color: #7f7f7f\">:413</span>\n",
       "                             written in <span style=\"color: #008000; text-decoration-color: #008000\">'/Users/chuhan/.lab/default/</span>                         \n",
       "                             <span style=\"color: #008000; text-decoration-color: #008000\">deepgd/media/videos/deepgd/1080p60/part</span>                         \n",
       "                             <span style=\"color: #008000; text-decoration-color: #008000\">ial_movie_files/TwoCircles/3968072068_9</span>                         \n",
       "                             <span style=\"color: #008000; text-decoration-color: #008000\">51581792_529147934.mp4'</span>                                         \n",
       "</pre>\n"
      ],
      "text/plain": [
       "\u001b[2;36m[07/16/21 17:27:06]\u001b[0m\u001b[2;36m \u001b[0m\u001b[32mINFO    \u001b[0m Animation \u001b[32m1\u001b[0m : Partial movie file        \u001b]8;id=1626470826.037925-305651;file:///usr/local/anaconda3/lib/python3.9/site-packages/manim/scene/scene_file_writer.py\u001b\\\u001b[2mscene_file_writer.py\u001b[0m\u001b]8;;\u001b\\\u001b[2m:413\u001b[0m\n",
       "                             written in \u001b[32m'/Users/chuhan/.lab/default/\u001b[0m                         \n",
       "                             \u001b[32mdeepgd/media/videos/deepgd/1080p60/part\u001b[0m                         \n",
       "                             \u001b[32mial_movie_files/TwoCircles/3968072068_9\u001b[0m                         \n",
       "                             \u001b[32m51581792_529147934.mp4'\u001b[0m                                         \n"
      ]
     },
     "metadata": {},
     "output_type": "display_data"
    },
    {
     "data": {
      "text/html": [
       "<pre style=\"white-space:pre;overflow-x:auto;line-height:normal;font-family:Menlo,'DejaVu Sans Mono',consolas,'Courier New',monospace\"><span style=\"color: #7fbfbf; text-decoration-color: #7fbfbf\">                    </span><span style=\"color: #008000; text-decoration-color: #008000\">INFO    </span>                                         <a href=\"file:///usr/local/anaconda3/lib/python3.9/site-packages/manim/scene/scene_file_writer.py\"><span style=\"color: #7f7f7f; text-decoration-color: #7f7f7f\">scene_file_writer.py</span></a><span style=\"color: #7f7f7f; text-decoration-color: #7f7f7f\">:597</span>\n",
       "                             <span style=\"color: #808000; text-decoration-color: #808000; font-weight: bold\">File</span> ready at <span style=\"color: #008000; text-decoration-color: #008000\">'/Users/chuhan/.lab/defau</span>                         \n",
       "                             <span style=\"color: #008000; text-decoration-color: #008000\">lt/deepgd/media/videos/deepgd/1080p60/T</span>                         \n",
       "                             <span style=\"color: #008000; text-decoration-color: #008000\">woCircles.mp4'</span>                                                  \n",
       "                                                                                             \n",
       "</pre>\n"
      ],
      "text/plain": [
       "\u001b[2;36m                   \u001b[0m\u001b[2;36m \u001b[0m\u001b[32mINFO    \u001b[0m                                         \u001b]8;id=1626470826.106136-870467;file:///usr/local/anaconda3/lib/python3.9/site-packages/manim/scene/scene_file_writer.py\u001b\\\u001b[2mscene_file_writer.py\u001b[0m\u001b]8;;\u001b\\\u001b[2m:597\u001b[0m\n",
       "                             \u001b[1;33mFile\u001b[0m ready at \u001b[32m'/Users/chuhan/.lab/defau\u001b[0m                         \n",
       "                             \u001b[32mlt/deepgd/media/videos/deepgd/1080p60/T\u001b[0m                         \n",
       "                             \u001b[32mwoCircles.mp4'\u001b[0m                                                  \n",
       "                                                                                             \n"
      ]
     },
     "metadata": {},
     "output_type": "display_data"
    },
    {
     "data": {
      "text/html": [
       "<pre style=\"white-space:pre;overflow-x:auto;line-height:normal;font-family:Menlo,'DejaVu Sans Mono',consolas,'Courier New',monospace\"><span style=\"color: #7fbfbf; text-decoration-color: #7fbfbf\">                    </span><span style=\"color: #008000; text-decoration-color: #008000\">INFO    </span> <span style=\"color: #808000; text-decoration-color: #808000; font-weight: bold\">Rendered</span> TwoCircles                                 <a href=\"file:///usr/local/anaconda3/lib/python3.9/site-packages/manim/scene/scene.py\"><span style=\"color: #7f7f7f; text-decoration-color: #7f7f7f\">scene.py</span></a><span style=\"color: #7f7f7f; text-decoration-color: #7f7f7f\">:228</span>\n",
       "                             <span style=\"color: #808000; text-decoration-color: #808000; font-weight: bold\">Played</span> <span style=\"color: #008000; text-decoration-color: #008000\">2</span> <span style=\"color: #808000; text-decoration-color: #808000; font-weight: bold\">animations</span>                                             \n",
       "</pre>\n"
      ],
      "text/plain": [
       "\u001b[2;36m                   \u001b[0m\u001b[2;36m \u001b[0m\u001b[32mINFO    \u001b[0m \u001b[1;33mRendered\u001b[0m TwoCircles                                 \u001b]8;id=1626470826.114064-191772;file:///usr/local/anaconda3/lib/python3.9/site-packages/manim/scene/scene.py\u001b\\\u001b[2mscene.py\u001b[0m\u001b]8;;\u001b\\\u001b[2m:228\u001b[0m\n",
       "                             \u001b[1;33mPlayed\u001b[0m \u001b[32m2\u001b[0m \u001b[1;33manimations\u001b[0m                                             \n"
      ]
     },
     "metadata": {},
     "output_type": "display_data"
    },
    {
     "data": {
      "text/html": [
       "<video src=\"media/jupyter/TwoCircles@2021-07-16@17-27-06.mp4\" controls autoplay loop style=\"max-width: 25vw;\"  >\n",
       "      Your browser does not support the <code>video</code> element.\n",
       "    </video>"
      ],
      "text/plain": [
       "<IPython.core.display.Video object>"
      ]
     },
     "metadata": {},
     "output_type": "display_data"
    }
   ],
   "source": [
    "%%manim TwoCircles\n",
    "class TwoCircles(Scene):\n",
    "    def construct(self):\n",
    "        r = Circle(color=RED, fill_opacity=1).shift(RIGHT)\n",
    "        g = Circle(color=GREEN, fill_opacity=1)\n",
    "        self.add(r)\n",
    "        self.add(g)\n",
    "        self.play(r.animate.shift(LEFT))\n",
    "        self.play(LaggedStart(r.animate.shift(LEFT)))"
   ]
  },
  {
   "cell_type": "code",
   "execution_count": 28,
   "id": "7fe5a617-b7e0-457b-bbcd-716af123fb73",
   "metadata": {},
   "outputs": [
    {
     "name": "stdout",
     "output_type": "stream",
     "text": [
      "[1. 0. 0.]\n"
     ]
    }
   ],
   "source": [
    "print(RIGHT)"
   ]
  },
  {
   "cell_type": "code",
   "execution_count": 31,
   "id": "60205f25-10a9-4afc-b824-ad4d337b83fc",
   "metadata": {},
   "outputs": [
    {
     "name": "stdout",
     "output_type": "stream",
     "text": [
      "[0. 1. 0.]\n"
     ]
    }
   ],
   "source": [
    "print(UP)"
   ]
  },
  {
   "cell_type": "code",
   "execution_count": null,
   "id": "3e0b0e4b-591a-4fe5-96f3-cb2fa0542a6d",
   "metadata": {},
   "outputs": [],
   "source": []
  }
 ],
 "metadata": {
  "kernelspec": {
   "display_name": "Python 3 (ipykernel)",
   "language": "python",
   "name": "python3"
  },
  "language_info": {
   "codemirror_mode": {
    "name": "ipython",
    "version": 3
   },
   "file_extension": ".py",
   "mimetype": "text/x-python",
   "name": "python",
   "nbconvert_exporter": "python",
   "pygments_lexer": "ipython3",
   "version": "3.9.5"
  }
 },
 "nbformat": 4,
 "nbformat_minor": 5
}
