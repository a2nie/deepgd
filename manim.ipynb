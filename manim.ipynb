{
 "cells": [
  {
   "cell_type": "code",
   "execution_count": 1,
   "id": "b33bc288-6957-4f7e-a98f-d924d8a85c76",
   "metadata": {},
   "outputs": [
    {
     "data": {
      "text/html": [
       "<pre style=\"white-space:pre;overflow-x:auto;line-height:normal;font-family:Menlo,'DejaVu Sans Mono',consolas,'Courier New',monospace\">Manim Community <span style=\"color: #008000; text-decoration-color: #008000\">v0.15.2</span>\n",
       "\n",
       "</pre>\n"
      ],
      "text/plain": [
       "Manim Community \u001b[32mv0.\u001b[0m\u001b[32m15.2\u001b[0m\n",
       "\n"
      ]
     },
     "metadata": {},
     "output_type": "display_data"
    }
   ],
   "source": [
    "from manim import *"
   ]
  },
  {
   "cell_type": "code",
   "execution_count": 2,
   "id": "6da808ae-3f04-4542-87e9-dd9254c2c301",
   "metadata": {},
   "outputs": [
    {
     "name": "stdout",
     "output_type": "stream",
     "text": [
      "Warning: uncompiled fa2util module.  Compile with cython for a 10-100x speed boost.\n"
     ]
    }
   ],
   "source": [
    "from deepgd import *\n",
    "from deepgd.tools import *\n",
    "from deepgd.utils import *\n",
    "from deepgd.modules import *\n",
    "from deepgd.data import *\n",
    "from deepgd.xing import *\n",
    "from deepgd.transform import *"
   ]
  },
  {
   "cell_type": "code",
   "execution_count": 3,
   "id": "db1d777d-c7f0-4f74-a448-a9962b735975",
   "metadata": {},
   "outputs": [
    {
     "name": "stdout",
     "output_type": "stream",
     "text": [
      "Load from 'cache/G_list.pickle'\n"
     ]
    }
   ],
   "source": [
    "G_list = load_G_list(data_path='data/rome', index_file='data_index.txt', cache='G_list', cache_prefix='cache/')"
   ]
  },
  {
   "cell_type": "code",
   "execution_count": 4,
   "id": "0f04cbbc-8a35-4b88-a823-e1ab47ea7322",
   "metadata": {},
   "outputs": [
    {
     "name": "stdout",
     "output_type": "stream",
     "text": [
      "Load from 'cache/generate_data_list(list,sparse=False,pivot_mode=None,init_mode=pmds,edge_index=full_edge_index,edge_attr=full_edge_attr,pmds_list=ndarray,gviz_list=ndarray,noisy_layout=True,device=cpu).pickle'\n"
     ]
    }
   ],
   "source": [
    "data_list = generate_data_list(G_list, \n",
    "                               sparse=False, \n",
    "                               pivot_mode=None,\n",
    "                               init_mode='pmds',\n",
    "                               edge_index='full_edge_index',\n",
    "                               edge_attr='full_edge_attr',\n",
    "                               pmds_list=np.load('layouts/rome/pmds.npy', allow_pickle=True),\n",
    "                               gviz_list=np.load('layouts/rome/gviz.npy', allow_pickle=True),\n",
    "                               noisy_layout=True,\n",
    "                               device='cpu', \n",
    "                               cache=True,\n",
    "                               cache_prefix='cache/')"
   ]
  },
  {
   "cell_type": "code",
   "execution_count": 5,
   "id": "a008b497-e841-4591-b7e8-c1c7d0d227ee",
   "metadata": {},
   "outputs": [],
   "source": [
    "normalize = Canonicalization(rotate=RotateByPrincipalComponents(base_angle=np.pi/2),\n",
    "                             normalize=Normalization(scale_factor=3/np.sqrt(100)))\n",
    "shear = LinearTransformation(torch.tensor([[1/2, 0], \n",
    "                                           [1/2, 1]]))"
   ]
  },
  {
   "cell_type": "code",
   "execution_count": 6,
   "id": "0ed8147d-0754-4f4f-952d-15b674113732",
   "metadata": {},
   "outputs": [],
   "source": [
    "idx = 422\n",
    "init_scale = 1.5\n",
    "start_x, end_x = -3.5, 3.5\n",
    "colors = [WHITE, YELLOW, RED, GREEN, BLUE]\n",
    "aggr_lag = 0.25\n",
    "ending_wait = 2"
   ]
  },
  {
   "cell_type": "code",
   "execution_count": 7,
   "id": "d371b2a1-f437-4e16-90b3-f4eea09ea9ca",
   "metadata": {},
   "outputs": [
    {
     "name": "stderr",
     "output_type": "stream",
     "text": [
      "dyld[24570]: Library not loaded: @rpath/libSvtAv1Enc.0.dylib\n",
      "  Referenced from: /usr/local/anaconda3/lib/libavcodec.58.134.100.dylib\n",
      "  Reason: tried: '/usr/local/anaconda3/lib/libSvtAv1Enc.0.dylib' (no such file), '/usr/local/anaconda3/lib/libSvtAv1Enc.0.dylib' (no such file), '/usr/local/anaconda3/lib/libSvtAv1Enc.0.dylib' (no such file), '/usr/local/anaconda3/lib/libSvtAv1Enc.0.dylib' (no such file), '/usr/local/anaconda3/bin/../lib/libSvtAv1Enc.0.dylib' (no such file), '/usr/local/anaconda3/bin/../lib/libSvtAv1Enc.0.dylib' (no such file), '/usr/local/lib/libSvtAv1Enc.0.dylib' (no such file), '/usr/lib/libSvtAv1Enc.0.dylib' (no such file)\n",
      "                                                                                                              \r"
     ]
    },
    {
     "ename": "BrokenPipeError",
     "evalue": "[Errno 32] Broken pipe",
     "output_type": "error",
     "traceback": [
      "\u001b[0;31m---------------------------------------------------------------------------\u001b[0m",
      "\u001b[0;31mBrokenPipeError\u001b[0m                           Traceback (most recent call last)",
      "Input \u001b[0;32mIn [7]\u001b[0m, in \u001b[0;36m<cell line: 1>\u001b[0;34m()\u001b[0m\n\u001b[0;32m----> 1\u001b[0m \u001b[43mget_ipython\u001b[49m\u001b[43m(\u001b[49m\u001b[43m)\u001b[49m\u001b[38;5;241;43m.\u001b[39;49m\u001b[43mrun_cell_magic\u001b[49m\u001b[43m(\u001b[49m\u001b[38;5;124;43m'\u001b[39;49m\u001b[38;5;124;43mmanim\u001b[39;49m\u001b[38;5;124;43m'\u001b[39;49m\u001b[43m,\u001b[49m\u001b[43m \u001b[49m\u001b[38;5;124;43m'\u001b[39;49m\u001b[38;5;124;43mGraph\u001b[39;49m\u001b[38;5;124;43m'\u001b[39;49m\u001b[43m,\u001b[49m\u001b[43m \u001b[49m\u001b[38;5;124;43m'\u001b[39;49m\u001b[38;5;124;43mclass Graph(Scene):\u001b[39;49m\u001b[38;5;130;43;01m\\n\u001b[39;49;00m\u001b[38;5;124;43m    def construct(self):\u001b[39;49m\u001b[38;5;130;43;01m\\n\u001b[39;49;00m\u001b[38;5;124;43m        n_layers = len(colors)\u001b[39;49m\u001b[38;5;130;43;01m\\n\u001b[39;49;00m\u001b[38;5;124;43m        interval = (end_x-start_x)/(n_layers-1)\u001b[39;49m\u001b[38;5;130;43;01m\\n\u001b[39;49;00m\u001b[38;5;124;43m        edges = torch.tensor(list(G_list[idx].edges))\u001b[39;49m\u001b[38;5;130;43;01m\\n\u001b[39;49;00m\u001b[38;5;124;43m        raw_pos = normalize(data_list[idx].gt_pos, data_list[idx])\u001b[39;49m\u001b[38;5;130;43;01m\\n\u001b[39;49;00m\u001b[38;5;124;43m        pos = shear(raw_pos, data_list[idx])\u001b[39;49m\u001b[38;5;130;43;01m\\n\u001b[39;49;00m\u001b[38;5;124;43m        layer = Polygon([-1, -3, 0],\u001b[39;49m\u001b[38;5;130;43;01m\\n\u001b[39;49;00m\u001b[38;5;124;43m                        [1, -1, 0],\u001b[39;49m\u001b[38;5;130;43;01m\\n\u001b[39;49;00m\u001b[38;5;124;43m                        [1, 3, 0],\u001b[39;49m\u001b[38;5;130;43;01m\\n\u001b[39;49;00m\u001b[38;5;124;43m                        [-1, 1, 0], \u001b[39;49m\u001b[38;5;130;43;01m\\n\u001b[39;49;00m\u001b[38;5;124;43m                        stroke_color=GREY, \u001b[39;49m\u001b[38;5;130;43;01m\\n\u001b[39;49;00m\u001b[38;5;124;43m                        fill_color=GREY).set_opacity(0.5).shift(RIGHT*start_x)\u001b[39;49m\u001b[38;5;130;43;01m\\n\u001b[39;49;00m\u001b[38;5;124;43m        begin_lines = [Line([*p, 0], [*q, 0]).set_color(GRAY) for p, q in raw_pos[edges]*init_scale]    \u001b[39;49m\u001b[38;5;130;43;01m\\n\u001b[39;49;00m\u001b[38;5;124;43m        begin_dots = [Dot().shift([*p, 0]).set_color(colors[0]).scale(init_scale) for p in raw_pos*init_scale]\u001b[39;49m\u001b[38;5;130;43;01m\\n\u001b[39;49;00m\u001b[38;5;124;43m        lines = [Line([*p, 0], [*q, 0]).shift(RIGHT*start_x).set_color(GRAY) for p, q in pos[edges]]\u001b[39;49m\u001b[38;5;130;43;01m\\n\u001b[39;49;00m\u001b[38;5;124;43m        dots = [Dot().shift([*p, 0]).shift(RIGHT*start_x).set_color(colors[0]) for p in pos]\u001b[39;49m\u001b[38;5;130;43;01m\\n\u001b[39;49;00m\u001b[38;5;124;43m        end_lines = [Line([*p, 0], [*q, 0]).set_color(GRAY) for p, q in raw_pos[edges]*init_scale]    \u001b[39;49m\u001b[38;5;130;43;01m\\n\u001b[39;49;00m\u001b[38;5;124;43m        end_dots = [Dot().shift([*p, 0]).set_color(colors[-1]).scale(init_scale) for p in raw_pos*init_scale]    \u001b[39;49m\u001b[38;5;130;43;01m\\n\u001b[39;49;00m\u001b[38;5;124;43m        \u001b[39;49m\u001b[38;5;130;43;01m\\n\u001b[39;49;00m\u001b[38;5;124;43m        self.play(FadeIn(layer),\u001b[39;49m\u001b[38;5;130;43;01m\\n\u001b[39;49;00m\u001b[38;5;124;43m                  *[Transform(begin_line, line) for begin_line, line in zip(begin_lines, lines)],\u001b[39;49m\u001b[38;5;130;43;01m\\n\u001b[39;49;00m\u001b[38;5;124;43m                  *[Transform(begin_dot, dot) for begin_dot, dot in zip(begin_dots, dots)])\u001b[39;49m\u001b[38;5;130;43;01m\\n\u001b[39;49;00m\u001b[38;5;124;43m        \u001b[39;49m\u001b[38;5;130;43;01m\\n\u001b[39;49;00m\u001b[38;5;124;43m        groups = [[layer] + begin_lines + lines + begin_dots + dots]\u001b[39;49m\u001b[38;5;130;43;01m\\n\u001b[39;49;00m\u001b[38;5;124;43m        for x_pos, color in zip(np.linspace(start_x, end_x, n_layers)[:-1], colors[1:]):\u001b[39;49m\u001b[38;5;130;43;01m\\n\u001b[39;49;00m\u001b[38;5;124;43m            all_msg_dots = []\u001b[39;49m\u001b[38;5;130;43;01m\\n\u001b[39;49;00m\u001b[38;5;124;43m            animations = []\u001b[39;49m\u001b[38;5;130;43;01m\\n\u001b[39;49;00m\u001b[38;5;124;43m            for c_idx in range(len(pos)):\u001b[39;49m\u001b[38;5;130;43;01m\\n\u001b[39;49;00m\u001b[38;5;124;43m                msg_pos = pos[torch.tensor(list(dict(G_list[idx].adjacency())[c_idx].keys()))]\u001b[39;49m\u001b[38;5;130;43;01m\\n\u001b[39;49;00m\u001b[38;5;124;43m                msg_dots = [Dot().shift([*p, 0]).shift(RIGHT*x_pos).set_fill(color, opacity=0) for p in msg_pos]\u001b[39;49m\u001b[38;5;130;43;01m\\n\u001b[39;49;00m\u001b[38;5;124;43m                msg_shifts = [[pos[c_idx][0]-x, pos[c_idx][1]-y, 0] for x, y in msg_pos]\u001b[39;49m\u001b[38;5;130;43;01m\\n\u001b[39;49;00m\u001b[38;5;124;43m                all_msg_dots += msg_dots\u001b[39;49m\u001b[38;5;130;43;01m\\n\u001b[39;49;00m\u001b[38;5;130;43;01m\\n\u001b[39;49;00m\u001b[38;5;124;43m    #             self.play(*[dot.animate.shift(shift).set_opacity(1) for dot, shift in zip(msg_dots, msg_shifts)])\u001b[39;49m\u001b[38;5;130;43;01m\\n\u001b[39;49;00m\u001b[38;5;124;43m                animations.append(AnimationGroup(\u001b[39;49m\u001b[38;5;130;43;01m\\n\u001b[39;49;00m\u001b[38;5;124;43m                    *[dot.animate.shift(shift).set_opacity(1) for dot, shift in zip(msg_dots, msg_shifts)]\u001b[39;49m\u001b[38;5;130;43;01m\\n\u001b[39;49;00m\u001b[38;5;124;43m                ))\u001b[39;49m\u001b[38;5;130;43;01m\\n\u001b[39;49;00m\u001b[38;5;124;43m            self.play(AnimationGroup(*animations, lag_ratio=aggr_lag))\u001b[39;49m\u001b[38;5;130;43;01m\\n\u001b[39;49;00m\u001b[38;5;124;43m            [d.set_opacity(0) for d in all_msg_dots]\u001b[39;49m\u001b[38;5;130;43;01m\\n\u001b[39;49;00m\u001b[38;5;130;43;01m\\n\u001b[39;49;00m\u001b[38;5;124;43m            layer = Polygon([-1, -3, 0],\u001b[39;49m\u001b[38;5;130;43;01m\\n\u001b[39;49;00m\u001b[38;5;124;43m                            [1, -1, 0],\u001b[39;49m\u001b[38;5;130;43;01m\\n\u001b[39;49;00m\u001b[38;5;124;43m                            [1, 3, 0],\u001b[39;49m\u001b[38;5;130;43;01m\\n\u001b[39;49;00m\u001b[38;5;124;43m                            [-1, 1, 0],\u001b[39;49m\u001b[38;5;130;43;01m\\n\u001b[39;49;00m\u001b[38;5;124;43m                            stroke_color=GREY, \u001b[39;49m\u001b[38;5;130;43;01m\\n\u001b[39;49;00m\u001b[38;5;124;43m                            fill_color=GREY).set_opacity(0.5).shift(RIGHT*(x_pos+interval))\u001b[39;49m\u001b[38;5;130;43;01m\\n\u001b[39;49;00m\u001b[38;5;124;43m            lines = [l.copy() for l in lines]\u001b[39;49m\u001b[38;5;130;43;01m\\n\u001b[39;49;00m\u001b[38;5;124;43m            dots = [d.copy().set_color(color) for d in dots]\u001b[39;49m\u001b[38;5;130;43;01m\\n\u001b[39;49;00m\u001b[38;5;124;43m            groups.append([layer] + lines + dots + all_msg_dots)\u001b[39;49m\u001b[38;5;130;43;01m\\n\u001b[39;49;00m\u001b[38;5;124;43m            \u001b[39;49m\u001b[38;5;130;43;01m\\n\u001b[39;49;00m\u001b[38;5;124;43m            self.play(FadeIn(layer),\u001b[39;49m\u001b[38;5;130;43;01m\\n\u001b[39;49;00m\u001b[38;5;124;43m                      *[l.animate.shift(RIGHT*interval) for l in lines],\u001b[39;49m\u001b[38;5;130;43;01m\\n\u001b[39;49;00m\u001b[38;5;124;43m                      *[d.animate.shift(RIGHT*interval) for d in dots]) \u001b[39;49m\u001b[38;5;130;43;01m\\n\u001b[39;49;00m\u001b[38;5;124;43m            \u001b[39;49m\u001b[38;5;130;43;01m\\n\u001b[39;49;00m\u001b[38;5;124;43m        \u001b[39;49m\u001b[38;5;130;43;01m\\n\u001b[39;49;00m\u001b[38;5;124;43m        lines = [l.copy() for l in lines]\u001b[39;49m\u001b[38;5;130;43;01m\\n\u001b[39;49;00m\u001b[38;5;124;43m        dots = [d.copy().set_color(colors[-1]) for d in dots]\u001b[39;49m\u001b[38;5;130;43;01m\\n\u001b[39;49;00m\u001b[38;5;124;43m        self.add(*lines)\u001b[39;49m\u001b[38;5;130;43;01m\\n\u001b[39;49;00m\u001b[38;5;124;43m        self.add(*dots)\u001b[39;49m\u001b[38;5;130;43;01m\\n\u001b[39;49;00m\u001b[38;5;124;43m        \u001b[39;49m\u001b[38;5;130;43;01m\\n\u001b[39;49;00m\u001b[38;5;124;43m        self.play(*[FadeOut(obj) for group in groups for obj in group])\u001b[39;49m\u001b[38;5;130;43;01m\\n\u001b[39;49;00m\u001b[38;5;124;43m        self.play(*[Transform(line, end_line) for line, end_line in zip(lines, end_lines)],\u001b[39;49m\u001b[38;5;130;43;01m\\n\u001b[39;49;00m\u001b[38;5;124;43m                  *[Transform(dot, end_dot) for dot, end_dot in zip(dots, end_dots)])\u001b[39;49m\u001b[38;5;130;43;01m\\n\u001b[39;49;00m\u001b[38;5;124;43m        self.play(Wait().set_run_time(ending_wait))\u001b[39;49m\u001b[38;5;130;43;01m\\n\u001b[39;49;00m\u001b[38;5;124;43m'\u001b[39;49m\u001b[43m)\u001b[49m\n",
      "File \u001b[0;32m/usr/local/anaconda3/envs/deepgd/lib/python3.9/site-packages/IPython/core/interactiveshell.py:2358\u001b[0m, in \u001b[0;36mInteractiveShell.run_cell_magic\u001b[0;34m(self, magic_name, line, cell)\u001b[0m\n\u001b[1;32m   2356\u001b[0m \u001b[38;5;28;01mwith\u001b[39;00m \u001b[38;5;28mself\u001b[39m\u001b[38;5;241m.\u001b[39mbuiltin_trap:\n\u001b[1;32m   2357\u001b[0m     args \u001b[38;5;241m=\u001b[39m (magic_arg_s, cell)\n\u001b[0;32m-> 2358\u001b[0m     result \u001b[38;5;241m=\u001b[39m \u001b[43mfn\u001b[49m\u001b[43m(\u001b[49m\u001b[38;5;241;43m*\u001b[39;49m\u001b[43margs\u001b[49m\u001b[43m,\u001b[49m\u001b[43m \u001b[49m\u001b[38;5;241;43m*\u001b[39;49m\u001b[38;5;241;43m*\u001b[39;49m\u001b[43mkwargs\u001b[49m\u001b[43m)\u001b[49m\n\u001b[1;32m   2359\u001b[0m \u001b[38;5;28;01mreturn\u001b[39;00m result\n",
      "File \u001b[0;32m/usr/local/anaconda3/envs/deepgd/lib/python3.9/site-packages/manim/utils/ipython_magic.py:148\u001b[0m, in \u001b[0;36mManimMagic.manim\u001b[0;34m(self, line, cell, local_ns)\u001b[0m\n\u001b[1;32m    146\u001b[0m     SceneClass \u001b[38;5;241m=\u001b[39m local_ns[config[\u001b[38;5;124m\"\u001b[39m\u001b[38;5;124mscene_names\u001b[39m\u001b[38;5;124m\"\u001b[39m][\u001b[38;5;241m0\u001b[39m]]\n\u001b[1;32m    147\u001b[0m     scene \u001b[38;5;241m=\u001b[39m SceneClass(renderer\u001b[38;5;241m=\u001b[39mrenderer)\n\u001b[0;32m--> 148\u001b[0m     \u001b[43mscene\u001b[49m\u001b[38;5;241;43m.\u001b[39;49m\u001b[43mrender\u001b[49m\u001b[43m(\u001b[49m\u001b[43m)\u001b[49m\n\u001b[1;32m    149\u001b[0m \u001b[38;5;28;01mfinally\u001b[39;00m:\n\u001b[1;32m    150\u001b[0m     \u001b[38;5;66;03m# Shader cache becomes invalid as the context is destroyed\u001b[39;00m\n\u001b[1;32m    151\u001b[0m     shader_program_cache\u001b[38;5;241m.\u001b[39mclear()\n",
      "File \u001b[0;32m/usr/local/anaconda3/envs/deepgd/lib/python3.9/site-packages/manim/scene/scene.py:222\u001b[0m, in \u001b[0;36mScene.render\u001b[0;34m(self, preview)\u001b[0m\n\u001b[1;32m    220\u001b[0m \u001b[38;5;28mself\u001b[39m\u001b[38;5;241m.\u001b[39msetup()\n\u001b[1;32m    221\u001b[0m \u001b[38;5;28;01mtry\u001b[39;00m:\n\u001b[0;32m--> 222\u001b[0m     \u001b[38;5;28;43mself\u001b[39;49m\u001b[38;5;241;43m.\u001b[39;49m\u001b[43mconstruct\u001b[49m\u001b[43m(\u001b[49m\u001b[43m)\u001b[49m\n\u001b[1;32m    223\u001b[0m \u001b[38;5;28;01mexcept\u001b[39;00m EndSceneEarlyException:\n\u001b[1;32m    224\u001b[0m     \u001b[38;5;28;01mpass\u001b[39;00m\n",
      "File \u001b[0;32m<string>:21\u001b[0m, in \u001b[0;36mconstruct\u001b[0;34m(self)\u001b[0m\n",
      "File \u001b[0;32m/usr/local/anaconda3/envs/deepgd/lib/python3.9/site-packages/manim/scene/scene.py:1012\u001b[0m, in \u001b[0;36mScene.play\u001b[0;34m(self, subcaption, subcaption_duration, subcaption_offset, *args, **kwargs)\u001b[0m\n\u001b[1;32m    990\u001b[0m \u001b[38;5;124mr\u001b[39m\u001b[38;5;124;03m\"\"\"Plays an animation in this scene.\u001b[39;00m\n\u001b[1;32m    991\u001b[0m \n\u001b[1;32m    992\u001b[0m \u001b[38;5;124;03mParameters\u001b[39;00m\n\u001b[0;32m   (...)\u001b[0m\n\u001b[1;32m   1009\u001b[0m \n\u001b[1;32m   1010\u001b[0m \u001b[38;5;124;03m\"\"\"\u001b[39;00m\n\u001b[1;32m   1011\u001b[0m start_time \u001b[38;5;241m=\u001b[39m \u001b[38;5;28mself\u001b[39m\u001b[38;5;241m.\u001b[39mrenderer\u001b[38;5;241m.\u001b[39mtime\n\u001b[0;32m-> 1012\u001b[0m \u001b[38;5;28;43mself\u001b[39;49m\u001b[38;5;241;43m.\u001b[39;49m\u001b[43mrenderer\u001b[49m\u001b[38;5;241;43m.\u001b[39;49m\u001b[43mplay\u001b[49m\u001b[43m(\u001b[49m\u001b[38;5;28;43mself\u001b[39;49m\u001b[43m,\u001b[49m\u001b[43m \u001b[49m\u001b[38;5;241;43m*\u001b[39;49m\u001b[43margs\u001b[49m\u001b[43m,\u001b[49m\u001b[43m \u001b[49m\u001b[38;5;241;43m*\u001b[39;49m\u001b[38;5;241;43m*\u001b[39;49m\u001b[43mkwargs\u001b[49m\u001b[43m)\u001b[49m\n\u001b[1;32m   1013\u001b[0m run_time \u001b[38;5;241m=\u001b[39m \u001b[38;5;28mself\u001b[39m\u001b[38;5;241m.\u001b[39mrenderer\u001b[38;5;241m.\u001b[39mtime \u001b[38;5;241m-\u001b[39m start_time\n\u001b[1;32m   1014\u001b[0m \u001b[38;5;28;01mif\u001b[39;00m subcaption:\n",
      "File \u001b[0;32m/usr/local/anaconda3/envs/deepgd/lib/python3.9/site-packages/manim/renderer/cairo_renderer.py:101\u001b[0m, in \u001b[0;36mCairoRenderer.play\u001b[0;34m(self, scene, *args, **kwargs)\u001b[0m\n\u001b[1;32m     99\u001b[0m     \u001b[38;5;28mself\u001b[39m\u001b[38;5;241m.\u001b[39mfreeze_current_frame(scene\u001b[38;5;241m.\u001b[39mduration)\n\u001b[1;32m    100\u001b[0m \u001b[38;5;28;01melse\u001b[39;00m:\n\u001b[0;32m--> 101\u001b[0m     \u001b[43mscene\u001b[49m\u001b[38;5;241;43m.\u001b[39;49m\u001b[43mplay_internal\u001b[49m\u001b[43m(\u001b[49m\u001b[43m)\u001b[49m\n\u001b[1;32m    102\u001b[0m \u001b[38;5;28mself\u001b[39m\u001b[38;5;241m.\u001b[39mfile_writer\u001b[38;5;241m.\u001b[39mend_animation(\u001b[38;5;129;01mnot\u001b[39;00m \u001b[38;5;28mself\u001b[39m\u001b[38;5;241m.\u001b[39mskip_animations)\n\u001b[1;32m    104\u001b[0m \u001b[38;5;28mself\u001b[39m\u001b[38;5;241m.\u001b[39mnum_plays \u001b[38;5;241m+\u001b[39m\u001b[38;5;241m=\u001b[39m \u001b[38;5;241m1\u001b[39m\n",
      "File \u001b[0;32m/usr/local/anaconda3/envs/deepgd/lib/python3.9/site-packages/manim/scene/scene.py:1179\u001b[0m, in \u001b[0;36mScene.play_internal\u001b[0;34m(self, skip_rendering)\u001b[0m\n\u001b[1;32m   1177\u001b[0m \u001b[38;5;28mself\u001b[39m\u001b[38;5;241m.\u001b[39mupdate_to_time(t)\n\u001b[1;32m   1178\u001b[0m \u001b[38;5;28;01mif\u001b[39;00m \u001b[38;5;129;01mnot\u001b[39;00m skip_rendering \u001b[38;5;129;01mand\u001b[39;00m \u001b[38;5;129;01mnot\u001b[39;00m \u001b[38;5;28mself\u001b[39m\u001b[38;5;241m.\u001b[39mskip_animation_preview:\n\u001b[0;32m-> 1179\u001b[0m     \u001b[38;5;28;43mself\u001b[39;49m\u001b[38;5;241;43m.\u001b[39;49m\u001b[43mrenderer\u001b[49m\u001b[38;5;241;43m.\u001b[39;49m\u001b[43mrender\u001b[49m\u001b[43m(\u001b[49m\u001b[38;5;28;43mself\u001b[39;49m\u001b[43m,\u001b[49m\u001b[43m \u001b[49m\u001b[43mt\u001b[49m\u001b[43m,\u001b[49m\u001b[43m \u001b[49m\u001b[38;5;28;43mself\u001b[39;49m\u001b[38;5;241;43m.\u001b[39;49m\u001b[43mmoving_mobjects\u001b[49m\u001b[43m)\u001b[49m\n\u001b[1;32m   1180\u001b[0m \u001b[38;5;28;01mif\u001b[39;00m \u001b[38;5;28mself\u001b[39m\u001b[38;5;241m.\u001b[39mstop_condition \u001b[38;5;129;01mis\u001b[39;00m \u001b[38;5;129;01mnot\u001b[39;00m \u001b[38;5;28;01mNone\u001b[39;00m \u001b[38;5;129;01mand\u001b[39;00m \u001b[38;5;28mself\u001b[39m\u001b[38;5;241m.\u001b[39mstop_condition():\n\u001b[1;32m   1181\u001b[0m     \u001b[38;5;28mself\u001b[39m\u001b[38;5;241m.\u001b[39mtime_progression\u001b[38;5;241m.\u001b[39mclose()\n",
      "File \u001b[0;32m/usr/local/anaconda3/envs/deepgd/lib/python3.9/site-packages/manim/renderer/cairo_renderer.py:148\u001b[0m, in \u001b[0;36mCairoRenderer.render\u001b[0;34m(self, scene, time, moving_mobjects)\u001b[0m\n\u001b[1;32m    146\u001b[0m \u001b[38;5;28;01mdef\u001b[39;00m \u001b[38;5;21mrender\u001b[39m(\u001b[38;5;28mself\u001b[39m, scene, time, moving_mobjects):\n\u001b[1;32m    147\u001b[0m     \u001b[38;5;28mself\u001b[39m\u001b[38;5;241m.\u001b[39mupdate_frame(scene, moving_mobjects)\n\u001b[0;32m--> 148\u001b[0m     \u001b[38;5;28;43mself\u001b[39;49m\u001b[38;5;241;43m.\u001b[39;49m\u001b[43madd_frame\u001b[49m\u001b[43m(\u001b[49m\u001b[38;5;28;43mself\u001b[39;49m\u001b[38;5;241;43m.\u001b[39;49m\u001b[43mget_frame\u001b[49m\u001b[43m(\u001b[49m\u001b[43m)\u001b[49m\u001b[43m)\u001b[49m\n",
      "File \u001b[0;32m/usr/local/anaconda3/envs/deepgd/lib/python3.9/site-packages/manim/renderer/cairo_renderer.py:178\u001b[0m, in \u001b[0;36mCairoRenderer.add_frame\u001b[0;34m(self, frame, num_frames)\u001b[0m\n\u001b[1;32m    176\u001b[0m \u001b[38;5;28mself\u001b[39m\u001b[38;5;241m.\u001b[39mtime \u001b[38;5;241m+\u001b[39m\u001b[38;5;241m=\u001b[39m num_frames \u001b[38;5;241m*\u001b[39m dt\n\u001b[1;32m    177\u001b[0m \u001b[38;5;28;01mfor\u001b[39;00m _ \u001b[38;5;129;01min\u001b[39;00m \u001b[38;5;28mrange\u001b[39m(num_frames):\n\u001b[0;32m--> 178\u001b[0m     \u001b[38;5;28;43mself\u001b[39;49m\u001b[38;5;241;43m.\u001b[39;49m\u001b[43mfile_writer\u001b[49m\u001b[38;5;241;43m.\u001b[39;49m\u001b[43mwrite_frame\u001b[49m\u001b[43m(\u001b[49m\u001b[43mframe\u001b[49m\u001b[43m)\u001b[49m\n",
      "File \u001b[0;32m/usr/local/anaconda3/envs/deepgd/lib/python3.9/site-packages/manim/scene/scene_file_writer.py:368\u001b[0m, in \u001b[0;36mSceneFileWriter.write_frame\u001b[0;34m(self, frame_or_renderer)\u001b[0m\n\u001b[1;32m    366\u001b[0m frame \u001b[38;5;241m=\u001b[39m frame_or_renderer\n\u001b[1;32m    367\u001b[0m \u001b[38;5;28;01mif\u001b[39;00m write_to_movie():\n\u001b[0;32m--> 368\u001b[0m     \u001b[38;5;28;43mself\u001b[39;49m\u001b[38;5;241;43m.\u001b[39;49m\u001b[43mwriting_process\u001b[49m\u001b[38;5;241;43m.\u001b[39;49m\u001b[43mstdin\u001b[49m\u001b[38;5;241;43m.\u001b[39;49m\u001b[43mwrite\u001b[49m\u001b[43m(\u001b[49m\u001b[43mframe\u001b[49m\u001b[38;5;241;43m.\u001b[39;49m\u001b[43mtobytes\u001b[49m\u001b[43m(\u001b[49m\u001b[43m)\u001b[49m\u001b[43m)\u001b[49m\n\u001b[1;32m    369\u001b[0m \u001b[38;5;28;01mif\u001b[39;00m is_png_format() \u001b[38;5;129;01mand\u001b[39;00m \u001b[38;5;129;01mnot\u001b[39;00m config[\u001b[38;5;124m\"\u001b[39m\u001b[38;5;124mdry_run\u001b[39m\u001b[38;5;124m\"\u001b[39m]:\n\u001b[1;32m    370\u001b[0m     \u001b[38;5;28mself\u001b[39m\u001b[38;5;241m.\u001b[39moutput_image_from_array(frame)\n",
      "\u001b[0;31mBrokenPipeError\u001b[0m: [Errno 32] Broken pipe"
     ]
    }
   ],
   "source": [
    "%%manim Graph\n",
    "class Graph(Scene):\n",
    "    def construct(self):\n",
    "        n_layers = len(colors)\n",
    "        interval = (end_x-start_x)/(n_layers-1)\n",
    "        edges = torch.tensor(list(G_list[idx].edges))\n",
    "        raw_pos = normalize(data_list[idx].gt_pos, data_list[idx])\n",
    "        pos = shear(raw_pos, data_list[idx])\n",
    "        layer = Polygon([-1, -3, 0],\n",
    "                        [1, -1, 0],\n",
    "                        [1, 3, 0],\n",
    "                        [-1, 1, 0], \n",
    "                        stroke_color=GREY, \n",
    "                        fill_color=GREY).set_opacity(0.5).shift(RIGHT*start_x)\n",
    "        begin_lines = [Line([*p, 0], [*q, 0]).set_color(GRAY) for p, q in raw_pos[edges]*init_scale]    \n",
    "        begin_dots = [Dot().shift([*p, 0]).set_color(colors[0]).scale(init_scale) for p in raw_pos*init_scale]\n",
    "        lines = [Line([*p, 0], [*q, 0]).shift(RIGHT*start_x).set_color(GRAY) for p, q in pos[edges]]\n",
    "        dots = [Dot().shift([*p, 0]).shift(RIGHT*start_x).set_color(colors[0]) for p in pos]\n",
    "        end_lines = [Line([*p, 0], [*q, 0]).set_color(GRAY) for p, q in raw_pos[edges]*init_scale]    \n",
    "        end_dots = [Dot().shift([*p, 0]).set_color(colors[-1]).scale(init_scale) for p in raw_pos*init_scale]    \n",
    "        \n",
    "        self.play(FadeIn(layer),\n",
    "                  *[Transform(begin_line, line) for begin_line, line in zip(begin_lines, lines)],\n",
    "                  *[Transform(begin_dot, dot) for begin_dot, dot in zip(begin_dots, dots)])\n",
    "        \n",
    "        groups = [[layer] + begin_lines + lines + begin_dots + dots]\n",
    "        for x_pos, color in zip(np.linspace(start_x, end_x, n_layers)[:-1], colors[1:]):\n",
    "            all_msg_dots = []\n",
    "            animations = []\n",
    "            for c_idx in range(len(pos)):\n",
    "                msg_pos = pos[torch.tensor(list(dict(G_list[idx].adjacency())[c_idx].keys()))]\n",
    "                msg_dots = [Dot().shift([*p, 0]).shift(RIGHT*x_pos).set_fill(color, opacity=0) for p in msg_pos]\n",
    "                msg_shifts = [[pos[c_idx][0]-x, pos[c_idx][1]-y, 0] for x, y in msg_pos]\n",
    "                all_msg_dots += msg_dots\n",
    "\n",
    "    #             self.play(*[dot.animate.shift(shift).set_opacity(1) for dot, shift in zip(msg_dots, msg_shifts)])\n",
    "                animations.append(AnimationGroup(\n",
    "                    *[dot.animate.shift(shift).set_opacity(1) for dot, shift in zip(msg_dots, msg_shifts)]\n",
    "                ))\n",
    "            self.play(AnimationGroup(*animations, lag_ratio=aggr_lag))\n",
    "            [d.set_opacity(0) for d in all_msg_dots]\n",
    "\n",
    "            layer = Polygon([-1, -3, 0],\n",
    "                            [1, -1, 0],\n",
    "                            [1, 3, 0],\n",
    "                            [-1, 1, 0],\n",
    "                            stroke_color=GREY, \n",
    "                            fill_color=GREY).set_opacity(0.5).shift(RIGHT*(x_pos+interval))\n",
    "            lines = [l.copy() for l in lines]\n",
    "            dots = [d.copy().set_color(color) for d in dots]\n",
    "            groups.append([layer] + lines + dots + all_msg_dots)\n",
    "            \n",
    "            self.play(FadeIn(layer),\n",
    "                      *[l.animate.shift(RIGHT*interval) for l in lines],\n",
    "                      *[d.animate.shift(RIGHT*interval) for d in dots]) \n",
    "            \n",
    "        \n",
    "        lines = [l.copy() for l in lines]\n",
    "        dots = [d.copy().set_color(colors[-1]) for d in dots]\n",
    "        self.add(*lines)\n",
    "        self.add(*dots)\n",
    "        \n",
    "        self.play(*[FadeOut(obj) for group in groups for obj in group])\n",
    "        self.play(*[Transform(line, end_line) for line, end_line in zip(lines, end_lines)],\n",
    "                  *[Transform(dot, end_dot) for dot, end_dot in zip(dots, end_dots)])\n",
    "        self.play(Wait().set_run_time(ending_wait))"
   ]
  },
  {
   "cell_type": "code",
   "execution_count": 61,
   "id": "e7684c3d-c1c4-4244-bd61-c6645a5bc1db",
   "metadata": {},
   "outputs": [
    {
     "name": "stderr",
     "output_type": "stream",
     "text": [
      "                                                                                                              \r"
     ]
    },
    {
     "data": {
      "text/html": [
       "<pre style=\"white-space:pre;overflow-x:auto;line-height:normal;font-family:Menlo,'DejaVu Sans Mono',consolas,'Courier New',monospace\"><span style=\"color: #7fbfbf; text-decoration-color: #7fbfbf\">[07/17/21 12:46:36] </span><span style=\"color: #008000; text-decoration-color: #008000\">INFO    </span> Animation <span style=\"color: #008000; text-decoration-color: #008000\">0</span> : Partial movie file        <a href=\"file:///usr/local/anaconda3/lib/python3.9/site-packages/manim/scene/scene_file_writer.py\"><span style=\"color: #7f7f7f; text-decoration-color: #7f7f7f\">scene_file_writer.py</span></a><span style=\"color: #7f7f7f; text-decoration-color: #7f7f7f\">:413</span>\n",
       "                             written in <span style=\"color: #008000; text-decoration-color: #008000\">'/Users/chuhan/.lab/default/</span>                         \n",
       "                             <span style=\"color: #008000; text-decoration-color: #008000\">deepgd/media/videos/deepgd/1080p60/part</span>                         \n",
       "                             <span style=\"color: #008000; text-decoration-color: #008000\">ial_movie_files/TwoCircles/450974505_12</span>                         \n",
       "                             <span style=\"color: #008000; text-decoration-color: #008000\">5445262_346011738.mp4'</span>                                          \n",
       "</pre>\n"
      ],
      "text/plain": [
       "\u001b[2;36m[07/17/21 12:46:36]\u001b[0m\u001b[2;36m \u001b[0m\u001b[32mINFO    \u001b[0m Animation \u001b[32m0\u001b[0m : Partial movie file        \u001b]8;id=1626540396.560949-334294;file:///usr/local/anaconda3/lib/python3.9/site-packages/manim/scene/scene_file_writer.py\u001b\\\u001b[2mscene_file_writer.py\u001b[0m\u001b]8;;\u001b\\\u001b[2m:413\u001b[0m\n",
       "                             written in \u001b[32m'/Users/chuhan/.lab/default/\u001b[0m                         \n",
       "                             \u001b[32mdeepgd/media/videos/deepgd/1080p60/part\u001b[0m                         \n",
       "                             \u001b[32mial_movie_files/TwoCircles/450974505_12\u001b[0m                         \n",
       "                             \u001b[32m5445262_346011738.mp4'\u001b[0m                                          \n"
      ]
     },
     "metadata": {},
     "output_type": "display_data"
    },
    {
     "name": "stderr",
     "output_type": "stream",
     "text": [
      "                                                                                                              \r"
     ]
    },
    {
     "data": {
      "text/html": [
       "<pre style=\"white-space:pre;overflow-x:auto;line-height:normal;font-family:Menlo,'DejaVu Sans Mono',consolas,'Courier New',monospace\"><span style=\"color: #7fbfbf; text-decoration-color: #7fbfbf\">[07/17/21 12:46:37] </span><span style=\"color: #008000; text-decoration-color: #008000\">INFO    </span> Animation <span style=\"color: #008000; text-decoration-color: #008000\">1</span> : Partial movie file        <a href=\"file:///usr/local/anaconda3/lib/python3.9/site-packages/manim/scene/scene_file_writer.py\"><span style=\"color: #7f7f7f; text-decoration-color: #7f7f7f\">scene_file_writer.py</span></a><span style=\"color: #7f7f7f; text-decoration-color: #7f7f7f\">:413</span>\n",
       "                             written in <span style=\"color: #008000; text-decoration-color: #008000\">'/Users/chuhan/.lab/default/</span>                         \n",
       "                             <span style=\"color: #008000; text-decoration-color: #008000\">deepgd/media/videos/deepgd/1080p60/part</span>                         \n",
       "                             <span style=\"color: #008000; text-decoration-color: #008000\">ial_movie_files/TwoCircles/3968072068_9</span>                         \n",
       "                             <span style=\"color: #008000; text-decoration-color: #008000\">95073826_2444356619.mp4'</span>                                        \n",
       "</pre>\n"
      ],
      "text/plain": [
       "\u001b[2;36m[07/17/21 12:46:37]\u001b[0m\u001b[2;36m \u001b[0m\u001b[32mINFO    \u001b[0m Animation \u001b[32m1\u001b[0m : Partial movie file        \u001b]8;id=1626540398.002571-969114;file:///usr/local/anaconda3/lib/python3.9/site-packages/manim/scene/scene_file_writer.py\u001b\\\u001b[2mscene_file_writer.py\u001b[0m\u001b]8;;\u001b\\\u001b[2m:413\u001b[0m\n",
       "                             written in \u001b[32m'/Users/chuhan/.lab/default/\u001b[0m                         \n",
       "                             \u001b[32mdeepgd/media/videos/deepgd/1080p60/part\u001b[0m                         \n",
       "                             \u001b[32mial_movie_files/TwoCircles/3968072068_9\u001b[0m                         \n",
       "                             \u001b[32m95073826_2444356619.mp4'\u001b[0m                                        \n"
      ]
     },
     "metadata": {},
     "output_type": "display_data"
    },
    {
     "data": {
      "text/html": [
       "<pre style=\"white-space:pre;overflow-x:auto;line-height:normal;font-family:Menlo,'DejaVu Sans Mono',consolas,'Courier New',monospace\"><span style=\"color: #7fbfbf; text-decoration-color: #7fbfbf\">[07/17/21 12:46:38] </span><span style=\"color: #008000; text-decoration-color: #008000\">INFO    </span>                                         <a href=\"file:///usr/local/anaconda3/lib/python3.9/site-packages/manim/scene/scene_file_writer.py\"><span style=\"color: #7f7f7f; text-decoration-color: #7f7f7f\">scene_file_writer.py</span></a><span style=\"color: #7f7f7f; text-decoration-color: #7f7f7f\">:597</span>\n",
       "                             <span style=\"color: #808000; text-decoration-color: #808000; font-weight: bold\">File</span> ready at <span style=\"color: #008000; text-decoration-color: #008000\">'/Users/chuhan/.lab/defau</span>                         \n",
       "                             <span style=\"color: #008000; text-decoration-color: #008000\">lt/deepgd/media/videos/deepgd/1080p60/T</span>                         \n",
       "                             <span style=\"color: #008000; text-decoration-color: #008000\">woCircles.mp4'</span>                                                  \n",
       "                                                                                             \n",
       "</pre>\n"
      ],
      "text/plain": [
       "\u001b[2;36m[07/17/21 12:46:38]\u001b[0m\u001b[2;36m \u001b[0m\u001b[32mINFO    \u001b[0m                                         \u001b]8;id=1626540398.077981-352844;file:///usr/local/anaconda3/lib/python3.9/site-packages/manim/scene/scene_file_writer.py\u001b\\\u001b[2mscene_file_writer.py\u001b[0m\u001b]8;;\u001b\\\u001b[2m:597\u001b[0m\n",
       "                             \u001b[1;33mFile\u001b[0m ready at \u001b[32m'/Users/chuhan/.lab/defau\u001b[0m                         \n",
       "                             \u001b[32mlt/deepgd/media/videos/deepgd/1080p60/T\u001b[0m                         \n",
       "                             \u001b[32mwoCircles.mp4'\u001b[0m                                                  \n",
       "                                                                                             \n"
      ]
     },
     "metadata": {},
     "output_type": "display_data"
    },
    {
     "data": {
      "text/html": [
       "<pre style=\"white-space:pre;overflow-x:auto;line-height:normal;font-family:Menlo,'DejaVu Sans Mono',consolas,'Courier New',monospace\"><span style=\"color: #7fbfbf; text-decoration-color: #7fbfbf\">                    </span><span style=\"color: #008000; text-decoration-color: #008000\">INFO    </span> <span style=\"color: #808000; text-decoration-color: #808000; font-weight: bold\">Rendered</span> TwoCircles                                 <a href=\"file:///usr/local/anaconda3/lib/python3.9/site-packages/manim/scene/scene.py\"><span style=\"color: #7f7f7f; text-decoration-color: #7f7f7f\">scene.py</span></a><span style=\"color: #7f7f7f; text-decoration-color: #7f7f7f\">:228</span>\n",
       "                             <span style=\"color: #808000; text-decoration-color: #808000; font-weight: bold\">Played</span> <span style=\"color: #008000; text-decoration-color: #008000\">2</span> <span style=\"color: #808000; text-decoration-color: #808000; font-weight: bold\">animations</span>                                             \n",
       "</pre>\n"
      ],
      "text/plain": [
       "\u001b[2;36m                   \u001b[0m\u001b[2;36m \u001b[0m\u001b[32mINFO    \u001b[0m \u001b[1;33mRendered\u001b[0m TwoCircles                                 \u001b]8;id=1626540398.084202-633105;file:///usr/local/anaconda3/lib/python3.9/site-packages/manim/scene/scene.py\u001b\\\u001b[2mscene.py\u001b[0m\u001b]8;;\u001b\\\u001b[2m:228\u001b[0m\n",
       "                             \u001b[1;33mPlayed\u001b[0m \u001b[32m2\u001b[0m \u001b[1;33manimations\u001b[0m                                             \n"
      ]
     },
     "metadata": {},
     "output_type": "display_data"
    },
    {
     "data": {
      "text/html": [
       "<video src=\"media/jupyter/TwoCircles@2021-07-17@12-46-38.mp4\" controls autoplay loop style=\"max-width: 25vw;\"  >\n",
       "      Your browser does not support the <code>video</code> element.\n",
       "    </video>"
      ],
      "text/plain": [
       "<IPython.core.display.Video object>"
      ]
     },
     "metadata": {},
     "output_type": "display_data"
    }
   ],
   "source": [
    "%%manim TwoCircles\n",
    "class TwoCircles(Scene):\n",
    "    def construct(self):\n",
    "        r = Circle(color=RED, fill_opacity=1, z_index=0).shift(RIGHT)\n",
    "        g = Circle(color=GREEN, fill_opacity=1, z_index=1)\n",
    "        self.add(r)\n",
    "        self.add(g)\n",
    "        self.play(r.animate.shift(LEFT))\n",
    "        self.play(LaggedStart(r.animate.shift(LEFT)))"
   ]
  },
  {
   "cell_type": "code",
   "execution_count": null,
   "id": "3e0b0e4b-591a-4fe5-96f3-cb2fa0542a6d",
   "metadata": {},
   "outputs": [],
   "source": []
  }
 ],
 "metadata": {
  "kernelspec": {
   "display_name": "Conda (deepgd)",
   "language": "python",
   "name": "conda.deepgd"
  },
  "language_info": {
   "codemirror_mode": {
    "name": "ipython",
    "version": 3
   },
   "file_extension": ".py",
   "mimetype": "text/x-python",
   "name": "python",
   "nbconvert_exporter": "python",
   "pygments_lexer": "ipython3",
   "version": "3.9.7"
  },
  "widgets": {
   "application/vnd.jupyter.widget-state+json": {
    "state": {},
    "version_major": 2,
    "version_minor": 0
   }
  }
 },
 "nbformat": 4,
 "nbformat_minor": 5
}
