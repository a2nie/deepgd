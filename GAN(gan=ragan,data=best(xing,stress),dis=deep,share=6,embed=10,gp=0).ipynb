{
 "cells": [
  {
   "cell_type": "markdown",
   "metadata": {
    "id": "wZtYFEhHoBGp"
   },
   "source": [
    "# Import libraries"
   ]
  },
  {
   "cell_type": "code",
   "execution_count": 1,
   "metadata": {
    "id": "KJPfzpxLQI5O"
   },
   "outputs": [],
   "source": [
    "%load_ext autoreload\n",
    "%autoreload 2\n",
    "from deepgd import *"
   ]
  },
  {
   "cell_type": "markdown",
   "metadata": {
    "id": "z4eBEyB1oaJe"
   },
   "source": [
    "# Config"
   ]
  },
  {
   "cell_type": "code",
   "execution_count": 2,
   "metadata": {
    "id": "Q_-MLFhpNvxF"
   },
   "outputs": [],
   "source": [
    "cuda_idx = 0\n",
    "canonicalization = Canonicalization(normalize=Standardization(norm_ord=1),\n",
    "                                    scale=False)\n",
    "config = StaticConfig({\n",
    "    \"name\": 'GAN(gan=ragan,data=best(xing,stress),dis=deep,share=6,embed=10,gp=0)',\n",
    "    \"uid\": None,\n",
    "    \"link\": None,\n",
    "    \"generator\": {\n",
    "        \"params\": {\n",
    "            \"num_blocks\": 9,\n",
    "            \"normalize\": canonicalization\n",
    "        },\n",
    "        \"pretrained\": {\n",
    "            \"name\": None,\n",
    "            \"epoch\": -1,\n",
    "        },\n",
    "        \"optim\": torch.optim.AdamW,\n",
    "        \"lr\" : {\n",
    "            \"initial\": 1e-3,\n",
    "            \"decay\": 0.99,\n",
    "        },\n",
    "    },\n",
    "    \"discriminator\": {\n",
    "        \"params\": {\n",
    "            \"conv\": [2, 16, 16, 16],\n",
    "            \"dense\": [2],\n",
    "            \"shared_depth\": 6,\n",
    "            \"enet_depth\": 10,\n",
    "            \"enet_width\": 64,\n",
    "            \"aggr\": \"add\",\n",
    "            \"normalize\": canonicalization\n",
    "        },\n",
    "        \"pretrained\": {\n",
    "            \"name\": None,\n",
    "            \"epoch\": -1,\n",
    "        },\n",
    "        \"optim\": torch.optim.AdamW,\n",
    "        \"lr\" : {\n",
    "            \"initial\": 1e-3,\n",
    "            \"decay\": 0.99,\n",
    "        },\n",
    "        \"noise\": {\n",
    "            \"std\": 0,\n",
    "            \"decay\": 0.95,\n",
    "        },\n",
    "        \"repeat\": 1,\n",
    "        \"complete\": True,\n",
    "        \"adaptive\": True\n",
    "    },\n",
    "    \"alternate\": \"epoch\",\n",
    "    \"batchsize\": 24,\n",
    "    \"epoch\": {\n",
    "        \"start\": -1,\n",
    "        \"end\": None,\n",
    "    },\n",
    "    \"log_interval\": 1,\n",
    "    \"test\": {\n",
    "        \"name\": \"test\",\n",
    "        \"epoch\": -1,\n",
    "    },\n",
    "    \"gan_flavor\": \"ragan\",\n",
    "    \"gp_weight\": 0,\n",
    "})\n",
    "data_config = StaticConfig({\n",
    "    \"sparse\": False,\n",
    "    \"pivot\": None,\n",
    "    \"init\": \"pmds\",\n",
    "    \"edge\": {\n",
    "        \"index\": \"full_edge_index\",\n",
    "        \"attr\": \"full_edge_attr\",\n",
    "    },\n",
    "})\n",
    "loss_fns = {\n",
    "    Stress(): 1\n",
    "}\n",
    "ctrler_params = {\n",
    "    \"tau\": 0.95,\n",
    "    \"beta\": 1,\n",
    "    \"exploit_rate\": 0.5,\n",
    "    \"warmup\": 2,\n",
    "}\n",
    "paths = StaticConfig({\n",
    "    \"root\": \"artifacts\",\n",
    "    \"checkpoints\": lambda: f\"{paths.root}/checkpoints/{config.name}\",\n",
    "    \"gen_pretrain\": lambda: f\"{paths.root}/checkpoints/{config.generator.pretrained.name}\",\n",
    "    \"dis_pretrain\": lambda: f\"{paths.root}/checkpoints/{config.discriminator.pretrained.name}\",\n",
    "    \"tensorboard\": lambda: f\"{paths.root}/tensorboards/{config.name}\",\n",
    "    \"visualization\": lambda: f\"{paths.root}/visualizations/{config.name}_{config.test.name}\",\n",
    "    \"log\": lambda: f\"{paths.root}/logs/{config.name}.log\",\n",
    "    \"metrics\": lambda suffix: f\"{paths.root}/metrics/{config.name}_{suffix}.pickle\",\n",
    "})"
   ]
  },
  {
   "cell_type": "code",
   "execution_count": 3,
   "metadata": {
    "id": "mdMEAbH10Qaq"
   },
   "outputs": [],
   "source": [
    "if \" \" in config.name:\n",
    "    raise Exception(\"Space is not allowed in model name.\")"
   ]
  },
  {
   "cell_type": "markdown",
   "metadata": {
    "id": "WynW4ZAdBhep"
   },
   "source": [
    "# Prepare"
   ]
  },
  {
   "cell_type": "markdown",
   "metadata": {
    "id": "DR6-vYtr_i_P"
   },
   "source": [
    "## Get log command"
   ]
  },
  {
   "cell_type": "code",
   "execution_count": 4,
   "metadata": {
    "colab": {
     "base_uri": "https://localhost:8080/"
    },
    "id": "9-QpinlslcTO",
    "outputId": "48ae3716-212c-4d46-9efb-b7b4070f73de"
   },
   "outputs": [
    {
     "name": "stdout",
     "output_type": "stream",
     "text": [
      "cd /users/PAS0027/osu10203/deepgd && tail -n1000 -f 'artifacts/logs/GAN(gan=ragan,data=best(xing,stress),dis=deep,share=6,embed=10,gp=0).log'\n"
     ]
    }
   ],
   "source": [
    "print(f\"cd {os.getcwd()} && tail -n1000 -f '{paths.log()}'\")"
   ]
  },
  {
   "cell_type": "code",
   "execution_count": 5,
   "metadata": {},
   "outputs": [
    {
     "name": "stdout",
     "output_type": "stream",
     "text": [
      "tensorboard dev upload --logdir 'artifacts/tensorboards/GAN(gan=ragan,data=best(xing,stress),dis=deep,share=6,embed=10,gp=0)'\n"
     ]
    }
   ],
   "source": [
    "print(f\"tensorboard dev upload --logdir '{paths.tensorboard()}'\")"
   ]
  },
  {
   "cell_type": "markdown",
   "metadata": {
    "id": "innqkwvH_ydD"
   },
   "source": [
    "## Set globals"
   ]
  },
  {
   "cell_type": "code",
   "execution_count": 6,
   "metadata": {
    "id": "Qjq7JlSZlkQR"
   },
   "outputs": [],
   "source": [
    "if cuda_idx is not None and torch.cuda.is_available():\n",
    "    device = f'cuda:{cuda_idx}'\n",
    "    pynvml.nvmlInit()\n",
    "    cuda = pynvml.nvmlDeviceGetHandleByIndex(cuda_idx)\n",
    "else:\n",
    "    device = 'cpu'\n",
    "    cuda =  None\n",
    "np.set_printoptions(precision=2)\n",
    "warnings.filterwarnings(\"ignore\", category=RuntimeWarning)"
   ]
  },
  {
   "cell_type": "markdown",
   "metadata": {
    "id": "0da286l_ApEL"
   },
   "source": [
    "## Load data"
   ]
  },
  {
   "cell_type": "code",
   "execution_count": 7,
   "metadata": {
    "colab": {
     "base_uri": "https://localhost:8080/"
    },
    "id": "RFuSHiZJMU4x",
    "outputId": "54065609-aaea-4536-d79c-73bc73b3f576"
   },
   "outputs": [
    {
     "name": "stdout",
     "output_type": "stream",
     "text": [
      "Load from 'cache/G_list.pickle'\n",
      "Load from 'cache/generate_data_list(list,sparse=False,pivot_mode=None,init_mode=pmds,edge_index=full_edge_index,edge_attr=full_edge_attr,pmds_list=ndarray,gviz_list=ndarray,noisy_layout=True,device=cpu).pickle'\n"
     ]
    },
    {
     "name": "stderr",
     "output_type": "stream",
     "text": [
      "/users/PAS0027/osu10203/.conda/envs/deepgd/lib/python3.9/site-packages/torch_geometric/deprecation.py:13: UserWarning: 'data.DataLoader' is deprecated, use 'loader.DataLoader' instead\n",
      "  warnings.warn(out)\n"
     ]
    }
   ],
   "source": [
    "G_list = load_G_list(data_path='data/rome', index_file='data_index.txt', cache='G_list', cache_prefix='cache/')\n",
    "data_list = generate_data_list(G_list, \n",
    "                               sparse=data_config.sparse, \n",
    "                               pivot_mode=data_config.pivot,\n",
    "                               init_mode=data_config.init,\n",
    "                               edge_index=data_config.edge.index,\n",
    "                               edge_attr=data_config.edge.attr,\n",
    "                               pmds_list=np.load('layouts/rome/pmds.npy', allow_pickle=True),\n",
    "                               gviz_list=np.load('layouts/rome/gviz.npy', allow_pickle=True),\n",
    "                               noisy_layout=True,\n",
    "                               device='cpu', \n",
    "                               cache=True,\n",
    "                               cache_prefix='cache/')\n",
    "train_loader = LazyDeviceMappingDataLoader(data_list[:10000], batch_size=config.batchsize, shuffle=True, device=device)\n",
    "val_loader = LazyDeviceMappingDataLoader(data_list[11000:], batch_size=config.batchsize, shuffle=False, device=device)"
   ]
  },
  {
   "cell_type": "code",
   "execution_count": 8,
   "metadata": {
    "id": "djd1pLt2OxZq"
   },
   "outputs": [],
   "source": [
    "def draw_layout(G, method, draw=True):\n",
    "    if method == 'fa2':\n",
    "        layout = get_fa2_layout(G)\n",
    "    else:\n",
    "        try:\n",
    "            fn = getattr(nx.drawing.layout, f'{method}_layout')\n",
    "            layout = fn(G)\n",
    "        except:\n",
    "            layout = nx.drawing.nx_agraph.graphviz_layout(G, prog=method)\n",
    "    if draw:\n",
    "        nx.draw(G, pos=layout)\n",
    "    return layout"
   ]
  },
  {
   "cell_type": "code",
   "execution_count": 9,
   "metadata": {
    "id": "2vBBw77lR7Em"
   },
   "outputs": [],
   "source": [
    "methods = ['neato', 'dot', 'fdp', 'sfdp', 'twopi', 'circo', 'shell', 'spring', 'circular', 'spectral', 'kamada_kawai', 'fa2', 'pmds']"
   ]
  },
  {
   "cell_type": "code",
   "execution_count": 10,
   "metadata": {
    "id": "dx6VVA9XIc2O"
   },
   "outputs": [],
   "source": [
    "from functools import lru_cache\n",
    "\n",
    "@lru_cache(maxsize=None)\n",
    "def load_pos(method):\n",
    "    return np.load(f'layouts/rome/{method}.npy', allow_pickle=True)"
   ]
  },
  {
   "cell_type": "code",
   "execution_count": 11,
   "metadata": {
    "colab": {
     "base_uri": "https://localhost:8080/",
     "height": 1000,
     "referenced_widgets": [
      "05a37aeeb20049dfa2f97287b3990556",
      "a75afae3adfd4810a0b0991a062535ee",
      "a24ae105ed124595992f7e2e5f909247",
      "01b4cabaf8004dd4b9269b4e6889c498",
      "f3c7c84f2b314bd8b97a7358deaf4fa1",
      "35e4a83e692b4a7bafb46fdf192b2586",
      "62847b5e2678459f845159eef6d4feab",
      "143e81f00313436dacfa246a57108944",
      "e05833f11803400b95ff22246cdc8f2b",
      "53aeede91e074378b5d7f626165655ee",
      "79a43768c1794a10a788a49e5883aa2c"
     ]
    },
    "id": "MSmP-jem9I0X",
    "outputId": "c698f0bf-e96e-4de9-aeda-0b046fc0a03f",
    "scrolled": true,
    "tags": []
   },
   "outputs": [],
   "source": [
    "# best_list = []\n",
    "# best_layout_list = []\n",
    "# for idx, (G, data) in enumerate(zip(tqdm(G_list), data_list)):\n",
    "#     xing, stress, layout = {}, {}, {}\n",
    "#     for m in methods:\n",
    "#         batch = Batch.from_data_list([data])\n",
    "#         pos = load_pos(m)\n",
    "#         p = CanonicalizationByStress()(torch.tensor(pos[idx]).float(), batch)\n",
    "#         x = Xing()(p, batch).item()\n",
    "#         s = Stress()(p, batch).item()\n",
    "#         xing[m] = x\n",
    "#         stress[m] = s\n",
    "#         layout[m] = p.numpy()\n",
    "#         # plt.figure()\n",
    "#         # graph_vis(G, pos[idx])\n",
    "#         # plt.title(f'{m} stress={s:.2f} xing={x}')\n",
    "#     best, *_ = sorted(methods, key=lambda m: (xing[m], stress[m]))\n",
    "#     best_list.append(best)\n",
    "#     best_layout_list.append(layout[best])\n",
    "#     print(f'{best}, xing={xing[best]}, stress={stress[best]:.2f}')"
   ]
  },
  {
   "cell_type": "code",
   "execution_count": 12,
   "metadata": {
    "colab": {
     "base_uri": "https://localhost:8080/"
    },
    "id": "Mx2bZNugdTqa",
    "outputId": "cec05a67-18e8-492f-aaa1-057274a8341a"
   },
   "outputs": [],
   "source": [
    "# pickle.dump(best_list, open('layouts/rome/best[xing,stress].pkl', 'wb'))\n",
    "# np.save('layouts/rome/best[xing,stress].npy', best_layout_list)"
   ]
  },
  {
   "cell_type": "code",
   "execution_count": 13,
   "metadata": {
    "colab": {
     "base_uri": "https://localhost:8080/",
     "height": 49,
     "referenced_widgets": [
      "7e0ae84dd0f3458d893c81b029fe1729",
      "18bdc3bf80fb434abde68de5b72a8870",
      "2e3552ded9594635a51832387ae754a0",
      "54f4aa5080c6498080a63be2cdeefee5",
      "3937586d0879451da5e2138ca3bfd0a0",
      "a9df6e84ce8c499eb2b2cf984995d791",
      "7af6b718dd3d4e01b264377a2fa938e2",
      "a774c86e64004bd6951645f1c24abad4",
      "c86575117cd041f2837762f37d1f387b",
      "6e9907cefb1241688fbd248b8281ed9f",
      "9b8e5405d8264944acab57e81f2f5ad6"
     ]
    },
    "id": "A1-w1fspC53p",
    "outputId": "09c2d5c3-1eef-41eb-dcee-581af1294804"
   },
   "outputs": [
    {
     "data": {
      "application/vnd.jupyter.widget-view+json": {
       "model_id": "b46a1185d57d4a349e45a0596d267026",
       "version_major": 2,
       "version_minor": 0
      },
      "text/plain": [
       "  0%|          | 0/11531 [00:00<?, ?it/s]"
      ]
     },
     "metadata": {},
     "output_type": "display_data"
    }
   ],
   "source": [
    "best_layout_list = np.load('layouts/rome/best[xing,stress].npy', allow_pickle=True)\n",
    "for data, layout in zip(tqdm(data_list), best_layout_list):\n",
    "    data.gt_pos = torch.tensor(layout)"
   ]
  },
  {
   "cell_type": "code",
   "execution_count": 14,
   "metadata": {
    "id": "y6EGh4U7exL_"
   },
   "outputs": [],
   "source": [
    "train_loader = LazyDeviceMappingDataLoader(data_list[:10000], batch_size=config.batchsize, shuffle=True, device=device)\n",
    "val_loader = LazyDeviceMappingDataLoader(data_list[11000:], batch_size=config.batchsize, shuffle=False, device=device)"
   ]
  },
  {
   "cell_type": "code",
   "execution_count": 15,
   "metadata": {
    "colab": {
     "base_uri": "https://localhost:8080/",
     "height": 103,
     "referenced_widgets": [
      "38a33cf69aff48f4aabd4902a7ce48b1",
      "57e277bcb44c4e2fa2a12105d75153d1",
      "20ce017c46bd4a7c9b420270ac579405",
      "13f2df4fe0ce4af88b6e3bd1637065b0",
      "2867faa145ca4860a198d4d0bf830f89",
      "02838cf669174ed9afa41a1a8e680765",
      "7e9e3c031667455f8baca163d3a213e5",
      "4000135e7dfa46529fa6244fccc5cb57",
      "e523e9faac5b4ec38643c05ac5ba99f7",
      "e8e3ee9741e4480dae5003ccc19a7891",
      "9a569045221b43acb3ba2fbf116b2c74"
     ]
    },
    "id": "YEfRRUK0NiNm",
    "outputId": "93f53d05-7667-4cda-a38e-c3a953124f79"
   },
   "outputs": [],
   "source": [
    "# for m in methods:\n",
    "#     layouts = []\n",
    "#     for G in tqdm(G_list):\n",
    "#         layout = draw_layout(G, method=m, draw=False)\n",
    "#         layouts.append(np.array(list(layout.values())))\n",
    "#     np.save(f'layouts/rome/{m}.npy', layouts)"
   ]
  },
  {
   "cell_type": "code",
   "execution_count": 16,
   "metadata": {
    "colab": {
     "base_uri": "https://localhost:8080/",
     "height": 564
    },
    "id": "upK7AHYqPmC5",
    "outputId": "29a88e61-f55f-409c-9194-12c6d5762528"
   },
   "outputs": [],
   "source": [
    "# from collections import Counter\n",
    "\n",
    "# letter_counts = Counter(best_list)\n",
    "# df = pd.DataFrame.from_dict(letter_counts, orient='index')\n",
    "# df.plot(kind='bar', figsize=[12, 8])"
   ]
  },
  {
   "cell_type": "markdown",
   "metadata": {
    "id": "f-ODE2k8BFV6"
   },
   "source": [
    "## Create folders"
   ]
  },
  {
   "cell_type": "code",
   "execution_count": 17,
   "metadata": {
    "id": "3ykUMINYBRog"
   },
   "outputs": [],
   "source": [
    "mkdirs(paths.checkpoints(), paths.tensorboard(), paths.visualization(), f\"{paths.root}/logs\", f\"{paths.root}/metrics\")"
   ]
  },
  {
   "cell_type": "markdown",
   "metadata": {
    "id": "BFq9k5nzBIh5"
   },
   "source": [
    "## Load checkpoints"
   ]
  },
  {
   "cell_type": "code",
   "execution_count": 18,
   "metadata": {
    "id": "W5NbsKkobIfA"
   },
   "outputs": [],
   "source": [
    "class EdgeFeatureDiscriminator(nn.Module):\n",
    "    def __init__(self, \n",
    "                 conv, \n",
    "                 dense,\n",
    "                 shared_depth,\n",
    "                 enet_depth,\n",
    "                 enet_width,\n",
    "                 aggr='add', \n",
    "                 root_weight=True,\n",
    "                 normalize=None):\n",
    "        super().__init__()\n",
    "        self.enet = nn.Sequential(*[\n",
    "            DenseLayer(in_dim=in_d,\n",
    "                       out_dim=out_d,\n",
    "                       skip=nonlin,\n",
    "                       bn=nonlin,\n",
    "                       act=nonlin,\n",
    "                       dp=None)\n",
    "            for in_d, out_d, nonlin \n",
    "            in zip([self._get_feature_dim()] + [enet_width] * (shared_depth-1),\n",
    "                   [enet_width] * shared_depth,\n",
    "                   [True] * (shared_depth-1) + [False])     \n",
    "        ])\n",
    "        self.blocks = nn.ModuleList([\n",
    "            GNNLayer(nfeat_dims=(in_d, out_d),\n",
    "                     efeat_dim=enet_width,\n",
    "                     edge_net=EdgeNet(nfeat_dims=(in_d, out_d), \n",
    "                                      efeat_dim=enet_width, \n",
    "                                      depth=enet_depth, \n",
    "                                      width=enet_width),\n",
    "                     aggr=aggr,\n",
    "                     dense=False,\n",
    "                     skip=nonlin,\n",
    "                     bn=nonlin,\n",
    "                     act=nonlin,\n",
    "                     root_weight=root_weight) \n",
    "            for in_d, out_d, nonlin \n",
    "            in zip(conv[:-1], conv[1:], [True] * (len(conv)-2) + [False])     \n",
    "        ])\n",
    "        self.pool = (gnn.global_mean_pool if aggr == 'mean' \n",
    "                     else gnn.global_add_pool if aggr == 'add' \n",
    "                     else None)\n",
    "        self.dense = nn.Identity() if not dense else nn.Sequential(*[\n",
    "            DenseLayer(in_dim=in_d,\n",
    "                       out_dim=out_d,\n",
    "                       skip=nonlin,\n",
    "                       bn=nonlin,\n",
    "                       act=nonlin,\n",
    "                       dp=None)\n",
    "            for in_d, out_d, nonlin \n",
    "            in zip(conv[-1:] + dense[:-1], dense, [True] * (len(dense)-1) + [False])     \n",
    "        ])\n",
    "        self.normalize = normalize or IdentityTransformation()\n",
    "    \n",
    "    def forward(self, batch):\n",
    "        x = torch.ones_like(batch.pos)\n",
    "        e = self.enet(self._get_features(self._get_edge_info(batch, layout='pos')))\n",
    "        for block in self.blocks:\n",
    "            x = block(x, e, batch)\n",
    "        x = self.pool(x, batch.batch)\n",
    "        x = self.dense(x)\n",
    "        return x\n",
    "    \n",
    "    def _get_edge_info(self, batch, layout='gt_pos'):\n",
    "        pos = self.normalize(batch[layout].float(), batch)\n",
    "        src, dst = get_edges(pos, batch)\n",
    "        v, u = l2_normalize(dst - src, return_norm=True)\n",
    "        d = batch.edge_attr[:, :1]\n",
    "        return {\n",
    "            \"src\": src,\n",
    "            \"dst\": dst,\n",
    "            \"v\": v,\n",
    "            \"u\": u,\n",
    "            \"d\": d,\n",
    "        }\n",
    "\n",
    "    def _get_features(self, edges):\n",
    "        return torch.cat([edges['src'], edges['dst'], edges['d']], dim=1)\n",
    "        \n",
    "    def _get_feature_dim(self):\n",
    "        return self._get_features({\n",
    "            \"src\": torch.zeros(1, 2),\n",
    "            \"dst\": torch.zeros(1, 2),\n",
    "            \"v\": torch.zeros(1, 2),\n",
    "            \"u\": torch.zeros(1, 1),\n",
    "            \"d\": torch.zeros(1, 1),\n",
    "        }).shape[-1]"
   ]
  },
  {
   "cell_type": "code",
   "execution_count": 19,
   "metadata": {
    "id": "96ZActxlL0fJ"
   },
   "outputs": [],
   "source": [
    "class StressDiscriminator(nn.Module):\n",
    "    def __init__(self, normalize=CanonicalizationByStress(), **kwargs):\n",
    "        super().__init__()\n",
    "        self.dummy = nn.Parameter(torch.zeros(1))\n",
    "        self.normalize = normalize\n",
    "        self.stress = Stress(reduce=None)\n",
    "\n",
    "    def forward(self, batch):\n",
    "        return -self.stress(self.normalize(batch.pos, batch), batch)"
   ]
  },
  {
   "cell_type": "code",
   "execution_count": 20,
   "metadata": {
    "id": "IJ6xCYBUuhcw"
   },
   "outputs": [],
   "source": [
    "def get_ckpt_epoch(folder, epoch):\n",
    "    if not os.path.isdir(folder):\n",
    "        os.mkdir(folder)\n",
    "    if epoch >= 0:\n",
    "        return epoch\n",
    "    ckpt_files = os.listdir(folder)\n",
    "    last_epoch = 0\n",
    "    if ckpt_files:\n",
    "        last_epoch = sorted(list(map(lambda x: int(re.search('(?<=epoch_)(\\d+)(?=\\.)', x).group(1)), ckpt_files)))[-1]\n",
    "    return last_epoch + epoch + 1\n",
    "\n",
    "def start_epoch():\n",
    "    return get_ckpt_epoch(paths.checkpoints(), config.epoch.start)"
   ]
  },
  {
   "cell_type": "code",
   "execution_count": 21,
   "metadata": {
    "colab": {
     "base_uri": "https://localhost:8080/"
    },
    "id": "JacDYXka9U01",
    "outputId": "ef4e31ab-2144-497c-8e4f-4d3740ce2d52"
   },
   "outputs": [
    {
     "name": "stdout",
     "output_type": "stream",
     "text": [
      "Loading from artifacts/checkpoints/GAN(gan=ragan,data=best(xing,stress),dis=deep,share=6,embed=10,gp=0)/gen_epoch_1082.pt...\n",
      "Loading from artifacts/checkpoints/GAN(gan=ragan,data=best(xing,stress),dis=deep,share=6,embed=10,gp=0)/gen_optim_epoch_1082.pt...\n"
     ]
    }
   ],
   "source": [
    "generator = Generator(**config.generator.params[...]).to(device)\n",
    "generator_optimizer = config.generator.optim(generator.parameters(), lr=config.generator.lr.initial * config.generator.lr.decay ** start_epoch())\n",
    "generator_scheduler = torch.optim.lr_scheduler.ExponentialLR(generator_optimizer, gamma=config.generator.lr.decay)\n",
    "if start_epoch() != 0:\n",
    "    gen_ckpt_epoch = start_epoch()\n",
    "elif config.generator.pretrained.name is not None and config.generator.pretrained.epoch != 0:\n",
    "    gen_pretrained_epoch = get_ckpt_epoch(paths.gen_pretrain(), config.generator.pretrained.epoch)\n",
    "    gen_ckpt_epoch = gen_pretrained_epoch \n",
    "else:\n",
    "    gen_ckpt_epoch = None\n",
    "if gen_ckpt_epoch is not None:\n",
    "    # Load generator\n",
    "    gen_ckpt_file = f\"{paths.checkpoints()}/gen_epoch_{gen_ckpt_epoch}.pt\"\n",
    "    print(f\"Loading from {gen_ckpt_file}...\")\n",
    "    generator.load_state_dict(torch.load(gen_ckpt_file, map_location=torch.device(device)))\n",
    "    # Load generator optimizer\n",
    "    gen_optim_ckpt_file = f\"{paths.checkpoints()}/gen_optim_epoch_{gen_ckpt_epoch}.pt\"\n",
    "    print(f\"Loading from {gen_optim_ckpt_file}...\")\n",
    "    generator_optimizer.load_state_dict(torch.load(gen_optim_ckpt_file, map_location=torch.device(device)))"
   ]
  },
  {
   "cell_type": "code",
   "execution_count": 22,
   "metadata": {
    "colab": {
     "base_uri": "https://localhost:8080/"
    },
    "id": "oWQhD7-88VXe",
    "outputId": "3ba01600-b546-4e45-a6bd-c7a65af1ae9e"
   },
   "outputs": [
    {
     "name": "stdout",
     "output_type": "stream",
     "text": [
      "Loading from artifacts/checkpoints/GAN(gan=ragan,data=best(xing,stress),dis=deep,share=6,embed=10,gp=0)/dis_epoch_1082.pt...\n",
      "Loading from artifacts/checkpoints/GAN(gan=ragan,data=best(xing,stress),dis=deep,share=6,embed=10,gp=0)/dis_optim_epoch_1082.pt...\n"
     ]
    }
   ],
   "source": [
    "discriminator = EdgeFeatureDiscriminator(**config.discriminator.params[...]).to(device)\n",
    "discriminator_optimizer = config.discriminator.optim(discriminator.parameters(), lr=config.discriminator.lr.initial * config.discriminator.lr.decay ** start_epoch())\n",
    "discriminator_scheduler = torch.optim.lr_scheduler.ExponentialLR(discriminator_optimizer, gamma=config.discriminator.lr.decay)\n",
    "if start_epoch() != 0:\n",
    "    dis_ckpt_epoch = start_epoch()\n",
    "elif config.discriminator.pretrained.name is not None and config.discriminator.pretrained.epoch != 0:\n",
    "    dis_pretrained_epoch = get_ckpt_epoch(paths.dis_pretrain(), config.discriminator.pretrained.epoch)\n",
    "    dis_ckpt_epoch = dis_pretrained_epoch # f\"{paths.dis_pretrain()}/dis_epoch_{dis_pretrained_epoch}.pt\"\n",
    "else:\n",
    "    dis_ckpt_epoch = None\n",
    "if dis_ckpt_epoch is not None:\n",
    "    # Load discriminator\n",
    "    dis_ckpt_file = f\"{paths.checkpoints()}/dis_epoch_{dis_ckpt_epoch}.pt\"\n",
    "    print(f\"Loading from {dis_ckpt_file}...\")\n",
    "    discriminator.load_state_dict(torch.load(dis_ckpt_file, map_location=torch.device(device)))\n",
    "    # Load discriminator optimizer\n",
    "    dis_optim_ckpt_file = f\"{paths.checkpoints()}/dis_optim_epoch_{dis_ckpt_epoch}.pt\"\n",
    "    print(f\"Loading from {dis_optim_ckpt_file}...\")\n",
    "    discriminator_optimizer.load_state_dict(torch.load(dis_optim_ckpt_file, map_location=torch.device(device)))"
   ]
  },
  {
   "cell_type": "markdown",
   "metadata": {
    "id": "N39dDHraedM6"
   },
   "source": [
    "# Train"
   ]
  },
  {
   "cell_type": "code",
   "execution_count": 23,
   "metadata": {
    "id": "BdIJSDSJedM-"
   },
   "outputs": [],
   "source": [
    "stress_criterion = StressDiscriminator().to(device)\n",
    "val_criterion = Stress(reduce=None)\n",
    "xing_criterion = Xing(reduce=None)\n",
    "dis_convert = DiscriminatorDataConverter(complete_graph=config.discriminator.complete, normalize=config.discriminator.params.normalize)\n",
    "tensorboard = SummaryWriter(log_dir=paths.tensorboard())\n",
    "epoch = start_epoch() + 1"
   ]
  },
  {
   "cell_type": "code",
   "execution_count": 24,
   "metadata": {
    "id": "OHRWj1h0edM-"
   },
   "outputs": [],
   "source": [
    "def gradient_penalty(interpolated, discriminator, weight=10):\n",
    "    interpolated.pos.requires_grad_()\n",
    "    prob_interpolated = discriminator(interpolated)\n",
    "    gradients = autograd.grad(outputs=prob_interpolated, \n",
    "                              inputs=interpolated.pos,\n",
    "                              grad_outputs=torch.ones_like(prob_interpolated),\n",
    "                              create_graph=True, \n",
    "                              retain_graph=True, \n",
    "                              allow_unused=True)[0]\n",
    "    gradients_norm = torch.sqrt(gnn.global_add_pool(gradients.square().sum(dim=1), batch.batch) + 1e-8)\n",
    "    return weight * ((gradients_norm - 1) ** 2).mean()"
   ]
  },
  {
   "cell_type": "code",
   "execution_count": 25,
   "metadata": {
    "id": "o5wJJN9AedM_"
   },
   "outputs": [],
   "source": [
    "def get_gp_loss(batch, fake_pos, weight):\n",
    "    if weight > 0:\n",
    "        interp = dis_convert(batch, fake_pos, random.random())\n",
    "        return gradient_penalty(interp, discriminator, weight).mean()\n",
    "    return 0"
   ]
  },
  {
   "cell_type": "code",
   "execution_count": 26,
   "metadata": {
    "id": "QwuA6sRoedM_"
   },
   "outputs": [],
   "source": [
    "def get_sgan_loss(batch, fake_pos, mode='discriminator'):\n",
    "    real = dis_convert(batch)\n",
    "    fake = dis_convert(batch, fake_pos)\n",
    "    pred = discriminator(merge_batch(real, fake)).view(2, -1).T\n",
    "    if mode == 'discriminator':\n",
    "        label = torch.zeros(pred.shape[0]).long()\n",
    "    elif mode == 'generator':\n",
    "        label = torch.ones(pred.shape[0]).long()\n",
    "    else:\n",
    "        raise Exception\n",
    "    return nn.CrossEntropyLoss()(pred, label)"
   ]
  },
  {
   "cell_type": "code",
   "execution_count": 27,
   "metadata": {
    "id": "GuAP1YchedNA"
   },
   "outputs": [],
   "source": [
    "def get_rgan_loss(batch, fake_pos, mode='discriminator'):\n",
    "    real = dis_convert(batch)\n",
    "    fake = dis_convert(batch, fake_pos)\n",
    "    pred = discriminator(merge_batch(real, fake)).view(2, -1).T\n",
    "    real_pred, fake_pred = pred[:,0], pred[:,1]\n",
    "    if mode == 'discriminator':\n",
    "        losses = - F.logsigmoid(real_pred - fake_pred)\n",
    "    elif mode == 'generator':\n",
    "        losses = - F.logsigmoid(fake_pred - real_pred)\n",
    "    else:\n",
    "        raise Exception\n",
    "    return losses.mean()"
   ]
  },
  {
   "cell_type": "code",
   "execution_count": 28,
   "metadata": {
    "id": "KFllQ7BredNA"
   },
   "outputs": [],
   "source": [
    "def get_wgan_loss(batch, fake_pos, mode='discriminator'):\n",
    "    real = dis_convert(batch)\n",
    "    fake = dis_convert(batch, fake_pos)\n",
    "    pred = discriminator(merge_batch(real, fake)).view(2, -1).T\n",
    "    real_pred, fake_pred = pred[:,0], pred[:,1]\n",
    "    if mode == 'discriminator':\n",
    "        losses = fake_pred - real_pred \n",
    "    elif mode == 'generator':\n",
    "        losses = real_pred - fake_pred\n",
    "    else:\n",
    "        raise Exception\n",
    "    return losses.mean()"
   ]
  },
  {
   "cell_type": "code",
   "execution_count": 29,
   "metadata": {
    "id": "r5Kg_tYEedNA"
   },
   "outputs": [],
   "source": [
    "def get_ragan_loss(batch, fake_pos, mode='discriminator'):\n",
    "    real = dis_convert(batch)\n",
    "    fake = dis_convert(batch, fake_pos)\n",
    "    pred = discriminator(merge_batch(real, fake)).view(2, -1).T\n",
    "    real_pred, fake_pred = pred[:,0], pred[:,1]\n",
    "    if mode == 'discriminator':\n",
    "        losses = - F.logsigmoid(real_pred - fake_pred.mean()) - F.logsigmoid(real_pred.mean() - fake_pred)\n",
    "    elif mode == 'generator':\n",
    "        losses = - F.logsigmoid(fake_pred - real_pred.mean()) - F.logsigmoid(fake_pred.mean() - real_pred)\n",
    "    else:\n",
    "        raise Exception\n",
    "    return losses.mean()"
   ]
  },
  {
   "cell_type": "code",
   "execution_count": 30,
   "metadata": {},
   "outputs": [],
   "source": [
    "def get_dgdv2_loss(batch, fake_pos, mode='discriminator'):\n",
    "    fake = dis_convert(batch, fake_pos)\n",
    "    pred = discriminator(fake)\n",
    "    if mode == 'discriminator':\n",
    "        gt = get_gt(batch, fake_pos)\n",
    "        loss = criterion(pred, gt)\n",
    "    elif mode == 'generator':\n",
    "        losses = pred.sum(dim=0)\n",
    "#         losses = torch.tensor(config.importance).to(device) * losses #/ losses.detach()\n",
    "        loss = losses.sum()\n",
    "    else:\n",
    "        raise Exception\n",
    "    return -loss"
   ]
  },
  {
   "cell_type": "code",
   "execution_count": 31,
   "metadata": {
    "id": "3IE_84f-edNB"
   },
   "outputs": [],
   "source": [
    "def get_gan_loss(batch, fake_pos, mode='discriminator'):\n",
    "    return {\"sgan\": get_sgan_loss,\n",
    "            \"wgan\": get_wgan_loss,\n",
    "            \"rgan\": get_rgan_loss,\n",
    "            \"ragan\": get_ragan_loss,\n",
    "            \"dgdv2\": get_dgdv2_loss}[config.gan_flavor](batch, fake_pos, mode)"
   ]
  },
  {
   "cell_type": "code",
   "execution_count": 32,
   "metadata": {
    "colab": {
     "background_save": true,
     "base_uri": "https://localhost:8080/",
     "height": 80
    },
    "id": "2NjekXgkedNB",
    "outputId": "da85b2ec-c0de-459c-c0dd-7ba3519419fa",
    "scrolled": true,
    "tags": []
   },
   "outputs": [
    {
     "data": {
      "application/vnd.jupyter.widget-view+json": {
       "model_id": "41518cea59ab44eeacae17348e55af2f",
       "version_major": 2,
       "version_minor": 0
      },
      "text/plain": [
       "Tab(children=(VBox(children=(Wrapper(), Hud())), HBox(children=(Output(),), layout=Layout(height='500px', over…"
      ]
     },
     "metadata": {},
     "output_type": "display_data"
    },
    {
     "ename": "KeyboardInterrupt",
     "evalue": "",
     "output_type": "error",
     "traceback": [
      "\u001b[0;31m---------------------------------------------------------------------------\u001b[0m",
      "\u001b[0;31mKeyboardInterrupt\u001b[0m                         Traceback (most recent call last)",
      "\u001b[0;32m/tmp/slurmtmp.5826414/ipykernel_130000/801679965.py\u001b[0m in \u001b[0;36m<module>\u001b[0;34m\u001b[0m\n\u001b[1;32m    127\u001b[0m     \u001b[0;32mfor\u001b[0m \u001b[0m_\u001b[0m \u001b[0;32min\u001b[0m \u001b[0mrange\u001b[0m\u001b[0;34m(\u001b[0m\u001b[0mconfig\u001b[0m\u001b[0;34m.\u001b[0m\u001b[0mdiscriminator\u001b[0m\u001b[0;34m.\u001b[0m\u001b[0mrepeat\u001b[0m\u001b[0;34m)\u001b[0m\u001b[0;34m:\u001b[0m\u001b[0;34m\u001b[0m\u001b[0;34m\u001b[0m\u001b[0m\n\u001b[1;32m    128\u001b[0m         \u001b[0;32mfor\u001b[0m \u001b[0mbatch\u001b[0m \u001b[0;32min\u001b[0m \u001b[0mtrain_loader\u001b[0m\u001b[0;34m:\u001b[0m\u001b[0;34m\u001b[0m\u001b[0;34m\u001b[0m\u001b[0m\n\u001b[0;32m--> 129\u001b[0;31m             \u001b[0mtrain_dis\u001b[0m\u001b[0;34m(\u001b[0m\u001b[0mbatch\u001b[0m\u001b[0;34m,\u001b[0m \u001b[0mepoch\u001b[0m\u001b[0;34m)\u001b[0m\u001b[0;34m\u001b[0m\u001b[0;34m\u001b[0m\u001b[0m\n\u001b[0m\u001b[1;32m    130\u001b[0m             \u001b[0;32mif\u001b[0m \u001b[0mconfig\u001b[0m\u001b[0;34m.\u001b[0m\u001b[0malternate\u001b[0m \u001b[0;34m==\u001b[0m \u001b[0;34m'iteration'\u001b[0m\u001b[0;34m:\u001b[0m\u001b[0;34m\u001b[0m\u001b[0;34m\u001b[0m\u001b[0m\n\u001b[1;32m    131\u001b[0m                 \u001b[0mtrain_gen\u001b[0m\u001b[0;34m(\u001b[0m\u001b[0mbatch\u001b[0m\u001b[0;34m,\u001b[0m \u001b[0mepoch\u001b[0m\u001b[0;34m)\u001b[0m\u001b[0;34m\u001b[0m\u001b[0;34m\u001b[0m\u001b[0m\n",
      "\u001b[0;32m/tmp/slurmtmp.5826414/ipykernel_130000/801679965.py\u001b[0m in \u001b[0;36mtrain_dis\u001b[0;34m(batch, epoch)\u001b[0m\n\u001b[1;32m      2\u001b[0m     \u001b[0mgenerator\u001b[0m\u001b[0;34m.\u001b[0m\u001b[0mrequires_grad_\u001b[0m\u001b[0;34m(\u001b[0m\u001b[0;32mFalse\u001b[0m\u001b[0;34m)\u001b[0m\u001b[0;34m\u001b[0m\u001b[0;34m\u001b[0m\u001b[0m\n\u001b[1;32m      3\u001b[0m     \u001b[0mdiscriminator\u001b[0m\u001b[0;34m.\u001b[0m\u001b[0mzero_grad\u001b[0m\u001b[0;34m(\u001b[0m\u001b[0;34m)\u001b[0m\u001b[0;34m\u001b[0m\u001b[0;34m\u001b[0m\u001b[0m\n\u001b[0;32m----> 4\u001b[0;31m     \u001b[0mgenerator_output\u001b[0m \u001b[0;34m=\u001b[0m \u001b[0mgenerator\u001b[0m\u001b[0;34m(\u001b[0m\u001b[0mbatch\u001b[0m\u001b[0;34m)\u001b[0m\u001b[0;34m\u001b[0m\u001b[0;34m\u001b[0m\u001b[0m\n\u001b[0m\u001b[1;32m      5\u001b[0m     \u001b[0;32mif\u001b[0m \u001b[0mconfig\u001b[0m\u001b[0;34m.\u001b[0m\u001b[0mdiscriminator\u001b[0m\u001b[0;34m.\u001b[0m\u001b[0mnoise\u001b[0m\u001b[0;34m.\u001b[0m\u001b[0mstd\u001b[0m \u001b[0;34m>\u001b[0m \u001b[0;36m0\u001b[0m\u001b[0;34m:\u001b[0m\u001b[0;34m\u001b[0m\u001b[0;34m\u001b[0m\u001b[0m\n\u001b[1;32m      6\u001b[0m         \u001b[0mgenerator_output\u001b[0m \u001b[0;34m=\u001b[0m \u001b[0mgenerator_output\u001b[0m \u001b[0;34m+\u001b[0m \u001b[0mtorch\u001b[0m\u001b[0;34m.\u001b[0m\u001b[0mrandn_like\u001b[0m\u001b[0;34m(\u001b[0m\u001b[0mgenerator_output\u001b[0m\u001b[0;34m)\u001b[0m \u001b[0;34m*\u001b[0m \u001b[0mconfig\u001b[0m\u001b[0;34m.\u001b[0m\u001b[0mdiscriminator\u001b[0m\u001b[0;34m.\u001b[0m\u001b[0mnoise\u001b[0m\u001b[0;34m.\u001b[0m\u001b[0mstd\u001b[0m \u001b[0;34m*\u001b[0m \u001b[0mconfig\u001b[0m\u001b[0;34m.\u001b[0m\u001b[0mdiscriminator\u001b[0m\u001b[0;34m.\u001b[0m\u001b[0mnoise\u001b[0m\u001b[0;34m.\u001b[0m\u001b[0mdecay\u001b[0m \u001b[0;34m**\u001b[0m \u001b[0mepoch\u001b[0m\u001b[0;34m\u001b[0m\u001b[0;34m\u001b[0m\u001b[0m\n",
      "\u001b[0;32m~/.conda/envs/deepgd/lib/python3.9/site-packages/torch/nn/modules/module.py\u001b[0m in \u001b[0;36m_call_impl\u001b[0;34m(self, *input, **kwargs)\u001b[0m\n\u001b[1;32m   1049\u001b[0m         if not (self._backward_hooks or self._forward_hooks or self._forward_pre_hooks or _global_backward_hooks\n\u001b[1;32m   1050\u001b[0m                 or _global_forward_hooks or _global_forward_pre_hooks):\n\u001b[0;32m-> 1051\u001b[0;31m             \u001b[0;32mreturn\u001b[0m \u001b[0mforward_call\u001b[0m\u001b[0;34m(\u001b[0m\u001b[0;34m*\u001b[0m\u001b[0minput\u001b[0m\u001b[0;34m,\u001b[0m \u001b[0;34m**\u001b[0m\u001b[0mkwargs\u001b[0m\u001b[0;34m)\u001b[0m\u001b[0;34m\u001b[0m\u001b[0;34m\u001b[0m\u001b[0m\n\u001b[0m\u001b[1;32m   1052\u001b[0m         \u001b[0;31m# Do not call functions when jit is used\u001b[0m\u001b[0;34m\u001b[0m\u001b[0;34m\u001b[0m\u001b[0m\n\u001b[1;32m   1053\u001b[0m         \u001b[0mfull_backward_hooks\u001b[0m\u001b[0;34m,\u001b[0m \u001b[0mnon_full_backward_hooks\u001b[0m \u001b[0;34m=\u001b[0m \u001b[0;34m[\u001b[0m\u001b[0;34m]\u001b[0m\u001b[0;34m,\u001b[0m \u001b[0;34m[\u001b[0m\u001b[0;34m]\u001b[0m\u001b[0;34m\u001b[0m\u001b[0;34m\u001b[0m\u001b[0m\n",
      "\u001b[0;32m~/deepgd/deepgd/modules.py\u001b[0m in \u001b[0;36mforward\u001b[0;34m(self, data, weights, output_hidden, numpy)\u001b[0m\n\u001b[1;32m    625\u001b[0m                            \u001b[0mself\u001b[0m\u001b[0;34m.\u001b[0m\u001b[0mhid_blocks\u001b[0m\u001b[0;34m,\u001b[0m\u001b[0;34m\u001b[0m\u001b[0;34m\u001b[0m\u001b[0m\n\u001b[1;32m    626\u001b[0m                            self.out_blocks):\n\u001b[0;32m--> 627\u001b[0;31m             \u001b[0mv\u001b[0m \u001b[0;34m=\u001b[0m \u001b[0mblock\u001b[0m\u001b[0;34m(\u001b[0m\u001b[0mv\u001b[0m\u001b[0;34m,\u001b[0m \u001b[0mdata\u001b[0m\u001b[0;34m,\u001b[0m \u001b[0mweights\u001b[0m\u001b[0;34m)\u001b[0m\u001b[0;34m\u001b[0m\u001b[0;34m\u001b[0m\u001b[0m\n\u001b[0m\u001b[1;32m    628\u001b[0m             \u001b[0;32mif\u001b[0m \u001b[0moutput_hidden\u001b[0m\u001b[0;34m:\u001b[0m\u001b[0;34m\u001b[0m\u001b[0;34m\u001b[0m\u001b[0m\n\u001b[1;32m    629\u001b[0m                 \u001b[0mhidden\u001b[0m\u001b[0;34m.\u001b[0m\u001b[0mappend\u001b[0m\u001b[0;34m(\u001b[0m\u001b[0mv\u001b[0m\u001b[0;34m.\u001b[0m\u001b[0mdetach\u001b[0m\u001b[0;34m(\u001b[0m\u001b[0;34m)\u001b[0m\u001b[0;34m.\u001b[0m\u001b[0mcpu\u001b[0m\u001b[0;34m(\u001b[0m\u001b[0;34m)\u001b[0m\u001b[0;34m.\u001b[0m\u001b[0mnumpy\u001b[0m\u001b[0;34m(\u001b[0m\u001b[0;34m)\u001b[0m \u001b[0;32mif\u001b[0m \u001b[0mnumpy\u001b[0m \u001b[0;32melse\u001b[0m \u001b[0mv\u001b[0m\u001b[0;34m)\u001b[0m\u001b[0;34m\u001b[0m\u001b[0;34m\u001b[0m\u001b[0m\n",
      "\u001b[0;32m~/.conda/envs/deepgd/lib/python3.9/site-packages/torch/nn/modules/module.py\u001b[0m in \u001b[0;36m_call_impl\u001b[0;34m(self, *input, **kwargs)\u001b[0m\n\u001b[1;32m   1049\u001b[0m         if not (self._backward_hooks or self._forward_hooks or self._forward_pre_hooks or _global_backward_hooks\n\u001b[1;32m   1050\u001b[0m                 or _global_forward_hooks or _global_forward_pre_hooks):\n\u001b[0;32m-> 1051\u001b[0;31m             \u001b[0;32mreturn\u001b[0m \u001b[0mforward_call\u001b[0m\u001b[0;34m(\u001b[0m\u001b[0;34m*\u001b[0m\u001b[0minput\u001b[0m\u001b[0;34m,\u001b[0m \u001b[0;34m**\u001b[0m\u001b[0mkwargs\u001b[0m\u001b[0;34m)\u001b[0m\u001b[0;34m\u001b[0m\u001b[0;34m\u001b[0m\u001b[0m\n\u001b[0m\u001b[1;32m   1052\u001b[0m         \u001b[0;31m# Do not call functions when jit is used\u001b[0m\u001b[0;34m\u001b[0m\u001b[0;34m\u001b[0m\u001b[0m\n\u001b[1;32m   1053\u001b[0m         \u001b[0mfull_backward_hooks\u001b[0m\u001b[0;34m,\u001b[0m \u001b[0mnon_full_backward_hooks\u001b[0m \u001b[0;34m=\u001b[0m \u001b[0;34m[\u001b[0m\u001b[0;34m]\u001b[0m\u001b[0;34m,\u001b[0m \u001b[0;34m[\u001b[0m\u001b[0;34m]\u001b[0m\u001b[0;34m\u001b[0m\u001b[0;34m\u001b[0m\u001b[0m\n",
      "\u001b[0;32m~/deepgd/deepgd/modules.py\u001b[0m in \u001b[0;36mforward\u001b[0;34m(self, v, data, weights)\u001b[0m\n\u001b[1;32m    423\u001b[0m                          \u001b[0mdirection\u001b[0m\u001b[0;34m=\u001b[0m\u001b[0mself\u001b[0m\u001b[0;34m.\u001b[0m\u001b[0mdirection\u001b[0m \u001b[0;32mand\u001b[0m \u001b[0mget_extra\u001b[0m\u001b[0;34m,\u001b[0m\u001b[0;34m\u001b[0m\u001b[0;34m\u001b[0m\u001b[0m\n\u001b[1;32m    424\u001b[0m                          weights=weights if get_extra and self.n_weights > 0 else None)\n\u001b[0;32m--> 425\u001b[0;31m             \u001b[0mv\u001b[0m \u001b[0;34m=\u001b[0m \u001b[0mself\u001b[0m\u001b[0;34m.\u001b[0m\u001b[0mgnn\u001b[0m\u001b[0;34m[\u001b[0m\u001b[0mlayer\u001b[0m\u001b[0;34m]\u001b[0m\u001b[0;34m(\u001b[0m\u001b[0mv\u001b[0m\u001b[0;34m,\u001b[0m \u001b[0me\u001b[0m\u001b[0;34m,\u001b[0m \u001b[0mdata\u001b[0m\u001b[0;34m)\u001b[0m\u001b[0;34m\u001b[0m\u001b[0;34m\u001b[0m\u001b[0m\n\u001b[0m\u001b[1;32m    426\u001b[0m         \u001b[0;32mreturn\u001b[0m \u001b[0mv\u001b[0m \u001b[0;34m+\u001b[0m \u001b[0mvres\u001b[0m \u001b[0;32mif\u001b[0m \u001b[0mself\u001b[0m\u001b[0;34m.\u001b[0m\u001b[0mresidual\u001b[0m \u001b[0;32melse\u001b[0m \u001b[0mv\u001b[0m\u001b[0;34m\u001b[0m\u001b[0;34m\u001b[0m\u001b[0m\n\u001b[1;32m    427\u001b[0m \u001b[0;34m\u001b[0m\u001b[0m\n",
      "\u001b[0;32m~/.conda/envs/deepgd/lib/python3.9/site-packages/torch/nn/modules/module.py\u001b[0m in \u001b[0;36m_call_impl\u001b[0;34m(self, *input, **kwargs)\u001b[0m\n\u001b[1;32m   1049\u001b[0m         if not (self._backward_hooks or self._forward_hooks or self._forward_pre_hooks or _global_backward_hooks\n\u001b[1;32m   1050\u001b[0m                 or _global_forward_hooks or _global_forward_pre_hooks):\n\u001b[0;32m-> 1051\u001b[0;31m             \u001b[0;32mreturn\u001b[0m \u001b[0mforward_call\u001b[0m\u001b[0;34m(\u001b[0m\u001b[0;34m*\u001b[0m\u001b[0minput\u001b[0m\u001b[0;34m,\u001b[0m \u001b[0;34m**\u001b[0m\u001b[0mkwargs\u001b[0m\u001b[0;34m)\u001b[0m\u001b[0;34m\u001b[0m\u001b[0;34m\u001b[0m\u001b[0m\n\u001b[0m\u001b[1;32m   1052\u001b[0m         \u001b[0;31m# Do not call functions when jit is used\u001b[0m\u001b[0;34m\u001b[0m\u001b[0;34m\u001b[0m\u001b[0m\n\u001b[1;32m   1053\u001b[0m         \u001b[0mfull_backward_hooks\u001b[0m\u001b[0;34m,\u001b[0m \u001b[0mnon_full_backward_hooks\u001b[0m \u001b[0;34m=\u001b[0m \u001b[0;34m[\u001b[0m\u001b[0;34m]\u001b[0m\u001b[0;34m,\u001b[0m \u001b[0;34m[\u001b[0m\u001b[0;34m]\u001b[0m\u001b[0;34m\u001b[0m\u001b[0;34m\u001b[0m\u001b[0m\n",
      "\u001b[0;32m~/deepgd/deepgd/modules.py\u001b[0m in \u001b[0;36mforward\u001b[0;34m(self, v, e, data)\u001b[0m\n\u001b[1;32m    228\u001b[0m     \u001b[0;32mdef\u001b[0m \u001b[0mforward\u001b[0m\u001b[0;34m(\u001b[0m\u001b[0mself\u001b[0m\u001b[0;34m,\u001b[0m \u001b[0mv\u001b[0m\u001b[0;34m,\u001b[0m \u001b[0me\u001b[0m\u001b[0;34m,\u001b[0m \u001b[0mdata\u001b[0m\u001b[0;34m)\u001b[0m\u001b[0;34m:\u001b[0m\u001b[0;34m\u001b[0m\u001b[0;34m\u001b[0m\u001b[0m\n\u001b[1;32m    229\u001b[0m         \u001b[0mv_\u001b[0m \u001b[0;34m=\u001b[0m \u001b[0mv\u001b[0m\u001b[0;34m\u001b[0m\u001b[0;34m\u001b[0m\u001b[0m\n\u001b[0;32m--> 230\u001b[0;31m         \u001b[0mv\u001b[0m \u001b[0;34m=\u001b[0m \u001b[0mself\u001b[0m\u001b[0;34m.\u001b[0m\u001b[0mconv\u001b[0m\u001b[0;34m(\u001b[0m\u001b[0mv\u001b[0m\u001b[0;34m,\u001b[0m \u001b[0mdata\u001b[0m\u001b[0;34m.\u001b[0m\u001b[0medge_index\u001b[0m\u001b[0;34m,\u001b[0m \u001b[0me\u001b[0m\u001b[0;34m)\u001b[0m\u001b[0;34m\u001b[0m\u001b[0;34m\u001b[0m\u001b[0m\n\u001b[0m\u001b[1;32m    231\u001b[0m         \u001b[0mv\u001b[0m \u001b[0;34m=\u001b[0m \u001b[0mself\u001b[0m\u001b[0;34m.\u001b[0m\u001b[0mdense\u001b[0m\u001b[0;34m(\u001b[0m\u001b[0mv\u001b[0m\u001b[0;34m)\u001b[0m\u001b[0;34m\u001b[0m\u001b[0;34m\u001b[0m\u001b[0m\n\u001b[1;32m    232\u001b[0m         \u001b[0mv\u001b[0m \u001b[0;34m=\u001b[0m \u001b[0mself\u001b[0m\u001b[0;34m.\u001b[0m\u001b[0mbn\u001b[0m\u001b[0;34m(\u001b[0m\u001b[0mv\u001b[0m\u001b[0;34m)\u001b[0m\u001b[0;34m\u001b[0m\u001b[0;34m\u001b[0m\u001b[0m\n",
      "\u001b[0;32m~/.conda/envs/deepgd/lib/python3.9/site-packages/torch/nn/modules/module.py\u001b[0m in \u001b[0;36m_call_impl\u001b[0;34m(self, *input, **kwargs)\u001b[0m\n\u001b[1;32m   1049\u001b[0m         if not (self._backward_hooks or self._forward_hooks or self._forward_pre_hooks or _global_backward_hooks\n\u001b[1;32m   1050\u001b[0m                 or _global_forward_hooks or _global_forward_pre_hooks):\n\u001b[0;32m-> 1051\u001b[0;31m             \u001b[0;32mreturn\u001b[0m \u001b[0mforward_call\u001b[0m\u001b[0;34m(\u001b[0m\u001b[0;34m*\u001b[0m\u001b[0minput\u001b[0m\u001b[0;34m,\u001b[0m \u001b[0;34m**\u001b[0m\u001b[0mkwargs\u001b[0m\u001b[0;34m)\u001b[0m\u001b[0;34m\u001b[0m\u001b[0;34m\u001b[0m\u001b[0m\n\u001b[0m\u001b[1;32m   1052\u001b[0m         \u001b[0;31m# Do not call functions when jit is used\u001b[0m\u001b[0;34m\u001b[0m\u001b[0;34m\u001b[0m\u001b[0m\n\u001b[1;32m   1053\u001b[0m         \u001b[0mfull_backward_hooks\u001b[0m\u001b[0;34m,\u001b[0m \u001b[0mnon_full_backward_hooks\u001b[0m \u001b[0;34m=\u001b[0m \u001b[0;34m[\u001b[0m\u001b[0;34m]\u001b[0m\u001b[0;34m,\u001b[0m \u001b[0;34m[\u001b[0m\u001b[0;34m]\u001b[0m\u001b[0;34m\u001b[0m\u001b[0;34m\u001b[0m\u001b[0m\n",
      "\u001b[0;32m~/.conda/envs/deepgd/lib/python3.9/site-packages/torch_geometric/nn/conv/nn_conv.py\u001b[0m in \u001b[0;36mforward\u001b[0;34m(self, x, edge_index, edge_attr, size)\u001b[0m\n\u001b[1;32m     88\u001b[0m \u001b[0;34m\u001b[0m\u001b[0m\n\u001b[1;32m     89\u001b[0m         \u001b[0;31m# propagate_type: (x: OptPairTensor, edge_attr: OptTensor)\u001b[0m\u001b[0;34m\u001b[0m\u001b[0;34m\u001b[0m\u001b[0m\n\u001b[0;32m---> 90\u001b[0;31m         \u001b[0mout\u001b[0m \u001b[0;34m=\u001b[0m \u001b[0mself\u001b[0m\u001b[0;34m.\u001b[0m\u001b[0mpropagate\u001b[0m\u001b[0;34m(\u001b[0m\u001b[0medge_index\u001b[0m\u001b[0;34m,\u001b[0m \u001b[0mx\u001b[0m\u001b[0;34m=\u001b[0m\u001b[0mx\u001b[0m\u001b[0;34m,\u001b[0m \u001b[0medge_attr\u001b[0m\u001b[0;34m=\u001b[0m\u001b[0medge_attr\u001b[0m\u001b[0;34m,\u001b[0m \u001b[0msize\u001b[0m\u001b[0;34m=\u001b[0m\u001b[0msize\u001b[0m\u001b[0;34m)\u001b[0m\u001b[0;34m\u001b[0m\u001b[0;34m\u001b[0m\u001b[0m\n\u001b[0m\u001b[1;32m     91\u001b[0m \u001b[0;34m\u001b[0m\u001b[0m\n\u001b[1;32m     92\u001b[0m         \u001b[0mx_r\u001b[0m \u001b[0;34m=\u001b[0m \u001b[0mx\u001b[0m\u001b[0;34m[\u001b[0m\u001b[0;36m1\u001b[0m\u001b[0;34m]\u001b[0m\u001b[0;34m\u001b[0m\u001b[0;34m\u001b[0m\u001b[0m\n",
      "\u001b[0;32m~/.conda/envs/deepgd/lib/python3.9/site-packages/torch_geometric/nn/conv/message_passing.py\u001b[0m in \u001b[0;36mpropagate\u001b[0;34m(self, edge_index, size, **kwargs)\u001b[0m\n\u001b[1;32m    259\u001b[0m         \u001b[0;31m# Otherwise, run both functions in separation.\u001b[0m\u001b[0;34m\u001b[0m\u001b[0;34m\u001b[0m\u001b[0m\n\u001b[1;32m    260\u001b[0m         \u001b[0;32melif\u001b[0m \u001b[0misinstance\u001b[0m\u001b[0;34m(\u001b[0m\u001b[0medge_index\u001b[0m\u001b[0;34m,\u001b[0m \u001b[0mTensor\u001b[0m\u001b[0;34m)\u001b[0m \u001b[0;32mor\u001b[0m \u001b[0;32mnot\u001b[0m \u001b[0mself\u001b[0m\u001b[0;34m.\u001b[0m\u001b[0mfuse\u001b[0m\u001b[0;34m:\u001b[0m\u001b[0;34m\u001b[0m\u001b[0;34m\u001b[0m\u001b[0m\n\u001b[0;32m--> 261\u001b[0;31m             coll_dict = self.__collect__(self.__user_args__, edge_index, size,\n\u001b[0m\u001b[1;32m    262\u001b[0m                                          kwargs)\n\u001b[1;32m    263\u001b[0m \u001b[0;34m\u001b[0m\u001b[0m\n",
      "\u001b[0;32m~/.conda/envs/deepgd/lib/python3.9/site-packages/torch_geometric/nn/conv/message_passing.py\u001b[0m in \u001b[0;36m__collect__\u001b[0;34m(self, args, edge_index, size, kwargs)\u001b[0m\n\u001b[1;32m    164\u001b[0m                     \u001b[0;32massert\u001b[0m \u001b[0mlen\u001b[0m\u001b[0;34m(\u001b[0m\u001b[0mdata\u001b[0m\u001b[0;34m)\u001b[0m \u001b[0;34m==\u001b[0m \u001b[0;36m2\u001b[0m\u001b[0;34m\u001b[0m\u001b[0;34m\u001b[0m\u001b[0m\n\u001b[1;32m    165\u001b[0m                     \u001b[0;32mif\u001b[0m \u001b[0misinstance\u001b[0m\u001b[0;34m(\u001b[0m\u001b[0mdata\u001b[0m\u001b[0;34m[\u001b[0m\u001b[0;36m1\u001b[0m \u001b[0;34m-\u001b[0m \u001b[0mdim\u001b[0m\u001b[0;34m]\u001b[0m\u001b[0;34m,\u001b[0m \u001b[0mTensor\u001b[0m\u001b[0;34m)\u001b[0m\u001b[0;34m:\u001b[0m\u001b[0;34m\u001b[0m\u001b[0;34m\u001b[0m\u001b[0m\n\u001b[0;32m--> 166\u001b[0;31m                         \u001b[0mself\u001b[0m\u001b[0;34m.\u001b[0m\u001b[0m__set_size__\u001b[0m\u001b[0;34m(\u001b[0m\u001b[0msize\u001b[0m\u001b[0;34m,\u001b[0m \u001b[0;36m1\u001b[0m \u001b[0;34m-\u001b[0m \u001b[0mdim\u001b[0m\u001b[0;34m,\u001b[0m \u001b[0mdata\u001b[0m\u001b[0;34m[\u001b[0m\u001b[0;36m1\u001b[0m \u001b[0;34m-\u001b[0m \u001b[0mdim\u001b[0m\u001b[0;34m]\u001b[0m\u001b[0;34m)\u001b[0m\u001b[0;34m\u001b[0m\u001b[0;34m\u001b[0m\u001b[0m\n\u001b[0m\u001b[1;32m    167\u001b[0m                     \u001b[0mdata\u001b[0m \u001b[0;34m=\u001b[0m \u001b[0mdata\u001b[0m\u001b[0;34m[\u001b[0m\u001b[0mdim\u001b[0m\u001b[0;34m]\u001b[0m\u001b[0;34m\u001b[0m\u001b[0;34m\u001b[0m\u001b[0m\n\u001b[1;32m    168\u001b[0m \u001b[0;34m\u001b[0m\u001b[0m\n",
      "\u001b[0;32m~/.conda/envs/deepgd/lib/python3.9/site-packages/torch_geometric/nn/conv/message_passing.py\u001b[0m in \u001b[0;36m__set_size__\u001b[0;34m(self, size, dim, src)\u001b[0m\n\u001b[1;32m    130\u001b[0m         \u001b[0mthe_size\u001b[0m \u001b[0;34m=\u001b[0m \u001b[0msize\u001b[0m\u001b[0;34m[\u001b[0m\u001b[0mdim\u001b[0m\u001b[0;34m]\u001b[0m\u001b[0;34m\u001b[0m\u001b[0;34m\u001b[0m\u001b[0m\n\u001b[1;32m    131\u001b[0m         \u001b[0;32mif\u001b[0m \u001b[0mthe_size\u001b[0m \u001b[0;32mis\u001b[0m \u001b[0;32mNone\u001b[0m\u001b[0;34m:\u001b[0m\u001b[0;34m\u001b[0m\u001b[0;34m\u001b[0m\u001b[0m\n\u001b[0;32m--> 132\u001b[0;31m             \u001b[0msize\u001b[0m\u001b[0;34m[\u001b[0m\u001b[0mdim\u001b[0m\u001b[0;34m]\u001b[0m \u001b[0;34m=\u001b[0m \u001b[0msrc\u001b[0m\u001b[0;34m.\u001b[0m\u001b[0msize\u001b[0m\u001b[0;34m(\u001b[0m\u001b[0mself\u001b[0m\u001b[0;34m.\u001b[0m\u001b[0mnode_dim\u001b[0m\u001b[0;34m)\u001b[0m\u001b[0;34m\u001b[0m\u001b[0;34m\u001b[0m\u001b[0m\n\u001b[0m\u001b[1;32m    133\u001b[0m         \u001b[0;32melif\u001b[0m \u001b[0mthe_size\u001b[0m \u001b[0;34m!=\u001b[0m \u001b[0msrc\u001b[0m\u001b[0;34m.\u001b[0m\u001b[0msize\u001b[0m\u001b[0;34m(\u001b[0m\u001b[0mself\u001b[0m\u001b[0;34m.\u001b[0m\u001b[0mnode_dim\u001b[0m\u001b[0;34m)\u001b[0m\u001b[0;34m:\u001b[0m\u001b[0;34m\u001b[0m\u001b[0;34m\u001b[0m\u001b[0m\n\u001b[1;32m    134\u001b[0m             raise ValueError(\n",
      "\u001b[0;31mKeyboardInterrupt\u001b[0m: "
     ]
    }
   ],
   "source": [
    "def train_dis(batch, epoch):\n",
    "    generator.requires_grad_(False)\n",
    "    discriminator.zero_grad()\n",
    "    generator_output = generator(batch)\n",
    "    if config.discriminator.noise.std > 0:\n",
    "        generator_output = generator_output + torch.randn_like(generator_output) * config.discriminator.noise.std * config.discriminator.noise.decay ** epoch\n",
    "    discriminator_loss = get_gan_loss(batch, generator_output, mode='discriminator')\n",
    "    \n",
    "    # train discriminator\n",
    "    discriminator_loss.backward()\n",
    "    discriminator_optimizer.step()\n",
    "\n",
    "    # gradient penalty\n",
    "    if config.gp_weight > 0:\n",
    "        discriminator.zero_grad()\n",
    "        gp_loss = get_gp_loss(batch, generator_output, config.gp_weight)\n",
    "        gp_loss.backward()\n",
    "        discriminator_optimizer.step()\n",
    "\n",
    "    hud['dis_loss'] = format(discriminator_loss.item(), '.2e')\n",
    "    pbar().update()\n",
    "\n",
    "def train_gen(batch, epoch):\n",
    "    generator.requires_grad_(True)\n",
    "    generator.zero_grad()\n",
    "    discriminator.zero_grad()\n",
    "    generator_output = generator(batch)\n",
    "    if config.discriminator.noise.std > 0:\n",
    "        generator_output = generator_output + torch.randn_like(generator_output) * config.discriminator.noise.std * config.discriminator.noise.decay ** epoch\n",
    "    generator_loss = get_gan_loss(batch, generator_output, mode='generator') \n",
    "    \n",
    "    #train generator\n",
    "    generator_loss.backward()\n",
    "    generator_optimizer.step()\n",
    "\n",
    "    with torch.no_grad():\n",
    "        dis_batch = dis_convert(batch, generator_output)\n",
    "        stress = stress_criterion(dis_batch).mean()\n",
    "        critic = discriminator(dis_batch).mean()\n",
    "    hud.append({'gen_loss': format(generator_loss.item(), '.2e'),\n",
    "                'stress': format(stress.item(), '.2e'),\n",
    "                'critic': format(critic.item(), '.2e')})\n",
    "    pbar().update()\n",
    "\n",
    "def cuda_memsafe_map(fn, *iterables, summary=False):\n",
    "    total, failed = 0, 0\n",
    "    iterator = zip(*iterables)\n",
    "    items = None\n",
    "    while True:\n",
    "        try:\n",
    "            items = next(iterator)\n",
    "            yield fn(*items)\n",
    "        except StopIteration:\n",
    "            if summary:\n",
    "                print(f'Iteration finished. {failed} out of {total} failed!')\n",
    "            break\n",
    "        except RuntimeError:\n",
    "            print('CUDA memory overflow! Skip batch...')\n",
    "            del items\n",
    "            failed += 1\n",
    "        torch.cuda.empty_cache()\n",
    "        total += 1\n",
    "    \n",
    "def validate(model, data_loader, criterion=val_criterion):\n",
    "    def val_one_batch(batch):\n",
    "        batch = preprocess_batch(model, batch)\n",
    "        pred = CanonicalizationByStress()(model(batch), batch)\n",
    "        gt = CanonicalizationByStress()(batch.gt_pos, batch)\n",
    "        loss = criterion(pred, batch)\n",
    "        gt_loss = criterion(gt, batch)\n",
    "        spc = (loss - gt_loss) / torch.maximum(torch.maximum(loss, gt_loss), torch.ones_like(loss)*1e-5)\n",
    "        return loss.mean().item(), spc.mean().item()\n",
    "    loss_all, spc_all = zip(*cuda_memsafe_map(val_one_batch, data_loader))\n",
    "    return np.mean(loss_all), np.mean(spc_all)\n",
    "\n",
    "def log(msg):\n",
    "    msg = f\"[{epoch:03}] {msg}\"\n",
    "    print(msg, file=open(paths.log(), \"a\"))\n",
    "    with log_out: \n",
    "        print(msg)\n",
    "\n",
    "print(f\"{'='*10} {config.link} {'='*10}\", file=open(paths.log(), \"a\"))\n",
    "hud = Hud()\n",
    "pbar = Wrapper(tqdm, total=len(train_loader)*2, smoothing=0)\n",
    "plot_out = Output()\n",
    "log_out = Output()\n",
    "tabs = {\"status\": VBox([pbar, hud]), \n",
    "        \"plot\": HBox([plot_out], layout=Layout(height='500px', overflow_y='auto')),\n",
    "        \"log\": HBox([log_out], layout=Layout(height='500px', overflow_y='auto'))}\n",
    "tab_bar = Tab(children=list(tabs.values()))\n",
    "[tab_bar.set_title(i, name) for i, name in enumerate(tabs)]\n",
    "display(tab_bar)\n",
    "while True:\n",
    "    if epoch % config.log_interval == 0:\n",
    "        torch.save(generator.state_dict(), f\"{paths.checkpoints()}/gen_epoch_{epoch}.pt\")\n",
    "        torch.save(generator_optimizer.state_dict(), f\"{paths.checkpoints()}/gen_optim_epoch_{epoch}.pt\")\n",
    "        torch.save(discriminator.state_dict(), f\"{paths.checkpoints()}/dis_epoch_{epoch}.pt\")\n",
    "        torch.save(discriminator_optimizer.state_dict(), f\"{paths.checkpoints()}/dis_optim_epoch_{epoch}.pt\")\n",
    "        generator.eval()\n",
    "        with torch.no_grad():\n",
    "            val_stress, val_stress_spc = validate(model=generator, data_loader=val_loader)\n",
    "            val_xing, val_xing_spc = validate(model=generator, data_loader=val_loader, criterion=xing_criterion)\n",
    "            with plot_out:\n",
    "                fig = plt.figure()\n",
    "                graph_vis(G_list[11100], generator(make_batch(data_list[11100]).to(device)).cpu())\n",
    "                plt.show()\n",
    "        # tensorboard.add_scalars('loss', {'train': train_loss, \n",
    "        #                                  'validation': val_loss}, epoch)\n",
    "        # for i, fn in enumerate(loss_fns):\n",
    "        #     tensorboard.add_scalars(type(fn).__name__, {'train': train_loss_comp[i].item(), \n",
    "        #                                           'validation': val_loss_comp[i].item()}, epoch)\n",
    "        hud.append({\n",
    "            'val_stress': format(val_stress, '.2f'),\n",
    "            'val_stress_spc': format(val_stress_spc, '.2%'),\n",
    "            'val_xing': format(val_xing, '.2f'),\n",
    "            'val_xing_spc': format(val_xing_spc, '.2%'),\n",
    "        })\n",
    "        log(f\"stress={hud.data['val_stress']}({hud.data['val_stress_spc']}) xing={hud.data['val_xing']}({hud.data['val_xing_spc']})\")\n",
    "        \n",
    "    # handle.update(tab_bar)\n",
    "    pbar().reset()\n",
    "    pbar().set_description(desc=f\"[epoch {epoch}/{config.epoch.end}]\")\n",
    "    hud(title=f\"epoch {epoch}\")\n",
    "    generator.train()\n",
    "    discriminator.train()\n",
    "    # proper: proper layout\n",
    "    for _ in range(config.discriminator.repeat):\n",
    "        for batch in train_loader:\n",
    "            train_dis(batch, epoch)\n",
    "            if config.alternate == 'iteration':\n",
    "                train_gen(batch, epoch)\n",
    "\n",
    "    if config.alternate == 'epoch':\n",
    "        for batch in train_loader:\n",
    "            train_gen(batch, epoch)\n",
    "\n",
    "    discriminator_scheduler.step()\n",
    "    generator_scheduler.step()\n",
    "\n",
    "    if epoch == config.epoch.end:\n",
    "        break\n",
    "    epoch += 1"
   ]
  },
  {
   "cell_type": "markdown",
   "metadata": {
    "id": "0qYK_X_hrq9o"
   },
   "source": [
    "# Test"
   ]
  },
  {
   "cell_type": "code",
   "execution_count": 33,
   "metadata": {
    "colab": {
     "base_uri": "https://localhost:8080/"
    },
    "id": "XEvmAtNjWhcY",
    "outputId": "9f4c86a4-a4b0-48f1-cb58-ab3679173184"
   },
   "outputs": [
    {
     "name": "stdout",
     "output_type": "stream",
     "text": [
      "Loading from artifacts/checkpoints/GAN(gan=ragan,data=best(xing,stress),dis=deep,share=6,embed=10,gp=0)/gen_epoch_1083.pt...\n"
     ]
    },
    {
     "data": {
      "text/plain": [
       "<All keys matched successfully>"
      ]
     },
     "execution_count": 33,
     "metadata": {},
     "output_type": "execute_result"
    }
   ],
   "source": [
    "test_epoch = -1\n",
    "\n",
    "test_generator = Generator(**config.generator.params[...]).to(device)\n",
    "test_ckpt_epoch = get_ckpt_epoch(paths.checkpoints(), test_epoch)\n",
    "test_ckpt_file = f\"{paths.checkpoints()}/gen_epoch_{test_ckpt_epoch}.pt\"\n",
    "print(f\"Loading from {test_ckpt_file}...\")\n",
    "test_generator.load_state_dict(torch.load(test_ckpt_file, map_location=torch.device(device)))"
   ]
  },
  {
   "cell_type": "code",
   "execution_count": 35,
   "metadata": {
    "colab": {
     "background_save": true,
     "base_uri": "https://localhost:8080/",
     "height": 1000,
     "referenced_widgets": [
      "9b7d18992dbf4a84931f916fbaaa37d8",
      "2c664d7e1e6d474fb87094fc0da270d3",
      "d375f5f82a4645d7b29c541596dc1c7f",
      "ecfa311bb06b4f6fa504598263ff69d3",
      "d1859990877149eab2b414b4e2a0e0c7",
      "d2be6733734844bca3e1db9b49eb1c1e",
      "4d98072bdf674792a13d77e85dd285d1",
      "f7ed92c383d741a0a1cef2536ff2db13",
      "2ba110f835c64ec4b82974996aed10af",
      "09397ceac9014af0aebca848d4d96d48",
      "fd0709f48d6c4527bc00b5f407f3c1b9"
     ]
    },
    "id": "ZubmSTcYrq9o",
    "outputId": "fc2f65a2-2085-43ac-b110-cbfe742318a8",
    "scrolled": true,
    "tags": []
   },
   "outputs": [
    {
     "data": {
      "application/vnd.jupyter.widget-view+json": {
       "model_id": "864f7639cda04ee89cd0e941addf03ee",
       "version_major": 2,
       "version_minor": 0
      },
      "text/plain": [
       "  0%|          | 0/1000 [00:00<?, ?it/s]"
      ]
     },
     "metadata": {},
     "output_type": "display_data"
    }
   ],
   "source": [
    "rotate = RotateByPrincipalComponents()\n",
    "def test_callback(*, idx, pred, metrics):\n",
    "    # graph_vis(G_list[idx], pred, file_name=f\"{paths.visualization()}/{idx}_{metrics['stress']:.2f}_{metrics['resolution_score']:.2f}.png\")\n",
    "    pred = rotate(torch.tensor(pred), data_list[idx])\n",
    "    graph_vis(G_list[idx], pred)\n",
    "    plt.title(f\"[pred] idx: {idx}, stress: {metrics['stress']:.2f}({metrics['stress_spc']:.2%}), xing: {metrics['xing']:.2f}({metrics['xing_spc']:.2%})\")\n",
    "    plt.show()\n",
    "    gt_pos = rotate(data_list[idx].gt_pos, data_list[idx])\n",
    "    graph_vis(G_list[idx], gt_pos, node_color='orange')\n",
    "    plt.title(f\"[gt] idx: {idx}, stress: {metrics['gt_stress']:.2f}, xing: {metrics['gt_xing']:.2f}\")\n",
    "    plt.show()\n",
    "    \n",
    "test_metrics = test(model=test_generator, \n",
    "                    criteria_list=[], \n",
    "                    dataset=data_list, \n",
    "                    idx_range=range(10000, 11000), \n",
    "#                     callback=test_callback,\n",
    "                    gt_pos=None)\n",
    "pickle.dump(test_metrics, open(paths.metrics(\"test\"), \"wb\"))"
   ]
  },
  {
   "cell_type": "code",
   "execution_count": 36,
   "metadata": {
    "colab": {
     "base_uri": "https://localhost:8080/",
     "height": 318
    },
    "id": "t2rFXIr_PsrJ",
    "outputId": "6a4205b1-4630-4de4-ec72-bdba3d3ea114"
   },
   "outputs": [
    {
     "name": "stdout",
     "output_type": "stream",
     "text": [
      "stress: tensor(378.9248)\n",
      "stress_spc: tensor(0.1415, dtype=torch.float64)\n",
      "xing: tensor(35.1460)\n",
      "xing_spc: tensor(0.2205, dtype=torch.float64)\n",
      "l1_angle: tensor(84.7425)\n",
      "l1_angle_spc: tensor(0.0826, dtype=torch.float64)\n",
      "edge: tensor(0.2269)\n",
      "edge_spc: tensor(0.2851, dtype=torch.float64)\n",
      "ring: tensor(269.0070)\n",
      "ring_spc: tensor(0.0478, dtype=torch.float64)\n",
      "tsne: tensor(0.2189)\n",
      "tsne_spc: tensor(0.1408, dtype=torch.float64)\n",
      "reso_score: tensor(0.5857)\n",
      "min_angle: tensor(4.0573)\n"
     ]
    },
    {
     "data": {
      "text/html": [
       "<style type=\"text/css\">\n",
       "</style>\n",
       "<table id=\"T_01b34_\">\n",
       "  <thead>\n",
       "    <tr>\n",
       "      <th class=\"blank level0\" >&nbsp;</th>\n",
       "      <th class=\"col_heading level0 col0\" >stress</th>\n",
       "      <th class=\"col_heading level0 col1\" >stress_spc</th>\n",
       "      <th class=\"col_heading level0 col2\" >xing</th>\n",
       "      <th class=\"col_heading level0 col3\" >xing_spc</th>\n",
       "      <th class=\"col_heading level0 col4\" >l1_angle</th>\n",
       "      <th class=\"col_heading level0 col5\" >l1_angle_spc</th>\n",
       "      <th class=\"col_heading level0 col6\" >edge</th>\n",
       "      <th class=\"col_heading level0 col7\" >edge_spc</th>\n",
       "      <th class=\"col_heading level0 col8\" >ring</th>\n",
       "      <th class=\"col_heading level0 col9\" >ring_spc</th>\n",
       "      <th class=\"col_heading level0 col10\" >tsne</th>\n",
       "      <th class=\"col_heading level0 col11\" >tsne_spc</th>\n",
       "      <th class=\"col_heading level0 col12\" >reso_score</th>\n",
       "      <th class=\"col_heading level0 col13\" >min_angle</th>\n",
       "    </tr>\n",
       "  </thead>\n",
       "  <tbody>\n",
       "    <tr>\n",
       "      <th id=\"T_01b34_level0_row0\" class=\"row_heading level0 row0\" >0</th>\n",
       "      <td id=\"T_01b34_row0_col0\" class=\"data row0 col0\" >378.92</td>\n",
       "      <td id=\"T_01b34_row0_col1\" class=\"data row0 col1\" >14.15%</td>\n",
       "      <td id=\"T_01b34_row0_col2\" class=\"data row0 col2\" >35.15</td>\n",
       "      <td id=\"T_01b34_row0_col3\" class=\"data row0 col3\" >22.05%</td>\n",
       "      <td id=\"T_01b34_row0_col4\" class=\"data row0 col4\" >84.74</td>\n",
       "      <td id=\"T_01b34_row0_col5\" class=\"data row0 col5\" >8.26%</td>\n",
       "      <td id=\"T_01b34_row0_col6\" class=\"data row0 col6\" >0.23</td>\n",
       "      <td id=\"T_01b34_row0_col7\" class=\"data row0 col7\" >28.51%</td>\n",
       "      <td id=\"T_01b34_row0_col8\" class=\"data row0 col8\" >269.01</td>\n",
       "      <td id=\"T_01b34_row0_col9\" class=\"data row0 col9\" >4.78%</td>\n",
       "      <td id=\"T_01b34_row0_col10\" class=\"data row0 col10\" >0.22</td>\n",
       "      <td id=\"T_01b34_row0_col11\" class=\"data row0 col11\" >14.08%</td>\n",
       "      <td id=\"T_01b34_row0_col12\" class=\"data row0 col12\" >0.59</td>\n",
       "      <td id=\"T_01b34_row0_col13\" class=\"data row0 col13\" >4.06</td>\n",
       "    </tr>\n",
       "  </tbody>\n",
       "</table>\n"
      ],
      "text/plain": [
       "<pandas.io.formats.style.Styler at 0x2b948d698c70>"
      ]
     },
     "execution_count": 36,
     "metadata": {},
     "output_type": "execute_result"
    }
   ],
   "source": [
    "metrics = test_metrics\n",
    "print('stress:', metrics['stress'].mean())\n",
    "print('stress_spc:', metrics['stress_spc'].mean())\n",
    "print('xing:', metrics['xing'].mean())\n",
    "print('xing_spc:', metrics['xing_spc'].mean())\n",
    "print('l1_angle:', metrics['l1_angle'].mean())\n",
    "print('l1_angle_spc:', metrics['l1_angle_spc'].mean())\n",
    "print('edge:', metrics['edge'].mean())\n",
    "print('edge_spc:', metrics['edge_spc'].mean())\n",
    "print('ring:', metrics['ring'].mean())\n",
    "print('ring_spc:', metrics['ring_spc'].mean())\n",
    "print('tsne:', metrics['tsne'].mean())\n",
    "print('tsne_spc:', metrics['tsne_spc'].mean())\n",
    "print('reso_score:', metrics['resolution_score'].mean())\n",
    "print('min_angle:', metrics['min_angle'].mean())\n",
    "columns = [\n",
    "    'stress',\n",
    "    'stress_spc',\n",
    "    'xing',\n",
    "    'xing_spc',\n",
    "    'l1_angle',\n",
    "    'l1_angle_spc',\n",
    "    'edge',\n",
    "    'edge_spc',\n",
    "    'ring',\n",
    "    'ring_spc',\n",
    "    'tsne',\n",
    "    'tsne_spc',\n",
    "    'reso_score',\n",
    "    'min_angle'\n",
    "]\n",
    "df = pd.DataFrame(map(lambda m: metrics[m].mean().item(), list(metrics.keys())[:-1])).set_axis(columns).T\n",
    "df.style.format({c: \"{:.2f}\" for c in columns if 'spc' not in c} | {c: \"{:.2%}\" for c in columns if 'spc' in c})"
   ]
  },
  {
   "cell_type": "code",
   "execution_count": 37,
   "metadata": {
    "id": "5e7vPr0M3mmG"
   },
   "outputs": [],
   "source": [
    "metrics = {}"
   ]
  },
  {
   "cell_type": "code",
   "execution_count": 38,
   "metadata": {},
   "outputs": [],
   "source": [
    "methods = ['fa2']"
   ]
  },
  {
   "cell_type": "code",
   "execution_count": 39,
   "metadata": {
    "colab": {
     "base_uri": "https://localhost:8080/",
     "height": 433,
     "referenced_widgets": [
      "a0cf6e046add4e639e52db69656e0db9",
      "8e237731bb1241ac858581b25389c012",
      "0891547293ad4211a138a4d92e01bb0b",
      "34912c8e581e47a99a1c4829c38cb75c",
      "5aa034c99c94424e835a2ee954b829ed",
      "248f6393eff74c3eb8740ca6d698045b",
      "686687a29c7f4ec98c4d76ca2062b14b",
      "996a84d1c23b47e4a2af252c6b60f55d",
      "3507f883bb954412b21c1c5641763ed7",
      "9582a849d91e457cadd514c95d6e1b5b",
      "52bfe674c2c547e09b7400a32a96f703",
      "93d58b3a12394fe1aa6f0431fc7cb0db",
      "af1d7855c9d646b0bcc7d95c4cb147a6",
      "f820e2b898cd461da04a4f651d27273d",
      "c0a112cfaa3d4d0aa9530372de84d8fb",
      "fd03985495694fbf9feb3f31ef8d18ce",
      "e02a2b36aa4c4d6fb5d2ac6693c1a927",
      "06f388ff5e3a48828d465096fe69977b",
      "c0052778c9c940e88935593e9f94b83b",
      "99a5e77a192d4a989c4534237eb16730",
      "77c6da092a6647fc9e54f7e276d75616",
      "8c13c0e8b5934117a662a78296bcb1b6",
      "cdcc3bd4235247b48c468c0f6b7682cc",
      "a2c6fa6fef4549cc853fa93b4b18cf95",
      "15cc02a756314083801b5f6798a1948c",
      "24d1c67fe52f452ab0c767e3c1a818aa",
      "c117db25c6fd484a9d0c7f210ccb1ade",
      "b090b60b61084cf692b3066dfac7f0a8",
      "5eab9848059c491b9c6cbac88683f025",
      "e87ffbaa1f204b52b9226337a506b040",
      "cf52198a9e4b46c7b49537a79919c09e",
      "51501227bc064ccbab97c22a679a0750",
      "d1b794a997dc457888a90bf44faee9b4",
      "21a755b50e5047bea797eccf24b35a0c",
      "16e78c3823ec4faf9f9cd9095b218ff5",
      "4ccd332c6b734acd8eff236eaf568dfa",
      "bd60fd13748347e48629df78fa455765",
      "e9187e4ba80b4fafa0334dae2e39aded",
      "4c39ec7c92b4402e8eedcb27beabaab1",
      "59a8194269f943bba571f710ad856973",
      "8e41bc25b9f348b1b85b381547cd60d1",
      "34d0f1529e64437fb25e639b41096072",
      "7e832c7543df43668eb72c0aa6356349",
      "f94162c9c5fe4c2581e3b80beaeb820b",
      "0284946fccf34607b25e1d6d81d4f72a",
      "8e8d4243a3624ba58d760bdf601d5126",
      "b1f0932594fe44f4be4beb8880172871",
      "820bb554d139437b8f6a6997f9002261",
      "459e375d1fe4497cb4197ef88e303c6d",
      "5726814966da46bbba942a114de4b319",
      "448beea5445f4642809801da46aa7e7c",
      "3746c0f0daf04f51805b4c95db20063a",
      "2ff74d1c705348438a32da37910c3300",
      "52f03147b5ab4cb390f9802b7a17a508",
      "5428511d652a47348203e8f3cd2e076d",
      "7b58569bee2e44c5a61a81f9a32c4c01",
      "c5e05d74b9404333a8155304e3497ba2",
      "3ad4e058bde44d87abab780368d49118",
      "8e437049b5c74ff1beddad93e30b19aa",
      "0c61377f4cc34b27ae34bdd6d976d868",
      "9ce35f9a9a23436ea77604513b5c4659",
      "dafbc43ad79c4feda093aefe490fc4b3",
      "497160b6bf80469a89680a03a468c8bb",
      "3265725ecb914981b6f07f68b8a582df",
      "1f0ac20d99d04ffb9ee75613526d3de6",
      "dee0e5716560483b8e2b107566439d94",
      "ca99841a1abd4fbd94927c49aaa711cb",
      "163a44ff1be04583ae7bd62726c55204",
      "f3b727045a0b4b4fabd147ec9c843e14",
      "7c4b4fe859cf48ab99b7e2780a24a539",
      "d9700cffab66480cb81e3722faab4e8b",
      "2c49acc1e0a64aa4b8ec461b0596848e",
      "691817157f43412f9c36002167606b75",
      "d0ae688d71734b56bb348de54e841798",
      "07a364ebcdaa491dbcc2304e4a8dae96",
      "538b277307b1449eaa79a2a91b4741d3",
      "f7b7dd4cbaa5468687b988c5e416a154",
      "877be862a4f045ec8b221097626becb5",
      "1bf37012df0844338ac689d4f6cc8eab",
      "33fe06641be544d3aab2c25cb979416f",
      "68de0d9261fa4e6999967b6f196d149c",
      "7017c5ba1ffc467495aca2689e516f7d",
      "e0997460cc21428695a0c278c6691baf",
      "522443bef4904996b6361ea265c4c56f",
      "dfe044b67917466f971ba84a11956d5e",
      "70b2d0ba1c1d4102841fb963480de1c7",
      "7b158daacd754a40bc0a48fc9ea6fea2",
      "8904f61ff30741e488eacf0e49440f66",
      "685dee6f1e1f4c2983d2d0b8eb90ed00",
      "005155a4d62d48cbbaf3d69614b08d81",
      "d2779dfa620041e4b32a7731926a5982",
      "53048bf27cb24080b4cdf20379302223",
      "0b5bff7794a14a20964da70b87158c2c",
      "ec664e55ea16435590393ae1617cccea",
      "f10d62ef464a45a7935610d869c282e3",
      "5e7c09bc35db4a3a8b9847c6d8478883",
      "987ea331b617446facc81b08bab1f8c4",
      "446c5a687b0d43358ab036d43ce281c3",
      "d89e216f62ae4a9999da1a91dd5e48b9",
      "09d03e7e66f54cafacefbfeda5fd6e5c",
      "d58c680562a44bbd9252e7ec6eebc06c",
      "71ea2594fdd942acac1cc61055438544",
      "fecda4df301b437f9fbfb61a7b593dc0",
      "bcf6741d926248cb92acf627d6557d2b",
      "5bd9868b9bda4f68b500a43916e2d148",
      "4bc5e02035de44ad827c4f881fd75afc",
      "7d80033a955e4feb947ca9cea931d90b",
      "e975c796d80d498992a50f87a2b0105c",
      "028b2ff105904a19a9a3e8ebf66967bb",
      "10dbf2cbdb1943eda6a0acaf5da3fe85",
      "14d59c7acc5e4e07a289db44406a4851",
      "d9447df93d714907bc9c768eb4910352",
      "d4a9ace081bf488680a7e43e0eaed71d",
      "022a60cde19546bfa6ecfb4947615ad9",
      "10c01207d9ba4fe197dc80717fceecc0",
      "f4995936570d4ba1a65e9a66e410b505",
      "b4bf66303e61491385cd616076a11c04",
      "a24ab2bfe7a44263bf60936d6e53ec32",
      "59e2e8ecc9f84d57af7bf44f5bba5df7",
      "be2eb92aab8045a99fd19195c3546b60",
      "e6715db2b048434796e910952cb5eb62",
      "8de2335007ba4a6b9935fa0c514c9f6a",
      "493a4bbe8057437a8c8acf4d03f8dcb0",
      "20b03955acc74e238695717124705520",
      "a89f9507496b4cf8bdd63bdb9bff79c4",
      "9752a1f6c8b6488d9628b8e0c023f10f",
      "61a0bebc687341a7bb3352febc8d4986",
      "07e0ff9c82a444788c60edee70688ca7",
      "4427901f35e54cc48e08527bb402c22a",
      "bd9dafb825954091ba975d71ab8c89ea",
      "7ec0f07bfe51484da38c18dc66d77804",
      "03943afebc4d4b668b54c7a0fd014a37",
      "a7a6b38a76424d738146b6a5786cf2c8",
      "1d1aa4729784470584c0001c1a296008",
      "e0c68ac9b5b442eeb77e6d9ea3c1da42",
      "c858ef9fd9324ab0ab885d85e3c8582f",
      "627bc2899c994a0c96c5d43e89dc77ff",
      "0e2c2f21fa8041038151170992ecb848",
      "2d9bcbf7629a4671bf8755e790276eb7",
      "77a4edf6ab1848a6a6df20c1c07358c6",
      "acf2212d6bb44c729b63281a98377095",
      "0c7a72818da3454190bab7f30a29e249",
      "d865af915b8b4aaa8cec8d40f1f8351d"
     ]
    },
    "id": "s1UnzfID4Ai6",
    "outputId": "3e204e76-68fd-4111-f527-91f6e3b7a3ca"
   },
   "outputs": [
    {
     "data": {
      "application/vnd.jupyter.widget-view+json": {
       "model_id": "7725d8e0769f4a77b8bfc43f02ae02af",
       "version_major": 2,
       "version_minor": 0
      },
      "text/plain": [
       "  0%|          | 0/1000 [00:00<?, ?it/s]"
      ]
     },
     "metadata": {},
     "output_type": "display_data"
    }
   ],
   "source": [
    "for m in methods:\n",
    "    metrics[m] = test(model=test_generator, \n",
    "                      criteria_list=[], \n",
    "                      dataset=data_list, \n",
    "                      idx_range=range(10000, 11000), \n",
    "                      callback=None,\n",
    "                      gt_pos=load_pos(m))"
   ]
  },
  {
   "cell_type": "code",
   "execution_count": 40,
   "metadata": {
    "id": "dQ7hdCtk5u6K"
   },
   "outputs": [],
   "source": [
    "mean_metrics = {key : list(map(lambda m: metrics[key][m].mean().item(), list(metrics[key].keys())[:-1])) for key in metrics}"
   ]
  },
  {
   "cell_type": "code",
   "execution_count": 41,
   "metadata": {
    "colab": {
     "base_uri": "https://localhost:8080/",
     "height": 313
    },
    "id": "OGyaCmLXTuvA",
    "outputId": "6c42d9f3-9869-4504-bc9c-d0eedaecfd90"
   },
   "outputs": [
    {
     "data": {
      "text/html": [
       "<style type=\"text/css\">\n",
       "</style>\n",
       "<table id=\"T_10597_\">\n",
       "  <thead>\n",
       "    <tr>\n",
       "      <th class=\"blank level0\" >&nbsp;</th>\n",
       "      <th class=\"col_heading level0 col0\" >stress</th>\n",
       "      <th class=\"col_heading level0 col1\" >stress_spc</th>\n",
       "      <th class=\"col_heading level0 col2\" >xing</th>\n",
       "      <th class=\"col_heading level0 col3\" >xing_spc</th>\n",
       "      <th class=\"col_heading level0 col4\" >l1_angle</th>\n",
       "      <th class=\"col_heading level0 col5\" >l1_angle_spc</th>\n",
       "      <th class=\"col_heading level0 col6\" >edge</th>\n",
       "      <th class=\"col_heading level0 col7\" >edge_spc</th>\n",
       "      <th class=\"col_heading level0 col8\" >ring</th>\n",
       "      <th class=\"col_heading level0 col9\" >ring_spc</th>\n",
       "      <th class=\"col_heading level0 col10\" >tsne</th>\n",
       "      <th class=\"col_heading level0 col11\" >tsne_spc</th>\n",
       "      <th class=\"col_heading level0 col12\" >reso_score</th>\n",
       "      <th class=\"col_heading level0 col13\" >min_angle</th>\n",
       "    </tr>\n",
       "  </thead>\n",
       "  <tbody>\n",
       "    <tr>\n",
       "      <th id=\"T_10597_level0_row0\" class=\"row_heading level0 row0\" >fa2</th>\n",
       "      <td id=\"T_10597_row0_col0\" class=\"data row0 col0\" >378.93</td>\n",
       "      <td id=\"T_10597_row0_col1\" class=\"data row0 col1\" >1.49%</td>\n",
       "      <td id=\"T_10597_row0_col2\" class=\"data row0 col2\" >35.16</td>\n",
       "      <td id=\"T_10597_row0_col3\" class=\"data row0 col3\" >9.71%</td>\n",
       "      <td id=\"T_10597_row0_col4\" class=\"data row0 col4\" >84.75</td>\n",
       "      <td id=\"T_10597_row0_col5\" class=\"data row0 col5\" >11.23%</td>\n",
       "      <td id=\"T_10597_row0_col6\" class=\"data row0 col6\" >0.23</td>\n",
       "      <td id=\"T_10597_row0_col7\" class=\"data row0 col7\" >6.21%</td>\n",
       "      <td id=\"T_10597_row0_col8\" class=\"data row0 col8\" >269.00</td>\n",
       "      <td id=\"T_10597_row0_col9\" class=\"data row0 col9\" >3.52%</td>\n",
       "      <td id=\"T_10597_row0_col10\" class=\"data row0 col10\" >0.22</td>\n",
       "      <td id=\"T_10597_row0_col11\" class=\"data row0 col11\" >11.47%</td>\n",
       "      <td id=\"T_10597_row0_col12\" class=\"data row0 col12\" >0.59</td>\n",
       "      <td id=\"T_10597_row0_col13\" class=\"data row0 col13\" >4.03</td>\n",
       "    </tr>\n",
       "  </tbody>\n",
       "</table>\n"
      ],
      "text/plain": [
       "<pandas.io.formats.style.Styler at 0x2b948d655700>"
      ]
     },
     "execution_count": 41,
     "metadata": {},
     "output_type": "execute_result"
    }
   ],
   "source": [
    "columns = [\n",
    "    'stress',\n",
    "    'stress_spc',\n",
    "    'xing',\n",
    "    'xing_spc',\n",
    "    'l1_angle',\n",
    "    'l1_angle_spc',\n",
    "    'edge',\n",
    "    'edge_spc',\n",
    "    'ring',\n",
    "    'ring_spc',\n",
    "    'tsne',\n",
    "    'tsne_spc',\n",
    "    'reso_score',\n",
    "    'min_angle'\n",
    "]\n",
    "df = pd.DataFrame(mean_metrics).set_axis(columns).T\n",
    "df.style.format({c: \"{:.2f}\" for c in columns if 'spc' not in c} | {c: \"{:.2%}\" for c in columns if 'spc' in c})"
   ]
  },
  {
   "cell_type": "markdown",
   "metadata": {
    "id": "L5S1HWnHOWIl"
   },
   "source": [
    "# Large Graph"
   ]
  },
  {
   "cell_type": "code",
   "execution_count": null,
   "metadata": {
    "id": "_pefPcV1OZdD"
   },
   "outputs": [],
   "source": [
    "scalability = pd.read_csv(f\"/__artifacts__/data/scalability.csv\", index_col=\"index\")\n",
    "scalability"
   ]
  },
  {
   "cell_type": "code",
   "execution_count": null,
   "metadata": {
    "id": "oMhWAsdvPnTX"
   },
   "outputs": [],
   "source": [
    "rescale = CanonicalizationByStress()\n",
    "stressfn = Stress()\n",
    "rotate = RotateByPrincipalComponents()"
   ]
  },
  {
   "cell_type": "code",
   "execution_count": null,
   "metadata": {
    "id": "LR83OcAaPID5"
   },
   "outputs": [],
   "source": [
    "stress_list = []\n",
    "spc_list = []\n",
    "pmds_list = np.load(\"layouts/new_large_graph/pmds.npy\", allow_pickle=True)\n",
    "gviz_list = np.load(\"layouts/new_large_graph/gviz.npy\", allow_pickle=True)\n",
    "with torch.no_grad():\n",
    "    for idx, col in tqdm(scalability.iterrows(), total=len(scalability)):\n",
    "        # if idx not in [406, 516]: continue\n",
    "        torch.cuda.empty_cache()\n",
    "        G = load_mtx(col['file'])\n",
    "        G.remove_edges_from(nx.selfloop_edges(G))\n",
    "        data = generate_data_list(G, \n",
    "                                sparse=data_config.sparse, \n",
    "                                pivot_mode=data_config.pivot,\n",
    "                                init_mode=data_config.init,\n",
    "                                edge_index=data_config.edge.index,\n",
    "                                edge_attr=data_config.edge.attr,\n",
    "                                pmds_list=pmds_list[idx],\n",
    "                                gviz_list=gviz_list[idx],\n",
    "                                device=device)\n",
    "        batch = Batch.from_data_list([data]).to(device)\n",
    "        # generator.train()\n",
    "        # generator(batch)\n",
    "        generator.eval()\n",
    "        pred = generator(batch)\n",
    "        pos = rotate(rescale(pred, batch), batch)\n",
    "        gt = rotate(rescale(batch.gt_pos, batch), batch)\n",
    "        stress = stressfn(pos, batch).item()\n",
    "        gt_stress = stressfn(gt, batch).item()\n",
    "        spc = (stress - gt_stress) / np.maximum(stress, gt_stress)\n",
    "        stress_list.append(stress)\n",
    "        spc_list.append(spc)\n",
    "\n",
    "        np.save(f\"/__artifacts__/gan_result/data/scalability_{idx}.npy\", pos.cpu().numpy())\n",
    "        graph_attr = dict(node_size=1, \n",
    "                        with_labels=False, \n",
    "                        labels=dict(zip(list(G.nodes), map(lambda n: n if type(n) is int else n[1:], list(G.nodes)))),\n",
    "                        font_color=\"white\", \n",
    "                        font_weight=\"bold\",\n",
    "                        font_size=12,\n",
    "                        width=0.1)\n",
    "\n",
    "        # gt_pos = pickle.load(open(f\"/__artifacts__/data/scalability_{idx}_gt.pkl\", \"rb\"))\n",
    "\n",
    "        plt.figure(figsize=[12, 9])\n",
    "        nx.draw(G, pos=gt.cpu().numpy(), node_color='orange', **graph_attr)\n",
    "        plt.title(f\"neato: large_{idx}\")\n",
    "        plt.axis(\"equal\")\n",
    "        plt.savefig(f\"/__artifacts__/gan_result/output/{idx}_{col['name']}_{col['n']}_{spc}_nx.png\", dpi=300)\n",
    "        plt.show()\n",
    "\n",
    "        plt.figure(figsize=[12, 9])\n",
    "        graph_vis(G, pos.cpu().numpy(), **graph_attr)\n",
    "        plt.title(f\"dgd: large_{idx}, spc={spc:.2%}\")\n",
    "        plt.axis(\"equal\")\n",
    "        plt.savefig(f\"/__artifacts__/gan_result/output/{idx}_{col['name']}_{col['n']}_{spc}_dgd.png\", dpi=300)\n",
    "        plt.show()"
   ]
  },
  {
   "cell_type": "code",
   "execution_count": null,
   "metadata": {
    "id": "gRXTewkYeuq1"
   },
   "outputs": [],
   "source": []
  }
 ],
 "metadata": {
  "accelerator": "GPU",
  "colab": {
   "collapsed_sections": [
    "w_p3OD0woiSM",
    "DR6-vYtr_i_P",
    "innqkwvH_ydD",
    "f-ODE2k8BFV6",
    "N39dDHraedM6"
   ],
   "machine_shape": "hm",
   "name": "GAN(gan=rgan,data=best(xing,stress),dis=deep,share=16,embed=0,gp=0).ipynb",
   "provenance": []
  },
  "kernelspec": {
   "display_name": "DeepGD",
   "language": "python",
   "name": "deepgd"
  },
  "language_info": {
   "codemirror_mode": {
    "name": "ipython",
    "version": 3
   },
   "file_extension": ".py",
   "mimetype": "text/x-python",
   "name": "python",
   "nbconvert_exporter": "python",
   "pygments_lexer": "ipython3",
   "version": "3.9.7"
  },
  "widgets": {
   "application/vnd.jupyter.widget-state+json": {
    "state": {
     "02cbe4b3b5824e71a933de1afe86a790": {
      "model_module": "@jupyter-widgets/base",
      "model_module_version": "1.2.0",
      "model_name": "LayoutModel",
      "state": {}
     },
     "0bdd76f9a6724364af9c5affcb67fccf": {
      "model_module": "@jupyter-widgets/controls",
      "model_module_version": "1.5.0",
      "model_name": "HTMLModel",
      "state": {
       "layout": "IPY_MODEL_4b1ea71eb64945f788b464000107775e",
       "style": "IPY_MODEL_805da86e245547ed9dc6a0746d76b77f",
       "value": " 1000/1000 [00:48&lt;00:00, 21.64it/s]"
      }
     },
     "1010c5af78704280aba8fdbdb9593b52": {
      "model_module": "@jupyter-widgets/base",
      "model_module_version": "1.2.0",
      "model_name": "LayoutModel",
      "state": {}
     },
     "10230f4661f743148e7bd92a07f9613a": {
      "model_module": "@jupyter-widgets/controls",
      "model_module_version": "1.5.0",
      "model_name": "HTMLModel",
      "state": {
       "layout": "IPY_MODEL_12f1d6f438b142fdab17984fd718d7c7",
       "style": "IPY_MODEL_1089e1bf5f6044baae8b51f0c9506f78",
       "value": "100%"
      }
     },
     "1089e1bf5f6044baae8b51f0c9506f78": {
      "model_module": "@jupyter-widgets/controls",
      "model_module_version": "1.5.0",
      "model_name": "DescriptionStyleModel",
      "state": {
       "description_width": ""
      }
     },
     "10db1fc165d84b1fa15885f8763586d8": {
      "model_module": "@jupyter-widgets/base",
      "model_module_version": "1.2.0",
      "model_name": "LayoutModel",
      "state": {}
     },
     "12a79c7e05524d118037a772945f4919": {
      "model_module": "@jupyter-widgets/base",
      "model_module_version": "1.2.0",
      "model_name": "LayoutModel",
      "state": {}
     },
     "12f1d6f438b142fdab17984fd718d7c7": {
      "model_module": "@jupyter-widgets/base",
      "model_module_version": "1.2.0",
      "model_name": "LayoutModel",
      "state": {}
     },
     "15ca62bc77784f3c98adcd792d2a583e": {
      "model_module": "@jupyter-widgets/output",
      "model_module_version": "1.0.0",
      "model_name": "OutputModel",
      "state": {
       "layout": "IPY_MODEL_900776c2066a448b89eaadd79bd30201",
       "outputs": [
        {
         "data": {
          "image/png": "iVBORw0KGgoAAAANSUhEUgAAAb4AAAEuCAYAAADx63eqAAAAOXRFWHRTb2Z0d2FyZQBNYXRwbG90bGliIHZlcnNpb24zLjQuMywgaHR0cHM6Ly9tYXRwbG90bGliLm9yZy/MnkTPAAAACXBIWXMAAAsTAAALEwEAmpwYAABSAklEQVR4nO3dd1xT5/cH8M/NYAjWWQVxMFQcOACLOPgiLtwITgRtHWjdA7W12jqrrW2dVeu2bkUUXAW1guJGcSuKgoiAA5wgI+P+/uBHykjCTQgkJOf9evlqDTf3PgHMyfPc55zDsCzLghBCCDEQPG0PgBBCCClPFPgIIYQYFAp8hBBCDAoFPkIIIQaFAh8hhBCDQoGPEEKIQaHARwghxKBQ4COEEGJQKPARQggxKBT4CCGEGBQKfIQQQgwKBT5CCCEGhQIfIYQQg0KBjxBCiEGhwEcIIcSgUOAjhBBiUCjwEUIIMSgU+AghhBgUCnyEEEIMCgU+QgghBoUCHyGEEINCgY8QQohBocBHCCHEoFDgI4QQYlAo8BFCCDEoFPgIIYQYFIG2B0AqvsT0TGyOikfIrRRk5ohhZixA/9Z1EOBmiwY1zLQ9PEIIKYRhWZbV9iBIxRXx6DUm7ImBSCKFWPrfr5KAx0DI52G9nxM87GtpcYSEEFIYBT6itsT0TPRYHYUskUThMaZCPsKmutHMjxCiM+geH1Hb5qh4iCRSpceIJFJsuZBQTiMihJCSUeAjagu5lVJoeVMesZTFkZvJ5TQiQggpGQU+orbMHDG343K5HUcIIeWBAh9Rm5kxt03BZka0eZgQojso8BG19W9dBwIeo/QYViJGm5qKN78QQkh5o8BH1BbgZgshX/mvkLFQgLPr52Hy5Mn4/PlzOY2MEEIUo8BH1NaghhnW+znBVMgvNvMT8BiYCvnYOOIr3Ll0Fu/evYOTkxOuX7+updESQkgeyuMjpZaYnoktFxJw5GYyMnPFMDMSwNvRCmM62hTK3ztw4AAmT56MyZMnY86cORAI6N4fIaT8UeAj5So5ORkjR47Ex48fsWvXLjRq1EjbQyKEGBha6iTlysrKCmFhYfDz80P79u2xceNG0GcvQkh5ohkf0ZrY2Fj4+/ujdu3a2Lp1KywsLACUTdFrKqRNCMlHgY9olUgkwuLFi7Fp0yasX78e1Zp31HjRayqkTQgpiAIf0QmXL1/G8PHTIfWcAylP8aYXVYteUyFtQkhRdI+P6IR27dphwNz1YBnlv5KqFr2mQtqEkKJoxkd0hsOCcGRwqP9ZScgg2NcGLMvKNsbk/3/Rv/sGpyBLXPKvuLmxAPcWeJbuBRBCKgRKpCI6g2vR68+5Enh7e4NhGNkfAHL/ntXzZ4BRXlYNoELahBgSCnxEZ5gZCzjN+MxNjHAvNrbE45KSktB5fQxEHH7NqZA2IYaD7vERncG16LXpqzu4dOmS/K+zLCIiIjBgwAC0atUKVqIU8EuY8LESMaq8jcWdO3fUHTohpAKhj7lEZwS42SI4JhliqZIdmCZG8KpTGcOHD0f1+vZo1Hcc7nw0RmaOBEJGCmn8FQifnseUUcOwY8cOvM3llbyr09gIblXE6NmzJ5o1a4bAwEB4enrKlkwJIfqFNrcQnRLx6DXG7YxGrlgC8Piyx4vm3P378CW+3X0dIrEEKJD+wGcAIwG/UG4e1zy+3Nxc7N+/HytWrIBIJML06dPh7+8PExOT8vsGEELKHAU+onM8B/ij8ldeeJhljowcMSqbGBUqeh3/+hN6rD6HXKniGVnR3DyuhbSB/5ZLV6xYgejoaIwfPx4TJkxArVqU5E6IPqDAR7SqaCkxUyEP72+dwr/r5sLeqjpMTEyQkZEBIyMjvHnzBlu3bsWG6LdgGnYsNCMshpWid+MvsG6Ue6nGFxsbi5UrV+LgwYMYOHAgpk+fjmbNmpXqnIQQ7aLAR7RG0RIkw0phYiTEej8nDO/ihA0bNuDQoUM4evQovL29cdlqIKfcPFaUgyZ3NyIwMBDdunUr1T27N2/e4K+//sK6devg6OiIGTNmoGvXrsXOSTVBCdF9FPiIVnApJSZkWLzaMRXmyMK0adMwevRo1KhRAzZzToDrL+0Um3RsX/sbGIZBYGAgfH19YWRkVGwsXINVdnY29u7dixUrVoDH42HGjBnw9fWFsbEx1QQlpIKgwEe0Yl7IXeyPTioUIIqRSmCSfAM/e7fEgAEDZA9zrfACloWDyVvM790Ub968wapVq3D//n1MmjQJ48aNQ/Xq1dUOVizL4vTp01ixYgVu376N4eOn46ioBbLFisujUU1QQnQD5fERrQi5laI86AEAjw+xlSNev35d6OH+retwuwjDIDb7C3zzzTfw8/NDpUqV4O/vj8uXL8POzg6jpszG+N3XkSWSFBuLWMoiSyTBhD0xSEzPlHNqBt27d0dYWBhOnz6Ni+kmyMrJVTocqglKiG6gwEe0gmt5MjFPgNTU1EKPBbjZcr6OGHw0atQIAwYMQKVKlRAdHY0bN26AYRiceyVAVo5I6fPlBSuxWIy3b98iISEBt27dQnp6OtIq24LhK0+LFUtZHLmZzHnshJCyQQnsRCu4liczYthiga9BDTOYCHnIFinvugDkLS+OGDECz58/x/PnzyESiVC3bl0kJCRAZOUIHodgtfvCIwTPGYwPHz7gw4cPyMrKwhdffIEqVarI/uS0nw1w2DuTkSNGYnomLXcSokUU+IhW9G9dp8R7fAIeA5cvgdQ7qcW+NtCpLvZHP4eSW2oQ8BgMbFMfPl4Ocr/OdZMMyzfG9OnT8dVXX8HW1hbm5ubg8QovlnC+7wigx+oo2uhCiBbRUifRigA3Wwj5yn/9hHweBresiZcvXyp4vpI8vv9//piONgq/bmbM7XOfAGLs2bMHnTp1QtOmTdG3b1/MnTsXQUFBiIuLg1Qq5VRnNJ+ye4eEkLJHgY9oRYMaZljv5wRTIR8oUpuTlYhhImCw3s8Jjo3qFlvqLPr8ogFHwGNgKswrW6ZsSbFboyrFrl2UgMfAt11DREZG4t27d7h48SICAgJgZGSEvXv3onv37qhSpQpOrfkOrET5/cKCaKMLIdpD6QxEq87duI9hi7agmqMnMnMlMDMS4MvMBDRlUrB++SLk5ubC3NwcWVlZ4MuZ4alSiqygs2fPwu/baTAb8DPESj7/cUlBeP/+PW7fvo2Qq3EIffslpOBz6gFIzW8J0Q4KfESrZs2aBYZhsHz5ctljz549g7OzMxISEvDFF1/gyy+/xL1791C7du1SX49lWfz6669YvXo1du/eDV7dFpiwJwY5IjGkBXanqJt0npieCfffIzkdyzBAwtLeqr4EQkgp0VIn0ZqcnBz8/fffGDt2bKHHra2t0a1bN2zduhUAYGlpKXe5U1UfPnyAt7c3QkNDER0djS5dusDDvhbCprrB8nM8BFIRwLKAKBud6gkRNtVN5Q0oDWqYwZzjvUNqfkuIdlDgI1oTHByMVq1aoWHDhsW+NnPmTKxatQoikUgjge/OnTto06YN6tati3PnzqFu3bqyrzWoYYb3ZzZikuUztHywCcNNb6Hms3/VTjngstFFwAO8Ha3UOj8hpHQo8BGt2bhxI8aNGyf3a23atIGNjQ0OHTpU6sC3e/dudOnSBQsWLMCff/5ZrFbn+/fvkZiYCDs7O4jFYvTp0wfHjh1T+3pcdqyKc3PQmWMBGkKIZlHgI1rx4MEDPH78GF5eXgqPGTExEAuOP8QFC28siqsFhwXhmBdyl3MaQE5ODiZMmIBFixblbWbx85N7XHR0NJydnWFsbAyxWIyvvvoKaWlpiI+PV+u1lbTjVMhIIYr8C4N7eeDEiRNqXYMQoj4KfEQrNm3ahFGjRkEoFMr9esSj1/jtrhA5dZ0hZgQAGGTkiLE/Ogk9Vkch4tFruc/Ll5SUBHd3d6SmpiI6OhotWrRQeOyVK1fg6uoKgUAAkUgEHo+HXr16lSoo5d879HWpD3NjARgmbxenr0t9nAnsjF6tG8DBwQFjx47F0qVLQXvMCCk/tKuTlLusrCzUq1cP169fh7W1dbGvc2lZpCzN4MyZMxg+fDimT58u2zWqTO/evTFmzBjUqFEDc+fORVRUFIKDg7Fp0yaEh4er/Pq4yM7OhpubGzw9PXHq1CnY2Nhg27ZtMDOjUmaElDWa8ZFyd/DgQbi4uMgNegCwOSoeIonyOpzyEsClUimWLl2KESNGYO/evZg9e3aJQY9lWVy5cgVt27aFUCiEWJxXdqxbt264dOkSPn36xP2FqcDExATBwcHYsmULFi5cCFNTU3To0AHPnj0rk+sRQv5DgY+UO2WbWgBuLYuKdjp4//49+vfvj+PHjyM6OhoeHh6cxvLkyROYm5ujTp06EAgEssD3xRdfwNXVFWfOnOF0HnXUr18fe/fuxciRI7Fw4UKMHDkS7dq1Q2RkZJldkxBCgY+Uszt37uD58+fo3Vtx4jbXlkWZuXnH3b59G23atIG1tTUiIyNhZcU9TSD//h6AQoEPAPr27Yvjx49zPpc6OnfujMDAQAwcOBDjxo3D7t27MXToUKxdu5bu+xFSRijwkXK1ceNGjBkzBgKB/OTtjIwMGPFKbjcE5CWA79y5E127dsXixYuxZs2aYqkKJVEW+Hr37o0TJ05AKuU2HnXNnDkT1tbWmDx5Mrp06YJLly5h8+bNGD16NHJycsr02oQYIgp8pNxkZGRg3759GDNmTKHHJRIJTp8+jREjRqBu3bqo9Po+eCU0DGIlYny6cwY//vgjIiIi4Ovrq9aYrly5gnbt2gEoHvjs7OxQvXp13LhxQ61zc8UwDLZt24aLFy9i8+bNsLW1xaVLl/Dx40e4u7sjJSWlTK9PiKGhwEfKzf79++Hm5iarmnL37l3Mnj0b9evXx/fffw9nZ2c8evQIIb9MBo9RHvgYSFHlZQykUilmzJiBCxcuqDyezMxMxMbGwtHREUDxwAcAffr0KfPlTgCoXLkyjhw5gh9++AHXrl2Dubk5goKC0KdPH7i4uODq1atlPgZCDAUFPlJuNm7ciMGDB2PFihVwdHREr169wOfzcfr0ady4cQNTp05F7dq1ceLA3xCdXQ8TAVMsAZzPAKwoB32qvMTti2fw9OlTDB48GCNGjEDnzp1V2hhy48YNtGjRAsbGxgC0G/gAwN7eHps2bcKgQYPw+vVrMAyDefPmYcOGDejbty+2b99eLuMgRN9RHp+BSkzPxOaoeITcSkFmjhhmxgL0b10HAW62JdaoVPW5nz9/xsqVK7FkyRIYGxujf//+GDFiBNzd3Yu1Glq3bh1+++03nD17FvwqtQu1HBKwEmTHnsMfAb0xuFfnQs8TiUTYs2cPfv75Z1haWuKnn35Cly5dlKYzLF++HCkpKVi1ahWAvKT3du3a4cWLF7JjxGIxatWqhbt376q0aaY0fvjhB1y5cgWnTp2S3Qt9+PAhvLy80LNnT/z+++9I+Zir9s+PEENHgc8ARTx6jQl7YiCSSAulDXBpxcP1uVKpFJGRkdi1axdCQkJgbm6Odu3aYfv27QqTtPODXkREBGxs/uuc/u7dO4wYMQJv375FUFAQ6tRRXORSLBZj//79WLJkCapXr46ffvoJnp6ecgOgj48PBg8ejKFDhwIAXr58idatWxfr+D5s2DB4eHggICBA4XU1SSKRoGfPnmjdunWhdk3v37+Hr68v3plY4r3DIIilrMo/P0IILXUanMT0TEzYE4MskaRYrpxYyiJLJMGEPTFy62Fyee63u65j0pyFsLa2xowZM9CiRQtcvXoVGRkZWL16tcKg9+eff8oNerdu3UKbNm1gZ2eHyMhIpUEPyFuu9Pf3x/379zFlyhQEBgaibdu2OH78eKH0AJZlcfnyZdmOzvznFl3qBMp3uRMA+Hw+9u3bh6CgIAQFBcker1q1Ktb9fRBv7PsjWyxV+edHCMlDMz4DMy/kLvZHJylNEBfwGPi61MdiLweVn8tKxGjApKF544aISspGZo4YQkaKKu8e4dCS8cWW4RLTMzFlfShufzACIzQttGQXcSwIs2bNwtq1a2WzMlVJpVIcPnwYixcvBp/Px08//YR+/frhxYsXcHFxQWpqqmw2+P79e1hbW+P9+/eFzvH27VtYW1vj1atXMDU1VWsc6oiJiYGnpyf2Hz+DiFQeQm6lIINDjqOinx8hJA8FPgPjsCCc05unubEA9xZ4qvVcIO/Nt2CA5DOAkYBfaBku4tFrBPx9FWKxFOALCj1XKhGBf3k7Qtb/jObNm3O6pjJSqRTHjh3DokWLIBaL0blzZ8THxyM0NFR2TEZGBiwsLJCRkVHs+e7u7vjuu+/Qq1evUo9FFXP/3Is9iSYQGBlDrEI6obyfHyEkD7WA1hGl2WxSkuzsbMTFxSE2NhYZOaYAlNevBICM7Fy4uLigZs2aqFGjBmrWrIkMky6cngug2KxQwkK2DBc21Q0AELDjKsTgAUV614mlLMAIYOQ+DuYW1pyuVxIejwcvLy/069cPJ0+exOjRo8GyLPbt24fBgweDz+crXOoE/lvuLM/Al5ieicOvqwMCiUpBD/ivqg0hpDia8emA0mw2yceyLN68eYPY2Nhif1JSUmBra4smTZrgjv3XEHP4vFNJyMP23tWRlpaG9PR0pKWlYf0bO07PVYbPAP1bfInHjx/jbmblQjO9ospyya59+/bo378/QkJC8PbtW8ydOxeDBg2Cubm53OD38OFDeHp6IjExscTC15rCZWlZEZrxEaIYBT4tU7UFj0gkQnx8fKHA9ujRI8TGxgIAmjZtiiZNmsj+2Nvbw8bGRtb3rqzv8XEhzfkMAOAZVyrx2LJ4A8/JyUH16tXx6tUrmJmZ4ezZs1i4cCGSk5MRHx+PnJycYqXPnqVloNP4JTBt8j9ki9lySR9QZWm5ILrHR4hyFPi0jEswYSBFjXcPkXluOxISElC3bl3Y29sXCnBNmjRBzZo1S5yNlKbXHZfncsJKwTAlFSXLwzBAwlLFBa3Vce3aNYwdOxa3bt0q9Pi5c+fg4eGB+vXrY+7cufj6669hZGQkm5Fn54rAMv8ty5Z1+oDNnBOcvkdFKetVSAihwKd1XD/Vm/BYHPK1RsOGDWFiYlKqa5ZVHh/XmaCZkAeGx1N7k01prVmzBg8ePMBff/1V7GsmJiY4ceIEli9fjtjYWIwLnIddaXWRJVJ8k62sAo2qMz7K4yOEG8rj0zKuLXhyWAYODg6lDnoA4GFfC2FT3eDrUh/mxgIwTF6A8XWpj7CpbkrfNJU916t1nWIlxopiJWJY5iahe+NqJR4r4DHwdtR8tZSCHRmKEgqFcHFxQXh4OA4ePIhD997ic3au0vPJa4qrCf05fD/zMeIcTj8/QgjN+LSuNOkFuiYxPRNdfj+bt1NTARMBg/YfIhF69CiqDv0VEkbx5paymknZ2tri5MmTaNKkSbGvVatWDfHx8ahWrRoA7f58uC5Lb/Kxhr9X3sYbQkjJaManZVw+1ZfVzEfTwoP3QBy5QW5xaQGT9ya9wb8Ntq1ZjofXzsON9xisKAdgC7+xC3gMTIV5OX+aDnqvXr3Cu3fv0LhxY7lfL5rSoGpTXE1qUMMMizzrgxXlgF/kV4T//9/P9X5OaOfQEC9fvkR2drbGx0CIPqLAp2UBbrYQ8pX/GIR8HsZ0tFF6jLbt2bMHixYtwpldaxA+zR2+LvVhxEgAVgozIx582zYotAxXq1Yt7Fg6CycmtUdz4/dgcz8DLAs2N6tMl+yuXr2Ktm3bgseT/z0vGvjMjLmlb5gZlU1K7KE1C+Fj+hDD2jaQLS0LWDEaMi9l3yOBQIAGDRogIUHzy62E6CNKYNeyBjXMsN7PqcTNJrq8Q+/IkSMIDAzEv//+i4YNGwIAKj86CTZoMy5GRirtauBgbYETC0cgKysL27Ztw5QpU3D64lfosGAB6isoLl0aiu7v5RcQMBq2Fu3XxMjSFbo0+RIn7r4sMf2jLGbkZ86cwbVr13B/+3ZUqlRJlp4QHR0Nf//ZqL9klOxYOzs7PHnyBE2bNtX4OAjRNzTj0wGl2WyibeHh4Rg3bhxOnDghKy3266+/YsuWLYgsIegVZGpqiokTJ6Jfv35wcnLCrFmz4OzsjIMHD0IiKWX6RAHyAl/Eo9fosToK+6OTwBiZggWQkSPG/ugkhN9/BV4JwbcsZuS5ubmYPHkyVq1ahUqVCuc7tmnTBmKxuFA6RsOGDfH06VONjoEQfUUzPh3RoIYZFns5VKik4/Pnz8Pf3x8hISFwdnYGAPzyyy/Ytm0bIiIi1Opf17lzZ9y+fRu3b9/G8ePHsWzZMsybNw+zZ8/G8OHDZU1j1SGRSHD9+nW4uLjIHivYcaKo/LY/RgIejAU8SIq0ASpYf1TTM/JVq1bBxsYG/fr1K/Y1hmEwdOhQ7N+/X9Y9vmHDhoiLi9PoGAjRVzTjI2qJjo7GwIEDsW/fPnTo0AEAsGzZslIFPQDo1KkTIiMjwePx0K9fP1y6dAmbNm1CUFAQ7OzssGLFCrlFpLm4f/8+6tSpg+rVq8se2xwVD5FEeSFMqZRFTweLQjNyASuCPf9NmczIX7x4geXLl2PNmjUKl3rzA1/+puyGDRviyZMnGh0HIfqKAh9R2d27d9GnTx9s2bIFXbt2BQAsXboUO3bsUGl5U57mzZvjw4cPSEpKApA3u+nUqRPCw8MRGhqKy5cvw8bGBgsWLEB6erpK55a3zBlyK6XExHuxlMWZh6+x2MsB9xZ4ImFpb+zyqo2EQ7+ifvWSy66pKjAwEBMmTJDdL5XHwcEB5ubmuHz5MoD/7vERQkpGgY+o5PHjx/D09MSqVatky3A///wzdu7ciYiIiBIbxZaEx+PB3d0dkZGRxb7m7OyMoKAgXLhwAUlJSWjUqBECAwORnJzM6dzyAp+66Qqurq7Izc1FTEwMp+dzlb+h5fvvv1d6XMHlTgCwsbFBUlISRCKRRsdDiD6iwEc4S0xMRLdu3bB48WL4+voCAJYsWYJdu3ZpJOjly1/uVMTe3h5bt27F7du3IZVK0aJFCwQEBMi9x5WYnol5IXfhsCAcZ2v5YHVyfcwLuSvrUK5uugLDMPD398fu3bu5v7ASKNvQIs+QIUMQFBQEiUQCY2NjWFpa4vnz5xobDyH6igIf4SQ1NRVdu3bFjBkzMHr0aADA4sWLsWfPHkRERMDS0lJj1/Lw8EBERESJx9WrVw8rV67E48ePUadOHbRv3x5DhgzBzZs3ARTerZmRIwYYBlliFvujk9BjdRQiHr3mVhaMlaBbwy+KPezn54d9+/Yp7OGnKmUbWuRp3Lgx6tSpg3PnzgGg+3yEcEWBj5QoLS0N3bp1wzfffIOpU6cCyAt6e/fu1XjQA4BmzZohIyODcwmumjVrYuHChYiPj4eLiwv69OmDLl5DMG5XNLJEkmL38MRSVtYUt1cLyxILCAgYYPePo/Hbb78VWkps3LgxGjRogH///Vf1F1kElw0t8hRc7qT7fIRwQ4GPKPXhwwd4enqiT58++OGHHwAAixYtwr59+xAREQELCwuNXzN/Q4uy5U55KleujMDAQMTHx6NKWx/kipTPxEQSKf659xLr/ZwggAQMW3h3Z37ptM3fuOLy6aP4999/4eTkhAsXLsiO8ff3x65du1QapzxcNrTIM3jwYBw+fBi5ubmUy0cIRxT4iEKZmZno3bs32rVrh2XLloFhGCxcuBD79+8vs6CXT53Al8/Y2BiPc6sCPOX378RSFkduJqNT4y/BO/UrutmYKiwg0LBhQ/zzzz/46aefMHToUIwePRppaWkYMmQIjh8/rnaKBQD8+++/nDa0yNOgQQPY29vjzJkztNRJCEcU+Ihc2dnZ6N+/Pxo1aiRbfluwYAEOHjyIiIgI1K5du0yvX5rAB6i2W/P69etgP77GxrFdZOkK9xZ4YrGXQ6HEdIZhMGjQIDx48ACVK1dG8+bNcezYMbRv3x4hISFqjTM3NxeTJk3ivKFFnvzlTgp8hHBDbYmITH69yiO3kpGZLQaPFcHX1Q5j/2eH7Wt/Q1BQEM6ePVvmQQ8AWJaFhYUFrl69Cmtra5Wfr0o7oS7vTqJ69eqYP3++Ste4efMmxo8fj3fv3qFmzZq4ePGiyuNcvnw5IiMjceLECbXrkr58+RJNmzZFXFwc6tWrh8zMTIVFuAkhNOMj/6/gDsjMHAnAMJDyjHDg+gt0+f1f7Dt3p9yCHqD+fb58XNs9ebWyxP79++Hn56fyNRwdHXHp0iVMmjQJly9fxvjx41Va8lR3Q0tRFhYWcHJywvnz51GtWjXOeY1loWD6iM2cE3BYEF4ofYQQXUCBjxSqVylvB6QYfDAdA5AtMC/XcXFNa5CHa7unxtIk2NraqrypJB+Px8PkyZMxaNAgXL9+Hc2aNcORI0fAZSFF3Q0t8vj6+mp9ubNo+kjBYt/56SOE6AIKfIRTvUqxlMWWC+Xb7y1/xqfOanx+uydTIb/4zE8qAZ8VY72fE8KD92D48OGlHmtAQABYlsXOnTsxd+5c9O3bt1B/vKIzoSbzTuCqxBrDxk4t9bUBwMfHB+Hh4WjQoIFWAl9JH57y00c0PfOjGSZRBwU+wrle5ZGb5buEZm9vj9zcXDx79kyt58tr9ySEBFbZCZCcWII3tyNx8uRJDB48uNRj9fDwQEpKCmrXro1bt26hQ4cO+Oqrr7B06VKcvp9SbCaULQF4jdzgvSlaIzOh6tWrw83NDTk5OVoJfFw+PIkkUo1+eKIZJlEXbW4hsJ5zHEDJ95gYBkhY2rvsB1SAr68vunXrhlGjRpV8MAepqalo1qwZ9u3bh6FDh6Jt27YIDw/XyLlnzpwJY2Nj/PzzzwCAhIQEjJs5D49tBwICI4XPMxXyETbVrdStjVZv24v1/8ZCZOUIlm8ka6Yb4GZbZo2MJRIJEhMT0WvbQ2RzaJtowmexs18tWFpawsLCAkKhUOVrJqZnYsXpRwi9nar0OE19X4n+oX58Bm7dunWAqDYgNC3x2KL1KstD/nKnpgKfpaUlunbtiqdPn6Jq1ap4+/YtWJbVSKd3f39/9O/fH4sXLwaPx4ONjQ1chn+PJ1cToWwulD8TKk0vxohHr7HhWTVkWzmD4ef9nPJnP8ExyVjv56R2+ySpVIoXL14gLi6u0J/Hjx/j2bNnqF27NhjfdXmfjEqQJWbRtWtXSKVSZGVloXLlyrCysoKVlRUsLS2L/bGwsIClpSXMzc1lr3PCnhhky+mfWJQmvq9EP9GMz4D9/fffmD17Nr7sOQkZtVoCfMWBTcBj4OtSv9zfRB4/foyuXbsiMTFRI8EJACIiIvDtt9/izZs3qFu3LqZMmYIxY8aU+rwsy6JFixbYsGED3NzcAKiWVnFvgada101Mz0SP1VFym+nmK2n2w7IsUlNTiwW3uLg4PH36FNWqVUOjRo2K/bGzs4OpqSnn12lmxMOK9jw8ePAAd+/exe3bt/Ho0SMIhUJYWFigatWqsmbDnz9/RlpaGlJTUyEQCGDR0AHibrPB8hXPnosqzfeV6C+a8Rmo1atX4/vvv0flypXh61Qbu9OMkCVSPC8R8nkY09GmHEeYp1GjRhCLxYiPj4ednZ1GztmpUye8e/cO7dq1w/Lly+Hu7o5OnTqVendlwY4N+YFP3bZHquB8fy0qHpPb15Yb3OLi4mBmZlYoqPn6+qJRo0Zo2LChbMZVUGJ6Jn4Of4KQWymcgp6Ax8DHqR48PR3g6flfMGJZFsnJyXjw4AHu378v+++jR49gYmICV1dXNGzYEM9rtUOcVAhVPqmX5vtK9BcFPgPz4sULjBkzBqdOncKkSZOwbNkymJmZof2j1xi/5waysnNlS2VA3puVkM/Dej8nrdwrKZjPp6nAxzAMhEIhsrOz0bx5c8ybNw/Dhw9HVFQUBILS/ZPw8/ND69atsWbNGhgbG8PMWMBxJqT+dbluTtp5PhbrRrmjcePGsuDm7e0t+/8qVapwvmb+kqNIIi3x2vkUfXhiGAZ169ZF3bp10b17d9njLMsiJSVFFgzPplaHtKROGkWvyUrw9OlTjf3uEP1AuzoNRFpaGmbOnIlmzZrh/PnzCAsLw5o1a2BmlhfMPOxrYbB5HCwynyqsV6ktpcnnk+fu3bsAgBs3buDVq1eYMmUKzMzMsGzZslKfu169emjZsiVOnjwJgHsivbej+l3ruc4qGSNTLFq0CLNnz8akSZMwatQoDBo0CG3atFEp6ClLXZAnv9i3qh+eGIaBlZUVunfvjmnTpkHKU20jDJ8BLLKT0KFDB7Ru3RpLlizBw4cPVToH0U90j0/Pffr0CStXrsSaNWtknc2Dg4PRqVOnQseJRCLY2dnhyJEjcHZ21s5gFYiLi4OHhweSkpI0cp8vvxh0Wloa7OzsMGfOHLx48QLO7p7w+m4NLqWIkZkjVntX5NatW3Hy5EkEBwdr5P5bSbjeXxNCgm4fwpCcnIzk5GSkpKTgzZs3qFmzpmyDiZWVFerUqVPs71WrVpV97+eF3MX+6CROQc/cWABvRyuM6WhT6hUDrq8zX/73tW5VE1y8eBHBwcEIDg5GlSpVMGDAAAwcOBAtWrTQ2L1jUnFQ4NNTOTk5+Ouvv7Bs2TJ06dIFQ4cOxZgxY7B9+3b06tWr2PH79u3Dxo0bS1UYuqywLIu6devi3Llzpb4PJ5VK0aBBA4SFhSE7OxsDBgzA06dPcf5JOsb+fQ0iiaRQV4eCS71cZ73v379HgwYN8OzZM1SrVu2/nYi5IrDMf4ss6pxbnnkhd7H3aiKkSlJSFG1OEovFePnypSwQ5gfFon8Xi8WyQJjUdiokvJI3mGh6YwnXgMsAMPn/GWbR76tUKsW1a9dw6NAhBAcHQyAQYODAgRgwYACcnZ0pCBoICnx6JDE9E5vOP0XQ9UTkShjwpCJ42lfDoBY14OfVHWvXrsXAgQOLPY9lWbRp0wYLFy5Enz59tDDykvn7+8Pd3R0BAQGlOk9ERARmzJgh69Lu4uKC8bN+wvK7Ao3OygYNGoTu3bvLxpuYngmv71bjfVV7MEYmMDPSzExILBYjYPoPiDBpV6a5gp8+fZIFwlGnP0MbeZ9cZs9A3vLy9K6NS3ytLMsiJiYGwcHBOHToEHJzczFgwAAMGDAArq6uCgt95xdzD7mVUqqVAaI9FPj0RETsK4zbFY1cceEZC58BxKIcDLfOxpKJw+Q+NzIyEt9++y0ePHigs1X9t2zZgoiICOzZs6dU5xk9ejSaNWuGwMBAAMCOHTuw+uJLfKrVUulMQtV0jtDQUPzxxx84f/687LEmTZqgUaNGOHbsWKleQ76PHz9iyJAhkEqlmLLsL8wMeYRcsQSSAi9DU7PKgrinaPBxb0EPjVwzn6JNNaV9nSzL4t69e7Ig+O7dO/j4+GDgwIHo2LEj+Hx+mV6flC8KfHpg37HTmBOVASjJb1L2ib9v377o27cvxo4dW5bDLJWnT5/Czc0NycnJai9HZWVlwcrKCvfu3UOdOnVkjzWZdwKMUckJ/Kos3eXm5qJOnTq4fv26rK1SlSpVEBAQgN9//12t8ReUmJiIPn36oGPHjli7di0EAgES0zPx/Y7TuPqKBSsw0tissihOS45SCXIfRmBoQwbffvstGjdurLHrJ6ZnYsuFBBy5mYzMXHGZvM7Y2FjZPcHk5GR4e3vDracPltyQKE37oWoxFYNufrwnnERHR6Nr1674YedZ8PjKd7wpqpMYGxuLa9euaaRQc1mytbUFn89HXFyc2uc4duwY2rRpIwt6AGBqagpGaMLp+arkhBkZGWHQoEHYu3cvgLzGvhkZGXBwKH0BgCtXrqBdu3YYPXo01q9fL0vBaFDDDK1EsRiIywqb6WoCl84XpsZGOLj4WxgbG8PNzQ1du3ZFcHAwRCJRqa/foIYZFns5KG0aXFpNmjTB3LlzERMTg8uXL8POzg5LDl3C5+xcpc/TdD1SUjYo8FVADx8+xIABA+Dt7Y3BgwejUnN3pRsbAMVFpleuXInx48fD1LTkGY82lbY/HwDs3r0b/v7+xR6vZMTtn4GquXbDhw/Hrl27wLIsnj59CmNjY9SvX1+lcxR14MAB9O3bFxs3bsS0adOKzX7j4+Nha2tbqmuURFnni4KpCx1b2WPZsmV4/vw5Ro8ejdWrV8Pa2hrz58/HixcvynSMmmRra4tZs2aBb9euUI6rPNoo5k5UR4FPB3BtrfL8+XOMGjUK7u7ucHV1RVxcHMaOHYvPORyqA6P4jOX169c4ePAgJkyYoLHXUpZKk8+XlpaG8+fPw9vbu9jXfJzqAdISvodSMSq9uovXr7lX/G/Xrh1ycnJw8+ZNPH78WJaXpg6WZbFkyRLMmjULp0+fRt++feUe9/Tp0zIPfID8zheK8j6NjY3h6+uL8+fPIzw8HGlpaWjZsiW8vb1x6tQpSKXKq87oCs5VeFRIuSDaQff4tIzLzXKH6gyWLl2KnTt3Yvz48Zg5cyaqVq0qO1bdepALFixAamoqNm7cqNHXVFbi4+PRoUMHpKSkcLrPV3D3XUaOCHypCL7tGhbbfZeYnomuKyIgkio+p6mQh845VxD890asWbOGcyujn376CRkZGahVqxZ+/PFHvHv3Tm75L2VycnIQEBCABw8e4NixY7C0tFR4rI2NDU6fPq2R5rZl6dOnT9i7dy82bNiAzMxMjBs3DiNHjkSNGjWKHasruyi5/juT5nyGQ+x2DBgwAP369cOXX35ZDqMjqqDAp0VctmcLIMH7fd/Bt29XzJ07FxYWFsWO4bLZoOiuxKysLFhbW+PcuXNo0qRJ6V9MOWBZFtbW1ggPDy9xzKruvvv3QSpGbbsMgZGx0l2RV69exTfffAMHBwesW7cOtWop38H36NEjdOrUCZ07d8bhw4eRlZWl0mtOS0uDj48PvvzyS+zcuVNWaUcekUgEc3NzfPr0CUZG3As5axPLsrhy5Qo2bNiAo0ePol+/fhg/fjxcXV3BMIxO7aLk+u9soKMFHCVxOHz4MMLDw+Ho6AgfHx94e3ujbt26JV5HVwK9PqOlTi3i1PmcBfwWb8XatWvlBj2A22aDonUSd+3aBRcXlwoT9ADu9/nU6QbepZklBpo9hlX2M6VLd23btsXNmzdha2uLli1b4uDBg0rHYm9vj3r16uHatWslBsmiYmNj4erqivbt2yMoKEhp0APylsItLS0rTNAD8n6m7dq1w86dO/HkyRO0bNkSw4cPh6OjI35dtzWvfmw5d3VXhOu/s/Ee9hgyZAgOHDiA1NRUzJgxAzdu3ECrVq3g6uqK5cuXK2wWTM11ywfN+LRIky1rVPlkLJVK0axZM/z111/FSpfpuu3btyM8PBz79+9XeIw6M2AASE5ORosWLZCYmIjKlSuXOBaus781a9Zg5syZaNu2LaKioko8LwCcPXsWvr6+WLZsGedehKdPn8ayZctw9uxZTsfrKqlUijNnzuCHw7fx5ovGSjeUlHe7rNLMQEUiEc6dO4fg4GCEhISgVq1a8PHxgY+PDxwcHPD87ecyL29H8tCMT4s02bKm4GYDI0YCsKzCzQYnT56EmZkZ3N3d1R67tnh4eCAyMhLKPq9x7VZQdPedlZUVPDw8sHv3bk5j4TL7S0zPRFwVJ1hM2oOkDt8p3LhU0JYtW+Dr64v9+/er1IBXk62btInH46F79+7Itmipc7soVdnUU5RQKETXrl2xYcMGvHjxAuvXr8fHjx/Rt29fNG7cGKN/25tXgEIJSpfQDJrxaVFZNSn97bff8OrVK4WJ0p06dcLYsWMxbJj8Si5lrbT3MKytrfHPP/+gadOmAPKSxe/fv4+YmBjExMTgROWenLqBg5WiXeJe2NrawsbGBjY2NkhJScHy5ctx584dlRLl5c3+8mcHXKupSKVSfP/99zhy5AhOnDihctL3d999h6pVq2LOnDkqPU9X2cw5wan3nqZLo5U3lmVx8+ZNDAlKgohDpzhqrlt61I9Pi/q3rsNpSU7VljW5ubmyLtZF3bhxA/Hx8Rg0aJBK59QUeUtF+fcwgmOSS9ys8PnzZzg4OGDhwoUwNzdHTEwMYmNjYWdnBycnJzg5OeHfNwyyOWR4mAp56N27N+Lj43Hx4kXs3r0bCQkJSEpKgpWVFZo0aQIbG5tCgdHGxga1a9cuFhTzZ3/z589Hq1at8NNva7HmsbncZSuxlIVYmnd/Kn/ZKjMzE/7+/nj79i2uXLkid3djSeLj4+XWYq2oyqOXoS5gGAZOTk4QB6VyOp6a65Zexf6NqeAC3GwRHJMMsZIcMnU6n+fk5Cjc4PDHH39g6tSpEApV622mCQU3nRQlLxh8+PABt27dws2bN2Wzufj4eNSqVQs8Hg+zZs1CQEAAWrRogUqVKsnO9Ybr7rs29eHvVXym8NtvvyEqKgqTJ09GQkIC4uPjERoaioSEBCQkJODz58+wtraWBcKCgXHu3Lnw8fHBsBWhkNi4Agxf4RiyRRKsPPMYs91qo2/fvmjRogX279+v8ENLScorh6+8lNUHQ11lKIFeF9BSp5aVxXbt77//HlWrVpX1ncv3/PlzODo6Ij4+XqXGo5rCZdMJAym+/PAY707/hdTUVLRs2VI2k3NyckKzZs2QmpqKr776Cq9evZK7HFnaHnhv376Fra0t4uLi5OZgffr0SRYE8wNjwb+bmprCfORGQMCtFJr0xR0Ma2KEZT/MULsOKcuyqFq1KuLj49WaLeqi8uhlqEvU3ZRFVEeBTwdouuju9OnTUa9ePcyYMaPQ4zNnzgTLsvjjjz80NXSVcL2nacyT4oifHezt7WVV8YuytbXFsWPH0Lx5c7lfj3j0GuN25ner+O8cXD9QjBo1Cvb29vjuu+9KHG9BLMvi9evXcF11ndP9qf9/FkwEfGzwd1Y7J+3t27ewsbHB+/fv9aqnnC7l8ZU1Qwv02kSBTw9NnDgRzZo1w8SJE2WPffjwAba2trh582ap60WqS1ObFRLTMzFs0Va8MbOBiOUp3BwzZtr3SK3SFImMhcofKKKjozFkyBDExcUpDL7KqNotHFDvTS1/o1DwjSRkiaQwNxHqXbJzeXRj0BWGFOi1iQKfHhozZgzatm1bqGnrH3/8gRs3bsi6BWiDJnax5r8x5IjEhQpzy3tjsLe3x4EDB9C6dWu1xtumTRssWrRIbsd6eQqXSFN9A4Kqy1j0JqmfDCnQawsFPj00YsQIdOnSBV9//TWAvMRZOzs7HDlyBM7OzlobV2nvYaiyFCT58Eqlup7ybNu2DUeOHOHUOFZREFIV163qtCxGiPpoe5AeKprOcOjQIdja2mo16AGl38XKpcRbfoJvnZQoeHp6lup+19ChQ/Hd4t8xddcl/Pv0k8KcQ2W7VVX1KTsXDg4OsLCwgIWFBSwtLWX/X/DP5qgUzt8L2ghBSGEU+PRQwXSG/M0s8+fP1/Ko/uvjVtLynKIZiioVWexuhmHo0KGlGu/VpAx8MeQXHH2QDvb/ixzJyznkEpC5YsS5mD59OurXr4+XL1/i5cuXSE5Oxo0bN2R/T01NReWRm8AzrqT0XPnfCwp8hBRGgU8PFZzxnT9/HhkZGejdWzcqW+SXfFLnHoYqJd4iIyOxdetWtceZP4uTyMnDK5hzuGNIIxy89gxitvTV/wQ8Bi6WfPz8889wcHDA8uXLFRYR57pRiJKdCSmOAp8eKjjj++OPPzB9+nTweLpTlrVBDTMs9nJQeSbCNcHXhA80adIENWvWVHeInGZxWTm58P5+LYyadwU4raiyUHagkM/Dsm+6wWLSQ/z5559wc3PD4MGDsWDBgmL5hJTsTIj6dOfdkGhM/owvNjYWV69exYgRI7Q9JI3o37oOBDzlEUbAY2AlSkaPHj1KdS0uy6rg8VHduSfMTbhVweEput8olcBUyJct8xobGyMwMBCxsbEQCARo2rQpfv31V2RnZ8uewvV7oS9VTQjRJAp8eih/xrdy5UqMHz8epqam2h6SRnDph8awUrw8t6/UgU+VZVUuQYjPAH5tG+DczE4Y7tpAVtmfEeeAjYuCb9X4YqkHNWrUwOrVq3Hp0iVcuXIFTZo0wb59+8CyLALcbMErYbGTz2NULndHiCGgdAY9kp9HtvvCY0BoAjY3CwPb1MeU7s31Zku7stw1PgNkhK3E+4eX8OHDBwgE6i/zqZJzeGJyR7VTC+7evQsPDw8Aef30HB0dFZ7j3LlzCAwMBJ/Px5IlSxAwfxUEnSZArOBfsJGAh42lqAZDiL6iGZ+eKNi5GcK8GpGMkSlC76XpVedmZf3QTk13x/j+7pBKpSV2Ri+JKkuJ+btVTYX8Ys9hJWKYCBXvVm3RogUGDRqENm3aYOjQocjIyFB4PXd3d1y7dg2TJ0+Gj48P8PEVeErGmCuWlmuHckIqCprx6QFKZv7PkCFD0KJFC6xfvx4rVqxQO6UhMT0TXX4/C7GSz4ZFv6dFK25Icz7DIjsJBxeNU/p9f/PmDZo1awY3NzdUqVIF27dvVzq2yMhI+Pn5ofnXi/BIXFOnOpQTUhHQjE8PqJLYrc/EYjFOnz6NUaNG4dSpU5g+fToOHDig1rmeP4jB51OrYSJgis3iBDym0GaUfPm7Ve8t8MQ8u5f4sDUAcz0blvhh48svv8QPP/yAjIwMXL58WWlZuczMTIwePRp//fUXUozq6lyHckIqAgp8ekCVxG59Fh0djXr16qFOnTpwcHDAqVOnMG3aNAQFBal0ntevX2PYsGHYuiQQ4dPc5S6rhk11k3vvLDE9E7MOXMeiB1VQ5dvd+P66APNC7pa43Dhx4kQkJiZi4sSJmDp1Kp4+fSr3uB9++AHt27dH3759VdqAQwj5DyX56AF6A8wTFhZWaDdnixYtEBYWBk9PT/B4PAwYMKDEc0gkEgwbNgxff/01evbsCQCccw7zN95k54rAGOXtpP0sYjl1lzcyMsKKFSsQGBiIuXPnYtDI8egx7TccvfNSViqtbW0GYWHncPfyWQCUy0eIumjGV4ElJydjzpw5kOZmcTpe398AiwY+AGjVqhXCwsIwceJEHD58uMRzLFy4EFKpFAsXLlTp2gXrdbJM4X9WYimLLJGkxI0mvXr1Qp3GLRHyzhJv20/B3mtJyMgRg0VeqbR/n2XBbOAS3H6TF+wol48Q9VDgq4Bu3LgBf39/tGjRApmZmejXytLg3wDT09MRGxuLDh06FPta69at8c8//2DChAkICQlReI7w8HBs3boVe/fuVbkHnybus0Y+foMXLb9BQo5ZXlPCognvPAFypYwsgHLJa1RW9JsQQ0WBr4KQSCQICQmBu7s7vL290bp1a8THx2PNmjWY2bt1iW+AElEuBrWoUU6jLX+nT5+Gu7u7rFRbUY6Ojjh58iTGjRuH0NDQYl9PSkrC119/jb1798LCwkLl65f2Pmv+jDFXwpbYUSI/gCpLo+AzACvKwRQnU73fyUuIqijw6biMjAysXbsW9vb2WLZsGSZMmICnT59i5syZqFq1KgAofQPM24HIg6v4Lgb38sCTJ0+08CrKnrxlzqKcnJxw8uRJjB07FkePHpU9LhKJMGTIEEybNg3u7u5qXb+091lV6fBQMIAqymsc1rYBFrUzxqLxQ/X2Z06IuiiPT0clJSVh7dq12LZtGzp16oQZM2agXbt2SmcDJXVu3rhxI+bPn4/9+/ejU6dO5fdiyphUKkWdOnVw6dIl2Nralnh8dHQ0evfujW3btqFPnz6YMWMG4uLiEBoaqnYx74bfh0LMlHwPVVGjWa6VYvIxDJCwtOSOG5s2bcJvv/2GoH8icOjeO4TcSlHYV5AQQ0GBT8dcu3YNK1euRHh4OL755htMnjwZNjaau0dz5swZDBs2DMuWLcPo0aM1dl5tunXrFgYPHozHjx9zfs61a9fQt29fjBkzBnv37sWNGzdQvXp1ta7/6NEjdJ69EaYOXSBWMmlTlkzOtc1QPq6d2gHgmznLcU7SCHyhscIeiFTWjBgSWurUARKJBMHBwejYsSMGDx4MFxcXPHv2DCtWrNBo0AOArl27IioqCr/88gtmzZoFiaT0XcO1jcsyZ1EuLi5Yt24dli1bhmnTpqkd9FiWxZQpUzCmoy2EJWyIUbbRxMyY+45bVTYqJaZn4qqwJVi+UbF7kFx3mxKibyjwaVhieibmhdyFw4Jw2Mw5AYcF4QoTmD9+/IhVq1ahUaNG+OOPPzBt2jQ8efIE06dPxxdffFFmY7S3t8eVK1cQHR0NHx8fpfUhKwJ1Al9WVhZ+/vlnzJgxAz///DPCwsLUunZoaChevHiBedPGlXCftXill4K4pCbkU2WnJlX1IaQ4WurUIGWdAwouKSUmJmLNmjXYsWMHunbtiunTp8PV1bXcx5ubm4sJEybg+vXrOHr0KOrXr1/uYyitjx8/wsrKCi9fvoSZGfd7VWPHjsWnT5+wd+9eXLlyBV5eXti9eze6d+/O+RxZWVlo1qwZtmzZgi5dugAocp81RwSeVIRh7RuV2F2eS71VADAW8PCXCh0XVOkywXXplJCKjgKfhnB54zLmA/bxh3ExPASjRo3C5MmTtR5sWJbFihUrsGLFChw+fBht27bV6nhUFRISgvXr1+PUqVOcn7Nz504sXboU0dHRqFy5MgDg4sWL8Pb2xp49e9CtWzdO51m4cCHu37+vsBPEs2fP4OrqitTU1BJTFID8D043kJWTC/CKL312tq+F+X2bqbQZheu9Q66bZQjRB/pdyqMccVlSyskVg2naGc82rpK94WobwzAIDAxEo0aN0KdPH/z5558YMmSItofFmarLnPfu3UNgYCAiIiIK/Qw6dOiAw4cPw8fHB/v27ZPN4BRJSEjA2rVrERMTo/AYa2trGBsb49GjR2jSpEmJY/OwrwVP6Q1EvTdCjmUruTtzVUVlzQgpjn7bNYRLAjP4AjyV1NSZoFdQv379cObMGfTr1w+PHj3Cjz/+yGmWok0syyIsLAxTpkzhdPynT58wcOBA/P7773BwKL6zsmPHjggODsaAAQOwf/9+dO7cWeG5ZsyYgenTp5c4Y+/UqRPOnTvHKfDFxMRg3+a1uHXrFiwtLUt+QRz0b10H+6OTlP5u6ntVH0KKosCnIfpQKLpVq1a4evUqvLy8EBsbi61bt8LU1FTbw1Lo0aNHkEqlaNq0aYnHsiyLsWPHomPHjvj6668VHufm5oagoCAMGjQIBw8ehE2Lr7A5Kr5Q/ptzDQnuxKdg377AEq/r7u6OM2fOYNy4cUqPy83NxciRI/H7779rLOgBQICbLYJjkiGWKl6Cp7JmxNDQrk4N4bodXdeXlCwsLBAZGQmpVAoPDw+8fPlS20NSKL/zApeZ6YYNG/Dw4UOsXbu2xGPd3d1x8OBBDJ2xGN1WRmJ/dOFi0edeiMDv8xMuJ37kdK7IyEiUdCt92bJlqFevHvz9/Us8pypKruqjfLcpIfqIAp+G6FOlfFNTU+zbtw89evSAq6sr7ty5o+0hycX1/t7169cxf/58BAUFcZ7B2rT4Cl/0nIFcCYovE/IEyJWCU/6bra0t+Hy+0rJht2/fxrp167Bx48YyWV5WVNZMWV9BQvQZ7erUEC67Ok2FfIRNdatQn6737duHKVOmYPv27ejTp4+2hyOTlZWFWrVqISkpSVazVJ53797ByckJv//+O6d+fPnmhdzldG9MUSWWgvz9/eHu7o6AgIBiXxOJRGjbti0mT56MkSNHch4fIUR9NOPTEH1dUvL19cWxY8cwduxYrFixosQlu/Jy7tw5tG7dWmnQk0ql+Prrr+Hl5aVS0AM029U+f4OLPL/++itq166Nb775RqXxEULURzM+DSupUHRF9fz5c/Tt21dW6ktR+5+ylJieKdtokpEtgpCRYkhbG4WFlpcvX44jR47g3LlzKo9Xk/lvcXFx6Ny5M54/f15oKfPevXvw8PBATEwM6tWrp9L4CCHqo8BHOPv06ROGDRuGzMxMHDp0SO36lurgWhUn3/nz5zF48GBcu3ZNrSIBmqx4wrIsrKysEBUVBTs7OwCAWCyGq6srvv32W4wZM0bl8RFC1EdLnYSzypUrIyQkBE5OTnB1dVWpG0Jp5DdpzRJJOBVafvXqFYYNG4YdO3aoXRlHk5uVnr/9jHres9Bz6wNZ/dZ+i/fC3MJGbzpkEFKRUOAjKuHz+fj9998xe/ZsuLm54ezZs2V+TVUKLUskEgwbNgwjR45UuXB1QWM62oCVKJ/xccl/i3j0Gj1WR+HNF42Qy/JkKRH3s6rgpeNIRD5+o/YYCSHqoaVOoraIiAgMHToUixcvxtixYwvdg9Nks1NVlh29JRdw6dIlnDp1CvwS2gQpIpVKMXHiRFx+9hHZbfwhlrJq9bHT152+hFR0FPhIqcTFxaFPnz5w7jsCNys5c74HpwrOG00AiHaNw40bN1C7dm21riUWizFq1CgkJibi2LFjeCfiY8uFBOy/8hQi8GFuLOS8WUmTKRGEEM2hwEdK7U58Krz+ugqWL1R4TGlmNlxnfGxuFnZ51cL//vc/la8B5JUN8/Pzw8ePH3HkyBFUqlRJ9rXJkyejUaNGnOuCqjJuaglESPmie3yk1A7eSQNfqDxdoDTNTjk1aWVZ8IxMIKldcjFoebKzs+Hj4wORSISjR48WCnoAkJ6ejho1aqh0Tn2o30qIPqLAR0qNa7L34ZgXEItVf5MPcLOFkF/CryrDgAXDqYxYURkZGejduzcqV66MoKAgGBsbFzsmLS0NNWvW5HSu4OBgjBgxAtLcLE7X1/X6rYToG/oXR0qN68wmI0cEExMTmJiYoEqVKvjiiy9QpUqVYv8v7+/TvzLHL5c/oKTOT/kzS673zD58+IBevXqhSZMm2LRpk8INMcpmfC9fvsSxY8cQGhqK8+fPw9XVFV5eXqhexQrHH76jlkCE6BgKfKTUuDY7ZXOz0a5dO3To0AHOzs5o2LAhsrOz8eHDB3z48AEfP36U/X98fHyhv3/48AFSj7mAsPhsrKD8MmJcAl9aWho8PT3Rvn17rF69Gjye4lll0RlfbGwsQkNDERISgtjYWHh6esLPzw+7d++WlVFLTM9E+OMoaglEiI6hzS2k1LjuXhzkaAmPL97g7NmziIiIwIMHD+Di4gIPDw94eHjAxcUFQqHiDTKaLCP28uVLdO3aFX369MGyZctK7IpgZmaGkJAQnD59GqGhocjMzES/fv3Qv39/dOrUSWFJNFUrzhBCyh4FPlJq6uarffjwAVFRUYiIiEBERASePHmC9u3bo3PnzvDw8ICjoyMEgv8WJbjukjQz4uP+QsXJ60lJSejSpQtGjBiBuXPnKgx6WVlZOHPmDA4fPowdO3agRYsW8PLygpeXF5ydnTm3ENLX+q2EVFQU+IhGaGJm8/btW5w7d04WCJOSkuDm5iYLhEHPeDgQ/ULpzJJhpTB/dRtHlk3CjitJxZLpPRsIMMKnFyZPnowZM2YUe35aWhqOHz+O0NBQnD17Fo6OjujUqRPWr1+P169fq/8NIoToDAp8RGM0PbN5/fo1IiMjERERgbNnzyI9hwfzQUsBgeLUCVMhHzUSzyLFogN4AmGhIMlnALEoB0PqfMLy6V/LHn/69ClCQ0MRGhqKW7duoWvXrvDy8kLv3r1Ro0YN3L59G/7+/rh7967Kr4EQonso8JEKY/v27Zi9cgcq95wOKcsA/P+WQfkMYCTgY0HfZph/7D6yRYpre5oK+VjuUQVX/z2BkJAQpKWloW/fvvDy8kKXLl2KdWk/e/YsFi9ejIiIiDJ7bYSQ8kO7OkmFcOvWLcyePRsnTpxAbbvm2HIhAbsvPALLNwafFUEUdwk5D05j1btvkGveEHkFzOT7nJ2DaRuOYqCNFJs3b0bbtm2V7uhUJ3mdEKK7KPARnffy5Ut4eXlh3bp1cHFxAQAs9nLAgVk+OHr0KJo0aQKW7Y8nT56g9/bYvNmgEgxfANNmnfArxzJhXJPXCSEVA1VuITotKysLXl5eGD16NAYPHix7nGVZJCUlyTqXMwyDRo0aQcRy+5VWpUwYzfgI0S8U+IjOYlkWo0aNgp2dHX788cdCX0tLS4OpqSnMzApvmjEz5raIoUqZMJrxEaJfKPARnbVo0SIkJCRg69atxXLmkpKS5HZX12Tn9Hw04yNEv1DgIzrpwIED2LZtG0JCQortsgRQaJmzIC4FrVUtE0YzPkL0CwU+onOuXr2KSZMm4dixY7CwsJB7zPPnz+UGvgY1zDCuOQ8Q54BfZOIn4DEwFfKx3s9JpbxCmvERol8o8BGd8vz5c/j4+GDbtm1o2bKlwuMULXWKRCJsWjgN85x56FRXAEacA4bJa/bq61IfYVPdVK6NSTM+QvQLpTMQnZGRkYF+/fph+vTp6Nu3r9Jjnz9/jlatWhV7fO3atahfvz5GD/ECb/t2SN6cx44dO0o1LprxEaJfKPARnSCRSODn5wdnZ2cEBgaWeLy8GV9qaiqWLl2KixcvgmEYxMfHw9bWtlTjys3NxefPn1GlSpVSnYcQojtoqZPohDlz5uDDhw/YsGEDp64H8ja3fPfddxgzZgzs7e0BAPHx8bCzsyvVuN6+fYvq1atz7sRACNF9NOMj5SYxPRObo+KLdUyo9uomDh8+jKtXryrsa1eQWCzGy5cvYWX1X0rChQsXEBERgYcPH8oee/r0aalnfHR/jxD9Q0WqSblQ1LaIzwDi3Bws6dEAw7s6czpXUlISXF1dkZycDCAvEDo7O+OHH37AkCFDZMd9+eWXuHfvHmrXrq3yePOD9KHrz5EtZmFuIkT/1nUQ4GZLPfQIqeBoqZOUucT0TEzYE4MskaRYLz0JCzBCYyw9/waJ6Zmczlc0lWHjxo2oXr16oZJmHz9+xOfPn1GrlurdzSMevUaP1VHYH52EbAkAhkFGjhj7o5PQY3UUIh5RXz5CKjIKfKTMbY6Kh0iiuE0QAIgkUmy5kMDpfAXv77158wYLFizA2rVrC92HS0hIgK2trcr35pQFabGURZZIggl7YjgHaUKI7qHAR8pcyK0UpV3TgbygcuRmMqfzFdzROWfOHPj7+8PBwaHQMeru6NR0kCaE6B4KfKTMZeZw64TAtWNC/lLntWvXcPLkSSxYsKDYMepubNF0kCaE6B4KfKTMabpjQlJSEqysrDBx4kT88ssvcnPs1E1l0HSQJoToHgp8pMxpumNCUlISbt26BSMjI/j7+8s9Rt2lzrJoa0QI0S0U+EiZ03THhMTERGzcuBF//vkneDz551U38JVFWyNCiG6hj62kzDWoYYb1fk5y8/gEPAZCPk9hx4SiSe+VjPhgnYegd0MTODo6yr2eRCLB8+fPYW1trfJYA9xsERyTDLFUovAYVdsaEUJ0CyWwk3KTmJ6JLRcScORmMjJzxTAzEsDb0QpjOtrIDXqKkt5ZiQimxsbY4O8st9PC8+fP0b59e7x48UKtceZf93N2Dhj+f58NCwZpVTs8EEJ0BwU+opMS0zPRY3UUskSKZ158Btg1ui3a2xUuKRYREYH58+fj/Pnzal8/7MINjF8dBLPmHpyCNCGk4qClTqKTuOTTSVhg+LZr2DKiTaEZmCa6MsScD0e/OllYvcCzVOchhOge2txCdBKXfDoAkEjZYpVUNNGV4eTJk+jVq1epzkEI0U0U+IhO4ppPBxSvpFLaGd/bt29x584duLu7q30OQojuosBHdBLXfDqgeCWV0ga+8PBwdOrUCSYmJmqfgxCiuyjwEZ3EJZ+uoIKVVEob+GiZkxD9RoGP6CQuSe8F5VdSKU07IiAvBzAsLIwCHyF6jAIf0Un5Se98DpO+gpVU8md7qrYjyhcdHQ0LCwtZ9wdCiP6hPD6i0y49TcPwbdcgUbLD05jPYPtIF5y8m4qg6ETkSKB2x/SffvoJubm5+OWXXzQxfEKIDqLAR3SeogouAh4DhpXi840QmH/lDQnLKCyHxrXSirOzM1auXIn//e9/Gn8dhBDdQIGPVAiKyp31dLDAN9uuIldJrrupkI+wqW4lzvxSU1PRvHlzvHr1CkKhUMOvgBCiKyjwkQptXshd7I9OUprsLuAx8HWpj8VeDgqPAYBt27YhPDwcBw4c0PQwCSE6hDa3kApNkx3TKY2BEMNAgY9UaJrqmC4SiXDmzBn06NFDE8MihOgwCnykQtNUx/QLFy6gcePGqF27tiaGRQjRYRT4SIWmqY7ptMxJiOGgwEcqNC4VXhhWWmLH9BMnTqB3796aHBohREdR4CMVWn6FF1Mhv9jMT8BjYCxgkH1mLf4NVbxTMyEhAWlpaXB2di7r4RJCdAA1oiUVnod9LYRNdZOb5zemow1yhjdEly5dwLIsRo8eXez5//zzD3r27Akejz4HEmIIKI+PGIS4uDh07twZ8+fPRzdvX2yOikfIrRRk5ojBSHLhUpvBr990U6m8GSGkYqLARwxGXFwcOvtPhkmXiWAZfpHyZoCQz1epvBkhpGKitR1iMIyq10Gl7lMgYnnFkt7FUiBLJMGEPTFITM/U0ggJIeWBAh8xGJuj4iFRUtMTAEQSKbZcSCifARFCtIICHzEYmixvRgipuCjwEYOhqfJmhJCKjQIfMRiaKm9GCKnYKPARg6Gp8maEkIqNAh8xGFzKmwn5vBLLmxFCKjYKfMRgFCxvxkPhTS4CHgNTYV4eHyWxE6LfKIGdGJzE9Ez0mv47JPXbIEeKQuXNKOgRov8o8BGDk5qaimbNmuHVq1cwMjLS9nAIIeWMljqJwQkNDUWvXr0o6BFioCjwEYNz+PBh+Pj4aHsYhBAtoaVOYlDevn0La2trpKamwsyM7ucRYohoxkcMyvHjx9GlSxcKeoQYMAp8xKDQMichhJY6icHIzMyEpaUlEhMTUa1aNW0PhxCiJTTjIwYjLCwMrq6uFPQIMXAU+IjBoGVOQghAS53EQOTk5MDCwgIPHjyApaWltodDCNEimvERg3D27Fk0b96cgh4hhAIfMQy0zEkIyUcdN4leSkzPxOaoeITcSkFmjhjSLzxh+mUdJKZnUiFqQgwc3eMjeifi0WtM2BMDkUQKsfS/X28Bj4GQz8N6Pyd42NfS4ggJIdpEgY/olcT0TPRYHYUskUThMaZCPsKmutHMjxADRff4iF7ZHBUPkUSq9BiRRIotFxLKaUSEEF1DgY/olZBbKYWWN+URS1kcuZlcTiMihOgaCnxEr2TmiLkdl8vtOEKI/qHAR/SKmTG3jcpmRrShmRBDRYGP6JX+retAwGOUHiPgMfB2tCqnERFCdA0FPqJXAtxsIeQr/7UW8nkY09GmnEZECNE1FPiIXmlQwwzr/ZxgKuQXm/kJeAxMhXys93OiVAZCDBjl8RG9lJieiS1R8fj7fCz4xpVgZiyAt6MVxnS0oaBHiIGjwEf01qtXr9C8eXOkpaVpeyiEEB1CS51EbyUkJMDGhu7lEUIKo8BH9NazZ88o8BFCiqHAR/RWQkICrK2ttT0MQoiOocBH9BbN+Agh8lDgI3qLZnyEEHko8BG9RZtbCCHyUDoD0UtSqRSVKlXCu3fvYGpqqu3hEEJ0CM34iF5KSUlBtWrVKOgRQoqhwEf0Em1sIYQoQoGP6CXa2EIIUYTu8RG9kZieic1R8Qi5lYKMHBEEkGBoW1sEuNlSfU5CiAwFPqIXIh69xoQ9MRBJpBBL//uVFvAYCPk8rPdzgod9LS2OkBCiKyjwkQovMT0TPVZHIUskUXiMqZCPsKluNPMjhNA9PlLxbY6Kh0giVXqMSCLFlgsJ5TQiQoguo8BHKryQWymFljflEUtZHLmZXE4jIoToMgp8pMLLzBFzOy6X23GEEP1GgY9UeGbGAm7HGXE7jhCi3yjwkQqvf+s6EPAYpccIeAy8Ha3KaUSEEF1GgY9UeAFuthDylf8qC/k8jOlIlVwIIRT4iB5oUMMM6/2cYCrkF5v5CXgMTIV8rPdzolQGQggAyuMjeiQxPRNbLiTgyM1kZOaKYWYkgLejFcZ0tKGgRwiRocBHCCHEoNBSJyGEEINCgY8QQohBocBHCCHEoFDgI4QQYlAo8BFCCDEoFPgIIYQYFAp8hBBCDAoFPkIIIQaFAh8hhBCDQoGPEEKIQaHARwghxKBQ4COEEGJQKPARQggxKBT4CCGEGBQKfIQQQgwKBT5CCCEGhQIfIYQQg0KBjxBCiEGhwEcIIcSgUOAjhBBiUCjwEUIIMSgU+AghhBgUCnyEEEIMCgU+QgghBoUCHyGEEIPyfyY7QuRfLR+1AAAAAElFTkSuQmCC\n",
          "text/plain": "<Figure size 432x288 with 1 Axes>"
         },
         "metadata": {},
         "output_type": "display_data"
        }
       ]
      }
     },
     "2095f74503774d2883ff2a1196e62cda": {
      "model_module": "@jupyter-widgets/base",
      "model_module_version": "1.2.0",
      "model_name": "LayoutModel",
      "state": {}
     },
     "255137b86bee4210bd473e11440818c2": {
      "model_module": "@jupyter-widgets/controls",
      "model_module_version": "1.5.0",
      "model_name": "FloatProgressModel",
      "state": {
       "bar_style": "success",
       "layout": "IPY_MODEL_611c7a45634e467f8337000dfdd3609a",
       "max": 11531,
       "style": "IPY_MODEL_89f546e6ae1d44299dfe0848cb6b387b",
       "value": 11531
      }
     },
     "271542be29db4c1b8a50fd9106e33526": {
      "model_module": "@jupyter-widgets/base",
      "model_module_version": "1.2.0",
      "model_name": "LayoutModel",
      "state": {}
     },
     "2e3ba7be68a34bf8a5556466fa74af82": {
      "model_module": "@jupyter-widgets/base",
      "model_module_version": "1.2.0",
      "model_name": "LayoutModel",
      "state": {}
     },
     "300dbb74656144f789b058b1d17467af": {
      "model_module": "@jupyter-widgets/controls",
      "model_module_version": "1.5.0",
      "model_name": "HTMLModel",
      "state": {
       "layout": "IPY_MODEL_c96f74cf652b49bfa666785489c64505",
       "style": "IPY_MODEL_748d71a476334ac894261dfb9a51bce7",
       "value": "[epoch 1083/None]:  48%"
      }
     },
     "35cdae133bef4601b4477123428d0e5e": {
      "model_module": "@jupyter-widgets/controls",
      "model_module_version": "1.5.0",
      "model_name": "DescriptionStyleModel",
      "state": {
       "description_width": ""
      }
     },
     "3bae6e9b6c154ab7862dc6b657b54562": {
      "model_module": "@jupyter-widgets/base",
      "model_module_version": "1.2.0",
      "model_name": "LayoutModel",
      "state": {}
     },
     "3bdd87d15006476fa008190f8b29b767": {
      "model_module": "@jupyter-widgets/controls",
      "model_module_version": "1.5.0",
      "model_name": "DescriptionStyleModel",
      "state": {
       "description_width": ""
      }
     },
     "41518cea59ab44eeacae17348e55af2f": {
      "model_module": "@jupyter-widgets/controls",
      "model_module_version": "1.5.0",
      "model_name": "TabModel",
      "state": {
       "_titles": {
        "0": "status",
        "1": "plot",
        "2": "log"
       },
       "children": [
        "IPY_MODEL_a7e48b212a5844a18aceb551ad120fb4",
        "IPY_MODEL_bb72268ab59e49b8b62670853b07803f",
        "IPY_MODEL_7ac020d465654f538d130f068f1eda5f"
       ],
       "layout": "IPY_MODEL_6649b9d1c58342f496e64ec0d7550035"
      }
     },
     "41a6231b015441ed8c4891eb0a09a795": {
      "model_module": "@jupyter-widgets/output",
      "model_module_version": "1.0.0",
      "model_name": "OutputModel",
      "state": {
       "layout": "IPY_MODEL_1010c5af78704280aba8fdbdb9593b52",
       "outputs": [
        {
         "data": {
          "text/html": "<div>\n<style scoped>\n    .dataframe tbody tr th:only-of-type {\n        vertical-align: middle;\n    }\n\n    .dataframe tbody tr th {\n        vertical-align: top;\n    }\n\n    .dataframe thead th {\n        text-align: right;\n    }\n</style>\n<table border=\"1\" class=\"dataframe\">\n  <thead>\n    <tr style=\"text-align: right;\">\n      <th></th>\n      <th>val_stress</th>\n      <th>val_stress_spc</th>\n      <th>val_xing</th>\n      <th>val_xing_spc</th>\n      <th>dis_loss</th>\n    </tr>\n  </thead>\n  <tbody>\n    <tr>\n      <th>epoch 1083</th>\n      <td>411.00</td>\n      <td>13.69%</td>\n      <td>40.24</td>\n      <td>21.15%</td>\n      <td>1.93e-04</td>\n    </tr>\n  </tbody>\n</table>\n</div>",
          "text/plain": "           val_stress val_stress_spc val_xing val_xing_spc  dis_loss\nepoch 1083     411.00         13.69%    40.24       21.15%  1.93e-04"
         },
         "metadata": {},
         "output_type": "display_data"
        }
       ]
      }
     },
     "4436693a25044ffbb54d1bac34aecfd7": {
      "model_module": "@jupyter-widgets/output",
      "model_module_version": "1.0.0",
      "model_name": "OutputModel",
      "state": {
       "layout": "IPY_MODEL_3bae6e9b6c154ab7862dc6b657b54562",
       "outputs": [
        {
         "name": "stdout",
         "output_type": "stream",
         "text": "[1083] stress=411.00(13.69%) xing=40.24(21.15%)\n"
        }
       ]
      }
     },
     "4b1ea71eb64945f788b464000107775e": {
      "model_module": "@jupyter-widgets/base",
      "model_module_version": "1.2.0",
      "model_name": "LayoutModel",
      "state": {}
     },
     "4c4669fd7cdd4ab3ab08931cf34ce56b": {
      "model_module": "@jupyter-widgets/controls",
      "model_module_version": "1.5.0",
      "model_name": "HTMLModel",
      "state": {
       "layout": "IPY_MODEL_f84587c44a46411c95e8ecafa295e250",
       "style": "IPY_MODEL_9b8213a875fe4413a79604b862ef1d7a",
       "value": " 400/834 [01:03&lt;01:08,  6.34it/s]"
      }
     },
     "584bf27ee09d45b0b22978233301e332": {
      "model_module": "@jupyter-widgets/base",
      "model_module_version": "1.2.0",
      "model_name": "LayoutModel",
      "state": {}
     },
     "5b52b6bd0397444e9ed793e073eee346": {
      "model_module": "@jupyter-widgets/controls",
      "model_module_version": "1.5.0",
      "model_name": "FloatProgressModel",
      "state": {
       "bar_style": "success",
       "layout": "IPY_MODEL_fc01ed7d35754b53ba4e4b32517a24bb",
       "max": 1000,
       "style": "IPY_MODEL_735b59d85aa344bcb8bbbe286e18d59c",
       "value": 1000
      }
     },
     "5d86ec2a969c43e8ac001998af0734db": {
      "model_module": "@jupyter-widgets/controls",
      "model_module_version": "1.5.0",
      "model_name": "HTMLModel",
      "state": {
       "layout": "IPY_MODEL_271542be29db4c1b8a50fd9106e33526",
       "style": "IPY_MODEL_b0eb7bf2b3d4413496592fda98693852",
       "value": " 11531/11531 [00:00&lt;00:00, 42061.32it/s]"
      }
     },
     "611c7a45634e467f8337000dfdd3609a": {
      "model_module": "@jupyter-widgets/base",
      "model_module_version": "1.2.0",
      "model_name": "LayoutModel",
      "state": {}
     },
     "62baea182eaa460ea5bbf5794485dc8e": {
      "model_module": "@jupyter-widgets/controls",
      "model_module_version": "1.5.0",
      "model_name": "ProgressStyleModel",
      "state": {
       "description_width": ""
      }
     },
     "6649b9d1c58342f496e64ec0d7550035": {
      "model_module": "@jupyter-widgets/base",
      "model_module_version": "1.2.0",
      "model_name": "LayoutModel",
      "state": {}
     },
     "6702fcaa91794183901550c7bb370c20": {
      "model_module": "@jupyter-widgets/base",
      "model_module_version": "1.2.0",
      "model_name": "LayoutModel",
      "state": {
       "height": "500px",
       "overflow_y": "auto"
      }
     },
     "683e03f871d84629a43ee1c87d7030a4": {
      "model_module": "@jupyter-widgets/controls",
      "model_module_version": "1.5.0",
      "model_name": "HTMLModel",
      "state": {
       "layout": "IPY_MODEL_584bf27ee09d45b0b22978233301e332",
       "style": "IPY_MODEL_3bdd87d15006476fa008190f8b29b767",
       "value": " 1000/1000 [00:51&lt;00:00, 21.07it/s]"
      }
     },
     "735b59d85aa344bcb8bbbe286e18d59c": {
      "model_module": "@jupyter-widgets/controls",
      "model_module_version": "1.5.0",
      "model_name": "ProgressStyleModel",
      "state": {
       "description_width": ""
      }
     },
     "748d71a476334ac894261dfb9a51bce7": {
      "model_module": "@jupyter-widgets/controls",
      "model_module_version": "1.5.0",
      "model_name": "DescriptionStyleModel",
      "state": {
       "description_width": ""
      }
     },
     "769c425528d4462da305836a105f717e": {
      "model_module": "@jupyter-widgets/base",
      "model_module_version": "1.2.0",
      "model_name": "LayoutModel",
      "state": {}
     },
     "7725d8e0769f4a77b8bfc43f02ae02af": {
      "model_module": "@jupyter-widgets/controls",
      "model_module_version": "1.5.0",
      "model_name": "HBoxModel",
      "state": {
       "children": [
        "IPY_MODEL_80c910d9dc564e25ba3a73339017b7b0",
        "IPY_MODEL_8488b703ddb244d8af04e8edaef69f3a",
        "IPY_MODEL_683e03f871d84629a43ee1c87d7030a4"
       ],
       "layout": "IPY_MODEL_f951cdf03b534471885b7962b3ac21cc"
      }
     },
     "7ac020d465654f538d130f068f1eda5f": {
      "model_module": "@jupyter-widgets/controls",
      "model_module_version": "1.5.0",
      "model_name": "HBoxModel",
      "state": {
       "children": [
        "IPY_MODEL_4436693a25044ffbb54d1bac34aecfd7"
       ],
       "layout": "IPY_MODEL_6702fcaa91794183901550c7bb370c20"
      }
     },
     "7e9f6aa740fc4221a42bd0130824fd43": {
      "model_module": "@jupyter-widgets/controls",
      "model_module_version": "1.5.0",
      "model_name": "HBoxModel",
      "state": {
       "children": [
        "IPY_MODEL_300dbb74656144f789b058b1d17467af",
        "IPY_MODEL_ca12ebb5fce94444a80d31d121842609",
        "IPY_MODEL_4c4669fd7cdd4ab3ab08931cf34ce56b"
       ],
       "layout": "IPY_MODEL_f1a61407f7ca46b4b951bd3a0847f02f"
      }
     },
     "805da86e245547ed9dc6a0746d76b77f": {
      "model_module": "@jupyter-widgets/controls",
      "model_module_version": "1.5.0",
      "model_name": "DescriptionStyleModel",
      "state": {
       "description_width": ""
      }
     },
     "80c910d9dc564e25ba3a73339017b7b0": {
      "model_module": "@jupyter-widgets/controls",
      "model_module_version": "1.5.0",
      "model_name": "HTMLModel",
      "state": {
       "layout": "IPY_MODEL_92c03bcaf4824ffcba0c50a6793090f3",
       "style": "IPY_MODEL_aed0d19248ff472fab81c8c620dfa88e",
       "value": "100%"
      }
     },
     "8450c223014e426fa852be870eae9ab5": {
      "model_module": "@jupyter-widgets/controls",
      "model_module_version": "1.5.0",
      "model_name": "FloatProgressModel",
      "state": {
       "bar_style": "danger",
       "layout": "IPY_MODEL_8573e35246aa40658d6d55965c45063e",
       "max": 1000,
       "style": "IPY_MODEL_62baea182eaa460ea5bbf5794485dc8e",
       "value": 74
      }
     },
     "8488b703ddb244d8af04e8edaef69f3a": {
      "model_module": "@jupyter-widgets/controls",
      "model_module_version": "1.5.0",
      "model_name": "FloatProgressModel",
      "state": {
       "bar_style": "success",
       "layout": "IPY_MODEL_02cbe4b3b5824e71a933de1afe86a790",
       "max": 1000,
       "style": "IPY_MODEL_cb93440cc45b45a19f40481cc109aa03",
       "value": 1000
      }
     },
     "85385ed2185b40f29e14add8427a43b4": {
      "model_module": "@jupyter-widgets/controls",
      "model_module_version": "1.5.0",
      "model_name": "DescriptionStyleModel",
      "state": {
       "description_width": ""
      }
     },
     "8573e35246aa40658d6d55965c45063e": {
      "model_module": "@jupyter-widgets/base",
      "model_module_version": "1.2.0",
      "model_name": "LayoutModel",
      "state": {}
     },
     "864f7639cda04ee89cd0e941addf03ee": {
      "model_module": "@jupyter-widgets/controls",
      "model_module_version": "1.5.0",
      "model_name": "HBoxModel",
      "state": {
       "children": [
        "IPY_MODEL_10230f4661f743148e7bd92a07f9613a",
        "IPY_MODEL_5b52b6bd0397444e9ed793e073eee346",
        "IPY_MODEL_0bdd76f9a6724364af9c5affcb67fccf"
       ],
       "layout": "IPY_MODEL_2e3ba7be68a34bf8a5556466fa74af82"
      }
     },
     "89f546e6ae1d44299dfe0848cb6b387b": {
      "model_module": "@jupyter-widgets/controls",
      "model_module_version": "1.5.0",
      "model_name": "ProgressStyleModel",
      "state": {
       "description_width": ""
      }
     },
     "8aba7be6f0fb45ec8cd4aa0ea954df9d": {
      "model_module": "@jupyter-widgets/controls",
      "model_module_version": "1.5.0",
      "model_name": "HTMLModel",
      "state": {
       "layout": "IPY_MODEL_b69a7217713049d6b94838d8ad172217",
       "style": "IPY_MODEL_85385ed2185b40f29e14add8427a43b4",
       "value": "100%"
      }
     },
     "8bf48fb49bb641e180820559fc081677": {
      "model_module": "@jupyter-widgets/controls",
      "model_module_version": "1.5.0",
      "model_name": "HTMLModel",
      "state": {
       "layout": "IPY_MODEL_2095f74503774d2883ff2a1196e62cda",
       "style": "IPY_MODEL_35cdae133bef4601b4477123428d0e5e",
       "value": "  7%"
      }
     },
     "8c925be80885439e9df1ed29c7896079": {
      "model_module": "@jupyter-widgets/controls",
      "model_module_version": "1.5.0",
      "model_name": "HTMLModel",
      "state": {
       "layout": "IPY_MODEL_a8d0aee6b3c8413d89c583beee27e8a9",
       "style": "IPY_MODEL_e0cb722b5eb4426e9453230a960c4944",
       "value": " 74/1000 [00:04&lt;00:52, 17.59it/s]"
      }
     },
     "900776c2066a448b89eaadd79bd30201": {
      "model_module": "@jupyter-widgets/base",
      "model_module_version": "1.2.0",
      "model_name": "LayoutModel",
      "state": {}
     },
     "92c03bcaf4824ffcba0c50a6793090f3": {
      "model_module": "@jupyter-widgets/base",
      "model_module_version": "1.2.0",
      "model_name": "LayoutModel",
      "state": {}
     },
     "9b8213a875fe4413a79604b862ef1d7a": {
      "model_module": "@jupyter-widgets/controls",
      "model_module_version": "1.5.0",
      "model_name": "DescriptionStyleModel",
      "state": {
       "description_width": ""
      }
     },
     "9d1690db36f04ef28fc6ba332d0a4e82": {
      "model_module": "@jupyter-widgets/output",
      "model_module_version": "1.0.0",
      "model_name": "OutputModel",
      "state": {
       "layout": "IPY_MODEL_e6c3d61ce9614927b3413b418214909b",
       "outputs": [
        {
         "data": {
          "application/vnd.jupyter.widget-view+json": {
           "model_id": "7e9f6aa740fc4221a42bd0130824fd43",
           "version_major": 2,
           "version_minor": 0
          },
          "text/plain": "  0%|          | 0/834 [00:00<?, ?it/s]"
         },
         "metadata": {},
         "output_type": "display_data"
        }
       ]
      }
     },
     "9fedbf5ec0d64071a5de7e89509b37ee": {
      "model_module": "@jupyter-widgets/controls",
      "model_module_version": "1.5.0",
      "model_name": "ProgressStyleModel",
      "state": {
       "description_width": ""
      }
     },
     "a3a60da849494f4ea30ff0112618daed": {
      "model_module": "@jupyter-widgets/base",
      "model_module_version": "1.2.0",
      "model_name": "LayoutModel",
      "state": {}
     },
     "a478873dc6154548b2d5105c45840b14": {
      "model_module": "@jupyter-widgets/controls",
      "model_module_version": "1.5.0",
      "model_name": "HBoxModel",
      "state": {
       "children": [
        "IPY_MODEL_8bf48fb49bb641e180820559fc081677",
        "IPY_MODEL_8450c223014e426fa852be870eae9ab5",
        "IPY_MODEL_8c925be80885439e9df1ed29c7896079"
       ],
       "layout": "IPY_MODEL_10db1fc165d84b1fa15885f8763586d8"
      }
     },
     "a7e48b212a5844a18aceb551ad120fb4": {
      "model_module": "@jupyter-widgets/controls",
      "model_module_version": "1.5.0",
      "model_name": "VBoxModel",
      "state": {
       "children": [
        "IPY_MODEL_9d1690db36f04ef28fc6ba332d0a4e82",
        "IPY_MODEL_41a6231b015441ed8c4891eb0a09a795"
       ],
       "layout": "IPY_MODEL_a3a60da849494f4ea30ff0112618daed"
      }
     },
     "a8d0aee6b3c8413d89c583beee27e8a9": {
      "model_module": "@jupyter-widgets/base",
      "model_module_version": "1.2.0",
      "model_name": "LayoutModel",
      "state": {}
     },
     "aed0d19248ff472fab81c8c620dfa88e": {
      "model_module": "@jupyter-widgets/controls",
      "model_module_version": "1.5.0",
      "model_name": "DescriptionStyleModel",
      "state": {
       "description_width": ""
      }
     },
     "b0eb7bf2b3d4413496592fda98693852": {
      "model_module": "@jupyter-widgets/controls",
      "model_module_version": "1.5.0",
      "model_name": "DescriptionStyleModel",
      "state": {
       "description_width": ""
      }
     },
     "b46a1185d57d4a349e45a0596d267026": {
      "model_module": "@jupyter-widgets/controls",
      "model_module_version": "1.5.0",
      "model_name": "HBoxModel",
      "state": {
       "children": [
        "IPY_MODEL_8aba7be6f0fb45ec8cd4aa0ea954df9d",
        "IPY_MODEL_255137b86bee4210bd473e11440818c2",
        "IPY_MODEL_5d86ec2a969c43e8ac001998af0734db"
       ],
       "layout": "IPY_MODEL_769c425528d4462da305836a105f717e"
      }
     },
     "b69a7217713049d6b94838d8ad172217": {
      "model_module": "@jupyter-widgets/base",
      "model_module_version": "1.2.0",
      "model_name": "LayoutModel",
      "state": {}
     },
     "bb72268ab59e49b8b62670853b07803f": {
      "model_module": "@jupyter-widgets/controls",
      "model_module_version": "1.5.0",
      "model_name": "HBoxModel",
      "state": {
       "children": [
        "IPY_MODEL_15ca62bc77784f3c98adcd792d2a583e"
       ],
       "layout": "IPY_MODEL_d3a96cac943443ffa40f7cf54781b41a"
      }
     },
     "c96f74cf652b49bfa666785489c64505": {
      "model_module": "@jupyter-widgets/base",
      "model_module_version": "1.2.0",
      "model_name": "LayoutModel",
      "state": {}
     },
     "ca12ebb5fce94444a80d31d121842609": {
      "model_module": "@jupyter-widgets/controls",
      "model_module_version": "1.5.0",
      "model_name": "FloatProgressModel",
      "state": {
       "layout": "IPY_MODEL_12a79c7e05524d118037a772945f4919",
       "max": 834,
       "style": "IPY_MODEL_9fedbf5ec0d64071a5de7e89509b37ee",
       "value": 400
      }
     },
     "cb93440cc45b45a19f40481cc109aa03": {
      "model_module": "@jupyter-widgets/controls",
      "model_module_version": "1.5.0",
      "model_name": "ProgressStyleModel",
      "state": {
       "description_width": ""
      }
     },
     "d3a96cac943443ffa40f7cf54781b41a": {
      "model_module": "@jupyter-widgets/base",
      "model_module_version": "1.2.0",
      "model_name": "LayoutModel",
      "state": {
       "height": "500px",
       "overflow_y": "auto"
      }
     },
     "e0cb722b5eb4426e9453230a960c4944": {
      "model_module": "@jupyter-widgets/controls",
      "model_module_version": "1.5.0",
      "model_name": "DescriptionStyleModel",
      "state": {
       "description_width": ""
      }
     },
     "e6c3d61ce9614927b3413b418214909b": {
      "model_module": "@jupyter-widgets/base",
      "model_module_version": "1.2.0",
      "model_name": "LayoutModel",
      "state": {}
     },
     "f1a61407f7ca46b4b951bd3a0847f02f": {
      "model_module": "@jupyter-widgets/base",
      "model_module_version": "1.2.0",
      "model_name": "LayoutModel",
      "state": {}
     },
     "f84587c44a46411c95e8ecafa295e250": {
      "model_module": "@jupyter-widgets/base",
      "model_module_version": "1.2.0",
      "model_name": "LayoutModel",
      "state": {}
     },
     "f951cdf03b534471885b7962b3ac21cc": {
      "model_module": "@jupyter-widgets/base",
      "model_module_version": "1.2.0",
      "model_name": "LayoutModel",
      "state": {}
     },
     "fc01ed7d35754b53ba4e4b32517a24bb": {
      "model_module": "@jupyter-widgets/base",
      "model_module_version": "1.2.0",
      "model_name": "LayoutModel",
      "state": {}
     }
    },
    "version_major": 2,
    "version_minor": 0
   }
  }
 },
 "nbformat": 4,
 "nbformat_minor": 4
}
