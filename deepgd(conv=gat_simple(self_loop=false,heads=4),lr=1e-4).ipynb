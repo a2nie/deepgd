{
 "cells": [
  {
   "cell_type": "markdown",
   "metadata": {
    "id": "wZtYFEhHoBGp"
   },
   "source": [
    "# Import libraries"
   ]
  },
  {
   "cell_type": "code",
   "execution_count": 1,
   "metadata": {
    "id": "KJPfzpxLQI5O"
   },
   "outputs": [],
   "source": [
    "%load_ext autoreload\n",
    "%autoreload 2\n",
    "from deepgd import *"
   ]
  },
  {
   "cell_type": "markdown",
   "metadata": {
    "id": "z4eBEyB1oaJe"
   },
   "source": [
    "# Config"
   ]
  },
  {
   "cell_type": "code",
   "execution_count": 2,
   "metadata": {
    "id": "Q_-MLFhpNvxF"
   },
   "outputs": [],
   "source": [
    "cuda_idx = 0\n",
    "canonicalization = IdentityTransformation()\n",
    "config = StaticConfig({\n",
    "    \"name\": 'deepgd(conv=gat_simple(self_loop=false,heads=4),lr=1e-4)',\n",
    "    \"uid\": None,\n",
    "    \"link\": None,\n",
    "    \"generator\": {\n",
    "        \"params\": {\n",
    "            \"num_blocks\": 9,\n",
    "            \"normalize\": canonicalization\n",
    "        },\n",
    "        \"pretrained\": {\n",
    "            \"name\": None,\n",
    "            \"epoch\": -1,\n",
    "        },\n",
    "        \"optim\": torch.optim.AdamW,\n",
    "        \"lr\" : {\n",
    "            \"initial\": 1e-2,\n",
    "            \"decay\": 0.99,\n",
    "        },\n",
    "    },\n",
    "    \"discriminator\": {\n",
    "        \"params\": {\n",
    "            \"conv\": [2, 16, 16, 16],\n",
    "            \"dense\": [2],\n",
    "            \"shared_depth\": 10,\n",
    "            \"enet_depth\": 6,\n",
    "            \"enet_width\": 64,\n",
    "            \"aggr\": \"add\",\n",
    "            \"normalize\": canonicalization\n",
    "        },\n",
    "        \"pretrained\": {\n",
    "            \"name\": None,\n",
    "            \"epoch\": -1,\n",
    "        },\n",
    "        \"optim\": torch.optim.AdamW,\n",
    "        \"lr\" : {\n",
    "            \"initial\": 1e-3,\n",
    "            \"decay\": 0.99,\n",
    "        },\n",
    "        \"noise\": {\n",
    "            \"std\": 0,\n",
    "            \"decay\": 0.95,\n",
    "        },\n",
    "        \"repeat\": 1,\n",
    "        \"complete\": True,\n",
    "        \"adaptive\": True\n",
    "    },\n",
    "    \"alternate\": \"epoch\",\n",
    "    \"batchsize\": 128,\n",
    "    \"epoch\": {\n",
    "        \"start\": -1,\n",
    "        \"end\": None,\n",
    "    },\n",
    "    \"log_interval\": 1,\n",
    "    \"test\": {\n",
    "        \"name\": \"test\",\n",
    "        \"epoch\": -1,\n",
    "    },\n",
    "    \"gan_flavor\": \"dgdv2\",\n",
    "    \"gp_weight\": 0,\n",
    "})\n",
    "data_config = StaticConfig({\n",
    "    \"sparse\": False,\n",
    "    \"pivot\": None,\n",
    "    \"init\": \"pmds\",\n",
    "    \"edge\": {\n",
    "        \"index\": \"full_edge_index\",\n",
    "        \"attr\": \"full_edge_attr\",\n",
    "    },\n",
    "})\n",
    "loss_fns = {\n",
    "    Stress(): 1\n",
    "}\n",
    "ctrler_params = {\n",
    "    \"tau\": 0.95,\n",
    "    \"beta\": 1,\n",
    "    \"exploit_rate\": 0.5,\n",
    "    \"warmup\": 2,\n",
    "}\n",
    "paths = StaticConfig({\n",
    "    \"root\": \"artifacts\",\n",
    "    \"checkpoints\": lambda: f\"{paths.root}/checkpoints/{config.name}\",\n",
    "    \"gen_pretrain\": lambda: f\"{paths.root}/checkpoints/{config.generator.pretrained.name}\",\n",
    "    \"dis_pretrain\": lambda: f\"{paths.root}/checkpoints/{config.discriminator.pretrained.name}\",\n",
    "    \"tensorboard\": lambda: f\"{paths.root}/tensorboards/{config.name}\",\n",
    "    \"visualization\": lambda: f\"{paths.root}/visualizations/{config.name}_{config.test.name}\",\n",
    "    \"log\": lambda: f\"{paths.root}/logs/{config.name}.log\",\n",
    "    \"metrics\": lambda suffix: f\"{paths.root}/metrics/{config.name}_{suffix}.pickle\",\n",
    "})"
   ]
  },
  {
   "cell_type": "code",
   "execution_count": 3,
   "metadata": {
    "id": "mdMEAbH10Qaq"
   },
   "outputs": [],
   "source": [
    "if \" \" in config.name:\n",
    "    raise Exception(\"Space is not allowed in model name.\")"
   ]
  },
  {
   "cell_type": "markdown",
   "metadata": {
    "id": "WynW4ZAdBhep"
   },
   "source": [
    "# Prepare"
   ]
  },
  {
   "cell_type": "markdown",
   "metadata": {
    "id": "DR6-vYtr_i_P"
   },
   "source": [
    "## Get log command"
   ]
  },
  {
   "cell_type": "code",
   "execution_count": 4,
   "metadata": {
    "colab": {
     "base_uri": "https://localhost:8080/"
    },
    "id": "9-QpinlslcTO",
    "outputId": "b71f2ad3-e3f3-4ee1-e8ac-58e6e414abfc"
   },
   "outputs": [
    {
     "name": "stdout",
     "output_type": "stream",
     "text": [
      "cd /users/PAS0027/osu10203/deepgd && tail -n1000 -f 'artifacts/logs/deepgd(conv=gat_simple(self_loop=false,heads=4),lr=1e-4).log'\n"
     ]
    }
   ],
   "source": [
    "print(f\"cd {os.getcwd()} && tail -n1000 -f '{paths.log()}'\")"
   ]
  },
  {
   "cell_type": "code",
   "execution_count": 5,
   "metadata": {},
   "outputs": [
    {
     "name": "stdout",
     "output_type": "stream",
     "text": [
      "tensorboard dev upload --logdir 'artifacts/tensorboards/deepgd(conv=gat_simple(self_loop=false,heads=4),lr=1e-4)'\n"
     ]
    }
   ],
   "source": [
    "print(f\"tensorboard dev upload --logdir '{paths.tensorboard()}'\")"
   ]
  },
  {
   "cell_type": "markdown",
   "metadata": {
    "id": "innqkwvH_ydD"
   },
   "source": [
    "## Set globals"
   ]
  },
  {
   "cell_type": "code",
   "execution_count": 6,
   "metadata": {
    "id": "Qjq7JlSZlkQR"
   },
   "outputs": [],
   "source": [
    "if cuda_idx is not None and torch.cuda.is_available():\n",
    "    device = f'cuda:{cuda_idx}'\n",
    "    pynvml.nvmlInit()\n",
    "    cuda = pynvml.nvmlDeviceGetHandleByIndex(cuda_idx)\n",
    "else:\n",
    "    device = 'cpu'\n",
    "    cuda =  None\n",
    "np.set_printoptions(precision=2)\n",
    "warnings.filterwarnings(\"ignore\", category=RuntimeWarning)"
   ]
  },
  {
   "cell_type": "markdown",
   "metadata": {
    "id": "0da286l_ApEL"
   },
   "source": [
    "## Load data"
   ]
  },
  {
   "cell_type": "code",
   "execution_count": 7,
   "metadata": {
    "colab": {
     "base_uri": "https://localhost:8080/"
    },
    "id": "RFuSHiZJMU4x",
    "outputId": "3befa34f-6262-47a9-825d-7dcb2d6596d3"
   },
   "outputs": [
    {
     "name": "stdout",
     "output_type": "stream",
     "text": [
      "Load from 'cache/G_list.pickle'\n",
      "Load from 'cache/generate_data_list(list,sparse=False,pivot_mode=None,init_mode=pmds,edge_index=full_edge_index,edge_attr=full_edge_attr,pmds_list=ndarray,gviz_list=ndarray,noisy_layout=True,device=cpu).pickle'\n"
     ]
    },
    {
     "name": "stderr",
     "output_type": "stream",
     "text": [
      "/users/PAS0027/osu10203/.conda/envs/deepgd/lib/python3.9/site-packages/torch_geometric/deprecation.py:13: UserWarning: 'data.DataLoader' is deprecated, use 'loader.DataLoader' instead\n",
      "  warnings.warn(out)\n"
     ]
    }
   ],
   "source": [
    "G_list = load_G_list(data_path='data/rome', index_file='data_index.txt', cache='G_list', cache_prefix='cache/')\n",
    "data_list = generate_data_list(G_list, \n",
    "                               sparse=data_config.sparse, \n",
    "                               pivot_mode=data_config.pivot,\n",
    "                               init_mode=data_config.init,\n",
    "                               edge_index=data_config.edge.index,\n",
    "                               edge_attr=data_config.edge.attr,\n",
    "                               pmds_list=np.load('layouts/rome/pmds.npy', allow_pickle=True),\n",
    "                               gviz_list=np.load('layouts/rome/gviz.npy', allow_pickle=True),\n",
    "                               noisy_layout=True,\n",
    "                               device='cpu', \n",
    "                               cache=True,\n",
    "                               cache_prefix='cache/')\n",
    "train_loader = LazyDeviceMappingDataLoader(data_list[:10000], batch_size=config.batchsize, shuffle=True, device=device)\n",
    "val_loader = LazyDeviceMappingDataLoader(data_list[11000:], batch_size=config.batchsize, shuffle=False, device=device)"
   ]
  },
  {
   "cell_type": "markdown",
   "metadata": {
    "id": "f-ODE2k8BFV6"
   },
   "source": [
    "## Create folders"
   ]
  },
  {
   "cell_type": "code",
   "execution_count": 8,
   "metadata": {
    "id": "3ykUMINYBRog"
   },
   "outputs": [],
   "source": [
    "mkdirs(paths.checkpoints(), paths.tensorboard(), paths.visualization(), f\"{paths.root}/logs\", f\"{paths.root}/metrics\")"
   ]
  },
  {
   "cell_type": "markdown",
   "metadata": {
    "id": "BFq9k5nzBIh5"
   },
   "source": [
    "## Load checkpoints"
   ]
  },
  {
   "cell_type": "code",
   "execution_count": 9,
   "metadata": {},
   "outputs": [],
   "source": [
    "class GATConvWithEFeat(gnn.GATConv):\n",
    "    def __init__(self,\n",
    "                 in_channels,\n",
    "                 out_channels, \n",
    "                 efeat_dim,\n",
    "                 heads: int = 4,\n",
    "                 concat: bool = False,\n",
    "                 negative_slope: float = 0.2,\n",
    "                 dropout: float = 0.0,\n",
    "                 add_self_loops: bool = False,\n",
    "                 bias: bool = True,\n",
    "                 **kwargs):\n",
    "        super().__init__(in_channels=in_channels,\n",
    "                         out_channels=out_channels, \n",
    "                         heads=heads,\n",
    "                         concat=concat,\n",
    "                         negative_slope=negative_slope,\n",
    "                         dropout=dropout,\n",
    "                         add_self_loops=add_self_loops,\n",
    "                         bias=bias, **kwargs)\n",
    "        self.att_efeat = nn.Parameter(torch.Tensor(1, heads, efeat_dim))\n",
    "        gnn.inits.glorot(self.att_efeat)\n",
    "\n",
    "    def forward(self, x, edge_index, e, size=None, return_attention_weights=None):\n",
    "        H, C = self.heads, self.out_channels\n",
    "\n",
    "        # We first transform the input node features. If a tuple is passed, we\n",
    "        # transform source and target node features via separate weights:\n",
    "        if isinstance(x, torch.Tensor):\n",
    "            assert x.dim() == 2, \"Static graphs not supported in 'GATConv'\"\n",
    "            x_src = x_dst = self.lin_src(x).view(-1, H, C)\n",
    "        else:  # Tuple of source and target node features:\n",
    "            x_src, x_dst = x\n",
    "            assert x_src.dim() == 2, \"Static graphs not supported in 'GATConv'\"\n",
    "            x_src = self.lin_src(x_src).view(-1, H, C)\n",
    "            if x_dst is not None:\n",
    "                x_dst = self.lin_dst(x_dst).view(-1, H, C)\n",
    "\n",
    "        x = (x_src, x_dst)\n",
    "\n",
    "        # Next, we compute node-level attention coefficients, both for source\n",
    "        # and target nodes (if present):\n",
    "        alpha_src = (x_src * self.att_src).sum(dim=-1)\n",
    "        alpha_dst = None if x_dst is None else (x_dst * self.att_dst).sum(-1)\n",
    "        alpha = (alpha_src, alpha_dst)\n",
    "\n",
    "        if self.add_self_loops:\n",
    "            if isinstance(edge_index, torch.Tensor):\n",
    "                # We only want to add self-loops for nodes that appear both as\n",
    "                # source and target nodes:\n",
    "                num_nodes = x_src.size(0)\n",
    "                if x_dst is not None:\n",
    "                    num_nodes = min(num_nodes, x_dst.size(0))\n",
    "                num_nodes = min(size) if size is not None else num_nodes\n",
    "                edge_index, _ = pyg.utils.remove_self_loops(edge_index)\n",
    "                edge_index, _ = pyg.utils.add_self_loops(edge_index, num_nodes=num_nodes)\n",
    "            elif isinstance(edge_index, torch_sparse.SparseTensor):\n",
    "                edge_index = set_diag(edge_index)\n",
    "\n",
    "        # propagate_type: (x: OptPairTensor, alpha: OptPairTensor)\n",
    "        out = self.propagate(edge_index, x=x, e=e, alpha=alpha, size=size)\n",
    "\n",
    "        alpha = self._alpha\n",
    "        assert alpha is not None\n",
    "        self._alpha = None\n",
    "\n",
    "        if self.concat:\n",
    "            out = out.view(-1, self.heads * self.out_channels)\n",
    "        else:\n",
    "            out = out.mean(dim=1)\n",
    "\n",
    "        if self.bias is not None:\n",
    "            out += self.bias\n",
    "\n",
    "        if isinstance(return_attention_weights, bool):\n",
    "            if isinstance(edge_index, torch.Tensor):\n",
    "                return out, (edge_index, alpha)\n",
    "            elif isinstance(edge_index, torch_sparse.SparseTensor):\n",
    "                return out, edge_index.set_value(alpha, layout='coo')\n",
    "        else:\n",
    "            return out\n",
    "\n",
    "\n",
    "    def message(self, x_j, e, alpha_j, alpha_i, index, ptr, size_i):\n",
    "        # Given egel-level attention coefficients for source and target nodes,\n",
    "        # we simply need to sum them up to \"emulate\" concatenation:\n",
    "        alpha = alpha_j if alpha_i is None else alpha_j + alpha_i\n",
    "#         print(e.shape, self.att_efeat.shape)\n",
    "        alpha += (e[:, None, :].repeat(1, self.heads, 1) * self.att_efeat).sum(dim=-1)\n",
    "\n",
    "        alpha = F.leaky_relu(alpha, self.negative_slope)\n",
    "        alpha = pyg.utils.softmax(alpha, index, ptr, size_i)\n",
    "        self._alpha = alpha  # Save for later use.\n",
    "        alpha = F.dropout(alpha, p=self.dropout, training=self.training)\n",
    "        return x_j * alpha.unsqueeze(-1)"
   ]
  },
  {
   "cell_type": "code",
   "execution_count": 10,
   "metadata": {
    "tags": []
   },
   "outputs": [],
   "source": [
    "class GNNLayer(nn.Module):\n",
    "    def __init__(self,\n",
    "                 nfeat_dims,\n",
    "                 efeat_dim,\n",
    "                 aggr,\n",
    "                 edge_net=None, \n",
    "                 dense=False,\n",
    "                 bn=True, \n",
    "                 act=True, \n",
    "                 dp=None,\n",
    "                 root_weight=True,\n",
    "                 skip=True):\n",
    "        super().__init__()\n",
    "        try:\n",
    "            in_dim = nfeat_dims[0]\n",
    "            out_dim = nfeat_dims[1]\n",
    "        except:\n",
    "            in_dim = nfeat_dims\n",
    "            out_dim = nfeat_dims\n",
    "        self.conv = GATConvWithEFeat(in_dim, out_dim, efeat_dim, aggr=aggr)\n",
    "        self.dense = nn.Linear(out_dim, out_dim) if dense else nn.Identity()\n",
    "        self.bn = gnn.BatchNorm(out_dim) if bn else nn.Identity()\n",
    "        self.act = nn.LeakyReLU() if act else nn.Identity()\n",
    "        self.dp = dp and nn.Dropout(dp) or nn.Identity()\n",
    "        self.skip = skip\n",
    "        self.proj = nn.Linear(in_dim, out_dim, bias=False) if in_dim != out_dim else nn.Identity()\n",
    "        \n",
    "    def forward(self, v, e, data):\n",
    "        v_ = v\n",
    "        v = self.conv(v, data.edge_index, e)\n",
    "        v = self.dense(v)\n",
    "        v = self.bn(v)\n",
    "        v = self.act(v)\n",
    "        v = self.dp(v)\n",
    "        return v + self.proj(v_) if self.skip else v"
   ]
  },
  {
   "cell_type": "code",
   "execution_count": 11,
   "metadata": {
    "jupyter": {
     "source_hidden": true
    },
    "tags": []
   },
   "outputs": [],
   "source": [
    "class GNNBlock(nn.Module):\n",
    "    def __init__(self, \n",
    "                 feat_dims, \n",
    "                 efeat_hid_dims=[], \n",
    "                 efeat_hid_act=nn.LeakyReLU,\n",
    "                 efeat_out_act=nn.Tanh,\n",
    "                 bn=False,\n",
    "                 act=True,\n",
    "                 dp=None,\n",
    "                 aggr='mean',\n",
    "                 root_weight=True,\n",
    "                 static_efeats=1,\n",
    "                 dynamic_efeats='skip',\n",
    "                 rich_efeats=False,\n",
    "                 euclidian=False,\n",
    "                 direction=False,\n",
    "                 n_weights=0,\n",
    "                 residual=False):\n",
    "        '''\n",
    "        dynamic_efeats: {\n",
    "            skip: block input to each layer, \n",
    "            first: block input to first layer, \n",
    "            prev: previous layer output to next layer, \n",
    "            orig: original node feature to each layer\n",
    "        }\n",
    "        '''\n",
    "        super().__init__()\n",
    "        self.static_efeats = static_efeats\n",
    "        self.dynamic_efeats = dynamic_efeats\n",
    "        self.rich_efeats = rich_efeats\n",
    "        self.euclidian = euclidian\n",
    "        self.direction = direction\n",
    "        self.n_weights = n_weights\n",
    "        self.residual = residual\n",
    "        self.gnn = nn.ModuleList()\n",
    "        self.n_layers = len(feat_dims) - 1\n",
    "\n",
    "        for idx, (in_feat, out_feat) in enumerate(zip(feat_dims[:-1], feat_dims[1:])):\n",
    "            direction_dim = (feat_dims[idx] if self.dynamic_efeats == 'prev'\n",
    "                             else 2 if self.dynamic_efeats == 'orig'\n",
    "                             else feat_dims[0])\n",
    "            in_efeat_dim = self.static_efeats\n",
    "            if self.dynamic_efeats != 'first': \n",
    "                in_efeat_dim += self.euclidian + self.direction * direction_dim + self.n_weights + 3 * self.rich_efeats\n",
    "            edge_net = nn.Sequential(*chain.from_iterable(\n",
    "                [nn.Linear(idim, odim),\n",
    "                 nn.BatchNorm1d(odim),\n",
    "                 act()]\n",
    "                for idim, odim, act in zip([in_efeat_dim] + efeat_hid_dims,\n",
    "                                           efeat_hid_dims + [in_feat * out_feat],\n",
    "                                           [efeat_hid_act] * len(efeat_hid_dims) + [efeat_out_act])\n",
    "            ))\n",
    "            self.gnn.append(GNNLayer(nfeat_dims=(in_feat, out_feat), \n",
    "                                     efeat_dim=in_efeat_dim, \n",
    "                                     edge_net=edge_net,\n",
    "                                     bn=bn, \n",
    "                                     act=act, \n",
    "                                     dp=dp,\n",
    "                                     aggr=aggr,\n",
    "                                     root_weight=root_weight,\n",
    "                                     skip=False))\n",
    "        \n",
    "    def _get_edge_feat(self, pos, data, rich_efeats=False, euclidian=False, direction=False, weights=None):\n",
    "        e = data.edge_attr[:, :self.static_efeats]\n",
    "        if euclidian or direction:\n",
    "            start_pos, end_pos = get_edges(pos, data)\n",
    "            v, u = l2_normalize(end_pos - start_pos, return_norm=True)\n",
    "            if euclidian:\n",
    "                e = torch.cat([e, u], dim=1)\n",
    "            if direction:\n",
    "                e = torch.cat([e, v], dim=1)\n",
    "            if rich_efeats:\n",
    "                d = e[:, :1]\n",
    "                d2 = d ** 2\n",
    "#                 d_inv = 1 / d\n",
    "#                 d2_inv = 1 / d2\n",
    "                u2 = u ** 2\n",
    "                ud = u * d\n",
    "#                 u_inv = 1 / u\n",
    "#                 u2_inv = 1 / u2\n",
    "                e = torch.cat([e, d2, u2, ud], dim=1)\n",
    "        if weights is not None:\n",
    "            w = weights.repeat(len(e), 1)\n",
    "            e = torch.cat([e, w], dim=1)\n",
    "        return e\n",
    "    \n",
    "    def _get_dynamic_edge_feat(self, pos, data, rich_efeats=False, euclidian=False, direction=False, weights=None):\n",
    "        if euclidian or direction:\n",
    "            start_pos, end_pos = get_edges(pos, data)\n",
    "            d, u = l2_normalize(end_pos - start_pos, return_norm=True)\n",
    "            if euclidian and direction:\n",
    "                e = torch.cat([u, d], dim=1)\n",
    "            else:\n",
    "                if euclidian:\n",
    "                    e = u\n",
    "                if direction:\n",
    "                    e = d\n",
    "        if weights is not None:\n",
    "            w = weights.repeat(len(e), 1)\n",
    "            e = torch.cat([e, w], dim=1)\n",
    "        return e\n",
    "        \n",
    "    def forward(self, v, data, weights=None):\n",
    "        vres = v\n",
    "        for layer in range(self.n_layers):\n",
    "            vsrc = (v if self.dynamic_efeats == 'prev' \n",
    "                    else data.pos if self.dynamic_efeats == 'orig' \n",
    "                    else vres)\n",
    "            get_extra = not (self.dynamic_efeats == 'first' and layer != 0)\n",
    "            efeat_fn = self._get_dynamic_edge_feat if self.static_efeats == 0 else self._get_edge_feat\n",
    "\n",
    "            e = efeat_fn(vsrc, data,\n",
    "                         rich_efeats=self.rich_efeats and get_extra,\n",
    "                         euclidian=self.euclidian and get_extra, \n",
    "                         direction=self.direction and get_extra,\n",
    "                         weights=weights if get_extra and self.n_weights > 0 else None)\n",
    "            v = self.gnn[layer](v, e, data)\n",
    "        return v + vres if self.residual else v"
   ]
  },
  {
   "cell_type": "code",
   "execution_count": 12,
   "metadata": {
    "tags": []
   },
   "outputs": [],
   "source": [
    "class Generator(nn.Module):\n",
    "    def __init__(self, \n",
    "                 num_blocks=9, \n",
    "                 num_layers=3,\n",
    "                 num_enet_layers=2,\n",
    "                 layer_dims=None,\n",
    "                 n_weights=0, \n",
    "                 dynamic_efeats='skip',\n",
    "                 euclidian=True,\n",
    "                 direction=True,\n",
    "                 residual=True,\n",
    "                 normalize=None):\n",
    "        super().__init__()\n",
    "\n",
    "        self.in_blocks = nn.ModuleList([\n",
    "            GNNBlock(feat_dims=[2, 8, 8 if layer_dims is None else layer_dims[0]], bn=True, dp=0.2, static_efeats=2)\n",
    "        ])\n",
    "        self.hid_blocks = nn.ModuleList([\n",
    "            GNNBlock(feat_dims=layer_dims or ([8] + [8] * num_layers), \n",
    "                     efeat_hid_dims=[16] * (num_enet_layers - 1),\n",
    "                     bn=True, \n",
    "                     act=True,\n",
    "                     dp=0.2, \n",
    "                     static_efeats=2,\n",
    "                     dynamic_efeats=dynamic_efeats,\n",
    "                     euclidian=euclidian,\n",
    "                     direction=direction,\n",
    "                     n_weights=n_weights,\n",
    "                     residual=residual)\n",
    "            for _ in range(num_blocks)\n",
    "        ])\n",
    "        self.out_blocks = nn.ModuleList([\n",
    "            GNNBlock(feat_dims=[8 if layer_dims is None else layer_dims[-1], 8], bn=True, static_efeats=2),\n",
    "            GNNBlock(feat_dims=[8, 2], act=False, static_efeats=2)\n",
    "        ])\n",
    "        self.normalize = normalize\n",
    "\n",
    "    def forward(self, data, weights=None, output_hidden=False, numpy=False):\n",
    "        v = data.pos if data.pos is not None else generate_rand_pos(len(data.x)).to(data.x.device)\n",
    "        if self.normalize is not None:\n",
    "            v = self.normalize(v, data)\n",
    "        \n",
    "        hidden = []\n",
    "        for block in chain(self.in_blocks, \n",
    "                           self.hid_blocks, \n",
    "                           self.out_blocks):\n",
    "            v = block(v, data, weights)\n",
    "            if output_hidden:\n",
    "                hidden.append(v.detach().cpu().numpy() if numpy else v)\n",
    "        if not output_hidden:\n",
    "            vout = v.detach().cpu().numpy() if numpy else v\n",
    "            if self.normalize is not None:\n",
    "                vout = self.normalize(vout, data)\n",
    "        \n",
    "        return hidden if output_hidden else vout"
   ]
  },
  {
   "cell_type": "code",
   "execution_count": 13,
   "metadata": {
    "id": "96ZActxlL0fJ"
   },
   "outputs": [],
   "source": [
    "class StressDiscriminator(nn.Module):\n",
    "    def __init__(self, normalize=CanonicalizationByStress(), **kwargs):\n",
    "        super().__init__()\n",
    "        self.dummy = nn.Parameter(torch.zeros(1))\n",
    "        self.normalize = normalize\n",
    "        self.stress = Stress(reduce=None)\n",
    "\n",
    "    def forward(self, batch):\n",
    "        return -self.stress(self.normalize(batch.pos, batch), batch)"
   ]
  },
  {
   "cell_type": "code",
   "execution_count": 14,
   "metadata": {
    "id": "IJ6xCYBUuhcw"
   },
   "outputs": [],
   "source": [
    "def get_ckpt_epoch(folder, epoch):\n",
    "    if not os.path.isdir(folder):\n",
    "        os.mkdir(folder)\n",
    "    if epoch >= 0:\n",
    "        return epoch\n",
    "    ckpt_files = os.listdir(folder)\n",
    "    last_epoch = 0\n",
    "    if ckpt_files:\n",
    "        last_epoch = sorted(list(map(lambda x: int(re.search('(?<=epoch_)(\\d+)(?=\\.)', x).group(1)), ckpt_files)))[-1]\n",
    "    return last_epoch + epoch + 1\n",
    "\n",
    "def start_epoch():\n",
    "    return get_ckpt_epoch(paths.checkpoints(), config.epoch.start)"
   ]
  },
  {
   "cell_type": "code",
   "execution_count": 15,
   "metadata": {
    "colab": {
     "base_uri": "https://localhost:8080/"
    },
    "id": "JacDYXka9U01",
    "outputId": "8a0d9c75-eb27-4cfd-eb3e-c81b698cb086"
   },
   "outputs": [
    {
     "name": "stdout",
     "output_type": "stream",
     "text": [
      "Loading from artifacts/checkpoints/deepgd(conv=gat_simple(self_loop=false,heads=4),lr=1e-4)/gen_epoch_2755.pt...\n",
      "Loading from artifacts/checkpoints/deepgd(conv=gat_simple(self_loop=false,heads=4),lr=1e-4)/gen_optim_epoch_2755.pt...\n"
     ]
    }
   ],
   "source": [
    "generator = Generator(**config.generator.params[...]).to(device)\n",
    "generator_optimizer = config.generator.optim(generator.parameters(), lr=config.generator.lr.initial * config.generator.lr.decay ** start_epoch())\n",
    "generator_scheduler = torch.optim.lr_scheduler.ExponentialLR(generator_optimizer, gamma=config.generator.lr.decay)\n",
    "if start_epoch() != 0:\n",
    "    gen_ckpt_epoch = start_epoch()\n",
    "elif config.generator.pretrained.name is not None and config.generator.pretrained.epoch != 0:\n",
    "    gen_pretrained_epoch = get_ckpt_epoch(paths.gen_pretrain(), config.generator.pretrained.epoch)\n",
    "    gen_ckpt_epoch = gen_pretrained_epoch \n",
    "else:\n",
    "    gen_ckpt_epoch = None\n",
    "if gen_ckpt_epoch is not None:\n",
    "    # Load generator\n",
    "    gen_ckpt_file = f\"{paths.checkpoints()}/gen_epoch_{gen_ckpt_epoch}.pt\"\n",
    "    print(f\"Loading from {gen_ckpt_file}...\")\n",
    "    generator.load_state_dict(torch.load(gen_ckpt_file, map_location=torch.device(device)))\n",
    "    # Load generator optimizer\n",
    "    gen_optim_ckpt_file = f\"{paths.checkpoints()}/gen_optim_epoch_{gen_ckpt_epoch}.pt\"\n",
    "    print(f\"Loading from {gen_optim_ckpt_file}...\")\n",
    "    generator_optimizer.load_state_dict(torch.load(gen_optim_ckpt_file, map_location=torch.device(device)))"
   ]
  },
  {
   "cell_type": "code",
   "execution_count": 16,
   "metadata": {
    "colab": {
     "base_uri": "https://localhost:8080/"
    },
    "id": "oWQhD7-88VXe",
    "outputId": "3ce11a68-adca-4f26-b71c-69fb71d301d2"
   },
   "outputs": [],
   "source": [
    "discriminator = StressDiscriminator(**config.discriminator.params[...]).to(device)\n",
    "# discriminator_optimizer = config.discriminator.optim(discriminator.parameters(), lr=config.discriminator.lr.initial * config.discriminator.lr.decay ** start_epoch())\n",
    "# discriminator_scheduler = torch.optim.lr_scheduler.ExponentialLR(discriminator_optimizer, gamma=config.discriminator.lr.decay)\n",
    "# if start_epoch() != 0:\n",
    "#     dis_ckpt_epoch = start_epoch()\n",
    "# elif config.discriminator.pretrained.name is not None and config.discriminator.pretrained.epoch != 0:\n",
    "#     dis_pretrained_epoch = get_ckpt_epoch(paths.dis_pretrain(), config.discriminator.pretrained.epoch)\n",
    "#     dis_ckpt_epoch = dis_pretrained_epoch # f\"{paths.dis_pretrain()}/dis_epoch_{dis_pretrained_epoch}.pt\"\n",
    "# else:\n",
    "#     dis_ckpt_epoch = None\n",
    "# if dis_ckpt_epoch is not None:\n",
    "#     # Load discriminator\n",
    "#     dis_ckpt_file = f\"{paths.checkpoints()}/dis_epoch_{dis_ckpt_epoch}.pt\"\n",
    "#     print(f\"Loading from {dis_ckpt_file}...\")\n",
    "#     discriminator.load_state_dict(torch.load(dis_ckpt_file, map_location=torch.device(device)))\n",
    "#     # Load discriminator optimizer\n",
    "#     dis_optim_ckpt_file = f\"{paths.checkpoints()}/dis_optim_epoch_{dis_ckpt_epoch}.pt\"\n",
    "#     print(f\"Loading from {dis_optim_ckpt_file}...\")\n",
    "#     discriminator_optimizer.load_state_dict(torch.load(dis_optim_ckpt_file, map_location=torch.device(device)))"
   ]
  },
  {
   "cell_type": "markdown",
   "metadata": {
    "id": "N39dDHraedM6"
   },
   "source": [
    "# Train"
   ]
  },
  {
   "cell_type": "code",
   "execution_count": 17,
   "metadata": {
    "id": "BdIJSDSJedM-"
   },
   "outputs": [],
   "source": [
    "stress_criterion = StressDiscriminator().to(device)\n",
    "val_criterion = Stress(reduce=None)\n",
    "xing_criterion = Xing(reduce=None)\n",
    "dis_convert = DiscriminatorDataConverter(complete_graph=config.discriminator.complete, normalize=config.discriminator.params.normalize)\n",
    "tensorboard = SummaryWriter(log_dir=paths.tensorboard())\n",
    "epoch = start_epoch() + 1"
   ]
  },
  {
   "cell_type": "code",
   "execution_count": 18,
   "metadata": {
    "id": "OHRWj1h0edM-"
   },
   "outputs": [],
   "source": [
    "def gradient_penalty(interpolated, discriminator, weight=10):\n",
    "    interpolated.pos.requires_grad_()\n",
    "    prob_interpolated = discriminator(interpolated)\n",
    "    gradients = autograd.grad(outputs=prob_interpolated, \n",
    "                              inputs=interpolated.pos,\n",
    "                              grad_outputs=torch.ones_like(prob_interpolated),\n",
    "                              create_graph=True, \n",
    "                              retain_graph=True, \n",
    "                              allow_unused=True)[0]\n",
    "    gradients_norm = torch.sqrt(gnn.global_add_pool(gradients.square().sum(dim=1), batch.batch) + 1e-8)\n",
    "    return weight * ((gradients_norm - 1) ** 2).mean()"
   ]
  },
  {
   "cell_type": "code",
   "execution_count": 19,
   "metadata": {
    "id": "o5wJJN9AedM_"
   },
   "outputs": [],
   "source": [
    "def get_gp_loss(batch, fake_pos, weight):\n",
    "    if weight > 0:\n",
    "        interp = dis_convert(batch, fake_pos, random.random())\n",
    "        return gradient_penalty(interp, discriminator, weight).mean()\n",
    "    return 0"
   ]
  },
  {
   "cell_type": "code",
   "execution_count": 20,
   "metadata": {
    "id": "QwuA6sRoedM_"
   },
   "outputs": [],
   "source": [
    "def get_sgan_loss(batch, fake_pos, mode='discriminator'):\n",
    "    real = dis_convert(batch)\n",
    "    fake = dis_convert(batch, fake_pos)\n",
    "    pred = discriminator(merge_batch(real, fake)).view(2, -1).T\n",
    "    if mode == 'discriminator':\n",
    "        label = torch.zeros(pred.shape[0]).long()\n",
    "    elif mode == 'generator':\n",
    "        label = torch.ones(pred.shape[0]).long()\n",
    "    else:\n",
    "        raise Exception\n",
    "    return nn.CrossEntropyLoss()(pred, label)"
   ]
  },
  {
   "cell_type": "code",
   "execution_count": 21,
   "metadata": {
    "id": "GuAP1YchedNA"
   },
   "outputs": [],
   "source": [
    "def get_rgan_loss(batch, fake_pos, mode='discriminator'):\n",
    "    real = dis_convert(batch)\n",
    "    fake = dis_convert(batch, fake_pos)\n",
    "    pred = discriminator(merge_batch(real, fake)).view(2, -1).T\n",
    "    real_pred, fake_pred = pred[:,0], pred[:,1]\n",
    "    if mode == 'discriminator':\n",
    "        losses = - F.logsigmoid(real_pred - fake_pred)\n",
    "    elif mode == 'generator':\n",
    "        losses = - F.logsigmoid(fake_pred - real_pred)\n",
    "    else:\n",
    "        raise Exception\n",
    "    return losses.mean()"
   ]
  },
  {
   "cell_type": "code",
   "execution_count": 22,
   "metadata": {
    "id": "KFllQ7BredNA"
   },
   "outputs": [],
   "source": [
    "def get_wgan_loss(batch, fake_pos, mode='discriminator'):\n",
    "    real = dis_convert(batch)\n",
    "    fake = dis_convert(batch, fake_pos)\n",
    "    pred = discriminator(merge_batch(real, fake)).view(2, -1).T\n",
    "    real_pred, fake_pred = pred[:,0], pred[:,1]\n",
    "    if mode == 'discriminator':\n",
    "        losses = fake_pred - real_pred \n",
    "    elif mode == 'generator':\n",
    "        losses = real_pred - fake_pred\n",
    "    else:\n",
    "        raise Exception\n",
    "    return losses.mean()"
   ]
  },
  {
   "cell_type": "code",
   "execution_count": 23,
   "metadata": {
    "id": "r5Kg_tYEedNA"
   },
   "outputs": [],
   "source": [
    "def get_ragan_loss(batch, fake_pos, mode='discriminator'):\n",
    "    real = dis_convert(batch)\n",
    "    fake = dis_convert(batch, fake_pos)\n",
    "    pred = discriminator(merge_batch(real, fake)).view(2, -1).T\n",
    "    real_pred, fake_pred = pred[:,0], pred[:,1]\n",
    "    if mode == 'discriminator':\n",
    "        losses = - F.logsigmoid(real_pred - fake_pred.mean()) - F.logsigmoid(real_pred.mean() - fake_pred)\n",
    "    elif mode == 'generator':\n",
    "        losses = - F.logsigmoid(fake_pred - real_pred.mean()) - F.logsigmoid(fake_pred.mean() - real_pred)\n",
    "    else:\n",
    "        raise Exception\n",
    "    return losses.mean()"
   ]
  },
  {
   "cell_type": "code",
   "execution_count": 24,
   "metadata": {},
   "outputs": [],
   "source": [
    "def get_dgdv2_loss(batch, fake_pos, mode='discriminator'):\n",
    "    fake = dis_convert(batch, fake_pos)\n",
    "    pred = discriminator(fake)\n",
    "    if mode == 'discriminator':\n",
    "        gt = get_gt(batch, fake_pos)\n",
    "        loss = criterion(pred, gt)\n",
    "    elif mode == 'generator':\n",
    "        losses = pred.sum(dim=0)\n",
    "#         losses = torch.tensor(config.importance).to(device) * losses #/ losses.detach()\n",
    "        loss = losses.sum()\n",
    "    else:\n",
    "        raise Exception\n",
    "    return -loss"
   ]
  },
  {
   "cell_type": "code",
   "execution_count": 25,
   "metadata": {
    "id": "3IE_84f-edNB"
   },
   "outputs": [],
   "source": [
    "def get_gan_loss(batch, fake_pos, mode='discriminator'):\n",
    "    return {\"sgan\": get_sgan_loss,\n",
    "            \"wgan\": get_wgan_loss,\n",
    "            \"rgan\": get_rgan_loss,\n",
    "            \"ragan\": get_ragan_loss,\n",
    "            \"dgdv2\": get_dgdv2_loss}[config.gan_flavor](batch, fake_pos, mode)"
   ]
  },
  {
   "cell_type": "code",
   "execution_count": 26,
   "metadata": {
    "colab": {
     "base_uri": "https://localhost:8080/",
     "height": 80
    },
    "id": "2NjekXgkedNB",
    "outputId": "d0ca2d2c-8af7-40af-b197-7974e566b064",
    "tags": []
   },
   "outputs": [
    {
     "data": {
      "application/vnd.jupyter.widget-view+json": {
       "model_id": "04b544ac71604a10a25d6892e9a93e73",
       "version_major": 2,
       "version_minor": 0
      },
      "text/plain": [
       "Tab(children=(VBox(children=(Wrapper(), Hud())), HBox(children=(Output(),), layout=Layout(height='500px', over…"
      ]
     },
     "metadata": {},
     "output_type": "display_data"
    },
    {
     "ename": "KeyboardInterrupt",
     "evalue": "",
     "output_type": "error",
     "traceback": [
      "\u001b[0;31m---------------------------------------------------------------------------\u001b[0m",
      "\u001b[0;31mKeyboardInterrupt\u001b[0m                         Traceback (most recent call last)",
      "\u001b[0;32m/tmp/slurmtmp.5518156/ipykernel_159152/3144612910.py\u001b[0m in \u001b[0;36m<module>\u001b[0;34m\u001b[0m\n\u001b[1;32m    136\u001b[0m     \u001b[0;32mif\u001b[0m \u001b[0mconfig\u001b[0m\u001b[0;34m.\u001b[0m\u001b[0malternate\u001b[0m \u001b[0;34m==\u001b[0m \u001b[0;34m'epoch'\u001b[0m\u001b[0;34m:\u001b[0m\u001b[0;34m\u001b[0m\u001b[0;34m\u001b[0m\u001b[0m\n\u001b[1;32m    137\u001b[0m         \u001b[0;32mfor\u001b[0m \u001b[0mbatch\u001b[0m \u001b[0;32min\u001b[0m \u001b[0mtrain_loader\u001b[0m\u001b[0;34m:\u001b[0m\u001b[0;34m\u001b[0m\u001b[0;34m\u001b[0m\u001b[0m\n\u001b[0;32m--> 138\u001b[0;31m             \u001b[0mtrain_gen\u001b[0m\u001b[0;34m(\u001b[0m\u001b[0mbatch\u001b[0m\u001b[0;34m,\u001b[0m \u001b[0mepoch\u001b[0m\u001b[0;34m)\u001b[0m\u001b[0;34m\u001b[0m\u001b[0;34m\u001b[0m\u001b[0m\n\u001b[0m\u001b[1;32m    139\u001b[0m \u001b[0;34m\u001b[0m\u001b[0m\n\u001b[1;32m    140\u001b[0m \u001b[0;31m#     discriminator_scheduler.step()\u001b[0m\u001b[0;34m\u001b[0m\u001b[0;34m\u001b[0m\u001b[0m\n",
      "\u001b[0;32m/tmp/slurmtmp.5518156/ipykernel_159152/3144612910.py\u001b[0m in \u001b[0;36mtrain_gen\u001b[0;34m(batch, epoch)\u001b[0m\n\u001b[1;32m     32\u001b[0m     \u001b[0;31m#train generator\u001b[0m\u001b[0;34m\u001b[0m\u001b[0;34m\u001b[0m\u001b[0m\n\u001b[1;32m     33\u001b[0m     \u001b[0mgenerator_loss\u001b[0m\u001b[0;34m.\u001b[0m\u001b[0mbackward\u001b[0m\u001b[0;34m(\u001b[0m\u001b[0;34m)\u001b[0m\u001b[0;34m\u001b[0m\u001b[0;34m\u001b[0m\u001b[0m\n\u001b[0;32m---> 34\u001b[0;31m     \u001b[0mgenerator_optimizer\u001b[0m\u001b[0;34m.\u001b[0m\u001b[0mstep\u001b[0m\u001b[0;34m(\u001b[0m\u001b[0;34m)\u001b[0m\u001b[0;34m\u001b[0m\u001b[0;34m\u001b[0m\u001b[0m\n\u001b[0m\u001b[1;32m     35\u001b[0m \u001b[0;34m\u001b[0m\u001b[0m\n\u001b[1;32m     36\u001b[0m     \u001b[0;32mwith\u001b[0m \u001b[0mtorch\u001b[0m\u001b[0;34m.\u001b[0m\u001b[0mno_grad\u001b[0m\u001b[0;34m(\u001b[0m\u001b[0;34m)\u001b[0m\u001b[0;34m:\u001b[0m\u001b[0;34m\u001b[0m\u001b[0;34m\u001b[0m\u001b[0m\n",
      "\u001b[0;32m~/.conda/envs/deepgd/lib/python3.9/site-packages/torch/optim/lr_scheduler.py\u001b[0m in \u001b[0;36mwrapper\u001b[0;34m(*args, **kwargs)\u001b[0m\n\u001b[1;32m     63\u001b[0m                 \u001b[0minstance\u001b[0m\u001b[0;34m.\u001b[0m\u001b[0m_step_count\u001b[0m \u001b[0;34m+=\u001b[0m \u001b[0;36m1\u001b[0m\u001b[0;34m\u001b[0m\u001b[0;34m\u001b[0m\u001b[0m\n\u001b[1;32m     64\u001b[0m                 \u001b[0mwrapped\u001b[0m \u001b[0;34m=\u001b[0m \u001b[0mfunc\u001b[0m\u001b[0;34m.\u001b[0m\u001b[0m__get__\u001b[0m\u001b[0;34m(\u001b[0m\u001b[0minstance\u001b[0m\u001b[0;34m,\u001b[0m \u001b[0mcls\u001b[0m\u001b[0;34m)\u001b[0m\u001b[0;34m\u001b[0m\u001b[0;34m\u001b[0m\u001b[0m\n\u001b[0;32m---> 65\u001b[0;31m                 \u001b[0;32mreturn\u001b[0m \u001b[0mwrapped\u001b[0m\u001b[0;34m(\u001b[0m\u001b[0;34m*\u001b[0m\u001b[0margs\u001b[0m\u001b[0;34m,\u001b[0m \u001b[0;34m**\u001b[0m\u001b[0mkwargs\u001b[0m\u001b[0;34m)\u001b[0m\u001b[0;34m\u001b[0m\u001b[0;34m\u001b[0m\u001b[0m\n\u001b[0m\u001b[1;32m     66\u001b[0m \u001b[0;34m\u001b[0m\u001b[0m\n\u001b[1;32m     67\u001b[0m             \u001b[0;31m# Note that the returned function here is no longer a bound method,\u001b[0m\u001b[0;34m\u001b[0m\u001b[0;34m\u001b[0m\u001b[0m\n",
      "\u001b[0;32m~/.conda/envs/deepgd/lib/python3.9/site-packages/torch/optim/optimizer.py\u001b[0m in \u001b[0;36mwrapper\u001b[0;34m(*args, **kwargs)\u001b[0m\n\u001b[1;32m     86\u001b[0m                 \u001b[0mprofile_name\u001b[0m \u001b[0;34m=\u001b[0m \u001b[0;34m\"Optimizer.step#{}.step\"\u001b[0m\u001b[0;34m.\u001b[0m\u001b[0mformat\u001b[0m\u001b[0;34m(\u001b[0m\u001b[0mobj\u001b[0m\u001b[0;34m.\u001b[0m\u001b[0m__class__\u001b[0m\u001b[0;34m.\u001b[0m\u001b[0m__name__\u001b[0m\u001b[0;34m)\u001b[0m\u001b[0;34m\u001b[0m\u001b[0;34m\u001b[0m\u001b[0m\n\u001b[1;32m     87\u001b[0m                 \u001b[0;32mwith\u001b[0m \u001b[0mtorch\u001b[0m\u001b[0;34m.\u001b[0m\u001b[0mautograd\u001b[0m\u001b[0;34m.\u001b[0m\u001b[0mprofiler\u001b[0m\u001b[0;34m.\u001b[0m\u001b[0mrecord_function\u001b[0m\u001b[0;34m(\u001b[0m\u001b[0mprofile_name\u001b[0m\u001b[0;34m)\u001b[0m\u001b[0;34m:\u001b[0m\u001b[0;34m\u001b[0m\u001b[0;34m\u001b[0m\u001b[0m\n\u001b[0;32m---> 88\u001b[0;31m                     \u001b[0;32mreturn\u001b[0m \u001b[0mfunc\u001b[0m\u001b[0;34m(\u001b[0m\u001b[0;34m*\u001b[0m\u001b[0margs\u001b[0m\u001b[0;34m,\u001b[0m \u001b[0;34m**\u001b[0m\u001b[0mkwargs\u001b[0m\u001b[0;34m)\u001b[0m\u001b[0;34m\u001b[0m\u001b[0;34m\u001b[0m\u001b[0m\n\u001b[0m\u001b[1;32m     89\u001b[0m             \u001b[0;32mreturn\u001b[0m \u001b[0mwrapper\u001b[0m\u001b[0;34m\u001b[0m\u001b[0;34m\u001b[0m\u001b[0m\n\u001b[1;32m     90\u001b[0m \u001b[0;34m\u001b[0m\u001b[0m\n",
      "\u001b[0;32m~/.conda/envs/deepgd/lib/python3.9/site-packages/torch/autograd/grad_mode.py\u001b[0m in \u001b[0;36mdecorate_context\u001b[0;34m(*args, **kwargs)\u001b[0m\n\u001b[1;32m     26\u001b[0m         \u001b[0;32mdef\u001b[0m \u001b[0mdecorate_context\u001b[0m\u001b[0;34m(\u001b[0m\u001b[0;34m*\u001b[0m\u001b[0margs\u001b[0m\u001b[0;34m,\u001b[0m \u001b[0;34m**\u001b[0m\u001b[0mkwargs\u001b[0m\u001b[0;34m)\u001b[0m\u001b[0;34m:\u001b[0m\u001b[0;34m\u001b[0m\u001b[0;34m\u001b[0m\u001b[0m\n\u001b[1;32m     27\u001b[0m             \u001b[0;32mwith\u001b[0m \u001b[0mself\u001b[0m\u001b[0;34m.\u001b[0m\u001b[0m__class__\u001b[0m\u001b[0;34m(\u001b[0m\u001b[0;34m)\u001b[0m\u001b[0;34m:\u001b[0m\u001b[0;34m\u001b[0m\u001b[0;34m\u001b[0m\u001b[0m\n\u001b[0;32m---> 28\u001b[0;31m                 \u001b[0;32mreturn\u001b[0m \u001b[0mfunc\u001b[0m\u001b[0;34m(\u001b[0m\u001b[0;34m*\u001b[0m\u001b[0margs\u001b[0m\u001b[0;34m,\u001b[0m \u001b[0;34m**\u001b[0m\u001b[0mkwargs\u001b[0m\u001b[0;34m)\u001b[0m\u001b[0;34m\u001b[0m\u001b[0;34m\u001b[0m\u001b[0m\n\u001b[0m\u001b[1;32m     29\u001b[0m         \u001b[0;32mreturn\u001b[0m \u001b[0mcast\u001b[0m\u001b[0;34m(\u001b[0m\u001b[0mF\u001b[0m\u001b[0;34m,\u001b[0m \u001b[0mdecorate_context\u001b[0m\u001b[0;34m)\u001b[0m\u001b[0;34m\u001b[0m\u001b[0;34m\u001b[0m\u001b[0m\n\u001b[1;32m     30\u001b[0m \u001b[0;34m\u001b[0m\u001b[0m\n",
      "\u001b[0;32m~/.conda/envs/deepgd/lib/python3.9/site-packages/torch/optim/adamw.py\u001b[0m in \u001b[0;36mstep\u001b[0;34m(self, closure)\u001b[0m\n\u001b[1;32m    108\u001b[0m                 \u001b[0mstate_steps\u001b[0m\u001b[0;34m.\u001b[0m\u001b[0mappend\u001b[0m\u001b[0;34m(\u001b[0m\u001b[0mstate\u001b[0m\u001b[0;34m[\u001b[0m\u001b[0;34m'step'\u001b[0m\u001b[0;34m]\u001b[0m\u001b[0;34m)\u001b[0m\u001b[0;34m\u001b[0m\u001b[0;34m\u001b[0m\u001b[0m\n\u001b[1;32m    109\u001b[0m \u001b[0;34m\u001b[0m\u001b[0m\n\u001b[0;32m--> 110\u001b[0;31m             F.adamw(params_with_grad,\n\u001b[0m\u001b[1;32m    111\u001b[0m                     \u001b[0mgrads\u001b[0m\u001b[0;34m,\u001b[0m\u001b[0;34m\u001b[0m\u001b[0;34m\u001b[0m\u001b[0m\n\u001b[1;32m    112\u001b[0m                     \u001b[0mexp_avgs\u001b[0m\u001b[0;34m,\u001b[0m\u001b[0;34m\u001b[0m\u001b[0;34m\u001b[0m\u001b[0m\n",
      "\u001b[0;32m~/.conda/envs/deepgd/lib/python3.9/site-packages/torch/optim/_functional.py\u001b[0m in \u001b[0;36madamw\u001b[0;34m(params, grads, exp_avgs, exp_avg_sqs, max_exp_avg_sqs, state_steps, amsgrad, beta1, beta2, lr, weight_decay, eps)\u001b[0m\n\u001b[1;32m    130\u001b[0m         \u001b[0;31m# Decay the first and second moment running average coefficient\u001b[0m\u001b[0;34m\u001b[0m\u001b[0;34m\u001b[0m\u001b[0m\n\u001b[1;32m    131\u001b[0m         \u001b[0mexp_avg\u001b[0m\u001b[0;34m.\u001b[0m\u001b[0mmul_\u001b[0m\u001b[0;34m(\u001b[0m\u001b[0mbeta1\u001b[0m\u001b[0;34m)\u001b[0m\u001b[0;34m.\u001b[0m\u001b[0madd_\u001b[0m\u001b[0;34m(\u001b[0m\u001b[0mgrad\u001b[0m\u001b[0;34m,\u001b[0m \u001b[0malpha\u001b[0m\u001b[0;34m=\u001b[0m\u001b[0;36m1\u001b[0m \u001b[0;34m-\u001b[0m \u001b[0mbeta1\u001b[0m\u001b[0;34m)\u001b[0m\u001b[0;34m\u001b[0m\u001b[0;34m\u001b[0m\u001b[0m\n\u001b[0;32m--> 132\u001b[0;31m         \u001b[0mexp_avg_sq\u001b[0m\u001b[0;34m.\u001b[0m\u001b[0mmul_\u001b[0m\u001b[0;34m(\u001b[0m\u001b[0mbeta2\u001b[0m\u001b[0;34m)\u001b[0m\u001b[0;34m.\u001b[0m\u001b[0maddcmul_\u001b[0m\u001b[0;34m(\u001b[0m\u001b[0mgrad\u001b[0m\u001b[0;34m,\u001b[0m \u001b[0mgrad\u001b[0m\u001b[0;34m,\u001b[0m \u001b[0mvalue\u001b[0m\u001b[0;34m=\u001b[0m\u001b[0;36m1\u001b[0m \u001b[0;34m-\u001b[0m \u001b[0mbeta2\u001b[0m\u001b[0;34m)\u001b[0m\u001b[0;34m\u001b[0m\u001b[0;34m\u001b[0m\u001b[0m\n\u001b[0m\u001b[1;32m    133\u001b[0m         \u001b[0;32mif\u001b[0m \u001b[0mamsgrad\u001b[0m\u001b[0;34m:\u001b[0m\u001b[0;34m\u001b[0m\u001b[0;34m\u001b[0m\u001b[0m\n\u001b[1;32m    134\u001b[0m             \u001b[0;31m# Maintains the maximum of all 2nd moment running avg. till now\u001b[0m\u001b[0;34m\u001b[0m\u001b[0;34m\u001b[0m\u001b[0m\n",
      "\u001b[0;31mKeyboardInterrupt\u001b[0m: "
     ]
    }
   ],
   "source": [
    "# def train_dis(batch, epoch):\n",
    "#     generator.requires_grad_(False)\n",
    "#     discriminator.zero_grad()\n",
    "#     generator_output = generator(batch)\n",
    "#     if config.discriminator.noise.std > 0:\n",
    "#         generator_output = generator_output + torch.randn_like(generator_output) * config.discriminator.noise.std * config.discriminator.noise.decay ** epoch\n",
    "#     discriminator_loss = get_gan_loss(batch, generator_output, mode='discriminator')\n",
    "    \n",
    "#     # train discriminator\n",
    "#     discriminator_loss.backward()\n",
    "#     discriminator_optimizer.step()\n",
    "\n",
    "#     # gradient penalty\n",
    "#     if config.gp_weight > 0:\n",
    "#         discriminator.zero_grad()\n",
    "#         gp_loss = get_gp_loss(batch, generator_output, config.gp_weight)\n",
    "#         gp_loss.backward()\n",
    "#         discriminator_optimizer.step()\n",
    "\n",
    "#     hud['dis_loss'] = format(discriminator_loss.item(), '.2e')\n",
    "#     pbar().update()\n",
    "\n",
    "def train_gen(batch, epoch):\n",
    "    generator.requires_grad_(True)\n",
    "    generator.zero_grad()\n",
    "    discriminator.zero_grad()\n",
    "    generator_output = generator(batch)\n",
    "    if config.discriminator.noise.std > 0:\n",
    "        generator_output = generator_output + torch.randn_like(generator_output) * config.discriminator.noise.std * config.discriminator.noise.decay ** epoch\n",
    "    generator_loss = get_gan_loss(batch, generator_output, mode='generator') \n",
    "    \n",
    "    #train generator\n",
    "    generator_loss.backward()\n",
    "    generator_optimizer.step()\n",
    "\n",
    "    with torch.no_grad():\n",
    "        dis_batch = dis_convert(batch, generator_output)\n",
    "        stress = stress_criterion(dis_batch).mean()\n",
    "        critic = discriminator(dis_batch).mean()\n",
    "    hud.append({'gen_loss': format(generator_loss.item(), '.2e'),\n",
    "                'stress': format(stress.item(), '.2e'),\n",
    "                'critic': format(critic.item(), '.2e')})\n",
    "    pbar().update()\n",
    "\n",
    "def cuda_memsafe_map(fn, *iterables, summary=False):\n",
    "    total, failed = 0, 0\n",
    "    iterator = zip(*iterables)\n",
    "    items = None\n",
    "    while True:\n",
    "        try:\n",
    "            items = next(iterator)\n",
    "            yield fn(*items)\n",
    "        except StopIteration:\n",
    "            if summary:\n",
    "                print(f'Iteration finished. {failed} out of {total} failed!')\n",
    "            break\n",
    "#         except RuntimeError:\n",
    "#             print('CUDA memory overflow! Skip batch...')\n",
    "#             del items\n",
    "#             failed += 1\n",
    "        torch.cuda.empty_cache()\n",
    "        total += 1\n",
    "    \n",
    "def validate(model, data_loader, criterion=val_criterion):\n",
    "    def val_one_batch(batch):\n",
    "        batch = preprocess_batch(model, batch)\n",
    "        pred = CanonicalizationByStress()(model(batch), batch)\n",
    "        gt = CanonicalizationByStress()(batch.gt_pos, batch)\n",
    "        loss = criterion(pred, batch)\n",
    "        gt_loss = criterion(gt, batch)\n",
    "        spc = (loss - gt_loss) / torch.maximum(torch.maximum(loss, gt_loss), torch.ones_like(loss)*1e-5)\n",
    "        return loss.mean().item(), spc.mean().item()\n",
    "    loss_all, spc_all = zip(*cuda_memsafe_map(val_one_batch, data_loader))\n",
    "    return np.mean(loss_all), np.mean(spc_all)\n",
    "\n",
    "def log(msg):\n",
    "    msg = f\"[{epoch:03}] {msg}\"\n",
    "    print(msg, file=open(paths.log(), \"a\"))\n",
    "    with log_out: \n",
    "        print(msg)\n",
    "\n",
    "print(f\"{'='*10} {config.link} {'='*10}\", file=open(paths.log(), \"a\"))\n",
    "hud = Hud()\n",
    "pbar = Wrapper(tqdm, total=len(train_loader), smoothing=0)\n",
    "plot_out = Output()\n",
    "log_out = Output()\n",
    "tabs = {\"status\": VBox([pbar, hud]), \n",
    "        \"plot\": HBox([plot_out], layout=Layout(height='500px', overflow_y='auto')),\n",
    "        \"log\": HBox([log_out], layout=Layout(height='500px', overflow_y='auto'))}\n",
    "tab_bar = Tab(children=list(tabs.values()))\n",
    "[tab_bar.set_title(i, name) for i, name in enumerate(tabs)]\n",
    "display(tab_bar)\n",
    "while True:\n",
    "    if epoch % config.log_interval == 0:\n",
    "        torch.save(generator.state_dict(), f\"{paths.checkpoints()}/gen_epoch_{epoch}.pt\")\n",
    "        torch.save(generator_optimizer.state_dict(), f\"{paths.checkpoints()}/gen_optim_epoch_{epoch}.pt\")\n",
    "#         torch.save(discriminator.state_dict(), f\"{paths.checkpoints()}/dis_epoch_{epoch}.pt\")\n",
    "#         torch.save(discriminator_optimizer.state_dict(), f\"{paths.checkpoints()}/dis_optim_epoch_{epoch}.pt\")\n",
    "        generator.eval()\n",
    "        with torch.no_grad():\n",
    "            val_stress, val_stress_spc = validate(model=generator, data_loader=val_loader)\n",
    "            val_xing, val_xing_spc = validate(model=generator, data_loader=val_loader, criterion=xing_criterion)\n",
    "            with plot_out:\n",
    "                fig = plt.figure()\n",
    "                graph_vis(G_list[11100], generator(make_batch(data_list[11100]).to(device)).cpu())\n",
    "                plt.show()\n",
    "#         for i, fn in enumerate(loss_fns):\n",
    "#             tensorboard.add_scalars(type(fn).__name__, {'train': train_loss_comp[i].item(), \n",
    "#                                                   'validation': val_loss_comp[i].item()}, epoch)\n",
    "        hud.append({\n",
    "            'val_stress': format(val_stress, '.2f'),\n",
    "            'val_stress_spc': format(val_stress_spc, '.2%'),\n",
    "            'val_xing': format(val_xing, '.2f'),\n",
    "            'val_xing_spc': format(val_xing_spc, '.2%'),\n",
    "        })\n",
    "        log(msg := f\"stress={hud.data['val_stress']}({hud.data['val_stress_spc']}) xing={hud.data['val_xing']}({hud.data['val_xing_spc']})\")\n",
    "    \n",
    "        tensorboard.add_scalars('Stress', {'Value': val_stress, 'SPC': val_stress_spc}, epoch)\n",
    "        tensorboard.add_scalars('Xing', {'Value': val_xing, 'SPC': val_xing_spc}, epoch)\n",
    "        tensorboard.add_figure('Rome/11100', fig, epoch)\n",
    "        tensorboard.add_text('Log', msg, epoch)\n",
    "        \n",
    "    # handle.update(tab_bar)\n",
    "    pbar().reset()\n",
    "    pbar().set_description(desc=f\"[epoch {epoch}/{config.epoch.end}]\")\n",
    "    hud(title=f\"epoch {epoch}\")\n",
    "    generator.train()\n",
    "#     discriminator.train()\n",
    "    # proper: proper layout\n",
    "#     for _ in range(config.discriminator.repeat):\n",
    "#         for batch in train_loader:\n",
    "#             train_dis(batch, epoch)\n",
    "#             if config.alternate == 'iteration':\n",
    "#                 train_gen(batch, epoch)\n",
    "\n",
    "    if config.alternate == 'epoch':\n",
    "        for batch in train_loader:\n",
    "            train_gen(batch, epoch)\n",
    "\n",
    "#     discriminator_scheduler.step()\n",
    "    generator_scheduler.step()\n",
    "\n",
    "    if epoch == config.epoch.end:\n",
    "        break\n",
    "    epoch += 1"
   ]
  },
  {
   "cell_type": "code",
   "execution_count": null,
   "metadata": {},
   "outputs": [],
   "source": [
    "data = Data()"
   ]
  },
  {
   "cell_type": "code",
   "execution_count": null,
   "metadata": {},
   "outputs": [],
   "source": [
    "data.n = torch.tensor(1)"
   ]
  },
  {
   "cell_type": "code",
   "execution_count": null,
   "metadata": {},
   "outputs": [],
   "source": [
    "Batch.from_data_list([data]).to_data_list()"
   ]
  },
  {
   "cell_type": "code",
   "execution_count": null,
   "metadata": {},
   "outputs": [],
   "source": []
  },
  {
   "cell_type": "code",
   "execution_count": null,
   "metadata": {},
   "outputs": [],
   "source": [
    "import torch_geometric as pyg"
   ]
  },
  {
   "cell_type": "code",
   "execution_count": null,
   "metadata": {},
   "outputs": [],
   "source": [
    "isinstance(pyg.data.Batch.from_data_list([pyg.data.Data()]), pyg.data.Batch)"
   ]
  },
  {
   "cell_type": "code",
   "execution_count": null,
   "metadata": {},
   "outputs": [],
   "source": [
    "type(pyg.data.Batch.from_data_list([pyg.data.Data()])) is pyg.data.Batch"
   ]
  },
  {
   "cell_type": "code",
   "execution_count": null,
   "metadata": {},
   "outputs": [],
   "source": []
  },
  {
   "cell_type": "code",
   "execution_count": null,
   "metadata": {},
   "outputs": [],
   "source": [
    "preprocess_batch(generator, data_list[0])"
   ]
  },
  {
   "cell_type": "markdown",
   "metadata": {
    "id": "0qYK_X_hrq9o"
   },
   "source": [
    "# Testdata_list"
   ]
  },
  {
   "cell_type": "code",
   "execution_count": null,
   "metadata": {
    "id": "XEvmAtNjWhcY"
   },
   "outputs": [],
   "source": [
    "test_epoch = -1\n",
    "\n",
    "test_generator = Generator(**config.generator.params[...]).to(device)\n",
    "test_ckpt_epoch = get_ckpt_epoch(paths.checkpoints(), test_epoch)\n",
    "test_ckpt_file = f\"{paths.checkpoints()}/gen_epoch_{test_ckpt_epoch}.pt\"\n",
    "print(f\"Loading from {test_ckpt_file}...\")\n",
    "test_generator.load_state_dict(torch.load(test_ckpt_file, map_location=torch.device(device)))"
   ]
  },
  {
   "cell_type": "code",
   "execution_count": null,
   "metadata": {
    "id": "ZubmSTcYrq9o"
   },
   "outputs": [],
   "source": [
    "rotate = RotateByPrincipalComponents()\n",
    "def test_callback(*, idx, pred, metrics):\n",
    "    # graph_vis(G_list[idx], pred, file_name=f\"{paths.visualization()}/{idx}_{metrics['stress']:.2f}_{metrics['resolution_score']:.2f}.png\")\n",
    "    pred = rotate(torch.tensor(pred), data_list[idx])\n",
    "    graph_vis(G_list[idx], pred)\n",
    "    plt.title(f\"[pred] idx: {idx}, stress: {metrics['stress']:.2f}({metrics['stress_spc']:.2%}), xing: {metrics['xing']:.2f}({metrics['xing_spc']:.2%})\")\n",
    "    plt.show()\n",
    "    gt_pos = rotate(data_list[idx].gt_pos, data_list[idx])\n",
    "    graph_vis(G_list[idx], gt_pos, node_color='orange')\n",
    "    plt.title(f\"[gt] idx: {idx}, stress: {load_ground_truth(idx, 'stress')}, xing: {load_ground_truth(idx, 'xing')}\")\n",
    "    plt.show()\n",
    "    \n",
    "test_metrics = test(model=test_generator, \n",
    "                    criteria_list=[], \n",
    "                    dataset=data_list, \n",
    "                    idx_range=range(10000, 11000), \n",
    "                    callback=test_callback,\n",
    "                    gt_file='gt.csv')\n",
    "pickle.dump(test_metrics, open(paths.metrics(\"test\"), \"wb\"))"
   ]
  },
  {
   "cell_type": "code",
   "execution_count": null,
   "metadata": {
    "id": "t2rFXIr_PsrJ"
   },
   "outputs": [],
   "source": [
    "metrics = test_metrics\n",
    "print('stress:', metrics['stress'].mean())\n",
    "print('stress_spc:', metrics['stress_spc'].mean())\n",
    "print('xing:', metrics['xing'].mean())\n",
    "print('xing_spc:', metrics['xing_spc'].mean())\n",
    "print('l1_angle:', metrics['l1_angle'].mean())\n",
    "print('l1_angle_spc:', metrics['l1_angle_spc'].mean())\n",
    "print('edge:', metrics['edge'].mean())\n",
    "print('edge_spc:', metrics['edge_spc'].mean())\n",
    "print('ring:', metrics['ring'].mean())\n",
    "print('ring_spc:', metrics['ring_spc'].mean())\n",
    "print('tsne:', metrics['tsne'].mean())\n",
    "print('tsne_spc:', metrics['tsne_spc'].mean())\n",
    "print('reso_score:', metrics['resolution_score'].mean())\n",
    "print('min_angle:', metrics['min_angle'].mean())\n",
    "pd.DataFrame(map(lambda m: f\"{metrics[m].mean().item():.4f}\", list(metrics.keys())[:-1])).T"
   ]
  },
  {
   "cell_type": "markdown",
   "metadata": {
    "id": "L5S1HWnHOWIl"
   },
   "source": [
    "# Large Graph"
   ]
  },
  {
   "cell_type": "code",
   "execution_count": null,
   "metadata": {
    "id": "_pefPcV1OZdD"
   },
   "outputs": [],
   "source": [
    "scalability = pd.read_csv(f\"/__artifacts__/data/scalability.csv\", index_col=\"index\")\n",
    "scalability"
   ]
  },
  {
   "cell_type": "code",
   "execution_count": null,
   "metadata": {
    "id": "oMhWAsdvPnTX"
   },
   "outputs": [],
   "source": [
    "rescale = CanonicalizationByStress()\n",
    "stressfn = Stress()\n",
    "rotate = RotateByPrincipalComponents()"
   ]
  },
  {
   "cell_type": "code",
   "execution_count": null,
   "metadata": {
    "id": "LR83OcAaPID5"
   },
   "outputs": [],
   "source": [
    "stress_list = []\n",
    "spc_list = []\n",
    "pmds_list = np.load(\"layouts/new_large_graph/pmds.npy\", allow_pickle=True)\n",
    "gviz_list = np.load(\"layouts/new_large_graph/gviz.npy\", allow_pickle=True)\n",
    "with torch.no_grad():\n",
    "    for idx, col in tqdm(scalability.iterrows(), total=len(scalability)):\n",
    "        # if idx not in [406, 516]: continue\n",
    "        torch.cuda.empty_cache()\n",
    "        G = load_mtx(col['file'])\n",
    "        G.remove_edges_from(nx.selfloop_edges(G))\n",
    "        data = generate_data_list(G, \n",
    "                                sparse=data_config.sparse, \n",
    "                                pivot_mode=data_config.pivot,\n",
    "                                init_mode=data_config.init,\n",
    "                                edge_index=data_config.edge.index,\n",
    "                                edge_attr=data_config.edge.attr,\n",
    "                                pmds_list=pmds_list[idx],\n",
    "                                gviz_list=gviz_list[idx],\n",
    "                                device=device)\n",
    "        batch = Batch.from_data_list([data]).to(device)\n",
    "        # generator.train()\n",
    "        # generator(batch)\n",
    "        generator.eval()\n",
    "        pred = generator(batch)\n",
    "        pos = rotate(rescale(pred, batch), batch)\n",
    "        gt = rotate(rescale(batch.gt_pos, batch), batch)\n",
    "        stress = stressfn(pos, batch).item()\n",
    "        gt_stress = stressfn(gt, batch).item()\n",
    "        spc = (stress - gt_stress) / np.maximum(stress, gt_stress)\n",
    "        stress_list.append(stress)\n",
    "        spc_list.append(spc)\n",
    "\n",
    "        np.save(f\"/__artifacts__/gan_result/data/scalability_{idx}.npy\", pos.cpu().numpy())\n",
    "        graph_attr = dict(node_size=1, \n",
    "                        with_labels=False, \n",
    "                        labels=dict(zip(list(G.nodes), map(lambda n: n if type(n) is int else n[1:], list(G.nodes)))),\n",
    "                        font_color=\"white\", \n",
    "                        font_weight=\"bold\",\n",
    "                        font_size=12,\n",
    "                        width=0.1)\n",
    "\n",
    "        # gt_pos = pickle.load(open(f\"/__artifacts__/data/scalability_{idx}_gt.pkl\", \"rb\"))\n",
    "\n",
    "        plt.figure(figsize=[12, 9])\n",
    "        nx.draw(G, pos=gt.cpu().numpy(), node_color='orange', **graph_attr)\n",
    "        plt.title(f\"neato: large_{idx}\")\n",
    "        plt.axis(\"equal\")\n",
    "        plt.savefig(f\"/__artifacts__/gan_result/output/{idx}_{col['name']}_{col['n']}_{spc}_nx.png\", dpi=300)\n",
    "        plt.show()\n",
    "\n",
    "        plt.figure(figsize=[12, 9])\n",
    "        graph_vis(G, pos.cpu().numpy(), **graph_attr)\n",
    "        plt.title(f\"dgd: large_{idx}, spc={spc:.2%}\")\n",
    "        plt.axis(\"equal\")\n",
    "        plt.savefig(f\"/__artifacts__/gan_result/output/{idx}_{col['name']}_{col['n']}_{spc}_dgd.png\", dpi=300)\n",
    "        plt.show()"
   ]
  },
  {
   "cell_type": "code",
   "execution_count": null,
   "metadata": {
    "id": "gRXTewkYeuq1"
   },
   "outputs": [],
   "source": []
  }
 ],
 "metadata": {
  "accelerator": "GPU",
  "colab": {
   "collapsed_sections": [
    "w_p3OD0woiSM",
    "DR6-vYtr_i_P",
    "innqkwvH_ydD",
    "f-ODE2k8BFV6"
   ],
   "machine_shape": "hm",
   "name": "GAN(gan=rgan,data=best(xing,stress),dis=deep,share=10,embed=6,gp=0).ipynb",
   "provenance": []
  },
  "kernelspec": {
   "display_name": "DeepGD",
   "language": "python",
   "name": "deepgd"
  },
  "language_info": {
   "codemirror_mode": {
    "name": "ipython",
    "version": 3
   },
   "file_extension": ".py",
   "mimetype": "text/x-python",
   "name": "python",
   "nbconvert_exporter": "python",
   "pygments_lexer": "ipython3",
   "version": "3.9.7"
  },
  "widgets": {
   "application/vnd.jupyter.widget-state+json": {
    "state": {
     "000eebbcba5e4366aee524fdc1695692": {
      "model_module": "@jupyter-widgets/base",
      "model_module_version": "1.2.0",
      "model_name": "LayoutModel",
      "state": {
       "height": "500px",
       "overflow_y": "auto"
      }
     },
     "04b544ac71604a10a25d6892e9a93e73": {
      "model_module": "@jupyter-widgets/controls",
      "model_module_version": "1.5.0",
      "model_name": "TabModel",
      "state": {
       "_titles": {
        "0": "status",
        "1": "plot",
        "2": "log"
       },
       "children": [
        "IPY_MODEL_768248bac1e14197a3ec2b0921d226b8",
        "IPY_MODEL_d9807481243b4678a2c7aaf924bd1f38",
        "IPY_MODEL_6f001daef70c4d28be1c1b76ce596943"
       ],
       "layout": "IPY_MODEL_8e4febe6b7ad41d2ba8942b5b135002c"
      }
     },
     "168ebedfad474a35aaed493744ac564e": {
      "model_module": "@jupyter-widgets/base",
      "model_module_version": "1.2.0",
      "model_name": "LayoutModel",
      "state": {}
     },
     "1df2ba7d8c704cf6a392576c2241544a": {
      "model_module": "@jupyter-widgets/output",
      "model_module_version": "1.0.0",
      "model_name": "OutputModel",
      "state": {
       "layout": "IPY_MODEL_ad8efd01ebb14c34a3a97db4e60cd32c",
       "outputs": [
        {
         "data": {
          "text/html": "<div>\n<style scoped>\n    .dataframe tbody tr th:only-of-type {\n        vertical-align: middle;\n    }\n\n    .dataframe tbody tr th {\n        vertical-align: top;\n    }\n\n    .dataframe thead th {\n        text-align: right;\n    }\n</style>\n<table border=\"1\" class=\"dataframe\">\n  <thead>\n    <tr style=\"text-align: right;\">\n      <th></th>\n      <th>val_stress</th>\n      <th>val_stress_spc</th>\n      <th>val_xing</th>\n      <th>val_xing_spc</th>\n      <th>gen_loss</th>\n      <th>stress</th>\n      <th>critic</th>\n    </tr>\n  </thead>\n  <tbody>\n    <tr>\n      <th>epoch 2762</th>\n      <td>925.80</td>\n      <td>61.36%</td>\n      <td>101.64</td>\n      <td>77.69%</td>\n      <td>9.40e+04</td>\n      <td>-7.16e+02</td>\n      <td>-7.35e+02</td>\n    </tr>\n  </tbody>\n</table>\n</div>",
          "text/plain": "           val_stress val_stress_spc val_xing val_xing_spc  gen_loss  \\\nepoch 2762     925.80         61.36%   101.64       77.69%  9.40e+04   \n\n               stress     critic  \nepoch 2762  -7.16e+02  -7.35e+02  "
         },
         "metadata": {},
         "output_type": "display_data"
        }
       ]
      }
     },
     "27c53e4dd0f64b479933cc10fc8e3851": {
      "model_module": "@jupyter-widgets/controls",
      "model_module_version": "1.5.0",
      "model_name": "HTMLModel",
      "state": {
       "layout": "IPY_MODEL_168ebedfad474a35aaed493744ac564e",
       "style": "IPY_MODEL_e54eea2154a44488a906c5e69ecec185",
       "value": "[epoch 2762/None]:  35%"
      }
     },
     "2a01ed60ccc443b8acff514639477918": {
      "model_module": "@jupyter-widgets/controls",
      "model_module_version": "1.5.0",
      "model_name": "FloatProgressModel",
      "state": {
       "layout": "IPY_MODEL_72c95f7d4bc94eea8d21788a7fac8614",
       "max": 79,
       "style": "IPY_MODEL_afd23a073a8e4c4ca69bc607c8e94722",
       "value": 28
      }
     },
     "34694f16e3bf4b6a8734239578c46fa8": {
      "model_module": "@jupyter-widgets/base",
      "model_module_version": "1.2.0",
      "model_name": "LayoutModel",
      "state": {}
     },
     "43544ddc71804e859a5a74eb32739516": {
      "model_module": "@jupyter-widgets/controls",
      "model_module_version": "1.5.0",
      "model_name": "DescriptionStyleModel",
      "state": {
       "description_width": ""
      }
     },
     "47bdb97b6f5d406da884a2ecf0deea22": {
      "model_module": "@jupyter-widgets/output",
      "model_module_version": "1.0.0",
      "model_name": "OutputModel",
      "state": {
       "layout": "IPY_MODEL_8de325358d89423cb121761772e57129",
       "outputs": [
        {
         "data": {
          "image/png": "iVBORw0KGgoAAAANSUhEUgAAAb4AAAEuCAYAAADx63eqAAAAOXRFWHRTb2Z0d2FyZQBNYXRwbG90bGliIHZlcnNpb24zLjQuMywgaHR0cHM6Ly9tYXRwbG90bGliLm9yZy/MnkTPAAAACXBIWXMAAAsTAAALEwEAmpwYAABat0lEQVR4nO3dZ1xTZ98H8N/JYIsCCoLIEsUtahVUqLvOqqi14t5Ve1erdmi1lbbWXbt8bOueddS66sCJigMVEcEtoCg4UJayM87zgiYmZJ2EhID5fz+f+4XJyckFN80v1/pfDMuyLAghhBALwTN3AwghhJCKRMFHCCHEolDwEUIIsSgUfIQQQiwKBR8hhBCLQsFHCCHEolDwEUIIsSgUfIQQQiwKBR8hhBCLQsFHCCHEolDwEUIIsSgUfIQQQiwKBR8hhBCLQsFHCCHEolDwEUIIsSgUfIQQQiwKBR8hhBCLQsFHCCHEolDwEUIIsSgUfIQQQiwKBR8hhBCLQsFHCCHEolDwEUIIsSgUfIQQQiwKBR8hhBCLQsFHCCHEolDwEUIIsSgUfIQQQiwKBR8hhBCLQsFHCCHEolDwEUIIsSgUfIQQQiwKBR8hhBCLQsFHCCHEolDwEUIIsSgCczeAEGI+qZn5WBOdgn3xT5BfLIa9tQADAj0wMdQP3i725m4eISbBsCzLmrsRhJCKF3U3A1O3xUEkkUIsffMxIOAxEPJ5WDW8FToHuJqxhYSYBgUfIRYoNTMfPX+JRqFIovEaWyEfkdNDqedH3jo0x0eIBVoTnQKRRKr1GpFEirXnHlRQiwipONTjq0JoPoYYS9OIo8grFuu8zsFagBsRPSqgRYRUHFrcUkWom4/JKxZjx5XH+CcuneZjiF7yOYQeAOSXcLuOkKqEhjqrgNTMfEzdFodCkURpEQIAiKUsCkUSTN0Wh9TMfDO1kFQ19tbcvvPaW9F3Y/L2oeCrAmg+hhjbgEAPCHiM1mtYiRjC9DhER0dXUKsIqRgUfFXAvvgnKj29ssRSFnuvpVdQi0hVNzHUD0K+9v/87Wys8GGLWhg9ejRCQ0Nx+PBh0JIA8jag4KsCaD6GGJu3iz1WDW8FWyFfpecn4DGwFfKxanhrzP7fBNy7dw9TpkzB7Nmz0bJlS+zYsQMSieZtEIRUdrSqswoozwo8WglKtEnNzMfacw+w91o68kvEsLcSIKxlHUwI8VX5+2BZFocOHcKiRYuQkZGBL774AqNGjYK1tbWZWk+IYSj4qoB5+xKx48pj7cOdUgnY+9H46B0njB8/Hm5ublSZg5gEy7KIjo7GwoULkZiYiJkzZ+Kjjz6Cg4ODuZtGCCcUfFUAlyobAGDDZ1AzLxm3965Ex44dccOrP0q0vKSqVOagXmvlFRcXh8WLFyMqKgoff/wxPvnkE7i4uJi7WYRoRcFXRUTdzcCUrbEoLC4BwxdqvE7AYyDgMajNe42HRdYAT/NydAGPQXhbL3zfv6kpmmwU1GutGu7evYulS5di7969GDNmDGbNmoU6deqYu1mEqEWLW6qIzgGuGOP2BNL70bDiaf6uIpayKBJL8bDEXmvoya6tzCtBaf9i1REQEIB169YhISEBLMuiWbNmmDhxIu7fv2/uphGigoKvCrl4/F8URm9CjwAnnXuwwLEjX5lXgtL+xarH09MTP/30E+7duwd3d3e0a9cOH374IeLj483dNELkKPiqiOLiYkRFRaGgoABRKa917usDoyMY/1OZK3PQ/sWqq2bNmvjuu+/w4MEDtGnTBr1790avXr1oMzypFCj4qojo6Gh4NW6FOoO/Ql6xkfZQsVLwH1/FrVu3jHM/I6P9i1VftWrV8NlnnyElJQVhYWEYM2YMQkJCcOjQIdoMT8yGgq+KWB95CfkdZ0DkEWi8mzI8DGxcHR07dsS0adOQlZVlvHsbAdWTfHvY2Nhg0qRJuHv3Lj7++GN89dVXCAwMxI4dOyAW0xcXUrEo+KqA1Mx8XGAageUJOA9hcsEAmD/rY9y+fRtisRgNGzbE//3f/1WaDyIu9SQFPAZhLWn1YFUhEAgQHh6O+Ph4LFy4ECtXrkTDhg2xevVqFBcXm7t5xEJQ8FUBPx6KB8vTvIXBULIeVc2aNbFq1SqcPHkSe/bsQWBgIE6cOGH099MXl3qSQj4PE0J8K6hFxFgYhkGfPn1w7tw5bNiwAXv37oWfnx+WL1+O169fm7t55C1HwVfJpWbm4+DtbDA84/5fpa6n1KxZM5w4cQILFizARx99hP79+yMpKcmo76sPbfUkGVb6Xz3JVrSJvYoLDQ3FkSNHcPDgQVy5cgV+fn6YP38+MjMzzd008pai4KtkUjPzMW9fIppGHIXPnEPouPw0dC3gNISmnhLDMBgwYABu3bqF9u3bIzg4GF988QVevXpl/EZw0DnAFZHTQxHe1gsO1gIwDGBvxUfRzZPYFB5Am9ffIi1btsTOnTtx/vx5pKeno379+pgxYwbS0tLM3TTylqHKLZWIpiolprBhTBtOofHs2TN89dVXOHLkCBYsWIAxY8aAz+ebtG1cTJ8+HdbW1li6dKm5m0JMJC0tDStWrMDGjRsxcOBAfPHFF2jQoIG5m0XeAhR8lQTXepzG8NOQFghr6anXa2JjY/Hpp5+ioKAAv/zyC0JDQ03UOm5SU1PRqlUrJCcno0aNGmZtCzGtly9f4rfffsOqVavQuXNnzJkzBy1btjR3s0gVRsFXSXA6gaEcWJYFwzCY0a0+pnc17Fszy7LYuXMnvvjiC7Rr1w5Lly6Ft7e3kVvK3ahRo9CoUSPMmTOnQt6PimWb1+vXr7F69WqsWLECzZs3x5w5cxAaGgrGiCudiWWg4KskuJ65pz8WAIOSjIf4dey7GBzSrNx3LCgowLJly/Dbb79h6tSp+PLLL2FvX/Ef/Ddu3EC3bt3w4MED2NramvS9qFh25VFcXIzNmzdjyZIlcHNzw5w5c9CnTx8KQMIZLW6pJLhWKdEfAwdrAZ5vnIYncVFGuaOdnR3mz5+Pa9euISkpCQ0bNsS2bdsqvBJH06ZN0bZtW2zatMmk70PFsisXa2trTJw4EXfu3MEnn3yCuXPnokWLFti+fXul2YNKKjcKvkrC2oTrRfJLxKhZsyYOHz5s1PvWrVsXf/31F3bs2IGffvoJ7du3x+XLl436Hrp8+eWXWLZsmUk/8KhYduUkEAgwdOhQxMfHY/HixVi1ahUCAgLw559/oqioyNzNI5UYBZ+Z3bx5E7169ULx3XPgwTQ9JgErgaenJy5cuACJxPiLZzp06IDLly9j0qRJGDBgAEaPHo0nT54Y/X00vbeHhwd2795tsvegYtmVG8Mw6N27N6Kjo7Fx40bs37+fNsMTrSj4zOT58+eYPHkyOnfujJ49e+L4b1/CWmj8mpM8sHAveowbN26guLgYERERJtmTx+PxMHbsWNy9exceHh5o3rw5Fi5cWCHfvGfPno0lS5aYbKiVc7HsYjEKCgpM0gbCTWhoKA4fPozDhw8jNjYWfn5++Oabb/Dy5UtzN41UIhR8FaywsBALFy5EkyZNYG9vj7t372L69Onwr11DY5USdfgMYCPgwUpHSS8rAQ9b5o3BtGnT4Ovri927d6Nu3boYPnw4jh49avQeYLVq1bBo0SJcunQJsbGxaNy4Mf755x+Tzv/17t0bYrEYx44dM8n9uRbLhrgItWrVQuvWrfHxxx9jy5YtuH//Pp1CYAayAtgXLlzA06dP0aBBA3z66ad4/PixuZtGKgEKPiNQrLbiO+cQmkYcxbx9iUqLHaRSKbZu3YqAgADExcXh0qVL+PHHH+Hk5CS/RrFKiYAVAWDh8N+S+QGBHnCwFgBgIS3Ox5BWHjj66bv4c2RrtWEp4DFgRUX4MawRvF3s4ePjg3r16sHNzQ1JSUkIDg7GvHnzULduXXz++edITEw06u+kXr162LNnD9auXYtvv/0WnTt3xvXr1436HjIMw+DLL7/E4sWLTXJ/rsWyR4QEIDMzEytXroS/vz8OHjyIbt26oVatWujTpw++//57HD9+HLm5uSZpJ1FVv359rFmzBomJieDz+WjRogXGjx+Pe/fumbtpxIxoO0M5cVnmLsi4i5kzZ4LH4+HHH39ESEiI1nuyLAsfHx8cOXIEjRs3VnouPT0dnp6eyM3NhaOjI4DS4F19Jglbzt0Dz9oWDtZC9G/hjuUTe6Mw4xF4PB7279+PP//8E9HR0Xj69CkcHBwAALdu3cKWLVuwZcsW1KpVC6NGjcKwYcPg5uZmtN+RWCzGmjVrEBERgQEDBmDBggWoVauW0e4PACKRCPXr18fOnTsRFBRk1HunZuajx89nUSTWvMDFVshH5PRQtfv5njx5gkuXLiEmJgYxMTG4evUqvL29ERwcjKCgIAQHB6NJkyaVoiLO2072xWTlypXo1KkT5syZg1atWpm7WaSCUY+vHLgscx+//gJGTpmBmTNn4uLFizpDDygNI4Zh0KhRI5XnXF1dwTCM0gpNbxd7NCu5jZy147FzQC3ciOiBGaEecGALwfuvuLWnpyeePXuG1q1b4+zZs/LXNm7cGIsWLUJqaiqWL1+O+Ph4BAQEoE+fPti5cycKCwsN/fXICQQCTJkyBXfu3IGdnR0aN26MFStWoKSkpNz3lhEKhZg1axaWLFlitHvKeNawgcudveCzErU9a13Fsj08PBAWFoYlS5bgzJkzyMnJwbZt29CmTRtcuHABQ4YMgZOTE7p06YKvvvoKBw4cwPPnz43+cxDAxcUF8+fPx4MHD9CuXTv069cPPXv2xJkzZ2hI2oJQj68cuFRbYSBF+Dt1sXBQIOf7Ll++HCkpKVi1apXKc3l5eXBxcUG3bt1w6NAh+eOdOnXC1atXkZSUJB/O7NGjB5KTkwGULqZp1qwZpk+fjpcvX+Knn37S+P55eXnYu3cvNm/ejKtXr2LQoEEYNWoUQkJCjLJJ+M6dO5g5cyaSk5OxYsUK9O7d2yj3LSgogK+vL06fPq32S4OhvvzyS8TGxmL19r3YePER9l5LR36JGPZWAoS1rIMJIb7lrtySlZWFy5cvy3uFly5dgpOTE4KDg+X/a9GiBaytrY30UxGgdDP8li1bsGTJEtSqVQtz5sxB3759aTP8W46Crxy4VltxsBbgRkQPzvft0qULZs6cib59+6o89/LlSwS8EwJhs55wadUDBSVS2AoZvEo4iZyYf/D66QMwDIMrV65gypQpiI2NBVA6x2hra4sTJ05gypQpuHHjBqe2pKWlYdu2bdi8eTMKCwsxcuRIjBw5Ev7+/irX6lvS6/Dhw5g5cyZ8fX2xYsUKo4TV999/jwcPHmD9+vXlvhcA7NixA3PmzMGVK1dQs2ZNo9yTC6lUinv37slDMCYmBvfu3UPz5s2VwtDLy4s+pI1AIpFg9+7dWLRoESQSCebMmYMhQ4ZAIDD+SmtifhR85eA75xCnnXcMAzxY2IfTPV+9egVPT088ffpUbRmw3RduY9ae22AEAoB5MyfEsFKwEhE2TAhB5wBXHDt2DMuWLcPx48fftNfXF8eOHUNQUBBu3LgBDw8PTm0CSucd4+LisHnzZmzfvh3169fHqFGj5MN0hpb0Kikpwf/93/9h4cKFGDZsGCIiIpQW/OgrKysL/v7+SEhIgKenfoW4y4qPj0f37t1x/PhxBAYGlutexpCXl4erV6/Ke4UXL14EwzBKQfjOO++YpXzc24JlWURGRmLRokVIT0/H559/jjFjxsDGxsbcTSNGRHN85cB1mbu9FfdvjSdOnEC7du3UfnilZuZj3pEHYITWSqEHACzDAwTW8tJZOTk5KqcWyAK1S5cuep+wzjAMWrdujV9++QXp6emYPXs2Tp48CR8fH7wfPg4fbb5sUEkvKysrzJgxA7du3UJJSQkaNmyIVatWGVyJxdnZGWPGjNE6lMvFy5cvERYWht9++61ShB4AODg4oGPHjvjyyy+xd+9ePH36FDExMRg6dCiePXuG2bNnw9XVFYGBgZg8eTI2btyIO3fuQCrVXnWGvMEwDHr16oWzZ89i06ZN+Pfff+Hn54dly5bRZvi3CAVfOXBd5l72pHNtDh8+jN69e6t9rrR0lvY+pqx0VnZ2tkrPydPTE2lpaXjvvfeUeoL6EgqFeP/997Fr1y48fPgQwmY9UKJlxaNiuzSpVasWfv/9dxw/fhy7d+9Gy5YtcfLkSYPaN3PmTGzYsAFZWVkGvV4sFuPDDz/EkCFDMHToUIPuUREYhoG3tzc+/PBD/PTTT7h48SKysrKwevVqNG7cGMeOHUPv3r3h4uKCnj17IiIiApGRkQb/XixNSEgIDh06hCNHjiAuLg6+vr74+uuv8eLFC3M3jZQTBV85jAmuC6lY+8pETSedq8OyLI4cOaIx+PbFP4GO3JOXztIWfN27d8eJEyeMsorNyckJ90pqADztS/G5lvRq3rw5Tp48iW+//RYTJ05EWFiYfIEOV56enhgwYIDaxUFcfPHFFxAIBFi4cKFBrzcna2trtG3bFtOmTcNff/2FlJQU3LlzB1OnTkVJSQmWLl0KHx8fNGzYEKNHj8bvv/+Oa9euUXFnLWQFsGNiYvD8+XMEBATQZvgqjoLPQMXFxZg5aRR80k7AVsgzaJl7WQkJCbCzs0P9+vXVPs+5dFaJWONQZ1paGnx9fWFvb895gYvO99OjXVwwDIOBAwfi1q1baNu2LYKCgvDll1/qVWrt888/x2+//aZ3CbEtW7bgwIED2L59+1uzr87NzQ39+vXDwoULcerUKWRnZ2PXrl0ICQlBbGwsRowYAScnJ5VhVKLM398fq1evxo0bNyAQCNCiRQuMGzcOd+/eNXfTiJ4o+AxQVFSEgQMHQigUInLDCkROfxfhbb1gJ+SBZaWwt+IjvK0XIqeH6nVGm7ZhTkC/OUVtPT4A8kUbxmCKuU4AsLGxwZw5c5CQkIDnz5+jYcOGWL9+Pac5q0aNGqF9+/Z6re68evUqZs6ciX379sHZ2VmvtlYlfD4fzZs3x8SJE7Fu3TrcvHkTjx8/xrx58+Dg4IC1a9eiadOmSsOoFy5coBMP/uPh4YHly5cjKSkJPj4+CAkJweDBg3H16lVzN41wRMGnp8LCQvTv3x/29vbYsWMHrKys4O1ij+/7N8W+EfWQvjwMJya3wPf9m+q9t+vw4cPo1auXxucHBHpAVx9ENqdYkcFnirlORR4eHvKq+2vXrkXbtm1x7tw5na/78ssvsXz5cohEIp3XZmRkYODAgfjjjz/QtGlTg9pZldWoUQPdu3fH119/jUOHDuHly5c4ceIE+vbti6SkJEybNg0uLi4qw6iWvCjc2dkZ33zzDR48eIAOHTqgf//+6NGjB06fPm3Rv5eqgIJPDwUFBXj//fdRs2ZN/PXXXxAKhSrXMAxjULWT7OxsXL9+HR07dtR4zcRQP/B52v+Dks0pahvqBEr3Cp4/fx7FxcV6t1Vdu4Q6imXrM9epSZs2bXD+/HnMnDkT4eHhCA8Px6NHjzReHxwcDB8fH+zatUvrfUUiET744AOMHDkSgwYNKlcb3xYMw6B+/foYOXIk/u///g+xsbF48eIFVqxYAS8vL+zZswehoaEqw6iWuPLRwcEBM2bMQHJyMoYMGYJJkyahffv2OHDgAK2oraQo+DjKy8tDnz594OHhgc2bN6vd2MqyLHg8nkHBd/z4cbz77ruwtbXVeI23iz2G+xSBJxUB0jLzZVKx0pyiuh5f7dq18fLlS4hEItSoUQONGzfGhQsX9G6runZpOlnCkLlObRiGwbBhw3Dnzh00aNAALVu2xPz585Gfr/7089mzZ2Px4sVav4HPnDkT1apVw7ffflvu9r3N7OzsEBISgs8++wy7d+9Geno64uLiMGrUKGRlZeGbb76Bu7s7mjVrpjSMaikf/tbW1hg/fjxu376NGTNmYP78+WjRogW2bdtGi4cqGQo+Dl6/fo1evXrB19cXGzZs0LrogWEYg85k0zW/J+NjlQ/fO9vBpFyEg7UALCuFDZ9F9Rc3lOYU1QUfn8+Hm5ubfOGCMYc7ZSdL9G9aE2xJAQAWQogNmuvkwt7eHt9++y3i4uJw9+5dNGrUCNu3b1cJuB49eoDP52s8fX79+vU4duwYtm7d+tYsZqlInp6eGDx4MJYvX45z584hOzsbGzduRGBgIE6fPo0BAwbAyclJZRj1bcbn8zFkyBDExcVh2bJlWL16NRo0aIDff/+d5kkrC5ZolZuby7Zr146dNGkSK5FItF57+/Zt1tbWlj1z5oxe7yGRSFhXV1c2JSVF57V//PEHW79+fXbZsmUsy7Ksq6sru2TJEnbChAlK17m4uLAZGRkqrw8ODmbPnz/PsizLnjlzhm3durVebdUlMjKS7dSpE/v777+zkyZNMuq9tTl79izbqlUrtn379uzly5eVnvvrr7/Y4O7vs3P3JrBN5keyPrMPsk3mR7IT/zzO1vJtxN66davC2mmJXrx4wR48eJCdN28e261bN9bR0ZH19/dnR4wYwf7222/slStX2JKSEnM306TOnTvH9unTh3V3d2eXLFnC5ubmmrtJFo16fFrk5OSge/fuaNmyJX7//Xf5SQeasCxr0BxfXFwcnJ2d4eurew4sKysLqampGDNmDADA0dFRvrpMsR3q5vgA5Xm+4OBg3L9/H5mZmXq1V5vr16+jRYsWcHNzq9ATBkJDQ3H58mWMHz8e/fr1w9ixY+U9W9cWnfC0xRhsv/wIecVisADyisU4mpSPGuFL8YznUmHttEQ1a9ZUOo8wKysL+/btQ+fOnZGQkIBx48bByclJaRhV9jf6tujQoQMOHjyIyMhIxMfHw8/PD/PmzaPN8GZCwadBVlYWunXrhuDgYKxcuVJn6MnweDy9hzq5DnMCwPnz51GvXj15weTq1asjNTUV3t7e8mtev34NW1tbtYtvFIPPysoKoaGhBldIUcdcwQeUDjHJ9lW5urqiWbNmmPPDCvxvRzwgsFbZ/M/wBSiRMhrLqRHT4PP5aNKkCcaNG4fVq1cjISEBT548wXfffQdnZ2ds3rwZrVq1kg+jLlu2DNHR0QZNIVQ2zZs3x19//YWYmBi8ePECAQEBmD59utZFWsT4KPjUyMzMRNeuXdGxY0f8/PPPnKvfs3osblE8tX19QSscsu2icmq7uvvHxMSgTZs28sccHR3x+PFjpR5fdna22t4eoBx8gHHn+YDSTfjmCj4ZR0dHLFmyBDExMTj2SIzCIu3VdXSVUyOm5+joqHIe4dmzZzFw4ECkpaXhs88+Q61atdC6dWt8/PHH2LJlC+7fv19ltw34+/vjzz//xI0bN2BlZYXAwECMHTsWd+7cMXfTLAIFXxkvXrxAly5d0KNHDyxfvlzvI1+4BF/U3Qz0/CUaO648Lj3WiGFQJAF2XHmMnr9EI+puhvrXRUWBx+MpHQnk6OiIZ8+eKQVfTk6OxhMONAWfMT5AiouLkZSUhMaNG5s1+GT8/f1R7N4C4GvfOM+1nBqpOAzDwM/PD8OGDcMvv/yCS5cuyU9P9/f3x8GDB9GtWzeVYdTc3FxzN10vHh4eWLZsGZKSkuDn54d3330XgwYNkh8nRkzDIg+b0nRuXFgjR4we1AdhYWH47rvv9A492RyftiEZxVPbyxJLWYilpScZRE4PVVn+/8cff6BZs2ZKWx4cHBzw+vVruLu7yx9Tt6JTpmzwNWrUCCKRCElJSRpLpXF169Yt1KtXT+kIl7y8PDg4OJTrvuVh7HJqxHxsbGzQrl07tGvXTv7YkydP5OcVLliwAFevXoWXl5fSUU1NmjSp9Ct2nZ2d8fXXX2PmzJlYs2YNwsLC0KhRI8yZMwedOnWiMxeNzOJ6fGV7W7KFDjuuPMKgtXFoN3A8vv/+e4P/0HT1+EpPWND/JINnz57h+PHj8PPzUzmFu3r16kr/Yesz1MkwjNGGO2XzezKVoddnqnJqpHLw8PBAWFgYlixZgjNnziAnJwd//fUX2rZtiwsXLsjPiyw7jFpZ2dvb49NPP0VycjKGDh2KyZMno127dti/f7/F7IesCBYVfIq9LdVz4wAIrHAOjQxe6CCb49PW49sX/0TlvctSN/S2fv16DB48GACUelRSqRTVq1dXulbbUKe7uzuePXsGieRNj/NtDj5Tl1MjlYtAIFA5j/Dhw4f44osvYGVlhVWrVqFhw4bw8/NDeHi4fBjVGBWMjMnKygrjxo3DrVu3MGvWLHz77bdo3rw5tm7dSpvhjcCigs/Q3pY+dPX4OA+9FYvli1985xzC6qwG4LUNR7ZIoNTjKy4uhp2dndJrtQ11WllZwcXFRSmQunXrhtOnT5f7P6jKGHwVVU6NVF7Ozs5K5xFmZmbi8OHD6NmzJ+7cuYPJkyfD2dkZ7dq1w4wZM7Bz506kpqZWioUzfD4fH3zwAa5evYoff/wRa9euRf369bFq1SqDKkSRUhYVfIb2trjiso+P69AbCygNx0Joi5MPixDn1gMPi9/M/RUUFKgMfWob6gRUhzvd3Nzg5eWFK1eucGqb2vaybKUMvoosp0aqBh6Pp3Ie4fPnz7F48WLUrl0bO3bsQFBQEDw8PDBgwAAsXrwYp0+fRl5entnazDCMvAD2tm3bcOTIEfj5+WHJkiV6HddFSllU8FXEQgddQ51cht5kVIdjWUh5Qmx9aC0fjn39+rVK3VBtQ51AafCVPUSzvMOd6enpEAgEqF27tvyxyhB8wJtyauFtveBgLQDDAA7WApOVUyNVj4ODg8p5hDExMQgPD8fz58/x1Vdfwc3NTWUY1Rzzbu3bt8e///6LY8eOISEhAX5+fpg7dy4yMtSvBieqLCr4TL3Qgcs+Pi5Db7pIpIx8ODY7O1tlSEbTUKds72BiwGjMirVG04ij8r2D5Q2+sr09oPIEHwD50VE3InrgwcI+uBHRw6Cjo4hlYBhG5TzCrKwsrF69Go0bN8axY8fQu3dvuLi4KA2jZmVlVVgbmzVrhm3btsm3egQEBGDatGm0GZ4Diwq+0t6W9mvKu9BBV/DJht6s+YzKCQtce4ISQD4c++LFC6WFKoD6oU7F1axiRgiA+W81a+neQda9MeLj4w0+VqayBx8h5WVtba1yHuGdO3cwdepUlJSUYOnSpfDx8UFAQIDSMKqpF6PUq1cPf/zxB27dugUbGxu0bNkSY8aMwe3bt036vlWZRQXfwMbVIS7RXsWjPAsduKzqBEqH3oY7P4Rn8SPwJMVg8Gbojav8EjFKSkqQk5OjsiKt7FCn9tWsLApFEszYfRMtQ7vj9OnTnNugiIKPWKKy5xFmZ2dj9+7dCAkJQWxsLEaMGAEnJyelYdQnT56YpC3u7u5YunQpkpKS4O/vj44dO2LgwIHlmrt/W1lM8L18+RJjBvdFV5sHsBXywUB5bN5YCx24liyLP3cCU9o4o/m9zVjRtkQ+9Oagx3Ds48eP4erqqjK5XXaok+tq1mpt+hs83EnBR0jpKsyy5xE+fvwY8+bNg4ODA9auXYtmzZrBy8sLQ4YMwYoVK3DhwgWjHlfk5OSEefPm4cGDB/Lw6969O06dOlUpVqpWBhYRfFlZWejevTv69OmDtd/NQOT0UDi9vAm+VASwrNEWOnCt1SmVSnHmzBl06tQJtra2StdzWfzCZ4CwlnXw8OFD+Pj4qA0+xaFOrqtZU6S1DAq+goICPHr0CA0bNlR6nIKPEKBGjRoq5xGeOnUK/fr1Q0pKCqZNmwYXFxeVYdTyhpS9vT2mT5+O5ORkDBs2DFOmTEFwcDBthsdbVLJMUxmyD1vUxNgP3kfXrl2xcOFCMAyDuk62SN2zDLNmzUJaWhpWLV5ltHbw+XydQ503btyAi4sL6tSpAxsbGzx5JcK8fYnYF/+ktHanDkI+gwkhvji5/zL8/Pxw8eJF+VYKQHWok+tq1iIJi9cvXiAtLQ2enp6cXiP7eQICAlROg3B0dERJSQkKCwu1nixPiCVhGAb+/v7w9/fHiBEjAJR+eYyLi0NMTAz27NmDzz//HCKRCMHBwQgKCkJwcDDatGkDR0dHvd/PysoKY8eOxahRo7B371589913+OqrrzB79mwMHTpU7Skub7u3Ivii7mZg6rY4iCRSec9GVoZs64UktHu3P5YtmycPhnv37sHR0RHOzs5ITU01Wju4nsd3+vRpdOrUCQDwupoX/njkDDx+rNwrY1mAUd13Jiouwg/vN4K3iz0ePnwIX19f2NjYID8/Hw4ODigqKoJUKlUKGntrAadAtRPy0LZrVxw/fhxjx47l/HOrG+YESv8Dl/X6FItoa6Lpy8vEUD9afUneanZ2dggJCUFISIj8sbS0NMTExCAmJgYRERG4du0afH19leqQNmrUiPORaXw+H4MHD8agQYNw/PhxLFq0CF9//TU+//xzjBs3zqK+nFb5oU6dZcj4Voh3aINHWW96YRcuXED79u3B5/NVVkSWF5/P5xx8qZn5uGbXGmKWpzoUKQs9llVa/JK3+yt0bugGAPKhzurVq8uHO2XDnIq1RrkMnzKQIjvuKIqLixEZGanXz3z9+nU0b95c7XNchzs111DVfmIFIW8r2XmEy5cvR3R0NLKzs7Fx40YEBgbi9OnTGDBgAJycnFSGUXVhGAbvvfceoqKisH37dhw9ehR+fn5YvHhxlTvdwlBVPvgMKUNmquDjsqpTNr/XsWNHrIlOgVRnMWwpRgR7yxe/FGY8kldqSU1NhY+PDxwdHeV/sOo2r3PZO2gjFGLXgikoLi7G7t27sWvXLs5zDJp6fAC34OOy6pQOiyWWTigUqpxHmJycjE8//RQA8PPPPysNoa5cuRKxsbEo0bKSvV27djhw4ACOHTuGGzduoF69evjqq6/e+s3wVT74DClDduHCBXTo0AECgcDoe2x09fgU5/f2xT8Bq+v/AoYvbzvLsiguLpYH38OHD+Ht7a3S4ysbfLK9gzypWOtq1pAWAThy5Ag8PDwwd+5cdO7cGdevX9faPJZl5YfPqsMl+Cqihiohb6Oy5xFmZWXhwIED6NKlCxISEjBu3Dg4OzsjJCQEn332GXbv3q1UrlCmWbNm2Lp1Ky5fvozs7GwEBATgk08+MepUUGVS5YNP3zJkWVlZSEtLQ9OmTU3S42MYBiKRSON9Fef39G27WCwGwzAQCAQQiUR4+vQpPD09lXp8mup01mFykPf3HAxpVUdn2a5+/fphwoQJGDp0KN577z1MnjwZL168UNu2hw8fwsHBATVr1lT7PJfgM3UNVUIsBY/HQ+PGjTFu3DisXr0aCQkJePLkCb777js4Oztj8+bNaNWqFerUqYNBgwZh2bJliI6Olo9S+fn54ffff8etW7dgZ2eHVq1aYfTo0bh165bKe8kqQckK6StWgqrsqnzw6VuGLCYmBm3btoVAIDDJHB/DMCpbFBRFRUXJg0/fthcXF8uPJEpPT4ebmxusrKzg6Ogo7/FpqtP5ww8/4JOx4VjyQSudZbu6d++OkydPYvLkybhz5w5sbGzQuHFj/PzzzxCJRErXauvtAdyCjw6LJcR0HB0dVc4jjI6OxuDBg5GWlobPPvsMtWrVUhpGzcvLw+LFi5GUlIQGDRqgc+fOCAsLw+XLlwFU/Tn5Kh98+p63JpvfA2CSHh8AjcEnlUoRfe0OrrB+aBpx9L+Vltp7OrI9ewBQVFSkNMwpWylZvXp1pR6flXMdpW9ijb85ghM5LggbOZHTz9G5c2dcvHgRRUVFcHJyws8//4wzZ87gyJEjaN68udLiF23zewC34KPDYgmpOAzDqJxHmJmZiZUrV8Lf3x8HDx5Et27dULNmTYwYMQISiQRr1qxBUFAQBg8ejI59BuGjzVeq9Jx8lQ8+fc9bM2XwAdp7fBuPXobDBz/g31tZCtsLdIe2rO1FRUXyHp9sYQsApR5fwksJoquFKn0TKxBJYdW4Mz5YH8/pm1j16tXRrFkznDt3Tv5Y48aNERkZiWXLluGTTz5B3759ce/ePU7B9+zZM63vR4fFEmJeNjY2KucRJiYmYsKECSgoKMCKFSvwww8/wN7eHi9rBqJYpH30pbLPyVf54JMt3LAR8sBKVIs+K5YhE4vFuHLlCoKDgwGYrsdnZ2ensrIzNTMfC8++AATWOuezZG1nRUVY1r+BfChS3cIWAPLFLamZ+ThZ5AsJ+CrvwYKn1zcxdac1MAyDvn374saNG+jUqRPat2+PU6dOwc/PT+N9uPT46LBYQiofDw8PhIWFyc8jzM7Oxvbt2yGqEwiGr330pbLPyVf54ANKiz5P8c6CU9YtrQs3EhIS4O3tLV/8UZE9vjXRKRDr2h7w3/MO1gIMae2BF5tn4P136smfVuzxKQ51yha3rIlOgVRHD5LrNzFtxxRZW1vjs88+w6VLl5CXl4d+/fph7dq1an+XXIKPDoslpPITCAQIDAyEiOUWG5V5Tv6tCD4A2LtlDb7u1UDrwg3FYU6gYuf49sWnAwxf+w0YBg7WAtyI6IFJrWqgli2jtBFdscenbqhzX/wTsIz2/0u5fhMLCgpCcnKyxtWcAPD8+XMEBgbi0KFD2LhxI9q0aYPo6Gila5ycnFBQUKCzCK/ssNghrT0gLc6nw2IJqaTehjn5tyL47t+/j9u3b+P999/Xep2pgw8o7fGpG+rML+b2PrJvSU+fPlU6zRxQ7fEpDnXm5uYadXWkUChEx44dcfLkSY3XyOb3WrdujejoaHzxxRcYPnw4hg4dKj8Mk2EYuLq6ctoQ6+1ij5nveqJg81Q6LJaQSuptmJN/K4Jv/fr1GDFiBKysrFSeU9xrcsFrGJamuMr3mlRkj0/IcHsf2bekp0+fwt3dXek52XYGiUSC9PR0eHmVnt8n6/EZ+5vYe++9p/W0BsWFLQzDYOjQobhz5w4aNmyIli1bIiIiAgUFBXqd0pCXlwcHBwdO1xJCKt7bMCdf5YNPLBZj06ZNGD9+vMpzZfeagGFQIGLle01uZrEVNsfnmHUXPB1bF3hg5d+Snj17phJ8su0MT548Qc2aNeXDnrLFLQMCPVQW+KiQShDiqfoFQR3ZPJ+m0mXqVnTa2dkhIiICcXFx8hCUSqU6V3bKUPARUrm9DXPyVT74jhw5Ah8fHzRu3FjpcS71H1deL0axsJrR2qJpVadUKsXDyPWwEnD/lqStx6c4zAm8WdwyMdQPkGoPPiGfwf6l0zF69Gi1pYsUNWjQAEDpaRZlSaVS3LhxQ2Nxam9vb+zYsQPbtm3Do0ePMHPmTMTFxWl9P4CCj5CqQDYnH97WS2clqMqoygff2rVrMWHCBJXHudR/lEiBV+7vGLU96np8iYmJcLaS4PcR76j9lsRKxGBFRVge1lD+LUnTHJ+1tbXSik7gzVCnZw0bvNy3GHxWDIZVX5Nz9egg3I09B09PT7Ro0QLffPMN8vLyNP4smlZ3Jicnw8XFRW15NEWhoaEYP348mjZtij59+mDixIlahz1fv35NwUdIFeDtYo/v+zfVWQmqMqrSwff06VOcPXsWQ4YMUXmOS/1HCQsU1m5mtPZomuM7ffo0OnfurPQtiREX/3fcEB+FiceRs/1L9G31ZkxcW49PcUUn8GZxS05ODoQv7yNnx5cYFFhb4zcxR0dH/PDDD7h27RpSUlIQEBCAdevWqR321RR8ujauK3J3d4eXlxfu3LmD6tWro2nTpli+fLlS1XjZXOz/Thcj6Z1Pq1TdP0JI1VJ515tysHnzZgwePFhtD4HrCkeWz22+iyt1qzpPnz4tD2fZt6SDESOxfv16tGjRAgJBbzRs2FBp64K2Ob6HDx+iTZs28scdHBxQUFCAly9fgmVZjB3cF8uHtsFyHW318vKSV2SfNWsWfv31V/z444/o1q2b/JqA1h1waVsMmkREoqBYIj8cNi/+Dufgc3Nzw6VLl1C9enUsX74cEydOxKxZs7B69WqsWLEC9v5tMPWva/8dJMwAzJu6f//EpWPV8FaVfuiEEFJ1VNkeH8uyWLdundpFLQD3vSYQaz6rypA2Aco9PqlUirNnz6Jjx45K1+bk5KB69erg8XgQCASoW7eu0vPqenyy7Qxlhzp5PB4cHByQmJiI/Px8fP7553q1u23btjh79iy++eYbfPTRR+jbty9u376NqLsZGLblJmwad0Z+sUSpEO1+UVNY+bTkdP+yqzoDAgJw8OBB/PLLL5g5fxHGrb9Ypev+EUKqliobfNHR0RAKhQgKClL7PJe9JnwGEKTpXnChj7JzfImJiahZsyY8PDyUrsvNzZXPjwkEAqWQk0gkePHiBVxdlXs5sg3sZYc6gdJ5vjVr1sDDwwNubm4GtXvQoEG4desWunTpgo59BmHChtJAAk/5S4RYyoLlCbHlgTWnQNK0naFXr14YPHeVzvJHlb3uHyGkaqmywbdu3TpMmDBBaXhQEZe9JgIeA/79M0Zr07M8MXL8e+DPzAbYY9UFTSOO4uv9N9C2S2+l61iWxatXr+Do6AigtMemuJDlxYsXcHJyglAoVHqdbKjz0aNH8j18Mra2toiOjta4ypIra2trzJw5E6MWbYJUx5+HRApOgaRtH9+BhGc6y6xV9rp/hJCqpcrM8aVm5mNNdAr2xT9BfrEY0pp9UcvdB6mZ+WpXEcn2mkzdFvff3NGbYTQBj4GQz8Pcjq74bpdxzo2KupuB2Wdfo8S9JcDy5PNUCWw1CJ26IupuhnyeKi8vDzY2NhAI3vz6FXt36ub3gNIen0gkgpOTE2xtbZWey8vLQ+PGjdW+zhCRt7M4lz/7vn9Trde5uLjg1atXEIlEKmFuSLWZsn8LsnnHiaF+VWJFGSHEvKpEj0/doYeMlR32Jb7Qeuihrr0mwd6ORtnALtszWCIBwCtTj5PhQ8QySvNUOTk5StsApFIpXFxc5P9WN78HlPb4CgoKVIY5nz9/jhcvXsDf31/n9gKujFn+jMfjoWbNmmrLlulbbaaqH4BJCDG/Sh98XDaia1v8oG2vibFKlnHZM6g4T5Wbm4vq1au/+TnEYqVT09Xt4QNKe3x5eXlKm9cBYNmyZfDx8UFhYaHa09cNYezyZ5qGO/Wp+1fevwVCCAGqQPDpGyr6MFbwcdkzqDhPpbiwRSQSQSwWo1q1NxVktPX4cnNzlXp8GRkZWL9+Pdq0aYOcnByjBd+AQA+VTfBl6VOIVlPwTQz1AysRaX2trKKNKf8WCCGWo9IHn76hog9jBZ++w4KyrQwAkJ6eDisrK4hEbz78tc3x5eTkKAXf8uXLER4eDnd3d6VALS+b1AucA4kLTcF38fi/yDqwFHxWotrzYyVKdf9M+bdACLEclT74jDnXVJaxgo/7sGDp/J9iQD169Ah2dnZKlV40DXUWFRUhKytLPtT54sULrF27FrNnz5YXqjZGj2///v1YteRbLOrrD1shH5CW+R1JxXoXolUXfImJiZg0aRJcSp6rzMXaW/FRfPMUNgzxly8KMuXfAiHEclT64DPloYfGCj4u81RgJci9fgLr1q1DVlaWvMf36NEjVKtWTSX4NPX4MjMz5T2+FStWYMiQIahbty4cHR1RUFBQ7uC7dOkSJkyYgP379yO8Y3Mc/F97FCYeh4M1HwwDWPNY1Hp1T+9CtGWDLzs7G++//z4YhsH27dtR391JaS725rc9MawBH39v+F3+mrfhAExCiPlV+uAz5aGHxgo+LnsGba2ssGraIGzatAkLFixAdnY2gNLgc3R0VDqhXNscX0ZGBry9vZGZmYnVq1dj1NSZmLcvEasy6sF6zBqMPZRpcI3LpKQkDBgwABs2bJCXRBNlPUG1e0dwI6InHizsg4HS83jfvVDvbQOKwSeVSjFixAgIhUJMmTJFqfyaok8//RQbNmxATk4OgLfjAExCiPlV+uAz5aGHxgo+2Z5BKz5UzsNTPJ/q/c7tcObMGbRr1w4nTpxAr169cO3aNdSoUUPe42NZFs+ePVM71Pn69WvY2dnB3t4eK1aswLtDp2D87hTsuPIYJSwPDMNTOm9Qn6X9L168QK9evRAREYG+ffvKH79+/brSpnh9ilMrUgy+iIgIPHjwAHw+HxERERpfU7duXXR+fwiG/3QATSOOYuulRzrn+Cr7AZiEEPOr9MFnykMPjXkCe+cAVyxob4vCxOOwEzBgWSnsrXgq51MxDAM3NzdERESgV69e2L9/Px4/fiwPhVevXoHP56stvP3q1Su4u7sjKysLf27bg9vO7Y2ytL+goADvv/8+hgwZgo8++kjpuYSEBKWgMyT4UjPzsfexFZICp8BnzkFsym+OVw16YfHKtbCxsdH4uqi7GbhRtx9uFFYvPUhYRs3BuFXlAExCiPlVickQ2Ub0teceYO+1dOSXiGFvJUBYyzqYEOJr8AedMYMPAMQ5z5BzcjWOLhyPoUOH4ubdu2qvy8nJgYuLC8LDw7Fq1SoIhUIsXboUAoEAffr00Vh9JS8vDw0aNMBPP/2EhgOm4pn2lf3ypf3aKqtIJBKEh4ejQYMGWLBggcrz169flxcCf/nyJfLz81X2EWoTdTfjv+o5EkBYGnKMlS2EDTthztk8VK+boXauULZnr1jCqtbyVChTx6B07q+8fwuEEMtRJYIPeLMRXVd5LH0YO/hiY2Ph5OSEM2fOoHPnzhqvk21gZ1kWaWlpmD59OnJzc5GYmIhffvkFLi4ukEql4PFKO+SyEl0Y/CPuC21wr6AIAjtbSDgu7df0O2NZFtOmTUN+fj7+/vtvtXVPFXt4smFPTfVRy1LccK7y3gxP3iuNnB6qElhc9uwJeAzC23oZ9W+CEPL2q/RDnaZkiuBzcXHB6dOn0alTJ43XyUqWZWdnQyAQoEaNGrCxscHOnTvxv//9Dy9fvsQ777yDqKgopRJdjJUtwDBgrGwh0Z55ctqW9i9btgzR0dH4559/YGWlei5hVlaW0oZ5fYc5y7PhnPbsEUJMxaKDj8fjgWVZSKU6xgw5EIvF8oUq6s7fUyTr8clOWVA8xqhatWoYPnw4Zs+ejXHTvsS49RfUzuNxZSfkq338r7/+wsqVK3H48GGl8mmKEhIS0KxZM3nPU9/gK0940Z49QoipWHTwMQxjlF5famY+pqw7DZePNuDJu1/Bcdwa/N+llxoXlsh6fI8ePYK3t7dS8D19+hQeHh4YMmQIhkasAcMzfDSaYaXIjovEN998g9zcXPnjUVFR+PTTT3Ho0CF4enpqfH1CQkK5VnSWJ7xozx4hxFQsOviA8g93yoYiTzwsBISlQ5EQ2mjdUiDr8aWmpsLLyws2NjbyfXyKe/j+TdR9Vp02NlZC/L1gKh49eoT69etj2bJliI2NxYcffogdO3agWbNmWl+vGHQlJSW4d+8emjblPp9mK+T256UuvGjPHiHEVCj4yhF8ios32DK/Sk1bCpKe58I2dAyCl5/Hj+m+OObYA4eeOyBHXPrhr1ink2uPqSzFpf0dWjTAxo0bcfr0aURFRSE4OBh9+/ZFaGiozvso9vju3Lkj751ykZ+fD9H98+BB+1CnpvAy5f5NQohlo+ArR/Dpu3gj6m4G+q68APvm75XuS2MYiMDHpRcC3PYZiKi7GUp1OrkO9wn5jNrzBhW3CXh6eiI9PR2TJ09Geno6GjVqhG3btmn82cViMW7duiXvFeozzMmyLCZMmICWtlmwFmr/GTSFl+L+TbDKbaQ9e4SQ8rD4CZLyBJ8+izcmhPhi6rY4FImlKvvSJADAF2Lqtjhk5EvkPb4BgR7YceWx1vfgAxjaRvuS/pKSEgwaNAgdOnTAb7/9BoZhcPr0acyZMweLFy/GDz/8IK+bKZOUlAR3d3f5cUn6BN9PP/2Ee/fu4dy5c4h59Pq/fXxSpZ9DwGMg5PO0hpds/+a7EyNg37QLCsVSo+zfJIRYNgq+cgSfPos3uPYOeY264m4Oi/AtZ3A/I0/nvcXiYuTE7IG4T0MIBKr/d7Isi4kTJ8LW1ha//vqrPNw6deqECxcu4ODBg5g7dy4WLVqEhQsXyvcfqitVNmPGDJ3tiYqKwtKlS3Hp0iXY2tqic4BtuYoPMPmZKDy3CQ//Wcp5/yAhhGjDsKya+k8WxNXVFYmJiXBzc9P7tU0jjiqX0tLA4b8hSy7XshIRGL5QzROsUsUSWY9pUR8//N+8jyESibB9+3aVqi9ff/01jh07hlOnTsHeXn3ISKVS7NixA9988w18fX2xcOFC7Nu3D1ZWVpg/fz5YloWbmxuuXbuGOnU0LyZ59OgRgoKCsGXLFnTr1k3nz8rF9u3bsWvXLuzdu9co9yOEEJrjK0ePb0CgB/g6OiGyxRtce4caty8ohJ6N8E0N0AFBDRAZGYlOnTqhdevWiIqKkl+3Zs0abN++Hf/++6/G0ANK9zMOGzYMt2/fxuDBgxEWFoZ169bJjzh69uwZpFIpPDw8NN6jqKgIgwYNwsyZM40WegBw/vx5hISEGO1+hBBi8T0+T09PXLx4EXXr1tX7tamZ+ej24ymIWM3fH2yFfEROD0Wf385x6vGV7dmp08DNAcc+Vd0gf+zYMYwePRr/+9//0KJFC0ycOBFnz55F/fr1db+vgsLCQri7u4PP56Nv377o0qULNm/ejJMnT8qvkZVR2xf/BPnFYvCkIri8Tsau7z6CT03VAtuGatmyJX7//XcEBwcb7Z6EEMtGPb5y9Pi8Xezhk34SQobVeXIEp8NqoTv0AODec/Vzf++99x5iY2Oxa9cuDBw4EBs3btQ79IDS4JNKpUhOToaPjw+mTp2KzMxMPH36FACUyqjlFYvBApDwhMhyaohev57T6zgkbV69eoX79++jVatWRrkfIYQAFHzlCj6JRIKr/27GtpFNEN7WS+uWAi770oyhuLgYL168QO/evTFp0iTExMTofQ9ZqbIaNWrg22+/Rc+ePVG7dm00bdoU/5vzLaZsvarhOCTodRySLjExMWjdurXaOqKEEGIoWtVZjuC7evUq6tSpg7aNfNG2EbRuKZDtS5uwIQYsw1OqyMJKxGAlYvCE1ihHoRZkZmaiV69emDt3Lj7++GPs378f/fr1w9y5czFt2jTOqyLLliq7e/cutm7dWnqU0op9KBSWqB4VpIDLcUhcnD9/Hh06dCjXPQghpCzq8ZUj+I4dO4bu3btzvr5zgCvavDyGVtUL5b1DRlSEGi9v4NnGabAqygJ0VDoBSuf4yiosLES/fv0wYMAAfPzxxwCA/v37IyYmBlu2bMEHH3ygVK9TG8U9e0VFRUhJSUGjRo1Qt25d5FRvoDX0AOOdmnDu3DkKPkKI0VHwlTP43nvvPb1eU5yZjmEN+LgR0QMPFvZBr4KTeNf+GcTZTyG4vgdcunwR7zdR+rdEIsHIkSPh5eWFRYsWKT3n5+eHc+fOwdXVFe+88w7i4+N13l+xx3fr1i34+/vD2toaQMWdmiAWi3HlyhW0b9++XPchhJCyKPgMDL7Xr1/j2rVrePfdd/V6naxAtUxQUBBevHgBPp+Pp/FnML6N6mnkimZ0q4/29WoqPfbZZ5/h5cuX2Lhxo/wIIUU2NjZYtWoVvv32W3Tv3h1r166FpsW8ukqVVdSpCdevX4eXl5d8SwUhhBiLxQefQCAwKPhOnz6Ntm3bws7OTq/XyY4kkgkODsalS5dQvY4/eG3DseN6JoD/+n0sC9nQZwM3B/w1IQjTuzZQut9PP/2EY8eOYd++ffJemSbDhg1DdHQ0fv75Z4wePRr5+aoLUHSVKmtfRwhWor03Z4xTE2iYkxBiKhYffHw+H2Kx/sNyhgxzAqo9vvr16yOvmhccPvgBDi3eQ35JaQizAFipBDYCPjaMaYNjn3ZU6en9/fff+PHHH3HkyBGlMNWmYcOGuHTpEhiGQVBQEG7fvq30vLpSZbLgy8jIwL/LPgWk2n9fxjg1gTauE0JMhVZ1GjjUefz4cWzfvl3v15Xt8cU8yIJ9r1kAj68yu8fwBSgSSzF561X0bFobJ29nIL9YDHtrAYLceDi4PAJHDx6El5eXXm2wt7fHxo0bsW7dOrz77rv49ddfER4eDqB0fk8WdCzLyoNPLBajX79+yH/2EBP9xfj7Cd+gwtNcsCyL8+fPY/HixQbfgxBCNKHgMyD4UlNTkZWVpddp5EDpB7pijy/qbgYmbI4F1MzLKSoWS3Eg/ol8vWdesRgnHohRfehSZNtqLiOmDcMwmDBhAt555x188MEHiI6OxooVK3D9+nX0Hz4e8/YlYk9cGqpN2owuq66hRu493Ex9jkULF+J/kz/E+Mx8rD33ALsuP0SxBHCwERrt1ISHDx9CKpXC15fO2iOEGB8FnwHBd/z4cXTr1k3tQhJt8vPzYW1tDaFQKD/EViJlwWUlZ9mlKAxfgBIpMHVbHCKnhxocNoGBgYiNjcX48ePRoUMHPGOckXTLGmJp6XFIDMMgr1iM18K6cB3zC5p0Ly0d5u1ij+/7N0Unh+dYsGCBUo3Q8pINc9JpDIQQU6A5PgODr7zze1yOKeJC8aBbQ1WvXh1///03uoeFg99xMorErEpVFoYvhAR8laosbm5ueP78ebnevyzauE4IMSUKPj2DTyKR4MSJE3ptXJfJzc2Vz+9xOcSWC2NtFmcYBhnOzcBTc6aforJBW7t2bTx79qzc76+IVnQSQkyJgk/P4IuLi0Pt2rW1nkunSU5OjrzHx3UjOBfl3Swucy6tBNB0LNJ/ygats7MzXr9+jZKSEqO0IScnBw8fPkRgYKBR7kcIIWVR8OkZfIYOcwLKQ51cN4JzUd7N4jIlUm5zaopBy+Px4OrqiowM45zIcPHiRbRp0wZCoZrDeAkhxAgo+PQMPkP37wHKWxm4HVOkmzE2i8swkmJO15UNWjc3N6MNd9IwJyHE1Cj49Ai+169f4+rVq3qXKZNR7PFxOaaIzzCw0nHEuzE2iwOlpcoKbp2BQNdfhFSCEM83vbHUzHywrYdgxL7n8J1zCE0jjmLevkSDjyWijeuEEFOj4NMj+M6cOYM2bdrA3t6wrQOKPT7ZMUU8qVilBBgDKWyFfKwd/Q6GexcAkhKdB92WV1JSEhzSLkHI52u9TshnsH/JdEyaNAn7Lt9Hz1+ikePSBEWS0i0XecVi7LjyGD1/idb7QNqSkhLExsbSaeuEEJOi4NMj+MozvweolitrVF2K9HUfw+FZPKwYKcBKIS3ORwD/BSKnhyLEzwlblszG4ner6TzotryuX7+OFvXqYNXwVrAV8jUG7erRQbh9JRqsvQum70pEoUgCllH+MxJLWYMOpL127Rrq1aun9DsihBBjow3segTfsWPHsHXrVoPfKycnB3Xr1pX/e/jw4bCXFsDu9kH8/FE3bNiwAevXr4dncDC8F4zDqlWr4O/vj6F9uwHQftBteclKlXUOcEXk9FCsPfcAe6+lI79EDHsrgUpVFreOwyC4/AgSLTsy9D2QloY5CSEVgYKPY/A9fvwYL1++RMuWLQ1+L8Ue34EDB3DlyhXMnj0bP/zwA2p4+uNhrSB4ftoD6Va2aPT1YbxOTMGaeQsMfj99XL9+HePHjwfwpiqLtsDaF/9Ea+gBb7Y+6BN8gwYN4txmQggxBA11cgw+Q8uUKZLN8eXm5mLKlCmQSqXo0qULXFt0xuB115DEuoFnbQeGYVAoZiFo+C5mHnup91yZIcoeP6SLsQ+kZVmWVnQSQiqExQcf1/P4jh07ZlC1FkWyHt+0ud/DscskuH28FUP3vwT77mQUiiQAU2ZhCcM3aK5MX1lZWcjNzYWPjw/n1xj7QNrk5GRYWVnpfdIEIYToy+KDj8t5fFKp1OAyZYpycnIQef0RTtu0R6FHICQ8IQAG0FGM2Rj1OLVJSEhAs2bN9OrNctmHqM8eQ1l9TipMTQgxNQo+DkOd165dg6urq9LCFEPkiIXY+tAGjNBaZ2kwRcaqx6lJQkKC0uGzXHDZh6jPHkMa5iSEVBQKPg7BZ4xhTgAo9g3RK/AUGasepzr6zu8Bb/Yhatv6oM8eQ1rRSQipKBR8HIOvPPv3gNLi1naNOwI87RvENTFWPU51DOnxAZBvfQhv6wVGVAQGhu0xzMzMRFpaGpo1a6Z3GwghRF8UfDqCLz8/H7GxsejYsaPB7yEWizF+/HgwVjYGvd6Y9TjLEovFuHXrlsGhI9v60Pj2evzaXoobET3wff+melWTuXDhAoKCgiDQcSQSIYQYAwWfjuA7c+YM3nnnHTg4OBj8Hr/++itsbGwAEbci0GXxGdYo9TjVSUpKgru7O6pVq1au+9SuXdvgA2lpmJMQUpEo+HQEX3nn91JSUrBw4ULMnj0bTOoVQMr9JAgBj4EAErTIizVKPU51rl+/btAwZ1nlOaGBTlwnhFQkix9b0hV8x48fx6ZNmzjdKzUzH2uiU7Av/gnyi8WwtxaA9/gqPpo1F46Ojsi/+i9qNAiBSEfFEwal++TCWtZBTx8r9O86DkWLvyztNRqZrFRZedWuXRv379/X+3XFxcWIi4tDUFBQudtACCFcUPBpCb60tDQ8f/6cU5myqLsZmLotDiKJFGJpabLlFYuBmk2wp9AKkoQ05KYnYcuHLTDjn1tK1wGlvTshn4dVw1upLApp0aIFDhw4gCFDhpTjJ1VPsVRZebi5uSE6Olrv1129ehUNGzYs91ArIYRwRUOdWoLv+PHj6Nq1K/g6jupJzczH1G1xKBRJlMIMAMAToFAkxc4n1eDTrA16tvCSr4R0sBYALAsrRqJ1JeS4ceOwYcMGg39GbQzZyqCOm5ubQXN8NMxJCKloFHxago/rNoY10SkQSaRar5GyDJzblRZglq2EvBHRA1Z7ZuLvD721roQMCwvDpUuXkJ5u3E3shpQq06R27doGzfHRxnVCSEWj4NMQfPqUKdsX/0S1p1cGwxcgs1o9pcdSU1ORk5OjcyuBnZ0dPvjgA2zevFlnW/RhSKkyTQzp8bEsiwsXLlDwEUIqFAWfhuCLj4+Hi4sLp6LJXE8qEEF5yPTEiRPo2rUrp+AZO3Ys1q9fD5bVsTJGD4ZuXFenRo0aKCoqQmFhIefX3Lt3D/b29vD09DRKGwghhAsKPg3Bp0+1Fq4nFVjzlEPrxIkT6NatG6fXBgUFQSgU4vz585yu58JY83sAwDCM3r0+GuYkhJgDBZ+G4Dt+/Djn4ONyUgFYCVq7vJkHlEqlOHnyJOfgYxgGY8eONeoiF2P2+AD9N7HTwhZCiDlYfPCpO48vPz8fly9f5lymjMtJBYxUij71bOX/TkxMRPXq1eHt7c25rSNHjsSePXuQl5fH+TWalLdUmTr6bmKnii2EEHOw+OBTdx7f2bNn0apVK857y7SdVACpBLZCPqpd34EGHk7yh/UZ5pSpXbs2QkNDsXv3br1ep46xSpUp0meoMyMjA8+fP0eTJk2M9v6EEMIFBZ+aoU59hjllFE8qcLAWgGEARlyMDm4sIqeHoiA5FtWrV5dfb0jwATDacKexSpUp0mdLw4ULFxAcHKxzjyQhhBgbBZ+a4DP0GCLF/XmHRviieNv/sPGT3vB2sUdubi5q1KgBoLRM17lz59C5c2e936NPnz64ffs2kpKS9H6tImOVKlOkT4+PhjkJIeZCwVcm+NLT0/H06VO0atWqXPf9888/MX78eAiFQrAsi5ycHHmPLyYmBg0bNoSzs7Pe97WyssLw4cOxcePGcrXPVD0+rsFHKzoJIeZCwVcm+GR768ozBFdQUICtW7di4sSJAIDCwkIIBAJYW1vL38OQYU6ZcePGYdOmTToP0NXGmFsZZLgubiksLERCQgLatm1r1PcnhBAuKPjKBJ8xTlvfuXMn2rVrJ9/8rtjbA8offM2aNYObmxtOnjxp0OuNWapMEdehztjYWDRp0gT29qY5aokQQrSh4FMIPqlUiuPHj5fr/D2gdJhz8uTJ8n8rzu/l5uYiMTGx3MN8skouhjBmqTJFXBe30DAnIcScKPgUgu/69etwcnLSa29dWdeuXcOTJ0/Qq1cv+WO5ubnyHt/p06fRrl27cp+tFx4ejsjISGRnZ+v9WmNvXJdxdHSESCRCQUGB1uto4zohxJwo+BSCz5BtDGX9+eefmDRpktIcYU5OjrzHV95hThlnZ2f07NkT27dv1/u1ppjfA0qry+ha4CKVSqkwNSHErCj4FILv2LFj5RrmfP36NXbu3KlysKtij89YwQcYvqfPVD0+QPcCl9u3b8PJyQnu7u4meX9CCNGFgu+/4CsoKMClS5fQqVMng++1bds2dO3aVeVDXdbjS0tLQ0ZGBgIDA8vX6P9069YNz549Q2JiIufXmKJUmSJdPT4a5iSEmBsF33/BFx0djZYtW8LR0dGg+7Asiz/++ENpUYuMrMd38uRJdOnSxWjVSvh8PkaPHq1Xr88UpcoU6erx0cZ1Qoi5UfD9F3zlHea8dOkS8vPz0aVLF5XnZNsZjDnMKTNmzBhs27YNJSUlnK43xcZ1Rbq2NNCKTkKIuVHwKQRfeRa2/PHHH/joo4/UbhGQ9fhMEXz+/v4ICAjAoUOHOF1vilJlirRtaXj27Bmys7PRqFEjk70/IYToYrHBl5qZj3n7EjH1VCEeBM3Cq/fm48ATW6Rm5ut9r6ysLOzfvx9jxoxR+3xOTg7y8vJgY2MDPz+/crZc1bhx4zgPd5qzx3f+/Hm0b9/e6PsHCSFEHxb5CRR1NwM9f4nGjiuPUSQBwDBgrGyxMzYNPX+JRtTdDL3ut3nzZvTp0wc1a9ZU+3xubi5SUlLQrVs3MIyOA2sNMHjwYERHR3PaPG6qrQwy2ha30DAnIaQysLjgS83Mx9RtcSgUSSCWskrPiaUsCkUSTN0Wx7nnp21Ri0xOTg5u3rxp9GFOGQcHB4SFhWHr1q1arzNVqTJF2ha30IpOQkhlYHHBtyY6BSKJVOs1IokUa8894HS/M2fOQCAQqHygy4ZSm0YcRVrIbKS1m4ErrJ9BQ6lcyEqYsSyr8RpTlSpTpKnHl5+fj5s3b6JNmzYme29CCOHC4oJvX/wTlZ5eWWIpi73X0jndT9bbUxzCVBxKzSsWAwwDnpUd9iW+MGgolYuQkBCIRCJcvnxZ4zWm3Lgu4+DgAKlUiry8PKXHL1++jObNm8PW1tak708IIbpYXPDlF4u5XVei+7rnz5/j6NGjGDlypPwxYw+lcsUwjM5KLqae35O1Q90CFxrmJIRUFhYXfPbWAk7X8aViPHnyROkxxeFL3zmHEPLzJTQZ/R1yxG/uaeyhVH2MGjUKu3bt0lgkuiJ6fID6LQ20cZ0QUllYXPANCPSAgKd9ZaWAATzFT9C0aVNMnDgR9+7dUxm+ZAGIwMdTOz+l4UtjD6Xqw9PTE0FBQdi7d6/qe5q4VJmisj0+iUSCixcvon379iZ/b0II0cXigm9iqB+EfO0/tlDAx6Y5o3Dv3j14enoitFcYxq+/oHb4UsJCafjSmEOphtA03GnqUmWKyi5wuXnzJlxdXeHq6mry9yaEEF0YVtsywLdU1N0MTN0WB5FEqhRkAh4DIZ+HVcNboXPAmw/p2buvYdfVdEihuaco4AHN7V4jLkcICHSftedgLcCNiB7l+0HUKCoqgqenJ2JjY5W2LezcuRM7d+7Enj17jP6eMqmZ+VgTnYKdl1IgAh8O1kIMCPSA3aMYJMVfNPjgXEIIMSZuE15vmc4BroicHoq10SnYdPYO+NZ2sLcWIKxlHUwI8QUAzNuXiH3xT5D/37AmtIQeAIilQHyuNTp6WeP8M2gd7hTwGIS1rGO8H0iBjY0Nhg4dik2bNmH+/Pnyx01dqkzpy8R/f1Z5xWLsuPIYUrErPgzsbLL3JoQQfVhkj0/m+fPnaNKkCV6+fCl/TFNvkAuGAU7P6oSev0SjUCTReJ2tkI/I6aHwdrE3uO3axMXFYdCgQUhOTpbv2evbty/Gjx+PsLAwo79fama+zp/ZWsDg2KcdTfYzE0IIVxY3x6fowYMHSsOB2rYicGFvJYC3iz1WDW8FWyFfZRGNgMfAVsjHquGtTBoAsuOVzpw5I3/MlFsZuKxklUhhkpWshBCiL4sPPl9fX/m/uXyAa6I4fCkbSg1v6wUHawEYpnROL7ytFyKnhyrNH5qCbE+fbE7N1KXKzLmSlRBC9GWRc3wyZYOPywe4JkI+Tz4/CADeLvb4vn9TfN+/abnbaYiOfQZh8cmHaDI/EvklErh8tBHfHLiJiaF+Ru9tmnslKyGE6IN6fArBx/UDXFFFDV/qI+puBoZtuQmbJl2QX1I678YKrLHjymOTlEzjWhTA3sqiv2cRQioJCj6F4OP6AQ6gwocvuVKcpwTDV3rOVCXTOBUFMOFKVkII0QcFn0Lwcf0AHxnsjQcL++BGRA98379ppenpAeYpmcapKECZoWBCCDEXiw0+iUSCtLQ0eHt7yx97Gz7AzbHQRNtKVoaVVrqhYEKIZbPY4EtPT0fNmjVhY/Omykpl2IpQXuZaaKK4kpURF4EBwBMXI6Q2U6mGggkhxGJXG5Qd5pSRV3U59wB7r6XhdZEI1Wys5FVdKnPoAaXzlHkcws8UC01kK1n/b+y7uHnzJgICAvDzgwdwqeS/M0KIZaHgU0NxK0KdOnVw6MIFpSHRymxAoAd2XHlstpJpWVlZkEgkePr0KTw9PeHi4mKS9yGEEENZ7FCntuBTVK9ePSQnJ1dAi4yDyzwlKxFhbDvTBHlycjLq1atHB88SQiotCj4dqlrw6ZqntBHwUOvufnw2eTQKCwuN/v7Jycnw9/en4COEVFoUfDpUteADtJdMO/rpuziz43fY2dmha9euSgW6jSEpKQl+fn44d+4cBR8hpFKiOT4d6tWrZ9Iz7ExFV8m0zZs3Y+7cuWjfvj0iIyPh5+dnlPdNTk5Go0aNIBKJ4O/vb5R7EkKIMVlkj6+4uBgvXryAp6enzmurYo+PCx6Ph0WLFmHGjBkICQnBlStXjHLfpKQkvHr1Ch06dADDaC8GQAgh5mBR5/HJTgjfE/cYBSVSONiUnhCurXBzZmYm/Pz8kJOT89Z+kB84cADjx4/Hhg0b0Ldv33Ldy8PDA927d0fz5s0xa9YsI7WQEEKMx2J6fFF3M9Dzl2jsuPIYBSIWYBj5CeHaCjc7OzuDYRhkZWVVcIsrTr9+/XDw4EFMnDgRf/75p8H3yc/PR3Z2NuLj4xESEmLEFhJCiPFYRPBpO2BWV+FmhmHe2uFORUFBQYiOjsby5csxd+5cGDIQkJKSAi8vLyQnJ6Nly5YmaCUhhJSfRQRfeQs3W0LwAYC/vz8uXLiAkydPYtSoUSgpKdHr9UlJSXByckLr1q1hZWVlolYSQkj5WETwlbdws6UEHwDUqlULp06dwuvXr9G7d2/k5uZyfm1ycjJYlqVhTkJIpWYRwVfews2WFHwAYGdnh3/++QcBAQEIDQ1FWloap9clJSUhJyeH9u8RQio1iwi+8p4QbmnBBwB8Ph8rV67EiBEj0L59eyQmJup8zf379/H48WO0a9euAlpICCGGsYjgK+8J4X5+fhYXfEDpwp4vvvgCS5YsQdeuXXHq1Cmt19++fRt169aFk5NTBbWQEEL0ZxHBV94DZj09PZGZmWmS2pZVQXh4OHbu3ImhQ4di27Ztaq8pKSlBRkYGOnbsWMGtI4QQ/VhE8JX3gFk+nw9vb2+kpKRURHMrpc6dO+PUqVP46quvsHjxYpXtDg8fPoSNjQ1CQ0PN1EJCCOHG4iq3lB4wm478EjHsrQScD5jt3bs3Jk+ejH79+lVQayun9PR09O7dGx06dMCvv/6K9NxirIlOwe7YRygUS2FvJcDAVp5aq+EQQog5WVTwlccnn3wCPz8/zJgxw9xNMbtXr15h0KBBENVqgGf+fSGWsErbRQQ8BkI+D6uGt0LnAFcztpQQQlRZxFCnMVjiyk5NHB0d8fuWv/Go7nsoEkn1roZDCCHmRMHHEQWfso0xj8ETCLVeo60aDiGEmAsFH0cUfMrKWw2HEELMhYKPI19fXzx69AgSicTcTakUylsNhxBCzIWCjyNbW1vUrFmTc/mut115q+EQQoi5UPDpgYY73yhvNRxCCDEXCj49UPC9Ud5qOIQQYi4UfHqg4HtDazUcBmBFxRhdr4Q2sRNCKh0KPj1Q8CnrHOCKyOmhCG/rBQdrARgGcLAWIDzIG7/2ro0fPxuPhIQEczeTEEKUUOUWjlIz8/HDPzE4dj8HjMAG9tYCDAj0oNJcWuzYsQOzZ8/GpUuX4ObmZu7mEEIIAAo+TqLuZmDqtjiIJBKIpW8ep9JcukVERODo0aOIioqCjY2NuZtDCCEUfLqkZuaj5y/RKBRp3r9nK+Qjcnoo9fzUkEqlCA8Ph0AgwNatW8Ew2leCEkKIqdEcnw5rolMgkki1XkOluTTj8XjYuHEj7t+/jx9++MHczSGEEAo+Xag0V/nZ2tpi//79WL16NXbv3m3u5hBCLByV1dCBSnMZh7u7O/bv34/33nsPPj4+eOedd8zdJEKIhaIenw5Umst4WrZsiT///BNhYWFIT6ceMiHEPCj4dKDSXMY1cOBATJ06Ff3790dBQYG5m0MIsUAUfDpQaS7jmz17Nho3boxRo0ZBKtW+cIgQQoyNgk8HraW5eAxshXysGt6KtjLogWEYrFmzBk+fPsX8+fPN3RxCiIWhfXwcpWbmY+25B9h7LR35JWLYWwkQ1rIOJoT4UugZKCMjA0FBQViwYAFCeg7AmugU7It/gvxiMVXGIYSYDAUfMavExER0HzUd1fvMgoRllLaOUGUcQogp0FAnMStHDz849p6FYglU9kuKpSwKRRJM3RaH1Mx8M7WQEPK2oeAjZrUmOgVSaF81S5VxCCHGRMFHzIoq4xBCKhoFHzErqoxDCKloFHzErKgyDiGkolHwEbOiyjiEkIpGwUfMiirjEEIqGgUfMSuqjEMIqWi0gZ1UClQZhxBSUSj4CCGEWBQa6iSEEGJRKPgIIYRYFAo+QgghFoWCjxBCiEWh4COEEGJRKPgIIYRYFAo+QgghFoWCjxBCiEWh4COEEGJRKPgIIYRYFAo+QgghFoWCjxBCiEWh4COEEGJRKPgIIYRYFAo+QgghFoWCjxBCiEWh4COEEGJRKPgIIYRYFAo+QgghFoWCjxBCiEWh4COEEGJRKPgIIYRYFAo+QgghFoWCjxBCiEWh4COEEGJRKPgIIYRYFAo+QgghFoWCjxBCiEWh4COEEGJRKPgIIYRYFAo+QgghFoWCjxBCiEWh4COEEGJRKPgIIYRYFAo+QgghFuX/AQKlC9TLeitvAAAAAElFTkSuQmCC\n",
          "text/plain": "<Figure size 432x288 with 1 Axes>"
         },
         "metadata": {},
         "output_type": "display_data"
        },
        {
         "data": {
          "image/png": "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\n",
          "text/plain": "<Figure size 432x288 with 1 Axes>"
         },
         "metadata": {},
         "output_type": "display_data"
        },
        {
         "data": {
          "image/png": "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\n",
          "text/plain": "<Figure size 432x288 with 1 Axes>"
         },
         "metadata": {},
         "output_type": "display_data"
        },
        {
         "data": {
          "image/png": "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\n",
          "text/plain": "<Figure size 432x288 with 1 Axes>"
         },
         "metadata": {},
         "output_type": "display_data"
        },
        {
         "data": {
          "image/png": "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\n",
          "text/plain": "<Figure size 432x288 with 1 Axes>"
         },
         "metadata": {},
         "output_type": "display_data"
        },
        {
         "data": {
          "image/png": "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\n",
          "text/plain": "<Figure size 432x288 with 1 Axes>"
         },
         "metadata": {},
         "output_type": "display_data"
        },
        {
         "data": {
          "image/png": "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\n",
          "text/plain": "<Figure size 432x288 with 1 Axes>"
         },
         "metadata": {},
         "output_type": "display_data"
        }
       ]
      }
     },
     "499e321e5409490d8d68ad7b5d44a144": {
      "model_module": "@jupyter-widgets/controls",
      "model_module_version": "1.5.0",
      "model_name": "HBoxModel",
      "state": {
       "children": [
        "IPY_MODEL_27c53e4dd0f64b479933cc10fc8e3851",
        "IPY_MODEL_2a01ed60ccc443b8acff514639477918",
        "IPY_MODEL_762d80b963cf4874930289e3c348ef22"
       ],
       "layout": "IPY_MODEL_a44ac367619c447483c6dba4c410118b"
      }
     },
     "6f001daef70c4d28be1c1b76ce596943": {
      "model_module": "@jupyter-widgets/controls",
      "model_module_version": "1.5.0",
      "model_name": "HBoxModel",
      "state": {
       "children": [
        "IPY_MODEL_cfbe8b8f3b6a4603bae1322ab8c97bf9"
       ],
       "layout": "IPY_MODEL_000eebbcba5e4366aee524fdc1695692"
      }
     },
     "72c95f7d4bc94eea8d21788a7fac8614": {
      "model_module": "@jupyter-widgets/base",
      "model_module_version": "1.2.0",
      "model_name": "LayoutModel",
      "state": {}
     },
     "762d80b963cf4874930289e3c348ef22": {
      "model_module": "@jupyter-widgets/controls",
      "model_module_version": "1.5.0",
      "model_name": "HTMLModel",
      "state": {
       "layout": "IPY_MODEL_34694f16e3bf4b6a8734239578c46fa8",
       "style": "IPY_MODEL_43544ddc71804e859a5a74eb32739516",
       "value": " 28/79 [00:07&lt;00:13,  3.90it/s]"
      }
     },
     "768248bac1e14197a3ec2b0921d226b8": {
      "model_module": "@jupyter-widgets/controls",
      "model_module_version": "1.5.0",
      "model_name": "VBoxModel",
      "state": {
       "children": [
        "IPY_MODEL_f7dd2fbacc994f35a504c36ce2c7e79c",
        "IPY_MODEL_1df2ba7d8c704cf6a392576c2241544a"
       ],
       "layout": "IPY_MODEL_aac12f05ce0941b28873ef738b92bd49"
      }
     },
     "86c529bcb9f547df9e37b528ae9d3d0b": {
      "model_module": "@jupyter-widgets/base",
      "model_module_version": "1.2.0",
      "model_name": "LayoutModel",
      "state": {
       "height": "500px",
       "overflow_y": "auto"
      }
     },
     "8de325358d89423cb121761772e57129": {
      "model_module": "@jupyter-widgets/base",
      "model_module_version": "1.2.0",
      "model_name": "LayoutModel",
      "state": {}
     },
     "8e4febe6b7ad41d2ba8942b5b135002c": {
      "model_module": "@jupyter-widgets/base",
      "model_module_version": "1.2.0",
      "model_name": "LayoutModel",
      "state": {}
     },
     "a44ac367619c447483c6dba4c410118b": {
      "model_module": "@jupyter-widgets/base",
      "model_module_version": "1.2.0",
      "model_name": "LayoutModel",
      "state": {}
     },
     "aac12f05ce0941b28873ef738b92bd49": {
      "model_module": "@jupyter-widgets/base",
      "model_module_version": "1.2.0",
      "model_name": "LayoutModel",
      "state": {}
     },
     "ad8efd01ebb14c34a3a97db4e60cd32c": {
      "model_module": "@jupyter-widgets/base",
      "model_module_version": "1.2.0",
      "model_name": "LayoutModel",
      "state": {}
     },
     "afd23a073a8e4c4ca69bc607c8e94722": {
      "model_module": "@jupyter-widgets/controls",
      "model_module_version": "1.5.0",
      "model_name": "ProgressStyleModel",
      "state": {
       "description_width": ""
      }
     },
     "cfbe8b8f3b6a4603bae1322ab8c97bf9": {
      "model_module": "@jupyter-widgets/output",
      "model_module_version": "1.0.0",
      "model_name": "OutputModel",
      "state": {
       "layout": "IPY_MODEL_f185c4adcdd44912bf2fc3c7aa5cb838",
       "outputs": [
        {
         "name": "stdout",
         "output_type": "stream",
         "text": "[2756] stress=920.38(61.36%) xing=99.53(77.78%)\n[2757] stress=930.34(61.47%) xing=99.53(77.88%)\n[2758] stress=921.90(61.15%) xing=103.17(77.83%)\n[2759] stress=921.30(61.23%) xing=99.37(77.96%)\n[2760] stress=961.61(61.73%) xing=99.97(77.38%)\n[2761] stress=954.65(61.76%) xing=100.90(77.54%)\n[2762] stress=925.80(61.36%) xing=101.64(77.69%)\n"
        }
       ]
      }
     },
     "d9807481243b4678a2c7aaf924bd1f38": {
      "model_module": "@jupyter-widgets/controls",
      "model_module_version": "1.5.0",
      "model_name": "HBoxModel",
      "state": {
       "children": [
        "IPY_MODEL_47bdb97b6f5d406da884a2ecf0deea22"
       ],
       "layout": "IPY_MODEL_86c529bcb9f547df9e37b528ae9d3d0b"
      }
     },
     "e54eea2154a44488a906c5e69ecec185": {
      "model_module": "@jupyter-widgets/controls",
      "model_module_version": "1.5.0",
      "model_name": "DescriptionStyleModel",
      "state": {
       "description_width": ""
      }
     },
     "f185c4adcdd44912bf2fc3c7aa5cb838": {
      "model_module": "@jupyter-widgets/base",
      "model_module_version": "1.2.0",
      "model_name": "LayoutModel",
      "state": {}
     },
     "f7dd2fbacc994f35a504c36ce2c7e79c": {
      "model_module": "@jupyter-widgets/output",
      "model_module_version": "1.0.0",
      "model_name": "OutputModel",
      "state": {
       "layout": "IPY_MODEL_fc6d4ca42fe14f109f0d6576cb2c47e7",
       "outputs": [
        {
         "data": {
          "application/vnd.jupyter.widget-view+json": {
           "model_id": "499e321e5409490d8d68ad7b5d44a144",
           "version_major": 2,
           "version_minor": 0
          },
          "text/plain": "  0%|          | 0/79 [00:00<?, ?it/s]"
         },
         "metadata": {},
         "output_type": "display_data"
        }
       ]
      }
     },
     "fc6d4ca42fe14f109f0d6576cb2c47e7": {
      "model_module": "@jupyter-widgets/base",
      "model_module_version": "1.2.0",
      "model_name": "LayoutModel",
      "state": {}
     }
    },
    "version_major": 2,
    "version_minor": 0
   }
  }
 },
 "nbformat": 4,
 "nbformat_minor": 4
}
