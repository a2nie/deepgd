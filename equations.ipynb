{
 "cells": [
  {
   "cell_type": "markdown",
   "metadata": {},
   "source": [
    "# SoftAdapt"
   ]
  },
  {
   "cell_type": "markdown",
   "metadata": {},
   "source": [
    "$$\n",
    "\\text{smooth}(L^{(t)}) =\n",
    "\\begin{cases}\n",
    "    L^{(1)} & t = 1 \\\\\n",
    "    \\tau \\cdot \\text{smooth}(L^{(t-1)}) + (1 - \\tau) \\cdot L^{(t)}  & \\text{otherwise} \\\\\n",
    "\\end{cases}\n",
    "$$"
   ]
  },
  {
   "cell_type": "markdown",
   "metadata": {},
   "source": [
    "$$\n",
    "\\alpha_k^{(t)} = \n",
    "\\frac{\n",
    "    e^{\\beta s_k^{(t)}}\n",
    "}{\n",
    "    \\sum_{l=1}^n e^{\\beta s_l^{(t)}}\n",
    "},\n",
    "\\quad \\text{where } \n",
    "\\begin{cases}\n",
    "    s_k^{(t)} = \n",
    "    \\underset{k \\in \\{1 \\ldots n\\}}{\\text{normalize}_{L1}} \\bigg(\\frac{\n",
    "        f_k^{(t)} - f_k^{(t-1)}\n",
    "    }{\n",
    "        f_k^{(t-1)}\n",
    "    }\\bigg) \\\\\n",
    "    f_k^{(t)} = \\text{smooth}(L_k^{(t)}) \\\\\n",
    "\\end{cases}\n",
    "$$"
   ]
  },
  {
   "cell_type": "markdown",
   "metadata": {},
   "source": [
    "$$\n",
    "L^{(t)} = \\sum_{k=1}^n \\alpha_k^{(t)} L_k^{(t)}\n",
    "$$"
   ]
  },
  {
   "cell_type": "markdown",
   "metadata": {},
   "source": [
    "# SoftAdapt (revised)"
   ]
  },
  {
   "cell_type": "markdown",
   "metadata": {},
   "source": [
    "$\\tau$: smoothing factor </br>\n",
    "$\\beta$: sensitivity factor </br>\n",
    "$\\gamma$: importance vector </br>\n",
    "$p$: exploitation rate"
   ]
  },
  {
   "cell_type": "markdown",
   "metadata": {},
   "source": [
    "Step 1.\n",
    "$$\n",
    "\\text{smooth}(L^{(t)}) =\n",
    "\\begin{cases}\n",
    "    L^{(1)} & t = 1 \\\\\n",
    "    \\tau \\cdot \\text{smooth}(L^{(t-1)}) + (1 - \\tau) \\cdot L^{(t)}  & \\text{otherwise} \\\\\n",
    "\\end{cases}\n",
    "$$"
   ]
  },
  {
   "cell_type": "markdown",
   "metadata": {},
   "source": [
    "Step 2.\n",
    "$$\n",
    "q \\sim \\text{Uniform}(0,1) \\\\\n",
    "\\beta^* = \n",
    "\\begin{cases}\n",
    "    -\\beta & \\text{if } q < p \\\\\n",
    "    \\beta & \\text{otherwise}\n",
    "\\end{cases}\n",
    "$$"
   ]
  },
  {
   "cell_type": "markdown",
   "metadata": {},
   "source": [
    "Step 3.\n",
    "$$\n",
    "\\alpha_k^{(t)} = \n",
    "\\frac{\n",
    "    \\frac{\\gamma_k}{f_k^{(t)}} e^{\\beta^* s_k^{(t)}}\n",
    "}{\n",
    "    \\sum_{l=1}^n \\frac{\\gamma_l}{f_l^{(t)}} e^{\\beta^* s_l^{(t)}}\n",
    "},\n",
    "\\quad \\text{where } \n",
    "\\begin{cases}\n",
    "    s_k^{(t)} = \n",
    "    \\underset{k \\in \\{1 \\ldots n\\}}{\\text{normalize}_{L1}} \\bigg(\\frac{\n",
    "        f_k^{(t)} - f_k^{(t-1)}\n",
    "    }{\n",
    "        f_k^{(t-1)}\n",
    "    }\\bigg) \\\\\n",
    "    f_k^{(t)} = \\text{smooth}(L_k^{(t)}) \\\\\n",
    "\\end{cases}\n",
    "$$"
   ]
  },
  {
   "cell_type": "markdown",
   "metadata": {},
   "source": [
    "Step 4.\n",
    "$$\n",
    "L^{(t)} = \\sum_{k=1}^n \\alpha_k^{(t)} L_k^{(t)}\n",
    "$$"
   ]
  },
  {
   "cell_type": "code",
   "execution_count": null,
   "metadata": {},
   "outputs": [],
   "source": []
  }
 ],
 "metadata": {
  "kernelspec": {
   "display_name": "Python 3",
   "language": "python",
   "name": "python3"
  },
  "language_info": {
   "codemirror_mode": {
    "name": "ipython",
    "version": 3
   },
   "file_extension": ".py",
   "mimetype": "text/x-python",
   "name": "python",
   "nbconvert_exporter": "python",
   "pygments_lexer": "ipython3",
   "version": "3.7.6"
  },
  "widgets": {
   "application/vnd.jupyter.widget-state+json": {
    "state": {},
    "version_major": 2,
    "version_minor": 0
   }
  }
 },
 "nbformat": 4,
 "nbformat_minor": 4
}
